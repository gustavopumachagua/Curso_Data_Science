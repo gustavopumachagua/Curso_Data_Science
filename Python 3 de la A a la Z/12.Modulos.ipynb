{
 "cells": [
  {
   "attachments": {},
   "cell_type": "markdown",
   "metadata": {},
   "source": [
    "# **12. Módulos**"
   ]
  },
  {
   "attachments": {},
   "cell_type": "markdown",
   "metadata": {},
   "source": [
    "## **Que es un modulo**"
   ]
  },
  {
   "attachments": {},
   "cell_type": "markdown",
   "metadata": {},
   "source": [
    "Un módulo es un archivo que contiene un conjunto de códigos o un conjunto de funciones que se pueden incluir en una aplicación. Un módulo podría ser un archivo que contenga una sola variable, una función o una gran base de código."
   ]
  },
  {
   "attachments": {},
   "cell_type": "markdown",
   "metadata": {},
   "source": [
    "## **Importar módulos integrados**"
   ]
  },
  {
   "attachments": {},
   "cell_type": "markdown",
   "metadata": {},
   "source": [
    "Al igual que otros lenguajes de programación, también podemos importar módulos importando el archivo/función usando la palabra clave importar . Importemos el módulo común que usaremos la mayor parte del tiempo. Algunos de los módulos incorporados comunes: ```matemáticas , fecha y hora , os , sys , aleatorio , estadísticas , colecciones , json , re```"
   ]
  },
  {
   "attachments": {},
   "cell_type": "markdown",
   "metadata": {},
   "source": [
    "## **Módulo del sistema operativo**"
   ]
  },
  {
   "attachments": {},
   "cell_type": "markdown",
   "metadata": {},
   "source": [
    "Usando el módulo python ```os``` es posible realizar automáticamente muchas tareas del sistema operativo. El módulo del sistema operativo en Python proporciona funciones para crear, cambiar el directorio de trabajo actual y eliminar un directorio (carpeta), recuperar su contenido, cambiar e identificar el directorio actual."
   ]
  },
  {
   "attachments": {},
   "cell_type": "markdown",
   "metadata": {},
   "source": [
    "```\n",
    "# import the module\n",
    "import os\n",
    "# Creating a directory\n",
    "os.mkdir('directory_name')\n",
    "# Changing the current directory\n",
    "os.chdir('path')\n",
    "# Getting current working directory\n",
    "os.getcwd()\n",
    "# Removing directory\n",
    "os.rmdir()\n",
    "```"
   ]
  },
  {
   "attachments": {},
   "cell_type": "markdown",
   "metadata": {},
   "source": [
    "## **Módulo del sistema**"
   ]
  },
  {
   "attachments": {},
   "cell_type": "markdown",
   "metadata": {},
   "source": [
    "El módulo sys proporciona funciones y variables que se utilizan para manipular diferentes partes del entorno de tiempo de ejecución de Python. La función sys.argv devuelve una lista de argumentos de la línea de comandos pasados ​​a un script de Python. El elemento en el índice 0 de esta lista siempre es el nombre del script, en el índice 1 está el argumento pasado desde la línea de comando."
   ]
  },
  {
   "cell_type": "code",
   "execution_count": 1,
   "metadata": {},
   "outputs": [
    {
     "name": "stdout",
     "output_type": "stream",
     "text": [
      "Welcome --ip=127.0.0.1. Enjoy  --stdin=9003 challenge!\n"
     ]
    }
   ],
   "source": [
    "import sys\n",
    "#print(sys.argv[0], argv[1],sys.argv[2])  # this line would print out: filename argument1 argument2\n",
    "print('Welcome {}. Enjoy  {} challenge!'.format(sys.argv[1], sys.argv[2]))"
   ]
  },
  {
   "attachments": {},
   "cell_type": "markdown",
   "metadata": {},
   "source": [
    "## **Módulo de estadísticas**"
   ]
  },
  {
   "attachments": {},
   "cell_type": "markdown",
   "metadata": {},
   "source": [
    "El módulo de estadísticas proporciona funciones para estadísticas matemáticas de datos numéricos. Las funciones estadísticas populares que se definen en este módulo: media , mediana , moda , desviación estándar , etc."
   ]
  },
  {
   "cell_type": "code",
   "execution_count": 5,
   "metadata": {},
   "outputs": [
    {
     "name": "stdout",
     "output_type": "stream",
     "text": [
      "21.09090909090909\n",
      "22\n",
      "20\n",
      "6.106628291529549\n"
     ]
    }
   ],
   "source": [
    "from statistics import * # importing all the statistics modules\n",
    "ages = [20, 20, 4, 24, 25, 22, 26, 20, 23, 22, 26]\n",
    "print(mean(ages))       # ~22.9\n",
    "print(median(ages))     # 23\n",
    "print(mode(ages))       # 20\n",
    "print(stdev(ages))      # ~2.3"
   ]
  },
  {
   "attachments": {},
   "cell_type": "markdown",
   "metadata": {},
   "source": [
    "## **Módulo Matemático**"
   ]
  },
  {
   "attachments": {},
   "cell_type": "markdown",
   "metadata": {},
   "source": [
    "Módulo que contiene muchas operaciones matemáticas y constantes."
   ]
  },
  {
   "cell_type": "code",
   "execution_count": 6,
   "metadata": {},
   "outputs": [
    {
     "name": "stdout",
     "output_type": "stream",
     "text": [
      "3.141592653589793\n",
      "1.4142135623730951\n",
      "8.0\n",
      "9\n",
      "10\n",
      "2.0\n"
     ]
    }
   ],
   "source": [
    "import math\n",
    "print(math.pi)           # 3.141592653589793, pi constant\n",
    "print(math.sqrt(2))      # 1.4142135623730951, square root\n",
    "print(math.pow(2, 3))    # 8.0, exponential function\n",
    "print(math.floor(9.81))  # 9, rounding to the lowest\n",
    "print(math.ceil(9.81))   # 10, rounding to the highest\n",
    "print(math.log10(100))   # 2, logarithm with 10 as base"
   ]
  },
  {
   "attachments": {},
   "cell_type": "markdown",
   "metadata": {},
   "source": [
    "Ahora, hemos importado el módulo matemático que contiene muchas funciones que pueden ayudarnos a realizar cálculos matemáticos. Para verificar qué funciones tiene el módulo, podemos usar help(math) o dir(math) . Esto mostrará las funciones disponibles en el módulo. Si queremos importar solo una función específica del módulo, la importamos de la siguiente manera:"
   ]
  },
  {
   "cell_type": "code",
   "execution_count": 7,
   "metadata": {},
   "outputs": [
    {
     "name": "stdout",
     "output_type": "stream",
     "text": [
      "3.141592653589793\n"
     ]
    }
   ],
   "source": [
    "from math import pi\n",
    "print(pi)"
   ]
  },
  {
   "attachments": {},
   "cell_type": "markdown",
   "metadata": {},
   "source": [
    "También es posible importar múltiples funciones a la vez"
   ]
  },
  {
   "cell_type": "code",
   "execution_count": 8,
   "metadata": {},
   "outputs": [
    {
     "name": "stdout",
     "output_type": "stream",
     "text": [
      "3.141592653589793\n",
      "1.4142135623730951\n",
      "8.0\n",
      "9\n",
      "10\n",
      "2.0\n"
     ]
    }
   ],
   "source": [
    "\n",
    "from math import pi, sqrt, pow, floor, ceil, log10\n",
    "print(pi)                 # 3.141592653589793\n",
    "print(sqrt(2))            # 1.4142135623730951\n",
    "print(pow(2, 3))          # 8.0\n",
    "print(floor(9.81))        # 9\n",
    "print(ceil(9.81))         # 10\n",
    "print(math.log10(100))    # 2\n"
   ]
  },
  {
   "attachments": {},
   "cell_type": "markdown",
   "metadata": {},
   "source": [
    "Pero si queremos importar todas las funciones en el módulo matemático, podemos usar * ."
   ]
  },
  {
   "cell_type": "code",
   "execution_count": 9,
   "metadata": {},
   "outputs": [
    {
     "name": "stdout",
     "output_type": "stream",
     "text": [
      "3.141592653589793\n",
      "1.4142135623730951\n",
      "8.0\n",
      "9\n",
      "10\n",
      "2.0\n"
     ]
    }
   ],
   "source": [
    "from math import *\n",
    "print(pi)                  # 3.141592653589793, pi constant\n",
    "print(sqrt(2))             # 1.4142135623730951, square root\n",
    "print(pow(2, 3))           # 8.0, exponential\n",
    "print(floor(9.81))         # 9, rounding to the lowest\n",
    "print(ceil(9.81))          # 10, rounding to the highest\n",
    "print(math.log10(100))     # 2"
   ]
  },
  {
   "attachments": {},
   "cell_type": "markdown",
   "metadata": {},
   "source": [
    "Cuando importamos también podemos renombrar el nombre de la función."
   ]
  },
  {
   "cell_type": "code",
   "execution_count": 10,
   "metadata": {},
   "outputs": [
    {
     "name": "stdout",
     "output_type": "stream",
     "text": [
      "3.141592653589793\n"
     ]
    }
   ],
   "source": [
    "from math import pi as  PI\n",
    "print(PI) # 3.141592653589793"
   ]
  },
  {
   "attachments": {},
   "cell_type": "markdown",
   "metadata": {},
   "source": [
    "## **Módulo de cadena**"
   ]
  },
  {
   "attachments": {},
   "cell_type": "markdown",
   "metadata": {},
   "source": [
    "Un módulo de cadena es un módulo útil para muchos propósitos. El siguiente ejemplo muestra algunos usos del módulo de cadena."
   ]
  },
  {
   "cell_type": "code",
   "execution_count": 11,
   "metadata": {},
   "outputs": [
    {
     "name": "stdout",
     "output_type": "stream",
     "text": [
      "abcdefghijklmnopqrstuvwxyzABCDEFGHIJKLMNOPQRSTUVWXYZ\n",
      "0123456789\n",
      "!\"#$%&'()*+,-./:;<=>?@[\\]^_`{|}~\n"
     ]
    }
   ],
   "source": [
    "import string\n",
    "print(string.ascii_letters) # abcdefghijklmnopqrstuvwxyzABCDEFGHIJKLMNOPQRSTUVWXYZ\n",
    "print(string.digits)        # 0123456789\n",
    "print(string.punctuation)   # !\"#$%&'()*+,-./:;<=>?@[\\]^_`{|}~"
   ]
  },
  {
   "attachments": {},
   "cell_type": "markdown",
   "metadata": {},
   "source": [
    "## **Módulo aleatorio**"
   ]
  },
  {
   "attachments": {},
   "cell_type": "markdown",
   "metadata": {},
   "source": [
    "A estas alturas ya está familiarizado con la importación de módulos. Hagamos una importación más para familiarizarnos con ella. Importemos un módulo aleatorio que nos da un número aleatorio entre 0 y 0.9999.... El módulo aleatorio tiene muchas funciones, pero en esta sección solo usaremos random y randint ."
   ]
  },
  {
   "cell_type": "code",
   "execution_count": 12,
   "metadata": {},
   "outputs": [
    {
     "name": "stdout",
     "output_type": "stream",
     "text": [
      "0.6919782488015722\n",
      "8\n"
     ]
    }
   ],
   "source": [
    "from random import random, randint\n",
    "print(random())   # it doesn't take any arguments; it returns a value between 0 and 0.9999\n",
    "print(randint(5, 20)) # it returns a random integer number between [5, 20] inclusive"
   ]
  }
 ],
 "metadata": {
  "kernelspec": {
   "display_name": "base",
   "language": "python",
   "name": "python3"
  },
  "language_info": {
   "codemirror_mode": {
    "name": "ipython",
    "version": 3
   },
   "file_extension": ".py",
   "mimetype": "text/x-python",
   "name": "python",
   "nbconvert_exporter": "python",
   "pygments_lexer": "ipython3",
   "version": "3.9.12"
  },
  "orig_nbformat": 4
 },
 "nbformat": 4,
 "nbformat_minor": 2
}
