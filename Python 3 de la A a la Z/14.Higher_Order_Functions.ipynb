{
 "cells": [
  {
   "attachments": {},
   "cell_type": "markdown",
   "metadata": {},
   "source": [
    "# **14. Higher Order Functions**"
   ]
  },
  {
   "attachments": {},
   "cell_type": "markdown",
   "metadata": {},
   "source": [
    "En Python, las funciones se tratan como ciudadanos de primera clase, lo que le permite realizar las siguientes operaciones en las funciones:\n",
    "\n",
    "* Una función puede tomar una o más funciones como parámetros\n",
    "* Una función puede ser devuelta como resultado de otra función.\n",
    "* Se puede modificar una función\n",
    "* Se puede asignar una función a una variable.\n",
    "\n",
    "En esta sección, cubriremos:\n",
    "\n",
    "* Manejo de funciones como parámetros\n",
    "* Devolver funciones como valor de retorno de otras funciones\n",
    "* Uso de cierres y decoradores de Python"
   ]
  },
  {
   "attachments": {},
   "cell_type": "markdown",
   "metadata": {},
   "source": [
    "## **Función como parámetro**"
   ]
  },
  {
   "cell_type": "code",
   "execution_count": 1,
   "metadata": {},
   "outputs": [
    {
     "name": "stdout",
     "output_type": "stream",
     "text": [
      "15\n"
     ]
    }
   ],
   "source": [
    "def sum_numbers(nums):  # función normal\n",
    "    return sum(nums)    # una función triste que abusa de la función de suma incorporada: <\n",
    "\n",
    "def higher_order_function(f, lst):  # funcionar como un parámetro\n",
    "    summation = f(lst)\n",
    "    return summation\n",
    "result = higher_order_function(sum_numbers, [1, 2, 3, 4, 5])\n",
    "print(result)       # 15"
   ]
  },
  {
   "attachments": {},
   "cell_type": "markdown",
   "metadata": {},
   "source": [
    "## **Función como valor de retorno**"
   ]
  },
  {
   "cell_type": "code",
   "execution_count": 2,
   "metadata": {},
   "outputs": [
    {
     "name": "stdout",
     "output_type": "stream",
     "text": [
      "9\n",
      "27\n",
      "3\n"
     ]
    }
   ],
   "source": [
    "def square(x):          # a square function\n",
    "    return x ** 2\n",
    "\n",
    "def cube(x):            # a cube function\n",
    "    return x ** 3\n",
    "\n",
    "def absolute(x):        # an absolute value function\n",
    "    if x >= 0:\n",
    "        return x\n",
    "    else:\n",
    "        return -(x)\n",
    "\n",
    "def higher_order_function(type): # a higher order function returning a function\n",
    "    if type == 'square':\n",
    "        return square\n",
    "    elif type == 'cube':\n",
    "        return cube\n",
    "    elif type == 'absolute':\n",
    "        return absolute\n",
    "\n",
    "result = higher_order_function('square')\n",
    "print(result(3))       # 9\n",
    "result = higher_order_function('cube')\n",
    "print(result(3))       # 27\n",
    "result = higher_order_function('absolute')\n",
    "print(result(-3))      # 3"
   ]
  },
  {
   "attachments": {},
   "cell_type": "markdown",
   "metadata": {},
   "source": [
    "Puede ver en el ejemplo anterior que la función de orden superior está devolviendo diferentes funciones dependiendo del parámetro pasado"
   ]
  },
  {
   "attachments": {},
   "cell_type": "markdown",
   "metadata": {},
   "source": [
    "## **Python Closures**"
   ]
  },
  {
   "attachments": {},
   "cell_type": "markdown",
   "metadata": {},
   "source": [
    "Python permite que una función anidada acceda al ámbito externo de la función envolvente. Esto se conoce como Cierre. Echemos un vistazo a cómo funcionan los cierres en Python. En Python, el cierre se crea anidando una función dentro de otra función encapsuladora y luego devolviendo la función interna. Vea el ejemplo a continuación."
   ]
  },
  {
   "cell_type": "code",
   "execution_count": 3,
   "metadata": {},
   "outputs": [
    {
     "name": "stdout",
     "output_type": "stream",
     "text": [
      "15\n",
      "20\n"
     ]
    }
   ],
   "source": [
    "def add_ten():\n",
    "    ten = 10\n",
    "    def add(num):\n",
    "        return num + ten\n",
    "    return add\n",
    "\n",
    "closure_result = add_ten()\n",
    "print(closure_result(5))  # 15\n",
    "print(closure_result(10))  # 20"
   ]
  },
  {
   "attachments": {},
   "cell_type": "markdown",
   "metadata": {},
   "source": [
    "## **Decoradores en Python**"
   ]
  },
  {
   "attachments": {},
   "cell_type": "markdown",
   "metadata": {},
   "source": [
    "Un decorador es un patrón de diseño en Python que permite a un usuario agregar una nueva funcionalidad a un objeto existente sin modificar su estructura. Los decoradores generalmente se llaman antes de la definición de una función que desea decorar."
   ]
  },
  {
   "attachments": {},
   "cell_type": "markdown",
   "metadata": {},
   "source": [
    "### **Crear decoradores**"
   ]
  },
  {
   "attachments": {},
   "cell_type": "markdown",
   "metadata": {},
   "source": [
    "Para crear una función decoradora, necesitamos una función externa con una función contenedora interna."
   ]
  },
  {
   "cell_type": "code",
   "execution_count": 4,
   "metadata": {},
   "outputs": [
    {
     "name": "stdout",
     "output_type": "stream",
     "text": [
      "WELCOME TO PYTHON\n"
     ]
    }
   ],
   "source": [
    "# Normal function\n",
    "def greeting():\n",
    "    return 'Welcome to Python'\n",
    "def uppercase_decorator(function):\n",
    "    def wrapper():\n",
    "        func = function()\n",
    "        make_uppercase = func.upper()\n",
    "        return make_uppercase\n",
    "    return wrapper\n",
    "g = uppercase_decorator(greeting)\n",
    "print(g())          # WELCOME TO PYTHON"
   ]
  },
  {
   "cell_type": "code",
   "execution_count": 5,
   "metadata": {},
   "outputs": [
    {
     "name": "stdout",
     "output_type": "stream",
     "text": [
      "WELCOME TO PYTHON\n"
     ]
    }
   ],
   "source": [
    "## Implementemos el ejemplo anterior con un decorador.\n",
    "\n",
    "'''Esta función decoradora es una función de orden superior\n",
    "que toma una función como parámetro'''\n",
    "def uppercase_decorator(function):\n",
    "    def wrapper():\n",
    "        func = function()\n",
    "        make_uppercase = func.upper()\n",
    "        return make_uppercase\n",
    "    return wrapper\n",
    "@uppercase_decorator\n",
    "def greeting():\n",
    "    return 'Welcome to Python'\n",
    "print(greeting())   # WELCOME TO PYTHON\n"
   ]
  },
  {
   "attachments": {},
   "cell_type": "markdown",
   "metadata": {},
   "source": [
    "## **Aplicar múltiples decoradores a una sola función**"
   ]
  },
  {
   "cell_type": "code",
   "execution_count": 6,
   "metadata": {},
   "outputs": [
    {
     "name": "stdout",
     "output_type": "stream",
     "text": [
      "['WELCOME', 'TO', 'PYTHON']\n"
     ]
    }
   ],
   "source": [
    "\n",
    "'''Estas funciones de decorador son funciones de orden superior.\n",
    "que toman funciones como parámetros'''\n",
    "\n",
    "# First Decorator\n",
    "def uppercase_decorator(function):\n",
    "    def wrapper():\n",
    "        func = function()\n",
    "        make_uppercase = func.upper()\n",
    "        return make_uppercase\n",
    "    return wrapper\n",
    "\n",
    "# Second decorator\n",
    "def split_string_decorator(function):\n",
    "    def wrapper():\n",
    "        func = function()\n",
    "        splitted_string = func.split()\n",
    "        return splitted_string\n",
    "\n",
    "    return wrapper\n",
    "\n",
    "@split_string_decorator\n",
    "@uppercase_decorator     # el orden con los decoradores es importante en este caso - la función .upper() no funciona con listas\n",
    "def greeting():\n",
    "    return 'Welcome to Python'\n",
    "print(greeting())   # WELCOME TO PYTHON"
   ]
  },
  {
   "attachments": {},
   "cell_type": "markdown",
   "metadata": {},
   "source": [
    "## **Aceptar parámetros en funciones de decorador**"
   ]
  },
  {
   "attachments": {},
   "cell_type": "markdown",
   "metadata": {},
   "source": [
    "La mayoría de las veces necesitamos que nuestras funciones tomen parámetros, por lo que es posible que debamos definir un decorador que acepte parámetros."
   ]
  },
  {
   "cell_type": "code",
   "execution_count": 7,
   "metadata": {},
   "outputs": [
    {
     "name": "stdout",
     "output_type": "stream",
     "text": [
      "I am Asabeneh Yetayeh. I love to teach.\n",
      "I live in Finland\n"
     ]
    }
   ],
   "source": [
    "def decorator_with_parameters(function):\n",
    "    def wrapper_accepting_parameters(para1, para2, para3):\n",
    "        function(para1, para2, para3)\n",
    "        print(\"I live in {}\".format(para3))\n",
    "    return wrapper_accepting_parameters\n",
    "\n",
    "@decorator_with_parameters\n",
    "def print_full_name(first_name, last_name, country):\n",
    "    print(\"I am {} {}. I love to teach.\".format(\n",
    "        first_name, last_name, country))\n",
    "\n",
    "print_full_name(\"Asabeneh\", \"Yetayeh\",'Finland')"
   ]
  },
  {
   "attachments": {},
   "cell_type": "markdown",
   "metadata": {},
   "source": [
    "## **Funciones integradas de orden superior**"
   ]
  },
  {
   "attachments": {},
   "cell_type": "markdown",
   "metadata": {},
   "source": [
    "Algunas de las funciones integradas de orden superior que cubrimos en esta parte son map() , filter y reduce . La función lambda se puede pasar como un parámetro y el mejor caso de uso de las funciones lambda es en funciones como mapa, filtro y reducción."
   ]
  },
  {
   "attachments": {},
   "cell_type": "markdown",
   "metadata": {},
   "source": [
    "### **Python - Función de mapa**"
   ]
  },
  {
   "attachments": {},
   "cell_type": "markdown",
   "metadata": {},
   "source": [
    "La función map() es una función integrada que toma una función y es iterable como parámetros."
   ]
  },
  {
   "attachments": {},
   "cell_type": "markdown",
   "metadata": {},
   "source": [
    "```\n",
    "    # syntax\n",
    "    map(function, iterable)\n",
    "```"
   ]
  },
  {
   "cell_type": "code",
   "execution_count": 8,
   "metadata": {},
   "outputs": [
    {
     "name": "stdout",
     "output_type": "stream",
     "text": [
      "[1, 4, 9, 16, 25]\n",
      "[1, 4, 9, 16, 25]\n"
     ]
    }
   ],
   "source": [
    "numbers = [1, 2, 3, 4, 5] # iterable\n",
    "def square(x):\n",
    "    return x ** 2\n",
    "numbers_squared = map(square, numbers)\n",
    "print(list(numbers_squared))    # [1, 4, 9, 16, 25]\n",
    "# Lets apply it with a lambda function\n",
    "numbers_squared = map(lambda x : x ** 2, numbers)\n",
    "print(list(numbers_squared))    # [1, 4, 9, 16, 25]"
   ]
  },
  {
   "cell_type": "code",
   "execution_count": 9,
   "metadata": {},
   "outputs": [
    {
     "name": "stdout",
     "output_type": "stream",
     "text": [
      "[1, 2, 3, 4, 5]\n"
     ]
    }
   ],
   "source": [
    "numbers_str = ['1', '2', '3', '4', '5']  # iterable\n",
    "numbers_int = map(int, numbers_str)\n",
    "print(list(numbers_int))    # [1, 2, 3, 4, 5]"
   ]
  },
  {
   "cell_type": "code",
   "execution_count": 10,
   "metadata": {},
   "outputs": [
    {
     "name": "stdout",
     "output_type": "stream",
     "text": [
      "['ASABENEH', 'LIDIYA', 'ERMIAS', 'ABRAHAM']\n",
      "['ASABENEH', 'LIDIYA', 'ERMIAS', 'ABRAHAM']\n"
     ]
    }
   ],
   "source": [
    "names = ['Asabeneh', 'Lidiya', 'Ermias', 'Abraham']  # iterable\n",
    "\n",
    "def change_to_upper(name):\n",
    "    return name.upper()\n",
    "\n",
    "names_upper_cased = map(change_to_upper, names)\n",
    "print(list(names_upper_cased))    # ['ASABENEH', 'LIDIYA', 'ERMIAS', 'ABRAHAM']\n",
    "\n",
    "# Let us apply it with a lambda function\n",
    "names_upper_cased = map(lambda name: name.upper(), names)\n",
    "print(list(names_upper_cased))    # ['ASABENEH', 'LIDIYA', 'ERMIAS', 'ABRAHAM']"
   ]
  },
  {
   "attachments": {},
   "cell_type": "markdown",
   "metadata": {},
   "source": [
    "Lo que realmente hace el mapa es iterar sobre una lista. Por ejemplo, cambia los nombres a mayúsculas y devuelve una nueva lista."
   ]
  },
  {
   "attachments": {},
   "cell_type": "markdown",
   "metadata": {},
   "source": [
    "### **Python - Función de filtro**"
   ]
  },
  {
   "attachments": {},
   "cell_type": "markdown",
   "metadata": {},
   "source": [
    "La función filter() llama a la función especificada que devuelve un valor booleano para cada elemento de la iterable (lista) especificada. Filtra los elementos que cumplen los criterios de filtrado."
   ]
  },
  {
   "attachments": {},
   "cell_type": "markdown",
   "metadata": {},
   "source": [
    "```\n",
    "    # syntax\n",
    "    filter(function, iterable)\n",
    "```"
   ]
  },
  {
   "cell_type": "code",
   "execution_count": 11,
   "metadata": {},
   "outputs": [
    {
     "name": "stdout",
     "output_type": "stream",
     "text": [
      "[2, 4]\n"
     ]
    }
   ],
   "source": [
    "# Lets filter only even nubers\n",
    "numbers = [1, 2, 3, 4, 5]  # iterable\n",
    "\n",
    "def is_even(num):\n",
    "    if num % 2 == 0:\n",
    "        return True\n",
    "    return False\n",
    "\n",
    "even_numbers = filter(is_even, numbers)\n",
    "print(list(even_numbers))       # [2, 4]"
   ]
  },
  {
   "cell_type": "code",
   "execution_count": 12,
   "metadata": {},
   "outputs": [
    {
     "name": "stdout",
     "output_type": "stream",
     "text": [
      "[1, 3, 5]\n"
     ]
    }
   ],
   "source": [
    "numbers = [1, 2, 3, 4, 5]  # iterable\n",
    "\n",
    "def is_odd(num):\n",
    "    if num % 2 != 0:\n",
    "        return True\n",
    "    return False\n",
    "\n",
    "odd_numbers = filter(is_odd, numbers)\n",
    "print(list(odd_numbers))       # [1, 3, 5]"
   ]
  },
  {
   "cell_type": "code",
   "execution_count": 13,
   "metadata": {},
   "outputs": [
    {
     "name": "stdout",
     "output_type": "stream",
     "text": [
      "['Asabeneh']\n"
     ]
    }
   ],
   "source": [
    "# Filter long name\n",
    "names = ['Asabeneh', 'Lidiya', 'Ermias', 'Abraham']  # iterable\n",
    "def is_name_long(name):\n",
    "    if len(name) > 7:\n",
    "        return True\n",
    "    return False\n",
    "\n",
    "long_names = filter(is_name_long, names)\n",
    "print(list(long_names))         # ['Asabeneh']"
   ]
  },
  {
   "attachments": {},
   "cell_type": "markdown",
   "metadata": {},
   "source": [
    "### **Python - Función de reducción**"
   ]
  },
  {
   "attachments": {},
   "cell_type": "markdown",
   "metadata": {},
   "source": [
    "La función reduce() está definida en el módulo functools y debemos importarla desde este módulo. Al igual que el mapa y el filtro, toma dos parámetros, una función y un iterable. Sin embargo, no devuelve otro iterable, sino un solo valor."
   ]
  },
  {
   "cell_type": "code",
   "execution_count": 15,
   "metadata": {},
   "outputs": [
    {
     "name": "stdout",
     "output_type": "stream",
     "text": [
      "15\n"
     ]
    }
   ],
   "source": [
    "from functools import reduce\n",
    "\n",
    "numbers_str = ['1', '2', '3', '4', '5']  # iterable\n",
    "def add_two_nums(x, y):\n",
    "    return int(x) + int(y)\n",
    "\n",
    "total = reduce(add_two_nums, numbers_str)\n",
    "print(total)    # 15 \n"
   ]
  }
 ],
 "metadata": {
  "kernelspec": {
   "display_name": "base",
   "language": "python",
   "name": "python3"
  },
  "language_info": {
   "codemirror_mode": {
    "name": "ipython",
    "version": 3
   },
   "file_extension": ".py",
   "mimetype": "text/x-python",
   "name": "python",
   "nbconvert_exporter": "python",
   "pygments_lexer": "ipython3",
   "version": "3.9.12"
  },
  "orig_nbformat": 4
 },
 "nbformat": 4,
 "nbformat_minor": 2
}
