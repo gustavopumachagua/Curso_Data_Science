{
 "cells": [
  {
   "attachments": {},
   "cell_type": "markdown",
   "metadata": {},
   "source": [
    "# **15. Exception Handling**"
   ]
  },
  {
   "attachments": {},
   "cell_type": "markdown",
   "metadata": {},
   "source": [
    "Python usa try y except para manejar los errores con gracia. Una salida elegante (o manejo elegante) de errores es un lenguaje de programación simple: un programa detecta una condición de error grave y, como resultado, \"sale con gracia\", de manera controlada. A menudo, el programa imprime un mensaje de error descriptivo en un terminal o registro como parte de la salida ordenada, esto hace que nuestra aplicación sea más robusta. La causa de una excepción suele ser externa al propio programa. Un ejemplo de excepciones podría ser una entrada incorrecta, un nombre de archivo incorrecto, no poder encontrar un archivo, un dispositivo IO que no funciona correctamente. El manejo elegante de los errores evita que nuestras aplicaciones se bloqueen.\n",
    "\n",
    "Hemos cubierto los diferentes tipos de errores de Python en la sección anterior. Si usamos try y except en nuestro programa, entonces no generará errores en esos bloques."
   ]
  },
  {
   "attachments": {},
   "cell_type": "markdown",
   "metadata": {},
   "source": [
    "![try except](../img/try_except.png \"try except\")"
   ]
  },
  {
   "attachments": {},
   "cell_type": "markdown",
   "metadata": {},
   "source": [
    "```\n",
    "try:\n",
    "    code in this block if things go well\n",
    "except:\n",
    "    code in this block run if things go wrong\n",
    "```"
   ]
  },
  {
   "cell_type": "code",
   "execution_count": 1,
   "metadata": {},
   "outputs": [
    {
     "name": "stdout",
     "output_type": "stream",
     "text": [
      "Something went wrong\n"
     ]
    }
   ],
   "source": [
    "try:\n",
    "    print(10 + '5')\n",
    "except:\n",
    "    print('Something went wrong')"
   ]
  },
  {
   "attachments": {},
   "cell_type": "markdown",
   "metadata": {},
   "source": [
    "En el ejemplo anterior, el segundo operando es una cadena. Podríamos cambiarlo a float o int para agregarlo con el número para que funcione. Pero sin ningún cambio, se ejecutará el segundo bloque, except."
   ]
  },
  {
   "cell_type": "code",
   "execution_count": 3,
   "metadata": {},
   "outputs": [
    {
     "name": "stdout",
     "output_type": "stream",
     "text": [
      "Something went wrong\n"
     ]
    }
   ],
   "source": [
    "try:\n",
    "    name = input('Enter your name:')\n",
    "    year_born = input('Year you were born:')\n",
    "    age = 2019 - year_born\n",
    "    print(f'You are {name}. And your age is {age}.')\n",
    "except:\n",
    "    print('Something went wrong')"
   ]
  },
  {
   "attachments": {},
   "cell_type": "markdown",
   "metadata": {},
   "source": [
    "En el ejemplo anterior, el bloque de excepción se ejecutará y no conocemos exactamente el problema. Para analizar el problema, podemos usar los diferentes tipos de error con excepción.\n",
    "\n",
    "En el siguiente ejemplo, manejará el error y también nos dirá el tipo de error generado."
   ]
  },
  {
   "cell_type": "code",
   "execution_count": 6,
   "metadata": {},
   "outputs": [
    {
     "name": "stdout",
     "output_type": "stream",
     "text": [
      "Type error occured\n"
     ]
    }
   ],
   "source": [
    "try:\n",
    "    name = input('Enter your name:')\n",
    "    year_born = input('Year you were born:')\n",
    "    age = 2019 - year_born\n",
    "    print(f'You are {name}. And your age is {age}.')\n",
    "except TypeError:\n",
    "    print('Type error occured')\n",
    "except ValueError:\n",
    "    print('Value error occured')\n",
    "except ZeroDivisionError:\n",
    "    print('zero division error occured')"
   ]
  },
  {
   "attachments": {},
   "cell_type": "markdown",
   "metadata": {},
   "source": [
    "En el código anterior, la salida será TypeError . Ahora, agreguemos un bloque adicional:"
   ]
  },
  {
   "cell_type": "code",
   "execution_count": 8,
   "metadata": {},
   "outputs": [
    {
     "name": "stdout",
     "output_type": "stream",
     "text": [
      "You are guss. And your age is 27.\n",
      "I usually run with the try block\n",
      "I alway run.\n"
     ]
    }
   ],
   "source": [
    "try:\n",
    "    name = input('Enter your name:')\n",
    "    year_born = input('Year you born:')\n",
    "    age = 2019 - int(year_born)\n",
    "    print(f'You are {name}. And your age is {age}.')\n",
    "except TypeError:\n",
    "    print('Type error occur')\n",
    "except ValueError:\n",
    "    print('Value error occur')\n",
    "except ZeroDivisionError:\n",
    "    print('zero division error occur')\n",
    "else:\n",
    "    print('I usually run with the try block')\n",
    "finally:\n",
    "    print('I alway run.')"
   ]
  },
  {
   "attachments": {},
   "cell_type": "markdown",
   "metadata": {},
   "source": [
    "También se acorta el código anterior de la siguiente manera:"
   ]
  },
  {
   "cell_type": "code",
   "execution_count": 10,
   "metadata": {},
   "outputs": [
    {
     "name": "stdout",
     "output_type": "stream",
     "text": [
      "You are guss. And your age is 27.\n"
     ]
    }
   ],
   "source": [
    "try:\n",
    "    name = input('Enter your name:')\n",
    "    year_born = input('Year you born:')\n",
    "    age = 2019 - int(year_born)\n",
    "    print(f'You are {name}. And your age is {age}.')\n",
    "except Exception as e:\n",
    "    print(e)\n"
   ]
  },
  {
   "attachments": {},
   "cell_type": "markdown",
   "metadata": {},
   "source": [
    "## **Empaquetar y desempaquetar argumentos en Python**"
   ]
  },
  {
   "attachments": {},
   "cell_type": "markdown",
   "metadata": {},
   "source": [
    "Usamos dos operadores:\n",
    "\n",
    "* ```* for tuples```\n",
    "* ```** for dictionaries```\n",
    "\n",
    "Tomemos como ejemplo a continuación. Solo necesita argumentos, pero tenemos una lista. Podemos descomprimir la lista y cambiar el argumento."
   ]
  },
  {
   "attachments": {},
   "cell_type": "markdown",
   "metadata": {},
   "source": [
    "### **Desembalaje**"
   ]
  },
  {
   "attachments": {},
   "cell_type": "markdown",
   "metadata": {},
   "source": [
    "#### **Listas de desembalaje**"
   ]
  },
  {
   "cell_type": "code",
   "execution_count": 11,
   "metadata": {},
   "outputs": [
    {
     "ename": "TypeError",
     "evalue": "sum_of_five_nums() missing 4 required positional arguments: 'b', 'c', 'd', and 'e'",
     "output_type": "error",
     "traceback": [
      "\u001b[0;31m---------------------------------------------------------------------------\u001b[0m",
      "\u001b[0;31mTypeError\u001b[0m                                 Traceback (most recent call last)",
      "\u001b[1;32m/home/puma/personalprojects/project_data/Curso_Data_Science/python/15.Exception_Handling.ipynb Celda 18\u001b[0m in \u001b[0;36m<cell line: 5>\u001b[0;34m()\u001b[0m\n\u001b[1;32m      <a href='vscode-notebook-cell://wsl%2Bubuntu/home/puma/personalprojects/project_data/Curso_Data_Science/python/15.Exception_Handling.ipynb#X23sdnNjb2RlLXJlbW90ZQ%3D%3D?line=1'>2</a>\u001b[0m     \u001b[39mreturn\u001b[39;00m a \u001b[39m+\u001b[39m b \u001b[39m+\u001b[39m c \u001b[39m+\u001b[39m d \u001b[39m+\u001b[39m e\n\u001b[1;32m      <a href='vscode-notebook-cell://wsl%2Bubuntu/home/puma/personalprojects/project_data/Curso_Data_Science/python/15.Exception_Handling.ipynb#X23sdnNjb2RlLXJlbW90ZQ%3D%3D?line=3'>4</a>\u001b[0m lst \u001b[39m=\u001b[39m [\u001b[39m1\u001b[39m, \u001b[39m2\u001b[39m, \u001b[39m3\u001b[39m, \u001b[39m4\u001b[39m, \u001b[39m5\u001b[39m]\n\u001b[0;32m----> <a href='vscode-notebook-cell://wsl%2Bubuntu/home/puma/personalprojects/project_data/Curso_Data_Science/python/15.Exception_Handling.ipynb#X23sdnNjb2RlLXJlbW90ZQ%3D%3D?line=4'>5</a>\u001b[0m \u001b[39mprint\u001b[39m(sum_of_five_nums(lst))\n",
      "\u001b[0;31mTypeError\u001b[0m: sum_of_five_nums() missing 4 required positional arguments: 'b', 'c', 'd', and 'e'"
     ]
    }
   ],
   "source": [
    "def sum_of_five_nums(a, b, c, d, e):\n",
    "    return a + b + c + d + e\n",
    "\n",
    "lst = [1, 2, 3, 4, 5]\n",
    "print(sum_of_five_nums(lst)) # TypeError: sum_of_five_nums() missing 4 required positional arguments: 'b', 'c', 'd', and 'e'"
   ]
  },
  {
   "attachments": {},
   "cell_type": "markdown",
   "metadata": {},
   "source": [
    "Cuando ejecutamos este código, genera un error, porque esta función toma números (no una lista) como argumentos. Descomprimamos/desestructuramos la lista."
   ]
  },
  {
   "cell_type": "code",
   "execution_count": 12,
   "metadata": {},
   "outputs": [
    {
     "name": "stdout",
     "output_type": "stream",
     "text": [
      "15\n"
     ]
    }
   ],
   "source": [
    "def sum_of_five_nums(a, b, c, d, e):\n",
    "    return a + b + c + d + e\n",
    "\n",
    "lst = [1, 2, 3, 4, 5]\n",
    "print(sum_of_five_nums(*lst))  # 15"
   ]
  },
  {
   "attachments": {},
   "cell_type": "markdown",
   "metadata": {},
   "source": [
    "También podemos usar el desempaquetado en la función incorporada de rango que espera un comienzo y un final."
   ]
  },
  {
   "cell_type": "code",
   "execution_count": 13,
   "metadata": {},
   "outputs": [
    {
     "name": "stdout",
     "output_type": "stream",
     "text": [
      "[2, 3, 4, 5, 6]\n",
      "range(2, 7)\n"
     ]
    }
   ],
   "source": [
    "numbers = range(2, 7)  # normal call with separate arguments\n",
    "print(list(numbers)) # [2, 3, 4, 5, 6]\n",
    "args = [2, 7]\n",
    "numbers = range(*args)  # call with arguments unpacked from a list\n",
    "print(numbers)      # [2, 3, 4, 5,6]\n"
   ]
  },
  {
   "attachments": {},
   "cell_type": "markdown",
   "metadata": {},
   "source": [
    "Una lista o una tupla también se pueden descomprimir así:"
   ]
  },
  {
   "cell_type": "code",
   "execution_count": 14,
   "metadata": {},
   "outputs": [
    {
     "name": "stdout",
     "output_type": "stream",
     "text": [
      "Finland Sweden Norway ['Denmark', 'Iceland']\n",
      "1 [2, 3, 4, 5, 6] 7\n"
     ]
    }
   ],
   "source": [
    "countries = ['Finland', 'Sweden', 'Norway', 'Denmark', 'Iceland']\n",
    "fin, sw, nor, *rest = countries\n",
    "print(fin, sw, nor, rest)   # Finland Sweden Norway ['Denmark', 'Iceland']\n",
    "numbers = [1, 2, 3, 4, 5, 6, 7]\n",
    "one, *middle, last = numbers\n",
    "print(one, middle, last)      #  1 [2, 3, 4, 5, 6] 7"
   ]
  },
  {
   "attachments": {},
   "cell_type": "markdown",
   "metadata": {},
   "source": [
    "Desempaquetar diccionarios"
   ]
  },
  {
   "cell_type": "code",
   "execution_count": 16,
   "metadata": {},
   "outputs": [
    {
     "name": "stdout",
     "output_type": "stream",
     "text": [
      "Asabeneh lives in Finland, Helsinki. He is 25 year old.\n"
     ]
    }
   ],
   "source": [
    "def unpacking_person_info(name, country, city, age):\n",
    "    return f'{name} lives in {country}, {city}. He is {age} year old.'\n",
    "dct = {'name':'Asabeneh', 'country':'Finland', 'city':'Helsinki', 'age':25}\n",
    "print(unpacking_person_info(**dct)) # Asabeneh lives in Finland, Helsinki. He is 250 years old."
   ]
  },
  {
   "attachments": {},
   "cell_type": "markdown",
   "metadata": {},
   "source": [
    "### **Embalaje**"
   ]
  },
  {
   "attachments": {},
   "cell_type": "markdown",
   "metadata": {},
   "source": [
    "A veces, nunca sabemos cuántos argumentos se deben pasar a una función de Python. Podemos usar el método de empaquetamiento para permitir que nuestra función tome un número ilimitado o un número arbitrario de argumentos."
   ]
  },
  {
   "attachments": {},
   "cell_type": "markdown",
   "metadata": {},
   "source": [
    "#### **Listas de embalaje**"
   ]
  },
  {
   "cell_type": "code",
   "execution_count": 17,
   "metadata": {},
   "outputs": [
    {
     "name": "stdout",
     "output_type": "stream",
     "text": [
      "6\n",
      "28\n"
     ]
    }
   ],
   "source": [
    "def sum_all(*args):\n",
    "    s = 0\n",
    "    for i in args:\n",
    "        s += i\n",
    "    return s\n",
    "print(sum_all(1, 2, 3))             # 6\n",
    "print(sum_all(1, 2, 3, 4, 5, 6, 7)) # 28"
   ]
  },
  {
   "attachments": {},
   "cell_type": "markdown",
   "metadata": {},
   "source": [
    "#### **Diccionarios de embalaje**"
   ]
  },
  {
   "cell_type": "code",
   "execution_count": 19,
   "metadata": {},
   "outputs": [
    {
     "name": "stdout",
     "output_type": "stream",
     "text": [
      "name = Asabeneh\n",
      "country = Finland\n",
      "city = Helsinki\n",
      "age = 250\n",
      "{'name': 'Asabeneh', 'country': 'Finland', 'city': 'Helsinki', 'age': 250}\n"
     ]
    }
   ],
   "source": [
    "def packing_person_info(**kwargs):\n",
    "    # check the type of kwargs and it is a dict type\n",
    "    # print(type(kwargs))\n",
    "\t# Printing dictionary items\n",
    "    for key in kwargs:\n",
    "        print(f\"{key} = {kwargs[key]}\")\n",
    "    return kwargs\n",
    "\n",
    "print(packing_person_info(name=\"Asabeneh\",\n",
    "      country=\"Finland\", city=\"Helsinki\", age=250))"
   ]
  },
  {
   "attachments": {},
   "cell_type": "markdown",
   "metadata": {},
   "source": [
    "### **Difundir en Python**"
   ]
  },
  {
   "attachments": {},
   "cell_type": "markdown",
   "metadata": {},
   "source": [
    "Al igual que en JavaScript, la propagación es posible en Python. Comprobémoslo en un ejemplo a continuación:"
   ]
  },
  {
   "cell_type": "code",
   "execution_count": 20,
   "metadata": {},
   "outputs": [
    {
     "name": "stdout",
     "output_type": "stream",
     "text": [
      "[0, 1, 2, 3, 4, 5, 6, 7]\n",
      "['Finland', 'Sweden', 'Norway', 'Denmark', 'Iceland']\n"
     ]
    }
   ],
   "source": [
    "lst_one = [1, 2, 3]\n",
    "lst_two = [4, 5, 6, 7]\n",
    "lst = [0, *lst_one, *lst_two]\n",
    "print(lst)          # [0, 1, 2, 3, 4, 5, 6, 7]\n",
    "country_lst_one = ['Finland', 'Sweden', 'Norway']\n",
    "country_lst_two = ['Denmark', 'Iceland']\n",
    "nordic_countries = [*country_lst_one, *country_lst_two]\n",
    "print(nordic_countries)  # ['Finland', 'Sweden', 'Norway', 'Denmark', 'Iceland']"
   ]
  },
  {
   "attachments": {},
   "cell_type": "markdown",
   "metadata": {},
   "source": [
    "### **Enumerar**"
   ]
  },
  {
   "attachments": {},
   "cell_type": "markdown",
   "metadata": {},
   "source": [
    "Si estamos interesados ​​en el índice de una lista, usamos la función integrada de enumeración para obtener el índice de cada elemento de la lista."
   ]
  },
  {
   "cell_type": "code",
   "execution_count": 21,
   "metadata": {},
   "outputs": [
    {
     "name": "stdout",
     "output_type": "stream",
     "text": [
      "0 20\n",
      "1 30\n",
      "2 40\n"
     ]
    }
   ],
   "source": [
    "for index, item in enumerate([20, 30, 40]):\n",
    "    print(index, item)"
   ]
  },
  {
   "cell_type": "code",
   "execution_count": 22,
   "metadata": {},
   "outputs": [
    {
     "name": "stdout",
     "output_type": "stream",
     "text": [
      "hi\n",
      "The country {i} has been found at index {index}\n",
      "hi\n",
      "hi\n",
      "hi\n",
      "hi\n"
     ]
    }
   ],
   "source": [
    "for index, i in enumerate(countries):\n",
    "    print('hi')\n",
    "    if i == 'Finland':\n",
    "        print('The country {i} has been found at index {index}')"
   ]
  },
  {
   "attachments": {},
   "cell_type": "markdown",
   "metadata": {},
   "source": [
    "### **Cremallera**"
   ]
  },
  {
   "attachments": {},
   "cell_type": "markdown",
   "metadata": {},
   "source": [
    "A veces nos gustaría combinar listas al recorrerlas. Vea el ejemplo a continuación:"
   ]
  },
  {
   "cell_type": "code",
   "execution_count": 23,
   "metadata": {},
   "outputs": [
    {
     "name": "stdout",
     "output_type": "stream",
     "text": [
      "[{'fruit': 'banana', 'veg': 'Tomato'}, {'fruit': 'orange', 'veg': 'Potato'}, {'fruit': 'mango', 'veg': 'Cabbage'}, {'fruit': 'lemon', 'veg': 'Onion'}, {'fruit': 'lime', 'veg': 'Carrot'}]\n"
     ]
    }
   ],
   "source": [
    "fruits = ['banana', 'orange', 'mango', 'lemon', 'lime']\n",
    "vegetables = ['Tomato', 'Potato', 'Cabbage','Onion', 'Carrot']\n",
    "fruits_and_veges = []\n",
    "for f, v in zip(fruits, vegetables):\n",
    "    fruits_and_veges.append({'fruit':f, 'veg':v})\n",
    "\n",
    "print(fruits_and_veges)"
   ]
  }
 ],
 "metadata": {
  "kernelspec": {
   "display_name": "base",
   "language": "python",
   "name": "python3"
  },
  "language_info": {
   "codemirror_mode": {
    "name": "ipython",
    "version": 3
   },
   "file_extension": ".py",
   "mimetype": "text/x-python",
   "name": "python",
   "nbconvert_exporter": "python",
   "pygments_lexer": "ipython3",
   "version": "3.9.12"
  },
  "orig_nbformat": 4
 },
 "nbformat": 4,
 "nbformat_minor": 2
}
