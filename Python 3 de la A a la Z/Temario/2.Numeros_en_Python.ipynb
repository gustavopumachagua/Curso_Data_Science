{
 "cells": [
  {
   "attachments": {},
   "cell_type": "markdown",
   "metadata": {},
   "source": [
    "# **2. Números en Python**"
   ]
  },
  {
   "attachments": {},
   "cell_type": "markdown",
   "metadata": {},
   "source": [
    "**Lista de Contenido**\n",
    "\n",
    "1. [Tipos de números en Python](#tipos-de-números-en-python)\n",
    "2. [Operaciones aritméticas](#operaciones-aritméticas)\n",
    "3. [Orden de las operaciones aritméticas](#orden-de-las-operaciones-aritméticas)\n",
    "4. [Números complejos: definición y operaciones](#números-complejos-definición-y-operaciones)\n",
    "5. [Conjugado, módulo, argumento, unidad imaginaria y otras representaciones](#conjugado-módulo-argumento-unidad-imaginaria-y-otras-representaciones)\n",
    "6. [El plano complejo](#el-plano-complejo)\n",
    "7. [Números complejos en Python](#números-complejos-en-python)"
   ]
  },
  {
   "attachments": {},
   "cell_type": "markdown",
   "metadata": {},
   "source": [
    "## **Tipos de números en Python**"
   ]
  },
  {
   "attachments": {},
   "cell_type": "markdown",
   "metadata": {},
   "source": [
    "En Python hay varios tipos de tipos de datos. Comencemos con los más comunes. Los diferentes tipos de datos se tratarán en detalle en otras secciones. Por el momento, repasemos los diferentes tipos de datos y familiaricémonos con ellos. No tienes que tener una comprensión clara ahora."
   ]
  },
  {
   "attachments": {},
   "cell_type": "markdown",
   "metadata": {},
   "source": [
    "* **Número**"
   ]
  },
  {
   "attachments": {},
   "cell_type": "markdown",
   "metadata": {},
   "source": [
    "* **Número entero:** Números enteros (negativo, cero y positivo) Ejemplo: ... -3, -2, -1, 0, 1, 2, 3 ...\n",
    "\n",
    "* **Flotante:** Número decimal Ejemplo ... -3.5, -2.25, -1.0, 0.0, 1.1, 2.2, 3.5 ...\n",
    "\n",
    "* **Complejo:** Ejemplo  1 + j, 2 + 4j"
   ]
  },
  {
   "attachments": {},
   "cell_type": "markdown",
   "metadata": {},
   "source": [
    "* **Cadena**"
   ]
  },
  {
   "attachments": {},
   "cell_type": "markdown",
   "metadata": {},
   "source": [
    "Una colección de uno o más caracteres bajo comillas simples o dobles. Si una cadena es más de una oración, usamos una comilla triple.\n",
    "\n",
    "**Ejemplo:**"
   ]
  },
  {
   "cell_type": "code",
   "execution_count": 8,
   "metadata": {},
   "outputs": [
    {
     "data": {
      "text/plain": [
       "'Espero que estés disfrutando el primer día del Desafío 30DaysOfPython'"
      ]
     },
     "execution_count": 8,
     "metadata": {},
     "output_type": "execute_result"
    }
   ],
   "source": [
    "'Asabeneh'\n",
    "'Finlandia'\n",
    "'Python'\n",
    "'Me encanta enseñar'\n",
    "'Espero que estés disfrutando el primer día del Desafío 30DaysOfPython'\n",
    "\"Espero que estés disfrutando el primer día del Desafío 30DaysOfPython\""
   ]
  },
  {
   "attachments": {},
   "cell_type": "markdown",
   "metadata": {},
   "source": [
    "* **Booleanos**"
   ]
  },
  {
   "attachments": {},
   "cell_type": "markdown",
   "metadata": {},
   "source": [
    "Un tipo de datos booleano es un valor verdadero o falso. ```True``` y ```False``` deben estar siempre en mayúsculas.\n",
    "\n",
    "**Ejemplo:**"
   ]
  },
  {
   "cell_type": "code",
   "execution_count": 9,
   "metadata": {},
   "outputs": [
    {
     "data": {
      "text/plain": [
       "False"
      ]
     },
     "execution_count": 9,
     "metadata": {},
     "output_type": "execute_result"
    }
   ],
   "source": [
    "True # ¿Está encendida la luz? Si está activado, el valor es True\n",
    "False # ¿Está encendida la luz? Si está apagado, entonces el valor es False"
   ]
  },
  {
   "attachments": {},
   "cell_type": "markdown",
   "metadata": {},
   "source": [
    "* **Lista**"
   ]
  },
  {
   "attachments": {},
   "cell_type": "markdown",
   "metadata": {},
   "source": [
    "La lista de Python es una colección ordenada que permite almacenar diferentes tipos de elementos de datos. Una lista es similar a una matriz en JavaScript.\n",
    "\n",
    "**Ejemplo:**"
   ]
  },
  {
   "cell_type": "code",
   "execution_count": 10,
   "metadata": {},
   "outputs": [
    {
     "data": {
      "text/plain": [
       "['Banana', 10, False, 9.81]"
      ]
     },
     "execution_count": 10,
     "metadata": {},
     "output_type": "execute_result"
    }
   ],
   "source": [
    "[0, 1, 2, 3, 4, 5] # todos son del mismo tipo de datos - una lista de números\n",
    "['Banana', 'Orange', 'Mango', 'Avocado'] # todos los mismos tipos de datos - una lista de cadenas (frutas)\n",
    "['Finlandia','Estonia', 'Suecia','Noruega'] # todos los mismos tipos de datos - una lista de cadenas (países)\n",
    "['Banana', 10, False, 9.81] # diferentes tipos de datos en la lista: cadena, entero, booleano y flotante"
   ]
  },
  {
   "attachments": {},
   "cell_type": "markdown",
   "metadata": {},
   "source": [
    "* **Diccionario**"
   ]
  },
  {
   "attachments": {},
   "cell_type": "markdown",
   "metadata": {},
   "source": [
    "Un objeto de diccionario de Python es una colección desordenada de datos en un formato de par de valores clave.\n",
    "\n",
    "**Ejemplo:**"
   ]
  },
  {
   "cell_type": "code",
   "execution_count": 11,
   "metadata": {},
   "outputs": [
    {
     "data": {
      "text/plain": [
       "{'first_name': 'Asabeneh',\n",
       " 'last_name': 'Yetayeh',\n",
       " 'country': 'Finland',\n",
       " 'age': 25,\n",
       " 'is_married': True,\n",
       " 'skills': ['JS', 'React', 'Node', 'Python']}"
      ]
     },
     "execution_count": 11,
     "metadata": {},
     "output_type": "execute_result"
    }
   ],
   "source": [
    "{\n",
    "'first_name':'Asabeneh',\n",
    "'last_name':'Yetayeh',\n",
    "'country':'Finland',\n",
    "'age':25,\n",
    "'is_married':True,\n",
    "'skills':['JS', 'React', 'Node', 'Python']\n",
    "}"
   ]
  },
  {
   "attachments": {},
   "cell_type": "markdown",
   "metadata": {},
   "source": [
    "* **Tupla**"
   ]
  },
  {
   "attachments": {},
   "cell_type": "markdown",
   "metadata": {},
   "source": [
    "Una tupla es una colección ordenada de diferentes tipos de datos como una lista, pero las tuplas no se pueden modificar una vez que se crean. Son inmutables.\n",
    "\n",
    "**Ejemplo:**"
   ]
  },
  {
   "cell_type": "code",
   "execution_count": 12,
   "metadata": {},
   "outputs": [
    {
     "data": {
      "text/plain": [
       "('Asabeneh', 'Pawel', 'Brook', 'Abraham', 'Lidiya')"
      ]
     },
     "execution_count": 12,
     "metadata": {},
     "output_type": "execute_result"
    }
   ],
   "source": [
    "('Asabeneh', 'Pawel', 'Brook', 'Abraham', 'Lidiya') # Nombres"
   ]
  },
  {
   "cell_type": "code",
   "execution_count": 13,
   "metadata": {},
   "outputs": [
    {
     "data": {
      "text/plain": [
       "('Earth', 'Jupiter', 'Neptune', 'Mars', 'Venus', 'Saturn', 'Uranus', 'Mercury')"
      ]
     },
     "execution_count": 13,
     "metadata": {},
     "output_type": "execute_result"
    }
   ],
   "source": [
    "('Earth', 'Jupiter', 'Neptune', 'Mars', 'Venus', 'Saturn', 'Uranus', 'Mercury') # planetas"
   ]
  },
  {
   "attachments": {},
   "cell_type": "markdown",
   "metadata": {},
   "source": [
    "* **Set**"
   ]
  },
  {
   "attachments": {},
   "cell_type": "markdown",
   "metadata": {},
   "source": [
    "Una set es una colección de tipos de datos similar a una lista y una tupla. A diferencia de lista y tupla, set no es una colección ordenada de elementos. Al igual que en Matemáticas, la configuración en Python almacena solo elementos únicos.\n",
    "\n",
    "En secciones posteriores, entraremos en detalle sobre todos y cada uno de los tipos de datos de Python.\n",
    "\n",
    "**Ejemplo:**"
   ]
  },
  {
   "cell_type": "code",
   "execution_count": 14,
   "metadata": {},
   "outputs": [
    {
     "data": {
      "text/plain": [
       "{2.7, 3.14, 9.81}"
      ]
     },
     "execution_count": 14,
     "metadata": {},
     "output_type": "execute_result"
    }
   ],
   "source": [
    "{2, 4, 3, 5}\n",
    "{3.14, 9.81, 2.7} # el orden no es importante en el set (conjunto)"
   ]
  },
  {
   "attachments": {},
   "cell_type": "markdown",
   "metadata": {},
   "source": [
    "En Python, hay diferentes tipos de números que se pueden usar en los programas, cada uno con sus propias características y comportamientos. Aquí hay una explicación detallada de los tipos de números en Python con ejemplos para diferentes niveles:"
   ]
  },
  {
   "attachments": {},
   "cell_type": "markdown",
   "metadata": {},
   "source": [
    "* **Enteros (int):**\n",
    "\n",
    " Los números enteros en Python son aquellos que no tienen decimales. Los enteros se pueden usar en cálculos matemáticos, como sumas, restas, multiplicaciones y divisiones. Los números enteros en Python pueden ser negativos, cero o positivos.\n",
    "\n",
    " **Por ejemplo:**"
   ]
  },
  {
   "cell_type": "code",
   "execution_count": 1,
   "metadata": {},
   "outputs": [
    {
     "name": "stdout",
     "output_type": "stream",
     "text": [
      "5\n"
     ]
    }
   ],
   "source": [
    "# Declarar una variable entera\n",
    "x = 5\n",
    "\n",
    "# Imprimir la variable\n",
    "print(x)\n"
   ]
  },
  {
   "attachments": {},
   "cell_type": "markdown",
   "metadata": {},
   "source": [
    "* **Flotantes (float):**\n",
    "\n",
    " Los números de punto flotante en Python son aquellos que tienen una parte decimal. Los números de punto flotante se utilizan en cálculos matemáticos que involucran números fraccionarios, como la división.\n",
    "\n",
    " **Por ejemplo:**"
   ]
  },
  {
   "cell_type": "code",
   "execution_count": 2,
   "metadata": {},
   "outputs": [
    {
     "name": "stdout",
     "output_type": "stream",
     "text": [
      "3.14\n"
     ]
    }
   ],
   "source": [
    "# Declarar una variable flotante\n",
    "y = 3.14\n",
    "\n",
    "# Imprimir la variable\n",
    "print(y)\n"
   ]
  },
  {
   "attachments": {},
   "cell_type": "markdown",
   "metadata": {},
   "source": [
    "* **Números complejos (complex):**\n",
    "\n",
    "Los números complejos en Python son aquellos que tienen una parte real y una parte imaginaria. Los números complejos se utilizan en cálculos matemáticos avanzados, como la electrónica, las señales y la teoría de circuitos. Los números complejos en Python se declaran utilizando la letra j para la parte imaginaria.\n",
    "\n",
    "**Por ejemplo:**"
   ]
  },
  {
   "cell_type": "code",
   "execution_count": 3,
   "metadata": {},
   "outputs": [
    {
     "name": "stdout",
     "output_type": "stream",
     "text": [
      "(2+3j)\n"
     ]
    }
   ],
   "source": [
    "# Declarar una variable compleja\n",
    "z = 2 + 3j\n",
    "\n",
    "# Imprimir la variable\n",
    "print(z)\n"
   ]
  },
  {
   "attachments": {},
   "cell_type": "markdown",
   "metadata": {},
   "source": [
    "* **Números booleanos (bool):**\n",
    "\n",
    " Los números booleanos en Python son aquellos que solo pueden tener dos valores: Verdadero ```(True)``` o Falso ```(False)```. Los números booleanos se utilizan en la toma de decisiones en el código, como en declaraciones ```if``` y ```while```.\n",
    "\n",
    "**Por ejemplo:**"
   ]
  },
  {
   "cell_type": "code",
   "execution_count": 4,
   "metadata": {},
   "outputs": [
    {
     "name": "stdout",
     "output_type": "stream",
     "text": [
      "True\n"
     ]
    }
   ],
   "source": [
    "# Declarar una variable booleana\n",
    "a = True\n",
    "\n",
    "# Imprimir la variable\n",
    "print(a)\n"
   ]
  },
  {
   "attachments": {},
   "cell_type": "markdown",
   "metadata": {},
   "source": [
    "En resumen, Python tiene varios tipos de números que se utilizan en diferentes situaciones y cálculos matemáticos. Es importante conocer los tipos de números en Python y sus usos para escribir código efectivo y preciso."
   ]
  },
  {
   "attachments": {},
   "cell_type": "markdown",
   "metadata": {},
   "source": [
    "[🔼](#2-números-en-python)"
   ]
  },
  {
   "attachments": {},
   "cell_type": "markdown",
   "metadata": {},
   "source": [
    "## **Operaciones aritméticas**"
   ]
  },
  {
   "cell_type": "code",
   "execution_count": 15,
   "metadata": {},
   "outputs": [
    {
     "name": "stdout",
     "output_type": "stream",
     "text": [
      "5\n"
     ]
    }
   ],
   "source": [
    "print (2 + 3) # suma (+)"
   ]
  },
  {
   "cell_type": "code",
   "execution_count": 16,
   "metadata": {},
   "outputs": [
    {
     "name": "stdout",
     "output_type": "stream",
     "text": [
      "2\n"
     ]
    }
   ],
   "source": [
    "print (3 - 1) # resta (-)"
   ]
  },
  {
   "cell_type": "code",
   "execution_count": 17,
   "metadata": {},
   "outputs": [
    {
     "name": "stdout",
     "output_type": "stream",
     "text": [
      "6\n"
     ]
    }
   ],
   "source": [
    "print (2 * 3) # multiplicación (*)"
   ]
  },
  {
   "cell_type": "code",
   "execution_count": 18,
   "metadata": {},
   "outputs": [
    {
     "name": "stdout",
     "output_type": "stream",
     "text": [
      "1.5\n"
     ]
    }
   ],
   "source": [
    "print (3 / 2) # división (/)"
   ]
  },
  {
   "cell_type": "code",
   "execution_count": 19,
   "metadata": {},
   "outputs": [
    {
     "name": "stdout",
     "output_type": "stream",
     "text": [
      "9\n"
     ]
    }
   ],
   "source": [
    "print(3 ** 2) # exponencial(**)"
   ]
  },
  {
   "cell_type": "code",
   "execution_count": 20,
   "metadata": {},
   "outputs": [
    {
     "name": "stdout",
     "output_type": "stream",
     "text": [
      "1\n"
     ]
    }
   ],
   "source": [
    "print (3 % 2) # módulo (%)"
   ]
  },
  {
   "cell_type": "code",
   "execution_count": 21,
   "metadata": {},
   "outputs": [
    {
     "name": "stdout",
     "output_type": "stream",
     "text": [
      "2\n"
     ]
    }
   ],
   "source": [
    "print(5 // 2)            # Floor division operator(//)"
   ]
  },
  {
   "cell_type": "code",
   "execution_count": 22,
   "metadata": {},
   "outputs": [
    {
     "name": "stdout",
     "output_type": "stream",
     "text": [
      "<class 'int'>\n"
     ]
    }
   ],
   "source": [
    "print(type(10))          # Int"
   ]
  },
  {
   "cell_type": "code",
   "execution_count": 23,
   "metadata": {},
   "outputs": [
    {
     "name": "stdout",
     "output_type": "stream",
     "text": [
      "<class 'float'>\n"
     ]
    }
   ],
   "source": [
    "print(type(3.14))        # Float"
   ]
  },
  {
   "cell_type": "code",
   "execution_count": 24,
   "metadata": {},
   "outputs": [
    {
     "name": "stdout",
     "output_type": "stream",
     "text": [
      "<class 'complex'>\n"
     ]
    }
   ],
   "source": [
    "print(type(1 + 3j))      # Complex number"
   ]
  },
  {
   "cell_type": "code",
   "execution_count": 25,
   "metadata": {},
   "outputs": [
    {
     "name": "stdout",
     "output_type": "stream",
     "text": [
      "<class 'str'>\n"
     ]
    }
   ],
   "source": [
    "print(type('Asabeneh'))  # String"
   ]
  },
  {
   "cell_type": "code",
   "execution_count": 26,
   "metadata": {},
   "outputs": [
    {
     "name": "stdout",
     "output_type": "stream",
     "text": [
      "<class 'list'>\n"
     ]
    }
   ],
   "source": [
    "print(type([1, 2, 3]))   # List"
   ]
  },
  {
   "cell_type": "code",
   "execution_count": 27,
   "metadata": {},
   "outputs": [
    {
     "name": "stdout",
     "output_type": "stream",
     "text": [
      "<class 'dict'>\n"
     ]
    }
   ],
   "source": [
    "print(type({'name':'Asabeneh'})) # Dictionary"
   ]
  },
  {
   "cell_type": "code",
   "execution_count": 28,
   "metadata": {},
   "outputs": [
    {
     "name": "stdout",
     "output_type": "stream",
     "text": [
      "<class 'set'>\n"
     ]
    }
   ],
   "source": [
    "print(type({9.8, 3.14, 2.7}))    # Set"
   ]
  },
  {
   "cell_type": "code",
   "execution_count": 29,
   "metadata": {},
   "outputs": [
    {
     "name": "stdout",
     "output_type": "stream",
     "text": [
      "<class 'tuple'>\n"
     ]
    }
   ],
   "source": [
    "print(type((9.8, 3.14, 2.7)))    # Tuple"
   ]
  },
  {
   "attachments": {},
   "cell_type": "markdown",
   "metadata": {},
   "source": [
    "En Python, las operaciones aritméticas se utilizan para realizar cálculos matemáticos. Aquí hay una explicación detallada de cada una de ellas, junto con ejemplos para diferentes niveles."
   ]
  },
  {
   "attachments": {},
   "cell_type": "markdown",
   "metadata": {},
   "source": [
    "* **Suma (+)**\n",
    "\n",
    "La suma se utiliza para agregar dos o más números. En Python, se representa con el operador ```+```.\n",
    "\n",
    "**Ejemplo básico:**"
   ]
  },
  {
   "cell_type": "code",
   "execution_count": 5,
   "metadata": {},
   "outputs": [
    {
     "name": "stdout",
     "output_type": "stream",
     "text": [
      "15\n"
     ]
    }
   ],
   "source": [
    "# Declaración de dos números enteros\n",
    "x = 5\n",
    "y = 10\n",
    "\n",
    "# Suma de los dos números\n",
    "z = x + y\n",
    "\n",
    "# Imprimir el resultado\n",
    "print(z)\n"
   ]
  },
  {
   "attachments": {},
   "cell_type": "markdown",
   "metadata": {},
   "source": [
    "* **Resta (-)**\n",
    "\n",
    "La resta se utiliza para restar dos números. En Python, se representa con el operador ```-```.\n",
    "\n",
    "**Ejemplo básico:**"
   ]
  },
  {
   "cell_type": "code",
   "execution_count": 6,
   "metadata": {},
   "outputs": [
    {
     "name": "stdout",
     "output_type": "stream",
     "text": [
      "5\n"
     ]
    }
   ],
   "source": [
    "# Declaración de dos números enteros\n",
    "x = 15\n",
    "y = 10\n",
    "\n",
    "# Resta de los dos números\n",
    "z = x - y\n",
    "\n",
    "# Imprimir el resultado\n",
    "print(z)\n"
   ]
  },
  {
   "attachments": {},
   "cell_type": "markdown",
   "metadata": {},
   "source": [
    "* **Multiplicación (*)**\n",
    "\n",
    "La multiplicación se utiliza para multiplicar dos o más números. En Python, se representa con el operador ```*```.\n",
    "\n",
    "**Ejemplo básico:**"
   ]
  },
  {
   "cell_type": "code",
   "execution_count": 7,
   "metadata": {},
   "outputs": [
    {
     "name": "stdout",
     "output_type": "stream",
     "text": [
      "50\n"
     ]
    }
   ],
   "source": [
    "# Declaración de dos números enteros\n",
    "x = 5\n",
    "y = 10\n",
    "\n",
    "# Multiplicación de los dos números\n",
    "z = x * y\n",
    "\n",
    "# Imprimir el resultado\n",
    "print(z)\n"
   ]
  },
  {
   "attachments": {},
   "cell_type": "markdown",
   "metadata": {},
   "source": [
    "* **División (/)**\n",
    "\n",
    "La división se utiliza para dividir dos números. En Python, se representa con el operador ```/```.\n",
    "\n",
    "**Ejemplo básico:**"
   ]
  },
  {
   "cell_type": "code",
   "execution_count": 8,
   "metadata": {},
   "outputs": [
    {
     "name": "stdout",
     "output_type": "stream",
     "text": [
      "2.0\n"
     ]
    }
   ],
   "source": [
    "# Declaración de dos números enteros\n",
    "x = 10\n",
    "y = 5\n",
    "\n",
    "# División de los dos números\n",
    "z = x / y\n",
    "\n",
    "# Imprimir el resultado\n",
    "print(z)\n"
   ]
  },
  {
   "attachments": {},
   "cell_type": "markdown",
   "metadata": {},
   "source": [
    "Es importante tener en cuenta que la división siempre devuelve un número de punto flotante, incluso si ambos números son enteros."
   ]
  },
  {
   "attachments": {},
   "cell_type": "markdown",
   "metadata": {},
   "source": [
    "* **División entera (//)**\n",
    "\n",
    "La división entera se utiliza para dividir dos números y redondear el resultado al número entero más cercano. En Python, se representa con el operador ```//```.\n",
    "\n",
    "**Ejemplo básico:**"
   ]
  },
  {
   "cell_type": "code",
   "execution_count": 9,
   "metadata": {},
   "outputs": [
    {
     "name": "stdout",
     "output_type": "stream",
     "text": [
      "3\n"
     ]
    }
   ],
   "source": [
    "# Declaración de dos números enteros\n",
    "x = 10\n",
    "y = 3\n",
    "\n",
    "# División entera de los dos números\n",
    "z = x // y\n",
    "\n",
    "# Imprimir el resultado\n",
    "print(z)\n"
   ]
  },
  {
   "attachments": {},
   "cell_type": "markdown",
   "metadata": {},
   "source": [
    "* **Módulo (%)**\n",
    "\n",
    "El módulo se utiliza para obtener el resto de la división de dos números. En Python, se representa con el operador ```%```.\n",
    "\n",
    "**Ejemplo básico:**"
   ]
  },
  {
   "cell_type": "code",
   "execution_count": 10,
   "metadata": {},
   "outputs": [
    {
     "name": "stdout",
     "output_type": "stream",
     "text": [
      "1\n"
     ]
    }
   ],
   "source": [
    "# Declaración de dos números enteros\n",
    "x = 10\n",
    "y = 3\n",
    "\n",
    "# Módulo de los dos números\n",
    "z = x % y\n",
    "\n",
    "# Imprimir el resultado\n",
    "print(z)\n"
   ]
  },
  {
   "attachments": {},
   "cell_type": "markdown",
   "metadata": {},
   "source": [
    "* **Potencia (```**```)**\n",
    "\n",
    "La potencia se utiliza para elevar un número a una potencia determinada. En Python, se representa con el operador ```**```.\n",
    "\n",
    "**Ejemplo básico:**"
   ]
  },
  {
   "cell_type": "code",
   "execution_count": 11,
   "metadata": {},
   "outputs": [
    {
     "name": "stdout",
     "output_type": "stream",
     "text": [
      "8\n"
     ]
    }
   ],
   "source": [
    "# Declaración de un número entero\n",
    "x = 2\n",
    "\n",
    "# Elevar el número a la potencia 3\n",
    "y = x ** 3\n",
    "\n",
    "# Imprimir el resultado\n",
    "print(y)\n"
   ]
  },
  {
   "attachments": {},
   "cell_type": "markdown",
   "metadata": {},
   "source": [
    "* **Tipos de datos**"
   ]
  },
  {
   "attachments": {},
   "cell_type": "markdown",
   "metadata": {},
   "source": [
    "Hay varios tipos de datos en Python. Para identificar el tipo de datos, usamos la función incorporada de ```type```. Me gustaría pedirle que se concentre en comprender muy bien los diferentes tipos de datos. Cuando se trata de programación, se trata de tipos de datos. Introduje los tipos de datos desde el principio y viene de nuevo, porque todos los temas están relacionados con los tipos de datos. Cubriremos los tipos de datos con más detalle en sus respectivas secciones."
   ]
  },
  {
   "attachments": {},
   "cell_type": "markdown",
   "metadata": {},
   "source": [
    "* **Comprobación de tipos de datos y conversión**"
   ]
  },
  {
   "attachments": {},
   "cell_type": "markdown",
   "metadata": {},
   "source": [
    "* **Verificar tipos de datos:**\n",
    "\n",
    "Para verificar el tipo de datos de ciertos datos/variables, usamos el ```type```\n",
    "\n",
    "**Ejemplo:**"
   ]
  },
  {
   "cell_type": "code",
   "execution_count": 30,
   "metadata": {},
   "outputs": [
    {
     "name": "stdout",
     "output_type": "stream",
     "text": [
      "<class 'str'>\n",
      "<class 'str'>\n",
      "<class 'int'>\n",
      "<class 'float'>\n",
      "<class 'complex'>\n",
      "<class 'bool'>\n",
      "<class 'list'>\n",
      "<class 'dict'>\n",
      "<class 'tuple'>\n",
      "<class 'zip'>\n"
     ]
    }
   ],
   "source": [
    "# Diferentes tipos de datos de python\n",
    "# Declaremos variables con varios tipos de datos\n",
    "\n",
    "first_name = 'Asabeneh'     # str\n",
    "last_name = 'Yetayeh'       # str\n",
    "country = 'Finland'         # str\n",
    "city= 'Helsinki'            # str\n",
    "age = 25                   # int, it is not my real age, don't worry about it\n",
    "\n",
    "# Printing out types\n",
    "print(type('Asabeneh'))     # str\n",
    "print(type(first_name))     # str\n",
    "print(type(10))             # int\n",
    "print(type(3.14))           # float\n",
    "print(type(1 + 1j))         # complex\n",
    "print(type(True))           # bool\n",
    "print(type([1, 2, 3, 4]))     # list\n",
    "print(type({'name':'Asabeneh','age':25, 'is_married':25}))    # dict\n",
    "print(type((1,2)))                                              # tuple\n",
    "print(type(zip([1,2],[3,4])))                                   # set"
   ]
  },
  {
   "attachments": {},
   "cell_type": "markdown",
   "metadata": {},
   "source": [
    "* **Casting:**\n",
    "\n",
    " convertir un tipo de datos a otro tipo de datos. Usamos ```int() , float() , str() , list , set``` Cuando hacemos operaciones aritméticas, los números de cadena deben convertirse primero a int o float; de lo contrario, devolverá un error. Si concatenamos un número con una cadena, el número debe convertirse primero en una cadena. Hablaremos sobre la concatenación en la sección String.\n",
    "\n",
    "**Ejemplo:**"
   ]
  },
  {
   "cell_type": "code",
   "execution_count": 31,
   "metadata": {},
   "outputs": [
    {
     "name": "stdout",
     "output_type": "stream",
     "text": [
      "num_int 10\n"
     ]
    }
   ],
   "source": [
    "# int to float\n",
    "num_int = 10\n",
    "print('num_int',num_int)         # 10"
   ]
  },
  {
   "cell_type": "code",
   "execution_count": 32,
   "metadata": {},
   "outputs": [
    {
     "name": "stdout",
     "output_type": "stream",
     "text": [
      "num_float: 10.0\n"
     ]
    }
   ],
   "source": [
    "num_float = float(num_int)\n",
    "print('num_float:', num_float)   # 10.0"
   ]
  },
  {
   "cell_type": "code",
   "execution_count": 33,
   "metadata": {},
   "outputs": [
    {
     "name": "stdout",
     "output_type": "stream",
     "text": [
      "9\n"
     ]
    }
   ],
   "source": [
    "# float to int\n",
    "gravity = 9.81\n",
    "print(int(gravity))             # 9"
   ]
  },
  {
   "cell_type": "code",
   "execution_count": 34,
   "metadata": {},
   "outputs": [
    {
     "name": "stdout",
     "output_type": "stream",
     "text": [
      "10\n"
     ]
    }
   ],
   "source": [
    "# int to str\n",
    "num_int = 10\n",
    "print(num_int)                  # 10"
   ]
  },
  {
   "cell_type": "code",
   "execution_count": 35,
   "metadata": {},
   "outputs": [
    {
     "name": "stdout",
     "output_type": "stream",
     "text": [
      "10\n"
     ]
    }
   ],
   "source": [
    "num_str = str(num_int)\n",
    "print(num_str)                  # '10'"
   ]
  },
  {
   "cell_type": "code",
   "execution_count": 36,
   "metadata": {},
   "outputs": [
    {
     "name": "stdout",
     "output_type": "stream",
     "text": [
      "num_float: 10.6\n",
      "num_int: 10\n"
     ]
    }
   ],
   "source": [
    "num_str = '10.6'\n",
    "num_float = float(num_str)\n",
    "num_int = int(num_float)\n",
    "\n",
    "print('num_float:', num_float)    # 10.6\n",
    "print('num_int:', num_int)        # 10"
   ]
  },
  {
   "cell_type": "code",
   "execution_count": 37,
   "metadata": {},
   "outputs": [
    {
     "name": "stdout",
     "output_type": "stream",
     "text": [
      "num_float: 10.6\n"
     ]
    }
   ],
   "source": [
    "print('num_float:', float(num_str))  # 10.6"
   ]
  },
  {
   "cell_type": "code",
   "execution_count": 38,
   "metadata": {},
   "outputs": [
    {
     "name": "stdout",
     "output_type": "stream",
     "text": [
      "Asabeneh\n"
     ]
    }
   ],
   "source": [
    "# str to list\n",
    "first_name = 'Asabeneh'\n",
    "print(first_name)               # 'Asabeneh'"
   ]
  },
  {
   "cell_type": "code",
   "execution_count": 39,
   "metadata": {},
   "outputs": [
    {
     "name": "stdout",
     "output_type": "stream",
     "text": [
      "['A', 's', 'a', 'b', 'e', 'n', 'e', 'h']\n"
     ]
    }
   ],
   "source": [
    "first_name_to_list = list(first_name)\n",
    "print(first_name_to_list)            # ['A', 's', 'a', 'b', 'e', 'n', 'e', 'h']"
   ]
  },
  {
   "attachments": {},
   "cell_type": "markdown",
   "metadata": {},
   "source": [
    "En resumen, Python tiene varias operaciones aritméticas que se utilizan para realizar cálculos matemáticos en los programas. Es importante conocer y comprender estas operaciones para poder trabajar con ellas de manera efectiva en nuestros programas."
   ]
  },
  {
   "attachments": {},
   "cell_type": "markdown",
   "metadata": {},
   "source": [
    "[🔼](#2-números-en-python)"
   ]
  },
  {
   "attachments": {},
   "cell_type": "markdown",
   "metadata": {},
   "source": [
    "## **Orden de las operaciones aritméticas**"
   ]
  },
  {
   "attachments": {},
   "cell_type": "markdown",
   "metadata": {},
   "source": [
    "El orden de las operaciones aritméticas en Python se rige por el acrónimo ```PEMDAS``` ```(Paréntesis, Exponentes, Multiplicación y División, Adición y Sustracción)```, también conocido como el orden de las operaciones.\n",
    "\n",
    "Esto significa que, al resolver una expresión matemática que involucra múltiples operaciones, primero se evalúan los paréntesis, luego se resuelven las potencias, luego se realizan las multiplicaciones y divisiones en orden de izquierda a derecha, y finalmente se realizan las sumas y restas en orden de izquierda a derecha.\n",
    "\n",
    "Aquí hay un ejemplo para demostrar el orden de las operaciones en Python:"
   ]
  },
  {
   "cell_type": "code",
   "execution_count": 12,
   "metadata": {},
   "outputs": [
    {
     "name": "stdout",
     "output_type": "stream",
     "text": [
      "7.0\n"
     ]
    }
   ],
   "source": [
    "# Ejemplo de orden de operaciones\n",
    "x = 5 + 3 * 2 ** 2 / 4 - 1\n",
    "\n",
    "# Primero se resuelve la potencia: 2 ** 2 = 4\n",
    "# Luego se realiza la multiplicación: 3 * 4 = 12\n",
    "# Después se realiza la división: 12 / 4 = 3\n",
    "# Luego se realiza la suma: 5 + 3 = 8\n",
    "# Finalmente, se realiza la resta: 8 - 1 = 7\n",
    "\n",
    "print(x) # salida: 7\n"
   ]
  },
  {
   "attachments": {},
   "cell_type": "markdown",
   "metadata": {},
   "source": [
    "Es importante tener en cuenta que, si queremos cambiar el orden de las operaciones, podemos utilizar paréntesis para agrupar las operaciones que deseamos que se realicen primero. Por ejemplo:"
   ]
  },
  {
   "cell_type": "code",
   "execution_count": 13,
   "metadata": {},
   "outputs": [
    {
     "name": "stdout",
     "output_type": "stream",
     "text": [
      "10.313708498984761\n"
     ]
    }
   ],
   "source": [
    "# Ejemplo de cambio en el orden de operaciones usando paréntesis\n",
    "y = (5 + 3) * 2 ** (2 / 4) - 1\n",
    "\n",
    "# Primero se realiza la suma dentro de los paréntesis: 5 + 3 = 8\n",
    "# Luego se realiza la división: 2 ** (2 / 4) = 2 ** 0.5 = 1.414\n",
    "# Después se realiza la multiplicación: 8 * 1.414 = 11.312\n",
    "# Finalmente, se realiza la resta: 11.312 - 1 = 10.312\n",
    "\n",
    "print(y) # salida: 10.312\n"
   ]
  },
  {
   "attachments": {},
   "cell_type": "markdown",
   "metadata": {},
   "source": [
    "En resumen, el orden de las operaciones aritméticas en Python se rige por el acrónimo ```PEMDAS``` y se puede modificar utilizando paréntesis para agrupar las operaciones que deseamos que se realicen primero. Es importante tener en cuenta este orden al realizar cálculos matemáticos en Python para asegurarnos de que los resultados sean precisos."
   ]
  },
  {
   "attachments": {},
   "cell_type": "markdown",
   "metadata": {},
   "source": [
    "[🔼](#2-números-en-python)"
   ]
  },
  {
   "attachments": {},
   "cell_type": "markdown",
   "metadata": {},
   "source": [
    "## **Números complejos: definición y operaciones**"
   ]
  },
  {
   "attachments": {},
   "cell_type": "markdown",
   "metadata": {},
   "source": [
    "En matemáticas, un número complejo es un número que consta de una parte real y una parte imaginaria. En Python, los números complejos se representan utilizando la letra ```\"j\"``` para denotar la parte imaginaria. Por ejemplo, 3 + 4j es un número complejo, donde 3 es la parte real y 4j es la parte imaginaria.\n",
    "\n",
    "Podemos realizar operaciones aritméticas básicas con números complejos en Python, como la adición, la sustracción, la multiplicación y la división. Para realizar estas operaciones, simplemente utilizamos los operadores matemáticos habituales (+, -, *, /) y el símbolo ```\"j\"``` para representar la parte imaginaria.\n",
    "\n",
    "A continuación se presentan algunos ejemplos de operaciones con números complejos en Python:"
   ]
  },
  {
   "cell_type": "code",
   "execution_count": 14,
   "metadata": {},
   "outputs": [
    {
     "name": "stdout",
     "output_type": "stream",
     "text": [
      "(3+5j)\n",
      "(1+1j)\n",
      "(-4+7j)\n",
      "(1.6-0.2j)\n"
     ]
    }
   ],
   "source": [
    "# Definir números complejos\n",
    "a = 2 + 3j\n",
    "b = 1 + 2j\n",
    "\n",
    "# Suma de números complejos\n",
    "c = a + b\n",
    "print(c) # salida: (3+5j)\n",
    "\n",
    "# Resta de números complejos\n",
    "d = a - b\n",
    "print(d) # salida: (1+1j)\n",
    "\n",
    "# Multiplicación de números complejos\n",
    "e = a * b\n",
    "print(e) # salida: (-4+7j)\n",
    "\n",
    "# División de números complejos\n",
    "f = a / b\n",
    "print(f) # salida: (1.6-0.2j)\n"
   ]
  },
  {
   "attachments": {},
   "cell_type": "markdown",
   "metadata": {},
   "source": [
    "Además de las operaciones aritméticas básicas, también podemos calcular el conjugado de un número complejo utilizando la función ```conjugate()```, y podemos calcular la magnitud (o el módulo) de un número complejo utilizando la función ```abs()```. \n",
    "\n",
    "**Por ejemplo:**"
   ]
  },
  {
   "cell_type": "code",
   "execution_count": 15,
   "metadata": {},
   "outputs": [
    {
     "name": "stdout",
     "output_type": "stream",
     "text": [
      "(3-4j)\n",
      "5.0\n"
     ]
    }
   ],
   "source": [
    "# Definir un número complejo\n",
    "z = 3 + 4j\n",
    "\n",
    "# Calcular el conjugado de z\n",
    "z_conjugado = z.conjugate()\n",
    "print(z_conjugado) # salida: (3-4j)\n",
    "\n",
    "# Calcular la magnitud de z\n",
    "z_magnitud = abs(z)\n",
    "print(z_magnitud) # salida: 5.0\n"
   ]
  },
  {
   "attachments": {},
   "cell_type": "markdown",
   "metadata": {},
   "source": [
    "En resumen, los números complejos en Python se representan utilizando la letra ```\"j\"``` para la parte imaginaria. Podemos realizar operaciones aritméticas básicas con números complejos utilizando los operadores matemáticos habituales, y también podemos calcular el conjugado y la magnitud de un número complejo utilizando las funciones ```conjugate()``` y ```abs()```, respectivamente."
   ]
  },
  {
   "attachments": {},
   "cell_type": "markdown",
   "metadata": {},
   "source": [
    "[🔼](#2-números-en-python)"
   ]
  },
  {
   "attachments": {},
   "cell_type": "markdown",
   "metadata": {},
   "source": [
    "## **Conjugado, módulo, argumento, unidad imaginaria y otras representaciones**"
   ]
  },
  {
   "attachments": {},
   "cell_type": "markdown",
   "metadata": {},
   "source": [
    "En matemáticas, un número complejo se compone de una parte real y una parte imaginaria. Python tiene la capacidad de trabajar con números complejos y proporciona varias funciones integradas para realizar operaciones con ellos. En este texto, explicaremos algunas representaciones comunes de números complejos en Python, así como algunas funciones que se pueden utilizar para trabajar con ellos."
   ]
  },
  {
   "attachments": {},
   "cell_type": "markdown",
   "metadata": {},
   "source": [
    "* **Conjugado:**\n",
    "\n",
    "El conjugado de un número complejo se obtiene cambiando el signo de la parte imaginaria. En Python, podemos calcular el conjugado de un número complejo utilizando la función ```conjugate()```.\n",
    "\n",
    "**Por ejemplo:**"
   ]
  },
  {
   "cell_type": "code",
   "execution_count": 16,
   "metadata": {},
   "outputs": [
    {
     "name": "stdout",
     "output_type": "stream",
     "text": [
      "(3-4j)\n"
     ]
    }
   ],
   "source": [
    "# Definir un número complejo\n",
    "z = 3 + 4j\n",
    "\n",
    "# Calcular el conjugado de z\n",
    "z_conjugado = z.conjugate()\n",
    "print(z_conjugado) # salida: (3-4j)\n"
   ]
  },
  {
   "attachments": {},
   "cell_type": "markdown",
   "metadata": {},
   "source": [
    "* **Módulo:**\n",
    "\n",
    "El módulo (o magnitud) de un número complejo se calcula utilizando la fórmula ```|z| = sqrt(a^2 + b^2)```, donde ```a``` es la parte real y ```b``` es la parte imaginaria. En Python, podemos calcular el módulo de un número complejo utilizando la función ```abs()```. \n",
    "\n",
    "**Por ejemplo:**"
   ]
  },
  {
   "cell_type": "code",
   "execution_count": 17,
   "metadata": {},
   "outputs": [
    {
     "name": "stdout",
     "output_type": "stream",
     "text": [
      "5.0\n"
     ]
    }
   ],
   "source": [
    "# Definir un número complejo\n",
    "z = 3 + 4j\n",
    "\n",
    "# Calcular el módulo de z\n",
    "z_modulo = abs(z)\n",
    "print(z_modulo) # salida: 5.0\n"
   ]
  },
  {
   "attachments": {},
   "cell_type": "markdown",
   "metadata": {},
   "source": [
    "* **Argumento:**\n",
    "\n",
    " El argumento de un número complejo es el ángulo que forma el número complejo con el eje real positivo en el plano complejo. En Python, podemos calcular el argumento de un número complejo utilizando la función ```phase()```.\n",
    "\n",
    "**Por ejemplo:**"
   ]
  },
  {
   "cell_type": "code",
   "execution_count": 19,
   "metadata": {},
   "outputs": [
    {
     "name": "stdout",
     "output_type": "stream",
     "text": [
      "0.9272952180016122\n"
     ]
    }
   ],
   "source": [
    "import cmath\n",
    "\n",
    "# Definir un número complejo\n",
    "z = 3 + 4j\n",
    "\n",
    "# Calcular el argumento de z\n",
    "z_argumento = cmath.phase(z)\n",
    "print(z_argumento) # salida: 0.93 (aproximadamente)\n"
   ]
  },
  {
   "attachments": {},
   "cell_type": "markdown",
   "metadata": {},
   "source": [
    "* **Unidad imaginaria:**\n",
    "\n",
    " La unidad imaginaria se representa en Python utilizando la letra ```\"j\"```. Por ejemplo, 3 + 4j es un número complejo donde 3 es la parte real y 4j es la parte imaginaria."
   ]
  },
  {
   "attachments": {},
   "cell_type": "markdown",
   "metadata": {},
   "source": [
    "* **Forma polar:**\n",
    "\n",
    " Los números complejos se pueden representar en forma polar, donde el número se representa en términos de su módulo y su argumento. En Python, podemos convertir un número complejo a su forma polar utilizando la función ```polar()```.\n",
    "\n",
    "  **Por ejemplo:**"
   ]
  },
  {
   "cell_type": "code",
   "execution_count": 20,
   "metadata": {},
   "outputs": [
    {
     "name": "stdout",
     "output_type": "stream",
     "text": [
      "(5.0, 0.9272952180016122)\n"
     ]
    }
   ],
   "source": [
    "# Definir un número complejo\n",
    "z = 3 + 4j\n",
    "\n",
    "# Convertir z a forma polar\n",
    "z_polar = cmath.polar(z)\n",
    "print(z_polar) # salida: (5.0, 0.93) (aproximadamente)\n"
   ]
  },
  {
   "attachments": {},
   "cell_type": "markdown",
   "metadata": {},
   "source": [
    "* **Forma rectangular:**\n",
    "\n",
    " Los números complejos también se pueden representar en forma rectangular, donde el número se representa en términos de su parte real y su parte imaginaria. En Python, podemos convertir un número complejo a su forma rectangular utilizando la función ```rect()```.\n",
    "\n",
    "  **Por ejemplo:**"
   ]
  },
  {
   "cell_type": "code",
   "execution_count": 2,
   "metadata": {},
   "outputs": [
    {
     "name": "stdout",
     "output_type": "stream",
     "text": [
      "(2.989169911436491+4.0080997044188855j)\n"
     ]
    }
   ],
   "source": [
    "import cmath\n",
    "\n",
    "# Definir un número complejo en forma polar\n",
    "z_polar = (5, 0.93)\n",
    "\n",
    "# Convertir z_polar a forma rectangular\n",
    "z_rectangular = cmath.rect(*z_polar)\n",
    "print(z_rectangular) # salida: (3+4j)\n",
    "\n"
   ]
  },
  {
   "attachments": {},
   "cell_type": "markdown",
   "metadata": {},
   "source": [
    "[🔼](#2-números-en-python)"
   ]
  },
  {
   "attachments": {},
   "cell_type": "markdown",
   "metadata": {},
   "source": [
    "## **El plano complejo**"
   ]
  },
  {
   "attachments": {},
   "cell_type": "markdown",
   "metadata": {},
   "source": [
    "El plano complejo es una representación gráfica de los números complejos en un plano cartesiano, donde el eje x representa la parte real y el eje y representa la parte imaginaria del número complejo. En Python, podemos usar la biblioteca ```matplotlib``` para trazar gráficos en el plano complejo.\n",
    "\n",
    "Aquí hay un ejemplo de cómo trazar un número complejo en el plano complejo usando Python y ```matplotlib```:"
   ]
  },
  {
   "cell_type": "code",
   "execution_count": 3,
   "metadata": {},
   "outputs": [
    {
     "data": {
      "image/png": "[encoded data removed]",
      "text/plain": [
       "<Figure size 432x288 with 1 Axes>"
      ]
     },
     "metadata": {
      "needs_background": "light"
     },
     "output_type": "display_data"
    }
   ],
   "source": [
    "import matplotlib.pyplot as plt\n",
    "\n",
    "# Definir el número complejo\n",
    "z = 3 + 4j\n",
    "\n",
    "# Obtener la parte real e imaginaria de z\n",
    "x = z.real\n",
    "y = z.imag\n",
    "\n",
    "# Trazar el número complejo en el plano complejo\n",
    "plt.plot(x, y, 'o')\n",
    "plt.xlabel('Parte Real')\n",
    "plt.ylabel('Parte Imaginaria')\n",
    "plt.title('Plano Complejo')\n",
    "plt.grid()\n",
    "plt.show()\n"
   ]
  },
  {
   "attachments": {},
   "cell_type": "markdown",
   "metadata": {},
   "source": [
    "En este ejemplo, definimos el número complejo ```z``` y luego extraemos su parte real e imaginaria. Luego, trazamos el número complejo en el plano complejo usando el método ```plot``` de la biblioteca ```matplotlib```. El argumento ```o``` en la función ```plot``` indica que queremos trazar un punto en lugar de una línea. Finalmente, agregamos etiquetas y un título al gráfico, y lo mostramos usando la función ```show``` de ```matplotlib```.\n",
    "\n",
    "La salida de este código será una gráfica del número complejo ```(3+4j)``` en el plano complejo, con la parte real en el eje x y la parte imaginaria en el eje y. El punto correspondiente al número complejo se traza en la intersección de los dos ejes."
   ]
  },
  {
   "attachments": {},
   "cell_type": "markdown",
   "metadata": {},
   "source": [
    "[🔼](#2-números-en-python)"
   ]
  },
  {
   "attachments": {},
   "cell_type": "markdown",
   "metadata": {},
   "source": [
    "## **Números complejos en Python**"
   ]
  },
  {
   "attachments": {},
   "cell_type": "markdown",
   "metadata": {},
   "source": [
    "Los números complejos en Python son un tipo de dato que se utiliza para representar números que contienen una parte real y una parte imaginaria. Estos números se expresan en la forma ```\"a + bj\"```, donde ```\"a\"``` es la parte real, ```\"b\"``` es la parte imaginaria y ```\"j\"``` es la unidad imaginaria.\n",
    "\n",
    "En Python, los números complejos se pueden definir de varias maneras. La forma más común es utilizando la función ```\"complex()\"```, que toma dos argumentos: la parte real y la parte imaginaria. Por ejemplo:"
   ]
  },
  {
   "cell_type": "code",
   "execution_count": 4,
   "metadata": {},
   "outputs": [
    {
     "name": "stdout",
     "output_type": "stream",
     "text": [
      "(3+4j)\n"
     ]
    }
   ],
   "source": [
    "z = complex(3, 4)\n",
    "print(z)  # salida: (3+4j)\n"
   ]
  },
  {
   "attachments": {},
   "cell_type": "markdown",
   "metadata": {},
   "source": [
    "También es posible definir números complejos utilizando la notación ```\"a + bj\"```. Por ejemplo:"
   ]
  },
  {
   "cell_type": "code",
   "execution_count": 5,
   "metadata": {},
   "outputs": [
    {
     "name": "stdout",
     "output_type": "stream",
     "text": [
      "(3+4j)\n"
     ]
    }
   ],
   "source": [
    "z = 3 + 4j\n",
    "print(z)  # salida: (3+4j)\n"
   ]
  },
  {
   "attachments": {},
   "cell_type": "markdown",
   "metadata": {},
   "source": [
    "Una vez que se ha definido un número complejo en Python, se pueden realizar operaciones matemáticas con él, como suma, resta, multiplicación, división, entre otras. Por ejemplo:"
   ]
  },
  {
   "cell_type": "code",
   "execution_count": 6,
   "metadata": {},
   "outputs": [
    {
     "name": "stdout",
     "output_type": "stream",
     "text": [
      "(6+8j)\n",
      "(-2-2j)\n",
      "(-7+22j)\n",
      "(0.5609756097560976+0.0487804878048781j)\n"
     ]
    }
   ],
   "source": [
    "z1 = 2 + 3j\n",
    "z2 = 4 + 5j\n",
    "\n",
    "suma = z1 + z2\n",
    "resta = z1 - z2\n",
    "producto = z1 * z2\n",
    "division = z1 / z2\n",
    "\n",
    "print(suma)     # salida: (6+8j)\n",
    "print(resta)    # salida: (-2-2j)\n",
    "print(producto) # salida: (-7+22j)\n",
    "print(division) # salida: (0.56+0.02j)\n"
   ]
  },
  {
   "attachments": {},
   "cell_type": "markdown",
   "metadata": {},
   "source": [
    "También es posible obtener información sobre un número complejo, como su parte real, su parte imaginaria, su módulo, su argumento, entre otras. Por ejemplo:"
   ]
  },
  {
   "cell_type": "code",
   "execution_count": 7,
   "metadata": {},
   "outputs": [
    {
     "name": "stdout",
     "output_type": "stream",
     "text": [
      "3.0\n",
      "4.0\n",
      "5.0\n",
      "0.9272952180016122\n"
     ]
    }
   ],
   "source": [
    "z = 3 + 4j\n",
    "\n",
    "parte_real = z.real\n",
    "parte_imaginaria = z.imag\n",
    "modulo = abs(z)\n",
    "argumento = cmath.phase(z)\n",
    "\n",
    "print(parte_real)        # salida: 3.0\n",
    "print(parte_imaginaria)  # salida: 4.0\n",
    "print(modulo)            # salida: 5.0\n",
    "print(argumento)         # salida: 0.93 (aproximadamente)\n"
   ]
  },
  {
   "attachments": {},
   "cell_type": "markdown",
   "metadata": {},
   "source": [
    "En resumen, los números complejos en Python son un tipo de dato que permite representar números con una parte real y una parte imaginaria, y se pueden realizar operaciones matemáticas y obtener información sobre ellos."
   ]
  },
  {
   "attachments": {},
   "cell_type": "markdown",
   "metadata": {},
   "source": [
    "[🔼](#2-números-en-python)"
   ]
  }
 ],
 "metadata": {
  "kernelspec": {
   "display_name": "base",
   "language": "python",
   "name": "python3"
  },
  "language_info": {
   "codemirror_mode": {
    "name": "ipython",
    "version": 3
   },
   "file_extension": ".py",
   "mimetype": "text/x-python",
   "name": "python",
   "nbconvert_exporter": "python",
   "pygments_lexer": "ipython3",
   "version": "3.9.12"
  },
  "orig_nbformat": 4
 },
 "nbformat": 4,
 "nbformat_minor": 2
}
