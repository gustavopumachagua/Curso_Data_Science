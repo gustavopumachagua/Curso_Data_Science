{
 "cells": [
  {
   "attachments": {},
   "cell_type": "markdown",
   "metadata": {},
   "source": [
    "| **Inicio** | **atrás 18** | **Siguiente 20** |\n",
    "|----------- |-------------- |---------------|\n",
    "| [🏠](../../README.md) | [⏪](./18.Trabajando_con_archivos_txt.ipynb)| [⏩](./20.List%20Comprehension.ipynb)|"
   ]
  },
  {
   "attachments": {},
   "cell_type": "markdown",
   "metadata": {},
   "source": [
    "# **19. Errores y Excepciones en Python**"
   ]
  },
  {
   "attachments": {},
   "cell_type": "markdown",
   "metadata": {},
   "source": [
    "## **Errores y Excepciones**"
   ]
  },
  {
   "attachments": {},
   "cell_type": "markdown",
   "metadata": {},
   "source": [
    "Los errores y excepciones en Python son situaciones inesperadas o problemas que ocurren durante la ejecución de un programa. Cuando se produce un error, el flujo normal del programa se interrumpe y se genera un mensaje de error que indica el tipo de error y la ubicación en el código donde se produjo. Las excepciones, por otro lado, son eventos específicos que ocurren durante la ejecución y que pueden ser \"capturados\" y manejados por el código.\n",
    "\n",
    "Python proporciona una forma de manejar los errores y excepciones utilizando bloques `try-except`. El bloque `try` permite ejecutar un código que podría generar un error, y el bloque `except` permite capturar y manejar ese error en caso de que ocurra.\n",
    "\n",
    "Aquí hay un ejemplo para ilustrar el uso de los bloques `try-except`:"
   ]
  },
  {
   "cell_type": "code",
   "execution_count": 1,
   "metadata": {},
   "outputs": [
    {
     "name": "stdout",
     "output_type": "stream",
     "text": [
      "El resultado de la división es: 0.6666666666666666\n"
     ]
    }
   ],
   "source": [
    "try:\n",
    "    # Código que podría generar un error\n",
    "    num1 = int(input(\"Ingrese un número: \"))\n",
    "    num2 = int(input(\"Ingrese otro número: \"))\n",
    "    resultado = num1 / num2\n",
    "    print(\"El resultado de la división es:\", resultado)\n",
    "except ValueError:\n",
    "    print(\"Error: Ingrese solo números enteros.\")\n",
    "except ZeroDivisionError:\n",
    "    print(\"Error: No se puede dividir entre cero.\")"
   ]
  },
  {
   "attachments": {},
   "cell_type": "markdown",
   "metadata": {},
   "source": [
    "En este ejemplo, el código dentro del bloque `try` solicita al usuario ingresar dos números enteros y realiza una división. Sin embargo, existen dos posibles errores que pueden ocurrir: el usuario podría ingresar un valor no numérico (lo que generaría un `ValueError`) o el segundo número podría ser cero (lo que generaría un `ZeroDivisionError`).\n",
    "\n",
    "Al utilizar los bloques `except`, podemos capturar estos errores y manejarlos de manera adecuada. En el ejemplo, si se produce un `ValueError`, se imprime un mensaje indicando que se deben ingresar solo números enteros. Si se produce un `ZeroDivisionError`, se imprime un mensaje indicando que no se puede dividir entre cero.\n",
    "\n",
    "Esto evita que el programa se detenga abruptamente y proporciona una forma de manejar los errores de manera controlada. Además, se pueden agregar más bloques `except` para manejar diferentes tipos de errores de manera específica.\n",
    "\n",
    "En resumen, los errores y excepciones en Python son eventos inesperados o problemas que pueden ocurrir durante la ejecución de un programa. Utilizando bloques `try-except`, podemos capturar y manejar estos errores de manera controlada, evitando que el programa se detenga y permitiendo una gestión adecuada de las situaciones excepcionales."
   ]
  },
  {
   "attachments": {},
   "cell_type": "markdown",
   "metadata": {},
   "source": [
    "## **Errores de sintaxis**"
   ]
  },
  {
   "attachments": {},
   "cell_type": "markdown",
   "metadata": {},
   "source": [
    "Los errores de sintaxis en Python son errores que ocurren cuando el intérprete encuentra una instrucción que viola las reglas de sintaxis del lenguaje. Estos errores se producen durante la etapa de análisis del código, antes de que el programa se ejecute, y generalmente se indican mediante un mensaje de error que muestra la línea donde se encuentra el error y una descripción del problema.\n",
    "\n",
    "Los errores de sintaxis son comunes cuando se cometen errores gramaticales o se omiten elementos necesarios en el código. Algunos ejemplos comunes de errores de sintaxis en Python incluyen:\n",
    "\n",
    "1. Falta de dos puntos `(:)` al final de una declaración `if`, `for`, `while` u otra estructura de control."
   ]
  },
  {
   "cell_type": "code",
   "execution_count": 2,
   "metadata": {},
   "outputs": [
    {
     "ename": "SyntaxError",
     "evalue": "invalid syntax (1855584481.py, line 1)",
     "output_type": "error",
     "traceback": [
      "\u001b[0;36m  Input \u001b[0;32mIn [2]\u001b[0;36m\u001b[0m\n\u001b[0;31m    if x > 5  # Error de sintaxis, falta el \":\" al final de la línea\u001b[0m\n\u001b[0m              ^\u001b[0m\n\u001b[0;31mSyntaxError\u001b[0m\u001b[0;31m:\u001b[0m invalid syntax\n"
     ]
    }
   ],
   "source": [
    "if x > 5  # Error de sintaxis, falta el \":\" al final de la línea\n",
    "    print(\"x es mayor que 5\")"
   ]
  },
  {
   "attachments": {},
   "cell_type": "markdown",
   "metadata": {},
   "source": [
    "2. Uso incorrecto de comillas o paréntesis."
   ]
  },
  {
   "cell_type": "code",
   "execution_count": 3,
   "metadata": {},
   "outputs": [
    {
     "ename": "SyntaxError",
     "evalue": "EOL while scanning string literal (1176117768.py, line 1)",
     "output_type": "error",
     "traceback": [
      "\u001b[0;36m  Input \u001b[0;32mIn [3]\u001b[0;36m\u001b[0m\n\u001b[0;31m    print('Hola\")  # Error de sintaxis, comillas no coinciden\u001b[0m\n\u001b[0m                                                             ^\u001b[0m\n\u001b[0;31mSyntaxError\u001b[0m\u001b[0;31m:\u001b[0m EOL while scanning string literal\n"
     ]
    }
   ],
   "source": [
    "print('Hola\")  # Error de sintaxis, comillas no coinciden\n",
    "print(\"Hola')  # Error de sintaxis, comillas no coinciden\n",
    "print(\"Hola)   # Error de sintaxis, paréntesis no coinciden"
   ]
  },
  {
   "attachments": {},
   "cell_type": "markdown",
   "metadata": {},
   "source": [
    "3. Uso incorrecto de operadores o símbolos."
   ]
  },
  {
   "cell_type": "code",
   "execution_count": 4,
   "metadata": {},
   "outputs": [
    {
     "ename": "SyntaxError",
     "evalue": "invalid syntax (979452962.py, line 1)",
     "output_type": "error",
     "traceback": [
      "\u001b[0;36m  Input \u001b[0;32mIn [4]\u001b[0;36m\u001b[0m\n\u001b[0;31m    resultado = 10 /   # Error de sintaxis, operador de división incompleto\u001b[0m\n\u001b[0m                       ^\u001b[0m\n\u001b[0;31mSyntaxError\u001b[0m\u001b[0;31m:\u001b[0m invalid syntax\n"
     ]
    }
   ],
   "source": [
    "resultado = 10 /   # Error de sintaxis, operador de división incompleto\n",
    "resultado = 10 **  # Error de sintaxis, operador de exponenciación incompleto"
   ]
  },
  {
   "attachments": {},
   "cell_type": "markdown",
   "metadata": {},
   "source": [
    "4. Uso incorrecto de palabras clave o identificadores."
   ]
  },
  {
   "cell_type": "code",
   "execution_count": 5,
   "metadata": {},
   "outputs": [
    {
     "ename": "SyntaxError",
     "evalue": "invalid syntax (3344700237.py, line 1)",
     "output_type": "error",
     "traceback": [
      "\u001b[0;36m  Input \u001b[0;32mIn [5]\u001b[0;36m\u001b[0m\n\u001b[0;31m    for = 1  # Error de sintaxis, \"for\" es una palabra clave reservada\u001b[0m\n\u001b[0m        ^\u001b[0m\n\u001b[0;31mSyntaxError\u001b[0m\u001b[0;31m:\u001b[0m invalid syntax\n"
     ]
    }
   ],
   "source": [
    "for = 1  # Error de sintaxis, \"for\" es una palabra clave reservada\n",
    "print(\"hello\" + True)  # Error de sintaxis, no se pueden sumar un str y un bool"
   ]
  },
  {
   "attachments": {},
   "cell_type": "markdown",
   "metadata": {},
   "source": [
    "Cuando se produce un error de sintaxis, Python genera una excepción llamada `SyntaxError`. El mensaje de error proporciona información sobre la línea y la ubicación donde ocurrió el error, lo que ayuda a identificar y corregir el problema.\n",
    "\n",
    "Es importante tener en cuenta que los errores de sintaxis deben corregirse antes de que el programa se pueda ejecutar correctamente. El intérprete no puede continuar con la ejecución si encuentra un error de sintaxis, ya que el código no cumple con las reglas del lenguaje.\n",
    "\n",
    "En resumen, los errores de sintaxis en Python ocurren cuando el código viola las reglas de sintaxis del lenguaje. Estos errores se detectan durante la etapa de análisis y deben corregirse antes de que el programa pueda ejecutarse correctamente. Los mensajes de error proporcionados por el intérprete indican la ubicación y la descripción del error, lo que ayuda a identificar y solucionar el problema."
   ]
  },
  {
   "attachments": {},
   "cell_type": "markdown",
   "metadata": {},
   "source": [
    "## **Excepciones de Python**"
   ]
  },
  {
   "attachments": {},
   "cell_type": "markdown",
   "metadata": {},
   "source": [
    "Las excepciones en Python son eventos que ocurren durante la ejecución de un programa y que interrumpen el flujo normal de ejecución. Cuando una excepción se produce, el programa deja de ejecutarse en el punto donde ocurrió y busca un bloque de código especial llamado `\"manejador de excepciones\"` que pueda manejar el tipo específico de excepción. Si no se encuentra un manejador adecuado, el programa se detiene y muestra un mensaje de error.\n",
    "\n",
    "Las excepciones en Python se utilizan para manejar situaciones excepcionales o errores que pueden ocurrir durante la ejecución del programa. Algunos ejemplos comunes de excepciones incluyen:\n",
    "\n",
    "**1. ZeroDivisionError:**\n",
    "\n",
    " Se produce cuando se intenta dividir un número entre cero."
   ]
  },
  {
   "cell_type": "code",
   "execution_count": 6,
   "metadata": {},
   "outputs": [
    {
     "ename": "ZeroDivisionError",
     "evalue": "division by zero",
     "output_type": "error",
     "traceback": [
      "\u001b[0;31m---------------------------------------------------------------------------\u001b[0m",
      "\u001b[0;31mZeroDivisionError\u001b[0m                         Traceback (most recent call last)",
      "\u001b[1;32m/home/puma/personalprojects/project_data/Curso_Data_Science/Python 3 de la A a la Z/Temario/19.Errores_Excepciones.ipynb Celda 19\u001b[0m in \u001b[0;36m<cell line: 1>\u001b[0;34m()\u001b[0m\n\u001b[0;32m----> <a href='vscode-notebook-cell://wsl%2Bubuntu/home/puma/personalprojects/project_data/Curso_Data_Science/Python%203%20de%20la%20A%20a%20la%20Z/Temario/19.Errores_Excepciones.ipynb#X25sdnNjb2RlLXJlbW90ZQ%3D%3D?line=0'>1</a>\u001b[0m resultado \u001b[39m=\u001b[39m \u001b[39m10\u001b[39;49m \u001b[39m/\u001b[39;49m \u001b[39m0\u001b[39;49m\n",
      "\u001b[0;31mZeroDivisionError\u001b[0m: division by zero"
     ]
    }
   ],
   "source": [
    "resultado = 10 / 0  # ZeroDivisionError: division by zero"
   ]
  },
  {
   "attachments": {},
   "cell_type": "markdown",
   "metadata": {},
   "source": [
    "**2. TypeError:**\n",
    "\n",
    " Se produce cuando se realiza una operación incompatible con el tipo de datos."
   ]
  },
  {
   "cell_type": "code",
   "execution_count": 7,
   "metadata": {},
   "outputs": [
    {
     "ename": "TypeError",
     "evalue": "can only concatenate str (not \"int\") to str",
     "output_type": "error",
     "traceback": [
      "\u001b[0;31m---------------------------------------------------------------------------\u001b[0m",
      "\u001b[0;31mTypeError\u001b[0m                                 Traceback (most recent call last)",
      "\u001b[1;32m/home/puma/personalprojects/project_data/Curso_Data_Science/Python 3 de la A a la Z/Temario/19.Errores_Excepciones.ipynb Celda 21\u001b[0m in \u001b[0;36m<cell line: 1>\u001b[0;34m()\u001b[0m\n\u001b[0;32m----> <a href='vscode-notebook-cell://wsl%2Bubuntu/home/puma/personalprojects/project_data/Curso_Data_Science/Python%203%20de%20la%20A%20a%20la%20Z/Temario/19.Errores_Excepciones.ipynb#X30sdnNjb2RlLXJlbW90ZQ%3D%3D?line=0'>1</a>\u001b[0m resultado \u001b[39m=\u001b[39m \u001b[39m\"\u001b[39;49m\u001b[39m10\u001b[39;49m\u001b[39m\"\u001b[39;49m \u001b[39m+\u001b[39;49m \u001b[39m5\u001b[39;49m\n",
      "\u001b[0;31mTypeError\u001b[0m: can only concatenate str (not \"int\") to str"
     ]
    }
   ],
   "source": [
    "resultado = \"10\" + 5  # TypeError: can only concatenate str (not \"int\") to str"
   ]
  },
  {
   "attachments": {},
   "cell_type": "markdown",
   "metadata": {},
   "source": [
    "**3. FileNotFoundError:**\n",
    "\n",
    " Se produce cuando se intenta abrir un archivo que no existe."
   ]
  },
  {
   "cell_type": "code",
   "execution_count": 8,
   "metadata": {},
   "outputs": [
    {
     "ename": "FileNotFoundError",
     "evalue": "[Errno 2] No such file or directory: 'archivo.txt'",
     "output_type": "error",
     "traceback": [
      "\u001b[0;31m---------------------------------------------------------------------------\u001b[0m",
      "\u001b[0;31mFileNotFoundError\u001b[0m                         Traceback (most recent call last)",
      "\u001b[1;32m/home/puma/personalprojects/project_data/Curso_Data_Science/Python 3 de la A a la Z/Temario/19.Errores_Excepciones.ipynb Celda 23\u001b[0m in \u001b[0;36m<cell line: 1>\u001b[0;34m()\u001b[0m\n\u001b[0;32m----> <a href='vscode-notebook-cell://wsl%2Bubuntu/home/puma/personalprojects/project_data/Curso_Data_Science/Python%203%20de%20la%20A%20a%20la%20Z/Temario/19.Errores_Excepciones.ipynb#X32sdnNjb2RlLXJlbW90ZQ%3D%3D?line=0'>1</a>\u001b[0m archivo \u001b[39m=\u001b[39m \u001b[39mopen\u001b[39;49m(\u001b[39m\"\u001b[39;49m\u001b[39marchivo.txt\u001b[39;49m\u001b[39m\"\u001b[39;49m)\n",
      "\u001b[0;31mFileNotFoundError\u001b[0m: [Errno 2] No such file or directory: 'archivo.txt'"
     ]
    }
   ],
   "source": [
    "archivo = open(\"archivo.txt\")  # FileNotFoundError: [Errno 2] No such file or directory: 'archivo.txt'"
   ]
  },
  {
   "attachments": {},
   "cell_type": "markdown",
   "metadata": {},
   "source": [
    "**4. IndexError:**\n",
    "\n",
    " Se produce cuando se intenta acceder a un índice que está fuera del rango válido."
   ]
  },
  {
   "cell_type": "code",
   "execution_count": 9,
   "metadata": {},
   "outputs": [
    {
     "ename": "IndexError",
     "evalue": "list index out of range",
     "output_type": "error",
     "traceback": [
      "\u001b[0;31m---------------------------------------------------------------------------\u001b[0m",
      "\u001b[0;31mIndexError\u001b[0m                                Traceback (most recent call last)",
      "\u001b[1;32m/home/puma/personalprojects/project_data/Curso_Data_Science/Python 3 de la A a la Z/Temario/19.Errores_Excepciones.ipynb Celda 25\u001b[0m in \u001b[0;36m<cell line: 2>\u001b[0;34m()\u001b[0m\n\u001b[1;32m      <a href='vscode-notebook-cell://wsl%2Bubuntu/home/puma/personalprojects/project_data/Curso_Data_Science/Python%203%20de%20la%20A%20a%20la%20Z/Temario/19.Errores_Excepciones.ipynb#X34sdnNjb2RlLXJlbW90ZQ%3D%3D?line=0'>1</a>\u001b[0m lista \u001b[39m=\u001b[39m [\u001b[39m1\u001b[39m, \u001b[39m2\u001b[39m, \u001b[39m3\u001b[39m]\n\u001b[0;32m----> <a href='vscode-notebook-cell://wsl%2Bubuntu/home/puma/personalprojects/project_data/Curso_Data_Science/Python%203%20de%20la%20A%20a%20la%20Z/Temario/19.Errores_Excepciones.ipynb#X34sdnNjb2RlLXJlbW90ZQ%3D%3D?line=1'>2</a>\u001b[0m elemento \u001b[39m=\u001b[39m lista[\u001b[39m5\u001b[39;49m]\n",
      "\u001b[0;31mIndexError\u001b[0m: list index out of range"
     ]
    }
   ],
   "source": [
    "lista = [1, 2, 3]\n",
    "elemento = lista[5]  # IndexError: list index out of range"
   ]
  },
  {
   "attachments": {},
   "cell_type": "markdown",
   "metadata": {},
   "source": [
    "Cuando se produce una excepción, Python genera un objeto de excepción que encapsula información sobre el error, como el tipo de excepción y un mensaje de error asociado. El programa busca un bloque `try-except` que pueda manejar esa excepción específica. Si se encuentra un bloque `except` que coincide con el tipo de excepción, se ejecuta el código dentro del bloque y el programa continúa su ejecución normalmente. Si no se encuentra un bloque adecuado, el programa se detiene y muestra un `traceback`, que es una lista de llamadas a funciones que condujeron a la excepción.\n",
    "\n",
    "Aquí hay un ejemplo que muestra cómo manejar una excepción en Python:"
   ]
  },
  {
   "cell_type": "code",
   "execution_count": 10,
   "metadata": {},
   "outputs": [
    {
     "name": "stdout",
     "output_type": "stream",
     "text": [
      "Error: No se puede dividir entre cero.\n"
     ]
    }
   ],
   "source": [
    "try:\n",
    "    resultado = 10 / 0\n",
    "except ZeroDivisionError:\n",
    "    print(\"Error: No se puede dividir entre cero.\")"
   ]
  },
  {
   "attachments": {},
   "cell_type": "markdown",
   "metadata": {},
   "source": [
    "En este ejemplo, se intenta dividir un número entre cero, lo cual genera un `ZeroDivisionError`. Sin embargo, el bloque `try-except` captura la excepción y muestra un mensaje de error personalizado en lugar de detener el programa.\n",
    "\n",
    "Además de los bloques `try-except`, también es posible utilizar bloques `finally` y `else` para realizar acciones adicionales. El bloque `finally` se ejecuta siempre, sin importar si se produce una excepción o no. El bloque `else` se ejecuta solo si no se produce ninguna excepción dentro del bloque `try`.\n",
    "\n",
    "En resumen, las excepciones en Python son eventos que ocurren durante la ejecución de un programa y que interrumpen el flujo normal de ejecución. Se utilizan para manejar situaciones excepcionales o errores que pueden ocurrir. Los bloques `try-except` se utilizan para capturar y manejar excepciones específicas, permitiendo que el programa continúe su ejecución en caso de error."
   ]
  },
  {
   "attachments": {},
   "cell_type": "markdown",
   "metadata": {},
   "source": [
    "## **Manejo de excepciones**"
   ]
  },
  {
   "attachments": {},
   "cell_type": "markdown",
   "metadata": {},
   "source": [
    "El manejo de excepciones en Python se realiza utilizando bloques `try-except`. Un bloque `try` se utiliza para envolver el código que puede generar una excepción, mientras que uno o más bloques `except` se utilizan para manejar diferentes tipos de excepciones de manera específica.\n",
    "\n",
    "La estructura básica del manejo de excepciones es la siguiente:"
   ]
  },
  {
   "attachments": {},
   "cell_type": "markdown",
   "metadata": {},
   "source": [
    "```\n",
    "try:\n",
    "    # Código que puede generar una excepción\n",
    "    ...\n",
    "except TipoDeExcepcion1:\n",
    "    # Código para manejar la excepción TipoDeExcepcion1\n",
    "    ...\n",
    "except TipoDeExcepcion2:\n",
    "    # Código para manejar la excepción TipoDeExcepcion2\n",
    "    ...\n",
    "except:\n",
    "    # Código para manejar cualquier otra excepción\n",
    "    ...\n",
    "```"
   ]
  },
  {
   "attachments": {},
   "cell_type": "markdown",
   "metadata": {},
   "source": [
    "Aquí tienes una explicación detallada del manejo de excepciones con ejemplos:\n",
    "\n",
    "1. Manejo de una excepción específica:"
   ]
  },
  {
   "cell_type": "code",
   "execution_count": 12,
   "metadata": {},
   "outputs": [
    {
     "name": "stdout",
     "output_type": "stream",
     "text": [
      "Error: No se puede dividir entre cero.\n"
     ]
    }
   ],
   "source": [
    "try:\n",
    "    resultado = 10 / 0  # Genera un ZeroDivisionError\n",
    "except ZeroDivisionError:\n",
    "    print(\"Error: No se puede dividir entre cero.\")"
   ]
  },
  {
   "attachments": {},
   "cell_type": "markdown",
   "metadata": {},
   "source": [
    "En este ejemplo, se intenta dividir un número entre cero, lo cual genera un `ZeroDivisionError`. El bloque `except ZeroDivisionError` captura la excepción y muestra un mensaje de error personalizado.\n",
    "\n",
    "2. Manejo de múltiples excepciones:"
   ]
  },
  {
   "cell_type": "code",
   "execution_count": 13,
   "metadata": {},
   "outputs": [
    {
     "name": "stdout",
     "output_type": "stream",
     "text": [
      "Error: No se puede dividir entre cero.\n"
     ]
    }
   ],
   "source": [
    "try:\n",
    "    resultado = 10 / 0  # Genera un ZeroDivisionError\n",
    "    numero = int(\"abc\")  # Genera un ValueError\n",
    "except ZeroDivisionError:\n",
    "    print(\"Error: No se puede dividir entre cero.\")\n",
    "except ValueError:\n",
    "    print(\"Error: No se puede convertir la cadena en un número.\")"
   ]
  },
  {
   "attachments": {},
   "cell_type": "markdown",
   "metadata": {},
   "source": [
    "En este ejemplo, se generan dos excepciones diferentes: `ZeroDivisionError` y `ValueError`. Cada bloque `except` maneja una excepción específica y muestra un mensaje de error correspondiente.\n",
    "\n",
    "3. Manejo genérico de excepciones:"
   ]
  },
  {
   "cell_type": "code",
   "execution_count": 14,
   "metadata": {},
   "outputs": [
    {
     "name": "stdout",
     "output_type": "stream",
     "text": [
      "Error: division by zero\n"
     ]
    }
   ],
   "source": [
    "try:\n",
    "    resultado = 10 / 0  # Genera un ZeroDivisionError\n",
    "except Exception as e:\n",
    "    print(\"Error:\", str(e))"
   ]
  },
  {
   "attachments": {},
   "cell_type": "markdown",
   "metadata": {},
   "source": [
    "En este ejemplo, se utiliza el bloque `except Exception` para capturar cualquier tipo de excepción. La variable e almacena la información de la excepción, y se muestra en el mensaje de error.\n",
    "\n",
    "4. Uso del bloque else:"
   ]
  },
  {
   "cell_type": "code",
   "execution_count": 15,
   "metadata": {},
   "outputs": [
    {
     "name": "stdout",
     "output_type": "stream",
     "text": [
      "El resultado es: 5.0\n"
     ]
    }
   ],
   "source": [
    "try:\n",
    "    resultado = 10 / 2\n",
    "except ZeroDivisionError:\n",
    "    print(\"Error: No se puede dividir entre cero.\")\n",
    "else:\n",
    "    print(\"El resultado es:\", resultado)"
   ]
  },
  {
   "attachments": {},
   "cell_type": "markdown",
   "metadata": {},
   "source": [
    "En este ejemplo, si no se produce ninguna excepción dentro del bloque `try`, se ejecuta el bloque `else`. En este caso, se muestra el resultado de la división.\n",
    "\n",
    "5. Uso del bloque finally:"
   ]
  },
  {
   "cell_type": "code",
   "execution_count": 18,
   "metadata": {},
   "outputs": [
    {
     "name": "stdout",
     "output_type": "stream",
     "text": [
      "Error: No se encontró el archivo.\n"
     ]
    }
   ],
   "source": [
    "try:\n",
    "    archivo = open(\"datos.txt\", \"r\")\n",
    "    # Operaciones en el archivo\n",
    "except FileNotFoundError:\n",
    "    print(\"Error: No se encontró el archivo.\")\n",
    "finally:\n",
    "    if 'archivo' in locals():\n",
    "        archivo.close()  # Se cierra el archivo si está definido"
   ]
  },
  {
   "attachments": {},
   "cell_type": "markdown",
   "metadata": {},
   "source": [
    "En este ejemplo, el bloque `finally` se utiliza para asegurarse de que el archivo se cierre correctamente, incluso si se produce una excepción. Esto es útil para liberar recursos o realizar tareas de limpieza.\n",
    "\n",
    "El manejo de excepciones en Python permite controlar situaciones excepcionales y manejar los errores de manera más elegante y controlada."
   ]
  },
  {
   "attachments": {},
   "cell_type": "markdown",
   "metadata": {},
   "source": [
    "## **try / except**"
   ]
  },
  {
   "attachments": {},
   "cell_type": "markdown",
   "metadata": {},
   "source": [
    "En Python, el bloque `try/except` se utiliza para manejar excepciones. Permite capturar y manejar errores que pueden ocurrir durante la ejecución de un programa, evitando que el programa se detenga abruptamente.\n",
    "\n",
    "La estructura básica del `try/except` es la siguiente:"
   ]
  },
  {
   "attachments": {},
   "cell_type": "markdown",
   "metadata": {},
   "source": [
    "```\n",
    "try:\n",
    "    # Bloque de código donde se puede producir una excepción\n",
    "    # ...\n",
    "except Excepcion1:\n",
    "    # Manejo de la excepción Excepcion1\n",
    "    # ...\n",
    "except Excepcion2:\n",
    "    # Manejo de la excepción Excepcion2\n",
    "    # ...\n",
    "else:\n",
    "    # Código a ejecutar si no se produce ninguna excepción\n",
    "    # ...\n",
    "finally:\n",
    "    # Código a ejecutar siempre, independientemente de si se producen excepciones o no\n",
    "    # ...\n",
    "```"
   ]
  },
  {
   "attachments": {},
   "cell_type": "markdown",
   "metadata": {},
   "source": [
    "Aquí hay una explicación detallada de cada parte:\n",
    "\n",
    "* El bloque `try` contiene el código que puede lanzar una o más excepciones. Si ocurre alguna excepción, el flujo del programa se desvía al bloque except correspondiente.\n",
    "\n",
    "* Después de `except`, se especifica el tipo de excepción que se quiere capturar. Puede haber varios bloques except para manejar diferentes tipos de excepciones. Si se produce una excepción de ese tipo, el código dentro del bloque except correspondiente se ejecutará.\n",
    "\n",
    "* El bloque `else` es opcional y se ejecuta solo si no se produce ninguna excepción en el bloque `try`. Es útil para realizar acciones adicionales cuando no hay errores.\n",
    "\n",
    "* El bloque `finally` también es opcional y se ejecuta siempre, independientemente de si se producen excepciones o no. Se utiliza para realizar acciones que deben ocurrir al final, como cerrar archivos o liberar recursos.\n",
    "\n",
    "Aquí tienes un ejemplo para ilustrar el uso del `try/except`:"
   ]
  },
  {
   "cell_type": "code",
   "execution_count": 19,
   "metadata": {},
   "outputs": [
    {
     "name": "stdout",
     "output_type": "stream",
     "text": [
      "El resultado de la división es: 2.0\n",
      "La división se realizó correctamente.\n",
      "Fin del programa.\n"
     ]
    }
   ],
   "source": [
    "try:\n",
    "    numero1 = int(input(\"Ingrese un número: \"))\n",
    "    numero2 = int(input(\"Ingrese otro número: \"))\n",
    "    resultado = numero1 / numero2\n",
    "    print(\"El resultado de la división es:\", resultado)\n",
    "except ValueError:\n",
    "    print(\"Error: Ingrese solo números enteros.\")\n",
    "except ZeroDivisionError:\n",
    "    print(\"Error: No se puede dividir entre cero.\")\n",
    "else:\n",
    "    print(\"La división se realizó correctamente.\")\n",
    "finally:\n",
    "    print(\"Fin del programa.\")"
   ]
  },
  {
   "attachments": {},
   "cell_type": "markdown",
   "metadata": {},
   "source": [
    "En este ejemplo, el programa intenta realizar una división entre dos números ingresados por el usuario. Si el usuario ingresa un valor no numérico, se captura la excepción `ValueError` y se muestra un mensaje de error. Si el usuario ingresa cero como divisor, se captura la excepción `ZeroDivisionError` y se muestra otro mensaje de error. Si no se produce ninguna excepción, se imprime el resultado de la división. Finalmente, se muestra un mensaje de \"Fin del programa\" independientemente de si se produjeron excepciones o no.\n",
    "\n",
    "El manejo de excepciones con `try/except` es una práctica recomendada para garantizar que un programa pueda recuperarse de errores inesperados y seguir ejecutándose de manera controlada."
   ]
  },
  {
   "attachments": {},
   "cell_type": "markdown",
   "metadata": {},
   "source": [
    "## **try / finally**"
   ]
  },
  {
   "attachments": {},
   "cell_type": "markdown",
   "metadata": {},
   "source": [
    "En Python, la estructura `try/finally` se utiliza para manejar acciones que deben ejecutarse siempre, independientemente de si ocurren excepciones o no. El bloque `finally` se coloca después del bloque `try` y opcionalmente del bloque `except`.\n",
    "\n",
    "La estructura básica del `try/finally` es la siguiente:"
   ]
  },
  {
   "attachments": {},
   "cell_type": "markdown",
   "metadata": {},
   "source": [
    "```\n",
    "try:\n",
    "    # Bloque de código donde pueden ocurrir excepciones\n",
    "    # ...\n",
    "finally:\n",
    "    # Bloque de código que se ejecuta siempre\n",
    "    # ...\n",
    "```"
   ]
  },
  {
   "attachments": {},
   "cell_type": "markdown",
   "metadata": {},
   "source": [
    "Aquí hay una explicación detallada de cómo funciona:\n",
    "\n",
    "* El bloque `try` contiene el código en el que pueden ocurrir excepciones.\n",
    "\n",
    "* Si se produce una excepción dentro del bloque `try`, el flujo del programa se desvía al bloque `finally` después de ejecutar cualquier bloque `except` correspondiente.\n",
    "\n",
    "* Si no se produce ninguna excepción, el bloque `finally` se ejecuta después de que se complete el bloque `try`.\n",
    "\n",
    "* El bloque `finally` se utiliza para realizar acciones que deben ejecutarse siempre, independientemente de si se producen excepciones o no. Esto es útil para liberar recursos, cerrar archivos o realizar cualquier otra acción de limpieza.\n",
    "\n",
    "Aquí tienes un ejemplo para ilustrar el uso del `try/finally`:"
   ]
  },
  {
   "cell_type": "code",
   "execution_count": 21,
   "metadata": {},
   "outputs": [
    {
     "name": "stdout",
     "output_type": "stream",
     "text": [
      "Este es el primer renglón\n",
      "Este es el segundo renglón\n",
      "Este es el tercer renglón\n",
      "Este es el cuarto renglón\n",
      "\n",
      "Archivo cerrado.\n"
     ]
    }
   ],
   "source": [
    "try:\n",
    "    archivo = open(\"../modules/archivo.txt\", \"r\")\n",
    "    contenido = archivo.read()\n",
    "    print(contenido)\n",
    "finally:\n",
    "    archivo.close()\n",
    "    print(\"Archivo cerrado.\")"
   ]
  },
  {
   "attachments": {},
   "cell_type": "markdown",
   "metadata": {},
   "source": [
    "En este ejemplo, se intenta abrir un archivo llamado `\"archivo.txt\"` en modo de lectura. Si se produce una excepción durante la apertura o lectura del archivo, el programa saltará al bloque `finally` para cerrar el archivo abierto. Si no se produce ninguna excepción, el bloque `finally` también se ejecutará después de leer el contenido del archivo y cerrarlo. El mensaje `\"Archivo cerrado\"` se imprimirá siempre, independientemente de si se produjeron excepciones o no.\n",
    "\n",
    "El uso de `try/finally` es útil para garantizar que ciertas acciones críticas se realicen sin importar si se producen excepciones o no. Esto ayuda a mantener un código limpio y asegurarse de que los recursos se manejen adecuadamente, evitando posibles fugas o problemas de memoria."
   ]
  },
  {
   "attachments": {},
   "cell_type": "markdown",
   "metadata": {},
   "source": [
    "## **assert**"
   ]
  },
  {
   "attachments": {},
   "cell_type": "markdown",
   "metadata": {},
   "source": [
    "En Python, `assert` es una declaración que se utiliza para realizar afirmaciones en el código. Se utiliza para verificar si una condición es verdadera y, si no lo es, lanza una excepción `AssertionError`. Es una forma de asegurarse de que ciertas condiciones se cumplan en el programa durante su ejecución.\n",
    "\n",
    "La sintaxis básica de `assert` es la siguiente:"
   ]
  },
  {
   "attachments": {},
   "cell_type": "markdown",
   "metadata": {},
   "source": [
    "`assert condición, mensaje_de_error`"
   ]
  },
  {
   "attachments": {},
   "cell_type": "markdown",
   "metadata": {},
   "source": [
    "* La condición es la expresión que se evalúa y debe ser verdadera. Si la condición es falsa, se genera un `AssertionError`.\n",
    "\n",
    "* El `mensaje_de_error` es una cadena opcional que se puede proporcionar para dar más detalles sobre el error. Se mostrará junto con el `AssertionError` si se produce.\n",
    "\n",
    "Aquí tienes un ejemplo que ilustra cómo se utiliza `assert`:"
   ]
  },
  {
   "cell_type": "code",
   "execution_count": 22,
   "metadata": {},
   "outputs": [
    {
     "name": "stdout",
     "output_type": "stream",
     "text": [
      "5.0\n"
     ]
    },
    {
     "ename": "AssertionError",
     "evalue": "La división por cero no está permitida",
     "output_type": "error",
     "traceback": [
      "\u001b[0;31m---------------------------------------------------------------------------\u001b[0m",
      "\u001b[0;31mAssertionError\u001b[0m                            Traceback (most recent call last)",
      "\u001b[1;32m/home/puma/personalprojects/project_data/Curso_Data_Science/Python 3 de la A a la Z/Temario/19.Errores_Excepciones.ipynb Celda 59\u001b[0m in \u001b[0;36m<cell line: 8>\u001b[0;34m()\u001b[0m\n\u001b[1;32m      <a href='vscode-notebook-cell://wsl%2Bubuntu/home/puma/personalprojects/project_data/Curso_Data_Science/Python%203%20de%20la%20A%20a%20la%20Z/Temario/19.Errores_Excepciones.ipynb#Y115sdnNjb2RlLXJlbW90ZQ%3D%3D?line=4'>5</a>\u001b[0m resultado \u001b[39m=\u001b[39m dividir(\u001b[39m10\u001b[39m, \u001b[39m2\u001b[39m)\n\u001b[1;32m      <a href='vscode-notebook-cell://wsl%2Bubuntu/home/puma/personalprojects/project_data/Curso_Data_Science/Python%203%20de%20la%20A%20a%20la%20Z/Temario/19.Errores_Excepciones.ipynb#Y115sdnNjb2RlLXJlbW90ZQ%3D%3D?line=5'>6</a>\u001b[0m \u001b[39mprint\u001b[39m(resultado)  \u001b[39m# Salida: 5.0\u001b[39;00m\n\u001b[0;32m----> <a href='vscode-notebook-cell://wsl%2Bubuntu/home/puma/personalprojects/project_data/Curso_Data_Science/Python%203%20de%20la%20A%20a%20la%20Z/Temario/19.Errores_Excepciones.ipynb#Y115sdnNjb2RlLXJlbW90ZQ%3D%3D?line=7'>8</a>\u001b[0m resultado \u001b[39m=\u001b[39m dividir(\u001b[39m10\u001b[39;49m, \u001b[39m0\u001b[39;49m)\n",
      "\u001b[1;32m/home/puma/personalprojects/project_data/Curso_Data_Science/Python 3 de la A a la Z/Temario/19.Errores_Excepciones.ipynb Celda 59\u001b[0m in \u001b[0;36mdividir\u001b[0;34m(a, b)\u001b[0m\n\u001b[1;32m      <a href='vscode-notebook-cell://wsl%2Bubuntu/home/puma/personalprojects/project_data/Curso_Data_Science/Python%203%20de%20la%20A%20a%20la%20Z/Temario/19.Errores_Excepciones.ipynb#Y115sdnNjb2RlLXJlbW90ZQ%3D%3D?line=0'>1</a>\u001b[0m \u001b[39mdef\u001b[39;00m \u001b[39mdividir\u001b[39m(a, b):\n\u001b[0;32m----> <a href='vscode-notebook-cell://wsl%2Bubuntu/home/puma/personalprojects/project_data/Curso_Data_Science/Python%203%20de%20la%20A%20a%20la%20Z/Temario/19.Errores_Excepciones.ipynb#Y115sdnNjb2RlLXJlbW90ZQ%3D%3D?line=1'>2</a>\u001b[0m     \u001b[39massert\u001b[39;00m b \u001b[39m!=\u001b[39m \u001b[39m0\u001b[39m, \u001b[39m\"\u001b[39m\u001b[39mLa división por cero no está permitida\u001b[39m\u001b[39m\"\u001b[39m\n\u001b[1;32m      <a href='vscode-notebook-cell://wsl%2Bubuntu/home/puma/personalprojects/project_data/Curso_Data_Science/Python%203%20de%20la%20A%20a%20la%20Z/Temario/19.Errores_Excepciones.ipynb#Y115sdnNjb2RlLXJlbW90ZQ%3D%3D?line=2'>3</a>\u001b[0m     \u001b[39mreturn\u001b[39;00m a \u001b[39m/\u001b[39m b\n",
      "\u001b[0;31mAssertionError\u001b[0m: La división por cero no está permitida"
     ]
    }
   ],
   "source": [
    "def dividir(a, b):\n",
    "    assert b != 0, \"La división por cero no está permitida\"\n",
    "    return a / b\n",
    "\n",
    "resultado = dividir(10, 2)\n",
    "print(resultado)  # Salida: 5.0\n",
    "\n",
    "resultado = dividir(10, 0)\n",
    "# Se genera un AssertionError con el mensaje \"La división por cero no está permitida\""
   ]
  },
  {
   "attachments": {},
   "cell_type": "markdown",
   "metadata": {},
   "source": [
    "En este ejemplo, la función dividir utiliza `assert` para verificar si el divisor `b` es diferente de cero antes de realizar la división. Si `b` es cero, se generará un `AssertionError` con el mensaje `\"La división por cero no está permitida\"`. Esto ayuda a asegurarse de que no se realicen divisiones por cero en el código.\n",
    "\n",
    "La declaración `assert` se utiliza principalmente para realizar verificaciones internas en el código durante el desarrollo y las pruebas. Ayuda a detectar y solucionar rápidamente problemas potenciales, ya que cualquier condición falsa provocará una excepción y detendrá la ejecución del programa. Sin embargo, en la etapa de producción, es posible que se desactiven las afirmaciones para mejorar el rendimiento del código.\n",
    "\n",
    "Es importante destacar que `assert` no se utiliza para manejar errores esperados o condiciones excepcionales que puedan ocurrir durante la ejecución normal del programa. Para esos casos, se deben utilizar las estructuras de manejo de excepciones, como `try/except`."
   ]
  },
  {
   "attachments": {},
   "cell_type": "markdown",
   "metadata": {},
   "source": [
    "## **raise**"
   ]
  },
  {
   "attachments": {},
   "cell_type": "markdown",
   "metadata": {},
   "source": [
    "En Python, la palabra clave `raise` se utiliza para generar manualmente una excepción. Permite al programador lanzar una excepción específica en un momento determinado dentro del código.\n",
    "\n",
    "La sintaxis básica para utilizar `raise` es la siguiente:"
   ]
  },
  {
   "attachments": {},
   "cell_type": "markdown",
   "metadata": {},
   "source": [
    "`raise TipoDeExcepcion(\"Mensaje de error\")`"
   ]
  },
  {
   "attachments": {},
   "cell_type": "markdown",
   "metadata": {},
   "source": [
    "Donde `TipoDeExcepcion` es el tipo de excepción que se desea lanzar y `\"Mensaje de error\"` es una descripción opcional del error que se incluirá en la excepción.\n",
    "\n",
    "Cuando se ejecuta la instrucción `raise`, el flujo normal del programa se interrumpe y se crea una instancia de la excepción especificada. Esta excepción se propaga hacia atrás a través de la pila de llamadas hasta que se maneje adecuadamente mediante una cláusula `try/except`.\n",
    "\n",
    "Aquí hay un ejemplo que muestra cómo se puede utilizar `raise` para lanzar una excepción personalizada:"
   ]
  },
  {
   "cell_type": "code",
   "execution_count": 23,
   "metadata": {},
   "outputs": [
    {
     "name": "stdout",
     "output_type": "stream",
     "text": [
      "No se puede dividir entre cero\n"
     ]
    }
   ],
   "source": [
    "def dividir(a, b):\n",
    "    if b == 0:\n",
    "        raise ZeroDivisionError(\"No se puede dividir entre cero\")\n",
    "    return a / b\n",
    "\n",
    "try:\n",
    "    resultado = dividir(10, 0)\n",
    "except ZeroDivisionError as e:\n",
    "    print(e)  # Salida: No se puede dividir entre cero"
   ]
  },
  {
   "attachments": {},
   "cell_type": "markdown",
   "metadata": {},
   "source": [
    "En este ejemplo, la función dividir verifica si el divisor `b` es cero. Si es cero, se utiliza `raise` para generar una excepción `ZeroDivisionError` con el mensaje `\"No se puede dividir entre cero\"`. Luego, se captura esta excepción en la cláusula `except` y se imprime el mensaje de error.\n",
    "\n",
    "El uso de `raise` es útil cuando deseas controlar el flujo del programa y generar excepciones específicas en situaciones particulares. Puedes utilizar excepciones integradas en Python, como `ValueError`, `TypeError`, `FileNotFoundError`, o crear tus propias excepciones personalizadas para adaptarse a las necesidades de tu programa."
   ]
  },
  {
   "attachments": {},
   "cell_type": "markdown",
   "metadata": {},
   "source": [
    "## **with / as**"
   ]
  },
  {
   "attachments": {},
   "cell_type": "markdown",
   "metadata": {},
   "source": [
    "La declaración `with/as` en Python se utiliza para gestionar automáticamente la apertura y el cierre de recursos, como archivos, conexiones de red o bloqueos. Proporciona una forma más limpia y legible de trabajar con recursos que requieren una liberación explícita.\n",
    "\n",
    "La sintaxis básica de `with/as` es la siguiente:"
   ]
  },
  {
   "attachments": {},
   "cell_type": "markdown",
   "metadata": {},
   "source": [
    "```\n",
    "with recurso as variable:\n",
    "    # Código para trabajar con el recurso\n",
    "```"
   ]
  },
  {
   "attachments": {},
   "cell_type": "markdown",
   "metadata": {},
   "source": [
    "Aquí, recurso representa el recurso que se va a utilizar, como un archivo, y variable es la variable que se utiliza para acceder al recurso dentro del bloque `with`. El bloque `with` garantiza que el recurso se abrirá al principio y se cerrará automáticamente al finalizar, incluso si ocurren excepciones.\n",
    "\n",
    "Un ejemplo común de uso de `with/as` es la lectura de un archivo. Veamos un ejemplo:"
   ]
  },
  {
   "cell_type": "code",
   "execution_count": 25,
   "metadata": {},
   "outputs": [
    {
     "name": "stdout",
     "output_type": "stream",
     "text": [
      "Hola, mundo!\n",
      "Este archivo ha sido sobrescrito.\n",
      "\n"
     ]
    }
   ],
   "source": [
    "with open('../modules/mi_archivo.txt', 'r') as archivo:\n",
    "    contenido = archivo.read()\n",
    "    print(contenido)"
   ]
  },
  {
   "attachments": {},
   "cell_type": "markdown",
   "metadata": {},
   "source": [
    "En este ejemplo, se utiliza `with open()` para abrir el archivo `\"mi_archivo.txt\"` en modo de lectura. La variable archivo se utiliza para acceder al recurso dentro del bloque `with`. Dentro del bloque, se lee el contenido del archivo y se imprime. Al finalizar el bloque `with`, el archivo se cierra automáticamente, sin necesidad de llamar explícitamente al método `close()`.\n",
    "\n",
    "La ventaja de utilizar `with/as` es que garantiza la correcta liberación de recursos, incluso si ocurren excepciones dentro del bloque. Si se produce una excepción, el recurso se cerrará antes de propagar la excepción hacia arriba.\n",
    "\n",
    "En resumen, `with/as` es una forma conveniente y segura de trabajar con recursos que necesitan una liberación explícita, como archivos. Simplifica el código y garantiza que los recursos se cierren correctamente, sin la necesidad de llamar a métodos `open()` y `close()` manualmente."
   ]
  },
  {
   "attachments": {},
   "cell_type": "markdown",
   "metadata": {},
   "source": [
    "| **Inicio** | **atrás 18** | **Siguiente 20** |\n",
    "|----------- |-------------- |---------------|\n",
    "| [🏠](../../README.md) | [⏪](./18.Trabajando_con_archivos_txt.ipynb)| [⏩](./20.List%20Comprehension.ipynb)|"
   ]
  }
 ],
 "metadata": {
  "kernelspec": {
   "display_name": "base",
   "language": "python",
   "name": "python3"
  },
  "language_info": {
   "codemirror_mode": {
    "name": "ipython",
    "version": 3
   },
   "file_extension": ".py",
   "mimetype": "text/x-python",
   "name": "python",
   "nbconvert_exporter": "python",
   "pygments_lexer": "ipython3",
   "version": "3.9.12"
  },
  "orig_nbformat": 4
 },
 "nbformat": 4,
 "nbformat_minor": 2
}
