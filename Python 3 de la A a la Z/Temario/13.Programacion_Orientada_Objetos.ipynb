{
 "cells": [
  {
   "attachments": {},
   "cell_type": "markdown",
   "metadata": {},
   "source": [
    "| **Inicio** | **atrás 12** | **Siguiente 14** |\n",
    "|----------- |-------------- |---------------|\n",
    "| [🏠](../../README.md) | [⏪](./12.DataFrames_con_Pandas.ipynb)| [⏩](./14.Scripts_Modulos.ipynb)|"
   ]
  },
  {
   "attachments": {},
   "cell_type": "markdown",
   "metadata": {},
   "source": [
    "# **13. Programación Orientada a Objetos en Python**"
   ]
  },
  {
   "attachments": {},
   "cell_type": "markdown",
   "metadata": {},
   "source": [
    "## **Clases**"
   ]
  },
  {
   "attachments": {},
   "cell_type": "markdown",
   "metadata": {},
   "source": [
    "En programación orientada a objetos `(POO)`, una clase es una estructura de datos que define un conjunto de atributos y métodos que se pueden utilizar para crear objetos. Los objetos son instancias de una clase y se pueden crear varias veces, cada uno con sus propios valores de atributos.\n",
    "\n",
    "En Python, se define una clase mediante la palabra clave `class`, seguida del nombre de la clase, y después del contenido de la clase en un bloque indentado. Veamos un ejemplo:"
   ]
  },
  {
   "cell_type": "code",
   "execution_count": 1,
   "metadata": {},
   "outputs": [
    {
     "name": "stdout",
     "output_type": "stream",
     "text": [
      "Fido\n",
      "¡Guau!\n"
     ]
    }
   ],
   "source": [
    "class Perro:\n",
    "    def __init__(self, nombre, edad):\n",
    "        self.nombre = nombre\n",
    "        self.edad = edad\n",
    "    \n",
    "    def ladrar(self):\n",
    "        print(\"¡Guau!\")\n",
    "\n",
    "mi_perro = Perro(\"Fido\", 3)\n",
    "print(mi_perro.nombre)\n",
    "mi_perro.ladrar()\n"
   ]
  },
  {
   "attachments": {},
   "cell_type": "markdown",
   "metadata": {},
   "source": [
    "En este ejemplo, se define una clase `Perro` con dos atributos `(nombre y edad)` y un método `(ladrar)`. El método `__init__` es un método especial que se llama automáticamente cuando se crea un objeto de la clase y se utiliza para inicializar los atributos del objeto. En este caso, el método `__init__` toma dos argumentos (`nombre` y `edad`) y los asigna a los atributos correspondientes (`self.nombre` y `self.edad`).\n",
    "\n",
    "Luego, se crea un objeto `mi_perro` de la clase `Perro` y se le asignan los valores `\"Fido\"` y `3` a sus atributos nombre y edad, respectivamente. Después, se imprime el valor del atributo nombre del objeto `mi_perro` y se llama al método ladrar del objeto, que imprime el mensaje `\"¡Guau!\"`.\n",
    "\n",
    "Las clases pueden tener más de un método y pueden heredar atributos y métodos de otras clases. Por ejemplo:"
   ]
  },
  {
   "cell_type": "code",
   "execution_count": 3,
   "metadata": {},
   "outputs": [
    {
     "name": "stdout",
     "output_type": "stream",
     "text": [
      "Perro\n",
      "¡Guau!\n"
     ]
    }
   ],
   "source": [
    "class Animal:\n",
    "    def __init__(self, especie):\n",
    "        self.especie = especie\n",
    "\n",
    "    def hacer_sonido(self):\n",
    "        pass\n",
    "\n",
    "class Perro(Animal):\n",
    "    def __init__(self, nombre, edad):\n",
    "        super().__init__(\"Perro\")\n",
    "        self.nombre = nombre\n",
    "        self.edad = edad\n",
    "\n",
    "    def hacer_sonido(self):\n",
    "        print(\"¡Guau!\")\n",
    "\n",
    "mi_perro = Perro(\"Fido\", 3)\n",
    "print(mi_perro.especie)\n",
    "mi_perro.hacer_sonido()\n"
   ]
  },
  {
   "attachments": {},
   "cell_type": "markdown",
   "metadata": {},
   "source": [
    "En este ejemplo, se define una clase `Animal` con un atributo especie y un método `hacer_sonido`, que se define como una función vacía `(pass)` que se puede sobrescribir en clases hijas. Luego, se define una clase `Perro` que hereda de la clase `Animal` y que tiene su propio método `hacer_sonido` que imprime `\"¡Guau!\"`.\n",
    "\n",
    "Cuando se crea un objeto `mi_perro` de la clase `Perro`, se llama al método `__init__` de la clase `Perro` que inicializa los atributos `nombre` y `edad` del objeto y también llama al método `__init__` de la clase `Animal` mediante la función `super()`, que inicializa el atributo especie del objeto con el valor `\"Perro\"`. Luego, se imprime el valor del atributo especie del objeto `mi_perro` y se llama al método `hacer_sonido` del objeto, que imprime `\"¡Guau!\"`."
   ]
  },
  {
   "attachments": {},
   "cell_type": "markdown",
   "metadata": {},
   "source": [
    "## **Mi primera clase en Python**"
   ]
  },
  {
   "attachments": {},
   "cell_type": "markdown",
   "metadata": {},
   "source": [
    "En este ejemplo vamos a crear una clase simple para representar un círculo en un plano cartesiano. Para ello, utilizaremos los atributos `\"x\"` e `\"y\"` para representar las coordenadas del centro del círculo, y el atributo `\"radio\"` para representar su radio. Además, definiremos un método para calcular el área del círculo.\n",
    "\n",
    "Aquí está el código de ejemplo:"
   ]
  },
  {
   "cell_type": "code",
   "execution_count": 4,
   "metadata": {},
   "outputs": [],
   "source": [
    "class Circulo:\n",
    "    def __init__(self, x, y, radio):\n",
    "        self.x = x\n",
    "        self.y = y\n",
    "        self.radio = radio\n",
    "\n",
    "    def area(self):\n",
    "        return 3.14159 * self.radio ** 2\n"
   ]
  },
  {
   "attachments": {},
   "cell_type": "markdown",
   "metadata": {},
   "source": [
    "En este ejemplo, definimos una clase llamada `\"Circulo\"` que tiene tres atributos (`x`, `y` y `radio`) y un método (`area`). El método `__init__` es un método especial que se llama automáticamente cuando se crea un objeto de la clase y se utiliza para inicializar los atributos del objeto. En este caso, el método `__init__` toma tres argumentos (`x`, `y` y `radio`) y los asigna a los atributos correspondientes (`self.x`, `self.y` y `self.radio`).\n",
    "\n",
    "El método `area` calcula y devuelve el área del círculo utilizando la fórmula `πr²`. En este caso, estamos utilizando una aproximación de `π` con un valor de `3.14159`.\n",
    "\n",
    "Para utilizar esta clase, podemos crear un objeto de la clase `\"Circulo\"` y llamar a su método area. Por ejemplo:\n",
    "\n"
   ]
  },
  {
   "cell_type": "code",
   "execution_count": 5,
   "metadata": {},
   "outputs": [
    {
     "name": "stdout",
     "output_type": "stream",
     "text": [
      "78.53975\n"
     ]
    }
   ],
   "source": [
    "mi_circulo = Circulo(0, 0, 5)\n",
    "print(mi_circulo.area())\n"
   ]
  },
  {
   "attachments": {},
   "cell_type": "markdown",
   "metadata": {},
   "source": [
    "En este caso, creamos un objeto `mi_circulo` de la clase `Circulo` con coordenadas `x=0`, `y=0` y `radio` `5`. Luego, llamamos al método area del objeto, que calcula y devuelve el área del círculo. En este caso, el resultado sería `78.53975`.\n",
    "\n",
    "Esta es solo una muestra simple de cómo se puede utilizar una clase en Python para representar un objeto en un programa orientado a objetos. Las clases pueden tener muchos más atributos y métodos, y se pueden utilizar para representar objetos más complejos y sofisticados en una aplicación."
   ]
  },
  {
   "attachments": {},
   "cell_type": "markdown",
   "metadata": {},
   "source": [
    "## **El método constructor**"
   ]
  },
  {
   "attachments": {},
   "cell_type": "markdown",
   "metadata": {},
   "source": [
    "El método constructor es un método especial en la programación orientada a objetos que se utiliza para inicializar los atributos de un objeto cuando se crea una instancia de una clase. En Python, el método constructor se llama `__init__()` y es el primer método que se ejecuta cuando se crea un objeto de una clase.\n",
    "\n",
    "El método constructor toma como argumento el objeto que se está creando `(self)`, así como cualquier otro argumento que se desee inicializar en el objeto. Dentro del método constructor, los atributos del objeto se pueden inicializar utilizando los valores pasados como argumentos.\n",
    "\n",
    "Aquí está un ejemplo de cómo se puede utilizar el método constructor en una clase de `perro`:"
   ]
  },
  {
   "cell_type": "code",
   "execution_count": 9,
   "metadata": {},
   "outputs": [],
   "source": [
    "class Perro:\n",
    "    def __init__(self, nombre, raza, edad):\n",
    "        self.nombre = nombre\n",
    "        self.raza = raza\n",
    "        self.edad = edad\n"
   ]
  },
  {
   "attachments": {},
   "cell_type": "markdown",
   "metadata": {},
   "source": [
    "En este ejemplo, hemos definido una clase llamada `\"Perro\"` con tres atributos (`nombre`, `raza` y `edad`). El método `__init__` toma tres argumentos (`nombre`, `raza` y `edad`) y los asigna a los atributos correspondientes (`self.nombre`, `self.raza` y `self.edad`).\n",
    "\n",
    "Para crear un objeto de la clase `\"Perro\"` con atributos específicos, se puede hacer lo siguiente:"
   ]
  },
  {
   "cell_type": "code",
   "execution_count": 15,
   "metadata": {},
   "outputs": [],
   "source": [
    "mi_perro = Perro(\"Fido\", \"Labrador\", 3)"
   ]
  },
  {
   "attachments": {},
   "cell_type": "markdown",
   "metadata": {},
   "source": [
    "En este caso, creamos un objeto `mi_perro` de la clase `Perro` con el nombre `\"Fido\"`, raza `\"Labrador\"` y edad `3`. El método constructor se llama automáticamente cuando se crea el objeto, y los atributos del objeto se inicializan con los valores pasados como argumentos.\n",
    "\n",
    "Es importante tener en cuenta que el método constructor puede tener cualquier número de argumentos, y los argumentos pueden ser de cualquier tipo (como cadenas, números, listas, etc.). Además, la clase puede tener otros métodos además del constructor para realizar otras tareas relacionadas con el objeto."
   ]
  },
  {
   "attachments": {},
   "cell_type": "markdown",
   "metadata": {},
   "source": [
    "## **Clase RationalNumber**"
   ]
  },
  {
   "attachments": {},
   "cell_type": "markdown",
   "metadata": {},
   "source": [
    "La clase `RationalNumber` en Python es una clase que representa un número racional, es decir, un número que puede ser expresado como una fracción con un numerador y un denominador. En esta clase, se pueden realizar operaciones aritméticas como la suma, la resta, la multiplicación y la división.\n",
    "\n",
    "Aquí hay un ejemplo de cómo se puede definir la clase `RationalNumber`:"
   ]
  },
  {
   "cell_type": "code",
   "execution_count": 16,
   "metadata": {},
   "outputs": [],
   "source": [
    "class RationalNumber:\n",
    "    def __init__(self, numerador, denominador):\n",
    "        self.numerador = numerador\n",
    "        self.denominador = denominador\n",
    "\n",
    "    def __add__(self, other):\n",
    "        nuevo_denominador = self.denominador * other.denominador\n",
    "        nuevo_numerador = (self.numerador * other.denominador) + (other.numerador * self.denominador)\n",
    "        return RationalNumber(nuevo_numerador, nuevo_denominador)\n",
    "\n",
    "    def __sub__(self, other):\n",
    "        nuevo_denominador = self.denominador * other.denominador\n",
    "        nuevo_numerador = (self.numerador * other.denominador) - (other.numerador * self.denominador)\n",
    "        return RationalNumber(nuevo_numerador, nuevo_denominador)\n",
    "\n",
    "    def __mul__(self, other):\n",
    "        nuevo_numerador = self.numerador * other.numerador\n",
    "        nuevo_denominador = self.denominador * other.denominador\n",
    "        return RationalNumber(nuevo_numerador, nuevo_denominador)\n",
    "\n",
    "    def __truediv__(self, other):\n",
    "        nuevo_numerador = self.numerador * other.denominador\n",
    "        nuevo_denominador = self.denominador * other.numerador\n",
    "        return RationalNumber(nuevo_numerador, nuevo_denominador)\n",
    "\n",
    "    def __str__(self):\n",
    "        return \"{}/{}\".format(self.numerador, self.denominador)\n",
    "\n"
   ]
  },
  {
   "attachments": {},
   "cell_type": "markdown",
   "metadata": {},
   "source": [
    "En este ejemplo, la clase `RationalNumber` se define con un método constructor `__init__`, que toma un numerador y un denominador y los asigna a los atributos `self.numerador` y `self.denominador`. A continuación, se definen cuatro métodos especiales (`__add__`, `__sub__`, `__mul__` y `__truediv__`) que sobrecargan los operadores `+`, `-`, `*` y `/` para realizar operaciones aritméticas con objetos de tipo `RationalNumber`. Por último, se define el método `__str__`, que devuelve una representación en cadena del objeto `RationalNumber`.\n",
    "\n",
    "Para utilizar la clase `RationalNumber`, se pueden crear objetos de tipo `RationalNumber` y realizar operaciones aritméticas con ellos. Por ejemplo:"
   ]
  },
  {
   "cell_type": "code",
   "execution_count": 17,
   "metadata": {},
   "outputs": [
    {
     "name": "stdout",
     "output_type": "stream",
     "text": [
      "10/8\n",
      "3/8\n",
      "4/6\n"
     ]
    }
   ],
   "source": [
    "r1 = RationalNumber(1, 2)\n",
    "r2 = RationalNumber(3, 4)\n",
    "\n",
    "r3 = r1 + r2\n",
    "print(r3) # salida: 5/4\n",
    "\n",
    "r4 = r1 * r2\n",
    "print(r4) # salida: 3/8\n",
    "\n",
    "r5 = r1 / r2\n",
    "print(r5) # salida: 2/3\n"
   ]
  },
  {
   "attachments": {},
   "cell_type": "markdown",
   "metadata": {},
   "source": [
    "En este ejemplo, creamos dos objetos de tipo `RationalNumber` con valores de numerador y denominador, y luego realizamos operaciones aritméticas con ellos utilizando los métodos especiales sobrecargados. Cada operación aritmética devuelve un nuevo objeto `RationalNumber` que representa el resultado de la operación.\n",
    "\n",
    "En resumen, la clase `RationalNumber` es una clase útil para representar números racionales en Python y realizar operaciones."
   ]
  },
  {
   "attachments": {},
   "cell_type": "markdown",
   "metadata": {},
   "source": [
    "## **El método destructor**"
   ]
  },
  {
   "attachments": {},
   "cell_type": "markdown",
   "metadata": {},
   "source": [
    "El método destructor en Programación Orientada a Objetos en Python es un método especial que se utiliza para liberar recursos y limpiar objetos cuando ya no son necesarios. Este método se llama automáticamente cuando un objeto de una clase se elimina de la memoria o sale del alcance.\n",
    "\n",
    "En Python, el método destructor se llama `__del__` y se define como cualquier otro método en la clase. El método `__del__` no toma ningún argumento además de `self`, que representa el objeto actual. En general, el método `__del__` se utiliza para liberar recursos externos, como cerrar archivos o conexiones de red, o para liberar memoria asignada dinámicamente.\n",
    "\n",
    "Aquí hay un ejemplo de cómo se puede definir el método `__del__` en una clase:"
   ]
  },
  {
   "cell_type": "code",
   "execution_count": 18,
   "metadata": {},
   "outputs": [],
   "source": [
    "class MyClass:\n",
    "    def __init__(self, name):\n",
    "        self.name = name\n",
    "        print(\"Objeto creado: {}\".format(self.name))\n",
    "\n",
    "    def __del__(self):\n",
    "        print(\"Objeto eliminado: {}\".format(self.name))\n"
   ]
  },
  {
   "attachments": {},
   "cell_type": "markdown",
   "metadata": {},
   "source": [
    "En este ejemplo, se define la clase `MyClass` con un método constructor `__init__` que toma un nombre y lo asigna al atributo `self.name`. A continuación, se define el método destructor `__del__`, que simplemente imprime un mensaje que indica que el objeto se ha eliminado.\n",
    "\n",
    "Para utilizar el método destructor, se pueden crear objetos de la clase `MyClass` y luego eliminarlos de la memoria. Por ejemplo:"
   ]
  },
  {
   "cell_type": "code",
   "execution_count": 19,
   "metadata": {},
   "outputs": [
    {
     "name": "stdout",
     "output_type": "stream",
     "text": [
      "Objeto creado: objeto 1\n",
      "Objeto creado: objeto 2\n",
      "Objeto eliminado: objeto 1\n",
      "Objeto eliminado: objeto 2\n"
     ]
    }
   ],
   "source": [
    "obj1 = MyClass(\"objeto 1\")\n",
    "obj2 = MyClass(\"objeto 2\")\n",
    "\n",
    "del obj1\n",
    "del obj2\n"
   ]
  },
  {
   "attachments": {},
   "cell_type": "markdown",
   "metadata": {},
   "source": [
    "En este ejemplo, se crean dos objetos de la clase `MyClass` y se eliminan de la memoria utilizando la instrucción `del`. Cada vez que se elimina un objeto, se llama automáticamente al método `__del__` de la clase correspondiente, que en este caso imprime un mensaje en la consola.\n",
    "\n",
    "Es importante tener en cuenta que el método `__del__` no siempre se llama inmediatamente cuando se elimina un objeto. En lugar de eso, se llama en un momento indeterminado después de que el objeto se haya eliminado de la memoria. Por lo tanto, no se debe confiar en el método `__del__` para liberar recursos críticos o para garantizar un comportamiento específico del programa.\n",
    "\n",
    "En resumen, el método destructor `__del__` en Programación Orientada a Objetos en Python es un método especial que se utiliza para liberar recursos y limpiar objetos cuando ya no son necesarios. Este método se llama automáticamente cuando un objeto se elimina de la memoria o sale del alcance."
   ]
  },
  {
   "attachments": {},
   "cell_type": "markdown",
   "metadata": {},
   "source": [
    "## **Métodos de una clase**"
   ]
  },
  {
   "attachments": {},
   "cell_type": "markdown",
   "metadata": {},
   "source": [
    "En Programación Orientada a Objetos en Python, los métodos son funciones definidas dentro de una clase que se utilizan para realizar operaciones sobre los objetos creados a partir de esa clase. Los métodos definen el comportamiento de un objeto y permiten que el objeto realice acciones específicas y modifique su estado interno.\n",
    "\n",
    "Existen dos tipos de métodos en Python: los métodos de instancia y los métodos de clase.\n",
    "\n",
    "**Los métodos de instancia** son aquellos que se definen dentro de una clase y que operan sobre un objeto específico creado a partir de esa clase. Estos métodos utilizan el parámetro `self` para acceder a los atributos y métodos de la instancia.\n",
    "\n",
    "Por ejemplo, supongamos que se tiene la siguiente clase `Persona`:"
   ]
  },
  {
   "cell_type": "code",
   "execution_count": 20,
   "metadata": {},
   "outputs": [],
   "source": [
    "class Persona:\n",
    "    def __init__(self, nombre, edad):\n",
    "        self.nombre = nombre\n",
    "        self.edad = edad\n",
    "\n",
    "    def saludar(self):\n",
    "        print(f\"Hola, mi nombre es {self.nombre} y tengo {self.edad} años.\")\n"
   ]
  },
  {
   "attachments": {},
   "cell_type": "markdown",
   "metadata": {},
   "source": [
    "En este ejemplo, se define la clase `Persona` con un método constructor `__init__` que toma un nombre y una edad y los asigna a los atributos de la instancia. También se define el método `saludar`, que utiliza el atributo `nombre` y `edad` para imprimir un saludo personalizado.\n",
    "\n",
    "Para utilizar estos métodos, se puede crear un objeto de la clase `Persona` y llamar al método `saludar`, como se muestra a continuación:"
   ]
  },
  {
   "cell_type": "code",
   "execution_count": 21,
   "metadata": {},
   "outputs": [
    {
     "name": "stdout",
     "output_type": "stream",
     "text": [
      "Hola, mi nombre es Juan y tengo 30 años.\n"
     ]
    }
   ],
   "source": [
    "p = Persona(\"Juan\", 30)\n",
    "p.saludar()\n"
   ]
  },
  {
   "attachments": {},
   "cell_type": "markdown",
   "metadata": {},
   "source": [
    "**Los métodos de clase**, por otro lado, se definen utilizando el decorador `@classmethod` y operan en la clase en sí misma en lugar de en una instancia específica. En estos métodos, el primer parámetro siempre es la propia clase `(cls)`.\n",
    "\n",
    "Por ejemplo, supongamos que se tiene la siguiente clase `Empleado` con un método de clase `from_string`:"
   ]
  },
  {
   "cell_type": "code",
   "execution_count": 22,
   "metadata": {},
   "outputs": [],
   "source": [
    "class Empleado:\n",
    "    def __init__(self, nombre, salario):\n",
    "        self.nombre = nombre\n",
    "        self.salario = salario\n",
    "    \n",
    "    @classmethod\n",
    "    def from_string(cls, string):\n",
    "        nombre, salario = string.split(\"-\")\n",
    "        return cls(nombre, float(salario))\n"
   ]
  },
  {
   "attachments": {},
   "cell_type": "markdown",
   "metadata": {},
   "source": [
    "En este ejemplo, se define la clase `Empleado` con un método constructor `__init__` que toma un `nombre` y un `salario` y los asigna a los atributos de la instancia. También se define el método de clase `from_string`, que toma una cadena con el `nombre` y el `salario` separados por un guión y crea una nueva instancia de la clase `Empleado`.\n",
    "\n",
    "Para utilizar este método, se puede llamar directamente a la clase `Empleado` y pasar la cadena como argumento:"
   ]
  },
  {
   "cell_type": "code",
   "execution_count": 23,
   "metadata": {},
   "outputs": [
    {
     "name": "stdout",
     "output_type": "stream",
     "text": [
      "Juan\n",
      "2500.5\n"
     ]
    }
   ],
   "source": [
    "e = Empleado.from_string(\"Juan-2500.50\")\n",
    "print(e.nombre)\n",
    "print(e.salario)\n"
   ]
  },
  {
   "attachments": {},
   "cell_type": "markdown",
   "metadata": {},
   "source": [
    "En resumen, los métodos en Programación Orientada a Objetos en Python son funciones definidas dentro de una clase que se utilizan para realizar operaciones sobre los objetos creados a partir de esa clase. Los métodos de instancia operan sobre un objeto específico y utilizan el parámetro `self`, mientras que los métodos de clase operan en la clase en sí misma y utilizan el parámetro `cls`."
   ]
  },
  {
   "attachments": {},
   "cell_type": "markdown",
   "metadata": {},
   "source": [
    "## **Métodos de instancia**"
   ]
  },
  {
   "attachments": {},
   "cell_type": "markdown",
   "metadata": {},
   "source": [
    "En Programación Orientada a Objetos en Python, los métodos de instancia son aquellos que se definen dentro de una clase y operan sobre un objeto específico creado a partir de esa clase. Estos métodos utilizan el parámetro `self` para acceder a los atributos y métodos de la instancia.\n",
    "\n",
    "Un método de instancia puede acceder a todos los atributos y métodos de la instancia y puede modificar su estado interno. Además, los métodos de instancia también pueden tomar argumentos adicionales, además del parámetro `self`.\n",
    "\n",
    "Por ejemplo, considera la siguiente clase `Circulo`:"
   ]
  },
  {
   "cell_type": "code",
   "execution_count": 24,
   "metadata": {},
   "outputs": [],
   "source": [
    "class Circulo:\n",
    "    def __init__(self, radio):\n",
    "        self.radio = radio\n",
    "    \n",
    "    def calcular_area(self):\n",
    "        return 3.14 * (self.radio ** 2)\n"
   ]
  },
  {
   "attachments": {},
   "cell_type": "markdown",
   "metadata": {},
   "source": [
    "En este ejemplo, se define la clase `Circulo` con un método constructor `__init__` que toma un `radio` y lo asigna a un atributo de instancia llamado `radio`. También se define el método de instancia `calcular_area`, que utiliza el atributo `radio` para calcular y devolver el área del círculo.\n",
    "\n",
    "Para utilizar estos métodos, se puede crear un objeto de la clase `Circulo` y llamar al método `calcular_area`, como se muestra a continuación:"
   ]
  },
  {
   "cell_type": "code",
   "execution_count": 25,
   "metadata": {},
   "outputs": [
    {
     "name": "stdout",
     "output_type": "stream",
     "text": [
      "78.5\n"
     ]
    }
   ],
   "source": [
    "c = Circulo(5)\n",
    "print(c.calcular_area())\n"
   ]
  },
  {
   "attachments": {},
   "cell_type": "markdown",
   "metadata": {},
   "source": [
    "En este ejemplo, se crea un objeto `c` de la clase `Circulo` con un radio de `5` y se llama al método `calcular_area` para calcular y imprimir el área del círculo.\n",
    "\n",
    "Además, los métodos de instancia también pueden tomar argumentos adicionales, además del parámetro `self`. Por ejemplo, se puede modificar la clase `Circulo` para que el método `calcular_area` tome un argumento adicional llamado `pi` que se utiliza en lugar del valor predeterminado de `3.14`:"
   ]
  },
  {
   "cell_type": "code",
   "execution_count": 26,
   "metadata": {},
   "outputs": [],
   "source": [
    "class Circulo:\n",
    "    def __init__(self, radio):\n",
    "        self.radio = radio\n",
    "    \n",
    "    def calcular_area(self, pi=3.14):\n",
    "        return pi * (self.radio ** 2)\n"
   ]
  },
  {
   "attachments": {},
   "cell_type": "markdown",
   "metadata": {},
   "source": [
    "En este ejemplo, el método `calcular_area` toma un argumento adicional llamado `pi` con un valor predeterminado de `3.14`. Si se proporciona un valor para `pi`, se utilizará ese valor en lugar del valor predeterminado de `3.14`.\n",
    "\n",
    "Por ejemplo, se puede crear un objeto de la clase Circulo y llamar al método `calcular_area` con un valor personalizado para `pi`:"
   ]
  },
  {
   "cell_type": "code",
   "execution_count": 27,
   "metadata": {},
   "outputs": [
    {
     "name": "stdout",
     "output_type": "stream",
     "text": [
      "78.53981633975\n"
     ]
    }
   ],
   "source": [
    "c = Circulo(5)\n",
    "print(c.calcular_area(pi=3.14159265359))\n"
   ]
  },
  {
   "attachments": {},
   "cell_type": "markdown",
   "metadata": {},
   "source": [
    "En resumen, los métodos de instancia en Programación Orientada a Objetos en Python son aquellos que se definen dentro de una clase y operan sobre un objeto específico creado a partir de esa clase. Estos métodos utilizan el parámetro `self` para acceder a los atributos y métodos de la instancia, y pueden tomar argumentos adicionales además del parámetro `self`."
   ]
  },
  {
   "attachments": {},
   "cell_type": "markdown",
   "metadata": {},
   "source": [
    "## **Imprimiendo objetos RationalNumber en formato LaTeX**"
   ]
  },
  {
   "attachments": {},
   "cell_type": "markdown",
   "metadata": {},
   "source": [
    "En Programación Orientada a Objetos en Python, se puede imprimir un objeto `RationalNumber` en formato `LaTeX` utilizando el método especial `__repr__`. Este método debe devolver una cadena que representa al objeto de una manera legible y comprensible para los humanos.\n",
    "\n",
    "Para imprimir un objeto `RationalNumber` en formato `LaTeX`, se puede utilizar la siguiente implementación del método `__repr__`:"
   ]
  },
  {
   "cell_type": "code",
   "execution_count": 28,
   "metadata": {},
   "outputs": [],
   "source": [
    "class RationalNumber:\n",
    "    def __init__(self, numerador, denominador):\n",
    "        self.numerador = numerador\n",
    "        self.denominador = denominador\n",
    "    \n",
    "    def __repr__(self):\n",
    "        return \"\\\\frac{\" + str(self.numerador) + \"}{\" + str(self.denominador) + \"}\"\n"
   ]
  },
  {
   "attachments": {},
   "cell_type": "markdown",
   "metadata": {},
   "source": [
    "En este ejemplo, se define la clase `RationalNumber` con un método constructor `__init__` que toma un numerador y un denominador y los asigna a los atributos de instancia numerador y denominador, respectivamente. Además, se define el método especial `__repr__` que devuelve una cadena que representa al objeto en formato `LaTeX` utilizando la sintaxis de fracciones.\n",
    "\n",
    "Para utilizar esta implementación del método `__repr__`, se puede crear un objeto `RationalNumber` y llamar a la función `print` para imprimir el objeto en formato `LaTeX`, como se muestra a continuación:"
   ]
  },
  {
   "cell_type": "code",
   "execution_count": 29,
   "metadata": {},
   "outputs": [
    {
     "name": "stdout",
     "output_type": "stream",
     "text": [
      "\\frac{2}{3}\n"
     ]
    }
   ],
   "source": [
    "r = RationalNumber(2, 3)\n",
    "print(r)\n"
   ]
  },
  {
   "attachments": {},
   "cell_type": "markdown",
   "metadata": {},
   "source": [
    "En este ejemplo, se crea un objeto `r` de la clase `RationalNumber` con un numerador de `2` y un denominador de `3`, y se llama a la función `print` para imprimir el objeto en formato `LaTeX`.\n",
    "\n",
    "En resumen, se puede imprimir un objeto `RationalNumber` en formato `LaTeX` en Programación Orientada a Objetos en Python utilizando el método especial `__repr__` y la sintaxis de fracciones de `LaTeX`. Esto permite una representación más legible y comprensible de los objetos `RationalNumber` en los programas de Python."
   ]
  },
  {
   "attachments": {},
   "cell_type": "markdown",
   "metadata": {},
   "source": [
    "## **Métodos estáticos**"
   ]
  },
  {
   "attachments": {},
   "cell_type": "markdown",
   "metadata": {},
   "source": [
    "En Programación Orientada a Objetos en Python, los métodos estáticos son métodos definidos dentro de una clase que no tienen acceso a los atributos de instancia de la clase y no necesitan una instancia de la clase para ser llamados. Estos métodos pueden ser llamados directamente desde la clase en sí, sin necesidad de crear una instancia de la misma.\n",
    "\n",
    "Para definir un método estático en Python, se utiliza el decorador `@staticmethod`. La sintaxis básica es la siguiente:"
   ]
  },
  {
   "attachments": {},
   "cell_type": "markdown",
   "metadata": {},
   "source": [
    "```\n",
    "class MyClass:\n",
    "    @staticmethod\n",
    "    def my_static_method(arg1, arg2):\n",
    "        # código del método\n",
    "```"
   ]
  },
  {
   "attachments": {},
   "cell_type": "markdown",
   "metadata": {},
   "source": [
    "En este ejemplo, se define un método estático `my_static_method` dentro de la clase `MyClass`. Este método no tiene acceso a los atributos de instancia de la clase y puede ser llamado directamente desde la clase utilizando la sintaxis `MyClass.my_static_method(arg1, arg2)`.\n",
    "\n",
    "Un ejemplo de uso de un método estático es la creación de una función auxiliar que se utiliza en varias partes de un programa, pero que no está específicamente relacionada con ningún objeto o atributo de instancia en particular. Por ejemplo, se puede definir una clase `MathUtils` que contenga varios métodos estáticos para realizar cálculos matemáticos comunes:"
   ]
  },
  {
   "cell_type": "code",
   "execution_count": 31,
   "metadata": {},
   "outputs": [],
   "source": [
    "class MathUtils:\n",
    "    @staticmethod\n",
    "    def factorial(n):\n",
    "        if n < 0:\n",
    "            raise ValueError(\"El factorial solo está definido para enteros no negativos.\")\n",
    "        elif n == 0 or n == 1:\n",
    "            return 1\n",
    "        else:\n",
    "            return n * MathUtils.factorial(n-1)\n",
    "    \n",
    "    @staticmethod\n",
    "    def fibonacci(n):\n",
    "        if n < 0:\n",
    "            raise ValueError(\"La serie de Fibonacci solo está definida para enteros no negativos.\")\n",
    "        elif n == 0:\n",
    "            return 0\n",
    "        elif n == 1:\n",
    "            return 1\n",
    "        else:\n",
    "            return MathUtils.fibonacci(n-1) + MathUtils.fibonacci(n-2)\n"
   ]
  },
  {
   "attachments": {},
   "cell_type": "markdown",
   "metadata": {},
   "source": [
    "En este ejemplo, se define una clase `MathUtils` que contiene dos métodos estáticos, `factorial` y `fibonacci`. Estos métodos realizan cálculos matemáticos comunes y no requieren ningún atributo de instancia de la clase `MathUtils`. Por lo tanto, se pueden llamar directamente desde la clase utilizando la sintaxis `MathUtils.factorial(n)` o `MathUtils.fibonacci(n)`.\n",
    "\n",
    "Para usar estos métodos en un programa, se puede llamar directamente a la clase `MathUtils` y sus métodos estáticos. Por ejemplo:"
   ]
  },
  {
   "cell_type": "code",
   "execution_count": 32,
   "metadata": {},
   "outputs": [
    {
     "name": "stdout",
     "output_type": "stream",
     "text": [
      "120\n",
      "13\n"
     ]
    }
   ],
   "source": [
    "print(MathUtils.factorial(5))\n",
    "print(MathUtils.fibonacci(7))\n"
   ]
  },
  {
   "attachments": {},
   "cell_type": "markdown",
   "metadata": {},
   "source": [
    "En resumen, los métodos estáticos en Programación Orientada a Objetos en Python son métodos definidos dentro de una clase que no tienen acceso a los atributos de instancia de la clase y no necesitan una instancia de la clase para ser llamados. Estos métodos son útiles para crear funciones auxiliares que no están específicamente relacionadas con ningún objeto en particular, pero que se utilizan en varias partes de un programa."
   ]
  },
  {
   "attachments": {},
   "cell_type": "markdown",
   "metadata": {},
   "source": [
    "## **Métodos estáticos de la clase RationalNumber**"
   ]
  },
  {
   "attachments": {},
   "cell_type": "markdown",
   "metadata": {},
   "source": [
    "En Programación Orientada a Objetos en Python, los métodos estáticos de la clase `RationalNumber` son métodos definidos dentro de la clase que no tienen acceso a los atributos de instancia de la misma y no requieren una instancia de la clase para ser llamados. Estos métodos pueden ser útiles para realizar cálculos matemáticos comunes que no están específicamente relacionados con ningún objeto `RationalNumber` en particular.\n",
    "\n",
    "Para definir un método estático en Python, se utiliza el decorador `@staticmethod`. La sintaxis básica es la siguiente:"
   ]
  },
  {
   "attachments": {},
   "cell_type": "markdown",
   "metadata": {},
   "source": [
    "```\n",
    "class MyClass:\n",
    "    @staticmethod\n",
    "    def my_static_method(arg1, arg2):\n",
    "        # código del método\n",
    "```"
   ]
  },
  {
   "attachments": {},
   "cell_type": "markdown",
   "metadata": {},
   "source": [
    "En el caso de la clase `RationalNumber`, se podría definir un método estático para calcular el máximo común divisor `(MCD)` de dos números enteros utilizando el algoritmo de Euclides. El código podría verse así:"
   ]
  },
  {
   "cell_type": "code",
   "execution_count": 33,
   "metadata": {},
   "outputs": [],
   "source": [
    "class RationalNumber:\n",
    "    # código para el constructor, métodos de instancia, etc.\n",
    "    \n",
    "    @staticmethod\n",
    "    def gcd(a, b):\n",
    "        \"\"\"\n",
    "        Calcula el máximo común divisor (MCD) de dos números enteros utilizando el algoritmo de Euclides.\n",
    "        \"\"\"\n",
    "        while b:\n",
    "            a, b = b, a % b\n",
    "        return a\n"
   ]
  },
  {
   "attachments": {},
   "cell_type": "markdown",
   "metadata": {},
   "source": [
    "En este ejemplo, se define un método estático `gcd` dentro de la clase `RationalNumber`. Este método utiliza el algoritmo de Euclides para calcular el máximo común divisor de dos números enteros `a` y `b`. Como este método no tiene acceso a los atributos de instancia de la clase `RationalNumber`, se puede definir como un método estático.\n",
    "\n",
    "Para usar este método en un programa, se puede llamar directamente a la clase `RationalNumber` y su método estático. Por ejemplo, para calcular el `MCD` de `12` y `18`, se podría hacer lo siguiente:\n",
    "\n"
   ]
  },
  {
   "cell_type": "code",
   "execution_count": 34,
   "metadata": {},
   "outputs": [
    {
     "name": "stdout",
     "output_type": "stream",
     "text": [
      "6\n"
     ]
    }
   ],
   "source": [
    "print(RationalNumber.gcd(12, 18))  # salida: 6\n"
   ]
  },
  {
   "attachments": {},
   "cell_type": "markdown",
   "metadata": {},
   "source": [
    "En este ejemplo, se llama al método estático `gcd` de la clase `RationalNumber` pasando los valores `12` y `18` como argumentos. El método calcula el `MCD` de estos dos números utilizando el algoritmo de Euclides y devuelve el resultado, que se imprime en la consola.\n",
    "\n",
    "En resumen, los métodos estáticos de la clase `RationalNumber` en Programación Orientada a Objetos en Python son métodos definidos dentro de la clase que no tienen acceso a los atributos de instancia de la misma y no requieren una instancia de la clase para ser llamados. Estos métodos pueden ser útiles para realizar cálculos matemáticos comunes que no están específicamente relacionados con ningún objeto `RationalNumber` en particular."
   ]
  },
  {
   "attachments": {},
   "cell_type": "markdown",
   "metadata": {},
   "source": [
    "## **Métodos de clase**"
   ]
  },
  {
   "attachments": {},
   "cell_type": "markdown",
   "metadata": {},
   "source": [
    "En Programación Orientada a Objetos en Python, los métodos de clase son métodos que operan en la clase en sí misma en lugar de en una instancia de la clase. Es decir, los métodos de clase no tienen acceso a los atributos de instancia de la clase y se utilizan para realizar operaciones que son relevantes para la clase en su conjunto, en lugar de para una instancia específica.\n",
    "\n",
    "Para definir un método de clase en Python, se utiliza el decorador `@classmethod`. La sintaxis básica es la siguiente:"
   ]
  },
  {
   "attachments": {},
   "cell_type": "markdown",
   "metadata": {},
   "source": [
    "```\n",
    "class MyClass:\n",
    "    @classmethod\n",
    "    def my_class_method(cls, arg1, arg2):\n",
    "        # código del método\n",
    "```"
   ]
  },
  {
   "attachments": {},
   "cell_type": "markdown",
   "metadata": {},
   "source": [
    "En el caso de la clase `RationalNumber`, se podría definir un método de clase para crear un nuevo objeto `RationalNumber` a partir de una cadena en formato de fracción. El código podría verse así:"
   ]
  },
  {
   "attachments": {},
   "cell_type": "markdown",
   "metadata": {},
   "source": [
    "Los métodos de clase en Programación Orientada a Objetos en Python son aquellos que están asociados con la clase en sí misma, en lugar de con una instancia particular de la clase. A diferencia de los métodos de instancia, los métodos de clase no reciben como primer parámetro la referencia al objeto `(self)`, sino que reciben la referencia a la propia clase `(cls)`.\n",
    "\n",
    "Los métodos de clase se definen usando el decorador `@classmethod`. Por lo general, se utilizan para crear objetos de una clase de formas distintas a las habituales, o para realizar operaciones que involucren a la clase en su conjunto, en lugar de a una instancia particular.\n",
    "\n",
    "A continuación, se muestra un ejemplo de cómo definir y utilizar un método de clase en Python:"
   ]
  },
  {
   "cell_type": "code",
   "execution_count": 45,
   "metadata": {},
   "outputs": [
    {
     "name": "stdout",
     "output_type": "stream",
     "text": [
      "El valor de x es: 10\n"
     ]
    }
   ],
   "source": [
    "class MyClass:\n",
    "    my_var = 42\n",
    "\n",
    "    @classmethod\n",
    "    def from_string(cls, s):\n",
    "        \"\"\"\n",
    "        Crea una instancia de la clase MyClass a partir de una cadena de texto.\n",
    "        \"\"\"\n",
    "        return cls(int(s))\n",
    "\n",
    "    def __init__(self, x):\n",
    "        self.x = x\n",
    "\n",
    "    def my_method(self):\n",
    "        print(\"El valor de x es:\", self.x)\n",
    "\n",
    "# Crear una instancia de MyClass utilizando el método from_string\n",
    "c = MyClass.from_string(\"10\")\n",
    "c.my_method() # Imprime \"El valor de x es: 10\"\n"
   ]
  },
  {
   "attachments": {},
   "cell_type": "markdown",
   "metadata": {},
   "source": [
    "En este ejemplo, se define una clase `MyClass` que tiene un atributo de clase `my_var`, un método de instancia `__init__` y otro método de instancia `my_method`. Además, se define un método de clase `from_string`, que toma una cadena de texto y crea una instancia de la clase `MyClass` a partir de ella. La diferencia con respecto a un método de instancia es que `from_string` recibe como primer parámetro la referencia a la clase `(cls)`, en lugar de la referencia al objeto `(self)`.\n",
    "\n",
    "Para utilizar el método `from_string`, se llama directamente a la clase `MyClass` y se invoca el método utilizando la sintaxis de punto. El resultado es una instancia de `MyClass` cuyo atributo `x` tiene el valor `10`.\n",
    "\n",
    "\n",
    "\n",
    "\n"
   ]
  },
  {
   "attachments": {},
   "cell_type": "markdown",
   "metadata": {},
   "source": [
    "## **Métodos de clase de la clase RationalNumber**"
   ]
  },
  {
   "attachments": {},
   "cell_type": "markdown",
   "metadata": {},
   "source": [
    "En programación orientada a objetos en Python, los métodos de clase son aquellos que se definen a nivel de la clase y no a nivel de la instancia. Es decir, estos métodos no operan sobre los atributos específicos de una instancia de la clase, sino que se utilizan para realizar operaciones en la propia clase.\n",
    "\n",
    "En la clase `RationalNumber` que hemos venido desarrollando, podemos definir métodos de clase que nos permitan realizar operaciones que involucren a todas las instancias de la clase `RationalNumber`, y no solo a una instancia específica.\n",
    "\n",
    "Para definir un método de clase en Python, se utiliza el decorador `@classmethod`. Este decorador se aplica a un método que se va a definir dentro de la clase y le indica a Python que ese método es un método de clase en lugar de un método de instancia.\n",
    "\n",
    "A continuación, un ejemplo de cómo se puede definir un método de clase en la clase `RationalNumber`:"
   ]
  },
  {
   "cell_type": "code",
   "execution_count": 52,
   "metadata": {},
   "outputs": [],
   "source": [
    "class RationalNumber:\n",
    "    def __init__(self, numerator, denominator=1):\n",
    "        self.numerator = numerator\n",
    "        self.denominator = denominator\n",
    "\n",
    "    @classmethod\n",
    "    def from_string(cls, s):\n",
    "        \"\"\"\n",
    "        Crea una instancia de la clase RationalNumber a partir de una cadena de texto que represente una fracción.\n",
    "        \"\"\"\n",
    "        numerator, denominator = map(int, s.split(\"/\"))\n",
    "        return cls(numerator, denominator)\n",
    "\n",
    "    @classmethod\n",
    "    def gcd(cls, a, b):\n",
    "        \"\"\"\n",
    "        Calcula el máximo común divisor entre dos números.\n",
    "        \"\"\"\n",
    "        while b:\n",
    "            a, b = b, a % b\n",
    "        return a\n",
    "\n",
    "    # rest of the code\n"
   ]
  },
  {
   "attachments": {},
   "cell_type": "markdown",
   "metadata": {},
   "source": [
    "En este ejemplo, se han definido dos métodos de clase:\n",
    "\n",
    "* **from_string(cls, s):**\n",
    "\n",
    " Este método permite crear una instancia de la clase `RationalNumber` a partir de una cadena de texto que represente una fracción. El método se define con el decorador `@classmethod`, lo que indica que es un método de clase. Al igual que con los métodos de instancia, el primer parámetro de un método de clase es `cls`, que hace referencia a la clase misma.\n",
    "\n",
    "* **gcd(cls, a, b):**\n",
    "\n",
    " Este método calcula el máximo común divisor entre dos números. Nuevamente, el método se define con el decorador `@classmethod` y recibe como primer parámetro la propia clase `(cls)`.\n",
    "\n",
    "Para utilizar estos métodos de clase, se llama al método directamente desde la clase, sin necesidad de crear una instancia previamente. Por ejemplo:"
   ]
  },
  {
   "cell_type": "code",
   "execution_count": 53,
   "metadata": {},
   "outputs": [
    {
     "name": "stdout",
     "output_type": "stream",
     "text": [
      "1\n",
      "1\n"
     ]
    }
   ],
   "source": [
    "r1 = RationalNumber(3, 4)\n",
    "r2 = RationalNumber.from_string(\"5/6\")\n",
    "\n",
    "print(RationalNumber.gcd(r1.numerator, r1.denominator))  # Output: 1\n",
    "print(RationalNumber.gcd(r2.numerator, r2.denominator))  # Output: 5\n"
   ]
  },
  {
   "attachments": {},
   "cell_type": "markdown",
   "metadata": {},
   "source": [
    "En este ejemplo, se ha utilizado el método `from_string` para crear una nueva instancia de la clase `RationalNumber` a partir de una cadena de texto. También se ha utilizado el método `gcd` para calcular el máximo común divisor entre el numerador y el denominador de dos instancias de la clase `RationalNumber` `(r1 y r2)`. En ambos casos, se ha llamado al método directamente desde la clase, sin necesidad de crear una instancia previamente.\n",
    "\n",
    "En resumen, los métodos de clase en Python permiten definir métodos que operan sobre la propia clase y no sobre una instancia específica de la clase. Estos métodos se definen con el decorador `@classmethod`"
   ]
  },
  {
   "attachments": {},
   "cell_type": "markdown",
   "metadata": {},
   "source": [
    "## **Propiedades**"
   ]
  },
  {
   "attachments": {},
   "cell_type": "markdown",
   "metadata": {},
   "source": [
    "Las propiedades, en programación orientada a objetos en Python, son una forma de definir atributos de una clase que se comportan como variables públicas, pero que permiten controlar el acceso a sus valores mediante los métodos `getter` y `setter`. De esta forma, se pueden establecer restricciones sobre el valor que se asigna a un atributo, o bien, realizar alguna operación específica antes o después de leer o modificar el valor de dicho atributo.\n",
    "\n",
    "Para definir una propiedad en Python, se utiliza el decorador `@property` antes del método que se desea que funcione como `getter`, y se utiliza el decorador `@<nombre_atributo>`.`setter` antes del método que se desea que funcione como `setter`, donde `<nombre_atributo>` es el nombre del atributo que se quiere controlar.\n",
    "\n",
    "Veamos un ejemplo para entenderlo mejor:"
   ]
  },
  {
   "cell_type": "code",
   "execution_count": 54,
   "metadata": {},
   "outputs": [],
   "source": [
    "class Persona:\n",
    "    def __init__(self, nombre, edad):\n",
    "        self._nombre = nombre\n",
    "        self._edad = edad\n",
    "\n",
    "    @property\n",
    "    def nombre(self):\n",
    "        return self._nombre\n",
    "\n",
    "    @nombre.setter\n",
    "    def nombre(self, nuevo_nombre):\n",
    "        if not isinstance(nuevo_nombre, str):\n",
    "            raise ValueError(\"El nombre debe ser una cadena de texto\")\n",
    "        self._nombre = nuevo_nombre\n",
    "\n",
    "    @property\n",
    "    def edad(self):\n",
    "        return self._edad\n",
    "\n",
    "    @edad.setter\n",
    "    def edad(self, nueva_edad):\n",
    "        if not isinstance(nueva_edad, int):\n",
    "            raise ValueError(\"La edad debe ser un número entero\")\n",
    "        if nueva_edad < 0:\n",
    "            raise ValueError(\"La edad no puede ser negativa\")\n",
    "        self._edad = nueva_edad\n"
   ]
  },
  {
   "attachments": {},
   "cell_type": "markdown",
   "metadata": {},
   "source": [
    "En este ejemplo, definimos la clase Persona con dos atributos: nombre y edad. Para controlar el acceso a estos atributos, definimos dos métodos `getter (@property)` y dos métodos `setter` `(@nombre.setter y @edad.setter)`. Estos métodos nos permiten acceder y modificar el valor de los atributos de la clase, pero al mismo tiempo, nos permiten definir algunas restricciones sobre el valor que se asigna.\n",
    "\n",
    "Por ejemplo, en el `setter` del atributo nombre, validamos que el valor que se está asignando sea una cadena de texto. Si no lo es, lanzamos una excepción. De esta forma, nos aseguramos de que siempre se esté asignando un valor válido a este atributo.\n",
    "\n",
    "Del mismo modo, en el `setter` del atributo edad, validamos que el valor que se está asignando sea un número entero y que no sea negativo. De esta forma, nos aseguramos de que siempre se esté asignando un valor válido a este atributo.\n",
    "\n",
    "Para utilizar esta clase, podemos crear una instancia de la misma y acceder a sus atributos como si fueran variables públicas:"
   ]
  },
  {
   "cell_type": "code",
   "execution_count": 55,
   "metadata": {},
   "outputs": [
    {
     "name": "stdout",
     "output_type": "stream",
     "text": [
      "Juan\n",
      "25\n",
      "Pedro\n",
      "30\n"
     ]
    }
   ],
   "source": [
    "p = Persona(\"Juan\", 25)\n",
    "print(p.nombre) # Juan\n",
    "print(p.edad) # 25\n",
    "\n",
    "p.nombre = \"Pedro\"\n",
    "p.edad = 30\n",
    "\n",
    "print(p.nombre) # Pedro\n",
    "print(p.edad) # 30\n"
   ]
  },
  {
   "attachments": {},
   "cell_type": "markdown",
   "metadata": {},
   "source": [
    "En este ejemplo, creamos una instancia de la clase `Persona` y le asignamos los valores \"Juan\" y 25 a los atributos nombre y edad, respectivamente. Después, accedemos a estos atributos utilizando los métodos `getter` `(@property)`. Finalmente, modificamos el valor de estos atributos utilizando los métodos `setter` `(@nombre.setter y @edad.setter)` y volvemos a acceder a ellos para comprobar que han cambiado."
   ]
  },
  {
   "attachments": {},
   "cell_type": "markdown",
   "metadata": {},
   "source": [
    "## **Propiedades de la clase RationalNumber**"
   ]
  },
  {
   "attachments": {},
   "cell_type": "markdown",
   "metadata": {},
   "source": [
    "Las propiedades en programación orientada a objetos en Python son una forma de acceder y modificar atributos de una clase como si fueran atributos normales, pero en realidad son métodos que se definen con un decorador especial `@property`.\n",
    "\n",
    "La clase `RationalNumber` ya tiene definidos los métodos numerator y denominator que devuelven los atributos `_numerator` y `_denominator`, respectivamente. Ahora vamos a convertir estos métodos en propiedades.\n",
    "\n",
    "Para ello, agregamos el decorador `@property` antes de la definición de cada método y eliminamos los parámetros de entrada."
   ]
  },
  {
   "cell_type": "code",
   "execution_count": 56,
   "metadata": {},
   "outputs": [],
   "source": [
    "class RationalNumber:\n",
    "    def __init__(self, numerator, denominator):\n",
    "        self._numerator = numerator\n",
    "        self._denominator = denominator\n",
    "\n",
    "    @property\n",
    "    def numerator(self):\n",
    "        return self._numerator\n",
    "\n",
    "    @property\n",
    "    def denominator(self):\n",
    "        return self._denominator\n",
    "\n",
    "    def __repr__(self):\n",
    "        return f\"{self._numerator}/{self._denominator}\"\n"
   ]
  },
  {
   "attachments": {},
   "cell_type": "markdown",
   "metadata": {},
   "source": [
    "Ahora podemos acceder a estos métodos como si fueran atributos normales:"
   ]
  },
  {
   "cell_type": "code",
   "execution_count": 57,
   "metadata": {},
   "outputs": [
    {
     "name": "stdout",
     "output_type": "stream",
     "text": [
      "3\n",
      "4\n"
     ]
    }
   ],
   "source": [
    "r = RationalNumber(3, 4)\n",
    "print(r.numerator)   # Output: 3\n",
    "print(r.denominator) # Output: 4\n"
   ]
  },
  {
   "attachments": {},
   "cell_type": "markdown",
   "metadata": {},
   "source": [
    "También podemos modificar los valores de estos atributos a través de métodos especiales llamados `\"setter\"`, que se definen utilizando el decorador `@<property>.setter`. Por ejemplo, para agregar un método que permita cambiar el numerador de la fracción:\n",
    "\n"
   ]
  },
  {
   "cell_type": "code",
   "execution_count": 58,
   "metadata": {},
   "outputs": [],
   "source": [
    "class RationalNumber:\n",
    "    def __init__(self, numerator, denominator):\n",
    "        self._numerator = numerator\n",
    "        self._denominator = denominator\n",
    "\n",
    "    @property\n",
    "    def numerator(self):\n",
    "        return self._numerator\n",
    "\n",
    "    @numerator.setter\n",
    "    def numerator(self, value):\n",
    "        self._numerator = value\n",
    "\n",
    "    @property\n",
    "    def denominator(self):\n",
    "        return self._denominator\n",
    "\n",
    "    def __repr__(self):\n",
    "        return f\"{self._numerator}/{self._denominator}\"\n"
   ]
  },
  {
   "attachments": {},
   "cell_type": "markdown",
   "metadata": {},
   "source": [
    "Ahora podemos modificar el numerador de la fracción:"
   ]
  },
  {
   "cell_type": "code",
   "execution_count": 59,
   "metadata": {},
   "outputs": [
    {
     "name": "stdout",
     "output_type": "stream",
     "text": [
      "3\n",
      "5\n"
     ]
    }
   ],
   "source": [
    "r = RationalNumber(3, 4)\n",
    "print(r.numerator)   # Output: 3\n",
    "r.numerator = 5\n",
    "print(r.numerator)   # Output: 5\n"
   ]
  },
  {
   "attachments": {},
   "cell_type": "markdown",
   "metadata": {},
   "source": [
    "## **Herencia de clases**"
   ]
  },
  {
   "attachments": {},
   "cell_type": "markdown",
   "metadata": {},
   "source": [
    "La herencia de clases es un concepto fundamental en la Programación Orientada a Objetos `(POO)` que permite a una clase hija (o subclase) heredar propiedades y métodos de su clase padre (o superclase). Esto significa que la subclase tiene acceso a todas las propiedades y métodos públicos y protegidos de su superclase, y puede agregar o sobrescribir sus propios métodos o propiedades.\n",
    "\n",
    "En Python, para definir una `subclase`, simplemente se especifica la `superclase` entre paréntesis después del nombre de la `subclase`. Por ejemplo:"
   ]
  },
  {
   "cell_type": "code",
   "execution_count": 60,
   "metadata": {},
   "outputs": [
    {
     "name": "stdout",
     "output_type": "stream",
     "text": [
      "Rex\n",
      "Rex is eating.\n",
      "Woof!\n"
     ]
    }
   ],
   "source": [
    "class Animal:\n",
    "    def __init__(self, name, age):\n",
    "        self.name = name\n",
    "        self.age = age\n",
    "\n",
    "    def eat(self):\n",
    "        print(f\"{self.name} is eating.\")\n",
    "\n",
    "class Dog(Animal):\n",
    "    def bark(self):\n",
    "        print(\"Woof!\")\n",
    "\n",
    "dog = Dog(\"Rex\", 3)\n",
    "print(dog.name)\n",
    "dog.eat()\n",
    "dog.bark()\n"
   ]
  },
  {
   "attachments": {},
   "cell_type": "markdown",
   "metadata": {},
   "source": [
    "En este ejemplo, la clase `Animal` es la `superclase` y la clase `Dog` es la `subclase`. La clase `Dog` hereda la propiedad `name` y el método `eat()` de la clase `Animal`, y agrega su propio método `bark()`. El objeto `dog` es una instancia de la clase `Dog` y puede acceder a las propiedades y métodos de ambas clases.\n",
    "\n",
    "Cabe destacar que si un método o propiedad se define en la `subclase` con el mismo nombre que uno definido en la `superclase`, entonces la versión de la `subclase` sobrescribe la versión de la `superclase`. Además, las `subclases` pueden tener sus propias `subclases`, lo que permite crear una jerarquía de clases.\n",
    "\n",
    "La herencia de clases es útil para evitar la duplicación de código y promover la reutilización de código. También permite una mayor flexibilidad en el diseño de programas, ya que las `subclases` pueden adaptar y especializar el comportamiento de las `superclases` para satisfacer sus necesidades específicas.\n",
    "\n",
    "En resumen, la herencia de clases es un concepto clave en la Programación Orientada a Objetos que permite la creación de jerarquías de clases y la reutilización de código. En Python, la herencia se logra especificando la superclase entre paréntesis después del nombre de la subclase."
   ]
  },
  {
   "attachments": {},
   "cell_type": "markdown",
   "metadata": {},
   "source": [
    "## **Herencia Simple**"
   ]
  },
  {
   "attachments": {},
   "cell_type": "markdown",
   "metadata": {},
   "source": [
    "La herencia simple es un concepto de programación orientada a objetos que permite crear una nueva clase basada en una clase existente (llamada clase base o clase padre). La nueva clase (llamada clase derivada o clase hija) hereda todos los atributos y métodos de la clase base y puede agregar o redefinir sus propios atributos y métodos.\n",
    "\n",
    "En Python, la herencia simple se implementa mediante la declaración de la clase hija con la clase padre como argumento entre paréntesis en la definición de la clase. La sintaxis básica es la siguiente:"
   ]
  },
  {
   "attachments": {},
   "cell_type": "markdown",
   "metadata": {},
   "source": [
    "```\n",
    "class ClasePadre:\n",
    "    # definición de la clase padre\n",
    "\n",
    "class ClaseHija(ClasePadre):\n",
    "    # definición de la clase hija\n",
    "```"
   ]
  },
  {
   "attachments": {},
   "cell_type": "markdown",
   "metadata": {},
   "source": [
    "En este ejemplo, `ClaseHija` es una subclase de `ClasePadre`. La clase hija hereda todos los métodos y atributos de la clase padre y puede definir sus propios métodos y atributos. Además, la clase hija puede sobrescribir los métodos de la clase padre para cambiar su comportamiento.\n",
    "\n",
    "Veamos un ejemplo de la herencia simple en Python:"
   ]
  },
  {
   "cell_type": "code",
   "execution_count": 61,
   "metadata": {},
   "outputs": [],
   "source": [
    "class Animal:\n",
    "    def __init__(self, nombre, edad):\n",
    "        self.nombre = nombre\n",
    "        self.edad = edad\n",
    "\n",
    "    def hablar(self):\n",
    "        print(\"El animal está hablando.\")\n",
    "\n",
    "class Perro(Animal):\n",
    "    def __init__(self, nombre, edad, raza):\n",
    "        super().__init__(nombre, edad)\n",
    "        self.raza = raza\n",
    "\n",
    "    def hablar(self):\n",
    "        print(\"El perro está ladrando.\")\n",
    "\n",
    "    def correr(self):\n",
    "        print(\"El perro está corriendo.\")\n"
   ]
  },
  {
   "attachments": {},
   "cell_type": "markdown",
   "metadata": {},
   "source": [
    "En este ejemplo, `Animal` es la clase base y `Perro` es la clase derivada. La clase `Perro` hereda los atributos `nombre` y `edad` de la clase `Animal`, y define su propio atributo `raza`. La clase `Perro` también sobrescribe el método hablar de la clase `Animal` para que el perro ladre en lugar de hablar genéricamente. Además, la clase `Perro` define un nuevo método correr.\n",
    "\n",
    "Podemos crear instancias de ambas clases y llamar a sus métodos de la siguiente manera:"
   ]
  },
  {
   "cell_type": "code",
   "execution_count": 62,
   "metadata": {},
   "outputs": [
    {
     "name": "stdout",
     "output_type": "stream",
     "text": [
      "Bambi\n",
      "El animal está hablando.\n",
      "Fido\n",
      "Labrador\n",
      "El perro está ladrando.\n",
      "El perro está corriendo.\n"
     ]
    }
   ],
   "source": [
    "animal = Animal(\"Bambi\", 2)\n",
    "perro = Perro(\"Fido\", 3, \"Labrador\")\n",
    "\n",
    "print(animal.nombre)\n",
    "animal.hablar()\n",
    "\n",
    "print(perro.nombre)\n",
    "print(perro.raza)\n",
    "perro.hablar()\n",
    "perro.correr()\n"
   ]
  },
  {
   "attachments": {},
   "cell_type": "markdown",
   "metadata": {},
   "source": [
    "Podemos ver cómo la clase `Perro` hereda los atributos y métodos de la clase `Animal`, y cómo la clase `Perro` redefine y extiende algunos de estos atributos y métodos. La herencia simple es una herramienta poderosa para reutilizar el código y crear jerarquías de clases bien organizadas y estructuradas."
   ]
  },
  {
   "attachments": {},
   "cell_type": "markdown",
   "metadata": {},
   "source": [
    "## **Sobrescribiendo métodos**"
   ]
  },
  {
   "attachments": {},
   "cell_type": "markdown",
   "metadata": {},
   "source": [
    "En programación orientada a objetos, la sobrescritura de métodos es una técnica que permite a una `subclase` proporcionar su propia implementación de un método ya definido en su clase base. Esta técnica es muy útil cuando queremos extender la funcionalidad de una clase existente sin modificar su comportamiento original.\n",
    "\n",
    "En Python, la sobrescritura de métodos se logra simplemente definiendo un método con el mismo nombre en la `subclase` que el método que se desea sobrescribir en la clase base. Cuando se llama al método en la instancia de la `subclase`, la implementación de la `subclase` se utilizará en lugar de la implementación de la clase base.\n",
    "\n",
    "Veamos un ejemplo para entender mejor la sobrescritura de métodos en Python:"
   ]
  },
  {
   "cell_type": "code",
   "execution_count": 63,
   "metadata": {},
   "outputs": [],
   "source": [
    "class Animal:\n",
    "    def speak(self):\n",
    "        print(\"El animal hace un sonido genérico\")\n",
    "\n",
    "class Perro(Animal):\n",
    "    def speak(self):\n",
    "        print(\"Guau!\")\n",
    "\n",
    "class Gato(Animal):\n",
    "    def speak(self):\n",
    "        print(\"Miau!\")\n"
   ]
  },
  {
   "attachments": {},
   "cell_type": "markdown",
   "metadata": {},
   "source": [
    "En este ejemplo, definimos una clase `Animal` con un método `speak()` que imprime un mensaje genérico. Luego, definimos dos subclases, `Perro` y `Gato`, que heredan de `Animal`. Cada subclase sobrescribe el método `speak()` con su propia implementación que representa el sonido que hace ese tipo de animal.\n",
    "\n",
    "Ahora, si creamos instancias de `Perro` y `Gato` y llamamos a su método `speak()`, veremos que cada instancia produce un sonido diferente:"
   ]
  },
  {
   "cell_type": "code",
   "execution_count": 64,
   "metadata": {},
   "outputs": [
    {
     "name": "stdout",
     "output_type": "stream",
     "text": [
      "Guau!\n",
      "Miau!\n"
     ]
    }
   ],
   "source": [
    "mi_perro = Perro()\n",
    "mi_gato = Gato()\n",
    "\n",
    "mi_perro.speak()    # Output: \"Guau!\"\n",
    "mi_gato.speak()     # Output: \"Miau!\"\n"
   ]
  },
  {
   "attachments": {},
   "cell_type": "markdown",
   "metadata": {},
   "source": [
    "Aquí podemos ver que la sobrescritura de métodos nos permitió personalizar el comportamiento de las subclases sin tener que modificar la clase base `Animal`. En su lugar, simplemente proporcionamos una implementación diferente del método `speak()` en cada subclase."
   ]
  },
  {
   "attachments": {},
   "cell_type": "markdown",
   "metadata": {},
   "source": [
    "## **El método .super() en single inheritance**"
   ]
  },
  {
   "attachments": {},
   "cell_type": "markdown",
   "metadata": {},
   "source": [
    "En Python, la función `super()` se utiliza para acceder a los métodos de la clase padre desde una clase hija. Esto es especialmente útil cuando estamos utilizando herencia, ya que podemos extender las funcionalidades de la clase padre y, al mismo tiempo, mantener sus comportamientos originales.\n",
    "\n",
    "Cuando se utiliza `super()` en una clase hija, se refiere a la clase padre de la cual se está heredando. De esta manera, podemos llamar a los métodos de la clase padre y utilizar sus argumentos en la clase hija.\n",
    "\n",
    "Veamos un ejemplo sencillo. Supongamos que tenemos una clase padre llamada Animal con un método llamado `hacer_sonido`:"
   ]
  },
  {
   "cell_type": "code",
   "execution_count": 68,
   "metadata": {},
   "outputs": [],
   "source": [
    "class Animal:\n",
    "    def hacer_sonido(self):\n",
    "        print('El animal está haciendo un sonido.')\n"
   ]
  },
  {
   "attachments": {},
   "cell_type": "markdown",
   "metadata": {},
   "source": [
    "Luego, creamos una clase hija llamada `Perro`, que hereda de la clase padre `Animal`. En esta clase, queremos sobrescribir el método `hacer_sonido` para que el perro ladre en lugar de hacer un sonido genérico:"
   ]
  },
  {
   "cell_type": "code",
   "execution_count": 69,
   "metadata": {},
   "outputs": [],
   "source": [
    "class Perro(Animal):\n",
    "    def hacer_sonido(self):\n",
    "        print('El perro está ladrando.')\n"
   ]
  },
  {
   "attachments": {},
   "cell_type": "markdown",
   "metadata": {},
   "source": [
    "Ahora, si creamos una instancia de la clase `Perro` y llamamos al método `hacer_sonido`"
   ]
  },
  {
   "cell_type": "code",
   "execution_count": 70,
   "metadata": {},
   "outputs": [
    {
     "name": "stdout",
     "output_type": "stream",
     "text": [
      "El perro está ladrando.\n"
     ]
    }
   ],
   "source": [
    "perro = Perro()\n",
    "perro.hacer_sonido()\n"
   ]
  },
  {
   "attachments": {},
   "cell_type": "markdown",
   "metadata": {},
   "source": [
    "Pero, ¿cómo podemos acceder al método `hacer_sonido` de la clase padre desde la clase hija? Es aquí donde entra en juego el método `super()`. Podemos utilizar `super()` en la clase hija para llamar al método de la clase padre:"
   ]
  },
  {
   "cell_type": "code",
   "execution_count": 71,
   "metadata": {},
   "outputs": [],
   "source": [
    "class Perro(Animal):\n",
    "    def hacer_sonido(self):\n",
    "        super().hacer_sonido()\n",
    "        print('El perro está ladrando.')\n"
   ]
  },
  {
   "attachments": {},
   "cell_type": "markdown",
   "metadata": {},
   "source": [
    "En este ejemplo, `super().hacer_sonido()` llama al método `hacer_sonido` de la clase padre `Animal`, y luego imprimimos \"El perro está ladrando.\" en una nueva línea. Ahora, si creamos una instancia de la clase `Perro` y llamamos al método hacer_sonido, obtendremos el siguiente resultado:"
   ]
  },
  {
   "cell_type": "code",
   "execution_count": 72,
   "metadata": {},
   "outputs": [
    {
     "name": "stdout",
     "output_type": "stream",
     "text": [
      "El animal está haciendo un sonido.\n",
      "El perro está ladrando.\n"
     ]
    }
   ],
   "source": [
    "perro = Perro()\n",
    "perro.hacer_sonido()"
   ]
  },
  {
   "attachments": {},
   "cell_type": "markdown",
   "metadata": {},
   "source": [
    "Observa que ahora también se imprime \"El animal está haciendo un sonido.\" antes de \"El perro está ladrando.\", ya que estamos llamando al método `hacer_sonido` de la clase padre con `super().hacer_sonido()`."
   ]
  },
  {
   "attachments": {},
   "cell_type": "markdown",
   "metadata": {},
   "source": [
    "## **Herencia Múltiple**"
   ]
  },
  {
   "attachments": {},
   "cell_type": "markdown",
   "metadata": {},
   "source": [
    "La herencia múltiple en programación orientada a objetos en Python es un mecanismo que permite a una clase heredar atributos y métodos de varias clases padres. En Python, una clase puede heredar de múltiples clases y así obtener todas las características de ellas.\n",
    "\n",
    "La herencia múltiple se utiliza cuando una clase requiere heredar comportamientos y atributos de varias clases. Es importante destacar que, aunque puede ser muy útil, también puede generar problemas de ambigüedad si una clase padre define un atributo o método con el mismo nombre que otra clase padre.\n",
    "\n",
    "En Python, la herencia múltiple se logra al especificar varias clases entre paréntesis después del nombre de la clase. Cuando se hereda de varias clases, la clase hija hereda todos los atributos y métodos de sus padres.\n",
    "\n",
    "A continuación, se muestra un ejemplo de cómo se usa la herencia múltiple en Python:"
   ]
  },
  {
   "cell_type": "code",
   "execution_count": 74,
   "metadata": {},
   "outputs": [
    {
     "name": "stdout",
     "output_type": "stream",
     "text": [
      "Este es el método A\n",
      "Este es el método B\n"
     ]
    }
   ],
   "source": [
    "class A:\n",
    "    def method_a(self):\n",
    "        print(\"Este es el método A\")\n",
    "\n",
    "class B:\n",
    "    def method_b(self):\n",
    "        print(\"Este es el método B\")\n",
    "        \n",
    "class C(A, B):\n",
    "    pass\n",
    "\n",
    "c = C()\n",
    "c.method_a() # Output: \"Este es el método A\"\n",
    "c.method_b() # Output: \"Este es el método B\"\n"
   ]
  },
  {
   "attachments": {},
   "cell_type": "markdown",
   "metadata": {},
   "source": [
    "En este ejemplo, tenemos tres clases: `A`, `B` y `C`. La clase `C` hereda de ambas clases `A` y `B` utilizando la herencia múltiple. La clase `C` no tiene ningún método propio, por lo que simplemente pasamos la instrucción `pass`. La instancia de la clase `C` tiene acceso a los métodos `method_a` y `method_b` de las clases `A` y `B` respectivamente."
   ]
  },
  {
   "attachments": {},
   "cell_type": "markdown",
   "metadata": {},
   "source": [
    "## **El método .super() en múltiple inheritance**"
   ]
  },
  {
   "attachments": {},
   "cell_type": "markdown",
   "metadata": {},
   "source": [
    "En Python, el método `super()` se utiliza en la herencia de clases para acceder a los métodos de una clase padre desde una subclase. En el caso de la herencia múltiple, `super()` se utiliza para acceder a los métodos de varias clases padre en el orden en que se especifican.\n",
    "\n",
    "La sintaxis general del método `super()` es la siguiente:"
   ]
  },
  {
   "attachments": {},
   "cell_type": "markdown",
   "metadata": {},
   "source": [
    "`super().nombre_del_método(args)`"
   ]
  },
  {
   "attachments": {},
   "cell_type": "markdown",
   "metadata": {},
   "source": [
    "donde `nombre_del_método` es el nombre del método que se desea llamar y `args` son los argumentos que se pasan al método. Es importante destacar que no se especifica el nombre de la clase padre ya que `super()` se encarga automáticamente de encontrar la siguiente clase en la jerarquía de herencia.\n",
    "\n",
    "Veamos un ejemplo de cómo usar `super()` en la herencia múltiple:"
   ]
  },
  {
   "cell_type": "code",
   "execution_count": 78,
   "metadata": {},
   "outputs": [
    {
     "name": "stdout",
     "output_type": "stream",
     "text": [
      "Inicializando clase C\n",
      "Inicializando clase A\n"
     ]
    }
   ],
   "source": [
    "class A:\n",
    "    def __init__(self):\n",
    "        print(\"Inicializando clase A\")\n",
    "        \n",
    "    def metodo(self):\n",
    "        print(\"Método de la clase A\")\n",
    "\n",
    "class B:\n",
    "    def __init__(self):\n",
    "        print(\"Inicializando clase B\")\n",
    "        \n",
    "    def metodo(self):\n",
    "        print(\"Método de la clase B\")\n",
    "\n",
    "class C(A, B):\n",
    "    def __init__(self):\n",
    "        print(\"Inicializando clase C\")\n",
    "        super().__init__()\n",
    "\n",
    "    def metodo(self):\n",
    "        print(\"Método de la clase C\")\n",
    "        super().metodo()\n",
    "\n",
    "c = C()\n"
   ]
  },
  {
   "attachments": {},
   "cell_type": "markdown",
   "metadata": {},
   "source": [
    "En este ejemplo, `C` es una subclase que hereda de `A` y `B`. En el método `__init__` de la clase `C`, usamos `super()` para llamar al método `__init__` de la clase `A` en primer lugar. Luego, en el método metodo de `C`, usamos `super()` para llamar al método metodo de la clase `A`, y luego al método metodo de la clase `B`. En este caso, el orden en que se especifican las clases padre en la definición de la clase `C` es importante porque determina el orden en que se llaman los métodos."
   ]
  },
  {
   "attachments": {},
   "cell_type": "markdown",
   "metadata": {},
   "source": [
    "En resumen, el método `super()` es una forma útil de acceder a los métodos de una clase padre en la herencia de clases en Python, especialmente en el caso de la herencia múltiple donde se debe especificar el orden en que se llaman los métodos de las clases padre."
   ]
  },
  {
   "attachments": {},
   "cell_type": "markdown",
   "metadata": {},
   "source": [
    "## **Polimorfismo**"
   ]
  },
  {
   "attachments": {},
   "cell_type": "markdown",
   "metadata": {},
   "source": [
    "El polimorfismo es uno de los conceptos fundamentales en la Programación Orientada a Objetos `(POO)` que permite que los objetos de diferentes clases se comporten de manera similar. El polimorfismo permite que un objeto pueda ser tratado como otro objeto, aunque sean de clases distintas, siempre y cuando tengan métodos o atributos en común.\n",
    "\n",
    "El polimorfismo se puede lograr de diferentes maneras en Python, una de ellas es mediante la definición de métodos con el mismo nombre en diferentes clases, pero con implementaciones diferentes. Esto se conoce como polimorfismo de sobrecarga. Otra forma es mediante el uso de la herencia y la sobrescritura de métodos, lo que se conoce como polimorfismo de anulación.\n",
    "\n",
    "Veamos un ejemplo de polimorfismo de sobrecarga en Python:"
   ]
  },
  {
   "cell_type": "code",
   "execution_count": 79,
   "metadata": {},
   "outputs": [],
   "source": [
    "class Figura:\n",
    "    def area(self):\n",
    "        pass\n",
    "\n",
    "class Rectangulo(Figura):\n",
    "    def __init__(self, base, altura):\n",
    "        self.base = base\n",
    "        self.altura = altura\n",
    "    \n",
    "    def area(self):\n",
    "        return self.base * self.altura\n",
    "\n",
    "class Circulo(Figura):\n",
    "    def __init__(self, radio):\n",
    "        self.radio = radio\n",
    "    \n",
    "    def area(self):\n",
    "        return 3.14 * self.radio ** 2\n"
   ]
  },
  {
   "attachments": {},
   "cell_type": "markdown",
   "metadata": {},
   "source": [
    "En este ejemplo, creamos tres clases: `Figura`, `Rectangulo` y `Circulo`. La clase Figura es una clase base abstracta que define un método `area()` que no tiene implementación. Las clases `Rectangulo` y `Circulo` son subclases de `Figura` y sobrescriben el método `area()` con su propia implementación para calcular el área de un rectángulo o un círculo.\n",
    "\n",
    "Podemos crear objetos de ambas subclases y tratarlos como objetos de la clase base Figura, ya que ambos tienen un método `area()` definido:"
   ]
  },
  {
   "cell_type": "code",
   "execution_count": 80,
   "metadata": {},
   "outputs": [
    {
     "name": "stdout",
     "output_type": "stream",
     "text": [
      "12\n",
      "78.5\n"
     ]
    }
   ],
   "source": [
    "figuras = [Rectangulo(3, 4), Circulo(5)]\n",
    "for figura in figuras:\n",
    "    print(figura.area())\n"
   ]
  },
  {
   "attachments": {},
   "cell_type": "markdown",
   "metadata": {},
   "source": [
    "Este código crea una lista de objetos `Rectangulo` y `Circulo` y los recorre usando un bucle `for`. En cada iteración, se llama al método `area()` de la figura actual, que puede ser un objeto de cualquiera de las dos clases. Esto se debe a que ambos objetos tienen un método `area()` con el mismo nombre, y Python utiliza el polimorfismo para llamar al método correcto en cada caso.\n",
    "\n",
    "En resumen, el polimorfismo es una técnica que permite que los objetos de diferentes clases se comporten de manera similar, lo que hace que el código sea más flexible y fácil de mantener. En Python, el polimorfismo se puede lograr de diferentes maneras, como la sobrecarga de métodos y la herencia de clases.\n",
    "\n",
    "\n",
    "\n",
    "\n"
   ]
  },
  {
   "attachments": {},
   "cell_type": "markdown",
   "metadata": {},
   "source": [
    "## **Variables privadas en Python: la técnica del Mangling**"
   ]
  },
  {
   "attachments": {},
   "cell_type": "markdown",
   "metadata": {},
   "source": [
    "En Python, no existe una verdadera encapsulación de datos en el sentido tradicional, como lo hay en otros lenguajes de programación orientados a objetos. Sin embargo, Python proporciona una técnica llamada `\"mangling\"` para simular la privacidad de las variables de instancia y los métodos de una clase.\n",
    "\n",
    "La técnica del mangling consiste en agregar un doble guion bajo al inicio del nombre de la variable o método, lo que hace que Python la trate como privada y la haga más difícil de acceder desde fuera de la clase.\n",
    "\n",
    "Veamos un ejemplo de cómo se usa la técnica de mangling en Python:"
   ]
  },
  {
   "cell_type": "code",
   "execution_count": 82,
   "metadata": {},
   "outputs": [],
   "source": [
    "class Persona:\n",
    "    def __init__(self, nombre, edad):\n",
    "        self.__nombre = nombre\n",
    "        self.__edad = edad\n",
    "    \n",
    "    def get_edad(self):\n",
    "        return self.__edad\n",
    "    \n",
    "    def set_edad(self, edad):\n",
    "        if edad > 0:\n",
    "            self.__edad = edad\n",
    "    \n",
    "    def __get_nombre(self):\n",
    "        return self.__nombre\n",
    "    \n",
    "    def __set_nombre(self, nombre):\n",
    "        if nombre.isalpha():\n",
    "            self.__nombre = nombre\n",
    "    \n",
    "    nombre = property(fget=__get_nombre, fset=__set_nombre)\n"
   ]
  },
  {
   "attachments": {},
   "cell_type": "markdown",
   "metadata": {},
   "source": [
    "En este ejemplo, hemos definido una clase `Persona` con dos variables de instancia privadas `__nombre` y `__edad`. También hemos definido dos métodos `get_edad()` y `set_edad()` para acceder y modificar la variable de instancia `__edad`, respectivamente.\n",
    "\n",
    "Además, hemos definido dos métodos privados `__get_nombre()` y `__set_nombre()` que se utilizarán para acceder y modificar la variable de instancia `__nombre`. Sin embargo, en lugar de llamar directamente a estos métodos privados, hemos creado una propiedad llamada nombre que se utilizará para acceder y modificar la variable de instancia `__nombre`.\n",
    "\n",
    "La técnica de mangling hace que estas variables y métodos sean más difíciles de acceder desde fuera de la clase, aunque aún es posible hacerlo utilizando una sintaxis especial. Por ejemplo, para acceder a la variable de instancia privada `__nombre`, podemos hacer lo siguiente:"
   ]
  },
  {
   "cell_type": "code",
   "execution_count": 83,
   "metadata": {},
   "outputs": [
    {
     "name": "stdout",
     "output_type": "stream",
     "text": [
      "Juan\n"
     ]
    }
   ],
   "source": [
    "p = Persona(\"Juan\", 25)\n",
    "print(p._Persona__nombre)\n"
   ]
  },
  {
   "attachments": {},
   "cell_type": "markdown",
   "metadata": {},
   "source": [
    "Aquí, estamos accediendo directamente a la variable de instancia privada `__nombre` utilizando la sintaxis de mangling `_Persona__nombre`. Sin embargo, esta es una práctica no recomendada, ya que viola la privacidad de los datos de la clase.\n",
    "\n",
    "En resumen, la técnica de mangling en Python permite simular la privacidad de las variables y métodos de una clase, agregando un doble guion bajo al inicio de su nombre. Sin embargo, esta técnica no proporciona una verdadera encapsulación de datos y aún es posible acceder a estas variables y métodos desde fuera de la clase utilizando una sintaxis especial."
   ]
  },
  {
   "attachments": {},
   "cell_type": "markdown",
   "metadata": {},
   "source": [
    "## **Clases y Objetos**"
   ]
  },
  {
   "attachments": {},
   "cell_type": "markdown",
   "metadata": {},
   "source": [
    "Python es un lenguaje de programación orientado a objetos. Todo en Python es un objeto, con sus propiedades y métodos. Un número, cadena, lista, diccionario, tupla, conjunto, etc. utilizado en un programa es un objeto de una clase integrada correspondiente. Creamos clase para crear un objeto. Una clase es como un constructor de objetos o un \"modelo\" para crear objetos. Instanciamos una clase para crear un objeto. La clase define los atributos y el comportamiento del objeto, mientras que el objeto, por otro lado, representa la clase.\n",
    "\n",
    "Hemos estado trabajando con clases y objetos desde el comienzo de este desafío sin saberlo. Cada elemento en un programa de Python es un objeto de una clase. Comprobemos si todo en python es una clase:"
   ]
  },
  {
   "attachments": {},
   "cell_type": "markdown",
   "metadata": {},
   "source": [
    "### **Crear una clase**"
   ]
  },
  {
   "attachments": {},
   "cell_type": "markdown",
   "metadata": {},
   "source": [
    "Para crear una clase necesitamos la palabra clave `clase` seguida del nombre y dos puntos. El nombre de la clase debe ser ```CamelCase```."
   ]
  },
  {
   "attachments": {},
   "cell_type": "markdown",
   "metadata": {},
   "source": [
    "```\n",
    "# syntax\n",
    "class ClassName:\n",
    "  code goes here\n",
    "```"
   ]
  },
  {
   "cell_type": "code",
   "execution_count": 84,
   "metadata": {},
   "outputs": [
    {
     "name": "stdout",
     "output_type": "stream",
     "text": [
      "<class '__main__.Person'>\n"
     ]
    }
   ],
   "source": [
    "class Person:\n",
    "  pass\n",
    "print(Person)"
   ]
  },
  {
   "attachments": {},
   "cell_type": "markdown",
   "metadata": {},
   "source": [
    "### **Crear un objeto**"
   ]
  },
  {
   "attachments": {},
   "cell_type": "markdown",
   "metadata": {},
   "source": [
    "Podemos crear un objeto llamando a la `clase`."
   ]
  },
  {
   "cell_type": "code",
   "execution_count": 85,
   "metadata": {},
   "outputs": [
    {
     "name": "stdout",
     "output_type": "stream",
     "text": [
      "<__main__.Person object at 0x7f49fa58e9d0>\n"
     ]
    }
   ],
   "source": [
    "p = Person()\n",
    "print(p)"
   ]
  },
  {
   "attachments": {},
   "cell_type": "markdown",
   "metadata": {},
   "source": [
    "### **Constructor de clase**"
   ]
  },
  {
   "attachments": {},
   "cell_type": "markdown",
   "metadata": {},
   "source": [
    "En los ejemplos anteriores, hemos creado un objeto de la clase `Person`. Sin embargo, una clase sin constructor no es realmente útil en aplicaciones reales. Usemos la función constructora para que nuestra clase sea más útil. Al igual que la función constructora en Java o JavaScript, Python también tiene una función constructora `init()` incorporada . La función constructora `init` tiene un parámetro propio que es una referencia a la instancia actual de la clase.\n",
    "\n",
    "**Ejemplos:**"
   ]
  },
  {
   "cell_type": "code",
   "execution_count": 86,
   "metadata": {},
   "outputs": [
    {
     "name": "stdout",
     "output_type": "stream",
     "text": [
      "Asabeneh\n",
      "<__main__.Person object at 0x7f49fa460190>\n"
     ]
    }
   ],
   "source": [
    "class Person:\n",
    "      def __init__ (self, name):\n",
    "        # self allows to attach parameter to the class\n",
    "          self.name =name\n",
    "\n",
    "p = Person('Asabeneh')\n",
    "print(p.name)\n",
    "print(p)"
   ]
  },
  {
   "attachments": {},
   "cell_type": "markdown",
   "metadata": {},
   "source": [
    "Agreguemos más parámetros a la función constructora."
   ]
  },
  {
   "cell_type": "code",
   "execution_count": 87,
   "metadata": {},
   "outputs": [
    {
     "name": "stdout",
     "output_type": "stream",
     "text": [
      "Asabeneh\n",
      "Yetayeh\n",
      "25\n",
      "Finland\n",
      "Helsinki\n"
     ]
    }
   ],
   "source": [
    "class Person:\n",
    "      def __init__(self, firstname, lastname, age, country, city):\n",
    "          self.firstname = firstname\n",
    "          self.lastname = lastname\n",
    "          self.age = age\n",
    "          self.country = country\n",
    "          self.city = city\n",
    "\n",
    "\n",
    "p = Person('Asabeneh', 'Yetayeh', 25, 'Finland', 'Helsinki')\n",
    "print(p.firstname)\n",
    "print(p.lastname)\n",
    "print(p.age)\n",
    "print(p.country)\n",
    "print(p.city)"
   ]
  },
  {
   "attachments": {},
   "cell_type": "markdown",
   "metadata": {},
   "source": [
    "### **Métodos de objetos**"
   ]
  },
  {
   "attachments": {},
   "cell_type": "markdown",
   "metadata": {},
   "source": [
    "Los objetos pueden tener métodos. Los métodos son funciones que pertenecen al objeto."
   ]
  },
  {
   "cell_type": "code",
   "execution_count": 88,
   "metadata": {},
   "outputs": [
    {
     "name": "stdout",
     "output_type": "stream",
     "text": [
      "Asabeneh Yetayeh is 250 years old. He lives in Helsinki, Finland\n"
     ]
    }
   ],
   "source": [
    "class Person:\n",
    "      def __init__(self, firstname, lastname, age, country, city):\n",
    "          self.firstname = firstname\n",
    "          self.lastname = lastname\n",
    "          self.age = age\n",
    "          self.country = country\n",
    "          self.city = city\n",
    "      def person_info(self):\n",
    "        return f'{self.firstname} {self.lastname} is {self.age} years old. He lives in {self.city}, {self.country}'\n",
    "\n",
    "p = Person('Asabeneh', 'Yetayeh', 250, 'Finland', 'Helsinki')\n",
    "print(p.person_info())"
   ]
  },
  {
   "attachments": {},
   "cell_type": "markdown",
   "metadata": {},
   "source": [
    "### **Métodos predeterminados de objetos**"
   ]
  },
  {
   "attachments": {},
   "cell_type": "markdown",
   "metadata": {},
   "source": [
    "A veces, es posible que desee tener valores predeterminados para sus métodos de objeto. Si damos valores predeterminados para los parámetros en el constructor, podemos evitar errores cuando llamamos o instanciamos nuestra clase sin parámetros. Veamos cómo se ve:"
   ]
  },
  {
   "cell_type": "code",
   "execution_count": 89,
   "metadata": {},
   "outputs": [
    {
     "name": "stdout",
     "output_type": "stream",
     "text": [
      "Asabeneh Yetayeh is 250 years old. He lives in Helsinki, Finland.\n",
      "John Doe is 30 years old. He lives in Noman city, Nomanland.\n"
     ]
    }
   ],
   "source": [
    "class Person:\n",
    "      def __init__(self, firstname='Asabeneh', lastname='Yetayeh', age=250, country='Finland', city='Helsinki'):\n",
    "          self.firstname = firstname\n",
    "          self.lastname = lastname\n",
    "          self.age = age\n",
    "          self.country = country\n",
    "          self.city = city\n",
    "\n",
    "      def person_info(self):\n",
    "        return f'{self.firstname} {self.lastname} is {self.age} years old. He lives in {self.city}, {self.country}.'\n",
    "\n",
    "p1 = Person()\n",
    "print(p1.person_info())\n",
    "p2 = Person('John', 'Doe', 30, 'Nomanland', 'Noman city')\n",
    "print(p2.person_info())"
   ]
  },
  {
   "attachments": {},
   "cell_type": "markdown",
   "metadata": {},
   "source": [
    "### **Método para modificar los valores predeterminados de la clase**"
   ]
  },
  {
   "attachments": {},
   "cell_type": "markdown",
   "metadata": {},
   "source": [
    "En el siguiente ejemplo, la clase de `persona`, todos los parámetros del constructor tienen valores predeterminados. Además de eso, tenemos el parámetro de habilidades, al que podemos acceder usando un método. Vamos a crear el método `add_skill` para agregar habilidades a la lista de habilidades."
   ]
  },
  {
   "cell_type": "code",
   "execution_count": 90,
   "metadata": {},
   "outputs": [
    {
     "name": "stdout",
     "output_type": "stream",
     "text": [
      "Asabeneh Yetayeh is 250 years old. He lives in Helsinki, Finland.\n",
      "John Doe is 30 years old. He lives in Noman city, Nomanland.\n",
      "['HTML', 'CSS', 'JavaScript']\n",
      "[]\n"
     ]
    }
   ],
   "source": [
    "class Person:\n",
    "      def __init__(self, firstname='Asabeneh', lastname='Yetayeh', age=250, country='Finland', city='Helsinki'):\n",
    "          self.firstname = firstname\n",
    "          self.lastname = lastname\n",
    "          self.age = age\n",
    "          self.country = country\n",
    "          self.city = city\n",
    "          self.skills = []\n",
    "\n",
    "      def person_info(self):\n",
    "        return f'{self.firstname} {self.lastname} is {self.age} years old. He lives in {self.city}, {self.country}.'\n",
    "      def add_skill(self, skill):\n",
    "          self.skills.append(skill)\n",
    "\n",
    "p1 = Person()\n",
    "print(p1.person_info())\n",
    "p1.add_skill('HTML')\n",
    "p1.add_skill('CSS')\n",
    "p1.add_skill('JavaScript')\n",
    "p2 = Person('John', 'Doe', 30, 'Nomanland', 'Noman city')\n",
    "print(p2.person_info())\n",
    "print(p1.skills)\n",
    "print(p2.skills)"
   ]
  },
  {
   "attachments": {},
   "cell_type": "markdown",
   "metadata": {},
   "source": [
    "## **Herencia**"
   ]
  },
  {
   "attachments": {},
   "cell_type": "markdown",
   "metadata": {},
   "source": [
    "Usando la herencia podemos reutilizar el código de la clase principal. La herencia nos permite definir una clase que hereda todos los métodos y propiedades de la clase principal. La clase padre o superclase o clase base es la clase que proporciona todos los métodos y propiedades. La clase secundaria es la clase que hereda de otra clase principal. Vamos a crear una clase de estudiante heredando de la clase de persona."
   ]
  },
  {
   "cell_type": "code",
   "execution_count": 91,
   "metadata": {},
   "outputs": [
    {
     "name": "stdout",
     "output_type": "stream",
     "text": [
      "Eyob Yetayeh is 30 years old. He lives in Helsinki, Finland.\n",
      "['JavaScript', 'React', 'Python']\n",
      "Lidiya Teklemariam is 28 years old. He lives in Espoo, Finland.\n",
      "['Organizing', 'Marketing', 'Digital Marketing']\n"
     ]
    }
   ],
   "source": [
    "class Student(Person):\n",
    "    pass\n",
    "\n",
    "\n",
    "s1 = Student('Eyob', 'Yetayeh', 30, 'Finland', 'Helsinki')\n",
    "s2 = Student('Lidiya', 'Teklemariam', 28, 'Finland', 'Espoo')\n",
    "print(s1.person_info())\n",
    "s1.add_skill('JavaScript')\n",
    "s1.add_skill('React')\n",
    "s1.add_skill('Python')\n",
    "print(s1.skills)\n",
    "\n",
    "print(s2.person_info())\n",
    "s2.add_skill('Organizing')\n",
    "s2.add_skill('Marketing')\n",
    "s2.add_skill('Digital Marketing')\n",
    "print(s2.skills)"
   ]
  },
  {
   "attachments": {},
   "cell_type": "markdown",
   "metadata": {},
   "source": [
    "No llamamos al constructor `init()` en la clase secundaria. Si no lo llamamos, aún podemos acceder a todas las propiedades desde el padre. Pero si llamamos al constructor, podemos acceder a las propiedades principales llamando a super .\n",
    "Podemos agregar un nuevo método al elemento secundario o podemos anular los métodos de la clase principal creando el mismo nombre de método en la clase secundaria. Cuando agregamos la función `init()`, la clase secundaria ya no heredará la función `init()` de los padres."
   ]
  },
  {
   "attachments": {},
   "cell_type": "markdown",
   "metadata": {},
   "source": [
    "### **Anulación del método principal**"
   ]
  },
  {
   "cell_type": "code",
   "execution_count": 92,
   "metadata": {},
   "outputs": [
    {
     "name": "stdout",
     "output_type": "stream",
     "text": [
      "Eyob Yetayeh is 30 years old. He lives in Helsinki, Finland.\n",
      "['JavaScript', 'React', 'Python']\n",
      "Lidiya Teklemariam is 28 years old. She lives in Espoo, Finland.\n",
      "['Organizing', 'Marketing', 'Digital Marketing']\n"
     ]
    }
   ],
   "source": [
    "class Student(Person):\n",
    "    def __init__ (self, firstname='Asabeneh', lastname='Yetayeh',age=250, country='Finland', city='Helsinki', gender='male'):\n",
    "        self.gender = gender\n",
    "        super().__init__(firstname, lastname,age, country, city)\n",
    "    def person_info(self):\n",
    "        gender = 'He' if self.gender =='male' else 'She'\n",
    "        return f'{self.firstname} {self.lastname} is {self.age} years old. {gender} lives in {self.city}, {self.country}.'\n",
    "\n",
    "s1 = Student('Eyob', 'Yetayeh', 30, 'Finland', 'Helsinki','male')\n",
    "s2 = Student('Lidiya', 'Teklemariam', 28, 'Finland', 'Espoo', 'female')\n",
    "print(s1.person_info())\n",
    "s1.add_skill('JavaScript')\n",
    "s1.add_skill('React')\n",
    "s1.add_skill('Python')\n",
    "print(s1.skills)\n",
    "\n",
    "print(s2.person_info())\n",
    "s2.add_skill('Organizing')\n",
    "s2.add_skill('Marketing')\n",
    "s2.add_skill('Digital Marketing')\n",
    "print(s2.skills)"
   ]
  },
  {
   "attachments": {},
   "cell_type": "markdown",
   "metadata": {},
   "source": [
    "Podemos usar la función integrada `super()` o el nombre del padre `Persona` para heredar automáticamente los métodos y propiedades de su padre. En el ejemplo anterior, anulamos el método principal. El método del niño tiene una característica diferente, puede identificar si el género es masculino o femenino y asignar el pronombre adecuado (Él/Ella)."
   ]
  },
  {
   "attachments": {},
   "cell_type": "markdown",
   "metadata": {},
   "source": [
    "| **Inicio** | **atrás 12** | **Siguiente 14** |\n",
    "|----------- |-------------- |---------------|\n",
    "| [🏠](../../README.md) | [⏪](./12.DataFrames_con_Pandas.ipynb)| [⏩](./14.Scripts_Modulos.ipynb)|"
   ]
  }
 ],
 "metadata": {
  "kernelspec": {
   "display_name": "base",
   "language": "python",
   "name": "python3"
  },
  "language_info": {
   "codemirror_mode": {
    "name": "ipython",
    "version": 3
   },
   "file_extension": ".py",
   "mimetype": "text/x-python",
   "name": "python",
   "nbconvert_exporter": "python",
   "pygments_lexer": "ipython3",
   "version": "3.9.12"
  },
  "orig_nbformat": 4
 },
 "nbformat": 4,
 "nbformat_minor": 2
}
