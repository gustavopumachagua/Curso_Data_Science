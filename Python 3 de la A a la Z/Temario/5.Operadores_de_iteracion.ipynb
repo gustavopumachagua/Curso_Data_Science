{
 "cells": [
  {
   "attachments": {},
   "cell_type": "markdown",
   "metadata": {},
   "source": [
    "| **Inicio** | **atrás 4** | **Siguiente 6** |\n",
    "|----------- |-------------- |---------------|\n",
    "| [🏠](../../README.md) | [⏪](./4.Operadores_de_decision.ipynb)| [⏩](./6.Estructuras_de_datos_Listas.ipynb)|"
   ]
  },
  {
   "attachments": {},
   "cell_type": "markdown",
   "metadata": {},
   "source": [
    "# **5. Operadores de iteración**"
   ]
  },
  {
   "attachments": {},
   "cell_type": "markdown",
   "metadata": {},
   "source": [
    "## **El bucle while**"
   ]
  },
  {
   "attachments": {},
   "cell_type": "markdown",
   "metadata": {},
   "source": [
    "El bucle ```while``` en Python es una estructura de control de flujo que se utiliza para repetir un bloque de código mientras se cumpla una determinada condición. La sintaxis básica del bucle ```while``` es la siguiente:"
   ]
  },
  {
   "attachments": {},
   "cell_type": "markdown",
   "metadata": {},
   "source": [
    "```\n",
    "while condición:\n",
    "    # código a repetir mientras se cumpla la condición\n",
    "```"
   ]
  },
  {
   "attachments": {},
   "cell_type": "markdown",
   "metadata": {},
   "source": [
    "La condición es una expresión que se evalúa como verdadera o falsa, y se comprueba al comienzo de cada iteración del bucle. Si la condición es verdadera, se ejecuta el bloque de código dentro del bucle y luego se vuelve a comprobar la condición. Si la condición es falsa, el bucle se detiene y la ejecución del programa continúa con la siguiente línea después del bucle.\n",
    "\n",
    "Veamos un ejemplo simple:"
   ]
  },
  {
   "cell_type": "code",
   "execution_count": 1,
   "metadata": {},
   "outputs": [
    {
     "name": "stdout",
     "output_type": "stream",
     "text": [
      "El contador es: 0\n",
      "El contador es: 1\n",
      "El contador es: 2\n",
      "El contador es: 3\n",
      "El contador es: 4\n",
      "Fin del bucle\n"
     ]
    }
   ],
   "source": [
    "contador = 0\n",
    "while contador < 5:\n",
    "    print(\"El contador es:\", contador)\n",
    "    contador += 1\n",
    "print(\"Fin del bucle\")\n"
   ]
  },
  {
   "attachments": {},
   "cell_type": "markdown",
   "metadata": {},
   "source": [
    "En este ejemplo, el bucle ```while``` se ejecuta mientras el valor de la variable contador sea menor que 5. En cada iteración, se imprime el valor actual del contador y se incrementa en 1. Cuando el contador llega a 5, la condición se evalúa como falsa y el bucle termina.\n",
    "\n",
    "Es importante tener en cuenta que si la condición nunca se evalúa como falsa, el bucle ```while``` se ejecutará en un ciclo infinito, lo que podría provocar que el programa se bloquee. Por lo tanto, es fundamental asegurarse de que la condición de salida del bucle se cumpla en algún momento.\n",
    "\n",
    "El bucle ```while``` también se puede utilizar junto con otros operadores de control de flujo, como ```break``` y ```continue```, para interrumpir el bucle o saltar a la siguiente iteración en función de ciertas condiciones.\n",
    "\n",
    "Veamos un ejemplo que utiliza el operador ```break``` para detener el bucle ```while``` cuando se ingresa un valor negativo:"
   ]
  },
  {
   "cell_type": "code",
   "execution_count": 3,
   "metadata": {},
   "outputs": [
    {
     "name": "stdout",
     "output_type": "stream",
     "text": [
      "El doble del valor ingresado es: 18\n",
      "El doble del valor ingresado es: 40\n",
      "El doble del valor ingresado es: 14\n",
      "El doble del valor ingresado es: 120\n"
     ]
    },
    {
     "ename": "ValueError",
     "evalue": "invalid literal for int() with base 10: ''",
     "output_type": "error",
     "traceback": [
      "\u001b[0;31m---------------------------------------------------------------------------\u001b[0m",
      "\u001b[0;31mValueError\u001b[0m                                Traceback (most recent call last)",
      "\u001b[1;32m/home/puma/personalprojects/project_data/Curso_Data_Science/Python 3 de la A a la Z/Temario/5.Operadores_de_iteracion.ipynb Celda 9\u001b[0m in \u001b[0;36m<cell line: 2>\u001b[0;34m()\u001b[0m\n\u001b[1;32m      <a href='vscode-notebook-cell://wsl%2Bubuntu/home/puma/personalprojects/project_data/Curso_Data_Science/Python%203%20de%20la%20A%20a%20la%20Z/Temario/5.Operadores_de_iteracion.ipynb#X12sdnNjb2RlLXJlbW90ZQ%3D%3D?line=0'>1</a>\u001b[0m \u001b[39mwhile\u001b[39;00m \u001b[39mTrue\u001b[39;00m:\n\u001b[0;32m----> <a href='vscode-notebook-cell://wsl%2Bubuntu/home/puma/personalprojects/project_data/Curso_Data_Science/Python%203%20de%20la%20A%20a%20la%20Z/Temario/5.Operadores_de_iteracion.ipynb#X12sdnNjb2RlLXJlbW90ZQ%3D%3D?line=1'>2</a>\u001b[0m     valor \u001b[39m=\u001b[39m \u001b[39mint\u001b[39;49m(\u001b[39minput\u001b[39;49m(\u001b[39m\"\u001b[39;49m\u001b[39mIngrese un número positivo (o un valor negativo para salir): \u001b[39;49m\u001b[39m\"\u001b[39;49m))\n\u001b[1;32m      <a href='vscode-notebook-cell://wsl%2Bubuntu/home/puma/personalprojects/project_data/Curso_Data_Science/Python%203%20de%20la%20A%20a%20la%20Z/Temario/5.Operadores_de_iteracion.ipynb#X12sdnNjb2RlLXJlbW90ZQ%3D%3D?line=2'>3</a>\u001b[0m     \u001b[39mif\u001b[39;00m valor \u001b[39m<\u001b[39m \u001b[39m0\u001b[39m:\n\u001b[1;32m      <a href='vscode-notebook-cell://wsl%2Bubuntu/home/puma/personalprojects/project_data/Curso_Data_Science/Python%203%20de%20la%20A%20a%20la%20Z/Temario/5.Operadores_de_iteracion.ipynb#X12sdnNjb2RlLXJlbW90ZQ%3D%3D?line=3'>4</a>\u001b[0m         \u001b[39mprint\u001b[39m(\u001b[39m\"\u001b[39m\u001b[39mValor negativo ingresado. Saliendo del bucle...\u001b[39m\u001b[39m\"\u001b[39m)\n",
      "\u001b[0;31mValueError\u001b[0m: invalid literal for int() with base 10: ''"
     ]
    }
   ],
   "source": [
    "while True:\n",
    "    valor = int(input(\"Ingrese un número positivo (o un valor negativo para salir): \"))\n",
    "    if valor < 0:\n",
    "        print(\"Valor negativo ingresado. Saliendo del bucle...\")\n",
    "        break\n",
    "    print(\"El doble del valor ingresado es:\", valor * 2)\n",
    "print(\"Fin del bucle\")\n"
   ]
  },
  {
   "attachments": {},
   "cell_type": "markdown",
   "metadata": {},
   "source": [
    "En este ejemplo, el bucle ```while``` se ejecuta indefinidamente (ya que la condición es siempre verdadera). En cada iteración, se solicita al usuario que ingrese un número positivo. Si el valor ingresado es negativo, el bucle se detiene utilizando el operador ```break```. Si el valor es positivo, se imprime el doble del valor y se vuelve a pedir otro número."
   ]
  },
  {
   "attachments": {},
   "cell_type": "markdown",
   "metadata": {},
   "source": [
    "## **El comando break**"
   ]
  },
  {
   "attachments": {},
   "cell_type": "markdown",
   "metadata": {},
   "source": [
    "En Python, el comando ```break``` se utiliza para salir de un bucle ```for``` o ```while``` antes de que se complete la iteración completa. Cuando se encuentra el comando ```break```, la ejecución del bucle se detiene y se salta a la siguiente instrucción después del bucle.\n",
    "\n",
    "La sintaxis básica del comando ```break``` es la siguiente:"
   ]
  },
  {
   "attachments": {},
   "cell_type": "markdown",
   "metadata": {},
   "source": [
    "```\n",
    "while condicion:\n",
    "    instrucciones\n",
    "    if condicion:\n",
    "        break\n",
    "```"
   ]
  },
  {
   "attachments": {},
   "cell_type": "markdown",
   "metadata": {},
   "source": [
    "Aquí, condicion es la expresión que se evalúa como verdadera o falsa. El bucle se ejecuta mientras condicion es verdadera. Si se encuentra una instrucción ```break``` dentro del bucle, se sale del bucle y se salta a la siguiente instrucción después del bucle.\n",
    "\n",
    "Veamos un ejemplo para entender mejor cómo funciona el comando ```break```:"
   ]
  },
  {
   "cell_type": "code",
   "execution_count": 4,
   "metadata": {},
   "outputs": [
    {
     "name": "stdout",
     "output_type": "stream",
     "text": [
      "1\n",
      "2\n",
      "3\n",
      "4\n",
      "Se ha salido del bucle\n"
     ]
    }
   ],
   "source": [
    "numeros = [1, 2, 3, 4, 5, 6, 7, 8, 9, 10]\n",
    "\n",
    "for numero in numeros:\n",
    "    if numero == 5:\n",
    "        break\n",
    "    print(numero)\n",
    "\n",
    "print(\"Se ha salido del bucle\")\n"
   ]
  },
  {
   "attachments": {},
   "cell_type": "markdown",
   "metadata": {},
   "source": [
    "En este ejemplo, tenemos una lista de números del 1 al 10 y estamos iterando a través de ellos usando un bucle ```for```. Dentro del bucle, comprobamos si el número actual es igual a 5. Si es así, se encuentra el comando ```break``` y se sale del bucle. De lo contrario, imprimimos el número actual en la consola."
   ]
  },
  {
   "attachments": {},
   "cell_type": "markdown",
   "metadata": {},
   "source": [
    "En este ejemplo, tenemos una lista de números del 1 al 10 y estamos iterando a través de ellos usando un bucle ```for```. Dentro del bucle, comprobamos si el número actual es igual a 5. Si es así, se encuentra el comando ```break``` y se sale del bucle. De lo contrario, imprimimos el número actual en la consola."
   ]
  },
  {
   "attachments": {},
   "cell_type": "markdown",
   "metadata": {},
   "source": [
    "## **Combinación while ... else**"
   ]
  },
  {
   "attachments": {},
   "cell_type": "markdown",
   "metadata": {},
   "source": [
    "En Python, el bucle ```while``` se utiliza para repetir una sección de código hasta que se cumpla una condición especificada. Además del bucle ```while```, también se puede incluir una cláusula ```else``` después del bucle. Esta cláusula ```else``` se ejecutará cuando la condición del bucle ```while``` sea falsa.\n",
    "\n",
    "La sintaxis para la combinación ```while...else``` en Python es la siguiente:"
   ]
  },
  {
   "attachments": {},
   "cell_type": "markdown",
   "metadata": {},
   "source": [
    "```\n",
    "while condición:\n",
    "    # bloque de código que se ejecutará mientras se cumpla la condición\n",
    "else:\n",
    "    # bloque de código que se ejecutará cuando la condición sea falsa\n",
    "```"
   ]
  },
  {
   "attachments": {},
   "cell_type": "markdown",
   "metadata": {},
   "source": [
    "En el siguiente ejemplo, se utiliza un bucle ```while``` para imprimir los números del 0 al 4. La cláusula ```else``` se utiliza para imprimir un mensaje después de que se hayan impreso todos los números."
   ]
  },
  {
   "cell_type": "code",
   "execution_count": 5,
   "metadata": {},
   "outputs": [
    {
     "name": "stdout",
     "output_type": "stream",
     "text": [
      "0\n",
      "1\n",
      "2\n",
      "3\n",
      "4\n",
      "Se han impreso todos los números del 0 al 4\n"
     ]
    }
   ],
   "source": [
    "i = 0\n",
    "while i < 5:\n",
    "    print(i)\n",
    "    i += 1\n",
    "else:\n",
    "    print(\"Se han impreso todos los números del 0 al 4\")\n"
   ]
  },
  {
   "attachments": {},
   "cell_type": "markdown",
   "metadata": {},
   "source": [
    "En este ejemplo, el bucle ```while``` se ejecuta hasta que la variable i sea igual a 5. Después de imprimir los números del 0 al 4, se ejecuta el bloque de código de la cláusula ```else```, que imprime el mensaje \"Se han impreso todos los números del 0 al 4\"."
   ]
  },
  {
   "attachments": {},
   "cell_type": "markdown",
   "metadata": {},
   "source": [
    "## **El bucle for**"
   ]
  },
  {
   "attachments": {},
   "cell_type": "markdown",
   "metadata": {},
   "source": [
    "El bucle ```for``` es una estructura de control en Python que se utiliza para iterar sobre una secuencia de elementos, como una ```lista```, una ```tupla```, un ```diccionario```, una cadena, entre otros.\n",
    "\n",
    "La sintaxis general del bucle ```for``` es la siguiente:"
   ]
  },
  {
   "attachments": {},
   "cell_type": "markdown",
   "metadata": {},
   "source": [
    "```\n",
    "for variable in secuencia:\n",
    "    # Código a ejecutar en cada iteración\n",
    "```"
   ]
  },
  {
   "attachments": {},
   "cell_type": "markdown",
   "metadata": {},
   "source": [
    "* variable es la variable que toma el valor de cada elemento de la secuencia en cada iteración.\n",
    "\n",
    "* secuencia es la secuencia de elementos a recorrer.\n",
    "\n",
    "* El código a ejecutar en cada iteración debe ir indentado en el bloque de código del bucle.\n",
    "\n",
    "A continuación, se muestran algunos ejemplos de uso del bucle for en Python:\n",
    "\n",
    "* **Ejemplo 1:** Iterar sobre una lista"
   ]
  },
  {
   "cell_type": "code",
   "execution_count": 6,
   "metadata": {},
   "outputs": [
    {
     "name": "stdout",
     "output_type": "stream",
     "text": [
      "manzana\n",
      "banana\n",
      "kiwi\n",
      "uva\n"
     ]
    }
   ],
   "source": [
    "frutas = ['manzana', 'banana', 'kiwi', 'uva']\n",
    "\n",
    "for fruta in frutas:\n",
    "    print(fruta)\n"
   ]
  },
  {
   "attachments": {},
   "cell_type": "markdown",
   "metadata": {},
   "source": [
    "* **Ejemplo 2:** Iterar sobre un rango de números"
   ]
  },
  {
   "cell_type": "code",
   "execution_count": 7,
   "metadata": {},
   "outputs": [
    {
     "name": "stdout",
     "output_type": "stream",
     "text": [
      "1\n",
      "2\n",
      "3\n",
      "4\n",
      "5\n"
     ]
    }
   ],
   "source": [
    "for num in range(1, 6):\n",
    "    print(num)\n"
   ]
  },
  {
   "attachments": {},
   "cell_type": "markdown",
   "metadata": {},
   "source": [
    "* **Ejemplo 3:** Iterar sobre una cadena de texto"
   ]
  },
  {
   "cell_type": "code",
   "execution_count": 8,
   "metadata": {},
   "outputs": [
    {
     "name": "stdout",
     "output_type": "stream",
     "text": [
      "H\n",
      "o\n",
      "l\n",
      "a\n",
      ",\n",
      " \n",
      "m\n",
      "u\n",
      "n\n",
      "d\n",
      "o\n",
      "!\n"
     ]
    }
   ],
   "source": [
    "mensaje = \"Hola, mundo!\"\n",
    "\n",
    "for letra in mensaje:\n",
    "    print(letra)\n"
   ]
  },
  {
   "attachments": {},
   "cell_type": "markdown",
   "metadata": {},
   "source": [
    "* **Ejemplo 4:** Iterar sobre un diccionario"
   ]
  },
  {
   "cell_type": "code",
   "execution_count": 9,
   "metadata": {},
   "outputs": [
    {
     "name": "stdout",
     "output_type": "stream",
     "text": [
      "Juan tiene 19 años.\n",
      "María tiene 20 años.\n",
      "Pedro tiene 18 años.\n"
     ]
    }
   ],
   "source": [
    "estudiantes = {'Juan': 19, 'María': 20, 'Pedro': 18}\n",
    "\n",
    "for nombre, edad in estudiantes.items():\n",
    "    print(nombre, 'tiene', edad, 'años.')\n"
   ]
  },
  {
   "attachments": {},
   "cell_type": "markdown",
   "metadata": {},
   "source": [
    "En este último ejemplo, se utiliza el método ```items()``` para obtener una lista de tuplas con cada par clave-valor del diccionario. Luego, se utiliza la técnica de desempaquetado para asignar la clave a la variable ```nombre``` y el valor a la variable ```edad``` en cada iteración del bucle.\n",
    "\n",
    "En resumen, el bucle ```for``` es una herramienta muy útil en Python para iterar sobre secuencias de elementos y realizar operaciones en cada iteración."
   ]
  },
  {
   "attachments": {},
   "cell_type": "markdown",
   "metadata": {},
   "source": [
    "## **La función range**"
   ]
  },
  {
   "attachments": {},
   "cell_type": "markdown",
   "metadata": {},
   "source": [
    "La función ```range()``` en Python es una función integrada que se utiliza para crear una secuencia de números enteros. Se utiliza comúnmente en los bucles ```for``` para iterar sobre una secuencia de valores. La sintaxis general de la función ```range()``` es la siguiente:"
   ]
  },
  {
   "attachments": {},
   "cell_type": "markdown",
   "metadata": {},
   "source": [
    "```\n",
    "range([start], stop[, step])\n",
    "```"
   ]
  },
  {
   "attachments": {},
   "cell_type": "markdown",
   "metadata": {},
   "source": [
    "donde ```start``` es el número inicial de la secuencia (opcional, el valor predeterminado es 0), ```stop``` es el número final de la secuencia (obligatorio) y ```step``` es el tamaño del incremento entre los números de la secuencia (opcional, el valor predeterminado es 1).\n",
    "\n",
    "La función ```range()``` devuelve un objeto de tipo ```range```, que es una secuencia inmutable de números enteros. Para ver los valores de la secuencia, se puede convertir el objeto range en una lista utilizando la función ```list()```, por ejemplo:"
   ]
  },
  {
   "cell_type": "code",
   "execution_count": 11,
   "metadata": {},
   "outputs": [
    {
     "data": {
      "text/plain": [
       "range(0, 5)"
      ]
     },
     "execution_count": 11,
     "metadata": {},
     "output_type": "execute_result"
    }
   ],
   "source": [
    "range(5)\n",
    "\n"
   ]
  },
  {
   "cell_type": "code",
   "execution_count": 12,
   "metadata": {},
   "outputs": [
    {
     "data": {
      "text/plain": [
       "[0, 1, 2, 3, 4]"
      ]
     },
     "execution_count": 12,
     "metadata": {},
     "output_type": "execute_result"
    }
   ],
   "source": [
    "list(range(5))\n"
   ]
  },
  {
   "cell_type": "code",
   "execution_count": 13,
   "metadata": {},
   "outputs": [
    {
     "data": {
      "text/plain": [
       "[1, 3, 5, 7, 9]"
      ]
     },
     "execution_count": 13,
     "metadata": {},
     "output_type": "execute_result"
    }
   ],
   "source": [
    "list(range(1, 10, 2))"
   ]
  },
  {
   "attachments": {},
   "cell_type": "markdown",
   "metadata": {},
   "source": [
    "En el primer ejemplo, la función ```range(5)``` crea una secuencia de números enteros desde 0 hasta 4 (es decir, los números 0, 1, 2, 3, 4). En el segundo ejemplo, la función ```range(1, 10, 2)``` crea una secuencia de números enteros desde 1 hasta 9, con un incremento de 2 entre cada número (es decir, los números 1, 3, 5, 7, 9).\n",
    "\n",
    "La función ```range()``` se utiliza comúnmente en los bucles ```for``` para iterar sobre una secuencia de valores. Por ejemplo:"
   ]
  },
  {
   "cell_type": "code",
   "execution_count": 14,
   "metadata": {},
   "outputs": [
    {
     "name": "stdout",
     "output_type": "stream",
     "text": [
      "0\n",
      "1\n",
      "2\n",
      "3\n",
      "4\n"
     ]
    }
   ],
   "source": [
    "for i in range(5):\n",
    "    print(i)\n"
   ]
  },
  {
   "attachments": {},
   "cell_type": "markdown",
   "metadata": {},
   "source": [
    "En este ejemplo, el bucle ```for``` itera sobre una secuencia de valores desde 0 hasta 4 (es decir, los números 0, 1, 2, 3, 4) y muestra cada número en la consola.\n",
    "\n",
    "En resumen, la función ```range()``` en Python se utiliza para crear una secuencia de números enteros que se puede utilizar para iterar sobre en los bucles ```for```."
   ]
  },
  {
   "attachments": {},
   "cell_type": "markdown",
   "metadata": {},
   "source": [
    "## **El comando continue**"
   ]
  },
  {
   "attachments": {},
   "cell_type": "markdown",
   "metadata": {},
   "source": [
    "El comando ```continue``` es una instrucción que se utiliza dentro de bucles en Python para saltar a la siguiente iteración del bucle sin ejecutar el código que se encuentra después de él en esa iteración. En otras palabras, si se encuentra el comando ```continue```, el bucle omite cualquier línea de código que venga después de él y pasa a la siguiente iteración del bucle.\n",
    "\n",
    "El uso más común del comando ```continue``` es en bucles ```for``` y ```while``` para omitir la ejecución de ciertas iteraciones basadas en alguna condición. Por ejemplo, en un bucle que imprime los números del 1 al 10, si queremos imprimir solo los números impares, podemos usar ```continue``` para saltar las iteraciones en las que el número es par.\n",
    "\n",
    "Aquí hay un ejemplo que muestra cómo usar ```continue``` en un bucle ```for``` para imprimir solo los números impares:"
   ]
  },
  {
   "cell_type": "code",
   "execution_count": 15,
   "metadata": {},
   "outputs": [
    {
     "name": "stdout",
     "output_type": "stream",
     "text": [
      "1\n",
      "3\n",
      "5\n",
      "7\n",
      "9\n"
     ]
    }
   ],
   "source": [
    "for i in range(1, 11):\n",
    "    if i % 2 == 0:  # Si el número es par, salta esta iteración.\n",
    "        continue\n",
    "    print(i)\n"
   ]
  },
  {
   "attachments": {},
   "cell_type": "markdown",
   "metadata": {},
   "source": [
    "En este ejemplo, la variable ```i``` toma valores del 1 al 10 en cada iteración del bucle ```for```. Dentro del bucle, la condición ```if i % 2 == 0:``` comprueba si ```i``` es par usando el operador ```% (módulo)```, que devuelve el resto de la división entre ```i``` y 2. Si ```i``` es par, el comando ```continue``` salta a la siguiente iteración del bucle sin ejecutar el código que se encuentra después de él en esa iteración. Si ```i``` es impar, se ejecuta la instrucción ```print(i)``` para imprimir el número en la consola.\n",
    "\n",
    "En resumen, el comando ```continue``` es una herramienta útil en Python para controlar el flujo de ejecución dentro de bucles y omitir ciertas iteraciones en función de alguna condición."
   ]
  },
  {
   "attachments": {},
   "cell_type": "markdown",
   "metadata": {},
   "source": [
    "## **Bucles anidados**"
   ]
  },
  {
   "attachments": {},
   "cell_type": "markdown",
   "metadata": {},
   "source": [
    "Los bucles anidados en Python se refieren a la inclusión de uno o más bucles dentro de otro bucle. Esto es útil cuando se necesita realizar una tarea que requiere varias iteraciones, donde cada iteración en un bucle externo debe contener varias iteraciones en un bucle interno.\n",
    "\n",
    "La sintaxis general de los bucles anidados en Python es la siguiente:"
   ]
  },
  {
   "attachments": {},
   "cell_type": "markdown",
   "metadata": {},
   "source": [
    "```\n",
    "for variable1 in secuencia1:\n",
    "    for variable2 in secuencia2:\n",
    "        # Código a ejecutar\n",
    "```"
   ]
  },
  {
   "attachments": {},
   "cell_type": "markdown",
   "metadata": {},
   "source": [
    "En este ejemplo, el primer bucle ```for``` establece una variable que tomará los valores de una secuencia (por ejemplo, una lista). Dentro de este bucle, se define un segundo bucle ```for``` que establece otra variable para tomar valores de otra secuencia. El código a ejecutar se encuentra en el bloque interior de ambos bucles.\n",
    "\n",
    "Aquí hay un ejemplo que utiliza un bucle ```for``` anidado para imprimir una matriz bidimensional:"
   ]
  },
  {
   "cell_type": "code",
   "execution_count": 16,
   "metadata": {},
   "outputs": [
    {
     "name": "stdout",
     "output_type": "stream",
     "text": [
      "0 0\n",
      "0 1\n",
      "0 2\n",
      "1 0\n",
      "1 1\n",
      "1 2\n",
      "2 0\n",
      "2 1\n",
      "2 2\n"
     ]
    }
   ],
   "source": [
    "for i in range(3):\n",
    "    for j in range(3):\n",
    "        print(i, j)\n"
   ]
  },
  {
   "attachments": {},
   "cell_type": "markdown",
   "metadata": {},
   "source": [
    "Este código creará una matriz de 3x3 e imprimirá cada elemento en la pantalla. El primer bucle ```for``` itera a través de la fila de la matriz, mientras que el segundo bucle ```for``` itera a través de cada columna de la matriz.\n",
    "\n",
    "Los bucles anidados también pueden ser utilizados para crear estructuras de datos más complejas. Por ejemplo, se puede utilizar un bucle ```for``` externo para crear una lista de listas, donde cada lista interna representa una fila en una matriz:"
   ]
  },
  {
   "cell_type": "code",
   "execution_count": 17,
   "metadata": {},
   "outputs": [
    {
     "name": "stdout",
     "output_type": "stream",
     "text": [
      "[[0, 1, 2], [1, 2, 3], [2, 3, 4]]\n"
     ]
    }
   ],
   "source": [
    "matrix = []\n",
    "for i in range(3):\n",
    "    row = []\n",
    "    for j in range(3):\n",
    "        row.append(i+j)\n",
    "    matrix.append(row)\n",
    "\n",
    "print(matrix)\n"
   ]
  },
  {
   "attachments": {},
   "cell_type": "markdown",
   "metadata": {},
   "source": [
    "En este ejemplo, se crea una lista vacía llamada ```matrix```. El primer bucle ```for``` se encarga de iterar a través de cada fila de la matriz, mientras que el segundo bucle ```for``` itera a través de cada columna. Dentro del segundo bucle, se calcula el valor de cada elemento y se agrega a una lista llamada ```row```. Luego, esta lista se agrega a la matriz principal usando la función ```append()```. Finalmente, la matriz completa se imprime en la pantalla.\n",
    "\n",
    "En resumen, los bucles anidados en Python son una herramienta útil para realizar tareas que requieren varias iteraciones en estructuras de datos complejas. La combinación de varios bucles ```for``` o ```while``` puede permitir la creación de estructuras de datos y la manipulación de datos de manera más efectiva y eficiente."
   ]
  },
  {
   "attachments": {},
   "cell_type": "markdown",
   "metadata": {},
   "source": [
    "## **Condicionales**"
   ]
  },
  {
   "attachments": {},
   "cell_type": "markdown",
   "metadata": {},
   "source": [
    "De forma predeterminada, las declaraciones en el script de Python se ejecutan secuencialmente de arriba a abajo. Si la lógica de procesamiento lo requiere, el flujo secuencial de ejecución se puede alterar de dos formas:\n",
    "\n",
    "* Ejecución condicional: se ejecutará un bloque de una o más sentencias si cierta expresión es verdadera\n",
    "* Ejecución repetitiva: un bloque de una o más sentencias se ejecutará de forma repetitiva siempre que cierta expresión sea verdadera. En esta sección, cubriremos las declaraciones ```if``` , ```else``` y ```elif```.\n",
    "\n",
    "Los operadores lógicos y de comparación que aprendimos en las secciones anteriores serán útiles aquí."
   ]
  },
  {
   "attachments": {},
   "cell_type": "markdown",
   "metadata": {},
   "source": [
    "### **If Condition**"
   ]
  },
  {
   "attachments": {},
   "cell_type": "markdown",
   "metadata": {},
   "source": [
    "```\n",
    "# syntax\n",
    "if condition:\n",
    "    this part of code runs for truthy conditions\n",
    "```"
   ]
  },
  {
   "cell_type": "code",
   "execution_count": 18,
   "metadata": {},
   "outputs": [
    {
     "name": "stdout",
     "output_type": "stream",
     "text": [
      "A is a positive number\n"
     ]
    }
   ],
   "source": [
    "a = 3\n",
    "if a > 0:\n",
    "    print('A is a positive number')\n",
    "# a es un numero positivo"
   ]
  },
  {
   "attachments": {},
   "cell_type": "markdown",
   "metadata": {},
   "source": [
    "Como puede ver en el ejemplo anterior, 3 es mayor que 0. La condición era verdadera y se ejecutó el código de bloque. Sin embargo, si la condición es falsa, no vemos el resultado. Para ver el resultado de la condición falsa, deberíamos tener otro bloque, que va a ser ```else```."
   ]
  },
  {
   "attachments": {},
   "cell_type": "markdown",
   "metadata": {},
   "source": [
    "### **If Else**"
   ]
  },
  {
   "attachments": {},
   "cell_type": "markdown",
   "metadata": {},
   "source": [
    "Si la condición es verdadera, se ejecutará el primer bloque, si no, se ejecutará la otra condición.\n",
    "\n",
    "```\n",
    "# syntax\n",
    "if condition:\n",
    "    this part of code runs for truthy conditions\n",
    "else:\n",
    "     this part of code runs for false conditions\n",
    "```"
   ]
  },
  {
   "cell_type": "code",
   "execution_count": 19,
   "metadata": {},
   "outputs": [
    {
     "name": "stdout",
     "output_type": "stream",
     "text": [
      "A is a positive number\n"
     ]
    }
   ],
   "source": [
    "a = 3\n",
    "if a < 0:\n",
    "    print('A is a negative number')\n",
    "else:\n",
    "    print('A is a positive number')"
   ]
  },
  {
   "attachments": {},
   "cell_type": "markdown",
   "metadata": {},
   "source": [
    "La condición anterior resulta falsa, por lo que se ejecutó el bloque ```else```. ¿Qué tal si nuestra condición es más de dos? Podríamos usar ```elif```"
   ]
  },
  {
   "attachments": {},
   "cell_type": "markdown",
   "metadata": {},
   "source": [
    "### **If Elif Else**"
   ]
  },
  {
   "attachments": {},
   "cell_type": "markdown",
   "metadata": {},
   "source": [
    "En nuestra vida diaria, tomamos decisiones a diario. Tomamos decisiones no comprobando una o dos condiciones, sino múltiples condiciones. Al igual que la vida, la programación también está llena de condiciones. Usamos ```elif``` cuando tenemos múltiples condiciones.\n",
    "\n",
    "```\n",
    "# syntax\n",
    "if condition:\n",
    "    code\n",
    "elif condition:\n",
    "    code\n",
    "else:\n",
    "    code\n",
    "```"
   ]
  },
  {
   "cell_type": "code",
   "execution_count": 20,
   "metadata": {},
   "outputs": [
    {
     "name": "stdout",
     "output_type": "stream",
     "text": [
      "A is zero\n"
     ]
    }
   ],
   "source": [
    "a = 0\n",
    "if a > 0:\n",
    "    print('A is a positive number')\n",
    "elif a < 0:\n",
    "    print('A is a negative number')\n",
    "else:\n",
    "    print('A is zero')"
   ]
  },
  {
   "attachments": {},
   "cell_type": "markdown",
   "metadata": {},
   "source": [
    "### **Short Hand**"
   ]
  },
  {
   "attachments": {},
   "cell_type": "markdown",
   "metadata": {},
   "source": [
    "```\n",
    "# syntax\n",
    "code if condition else code\n",
    "```"
   ]
  },
  {
   "cell_type": "code",
   "execution_count": 21,
   "metadata": {},
   "outputs": [
    {
     "name": "stdout",
     "output_type": "stream",
     "text": [
      "A is positive\n"
     ]
    }
   ],
   "source": [
    "a = 3\n",
    "print('A is positive') if a > 0 else print('A is negative') # primera condición cumplida, se imprimirá 'A es positivo'"
   ]
  },
  {
   "attachments": {},
   "cell_type": "markdown",
   "metadata": {},
   "source": [
    "### **Nested Conditions**"
   ]
  },
  {
   "attachments": {},
   "cell_type": "markdown",
   "metadata": {},
   "source": [
    "Las condiciones se pueden anidar\n",
    "```\n",
    "# syntax\n",
    "if condition:\n",
    "    code\n",
    "    if condition:\n",
    "    code\n",
    "```"
   ]
  },
  {
   "cell_type": "code",
   "execution_count": 22,
   "metadata": {},
   "outputs": [
    {
     "name": "stdout",
     "output_type": "stream",
     "text": [
      "A es cero\n"
     ]
    }
   ],
   "source": [
    "a = 0\n",
    "if a > 0:\n",
    "    if a % 2 == 0:\n",
    "        print('A es un entero positivo y par')\n",
    "    else:\n",
    "        print('A es un numero positivo')\n",
    "elif a == 0:\n",
    "    print('A es cero')\n",
    "else:\n",
    "    print('A es un numero negativo')"
   ]
  },
  {
   "attachments": {},
   "cell_type": "markdown",
   "metadata": {},
   "source": [
    "Podemos evitar escribir condiciones anidadas usando el operador lógico ```and```."
   ]
  },
  {
   "attachments": {},
   "cell_type": "markdown",
   "metadata": {},
   "source": [
    "### **Condición If y operadores lógicos**"
   ]
  },
  {
   "attachments": {},
   "cell_type": "markdown",
   "metadata": {},
   "source": [
    "```\n",
    "# syntax\n",
    "if condition and condition:\n",
    "    code\n",
    "```"
   ]
  },
  {
   "cell_type": "code",
   "execution_count": 23,
   "metadata": {},
   "outputs": [
    {
     "name": "stdout",
     "output_type": "stream",
     "text": [
      "A es cero\n"
     ]
    }
   ],
   "source": [
    "a = 0\n",
    "if a > 0 and a % 2 == 0:\n",
    "        print('A es un entero par y positivo')\n",
    "elif a > 0 and a % 2 !=  0:\n",
    "     print('A es un entero positivo')\n",
    "elif a == 0:\n",
    "    print('A es cero')\n",
    "else:\n",
    "    print('A es negativo')"
   ]
  },
  {
   "attachments": {},
   "cell_type": "markdown",
   "metadata": {},
   "source": [
    "### **Operadores lógicos if y or**"
   ]
  },
  {
   "attachments": {},
   "cell_type": "markdown",
   "metadata": {},
   "source": [
    "```\n",
    "# syntax\n",
    "if condition or condition:\n",
    "    code\n",
    "```"
   ]
  },
  {
   "cell_type": "code",
   "execution_count": 24,
   "metadata": {},
   "outputs": [
    {
     "name": "stdout",
     "output_type": "stream",
     "text": [
      "¡Acceso denegado!\n"
     ]
    }
   ],
   "source": [
    "user = 'James'\n",
    "access_level = 3\n",
    "if user == 'admin' or access_level >= 4:\n",
    "        print('¡Acceso permitido!')\n",
    "else:\n",
    "    print('¡Acceso denegado!')"
   ]
  },
  {
   "attachments": {},
   "cell_type": "markdown",
   "metadata": {},
   "source": [
    "## **Loops**"
   ]
  },
  {
   "attachments": {},
   "cell_type": "markdown",
   "metadata": {},
   "source": [
    "La vida está llena de rutinas. En programación también hacemos muchas tareas repetitivas. Para manejar tareas repetitivas, los lenguajes de programación usan bucles. El lenguaje de programación Python también proporciona los siguientes tipos de dos bucles:\n",
    "\n",
    "* **while loop**\n",
    "* **for loop**"
   ]
  },
  {
   "attachments": {},
   "cell_type": "markdown",
   "metadata": {},
   "source": [
    "### **While Loop**"
   ]
  },
  {
   "attachments": {},
   "cell_type": "markdown",
   "metadata": {},
   "source": [
    "Usamos la palabra reservada ```while``` para hacer un bucle ```while```. Se utiliza para ejecutar un bloque de declaraciones repetidamente hasta que se cumpla una condición dada. Cuando la condición se vuelve falsa, las líneas de código después del ciclo continuarán ejecutándose.\n",
    "\n",
    "```\n",
    "  # syntax\n",
    "while condition:\n",
    "    code goes here\n",
    "```"
   ]
  },
  {
   "cell_type": "code",
   "execution_count": 25,
   "metadata": {},
   "outputs": [
    {
     "name": "stdout",
     "output_type": "stream",
     "text": [
      "0\n",
      "1\n",
      "2\n",
      "3\n",
      "4\n"
     ]
    }
   ],
   "source": [
    "count = 0\n",
    "while count < 5:\n",
    "    print(count)\n",
    "    count = count + 1\n",
    "# imprime de 0 a 4"
   ]
  },
  {
   "attachments": {},
   "cell_type": "markdown",
   "metadata": {},
   "source": [
    "En el ciclo ```while``` anterior, la condición se vuelve falsa cuando el conteo es 5. Ahí es cuando el ciclo se detiene. Si estamos interesados ​​en ejecutar un bloque de código una vez que la condición ya no sea cierta, podemos usar ```else```.\n",
    "\n",
    "```\n",
    "  # syntax\n",
    "while condition:\n",
    "    code goes here\n",
    "else:\n",
    "    code goes here\n",
    "```"
   ]
  },
  {
   "cell_type": "code",
   "execution_count": 26,
   "metadata": {},
   "outputs": [
    {
     "name": "stdout",
     "output_type": "stream",
     "text": [
      "0\n",
      "1\n",
      "2\n",
      "3\n",
      "4\n",
      "5\n"
     ]
    }
   ],
   "source": [
    "count = 0\n",
    "while count < 5:\n",
    "    print(count)\n",
    "    count = count + 1\n",
    "else:\n",
    "    print(count)"
   ]
  },
  {
   "attachments": {},
   "cell_type": "markdown",
   "metadata": {},
   "source": [
    "La condición del ciclo anterior será falsa cuando el conteo sea 5 y el ciclo se detenga y la ejecución inicie la instrucción ```else```. Como resultado se imprimirá 5."
   ]
  },
  {
   "attachments": {},
   "cell_type": "markdown",
   "metadata": {},
   "source": [
    "### **Break and Continue - Part 1**"
   ]
  },
  {
   "attachments": {},
   "cell_type": "markdown",
   "metadata": {},
   "source": [
    "* **Break:**\n",
    "\n",
    " Usamos ```break``` cuando queremos salir o detener el bucle.\n",
    "\n",
    "```\n",
    "# syntax\n",
    "while condition:\n",
    "    code goes here\n",
    "    if another_condition:\n",
    "        break\n",
    "```"
   ]
  },
  {
   "cell_type": "code",
   "execution_count": 27,
   "metadata": {},
   "outputs": [
    {
     "name": "stdout",
     "output_type": "stream",
     "text": [
      "0\n",
      "1\n",
      "2\n"
     ]
    }
   ],
   "source": [
    "count = 0\n",
    "while count < 5:\n",
    "    print(count)\n",
    "    count = count + 1\n",
    "    if count == 3:\n",
    "        break"
   ]
  },
  {
   "attachments": {},
   "cell_type": "markdown",
   "metadata": {},
   "source": [
    "El ciclo ```while``` anterior solo imprime 0, 1, 2, pero cuando llega a 3 se detiene."
   ]
  },
  {
   "attachments": {},
   "cell_type": "markdown",
   "metadata": {},
   "source": [
    "* **Continuar:**\n",
    "\n",
    "Con la instrucción continuar podemos omitir la iteración actual y continuar con la siguiente:\n",
    "\n",
    "```\n",
    "  # syntax\n",
    "while condition:\n",
    "    code goes here\n",
    "    if another_condition:\n",
    "        continue\n",
    "```"
   ]
  },
  {
   "cell_type": "code",
   "execution_count": 28,
   "metadata": {},
   "outputs": [
    {
     "name": "stdout",
     "output_type": "stream",
     "text": [
      "0\n",
      "1\n",
      "2\n",
      "4\n"
     ]
    }
   ],
   "source": [
    "count = 0\n",
    "while count < 5:\n",
    "    if count != 3:\n",
    "        print(count)\n",
    "    count += 1\n"
   ]
  },
  {
   "attachments": {},
   "cell_type": "markdown",
   "metadata": {},
   "source": [
    "El ciclo ```while``` anterior solo imprime 0, 1, 2 y 4 (se salta 3)."
   ]
  },
  {
   "attachments": {},
   "cell_type": "markdown",
   "metadata": {},
   "source": [
    "### **For Loop**"
   ]
  },
  {
   "attachments": {},
   "cell_type": "markdown",
   "metadata": {},
   "source": [
    "Una palabra clave ```for``` se usa para hacer un bucle ```for```, similar a otros lenguajes de programación, pero con algunas diferencias de sintaxis. Loop se usa para iterar sobre una secuencia (es decir, una lista, una tupla, un diccionario, un conjunto o una cadena)."
   ]
  },
  {
   "attachments": {},
   "cell_type": "markdown",
   "metadata": {},
   "source": [
    "* **For loop en una lista**"
   ]
  },
  {
   "attachments": {},
   "cell_type": "markdown",
   "metadata": {},
   "source": [
    "```\n",
    "# syntax\n",
    "for iterator in lst:\n",
    "    code goes here\n",
    "```"
   ]
  },
  {
   "cell_type": "code",
   "execution_count": 29,
   "metadata": {},
   "outputs": [
    {
     "name": "stdout",
     "output_type": "stream",
     "text": [
      "0\n",
      "1\n",
      "2\n",
      "3\n",
      "4\n",
      "5\n"
     ]
    }
   ],
   "source": [
    "numbers = [0, 1, 2, 3, 4, 5]\n",
    "for number in numbers: # el número es un nombre temporal para referirse a los elementos de la lista, válido solo dentro de este ciclo\n",
    "    print(number)       # los números se imprimirán línea por línea, del 0 al 5"
   ]
  },
  {
   "attachments": {},
   "cell_type": "markdown",
   "metadata": {},
   "source": [
    "* **For loop en un string**"
   ]
  },
  {
   "attachments": {},
   "cell_type": "markdown",
   "metadata": {},
   "source": [
    "```\n",
    "# syntax\n",
    "for iterator in string:\n",
    "    code goes here\n",
    "```"
   ]
  },
  {
   "cell_type": "code",
   "execution_count": 30,
   "metadata": {},
   "outputs": [
    {
     "name": "stdout",
     "output_type": "stream",
     "text": [
      "P\n",
      "y\n",
      "t\n",
      "h\n",
      "o\n",
      "n\n",
      "P\n",
      "y\n",
      "t\n",
      "h\n",
      "o\n",
      "n\n"
     ]
    }
   ],
   "source": [
    "language = 'Python'\n",
    "for letter in language:\n",
    "    print(letter)\n",
    "\n",
    "\n",
    "for i in range(len(language)):\n",
    "    print(language[i])"
   ]
  },
  {
   "attachments": {},
   "cell_type": "markdown",
   "metadata": {},
   "source": [
    "* **For loop en una tupla**"
   ]
  },
  {
   "attachments": {},
   "cell_type": "markdown",
   "metadata": {},
   "source": [
    "```\n",
    "# syntax\n",
    "for iterator in tpl:\n",
    "    code goes here\n",
    "```"
   ]
  },
  {
   "cell_type": "code",
   "execution_count": 31,
   "metadata": {},
   "outputs": [
    {
     "name": "stdout",
     "output_type": "stream",
     "text": [
      "0\n",
      "1\n",
      "2\n",
      "3\n",
      "4\n",
      "5\n"
     ]
    }
   ],
   "source": [
    "numbers = (0, 1, 2, 3, 4, 5)\n",
    "for number in numbers:\n",
    "    print(number)"
   ]
  },
  {
   "attachments": {},
   "cell_type": "markdown",
   "metadata": {},
   "source": [
    "* **Bucle for con diccionario**\n",
    "\n",
    " Hacer un bucle a través de un diccionario le da la clave del diccionario"
   ]
  },
  {
   "attachments": {},
   "cell_type": "markdown",
   "metadata": {},
   "source": [
    "```\n",
    "  # syntax\n",
    "for iterator in dct:\n",
    "    code goes here\n",
    "```"
   ]
  },
  {
   "cell_type": "code",
   "execution_count": 32,
   "metadata": {},
   "outputs": [
    {
     "name": "stdout",
     "output_type": "stream",
     "text": [
      "first_name\n",
      "last_name\n",
      "age\n",
      "country\n",
      "is_marred\n",
      "skills\n",
      "address\n",
      "first_name Asabeneh\n",
      "last_name Yetayeh\n",
      "age 250\n",
      "country Finland\n",
      "is_marred True\n",
      "skills ['JavaScript', 'React', 'Node', 'MongoDB', 'Python']\n",
      "address {'street': 'Space street', 'zipcode': '02210'}\n"
     ]
    }
   ],
   "source": [
    "person = {\n",
    "    'first_name':'Asabeneh',\n",
    "    'last_name':'Yetayeh',\n",
    "    'age':250,\n",
    "    'country':'Finland',\n",
    "    'is_marred':True,\n",
    "    'skills':['JavaScript', 'React', 'Node', 'MongoDB', 'Python'],\n",
    "    'address':{\n",
    "        'street':'Space street',\n",
    "        'zipcode':'02210'\n",
    "    }\n",
    "}\n",
    "for key in person:\n",
    "    print(key)\n",
    "\n",
    "for key, value in person.items():\n",
    "    print(key, value) # de esta manera obtenemos las claves y los valores impresos"
   ]
  },
  {
   "attachments": {},
   "cell_type": "markdown",
   "metadata": {},
   "source": [
    "***Bucles en conjunto (set)**"
   ]
  },
  {
   "attachments": {},
   "cell_type": "markdown",
   "metadata": {},
   "source": [
    "```\n",
    "# syntax\n",
    "for iterator in st:\n",
    "    code goes here\n",
    "```"
   ]
  },
  {
   "cell_type": "code",
   "execution_count": 33,
   "metadata": {},
   "outputs": [
    {
     "name": "stdout",
     "output_type": "stream",
     "text": [
      "Google\n",
      "Microsoft\n",
      "Amazon\n",
      "IBM\n",
      "Oracle\n",
      "Apple\n",
      "Facebook\n"
     ]
    }
   ],
   "source": [
    "it_companies = {'Facebook', 'Google', 'Microsoft', 'Apple', 'IBM', 'Oracle', 'Amazon'}\n",
    "for company in it_companies:\n",
    "    print(company)"
   ]
  },
  {
   "attachments": {},
   "cell_type": "markdown",
   "metadata": {},
   "source": [
    "### **Break and Continue - Part 2**"
   ]
  },
  {
   "attachments": {},
   "cell_type": "markdown",
   "metadata": {},
   "source": [
    "**Short reminder:**\n",
    "\n",
    " Usamos ```break``` cuando queremos detener nuestro ciclo antes de que se complete.\n",
    "\n",
    "```\n",
    "# syntax\n",
    "for iterator in sequence:\n",
    "    code goes here\n",
    "    if condition:\n",
    "        break\n",
    "```"
   ]
  },
  {
   "cell_type": "code",
   "execution_count": 34,
   "metadata": {},
   "outputs": [
    {
     "name": "stdout",
     "output_type": "stream",
     "text": [
      "0\n",
      "1\n",
      "2\n",
      "3\n"
     ]
    }
   ],
   "source": [
    "numbers = (0,1,2,3,4,5)\n",
    "for number in numbers:\n",
    "    print(number)\n",
    "    if number == 3:\n",
    "        break"
   ]
  },
  {
   "attachments": {},
   "cell_type": "markdown",
   "metadata": {},
   "source": [
    "En el ejemplo anterior, el bucle se detiene cuando llega a 3.\n",
    "\n",
    "* **Continue:**\n",
    "\n",
    " usamos ```continue``` cuando nos gusta saltarnos algunos de los pasos en la iteración del bucle.\n",
    "\n",
    "```\n",
    "  # syntax\n",
    "for iterator in sequence:\n",
    "    code goes here\n",
    "    if condition:\n",
    "        continue\n",
    "```"
   ]
  },
  {
   "cell_type": "code",
   "execution_count": 35,
   "metadata": {},
   "outputs": [
    {
     "name": "stdout",
     "output_type": "stream",
     "text": [
      "0\n",
      "Next number should be  1\n",
      "1\n",
      "Next number should be  2\n",
      "2\n",
      "Next number should be  3\n",
      "3\n",
      "4\n",
      "Next number should be  5\n",
      "5\n",
      "loop's end\n",
      "outside the loop\n"
     ]
    }
   ],
   "source": [
    "numbers = (0,1,2,3,4,5)\n",
    "for number in numbers:\n",
    "    print(number)\n",
    "    if number == 3:\n",
    "        continue\n",
    "    print('Next number should be ', number + 1) if number != 5 else print(\"loop's end\") # para las condiciones abreviadas se necesitan declaraciones if y else\n",
    "print('outside the loop')"
   ]
  },
  {
   "attachments": {},
   "cell_type": "markdown",
   "metadata": {},
   "source": [
    "En el ejemplo anterior, si el número es igual a 3, se omite el paso posterior a la condición (pero dentro del ciclo) y la ejecución del ciclo continúa si quedan iteraciones."
   ]
  },
  {
   "attachments": {},
   "cell_type": "markdown",
   "metadata": {},
   "source": [
    "#### **The Range Function**"
   ]
  },
  {
   "attachments": {},
   "cell_type": "markdown",
   "metadata": {},
   "source": [
    "La función ```range()``` se utiliza como lista de números. El rango ```(inicio, fin, paso)``` toma tres parámetros: inicio, fin e incremento. De forma predeterminada, comienza desde 0 y el incremento es 1. La secuencia de rango necesita al menos 1 argumento (fin). Creando secuencias usando rango"
   ]
  },
  {
   "cell_type": "code",
   "execution_count": 36,
   "metadata": {},
   "outputs": [
    {
     "name": "stdout",
     "output_type": "stream",
     "text": [
      "[0, 1, 2, 3, 4, 5, 6, 7, 8, 9, 10]\n",
      "{1, 2, 3, 4, 5, 6, 7, 8, 9, 10}\n",
      "[0, 2, 4, 6, 8, 10]\n",
      "{0, 2, 4, 6, 8, 10}\n"
     ]
    }
   ],
   "source": [
    "lst = list(range(11))\n",
    "print(lst) # [0, 1, 2, 3, 4, 5, 6, 7, 8, 9, 10]\n",
    "st = set(range(1, 11))    # 2 los argumentos indican el inicio y el final de la secuencia, el paso se establece en el valor predeterminado 1\n",
    "print(st) # {1, 2, 3, 4, 5, 6, 7, 8, 9, 10}\n",
    "\n",
    "lst = list(range(0,11,2))\n",
    "print(lst) # [0, 2, 4, 6, 8, 10]\n",
    "st = set(range(0,11,2))\n",
    "print(st) #  {0, 2, 4, 6, 8, 10}"
   ]
  },
  {
   "attachments": {},
   "cell_type": "markdown",
   "metadata": {},
   "source": [
    "```\n",
    "# syntax\n",
    "for iterator in range(start, end, step):\n",
    "```"
   ]
  },
  {
   "cell_type": "code",
   "execution_count": 37,
   "metadata": {},
   "outputs": [
    {
     "name": "stdout",
     "output_type": "stream",
     "text": [
      "0\n",
      "1\n",
      "2\n",
      "3\n",
      "4\n",
      "5\n",
      "6\n",
      "7\n",
      "8\n",
      "9\n",
      "10\n"
     ]
    }
   ],
   "source": [
    "for number in range(11):\n",
    "    print(number)   # prints 0 to 10, not including 11"
   ]
  },
  {
   "attachments": {},
   "cell_type": "markdown",
   "metadata": {},
   "source": [
    "#### **Bucle For anidado**"
   ]
  },
  {
   "attachments": {},
   "cell_type": "markdown",
   "metadata": {},
   "source": [
    "Podemos escribir bucles dentro de un bucle.\n",
    "\n",
    "```\n",
    "# syntax\n",
    "for x in y:\n",
    "    for t in x:\n",
    "        print(t)\n",
    "```"
   ]
  },
  {
   "cell_type": "code",
   "execution_count": 38,
   "metadata": {},
   "outputs": [
    {
     "name": "stdout",
     "output_type": "stream",
     "text": [
      "JavaScript\n",
      "React\n",
      "Node\n",
      "MongoDB\n",
      "Python\n"
     ]
    }
   ],
   "source": [
    "person = {\n",
    "    'first_name': 'Asabeneh',\n",
    "    'last_name': 'Yetayeh',\n",
    "    'age': 25,\n",
    "    'country': 'Finland',\n",
    "    'is_marred': True,\n",
    "    'skills': ['JavaScript', 'React', 'Node', 'MongoDB', 'Python'],\n",
    "    'address': {\n",
    "        'street': 'Space street',\n",
    "        'zipcode': '02210'\n",
    "    }\n",
    "}\n",
    "for key in person:\n",
    "    if key == 'skills':\n",
    "        for skill in person['skills']:\n",
    "            print(skill)"
   ]
  },
  {
   "attachments": {},
   "cell_type": "markdown",
   "metadata": {},
   "source": [
    "#### **For Else**"
   ]
  },
  {
   "attachments": {},
   "cell_type": "markdown",
   "metadata": {},
   "source": [
    "Si queremos ejecutar algún mensaje cuando finaliza el ciclo, usamos ```else```.\n",
    "\n",
    "```\n",
    "# syntax\n",
    "for iterator in range(start, end, step):\n",
    "    do something\n",
    "else:\n",
    "    print('The loop ended')\n",
    "```"
   ]
  },
  {
   "cell_type": "code",
   "execution_count": 39,
   "metadata": {},
   "outputs": [
    {
     "name": "stdout",
     "output_type": "stream",
     "text": [
      "0\n",
      "1\n",
      "2\n",
      "3\n",
      "4\n",
      "5\n",
      "6\n",
      "7\n",
      "8\n",
      "9\n",
      "10\n",
      "The loop stops at 10\n"
     ]
    }
   ],
   "source": [
    "for number in range(11):\n",
    "    print(number)   # imprime del 0 al 10, sin incluir el 11\n",
    "else:\n",
    "    print('The loop stops at', number)"
   ]
  },
  {
   "attachments": {},
   "cell_type": "markdown",
   "metadata": {},
   "source": [
    "#### **Pass**"
   ]
  },
  {
   "attachments": {},
   "cell_type": "markdown",
   "metadata": {},
   "source": [
    "En python, cuando se requiere una declaración (después del punto y coma), pero no nos gusta ejecutar ningún código allí, podemos escribir la palabra ```pass``` para evitar errores. También podemos usarlo como marcador de posición, para declaraciones futuras."
   ]
  },
  {
   "cell_type": "code",
   "execution_count": 40,
   "metadata": {},
   "outputs": [],
   "source": [
    "for number in range(6):\n",
    "    pass"
   ]
  },
  {
   "attachments": {},
   "cell_type": "markdown",
   "metadata": {},
   "source": [
    "| **Inicio** | **atrás 4** | **Siguiente 6** |\n",
    "|----------- |-------------- |---------------|\n",
    "| [🏠](../../README.md) | [⏪](./4.Operadores_de_decision.ipynb)| [⏩](./6.Estructuras_de_datos_Listas.ipynb)|"
   ]
  }
 ],
 "metadata": {
  "kernelspec": {
   "display_name": "base",
   "language": "python",
   "name": "python3"
  },
  "language_info": {
   "codemirror_mode": {
    "name": "ipython",
    "version": 3
   },
   "file_extension": ".py",
   "mimetype": "text/x-python",
   "name": "python",
   "nbconvert_exporter": "python",
   "pygments_lexer": "ipython3",
   "version": "3.9.12"
  },
  "orig_nbformat": 4
 },
 "nbformat": 4,
 "nbformat_minor": 2
}
