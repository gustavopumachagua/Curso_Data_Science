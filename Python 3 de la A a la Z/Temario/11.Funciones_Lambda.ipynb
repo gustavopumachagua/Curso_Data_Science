{
 "cells": [
  {
   "attachments": {},
   "cell_type": "markdown",
   "metadata": {},
   "source": [
    "| **Inicio** | **atrás 10** | **Siguiente 12** |\n",
    "|----------- |-------------- |---------------|\n",
    "| [🏠](../../README.md) | [⏪](./10.Funciones_en_Python.ipynb)| [⏩](./12.DataFrames_con_Pandas.ipynb)|"
   ]
  },
  {
   "attachments": {},
   "cell_type": "markdown",
   "metadata": {},
   "source": [
    "# **11.Funciones Lambda**"
   ]
  },
  {
   "attachments": {},
   "cell_type": "markdown",
   "metadata": {},
   "source": [
    "## **Funciones Lambda**"
   ]
  },
  {
   "attachments": {},
   "cell_type": "markdown",
   "metadata": {},
   "source": [
    "Las funciones lambda en Python son funciones anónimas que se pueden definir en una sola línea de código. A diferencia de las funciones regulares, las funciones lambda no tienen un nombre y se utilizan comúnmente para operaciones simples y rápidas en lugar de funciones complejas y extensas.\n",
    "\n",
    "La sintaxis de una función lambda en Python es la siguiente:"
   ]
  },
  {
   "attachments": {},
   "cell_type": "markdown",
   "metadata": {},
   "source": [
    "`lambda argumentos: expresión`"
   ]
  },
  {
   "attachments": {},
   "cell_type": "markdown",
   "metadata": {},
   "source": [
    "Donde `\"argumentos\"` son los argumentos de la función separados por comas y `\"expresión\"` es el valor que devuelve la función.\n",
    "\n",
    "Aquí hay un ejemplo de una función lambda que toma dos argumentos y devuelve su suma:"
   ]
  },
  {
   "cell_type": "code",
   "execution_count": 1,
   "metadata": {},
   "outputs": [
    {
     "name": "stdout",
     "output_type": "stream",
     "text": [
      "5\n"
     ]
    }
   ],
   "source": [
    "suma = lambda x, y: x + y\n",
    "resultado = suma(2, 3)\n",
    "print(resultado) # salida: 5\n"
   ]
  },
  {
   "attachments": {},
   "cell_type": "markdown",
   "metadata": {},
   "source": [
    "En este ejemplo, hemos definido una función lambda llamada `\"suma\"` que toma dos argumentos `\"x\"` e `\"y\"` y devuelve su suma. Luego, hemos llamado a la función lambda con los argumentos 2 y 3 y hemos asignado el resultado a la variable `\"resultado\"`. Finalmente, hemos impreso el resultado en la consola, que es 5.\n",
    "\n",
    "Las funciones lambda también se pueden utilizar como argumentos en otras funciones, como se muestra en el siguiente ejemplo:"
   ]
  },
  {
   "cell_type": "code",
   "execution_count": 2,
   "metadata": {},
   "outputs": [
    {
     "name": "stdout",
     "output_type": "stream",
     "text": [
      "[2, 4]\n"
     ]
    }
   ],
   "source": [
    "lista = [1, 2, 3, 4, 5]\n",
    "filtrado = list(filter(lambda x: x % 2 == 0, lista))\n",
    "print(filtrado) # salida: [2, 4]\n"
   ]
  },
  {
   "attachments": {},
   "cell_type": "markdown",
   "metadata": {},
   "source": [
    "En este ejemplo, hemos utilizado la función `\"filter\"` de Python para filtrar los elementos pares de una lista. Hemos pasado una función lambda como primer argumento de `\"filter\"` que toma un argumento `\"x\"` y devuelve `\"True\"` si `\"x\"` es par y `\"False\"` en caso contrario. Luego, hemos convertido el resultado en una lista y lo hemos impreso en la consola, que es `[2, 4]`.\n",
    "\n",
    "En resumen, las funciones lambda en Python son funciones anónimas que se pueden definir en una sola línea de código. Se utilizan comúnmente para operaciones simples y rápidas y se pueden utilizar como argumentos en otras funciones."
   ]
  },
  {
   "attachments": {},
   "cell_type": "markdown",
   "metadata": {},
   "source": [
    "## **Filter**"
   ]
  },
  {
   "attachments": {},
   "cell_type": "markdown",
   "metadata": {},
   "source": [
    "`filter()` es una función integrada de Python que permite filtrar elementos de una lista o cualquier iterable que cumpla con cierta condición. Esta función toma dos argumentos: una función y una lista o iterable.\n",
    "\n",
    "La sintaxis básica de la función `filter()` es la siguiente:"
   ]
  },
  {
   "attachments": {},
   "cell_type": "markdown",
   "metadata": {},
   "source": [
    "`filter(función, iterable)`\n"
   ]
  },
  {
   "attachments": {},
   "cell_type": "markdown",
   "metadata": {},
   "source": [
    "Donde `\"función\"` es la función que se aplicará a cada elemento del `\"iterable\"` y `\"iterable\"` es la secuencia a filtrar.\n",
    "\n",
    "La función `\"función\"` debe ser una función que tome un solo argumento y devuelva `True` o `False`. Esta función se aplicará a cada elemento de la secuencia y solo se conservarán los elementos para los que la función devuelve `True`.\n",
    "\n",
    "Aquí hay un ejemplo simple para ilustrar cómo funciona `filter()`:"
   ]
  },
  {
   "cell_type": "code",
   "execution_count": 3,
   "metadata": {},
   "outputs": [
    {
     "name": "stdout",
     "output_type": "stream",
     "text": [
      "[2, 4, 6, 8, 10]\n"
     ]
    }
   ],
   "source": [
    "# Definir una lista\n",
    "numeros = [1, 2, 3, 4, 5, 6, 7, 8, 9, 10]\n",
    "\n",
    "# Usar filter() para filtrar números pares\n",
    "numeros_pares = list(filter(lambda x: x % 2 == 0, numeros))\n",
    "\n",
    "print(numeros_pares)\n"
   ]
  },
  {
   "attachments": {},
   "cell_type": "markdown",
   "metadata": {},
   "source": [
    "En este ejemplo, primero definimos una lista llamada `\"numeros\"`. Luego, utilizamos `filter()` para filtrar solo los números pares de la lista `\"numeros\"`. Para hacer esto, pasamos una función lambda como primer argumento de `filter()` que toma un argumento `\"x\"` y devuelve `\"True\"` si `\"x\"` es par y `\"False\"` en caso contrario.\n",
    "\n",
    "El resultado de `filter()` es un objeto de tipo `\"filter\"`, por lo que lo convertimos a una lista utilizando `list()` para obtener una lista de los números pares. Finalmente, imprimimos los números pares en la consola.\n",
    "\n",
    "El resultado impreso será:\n",
    "`[2, 4, 6, 8, 10]`"
   ]
  },
  {
   "attachments": {},
   "cell_type": "markdown",
   "metadata": {},
   "source": [
    "Este es solo un ejemplo simple de cómo se puede usar `filter()` en Python. La función `filter()` es muy útil para filtrar datos en listas y otros tipos de iterables según ciertas condiciones y es una herramienta poderosa en el kit de herramientas de cualquier programador Python."
   ]
  },
  {
   "attachments": {},
   "cell_type": "markdown",
   "metadata": {},
   "source": [
    "## **Reduce**"
   ]
  },
  {
   "attachments": {},
   "cell_type": "markdown",
   "metadata": {},
   "source": [
    "`reduce()` es una función integrada de Python que permite reducir una lista a un solo valor aplicando una función a los elementos de la lista de manera acumulativa. Esta función toma dos argumentos: una función y una lista o iterable.\n",
    "\n",
    "La sintaxis básica de la función `reduce()` es la siguiente:"
   ]
  },
  {
   "attachments": {},
   "cell_type": "markdown",
   "metadata": {},
   "source": [
    "`reduce(función, iterable)`"
   ]
  },
  {
   "attachments": {},
   "cell_type": "markdown",
   "metadata": {},
   "source": [
    "Donde `\"función\"` es la función que se aplicará a cada elemento del `\"iterable\"` y `\"iterable\"` es la secuencia a reducir.\n",
    "\n",
    "La función `\"función\"` debe ser una función que tome dos argumentos y devuelva un solo valor. Esta función se aplicará a los primeros dos elementos de la secuencia, luego se aplicará nuevamente a ese resultado y el tercer elemento de la secuencia, y así sucesivamente hasta que se haya aplicado a todos los elementos de la secuencia.\n",
    "\n",
    "Aquí hay un ejemplo simple para ilustrar cómo funciona `reduce()`:"
   ]
  },
  {
   "cell_type": "code",
   "execution_count": 4,
   "metadata": {},
   "outputs": [
    {
     "name": "stdout",
     "output_type": "stream",
     "text": [
      "15\n"
     ]
    }
   ],
   "source": [
    "# Importar la función reduce\n",
    "from functools import reduce\n",
    "\n",
    "# Definir una lista\n",
    "numeros = [1, 2, 3, 4, 5]\n",
    "\n",
    "# Usar reduce() para calcular la suma de los números en la lista\n",
    "suma = reduce(lambda x, y: x + y, numeros)\n",
    "\n",
    "print(suma)\n"
   ]
  },
  {
   "attachments": {},
   "cell_type": "markdown",
   "metadata": {},
   "source": [
    "En este ejemplo, primero importamos la función `reduce()` de la biblioteca `\"functools\"`. Luego, definimos una lista llamada `\"numeros\"`. Finalmente, utilizamos `reduce()` para calcular la suma de los números en la lista `\"numeros\"`. Para hacer esto, pasamos una función lambda como primer argumento de `reduce()` que toma dos argumentos `\"x\"` e `\"y\"` y devuelve la suma de estos dos valores.\n",
    "\n",
    "El resultado de `reduce()` es el valor acumulado de la función lambda aplicada a todos los elementos de la lista. En este caso, el resultado impreso será:\n",
    "\n",
    "`15`"
   ]
  },
  {
   "attachments": {},
   "cell_type": "markdown",
   "metadata": {},
   "source": [
    "que es la suma de los números en la lista `\"numeros\"`.\n",
    "\n",
    "Este es solo un ejemplo simple de cómo se puede usar `reduce()` en Python. La función `reduce()` es muy útil para realizar operaciones acumulativas en listas y otros tipos de iterables y es una herramienta poderosa en el kit de herramientas de cualquier programador Python."
   ]
  },
  {
   "attachments": {},
   "cell_type": "markdown",
   "metadata": {},
   "source": [
    "## **Map**"
   ]
  },
  {
   "attachments": {},
   "cell_type": "markdown",
   "metadata": {},
   "source": [
    "`map()` es una función integrada de Python que toma una función y una o más secuencias como argumentos, y devuelve un objeto `map` que aplica la función a cada elemento de la secuencia. La función `map()` devuelve una lista de los resultados de aplicar la función a cada elemento en la secuencia.\n",
    "\n",
    "La sintaxis básica de la función `map()` es la siguiente:"
   ]
  },
  {
   "attachments": {},
   "cell_type": "markdown",
   "metadata": {},
   "source": [
    "`map(función, iterable)`"
   ]
  },
  {
   "attachments": {},
   "cell_type": "markdown",
   "metadata": {},
   "source": [
    "Donde `\"función\"` es la función que se aplicará a cada elemento del `\"iterable\"` y `\"iterable\"` es la secuencia a mapear.\n",
    "\n",
    "La función `\"función\"` debe ser una función que tome uno o más argumentos y devuelva un solo valor. Esta función se aplicará a cada elemento del iterable y el resultado se agregará a una lista.\n",
    "\n",
    "Aquí hay un ejemplo simple para ilustrar cómo funciona `map()`:"
   ]
  },
  {
   "cell_type": "code",
   "execution_count": 5,
   "metadata": {},
   "outputs": [
    {
     "name": "stdout",
     "output_type": "stream",
     "text": [
      "[1, 4, 9, 16, 25]\n"
     ]
    }
   ],
   "source": [
    "# Definir una función que tome un número y lo eleve al cuadrado\n",
    "def cuadrado(x):\n",
    "    return x ** 2\n",
    "\n",
    "# Definir una lista de números\n",
    "numeros = [1, 2, 3, 4, 5]\n",
    "\n",
    "# Usar map() para aplicar la función cuadrado a cada número en la lista\n",
    "cuadrados = map(cuadrado, numeros)\n",
    "\n",
    "# Convertir el objeto map a una lista\n",
    "cuadrados = list(cuadrados)\n",
    "\n",
    "print(cuadrados)\n"
   ]
  },
  {
   "attachments": {},
   "cell_type": "markdown",
   "metadata": {},
   "source": [
    "En este ejemplo, primero definimos una función llamada `\"cuadrado\"` que toma un número y lo eleva al cuadrado. Luego, definimos una lista llamada `\"numeros\"`. Finalmente, utilizamos `map()` para aplicar la función `\"cuadrado\"` a cada número en la lista `\"numeros\"`.\n",
    "\n",
    "El resultado de `map()` es un objeto `map`, por lo que para imprimir los valores calculados, debemos convertir este objeto `map` en una lista. En este caso, el resultado impreso será:\n",
    "\n",
    "`[1, 4, 9, 16, 25]`"
   ]
  },
  {
   "attachments": {},
   "cell_type": "markdown",
   "metadata": {},
   "source": [
    "que es una lista de los números en la lista `\"numeros\"` elevados al cuadrado.\n",
    "\n",
    "Este es solo un ejemplo simple de cómo se puede usar `map()` en Python. La función `map()` es muy útil para aplicar una función a cada elemento en una lista u otra secuencia y es una herramienta poderosa en el kit de herramientas de cualquier programador Python."
   ]
  },
  {
   "attachments": {},
   "cell_type": "markdown",
   "metadata": {},
   "source": [
    "## **Sorted**"
   ]
  },
  {
   "attachments": {},
   "cell_type": "markdown",
   "metadata": {},
   "source": [
    "`sorted()` es una función integrada de Python que toma una secuencia iterable como entrada y devuelve una nueva lista ordenada. La secuencia original no se modifica.\n",
    "\n",
    "La sintaxis básica de la función `sorted()` es la siguiente:"
   ]
  },
  {
   "attachments": {},
   "cell_type": "markdown",
   "metadata": {},
   "source": [
    "`sorted(iterable, key=None, reverse=False)`"
   ]
  },
  {
   "attachments": {},
   "cell_type": "markdown",
   "metadata": {},
   "source": [
    "Donde `\"iterable\"` es la secuencia a ordenar, `\"key\"` es una función opcional que se utiliza para determinar el orden de clasificación y `\"reverse\"` es una bandera booleana opcional que indica si se debe ordenar la secuencia en orden inverso.\n",
    "\n",
    "Veamos un ejemplo simple:"
   ]
  },
  {
   "cell_type": "code",
   "execution_count": 6,
   "metadata": {},
   "outputs": [
    {
     "name": "stdout",
     "output_type": "stream",
     "text": [
      "[1, 2, 3, 5, 8, 9]\n"
     ]
    }
   ],
   "source": [
    "# Crear una lista de números desordenados\n",
    "numeros = [5, 2, 8, 1, 9, 3]\n",
    "\n",
    "# Ordenar la lista utilizando sorted()\n",
    "numeros_ordenados = sorted(numeros)\n",
    "\n",
    "print(numeros_ordenados)\n"
   ]
  },
  {
   "attachments": {},
   "cell_type": "markdown",
   "metadata": {},
   "source": [
    "En este ejemplo, primero creamos una lista llamada `\"numeros\"` que no está ordenada. Luego, utilizamos la función `sorted()` para ordenar la lista `\"numeros\"`. Finalmente, imprimimos la lista `\"numeros_ordenados\"`.\n",
    "\n",
    "El resultado impreso será:\n",
    "\n",
    "`[1, 2, 3, 5, 8, 9]`"
   ]
  },
  {
   "attachments": {},
   "cell_type": "markdown",
   "metadata": {},
   "source": [
    "que es una lista ordenada de los números en la lista `\"numeros\"`.\n",
    "\n",
    "También podemos utilizar la opción `\"reverse\"` para ordenar la lista en orden inverso:"
   ]
  },
  {
   "cell_type": "code",
   "execution_count": 7,
   "metadata": {},
   "outputs": [
    {
     "name": "stdout",
     "output_type": "stream",
     "text": [
      "[9, 8, 5, 3, 2, 1]\n"
     ]
    }
   ],
   "source": [
    "# Crear una lista de números desordenados\n",
    "numeros = [5, 2, 8, 1, 9, 3]\n",
    "\n",
    "# Ordenar la lista en orden inverso utilizando sorted()\n",
    "numeros_ordenados_inverso = sorted(numeros, reverse=True)\n",
    "\n",
    "print(numeros_ordenados_inverso)\n"
   ]
  },
  {
   "attachments": {},
   "cell_type": "markdown",
   "metadata": {},
   "source": [
    "que es la lista `\"numeros\"` ordenada en orden inverso.\n",
    "\n",
    "Podemos usar la opción `\"key\"` para especificar una función que determina el orden de clasificación. Por ejemplo, si queremos ordenar una lista de cadenas por su longitud, podemos hacerlo de la siguiente manera:"
   ]
  },
  {
   "cell_type": "code",
   "execution_count": 8,
   "metadata": {},
   "outputs": [
    {
     "name": "stdout",
     "output_type": "stream",
     "text": [
      "['es', 'un', 'de', 'Python', 'lenguaje', 'programación']\n"
     ]
    }
   ],
   "source": [
    "# Crear una lista de cadenas desordenadas\n",
    "palabras = [\"Python\", \"es\", \"un\", \"lenguaje\", \"de\", \"programación\"]\n",
    "\n",
    "# Ordenar la lista por la longitud de las palabras\n",
    "palabras_ordenadas = sorted(palabras, key=len)\n",
    "\n",
    "print(palabras_ordenadas)\n"
   ]
  },
  {
   "attachments": {},
   "cell_type": "markdown",
   "metadata": {},
   "source": [
    "En este ejemplo, utilizamos la función `len()` como la función `\"key\"` para determinar el orden de clasificación. La lista `\"palabras\"` se ordena por la longitud de las palabras en orden creciente. El resultado impreso será:\n",
    "\n",
    "`['es', 'un', 'de', 'Python', 'programación', 'lenguaje']`"
   ]
  },
  {
   "attachments": {},
   "cell_type": "markdown",
   "metadata": {},
   "source": [
    "que es la lista `\"palabras\"` ordenada por la longitud de las palabras.\n",
    "\n",
    "En resumen, la función `sorted()` es una herramienta útil para ordenar una secuencia iterable en Python. Con sus opciones `\"key\"` y `\"reverse\"`, podemos personalizar el orden de clasificación de acuerdo con nuestras necesidades."
   ]
  },
  {
   "attachments": {},
   "cell_type": "markdown",
   "metadata": {},
   "source": [
    "## **Una introducción a la generación de números aleatorios**"
   ]
  },
  {
   "attachments": {},
   "cell_type": "markdown",
   "metadata": {},
   "source": [
    "La generación de números aleatorios es una técnica ampliamente utilizada en la programación para simular situaciones que involucran incertidumbre o aleatoriedad. En Python, la biblioteca estándar incluye el módulo `random`, que proporciona una amplia variedad de funciones para generar números aleatorios.\n",
    "\n",
    "La forma más básica de generar un número aleatorio en Python es utilizando la función `random()` del módulo `random`. Esta función devuelve un número aleatorio en el rango `[0, 1)`.\n",
    "\n",
    "**Ejemplo:**"
   ]
  },
  {
   "cell_type": "code",
   "execution_count": 9,
   "metadata": {},
   "outputs": [
    {
     "name": "stdout",
     "output_type": "stream",
     "text": [
      "0.8263321384778153\n"
     ]
    }
   ],
   "source": [
    "import random\n",
    "\n",
    "x = random.random()\n",
    "print(x)\n"
   ]
  },
  {
   "attachments": {},
   "cell_type": "markdown",
   "metadata": {},
   "source": [
    "Este código generará un número aleatorio `x` y lo imprimirá en la consola. Cada vez que ejecutemos el código, obtendremos un número diferente.\n",
    "\n",
    "También podemos generar números aleatorios en un rango específico utilizando la función `randint(a, b)`, que devuelve un número entero aleatorio en el rango `[a, b]`.\n",
    "\n",
    "**Ejemplo:**"
   ]
  },
  {
   "cell_type": "code",
   "execution_count": 10,
   "metadata": {},
   "outputs": [
    {
     "name": "stdout",
     "output_type": "stream",
     "text": [
      "4\n"
     ]
    }
   ],
   "source": [
    "import random\n",
    "\n",
    "x = random.randint(1, 10)\n",
    "print(x)\n"
   ]
  },
  {
   "attachments": {},
   "cell_type": "markdown",
   "metadata": {},
   "source": [
    "Este código generará un número aleatorio `x` en el rango de 1 a 10 (incluyendo 1 y 10) y lo imprimirá en la consola.\n",
    "\n",
    "Además, el módulo `random` proporciona muchas otras funciones para generar números aleatorios, como `randrange()`, `uniform()`, `triangular()`, `betavariate()`, `gammavariate()`, `expovariate()`, `lognormvariate()`, entre otras.\n",
    "\n",
    "Es importante tener en cuenta que los números generados por `random` no son realmente aleatorios, sino que son pseudoaleatorios, lo que significa que son generados por un algoritmo determinista que utiliza una semilla inicial. Si la semilla inicial es la misma, el mismo conjunto de números pseudoaleatorios se generará en cada ejecución del programa. Por lo tanto, es importante utilizar una semilla diferente en cada ejecución del programa si queremos resultados diferentes. Podemos establecer la semilla utilizando la función `seed()` del módulo `random`.\n",
    "\n",
    "**Ejemplo:**"
   ]
  },
  {
   "cell_type": "code",
   "execution_count": 11,
   "metadata": {},
   "outputs": [
    {
     "name": "stdout",
     "output_type": "stream",
     "text": [
      "0.41661987254534116\n"
     ]
    }
   ],
   "source": [
    "import random\n",
    "\n",
    "random.seed(12345)\n",
    "x = random.random()\n",
    "print(x)\n"
   ]
  },
  {
   "attachments": {},
   "cell_type": "markdown",
   "metadata": {},
   "source": [
    "Este código establecerá la semilla en `12345` y generará un número aleatorio utilizando esa semilla. Si ejecutamos este código varias veces, obtendremos el mismo número aleatorio cada vez.\n",
    "\n",
    "En resumen, Python proporciona una variedad de funciones para generar números aleatorios, lo que permite simular situaciones que involucran incertidumbre o aleatoriedad. Es importante tener en cuenta que los números generados son pseudoaleatorios y pueden ser repetidos si se utiliza la misma semilla."
   ]
  },
  {
   "attachments": {},
   "cell_type": "markdown",
   "metadata": {},
   "source": [
    "| **Inicio** | **atrás 10** | **Siguiente 12** |\n",
    "|----------- |-------------- |---------------|\n",
    "| [🏠](../../README.md) | [⏪](./10.Funciones_en_Python.ipynb)| [⏩](./12.DataFrames_con_Pandas.ipynb)|"
   ]
  }
 ],
 "metadata": {
  "kernelspec": {
   "display_name": "base",
   "language": "python",
   "name": "python3"
  },
  "language_info": {
   "codemirror_mode": {
    "name": "ipython",
    "version": 3
   },
   "file_extension": ".py",
   "mimetype": "text/x-python",
   "name": "python",
   "nbconvert_exporter": "python",
   "pygments_lexer": "ipython3",
   "version": "3.9.12"
  },
  "orig_nbformat": 4
 },
 "nbformat": 4,
 "nbformat_minor": 2
}
