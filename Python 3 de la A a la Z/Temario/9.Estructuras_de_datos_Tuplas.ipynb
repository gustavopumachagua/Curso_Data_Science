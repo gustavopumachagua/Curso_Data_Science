{
 "cells": [
  {
   "attachments": {},
   "cell_type": "markdown",
   "metadata": {},
   "source": [
    "| **Inicio** | **atrás 8** | **Siguiente 10** |\n",
    "|----------- |-------------- |---------------|\n",
    "| [🏠](../../README.md) | [⏪](./8.Estructuras_de_datos_Conjuntos.ipynb)| [⏩](./10.Funciones_en_Python.ipynb)|"
   ]
  },
  {
   "attachments": {},
   "cell_type": "markdown",
   "metadata": {},
   "source": [
    "# **9. Estructuras de datos: Tuplas**"
   ]
  },
  {
   "attachments": {},
   "cell_type": "markdown",
   "metadata": {},
   "source": [
    "## **Introducción a tuplas**"
   ]
  },
  {
   "attachments": {},
   "cell_type": "markdown",
   "metadata": {},
   "source": [
    "En Python, una tupla es una estructura de datos inmutable que permite almacenar un conjunto ordenado de elementos. A diferencia de las listas, las tuplas no pueden ser modificadas una vez que se han creado, lo que las hace adecuadas para almacenar datos que no deben ser alterados, como coordenadas geográficas, valores constantes o resultados de cálculos complejos.\n",
    "\n",
    "Para crear una tupla en Python, se utilizan paréntesis `()` y se separan los elementos con comas. Por ejemplo:"
   ]
  },
  {
   "cell_type": "code",
   "execution_count": 1,
   "metadata": {},
   "outputs": [],
   "source": [
    "mi_tupla = (1, 2, 3, 4)"
   ]
  },
  {
   "attachments": {},
   "cell_type": "markdown",
   "metadata": {},
   "source": [
    "También se pueden crear tuplas utilizando la función `tuple()`, pasando como argumento un objeto iterable:"
   ]
  },
  {
   "cell_type": "code",
   "execution_count": 2,
   "metadata": {},
   "outputs": [],
   "source": [
    "otra_tupla = tuple([5, 6, 7, 8])"
   ]
  },
  {
   "attachments": {},
   "cell_type": "markdown",
   "metadata": {},
   "source": [
    "Las tuplas pueden contener diferentes tipos de datos, como números, cadenas de texto, booleanos, entre otros:"
   ]
  },
  {
   "cell_type": "code",
   "execution_count": 3,
   "metadata": {},
   "outputs": [],
   "source": [
    "tupla_mixta = (1, \"Hola\", True)"
   ]
  },
  {
   "attachments": {},
   "cell_type": "markdown",
   "metadata": {},
   "source": [
    "Una vez que se ha creado una tupla, sus elementos se pueden acceder utilizando un índice numérico. Por ejemplo, para acceder al segundo elemento de la tupla `mi_tupla`, se utiliza el índice `1` (los índices en Python comienzan en `0`):"
   ]
  },
  {
   "cell_type": "code",
   "execution_count": 4,
   "metadata": {},
   "outputs": [],
   "source": [
    "segundo_elemento = mi_tupla[1]"
   ]
  },
  {
   "attachments": {},
   "cell_type": "markdown",
   "metadata": {},
   "source": [
    "También es posible acceder a un rango de elementos de una tupla utilizando la sintaxis de rebanado `(slice en inglés)`:"
   ]
  },
  {
   "cell_type": "code",
   "execution_count": 5,
   "metadata": {},
   "outputs": [],
   "source": [
    "subtupla = mi_tupla[1:3]"
   ]
  },
  {
   "attachments": {},
   "cell_type": "markdown",
   "metadata": {},
   "source": [
    "Este ejemplo devuelve una tupla que contiene los elementos en los índices `1` y `2` de `mi_tupla`.\n",
    "\n",
    "Las tuplas también admiten algunas operaciones útiles, como la concatenación `(unión de dos tuplas)`:"
   ]
  },
  {
   "cell_type": "code",
   "execution_count": 7,
   "metadata": {},
   "outputs": [
    {
     "name": "stdout",
     "output_type": "stream",
     "text": [
      "(1, 2, 3, 4, 5, 6)\n"
     ]
    }
   ],
   "source": [
    "tupla_1 = (1, 2, 3)\n",
    "tupla_2 = (4, 5, 6)\n",
    "tupla_concatenada = tupla_1 + tupla_2\n",
    "print(tupla_concatenada)"
   ]
  },
  {
   "attachments": {},
   "cell_type": "markdown",
   "metadata": {},
   "source": [
    "Este ejemplo crea una nueva tupla que contiene todos los elementos de `tupla_1` seguidos de todos los elementos de `tupla_2`.\n",
    "\n",
    "Por último, las tuplas se pueden desempaquetar, lo que significa que se pueden asignar cada uno de los elementos de la tupla a una variable diferente en una sola línea de código:"
   ]
  },
  {
   "cell_type": "code",
   "execution_count": 8,
   "metadata": {},
   "outputs": [
    {
     "name": "stdout",
     "output_type": "stream",
     "text": [
      "(10.0, 20.0)\n"
     ]
    }
   ],
   "source": [
    "coordenadas = (10.0, 20.0)\n",
    "x, y = coordenadas\n",
    "print(coordenadas)"
   ]
  },
  {
   "attachments": {},
   "cell_type": "markdown",
   "metadata": {},
   "source": [
    "En este ejemplo, se crea una tupla llamada `coordenadas` que contiene dos elementos. Luego, se desempaqueta la tupla y se asigna el primer elemento a la variable `x` y el segundo elemento a la variable `y`. Ahora, `x` contiene `10.0` y `y` contiene `20.0`.\n",
    "\n",
    "En resumen, las tuplas en Python son estructuras de datos inmutables que permiten almacenar un conjunto ordenado de elementos. Se crean utilizando paréntesis y se separan los elementos con comas. Los elementos de una tupla se pueden acceder utilizando un índice numérico, y las tuplas admiten algunas operaciones útiles como la concatenación y el desempaquetado."
   ]
  },
  {
   "attachments": {},
   "cell_type": "markdown",
   "metadata": {},
   "source": [
    "## **Elementos de una tupla**"
   ]
  },
  {
   "attachments": {},
   "cell_type": "markdown",
   "metadata": {},
   "source": [
    "Los elementos de una tupla en Python pueden ser cualquier tipo de datos, como números, cadenas de texto, booleanos, listas, tuplas, entre otros. La tupla en sí misma es una estructura de datos inmutable, lo que significa que una vez que se crea, no se puede modificar su contenido. Por lo tanto, los elementos de una tupla no pueden ser agregados, eliminados o modificados después de su creación.\n",
    "\n",
    "Veamos algunos ejemplos de tuplas con diferentes tipos de datos como elementos:"
   ]
  },
  {
   "cell_type": "code",
   "execution_count": 9,
   "metadata": {},
   "outputs": [
    {
     "name": "stdout",
     "output_type": "stream",
     "text": [
      "(1, 2, 3, 4, 5)\n",
      "('a', 'b', 'c', 'd', 'e')\n",
      "(True, False, False, True)\n",
      "('hola', 3.1416, True, [1, 2, 3], ('a', 'b', 'c'))\n"
     ]
    }
   ],
   "source": [
    "tupla_numeros = (1, 2, 3, 4, 5)\n",
    "print(tupla_numeros)\n",
    "\n",
    "tupla_letras = ('a', 'b', 'c', 'd', 'e')\n",
    "print(tupla_letras)\n",
    "\n",
    "tupla_booleanos = (True, False, False, True)\n",
    "print(tupla_booleanos)\n",
    "\n",
    "tupla_mezclada = ('hola', 3.1416, True, [1,2,3], ('a', 'b', 'c'))\n",
    "print(tupla_mezclada)"
   ]
  },
  {
   "attachments": {},
   "cell_type": "markdown",
   "metadata": {},
   "source": [
    "En estos ejemplos, `tupla_numeros` es una tupla que contiene cinco números enteros, `tupla_letras` es una tupla que contiene cinco cadenas de texto, `tupla_booleanos` es una tupla que contiene cuatro valores booleanos y `tupla_mezclada` es una tupla que contiene una mezcla de diferentes tipos de datos, incluyendo una lista y otra tupla.\n",
    "\n",
    "También es posible crear tuplas anidadas, es decir, tuplas que contienen otras tuplas como elementos. Por ejemplo:"
   ]
  },
  {
   "cell_type": "code",
   "execution_count": 10,
   "metadata": {},
   "outputs": [
    {
     "name": "stdout",
     "output_type": "stream",
     "text": [
      "((1, 2, 3), ('a', 'b', 'c'), (True, False, True))\n"
     ]
    }
   ],
   "source": [
    "tupla_anidada = ((1,2,3), ('a','b','c'), (True, False, True))\n",
    "print(tupla_anidada)"
   ]
  },
  {
   "attachments": {},
   "cell_type": "markdown",
   "metadata": {},
   "source": [
    "En este ejemplo, `tupla_anidada` es una tupla que contiene tres tuplas, cada una con tres elementos. Podemos acceder a los elementos de la tupla anidada utilizando índices múltiples, como en el siguiente ejemplo:"
   ]
  },
  {
   "cell_type": "code",
   "execution_count": 11,
   "metadata": {},
   "outputs": [
    {
     "name": "stdout",
     "output_type": "stream",
     "text": [
      "1\n"
     ]
    }
   ],
   "source": [
    "primer_elemento_tupla_anidada = tupla_anidada[0][0]\n",
    "print(primer_elemento_tupla_anidada)"
   ]
  },
  {
   "attachments": {},
   "cell_type": "markdown",
   "metadata": {},
   "source": [
    "Este ejemplo devuelve el primer elemento de la primera tupla en `tupla_anidada`, que es el número `1`.\n",
    "\n",
    "En resumen, los elementos de una tupla en Python pueden ser cualquier tipo de datos, incluyendo otros objetos complejos como listas y tuplas. La tupla en sí misma es inmutable, lo que significa que los elementos no pueden ser modificados después de la creación de la tupla."
   ]
  },
  {
   "attachments": {},
   "cell_type": "markdown",
   "metadata": {},
   "source": [
    "## **El método unpacking**"
   ]
  },
  {
   "attachments": {},
   "cell_type": "markdown",
   "metadata": {},
   "source": [
    "El método `unpacking` en Python permite desempacar los elementos de una estructura de datos iterable (como una lista o tupla) en variables individuales, lo que resulta muy útil en varias situaciones, como cuando se necesita asignar varios valores a diferentes variables o cuando se desea iterar sobre los elementos de una estructura de datos de manera más eficiente.\n",
    "\n",
    "Veamos un ejemplo sencillo de cómo utilizar el método `unpacking` en Python:"
   ]
  },
  {
   "cell_type": "code",
   "execution_count": 12,
   "metadata": {},
   "outputs": [
    {
     "name": "stdout",
     "output_type": "stream",
     "text": [
      "1\n",
      "2\n",
      "3\n"
     ]
    }
   ],
   "source": [
    "numeros = [1, 2, 3]\n",
    "a, b, c = numeros\n",
    "\n",
    "print(a) # Output: 1\n",
    "print(b) # Output: 2\n",
    "print(c) # Output: 3"
   ]
  },
  {
   "attachments": {},
   "cell_type": "markdown",
   "metadata": {},
   "source": [
    "En este ejemplo, creamos una lista llamada numeros que contiene tres valores enteros. A continuación, utilizamos el método `unpacking` para desempacar los valores de la lista en tres variables separadas: `a`, `b` y `c`. Después, imprimimos el valor de cada variable en la consola.\n",
    "\n",
    "También es posible utilizar el método `unpacking` para desempacar los elementos de una tupla. Veamos un ejemplo:"
   ]
  },
  {
   "cell_type": "code",
   "execution_count": 13,
   "metadata": {},
   "outputs": [
    {
     "name": "stdout",
     "output_type": "stream",
     "text": [
      "manzana\n",
      "banana\n",
      "kiwi\n"
     ]
    }
   ],
   "source": [
    "frutas = ('manzana', 'banana', 'kiwi')\n",
    "fruta1, fruta2, fruta3 = frutas\n",
    "\n",
    "print(fruta1) # Output: 'manzana'\n",
    "print(fruta2) # Output: 'banana'\n",
    "print(fruta3) # Output: 'kiwi'"
   ]
  },
  {
   "attachments": {},
   "cell_type": "markdown",
   "metadata": {},
   "source": [
    "En este ejemplo, creamos una tupla llamada frutas que contiene tres cadenas de texto. Utilizamos el método `unpacking` para asignar cada cadena de texto a una variable separada (`fruta1`, `fruta2` y `fruta3`). Después, imprimimos el valor de cada variable en la consola.\n",
    "\n",
    "El método `unpacking` también puede ser utilizado para desempacar los elementos de una estructura de datos iterable dentro de una función. Veamos un ejemplo:"
   ]
  },
  {
   "cell_type": "code",
   "execution_count": 16,
   "metadata": {},
   "outputs": [
    {
     "name": "stdout",
     "output_type": "stream",
     "text": [
      "6\n"
     ]
    }
   ],
   "source": [
    "numeros = [1, 2, 3]\n",
    "\n",
    "def sumar_numeros(a, b, c):\n",
    "    return a + b + c\n",
    "\n",
    "resultado = sumar_numeros(*numeros)\n",
    "\n",
    "print(resultado) # Output: 6"
   ]
  },
  {
   "attachments": {},
   "cell_type": "markdown",
   "metadata": {},
   "source": [
    "En este ejemplo, creamos una función llamada `sumar_numeros` que toma tres argumentos numéricos y devuelve su `suma`. Luego, creamos una lista llamada `numeros` que contiene tres números enteros y utilizamos el método `unpacking` para pasar los valores de la lista como argumentos a la función `sumar_numeros`. Finalmente, almacenamos el resultado de la función en una variable llamada `resultado` y lo imprimimos en la consola.\n",
    "\n",
    "En resumen, el método `unpacking` en Python es una técnica muy útil para desempacar los elementos de una estructura de datos iterable en variables individuales. Esto puede ser útil en situaciones en las que necesitamos asignar múltiples valores a diferentes variables o iterar de manera eficiente sobre los elementos de una estructura de datos."
   ]
  },
  {
   "attachments": {},
   "cell_type": "markdown",
   "metadata": {},
   "source": [
    "## **Concatenación y repetición de tuplas**"
   ]
  },
  {
   "attachments": {},
   "cell_type": "markdown",
   "metadata": {},
   "source": [
    "La concatenación y repetición de tuplas en Python son dos operaciones que se pueden utilizar para combinar o duplicar tuplas existentes.\n",
    "\n",
    "La concatenación de tuplas en Python se realiza utilizando el operador de suma `(+)`. Este operador toma dos tuplas y las combina en una nueva tupla que contiene todos los elementos de ambas tuplas. Veamos un ejemplo:"
   ]
  },
  {
   "cell_type": "code",
   "execution_count": 17,
   "metadata": {},
   "outputs": [
    {
     "name": "stdout",
     "output_type": "stream",
     "text": [
      "(1, 2, 3, 4, 5, 6)\n"
     ]
    }
   ],
   "source": [
    "tupla1 = (1, 2, 3)\n",
    "tupla2 = (4, 5, 6)\n",
    "concatenacion = tupla1 + tupla2\n",
    "\n",
    "print(concatenacion) # Output: (1, 2, 3, 4, 5, 6)"
   ]
  },
  {
   "attachments": {},
   "cell_type": "markdown",
   "metadata": {},
   "source": [
    "En este ejemplo, creamos dos tuplas, `tupla1` y `tupla2`, que contienen tres elementos numéricos cada una. A continuación, utilizamos el operador de suma para concatenar las dos tuplas en una nueva tupla llamada `concatenacion`. Finalmente, imprimimos el valor de la tupla concatenada en la consola.\n",
    "\n",
    "La repetición de tuplas en Python se realiza utilizando el operador de multiplicación `(*)`. Este operador toma una tupla y un entero y crea una nueva tupla que contiene múltiples copias de la tupla original. Veamos un ejemplo:"
   ]
  },
  {
   "cell_type": "code",
   "execution_count": 18,
   "metadata": {},
   "outputs": [
    {
     "name": "stdout",
     "output_type": "stream",
     "text": [
      "(1, 2, 3, 1, 2, 3, 1, 2, 3)\n"
     ]
    }
   ],
   "source": [
    "tupla1 = (1, 2, 3)\n",
    "repeticion = tupla1 * 3\n",
    "\n",
    "print(repeticion) # Output: (1, 2, 3, 1, 2, 3, 1, 2, 3)"
   ]
  },
  {
   "attachments": {},
   "cell_type": "markdown",
   "metadata": {},
   "source": [
    "En este ejemplo, creamos una tupla llamada `tupla1` que contiene tres elementos numéricos. Luego, utilizamos el operador de multiplicación para crear una nueva tupla llamada `repeticion` que contiene tres copias de la tupla original. Finalmente, imprimimos el valor de la tupla repetida en la consola.\n",
    "\n",
    "Es importante destacar que la concatenación y repetición de tuplas crean nuevas tuplas en lugar de modificar las originales. Además, estas operaciones pueden combinarse para crear tuplas más complejas. Veamos un ejemplo:"
   ]
  },
  {
   "cell_type": "code",
   "execution_count": 19,
   "metadata": {},
   "outputs": [
    {
     "name": "stdout",
     "output_type": "stream",
     "text": [
      "(1, 2, 3, 4, 5, 6, 1, 2, 3, 4, 5, 6)\n"
     ]
    }
   ],
   "source": [
    "tupla1 = (1, 2, 3)\n",
    "tupla2 = (4, 5, 6)\n",
    "repetida = (tupla1 + tupla2) * 2\n",
    "\n",
    "print(repetida) # Output: (1, 2, 3, 4, 5, 6, 1, 2, 3, 4, 5, 6, 1, 2, 3, 4, 5, 6, 1, 2, 3, 4, 5, 6)"
   ]
  },
  {
   "attachments": {},
   "cell_type": "markdown",
   "metadata": {},
   "source": [
    "En este ejemplo, creamos dos tuplas, `tupla1` y `tupla2`, que contienen tres elementos numéricos cada una. Luego, utilizamos el operador de suma para concatenar las dos tuplas en una nueva tupla. Después, utilizamos el operador de multiplicación para crear una nueva tupla que contiene dos copias de la tupla concatenada. Finalmente, imprimimos el valor de la tupla repetida en la consola.\n",
    "\n",
    "En resumen, la concatenación y repetición de tuplas en Python son operaciones que permiten combinar o duplicar tuplas existentes para crear nuevas tuplas."
   ]
  },
  {
   "attachments": {},
   "cell_type": "markdown",
   "metadata": {},
   "source": [
    "## **Tamaño de una tupla**"
   ]
  },
  {
   "attachments": {},
   "cell_type": "markdown",
   "metadata": {},
   "source": [
    "El tamaño de una tupla en Python se refiere al número de elementos que contiene una tupla. En otras palabras, es la longitud de la tupla. El tamaño de una tupla se puede obtener utilizando la función `len()`, que devuelve el número de elementos en la tupla. Veamos un ejemplo:"
   ]
  },
  {
   "cell_type": "code",
   "execution_count": 20,
   "metadata": {},
   "outputs": [
    {
     "name": "stdout",
     "output_type": "stream",
     "text": [
      "5\n"
     ]
    }
   ],
   "source": [
    "tupla = (1, 2, 3, 4, 5)\n",
    "tamaño = len(tupla)\n",
    "\n",
    "print(tamaño) # Output: 5"
   ]
  },
  {
   "attachments": {},
   "cell_type": "markdown",
   "metadata": {},
   "source": [
    "En este ejemplo, creamos una tupla llamada tupla que contiene cinco elementos numéricos. A continuación, utilizamos la función `len()` para obtener el tamaño de la tupla y lo asignamos a la variable tamaño. Finalmente, imprimimos el valor de la variable tamaño en la consola.\n",
    "\n",
    "Es importante destacar que el tamaño de una tupla es inmutable, es decir, una vez que se crea una tupla, no se puede modificar su tamaño. Si se intenta modificar el tamaño de una tupla, se generará un error en tiempo de ejecución. Por ejemplo:"
   ]
  },
  {
   "cell_type": "code",
   "execution_count": 21,
   "metadata": {},
   "outputs": [
    {
     "ename": "AttributeError",
     "evalue": "'tuple' object has no attribute 'append'",
     "output_type": "error",
     "traceback": [
      "\u001b[0;31m---------------------------------------------------------------------------\u001b[0m",
      "\u001b[0;31mAttributeError\u001b[0m                            Traceback (most recent call last)",
      "\u001b[1;32m/home/puma/personalprojects/project_data/Curso_Data_Science/Python 3 de la A a la Z/Temario/9.Estructuras_de_datos_Tuplas.ipynb Celda 47\u001b[0m in \u001b[0;36m<cell line: 2>\u001b[0;34m()\u001b[0m\n\u001b[1;32m      <a href='vscode-notebook-cell://wsl%2Bubuntu/home/puma/personalprojects/project_data/Curso_Data_Science/Python%203%20de%20la%20A%20a%20la%20Z/Temario/9.Estructuras_de_datos_Tuplas.ipynb#X65sdnNjb2RlLXJlbW90ZQ%3D%3D?line=0'>1</a>\u001b[0m tupla \u001b[39m=\u001b[39m (\u001b[39m1\u001b[39m, \u001b[39m2\u001b[39m, \u001b[39m3\u001b[39m)\n\u001b[0;32m----> <a href='vscode-notebook-cell://wsl%2Bubuntu/home/puma/personalprojects/project_data/Curso_Data_Science/Python%203%20de%20la%20A%20a%20la%20Z/Temario/9.Estructuras_de_datos_Tuplas.ipynb#X65sdnNjb2RlLXJlbW90ZQ%3D%3D?line=1'>2</a>\u001b[0m tupla\u001b[39m.\u001b[39;49mappend(\u001b[39m4\u001b[39m)\n",
      "\u001b[0;31mAttributeError\u001b[0m: 'tuple' object has no attribute 'append'"
     ]
    }
   ],
   "source": [
    "tupla = (1, 2, 3)\n",
    "tupla.append(4) # Genera un error"
   ]
  },
  {
   "attachments": {},
   "cell_type": "markdown",
   "metadata": {},
   "source": [
    "En este ejemplo, intentamos agregar un nuevo elemento a la tupla utilizando el método `append()`. Sin embargo, esto generará un error en tiempo de ejecución porque las tuplas son inmutables y su tamaño no puede ser modificado.\n",
    "\n",
    "En resumen, el tamaño de una tupla en Python se refiere al número de elementos que contiene y se puede obtener utilizando la función `len()`. Es importante tener en cuenta que el tamaño de una tupla es inmutable y no se puede modificar una vez que se ha creado."
   ]
  },
  {
   "attachments": {},
   "cell_type": "markdown",
   "metadata": {},
   "source": [
    "## **Bucles y tuplas**"
   ]
  },
  {
   "attachments": {},
   "cell_type": "markdown",
   "metadata": {},
   "source": [
    "En Python, los bucles son una estructura de control que permiten repetir un bloque de código varias veces hasta que se cumpla una condición. Las tuplas, por su parte, son estructuras de datos que permiten almacenar varios elementos de diferentes tipos en una sola variable. En este sentido, es posible utilizar las tuplas en combinación con los bucles para realizar operaciones repetitivas en una colección de elementos.\n",
    "\n",
    "Existen dos tipos principales de bucles en Python: el bucle `for` y el bucle `while`. El bucle `for` es ideal para recorrer colecciones de elementos como las tuplas, mientras que el bucle `while` es útil cuando se desea repetir un bloque de código mientras se cumpla una determinada condición.\n",
    "\n",
    "A continuación, se muestra un ejemplo de cómo se puede utilizar un bucle `for` para recorrer una tupla e imprimir cada uno de sus elementos:"
   ]
  },
  {
   "cell_type": "code",
   "execution_count": 22,
   "metadata": {},
   "outputs": [
    {
     "name": "stdout",
     "output_type": "stream",
     "text": [
      "1\n",
      "2\n",
      "3\n",
      "4\n",
      "5\n"
     ]
    }
   ],
   "source": [
    "tupla = (1, 2, 3, 4, 5)\n",
    "\n",
    "for elemento in tupla:\n",
    "    print(elemento)"
   ]
  },
  {
   "attachments": {},
   "cell_type": "markdown",
   "metadata": {},
   "source": [
    "En este ejemplo, creamos una tupla llamada tupla que contiene cinco elementos numéricos. A continuación, utilizamos un bucle `for` para recorrer la tupla e imprimir cada uno de sus elementos en la consola.\n",
    "\n",
    "También es posible utilizar el bucle `while` para recorrer una tupla utilizando un índice. A continuación, se muestra un ejemplo de cómo se puede utilizar un bucle `while` para recorrer una tupla e imprimir cada uno de sus elementos utilizando un índice:"
   ]
  },
  {
   "cell_type": "code",
   "execution_count": 23,
   "metadata": {},
   "outputs": [
    {
     "name": "stdout",
     "output_type": "stream",
     "text": [
      "1\n",
      "2\n",
      "3\n",
      "4\n",
      "5\n"
     ]
    }
   ],
   "source": [
    "tupla = (1, 2, 3, 4, 5)\n",
    "indice = 0\n",
    "\n",
    "while indice < len(tupla):\n",
    "    print(tupla[indice])\n",
    "    indice += 1"
   ]
  },
  {
   "attachments": {},
   "cell_type": "markdown",
   "metadata": {},
   "source": [
    "En este ejemplo, creamos una tupla llamada tupla que contiene cinco elementos numéricos y una variable indice inicializada en cero. Utilizamos un bucle `while` para recorrer la tupla e imprimir cada uno de sus elementos utilizando un índice. En cada iteración del bucle, imprimimos el elemento de la tupla correspondiente al índice actual y luego incrementamos el índice en uno.\n",
    "\n",
    "En resumen, es posible utilizar las tuplas en combinación con los bucles `for` o `while` para realizar operaciones repetitivas en una colección de elementos. Con el bucle `for`, podemos recorrer una tupla de forma sencilla, mientras que con el bucle `while` podemos utilizar un índice para recorrer la tupla."
   ]
  },
  {
   "attachments": {},
   "cell_type": "markdown",
   "metadata": {},
   "source": [
    "## **Tuplas y el resto de estructuras de datos**"
   ]
  },
  {
   "attachments": {},
   "cell_type": "markdown",
   "metadata": {},
   "source": [
    "En Python, existen diversas estructuras de datos que se pueden utilizar para almacenar y manipular colecciones de elementos. Las tuplas son una de estas estructuras de datos, pero también existen listas, conjuntos y diccionarios.\n",
    "\n",
    "Las listas son una estructura de datos similar a las tuplas, pero a diferencia de las tuplas, las listas son mutables, lo que significa que se pueden modificar sus elementos después de haber sido creadas. Las listas se crean utilizando corchetes (`[]`) y los elementos se separan por comas. A continuación, se muestra un ejemplo de cómo crear una lista:"
   ]
  },
  {
   "cell_type": "code",
   "execution_count": 26,
   "metadata": {},
   "outputs": [
    {
     "name": "stdout",
     "output_type": "stream",
     "text": [
      "[1, 2, 3, 4, 5]\n"
     ]
    }
   ],
   "source": [
    "lista = [1, 2, 3, 4, 5]\n",
    "print(lista)"
   ]
  },
  {
   "attachments": {},
   "cell_type": "markdown",
   "metadata": {},
   "source": [
    "Los conjuntos son una estructura de datos que almacena elementos únicos en una colección. Los conjuntos se crean utilizando llaves (`{}`) o la función `set()`. A continuación, se muestra un ejemplo de cómo crear un conjunto:"
   ]
  },
  {
   "cell_type": "code",
   "execution_count": 27,
   "metadata": {},
   "outputs": [
    {
     "name": "stdout",
     "output_type": "stream",
     "text": [
      "{1, 2, 3, 4, 5}\n"
     ]
    }
   ],
   "source": [
    "conjunto = {1, 2, 3, 4, 5}\n",
    "print(conjunto)"
   ]
  },
  {
   "attachments": {},
   "cell_type": "markdown",
   "metadata": {},
   "source": [
    "Los diccionarios son una estructura de datos que almacena pares de `clave-valor` en una colección. Los diccionarios se crean utilizando llaves (`{}`) y los pares de `clave-valor` se separan por comas y se separan las claves de los valores con dos puntos (`:`). A continuación, se muestra un ejemplo de cómo crear un diccionario:"
   ]
  },
  {
   "cell_type": "code",
   "execution_count": 28,
   "metadata": {},
   "outputs": [
    {
     "name": "stdout",
     "output_type": "stream",
     "text": [
      "{'nombre': 'Juan', 'apellido': 'Pérez', 'edad': 30}\n"
     ]
    }
   ],
   "source": [
    "diccionario = {\"nombre\": \"Juan\", \"apellido\": \"Pérez\", \"edad\": 30}\n",
    "print(diccionario)"
   ]
  },
  {
   "attachments": {},
   "cell_type": "markdown",
   "metadata": {},
   "source": [
    "Aunque estas estructuras de datos tienen características y usos distintos, todas ellas se pueden utilizar en combinación con los bucles `for` o `while` para realizar operaciones repetitivas en una colección de elementos. A continuación, se muestra un ejemplo de cómo se puede utilizar un bucle `for` para recorrer una lista, un conjunto y un diccionario e imprimir sus elementos:"
   ]
  },
  {
   "cell_type": "code",
   "execution_count": 29,
   "metadata": {},
   "outputs": [
    {
     "name": "stdout",
     "output_type": "stream",
     "text": [
      "1\n",
      "2\n",
      "3\n",
      "4\n",
      "5\n",
      "1\n",
      "2\n",
      "3\n",
      "4\n",
      "5\n",
      "nombre Juan\n",
      "apellido Pérez\n",
      "edad 30\n"
     ]
    }
   ],
   "source": [
    "# Recorriendo una lista\n",
    "lista = [1, 2, 3, 4, 5]\n",
    "for elemento in lista:\n",
    "    print(elemento)\n",
    "\n",
    "# Recorriendo un conjunto\n",
    "conjunto = {1, 2, 3, 4, 5}\n",
    "for elemento in conjunto:\n",
    "    print(elemento)\n",
    "\n",
    "# Recorriendo un diccionario\n",
    "diccionario = {\"nombre\": \"Juan\", \"apellido\": \"Pérez\", \"edad\": 30}\n",
    "for clave, valor in diccionario.items():\n",
    "    print(clave, valor)"
   ]
  },
  {
   "attachments": {},
   "cell_type": "markdown",
   "metadata": {},
   "source": [
    "En este ejemplo, utilizamos un bucle `for` para recorrer una lista, un conjunto y un diccionario e imprimir sus elementos. En el caso de la lista y el conjunto, utilizamos una sintaxis similar a la de la tupla para recorrer sus elementos. En el caso del diccionario, utilizamos el método `items()` para recorrer los pares de `clave-valor` y así imprimir tanto la clave como el valor en cada iteración del bucle.\n",
    "\n",
    "En resumen, aunque las tuplas son una estructura de datos útil en Python, también existen otras estructuras de datos como las listas, los conjuntos y los diccionarios que se pueden utilizar para almacenar y manipular colecciones de elementos. Todas estas estructuras de datos se pueden utilizar en combinación con los bucles `for` o `while` para realizar operaciones repetitivas en una colección de elementos."
   ]
  },
  {
   "attachments": {},
   "cell_type": "markdown",
   "metadata": {},
   "source": [
    "## **La función zip**"
   ]
  },
  {
   "attachments": {},
   "cell_type": "markdown",
   "metadata": {},
   "source": [
    "La función `zip` en Python es una función incorporada que permite combinar dos o más iterables en una tupla de tuplas, donde cada tupla contiene los elementos correspondientes de cada iterable. En otras palabras, `zip` toma dos o más iterables y devuelve un iterador que devuelve tuplas formadas por los elementos de cada iterable.\n",
    "\n",
    "La sintaxis de la función `zip` es la siguiente:"
   ]
  },
  {
   "attachments": {},
   "cell_type": "markdown",
   "metadata": {},
   "source": [
    "```\n",
    "zip(iterable1, iterable2, ...)\n",
    "```"
   ]
  },
  {
   "attachments": {},
   "cell_type": "markdown",
   "metadata": {},
   "source": [
    "Donde `iterable1`, `iterable2`, etc. son los iterables que se van a combinar.\n",
    "\n",
    "A continuación, se muestra un ejemplo de cómo se puede utilizar la función `zip` para combinar dos listas en una tupla de tuplas:"
   ]
  },
  {
   "cell_type": "code",
   "execution_count": 30,
   "metadata": {},
   "outputs": [
    {
     "name": "stdout",
     "output_type": "stream",
     "text": [
      "[('Juan', 25), ('María', 30), ('Pedro', 35)]\n"
     ]
    }
   ],
   "source": [
    "nombres = [\"Juan\", \"María\", \"Pedro\"]\n",
    "edades = [25, 30, 35]\n",
    "\n",
    "datos_personales = zip(nombres, edades)\n",
    "\n",
    "print(list(datos_personales))"
   ]
  },
  {
   "attachments": {},
   "cell_type": "markdown",
   "metadata": {},
   "source": [
    "En este ejemplo, se definen dos listas `nombres` y `edades`. Luego, se utiliza la función `zip` para combinar las dos listas en una tupla de tuplas llamada `datos_personales`. Finalmente, se convierte el iterador `datos_personales` en una lista para poder imprimir su contenido."
   ]
  },
  {
   "attachments": {},
   "cell_type": "markdown",
   "metadata": {},
   "source": [
    "Como se puede observar, la función `zip` ha combinado los elementos correspondientes de las dos listas y los ha agrupado en una tupla de tuplas.\n",
    "\n",
    "Es importante destacar que si los iterables tienen longitudes diferentes, la función `zip` se detendrá cuando se hayan agotado los elementos del iterable más corto. Por ejemplo:"
   ]
  },
  {
   "cell_type": "code",
   "execution_count": 31,
   "metadata": {},
   "outputs": [
    {
     "name": "stdout",
     "output_type": "stream",
     "text": [
      "[('Juan', 25), ('María', 30)]\n"
     ]
    }
   ],
   "source": [
    "nombres = [\"Juan\", \"María\", \"Pedro\"]\n",
    "edades = [25, 30]\n",
    "\n",
    "datos_personales = zip(nombres, edades)\n",
    "\n",
    "print(list(datos_personales))"
   ]
  },
  {
   "attachments": {},
   "cell_type": "markdown",
   "metadata": {},
   "source": [
    "En este caso, la lista edades es más corta que la lista nombres, por lo que la función `zip` solo combinará los dos primeros elementos de cada lista."
   ]
  },
  {
   "attachments": {},
   "cell_type": "markdown",
   "metadata": {},
   "source": [
    "En resumen, la función `zip` en Python es una herramienta muy útil para combinar dos o más iterables en una tupla de tuplas. Esta función permite trabajar con varias colecciones de datos al mismo tiempo y puede ahorrar mucho tiempo y esfuerzo al escribir código."
   ]
  },
  {
   "attachments": {},
   "cell_type": "markdown",
   "metadata": {},
   "source": [
    "## **Estructuras de datos: Tuplas**"
   ]
  },
  {
   "attachments": {},
   "cell_type": "markdown",
   "metadata": {},
   "source": [
    "En Python, las tuplas son una estructura de datos inmutable que permite almacenar una secuencia de valores. A diferencia de las listas, las tuplas no pueden modificarse una vez creadas, lo que las hace ideales para almacenar datos que no necesitan cambiar.\n",
    "\n",
    "Las tuplas se crean utilizando paréntesis `()` y los elementos se separan por comas. Por ejemplo:"
   ]
  },
  {
   "cell_type": "code",
   "execution_count": 32,
   "metadata": {},
   "outputs": [],
   "source": [
    "tupla1 = (1, 2, 3)\n",
    "tupla2 = ('a', 'b', 'c')\n",
    "tupla3 = (True, False, True)"
   ]
  },
  {
   "attachments": {},
   "cell_type": "markdown",
   "metadata": {},
   "source": [
    "En este ejemplo, se han creado tres tuplas diferentes. La `tupla1` contiene los valores enteros `1`, `2` y `3`. La `tupla2` contiene los valores de caracteres `'a'`, `'b'` y `'c'`. La `tupla3` contiene los valores booleanos `True`, `False` y `True`.\n",
    "\n",
    "Al igual que con las listas, se puede acceder a los elementos de una tupla mediante un índice numérico. El primer elemento de la tupla tiene un índice de `0`, el segundo tiene un índice de `1`, y así sucesivamente. Por ejemplo:"
   ]
  },
  {
   "cell_type": "code",
   "execution_count": 33,
   "metadata": {},
   "outputs": [
    {
     "name": "stdout",
     "output_type": "stream",
     "text": [
      "a\n",
      "c\n",
      "e\n"
     ]
    }
   ],
   "source": [
    "tupla = ('a', 'b', 'c', 'd', 'e')\n",
    "\n",
    "print(tupla[0])  # salida: 'a'\n",
    "print(tupla[2])  # salida: 'c'\n",
    "print(tupla[-1]) # salida: 'e'"
   ]
  },
  {
   "attachments": {},
   "cell_type": "markdown",
   "metadata": {},
   "source": [
    "En este ejemplo, se ha creado una tupla llamada `tupla` que contiene cinco valores de caracteres. Los valores se pueden acceder utilizando índices, como se muestra en los tres ejemplos de impresión.\n",
    "\n",
    "Además de acceder a los elementos, las tuplas también admiten la concatenación y repetición mediante el uso de los operadores `\"+\"` y `\"*\"`. Por ejemplo:"
   ]
  },
  {
   "cell_type": "code",
   "execution_count": 34,
   "metadata": {},
   "outputs": [
    {
     "name": "stdout",
     "output_type": "stream",
     "text": [
      "(1, 2, 3, 'a', 'b', 'c')\n",
      "(1, 2, 3, 1, 2, 3, 1, 2, 3)\n"
     ]
    }
   ],
   "source": [
    "tupla1 = (1, 2, 3)\n",
    "tupla2 = ('a', 'b', 'c')\n",
    "\n",
    "tupla_concatenada = tupla1 + tupla2\n",
    "tupla_repetida = tupla1 * 3\n",
    "\n",
    "print(tupla_concatenada) # salida: (1, 2, 3, 'a', 'b', 'c')\n",
    "print(tupla_repetida)    # salida: (1, 2, 3, 1, 2, 3, 1, 2, 3)"
   ]
  },
  {
   "attachments": {},
   "cell_type": "markdown",
   "metadata": {},
   "source": [
    "En este ejemplo, se han creado dos tuplas, `tupla1` y `tupla2`, que se concatenan utilizando el operador `\"+\"`. El resultado se almacena en la variable `tupla_concatenada`. Luego, la tupla `tupla1` se repite tres veces utilizando el operador `\"*\"`. El resultado se almacena en la variable `tupla_repetida`.\n",
    "\n",
    "Otra característica útil de las tuplas es el desempaquetado, que permite asignar cada elemento de una tupla a una variable separada. Por ejemplo:"
   ]
  },
  {
   "cell_type": "code",
   "execution_count": 35,
   "metadata": {},
   "outputs": [
    {
     "name": "stdout",
     "output_type": "stream",
     "text": [
      "Juan\n",
      "25\n",
      "Estados Unidos\n"
     ]
    }
   ],
   "source": [
    "tupla = ('Juan', 25, 'Estados Unidos')\n",
    "\n",
    "nombre, edad, pais = tupla\n",
    "\n",
    "print(nombre) # salida: 'Juan'\n",
    "print(edad)   # salida: 25\n",
    "print(pais)   # salida: 'Estados Unidos'"
   ]
  },
  {
   "attachments": {},
   "cell_type": "markdown",
   "metadata": {},
   "source": [
    "En este ejemplo, se ha creado una tupla `tupla` que contiene tres valores diferentes. Luego, los valores se asignan a las variables `nombre`, `edad` y `pais`."
   ]
  },
  {
   "attachments": {},
   "cell_type": "markdown",
   "metadata": {},
   "source": [
    "## **Tuples**"
   ]
  },
  {
   "attachments": {},
   "cell_type": "markdown",
   "metadata": {},
   "source": [
    "Una tupla es una colección de diferentes tipos de datos ordenados e inmutables (inmutables). Las tuplas se escriben con corchetes, `()`. Una vez que se crea una tupla, no podemos cambiar sus valores. No podemos usar métodos de agregar, insertar, eliminar en una tupla porque no es modificable (mutable). A diferencia de list, tuple tiene pocos métodos. Métodos relacionados con las tuplas:\n",
    "\n",
    "* **tuple():** para crear una tupla vacía\n",
    "* **count ():** para contar el número de un elemento específico en una tupla\n",
    "* **index ():** para encontrar el índice de un elemento específico en una tupla\n",
    "* **operador:** unir dos o más tuplas y crear una nueva tupla"
   ]
  },
  {
   "attachments": {},
   "cell_type": "markdown",
   "metadata": {},
   "source": [
    "### **Creando una tupla**"
   ]
  },
  {
   "attachments": {},
   "cell_type": "markdown",
   "metadata": {},
   "source": [
    "* **Tupla vacía:** creación de una tupla vacía"
   ]
  },
  {
   "cell_type": "code",
   "execution_count": 36,
   "metadata": {},
   "outputs": [],
   "source": [
    "# syntax\n",
    "empty_tuple = ()\n",
    "# o usando el constructor de tuplas\n",
    "empty_tuple = tuple()"
   ]
  },
  {
   "attachments": {},
   "cell_type": "markdown",
   "metadata": {},
   "source": [
    "* Tupla con valores iniciales"
   ]
  },
  {
   "cell_type": "code",
   "execution_count": 37,
   "metadata": {},
   "outputs": [],
   "source": [
    "# syntax\n",
    "tpl = ('item1', 'item2','item3')"
   ]
  },
  {
   "cell_type": "code",
   "execution_count": 38,
   "metadata": {},
   "outputs": [],
   "source": [
    "fruits = ('banana', 'orange', 'mango', 'lemon')"
   ]
  },
  {
   "attachments": {},
   "cell_type": "markdown",
   "metadata": {},
   "source": [
    "### **longitud de la tupla**"
   ]
  },
  {
   "attachments": {},
   "cell_type": "markdown",
   "metadata": {},
   "source": [
    "Usamos el método `len()` para obtener la longitud de una tupla."
   ]
  },
  {
   "cell_type": "code",
   "execution_count": 39,
   "metadata": {},
   "outputs": [
    {
     "data": {
      "text/plain": [
       "3"
      ]
     },
     "execution_count": 39,
     "metadata": {},
     "output_type": "execute_result"
    }
   ],
   "source": [
    "# syntax\n",
    "tpl = ('item1', 'item2', 'item3')\n",
    "len(tpl)"
   ]
  },
  {
   "attachments": {},
   "cell_type": "markdown",
   "metadata": {},
   "source": [
    "### **Acceso a elementos de tupla**"
   ]
  },
  {
   "attachments": {},
   "cell_type": "markdown",
   "metadata": {},
   "source": [
    "* Indexación positiva Similar al tipo de datos de lista, usamos indexación positiva o negativa para acceder a elementos de tupla."
   ]
  },
  {
   "attachments": {},
   "cell_type": "markdown",
   "metadata": {},
   "source": [
    "![Acceso](../imagenes%20Python/tuples_index.png \"elementos de tupla\")"
   ]
  },
  {
   "cell_type": "code",
   "execution_count": 40,
   "metadata": {},
   "outputs": [
    {
     "name": "stdout",
     "output_type": "stream",
     "text": [
      "item1\n",
      "item2\n"
     ]
    }
   ],
   "source": [
    "# Syntax\n",
    "tpl = ('item1', 'item2', 'item3')\n",
    "first_item = tpl[0]\n",
    "print(first_item)\n",
    "\n",
    "second_item = tpl[1]\n",
    "print(second_item)"
   ]
  },
  {
   "cell_type": "code",
   "execution_count": 41,
   "metadata": {},
   "outputs": [
    {
     "name": "stdout",
     "output_type": "stream",
     "text": [
      "banana\n",
      "orange\n",
      "3\n",
      "lemon\n"
     ]
    }
   ],
   "source": [
    "fruits = ('banana', 'orange', 'mango', 'lemon')\n",
    "first_fruit = fruits[0]\n",
    "print(first_fruit)\n",
    "\n",
    "second_fruit = fruits[1]\n",
    "print(second_fruit)\n",
    "\n",
    "last_index =len(fruits) - 1\n",
    "print(last_index)\n",
    "\n",
    "last_fruit = fruits[last_index]\n",
    "print(last_fruit)"
   ]
  },
  {
   "attachments": {},
   "cell_type": "markdown",
   "metadata": {},
   "source": [
    "* **Indexación negativa:**\n",
    "\n",
    " La indexación negativa significa comenzar desde el final, `-1` se refiere al último elemento, `-2` se refiere al penúltimo y el negativo de la longitud de la lista/tupla se refiere al primer elemento."
   ]
  },
  {
   "attachments": {},
   "cell_type": "markdown",
   "metadata": {},
   "source": [
    "![indexacion negativa](../imagenes%20Python/tuple_negative_indexing.png \"indexacion negativa\")"
   ]
  },
  {
   "cell_type": "code",
   "execution_count": 42,
   "metadata": {},
   "outputs": [
    {
     "name": "stdout",
     "output_type": "stream",
     "text": [
      "item1\n",
      "item2\n"
     ]
    }
   ],
   "source": [
    "# Syntax\n",
    "tpl = ('item1', 'item2', 'item3','item4')\n",
    "first_item = tpl[-4]\n",
    "print(first_item)\n",
    "\n",
    "second_item = tpl[-3]\n",
    "print(second_item)"
   ]
  },
  {
   "cell_type": "code",
   "execution_count": 43,
   "metadata": {},
   "outputs": [
    {
     "name": "stdout",
     "output_type": "stream",
     "text": [
      "banana\n",
      "orange\n",
      "lemon\n"
     ]
    }
   ],
   "source": [
    "fruits = ('banana', 'orange', 'mango', 'lemon')\n",
    "first_fruit = fruits[-4]\n",
    "print(first_fruit)\n",
    "\n",
    "second_fruit = fruits[-3]\n",
    "print(second_fruit)\n",
    "\n",
    "last_fruit = fruits[-1]\n",
    "print(last_fruit)"
   ]
  },
  {
   "attachments": {},
   "cell_type": "markdown",
   "metadata": {},
   "source": [
    "### **Slicing tuples**"
   ]
  },
  {
   "attachments": {},
   "cell_type": "markdown",
   "metadata": {},
   "source": [
    "Podemos dividir una `subtupla` especificando un rango de índices donde comenzar y donde terminar en la tupla, el valor devuelto será una nueva tupla con los elementos especificados."
   ]
  },
  {
   "attachments": {},
   "cell_type": "markdown",
   "metadata": {},
   "source": [
    "* Rango de índices positivos"
   ]
  },
  {
   "cell_type": "code",
   "execution_count": 44,
   "metadata": {},
   "outputs": [
    {
     "name": "stdout",
     "output_type": "stream",
     "text": [
      "('item1', 'item2', 'item3', 'item4')\n",
      "('item1', 'item2', 'item3', 'item4')\n",
      "('item2', 'item3')\n"
     ]
    }
   ],
   "source": [
    "# Syntax\n",
    "tpl = ('item1', 'item2', 'item3','item4')\n",
    "all_items = tpl[0:4]         # todos los artículos\n",
    "print(all_items)\n",
    "\n",
    "all_items = tpl[0:]         # todos los artículos\n",
    "print(all_items)\n",
    "\n",
    "middle_two_items = tpl[1:3]  # no incluye artículo en index 3\n",
    "print(middle_two_items)"
   ]
  },
  {
   "cell_type": "code",
   "execution_count": 45,
   "metadata": {},
   "outputs": [
    {
     "name": "stdout",
     "output_type": "stream",
     "text": [
      "('banana', 'orange', 'mango', 'lemon')\n",
      "('banana', 'orange', 'mango', 'lemon')\n",
      "('orange', 'mango')\n",
      "('orange', 'mango', 'lemon')\n"
     ]
    }
   ],
   "source": [
    "fruits = ('banana', 'orange', 'mango', 'lemon')\n",
    "all_fruits = fruits[0:4]    # todos los artículos\n",
    "print(all_fruits)\n",
    "\n",
    "all_fruits= fruits[0:]      # todos los artículos\n",
    "print(all_fruits)\n",
    "\n",
    "orange_mango = fruits[1:3]  # no incluye artículo en index 3\n",
    "print(orange_mango)\n",
    "\n",
    "orange_to_the_rest = fruits[1:]\n",
    "print(orange_to_the_rest)"
   ]
  },
  {
   "attachments": {},
   "cell_type": "markdown",
   "metadata": {},
   "source": [
    "* Rango de índices negativos"
   ]
  },
  {
   "cell_type": "code",
   "execution_count": 46,
   "metadata": {},
   "outputs": [
    {
     "name": "stdout",
     "output_type": "stream",
     "text": [
      "('item1', 'item2', 'item3', 'item4')\n",
      "('item2', 'item3')\n"
     ]
    }
   ],
   "source": [
    "# Syntax\n",
    "tpl = ('item1', 'item2', 'item3','item4')\n",
    "all_items = tpl[-4:]         # todos los artículos\n",
    "print(all_items)\n",
    "\n",
    "middle_two_items = tpl[-3:-1]  # no incluye artículo en index 3 (-1)\n",
    "print(middle_two_items)"
   ]
  },
  {
   "cell_type": "code",
   "execution_count": 47,
   "metadata": {},
   "outputs": [
    {
     "name": "stdout",
     "output_type": "stream",
     "text": [
      "('banana', 'orange', 'mango', 'lemon')\n",
      "('orange', 'mango')\n",
      "('orange', 'mango', 'lemon')\n"
     ]
    }
   ],
   "source": [
    "fruits = ('banana', 'orange', 'mango', 'lemon')\n",
    "all_fruits = fruits[-4:]    # todos los artículos\n",
    "print(all_fruits)\n",
    "\n",
    "orange_mango = fruits[-3:-1]  # no incluye artículo en  index 3\n",
    "print(orange_mango)\n",
    "\n",
    "orange_to_the_rest = fruits[-3:]\n",
    "print(orange_to_the_rest)"
   ]
  },
  {
   "attachments": {},
   "cell_type": "markdown",
   "metadata": {},
   "source": [
    "### **Cambiar tuplas a listas**"
   ]
  },
  {
   "attachments": {},
   "cell_type": "markdown",
   "metadata": {},
   "source": [
    "Podemos cambiar tuplas por listas y listas por tuplas. Tupla es inmutable si queremos modificar una tupla debemos cambiarla a una lista."
   ]
  },
  {
   "cell_type": "code",
   "execution_count": 48,
   "metadata": {},
   "outputs": [
    {
     "name": "stdout",
     "output_type": "stream",
     "text": [
      "['item1', 'item2', 'item3', 'item4']\n"
     ]
    }
   ],
   "source": [
    "# Syntax\n",
    "tpl = ('item1', 'item2', 'item3','item4')\n",
    "lst = list(tpl)\n",
    "print(lst)"
   ]
  },
  {
   "cell_type": "code",
   "execution_count": 49,
   "metadata": {},
   "outputs": [
    {
     "name": "stdout",
     "output_type": "stream",
     "text": [
      "['banana', 'orange', 'mango', 'lemon']\n",
      "['apple', 'orange', 'mango', 'lemon']\n",
      "('apple', 'orange', 'mango', 'lemon')\n"
     ]
    }
   ],
   "source": [
    "fruits = ('banana', 'orange', 'mango', 'lemon')\n",
    "fruits = list(fruits)\n",
    "print(fruits)\n",
    "\n",
    "fruits[0] = 'apple'\n",
    "print(fruits)     # ['apple', 'orange', 'mango', 'lemon']\n",
    "\n",
    "fruits = tuple(fruits)\n",
    "print(fruits)     # ('apple', 'orange', 'mango', 'lemon')"
   ]
  },
  {
   "attachments": {},
   "cell_type": "markdown",
   "metadata": {},
   "source": [
    "### **Comprobación de un elemento en una tupla**"
   ]
  },
  {
   "attachments": {},
   "cell_type": "markdown",
   "metadata": {},
   "source": [
    "Podemos verificar si un elemento existe o no en una tupla usando `in` , devuelve un valor booleano."
   ]
  },
  {
   "cell_type": "code",
   "execution_count": 50,
   "metadata": {},
   "outputs": [
    {
     "data": {
      "text/plain": [
       "True"
      ]
     },
     "execution_count": 50,
     "metadata": {},
     "output_type": "execute_result"
    }
   ],
   "source": [
    "# Syntax\n",
    "tpl = ('item1', 'item2', 'item3','item4')\n",
    "'item2' in tpl # True"
   ]
  },
  {
   "cell_type": "code",
   "execution_count": 51,
   "metadata": {},
   "outputs": [
    {
     "name": "stdout",
     "output_type": "stream",
     "text": [
      "True\n",
      "False\n"
     ]
    }
   ],
   "source": [
    "fruits = ('banana', 'orange', 'mango', 'lemon')\n",
    "print('orange' in fruits) # True\n",
    "print('apple' in fruits) # False\n",
    "#fruits[0] = 'apple' # TypeError: 'tuple' el objeto no admite la asignación de elementos"
   ]
  },
  {
   "attachments": {},
   "cell_type": "markdown",
   "metadata": {},
   "source": [
    "### **Unión de tuplas**"
   ]
  },
  {
   "attachments": {},
   "cell_type": "markdown",
   "metadata": {},
   "source": [
    "Podemos unir dos o más tuplas usando el operador `+`"
   ]
  },
  {
   "cell_type": "code",
   "execution_count": 52,
   "metadata": {},
   "outputs": [
    {
     "name": "stdout",
     "output_type": "stream",
     "text": [
      "('item1', 'item2', 'item3', 'item4', 'item5', 'item6')\n"
     ]
    }
   ],
   "source": [
    "# syntax\n",
    "tpl1 = ('item1', 'item2', 'item3')\n",
    "tpl2 = ('item4', 'item5','item6')\n",
    "tpl3 = tpl1 + tpl2\n",
    "print(tpl3)"
   ]
  },
  {
   "cell_type": "code",
   "execution_count": 53,
   "metadata": {},
   "outputs": [
    {
     "name": "stdout",
     "output_type": "stream",
     "text": [
      "('banana', 'orange', 'mango', 'lemon', 'Tomato', 'Potato', 'Cabbage', 'Onion', 'Carrot')\n"
     ]
    }
   ],
   "source": [
    "fruits = ('banana', 'orange', 'mango', 'lemon')\n",
    "vegetables = ('Tomato', 'Potato', 'Cabbage','Onion', 'Carrot')\n",
    "fruits_and_vegetables = fruits + vegetables\n",
    "print(fruits_and_vegetables)"
   ]
  },
  {
   "attachments": {},
   "cell_type": "markdown",
   "metadata": {},
   "source": [
    "### **Eliminación de tuplas**"
   ]
  },
  {
   "attachments": {},
   "cell_type": "markdown",
   "metadata": {},
   "source": [
    "No es posible eliminar un solo elemento en una tupla, pero es posible eliminar la tupla en sí usando `del`"
   ]
  },
  {
   "cell_type": "code",
   "execution_count": 54,
   "metadata": {},
   "outputs": [],
   "source": [
    "# syntax\n",
    "tpl1 = ('item1', 'item2', 'item3')\n",
    "del tpl1"
   ]
  },
  {
   "cell_type": "code",
   "execution_count": 55,
   "metadata": {},
   "outputs": [],
   "source": [
    "fruits = ('banana', 'orange', 'mango', 'lemon')\n",
    "del fruits"
   ]
  },
  {
   "attachments": {},
   "cell_type": "markdown",
   "metadata": {},
   "source": [
    "| **Inicio** | **atrás 8** | **Siguiente 10** |\n",
    "|----------- |-------------- |---------------|\n",
    "| [🏠](../../README.md) | [⏪](./8.Estructuras_de_datos_Conjuntos.ipynb)| [⏩](./10.Funciones_en_Python.ipynb)|"
   ]
  }
 ],
 "metadata": {
  "kernelspec": {
   "display_name": "base",
   "language": "python",
   "name": "python3"
  },
  "language_info": {
   "codemirror_mode": {
    "name": "ipython",
    "version": 3
   },
   "file_extension": ".py",
   "mimetype": "text/x-python",
   "name": "python",
   "nbconvert_exporter": "python",
   "pygments_lexer": "ipython3",
   "version": "3.9.12"
  },
  "orig_nbformat": 4
 },
 "nbformat": 4,
 "nbformat_minor": 2
}
