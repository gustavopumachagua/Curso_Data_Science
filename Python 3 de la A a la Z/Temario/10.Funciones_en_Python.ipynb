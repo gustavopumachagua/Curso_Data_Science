{
 "cells": [
  {
   "attachments": {},
   "cell_type": "markdown",
   "metadata": {},
   "source": [
    "| **Inicio** | **atrás 9** | **Siguiente 11** |\n",
    "|----------- |-------------- |---------------|\n",
    "| [🏠](../../README.md) | [⏪](./9.Estructuras_de_datos_Tuplas.ipynb)| [⏩](./11.Funciones_Lambda.ipynb)|"
   ]
  },
  {
   "attachments": {},
   "cell_type": "markdown",
   "metadata": {},
   "source": [
    "# **Funciones en Python**"
   ]
  },
  {
   "attachments": {},
   "cell_type": "markdown",
   "metadata": {},
   "source": [
    "## **El concepto de función**"
   ]
  },
  {
   "attachments": {},
   "cell_type": "markdown",
   "metadata": {},
   "source": [
    "En Python, una función es un bloque de código que realiza una tarea específica y puede ser llamado varias veces en un programa. La función puede recibir argumentos de entrada (también llamados parámetros) y puede devolver un resultado. Las funciones se definen utilizando la palabra clave `\"def\"`, seguida del nombre de la función, los argumentos (si los hay), y un bloque de código que se ejecutará cuando se llame a la función.\n",
    "\n",
    "Aquí hay un ejemplo básico de una función en Python:"
   ]
  },
  {
   "cell_type": "code",
   "execution_count": 1,
   "metadata": {},
   "outputs": [],
   "source": [
    "def saludar(nombre):\n",
    "    print(\"Hola, \" + nombre + \"!\")"
   ]
  },
  {
   "attachments": {},
   "cell_type": "markdown",
   "metadata": {},
   "source": [
    "En este ejemplo, la función `\"saludar\"` recibe un argumento `\"nombre\"` y utiliza la función `\"print\"` para imprimir un saludo personalizado. Para llamar a la función, simplemente se escribe el nombre de la función seguido de los argumentos entre paréntesis:"
   ]
  },
  {
   "cell_type": "code",
   "execution_count": 2,
   "metadata": {},
   "outputs": [
    {
     "name": "stdout",
     "output_type": "stream",
     "text": [
      "Hola, Juan!\n"
     ]
    }
   ],
   "source": [
    "saludar(\"Juan\")"
   ]
  },
  {
   "attachments": {},
   "cell_type": "markdown",
   "metadata": {},
   "source": [
    "Este código imprimirá `\"Hola, Juan!\"` en la consola.\n",
    "\n",
    "Además de imprimir un resultado, una función puede devolver un valor. Para hacer esto, se utiliza la palabra clave `\"return\"` seguida del valor que se desea devolver. Por ejemplo:"
   ]
  },
  {
   "cell_type": "code",
   "execution_count": 3,
   "metadata": {},
   "outputs": [],
   "source": [
    "def sumar(a, b):\n",
    "    return a + b"
   ]
  },
  {
   "attachments": {},
   "cell_type": "markdown",
   "metadata": {},
   "source": [
    "En este ejemplo, la función `\"sumar\"` recibe dos argumentos `\"a\"` y `\"b\"`, y devuelve la suma de estos dos valores utilizando la palabra clave `\"return\"`. Para utilizar el valor devuelto por la función, se debe asignar la función a una variable:"
   ]
  },
  {
   "cell_type": "code",
   "execution_count": 4,
   "metadata": {},
   "outputs": [
    {
     "name": "stdout",
     "output_type": "stream",
     "text": [
      "7\n"
     ]
    }
   ],
   "source": [
    "resultado = sumar(3, 4)\n",
    "print(resultado)"
   ]
  },
  {
   "attachments": {},
   "cell_type": "markdown",
   "metadata": {},
   "source": [
    "Este código imprimirá `\"7\"` en la consola.\n",
    "\n",
    "Las funciones también pueden tener argumentos opcionales, que se utilizan cuando se quiere proporcionar un valor predeterminado si no se proporciona un valor explícito. Por ejemplo:"
   ]
  },
  {
   "cell_type": "code",
   "execution_count": 5,
   "metadata": {},
   "outputs": [],
   "source": [
    "def saludar(nombre=\"amigo\"):\n",
    "    print(\"Hola, \" + nombre + \"!\")"
   ]
  },
  {
   "attachments": {},
   "cell_type": "markdown",
   "metadata": {},
   "source": [
    "En este ejemplo, la función `\"saludar\"` tiene un argumento opcional `\"nombre\"`, que tiene un valor predeterminado de `\"amigo\"`. Si se llama a la función sin proporcionar un valor para el argumento `\"nombre\"`, se utilizará el valor predeterminado:"
   ]
  },
  {
   "cell_type": "code",
   "execution_count": 6,
   "metadata": {},
   "outputs": [
    {
     "name": "stdout",
     "output_type": "stream",
     "text": [
      "Hola, amigo!\n"
     ]
    }
   ],
   "source": [
    "saludar()"
   ]
  },
  {
   "attachments": {},
   "cell_type": "markdown",
   "metadata": {},
   "source": [
    "Este código imprimirá `\"Hola, amigo!\"` en la consola.\n",
    "\n",
    "En resumen, las funciones en Python son bloques de código que realizan tareas específicas y se pueden llamar varias veces en un programa. Las funciones pueden recibir argumentos de entrada y devolver un resultado, y pueden tener argumentos opcionales con valores predeterminados."
   ]
  },
  {
   "attachments": {},
   "cell_type": "markdown",
   "metadata": {},
   "source": [
    "### **Funciones**"
   ]
  },
  {
   "attachments": {},
   "cell_type": "markdown",
   "metadata": {},
   "source": [
    "Hasta ahora hemos visto muchas funciones integradas de Python. En esta sección, nos centraremos en las funciones personalizadas. ¿Qué es una función? Antes de comenzar a crear funciones, aprendamos qué es una función y por qué las necesitamos."
   ]
  },
  {
   "attachments": {},
   "cell_type": "markdown",
   "metadata": {},
   "source": [
    "#### **Definición de una función**"
   ]
  },
  {
   "attachments": {},
   "cell_type": "markdown",
   "metadata": {},
   "source": [
    "Una función es un bloque reutilizable de código o declaraciones de programación diseñadas para realizar una determinada tarea. Para definir o declarar una función, Python proporciona la palabra clave `def`. La siguiente es la sintaxis para definir una función. El bloque de función de código se ejecuta solo si se llama o invoca la función."
   ]
  },
  {
   "attachments": {},
   "cell_type": "markdown",
   "metadata": {},
   "source": [
    "#### **Declarar y llamar a una función**"
   ]
  },
  {
   "attachments": {},
   "cell_type": "markdown",
   "metadata": {},
   "source": [
    "Cuando hacemos una función, la llamamos declarando una función. Cuando comenzamos a usar `it`, lo llamamos llamar o invocar una función. La función se puede declarar con o sin parámetros.\n",
    "\n",
    "```\n",
    "# syntax\n",
    "# Declaring a function\n",
    "def function_name():\n",
    "    codes\n",
    "    codes\n",
    "# Calling a function\n",
    "function_name()\n",
    "```"
   ]
  },
  {
   "attachments": {},
   "cell_type": "markdown",
   "metadata": {},
   "source": [
    "#### **Función sin parámetros**"
   ]
  },
  {
   "attachments": {},
   "cell_type": "markdown",
   "metadata": {},
   "source": [
    "La función se puede declarar sin parámetros."
   ]
  },
  {
   "cell_type": "code",
   "execution_count": 7,
   "metadata": {},
   "outputs": [
    {
     "name": "stdout",
     "output_type": "stream",
     "text": [
      "Asabeneh Yetayeh\n"
     ]
    }
   ],
   "source": [
    "def generate_full_name ():\n",
    "    first_name = 'Asabeneh'\n",
    "    last_name = 'Yetayeh'\n",
    "    space = ' '\n",
    "    full_name = first_name + space + last_name\n",
    "    print(full_name)\n",
    "generate_full_name () # calling a function"
   ]
  },
  {
   "cell_type": "code",
   "execution_count": 8,
   "metadata": {},
   "outputs": [
    {
     "name": "stdout",
     "output_type": "stream",
     "text": [
      "5\n"
     ]
    }
   ],
   "source": [
    "def add_two_numbers ():\n",
    "    num_one = 2\n",
    "    num_two = 3\n",
    "    total = num_one + num_two\n",
    "    print(total)\n",
    "add_two_numbers()"
   ]
  },
  {
   "attachments": {},
   "cell_type": "markdown",
   "metadata": {},
   "source": [
    "### **Función que devuelve un valor - Parte 1**"
   ]
  },
  {
   "attachments": {},
   "cell_type": "markdown",
   "metadata": {},
   "source": [
    "La función también puede devolver valores, si una función no tiene una declaración de devolución, el valor de la función es Ninguno. Reescribamos las funciones anteriores usando `return`. De ahora en adelante, obtenemos un valor de una función cuando llamamos a la función y la imprimimos."
   ]
  },
  {
   "cell_type": "code",
   "execution_count": 9,
   "metadata": {},
   "outputs": [
    {
     "name": "stdout",
     "output_type": "stream",
     "text": [
      "Asabeneh Yetayeh\n"
     ]
    }
   ],
   "source": [
    "def generate_full_name ():\n",
    "    first_name = 'Asabeneh'\n",
    "    last_name = 'Yetayeh'\n",
    "    space = ' '\n",
    "    full_name = first_name + space + last_name\n",
    "    return full_name\n",
    "print(generate_full_name())"
   ]
  },
  {
   "cell_type": "code",
   "execution_count": 10,
   "metadata": {},
   "outputs": [
    {
     "name": "stdout",
     "output_type": "stream",
     "text": [
      "5\n"
     ]
    }
   ],
   "source": [
    "def add_two_numbers ():\n",
    "    num_one = 2\n",
    "    num_two = 3\n",
    "    total = num_one + num_two\n",
    "    return total\n",
    "print(add_two_numbers())"
   ]
  },
  {
   "attachments": {},
   "cell_type": "markdown",
   "metadata": {},
   "source": [
    "#### **Función con parámetros**"
   ]
  },
  {
   "attachments": {},
   "cell_type": "markdown",
   "metadata": {},
   "source": [
    "En una función podemos pasar diferentes tipos de datos `(número, cadena, booleano, lista, tupla, diccionario o conjunto)` como parámetro"
   ]
  },
  {
   "attachments": {},
   "cell_type": "markdown",
   "metadata": {},
   "source": [
    "* **Parámetro único:**\n",
    " Si nuestra función toma un parámetro, debemos llamar a nuestra función con un argumento"
   ]
  },
  {
   "attachments": {},
   "cell_type": "markdown",
   "metadata": {},
   "source": [
    "```\n",
    "  # syntax\n",
    "  # Declaring a function\n",
    "  def function_name(parameter):\n",
    "    codes\n",
    "    codes\n",
    "  # Calling function\n",
    "  print(function_name(argument))\n",
    "```"
   ]
  },
  {
   "cell_type": "code",
   "execution_count": 11,
   "metadata": {},
   "outputs": [
    {
     "name": "stdout",
     "output_type": "stream",
     "text": [
      "Asabeneh, welcome to Python for Everyone!\n"
     ]
    }
   ],
   "source": [
    "def greetings (name):\n",
    "    message = name + ', welcome to Python for Everyone!'\n",
    "    return message\n",
    "\n",
    "print(greetings('Asabeneh'))"
   ]
  },
  {
   "cell_type": "code",
   "execution_count": 12,
   "metadata": {},
   "outputs": [
    {
     "name": "stdout",
     "output_type": "stream",
     "text": [
      "100\n"
     ]
    }
   ],
   "source": [
    "def add_ten(num):\n",
    "    ten = 10\n",
    "    return num + ten\n",
    "print(add_ten(90))"
   ]
  },
  {
   "cell_type": "code",
   "execution_count": 13,
   "metadata": {},
   "outputs": [
    {
     "name": "stdout",
     "output_type": "stream",
     "text": [
      "4\n"
     ]
    }
   ],
   "source": [
    "def square_number(x):\n",
    "    return x * x\n",
    "print(square_number(2))"
   ]
  },
  {
   "cell_type": "code",
   "execution_count": 14,
   "metadata": {},
   "outputs": [
    {
     "name": "stdout",
     "output_type": "stream",
     "text": [
      "314.0\n"
     ]
    }
   ],
   "source": [
    "def area_of_circle (r):\n",
    "    PI = 3.14\n",
    "    area = PI * r ** 2\n",
    "    return area\n",
    "print(area_of_circle(10))"
   ]
  },
  {
   "cell_type": "code",
   "execution_count": 15,
   "metadata": {},
   "outputs": [],
   "source": [
    "def sum_of_numbers(n):\n",
    "    total = 0\n",
    "    for i in range(n+1):\n",
    "        total+=i\n",
    "    print(total)"
   ]
  },
  {
   "cell_type": "code",
   "execution_count": 16,
   "metadata": {},
   "outputs": [
    {
     "name": "stdout",
     "output_type": "stream",
     "text": [
      "55\n",
      "None\n",
      "5050\n",
      "None\n"
     ]
    }
   ],
   "source": [
    "print(sum_of_numbers(10)) # 55\n",
    "print(sum_of_numbers(100)) # 5050"
   ]
  },
  {
   "attachments": {},
   "cell_type": "markdown",
   "metadata": {},
   "source": [
    "* **Dos parámetros:**\n",
    " Una función puede o no tener un parámetro o parámetros. Una función también puede tener dos o más parámetros. Si nuestra función toma parámetros, deberíamos llamarla con argumentos. Comprobemos una función con dos parámetros:"
   ]
  },
  {
   "attachments": {},
   "cell_type": "markdown",
   "metadata": {},
   "source": [
    "```\n",
    "  # syntax\n",
    "  # Declaring a function\n",
    "  def function_name(para1, para2):\n",
    "    codes\n",
    "    codes\n",
    "  # Calling function\n",
    "  print(function_name(arg1, arg2))\n",
    "```"
   ]
  },
  {
   "cell_type": "code",
   "execution_count": 17,
   "metadata": {},
   "outputs": [
    {
     "name": "stdout",
     "output_type": "stream",
     "text": [
      "Full Name:  Asabeneh Yetayeh\n"
     ]
    }
   ],
   "source": [
    "def generate_full_name (first_name, last_name):\n",
    "    space = ' '\n",
    "    full_name = first_name + space + last_name\n",
    "    return full_name\n",
    "print('Full Name: ', generate_full_name('Asabeneh','Yetayeh'))"
   ]
  },
  {
   "cell_type": "code",
   "execution_count": 18,
   "metadata": {},
   "outputs": [
    {
     "name": "stdout",
     "output_type": "stream",
     "text": [
      "Sum of two numbers:  10\n"
     ]
    }
   ],
   "source": [
    "def sum_two_numbers (num_one, num_two):\n",
    "    sum = num_one + num_two\n",
    "    return sum\n",
    "print('Sum of two numbers: ', sum_two_numbers(1, 9))"
   ]
  },
  {
   "cell_type": "code",
   "execution_count": 19,
   "metadata": {},
   "outputs": [
    {
     "name": "stdout",
     "output_type": "stream",
     "text": [
      "Age:  202\n"
     ]
    }
   ],
   "source": [
    "def calculate_age (current_year, birth_year):\n",
    "    age = current_year - birth_year\n",
    "    return age;\n",
    "print('Age: ', calculate_age(2021, 1819))"
   ]
  },
  {
   "cell_type": "code",
   "execution_count": 20,
   "metadata": {},
   "outputs": [
    {
     "name": "stdout",
     "output_type": "stream",
     "text": [
      "Weight of an object in Newtons:  981.0 N\n"
     ]
    }
   ],
   "source": [
    "def weight_of_object (mass, gravity):\n",
    "    weight = str(mass * gravity)+ ' N' # the value has to be changed to a string first\n",
    "    return weight\n",
    "print('Weight of an object in Newtons: ', weight_of_object(100, 9.81))"
   ]
  },
  {
   "attachments": {},
   "cell_type": "markdown",
   "metadata": {},
   "source": [
    "#### **Pasar argumentos con clave y valor**"
   ]
  },
  {
   "attachments": {},
   "cell_type": "markdown",
   "metadata": {},
   "source": [
    "Si pasamos los argumentos con clave y valor, el orden de los argumentos no importa."
   ]
  },
  {
   "attachments": {},
   "cell_type": "markdown",
   "metadata": {},
   "source": [
    "```\n",
    "# syntax\n",
    "# Declaring a function\n",
    "def function_name(para1, para2):\n",
    "    codes\n",
    "    codes\n",
    "# Calling function\n",
    "print(function_name(para1 = 'John', para2 = 'Doe')) # the order of arguments does not matter here\n",
    "```"
   ]
  },
  {
   "cell_type": "code",
   "execution_count": 21,
   "metadata": {},
   "outputs": [
    {
     "name": "stdout",
     "output_type": "stream",
     "text": [
      "Asabeneh Yetayeh\n",
      "None\n"
     ]
    }
   ],
   "source": [
    "def print_fullname(firstname, lastname):\n",
    "    space = ' '\n",
    "    full_name = firstname  + space + lastname\n",
    "    print(full_name)\n",
    "print(print_fullname(firstname = 'Asabeneh', lastname = 'Yetayeh'))"
   ]
  },
  {
   "cell_type": "code",
   "execution_count": 22,
   "metadata": {},
   "outputs": [
    {
     "name": "stdout",
     "output_type": "stream",
     "text": [
      "5\n",
      "None\n"
     ]
    }
   ],
   "source": [
    "def add_two_numbers (num1, num2):\n",
    "    total = num1 + num2\n",
    "    print(total)\n",
    "print(add_two_numbers(num2 = 3, num1 = 2)) # Order does not matter"
   ]
  },
  {
   "attachments": {},
   "cell_type": "markdown",
   "metadata": {},
   "source": [
    "### **Función que devuelve un valor - Parte 2**"
   ]
  },
  {
   "attachments": {},
   "cell_type": "markdown",
   "metadata": {},
   "source": [
    "Si no devolvemos un valor con una función, entonces nuestra función devuelve Ninguno de forma predeterminada. Para devolver un valor con una función usamos la palabra clave `return` seguida de la variable que estamos devolviendo. Podemos devolver cualquier tipo de tipo de datos de una función."
   ]
  },
  {
   "attachments": {},
   "cell_type": "markdown",
   "metadata": {},
   "source": [
    "* **Devolver una cadena**"
   ]
  },
  {
   "cell_type": "code",
   "execution_count": 23,
   "metadata": {},
   "outputs": [
    {
     "data": {
      "text/plain": [
       "'Asabeneh'"
      ]
     },
     "execution_count": 23,
     "metadata": {},
     "output_type": "execute_result"
    }
   ],
   "source": [
    "def print_name(firstname):\n",
    "    return firstname\n",
    "print_name('Asabeneh') # Asabeneh"
   ]
  },
  {
   "cell_type": "code",
   "execution_count": 24,
   "metadata": {},
   "outputs": [
    {
     "data": {
      "text/plain": [
       "'Asabeneh Yetayeh'"
      ]
     },
     "execution_count": 24,
     "metadata": {},
     "output_type": "execute_result"
    }
   ],
   "source": [
    "def print_full_name(firstname, lastname):\n",
    "    space = ' '\n",
    "    full_name = firstname  + space + lastname\n",
    "    return full_name\n",
    "print_full_name(firstname='Asabeneh', lastname='Yetayeh')"
   ]
  },
  {
   "attachments": {},
   "cell_type": "markdown",
   "metadata": {},
   "source": [
    "* **Devolviendo un número**"
   ]
  },
  {
   "cell_type": "code",
   "execution_count": 25,
   "metadata": {},
   "outputs": [
    {
     "name": "stdout",
     "output_type": "stream",
     "text": [
      "5\n"
     ]
    }
   ],
   "source": [
    "def add_two_numbers (num1, num2):\n",
    "    total = num1 + num2\n",
    "    return total\n",
    "print(add_two_numbers(2, 3))"
   ]
  },
  {
   "cell_type": "code",
   "execution_count": 26,
   "metadata": {},
   "outputs": [
    {
     "name": "stdout",
     "output_type": "stream",
     "text": [
      "Age:  200\n"
     ]
    }
   ],
   "source": [
    "def calculate_age (current_year, birth_year):\n",
    "    age = current_year - birth_year\n",
    "    return age;\n",
    "print('Age: ', calculate_age(2019, 1819))"
   ]
  },
  {
   "attachments": {},
   "cell_type": "markdown",
   "metadata": {},
   "source": [
    "* **Devolver un valor booleano**"
   ]
  },
  {
   "cell_type": "code",
   "execution_count": 27,
   "metadata": {},
   "outputs": [
    {
     "name": "stdout",
     "output_type": "stream",
     "text": [
      "even\n",
      "True\n",
      "False\n"
     ]
    }
   ],
   "source": [
    "def is_even (n):\n",
    "    if n % 2 == 0:\n",
    "        print('even')\n",
    "        return True    # return stops further execution of the function, similar to break\n",
    "    return False\n",
    "print(is_even(10)) # True\n",
    "print(is_even(7)) # False"
   ]
  },
  {
   "attachments": {},
   "cell_type": "markdown",
   "metadata": {},
   "source": [
    "* **Devolver una lista**"
   ]
  },
  {
   "cell_type": "code",
   "execution_count": 28,
   "metadata": {},
   "outputs": [
    {
     "name": "stdout",
     "output_type": "stream",
     "text": [
      "[0, 2, 4, 6, 8, 10]\n"
     ]
    }
   ],
   "source": [
    "def find_even_numbers(n):\n",
    "    evens = []\n",
    "    for i in range(n + 1):\n",
    "        if i % 2 == 0:\n",
    "            evens.append(i)\n",
    "    return evens\n",
    "print(find_even_numbers(10))"
   ]
  },
  {
   "attachments": {},
   "cell_type": "markdown",
   "metadata": {},
   "source": [
    "#### **Función con parámetros predeterminados**"
   ]
  },
  {
   "attachments": {},
   "cell_type": "markdown",
   "metadata": {},
   "source": [
    "A veces pasamos valores predeterminados a los parámetros, cuando invocamos la función. Si no pasamos argumentos al llamar a la función, se utilizarán sus valores predeterminados."
   ]
  },
  {
   "attachments": {},
   "cell_type": "markdown",
   "metadata": {},
   "source": [
    "```\n",
    "# syntax\n",
    "# Declaring a function\n",
    "def function_name(param = value):\n",
    "    codes\n",
    "    codes\n",
    "# Calling function\n",
    "function_name()\n",
    "function_name(arg)\n",
    "```"
   ]
  },
  {
   "cell_type": "code",
   "execution_count": 29,
   "metadata": {},
   "outputs": [
    {
     "name": "stdout",
     "output_type": "stream",
     "text": [
      "Peter, welcome to Python for Everyone!\n",
      "Asabeneh, welcome to Python for Everyone!\n"
     ]
    }
   ],
   "source": [
    "def greetings (name = 'Peter'):\n",
    "    message = name + ', welcome to Python for Everyone!'\n",
    "    return message\n",
    "print(greetings())\n",
    "print(greetings('Asabeneh'))"
   ]
  },
  {
   "cell_type": "code",
   "execution_count": 30,
   "metadata": {},
   "outputs": [
    {
     "name": "stdout",
     "output_type": "stream",
     "text": [
      "Asabeneh Yetayeh\n",
      "David Smith\n"
     ]
    }
   ],
   "source": [
    "def generate_full_name (first_name = 'Asabeneh', last_name = 'Yetayeh'):\n",
    "    space = ' '\n",
    "    full_name = first_name + space + last_name\n",
    "    return full_name\n",
    "\n",
    "print(generate_full_name())\n",
    "print(generate_full_name('David','Smith'))"
   ]
  },
  {
   "cell_type": "code",
   "execution_count": 31,
   "metadata": {},
   "outputs": [
    {
     "name": "stdout",
     "output_type": "stream",
     "text": [
      "Age:  200\n"
     ]
    }
   ],
   "source": [
    "def calculate_age (birth_year,current_year = 2021):\n",
    "    age = current_year - birth_year\n",
    "    return age;\n",
    "print('Age: ', calculate_age(1821))"
   ]
  },
  {
   "cell_type": "code",
   "execution_count": 32,
   "metadata": {},
   "outputs": [
    {
     "name": "stdout",
     "output_type": "stream",
     "text": [
      "Weight of an object in Newtons:  981.0 N\n",
      "Weight of an object in Newtons:  162.0 N\n"
     ]
    }
   ],
   "source": [
    "def weight_of_object (mass, gravity = 9.81):\n",
    "    weight = str(mass * gravity)+ ' N' # the value has to be changed to string first\n",
    "    return weight\n",
    "print('Weight of an object in Newtons: ', weight_of_object(100)) # 9.81 - average gravity on Earth's surface\n",
    "print('Weight of an object in Newtons: ', weight_of_object(100, 1.62)) # gravity on the surface of the Moon"
   ]
  },
  {
   "attachments": {},
   "cell_type": "markdown",
   "metadata": {},
   "source": [
    "#### **Número arbitrario de argumentos**"
   ]
  },
  {
   "attachments": {},
   "cell_type": "markdown",
   "metadata": {},
   "source": [
    "Si no conocemos la cantidad de argumentos que le pasamos a nuestra función, podemos crear una función que pueda tomar una cantidad arbitraria de argumentos agregando `*` antes del nombre del parámetro."
   ]
  },
  {
   "attachments": {},
   "cell_type": "markdown",
   "metadata": {},
   "source": [
    "```\n",
    "# syntax\n",
    "# Declaring a function\n",
    "def function_name(*args):\n",
    "    codes\n",
    "    codes\n",
    "# Calling function\n",
    "function_name(param1, param2, param3,..)\n",
    "```"
   ]
  },
  {
   "cell_type": "code",
   "execution_count": 33,
   "metadata": {},
   "outputs": [
    {
     "name": "stdout",
     "output_type": "stream",
     "text": [
      "10\n"
     ]
    }
   ],
   "source": [
    "def sum_all_nums(*nums):\n",
    "    total = 0\n",
    "    for num in nums:\n",
    "        total += num     # same as total = total + num\n",
    "    return total\n",
    "print(sum_all_nums(2, 3, 5)) # 10"
   ]
  },
  {
   "attachments": {},
   "cell_type": "markdown",
   "metadata": {},
   "source": [
    "#### **Número predeterminado y arbitrario de parámetros en funciones**"
   ]
  },
  {
   "cell_type": "code",
   "execution_count": 34,
   "metadata": {},
   "outputs": [
    {
     "name": "stdout",
     "output_type": "stream",
     "text": [
      "Team-1\n",
      "Asabeneh\n",
      "Brook\n",
      "David\n",
      "Eyob\n",
      "None\n"
     ]
    }
   ],
   "source": [
    "def generate_groups (team,*args):\n",
    "    print(team)\n",
    "    for i in args:\n",
    "        print(i)\n",
    "print(generate_groups('Team-1','Asabeneh','Brook','David','Eyob'))"
   ]
  },
  {
   "attachments": {},
   "cell_type": "markdown",
   "metadata": {},
   "source": [
    "#### **Función como parámetro de otra función**"
   ]
  },
  {
   "cell_type": "code",
   "execution_count": 35,
   "metadata": {},
   "outputs": [
    {
     "name": "stdout",
     "output_type": "stream",
     "text": [
      "9\n"
     ]
    }
   ],
   "source": [
    "#You can pass functions around as parameters\n",
    "def square_number (n):\n",
    "    return n * n\n",
    "def do_something(f, x):\n",
    "    return f(x)\n",
    "print(do_something(square_number, 3)) # 9"
   ]
  },
  {
   "attachments": {},
   "cell_type": "markdown",
   "metadata": {},
   "source": [
    "## **Parámetros de una función**"
   ]
  },
  {
   "attachments": {},
   "cell_type": "markdown",
   "metadata": {},
   "source": [
    "En Python, los parámetros de una función son los valores que se pasan a la función como argumentos cuando se la llama. Estos parámetros son utilizados por la función para realizar ciertas operaciones o cálculos.\n",
    "\n",
    "Los parámetros se definen dentro de los paréntesis de la función, separados por comas. Cada parámetro tiene un nombre que se utiliza dentro del cuerpo de la función para referirse a su valor. Cuando se llama a la función, se deben proporcionar los valores correspondientes a cada uno de los parámetros en el mismo orden en que se definieron.\n",
    "\n",
    "Aquí hay un ejemplo de una función con parámetros en Python:"
   ]
  },
  {
   "cell_type": "code",
   "execution_count": 1,
   "metadata": {},
   "outputs": [],
   "source": [
    "def sumar(a, b):\n",
    "    resultado = a + b\n",
    "    return resultado"
   ]
  },
  {
   "attachments": {},
   "cell_type": "markdown",
   "metadata": {},
   "source": [
    "En este ejemplo, la función `\"sumar\"` tiene dos parámetros, `\"a\"` y `\"b\"`, que se utilizan para calcular la suma de los dos valores. Dentro del cuerpo de la función, se utiliza el operador `\"+\"` para sumar los dos parámetros y se almacena el resultado en la variable `\"resultado\"`. Luego, se utiliza la palabra clave `\"return\"` para devolver el resultado.\n",
    "\n",
    "Para llamar a la función `\"sumar\"`, se deben proporcionar dos valores como argumentos, que se corresponden con los parámetros `\"a\"` y `\"b\"`:"
   ]
  },
  {
   "cell_type": "code",
   "execution_count": 2,
   "metadata": {},
   "outputs": [
    {
     "name": "stdout",
     "output_type": "stream",
     "text": [
      "5\n"
     ]
    }
   ],
   "source": [
    "resultado = sumar(2, 3)\n",
    "print(resultado)"
   ]
  },
  {
   "attachments": {},
   "cell_type": "markdown",
   "metadata": {},
   "source": [
    "Este código imprimirá `\"5\"` en la consola, ya que la función `\"sumar\"` se llama con los valores `2` y `3`, que se corresponden con los parámetros `\"a\"` y `\"b\"`, respectivamente.\n",
    "\n",
    "Los parámetros de una función también pueden tener valores predeterminados, que se utilizan si no se proporciona un valor para ese parámetro al llamar a la función. Por ejemplo:"
   ]
  },
  {
   "cell_type": "code",
   "execution_count": 3,
   "metadata": {},
   "outputs": [],
   "source": [
    "def saludar(nombre=\"amigo\"):\n",
    "    print(\"Hola, \" + nombre + \"!\")"
   ]
  },
  {
   "attachments": {},
   "cell_type": "markdown",
   "metadata": {},
   "source": [
    "En este ejemplo, la función `\"saludar\"` tiene un parámetro `\"nombre\"` con un valor predeterminado de `\"amigo\"`. Si se llama a la función sin proporcionar un valor para el parámetro `\"nombre\"`, se utilizará el valor predeterminado:"
   ]
  },
  {
   "cell_type": "code",
   "execution_count": 4,
   "metadata": {},
   "outputs": [
    {
     "name": "stdout",
     "output_type": "stream",
     "text": [
      "Hola, amigo!\n"
     ]
    }
   ],
   "source": [
    "saludar()"
   ]
  },
  {
   "attachments": {},
   "cell_type": "markdown",
   "metadata": {},
   "source": [
    "Este código imprimirá `\"Hola, amigo!\"` en la consola.\n",
    "\n",
    "En resumen, los parámetros de una función en Python son los valores que se pasan a la función como argumentos cuando se la llama. Los parámetros se definen dentro de los paréntesis de la función, separados por comas, y se utilizan dentro del cuerpo de la función para realizar operaciones o cálculos. Los parámetros también pueden tener valores predeterminados que se utilizan si no se proporciona un valor explícito al llamar a la función."
   ]
  },
  {
   "attachments": {},
   "cell_type": "markdown",
   "metadata": {},
   "source": [
    "## **Número de argumentos arbitrario**"
   ]
  },
  {
   "attachments": {},
   "cell_type": "markdown",
   "metadata": {},
   "source": [
    "En Python, los `\"número de argumentos arbitrarios\"` son una forma de definir funciones que pueden aceptar un número variable de argumentos. Esto significa que la función puede aceptar cualquier cantidad de argumentos al ser llamada, en lugar de una cantidad fija.\n",
    "\n",
    "Python proporciona dos formas de definir una función con un número de argumentos arbitrarios: `*args` y `**kwargs`.\n",
    "\n",
    "`*args` se utiliza para aceptar un número arbitrario de argumentos posicionales. Estos argumentos se pasan como una tupla, y se pueden acceder dentro de la función utilizando el nombre del parámetro seguido de un asterisco.\n",
    "\n",
    "Aquí hay un ejemplo de una función que utiliza `*args`:"
   ]
  },
  {
   "cell_type": "code",
   "execution_count": 5,
   "metadata": {},
   "outputs": [],
   "source": [
    "def sumar(*args):\n",
    "    resultado = 0\n",
    "    for numero in args:\n",
    "        resultado += numero\n",
    "    return resultado"
   ]
  },
  {
   "attachments": {},
   "cell_type": "markdown",
   "metadata": {},
   "source": [
    "En este ejemplo, la función `\"sumar\"` utiliza `*args` para aceptar un número arbitrario de argumentos. Dentro de la función, se inicializa una variable `\"resultado\"` en cero y se itera sobre los argumentos con un bucle `for`. Cada argumento se agrega a la variable `\"resultado\"` y, finalmente, se devuelve el resultado.\n",
    "\n",
    "La función `\"sumar\"` se puede llamar con cualquier cantidad de argumentos, como este:"
   ]
  },
  {
   "cell_type": "code",
   "execution_count": 6,
   "metadata": {},
   "outputs": [
    {
     "name": "stdout",
     "output_type": "stream",
     "text": [
      "15\n"
     ]
    }
   ],
   "source": [
    "resultado = sumar(1, 2, 3, 4, 5)\n",
    "print(resultado)"
   ]
  },
  {
   "attachments": {},
   "cell_type": "markdown",
   "metadata": {},
   "source": [
    "Este código imprimirá `\"15\"` en la consola, ya que la función `\"sumar\"` se llama con cinco argumentos, que se agregan juntos y se devuelven.\n",
    "\n",
    "`**kwargs` se utiliza para aceptar un número arbitrario de argumentos con nombres. Estos argumentos se pasan como un diccionario, donde cada clave es el nombre del argumento y cada valor es el valor del argumento. Se pueden acceder dentro de la función utilizando el nombre del parámetro seguido de dos asteriscos.\n",
    "\n",
    "Aquí hay un ejemplo de una función que utiliza `**kwargs`:"
   ]
  },
  {
   "cell_type": "code",
   "execution_count": 7,
   "metadata": {},
   "outputs": [],
   "source": [
    "def imprimir_datos(**kwargs):\n",
    "    for clave, valor in kwargs.items():\n",
    "        print(clave + \": \" + str(valor))"
   ]
  },
  {
   "attachments": {},
   "cell_type": "markdown",
   "metadata": {},
   "source": [
    "En este ejemplo, la función `\"imprimir_datos\"` utiliza `**kwargs` para aceptar un número arbitrario de argumentos con nombres. Dentro de la función, se itera sobre los argumentos utilizando un bucle `for` y se imprime cada clave y valor.\n",
    "\n",
    "La función `\"imprimir_datos\"` se puede llamar con cualquier cantidad de argumentos con nombres, como este:"
   ]
  },
  {
   "cell_type": "code",
   "execution_count": 8,
   "metadata": {},
   "outputs": [
    {
     "name": "stdout",
     "output_type": "stream",
     "text": [
      "nombre: Juan\n",
      "edad: 25\n",
      "ciudad: Buenos Aires\n"
     ]
    }
   ],
   "source": [
    "imprimir_datos(nombre=\"Juan\", edad=25, ciudad=\"Buenos Aires\")"
   ]
  },
  {
   "attachments": {},
   "cell_type": "markdown",
   "metadata": {},
   "source": [
    "En resumen, los `\"número de argumentos arbitrarios\"` en Python son una forma de definir funciones que pueden aceptar un número variable de argumentos. `*args` se utiliza para aceptar un número arbitrario de argumentos posicionales, mientras que `**kwargs` se utiliza para aceptar un número arbitrario de argumentos con nombres. Estos argumentos se pasan como una `tupla` y un `diccionario`, respectivamente, y se pueden acceder dentro de la función utilizando el nombre del parámetro seguido de uno o dos asteriscos."
   ]
  },
  {
   "attachments": {},
   "cell_type": "markdown",
   "metadata": {},
   "source": [
    "## **Número arbitrario de claves de argumento**"
   ]
  },
  {
   "attachments": {},
   "cell_type": "markdown",
   "metadata": {},
   "source": [
    "En Python, los `\"número arbitrario de claves de argumento\"` son una forma de definir funciones que pueden aceptar un número variable de argumentos con nombres. Esto significa que la función puede aceptar cualquier cantidad de argumentos con nombres al ser llamada, en lugar de una cantidad fija.\n",
    "\n",
    "Para definir una función con un número arbitrario de claves de argumento, se utiliza el doble asterisco `(**)`, seguido de un nombre de parámetro. Este parámetro recogerá todos los argumentos con nombre que no se correspondan con ningún otro parámetro definido en la función, y los agrupará en un diccionario.\n",
    "\n",
    "Aquí hay un ejemplo de una función que utiliza un número arbitrario de claves de argumento:"
   ]
  },
  {
   "cell_type": "code",
   "execution_count": 9,
   "metadata": {},
   "outputs": [],
   "source": [
    "def imprimir_info(nombre, edad, **otros_datos):\n",
    "    print(\"Nombre: \" + nombre)\n",
    "    print(\"Edad: \" + str(edad))\n",
    "    for clave, valor in otros_datos.items():\n",
    "        print(clave + \": \" + str(valor))"
   ]
  },
  {
   "attachments": {},
   "cell_type": "markdown",
   "metadata": {},
   "source": [
    "En este ejemplo, la función `\"imprimir_info\"` acepta dos argumentos obligatorios (`nombre` y `edad`) y un número arbitrario de argumentos con nombre (`otros_datos`). Dentro de la función, se imprime el nombre y la edad, y luego se itera sobre los argumentos con nombre utilizando un bucle `for` y se imprimen en la consola.\n",
    "\n",
    "La función `\"imprimir_info\"` se puede llamar con cualquier cantidad de argumentos con nombre, como este:"
   ]
  },
  {
   "cell_type": "code",
   "execution_count": 10,
   "metadata": {},
   "outputs": [
    {
     "name": "stdout",
     "output_type": "stream",
     "text": [
      "Nombre: Juan\n",
      "Edad: 25\n",
      "ciudad: Buenos Aires\n",
      "telefono: 123456789\n"
     ]
    }
   ],
   "source": [
    "imprimir_info(nombre=\"Juan\", edad=25, ciudad=\"Buenos Aires\", telefono=\"123456789\")"
   ]
  },
  {
   "attachments": {},
   "cell_type": "markdown",
   "metadata": {},
   "source": [
    "En resumen, los `\"número arbitrario de claves de argumento\"` en Python son una forma de definir funciones que pueden aceptar un número variable de argumentos con nombres. Para definir una función con un número arbitrario de claves de argumento, se utiliza el doble asterisco `(**)`, seguido de un nombre de parámetro. Este parámetro recogerá todos los argumentos con nombre que no se correspondan con ningún otro parámetro definido en la función, y los agrupará en un diccionario."
   ]
  },
  {
   "attachments": {},
   "cell_type": "markdown",
   "metadata": {},
   "source": [
    "## **Parámetros por defecto**"
   ]
  },
  {
   "attachments": {},
   "cell_type": "markdown",
   "metadata": {},
   "source": [
    "En Python, los parámetros por defecto son valores predeterminados que se le asignan a los parámetros de una función. Estos valores se utilizan si la función se llama sin proporcionar un valor para el parámetro correspondiente.\n",
    "\n",
    "Para definir un parámetro por defecto, se utiliza el signo igual `(=)` seguido del valor predeterminado que se le desea asignar al parámetro. Aquí hay un ejemplo de una función que utiliza parámetros por defecto:"
   ]
  },
  {
   "cell_type": "code",
   "execution_count": 11,
   "metadata": {},
   "outputs": [],
   "source": [
    "def saludar(nombre, saludo=\"Hola\"):\n",
    "    print(saludo + \", \" + nombre + \"!\")"
   ]
  },
  {
   "attachments": {},
   "cell_type": "markdown",
   "metadata": {},
   "source": [
    "En este ejemplo, la función `\"saludar\"` acepta dos parámetros: `\"nombre\"` y `\"saludo\"`. El parámetro `\"nombre\"` es obligatorio, mientras que el parámetro `\"saludo\"` tiene un valor predeterminado de `\"Hola\"`. Si la función se llama sin proporcionar un valor para el parámetro `\"saludo\"`, se utilizará el valor predeterminado.\n",
    "\n",
    "Aquí hay algunos ejemplos de cómo se puede llamar a la función `\"saludar\"`:"
   ]
  },
  {
   "cell_type": "code",
   "execution_count": 12,
   "metadata": {},
   "outputs": [
    {
     "name": "stdout",
     "output_type": "stream",
     "text": [
      "Hola, Juan!\n"
     ]
    }
   ],
   "source": [
    "saludar(\"Juan\")"
   ]
  },
  {
   "cell_type": "code",
   "execution_count": 13,
   "metadata": {},
   "outputs": [
    {
     "name": "stdout",
     "output_type": "stream",
     "text": [
      "Buenos días, María!\n"
     ]
    }
   ],
   "source": [
    "saludar(\"María\", \"Buenos días\")"
   ]
  },
  {
   "attachments": {},
   "cell_type": "markdown",
   "metadata": {},
   "source": [
    "En resumen, los parámetros por defecto en Python son valores predeterminados que se le asignan a los parámetros de una función. Estos valores se utilizan si la función se llama sin proporcionar un valor para el parámetro correspondiente. Para definir un parámetro por defecto, se utiliza el signo igual `(=)` seguido del valor predeterminado que se le desea asignar al parámetro."
   ]
  },
  {
   "attachments": {},
   "cell_type": "markdown",
   "metadata": {},
   "source": [
    "## **Docstring**"
   ]
  },
  {
   "attachments": {},
   "cell_type": "markdown",
   "metadata": {},
   "source": [
    "En Python, el `\"docstring\"` es una cadena de texto que se utiliza para documentar una función, clase, módulo u objeto. El objetivo del `docstring` es proporcionar información útil sobre la función o el objeto al programador que lo utiliza.\n",
    "\n",
    "El `docstring` se escribe como un comentario de varias líneas al principio del objeto que se está documentando. El comentario debe comenzar y terminar con tres comillas dobles `(\"\"\")` y puede incluir una descripción de lo que hace la función, los parámetros que acepta, los valores de retorno que devuelve, y cualquier otra información relevante.\n",
    "\n",
    "Aquí hay un ejemplo de una función documentada con un `docstring`:"
   ]
  },
  {
   "cell_type": "code",
   "execution_count": 14,
   "metadata": {},
   "outputs": [],
   "source": [
    "def suma(a, b):\n",
    "    \"\"\"\n",
    "    Esta función calcula la suma de dos números.\n",
    "\n",
    "    Parámetros:\n",
    "    a (float): el primer número.\n",
    "    b (float): el segundo número.\n",
    "\n",
    "    Returns:\n",
    "    float: la suma de los dos números.\n",
    "    \"\"\"\n",
    "    return a + b"
   ]
  },
  {
   "attachments": {},
   "cell_type": "markdown",
   "metadata": {},
   "source": [
    "En este ejemplo, la función `\"suma\"` se documenta utilizando un `docstring`. El `docstring` comienza y termina con tres comillas dobles, y describe brevemente lo que hace la función, los parámetros que acepta y los valores que devuelve.\n",
    "\n",
    "El docstring se puede acceder utilizando el atributo especial `\"doc\"` del objeto. Por ejemplo:"
   ]
  },
  {
   "cell_type": "code",
   "execution_count": 15,
   "metadata": {},
   "outputs": [
    {
     "name": "stdout",
     "output_type": "stream",
     "text": [
      "\n",
      "    Esta función calcula la suma de dos números.\n",
      "\n",
      "    Parámetros:\n",
      "    a (float): el primer número.\n",
      "    b (float): el segundo número.\n",
      "\n",
      "    Returns:\n",
      "    float: la suma de los dos números.\n",
      "    \n"
     ]
    }
   ],
   "source": [
    "print(suma.__doc__)"
   ]
  },
  {
   "attachments": {},
   "cell_type": "markdown",
   "metadata": {},
   "source": [
    "En resumen, el `docstring` en Python es una cadena de texto que se utiliza para documentar una función, clase, módulo u objeto. El `docstring` se escribe como un comentario de varias líneas al principio del objeto que se está documentando, y describe brevemente lo que hace la función, los parámetros que acepta y los valores que devuelve. El `docstring` se puede acceder utilizando el atributo especial `\"doc\"` del objeto."
   ]
  },
  {
   "attachments": {},
   "cell_type": "markdown",
   "metadata": {},
   "source": [
    "## **Variables locales vs variables globales**"
   ]
  },
  {
   "attachments": {},
   "cell_type": "markdown",
   "metadata": {},
   "source": [
    "En Python, las variables locales son aquellas que se definen dentro de una función y solo se pueden acceder dentro de esa función. Las variables globales son aquellas que se definen fuera de una función y se pueden acceder desde cualquier parte del programa.\n",
    "\n",
    "Aquí hay un ejemplo de una variable local:"
   ]
  },
  {
   "cell_type": "code",
   "execution_count": 16,
   "metadata": {},
   "outputs": [],
   "source": [
    "def suma(a, b):\n",
    "    resultado = a + b\n",
    "    return resultado"
   ]
  },
  {
   "attachments": {},
   "cell_type": "markdown",
   "metadata": {},
   "source": [
    "En este ejemplo, la variable `\"resultado\"` se define dentro de la función `\"suma\"` y solo se puede acceder dentro de esa función.\n",
    "\n",
    "Aquí hay un ejemplo de una variable global:"
   ]
  },
  {
   "cell_type": "code",
   "execution_count": 17,
   "metadata": {},
   "outputs": [],
   "source": [
    "mensaje = \"Hola, mundo!\"\n",
    "\n",
    "def imprimir_mensaje():\n",
    "    print(mensaje)"
   ]
  },
  {
   "attachments": {},
   "cell_type": "markdown",
   "metadata": {},
   "source": [
    "En este ejemplo, la variable `\"mensaje\"` se define fuera de la función `\"imprimir_mensaje\"` y se puede acceder desde dentro de la función.\n",
    "\n",
    "Es importante tener en cuenta que si se define una variable dentro de una función con el mismo nombre que una variable global, la variable local tendrá prioridad y ocultará la variable global. Por ejemplo:"
   ]
  },
  {
   "cell_type": "code",
   "execution_count": 18,
   "metadata": {},
   "outputs": [
    {
     "name": "stdout",
     "output_type": "stream",
     "text": [
      "Hola, amigos!\n",
      "Hola, mundo!\n"
     ]
    }
   ],
   "source": [
    "mensaje = \"Hola, mundo!\"\n",
    "\n",
    "def imprimir_mensaje():\n",
    "    mensaje = \"Hola, amigos!\"\n",
    "    print(mensaje)\n",
    "\n",
    "imprimir_mensaje()\n",
    "print(mensaje)"
   ]
  },
  {
   "attachments": {},
   "cell_type": "markdown",
   "metadata": {},
   "source": [
    "En resumen, las variables locales en Python son aquellas que se definen dentro de una función y solo se pueden acceder dentro de esa función. Las variables globales son aquellas que se definen fuera de una función y se pueden acceder desde cualquier parte del programa. Es importante tener en cuenta que si se define una variable dentro de una función con el mismo nombre que una variable global, la variable local tendrá prioridad y ocultará la variable global."
   ]
  },
  {
   "attachments": {},
   "cell_type": "markdown",
   "metadata": {},
   "source": [
    "## **Paso por copia vs. paso por referencia**"
   ]
  },
  {
   "attachments": {},
   "cell_type": "markdown",
   "metadata": {},
   "source": [
    "En Python, los argumentos de una función se pueden pasar por valor (copia) o por referencia. La diferencia entre estos dos métodos radica en cómo se maneja la memoria y cómo se modifican los valores de las variables dentro de la función.\n",
    "\n",
    "Cuando se pasa un argumento por valor, se crea una copia del valor y se pasa esa copia a la función. Esto significa que cualquier cambio que se haga dentro de la función no afectará a la variable original que se pasó como argumento. Aquí hay un ejemplo:"
   ]
  },
  {
   "cell_type": "code",
   "execution_count": 19,
   "metadata": {},
   "outputs": [
    {
     "name": "stdout",
     "output_type": "stream",
     "text": [
      "5\n",
      "1 2\n"
     ]
    }
   ],
   "source": [
    "def suma(a, b):\n",
    "    a = a + 1\n",
    "    b = b + 1\n",
    "    return a + b\n",
    "\n",
    "x = 1\n",
    "y = 2\n",
    "print(suma(x, y))   # imprime 5\n",
    "print(x, y)         # imprime 1 2"
   ]
  },
  {
   "attachments": {},
   "cell_type": "markdown",
   "metadata": {},
   "source": [
    "En este ejemplo, los valores de `\"x\"` e `\"y\"` no cambian después de llamar a la función `\"suma\"` porque los argumentos se pasaron por valor y se creó una copia de los valores originales.\n",
    "\n",
    "Por otro lado, cuando se pasa un argumento por referencia, se pasa una referencia a la ubicación de memoria de la variable original. Esto significa que cualquier cambio que se haga dentro de la función afectará a la variable original que se pasó como argumento. Aquí hay un ejemplo:"
   ]
  },
  {
   "cell_type": "code",
   "execution_count": 20,
   "metadata": {},
   "outputs": [
    {
     "name": "stdout",
     "output_type": "stream",
     "text": [
      "[1, 2, 3, 4]\n"
     ]
    }
   ],
   "source": [
    "def agregar_elemento(lista, elemento):\n",
    "    lista.append(elemento)\n",
    "\n",
    "numeros = [1, 2, 3]\n",
    "agregar_elemento(numeros, 4)\n",
    "print(numeros)   # imprime [1, 2, 3, 4]"
   ]
  },
  {
   "attachments": {},
   "cell_type": "markdown",
   "metadata": {},
   "source": [
    "En este ejemplo, la función `\"agregar_elemento\"` recibe una referencia a la ubicación de memoria de la lista `\"numeros\"`. Cuando se llama a la función y se agrega un elemento a la lista, el cambio se refleja en la variable original `\"numeros\"`.\n",
    "\n",
    "Es importante tener en cuenta que no todos los tipos de datos se pasan por referencia en Python. Los tipos de datos inmutables, como las cadenas y los números, se pasan por valor. Los tipos de datos mutables, como las listas y los diccionarios, se pasan por referencia.\n",
    "\n",
    "En resumen, en Python, los argumentos de una función se pueden pasar por valor (copia) o por referencia. Cuando se pasa un argumento por valor, se crea una copia del valor y se pasa esa copia a la función. Cuando se pasa un argumento por referencia, se pasa una referencia a la ubicación de memoria de la variable original. Los tipos de datos inmutables se pasan por valor, mientras que los tipos de datos mutables se pasan por referencia."
   ]
  },
  {
   "attachments": {},
   "cell_type": "markdown",
   "metadata": {},
   "source": [
    "## **Funciones más complejas**"
   ]
  },
  {
   "attachments": {},
   "cell_type": "markdown",
   "metadata": {},
   "source": [
    "Las funciones más complejas en Python son aquellas que involucran más de una operación y pueden requerir varios argumentos para llevar a cabo una tarea específica. Estas funciones pueden ser útiles cuando se trabaja en proyectos más grandes o cuando se necesitan realizar tareas repetitivas.\n",
    "\n",
    "Aquí hay un ejemplo de una función más compleja que realiza una serie de operaciones matemáticas:"
   ]
  },
  {
   "cell_type": "code",
   "execution_count": 1,
   "metadata": {},
   "outputs": [],
   "source": [
    "def calcular_media(*numeros):\n",
    "    sumatoria = 0\n",
    "    for numero in numeros:\n",
    "        sumatoria += numero\n",
    "    media = sumatoria / len(numeros)\n",
    "    varianza = sum((numero - media) ** 2 for numero in numeros) / len(numeros)\n",
    "    desviacion_estandar = varianza ** 0.5\n",
    "    return media, varianza, desviacion_estandar"
   ]
  },
  {
   "attachments": {},
   "cell_type": "markdown",
   "metadata": {},
   "source": [
    "Esta función toma una cantidad variable de argumentos numéricos y devuelve la media, la varianza y la desviación estándar de esos números. En el cuerpo de la función, se realiza una serie de operaciones matemáticas para calcular estos valores.\n",
    "\n",
    "Para calcular la media, se suma cada número y se divide por el número total de argumentos. Para calcular la varianza, se resta cada número de la media, se eleva al cuadrado y se divide por el número total de argumentos. Luego, se suman estas diferencias al cuadrado y se divide por el número total de argumentos para obtener la varianza. Finalmente, para calcular la desviación estándar, se toma la raíz cuadrada de la varianza.\n",
    "\n",
    "Aquí hay un ejemplo de cómo se puede llamar a esta función:"
   ]
  },
  {
   "cell_type": "code",
   "execution_count": 2,
   "metadata": {},
   "outputs": [
    {
     "name": "stdout",
     "output_type": "stream",
     "text": [
      "(3.0, 2.0, 1.4142135623730951)\n"
     ]
    }
   ],
   "source": [
    "resultado = calcular_media(1, 2, 3, 4, 5)\n",
    "print(resultado)   # imprime (3.0, 2.0, 1.4142135623730951)"
   ]
  },
  {
   "attachments": {},
   "cell_type": "markdown",
   "metadata": {},
   "source": [
    "En este ejemplo, se llama a la función `\"calcular_media\"` con cinco argumentos numéricos. La función devuelve una tupla que contiene la media, la varianza y la desviación estándar de estos números.\n",
    "\n",
    "Las funciones más complejas en Python pueden ser muy útiles cuando se necesitan realizar tareas más complejas o cuando se trabaja en proyectos más grandes. Estas funciones pueden ahorrar tiempo y esfuerzo al automatizar tareas repetitivas y reducir el código redundante."
   ]
  },
  {
   "attachments": {},
   "cell_type": "markdown",
   "metadata": {},
   "source": [
    "## **Funciones recursivas**"
   ]
  },
  {
   "attachments": {},
   "cell_type": "markdown",
   "metadata": {},
   "source": [
    "Las funciones recursivas son aquellas que se llaman a sí mismas dentro de su propio cuerpo. Esto puede ser útil cuando se necesitan resolver problemas que se pueden descomponer en subproblemas más pequeños y similares. En Python, se pueden implementar funciones recursivas de manera similar a otras funciones, pero con la adición de una llamada recursiva dentro del cuerpo de la función.\n",
    "\n",
    "Aquí hay un ejemplo de una función recursiva que calcula el factorial de un número:"
   ]
  },
  {
   "cell_type": "code",
   "execution_count": 3,
   "metadata": {},
   "outputs": [],
   "source": [
    "def factorial(n):\n",
    "    if n == 0:\n",
    "        return 1\n",
    "    else:\n",
    "        return n * factorial(n - 1)"
   ]
  },
  {
   "attachments": {},
   "cell_type": "markdown",
   "metadata": {},
   "source": [
    "En este ejemplo, la función `\"factorial\"` toma un argumento `\"n\"` y devuelve el factorial de ese número. Si el número es `0`, la función devuelve `1`, lo que es el caso base de la recursión. Si el número no es `0`, la función se llama a sí misma con un argumento reducido en `1` y se multiplica por el número original.\n",
    "\n",
    "Aquí hay un ejemplo de cómo se puede llamar a esta función:"
   ]
  },
  {
   "cell_type": "code",
   "execution_count": 4,
   "metadata": {},
   "outputs": [
    {
     "name": "stdout",
     "output_type": "stream",
     "text": [
      "120\n"
     ]
    }
   ],
   "source": [
    "resultado = factorial(5)\n",
    "print(resultado)   # imprime 120"
   ]
  },
  {
   "attachments": {},
   "cell_type": "markdown",
   "metadata": {},
   "source": [
    "En este ejemplo, se llama a la función `\"factorial\"` con el argumento `5`. La función se llama a sí misma cuatro veces (con los argumentos `4`, `3`, `2` y `1`) antes de llegar al caso base y devolver el resultado.\n",
    "\n",
    "Es importante tener en cuenta que las funciones recursivas pueden ser muy útiles para resolver ciertos tipos de problemas, pero también pueden ser menos eficientes que las funciones iterativas en algunos casos. Esto se debe a que la llamada recursiva crea una nueva instancia de la función en la pila de llamadas, lo que puede generar un uso excesivo de la memoria y un tiempo de ejecución más lento en algunas situaciones.\n",
    "\n",
    "En resumen, las funciones recursivas en Python son útiles cuando se necesitan resolver problemas que se pueden descomponer en subproblemas más pequeños y similares. Aunque pueden ser menos eficientes en algunos casos, pueden ser una herramienta poderosa en el kit de herramientas de un programador."
   ]
  },
  {
   "attachments": {},
   "cell_type": "markdown",
   "metadata": {},
   "source": [
    "## **Funciones helper**"
   ]
  },
  {
   "attachments": {},
   "cell_type": "markdown",
   "metadata": {},
   "source": [
    "Las funciones `helper` en Python son aquellas que se utilizan para realizar tareas auxiliares dentro de una función principal. Estas funciones no están destinadas a ser utilizadas fuera de la función principal, y su propósito es ayudar a la función principal a realizar su tarea de manera más eficiente y efectiva.\n",
    "\n",
    "La ventaja de usar funciones `helper` es que ayuda a simplificar el código y lo hace más fácil de entender. Además, también puede ayudar a hacer el código más modular y escalable, ya que las funciones `helper` pueden ser reutilizadas en otras partes del programa si es necesario.\n",
    "\n",
    "Aquí hay un ejemplo de cómo se puede utilizar una función `helper` en Python:"
   ]
  },
  {
   "cell_type": "code",
   "execution_count": 7,
   "metadata": {},
   "outputs": [],
   "source": [
    "def calcular_promedio(lista):\n",
    "    def sumar_elementos(lista):\n",
    "        suma = 0\n",
    "        for elemento in lista:\n",
    "            suma += elemento\n",
    "        return suma\n",
    "\n",
    "    cantidad = len(lista)\n",
    "    suma_total = sumar_elementos(lista)\n",
    "    promedio = suma_total / cantidad\n",
    "    return promedio"
   ]
  },
  {
   "attachments": {},
   "cell_type": "markdown",
   "metadata": {},
   "source": [
    "En este ejemplo, la función principal `\"calcular_promedio\"` toma una lista de números como argumento y devuelve su promedio. La función helper `\"sumar_elementos\"` se define dentro del cuerpo de la función principal y se utiliza para sumar los elementos de la lista. La función principal utiliza el valor devuelto por la función helper para calcular el promedio y lo devuelve.\n",
    "\n",
    "Es importante tener en cuenta que la función helper `\"sumar_elementos\"` no se puede llamar desde fuera de la función principal `\"calcular_promedio\"`, ya que no está definida en el espacio de nombres global. Su alcance se limita a la función principal.\n",
    "\n",
    "En resumen, las funciones helper son una herramienta útil en Python para simplificar y modularizar el código. Pueden ayudar a hacer el código más fácil de entender y mantener, y pueden ser una buena opción cuando se necesita realizar tareas auxiliares dentro de una función principal."
   ]
  },
  {
   "attachments": {},
   "cell_type": "markdown",
   "metadata": {},
   "source": [
    "| **Inicio** | **atrás 9** | **Siguiente 11** |\n",
    "|----------- |-------------- |---------------|\n",
    "| [🏠](../../README.md) | [⏪](./9.Estructuras_de_datos_Tuplas.ipynb)| [⏩](./11.Funciones_Lambda.ipynb)|"
   ]
  }
 ],
 "metadata": {
  "kernelspec": {
   "display_name": "base",
   "language": "python",
   "name": "python3"
  },
  "language_info": {
   "codemirror_mode": {
    "name": "ipython",
    "version": 3
   },
   "file_extension": ".py",
   "mimetype": "text/x-python",
   "name": "python",
   "nbconvert_exporter": "python",
   "pygments_lexer": "ipython3",
   "version": "3.9.12"
  },
  "orig_nbformat": 4
 },
 "nbformat": 4,
 "nbformat_minor": 2
}
