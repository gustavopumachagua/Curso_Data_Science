{
 "cells": [
  {
   "attachments": {},
   "cell_type": "markdown",
   "metadata": {},
   "source": [
    "| **Inicio** | **atrás 2** | **Siguiente 4** |\n",
    "|----------- |-------------- |---------------|\n",
    "| [🏠](../../README.md) | [⏪](./2.Numeros_en_Python.ipynb)| [⏩](./4.Operadores_de_decision.ipynb)|"
   ]
  },
  {
   "attachments": {},
   "cell_type": "markdown",
   "metadata": {},
   "source": [
    "# **3. Strings en Python**"
   ]
  },
  {
   "attachments": {},
   "cell_type": "markdown",
   "metadata": {},
   "source": [
    "## **Variable de tipo string**"
   ]
  },
  {
   "attachments": {},
   "cell_type": "markdown",
   "metadata": {},
   "source": [
    "En Python, una variable de tipo `string (o cadena de caracteres)` es una secuencia de caracteres alfanuméricos, que se utilizan para representar texto. Las cadenas de caracteres se escriben entre comillas dobles `(\" \")` o simples `(' ')`, y pueden contener letras, números, símbolos y espacios en blanco.\n",
    "\n",
    "Por ejemplo, una variable de tipo `string` puede contener el nombre de una persona, una dirección de correo electrónico, una frase o un párrafo completo.\n",
    "\n",
    "A continuación, te mostraré algunos ejemplos de variables de tipo `string` en Python:"
   ]
  },
  {
   "cell_type": "code",
   "execution_count": 1,
   "metadata": {},
   "outputs": [
    {
     "name": "stdout",
     "output_type": "stream",
     "text": [
      "Juan\n",
      "juan@gmail.com\n",
      "La vida es un viaje, no un destino.\n"
     ]
    }
   ],
   "source": [
    "# Declaración de variables de tipo string\n",
    "nombre = \"Juan\"\n",
    "correo_electronico = \"juan@gmail.com\"\n",
    "frase = \"La vida es un viaje, no un destino.\"\n",
    "\n",
    "# Imprimir el valor de las variables\n",
    "print(nombre) # Juan\n",
    "print(correo_electronico) # juan@gmail.com\n",
    "print(frase) # La vida es un viaje, no un destino."
   ]
  },
  {
   "attachments": {},
   "cell_type": "markdown",
   "metadata": {},
   "source": [
    "En Python, las variables de tipo `string` son inmutables, lo que significa que una vez que se han creado, no se pueden modificar directamente. Sin embargo, es posible crear una nueva variable de tipo `string` a partir de una cadena existente utilizando operaciones como la concatenación, la división y la sustitución."
   ]
  },
  {
   "cell_type": "code",
   "execution_count": 2,
   "metadata": {},
   "outputs": [
    {
     "name": "stdout",
     "output_type": "stream",
     "text": [
      "Juan Perez\n",
      "['La', 'vida', 'es', 'un', 'viaje,', 'no', 'un', 'destino.']\n",
      "La vida es un aventura, no un destino.\n"
     ]
    }
   ],
   "source": [
    "# Concatenación de strings\n",
    "nombre_completo = nombre + \" Perez\"\n",
    "print(nombre_completo) # Juan Perez\n",
    "\n",
    "# División de strings\n",
    "palabras = frase.split()\n",
    "print(palabras) # ['La', 'vida', 'es', 'un', 'viaje,', 'no', 'un', 'destino.']\n",
    "\n",
    "# Sustitución de caracteres en una string\n",
    "nueva_frase = frase.replace(\"viaje\", \"aventura\")\n",
    "print(nueva_frase) # La vida es un aventura, no un destino."
   ]
  },
  {
   "attachments": {},
   "cell_type": "markdown",
   "metadata": {},
   "source": [
    "En resumen, una variable de tipo `string` en Python es una secuencia de caracteres alfanuméricos que se utilizan para representar texto. Se escriben entre comillas simples o dobles y se pueden utilizar para almacenar nombres, direcciones de correo electrónico, frases o párrafos completos. Las variables de tipo `string` son inmutables, pero se pueden manipular para crear nuevas variables a partir de cadenas existentes utilizando operaciones como la concatenación, la división y la sustitución."
   ]
  },
  {
   "attachments": {},
   "cell_type": "markdown",
   "metadata": {},
   "source": [
    "## **Los string literals**"
   ]
  },
  {
   "attachments": {},
   "cell_type": "markdown",
   "metadata": {},
   "source": [
    "En Python, los `string literals` (o `literales de cadena`) son cadenas de caracteres que se escriben directamente en el código fuente del programa. Los string literals se escriben entre comillas dobles `(\" \")` o simples `(' ')`, y se utilizan para representar texto que no necesita ser modificado o manipulado.\n",
    "\n",
    "Los string literals son útiles cuando se necesita representar texto fijo en el código, como mensajes de error, títulos de programas, nombres de archivo, etc.\n",
    "\n",
    "A continuación, te mostraré algunos ejemplos de string literals en Python:"
   ]
  },
  {
   "cell_type": "code",
   "execution_count": 3,
   "metadata": {},
   "outputs": [
    {
     "name": "stdout",
     "output_type": "stream",
     "text": [
      "Hola, bienvenido al programa.\n",
      "No se pudo completar la operación.\n",
      "Este es un mensaje con un salto de\n",
      "línea y una\ttabulación.\n"
     ]
    }
   ],
   "source": [
    "# String literal con comillas simples\n",
    "mensaje_saludo = 'Hola, bienvenido al programa.'\n",
    "\n",
    "# String literal con comillas dobles\n",
    "mensaje_error = \"No se pudo completar la operación.\"\n",
    "\n",
    "# String literal con caracteres especiales\n",
    "mensaje_especial = \"Este es un mensaje con un salto de\\nlínea y una\\ttabulación.\"\n",
    "\n",
    "# Imprimir los valores de los string literals\n",
    "print(mensaje_saludo) # Hola, bienvenido al programa.\n",
    "print(mensaje_error) # No se pudo completar la operación.\n",
    "print(mensaje_especial) # Este es un mensaje con un salto de\n",
    "                        # línea y una    tabulación."
   ]
  },
  {
   "attachments": {},
   "cell_type": "markdown",
   "metadata": {},
   "source": [
    "Los string literals también pueden ser concatenados utilizando el operador `+`, lo que permite crear nuevas cadenas de caracteres a partir de varios string literals."
   ]
  },
  {
   "cell_type": "code",
   "execution_count": 4,
   "metadata": {},
   "outputs": [
    {
     "name": "stdout",
     "output_type": "stream",
     "text": [
      "Hola, bienvenido al programa. No se pudo completar la operación.\n"
     ]
    }
   ],
   "source": [
    "# Concatenación de string literals\n",
    "mensaje_completo = mensaje_saludo + \" \" + mensaje_error\n",
    "print(mensaje_completo) # Hola, bienvenido al programa. No se pudo completar la operación."
   ]
  },
  {
   "attachments": {},
   "cell_type": "markdown",
   "metadata": {},
   "source": [
    "Los string literals también pueden contener caracteres especiales, como comillas dobles, comillas simples y caracteres de escape. Para incluir estos caracteres en un string literal, es necesario utilizar una barra invertida (`\\`) antes del carácter."
   ]
  },
  {
   "cell_type": "code",
   "execution_count": 5,
   "metadata": {},
   "outputs": [
    {
     "name": "stdout",
     "output_type": "stream",
     "text": [
      "La frase 'Hola mundo' es muy popular.\n",
      "Este es un mensaje con una barra invertida \\ y comillas dobles ' y simples '.\n"
     ]
    }
   ],
   "source": [
    "# String literal con comillas dobles\n",
    "mensaje_comillas = \"La frase 'Hola mundo' es muy popular.\"\n",
    "print(mensaje_comillas)\n",
    "\n",
    "# String literal con caracteres de escape\n",
    "mensaje_escape = \"Este es un mensaje con una barra invertida \\\\ y comillas dobles \\' y simples \\'.\"\n",
    "print(mensaje_escape)"
   ]
  },
  {
   "attachments": {},
   "cell_type": "markdown",
   "metadata": {},
   "source": [
    "En resumen, los string literals en Python son cadenas de caracteres que se escriben directamente en el código fuente del programa. Se escriben entre comillas simples o dobles y se utilizan para representar texto fijo en el código, como mensajes de error, títulos de programas, nombres de archivo, etc. Los string literals pueden ser concatenados para crear nuevas cadenas de caracteres y pueden contener caracteres especiales que se representan mediante una barra invertida (`\\`)."
   ]
  },
  {
   "attachments": {},
   "cell_type": "markdown",
   "metadata": {},
   "source": [
    "## **Concatenación de strings**"
   ]
  },
  {
   "attachments": {},
   "cell_type": "markdown",
   "metadata": {},
   "source": [
    "En Python, la concatenación de strings se refiere a la unión de dos o más strings para crear una cadena más larga. Esto se puede hacer de varias formas, pero la más común es utilizar el operador `\"+\"` para unir dos strings.\n",
    "\n",
    "A continuación, te mostraré algunos ejemplos de concatenación de strings en Python:"
   ]
  },
  {
   "cell_type": "code",
   "execution_count": 6,
   "metadata": {},
   "outputs": [
    {
     "name": "stdout",
     "output_type": "stream",
     "text": [
      "Juan Pérez\n",
      "Hola-mundo-desde-Python\n",
      "Hola, mi nombre es María y tengo 27 años.\n"
     ]
    }
   ],
   "source": [
    "# Concatenación de strings utilizando el operador +\n",
    "nombre = \"Juan\"\n",
    "apellido = \"Pérez\"\n",
    "nombre_completo = nombre + \" \" + apellido\n",
    "print(nombre_completo) # Juan Pérez\n",
    "\n",
    "# Concatenación de strings utilizando el método join()\n",
    "separador = \"-\"\n",
    "palabras = [\"Hola\", \"mundo\", \"desde\", \"Python\"]\n",
    "frase = separador.join(palabras)\n",
    "print(frase) # Hola-mundo-desde-Python\n",
    "\n",
    "# Concatenación de strings utilizando la interpolación de cadenas\n",
    "nombre = \"María\"\n",
    "edad = 27\n",
    "saludo = f\"Hola, mi nombre es {nombre} y tengo {edad} años.\"\n",
    "print(saludo) # Hola, mi nombre es María y tengo 27 años."
   ]
  },
  {
   "attachments": {},
   "cell_type": "markdown",
   "metadata": {},
   "source": [
    "En el primer ejemplo, se unen dos strings (\"Juan\" y \"Pérez\") utilizando el operador `\"+\"`. Luego, se guarda la concatenación en una nueva variable llamada \"`nombre_completo`\" y se imprime en la consola.\n",
    "\n",
    "En el segundo ejemplo, se utiliza el método `\"join()\"` para unir una lista de strings (\"Hola\", \"mundo\", \"desde\", \"Python\") utilizando un separador `(\"-\")`. El resultado se guarda en la variable \"frase\" y se imprime en la consola.\n",
    "\n",
    "En el tercer ejemplo, se utiliza la interpolación de cadenas para crear un string que contiene variables (\"nombre\" y \"edad\") dentro del texto. La sintaxis para la interpolación de cadenas en Python es colocar la letra `\"f\"` antes de la cadena, y luego colocar las variables dentro de llaves `\"{}\"` dentro del texto.\n",
    "\n",
    "Es importante tener en cuenta que la concatenación de strings puede ser costosa en términos de rendimiento si se realizan muchas operaciones de concatenación. En esos casos, es mejor utilizar una lista o un generador para crear la cadena de caracteres, y luego unirlos utilizando el método `\"join()\"`."
   ]
  },
  {
   "attachments": {},
   "cell_type": "markdown",
   "metadata": {},
   "source": [
    "## **Repetición de strings**"
   ]
  },
  {
   "attachments": {},
   "cell_type": "markdown",
   "metadata": {},
   "source": [
    "En Python, la repetición de `strings` se refiere a la creación de una nueva cadena de caracteres que es una repetición de una cadena existente un determinado número de veces. Esto se puede hacer utilizando el operador `\"*\"` para indicar cuántas veces se debe repetir la cadena.\n",
    "\n",
    "A continuación, te mostraré algunos ejemplos de repetición de strings en Python:"
   ]
  },
  {
   "cell_type": "code",
   "execution_count": 7,
   "metadata": {},
   "outputs": [
    {
     "name": "stdout",
     "output_type": "stream",
     "text": [
      "Hola Hola Hola \n",
      "Hola Juan! Hola Juan! \n",
      "La tabla del 5 es: 5 x 1 = 5, 5 x 2 = 10, 5 x 3 = 15\n"
     ]
    }
   ],
   "source": [
    "# Repetición de strings utilizando el operador *\n",
    "saludo = \"Hola \"\n",
    "saludo_repetido = saludo * 3\n",
    "print(saludo_repetido) # Hola Hola Hola\n",
    "\n",
    "# Repetición de strings utilizando el método format()\n",
    "nombre = \"Juan\"\n",
    "saludo_personalizado = \"Hola {}! \".format(nombre)\n",
    "saludo_repetido = saludo_personalizado * 2\n",
    "print(saludo_repetido) # Hola Juan! Hola Juan!\n",
    "\n",
    "# Repetición de strings utilizando f-strings\n",
    "numero = 5\n",
    "tabla_de_multiplicar = f\"La tabla del {numero} es: \"\n",
    "tabla_completa = tabla_de_multiplicar + f\"{numero} x 1 = {numero*1}, {numero} x 2 = {numero*2}, {numero} x 3 = {numero*3}\"\n",
    "print(tabla_completa) # La tabla del 5 es: 5 x 1 = 5, 5 x 2 = 10, 5 x 3 = 15"
   ]
  },
  {
   "attachments": {},
   "cell_type": "markdown",
   "metadata": {},
   "source": [
    "En el primer ejemplo, se repite la cadena \"Hola\" tres veces utilizando el operador `\"*\"`. Luego, se guarda la repetición en una nueva variable llamada \"`saludo_repetido`\" y se imprime en la consola.\n",
    "\n",
    "En el segundo ejemplo, se utiliza el método `\"format()\"` para insertar el nombre \"Juan\" en una cadena de saludo personalizada. Luego, se repite esta cadena dos veces y se guarda en la variable \"`saludo_repetido`\", y finalmente se imprime en la consola.\n",
    "\n",
    "En el tercer ejemplo, se utiliza la interpolación de cadenas `(f-strings)` para crear una cadena que muestra la tabla de multiplicar del número 5. Se define una cadena \"`tabla_de_multiplicar`\" que contiene el número 5, y luego se crea una cadena \"`tabla_completa`\" que incluye el resultado de multiplicar el número por 1, 2 y 3. Finalmente, se imprime la cadena completa en la consola.\n",
    "\n",
    "Es importante tener en cuenta que la repetición de strings puede ser costosa en términos de rendimiento si se realizan muchas operaciones de repetición. En esos casos, es mejor utilizar una lista o un generador para crear la cadena de caracteres, y luego unirlos utilizando el método `\"join()\"`."
   ]
  },
  {
   "attachments": {},
   "cell_type": "markdown",
   "metadata": {},
   "source": [
    "## **Strings**"
   ]
  },
  {
   "attachments": {},
   "cell_type": "markdown",
   "metadata": {},
   "source": [
    "El texto es un tipo de datos de cadena. Cualquier tipo de datos escrito como texto es una cadena. Todos los datos entre comillas simples, dobles o triples son cadenas. Existen diferentes métodos de cadena y funciones integradas para manejar tipos de datos de cadena. Para verificar la longitud de una cadena, use el método `len()`."
   ]
  },
  {
   "attachments": {},
   "cell_type": "markdown",
   "metadata": {},
   "source": [
    "### **Crear una cadena**"
   ]
  },
  {
   "cell_type": "code",
   "execution_count": 8,
   "metadata": {},
   "outputs": [
    {
     "name": "stdout",
     "output_type": "stream",
     "text": [
      "P\n",
      "1\n",
      "Hello, World!\n",
      "13\n",
      "I hope you are enjoying 30 days of Python Challenge\n"
     ]
    }
   ],
   "source": [
    "letter = 'P'                # Una cadena puede ser un solo carácter o un montón de textos\n",
    "print(letter)               # P\n",
    "print(len(letter))          # 1\n",
    "greeting = 'Hello, World!'  # La cadena se puede hacer usando una comilla simple o doble,\"Hello, World!\"\n",
    "print(greeting)             # Hello, World!\n",
    "print(len(greeting))        # 13\n",
    "sentence = \"I hope you are enjoying 30 days of Python Challenge\"\n",
    "print(sentence)"
   ]
  },
  {
   "attachments": {},
   "cell_type": "markdown",
   "metadata": {},
   "source": [
    "La cadena multilínea se crea usando comillas triples simples `(''')` o triples dobles `(\"\"\")`. Consulte el ejemplo a continuación."
   ]
  },
  {
   "cell_type": "code",
   "execution_count": 9,
   "metadata": {},
   "outputs": [
    {
     "name": "stdout",
     "output_type": "stream",
     "text": [
      "I am a teacher and enjoy teaching.\n",
      "I didn't find anything as rewarding as empowering people.\n",
      "That is why I created 30 days of python.\n",
      "I am a teacher and enjoy teaching.\n",
      "I didn't find anything as rewarding as empowering people.\n",
      "That is why I created 30 days of python.\n"
     ]
    }
   ],
   "source": [
    "multiline_string = '''I am a teacher and enjoy teaching.\n",
    "I didn't find anything as rewarding as empowering people.\n",
    "That is why I created 30 days of python.'''\n",
    "print(multiline_string)\n",
    "\n",
    "# Otra forma de hacer lo mismo\n",
    "multiline_string = \"\"\"I am a teacher and enjoy teaching.\n",
    "I didn't find anything as rewarding as empowering people.\n",
    "That is why I created 30 days of python.\"\"\"\n",
    "print(multiline_string)"
   ]
  },
  {
   "attachments": {},
   "cell_type": "markdown",
   "metadata": {},
   "source": [
    "### **Concatenación de cadenas**"
   ]
  },
  {
   "attachments": {},
   "cell_type": "markdown",
   "metadata": {},
   "source": [
    "Podemos conectar string juntas. Combinar o conectar string se llama concatenación. Vea el ejemplo a continuación:"
   ]
  },
  {
   "cell_type": "code",
   "execution_count": 10,
   "metadata": {},
   "outputs": [
    {
     "name": "stdout",
     "output_type": "stream",
     "text": [
      "Asabeneh Yetayeh\n",
      "8\n",
      "7\n",
      "True\n",
      "16\n"
     ]
    }
   ],
   "source": [
    "first_name = 'Asabeneh'\n",
    "last_name = 'Yetayeh'\n",
    "space = ' '\n",
    "full_name = first_name  +  space + last_name\n",
    "print(full_name) # Asabeneh Yetayeh\n",
    "# Verificando la longitud de una cadena usando la función integrada len()\n",
    "print(len(first_name))  # 8\n",
    "print(len(last_name))   # 7\n",
    "print(len(first_name) > len(last_name)) # True\n",
    "print(len(full_name)) # 16"
   ]
  },
  {
   "attachments": {},
   "cell_type": "markdown",
   "metadata": {},
   "source": [
    "### **Secuencias de escape en cadenas**"
   ]
  },
  {
   "attachments": {},
   "cell_type": "markdown",
   "metadata": {},
   "source": [
    "En Python y otros lenguajes de programación `\\` seguido de un carácter es una secuencia de escape. Veamos los caracteres de escape más comunes:\n",
    "\n",
    "* `\\n`: nueva línea\n",
    "* `\\t`: Tabulador significa (8 espacios)\n",
    "* `\\\\`: barra invertida\n",
    "* `\\'`: Una frase (')\n",
    "* `\\\"`: comillas dobles (\")\n",
    "\n",
    "Ahora, veamos el uso de las secuencias de escape anteriores con ejemplos."
   ]
  },
  {
   "cell_type": "code",
   "execution_count": 11,
   "metadata": {},
   "outputs": [
    {
     "name": "stdout",
     "output_type": "stream",
     "text": [
      "I hope everyone is enjoying the Python Challenge.\n",
      "Are you ?\n",
      "Days\tTopics\tExercises\n",
      "Day 1\t3\t5\n",
      "Day 2\t3\t5\n",
      "Day 3\t3\t5\n",
      "Day 4\t3\t5\n",
      "This is a backslash  symbol (\\)\n",
      "In every programming language it starts with \"Hello, World!\"\n"
     ]
    }
   ],
   "source": [
    "print('I hope everyone is enjoying the Python Challenge.\\nAre you ?') # line break\n",
    "print('Days\\tTopics\\tExercises') # agregando espacio de tabulación o 4 espacios\n",
    "print('Day 1\\t3\\t5')\n",
    "print('Day 2\\t3\\t5')\n",
    "print('Day 3\\t3\\t5')\n",
    "print('Day 4\\t3\\t5')\n",
    "print('This is a backslash  symbol (\\\\)') # Para escribir una barra invertida\n",
    "print('In every programming language it starts with \\\"Hello, World!\\\"') # para escribir una comilla doble dentro de una comilla simple"
   ]
  },
  {
   "attachments": {},
   "cell_type": "markdown",
   "metadata": {},
   "source": [
    "## **Formato de cadena**"
   ]
  },
  {
   "attachments": {},
   "cell_type": "markdown",
   "metadata": {},
   "source": [
    "### **Formato de cadena de estilo antiguo (% operador)**"
   ]
  },
  {
   "attachments": {},
   "cell_type": "markdown",
   "metadata": {},
   "source": [
    "En Python hay muchas formas de formatear cadenas. En esta sección, cubriremos algunos de ellos. El operador `\"%\"` se utiliza para formatear un conjunto de variables encerradas en una \"tupla\" (una lista de tamaño fijo), junto con una cadena de formato, que contiene texto normal junto con \"especificadores de argumento\", símbolos especiales como `\"%s\"`, `\"%d\"`, `\"%f\"`, `\"%.número de dígitosf\"`.\n",
    "\n",
    "* `%s` - Cadena (o cualquier objeto con una representación de cadena, como números)\n",
    "* `%d` - Enteros\n",
    "* `%f` - Números de punto flotante\n",
    "* `\"%.number of digitsf\"` - Números de punto flotante con precisión fija"
   ]
  },
  {
   "cell_type": "code",
   "execution_count": 12,
   "metadata": {},
   "outputs": [
    {
     "name": "stdout",
     "output_type": "stream",
     "text": [
      "I am Asabeneh Yetayeh. I teach Python\n",
      "The area of circle with a radius 10 is 314.00.\n",
      "The following are python libraries: ['Django', 'Flask', 'NumPy', 'Matplotlib', 'Pandas']\n"
     ]
    }
   ],
   "source": [
    "# Solo cadenas\n",
    "first_name = 'Asabeneh'\n",
    "last_name = 'Yetayeh'\n",
    "language = 'Python'\n",
    "formated_string = 'I am %s %s. I teach %s' %(first_name, last_name, language)\n",
    "print(formated_string)\n",
    "\n",
    "# Cadenas y números\n",
    "radius = 10\n",
    "pi = 3.14\n",
    "area = pi * radius ** 2\n",
    "formated_string = 'The area of circle with a radius %d is %.2f.' %(radius, area) # 2 se refiere a los 2 dígitos significativos después del punto\n",
    "print(formated_string)\n",
    "\n",
    "python_libraries = ['Django', 'Flask', 'NumPy', 'Matplotlib','Pandas']\n",
    "formated_string = 'The following are python libraries: %s' % (python_libraries)\n",
    "print(formated_string) # \"Las siguientes son bibliotecas de python:['Django', 'Flask', 'NumPy', 'Matplotlib','Pandas']\""
   ]
  },
  {
   "attachments": {},
   "cell_type": "markdown",
   "metadata": {},
   "source": [
    "## **La función print()**"
   ]
  },
  {
   "attachments": {},
   "cell_type": "markdown",
   "metadata": {},
   "source": [
    "En Python, la función `print()` se utiliza para imprimir información en la consola. Esta función es muy útil para mostrar resultados de cálculos, mensajes de error o cualquier otra información que necesitemos visualizar mientras ejecutamos nuestro programa.\n",
    "\n",
    "La sintaxis básica de la función `print()` es la siguiente:"
   ]
  },
  {
   "cell_type": "code",
   "execution_count": 13,
   "metadata": {},
   "outputs": [
    {
     "name": "stdout",
     "output_type": "stream",
     "text": [
      "gaaa\n"
     ]
    }
   ],
   "source": [
    "valor=\"gaaa\"\n",
    "print(valor)"
   ]
  },
  {
   "attachments": {},
   "cell_type": "markdown",
   "metadata": {},
   "source": [
    "Donde `valor` es el valor que se desea imprimir en la consola. Por ejemplo:"
   ]
  },
  {
   "cell_type": "code",
   "execution_count": 14,
   "metadata": {},
   "outputs": [
    {
     "name": "stdout",
     "output_type": "stream",
     "text": [
      "Bienvenido al programa\n",
      "8\n",
      "[1, 2, 3, 4, 5]\n",
      "Mi nombre es Juan y tengo 25 años\n"
     ]
    }
   ],
   "source": [
    "# Imprime un mensaje de bienvenida\n",
    "print(\"Bienvenido al programa\")\n",
    "\n",
    "# Imprime el resultado de una suma\n",
    "a = 3\n",
    "b = 5\n",
    "print(a + b)\n",
    "\n",
    "# Imprime una lista de números\n",
    "numeros = [1, 2, 3, 4, 5]\n",
    "print(numeros)\n",
    "\n",
    "# Imprime una variable con formato\n",
    "nombre = \"Juan\"\n",
    "edad = 25\n",
    "print(\"Mi nombre es {} y tengo {} años\".format(nombre, edad))"
   ]
  },
  {
   "attachments": {},
   "cell_type": "markdown",
   "metadata": {},
   "source": [
    "En el primer ejemplo, la función `print()` se utiliza para imprimir un mensaje de bienvenida en la consola.\n",
    "\n",
    "En el segundo ejemplo, se utiliza la función `print()` para imprimir el resultado de una suma de dos variables. La expresión a + b se evalúa primero y luego se imprime el resultado en la consola.\n",
    "\n",
    "En el tercer ejemplo, se utiliza la función `print()` para imprimir una lista de números. La lista se pasa como un argumento a la función `print()` y se imprime en la consola.\n",
    "\n",
    "En el cuarto ejemplo, se utiliza la función `print()` para imprimir una cadena de caracteres formateada. Se utiliza el método `format()` para insertar los valores de las variables nombre y edad en una cadena de caracteres, y luego se imprime la cadena resultante en la consola.\n",
    "\n",
    "La función `print()` también admite varios argumentos separados por comas, que se imprimirán en la consola como una cadena separada por espacios en blanco. Por ejemplo:"
   ]
  },
  {
   "cell_type": "code",
   "execution_count": 15,
   "metadata": {},
   "outputs": [
    {
     "name": "stdout",
     "output_type": "stream",
     "text": [
      "El valor de a es 3 y el valor de b es 5\n"
     ]
    }
   ],
   "source": [
    "# Imprime varias variables separadas por espacios\n",
    "a = 3\n",
    "b = 5\n",
    "print(\"El valor de a es\", a, \"y el valor de b es\", b)"
   ]
  },
  {
   "attachments": {},
   "cell_type": "markdown",
   "metadata": {},
   "source": [
    "En este ejemplo, se utilizan varios argumentos separados por comas para imprimir los valores de las variables `a` y `b` junto con texto adicional en la consola.\n",
    "\n",
    "La función `print()` también puede aceptar otros argumentos opcionales, como `sep` y `end`, que se utilizan para personalizar la salida. Por ejemplo:"
   ]
  },
  {
   "cell_type": "code",
   "execution_count": 16,
   "metadata": {},
   "outputs": [
    {
     "name": "stdout",
     "output_type": "stream",
     "text": [
      "1, 2, 3, 4, 5\n",
      "Este es un mensaje\n",
      "\n"
     ]
    }
   ],
   "source": [
    "# Imprime una lista de números con comas como separadores\n",
    "numeros = [1, 2, 3, 4, 5]\n",
    "print(*numeros, sep=\", \")\n",
    "\n",
    "# Imprime una cadena con un salto de línea al final\n",
    "print(\"Este es un mensaje\", end=\"\\n\\n\")"
   ]
  },
  {
   "attachments": {},
   "cell_type": "markdown",
   "metadata": {},
   "source": [
    "En el primer ejemplo, se utiliza el operador de desempaquetado `*` para pasar la lista de números como argumentos separados por comas a la función `print()`. Además, se especifica el separador `\", \"` utilizando el argumento `sep`.\n",
    "\n",
    "En el segundo ejemplo, se utiliza el argumento `end` para agregar un salto de línea adicional al final de la salida."
   ]
  },
  {
   "attachments": {},
   "cell_type": "markdown",
   "metadata": {},
   "source": [
    "## **Las funciones str, format y los saltos de línea y tabulaciones**"
   ]
  },
  {
   "attachments": {},
   "cell_type": "markdown",
   "metadata": {},
   "source": [
    "Las funciones `str`, `format` y los saltos de línea y tabulaciones son herramientas útiles en Python para trabajar con cadenas de caracteres. A continuación, se detalla cada una de ellas:"
   ]
  },
  {
   "attachments": {},
   "cell_type": "markdown",
   "metadata": {},
   "source": [
    "* **Función str:**"
   ]
  },
  {
   "attachments": {},
   "cell_type": "markdown",
   "metadata": {},
   "source": [
    "La función `str` se utiliza para convertir valores de cualquier tipo a cadenas de caracteres. Esto puede ser útil cuando necesitamos imprimir valores en una cadena de caracteres o combinar valores de diferentes tipos en una sola cadena.\n",
    "\n",
    "Por ejemplo, si queremos imprimir el valor de la variable `x` junto con una cadena de texto, podemos hacer lo siguiente:"
   ]
  },
  {
   "cell_type": "code",
   "execution_count": 17,
   "metadata": {},
   "outputs": [
    {
     "name": "stdout",
     "output_type": "stream",
     "text": [
      "El valor de x es 5\n"
     ]
    }
   ],
   "source": [
    "x = 5\n",
    "print(\"El valor de x es \" + str(x))"
   ]
  },
  {
   "attachments": {},
   "cell_type": "markdown",
   "metadata": {},
   "source": [
    "En este ejemplo, utilizamos la función `str` para convertir el valor de `x` a una cadena de caracteres, que luego se concatena con la cadena de texto."
   ]
  },
  {
   "attachments": {},
   "cell_type": "markdown",
   "metadata": {},
   "source": [
    "* **Función format:**"
   ]
  },
  {
   "attachments": {},
   "cell_type": "markdown",
   "metadata": {},
   "source": [
    "La función `format` se utiliza para insertar valores en una cadena de caracteres. Esto puede ser útil cuando queremos construir una cadena de texto personalizada que incluya valores variables.\n",
    "\n",
    "Por ejemplo, si queremos imprimir una cadena de texto que incluya el valor de la variable `x`, podemos hacer lo siguiente:"
   ]
  },
  {
   "cell_type": "code",
   "execution_count": 18,
   "metadata": {},
   "outputs": [
    {
     "name": "stdout",
     "output_type": "stream",
     "text": [
      "El valor de x es 5\n"
     ]
    }
   ],
   "source": [
    "x = 5\n",
    "print(\"El valor de x es {}\".format(x))"
   ]
  },
  {
   "attachments": {},
   "cell_type": "markdown",
   "metadata": {},
   "source": [
    "En este ejemplo, utilizamos la función `format` para insertar el valor de `x` en la cadena de texto. El corchete `{}` indica el lugar donde se debe insertar el valor, y el método `format` especifica el valor que se debe insertar.\n",
    "\n",
    "También es posible incluir varios valores en una cadena de texto utilizando la función `format`. Por ejemplo:"
   ]
  },
  {
   "cell_type": "code",
   "execution_count": 19,
   "metadata": {},
   "outputs": [
    {
     "name": "stdout",
     "output_type": "stream",
     "text": [
      "El valor de x es 5, y el valor de y es 3\n"
     ]
    }
   ],
   "source": [
    "x = 5\n",
    "y = 3\n",
    "print(\"El valor de x es {}, y el valor de y es {}\".format(x, y))"
   ]
  },
  {
   "attachments": {},
   "cell_type": "markdown",
   "metadata": {},
   "source": [
    "En este ejemplo, utilizamos la función `format` para insertar los valores de `x` y `y` en la cadena de texto."
   ]
  },
  {
   "attachments": {},
   "cell_type": "markdown",
   "metadata": {},
   "source": [
    "* **Saltos de línea y tabulaciones:**"
   ]
  },
  {
   "attachments": {},
   "cell_type": "markdown",
   "metadata": {},
   "source": [
    "En Python, podemos insertar saltos de línea y tabulaciones en una cadena de caracteres utilizando ciertos caracteres especiales. El salto de línea se representa mediante el carácter `\\n`, y la tabulación se representa mediante el carácter `\\t`.\n",
    "\n",
    "Por ejemplo, si queremos imprimir una cadena de texto que incluya un salto de línea y una tabulación, podemos hacer lo siguiente:"
   ]
  },
  {
   "cell_type": "code",
   "execution_count": 20,
   "metadata": {},
   "outputs": [
    {
     "name": "stdout",
     "output_type": "stream",
     "text": [
      "Hola,\n",
      "\t¿cómo estás?\n"
     ]
    }
   ],
   "source": [
    "print(\"Hola,\\n\\t¿cómo estás?\")"
   ]
  },
  {
   "attachments": {},
   "cell_type": "markdown",
   "metadata": {},
   "source": [
    "En este ejemplo, utilizamos el carácter `\\n` para insertar un salto de línea después de la palabra \"Hola\", y el carácter `\\t` para insertar una tabulación antes de la palabra \"¿cómo estás?\".\n",
    "\n",
    "En resumen, la función `str` se utiliza para convertir valores a cadenas de caracteres, la función `format` se utiliza para insertar valores en una cadena de caracteres, y los saltos de línea y tabulaciones se utilizan para dar formato a una cadena de caracteres. Estas herramientas son muy útiles para trabajar con cadenas de caracteres en Python."
   ]
  },
  {
   "attachments": {},
   "cell_type": "markdown",
   "metadata": {},
   "source": [
    "* **Substrings**"
   ]
  },
  {
   "attachments": {},
   "cell_type": "markdown",
   "metadata": {},
   "source": [
    "Un substring en Python es una parte de una cadena de caracteres más grande. Para obtener un substring en Python, se puede utilizar la notación de `slicing` o rebanado.\n",
    "\n",
    "La notación de `slicing` se escribe de la forma `cadena[inicio:fin]`, donde inicio es el índice del primer carácter que se incluirá en el `substring`, y `fin` es el índice del primer carácter que se excluye del `substring`.\n",
    "\n",
    "Por ejemplo, si tenemos la cadena \"Hola mundo\", podemos obtener un `substring` que contenga los primeros cuatro caracteres de la cadena de la siguiente manera:"
   ]
  },
  {
   "cell_type": "code",
   "execution_count": 21,
   "metadata": {},
   "outputs": [
    {
     "name": "stdout",
     "output_type": "stream",
     "text": [
      "Hola\n"
     ]
    }
   ],
   "source": [
    "cadena = \"Hola mundo\"\n",
    "substring = cadena[0:4]\n",
    "print(substring)"
   ]
  },
  {
   "attachments": {},
   "cell_type": "markdown",
   "metadata": {},
   "source": [
    "La salida de este código será `\"Hola\"`, que es el `substring` que contiene los primeros cuatro caracteres de la cadena.\n",
    "\n",
    "También es posible omitir el índice de inicio para comenzar el substring desde el inicio de la cadena, y omitir el índice de fin para incluir todos los caracteres hasta el final de la cadena. Por ejemplo:"
   ]
  },
  {
   "cell_type": "code",
   "execution_count": 22,
   "metadata": {},
   "outputs": [
    {
     "name": "stdout",
     "output_type": "stream",
     "text": [
      "mundo\n"
     ]
    }
   ],
   "source": [
    "cadena = \"Hola mundo\"\n",
    "substring = cadena[5:]\n",
    "print(substring)"
   ]
  },
  {
   "attachments": {},
   "cell_type": "markdown",
   "metadata": {},
   "source": [
    "La salida de este código será `\"mundo\"`, que es el `substring` que contiene todos los caracteres desde el sexto hasta el final de la cadena.\n",
    "\n",
    "Además, también se puede utilizar un índice negativo para empezar a contar desde el final de la cadena. Por ejemplo:"
   ]
  },
  {
   "cell_type": "code",
   "execution_count": 23,
   "metadata": {},
   "outputs": [
    {
     "name": "stdout",
     "output_type": "stream",
     "text": [
      "mundo\n"
     ]
    }
   ],
   "source": [
    "cadena = \"Hola mundo\"\n",
    "substring = cadena[-5:]\n",
    "print(substring)"
   ]
  },
  {
   "attachments": {},
   "cell_type": "markdown",
   "metadata": {},
   "source": [
    "La salida de este código será `\"mundo\"`, que es el `substring` que contiene los últimos cinco caracteres de la cadena.\n",
    "\n",
    "En resumen, un `substring` en Python es una parte de una cadena de caracteres más grande, y se puede obtener utilizando la notación de `slicing` con los índices adecuados."
   ]
  },
  {
   "attachments": {},
   "cell_type": "markdown",
   "metadata": {},
   "source": [
    "### **Nuevo formato de cadena de estilo (str.format)**"
   ]
  },
  {
   "attachments": {},
   "cell_type": "markdown",
   "metadata": {},
   "source": [
    "Este formato se introdujo en la versión 3 de Python."
   ]
  },
  {
   "cell_type": "code",
   "execution_count": 24,
   "metadata": {},
   "outputs": [
    {
     "name": "stdout",
     "output_type": "stream",
     "text": [
      "I am Asabeneh Yetayeh. I teach Python\n",
      "4 + 3 = 7\n",
      "4 - 3 = 1\n",
      "4 * 3 = 12\n",
      "4 / 3 = 1.33\n",
      "4 % 3 = 1\n",
      "4 // 3 = 1\n",
      "4 ** 3 = 64\n",
      "The area of a circle with a radius 10 is 314.00.\n"
     ]
    }
   ],
   "source": [
    "first_name = 'Asabeneh'\n",
    "last_name = 'Yetayeh'\n",
    "language = 'Python'\n",
    "formated_string = 'I am {} {}. I teach {}'.format(first_name, last_name, language)\n",
    "print(formated_string)\n",
    "a = 4\n",
    "b = 3\n",
    "\n",
    "print('{} + {} = {}'.format(a, b, a + b))\n",
    "print('{} - {} = {}'.format(a, b, a - b))\n",
    "print('{} * {} = {}'.format(a, b, a * b))\n",
    "print('{} / {} = {:.2f}'.format(a, b, a / b)) # lo limita a dos dígitos después del decimal\n",
    "print('{} % {} = {}'.format(a, b, a % b))\n",
    "print('{} // {} = {}'.format(a, b, a // b))\n",
    "print('{} ** {} = {}'.format(a, b, a ** b))\n",
    "\n",
    "# Cadenas y números\n",
    "radius = 10\n",
    "pi = 3.14\n",
    "area = pi * radius ** 2\n",
    "formated_string = 'The area of a circle with a radius {} is {:.2f}.'.format(radius, area) # 2 dígitos después del decimal\n",
    "print(formated_string)"
   ]
  },
  {
   "attachments": {},
   "cell_type": "markdown",
   "metadata": {},
   "source": [
    "### **String Interpolation / f-Strings (Python 3.6+)**"
   ]
  },
  {
   "attachments": {},
   "cell_type": "markdown",
   "metadata": {},
   "source": [
    "Otro nuevo formato de cadena es la interpolación de cadenas, `f-strings`. Las cadenas comienzan con `f` y podemos inyectar los datos en sus posiciones correspondientes."
   ]
  },
  {
   "cell_type": "code",
   "execution_count": 25,
   "metadata": {},
   "outputs": [
    {
     "name": "stdout",
     "output_type": "stream",
     "text": [
      "4 + 3 = 7\n",
      "4 - 3 = 1\n",
      "4 * 3 = 12\n",
      "4 / 3 = 1.33\n",
      "4 % 3 = 1\n",
      "4 // 3 = 1\n",
      "4 ** 3 = 64\n"
     ]
    }
   ],
   "source": [
    "a = 4\n",
    "b = 3\n",
    "print(f'{a} + {b} = {a +b}')\n",
    "print(f'{a} - {b} = {a - b}')\n",
    "print(f'{a} * {b} = {a * b}')\n",
    "print(f'{a} / {b} = {a / b:.2f}')\n",
    "print(f'{a} % {b} = {a % b}')\n",
    "print(f'{a} // {b} = {a // b}')\n",
    "print(f'{a} ** {b} = {a ** b}')"
   ]
  },
  {
   "attachments": {},
   "cell_type": "markdown",
   "metadata": {},
   "source": [
    "## **Métodos para trabajar con strings**"
   ]
  },
  {
   "attachments": {},
   "cell_type": "markdown",
   "metadata": {},
   "source": [
    "En Python, una cadena de caracteres es un objeto, y por lo tanto, tiene asociados diversos métodos que se pueden utilizar para realizar diferentes operaciones con ella. A continuación, se presentan algunos de los métodos más comunes para trabajar con strings en Python:"
   ]
  },
  {
   "attachments": {},
   "cell_type": "markdown",
   "metadata": {},
   "source": [
    "* **upper() y lower():**\n",
    "\n",
    " Estos métodos convierten una cadena de caracteres a mayúsculas o minúsculas, respectivamente. Por ejemplo:"
   ]
  },
  {
   "cell_type": "code",
   "execution_count": 26,
   "metadata": {},
   "outputs": [
    {
     "name": "stdout",
     "output_type": "stream",
     "text": [
      "HOLA MUNDO\n",
      "hola mundo\n"
     ]
    }
   ],
   "source": [
    "cadena = \"Hola Mundo\"\n",
    "print(cadena.upper())  # HOLA MUNDO\n",
    "print(cadena.lower())  # hola mundo"
   ]
  },
  {
   "attachments": {},
   "cell_type": "markdown",
   "metadata": {},
   "source": [
    "* **strip():**\n",
    "\n",
    " Este método elimina los espacios en blanco al principio y al final de una cadena de caracteres. Por ejemplo:"
   ]
  },
  {
   "cell_type": "code",
   "execution_count": 27,
   "metadata": {},
   "outputs": [
    {
     "name": "stdout",
     "output_type": "stream",
     "text": [
      "Hola Mundo\n"
     ]
    }
   ],
   "source": [
    "cadena = \"  Hola Mundo  \"\n",
    "print(cadena.strip())  # Hola Mundo"
   ]
  },
  {
   "attachments": {},
   "cell_type": "markdown",
   "metadata": {},
   "source": [
    "* **replace():**\n",
    "\n",
    " Este método reemplaza todas las ocurrencias de una subcadena en una cadena de caracteres por otra subcadena. Por ejemplo:"
   ]
  },
  {
   "cell_type": "code",
   "execution_count": 28,
   "metadata": {},
   "outputs": [
    {
     "name": "stdout",
     "output_type": "stream",
     "text": [
      "Hola Python\n"
     ]
    }
   ],
   "source": [
    "cadena = \"Hola Mundo\"\n",
    "print(cadena.replace(\"Mundo\", \"Python\"))  # Hola Python"
   ]
  },
  {
   "attachments": {},
   "cell_type": "markdown",
   "metadata": {},
   "source": [
    "* **split():**\n",
    "\n",
    " Este método divide una cadena de caracteres en una lista de subcadenas, utilizando un carácter delimitador. Por ejemplo:"
   ]
  },
  {
   "cell_type": "code",
   "execution_count": 29,
   "metadata": {},
   "outputs": [
    {
     "name": "stdout",
     "output_type": "stream",
     "text": [
      "['Hola', 'Mundo']\n"
     ]
    }
   ],
   "source": [
    "cadena = \"Hola,Mundo\"\n",
    "print(cadena.split(\",\"))  # [\"Hola\", \"Mundo\"]"
   ]
  },
  {
   "attachments": {},
   "cell_type": "markdown",
   "metadata": {},
   "source": [
    "* **join():**\n",
    "\n",
    " Este método une una lista de subcadenas en una sola cadena de caracteres, utilizando un carácter separador. Por ejemplo:"
   ]
  },
  {
   "cell_type": "code",
   "execution_count": 30,
   "metadata": {},
   "outputs": [
    {
     "name": "stdout",
     "output_type": "stream",
     "text": [
      "Hola,Mundo\n"
     ]
    }
   ],
   "source": [
    "lista = [\"Hola\", \"Mundo\"]\n",
    "print(\",\".join(lista))  # Hola,Mundo"
   ]
  },
  {
   "attachments": {},
   "cell_type": "markdown",
   "metadata": {},
   "source": [
    "* **startswith() y endswith():**\n",
    "\n",
    " Estos métodos verifican si una cadena de caracteres comienza o termina con una subcadena determinada. Por ejemplo:"
   ]
  },
  {
   "cell_type": "code",
   "execution_count": 31,
   "metadata": {},
   "outputs": [
    {
     "name": "stdout",
     "output_type": "stream",
     "text": [
      "True\n",
      "True\n"
     ]
    }
   ],
   "source": [
    "cadena = \"Hola Mundo\"\n",
    "print(cadena.startswith(\"Hola\"))  # True\n",
    "print(cadena.endswith(\"Mundo\"))  # True"
   ]
  },
  {
   "attachments": {},
   "cell_type": "markdown",
   "metadata": {},
   "source": [
    "* **find() y index():**\n",
    "\n",
    " Estos métodos buscan la primera ocurrencia de una subcadena en una cadena de caracteres, y devuelven el índice donde comienza dicha ocurrencia. La diferencia entre ambos métodos es que `find()` devuelve `-1` si no se encuentra la subcadena, mientras que `index()` lanza una excepción `ValueError`. Por ejemplo:"
   ]
  },
  {
   "cell_type": "code",
   "execution_count": 32,
   "metadata": {},
   "outputs": [
    {
     "name": "stdout",
     "output_type": "stream",
     "text": [
      "5\n",
      "-1\n",
      "5\n"
     ]
    }
   ],
   "source": [
    "cadena = \"Hola Mundo\"\n",
    "print(cadena.find(\"Mundo\"))  # 5\n",
    "print(cadena.find(\"Python\"))  # -1\n",
    "\n",
    "cadena = \"Hola Mundo\"\n",
    "print(cadena.index(\"Mundo\"))  # 5\n",
    "#print(cadena.index(\"Python\"))  # ValueError"
   ]
  },
  {
   "attachments": {},
   "cell_type": "markdown",
   "metadata": {},
   "source": [
    "Estos son algunos de los métodos más comunes para trabajar con strings en Python. Existen muchos otros métodos disponibles que pueden ser útiles en diferentes situaciones, y se pueden encontrar en la documentación oficial de Python."
   ]
  },
  {
   "attachments": {},
   "cell_type": "markdown",
   "metadata": {},
   "source": [
    "## **Cadenas de Python como secuencias de caracteres**"
   ]
  },
  {
   "attachments": {},
   "cell_type": "markdown",
   "metadata": {},
   "source": [
    "Las cadenas de Python son secuencias de caracteres y comparten sus métodos básicos de acceso con otras secuencias de objetos ordenadas de Python: listas y tuplas. La forma más sencilla de extraer caracteres individuales de cadenas (y miembros individuales de cualquier secuencia) es descomprimirlos en las variables correspondientes."
   ]
  },
  {
   "attachments": {},
   "cell_type": "markdown",
   "metadata": {},
   "source": [
    "### **Desempaquetar caracteres**"
   ]
  },
  {
   "cell_type": "code",
   "execution_count": 33,
   "metadata": {},
   "outputs": [
    {
     "name": "stdout",
     "output_type": "stream",
     "text": [
      "P\n",
      "y\n",
      "t\n",
      "h\n",
      "o\n",
      "n\n"
     ]
    }
   ],
   "source": [
    "language = 'Python'\n",
    "a,b,c,d,e,f = language # desempaquetar caracteres de secuencia en variables\n",
    "print(a) # P\n",
    "print(b) # y\n",
    "print(c) # t\n",
    "print(d) # h\n",
    "print(e) # o\n",
    "print(f) # n"
   ]
  },
  {
   "attachments": {},
   "cell_type": "markdown",
   "metadata": {},
   "source": [
    "### **Acceso a caracteres en cadenas por índice**"
   ]
  },
  {
   "attachments": {},
   "cell_type": "markdown",
   "metadata": {},
   "source": [
    "En la programación, el conteo comienza desde cero. Por lo tanto, la primera letra de una cadena tiene un índice cero y la última letra de una cadena es la longitud de una cadena menos uno."
   ]
  },
  {
   "attachments": {},
   "cell_type": "markdown",
   "metadata": {},
   "source": [
    "![Cadenas por indice](../imagenes%20Python/string_index.png \"Cadenas por indice\")"
   ]
  },
  {
   "cell_type": "code",
   "execution_count": 34,
   "metadata": {},
   "outputs": [
    {
     "name": "stdout",
     "output_type": "stream",
     "text": [
      "P\n",
      "y\n",
      "n\n"
     ]
    }
   ],
   "source": [
    "language = 'Python'\n",
    "first_letter = language[0]\n",
    "print(first_letter) # P\n",
    "second_letter = language[1]\n",
    "print(second_letter) # y\n",
    "last_index = len(language) - 1\n",
    "last_letter = language[last_index]\n",
    "print(last_letter) # n"
   ]
  },
  {
   "attachments": {},
   "cell_type": "markdown",
   "metadata": {},
   "source": [
    "Si queremos comenzar desde el extremo derecho, podemos usar la indexación negativa. `-1` es el último índice."
   ]
  },
  {
   "cell_type": "code",
   "execution_count": 35,
   "metadata": {},
   "outputs": [
    {
     "name": "stdout",
     "output_type": "stream",
     "text": [
      "n\n",
      "o\n"
     ]
    }
   ],
   "source": [
    "language = 'Python'\n",
    "last_letter = language[-1]\n",
    "print(last_letter) # n\n",
    "second_last = language[-2]\n",
    "print(second_last) # o"
   ]
  },
  {
   "attachments": {},
   "cell_type": "markdown",
   "metadata": {},
   "source": [
    "### **Cortar cadenas de Python**"
   ]
  },
  {
   "attachments": {},
   "cell_type": "markdown",
   "metadata": {},
   "source": [
    "En python podemos dividir cadenas en subcadenas."
   ]
  },
  {
   "cell_type": "code",
   "execution_count": 36,
   "metadata": {},
   "outputs": [
    {
     "name": "stdout",
     "output_type": "stream",
     "text": [
      "Pyt\n",
      "hon\n",
      "hon\n",
      "hon\n"
     ]
    }
   ],
   "source": [
    "language = 'Python'\n",
    "first_three = language[0:3] # comienza en cero índice y hasta 3 pero no incluye 3\n",
    "print(first_three) #Pyt\n",
    "last_three = language[3:6]\n",
    "print(last_three) # hon\n",
    "# Another way\n",
    "last_three = language[-3:]\n",
    "print(last_three)   # hon\n",
    "last_three = language[3:]\n",
    "print(last_three)   # hon"
   ]
  },
  {
   "attachments": {},
   "cell_type": "markdown",
   "metadata": {},
   "source": [
    "### **Invertir una cadena**"
   ]
  },
  {
   "attachments": {},
   "cell_type": "markdown",
   "metadata": {},
   "source": [
    "Podemos invertir cadenas fácilmente en python."
   ]
  },
  {
   "cell_type": "code",
   "execution_count": 37,
   "metadata": {},
   "outputs": [
    {
     "name": "stdout",
     "output_type": "stream",
     "text": [
      "!dlroW ,olleH\n"
     ]
    }
   ],
   "source": [
    "greeting = 'Hello, World!'\n",
    "print(greeting[::-1]) # !dlroW ,olleH"
   ]
  },
  {
   "attachments": {},
   "cell_type": "markdown",
   "metadata": {},
   "source": [
    "### **Saltar caracteres al cortar**"
   ]
  },
  {
   "attachments": {},
   "cell_type": "markdown",
   "metadata": {},
   "source": [
    "Es posible omitir caracteres durante el corte pasando el argumento de paso al método de corte."
   ]
  },
  {
   "cell_type": "code",
   "execution_count": 38,
   "metadata": {},
   "outputs": [
    {
     "name": "stdout",
     "output_type": "stream",
     "text": [
      "Pto\n"
     ]
    }
   ],
   "source": [
    "language = 'Python'\n",
    "pto = language[0:6:2]\n",
    "print(pto) # Pto"
   ]
  },
  {
   "cell_type": "code",
   "execution_count": 39,
   "metadata": {},
   "outputs": [
    {
     "name": "stdout",
     "output_type": "stream",
     "text": [
      "yh\n"
     ]
    }
   ],
   "source": [
    "language = 'Python'\n",
    "pto = language[1:5:2]\n",
    "print(pto) # yh"
   ]
  },
  {
   "attachments": {},
   "cell_type": "markdown",
   "metadata": {},
   "source": [
    "### **Métodos de cadena**"
   ]
  },
  {
   "attachments": {},
   "cell_type": "markdown",
   "metadata": {},
   "source": [
    "Hay muchos métodos de cadena que nos permiten formatear cadenas. Vea algunos de los métodos de cadena en el siguiente ejemplo:\n",
    "\n",
    "* **capitalize():** convierte el primer carácter de la cadena en letra mayúscula"
   ]
  },
  {
   "cell_type": "code",
   "execution_count": 40,
   "metadata": {},
   "outputs": [
    {
     "name": "stdout",
     "output_type": "stream",
     "text": [
      "Thirty days of python\n"
     ]
    }
   ],
   "source": [
    "challenge = 'thirty days of python'\n",
    "print(challenge.capitalize()) # 'Thirty days of python'"
   ]
  },
  {
   "attachments": {},
   "cell_type": "markdown",
   "metadata": {},
   "source": [
    "* **count():** devuelve ocurrencias de subcadena en cadena, `cuenta(subcadena, inicio=.., final=..)`. El inicio es una indexación inicial para contar y el final es el último índice para contar."
   ]
  },
  {
   "cell_type": "code",
   "execution_count": 41,
   "metadata": {},
   "outputs": [
    {
     "name": "stdout",
     "output_type": "stream",
     "text": [
      "3\n",
      "1\n",
      "2\n"
     ]
    }
   ],
   "source": [
    "challenge = 'thirty days of python'\n",
    "print(challenge.count('y')) # 3\n",
    "print(challenge.count('y', 7, 14)) # 1,\n",
    "print(challenge.count('th')) # 2"
   ]
  },
  {
   "attachments": {},
   "cell_type": "markdown",
   "metadata": {},
   "source": [
    "* **endswith():** Comprueba si una cadena termina con un final específico"
   ]
  },
  {
   "cell_type": "code",
   "execution_count": 42,
   "metadata": {},
   "outputs": [
    {
     "name": "stdout",
     "output_type": "stream",
     "text": [
      "True\n",
      "False\n"
     ]
    }
   ],
   "source": [
    "challenge = 'thirty days of python'\n",
    "print(challenge.endswith('on'))   # True\n",
    "print(challenge.endswith('tion')) # False"
   ]
  },
  {
   "attachments": {},
   "cell_type": "markdown",
   "metadata": {},
   "source": [
    "* **expandtabs():** Reemplaza el carácter de tabulación con espacios, el tamaño de tabulación predeterminado es `8`. Toma el argumento de tamaño de tabulación"
   ]
  },
  {
   "cell_type": "code",
   "execution_count": 43,
   "metadata": {},
   "outputs": [
    {
     "name": "stdout",
     "output_type": "stream",
     "text": [
      "thirty  days    of      python\n",
      "thirty    days      of        python\n"
     ]
    }
   ],
   "source": [
    "challenge = 'thirty\\tdays\\tof\\tpython'\n",
    "print(challenge.expandtabs())   # 'thirty  days    of      python'\n",
    "print(challenge.expandtabs(10)) # 'thirty    days      of        python'"
   ]
  },
  {
   "attachments": {},
   "cell_type": "markdown",
   "metadata": {},
   "source": [
    "* **find():** Devuelve el índice de la primera aparición de una subcadena, si no se encuentra devuelve `-1`"
   ]
  },
  {
   "cell_type": "code",
   "execution_count": 44,
   "metadata": {},
   "outputs": [
    {
     "name": "stdout",
     "output_type": "stream",
     "text": [
      "5\n",
      "0\n"
     ]
    }
   ],
   "source": [
    "challenge = 'thirty days of python'\n",
    "print(challenge.find('y'))  # 16\n",
    "print(challenge.find('th')) # 17"
   ]
  },
  {
   "attachments": {},
   "cell_type": "markdown",
   "metadata": {},
   "source": [
    "* **rfind():** Devuelve el índice de la última aparición de una subcadena, si no se encuentra devuelve `-1`"
   ]
  },
  {
   "cell_type": "code",
   "execution_count": 45,
   "metadata": {},
   "outputs": [
    {
     "name": "stdout",
     "output_type": "stream",
     "text": [
      "16\n",
      "17\n"
     ]
    }
   ],
   "source": [
    "challenge = 'thirty days of python'\n",
    "print(challenge.rfind('y'))  # 5\n",
    "print(challenge.rfind('th')) # 1"
   ]
  },
  {
   "attachments": {},
   "cell_type": "markdown",
   "metadata": {},
   "source": [
    "* **format():** formatea la cadena en una salida más agradable."
   ]
  },
  {
   "cell_type": "code",
   "execution_count": 46,
   "metadata": {},
   "outputs": [
    {
     "name": "stdout",
     "output_type": "stream",
     "text": [
      "I am Asabeneh Yetayeh. I am a 25. I am teacher years old. I live in Finland.\n",
      "The area of a circle with radius 10 is 314.0\n"
     ]
    }
   ],
   "source": [
    "first_name = 'Asabeneh'\n",
    "last_name = 'Yetayeh'\n",
    "age = 25\n",
    "job = 'teacher'\n",
    "country = 'Finland'\n",
    "sentence = 'I am {} {}. I am a {}. I am {} years old. I live in {}.'.format(first_name, last_name, age, job, country)\n",
    "print(sentence) # I am Asabeneh Yetayeh. I am 250 years old. I am a teacher. I live in Finland.\n",
    "\n",
    "radius = 10\n",
    "pi = 3.14\n",
    "area = pi * radius ** 2\n",
    "result = 'The area of a circle with radius {} is {}'.format(str(radius), str(area))\n",
    "print(result) # The area of a circle with radius 10 is 314"
   ]
  },
  {
   "attachments": {},
   "cell_type": "markdown",
   "metadata": {},
   "source": [
    "* **index():** devuelve el índice más bajo de una subcadena, los argumentos adicionales indican el índice inicial y final (predeterminado `0` y longitud de cadena `-1`). Si no se encuentra la subcadena, genera un `valueError`."
   ]
  },
  {
   "cell_type": "code",
   "execution_count": 47,
   "metadata": {},
   "outputs": [
    {
     "name": "stdout",
     "output_type": "stream",
     "text": [
      "7\n"
     ]
    }
   ],
   "source": [
    "challenge = 'thirty days of python'\n",
    "sub_string = 'da'\n",
    "print(challenge.index(sub_string))  # 7\n",
    "#print(challenge.index(sub_string, 9)) # error"
   ]
  },
  {
   "attachments": {},
   "cell_type": "markdown",
   "metadata": {},
   "source": [
    "* **rindex():** Devuelve el índice más alto de una subcadena, los argumentos adicionales indican el índice inicial y final (predeterminado `0` y longitud de la cadena `-1`)"
   ]
  },
  {
   "cell_type": "code",
   "execution_count": 48,
   "metadata": {},
   "outputs": [
    {
     "name": "stdout",
     "output_type": "stream",
     "text": [
      "7\n"
     ]
    }
   ],
   "source": [
    "challenge = 'thirty days of python'\n",
    "sub_string = 'da'\n",
    "print(challenge.rindex(sub_string))  # 7\n",
    "#print(challenge.rindex(sub_string, 9)) # error"
   ]
  },
  {
   "attachments": {},
   "cell_type": "markdown",
   "metadata": {},
   "source": [
    "* **isalnum():** comprueba el carácter alfanumérico"
   ]
  },
  {
   "cell_type": "code",
   "execution_count": 49,
   "metadata": {},
   "outputs": [
    {
     "name": "stdout",
     "output_type": "stream",
     "text": [
      "True\n",
      "True\n",
      "False\n",
      "False\n"
     ]
    }
   ],
   "source": [
    "challenge = 'ThirtyDaysPython'\n",
    "print(challenge.isalnum()) # True\n",
    "\n",
    "challenge = '30DaysPython'\n",
    "print(challenge.isalnum()) # True\n",
    "\n",
    "challenge = 'thirty days of python'\n",
    "print(challenge.isalnum()) # False, el espacio no es un carácter alfanumérico\n",
    "\n",
    "challenge = 'thirty days of python 2019'\n",
    "print(challenge.isalnum()) # False"
   ]
  },
  {
   "attachments": {},
   "cell_type": "markdown",
   "metadata": {},
   "source": [
    "* **isalpha():** comprueba si todos los elementos de cadena son caracteres alfabéticos (`az` y `AZ`)"
   ]
  },
  {
   "cell_type": "code",
   "execution_count": 50,
   "metadata": {},
   "outputs": [
    {
     "name": "stdout",
     "output_type": "stream",
     "text": [
      "False\n",
      "True\n",
      "False\n"
     ]
    }
   ],
   "source": [
    "challenge = 'thirty days of python'\n",
    "print(challenge.isalpha()) # False, el espacio vuelve a quedar excluido\n",
    "challenge = 'ThirtyDaysPython'\n",
    "print(challenge.isalpha()) # True\n",
    "num = '123'\n",
    "print(num.isalpha())      # False"
   ]
  },
  {
   "attachments": {},
   "cell_type": "markdown",
   "metadata": {},
   "source": [
    "* **isdecimal():** comprueba si todos los caracteres de una cadena son decimales (`0-9`)"
   ]
  },
  {
   "cell_type": "code",
   "execution_count": 51,
   "metadata": {},
   "outputs": [
    {
     "name": "stdout",
     "output_type": "stream",
     "text": [
      "False\n",
      "True\n",
      "True\n",
      "False\n"
     ]
    }
   ],
   "source": [
    "challenge = 'thirty days of python'\n",
    "print(challenge.isdecimal())  # False\n",
    "challenge = '123'\n",
    "print(challenge.isdecimal())  # True\n",
    "challenge = '\\u00B2'\n",
    "print(challenge.isdigit())   # False\n",
    "challenge = '12 3'\n",
    "print(challenge.isdecimal())  # False, espacio no permitido"
   ]
  },
  {
   "attachments": {},
   "cell_type": "markdown",
   "metadata": {},
   "source": [
    "* **isdigit():** comprueba si todos los caracteres de una cadena son números (`0-9` y algunos otros caracteres Unicode para números)"
   ]
  },
  {
   "cell_type": "code",
   "execution_count": 52,
   "metadata": {},
   "outputs": [
    {
     "name": "stdout",
     "output_type": "stream",
     "text": [
      "False\n",
      "True\n",
      "True\n"
     ]
    }
   ],
   "source": [
    "challenge = 'Thirty'\n",
    "print(challenge.isdigit()) # False\n",
    "challenge = '30'\n",
    "print(challenge.isdigit())   # True\n",
    "challenge = '\\u00B2'\n",
    "print(challenge.isdigit())   # True"
   ]
  },
  {
   "attachments": {},
   "cell_type": "markdown",
   "metadata": {},
   "source": [
    "* **isnumeric():** comprueba si todos los caracteres de una cadena son números o están relacionados con números (al igual que `isdigit()`, solo acepta más símbolos, como `½`)"
   ]
  },
  {
   "cell_type": "code",
   "execution_count": 53,
   "metadata": {},
   "outputs": [
    {
     "name": "stdout",
     "output_type": "stream",
     "text": [
      "True\n",
      "True\n",
      "False\n"
     ]
    }
   ],
   "source": [
    "num = '10'\n",
    "print(num.isnumeric()) # True\n",
    "num = '\\u00BD' # ½\n",
    "print(num.isnumeric()) # True\n",
    "num = '10.5'\n",
    "print(num.isnumeric()) # False"
   ]
  },
  {
   "attachments": {},
   "cell_type": "markdown",
   "metadata": {},
   "source": [
    "* **isidentifier():** Comprueba si hay un identificador válido: comprueba si una cadena es un nombre de variable válido"
   ]
  },
  {
   "cell_type": "code",
   "execution_count": 54,
   "metadata": {},
   "outputs": [
    {
     "name": "stdout",
     "output_type": "stream",
     "text": [
      "False\n",
      "True\n"
     ]
    }
   ],
   "source": [
    "challenge = '30DaysOfPython'\n",
    "print(challenge.isidentifier()) # False, porque empieza con un numero\n",
    "challenge = 'thirty_days_of_python'\n",
    "print(challenge.isidentifier()) # True"
   ]
  },
  {
   "attachments": {},
   "cell_type": "markdown",
   "metadata": {},
   "source": [
    "* **islower():** Comprueba si todos los caracteres del alfabeto en la cadena están en minúsculas"
   ]
  },
  {
   "cell_type": "code",
   "execution_count": 55,
   "metadata": {},
   "outputs": [
    {
     "name": "stdout",
     "output_type": "stream",
     "text": [
      "True\n",
      "False\n"
     ]
    }
   ],
   "source": [
    "challenge = 'thirty days of python'\n",
    "print(challenge.islower()) # True\n",
    "challenge = 'Thirty days of python'\n",
    "print(challenge.islower()) # False"
   ]
  },
  {
   "attachments": {},
   "cell_type": "markdown",
   "metadata": {},
   "source": [
    "* **isupper():** Comprueba si todos los caracteres del alfabeto en la cadena están en mayúsculas"
   ]
  },
  {
   "cell_type": "code",
   "execution_count": 56,
   "metadata": {},
   "outputs": [
    {
     "name": "stdout",
     "output_type": "stream",
     "text": [
      "False\n",
      "True\n"
     ]
    }
   ],
   "source": [
    "challenge = 'thirty days of python'\n",
    "print(challenge.isupper()) #  False\n",
    "challenge = 'THIRTY DAYS OF PYTHON'\n",
    "print(challenge.isupper()) # True"
   ]
  },
  {
   "attachments": {},
   "cell_type": "markdown",
   "metadata": {},
   "source": [
    "* **join():** Devuelve una cadena concatenada"
   ]
  },
  {
   "cell_type": "code",
   "execution_count": 57,
   "metadata": {},
   "outputs": [
    {
     "name": "stdout",
     "output_type": "stream",
     "text": [
      "HTML CSS JavaScript React\n"
     ]
    }
   ],
   "source": [
    "web_tech = ['HTML', 'CSS', 'JavaScript', 'React']\n",
    "result = ' '.join(web_tech)\n",
    "print(result) # 'HTML CSS JavaScript React'"
   ]
  },
  {
   "cell_type": "code",
   "execution_count": 58,
   "metadata": {},
   "outputs": [
    {
     "name": "stdout",
     "output_type": "stream",
     "text": [
      "HTML# CSS# JavaScript# React\n"
     ]
    }
   ],
   "source": [
    "web_tech = ['HTML', 'CSS', 'JavaScript', 'React']\n",
    "result = '# '.join(web_tech)\n",
    "print(result) # 'HTML# CSS# JavaScript# React'"
   ]
  },
  {
   "attachments": {},
   "cell_type": "markdown",
   "metadata": {},
   "source": [
    "* **strip():** Elimina todos los caracteres dados a partir del principio y el final de la cadena"
   ]
  },
  {
   "cell_type": "code",
   "execution_count": 59,
   "metadata": {},
   "outputs": [
    {
     "name": "stdout",
     "output_type": "stream",
     "text": [
      "irty days of py\n"
     ]
    }
   ],
   "source": [
    "challenge = 'thirty days of pythoonnn'\n",
    "print(challenge.strip('noth')) # 'irty days of py'"
   ]
  },
  {
   "attachments": {},
   "cell_type": "markdown",
   "metadata": {},
   "source": [
    "* **replace():** Reemplaza la subcadena con una cadena dada"
   ]
  },
  {
   "cell_type": "code",
   "execution_count": 60,
   "metadata": {},
   "outputs": [
    {
     "name": "stdout",
     "output_type": "stream",
     "text": [
      "thirty days of coding\n"
     ]
    }
   ],
   "source": [
    "challenge = 'thirty days of python'\n",
    "print(challenge.replace('python', 'coding')) # 'thirty days of coding'"
   ]
  },
  {
   "attachments": {},
   "cell_type": "markdown",
   "metadata": {},
   "source": [
    "* **split():** Divide la cadena, usando la cadena dada o el espacio como separador"
   ]
  },
  {
   "cell_type": "code",
   "execution_count": 61,
   "metadata": {},
   "outputs": [
    {
     "name": "stdout",
     "output_type": "stream",
     "text": [
      "['thirty', 'days', 'of', 'python']\n",
      "['thirty', 'days', 'of', 'python']\n"
     ]
    }
   ],
   "source": [
    "challenge = 'thirty days of python'\n",
    "print(challenge.split()) # ['thirty', 'days', 'of', 'python']\n",
    "challenge = 'thirty, days, of, python'\n",
    "print(challenge.split(', ')) # ['thirty', 'days', 'of', 'python']"
   ]
  },
  {
   "attachments": {},
   "cell_type": "markdown",
   "metadata": {},
   "source": [
    "* **title():** Devuelve una cadena de título en mayúsculas"
   ]
  },
  {
   "cell_type": "code",
   "execution_count": 62,
   "metadata": {},
   "outputs": [
    {
     "name": "stdout",
     "output_type": "stream",
     "text": [
      "Thirty Days Of Python\n"
     ]
    }
   ],
   "source": [
    "challenge = 'thirty days of python'\n",
    "print(challenge.title()) # Thirty Days Of Python"
   ]
  },
  {
   "attachments": {},
   "cell_type": "markdown",
   "metadata": {},
   "source": [
    "* **swapcase():** convierte todos los caracteres en mayúsculas a minúsculas y todos los caracteres en minúsculas a caracteres en mayúsculas"
   ]
  },
  {
   "cell_type": "code",
   "execution_count": 63,
   "metadata": {},
   "outputs": [
    {
     "name": "stdout",
     "output_type": "stream",
     "text": [
      "THIRTY DAYS OF PYTHON\n",
      "tHIRTY dAYS oF pYTHON\n"
     ]
    }
   ],
   "source": [
    "challenge = 'thirty days of python'\n",
    "print(challenge.swapcase())   # THIRTY DAYS OF PYTHON\n",
    "challenge = 'Thirty Days Of Python'\n",
    "print(challenge.swapcase())  # tHIRTY dAYS oF pYTHON"
   ]
  },
  {
   "attachments": {},
   "cell_type": "markdown",
   "metadata": {},
   "source": [
    "* **startswith():** Comprueba si la cadena comienza con la cadena especificada"
   ]
  },
  {
   "cell_type": "code",
   "execution_count": 64,
   "metadata": {},
   "outputs": [
    {
     "name": "stdout",
     "output_type": "stream",
     "text": [
      "True\n",
      "False\n"
     ]
    }
   ],
   "source": [
    "challenge = 'thirty days of python'\n",
    "print(challenge.startswith('thirty')) # True\n",
    "\n",
    "challenge = '30 days of python'\n",
    "print(challenge.startswith('thirty')) # False"
   ]
  },
  {
   "attachments": {},
   "cell_type": "markdown",
   "metadata": {},
   "source": [
    "| **Inicio** | **atrás 2** | **Siguiente 4** |\n",
    "|----------- |-------------- |---------------|\n",
    "| [🏠](../../README.md) | [⏪](./2.Numeros_en_Python.ipynb)| [⏩](./4.Operadores_de_decision.ipynb)|"
   ]
  }
 ],
 "metadata": {
  "kernelspec": {
   "display_name": "base",
   "language": "python",
   "name": "python3"
  },
  "language_info": {
   "codemirror_mode": {
    "name": "ipython",
    "version": 3
   },
   "file_extension": ".py",
   "mimetype": "text/x-python",
   "name": "python",
   "nbconvert_exporter": "python",
   "pygments_lexer": "ipython3",
   "version": "3.9.12"
  },
  "orig_nbformat": 4
 },
 "nbformat": 4,
 "nbformat_minor": 2
}
