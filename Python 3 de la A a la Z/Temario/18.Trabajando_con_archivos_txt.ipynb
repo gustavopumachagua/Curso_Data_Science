{
 "cells": [
  {
   "attachments": {},
   "cell_type": "markdown",
   "metadata": {},
   "source": [
    "| **Inicio** | **atrás 17** | **Siguiente 19** |\n",
    "|----------- |-------------- |---------------|\n",
    "| [🏠](../../README.md) | [⏪](./17.Representacion_grafica.ipynb)| [⏩](./19.Errores_Excepciones.ipynb)|"
   ]
  },
  {
   "attachments": {},
   "cell_type": "markdown",
   "metadata": {},
   "source": [
    "# **18. Trabajando con archivos txt en Python**"
   ]
  },
  {
   "attachments": {},
   "cell_type": "markdown",
   "metadata": {},
   "source": [
    "## **Leyendo el primer txt**"
   ]
  },
  {
   "attachments": {},
   "cell_type": "markdown",
   "metadata": {},
   "source": [
    "Para leer el contenido de un archivo de texto en Python, podemos usar la función `open()` que abre un archivo en modo de lectura y devuelve un objeto de archivo. Luego, podemos usar los métodos `read()` o `readlines()` para leer el contenido del archivo.\n",
    "\n",
    "Aquí hay un ejemplo que muestra cómo leer el contenido del primer archivo de texto en Python:\n",
    "\n",
    "Supongamos que tenemos un archivo de texto llamado `texto.txt` que contiene lo siguiente:"
   ]
  },
  {
   "attachments": {},
   "cell_type": "markdown",
   "metadata": {},
   "source": [
    "```\n",
    "Hola mundo!\n",
    "Este es un archivo de texto.\n",
    "Esto es una línea más.\n",
    "```"
   ]
  },
  {
   "attachments": {},
   "cell_type": "markdown",
   "metadata": {},
   "source": [
    "Para leer el contenido del archivo, podemos hacer lo siguiente:"
   ]
  },
  {
   "cell_type": "code",
   "execution_count": 1,
   "metadata": {},
   "outputs": [
    {
     "name": "stdout",
     "output_type": "stream",
     "text": [
      "Hola mundo!\n",
      "Este es un archivo de texto.\n",
      "Esto es una línea más.\n",
      "\n"
     ]
    }
   ],
   "source": [
    "with open('../modules/archivo.txt', 'r') as f:\n",
    "    contenido = f.read()\n",
    "    print(contenido)\n"
   ]
  },
  {
   "attachments": {},
   "cell_type": "markdown",
   "metadata": {},
   "source": [
    "Aquí, `open('texto.txt', 'r')` abre el archivo `texto.txt` en modo de lectura `('r')` y devuelve un objeto de archivo llamado `f`. El with se encarga de cerrar el archivo automáticamente después de que se completa la lectura.\n",
    "\n",
    "El método `read()` lee todo el contenido del archivo y lo almacena en la variable contenido. Finalmente, imprimimos el contenido en la consola.\n",
    "\n",
    "También podemos usar el método `readlines()` para leer el contenido del archivo línea por línea y almacenarlo en una lista. El siguiente ejemplo muestra cómo hacerlo:"
   ]
  },
  {
   "cell_type": "code",
   "execution_count": 2,
   "metadata": {},
   "outputs": [
    {
     "name": "stdout",
     "output_type": "stream",
     "text": [
      "Hola mundo!\n",
      "Este es un archivo de texto.\n",
      "Esto es una línea más.\n"
     ]
    }
   ],
   "source": [
    "with open('../modules/archivo.txt', 'r') as f:\n",
    "    lineas = f.readlines()\n",
    "    for linea in lineas:\n",
    "        print(linea.strip())  # strip() elimina los caracteres de nueva línea\n"
   ]
  },
  {
   "attachments": {},
   "cell_type": "markdown",
   "metadata": {},
   "source": [
    "Aquí, `readlines()` lee todas las líneas del archivo y las almacena en una lista llamada lineas. Luego, usamos un bucle `for` para imprimir cada línea en la consola. El método `strip()` se utiliza para eliminar los caracteres de nueva línea al final de cada línea."
   ]
  },
  {
   "attachments": {},
   "cell_type": "markdown",
   "metadata": {},
   "source": [
    "## **Leyendo parcialmente un archivo**"
   ]
  },
  {
   "attachments": {},
   "cell_type": "markdown",
   "metadata": {},
   "source": [
    "Para leer parcialmente un archivo de texto en Python, podemos utilizar la función `readlines()` con un argumento opcional que indica el número de líneas que deseamos leer. Por ejemplo, si deseamos leer las primeras 5 líneas de un archivo, podemos hacer lo siguiente:"
   ]
  },
  {
   "cell_type": "code",
   "execution_count": 4,
   "metadata": {},
   "outputs": [
    {
     "name": "stdout",
     "output_type": "stream",
     "text": [
      "['Hola mundo!\\n']\n"
     ]
    }
   ],
   "source": [
    "with open('../modules/archivo.txt', 'r') as f:\n",
    "    primeras_lineas = f.readlines(5)\n",
    "    print(primeras_lineas)\n"
   ]
  },
  {
   "attachments": {},
   "cell_type": "markdown",
   "metadata": {},
   "source": [
    "En este ejemplo, estamos abriendo el archivo `\"archivo.txt\"` en modo de lectura `('r')` utilizando un contexto de bloque `with`, lo que garantiza que el archivo se cerrará correctamente después de que se haya leído. Luego, utilizamos la función `readlines()` para leer las primeras `5` líneas del archivo y almacenarlas en la variable `primeras_lineas`. Finalmente, imprimimos el contenido de `primeras_lineas` en la consola.\n",
    "\n",
    "Si en lugar de las primeras líneas, deseamos leer un fragmento de texto que comience en una línea determinada y termine en otra, podemos utilizar un bucle `for` para iterar sobre las líneas correspondientes y almacenarlas en una lista. Por ejemplo, para leer las líneas `6` a `10` del archivo, podemos hacer lo siguiente:"
   ]
  },
  {
   "cell_type": "code",
   "execution_count": 6,
   "metadata": {},
   "outputs": [
    {
     "name": "stdout",
     "output_type": "stream",
     "text": [
      "['Esto es una línea más.Hola mundo!\\n', 'Este es un archivo de texto.\\n', 'Esto es una línea más.']\n"
     ]
    }
   ],
   "source": [
    "with open('../modules/archivo.txt', 'r') as f:\n",
    "    lineas = []\n",
    "    for i, linea in enumerate(f):\n",
    "        if i >= 5 and i <= 9:\n",
    "            lineas.append(linea)\n",
    "    print(lineas)\n"
   ]
  },
  {
   "attachments": {},
   "cell_type": "markdown",
   "metadata": {},
   "source": [
    "En este ejemplo, estamos utilizando un bucle `for` para iterar sobre todas las líneas del archivo, utilizando la función `enumerate()` para obtener tanto el índice de la línea como su contenido. Dentro del bucle, verificamos si el índice de la línea está dentro del rango que deseamos leer (en este caso, entre `5` y `9`), y si es así, agregamos la línea a la lista lineas. Finalmente, imprimimos el contenido de lineas en la consola.\n",
    "\n",
    "Es importante tener en cuenta que si el archivo es muy grande, leerlo por completo en memoria puede ser ineficiente o incluso imposible. En este caso, puede ser necesario utilizar técnicas de lectura parcial o procesamiento por lotes para leer y manipular el archivo de manera eficiente."
   ]
  },
  {
   "attachments": {},
   "cell_type": "markdown",
   "metadata": {},
   "source": [
    "## **Leyendo un archivo línea a línea**"
   ]
  },
  {
   "attachments": {},
   "cell_type": "markdown",
   "metadata": {},
   "source": [
    "Para leer un archivo de texto línea por línea en Python, podemos utilizar un bucle `for` y el método `readline()` que lee una línea completa del archivo cada vez que se llama.\n",
    "\n",
    "El siguiente es un ejemplo de cómo leer un archivo de texto línea por línea en Python:"
   ]
  },
  {
   "cell_type": "code",
   "execution_count": 7,
   "metadata": {},
   "outputs": [
    {
     "name": "stdout",
     "output_type": "stream",
     "text": [
      "Hola mundo!\n",
      "\n",
      "Este es un archivo de texto.\n",
      "\n",
      "Esto es una línea más.\n",
      "\n",
      "Hola mundo!\n",
      "\n",
      "Este es un archivo de texto.\n",
      "\n",
      "Esto es una línea más.Hola mundo!\n",
      "\n",
      "Este es un archivo de texto.\n",
      "\n",
      "Esto es una línea más.\n"
     ]
    }
   ],
   "source": [
    "with open(\"../modules/archivo.txt\", \"r\") as file:\n",
    "    for line in file:\n",
    "        print(line)\n"
   ]
  },
  {
   "attachments": {},
   "cell_type": "markdown",
   "metadata": {},
   "source": [
    "En este ejemplo, abrimos el archivo `\"archivo.txt\"` en modo lectura utilizando la función `open()`. Usamos el modo `\"r\"` para indicar que queremos leer el archivo.\n",
    "\n",
    "Luego, usamos un bucle `for` para iterar sobre cada línea del archivo. En cada iteración, llamamos al método `readline()` que devuelve una línea completa del archivo. Finalmente, imprimimos la línea en la consola utilizando la función `print()`.\n",
    "\n",
    "Es importante notar que el archivo se cierra automáticamente cuando se usa la declaración `with`, lo que garantiza que los recursos del sistema sean liberados adecuadamente.\n",
    "\n",
    "En resumen, leer un archivo de texto línea por línea en Python es tan sencillo como usar un bucle `for` y el método `readline()`."
   ]
  },
  {
   "attachments": {},
   "cell_type": "markdown",
   "metadata": {},
   "source": [
    "## **Escribiendo un archivo txt**"
   ]
  },
  {
   "attachments": {},
   "cell_type": "markdown",
   "metadata": {},
   "source": [
    "Para escribir en un archivo de texto en Python, primero debemos abrir un objeto de archivo con el modo de escritura especificado. Luego, podemos escribir en el archivo utilizando la función `write()` y cerrar el archivo con `close()`. A continuación, se muestra un ejemplo que escribe algunas líneas de texto en un archivo de texto:"
   ]
  },
  {
   "cell_type": "code",
   "execution_count": 8,
   "metadata": {},
   "outputs": [],
   "source": [
    "# Abrir archivo en modo escritura\n",
    "archivo = open(\"../modules/archivo.txt\", \"w\")\n",
    "\n",
    "# Escribir en el archivo\n",
    "archivo.write(\"Este es el primer renglón\\n\")\n",
    "archivo.write(\"Este es el segundo renglón\\n\")\n",
    "archivo.write(\"Este es el tercer renglón\\n\")\n",
    "\n",
    "# Cerrar archivo\n",
    "archivo.close()\n"
   ]
  },
  {
   "attachments": {},
   "cell_type": "markdown",
   "metadata": {},
   "source": [
    "En este ejemplo, abrimos un archivo llamado `\"archivo.txt\"` en modo escritura usando la función `open()` con el segundo argumento como `\"w\"`. Esto crea un objeto de archivo en modo escritura que podemos utilizar para escribir en el archivo. A continuación, usamos la función `write()` en el objeto de archivo para escribir tres líneas de texto en el archivo. En cada línea, usamos el carácter de escape `\\n` para agregar un salto de línea. Finalmente, cerramos el archivo utilizando la función `close()`.\n",
    "\n",
    "Si queremos agregar más texto a un archivo existente en lugar de sobrescribirlo, podemos abrir el archivo en modo `\"append\"` en lugar de `\"write\"` usando `\"a\"` como segundo argumento para la función `open()`. De esta manera, el nuevo contenido se agregará al final del archivo en lugar de reemplazarlo."
   ]
  },
  {
   "cell_type": "code",
   "execution_count": 9,
   "metadata": {},
   "outputs": [],
   "source": [
    "# Abrir archivo en modo append\n",
    "archivo = open(\"../modules/archivo.txt\", \"a\")\n",
    "\n",
    "# Agregar texto al archivo\n",
    "archivo.write(\"Este es el cuarto renglón\\n\")\n",
    "\n",
    "# Cerrar archivo\n",
    "archivo.close()\n"
   ]
  },
  {
   "attachments": {},
   "cell_type": "markdown",
   "metadata": {},
   "source": [
    "En este ejemplo, abrimos el mismo archivo `\"archivo.txt\"` en modo `\"append\"` con el segundo argumento como `\"a\"`. Luego, usamos la función `write()` para agregar una cuarta línea de texto al final del archivo existente. Finalmente, cerramos el archivo con la función `close()`."
   ]
  },
  {
   "attachments": {},
   "cell_type": "markdown",
   "metadata": {},
   "source": [
    "## **Creando un txt vacío**"
   ]
  },
  {
   "attachments": {},
   "cell_type": "markdown",
   "metadata": {},
   "source": [
    "Para crear un archivo de texto vacío en Python, simplemente podemos usar la función `open()` con el modo de escritura `'w'`. Esto creará un archivo vacío si el archivo no existe o lo vaciará si el archivo ya existe.\n",
    "\n",
    "Aquí hay un ejemplo de cómo crear un archivo de texto vacío llamado `\"mi_archivo.txt\"`:\n",
    "\n"
   ]
  },
  {
   "cell_type": "code",
   "execution_count": 10,
   "metadata": {},
   "outputs": [],
   "source": [
    "with open('../modules/mi_archivo.txt', 'w') as f:\n",
    "    pass\n"
   ]
  },
  {
   "attachments": {},
   "cell_type": "markdown",
   "metadata": {},
   "source": [
    "La instrucción with `open('mi_archivo.txt', 'w')` as `f`: abre el archivo `\"mi_archivo.txt\"` en modo escritura `('w')`. La instrucción `pass` simplemente no hace nada. Finalmente, cuando se sale del bloque `with`, el archivo se cierra automáticamente.\n",
    "\n",
    "Es importante mencionar que si el archivo ya existe, el modo de escritura `'w'` sobrescribirá cualquier contenido existente en el archivo. Si se desea agregar contenido al archivo sin eliminar su contenido anterior, se debe usar el modo de apendizaje `'a'`.\n",
    "\n",
    "Aquí hay un ejemplo de cómo agregar contenido a un archivo sin eliminar su contenido anterior:"
   ]
  },
  {
   "cell_type": "code",
   "execution_count": 11,
   "metadata": {},
   "outputs": [],
   "source": [
    "with open('../modules/mi_archivo.txt', 'a') as f:\n",
    "    f.write('Este es un ejemplo de agregar contenido a un archivo existente.\\n')\n"
   ]
  },
  {
   "attachments": {},
   "cell_type": "markdown",
   "metadata": {},
   "source": [
    "La instrucción with `open('mi_archivo.txt', 'a')` as `f`: abre el archivo `\"mi_archivo.txt\"` en modo apendizaje `('a')`. Luego, la instrucción `f.write()` agrega la cadena `'Este es un ejemplo de agregar contenido a un archivo existente.\\n'` al final del archivo, seguido de un salto de línea `('\\n')`. Cuando se sale del bloque `with`, el archivo se cierra automáticamente."
   ]
  },
  {
   "attachments": {},
   "cell_type": "markdown",
   "metadata": {},
   "source": [
    "## **Sobrescribiendo un archivo txt existente**"
   ]
  },
  {
   "attachments": {},
   "cell_type": "markdown",
   "metadata": {},
   "source": [
    "Sobrescribir un archivo existente en Python es un proceso similar a escribir un nuevo archivo. La única diferencia es que necesitas abrir el archivo en modo de escritura `(\"w\")` para que el archivo existente se sobrescriba en lugar de agregar nuevos datos al final del archivo.\n",
    "\n",
    "A continuación, te muestro un ejemplo sencillo de cómo sobrescribir un archivo de texto existente en Python:"
   ]
  },
  {
   "cell_type": "code",
   "execution_count": 12,
   "metadata": {},
   "outputs": [],
   "source": [
    "# Abrir un archivo en modo de escritura\n",
    "archivo = open(\"../modules/mi_archivo.txt\", \"w\")\n",
    "\n",
    "# Escribir en el archivo\n",
    "archivo.write(\"Hola, mundo!\\n\")\n",
    "archivo.write(\"Este archivo ha sido sobrescrito.\\n\")\n",
    "\n",
    "# Cerrar el archivo\n",
    "archivo.close()\n"
   ]
  },
  {
   "attachments": {},
   "cell_type": "markdown",
   "metadata": {},
   "source": [
    "En este ejemplo, el archivo `\"mi_archivo.txt\"` existente será sobrescrito. Las líneas `\"Hola, mundo!\"` y `\"Este archivo ha sido sobrescrito.\"` se escriben en el archivo en lugar de agregar al final del archivo.\n",
    "\n",
    "Es importante tener en cuenta que al abrir un archivo en modo de escritura `\"w\"`, se eliminarán todos los datos del archivo existente antes de escribir nuevos datos. Si deseas conservar el contenido del archivo existente, debes hacer una copia de seguridad del archivo antes de sobrescribirlo o abrirlo en modo de escritura `\"a\"` para agregar nuevos datos al final del archivo en lugar de sobrescribirlo completamente."
   ]
  },
  {
   "attachments": {},
   "cell_type": "markdown",
   "metadata": {},
   "source": [
    "## **Eliminando archivos**"
   ]
  },
  {
   "attachments": {},
   "cell_type": "markdown",
   "metadata": {},
   "source": [
    "Para eliminar archivos en Python podemos utilizar el módulo `os`. El método `os.remove()` permite eliminar un archivo específico.\n",
    "\n",
    "Aquí te dejo un ejemplo de cómo eliminar un archivo llamado `\"ejemplo.txt\"`:"
   ]
  },
  {
   "cell_type": "code",
   "execution_count": null,
   "metadata": {},
   "outputs": [],
   "source": [
    "import os\n",
    "\n",
    "os.remove(\"ejemplo.txt\")\n"
   ]
  },
  {
   "attachments": {},
   "cell_type": "markdown",
   "metadata": {},
   "source": [
    "En este ejemplo, primero importamos el módulo `os`. Luego, usamos la función `os.remove()` y le pasamos como argumento el nombre del archivo que queremos eliminar. Es importante tener en cuenta que si el archivo que intentamos eliminar no existe, se producirá un error. Por lo tanto, podemos utilizar la función `os.path.exists()` para verificar si el archivo existe antes de intentar eliminarlo.\n",
    "\n",
    "Aquí te dejo otro ejemplo donde se verifica si el archivo existe antes de eliminarlo:"
   ]
  },
  {
   "cell_type": "code",
   "execution_count": 13,
   "metadata": {},
   "outputs": [
    {
     "name": "stdout",
     "output_type": "stream",
     "text": [
      "El archivo no existe\n"
     ]
    }
   ],
   "source": [
    "import os\n",
    "\n",
    "if os.path.exists(\"ejemplo.txt\"):\n",
    "    os.remove(\"ejemplo.txt\")\n",
    "else:\n",
    "    print(\"El archivo no existe\")\n"
   ]
  },
  {
   "attachments": {},
   "cell_type": "markdown",
   "metadata": {},
   "source": [
    "En este ejemplo, primero verificamos si el archivo `\"ejemplo.txt\"` existe usando la función `os.path.exists()`. Si el archivo existe, se elimina usando `os.remove()`. Si el archivo no existe, se imprime un mensaje de error.\n",
    "\n",
    "También podemos eliminar un directorio completo y todos sus archivos usando la función `os.rmdir()`. Sin embargo, para eliminar un directorio que no está vacío, se debe usar la función `shutil.rmtree()`. Aquí te dejo un ejemplo:"
   ]
  },
  {
   "cell_type": "code",
   "execution_count": null,
   "metadata": {},
   "outputs": [],
   "source": [
    "import os\n",
    "import shutil\n",
    "\n",
    "# Eliminar un directorio vacío\n",
    "os.rmdir(\"directorio_vacio\")\n",
    "\n",
    "# Eliminar un directorio no vacío\n",
    "shutil.rmtree(\"directorio_no_vacio\")\n"
   ]
  },
  {
   "attachments": {},
   "cell_type": "markdown",
   "metadata": {},
   "source": [
    "En este ejemplo, eliminamos un directorio vacío usando `os.rmdir()`. Luego, eliminamos un directorio no vacío usando `shutil.rmtree()`. Es importante tener en cuenta que la función `shutil.rmtree()` es muy poderosa y eliminará permanentemente todos los archivos en el directorio especificado, así que hay que tener cuidado al usarla."
   ]
  },
  {
   "attachments": {},
   "cell_type": "markdown",
   "metadata": {},
   "source": [
    "## **Eliminando carpetas**"
   ]
  },
  {
   "attachments": {},
   "cell_type": "markdown",
   "metadata": {},
   "source": [
    "En Python, puedes eliminar carpetas utilizando el módulo `os` que proporciona funciones para interactuar con el sistema operativo subyacente. En particular, puedes utilizar la función `os.rmdir()` para eliminar una carpeta vacía y la función `shutil.rmtree()` para eliminar una carpeta y todo su contenido (incluyendo archivos y subcarpetas).\n",
    "\n",
    "Aquí te presento ejemplos de cómo utilizar ambas funciones:\n",
    "\n",
    "* **Eliminando una carpeta vacía**\n",
    "\n",
    "Puedes utilizar la función `os.rmdir()` para eliminar una carpeta vacía. El siguiente ejemplo muestra cómo eliminar una carpeta llamada `\"mi_carpeta\"`:\n",
    "\n"
   ]
  },
  {
   "cell_type": "code",
   "execution_count": null,
   "metadata": {},
   "outputs": [],
   "source": [
    "import os\n",
    "\n",
    "# Eliminar la carpeta \"mi_carpeta\" (debe estar vacía)\n",
    "os.rmdir(\"mi_carpeta\")\n"
   ]
  },
  {
   "attachments": {},
   "cell_type": "markdown",
   "metadata": {},
   "source": [
    "* **Eliminando una carpeta con todo su contenido**\n",
    "\n",
    "Puedes utilizar la función `shutil.rmtree()` para eliminar una carpeta y todo su contenido (archivos y subcarpetas). El siguiente ejemplo muestra cómo eliminar una carpeta llamada `\"mi_carpeta\"` y todo su contenido:"
   ]
  },
  {
   "cell_type": "code",
   "execution_count": null,
   "metadata": {},
   "outputs": [],
   "source": [
    "import shutil\n",
    "\n",
    "# Eliminar la carpeta \"mi_carpeta\" y todo su contenido\n",
    "shutil.rmtree(\"mi_carpeta\")\n"
   ]
  },
  {
   "attachments": {},
   "cell_type": "markdown",
   "metadata": {},
   "source": [
    "**Nota:**\n",
    "\n",
    " Ten en cuenta que la eliminación de archivos y carpetas es una operación peligrosa y potencialmente destructiva, por lo que debes tener cuidado al utilizar estas funciones y asegurarte de que estás eliminando lo que realmente deseas eliminar."
   ]
  },
  {
   "attachments": {},
   "cell_type": "markdown",
   "metadata": {},
   "source": [
    "## **Leyendo csv con open()**"
   ]
  },
  {
   "attachments": {},
   "cell_type": "markdown",
   "metadata": {},
   "source": [
    "En Python, es común trabajar con archivos `CSV` (valores separados por comas) que contienen datos organizados en filas y columnas. La biblioteca estándar de Python incluye el módulo `csv` que proporciona funciones para leer y escribir archivos `CSV`.\n",
    "\n",
    "Para leer un archivo `CSV` en Python usando la función `open()` y `csv.reader()`, se debe seguir los siguientes pasos:"
   ]
  },
  {
   "cell_type": "code",
   "execution_count": 14,
   "metadata": {},
   "outputs": [
    {
     "name": "stdout",
     "output_type": "stream",
     "text": [
      "[('Juan', 25), ('María', 30), ('Pedro', 35)]\n"
     ]
    }
   ],
   "source": [
    "import csv\n",
    "\n",
    "datos = []\n",
    "\n",
    "with open('../modules/datos.csv', 'r') as archivo_csv:\n",
    "    lector_csv = csv.reader(archivo_csv)\n",
    "    encabezados = next(lector_csv) # saltar la primera fila con los encabezados\n",
    "    for fila in lector_csv:\n",
    "        nombre = fila[0]\n",
    "        edad = int(fila[1])\n",
    "        datos.append((nombre, edad))\n",
    "\n",
    "print(datos)\n"
   ]
  },
  {
   "attachments": {},
   "cell_type": "markdown",
   "metadata": {},
   "source": [
    "En este ejemplo, se usa la función `next()` para saltar la primera fila con los encabezados y luego se accede a los valores de cada fila usando los índices de lista correspondientes. En este caso, se convierte el segundo valor `(edad)` en un número entero usando la función `int()` antes de almacenarlo en la lista de tuplas.\n",
    "\n",
    "Es importante tener en cuenta que al leer un archivo `CSV` con `open()` y `csv.reader()`, cada fila se interpreta como una lista de cadenas. Si se necesita trabajar con datos de diferentes tipos, es necesario convertirlos a los tipos correspondientes usando las funciones apropiadas."
   ]
  },
  {
   "attachments": {},
   "cell_type": "markdown",
   "metadata": {},
   "source": [
    "## **Cambiando el separador**"
   ]
  },
  {
   "attachments": {},
   "cell_type": "markdown",
   "metadata": {},
   "source": [
    "En Python, el separador predeterminado para un archivo `CSV` (Comma Separated Values) es la coma `(,)`. Sin embargo, en algunos casos, es posible que debamos cambiar el separador para poder leer o escribir archivos `CSV` correctamente.\n",
    "\n",
    "Podemos cambiar el separador predeterminado utilizando el parámetro delimiter al leer o escribir el archivo `CSV`. Este parámetro indica al lector o escritor de `CSV` qué carácter debe usar como separador.\n",
    "\n",
    "A continuación, se presenta un ejemplo de cómo cambiar el separador en Python al leer un archivo `CSV`:\n",
    "\n",
    "Supongamos que tenemos el siguiente archivo `CSV` llamado `datos1.csv` con punto y coma `(;)` como separador:"
   ]
  },
  {
   "attachments": {},
   "cell_type": "markdown",
   "metadata": {},
   "source": [
    "```\n",
    "Nombre;Apellido;Edad\n",
    "Juan;Pérez;25\n",
    "María;González;30\n",
    "Pedro;Fernández;40\n",
    "```"
   ]
  },
  {
   "attachments": {},
   "cell_type": "markdown",
   "metadata": {},
   "source": [
    "Podemos leer el archivo `datos1.csv` y cambiar el separador a la coma `(,)` de la siguiente manera:"
   ]
  },
  {
   "cell_type": "code",
   "execution_count": 15,
   "metadata": {},
   "outputs": [
    {
     "name": "stdout",
     "output_type": "stream",
     "text": [
      "Nombre, Apellido, Edad\n",
      "Juan, Pérez, 25\n",
      "María, González, 30\n",
      "Pedro, Fernández, 40\n"
     ]
    }
   ],
   "source": [
    "import csv\n",
    "\n",
    "with open('../modules/datos1.csv', newline='') as csvfile:\n",
    "    reader = csv.reader(csvfile, delimiter=';')\n",
    "    for row in reader:\n",
    "        print(', '.join(row))\n"
   ]
  },
  {
   "attachments": {},
   "cell_type": "markdown",
   "metadata": {},
   "source": [
    "En este caso, estamos abriendo el archivo `datos1.csv` con `open()` y especificando que no hay una línea nueva con `newline=''`. Luego, utilizamos el método `csv.reader()` para leer el archivo y especificamos que el separador es el punto y coma `(;)` utilizando el parámetro `delimiter=';'`.\n",
    "\n",
    "Finalmente, recorremos cada fila del archivo utilizando un bucle `for` y unimos las columnas utilizando la coma `(,)` con el método `join()` para imprimir los datos en un formato legible.\n",
    "\n",
    "El resultado de la ejecución del código anterior sería el siguiente:"
   ]
  },
  {
   "attachments": {},
   "cell_type": "markdown",
   "metadata": {},
   "source": [
    "```\n",
    "Nombre, Apellido, Edad\n",
    "Juan, Pérez, 25\n",
    "María, González, 30\n",
    "Pedro, Fernández, 40\n",
    "```"
   ]
  },
  {
   "attachments": {},
   "cell_type": "markdown",
   "metadata": {},
   "source": [
    "De esta manera, hemos cambiado el separador de punto y coma `(;)` a coma `(,)` al leer el archivo CSV."
   ]
  },
  {
   "attachments": {},
   "cell_type": "markdown",
   "metadata": {},
   "source": [
    "## **Eliminando espacios adicionales**"
   ]
  },
  {
   "attachments": {},
   "cell_type": "markdown",
   "metadata": {},
   "source": [
    "Cuando se trabaja con archivos `CSV` en Python, puede haber casos en los que los valores de las celdas tengan espacios adicionales al principio o al final, lo que dificulta el procesamiento posterior de los datos. En este caso, se puede eliminar los espacios adicionales utilizando la función `strip()` de Python.\n",
    "\n",
    "La función `strip()` devuelve una cadena sin espacios adicionales al principio y al final. Es importante tener en cuenta que la función no modifica la cadena original, sino que devuelve una nueva cadena sin los espacios adicionales. Por lo tanto, es necesario asignar el resultado de la función a una variable nueva o sobrescribir la variable existente con el nuevo valor.\n",
    "\n",
    "A continuación se muestra un ejemplo de cómo eliminar espacios adicionales en un archivo `CSV` en Python:\n",
    "\n",
    "Supongamos que tenemos el siguiente archivo `CSV` llamado `\"datos2.csv\"`:"
   ]
  },
  {
   "attachments": {},
   "cell_type": "markdown",
   "metadata": {},
   "source": [
    "```\n",
    "Nombre,Apellido,Edad\n",
    "Juan,Perez, 32\n",
    "Maria,Gonzalez, 27\n",
    "Pedro,Fernandez, 45\n",
    "```"
   ]
  },
  {
   "attachments": {},
   "cell_type": "markdown",
   "metadata": {},
   "source": [
    "Para eliminar los espacios adicionales en la columna `\"Edad\"`, podemos utilizar la función `strip()` de la siguiente manera:"
   ]
  },
  {
   "cell_type": "code",
   "execution_count": 16,
   "metadata": {},
   "outputs": [
    {
     "name": "stdout",
     "output_type": "stream",
     "text": [
      "['Nombre', 'Apellido', 'Edad']\n",
      "['Juan', 'Perez', '32']\n",
      "['Maria', 'Gonzalez', '27']\n",
      "['Pedro', 'Fernandez', '45']\n"
     ]
    }
   ],
   "source": [
    "import csv\n",
    "\n",
    "with open('../modules/datos2.csv', newline='') as archivo_csv:\n",
    "    lector_csv = csv.reader(archivo_csv, delimiter=',')\n",
    "    for fila in lector_csv:\n",
    "        fila[2] = fila[2].strip()\n",
    "        print(fila)\n"
   ]
  },
  {
   "attachments": {},
   "cell_type": "markdown",
   "metadata": {},
   "source": [
    "En este ejemplo, primero abrimos el archivo `CSV` usando la función `open()` y la declaración `with`. Luego, utilizamos el módulo `csv` de Python para leer el archivo `CSV` y crear un objeto `csv.reader`. El parámetro delimiter se utiliza para especificar el separador de campo que se utiliza en el archivo `CSV`.\n",
    "\n",
    "En el bucle `for`, para cada fila del archivo `CSV`, utilizamos la función `strip()` para eliminar los espacios adicionales en la tercera columna (la columna `\"Edad\"`). Luego, imprimimos la fila en la consola.\n",
    "\n",
    "Después de ejecutar este código, se imprimirá lo siguiente:"
   ]
  },
  {
   "attachments": {},
   "cell_type": "markdown",
   "metadata": {},
   "source": [
    "```\n",
    "['Nombre', 'Apellido', 'Edad']\n",
    "['Juan', 'Perez', '32']\n",
    "['Maria', 'Gonzalez', '27']\n",
    "['Pedro', 'Fernandez', '45']\n",
    "```"
   ]
  },
  {
   "attachments": {},
   "cell_type": "markdown",
   "metadata": {},
   "source": [
    "Como se puede observar, los espacios adicionales en la columna `\"Edad\"` han sido eliminados correctamente."
   ]
  },
  {
   "attachments": {},
   "cell_type": "markdown",
   "metadata": {},
   "source": [
    "## **Comillas en las entradas**"
   ]
  },
  {
   "attachments": {},
   "cell_type": "markdown",
   "metadata": {},
   "source": [
    "En un archivo `CSV`, las comillas se utilizan a menudo para indicar que los valores entre comillas son una única entrada, incluso si contienen comas o saltos de línea. Si no se eliminan las comillas en las entradas de un archivo `CSV`, pueden causar problemas al leer o procesar los datos.\n",
    "\n",
    "A continuación se muestra un ejemplo de cómo eliminar las comillas de las entradas de un archivo `CSV` en Python:\n",
    "\n",
    "Supongamos que tenemos el siguiente archivo `CSV` llamado `\"datos3.csv\"`:"
   ]
  },
  {
   "attachments": {},
   "cell_type": "markdown",
   "metadata": {},
   "source": [
    "```\n",
    "\"Nombre\",\"Apellido\",\"Edad\"\n",
    "\"Juan\",\"Pérez\",25\n",
    "\"María\",\"García\",30\n",
    "```"
   ]
  },
  {
   "attachments": {},
   "cell_type": "markdown",
   "metadata": {},
   "source": [
    "Para leer y eliminar las comillas en las entradas, podemos utilizar la librería `csv` de Python y el siguiente código:"
   ]
  },
  {
   "cell_type": "code",
   "execution_count": 17,
   "metadata": {},
   "outputs": [
    {
     "name": "stdout",
     "output_type": "stream",
     "text": [
      "['Nombre', 'Apellido', 'Edad']\n",
      "['Juan', 'Pérez', '25']\n",
      "['María', 'García', '30']\n"
     ]
    }
   ],
   "source": [
    "import csv\n",
    "\n",
    "with open('../modules/datos3.csv', newline='') as csvfile:\n",
    "    reader = csv.reader(csvfile, delimiter=',', quotechar='\"')\n",
    "    for row in reader:\n",
    "        row = [entry.strip('\"') for entry in row]\n",
    "        print(row)\n"
   ]
  },
  {
   "attachments": {},
   "cell_type": "markdown",
   "metadata": {},
   "source": [
    "El resultado de la ejecución de este código sería:"
   ]
  },
  {
   "attachments": {},
   "cell_type": "markdown",
   "metadata": {},
   "source": [
    "```\n",
    "['Nombre', 'Apellido', 'Edad']\n",
    "['Juan', 'Pérez', '25']\n",
    "['María', 'García', '30']\n",
    "```"
   ]
  },
  {
   "attachments": {},
   "cell_type": "markdown",
   "metadata": {},
   "source": [
    "En el código anterior, estamos utilizando la función `strip()` para eliminar las comillas de las entradas en cada fila del archivo `CSV`. La función `strip()` elimina los caracteres especificados en los parámetros de entrada de los bordes de una cadena. En este caso, estamos eliminando las comillas de los bordes de cada entrada en la fila.\n",
    "\n",
    "Además, en la línea donde se abre el archivo `CSV`, estamos especificando el parámetro `quotechar='\"'` para indicar que las comillas son el carácter utilizado para encerrar los valores en el archivo `CSV`."
   ]
  },
  {
   "attachments": {},
   "cell_type": "markdown",
   "metadata": {},
   "source": [
    "## **Dialectos**"
   ]
  },
  {
   "attachments": {},
   "cell_type": "markdown",
   "metadata": {},
   "source": [
    "En Python, la biblioteca `csv` proporciona varias herramientas para trabajar con archivos `CSV`. Además de leer y escribir archivos `CSV`, `csv` permite especificar los dialectos `CSV` utilizados en los archivos, lo que puede ser útil si el archivo `CSV` utiliza un separador de campo no convencional, una cadena de escape de comillas personalizada, etc.\n",
    "\n",
    "Un dialecto `CSV` es un conjunto de reglas que especifican cómo se deben analizar y escribir los archivos `CSV`. Los dialectos pueden personalizarse especificando un conjunto de parámetros, como el separador de campo, la cadena de escape de comillas, etc. `csv` proporciona un conjunto de dialectos predefinidos, como `excel`, `excel-tab`, `unix`, `excel-tab`, etc.\n",
    "\n",
    "Para utilizar un dialecto personalizado, primero debemos definir un objeto `csv.Dialect` que contenga los parámetros que deseamos establecer. A continuación, podemos pasar este objeto como argumento al leer o escribir archivos `CSV` utilizando la función `csv.reader()` o `csv.writer()`.\n",
    "\n",
    "Aquí hay un ejemplo de cómo utilizar un dialecto personalizado en la biblioteca `csv` de Python:"
   ]
  },
  {
   "cell_type": "code",
   "execution_count": 20,
   "metadata": {},
   "outputs": [
    {
     "name": "stdout",
     "output_type": "stream",
     "text": [
      "['nombre,edad,puntuacion']\n",
      "['Juan,25,80']\n",
      "['María,30,90']\n",
      "['Pedro,35,95']\n"
     ]
    }
   ],
   "source": [
    "import csv\n",
    "\n",
    "# Definimos el dialecto personalizado\n",
    "csv.register_dialect('my_dialect', delimiter='|', doublequote=False, quoting=csv.QUOTE_NONE)\n",
    "\n",
    "# Leemos el archivo CSV utilizando el dialecto personalizado\n",
    "with open('../modules/datos.csv', 'r') as f:\n",
    "    reader = csv.reader(f, dialect='my_dialect')\n",
    "    for row in reader:\n",
    "        print(row)\n"
   ]
  },
  {
   "attachments": {},
   "cell_type": "markdown",
   "metadata": {},
   "source": [
    "En este ejemplo, hemos definido un dialecto personalizado que utiliza `|` como separador de campo en lugar del separador de campo predeterminado ,. Además, hemos desactivado el uso de comillas dobles como caracteres de escape y establecido \" como carácter de comillas. Finalmente, hemos utilizado este dialecto personalizado para leer un archivo `CSV` llamado `datos.csv`.\n",
    "\n",
    "Es importante tener en cuenta que es necesario establecer los parámetros correctos para el dialecto personalizado en función de cómo se haya creado el archivo `CSV` originalmente."
   ]
  },
  {
   "attachments": {},
   "cell_type": "markdown",
   "metadata": {},
   "source": [
    "## **Diccionarios y csv - lectura**"
   ]
  },
  {
   "cell_type": "code",
   "execution_count": 22,
   "metadata": {},
   "outputs": [
    {
     "name": "stdout",
     "output_type": "stream",
     "text": [
      "John 25 john@example.com\n",
      "Jane 30 jane@example.com\n",
      "Bob 35 bob@example.com\n"
     ]
    }
   ],
   "source": [
    "import csv\n",
    "\n",
    "# Crear un archivo CSV para el ejemplo\n",
    "data = [\n",
    "    {'Nombre': 'John', 'Edad': '25', 'Email': 'john@example.com'},\n",
    "    {'Nombre': 'Jane', 'Edad': '30', 'Email': 'jane@example.com'},\n",
    "    {'Nombre': 'Bob', 'Edad': '35', 'Email': 'bob@example.com'}\n",
    "]\n",
    "\n",
    "headers = ['Nombre', 'Edad', 'Email']\n",
    "\n",
    "with open('../modules/datos4.csv', 'w', newline='') as f:\n",
    "    writer = csv.DictWriter(f, fieldnames=headers)\n",
    "    writer.writeheader()\n",
    "    writer.writerows(data)\n",
    "\n",
    "# Leer el archivo CSV utilizando diccionarios\n",
    "with open('../modules/datos4.csv', 'r') as f:\n",
    "    reader = csv.DictReader(f)\n",
    "    for row in reader:\n",
    "        nombre = row['Nombre']\n",
    "        edad = row['Edad']\n",
    "        email = row['Email']\n",
    "        print(nombre, edad, email)\n"
   ]
  },
  {
   "attachments": {},
   "cell_type": "markdown",
   "metadata": {},
   "source": [
    "En este ejemplo, primero creamos un archivo `CSV` llamado `'datos4.csv'` con una lista de diccionarios llamada `data`. Cada diccionario representa una fila en el archivo `CSV`, y las claves del diccionario corresponden a los encabezados de las columnas. Utilizamos la función `csv.DictWriter()` para escribir los datos en el archivo `CSV`, pasando los encabezados de las columnas como argumento.\n",
    "\n",
    "Luego, utilizamos el archivo `CSV` recién creado para leer los datos utilizando diccionarios. Utilizamos la función `csv.DictReader()` para leer el archivo `CSV`, que interpreta automáticamente la primera línea como los encabezados de las columnas. Dentro del bucle `for`, accedemos a los valores de cada fila utilizando las claves del diccionario, en este caso, `'Nombre'`, `'Edad'` y `'Email'`, y los imprimimos en la consola.\n",
    "\n",
    "Al ejecutar este código, el archivo `CSV` `'datos4.csv'` se crea y luego se lee utilizando diccionarios, imprimiendo los valores en la consola."
   ]
  },
  {
   "attachments": {},
   "cell_type": "markdown",
   "metadata": {},
   "source": [
    "## **Escribiendo csv**"
   ]
  },
  {
   "cell_type": "code",
   "execution_count": 23,
   "metadata": {},
   "outputs": [
    {
     "name": "stdout",
     "output_type": "stream",
     "text": [
      "Archivo CSV creado exitosamente:  ../modules/datos5.csv\n"
     ]
    }
   ],
   "source": [
    "import csv\n",
    "\n",
    "# Datos a escribir en el archivo CSV\n",
    "data = [\n",
    "    ['Nombre', 'Edad', 'Email'],\n",
    "    ['John', '25', 'john@example.com'],\n",
    "    ['Jane', '30', 'jane@example.com'],\n",
    "    ['Bob', '35', 'bob@example.com']\n",
    "]\n",
    "\n",
    "# Especificar el nombre del archivo CSV\n",
    "filename = '../modules/datos5.csv'\n",
    "\n",
    "# Escribir los datos en el archivo CSV\n",
    "with open(filename, 'w', newline='') as f:\n",
    "    writer = csv.writer(f)\n",
    "    writer.writerows(data)\n",
    "\n",
    "print(\"Archivo CSV creado exitosamente: \", filename)\n"
   ]
  },
  {
   "attachments": {},
   "cell_type": "markdown",
   "metadata": {},
   "source": [
    "En este ejemplo, hemos creado una lista llamada data que contiene los datos que deseamos escribir en el archivo `CSV`. Cada elemento de la lista representa una fila en el archivo `CSV`, y los elementos dentro de cada fila representan los valores de las columnas.\n",
    "\n",
    "Luego, especificamos el nombre del archivo `CSV` que queremos crear utilizando la variable `filename`.\n",
    "\n",
    "Dentro del bloque `with open()`, abrimos el archivo `CSV` en modo de escritura `'w'` y utilizamos `csv.writer()` para crear un objeto escritor `CSV`. A continuación, utilizamos el método `writerows()` para escribir todos los datos en el archivo `CSV`.\n",
    "\n",
    "Finalmente, imprimimos un mensaje indicando que el archivo `CSV` se ha creado exitosamente.\n",
    "\n",
    "Al ejecutar este código, se creará un archivo `CSV` llamado `'datos5.csv'` en el mismo directorio donde se encuentra el script Python. El archivo contendrá los datos especificados en la lista data, y cada fila y columna estará separada por comas."
   ]
  },
  {
   "attachments": {},
   "cell_type": "markdown",
   "metadata": {},
   "source": [
    "## **Diccionarios y csv - escritura**"
   ]
  },
  {
   "cell_type": "code",
   "execution_count": 24,
   "metadata": {},
   "outputs": [
    {
     "name": "stdout",
     "output_type": "stream",
     "text": [
      "Archivo CSV creado exitosamente:  ../modules/datos6.csv\n"
     ]
    }
   ],
   "source": [
    "import csv\n",
    "\n",
    "# Datos en forma de diccionario\n",
    "data = {\n",
    "    'John': {'Edad': 25, 'Email': 'john@example.com'},\n",
    "    'Jane': {'Edad': 30, 'Email': 'jane@example.com'},\n",
    "    'Bob': {'Edad': 35, 'Email': 'bob@example.com'}\n",
    "}\n",
    "\n",
    "# Especificar el nombre del archivo CSV\n",
    "filename = '../modules/datos6.csv'\n",
    "\n",
    "# Obtener las claves únicas de todas las columnas\n",
    "columnas = set()\n",
    "for persona in data.values():\n",
    "    columnas.update(persona.keys())\n",
    "\n",
    "# Escribir los datos en el archivo CSV\n",
    "with open(filename, 'w', newline='') as f:\n",
    "    writer = csv.DictWriter(f, fieldnames=['Nombre'] + sorted(columnas))\n",
    "    writer.writeheader()\n",
    "    for nombre, atributos in data.items():\n",
    "        fila = {'Nombre': nombre}\n",
    "        fila.update(atributos)\n",
    "        writer.writerow(fila)\n",
    "\n",
    "print(\"Archivo CSV creado exitosamente: \", filename)\n"
   ]
  },
  {
   "attachments": {},
   "cell_type": "markdown",
   "metadata": {},
   "source": [
    "| **Inicio** | **atrás 17** | **Siguiente 19** |\n",
    "|----------- |-------------- |---------------|\n",
    "| [🏠](../../README.md) | [⏪](./17.Representacion_grafica.ipynb)| [⏩](./19.Errores_Excepciones.ipynb)|"
   ]
  }
 ],
 "metadata": {
  "kernelspec": {
   "display_name": "base",
   "language": "python",
   "name": "python3"
  },
  "language_info": {
   "codemirror_mode": {
    "name": "ipython",
    "version": 3
   },
   "file_extension": ".py",
   "mimetype": "text/x-python",
   "name": "python",
   "nbconvert_exporter": "python",
   "pygments_lexer": "ipython3",
   "version": "3.9.12"
  },
  "orig_nbformat": 4
 },
 "nbformat": 4,
 "nbformat_minor": 2
}
