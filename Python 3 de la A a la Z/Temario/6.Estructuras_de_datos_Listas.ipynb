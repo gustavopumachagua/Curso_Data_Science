{
 "cells": [
  {
   "attachments": {},
   "cell_type": "markdown",
   "metadata": {},
   "source": [
    "| **Inicio** | **atrás 5** | **Siguiente 7** |\n",
    "|----------- |-------------- |---------------|\n",
    "| [🏠](../../README.md) | [⏪](./5.Operadores_de_iteracion.ipynb)| [⏩](./7.Estructuras_de_datos_Diccionarios.ipynb)|"
   ]
  },
  {
   "attachments": {},
   "cell_type": "markdown",
   "metadata": {},
   "source": [
    "# **Estructuras de datos: Listas**"
   ]
  },
  {
   "attachments": {},
   "cell_type": "markdown",
   "metadata": {},
   "source": [
    "## **Introducción a listas**"
   ]
  },
  {
   "attachments": {},
   "cell_type": "markdown",
   "metadata": {},
   "source": [
    " Las listas son una de las estructuras de datos más útiles y versátiles en Python. Básicamente, una lista es una colección ordenada de elementos, donde cada elemento puede ser de cualquier tipo de dato (números, cadenas, booleanos, incluso otras listas).\n",
    "\n",
    "Para definir una lista en Python, simplemente se encierra una serie de elementos entre corchetes ```[]```, separados por comas. Por ejemplo:"
   ]
  },
  {
   "cell_type": "code",
   "execution_count": 1,
   "metadata": {},
   "outputs": [],
   "source": [
    "mi_lista = [1, 2, 3, 4, 5]\n"
   ]
  },
  {
   "attachments": {},
   "cell_type": "markdown",
   "metadata": {},
   "source": [
    "En este ejemplo, ```mi_lista``` es una lista que contiene los números del 1 al 5. También es posible definir una lista vacía simplemente utilizando corchetes:"
   ]
  },
  {
   "cell_type": "code",
   "execution_count": 2,
   "metadata": {},
   "outputs": [],
   "source": [
    "mi_lista_vacia = []\n"
   ]
  },
  {
   "attachments": {},
   "cell_type": "markdown",
   "metadata": {},
   "source": [
    "Ahora, veamos algunos ejemplos de operaciones comunes que se pueden realizar con listas en Python:"
   ]
  },
  {
   "attachments": {},
   "cell_type": "markdown",
   "metadata": {},
   "source": [
    "* **Acceder a elementos de una lista**"
   ]
  },
  {
   "attachments": {},
   "cell_type": "markdown",
   "metadata": {},
   "source": [
    "Podemos acceder a elementos específicos de una lista utilizando índices numéricos. Los índices comienzan en cero, es decir, el primer elemento de la lista se encuentra en el índice 0, el segundo en el índice 1, y así sucesivamente. Por ejemplo:"
   ]
  },
  {
   "cell_type": "code",
   "execution_count": 3,
   "metadata": {},
   "outputs": [
    {
     "name": "stdout",
     "output_type": "stream",
     "text": [
      "1\n",
      "3\n"
     ]
    }
   ],
   "source": [
    "mi_lista = [1, 2, 3, 4, 5]\n",
    "print(mi_lista[0])  # imprime 1\n",
    "print(mi_lista[2])  # imprime 3\n"
   ]
  },
  {
   "attachments": {},
   "cell_type": "markdown",
   "metadata": {},
   "source": [
    "* **Modificar elementos de una lista**"
   ]
  },
  {
   "attachments": {},
   "cell_type": "markdown",
   "metadata": {},
   "source": [
    "Los elementos de una lista también pueden ser modificados directamente mediante su índice. Por ejemplo:"
   ]
  },
  {
   "cell_type": "code",
   "execution_count": 4,
   "metadata": {},
   "outputs": [
    {
     "name": "stdout",
     "output_type": "stream",
     "text": [
      "[6, 2, 3, 4, 5]\n"
     ]
    }
   ],
   "source": [
    "mi_lista = [1, 2, 3, 4, 5]\n",
    "mi_lista[0] = 6\n",
    "print(mi_lista)  # imprime [6, 2, 3, 4, 5]\n"
   ]
  },
  {
   "attachments": {},
   "cell_type": "markdown",
   "metadata": {},
   "source": [
    "* **Agregar elementos a una lista**"
   ]
  },
  {
   "attachments": {},
   "cell_type": "markdown",
   "metadata": {},
   "source": [
    "Se pueden agregar elementos a una lista utilizando el método ```append()```. Por ejemplo:"
   ]
  },
  {
   "cell_type": "code",
   "execution_count": 5,
   "metadata": {},
   "outputs": [
    {
     "name": "stdout",
     "output_type": "stream",
     "text": [
      "[1, 2, 3, 4, 5, 6]\n"
     ]
    }
   ],
   "source": [
    "mi_lista = [1, 2, 3, 4, 5]\n",
    "mi_lista.append(6)\n",
    "print(mi_lista)  # imprime [1, 2, 3, 4, 5, 6]\n"
   ]
  },
  {
   "attachments": {},
   "cell_type": "markdown",
   "metadata": {},
   "source": [
    "También se puede agregar múltiples elementos a la vez utilizando el método ```extend()```, pasando una lista como argumento:"
   ]
  },
  {
   "cell_type": "code",
   "execution_count": 6,
   "metadata": {},
   "outputs": [
    {
     "name": "stdout",
     "output_type": "stream",
     "text": [
      "[1, 2, 3, 4, 5, 6, 7, 8]\n"
     ]
    }
   ],
   "source": [
    "mi_lista = [1, 2, 3, 4, 5]\n",
    "mi_lista.extend([6, 7, 8])\n",
    "print(mi_lista)  # imprime [1, 2, 3, 4, 5, 6, 7, 8]\n"
   ]
  },
  {
   "attachments": {},
   "cell_type": "markdown",
   "metadata": {},
   "source": [
    "* **Eliminar elementos de una lista**"
   ]
  },
  {
   "attachments": {},
   "cell_type": "markdown",
   "metadata": {},
   "source": [
    "Se pueden eliminar elementos de una lista utilizando la palabra clave ```del```, indicando el índice del elemento que se desea eliminar. Por ejemplo:"
   ]
  },
  {
   "cell_type": "code",
   "execution_count": 7,
   "metadata": {},
   "outputs": [
    {
     "name": "stdout",
     "output_type": "stream",
     "text": [
      "[1, 2, 4, 5]\n"
     ]
    }
   ],
   "source": [
    "mi_lista = [1, 2, 3, 4, 5]\n",
    "del mi_lista[2]\n",
    "print(mi_lista)  # imprime [1, 2, 4, 5]\n"
   ]
  },
  {
   "attachments": {},
   "cell_type": "markdown",
   "metadata": {},
   "source": [
    "También se puede eliminar el último elemento de la lista utilizando el método ```pop()```:"
   ]
  },
  {
   "cell_type": "code",
   "execution_count": 8,
   "metadata": {},
   "outputs": [
    {
     "name": "stdout",
     "output_type": "stream",
     "text": [
      "[1, 2, 3, 4]\n"
     ]
    }
   ],
   "source": [
    "mi_lista = [1, 2, 3, 4, 5]\n",
    "mi_lista.pop()\n",
    "print(mi_lista)  # imprime [1, 2, 3, 4]\n"
   ]
  },
  {
   "attachments": {},
   "cell_type": "markdown",
   "metadata": {},
   "source": [
    "* **Obtener la longitud de una lista**"
   ]
  },
  {
   "attachments": {},
   "cell_type": "markdown",
   "metadata": {},
   "source": [
    "Se puede obtener la longitud de una lista utilizando la función ```len()```. Por ejemplo:"
   ]
  },
  {
   "cell_type": "code",
   "execution_count": 9,
   "metadata": {},
   "outputs": [
    {
     "name": "stdout",
     "output_type": "stream",
     "text": [
      "5\n"
     ]
    }
   ],
   "source": [
    "mi_lista = [1, 2, 3, 4, 5]\n",
    "print(len(mi_lista))  # imprime 5\n"
   ]
  },
  {
   "attachments": {},
   "cell_type": "markdown",
   "metadata": {},
   "source": [
    "## **Elementos de una lista**"
   ]
  },
  {
   "attachments": {},
   "cell_type": "markdown",
   "metadata": {},
   "source": [
    "Los elementos de una lista en Python son los valores que se encuentran almacenados dentro de la lista. Una lista es una estructura de datos que puede contener cualquier tipo de elemento, incluyendo números, cadenas de texto, booleanos, otras listas, entre otros.\n",
    "\n",
    "A continuación, te muestro algunos ejemplos de elementos de una lista en Python:"
   ]
  },
  {
   "cell_type": "code",
   "execution_count": 11,
   "metadata": {},
   "outputs": [
    {
     "name": "stdout",
     "output_type": "stream",
     "text": [
      "[1, 2, 3, 4, 5]\n",
      "['Juan', 'María', 'Pedro', 'Luisa']\n",
      "[1, 'Hola', True, 2.5, [1, 2, 3]]\n",
      "[]\n"
     ]
    }
   ],
   "source": [
    "# una lista de números\n",
    "numeros = [1, 2, 3, 4, 5]\n",
    "print(numeros)\n",
    "\n",
    "# una lista de cadenas de texto\n",
    "nombres = [\"Juan\", \"María\", \"Pedro\", \"Luisa\"]\n",
    "print(nombres)\n",
    "\n",
    "# una lista que mezcla distintos tipos de elementos\n",
    "mezcla = [1, \"Hola\", True, 2.5, [1, 2, 3]]\n",
    "print(mezcla)\n",
    "\n",
    "# una lista vacía\n",
    "vacia = []\n",
    "print(vacia)"
   ]
  },
  {
   "attachments": {},
   "cell_type": "markdown",
   "metadata": {},
   "source": [
    "En el primer ejemplo, los elementos de la lista son números enteros del 1 al 5. En el segundo ejemplo, los elementos de la lista son cadenas de texto con los nombres de algunas personas. En el tercer ejemplo, los elementos de la lista son una mezcla de distintos tipos de elementos, incluyendo números, cadenas de texto, booleanos, números decimales y otra lista. En el cuarto ejemplo, la lista está vacía y no tiene elementos.\n",
    "\n",
    "Cabe destacar que en Python, los elementos de una lista pueden ser modificados, agregados o eliminados en cualquier momento después de haber sido creada la lista."
   ]
  },
  {
   "attachments": {},
   "cell_type": "markdown",
   "metadata": {},
   "source": [
    "## **Bucles con listas**"
   ]
  },
  {
   "attachments": {},
   "cell_type": "markdown",
   "metadata": {},
   "source": [
    "Los bucles con listas en Python son una herramienta muy útil para procesar todos los elementos de una lista de forma automatizada. Hay dos tipos de bucles que se utilizan comúnmente con las listas: el bucle ```for``` y el bucle ```while```.\n",
    "\n",
    "El bucle ```for``` se utiliza para recorrer los elementos de una lista y realizar una acción específica con cada uno de ellos. A continuación, te muestro un ejemplo de cómo usar un bucle ```for``` con una lista:"
   ]
  },
  {
   "cell_type": "code",
   "execution_count": 12,
   "metadata": {},
   "outputs": [
    {
     "name": "stdout",
     "output_type": "stream",
     "text": [
      "2\n",
      "4\n",
      "6\n",
      "8\n",
      "10\n"
     ]
    }
   ],
   "source": [
    "numeros = [1, 2, 3, 4, 5]\n",
    "\n",
    "# recorremos la lista y multiplicamos cada elemento por 2\n",
    "for numero in numeros:\n",
    "    resultado = numero * 2\n",
    "    print(resultado)\n"
   ]
  },
  {
   "attachments": {},
   "cell_type": "markdown",
   "metadata": {},
   "source": [
    "En este ejemplo, creamos una lista de números del 1 al 5 y utilizamos un bucle ```for``` para recorrer todos los elementos de la lista. Con cada elemento de la lista, multiplicamos su valor por 2 y luego imprimimos el resultado por pantalla.\n",
    "\n",
    "El bucle ```while```, por otro lado, se utiliza para recorrer los elementos de una lista hasta que se cumpla una condición específica. A continuación, te muestro un ejemplo de cómo usar un bucle ```while``` con una lista:"
   ]
  },
  {
   "attachments": {},
   "cell_type": "markdown",
   "metadata": {},
   "source": [
    "En este ejemplo, creamos una lista de números del 1 al 5 y utilizamos un bucle ```while``` para recorrer los elementos de la lista hasta encontrar un número mayor a 3. Con cada elemento de la lista, imprimimos su valor por pantalla y luego aumentamos el índice para pasar al siguiente elemento de la lista.\n",
    "\n",
    "En resumen, los bucles con listas en Python son una herramienta poderosa para procesar todos los elementos de una lista de forma automatizada, ya sea utilizando un bucle ```for``` o un bucle ```while```."
   ]
  },
  {
   "attachments": {},
   "cell_type": "markdown",
   "metadata": {},
   "source": [
    "## **Concatenación y repetición de listas**"
   ]
  },
  {
   "attachments": {},
   "cell_type": "markdown",
   "metadata": {},
   "source": [
    "La concatenación y repetición de listas en Python son operaciones que nos permiten unir varias listas en una sola o crear una lista que contenga varias copias de la misma lista.\n",
    "\n",
    "La concatenación de listas se realiza utilizando el operador ```+```. A continuación, te muestro un ejemplo de cómo utilizar la concatenación de listas en Python:"
   ]
  },
  {
   "cell_type": "code",
   "execution_count": 13,
   "metadata": {},
   "outputs": [
    {
     "name": "stdout",
     "output_type": "stream",
     "text": [
      "[1, 2, 3, 4, 5, 6]\n"
     ]
    }
   ],
   "source": [
    "lista1 = [1, 2, 3]\n",
    "lista2 = [4, 5, 6]\n",
    "\n",
    "# concatenamos las dos listas\n",
    "lista_concatenada = lista1 + lista2\n",
    "\n",
    "print(lista_concatenada)\n"
   ]
  },
  {
   "attachments": {},
   "cell_type": "markdown",
   "metadata": {},
   "source": [
    "En este ejemplo, creamos dos listas, ```lista1``` y ```lista2```, cada una con algunos números. Luego, utilizamos el operador ```+``` para concatenar las dos listas en una nueva lista llamada ```lista_concatenada```. El resultado de la concatenación es una nueva lista que contiene los elementos de las dos listas originales en orden.\n",
    "\n",
    "La repetición de listas se realiza utilizando el operador ```*```. A continuación, te muestro un ejemplo de cómo utilizar la repetición de listas en Python:"
   ]
  },
  {
   "cell_type": "code",
   "execution_count": 14,
   "metadata": {},
   "outputs": [
    {
     "name": "stdout",
     "output_type": "stream",
     "text": [
      "[1, 2, 3, 1, 2, 3, 1, 2, 3]\n"
     ]
    }
   ],
   "source": [
    "lista_original = [1, 2, 3]\n",
    "\n",
    "# repetimos la lista tres veces\n",
    "lista_repetida = lista_original * 3\n",
    "\n",
    "print(lista_repetida)\n"
   ]
  },
  {
   "attachments": {},
   "cell_type": "markdown",
   "metadata": {},
   "source": [
    "En este ejemplo, creamos una lista llamada ```lista_original``` con algunos números. Luego, utilizamos el operador ```*``` para repetir la lista tres veces en una nueva lista llamada ```lista_repetida```. El resultado de la repetición es una nueva lista que contiene tres copias de la lista original.\n",
    "\n",
    "En resumen, la concatenación y repetición de listas en Python son operaciones muy útiles para combinar varias listas en una sola o crear varias copias de una lista existente. La concatenación se realiza con el operador ```+``` y la repetición con el operador ```*```."
   ]
  },
  {
   "attachments": {},
   "cell_type": "markdown",
   "metadata": {},
   "source": [
    "## **Más métodos de listas**"
   ]
  },
  {
   "attachments": {},
   "cell_type": "markdown",
   "metadata": {},
   "source": [
    "En Python, existen varios métodos para manipular y modificar listas. A continuación, te mostraré algunos de los métodos más comunes con ejemplos para que puedas comprender su uso y funcionamiento:"
   ]
  },
  {
   "attachments": {},
   "cell_type": "markdown",
   "metadata": {},
   "source": [
    "* **append()**"
   ]
  },
  {
   "attachments": {},
   "cell_type": "markdown",
   "metadata": {},
   "source": [
    "El método ```append()``` se utiliza para agregar un elemento al final de una lista. A continuación, te muestro un ejemplo de cómo utilizar este método:"
   ]
  },
  {
   "cell_type": "code",
   "execution_count": 15,
   "metadata": {},
   "outputs": [
    {
     "name": "stdout",
     "output_type": "stream",
     "text": [
      "[1, 2, 3, 4]\n"
     ]
    }
   ],
   "source": [
    "lista = [1, 2, 3]\n",
    "\n",
    "# agregamos un elemento al final de la lista\n",
    "lista.append(4)\n",
    "\n",
    "print(lista)\n"
   ]
  },
  {
   "attachments": {},
   "cell_type": "markdown",
   "metadata": {},
   "source": [
    "En este ejemplo, creamos una lista llamada lista con los números 1, 2 y 3. Luego, utilizamos el método ```append()``` para agregar el número 4 al final de la lista. El resultado es una nueva lista que contiene los números 1, 2, 3 y 4."
   ]
  },
  {
   "attachments": {},
   "cell_type": "markdown",
   "metadata": {},
   "source": [
    "* **extend()**"
   ]
  },
  {
   "attachments": {},
   "cell_type": "markdown",
   "metadata": {},
   "source": [
    "El método ```extend()``` se utiliza para agregar varios elementos al final de una lista. A continuación, te muestro un ejemplo de cómo utilizar este método:"
   ]
  },
  {
   "cell_type": "code",
   "execution_count": 16,
   "metadata": {},
   "outputs": [
    {
     "name": "stdout",
     "output_type": "stream",
     "text": [
      "[1, 2, 3, 4, 5, 6]\n"
     ]
    }
   ],
   "source": [
    "lista1 = [1, 2, 3]\n",
    "lista2 = [4, 5, 6]\n",
    "\n",
    "# agregamos los elementos de la lista2 al final de la lista1\n",
    "lista1.extend(lista2)\n",
    "\n",
    "print(lista1)\n"
   ]
  },
  {
   "attachments": {},
   "cell_type": "markdown",
   "metadata": {},
   "source": [
    "En este ejemplo, creamos dos listas, lista1 y lista2. Luego, utilizamos el método ```extend()``` para agregar los elementos de lista2 al final de lista1. El resultado es una nueva lista que contiene los elementos de ambas listas, en este caso los números 1, 2, 3, 4, 5 y 6."
   ]
  },
  {
   "attachments": {},
   "cell_type": "markdown",
   "metadata": {},
   "source": [
    "* **insert()**"
   ]
  },
  {
   "attachments": {},
   "cell_type": "markdown",
   "metadata": {},
   "source": [
    "El método ```insert()``` se utiliza para agregar un elemento en una posición específica de una lista. A continuación, te muestro un ejemplo de cómo utilizar este método:"
   ]
  },
  {
   "cell_type": "code",
   "execution_count": 17,
   "metadata": {},
   "outputs": [
    {
     "name": "stdout",
     "output_type": "stream",
     "text": [
      "[1, 4, 2, 3]\n"
     ]
    }
   ],
   "source": [
    "lista = [1, 2, 3]\n",
    "\n",
    "# insertamos el número 4 en la segunda posición de la lista\n",
    "lista.insert(1, 4)\n",
    "\n",
    "print(lista)\n"
   ]
  },
  {
   "attachments": {},
   "cell_type": "markdown",
   "metadata": {},
   "source": [
    "En este ejemplo, creamos una lista llamada lista con los números 1, 2 y 3. Luego, utilizamos el método ```insert()``` para agregar el número 4 en la segunda posición de la lista. El resultado es una nueva lista que contiene los números 1, 4, 2 y 3."
   ]
  },
  {
   "attachments": {},
   "cell_type": "markdown",
   "metadata": {},
   "source": [
    "* **remove()**"
   ]
  },
  {
   "attachments": {},
   "cell_type": "markdown",
   "metadata": {},
   "source": [
    "El método ```remove()``` se utiliza para eliminar el primer elemento de una lista que coincida con un valor específico. A continuación, te muestro un ejemplo de cómo utilizar este método:"
   ]
  },
  {
   "cell_type": "code",
   "execution_count": 18,
   "metadata": {},
   "outputs": [
    {
     "name": "stdout",
     "output_type": "stream",
     "text": [
      "[1, 3, 2]\n"
     ]
    }
   ],
   "source": [
    "lista = [1, 2, 3, 2]\n",
    "\n",
    "# eliminamos el número 2 de la lista\n",
    "lista.remove(2)\n",
    "\n",
    "print(lista)\n"
   ]
  },
  {
   "attachments": {},
   "cell_type": "markdown",
   "metadata": {},
   "source": [
    "En este ejemplo, creamos una lista llamada lista con los números 1, 2, 3 y 2. Luego, utilizamos el método ```remove()``` para eliminar el primer número 2 que encuentre en la lista. El resultado es una nueva lista que contiene los números 1, 3 y 2."
   ]
  },
  {
   "attachments": {},
   "cell_type": "markdown",
   "metadata": {},
   "source": [
    "* **pop()**"
   ]
  },
  {
   "attachments": {},
   "cell_type": "markdown",
   "metadata": {},
   "source": [
    "El método ```pop()``` se utiliza para eliminar un elemento de una lista en una posición específica y devolver ese elemento. A continuación, te muestro un ejemplo de cómo utilizar este método:"
   ]
  },
  {
   "cell_type": "code",
   "execution_count": 19,
   "metadata": {},
   "outputs": [
    {
     "name": "stdout",
     "output_type": "stream",
     "text": [
      "[1, 3]\n",
      "2\n"
     ]
    }
   ],
   "source": [
    "lista = [1, 2, 3]\n",
    "\n",
    "# eliminamos el segundo elemento de la lista y lo guardamos en una variable\n",
    "elemento_eliminado = lista.pop(1)\n",
    "\n",
    "print(lista)\n",
    "print(elemento_eliminado)\n"
   ]
  },
  {
   "attachments": {},
   "cell_type": "markdown",
   "metadata": {},
   "source": [
    "* **index()**"
   ]
  },
  {
   "attachments": {},
   "cell_type": "markdown",
   "metadata": {},
   "source": [
    "El método ```index()``` se utiliza para encontrar el índice de la primera aparición de un elemento en una lista. A continuación, te muestro un ejemplo de cómo utilizar este método:"
   ]
  },
  {
   "cell_type": "code",
   "execution_count": 20,
   "metadata": {},
   "outputs": [
    {
     "name": "stdout",
     "output_type": "stream",
     "text": [
      "2\n"
     ]
    }
   ],
   "source": [
    "lista = [1, 2, 3, 4, 5]\n",
    "\n",
    "# buscamos el índice del número 3 en la lista\n",
    "indice = lista.index(3)\n",
    "\n",
    "print(indice)\n"
   ]
  },
  {
   "attachments": {},
   "cell_type": "markdown",
   "metadata": {},
   "source": [
    "En este ejemplo, creamos una lista llamada lista con los números 1, 2, 3, 4 y 5. Luego, utilizamos el método ```index()``` para buscar el índice del número 3 en la lista. El resultado es el número 2, ya que el número 3 se encuentra en la tercera posición de la lista y los índices en Python empiezan en cero."
   ]
  },
  {
   "attachments": {},
   "cell_type": "markdown",
   "metadata": {},
   "source": [
    "* **count()**"
   ]
  },
  {
   "attachments": {},
   "cell_type": "markdown",
   "metadata": {},
   "source": [
    "El método ```count()``` se utiliza para contar el número de veces que aparece un elemento en una lista. A continuación, te muestro un ejemplo de cómo utilizar este método:"
   ]
  },
  {
   "cell_type": "code",
   "execution_count": 21,
   "metadata": {},
   "outputs": [
    {
     "name": "stdout",
     "output_type": "stream",
     "text": [
      "3\n"
     ]
    }
   ],
   "source": [
    "lista = [1, 2, 3, 2, 4, 2]\n",
    "\n",
    "# contamos cuántas veces aparece el número 2 en la lista\n",
    "veces = lista.count(2)\n",
    "\n",
    "print(veces)\n"
   ]
  },
  {
   "attachments": {},
   "cell_type": "markdown",
   "metadata": {},
   "source": [
    "En este ejemplo, creamos una lista llamada lista con los números 1, 2, 3, 2, 4 y 2. Luego, utilizamos el método ```count()``` para contar cuántas veces aparece el número 2 en la lista. El resultado es el número 3, ya que el número 2 aparece tres veces en la lista."
   ]
  },
  {
   "attachments": {},
   "cell_type": "markdown",
   "metadata": {},
   "source": [
    "* **reverse()**"
   ]
  },
  {
   "attachments": {},
   "cell_type": "markdown",
   "metadata": {},
   "source": [
    "El método ```reverse()``` se utiliza para invertir el orden de los elementos de una lista. A continuación, te muestro un ejemplo de cómo utilizar este método:"
   ]
  },
  {
   "cell_type": "code",
   "execution_count": 22,
   "metadata": {},
   "outputs": [
    {
     "name": "stdout",
     "output_type": "stream",
     "text": [
      "[3, 2, 1]\n"
     ]
    }
   ],
   "source": [
    "lista = [1, 2, 3]\n",
    "\n",
    "# invertimos el orden de los elementos de la lista\n",
    "lista.reverse()\n",
    "\n",
    "print(lista)\n"
   ]
  },
  {
   "attachments": {},
   "cell_type": "markdown",
   "metadata": {},
   "source": [
    "En este ejemplo, creamos una lista llamada lista con los números 1, 2 y 3. Luego, utilizamos el método ```reverse()``` para invertir el orden de los elementos de la lista. El resultado es una nueva lista que contiene los números 3, 2 y 1."
   ]
  },
  {
   "attachments": {},
   "cell_type": "markdown",
   "metadata": {},
   "source": [
    "* **sort()**"
   ]
  },
  {
   "attachments": {},
   "cell_type": "markdown",
   "metadata": {},
   "source": [
    "El método ```sort()``` se utiliza para ordenar los elementos de una lista en orden ascendente. A continuación, te muestro un ejemplo de cómo utilizar este método:"
   ]
  },
  {
   "cell_type": "code",
   "execution_count": 23,
   "metadata": {},
   "outputs": [
    {
     "name": "stdout",
     "output_type": "stream",
     "text": [
      "[1, 1, 2, 3, 3, 4, 5, 5, 5, 6, 9]\n"
     ]
    }
   ],
   "source": [
    "lista = [3, 1, 4, 1, 5, 9, 2, 6, 5, 3, 5]\n",
    "\n",
    "# ordenamos los elementos de la lista en orden ascendente\n",
    "lista.sort()\n",
    "\n",
    "print(lista)\n"
   ]
  },
  {
   "attachments": {},
   "cell_type": "markdown",
   "metadata": {},
   "source": [
    "En este ejemplo, creamos una lista llamada lista con varios números desordenados. Luego, utilizamos el método ```sort()``` para ordenar los elementos de la lista en orden ascendente. El resultado es una nueva lista que contiene los números ordenados."
   ]
  },
  {
   "attachments": {},
   "cell_type": "markdown",
   "metadata": {},
   "source": [
    "* **clear()**"
   ]
  },
  {
   "attachments": {},
   "cell_type": "markdown",
   "metadata": {},
   "source": [
    "El método ```clear()``` se utiliza para eliminar todos los elementos de una lista. A continuación, te muestro un ejemplo de cómo utilizar este método:"
   ]
  },
  {
   "cell_type": "code",
   "execution_count": 24,
   "metadata": {},
   "outputs": [
    {
     "name": "stdout",
     "output_type": "stream",
     "text": [
      "[]\n"
     ]
    }
   ],
   "source": [
    "lista = [1, 2, 3]\n",
    "\n",
    "# eliminamos todos los elementos de la lista\n",
    "lista.clear()\n",
    "\n",
    "print(lista)\n"
   ]
  },
  {
   "attachments": {},
   "cell_type": "markdown",
   "metadata": {},
   "source": [
    "En este ejemplo, creamos una lista llamada lista con los números 1, 2 y 3. Luego, utilizamos el método ```clear()``` para eliminar todos"
   ]
  },
  {
   "attachments": {},
   "cell_type": "markdown",
   "metadata": {},
   "source": [
    "* **copy()**"
   ]
  },
  {
   "attachments": {},
   "cell_type": "markdown",
   "metadata": {},
   "source": [
    "El método ```copy()``` se utiliza para crear una copia de una lista. A continuación, te muestro un ejemplo de cómo utilizar este método:\n"
   ]
  },
  {
   "cell_type": "code",
   "execution_count": 25,
   "metadata": {},
   "outputs": [
    {
     "name": "stdout",
     "output_type": "stream",
     "text": [
      "[1, 2, 3]\n"
     ]
    }
   ],
   "source": [
    "lista = [1, 2, 3]\n",
    "\n",
    "# creamos una copia de la lista\n",
    "copia = lista.copy()\n",
    "\n",
    "print(copia)\n"
   ]
  },
  {
   "attachments": {},
   "cell_type": "markdown",
   "metadata": {},
   "source": [
    "En este ejemplo, creamos una lista llamada lista con los números 1, 2 y 3. Luego, utilizamos el método ```copy()``` para crear una copia de la lista. El resultado es una nueva lista que contiene los mismos elementos que la lista original."
   ]
  },
  {
   "attachments": {},
   "cell_type": "markdown",
   "metadata": {},
   "source": [
    "## **Conversión a listas**"
   ]
  },
  {
   "attachments": {},
   "cell_type": "markdown",
   "metadata": {},
   "source": [
    "La conversión a listas en Python se refiere a la capacidad de transformar diferentes tipos de datos en una lista. Existen varias formas de realizar esta conversión en Python, y a continuación te mostraré algunos ejemplos de cómo hacerlo."
   ]
  },
  {
   "attachments": {},
   "cell_type": "markdown",
   "metadata": {},
   "source": [
    "* **Conversión de una cadena en una lista:**"
   ]
  },
  {
   "attachments": {},
   "cell_type": "markdown",
   "metadata": {},
   "source": [
    "Para convertir una cadena en una lista, se utiliza el método ```split()```. Este método separa una cadena en una lista de subcadenas utilizando un delimitador que se especifica como parámetro. A continuación, te muestro un ejemplo de cómo utilizar este método:"
   ]
  },
  {
   "cell_type": "code",
   "execution_count": 26,
   "metadata": {},
   "outputs": [
    {
     "name": "stdout",
     "output_type": "stream",
     "text": [
      "['Hola', ' ¿cómo estás?']\n"
     ]
    }
   ],
   "source": [
    "cadena = \"Hola, ¿cómo estás?\"\n",
    "\n",
    "# separamos la cadena en una lista utilizando la coma como delimitador\n",
    "lista = cadena.split(\",\")\n",
    "\n",
    "print(lista)\n"
   ]
  },
  {
   "attachments": {},
   "cell_type": "markdown",
   "metadata": {},
   "source": [
    "En este ejemplo, creamos una cadena llamada cadena con el valor \"Hola, ¿cómo estás?\". Luego, utilizamos el método ```split()``` para separar la cadena en una lista utilizando la coma como delimitador. El resultado es una lista que contiene dos elementos: \"Hola\" y \" ¿cómo estás?\"."
   ]
  },
  {
   "attachments": {},
   "cell_type": "markdown",
   "metadata": {},
   "source": [
    "* **Conversión de una tupla en una lista:**"
   ]
  },
  {
   "attachments": {},
   "cell_type": "markdown",
   "metadata": {},
   "source": [
    "Para convertir una tupla en una lista, se utiliza la función ```list()```. A continuación, te muestro un ejemplo de cómo utilizar esta función:"
   ]
  },
  {
   "cell_type": "code",
   "execution_count": 27,
   "metadata": {},
   "outputs": [
    {
     "name": "stdout",
     "output_type": "stream",
     "text": [
      "[1, 2, 3]\n"
     ]
    }
   ],
   "source": [
    "tupla = (1, 2, 3)\n",
    "\n",
    "# convertimos la tupla en una lista\n",
    "lista = list(tupla)\n",
    "\n",
    "print(lista)\n"
   ]
  },
  {
   "attachments": {},
   "cell_type": "markdown",
   "metadata": {},
   "source": [
    "En este ejemplo, creamos una tupla llamada tupla con los valores 1, 2 y 3. Luego, utilizamos la función ```list()``` para convertir la tupla en una lista. El resultado es una lista que contiene los mismos elementos que la tupla."
   ]
  },
  {
   "attachments": {},
   "cell_type": "markdown",
   "metadata": {},
   "source": [
    "* **Conversión de un rango en una lista:**"
   ]
  },
  {
   "attachments": {},
   "cell_type": "markdown",
   "metadata": {},
   "source": [
    "Para convertir un rango en una lista, se utiliza la función ```list()```. A continuación, te muestro un ejemplo de cómo utilizar esta función:"
   ]
  },
  {
   "cell_type": "code",
   "execution_count": 28,
   "metadata": {},
   "outputs": [
    {
     "name": "stdout",
     "output_type": "stream",
     "text": [
      "[1, 2, 3, 4, 5]\n"
     ]
    }
   ],
   "source": [
    "rango = range(1, 6)\n",
    "\n",
    "# convertimos el rango en una lista\n",
    "lista = list(rango)\n",
    "\n",
    "print(lista)\n"
   ]
  },
  {
   "attachments": {},
   "cell_type": "markdown",
   "metadata": {},
   "source": [
    "En este ejemplo, creamos un rango con los valores del 1 al 5 utilizando la función ```range()```. Luego, utilizamos la función ```list()``` para convertir el rango en una lista. El resultado es una lista que contiene los valores del 1 al 5."
   ]
  },
  {
   "attachments": {},
   "cell_type": "markdown",
   "metadata": {},
   "source": [
    "* **Conversión de un conjunto en una lista:**"
   ]
  },
  {
   "attachments": {},
   "cell_type": "markdown",
   "metadata": {},
   "source": [
    "Para convertir un conjunto en una lista, se utiliza la función ```list()```. A continuación, te muestro un ejemplo de cómo utilizar esta función:"
   ]
  },
  {
   "cell_type": "code",
   "execution_count": 29,
   "metadata": {},
   "outputs": [
    {
     "name": "stdout",
     "output_type": "stream",
     "text": [
      "[1, 2, 3]\n"
     ]
    }
   ],
   "source": [
    "conjunto = {1, 2, 3}\n",
    "\n",
    "# convertimos el conjunto en una lista\n",
    "lista = list(conjunto)\n",
    "\n",
    "print(lista)\n"
   ]
  },
  {
   "attachments": {},
   "cell_type": "markdown",
   "metadata": {},
   "source": [
    "En este ejemplo, creamos un conjunto con los valores 1, 2 y 3. Luego, utilizamos la función ```list()``` para convertir el conjunto en una lista. El resultado es una lista que contiene los mismos elementos que el conjunto.\n",
    "\n",
    "En resumen, la conversión a listas en Python es una operación muy útil que permite transformar diferentes tipos de datos en una estructura de lista para poder manipularlos de manera más fácil y eficiente."
   ]
  },
  {
   "attachments": {},
   "cell_type": "markdown",
   "metadata": {},
   "source": [
    "## **Listas anidadas**"
   ]
  },
  {
   "attachments": {},
   "cell_type": "markdown",
   "metadata": {},
   "source": [
    "Las listas anidadas en Python son listas que contienen otras listas como elementos. Esto significa que se pueden crear listas con estructuras complejas y multidimensionales, lo que resulta muy útil en situaciones en las que se necesitan almacenar datos de forma organizada.\n",
    "\n",
    "A continuación, te muestro un ejemplo de cómo se puede crear una lista anidada en Python:"
   ]
  },
  {
   "cell_type": "code",
   "execution_count": 31,
   "metadata": {},
   "outputs": [
    {
     "name": "stdout",
     "output_type": "stream",
     "text": [
      "[[1, 2, 3], [4, 5, 6], [7, 8, 9]]\n"
     ]
    }
   ],
   "source": [
    "lista_anidada = [[1, 2, 3], [4, 5, 6], [7, 8, 9]]\n",
    "print(lista_anidada)"
   ]
  },
  {
   "attachments": {},
   "cell_type": "markdown",
   "metadata": {},
   "source": [
    "En este ejemplo, hemos creado una lista anidada que contiene tres listas, cada una de las cuales tiene tres elementos.\n",
    "\n",
    "Para acceder a los elementos de una lista anidada, se utilizan índices dobles. El primer índice indica la posición de la lista que se desea acceder, mientras que el segundo índice indica la posición del elemento dentro de esa lista. A continuación, te muestro un ejemplo de cómo acceder a los elementos de una lista anidada:"
   ]
  },
  {
   "cell_type": "code",
   "execution_count": 32,
   "metadata": {},
   "outputs": [
    {
     "name": "stdout",
     "output_type": "stream",
     "text": [
      "4\n"
     ]
    }
   ],
   "source": [
    "lista_anidada = [[1, 2, 3], [4, 5, 6], [7, 8, 9]]\n",
    "\n",
    "# accedemos al primer elemento de la segunda lista\n",
    "elemento = lista_anidada[1][0]\n",
    "\n",
    "print(elemento)\n"
   ]
  },
  {
   "attachments": {},
   "cell_type": "markdown",
   "metadata": {},
   "source": [
    "En este ejemplo, hemos accedido al primer elemento de la segunda lista de la lista anidada. El resultado es el número 4.\n",
    "\n",
    "También se pueden utilizar bucles para recorrer los elementos de una lista anidada. A continuación, te muestro un ejemplo de cómo recorrer los elementos de una lista anidada utilizando un bucle ```for```:"
   ]
  },
  {
   "cell_type": "code",
   "execution_count": 33,
   "metadata": {},
   "outputs": [
    {
     "name": "stdout",
     "output_type": "stream",
     "text": [
      "1\n",
      "2\n",
      "3\n",
      "4\n",
      "5\n",
      "6\n",
      "7\n",
      "8\n",
      "9\n"
     ]
    }
   ],
   "source": [
    "lista_anidada = [[1, 2, 3], [4, 5, 6], [7, 8, 9]]\n",
    "\n",
    "# recorremos los elementos de la lista anidada\n",
    "for lista in lista_anidada:\n",
    "    for elemento in lista:\n",
    "        print(elemento)\n"
   ]
  },
  {
   "attachments": {},
   "cell_type": "markdown",
   "metadata": {},
   "source": [
    "En este ejemplo, hemos utilizado dos bucles ```for``` para recorrer los elementos de la lista anidada. El primer bucle recorre las listas de la lista anidada, y el segundo bucle recorre los elementos de cada una de esas listas. El resultado es la impresión de cada uno de los elementos de la lista anidada.\n",
    "\n",
    "En resumen, las listas anidadas en Python son una forma útil de almacenar datos de forma estructurada y multidimensional. Se pueden acceder a los elementos de una lista anidada utilizando índices dobles y se pueden recorrer utilizando bucles ```for```."
   ]
  },
  {
   "attachments": {},
   "cell_type": "markdown",
   "metadata": {},
   "source": [
    "## **Matrices con listas**"
   ]
  },
  {
   "attachments": {},
   "cell_type": "markdown",
   "metadata": {},
   "source": [
    "Las matrices son una estructura de datos bidimensional que se utiliza para representar información tabular, como una hoja de cálculo o una imagen. En Python, se pueden utilizar listas anidadas para crear matrices.\n",
    "\n",
    "A continuación, te muestro un ejemplo de cómo se puede crear una matriz en Python utilizando listas anidadas:"
   ]
  },
  {
   "cell_type": "code",
   "execution_count": 34,
   "metadata": {},
   "outputs": [],
   "source": [
    "matriz = [[1, 2, 3], [4, 5, 6], [7, 8, 9]]\n"
   ]
  },
  {
   "attachments": {},
   "cell_type": "markdown",
   "metadata": {},
   "source": [
    "En este ejemplo, hemos creado una matriz de 3x3 con números del 1 al 9.\n",
    "\n",
    "Para acceder a los elementos de una matriz, se utilizan índices dobles, donde el primer índice indica la fila y el segundo indica la columna. A continuación, te muestro un ejemplo de cómo acceder a los elementos de una matriz:"
   ]
  },
  {
   "cell_type": "code",
   "execution_count": 35,
   "metadata": {},
   "outputs": [
    {
     "name": "stdout",
     "output_type": "stream",
     "text": [
      "4\n"
     ]
    }
   ],
   "source": [
    "matriz = [[1, 2, 3], [4, 5, 6], [7, 8, 9]]\n",
    "\n",
    "# accedemos al elemento de la fila 2 y columna 1\n",
    "elemento = matriz[1][0]\n",
    "\n",
    "print(elemento)\n"
   ]
  },
  {
   "attachments": {},
   "cell_type": "markdown",
   "metadata": {},
   "source": [
    "En este ejemplo, hemos accedido al elemento de la fila 2 y columna 1 de la matriz. El resultado es el número 4.\n",
    "\n",
    "También se pueden utilizar bucles para recorrer los elementos de una matriz. A continuación, te muestro un ejemplo de cómo recorrer los elementos de una matriz utilizando dos bucles ```for```:"
   ]
  },
  {
   "cell_type": "code",
   "execution_count": 36,
   "metadata": {},
   "outputs": [
    {
     "name": "stdout",
     "output_type": "stream",
     "text": [
      "1\n",
      "2\n",
      "3\n",
      "4\n",
      "5\n",
      "6\n",
      "7\n",
      "8\n",
      "9\n"
     ]
    }
   ],
   "source": [
    "matriz = [[1, 2, 3], [4, 5, 6], [7, 8, 9]]\n",
    "\n",
    "# recorremos los elementos de la matriz\n",
    "for fila in matriz:\n",
    "    for elemento in fila:\n",
    "        print(elemento)\n"
   ]
  },
  {
   "attachments": {},
   "cell_type": "markdown",
   "metadata": {},
   "source": [
    "En este ejemplo, hemos utilizado dos bucles for para recorrer los elementos de la matriz. El primer bucle recorre las filas de la matriz, y el segundo bucle recorre los elementos de cada una de esas filas. El resultado es la impresión de cada uno de los elementos de la matriz.\n",
    "\n",
    "En resumen, las matrices en Python se pueden crear utilizando listas anidadas, y se pueden acceder y recorrer utilizando índices dobles y bucles for. Las matrices son una estructura de datos útil para representar información tabular en programas Python."
   ]
  },
  {
   "attachments": {},
   "cell_type": "markdown",
   "metadata": {},
   "source": [
    "## **Matrices con numpy**"
   ]
  },
  {
   "attachments": {},
   "cell_type": "markdown",
   "metadata": {},
   "source": [
    "```NumPy``` es una biblioteca de Python utilizada para trabajar con matrices y arreglos numéricos de gran tamaño. Una de las características principales de ```NumPy``` es que ofrece una amplia variedad de funciones y métodos para operar con matrices de manera eficiente. En particular, ```NumPy``` ofrece una clase llamada ndarray que es muy útil para trabajar con matrices.\n",
    "\n",
    "A continuación, te mostraré cómo se pueden crear matrices con ```NumPy``` utilizando la clase ```ndarray``` y cómo se pueden realizar operaciones con ellas:"
   ]
  },
  {
   "attachments": {},
   "cell_type": "markdown",
   "metadata": {},
   "source": [
    "* **Creación de matrices con NumPy**"
   ]
  },
  {
   "attachments": {},
   "cell_type": "markdown",
   "metadata": {},
   "source": [
    "Para crear una matriz con ```NumPy```, es necesario importar la biblioteca y utilizar la función ```array()```. A continuación, te muestro un ejemplo de cómo crear una matriz de 3x3 con valores aleatorios:"
   ]
  },
  {
   "cell_type": "code",
   "execution_count": 37,
   "metadata": {},
   "outputs": [
    {
     "name": "stdout",
     "output_type": "stream",
     "text": [
      "[[1 2 3]\n",
      " [4 5 6]\n",
      " [7 8 9]]\n"
     ]
    }
   ],
   "source": [
    "import numpy as np\n",
    "\n",
    "matriz = np.array([[1, 2, 3], [4, 5, 6], [7, 8, 9]])\n",
    "\n",
    "print(matriz)\n"
   ]
  },
  {
   "attachments": {},
   "cell_type": "markdown",
   "metadata": {},
   "source": [
    "En este ejemplo, hemos importado ```NumPy``` como ```np```, y hemos creado una matriz de 3x3 con valores del 1 al 9 utilizando la función ```array()```. La matriz resultante se ha guardado en la variable matriz."
   ]
  },
  {
   "attachments": {},
   "cell_type": "markdown",
   "metadata": {},
   "source": [
    "* **Operaciones con matrices en NumPy**"
   ]
  },
  {
   "attachments": {},
   "cell_type": "markdown",
   "metadata": {},
   "source": [
    "Una vez que se ha creado una matriz con ```NumPy```, es posible realizar diferentes operaciones matemáticas con ella utilizando los métodos que ofrece ```NumPy```. A continuación, te muestro algunos ejemplos de operaciones que se pueden realizar con matrices en ```NumPy```:"
   ]
  },
  {
   "attachments": {},
   "cell_type": "markdown",
   "metadata": {},
   "source": [
    "* **Suma de matrices**\n",
    "\n",
    "La suma de matrices se puede realizar utilizando el operador ```+```. A continuación, te muestro un ejemplo de cómo sumar dos matrices en ```NumPy```:"
   ]
  },
  {
   "cell_type": "code",
   "execution_count": 38,
   "metadata": {},
   "outputs": [
    {
     "name": "stdout",
     "output_type": "stream",
     "text": [
      "[[ 6  8]\n",
      " [10 12]]\n"
     ]
    }
   ],
   "source": [
    "import numpy as np\n",
    "\n",
    "matriz1 = np.array([[1, 2], [3, 4]])\n",
    "matriz2 = np.array([[5, 6], [7, 8]])\n",
    "\n",
    "suma = matriz1 + matriz2\n",
    "\n",
    "print(suma)\n"
   ]
  },
  {
   "attachments": {},
   "cell_type": "markdown",
   "metadata": {},
   "source": [
    "En este ejemplo, hemos creado dos matrices de 2x2 (matriz1 y matriz2) y las hemos sumado utilizando el operador ```+```. El resultado se ha guardado en la variable suma y se ha impreso por pantalla.\n",
    "\n",
    "* **Multiplicación de matrices**\n",
    "\n",
    "La multiplicación de matrices se puede realizar utilizando el método ```dot()```. A continuación, te muestro un ejemplo de cómo multiplicar dos matrices en ```NumPy```:"
   ]
  },
  {
   "cell_type": "code",
   "execution_count": 39,
   "metadata": {},
   "outputs": [
    {
     "name": "stdout",
     "output_type": "stream",
     "text": [
      "[[19 22]\n",
      " [43 50]]\n"
     ]
    }
   ],
   "source": [
    "import numpy as np\n",
    "\n",
    "matriz1 = np.array([[1, 2], [3, 4]])\n",
    "matriz2 = np.array([[5, 6], [7, 8]])\n",
    "\n",
    "multiplicacion = matriz1.dot(matriz2)\n",
    "\n",
    "print(multiplicacion)\n"
   ]
  },
  {
   "attachments": {},
   "cell_type": "markdown",
   "metadata": {},
   "source": [
    "En este ejemplo, hemos creado dos matrices de 2x2 (matriz1 y matriz2) y las hemos multiplicado utilizando el método ```dot()```. El resultado se ha guardado en la variable multiplicacion y se ha impreso por pantalla.\n",
    "\n",
    "* **Transposición de matrices**\n",
    "\n",
    "La transposición de una matriz se puede realizar utilizando el método ```T```. A continuación, te muestro un ejemplo de cómo transponer una matriz en ```NumPy```:"
   ]
  },
  {
   "cell_type": "code",
   "execution_count": 40,
   "metadata": {},
   "outputs": [
    {
     "name": "stdout",
     "output_type": "stream",
     "text": [
      "[[1 3]\n",
      " [2 4]]\n"
     ]
    }
   ],
   "source": [
    "import numpy as np\n",
    "\n",
    "matriz = np.array([[1, 2], [3, 4]])\n",
    "\n",
    "transpuesta = matriz.T\n",
    "\n",
    "print(transpuesta)\n"
   ]
  },
  {
   "attachments": {},
   "cell_type": "markdown",
   "metadata": {},
   "source": [
    "En este ejemplo, hemos creado una matriz de 2x2 (matriz) y la hemos transpuesto utilizando el método ```T```."
   ]
  },
  {
   "attachments": {},
   "cell_type": "markdown",
   "metadata": {},
   "source": [
    "Las matrices en ```NumPy``` son una estructura de datos fundamental para el procesamiento de datos numéricos y científicos. En esencia, una matriz es un arreglo bidimensional de números. ```NumPy``` proporciona una implementación eficiente de matrices y un conjunto completo de funciones para realizar operaciones matriciales.\n",
    "\n",
    "Para crear una matriz en ```NumPy```, podemos usar la función ```array()```. La sintaxis básica es la siguiente:"
   ]
  },
  {
   "cell_type": "code",
   "execution_count": 41,
   "metadata": {},
   "outputs": [
    {
     "name": "stdout",
     "output_type": "stream",
     "text": [
      "[[1 2 3]\n",
      " [4 5 6]\n",
      " [7 8 9]]\n"
     ]
    }
   ],
   "source": [
    "import numpy as np\n",
    "\n",
    "matriz = np.array([[1, 2, 3], [4, 5, 6], [7, 8, 9]])\n",
    "print(matriz)\n"
   ]
  },
  {
   "attachments": {},
   "cell_type": "markdown",
   "metadata": {},
   "source": [
    "En este ejemplo, hemos creado una matriz de tamaño 3x3, que contiene los números del 1 al 9. La función ```array()``` toma una lista de listas como argumento y crea una matriz a partir de ella.\n",
    "\n",
    "Podemos acceder a los elementos de una matriz utilizando la notación de corchetes. La sintaxis es la misma que para las listas, pero en este caso necesitamos especificar un índice para cada dimensión de la matriz. Por ejemplo:"
   ]
  },
  {
   "cell_type": "code",
   "execution_count": 42,
   "metadata": {},
   "outputs": [
    {
     "name": "stdout",
     "output_type": "stream",
     "text": [
      "1\n",
      "6\n"
     ]
    }
   ],
   "source": [
    "print(matriz[0][0]) # imprime 1\n",
    "print(matriz[1][2]) # imprime 6\n"
   ]
  },
  {
   "attachments": {},
   "cell_type": "markdown",
   "metadata": {},
   "source": [
    "También podemos realizar operaciones matriciales con ```NumPy```. Por ejemplo, podemos sumar dos matrices utilizando el operador ```+```:"
   ]
  },
  {
   "cell_type": "code",
   "execution_count": 43,
   "metadata": {},
   "outputs": [
    {
     "name": "stdout",
     "output_type": "stream",
     "text": [
      "[[ 6  8]\n",
      " [10 12]]\n"
     ]
    }
   ],
   "source": [
    "matriz1 = np.array([[1, 2], [3, 4]])\n",
    "matriz2 = np.array([[5, 6], [7, 8]])\n",
    "resultado = matriz1 + matriz2\n",
    "print(resultado)\n"
   ]
  },
  {
   "attachments": {},
   "cell_type": "markdown",
   "metadata": {},
   "source": [
    "Además de las operaciones aritméticas básicas, ```NumPy``` proporciona muchas otras funciones para trabajar con matrices. Por ejemplo, podemos calcular la transpuesta de una matriz utilizando la función ```transpose()```:"
   ]
  },
  {
   "cell_type": "code",
   "execution_count": 44,
   "metadata": {},
   "outputs": [
    {
     "name": "stdout",
     "output_type": "stream",
     "text": [
      "[[1 4]\n",
      " [2 5]\n",
      " [3 6]]\n"
     ]
    }
   ],
   "source": [
    "matriz = np.array([[1, 2, 3], [4, 5, 6]])\n",
    "transpuesta = np.transpose(matriz)\n",
    "print(transpuesta)\n"
   ]
  },
  {
   "attachments": {},
   "cell_type": "markdown",
   "metadata": {},
   "source": [
    "## **Estructuras de datos: Listas**"
   ]
  },
  {
   "attachments": {},
   "cell_type": "markdown",
   "metadata": {},
   "source": [
    "Las listas son una estructura de datos muy común en Python. En esencia, una lista es una colección ordenada de elementos, que pueden ser de diferentes tipos, como números, cadenas de caracteres o incluso otras listas. Cada elemento de una lista está identificado por un índice, que comienza en cero.\n",
    "\n",
    "Para crear una lista en Python, simplemente encierra los elementos de la lista entre corchetes y sepáralos por comas. Por ejemplo:"
   ]
  },
  {
   "cell_type": "code",
   "execution_count": 45,
   "metadata": {},
   "outputs": [],
   "source": [
    "lista = [1, 2, 3, 4, 5]\n"
   ]
  },
  {
   "attachments": {},
   "cell_type": "markdown",
   "metadata": {},
   "source": [
    "En este ejemplo, hemos creado una lista con cinco elementos, que son los números del 1 al 5.\n",
    "\n",
    "Podemos acceder a los elementos de una lista utilizando la notación de corchetes. Por ejemplo, para acceder al segundo elemento de la lista, podemos usar el índice 1:"
   ]
  },
  {
   "cell_type": "code",
   "execution_count": 46,
   "metadata": {},
   "outputs": [
    {
     "name": "stdout",
     "output_type": "stream",
     "text": [
      "2\n"
     ]
    }
   ],
   "source": [
    "print(lista[1]) # imprime 2\n"
   ]
  },
  {
   "attachments": {},
   "cell_type": "markdown",
   "metadata": {},
   "source": [
    "También podemos modificar los elementos de una lista utilizando la misma notación de corchetes:"
   ]
  },
  {
   "cell_type": "code",
   "execution_count": 47,
   "metadata": {},
   "outputs": [
    {
     "name": "stdout",
     "output_type": "stream",
     "text": [
      "[6, 2, 3, 4, 5]\n"
     ]
    }
   ],
   "source": [
    "lista[0] = 6\n",
    "print(lista) # imprime [6, 2, 3, 4, 5]\n"
   ]
  },
  {
   "attachments": {},
   "cell_type": "markdown",
   "metadata": {},
   "source": [
    "Además, Python proporciona una serie de funciones para trabajar con listas. Por ejemplo, podemos agregar un elemento al final de una lista utilizando la función ```append()```:"
   ]
  },
  {
   "cell_type": "code",
   "execution_count": 48,
   "metadata": {},
   "outputs": [
    {
     "name": "stdout",
     "output_type": "stream",
     "text": [
      "[6, 2, 3, 4, 5, 6]\n"
     ]
    }
   ],
   "source": [
    "lista.append(6)\n",
    "print(lista) # imprime [6, 2, 3, 4, 5, 6]\n"
   ]
  },
  {
   "attachments": {},
   "cell_type": "markdown",
   "metadata": {},
   "source": [
    "También podemos insertar un elemento en una posición específica de la lista utilizando la función ```insert()```:"
   ]
  },
  {
   "cell_type": "code",
   "execution_count": 49,
   "metadata": {},
   "outputs": [
    {
     "name": "stdout",
     "output_type": "stream",
     "text": [
      "[6, 2, 7, 3, 4, 5, 6]\n"
     ]
    }
   ],
   "source": [
    "lista.insert(2, 7)\n",
    "print(lista) # imprime [6, 2, 7, 3, 4, 5, 6]\n"
   ]
  },
  {
   "attachments": {},
   "cell_type": "markdown",
   "metadata": {},
   "source": [
    "Para eliminar un elemento de una lista, podemos utilizar la función ```remove()```:"
   ]
  },
  {
   "cell_type": "code",
   "execution_count": 50,
   "metadata": {},
   "outputs": [
    {
     "name": "stdout",
     "output_type": "stream",
     "text": [
      "[6, 2, 7, 3, 5, 6]\n"
     ]
    }
   ],
   "source": [
    "lista.remove(4)\n",
    "print(lista) # imprime [6, 2, 7, 3, 5, 6]\n"
   ]
  },
  {
   "attachments": {},
   "cell_type": "markdown",
   "metadata": {},
   "source": [
    "También podemos ordenar los elementos de una lista utilizando la función ```sort()```:"
   ]
  },
  {
   "cell_type": "code",
   "execution_count": 51,
   "metadata": {},
   "outputs": [
    {
     "name": "stdout",
     "output_type": "stream",
     "text": [
      "[2, 3, 5, 6, 6, 7]\n"
     ]
    }
   ],
   "source": [
    "lista.sort()\n",
    "print(lista) # imprime [2, 3, 5, 6, 6, 7]\n"
   ]
  },
  {
   "attachments": {},
   "cell_type": "markdown",
   "metadata": {},
   "source": [
    "Además de estas funciones básicas, Python proporciona muchas otras funciones para trabajar con listas. Por ejemplo, podemos usar la función ```len()``` para obtener la longitud de una lista, la función ```max()``` para obtener el elemento máximo de una lista, y la función ```min()``` para obtener el elemento mínimo de una lista.\n",
    "\n",
    "En resumen, las listas son una estructura de datos muy útil en Python para almacenar y manipular colecciones de elementos. Con las funciones proporcionadas por Python, podemos realizar una gran variedad de operaciones en las listas para satisfacer nuestras necesidades de programación."
   ]
  },
  {
   "attachments": {},
   "cell_type": "markdown",
   "metadata": {},
   "source": [
    "## **Lists**"
   ]
  },
  {
   "attachments": {},
   "cell_type": "markdown",
   "metadata": {},
   "source": [
    "Hay cuatro tipos de datos de colección en Python:\n",
    "\n",
    "* **Lista:** es una colección ordenada y cambiable (modificable). Permite miembros duplicados.\n",
    "* **Tupla:** es una colección ordenada e inmutable o inmodificable (inmutable). Permite miembros duplicados.\n",
    "* **Conjunto:** es una colección desordenada, no indexada y no modificable, pero podemos agregar nuevos elementos al conjunto. No se permiten miembros duplicados.\n",
    "* **Diccionario:** es una colección desordenada, cambiable (modificable) e indexada. No hay miembros duplicados.\n",
    "\n",
    "Una lista es una colección de diferentes tipos de datos ordenados y modificables (mutables). Una lista puede estar vacía o puede tener diferentes elementos de tipo de datos."
   ]
  },
  {
   "attachments": {},
   "cell_type": "markdown",
   "metadata": {},
   "source": [
    "### **Cómo crear una lista**"
   ]
  },
  {
   "attachments": {},
   "cell_type": "markdown",
   "metadata": {},
   "source": [
    "En Python podemos crear listas de dos formas:"
   ]
  },
  {
   "attachments": {},
   "cell_type": "markdown",
   "metadata": {},
   "source": [
    "* Uso de la función incorporada de lista"
   ]
  },
  {
   "cell_type": "code",
   "execution_count": 52,
   "metadata": {},
   "outputs": [],
   "source": [
    "# syntax\n",
    "lst = list()"
   ]
  },
  {
   "cell_type": "code",
   "execution_count": 53,
   "metadata": {},
   "outputs": [
    {
     "name": "stdout",
     "output_type": "stream",
     "text": [
      "0\n"
     ]
    }
   ],
   "source": [
    "empty_list = list() # esta es una lista vacía, no hay ningún elemento en la lista\n",
    "print(len(empty_list)) # 0"
   ]
  },
  {
   "attachments": {},
   "cell_type": "markdown",
   "metadata": {},
   "source": [
    "* Usando corchetes, []"
   ]
  },
  {
   "cell_type": "code",
   "execution_count": 54,
   "metadata": {},
   "outputs": [],
   "source": [
    "# syntax\n",
    "lst = []"
   ]
  },
  {
   "cell_type": "code",
   "execution_count": 55,
   "metadata": {},
   "outputs": [
    {
     "name": "stdout",
     "output_type": "stream",
     "text": [
      "0\n"
     ]
    }
   ],
   "source": [
    "empty_list = [] # esta es una lista vacía, no hay ningún elemento en la lista\n",
    "print(len(empty_list)) # 0"
   ]
  },
  {
   "attachments": {},
   "cell_type": "markdown",
   "metadata": {},
   "source": [
    "Listas con valores iniciales. Usamos ```len()``` para encontrar la longitud de una lista."
   ]
  },
  {
   "cell_type": "code",
   "execution_count": 56,
   "metadata": {},
   "outputs": [
    {
     "name": "stdout",
     "output_type": "stream",
     "text": [
      "Fruits: ['banana', 'orange', 'mango', 'lemon']\n",
      "Number of fruits: 4\n",
      "Vegetables: ['Tomato', 'Potato', 'Cabbage', 'Onion', 'Carrot']\n",
      "Number of vegetables: 5\n",
      "Animal products: ['milk', 'meat', 'butter', 'yoghurt']\n",
      "Number of animal products: 4\n",
      "Web technologies: ['HTML', 'CSS', 'JS', 'React', 'Redux', 'Node', 'MongDB']\n",
      "Number of web technologies: 7\n",
      "Countries: ['Finland', 'Estonia', 'Denmark', 'Sweden', 'Norway']\n",
      "Number of countries: 5\n"
     ]
    }
   ],
   "source": [
    "fruits = ['banana', 'orange', 'mango', 'lemon']                     # lista de frutas\n",
    "vegetables = ['Tomato', 'Potato', 'Cabbage','Onion', 'Carrot']      # lista de verduras\n",
    "animal_products = ['milk', 'meat', 'butter', 'yoghurt']             # lista de productos animales\n",
    "web_techs = ['HTML', 'CSS', 'JS', 'React','Redux', 'Node', 'MongDB'] # lista de tecnologías web\n",
    "countries = ['Finland', 'Estonia', 'Denmark', 'Sweden', 'Norway']\n",
    "\n",
    "# Imprime las listas y su longitud\n",
    "print('Fruits:', fruits)\n",
    "print('Number of fruits:', len(fruits))\n",
    "print('Vegetables:', vegetables)\n",
    "print('Number of vegetables:', len(vegetables))\n",
    "print('Animal products:',animal_products)\n",
    "print('Number of animal products:', len(animal_products))\n",
    "print('Web technologies:', web_techs)\n",
    "print('Number of web technologies:', len(web_techs))\n",
    "print('Countries:', countries)\n",
    "print('Number of countries:', len(countries))"
   ]
  },
  {
   "attachments": {},
   "cell_type": "markdown",
   "metadata": {},
   "source": [
    "* Las listas pueden tener elementos de diferentes tipos de datos"
   ]
  },
  {
   "cell_type": "code",
   "execution_count": 57,
   "metadata": {},
   "outputs": [
    {
     "name": "stdout",
     "output_type": "stream",
     "text": [
      "['Asabeneh', 25, True, {'country': 'Finland', 'city': 'Helsinki'}]\n"
     ]
    }
   ],
   "source": [
    "lst = ['Asabeneh', 25, True, {'country':'Finland', 'city':'Helsinki'}] # lista que contiene diferentes tipos de datos\n",
    "print(lst)"
   ]
  },
  {
   "attachments": {},
   "cell_type": "markdown",
   "metadata": {},
   "source": [
    "### **Acceder a los elementos de la lista mediante la indexación positiva**"
   ]
  },
  {
   "attachments": {},
   "cell_type": "markdown",
   "metadata": {},
   "source": [
    "Accedemos a cada elemento de una lista utilizando su índice. El índice de una lista comienza desde 0. La siguiente imagen muestra claramente dónde comienza el índice"
   ]
  },
  {
   "attachments": {},
   "cell_type": "markdown",
   "metadata": {},
   "source": [
    "![indexacion positiva](../imagenes%20Python/list_index.png \"indexacion positiva\")"
   ]
  },
  {
   "cell_type": "code",
   "execution_count": 58,
   "metadata": {},
   "outputs": [
    {
     "name": "stdout",
     "output_type": "stream",
     "text": [
      "banana\n",
      "orange\n",
      "lemon\n"
     ]
    }
   ],
   "source": [
    "fruits = ['banana', 'orange', 'mango', 'lemon']\n",
    "first_fruit = fruits[0] # estamos accediendo al primer elemento usando su índice\n",
    "print(first_fruit)      # banana\n",
    "second_fruit = fruits[1]\n",
    "print(second_fruit)     # orange\n",
    "last_fruit = fruits[3]\n",
    "print(last_fruit) # lemon\n",
    "# Last index\n",
    "last_index = len(fruits) - 1\n",
    "last_fruit = fruits[last_index]"
   ]
  },
  {
   "attachments": {},
   "cell_type": "markdown",
   "metadata": {},
   "source": [
    "### **Acceder a los elementos de la lista mediante la indexación negativa**"
   ]
  },
  {
   "attachments": {},
   "cell_type": "markdown",
   "metadata": {},
   "source": [
    "La indexación negativa significa comenzar desde el final, -1 se refiere al último elemento, -2 se refiere al penúltimo elemento."
   ]
  },
  {
   "attachments": {},
   "cell_type": "markdown",
   "metadata": {},
   "source": [
    "![indexacion negativa](../imagenes%20Python/list_negative_indexing.png \"indexacion negativa\")"
   ]
  },
  {
   "cell_type": "code",
   "execution_count": 59,
   "metadata": {},
   "outputs": [
    {
     "name": "stdout",
     "output_type": "stream",
     "text": [
      "banana\n",
      "lemon\n",
      "mango\n"
     ]
    }
   ],
   "source": [
    "fruits = ['banana', 'orange', 'mango', 'lemon']\n",
    "first_fruit = fruits[-4]\n",
    "last_fruit = fruits[-1]\n",
    "second_last = fruits[-2]\n",
    "print(first_fruit)      # banana\n",
    "print(last_fruit)       # lemon\n",
    "print(second_last)      # mango"
   ]
  },
  {
   "attachments": {},
   "cell_type": "markdown",
   "metadata": {},
   "source": [
    "### **Desempaquetar elementos de la lista**"
   ]
  },
  {
   "cell_type": "code",
   "execution_count": 60,
   "metadata": {},
   "outputs": [
    {
     "name": "stdout",
     "output_type": "stream",
     "text": [
      "item\n",
      "item2\n",
      "item3\n",
      "['item4', 'item5']\n"
     ]
    }
   ],
   "source": [
    "lst = ['item','item2','item3', 'item4', 'item5']\n",
    "first_item, second_item, third_item, *rest = lst\n",
    "print(first_item)     # item1\n",
    "print(second_item)    # item2\n",
    "print(third_item)     # item3\n",
    "print(rest)           # ['item4', 'item5']\n"
   ]
  },
  {
   "cell_type": "code",
   "execution_count": 61,
   "metadata": {},
   "outputs": [
    {
     "name": "stdout",
     "output_type": "stream",
     "text": [
      "item\n",
      "item2\n",
      "item3\n",
      "['item4', 'item5']\n"
     ]
    }
   ],
   "source": [
    "# Primer ejemplo\n",
    "fruits = ['banana', 'orange', 'mango', 'lemon','lime','apple']\n",
    "first_fruit, second_fruit, third_fruit, *rest = lst\n",
    "print(first_fruit)     # banana\n",
    "print(second_fruit)    # orange\n",
    "print(third_fruit)     # mango\n",
    "print(rest)           # ['lemon','lime','apple']"
   ]
  },
  {
   "cell_type": "code",
   "execution_count": 62,
   "metadata": {},
   "outputs": [
    {
     "name": "stdout",
     "output_type": "stream",
     "text": [
      "1\n",
      "2\n",
      "3\n",
      "[4, 5, 6, 7, 8, 9]\n",
      "10\n"
     ]
    }
   ],
   "source": [
    "# Segundo ejemplo sobre la lista de desembalaje\n",
    "first, second, third,*rest, tenth = [1,2,3,4,5,6,7,8,9,10]\n",
    "print(first)          # 1\n",
    "print(second)         # 2\n",
    "print(third)          # 3\n",
    "print(rest)           # [4,5,6,7,8,9]\n",
    "print(tenth)          # 10"
   ]
  },
  {
   "cell_type": "code",
   "execution_count": 63,
   "metadata": {},
   "outputs": [
    {
     "name": "stdout",
     "output_type": "stream",
     "text": [
      "Germany\n",
      "France\n",
      "Belgium\n",
      "Sweden\n",
      "['Denmark', 'Finland', 'Norway', 'Iceland']\n",
      "Estonia\n"
     ]
    }
   ],
   "source": [
    "# Tercer ejemplo sobre la lista de desembalaje\n",
    "countries = ['Germany', 'France','Belgium','Sweden','Denmark','Finland','Norway','Iceland','Estonia']\n",
    "gr, fr, bg, sw, *scandic, es = countries\n",
    "print(gr)\n",
    "print(fr)\n",
    "print(bg)\n",
    "print(sw)\n",
    "print(scandic)\n",
    "print(es)"
   ]
  },
  {
   "attachments": {},
   "cell_type": "markdown",
   "metadata": {},
   "source": [
    "### **Slicing elementos de una lista**"
   ]
  },
  {
   "attachments": {},
   "cell_type": "markdown",
   "metadata": {},
   "source": [
    "* **Indexación positiva:** podemos especificar un rango de índices positivos especificando el inicio, el final y el paso, el valor de retorno será una nueva lista. (valores predeterminados para ```inicio = 0```, ```final = len (lst) - 1 (último elemento)```, ```paso = 1```)"
   ]
  },
  {
   "cell_type": "code",
   "execution_count": 64,
   "metadata": {},
   "outputs": [
    {
     "name": "stdout",
     "output_type": "stream",
     "text": [
      "['banana', 'orange', 'mango', 'lemon']\n"
     ]
    }
   ],
   "source": [
    "fruits = ['banana', 'orange', 'mango', 'lemon']\n",
    "all_fruits = fruits[0:4] # devuelve todas las frutas\n",
    "print(all_fruits)"
   ]
  },
  {
   "cell_type": "code",
   "execution_count": 65,
   "metadata": {},
   "outputs": [
    {
     "name": "stdout",
     "output_type": "stream",
     "text": [
      "['banana', 'orange', 'mango', 'lemon']\n",
      "['orange', 'mango']\n",
      "['orange', 'mango', 'lemon']\n",
      "['banana', 'mango']\n"
     ]
    }
   ],
   "source": [
    "# esto también dará el mismo resultado que el anterior\n",
    "all_fruits = fruits[0:] # si no establecemos dónde parar, toma todo el resto\n",
    "print(all_fruits)\n",
    "orange_and_mango = fruits[1:3] # no incluye el primer índice\n",
    "print(orange_and_mango)\n",
    "orange_mango_lemon = fruits[1:]\n",
    "print(orange_mango_lemon)\n",
    "orange_and_lemon = fruits[::2] # aquí usamos un tercer argumento, paso. Tomará cada segundo artículo - ['banana', 'mango']\n",
    "print(orange_and_lemon)"
   ]
  },
  {
   "attachments": {},
   "cell_type": "markdown",
   "metadata": {},
   "source": [
    "* **Indexación negativa:** podemos especificar un rango de índices negativos especificando el inicio, el final y el paso, el valor devuelto será una nueva lista."
   ]
  },
  {
   "cell_type": "code",
   "execution_count": 66,
   "metadata": {},
   "outputs": [
    {
     "name": "stdout",
     "output_type": "stream",
     "text": [
      "['banana', 'orange', 'mango', 'lemon']\n",
      "['orange', 'mango']\n",
      "['orange', 'mango', 'lemon']\n",
      "['lemon', 'mango', 'orange', 'banana']\n"
     ]
    }
   ],
   "source": [
    "fruits = ['banana', 'orange', 'mango', 'lemon']\n",
    "all_fruits = fruits[-4:] # devuelve todas las frutas\n",
    "print(all_fruits)\n",
    "orange_and_mango = fruits[-3:-1] # no incluye el último índice,['naranja', 'mango']\n",
    "print(orange_and_mango)\n",
    "orange_mango_lemon = fruits[-3:] # esto dará a partir de -3 hasta el final,['naranja', 'mango', 'limón']\n",
    "print(orange_mango_lemon)\n",
    "reverse_fruits = fruits[::-1] # un paso negativo tomará la lista en orden inverso,['limón', 'mango', 'naranja', 'plátano']\n",
    "print(reverse_fruits)"
   ]
  },
  {
   "attachments": {},
   "cell_type": "markdown",
   "metadata": {},
   "source": [
    "### **Modificación de listas**"
   ]
  },
  {
   "attachments": {},
   "cell_type": "markdown",
   "metadata": {},
   "source": [
    "Lista es una colección ordenada mutable o modificable de elementos. Vamos a modificar la lista de frutas."
   ]
  },
  {
   "cell_type": "code",
   "execution_count": 67,
   "metadata": {},
   "outputs": [
    {
     "name": "stdout",
     "output_type": "stream",
     "text": [
      "['avocado', 'orange', 'mango', 'lemon']\n",
      "['avocado', 'apple', 'mango', 'lemon']\n",
      "['avocado', 'apple', 'mango', 'lime']\n"
     ]
    }
   ],
   "source": [
    "fruits = ['banana', 'orange', 'mango', 'lemon']\n",
    "fruits[0] = 'avocado'\n",
    "print(fruits)       #  ['avocado', 'orange', 'mango', 'lemon']\n",
    "fruits[1] = 'apple'\n",
    "print(fruits)       #  ['avocado', 'apple', 'mango', 'lemon']\n",
    "last_index = len(fruits) - 1\n",
    "fruits[last_index] = 'lime'\n",
    "print(fruits)        #  ['avocado', 'apple', 'mango', 'lime']"
   ]
  },
  {
   "attachments": {},
   "cell_type": "markdown",
   "metadata": {},
   "source": [
    "### **Comprobación de elementos en una lista**"
   ]
  },
  {
   "attachments": {},
   "cell_type": "markdown",
   "metadata": {},
   "source": [
    "Comprobación de un elemento si es miembro de una lista mediante el operador ```in```. Vea el ejemplo a continuación."
   ]
  },
  {
   "cell_type": "code",
   "execution_count": 68,
   "metadata": {},
   "outputs": [
    {
     "name": "stdout",
     "output_type": "stream",
     "text": [
      "True\n",
      "False\n"
     ]
    }
   ],
   "source": [
    "fruits = ['banana', 'orange', 'mango', 'lemon']\n",
    "does_exist = 'banana' in fruits\n",
    "print(does_exist)  # True\n",
    "does_exist = 'lime' in fruits\n",
    "print(does_exist)  # False"
   ]
  },
  {
   "attachments": {},
   "cell_type": "markdown",
   "metadata": {},
   "source": [
    "### **Adición de elementos a una lista**"
   ]
  },
  {
   "attachments": {},
   "cell_type": "markdown",
   "metadata": {},
   "source": [
    "Para agregar un elemento al final de una lista existente, usamos el método ```append()```."
   ]
  },
  {
   "cell_type": "code",
   "execution_count": 69,
   "metadata": {},
   "outputs": [
    {
     "name": "stdout",
     "output_type": "stream",
     "text": [
      "['banana', 'orange', 'mango', 'lemon', 'apple']\n",
      "['banana', 'orange', 'mango', 'lemon', 'apple', 'lime']\n"
     ]
    }
   ],
   "source": [
    "fruits = ['banana', 'orange', 'mango', 'lemon']\n",
    "fruits.append('apple')\n",
    "print(fruits)           # ['banana', 'orange', 'mango', 'lemon', 'apple']\n",
    "fruits.append('lime')   # ['banana', 'orange', 'mango', 'lemon', 'apple', 'lime']\n",
    "print(fruits)"
   ]
  },
  {
   "attachments": {},
   "cell_type": "markdown",
   "metadata": {},
   "source": [
    "### **Insertar elementos en una lista**"
   ]
  },
  {
   "attachments": {},
   "cell_type": "markdown",
   "metadata": {},
   "source": [
    "Podemos usar el método ```insert()``` para insertar un solo elemento en un índice específico en una lista. Tenga en cuenta que otros elementos se desplazan a la derecha. Los métodos ```insert()``` toman dos argumentos: índice y un elemento para insertar."
   ]
  },
  {
   "cell_type": "code",
   "execution_count": 70,
   "metadata": {},
   "outputs": [
    {
     "name": "stdout",
     "output_type": "stream",
     "text": [
      "['banana', 'orange', 'apple', 'mango', 'lemon']\n",
      "['banana', 'orange', 'apple', 'lime', 'mango', 'lemon']\n"
     ]
    }
   ],
   "source": [
    "fruits = ['banana', 'orange', 'mango', 'lemon']\n",
    "fruits.insert(2, 'apple') # insertar manzana entre naranja y mango\n",
    "print(fruits)           # ['banana', 'orange', 'apple', 'mango', 'lemon']\n",
    "fruits.insert(3, 'lime')   # ['banana', 'orange', 'apple', 'lime', 'mango', 'lemon']\n",
    "print(fruits)"
   ]
  },
  {
   "attachments": {},
   "cell_type": "markdown",
   "metadata": {},
   "source": [
    "### **Eliminación de elementos de una lista**"
   ]
  },
  {
   "attachments": {},
   "cell_type": "markdown",
   "metadata": {},
   "source": [
    "El método de eliminación elimina un elemento específico de una lista"
   ]
  },
  {
   "cell_type": "code",
   "execution_count": 71,
   "metadata": {},
   "outputs": [
    {
     "name": "stdout",
     "output_type": "stream",
     "text": [
      "['orange', 'mango', 'lemon', 'banana']\n",
      "['orange', 'mango', 'banana']\n"
     ]
    }
   ],
   "source": [
    "fruits = ['banana', 'orange', 'mango', 'lemon', 'banana']\n",
    "fruits.remove('banana')\n",
    "print(fruits)  # ['orange', 'mango', 'lemon', 'banana'] - este método elimina la primera aparición del elemento en la lista\n",
    "fruits.remove('lemon')\n",
    "print(fruits)  # ['orange', 'mango', 'banana']"
   ]
  },
  {
   "attachments": {},
   "cell_type": "markdown",
   "metadata": {},
   "source": [
    "### **Eliminación de elementos mediante Pop**"
   ]
  },
  {
   "attachments": {},
   "cell_type": "markdown",
   "metadata": {},
   "source": [
    "El método ```pop()``` elimina el índice especificado (o el último elemento si no se especifica el índice):"
   ]
  },
  {
   "cell_type": "code",
   "execution_count": 72,
   "metadata": {},
   "outputs": [
    {
     "name": "stdout",
     "output_type": "stream",
     "text": [
      "['banana', 'orange', 'mango']\n",
      "['orange', 'mango']\n"
     ]
    }
   ],
   "source": [
    "fruits = ['banana', 'orange', 'mango', 'lemon']\n",
    "fruits.pop()\n",
    "print(fruits)       # ['banana', 'orange', 'mango']\n",
    "\n",
    "fruits.pop(0)\n",
    "print(fruits)       # ['orange', 'mango']"
   ]
  },
  {
   "attachments": {},
   "cell_type": "markdown",
   "metadata": {},
   "source": [
    "### **Eliminación de elementos mediante Del**"
   ]
  },
  {
   "attachments": {},
   "cell_type": "markdown",
   "metadata": {},
   "source": [
    "La palabra clave del elimina el índice especificado y también se puede usar para eliminar elementos dentro del rango del índice. También puede eliminar la lista por completo."
   ]
  },
  {
   "cell_type": "code",
   "execution_count": 73,
   "metadata": {},
   "outputs": [
    {
     "name": "stdout",
     "output_type": "stream",
     "text": [
      "['orange', 'mango', 'lemon', 'kiwi', 'lime']\n",
      "['orange', 'lemon', 'kiwi', 'lime']\n",
      "['orange', 'lime']\n"
     ]
    }
   ],
   "source": [
    "fruits = ['banana', 'orange', 'mango', 'lemon', 'kiwi', 'lime']\n",
    "del fruits[0]\n",
    "print(fruits)       # ['orange', 'mango', 'lemon', 'kiwi', 'lime']\n",
    "del fruits[1]\n",
    "print(fruits)       # ['orange', 'lemon', 'kiwi', 'lime']\n",
    "del fruits[1:3]     # esto elimina los elementos entre los índices dados, ¡así que no elimina el elemento con el índice 3!\n",
    "print(fruits)       # ['orange', 'lime']\n",
    "del fruits\n",
    "#print(fruits)       # Esto debería dar: NameError: el nombre 'frutas' no está definido"
   ]
  },
  {
   "attachments": {},
   "cell_type": "markdown",
   "metadata": {},
   "source": [
    "### **Elementos de la lista de compensación**"
   ]
  },
  {
   "attachments": {},
   "cell_type": "markdown",
   "metadata": {},
   "source": [
    "El método ```clear()``` vacía la lista:"
   ]
  },
  {
   "cell_type": "code",
   "execution_count": 74,
   "metadata": {},
   "outputs": [
    {
     "name": "stdout",
     "output_type": "stream",
     "text": [
      "[]\n"
     ]
    }
   ],
   "source": [
    "fruits = ['banana', 'orange', 'mango', 'lemon']\n",
    "fruits.clear()\n",
    "print(fruits)       # []"
   ]
  },
  {
   "attachments": {},
   "cell_type": "markdown",
   "metadata": {},
   "source": [
    "### **Copiar una lista**"
   ]
  },
  {
   "attachments": {},
   "cell_type": "markdown",
   "metadata": {},
   "source": [
    "Es posible copiar una lista reasignándola a una nueva variable de la siguiente forma: ```lista2 = lista1```. Ahora, ```list2``` es una referencia de ```list1```, cualquier cambio que hagamos en ```list2``` también modificará el original, ```list1```. Pero hay muchos casos en los que no nos gusta modificar el original sino que nos gusta tener una copia diferente. Una forma de evitar el problema anterior es usar ```copy()```."
   ]
  },
  {
   "cell_type": "code",
   "execution_count": 75,
   "metadata": {},
   "outputs": [
    {
     "name": "stdout",
     "output_type": "stream",
     "text": [
      "['banana', 'orange', 'mango', 'lemon']\n"
     ]
    }
   ],
   "source": [
    "fruits = ['banana', 'orange', 'mango', 'lemon']\n",
    "fruits_copy = fruits.copy()\n",
    "print(fruits_copy)       # ['banana', 'orange', 'mango', 'lemon']"
   ]
  },
  {
   "attachments": {},
   "cell_type": "markdown",
   "metadata": {},
   "source": [
    "### **Unirse a listas**"
   ]
  },
  {
   "attachments": {},
   "cell_type": "markdown",
   "metadata": {},
   "source": [
    "Hay varias formas de unir o concatenar dos o más listas en Python."
   ]
  },
  {
   "attachments": {},
   "cell_type": "markdown",
   "metadata": {},
   "source": [
    "* Operador más (+)"
   ]
  },
  {
   "cell_type": "code",
   "execution_count": 76,
   "metadata": {},
   "outputs": [
    {
     "name": "stdout",
     "output_type": "stream",
     "text": [
      "[-5, -4, -3, -2, -1, 0, 1, 2, 3, 4, 5]\n",
      "['banana', 'orange', 'mango', 'lemon', 'Tomato', 'Potato', 'Cabbage', 'Onion', 'Carrot']\n"
     ]
    }
   ],
   "source": [
    "positive_numbers = [1, 2, 3, 4, 5]\n",
    "zero = [0]\n",
    "negative_numbers = [-5,-4,-3,-2,-1]\n",
    "integers = negative_numbers + zero + positive_numbers\n",
    "print(integers) # [-5, -4, -3, -2, -1, 0, 1, 2, 3, 4, 5]\n",
    "fruits = ['banana', 'orange', 'mango', 'lemon']\n",
    "vegetables = ['Tomato', 'Potato', 'Cabbage', 'Onion', 'Carrot']\n",
    "fruits_and_vegetables = fruits + vegetables\n",
    "print(fruits_and_vegetables ) # ['banana', 'orange', 'mango', 'lemon', 'Tomato', 'Potato', 'Cabbage', 'Onion', 'Carrot']"
   ]
  },
  {
   "attachments": {},
   "cell_type": "markdown",
   "metadata": {},
   "source": [
    "* Unirse usando el método ```extend()``` El método ```extend()``` permite agregar una lista en una lista. Vea el ejemplo a continuación."
   ]
  },
  {
   "cell_type": "code",
   "execution_count": 77,
   "metadata": {},
   "outputs": [
    {
     "name": "stdout",
     "output_type": "stream",
     "text": [
      "Numbers: [0, 1, 2, 3, 4, 5, 6]\n",
      "Integers: [-5, -4, -3, -2, -1, 0, 1, 2, 3, 4, 5]\n",
      "Fruits and vegetables: ['banana', 'orange', 'mango', 'lemon', 'Tomato', 'Potato', 'Cabbage', 'Onion', 'Carrot']\n"
     ]
    }
   ],
   "source": [
    "num1 = [0, 1, 2, 3]\n",
    "num2= [4, 5, 6]\n",
    "num1.extend(num2)\n",
    "print('Numbers:', num1) # Numbers: [0, 1, 2, 3, 4, 5, 6]\n",
    "negative_numbers = [-5,-4,-3,-2,-1]\n",
    "positive_numbers = [1, 2, 3,4,5]\n",
    "zero = [0]\n",
    "\n",
    "negative_numbers.extend(zero)\n",
    "negative_numbers.extend(positive_numbers)\n",
    "print('Integers:', negative_numbers) # Integers: [-5, -4, -3, -2, -1, 0, 1, 2, 3, 4, 5]\n",
    "fruits = ['banana', 'orange', 'mango', 'lemon']\n",
    "vegetables = ['Tomato', 'Potato', 'Cabbage', 'Onion', 'Carrot']\n",
    "fruits.extend(vegetables)\n",
    "print('Fruits and vegetables:', fruits ) # Fruits and vegetables: ['banana', 'orange', 'mango', 'lemon', 'Tomato', 'Potato', 'Cabbage', 'Onion', 'Carrot']"
   ]
  },
  {
   "attachments": {},
   "cell_type": "markdown",
   "metadata": {},
   "source": [
    "### **Contar elementos en una lista**"
   ]
  },
  {
   "attachments": {},
   "cell_type": "markdown",
   "metadata": {},
   "source": [
    "El método ```count()``` devuelve el número de veces que aparece un elemento en una lista:"
   ]
  },
  {
   "cell_type": "code",
   "execution_count": 78,
   "metadata": {},
   "outputs": [
    {
     "name": "stdout",
     "output_type": "stream",
     "text": [
      "1\n",
      "3\n"
     ]
    }
   ],
   "source": [
    "fruits = ['banana', 'orange', 'mango', 'lemon']\n",
    "print(fruits.count('orange'))   # 1\n",
    "ages = [22, 19, 24, 25, 26, 24, 25, 24]\n",
    "print(ages.count(24))           # 3"
   ]
  },
  {
   "attachments": {},
   "cell_type": "markdown",
   "metadata": {},
   "source": [
    "### **Encontrar el índice de un elemento**"
   ]
  },
  {
   "attachments": {},
   "cell_type": "markdown",
   "metadata": {},
   "source": [
    "El método ```index()``` devuelve el índice de un elemento de la lista:"
   ]
  },
  {
   "cell_type": "code",
   "execution_count": 79,
   "metadata": {},
   "outputs": [
    {
     "name": "stdout",
     "output_type": "stream",
     "text": [
      "1\n",
      "2\n"
     ]
    }
   ],
   "source": [
    "fruits = ['banana', 'orange', 'mango', 'lemon']\n",
    "print(fruits.index('orange'))   # 1\n",
    "ages = [22, 19, 24, 25, 26, 24, 25, 24]\n",
    "print(ages.index(24))           # 2, la primera ocurrencia"
   ]
  },
  {
   "attachments": {},
   "cell_type": "markdown",
   "metadata": {},
   "source": [
    "### **Invertir una lista**"
   ]
  },
  {
   "attachments": {},
   "cell_type": "markdown",
   "metadata": {},
   "source": [
    "El método ```reverse()``` invierte el orden de una lista."
   ]
  },
  {
   "cell_type": "code",
   "execution_count": 80,
   "metadata": {},
   "outputs": [
    {
     "name": "stdout",
     "output_type": "stream",
     "text": [
      "['lemon', 'mango', 'orange', 'banana']\n",
      "[24, 25, 24, 26, 25, 24, 19, 22]\n"
     ]
    }
   ],
   "source": [
    "fruits = ['banana', 'orange', 'mango', 'lemon']\n",
    "fruits.reverse()\n",
    "print(fruits) # ['lemon', 'mango', 'orange', 'banana']\n",
    "ages = [22, 19, 24, 25, 26, 24, 25, 24]\n",
    "ages.reverse()\n",
    "print(ages) # [24, 25, 24, 26, 25, 24, 19, 22]"
   ]
  },
  {
   "attachments": {},
   "cell_type": "markdown",
   "metadata": {},
   "source": [
    "### **Clasificación de elementos de la lista**"
   ]
  },
  {
   "attachments": {},
   "cell_type": "markdown",
   "metadata": {},
   "source": [
    "Para ordenar listas, podemos usar el método ```sort()``` o las funciones integradas ```sorted()```. El método ```sort()``` reordena los elementos de la lista en orden ascendente y modifica la lista original. Si un argumento del método ```sort()``` reverse es igual a verdadero, ordenará la lista en orden descendente."
   ]
  },
  {
   "attachments": {},
   "cell_type": "markdown",
   "metadata": {},
   "source": [
    "* **sort():** este método modifica la lista original"
   ]
  },
  {
   "cell_type": "code",
   "execution_count": 81,
   "metadata": {},
   "outputs": [
    {
     "name": "stdout",
     "output_type": "stream",
     "text": [
      "['banana', 'lemon', 'mango', 'orange']\n",
      "['orange', 'mango', 'lemon', 'banana']\n",
      "[19, 22, 24, 24, 24, 25, 25, 26]\n",
      "[26, 25, 25, 24, 24, 24, 22, 19]\n"
     ]
    }
   ],
   "source": [
    "fruits = ['banana', 'orange', 'mango', 'lemon']\n",
    "fruits.sort()\n",
    "print(fruits)             # sorted in alphabetical order, ['banana', 'lemon', 'mango', 'orange']\n",
    "fruits.sort(reverse=True)\n",
    "print(fruits) # ['orange', 'mango', 'lemon', 'banana']\n",
    "ages = [22, 19, 24, 25, 26, 24, 25, 24]\n",
    "ages.sort()\n",
    "print(ages) #  [19, 22, 24, 24, 24, 25, 25, 26]\n",
    "\n",
    "ages.sort(reverse=True)\n",
    "print(ages) #  [26, 25, 25, 24, 24, 24, 22, 19]"
   ]
  },
  {
   "attachments": {},
   "cell_type": "markdown",
   "metadata": {},
   "source": [
    "* **sorted():** devuelve la lista ordenada sin modificar la lista original"
   ]
  },
  {
   "cell_type": "code",
   "execution_count": 82,
   "metadata": {},
   "outputs": [
    {
     "name": "stdout",
     "output_type": "stream",
     "text": [
      "['banana', 'lemon', 'mango', 'orange']\n",
      "['orange', 'mango', 'lemon', 'banana']\n"
     ]
    }
   ],
   "source": [
    "fruits = ['banana', 'orange', 'mango', 'lemon']\n",
    "print(sorted(fruits))   # ['banana', 'lemon', 'mango', 'orange']\n",
    "# Orden inverso\n",
    "fruits = ['banana', 'orange', 'mango', 'lemon']\n",
    "fruits = sorted(fruits,reverse=True)\n",
    "print(fruits)     # ['orange', 'mango', 'lemon', 'banana']"
   ]
  },
  {
   "attachments": {},
   "cell_type": "markdown",
   "metadata": {},
   "source": [
    "| **Inicio** | **atrás 5** | **Siguiente 7** |\n",
    "|----------- |-------------- |---------------|\n",
    "| [🏠](../../README.md) | [⏪](./5.Operadores_de_iteracion.ipynb)| [⏩](./7.Estructuras_de_datos_Diccionarios.ipynb)|"
   ]
  }
 ],
 "metadata": {
  "kernelspec": {
   "display_name": "base",
   "language": "python",
   "name": "python3"
  },
  "language_info": {
   "codemirror_mode": {
    "name": "ipython",
    "version": 3
   },
   "file_extension": ".py",
   "mimetype": "text/x-python",
   "name": "python",
   "nbconvert_exporter": "python",
   "pygments_lexer": "ipython3",
   "version": "3.9.12"
  },
  "orig_nbformat": 4
 },
 "nbformat": 4,
 "nbformat_minor": 2
}
