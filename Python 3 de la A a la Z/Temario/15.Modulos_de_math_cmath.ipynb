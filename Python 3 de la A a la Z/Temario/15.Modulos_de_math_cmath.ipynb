{
 "cells": [
  {
   "attachments": {},
   "cell_type": "markdown",
   "metadata": {},
   "source": [
    "| **Inicio** | **atrás 14** | **Siguiente 16** |\n",
    "|----------- |-------------- |---------------|\n",
    "| [🏠](../../README.md) | [⏪](./14.Scripts_Modulos.ipynb)| [⏩](./16.Modulos_Numpy.ipynb)|"
   ]
  },
  {
   "attachments": {},
   "cell_type": "markdown",
   "metadata": {},
   "source": [
    "# **15. Módulos de Python: math y cmath**"
   ]
  },
  {
   "attachments": {},
   "cell_type": "markdown",
   "metadata": {},
   "source": [
    "## **El módulo math**"
   ]
  },
  {
   "attachments": {},
   "cell_type": "markdown",
   "metadata": {},
   "source": [
    "El módulo `math` es un módulo integrado de Python que proporciona funciones matemáticas y constantes. Este módulo contiene una amplia variedad de funciones matemáticas que pueden ser utilizadas para realizar operaciones aritméticas y cálculos matemáticos más complejos.\n",
    "\n",
    "Aquí hay algunos ejemplos de cómo se puede utilizar el módulo `math` en Python:"
   ]
  },
  {
   "cell_type": "code",
   "execution_count": 1,
   "metadata": {},
   "outputs": [
    {
     "name": "stdout",
     "output_type": "stream",
     "text": [
      "5\n",
      "3.14\n",
      "3.141592653589793\n",
      "2.718281828459045\n",
      "1.0\n",
      "0.7071067811865476\n",
      "7.38905609893065\n",
      "2.302585092994046\n"
     ]
    }
   ],
   "source": [
    "import math\n",
    "\n",
    "# Valor absoluto\n",
    "print(abs(-5))  # 5\n",
    "\n",
    "# Redondear números\n",
    "print(round(3.14159, 2))  # 3.14\n",
    "\n",
    "# Constantes\n",
    "print(math.pi)  # 3.141592653589793\n",
    "print(math.e)  # 2.718281828459045\n",
    "\n",
    "# Funciones trigonométricas\n",
    "print(math.sin(math.pi/2))  # 1.0\n",
    "print(math.cos(math.pi/4))  # 0.7071067811865476\n",
    "\n",
    "# Funciones exponenciales y logarítmicas\n",
    "print(math.exp(2))  # 7.3890560989306495\n",
    "print(math.log(10))  # 2.302585092994046\n"
   ]
  },
  {
   "attachments": {},
   "cell_type": "markdown",
   "metadata": {},
   "source": [
    "En este ejemplo, se importa el módulo `math` y se utilizan algunas de sus funciones y constantes. La función `abs()` se utiliza para calcular el valor absoluto de un número, mientras que la función `round()` se utiliza para redondear un número a un número específico de decimales.\n",
    "\n",
    "El módulo `math` también proporciona algunas constantes matemáticas comunes, como `pi` y `e`. Estas constantes se pueden utilizar en cálculos matemáticos.\n",
    "\n",
    "Las funciones trigonométricas como `sin()` y `cos()` se pueden utilizar para calcular el seno y el coseno de un ángulo dado. Las funciones exponenciales y logarítmicas como `exp()` y `log()` se pueden utilizar para calcular el valor exponencial y el logaritmo natural de un número, respectivamente.\n",
    "\n",
    "En resumen, el módulo `math` es una herramienta útil para realizar cálculos matemáticos en Python. Ofrece una variedad de funciones y constantes matemáticas que pueden ser utilizadas para realizar cálculos precisos y eficientes."
   ]
  },
  {
   "attachments": {},
   "cell_type": "markdown",
   "metadata": {},
   "source": [
    "## **Constantes del módulo math**"
   ]
  },
  {
   "attachments": {},
   "cell_type": "markdown",
   "metadata": {},
   "source": [
    "El módulo `math` de Python proporciona varias constantes matemáticas que se pueden utilizar en cálculos matemáticos. Aquí hay algunos ejemplos de constantes comunes del módulo `math`:\n",
    "\n",
    "* `math.pi`: la constante pi (π) es la relación entre la circunferencia y el diámetro de un círculo. Su valor aproximado es 3.141592653589793."
   ]
  },
  {
   "cell_type": "code",
   "execution_count": 2,
   "metadata": {},
   "outputs": [
    {
     "name": "stdout",
     "output_type": "stream",
     "text": [
      "3.141592653589793\n"
     ]
    }
   ],
   "source": [
    "import math\n",
    "\n",
    "print(math.pi)  # 3.141592653589793\n"
   ]
  },
  {
   "attachments": {},
   "cell_type": "markdown",
   "metadata": {},
   "source": [
    "* `math.e`: la constante e es una constante matemática importante que es la base de los logaritmos naturales. Su valor aproximado es 2.718281828459045."
   ]
  },
  {
   "cell_type": "code",
   "execution_count": 3,
   "metadata": {},
   "outputs": [
    {
     "name": "stdout",
     "output_type": "stream",
     "text": [
      "2.718281828459045\n"
     ]
    }
   ],
   "source": [
    "import math\n",
    "\n",
    "print(math.e)  # 2.718281828459045\n"
   ]
  },
  {
   "attachments": {},
   "cell_type": "markdown",
   "metadata": {},
   "source": [
    "* `math.tau`: la constante tau (τ) es otra constante matemática que es igual a 2π. Es útil para algunos cálculos matemáticos, especialmente en geometría. Su valor aproximado es 6.283185307179586."
   ]
  },
  {
   "cell_type": "code",
   "execution_count": 4,
   "metadata": {},
   "outputs": [
    {
     "name": "stdout",
     "output_type": "stream",
     "text": [
      "6.283185307179586\n"
     ]
    }
   ],
   "source": [
    "import math\n",
    "\n",
    "print(math.tau)  # 6.283185307179586\n"
   ]
  },
  {
   "attachments": {},
   "cell_type": "markdown",
   "metadata": {},
   "source": [
    "* `math.inf`: esta constante representa el infinito matemático positivo. Puede ser utilizado en cálculos matemáticos para representar valores que son mayores que cualquier número finito."
   ]
  },
  {
   "cell_type": "code",
   "execution_count": 5,
   "metadata": {},
   "outputs": [
    {
     "name": "stdout",
     "output_type": "stream",
     "text": [
      "inf\n",
      "inf\n",
      "inf\n"
     ]
    }
   ],
   "source": [
    "import math\n",
    "\n",
    "x = math.inf\n",
    "print(x)  # inf\n",
    "print(x + 1)  # inf\n",
    "print(x * 2)  # inf\n"
   ]
  },
  {
   "attachments": {},
   "cell_type": "markdown",
   "metadata": {},
   "source": [
    "* `math.nan`: esta constante representa \"no un número\" (NaN), que es un valor especial que se utiliza en cálculos matemáticos para representar resultados indeterminados o imposibles."
   ]
  },
  {
   "cell_type": "code",
   "execution_count": 6,
   "metadata": {},
   "outputs": [
    {
     "name": "stdout",
     "output_type": "stream",
     "text": [
      "nan\n",
      "nan\n",
      "nan\n"
     ]
    }
   ],
   "source": [
    "import math\n",
    "\n",
    "x = math.nan\n",
    "print(x)  # nan\n",
    "print(x + 1)  # nan\n",
    "print(x * 2)  # nan\n"
   ]
  },
  {
   "attachments": {},
   "cell_type": "markdown",
   "metadata": {},
   "source": [
    "Estas son solo algunas de las constantes que se pueden encontrar en el módulo `math`. Además de estas constantes, el módulo `math` también proporciona funciones matemáticas para realizar cálculos más complejos, como funciones trigonométricas, logarítmicas, exponenciales y más."
   ]
  },
  {
   "attachments": {},
   "cell_type": "markdown",
   "metadata": {},
   "source": [
    "## **Métodos. Parte entera de un número**"
   ]
  },
  {
   "attachments": {},
   "cell_type": "markdown",
   "metadata": {},
   "source": [
    "En Python, el método `int()` se puede utilizar para obtener la parte entera de un número. Este método convierte un número en un entero, eliminando cualquier parte decimal. Si el número es negativo, la parte entera se redondea hacia cero.\n",
    "\n",
    "**Ejemplo:**"
   ]
  },
  {
   "cell_type": "code",
   "execution_count": 7,
   "metadata": {},
   "outputs": [
    {
     "name": "stdout",
     "output_type": "stream",
     "text": [
      "3\n",
      "-4\n"
     ]
    }
   ],
   "source": [
    "num = 3.14159\n",
    "integer = int(num)\n",
    "print(integer)  # Output: 3\n",
    "\n",
    "num2 = -4.8\n",
    "integer2 = int(num2)\n",
    "print(integer2)  # Output: -4\n"
   ]
  },
  {
   "attachments": {},
   "cell_type": "markdown",
   "metadata": {},
   "source": [
    "También podemos usar el método `math.floor()` del módulo `math` para obtener la parte entera de un número, que redondea el número a la parte entera inferior.\n",
    "\n",
    "**Ejemplo:**"
   ]
  },
  {
   "cell_type": "code",
   "execution_count": 8,
   "metadata": {},
   "outputs": [
    {
     "name": "stdout",
     "output_type": "stream",
     "text": [
      "3\n",
      "-5\n"
     ]
    }
   ],
   "source": [
    "import math\n",
    "\n",
    "num = 3.14159\n",
    "integer = math.floor(num)\n",
    "print(integer)  # Output: 3\n",
    "\n",
    "num2 = -4.8\n",
    "integer2 = math.floor(num2)\n",
    "print(integer2)  # Output: -5\n"
   ]
  },
  {
   "attachments": {},
   "cell_type": "markdown",
   "metadata": {},
   "source": [
    "Además, también se puede usar el método `math.trunc()` para obtener la parte entera de un número, que simplemente elimina la parte decimal del número sin redondear.\n",
    "\n",
    "**Ejemplo:**"
   ]
  },
  {
   "cell_type": "code",
   "execution_count": 9,
   "metadata": {},
   "outputs": [
    {
     "name": "stdout",
     "output_type": "stream",
     "text": [
      "3\n",
      "-4\n"
     ]
    }
   ],
   "source": [
    "import math\n",
    "\n",
    "num = 3.14159\n",
    "integer = math.trunc(num)\n",
    "print(integer)  # Output: 3\n",
    "\n",
    "num2 = -4.8\n",
    "integer2 = math.trunc(num2)\n",
    "print(integer2)  # Output: -4\n"
   ]
  },
  {
   "attachments": {},
   "cell_type": "markdown",
   "metadata": {},
   "source": [
    "En resumen, en Python hay varios métodos que se pueden utilizar para obtener la parte entera de un número, como `int()`, `math.floor()` y `math.trunc()`, cada uno con sus propias características y uso dependiendo del caso específico."
   ]
  },
  {
   "attachments": {},
   "cell_type": "markdown",
   "metadata": {},
   "source": [
    "## **Métodos. Aritmética**"
   ]
  },
  {
   "attachments": {},
   "cell_type": "markdown",
   "metadata": {},
   "source": [
    "En Python, hay varios métodos predefinidos para realizar operaciones aritméticas con números. A continuación, se explican algunos de los más comunes:\n",
    "\n",
    "* **+ :** suma dos números\n",
    "* **- :** resta dos números\n",
    "* `*` : multiplica dos números\n",
    "* **/ :** divide dos números y devuelve el resultado como un flotante\n",
    "* **// :** divide dos números y devuelve el resultado como un entero (parte entera)\n",
    "* **% :** divide dos números y devuelve el resto\n",
    "* `**` : eleva un número a una potencia\n",
    "\n",
    "**Ejemplos:**"
   ]
  },
  {
   "cell_type": "code",
   "execution_count": 10,
   "metadata": {},
   "outputs": [
    {
     "name": "stdout",
     "output_type": "stream",
     "text": [
      "7\n",
      "3\n",
      "10\n",
      "2.5\n",
      "2\n",
      "1\n",
      "25\n"
     ]
    }
   ],
   "source": [
    "a = 5\n",
    "b = 2\n",
    "\n",
    "# Suma\n",
    "print(a + b)  # Output: 7\n",
    "\n",
    "# Resta\n",
    "print(a - b)  # Output: 3\n",
    "\n",
    "# Multiplicación\n",
    "print(a * b)  # Output: 10\n",
    "\n",
    "# División\n",
    "print(a / b)  # Output: 2.5\n",
    "\n",
    "# División entera\n",
    "print(a // b)  # Output: 2\n",
    "\n",
    "# Resto\n",
    "print(a % b)  # Output: 1\n",
    "\n",
    "# Potencia\n",
    "print(a ** b)  # Output: 25\n"
   ]
  },
  {
   "attachments": {},
   "cell_type": "markdown",
   "metadata": {},
   "source": [
    "Además de estos operadores, también existen algunas funciones matemáticas predefinidas en el módulo `math`. Por ejemplo:"
   ]
  },
  {
   "cell_type": "code",
   "execution_count": 11,
   "metadata": {},
   "outputs": [
    {
     "name": "stdout",
     "output_type": "stream",
     "text": [
      "2.23606797749979\n",
      "1.6094379124341003\n",
      "0.6989700043360189\n",
      "-0.9589242746631385\n",
      "0.28366218546322625\n"
     ]
    }
   ],
   "source": [
    "import math\n",
    "\n",
    "a = 5\n",
    "b = 2\n",
    "\n",
    "# Raíz cuadrada\n",
    "print(math.sqrt(a))  # Output: 2.23606797749979\n",
    "\n",
    "# Logaritmo natural\n",
    "print(math.log(a))  # Output: 1.6094379124341003\n",
    "\n",
    "# Logaritmo base 10\n",
    "print(math.log10(a))  # Output: 0.6989700043360189\n",
    "\n",
    "# Seno\n",
    "print(math.sin(a))  # Output: -0.9589242746631385\n",
    "\n",
    "# Coseno\n",
    "print(math.cos(a))  # Output: 0.28366218546322625\n"
   ]
  },
  {
   "attachments": {},
   "cell_type": "markdown",
   "metadata": {},
   "source": [
    "En resumen, Python cuenta con una amplia variedad de métodos y funciones matemáticas para realizar operaciones aritméticas y cálculos más complejos. Los operadores básicos `+`, `-`, `*`, `/`, `//`, `%`, y `**` son fundamentales para realizar operaciones sencillas, mientras que las funciones del módulo `math` permiten realizar operaciones más complejas como cálculos trigonométricos, logarítmicos, exponenciales, entre otros."
   ]
  },
  {
   "attachments": {},
   "cell_type": "markdown",
   "metadata": {},
   "source": [
    "## **Métodos. Potencias y logaritmos**"
   ]
  },
  {
   "attachments": {},
   "cell_type": "markdown",
   "metadata": {},
   "source": [
    "En Python, el módulo `math` proporciona una variedad de métodos para calcular potencias y logaritmos de diferentes bases. A continuación, se detallan algunos de estos métodos con ejemplos:\n",
    "\n",
    "**1. `math.pow(x, y)`:**\n",
    "\n",
    " Este método devuelve el valor de `x` elevado a la potencia `y`. Ambos argumentos pueden ser enteros o flotantes. Ejemplo:"
   ]
  },
  {
   "cell_type": "code",
   "execution_count": 12,
   "metadata": {},
   "outputs": [
    {
     "name": "stdout",
     "output_type": "stream",
     "text": [
      "8.0\n",
      "9.0\n"
     ]
    }
   ],
   "source": [
    "import math\n",
    "\n",
    "print(math.pow(2, 3)) # Salida: 8.0\n",
    "print(math.pow(3, 2)) # Salida: 9.0\n"
   ]
  },
  {
   "attachments": {},
   "cell_type": "markdown",
   "metadata": {},
   "source": [
    "**2. `math.sqrt(x)`:**\n",
    "\n",
    "Este método devuelve la raíz cuadrada de `x`. Ejemplo:"
   ]
  },
  {
   "cell_type": "code",
   "execution_count": 13,
   "metadata": {},
   "outputs": [
    {
     "name": "stdout",
     "output_type": "stream",
     "text": [
      "4.0\n"
     ]
    }
   ],
   "source": [
    "import math\n",
    "\n",
    "print(math.sqrt(16)) # Salida: 4.0\n"
   ]
  },
  {
   "attachments": {},
   "cell_type": "markdown",
   "metadata": {},
   "source": [
    "**3. `math.exp(x)`:**\n",
    "\n",
    " Este método devuelve `e` elevado a la potencia `x`, donde `e` es la constante matemática `e` (aproximadamente 2.71828). Ejemplo:"
   ]
  },
  {
   "cell_type": "code",
   "execution_count": 14,
   "metadata": {},
   "outputs": [
    {
     "name": "stdout",
     "output_type": "stream",
     "text": [
      "7.38905609893065\n"
     ]
    }
   ],
   "source": [
    "import math\n",
    "\n",
    "print(math.exp(2)) # Salida: 7.3890560989306495\n"
   ]
  },
  {
   "attachments": {},
   "cell_type": "markdown",
   "metadata": {},
   "source": [
    "**4. `math.log(x[, base])`:**\n",
    "\n",
    " Este método devuelve el logaritmo natural de `x` (si se omite el argumento opcional base) o el logaritmo de `x` en la base dada. Ejemplo:"
   ]
  },
  {
   "cell_type": "code",
   "execution_count": 15,
   "metadata": {},
   "outputs": [
    {
     "name": "stdout",
     "output_type": "stream",
     "text": [
      "2.302585092994046\n",
      "3.3219280948873626\n"
     ]
    }
   ],
   "source": [
    "import math\n",
    "\n",
    "print(math.log(10)) # Salida: 2.302585092994046\n",
    "print(math.log(10, 2)) # Salida: 3.3219280948873626\n"
   ]
  },
  {
   "attachments": {},
   "cell_type": "markdown",
   "metadata": {},
   "source": [
    "**5. `math.log10(x)`:**\n",
    "\n",
    " Este método devuelve el logaritmo de `x` en la base `10`. Ejemplo:"
   ]
  },
  {
   "cell_type": "code",
   "execution_count": 16,
   "metadata": {},
   "outputs": [
    {
     "name": "stdout",
     "output_type": "stream",
     "text": [
      "2.0\n"
     ]
    }
   ],
   "source": [
    "import math\n",
    "\n",
    "print(math.log10(100)) # Salida: 2.0\n"
   ]
  },
  {
   "attachments": {},
   "cell_type": "markdown",
   "metadata": {},
   "source": [
    "**6. `math.log2(x)`:**\n",
    "\n",
    " Este método devuelve el logaritmo de `x` en la base `2`. Ejemplo:"
   ]
  },
  {
   "cell_type": "code",
   "execution_count": 17,
   "metadata": {},
   "outputs": [
    {
     "name": "stdout",
     "output_type": "stream",
     "text": [
      "4.0\n"
     ]
    }
   ],
   "source": [
    "import math\n",
    "\n",
    "print(math.log2(16)) # Salida: 4.0\n"
   ]
  },
  {
   "attachments": {},
   "cell_type": "markdown",
   "metadata": {},
   "source": [
    "En resumen, los métodos en el módulo `math` permiten realizar cálculos matemáticos avanzados en Python, incluyendo potencias y logaritmos de diferentes bases."
   ]
  },
  {
   "attachments": {},
   "cell_type": "markdown",
   "metadata": {},
   "source": [
    "## **Métodos. MCD y MCM**"
   ]
  },
  {
   "attachments": {},
   "cell_type": "markdown",
   "metadata": {},
   "source": [
    "En Python, se pueden utilizar los métodos `gcd()` y `lcm()` del módulo `math` para encontrar el máximo común divisor `(MCD)` y el mínimo común múltiplo `(MCM)` de dos o más números enteros.\n",
    "\n",
    "El método `gcd()` devuelve el `MCD` de dos o más números enteros. Por ejemplo:"
   ]
  },
  {
   "cell_type": "code",
   "execution_count": 18,
   "metadata": {},
   "outputs": [
    {
     "name": "stdout",
     "output_type": "stream",
     "text": [
      "El MCD de 24 y 36 es: 12\n"
     ]
    }
   ],
   "source": [
    "import math\n",
    "\n",
    "num1 = 24\n",
    "num2 = 36\n",
    "\n",
    "mcd = math.gcd(num1, num2)\n",
    "\n",
    "print(\"El MCD de\", num1, \"y\", num2, \"es:\", mcd)\n"
   ]
  },
  {
   "attachments": {},
   "cell_type": "markdown",
   "metadata": {},
   "source": [
    "En este ejemplo, se importa el módulo `math` y se definen dos números enteros `num1` y `num2`. Luego, se utiliza el método `gcd()` para encontrar el MCD de ambos números y se guarda en la variable `mcd`. Finalmente, se imprime el resultado."
   ]
  },
  {
   "attachments": {},
   "cell_type": "markdown",
   "metadata": {},
   "source": [
    "El método `lcm()` devuelve el MCM de dos o más números enteros. Por ejemplo:"
   ]
  },
  {
   "cell_type": "code",
   "execution_count": 19,
   "metadata": {},
   "outputs": [
    {
     "name": "stdout",
     "output_type": "stream",
     "text": [
      "El MCM de 3 y 5 es: 15\n"
     ]
    }
   ],
   "source": [
    "import math\n",
    "\n",
    "num1 = 3\n",
    "num2 = 5\n",
    "\n",
    "mcm = math.lcm(num1, num2)\n",
    "\n",
    "print(\"El MCM de\", num1, \"y\", num2, \"es:\", mcm)\n"
   ]
  },
  {
   "attachments": {},
   "cell_type": "markdown",
   "metadata": {},
   "source": [
    "En este ejemplo, se importa el módulo `math` y se definen dos números enteros `num1` y `num2`. Luego, se utiliza el método `lcm()` para encontrar el MCM de ambos números y se guarda en la variable `mcm`. Finalmente, se imprime el resultado."
   ]
  },
  {
   "attachments": {},
   "cell_type": "markdown",
   "metadata": {},
   "source": [
    "Es importante tener en cuenta que el método `lcm()` solo está disponible a partir de la versión 3.9 de Python. Si se utiliza una versión anterior, se puede utilizar la siguiente función para encontrar el MCM de dos o más números enteros:"
   ]
  },
  {
   "cell_type": "code",
   "execution_count": 20,
   "metadata": {},
   "outputs": [],
   "source": [
    "def lcm(numbers):\n",
    "    lcm = 1\n",
    "    for number in numbers:\n",
    "        lcm = lcm * number // math.gcd(lcm, number)\n",
    "    return lcm\n"
   ]
  },
  {
   "attachments": {},
   "cell_type": "markdown",
   "metadata": {},
   "source": [
    "Esta función toma una lista de números enteros como argumento y utiliza un bucle `for` para calcular el `MCM` utilizando la fórmula:"
   ]
  },
  {
   "attachments": {},
   "cell_type": "markdown",
   "metadata": {},
   "source": [
    "`MCM = (num1 * num2) / MCD(num1, num2)`"
   ]
  },
  {
   "attachments": {},
   "cell_type": "markdown",
   "metadata": {},
   "source": [
    "donde `num1` y `num2` son dos números de la lista y `MCD()` es el método `gcd()` del módulo `math`. La función devuelve el `MCM` de todos los números en la lista.\n",
    "\n",
    "Por ejemplo:"
   ]
  },
  {
   "cell_type": "code",
   "execution_count": 22,
   "metadata": {},
   "outputs": [
    {
     "name": "stdout",
     "output_type": "stream",
     "text": [
      "El MCM de [2, 4, 6, 8, 10] es: 120\n"
     ]
    }
   ],
   "source": [
    "import math\n",
    "\n",
    "def lcm(numbers):\n",
    "    lcm = 1\n",
    "    for number in numbers:\n",
    "        lcm = lcm * number // math.gcd(lcm, number)\n",
    "    return lcm\n",
    "\n",
    "numeros = [2, 4, 6, 8, 10]\n",
    "\n",
    "mcm = lcm(numeros)\n",
    "\n",
    "print(\"El MCM de\", numeros, \"es:\", mcm)\n"
   ]
  },
  {
   "attachments": {},
   "cell_type": "markdown",
   "metadata": {},
   "source": [
    "En este ejemplo, se importa el módulo `math` y se define una función `lcm()` que toma una lista de números enteros como argumento y devuelve el `MCM` de todos los números en la lista. Luego, se define una lista de números enteros numeros y se utiliza la función `lcm()` para encontrar el `MCM` de todos los números en la lista."
   ]
  },
  {
   "attachments": {},
   "cell_type": "markdown",
   "metadata": {},
   "source": [
    "## **Métodos. Combinatoria**"
   ]
  },
  {
   "attachments": {},
   "cell_type": "markdown",
   "metadata": {},
   "source": [
    "En Python, el módulo `math` incluye métodos para realizar cálculos combinatorios, que son operaciones matemáticas relacionadas con la elección y disposición de elementos de un conjunto. Estos métodos son útiles en diversas aplicaciones, como la estadística, la teoría de la probabilidad y la teoría de juegos, entre otros.\n",
    "\n",
    "A continuación, se describen algunos de los métodos de combinatoria más comunes disponibles en el módulo `math`:\n",
    "\n",
    "* **factorial(n):**\n",
    "\n",
    " Devuelve el factorial de un número entero `n`. El factorial de un número es el producto de todos los números enteros positivos desde 1 hasta `n`. Por ejemplo, el factorial de 5 es 5 x 4 x 3 x 2 x 1 = 120. Ejemplo:"
   ]
  },
  {
   "cell_type": "code",
   "execution_count": 23,
   "metadata": {},
   "outputs": [
    {
     "name": "stdout",
     "output_type": "stream",
     "text": [
      "Factorial de 5 es 120\n"
     ]
    }
   ],
   "source": [
    "import math\n",
    "\n",
    "n = 5\n",
    "factorial_n = math.factorial(n)\n",
    "print(\"Factorial de\", n, \"es\", factorial_n)\n"
   ]
  },
  {
   "attachments": {},
   "cell_type": "markdown",
   "metadata": {},
   "source": [
    "* **comb(n, k):**\n",
    "\n",
    " Devuelve el número de combinaciones de `n` elementos tomados de `k` en `k`, sin repetición y sin importar el orden. Por ejemplo, si se tienen 5 elementos y se quieren tomar 3, el número de combinaciones posibles es 5! / (3! x (5 - 3)!) = 10. Ejemplo:"
   ]
  },
  {
   "cell_type": "code",
   "execution_count": 24,
   "metadata": {},
   "outputs": [
    {
     "name": "stdout",
     "output_type": "stream",
     "text": [
      "Número de combinaciones de 5 tomados de 3 es 10\n"
     ]
    }
   ],
   "source": [
    "import math\n",
    "\n",
    "n = 5\n",
    "k = 3\n",
    "num_comb = math.comb(n, k)\n",
    "print(\"Número de combinaciones de\", n, \"tomados de\", k, \"es\", num_comb)\n"
   ]
  },
  {
   "attachments": {},
   "cell_type": "markdown",
   "metadata": {},
   "source": [
    "* **perm(n, k):**\n",
    "\n",
    " Devuelve el número de permutaciones de `n` elementos tomados de `k` en `k`, sin repetición y teniendo en cuenta el orden. Por ejemplo, si se tienen 5 elementos y se quieren tomar 3, el número de permutaciones posibles es 5! / (5 - 3)! = 60. Ejemplo:"
   ]
  },
  {
   "cell_type": "code",
   "execution_count": 25,
   "metadata": {},
   "outputs": [
    {
     "name": "stdout",
     "output_type": "stream",
     "text": [
      "Número de permutaciones de 5 tomados de 3 es 60\n"
     ]
    }
   ],
   "source": [
    "import math\n",
    "\n",
    "n = 5\n",
    "k = 3\n",
    "num_perm = math.perm(n, k)\n",
    "print(\"Número de permutaciones de\", n, \"tomados de\", k, \"es\", num_perm)\n"
   ]
  },
  {
   "attachments": {},
   "cell_type": "markdown",
   "metadata": {},
   "source": [
    "* **gcd(a, b):**\n",
    "\n",
    " Devuelve el máximo común divisor de dos números enteros `a` y `b`. Ejemplo:"
   ]
  },
  {
   "cell_type": "code",
   "execution_count": 26,
   "metadata": {},
   "outputs": [
    {
     "name": "stdout",
     "output_type": "stream",
     "text": [
      "El máximo común divisor de 12 y 8 es 4\n"
     ]
    }
   ],
   "source": [
    "import math\n",
    "\n",
    "a = 12\n",
    "b = 8\n",
    "mcd_ab = math.gcd(a, b)\n",
    "print(\"El máximo común divisor de\", a, \"y\", b, \"es\", mcd_ab)\n"
   ]
  },
  {
   "attachments": {},
   "cell_type": "markdown",
   "metadata": {},
   "source": [
    "* **isclose(a, b, rel_tol=1e-9, abs_tol=0.0):**\n",
    "\n",
    " Compara dos números `a` y `b` para determinar si son `\"cercanos\"` en términos relativos o absolutos, utilizando tolerancias relativas y absolutas dadas. Este método es útil cuando se trabaja con números en punto flotante, ya que la comparación directa de estos números puede llevar a errores debido a la imprecisión de la representación en punto flotante. Ejemplo:"
   ]
  },
  {
   "cell_type": "code",
   "execution_count": 27,
   "metadata": {},
   "outputs": [
    {
     "name": "stdout",
     "output_type": "stream",
     "text": [
      "¿ 0.30000000000000004 y 0.3 son cercanos? True\n"
     ]
    }
   ],
   "source": [
    "import math\n",
    "\n",
    "a = 0.1 + 0.1 + 0.1\n",
    "b = 0.3\n",
    "son_cercanos = math.isclose(a, b)\n",
    "print(\"¿\", a, \"y\", b, \"son cercanos?\", son_cercanos)\n"
   ]
  },
  {
   "attachments": {},
   "cell_type": "markdown",
   "metadata": {},
   "source": [
    "## **Métodos. Valor absoluto y signo**"
   ]
  },
  {
   "attachments": {},
   "cell_type": "markdown",
   "metadata": {},
   "source": [
    "En Python, los métodos para calcular el valor absoluto y el signo de un número se encuentran en el módulo `math`. A continuación, se explica cada uno de estos métodos con ejemplos:\n",
    "\n",
    "* **fabs(x):**\n",
    "\n",
    " Este método devuelve el valor absoluto de `x`. La función toma un número real como argumento y devuelve su valor absoluto.\n",
    "Ejemplo:"
   ]
  },
  {
   "cell_type": "code",
   "execution_count": 28,
   "metadata": {},
   "outputs": [
    {
     "name": "stdout",
     "output_type": "stream",
     "text": [
      "Valor absoluto de x:  4.5\n",
      "Valor absoluto de y:  3.0\n"
     ]
    }
   ],
   "source": [
    "import math\n",
    "\n",
    "x = -4.5\n",
    "y = 3\n",
    "\n",
    "print(\"Valor absoluto de x: \", math.fabs(x))\n",
    "print(\"Valor absoluto de y: \", math.fabs(y))\n"
   ]
  },
  {
   "attachments": {},
   "cell_type": "markdown",
   "metadata": {},
   "source": [
    "* **copysign(x, y):**\n",
    "\n",
    " Este método devuelve un número con el valor absoluto de `x` y el signo de `y`. La función toma dos números como argumentos y devuelve un número con el valor absoluto de `x` y el signo de `y`.\n",
    "Ejemplo:"
   ]
  },
  {
   "cell_type": "code",
   "execution_count": 29,
   "metadata": {},
   "outputs": [
    {
     "name": "stdout",
     "output_type": "stream",
     "text": [
      "Número con valor absoluto de x y signo de y:  4.5\n",
      "Número con valor absoluto de y y signo de x:  -3.0\n"
     ]
    }
   ],
   "source": [
    "import math\n",
    "\n",
    "x = -4.5\n",
    "y = 3\n",
    "\n",
    "print(\"Número con valor absoluto de x y signo de y: \", math.copysign(x, y))\n",
    "print(\"Número con valor absoluto de y y signo de x: \", math.copysign(y, x))\n"
   ]
  },
  {
   "attachments": {},
   "cell_type": "markdown",
   "metadata": {},
   "source": [
    "En resumen, el método `fabs` devuelve el valor absoluto de un número, mientras que el método `copysign` devuelve un número con el valor absoluto de un número y el signo de otro número."
   ]
  },
  {
   "attachments": {},
   "cell_type": "markdown",
   "metadata": {},
   "source": [
    "## **Métodos. Funciones trigonométricas**"
   ]
  },
  {
   "attachments": {},
   "cell_type": "markdown",
   "metadata": {},
   "source": [
    "En Python, el módulo `math` proporciona un conjunto de funciones trigonométricas que se pueden utilizar para realizar cálculos trigonométricos. Estas funciones se pueden utilizar para calcular senos, cosenos, tangentes, cotangentes, arcos, etc.\n",
    "\n",
    "A continuación, se presentan algunas de las funciones trigonométricas disponibles en el módulo `math`:\n",
    "\n",
    "* **math.sin(x):** Devuelve el seno de x (en radianes).\n",
    "* **math.cos(x):** Devuelve el coseno de x (en radianes).\n",
    "* **math.tan(x):** Devuelve la tangente de x (en radianes).\n",
    "* **math.asin(x):** Devuelve el arco seno de x (en radianes).\n",
    "* **math.acos(x):** Devuelve el arco coseno de x (en radianes).\n",
    "* **math.atan(x):** Devuelve el arco tangente de x (en radianes).\n",
    "\n",
    "Cabe destacar que estas funciones trabajan con ángulos en radianes, no en grados. Si se tiene un ángulo en grados, es necesario convertirlo a radianes antes de utilizar estas funciones.\n",
    "\n",
    "A continuación se presentan algunos ejemplos de cómo utilizar estas funciones:"
   ]
  },
  {
   "cell_type": "code",
   "execution_count": 30,
   "metadata": {},
   "outputs": [
    {
     "name": "stdout",
     "output_type": "stream",
     "text": [
      "Ángulo:  0.7853981633974483\n",
      "Seno:  0.7071067811865475\n",
      "Coseno:  0.7071067811865476\n",
      "Tangente:  0.9999999999999999\n",
      "Valor:  0.5\n",
      "Arco seno:  0.5235987755982989\n",
      "Arco coseno:  1.0471975511965979\n",
      "Arco tangente:  0.4636476090008061\n"
     ]
    }
   ],
   "source": [
    "import math\n",
    "\n",
    "# Calcular el seno, coseno y tangente de un ángulo\n",
    "angulo = math.pi/4\n",
    "seno = math.sin(angulo)\n",
    "coseno = math.cos(angulo)\n",
    "tangente = math.tan(angulo)\n",
    "print(\"Ángulo: \", angulo)\n",
    "print(\"Seno: \", seno)\n",
    "print(\"Coseno: \", coseno)\n",
    "print(\"Tangente: \", tangente)\n",
    "\n",
    "# Calcular el arco seno, coseno y tangente de un valor\n",
    "valor = 0.5\n",
    "arco_seno = math.asin(valor)\n",
    "arco_coseno = math.acos(valor)\n",
    "arco_tangente = math.atan(valor)\n",
    "print(\"Valor: \", valor)\n",
    "print(\"Arco seno: \", arco_seno)\n",
    "print(\"Arco coseno: \", arco_coseno)\n",
    "print(\"Arco tangente: \", arco_tangente)\n"
   ]
  },
  {
   "attachments": {},
   "cell_type": "markdown",
   "metadata": {},
   "source": [
    "En este ejemplo, se importa el módulo `math` y se utilizan varias de sus funciones trigonométricas para calcular el seno, coseno, tangente, arco seno, arco coseno y arco tangente de un ángulo y de un valor dado. Cada función devuelve el resultado correspondiente que se imprime en la consola."
   ]
  },
  {
   "attachments": {},
   "cell_type": "markdown",
   "metadata": {},
   "source": [
    "## **Métodos. Funciones hiperbólicas**"
   ]
  },
  {
   "attachments": {},
   "cell_type": "markdown",
   "metadata": {},
   "source": [
    "En Python, el módulo `math` también incluye métodos para calcular funciones hiperbólicas, tales como seno hiperbólico, coseno hiperbólico, tangente hiperbólica, entre otros.\n",
    "\n",
    "A continuación se presentan algunos ejemplos de cómo utilizar estas funciones:\n",
    "\n",
    "* El método `math.sinh(x)` devuelve el seno hiperbólico de `x`."
   ]
  },
  {
   "cell_type": "code",
   "execution_count": 31,
   "metadata": {},
   "outputs": [
    {
     "name": "stdout",
     "output_type": "stream",
     "text": [
      "2.1292794550948173\n"
     ]
    }
   ],
   "source": [
    "import math\n",
    "\n",
    "x = 1.5\n",
    "seno_hiperbolico = math.sinh(x)\n",
    "print(seno_hiperbolico) # Output: 2.1292794550948173\n"
   ]
  },
  {
   "attachments": {},
   "cell_type": "markdown",
   "metadata": {},
   "source": [
    "* El método `math.cosh(x)` devuelve el coseno hiperbólico de `x`."
   ]
  },
  {
   "cell_type": "code",
   "execution_count": 32,
   "metadata": {},
   "outputs": [
    {
     "name": "stdout",
     "output_type": "stream",
     "text": [
      "2.352409615243247\n"
     ]
    }
   ],
   "source": [
    "import math\n",
    "\n",
    "x = 1.5\n",
    "coseno_hiperbolico = math.cosh(x)\n",
    "print(coseno_hiperbolico) # Output: 2.3524096152432476\n"
   ]
  },
  {
   "attachments": {},
   "cell_type": "markdown",
   "metadata": {},
   "source": [
    "* El método `math.tanh(x)` devuelve la tangente hiperbólica de `x`."
   ]
  },
  {
   "cell_type": "code",
   "execution_count": 33,
   "metadata": {},
   "outputs": [
    {
     "name": "stdout",
     "output_type": "stream",
     "text": [
      "0.9051482536448664\n"
     ]
    }
   ],
   "source": [
    "import math\n",
    "\n",
    "x = 1.5\n",
    "tangente_hiperbolica = math.tanh(x)\n",
    "print(tangente_hiperbolica) # Output: 0.9051482536448666\n"
   ]
  },
  {
   "attachments": {},
   "cell_type": "markdown",
   "metadata": {},
   "source": [
    "* El método `math.asinh(x)` devuelve el arcoseno hiperbólico de `x`."
   ]
  },
  {
   "cell_type": "code",
   "execution_count": 34,
   "metadata": {},
   "outputs": [
    {
     "name": "stdout",
     "output_type": "stream",
     "text": [
      "1.1947632172871094\n"
     ]
    }
   ],
   "source": [
    "import math\n",
    "\n",
    "x = 1.5\n",
    "arcoseno_hiperbolico = math.asinh(x)\n",
    "print(arcoseno_hiperbolico) # Output: 1.1947632172871093\n"
   ]
  },
  {
   "attachments": {},
   "cell_type": "markdown",
   "metadata": {},
   "source": [
    "* El método `math.acosh(x)` devuelve el arcocoseno hiperbólico de `x`."
   ]
  },
  {
   "cell_type": "code",
   "execution_count": 35,
   "metadata": {},
   "outputs": [
    {
     "name": "stdout",
     "output_type": "stream",
     "text": [
      "0.9624236501192069\n"
     ]
    }
   ],
   "source": [
    "import math\n",
    "\n",
    "x = 1.5\n",
    "arcocoseno_hiperbolico = math.acosh(x)\n",
    "print(arcocoseno_hiperbolico) # Output: 0.9624236501192069\n"
   ]
  },
  {
   "attachments": {},
   "cell_type": "markdown",
   "metadata": {},
   "source": [
    "* El método `math.atanh(x)` devuelve el arcotangente hiperbólica de `x`."
   ]
  },
  {
   "cell_type": "code",
   "execution_count": 36,
   "metadata": {},
   "outputs": [
    {
     "name": "stdout",
     "output_type": "stream",
     "text": [
      "1.0986122886681098\n"
     ]
    }
   ],
   "source": [
    "import math\n",
    "\n",
    "x = 0.8\n",
    "arcotangente_hiperbolica = math.atanh(x)\n",
    "print(arcotangente_hiperbolica) # Output: 1.0986122886681098\n"
   ]
  },
  {
   "attachments": {},
   "cell_type": "markdown",
   "metadata": {},
   "source": [
    "## **Métodos. Funciones de clasificación**"
   ]
  },
  {
   "attachments": {},
   "cell_type": "markdown",
   "metadata": {},
   "source": [
    "En Python, los métodos y funciones de clasificación son herramientas útiles para organizar y analizar datos.\n",
    "\n",
    "Los métodos son funciones que están asociadas a un objeto particular y se utilizan para realizar operaciones específicas en ese objeto. Por ejemplo, el método `sort()` se utiliza para ordenar los elementos de una lista en Python.\n",
    "\n",
    "Por otro lado, las funciones de clasificación son funciones que se utilizan para clasificar o agrupar elementos de datos en función de ciertos criterios. Estos criterios pueden ser valores numéricos, cadenas de caracteres o cualquier otro tipo de datos.\n",
    "\n",
    "A continuación, te presento algunos ejemplos de métodos y funciones de clasificación en Python:\n",
    "\n",
    "* **Método sort():**\n",
    "\n",
    "Este método se utiliza para ordenar los elementos de una lista en orden ascendente o descendente. Por ejemplo:"
   ]
  },
  {
   "cell_type": "code",
   "execution_count": 38,
   "metadata": {},
   "outputs": [
    {
     "name": "stdout",
     "output_type": "stream",
     "text": [
      "[1, 2, 5, 7, 9]\n"
     ]
    }
   ],
   "source": [
    "lista = [5, 2, 9, 1, 7]\n",
    "lista.sort() # Ordenar la lista en orden ascendente\n",
    "print(lista) # Salida: [1, 2, 5, 7, 9]\n"
   ]
  },
  {
   "cell_type": "markdown",
   "metadata": {},
   "source": [
    "* **Método reverse():**\n",
    "\n",
    "Este método se utiliza para invertir el orden de los elementos de una lista. Por ejemplo:"
   ]
  },
  {
   "cell_type": "code",
   "execution_count": 1,
   "metadata": {},
   "outputs": [
    {
     "name": "stdout",
     "output_type": "stream",
     "text": [
      "[5, 4, 3, 2, 1]\n"
     ]
    }
   ],
   "source": [
    "lista = [1, 2, 3, 4, 5]\n",
    "lista.reverse() # Invertir el orden de la lista\n",
    "print(lista) # Salida: [5, 4, 3, 2, 1]\n"
   ]
  },
  {
   "attachments": {},
   "cell_type": "markdown",
   "metadata": {},
   "source": [
    "* **Función sorted():**\n",
    "\n",
    "Esta función se utiliza para ordenar una lista sin modificar la lista original. Por ejemplo:"
   ]
  },
  {
   "cell_type": "code",
   "execution_count": 2,
   "metadata": {},
   "outputs": [
    {
     "name": "stdout",
     "output_type": "stream",
     "text": [
      "[1, 2, 5, 7, 9]\n"
     ]
    }
   ],
   "source": [
    "lista = [5, 2, 9, 1, 7]\n",
    "ordenada = sorted(lista) # Ordenar la lista sin modificar la original\n",
    "print(ordenada) # Salida: [1, 2, 5, 7, 9]\n"
   ]
  },
  {
   "attachments": {},
   "cell_type": "markdown",
   "metadata": {},
   "source": [
    "* **Función filter():**\n",
    "\n",
    "Esta función se utiliza para filtrar elementos de una lista según un criterio específico. Por ejemplo, si queremos filtrar solo los números pares de una lista, podemos hacer lo siguiente:"
   ]
  },
  {
   "cell_type": "code",
   "execution_count": 3,
   "metadata": {},
   "outputs": [
    {
     "name": "stdout",
     "output_type": "stream",
     "text": [
      "[2, 4, 6, 8]\n"
     ]
    }
   ],
   "source": [
    "lista = [1, 2, 3, 4, 5, 6, 7, 8, 9]\n",
    "pares = list(filter(lambda x: x % 2 == 0, lista)) # Filtrar solo los números pares\n",
    "print(pares) # Salida: [2, 4, 6, 8]\n"
   ]
  },
  {
   "attachments": {},
   "cell_type": "markdown",
   "metadata": {},
   "source": [
    "* **Función map():**\n",
    "\n",
    "Esta función se utiliza para aplicar una función a cada elemento de una lista. Por ejemplo, si queremos calcular el cuadrado de cada número en una lista, podemos hacer lo siguiente:"
   ]
  },
  {
   "cell_type": "code",
   "execution_count": 4,
   "metadata": {},
   "outputs": [
    {
     "name": "stdout",
     "output_type": "stream",
     "text": [
      "[1, 4, 9, 16, 25]\n"
     ]
    }
   ],
   "source": [
    "lista = [1, 2, 3, 4, 5]\n",
    "cuadrados = list(map(lambda x: x ** 2, lista)) # Calcular el cuadrado de cada número en la lista\n",
    "print(cuadrados) # Salida: [1, 4, 9, 16, 25]\n"
   ]
  },
  {
   "attachments": {},
   "cell_type": "markdown",
   "metadata": {},
   "source": [
    "## **Métodos. Funciones especiales**"
   ]
  },
  {
   "attachments": {},
   "cell_type": "markdown",
   "metadata": {},
   "source": [
    "En Python, los métodos y funciones especiales, también conocidas como `\"métodos mágicos\"`, son herramientas que permiten personalizar el comportamiento de las clases y objetos en el lenguaje.\n",
    "\n",
    "Los métodos especiales se identifican por tener un doble guión bajo antes y después de su nombre, por ejemplo `__init__()` es el método especial utilizado para inicializar un objeto de una clase. Estos métodos permiten definir comportamientos específicos para operaciones como la comparación de objetos, la conversión a cadenas de caracteres, entre otras.\n",
    "\n",
    "A continuación, te presento algunos ejemplos de métodos especiales en Python:\n",
    "\n",
    "* **Método `__init__()`:**\n",
    "\n",
    "Este método se utiliza para inicializar un objeto de una clase. Es llamado automáticamente cuando se crea una nueva instancia de la clase. Por ejemplo:"
   ]
  },
  {
   "cell_type": "code",
   "execution_count": 5,
   "metadata": {},
   "outputs": [],
   "source": [
    "class Persona:\n",
    "    def __init__(self, nombre, edad):\n",
    "        self.nombre = nombre\n",
    "        self.edad = edad\n",
    "\n",
    "p = Persona(\"Juan\", 25) # Crear un objeto de la clase Persona\n"
   ]
  },
  {
   "attachments": {},
   "cell_type": "markdown",
   "metadata": {},
   "source": [
    "* **Método `__str__()`:**\n",
    "\n",
    "Este método se utiliza para devolver una representación en cadena de caracteres de un objeto. Es llamado automáticamente cuando se llama a la función `str()` en un objeto. Por ejemplo:"
   ]
  },
  {
   "cell_type": "code",
   "execution_count": 6,
   "metadata": {},
   "outputs": [
    {
     "name": "stdout",
     "output_type": "stream",
     "text": [
      "Juan tiene 25 años.\n"
     ]
    }
   ],
   "source": [
    "class Persona:\n",
    "    def __init__(self, nombre, edad):\n",
    "        self.nombre = nombre\n",
    "        self.edad = edad\n",
    "\n",
    "    def __str__(self):\n",
    "        return f\"{self.nombre} tiene {self.edad} años.\"\n",
    "\n",
    "p = Persona(\"Juan\", 25) # Crear un objeto de la clase Persona\n",
    "print(str(p)) # Salida: \"Juan tiene 25 años.\"\n"
   ]
  },
  {
   "attachments": {},
   "cell_type": "markdown",
   "metadata": {},
   "source": [
    "* **Método `__eq__()`:**\n",
    "\n",
    "Este método se utiliza para comparar si dos objetos son iguales. Es llamado automáticamente cuando se usa el operador `==` en dos objetos. Por ejemplo:"
   ]
  },
  {
   "cell_type": "code",
   "execution_count": 7,
   "metadata": {},
   "outputs": [
    {
     "name": "stdout",
     "output_type": "stream",
     "text": [
      "True\n"
     ]
    }
   ],
   "source": [
    "class Persona:\n",
    "    def __init__(self, nombre, edad):\n",
    "        self.nombre = nombre\n",
    "        self.edad = edad\n",
    "\n",
    "    def __eq__(self, other):\n",
    "        return self.nombre == other.nombre and self.edad == other.edad\n",
    "\n",
    "p1 = Persona(\"Juan\", 25) # Crear un objeto de la clase Persona\n",
    "p2 = Persona(\"Juan\", 25) # Crear otro objeto de la clase Persona\n",
    "print(p1 == p2) # Salida: True\n"
   ]
  },
  {
   "attachments": {},
   "cell_type": "markdown",
   "metadata": {},
   "source": [
    "* **Método `__len__()`:**\n",
    "\n",
    "Este método se utiliza para devolver la longitud de un objeto. Es llamado automáticamente cuando se usa la función `len()` en un objeto. Por ejemplo:"
   ]
  },
  {
   "cell_type": "code",
   "execution_count": 8,
   "metadata": {},
   "outputs": [
    {
     "name": "stdout",
     "output_type": "stream",
     "text": [
      "5\n"
     ]
    }
   ],
   "source": [
    "class MiLista:\n",
    "    def __init__(self, elementos):\n",
    "        self.elementos = elementos\n",
    "\n",
    "    def __len__(self):\n",
    "        return len(self.elementos)\n",
    "\n",
    "l = MiLista([1, 2, 3, 4, 5]) # Crear un objeto de la clase MiLista\n",
    "print(len(l)) # Salida: 5\n"
   ]
  },
  {
   "attachments": {},
   "cell_type": "markdown",
   "metadata": {},
   "source": [
    "Estos son solo algunos ejemplos de métodos especiales en Python. Hay muchos otros disponibles en el lenguaje y se pueden utilizar para personalizar el comportamiento de las clases y objetos de manera efectiva."
   ]
  },
  {
   "attachments": {},
   "cell_type": "markdown",
   "metadata": {},
   "source": [
    "## **El módulo cmath**"
   ]
  },
  {
   "attachments": {},
   "cell_type": "markdown",
   "metadata": {},
   "source": [
    "El módulo `cmath` es una biblioteca estándar de Python que proporciona funciones matemáticas para operaciones complejas. Este módulo es similar al módulo `math` pero está diseñado específicamente para trabajar con números complejos, los cuales se representan en Python con la letra `j` al final del número imaginario.\n",
    "\n",
    "A continuación, se presentan algunos ejemplos de uso del módulo `cmath`:"
   ]
  },
  {
   "cell_type": "code",
   "execution_count": 9,
   "metadata": {},
   "outputs": [
    {
     "name": "stdout",
     "output_type": "stream",
     "text": [
      "Parte real: 3.0\n",
      "Parte imaginaria: 4.0\n",
      "Conjugado: (3-4j)\n",
      "Fase: 0.9272952180016122\n",
      "Magnitud: 5.0\n",
      "Suma: (4-2j)\n",
      "Resta: (-2+6j)\n",
      "Producto: (11+2j)\n",
      "División: (-0.2+0.4j)\n",
      "Raíz cuadrada: (2+1j)\n",
      "Logaritmo natural: (1.6094379124341003+0.9272952180016122j)\n"
     ]
    }
   ],
   "source": [
    "import cmath\n",
    "\n",
    "# Crear un número complejo\n",
    "z = 3 + 4j\n",
    "\n",
    "# Obtener la parte real e imaginaria de un número complejo\n",
    "print(\"Parte real:\", z.real)  # Salida: 3.0\n",
    "print(\"Parte imaginaria:\", z.imag)  # Salida: 4.0\n",
    "\n",
    "# Obtener el conjugado de un número complejo\n",
    "z_conjugado = z.conjugate()\n",
    "print(\"Conjugado:\", z_conjugado)  # Salida: (3-4j)\n",
    "\n",
    "# Obtener la fase de un número complejo\n",
    "fase = cmath.phase(z)\n",
    "print(\"Fase:\", fase)  # Salida: 0.93 radianes (aprox.)\n",
    "\n",
    "# Obtener la magnitud (o módulo) de un número complejo\n",
    "magnitud = abs(z)\n",
    "print(\"Magnitud:\", magnitud)  # Salida: 5.0\n",
    "\n",
    "# Realizar operaciones matemáticas con números complejos\n",
    "a = 1 + 2j\n",
    "b = 3 - 4j\n",
    "\n",
    "suma = a + b\n",
    "resta = a - b\n",
    "producto = a * b\n",
    "division = a / b\n",
    "\n",
    "print(\"Suma:\", suma)  # Salida: (4-2j)\n",
    "print(\"Resta:\", resta)  # Salida: (-2+6j)\n",
    "print(\"Producto:\", producto)  # Salida: (11-2j)\n",
    "print(\"División:\", division)  # Salida: (-0.2+0.4j)\n",
    "\n",
    "# Obtener la raíz cuadrada de un número complejo\n",
    "raiz_cuadrada = cmath.sqrt(z)\n",
    "print(\"Raíz cuadrada:\", raiz_cuadrada)  # Salida: (2+1j)\n",
    "\n",
    "# Obtener el logaritmo natural de un número complejo\n",
    "logaritmo = cmath.log(z)\n",
    "print(\"Logaritmo natural:\", logaritmo)  # Salida: (1.6094379124341003+0.9272952180016122j)\n"
   ]
  },
  {
   "attachments": {},
   "cell_type": "markdown",
   "metadata": {},
   "source": [
    "En resumen, el módulo `cmath` en Python es una herramienta útil para trabajar con números complejos y realizar operaciones matemáticas complejas. Con este módulo, se pueden obtener la parte real e imaginaria, el conjugado, la fase, la magnitud y realizar operaciones matemáticas con números complejos, entre otras funciones."
   ]
  },
  {
   "attachments": {},
   "cell_type": "markdown",
   "metadata": {},
   "source": [
    "## **Constantes del módulo cmath**"
   ]
  },
  {
   "attachments": {},
   "cell_type": "markdown",
   "metadata": {},
   "source": [
    "El módulo `cmath` en Python también proporciona algunas constantes útiles para trabajar con números complejos. A continuación se presentan algunas de estas constantes y su uso:\n",
    "\n",
    "* **cmath.pi:**\n",
    "\n",
    " Esta constante es igual al valor de `π`, la relación entre la circunferencia de un círculo y su diámetro. En el contexto de los números complejos, esta constante se usa a menudo para calcular las funciones trigonométricas, como seno y coseno, de un número complejo. Por ejemplo:"
   ]
  },
  {
   "cell_type": "code",
   "execution_count": 10,
   "metadata": {},
   "outputs": [
    {
     "name": "stdout",
     "output_type": "stream",
     "text": [
      "Seno: (1.4196048474733104e-15-11.548739357257748j)\n",
      "Coseno: (-11.591953275521519-1.4143126688052763e-15j)\n"
     ]
    }
   ],
   "source": [
    "import cmath\n",
    "\n",
    "z = 1 + 1j\n",
    "seno = cmath.sin(cmath.pi * z)\n",
    "coseno = cmath.cos(cmath.pi * z)\n",
    "\n",
    "print(\"Seno:\", seno)  # Salida: (1.2989340843532393-0.6367380071391379j)\n",
    "print(\"Coseno:\", coseno)  # Salida: (0.8337300251311491+0.9888977057628651j)\n"
   ]
  },
  {
   "attachments": {},
   "cell_type": "markdown",
   "metadata": {},
   "source": [
    "* **cmath.e:**\n",
    "\n",
    " Esta constante es igual a la base del logaritmo natural, `e.` En el contexto de los números complejos, esta constante se usa a menudo para calcular el logaritmo natural de un número complejo. Por ejemplo:"
   ]
  },
  {
   "cell_type": "code",
   "execution_count": 11,
   "metadata": {},
   "outputs": [
    {
     "name": "stdout",
     "output_type": "stream",
     "text": [
      "Logaritmo natural: (0.34657359027997264+0.7853981633974483j)\n"
     ]
    }
   ],
   "source": [
    "import cmath\n",
    "\n",
    "z = 1 + 1j\n",
    "logaritmo = cmath.log(z, cmath.e)\n",
    "\n",
    "print(\"Logaritmo natural:\", logaritmo)  # Salida: (0.34657359027997264+0.7853981633974483j)\n"
   ]
  },
  {
   "attachments": {},
   "cell_type": "markdown",
   "metadata": {},
   "source": [
    "* **cmath.inf:**\n",
    "\n",
    " Esta constante representa el infinito en el contexto de los números complejos. Por ejemplo:"
   ]
  },
  {
   "cell_type": "code",
   "execution_count": 12,
   "metadata": {},
   "outputs": [
    {
     "name": "stdout",
     "output_type": "stream",
     "text": [
      "División: 0j\n"
     ]
    }
   ],
   "source": [
    "import cmath\n",
    "\n",
    "z = 1 + 1j\n",
    "division = z / cmath.inf\n",
    "\n",
    "print(\"División:\", division)  # Salida: 0j\n"
   ]
  },
  {
   "attachments": {},
   "cell_type": "markdown",
   "metadata": {},
   "source": [
    "* **cmath.nan:**\n",
    "\n",
    " Esta constante representa un valor que no es un número (NaN, por sus siglas en inglés) en el contexto de los números complejos. Por ejemplo:"
   ]
  },
  {
   "cell_type": "code",
   "execution_count": 13,
   "metadata": {},
   "outputs": [
    {
     "name": "stdout",
     "output_type": "stream",
     "text": [
      "Número complejo: (nan+1j)\n"
     ]
    }
   ],
   "source": [
    "import cmath\n",
    "\n",
    "z = cmath.nan + 1j\n",
    "\n",
    "print(\"Número complejo:\", z)  # Salida: (nan+1j)\n"
   ]
  },
  {
   "attachments": {},
   "cell_type": "markdown",
   "metadata": {},
   "source": [
    "En resumen, el módulo `cmath` en Python también proporciona algunas constantes útiles, como `π`, `e`, `infinito` y `NaN`, que se pueden utilizar para realizar cálculos matemáticos complejos con números complejos."
   ]
  },
  {
   "attachments": {},
   "cell_type": "markdown",
   "metadata": {},
   "source": [
    "## **Métodos. Coordenadas polares**"
   ]
  },
  {
   "attachments": {},
   "cell_type": "markdown",
   "metadata": {},
   "source": [
    "En Python, los números complejos se pueden representar en coordenadas polares utilizando la función `cmath.polar()`. Esta función devuelve una tupla de dos valores: la magnitud del número complejo y su ángulo en radianes. A continuación se muestra un ejemplo de cómo se utiliza esta función:"
   ]
  },
  {
   "cell_type": "code",
   "execution_count": 14,
   "metadata": {},
   "outputs": [
    {
     "name": "stdout",
     "output_type": "stream",
     "text": [
      "Coordenadas polares: (1.4142135623730951, 0.7853981633974483)\n"
     ]
    }
   ],
   "source": [
    "import cmath\n",
    "\n",
    "z = 1 + 1j\n",
    "polar = cmath.polar(z)\n",
    "\n",
    "print(\"Coordenadas polares:\", polar)  # Salida: (1.4142135623730951, 0.7853981633974483)\n"
   ]
  },
  {
   "attachments": {},
   "cell_type": "markdown",
   "metadata": {},
   "source": [
    "En este ejemplo, se crea un número complejo `z` con los valores reales `e` imaginarios 1 y 1, respectivamente. Luego, se llama a la función `cmath.polar()` pasando `z` como argumento, lo que devuelve una tupla que contiene la magnitud de `z`, que es `√2`, y el ángulo en radianes, que es `π/4` o `45°`.\n",
    "\n",
    "Además de `cmath.polar()`, el módulo `cmath` también proporciona una función llamada `cmath.rect()` que permite construir un número complejo a partir de sus coordenadas polares. Esta función toma dos argumentos: la magnitud y el ángulo en radianes, y devuelve un número complejo. A continuación se muestra un ejemplo de cómo se utiliza esta función:"
   ]
  },
  {
   "cell_type": "code",
   "execution_count": 15,
   "metadata": {},
   "outputs": [
    {
     "name": "stdout",
     "output_type": "stream",
     "text": [
      "Coordenadas rectangulares: (1.0000000000000002+1j)\n"
     ]
    }
   ],
   "source": [
    "import cmath\n",
    "\n",
    "magnitud = 1.4142135623730951\n",
    "angulo = 0.7853981633974483\n",
    "\n",
    "rectangular = cmath.rect(magnitud, angulo)\n",
    "\n",
    "print(\"Coordenadas rectangulares:\", rectangular)  # Salida: (1+1j)\n"
   ]
  },
  {
   "attachments": {},
   "cell_type": "markdown",
   "metadata": {},
   "source": [
    "En este ejemplo, se tienen las coordenadas polares del número complejo `√2 e^(π/4)i`. Se utiliza la función `cmath.rect()` para construir este número complejo a partir de sus coordenadas polares, lo que devuelve el número complejo `1 + i`.\n",
    "\n",
    "En resumen, las coordenadas polares se pueden utilizar para representar números complejos en Python utilizando las funciones `cmath.polar()` y `cmath.rect()`. La función `cmath.polar()` toma un número complejo como argumento y devuelve su magnitud y ángulo en radianes, mientras que la función `cmath.rect()` toma la magnitud y el ángulo en radianes de un número complejo como argumentos y devuelve el número complejo correspondiente en coordenadas rectangulares."
   ]
  },
  {
   "attachments": {},
   "cell_type": "markdown",
   "metadata": {},
   "source": [
    "## **Métodos. Potencias y logaritmos**"
   ]
  },
  {
   "attachments": {},
   "cell_type": "markdown",
   "metadata": {},
   "source": [
    "En Python, el módulo `math` proporciona funciones para calcular potencias y logaritmos. A continuación, se describen las funciones más comunes y se proporcionan ejemplos de cómo utilizarlas.\n",
    "\n",
    "* **Potencias:**\n",
    "\n",
    "`math.pow(x, y)`: Esta función devuelve el resultado de elevar `x` a la potencia `y`."
   ]
  },
  {
   "cell_type": "code",
   "execution_count": 16,
   "metadata": {},
   "outputs": [
    {
     "name": "stdout",
     "output_type": "stream",
     "text": [
      "8.0\n"
     ]
    }
   ],
   "source": [
    "import math\n",
    "\n",
    "a = 2\n",
    "b = 3\n",
    "\n",
    "# a elevado a la potencia b\n",
    "c = math.pow(a, b)\n",
    "\n",
    "print(c)  # Salida: 8.0\n"
   ]
  },
  {
   "attachments": {},
   "cell_type": "markdown",
   "metadata": {},
   "source": [
    "En este ejemplo, se utiliza la función `math.pow()` para elevar 2 a la potencia 3, lo que resulta en el número 8.\n",
    "\n",
    "`x ** y`: La notación `**` también se puede utilizar para calcular potencias."
   ]
  },
  {
   "cell_type": "code",
   "execution_count": 17,
   "metadata": {},
   "outputs": [
    {
     "name": "stdout",
     "output_type": "stream",
     "text": [
      "8\n"
     ]
    }
   ],
   "source": [
    "a = 2\n",
    "b = 3\n",
    "\n",
    "# a elevado a la potencia b\n",
    "c = a ** b\n",
    "\n",
    "print(c)  # Salida: 8\n"
   ]
  },
  {
   "attachments": {},
   "cell_type": "markdown",
   "metadata": {},
   "source": [
    "En este ejemplo, se utiliza la notación `**` para elevar 2 a la potencia 3, lo que resulta en el número 8.\n",
    "\n",
    "* **Logaritmos:**\n",
    "\n",
    "`math.log(x)`: Esta función devuelve el logaritmo natural `(base e)` de `x`.\n"
   ]
  },
  {
   "cell_type": "code",
   "execution_count": 18,
   "metadata": {},
   "outputs": [
    {
     "name": "stdout",
     "output_type": "stream",
     "text": [
      "2.302585092994046\n"
     ]
    }
   ],
   "source": [
    "import math\n",
    "\n",
    "x = 10\n",
    "\n",
    "# logaritmo natural de x\n",
    "y = math.log(x)\n",
    "\n",
    "print(y)  # Salida: 2.302585092994046\n"
   ]
  },
  {
   "attachments": {},
   "cell_type": "markdown",
   "metadata": {},
   "source": [
    "En este ejemplo, se utiliza la función `math.log()` para calcular el logaritmo natural de `10`, lo que resulta en el número 2.302585092994046.\n",
    "\n",
    "`math.log(x, b)`: Esta función devuelve el logaritmo de `x` en base `b`."
   ]
  },
  {
   "cell_type": "code",
   "execution_count": 19,
   "metadata": {},
   "outputs": [
    {
     "name": "stdout",
     "output_type": "stream",
     "text": [
      "2.0\n"
     ]
    }
   ],
   "source": [
    "import math\n",
    "\n",
    "x = 100\n",
    "b = 10\n",
    "\n",
    "# logaritmo de x en base b\n",
    "y = math.log(x, b)\n",
    "\n",
    "print(y)  # Salida: 2.0\n"
   ]
  },
  {
   "attachments": {},
   "cell_type": "markdown",
   "metadata": {},
   "source": [
    "En este ejemplo, se utiliza la función `math.log()` con dos argumentos para calcular el logaritmo de `100` en base `10`, lo que resulta en el número `2`.\n",
    "\n",
    "`math.log10(x)`: Esta función devuelve el logaritmo de `x` en base `10`."
   ]
  },
  {
   "cell_type": "code",
   "execution_count": 20,
   "metadata": {},
   "outputs": [
    {
     "name": "stdout",
     "output_type": "stream",
     "text": [
      "2.0\n"
     ]
    }
   ],
   "source": [
    "import math\n",
    "\n",
    "x = 100\n",
    "\n",
    "# logaritmo de x en base 10\n",
    "y = math.log10(x)\n",
    "\n",
    "print(y)  # Salida: 2.0\n"
   ]
  },
  {
   "attachments": {},
   "cell_type": "markdown",
   "metadata": {},
   "source": [
    "En este ejemplo, se utiliza la función `math.log10()` para calcular el logaritmo de `100` en base `10`, lo que resulta en el número `2`.\n",
    "\n",
    "En resumen, en Python se pueden calcular potencias utilizando la función `math.pow()` o la notación `**`, y se pueden calcular logaritmos utilizando las funciones `math.log()` o `math.log10()`. La función `math.log()` también permite especificar la base del logaritmo como un segundo argumento."
   ]
  },
  {
   "attachments": {},
   "cell_type": "markdown",
   "metadata": {},
   "source": [
    "## **Métodos. Funciones trigonométricas**"
   ]
  },
  {
   "attachments": {},
   "cell_type": "markdown",
   "metadata": {},
   "source": [
    "En Python, el módulo `math` proporciona funciones para calcular valores trigonométricos de ángulos. A continuación, se describen las funciones más comunes y se proporcionan ejemplos de cómo utilizarlas.\n",
    "\n",
    "* **math.sin(x):**\n",
    "\n",
    " Esta función devuelve el seno del ángulo `x`, donde `x` está en radianes."
   ]
  },
  {
   "cell_type": "code",
   "execution_count": 21,
   "metadata": {},
   "outputs": [
    {
     "name": "stdout",
     "output_type": "stream",
     "text": [
      "0.49999999999999994\n"
     ]
    }
   ],
   "source": [
    "import math\n",
    "\n",
    "# Seno de 30 grados\n",
    "x = math.radians(30)\n",
    "y = math.sin(x)\n",
    "\n",
    "print(y)  # Salida: 0.49999999999999994\n"
   ]
  },
  {
   "attachments": {},
   "cell_type": "markdown",
   "metadata": {},
   "source": [
    "En este ejemplo, se utiliza la función `math.radians()` para convertir 30 grados a radianes, y luego se utiliza la función `math.sin()` para calcular el seno del ángulo resultante. El resultado es aproximadamente 0.5.\n",
    "\n",
    "* **math.cos(x):**\n",
    "\n",
    " Esta función devuelve el coseno del ángulo `x`, donde `x` está en radianes."
   ]
  },
  {
   "cell_type": "code",
   "execution_count": 22,
   "metadata": {},
   "outputs": [
    {
     "name": "stdout",
     "output_type": "stream",
     "text": [
      "0.7071067811865476\n"
     ]
    }
   ],
   "source": [
    "import math\n",
    "\n",
    "# Coseno de 45 grados\n",
    "x = math.radians(45)\n",
    "y = math.cos(x)\n",
    "\n",
    "print(y)  # Salida: 0.7071067811865476\n"
   ]
  },
  {
   "attachments": {},
   "cell_type": "markdown",
   "metadata": {},
   "source": [
    "En este ejemplo, se utiliza la función `math.radians()` para convertir 45 grados a radianes, y luego se utiliza la función `math.cos()` para calcular el coseno del ángulo resultante. El resultado es aproximadamente 0.707.\n",
    "\n",
    "* **math.tan(x):**\n",
    "\n",
    " Esta función devuelve la tangente del ángulo `x`, donde `x` está en radianes."
   ]
  },
  {
   "cell_type": "code",
   "execution_count": 23,
   "metadata": {},
   "outputs": [
    {
     "name": "stdout",
     "output_type": "stream",
     "text": [
      "1.7320508075688767\n"
     ]
    }
   ],
   "source": [
    "import math\n",
    "\n",
    "# Tangente de 60 grados\n",
    "x = math.radians(60)\n",
    "y = math.tan(x)\n",
    "\n",
    "print(y)  # Salida: 1.7320508075688767\n"
   ]
  },
  {
   "attachments": {},
   "cell_type": "markdown",
   "metadata": {},
   "source": [
    "En este ejemplo, se utiliza la función `math.radians()` para convertir 60 grados a radianes, y luego se utiliza la función `math.tan()` para calcular la tangente del ángulo resultante. El resultado es aproximadamente 1.732.\n",
    "\n",
    "* **math.asin(x):**\n",
    "\n",
    " Esta función devuelve el ángulo en radianes cuyo seno es `x`."
   ]
  },
  {
   "cell_type": "code",
   "execution_count": 24,
   "metadata": {},
   "outputs": [
    {
     "name": "stdout",
     "output_type": "stream",
     "text": [
      "30.000000000000004\n"
     ]
    }
   ],
   "source": [
    "import math\n",
    "\n",
    "# Ángulo cuyo seno es 0.5\n",
    "x = 0.5\n",
    "y = math.asin(x)\n",
    "\n",
    "print(math.degrees(y))  # Salida: 30.000000000000004\n"
   ]
  },
  {
   "attachments": {},
   "cell_type": "markdown",
   "metadata": {},
   "source": [
    "En este ejemplo, se utiliza la función `math.asin()` para calcular el ángulo en radianes cuyo seno es 0.5. Luego, se utiliza la función `math.degrees()` para convertir el resultado a grados. El resultado es aproximadamente 30 grados.\n",
    "\n",
    "* **math.acos(x):**\n",
    "\n",
    " Esta función devuelve el ángulo en radianes cuyo coseno es `x`."
   ]
  },
  {
   "cell_type": "code",
   "execution_count": 25,
   "metadata": {},
   "outputs": [
    {
     "name": "stdout",
     "output_type": "stream",
     "text": [
      "60.00000000000001\n"
     ]
    }
   ],
   "source": [
    "import math\n",
    "\n",
    "# Ángulo cuyo coseno es 0.5\n",
    "x = 0.5\n",
    "y = math.acos(x)\n",
    "\n",
    "print(math.degrees(y))  # Salida: 60.00000000000001\n"
   ]
  },
  {
   "attachments": {},
   "cell_type": "markdown",
   "metadata": {},
   "source": [
    "En este ejemplo, se utiliza la función `math.acos()` para calcular el ángulo en radianes cuyo coseno es 0.5. Luego, se utiliza la función `math.degrees()` para convertir el resultado a grados. El resultado es aproximadamente 60 grados.\n",
    "\n",
    "* **math.atan(x):**\n",
    "\n",
    " Esta función devuelve el ángulo en radianes cuya tangente es `x`."
   ]
  },
  {
   "cell_type": "code",
   "execution_count": 26,
   "metadata": {},
   "outputs": [
    {
     "name": "stdout",
     "output_type": "stream",
     "text": [
      "59.999272219172624\n"
     ]
    }
   ],
   "source": [
    "import math\n",
    "\n",
    "# Ángulo cuya tangente es 1.732\n",
    "x = 1.732\n",
    "y = math.atan(x)\n",
    "\n",
    "print(math.degrees(y))  # Salida: 60.00000000000001\n"
   ]
  },
  {
   "attachments": {},
   "cell_type": "markdown",
   "metadata": {},
   "source": [
    "En este ejemplo, se utiliza la función `math.atan()` para calcular el ángulo en radianes cuya tangente es 1.732. Luego, se utiliza la función `math.degrees()` para convertir el resultado a grados. El resultado es aproximadamente 60 grados.\n",
    "\n",
    "* **math.atan2(y, x):**\n",
    "\n",
    " Esta función devuelve el ángulo en radianes cuya tangente es `y/x`, teniendo en cuenta el cuadrante de `(x, y)`."
   ]
  },
  {
   "cell_type": "code",
   "execution_count": 27,
   "metadata": {},
   "outputs": [
    {
     "name": "stdout",
     "output_type": "stream",
     "text": [
      "-135.0\n"
     ]
    }
   ],
   "source": [
    "import math\n",
    "\n",
    "# Ángulo cuya tangente es -1.0 y (x, y) = (-1, -1)\n",
    "x = -1\n",
    "y = -1\n",
    "theta = math.atan2(y, x)\n",
    "\n",
    "print(math.degrees(theta))  # Salida: -135.0\n"
   ]
  },
  {
   "attachments": {},
   "cell_type": "markdown",
   "metadata": {},
   "source": [
    "En este ejemplo, se utiliza la función `math.atan2()` para calcular el ángulo en radianes cuya tangente es -1.0 y cuyas coordenadas son (-1, -1). La función `math.degrees()` se utiliza para convertir el resultado a grados. El resultado es aproximadamente -135 grados."
   ]
  },
  {
   "attachments": {},
   "cell_type": "markdown",
   "metadata": {},
   "source": [
    "## **Métodos. Funciones hiperbólicas**"
   ]
  },
  {
   "attachments": {},
   "cell_type": "markdown",
   "metadata": {},
   "source": [
    "En Python, las funciones hiperbólicas se encuentran en el módulo `math` y se utilizan para realizar cálculos con números hiperbólicos. Las funciones hiperbólicas son similares a las funciones trigonométricas, pero utilizan números hiperbólicos en lugar de números reales. A continuación, se explican algunas de las funciones hiperbólicas más utilizadas en Python:\n",
    "\n",
    "* **math.sinh(x):**\n",
    "\n",
    " Esta función devuelve el seno hiperbólico de `x`."
   ]
  },
  {
   "cell_type": "code",
   "execution_count": 28,
   "metadata": {},
   "outputs": [
    {
     "name": "stdout",
     "output_type": "stream",
     "text": [
      "3.626860407847019\n"
     ]
    }
   ],
   "source": [
    "import math\n",
    "\n",
    "x = 2\n",
    "y = math.sinh(x)\n",
    "\n",
    "print(y)  # Salida: 3.6268604078470186\n"
   ]
  },
  {
   "attachments": {},
   "cell_type": "markdown",
   "metadata": {},
   "source": [
    "En este ejemplo, se utiliza la función `math.sinh()` para calcular el seno hiperbólico de 2. El resultado es aproximadamente 3.6268604078470186.\n",
    "\n",
    "* **math.cosh(x):**\n",
    "\n",
    " Esta función devuelve el coseno hiperbólico de `x`."
   ]
  },
  {
   "cell_type": "code",
   "execution_count": 29,
   "metadata": {},
   "outputs": [
    {
     "name": "stdout",
     "output_type": "stream",
     "text": [
      "3.7621956910836314\n"
     ]
    }
   ],
   "source": [
    "import math\n",
    "\n",
    "x = 2\n",
    "y = math.cosh(x)\n",
    "\n",
    "print(y)  # Salida: 3.7621956910836314\n"
   ]
  },
  {
   "attachments": {},
   "cell_type": "markdown",
   "metadata": {},
   "source": [
    "En este ejemplo, se utiliza la función `math.cosh()` para calcular el coseno hiperbólico de 2. El resultado es aproximadamente 3.7621956910836314.\n",
    "\n",
    "* **math.tanh(x):**\n",
    "\n",
    " Esta función devuelve la tangente hiperbólica de `x`."
   ]
  },
  {
   "cell_type": "code",
   "execution_count": 30,
   "metadata": {},
   "outputs": [
    {
     "name": "stdout",
     "output_type": "stream",
     "text": [
      "0.9640275800758169\n"
     ]
    }
   ],
   "source": [
    "import math\n",
    "\n",
    "x = 2\n",
    "y = math.tanh(x)\n",
    "\n",
    "print(y)  # Salida: 0.9640275800758169\n"
   ]
  },
  {
   "attachments": {},
   "cell_type": "markdown",
   "metadata": {},
   "source": [
    "En este ejemplo, se utiliza la función `math.tanh()` para calcular la tangente hiperbólica de 2. El resultado es aproximadamente 0.9640275800758169.\n",
    "\n",
    "* **math.asinh(x):**\n",
    "\n",
    " Esta función devuelve el arco seno hiperbólico de `x`."
   ]
  },
  {
   "cell_type": "code",
   "execution_count": 31,
   "metadata": {},
   "outputs": [
    {
     "name": "stdout",
     "output_type": "stream",
     "text": [
      "1.4436354751788103\n"
     ]
    }
   ],
   "source": [
    "import math\n",
    "\n",
    "x = 2\n",
    "y = math.asinh(x)\n",
    "\n",
    "print(y)  # Salida: 1.4436354751788103\n"
   ]
  },
  {
   "attachments": {},
   "cell_type": "markdown",
   "metadata": {},
   "source": [
    "En este ejemplo, se utiliza la función `math.asinh()` para calcular el arco seno hiperbólico de 2. El resultado es aproximadamente 1.4436354751788103.\n",
    "\n",
    "* **math.acosh(x):**\n",
    "\n",
    " Esta función devuelve el arco coseno hiperbólico de `x`."
   ]
  },
  {
   "cell_type": "code",
   "execution_count": 32,
   "metadata": {},
   "outputs": [
    {
     "name": "stdout",
     "output_type": "stream",
     "text": [
      "1.3169578969248166\n"
     ]
    }
   ],
   "source": [
    "import math\n",
    "\n",
    "x = 2\n",
    "y = math.acosh(x)\n",
    "\n",
    "print(y)  # Salida: 1.3169578969248166\n"
   ]
  },
  {
   "attachments": {},
   "cell_type": "markdown",
   "metadata": {},
   "source": [
    "En este ejemplo, se utiliza la función `math.acosh()` para calcular el arco coseno hiperbólico de 2. El resultado es aproximadamente 1.3169578969248166.\n",
    "\n",
    "* **math.atanh(x):**\n",
    "\n",
    " Esta función devuelve el arco tangente hiperbólica de `x`."
   ]
  },
  {
   "cell_type": "code",
   "execution_count": 33,
   "metadata": {},
   "outputs": [
    {
     "name": "stdout",
     "output_type": "stream",
     "text": [
      "0.5493061443340548\n"
     ]
    }
   ],
   "source": [
    "import math\n",
    "\n",
    "x = 0.5\n",
    "y = math.atanh(x)\n",
    "\n",
    "print(y)  # Salida: 0.5493061443340548\n"
   ]
  },
  {
   "attachments": {},
   "cell_type": "markdown",
   "metadata": {},
   "source": [
    "En este ejemplo, se utiliza la función `math.atanh()` para calcular el arco tangente hiperbólica de 0.5. El resultado es aproximadamente 0.5493061443340548."
   ]
  },
  {
   "attachments": {},
   "cell_type": "markdown",
   "metadata": {},
   "source": [
    "## **Métodos. Funciones de clasificación**"
   ]
  },
  {
   "attachments": {},
   "cell_type": "markdown",
   "metadata": {},
   "source": [
    "En Python, las funciones de clasificación se utilizan para ordenar y clasificar objetos en listas, tuplas y otros tipos de estructuras de datos. A continuación, se presentan algunas de las funciones de clasificación más comunes en Python:\n",
    "\n",
    "* `sorted(iterable[, key][, reverse])`:\n",
    "\n",
    " Esta función devuelve una lista ordenada de elementos del iterable especificado. El argumento `key` es una función opcional que se utiliza para personalizar el ordenamiento de los elementos, y el argumento reverse es un valor booleano opcional que se utiliza para especificar si los elementos deben ser ordenados en orden ascendente o descendente."
   ]
  },
  {
   "cell_type": "code",
   "execution_count": 34,
   "metadata": {},
   "outputs": [
    {
     "name": "stdout",
     "output_type": "stream",
     "text": [
      "[1, 1, 2, 3, 3, 4, 5, 5, 5, 6, 9]\n"
     ]
    }
   ],
   "source": [
    "numbers = [3, 1, 4, 1, 5, 9, 2, 6, 5, 3, 5]\n",
    "\n",
    "sorted_numbers = sorted(numbers)\n",
    "\n",
    "print(sorted_numbers)  # Salida: [1, 1, 2, 3, 3, 4, 5, 5, 5, 6, 9]\n"
   ]
  },
  {
   "attachments": {},
   "cell_type": "markdown",
   "metadata": {},
   "source": [
    "En este ejemplo, se utiliza la función `sorted()` para ordenar los números de la lista numbers en orden ascendente. El resultado es una lista ordenada de números.\n",
    "\n",
    "* `list.sort(key=None, reverse=False)`:\n",
    "\n",
    " Esta función se utiliza para ordenar una lista en su lugar. El argumento `key` es una función opcional que se utiliza para personalizar el ordenamiento de los elementos, y el argumento reverse es un valor booleano opcional que se utiliza para especificar si los elementos deben ser ordenados en orden ascendente o descendente."
   ]
  },
  {
   "cell_type": "code",
   "execution_count": 35,
   "metadata": {},
   "outputs": [
    {
     "name": "stdout",
     "output_type": "stream",
     "text": [
      "[1, 1, 2, 3, 3, 4, 5, 5, 5, 6, 9]\n"
     ]
    }
   ],
   "source": [
    "numbers = [3, 1, 4, 1, 5, 9, 2, 6, 5, 3, 5]\n",
    "\n",
    "numbers.sort()\n",
    "\n",
    "print(numbers)  # Salida: [1, 1, 2, 3, 3, 4, 5, 5, 5, 6, 9]\n"
   ]
  },
  {
   "attachments": {},
   "cell_type": "markdown",
   "metadata": {},
   "source": [
    "En este ejemplo, se utiliza el método `sort()` para ordenar los números de la lista numbers en orden ascendente. El resultado es la lista numbers ordenada.\n",
    "\n",
    "* `max(iterable[, key])`:\n",
    "\n",
    " Esta función devuelve el elemento máximo en el iterable especificado. El argumento `key` es una función opcional que se utiliza para personalizar la comparación de elementos."
   ]
  },
  {
   "cell_type": "code",
   "execution_count": 36,
   "metadata": {},
   "outputs": [
    {
     "name": "stdout",
     "output_type": "stream",
     "text": [
      "9\n"
     ]
    }
   ],
   "source": [
    "numbers = [3, 1, 4, 1, 5, 9, 2, 6, 5, 3, 5]\n",
    "\n",
    "max_number = max(numbers)\n",
    "\n",
    "print(max_number)  # Salida: 9\n"
   ]
  },
  {
   "attachments": {},
   "cell_type": "markdown",
   "metadata": {},
   "source": [
    "En este ejemplo, se utiliza la función `max()` para encontrar el número máximo en la lista numbers. El resultado es el número máximo en la lista.\n",
    "\n",
    "* `min(iterable[, key])`:\n",
    "\n",
    " Esta función devuelve el elemento mínimo en el iterable especificado. El argumento `key` es una función opcional que se utiliza para personalizar la comparación de elementos."
   ]
  },
  {
   "cell_type": "code",
   "execution_count": 37,
   "metadata": {},
   "outputs": [
    {
     "name": "stdout",
     "output_type": "stream",
     "text": [
      "1\n"
     ]
    }
   ],
   "source": [
    "numbers = [3, 1, 4, 1, 5, 9, 2, 6, 5, 3, 5]\n",
    "\n",
    "min_number = min(numbers)\n",
    "\n",
    "print(min_number)  # Salida: 1\n"
   ]
  },
  {
   "attachments": {},
   "cell_type": "markdown",
   "metadata": {},
   "source": [
    "En este ejemplo, se utiliza la función `min()` para encontrar el número mínimo en la lista numbers. El resultado es el número mínimo en la lista.\n",
    "\n",
    "* `sorted(iterable, key=lambda x: x[1])`:\n",
    "\n",
    " Esta función se utiliza para ordenar una lista de tuplas en función del segundo elemento de cada tupla. En este caso, se utiliza una función `lambda` para especificar que se debe utilizar el segundo elemento de cada tupla como clave para ordenar la lista."
   ]
  },
  {
   "cell_type": "code",
   "execution_count": 38,
   "metadata": {},
   "outputs": [
    {
     "name": "stdout",
     "output_type": "stream",
     "text": [
      "[('Charlie', 90), ('Dave', 85), ('Alice', 80), ('Bob', 75)]\n"
     ]
    }
   ],
   "source": [
    "students = [(\"Alice\", 80), (\"Bob\", 75), (\"Charlie\", 90), (\"Dave\", 85)]\n",
    "\n",
    "sorted_students = sorted(students, key=lambda x: x[1], reverse=True)\n",
    "\n",
    "print(sorted_students)  # Salida: [(\"Charlie\", 90), (\"Dave\", 85), (\"Alice\", 80), (\"Bob\", 75)]\n"
   ]
  },
  {
   "attachments": {},
   "cell_type": "markdown",
   "metadata": {},
   "source": [
    "En este ejemplo, se utiliza la función `sorted()` junto con una función `lambda` para ordenar la lista de tuplas `students` en función de las calificaciones de los estudiantes en orden descendente. El resultado es una lista ordenada de tuplas que muestra los nombres y las calificaciones de los estudiantes en orden descendente."
   ]
  },
  {
   "attachments": {},
   "cell_type": "markdown",
   "metadata": {},
   "source": [
    "| **Inicio** | **atrás 14** | **Siguiente 16** |\n",
    "|----------- |-------------- |---------------|\n",
    "| [🏠](../../README.md) | [⏪](./14.Scripts_Modulos.ipynb)| [⏩](./16.Modulos_Numpy.ipynb)|"
   ]
  }
 ],
 "metadata": {
  "kernelspec": {
   "display_name": "base",
   "language": "python",
   "name": "python3"
  },
  "language_info": {
   "codemirror_mode": {
    "name": "ipython",
    "version": 3
   },
   "file_extension": ".py",
   "mimetype": "text/x-python",
   "name": "python",
   "nbconvert_exporter": "python",
   "pygments_lexer": "ipython3",
   "version": "3.9.12"
  },
  "orig_nbformat": 4
 },
 "nbformat": 4,
 "nbformat_minor": 2
}
