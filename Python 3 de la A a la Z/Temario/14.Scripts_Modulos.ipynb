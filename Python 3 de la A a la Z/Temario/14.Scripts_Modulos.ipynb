{
 "cells": [
  {
   "attachments": {},
   "cell_type": "markdown",
   "metadata": {},
   "source": [
    "| **Inicio** | **atrás 13** | **Siguiente 15** |\n",
    "|----------- |-------------- |---------------|\n",
    "| [🏠](../../README.md) | [⏪](./13.Programacion_Orientada_Objetos.ipynb)| [⏩](./15.Modulos_de_math_cmath.ipynb)|"
   ]
  },
  {
   "attachments": {},
   "cell_type": "markdown",
   "metadata": {},
   "source": [
    "# **14. Scripts  y Módulos en Python**"
   ]
  },
  {
   "attachments": {},
   "cell_type": "markdown",
   "metadata": {},
   "source": [
    "## **Scripts**"
   ]
  },
  {
   "attachments": {},
   "cell_type": "markdown",
   "metadata": {},
   "source": [
    "En Python, un script se refiere a un archivo de texto plano que contiene una serie de instrucciones o comandos que se ejecutan de manera secuencial cuando se ejecuta el archivo en el intérprete de Python. Un script de Python es esencialmente un programa que se puede ejecutar en el intérprete de Python para realizar una tarea específica.\n",
    "\n",
    "Para crear un script en Python, primero debes crear un archivo de texto plano con la extensión `\".py\"`. Dentro de este archivo, puedes escribir tu código Python para realizar la tarea que deseas. Por ejemplo, si deseas crear un script para imprimir `\"Hola, mundo!\"`, puedes escribir el siguiente código en un archivo llamado `\"holamundo.py\"`:"
   ]
  },
  {
   "cell_type": "code",
   "execution_count": 1,
   "metadata": {},
   "outputs": [
    {
     "name": "stdout",
     "output_type": "stream",
     "text": [
      "Hola, mundo!\n"
     ]
    }
   ],
   "source": [
    "print(\"Hola, mundo!\")"
   ]
  },
  {
   "attachments": {},
   "cell_type": "markdown",
   "metadata": {},
   "source": [
    "Una vez que hayas escrito tu código, puedes guardar el archivo y ejecutarlo en el intérprete de Python. Para hacer esto, abre una terminal en tu computadora, navega hasta el directorio donde se encuentra el archivo `\"holamundo.py\"` y escribe el siguiente comando:"
   ]
  },
  {
   "attachments": {},
   "cell_type": "markdown",
   "metadata": {},
   "source": [
    "`python holamundo.py`"
   ]
  },
  {
   "attachments": {},
   "cell_type": "markdown",
   "metadata": {},
   "source": [
    "Esto ejecutará el script y mostrará el mensaje `\"Hola, mundo!\"` en la terminal.\n",
    "\n",
    "Los scripts en Python pueden ser mucho más complejos que imprimir un simple mensaje. Pueden incluir estructuras de control de flujo como bucles y condicionales, funciones, clases, y mucho más. Aquí hay algunos ejemplos de scripts en Python que realizan tareas más complejas:\n",
    "\n",
    "1. Este script pide al usuario que ingrese su nombre y edad, y luego imprime un mensaje que les da la bienvenida y les informa cuántos años tendrán en el año actual:"
   ]
  },
  {
   "cell_type": "code",
   "execution_count": 3,
   "metadata": {},
   "outputs": [
    {
     "name": "stdout",
     "output_type": "stream",
     "text": [
      "Hola, gustavo. Tendrás 31 años en el 2023.\n"
     ]
    }
   ],
   "source": [
    "nombre = input(\"¿Cuál es tu nombre? \")\n",
    "edad = int(input(\"¿Cuál es tu edad? \"))\n",
    "anio_actual = 2023\n",
    "anio_nacimiento = anio_actual - edad\n",
    "edad_proximo_anio = edad + 1\n",
    "print(\"Hola, \" + nombre + \". Tendrás \" + str(edad_proximo_anio) + \" años en el \" + str(anio_actual) + \".\")"
   ]
  },
  {
   "attachments": {},
   "cell_type": "markdown",
   "metadata": {},
   "source": [
    "2. Este script lee un archivo de texto y cuenta el número de palabras que contiene:"
   ]
  },
  {
   "cell_type": "code",
   "execution_count": 4,
   "metadata": {},
   "outputs": [
    {
     "name": "stdout",
     "output_type": "stream",
     "text": [
      "El archivo contiene 48 palabras.\n"
     ]
    }
   ],
   "source": [
    "with open(\"../modules/archivo.txt\", \"r\") as archivo:\n",
    "    contenido = archivo.read()\n",
    "    palabras = contenido.split()\n",
    "    num_palabras = len(palabras)\n",
    "    print(\"El archivo contiene \" + str(num_palabras) + \" palabras.\")"
   ]
  },
  {
   "attachments": {},
   "cell_type": "markdown",
   "metadata": {},
   "source": [
    "En resumen, un script en Python es un archivo de texto plano que contiene una serie de instrucciones o comandos que se ejecutan en el intérprete de Python para realizar una tarea específica. Los scripts pueden ser simples o complejos, y pueden incluir cualquier cantidad de código Python."
   ]
  },
  {
   "attachments": {},
   "cell_type": "markdown",
   "metadata": {},
   "source": [
    "## **Creando un script de Python**"
   ]
  },
  {
   "attachments": {},
   "cell_type": "markdown",
   "metadata": {},
   "source": [
    "Claro, puedo guiarte en la creación de un script de Python con un ejemplo simple. En este caso, crearemos un script que calcule el promedio de tres números.\n",
    "\n",
    "1. Abre cualquier editor de texto que prefieras (por ejemplo, Sublime Text, VSCode, PyCharm, etc.) y crea un nuevo archivo de texto. Luego, guarda el archivo con el nombre \"promedio.py\" y asegúrate de que la extensión sea \".py\" para que Python pueda reconocerlo como un archivo de script.\n",
    "\n",
    "2. Escribe el siguiente código en el archivo `\"promedio.py\"` y guárdalo:\n",
    "\n"
   ]
  },
  {
   "cell_type": "code",
   "execution_count": 5,
   "metadata": {},
   "outputs": [
    {
     "name": "stdout",
     "output_type": "stream",
     "text": [
      "El promedio de los tres números es: 20.0\n"
     ]
    }
   ],
   "source": [
    "num1 = float(input(\"Ingrese el primer número: \"))\n",
    "num2 = float(input(\"Ingrese el segundo número: \"))\n",
    "num3 = float(input(\"Ingrese el tercer número: \"))\n",
    "\n",
    "promedio = (num1 + num2 + num3) / 3\n",
    "\n",
    "print(\"El promedio de los tres números es:\", promedio)"
   ]
  },
  {
   "attachments": {},
   "cell_type": "markdown",
   "metadata": {},
   "source": [
    "En este script, le pedimos al usuario que ingrese tres números y los almacenamos en las variables `\"num1\"`, `\"num2\"` y `\"num3\"`. Luego, calculamos el promedio de los tres números y lo almacenamos en la variable `\"promedio\"`. Finalmente, imprimimos el resultado en la pantalla.\n",
    "\n",
    "Abre la terminal en tu computadora y navega hasta el directorio donde se encuentra el archivo `\"promedio.py\"`. Luego, escribe el siguiente comando en la terminal para ejecutar el script:"
   ]
  },
  {
   "attachments": {},
   "cell_type": "markdown",
   "metadata": {},
   "source": [
    "`python promedio.py`"
   ]
  },
  {
   "attachments": {},
   "cell_type": "markdown",
   "metadata": {},
   "source": [
    "4. Ahora, el script solicitará al usuario que ingrese tres números, y luego imprimirá el promedio de los tres números en la pantalla.\n",
    "\n",
    "Eso es todo. Has creado tu primer script de Python. Como puedes ver, los scripts de Python son una forma eficaz de automatizar tareas y realizar cálculos complejos en poco tiempo. Puedes crear scripts más complejos, utilizando estructuras de control, funciones, módulos y más, según tus necesidades.\n"
   ]
  },
  {
   "attachments": {},
   "cell_type": "markdown",
   "metadata": {},
   "source": [
    "## **Importando un script de Python**"
   ]
  },
  {
   "attachments": {},
   "cell_type": "markdown",
   "metadata": {},
   "source": [
    "Cuando trabajas en proyectos más grandes, a menudo es útil dividir tu código en múltiples archivos para que sea más fácil de leer, mantener y reutilizar. En Python, puedes importar funciones y clases de otros archivos para usarlas en tu script actual. Aquí te muestro cómo puedes importar un script de Python en otro script.\n",
    "\n",
    "1. Crea dos archivos llamados `\"script1.py\"` y `\"script2.py\"`. En `\"script1.py\"`, escribe el siguiente código:"
   ]
  },
  {
   "attachments": {},
   "cell_type": "markdown",
   "metadata": {},
   "source": [
    "```\n",
    "def saludar(nombre):\n",
    "    print(\"Hola, \" + nombre)\n",
    "```"
   ]
  },
  {
   "attachments": {},
   "cell_type": "markdown",
   "metadata": {},
   "source": [
    "En `\"script2.py\"`, escribe el siguiente código:"
   ]
  },
  {
   "attachments": {},
   "cell_type": "markdown",
   "metadata": {},
   "source": [
    "```\n",
    "import script1\n",
    "\n",
    "script1.saludar(\"Juan\")\n",
    "```"
   ]
  },
  {
   "attachments": {},
   "cell_type": "markdown",
   "metadata": {},
   "source": [
    "2. Abre la terminal en tu computadora y navega hasta el directorio donde se encuentran los archivos `\"script1.py\"` y `\"script2.py\"`. Luego, escribe el siguiente comando para ejecutar `\"script2.py\"`:"
   ]
  },
  {
   "attachments": {},
   "cell_type": "markdown",
   "metadata": {},
   "source": [
    "`python script2.py`"
   ]
  },
  {
   "attachments": {},
   "cell_type": "markdown",
   "metadata": {},
   "source": [
    "3. Cuando ejecutas `\"script2.py\"`, Python importa el módulo `\"script1\"` y llama a la función `\"saludar\"` que se define en ese archivo.\n",
    "En el ejemplo anterior, usamos la palabra clave `\"import\"` para importar el módulo `\"script1\"` en `\"script2\"`. Luego, llamamos a la función `\"saludar\"` del módulo `\"script1\"` utilizando la sintaxis `\"script1.saludar(nombre)\"`. Esto asegura que Python sepa de dónde viene la función `\"saludar\"` y puede encontrarla para ejecutarla.\n",
    "\n",
    "También puedes importar solo funciones específicas de un módulo en lugar de importar todo el módulo. Por ejemplo, si solo necesitas la función `\"saludar\"` de `\"script1.py\"`, puedes importarla de la siguiente manera:"
   ]
  },
  {
   "attachments": {},
   "cell_type": "markdown",
   "metadata": {},
   "source": [
    "```\n",
    "from script1 import saludar\n",
    "\n",
    "saludar(\"Juan\")\n",
    "```"
   ]
  },
  {
   "attachments": {},
   "cell_type": "markdown",
   "metadata": {},
   "source": [
    "En este caso, la palabra clave `\"from\"` le dice a Python que solo importe la función `\"saludar\"` del módulo `\"script1\"`. Luego, podemos llamar a la función directamente con `\"saludar(nombre)\"` en lugar de `\"script1.saludar(nombre)\"`.\n",
    "\n",
    "En resumen, importar un script de Python en otro script te permite reutilizar código y hacer tu proyecto más modular. Puedes importar todo un módulo o solo funciones específicas, según tus necesidades."
   ]
  },
  {
   "attachments": {},
   "cell_type": "markdown",
   "metadata": {},
   "source": [
    "## **Módulos**"
   ]
  },
  {
   "attachments": {},
   "cell_type": "markdown",
   "metadata": {},
   "source": [
    "En Python, los módulos son archivos de Python que contienen código que se puede reutilizar en otros programas. Cada archivo de Python se considera un módulo, y puedes importar módulos en tu script para acceder a su funcionalidad. Los módulos son una forma eficaz de organizar tu código en bloques reutilizables y pueden contener funciones, clases y variables.\n",
    "\n",
    "Veamos un ejemplo de cómo se puede utilizar un módulo en Python:\n",
    "\n",
    "1. Crea un archivo llamado `\"mimodulo.py\"` y escribe el siguiente código:"
   ]
  },
  {
   "attachments": {},
   "cell_type": "markdown",
   "metadata": {},
   "source": [
    "```\n",
    "def saludar(nombre):\n",
    "    print(\"Hola, \" + nombre)\n",
    "\n",
    "def despedirse(nombre):\n",
    "    print(\"Adiós, \" + nombre)\n",
    "```"
   ]
  },
  {
   "attachments": {},
   "cell_type": "markdown",
   "metadata": {},
   "source": [
    "En este ejemplo, el módulo `\"mimodulo\"` contiene dos funciones: `\"saludar\"` y `\"despedirse\"`. Ahora podemos usar estas funciones en nuestro script principal.\n",
    "\n",
    "2. Crea un nuevo archivo llamado `\"script.py\"` y escribe el siguiente código:"
   ]
  },
  {
   "attachments": {},
   "cell_type": "markdown",
   "metadata": {},
   "source": [
    "```\n",
    "import mimodulo\n",
    "\n",
    "mimodulo.saludar(\"Juan\")\n",
    "mimodulo.despedirse(\"Juan\")\n",
    "```"
   ]
  },
  {
   "attachments": {},
   "cell_type": "markdown",
   "metadata": {},
   "source": [
    "Aquí, usamos la palabra clave `\"import\"` para importar el módulo `\"mimodulo\"`. Luego, podemos acceder a las funciones `\"saludar\"` y `\"despedirse\"` de `\"mimodulo\"` utilizando la sintaxis `\"mimodulo.funcion()\"`.\n",
    "\n",
    "3. Abre la terminal en tu computadora y navega hasta el directorio donde se encuentran los archivos `\"mimodulo.py\"` y `\"script.py\"`. Luego, escribe el siguiente comando para ejecutar `\"script.py\"`:"
   ]
  },
  {
   "attachments": {},
   "cell_type": "markdown",
   "metadata": {},
   "source": [
    "`python script.py`"
   ]
  },
  {
   "attachments": {},
   "cell_type": "markdown",
   "metadata": {},
   "source": [
    "3. Cuando ejecutas `\"script.py\"`, Python importa el módulo `\"mimodulo\"` y llama a las funciones `\"saludar\"` y `\"despedirse\"` que se definen en ese archivo.\n",
    "\n",
    "También puedes importar funciones específicas de un módulo en lugar de importar todo el módulo. Por ejemplo, si solo necesitas la función `\"saludar\"` del módulo `\"mimodulo\"`, puedes importarla de la siguiente manera:"
   ]
  },
  {
   "attachments": {},
   "cell_type": "markdown",
   "metadata": {},
   "source": [
    "```\n",
    "from mimodulo import saludar\n",
    "\n",
    "saludar(\"Juan\")\n",
    "```"
   ]
  },
  {
   "attachments": {},
   "cell_type": "markdown",
   "metadata": {},
   "source": [
    "En este caso, la palabra clave `\"from\"` le dice a Python que solo importe la función `\"saludar\"` del módulo `\"mimodulo\"`. Luego, podemos llamar a la función directamente con `\"saludar(nombre)\"` en lugar de `\"mimodulo.saludar(nombre)\"`.\n",
    "\n",
    "En resumen, los módulos son una forma útil de organizar tu código en bloques reutilizables en Python. Puedes importar módulos enteros o solo funciones específicas de un módulo según tus necesidades."
   ]
  },
  {
   "attachments": {},
   "cell_type": "markdown",
   "metadata": {},
   "source": [
    "## **Importando un módulo de Python**"
   ]
  },
  {
   "attachments": {},
   "cell_type": "markdown",
   "metadata": {},
   "source": [
    "Para importar un módulo en Python, necesitas usar la palabra clave `import` seguida del nombre del módulo que deseas importar. El nombre del módulo debe coincidir con el nombre del archivo de Python que contiene el código del módulo, pero sin la extensión `.py`.\n",
    "\n",
    "Por ejemplo, si tienes un archivo de Python llamado `mimodulo.py` que contiene algunas funciones, puedes importar el módulo completo en otro archivo de Python usando la siguiente sintaxis:"
   ]
  },
  {
   "attachments": {},
   "cell_type": "markdown",
   "metadata": {},
   "source": [
    "`import mimodulo`"
   ]
  },
  {
   "attachments": {},
   "cell_type": "markdown",
   "metadata": {},
   "source": [
    "Después de importar el módulo, puedes usar cualquier función o variable definida en él utilizando la sintaxis `mimodulo.nombre` para acceder a ellas. Por ejemplo, si el módulo `mimodulo` contiene una función llamada `saludar`, puedes llamarla en otro archivo de Python después de importar el módulo de la siguiente manera:\n",
    "\n"
   ]
  },
  {
   "attachments": {},
   "cell_type": "markdown",
   "metadata": {},
   "source": [
    "```\n",
    "import mimodulo\n",
    "\n",
    "mimodulo.saludar(\"Juan\")\n",
    "```"
   ]
  },
  {
   "attachments": {},
   "cell_type": "markdown",
   "metadata": {},
   "source": [
    "Además de importar el módulo completo, también puedes importar funciones o variables específicas del módulo. Por ejemplo, si solo necesitas la función `saludar` del módulo `mimodulo`, puedes importarla de la siguiente manera:"
   ]
  },
  {
   "attachments": {},
   "cell_type": "markdown",
   "metadata": {},
   "source": [
    "```\n",
    "from mimodulo import saludar\n",
    "\n",
    "saludar(\"Juan\")\n",
    "```"
   ]
  },
  {
   "attachments": {},
   "cell_type": "markdown",
   "metadata": {},
   "source": [
    "En este caso, solo se importa la función `saludar` del módulo `mimodulo`. Después de importar la función, puedes llamarla directamente usando su nombre, sin la necesidad de especificar el nombre del módulo.\n",
    "\n",
    "También es posible renombrar un módulo o una función al importarlo, usando la palabra clave `as`. Por ejemplo, si deseas renombrar el módulo `mimodulo` como `mi`, puedes hacerlo de la siguiente manera:"
   ]
  },
  {
   "attachments": {},
   "cell_type": "markdown",
   "metadata": {},
   "source": [
    "```\n",
    "import mimodulo as mi\n",
    "```"
   ]
  },
  {
   "attachments": {},
   "cell_type": "markdown",
   "metadata": {},
   "source": [
    "De esta forma, en lugar de llamar a las funciones del módulo usando `mimodulo.funcion`, puedes usar `mi.funcion`.\n",
    "\n",
    "En resumen, para importar un módulo en Python, debes usar la palabra clave `import` seguida del nombre del módulo. Después de importar el módulo, puedes usar cualquier función o variable definida en él utilizando la sintaxis `mimodulo.nombre`. También es posible importar funciones o variables específicas del módulo y renombrar el módulo o las funciones al importarlos."
   ]
  },
  {
   "attachments": {},
   "cell_type": "markdown",
   "metadata": {},
   "source": [
    "## **Renombrando un módulo**"
   ]
  },
  {
   "attachments": {},
   "cell_type": "markdown",
   "metadata": {},
   "source": [
    "En Python, puedes renombrar un módulo al importarlo utilizando la palabra clave `as`. Esto es útil si el nombre del módulo es muy largo o difícil de recordar, o si ya existe un nombre en tu programa que entra en conflicto con el nombre del módulo.\n",
    "\n",
    "Para renombrar un módulo, simplemente utiliza la sintaxis `import` modulo `as` `nuevo_nombre`. Esto significa que después de importar el módulo, se le asignará un nuevo nombre que puedes utilizar para hacer referencia a él en tu código.\n",
    "\n",
    "Por ejemplo, supongamos que tienes un módulo llamado `mi_modulo_muy_largo_y_dificil_de_recordar` que contiene una función llamada `mi_funcion`. Para renombrar el módulo como `mm` y utilizar la función, puedes hacer lo siguiente:"
   ]
  },
  {
   "attachments": {},
   "cell_type": "markdown",
   "metadata": {},
   "source": [
    "```\n",
    "import mi_modulo_muy_largo_y_dificil_de_recordar as mm\n",
    "\n",
    "resultado = mm.mi_funcion(parametros)\n",
    "```"
   ]
  },
  {
   "attachments": {},
   "cell_type": "markdown",
   "metadata": {},
   "source": [
    "En este ejemplo, el módulo `mi_modulo_muy_largo_y_dificil_de_recordar` se renombra como `mm`, lo que hace que sea más fácil de usar en el código. Después, se llama a la función `mi_funcion` del módulo utilizando la sintaxis `mm.mi_funcion(parametros)`.\n",
    "\n",
    "También puedes renombrar una función específica al importarla utilizando la misma sintaxis de `as`. Por ejemplo, si solo necesitas la función `mi_funcion` del módulo `mi_modulo_muy_largo_y_dificil_de_recordar` y deseas renombrarla como `mf`, puedes hacer lo siguiente:"
   ]
  },
  {
   "attachments": {},
   "cell_type": "markdown",
   "metadata": {},
   "source": [
    "```\n",
    "from mi_modulo_muy_largo_y_dificil_de_recordar import mi_funcion as mf\n",
    "\n",
    "resultado = mf(parametros)\n",
    "```"
   ]
  },
  {
   "attachments": {},
   "cell_type": "markdown",
   "metadata": {},
   "source": [
    "En este ejemplo, solo se importa la función `mi_funcion` del módulo `mi_modulo_muy_largo_y_dificil_de_recordar` y se renombra como `mf`. Después, se llama a la función directamente utilizando la sintaxis `mf(parametros)`.\n",
    "\n",
    "En resumen, renombrar un módulo o función en Python es fácil utilizando la palabra clave `as` al importarlos. Esto te permite asignar un nuevo nombre más fácil de recordar o usar en tu código."
   ]
  },
  {
   "attachments": {},
   "cell_type": "markdown",
   "metadata": {},
   "source": [
    "## **Variables en un módulo**"
   ]
  },
  {
   "attachments": {},
   "cell_type": "markdown",
   "metadata": {},
   "source": [
    "En Python, los módulos son archivos que contienen código Python que puede ser importado y utilizado en otros programas. Dentro de un módulo, puedes definir variables para almacenar valores que serán utilizados en las funciones y métodos definidos en el mismo.\n",
    "\n",
    "Las variables en un módulo se definen al igual que en cualquier otro archivo de Python, utilizando la sintaxis `nombre_variable = valor`. Por ejemplo, supongamos que tenemos un módulo llamado `mi_modulo` que define una variable llamada `mi_variable` con el valor `10`:"
   ]
  },
  {
   "attachments": {},
   "cell_type": "markdown",
   "metadata": {},
   "source": [
    "```\n",
    "# mi_modulo.py\n",
    "\n",
    "mi_variable = 10\n",
    "```"
   ]
  },
  {
   "attachments": {},
   "cell_type": "markdown",
   "metadata": {},
   "source": [
    "Ahora, en otro archivo de Python, podemos importar el módulo `mi_modulo` y acceder a la variable `mi_variable` utilizando la sintaxis `nombre_modulo`.`nombre_variable`. Por ejemplo:"
   ]
  },
  {
   "attachments": {},
   "cell_type": "markdown",
   "metadata": {},
   "source": [
    "```\n",
    "# otro_archivo.py\n",
    "\n",
    "import mi_modulo\n",
    "\n",
    "print(mi_modulo.mi_variable) # imprime 10\n",
    "```"
   ]
  },
  {
   "attachments": {},
   "cell_type": "markdown",
   "metadata": {},
   "source": [
    "En este ejemplo, el archivo `otro_archivo.py` importa el módulo `mi_modulo` y accede a la variable `mi_variable` utilizando la sintaxis `mi_modulo`.`mi_variable`. Esto imprime el valor de la variable `mi_variable`, que es `10`.\n",
    "\n",
    "También puedes importar variables específicas de un módulo utilizando la sintaxis from `nombre_modulo` import `nombre_variable`. Por ejemplo:"
   ]
  },
  {
   "attachments": {},
   "cell_type": "markdown",
   "metadata": {},
   "source": [
    "```\n",
    "# otro_archivo.py\n",
    "\n",
    "from mi_modulo import mi_variable\n",
    "\n",
    "print(mi_variable) # imprime 10\n",
    "```"
   ]
  },
  {
   "attachments": {},
   "cell_type": "markdown",
   "metadata": {},
   "source": [
    "En este ejemplo, el archivo `otro_archivo.py` importa la variable `mi_variable` del módulo `mi_modulo` utilizando la sintaxis from `mi_modulo` import `mi_variable`. Esto permite acceder a la variable directamente utilizando el nombre `mi_variable`, sin tener que usar el nombre del módulo.\n",
    "\n",
    "En resumen, las variables en un módulo en Python se definen utilizando la misma sintaxis que en cualquier otro archivo de Python. Pueden ser accedidas en otros archivos utilizando la sintaxis `nombre_modulo.nombre_variable` o importándolas directamente con la sintaxis from `nombre_modulo` import `nombre_variable`."
   ]
  },
  {
   "attachments": {},
   "cell_type": "markdown",
   "metadata": {},
   "source": [
    "## **Módulos de Python**"
   ]
  },
  {
   "attachments": {},
   "cell_type": "markdown",
   "metadata": {},
   "source": [
    "En Python, un módulo es un archivo que contiene código Python que puede ser utilizado en otros programas. Los módulos son una forma útil de organizar y reutilizar el código. Por ejemplo, si tienes un conjunto de funciones que utilizas en varios programas diferentes, puedes poner esas funciones en un módulo y luego importar el módulo en cada programa en lugar de tener que copiar y pegar el código en cada uno.\n",
    "\n",
    "Los módulos de Python se definen simplemente como archivos de texto con extensión `.py`. El código en el archivo puede ser cualquier cosa que puedas escribir en Python: funciones, clases, variables, etc. Por ejemplo, aquí hay un archivo de módulo simple llamado `mi_modulo.py` que define una función `saludar()`:"
   ]
  },
  {
   "attachments": {},
   "cell_type": "markdown",
   "metadata": {},
   "source": [
    "```\n",
    "def saludar(nombre):\n",
    "    print(\"Hola, \" + nombre)\n",
    "```"
   ]
  },
  {
   "attachments": {},
   "cell_type": "markdown",
   "metadata": {},
   "source": [
    "Para utilizar la función `saludar()` en otro programa, primero debemos importar el módulo. Podemos hacer esto utilizando la palabra clave `import` seguida del nombre del módulo sin la extensión `.py`. Por ejemplo, para importar el módulo `mi_modulo` y utilizar la función `saludar()`, podemos hacer lo siguiente:"
   ]
  },
  {
   "attachments": {},
   "cell_type": "markdown",
   "metadata": {},
   "source": [
    "```\n",
    "import mi_modulo\n",
    "\n",
    "mi_modulo.saludar(\"Juan\") # imprime \"Hola, Juan\"\n",
    "```"
   ]
  },
  {
   "attachments": {},
   "cell_type": "markdown",
   "metadata": {},
   "source": [
    "En este ejemplo, hemos importado el módulo `mi_modulo` y hemos utilizado la función `saludar()` en el archivo de programa actual. Para llamar a la función, utilizamos la sintaxis `mi_modulo.saludar(nombre)`.\n",
    "\n",
    "También podemos importar una función específica de un módulo utilizando la sintaxis from `nombre_modulo` import `nombre_funcion`. Por ejemplo, para importar la función `saludar()` directamente en nuestro programa, podemos hacer lo siguiente:"
   ]
  },
  {
   "attachments": {},
   "cell_type": "markdown",
   "metadata": {},
   "source": [
    "```\n",
    "from mi_modulo import saludar\n",
    "\n",
    "saludar(\"Pedro\") # imprime \"Hola, Pedro\"\n",
    "```"
   ]
  },
  {
   "attachments": {},
   "cell_type": "markdown",
   "metadata": {},
   "source": [
    "En este ejemplo, hemos importado la función `saludar()` del módulo `mi_modulo` utilizando la sintaxis from `mi_modulo` import `saludar`. Esto nos permite llamar directamente a la función sin tener que utilizar el nombre del módulo.\n",
    "\n",
    "En resumen, los módulos de Python son una forma útil de organizar y reutilizar el código. Puedes definir cualquier tipo de código en un módulo, desde funciones y clases hasta variables y constantes. Luego, puedes importar el módulo en otros programas utilizando la palabra clave `import` o importar funciones específicas utilizando la sintaxis from `nombre_modulo` import `nombre_funcion`."
   ]
  },
  {
   "attachments": {},
   "cell_type": "markdown",
   "metadata": {},
   "source": [
    "## **La función dir()**"
   ]
  },
  {
   "attachments": {},
   "cell_type": "markdown",
   "metadata": {},
   "source": [
    "En Python, la función `dir()` es una función integrada que devuelve una lista de todos los atributos y métodos disponibles para un objeto dado. Es útil para explorar los objetos y determinar qué funciones y atributos están disponibles.\n",
    "\n",
    "La sintaxis básica de la función `dir()` es la siguiente:"
   ]
  },
  {
   "attachments": {},
   "cell_type": "markdown",
   "metadata": {},
   "source": [
    "`dir([object])`"
   ]
  },
  {
   "attachments": {},
   "cell_type": "markdown",
   "metadata": {},
   "source": [
    "Donde object es el objeto para el que deseas obtener la lista de atributos y métodos disponibles. Si se omite object, `dir()` devuelve una lista de los nombres definidos en el ámbito actual.\n",
    "\n",
    "Aquí hay un ejemplo de cómo podemos utilizar la función `dir()` en Python:"
   ]
  },
  {
   "cell_type": "code",
   "execution_count": 6,
   "metadata": {},
   "outputs": [
    {
     "name": "stdout",
     "output_type": "stream",
     "text": [
      "['__doc__', '__file__', '__loader__', '__name__', '__package__', '__spec__', 'acos', 'acosh', 'asin', 'asinh', 'atan', 'atan2', 'atanh', 'ceil', 'comb', 'copysign', 'cos', 'cosh', 'degrees', 'dist', 'e', 'erf', 'erfc', 'exp', 'expm1', 'fabs', 'factorial', 'floor', 'fmod', 'frexp', 'fsum', 'gamma', 'gcd', 'hypot', 'inf', 'isclose', 'isfinite', 'isinf', 'isnan', 'isqrt', 'lcm', 'ldexp', 'lgamma', 'log', 'log10', 'log1p', 'log2', 'modf', 'nan', 'nextafter', 'perm', 'pi', 'pow', 'prod', 'radians', 'remainder', 'sin', 'sinh', 'sqrt', 'tan', 'tanh', 'tau', 'trunc', 'ulp']\n",
      "['__add__', '__class__', '__class_getitem__', '__contains__', '__delattr__', '__delitem__', '__dir__', '__doc__', '__eq__', '__format__', '__ge__', '__getattribute__', '__getitem__', '__gt__', '__hash__', '__iadd__', '__imul__', '__init__', '__init_subclass__', '__iter__', '__le__', '__len__', '__lt__', '__mul__', '__ne__', '__new__', '__reduce__', '__reduce_ex__', '__repr__', '__reversed__', '__rmul__', '__setattr__', '__setitem__', '__sizeof__', '__str__', '__subclasshook__', 'append', 'clear', 'copy', 'count', 'extend', 'index', 'insert', 'pop', 'remove', 'reverse', 'sort']\n"
     ]
    }
   ],
   "source": [
    "import math\n",
    "\n",
    "# Mostramos la lista de atributos y métodos disponibles para el módulo math\n",
    "print(dir(math))\n",
    "\n",
    "# Creamos una lista vacía y mostramos los métodos disponibles para las listas\n",
    "lista = []\n",
    "print(dir(lista))"
   ]
  },
  {
   "attachments": {},
   "cell_type": "markdown",
   "metadata": {},
   "source": [
    "En este ejemplo, primero importamos el módulo `math` y utilizamos la función `dir()` para mostrar la lista de atributos y métodos disponibles para este módulo. Como resultado, obtendremos una lista de todos los nombres definidos en el módulo `math`.\n",
    "\n",
    "Luego, creamos una lista vacía y utilizamos la función `dir()` para mostrar los métodos disponibles para las listas. Al hacerlo, obtendremos una lista de todos los métodos y atributos que podemos utilizar en las listas en Python.\n",
    "\n",
    "En resumen, la función `dir()` es una herramienta muy útil para explorar los objetos en Python. Puede ser utilizado para determinar qué métodos y atributos están disponibles en un objeto dado, lo que puede ser útil para escribir código más eficiente y limpio."
   ]
  },
  {
   "attachments": {},
   "cell_type": "markdown",
   "metadata": {},
   "source": [
    "## **Creando un script y la clase RegularPolygon**"
   ]
  },
  {
   "attachments": {},
   "cell_type": "markdown",
   "metadata": {},
   "source": [
    "En Python, una clase es un tipo de objeto que nos permite definir un conjunto de propiedades y métodos que pueden ser utilizados para crear objetos de ese tipo. Podemos utilizar una clase para crear objetos que tengan comportamientos y características similares. Aquí te muestro cómo crear una clase en Python y cómo utilizarla para crear un objeto de la clase.\n",
    "\n",
    "Primero, crearemos un script en Python para definir nuestra clase `RegularPolygon`. Aquí está el código:"
   ]
  },
  {
   "cell_type": "code",
   "execution_count": 7,
   "metadata": {},
   "outputs": [],
   "source": [
    "class RegularPolygon:\n",
    "    def __init__(self, num_sides, side_length):\n",
    "        self.num_sides = num_sides\n",
    "        self.side_length = side_length\n",
    "\n",
    "    def perimeter(self):\n",
    "        return self.num_sides * self.side_length\n",
    "\n",
    "    def area(self):\n",
    "        apothem = self.side_length / (2 * math.tan(math.pi / self.num_sides))\n",
    "        return 0.5 * self.num_sides * self.side_length * apothem"
   ]
  },
  {
   "attachments": {},
   "cell_type": "markdown",
   "metadata": {},
   "source": [
    "En este código, hemos definido la clase `RegularPolygon` con tres métodos: `__init__()`, `perimeter()`, y `area()`. El método `__init__()` es el constructor de la clase y se utiliza para inicializar los atributos de los objetos creados a partir de la clase. En este caso, los atributos son el número de lados y la longitud de cada lado del polígono regular.\n",
    "\n",
    "El método `perimeter()` se utiliza para calcular el perímetro del polígono regular, que se define como la suma de las longitudes de todos los lados del polígono.\n",
    "\n",
    "El método `area()` se utiliza para calcular el área del polígono regular, que se define como la mitad del producto del perímetro y la apotema (la distancia desde el centro del polígono hasta el centro de uno de sus lados).\n",
    "\n",
    "Para utilizar esta clase en un script, primero necesitamos importar el módulo `math` (ya que utilizamos la función `tan()` y la constante `pi` en el método `area()`) y luego crear un objeto de la clase `RegularPolygon`. Aquí está el código:"
   ]
  },
  {
   "cell_type": "code",
   "execution_count": 8,
   "metadata": {},
   "outputs": [
    {
     "name": "stdout",
     "output_type": "stream",
     "text": [
      "Number of sides: 6\n",
      "Side length: 5\n",
      "Perimeter: 30\n",
      "Area: 64.9519052838329\n"
     ]
    }
   ],
   "source": [
    "import math\n",
    "\n",
    "polygon = RegularPolygon(6, 5)\n",
    "\n",
    "print(\"Number of sides:\", polygon.num_sides)\n",
    "print(\"Side length:\", polygon.side_length)\n",
    "print(\"Perimeter:\", polygon.perimeter())\n",
    "print(\"Area:\", polygon.area())"
   ]
  },
  {
   "attachments": {},
   "cell_type": "markdown",
   "metadata": {},
   "source": [
    "En este código, hemos creado un objeto llamado `polygon` de la clase `RegularPolygon` con `6` lados y una longitud de lado de `5`. Luego, imprimimos el número de lados, la longitud de los lados, el perímetro y el área del polígono.\n",
    "\n",
    "En resumen, una clase es una forma de definir un objeto con un conjunto de propiedades y métodos que lo describen. En este ejemplo, creamos la clase `RegularPolygon` para definir un polígono regular y calculamos su perímetro y área utilizando sus atributos y métodos."
   ]
  },
  {
   "attachments": {},
   "cell_type": "markdown",
   "metadata": {},
   "source": [
    "## **Heredando de la clase RegularPolygon**"
   ]
  },
  {
   "attachments": {},
   "cell_type": "markdown",
   "metadata": {},
   "source": [
    "En Python, podemos crear nuevas clases que hereden atributos y métodos de una clase existente. La nueva clase hereda todas las propiedades de la clase padre, pero también puede tener sus propios atributos y métodos adicionales. A esto se le llama `\"herencia\"`.\n",
    "\n",
    "En nuestro ejemplo anterior, ya definimos la clase `RegularPolygon`. Ahora, vamos a crear una nueva clase llamada `Square` que herede de la clase `RegularPolygon` y añadamos algunos métodos adicionales."
   ]
  },
  {
   "cell_type": "code",
   "execution_count": 9,
   "metadata": {},
   "outputs": [],
   "source": [
    "class Square(RegularPolygon):\n",
    "    def __init__(self, side_length):\n",
    "        super().__init__(4, side_length)\n",
    "\n",
    "    def diagonal(self):\n",
    "        return self.side_length * math.sqrt(2)\n",
    "\n",
    "    def area(self):\n",
    "        return self.side_length ** 2"
   ]
  },
  {
   "attachments": {},
   "cell_type": "markdown",
   "metadata": {},
   "source": [
    "En este código, definimos la clase `Square`, que hereda de la clase `RegularPolygon`. Utilizamos la palabra clave `super()` para llamar al constructor de la clase padre, `RegularPolygon`, y pasamos los valores necesarios para inicializar los atributos `num_sides` y `side_length`.\n",
    "\n",
    "También añadimos dos nuevos métodos, `diagonal()` y `area()`. El método `diagonal()` calcula la longitud de la diagonal de un cuadrado, utilizando la fórmula lado x raíz cuadrada de 2. El método `area()` se redefine para calcular el área del cuadrado.\n",
    "\n",
    "Ahora, podemos crear un objeto de la clase `Square` y llamar a sus métodos. Por ejemplo:"
   ]
  },
  {
   "cell_type": "code",
   "execution_count": 10,
   "metadata": {},
   "outputs": [
    {
     "name": "stdout",
     "output_type": "stream",
     "text": [
      "Number of sides: 4\n",
      "Side length: 5\n",
      "Perimeter: 20\n",
      "Diagonal: 7.0710678118654755\n",
      "Area: 25\n"
     ]
    }
   ],
   "source": [
    "square = Square(5)\n",
    "\n",
    "print(\"Number of sides:\", square.num_sides)\n",
    "print(\"Side length:\", square.side_length)\n",
    "print(\"Perimeter:\", square.perimeter())\n",
    "print(\"Diagonal:\", square.diagonal())\n",
    "print(\"Area:\", square.area())"
   ]
  },
  {
   "attachments": {},
   "cell_type": "markdown",
   "metadata": {},
   "source": [
    "En este código, hemos creado un objeto llamado `square` de la clase `Square` con una longitud de lado de `5`. Luego, imprimimos el número de lados, la longitud de los lados, el perímetro, la diagonal y el área del cuadrado.\n",
    "\n",
    "En resumen, la herencia es una característica importante de la programación orientada a objetos en Python. Nos permite crear nuevas clases que hereden atributos y métodos de una clase padre existente, lo que nos ahorra tiempo y nos permite escribir código más eficiente y mantenible. En nuestro ejemplo, heredamos la clase `RegularPolygon` para crear una nueva clase `Square`, que añade nuevos métodos específicos para el cuadrado."
   ]
  },
  {
   "attachments": {},
   "cell_type": "markdown",
   "metadata": {},
   "source": [
    "## **Clase Tetrahedron y clase Cube**"
   ]
  },
  {
   "attachments": {},
   "cell_type": "markdown",
   "metadata": {},
   "source": [
    "En este ejemplo, crearemos dos nuevas clases en Python, `Tetrahedron` y `Cube`, que heredarán de la clase `RegularPolygon` que definimos anteriormente.\n",
    "\n",
    "Primero, definiremos la clase `Tetrahedron`:"
   ]
  },
  {
   "cell_type": "code",
   "execution_count": 11,
   "metadata": {},
   "outputs": [],
   "source": [
    "class Tetrahedron(RegularPolygon):\n",
    "    def __init__(self, side_length):\n",
    "        super().__init__(3, side_length)\n",
    "\n",
    "    def surface_area(self):\n",
    "        return math.sqrt(3) * self.side_length ** 2\n",
    "\n",
    "    def volume(self):\n",
    "        return (math.sqrt(2) / 12) * self.side_length ** 3"
   ]
  },
  {
   "attachments": {},
   "cell_type": "markdown",
   "metadata": {},
   "source": [
    "La clase `Tetrahedron` hereda de la clase `RegularPolygon` y se define con un número de lados igual a `3`, ya que un tetraedro es un polígono de tres lados. Además, la clase `Tetrahedron` tiene dos métodos adicionales, `surface_area()` y `volume()`, que calculan el área de la superficie y el volumen del tetraedro, respectivamente.\n",
    "\n",
    "Ahora, definamos la clase `Cube`:"
   ]
  },
  {
   "cell_type": "code",
   "execution_count": 12,
   "metadata": {},
   "outputs": [],
   "source": [
    "\n",
    "class Cube(RegularPolygon):\n",
    "    def __init__(self, side_length):\n",
    "        super().__init__(6, side_length)\n",
    "\n",
    "    def surface_area(self):\n",
    "        return 6 * self.side_length ** 2\n",
    "\n",
    "    def volume(self):\n",
    "        return self.side_length ** 3"
   ]
  },
  {
   "attachments": {},
   "cell_type": "markdown",
   "metadata": {},
   "source": [
    "La clase `Cube` también hereda de la clase `RegularPolygon`, pero se define con un número de lados igual a 6, ya que un cubo es un polígono de seis lados. La clase `Cube` tiene dos métodos adicionales, `surface_area()` y `volume()`, que calculan el área de la superficie y el volumen del cubo, respectivamente.\n",
    "\n",
    "Ahora, podemos crear objetos de estas clases y llamar a sus métodos. Por ejemplo:"
   ]
  },
  {
   "cell_type": "code",
   "execution_count": 13,
   "metadata": {},
   "outputs": [
    {
     "name": "stdout",
     "output_type": "stream",
     "text": [
      "Tetrahedron surface area: 43.30127018922193\n",
      "Tetrahedron volume: 14.731391274719742\n",
      "Cube surface area: 150\n",
      "Cube volume: 125\n"
     ]
    }
   ],
   "source": [
    "tetrahedron = Tetrahedron(5)\n",
    "print(\"Tetrahedron surface area:\", tetrahedron.surface_area())\n",
    "print(\"Tetrahedron volume:\", tetrahedron.volume())\n",
    "\n",
    "cube = Cube(5)\n",
    "print(\"Cube surface area:\", cube.surface_area())\n",
    "print(\"Cube volume:\", cube.volume())"
   ]
  },
  {
   "attachments": {},
   "cell_type": "markdown",
   "metadata": {},
   "source": [
    "En este código, creamos objetos de la clase `Tetrahedron` y `Cube` con una longitud de lado de 5 y llamamos a sus métodos `surface_area()` y `volume()` para calcular sus respectivas áreas de superficie y volúmenes.\n",
    "\n",
    "En resumen, en este ejemplo hemos definido dos nuevas clases en Python, `Tetrahedron` y `Cube`, que heredan de la clase `RegularPolygon` y tienen métodos adicionales para calcular sus áreas de superficie y volúmenes. La herencia nos permite reutilizar código de la clase padre y agregar funcionalidades específicas en cada clase hija."
   ]
  },
  {
   "attachments": {},
   "cell_type": "markdown",
   "metadata": {},
   "source": [
    "## **Clase Circle y clase Cylinder y probando el módulo geometry**"
   ]
  },
  {
   "attachments": {},
   "cell_type": "markdown",
   "metadata": {},
   "source": [
    "En este ejemplo, crearemos dos nuevas clases en Python, `Circle` y `Cylinder`, para representar figuras geométricas circulares y cilíndricas, respectivamente. Luego, crearemos un módulo llamado geometry que contendrá estas clases y sus métodos.\n",
    "\n",
    "Primero, definiremos la clase `Circle`:"
   ]
  },
  {
   "cell_type": "code",
   "execution_count": 20,
   "metadata": {},
   "outputs": [],
   "source": [
    "class Circle:\n",
    "    def __init__(self, radius):\n",
    "        self.radius = radius\n",
    "\n",
    "    def area(self):\n",
    "        return math.pi * self.radius ** 2\n",
    "\n",
    "    def circumference(self):\n",
    "        return 2 * math.pi * self.radius"
   ]
  },
  {
   "attachments": {},
   "cell_type": "markdown",
   "metadata": {},
   "source": [
    "La clase `Circle` tiene un atributo `radius` que representa el radio del círculo, y dos métodos adicionales, `area()` y `circumference()`, que calculan el área y la circunferencia del círculo, respectivamente.\n",
    "\n",
    "Ahora, definamos la clase `Cylinder`:"
   ]
  },
  {
   "cell_type": "code",
   "execution_count": 21,
   "metadata": {},
   "outputs": [],
   "source": [
    "class Cylinder(Circle):\n",
    "    def __init__(self, radius, height):\n",
    "        super().__init__(radius)\n",
    "        self.height = height\n",
    "\n",
    "    def volume(self):\n",
    "        return self.area() * self.height\n",
    "\n",
    "    def surface_area(self):\n",
    "        return 2 * self.area() + 2 * math.pi * self.radius * self.height"
   ]
  },
  {
   "attachments": {},
   "cell_type": "markdown",
   "metadata": {},
   "source": [
    "La clase `Cylinder` hereda de la clase `Circle` y se define con un atributo adicional, `height`, que representa la altura del cilindro. La clase `Cylinder` tiene dos métodos adicionales, `volume()` y `surface_area()`, que calculan el volumen y el área de la superficie del cilindro, respectivamente.\n",
    "\n",
    "Ahora, creemos un módulo llamado `geometry` y agreguemos estas dos clases:"
   ]
  },
  {
   "cell_type": "code",
   "execution_count": 22,
   "metadata": {},
   "outputs": [],
   "source": [
    "import math\n",
    "\n",
    "class Circle:\n",
    "    def __init__(self, radius):\n",
    "        self.radius = radius\n",
    "\n",
    "    def area(self):\n",
    "        return math.pi * self.radius ** 2\n",
    "\n",
    "    def circumference(self):\n",
    "        return 2 * math.pi * self.radius\n",
    "\n",
    "class Cylinder(Circle):\n",
    "    def __init__(self, radius, height):\n",
    "        super().__init__(radius)\n",
    "        self.height = height\n",
    "\n",
    "    def volume(self):\n",
    "        return self.area() * self.height\n",
    "\n",
    "    def surface_area(self):\n",
    "        return 2 * self.area() + 2 * math.pi * self.radius * self.height"
   ]
  },
  {
   "attachments": {},
   "cell_type": "markdown",
   "metadata": {},
   "source": [
    "Ahora podemos usar este módulo para crear objetos de estas clases y llamar a sus métodos. Por ejemplo:"
   ]
  },
  {
   "attachments": {},
   "cell_type": "markdown",
   "metadata": {},
   "source": [
    "```\n",
    "import geometry\n",
    "\n",
    "circle = geometry.Circle(5)\n",
    "print(\"Circle area:\", circle.area())\n",
    "print(\"Circle circumference:\", circle.circumference())\n",
    "\n",
    "cylinder = geometry.Cylinder(5, 10)\n",
    "print(\"Cylinder volume:\", cylinder.volume())\n",
    "print(\"Cylinder surface area:\", cylinder.surface_area())\n",
    "```"
   ]
  },
  {
   "attachments": {},
   "cell_type": "markdown",
   "metadata": {},
   "source": [
    "En este código, importamos el módulo `geometry` y creamos objetos de las clases `Circle` y `Cylinder` con radios y alturas específicas. Luego, llamamos a sus métodos para calcular sus respectivas áreas, circunferencias, volúmenes y áreas de superficie.\n",
    "\n",
    "La salida del script sería la siguiente:"
   ]
  },
  {
   "attachments": {},
   "cell_type": "markdown",
   "metadata": {},
   "source": [
    "```\n",
    "Circle area: 78.53981633974483\n",
    "Circle circumference: 31.41592653589793\n",
    "Cylinder volume: 785.3981633974483\n",
    "Cylinder surface area: 471.23889803846896\n",
    "```"
   ]
  },
  {
   "attachments": {},
   "cell_type": "markdown",
   "metadata": {},
   "source": [
    "## **Módulos**"
   ]
  },
  {
   "attachments": {},
   "cell_type": "markdown",
   "metadata": {},
   "source": [
    "### **Que es un modulo**"
   ]
  },
  {
   "attachments": {},
   "cell_type": "markdown",
   "metadata": {},
   "source": [
    "Un módulo es un archivo que contiene un conjunto de códigos o un conjunto de funciones que se pueden incluir en una aplicación. Un módulo podría ser un archivo que contenga una sola variable, una función o una gran base de código."
   ]
  },
  {
   "attachments": {},
   "cell_type": "markdown",
   "metadata": {},
   "source": [
    "### **Importar módulos integrados**"
   ]
  },
  {
   "attachments": {},
   "cell_type": "markdown",
   "metadata": {},
   "source": [
    "Al igual que otros lenguajes de programación, también podemos importar módulos importando el archivo/función usando la palabra clave importar . Importemos el módulo común que usaremos la mayor parte del tiempo. Algunos de los módulos incorporados comunes: `matemáticas , fecha y hora , os , sys , aleatorio , estadísticas , colecciones , json , re`"
   ]
  },
  {
   "attachments": {},
   "cell_type": "markdown",
   "metadata": {},
   "source": [
    "### **Módulo del sistema operativo**"
   ]
  },
  {
   "attachments": {},
   "cell_type": "markdown",
   "metadata": {},
   "source": [
    "Usando el módulo python `os` es posible realizar automáticamente muchas tareas del sistema operativo. El módulo del sistema operativo en Python proporciona funciones para crear, cambiar el directorio de trabajo actual y eliminar un directorio (carpeta), recuperar su contenido, cambiar e identificar el directorio actual."
   ]
  },
  {
   "attachments": {},
   "cell_type": "markdown",
   "metadata": {},
   "source": [
    "```\n",
    "# import the module\n",
    "import os\n",
    "# Creating a directory\n",
    "os.mkdir('directory_name')\n",
    "# Changing the current directory\n",
    "os.chdir('path')\n",
    "# Getting current working directory\n",
    "os.getcwd()\n",
    "# Removing directory\n",
    "os.rmdir()\n",
    "```"
   ]
  },
  {
   "attachments": {},
   "cell_type": "markdown",
   "metadata": {},
   "source": [
    "### **Módulo del sistema**"
   ]
  },
  {
   "attachments": {},
   "cell_type": "markdown",
   "metadata": {},
   "source": [
    "El módulo `sys` proporciona funciones y variables que se utilizan para manipular diferentes partes del entorno de tiempo de ejecución de Python. La función `sys.argv` devuelve una lista de argumentos de la línea de comandos pasados ​​a un script de Python. El elemento en el índice 0 de esta lista siempre es el nombre del script, en el índice 1 está el argumento pasado desde la línea de comando."
   ]
  },
  {
   "cell_type": "code",
   "execution_count": 26,
   "metadata": {},
   "outputs": [
    {
     "name": "stdout",
     "output_type": "stream",
     "text": [
      "Welcome --ip=127.0.0.1. Enjoy  --stdin=9003 challenge!\n"
     ]
    }
   ],
   "source": [
    "import sys\n",
    "#print(sys.argv[0], argv[1],sys.argv[2])  # this line would print out: filename argument1 argument2\n",
    "print('Welcome {}. Enjoy  {} challenge!'.format(sys.argv[1], sys.argv[2]))"
   ]
  },
  {
   "attachments": {},
   "cell_type": "markdown",
   "metadata": {},
   "source": [
    "### **Módulo de estadísticas**"
   ]
  },
  {
   "attachments": {},
   "cell_type": "markdown",
   "metadata": {},
   "source": [
    "El módulo de estadísticas proporciona funciones para estadísticas matemáticas de datos numéricos. Las funciones estadísticas populares que se definen en este módulo: media , mediana , moda , desviación estándar , etc."
   ]
  },
  {
   "cell_type": "code",
   "execution_count": 27,
   "metadata": {},
   "outputs": [
    {
     "name": "stdout",
     "output_type": "stream",
     "text": [
      "21.09090909090909\n",
      "22\n",
      "20\n",
      "6.106628291529549\n"
     ]
    }
   ],
   "source": [
    "from statistics import * # importing all the statistics modules\n",
    "ages = [20, 20, 4, 24, 25, 22, 26, 20, 23, 22, 26]\n",
    "print(mean(ages))       # ~22.9\n",
    "print(median(ages))     # 23\n",
    "print(mode(ages))       # 20\n",
    "print(stdev(ages))      # ~2.3"
   ]
  },
  {
   "attachments": {},
   "cell_type": "markdown",
   "metadata": {},
   "source": [
    "### **Módulo Matemático**"
   ]
  },
  {
   "attachments": {},
   "cell_type": "markdown",
   "metadata": {},
   "source": [
    "Módulo que contiene muchas operaciones matemáticas y constantes."
   ]
  },
  {
   "cell_type": "code",
   "execution_count": 28,
   "metadata": {},
   "outputs": [
    {
     "name": "stdout",
     "output_type": "stream",
     "text": [
      "3.141592653589793\n",
      "1.4142135623730951\n",
      "8.0\n",
      "9\n",
      "10\n",
      "2.0\n"
     ]
    }
   ],
   "source": [
    "import math\n",
    "print(math.pi)           # 3.141592653589793, pi constant\n",
    "print(math.sqrt(2))      # 1.4142135623730951, square root\n",
    "print(math.pow(2, 3))    # 8.0, exponential function\n",
    "print(math.floor(9.81))  # 9, rounding to the lowest\n",
    "print(math.ceil(9.81))   # 10, rounding to the highest\n",
    "print(math.log10(100))   # 2, logarithm with 10 as base"
   ]
  },
  {
   "attachments": {},
   "cell_type": "markdown",
   "metadata": {},
   "source": [
    "Ahora, hemos importado el módulo matemático que contiene muchas funciones que pueden ayudarnos a realizar cálculos matemáticos. Para verificar qué funciones tiene el módulo, podemos usar `help(math)` o `dir(math)` . Esto mostrará las funciones disponibles en el módulo. Si queremos importar solo una función específica del módulo, la importamos de la siguiente manera:"
   ]
  },
  {
   "cell_type": "code",
   "execution_count": 29,
   "metadata": {},
   "outputs": [
    {
     "name": "stdout",
     "output_type": "stream",
     "text": [
      "3.141592653589793\n"
     ]
    }
   ],
   "source": [
    "from math import pi\n",
    "print(pi)"
   ]
  },
  {
   "attachments": {},
   "cell_type": "markdown",
   "metadata": {},
   "source": [
    "También es posible importar múltiples funciones a la vez"
   ]
  },
  {
   "cell_type": "code",
   "execution_count": 30,
   "metadata": {},
   "outputs": [
    {
     "name": "stdout",
     "output_type": "stream",
     "text": [
      "3.141592653589793\n",
      "1.4142135623730951\n",
      "8.0\n",
      "9\n",
      "10\n",
      "2.0\n"
     ]
    }
   ],
   "source": [
    "from math import pi, sqrt, pow, floor, ceil, log10\n",
    "print(pi)                 # 3.141592653589793\n",
    "print(sqrt(2))            # 1.4142135623730951\n",
    "print(pow(2, 3))          # 8.0\n",
    "print(floor(9.81))        # 9\n",
    "print(ceil(9.81))         # 10\n",
    "print(math.log10(100))    # 2"
   ]
  },
  {
   "attachments": {},
   "cell_type": "markdown",
   "metadata": {},
   "source": [
    "Pero si queremos importar todas las funciones en el módulo matemático, podemos usar `*`."
   ]
  },
  {
   "cell_type": "code",
   "execution_count": 31,
   "metadata": {},
   "outputs": [
    {
     "name": "stdout",
     "output_type": "stream",
     "text": [
      "3.141592653589793\n",
      "1.4142135623730951\n",
      "8.0\n",
      "9\n",
      "10\n",
      "2.0\n"
     ]
    }
   ],
   "source": [
    "from math import *\n",
    "print(pi)                  # 3.141592653589793, pi constant\n",
    "print(sqrt(2))             # 1.4142135623730951, square root\n",
    "print(pow(2, 3))           # 8.0, exponential\n",
    "print(floor(9.81))         # 9, rounding to the lowest\n",
    "print(ceil(9.81))          # 10, rounding to the highest\n",
    "print(math.log10(100))     # 2"
   ]
  },
  {
   "attachments": {},
   "cell_type": "markdown",
   "metadata": {},
   "source": [
    "Cuando importamos también podemos renombrar el nombre de la función."
   ]
  },
  {
   "cell_type": "code",
   "execution_count": 32,
   "metadata": {},
   "outputs": [
    {
     "name": "stdout",
     "output_type": "stream",
     "text": [
      "3.141592653589793\n"
     ]
    }
   ],
   "source": [
    "from math import pi as  PI\n",
    "print(PI) # 3.141592653589793"
   ]
  },
  {
   "attachments": {},
   "cell_type": "markdown",
   "metadata": {},
   "source": [
    "### **Módulo de cadena**"
   ]
  },
  {
   "attachments": {},
   "cell_type": "markdown",
   "metadata": {},
   "source": [
    "Un módulo de cadena es un módulo útil para muchos propósitos. El siguiente ejemplo muestra algunos usos del módulo de cadena."
   ]
  },
  {
   "cell_type": "code",
   "execution_count": 33,
   "metadata": {},
   "outputs": [
    {
     "name": "stdout",
     "output_type": "stream",
     "text": [
      "abcdefghijklmnopqrstuvwxyzABCDEFGHIJKLMNOPQRSTUVWXYZ\n",
      "0123456789\n",
      "!\"#$%&'()*+,-./:;<=>?@[\\]^_`{|}~\n"
     ]
    }
   ],
   "source": [
    "import string\n",
    "print(string.ascii_letters) # abcdefghijklmnopqrstuvwxyzABCDEFGHIJKLMNOPQRSTUVWXYZ\n",
    "print(string.digits)        # 0123456789\n",
    "print(string.punctuation)   # !\"#$%&'()*+,-./:;<=>?@[\\]^_`{|}~"
   ]
  },
  {
   "attachments": {},
   "cell_type": "markdown",
   "metadata": {},
   "source": [
    "### **Módulo aleatorio**"
   ]
  },
  {
   "attachments": {},
   "cell_type": "markdown",
   "metadata": {},
   "source": [
    "A estas alturas ya está familiarizado con la importación de módulos. Hagamos una importación más para familiarizarnos con ella. Importemos un módulo aleatorio que nos da un número aleatorio entre 0 y 0.9999.... El módulo aleatorio tiene muchas funciones, pero en esta sección solo usaremos `random` y `randint`."
   ]
  },
  {
   "cell_type": "code",
   "execution_count": 34,
   "metadata": {},
   "outputs": [
    {
     "name": "stdout",
     "output_type": "stream",
     "text": [
      "0.49492359906604\n",
      "9\n"
     ]
    }
   ],
   "source": [
    "from random import random, randint\n",
    "print(random())   # it doesn't take any arguments; it returns a value between 0 and 0.9999\n",
    "print(randint(5, 20)) # it returns a random integer number between [5, 20] inclusive"
   ]
  },
  {
   "attachments": {},
   "cell_type": "markdown",
   "metadata": {},
   "source": [
    "| **Inicio** | **atrás 13** | **Siguiente 15** |\n",
    "|----------- |-------------- |---------------|\n",
    "| [🏠](../../README.md) | [⏪](./13.Programacion_Orientada_Objetos.ipynb)| [⏩](./15.Modulos_de_math_cmath.ipynb)|"
   ]
  }
 ],
 "metadata": {
  "kernelspec": {
   "display_name": "base",
   "language": "python",
   "name": "python3"
  },
  "language_info": {
   "codemirror_mode": {
    "name": "ipython",
    "version": 3
   },
   "file_extension": ".py",
   "mimetype": "text/x-python",
   "name": "python",
   "nbconvert_exporter": "python",
   "pygments_lexer": "ipython3",
   "version": "3.9.12"
  },
  "orig_nbformat": 4
 },
 "nbformat": 4,
 "nbformat_minor": 2
}
