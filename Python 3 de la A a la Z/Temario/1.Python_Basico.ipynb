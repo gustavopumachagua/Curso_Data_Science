{
 "cells": [
  {
   "attachments": {},
   "cell_type": "markdown",
   "metadata": {},
   "source": [
    "| **Inicio** | **Siguiente 2** |\n",
    "|----------- |-------------- |\n",
    "| [🏠](../../README.md) | [⏩](./2.Numeros_en_Python.ipynb)|"
   ]
  },
  {
   "attachments": {},
   "cell_type": "markdown",
   "metadata": {},
   "source": [
    "# **1. Python Básico**"
   ]
  },
  {
   "attachments": {},
   "cell_type": "markdown",
   "metadata": {},
   "source": [
    "## **El Concepto de Variable**"
   ]
  },
  {
   "attachments": {},
   "cell_type": "markdown",
   "metadata": {},
   "source": [
    "Las variables almacenan datos en la memoria de una computadora. Se recomienda el uso de variables mnemotécnicas en muchos lenguajes de programación. Una variable mnemotécnica es un nombre de variable que se puede recordar y asociar fácilmente. Una variable se refiere a una dirección de memoria en la que se almacenan los datos. Número al principio, carácter especial, guión no están permitidos al nombrar una variable. Una variable puede tener un nombre corto (como x, y, z), pero se recomienda enfáticamente un nombre más descriptivo (nombre, apellido, edad, país).\n",
    "\n",
    "**Reglas de nombres de variables de Python**\n",
    "\n",
    "* Un nombre de variable debe comenzar con una letra o el carácter de subrayado\n",
    "* Un nombre de variable no puede comenzar con un número\n",
    "* Un nombre de variable solo puede contener caracteres alfanuméricos y guiones bajos (Az, 0-9 y _)\n",
    "* Los nombres de las variables distinguen entre mayúsculas y minúsculas (firstname, Firstname, FirstName y FIRSTNAME) son variables diferentes\n",
    "\n",
    "**Veamos nombres de variables válidos**"
   ]
  },
  {
   "attachments": {},
   "cell_type": "markdown",
   "metadata": {},
   "source": [
    "| Nombres de variables válidos |\n",
    "|----------------------------- |\n",
    "| firstname                    |\n",
    "| lastname                     |\n",
    "| age                          |\n",
    "| country                      |\n",
    "| city                         |\n",
    "| first_name                   |\n",
    "| last_name                    |\n",
    "| capital_city                 |\n",
    "| _if # si queremos usar palabra reservada como variable|\n",
    "| year_2021                    |\n",
    "| year2021                     |\n",
    "| current_year_2021            |\n",
    "| birth_year                   |\n",
    "| num1                         |\n",
    "| num2                         |"
   ]
  },
  {
   "attachments": {},
   "cell_type": "markdown",
   "metadata": {},
   "source": [
    "**Nombres de variables no válidos**"
   ]
  },
  {
   "attachments": {},
   "cell_type": "markdown",
   "metadata": {},
   "source": [
    "| Nombres de variables no válidos |\n",
    "|-------------------------------- |\n",
    "| first-name                      |\n",
    "| first@name                      |\n",
    "| first$name                      |\n",
    "| num-1                           |\n",
    "| 1num                            |\n"
   ]
  },
  {
   "attachments": {},
   "cell_type": "markdown",
   "metadata": {},
   "source": [
    "Usaremos el estilo estándar de nomenclatura de variables de Python que ha sido adoptado por muchos desarrolladores de Python. Los desarrolladores de Python usan la convención de nomenclatura de variables de caja de serpiente ```snake_case```. Usamos un carácter de subrayado después de cada palabra para una variable que contiene más de una palabra (p. ej., nombre, apellido, velocidad de rotación del motor). El siguiente ejemplo es un ejemplo de nomenclatura estándar de variables, se requiere guión bajo cuando el nombre de la variable es más de una palabra.\n",
    "\n",
    "Cuando asignamos un determinado tipo de datos a una variable, se llama declaración de variable. Por ejemplo, en el siguiente ejemplo, mi nombre se asigna a una variable ```first_name```. El signo igual es un operador de asignación. Asignar significa almacenar datos en la variable. El signo igual en Python no es la igualdad como en Matemáticas.\n",
    "\n",
    "**Ejemplo:**"
   ]
  },
  {
   "cell_type": "code",
   "execution_count": 3,
   "metadata": {},
   "outputs": [],
   "source": [
    "# Variables in Python\n",
    "first_name = 'Asabeneh'\n",
    "last_name = 'Yetayeh'\n",
    "country = 'Finland'\n",
    "city = 'Helsinki'\n",
    "age = 25\n",
    "is_married = True\n",
    "skills = ['HTML', 'CSS', 'JS', 'React', 'Python']\n",
    "person_info = {\n",
    "   'firstname':'Asabeneh',\n",
    "   'lastname':'Yetayeh',\n",
    "   'country':'Finland',\n",
    "   'city':'Helsinki'\n",
    "   }"
   ]
  },
  {
   "attachments": {},
   "cell_type": "markdown",
   "metadata": {},
   "source": [
    "Usemos las funciones integradas ```print()``` y ```len()``` . La función de impresión toma un número ilimitado de argumentos. Un argumento es un valor que se puede pasar o poner dentro del paréntesis de la función, vea el ejemplo a continuación.\n",
    "\n",
    "**Ejemplo:**"
   ]
  },
  {
   "cell_type": "code",
   "execution_count": 4,
   "metadata": {},
   "outputs": [
    {
     "name": "stdout",
     "output_type": "stream",
     "text": [
      "¡Hola, Mundo!\n",
      "Hola , Mundo !\n",
      "13\n"
     ]
    }
   ],
   "source": [
    "print('¡Hola, Mundo!') # El texto ¡Hola, Mundo! es un argumento\n",
    "print('Hola',',', 'Mundo','!') # puede tomar varios argumentos, se han pasado cuatro argumentos\n",
    "print(len('Hello, World!')) # solo toma un argumento"
   ]
  },
  {
   "attachments": {},
   "cell_type": "markdown",
   "metadata": {},
   "source": [
    "Imprimamos y también encontremos la longitud de las variables declaradas en la parte superior:\n",
    "\n",
    "**Ejemplo:**"
   ]
  },
  {
   "cell_type": "code",
   "execution_count": 5,
   "metadata": {},
   "outputs": [
    {
     "name": "stdout",
     "output_type": "stream",
     "text": [
      "First name: Asabeneh\n",
      "First name length: 8\n",
      "Last name:  Yetayeh\n",
      "Last name length:  7\n",
      "Country:  Finland\n",
      "City:  Helsinki\n",
      "Age:  25\n",
      "Married:  True\n",
      "Skills:  ['HTML', 'CSS', 'JS', 'React', 'Python']\n",
      "Person information:  {'firstname': 'Asabeneh', 'lastname': 'Yetayeh', 'country': 'Finland', 'city': 'Helsinki'}\n"
     ]
    }
   ],
   "source": [
    "# Imprimiendo los valores almacenados en las variables\n",
    "\n",
    "print('First name:', first_name)\n",
    "print('First name length:', len(first_name))\n",
    "print('Last name: ', last_name)\n",
    "print('Last name length: ', len(last_name))\n",
    "print('Country: ', country)\n",
    "print('City: ', city)\n",
    "print('Age: ', age)\n",
    "print('Married: ', is_married)\n",
    "print('Skills: ', skills)\n",
    "print('Person information: ', person_info)"
   ]
  },
  {
   "attachments": {},
   "cell_type": "markdown",
   "metadata": {},
   "source": [
    "En programación, una variable es un contenedor que almacena un valor o una referencia a un valor. En Python, una variable se crea y se asigna un valor utilizando el operador de asignación ```=```.\n",
    "\n",
    "El nombre de la variable puede ser cualquier combinación de letras, números y guiones bajos, pero debe comenzar con una letra o un guion bajo. Además, Python distingue entre mayúsculas y minúsculas, por lo que ```miVariable``` y ```MIVARIABLE``` se consideran nombres de variables diferentes.\n",
    "\n",
    "Las variables en Python son de tipado dinámico, lo que significa que su tipo puede cambiar dinámicamente durante la ejecución del programa. Esto es diferente de los lenguajes de programación con tipado estático, como C o Java, en los que el tipo de una variable se determina en tiempo de compilación y no puede cambiar en tiempo de ejecución.\n",
    "\n",
    "A continuación, se presentan algunos ejemplos de variables en Python para diferentes niveles:"
   ]
  },
  {
   "attachments": {},
   "cell_type": "markdown",
   "metadata": {},
   "source": [
    "* **Nivel básico:**"
   ]
  },
  {
   "cell_type": "code",
   "execution_count": 1,
   "metadata": {},
   "outputs": [
    {
     "name": "stdout",
     "output_type": "stream",
     "text": [
      "5\n",
      "10\n"
     ]
    }
   ],
   "source": [
    "# Declaración y asignación de una variable\n",
    "x = 5\n",
    "print(x)  # Imprime 5\n",
    "\n",
    "# Asignación de un nuevo valor a la variable existente\n",
    "x = 10\n",
    "print(x)  # Imprime 10\n"
   ]
  },
  {
   "attachments": {},
   "cell_type": "markdown",
   "metadata": {},
   "source": [
    "* **Nivel intermedio:**"
   ]
  },
  {
   "cell_type": "code",
   "execution_count": 2,
   "metadata": {},
   "outputs": [
    {
     "name": "stdout",
     "output_type": "stream",
     "text": [
      "5\n",
      "3.14\n",
      "Hola mundo!\n",
      "8.14\n",
      "1.8599999999999999\n",
      "15.700000000000001\n",
      "1.592356687898089\n"
     ]
    }
   ],
   "source": [
    "# Declaración y asignación de variables de diferentes tipos\n",
    "x = 5\n",
    "y = 3.14\n",
    "z = \"Hola mundo!\"\n",
    "\n",
    "# Impresión de las variables\n",
    "print(x)  # Imprime 5\n",
    "print(y)  # Imprime 3.14\n",
    "print(z)  # Imprime \"Hola mundo!\"\n",
    "\n",
    "# Operaciones aritméticas con variables\n",
    "suma = x + y\n",
    "resta = x - y\n",
    "producto = x * y\n",
    "division = x / y\n",
    "\n",
    "# Impresión de los resultados de las operaciones aritméticas\n",
    "print(suma)  # Imprime 8.14\n",
    "print(resta)  # Imprime 1.86\n",
    "print(producto)  # Imprime 15.7\n",
    "print(division)  # Imprime 1.5923566878980892\n"
   ]
  },
  {
   "attachments": {},
   "cell_type": "markdown",
   "metadata": {},
   "source": [
    "* **Nivel avanzado:**"
   ]
  },
  {
   "cell_type": "code",
   "execution_count": 3,
   "metadata": {},
   "outputs": [
    {
     "name": "stdout",
     "output_type": "stream",
     "text": [
      "Hola, mi nombre es Juan Pérez y tengo 30 años.\n"
     ]
    }
   ],
   "source": [
    "# Declaración y asignación de variables con nombres más descriptivos\n",
    "edad = 25\n",
    "altura_en_metros = 1.75\n",
    "nombre_completo = \"Juan Pérez\"\n",
    "\n",
    "# Uso de operadores de asignación compuestos\n",
    "edad += 5  # Equivalente a edad = edad + 5\n",
    "altura_en_metros *= 2  # Equivalente a altura_en_metros = altura_en_metros * 2\n",
    "\n",
    "# Concatenación de cadenas de texto\n",
    "mensaje = \"Hola, mi nombre es \" + nombre_completo + \" y tengo \" + str(edad) + \" años.\"\n",
    "\n",
    "# Impresión del mensaje\n",
    "print(mensaje)  # Imprime \"Hola, mi nombre es Juan Pérez y tengo 30 años.\"\n"
   ]
  },
  {
   "attachments": {},
   "cell_type": "markdown",
   "metadata": {},
   "source": [
    "En resumen, las variables en Python son contenedores que almacenan valores y pueden tener cualquier nombre válido. Además, las variables en Python son de tipado dinámico, lo que significa que su tipo puede cambiar durante la ejecución del programa. Las variables se pueden asignar valores y utilizar en operaciones aritméticas, concatenación de cadenas de texto y otros tipos de operaciones."
   ]
  },
  {
   "attachments": {},
   "cell_type": "markdown",
   "metadata": {},
   "source": [
    "## **Palabras clave en Python**"
   ]
  },
  {
   "attachments": {},
   "cell_type": "markdown",
   "metadata": {},
   "source": [
    "En Python tenemos muchas funciones integradas. Las funciones integradas están disponibles globalmente para su uso, lo que significa que puede hacer uso de las funciones integradas sin importarlas ni configurarlas. Algunas de las funciones integradas de Python más utilizadas son las siguientes: ```print() , len() , type() , int() , float() , str() , input() , list() , dict() , min() , max() , sum() , sorted() , open() , file() , help() y dir().``` En la siguiente tabla, verá una lista exhaustiva de las funciones integradas de Python tomadas de la documentación de Python ."
   ]
  },
  {
   "attachments": {},
   "cell_type": "markdown",
   "metadata": {},
   "source": [
    "![Funciones integradas](../imagenes%20Python/builtin-functions.png \"Funciones integradas\")"
   ]
  },
  {
   "attachments": {},
   "cell_type": "markdown",
   "metadata": {},
   "source": [
    "En Python, las palabras clave son un conjunto de palabras reservadas que tienen un significado específico dentro del lenguaje. Estas palabras no pueden ser utilizadas como nombres de variables, funciones o cualquier otro identificador dentro del código.\n",
    "\n",
    "Las palabras clave en Python son las siguientes:"
   ]
  },
  {
   "attachments": {},
   "cell_type": "markdown",
   "metadata": {},
   "source": [
    "| Palabras clave| Palabras clave |\n",
    "| ------------- | -------------- |\n",
    "| False         | class          |\n",
    "| finally       | is             |\n",
    "| None          | continue       |\n",
    "| True          | def            |\n",
    "| assert        | elif           |\n",
    "| import        | lambda         |\n",
    "| break         |  else          |\n",
    "| try           |    except      |\n",
    "| raise         |  global        |\n",
    "| while         |  for           |\n",
    "| yield         |  if            |\n",
    "| return        |  not           |\n",
    "| and           |    in          |\n",
    "| or            |   pass         |\n",
    "| with          |  del           |"
   ]
  },
  {
   "attachments": {},
   "cell_type": "markdown",
   "metadata": {},
   "source": [
    "A continuación, se explicarán algunas de las palabras clave más comunes en Python:"
   ]
  },
  {
   "attachments": {},
   "cell_type": "markdown",
   "metadata": {},
   "source": [
    "* ```if``` y ```else```:\n",
    "\n",
    "La palabra clave ```if``` se utiliza para condicionar la ejecución de ciertas instrucciones en base a una expresión lógica. Por ejemplo:"
   ]
  },
  {
   "cell_type": "code",
   "execution_count": 4,
   "metadata": {},
   "outputs": [
    {
     "name": "stdout",
     "output_type": "stream",
     "text": [
      "x es mayor que 5\n"
     ]
    }
   ],
   "source": [
    "x = 10\n",
    "\n",
    "if x > 5:\n",
    "    print(\"x es mayor que 5\")\n",
    "else:\n",
    "    print(\"x es menor o igual que 5\")\n"
   ]
  },
  {
   "attachments": {},
   "cell_type": "markdown",
   "metadata": {},
   "source": [
    "La palabra clave ```else``` se utiliza en conjunto con ```if``` para ejecutar un conjunto de instrucciones en caso de que la condición sea falsa."
   ]
  },
  {
   "attachments": {},
   "cell_type": "markdown",
   "metadata": {},
   "source": [
    "* ```for```:\n",
    "\n",
    "La palabra clave ```for``` se utiliza para iterar sobre una secuencia de elementos. Por ejemplo:"
   ]
  },
  {
   "cell_type": "code",
   "execution_count": 5,
   "metadata": {},
   "outputs": [
    {
     "name": "stdout",
     "output_type": "stream",
     "text": [
      "manzana\n",
      "banana\n",
      "naranja\n"
     ]
    }
   ],
   "source": [
    "mi_lista = [\"manzana\", \"banana\", \"naranja\"]\n",
    "\n",
    "for fruta in mi_lista:\n",
    "    print(fruta)\n"
   ]
  },
  {
   "attachments": {},
   "cell_type": "markdown",
   "metadata": {},
   "source": [
    "En este ejemplo, la variable fruta toma el valor de cada elemento de la lista en cada iteración."
   ]
  },
  {
   "attachments": {},
   "cell_type": "markdown",
   "metadata": {},
   "source": [
    "* ```while```:\n",
    "\n",
    "La palabra clave ```while``` se utiliza para ejecutar un conjunto de instrucciones mientras se cumpla una condición. Por ejemplo:"
   ]
  },
  {
   "cell_type": "code",
   "execution_count": 6,
   "metadata": {},
   "outputs": [
    {
     "name": "stdout",
     "output_type": "stream",
     "text": [
      "0\n",
      "1\n",
      "2\n",
      "3\n",
      "4\n"
     ]
    }
   ],
   "source": [
    "x = 0\n",
    "\n",
    "while x < 5:\n",
    "    print(x)\n",
    "    x += 1\n"
   ]
  },
  {
   "attachments": {},
   "cell_type": "markdown",
   "metadata": {},
   "source": [
    "Este código imprimirá los números del 0 al 4, ya que la condición ```x < 5``` se cumple en cada iteración."
   ]
  },
  {
   "attachments": {},
   "cell_type": "markdown",
   "metadata": {},
   "source": [
    "* ```def``` y ```return```:\n",
    "\n",
    "La palabra clave ```def``` se utiliza para definir una función en Python. Por ejemplo:"
   ]
  },
  {
   "cell_type": "code",
   "execution_count": 7,
   "metadata": {},
   "outputs": [
    {
     "name": "stdout",
     "output_type": "stream",
     "text": [
      "5\n"
     ]
    }
   ],
   "source": [
    "def suma(a, b):\n",
    "    return a + b\n",
    "\n",
    "resultado = suma(2, 3)\n",
    "\n",
    "print(resultado)\n"
   ]
  },
  {
   "attachments": {},
   "cell_type": "markdown",
   "metadata": {},
   "source": [
    "En este ejemplo, la palabra clave ```def``` se utiliza para definir una función llamada ```suma``` que toma dos argumentos, ```a``` y ```b```, y devuelve su suma. La función se llama con los valores 2 y 3, y el resultado se almacena en la variable \"resultado\", que se imprime en pantalla."
   ]
  },
  {
   "attachments": {},
   "cell_type": "markdown",
   "metadata": {},
   "source": [
    "* ```try```, ```except``` y ```finally```:\n",
    "\n",
    "Las palabras clave ```try```, ```except``` y ```finally``` se utilizan en conjunto para manejar errores en el código. Por ejemplo:"
   ]
  },
  {
   "cell_type": "code",
   "execution_count": 8,
   "metadata": {},
   "outputs": [
    {
     "name": "stdout",
     "output_type": "stream",
     "text": [
      "No se puede dividir por cero\n",
      "Este código se ejecutará siempre\n"
     ]
    }
   ],
   "source": [
    "try:\n",
    "    resultado = 10 / 0\n",
    "except ZeroDivisionError:\n",
    "    print(\"No se puede dividir por cero\")\n",
    "finally:\n",
    "    print(\"Este código se ejecutará siempre\")\n"
   ]
  },
  {
   "attachments": {},
   "cell_type": "markdown",
   "metadata": {},
   "source": [
    "En este ejemplo, se intenta dividir 10 entre 0, lo cual resulta en un error. La palabra clave ```except``` captura ese error específico y ejecuta un conjunto de instrucciones en caso de que se produzca. La palabra clave ```finally``` se ejecuta siempre, independientemente de si se produjo o no un error"
   ]
  },
  {
   "attachments": {},
   "cell_type": "markdown",
   "metadata": {},
   "source": [
    "En resumen, las palabras clave en Python son términos reservados que tienen un significado específico dentro del lenguaje de programación. No se pueden utilizar como nombres de variables, funciones o clases, y se utilizan para tareas específicas dentro del lenguaje, como definir estructuras de control de flujo, bucles, funciones y clases."
   ]
  },
  {
   "attachments": {},
   "cell_type": "markdown",
   "metadata": {},
   "source": [
    "## **Declaración de múltiples variables**"
   ]
  },
  {
   "attachments": {},
   "cell_type": "markdown",
   "metadata": {},
   "source": [
    "También se pueden declarar múltiples variables en una línea:\n",
    "\n",
    "**Ejemplo:**"
   ]
  },
  {
   "cell_type": "code",
   "execution_count": 6,
   "metadata": {},
   "outputs": [
    {
     "name": "stdout",
     "output_type": "stream",
     "text": [
      "Asabeneh Yetayeh Helsink 25 True\n",
      "First name: Asabeneh\n",
      "Last name:  Yetayeh\n",
      "Country:  Helsink\n",
      "Age:  25\n",
      "Married:  True\n"
     ]
    }
   ],
   "source": [
    "first_name, last_name, country, age, is_married = 'Asabeneh', 'Yetayeh', 'Helsink', 25, True\n",
    "\n",
    "print(first_name, last_name, country, age, is_married)\n",
    "print('First name:', first_name)\n",
    "print('Last name: ', last_name)\n",
    "print('Country: ', country)\n",
    "print('Age: ', age)\n",
    "print('Married: ', is_married)"
   ]
  },
  {
   "attachments": {},
   "cell_type": "markdown",
   "metadata": {},
   "source": [
    "Obtener la entrada del usuario usando la función incorporada ```input()``` . Asignemos los datos que obtenemos de un usuario a las variables ```first_name``` y ```age```.\n",
    "\n",
    "**Ejemplo:**"
   ]
  },
  {
   "cell_type": "code",
   "execution_count": 7,
   "metadata": {},
   "outputs": [
    {
     "name": "stdout",
     "output_type": "stream",
     "text": [
      "GUSTAVO\n",
      "30\n"
     ]
    }
   ],
   "source": [
    "first_name = input('What is your name: ')\n",
    "age = input('How old are you? ')\n",
    "\n",
    "print(first_name)\n",
    "print(age)"
   ]
  },
  {
   "attachments": {},
   "cell_type": "markdown",
   "metadata": {},
   "source": [
    "En Python, es posible declarar varias variables en una sola línea de código, lo que se conoce como declaración de múltiples variables. Esto se logra separando los nombres de las variables con comas y asignándoles valores en el mismo orden en que aparecen los nombres de las variables.\n",
    "\n",
    "Aquí hay algunos ejemplos de cómo se puede usar la declaración de múltiples variables en Python:"
   ]
  },
  {
   "attachments": {},
   "cell_type": "markdown",
   "metadata": {},
   "source": [
    "* **Ejemplo 1:** Asignación de valores a múltiples variables"
   ]
  },
  {
   "cell_type": "code",
   "execution_count": 9,
   "metadata": {},
   "outputs": [
    {
     "name": "stdout",
     "output_type": "stream",
     "text": [
      "1\n",
      "2\n",
      "3\n"
     ]
    }
   ],
   "source": [
    "x, y, z = 1, 2, 3\n",
    "\n",
    "print(x) # salida: 1\n",
    "print(y) # salida: 2\n",
    "print(z) # salida: 3\n"
   ]
  },
  {
   "attachments": {},
   "cell_type": "markdown",
   "metadata": {},
   "source": [
    "En este ejemplo, se declaran tres variables ```x```, ```y``` y ```z```, y se les asignan los valores 1, 2 y 3 respectivamente en una sola línea. Luego, se imprimen los valores de cada variable en líneas separadas."
   ]
  },
  {
   "attachments": {},
   "cell_type": "markdown",
   "metadata": {},
   "source": [
    "* **Ejemplo 2:** Intercambio de valores entre dos variables"
   ]
  },
  {
   "cell_type": "code",
   "execution_count": 10,
   "metadata": {},
   "outputs": [
    {
     "name": "stdout",
     "output_type": "stream",
     "text": [
      "20\n",
      "10\n"
     ]
    }
   ],
   "source": [
    "a, b = 10, 20\n",
    "\n",
    "# Intercambio de valores entre a y b\n",
    "a, b = b, a\n",
    "\n",
    "print(a) # salida: 20\n",
    "print(b) # salida: 10\n"
   ]
  },
  {
   "attachments": {},
   "cell_type": "markdown",
   "metadata": {},
   "source": [
    "En este ejemplo, se declaran dos variables ```a``` y ```b```, y se les asignan los valores 10 y 20 respectivamente. Luego, se intercambian los valores de ```a``` y ```b``` en una sola línea de código utilizando la declaración de múltiples variables. Finalmente, se imprimen los valores de ```a``` y ```b``` después del intercambio."
   ]
  },
  {
   "attachments": {},
   "cell_type": "markdown",
   "metadata": {},
   "source": [
    "* **Ejemplo 3:** Asignación de múltiples valores a una variable"
   ]
  },
  {
   "cell_type": "code",
   "execution_count": 11,
   "metadata": {},
   "outputs": [
    {
     "name": "stdout",
     "output_type": "stream",
     "text": [
      "(1, 2, 3)\n"
     ]
    }
   ],
   "source": [
    "numeros = 1, 2, 3\n",
    "\n",
    "print(numeros) # salida: (1, 2, 3)\n"
   ]
  },
  {
   "attachments": {},
   "cell_type": "markdown",
   "metadata": {},
   "source": [
    "En este ejemplo, se asignan tres valores a la variable numeros en una sola línea utilizando la declaración de múltiples variables. Los valores se separan por comas y se encierran entre paréntesis, creando así una tupla."
   ]
  },
  {
   "attachments": {},
   "cell_type": "markdown",
   "metadata": {},
   "source": [
    "* **Ejemplo 4:** Asignación de valores de una lista a múltiples variables"
   ]
  },
  {
   "cell_type": "code",
   "execution_count": 12,
   "metadata": {},
   "outputs": [
    {
     "name": "stdout",
     "output_type": "stream",
     "text": [
      "10\n",
      "20\n",
      "30\n"
     ]
    }
   ],
   "source": [
    "mi_lista = [10, 20, 30]\n",
    "\n",
    "a, b, c = mi_lista\n",
    "\n",
    "print(a) # salida: 10\n",
    "print(b) # salida: 20\n",
    "print(c) # salida: 30\n"
   ]
  },
  {
   "attachments": {},
   "cell_type": "markdown",
   "metadata": {},
   "source": [
    "En este ejemplo, se declara una lista ```mi_lista``` que contiene tres valores, y luego se asignan los valores de la lista a tres variables ```a```, ```b``` y ```c``` utilizando la declaración de múltiples variables. Los valores se asignan en el mismo orden en que aparecen en la lista.\n",
    "\n",
    "En resumen, la declaración de múltiples variables en Python permite asignar varios valores a varias variables en una sola línea de código. Esto puede hacer que el código sea más conciso y legible, especialmente en casos donde se trabajan con muchas variables."
   ]
  },
  {
   "attachments": {},
   "cell_type": "markdown",
   "metadata": {},
   "source": [
    "## **Operaciones con variables de tipo numérico**"
   ]
  },
  {
   "attachments": {},
   "cell_type": "markdown",
   "metadata": {},
   "source": [
    "En Python, las variables de tipo numérico se pueden utilizar en diferentes tipos de operaciones matemáticas. A continuación, se explican las operaciones más comunes con variables numéricas en Python:"
   ]
  },
  {
   "attachments": {},
   "cell_type": "markdown",
   "metadata": {},
   "source": [
    "* **Suma (+):**\n",
    "\n",
    " La operación de suma se utiliza para agregar dos o más valores. Por ejemplo:"
   ]
  },
  {
   "cell_type": "code",
   "execution_count": 13,
   "metadata": {},
   "outputs": [
    {
     "name": "stdout",
     "output_type": "stream",
     "text": [
      "15\n"
     ]
    }
   ],
   "source": [
    "x = 5\n",
    "y = 10\n",
    "suma = x + y\n",
    "print(suma) # resultado: 15\n"
   ]
  },
  {
   "attachments": {},
   "cell_type": "markdown",
   "metadata": {},
   "source": [
    "* **Resta (-):**\n",
    "\n",
    " La operación de resta se utiliza para restar dos valores. Por ejemplo:"
   ]
  },
  {
   "cell_type": "code",
   "execution_count": 14,
   "metadata": {},
   "outputs": [
    {
     "name": "stdout",
     "output_type": "stream",
     "text": [
      "5\n"
     ]
    }
   ],
   "source": [
    "x = 10\n",
    "y = 5\n",
    "resta = x - y\n",
    "print(resta) # resultado: 5\n"
   ]
  },
  {
   "attachments": {},
   "cell_type": "markdown",
   "metadata": {},
   "source": [
    "* **Multiplicación (*):**\n",
    "\n",
    " La operación de multiplicación se utiliza para multiplicar dos valores. Por ejemplo:"
   ]
  },
  {
   "cell_type": "code",
   "execution_count": 15,
   "metadata": {},
   "outputs": [
    {
     "name": "stdout",
     "output_type": "stream",
     "text": [
      "6\n"
     ]
    }
   ],
   "source": [
    "x = 2\n",
    "y = 3\n",
    "multiplicacion = x * y\n",
    "print(multiplicacion) # resultado: 6\n"
   ]
  },
  {
   "attachments": {},
   "cell_type": "markdown",
   "metadata": {},
   "source": [
    "* **División (/):**\n",
    "\n",
    " La operación de división se utiliza para dividir dos valores. En Python 3, la división de dos valores enteros produce un resultado de punto flotante. Por ejemplo:"
   ]
  },
  {
   "cell_type": "code",
   "execution_count": 16,
   "metadata": {},
   "outputs": [
    {
     "name": "stdout",
     "output_type": "stream",
     "text": [
      "3.3333333333333335\n"
     ]
    }
   ],
   "source": [
    "x = 10\n",
    "y = 3\n",
    "division = x / y\n",
    "print(division) # resultado: 3.3333333333333335\n"
   ]
  },
  {
   "attachments": {},
   "cell_type": "markdown",
   "metadata": {},
   "source": [
    "* **División entera (//):**\n",
    "\n",
    " La operación de división entera se utiliza para obtener el cociente de la división de dos valores enteros. El resultado será un entero, redondeado hacia abajo. Por ejemplo:"
   ]
  },
  {
   "cell_type": "code",
   "execution_count": 17,
   "metadata": {},
   "outputs": [
    {
     "name": "stdout",
     "output_type": "stream",
     "text": [
      "3\n"
     ]
    }
   ],
   "source": [
    "x = 10\n",
    "y = 3\n",
    "division_entera = x // y\n",
    "print(division_entera) # resultado: 3\n"
   ]
  },
  {
   "attachments": {},
   "cell_type": "markdown",
   "metadata": {},
   "source": [
    "* **Módulo (%):**\n",
    "\n",
    " La operación de módulo se utiliza para obtener el resto de la división de dos valores enteros. Por ejemplo:"
   ]
  },
  {
   "cell_type": "code",
   "execution_count": 18,
   "metadata": {},
   "outputs": [
    {
     "name": "stdout",
     "output_type": "stream",
     "text": [
      "1\n"
     ]
    }
   ],
   "source": [
    "x = 10\n",
    "y = 3\n",
    "modulo = x % y\n",
    "print(modulo) # resultado: 1\n"
   ]
  },
  {
   "attachments": {},
   "cell_type": "markdown",
   "metadata": {},
   "source": [
    "* **Exponenciación (```**```):**\n",
    "\n",
    "La operación de exponenciación se utiliza para elevar un valor a una potencia. Por ejemplo:"
   ]
  },
  {
   "cell_type": "code",
   "execution_count": 19,
   "metadata": {},
   "outputs": [
    {
     "name": "stdout",
     "output_type": "stream",
     "text": [
      "8\n"
     ]
    }
   ],
   "source": [
    "x = 2\n",
    "y = 3\n",
    "exponenciacion = x ** y\n",
    "print(exponenciacion) # resultado: 8\n"
   ]
  },
  {
   "attachments": {},
   "cell_type": "markdown",
   "metadata": {},
   "source": [
    "Es importante tener en cuenta que el tipo de dato de la variable resultante dependerá de los tipos de datos de las variables de entrada y de la operación que se esté realizando.\n",
    "\n",
    "En resumen, Python ofrece una variedad de operaciones que se pueden realizar con variables numéricas. Con estas operaciones, es posible realizar cálculos matemáticos básicos y avanzados."
   ]
  },
  {
   "attachments": {},
   "cell_type": "markdown",
   "metadata": {},
   "source": [
    "## **Cómo hacer comentarios**"
   ]
  },
  {
   "attachments": {},
   "cell_type": "markdown",
   "metadata": {},
   "source": [
    "Los comentarios son muy importantes para que el código sea más legible y para dejar comentarios en nuestro código. Python no ejecuta partes de comentarios de nuestro código. Cualquier texto que comience con hash ```#``` en Python es un comentario.\n",
    "\n",
    "**Ejemplo:** comentario de una sola línea"
   ]
  },
  {
   "cell_type": "code",
   "execution_count": 1,
   "metadata": {},
   "outputs": [],
   "source": [
    "# Este es el primer comentario\n",
    "# Este es el segundo comentario\n",
    "# Python se está comiendo el mundo"
   ]
  },
  {
   "attachments": {},
   "cell_type": "markdown",
   "metadata": {},
   "source": [
    "**Ejemplo:** comentario de varias líneas\n",
    "\n",
    "Las comillas triples se pueden usar para comentarios de varias líneas si no están asignadas a una variable"
   ]
  },
  {
   "cell_type": "code",
   "execution_count": 2,
   "metadata": {},
   "outputs": [
    {
     "data": {
      "text/plain": [
       "'\\nEste es un comentario de varias líneas\\ncomentario de varias líneas ocupa varias líneas.\\npYTHON se está comiendo el mundo\\n'"
      ]
     },
     "execution_count": 2,
     "metadata": {},
     "output_type": "execute_result"
    }
   ],
   "source": [
    "\"\"\"Este es un comentario de varias líneas\n",
    "comentario de varias líneas ocupa varias líneas.\n",
    "pYTHON se está comiendo el mundo\n",
    "\"\"\"\n",
    "\n",
    "'''\n",
    "Este es un comentario de varias líneas\n",
    "comentario de varias líneas ocupa varias líneas.\n",
    "pYTHON se está comiendo el mundo\n",
    "'''"
   ]
  },
  {
   "attachments": {},
   "cell_type": "markdown",
   "metadata": {},
   "source": [
    "Los comentarios en Python son una forma de documentar y explicar el código. Los comentarios son líneas de texto que se ignoran durante la ejecución del programa. En Python, los comentarios se pueden agregar utilizando el símbolo ```#``` para una sola línea de comentario, o tres comillas dobles para un comentario de varias líneas.\n",
    "\n",
    "Aquí hay una explicación detallada de cómo hacer comentarios en Python con ejemplos para diferentes niveles."
   ]
  },
  {
   "attachments": {},
   "cell_type": "markdown",
   "metadata": {},
   "source": [
    "* **Comentarios de una sola línea:**\n",
    "\n",
    "Para agregar un comentario de una sola línea, simplemente agregue el símbolo ```#``` al comienzo de la línea."
   ]
  },
  {
   "cell_type": "code",
   "execution_count": 20,
   "metadata": {},
   "outputs": [],
   "source": [
    "# Esto es un comentario de una sola línea\n"
   ]
  },
  {
   "attachments": {},
   "cell_type": "markdown",
   "metadata": {},
   "source": [
    "También puede agregar comentarios al final de una línea de código."
   ]
  },
  {
   "cell_type": "code",
   "execution_count": 21,
   "metadata": {},
   "outputs": [],
   "source": [
    "x = 5 # esto es un comentario de una sola línea que explica que x es igual a 5\n"
   ]
  },
  {
   "attachments": {},
   "cell_type": "markdown",
   "metadata": {},
   "source": [
    "* **Comentarios de varias líneas:**\n",
    "\n",
    "Para agregar un comentario de varias líneas, use tres comillas dobles al principio y al final del comentario."
   ]
  },
  {
   "cell_type": "code",
   "execution_count": 22,
   "metadata": {},
   "outputs": [
    {
     "data": {
      "text/plain": [
       "'\\nEsto es un comentario\\nde varias líneas\\nque explica cómo funciona el código\\n'"
      ]
     },
     "execution_count": 22,
     "metadata": {},
     "output_type": "execute_result"
    }
   ],
   "source": [
    "\"\"\"\n",
    "Esto es un comentario\n",
    "de varias líneas\n",
    "que explica cómo funciona el código\n",
    "\"\"\"\n"
   ]
  },
  {
   "attachments": {},
   "cell_type": "markdown",
   "metadata": {},
   "source": [
    "Los comentarios de varias líneas también se pueden usar como cadenas de documentación. Las cadenas de documentación se usan para documentar módulos, funciones y clases."
   ]
  },
  {
   "cell_type": "code",
   "execution_count": 23,
   "metadata": {},
   "outputs": [],
   "source": [
    "def suma(a, b):\n",
    "    \"\"\"\n",
    "    Esta función toma dos argumentos y devuelve la suma de ambos.\n",
    "    \"\"\"\n",
    "    return a + b\n"
   ]
  },
  {
   "attachments": {},
   "cell_type": "markdown",
   "metadata": {},
   "source": [
    "* **Comentarios para deshabilitar código:**\n",
    "\n",
    "También puede usar comentarios para deshabilitar temporalmente el código."
   ]
  },
  {
   "cell_type": "code",
   "execution_count": 24,
   "metadata": {},
   "outputs": [],
   "source": [
    "# x = 5\n"
   ]
  },
  {
   "attachments": {},
   "cell_type": "markdown",
   "metadata": {},
   "source": [
    "En el ejemplo anterior, el código ```x = 5``` se ha comentado. Esto significa que el código no se ejecutará. Si desea volver a habilitar el código, simplemente elimine el símbolo ```#```.\n",
    "\n",
    "En resumen, los comentarios en Python son una forma de documentar y explicar el código. Los comentarios se pueden agregar utilizando el símbolo ```#``` para una sola línea de comentario, o tres comillas dobles para un comentario de varias líneas. También se pueden usar comentarios para deshabilitar temporalmente el código. Es importante utilizar comentarios para hacer el código más legible y fácil de entender."
   ]
  },
  {
   "attachments": {},
   "cell_type": "markdown",
   "metadata": {},
   "source": [
    "## **La función import**"
   ]
  },
  {
   "attachments": {},
   "cell_type": "markdown",
   "metadata": {},
   "source": [
    "La función ```import``` en Python se utiliza para importar un módulo o una biblioteca de código en el programa actual. Los módulos son archivos de Python que contienen definiciones y declaraciones de funciones, clases, variables y constantes que se pueden utilizar en otros programas. Los módulos son una forma de reutilizar el código existente y mejorar la eficiencia y la legibilidad del código.\n",
    "\n",
    "La sintaxis básica de la función ```import``` es la siguiente:\n",
    "\n",
    "```\n",
    "import modulo\n",
    "```"
   ]
  },
  {
   "attachments": {},
   "cell_type": "markdown",
   "metadata": {},
   "source": [
    "En este ejemplo, ```modulo``` es el nombre del módulo que se desea importar. Una vez importado, se pueden utilizar las funciones, clases y variables definidas en el módulo utilizando la sintaxis modulo.nombre.\n",
    "\n",
    "Aquí hay algunos ejemplos de cómo usar la función ```import``` en diferentes niveles:\n",
    "\n"
   ]
  },
  {
   "attachments": {},
   "cell_type": "markdown",
   "metadata": {},
   "source": [
    "* **Nivel básico:**\n",
    "\n",
    "En el nivel básico, se utilizan módulos comunes como ```math``` para realizar operaciones matemáticas."
   ]
  },
  {
   "cell_type": "code",
   "execution_count": 25,
   "metadata": {},
   "outputs": [
    {
     "name": "stdout",
     "output_type": "stream",
     "text": [
      "5.0\n"
     ]
    }
   ],
   "source": [
    "import math\n",
    "\n",
    "# Utilizando la función sqrt del módulo math para encontrar la raíz cuadrada de un número\n",
    "x = math.sqrt(25)\n",
    "print(x)\n"
   ]
  },
  {
   "attachments": {},
   "cell_type": "markdown",
   "metadata": {},
   "source": [
    "* **Nivel intermedio:**\n",
    "\n",
    "En el nivel intermedio, se pueden importar módulos personalizados y definir alias para los nombres de los módulos importados."
   ]
  },
  {
   "attachments": {},
   "cell_type": "markdown",
   "metadata": {},
   "source": [
    "```\n",
    "import mi_modulo as mm\n",
    "\n",
    "# Llamando a la función saludar del módulo mi_modulo utilizando el alias mm\n",
    "mm.saludar('Juan')\n",
    "```"
   ]
  },
  {
   "attachments": {},
   "cell_type": "markdown",
   "metadata": {},
   "source": [
    "* **Nivel avanzado:**\n",
    "\n",
    "En el nivel avanzado, se pueden importar clases y funciones específicas de un módulo utilizando la sintaxis from modulo ```import``` nombre."
   ]
  },
  {
   "attachments": {},
   "cell_type": "markdown",
   "metadata": {},
   "source": [
    "```\n",
    "from mi_modulo import MiClase, mi_funcion\n",
    "\n",
    "# Creando una instancia de la clase MiClase y llamando a su método mostrar_nombre\n",
    "objeto = MiClase('Juan')\n",
    "objeto.mostrar_nombre()\n",
    "\n",
    "# Llamando a la función mi_funcion\n",
    "mi_funcion()\n",
    "```\n"
   ]
  },
  {
   "attachments": {},
   "cell_type": "markdown",
   "metadata": {},
   "source": [
    "En el nivel avanzado, la función ```import``` se utiliza para importar módulos específicos o funciones de un módulo."
   ]
  },
  {
   "cell_type": "code",
   "execution_count": 26,
   "metadata": {},
   "outputs": [
    {
     "name": "stdout",
     "output_type": "stream",
     "text": [
      "3.141592653589793\n"
     ]
    }
   ],
   "source": [
    "# Importar solo la función pi del módulo math\n",
    "from math import pi\n",
    "\n",
    "# Imprimir el valor de pi\n",
    "print(pi)\n"
   ]
  },
  {
   "attachments": {},
   "cell_type": "markdown",
   "metadata": {},
   "source": [
    "En resumen, la función ```import``` en Python es una forma importante de importar módulos y bibliotecas de código en el programa actual. A medida que se avanza en los diferentes niveles de programación, se pueden utilizar técnicas más avanzadas para importar módulos personalizados, definir alias para los nombres de los módulos y importar clases y funciones específicas de un módulo."
   ]
  },
  {
   "attachments": {},
   "cell_type": "markdown",
   "metadata": {},
   "source": [
    "\n",
    "| **Inicio** | **Siguiente 2** |\n",
    "|----------- |-------------- |\n",
    "| [🏠](../../README.md) | [⏩](./2.Numeros_en_Python.ipynb)|\n"
   ]
  }
 ],
 "metadata": {
  "kernelspec": {
   "display_name": "base",
   "language": "python",
   "name": "python3"
  },
  "language_info": {
   "codemirror_mode": {
    "name": "ipython",
    "version": 3
   },
   "file_extension": ".py",
   "mimetype": "text/x-python",
   "name": "python",
   "nbconvert_exporter": "python",
   "pygments_lexer": "ipython3",
   "version": "3.9.12"
  },
  "orig_nbformat": 4
 },
 "nbformat": 4,
 "nbformat_minor": 2
}
