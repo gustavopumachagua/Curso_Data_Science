{
 "cells": [
  {
   "attachments": {},
   "cell_type": "markdown",
   "metadata": {},
   "source": [
    "| **Inicio** | **atrás 6** | **Siguiente 8** |\n",
    "|----------- |-------------- |---------------|\n",
    "| [🏠](../../README.md) | [⏪](./6.Estructuras_de_datos_Listas.ipynb)| [⏩](./8.Estructuras_de_datos_Conjuntos.ipynb)|"
   ]
  },
  {
   "attachments": {},
   "cell_type": "markdown",
   "metadata": {},
   "source": [
    "# **7. Estructuras de datos: Diccionarios**"
   ]
  },
  {
   "attachments": {},
   "cell_type": "markdown",
   "metadata": {},
   "source": [
    "## **Introducción a diccionarios**"
   ]
  },
  {
   "attachments": {},
   "cell_type": "markdown",
   "metadata": {},
   "source": [
    "En Python, un diccionario es una estructura de datos que permite almacenar pares de ```clave-valor```. Cada clave debe ser única dentro del diccionario y puede estar asociada a cualquier valor, como números, cadenas de caracteres, listas u otras estructuras de datos.\n",
    "\n",
    "Para crear un diccionario en Python, simplemente encierra los pares de ```clave-valor``` entre llaves y sepáralos por comas. Por ejemplo:"
   ]
  },
  {
   "cell_type": "code",
   "execution_count": 1,
   "metadata": {},
   "outputs": [],
   "source": [
    "diccionario = {\"nombre\": \"Juan\", \"edad\": 30, \"ciudad\": \"Madrid\"}\n"
   ]
  },
  {
   "attachments": {},
   "cell_type": "markdown",
   "metadata": {},
   "source": [
    "En este ejemplo, hemos creado un diccionario con tres pares de ```clave-valor```. La clave ```\"nombre\"``` está asociada a la cadena de caracteres ```\"Juan\"```, la clave ```\"edad\"``` está asociada al número 30 y la clave ```\"ciudad\"``` está asociada a la cadena de caracteres ```\"Madrid\"```.\n",
    "\n",
    "Podemos acceder al valor asociado a una clave utilizando la notación de corchetes y la clave correspondiente:"
   ]
  },
  {
   "cell_type": "code",
   "execution_count": 2,
   "metadata": {},
   "outputs": [
    {
     "name": "stdout",
     "output_type": "stream",
     "text": [
      "Juan\n"
     ]
    }
   ],
   "source": [
    "print(diccionario[\"nombre\"]) # imprime \"Juan\"\n"
   ]
  },
  {
   "attachments": {},
   "cell_type": "markdown",
   "metadata": {},
   "source": [
    "También podemos modificar el valor asociado a una clave utilizando la misma notación de corchetes:"
   ]
  },
  {
   "cell_type": "code",
   "execution_count": 3,
   "metadata": {},
   "outputs": [
    {
     "name": "stdout",
     "output_type": "stream",
     "text": [
      "{'nombre': 'Juan', 'edad': 31, 'ciudad': 'Madrid'}\n"
     ]
    }
   ],
   "source": [
    "diccionario[\"edad\"] = 31\n",
    "print(diccionario) # imprime {\"nombre\": \"Juan\", \"edad\": 31, \"ciudad\": \"Madrid\"}\n"
   ]
  },
  {
   "attachments": {},
   "cell_type": "markdown",
   "metadata": {},
   "source": [
    "Además, Python proporciona una serie de funciones para trabajar con diccionarios. Por ejemplo, podemos agregar un par de ```clave-valor``` a un diccionario utilizando la función ```update()```:"
   ]
  },
  {
   "cell_type": "code",
   "execution_count": 4,
   "metadata": {},
   "outputs": [
    {
     "name": "stdout",
     "output_type": "stream",
     "text": [
      "{'nombre': 'Juan', 'edad': 31, 'ciudad': 'Madrid', 'telefono': '555-1234'}\n"
     ]
    }
   ],
   "source": [
    "diccionario.update({\"telefono\": \"555-1234\"})\n",
    "print(diccionario) # imprime {\"nombre\": \"Juan\", \"edad\": 31, \"ciudad\": \"Madrid\", \"telefono\": \"555-1234\"}\n"
   ]
  },
  {
   "attachments": {},
   "cell_type": "markdown",
   "metadata": {},
   "source": [
    "También podemos eliminar un par de ```clave-valor``` de un diccionario utilizando la palabra clave ```del```:"
   ]
  },
  {
   "cell_type": "code",
   "execution_count": 5,
   "metadata": {},
   "outputs": [
    {
     "name": "stdout",
     "output_type": "stream",
     "text": [
      "{'nombre': 'Juan', 'edad': 31, 'telefono': '555-1234'}\n"
     ]
    }
   ],
   "source": [
    "del diccionario[\"ciudad\"]\n",
    "print(diccionario) # imprime {\"nombre\": \"Juan\", \"edad\": 31, \"telefono\": \"555-1234\"}\n"
   ]
  },
  {
   "attachments": {},
   "cell_type": "markdown",
   "metadata": {},
   "source": [
    "Podemos obtener una lista de todas las claves de un diccionario utilizando la función ```keys()```:"
   ]
  },
  {
   "cell_type": "code",
   "execution_count": 6,
   "metadata": {},
   "outputs": [
    {
     "name": "stdout",
     "output_type": "stream",
     "text": [
      "dict_keys(['nombre', 'edad', 'telefono'])\n"
     ]
    }
   ],
   "source": [
    "print(diccionario.keys()) # imprime [\"nombre\", \"edad\", \"telefono\"]\n"
   ]
  },
  {
   "attachments": {},
   "cell_type": "markdown",
   "metadata": {},
   "source": [
    "También podemos obtener una lista de todos los valores de un diccionario utilizando la función ```values()```:"
   ]
  },
  {
   "cell_type": "code",
   "execution_count": 7,
   "metadata": {},
   "outputs": [
    {
     "name": "stdout",
     "output_type": "stream",
     "text": [
      "dict_values(['Juan', 31, '555-1234'])\n"
     ]
    }
   ],
   "source": [
    "print(diccionario.values()) # imprime [\"Juan\", 31, \"555-1234\"]\n"
   ]
  },
  {
   "attachments": {},
   "cell_type": "markdown",
   "metadata": {},
   "source": [
    "Además de estas funciones básicas, Python proporciona muchas otras funciones para trabajar con diccionarios. Por ejemplo, podemos usar la función ```len()``` para obtener el número de pares de ```clave-valor``` en un diccionario, y la palabra clave in para verificar si una clave está presente en un diccionario.\n",
    "\n",
    "En resumen, los diccionarios son una estructura de datos muy útil en Python para almacenar y manipular pares de ```clave-valor```. Con las funciones proporcionadas por Python, podemos realizar una gran variedad de operaciones en los diccionarios para satisfacer nuestras necesidades de programación."
   ]
  },
  {
   "attachments": {},
   "cell_type": "markdown",
   "metadata": {},
   "source": [
    "## **Elementos de un diccionario**"
   ]
  },
  {
   "attachments": {},
   "cell_type": "markdown",
   "metadata": {},
   "source": [
    "En Python, un diccionario es una estructura de datos que almacena elementos como pares ```clave-valor```, donde cada clave es única y su valor correspondiente puede ser cualquier objeto de Python. Cada elemento en un diccionario se separa por comas y se encierra en llaves ```{}```.\n",
    "\n",
    "Por ejemplo, podemos crear un diccionario para almacenar la información de un estudiante:"
   ]
  },
  {
   "cell_type": "code",
   "execution_count": 8,
   "metadata": {},
   "outputs": [],
   "source": [
    "estudiante = {\"nombre\": \"Juan\", \"edad\": 20, \"carrera\": \"Ingeniería en Sistemas\"}\n"
   ]
  },
  {
   "attachments": {},
   "cell_type": "markdown",
   "metadata": {},
   "source": [
    "En este caso, ```\"nombre\"```, ```\"edad\"``` y ```\"carrera\"``` son las claves del diccionario y ```\"Juan\"```, 20 y ```\"Ingeniería en Sistemas\"``` son sus valores correspondientes.\n",
    "\n",
    "Es importante mencionar que las claves deben ser inmutables, por lo que pueden ser cadenas, números o tuplas, pero no pueden ser listas u otros diccionarios.\n",
    "\n",
    "También es posible crear diccionarios vacíos y agregar elementos posteriormente:"
   ]
  },
  {
   "cell_type": "code",
   "execution_count": 9,
   "metadata": {},
   "outputs": [],
   "source": [
    "diccionario_vacio = {}\n",
    "diccionario_vacio[\"clave1\"] = \"valor1\"\n",
    "diccionario_vacio[\"clave2\"] = \"valor2\"\n"
   ]
  },
  {
   "attachments": {},
   "cell_type": "markdown",
   "metadata": {},
   "source": [
    "En este ejemplo, agregamos dos elementos al diccionario vacío, donde ```\"clave1\"``` y ```\"clave2\"``` son las claves y ```\"valor1\"``` y ```\"valor2\"``` son sus valores correspondientes.\n",
    "\n",
    "En resumen, los elementos de un diccionario en Python son pares ```clave-valor``` separados por comas y encerrados en llaves ```{}```. Cada clave es única e inmutable, y su valor correspondiente puede ser cualquier objeto de Python."
   ]
  },
  {
   "attachments": {},
   "cell_type": "markdown",
   "metadata": {},
   "source": [
    "## **Tamaño de un diccionario**"
   ]
  },
  {
   "attachments": {},
   "cell_type": "markdown",
   "metadata": {},
   "source": [
    "En Python, el tamaño de un diccionario se refiere al número de pares ```clave-valor``` que contiene. Para obtener el tamaño de un diccionario, podemos utilizar la función ```len()``` de Python.\n",
    "\n",
    "Por ejemplo, supongamos que tenemos el siguiente diccionario:"
   ]
  },
  {
   "cell_type": "code",
   "execution_count": 10,
   "metadata": {},
   "outputs": [],
   "source": [
    "datos = {\"nombre\": \"Juan\", \"edad\": 20, \"carrera\": \"Ingeniería en Sistemas\"}\n"
   ]
  },
  {
   "attachments": {},
   "cell_type": "markdown",
   "metadata": {},
   "source": [
    "Para obtener el tamaño de este diccionario, podemos usar la función ```len()``` de la siguiente manera:"
   ]
  },
  {
   "cell_type": "code",
   "execution_count": 11,
   "metadata": {},
   "outputs": [
    {
     "name": "stdout",
     "output_type": "stream",
     "text": [
      "3\n"
     ]
    }
   ],
   "source": [
    "tamanio = len(datos)\n",
    "print(tamanio)\n"
   ]
  },
  {
   "attachments": {},
   "cell_type": "markdown",
   "metadata": {},
   "source": [
    "En este caso, el diccionario tiene tres pares ```clave-valor```, por lo que su tamaño es 3.\n",
    "\n",
    "Es importante mencionar que si el diccionario está vacío, su tamaño será 0. Por ejemplo:"
   ]
  },
  {
   "cell_type": "code",
   "execution_count": 12,
   "metadata": {},
   "outputs": [
    {
     "name": "stdout",
     "output_type": "stream",
     "text": [
      "0\n"
     ]
    }
   ],
   "source": [
    "diccionario_vacio = {}\n",
    "tamanio_vacio = len(diccionario_vacio)\n",
    "print(tamanio_vacio)\n"
   ]
  },
  {
   "attachments": {},
   "cell_type": "markdown",
   "metadata": {},
   "source": [
    "En resumen, el tamaño de un diccionario en Python se refiere al número de pares ```clave-valor``` que contiene y se puede obtener utilizando la función ```len()```. Si el diccionario está vacío, su tamaño será 0."
   ]
  },
  {
   "attachments": {},
   "cell_type": "markdown",
   "metadata": {},
   "source": [
    "## **Bucles con diccionarios**"
   ]
  },
  {
   "attachments": {},
   "cell_type": "markdown",
   "metadata": {},
   "source": [
    "En Python, podemos utilizar bucles para recorrer los elementos de un diccionario. Existen varias formas de hacerlo, pero las más comunes son utilizando los métodos ```keys()```, ```values()``` e ```items()``` del diccionario.\n",
    "\n",
    "El método ```keys()``` devuelve una lista con todas las claves del diccionario. Podemos utilizar esta lista en un bucle ```for``` para iterar sobre las claves y obtener sus valores correspondientes.\n",
    "\n",
    "Por ejemplo, supongamos que tenemos el siguiente diccionario:"
   ]
  },
  {
   "cell_type": "code",
   "execution_count": 13,
   "metadata": {},
   "outputs": [],
   "source": [
    "datos = {\"nombre\": \"Juan\", \"edad\": 20, \"carrera\": \"Ingeniería en Sistemas\"}\n"
   ]
  },
  {
   "attachments": {},
   "cell_type": "markdown",
   "metadata": {},
   "source": [
    "Podemos recorrer todas las claves del diccionario utilizando el método ```keys()``` y un bucle ```for``` de la siguiente manera:"
   ]
  },
  {
   "cell_type": "code",
   "execution_count": 14,
   "metadata": {},
   "outputs": [
    {
     "name": "stdout",
     "output_type": "stream",
     "text": [
      "nombre :  Juan\n",
      "edad :  20\n",
      "carrera :  Ingeniería en Sistemas\n"
     ]
    }
   ],
   "source": [
    "for clave in datos.keys():\n",
    "    print(clave, \": \", datos[clave])\n"
   ]
  },
  {
   "attachments": {},
   "cell_type": "markdown",
   "metadata": {},
   "source": [
    "En este caso, estamos imprimiendo cada clave del diccionario y su valor correspondiente.\n",
    "\n",
    "Otra forma de recorrer un diccionario es utilizando el método ```values()```, que devuelve una lista con todos los valores del diccionario. Podemos utilizar esta lista en un bucle ```for``` para iterar sobre los valores y obtener las claves correspondientes.\n",
    "\n",
    "Por ejemplo:"
   ]
  },
  {
   "cell_type": "code",
   "execution_count": 15,
   "metadata": {},
   "outputs": [
    {
     "name": "stdout",
     "output_type": "stream",
     "text": [
      "Juan\n",
      "20\n",
      "Ingeniería en Sistemas\n"
     ]
    }
   ],
   "source": [
    "for valor in datos.values():\n",
    "    print(valor)\n"
   ]
  },
  {
   "attachments": {},
   "cell_type": "markdown",
   "metadata": {},
   "source": [
    "En este caso, estamos imprimiendo todos los valores del diccionario.\n",
    "\n",
    "Finalmente, también podemos utilizar el método ```items()``` del diccionario, que devuelve una lista de tuplas, cada una conteniendo una clave y su valor correspondiente. Podemos utilizar esta lista en un bucle ```for``` para iterar sobre las tuplas y obtener tanto las claves como los valores.\n",
    "\n",
    "Por ejemplo:"
   ]
  },
  {
   "cell_type": "code",
   "execution_count": 16,
   "metadata": {},
   "outputs": [
    {
     "name": "stdout",
     "output_type": "stream",
     "text": [
      "nombre :  Juan\n",
      "edad :  20\n",
      "carrera :  Ingeniería en Sistemas\n"
     ]
    }
   ],
   "source": [
    "for clave, valor in datos.items():\n",
    "    print(clave, \": \", valor)\n"
   ]
  },
  {
   "attachments": {},
   "cell_type": "markdown",
   "metadata": {},
   "source": [
    "En resumen, podemos utilizar bucles ```for``` para recorrer los elementos de un diccionario en Python. Podemos utilizar los métodos ```keys()```, ```values()``` e ```items()``` del diccionario para obtener las claves, los valores o las tuplas de ```clave-valor```, y luego utilizar el bucle ```for``` para iterar sobre ellos y obtener la información que necesitamos."
   ]
  },
  {
   "attachments": {},
   "cell_type": "markdown",
   "metadata": {},
   "source": [
    "## **Diccionarios y listas**"
   ]
  },
  {
   "attachments": {},
   "cell_type": "markdown",
   "metadata": {},
   "source": [
    "Los diccionarios y las listas son dos estructuras de datos importantes en Python que se pueden utilizar juntas para resolver muchos problemas de programación.\n",
    "\n",
    "Un ```diccionario``` es una estructura de datos que almacena valores en pares ```clave-valor```. En otras palabras, cada elemento en un diccionario se compone de dos partes: una clave única y un valor asociado a esa clave. Las claves se utilizan para acceder a los valores en un diccionario. Los diccionarios son útiles cuando se necesitan asociaciones entre pares de valores y se quiere acceder a esos valores mediante una clave, en lugar de una posición indexada.\n",
    "\n",
    "Por otro lado, una ```lista``` es una estructura de datos que almacena un conjunto ordenado de elementos. Los elementos en una lista se pueden acceder utilizando un índice basado en cero. Las listas son útiles cuando se necesita almacenar un conjunto de valores en un orden determinado.\n",
    "\n",
    "En Python, es común utilizar diccionarios y listas juntos. Esto se debe a que los valores almacenados en un diccionario pueden ser una lista y las claves en el diccionario se pueden utilizar para acceder a elementos específicos en la lista. Por ejemplo:\n"
   ]
  },
  {
   "cell_type": "code",
   "execution_count": 17,
   "metadata": {},
   "outputs": [
    {
     "name": "stdout",
     "output_type": "stream",
     "text": [
      "5\n"
     ]
    }
   ],
   "source": [
    "# Crear un diccionario que contenga una lista de valores\n",
    "frutas = {'manzanas': [1, 2, 3], 'naranjas': [4, 5, 6], 'peras': [7, 8, 9]}\n",
    "\n",
    "# Acceder a un elemento en la lista utilizando una clave del diccionario\n",
    "naranja_5 = frutas['naranjas'][1]\n",
    "\n",
    "# Imprimir el resultado\n",
    "print(naranja_5)\n"
   ]
  },
  {
   "attachments": {},
   "cell_type": "markdown",
   "metadata": {},
   "source": [
    "En este ejemplo, creamos un diccionario frutas que contiene listas de valores para cada una de las claves. Luego, accedemos al valor 5 de la lista de naranjas utilizando la clave ```'naranjas'``` y el índice [1]. Finalmente, imprimimos el valor 5 utilizando la variable naranja_5.\n",
    "\n",
    "En resumen, los diccionarios y las listas son estructuras de datos poderosas en Python que se pueden utilizar juntas para resolver problemas más complejos. Los diccionarios son útiles para almacenar pares ```clave-valor```, mientras que las listas son útiles para almacenar conjuntos ordenados de elementos. Juntos, permiten crear estructuras de datos más complejas y flexibles."
   ]
  },
  {
   "attachments": {},
   "cell_type": "markdown",
   "metadata": {},
   "source": [
    "## **Más métodos de diccionarios**"
   ]
  },
  {
   "attachments": {},
   "cell_type": "markdown",
   "metadata": {},
   "source": [
    "* **keys():**\n",
    "\n",
    " este método devuelve una lista de todas las claves en el diccionario. Por ejemplo:"
   ]
  },
  {
   "cell_type": "code",
   "execution_count": 18,
   "metadata": {},
   "outputs": [
    {
     "name": "stdout",
     "output_type": "stream",
     "text": [
      "dict_keys(['nombre', 'edad', 'ciudad'])\n"
     ]
    }
   ],
   "source": [
    "mi_diccionario = {\"nombre\": \"Juan\", \"edad\": 25, \"ciudad\": \"Madrid\"}\n",
    "claves = mi_diccionario.keys()\n",
    "print(claves)\n"
   ]
  },
  {
   "attachments": {},
   "cell_type": "markdown",
   "metadata": {},
   "source": [
    "* **values():**\n",
    "\n",
    " este método devuelve una lista de todos los valores en el diccionario. Por ejemplo:"
   ]
  },
  {
   "cell_type": "code",
   "execution_count": 19,
   "metadata": {},
   "outputs": [
    {
     "name": "stdout",
     "output_type": "stream",
     "text": [
      "dict_values(['Juan', 25, 'Madrid'])\n"
     ]
    }
   ],
   "source": [
    "mi_diccionario = {\"nombre\": \"Juan\", \"edad\": 25, \"ciudad\": \"Madrid\"}\n",
    "valores = mi_diccionario.values()\n",
    "print(valores)\n"
   ]
  },
  {
   "attachments": {},
   "cell_type": "markdown",
   "metadata": {},
   "source": [
    "* **items():**\n",
    "\n",
    " este método devuelve una lista de tuplas, donde cada tupla contiene una clave y su valor correspondiente en el diccionario. Por ejemplo:"
   ]
  },
  {
   "cell_type": "code",
   "execution_count": 20,
   "metadata": {},
   "outputs": [
    {
     "name": "stdout",
     "output_type": "stream",
     "text": [
      "dict_items([('nombre', 'Juan'), ('edad', 25), ('ciudad', 'Madrid')])\n"
     ]
    }
   ],
   "source": [
    "mi_diccionario = {\"nombre\": \"Juan\", \"edad\": 25, \"ciudad\": \"Madrid\"}\n",
    "items = mi_diccionario.items()\n",
    "print(items)\n"
   ]
  },
  {
   "attachments": {},
   "cell_type": "markdown",
   "metadata": {},
   "source": [
    "* **get():**\n",
    "\n",
    " este método devuelve el valor correspondiente a una clave dada en el diccionario. Si la clave no existe, devuelve un valor predeterminado (por defecto ```None```, pero puede especificarse un valor alternativo). Por ejemplo:"
   ]
  },
  {
   "cell_type": "code",
   "execution_count": 21,
   "metadata": {},
   "outputs": [
    {
     "name": "stdout",
     "output_type": "stream",
     "text": [
      "Juan\n",
      "Pérez\n"
     ]
    }
   ],
   "source": [
    "mi_diccionario = {\"nombre\": \"Juan\", \"edad\": 25, \"ciudad\": \"Madrid\"}\n",
    "nombre = mi_diccionario.get(\"nombre\")\n",
    "apellido = mi_diccionario.get(\"apellido\", \"Pérez\")\n",
    "print(nombre)\n",
    "print(apellido)\n"
   ]
  },
  {
   "attachments": {},
   "cell_type": "markdown",
   "metadata": {},
   "source": [
    "* **pop():**\n",
    "\n",
    " este método elimina la clave y su valor correspondiente del diccionario y devuelve el valor eliminado. Si la clave no existe, se puede especificar un valor predeterminado para devolver en su lugar. Por ejemplo:"
   ]
  },
  {
   "cell_type": "code",
   "execution_count": 22,
   "metadata": {},
   "outputs": [
    {
     "name": "stdout",
     "output_type": "stream",
     "text": [
      "25\n",
      "Madrid\n",
      "{'nombre': 'Juan'}\n"
     ]
    }
   ],
   "source": [
    "mi_diccionario = {\"nombre\": \"Juan\", \"edad\": 25, \"ciudad\": \"Madrid\"}\n",
    "edad = mi_diccionario.pop(\"edad\")\n",
    "ciudad = mi_diccionario.pop(\"ciudad\", \"Barcelona\")\n",
    "print(edad)\n",
    "print(ciudad)\n",
    "print(mi_diccionario)\n"
   ]
  },
  {
   "attachments": {},
   "cell_type": "markdown",
   "metadata": {},
   "source": [
    "* **update():**\n",
    "\n",
    " este método actualiza un diccionario con las claves y valores de otro diccionario o de una secuencia de pares ```clave-valor```. Por ejemplo:"
   ]
  },
  {
   "cell_type": "code",
   "execution_count": 23,
   "metadata": {},
   "outputs": [
    {
     "name": "stdout",
     "output_type": "stream",
     "text": [
      "{'nombre': 'Juan', 'edad': 25, 'ciudad': 'Madrid', 'trabajo': 'programador'}\n"
     ]
    }
   ],
   "source": [
    "mi_diccionario = {\"nombre\": \"Juan\", \"edad\": 25}\n",
    "mi_diccionario2 = {\"ciudad\": \"Madrid\", \"trabajo\": \"programador\"}\n",
    "mi_diccionario.update(mi_diccionario2)\n",
    "print(mi_diccionario)\n"
   ]
  },
  {
   "attachments": {},
   "cell_type": "markdown",
   "metadata": {},
   "source": [
    "* **clear():**\n",
    "\n",
    " este método elimina todos los elementos del diccionario. Por ejemplo:"
   ]
  },
  {
   "cell_type": "code",
   "execution_count": 24,
   "metadata": {},
   "outputs": [
    {
     "name": "stdout",
     "output_type": "stream",
     "text": [
      "{}\n"
     ]
    }
   ],
   "source": [
    "mi_diccionario = {\"nombre\": \"Juan\", \"edad\": 25, \"ciudad\": \"Madrid\"}\n",
    "mi_diccionario.clear()\n",
    "print(mi_diccionario)\n"
   ]
  },
  {
   "attachments": {},
   "cell_type": "markdown",
   "metadata": {},
   "source": [
    "## **Construyendo diccionarios con dict()**"
   ]
  },
  {
   "attachments": {},
   "cell_type": "markdown",
   "metadata": {},
   "source": [
    "En Python, podemos construir diccionarios utilizando la función ```dict()```. Esta función toma como argumentos una secuencia de pares ```clave-valor``` y devuelve un diccionario con esas claves y valores."
   ]
  },
  {
   "attachments": {},
   "cell_type": "markdown",
   "metadata": {},
   "source": [
    "La sintaxis básica de ```dict()``` es la siguiente:"
   ]
  },
  {
   "attachments": {},
   "cell_type": "markdown",
   "metadata": {},
   "source": [
    "```\n",
    "dict(pares_clave_valor)\n",
    "```"
   ]
  },
  {
   "attachments": {},
   "cell_type": "markdown",
   "metadata": {},
   "source": [
    "Donde ```pares_clave_valor``` es una secuencia de tuplas que contienen cada una una clave y un valor. Por ejemplo:"
   ]
  },
  {
   "cell_type": "code",
   "execution_count": 26,
   "metadata": {},
   "outputs": [
    {
     "name": "stdout",
     "output_type": "stream",
     "text": [
      "{1: 'Juan', 2: 'María', 3: 'Pedro'}\n"
     ]
    }
   ],
   "source": [
    "datos = dict([(1, 'Juan'), (2, 'María'), (3, 'Pedro')])\n",
    "print(datos)\n"
   ]
  },
  {
   "attachments": {},
   "cell_type": "markdown",
   "metadata": {},
   "source": [
    "Este código construye un diccionario llamado ```datos``` con las claves 1, 2 y 3 y los valores 'Juan', 'María' y 'Pedro', respectivamente. El resultado de imprimir ```datos``` será el siguiente:"
   ]
  },
  {
   "attachments": {},
   "cell_type": "markdown",
   "metadata": {},
   "source": [
    "También podemos construir un diccionario utilizando argumentos con nombres en lugar de tuplas. Por ejemplo:"
   ]
  },
  {
   "cell_type": "code",
   "execution_count": 27,
   "metadata": {},
   "outputs": [
    {
     "name": "stdout",
     "output_type": "stream",
     "text": [
      "{'juan': 25, 'maria': 30, 'pedro': 40}\n"
     ]
    }
   ],
   "source": [
    "datos = dict(juan=25, maria=30, pedro=40)\n",
    "print(datos)\n"
   ]
  },
  {
   "attachments": {},
   "cell_type": "markdown",
   "metadata": {},
   "source": [
    "Este código construye un diccionario llamado ```datos``` con las claves 'juan', 'maria' y 'pedro' y los valores 25, 30 y 40, respectivamente. El resultado de imprimir ```datos``` será el siguiente:"
   ]
  },
  {
   "attachments": {},
   "cell_type": "markdown",
   "metadata": {},
   "source": [
    "También podemos utilizar la notación de llaves para construir un diccionario. Por ejemplo:"
   ]
  },
  {
   "cell_type": "code",
   "execution_count": 28,
   "metadata": {},
   "outputs": [
    {
     "name": "stdout",
     "output_type": "stream",
     "text": [
      "{'juan': 25, 'maria': 30, 'pedro': 40}\n"
     ]
    }
   ],
   "source": [
    "datos = {'juan': 25, 'maria': 30, 'pedro': 40}\n",
    "print(datos)\n"
   ]
  },
  {
   "attachments": {},
   "cell_type": "markdown",
   "metadata": {},
   "source": [
    "Este código construye un diccionario llamado ```datos``` con las claves 'juan', 'maria' y 'pedro' y los valores 25, 30 y 40, respectivamente. El resultado de imprimir ```datos``` será el mismo que el ejemplo anterior:"
   ]
  },
  {
   "attachments": {},
   "cell_type": "markdown",
   "metadata": {},
   "source": [
    "En resumen, la función ```dict()``` es una forma conveniente de construir diccionarios a partir de secuencias de pares ```clave-valor``` o argumentos con nombres."
   ]
  },
  {
   "attachments": {},
   "cell_type": "markdown",
   "metadata": {},
   "source": [
    "## **Estructuras de datos: Diccionarios**"
   ]
  },
  {
   "attachments": {},
   "cell_type": "markdown",
   "metadata": {},
   "source": [
    "Los diccionarios son estructuras de datos en Python que permiten almacenar y acceder a valores a través de claves. A diferencia de las listas, los diccionarios no tienen un orden preestablecido y se accede a sus elementos a través de una clave única en lugar de un índice numérico.\n",
    "\n",
    "Un diccionario se define entre llaves ```{}``` y se compone de pares ```clave-valor``` separados por dos puntos ```:```. Cada clave es única en el diccionario y se utiliza para acceder al valor correspondiente. Por ejemplo:"
   ]
  },
  {
   "cell_type": "code",
   "execution_count": 29,
   "metadata": {},
   "outputs": [],
   "source": [
    "mi_diccionario = {'manzana': 2, 'naranja': 1, 'plátano': 3}\n"
   ]
  },
  {
   "attachments": {},
   "cell_type": "markdown",
   "metadata": {},
   "source": [
    "En este ejemplo, ```'manzana'```, ```'naranja'``` y ```'plátano'``` son las claves, mientras que ```2```, ```1``` y ```3``` son los valores correspondientes.\n",
    "\n",
    "Para acceder a un valor en un diccionario, se utiliza su clave entre corchetes ```[]```. Por ejemplo:"
   ]
  },
  {
   "cell_type": "code",
   "execution_count": 30,
   "metadata": {},
   "outputs": [
    {
     "name": "stdout",
     "output_type": "stream",
     "text": [
      "2\n"
     ]
    }
   ],
   "source": [
    "print(mi_diccionario['manzana'])\n"
   ]
  },
  {
   "attachments": {},
   "cell_type": "markdown",
   "metadata": {},
   "source": [
    "Este código imprimirá ```2```, ya que ```'manzana'``` es la clave correspondiente al valor ```2``` en el diccionario ```mi_diccionario```.\n",
    "\n",
    "Además de crear un diccionario con llaves y valores explícitos, también es posible crear un diccionario vacío y agregar elementos a él mediante el uso de la sintaxis ```mi_diccionario[nueva_clave] = nuevo_valor```. Por ejemplo:"
   ]
  },
  {
   "cell_type": "code",
   "execution_count": 31,
   "metadata": {},
   "outputs": [
    {
     "name": "stdout",
     "output_type": "stream",
     "text": [
      "{'pera': 4}\n"
     ]
    }
   ],
   "source": [
    "mi_diccionario = {}\n",
    "mi_diccionario['pera'] = 4\n",
    "print(mi_diccionario)\n"
   ]
  },
  {
   "attachments": {},
   "cell_type": "markdown",
   "metadata": {},
   "source": [
    "Este código imprimirá ```{'pera': 4}```, ya que se ha creado un nuevo diccionario vacío y se ha agregado la clave ```'pera'``` con el valor ```4``` mediante la sintaxis ```mi_diccionario['pera'] = 4```.\n",
    "\n",
    "Los diccionarios también tienen una variedad de métodos útiles que se pueden utilizar para manipular los datos dentro de ellos. Algunos de los métodos más comunes incluyen:\n",
    "\n",
    "* **keys():** devuelve una lista con todas las claves del diccionario.\n",
    "* **values():** devuelve una lista con todos los valores del diccionario.\n",
    "* **items():** devuelve una lista con tuplas que contienen cada par clave-valor del diccionario.\n",
    "* **get(clave):** devuelve el valor correspondiente a una clave dada o None si la clave no existe en el diccionario.\n",
    "* **pop(clave):** elimina la clave especificada y su valor del diccionario y devuelve el valor eliminado.\n",
    "* **clear():** elimina todos los elementos del diccionario.\n",
    "* **update():** Actualiza el diccionario con los pares clave-valor de otro diccionario o de una secuencia de pares clave-valor.\n",
    "\n",
    "Por ejemplo, el siguiente código muestra cómo se puede utilizar el método ```keys()``` para imprimir todas las claves de un diccionario:"
   ]
  },
  {
   "cell_type": "code",
   "execution_count": 32,
   "metadata": {},
   "outputs": [
    {
     "name": "stdout",
     "output_type": "stream",
     "text": [
      "manzana\n",
      "naranja\n",
      "plátano\n"
     ]
    }
   ],
   "source": [
    "mi_diccionario = {'manzana': 2, 'naranja': 1, 'plátano': 3}\n",
    "for clave in mi_diccionario.keys():\n",
    "    print(clave)\n"
   ]
  },
  {
   "attachments": {},
   "cell_type": "markdown",
   "metadata": {},
   "source": [
    "Este código imprimirá ```'manzana'```, ```'naranja'``` y ```'plátano'```, ya que son las claves del diccionario ```mi_diccionario```.\n",
    "\n"
   ]
  },
  {
   "cell_type": "code",
   "execution_count": 34,
   "metadata": {},
   "outputs": [
    {
     "name": "stdout",
     "output_type": "stream",
     "text": [
      "{'manzana': 3, 'naranja': 2, 'plátano': 1}\n",
      "{'manzana': 3, 'naranja': 2, 'plátano': 1, 'pera': 4}\n",
      "{'manzana': 5, 'naranja': 2, 'plátano': 1, 'pera': 4}\n",
      "{'manzana': 5, 'naranja': 2, 'pera': 4}\n",
      "dict_keys(['manzana', 'naranja', 'pera'])\n",
      "dict_values([5, 2, 4])\n"
     ]
    }
   ],
   "source": [
    "mi_diccionario = {\"manzana\": 3, \"naranja\": 2, \"plátano\": 1}\n",
    "print(mi_diccionario)\n",
    "\n",
    "# Agregar un nuevo elemento\n",
    "mi_diccionario[\"pera\"] = 4\n",
    "print(mi_diccionario)\n",
    "\n",
    "# Actualizar un valor existente\n",
    "mi_diccionario[\"manzana\"] = 5\n",
    "print(mi_diccionario)\n",
    "\n",
    "# Eliminar un elemento\n",
    "mi_diccionario.pop(\"plátano\")\n",
    "print(mi_diccionario)\n",
    "\n",
    "# Obtener una lista de todas las claves\n",
    "claves = mi_diccionario.keys()\n",
    "print(claves) # output: dict_keys(['manzana', 'naranja', 'pera'])\n",
    "\n",
    "# Obtener una lista de todos los valores\n",
    "valores = mi_diccionario.values()\n",
    "print(valores) # output: dict_values([5, 2, 4])\n"
   ]
  },
  {
   "attachments": {},
   "cell_type": "markdown",
   "metadata": {},
   "source": [
    "## **Diccionarios**"
   ]
  },
  {
   "attachments": {},
   "cell_type": "markdown",
   "metadata": {},
   "source": [
    "Un diccionario es una colección de tipos de datos no ordenados, modificables (mutable) emparejados ```(key: value)```."
   ]
  },
  {
   "attachments": {},
   "cell_type": "markdown",
   "metadata": {},
   "source": [
    "### **Creación de un diccionario**\n"
   ]
  },
  {
   "attachments": {},
   "cell_type": "markdown",
   "metadata": {},
   "source": [
    "Para crear un diccionario usamos corchetes, ```{}``` o la función integrada ```dict()```."
   ]
  },
  {
   "cell_type": "code",
   "execution_count": 1,
   "metadata": {},
   "outputs": [
    {
     "name": "stdout",
     "output_type": "stream",
     "text": [
      "{'key1': 'value1', 'key2': 'value2', 'key3': 'value3', 'key4': 'value4'}\n"
     ]
    }
   ],
   "source": [
    "# syntax\n",
    "empty_dict = {}\n",
    "# Diccionario con valores de datos\n",
    "dct = {'key1':'value1', 'key2':'value2', 'key3':'value3', 'key4':'value4'}\n",
    "print(dct)"
   ]
  },
  {
   "cell_type": "code",
   "execution_count": 2,
   "metadata": {},
   "outputs": [
    {
     "name": "stdout",
     "output_type": "stream",
     "text": [
      "{'first_name': 'Asabeneh', 'last_name': 'Yetayeh', 'age': 25, 'country': 'Finland', 'is_marred': True, 'skills': ['JavaScript', 'React', 'Node', 'MongoDB', 'Python'], 'address': {'street': 'Space street', 'zipcode': '02210'}}\n"
     ]
    }
   ],
   "source": [
    "person = {\n",
    "    'first_name':'Asabeneh',\n",
    "    'last_name':'Yetayeh',\n",
    "    'age':25,\n",
    "    'country':'Finland',\n",
    "    'is_marred':True,\n",
    "    'skills':['JavaScript', 'React', 'Node', 'MongoDB', 'Python'],\n",
    "    'address':{\n",
    "        'street':'Space street',\n",
    "        'zipcode':'02210'\n",
    "    }\n",
    "    }\n",
    "print(person)"
   ]
  },
  {
   "attachments": {},
   "cell_type": "markdown",
   "metadata": {},
   "source": [
    "El diccionario anterior muestra que un valor puede ser cualquier tipo de datos: cadena, booleano, lista, tupla, conjunto o un diccionario."
   ]
  },
  {
   "attachments": {},
   "cell_type": "markdown",
   "metadata": {},
   "source": [
    "## **Longitud del diccionario**"
   ]
  },
  {
   "attachments": {},
   "cell_type": "markdown",
   "metadata": {},
   "source": [
    "Comprueba el número de pares ```'clave: valor'``` en el diccionario."
   ]
  },
  {
   "cell_type": "code",
   "execution_count": 3,
   "metadata": {},
   "outputs": [
    {
     "name": "stdout",
     "output_type": "stream",
     "text": [
      "4\n"
     ]
    }
   ],
   "source": [
    "# syntax\n",
    "dct = {'key1':'value1', 'key2':'value2', 'key3':'value3', 'key4':'value4'}\n",
    "print(len(dct)) # 4"
   ]
  },
  {
   "cell_type": "code",
   "execution_count": 4,
   "metadata": {},
   "outputs": [
    {
     "name": "stdout",
     "output_type": "stream",
     "text": [
      "7\n"
     ]
    }
   ],
   "source": [
    "person = {\n",
    "    'first_name':'Asabeneh',\n",
    "    'last_name':'Yetayeh',\n",
    "    'age':25,\n",
    "    'country':'Finland',\n",
    "    'is_marred':True,\n",
    "    'skills':['JavaScript', 'React', 'Node', 'MongoDB', 'Python'],\n",
    "    'address':{\n",
    "        'street':'Space street',\n",
    "        'zipcode':'02210'\n",
    "    }\n",
    "    }\n",
    "print(len(person)) # 7\n"
   ]
  },
  {
   "attachments": {},
   "cell_type": "markdown",
   "metadata": {},
   "source": [
    "## **Acceso a elementos del diccionario**"
   ]
  },
  {
   "attachments": {},
   "cell_type": "markdown",
   "metadata": {},
   "source": [
    "Podemos acceder a los elementos del diccionario haciendo referencia a su nombre clave."
   ]
  },
  {
   "cell_type": "code",
   "execution_count": 5,
   "metadata": {},
   "outputs": [
    {
     "name": "stdout",
     "output_type": "stream",
     "text": [
      "value1\n",
      "value4\n"
     ]
    }
   ],
   "source": [
    "# syntax\n",
    "dct = {'key1':'value1', 'key2':'value2', 'key3':'value3', 'key4':'value4'}\n",
    "print(dct['key1']) # value1\n",
    "print(dct['key4']) # value4"
   ]
  },
  {
   "cell_type": "code",
   "execution_count": 6,
   "metadata": {},
   "outputs": [
    {
     "name": "stdout",
     "output_type": "stream",
     "text": [
      "Asabeneh\n",
      "Finland\n",
      "['JavaScript', 'React', 'Node', 'MongoDB', 'Python']\n",
      "JavaScript\n",
      "Space street\n"
     ]
    }
   ],
   "source": [
    "person = {\n",
    "    'first_name':'Asabeneh',\n",
    "    'last_name':'Yetayeh',\n",
    "    'age':25,\n",
    "    'country':'Finland',\n",
    "    'is_marred':True,\n",
    "    'skills':['JavaScript', 'React', 'Node', 'MongoDB', 'Python'],\n",
    "    'address':{\n",
    "        'street':'Space street',\n",
    "        'zipcode':'02210'\n",
    "    }\n",
    "    }\n",
    "print(person['first_name']) # Asabeneh\n",
    "print(person['country'])    # Finland\n",
    "print(person['skills'])     # ['JavaScript', 'React', 'Node', 'MongoDB', 'Python']\n",
    "print(person['skills'][0])  # JavaScript\n",
    "print(person['address']['street']) # Space street\n",
    "#print(person['city'])       # Error"
   ]
  },
  {
   "attachments": {},
   "cell_type": "markdown",
   "metadata": {},
   "source": [
    "Acceder a un elemento por nombre de clave genera un error si la clave no existe. Para evitar este error, primero debemos verificar si existe una clave o podemos usar el método ```get```. El método get devuelve None, que es un tipo de datos de objeto ```NoneType```, si la clave no existe."
   ]
  },
  {
   "cell_type": "code",
   "execution_count": 7,
   "metadata": {},
   "outputs": [
    {
     "name": "stdout",
     "output_type": "stream",
     "text": [
      "Asabeneh\n",
      "Finland\n",
      "['JavaScript', 'React', 'Node', 'MongoDB', 'Python']\n",
      "None\n"
     ]
    }
   ],
   "source": [
    "person = {\n",
    "    'first_name':'Asabeneh',\n",
    "    'last_name':'Yetayeh',\n",
    "    'age':250,\n",
    "    'country':'Finland',\n",
    "    'is_marred':True,\n",
    "    'skills':['JavaScript', 'React', 'Node', 'MongoDB', 'Python'],\n",
    "    'address':{\n",
    "        'street':'Space street',\n",
    "        'zipcode':'02210'\n",
    "    }\n",
    "    }\n",
    "print(person.get('first_name')) # Asabeneh\n",
    "print(person.get('country'))    # Finland\n",
    "print(person.get('skills')) #['HTML','CSS','JavaScript', 'React', 'Node', 'MongoDB', 'Python']\n",
    "print(person.get('city'))   # None"
   ]
  },
  {
   "attachments": {},
   "cell_type": "markdown",
   "metadata": {},
   "source": [
    "## **Adición de elementos a un diccionario**"
   ]
  },
  {
   "attachments": {},
   "cell_type": "markdown",
   "metadata": {},
   "source": [
    "Podemos agregar nuevos pares de clave y valor a un diccionario"
   ]
  },
  {
   "cell_type": "code",
   "execution_count": 8,
   "metadata": {},
   "outputs": [
    {
     "name": "stdout",
     "output_type": "stream",
     "text": [
      "{'key1': 'value1', 'key2': 'value2', 'key3': 'value3', 'key4': 'value4', 'key5': 'value5'}\n"
     ]
    }
   ],
   "source": [
    "# syntax\n",
    "dct = {'key1':'value1', 'key2':'value2', 'key3':'value3', 'key4':'value4'}\n",
    "dct['key5'] = 'value5'\n",
    "print(dct)"
   ]
  },
  {
   "cell_type": "code",
   "execution_count": 9,
   "metadata": {},
   "outputs": [
    {
     "name": "stdout",
     "output_type": "stream",
     "text": [
      "{'first_name': 'Asabeneh', 'last_name': 'Yetayeh', 'age': 25, 'country': 'Finland', 'is_marred': True, 'skills': ['JavaScript', 'React', 'Node', 'MongoDB', 'Python', 'HTML'], 'address': {'street': 'Space street', 'zipcode': '02210'}, 'job_title': 'Instructor'}\n"
     ]
    }
   ],
   "source": [
    "person = {\n",
    "    'first_name':'Asabeneh',\n",
    "    'last_name':'Yetayeh',\n",
    "    'age':25,\n",
    "    'country':'Finland',\n",
    "    'is_marred':True,\n",
    "    'skills':['JavaScript', 'React', 'Node', 'MongoDB', 'Python'],\n",
    "    'address':{\n",
    "        'street':'Space street',\n",
    "        'zipcode':'02210'\n",
    "        }\n",
    "}\n",
    "person['job_title'] = 'Instructor'\n",
    "person['skills'].append('HTML')\n",
    "print(person)"
   ]
  },
  {
   "attachments": {},
   "cell_type": "markdown",
   "metadata": {},
   "source": [
    "## **Modificación de elementos en un diccionario**"
   ]
  },
  {
   "attachments": {},
   "cell_type": "markdown",
   "metadata": {},
   "source": [
    "Podemos modificar elementos en un diccionario."
   ]
  },
  {
   "cell_type": "code",
   "execution_count": 10,
   "metadata": {},
   "outputs": [
    {
     "name": "stdout",
     "output_type": "stream",
     "text": [
      "{'key1': 'value-one', 'key2': 'value2', 'key3': 'value3', 'key4': 'value4'}\n"
     ]
    }
   ],
   "source": [
    "# syntax\n",
    "dct = {'key1':'value1', 'key2':'value2', 'key3':'value3', 'key4':'value4'}\n",
    "dct['key1'] = 'value-one'\n",
    "print(dct)"
   ]
  },
  {
   "cell_type": "code",
   "execution_count": 11,
   "metadata": {},
   "outputs": [
    {
     "name": "stdout",
     "output_type": "stream",
     "text": [
      "{'first_name': 'Eyob', 'last_name': 'Yetayeh', 'age': 52, 'country': 'Finland', 'is_marred': True, 'skills': ['JavaScript', 'React', 'Node', 'MongoDB', 'Python'], 'address': {'street': 'Space street', 'zipcode': '02210'}}\n"
     ]
    }
   ],
   "source": [
    "person = {\n",
    "    'first_name':'Asabeneh',\n",
    "    'last_name':'Yetayeh',\n",
    "    'age':25,\n",
    "    'country':'Finland',\n",
    "    'is_marred':True,\n",
    "    'skills':['JavaScript', 'React', 'Node', 'MongoDB', 'Python'],\n",
    "    'address':{\n",
    "        'street':'Space street',\n",
    "        'zipcode':'02210'\n",
    "    }\n",
    "    }\n",
    "person['first_name'] = 'Eyob'\n",
    "person['age'] = 52\n",
    "print(person)"
   ]
  },
  {
   "attachments": {},
   "cell_type": "markdown",
   "metadata": {},
   "source": [
    "## **Comprobación de claves en un diccionario**"
   ]
  },
  {
   "attachments": {},
   "cell_type": "markdown",
   "metadata": {},
   "source": [
    "Usamos el operador ```in``` para verificar si existe una clave en un diccionario"
   ]
  },
  {
   "cell_type": "code",
   "execution_count": 12,
   "metadata": {},
   "outputs": [
    {
     "name": "stdout",
     "output_type": "stream",
     "text": [
      "True\n",
      "False\n"
     ]
    }
   ],
   "source": [
    "# syntax\n",
    "dct = {'key1':'value1', 'key2':'value2', 'key3':'value3', 'key4':'value4'}\n",
    "print('key2' in dct) # True\n",
    "print('key5' in dct) # False"
   ]
  },
  {
   "attachments": {},
   "cell_type": "markdown",
   "metadata": {},
   "source": [
    "## **Eliminación de pares de clave y valor de un diccionario**"
   ]
  },
  {
   "attachments": {},
   "cell_type": "markdown",
   "metadata": {},
   "source": [
    "* ```pop(key)``` : elimina el elemento con el nombre de clave especificado:\n",
    "* ```popitem()``` : elimina el último elemento\n",
    "* ```del``` : elimina un elemento con el nombre de clave especificado"
   ]
  },
  {
   "cell_type": "code",
   "execution_count": 13,
   "metadata": {},
   "outputs": [
    {
     "name": "stdout",
     "output_type": "stream",
     "text": [
      "{'key2': 'value2', 'key3': 'value3', 'key4': 'value4'}\n",
      "{'key1': 'value1', 'key2': 'value2', 'key3': 'value3'}\n",
      "{'key1': 'value1', 'key3': 'value3'}\n"
     ]
    }
   ],
   "source": [
    "# syntax\n",
    "dct = {'key1':'value1', 'key2':'value2', 'key3':'value3', 'key4':'value4'}\n",
    "dct.pop('key1') # removes key1 item\n",
    "print(dct)\n",
    "dct = {'key1':'value1', 'key2':'value2', 'key3':'value3', 'key4':'value4'}\n",
    "dct.popitem() # removes the last item\n",
    "print(dct)\n",
    "del dct['key2'] # removes key2 item\n",
    "print(dct)"
   ]
  },
  {
   "cell_type": "code",
   "execution_count": 14,
   "metadata": {},
   "outputs": [
    {
     "name": "stdout",
     "output_type": "stream",
     "text": [
      "{'last_name': 'Yetayeh', 'age': 25, 'country': 'Finland', 'is_marred': True, 'skills': ['JavaScript', 'React', 'Node', 'MongoDB', 'Python'], 'address': {'street': 'Space street', 'zipcode': '02210'}}\n",
      "{'last_name': 'Yetayeh', 'age': 25, 'country': 'Finland', 'is_marred': True, 'skills': ['JavaScript', 'React', 'Node', 'MongoDB', 'Python']}\n",
      "{'last_name': 'Yetayeh', 'country': 'Finland', 'is_marred': True, 'skills': ['JavaScript', 'React', 'Node', 'MongoDB', 'Python']}\n"
     ]
    }
   ],
   "source": [
    "person = {\n",
    "    'first_name':'Asabeneh',\n",
    "    'last_name':'Yetayeh',\n",
    "    'age':25,\n",
    "    'country':'Finland',\n",
    "    'is_marred':True,\n",
    "    'skills':['JavaScript', 'React', 'Node', 'MongoDB', 'Python'],\n",
    "    'address':{\n",
    "        'street':'Space street',\n",
    "        'zipcode':'02210'\n",
    "    }\n",
    "    }\n",
    "person.pop('first_name')        # Removes the firstname item\n",
    "print(person)\n",
    "person.popitem()                # Removes the address item\n",
    "print(person)\n",
    "del person['age']        # Removes the is_married item\n",
    "print(person)"
   ]
  },
  {
   "attachments": {},
   "cell_type": "markdown",
   "metadata": {},
   "source": [
    "## **Cambio de diccionario a una lista de elementos**"
   ]
  },
  {
   "attachments": {},
   "cell_type": "markdown",
   "metadata": {},
   "source": [
    "El método ```items()``` cambia el diccionario a una lista de tuplas."
   ]
  },
  {
   "cell_type": "code",
   "execution_count": 15,
   "metadata": {},
   "outputs": [
    {
     "name": "stdout",
     "output_type": "stream",
     "text": [
      "dict_items([('key1', 'value1'), ('key2', 'value2'), ('key3', 'value3'), ('key4', 'value4')])\n"
     ]
    }
   ],
   "source": [
    "# syntax\n",
    "dct = {'key1':'value1', 'key2':'value2', 'key3':'value3', 'key4':'value4'}\n",
    "print(dct.items()) # dict_items([('key1', 'value1'), ('key2', 'value2'), ('key3', 'value3'), ('key4', 'value4')])"
   ]
  },
  {
   "attachments": {},
   "cell_type": "markdown",
   "metadata": {},
   "source": [
    "## **Borrar un diccionario**"
   ]
  },
  {
   "attachments": {},
   "cell_type": "markdown",
   "metadata": {},
   "source": [
    "Si no queremos los elementos en un diccionario, podemos borrarlos usando el método ```clear()```"
   ]
  },
  {
   "cell_type": "code",
   "execution_count": 16,
   "metadata": {},
   "outputs": [
    {
     "name": "stdout",
     "output_type": "stream",
     "text": [
      "None\n"
     ]
    }
   ],
   "source": [
    "# syntax\n",
    "dct = {'key1':'value1', 'key2':'value2', 'key3':'value3', 'key4':'value4'}\n",
    "print(dct.clear()) # None"
   ]
  },
  {
   "attachments": {},
   "cell_type": "markdown",
   "metadata": {},
   "source": [
    "## **Eliminación de un diccionario**"
   ]
  },
  {
   "attachments": {},
   "cell_type": "markdown",
   "metadata": {},
   "source": [
    "Si no usamos el diccionario podemos borrarlo por completo"
   ]
  },
  {
   "cell_type": "code",
   "execution_count": 17,
   "metadata": {},
   "outputs": [],
   "source": [
    "# syntax\n",
    "dct = {'key1':'value1', 'key2':'value2', 'key3':'value3', 'key4':'value4'}\n",
    "del dct"
   ]
  },
  {
   "attachments": {},
   "cell_type": "markdown",
   "metadata": {},
   "source": [
    "## **Copiar un diccionario**"
   ]
  },
  {
   "attachments": {},
   "cell_type": "markdown",
   "metadata": {},
   "source": [
    "Podemos copiar un diccionario usando un método ```copy()``` . Usando la copia podemos evitar la mutación del diccionario original."
   ]
  },
  {
   "cell_type": "code",
   "execution_count": 18,
   "metadata": {},
   "outputs": [
    {
     "name": "stdout",
     "output_type": "stream",
     "text": [
      "{'key1': 'value1', 'key2': 'value2', 'key3': 'value3', 'key4': 'value4'}\n"
     ]
    }
   ],
   "source": [
    "# syntax\n",
    "dct = {'key1':'value1', 'key2':'value2', 'key3':'value3', 'key4':'value4'}\n",
    "dct_copy = dct.copy() # {'key1':'value1', 'key2':'value2', 'key3':'value3', 'key4':'value4'}\n",
    "print(dct_copy)"
   ]
  },
  {
   "attachments": {},
   "cell_type": "markdown",
   "metadata": {},
   "source": [
    "## **Obtener claves de diccionario como una lista**"
   ]
  },
  {
   "attachments": {},
   "cell_type": "markdown",
   "metadata": {},
   "source": [
    "El método ```keys()``` nos da todas las claves de un diccionario en forma de lista."
   ]
  },
  {
   "cell_type": "code",
   "execution_count": 19,
   "metadata": {},
   "outputs": [
    {
     "name": "stdout",
     "output_type": "stream",
     "text": [
      "dict_keys(['key1', 'key2', 'key3', 'key4'])\n"
     ]
    }
   ],
   "source": [
    "# syntax\n",
    "dct = {'key1':'value1', 'key2':'value2', 'key3':'value3', 'key4':'value4'}\n",
    "keys = dct.keys()\n",
    "print(keys)     # dict_keys(['key1', 'key2', 'key3', 'key4'])"
   ]
  },
  {
   "attachments": {},
   "cell_type": "markdown",
   "metadata": {},
   "source": [
    "## **Obtener valores de diccionario como una lista**"
   ]
  },
  {
   "attachments": {},
   "cell_type": "markdown",
   "metadata": {},
   "source": [
    "El método de valores nos da todos los valores de un diccionario como una lista."
   ]
  },
  {
   "cell_type": "code",
   "execution_count": 20,
   "metadata": {},
   "outputs": [
    {
     "name": "stdout",
     "output_type": "stream",
     "text": [
      "dict_values(['value1', 'value2', 'value3', 'value4'])\n"
     ]
    }
   ],
   "source": [
    "# syntax\n",
    "dct = {'key1':'value1', 'key2':'value2', 'key3':'value3', 'key4':'value4'}\n",
    "values = dct.values()\n",
    "print(values)     # dict_values(['value1', 'value2', 'value3', 'value4'])"
   ]
  },
  {
   "attachments": {},
   "cell_type": "markdown",
   "metadata": {},
   "source": [
    "| **Inicio** | **atrás 6** | **Siguiente 8** |\n",
    "|----------- |-------------- |---------------|\n",
    "| [🏠](../../README.md) | [⏪](./6.Estructuras_de_datos_Listas.ipynb)| [⏩](./8.Estructuras_de_datos_Conjuntos.ipynb)|"
   ]
  }
 ],
 "metadata": {
  "kernelspec": {
   "display_name": "base",
   "language": "python",
   "name": "python3"
  },
  "language_info": {
   "codemirror_mode": {
    "name": "ipython",
    "version": 3
   },
   "file_extension": ".py",
   "mimetype": "text/x-python",
   "name": "python",
   "nbconvert_exporter": "python",
   "pygments_lexer": "ipython3",
   "version": "3.9.12"
  },
  "orig_nbformat": 4
 },
 "nbformat": 4,
 "nbformat_minor": 2
}
