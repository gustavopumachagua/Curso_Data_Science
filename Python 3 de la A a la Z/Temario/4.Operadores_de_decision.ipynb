{
 "cells": [
  {
   "attachments": {},
   "cell_type": "markdown",
   "metadata": {},
   "source": [
    "| **Inicio** | **atrás 3** | **Siguiente 5** |\n",
    "|----------- |-------------- |---------------|\n",
    "| [🏠](../../README.md) | [⏪](./3.Strings_en_Python.ipynb)| [⏩](./5.Operadores_de_iteracion.ipynb)|"
   ]
  },
  {
   "attachments": {},
   "cell_type": "markdown",
   "metadata": {},
   "source": [
    "# **4. Operadores de decisión**"
   ]
  },
  {
   "attachments": {},
   "cell_type": "markdown",
   "metadata": {},
   "source": [
    "## **Variables booleanas**"
   ]
  },
  {
   "attachments": {},
   "cell_type": "markdown",
   "metadata": {},
   "source": [
    "En Python, una variable booleana es un tipo de dato que solo puede tener dos valores posibles: `True` o `False`. Estos valores se utilizan comúnmente para representar respuestas afirmativas o negativas a preguntas lógicas, como \"¿es cierto que x es mayor que y?\" o \"¿es válido el usuario y la contraseña ingresados?\".\n",
    "\n",
    "En Python, se pueden crear variables booleanas simplemente asignando el valor `True` o `False` a una variable:"
   ]
  },
  {
   "cell_type": "code",
   "execution_count": 1,
   "metadata": {},
   "outputs": [],
   "source": [
    "es_mayor = True\n",
    "tiene_credenciales = False"
   ]
  },
  {
   "attachments": {},
   "cell_type": "markdown",
   "metadata": {},
   "source": [
    "También se pueden crear variables booleanas a partir de expresiones lógicas, utilizando operadores como `== (igualdad)`, `!= (desigualdad)`, `< (menor que)`, `> (mayor que)`, `<= (menor o igual que)` y `>= (mayor o igual que)`. Por ejemplo:"
   ]
  },
  {
   "cell_type": "code",
   "execution_count": 2,
   "metadata": {},
   "outputs": [],
   "source": [
    "x = 10\n",
    "y = 5\n",
    "es_mayor = x > y  # True\n",
    "es_igual = x == y  # False"
   ]
  },
  {
   "attachments": {},
   "cell_type": "markdown",
   "metadata": {},
   "source": [
    "Las variables booleanas se utilizan comúnmente en estructuras de control de flujo, como las sentencias `if` y `while`, para tomar decisiones basadas en condiciones lógicas. Por ejemplo:"
   ]
  },
  {
   "cell_type": "code",
   "execution_count": 3,
   "metadata": {},
   "outputs": [
    {
     "name": "stdout",
     "output_type": "stream",
     "text": [
      "x es mayor que y\n"
     ]
    }
   ],
   "source": [
    "x = 10\n",
    "y = 5\n",
    "if x > y:\n",
    "    print(\"x es mayor que y\")\n",
    "else:\n",
    "    print(\"x no es mayor que y\")"
   ]
  },
  {
   "attachments": {},
   "cell_type": "markdown",
   "metadata": {},
   "source": [
    "En este ejemplo, se utiliza la variable booleana `x > y` como condición para decidir qué mensaje imprimir.\n",
    "\n",
    "En resumen, las variables booleanas son una herramienta fundamental en la programación para representar valores lógicos, tomar decisiones y controlar el flujo de un programa."
   ]
  },
  {
   "attachments": {},
   "cell_type": "markdown",
   "metadata": {},
   "source": [
    "## **Tablas de verdad: Negación, conjunción y disyunción**"
   ]
  },
  {
   "attachments": {},
   "cell_type": "markdown",
   "metadata": {},
   "source": [
    "Las tablas de verdad son una herramienta utilizada en lógica y matemáticas para mostrar los valores de verdad de las proposiciones lógicas en función de sus componentes. En Python, se pueden utilizar operadores lógicos para realizar operaciones de negación, conjunción y disyunción y construir tablas de verdad.\n",
    "\n",
    "La negación se representa en Python con el operador `not`. Este operador toma una expresión booleana y devuelve su negación. Es decir, si la expresión original es `True`, la negación es `False`, y viceversa. Por ejemplo:"
   ]
  },
  {
   "cell_type": "code",
   "execution_count": 4,
   "metadata": {},
   "outputs": [
    {
     "name": "stdout",
     "output_type": "stream",
     "text": [
      "False\n"
     ]
    }
   ],
   "source": [
    "a = True\n",
    "b = not a\n",
    "print(b)  # False"
   ]
  },
  {
   "attachments": {},
   "cell_type": "markdown",
   "metadata": {},
   "source": [
    "La conjunción se representa en Python con el operador `and`. Este operador toma dos expresiones booleanas y devuelve `True` si ambas expresiones son verdaderas, y `False` en caso contrario. Por ejemplo:"
   ]
  },
  {
   "cell_type": "code",
   "execution_count": 5,
   "metadata": {},
   "outputs": [
    {
     "name": "stdout",
     "output_type": "stream",
     "text": [
      "False\n"
     ]
    }
   ],
   "source": [
    "a = True\n",
    "b = False\n",
    "c = a and b\n",
    "print(c)  # False"
   ]
  },
  {
   "attachments": {},
   "cell_type": "markdown",
   "metadata": {},
   "source": [
    "La disyunción se representa en Python con el operador `or`. Este operador toma dos expresiones booleanas y devuelve `True` si al menos una de las expresiones es verdadera, y `False` en caso contrario. Por ejemplo:"
   ]
  },
  {
   "cell_type": "code",
   "execution_count": 6,
   "metadata": {},
   "outputs": [
    {
     "name": "stdout",
     "output_type": "stream",
     "text": [
      "True\n"
     ]
    }
   ],
   "source": [
    "a = True\n",
    "b = False\n",
    "c = a or b\n",
    "print(c)  # True"
   ]
  },
  {
   "attachments": {},
   "cell_type": "markdown",
   "metadata": {},
   "source": [
    "Utilizando estos operadores, se pueden construir tablas de verdad para mostrar los valores de verdad de proposiciones lógicas más complejas. Por ejemplo, la tabla de verdad para la proposición \"si `p` es verdadero y `q` es falso, entonces `r` es verdadero\" se puede construir de la siguiente manera:"
   ]
  },
  {
   "cell_type": "code",
   "execution_count": 7,
   "metadata": {},
   "outputs": [
    {
     "name": "stdout",
     "output_type": "stream",
     "text": [
      "True False True\n"
     ]
    }
   ],
   "source": [
    "p = True\n",
    "q = False\n",
    "r = p and not q\n",
    "print(p, q, r)\n",
    "# True False True"
   ]
  },
  {
   "attachments": {},
   "cell_type": "markdown",
   "metadata": {},
   "source": [
    "En esta tabla de verdad, se puede ver que `p` es verdadero, `q` es falso y `r` es verdadero, lo cual cumple la proposición lógica. En resumen, las tablas de verdad y los operadores lógicos son herramientas importantes en la programación para tomar decisiones basadas en condiciones lógicas y construir algoritmos más complejos."
   ]
  },
  {
   "attachments": {},
   "cell_type": "markdown",
   "metadata": {},
   "source": [
    "## **Negación, conjunción y disyunción en Python**"
   ]
  },
  {
   "attachments": {},
   "cell_type": "markdown",
   "metadata": {},
   "source": [
    "En Python, la negación, conjunción y disyunción son operaciones lógicas que permiten trabajar con expresiones booleanas, es decir, con valores que pueden ser verdaderos `(True)` o falsos `(False)`. Estas operaciones se representan mediante los operadores `not`, `and` y `or`, respectivamente.\n",
    "\n",
    "La negación es una operación que toma una expresión booleana y devuelve su valor contrario. Por ejemplo, si tenemos una variable a que contiene el valor `True`, su negación sería `False`. En Python, la negación se representa con el operador `not`. Un ejemplo de negación sería el siguiente:"
   ]
  },
  {
   "cell_type": "code",
   "execution_count": 8,
   "metadata": {},
   "outputs": [
    {
     "name": "stdout",
     "output_type": "stream",
     "text": [
      "False\n"
     ]
    }
   ],
   "source": [
    "a = True\n",
    "b = not a\n",
    "print(b)  # False"
   ]
  },
  {
   "attachments": {},
   "cell_type": "markdown",
   "metadata": {},
   "source": [
    "La conjunción es una operación que toma dos expresiones booleanas y devuelve `True` si ambas son verdaderas, y `False` en cualquier otro caso. En Python, la conjunción se representa con el operador `and`. Un ejemplo de conjunción sería el siguiente:"
   ]
  },
  {
   "cell_type": "code",
   "execution_count": 9,
   "metadata": {},
   "outputs": [
    {
     "name": "stdout",
     "output_type": "stream",
     "text": [
      "False\n"
     ]
    }
   ],
   "source": [
    "a = True\n",
    "b = False\n",
    "c = a and b\n",
    "print(c)  # False"
   ]
  },
  {
   "attachments": {},
   "cell_type": "markdown",
   "metadata": {},
   "source": [
    "En este ejemplo, la variable `c` contiene el valor `False` porque `a` es verdadero, pero `b` es falso, por lo que la conjunción de ambas expresiones es falsa.\n",
    "\n",
    "La disyunción es una operación que toma dos expresiones booleanas y devuelve `True` si al menos una de las expresiones es verdadera, y `False` si ambas son falsas. En Python, la disyunción se representa con el operador `or`. Un ejemplo de disyunción sería el siguiente:"
   ]
  },
  {
   "cell_type": "code",
   "execution_count": 10,
   "metadata": {},
   "outputs": [
    {
     "name": "stdout",
     "output_type": "stream",
     "text": [
      "True\n"
     ]
    }
   ],
   "source": [
    "a = True\n",
    "b = False\n",
    "c = a or b\n",
    "print(c)  # True"
   ]
  },
  {
   "attachments": {},
   "cell_type": "markdown",
   "metadata": {},
   "source": [
    "En este ejemplo, la variable `c` contiene el valor `True` porque `a` es verdadero, y aunque `b` es falso, al menos una de las expresiones es verdadera, por lo que la disyunción de ambas expresiones es verdadera.\n",
    "\n",
    "Estas operaciones lógicas son fundamentales en la programación para tomar decisiones basadas en condiciones lógicas, validar expresiones booleanas y construir algoritmos más complejos."
   ]
  },
  {
   "attachments": {},
   "cell_type": "markdown",
   "metadata": {},
   "source": [
    "## **Operadores de comparación**"
   ]
  },
  {
   "attachments": {},
   "cell_type": "markdown",
   "metadata": {},
   "source": [
    "En Python, los operadores de comparación permiten comparar dos valores y devolver un resultado booleano, es decir, `True` o `False`. Estos operadores se utilizan principalmente en estructuras de control de flujo como las sentencias `if`, `while`, `for`, entre otras, para evaluar condiciones y tomar decisiones en función de estas.\n",
    "\n",
    "A continuación se presentan los operadores de comparación disponibles en Python:\n",
    "\n",
    "* **Igualdad (==):**\n",
    "\n",
    " Este operador compara si dos valores son iguales, y devuelve `True` si lo son, y `False` en cualquier otro caso. Por ejemplo:"
   ]
  },
  {
   "cell_type": "code",
   "execution_count": 11,
   "metadata": {},
   "outputs": [
    {
     "name": "stdout",
     "output_type": "stream",
     "text": [
      "True\n"
     ]
    }
   ],
   "source": [
    "a = 5\n",
    "b = 5\n",
    "print(a == b)  # True"
   ]
  },
  {
   "attachments": {},
   "cell_type": "markdown",
   "metadata": {},
   "source": [
    "* **Desigualdad (!=):**\n",
    "\n",
    " Este operador compara si dos valores son diferentes, y devuelve `True` si lo son, y `False` en cualquier otro caso. Por ejemplo:"
   ]
  },
  {
   "cell_type": "code",
   "execution_count": 12,
   "metadata": {},
   "outputs": [
    {
     "name": "stdout",
     "output_type": "stream",
     "text": [
      "True\n"
     ]
    }
   ],
   "source": [
    "a = 5\n",
    "b = 6\n",
    "print(a != b)  # True"
   ]
  },
  {
   "attachments": {},
   "cell_type": "markdown",
   "metadata": {},
   "source": [
    "* **Mayor que (>):**\n",
    "\n",
    " Este operador compara si un valor es mayor que otro, y devuelve `True` si lo es, y `False` en cualquier otro caso. Por ejemplo:"
   ]
  },
  {
   "cell_type": "code",
   "execution_count": 13,
   "metadata": {},
   "outputs": [
    {
     "name": "stdout",
     "output_type": "stream",
     "text": [
      "True\n"
     ]
    }
   ],
   "source": [
    "a = 6\n",
    "b = 5\n",
    "print(a > b)  # True"
   ]
  },
  {
   "attachments": {},
   "cell_type": "markdown",
   "metadata": {},
   "source": [
    "* **Menor que (<):**\n",
    "\n",
    " Este operador compara si un valor es menor que otro, y devuelve `True` si lo es, y `False` en cualquier otro caso. Por ejemplo:"
   ]
  },
  {
   "cell_type": "code",
   "execution_count": 14,
   "metadata": {},
   "outputs": [
    {
     "name": "stdout",
     "output_type": "stream",
     "text": [
      "True\n"
     ]
    }
   ],
   "source": [
    "a = 5\n",
    "b = 6\n",
    "print(a < b)  # True"
   ]
  },
  {
   "attachments": {},
   "cell_type": "markdown",
   "metadata": {},
   "source": [
    "* **Mayor o igual que (>=):**\n",
    "\n",
    " Este operador compara si un valor es mayor o igual que otro, y devuelve `True` si lo es, y `False` en cualquier otro caso. Por ejemplo:"
   ]
  },
  {
   "cell_type": "code",
   "execution_count": 15,
   "metadata": {},
   "outputs": [
    {
     "name": "stdout",
     "output_type": "stream",
     "text": [
      "True\n"
     ]
    }
   ],
   "source": [
    "a = 6\n",
    "b = 5\n",
    "print(a >= b)  # True"
   ]
  },
  {
   "attachments": {},
   "cell_type": "markdown",
   "metadata": {},
   "source": [
    "* **Menor o igual que (<=):**\n",
    "\n",
    " Este operador compara si un valor es menor o igual que otro, y devuelve `True` si lo es, y `False` en cualquier otro caso. Por ejemplo:"
   ]
  },
  {
   "cell_type": "code",
   "execution_count": 16,
   "metadata": {},
   "outputs": [
    {
     "name": "stdout",
     "output_type": "stream",
     "text": [
      "True\n"
     ]
    }
   ],
   "source": [
    "a = 5\n",
    "b = 6\n",
    "print(a <= b)  # True"
   ]
  },
  {
   "attachments": {},
   "cell_type": "markdown",
   "metadata": {},
   "source": [
    "Además de estos operadores, también se pueden utilizar las palabras clave `is` y `is not` para comparar objetos en lugar de valores. Estas palabras clave comparan si dos objetos son idénticos `(is)` o no son idénticos `(is not)`. Por ejemplo:"
   ]
  },
  {
   "cell_type": "code",
   "execution_count": 17,
   "metadata": {},
   "outputs": [
    {
     "name": "stdout",
     "output_type": "stream",
     "text": [
      "True\n",
      "False\n",
      "True\n"
     ]
    }
   ],
   "source": [
    "a = [1, 2, 3]\n",
    "b = [1, 2, 3]\n",
    "print(a == b)     # True\n",
    "print(a is b)     # False\n",
    "print(a is not b) # True"
   ]
  },
  {
   "attachments": {},
   "cell_type": "markdown",
   "metadata": {},
   "source": [
    "En este ejemplo, las listas `a` y `b` son iguales (`a == b` devuelve `True`), pero no son idénticas (`a` is `b` devuelve `False`), ya que son dos objetos diferentes en la memoria."
   ]
  },
  {
   "attachments": {},
   "cell_type": "markdown",
   "metadata": {},
   "source": [
    "## **Múltiples comparaciones simultáneas**"
   ]
  },
  {
   "attachments": {},
   "cell_type": "markdown",
   "metadata": {},
   "source": [
    "En Python, es posible realizar múltiples comparaciones simultáneas utilizando operadores lógicos como `\"and\"` y `\"or\"`. Esto se utiliza comúnmente en declaraciones condicionales para evaluar varias condiciones antes de tomar una decisión.\n",
    "\n",
    "La sintaxis general para múltiples comparaciones simultáneas es la siguiente:"
   ]
  },
  {
   "attachments": {},
   "cell_type": "markdown",
   "metadata": {},
   "source": [
    "```\n",
    "if condición1 and condición2:\n",
    "    # Código si ambas condiciones son verdaderas\n",
    "elif condición1 or condición2:\n",
    "    # Código si al menos una condición es verdadera\n",
    "else:\n",
    "    # Código si ninguna condición es verdadera\n",
    "\n",
    "```"
   ]
  },
  {
   "attachments": {},
   "cell_type": "markdown",
   "metadata": {},
   "source": [
    "Aquí hay algunos ejemplos para ilustrar cómo funciona esto:"
   ]
  },
  {
   "cell_type": "code",
   "execution_count": 18,
   "metadata": {},
   "outputs": [
    {
     "name": "stdout",
     "output_type": "stream",
     "text": [
      "x es menor que y y y es mayor que z\n"
     ]
    }
   ],
   "source": [
    "x = 5\n",
    "y = 10\n",
    "z = 15\n",
    "\n",
    "if x < y and y < z:\n",
    "    print(\"x es menor que y y y es mayor que z\")\n",
    "\n",
    "if x == y or y == z:\n",
    "    print(\"x es igual a y o y es igual a z\")\n",
    "\n",
    "if x > y or y > z:\n",
    "    print(\"Ni x es mayor que y ni y es mayor que z\")"
   ]
  },
  {
   "attachments": {},
   "cell_type": "markdown",
   "metadata": {},
   "source": [
    "En el primer ejemplo, ambas condiciones son verdaderas, por lo que se imprime el mensaje \"`x` es menor que `y` y `y` es mayor que `z`\". En el segundo ejemplo, solo la segunda condición es verdadera, por lo que se imprime el mensaje \"`x` es igual a `y` o `y` es igual a `z`\". En el tercer ejemplo, ninguna de las condiciones es verdadera, por lo que se imprime el mensaje \"Ni `x` es mayor que `y` ni `y` es mayor que `z`\"."
   ]
  },
  {
   "attachments": {},
   "cell_type": "markdown",
   "metadata": {},
   "source": [
    "## **Las comparaciones en strings**"
   ]
  },
  {
   "attachments": {},
   "cell_type": "markdown",
   "metadata": {},
   "source": [
    "En Python, las comparaciones de cadenas se realizan utilizando los operadores de comparación estándar (como `==`, `!=`, `<`, `>`, `<=`,`>=`) para comparar dos cadenas.\n",
    "\n",
    "Cuando se comparan cadenas, se compara el valor Unicode de cada carácter en la cadena. El valor Unicode es un estándar que asigna un número único a cada carácter utilizado en la mayoría de los idiomas escritos. Por lo tanto, al comparar dos cadenas, Python compara los valores Unicode de los caracteres en cada posición de la cadena.\n",
    "\n",
    "Aquí hay algunos ejemplos que ilustran cómo funcionan las comparaciones de cadenas en Python:"
   ]
  },
  {
   "cell_type": "code",
   "execution_count": 19,
   "metadata": {},
   "outputs": [
    {
     "name": "stdout",
     "output_type": "stream",
     "text": [
      "cadena1 y cadena2 son diferentes\n",
      "cadena3 viene antes que cadena4\n"
     ]
    }
   ],
   "source": [
    "# Comparación de cadenas usando el operador ==\n",
    "cadena1 = \"hola\"\n",
    "cadena2 = \"Hola\"\n",
    "if cadena1 == cadena2:\n",
    "    print(\"cadena1 y cadena2 son iguales\")\n",
    "else:\n",
    "    print(\"cadena1 y cadena2 son diferentes\")\n",
    "\n",
    "# Comparación de cadenas usando el operador <\n",
    "cadena3 = \"manzana\"\n",
    "cadena4 = \"naranja\"\n",
    "if cadena3 < cadena4:\n",
    "    print(\"cadena3 viene antes que cadena4\")\n",
    "else:\n",
    "    print(\"cadena3 viene después de cadena4\")"
   ]
  },
  {
   "attachments": {},
   "cell_type": "markdown",
   "metadata": {},
   "source": [
    "En el primer ejemplo, se comparan dos cadenas (`cadena1` y `cadena2`) utilizando el operador de igualdad `(==)`. Debido a que las cadenas difieren en mayúsculas y minúsculas, las cadenas no son iguales y se imprime \"`cadena1` y `cadena2` son diferentes\".\n",
    "\n",
    "En el segundo ejemplo, se comparan dos cadenas (`cadena3` y `cadena4`) utilizando el operador menor que `(<)`. La comparación se realiza comparando los valores Unicode de los caracteres en cada posición de la cadena. Debido a que la letra `'m'` en `cadena3` tiene un valor Unicode menor que la letra `'n'` en `cadena4`, la comparación es verdadera y se imprime \"`cadena3` viene antes que `cadena4`\"."
   ]
  },
  {
   "attachments": {},
   "cell_type": "markdown",
   "metadata": {},
   "source": [
    "## **Métodos booleanos de strings**"
   ]
  },
  {
   "attachments": {},
   "cell_type": "markdown",
   "metadata": {},
   "source": [
    "En Python, los métodos booleanos para cadenas son métodos que devuelven valores booleanos (`True` o `False`) en función de si una cadena cumple o no ciertas condiciones. Aquí hay algunos métodos booleanos comunes para cadenas en Python:"
   ]
  },
  {
   "attachments": {},
   "cell_type": "markdown",
   "metadata": {},
   "source": [
    "* **isalpha():**\n",
    "\n",
    " Este método devuelve `True` si la cadena contiene solo letras y no está vacía, de lo contrario devuelve `False`."
   ]
  },
  {
   "cell_type": "code",
   "execution_count": 21,
   "metadata": {},
   "outputs": [
    {
     "name": "stdout",
     "output_type": "stream",
     "text": [
      "cadena1 contiene solo letras\n",
      "cadena2 no contiene solo letras\n"
     ]
    }
   ],
   "source": [
    "cadena1 = \"Hola\"\n",
    "cadena2 = \"Hola123\"\n",
    "if cadena1.isalpha():\n",
    "    print(\"cadena1 contiene solo letras\")\n",
    "else:\n",
    "    print(\"cadena1 no contiene solo letras\")\n",
    "\n",
    "if cadena2.isalpha():\n",
    "    print(\"cadena2 contiene solo letras\")\n",
    "else:\n",
    "    print(\"cadena2 no contiene solo letras\")"
   ]
  },
  {
   "attachments": {},
   "cell_type": "markdown",
   "metadata": {},
   "source": [
    "* **isdigit():**\n",
    "\n",
    " Este método devuelve `True` si la cadena contiene solo dígitos y no está vacía, de lo contrario devuelve `False`."
   ]
  },
  {
   "cell_type": "code",
   "execution_count": 22,
   "metadata": {},
   "outputs": [
    {
     "name": "stdout",
     "output_type": "stream",
     "text": [
      "cadena1 contiene solo digitos\n",
      "cadena2 no contiene solo digitos\n"
     ]
    }
   ],
   "source": [
    "cadena1 = \"1234\"\n",
    "cadena2 = \"1234a\"\n",
    "if cadena1.isdigit():\n",
    "    print(\"cadena1 contiene solo digitos\")\n",
    "else:\n",
    "    print(\"cadena1 no contiene solo digitos\")\n",
    "\n",
    "if cadena2.isdigit():\n",
    "    print(\"cadena2 contiene solo digitos\")\n",
    "else:\n",
    "    print(\"cadena2 no contiene solo digitos\")"
   ]
  },
  {
   "attachments": {},
   "cell_type": "markdown",
   "metadata": {},
   "source": [
    "* **isalnum():**\n",
    "\n",
    " Este método devuelve `True` si la cadena contiene solo letras y/o dígitos y no está vacía, de lo contrario devuelve `False`."
   ]
  },
  {
   "cell_type": "code",
   "execution_count": 23,
   "metadata": {},
   "outputs": [
    {
     "name": "stdout",
     "output_type": "stream",
     "text": [
      "cadena1 contiene solo letras y/o digitos\n",
      "cadena2 no contiene solo letras y/o digitos\n"
     ]
    }
   ],
   "source": [
    "cadena1 = \"Hola123\"\n",
    "cadena2 = \"Hola 123\"\n",
    "if cadena1.isalnum():\n",
    "    print(\"cadena1 contiene solo letras y/o digitos\")\n",
    "else:\n",
    "    print(\"cadena1 no contiene solo letras y/o digitos\")\n",
    "\n",
    "if cadena2.isalnum():\n",
    "    print(\"cadena2 contiene solo letras y/o digitos\")\n",
    "else:\n",
    "    print(\"cadena2 no contiene solo letras y/o digitos\")"
   ]
  },
  {
   "attachments": {},
   "cell_type": "markdown",
   "metadata": {},
   "source": [
    "* **islower():**\n",
    "\n",
    " Este método devuelve `True` si todos los caracteres de la cadena están en minúscula, de lo contrario devuelve `False`."
   ]
  },
  {
   "cell_type": "code",
   "execution_count": 24,
   "metadata": {},
   "outputs": [
    {
     "name": "stdout",
     "output_type": "stream",
     "text": [
      "cadena1 contiene solo letras minúsculas\n",
      "cadena2 no contiene solo letras minúsculas\n"
     ]
    }
   ],
   "source": [
    "cadena1 = \"hola\"\n",
    "cadena2 = \"Hola\"\n",
    "if cadena1.islower():\n",
    "    print(\"cadena1 contiene solo letras minúsculas\")\n",
    "else:\n",
    "    print(\"cadena1 no contiene solo letras minúsculas\")\n",
    "\n",
    "if cadena2.islower():\n",
    "    print(\"cadena2 contiene solo letras minúsculas\")\n",
    "else:\n",
    "    print(\"cadena2 no contiene solo letras minúsculas\")"
   ]
  },
  {
   "attachments": {},
   "cell_type": "markdown",
   "metadata": {},
   "source": [
    "* **isupper():**\n",
    "\n",
    " Este método devuelve `True` si todos los caracteres de la cadena están en mayúscula, de lo contrario devuelve `False`."
   ]
  },
  {
   "cell_type": "code",
   "execution_count": 25,
   "metadata": {},
   "outputs": [
    {
     "name": "stdout",
     "output_type": "stream",
     "text": [
      "cadena1 contiene solo letras mayúsculas\n",
      "cadena2 no contiene solo letras mayúsculas\n"
     ]
    }
   ],
   "source": [
    "cadena1 = \"HOLA\"\n",
    "cadena2 = \"Hola\"\n",
    "if cadena1.isupper():\n",
    "    print(\"cadena1 contiene solo letras mayúsculas\")\n",
    "else:\n",
    "    print(\"cadena1 no contiene solo letras mayúsculas\")\n",
    "\n",
    "if cadena2.isupper():\n",
    "    print(\"cadena2 contiene solo letras mayúsculas\")\n",
    "else:\n",
    "    print(\"cadena2 no contiene solo letras mayúsculas\")"
   ]
  },
  {
   "attachments": {},
   "cell_type": "markdown",
   "metadata": {},
   "source": [
    "* **startswith():**\n",
    "\n",
    " Este método devuelve `True` si la cadena comienza con el prefijo especificado, de lo contrario devuelve `False`."
   ]
  },
  {
   "cell_type": "code",
   "execution_count": 26,
   "metadata": {},
   "outputs": [
    {
     "name": "stdout",
     "output_type": "stream",
     "text": [
      "cadena1 comienza con el prefijo 'Hola'\n",
      "cadena2 no comienza con el prefijo 'Hola'\n"
     ]
    }
   ],
   "source": [
    "cadena1 = \"Hola mundo\"\n",
    "cadena2 = \"Mundo Hola\"\n",
    "if cadena1.startswith(\"Hola\"):\n",
    "    print(\"cadena1 comienza con el prefijo 'Hola'\")\n",
    "else:\n",
    "    print(\"cadena1 no comienza con el prefijo 'Hola'\")\n",
    "\n",
    "if cadena2.startswith(\"Hola\"):\n",
    "    print(\"cadena2 comienza con el prefijo 'Hola'\")\n",
    "else:\n",
    "    print(\"cadena2 no comienza con el prefijo 'Hola'\")"
   ]
  },
  {
   "attachments": {},
   "cell_type": "markdown",
   "metadata": {},
   "source": [
    "* **Ejemplos:**"
   ]
  },
  {
   "cell_type": "code",
   "execution_count": 27,
   "metadata": {},
   "outputs": [],
   "source": [
    "# Ejemplo de métodos booleanos en strings\n",
    "\n",
    "# Definir una variable string\n",
    "texto = \"¡Hola Mundo!\""
   ]
  },
  {
   "cell_type": "code",
   "execution_count": 28,
   "metadata": {},
   "outputs": [
    {
     "name": "stdout",
     "output_type": "stream",
     "text": [
      "¿Comienza con '¡Hola'?: True\n"
     ]
    }
   ],
   "source": [
    "# Verificar si el string comienza con \"¡Hola\"\n",
    "comienza_con_hola = texto.startswith(\"¡Hola\")\n",
    "print(\"¿Comienza con '¡Hola'?:\", comienza_con_hola)"
   ]
  },
  {
   "cell_type": "code",
   "execution_count": 29,
   "metadata": {},
   "outputs": [
    {
     "name": "stdout",
     "output_type": "stream",
     "text": [
      "¿Termina con 'Mundo!'?: True\n"
     ]
    }
   ],
   "source": [
    "# Verificar si el string termina con \"Mundo!\"\n",
    "termina_con_mundo = texto.endswith(\"Mundo!\")\n",
    "print(\"¿Termina con 'Mundo!'?:\", termina_con_mundo)"
   ]
  },
  {
   "cell_type": "code",
   "execution_count": 30,
   "metadata": {},
   "outputs": [
    {
     "name": "stdout",
     "output_type": "stream",
     "text": [
      "¿Contiene 'hola'?: True\n"
     ]
    }
   ],
   "source": [
    "# Verificar si el string contiene \"hola\" en minúsculas\n",
    "contiene_hola = \"hola\" in texto.lower()\n",
    "print(\"¿Contiene 'hola'?:\", contiene_hola)"
   ]
  },
  {
   "cell_type": "code",
   "execution_count": 31,
   "metadata": {},
   "outputs": [
    {
     "name": "stdout",
     "output_type": "stream",
     "text": [
      "¿Es todo mayúsculas?: False\n"
     ]
    }
   ],
   "source": [
    "# Verificar si el string es completamente en mayúsculas\n",
    "es_todo_mayusculas = texto.isupper()\n",
    "print(\"¿Es todo mayúsculas?:\", es_todo_mayusculas)"
   ]
  },
  {
   "cell_type": "code",
   "execution_count": 32,
   "metadata": {},
   "outputs": [
    {
     "name": "stdout",
     "output_type": "stream",
     "text": [
      "¿Es todo minúsculas?: False\n"
     ]
    }
   ],
   "source": [
    "# Verificar si el string es completamente en minúsculas\n",
    "es_todo_minusculas = texto.islower()\n",
    "print(\"¿Es todo minúsculas?:\", es_todo_minusculas)"
   ]
  },
  {
   "cell_type": "code",
   "execution_count": 33,
   "metadata": {},
   "outputs": [
    {
     "name": "stdout",
     "output_type": "stream",
     "text": [
      "¿Es alfanumérico?: False\n"
     ]
    }
   ],
   "source": [
    "# Verificar si el string es alfanumérico\n",
    "es_alfanumerico = texto.isalnum()\n",
    "print(\"¿Es alfanumérico?:\", es_alfanumerico)"
   ]
  },
  {
   "cell_type": "code",
   "execution_count": 34,
   "metadata": {},
   "outputs": [
    {
     "name": "stdout",
     "output_type": "stream",
     "text": [
      "¿Contiene solo letras?: False\n"
     ]
    }
   ],
   "source": [
    "# Verificar si el string contiene solo letras\n",
    "solo_letras = texto.isalpha()\n",
    "print(\"¿Contiene solo letras?:\", solo_letras)"
   ]
  },
  {
   "cell_type": "code",
   "execution_count": 35,
   "metadata": {},
   "outputs": [
    {
     "name": "stdout",
     "output_type": "stream",
     "text": [
      "¿Contiene solo dígitos?: False\n"
     ]
    }
   ],
   "source": [
    "# Verificar si el string contiene solo dígitos\n",
    "solo_digitos = texto.isdigit()\n",
    "print(\"¿Contiene solo dígitos?:\", solo_digitos)"
   ]
  },
  {
   "cell_type": "code",
   "execution_count": 36,
   "metadata": {},
   "outputs": [
    {
     "name": "stdout",
     "output_type": "stream",
     "text": [
      "¿Contiene solo espacios en blanco?: False\n"
     ]
    }
   ],
   "source": [
    "# Verificar si el string contiene solo espacios en blanco\n",
    "solo_espacios = texto.isspace()\n",
    "print(\"¿Contiene solo espacios en blanco?:\", solo_espacios)"
   ]
  },
  {
   "attachments": {},
   "cell_type": "markdown",
   "metadata": {},
   "source": [
    "Los métodos booleanos de strings en Python son una serie de funciones predefinidas que se utilizan para comprobar si un string cumple con una determinada condición. Estos métodos devuelven valores booleanos (`True` o `False`) según corresponda.\n",
    "\n",
    "A continuación, se explican algunos de los métodos booleanos de strings más comunes en Python, junto con ejemplos:"
   ]
  },
  {
   "attachments": {},
   "cell_type": "markdown",
   "metadata": {},
   "source": [
    "* **startswith(prefix):**\n",
    "\n",
    " Devuelve `True` si el string comienza con la subcadena `prefix`, de lo contrario, devuelve `False`."
   ]
  },
  {
   "cell_type": "code",
   "execution_count": 37,
   "metadata": {},
   "outputs": [
    {
     "name": "stdout",
     "output_type": "stream",
     "text": [
      "True\n",
      "False\n"
     ]
    }
   ],
   "source": [
    "texto = \"Hola Mundo\"\n",
    "print(texto.startswith(\"Hola\"))  # True\n",
    "print(texto.startswith(\"Mundo\"))  # False"
   ]
  },
  {
   "attachments": {},
   "cell_type": "markdown",
   "metadata": {},
   "source": [
    "* **endswith(suffix):**\n",
    "\n",
    " Devuelve `True` si el string termina con la subcadena `suffix`, de lo contrario, devuelve `False`."
   ]
  },
  {
   "cell_type": "code",
   "execution_count": 38,
   "metadata": {},
   "outputs": [
    {
     "name": "stdout",
     "output_type": "stream",
     "text": [
      "True\n",
      "False\n"
     ]
    }
   ],
   "source": [
    "texto = \"Hola Mundo\"\n",
    "print(texto.endswith(\"Mundo\"))  # True\n",
    "print(texto.endswith(\"Hola\"))  # False"
   ]
  },
  {
   "attachments": {},
   "cell_type": "markdown",
   "metadata": {},
   "source": [
    "* **isupper():**\n",
    "\n",
    " Devuelve `True` si todos los caracteres del string están en mayúsculas, de lo contrario, devuelve `False`."
   ]
  },
  {
   "cell_type": "code",
   "execution_count": 39,
   "metadata": {},
   "outputs": [
    {
     "name": "stdout",
     "output_type": "stream",
     "text": [
      "True\n",
      "False\n"
     ]
    }
   ],
   "source": [
    "texto = \"HOLA MUNDO\"\n",
    "print(texto.isupper())  # True\n",
    "\n",
    "texto = \"Hola Mundo\"\n",
    "print(texto.isupper())  # False"
   ]
  },
  {
   "attachments": {},
   "cell_type": "markdown",
   "metadata": {},
   "source": [
    "* **islower():**\n",
    "\n",
    " Devuelve `True` si todos los caracteres del string están en minúsculas, de lo contrario, devuelve `False`."
   ]
  },
  {
   "cell_type": "code",
   "execution_count": 40,
   "metadata": {},
   "outputs": [
    {
     "name": "stdout",
     "output_type": "stream",
     "text": [
      "True\n",
      "False\n"
     ]
    }
   ],
   "source": [
    "texto = \"hola mundo\"\n",
    "print(texto.islower())  # True\n",
    "\n",
    "texto = \"Hola Mundo\"\n",
    "print(texto.islower())  # False"
   ]
  },
  {
   "attachments": {},
   "cell_type": "markdown",
   "metadata": {},
   "source": [
    "* **isalnum():**\n",
    "\n",
    " Devuelve `True` si todos los caracteres del string son alfanuméricos (es decir, letras o dígitos), de lo contrario, devuelve `False`."
   ]
  },
  {
   "cell_type": "code",
   "execution_count": 41,
   "metadata": {},
   "outputs": [
    {
     "name": "stdout",
     "output_type": "stream",
     "text": [
      "True\n",
      "False\n"
     ]
    }
   ],
   "source": [
    "texto = \"HolaMundo123\"\n",
    "print(texto.isalnum())  # True\n",
    "\n",
    "texto = \"Hola Mundo\"\n",
    "print(texto.isalnum())  # False"
   ]
  },
  {
   "attachments": {},
   "cell_type": "markdown",
   "metadata": {},
   "source": [
    "* **isalpha():**\n",
    "\n",
    " Devuelve `True` si todos los caracteres del string son letras, de lo contrario, devuelve `False`."
   ]
  },
  {
   "cell_type": "code",
   "execution_count": 42,
   "metadata": {},
   "outputs": [
    {
     "name": "stdout",
     "output_type": "stream",
     "text": [
      "True\n",
      "False\n"
     ]
    }
   ],
   "source": [
    "texto = \"HolaMundo\"\n",
    "print(texto.isalpha())  # True\n",
    "\n",
    "texto = \"Hola Mundo 123\"\n",
    "print(texto.isalpha())  # False"
   ]
  },
  {
   "attachments": {},
   "cell_type": "markdown",
   "metadata": {},
   "source": [
    "* **isdigit():**\n",
    "\n",
    " Devuelve `True` si todos los caracteres del string son dígitos, de lo contrario, devuelve `False`."
   ]
  },
  {
   "cell_type": "code",
   "execution_count": 43,
   "metadata": {},
   "outputs": [
    {
     "name": "stdout",
     "output_type": "stream",
     "text": [
      "True\n",
      "False\n"
     ]
    }
   ],
   "source": [
    "texto = \"123456\"\n",
    "print(texto.isdigit())  # True\n",
    "\n",
    "texto = \"Hola Mundo 123\"\n",
    "print(texto.isdigit())  # False"
   ]
  },
  {
   "attachments": {},
   "cell_type": "markdown",
   "metadata": {},
   "source": [
    "* **isspace():**\n",
    "\n",
    " Devuelve `True` si todos los caracteres del string son espacios en blanco, de lo contrario, devuelve `False`."
   ]
  },
  {
   "cell_type": "code",
   "execution_count": 44,
   "metadata": {},
   "outputs": [
    {
     "name": "stdout",
     "output_type": "stream",
     "text": [
      "True\n",
      "False\n"
     ]
    }
   ],
   "source": [
    "texto = \"   \"\n",
    "print(texto.isspace())  # True\n",
    "\n",
    "texto = \"Hola Mundo\"\n",
    "print(texto.isspace())  # False"
   ]
  },
  {
   "attachments": {},
   "cell_type": "markdown",
   "metadata": {},
   "source": [
    "Estos son solo algunos de los métodos booleanos de strings disponibles en Python. Al utilizar estos métodos, puedes comprobar si un string cumple con ciertas condiciones de una manera muy sencilla y eficiente."
   ]
  },
  {
   "attachments": {},
   "cell_type": "markdown",
   "metadata": {},
   "source": [
    "## **El operador de decisión if**"
   ]
  },
  {
   "attachments": {},
   "cell_type": "markdown",
   "metadata": {},
   "source": [
    "El operador de decisión `\"if\"` es uno de los más importantes en Python. Este operador permite que el programa tome decisiones basadas en ciertas condiciones. En otras palabras, el programa puede realizar diferentes acciones dependiendo de si una condición se cumple o no. La sintaxis del operador `\"if\"` es la siguiente:"
   ]
  },
  {
   "attachments": {},
   "cell_type": "markdown",
   "metadata": {},
   "source": [
    "```\n",
    "if condición:\n",
    "    # Código a ejecutar si la condición es verdadera\n",
    "```"
   ]
  },
  {
   "attachments": {},
   "cell_type": "markdown",
   "metadata": {},
   "source": [
    "La condición es una expresión que se evalúa como verdadera o falsa. Si la condición es verdadera, se ejecuta el código indentado que sigue al operador `\"if\"`. Si la condición es falsa, el código indentado se omite y el programa continúa ejecutando las instrucciones que vienen a continuación. Es importante recordar que el código indentado es esencial en Python, ya que indica el bloque de código que se ejecuta si la condición es verdadera.\n",
    "\n",
    "Veamos un ejemplo:"
   ]
  },
  {
   "cell_type": "code",
   "execution_count": 45,
   "metadata": {},
   "outputs": [
    {
     "name": "stdout",
     "output_type": "stream",
     "text": [
      "Eres mayor de edad\n"
     ]
    }
   ],
   "source": [
    "edad = 20\n",
    "if edad >= 18:\n",
    "    print(\"Eres mayor de edad\")"
   ]
  },
  {
   "attachments": {},
   "cell_type": "markdown",
   "metadata": {},
   "source": [
    "En este ejemplo, la variable \"`edad`\" tiene un valor de `20`. La condición en el operador \"`if`\" evalúa si la edad es mayor o igual a `18`. Como la edad es mayor o igual a `18`, la condición se cumple y se ejecuta el código indentado que muestra el mensaje \"`Eres mayor de edad`\".\n",
    "\n",
    "También es posible utilizar la cláusula `\"else\"` con el operador `\"if\"` para ejecutar un bloque de código si la condición es falsa. La sintaxis es la siguiente:"
   ]
  },
  {
   "attachments": {},
   "cell_type": "markdown",
   "metadata": {},
   "source": [
    "```\n",
    "if condición:\n",
    "    # Código a ejecutar si la condición es verdadera\n",
    "else:\n",
    "    # Código a ejecutar si la condición es falsa\n",
    "```"
   ]
  },
  {
   "attachments": {},
   "cell_type": "markdown",
   "metadata": {},
   "source": [
    "Veamos un ejemplo:"
   ]
  },
  {
   "cell_type": "code",
   "execution_count": 46,
   "metadata": {},
   "outputs": [
    {
     "name": "stdout",
     "output_type": "stream",
     "text": [
      "Eres menor de edad\n"
     ]
    }
   ],
   "source": [
    "edad = 15\n",
    "if edad >= 18:\n",
    "    print(\"Eres mayor de edad\")\n",
    "else:\n",
    "    print(\"Eres menor de edad\")"
   ]
  },
  {
   "attachments": {},
   "cell_type": "markdown",
   "metadata": {},
   "source": [
    "En este ejemplo, la variable \"`edad`\" tiene un valor de `15`. La condición en el operador `\"if\"` evalúa si la edad es mayor o igual a `18`. Como la edad es menor que `18`, la condición es falsa y se ejecuta el código indentado que muestra el mensaje \"`Eres menor de edad`\".\n",
    "\n",
    "También se pueden utilizar múltiples operadores `\"if\"` para evaluar diferentes condiciones. En este caso, se utiliza la cláusula `\"elif\"` para evaluar condiciones adicionales. La sintaxis es la siguiente:"
   ]
  },
  {
   "attachments": {},
   "cell_type": "markdown",
   "metadata": {},
   "source": [
    "```\n",
    "if condición1:\n",
    "    # Código a ejecutar si la condición1 es verdadera\n",
    "elif condición2:\n",
    "    # Código a ejecutar si la condición1 es falsa y la condición2 es verdadera\n",
    "else:\n",
    "    # Código a ejecutar si todas las condiciones son falsas\n",
    "```"
   ]
  },
  {
   "attachments": {},
   "cell_type": "markdown",
   "metadata": {},
   "source": [
    "Veamos un ejemplo:"
   ]
  },
  {
   "cell_type": "code",
   "execution_count": 47,
   "metadata": {},
   "outputs": [
    {
     "name": "stdout",
     "output_type": "stream",
     "text": [
      "Tienes una B\n"
     ]
    }
   ],
   "source": [
    "nota = 80\n",
    "if nota >= 90:\n",
    "    print(\"Tienes una A\")\n",
    "elif nota >= 80:\n",
    "    print(\"Tienes una B\")\n",
    "elif nota >= 70:\n",
    "    print(\"Tienes una C\")\n",
    "else:\n",
    "    print(\"Tienes una D\")"
   ]
  },
  {
   "attachments": {},
   "cell_type": "markdown",
   "metadata": {},
   "source": [
    "En este ejemplo, la variable \"`nota`\" tiene un valor de `80`. El operador `\"if\"` evalúa si la nota es mayor o igual a `90`, pero como esta condición no se cumple, se evalúa la siguiente condición en la cláusula `\"elif\"`."
   ]
  },
  {
   "attachments": {},
   "cell_type": "markdown",
   "metadata": {},
   "source": [
    "## **El operador de decisión else**"
   ]
  },
  {
   "attachments": {},
   "cell_type": "markdown",
   "metadata": {},
   "source": [
    "El operador de decisión `else` en Python se utiliza en conjunto con el operador `if` para crear una bifurcación en el flujo de ejecución del programa. Mientras que el operador `if` se usa para ejecutar un bloque de código si una determinada condición es verdadera, el operador `else` se utiliza para ejecutar un bloque de código si la condición es falsa.\n",
    "\n",
    "La sintaxis básica del operador `else` es la siguiente:"
   ]
  },
  {
   "attachments": {},
   "cell_type": "markdown",
   "metadata": {},
   "source": [
    "```\n",
    "if condición:\n",
    "    # bloque de código si la condición es verdadera\n",
    "else:\n",
    "    # bloque de código si la condición es falsa\n",
    "```"
   ]
  },
  {
   "attachments": {},
   "cell_type": "markdown",
   "metadata": {},
   "source": [
    "Aquí, si la condición es verdadera, se ejecuta el bloque de código que se encuentra debajo del operador `if`. De lo contrario, se ejecuta el bloque de código que se encuentra debajo del operador `else`."
   ]
  },
  {
   "cell_type": "code",
   "execution_count": 48,
   "metadata": {},
   "outputs": [
    {
     "name": "stdout",
     "output_type": "stream",
     "text": [
      "Eres mayor de edad\n"
     ]
    }
   ],
   "source": [
    "edad = 18\n",
    "\n",
    "if edad >= 18:\n",
    "    print(\"Eres mayor de edad\")\n",
    "else:\n",
    "    print(\"Eres menor de edad\")"
   ]
  },
  {
   "attachments": {},
   "cell_type": "markdown",
   "metadata": {},
   "source": [
    "En este ejemplo, la variable edad tiene un valor de `18`. La condición edad `>= 18` es verdadera, por lo que se ejecuta el bloque de código que se encuentra debajo del operador `if` y se imprime \"`Eres mayor de edad`\"."
   ]
  },
  {
   "attachments": {},
   "cell_type": "markdown",
   "metadata": {},
   "source": [
    "Ahora cambiemos el valor de edad a `16`:"
   ]
  },
  {
   "cell_type": "code",
   "execution_count": 49,
   "metadata": {},
   "outputs": [
    {
     "name": "stdout",
     "output_type": "stream",
     "text": [
      "Eres menor de edad\n"
     ]
    }
   ],
   "source": [
    "edad = 16\n",
    "\n",
    "if edad >= 18:\n",
    "    print(\"Eres mayor de edad\")\n",
    "else:\n",
    "    print(\"Eres menor de edad\")"
   ]
  },
  {
   "attachments": {},
   "cell_type": "markdown",
   "metadata": {},
   "source": [
    "En este caso, la condición `edad >= 18` es falsa, por lo que se ejecuta el bloque de código que se encuentra debajo del operador `else` y se imprime \"`Eres menor de edad`\"."
   ]
  },
  {
   "attachments": {},
   "cell_type": "markdown",
   "metadata": {},
   "source": [
    "## **El operador de decisión elif**"
   ]
  },
  {
   "attachments": {},
   "cell_type": "markdown",
   "metadata": {},
   "source": [
    "El operador de decisión `elif` en Python se utiliza para agregar una tercera o más condiciones a una serie de decisiones, en conjunción con los operadores `if` y `else`. La palabra `\"elif\"` es una contracción de `\"else if\"`.\n",
    "\n",
    "La sintaxis básica del operador `elif` es la siguiente:"
   ]
  },
  {
   "attachments": {},
   "cell_type": "markdown",
   "metadata": {},
   "source": [
    "```\n",
    "if condición1:\n",
    "    # bloque de código si la condición1 es verdadera\n",
    "elif condición2:\n",
    "    # bloque de código si la condición2 es verdadera\n",
    "else:\n",
    "    # bloque de código si ninguna de las condiciones es verdadera\n",
    "```"
   ]
  },
  {
   "attachments": {},
   "cell_type": "markdown",
   "metadata": {},
   "source": [
    "Aquí, primero se evalúa la `condición1`. Si es verdadera, se ejecuta el bloque de código debajo del operador `if` y se salta las condiciones `elif` y `else`. Si es falsa, se evalúa la `condición2`. Si la `condición2` es verdadera, se ejecuta el bloque de código debajo del operador ```elif``` y se salta el bloque de código debajo del operador ```else```. Si ambas condiciones son falsas, se ejecuta el bloque de código debajo del operador ```else```.\n",
    "\n",
    "Veamos un ejemplo:"
   ]
  },
  {
   "cell_type": "code",
   "execution_count": 50,
   "metadata": {},
   "outputs": [
    {
     "name": "stdout",
     "output_type": "stream",
     "text": [
      "Obtuviste una B\n"
     ]
    }
   ],
   "source": [
    "puntaje = 80\n",
    "\n",
    "if puntaje >= 90:\n",
    "    print(\"Obtuviste una A\")\n",
    "elif puntaje >= 80:\n",
    "    print(\"Obtuviste una B\")\n",
    "elif puntaje >= 70:\n",
    "    print(\"Obtuviste una C\")\n",
    "else:\n",
    "    print(\"Obtuviste una F\")"
   ]
  },
  {
   "attachments": {},
   "cell_type": "markdown",
   "metadata": {},
   "source": [
    "En este ejemplo, la variable puntaje tiene un valor de `80`. Se evalúa la primera condición `(puntaje >= 90)` y se determina que es falsa. Luego se evalúa la segunda condición `(puntaje >= 80)` y se determina que es verdadera. Por lo tanto, se ejecuta el bloque de código debajo del operador `elif` y se imprime \"Obtuviste una B\". El código debajo de los operadores `elif` posteriores no se ejecuta ya que se ha encontrado una condición verdadera."
   ]
  },
  {
   "attachments": {},
   "cell_type": "markdown",
   "metadata": {},
   "source": [
    "## **El operador ternario**"
   ]
  },
  {
   "attachments": {},
   "cell_type": "markdown",
   "metadata": {},
   "source": [
    "En Python, el operador ternario es una forma concisa de escribir una expresión condicional en una sola línea. La sintaxis básica del operador ternario es:"
   ]
  },
  {
   "attachments": {},
   "cell_type": "markdown",
   "metadata": {},
   "source": [
    "`valor_si_verdadero if condición else valor_si_falso`"
   ]
  },
  {
   "attachments": {},
   "cell_type": "markdown",
   "metadata": {},
   "source": [
    "La expresión se evalúa primero para determinar si la condición es verdadera o falsa. Si es verdadera, se devuelve el valor `valor_si_verdadero`, y si es falsa, se devuelve el valor `valor_si_falso`.\n",
    "\n",
    "Veamos algunos ejemplos:"
   ]
  },
  {
   "attachments": {},
   "cell_type": "markdown",
   "metadata": {},
   "source": [
    "* **Ejemplo 1:**"
   ]
  },
  {
   "cell_type": "code",
   "execution_count": 51,
   "metadata": {},
   "outputs": [
    {
     "name": "stdout",
     "output_type": "stream",
     "text": [
      "Mayor de edad\n"
     ]
    }
   ],
   "source": [
    "edad = 20\n",
    "mensaje = \"Mayor de edad\" if edad >= 18 else \"Menor de edad\"\n",
    "print(mensaje)"
   ]
  },
  {
   "attachments": {},
   "cell_type": "markdown",
   "metadata": {},
   "source": [
    "En este ejemplo, la variable `edad` tiene un valor de `20`. La expresión condicional se evalúa para determinar si `edad >= 18` es verdadero o falso. Como `edad` es mayor o igual a `18`, la condición es verdadera y se asigna el valor \"Mayor de edad\" a la variable `mensaje`, que luego se imprime."
   ]
  },
  {
   "attachments": {},
   "cell_type": "markdown",
   "metadata": {},
   "source": [
    "* **Ejemplo 2:**"
   ]
  },
  {
   "cell_type": "code",
   "execution_count": 52,
   "metadata": {},
   "outputs": [
    {
     "name": "stdout",
     "output_type": "stream",
     "text": [
      "20\n"
     ]
    }
   ],
   "source": [
    "num1 = 10\n",
    "num2 = 20\n",
    "maximo = num1 if num1 > num2 else num2\n",
    "print(maximo)"
   ]
  },
  {
   "attachments": {},
   "cell_type": "markdown",
   "metadata": {},
   "source": [
    "En este ejemplo, se comparan dos variables `num1` y `num2`. La expresión condicional se evalúa para determinar si `num1 > num2` es verdadero o falso. Como `num2` es mayor que `num1`, la condición es falsa y se asigna el valor de `num2` a la variable maximo, que luego se imprime.\n",
    "\n",
    "El uso del operador ternario puede hacer que el código sea más fácil de leer y escribir en algunos casos en los que se requiere una expresión condicional simple. Sin embargo, su uso excesivo puede hacer que el código sea menos legible, por lo que se debe utilizar con moderación."
   ]
  },
  {
   "attachments": {},
   "cell_type": "markdown",
   "metadata": {},
   "source": [
    "## **Operadores if y else anidados**"
   ]
  },
  {
   "attachments": {},
   "cell_type": "markdown",
   "metadata": {},
   "source": [
    "En Python, los operadores `if` y `else` se pueden anidar para formar estructuras de control más complejas. Esto permite que una acción se realice solo si se cumple una serie de condiciones especificadas."
   ]
  },
  {
   "attachments": {},
   "cell_type": "markdown",
   "metadata": {},
   "source": [
    "La sintaxis general de un operador `if` y `else` anidado en Python es la siguiente:"
   ]
  },
  {
   "attachments": {},
   "cell_type": "markdown",
   "metadata": {},
   "source": [
    "```\n",
    "if condición1:\n",
    "    # Si se cumple la condición1, se ejecutan estas líneas de código\n",
    "    if condición2:\n",
    "        # Si también se cumple la condición2, se ejecutan estas líneas de código\n",
    "    else:\n",
    "        # Si la condición2 no se cumple, se ejecutan estas líneas de código\n",
    "else:\n",
    "    # Si la condición1 no se cumple, se ejecutan estas líneas de código\n",
    "```"
   ]
  },
  {
   "attachments": {},
   "cell_type": "markdown",
   "metadata": {},
   "source": [
    "Aquí hay un ejemplo que ilustra el uso de operadores `if` y `else` anidados en Python:"
   ]
  },
  {
   "cell_type": "code",
   "execution_count": 53,
   "metadata": {},
   "outputs": [
    {
     "name": "stdout",
     "output_type": "stream",
     "text": [
      "x es mayor que 10\n",
      "x es menor o igual que 20\n"
     ]
    }
   ],
   "source": [
    "x = 15\n",
    "\n",
    "if x > 10:\n",
    "    print(\"x es mayor que 10\")\n",
    "    if x > 20:\n",
    "        print(\"x es también mayor que 20\")\n",
    "    else:\n",
    "        print(\"x es menor o igual que 20\")\n",
    "else:\n",
    "    print(\"x es menor o igual que 10\")"
   ]
  },
  {
   "attachments": {},
   "cell_type": "markdown",
   "metadata": {},
   "source": [
    "En este ejemplo, se utiliza un operador `if` anidado dentro de otro operador `if`. Si `x` es mayor que `10`, se ejecutan las líneas de código dentro del primer bloque `if`, que imprime `\"x es mayor que 10\"`. Luego, se evalúa la condición `x > 20`. Si es verdadera, se ejecutan las líneas de código dentro del segundo bloque `if`, que imprime `\"x es también mayor que 20\"`. Si la condición `x > 20` es falsa, se ejecutan las líneas de código dentro del bloque `else`, que imprime `\"x es menor o igual que 20\"`. Si la condición `x > 10` es falsa, se ejecutan las líneas de código dentro del bloque `else`, que imprime `\"x es menor o igual que 10\"`."
   ]
  },
  {
   "attachments": {},
   "cell_type": "markdown",
   "metadata": {},
   "source": [
    "## **Operadores**"
   ]
  },
  {
   "attachments": {},
   "cell_type": "markdown",
   "metadata": {},
   "source": [
    "### **Booleano**"
   ]
  },
  {
   "attachments": {},
   "cell_type": "markdown",
   "metadata": {},
   "source": [
    "Un tipo de datos booleano representa uno de los dos valores: `True` o `False`. El uso de estos tipos de datos quedará claro una vez que comencemos a usar el operador de comparación. La primera letra `T` para Verdadero y `F` para Falso debe ser mayúscula a diferencia de JavaScript.\n",
    "\n",
    "**Ejemplo:** valores booleanos"
   ]
  },
  {
   "cell_type": "code",
   "execution_count": 54,
   "metadata": {},
   "outputs": [
    {
     "name": "stdout",
     "output_type": "stream",
     "text": [
      "True\n",
      "False\n"
     ]
    }
   ],
   "source": [
    "print(True)\n",
    "print(False)"
   ]
  },
  {
   "attachments": {},
   "cell_type": "markdown",
   "metadata": {},
   "source": [
    "### **Operadores**"
   ]
  },
  {
   "attachments": {},
   "cell_type": "markdown",
   "metadata": {},
   "source": [
    "El lenguaje Python admite varios tipos de operadores. En esta sección, nos centraremos en algunos de ellos."
   ]
  },
  {
   "attachments": {},
   "cell_type": "markdown",
   "metadata": {},
   "source": [
    "### **Operadores de Asignación**"
   ]
  },
  {
   "attachments": {},
   "cell_type": "markdown",
   "metadata": {},
   "source": [
    "Los operadores de asignación se utilizan para asignar valores a las variables. Tomemos `=` como ejemplo. El signo igual en matemáticas muestra que dos valores son iguales, sin embargo, en Python significa que estamos almacenando un valor en una determinada variable y lo llamamos asignación o asignación de valor a una variable. La siguiente tabla muestra los diferentes tipos de operadores de asignación de Python."
   ]
  },
  {
   "attachments": {},
   "cell_type": "markdown",
   "metadata": {},
   "source": [
    "![Operadores de Asignacion](../imagenes%20Python/assignment_operators.png \"Operadores de Asignacion\")"
   ]
  },
  {
   "attachments": {},
   "cell_type": "markdown",
   "metadata": {},
   "source": [
    "**Operadores aritméticos:**\n",
    "* **Suma(+):** a + b\n",
    "* **Resta(-):** a - b\n",
    "* **Multiplicación(*):** a * b\n",
    "* **División(/):** a / b\n",
    "* **Módulo(%):** a % b\n",
    "* **División de piso(//):** a // b\n",
    "* **Exponenciación(`**`):** a ** b"
   ]
  },
  {
   "attachments": {},
   "cell_type": "markdown",
   "metadata": {},
   "source": [
    "![Operadores aritmeticos](../imagenes%20Python/arithmetic_operators.png \"Operadores aritmeticos\")"
   ]
  },
  {
   "attachments": {},
   "cell_type": "markdown",
   "metadata": {},
   "source": [
    "* **Ejemplo: Enteros**"
   ]
  },
  {
   "cell_type": "code",
   "execution_count": 55,
   "metadata": {},
   "outputs": [
    {
     "name": "stdout",
     "output_type": "stream",
     "text": [
      "Addition:  3\n",
      "Subtraction:  1\n",
      "Multiplication:  6\n",
      "Division:  2.0\n",
      "Division:  3.0\n",
      "Division:  3.5\n",
      "Division without the remainder:  3\n",
      "Division without the remainder:  2\n",
      "Modulus:  1\n",
      "Exponentiation:  8\n"
     ]
    }
   ],
   "source": [
    "# Operaciones aritméticas en Python\n",
    "# enteros\n",
    "\n",
    "print('Addition: ', 1 + 2)        # 3\n",
    "print('Subtraction: ', 2 - 1)     # 1\n",
    "print('Multiplication: ', 2 * 3)  # 6\n",
    "print ('Division: ', 4 / 2)       # 2.0  Division in Python gives floating number\n",
    "print('Division: ', 6 / 2)        # 3.0\n",
    "print('Division: ', 7 / 2)        # 3.5\n",
    "print('Division without the remainder: ', 7 // 2)   # 3,  gives without the floating number or without the remaining\n",
    "print ('Division without the remainder: ',7 // 3)   # 2\n",
    "print('Modulus: ', 3 % 2)         # 1, Gives the remainder\n",
    "print('Exponentiation: ', 2 ** 3) # 9 it means 2 * 2 * 2"
   ]
  },
  {
   "attachments": {},
   "cell_type": "markdown",
   "metadata": {},
   "source": [
    "* **Ejemplo: Flotadores**"
   ]
  },
  {
   "cell_type": "code",
   "execution_count": 56,
   "metadata": {},
   "outputs": [
    {
     "name": "stdout",
     "output_type": "stream",
     "text": [
      "Floating Point Number, PI 3.14\n",
      "Floating Point Number, gravity 9.81\n"
     ]
    }
   ],
   "source": [
    "# Números flotantes\n",
    "print('Floating Point Number, PI', 3.14)\n",
    "print('Floating Point Number, gravity', 9.81)"
   ]
  },
  {
   "attachments": {},
   "cell_type": "markdown",
   "metadata": {},
   "source": [
    "* **Ejemplo: Números complejos**"
   ]
  },
  {
   "cell_type": "code",
   "execution_count": 57,
   "metadata": {},
   "outputs": [
    {
     "name": "stdout",
     "output_type": "stream",
     "text": [
      "Complex number:  (1+1j)\n",
      "Multiplying complex numbers:  (2+0j)\n"
     ]
    }
   ],
   "source": [
    "# Números complejos\n",
    "print('Complex number: ', 1 + 1j)\n",
    "print('Multiplying complex numbers: ',(1 + 1j) * (1 - 1j))"
   ]
  },
  {
   "attachments": {},
   "cell_type": "markdown",
   "metadata": {},
   "source": [
    "Declaremos una variable y asignemos un tipo de dato numérico. Voy a usar una variable de un solo carácter, pero recuerde que no desarrolle el hábito de declarar este tipo de variables. Los nombres de las variables deben ser siempre mnemotécnicos.\n",
    "\n",
    "**Ejemplo:**"
   ]
  },
  {
   "cell_type": "code",
   "execution_count": 58,
   "metadata": {},
   "outputs": [
    {
     "name": "stdout",
     "output_type": "stream",
     "text": [
      "5\n",
      "a + b =  5\n",
      "a - b =  1\n",
      "a * b =  6\n",
      "a / b =  1.5\n",
      "a % b =  1\n",
      "a // b =  1\n",
      "a ** b =  9\n"
     ]
    }
   ],
   "source": [
    "# Declarar la variable en la parte superior primero\n",
    "\n",
    "a = 3 # a es un nombre de variable y 3 es un tipo de dato entero\n",
    "b = 2 # b es un nombre de variable y 3 es un tipo de dato entero\n",
    "\n",
    "# Operaciones aritméticas y asignación del resultado a una variable\n",
    "total = a + b\n",
    "diff = a - b\n",
    "product = a * b\n",
    "division = a / b\n",
    "remainder = a % b\n",
    "floor_division = a // b\n",
    "exponential = a ** b\n",
    "\n",
    "# Debería haber usado sum en lugar de total, pero sum es una función integrada; trate de evitar anular las funciones integradas\n",
    "print(total) # si no etiqueta su impresión con alguna cadena, nunca sabrá de dónde viene el resultado\n",
    "print('a + b = ', total)\n",
    "print('a - b = ', diff)\n",
    "print('a * b = ', product)\n",
    "print('a / b = ', division)\n",
    "print('a % b = ', remainder)\n",
    "print('a // b = ', floor_division)\n",
    "print('a ** b = ', exponential)"
   ]
  },
  {
   "attachments": {},
   "cell_type": "markdown",
   "metadata": {},
   "source": [
    "* **Ejemplo:**"
   ]
  },
  {
   "cell_type": "code",
   "execution_count": 59,
   "metadata": {},
   "outputs": [
    {
     "name": "stdout",
     "output_type": "stream",
     "text": [
      "== Addition, Subtraction, Multiplication, Division, Modulus ==\n",
      "total:  7\n",
      "difference:  1\n",
      "product:  12\n",
      "division:  1.3333333333333333\n",
      "remainder:  1\n"
     ]
    }
   ],
   "source": [
    "print('== Addition, Subtraction, Multiplication, Division, Modulus ==')\n",
    "\n",
    "# Declarar valores y organizarlos juntos\n",
    "num_one = 3\n",
    "num_two = 4\n",
    "\n",
    "# Operaciones aritmeticas\n",
    "total = num_one + num_two\n",
    "diff = num_two - num_one\n",
    "product = num_one * num_two\n",
    "div = num_two / num_one\n",
    "remainder = num_two % num_one\n",
    "\n",
    "# Imprimiendo valores con etiqueta\n",
    "print('total: ', total)\n",
    "print('difference: ', diff)\n",
    "print('product: ', product)\n",
    "print('division: ', div)\n",
    "print('remainder: ', remainder)"
   ]
  },
  {
   "attachments": {},
   "cell_type": "markdown",
   "metadata": {},
   "source": [
    "Empecemos a conectar los puntos y empecemos a hacer uso de lo que ya sabemos para calcular (área, volumen, densidad, peso, perímetro, distancia, fuerza).\n",
    "\n",
    "**Ejemplo:**"
   ]
  },
  {
   "cell_type": "code",
   "execution_count": 60,
   "metadata": {},
   "outputs": [
    {
     "name": "stdout",
     "output_type": "stream",
     "text": [
      "Area of a circle: 314.0\n",
      "Area of rectangle: 200\n",
      "735.75 N\n",
      "1000.0\n"
     ]
    }
   ],
   "source": [
    "# Cálculo del área de un círculo\n",
    "radius = 10                                 # radio de un círculo\n",
    "area_of_circle = 3.14 * radius ** 2         # dos * signo significa exponente o potencia\n",
    "print('Area of a circle:', area_of_circle)\n",
    "\n",
    "# Calcular el área de un rectángulo\n",
    "length = 10\n",
    "width = 20\n",
    "area_of_rectangle = length * width\n",
    "print('Area of rectangle:', area_of_rectangle)\n",
    "\n",
    "# Calcular el peso de un objeto\n",
    "mass = 75\n",
    "gravity = 9.81\n",
    "weight = mass * gravity\n",
    "print(weight, 'N')                         # Agregando unidad al peso\n",
    "\n",
    "# Calcular la densidad de un líquido\n",
    "mass = 75 # en Kg\n",
    "volume = 0.075 # en metro cúbico\n",
    "density = mass / volume # 1000 Kg/m^3\n",
    "print(density)"
   ]
  },
  {
   "attachments": {},
   "cell_type": "markdown",
   "metadata": {},
   "source": [
    "## **Operadores de comparación**"
   ]
  },
  {
   "attachments": {},
   "cell_type": "markdown",
   "metadata": {},
   "source": [
    "En programación comparamos valores, usamos operadores de comparación para comparar dos valores. Comprobamos si un valor es mayor o menor o igual a otro valor."
   ]
  },
  {
   "attachments": {},
   "cell_type": "markdown",
   "metadata": {},
   "source": [
    "![Operadores de comparacion](../imagenes%20Python/comparison_operators.png \"Operadores de comparacion\")"
   ]
  },
  {
   "attachments": {},
   "cell_type": "markdown",
   "metadata": {},
   "source": [
    "* **Ejemplo: Operadores de comparación**"
   ]
  },
  {
   "cell_type": "code",
   "execution_count": 61,
   "metadata": {},
   "outputs": [
    {
     "name": "stdout",
     "output_type": "stream",
     "text": [
      "True\n",
      "True\n",
      "False\n",
      "True\n",
      "True\n",
      "False\n",
      "True\n",
      "False\n",
      "True\n",
      "True\n",
      "False\n",
      "True\n",
      "True\n",
      "False\n",
      "True == True:  True\n",
      "True == False:  False\n",
      "False == False: True\n"
     ]
    }
   ],
   "source": [
    "print(3 > 2)     # True, porque 3 es mayor que 2\n",
    "print(3 >= 2)    # True, porque 3 es mayor que 2\n",
    "print(3 < 2)     # False, porque 3 es mayor que 2\n",
    "print(2 < 3)     # True, porque 2 es menor que 3\n",
    "print(2 <= 3)    # True, porque 2 es menor que 3\n",
    "print(3 == 2)    # False, porque 3 no es igual a 2\n",
    "print(3 != 2)    # True, porque 3 no es igual a 2\n",
    "print(len('mango') == len('avocado'))  # False\n",
    "print(len('mango') != len('avocado'))  # True\n",
    "print(len('mango') < len('avocado'))   # True\n",
    "print(len('milk') != len('meat'))      # False\n",
    "print(len('milk') == len('meat'))      # True\n",
    "print(len('tomato') == len('potato'))  # True\n",
    "print(len('python') > len('dragon'))   # False\n",
    "\n",
    "# Comparar algo da un  True o False\n",
    "\n",
    "print('True == True: ', True == True)\n",
    "print('True == False: ', True == False)\n",
    "print('False == False:', False == False)"
   ]
  },
  {
   "attachments": {},
   "cell_type": "markdown",
   "metadata": {},
   "source": [
    "Además del operador de comparación anterior, Python usa:\n",
    "\n",
    "* `is` : Devuelve verdadero si ambas variables son el mismo objeto `(x is y)`\n",
    "* `is not` : Devuelve verdadero si ambas variables no son el mismo objeto `(x is not y)`\n",
    "* `in` : Devuelve True si la lista consultada contiene un determinado elemento `(x in y)`\n",
    "* `not in` : Devuelve True si la lista consultada no tiene un determinado elemento `(x not in y)`"
   ]
  },
  {
   "cell_type": "code",
   "execution_count": 62,
   "metadata": {},
   "outputs": [
    {
     "name": "stdout",
     "output_type": "stream",
     "text": [
      "1 is 1 True\n",
      "1 is not 2 True\n",
      "A in Asabeneh True\n",
      "B in Asabeneh False\n",
      "True\n",
      "a in an: True\n",
      "4 is 2 ** 2: True\n"
     ]
    },
    {
     "name": "stderr",
     "output_type": "stream",
     "text": [
      "<>:1: SyntaxWarning: \"is\" with a literal. Did you mean \"==\"?\n",
      "<>:2: SyntaxWarning: \"is not\" with a literal. Did you mean \"!=\"?\n",
      "<>:7: SyntaxWarning: \"is\" with a literal. Did you mean \"==\"?\n",
      "<>:1: SyntaxWarning: \"is\" with a literal. Did you mean \"==\"?\n",
      "<>:2: SyntaxWarning: \"is not\" with a literal. Did you mean \"!=\"?\n",
      "<>:7: SyntaxWarning: \"is\" with a literal. Did you mean \"==\"?\n",
      "/tmp/ipykernel_2715/2032869834.py:1: SyntaxWarning: \"is\" with a literal. Did you mean \"==\"?\n",
      "  print('1 is 1', 1 is 1)                   # True - porque los valores de los datos son los mismos\n",
      "/tmp/ipykernel_2715/2032869834.py:2: SyntaxWarning: \"is not\" with a literal. Did you mean \"!=\"?\n",
      "  print('1 is not 2', 1 is not 2)           # True - porque 1 no es 2\n",
      "/tmp/ipykernel_2715/2032869834.py:7: SyntaxWarning: \"is\" with a literal. Did you mean \"==\"?\n",
      "  print('4 is 2 ** 2:', 4 is 2 ** 2)   # True\n"
     ]
    }
   ],
   "source": [
    "print('1 is 1', 1 is 1)                   # True - porque los valores de los datos son los mismos\n",
    "print('1 is not 2', 1 is not 2)           # True - porque 1 no es 2\n",
    "print('A in Asabeneh', 'A' in 'Asabeneh') # True - A encontrado en la cadena\n",
    "print('B in Asabeneh', 'B' in 'Asabeneh') # False - no hay B mayúscula\n",
    "print('coding' in 'coding for all') # True - porque la codificación para todos tiene la palabra codificación\n",
    "print('a in an:', 'a' in 'an')      # True\n",
    "print('4 is 2 ** 2:', 4 is 2 ** 2)   # True"
   ]
  },
  {
   "attachments": {},
   "cell_type": "markdown",
   "metadata": {},
   "source": [
    "## **Operadores logicos**"
   ]
  },
  {
   "attachments": {},
   "cell_type": "markdown",
   "metadata": {},
   "source": [
    "A diferencia de otros lenguajes de programación, Python usa palabras clave `and`,  `or and` para los operadores lógicos. Los operadores lógicos se utilizan para combinar sentencias condicionales:"
   ]
  },
  {
   "attachments": {},
   "cell_type": "markdown",
   "metadata": {},
   "source": [
    "![Operadores logicos](../imagenes%20Python/logical_operators.png \"Operadores logicos\")"
   ]
  },
  {
   "cell_type": "code",
   "execution_count": 63,
   "metadata": {},
   "outputs": [
    {
     "name": "stdout",
     "output_type": "stream",
     "text": [
      "True\n",
      "False\n",
      "False\n",
      "True and True:  True\n",
      "True\n",
      "True\n",
      "False\n",
      "True or False: True\n",
      "False\n",
      "False\n",
      "True\n",
      "True\n",
      "False\n"
     ]
    }
   ],
   "source": [
    "print(3 > 2 and 4 > 3) # True - porque ambas declaraciones son verdaderas\n",
    "print(3 > 2 and 4 < 3) # False - porque la segunda declaración es false\n",
    "print(3 < 2 and 4 < 3) # False - porque ambas declaraciones son false\n",
    "print('True and True: ', True and True)\n",
    "print(3 > 2 or 4 > 3)  # True - porque ambas declaraciones son True\n",
    "print(3 > 2 or 4 < 3)  # True - porque una de las declaraciones es true\n",
    "print(3 < 2 or 4 < 3)  # False - porque ambas declaraciones son false\n",
    "print('True or False:', True or False)\n",
    "print(not 3 > 2)     # False - porque 3 > 2 es verdadero, entonces no True da False\n",
    "print(not True)      # False - Negación, el operador not cambia de true a false\n",
    "print(not False)     # True\n",
    "print(not not True)  # True\n",
    "print(not not False) # False"
   ]
  },
  {
   "attachments": {},
   "cell_type": "markdown",
   "metadata": {},
   "source": [
    "| **Inicio** | **atrás 3** | **Siguiente 5** |\n",
    "|----------- |-------------- |---------------|\n",
    "| [🏠](../../README.md) | [⏪](./3.Strings_en_Python.ipynb)| [⏩](./5.Operadores_de_iteracion.ipynb)|"
   ]
  }
 ],
 "metadata": {
  "kernelspec": {
   "display_name": "base",
   "language": "python",
   "name": "python3"
  },
  "language_info": {
   "codemirror_mode": {
    "name": "ipython",
    "version": 3
   },
   "file_extension": ".py",
   "mimetype": "text/x-python",
   "name": "python",
   "nbconvert_exporter": "python",
   "pygments_lexer": "ipython3",
   "version": "3.9.12"
  },
  "orig_nbformat": 4
 },
 "nbformat": 4,
 "nbformat_minor": 2
}
