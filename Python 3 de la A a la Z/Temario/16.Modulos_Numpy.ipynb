{
 "cells": [
  {
   "attachments": {},
   "cell_type": "markdown",
   "metadata": {},
   "source": [
    "| **Inicio** | **atrás 15** | **Siguiente 17** |\n",
    "|----------- |-------------- |---------------|\n",
    "| [🏠](../../README.md) | [⏪](./15.Modulos_de_math_cmath.ipynb)| [⏩](./17.Representacion_grafica.ipynb)|"
   ]
  },
  {
   "attachments": {},
   "cell_type": "markdown",
   "metadata": {},
   "source": [
    "# **16. Modulos de Python: Numpy**"
   ]
  },
  {
   "attachments": {},
   "cell_type": "markdown",
   "metadata": {},
   "source": [
    "## **Introducción a numpy**"
   ]
  },
  {
   "attachments": {},
   "cell_type": "markdown",
   "metadata": {},
   "source": [
    "Numpy (Numerical Python) es una biblioteca de Python que se utiliza para trabajar con matrices y arrays multidimensionales. Es una de las bibliotecas más utilizadas en el campo de la ciencia de datos y el análisis numérico. Numpy proporciona una gran cantidad de funciones y herramientas para realizar operaciones matemáticas y estadísticas en arrays.\n",
    "\n",
    "Para utilizar Numpy, primero debemos instalar la biblioteca en nuestro sistema. Podemos hacer esto utilizando pip, el gestor de paquetes de Python. Para instalar Numpy, abrimos una terminal o línea de comandos y ejecutamos el siguiente comando:"
   ]
  },
  {
   "attachments": {},
   "cell_type": "markdown",
   "metadata": {},
   "source": [
    "`pip install numpy`"
   ]
  },
  {
   "attachments": {},
   "cell_type": "markdown",
   "metadata": {},
   "source": [
    "Una vez que Numpy está instalado, podemos comenzar a utilizarlo en nuestros programas de Python. Para ello, debemos importar la biblioteca utilizando la siguiente línea de código:"
   ]
  },
  {
   "cell_type": "code",
   "execution_count": 1,
   "metadata": {},
   "outputs": [],
   "source": [
    "import numpy as np\n"
   ]
  },
  {
   "attachments": {},
   "cell_type": "markdown",
   "metadata": {},
   "source": [
    "En este ejemplo, utilizamos la abreviación `\"np\"` para referirnos a la biblioteca `Numpy` en nuestro programa.\n",
    "\n",
    "A continuación, mostraremos algunos ejemplos de cómo utilizar `Numpy` para trabajar con arrays multidimensionales.\n",
    "\n",
    "* **Crear un array**\n",
    "\n",
    "Podemos crear un array de `Numpy` utilizando la función `np.array()`. Por ejemplo, para crear un array de una dimensión con los números del 0 al 4, podemos escribir lo siguiente:"
   ]
  },
  {
   "cell_type": "code",
   "execution_count": 2,
   "metadata": {},
   "outputs": [
    {
     "name": "stdout",
     "output_type": "stream",
     "text": [
      "[0 1 2 3 4]\n"
     ]
    }
   ],
   "source": [
    "import numpy as np\n",
    "\n",
    "arr = np.array([0, 1, 2, 3, 4])\n",
    "\n",
    "print(arr)  # Salida: [0 1 2 3 4]\n"
   ]
  },
  {
   "attachments": {},
   "cell_type": "markdown",
   "metadata": {},
   "source": [
    "También podemos crear un array de dos dimensiones especificando una lista de listas como argumento para `np.array()`. Por ejemplo, para crear una matriz de 2x3 con los números del 0 al 5, podemos escribir lo siguiente:"
   ]
  },
  {
   "cell_type": "code",
   "execution_count": 3,
   "metadata": {},
   "outputs": [
    {
     "name": "stdout",
     "output_type": "stream",
     "text": [
      "[[0 1 2]\n",
      " [3 4 5]]\n"
     ]
    }
   ],
   "source": [
    "import numpy as np\n",
    "\n",
    "arr = np.array([[0, 1, 2], [3, 4, 5]])\n",
    "\n",
    "print(arr)\n",
    "# Salida:\n",
    "# [[0 1 2]\n",
    "#  [3 4 5]]\n"
   ]
  },
  {
   "attachments": {},
   "cell_type": "markdown",
   "metadata": {},
   "source": [
    "* **Operaciones con arrays**\n",
    "\n",
    "Podemos realizar operaciones matemáticas con `arrays` utilizando `Numpy`. Por ejemplo, para sumar dos arrays, podemos utilizar la función `np.add()`. En el siguiente ejemplo, sumamos dos arrays de una dimensión:"
   ]
  },
  {
   "cell_type": "code",
   "execution_count": 4,
   "metadata": {},
   "outputs": [
    {
     "name": "stdout",
     "output_type": "stream",
     "text": [
      "[5 7 9]\n"
     ]
    }
   ],
   "source": [
    "import numpy as np\n",
    "\n",
    "arr1 = np.array([1, 2, 3])\n",
    "arr2 = np.array([4, 5, 6])\n",
    "\n",
    "sum_arr = np.add(arr1, arr2)\n",
    "\n",
    "print(sum_arr)  # Salida: [5 7 9]\n"
   ]
  },
  {
   "attachments": {},
   "cell_type": "markdown",
   "metadata": {},
   "source": [
    "También podemos realizar operaciones entre un escalar y un array. En el siguiente ejemplo, multiplicamos cada elemento del array por 2:"
   ]
  },
  {
   "cell_type": "code",
   "execution_count": 5,
   "metadata": {},
   "outputs": [
    {
     "name": "stdout",
     "output_type": "stream",
     "text": [
      "[2 4 6]\n"
     ]
    }
   ],
   "source": [
    "import numpy as np\n",
    "\n",
    "arr = np.array([1, 2, 3])\n",
    "\n",
    "mult_arr = np.multiply(arr, 2)\n",
    "\n",
    "print(mult_arr)  # Salida: [2 4 6]\n"
   ]
  },
  {
   "attachments": {},
   "cell_type": "markdown",
   "metadata": {},
   "source": [
    "* **Funciones estadísticas**\n",
    "\n",
    "Numpy proporciona una gran cantidad de funciones para realizar operaciones estadísticas en arrays. Por ejemplo, podemos calcular la media, la mediana y la desviación estándar de un array utilizando las funciones `np.mean()`, `np.median()` y `np.std()`, respectivamente."
   ]
  },
  {
   "cell_type": "code",
   "execution_count": 6,
   "metadata": {},
   "outputs": [
    {
     "name": "stdout",
     "output_type": "stream",
     "text": [
      "Media: 3.0\n",
      "Mediana: 3.0\n",
      "Desviación estándar: 1.4142135623730951\n"
     ]
    }
   ],
   "source": [
    "import numpy as np\n",
    "\n",
    "arr = np.array([1, 2, 3, 4, 5])\n",
    "\n",
    "mean = np.mean(arr)\n",
    "median = np.median(arr)\n",
    "std_dev = np.std(arr)\n",
    "\n",
    "print(\"Media:\", mean)  # Salida: Media: 3.0\n",
    "print(\"Mediana:\", median)  # Salida: Mediana: 3.0\n",
    "print(\"Desviación estándar:\", std_dev)  # Salida: Desviación estándar: 1.4142135623730951\n"
   ]
  },
  {
   "attachments": {},
   "cell_type": "markdown",
   "metadata": {},
   "source": [
    "* **Indexación y segmentación**\n",
    "\n",
    "Podemos acceder a elementos individuales de un array utilizando la indexación de Numpy. Por ejemplo, para acceder al segundo elemento de un array de una dimensión, podemos escribir lo siguiente:"
   ]
  },
  {
   "cell_type": "code",
   "execution_count": 7,
   "metadata": {},
   "outputs": [
    {
     "name": "stdout",
     "output_type": "stream",
     "text": [
      "2\n"
     ]
    }
   ],
   "source": [
    "import numpy as np\n",
    "\n",
    "arr = np.array([1, 2, 3, 4, 5])\n",
    "\n",
    "second_elem = arr[1]\n",
    "\n",
    "print(second_elem)  # Salida: 2\n"
   ]
  },
  {
   "attachments": {},
   "cell_type": "markdown",
   "metadata": {},
   "source": [
    "También podemos acceder a segmentos de un array utilizando la segmentación de Numpy. Por ejemplo, para acceder a los primeros tres elementos de un array de una dimensión, podemos escribir lo siguiente:"
   ]
  },
  {
   "cell_type": "code",
   "execution_count": 8,
   "metadata": {},
   "outputs": [
    {
     "name": "stdout",
     "output_type": "stream",
     "text": [
      "[1 2 3]\n"
     ]
    }
   ],
   "source": [
    "import numpy as np\n",
    "\n",
    "arr = np.array([1, 2, 3, 4, 5])\n",
    "\n",
    "first_three = arr[:3]\n",
    "\n",
    "print(first_three)  # Salida: [1 2 3]\n"
   ]
  },
  {
   "attachments": {},
   "cell_type": "markdown",
   "metadata": {},
   "source": [
    "**Conclusiones**\n",
    "\n",
    "Numpy es una biblioteca fundamental para cualquier persona que trabaje con datos numéricos en Python. Nos proporciona una gran cantidad de herramientas para trabajar con arrays multidimensionales y realizar operaciones matemáticas y estadísticas en ellos. En esta introducción, hemos visto algunos ejemplos básicos de cómo utilizar Numpy, pero hay muchas más funciones y herramientas disponibles en la biblioteca."
   ]
  },
  {
   "attachments": {},
   "cell_type": "markdown",
   "metadata": {},
   "source": [
    "## **Creando arrays con numpy**"
   ]
  },
  {
   "attachments": {},
   "cell_type": "markdown",
   "metadata": {},
   "source": [
    "Numpy es una de las bibliotecas más utilizadas en Python para trabajar con arreglos, matrices y operaciones matemáticas. Para empezar a trabajar con Numpy, primero debemos importar la biblioteca. Se puede hacer esto con la siguiente línea de código:"
   ]
  },
  {
   "cell_type": "code",
   "execution_count": 9,
   "metadata": {},
   "outputs": [],
   "source": [
    "import numpy as np\n"
   ]
  },
  {
   "attachments": {},
   "cell_type": "markdown",
   "metadata": {},
   "source": [
    "Una vez importada la biblioteca, podemos empezar a crear arreglos con Numpy. Hay varias formas de hacerlo:\n",
    "\n",
    "1. **Creando un arreglo a partir de una lista**\n",
    "\n",
    "Podemos crear un arreglo a partir de una lista de Python utilizando la función `array` de Numpy. Por ejemplo:"
   ]
  },
  {
   "cell_type": "code",
   "execution_count": 10,
   "metadata": {},
   "outputs": [
    {
     "name": "stdout",
     "output_type": "stream",
     "text": [
      "[1 2 3 4 5]\n"
     ]
    }
   ],
   "source": [
    "import numpy as np\n",
    "\n",
    "lista = [1, 2, 3, 4, 5]\n",
    "arreglo = np.array(lista)\n",
    "print(arreglo)\n"
   ]
  },
  {
   "attachments": {},
   "cell_type": "markdown",
   "metadata": {},
   "source": [
    "**2. Creando un arreglo de ceros**\n",
    "\n",
    "Podemos crear un arreglo de ceros utilizando la función `zeros` de Numpy. Por ejemplo, si queremos crear un arreglo de 3 elementos con ceros, podemos hacerlo así:"
   ]
  },
  {
   "cell_type": "code",
   "execution_count": 11,
   "metadata": {},
   "outputs": [
    {
     "name": "stdout",
     "output_type": "stream",
     "text": [
      "[0. 0. 0.]\n"
     ]
    }
   ],
   "source": [
    "import numpy as np\n",
    "\n",
    "arreglo_ceros = np.zeros(3)\n",
    "print(arreglo_ceros)\n"
   ]
  },
  {
   "attachments": {},
   "cell_type": "markdown",
   "metadata": {},
   "source": [
    "**3. Creando un arreglo de unos**\n",
    "\n",
    "Podemos crear un arreglo de unos utilizando la función `ones` de Numpy. Por ejemplo, si queremos crear un arreglo de 4 elementos con unos, podemos hacerlo así:"
   ]
  },
  {
   "cell_type": "code",
   "execution_count": 12,
   "metadata": {},
   "outputs": [
    {
     "name": "stdout",
     "output_type": "stream",
     "text": [
      "[1. 1. 1. 1.]\n"
     ]
    }
   ],
   "source": [
    "import numpy as np\n",
    "\n",
    "arreglo_unos = np.ones(4)\n",
    "print(arreglo_unos)\n"
   ]
  },
  {
   "attachments": {},
   "cell_type": "markdown",
   "metadata": {},
   "source": [
    "**4. Creando un arreglo de valores aleatorios**\n",
    "\n",
    "Podemos crear un arreglo de valores aleatorios utilizando la función `random` de Numpy. Por ejemplo, si queremos crear un arreglo de 5 elementos con valores aleatorios entre 0 y 1, podemos hacerlo así:"
   ]
  },
  {
   "cell_type": "code",
   "execution_count": 13,
   "metadata": {},
   "outputs": [
    {
     "name": "stdout",
     "output_type": "stream",
     "text": [
      "[0.9061231  0.58983353 0.93040559 0.23636625 0.81672775]\n"
     ]
    }
   ],
   "source": [
    "import numpy as np\n",
    "\n",
    "arreglo_aleatorio = np.random.random(5)\n",
    "print(arreglo_aleatorio)\n"
   ]
  },
  {
   "attachments": {},
   "cell_type": "markdown",
   "metadata": {},
   "source": [
    "**5. Creando un arreglo de valores espaciados uniformemente**\n",
    "\n",
    "Podemos crear un arreglo de valores espaciados uniformemente utilizando la función `linspace` de Numpy. Por ejemplo, si queremos crear un arreglo con 5 valores espaciados uniformemente entre 0 y 1, podemos hacerlo así:"
   ]
  },
  {
   "cell_type": "code",
   "execution_count": 14,
   "metadata": {},
   "outputs": [
    {
     "name": "stdout",
     "output_type": "stream",
     "text": [
      "[0.   0.25 0.5  0.75 1.  ]\n"
     ]
    }
   ],
   "source": [
    "import numpy as np\n",
    "\n",
    "arreglo_uniforme = np.linspace(0, 1, 5)\n",
    "print(arreglo_uniforme)\n"
   ]
  },
  {
   "attachments": {},
   "cell_type": "markdown",
   "metadata": {},
   "source": [
    "**6. Creando un arreglo de valores espaciados con un paso**\n",
    "\n",
    "Podemos crear un arreglo de valores espaciados con un paso utilizando la función `arange` de Numpy. Por ejemplo, si queremos crear un arreglo con valores espaciados de 2 en 2 entre 0 y 8, podemos hacerlo así:"
   ]
  },
  {
   "cell_type": "code",
   "execution_count": 15,
   "metadata": {},
   "outputs": [
    {
     "name": "stdout",
     "output_type": "stream",
     "text": [
      "[0 2 4 6]\n"
     ]
    }
   ],
   "source": [
    "import numpy as np\n",
    "\n",
    "arreglo_paso = np.arange(0, 8, 2)\n",
    "print(arreglo_paso)\n"
   ]
  },
  {
   "attachments": {},
   "cell_type": "markdown",
   "metadata": {},
   "source": [
    "## **Dimensiones de un array**"
   ]
  },
  {
   "attachments": {},
   "cell_type": "markdown",
   "metadata": {},
   "source": [
    "En Python, los arrays tienen una o más dimensiones, lo que significa que podemos tener un arreglo de una dimensión (vector) o un arreglo de varias dimensiones (matriz o tensor). Cada dimensión se refiere al número de índices necesarios para acceder a un elemento particular en el arreglo.\n",
    "\n",
    "Por ejemplo, en un arreglo de dos dimensiones, necesitamos dos índices para acceder a un elemento en particular. En un arreglo de tres dimensiones, necesitamos tres índices para acceder a un elemento en particular, y así sucesivamente.\n",
    "\n",
    "Para ver las dimensiones de un array en Python, podemos utilizar la función `ndim` de Numpy. Veamos algunos ejemplos:"
   ]
  },
  {
   "cell_type": "code",
   "execution_count": 16,
   "metadata": {},
   "outputs": [
    {
     "name": "stdout",
     "output_type": "stream",
     "text": [
      "1\n",
      "2\n",
      "3\n"
     ]
    }
   ],
   "source": [
    "import numpy as np\n",
    "\n",
    "# Un arreglo de una dimensión\n",
    "a = np.array([1, 2, 3])\n",
    "print(a.ndim) # Salida: 1\n",
    "\n",
    "# Un arreglo de dos dimensiones\n",
    "b = np.array([[1, 2, 3], [4, 5, 6]])\n",
    "print(b.ndim) # Salida: 2\n",
    "\n",
    "# Un arreglo de tres dimensiones\n",
    "c = np.array([[[1, 2], [3, 4]], [[5, 6], [7, 8]]])\n",
    "print(c.ndim) # Salida: 3\n"
   ]
  },
  {
   "attachments": {},
   "cell_type": "markdown",
   "metadata": {},
   "source": [
    "En el primer ejemplo, `a` es un arreglo de una dimensión (vector), por lo que su dimensión es 1. En el segundo ejemplo, `b` es un arreglo de dos dimensiones (matriz), por lo que su dimensión es 2. En el tercer ejemplo, `c` es un arreglo de tres dimensiones (tensor), por lo que su dimensión es 3.\n",
    "\n",
    "Podemos acceder a cada elemento de un arreglo utilizando sus índices. Por ejemplo, para acceder al segundo elemento de `a`, podemos hacer lo siguiente:"
   ]
  },
  {
   "cell_type": "code",
   "execution_count": 17,
   "metadata": {},
   "outputs": [
    {
     "name": "stdout",
     "output_type": "stream",
     "text": [
      "2\n"
     ]
    }
   ],
   "source": [
    "print(a[1]) # Salida: 2\n"
   ]
  },
  {
   "attachments": {},
   "cell_type": "markdown",
   "metadata": {},
   "source": [
    "Para acceder al elemento (2, 3) en `b`, podemos hacer lo siguiente:"
   ]
  },
  {
   "cell_type": "code",
   "execution_count": 18,
   "metadata": {},
   "outputs": [
    {
     "name": "stdout",
     "output_type": "stream",
     "text": [
      "6\n"
     ]
    }
   ],
   "source": [
    "print(b[1, 2]) # Salida: 6\n"
   ]
  },
  {
   "attachments": {},
   "cell_type": "markdown",
   "metadata": {},
   "source": [
    "Y para acceder al elemento (1, 2, 1) en `c`, podemos hacer lo siguiente:"
   ]
  },
  {
   "cell_type": "code",
   "execution_count": 19,
   "metadata": {},
   "outputs": [
    {
     "name": "stdout",
     "output_type": "stream",
     "text": [
      "6\n"
     ]
    }
   ],
   "source": [
    "print(c[1, 0, 1]) # Salida: 6\n"
   ]
  },
  {
   "attachments": {},
   "cell_type": "markdown",
   "metadata": {},
   "source": [
    "En resumen, las dimensiones de un array en Python nos indican cuántos índices se necesitan para acceder a un elemento en particular en el arreglo. Podemos utilizar la función `ndim` de Numpy para obtener la dimensión de un arreglo y acceder a los elementos del arreglo utilizando sus índices."
   ]
  },
  {
   "attachments": {},
   "cell_type": "markdown",
   "metadata": {},
   "source": [
    "## **Shape de un array**"
   ]
  },
  {
   "attachments": {},
   "cell_type": "markdown",
   "metadata": {},
   "source": [
    "En Python, el `shape` de un array se refiere a la tupla de números que describe el tamaño de cada dimensión del array. Es decir, si tenemos un array de dos dimensiones con una forma `(shape)` de `(3, 4)`, significa que el array tiene tres filas y cuatro columnas.\n",
    "\n",
    "Para obtener la forma `(shape)` de un array en Python, podemos utilizar la función `shape()` de la librería `Numpy`. Veamos algunos ejemplos:"
   ]
  },
  {
   "cell_type": "code",
   "execution_count": 20,
   "metadata": {},
   "outputs": [
    {
     "name": "stdout",
     "output_type": "stream",
     "text": [
      "(3,)\n",
      "(2, 3)\n",
      "(2, 2, 2)\n"
     ]
    }
   ],
   "source": [
    "import numpy as np\n",
    "\n",
    "# Un arreglo de una dimensión\n",
    "a = np.array([1, 2, 3])\n",
    "print(a.shape) # Salida: (3,)\n",
    "\n",
    "# Un arreglo de dos dimensiones\n",
    "b = np.array([[1, 2, 3], [4, 5, 6]])\n",
    "print(b.shape) # Salida: (2, 3)\n",
    "\n",
    "# Un arreglo de tres dimensiones\n",
    "c = np.array([[[1, 2], [3, 4]], [[5, 6], [7, 8]]])\n",
    "print(c.shape) # Salida: (2, 2, 2)\n"
   ]
  },
  {
   "attachments": {},
   "cell_type": "markdown",
   "metadata": {},
   "source": [
    "En el primer ejemplo, `a` es un arreglo de una dimensión (vector) con tres elementos, por lo que su forma es `(3,)`. El paréntesis indica que `a` es un vector (unidimensional), y el número dentro del paréntesis indica la cantidad de elementos en ese vector.\n",
    "\n",
    "En el segundo ejemplo, `b` es un arreglo de dos dimensiones (matriz) con dos filas y tres columnas, por lo que su forma es `(2, 3)`.\n",
    "\n",
    "En el tercer ejemplo, `c` es un arreglo de tres dimensiones (tensor) con dos niveles, dos filas y dos columnas, por lo que su forma es `(2, 2, 2)`.\n",
    "\n",
    "Podemos utilizar la forma `(shape)` de un array para acceder a cada elemento utilizando un bucle `for`. Por ejemplo, para recorrer todos los elementos de `b`, podemos hacer lo siguiente:"
   ]
  },
  {
   "cell_type": "code",
   "execution_count": 21,
   "metadata": {},
   "outputs": [
    {
     "name": "stdout",
     "output_type": "stream",
     "text": [
      "1\n",
      "2\n",
      "3\n",
      "4\n",
      "5\n",
      "6\n"
     ]
    }
   ],
   "source": [
    "for i in range(b.shape[0]):\n",
    "  for j in range(b.shape[1]):\n",
    "    print(b[i, j])\n"
   ]
  },
  {
   "attachments": {},
   "cell_type": "markdown",
   "metadata": {},
   "source": [
    "Este código recorre todos los elementos de `b` utilizando los índices de fila `(i)` y columna `(j)`, y los imprime en la pantalla.\n",
    "\n",
    "En resumen, el `shape` de un array en Python nos indica el tamaño de cada dimensión del array. Podemos utilizar la función `shape()` de Numpy para obtener la forma de un array y acceder a los elementos del array utilizando un bucle `for` y los índices de fila y columna."
   ]
  },
  {
   "attachments": {},
   "cell_type": "markdown",
   "metadata": {},
   "source": [
    "## **Reshape de un array**"
   ]
  },
  {
   "attachments": {},
   "cell_type": "markdown",
   "metadata": {},
   "source": [
    "En Python, `reshape` es una función de la librería `Numpy` que nos permite cambiar la forma `(shape)` de un array sin modificar sus datos. En otras palabras, podemos reorganizar los elementos de un array en diferentes formas sin alterar su contenido.\n",
    "\n",
    "La sintaxis básica de `reshape` es la siguiente:"
   ]
  },
  {
   "attachments": {},
   "cell_type": "markdown",
   "metadata": {},
   "source": [
    "`numpy.reshape(array, newshape, order='C')`"
   ]
  },
  {
   "attachments": {},
   "cell_type": "markdown",
   "metadata": {},
   "source": [
    "**Donde:**\n",
    "\n",
    "* **array** es el array que queremos remodelar.\n",
    "\n",
    "* **newshape** es una tupla que indica la nueva forma deseada para el array.\n",
    "\n",
    "* **order** es opcional y especifica cómo se deben leer los elementos del array. Puede ser `'C'` para leer los elementos en orden de fila (por defecto) o `'F'` para leer los elementos en orden de columna.\n",
    "\n",
    "Veamos algunos ejemplos para entender mejor cómo funciona `reshape`:"
   ]
  },
  {
   "cell_type": "code",
   "execution_count": 22,
   "metadata": {},
   "outputs": [
    {
     "name": "stdout",
     "output_type": "stream",
     "text": [
      "[[ 0  1  2  3]\n",
      " [ 4  5  6  7]\n",
      " [ 8  9 10 11]]\n",
      "[[ 0  1  2]\n",
      " [ 3  4  5]\n",
      " [ 6  7  8]\n",
      " [ 9 10 11]]\n",
      "[[[ 0  1]\n",
      "  [ 2  3]\n",
      "  [ 4  5]]\n",
      "\n",
      " [[ 6  7]\n",
      "  [ 8  9]\n",
      "  [10 11]]]\n"
     ]
    }
   ],
   "source": [
    "import numpy as np\n",
    "\n",
    "# Creamos un array de una dimensión con 12 elementos\n",
    "a = np.array([0, 1, 2, 3, 4, 5, 6, 7, 8, 9, 10, 11])\n",
    "\n",
    "# Cambiamos la forma del array a una matriz de 3 filas y 4 columnas\n",
    "b = np.reshape(a, (3, 4))\n",
    "print(b)\n",
    "# Salida:\n",
    "# [[ 0  1  2  3]\n",
    "#  [ 4  5  6  7]\n",
    "#  [ 8  9 10 11]]\n",
    "\n",
    "# Cambiamos la forma del array a una matriz de 4 filas y 3 columnas\n",
    "c = np.reshape(a, (4, 3))\n",
    "print(c)\n",
    "# Salida:\n",
    "# [[ 0  1  2]\n",
    "#  [ 3  4  5]\n",
    "#  [ 6  7  8]\n",
    "#  [ 9 10 11]]\n",
    "\n",
    "# Cambiamos la forma del array a una matriz de 2 niveles, 3 filas y 2 columnas\n",
    "d = np.reshape(a, (2, 3, 2))\n",
    "print(d)\n",
    "# Salida:\n",
    "# [[[ 0  1]\n",
    "#   [ 2  3]\n",
    "#   [ 4  5]]\n",
    "\n",
    "#  [[ 6  7]\n",
    "#   [ 8  9]\n",
    "#   [10 11]]]\n"
   ]
  },
  {
   "attachments": {},
   "cell_type": "markdown",
   "metadata": {},
   "source": [
    "* En el primer ejemplo, creamos un array de una dimensión con 12 elementos y luego usamos `reshape` para convertirlo en una matriz de 3 filas y 4 columnas.\n",
    "\n",
    "* En el segundo ejemplo, usamos `reshape` para convertir el mismo array de una dimensión en una matriz de 4 filas y 3 columnas.\n",
    "\n",
    "* En el tercer ejemplo, usamos `reshape` para convertir el mismo array de una dimensión en un tensor de dos niveles, con tres filas y dos columnas en cada nivel.\n",
    "\n",
    "Es importante tener en cuenta que el número de elementos en el array original debe ser igual al número de elementos en la forma deseada después de usar `reshape`. Si la cantidad de elementos no coincide, se producirá un error.\n",
    "\n",
    "En resumen, `reshape` es una función útil de `Numpy` que nos permite cambiar la forma de un array sin modificar sus datos. Podemos usar esta función para transformar un array de una dimensión en una matriz o tensor de dos o más dimensiones, y viceversa."
   ]
  },
  {
   "attachments": {},
   "cell_type": "markdown",
   "metadata": {},
   "source": [
    "| **Inicio** | **atrás 15** | **Siguiente 17** |\n",
    "|----------- |-------------- |---------------|\n",
    "| [🏠](../../README.md) | [⏪](./15.Modulos_de_math_cmath.ipynb)| [⏩](./17.Representacion_grafica.ipynb)|"
   ]
  }
 ],
 "metadata": {
  "kernelspec": {
   "display_name": "base",
   "language": "python",
   "name": "python3"
  },
  "language_info": {
   "codemirror_mode": {
    "name": "ipython",
    "version": 3
   },
   "file_extension": ".py",
   "mimetype": "text/x-python",
   "name": "python",
   "nbconvert_exporter": "python",
   "pygments_lexer": "ipython3",
   "version": "3.9.12"
  },
  "orig_nbformat": 4
 },
 "nbformat": 4,
 "nbformat_minor": 2
}
