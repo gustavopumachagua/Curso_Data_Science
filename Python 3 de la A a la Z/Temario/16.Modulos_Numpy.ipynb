{
 "cells": [
  {
   "attachments": {},
   "cell_type": "markdown",
   "metadata": {},
   "source": [
    "| **Inicio** | **atrás 15** | **Siguiente 17** |\n",
    "|----------- |-------------- |---------------|\n",
    "| [🏠](../../README.md) | [⏪](./15.Modulos_de_math_cmath.ipynb)| [⏩](./17.Representacion_grafica.ipynb)|"
   ]
  },
  {
   "attachments": {},
   "cell_type": "markdown",
   "metadata": {},
   "source": [
    "# **16. Modulos de Python: Numpy**"
   ]
  },
  {
   "attachments": {},
   "cell_type": "markdown",
   "metadata": {},
   "source": [
    "## **Introducción a numpy**"
   ]
  },
  {
   "attachments": {},
   "cell_type": "markdown",
   "metadata": {},
   "source": [
    "Numpy (Numerical Python) es una biblioteca de Python que se utiliza para trabajar con matrices y arrays multidimensionales. Es una de las bibliotecas más utilizadas en el campo de la ciencia de datos y el análisis numérico. Numpy proporciona una gran cantidad de funciones y herramientas para realizar operaciones matemáticas y estadísticas en arrays.\n",
    "\n",
    "Para utilizar Numpy, primero debemos instalar la biblioteca en nuestro sistema. Podemos hacer esto utilizando pip, el gestor de paquetes de Python. Para instalar Numpy, abrimos una terminal o línea de comandos y ejecutamos el siguiente comando:"
   ]
  },
  {
   "attachments": {},
   "cell_type": "markdown",
   "metadata": {},
   "source": [
    "`pip install numpy`"
   ]
  },
  {
   "attachments": {},
   "cell_type": "markdown",
   "metadata": {},
   "source": [
    "Una vez que Numpy está instalado, podemos comenzar a utilizarlo en nuestros programas de Python. Para ello, debemos importar la biblioteca utilizando la siguiente línea de código:"
   ]
  },
  {
   "cell_type": "code",
   "execution_count": 1,
   "metadata": {},
   "outputs": [],
   "source": [
    "import numpy as np\n"
   ]
  },
  {
   "attachments": {},
   "cell_type": "markdown",
   "metadata": {},
   "source": [
    "En este ejemplo, utilizamos la abreviación `\"np\"` para referirnos a la biblioteca `Numpy` en nuestro programa.\n",
    "\n",
    "A continuación, mostraremos algunos ejemplos de cómo utilizar `Numpy` para trabajar con arrays multidimensionales.\n",
    "\n",
    "* **Crear un array**\n",
    "\n",
    "Podemos crear un array de `Numpy` utilizando la función `np.array()`. Por ejemplo, para crear un array de una dimensión con los números del 0 al 4, podemos escribir lo siguiente:"
   ]
  },
  {
   "cell_type": "code",
   "execution_count": 2,
   "metadata": {},
   "outputs": [
    {
     "name": "stdout",
     "output_type": "stream",
     "text": [
      "[0 1 2 3 4]\n"
     ]
    }
   ],
   "source": [
    "import numpy as np\n",
    "\n",
    "arr = np.array([0, 1, 2, 3, 4])\n",
    "\n",
    "print(arr)  # Salida: [0 1 2 3 4]\n"
   ]
  },
  {
   "attachments": {},
   "cell_type": "markdown",
   "metadata": {},
   "source": [
    "También podemos crear un array de dos dimensiones especificando una lista de listas como argumento para `np.array()`. Por ejemplo, para crear una matriz de 2x3 con los números del 0 al 5, podemos escribir lo siguiente:"
   ]
  },
  {
   "cell_type": "code",
   "execution_count": 3,
   "metadata": {},
   "outputs": [
    {
     "name": "stdout",
     "output_type": "stream",
     "text": [
      "[[0 1 2]\n",
      " [3 4 5]]\n"
     ]
    }
   ],
   "source": [
    "import numpy as np\n",
    "\n",
    "arr = np.array([[0, 1, 2], [3, 4, 5]])\n",
    "\n",
    "print(arr)\n",
    "# Salida:\n",
    "# [[0 1 2]\n",
    "#  [3 4 5]]\n"
   ]
  },
  {
   "attachments": {},
   "cell_type": "markdown",
   "metadata": {},
   "source": [
    "* **Operaciones con arrays**\n",
    "\n",
    "Podemos realizar operaciones matemáticas con `arrays` utilizando `Numpy`. Por ejemplo, para sumar dos arrays, podemos utilizar la función `np.add()`. En el siguiente ejemplo, sumamos dos arrays de una dimensión:"
   ]
  },
  {
   "cell_type": "code",
   "execution_count": 4,
   "metadata": {},
   "outputs": [
    {
     "name": "stdout",
     "output_type": "stream",
     "text": [
      "[5 7 9]\n"
     ]
    }
   ],
   "source": [
    "import numpy as np\n",
    "\n",
    "arr1 = np.array([1, 2, 3])\n",
    "arr2 = np.array([4, 5, 6])\n",
    "\n",
    "sum_arr = np.add(arr1, arr2)\n",
    "\n",
    "print(sum_arr)  # Salida: [5 7 9]\n"
   ]
  },
  {
   "attachments": {},
   "cell_type": "markdown",
   "metadata": {},
   "source": [
    "También podemos realizar operaciones entre un escalar y un array. En el siguiente ejemplo, multiplicamos cada elemento del array por 2:"
   ]
  },
  {
   "cell_type": "code",
   "execution_count": 5,
   "metadata": {},
   "outputs": [
    {
     "name": "stdout",
     "output_type": "stream",
     "text": [
      "[2 4 6]\n"
     ]
    }
   ],
   "source": [
    "import numpy as np\n",
    "\n",
    "arr = np.array([1, 2, 3])\n",
    "\n",
    "mult_arr = np.multiply(arr, 2)\n",
    "\n",
    "print(mult_arr)  # Salida: [2 4 6]\n"
   ]
  },
  {
   "attachments": {},
   "cell_type": "markdown",
   "metadata": {},
   "source": [
    "* **Funciones estadísticas**\n",
    "\n",
    "Numpy proporciona una gran cantidad de funciones para realizar operaciones estadísticas en arrays. Por ejemplo, podemos calcular la media, la mediana y la desviación estándar de un array utilizando las funciones `np.mean()`, `np.median()` y `np.std()`, respectivamente."
   ]
  },
  {
   "cell_type": "code",
   "execution_count": 6,
   "metadata": {},
   "outputs": [
    {
     "name": "stdout",
     "output_type": "stream",
     "text": [
      "Media: 3.0\n",
      "Mediana: 3.0\n",
      "Desviación estándar: 1.4142135623730951\n"
     ]
    }
   ],
   "source": [
    "import numpy as np\n",
    "\n",
    "arr = np.array([1, 2, 3, 4, 5])\n",
    "\n",
    "mean = np.mean(arr)\n",
    "median = np.median(arr)\n",
    "std_dev = np.std(arr)\n",
    "\n",
    "print(\"Media:\", mean)  # Salida: Media: 3.0\n",
    "print(\"Mediana:\", median)  # Salida: Mediana: 3.0\n",
    "print(\"Desviación estándar:\", std_dev)  # Salida: Desviación estándar: 1.4142135623730951\n"
   ]
  },
  {
   "attachments": {},
   "cell_type": "markdown",
   "metadata": {},
   "source": [
    "* **Indexación y segmentación**\n",
    "\n",
    "Podemos acceder a elementos individuales de un array utilizando la indexación de Numpy. Por ejemplo, para acceder al segundo elemento de un array de una dimensión, podemos escribir lo siguiente:"
   ]
  },
  {
   "cell_type": "code",
   "execution_count": 7,
   "metadata": {},
   "outputs": [
    {
     "name": "stdout",
     "output_type": "stream",
     "text": [
      "2\n"
     ]
    }
   ],
   "source": [
    "import numpy as np\n",
    "\n",
    "arr = np.array([1, 2, 3, 4, 5])\n",
    "\n",
    "second_elem = arr[1]\n",
    "\n",
    "print(second_elem)  # Salida: 2\n"
   ]
  },
  {
   "attachments": {},
   "cell_type": "markdown",
   "metadata": {},
   "source": [
    "También podemos acceder a segmentos de un array utilizando la segmentación de Numpy. Por ejemplo, para acceder a los primeros tres elementos de un array de una dimensión, podemos escribir lo siguiente:"
   ]
  },
  {
   "cell_type": "code",
   "execution_count": 8,
   "metadata": {},
   "outputs": [
    {
     "name": "stdout",
     "output_type": "stream",
     "text": [
      "[1 2 3]\n"
     ]
    }
   ],
   "source": [
    "import numpy as np\n",
    "\n",
    "arr = np.array([1, 2, 3, 4, 5])\n",
    "\n",
    "first_three = arr[:3]\n",
    "\n",
    "print(first_three)  # Salida: [1 2 3]\n"
   ]
  },
  {
   "attachments": {},
   "cell_type": "markdown",
   "metadata": {},
   "source": [
    "**Conclusiones**\n",
    "\n",
    "Numpy es una biblioteca fundamental para cualquier persona que trabaje con datos numéricos en Python. Nos proporciona una gran cantidad de herramientas para trabajar con arrays multidimensionales y realizar operaciones matemáticas y estadísticas en ellos. En esta introducción, hemos visto algunos ejemplos básicos de cómo utilizar Numpy, pero hay muchas más funciones y herramientas disponibles en la biblioteca."
   ]
  },
  {
   "attachments": {},
   "cell_type": "markdown",
   "metadata": {},
   "source": [
    "## **Creando arrays con numpy**"
   ]
  },
  {
   "attachments": {},
   "cell_type": "markdown",
   "metadata": {},
   "source": [
    "Numpy es una de las bibliotecas más utilizadas en Python para trabajar con arreglos, matrices y operaciones matemáticas. Para empezar a trabajar con Numpy, primero debemos importar la biblioteca. Se puede hacer esto con la siguiente línea de código:"
   ]
  },
  {
   "cell_type": "code",
   "execution_count": 9,
   "metadata": {},
   "outputs": [],
   "source": [
    "import numpy as np\n"
   ]
  },
  {
   "attachments": {},
   "cell_type": "markdown",
   "metadata": {},
   "source": [
    "Una vez importada la biblioteca, podemos empezar a crear arreglos con Numpy. Hay varias formas de hacerlo:\n",
    "\n",
    "1. **Creando un arreglo a partir de una lista**\n",
    "\n",
    "Podemos crear un arreglo a partir de una lista de Python utilizando la función `array` de Numpy. Por ejemplo:"
   ]
  },
  {
   "cell_type": "code",
   "execution_count": 10,
   "metadata": {},
   "outputs": [
    {
     "name": "stdout",
     "output_type": "stream",
     "text": [
      "[1 2 3 4 5]\n"
     ]
    }
   ],
   "source": [
    "import numpy as np\n",
    "\n",
    "lista = [1, 2, 3, 4, 5]\n",
    "arreglo = np.array(lista)\n",
    "print(arreglo)\n"
   ]
  },
  {
   "attachments": {},
   "cell_type": "markdown",
   "metadata": {},
   "source": [
    "**2. Creando un arreglo de ceros**\n",
    "\n",
    "Podemos crear un arreglo de ceros utilizando la función `zeros` de Numpy. Por ejemplo, si queremos crear un arreglo de 3 elementos con ceros, podemos hacerlo así:"
   ]
  },
  {
   "cell_type": "code",
   "execution_count": 11,
   "metadata": {},
   "outputs": [
    {
     "name": "stdout",
     "output_type": "stream",
     "text": [
      "[0. 0. 0.]\n"
     ]
    }
   ],
   "source": [
    "import numpy as np\n",
    "\n",
    "arreglo_ceros = np.zeros(3)\n",
    "print(arreglo_ceros)\n"
   ]
  },
  {
   "attachments": {},
   "cell_type": "markdown",
   "metadata": {},
   "source": [
    "**3. Creando un arreglo de unos**\n",
    "\n",
    "Podemos crear un arreglo de unos utilizando la función `ones` de Numpy. Por ejemplo, si queremos crear un arreglo de 4 elementos con unos, podemos hacerlo así:"
   ]
  },
  {
   "cell_type": "code",
   "execution_count": 12,
   "metadata": {},
   "outputs": [
    {
     "name": "stdout",
     "output_type": "stream",
     "text": [
      "[1. 1. 1. 1.]\n"
     ]
    }
   ],
   "source": [
    "import numpy as np\n",
    "\n",
    "arreglo_unos = np.ones(4)\n",
    "print(arreglo_unos)\n"
   ]
  },
  {
   "attachments": {},
   "cell_type": "markdown",
   "metadata": {},
   "source": [
    "**4. Creando un arreglo de valores aleatorios**\n",
    "\n",
    "Podemos crear un arreglo de valores aleatorios utilizando la función `random` de Numpy. Por ejemplo, si queremos crear un arreglo de 5 elementos con valores aleatorios entre 0 y 1, podemos hacerlo así:"
   ]
  },
  {
   "cell_type": "code",
   "execution_count": 13,
   "metadata": {},
   "outputs": [
    {
     "name": "stdout",
     "output_type": "stream",
     "text": [
      "[0.9061231  0.58983353 0.93040559 0.23636625 0.81672775]\n"
     ]
    }
   ],
   "source": [
    "import numpy as np\n",
    "\n",
    "arreglo_aleatorio = np.random.random(5)\n",
    "print(arreglo_aleatorio)\n"
   ]
  },
  {
   "attachments": {},
   "cell_type": "markdown",
   "metadata": {},
   "source": [
    "**5. Creando un arreglo de valores espaciados uniformemente**\n",
    "\n",
    "Podemos crear un arreglo de valores espaciados uniformemente utilizando la función `linspace` de Numpy. Por ejemplo, si queremos crear un arreglo con 5 valores espaciados uniformemente entre 0 y 1, podemos hacerlo así:"
   ]
  },
  {
   "cell_type": "code",
   "execution_count": 14,
   "metadata": {},
   "outputs": [
    {
     "name": "stdout",
     "output_type": "stream",
     "text": [
      "[0.   0.25 0.5  0.75 1.  ]\n"
     ]
    }
   ],
   "source": [
    "import numpy as np\n",
    "\n",
    "arreglo_uniforme = np.linspace(0, 1, 5)\n",
    "print(arreglo_uniforme)\n"
   ]
  },
  {
   "attachments": {},
   "cell_type": "markdown",
   "metadata": {},
   "source": [
    "**6. Creando un arreglo de valores espaciados con un paso**\n",
    "\n",
    "Podemos crear un arreglo de valores espaciados con un paso utilizando la función `arange` de Numpy. Por ejemplo, si queremos crear un arreglo con valores espaciados de 2 en 2 entre 0 y 8, podemos hacerlo así:"
   ]
  },
  {
   "cell_type": "code",
   "execution_count": 15,
   "metadata": {},
   "outputs": [
    {
     "name": "stdout",
     "output_type": "stream",
     "text": [
      "[0 2 4 6]\n"
     ]
    }
   ],
   "source": [
    "import numpy as np\n",
    "\n",
    "arreglo_paso = np.arange(0, 8, 2)\n",
    "print(arreglo_paso)\n"
   ]
  },
  {
   "attachments": {},
   "cell_type": "markdown",
   "metadata": {},
   "source": [
    "## **Dimensiones de un array**"
   ]
  },
  {
   "attachments": {},
   "cell_type": "markdown",
   "metadata": {},
   "source": [
    "En Python, los arrays tienen una o más dimensiones, lo que significa que podemos tener un arreglo de una dimensión (vector) o un arreglo de varias dimensiones (matriz o tensor). Cada dimensión se refiere al número de índices necesarios para acceder a un elemento particular en el arreglo.\n",
    "\n",
    "Por ejemplo, en un arreglo de dos dimensiones, necesitamos dos índices para acceder a un elemento en particular. En un arreglo de tres dimensiones, necesitamos tres índices para acceder a un elemento en particular, y así sucesivamente.\n",
    "\n",
    "Para ver las dimensiones de un array en Python, podemos utilizar la función `ndim` de Numpy. Veamos algunos ejemplos:"
   ]
  },
  {
   "cell_type": "code",
   "execution_count": 16,
   "metadata": {},
   "outputs": [
    {
     "name": "stdout",
     "output_type": "stream",
     "text": [
      "1\n",
      "2\n",
      "3\n"
     ]
    }
   ],
   "source": [
    "import numpy as np\n",
    "\n",
    "# Un arreglo de una dimensión\n",
    "a = np.array([1, 2, 3])\n",
    "print(a.ndim) # Salida: 1\n",
    "\n",
    "# Un arreglo de dos dimensiones\n",
    "b = np.array([[1, 2, 3], [4, 5, 6]])\n",
    "print(b.ndim) # Salida: 2\n",
    "\n",
    "# Un arreglo de tres dimensiones\n",
    "c = np.array([[[1, 2], [3, 4]], [[5, 6], [7, 8]]])\n",
    "print(c.ndim) # Salida: 3\n"
   ]
  },
  {
   "attachments": {},
   "cell_type": "markdown",
   "metadata": {},
   "source": [
    "En el primer ejemplo, `a` es un arreglo de una dimensión (vector), por lo que su dimensión es 1. En el segundo ejemplo, `b` es un arreglo de dos dimensiones (matriz), por lo que su dimensión es 2. En el tercer ejemplo, `c` es un arreglo de tres dimensiones (tensor), por lo que su dimensión es 3.\n",
    "\n",
    "Podemos acceder a cada elemento de un arreglo utilizando sus índices. Por ejemplo, para acceder al segundo elemento de `a`, podemos hacer lo siguiente:"
   ]
  },
  {
   "cell_type": "code",
   "execution_count": 17,
   "metadata": {},
   "outputs": [
    {
     "name": "stdout",
     "output_type": "stream",
     "text": [
      "2\n"
     ]
    }
   ],
   "source": [
    "print(a[1]) # Salida: 2\n"
   ]
  },
  {
   "attachments": {},
   "cell_type": "markdown",
   "metadata": {},
   "source": [
    "Para acceder al elemento (2, 3) en `b`, podemos hacer lo siguiente:"
   ]
  },
  {
   "cell_type": "code",
   "execution_count": 18,
   "metadata": {},
   "outputs": [
    {
     "name": "stdout",
     "output_type": "stream",
     "text": [
      "6\n"
     ]
    }
   ],
   "source": [
    "print(b[1, 2]) # Salida: 6\n"
   ]
  },
  {
   "attachments": {},
   "cell_type": "markdown",
   "metadata": {},
   "source": [
    "Y para acceder al elemento (1, 2, 1) en `c`, podemos hacer lo siguiente:"
   ]
  },
  {
   "cell_type": "code",
   "execution_count": 19,
   "metadata": {},
   "outputs": [
    {
     "name": "stdout",
     "output_type": "stream",
     "text": [
      "6\n"
     ]
    }
   ],
   "source": [
    "print(c[1, 0, 1]) # Salida: 6\n"
   ]
  },
  {
   "attachments": {},
   "cell_type": "markdown",
   "metadata": {},
   "source": [
    "En resumen, las dimensiones de un array en Python nos indican cuántos índices se necesitan para acceder a un elemento en particular en el arreglo. Podemos utilizar la función `ndim` de Numpy para obtener la dimensión de un arreglo y acceder a los elementos del arreglo utilizando sus índices."
   ]
  },
  {
   "attachments": {},
   "cell_type": "markdown",
   "metadata": {},
   "source": [
    "## **Shape de un array**"
   ]
  },
  {
   "attachments": {},
   "cell_type": "markdown",
   "metadata": {},
   "source": [
    "En Python, el `shape` de un array se refiere a la tupla de números que describe el tamaño de cada dimensión del array. Es decir, si tenemos un array de dos dimensiones con una forma `(shape)` de `(3, 4)`, significa que el array tiene tres filas y cuatro columnas.\n",
    "\n",
    "Para obtener la forma `(shape)` de un array en Python, podemos utilizar la función `shape()` de la librería `Numpy`. Veamos algunos ejemplos:"
   ]
  },
  {
   "cell_type": "code",
   "execution_count": 20,
   "metadata": {},
   "outputs": [
    {
     "name": "stdout",
     "output_type": "stream",
     "text": [
      "(3,)\n",
      "(2, 3)\n",
      "(2, 2, 2)\n"
     ]
    }
   ],
   "source": [
    "import numpy as np\n",
    "\n",
    "# Un arreglo de una dimensión\n",
    "a = np.array([1, 2, 3])\n",
    "print(a.shape) # Salida: (3,)\n",
    "\n",
    "# Un arreglo de dos dimensiones\n",
    "b = np.array([[1, 2, 3], [4, 5, 6]])\n",
    "print(b.shape) # Salida: (2, 3)\n",
    "\n",
    "# Un arreglo de tres dimensiones\n",
    "c = np.array([[[1, 2], [3, 4]], [[5, 6], [7, 8]]])\n",
    "print(c.shape) # Salida: (2, 2, 2)\n"
   ]
  },
  {
   "attachments": {},
   "cell_type": "markdown",
   "metadata": {},
   "source": [
    "En el primer ejemplo, `a` es un arreglo de una dimensión (vector) con tres elementos, por lo que su forma es `(3,)`. El paréntesis indica que `a` es un vector (unidimensional), y el número dentro del paréntesis indica la cantidad de elementos en ese vector.\n",
    "\n",
    "En el segundo ejemplo, `b` es un arreglo de dos dimensiones (matriz) con dos filas y tres columnas, por lo que su forma es `(2, 3)`.\n",
    "\n",
    "En el tercer ejemplo, `c` es un arreglo de tres dimensiones (tensor) con dos niveles, dos filas y dos columnas, por lo que su forma es `(2, 2, 2)`.\n",
    "\n",
    "Podemos utilizar la forma `(shape)` de un array para acceder a cada elemento utilizando un bucle `for`. Por ejemplo, para recorrer todos los elementos de `b`, podemos hacer lo siguiente:"
   ]
  },
  {
   "cell_type": "code",
   "execution_count": 21,
   "metadata": {},
   "outputs": [
    {
     "name": "stdout",
     "output_type": "stream",
     "text": [
      "1\n",
      "2\n",
      "3\n",
      "4\n",
      "5\n",
      "6\n"
     ]
    }
   ],
   "source": [
    "for i in range(b.shape[0]):\n",
    "  for j in range(b.shape[1]):\n",
    "    print(b[i, j])\n"
   ]
  },
  {
   "attachments": {},
   "cell_type": "markdown",
   "metadata": {},
   "source": [
    "Este código recorre todos los elementos de `b` utilizando los índices de fila `(i)` y columna `(j)`, y los imprime en la pantalla.\n",
    "\n",
    "En resumen, el `shape` de un array en Python nos indica el tamaño de cada dimensión del array. Podemos utilizar la función `shape()` de Numpy para obtener la forma de un array y acceder a los elementos del array utilizando un bucle `for` y los índices de fila y columna."
   ]
  },
  {
   "attachments": {},
   "cell_type": "markdown",
   "metadata": {},
   "source": [
    "## **Reshape de un array**"
   ]
  },
  {
   "attachments": {},
   "cell_type": "markdown",
   "metadata": {},
   "source": [
    "En Python, `reshape` es una función de la librería `Numpy` que nos permite cambiar la forma `(shape)` de un array sin modificar sus datos. En otras palabras, podemos reorganizar los elementos de un array en diferentes formas sin alterar su contenido.\n",
    "\n",
    "La sintaxis básica de `reshape` es la siguiente:"
   ]
  },
  {
   "attachments": {},
   "cell_type": "markdown",
   "metadata": {},
   "source": [
    "`numpy.reshape(array, newshape, order='C')`"
   ]
  },
  {
   "attachments": {},
   "cell_type": "markdown",
   "metadata": {},
   "source": [
    "**Donde:**\n",
    "\n",
    "* **array** es el array que queremos remodelar.\n",
    "\n",
    "* **newshape** es una tupla que indica la nueva forma deseada para el array.\n",
    "\n",
    "* **order** es opcional y especifica cómo se deben leer los elementos del array. Puede ser `'C'` para leer los elementos en orden de fila (por defecto) o `'F'` para leer los elementos en orden de columna.\n",
    "\n",
    "Veamos algunos ejemplos para entender mejor cómo funciona `reshape`:"
   ]
  },
  {
   "cell_type": "code",
   "execution_count": 22,
   "metadata": {},
   "outputs": [
    {
     "name": "stdout",
     "output_type": "stream",
     "text": [
      "[[ 0  1  2  3]\n",
      " [ 4  5  6  7]\n",
      " [ 8  9 10 11]]\n",
      "[[ 0  1  2]\n",
      " [ 3  4  5]\n",
      " [ 6  7  8]\n",
      " [ 9 10 11]]\n",
      "[[[ 0  1]\n",
      "  [ 2  3]\n",
      "  [ 4  5]]\n",
      "\n",
      " [[ 6  7]\n",
      "  [ 8  9]\n",
      "  [10 11]]]\n"
     ]
    }
   ],
   "source": [
    "import numpy as np\n",
    "\n",
    "# Creamos un array de una dimensión con 12 elementos\n",
    "a = np.array([0, 1, 2, 3, 4, 5, 6, 7, 8, 9, 10, 11])\n",
    "\n",
    "# Cambiamos la forma del array a una matriz de 3 filas y 4 columnas\n",
    "b = np.reshape(a, (3, 4))\n",
    "print(b)\n",
    "# Salida:\n",
    "# [[ 0  1  2  3]\n",
    "#  [ 4  5  6  7]\n",
    "#  [ 8  9 10 11]]\n",
    "\n",
    "# Cambiamos la forma del array a una matriz de 4 filas y 3 columnas\n",
    "c = np.reshape(a, (4, 3))\n",
    "print(c)\n",
    "# Salida:\n",
    "# [[ 0  1  2]\n",
    "#  [ 3  4  5]\n",
    "#  [ 6  7  8]\n",
    "#  [ 9 10 11]]\n",
    "\n",
    "# Cambiamos la forma del array a una matriz de 2 niveles, 3 filas y 2 columnas\n",
    "d = np.reshape(a, (2, 3, 2))\n",
    "print(d)\n",
    "# Salida:\n",
    "# [[[ 0  1]\n",
    "#   [ 2  3]\n",
    "#   [ 4  5]]\n",
    "\n",
    "#  [[ 6  7]\n",
    "#   [ 8  9]\n",
    "#   [10 11]]]\n"
   ]
  },
  {
   "attachments": {},
   "cell_type": "markdown",
   "metadata": {},
   "source": [
    "* En el primer ejemplo, creamos un array de una dimensión con 12 elementos y luego usamos `reshape` para convertirlo en una matriz de 3 filas y 4 columnas.\n",
    "\n",
    "* En el segundo ejemplo, usamos `reshape` para convertir el mismo array de una dimensión en una matriz de 4 filas y 3 columnas.\n",
    "\n",
    "* En el tercer ejemplo, usamos `reshape` para convertir el mismo array de una dimensión en un tensor de dos niveles, con tres filas y dos columnas en cada nivel.\n",
    "\n",
    "Es importante tener en cuenta que el número de elementos en el array original debe ser igual al número de elementos en la forma deseada después de usar `reshape`. Si la cantidad de elementos no coincide, se producirá un error.\n",
    "\n",
    "En resumen, `reshape` es una función útil de `Numpy` que nos permite cambiar la forma de un array sin modificar sus datos. Podemos usar esta función para transformar un array de una dimensión en una matriz o tensor de dos o más dimensiones, y viceversa."
   ]
  },
  {
   "attachments": {},
   "cell_type": "markdown",
   "metadata": {},
   "source": [
    "## **Reshape con dimensión desconocida**"
   ]
  },
  {
   "attachments": {},
   "cell_type": "markdown",
   "metadata": {},
   "source": [
    "En Python, la función `reshape` se utiliza para cambiar la forma `(shape)` de una matriz o un arreglo `(array)` `NumPy` sin alterar sus datos. La función `reshape` permite reorganizar los elementos de la matriz o arreglo `NumPy` en una nueva forma especificada por el usuario.\n",
    "\n",
    "Cuando utilizamos la función `reshape` en Python, podemos especificar la forma deseada de la nueva matriz o arreglo `NumPy` mediante una `tupla` que contiene las dimensiones de la matriz. A veces, sin embargo, puede haber una dimensión desconocida en la `tupla`. Esto significa que no sabemos exactamente el tamaño que debe tener esa dimensión, y la dejamos como una variable que se puede calcular automáticamente.\n",
    "\n",
    "Para crear una nueva matriz o arreglo `NumPy` utilizando la función `reshape` con una dimensión desconocida, debemos especificar la forma deseada de la matriz utilizando una `tupla` que contenga un `\"-1\"` en lugar de la dimensión desconocida. El `\"-1\"` indica a `NumPy` que debe calcular automáticamente el tamaño de esa dimensión para asegurarse de que todos los elementos de la matriz o arreglo que queremos reorganizar puedan encajar en ella.\n",
    "\n",
    "A continuación, presentamos un ejemplo de cómo utilizar la función `reshape` en Python con una dimensión desconocida `(-1)`:"
   ]
  },
  {
   "cell_type": "code",
   "execution_count": 1,
   "metadata": {},
   "outputs": [
    {
     "name": "stdout",
     "output_type": "stream",
     "text": [
      "(4, 5)\n"
     ]
    }
   ],
   "source": [
    "import numpy as np\n",
    "\n",
    "# Creamos un arreglo NumPy de 20 elementos\n",
    "arr = np.arange(20)\n",
    "\n",
    "# Utilizamos la función reshape para reorganizar el arreglo en una matriz de 4 filas y una dimensión desconocida en las columnas\n",
    "matriz = arr.reshape(4, -1)\n",
    "\n",
    "# Imprimimos la forma (shape) de la nueva matriz\n",
    "print(matriz.shape)\n"
   ]
  },
  {
   "attachments": {},
   "cell_type": "markdown",
   "metadata": {},
   "source": [
    "En este ejemplo, creamos un arreglo `NumPy` de 20 elementos utilizando la función arange de `NumPy`. Luego, utilizamos la función `reshape` para reorganizar el arreglo en una matriz de 4 filas y una dimensión desconocida en las columnas. Como especificamos `\"-1\"` como la dimensión desconocida, `NumPy` calcula automáticamente el tamaño de esa dimensión para que todos los 20 elementos del arreglo original puedan encajar en la nueva matriz.\n",
    "\n",
    "Finalmente, imprimimos la forma `(shape)` de la nueva matriz, que es `(4, 5)`. Esto significa que la nueva matriz tiene `4` filas y `5` columnas, lo que es el tamaño calculado automáticamente por `NumPy` para acomodar todos los elementos del arreglo original."
   ]
  },
  {
   "attachments": {},
   "cell_type": "markdown",
   "metadata": {},
   "source": [
    "## **Elementos de un array**"
   ]
  },
  {
   "attachments": {},
   "cell_type": "markdown",
   "metadata": {},
   "source": [
    "En Python, un array es un tipo de estructura de datos que puede contener elementos de un solo tipo, como números, cadenas de caracteres, booleanos, entre otros. En este contexto, los elementos de un array son los valores que se almacenan en él.\n",
    "\n",
    "Los elementos de un `array` en Python se pueden acceder y manipular utilizando sus índices. Los índices de un array `NumPy` comienzan en `0` y se extienden hasta la longitud del `array` menos `1`. Para acceder a un elemento específico de un `array` en Python, debemos usar la notación de corchetes y pasar el índice correspondiente.\n",
    "\n",
    "A continuación, presentamos un ejemplo de cómo acceder a los elementos de un `array` en Python:"
   ]
  },
  {
   "cell_type": "code",
   "execution_count": 2,
   "metadata": {},
   "outputs": [
    {
     "name": "stdout",
     "output_type": "stream",
     "text": [
      "1\n",
      "5\n",
      "[ 1 10  3  4  5]\n"
     ]
    }
   ],
   "source": [
    "import numpy as np\n",
    "\n",
    "# Creamos un array NumPy de números enteros\n",
    "arr = np.array([1, 2, 3, 4, 5])\n",
    "\n",
    "# Accedemos al primer elemento del array\n",
    "print(arr[0])\n",
    "\n",
    "# Accedemos al último elemento del array\n",
    "print(arr[-1])\n",
    "\n",
    "# Cambiamos el valor del segundo elemento del array\n",
    "arr[1] = 10\n",
    "\n",
    "# Imprimimos el array actualizado\n",
    "print(arr)\n"
   ]
  },
  {
   "attachments": {},
   "cell_type": "markdown",
   "metadata": {},
   "source": [
    "En este ejemplo, creamos un `array` `NumPy` de números enteros utilizando la función `array` de `NumPy`. Luego, accedimos al primer elemento del `array` utilizando el índice `0` y lo imprimimos en la consola. También accedimos al último elemento del `array` utilizando el índice `-1`, que indica el último elemento del `array`.\n",
    "\n",
    "Después, cambiamos el valor del segundo elemento del `array` de `2` a `10` utilizando el índice `1` y asignando el nuevo valor. Finalmente, imprimimos el `array` actualizado utilizando la función `print`.\n",
    "\n",
    "También podemos acceder a los elementos de un `array` utilizando la notación de `slices` en Python. La notación de `slices` se utiliza para acceder a un rango de elementos de un `array`. Se utiliza una sintaxis similar a la de la notación de corchetes, pero con dos puntos para indicar un rango de índices.\n",
    "\n",
    "A continuación, presentamos un ejemplo de cómo utilizar la notación de `slices` para acceder a un rango de elementos de un `array` en Python:"
   ]
  },
  {
   "cell_type": "code",
   "execution_count": 3,
   "metadata": {},
   "outputs": [
    {
     "name": "stdout",
     "output_type": "stream",
     "text": [
      "[1 2 3]\n",
      "[2 3 4]\n",
      "[2 4]\n"
     ]
    }
   ],
   "source": [
    "import numpy as np\n",
    "\n",
    "# Creamos un array NumPy de números enteros\n",
    "arr = np.array([1, 2, 3, 4, 5])\n",
    "\n",
    "# Accedemos a los primeros tres elementos del array\n",
    "print(arr[:3])\n",
    "\n",
    "# Accedemos a los elementos del segundo al cuarto del array\n",
    "print(arr[1:4])\n",
    "\n",
    "# Accedemos a los elementos del segundo al último del array con un paso de dos elementos\n",
    "print(arr[1::2])\n"
   ]
  },
  {
   "attachments": {},
   "cell_type": "markdown",
   "metadata": {},
   "source": [
    "En este ejemplo, creamos un `array` `NumPy` de números enteros utilizando la función `array` de `NumPy`. Luego, utilizamos la notación de `slices` para acceder a diferentes rangos de elementos del `array`. En la primera línea, accedemos a los primeros tres elementos del array utilizando la sintaxis `[:3]`. En la segunda línea, accedemos a los elementos del segundo al cuarto del array utilizando la sintaxis `[1:4]`. En la tercera línea, accedemos a los elementos del segundo al último del array con un paso de dos elementos utilizando la sintaxis `[1::2]`.\n",
    "\n",
    "En resumen, los elementos de un `array` en Python son los valores que se almacenan en él. Podemos acceder y manipular los elementos de un `array`"
   ]
  },
  {
   "attachments": {},
   "cell_type": "markdown",
   "metadata": {},
   "source": [
    "## **Concepto de slicing**"
   ]
  },
  {
   "attachments": {},
   "cell_type": "markdown",
   "metadata": {},
   "source": [
    "En Python, el `slicing` se refiere a la técnica de acceder a un subconjunto de elementos de una secuencia, como una lista, una cadena de caracteres o un array. La sintaxis de `slicing` en Python utiliza los corchetes y dos puntos `[:]` para indicar un rango de elementos que se desea acceder.\n",
    "\n",
    "La sintaxis general de `slicing` en Python es la siguiente:"
   ]
  },
  {
   "attachments": {},
   "cell_type": "markdown",
   "metadata": {},
   "source": [
    "`secuencia[inicio:fin:paso]`"
   ]
  },
  {
   "attachments": {},
   "cell_type": "markdown",
   "metadata": {},
   "source": [
    "donde inicio es el índice del primer elemento en el subconjunto, fin es el índice del primer elemento que no se incluye en el subconjunto y paso es el tamaño del salto que se da entre elementos consecutivos. Todos estos parámetros son opcionales.\n",
    "\n",
    "A continuación, presentamos algunos ejemplos de cómo utilizar la sintaxis de `slicing` en Python:"
   ]
  },
  {
   "cell_type": "code",
   "execution_count": 4,
   "metadata": {},
   "outputs": [
    {
     "name": "stdout",
     "output_type": "stream",
     "text": [
      "[1, 2]\n",
      "[3, 4, 5]\n",
      "[2, 4]\n"
     ]
    }
   ],
   "source": [
    "# Creamos una lista de números\n",
    "numeros = [1, 2, 3, 4, 5]\n",
    "\n",
    "# Accedemos a los primeros dos elementos de la lista\n",
    "primeros_dos = numeros[:2]\n",
    "print(primeros_dos) # [1, 2]\n",
    "\n",
    "# Accedemos a los elementos de la lista desde el tercero hasta el último\n",
    "desde_el_tercero = numeros[2:]\n",
    "print(desde_el_tercero) # [3, 4, 5]\n",
    "\n",
    "# Accedemos a los elementos de la lista desde el segundo al cuarto con un paso de 2\n",
    "del_segundo_al_cuarto_con_paso_de_2 = numeros[1:4:2]\n",
    "print(del_segundo_al_cuarto_con_paso_de_2) # [2, 4]\n"
   ]
  },
  {
   "attachments": {},
   "cell_type": "markdown",
   "metadata": {},
   "source": [
    "En este ejemplo, creamos una lista de números y utilizamos la sintaxis de `slicing` para acceder a diferentes subconjuntos de elementos de la lista. En la primera línea, accedemos a los primeros dos elementos de la lista utilizando la sintaxis `[:2]`. En la segunda línea, accedemos a los elementos de la lista desde el tercero hasta el último utilizando la sintaxis `[2:]`. En la tercera línea, accedemos a los elementos de la lista desde el segundo al cuarto con un paso de `2` utilizando la sintaxis `[1:4:2]`.\n",
    "\n",
    "También podemos utilizar la sintaxis de `slicing` en una cadena de caracteres:"
   ]
  },
  {
   "cell_type": "code",
   "execution_count": 5,
   "metadata": {},
   "outputs": [
    {
     "name": "stdout",
     "output_type": "stream",
     "text": [
      "Hola\n",
      "mundo\n"
     ]
    }
   ],
   "source": [
    "# Creamos una cadena de caracteres\n",
    "texto = \"Hola mundo\"\n",
    "\n",
    "# Accedemos a los primeros cuatro caracteres de la cadena\n",
    "primeros_cuatro = texto[:4]\n",
    "print(primeros_cuatro) # \"Hola\"\n",
    "\n",
    "# Accedemos a los caracteres de la cadena desde el quinto hasta el último\n",
    "desde_el_quinto = texto[5:]\n",
    "print(desde_el_quinto) # \"mundo\"\n"
   ]
  },
  {
   "attachments": {},
   "cell_type": "markdown",
   "metadata": {},
   "source": [
    "En este ejemplo, creamos una cadena de caracteres y utilizamos la sintaxis de `slicing` para acceder a diferentes subconjuntos de caracteres de la cadena. En la primera línea, accedemos a los primeros cuatro caracteres de la cadena utilizando la sintaxis `[:4]`. En la segunda línea, accedemos a los caracteres de la cadena desde el quinto hasta el último utilizando la sintaxis `[5:]`.\n",
    "\n",
    "También podemos utilizar la sintaxis de `slicing` en un array `NumPy`:"
   ]
  },
  {
   "cell_type": "code",
   "execution_count": 6,
   "metadata": {},
   "outputs": [
    {
     "name": "stdout",
     "output_type": "stream",
     "text": [
      "[1 2]\n",
      "[3 4 5]\n",
      "[2 4]\n"
     ]
    }
   ],
   "source": [
    "import numpy as np\n",
    "\n",
    "# Creamos un array NumPy de números enteros\n",
    "arr = np.array([1, 2, 3, 4, 5])\n",
    "\n",
    "# Accedemos a los primeros dos elementos del array\n",
    "primeros_dos = arr[:2]\n",
    "print(primeros_dos) # [1, 2]\n",
    "\n",
    "# Accedemos a los elementos de la lista desde el tercero hasta el último\n",
    "desde_el_tercero = arr[2:]\n",
    "print(desde_el_tercero) # [3, 4, 5]\n",
    "\n",
    "# Accedemos a los elementos de la lista desde el segundo al cuarto con un paso de 2\n",
    "del_segundo_al_cuarto_con_paso_de_2 = arr[1:4:2]\n",
    "print(del_segundo_al_cuarto_con_paso_de_2) # [2, 4]\n"
   ]
  },
  {
   "attachments": {},
   "cell_type": "markdown",
   "metadata": {},
   "source": [
    "En este ejemplo, importamos la librería `NumPy` y creamos un `array` `NumPy` de números enteros utilizando la función `np.array()`. Luego, utilizamos la sintaxis de `slicing` para acceder a diferentes subconjuntos de elementos del `array`. En la primera línea, accedemos a los primeros dos elementos del `array` utilizando la sintaxis `[:2]`. En la segunda línea, accedemos a los elementos del `array` desde el tercero hasta el último utilizando la sintaxis `[2:]`. En la tercera línea, accedemos a los elementos del `array` desde el segundo al cuarto con un paso de `2` utilizando la sintaxis `[1:4:2]`."
   ]
  },
  {
   "attachments": {},
   "cell_type": "markdown",
   "metadata": {},
   "source": [
    "## **Filtrando arrays**"
   ]
  },
  {
   "attachments": {},
   "cell_type": "markdown",
   "metadata": {},
   "source": [
    "Filtrar arrays en Python es una técnica muy útil para seleccionar un subconjunto de elementos que cumplen ciertas condiciones. En Python, esto se puede hacer de varias maneras, pero una de las más comunes es utilizando la función `np.where()` de la librería `NumPy`.\n",
    "\n",
    "Supongamos que tenemos un `array` `NumPy` de números enteros:"
   ]
  },
  {
   "cell_type": "code",
   "execution_count": 7,
   "metadata": {},
   "outputs": [],
   "source": [
    "import numpy as np\n",
    "\n",
    "arr = np.array([1, 2, 3, 4, 5])\n"
   ]
  },
  {
   "attachments": {},
   "cell_type": "markdown",
   "metadata": {},
   "source": [
    "Queremos seleccionar los elementos del `array` que son mayores que `2`. Podemos hacer esto utilizando la función `np.where()` de la siguiente manera:"
   ]
  },
  {
   "cell_type": "code",
   "execution_count": 8,
   "metadata": {},
   "outputs": [
    {
     "name": "stdout",
     "output_type": "stream",
     "text": [
      "(array([2, 3, 4]),)\n"
     ]
    }
   ],
   "source": [
    "mayores_que_dos = np.where(arr > 2)\n",
    "print(mayores_que_dos) # (array([2, 3, 4]),)\n"
   ]
  },
  {
   "attachments": {},
   "cell_type": "markdown",
   "metadata": {},
   "source": [
    "La función `np.where()` devuelve una tupla que contiene un array con los índices de los elementos que cumplen la condición y una coma después para indicar que es una tupla. En este caso, los elementos del array arr que son mayores que 2 son los elementos en los índices 2, 3 y 4, por lo que `mayores_que_dos` contiene el valor `(array([2, 3, 4]),)`.\n",
    "\n",
    "Podemos usar la tupla que devuelve `np.where()` para seleccionar los elementos correspondientes del `array` original. Por ejemplo, para obtener un nuevo `array` que contenga solo los elementos mayores que 2, podemos hacer lo siguiente:"
   ]
  },
  {
   "cell_type": "code",
   "execution_count": 9,
   "metadata": {},
   "outputs": [
    {
     "name": "stdout",
     "output_type": "stream",
     "text": [
      "[3 4 5]\n"
     ]
    }
   ],
   "source": [
    "nuevo_arr = arr[np.where(arr > 2)]\n",
    "print(nuevo_arr) # [3, 4, 5]\n"
   ]
  },
  {
   "attachments": {},
   "cell_type": "markdown",
   "metadata": {},
   "source": [
    "En este caso, utilizamos la sintaxis de indexación de arrays para seleccionar solo los elementos del array original que cumplen la condición. En otras palabras, pasamos los índices devueltos por `np.where()` como argumento para seleccionar los elementos correspondientes del array original.\n",
    "\n",
    "También es posible combinar varias condiciones utilizando los operadores lógicos `&` `(y)` y `|` `(o)`. Por ejemplo, si queremos seleccionar los elementos del array que son mayores que 2 y menores que 5, podemos hacer lo siguiente:"
   ]
  },
  {
   "cell_type": "code",
   "execution_count": 10,
   "metadata": {},
   "outputs": [
    {
     "name": "stdout",
     "output_type": "stream",
     "text": [
      "(array([2, 3]),)\n",
      "[3 4]\n"
     ]
    }
   ],
   "source": [
    "mayores_que_dos_y_menores_que_cinco = np.where((arr > 2) & (arr < 5))\n",
    "print(mayores_que_dos_y_menores_que_cinco) # (array([2, 3]),)\n",
    "\n",
    "nuevo_arr_2 = arr[np.where((arr > 2) & (arr < 5))]\n",
    "print(nuevo_arr_2) # [3, 4]\n"
   ]
  },
  {
   "attachments": {},
   "cell_type": "markdown",
   "metadata": {},
   "source": [
    "En este caso, la expresión `(arr > 2)` & `(arr < 5)` devuelve un `array` booleano que indica qué elementos del `array` original cumplen ambas condiciones. Luego, utilizamos `np.where()` para obtener los índices correspondientes y seleccionar los elementos del `array` original."
   ]
  },
  {
   "attachments": {},
   "cell_type": "markdown",
   "metadata": {},
   "source": [
    "## **Tipos de datos en numpy**"
   ]
  },
  {
   "attachments": {},
   "cell_type": "markdown",
   "metadata": {},
   "source": [
    "`NumPy` es una librería muy utilizada en Python para trabajar con arrays multidimensionales y matrices. Ofrece una amplia gama de tipos de datos, algunos de los cuales son similares a los tipos de datos estándar de Python, pero otros son específicos de `NumPy`.\n",
    "\n",
    "Aquí te presento algunos de los tipos de datos más comunes en `NumPy`, junto con una explicación de lo que representan y algunos ejemplos de cómo se utilizan:\n",
    "\n",
    "* **int:**\n",
    "\n",
    " Este tipo de datos representa números enteros con signo. Se pueden especificar diferentes tamaños de `bits`, como `int8` `(8 bits)`, `int16` `(16 bits)`, `int32` `(32 bits)` e `int64` `(64 bits)`. Por ejemplo:"
   ]
  },
  {
   "cell_type": "code",
   "execution_count": 12,
   "metadata": {},
   "outputs": [
    {
     "name": "stdout",
     "output_type": "stream",
     "text": [
      "[1 2 3] [1 2 3]\n"
     ]
    }
   ],
   "source": [
    "import numpy as np\n",
    "\n",
    "x = np.array([1, 2, 3], dtype=np.int32)\n",
    "y = np.array([1, 2, 3], dtype=np.int64)\n",
    "print(x,y)"
   ]
  },
  {
   "attachments": {},
   "cell_type": "markdown",
   "metadata": {},
   "source": [
    "* **float:**\n",
    "\n",
    " Este tipo de datos representa números reales con precisión simple o doble. Los tamaños de `bits` comunes incluyen `float16` `(16 bits)`, `float32` `(32 bits)` y `float64` `(64 bits)`. Por ejemplo:"
   ]
  },
  {
   "cell_type": "code",
   "execution_count": 14,
   "metadata": {},
   "outputs": [
    {
     "name": "stdout",
     "output_type": "stream",
     "text": [
      "[1. 2. 3.] [1. 2. 3.]\n"
     ]
    }
   ],
   "source": [
    "import numpy as np\n",
    "\n",
    "x = np.array([1.0, 2.0, 3.0], dtype=np.float32)\n",
    "y = np.array([1.0, 2.0, 3.0], dtype=np.float64)\n",
    "print(x,y)"
   ]
  },
  {
   "attachments": {},
   "cell_type": "markdown",
   "metadata": {},
   "source": [
    "* **bool:**\n",
    "\n",
    " Este tipo de datos representa valores booleanos, es decir, `True` o `False`. El tamaño de `bits` predeterminado es de `8` `bits`. Por ejemplo:"
   ]
  },
  {
   "cell_type": "code",
   "execution_count": 17,
   "metadata": {},
   "outputs": [
    {
     "name": "stdout",
     "output_type": "stream",
     "text": [
      "[ True False  True]\n"
     ]
    }
   ],
   "source": [
    "import numpy as np\n",
    "\n",
    "x = np.array([True, False, True], dtype=bool)\n",
    "print(x)"
   ]
  },
  {
   "cell_type": "code",
   "execution_count": 18,
   "metadata": {},
   "outputs": [
    {
     "name": "stdout",
     "output_type": "stream",
     "text": [
      "[ True False  True]\n"
     ]
    }
   ],
   "source": [
    "import numpy as np\n",
    "\n",
    "x = np.array([True, False, True], dtype=np.bool_)\n",
    "print(x)"
   ]
  },
  {
   "attachments": {},
   "cell_type": "markdown",
   "metadata": {},
   "source": [
    "* **complex:**\n",
    "\n",
    " Este tipo de datos representa números complejos con precisión simple o doble. Los tamaños de `bits` comunes incluyen `complex64` `(dos floats de 32 bits)` y `complex128` `(dos floats de 64 bits)`. Por ejemplo:"
   ]
  },
  {
   "cell_type": "code",
   "execution_count": 19,
   "metadata": {},
   "outputs": [
    {
     "name": "stdout",
     "output_type": "stream",
     "text": [
      "[1.+2.j 2.+3.j 3.+4.j] [1.+2.j 2.+3.j 3.+4.j]\n"
     ]
    }
   ],
   "source": [
    "import numpy as np\n",
    "\n",
    "x = np.array([1+2j, 2+3j, 3+4j], dtype=np.complex64)\n",
    "y = np.array([1+2j, 2+3j, 3+4j], dtype=np.complex128)\n",
    "print(x,y)"
   ]
  },
  {
   "attachments": {},
   "cell_type": "markdown",
   "metadata": {},
   "source": [
    "* **string:**\n",
    "\n",
    " Este tipo de datos representa cadenas de texto. Se pueden especificar diferentes tamaños de caracteres, como `S10` `(cadenas de hasta 10 caracteres)` o `U10` `(cadenas de hasta 10 caracteres Unicode)`. Por ejemplo:"
   ]
  },
  {
   "cell_type": "code",
   "execution_count": 20,
   "metadata": {},
   "outputs": [
    {
     "name": "stdout",
     "output_type": "stream",
     "text": [
      "[b'hola' b'mundo']\n",
      "['你好' '世界']\n"
     ]
    }
   ],
   "source": [
    "import numpy as np\n",
    "\n",
    "x = np.array(['hola', 'mundo'], dtype=np.string_)\n",
    "y = np.array(['你好', '世界'], dtype=np.unicode_)\n",
    "print(x)\n",
    "print(y)"
   ]
  },
  {
   "attachments": {},
   "cell_type": "markdown",
   "metadata": {},
   "source": [
    "* **datetime:**\n",
    "\n",
    " Este tipo de datos representa fechas y horas. Se pueden especificar diferentes formatos, como `YYYY-MM-DD` para fechas o `YYYY-MM-DD` `HH:MM:SS` para fechas y horas. Por ejemplo:"
   ]
  },
  {
   "cell_type": "code",
   "execution_count": 21,
   "metadata": {},
   "outputs": [
    {
     "name": "stdout",
     "output_type": "stream",
     "text": [
      "['2022-01-01' '2022-02-01']\n",
      "['2022-01-01T12:00:00' '2022-02-01T12:00:00']\n"
     ]
    }
   ],
   "source": [
    "import numpy as np\n",
    "\n",
    "x = np.array(['2022-01-01', '2022-02-01'], dtype=np.datetime64)\n",
    "y = np.array(['2022-01-01 12:00:00', '2022-02-01 12:00:00'], dtype=np.datetime64)\n",
    "print(x)\n",
    "print(y)"
   ]
  },
  {
   "attachments": {},
   "cell_type": "markdown",
   "metadata": {},
   "source": [
    "Estos son solo algunos ejemplos de los tipos de datos disponibles en `NumPy`. También hay otros tipos de datos menos comunes, como los tipos de datos estructurados."
   ]
  },
  {
   "attachments": {},
   "cell_type": "markdown",
   "metadata": {},
   "source": [
    "## **Copias y views de arrays**"
   ]
  },
  {
   "attachments": {},
   "cell_type": "markdown",
   "metadata": {},
   "source": [
    "En `NumPy`, cuando se trabaja con arrays, existen dos formas principales de acceder y manipular los datos: a través de copias o a través de vistas. La diferencia entre ambas se encuentra en cómo se almacenan y se acceden a los datos subyacentes del array.\n",
    "\n",
    "* **Copias:**\n",
    "\n",
    " Una copia de un array es una nueva instancia de array que tiene los mismos valores que el array original pero está almacenado en una ubicación de memoria diferente. Al modificar la copia no se afecta el array original. Para crear una copia se puede utilizar la función `copy()`.\n",
    "\n",
    "**Ejemplo:**"
   ]
  },
  {
   "cell_type": "code",
   "execution_count": 22,
   "metadata": {},
   "outputs": [
    {
     "name": "stdout",
     "output_type": "stream",
     "text": [
      "Array original: [1 2 3 4]\n",
      "Copia modificada: [10  2  3  4]\n"
     ]
    }
   ],
   "source": [
    "import numpy as np\n",
    "\n",
    "# Crear un array original\n",
    "original = np.array([1, 2, 3, 4])\n",
    "\n",
    "# Crear una copia del array original\n",
    "copia = original.copy()\n",
    "\n",
    "# Modificar la copia\n",
    "copia[0] = 10\n",
    "\n",
    "# Verificar que la copia ha cambiado y el original no\n",
    "print(\"Array original:\", original)  # [1 2 3 4]\n",
    "print(\"Copia modificada:\", copia)  # [10  2  3  4]\n"
   ]
  },
  {
   "attachments": {},
   "cell_type": "markdown",
   "metadata": {},
   "source": [
    "* **Views:**\n",
    "\n",
    "Una vista de un array es una referencia al mismo bloque de memoria que el array original, pero con una forma o un tipo de datos diferente. Las vistas no ocupan memoria adicional y, por lo tanto, son muy útiles para trabajar con grandes conjuntos de datos.\n",
    "\n",
    "**Ejemplo:**"
   ]
  },
  {
   "cell_type": "code",
   "execution_count": 23,
   "metadata": {},
   "outputs": [
    {
     "name": "stdout",
     "output_type": "stream",
     "text": [
      "Array original modificado: [[ 1 10  3]\n",
      " [ 4  5  6]]\n",
      "Vista modificada: [[ 1 10]\n",
      " [ 3  4]\n",
      " [ 5  6]]\n"
     ]
    }
   ],
   "source": [
    "import numpy as np\n",
    "\n",
    "# Crear un array original\n",
    "original = np.array([[1, 2, 3], [4, 5, 6]])\n",
    "\n",
    "# Crear una vista de este array\n",
    "vista = original.reshape((3, 2))\n",
    "\n",
    "# Modificar la vista\n",
    "vista[0][1] = 10\n",
    "\n",
    "# Verificar que la vista ha cambiado y el original también\n",
    "print(\"Array original modificado:\", original)  # [[ 1 10][ 3  4][ 5  6]]\n",
    "print(\"Vista modificada:\", vista)  # [[1 10][3 4][5 6]]\n"
   ]
  },
  {
   "attachments": {},
   "cell_type": "markdown",
   "metadata": {},
   "source": [
    "En este ejemplo, la vista del array se creó con una forma diferente utilizando la función `reshape()`. La vista es una referencia al mismo bloque de memoria que el array original, por lo que cualquier cambio realizado en la vista también afecta al array original.\n",
    "\n",
    "En resumen, las copias y vistas de arrays son útiles en diferentes situaciones, según se necesite o no crear una nueva instancia de array o se quiera trabajar con un bloque de memoria de manera más eficiente."
   ]
  },
  {
   "attachments": {},
   "cell_type": "markdown",
   "metadata": {},
   "source": [
    "## **Arrays y bucles**"
   ]
  },
  {
   "attachments": {},
   "cell_type": "markdown",
   "metadata": {},
   "source": [
    "Los arrays son una estructura de datos fundamental en `NumPy` que permite almacenar y manipular grandes conjuntos de datos de manera eficiente. A menudo, se utilizan bucles para procesar y manipular datos en un `array`. En Python, los bucles se pueden escribir de varias formas, pero aquí nos centraremos en los bucles `for`.\n",
    "\n",
    "Un bucle `for` es una estructura de control que permite repetir una sección de código varias veces. En el caso de procesar un `array`, los bucles `for` se utilizan para recorrer los elementos del `array` y realizar alguna operación sobre ellos.\n",
    "\n",
    "**Ejemplo:**"
   ]
  },
  {
   "cell_type": "code",
   "execution_count": 24,
   "metadata": {},
   "outputs": [
    {
     "name": "stdout",
     "output_type": "stream",
     "text": [
      "[2 3 4 5 6]\n"
     ]
    }
   ],
   "source": [
    "import numpy as np\n",
    "\n",
    "# Crear un array\n",
    "arr = np.array([1, 2, 3, 4, 5])\n",
    "\n",
    "# Sumar 1 a cada elemento del array usando un bucle for\n",
    "for i in range(len(arr)):\n",
    "    arr[i] += 1\n",
    "\n",
    "# Verificar el array modificado\n",
    "print(arr)  # [2 3 4 5 6]\n"
   ]
  },
  {
   "attachments": {},
   "cell_type": "markdown",
   "metadata": {},
   "source": [
    "En este ejemplo, se crea un `array` de números enteros y se utiliza un bucle `for` para recorrer cada elemento del `array` y sumarle `1`. La función `range()` se utiliza para crear una secuencia de números que se utilizan como índices para acceder a cada elemento del `array`. La función `len()` se utiliza para obtener la longitud del `array`, que se utiliza como límite superior para la secuencia de números.\n",
    "\n",
    "Otro ejemplo de uso de bucles `for` con arrays es el siguiente:"
   ]
  },
  {
   "cell_type": "code",
   "execution_count": 25,
   "metadata": {},
   "outputs": [
    {
     "name": "stdout",
     "output_type": "stream",
     "text": [
      "[[ 2  4  6]\n",
      " [ 8 10 12]\n",
      " [14 16 18]]\n"
     ]
    }
   ],
   "source": [
    "import numpy as np\n",
    "\n",
    "# Crear un array de dos dimensiones\n",
    "arr = np.array([[1, 2, 3], [4, 5, 6], [7, 8, 9]])\n",
    "\n",
    "# Recorrer el array de dos dimensiones usando dos bucles for\n",
    "for i in range(arr.shape[0]):\n",
    "    for j in range(arr.shape[1]):\n",
    "        arr[i][j] *= 2\n",
    "\n",
    "# Verificar el array modificado\n",
    "print(arr)\n",
    "# [[ 2  4  6]\n",
    "#  [ 8 10 12]\n",
    "#  [14 16 18]]\n"
   ]
  },
  {
   "attachments": {},
   "cell_type": "markdown",
   "metadata": {},
   "source": [
    "En este ejemplo, se crea un `array` de dos dimensiones y se utiliza un par de bucles `for` para recorrer cada elemento del `array` y multiplicarlo por `2`. La función `shape` se utiliza para obtener la forma del `array`, es decir, el número de filas y columnas, que se utilizan como límites superiores para los bucles.\n",
    "\n",
    "En resumen, los bucles `for` son una herramienta útil para procesar y manipular `arrays` en Python. Se pueden utilizar para recorrer elementos de un `array` y realizar operaciones en ellos de manera iterativa."
   ]
  },
  {
   "attachments": {},
   "cell_type": "markdown",
   "metadata": {},
   "source": [
    "## **Bucles con .nditer() y .ndenumerate()**"
   ]
  },
  {
   "attachments": {},
   "cell_type": "markdown",
   "metadata": {},
   "source": [
    "En `NumPy`, existen dos métodos para recorrer los elementos de un array multidimensional de manera eficiente: `.nditer()` y `.ndenumerate()`.\n",
    "\n",
    "* **.nditer():**\n",
    "\n",
    " Este método devuelve un objeto iterador que puede utilizarse para recorrer los elementos de un array multidimensional de manera eficiente. El método `.nditer()` toma como argumento el array a recorrer y opcionalmente, algunos parámetros que definen cómo se realizará el recorrido. El objeto iterador que se devuelve puede ser utilizado en un bucle `for` para procesar los elementos del array.\n",
    "\n",
    "**Ejemplo:**"
   ]
  },
  {
   "cell_type": "code",
   "execution_count": 26,
   "metadata": {},
   "outputs": [
    {
     "name": "stdout",
     "output_type": "stream",
     "text": [
      "1\n",
      "2\n",
      "3\n",
      "4\n",
      "5\n",
      "6\n",
      "7\n",
      "8\n",
      "9\n"
     ]
    }
   ],
   "source": [
    "import numpy as np\n",
    "\n",
    "# Crear un array de dos dimensiones\n",
    "arr = np.array([[1, 2, 3], [4, 5, 6], [7, 8, 9]])\n",
    "\n",
    "# Iterar sobre los elementos del array con nditer()\n",
    "for x in np.nditer(arr):\n",
    "    print(x)\n"
   ]
  },
  {
   "attachments": {},
   "cell_type": "markdown",
   "metadata": {},
   "source": [
    "En este ejemplo, se crea un array de dos dimensiones y se utiliza el método `.nditer()` para recorrer todos los elementos del array de manera eficiente. El bucle `for` recorre los elementos del iterador y los imprime uno por uno.\n",
    "\n",
    "* **.ndenumerate():**\n",
    "\n",
    " Este método es similar al método `.nditer()`, pero devuelve una tupla que contiene la posición del elemento en el array y el propio elemento. El método `.ndenumerate()` también toma como argumento el array a recorrer y opcionalmente, algunos parámetros que definen cómo se realizará el recorrido. El objeto iterador que se devuelve puede ser utilizado en un bucle `for` para procesar los elementos del array junto con sus posiciones.\n",
    "\n",
    "**Ejemplo:**"
   ]
  },
  {
   "cell_type": "code",
   "execution_count": 27,
   "metadata": {},
   "outputs": [
    {
     "name": "stdout",
     "output_type": "stream",
     "text": [
      "El elemento en la posición (0, 0) es 1\n",
      "El elemento en la posición (0, 1) es 2\n",
      "El elemento en la posición (0, 2) es 3\n",
      "El elemento en la posición (1, 0) es 4\n",
      "El elemento en la posición (1, 1) es 5\n",
      "El elemento en la posición (1, 2) es 6\n",
      "El elemento en la posición (2, 0) es 7\n",
      "El elemento en la posición (2, 1) es 8\n",
      "El elemento en la posición (2, 2) es 9\n"
     ]
    }
   ],
   "source": [
    "import numpy as np\n",
    "\n",
    "# Crear un array de dos dimensiones\n",
    "arr = np.array([[1, 2, 3], [4, 5, 6], [7, 8, 9]])\n",
    "\n",
    "# Iterar sobre los elementos del array con ndenumerate()\n",
    "for pos, val in np.ndenumerate(arr):\n",
    "    print(f\"El elemento en la posición {pos} es {val}\")\n"
   ]
  },
  {
   "attachments": {},
   "cell_type": "markdown",
   "metadata": {},
   "source": [
    "En este ejemplo, se crea un array de dos dimensiones y se utiliza el método `.ndenumerate()` para recorrer todos los elementos del array junto con sus posiciones. El bucle `for` recorre los elementos del iterador y los imprime junto con sus posiciones.\n",
    "\n",
    "En resumen, los métodos `.nditer()` y `.ndenumerate()` son herramientas útiles para recorrer los elementos de un array multidimensional de manera eficiente y con una sintaxis simplificada en comparación con los bucles `for` tradicionales."
   ]
  },
  {
   "attachments": {},
   "cell_type": "markdown",
   "metadata": {},
   "source": [
    "## **Concatenación de arrays**"
   ]
  },
  {
   "attachments": {},
   "cell_type": "markdown",
   "metadata": {},
   "source": [
    "La concatenación de arrays en Python se refiere a la operación de unir dos o más arrays en uno solo, con una forma más grande que contiene los elementos de todos los arrays de entrada. En `NumPy`, existen varias funciones que permiten concatenar arrays, como `concatenate()`, `hstack()`, `vstack()` y `dstack()`.\n",
    "\n",
    "La función `concatenate()` permite concatenar arrays a lo largo de un eje específico. Los arrays deben tener la misma forma en todas las dimensiones excepto la que se especifica en el parámetro `axis`. La sintaxis general de la función es la siguiente:"
   ]
  },
  {
   "attachments": {},
   "cell_type": "markdown",
   "metadata": {},
   "source": [
    "`numpy.concatenate((a1, a2, ...), axis=0, out=None)`"
   ]
  },
  {
   "attachments": {},
   "cell_type": "markdown",
   "metadata": {},
   "source": [
    "donde `a1, a2, ...` son los arrays que se quieren concatenar y `axis` es el eje a lo largo del cual se realiza la concatenación (0 para concatenar verticalmente y 1 para concatenar horizontalmente). El parámetro out especifica el `array` de salida donde se guarda el resultado de la concatenación.\n",
    "\n",
    "**Ejemplo:**"
   ]
  },
  {
   "cell_type": "code",
   "execution_count": 28,
   "metadata": {},
   "outputs": [
    {
     "name": "stdout",
     "output_type": "stream",
     "text": [
      "[[1 2]\n",
      " [3 4]\n",
      " [5 6]]\n"
     ]
    }
   ],
   "source": [
    "import numpy as np\n",
    "\n",
    "# Creamos dos arrays a concatenar\n",
    "a = np.array([[1, 2], [3, 4]])\n",
    "b = np.array([[5, 6]])\n",
    "\n",
    "# Concatenamos los arrays a lo largo del eje 0 (verticalmente)\n",
    "c = np.concatenate((a, b), axis=0)\n",
    "\n",
    "print(c)\n"
   ]
  },
  {
   "attachments": {},
   "cell_type": "markdown",
   "metadata": {},
   "source": [
    "Este código imprimirá la matriz `[[1 2], [3 4], [5 6]]`.\n",
    "\n",
    "La función `hstack()` permite concatenar dos o más arrays horizontalmente, es decir, a lo largo del segundo eje. Los arrays deben tener la misma forma en la primera dimensión. La sintaxis general de la función es la siguiente:"
   ]
  },
  {
   "attachments": {},
   "cell_type": "markdown",
   "metadata": {},
   "source": [
    "`numpy.hstack(tup)`"
   ]
  },
  {
   "attachments": {},
   "cell_type": "markdown",
   "metadata": {},
   "source": [
    "donde `tup` es una tupla de arrays que se quieren concatenar horizontalmente.\n",
    "\n",
    "**Ejemplo:**"
   ]
  },
  {
   "cell_type": "code",
   "execution_count": 29,
   "metadata": {},
   "outputs": [
    {
     "name": "stdout",
     "output_type": "stream",
     "text": [
      "[1 2 3 4 5 6]\n"
     ]
    }
   ],
   "source": [
    "import numpy as np\n",
    "\n",
    "# Creamos dos arrays a concatenar\n",
    "a = np.array([1, 2, 3])\n",
    "b = np.array([4, 5, 6])\n",
    "\n",
    "# Concatenamos los arrays horizontalmente\n",
    "c = np.hstack((a, b))\n",
    "\n",
    "print(c)\n"
   ]
  },
  {
   "attachments": {},
   "cell_type": "markdown",
   "metadata": {},
   "source": [
    "Este código imprimirá el array `[1 2 3 4 5 6]`.\n",
    "\n",
    "La función `vstack()` permite concatenar dos o más arrays verticalmente, es decir, a lo largo del primer eje. Los arrays deben tener la misma forma en la segunda dimensión. La sintaxis general de la función es la siguiente:"
   ]
  },
  {
   "attachments": {},
   "cell_type": "markdown",
   "metadata": {},
   "source": [
    "`numpy.vstack(tup)`"
   ]
  },
  {
   "attachments": {},
   "cell_type": "markdown",
   "metadata": {},
   "source": [
    "donde `tup` es una tupla de arrays que se quieren concatenar verticalmente.\n",
    "\n",
    "**Ejemplo:**"
   ]
  },
  {
   "cell_type": "code",
   "execution_count": 30,
   "metadata": {},
   "outputs": [
    {
     "name": "stdout",
     "output_type": "stream",
     "text": [
      "[[1]\n",
      " [2]\n",
      " [3]\n",
      " [4]\n",
      " [5]\n",
      " [6]]\n"
     ]
    }
   ],
   "source": [
    "import numpy as np\n",
    "\n",
    "# Creamos dos arrays a concatenar\n",
    "a = np.array([[1], [2], [3]])\n",
    "b = np.array([[4], [5], [6]])\n",
    "\n",
    "# Concatenamos los arrays verticalmente\n",
    "c = np.vstack((a, b))\n",
    "\n",
    "print(c)\n"
   ]
  },
  {
   "attachments": {},
   "cell_type": "markdown",
   "metadata": {},
   "source": [
    "Este código imprimirá la matriz `[[1], [2], [3], [4], [5], [6]]`.\n",
    "\n",
    "Por último, la función `dstack()` permite concatenar dos o más arrays a lo largo del tercer eje. Los arrays deben tener la misma forma en la primera y segunda dimensión. La sintaxis general de la función es la siguiente:"
   ]
  },
  {
   "attachments": {},
   "cell_type": "markdown",
   "metadata": {},
   "source": [
    "`numpy.dstack(tup)`"
   ]
  },
  {
   "attachments": {},
   "cell_type": "markdown",
   "metadata": {},
   "source": [
    "`numpy.dstack(tup)` es una función de `NumPy` que se utiliza para apilar arrays en profundidad a lo largo del tercer eje. La función toma como entrada una tupla de arrays y devuelve un solo array tridimensional.\n",
    "\n",
    "Aquí te dejo un ejemplo de cómo usar la función `numpy.dstack(tup)`:"
   ]
  },
  {
   "cell_type": "code",
   "execution_count": 31,
   "metadata": {},
   "outputs": [
    {
     "name": "stdout",
     "output_type": "stream",
     "text": [
      "Apilamiento en profundidad:\n",
      " [[[1 5]\n",
      "  [2 6]]\n",
      "\n",
      " [[3 7]\n",
      "  [4 8]]]\n"
     ]
    }
   ],
   "source": [
    "import numpy as np\n",
    "\n",
    "# Crear dos arrays de ejemplo\n",
    "arr1 = np.array([[1, 2], [3, 4]])\n",
    "arr2 = np.array([[5, 6], [7, 8]])\n",
    "\n",
    "# Apilar los arrays en profundidad\n",
    "arr_dstack = np.dstack((arr1, arr2))\n",
    "\n",
    "# Imprimir el resultado\n",
    "print(\"Apilamiento en profundidad:\\n\", arr_dstack)\n"
   ]
  },
  {
   "attachments": {},
   "cell_type": "markdown",
   "metadata": {},
   "source": [
    "Este código crea dos arrays de ejemplo `arr1` y `arr2` y luego los apila en profundidad utilizando la función `np.dstack()`. El resultado se almacena en la variable `arr_dstack` y se imprime en pantalla para su visualización. El resultado debería ser un array tridimensional en el que cada elemento corresponde a una fila y columna en los dos arrays originales."
   ]
  },
  {
   "cell_type": "code",
   "execution_count": 32,
   "metadata": {},
   "outputs": [
    {
     "name": "stdout",
     "output_type": "stream",
     "text": [
      "Concatenación vertical:\n",
      " [[1 2]\n",
      " [3 4]\n",
      " [5 6]\n",
      " [7 8]]\n",
      "Concatenación horizontal:\n",
      " [[1 2 5 6]\n",
      " [3 4 7 8]]\n"
     ]
    }
   ],
   "source": [
    "import numpy as np\n",
    "\n",
    "# Crear dos arrays de ejemplo\n",
    "arr1 = np.array([[1, 2], [3, 4]])\n",
    "arr2 = np.array([[5, 6], [7, 8]])\n",
    "\n",
    "# Concatenar verticalmente\n",
    "arr_v = np.concatenate((arr1, arr2), axis=0)\n",
    "print(\"Concatenación vertical:\\n\", arr_v)\n",
    "\n",
    "# Concatenar horizontalmente\n",
    "arr_h = np.concatenate((arr1, arr2), axis=1)\n",
    "print(\"Concatenación horizontal:\\n\", arr_h)\n"
   ]
  },
  {
   "attachments": {},
   "cell_type": "markdown",
   "metadata": {},
   "source": [
    "Este código crea dos arrays de ejemplo `arr1` y `arr2` y luego los concatena verticalmente y horizontalmente utilizando la función `np.concatenate()`. La concatenación vertical se realiza utilizando `axis=0`, lo que resulta en la unión de las filas de los dos arrays. La concatenación horizontal se realiza utilizando `axis=1`, lo que resulta en la unión de las columnas de los dos arrays. El resultado de cada concatenación se almacena en una variable separada y se imprime en pantalla para su visualización."
   ]
  },
  {
   "attachments": {},
   "cell_type": "markdown",
   "metadata": {},
   "source": [
    "## **Concatenación con el método .stack()**"
   ]
  },
  {
   "attachments": {},
   "cell_type": "markdown",
   "metadata": {},
   "source": [
    "La función `numpy.stack()` se utiliza para apilar arrays a lo largo de un nuevo eje. A diferencia de la función `numpy.concatenate()`, que une arrays a lo largo de un eje existente, `numpy.stack()` agrega un nuevo eje en la dirección especificada.\n",
    "\n",
    "Aquí te dejo un ejemplo de cómo usar la función `numpy.stack()`:"
   ]
  },
  {
   "cell_type": "code",
   "execution_count": 33,
   "metadata": {},
   "outputs": [
    {
     "name": "stdout",
     "output_type": "stream",
     "text": [
      "Apilamiento con stack:\n",
      " [[1 2 3]\n",
      " [4 5 6]]\n"
     ]
    }
   ],
   "source": [
    "import numpy as np\n",
    "\n",
    "# Crear dos arrays de ejemplo\n",
    "arr1 = np.array([1, 2, 3])\n",
    "arr2 = np.array([4, 5, 6])\n",
    "\n",
    "# Apilar los arrays a lo largo del nuevo eje\n",
    "arr_stack = np.stack((arr1, arr2))\n",
    "\n",
    "# Imprimir el resultado\n",
    "print(\"Apilamiento con stack:\\n\", arr_stack)\n"
   ]
  },
  {
   "attachments": {},
   "cell_type": "markdown",
   "metadata": {},
   "source": [
    "Este código crea dos arrays de ejemplo `arr1` y `arr2` y luego los apila a lo largo del nuevo eje utilizando la función `np.stack()`. El resultado se almacena en la variable `arr_stack` y se imprime en pantalla para su visualización. El resultado debería ser un array bidimensional en el que cada elemento corresponde a una fila y columna en los dos arrays originales.\n",
    "\n",
    "También se puede especificar el eje a lo largo del cual apilar los arrays. Por ejemplo, si se desea apilar los arrays a lo largo del segundo eje, se puede utilizar la siguiente sintaxis:"
   ]
  },
  {
   "attachments": {},
   "cell_type": "markdown",
   "metadata": {},
   "source": [
    "`arr_stack = np.stack((arr1, arr2), axis=1)`"
   ]
  },
  {
   "attachments": {},
   "cell_type": "markdown",
   "metadata": {},
   "source": [
    "En este caso, los dos arrays se apilan a lo largo del segundo eje, lo que significa que los elementos correspondientes se colocan en la misma columna del nuevo array. El resultado debería ser un array bidimensional en el que cada elemento corresponde a una fila y columna en los dos arrays originales, pero los elementos de `arr1` y `arr2` están en diferentes columnas."
   ]
  },
  {
   "attachments": {},
   "cell_type": "markdown",
   "metadata": {},
   "source": [
    "## **Concatenando por filas, por columnas y por profundidad**"
   ]
  },
  {
   "attachments": {},
   "cell_type": "markdown",
   "metadata": {},
   "source": [
    "La concatenación de arrays en `NumPy` es una operación muy común en el procesamiento de datos. En `NumPy`, hay varias formas de concatenar arrays, dependiendo de cómo se desee unirlos: por filas, por columnas o por profundidad.\n",
    "\n",
    "A continuación se explican cada una de estas formas de concatenación con ejemplos:\n",
    "\n",
    "* **Concatenación por filas**\n",
    "\n",
    "La concatenación por filas une dos o más arrays a lo largo del eje `0` (el eje vertical) para formar un nuevo array. Para concatenar arrays por filas, se puede utilizar la función `numpy.concatenate()` con el parámetro `axis=0`, o bien la función `numpy.vstack()`."
   ]
  },
  {
   "cell_type": "code",
   "execution_count": 34,
   "metadata": {},
   "outputs": [
    {
     "name": "stdout",
     "output_type": "stream",
     "text": [
      "Concatenación por filas:\n",
      " [[1 2]\n",
      " [3 4]\n",
      " [5 6]\n",
      " [7 8]]\n",
      "vstack por filas:\n",
      " [[1 2]\n",
      " [3 4]\n",
      " [5 6]\n",
      " [7 8]]\n"
     ]
    }
   ],
   "source": [
    "import numpy as np\n",
    "\n",
    "# Crear dos arrays de ejemplo\n",
    "arr1 = np.array([[1, 2], [3, 4]])\n",
    "arr2 = np.array([[5, 6], [7, 8]])\n",
    "\n",
    "# Concatenar los arrays por filas\n",
    "arr_concat = np.concatenate((arr1, arr2), axis=0)\n",
    "arr_vstack = np.vstack((arr1, arr2))\n",
    "\n",
    "# Imprimir los resultados\n",
    "print(\"Concatenación por filas:\\n\", arr_concat)\n",
    "print(\"vstack por filas:\\n\", arr_vstack)\n"
   ]
  },
  {
   "attachments": {},
   "cell_type": "markdown",
   "metadata": {},
   "source": [
    "En este ejemplo, se crean dos arrays de ejemplo `arr1` y `arr2`, y luego se concatenan por filas utilizando las funciones `numpy.concatenate()` y `numpy.vstack()`. Los resultados se almacenan en las variables `arr_concat` y `arr_vstack`, y se imprimen en pantalla.\n",
    "\n",
    "* **Concatenación por columnas**\n",
    "\n",
    "La concatenación por columnas une dos o más arrays a lo largo del eje `1` (el eje horizontal) para formar un nuevo array. Para concatenar arrays por columnas, se puede utilizar la función `numpy.concatenate()` con el parámetro `axis=1`, o bien la función `numpy.hstack()`.\n",
    "\n"
   ]
  },
  {
   "cell_type": "code",
   "execution_count": 35,
   "metadata": {},
   "outputs": [
    {
     "name": "stdout",
     "output_type": "stream",
     "text": [
      "Concatenación por columnas:\n",
      " [[1 2 5 6]\n",
      " [3 4 7 8]]\n",
      "hstack por columnas:\n",
      " [[1 2 5 6]\n",
      " [3 4 7 8]]\n"
     ]
    }
   ],
   "source": [
    "import numpy as np\n",
    "\n",
    "# Crear dos arrays de ejemplo\n",
    "arr1 = np.array([[1, 2], [3, 4]])\n",
    "arr2 = np.array([[5, 6], [7, 8]])\n",
    "\n",
    "# Concatenar los arrays por columnas\n",
    "arr_concat = np.concatenate((arr1, arr2), axis=1)\n",
    "arr_hstack = np.hstack((arr1, arr2))\n",
    "\n",
    "# Imprimir los resultados\n",
    "print(\"Concatenación por columnas:\\n\", arr_concat)\n",
    "print(\"hstack por columnas:\\n\", arr_hstack)\n"
   ]
  },
  {
   "attachments": {},
   "cell_type": "markdown",
   "metadata": {},
   "source": [
    "En este ejemplo, se crean dos `arrays` de ejemplo `arr1` y `arr2`, y luego se concatenan por columnas utilizando las funciones `numpy.concatenate()` y `numpy.hstack()`. Los resultados se almacenan en las variables `arr_concat` y `arr_hstack`, y se imprimen en pantalla.\n",
    "\n",
    "* **Concatenación por profundidad**\n",
    "\n",
    "La concatenación por profundidad une dos o más `arrays` a lo largo del eje `2` (el eje de profundidad) para formar un nuevo `array`. Para concatenar `arrays` por profundidad, se puede utilizar la función `numpy.dstack()`."
   ]
  },
  {
   "cell_type": "code",
   "execution_count": 36,
   "metadata": {},
   "outputs": [
    {
     "name": "stdout",
     "output_type": "stream",
     "text": [
      "Concatenación por profundidad:\n",
      " [[[1 5]\n",
      "  [2 6]]\n",
      "\n",
      " [[3 7]\n",
      "  [4 8]]]\n"
     ]
    }
   ],
   "source": [
    "import numpy as np\n",
    "\n",
    "# Crear dos arrays de ejemplo\n",
    "arr1 = np.array([[1, 2], [3, 4]])\n",
    "arr2 = np.array([[5, 6], [7, 8]])\n",
    "\n",
    "# Concatenar los arrays por profundidad\n",
    "arr_dstack = np.dstack((arr1, arr2))\n",
    "\n",
    "# Imprimir el resultado\n",
    "print(\"Concatenación por profundidad:\\n\", arr_dstack)\n"
   ]
  },
  {
   "attachments": {},
   "cell_type": "markdown",
   "metadata": {},
   "source": [
    "En este ejemplo, se han creado dos arrays de ejemplo `arr1` y `arr2` y se han concatenado por profundidad utilizando la función `np.dstack()`. El resultado se almacena en la variable `arr_dstack`. Luego, se imprime el resultado utilizando la función `print()`. La salida muestra que los dos arrays se han concatenado por profundidad y se han apilado uno encima del otro en un nuevo `array` de `3` dimensiones."
   ]
  },
  {
   "attachments": {},
   "cell_type": "markdown",
   "metadata": {},
   "source": [
    "## **Dividiendo arrays 1D**"
   ]
  },
  {
   "attachments": {},
   "cell_type": "markdown",
   "metadata": {},
   "source": [
    "La división de arrays en `NumPy` se refiere a la separación de un `array` en varios `sub-arrays` más pequeños. Esto es útil cuando queremos trabajar con partes específicas de un `array`, o cuando queremos separar un `array` en bloques más pequeños para procesarlo de manera más eficiente.\n",
    "\n",
    "En este caso, nos centraremos en la división de `arrays 1D`. En `NumPy`, hay varias formas de dividir un `array 1D` en `sub-arrays` más pequeños, a través de las funciones `split()`, `array_split()`, y `hsplit()`.\n",
    "\n",
    "* La función `split()` divide un `array` en `sub-arrays` de tamaño igual.\n",
    "\n",
    "* La función `array_split()` divide un `array` en `sub-arrays` de tamaño desigual.\n",
    "\n",
    "* La función `hsplit()` divide un `array` horizontalmente a lo largo del segundo eje.\n",
    "\n",
    "A continuación, se muestran ejemplos de cada uno de ellos:"
   ]
  },
  {
   "cell_type": "code",
   "execution_count": 39,
   "metadata": {},
   "outputs": [
    {
     "name": "stdout",
     "output_type": "stream",
     "text": [
      "División con split():\n",
      " [array([1, 2, 3]), array([4, 5, 6]), array([7, 8, 9])]\n"
     ]
    }
   ],
   "source": [
    "import numpy as np\n",
    "\n",
    "# Creamos un array de ejemplo\n",
    "arr = np.array([1, 2, 3, 4, 5, 6, 7, 8, 9])\n",
    "\n",
    "# Dividimos el array en tres sub-arrays de tamaño igual\n",
    "arr_split = np.split(arr, 3)\n",
    "print(\"División con split():\\n\", arr_split)\n"
   ]
  },
  {
   "cell_type": "code",
   "execution_count": 40,
   "metadata": {},
   "outputs": [
    {
     "name": "stdout",
     "output_type": "stream",
     "text": [
      "División con array_split():\n",
      " [array([1, 2, 3]), array([4, 5]), array([6, 7]), array([8, 9])]\n"
     ]
    }
   ],
   "source": [
    "import numpy as np\n",
    "\n",
    "# Creamos un array de ejemplo\n",
    "arr = np.array([1, 2, 3, 4, 5, 6, 7, 8, 9])\n",
    "\n",
    "# Dividimos el array en cuatro sub-arrays de tamaño desigual\n",
    "arr_split = np.array_split(arr, 4)\n",
    "print(\"División con array_split():\\n\", arr_split)"
   ]
  },
  {
   "cell_type": "code",
   "execution_count": 44,
   "metadata": {},
   "outputs": [
    {
     "name": "stdout",
     "output_type": "stream",
     "text": [
      "División con hsplit():\n",
      " [array([[1],\n",
      "       [4],\n",
      "       [7]]), array([[2],\n",
      "       [5],\n",
      "       [8]]), array([[3],\n",
      "       [6],\n",
      "       [9]])]\n"
     ]
    }
   ],
   "source": [
    "import numpy as np\n",
    "\n",
    "# Creamos un array de ejemplo\n",
    "arr = np.array([1, 2, 3, 4, 5, 6, 7, 8, 9])\n",
    "\n",
    "# Dividimos el array en una matriz de 3x3\n",
    "arr = arr.reshape(3, 3)\n",
    "\n",
    "# Dividimos la matriz horizontalmente en tres partes iguales\n",
    "arr_split = np.hsplit(arr, 3)\n",
    "print(\"División con hsplit():\\n\", arr_split)\n"
   ]
  },
  {
   "attachments": {},
   "cell_type": "markdown",
   "metadata": {},
   "source": [
    "En este ejemplo, primero creamos un `array` de ejemplo `arr` de 9 elementos. A continuación, utilizamos la función `split()` para dividir el `array` en 3 `sub-arrays` de tamaño igual. La función `split()` devuelve una lista de los `sub-arrays` resultantes.\n",
    "\n",
    "Luego, utilizamos la función `array_split()` para dividir el `array` en 4 `sub-arrays` de tamaño desigual. La función `array_split()` también devuelve una lista de los `sub-arrays` resultantes.\n",
    "\n",
    "Finalmente, utilizamos la función `hsplit()` para dividir el `array` horizontalmente en dos partes iguales. Antes de usar esta función, cambiamos la forma del `array` a una matriz de 3x3 con la función `reshape()`. La función `hsplit()` devuelve una lista de los `sub-arrays` resultantes.\n",
    "\n",
    "En resumen, la división de `arrays` es una operación útil en `NumPy` que nos permite trabajar con partes específicas de un `array` o procesarlo de manera más eficiente en bloques más pequeños. En este ejemplo, hemos mostrado cómo dividir un `array 1D` en `sub-arrays` más pequeños utilizando las funciones `split()`, `array_split()`, y `hsplit()`."
   ]
  },
  {
   "attachments": {},
   "cell_type": "markdown",
   "metadata": {},
   "source": [
    "## **El método .split()**"
   ]
  },
  {
   "attachments": {},
   "cell_type": "markdown",
   "metadata": {},
   "source": [
    "En Python, el método `.split()` es una función de cadenas que se utiliza para dividir una cadena en una lista de subcadenas, utilizando un separador específico. Por defecto, el separador es el espacio en blanco, pero también se puede especificar otro separador.\n",
    "\n",
    "La sintaxis del método `.split()` es la siguiente:\n",
    "\n"
   ]
  },
  {
   "attachments": {},
   "cell_type": "markdown",
   "metadata": {},
   "source": [
    "`string.split(separador, maxsplit)`"
   ]
  },
  {
   "attachments": {},
   "cell_type": "markdown",
   "metadata": {},
   "source": [
    "* **string:** la cadena que se va a dividir.\n",
    "* **separador:** el separador que se va a utilizar para dividir la cadena. Por defecto, es el espacio en blanco.\n",
    "* **maxsplit:** el número máximo de divisiones que se van a realizar. Si no se especifica, se realizarán todas las divisiones posibles.\n",
    "\n",
    "Veamos algunos ejemplos:"
   ]
  },
  {
   "cell_type": "code",
   "execution_count": 45,
   "metadata": {},
   "outputs": [
    {
     "name": "stdout",
     "output_type": "stream",
     "text": [
      "['Hola,', '¿cómo', 'estás?', 'Espero', 'que', 'bien.']\n"
     ]
    }
   ],
   "source": [
    "texto = \"Hola, ¿cómo estás? Espero que bien.\"\n",
    "palabras = texto.split()\n",
    "print(palabras)\n"
   ]
  },
  {
   "attachments": {},
   "cell_type": "markdown",
   "metadata": {},
   "source": [
    "En este ejemplo, se ha creado una cadena de texto y se ha utilizado el método `.split()` para dividir la cadena en una lista de palabras. Como no se ha especificado un separador, el método ha utilizado el espacio en blanco como separador."
   ]
  },
  {
   "cell_type": "code",
   "execution_count": 46,
   "metadata": {},
   "outputs": [
    {
     "name": "stdout",
     "output_type": "stream",
     "text": [
      "['Hola', ' ¿cómo estás? Espero que bien.']\n"
     ]
    }
   ],
   "source": [
    "texto = \"Hola, ¿cómo estás? Espero que bien.\"\n",
    "palabras = texto.split(\",\")\n",
    "print(palabras)\n"
   ]
  },
  {
   "attachments": {},
   "cell_type": "markdown",
   "metadata": {},
   "source": [
    "En este ejemplo, se ha utilizado el método `.split()` para dividir la cadena en una lista de palabras utilizando la coma como separador. En este caso, el método ha separado la cadena en dos elementos: \"Hola\" y \"¿cómo estás? Espero que bien.\""
   ]
  },
  {
   "cell_type": "code",
   "execution_count": 47,
   "metadata": {},
   "outputs": [
    {
     "name": "stdout",
     "output_type": "stream",
     "text": [
      "['Hola,', '¿cómo', 'estás? Espero que bien.']\n"
     ]
    }
   ],
   "source": [
    "texto = \"Hola, ¿cómo estás? Espero que bien.\"\n",
    "palabras = texto.split(\" \", 2)\n",
    "print(palabras)\n"
   ]
  },
  {
   "attachments": {},
   "cell_type": "markdown",
   "metadata": {},
   "source": [
    "En este ejemplo, se ha utilizado el método `.split()` para dividir la cadena en una lista de palabras utilizando el espacio en blanco como separador. Sin embargo, se ha especificado que solo se realicen dos divisiones como máximo. Como resultado, se han obtenido tres elementos en la lista: \"Hola,\", \"¿cómo\" y \"estás? Espero que bien.\""
   ]
  },
  {
   "attachments": {},
   "cell_type": "markdown",
   "metadata": {},
   "source": [
    "## **Dividiendo arrays 2D**"
   ]
  },
  {
   "attachments": {},
   "cell_type": "markdown",
   "metadata": {},
   "source": [
    "En `Numpy`, es posible dividir un `array 2D` en `sub-arrays` más pequeños a lo largo de las filas o columnas mediante las funciones `split()` y `hsplit()` respectivamente. Estas funciones son similares a las que se usan para dividir `arrays 1D`.\n",
    "\n",
    "* La función `split()` permite dividir un `array 2D` en `sub-arrays` a lo largo del eje horizontal o vertical. Específicamente, esta función toma dos argumentos: el `array 2D` a dividir y la posición a lo largo del eje especificado donde se realizará la división. El resultado es una lista de `sub-arrays`.\n",
    "\n",
    "* La función `hsplit()` es similar a `split()`, pero divide el `array` a lo largo del eje horizontal. Esta función toma dos argumentos: el `array 2D` a dividir y el número de `sub-arrays` a crear a lo largo del eje horizontal. El resultado es una lista de `sub-arrays`.\n",
    "\n",
    "A continuación se muestran algunos ejemplos de cómo se pueden utilizar estas funciones:"
   ]
  },
  {
   "cell_type": "code",
   "execution_count": 49,
   "metadata": {},
   "outputs": [
    {
     "name": "stdout",
     "output_type": "stream",
     "text": [
      "División con split():\n",
      " [array([[1, 2, 3]]), array([[4, 5, 6]]), array([[7, 8, 9]])]\n"
     ]
    }
   ],
   "source": [
    "import numpy as np\n",
    "\n",
    "# Creamos un array de ejemplo\n",
    "arr = np.array([[1, 2, 3], [4, 5, 6], [7, 8, 9]])\n",
    "\n",
    "# Dividimos el array a lo largo de las filas\n",
    "arr_split = np.split(arr, 3)\n",
    "print(\"División con split():\\n\", arr_split)\n"
   ]
  },
  {
   "cell_type": "code",
   "execution_count": 50,
   "metadata": {},
   "outputs": [
    {
     "name": "stdout",
     "output_type": "stream",
     "text": [
      "División con split() a lo largo de las columnas:\n",
      " [array([[1],\n",
      "       [4],\n",
      "       [7]]), array([[2],\n",
      "       [5],\n",
      "       [8]]), array([[3],\n",
      "       [6],\n",
      "       [9]])]\n"
     ]
    }
   ],
   "source": [
    "import numpy as np\n",
    "\n",
    "# Creamos un array de ejemplo\n",
    "arr = np.array([[1, 2, 3], [4, 5, 6], [7, 8, 9]])\n",
    "\n",
    "# Dividimos el array a lo largo de las columnas\n",
    "arr_split = np.split(arr, 3, axis=1)\n",
    "print(\"División con split() a lo largo de las columnas:\\n\", arr_split)"
   ]
  },
  {
   "cell_type": "code",
   "execution_count": 52,
   "metadata": {},
   "outputs": [
    {
     "name": "stdout",
     "output_type": "stream",
     "text": [
      "División con hsplit():\n",
      " [array([[1],\n",
      "       [4],\n",
      "       [7]]), array([[2],\n",
      "       [5],\n",
      "       [8]]), array([[3],\n",
      "       [6],\n",
      "       [9]])]\n"
     ]
    }
   ],
   "source": [
    "import numpy as np\n",
    "\n",
    "# Creamos un array de ejemplo\n",
    "arr = np.array([[1, 2, 3], [4, 5, 6], [7, 8, 9]])\n",
    "\n",
    "# Dividimos el array horizontalmente en tres partes iguales\n",
    "arr_split = np.hsplit(arr, 3)\n",
    "print(\"División con hsplit():\\n\", arr_split)\n",
    "\n"
   ]
  },
  {
   "attachments": {},
   "cell_type": "markdown",
   "metadata": {},
   "source": [
    "El primer ejemplo divide el array `arr` en tres `sub-arrays` a lo largo de las filas. El resultado es una lista de tres `sub-arrays`, cada uno de los cuales contiene una fila del array original:"
   ]
  },
  {
   "attachments": {},
   "cell_type": "markdown",
   "metadata": {},
   "source": [
    "```\n",
    "División con split():\n",
    " [array([[1, 2, 3]]), array([[4, 5, 6]]), array([[7, 8, 9]])]\n",
    "```"
   ]
  },
  {
   "attachments": {},
   "cell_type": "markdown",
   "metadata": {},
   "source": [
    "En el segundo ejemplo, se divide el array a lo largo de las columnas en tres `sub-arrays`. El resultado es una lista de tres `sub-arrays`, cada uno de los cuales contiene una columna del array original:"
   ]
  },
  {
   "attachments": {},
   "cell_type": "markdown",
   "metadata": {},
   "source": [
    "```\n",
    "División con split() a lo largo de las columnas:\n",
    " [array([[1],\n",
    "        [4],\n",
    "        [7]]),\n",
    "  array([[2],\n",
    "        [5],\n",
    "        [8]]),\n",
    "  array([[3],\n",
    "        [6],\n",
    "        [9]])]\n",
    "```"
   ]
  },
  {
   "attachments": {},
   "cell_type": "markdown",
   "metadata": {},
   "source": [
    "Finalmente, el tercer ejemplo divide el array en dos `sub-arrays` a lo largo del eje horizontal. El resultado es una lista de dos `sub-arrays`, cada uno de los cuales contiene la mitad de las filas del array original:"
   ]
  },
  {
   "attachments": {},
   "cell_type": "markdown",
   "metadata": {},
   "source": [
    "```\n",
    "División con hsplit():\n",
    " [array([[1, 2],\n",
    "        [4, 5],\n",
    "        [7, 8]]),\n",
    "  array([[3],\n",
    "        [6],\n",
    "        [9]])]\n",
    "```"
   ]
  },
  {
   "attachments": {},
   "cell_type": "markdown",
   "metadata": {},
   "source": [
    "Es importante tener en cuenta que el número de `sub-arrays` que se pueden crear depende del tamaño del array original y de la posición a lo largo del eje donde se realiza la división. Además, cuando se utiliza la función `split()`, el tamaño de los `sub-arrays` debe ser un divisor del tamaño del array a lo largo del eje especificado."
   ]
  },
  {
   "attachments": {},
   "cell_type": "markdown",
   "metadata": {},
   "source": [
    "## **Divisiones por filas, columnas y por profundidad**"
   ]
  },
  {
   "attachments": {},
   "cell_type": "markdown",
   "metadata": {},
   "source": [
    "Las divisiones por filas, columnas y por profundidad en Python son técnicas de procesamiento de arrays que permiten separar un array en partes más pequeñas a lo largo de un eje específico.\n",
    "\n",
    "A continuación, se presentan ejemplos de cada tipo de división:\n",
    "\n",
    "* **División por filas**\n",
    "\n",
    "La división por filas, también conocida como `\"split vertical\"`, se refiere a la separación de un array a lo largo de su eje vertical. Esto resulta en dos o más sub-arrays, cada uno con el mismo número de columnas.\n",
    "\n",
    "Para hacer la división por filas en Python, se utiliza la función `numpy.vsplit()`.\n",
    "\n",
    "**Ejemplo:**"
   ]
  },
  {
   "cell_type": "code",
   "execution_count": 54,
   "metadata": {},
   "outputs": [
    {
     "name": "stdout",
     "output_type": "stream",
     "text": [
      "División con vsplit():\n",
      " [array([[1, 2, 3]]), array([[4, 5, 6]]), array([[7, 8, 9]])]\n"
     ]
    }
   ],
   "source": [
    "import numpy as np\n",
    "\n",
    "# Creamos un array de ejemplo\n",
    "arr = np.array([[1, 2, 3], [4, 5, 6], [7, 8, 9]])\n",
    "\n",
    "# Dividimos el array verticalmente en tres partes iguales\n",
    "arr_split = np.vsplit(arr, 3)\n",
    "\n",
    "print(\"División con vsplit():\\n\", arr_split)\n"
   ]
  },
  {
   "attachments": {},
   "cell_type": "markdown",
   "metadata": {},
   "source": [
    "En este ejemplo, el array `arr` se divide en dos sub-arrays, cada uno con 2 y 1 fila(s) respectivamente.\n",
    "\n",
    "* **División por columnas**\n",
    "\n",
    "La división por columnas, también conocida como `\"split horizontal\"`, se refiere a la separación de un array a lo largo de su eje horizontal. Esto resulta en dos o más sub-arrays, cada uno con el mismo número de filas.\n",
    "\n",
    "Para hacer la división por columnas en Python, se utiliza la función `numpy.hsplit()`.\n",
    "\n",
    "**Ejemplo:**"
   ]
  },
  {
   "cell_type": "code",
   "execution_count": 57,
   "metadata": {},
   "outputs": [
    {
     "name": "stdout",
     "output_type": "stream",
     "text": [
      "División con hsplit():\n",
      " [array([[ 1,  2],\n",
      "       [ 5,  6],\n",
      "       [ 9, 10]]), array([[ 3,  4],\n",
      "       [ 7,  8],\n",
      "       [11, 12]])]\n"
     ]
    }
   ],
   "source": [
    "import numpy as np\n",
    "\n",
    "# Creamos un array de ejemplo con 4 columnas\n",
    "arr = np.array([[1, 2, 3, 4], [5, 6, 7, 8], [9, 10, 11, 12]])\n",
    "\n",
    "# Dividimos el array horizontalmente en dos partes iguales\n",
    "arr_split = np.hsplit(arr, 2)\n",
    "\n",
    "print(\"División con hsplit():\\n\", arr_split)\n"
   ]
  },
  {
   "attachments": {},
   "cell_type": "markdown",
   "metadata": {},
   "source": [
    "En este ejemplo, el array `arr` se divide en dos sub-arrays, cada uno con 3 y 1 columna(s) respectivamente.\n",
    "\n",
    "* **División por profundidad**\n",
    "\n",
    "La división por profundidad se refiere a la separación de un array a lo largo de su eje de profundidad. Esto resulta en dos o más sub-arrays, cada uno con el mismo número de filas y columnas, pero con un número diferente de capas.\n",
    "\n",
    "Para hacer la división por profundidad en Python, se utiliza la función `numpy.dsplit()`.\n",
    "\n",
    "**Ejemplo:**"
   ]
  },
  {
   "cell_type": "code",
   "execution_count": 55,
   "metadata": {},
   "outputs": [
    {
     "name": "stdout",
     "output_type": "stream",
     "text": [
      "División con dsplit():\n",
      " [array([[[1],\n",
      "        [3]],\n",
      "\n",
      "       [[5],\n",
      "        [7]]]), array([[[2],\n",
      "        [4]],\n",
      "\n",
      "       [[6],\n",
      "        [8]]])]\n"
     ]
    }
   ],
   "source": [
    "import numpy as np\n",
    "\n",
    "# Creamos un array de ejemplo\n",
    "arr = np.array([[[1, 2], [3, 4]], [[5, 6], [7, 8]]])\n",
    "\n",
    "# Dividimos el array por profundidad en dos partes iguales\n",
    "arr_split = np.dsplit(arr, 2)\n",
    "\n",
    "print(\"División con dsplit():\\n\", arr_split)\n"
   ]
  },
  {
   "attachments": {},
   "cell_type": "markdown",
   "metadata": {},
   "source": [
    "## **Buscando elementos en un array**"
   ]
  },
  {
   "attachments": {},
   "cell_type": "markdown",
   "metadata": {},
   "source": [
    "En Python, se pueden buscar elementos en un array utilizando el método `np.where` de la librería `Numpy`, que devuelve los índices de los elementos que cumplan una determinada condición.\n",
    "\n",
    "Supongamos que tenemos el siguiente array de ejemplo:"
   ]
  },
  {
   "cell_type": "code",
   "execution_count": 58,
   "metadata": {},
   "outputs": [],
   "source": [
    "import numpy as np\n",
    "\n",
    "arr = np.array([2, 4, 6, 8, 10])\n"
   ]
  },
  {
   "attachments": {},
   "cell_type": "markdown",
   "metadata": {},
   "source": [
    "Para buscar un elemento específico en el array, podemos hacer lo siguiente:"
   ]
  },
  {
   "cell_type": "code",
   "execution_count": 59,
   "metadata": {},
   "outputs": [
    {
     "name": "stdout",
     "output_type": "stream",
     "text": [
      "(array([3]),)\n"
     ]
    }
   ],
   "source": [
    "index = np.where(arr == 8)\n",
    "print(index)\n"
   ]
  },
  {
   "attachments": {},
   "cell_type": "markdown",
   "metadata": {},
   "source": [
    "Esto devolverá un tuple con el índice del elemento que cumple la condición, en este caso, el número `3`, ya que el elemento `8` se encuentra en la posición `3` del array.\n",
    "\n",
    "También podemos buscar elementos que cumplan una determinada condición. Por ejemplo, si queremos encontrar los índices de los elementos que son mayores que `5`, podemos hacer lo siguiente:"
   ]
  },
  {
   "cell_type": "code",
   "execution_count": 60,
   "metadata": {},
   "outputs": [
    {
     "name": "stdout",
     "output_type": "stream",
     "text": [
      "(array([2, 3, 4]),)\n"
     ]
    }
   ],
   "source": [
    "indices = np.where(arr > 5)\n",
    "print(indices)\n"
   ]
  },
  {
   "attachments": {},
   "cell_type": "markdown",
   "metadata": {},
   "source": [
    "Esto devolverá un array con los índices de los elementos que cumplen la condición, en este caso, los elementos `2`, `3`, y `4`.\n",
    "\n",
    "Además, podemos utilizar la función `np.argwhere` para buscar los índices de los elementos que cumplen una determinada condición de manera más compacta. Por ejemplo, si queremos encontrar los índices de los elementos que son múltiplos de `3`, podemos hacer lo siguiente:"
   ]
  },
  {
   "cell_type": "code",
   "execution_count": 61,
   "metadata": {},
   "outputs": [
    {
     "name": "stdout",
     "output_type": "stream",
     "text": [
      "[[2]]\n"
     ]
    }
   ],
   "source": [
    "indices = np.argwhere(arr % 3 == 0)\n",
    "print(indices)\n"
   ]
  },
  {
   "attachments": {},
   "cell_type": "markdown",
   "metadata": {},
   "source": [
    "Esto devolverá un array con los índices de los elementos que cumplen la condición, en este caso, los elementos `0`, `2`, y `4`."
   ]
  },
  {
   "attachments": {},
   "cell_type": "markdown",
   "metadata": {},
   "source": [
    "## **El método .searchsorted()**"
   ]
  },
  {
   "attachments": {},
   "cell_type": "markdown",
   "metadata": {},
   "source": [
    "El método `.searchsorted()` es una función que se utiliza para encontrar el índice en el que se debe insertar un elemento en un array ordenado de forma ascendente para que se mantenga el orden del mismo. Si el elemento ya está en el array, la función devuelve el índice correspondiente a ese elemento.\n",
    "\n",
    "La sintaxis del método es la siguiente:"
   ]
  },
  {
   "attachments": {},
   "cell_type": "markdown",
   "metadata": {},
   "source": [
    "`numpy.searchsorted(a, v, side='left', sorter=None)`"
   ]
  },
  {
   "attachments": {},
   "cell_type": "markdown",
   "metadata": {},
   "source": [
    "**donde:**\n",
    "\n",
    "* **a:** array de entrada, debe estar ordenado de forma ascendente.\n",
    "* **v:** valor o valores a buscar en el array de entrada.\n",
    "* **side:** puede ser `'left'` o `'right'`. Si el valor ya está en el array, determina si se devuelve el índice más a la izquierda o más a la derecha.\n",
    "* **sorter:** objeto que se utiliza para ordenar el array de entrada. Si no se especifica, se utiliza un algoritmo interno para ordenar el array.\n",
    "Veamos algunos ejemplos:"
   ]
  },
  {
   "cell_type": "code",
   "execution_count": 62,
   "metadata": {},
   "outputs": [
    {
     "name": "stdout",
     "output_type": "stream",
     "text": [
      "2\n",
      "4\n",
      "[0 2 4]\n"
     ]
    }
   ],
   "source": [
    "import numpy as np\n",
    "\n",
    "# Creamos un array de ejemplo\n",
    "arr = np.array([2, 3, 6, 7, 9])\n",
    "\n",
    "# Buscamos el índice en el que se debería insertar el número 4\n",
    "indice = np.searchsorted(arr, 4)\n",
    "\n",
    "# Imprimimos el resultado\n",
    "print(indice) # Devuelve 2, ya que el 4 debería ir en la tercera posición (índice 2) para mantener el orden\n",
    "\n",
    "# Ahora buscamos el índice en el que se debería insertar el número 7, pero devolviendo el índice más a la derecha\n",
    "indice2 = np.searchsorted(arr, 7, side='right')\n",
    "\n",
    "# Imprimimos el resultado\n",
    "print(indice2) # Devuelve 4, ya que el 7 ya está en el array y el índice más a la derecha es el 4\n",
    "\n",
    "# También podemos buscar múltiples valores a la vez\n",
    "indices3 = np.searchsorted(arr, [2, 5, 8])\n",
    "\n",
    "# Imprimimos el resultado\n",
    "print(indices3) # Devuelve [0 2 4], que son los índices en los que deberían ir los valores [2, 5, 8] para mantener el orden\n"
   ]
  },
  {
   "attachments": {},
   "cell_type": "markdown",
   "metadata": {},
   "source": [
    "En resumen, el método `.searchsorted()` es útil cuando necesitamos buscar valores en un array ordenado y queremos saber en qué posición deberíamos insertar un valor para mantener el orden del mismo."
   ]
  },
  {
   "attachments": {},
   "cell_type": "markdown",
   "metadata": {},
   "source": [
    "## **Ordenando arrays**"
   ]
  },
  {
   "attachments": {},
   "cell_type": "markdown",
   "metadata": {},
   "source": [
    "En Python, es posible ordenar un array utilizando el método `np.sort()` de la biblioteca `NumPy`. Este método ordena un array a lo largo de un eje específico y devuelve una copia ordenada del array original.\n",
    "\n",
    "El método `np.sort()` tiene varios parámetros opcionales que permiten personalizar el ordenamiento. Por ejemplo, el parámetro `axis` indica el eje a lo largo del cual se ordenará el array. El valor predeterminado es `-1`, lo que significa que se ordenará a lo largo del último eje. El parámetro `kind` indica el tipo de algoritmo de ordenamiento que se utilizará. Los algoritmos disponibles son: `'quicksort'`, `'mergesort'`, `'heapsort'` y `'stable'`. El valor predeterminado es `'quicksort'`. El parámetro order se utiliza para especificar el orden en que se deben ordenar los campos de un array estructurado.\n",
    "\n",
    "Veamos algunos ejemplos de cómo utilizar `np.sort()`:"
   ]
  },
  {
   "cell_type": "code",
   "execution_count": 63,
   "metadata": {},
   "outputs": [
    {
     "name": "stdout",
     "output_type": "stream",
     "text": [
      "Array ordenado: [1 1 2 3 3 4 5 5 6 9]\n"
     ]
    }
   ],
   "source": [
    "import numpy as np\n",
    "\n",
    "# Creamos un array de ejemplo\n",
    "arr = np.array([3, 1, 4, 1, 5, 9, 2, 6, 5, 3])\n",
    "\n",
    "# Ordenamos el array\n",
    "arr_sorted = np.sort(arr)\n",
    "\n",
    "print(\"Array ordenado:\", arr_sorted)\n"
   ]
  },
  {
   "attachments": {},
   "cell_type": "markdown",
   "metadata": {},
   "source": [
    "En este ejemplo, creamos un array de números enteros desordenados y lo ordenamos con `np.sort()`. El resultado será un nuevo array con los mismos elementos, pero ordenados de menor a mayor.\n",
    "\n",
    "También podemos ordenar un array multidimensional especificando el eje a lo largo del cual queremos ordenar. Por ejemplo:"
   ]
  },
  {
   "cell_type": "code",
   "execution_count": 64,
   "metadata": {},
   "outputs": [
    {
     "name": "stdout",
     "output_type": "stream",
     "text": [
      "Array ordenado: [[1 2 3]\n",
      " [4 5 6]\n",
      " [7 8 9]]\n"
     ]
    }
   ],
   "source": [
    "import numpy as np\n",
    "\n",
    "# Creamos un array de ejemplo\n",
    "arr = np.array([[3, 2, 1], [6, 5, 4], [9, 8, 7]])\n",
    "\n",
    "# Ordenamos el array a lo largo del segundo eje\n",
    "arr_sorted = np.sort(arr, axis=1)\n",
    "\n",
    "print(\"Array ordenado:\", arr_sorted)\n"
   ]
  },
  {
   "attachments": {},
   "cell_type": "markdown",
   "metadata": {},
   "source": [
    "En este caso, el array original tiene dos ejes, por lo que especificamos el segundo eje `(axis=1)` para ordenar a lo largo de las filas.\n",
    "\n",
    "Además, `NumPy` proporciona una función llamada `np.argsort()`, que devuelve los índices que ordenarían el array en lugar de ordenar el array en sí. Por ejemplo:"
   ]
  },
  {
   "cell_type": "code",
   "execution_count": 65,
   "metadata": {},
   "outputs": [
    {
     "name": "stdout",
     "output_type": "stream",
     "text": [
      "Índices de ordenación: [1 3 6 0 9 2 4 8 7 5]\n",
      "Array ordenado según los índices: [1 1 2 3 3 4 5 5 6 9]\n"
     ]
    }
   ],
   "source": [
    "import numpy as np\n",
    "\n",
    "# Creamos un array de ejemplo\n",
    "arr = np.array([3, 1, 4, 1, 5, 9, 2, 6, 5, 3])\n",
    "\n",
    "# Obtenemos los índices que ordenarían el array\n",
    "idx = np.argsort(arr)\n",
    "\n",
    "print(\"Índices de ordenación:\", idx)\n",
    "print(\"Array ordenado según los índices:\", arr[idx])\n"
   ]
  },
  {
   "attachments": {},
   "cell_type": "markdown",
   "metadata": {},
   "source": [
    "En este ejemplo, utilizamos `np.argsort()` para obtener los índices que ordenarían el array original. Luego, utilizamos estos índices para ordenar el array original sin modificarlo directamente."
   ]
  },
  {
   "attachments": {},
   "cell_type": "markdown",
   "metadata": {},
   "source": [
    "## **El módulo random**"
   ]
  },
  {
   "attachments": {},
   "cell_type": "markdown",
   "metadata": {},
   "source": [
    "El módulo `random` de Python es una biblioteca incorporada que se utiliza para generar números aleatorios. Este módulo proporciona una variedad de funciones para generar números aleatorios, incluidos enteros, flotantes y secuencias aleatorias.\n",
    "\n",
    "Aquí hay algunos ejemplos de cómo se puede utilizar el módulo `random` en Python:\n",
    "\n",
    "* **Generar un número entero aleatorio**\n",
    "\n",
    "Se puede generar un número entero aleatorio utilizando la función `randint()` del módulo `random`. Esta función toma dos argumentos, `a` y `b`, y genera un número entero aleatorio entre `a` y `b` (ambos inclusive)."
   ]
  },
  {
   "cell_type": "code",
   "execution_count": 66,
   "metadata": {},
   "outputs": [
    {
     "name": "stdout",
     "output_type": "stream",
     "text": [
      "4\n"
     ]
    }
   ],
   "source": [
    "import random\n",
    "\n",
    "# Generar un número entero aleatorio entre 1 y 10\n",
    "numero_aleatorio = random.randint(1, 10)\n",
    "\n",
    "print(numero_aleatorio)\n"
   ]
  },
  {
   "attachments": {},
   "cell_type": "markdown",
   "metadata": {},
   "source": [
    "* **Generar un número flotante aleatorio**\n",
    "\n",
    "Se puede generar un número flotante aleatorio utilizando la función `uniform()` del módulo `random`. Esta función toma dos argumentos, `a` y `b`, y genera un número flotante aleatorio entre `a` y `b` (ambos inclusive)."
   ]
  },
  {
   "cell_type": "code",
   "execution_count": 67,
   "metadata": {},
   "outputs": [
    {
     "name": "stdout",
     "output_type": "stream",
     "text": [
      "0.7736133076277276\n"
     ]
    }
   ],
   "source": [
    "import random\n",
    "\n",
    "# Generar un número flotante aleatorio entre 0 y 1\n",
    "numero_aleatorio = random.uniform(0, 1)\n",
    "\n",
    "print(numero_aleatorio)\n"
   ]
  },
  {
   "attachments": {},
   "cell_type": "markdown",
   "metadata": {},
   "source": [
    "* **Mezclar una lista**\n",
    "\n",
    "Se puede mezclar una lista utilizando la función `shuffle()` del módulo `random`. Esta función toma una lista como argumento y la reorganiza de forma aleatoria."
   ]
  },
  {
   "cell_type": "code",
   "execution_count": 68,
   "metadata": {},
   "outputs": [
    {
     "name": "stdout",
     "output_type": "stream",
     "text": [
      "[1, 3, 4, 5, 2]\n"
     ]
    }
   ],
   "source": [
    "import random\n",
    "\n",
    "# Mezclar una lista de números\n",
    "numeros = [1, 2, 3, 4, 5]\n",
    "random.shuffle(numeros)\n",
    "\n",
    "print(numeros)\n"
   ]
  },
  {
   "attachments": {},
   "cell_type": "markdown",
   "metadata": {},
   "source": [
    "* **Elegir un elemento aleatorio de una lista**\n",
    "\n",
    "Se puede elegir un elemento aleatorio de una lista utilizando la función `choice()` del módulo `random`. Esta función toma una lista como argumento y devuelve un elemento aleatorio de esa lista."
   ]
  },
  {
   "cell_type": "code",
   "execution_count": 69,
   "metadata": {},
   "outputs": [
    {
     "name": "stdout",
     "output_type": "stream",
     "text": [
      "María\n"
     ]
    }
   ],
   "source": [
    "import random\n",
    "\n",
    "# Elegir un elemento aleatorio de una lista\n",
    "nombres = [\"Juan\", \"Pedro\", \"Luis\", \"Ana\", \"María\"]\n",
    "nombre_aleatorio = random.choice(nombres)\n",
    "\n",
    "print(nombre_aleatorio)\n"
   ]
  },
  {
   "attachments": {},
   "cell_type": "markdown",
   "metadata": {},
   "source": [
    "Estos son solo algunos ejemplos de cómo se puede utilizar el módulo `random` de Python para generar números y realizar operaciones aleatorias."
   ]
  },
  {
   "attachments": {},
   "cell_type": "markdown",
   "metadata": {},
   "source": [
    "## **Arrays aleatorios**"
   ]
  },
  {
   "attachments": {},
   "cell_type": "markdown",
   "metadata": {},
   "source": [
    "Los arrays aleatorios en Python son arrays que se crean con valores aleatorios generados por la librería `NumPy` a través del módulo `random`. Los arrays aleatorios son útiles en diferentes aplicaciones como la simulación de datos o la creación de ejemplos de prueba.\n",
    "\n",
    "Para crear un array aleatorio en Python, podemos utilizar la función `random` de `NumPy`, que nos permite especificar la forma del array y el tipo de dato que queremos generar. A continuación, se muestran algunos ejemplos de cómo crear diferentes tipos de arrays aleatorios:"
   ]
  },
  {
   "cell_type": "code",
   "execution_count": 70,
   "metadata": {},
   "outputs": [
    {
     "name": "stdout",
     "output_type": "stream",
     "text": [
      "[0.50197452 0.84518124 0.11245042 0.61103818 0.58257738]\n",
      "[5 6 4 0 2]\n",
      "[[0.68741016 0.79190034 0.84734427 0.74012861]\n",
      " [0.55983916 0.02516423 0.30532703 0.23715932]\n",
      " [0.86306661 0.82703085 0.95719444 0.64606087]]\n"
     ]
    }
   ],
   "source": [
    "import numpy as np\n",
    "\n",
    "# Crear un array aleatorio de una dimensión con 5 elementos entre 0 y 1\n",
    "a = np.random.rand(5)\n",
    "print(a)\n",
    "\n",
    "# Crear un array aleatorio de una dimensión con 5 enteros entre 0 y 10\n",
    "b = np.random.randint(0, 10, size=5)\n",
    "print(b)\n",
    "\n",
    "# Crear un array aleatorio de dos dimensiones con 3 filas y 4 columnas\n",
    "c = np.random.rand(3, 4)\n",
    "print(c)\n"
   ]
  },
  {
   "attachments": {},
   "cell_type": "markdown",
   "metadata": {},
   "source": [
    "* En el primer ejemplo, creamos un array unidimensional de `5` elementos con valores aleatorios entre `0` y `1`. La función `rand()` genera números aleatorios en un rango entre `0` y `1`.\n",
    "\n",
    "* En el segundo ejemplo, creamos un array unidimensional con `5` enteros aleatorios entre `0` y `10`. La función `randint()` nos permite especificar el rango de los enteros y la cantidad de elementos que queremos generar.\n",
    "\n",
    "* En el tercer ejemplo, creamos un array de dos dimensiones con `3` filas y `4` columnas con valores aleatorios entre `0` y `1`. La función `rand()` de `NumPy` nos permite crear arrays con diferentes formas y dimensiones.\n",
    "\n",
    "También podemos utilizar otras funciones de `NumPy` para generar arrays aleatorios con diferentes distribuciones, como la distribución normal o la distribución uniforme."
   ]
  },
  {
   "cell_type": "code",
   "execution_count": 71,
   "metadata": {},
   "outputs": [
    {
     "name": "stdout",
     "output_type": "stream",
     "text": [
      "[-0.2464963  -0.14330148 -0.53402006 -0.81862637  0.81174745]\n",
      "[0.92731465 0.16091234 0.75332673 0.77344194 0.65967971]\n"
     ]
    }
   ],
   "source": [
    "import numpy as np\n",
    "\n",
    "# Crear un array aleatorio de una dimensión con 5 elementos con distribución normal\n",
    "d = np.random.normal(size=5)\n",
    "print(d)\n",
    "\n",
    "# Crear un array aleatorio de una dimensión con 5 elementos con distribución uniforme\n",
    "e = np.random.uniform(size=5)\n",
    "print(e)\n"
   ]
  },
  {
   "attachments": {},
   "cell_type": "markdown",
   "metadata": {},
   "source": [
    "* En el primer ejemplo, creamos un array unidimensional de `5` elementos con valores aleatorios generados a partir de la distribución normal. La función `normal()` nos permite especificar el tamaño del array y otros parámetros de la distribución normal.\n",
    "\n",
    "* En el segundo ejemplo, creamos un array unidimensional con `5` elementos con valores aleatorios generados a partir de la distribución uniforme. La función `uniform()` nos permite especificar el tamaño del array y otros parámetros de la distribución uniforme.\n",
    "\n",
    "En resumen, los arrays aleatorios en Python son una herramienta útil para generar datos aleatorios para diferentes aplicaciones, y `NumPy` nos ofrece diferentes funciones para crear arrays aleatorios con diferentes distribuciones y formas."
   ]
  },
  {
   "attachments": {},
   "cell_type": "markdown",
   "metadata": {},
   "source": [
    "## **Elegir un elemento aleatorio de un array**"
   ]
  },
  {
   "attachments": {},
   "cell_type": "markdown",
   "metadata": {},
   "source": [
    "En Python, se puede elegir un elemento aleatorio de un array utilizando el módulo `random` de Python y la función `choice` que proporciona este módulo.\n",
    "\n",
    "La función `choice` toma un array y devuelve un elemento aleatorio del array. Veamos un ejemplo:"
   ]
  },
  {
   "cell_type": "code",
   "execution_count": 72,
   "metadata": {},
   "outputs": [
    {
     "name": "stdout",
     "output_type": "stream",
     "text": [
      "5\n"
     ]
    }
   ],
   "source": [
    "import numpy as np\n",
    "from numpy import random\n",
    "\n",
    "# Creamos un array de ejemplo\n",
    "arr = np.array([1, 2, 3, 4, 5, 6, 7, 8, 9])\n",
    "\n",
    "# Elegimos un elemento aleatorio del array\n",
    "x = random.choice(arr)\n",
    "\n",
    "# Imprimimos el elemento aleatorio\n",
    "print(x)\n"
   ]
  },
  {
   "attachments": {},
   "cell_type": "markdown",
   "metadata": {},
   "source": [
    "En este ejemplo, importamos los módulos `numpy` y `random`. Creamos un array `arr` y luego usamos la función `choice` para elegir un elemento aleatorio del array `arr`. Luego imprimimos el elemento aleatorio usando la función `print`.\n",
    "\n",
    "Podemos también elegir varios elementos aleatorios del array utilizando el parámetro `size` de la función `choice`. Veamos otro ejemplo:"
   ]
  },
  {
   "cell_type": "code",
   "execution_count": 73,
   "metadata": {},
   "outputs": [
    {
     "name": "stdout",
     "output_type": "stream",
     "text": [
      "[9 3 1]\n"
     ]
    }
   ],
   "source": [
    "import numpy as np\n",
    "from numpy import random\n",
    "\n",
    "# Creamos un array de ejemplo\n",
    "arr = np.array([1, 2, 3, 4, 5, 6, 7, 8, 9])\n",
    "\n",
    "# Elegimos tres elementos aleatorios del array\n",
    "x = random.choice(arr, size=3, replace=False)\n",
    "\n",
    "# Imprimimos los elementos aleatorios\n",
    "print(x)\n"
   ]
  },
  {
   "attachments": {},
   "cell_type": "markdown",
   "metadata": {},
   "source": [
    "En este ejemplo, usamos el parámetro `size` de la función `choice` para elegir tres elementos aleatorios del array `arr`. El parámetro `replace=False` indica que los elementos elegidos no se reemplazarán en el array. Por lo tanto, cada elemento elegido es único. Luego imprimimos los elementos aleatorios usando la función `print`.\n",
    "\n",
    "En resumen, elegir un elemento aleatorio de un array en Python es fácil con la función `choice` del módulo `random`. También podemos elegir varios elementos aleatorios del array utilizando el parámetro `size` de la función `choice`."
   ]
  },
  {
   "attachments": {},
   "cell_type": "markdown",
   "metadata": {},
   "source": [
    "## **Permutaciones aleatorias**"
   ]
  },
  {
   "attachments": {},
   "cell_type": "markdown",
   "metadata": {},
   "source": [
    "En programación, una permutación aleatoria es una reorganización aleatoria de los elementos de una secuencia. En Python, el módulo `random` proporciona una función para generar permutaciones aleatorias.\n",
    "\n",
    "La función `random.shuffle()` toma una secuencia (como una lista o un array) y la reorganiza de forma aleatoria, lo que da como resultado una permutación aleatoria. La función modifica la secuencia original en su lugar y no devuelve nada.\n",
    "\n",
    "Aquí hay un ejemplo que muestra cómo generar una permutación aleatoria de una lista en Python:"
   ]
  },
  {
   "cell_type": "code",
   "execution_count": 74,
   "metadata": {},
   "outputs": [
    {
     "name": "stdout",
     "output_type": "stream",
     "text": [
      "[5, 3, 2, 1, 4]\n"
     ]
    }
   ],
   "source": [
    "import random\n",
    "\n",
    "my_list = [1, 2, 3, 4, 5]\n",
    "random.shuffle(my_list)\n",
    "print(my_list)\n"
   ]
  },
  {
   "attachments": {},
   "cell_type": "markdown",
   "metadata": {},
   "source": [
    "En este ejemplo, primero importamos el módulo `random`. Luego, creamos una lista `my_list` con los números del `1` al `5`. Llamamos a la función `random.shuffle()` y pasamos `my_list` como argumento. La función reorganiza los elementos de `my_list` de forma aleatoria. Finalmente, imprimimos la lista reorganizada.\n",
    "\n",
    "La salida de este programa será una lista con los mismos elementos que `my_list`, pero en un orden aleatorio:"
   ]
  },
  {
   "attachments": {},
   "cell_type": "markdown",
   "metadata": {},
   "source": [
    "`[5, 1, 2, 4, 3]`"
   ]
  },
  {
   "attachments": {},
   "cell_type": "markdown",
   "metadata": {},
   "source": [
    "También es posible generar permutaciones aleatorias de arrays en Python utilizando la función `numpy.random.permutation()`. Esta función toma un array como entrada y devuelve una permutación aleatoria de los elementos del array. Aquí hay un ejemplo:"
   ]
  },
  {
   "cell_type": "code",
   "execution_count": 75,
   "metadata": {},
   "outputs": [
    {
     "name": "stdout",
     "output_type": "stream",
     "text": [
      "[4 1 3 2 5]\n"
     ]
    }
   ],
   "source": [
    "import numpy as np\n",
    "\n",
    "my_array = np.array([1, 2, 3, 4, 5])\n",
    "random_permutation = np.random.permutation(my_array)\n",
    "print(random_permutation)\n"
   ]
  },
  {
   "attachments": {},
   "cell_type": "markdown",
   "metadata": {},
   "source": [
    "En este ejemplo, importamos el módulo `numpy` con el alias `np`. Luego, creamos un array `my_array` con los números del `1` al `5`. Llamamos a la función `numpy.random.permutation()` y pasamos `my_array` como argumento. La función devuelve una permutación aleatoria de los elementos de `my_array`, que almacenamos en la variable `random_permutation`. Finalmente, imprimimos la permutación aleatoria.\n",
    "\n",
    "La salida de este programa será un array con los mismos elementos que `my_array`, pero en un orden aleatorio:"
   ]
  },
  {
   "attachments": {},
   "cell_type": "markdown",
   "metadata": {},
   "source": [
    "`[3 1 4 5 2]`"
   ]
  },
  {
   "attachments": {},
   "cell_type": "markdown",
   "metadata": {},
   "source": [
    "## **Funciones universales**"
   ]
  },
  {
   "attachments": {},
   "cell_type": "markdown",
   "metadata": {},
   "source": [
    "En el contexto de `NumPy`, las Funciones Universales `(o UFuncs, por sus siglas en inglés)` son funciones que operan elemento por elemento en los arreglos de `NumPy`, proporcionando una forma rápida y eficiente de realizar operaciones matemáticas y lógicas en matrices y vectores.\n",
    "\n",
    "Algunos ejemplos de Funciones Universales incluyen:\n",
    "\n",
    "* **Funciones matemáticas:** `sqrt` (raíz cuadrada), `exp` (exponencial), `sin` (seno), `cos` (coseno), etc.\n",
    "* **Funciones lógicas:** `logical_and` (AND lógico), `logical_or` (OR lógico), `logical_not` (NOT lógico), etc.\n",
    "* **Funciones de agregación:** `sum` (suma), `mean` (media), `std` (desviación estándar), `var` (varianza), etc.\n",
    "\n",
    "La ventaja de utilizar Funciones Universales en `NumPy` es que son altamente optimizadas y están implementadas en `C` o `Fortran`, lo que las hace mucho más rápidas que las funciones equivalentes en Python nativo.\n",
    "\n",
    "Aquí hay algunos ejemplos de Funciones Universales en acción:"
   ]
  },
  {
   "cell_type": "code",
   "execution_count": 76,
   "metadata": {},
   "outputs": [
    {
     "name": "stdout",
     "output_type": "stream",
     "text": [
      "[1.         1.41421356 1.73205081 2.         2.23606798]\n",
      "[  2.71828183   7.3890561   20.08553692  54.59815003 148.4131591 ]\n",
      "[ 0.84147098  0.90929743  0.14112001 -0.7568025  -0.95892427]\n",
      "[False False  True  True False]\n",
      "[ True False False False  True]\n",
      "[False False  True  True  True]\n",
      "15\n",
      "3.0\n",
      "1.4142135623730951\n",
      "2.0\n"
     ]
    }
   ],
   "source": [
    "import numpy as np\n",
    "\n",
    "arr = np.array([1, 2, 3, 4, 5])\n",
    "\n",
    "# Funciones matemáticas\n",
    "print(np.sqrt(arr))   # Raíz cuadrada de cada elemento\n",
    "print(np.exp(arr))    # Exponencial de cada elemento\n",
    "print(np.sin(arr))    # Seno de cada elemento\n",
    "\n",
    "# Funciones lógicas\n",
    "print(np.logical_and(arr > 2, arr < 5))   # Elementos que cumplen ambas condiciones\n",
    "print(np.logical_or(arr < 2, arr > 4))    # Elementos que cumplen al menos una de las condiciones\n",
    "print(np.logical_not(arr < 3))            # Elementos que no cumplen la condición\n",
    "\n",
    "# Funciones de agregación\n",
    "print(np.sum(arr))    # Suma de todos los elementos\n",
    "print(np.mean(arr))   # Media de todos los elementos\n",
    "print(np.std(arr))    # Desviación estándar de todos los elementos\n",
    "print(np.var(arr))    # Varianza de todos los elementos\n"
   ]
  },
  {
   "attachments": {},
   "cell_type": "markdown",
   "metadata": {},
   "source": [
    "## **Funciones de aritmética**"
   ]
  },
  {
   "attachments": {},
   "cell_type": "markdown",
   "metadata": {},
   "source": [
    "En `NumPy`, las funciones de aritmética son una colección de funciones que realizan operaciones aritméticas sobre los elementos de un array. Estas funciones pueden ser aplicadas a los elementos del array de forma elemento a elemento, o para realizar una operación en todo el array.\n",
    "\n",
    "Algunas de las funciones de aritmética en NumPy son:\n",
    "\n",
    "* **add():** suma dos arrays\n",
    "* **subtract():** resta dos arrays\n",
    "* **multiply():** multiplica dos arrays\n",
    "* **divide():** divide dos arrays\n",
    "* **power():** eleva un array a una potencia\n",
    "* **sqrt():** calcula la raíz cuadrada de un array\n",
    "* **exp():** calcula el exponencial de un array\n",
    "* **log():** calcula el logaritmo natural de un array\n",
    "* **absolute():** devuelve el valor absoluto de los elementos de un array\n",
    "* **sin(), cos(), tan():** calculan las funciones trigonométricas de un array\n",
    "\n",
    "A continuación se muestran algunos ejemplos de estas funciones:"
   ]
  },
  {
   "cell_type": "code",
   "execution_count": 77,
   "metadata": {},
   "outputs": [
    {
     "name": "stdout",
     "output_type": "stream",
     "text": [
      "[5 7 9]\n",
      "[3 3 3]\n",
      "[ 4 10 18]\n",
      "[4.  2.5 2. ]\n",
      "[1 4 9]\n",
      "[1. 2. 3.]\n",
      "[ 2.71828183  7.3890561  20.08553692]\n",
      "[0.         0.69314718 1.09861229]\n",
      "[1 2 3 4]\n",
      "1.0\n",
      "0.7071067811865476\n",
      "0.9999999999999999\n"
     ]
    }
   ],
   "source": [
    "import numpy as np\n",
    "\n",
    "a = np.array([1, 2, 3])\n",
    "b = np.array([4, 5, 6])\n",
    "\n",
    "# Suma de dos arrays\n",
    "c = np.add(a, b)\n",
    "print(c) # [5 7 9]\n",
    "\n",
    "# Resta de dos arrays\n",
    "d = np.subtract(b, a)\n",
    "print(d) # [3 3 3]\n",
    "\n",
    "# Multiplicación de dos arrays\n",
    "e = np.multiply(a, b)\n",
    "print(e) # [ 4 10 18]\n",
    "\n",
    "# División de dos arrays\n",
    "f = np.divide(b, a)\n",
    "print(f) # [4.  2.5 2. ]\n",
    "\n",
    "# Potencia de un array\n",
    "g = np.power(a, 2)\n",
    "print(g) # [1 4 9]\n",
    "\n",
    "# Raíz cuadrada de un array\n",
    "h = np.sqrt(g)\n",
    "print(h) # [1. 2. 3.]\n",
    "\n",
    "# Exponencial de un array\n",
    "i = np.exp(a)\n",
    "print(i) # [ 2.71828183  7.3890561  20.08553692]\n",
    "\n",
    "# Logaritmo natural de un array\n",
    "j = np.log(a)\n",
    "print(j) # [0.         0.69314718 1.09861229]\n",
    "\n",
    "# Valor absoluto de los elementos de un array\n",
    "k = np.absolute(np.array([-1, -2, 3, -4]))\n",
    "print(k) # [1 2 3 4]\n",
    "\n",
    "# Funciones trigonométricas\n",
    "l = np.sin(np.pi/2)\n",
    "print(l) # 1.0\n",
    "m = np.cos(np.pi/4)\n",
    "print(m) # 0.7071067811865476\n",
    "n = np.tan(np.pi/4)\n",
    "print(n) # 0.9999999999999999\n"
   ]
  },
  {
   "attachments": {},
   "cell_type": "markdown",
   "metadata": {},
   "source": [
    "## **Funciones de redondeo**"
   ]
  },
  {
   "attachments": {},
   "cell_type": "markdown",
   "metadata": {},
   "source": [
    "Las funciones de redondeo en Python permiten redondear los valores de los elementos de un array a un número determinado de decimales o al número entero más cercano. Las funciones de redondeo se encuentran en el módulo `NumPy` y se aplican a través de la función universal `np.round()`.\n",
    "\n",
    "La sintaxis de la función de redondeo es la siguiente:"
   ]
  },
  {
   "attachments": {},
   "cell_type": "markdown",
   "metadata": {},
   "source": [
    "`np.round(a, decimals=0, out=None)`"
   ]
  },
  {
   "attachments": {},
   "cell_type": "markdown",
   "metadata": {},
   "source": [
    "**Donde:**\n",
    "\n",
    "* **a:** El array de entrada que se desea redondear.\n",
    "* **decimals:** El número de decimales a los que se desea redondear. Por defecto, es 0.\n",
    "* **out:** Opcional. El array de salida donde se guardará el resultado del redondeo. Si no se especifica, se crea un nuevo array.\n",
    "\n",
    "A continuación se muestran algunos ejemplos de cómo usar la función `np.round()`:"
   ]
  },
  {
   "cell_type": "code",
   "execution_count": 78,
   "metadata": {},
   "outputs": [
    {
     "name": "stdout",
     "output_type": "stream",
     "text": [
      "[1.23 2.35 3.46]\n"
     ]
    }
   ],
   "source": [
    "import numpy as np\n",
    "\n",
    "# Creamos un array de ejemplo\n",
    "arr = np.array([1.2345, 2.3456, 3.4567])\n",
    "\n",
    "# Redondeo a 2 decimales\n",
    "arr_round = np.round(arr, decimals=2)\n",
    "\n",
    "print(arr_round) # [1.23 2.35 3.46]\n"
   ]
  },
  {
   "attachments": {},
   "cell_type": "markdown",
   "metadata": {},
   "source": [
    "En este ejemplo, se crea un array con tres elementos con diferentes valores decimales. Luego, se usa la función `np.round()` para redondear cada elemento a dos decimales. El resultado se almacena en un nuevo array llamado `arr_round`, que se imprime en pantalla."
   ]
  },
  {
   "cell_type": "code",
   "execution_count": 79,
   "metadata": {},
   "outputs": [
    {
     "name": "stdout",
     "output_type": "stream",
     "text": [
      "[1. 2. 3.]\n"
     ]
    }
   ],
   "source": [
    "import numpy as np\n",
    "\n",
    "# Creamos un array de ejemplo\n",
    "arr = np.array([1.2345, 2.3456, 3.4567])\n",
    "\n",
    "# Redondeo al número entero más cercano\n",
    "arr_round = np.round(arr)\n",
    "\n",
    "print(arr_round) # [1. 2. 3.]\n"
   ]
  },
  {
   "attachments": {},
   "cell_type": "markdown",
   "metadata": {},
   "source": [
    "En este ejemplo, se usa la misma función `np.round()` para redondear cada elemento del array `arr` al número entero más cercano. El resultado se almacena en un nuevo array llamado `arr_round`, que se imprime en pantalla.\n",
    "\n",
    "Además de la función `np.round()`, `NumPy` también tiene otras funciones de redondeo como `np.ceil()` para redondear hacia arriba, `np.floor()` para redondear hacia abajo y `np.rint()` para redondear al número entero más cercano."
   ]
  },
  {
   "attachments": {},
   "cell_type": "markdown",
   "metadata": {},
   "source": [
    "## **Funciones de sumas y diferencias**"
   ]
  },
  {
   "attachments": {},
   "cell_type": "markdown",
   "metadata": {},
   "source": [
    "En Python, las funciones de sumas y diferencias se utilizan para realizar cálculos de suma y resta en matrices o arrays de NumPy. Algunas de estas funciones son:\n",
    "\n",
    "* **numpy.sum():**\n",
    "\n",
    " Esta función se utiliza para calcular la suma de los elementos de una matriz o array. Es posible calcular la suma en un eje en particular, si se especifica.\n",
    "\n",
    "**Ejemplo:**\n",
    "\n"
   ]
  },
  {
   "cell_type": "code",
   "execution_count": 80,
   "metadata": {},
   "outputs": [
    {
     "name": "stdout",
     "output_type": "stream",
     "text": [
      "45\n",
      "[12 15 18]\n",
      "[ 6 15 24]\n"
     ]
    }
   ],
   "source": [
    "import numpy as np\n",
    "\n",
    "arr = np.array([[1, 2, 3], [4, 5, 6], [7, 8, 9]])\n",
    "\n",
    "# Suma de todos los elementos\n",
    "print(np.sum(arr))  # Output: 45\n",
    "\n",
    "# Suma en el eje 0\n",
    "print(np.sum(arr, axis=0))  # Output: [12 15 18]\n",
    "\n",
    "# Suma en el eje 1\n",
    "print(np.sum(arr, axis=1))  # Output: [ 6 15 24]\n"
   ]
  },
  {
   "attachments": {},
   "cell_type": "markdown",
   "metadata": {},
   "source": [
    "* **numpy.cumsum():**\n",
    "\n",
    " Esta función se utiliza para calcular la suma acumulativa de los elementos de una matriz o array. Es posible calcular la suma acumulativa en un eje en particular, si se especifica.\n",
    "\n",
    "**Ejemplo:**"
   ]
  },
  {
   "cell_type": "code",
   "execution_count": 81,
   "metadata": {},
   "outputs": [
    {
     "name": "stdout",
     "output_type": "stream",
     "text": [
      "[ 1  3  6 10 15 21 28 36 45]\n",
      "[[ 1  2  3]\n",
      " [ 5  7  9]\n",
      " [12 15 18]]\n",
      "[[ 1  3  6]\n",
      " [ 4  9 15]\n",
      " [ 7 15 24]]\n"
     ]
    }
   ],
   "source": [
    "import numpy as np\n",
    "\n",
    "arr = np.array([[1, 2, 3], [4, 5, 6], [7, 8, 9]])\n",
    "\n",
    "# Suma acumulativa de todos los elementos\n",
    "print(np.cumsum(arr))  # Output: [ 1  3  6 10 15 21 28 36 45]\n",
    "\n",
    "# Suma acumulativa en el eje 0\n",
    "print(np.cumsum(arr, axis=0))  # Output: [[ 1  2  3]\n",
    "                                #          [ 5   7   9]\n",
    "                                #          [12  15  18]]\n",
    "\n",
    "# Suma acumulativa en el eje 1\n",
    "print(np.cumsum(arr, axis=1))  # Output: [[ 1  3  6]\n",
    "                                #          [ 4  9 15]\n",
    "                                #          [ 7 15 24]]\n"
   ]
  },
  {
   "attachments": {},
   "cell_type": "markdown",
   "metadata": {},
   "source": [
    "* **numpy.diff():**\n",
    "\n",
    " Esta función se utiliza para calcular la diferencia entre los elementos de una matriz o array. Es posible calcular la diferencia en un eje en particular, si se especifica.\n",
    "\n",
    "**Ejemplo:**"
   ]
  },
  {
   "cell_type": "code",
   "execution_count": 82,
   "metadata": {},
   "outputs": [
    {
     "name": "stdout",
     "output_type": "stream",
     "text": [
      "[[1 1]\n",
      " [1 1]\n",
      " [1 1]]\n",
      "[[3 3 3]\n",
      " [3 3 3]]\n",
      "[[1 1]\n",
      " [1 1]\n",
      " [1 1]]\n"
     ]
    }
   ],
   "source": [
    "import numpy as np\n",
    "\n",
    "arr = np.array([[1, 2, 3], [4, 5, 6], [7, 8, 9]])\n",
    "\n",
    "# Diferencia entre todos los elementos\n",
    "print(np.diff(arr))  # Output: [[1 1]\n",
    "                     #          [1 1]\n",
    "                     #          [1 1]]\n",
    "\n",
    "# Diferencia en el eje 0\n",
    "print(np.diff(arr, axis=0))  # Output: [[3 3 3]\n",
    "                             #          [3 3 3]]\n",
    "\n",
    "# Diferencia en el eje 1\n",
    "print(np.diff(arr, axis=1))  # Output: [[1 1]\n",
    "                             #          [1 1]\n",
    "                             #          [1 1]]\n"
   ]
  },
  {
   "attachments": {},
   "cell_type": "markdown",
   "metadata": {},
   "source": [
    "## **Funciones de productos**"
   ]
  },
  {
   "attachments": {},
   "cell_type": "markdown",
   "metadata": {},
   "source": [
    "En Python, las funciones de productos son una categoría de funciones universales que se utilizan para realizar operaciones de multiplicación en matrices y arreglos NumPy. Estas funciones se encuentran en el módulo `NumPy` y se utilizan para realizar cálculos numéricos rápidos y eficientes.\n",
    "\n",
    "Algunas de las funciones de productos más comunes son:\n",
    "\n",
    "* **np.prod():** devuelve el producto de los elementos de un array o una matriz.\n",
    "* **np.dot():** devuelve el producto punto entre dos arrays.\n",
    "* **np.vdot():** devuelve el producto punto entre dos arrays como si se hubieran aplanado.\n",
    "* **np.outer():** devuelve el producto externo de dos arrays.\n",
    "* **np.tensordot():** devuelve el producto tensor entre dos arrays.\n",
    "* **np.kron():** devuelve el producto Kronecker de dos arrays.\n",
    "\n",
    "A continuación, se presentan algunos ejemplos de estas funciones:"
   ]
  },
  {
   "cell_type": "code",
   "execution_count": 83,
   "metadata": {},
   "outputs": [
    {
     "name": "stdout",
     "output_type": "stream",
     "text": [
      "6\n",
      "11\n",
      "[[3 4]\n",
      " [6 8]]\n",
      "70\n",
      "[3 4 6 8]\n"
     ]
    }
   ],
   "source": [
    "import numpy as np\n",
    "\n",
    "# Crear un array de ejemplo\n",
    "arr = np.array([1, 2, 3])\n",
    "\n",
    "# Calcular el producto de los elementos del array\n",
    "producto = np.prod(arr)\n",
    "print(producto)  # Output: 6\n",
    "\n",
    "# Crear dos arrays de ejemplo\n",
    "arr1 = np.array([1, 2])\n",
    "arr2 = np.array([3, 4])\n",
    "\n",
    "# Calcular el producto punto entre los dos arrays\n",
    "producto_punto = np.dot(arr1, arr2)\n",
    "print(producto_punto)  # Output: 11\n",
    "\n",
    "# Calcular el producto externo entre los dos arrays\n",
    "producto_externo = np.outer(arr1, arr2)\n",
    "print(producto_externo)\n",
    "# Output:\n",
    "# [[3 4]\n",
    "#  [6 8]]\n",
    "\n",
    "# Crear dos matrices de ejemplo\n",
    "matriz1 = np.array([[1, 2], [3, 4]])\n",
    "matriz2 = np.array([[5, 6], [7, 8]])\n",
    "\n",
    "# Calcular el producto tensor entre las dos matrices\n",
    "producto_tensor = np.tensordot(matriz1, matriz2)\n",
    "print(producto_tensor)\n",
    "# Output:\n",
    "# [[19 22]\n",
    "#  [43 50]]\n",
    "\n",
    "# Calcular el producto Kronecker entre los dos arrays\n",
    "producto_kronecker = np.kron(arr1, arr2)\n",
    "print(producto_kronecker)  # Output: [3 4 6 8]\n"
   ]
  },
  {
   "attachments": {},
   "cell_type": "markdown",
   "metadata": {},
   "source": [
    "En resumen, las funciones de productos en Python son una herramienta poderosa para realizar cálculos de multiplicación en matrices y arreglos `NumPy`, y pueden ser utilizadas para realizar una variedad de operaciones de multiplicación de manera rápida y eficiente."
   ]
  },
  {
   "attachments": {},
   "cell_type": "markdown",
   "metadata": {},
   "source": [
    "## **Funciones de logaritmos**"
   ]
  },
  {
   "attachments": {},
   "cell_type": "markdown",
   "metadata": {},
   "source": [
    "En Python, las funciones de logaritmos se utilizan para calcular el logaritmo de un número en una base determinada. El logaritmo es la función inversa de la exponenciación y se utiliza comúnmente en matemáticas, estadísticas y otras áreas de la ciencia.\n",
    "\n",
    "Existen varias funciones de logaritmos en Python que se pueden utilizar. Algunas de las funciones más comunes son:\n",
    "\n",
    "* **log():** esta función se utiliza para calcular el logaritmo natural de un número. Es decir, el logaritmo en base e.\n",
    "* **log10():** esta función se utiliza para calcular el logaritmo en base 10 de un número.\n",
    "* **log2():** esta función se utiliza para calcular el logaritmo en base 2 de un número.\n",
    "\n",
    "A continuación, se presentan algunos ejemplos de cómo utilizar estas funciones en Python:"
   ]
  },
  {
   "cell_type": "code",
   "execution_count": 84,
   "metadata": {},
   "outputs": [
    {
     "name": "stdout",
     "output_type": "stream",
     "text": [
      "1.6094379124341003\n",
      "2.0\n",
      "3.0\n"
     ]
    }
   ],
   "source": [
    "import math\n",
    "\n",
    "# Calcular el logaritmo natural de 5\n",
    "print(math.log(5))\n",
    "\n",
    "# Calcular el logaritmo en base 10 de 100\n",
    "print(math.log10(100))\n",
    "\n",
    "# Calcular el logaritmo en base 2 de 8\n",
    "print(math.log2(8))\n"
   ]
  },
  {
   "attachments": {},
   "cell_type": "markdown",
   "metadata": {},
   "source": [
    "También se pueden utilizar las funciones de logaritmos para resolver ecuaciones logarítmicas. Por ejemplo, si se desea resolver la ecuación `log(x) = 2`, se puede utilizar la función `log()` de la siguiente manera:"
   ]
  },
  {
   "cell_type": "code",
   "execution_count": 85,
   "metadata": {},
   "outputs": [
    {
     "name": "stdout",
     "output_type": "stream",
     "text": [
      "7.38905609893065\n"
     ]
    }
   ],
   "source": [
    "import math\n",
    "\n",
    "# Resolver la ecuación log(x) = 2\n",
    "x = math.exp(2)\n",
    "print(x)\n"
   ]
  },
  {
   "attachments": {},
   "cell_type": "markdown",
   "metadata": {},
   "source": [
    "## **Funciones de MCM y MCD**"
   ]
  },
  {
   "attachments": {},
   "cell_type": "markdown",
   "metadata": {},
   "source": [
    "En matemáticas, el Máximo Común Divisor `(MCD)` y el Mínimo Común Múltiplo `(MCM)` son dos conceptos importantes relacionados con los números enteros. En Python, podemos utilizar el módulo `math` para calcular estos valores.\n",
    "\n",
    "El Máximo Común Divisor es el número más grande que divide exactamente dos o más números enteros. Podemos calcular el `MCD` utilizando la función `gcd()` del módulo math. Por ejemplo:"
   ]
  },
  {
   "cell_type": "code",
   "execution_count": 86,
   "metadata": {},
   "outputs": [
    {
     "name": "stdout",
     "output_type": "stream",
     "text": [
      "El MCD de 60 y 48 es: 12\n"
     ]
    }
   ],
   "source": [
    "import math\n",
    "\n",
    "a = 60\n",
    "b = 48\n",
    "\n",
    "mcd = math.gcd(a, b)\n",
    "\n",
    "print(\"El MCD de\", a, \"y\", b, \"es:\", mcd)\n"
   ]
  },
  {
   "attachments": {},
   "cell_type": "markdown",
   "metadata": {},
   "source": [
    "El Mínimo Común Múltiplo es el número más pequeño que es un múltiplo común de dos o más números enteros. Podemos calcular el `MCM` utilizando la función `lcm()` del módulo `math`. Por ejemplo:"
   ]
  },
  {
   "cell_type": "code",
   "execution_count": 87,
   "metadata": {},
   "outputs": [
    {
     "name": "stdout",
     "output_type": "stream",
     "text": [
      "El MCM de 60 y 48 es: 240\n"
     ]
    }
   ],
   "source": [
    "import math\n",
    "\n",
    "a = 60\n",
    "b = 48\n",
    "\n",
    "mcm = math.lcm(a, b)\n",
    "\n",
    "print(\"El MCM de\", a, \"y\", b, \"es:\", mcm)\n"
   ]
  },
  {
   "attachments": {},
   "cell_type": "markdown",
   "metadata": {},
   "source": [
    "También podemos calcular el `MCM` de más de dos números enteros utilizando la función `reduce()` del módulo `functools`. Para ello, debemos importar la función `reduce()` y utilizarla junto con la función `lcm()`. Por ejemplo:"
   ]
  },
  {
   "cell_type": "code",
   "execution_count": 88,
   "metadata": {},
   "outputs": [
    {
     "name": "stdout",
     "output_type": "stream",
     "text": [
      "El MCM de los números [12, 30, 45] es: 180\n"
     ]
    }
   ],
   "source": [
    "import math\n",
    "from functools import reduce\n",
    "\n",
    "numeros = [12, 30, 45]\n",
    "\n",
    "mcm = reduce(lambda x, y: math.lcm(x, y), numeros)\n",
    "\n",
    "print(\"El MCM de los números\", numeros, \"es:\", mcm)\n"
   ]
  },
  {
   "attachments": {},
   "cell_type": "markdown",
   "metadata": {},
   "source": [
    "En este ejemplo, utilizamos la función `reduce()` para aplicar la función `lcm()` a cada par de elementos de la lista numeros, obteniendo así el `MCM` de todos ellos."
   ]
  },
  {
   "attachments": {},
   "cell_type": "markdown",
   "metadata": {},
   "source": [
    "## **Funciones de trigonometría e hiperbólicas**"
   ]
  },
  {
   "attachments": {},
   "cell_type": "markdown",
   "metadata": {},
   "source": [
    "Las funciones de trigonometría e hiperbólicas en Python se encuentran en el módulo `math`. Estas funciones son útiles para cálculos matemáticos que involucran ángulos y sus correspondientes funciones trigonométricas y hiperbólicas.\n",
    "\n",
    "Aquí hay algunas funciones comunes de trigonometría e hiperbólicas en Python:\n",
    "\n",
    "* **math.sin(x):** devuelve el seno de un ángulo en radianes.\n",
    "* **math.cos(x):** devuelve el coseno de un ángulo en radianes.\n",
    "* **math.tan(x):** devuelve la tangente de un ángulo en radianes.\n",
    "* **math.asin(x):** devuelve el arcoseno en radianes de un valor.\n",
    "* **math.acos(x):** devuelve el arcocoseno en radianes de un valor.\n",
    "* **math.atan(x):** devuelve el arcotangente en radianes de un valor.\n",
    "* **math.sinh(x):** devuelve el seno hiperbólico de un número.\n",
    "* **math.cosh(x):** devuelve el coseno hiperbólico de un número.\n",
    "* **math.tanh(x):** devuelve la tangente hiperbólica de un número.\n",
    "* **math.asinh(x):** devuelve el arcoseno hiperbólico de un valor.\n",
    "* **math.acosh(x):** devuelve el arcocoseno hiperbólico de un valor.\n",
    "* **math.atanh(x):** devuelve el arcotangente hiperbólico de un valor.\n",
    "\n",
    "Todos los argumentos para estas funciones deben estar en radianes.\n",
    "\n",
    "Aquí hay algunos ejemplos de cómo utilizar estas funciones:"
   ]
  },
  {
   "cell_type": "code",
   "execution_count": 96,
   "metadata": {},
   "outputs": [
    {
     "name": "stdout",
     "output_type": "stream",
     "text": [
      "Seno: 0.71\n",
      "Coseno: 0.71\n",
      "Tangente: 1.00\n",
      "Arcoseno: 0.52\n",
      "Arcocoseno: 1.05\n",
      "Seno hiperbólico: 3.63\n",
      "Coseno hiperbólico: 3.76\n",
      "Tangente hiperbólica: 0.96\n"
     ]
    }
   ],
   "source": [
    "import math\n",
    "\n",
    "# Calcular el seno, coseno y tangente de un ángulo\n",
    "angulo = math.pi / 4  # 45 grados en radianes\n",
    "seno = math.sin(angulo)\n",
    "coseno = math.cos(angulo)\n",
    "tangente = math.tan(angulo)\n",
    "print(f\"Seno: {seno:.2f}\")\n",
    "print(f\"Coseno: {coseno:.2f}\")\n",
    "print(f\"Tangente: {tangente:.2f}\")\n",
    "\n",
    "# Calcular el arcoseno y arcocoseno de un valor\n",
    "valor = 0.5\n",
    "arcoseno = math.asin(valor)\n",
    "arcocoseno = math.acos(valor)\n",
    "print(f\"Arcoseno: {arcoseno:.2f}\")\n",
    "print(f\"Arcocoseno: {arcocoseno:.2f}\")\n",
    "\n",
    "# Calcular el seno hiperbólico, coseno hiperbólico y tangente hiperbólica de un número\n",
    "numero = 2\n",
    "seno_hiperbolico = math.sinh(numero)\n",
    "coseno_hiperbolico = math.cosh(numero)\n",
    "tangente_hiperbolica = math.tanh(numero)\n",
    "print(f\"Seno hiperbólico: {seno_hiperbolico:.2f}\")\n",
    "print(f\"Coseno hiperbólico: {coseno_hiperbolico:.2f}\")\n",
    "print(f\"Tangente hiperbólica: {tangente_hiperbolica:.2f}\")\n"
   ]
  },
  {
   "attachments": {},
   "cell_type": "markdown",
   "metadata": {},
   "source": [
    "## **Conjuntos en numpy**"
   ]
  },
  {
   "attachments": {},
   "cell_type": "markdown",
   "metadata": {},
   "source": [
    "En `NumPy`, un conjunto es una estructura de datos unidimensional que contiene elementos únicos y desordenados. Es decir, un conjunto no admite elementos duplicados y no tiene ningún orden predefinido de los elementos.\n",
    "\n",
    "Para trabajar con conjuntos en `NumPy`, se utiliza la función `np.unique()`, que devuelve un array con los elementos únicos de otro array dado, ordenados de manera ascendente por defecto.\n",
    "\n",
    "Veamos algunos ejemplos:"
   ]
  },
  {
   "cell_type": "code",
   "execution_count": 97,
   "metadata": {},
   "outputs": [
    {
     "name": "stdout",
     "output_type": "stream",
     "text": [
      "[1 3 5 7 9]\n"
     ]
    }
   ],
   "source": [
    "import numpy as np\n",
    "\n",
    "# Creamos un array de ejemplo\n",
    "arr = np.array([1, 3, 5, 3, 7, 1, 9, 5])\n",
    "\n",
    "# Obtenemos los elementos únicos del array\n",
    "conjunto = np.unique(arr)\n",
    "\n",
    "print(conjunto)\n"
   ]
  },
  {
   "attachments": {},
   "cell_type": "markdown",
   "metadata": {},
   "source": [
    "Este código crea un array `arr` con algunos elementos repetidos y utiliza la función `np.unique()` para obtener los elementos únicos del array. El resultado es un conjunto con los elementos `[1, 3, 5, 7, 9]`.\n",
    "\n",
    "También puedes utilizar la función `np.setdiff1d()` para obtener los elementos de un conjunto que no se encuentran en otro conjunto. Por ejemplo:"
   ]
  },
  {
   "cell_type": "code",
   "execution_count": 98,
   "metadata": {},
   "outputs": [
    {
     "name": "stdout",
     "output_type": "stream",
     "text": [
      "[1 2]\n"
     ]
    }
   ],
   "source": [
    "# Creamos dos arrays de ejemplo\n",
    "a = np.array([1, 2, 3, 4])\n",
    "b = np.array([3, 4, 5, 6])\n",
    "\n",
    "# Obtenemos los elementos de a que no están en b\n",
    "diff = np.setdiff1d(a, b)\n",
    "\n",
    "print(diff)\n"
   ]
  },
  {
   "attachments": {},
   "cell_type": "markdown",
   "metadata": {},
   "source": [
    "En este caso, la función `np.setdiff1d()` devuelve un conjunto con los elementos `[1, 2]`, ya que estos elementos están en a pero no en `b`.\n",
    "\n",
    "También puedes utilizar la función `np.intersect1d()` para obtener los elementos que se encuentran en ambos conjuntos:"
   ]
  },
  {
   "cell_type": "code",
   "execution_count": 99,
   "metadata": {},
   "outputs": [
    {
     "name": "stdout",
     "output_type": "stream",
     "text": [
      "[3 4]\n"
     ]
    }
   ],
   "source": [
    "# Creamos dos arrays de ejemplo\n",
    "a = np.array([1, 2, 3, 4])\n",
    "b = np.array([3, 4, 5, 6])\n",
    "\n",
    "# Obtenemos los elementos que están en ambos conjuntos\n",
    "inter = np.intersect1d(a, b)\n",
    "\n",
    "print(inter)\n"
   ]
  },
  {
   "attachments": {},
   "cell_type": "markdown",
   "metadata": {},
   "source": [
    "En este caso, la función `np.intersect1d()` devuelve un conjunto con los elementos `[3, 4]`, ya que estos elementos se encuentran en ambos conjuntos.\n",
    "\n",
    "Ten en cuenta que los conjuntos en `NumPy` son inmutables, es decir, no se pueden modificar una vez creados. Si necesitas agregar o eliminar elementos de un conjunto, debes convertirlo a otro tipo de estructura de datos, como una lista, realizar la operación y luego volver a convertirlo en un conjunto."
   ]
  },
  {
   "attachments": {},
   "cell_type": "markdown",
   "metadata": {},
   "source": [
    "| **Inicio** | **atrás 15** | **Siguiente 17** |\n",
    "|----------- |-------------- |---------------|\n",
    "| [🏠](../../README.md) | [⏪](./15.Modulos_de_math_cmath.ipynb)| [⏩](./17.Representacion_grafica.ipynb)|"
   ]
  }
 ],
 "metadata": {
  "kernelspec": {
   "display_name": "base",
   "language": "python",
   "name": "python3"
  },
  "language_info": {
   "codemirror_mode": {
    "name": "ipython",
    "version": 3
   },
   "file_extension": ".py",
   "mimetype": "text/x-python",
   "name": "python",
   "nbconvert_exporter": "python",
   "pygments_lexer": "ipython3",
   "version": "3.9.12"
  },
  "orig_nbformat": 4
 },
 "nbformat": 4,
 "nbformat_minor": 2
}
