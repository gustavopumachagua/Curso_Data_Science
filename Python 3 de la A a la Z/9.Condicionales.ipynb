{
 "cells": [
  {
   "attachments": {},
   "cell_type": "markdown",
   "metadata": {},
   "source": [
    "# **9. Condicionales**"
   ]
  },
  {
   "attachments": {},
   "cell_type": "markdown",
   "metadata": {},
   "source": [
    "De forma predeterminada, las declaraciones en el script de Python se ejecutan secuencialmente de arriba a abajo. Si la lógica de procesamiento lo requiere, el flujo secuencial de ejecución se puede alterar de dos formas:\n",
    "\n",
    "* Ejecución condicional: se ejecutará un bloque de una o más sentencias si cierta expresión es verdadera\n",
    "* Ejecución repetitiva: un bloque de una o más sentencias se ejecutará de forma repetitiva siempre que cierta expresión sea verdadera. En esta sección, cubriremos las declaraciones if , else y elif .\n",
    "\n",
    "Los operadores lógicos y de comparación que aprendimos en las secciones anteriores serán útiles aquí."
   ]
  },
  {
   "attachments": {},
   "cell_type": "markdown",
   "metadata": {},
   "source": [
    "## **If Condition**"
   ]
  },
  {
   "attachments": {},
   "cell_type": "markdown",
   "metadata": {},
   "source": [
    "```\n",
    "# syntax\n",
    "if condition:\n",
    "    this part of code runs for truthy conditions\n",
    "```"
   ]
  },
  {
   "cell_type": "code",
   "execution_count": 1,
   "metadata": {},
   "outputs": [
    {
     "name": "stdout",
     "output_type": "stream",
     "text": [
      "A is a positive number\n"
     ]
    }
   ],
   "source": [
    "a = 3\n",
    "if a > 0:\n",
    "    print('A is a positive number')\n",
    "# a es un numero positivo"
   ]
  },
  {
   "attachments": {},
   "cell_type": "markdown",
   "metadata": {},
   "source": [
    "Como puede ver en el ejemplo anterior, 3 es mayor que 0. La condición era verdadera y se ejecutó el código de bloque. Sin embargo, si la condición es falsa, no vemos el resultado. Para ver el resultado de la condición falsa, deberíamos tener otro bloque, que va a ser else ."
   ]
  },
  {
   "attachments": {},
   "cell_type": "markdown",
   "metadata": {},
   "source": [
    "## **If Else**"
   ]
  },
  {
   "attachments": {},
   "cell_type": "markdown",
   "metadata": {},
   "source": [
    "Si la condición es verdadera, se ejecutará el primer bloque, si no, se ejecutará la otra condición.\n",
    "\n",
    "```\n",
    "# syntax\n",
    "if condition:\n",
    "    this part of code runs for truthy conditions\n",
    "else:\n",
    "     this part of code runs for false conditions\n",
    "```"
   ]
  },
  {
   "cell_type": "code",
   "execution_count": 1,
   "metadata": {},
   "outputs": [
    {
     "name": "stdout",
     "output_type": "stream",
     "text": [
      "A is a positive number\n"
     ]
    }
   ],
   "source": [
    "a = 3\n",
    "if a < 0:\n",
    "    print('A is a negative number')\n",
    "else:\n",
    "    print('A is a positive number')"
   ]
  },
  {
   "attachments": {},
   "cell_type": "markdown",
   "metadata": {},
   "source": [
    "La condición anterior resulta falsa, por lo que se ejecutó el bloque else. ¿Qué tal si nuestra condición es más de dos? Podríamos usar _ elif_"
   ]
  },
  {
   "attachments": {},
   "cell_type": "markdown",
   "metadata": {},
   "source": [
    "## **If Elif Else**"
   ]
  },
  {
   "attachments": {},
   "cell_type": "markdown",
   "metadata": {},
   "source": [
    "En nuestra vida diaria, tomamos decisiones a diario. Tomamos decisiones no comprobando una o dos condiciones, sino múltiples condiciones. Al igual que la vida, la programación también está llena de condiciones. Usamos elif cuando tenemos múltiples condiciones.\n",
    "\n",
    "```\n",
    "# syntax\n",
    "if condition:\n",
    "    code\n",
    "elif condition:\n",
    "    code\n",
    "else:\n",
    "    code\n",
    "```"
   ]
  },
  {
   "cell_type": "code",
   "execution_count": 2,
   "metadata": {},
   "outputs": [
    {
     "name": "stdout",
     "output_type": "stream",
     "text": [
      "A is zero\n"
     ]
    }
   ],
   "source": [
    "a = 0\n",
    "if a > 0:\n",
    "    print('A is a positive number')\n",
    "elif a < 0:\n",
    "    print('A is a negative number')\n",
    "else:\n",
    "    print('A is zero')"
   ]
  },
  {
   "attachments": {},
   "cell_type": "markdown",
   "metadata": {},
   "source": [
    "## **Short Hand**"
   ]
  },
  {
   "attachments": {},
   "cell_type": "markdown",
   "metadata": {},
   "source": [
    "```\n",
    "# syntax\n",
    "code if condition else code\n",
    "```"
   ]
  },
  {
   "cell_type": "code",
   "execution_count": 3,
   "metadata": {},
   "outputs": [
    {
     "name": "stdout",
     "output_type": "stream",
     "text": [
      "A is positive\n"
     ]
    }
   ],
   "source": [
    "a = 3\n",
    "print('A is positive') if a > 0 else print('A is negative') # primera condición cumplida, se imprimirá 'A es positivo'"
   ]
  },
  {
   "attachments": {},
   "cell_type": "markdown",
   "metadata": {},
   "source": [
    "## **Nested Conditions**"
   ]
  },
  {
   "attachments": {},
   "cell_type": "markdown",
   "metadata": {},
   "source": [
    "Las condiciones se pueden anidar\n",
    "```\n",
    "# syntax\n",
    "if condition:\n",
    "    code\n",
    "    if condition:\n",
    "    code\n",
    "```"
   ]
  },
  {
   "cell_type": "code",
   "execution_count": 4,
   "metadata": {},
   "outputs": [
    {
     "name": "stdout",
     "output_type": "stream",
     "text": [
      "A es cero\n"
     ]
    }
   ],
   "source": [
    "a = 0\n",
    "if a > 0:\n",
    "    if a % 2 == 0:\n",
    "        print('A es un entero positivo y par')\n",
    "    else:\n",
    "        print('A es un numero positivo')\n",
    "elif a == 0:\n",
    "    print('A es cero')\n",
    "else:\n",
    "    print('A es un numero negativo')\n"
   ]
  },
  {
   "attachments": {},
   "cell_type": "markdown",
   "metadata": {},
   "source": [
    "Podemos evitar escribir condiciones anidadas usando el operador lógico and."
   ]
  },
  {
   "attachments": {},
   "cell_type": "markdown",
   "metadata": {},
   "source": [
    "## **Condición If y operadores lógicos**"
   ]
  },
  {
   "attachments": {},
   "cell_type": "markdown",
   "metadata": {},
   "source": [
    "```\n",
    "# syntax\n",
    "if condition and condition:\n",
    "    code\n",
    "```"
   ]
  },
  {
   "cell_type": "code",
   "execution_count": 5,
   "metadata": {},
   "outputs": [
    {
     "name": "stdout",
     "output_type": "stream",
     "text": [
      "A es cero\n"
     ]
    }
   ],
   "source": [
    "a = 0\n",
    "if a > 0 and a % 2 == 0:\n",
    "        print('A es un entero par y positivo')\n",
    "elif a > 0 and a % 2 !=  0:\n",
    "     print('A es un entero positivo')\n",
    "elif a == 0:\n",
    "    print('A es cero')\n",
    "else:\n",
    "    print('A es negativo')"
   ]
  },
  {
   "attachments": {},
   "cell_type": "markdown",
   "metadata": {},
   "source": [
    "## **Operadores lógicos if y or**"
   ]
  },
  {
   "attachments": {},
   "cell_type": "markdown",
   "metadata": {},
   "source": [
    "```\n",
    "# syntax\n",
    "if condition or condition:\n",
    "    code\n",
    "```"
   ]
  },
  {
   "cell_type": "code",
   "execution_count": 6,
   "metadata": {},
   "outputs": [
    {
     "name": "stdout",
     "output_type": "stream",
     "text": [
      "¡Acceso denegado!\n"
     ]
    }
   ],
   "source": [
    "user = 'James'\n",
    "access_level = 3\n",
    "if user == 'admin' or access_level >= 4:\n",
    "        print('¡Acceso permitido!')\n",
    "else:\n",
    "    print('¡Acceso denegado!')"
   ]
  }
 ],
 "metadata": {
  "kernelspec": {
   "display_name": "base",
   "language": "python",
   "name": "python3"
  },
  "language_info": {
   "codemirror_mode": {
    "name": "ipython",
    "version": 3
   },
   "file_extension": ".py",
   "mimetype": "text/x-python",
   "name": "python",
   "nbconvert_exporter": "python",
   "pygments_lexer": "ipython3",
   "version": "3.9.12"
  },
  "orig_nbformat": 4
 },
 "nbformat": 4,
 "nbformat_minor": 2
}
