{
 "cells": [
  {
   "attachments": {},
   "cell_type": "markdown",
   "metadata": {},
   "source": [
    "# **5. Lists**"
   ]
  },
  {
   "attachments": {},
   "cell_type": "markdown",
   "metadata": {},
   "source": [
    "Hay cuatro tipos de datos de colección en Python:\n",
    "\n",
    "* Lista: es una colección ordenada y cambiable (modificable). Permite miembros duplicados.\n",
    "* Tupla: es una colección ordenada e inmutable o inmodificable (inmutable). Permite miembros duplicados.\n",
    "* Conjunto: es una colección desordenada, no indexada y no modificable, pero podemos agregar nuevos elementos al conjunto. No se permiten miembros duplicados.\n",
    "* Diccionario: es una colección desordenada, cambiable (modificable) e indexada. No hay miembros duplicados.\n",
    "\n",
    "Una lista es una colección de diferentes tipos de datos ordenados y modificables (mutables). Una lista puede estar vacía o puede tener diferentes elementos de tipo de datos."
   ]
  },
  {
   "attachments": {},
   "cell_type": "markdown",
   "metadata": {},
   "source": [
    "## **Cómo crear una lista**"
   ]
  },
  {
   "attachments": {},
   "cell_type": "markdown",
   "metadata": {},
   "source": [
    "En Python podemos crear listas de dos formas:"
   ]
  },
  {
   "attachments": {},
   "cell_type": "markdown",
   "metadata": {},
   "source": [
    "* Uso de la función incorporada de lista"
   ]
  },
  {
   "cell_type": "code",
   "execution_count": 1,
   "metadata": {},
   "outputs": [],
   "source": [
    "# syntax\n",
    "lst = list()"
   ]
  },
  {
   "cell_type": "code",
   "execution_count": 2,
   "metadata": {},
   "outputs": [
    {
     "name": "stdout",
     "output_type": "stream",
     "text": [
      "0\n"
     ]
    }
   ],
   "source": [
    "empty_list = list() # esta es una lista vacía, no hay ningún elemento en la lista\n",
    "print(len(empty_list)) # 0"
   ]
  },
  {
   "attachments": {},
   "cell_type": "markdown",
   "metadata": {},
   "source": [
    "* Usando corchetes, []"
   ]
  },
  {
   "cell_type": "code",
   "execution_count": 3,
   "metadata": {},
   "outputs": [],
   "source": [
    "# syntax\n",
    "lst = []"
   ]
  },
  {
   "cell_type": "code",
   "execution_count": 4,
   "metadata": {},
   "outputs": [
    {
     "name": "stdout",
     "output_type": "stream",
     "text": [
      "0\n"
     ]
    }
   ],
   "source": [
    "empty_list = [] # esta es una lista vacía, no hay ningún elemento en la lista\n",
    "print(len(empty_list)) # 0"
   ]
  },
  {
   "attachments": {},
   "cell_type": "markdown",
   "metadata": {},
   "source": [
    "Listas con valores iniciales. Usamos len() para encontrar la longitud de una lista."
   ]
  },
  {
   "cell_type": "code",
   "execution_count": 5,
   "metadata": {},
   "outputs": [
    {
     "name": "stdout",
     "output_type": "stream",
     "text": [
      "Fruits: ['banana', 'orange', 'mango', 'lemon']\n",
      "Number of fruits: 4\n",
      "Vegetables: ['Tomato', 'Potato', 'Cabbage', 'Onion', 'Carrot']\n",
      "Number of vegetables: 5\n",
      "Animal products: ['milk', 'meat', 'butter', 'yoghurt']\n",
      "Number of animal products: 4\n",
      "Web technologies: ['HTML', 'CSS', 'JS', 'React', 'Redux', 'Node', 'MongDB']\n",
      "Number of web technologies: 7\n",
      "Countries: ['Finland', 'Estonia', 'Denmark', 'Sweden', 'Norway']\n",
      "Number of countries: 5\n"
     ]
    }
   ],
   "source": [
    "fruits = ['banana', 'orange', 'mango', 'lemon']                     # lista de frutas\n",
    "vegetables = ['Tomato', 'Potato', 'Cabbage','Onion', 'Carrot']      # lista de verduras\n",
    "animal_products = ['milk', 'meat', 'butter', 'yoghurt']             # lista de productos animales\n",
    "web_techs = ['HTML', 'CSS', 'JS', 'React','Redux', 'Node', 'MongDB'] # lista de tecnologías web\n",
    "countries = ['Finland', 'Estonia', 'Denmark', 'Sweden', 'Norway']\n",
    "\n",
    "# Imprime las listas y su longitud\n",
    "print('Fruits:', fruits)\n",
    "print('Number of fruits:', len(fruits))\n",
    "print('Vegetables:', vegetables)\n",
    "print('Number of vegetables:', len(vegetables))\n",
    "print('Animal products:',animal_products)\n",
    "print('Number of animal products:', len(animal_products))\n",
    "print('Web technologies:', web_techs)\n",
    "print('Number of web technologies:', len(web_techs))\n",
    "print('Countries:', countries)\n",
    "print('Number of countries:', len(countries))"
   ]
  },
  {
   "attachments": {},
   "cell_type": "markdown",
   "metadata": {},
   "source": [
    "* Las listas pueden tener elementos de diferentes tipos de datos"
   ]
  },
  {
   "cell_type": "code",
   "execution_count": 7,
   "metadata": {},
   "outputs": [
    {
     "name": "stdout",
     "output_type": "stream",
     "text": [
      "['Asabeneh', 25, True, {'country': 'Finland', 'city': 'Helsinki'}]\n"
     ]
    }
   ],
   "source": [
    "lst = ['Asabeneh', 25, True, {'country':'Finland', 'city':'Helsinki'}] # lista que contiene diferentes tipos de datos\n",
    "print(lst)"
   ]
  },
  {
   "attachments": {},
   "cell_type": "markdown",
   "metadata": {},
   "source": [
    "### **Acceder a los elementos de la lista mediante la indexación positiva**"
   ]
  },
  {
   "attachments": {},
   "cell_type": "markdown",
   "metadata": {},
   "source": [
    "Accedemos a cada elemento de una lista utilizando su índice. El índice de una lista comienza desde 0. La siguiente imagen muestra claramente dónde comienza el índice"
   ]
  },
  {
   "attachments": {},
   "cell_type": "markdown",
   "metadata": {},
   "source": [
    "![indexacion positiva](../img/list_index.png \"indexacion positiva\")"
   ]
  },
  {
   "cell_type": "code",
   "execution_count": 8,
   "metadata": {},
   "outputs": [
    {
     "name": "stdout",
     "output_type": "stream",
     "text": [
      "banana\n",
      "orange\n",
      "lemon\n"
     ]
    }
   ],
   "source": [
    "fruits = ['banana', 'orange', 'mango', 'lemon']\n",
    "first_fruit = fruits[0] # estamos accediendo al primer elemento usando su índice\n",
    "print(first_fruit)      # banana\n",
    "second_fruit = fruits[1]\n",
    "print(second_fruit)     # orange\n",
    "last_fruit = fruits[3]\n",
    "print(last_fruit) # lemon\n",
    "# Last index\n",
    "last_index = len(fruits) - 1\n",
    "last_fruit = fruits[last_index]"
   ]
  },
  {
   "attachments": {},
   "cell_type": "markdown",
   "metadata": {},
   "source": [
    "### **Acceder a los elementos de la lista mediante la indexación negativa**"
   ]
  },
  {
   "attachments": {},
   "cell_type": "markdown",
   "metadata": {},
   "source": [
    "La indexación negativa significa comenzar desde el final, -1 se refiere al último elemento, -2 se refiere al penúltimo elemento."
   ]
  },
  {
   "attachments": {},
   "cell_type": "markdown",
   "metadata": {},
   "source": [
    "![indexacion negativa](../img/list_negative_indexing.png \"indexacion negativa\")"
   ]
  },
  {
   "cell_type": "code",
   "execution_count": 9,
   "metadata": {},
   "outputs": [
    {
     "name": "stdout",
     "output_type": "stream",
     "text": [
      "banana\n",
      "lemon\n",
      "mango\n"
     ]
    }
   ],
   "source": [
    "fruits = ['banana', 'orange', 'mango', 'lemon']\n",
    "first_fruit = fruits[-4]\n",
    "last_fruit = fruits[-1]\n",
    "second_last = fruits[-2]\n",
    "print(first_fruit)      # banana\n",
    "print(last_fruit)       # lemon\n",
    "print(second_last)      # mango"
   ]
  },
  {
   "attachments": {},
   "cell_type": "markdown",
   "metadata": {},
   "source": [
    "### **Desempaquetar elementos de la lista**"
   ]
  },
  {
   "cell_type": "code",
   "execution_count": 10,
   "metadata": {},
   "outputs": [
    {
     "name": "stdout",
     "output_type": "stream",
     "text": [
      "item\n",
      "item2\n",
      "item3\n",
      "['item4', 'item5']\n"
     ]
    }
   ],
   "source": [
    "lst = ['item','item2','item3', 'item4', 'item5']\n",
    "first_item, second_item, third_item, *rest = lst\n",
    "print(first_item)     # item1\n",
    "print(second_item)    # item2\n",
    "print(third_item)     # item3\n",
    "print(rest)           # ['item4', 'item5']\n"
   ]
  },
  {
   "cell_type": "code",
   "execution_count": 11,
   "metadata": {},
   "outputs": [
    {
     "name": "stdout",
     "output_type": "stream",
     "text": [
      "item\n",
      "item2\n",
      "item3\n",
      "['item4', 'item5']\n"
     ]
    }
   ],
   "source": [
    "# Primer ejemplo\n",
    "fruits = ['banana', 'orange', 'mango', 'lemon','lime','apple']\n",
    "first_fruit, second_fruit, third_fruit, *rest = lst\n",
    "print(first_fruit)     # banana\n",
    "print(second_fruit)    # orange\n",
    "print(third_fruit)     # mango\n",
    "print(rest)           # ['lemon','lime','apple']\n",
    "\n"
   ]
  },
  {
   "cell_type": "code",
   "execution_count": 12,
   "metadata": {},
   "outputs": [
    {
     "name": "stdout",
     "output_type": "stream",
     "text": [
      "1\n",
      "2\n",
      "3\n",
      "[4, 5, 6, 7, 8, 9]\n",
      "10\n"
     ]
    }
   ],
   "source": [
    "# Segundo ejemplo sobre la lista de desembalaje\n",
    "first, second, third,*rest, tenth = [1,2,3,4,5,6,7,8,9,10]\n",
    "print(first)          # 1\n",
    "print(second)         # 2\n",
    "print(third)          # 3\n",
    "print(rest)           # [4,5,6,7,8,9]\n",
    "print(tenth)          # 10"
   ]
  },
  {
   "cell_type": "code",
   "execution_count": 13,
   "metadata": {},
   "outputs": [
    {
     "name": "stdout",
     "output_type": "stream",
     "text": [
      "Germany\n",
      "France\n",
      "Belgium\n",
      "Sweden\n",
      "['Denmark', 'Finland', 'Norway', 'Iceland']\n",
      "Estonia\n"
     ]
    }
   ],
   "source": [
    "# Tercer ejemplo sobre la lista de desembalaje\n",
    "countries = ['Germany', 'France','Belgium','Sweden','Denmark','Finland','Norway','Iceland','Estonia']\n",
    "gr, fr, bg, sw, *scandic, es = countries\n",
    "print(gr)\n",
    "print(fr)\n",
    "print(bg)\n",
    "print(sw)\n",
    "print(scandic)\n",
    "print(es)"
   ]
  },
  {
   "attachments": {},
   "cell_type": "markdown",
   "metadata": {},
   "source": [
    "### **Slicing elementos de una lista**"
   ]
  },
  {
   "attachments": {},
   "cell_type": "markdown",
   "metadata": {},
   "source": [
    "* Indexación positiva: podemos especificar un rango de índices positivos especificando el inicio, el final y el paso, el valor de retorno será una nueva lista. (valores predeterminados para inicio = 0, final = len (lst) - 1 (último elemento), paso = 1)"
   ]
  },
  {
   "cell_type": "code",
   "execution_count": 15,
   "metadata": {},
   "outputs": [
    {
     "name": "stdout",
     "output_type": "stream",
     "text": [
      "['banana', 'orange', 'mango', 'lemon']\n"
     ]
    }
   ],
   "source": [
    "fruits = ['banana', 'orange', 'mango', 'lemon']\n",
    "all_fruits = fruits[0:4] # devuelve todas las frutas\n",
    "print(all_fruits)"
   ]
  },
  {
   "cell_type": "code",
   "execution_count": 16,
   "metadata": {},
   "outputs": [
    {
     "name": "stdout",
     "output_type": "stream",
     "text": [
      "['banana', 'orange', 'mango', 'lemon']\n",
      "['orange', 'mango']\n",
      "['orange', 'mango', 'lemon']\n",
      "['banana', 'mango']\n"
     ]
    }
   ],
   "source": [
    "# esto también dará el mismo resultado que el anterior\n",
    "all_fruits = fruits[0:] # si no establecemos dónde parar, toma todo el resto\n",
    "print(all_fruits)\n",
    "orange_and_mango = fruits[1:3] # no incluye el primer índice\n",
    "print(orange_and_mango)\n",
    "orange_mango_lemon = fruits[1:]\n",
    "print(orange_mango_lemon)\n",
    "orange_and_lemon = fruits[::2] # aquí usamos un tercer argumento, paso. Tomará cada segundo artículo - ['banana', 'mango']\n",
    "print(orange_and_lemon)"
   ]
  },
  {
   "attachments": {},
   "cell_type": "markdown",
   "metadata": {},
   "source": [
    "* Indexación negativa: podemos especificar un rango de índices negativos especificando el inicio, el final y el paso, el valor devuelto será una nueva lista."
   ]
  },
  {
   "cell_type": "code",
   "execution_count": 18,
   "metadata": {},
   "outputs": [
    {
     "name": "stdout",
     "output_type": "stream",
     "text": [
      "['banana', 'orange', 'mango', 'lemon']\n",
      "['orange', 'mango']\n",
      "['orange', 'mango', 'lemon']\n",
      "['lemon', 'mango', 'orange', 'banana']\n"
     ]
    }
   ],
   "source": [
    "fruits = ['banana', 'orange', 'mango', 'lemon']\n",
    "all_fruits = fruits[-4:] # devuelve todas las frutas\n",
    "print(all_fruits)\n",
    "orange_and_mango = fruits[-3:-1] # no incluye el último índice,['naranja', 'mango']\n",
    "print(orange_and_mango)\n",
    "orange_mango_lemon = fruits[-3:] # esto dará a partir de -3 hasta el final,['naranja', 'mango', 'limón']\n",
    "print(orange_mango_lemon)\n",
    "reverse_fruits = fruits[::-1] # un paso negativo tomará la lista en orden inverso,['limón', 'mango', 'naranja', 'plátano']\n",
    "print(reverse_fruits)"
   ]
  },
  {
   "attachments": {},
   "cell_type": "markdown",
   "metadata": {},
   "source": [
    "### **Modificación de listas**"
   ]
  },
  {
   "attachments": {},
   "cell_type": "markdown",
   "metadata": {},
   "source": [
    "Lista es una colección ordenada mutable o modificable de elementos. Vamos a modificar la lista de frutas."
   ]
  },
  {
   "cell_type": "code",
   "execution_count": 19,
   "metadata": {},
   "outputs": [
    {
     "name": "stdout",
     "output_type": "stream",
     "text": [
      "['avocado', 'orange', 'mango', 'lemon']\n",
      "['avocado', 'apple', 'mango', 'lemon']\n",
      "['avocado', 'apple', 'mango', 'lime']\n"
     ]
    }
   ],
   "source": [
    "fruits = ['banana', 'orange', 'mango', 'lemon']\n",
    "fruits[0] = 'avocado'\n",
    "print(fruits)       #  ['avocado', 'orange', 'mango', 'lemon']\n",
    "fruits[1] = 'apple'\n",
    "print(fruits)       #  ['avocado', 'apple', 'mango', 'lemon']\n",
    "last_index = len(fruits) - 1\n",
    "fruits[last_index] = 'lime'\n",
    "print(fruits)        #  ['avocado', 'apple', 'mango', 'lime']"
   ]
  },
  {
   "attachments": {},
   "cell_type": "markdown",
   "metadata": {},
   "source": [
    "### **Comprobación de elementos en una lista**"
   ]
  },
  {
   "attachments": {},
   "cell_type": "markdown",
   "metadata": {},
   "source": [
    "Comprobación de un elemento si es miembro de una lista mediante el operador in . Vea el ejemplo a continuación."
   ]
  },
  {
   "cell_type": "code",
   "execution_count": 20,
   "metadata": {},
   "outputs": [
    {
     "name": "stdout",
     "output_type": "stream",
     "text": [
      "True\n",
      "False\n"
     ]
    }
   ],
   "source": [
    "fruits = ['banana', 'orange', 'mango', 'lemon']\n",
    "does_exist = 'banana' in fruits\n",
    "print(does_exist)  # True\n",
    "does_exist = 'lime' in fruits\n",
    "print(does_exist)  # False"
   ]
  },
  {
   "attachments": {},
   "cell_type": "markdown",
   "metadata": {},
   "source": [
    "### **Adición de elementos a una lista**"
   ]
  },
  {
   "attachments": {},
   "cell_type": "markdown",
   "metadata": {},
   "source": [
    "Para agregar un elemento al final de una lista existente, usamos el método append() ."
   ]
  },
  {
   "cell_type": "code",
   "execution_count": 22,
   "metadata": {},
   "outputs": [
    {
     "name": "stdout",
     "output_type": "stream",
     "text": [
      "['banana', 'orange', 'mango', 'lemon', 'apple']\n",
      "['banana', 'orange', 'mango', 'lemon', 'apple', 'lime']\n"
     ]
    }
   ],
   "source": [
    "fruits = ['banana', 'orange', 'mango', 'lemon']\n",
    "fruits.append('apple')\n",
    "print(fruits)           # ['banana', 'orange', 'mango', 'lemon', 'apple']\n",
    "fruits.append('lime')   # ['banana', 'orange', 'mango', 'lemon', 'apple', 'lime']\n",
    "print(fruits)"
   ]
  },
  {
   "attachments": {},
   "cell_type": "markdown",
   "metadata": {},
   "source": [
    "### **Insertar elementos en una lista**"
   ]
  },
  {
   "attachments": {},
   "cell_type": "markdown",
   "metadata": {},
   "source": [
    "Podemos usar el método insert() para insertar un solo elemento en un índice específico en una lista. Tenga en cuenta que otros elementos se desplazan a la derecha. Los métodos insert() toman dos argumentos: índice y un elemento para insertar."
   ]
  },
  {
   "cell_type": "code",
   "execution_count": 23,
   "metadata": {},
   "outputs": [
    {
     "name": "stdout",
     "output_type": "stream",
     "text": [
      "['banana', 'orange', 'apple', 'mango', 'lemon']\n",
      "['banana', 'orange', 'apple', 'lime', 'mango', 'lemon']\n"
     ]
    }
   ],
   "source": [
    "fruits = ['banana', 'orange', 'mango', 'lemon']\n",
    "fruits.insert(2, 'apple') # insertar manzana entre naranja y mango\n",
    "print(fruits)           # ['banana', 'orange', 'apple', 'mango', 'lemon']\n",
    "fruits.insert(3, 'lime')   # ['banana', 'orange', 'apple', 'lime', 'mango', 'lemon']\n",
    "print(fruits)"
   ]
  },
  {
   "attachments": {},
   "cell_type": "markdown",
   "metadata": {},
   "source": [
    "### **Eliminación de elementos de una lista**"
   ]
  },
  {
   "attachments": {},
   "cell_type": "markdown",
   "metadata": {},
   "source": [
    "El método de eliminación elimina un elemento específico de una lista"
   ]
  },
  {
   "cell_type": "code",
   "execution_count": 24,
   "metadata": {},
   "outputs": [
    {
     "name": "stdout",
     "output_type": "stream",
     "text": [
      "['orange', 'mango', 'lemon', 'banana']\n",
      "['orange', 'mango', 'banana']\n"
     ]
    }
   ],
   "source": [
    "fruits = ['banana', 'orange', 'mango', 'lemon', 'banana']\n",
    "fruits.remove('banana')\n",
    "print(fruits)  # ['orange', 'mango', 'lemon', 'banana'] - este método elimina la primera aparición del elemento en la lista\n",
    "fruits.remove('lemon')\n",
    "print(fruits)  # ['orange', 'mango', 'banana']"
   ]
  },
  {
   "attachments": {},
   "cell_type": "markdown",
   "metadata": {},
   "source": [
    "### **Eliminación de elementos mediante Pop**"
   ]
  },
  {
   "attachments": {},
   "cell_type": "markdown",
   "metadata": {},
   "source": [
    "El método pop() elimina el índice especificado (o el último elemento si no se especifica el índice):"
   ]
  },
  {
   "cell_type": "code",
   "execution_count": 25,
   "metadata": {},
   "outputs": [
    {
     "name": "stdout",
     "output_type": "stream",
     "text": [
      "['banana', 'orange', 'mango']\n",
      "['orange', 'mango']\n"
     ]
    }
   ],
   "source": [
    "fruits = ['banana', 'orange', 'mango', 'lemon']\n",
    "fruits.pop()\n",
    "print(fruits)       # ['banana', 'orange', 'mango']\n",
    "\n",
    "fruits.pop(0)\n",
    "print(fruits)       # ['orange', 'mango']"
   ]
  },
  {
   "attachments": {},
   "cell_type": "markdown",
   "metadata": {},
   "source": [
    "### **Eliminación de elementos mediante Del**"
   ]
  },
  {
   "attachments": {},
   "cell_type": "markdown",
   "metadata": {},
   "source": [
    "La palabra clave del elimina el índice especificado y también se puede usar para eliminar elementos dentro del rango del índice. También puede eliminar la lista por completo."
   ]
  },
  {
   "cell_type": "code",
   "execution_count": 27,
   "metadata": {},
   "outputs": [
    {
     "name": "stdout",
     "output_type": "stream",
     "text": [
      "['orange', 'mango', 'lemon', 'kiwi', 'lime']\n",
      "['orange', 'lemon', 'kiwi', 'lime']\n",
      "['orange', 'lime']\n"
     ]
    }
   ],
   "source": [
    "fruits = ['banana', 'orange', 'mango', 'lemon', 'kiwi', 'lime']\n",
    "del fruits[0]\n",
    "print(fruits)       # ['orange', 'mango', 'lemon', 'kiwi', 'lime']\n",
    "del fruits[1]\n",
    "print(fruits)       # ['orange', 'lemon', 'kiwi', 'lime']\n",
    "del fruits[1:3]     # esto elimina los elementos entre los índices dados, ¡así que no elimina el elemento con el índice 3!\n",
    "print(fruits)       # ['orange', 'lime']\n",
    "del fruits\n",
    "#print(fruits)       # Esto debería dar: NameError: el nombre 'frutas' no está definido"
   ]
  },
  {
   "attachments": {},
   "cell_type": "markdown",
   "metadata": {},
   "source": [
    "### **Elementos de la lista de compensación**"
   ]
  },
  {
   "attachments": {},
   "cell_type": "markdown",
   "metadata": {},
   "source": [
    "El método clear() vacía la lista:"
   ]
  },
  {
   "cell_type": "code",
   "execution_count": 28,
   "metadata": {},
   "outputs": [
    {
     "name": "stdout",
     "output_type": "stream",
     "text": [
      "[]\n"
     ]
    }
   ],
   "source": [
    "fruits = ['banana', 'orange', 'mango', 'lemon']\n",
    "fruits.clear()\n",
    "print(fruits)       # []"
   ]
  },
  {
   "attachments": {},
   "cell_type": "markdown",
   "metadata": {},
   "source": [
    "### **Copiar una lista**"
   ]
  },
  {
   "attachments": {},
   "cell_type": "markdown",
   "metadata": {},
   "source": [
    "Es posible copiar una lista reasignándola a una nueva variable de la siguiente forma: lista2 = lista1. Ahora, list2 es una referencia de list1, cualquier cambio que hagamos en list2 también modificará el original, list1. Pero hay muchos casos en los que no nos gusta modificar el original sino que nos gusta tener una copia diferente. Una forma de evitar el problema anterior es usar copy() ."
   ]
  },
  {
   "cell_type": "code",
   "execution_count": 29,
   "metadata": {},
   "outputs": [
    {
     "name": "stdout",
     "output_type": "stream",
     "text": [
      "['banana', 'orange', 'mango', 'lemon']\n"
     ]
    }
   ],
   "source": [
    "fruits = ['banana', 'orange', 'mango', 'lemon']\n",
    "fruits_copy = fruits.copy()\n",
    "print(fruits_copy)       # ['banana', 'orange', 'mango', 'lemon']"
   ]
  },
  {
   "attachments": {},
   "cell_type": "markdown",
   "metadata": {},
   "source": [
    "### **Unirse a listas**"
   ]
  },
  {
   "attachments": {},
   "cell_type": "markdown",
   "metadata": {},
   "source": [
    "Hay varias formas de unir o concatenar dos o más listas en Python."
   ]
  },
  {
   "attachments": {},
   "cell_type": "markdown",
   "metadata": {},
   "source": [
    "* Operador más (+)"
   ]
  },
  {
   "cell_type": "code",
   "execution_count": 30,
   "metadata": {},
   "outputs": [
    {
     "name": "stdout",
     "output_type": "stream",
     "text": [
      "[-5, -4, -3, -2, -1, 0, 1, 2, 3, 4, 5]\n",
      "['banana', 'orange', 'mango', 'lemon', 'Tomato', 'Potato', 'Cabbage', 'Onion', 'Carrot']\n"
     ]
    }
   ],
   "source": [
    "positive_numbers = [1, 2, 3, 4, 5]\n",
    "zero = [0]\n",
    "negative_numbers = [-5,-4,-3,-2,-1]\n",
    "integers = negative_numbers + zero + positive_numbers\n",
    "print(integers) # [-5, -4, -3, -2, -1, 0, 1, 2, 3, 4, 5]\n",
    "fruits = ['banana', 'orange', 'mango', 'lemon']\n",
    "vegetables = ['Tomato', 'Potato', 'Cabbage', 'Onion', 'Carrot']\n",
    "fruits_and_vegetables = fruits + vegetables\n",
    "print(fruits_and_vegetables ) # ['banana', 'orange', 'mango', 'lemon', 'Tomato', 'Potato', 'Cabbage', 'Onion', 'Carrot']"
   ]
  },
  {
   "attachments": {},
   "cell_type": "markdown",
   "metadata": {},
   "source": [
    "* Unirse usando el método extend() El método extend() permite agregar una lista en una lista. Vea el ejemplo a continuación."
   ]
  },
  {
   "cell_type": "code",
   "execution_count": 31,
   "metadata": {},
   "outputs": [
    {
     "name": "stdout",
     "output_type": "stream",
     "text": [
      "Numbers: [0, 1, 2, 3, 4, 5, 6]\n",
      "Integers: [-5, -4, -3, -2, -1, 0, 1, 2, 3, 4, 5]\n",
      "Fruits and vegetables: ['banana', 'orange', 'mango', 'lemon', 'Tomato', 'Potato', 'Cabbage', 'Onion', 'Carrot']\n"
     ]
    }
   ],
   "source": [
    "num1 = [0, 1, 2, 3]\n",
    "num2= [4, 5, 6]\n",
    "num1.extend(num2)\n",
    "print('Numbers:', num1) # Numbers: [0, 1, 2, 3, 4, 5, 6]\n",
    "negative_numbers = [-5,-4,-3,-2,-1]\n",
    "positive_numbers = [1, 2, 3,4,5]\n",
    "zero = [0]\n",
    "\n",
    "negative_numbers.extend(zero)\n",
    "negative_numbers.extend(positive_numbers)\n",
    "print('Integers:', negative_numbers) # Integers: [-5, -4, -3, -2, -1, 0, 1, 2, 3, 4, 5]\n",
    "fruits = ['banana', 'orange', 'mango', 'lemon']\n",
    "vegetables = ['Tomato', 'Potato', 'Cabbage', 'Onion', 'Carrot']\n",
    "fruits.extend(vegetables)\n",
    "print('Fruits and vegetables:', fruits ) # Fruits and vegetables: ['banana', 'orange', 'mango', 'lemon', 'Tomato', 'Potato', 'Cabbage', 'Onion', 'Carrot']"
   ]
  },
  {
   "attachments": {},
   "cell_type": "markdown",
   "metadata": {},
   "source": [
    "### **Contar elementos en una lista**"
   ]
  },
  {
   "attachments": {},
   "cell_type": "markdown",
   "metadata": {},
   "source": [
    "El método count() devuelve el número de veces que aparece un elemento en una lista:"
   ]
  },
  {
   "cell_type": "code",
   "execution_count": 32,
   "metadata": {},
   "outputs": [
    {
     "name": "stdout",
     "output_type": "stream",
     "text": [
      "1\n",
      "3\n"
     ]
    }
   ],
   "source": [
    "fruits = ['banana', 'orange', 'mango', 'lemon']\n",
    "print(fruits.count('orange'))   # 1\n",
    "ages = [22, 19, 24, 25, 26, 24, 25, 24]\n",
    "print(ages.count(24))           # 3"
   ]
  },
  {
   "attachments": {},
   "cell_type": "markdown",
   "metadata": {},
   "source": [
    "### **Encontrar el índice de un elemento**"
   ]
  },
  {
   "attachments": {},
   "cell_type": "markdown",
   "metadata": {},
   "source": [
    "El método index() devuelve el índice de un elemento de la lista:"
   ]
  },
  {
   "cell_type": "code",
   "execution_count": 33,
   "metadata": {},
   "outputs": [
    {
     "name": "stdout",
     "output_type": "stream",
     "text": [
      "1\n",
      "2\n"
     ]
    }
   ],
   "source": [
    "fruits = ['banana', 'orange', 'mango', 'lemon']\n",
    "print(fruits.index('orange'))   # 1\n",
    "ages = [22, 19, 24, 25, 26, 24, 25, 24]\n",
    "print(ages.index(24))           # 2, la primera ocurrencia"
   ]
  },
  {
   "attachments": {},
   "cell_type": "markdown",
   "metadata": {},
   "source": [
    "### **Invertir una lista**"
   ]
  },
  {
   "attachments": {},
   "cell_type": "markdown",
   "metadata": {},
   "source": [
    "El método reverse() invierte el orden de una lista."
   ]
  },
  {
   "cell_type": "code",
   "execution_count": 34,
   "metadata": {},
   "outputs": [
    {
     "name": "stdout",
     "output_type": "stream",
     "text": [
      "['lemon', 'mango', 'orange', 'banana']\n",
      "[24, 25, 24, 26, 25, 24, 19, 22]\n"
     ]
    }
   ],
   "source": [
    "fruits = ['banana', 'orange', 'mango', 'lemon']\n",
    "fruits.reverse()\n",
    "print(fruits) # ['lemon', 'mango', 'orange', 'banana']\n",
    "ages = [22, 19, 24, 25, 26, 24, 25, 24]\n",
    "ages.reverse()\n",
    "print(ages) # [24, 25, 24, 26, 25, 24, 19, 22]"
   ]
  },
  {
   "attachments": {},
   "cell_type": "markdown",
   "metadata": {},
   "source": [
    "### **Clasificación de elementos de la lista**"
   ]
  },
  {
   "attachments": {},
   "cell_type": "markdown",
   "metadata": {},
   "source": [
    "Para ordenar listas, podemos usar el método sort() o las funciones integradas sorted() . El método sort() reordena los elementos de la lista en orden ascendente y modifica la lista original. Si un argumento del método sort() reverse es igual a verdadero, ordenará la lista en orden descendente."
   ]
  },
  {
   "attachments": {},
   "cell_type": "markdown",
   "metadata": {},
   "source": [
    "* sort(): este método modifica la lista original"
   ]
  },
  {
   "cell_type": "code",
   "execution_count": 35,
   "metadata": {},
   "outputs": [
    {
     "name": "stdout",
     "output_type": "stream",
     "text": [
      "['banana', 'lemon', 'mango', 'orange']\n",
      "['orange', 'mango', 'lemon', 'banana']\n",
      "[19, 22, 24, 24, 24, 25, 25, 26]\n",
      "[26, 25, 25, 24, 24, 24, 22, 19]\n"
     ]
    }
   ],
   "source": [
    "fruits = ['banana', 'orange', 'mango', 'lemon']\n",
    "fruits.sort()\n",
    "print(fruits)             # sorted in alphabetical order, ['banana', 'lemon', 'mango', 'orange']\n",
    "fruits.sort(reverse=True)\n",
    "print(fruits) # ['orange', 'mango', 'lemon', 'banana']\n",
    "ages = [22, 19, 24, 25, 26, 24, 25, 24]\n",
    "ages.sort()\n",
    "print(ages) #  [19, 22, 24, 24, 24, 25, 25, 26]\n",
    "\n",
    "ages.sort(reverse=True)\n",
    "print(ages) #  [26, 25, 25, 24, 24, 24, 22, 19]"
   ]
  },
  {
   "attachments": {},
   "cell_type": "markdown",
   "metadata": {},
   "source": [
    "* sorted(): devuelve la lista ordenada sin modificar la lista original"
   ]
  },
  {
   "cell_type": "code",
   "execution_count": 36,
   "metadata": {},
   "outputs": [
    {
     "name": "stdout",
     "output_type": "stream",
     "text": [
      "['banana', 'lemon', 'mango', 'orange']\n",
      "['orange', 'mango', 'lemon', 'banana']\n"
     ]
    }
   ],
   "source": [
    "fruits = ['banana', 'orange', 'mango', 'lemon']\n",
    "print(sorted(fruits))   # ['banana', 'lemon', 'mango', 'orange']\n",
    "# Orden inverso\n",
    "fruits = ['banana', 'orange', 'mango', 'lemon']\n",
    "fruits = sorted(fruits,reverse=True)\n",
    "print(fruits)     # ['orange', 'mango', 'lemon', 'banana']"
   ]
  }
 ],
 "metadata": {
  "kernelspec": {
   "display_name": "base",
   "language": "python",
   "name": "python3"
  },
  "language_info": {
   "codemirror_mode": {
    "name": "ipython",
    "version": 3
   },
   "file_extension": ".py",
   "mimetype": "text/x-python",
   "name": "python",
   "nbconvert_exporter": "python",
   "pygments_lexer": "ipython3",
   "version": "3.9.12"
  },
  "orig_nbformat": 4
 },
 "nbformat": 4,
 "nbformat_minor": 2
}
