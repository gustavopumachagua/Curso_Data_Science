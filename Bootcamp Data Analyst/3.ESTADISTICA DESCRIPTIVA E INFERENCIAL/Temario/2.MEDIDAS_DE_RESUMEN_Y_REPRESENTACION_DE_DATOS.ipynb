{
 "cells": [
  {
   "attachments": {},
   "cell_type": "markdown",
   "metadata": {},
   "source": [
    "| **Inicio** | **atrás 1** | **Siguiente 3** |\n",
    "|----------- |-------------- |---------------|\n",
    "| [🏠](../../../README.md) | [⏪](./1.PROBABILIDAD_Y_VARIABLES_ALEATORIAS.ipynb)| [⏩](./3.ESTIMACION.ipynb)|"
   ]
  },
  {
   "attachments": {},
   "cell_type": "markdown",
   "metadata": {},
   "source": [
    "# **2. MEDIDAS DE RESUMEN Y REPRESENTACIÓN DE DATOS**"
   ]
  },
  {
   "attachments": {},
   "cell_type": "markdown",
   "metadata": {},
   "source": [
    "## **Medidas de tendencia central, media, moda, mediana y cuantiles**"
   ]
  },
  {
   "attachments": {},
   "cell_type": "markdown",
   "metadata": {},
   "source": [
    "Las medidas de tendencia central son estadísticas descriptivas que nos permiten resumir y comprender la distribución de un conjunto de datos. Las tres medidas más comunes de tendencia central son la media, la moda y la mediana. Además, los cuantiles son una medida adicional que nos ayuda a comprender cómo se distribuyen los datos en diferentes porcentajes.\n",
    "\n",
    "1. **Media:**\n",
    "\n",
    "La media es el valor promedio de un conjunto de datos. Se calcula sumando todos los valores y dividiendo el resultado entre el número total de elementos.\n",
    "\n",
    "**Ejemplo:**"
   ]
  },
  {
   "cell_type": "code",
   "execution_count": 1,
   "metadata": {},
   "outputs": [
    {
     "name": "stdout",
     "output_type": "stream",
     "text": [
      "Media: 17.428571428571427\n"
     ]
    }
   ],
   "source": [
    "import numpy as np\n",
    "\n",
    "data = [10, 12, 15, 18, 20, 22, 25]\n",
    "\n",
    "media = np.mean(data)\n",
    "print(\"Media:\", media)"
   ]
  },
  {
   "attachments": {},
   "cell_type": "markdown",
   "metadata": {},
   "source": [
    "En este ejemplo, calculamos la media de un conjunto de datos utilizando la función `np.mean()` de la biblioteca NumPy. La media es 17.14.\n",
    "\n",
    "2. **Moda:*\n",
    "\n",
    "La moda es el valor que ocurre con mayor frecuencia en un conjunto de datos. Puede haber una moda única o múltiples modas en un conjunto de datos.\n",
    "\n",
    "**Ejemplo:**"
   ]
  },
  {
   "cell_type": "code",
   "execution_count": 2,
   "metadata": {},
   "outputs": [
    {
     "name": "stdout",
     "output_type": "stream",
     "text": [
      "Moda: [20]\n"
     ]
    }
   ],
   "source": [
    "from scipy import stats\n",
    "\n",
    "data = [10, 12, 15, 18, 20, 22, 25, 20, 20]\n",
    "\n",
    "moda = stats.mode(data)\n",
    "print(\"Moda:\", moda.mode)"
   ]
  },
  {
   "attachments": {},
   "cell_type": "markdown",
   "metadata": {},
   "source": [
    "En este ejemplo, utilizamos la función `stats.mode()` de la biblioteca SciPy para calcular la moda de un conjunto de datos. La moda es 20.\n",
    "\n",
    "3. **Mediana:**\n",
    "\n",
    "La mediana es el valor central de un conjunto de datos cuando se ordena de forma ascendente o descendente. Si el conjunto de datos tiene un número impar de elementos, la mediana es el valor del medio. Si el conjunto de datos tiene un número par de elementos, la mediana es el promedio de los dos valores centrales.\n",
    "\n",
    "**Ejemplo:**"
   ]
  },
  {
   "cell_type": "code",
   "execution_count": 3,
   "metadata": {},
   "outputs": [
    {
     "name": "stdout",
     "output_type": "stream",
     "text": [
      "Mediana: 18.0\n"
     ]
    }
   ],
   "source": [
    "data = [10, 12, 15, 18, 20, 22, 25]\n",
    "\n",
    "mediana = np.median(data)\n",
    "print(\"Mediana:\", mediana)"
   ]
  },
  {
   "attachments": {},
   "cell_type": "markdown",
   "metadata": {},
   "source": [
    "En este ejemplo, calculamos la mediana de un conjunto de datos utilizando la función `np.median()` de la biblioteca NumPy. La mediana es 18.\n",
    "\n",
    "4. **Cuantiles:**\n",
    "\n",
    "Los cuantiles son medidas que dividen un conjunto de datos en partes iguales. El cuantil `p` indica el valor por debajo del cual se encuentra un porcentaje `p` de los datos.\n",
    "\n",
    "**Ejemplo:**"
   ]
  },
  {
   "cell_type": "code",
   "execution_count": 4,
   "metadata": {},
   "outputs": [
    {
     "name": "stdout",
     "output_type": "stream",
     "text": [
      "Cuartil 1 (25%): 13.5\n",
      "Cuartil 3 (75%): 21.0\n"
     ]
    }
   ],
   "source": [
    "data = [10, 12, 15, 18, 20, 22, 25]\n",
    "\n",
    "p25 = np.percentile(data, 25)\n",
    "p75 = np.percentile(data, 75)\n",
    "\n",
    "print(\"Cuartil 1 (25%):\", p25)\n",
    "print(\"Cuartil 3 (75%):\", p75)"
   ]
  },
  {
   "attachments": {},
   "cell_type": "markdown",
   "metadata": {},
   "source": [
    "En este ejemplo, utilizamos la función `np.percentile()` de la biblioteca NumPy para calcular los cuartiles (25% y 75%) de un conjunto de datos. El cuartil 1 es 12 y el cuartil 3 es 22.\n",
    "\n",
    "Estas medidas de tendencia central y cuantiles nos proporcionan información sobre la ubicación y la distribución de los datos. Son herramientas útiles para resumir y comprender la naturaleza de un conjunto de datos."
   ]
  },
  {
   "attachments": {},
   "cell_type": "markdown",
   "metadata": {},
   "source": [
    "## **Medidas de dispersión, rango, varianza, desviación estándar**"
   ]
  },
  {
   "attachments": {},
   "cell_type": "markdown",
   "metadata": {},
   "source": [
    "Las medidas de dispersión son estadísticas descriptivas que nos permiten comprender la variabilidad o dispersión de un conjunto de datos. Las tres medidas de dispersión más comunes son el rango, la varianza y la desviación estándar.\n",
    "\n",
    "1. **Rango:**\n",
    "\n",
    "El rango es la diferencia entre el valor máximo y el valor mínimo de un conjunto de datos. Proporciona una medida simple de la dispersión total de los datos.\n",
    "\n",
    "**Ejemplo:**"
   ]
  },
  {
   "cell_type": "code",
   "execution_count": 5,
   "metadata": {},
   "outputs": [
    {
     "name": "stdout",
     "output_type": "stream",
     "text": [
      "Rango: 15\n"
     ]
    }
   ],
   "source": [
    "import numpy as np\n",
    "\n",
    "data = [10, 12, 15, 18, 20, 22, 25]\n",
    "\n",
    "rango = np.max(data) - np.min(data)\n",
    "print(\"Rango:\", rango)"
   ]
  },
  {
   "attachments": {},
   "cell_type": "markdown",
   "metadata": {},
   "source": [
    "En este ejemplo, calculamos el rango de un conjunto de datos utilizando las funciones `np.max()` y `np.min()` de la biblioteca NumPy. El rango es 15.\n",
    "\n",
    "2. **Varianza:**\n",
    "\n",
    "La varianza es una medida de la dispersión promedio de un conjunto de datos con respecto a su media. Se calcula como la media de los cuadrados de las diferencias entre cada valor y la media.\n",
    "\n",
    "**Ejemplo:**"
   ]
  },
  {
   "cell_type": "code",
   "execution_count": 6,
   "metadata": {},
   "outputs": [
    {
     "name": "stdout",
     "output_type": "stream",
     "text": [
      "Varianza: 25.102040816326532\n"
     ]
    }
   ],
   "source": [
    "data = [10, 12, 15, 18, 20, 22, 25]\n",
    "\n",
    "varianza = np.var(data)\n",
    "print(\"Varianza:\", varianza)"
   ]
  },
  {
   "attachments": {},
   "cell_type": "markdown",
   "metadata": {},
   "source": [
    "En este ejemplo, calculamos la varianza de un conjunto de datos utilizando la función `np.var()` de la biblioteca NumPy. La varianza es 25.24.\n",
    "\n",
    "3. **Desviación estándar:**\n",
    "\n",
    "La desviación estándar es otra medida de dispersión que indica cuánto se desvían los valores individuales de la media. Es la raíz cuadrada de la varianza.\n",
    "\n",
    "**Ejemplo:**"
   ]
  },
  {
   "cell_type": "code",
   "execution_count": 7,
   "metadata": {},
   "outputs": [
    {
     "name": "stdout",
     "output_type": "stream",
     "text": [
      "Desviación estándar: 5.010193690500052\n"
     ]
    }
   ],
   "source": [
    "data = [10, 12, 15, 18, 20, 22, 25]\n",
    "\n",
    "desviacion_estandar = np.std(data)\n",
    "print(\"Desviación estándar:\", desviacion_estandar)"
   ]
  },
  {
   "attachments": {},
   "cell_type": "markdown",
   "metadata": {},
   "source": [
    "En este ejemplo, calculamos la desviación estándar de un conjunto de datos utilizando la función `np.std()` de la biblioteca NumPy. La desviación estándar es 5.024.\n",
    "\n",
    "Estas medidas de dispersión nos ayudan a comprender la variabilidad de los datos y a evaluar cuán dispersos o concentrados están. El rango nos da una idea de la amplitud total de los datos, mientras que la varianza y la desviación estándar nos proporcionan una medida más precisa de la dispersión al considerar las diferencias individuales entre los valores y la media."
   ]
  },
  {
   "attachments": {},
   "cell_type": "markdown",
   "metadata": {},
   "source": [
    "## **Tabla de datos**"
   ]
  },
  {
   "attachments": {},
   "cell_type": "markdown",
   "metadata": {},
   "source": [
    "Una tabla de datos es una estructura tabular que organiza la información en filas y columnas. Es una forma conveniente de representar y manipular conjuntos de datos estructurados. En Python, la biblioteca Pandas proporciona una funcionalidad completa para trabajar con tablas de datos.\n",
    "\n",
    "Aquí tienes un ejemplo de cómo crear y trabajar con una tabla de datos utilizando la biblioteca Pandas en Python:"
   ]
  },
  {
   "cell_type": "code",
   "execution_count": 8,
   "metadata": {},
   "outputs": [
    {
     "name": "stdout",
     "output_type": "stream",
     "text": [
      "  Nombre  Edad        Ciudad\n",
      "0   Juan    25        México\n",
      "1  María    30        Madrid\n",
      "2  Pedro    35          Lima\n",
      "3  Laura    28  Buenos Aires\n"
     ]
    }
   ],
   "source": [
    "import pandas as pd\n",
    "\n",
    "# Crear un diccionario con los datos\n",
    "data = {\n",
    "    'Nombre': ['Juan', 'María', 'Pedro', 'Laura'],\n",
    "    'Edad': [25, 30, 35, 28],\n",
    "    'Ciudad': ['México', 'Madrid', 'Lima', 'Buenos Aires']\n",
    "}\n",
    "\n",
    "# Crear la tabla de datos\n",
    "df = pd.DataFrame(data)\n",
    "\n",
    "# Imprimir la tabla de datos\n",
    "print(df)"
   ]
  },
  {
   "attachments": {},
   "cell_type": "markdown",
   "metadata": {},
   "source": [
    "En este ejemplo, creamos un diccionario data que contiene tres columnas: \"`Nombre`\", \"`Edad`\" y \"`Ciudad`\". Cada columna tiene una lista de valores correspondientes a cada fila de la tabla. Luego, utilizamos la función `pd.DataFrame()` de Pandas para crear la tabla de datos `df` a partir del diccionario.\n",
    "\n",
    "La salida del código será:"
   ]
  },
  {
   "attachments": {},
   "cell_type": "markdown",
   "metadata": {},
   "source": [
    "```\n",
    "  Nombre  Edad        Ciudad\n",
    "0   Juan    25        México\n",
    "1  María    30        Madrid\n",
    "2  Pedro    35          Lima\n",
    "3  Laura    28  Buenos Aires\n",
    "```"
   ]
  },
  {
   "attachments": {},
   "cell_type": "markdown",
   "metadata": {},
   "source": [
    "La tabla de datos muestra los valores de cada columna organizados en filas. Cada fila representa una observación o un registro, mientras que cada columna representa una variable.\n",
    "\n",
    "Además de crear una tabla de datos, Pandas ofrece una amplia gama de funcionalidades para trabajar con tablas, como seleccionar columnas o filas específicas, filtrar datos, realizar cálculos estadísticos, fusionar tablas, etc.\n",
    "\n",
    "En cuanto a las gráficas, Pandas también permite generar visualizaciones a partir de una tabla de datos. Por ejemplo, puedes crear un gráfico de barras para mostrar la distribución de una variable categórica o un gráfico de líneas para representar la tendencia temporal de una variable numérica. Estas gráficas son útiles para explorar y comunicar los patrones y relaciones presentes en los datos.\n",
    "\n",
    "Aquí tienes un ejemplo de cómo crear un gráfico de barras a partir de una columna de la tabla de datos:"
   ]
  },
  {
   "cell_type": "code",
   "execution_count": 9,
   "metadata": {},
   "outputs": [
    {
     "data": {
      "image/png": "[encoded data removed]",
      "text/plain": [
       "<Figure size 432x288 with 1 Axes>"
      ]
     },
     "metadata": {
      "needs_background": "light"
     },
     "output_type": "display_data"
    }
   ],
   "source": [
    "import matplotlib.pyplot as plt\n",
    "\n",
    "# Crear un gráfico de barras\n",
    "plt.bar(df['Nombre'], df['Edad'])\n",
    "\n",
    "# Agregar etiquetas y título\n",
    "plt.xlabel('Nombre')\n",
    "plt.ylabel('Edad')\n",
    "plt.title('Edades de las personas')\n",
    "\n",
    "# Mostrar el gráfico\n",
    "plt.show()"
   ]
  },
  {
   "attachments": {},
   "cell_type": "markdown",
   "metadata": {},
   "source": [
    "Este código generará un gráfico de barras que muestra las edades de las personas en el eje `y` y los nombres en el eje `x`.\n",
    "\n",
    "En resumen, una tabla de datos es una estructura tabular que organiza la información en filas y columnas. La biblioteca Pandas en Python ofrece una amplia gama de funcionalidades para trabajar con tablas de datos, desde la creación y manipulación de tablas hasta el análisis y la visualización de datos. Las gráficas son herramientas poderosas para explorar y comunicar patrones y relaciones presentes en los datos."
   ]
  },
  {
   "attachments": {},
   "cell_type": "markdown",
   "metadata": {},
   "source": [
    "## **Tabla de frecuencias**"
   ]
  },
  {
   "attachments": {},
   "cell_type": "markdown",
   "metadata": {},
   "source": [
    "Una tabla de frecuencias es una forma de resumir y organizar datos en categorías o intervalos, y contar la frecuencia con la que aparecen en cada categoría. Proporciona información sobre la distribución de los datos y facilita la comprensión de patrones y tendencias.\n",
    "\n",
    "Aquí tienes un ejemplo de cómo crear y trabajar con una tabla de frecuencias utilizando la biblioteca Pandas en Python:"
   ]
  },
  {
   "cell_type": "code",
   "execution_count": 10,
   "metadata": {},
   "outputs": [
    {
     "name": "stdout",
     "output_type": "stream",
     "text": [
      "   Valor  Frecuencia\n",
      "0      2           4\n",
      "1      3           4\n",
      "2      1           3\n",
      "3      4           3\n"
     ]
    }
   ],
   "source": [
    "import pandas as pd\n",
    "import matplotlib.pyplot as plt\n",
    "\n",
    "# Crear una lista de datos\n",
    "data = [2, 3, 1, 4, 2, 3, 2, 1, 3, 4, 1, 2, 3, 4]\n",
    "\n",
    "# Crear la tabla de frecuencias\n",
    "df = pd.DataFrame({'Datos': data})\n",
    "frequencies = df['Datos'].value_counts().reset_index()\n",
    "frequencies.columns = ['Valor', 'Frecuencia']\n",
    "\n",
    "# Imprimir la tabla de frecuencias\n",
    "print(frequencies)"
   ]
  },
  {
   "attachments": {},
   "cell_type": "markdown",
   "metadata": {},
   "source": [
    "En este ejemplo, creamos una lista data que contiene los valores de los datos. Luego, creamos una tabla de datos `df` utilizando Pandas, donde cada valor se almacena en la columna \"`Datos`\". A continuación, utilizamos la función `value_counts()` para calcular la frecuencia de cada valor en la columna \"`Datos`\". La función `reset_index()` se utiliza para reiniciar los índices y la función columns se utiliza para asignar nombres a las columnas de la tabla de frecuencias.\n",
    "\n",
    "La salida del código será:"
   ]
  },
  {
   "attachments": {},
   "cell_type": "markdown",
   "metadata": {},
   "source": [
    "```\n",
    "   Valor  Frecuencia\n",
    "0      3           4\n",
    "1      2           4\n",
    "2      4           3\n",
    "3      1           3\n",
    "```"
   ]
  },
  {
   "attachments": {},
   "cell_type": "markdown",
   "metadata": {},
   "source": [
    "La tabla de frecuencias muestra cada valor único en la columna \"`Valor`\" y su frecuencia correspondiente en la columna \"`Frecuencia`\". Esto nos permite tener una visión clara de cuántas veces aparece cada valor en los datos.\n",
    "\n",
    "Además de la tabla de frecuencias, también podemos visualizar los datos utilizando un histograma. Un histograma es una representación gráfica de la distribución de frecuencias de los datos en forma de barras.\n",
    "\n",
    "Aquí tienes un ejemplo de cómo crear un histograma a partir de los datos:"
   ]
  },
  {
   "cell_type": "code",
   "execution_count": 11,
   "metadata": {},
   "outputs": [
    {
     "data": {
      "image/png": "[encoded data removed]",
      "text/plain": [
       "<Figure size 432x288 with 1 Axes>"
      ]
     },
     "metadata": {
      "needs_background": "light"
     },
     "output_type": "display_data"
    }
   ],
   "source": [
    "# Crear un histograma\n",
    "plt.hist(df['Datos'], bins=4)\n",
    "\n",
    "# Agregar etiquetas y título\n",
    "plt.xlabel('Valor')\n",
    "plt.ylabel('Frecuencia')\n",
    "plt.title('Histograma de frecuencias')\n",
    "\n",
    "# Mostrar el histograma\n",
    "plt.show()"
   ]
  },
  {
   "attachments": {},
   "cell_type": "markdown",
   "metadata": {},
   "source": [
    "Este código generará un histograma que muestra las frecuencias de los valores en el eje `y` y los valores en el eje `x`. El parámetro `bins` se utiliza para especificar el número de intervalos o categorías en el histograma.\n",
    "\n",
    "En resumen, una tabla de frecuencias es una forma de resumir y organizar datos en categorías o intervalos, y contar la frecuencia con la que aparecen en cada categoría. Pandas en Python es una biblioteca útil para crear y manipular tablas de datos, mientras que Matplotlib es una biblioteca para generar gráficos, como histogramas, que nos permiten visualizar la distribución de frecuencias de los datos."
   ]
  },
  {
   "attachments": {},
   "cell_type": "markdown",
   "metadata": {},
   "source": [
    "## **Gráficos de barras, proporciones y líneas**"
   ]
  },
  {
   "attachments": {},
   "cell_type": "markdown",
   "metadata": {},
   "source": [
    "Los gráficos de barras, proporciones y líneas son tipos comunes de gráficos utilizados para representar datos de forma visual y comprensible. Cada uno tiene su propia aplicación y proporciona información valiosa sobre los datos. A continuación, te explicaré cada uno de ellos con ejemplos en código Python y sus respectivas gráficas.\n",
    "\n",
    "1. **Gráfico de barras:**\n",
    "\n",
    "El gráfico de barras es una representación visual que utiliza barras rectangulares para comparar diferentes categorías de datos. Cada barra representa una categoría y su altura indica la magnitud o frecuencia de esa categoría. Este tipo de gráfico es útil para comparar datos entre diferentes grupos o categorías.\n",
    "\n",
    "**Ejemplo:**"
   ]
  },
  {
   "cell_type": "code",
   "execution_count": 12,
   "metadata": {},
   "outputs": [
    {
     "data": {
      "image/png": "[encoded data removed]",
      "text/plain": [
       "<Figure size 432x288 with 1 Axes>"
      ]
     },
     "metadata": {
      "needs_background": "light"
     },
     "output_type": "display_data"
    }
   ],
   "source": [
    "import matplotlib.pyplot as plt\n",
    "\n",
    "# Datos de ejemplo\n",
    "categorias = ['A', 'B', 'C', 'D']\n",
    "valores = [20, 35, 15, 30]\n",
    "\n",
    "# Crear gráfico de barras\n",
    "plt.bar(categorias, valores)\n",
    "\n",
    "# Agregar etiquetas y título\n",
    "plt.xlabel('Categorías')\n",
    "plt.ylabel('Valores')\n",
    "plt.title('Gráfico de barras')\n",
    "\n",
    "# Mostrar el gráfico\n",
    "plt.show()"
   ]
  },
  {
   "attachments": {},
   "cell_type": "markdown",
   "metadata": {},
   "source": [
    "Este código genera un gráfico de barras con cuatro categorías ('`A`', '`B`', '`C`', '`D`') y sus respectivos valores. Cada barra representa una categoría y su altura indica la magnitud de los valores correspondientes. El eje `x` muestra las categorías y el eje `y` muestra los valores.\n",
    "\n",
    "2. **Gráfico de proporciones:**\n",
    "\n",
    "El gráfico de proporciones, también conocido como gráfico de torta o pie chart, muestra la proporción de cada categoría en relación con el total. Se utiliza cuando se desea mostrar la distribución porcentual o proporcional de diferentes categorías.\n",
    "\n",
    "**Ejemplo:**"
   ]
  },
  {
   "cell_type": "code",
   "execution_count": 13,
   "metadata": {},
   "outputs": [
    {
     "data": {
      "image/png": "[encoded data removed]",
      "text/plain": [
       "<Figure size 432x288 with 1 Axes>"
      ]
     },
     "metadata": {},
     "output_type": "display_data"
    }
   ],
   "source": [
    "import matplotlib.pyplot as plt\n",
    "\n",
    "# Datos de ejemplo\n",
    "categorias = ['A', 'B', 'C', 'D']\n",
    "proporciones = [0.2, 0.35, 0.15, 0.3]\n",
    "\n",
    "# Crear gráfico de proporciones\n",
    "plt.pie(proporciones, labels=categorias)\n",
    "\n",
    "# Agregar título\n",
    "plt.title('Gráfico de proporciones')\n",
    "\n",
    "# Mostrar el gráfico\n",
    "plt.show()"
   ]
  },
  {
   "attachments": {},
   "cell_type": "markdown",
   "metadata": {},
   "source": [
    "En este ejemplo, creamos un gráfico de proporciones con cuatro categorías y sus respectivas proporciones. Cada categoría se representa como una porción de la torta y su etiqueta indica el nombre de la categoría. El gráfico muestra la proporción de cada categoría en relación con el total.\n",
    "\n",
    "3. **Gráfico de líneas:**\n",
    "\n",
    "El gráfico de líneas es utilizado para mostrar la tendencia o el cambio en los datos a lo largo del tiempo o de una variable independiente. Se traza una línea para cada punto de datos y se conectan para mostrar la evolución de los valores.\n",
    "\n",
    "**Ejemplo:**"
   ]
  },
  {
   "cell_type": "code",
   "execution_count": 14,
   "metadata": {},
   "outputs": [
    {
     "data": {
      "image/png": "[encoded data removed]",
      "text/plain": [
       "<Figure size 432x288 with 1 Axes>"
      ]
     },
     "metadata": {
      "needs_background": "light"
     },
     "output_type": "display_data"
    }
   ],
   "source": [
    "import matplotlib.pyplot as plt\n",
    "\n",
    "# Datos de ejemplo\n",
    "tiempo = [1, 2, 3, 4, 5]\n",
    "valores = [10, 15, 12, 17, 20]\n",
    "\n",
    "# Crear gráfico de líneas\n",
    "plt.plot(tiempo, valores)\n",
    "\n",
    "# Agregar etiquetas y título\n",
    "plt.xlabel('Tiempo')\n",
    "plt.ylabel('Valores')\n",
    "plt.title('Gráfico de líneas')\n",
    "\n",
    "# Mostrar el gráfico\n",
    "plt.show()"
   ]
  },
  {
   "attachments": {},
   "cell_type": "markdown",
   "metadata": {},
   "source": [
    "En este ejemplo, creamos un gráfico de líneas que muestra la evolución de los valores a lo largo del tiempo. Cada punto de datos se representa como un punto en el gráfico y se conectan mediante líneas. El eje `x` representa el tiempo y el eje `y` representa los valores.\n",
    "\n",
    "Estos son solo ejemplos básicos de cómo utilizar gráficos de barras, proporciones y líneas en Python. Puedes personalizar aún más estos gráficos agregando colores, leyendas, títulos adicionales y ajustando los parámetros según tus necesidades. La biblioteca Matplotlib en Python ofrece una amplia gama de opciones y funciones para crear gráficos y visualizaciones de datos personalizados."
   ]
  },
  {
   "attachments": {},
   "cell_type": "markdown",
   "metadata": {},
   "source": [
    "## **Histograma**"
   ]
  },
  {
   "attachments": {},
   "cell_type": "markdown",
   "metadata": {},
   "source": [
    "El histograma es un gráfico utilizado para representar la distribución de frecuencia de una variable continua. Muestra cómo los datos se agrupan en diferentes rangos o intervalos, y la altura de cada barra representa la frecuencia o cantidad de observaciones en cada intervalo. El histograma es una herramienta útil para comprender la forma y la dispersión de los datos.\n",
    "\n",
    "A continuación, te mostraré un ejemplo en código Python de cómo crear un histograma utilizando la biblioteca Matplotlib."
   ]
  },
  {
   "cell_type": "code",
   "execution_count": 15,
   "metadata": {},
   "outputs": [
    {
     "data": {
      "image/png": "[encoded data removed]",
      "text/plain": [
       "<Figure size 432x288 with 1 Axes>"
      ]
     },
     "metadata": {
      "needs_background": "light"
     },
     "output_type": "display_data"
    }
   ],
   "source": [
    "import matplotlib.pyplot as plt\n",
    "\n",
    "# Datos de ejemplo\n",
    "datos = [10, 20, 30, 40, 50, 60, 70, 80, 90, 100, 110, 120, 130, 140, 150]\n",
    "\n",
    "# Crear histograma\n",
    "plt.hist(datos, bins=5)\n",
    "\n",
    "# Agregar etiquetas y título\n",
    "plt.xlabel('Valores')\n",
    "plt.ylabel('Frecuencia')\n",
    "plt.title('Histograma')\n",
    "\n",
    "# Mostrar el histograma\n",
    "plt.show()"
   ]
  },
  {
   "attachments": {},
   "cell_type": "markdown",
   "metadata": {},
   "source": [
    "En este ejemplo, utilizamos la función `hist` de Matplotlib para crear un histograma. Pasamos los datos de la variable continua que queremos representar y el parámetro `bins` para especificar el número de intervalos o divisiones del histograma.\n",
    "\n",
    "El histograma se compone de barras rectangulares, donde cada barra representa un intervalo de valores. La altura de cada barra indica la frecuencia o cantidad de observaciones en ese intervalo. En el eje `x` se representan los valores o intervalos, y en el eje `y` se muestra la frecuencia.\n",
    "\n",
    "Puedes personalizar el histograma ajustando parámetros adicionales como el color de las barras, el ancho de las barras, agregar títulos, etiquetas de ejes, leyendas, entre otros. La biblioteca `Matplotlib` ofrece muchas opciones para personalizar y mejorar la apariencia del histograma según tus necesidades.\n",
    "\n",
    "El histograma es una herramienta útil para analizar la distribución de los datos y comprender la concentración y dispersión de los valores. Puede revelar patrones, asimetrías, picos o sesgos en los datos, lo que proporciona información valiosa para el análisis y la toma de decisiones."
   ]
  },
  {
   "attachments": {},
   "cell_type": "markdown",
   "metadata": {},
   "source": [
    "## **Gráfico de dispersión y de cajas**"
   ]
  },
  {
   "attachments": {},
   "cell_type": "markdown",
   "metadata": {},
   "source": [
    "Los gráficos de dispersión y de cajas son dos tipos de gráficos utilizados para visualizar y analizar datos en estadística. A continuación, te daré una explicación detallada de cada uno, junto con ejemplos de código Python y sus gráficas correspondientes.\n",
    "\n",
    "1. **Gráfico de dispersión (Scatter Plot):**\n",
    "\n",
    "El gráfico de dispersión muestra la relación entre dos variables continuas. Cada punto en el gráfico representa una observación y su posición en los ejes `x` e `y` indica los valores de las dos variables. Este tipo de gráfico es útil para identificar patrones, tendencias o correlaciones entre las variables.\n",
    "A continuación, se muestra un ejemplo de cómo crear un gráfico de dispersión utilizando la biblioteca Matplotlib en Python:"
   ]
  },
  {
   "cell_type": "code",
   "execution_count": 16,
   "metadata": {},
   "outputs": [
    {
     "data": {
      "image/png": "[encoded data removed]",
      "text/plain": [
       "<Figure size 432x288 with 1 Axes>"
      ]
     },
     "metadata": {
      "needs_background": "light"
     },
     "output_type": "display_data"
    }
   ],
   "source": [
    "import matplotlib.pyplot as plt\n",
    "\n",
    "# Datos de ejemplo\n",
    "x = [1, 2, 3, 4, 5]\n",
    "y = [10, 15, 12, 17, 20]\n",
    "\n",
    "# Crear gráfico de dispersión\n",
    "plt.scatter(x, y)\n",
    "\n",
    "# Agregar etiquetas y título\n",
    "plt.xlabel('Variable X')\n",
    "plt.ylabel('Variable Y')\n",
    "plt.title('Gráfico de Dispersión')\n",
    "\n",
    "# Mostrar el gráfico\n",
    "plt.show()"
   ]
  },
  {
   "attachments": {},
   "cell_type": "markdown",
   "metadata": {},
   "source": [
    "En este ejemplo, utilizamos la función `scatter` de Matplotlib para crear el gráfico de dispersión. Pasamos las listas `x` e `y` que contienen los valores de las dos variables que queremos comparar. Cada punto en el gráfico representa una combinación de valores (`x`, `y`).\n",
    "\n",
    "El gráfico de dispersión nos permite observar la relación entre las variables. Si los puntos están dispersos y no siguen un patrón claro, indica que no hay una correlación evidente entre las variables. Por otro lado, si los puntos se agrupan o siguen una tendencia lineal, indica una posible correlación entre las variables.\n",
    "\n",
    "2. **Gráfico de cajas (Box Plot):**\n",
    "\n",
    "El gráfico de cajas, también conocido como diagrama de caja y bigotes, es utilizado para representar la distribución de un conjunto de datos y visualizar medidas estadísticas clave como la mediana, los cuartiles y los valores atípicos. Este gráfico es útil para comparar la distribución de datos entre diferentes grupos o categorías.\n",
    "\n",
    "A continuación, se muestra un ejemplo de cómo crear un gráfico de cajas utilizando la biblioteca Seaborn en Python:"
   ]
  },
  {
   "cell_type": "code",
   "execution_count": 17,
   "metadata": {},
   "outputs": [
    {
     "name": "stderr",
     "output_type": "stream",
     "text": [
      "/home/puma/anaconda3/lib/python3.9/site-packages/seaborn/_decorators.py:36: FutureWarning: Pass the following variable as a keyword arg: x. From version 0.12, the only valid positional argument will be `data`, and passing other arguments without an explicit keyword will result in an error or misinterpretation.\n",
      "  warnings.warn(\n"
     ]
    },
    {
     "data": {
      "image/png": "[encoded data removed]",
      "text/plain": [
       "<Figure size 432x288 with 1 Axes>"
      ]
     },
     "metadata": {
      "needs_background": "light"
     },
     "output_type": "display_data"
    }
   ],
   "source": [
    "import seaborn as sns\n",
    "\n",
    "# Datos de ejemplo\n",
    "datos = [10, 12, 15, 18, 20, 22, 25, 30]\n",
    "\n",
    "# Crear gráfico de cajas\n",
    "sns.boxplot(datos)\n",
    "\n",
    "# Agregar título\n",
    "plt.title('Gráfico de Cajas')\n",
    "\n",
    "# Mostrar el gráfico\n",
    "plt.show()"
   ]
  },
  {
   "attachments": {},
   "cell_type": "markdown",
   "metadata": {},
   "source": [
    "En este ejemplo, utilizamos la función `boxplot` de Seaborn para crear el gráfico de cajas. Pasamos la lista de datos que queremos representar. El gráfico muestra una caja que representa el rango intercuartílico, es decir, el 50% central de los datos. La línea en el centro de la caja indica la mediana. Los \"`bigotes`\" muestran la dispersión de los datos y los valores atípicos se representan como puntos individuales.\n",
    "\n",
    "El gráfico de cajas nos permite identificar la dispersión de los datos y la presencia de valores atípicos. También nos proporciona información sobre la simetría de la distribución y la concentración de los valores alrededor de la mediana.\n",
    "\n",
    "Estos dos gráficos, el de dispersión y el de cajas, son herramientas útiles en el análisis exploratorio de datos. Nos permiten visualizar las relaciones entre variables y las características de distribución de los datos, proporcionando información valiosa para la toma de decisiones y el análisis estadístico."
   ]
  },
  {
   "attachments": {},
   "cell_type": "markdown",
   "metadata": {},
   "source": [
    "| **Inicio** | **atrás 1** | **Siguiente 3** |\n",
    "|----------- |-------------- |---------------|\n",
    "| [🏠](../../../README.md) | [⏪](./1.PROBABILIDAD_Y_VARIABLES_ALEATORIAS.ipynb)| [⏩](./3.ESTIMACION.ipynb)|"
   ]
  }
 ],
 "metadata": {
  "kernelspec": {
   "display_name": "base",
   "language": "python",
   "name": "python3"
  },
  "language_info": {
   "codemirror_mode": {
    "name": "ipython",
    "version": 3
   },
   "file_extension": ".py",
   "mimetype": "text/x-python",
   "name": "python",
   "nbconvert_exporter": "python",
   "pygments_lexer": "ipython3",
   "version": "3.9.12"
  },
  "orig_nbformat": 4
 },
 "nbformat": 4,
 "nbformat_minor": 2
}
