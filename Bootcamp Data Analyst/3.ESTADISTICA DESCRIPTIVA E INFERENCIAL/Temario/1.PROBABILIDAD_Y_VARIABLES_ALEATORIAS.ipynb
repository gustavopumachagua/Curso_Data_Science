{
 "cells": [
  {
   "attachments": {},
   "cell_type": "markdown",
   "metadata": {},
   "source": [
    "| **Inicio** | **Siguiente 2** |\n",
    "|----------- |---------------|\n",
    "| [🏠](../../../README.md) | [⏩](./2.MEDIDAS_DE_RESUMEN_Y_REPRESENTACION_DE_DATOS.ipynb)|"
   ]
  },
  {
   "attachments": {},
   "cell_type": "markdown",
   "metadata": {},
   "source": [
    "# **1. PROBABILIDAD Y VARIABLES ALEATORIAS**"
   ]
  },
  {
   "attachments": {},
   "cell_type": "markdown",
   "metadata": {},
   "source": [
    "## **Probabilidades, espacio muestral, eventos, operaciones de conjuntos, diagramas de Venn**"
   ]
  },
  {
   "attachments": {},
   "cell_type": "markdown",
   "metadata": {},
   "source": [
    "Las probabilidades, el espacio muestral, los eventos, las operaciones de conjuntos y los diagramas de Venn son conceptos fundamentales en teoría de probabilidades y estadística. Aquí tienes una explicación detallada de cada uno de ellos, junto con ejemplos en código Python y gráficas.\n",
    "\n",
    "1. **Probabilidades:**\n",
    "\n",
    "Las probabilidades son medidas numéricas que describen la posibilidad de que ocurra un evento. Se expresan como valores entre 0 y 1, donde 0 indica una probabilidad nula (evento imposible) y 1 indica una probabilidad segura (evento seguro). Las probabilidades también se pueden expresar como proporciones, porcentajes o fracciones.\n",
    "\n",
    "En Python, puedes utilizar la biblioteca `numpy` para generar números aleatorios y realizar cálculos probabilísticos. Aquí tienes un ejemplo de generación de números aleatorios y cálculo de probabilidades:"
   ]
  },
  {
   "cell_type": "code",
   "execution_count": 1,
   "metadata": {},
   "outputs": [
    {
     "name": "stdout",
     "output_type": "stream",
     "text": [
      "Número aleatorio: 0.1603315689043311\n",
      "Probabilidad: 0\n"
     ]
    }
   ],
   "source": [
    "import numpy as np\n",
    "\n",
    "# Generar un número aleatorio entre 0 y 1\n",
    "random_number = np.random.rand()\n",
    "\n",
    "# Calcular la probabilidad de obtener un número mayor a 0.5\n",
    "if random_number > 0.5:\n",
    "    probability = 1  # Probabilidad de 1 si el número es mayor a 0.5\n",
    "else:\n",
    "    probability = 0  # Probabilidad de 0 si el número es menor o igual a 0.5\n",
    "\n",
    "print(f\"Número aleatorio: {random_number}\")\n",
    "print(f\"Probabilidad: {probability}\")"
   ]
  },
  {
   "attachments": {},
   "cell_type": "markdown",
   "metadata": {},
   "source": [
    "En este ejemplo, utilizamos la función `rand` de `numpy` para generar un número aleatorio entre 0 y 1. Luego, calculamos la probabilidad de obtener un número mayor a 0.5 utilizando una declaración condicional. Finalmente, imprimimos el número aleatorio y la probabilidad correspondiente.\n",
    "\n",
    "2. **Espacio Muestral:**\n",
    "\n",
    "El espacio muestral es el conjunto de todos los posibles resultados de un experimento aleatorio. Cada resultado individual se conoce como un \"punto de muestra\". El espacio muestral se denota comúnmente por la letra griega omega (Ω). Puede ser finito, infinito numerable o infinito no numerable.\n",
    "\n",
    "En Python, puedes representar el espacio muestral como una lista o un conjunto de valores posibles. Aquí tienes un ejemplo de representación de un espacio muestral para el lanzamiento de un dado:"
   ]
  },
  {
   "cell_type": "code",
   "execution_count": 2,
   "metadata": {},
   "outputs": [
    {
     "name": "stdout",
     "output_type": "stream",
     "text": [
      "Espacio Muestral: {1, 2, 3, 4, 5, 6}\n"
     ]
    }
   ],
   "source": [
    "espacio_muestral = {1, 2, 3, 4, 5, 6}\n",
    "print(f\"Espacio Muestral: {espacio_muestral}\")"
   ]
  },
  {
   "attachments": {},
   "cell_type": "markdown",
   "metadata": {},
   "source": [
    "En este ejemplo, utilizamos un conjunto (`set`) para representar el espacio muestral del lanzamiento de un dado. Los valores posibles son los números del 1 al 6. Imprimimos el espacio muestral utilizando la función `print`.\n",
    "\n",
    "3. **Eventos:**\n",
    "\n",
    "Los eventos son subconjuntos del espacio muestral que representan posibles resultados de interés. Pueden ser eventos simples (un solo resultado) o eventos compuestos (varios resultados). Los eventos se denotan comúnmente por letras mayúsculas (A, B, C, ...).\n",
    "\n",
    "En Python, puedes representar eventos como conjuntos (subconjuntos del espacio muestral). Aquí tienes un ejemplo de representación de eventos para el lanzamiento de un dado:"
   ]
  },
  {
   "cell_type": "code",
   "execution_count": 3,
   "metadata": {},
   "outputs": [
    {
     "name": "stdout",
     "output_type": "stream",
     "text": [
      "Evento Par: {2, 4, 6}\n",
      "Evento Impar: {1, 3, 5}\n"
     ]
    }
   ],
   "source": [
    "espacio_muestral = {1, 2, 3, 4, 5, 6}\n",
    "evento_par = {2, 4, 6}\n",
    "evento_impar = espacio_muestral - evento_par\n",
    "\n",
    "print(f\"Evento Par: {evento_par}\")\n",
    "print(f\"Evento Impar: {evento_impar}\")"
   ]
  },
  {
   "attachments": {},
   "cell_type": "markdown",
   "metadata": {},
   "source": [
    "En este ejemplo, definimos el espacio muestral como el conjunto de valores posibles del lanzamiento de un dado. Luego, creamos los eventos `evento_par` y `evento_impar` utilizando conjuntos. `evento_par` contiene los números pares del 1 al 6, mientras que `evento_impar` contiene los números impares.\n",
    "\n",
    "4. **Operaciones de Conjuntos:**\n",
    "\n",
    "Las operaciones de conjuntos son operaciones que se pueden realizar en eventos y conjuntos para combinarlos, encontrar la intersección, la unión, el complemento, etc. Algunas operaciones comunes incluyen:\n",
    "\n",
    "* **Unión:** Combina dos conjuntos para incluir todos los elementos presentes en ambos conjuntos.\n",
    "* **Intersección:** Encuentra los elementos comunes entre dos conjuntos.\n",
    "* **Diferencia:** Encuentra los elementos presentes en un conjunto pero no en otro.\n",
    "* **Complemento:** Encuentra los elementos que no están presentes en un conjunto, en relación con un conjunto universal.\n",
    "\n",
    "En Python, puedes utilizar operadores y métodos de conjuntos para realizar estas operaciones. Aquí tienes un ejemplo de operaciones de conjuntos:"
   ]
  },
  {
   "cell_type": "code",
   "execution_count": 4,
   "metadata": {},
   "outputs": [
    {
     "name": "stdout",
     "output_type": "stream",
     "text": [
      "Unión: {1, 2, 3, 4}\n",
      "Intersección: {2, 3}\n",
      "Diferencia: {1}\n",
      "Complemento: {4, 5, 6}\n"
     ]
    }
   ],
   "source": [
    "A = {1, 2, 3}\n",
    "B = {2, 3, 4}\n",
    "\n",
    "# Unión\n",
    "union = A | B\n",
    "\n",
    "# Intersección\n",
    "interseccion = A & B\n",
    "\n",
    "# Diferencia\n",
    "diferencia = A - B\n",
    "\n",
    "# Complemento\n",
    "complemento = espacio_muestral - A\n",
    "\n",
    "print(f\"Unión: {union}\")\n",
    "print(f\"Intersección: {interseccion}\")\n",
    "print(f\"Diferencia: {diferencia}\")\n",
    "print(f\"Complemento: {complemento}\")"
   ]
  },
  {
   "attachments": {},
   "cell_type": "markdown",
   "metadata": {},
   "source": [
    "En este ejemplo, tenemos dos conjuntos `A` y `B`. Utilizamos los operadores `|`, `&` y `-` para realizar la unión, intersección y diferencia, respectivamente. También podemos encontrar el complemento utilizando el operador `-` entre el espacio muestral y el conjunto `A`.\n",
    "\n",
    "5. **Diagramas de Venn:**\n",
    "\n",
    "Los diagramas de Venn son representaciones gráficas que ilustran las relaciones entre conjuntos y eventos. Utilizan círculos superpuestos para mostrar la intersección y la inclusión de conjuntos. Son útiles para visualizar conceptos como la unión, la intersección y el complemento.\n",
    "\n",
    "En Python, puedes utilizar la biblioteca `matplotlib_venn` para crear diagramas de Venn. Aquí tienes un ejemplo de creación de un diagrama de Venn:"
   ]
  },
  {
   "cell_type": "code",
   "execution_count": 6,
   "metadata": {},
   "outputs": [
    {
     "data": {
      "image/png": "[encoded data removed]",
      "text/plain": [
       "<Figure size 432x288 with 1 Axes>"
      ]
     },
     "metadata": {},
     "output_type": "display_data"
    }
   ],
   "source": [
    "from matplotlib_venn import venn2\n",
    "import matplotlib.pyplot as plt\n",
    "\n",
    "A = {1, 2, 3}\n",
    "B = {2, 3, 4}\n",
    "\n",
    "venn2([A, B], set_labels=('A', 'B'))\n",
    "plt.title('Diagrama de Venn')\n",
    "plt.show()"
   ]
  },
  {
   "attachments": {},
   "cell_type": "markdown",
   "metadata": {},
   "source": [
    "En este ejemplo, utilizamos la función `venn2` de `matplotlib_venn` para crear un diagrama de Venn que muestra la intersección y la inclusión de los conjuntos `A` y `B`. Utilizamos `set_labels` para especificar las etiquetas de los conjuntos. Finalmente, utilizamos `plt.title` y `plt.show` de matplotlib para agregar un título al diagrama y mostrarlo.\n",
    "\n",
    "Estos son ejemplos básicos que ilustran los conceptos de probabilidades, espacio muestral, eventos, operaciones de conjuntos y diagramas de Venn en Python. Puedes adaptar y ampliar estos ejemplos según tus necesidades y aplicaciones específicas."
   ]
  },
  {
   "attachments": {},
   "cell_type": "markdown",
   "metadata": {},
   "source": [
    "## **Teorema de Bayes y demás teoremas sencillos de probabilidad**"
   ]
  },
  {
   "attachments": {},
   "cell_type": "markdown",
   "metadata": {},
   "source": [
    "El Teorema de Bayes es un concepto fundamental en la teoría de la probabilidad que nos permite actualizar nuestras creencias sobre un evento dado nueva evidencia. Se basa en la relación entre la probabilidad condicional y la probabilidad inversa.\n",
    "\n",
    "El teorema establece lo siguiente:"
   ]
  },
  {
   "attachments": {},
   "cell_type": "markdown",
   "metadata": {},
   "source": [
    "$P(A|B) = (P(B|A) * P(A)) / P(B)$"
   ]
  },
  {
   "attachments": {},
   "cell_type": "markdown",
   "metadata": {},
   "source": [
    "**Donde:**\n",
    "\n",
    "* $P(A|B)$ es la probabilidad de que el evento $A$ ocurra dado que el evento $B$ ha ocurrido.\n",
    "* $P(B|A)$ es la probabilidad de que el evento $B$ ocurra dado que el evento $A$ ha ocurrido.\n",
    "* $P(A)$ y $P(B)$ son las probabilidades marginales de los eventos $A$ y $B$, respectivamente.\n",
    "\n",
    "Un ejemplo común donde se aplica el Teorema de Bayes es en el diagnóstico médico. Supongamos que tenemos una enfermedad rara y queremos determinar la probabilidad de tener la enfermedad dado un resultado positivo en una prueba médica. Podemos utilizar el Teorema de Bayes para calcular esta probabilidad.\n",
    "\n",
    "Aquí tienes un ejemplo en código Python que ilustra el Teorema de Bayes utilizando números aleatorios:"
   ]
  },
  {
   "cell_type": "code",
   "execution_count": 7,
   "metadata": {},
   "outputs": [
    {
     "name": "stdout",
     "output_type": "stream",
     "text": [
      "Probabilidad de tener la enfermedad dado un resultado positivo en la prueba: 0.15384615384615385\n"
     ]
    }
   ],
   "source": [
    "import random\n",
    "\n",
    "# Supongamos que la probabilidad de tener la enfermedad es del 1%\n",
    "P_A = 0.01\n",
    "\n",
    "# Supongamos que la probabilidad de un resultado positivo en la prueba dada la enfermedad es del 90%\n",
    "P_B_given_A = 0.90\n",
    "\n",
    "# Supongamos que la probabilidad de un resultado positivo en la prueba dada la ausencia de la enfermedad es del 5%\n",
    "P_B_given_not_A = 0.05\n",
    "\n",
    "# Generamos un número aleatorio para simular el resultado de la prueba (1 = positivo, 0 = negativo)\n",
    "resultado_prueba = random.randint(0, 1)\n",
    "\n",
    "# Calculamos la probabilidad de tener la enfermedad dado el resultado positivo en la prueba utilizando el Teorema de Bayes\n",
    "if resultado_prueba == 1:\n",
    "    P_A_given_B = (P_B_given_A * P_A) / ((P_B_given_A * P_A) + (P_B_given_not_A * (1 - P_A)))\n",
    "    print(\"Probabilidad de tener la enfermedad dado un resultado positivo en la prueba:\", P_A_given_B)\n",
    "else:\n",
    "    print(\"No se puede determinar la probabilidad de tener la enfermedad dado un resultado negativo en la prueba.\")"
   ]
  },
  {
   "attachments": {},
   "cell_type": "markdown",
   "metadata": {},
   "source": [
    "En este ejemplo, utilizamos valores hipotéticos para las probabilidades $P(A)$, $P(B|A)$ y $P(B|¬A)$. El resultado de la prueba se genera aleatoriamente (0 o 1), y luego aplicamos el Teorema de Bayes para calcular la probabilidad de tener la enfermedad dado el resultado positivo en la prueba.\n",
    "\n",
    "Recuerda que el Teorema de Bayes es un concepto fundamental en probabilidad y tiene muchas aplicaciones en diversos campos, como la medicina, la inteligencia artificial y la toma de decisiones. Es importante comprender su aplicación y cómo utilizarlo correctamente en cada escenario específico."
   ]
  },
  {
   "attachments": {},
   "cell_type": "markdown",
   "metadata": {},
   "source": [
    "## **Variables aleatorias. Esperanza y varianza**"
   ]
  },
  {
   "attachments": {},
   "cell_type": "markdown",
   "metadata": {},
   "source": [
    "Las variables aleatorias son una herramienta fundamental en la teoría de la probabilidad y el análisis estadístico. Representan cantidades que pueden tomar diferentes valores con cierta probabilidad. Las variables aleatorias pueden ser discretas o continuas.\n",
    "\n",
    "La esperanza y la varianza son medidas estadísticas que nos ayudan a comprender las propiedades y características de una variable aleatoria.\n",
    "\n",
    "La esperanza, también conocida como valor esperado o media, representa el valor promedio de una variable aleatoria. Se calcula multiplicando cada posible valor de la variable por su probabilidad correspondiente y sumando los resultados. La esperanza nos proporciona una idea de dónde se espera que se concentren los valores de una variable aleatoria.\n",
    "\n",
    "La varianza, por otro lado, mide la dispersión de los valores alrededor de la esperanza. Se calcula tomando la diferencia entre cada valor de la variable y la esperanza, elevando al cuadrado dicha diferencia, multiplicándola por la probabilidad correspondiente y sumando los resultados. La varianza nos indica qué tan dispersos están los valores de una variable aleatoria con respecto a su esperanza.\n",
    "\n",
    "Aquí tienes un ejemplo en código Python que ilustra el cálculo de la esperanza y la varianza de una variable aleatoria discreta:"
   ]
  },
  {
   "cell_type": "code",
   "execution_count": 8,
   "metadata": {},
   "outputs": [
    {
     "name": "stdout",
     "output_type": "stream",
     "text": [
      "Esperanza: 3.2\n",
      "Varianza: 1.56\n"
     ]
    }
   ],
   "source": [
    "import numpy as np\n",
    "\n",
    "# Definimos una variable aleatoria discreta\n",
    "X = [1, 2, 3, 4, 5]\n",
    "probabilidades = [0.1, 0.2, 0.3, 0.2, 0.2]\n",
    "\n",
    "# Cálculo de la esperanza\n",
    "esperanza = np.dot(X, probabilidades)\n",
    "print(\"Esperanza:\", esperanza)\n",
    "\n",
    "# Cálculo de la varianza\n",
    "varianza = np.dot((X - esperanza)**2, probabilidades)\n",
    "print(\"Varianza:\", varianza)"
   ]
  },
  {
   "attachments": {},
   "cell_type": "markdown",
   "metadata": {},
   "source": [
    "En este ejemplo, tenemos una variable aleatoria discreta representada por los valores [1, 2, 3, 4, 5] y las probabilidades correspondientes [0.1, 0.2, 0.3, 0.2, 0.2]. Utilizamos la función `np.dot()` de NumPy para calcular el producto punto entre los valores y las probabilidades para obtener la esperanza. Luego, utilizamos la misma función para calcular la varianza, aplicando la fórmula de varianza usando la diferencia al cuadrado entre los valores y la esperanza.\n",
    "\n",
    "Es importante tener en cuenta que tanto la esperanza como la varianza son medidas de resumen de una variable aleatoria y proporcionan información sobre sus propiedades centrales y su dispersión. Son conceptos fundamentales en la estadística y se utilizan ampliamente en el análisis de datos y la toma de decisiones basada en probabilidades."
   ]
  },
  {
   "attachments": {},
   "cell_type": "markdown",
   "metadata": {},
   "source": [
    "## **Distribuciones de probabilidad discretas**"
   ]
  },
  {
   "attachments": {},
   "cell_type": "markdown",
   "metadata": {},
   "source": [
    "Las distribuciones de probabilidad discretas son modelos matemáticos que describen el comportamiento de variables aleatorias discretas, es decir, aquellas que solo pueden tomar valores específicos y no pueden asumir valores intermedios.\n",
    "\n",
    "Existen diferentes distribuciones de probabilidad discretas, cada una con sus propias características y aplicaciones. A continuación, describiré tres de las distribuciones de probabilidad discretas más comunes: la distribución uniforme discreta, la distribución de Bernoulli y la distribución binomial.\n",
    "\n",
    "1. **Distribución uniforme discreta:**\n",
    "\n",
    "La distribución uniforme discreta asigna la misma probabilidad a todos los valores posibles de una variable aleatoria. Es decir, todos los valores tienen la misma probabilidad de ocurrencia. Esta distribución es útil cuando se busca modelar una situación en la que cada resultado es igualmente probable.\n",
    "\n",
    "Ejemplo:"
   ]
  },
  {
   "cell_type": "code",
   "execution_count": 9,
   "metadata": {},
   "outputs": [
    {
     "data": {
      "image/png": "[encoded data removed]",
      "text/plain": [
       "<Figure size 432x288 with 1 Axes>"
      ]
     },
     "metadata": {
      "needs_background": "light"
     },
     "output_type": "display_data"
    }
   ],
   "source": [
    "import numpy as np\n",
    "import matplotlib.pyplot as plt\n",
    "\n",
    "valores = [1, 2, 3, 4, 5, 6]  # Valores posibles de la variable aleatoria\n",
    "probabilidad = 1/6  # Probabilidad igual para cada valor\n",
    "\n",
    "plt.stem(valores, [probabilidad]*len(valores))\n",
    "plt.xlabel('Valor')\n",
    "plt.ylabel('Probabilidad')\n",
    "plt.title('Distribución Uniforme Discreta')\n",
    "plt.show()"
   ]
  },
  {
   "attachments": {},
   "cell_type": "markdown",
   "metadata": {},
   "source": [
    "En este ejemplo, representamos una distribución uniforme discreta con valores del 1 al 6, donde cada valor tiene una probabilidad de 1/6. La función `plt.stem()` de Matplotlib se utiliza para trazar una gráfica discreta de tallo y hoja.\n",
    "\n",
    "2. **Distribución de Bernoulli:**\n",
    "\n",
    "La distribución de Bernoulli modela una variable aleatoria que solo puede tomar dos valores posibles, generalmente codificados como 0 y 1. Esta distribución se utiliza para modelar experimentos con resultados binarios, donde la probabilidad de éxito (valor 1) se denota como `p` y la probabilidad de fracaso (valor 0) se denota como `q = 1 - p`.\n",
    "\n",
    "Ejemplo:"
   ]
  },
  {
   "cell_type": "code",
   "execution_count": 10,
   "metadata": {},
   "outputs": [
    {
     "data": {
      "image/png": "[encoded data removed]",
      "text/plain": [
       "<Figure size 432x288 with 1 Axes>"
      ]
     },
     "metadata": {
      "needs_background": "light"
     },
     "output_type": "display_data"
    }
   ],
   "source": [
    "import numpy as np\n",
    "import matplotlib.pyplot as plt\n",
    "\n",
    "p = 0.3  # Probabilidad de éxito\n",
    "valores = [0, 1]  # Valores posibles de la variable aleatoria\n",
    "probabilidades = [1-p, p]  # Probabilidades correspondientes\n",
    "\n",
    "plt.stem(valores, probabilidades)\n",
    "plt.xlabel('Valor')\n",
    "plt.ylabel('Probabilidad')\n",
    "plt.title('Distribución de Bernoulli')\n",
    "plt.show()"
   ]
  },
  {
   "attachments": {},
   "cell_type": "markdown",
   "metadata": {},
   "source": [
    "En este ejemplo, representamos una distribución de Bernoulli con una probabilidad de éxito de 0.3 y una probabilidad de fracaso de 0.7. La gráfica muestra las probabilidades correspondientes para los valores 0 y 1.\n",
    "\n",
    "3. **Distribución binomial:**\n",
    "\n",
    "La distribución binomial modela la cantidad de éxitos en una secuencia de `n` ensayos independientes, donde cada ensayo tiene una probabilidad de éxito `p`. Esta distribución es ampliamente utilizada en problemas de conteo y en el análisis de experimentos con resultados binarios.\n",
    "\n",
    "Ejemplo:"
   ]
  },
  {
   "cell_type": "code",
   "execution_count": 11,
   "metadata": {},
   "outputs": [
    {
     "data": {
      "image/png": "[encoded data removed]",
      "text/plain": [
       "<Figure size 432x288 with 1 Axes>"
      ]
     },
     "metadata": {
      "needs_background": "light"
     },
     "output_type": "display_data"
    }
   ],
   "source": [
    "import numpy as np\n",
    "import matplotlib.pyplot as plt\n",
    "from scipy.stats import binom\n",
    "\n",
    "n = 10  # Número de ensayos\n",
    "p = 0.5  # Probabilidad de éxito\n",
    "\n",
    "valores = np.arange(0, n+1)  # Valores posibles de la variable aleatoria\n",
    "probabilidades = binom.pmf(valores, n, p)  # Probabilidades correspondientes\n",
    "\n",
    "plt.stem(valores, probabilidades)\n",
    "plt.xlabel('Número de éxitos')\n",
    "plt.ylabel('Probabilidad')\n",
    "plt.title('Distribución Binomial')\n",
    "plt.show()"
   ]
  },
  {
   "attachments": {},
   "cell_type": "markdown",
   "metadata": {},
   "source": [
    "En este ejemplo, representamos una distribución binomial con 10 ensayos y una probabilidad de éxito de 0.5. Utilizamos la función `binom.pmf()` de la biblioteca SciPy para calcular las probabilidades correspondientes a cada número de éxitos posibles.\n",
    "\n",
    "Estas son solo algunas de las distribuciones de probabilidad discretas más comunes. Cada distribución tiene sus propias características y se utiliza en diferentes contextos. La elección de la distribución adecuada depende de la naturaleza del problema y los datos disponibles. Es importante comprender estas distribuciones para poder analizar y modelar adecuadamente variables aleatorias discretas en la teoría de la probabilidad y la estadística."
   ]
  },
  {
   "attachments": {},
   "cell_type": "markdown",
   "metadata": {},
   "source": [
    "## **Distribuciones de probabilidad continuas**"
   ]
  },
  {
   "attachments": {},
   "cell_type": "markdown",
   "metadata": {},
   "source": [
    "Las distribuciones de probabilidad continuas son modelos matemáticos que describen el comportamiento de variables aleatorias continuas, es decir, aquellas que pueden tomar cualquier valor en un intervalo dado. A diferencia de las distribuciones de probabilidad discretas, las distribuciones continuas asignan probabilidades a intervalos de valores en lugar de valores individuales.\n",
    "\n",
    "A continuación, describiré tres de las distribuciones de probabilidad continuas más comunes: la distribución uniforme continua, la distribución normal (o gaussiana) y la distribución exponencial.\n",
    "\n",
    "1. **Distribución uniforme continua:**\n",
    "\n",
    "La distribución uniforme continua asigna la misma probabilidad a todos los valores posibles dentro de un intervalo. Es decir, la variable aleatoria tiene igual probabilidad de estar en cualquier punto dentro del intervalo. Esta distribución es útil cuando no se tienen conocimientos o información sobre la distribución real de los datos.\n",
    "\n",
    "Ejemplo:"
   ]
  },
  {
   "cell_type": "code",
   "execution_count": 12,
   "metadata": {},
   "outputs": [
    {
     "data": {
      "image/png": "[encoded data removed]",
      "text/plain": [
       "<Figure size 432x288 with 1 Axes>"
      ]
     },
     "metadata": {
      "needs_background": "light"
     },
     "output_type": "display_data"
    }
   ],
   "source": [
    "import numpy as np\n",
    "import matplotlib.pyplot as plt\n",
    "from scipy.stats import uniform\n",
    "\n",
    "a = 0  # Límite inferior del intervalo\n",
    "b = 1  # Límite superior del intervalo\n",
    "\n",
    "x = np.linspace(a, b, 100)\n",
    "y = uniform.pdf(x, loc=a, scale=b-a)\n",
    "\n",
    "plt.plot(x, y)\n",
    "plt.xlabel('Valor')\n",
    "plt.ylabel('Densidad de probabilidad')\n",
    "plt.title('Distribución Uniforme Continua')\n",
    "plt.show()"
   ]
  },
  {
   "attachments": {},
   "cell_type": "markdown",
   "metadata": {},
   "source": [
    "En este ejemplo, representamos una distribución uniforme continua en el intervalo [0, 1]. Utilizamos la función `uniform.pdf()` de la biblioteca SciPy para calcular la densidad de probabilidad en cada punto dentro del intervalo.\n",
    "\n",
    "2. **Distribución normal (gaussiana):**\n",
    "\n",
    "La distribución normal (o gaussiana) es una de las distribuciones más importantes y ampliamente utilizadas en estadística. Se caracteriza por tener una forma de campana simétrica y está completamente determinada por su media y desviación estándar. Es aplicable a una amplia gama de fenómenos naturales y sociales.\n",
    "\n",
    "Ejemplo:"
   ]
  },
  {
   "cell_type": "code",
   "execution_count": 13,
   "metadata": {},
   "outputs": [
    {
     "data": {
      "image/png": "[encoded data removed]",
      "text/plain": [
       "<Figure size 432x288 with 1 Axes>"
      ]
     },
     "metadata": {
      "needs_background": "light"
     },
     "output_type": "display_data"
    }
   ],
   "source": [
    "import numpy as np\n",
    "import matplotlib.pyplot as plt\n",
    "from scipy.stats import norm\n",
    "\n",
    "mu = 0  # Media\n",
    "sigma = 1  # Desviación estándar\n",
    "\n",
    "x = np.linspace(mu - 3*sigma, mu + 3*sigma, 100)\n",
    "y = norm.pdf(x, loc=mu, scale=sigma)\n",
    "\n",
    "plt.plot(x, y)\n",
    "plt.xlabel('Valor')\n",
    "plt.ylabel('Densidad de probabilidad')\n",
    "plt.title('Distribución Normal (Gaussiana)')\n",
    "plt.show()"
   ]
  },
  {
   "attachments": {},
   "cell_type": "markdown",
   "metadata": {},
   "source": [
    "En este ejemplo, representamos una distribución normal con media 0 y desviación estándar 1. Utilizamos la función `norm.pdf()` de la biblioteca SciPy para calcular la densidad de probabilidad en cada punto a lo largo de la curva de campana.\n",
    "\n",
    "3. **Distribución exponencial:**\n",
    "\n",
    "La distribución exponencial modela el tiempo de espera entre eventos en un proceso de Poisson. Es particularmente útil para modelar eventos raros y aleatorios que ocurren con una tasa promedio constante.\n",
    "\n",
    "Ejemplo:"
   ]
  },
  {
   "cell_type": "code",
   "execution_count": 14,
   "metadata": {},
   "outputs": [
    {
     "data": {
      "image/png": "[encoded data removed]",
      "text/plain": [
       "<Figure size 432x288 with 1 Axes>"
      ]
     },
     "metadata": {
      "needs_background": "light"
     },
     "output_type": "display_data"
    }
   ],
   "source": [
    "import numpy as np\n",
    "import matplotlib.pyplot as plt\n",
    "from scipy.stats import expon\n",
    "\n",
    "lambd = 0.5  # Tasa de ocurrencia promedio\n",
    "\n",
    "x = np.linspace(0, 10, 100)\n",
    "y = expon.pdf(x, scale=1/lambd)\n",
    "\n",
    "plt.plot(x, y)\n",
    "plt.xlabel('Tiempo')\n",
    "plt.ylabel('Densidad de probabilidad')\n",
    "plt.title('Distribución Exponencial')\n",
    "plt.show()"
   ]
  },
  {
   "attachments": {},
   "cell_type": "markdown",
   "metadata": {},
   "source": [
    "En este ejemplo, representamos una distribución exponencial con una tasa de ocurrencia promedio de 0.5 eventos por unidad de tiempo. Utilizamos la función `expon.pdf()` de la biblioteca SciPy para calcular la densidad de probabilidad en cada punto a lo largo del tiempo.\n",
    "\n",
    "Estos son solo algunos ejemplos de distribuciones de probabilidad continuas. Cada distribución tiene sus propias características y se utiliza en diferentes contextos. Es importante comprender estas distribuciones para poder analizar y modelar adecuadamente variables aleatorias continuas en la teoría de la probabilidad y la estadística."
   ]
  },
  {
   "attachments": {},
   "cell_type": "markdown",
   "metadata": {},
   "source": [
    "| Discretas | Continuas |\n",
    "|--- |--- |\n",
    "| Binomial | Normal  |\n",
    "| Poisson | Chi cuadrado |\n",
    "||T de Student|\n",
    "||F de Snedecor  |\n"
   ]
  },
  {
   "attachments": {},
   "cell_type": "markdown",
   "metadata": {},
   "source": [
    "| **Inicio** | **Siguiente 2** |\n",
    "|----------- |---------------|\n",
    "| [🏠](../../../README.md) | [⏩](./2.MEDIDAS_DE_RESUMEN_Y_REPRESENTACION_DE_DATOS.ipynb)|"
   ]
  }
 ],
 "metadata": {
  "kernelspec": {
   "display_name": "base",
   "language": "python",
   "name": "python3"
  },
  "language_info": {
   "codemirror_mode": {
    "name": "ipython",
    "version": 3
   },
   "file_extension": ".py",
   "mimetype": "text/x-python",
   "name": "python",
   "nbconvert_exporter": "python",
   "pygments_lexer": "ipython3",
   "version": "3.9.12"
  },
  "orig_nbformat": 4
 },
 "nbformat": 4,
 "nbformat_minor": 2
}
