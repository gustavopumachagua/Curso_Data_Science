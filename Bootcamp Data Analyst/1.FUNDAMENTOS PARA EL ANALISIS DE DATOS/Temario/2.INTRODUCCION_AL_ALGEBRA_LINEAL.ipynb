{
 "cells": [
  {
   "attachments": {},
   "cell_type": "markdown",
   "metadata": {},
   "source": [
    "| **Inicio** | **atrás 1** | **Siguiente 3** |\n",
    "|----------- |-------------- |---------------|\n",
    "| [🏠](../../../README.md) | [⏪](./1.INTRODUCCION_AL_ANALISIS_DE_DATOS.ipynb)| [⏩](./3.EL_FLUJO_DE_LOS_DATO.ipynb)|"
   ]
  },
  {
   "attachments": {},
   "cell_type": "markdown",
   "metadata": {},
   "source": [
    "# **2. INTRODUCCIÓN AL ÁLGEBRA LINEAL**"
   ]
  },
  {
   "attachments": {},
   "cell_type": "markdown",
   "metadata": {},
   "source": [
    "## **Vectores, matrices, arreglos, independencia lineal, sistemas de ecuaciones lineales**"
   ]
  },
  {
   "attachments": {},
   "cell_type": "markdown",
   "metadata": {},
   "source": [
    "* **Vectores:**\n",
    "\n",
    "Un vector es una entidad matemática que representa una magnitud y una dirección en un espacio. En términos más simples, un vector es una lista de números. En Python, podemos representar un vector usando listas o arreglos de la biblioteca NumPy.\n",
    "\n",
    "**Ejemplo:**\n",
    "\n",
    "Supongamos que tenemos un vector en 2D con coordenadas (2, 3). Podemos representarlo en Python de la siguiente manera:"
   ]
  },
  {
   "cell_type": "code",
   "execution_count": 1,
   "metadata": {},
   "outputs": [],
   "source": [
    "import numpy as np\n",
    "\n",
    "vector = np.array([2, 3])"
   ]
  },
  {
   "attachments": {},
   "cell_type": "markdown",
   "metadata": {},
   "source": [
    "**Gráfica:**\n",
    "\n",
    "Para visualizar un vector en un plano 2D, podemos trazar una flecha desde el origen (0, 0) hasta las coordenadas del vector."
   ]
  },
  {
   "cell_type": "code",
   "execution_count": 2,
   "metadata": {},
   "outputs": [
    {
     "data": {
      "image/png": "[encoded data removed]",
      "text/plain": [
       "<Figure size 432x288 with 1 Axes>"
      ]
     },
     "metadata": {
      "needs_background": "light"
     },
     "output_type": "display_data"
    }
   ],
   "source": [
    "import matplotlib.pyplot as plt\n",
    "\n",
    "plt.quiver(0, 0, vector[0], vector[1], angles='xy', scale_units='xy', scale=1)\n",
    "plt.xlim(-1, 3)\n",
    "plt.ylim(-1, 4)\n",
    "plt.xlabel('Eje x')\n",
    "plt.ylabel('Eje y')\n",
    "plt.grid()\n",
    "plt.show()"
   ]
  },
  {
   "attachments": {},
   "cell_type": "markdown",
   "metadata": {},
   "source": [
    "La gráfica mostrará una flecha desde el origen hasta el punto (2, 3).\n",
    "\n",
    "* **Matrices:**\n",
    "\n",
    "Una matriz es una estructura bidimensional compuesta por filas y columnas. Se utiliza para organizar datos de manera tabular. En Python, podemos representar matrices utilizando listas anidadas o arreglos bidimensionales de NumPy.\n",
    "\n",
    "**Ejemplo:**\n",
    "\n",
    "Supongamos que tenemos una matriz 2x3:"
   ]
  },
  {
   "attachments": {},
   "cell_type": "markdown",
   "metadata": {},
   "source": [
    "```\n",
    "1  2  3\n",
    "4  5  6\n",
    "```"
   ]
  },
  {
   "attachments": {},
   "cell_type": "markdown",
   "metadata": {},
   "source": [
    "Podemos representar esta matriz en Python de la siguiente manera:"
   ]
  },
  {
   "cell_type": "code",
   "execution_count": 3,
   "metadata": {},
   "outputs": [],
   "source": [
    "import numpy as np\n",
    "\n",
    "matriz = np.array([[1, 2, 3], [4, 5, 6]])"
   ]
  },
  {
   "attachments": {},
   "cell_type": "markdown",
   "metadata": {},
   "source": [
    "* **Arreglos:**\n",
    "\n",
    "Un arreglo es una estructura unidimensional que almacena elementos de manera secuencial. Puede considerarse como un vector, pero a menudo se utiliza para almacenar datos en más de una dimensión. En Python, los arreglos se pueden representar utilizando listas o arreglos de NumPy.\n",
    "\n",
    "**Ejemplo:**\n",
    "\n",
    "Supongamos que tenemos un arreglo unidimensional de números:"
   ]
  },
  {
   "cell_type": "code",
   "execution_count": 4,
   "metadata": {},
   "outputs": [],
   "source": [
    "import numpy as np\n",
    "\n",
    "arreglo = np.array([1, 2, 3, 4, 5])"
   ]
  },
  {
   "attachments": {},
   "cell_type": "markdown",
   "metadata": {},
   "source": [
    "* **Independencia lineal:**\n",
    "\n",
    "La independencia lineal se refiere a un conjunto de vectores o columnas de una matriz que no se pueden representar como combinaciones lineales de los demás vectores del conjunto. Si un conjunto de vectores es linealmente independiente, ninguno de ellos puede expresarse como una combinación lineal de los demás.\n",
    "\n",
    "**Ejemplo:**\n",
    "\n",
    "Consideremos los siguientes vectores:"
   ]
  },
  {
   "cell_type": "code",
   "execution_count": 6,
   "metadata": {},
   "outputs": [],
   "source": [
    "v1 = [1, 2]\n",
    "v2 = [3, 4]\n",
    "v3 = [5, 6]"
   ]
  },
  {
   "attachments": {},
   "cell_type": "markdown",
   "metadata": {},
   "source": [
    "Podemos comprobar la independencia lineal calculando el determinante de la matriz formada por estos vectores."
   ]
  },
  {
   "cell_type": "code",
   "execution_count": 8,
   "metadata": {},
   "outputs": [
    {
     "name": "stdout",
     "output_type": "stream",
     "text": [
      "Los vectores no son linealmente independientes.\n"
     ]
    }
   ],
   "source": [
    "import numpy as np\n",
    "\n",
    "v1 = np.array([1, 2])\n",
    "v2 = np.array([3, 4])\n",
    "v3 = np.array([5, 6])\n",
    "\n",
    "matriz = np.column_stack((v1, v2, v3))\n",
    "rango = np.linalg.matrix_rank(matriz)\n",
    "\n",
    "if rango == matriz.shape[1]:\n",
    "    print(\"Los vectores son linealmente independientes.\")\n",
    "else:\n",
    "    print(\"Los vectores no son linealmente independientes.\")"
   ]
  },
  {
   "attachments": {},
   "cell_type": "markdown",
   "metadata": {},
   "source": [
    "* **Sistemas de ecuaciones lineales:**\n",
    "\n",
    "Un sistema de ecuaciones lineales consiste en un conjunto de ecuaciones lineales que involucran las mismas variables. El objetivo es encontrar los valores de las variables que satisfacen todas las ecuaciones simultáneamente.\n",
    "\n",
    "**Ejemplo:**\n",
    "\n",
    "Supongamos que tenemos el siguiente sistema de ecuaciones:"
   ]
  },
  {
   "attachments": {},
   "cell_type": "markdown",
   "metadata": {},
   "source": [
    "```\n",
    "2x + 3y = 8\n",
    "4x + y = 7\n",
    "```"
   ]
  },
  {
   "attachments": {},
   "cell_type": "markdown",
   "metadata": {},
   "source": [
    "Podemos resolver este sistema utilizando la función `linalg.solve` de NumPy."
   ]
  },
  {
   "cell_type": "code",
   "execution_count": 9,
   "metadata": {},
   "outputs": [
    {
     "name": "stdout",
     "output_type": "stream",
     "text": [
      "Solución: [1.3 1.8]\n"
     ]
    }
   ],
   "source": [
    "coeficientes = np.array([[2, 3], [4, 1]])\n",
    "constantes = np.array([8, 7])\n",
    "solucion = np.linalg.solve(coeficientes, constantes)\n",
    "print(\"Solución:\", solucion)"
   ]
  },
  {
   "attachments": {},
   "cell_type": "markdown",
   "metadata": {},
   "source": [
    "La solución será un arreglo que contiene los valores de las variables `x` e `y` que satisfacen ambas ecuaciones.\n",
    "\n",
    "**Gráfica:**\n",
    "\n",
    "Para visualizar un sistema de ecuaciones lineales en un plano 2D, podemos trazar las rectas correspondientes a cada ecuación y encontrar el punto de intersección."
   ]
  },
  {
   "cell_type": "code",
   "execution_count": 10,
   "metadata": {},
   "outputs": [
    {
     "data": {
      "image/png": "[encoded data removed]",
      "text/plain": [
       "<Figure size 432x288 with 1 Axes>"
      ]
     },
     "metadata": {
      "needs_background": "light"
     },
     "output_type": "display_data"
    }
   ],
   "source": [
    "x = np.linspace(-10, 10, 100)\n",
    "y1 = (8 - 2 * x) / 3\n",
    "y2 = 7 - 4 * x\n",
    "\n",
    "plt.plot(x, y1, label='2x + 3y = 8')\n",
    "plt.plot(x, y2, label='4x + y = 7')\n",
    "plt.xlabel('x')\n",
    "plt.ylabel('y')\n",
    "plt.legend()\n",
    "plt.grid()\n",
    "plt.show()"
   ]
  },
  {
   "attachments": {},
   "cell_type": "markdown",
   "metadata": {},
   "source": [
    "La gráfica mostrará las dos rectas correspondientes a cada ecuación y el punto de intersección será la solución del sistema."
   ]
  },
  {
   "attachments": {},
   "cell_type": "markdown",
   "metadata": {},
   "source": [
    "## **Rango, traza, traspuesta, inversa de una matriz**"
   ]
  },
  {
   "attachments": {},
   "cell_type": "markdown",
   "metadata": {},
   "source": [
    "* **Rango de una matriz:**\n",
    "\n",
    "El rango de una matriz es la dimensión del espacio de columnas de la matriz, es decir, el número máximo de columnas linealmente independientes en la matriz. El rango puede proporcionar información sobre la dependencia o independencia lineal de las columnas (o filas) de la matriz.\n",
    "\n",
    "**Ejemplo:**\n",
    "\n",
    "Supongamos que tenemos la siguiente matriz:"
   ]
  },
  {
   "attachments": {},
   "cell_type": "markdown",
   "metadata": {},
   "source": [
    "```\n",
    "1 2 3\n",
    "4 5 6\n",
    "7 8 9\n",
    "```"
   ]
  },
  {
   "attachments": {},
   "cell_type": "markdown",
   "metadata": {},
   "source": [
    "Podemos calcular el rango de la matriz utilizando la función `np.linalg.matrix_rank()` de NumPy."
   ]
  },
  {
   "cell_type": "code",
   "execution_count": 11,
   "metadata": {},
   "outputs": [
    {
     "name": "stdout",
     "output_type": "stream",
     "text": [
      "Rango de la matriz: 2\n"
     ]
    }
   ],
   "source": [
    "import numpy as np\n",
    "\n",
    "matriz = np.array([[1, 2, 3], [4, 5, 6], [7, 8, 9]])\n",
    "rango = np.linalg.matrix_rank(matriz)\n",
    "print(\"Rango de la matriz:\", rango)"
   ]
  },
  {
   "attachments": {},
   "cell_type": "markdown",
   "metadata": {},
   "source": [
    "En este caso, el rango de la matriz es 2, lo que indica que hay dos columnas linealmente independientes.\n",
    "\n",
    "* **Traza de una matriz:**\n",
    "\n",
    "La traza de una matriz es la suma de los elementos en la diagonal principal de la matriz, es decir, la suma de los elementos desde la esquina superior izquierda hasta la esquina inferior derecha.\n",
    "\n",
    "**Ejemplo:**\n",
    "\n",
    "Supongamos que tenemos la siguiente matriz:"
   ]
  },
  {
   "attachments": {},
   "cell_type": "markdown",
   "metadata": {},
   "source": [
    "```\n",
    "1 2 3\n",
    "4 5 6\n",
    "7 8 9\n",
    "```"
   ]
  },
  {
   "attachments": {},
   "cell_type": "markdown",
   "metadata": {},
   "source": [
    "Podemos calcular la traza de la matriz utilizando la función `np.trace()` de NumPy."
   ]
  },
  {
   "cell_type": "code",
   "execution_count": 12,
   "metadata": {},
   "outputs": [
    {
     "name": "stdout",
     "output_type": "stream",
     "text": [
      "Traza de la matriz: 15\n"
     ]
    }
   ],
   "source": [
    "import numpy as np\n",
    "\n",
    "matriz = np.array([[1, 2, 3], [4, 5, 6], [7, 8, 9]])\n",
    "traza = np.trace(matriz)\n",
    "print(\"Traza de la matriz:\", traza)"
   ]
  },
  {
   "attachments": {},
   "cell_type": "markdown",
   "metadata": {},
   "source": [
    "En este caso, la traza de la matriz es 15, ya que la suma de los elementos en la diagonal principal es 1 + 5 + 9.\n",
    "\n",
    "* **Transpuesta de una matriz:**\n",
    "\n",
    "La transpuesta de una matriz se obtiene al intercambiar filas por columnas. Es decir, los elementos que estaban en la fila `i`, columna `j` de la matriz original estarán en la fila `j`, columna `i` de la matriz transpuesta.\n",
    "\n",
    "**Ejemplo:**\n",
    "\n",
    "Supongamos que tenemos la siguiente matriz:"
   ]
  },
  {
   "attachments": {},
   "cell_type": "markdown",
   "metadata": {},
   "source": [
    "```\n",
    "1 2 3\n",
    "4 5 6\n",
    "```"
   ]
  },
  {
   "attachments": {},
   "cell_type": "markdown",
   "metadata": {},
   "source": [
    "Podemos calcular la transpuesta de la matriz utilizando el atributo `T` o la función `np.transpose()` de NumPy."
   ]
  },
  {
   "cell_type": "code",
   "execution_count": 13,
   "metadata": {},
   "outputs": [
    {
     "name": "stdout",
     "output_type": "stream",
     "text": [
      "Matriz original:\n",
      "[[1 2 3]\n",
      " [4 5 6]]\n",
      "Matriz transpuesta:\n",
      "[[1 4]\n",
      " [2 5]\n",
      " [3 6]]\n"
     ]
    }
   ],
   "source": [
    "import numpy as np\n",
    "\n",
    "matriz = np.array([[1, 2, 3], [4, 5, 6]])\n",
    "transpuesta = matriz.T\n",
    "# También se puede utilizar: transpuesta = np.transpose(matriz)\n",
    "print(\"Matriz original:\")\n",
    "print(matriz)\n",
    "print(\"Matriz transpuesta:\")\n",
    "print(transpuesta)"
   ]
  },
  {
   "attachments": {},
   "cell_type": "markdown",
   "metadata": {},
   "source": [
    "En este caso, la matriz transpuesta sería:"
   ]
  },
  {
   "attachments": {},
   "cell_type": "markdown",
   "metadata": {},
   "source": [
    "```\n",
    "1 4\n",
    "2 5\n",
    "3 6\n",
    "```"
   ]
  },
  {
   "attachments": {},
   "cell_type": "markdown",
   "metadata": {},
   "source": [
    "* **Inversa de una matriz:**\n",
    "\n",
    "La inversa de una matriz cuadrada $A$ es otra matriz, denotada como $A^-1$, que cuando se multiplica por $A$ produce la matriz identidad. Solo las matrices cuadradas no singulares (con determinante distinto de cero) tienen una inversa.\n",
    "\n",
    "**Ejemplo:**\n",
    "\n",
    "Supongamos que tenemos la siguiente matriz:"
   ]
  },
  {
   "attachments": {},
   "cell_type": "markdown",
   "metadata": {},
   "source": [
    "```\n",
    "1 2\n",
    "3 4\n",
    "```"
   ]
  },
  {
   "attachments": {},
   "cell_type": "markdown",
   "metadata": {},
   "source": [
    "Podemos calcular la inversa de la matriz utilizando la función `np.linalg.inv()` de NumPy."
   ]
  },
  {
   "cell_type": "code",
   "execution_count": 14,
   "metadata": {},
   "outputs": [
    {
     "name": "stdout",
     "output_type": "stream",
     "text": [
      "Matriz original:\n",
      "[[1 2]\n",
      " [3 4]]\n",
      "Matriz inversa:\n",
      "[[-2.   1. ]\n",
      " [ 1.5 -0.5]]\n"
     ]
    }
   ],
   "source": [
    "import numpy as np\n",
    "\n",
    "matriz = np.array([[1, 2], [3, 4]])\n",
    "inversa = np.linalg.inv(matriz)\n",
    "print(\"Matriz original:\")\n",
    "print(matriz)\n",
    "print(\"Matriz inversa:\")\n",
    "print(inversa)"
   ]
  },
  {
   "attachments": {},
   "cell_type": "markdown",
   "metadata": {},
   "source": [
    "La matriz inversa sería:"
   ]
  },
  {
   "attachments": {},
   "cell_type": "markdown",
   "metadata": {},
   "source": [
    "```\n",
    "-2  1\n",
    " 1 -0.5\n",
    "```"
   ]
  },
  {
   "attachments": {},
   "cell_type": "markdown",
   "metadata": {},
   "source": [
    "Es importante tener en cuenta que no todas las matrices tienen una inversa. En ese caso, la función `np.linalg.inv()` arrojará un error."
   ]
  },
  {
   "attachments": {},
   "cell_type": "markdown",
   "metadata": {},
   "source": [
    "## **Determinante**"
   ]
  },
  {
   "attachments": {},
   "cell_type": "markdown",
   "metadata": {},
   "source": [
    "La determinante es una propiedad asociada a una matriz cuadrada. Se denota como $det(A)$ o $|A|$ y proporciona información importante sobre las propiedades de la matriz. La determinante es un número escalar que se calcula de manera específica para cada matriz cuadrada.\n",
    "\n",
    "La determinante tiene varias interpretaciones y aplicaciones, como determinar la invertibilidad de una matriz, el volumen de un paralelepípedo formado por los vectores columna de la matriz, o la solución de sistemas de ecuaciones lineales.\n",
    "\n",
    "**Ejemplo:**\n",
    "\n",
    "Supongamos que tenemos la siguiente matriz 2x2:"
   ]
  },
  {
   "attachments": {},
   "cell_type": "markdown",
   "metadata": {},
   "source": [
    "```\n",
    "2 3\n",
    "1 4\n",
    "```"
   ]
  },
  {
   "attachments": {},
   "cell_type": "markdown",
   "metadata": {},
   "source": [
    "Podemos calcular la determinante de la matriz utilizando la función `np.linalg.det()` de NumPy."
   ]
  },
  {
   "cell_type": "code",
   "execution_count": 15,
   "metadata": {},
   "outputs": [
    {
     "name": "stdout",
     "output_type": "stream",
     "text": [
      "Determinante de la matriz: 5.000000000000001\n"
     ]
    }
   ],
   "source": [
    "import numpy as np\n",
    "\n",
    "matriz = np.array([[2, 3], [1, 4]])\n",
    "determinante = np.linalg.det(matriz)\n",
    "print(\"Determinante de la matriz:\", determinante)"
   ]
  },
  {
   "attachments": {},
   "cell_type": "markdown",
   "metadata": {},
   "source": [
    "En este caso, la determinante de la matriz es 5.\n",
    "\n",
    "**Gráfica:**\n",
    "\n",
    "La determinante de una matriz también se puede visualizar en una gráfica 2D utilizando los vectores columna de la matriz como vectores posicionales. La determinante representa el área con signo del paralelogramo formado por los vectores columna."
   ]
  },
  {
   "cell_type": "code",
   "execution_count": 16,
   "metadata": {},
   "outputs": [
    {
     "data": {
      "image/png": "[encoded data removed]",
      "text/plain": [
       "<Figure size 432x288 with 1 Axes>"
      ]
     },
     "metadata": {
      "needs_background": "light"
     },
     "output_type": "display_data"
    }
   ],
   "source": [
    "import numpy as np\n",
    "import matplotlib.pyplot as plt\n",
    "\n",
    "v1 = np.array([2, 3])\n",
    "v2 = np.array([1, 4])\n",
    "\n",
    "plt.quiver(0, 0, v1[0], v1[1], angles='xy', scale_units='xy', scale=1, color='r', label='v1')\n",
    "plt.quiver(0, 0, v2[0], v2[1], angles='xy', scale_units='xy', scale=1, color='b', label='v2')\n",
    "plt.xlim(-1, 3)\n",
    "plt.ylim(-1, 5)\n",
    "plt.xlabel('Eje x')\n",
    "plt.ylabel('Eje y')\n",
    "plt.grid()\n",
    "plt.legend()\n",
    "plt.show()"
   ]
  },
  {
   "attachments": {},
   "cell_type": "markdown",
   "metadata": {},
   "source": [
    "La gráfica mostrará los vectores columna `v1` y `v2`, y el área con signo del paralelogramo formado por ellos representa el valor absoluto de la determinante. El signo de la determinante se determina por la orientación de los vectores."
   ]
  },
  {
   "attachments": {},
   "cell_type": "markdown",
   "metadata": {},
   "source": [
    "## **Matriz identidad, simétrica, triangular**"
   ]
  },
  {
   "attachments": {},
   "cell_type": "markdown",
   "metadata": {},
   "source": [
    "* **Matriz identidad:**\n",
    "\n",
    "Una matriz identidad es una matriz cuadrada en la que todos los elementos de la diagonal principal son iguales a 1 y los demás elementos son iguales a 0. Se denota comúnmente como $I$ o $I_n$, donde $n$ representa el tamaño de la matriz.\n",
    "\n",
    "**Ejemplo:**\n",
    "\n",
    "Podemos crear una matriz identidad utilizando la función `np.eye()` de NumPy."
   ]
  },
  {
   "cell_type": "code",
   "execution_count": 17,
   "metadata": {},
   "outputs": [
    {
     "name": "stdout",
     "output_type": "stream",
     "text": [
      "Matriz identidad:\n",
      "[[1. 0. 0.]\n",
      " [0. 1. 0.]\n",
      " [0. 0. 1.]]\n"
     ]
    }
   ],
   "source": [
    "import numpy as np\n",
    "\n",
    "matriz_identidad = np.eye(3)\n",
    "print(\"Matriz identidad:\")\n",
    "print(matriz_identidad)"
   ]
  },
  {
   "attachments": {},
   "cell_type": "markdown",
   "metadata": {},
   "source": [
    "La matriz identidad resultante será:"
   ]
  },
  {
   "attachments": {},
   "cell_type": "markdown",
   "metadata": {},
   "source": [
    "```\n",
    "1 0 0\n",
    "0 1 0\n",
    "0 0 1\n",
    "```"
   ]
  },
  {
   "attachments": {},
   "cell_type": "markdown",
   "metadata": {},
   "source": [
    "* **Matriz simétrica:**\n",
    "\n",
    "Una matriz simétrica es una matriz cuadrada en la que los elementos son simétricos con respecto a la diagonal principal. Es decir, si el elemento $a_ij$ se encuentra en la fila $i$ y columna $j$, entonces el elemento $a_ji$ debe ser igual a $a_ij$.\n",
    "\n",
    "**Ejemplo:**\n",
    "\n",
    "Podemos crear una matriz simétrica manualmente o generar una matriz aleatoria y convertirla en una matriz simétrica."
   ]
  },
  {
   "cell_type": "code",
   "execution_count": 18,
   "metadata": {},
   "outputs": [
    {
     "name": "stdout",
     "output_type": "stream",
     "text": [
      "Matriz simétrica (manual):\n",
      "[[1 2 3]\n",
      " [2 4 5]\n",
      " [3 5 6]]\n",
      "Matriz aleatoria:\n",
      "[[6 6 9]\n",
      " [0 6 5]\n",
      " [6 0 3]]\n",
      "Matriz simétrica (a partir de la matriz aleatoria):\n",
      "[[6.  3.  7.5]\n",
      " [3.  6.  2.5]\n",
      " [7.5 2.5 3. ]]\n"
     ]
    }
   ],
   "source": [
    "import numpy as np\n",
    "\n",
    "matriz_manual = np.array([[1, 2, 3], [2, 4, 5], [3, 5, 6]])\n",
    "print(\"Matriz simétrica (manual):\")\n",
    "print(matriz_manual)\n",
    "\n",
    "matriz_aleatoria = np.random.randint(0, 10, (3, 3))\n",
    "matriz_simetrica = (matriz_aleatoria + matriz_aleatoria.T) / 2\n",
    "print(\"Matriz aleatoria:\")\n",
    "print(matriz_aleatoria)\n",
    "print(\"Matriz simétrica (a partir de la matriz aleatoria):\")\n",
    "print(matriz_simetrica)"
   ]
  },
  {
   "attachments": {},
   "cell_type": "markdown",
   "metadata": {},
   "source": [
    "* **Matriz triangular:**\n",
    "\n",
    "Una matriz triangular es una matriz cuadrada en la que todos los elementos por encima o por debajo de la diagonal principal son iguales a cero. Dependiendo de la posición de los ceros, puede ser una matriz triangular superior o una matriz triangular inferior.\n",
    "\n",
    "**Ejemplo:**\n",
    "\n",
    "Podemos crear una matriz triangular superior o inferior utilizando la función `np.triu()` y `np.tril()` de NumPy, respectivamente."
   ]
  },
  {
   "cell_type": "code",
   "execution_count": 19,
   "metadata": {},
   "outputs": [
    {
     "name": "stdout",
     "output_type": "stream",
     "text": [
      "Matriz triangular superior:\n",
      "[[1 2 3]\n",
      " [0 4 5]\n",
      " [0 0 6]]\n",
      "Matriz triangular inferior:\n",
      "[[1 0 0]\n",
      " [2 3 0]\n",
      " [4 5 6]]\n"
     ]
    }
   ],
   "source": [
    "import numpy as np\n",
    "\n",
    "matriz_superior = np.triu([[1, 2, 3], [0, 4, 5], [0, 0, 6]])\n",
    "print(\"Matriz triangular superior:\")\n",
    "print(matriz_superior)\n",
    "\n",
    "matriz_inferior = np.tril([[1, 0, 0], [2, 3, 0], [4, 5, 6]])\n",
    "print(\"Matriz triangular inferior:\")\n",
    "print(matriz_inferior)"
   ]
  },
  {
   "attachments": {},
   "cell_type": "markdown",
   "metadata": {},
   "source": [
    "## **Autovalores, autovectores**"
   ]
  },
  {
   "attachments": {},
   "cell_type": "markdown",
   "metadata": {},
   "source": [
    "Los autovalores y autovectores son propiedades importantes de las matrices. Cuando multiplicamos una matriz por su autovector correspondiente, el resultado es simplemente una escala del propio autovector, donde la escala es el autovalor correspondiente. Los autovalores representan las escalas y los autovectores representan las direcciones de cambio invariante bajo la transformación lineal representada por la matriz.\n",
    "\n",
    "**Ejemplo:**\n",
    "\n",
    "Supongamos que tenemos la siguiente matriz:"
   ]
  },
  {
   "attachments": {},
   "cell_type": "markdown",
   "metadata": {},
   "source": [
    "```\n",
    "2 1\n",
    "1 3\n",
    "```"
   ]
  },
  {
   "attachments": {},
   "cell_type": "markdown",
   "metadata": {},
   "source": [
    "Podemos calcular los autovalores y autovectores de la matriz utilizando la función `np.linalg.eig()` de NumPy."
   ]
  },
  {
   "cell_type": "code",
   "execution_count": 20,
   "metadata": {},
   "outputs": [
    {
     "name": "stdout",
     "output_type": "stream",
     "text": [
      "Autovalores:\n",
      "[1.38196601 3.61803399]\n",
      "Autovectores:\n",
      "[[-0.85065081 -0.52573111]\n",
      " [ 0.52573111 -0.85065081]]\n"
     ]
    }
   ],
   "source": [
    "import numpy as np\n",
    "\n",
    "matriz = np.array([[2, 1], [1, 3]])\n",
    "autovalores, autovectores = np.linalg.eig(matriz)\n",
    "\n",
    "print(\"Autovalores:\")\n",
    "print(autovalores)\n",
    "print(\"Autovectores:\")\n",
    "print(autovectores)"
   ]
  },
  {
   "attachments": {},
   "cell_type": "markdown",
   "metadata": {},
   "source": [
    "En este caso, los autovalores serán [1, 4] y los autovectores serán:"
   ]
  },
  {
   "attachments": {},
   "cell_type": "markdown",
   "metadata": {},
   "source": [
    "```\n",
    "[-0.85065081, -0.52573111]\n",
    "[ 0.52573111, -0.85065081]\n",
    "```"
   ]
  },
  {
   "attachments": {},
   "cell_type": "markdown",
   "metadata": {},
   "source": [
    "**Gráficas:**\n",
    "\n",
    "Podemos visualizar los autovectores utilizando gráficas 2D o 3D, dependiendo de la dimensión de la matriz."
   ]
  },
  {
   "cell_type": "code",
   "execution_count": 22,
   "metadata": {},
   "outputs": [
    {
     "data": {
      "image/png": "[encoded data removed]",
      "text/plain": [
       "<Figure size 432x288 with 1 Axes>"
      ]
     },
     "metadata": {
      "needs_background": "light"
     },
     "output_type": "display_data"
    }
   ],
   "source": [
    "import numpy as np\n",
    "import matplotlib.pyplot as plt\n",
    "from mpl_toolkits.mplot3d import Axes3D\n",
    "\n",
    "matriz = np.array([[2, 1], [1, 3]])\n",
    "autovalores, autovectores = np.linalg.eig(matriz)\n",
    "\n",
    "# Gráfica 3D\n",
    "fig = plt.figure()\n",
    "ax = fig.add_subplot(111, projection='3d')\n",
    "ax.quiver(0, 0, 0, autovectores[0, 0], autovectores[1, 0], 0, color='r', label='Autovector 1')\n",
    "ax.quiver(0, 0, 0, autovectores[0, 1], autovectores[1, 1], 0, color='b', label='Autovector 2')\n",
    "ax.set_xlim([-1, 1])\n",
    "ax.set_ylim([-1, 1])\n",
    "ax.set_zlim([-1, 1])\n",
    "ax.set_xlabel('Eje x')\n",
    "ax.set_ylabel('Eje y')\n",
    "ax.set_zlabel('Eje z')\n",
    "ax.legend()\n",
    "plt.show()"
   ]
  },
  {
   "attachments": {},
   "cell_type": "markdown",
   "metadata": {},
   "source": [
    "Estas gráficas representan los autovectores correspondientes a los autovalores de la matriz. La dirección y el sentido de los autovectores son importantes, mientras que la escala se representa mediante el autovalor correspondiente."
   ]
  },
  {
   "attachments": {},
   "cell_type": "markdown",
   "metadata": {},
   "source": [
    "| **Inicio** | **atrás 1** | **Siguiente 3** |\n",
    "|----------- |-------------- |---------------|\n",
    "| [🏠](../../../README.md) | [⏪](./1.INTRODUCCION_AL_ANALISIS_DE_DATOS.ipynb)| [⏩](./3.EL_FLUJO_DE_LOS_DATO.ipynb)|"
   ]
  }
 ],
 "metadata": {
  "kernelspec": {
   "display_name": "base",
   "language": "python",
   "name": "python3"
  },
  "language_info": {
   "codemirror_mode": {
    "name": "ipython",
    "version": 3
   },
   "file_extension": ".py",
   "mimetype": "text/x-python",
   "name": "python",
   "nbconvert_exporter": "python",
   "pygments_lexer": "ipython3",
   "version": "3.9.12"
  },
  "orig_nbformat": 4
 },
 "nbformat": 4,
 "nbformat_minor": 2
}
