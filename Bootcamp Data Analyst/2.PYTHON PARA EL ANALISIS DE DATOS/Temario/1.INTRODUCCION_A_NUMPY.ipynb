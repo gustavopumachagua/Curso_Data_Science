{
 "cells": [
  {
   "attachments": {},
   "cell_type": "markdown",
   "metadata": {},
   "source": [
    "| **Inicio**| **Siguiente 2** |\n",
    "|----------- |-------------- |\n",
    "| [🏠](../../../README.md) | [⏩](./2.INTRODUCCION_A_PANDAS.ipynb)|"
   ]
  },
  {
   "attachments": {},
   "cell_type": "markdown",
   "metadata": {},
   "source": [
    "# **1. INTRODUCCIÓN A NUMPY**"
   ]
  },
  {
   "attachments": {},
   "cell_type": "markdown",
   "metadata": {},
   "source": [
    "## **Creación y tratamiento de arrays en Numpy**"
   ]
  },
  {
   "attachments": {},
   "cell_type": "markdown",
   "metadata": {},
   "source": [
    "NumPy es una biblioteca en Python que proporciona soporte para trabajar con matrices multidimensionales, conocidas como arrays. Los arrays de NumPy son eficientes en términos de almacenamiento y procesamiento, lo que los convierte en una herramienta poderosa para el análisis de datos y la computación científica. A continuación, te proporcionaré una explicación detallada sobre la creación y tratamiento de arrays en NumPy, junto con ejemplos ilustrativos.\n",
    "\n",
    "* **Creación de arrays:**\n",
    "\n",
    "Para crear un array en NumPy, puedes utilizar la función `np.array()` y pasar una lista o tupla como argumento. Por ejemplo:"
   ]
  },
  {
   "cell_type": "code",
   "execution_count": 1,
   "metadata": {},
   "outputs": [],
   "source": [
    "import numpy as np\n",
    "\n",
    "# Crear un array unidimensional\n",
    "arr1 = np.array([1, 2, 3, 4, 5])\n",
    "\n",
    "# Crear un array bidimensional\n",
    "arr2 = np.array([[1, 2, 3], [4, 5, 6], [7, 8, 9]])"
   ]
  },
  {
   "attachments": {},
   "cell_type": "markdown",
   "metadata": {},
   "source": [
    "* **Propiedades de los arrays:**\n",
    "\n",
    "Una vez creado un array, puedes acceder a diversas propiedades y atributos para obtener información sobre su forma, tamaño y tipo de datos. Algunos ejemplos de estas propiedades son:"
   ]
  },
  {
   "cell_type": "code",
   "execution_count": 2,
   "metadata": {},
   "outputs": [
    {
     "name": "stdout",
     "output_type": "stream",
     "text": [
      "(5,)\n",
      "1\n",
      "5\n",
      "int64\n"
     ]
    }
   ],
   "source": [
    "import numpy as np\n",
    "\n",
    "arr = np.array([1, 2, 3, 4, 5])\n",
    "\n",
    "# Obtener la forma del array\n",
    "print(arr.shape)  # Salida: (5,)\n",
    "\n",
    "# Obtener el número de dimensiones del array\n",
    "print(arr.ndim)  # Salida: 1\n",
    "\n",
    "# Obtener el tamaño total del array\n",
    "print(arr.size)  # Salida: 5\n",
    "\n",
    "# Obtener el tipo de datos del array\n",
    "print(arr.dtype)  # Salida: int64"
   ]
  },
  {
   "attachments": {},
   "cell_type": "markdown",
   "metadata": {},
   "source": [
    "* **Operaciones con arrays:**\n",
    "\n",
    "NumPy proporciona una amplia gama de operaciones para trabajar con arrays. Puedes realizar operaciones aritméticas, funciones matemáticas, operaciones lógicas y muchas otras. Estas operaciones se aplican elemento a elemento en el array. Aquí hay algunos ejemplos:"
   ]
  },
  {
   "cell_type": "code",
   "execution_count": 3,
   "metadata": {},
   "outputs": [],
   "source": [
    "import numpy as np\n",
    "\n",
    "arr1 = np.array([1, 2, 3])\n",
    "arr2 = np.array([4, 5, 6])\n",
    "\n",
    "# Operaciones aritméticas\n",
    "arr_sum = arr1 + arr2  # Suma de arrays\n",
    "arr_mul = arr1 * arr2  # Multiplicación de arrays\n",
    "\n",
    "# Funciones matemáticas\n",
    "arr_sqrt = np.sqrt(arr1)  # Raíz cuadrada de los elementos del array\n",
    "arr_exp = np.exp(arr2)  # Exponencial de los elementos del array\n",
    "\n",
    "# Operaciones lógicas\n",
    "arr_greater = arr1 > arr2  # Comparación elemento a elemento\n",
    "\n",
    "# Operaciones de reducción\n",
    "arr_sum_total = np.sum(arr1)  # Suma de todos los elementos del array\n",
    "arr_mean = np.mean(arr2)  # Media de los elementos del array"
   ]
  },
  {
   "attachments": {},
   "cell_type": "markdown",
   "metadata": {},
   "source": [
    "* **Indexación y segmentación de arrays:**\n",
    "\n",
    "Puedes acceder y manipular elementos individuales de un array utilizando la indexación. NumPy también permite segmentar un array para obtener subconjuntos de elementos. Aquí hay algunos ejemplos:"
   ]
  },
  {
   "cell_type": "code",
   "execution_count": 4,
   "metadata": {},
   "outputs": [
    {
     "name": "stdout",
     "output_type": "stream",
     "text": [
      "1\n",
      "[3 4 5]\n",
      "[2 4 6 8]\n"
     ]
    }
   ],
   "source": [
    "import numpy as np\n",
    "\n",
    "arr = np.array([1, 2, 3, 4, 5, 6, 7, 8, 9, 10])\n",
    "\n",
    "# Acceder a un elemento individual\n",
    "print(arr[0])  # Salida: 1\n",
    "\n",
    "# Acceder a un rango de elementos\n",
    "print(arr[2:5])  # Salida: [3 4 5]\n",
    "\n",
    "# Segmentar con pasos\n",
    "print(arr[1:9:2])  # Salida: [2 4 6 8]"
   ]
  },
  {
   "attachments": {},
   "cell_type": "markdown",
   "metadata": {},
   "source": [
    "Estos son solo algunos ejemplos básicos de la creación y tratamiento de arrays en NumPy. La biblioteca proporciona muchas más funcionalidades y operaciones avanzadas para el procesamiento eficiente de datos y cálculos científicos."
   ]
  },
  {
   "attachments": {},
   "cell_type": "markdown",
   "metadata": {},
   "source": [
    "## **Operadores aritméticos en Numpy**"
   ]
  },
  {
   "attachments": {},
   "cell_type": "markdown",
   "metadata": {},
   "source": [
    "NumPy es una biblioteca en Python que ofrece un amplio conjunto de funciones y operadores para realizar operaciones aritméticas en arrays multidimensionales. Estos operadores aritméticos permiten realizar cálculos elemento a elemento en los arrays, facilitando el procesamiento numérico eficiente. A continuación, te proporcionaré una explicación detallada de los operadores aritméticos en NumPy, junto con ejemplos ilustrativos.\n",
    "\n",
    "* **Suma (+):**\n",
    "\n",
    "El operador de suma se utiliza para sumar dos arrays o para sumar un escalar a un array. La suma se realiza elemento a elemento en los arrays. Por ejemplo:"
   ]
  },
  {
   "cell_type": "code",
   "execution_count": 5,
   "metadata": {},
   "outputs": [
    {
     "name": "stdout",
     "output_type": "stream",
     "text": [
      "[5 7 9]\n",
      "[11 12 13]\n"
     ]
    }
   ],
   "source": [
    "import numpy as np\n",
    "\n",
    "arr1 = np.array([1, 2, 3])\n",
    "arr2 = np.array([4, 5, 6])\n",
    "\n",
    "# Suma de arrays\n",
    "arr_sum = arr1 + arr2\n",
    "print(arr_sum)  # Salida: [5 7 9]\n",
    "\n",
    "# Suma de un escalar a un array\n",
    "arr_sum_scalar = arr1 + 10\n",
    "print(arr_sum_scalar)  # Salida: [11 12 13]"
   ]
  },
  {
   "attachments": {},
   "cell_type": "markdown",
   "metadata": {},
   "source": [
    "* **Resta (-):**\n",
    "\n",
    "El operador de resta se utiliza para restar un array de otro array o para restar un escalar de un array. Al igual que la suma, la resta se realiza elemento a elemento en los arrays. Por ejemplo:"
   ]
  },
  {
   "cell_type": "code",
   "execution_count": 6,
   "metadata": {},
   "outputs": [
    {
     "name": "stdout",
     "output_type": "stream",
     "text": [
      "[3 3 3]\n",
      "[2 3 4]\n"
     ]
    }
   ],
   "source": [
    "import numpy as np\n",
    "\n",
    "arr1 = np.array([4, 5, 6])\n",
    "arr2 = np.array([1, 2, 3])\n",
    "\n",
    "# Resta de arrays\n",
    "arr_diff = arr1 - arr2\n",
    "print(arr_diff)  # Salida: [3 3 3]\n",
    "\n",
    "# Resta de un escalar a un array\n",
    "arr_diff_scalar = arr1 - 2\n",
    "print(arr_diff_scalar)  # Salida: [2 3 4]"
   ]
  },
  {
   "attachments": {},
   "cell_type": "markdown",
   "metadata": {},
   "source": [
    "* **Multiplicación (*):**\n",
    "\n",
    "El operador de multiplicación se utiliza para multiplicar dos arrays o para multiplicar un array por un escalar. Nuevamente, la multiplicación se realiza elemento a elemento en los arrays. Por ejemplo:"
   ]
  },
  {
   "cell_type": "code",
   "execution_count": 7,
   "metadata": {},
   "outputs": [
    {
     "name": "stdout",
     "output_type": "stream",
     "text": [
      "[ 4 10 18]\n",
      "[3 6 9]\n"
     ]
    }
   ],
   "source": [
    "import numpy as np\n",
    "\n",
    "arr1 = np.array([1, 2, 3])\n",
    "arr2 = np.array([4, 5, 6])\n",
    "\n",
    "# Multiplicación de arrays\n",
    "arr_prod = arr1 * arr2\n",
    "print(arr_prod)  # Salida: [4 10 18]\n",
    "\n",
    "# Multiplicación de un escalar por un array\n",
    "arr_prod_scalar = arr1 * 3\n",
    "print(arr_prod_scalar)  # Salida: [3 6 9]"
   ]
  },
  {
   "attachments": {},
   "cell_type": "markdown",
   "metadata": {},
   "source": [
    "* **División (/):**\n",
    "\n",
    "El operador de división se utiliza para dividir un array por otro array o para dividir un array por un escalar. Al igual que las operaciones anteriores, la división se realiza elemento a elemento en los arrays. Por ejemplo:"
   ]
  },
  {
   "cell_type": "code",
   "execution_count": 8,
   "metadata": {},
   "outputs": [
    {
     "name": "stdout",
     "output_type": "stream",
     "text": [
      "[3. 4. 2.]\n",
      "[3. 4. 5.]\n"
     ]
    }
   ],
   "source": [
    "import numpy as np\n",
    "\n",
    "arr1 = np.array([6, 8, 10])\n",
    "arr2 = np.array([2, 2, 5])\n",
    "\n",
    "# División de arrays\n",
    "arr_div = arr1 / arr2\n",
    "print(arr_div)  # Salida: [3. 4. 2.]\n",
    "\n",
    "# División de un array por un escalar\n",
    "arr_div_scalar = arr1 / 2\n",
    "print(arr_div_scalar)  # Salida: [3. 4. 5.]"
   ]
  },
  {
   "attachments": {},
   "cell_type": "markdown",
   "metadata": {},
   "source": [
    "Estos son solo algunos ejemplos de los operadores aritméticos disponibles en NumPy. Además de estos operadores básicos, NumPy también proporciona operadores para realizar operaciones de exponenciación, raíz cuadrada, redondeo, entre otros. Estos operadores y funciones adicionales amplían la funcionalidad de NumPy y permiten realizar cálculos más complejos en arrays multidimensionales."
   ]
  },
  {
   "attachments": {},
   "cell_type": "markdown",
   "metadata": {},
   "source": [
    "## **Funciones universales en Numpy**"
   ]
  },
  {
   "attachments": {},
   "cell_type": "markdown",
   "metadata": {},
   "source": [
    "En NumPy, las funciones universales, comúnmente conocidas como \"`ufuncs`\", son funciones que operan elemento a elemento en arrays multidimensionales. Estas funciones proporcionan operaciones matemáticas y estadísticas rápidas y eficientes en los arrays de NumPy. A continuación, te proporcionaré una explicación detallada de las funciones universales en NumPy, junto con ejemplos ilustrativos.\n",
    "\n",
    "* **Funciones matemáticas:**\n",
    "\n",
    "NumPy proporciona una amplia gama de funciones matemáticas para realizar cálculos en arrays. Algunas de las funciones matemáticas más comunes son:\n",
    "\n",
    "**np.sin():** Calcula el seno de cada elemento en el array.\n",
    "\n",
    "**np.cos():** Calcula el coseno de cada elemento en el array.\n",
    "\n",
    "**np.exp():** Calcula la exponencial de cada elemento en el array.\n",
    "\n",
    "**np.log():** Calcula el logaritmo natural de cada elemento en el array."
   ]
  },
  {
   "cell_type": "code",
   "execution_count": 9,
   "metadata": {},
   "outputs": [
    {
     "name": "stdout",
     "output_type": "stream",
     "text": [
      "[0.0000000e+00 1.0000000e+00 1.2246468e-16]\n",
      "[ 1.000000e+00  6.123234e-17 -1.000000e+00]\n",
      "[ 1.          4.81047738 23.14069263]\n",
      "[      -inf 0.45158271 1.14472989]\n"
     ]
    },
    {
     "name": "stderr",
     "output_type": "stream",
     "text": [
      "/tmp/ipykernel_7027/2186374687.py:18: RuntimeWarning: divide by zero encountered in log\n",
      "  log_arr = np.log(arr)\n"
     ]
    }
   ],
   "source": [
    "import numpy as np\n",
    "\n",
    "arr = np.array([0, np.pi/2, np.pi])\n",
    "\n",
    "# Seno de cada elemento\n",
    "sin_arr = np.sin(arr)\n",
    "print(sin_arr)  # Salida: [0.         1.         1.2246468e-16]\n",
    "\n",
    "# Coseno de cada elemento\n",
    "cos_arr = np.cos(arr)\n",
    "print(cos_arr)  # Salida: [ 1.000000e+00  6.123234e-17 -1.000000e+00]\n",
    "\n",
    "# Exponencial de cada elemento\n",
    "exp_arr = np.exp(arr)\n",
    "print(exp_arr)  # Salida: [ 1.          4.81047738 23.14069263]\n",
    "\n",
    "# Logaritmo natural de cada elemento\n",
    "log_arr = np.log(arr)\n",
    "print(log_arr)  # Salida: [-inf  0.   inf]"
   ]
  },
  {
   "attachments": {},
   "cell_type": "markdown",
   "metadata": {},
   "source": [
    "* **Funciones estadísticas:**\n",
    "\n",
    "NumPy también ofrece funciones universales para realizar cálculos estadísticos en arrays. Algunas de las funciones estadísticas más comunes son:\n",
    "\n",
    "**np.mean():** Calcula la media de los elementos en el array.\n",
    "\n",
    "**np.median():** Calcula la mediana de los elementos en el array.\n",
    "\n",
    "**np.std():** Calcula la desviación estándar de los elementos en el array.\n",
    "\n",
    "**np.min():** Encuentra el valor mínimo en el array.\n",
    "\n",
    "**np.max():** Encuentra el valor máximo en el array."
   ]
  },
  {
   "cell_type": "code",
   "execution_count": 10,
   "metadata": {},
   "outputs": [
    {
     "name": "stdout",
     "output_type": "stream",
     "text": [
      "3.0\n",
      "3.0\n",
      "1.4142135623730951\n",
      "1\n",
      "5\n"
     ]
    }
   ],
   "source": [
    "import numpy as np\n",
    "\n",
    "arr = np.array([1, 2, 3, 4, 5])\n",
    "\n",
    "# Media de los elementos\n",
    "mean = np.mean(arr)\n",
    "print(mean)  # Salida: 3.0\n",
    "\n",
    "# Mediana de los elementos\n",
    "median = np.median(arr)\n",
    "print(median)  # Salida: 3.0\n",
    "\n",
    "# Desviación estándar de los elementos\n",
    "std = np.std(arr)\n",
    "print(std)  # Salida: 1.4142135623730951\n",
    "\n",
    "# Valor mínimo en el array\n",
    "min_val = np.min(arr)\n",
    "print(min_val)  # Salida: 1\n",
    "\n",
    "# Valor máximo en el array\n",
    "max_val = np.max(arr)\n",
    "print(max_val)  # Salida: 5"
   ]
  },
  {
   "attachments": {},
   "cell_type": "markdown",
   "metadata": {},
   "source": [
    "Estos son solo algunos ejemplos de las funciones universales disponibles en NumPy. Además de estas funciones, NumPy también proporciona funciones para realizar operaciones de álgebra lineal, manipulación de arrays y más. Las funciones universales de NumPy son esenciales para realizar cálculos eficientes en grandes conjuntos de datos y son una parte fundamental de la biblioteca NumPy."
   ]
  },
  {
   "attachments": {},
   "cell_type": "markdown",
   "metadata": {},
   "source": [
    "## **Indexing, Slicing e Iterating**"
   ]
  },
  {
   "attachments": {},
   "cell_type": "markdown",
   "metadata": {},
   "source": [
    "En NumPy, el indexing, slicing e iterating son técnicas utilizadas para acceder, manipular y recorrer los elementos de un array. A continuación, te proporcionaré una explicación detallada de cada una de estas técnicas junto con ejemplos ilustrativos.\n",
    "\n",
    "* **Indexing (indexación):**\n",
    "\n",
    "El indexing se refiere a la forma de acceder a elementos individuales de un array utilizando índices. En NumPy, los índices se utilizan para especificar la ubicación de un elemento en un array. Los índices en NumPy comienzan en 0 y pueden ser enteros o tuplas de enteros para acceder a elementos de arrays multidimensionales."
   ]
  },
  {
   "cell_type": "code",
   "execution_count": 11,
   "metadata": {},
   "outputs": [
    {
     "name": "stdout",
     "output_type": "stream",
     "text": [
      "1\n",
      "3\n",
      "5\n",
      "4\n"
     ]
    }
   ],
   "source": [
    "import numpy as np\n",
    "\n",
    "arr = np.array([1, 2, 3, 4, 5])\n",
    "\n",
    "# Acceder al primer elemento del array\n",
    "print(arr[0])  # Salida: 1\n",
    "\n",
    "# Acceder al tercer elemento del array\n",
    "print(arr[2])  # Salida: 3\n",
    "\n",
    "# Acceder al último elemento del array\n",
    "print(arr[-1])  # Salida: 5\n",
    "\n",
    "arr2 = np.array([[1, 2, 3], [4, 5, 6]])\n",
    "\n",
    "# Acceder al elemento en la segunda fila y primera columna\n",
    "print(arr2[1, 0])  # Salida: 4"
   ]
  },
  {
   "attachments": {},
   "cell_type": "markdown",
   "metadata": {},
   "source": [
    "* **Slicing (rebanado):**\n",
    "\n",
    "El slicing se utiliza para obtener una porción o subconjunto de elementos de un array. Permite especificar un rango de índices para seleccionar una parte del array. La sintaxis general para el slicing es `[inicio:fin:paso]`, donde inicio y fin son los índices de inicio y fin del subconjunto, y paso es el tamaño del salto entre elementos."
   ]
  },
  {
   "cell_type": "code",
   "execution_count": 12,
   "metadata": {},
   "outputs": [
    {
     "name": "stdout",
     "output_type": "stream",
     "text": [
      "[1 2 3]\n",
      "[3 4 5]\n",
      "[1 3 5]\n",
      "[1 2 3]\n",
      "[2 5]\n"
     ]
    }
   ],
   "source": [
    "import numpy as np\n",
    "\n",
    "arr = np.array([1, 2, 3, 4, 5])\n",
    "\n",
    "# Obtener los primeros tres elementos del array\n",
    "print(arr[0:3])  # Salida: [1 2 3]\n",
    "\n",
    "# Obtener elementos a partir del índice 2 hasta el final\n",
    "print(arr[2:])  # Salida: [3 4 5]\n",
    "\n",
    "# Obtener elementos con paso de 2\n",
    "print(arr[::2])  # Salida: [1 3 5]\n",
    "\n",
    "arr2 = np.array([[1, 2, 3], [4, 5, 6]])\n",
    "\n",
    "# Obtener la primera fila del array bidimensional\n",
    "print(arr2[0, :])  # Salida: [1 2 3]\n",
    "\n",
    "# Obtener la segunda columna del array bidimensional\n",
    "print(arr2[:, 1])  # Salida: [2 5]"
   ]
  },
  {
   "attachments": {},
   "cell_type": "markdown",
   "metadata": {},
   "source": [
    "* **Iterating (iteración):**\n",
    "\n",
    "La iteración se refiere a la capacidad de recorrer los elementos de un array. En NumPy, se puede utilizar un bucle for para iterar sobre los elementos de un array unidimensional. Para arrays multidimensionales, se puede utilizar el atributo `nditer()` para recorrer los elementos en un orden determinado."
   ]
  },
  {
   "cell_type": "code",
   "execution_count": 13,
   "metadata": {},
   "outputs": [
    {
     "name": "stdout",
     "output_type": "stream",
     "text": [
      "1\n",
      "2\n",
      "3\n",
      "4\n",
      "5\n",
      "1\n",
      "2\n",
      "3\n",
      "4\n",
      "5\n",
      "6\n"
     ]
    }
   ],
   "source": [
    "import numpy as np\n",
    "\n",
    "arr = np.array([1, 2, 3, 4, 5])\n",
    "\n",
    "# Iterar sobre los elementos de un array unidimensional\n",
    "for element in arr:\n",
    "    print(element)\n",
    "\n",
    "arr2 = np.array([[1, 2, 3], [4, 5, 6]])\n",
    "\n",
    "# Iterar sobre los elementos de un array bidimensional\n",
    "for row in arr2:\n",
    "    for element in row:\n",
    "        print(element)"
   ]
  },
  {
   "attachments": {},
   "cell_type": "markdown",
   "metadata": {},
   "source": [
    "En resumen, el indexing se utiliza para acceder a elementos individuales de un array, el slicing se utiliza para obtener subconjuntos de elementos y el iterating se utiliza para recorrer los elementos de un array. Estas técnicas son fundamentales para el manejo de arrays en NumPy y son ampliamente utilizadas en el análisis de datos y el procesamiento numérico en Python."
   ]
  },
  {
   "attachments": {},
   "cell_type": "markdown",
   "metadata": {},
   "source": [
    "## **Funciones y métodos de Numpy**"
   ]
  },
  {
   "attachments": {},
   "cell_type": "markdown",
   "metadata": {},
   "source": [
    "NumPy es una biblioteca de Python ampliamente utilizada para el procesamiento numérico y científico. Proporciona una amplia gama de funciones y métodos que facilitan la manipulación y operaciones en arrays multidimensionales. A continuación, te proporcionaré una explicación detallada de las funciones y métodos más comunes en NumPy, junto con ejemplos ilustrativos.\n",
    "\n",
    "**Funciones básicas:**\n",
    "\n",
    "* **np.array():** Crea un nuevo array de NumPy.\n",
    "\n",
    "* **np.zeros():** Crea un array de ceros.\n",
    "\n",
    "* **np.ones():** Crea un array de unos.\n",
    "\n",
    "* **np.arange():** Crea un array con valores espaciados uniformemente.\n",
    "\n",
    "* **np.linspace():** Crea un array con valores espaciados de forma lineal.\n",
    "\n",
    "* **np.random.rand():** Genera números aleatorios en un array.\n",
    "\n",
    "Ejemplo:"
   ]
  },
  {
   "cell_type": "code",
   "execution_count": 14,
   "metadata": {},
   "outputs": [],
   "source": [
    "import numpy as np\n",
    "\n",
    "# Crear un array de NumPy\n",
    "arr = np.array([1, 2, 3, 4, 5])\n",
    "\n",
    "# Crear un array de ceros\n",
    "zeros_arr = np.zeros((2, 3))  # Array de 2 filas y 3 columnas de ceros\n",
    "\n",
    "# Crear un array de unos\n",
    "ones_arr = np.ones((3, 2))  # Array de 3 filas y 2 columnas de unos\n",
    "\n",
    "# Crear un array con valores espaciados uniformemente\n",
    "range_arr = np.arange(0, 10, 2)  # Array que va desde 0 hasta 10 (exclusivo) con paso 2\n",
    "\n",
    "# Crear un array con valores espaciados de forma lineal\n",
    "linspace_arr = np.linspace(0, 1, 5)  # Array que va desde 0 hasta 1 con 5 elementos\n",
    "\n",
    "# Generar números aleatorios en un array\n",
    "random_arr = np.random.rand(3, 3)  # Array de 3x3 con valores aleatorios entre 0 y 1"
   ]
  },
  {
   "attachments": {},
   "cell_type": "markdown",
   "metadata": {},
   "source": [
    "* **Métodos de arrays:**\n",
    "\n",
    "**shape:** Devuelve la forma del array (número de filas y columnas).\n",
    "\n",
    "**reshape():** Cambia la forma del array.\n",
    "\n",
    "**size:** Devuelve el número total de elementos en el array.\n",
    "\n",
    "**dtype:** Devuelve el tipo de datos del array.\n",
    "\n",
    "**min(), max(), mean(), sum():** Calculan el mínimo, máximo, media y suma de los elementos del array.\n",
    "\n",
    "Ejemplo:"
   ]
  },
  {
   "cell_type": "code",
   "execution_count": 15,
   "metadata": {},
   "outputs": [
    {
     "name": "stdout",
     "output_type": "stream",
     "text": [
      "(2, 3)\n",
      "6\n",
      "int64\n",
      "1\n",
      "6\n",
      "3.5\n",
      "21\n"
     ]
    }
   ],
   "source": [
    "import numpy as np\n",
    "\n",
    "arr = np.array([[1, 2, 3], [4, 5, 6]])\n",
    "\n",
    "# Obtener la forma del array\n",
    "print(arr.shape)  # Salida: (2, 3)\n",
    "\n",
    "# Cambiar la forma del array\n",
    "reshaped_arr = arr.reshape(3, 2)  # Array con forma (3, 2)\n",
    "\n",
    "# Obtener el número total de elementos en el array\n",
    "print(arr.size)  # Salida: 6\n",
    "\n",
    "# Obtener el tipo de datos del array\n",
    "print(arr.dtype)  # Salida: int64\n",
    "\n",
    "# Calcular el mínimo, máximo, media y suma de los elementos del array\n",
    "print(arr.min())  # Salida: 1\n",
    "print(arr.max())  # Salida: 6\n",
    "print(arr.mean())  # Salida: 3.5\n",
    "print(arr.sum())  # Salida: 21"
   ]
  },
  {
   "attachments": {},
   "cell_type": "markdown",
   "metadata": {},
   "source": [
    "* **Funciones matemáticas:**\n",
    "\n",
    "NumPy ofrece una amplia variedad de funciones matemáticas que se pueden aplicar a arrays, como trigonometría, exponenciales, logaritmos, redondeo, entre otros.\n",
    "\n",
    "Ejemplo:"
   ]
  },
  {
   "cell_type": "code",
   "execution_count": 16,
   "metadata": {},
   "outputs": [
    {
     "name": "stdout",
     "output_type": "stream",
     "text": [
      "[0.84147098 0.90929743 0.14112001]\n",
      "[ 0.54030231 -0.41614684 -0.9899925 ]\n",
      "[ 2.71828183  7.3890561  20.08553692]\n",
      "[0.         0.69314718 1.09861229]\n",
      "[1. 3. 3.]\n"
     ]
    }
   ],
   "source": [
    "import numpy as np\n",
    "\n",
    "arr = np.array([1, 2, 3])\n",
    "\n",
    "# Funciones trigonométricas\n",
    "print(np.sin(arr))  # Salida: [0.84147098, 0.90929743, 0.14112001]\n",
    "print(np.cos(arr))  # Salida: [0.54030231, -0.41614684, -0.9899925]\n",
    "\n",
    "# Funciones exponenciales y logarítmicas\n",
    "print(np.exp(arr))  # Salida: [2.71828183, 7.3890561, 20.08553692]\n",
    "print(np.log(arr))  # Salida: [0., 0.69314718, 1.09861229]\n",
    "\n",
    "# Funciones de redondeo\n",
    "print(np.round([1.3, 2.6, 3.1]))  # Salida: [1., 3., 3.]"
   ]
  },
  {
   "attachments": {},
   "cell_type": "markdown",
   "metadata": {},
   "source": [
    "Estas son solo algunas de las funciones y métodos más utilizados en NumPy. La biblioteca ofrece muchas más opciones y funcionalidades para realizar operaciones matemáticas y científicas en arrays multidimensionales."
   ]
  },
  {
   "attachments": {},
   "cell_type": "markdown",
   "metadata": {},
   "source": [
    "## **Trucos de indexación en Numpy**"
   ]
  },
  {
   "attachments": {},
   "cell_type": "markdown",
   "metadata": {},
   "source": [
    "Los trucos de indexación en NumPy permiten acceder y manipular elementos en arrays de formas más avanzadas y eficientes. Estas técnicas aprovechan las capacidades de indexación y selección de NumPy para realizar operaciones complejas de una manera concisa y eficiente. A continuación, se presentan algunos de los trucos de indexación más comunes en NumPy con ejemplos ilustrativos:\n",
    "\n",
    "* **Indexación booleana:**\n",
    "\n",
    "La indexación booleana permite seleccionar elementos de un array basándose en una condición booleana. Se crea una máscara booleana donde se asigna `True` a los elementos que cumplan la condición y `False` a los que no. Luego, se puede utilizar la máscara para acceder a los elementos correspondientes.\n",
    "\n",
    "Ejemplo:"
   ]
  },
  {
   "cell_type": "code",
   "execution_count": 17,
   "metadata": {},
   "outputs": [],
   "source": [
    "import numpy as np\n",
    "\n",
    "arr = np.array([1, 2, 3, 4, 5])\n",
    "\n",
    "# Crear una máscara booleana\n",
    "mask = arr > 2  # [False, False, True, True, True]\n",
    "\n",
    "# Seleccionar los elementos que cumplen la condición\n",
    "selected_elements = arr[mask]  # [3, 4, 5]"
   ]
  },
  {
   "attachments": {},
   "cell_type": "markdown",
   "metadata": {},
   "source": [
    "* **Indexación con arrays de enteros:**\n",
    "\n",
    "La indexación con arrays de enteros permite seleccionar elementos de un array utilizando otro array de enteros como índices. Los valores del array de enteros indican los índices de los elementos que se desean seleccionar.\n",
    "\n",
    "Ejemplo:"
   ]
  },
  {
   "cell_type": "code",
   "execution_count": 18,
   "metadata": {},
   "outputs": [],
   "source": [
    "import numpy as np\n",
    "\n",
    "arr = np.array([10, 20, 30, 40, 50])\n",
    "\n",
    "# Crear un array de enteros como índices\n",
    "indices = np.array([1, 3])\n",
    "\n",
    "# Seleccionar los elementos correspondientes a los índices\n",
    "selected_elements = arr[indices]  # [20, 40]"
   ]
  },
  {
   "attachments": {},
   "cell_type": "markdown",
   "metadata": {},
   "source": [
    "* **Indexación avanzada:**\n",
    "\n",
    "La indexación avanzada permite realizar selecciones más complejas utilizando múltiples arrays como índices. Se pueden utilizar arrays de enteros y arrays booleanos para seleccionar elementos de forma simultánea.\n",
    "\n",
    "Ejemplo:"
   ]
  },
  {
   "cell_type": "code",
   "execution_count": 19,
   "metadata": {},
   "outputs": [],
   "source": [
    "import numpy as np\n",
    "\n",
    "arr = np.array([[1, 2], [3, 4], [5, 6]])\n",
    "\n",
    "# Crear arrays de enteros y booleanos como índices\n",
    "row_indices = np.array([0, 2])\n",
    "col_indices = np.array([1, 0])\n",
    "bool_mask = np.array([True, False, True])\n",
    "\n",
    "# Seleccionar los elementos correspondientes a los índices\n",
    "selected_elements = arr[row_indices, col_indices]  # [2, 5]\n",
    "\n",
    "# Seleccionar los elementos correspondientes a la máscara booleana\n",
    "bool_selected_elements = arr[bool_mask]  # [[1, 2], [5, 6]]"
   ]
  },
  {
   "attachments": {},
   "cell_type": "markdown",
   "metadata": {},
   "source": [
    "Estos son solo algunos ejemplos de los trucos de indexación en NumPy. La biblioteca proporciona una amplia variedad de técnicas de indexación que permiten realizar selecciones complejas y manipular los datos de forma eficiente. La práctica y la exploración adicional de la documentación oficial de NumPy te ayudarán a dominar estas técnicas y aprovechar al máximo la potencia de indexación de NumPy."
   ]
  },
  {
   "attachments": {},
   "cell_type": "markdown",
   "metadata": {},
   "source": [
    "## **Operadores de Álgebra Lineal**"
   ]
  },
  {
   "attachments": {},
   "cell_type": "markdown",
   "metadata": {},
   "source": [
    "Los operadores de álgebra lineal en NumPy son funciones que permiten realizar diversas operaciones matemáticas relacionadas con vectores, matrices y otros objetos algebraicos. Estas operaciones son fundamentales en el campo del álgebra lineal y se utilizan ampliamente en el procesamiento de datos, la estadística, el aprendizaje automático y muchas otras áreas de la ciencia y la ingeniería. A continuación, se presentan algunos de los operadores de álgebra lineal más comunes en NumPy con ejemplos ilustrativos:\n",
    "\n",
    "* **Producto de matrices:**\n",
    "\n",
    "El producto de matrices es una operación básica en álgebra lineal que implica multiplicar dos matrices. NumPy proporciona la función `np.matmul()` para calcular el producto de dos matrices.\n",
    "\n",
    "Ejemplo:"
   ]
  },
  {
   "cell_type": "code",
   "execution_count": 20,
   "metadata": {},
   "outputs": [
    {
     "name": "stdout",
     "output_type": "stream",
     "text": [
      "[[19 22]\n",
      " [43 50]]\n"
     ]
    }
   ],
   "source": [
    "import numpy as np\n",
    "\n",
    "A = np.array([[1, 2], [3, 4]])\n",
    "B = np.array([[5, 6], [7, 8]])\n",
    "\n",
    "# Calcular el producto de matrices\n",
    "C = np.matmul(A, B)\n",
    "\n",
    "print(C)\n",
    "# Salida:\n",
    "# [[19 22]\n",
    "#  [43 50]]"
   ]
  },
  {
   "attachments": {},
   "cell_type": "markdown",
   "metadata": {},
   "source": [
    "* **Inversa de una matriz:**\n",
    "\n",
    "La inversa de una matriz es otra operación importante en álgebra lineal. La función `np.linalg.inv()` permite calcular la inversa de una matriz cuadrada.\n",
    "\n",
    "Ejemplo:"
   ]
  },
  {
   "cell_type": "code",
   "execution_count": 21,
   "metadata": {},
   "outputs": [
    {
     "name": "stdout",
     "output_type": "stream",
     "text": [
      "[[-2.   1. ]\n",
      " [ 1.5 -0.5]]\n"
     ]
    }
   ],
   "source": [
    "import numpy as np\n",
    "\n",
    "A = np.array([[1, 2], [3, 4]])\n",
    "\n",
    "# Calcular la inversa de la matriz\n",
    "A_inv = np.linalg.inv(A)\n",
    "\n",
    "print(A_inv)\n",
    "# Salida:\n",
    "# [[-2.   1. ]\n",
    "#  [ 1.5 -0.5]]"
   ]
  },
  {
   "attachments": {},
   "cell_type": "markdown",
   "metadata": {},
   "source": [
    "* **Descomposición de valores singulares (SVD):**\n",
    "\n",
    "La descomposición de valores singulares es una técnica de álgebra lineal que descompone una matriz en tres componentes principales: una matriz de valores singulares, una matriz unitaria izquierda y una matriz unitaria derecha. La función `np.linalg.svd()` permite realizar la descomposición de valores singulares.\n",
    "\n",
    "Ejemplo:"
   ]
  },
  {
   "cell_type": "code",
   "execution_count": 22,
   "metadata": {},
   "outputs": [
    {
     "name": "stdout",
     "output_type": "stream",
     "text": [
      "[[-0.2298477   0.88346102  0.40824829]\n",
      " [-0.52474482  0.24078249 -0.81649658]\n",
      " [-0.81964194 -0.40189603  0.40824829]]\n",
      "[9.52551809 0.51430058]\n",
      "[[-0.61962948 -0.78489445]\n",
      " [-0.78489445  0.61962948]]\n"
     ]
    }
   ],
   "source": [
    "import numpy as np\n",
    "\n",
    "A = np.array([[1, 2], [3, 4], [5, 6]])\n",
    "\n",
    "# Realizar la descomposición de valores singulares\n",
    "U, S, V = np.linalg.svd(A)\n",
    "\n",
    "print(U)\n",
    "print(S)\n",
    "print(V)\n",
    "# Salida:\n",
    "# [[-0.2298477  -0.88346102]\n",
    "#  [-0.52474482 -0.24078249]\n",
    "#  [-0.81964194  0.40189604]]\n",
    "# [9.52551809 0.51430058]\n",
    "# [[-0.61962948 -0.78489445]\n",
    "#  [-0.78489445  0.61962948]]"
   ]
  },
  {
   "attachments": {},
   "cell_type": "markdown",
   "metadata": {},
   "source": [
    "Estos son solo algunos ejemplos de los operadores de álgebra lineal disponibles en NumPy. La biblioteca proporciona muchas más funciones y operaciones relacionadas con el álgebra lineal, como cálculo de determinantes, resolución de sistemas de ecuaciones lineales, autovalores y autovectores, entre otros. La práctica y la exploración adicional de la documentación oficial de NumPy te ayudarán a familiarizarte con todas las capacidades de álgebra lineal que ofrece."
   ]
  },
  {
   "attachments": {},
   "cell_type": "markdown",
   "metadata": {},
   "source": [
    "## **Generación de números aleatorios en Numpy**"
   ]
  },
  {
   "attachments": {},
   "cell_type": "markdown",
   "metadata": {},
   "source": [
    "La generación de números aleatorios es una funcionalidad importante en NumPy que permite crear secuencias de números pseudoaleatorios. NumPy proporciona varias funciones para generar números aleatorios siguiendo diferentes distribuciones estadísticas. A continuación, se presentan algunos ejemplos de generación de números aleatorios en NumPy:\n",
    "\n",
    "* **Generación de números aleatorios en un rango:**\n",
    "\n",
    "La función `np.random.rand()` se utiliza para generar números aleatorios en el rango `[0, 1)` distribuidos de forma uniforme.\n",
    "\n",
    "Ejemplo:"
   ]
  },
  {
   "cell_type": "code",
   "execution_count": 23,
   "metadata": {},
   "outputs": [
    {
     "name": "stdout",
     "output_type": "stream",
     "text": [
      "0.42948891296663716\n"
     ]
    }
   ],
   "source": [
    "import numpy as np\n",
    "\n",
    "# Generar un número aleatorio en el rango [0, 1)\n",
    "random_num = np.random.rand()\n",
    "\n",
    "print(random_num)\n",
    "# Salida: un número aleatorio entre 0 y 1"
   ]
  },
  {
   "attachments": {},
   "cell_type": "markdown",
   "metadata": {},
   "source": [
    "* **Generación de un array de números aleatorios:**\n",
    "\n",
    "La función `np.random.rand()` también se puede utilizar para generar un array de números aleatorios especificando las dimensiones del array.\n",
    "\n",
    "Ejemplo:"
   ]
  },
  {
   "cell_type": "code",
   "execution_count": 24,
   "metadata": {},
   "outputs": [
    {
     "name": "stdout",
     "output_type": "stream",
     "text": [
      "[[0.28903345 0.5273379  0.45974973]\n",
      " [0.9264806  0.38359552 0.87619998]\n",
      " [0.57389353 0.36310487 0.13088551]]\n"
     ]
    }
   ],
   "source": [
    "import numpy as np\n",
    "\n",
    "# Generar un array de números aleatorios de forma (3, 3)\n",
    "random_array = np.random.rand(3, 3)\n",
    "\n",
    "print(random_array)\n",
    "# Salida: una matriz de 3x3 con números aleatorios en el rango [0, 1)"
   ]
  },
  {
   "attachments": {},
   "cell_type": "markdown",
   "metadata": {},
   "source": [
    "* **Generación de números aleatorios siguiendo una distribución normal:**\n",
    "\n",
    "La función `np.random.randn()` se utiliza para generar números aleatorios siguiendo una distribución normal estándar (media 0 y desviación estándar 1).\n",
    "\n",
    "Ejemplo:"
   ]
  },
  {
   "cell_type": "code",
   "execution_count": 25,
   "metadata": {},
   "outputs": [
    {
     "name": "stdout",
     "output_type": "stream",
     "text": [
      "0.870089791803877\n"
     ]
    }
   ],
   "source": [
    "import numpy as np\n",
    "\n",
    "# Generar un número aleatorio siguiendo una distribución normal estándar\n",
    "random_num = np.random.randn()\n",
    "\n",
    "print(random_num)\n",
    "# Salida: un número aleatorio siguiendo una distribución normal estándar"
   ]
  },
  {
   "attachments": {},
   "cell_type": "markdown",
   "metadata": {},
   "source": [
    "* **Generación de números aleatorios enteros:**\n",
    "\n",
    "La función `np.random.randint()` se utiliza para generar números aleatorios enteros en un rango especificado.\n",
    "\n",
    "Ejemplo:"
   ]
  },
  {
   "cell_type": "code",
   "execution_count": 26,
   "metadata": {},
   "outputs": [
    {
     "name": "stdout",
     "output_type": "stream",
     "text": [
      "4\n"
     ]
    }
   ],
   "source": [
    "import numpy as np\n",
    "\n",
    "# Generar un número aleatorio entero en el rango [1, 10)\n",
    "random_num = np.random.randint(1, 10)\n",
    "\n",
    "print(random_num)\n",
    "# Salida: un número aleatorio entero entre 1 y 10"
   ]
  },
  {
   "attachments": {},
   "cell_type": "markdown",
   "metadata": {},
   "source": [
    "Estos son solo algunos ejemplos de generación de números aleatorios en NumPy. La biblioteca ofrece muchas más funciones y opciones para generar números aleatorios siguiendo diferentes distribuciones, establecer semillas aleatorias y generar secuencias aleatorias reproducibles. La generación de números aleatorios es útil en diversas aplicaciones, como simulaciones, generación de datos de prueba y selección aleatoria de muestras."
   ]
  },
  {
   "attachments": {},
   "cell_type": "markdown",
   "metadata": {},
   "source": [
    "| **Inicio**| **Siguiente 2** |\n",
    "|----------- |-------------- |\n",
    "| [🏠](../../../README.md) | [⏩](./2.INTRODUCCION_A_PANDAS.ipynb)|"
   ]
  }
 ],
 "metadata": {
  "kernelspec": {
   "display_name": "base",
   "language": "python",
   "name": "python3"
  },
  "language_info": {
   "codemirror_mode": {
    "name": "ipython",
    "version": 3
   },
   "file_extension": ".py",
   "mimetype": "text/x-python",
   "name": "python",
   "nbconvert_exporter": "python",
   "pygments_lexer": "ipython3",
   "version": "3.9.12"
  },
  "orig_nbformat": 4
 },
 "nbformat": 4,
 "nbformat_minor": 2
}
