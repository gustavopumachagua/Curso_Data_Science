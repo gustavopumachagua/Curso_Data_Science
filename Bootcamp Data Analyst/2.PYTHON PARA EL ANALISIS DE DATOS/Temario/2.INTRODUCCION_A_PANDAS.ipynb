{
 "cells": [
  {
   "attachments": {},
   "cell_type": "markdown",
   "metadata": {},
   "source": [
    "| **Inicio** | **atrás 1** | **Siguiente 3** |\n",
    "|----------- |-------------- |---------------|\n",
    "| [🏠](../../../README.md) | [⏪](./1.INTRODUCCION_A_NUMPY.ipynb)| [⏩](./3.VISUALIZACION_EN_PYTHON_(MATPLOTLIB).ipynb)|"
   ]
  },
  {
   "attachments": {},
   "cell_type": "markdown",
   "metadata": {},
   "source": [
    "# **2. INTRODUCCIÓN A PANDAS**"
   ]
  },
  {
   "attachments": {},
   "cell_type": "markdown",
   "metadata": {},
   "source": [
    "## **Series y dataframes**"
   ]
  },
  {
   "attachments": {},
   "cell_type": "markdown",
   "metadata": {},
   "source": [
    "En la biblioteca de Python llamada pandas, se encuentran dos estructuras de datos fundamentales: la Serie (Series) y el DataFrame (DataFrame).\n",
    "\n",
    "* **Serie (Series):**\n",
    "\n",
    "Una Serie es una estructura de datos unidimensional que puede contener cualquier tipo de datos, como números, cadenas de texto, fechas, etc. Puede verse como una columna en una tabla o una matriz de una sola dimensión. Cada elemento en una Serie tiene una etiqueta asociada llamada índice.\n",
    "\n",
    "Ejemplo:"
   ]
  },
  {
   "cell_type": "code",
   "execution_count": 1,
   "metadata": {},
   "outputs": [
    {
     "name": "stdout",
     "output_type": "stream",
     "text": [
      "0    10\n",
      "1    20\n",
      "2    30\n",
      "3    40\n",
      "4    50\n",
      "dtype: int64\n"
     ]
    }
   ],
   "source": [
    "import pandas as pd\n",
    "\n",
    "# Crear una Serie a partir de una lista\n",
    "data = [10, 20, 30, 40, 50]\n",
    "serie = pd.Series(data)\n",
    "\n",
    "print(serie)\n",
    "# Salida:\n",
    "# 0    10\n",
    "# 1    20\n",
    "# 2    30\n",
    "# 3    40\n",
    "# 4    50\n",
    "# dtype: int64"
   ]
  },
  {
   "attachments": {},
   "cell_type": "markdown",
   "metadata": {},
   "source": [
    "* **DataFrame (DataFrame):**\n",
    "\n",
    "Un `DataFrame` es una estructura de datos bidimensional que puede almacenar y manipular datos tabulares con filas y columnas etiquetadas. Puede verse como una tabla en una base de datos o una matriz de dos dimensiones. Cada columna en un `DataFrame` es una Serie.\n",
    "\n",
    "Ejemplo:"
   ]
  },
  {
   "cell_type": "code",
   "execution_count": 2,
   "metadata": {},
   "outputs": [
    {
     "name": "stdout",
     "output_type": "stream",
     "text": [
      "  Nombre  Edad     Ciudad\n",
      "0   Juan    25     Madrid\n",
      "1  María    30  Barcelona\n",
      "2  Pedro    35   Valencia\n"
     ]
    }
   ],
   "source": [
    "import pandas as pd\n",
    "\n",
    "# Crear un DataFrame a partir de un diccionario\n",
    "data = {'Nombre': ['Juan', 'María', 'Pedro'],\n",
    "        'Edad': [25, 30, 35],\n",
    "        'Ciudad': ['Madrid', 'Barcelona', 'Valencia']}\n",
    "df = pd.DataFrame(data)\n",
    "\n",
    "print(df)\n",
    "# Salida:\n",
    "#   Nombre  Edad      Ciudad\n",
    "# 0   Juan    25      Madrid\n",
    "# 1  María    30  Barcelona\n",
    "# 2  Pedro    35    Valencia"
   ]
  },
  {
   "attachments": {},
   "cell_type": "markdown",
   "metadata": {},
   "source": [
    "Las Series y los DataFrames son estructuras de datos poderosas que ofrecen diversas funcionalidades para el análisis y manipulación de datos. Algunas operaciones comunes que se pueden realizar con ellos incluyen la selección y filtrado de datos, el cálculo de estadísticas descriptivas, la manipulación de columnas, el manejo de valores faltantes, la fusión y concatenación de datos, entre otros.\n",
    "\n",
    "Además, pandas proporciona numerosos métodos y funciones para realizar tareas específicas en Series y DataFrames, como operaciones aritméticas, agregaciones, ordenamiento, agrupación, fusiones, entre otros.\n",
    "\n",
    "En resumen, las Series y los DataFrames de pandas son estructuras de datos flexibles y eficientes para trabajar con datos tabulares en Python. Son ampliamente utilizados en análisis de datos, manipulación de datos, preparación de datos y tareas de modelado y visualización de datos."
   ]
  },
  {
   "attachments": {},
   "cell_type": "markdown",
   "metadata": {},
   "source": [
    "## **Indexado y manejo de archivos separados por comas (CSV)**"
   ]
  },
  {
   "attachments": {},
   "cell_type": "markdown",
   "metadata": {},
   "source": [
    "El indexado y manejo de archivos separados por comas (CSV) es una parte fundamental en el procesamiento y análisis de datos. El formato CSV se utiliza ampliamente para almacenar y compartir conjuntos de datos tabulares.\n",
    "\n",
    "En Python, la biblioteca pandas proporciona una forma fácil y eficiente de trabajar con archivos CSV. A continuación se muestra una explicación detallada de cómo realizar el indexado y manejo de archivos CSV utilizando pandas:\n",
    "\n",
    "* **Indexado de archivos CSV:**\n",
    "\n",
    "Para leer un archivo `CSV` en un DataFrame de `pandas`, puedes utilizar la función `read_csv()`. Esta función lee el archivo CSV y lo carga en un DataFrame. Por defecto, la primera fila del archivo CSV se considera como la fila de encabezado y se utiliza como nombres de columna en el DataFrame.\n",
    "\n",
    "Ejemplo:"
   ]
  },
  {
   "cell_type": "code",
   "execution_count": null,
   "metadata": {},
   "outputs": [],
   "source": [
    "import pandas as pd\n",
    "\n",
    "# Leer archivo CSV en un DataFrame\n",
    "df = pd.read_csv('datos.csv')\n",
    "\n",
    "# Mostrar el contenido del DataFrame\n",
    "print(df)"
   ]
  },
  {
   "attachments": {},
   "cell_type": "markdown",
   "metadata": {},
   "source": [
    "* **Acceso y manipulación de datos en un DataFrame:**\n",
    "\n",
    "Una vez que has cargado el archivo CSV en un DataFrame, puedes acceder y manipular los datos utilizando diferentes técnicas de indexado. Algunas operaciones comunes incluyen:\n",
    "\n",
    "**Acceder a una columna específica:**"
   ]
  },
  {
   "cell_type": "code",
   "execution_count": null,
   "metadata": {},
   "outputs": [],
   "source": [
    "# Acceder a una columna por su nombre\n",
    "columna = df['Nombre de la Columna']\n",
    "\n",
    "# Acceder a varias columnas\n",
    "columnas = df[['Columna1', 'Columna2']]"
   ]
  },
  {
   "attachments": {},
   "cell_type": "markdown",
   "metadata": {},
   "source": [
    "**Acceder a una fila específica por su índice:**"
   ]
  },
  {
   "cell_type": "code",
   "execution_count": null,
   "metadata": {},
   "outputs": [],
   "source": [
    "fila = df.loc[indice]"
   ]
  },
  {
   "attachments": {},
   "cell_type": "markdown",
   "metadata": {},
   "source": [
    "**Filtrar filas basado en una condición:**"
   ]
  },
  {
   "cell_type": "code",
   "execution_count": null,
   "metadata": {},
   "outputs": [],
   "source": [
    "filas_filtradas = df[df['Columna'] > valor]"
   ]
  },
  {
   "attachments": {},
   "cell_type": "markdown",
   "metadata": {},
   "source": [
    "**Realizar operaciones en columnas:**"
   ]
  },
  {
   "cell_type": "code",
   "execution_count": null,
   "metadata": {},
   "outputs": [],
   "source": [
    "df['Nueva Columna'] = df['Columna1'] + df['Columna2']"
   ]
  },
  {
   "attachments": {},
   "cell_type": "markdown",
   "metadata": {},
   "source": [
    "* **Guardar un DataFrame en un archivo CSV:**\n",
    "\n",
    "Si deseas guardar un DataFrame modificado en un archivo CSV, puedes utilizar el método `to_csv()`. Este método permite especificar el nombre del archivo y otros parámetros, como el separador de campos, el formato de los números, etc.\n",
    "\n",
    "Ejemplo:"
   ]
  },
  {
   "cell_type": "code",
   "execution_count": null,
   "metadata": {},
   "outputs": [],
   "source": [
    "# Guardar el DataFrame en un archivo CSV\n",
    "df.to_csv('nuevo_datos.csv', index=False)"
   ]
  },
  {
   "attachments": {},
   "cell_type": "markdown",
   "metadata": {},
   "source": [
    "El indexado y manejo de archivos CSV con pandas proporciona una forma poderosa de trabajar con datos tabulares en Python. Te permite cargar, manipular, filtrar y guardar datos fácilmente. Además, pandas ofrece muchas más funcionalidades, como el manejo de valores faltantes, la agrupación de datos, el cálculo de estadísticas, entre otros, que pueden ayudarte en el análisis y procesamiento de datos."
   ]
  },
  {
   "attachments": {},
   "cell_type": "markdown",
   "metadata": {},
   "source": [
    "## **Formato de lectura para cargar y guardar dataframes**"
   ]
  },
  {
   "attachments": {},
   "cell_type": "markdown",
   "metadata": {},
   "source": [
    "Al cargar y guardar DataFrames en pandas, existen diferentes formatos de lectura y escritura disponibles. Estos formatos permiten leer y escribir datos en diversos formatos, como `CSV`, `Excel`, `SQL`, `JSON`, entre otros. A continuación, se presenta una explicación detallada de algunos de los formatos más comunes:\n",
    "\n",
    "1. **CSV (Comma Separated Values):**\n",
    "\n",
    "El formato `CSV` es ampliamente utilizado y es muy sencillo de leer y escribir. Los archivos `CSV` almacenan datos en formato tabular, donde cada columna se separa por comas y cada fila representa un registro de datos. Pandas proporciona la función `read_csv()` para leer archivos `CSV` y el método `to_csv()` para guardar un DataFrame en formato `CSV`.\n",
    "\n",
    "Ejemplo de lectura:"
   ]
  },
  {
   "cell_type": "code",
   "execution_count": null,
   "metadata": {},
   "outputs": [],
   "source": [
    "import pandas as pd\n",
    "\n",
    "# Leer archivo CSV en un DataFrame\n",
    "df = pd.read_csv('datos.csv')"
   ]
  },
  {
   "attachments": {},
   "cell_type": "markdown",
   "metadata": {},
   "source": [
    "Ejemplo de escritura:"
   ]
  },
  {
   "cell_type": "code",
   "execution_count": null,
   "metadata": {},
   "outputs": [],
   "source": [
    "# Guardar DataFrame en un archivo CSV\n",
    "df.to_csv('nuevo_datos.csv', index=False)"
   ]
  },
  {
   "attachments": {},
   "cell_type": "markdown",
   "metadata": {},
   "source": [
    "2. **Excel:**\n",
    "\n",
    "Pandas también permite leer y escribir archivos en formato `Excel`. Para leer un archivo Excel, puedes utilizar la función `read_excel()`, y para guardar un `DataFrame` en formato `Excel`, puedes utilizar el método `to_excel()`.\n",
    "\n",
    "Ejemplo de lectura:"
   ]
  },
  {
   "cell_type": "code",
   "execution_count": null,
   "metadata": {},
   "outputs": [],
   "source": [
    "# Leer archivo Excel en un DataFrame\n",
    "df = pd.read_excel('datos.xlsx', sheet_name='Hoja1')"
   ]
  },
  {
   "attachments": {},
   "cell_type": "markdown",
   "metadata": {},
   "source": [
    "Ejemplo de escritura:"
   ]
  },
  {
   "cell_type": "code",
   "execution_count": null,
   "metadata": {},
   "outputs": [],
   "source": [
    "# Guardar DataFrame en un archivo Excel\n",
    "df.to_excel('nuevo_datos.xlsx', sheet_name='Hoja1', index=False)"
   ]
  },
  {
   "attachments": {},
   "cell_type": "markdown",
   "metadata": {},
   "source": [
    "3. **SQL (Structured Query Language):**\n",
    "\n",
    "Pandas es capaz de conectarse a bases de datos `SQL` y ejecutar consultas para leer y escribir datos. Puedes utilizar la función `read_sql()` para ejecutar consultas `SQL` y cargar los resultados en un `DataFrame`, y el método `to_sql()` para guardar un `DataFrame` en una tabla `SQL`.\n",
    "\n",
    "Ejemplo de lectura:"
   ]
  },
  {
   "cell_type": "code",
   "execution_count": null,
   "metadata": {},
   "outputs": [],
   "source": [
    "import pandas as pd\n",
    "import sqlite3\n",
    "\n",
    "# Conexión a la base de datos\n",
    "conn = sqlite3.connect('database.db')\n",
    "\n",
    "# Consulta SQL\n",
    "query = \"SELECT * FROM tabla\"\n",
    "\n",
    "# Leer datos desde la base de datos en un DataFrame\n",
    "df = pd.read_sql(query, conn)"
   ]
  },
  {
   "attachments": {},
   "cell_type": "markdown",
   "metadata": {},
   "source": [
    "Ejemplo de escritura:"
   ]
  },
  {
   "cell_type": "code",
   "execution_count": null,
   "metadata": {},
   "outputs": [],
   "source": [
    "# Guardar DataFrame en una tabla de la base de datos\n",
    "df.to_sql('tabla_nueva', conn, if_exists='replace', index=False)"
   ]
  },
  {
   "attachments": {},
   "cell_type": "markdown",
   "metadata": {},
   "source": [
    "4. **JSON (JavaScript Object Notation):**\n",
    "\n",
    "El formato `JSON` es ampliamente utilizado para el intercambio de datos en aplicaciones web. Pandas permite leer y escribir datos en formato `JSON`. Puedes utilizar la función `read_json()` para leer datos `JSON` y cargarlos en un `DataFrame`, y el método `to_json()` para guardar un `DataFrame` en formato `JSON`.\n",
    "\n",
    "Ejemplo de lectura:"
   ]
  },
  {
   "cell_type": "code",
   "execution_count": null,
   "metadata": {},
   "outputs": [],
   "source": [
    "import pandas as pd\n",
    "\n",
    "# Leer datos JSON en un DataFrame\n",
    "df = pd.read_json('datos.json')"
   ]
  },
  {
   "attachments": {},
   "cell_type": "markdown",
   "metadata": {},
   "source": [
    "Ejemplo de escritura:"
   ]
  },
  {
   "cell_type": "code",
   "execution_count": null,
   "metadata": {},
   "outputs": [],
   "source": [
    "# Guardar DataFrame en un archivo JSON\n",
    "df.to_json('nuevo_datos.json', orient='records')"
   ]
  },
  {
   "attachments": {},
   "cell_type": "markdown",
   "metadata": {},
   "source": [
    "Estos son solo algunos ejemplos de los formatos de lectura y escritura disponibles en pandas. La biblioteca también admite otros formatos, como HTML, HDF5, Parquet, entre otros. La elección del formato dependerá del tipo de datos y de cómo desees utilizarlos."
   ]
  },
  {
   "attachments": {},
   "cell_type": "markdown",
   "metadata": {},
   "source": [
    "## **Manipulación de dataframes**"
   ]
  },
  {
   "attachments": {},
   "cell_type": "markdown",
   "metadata": {},
   "source": [
    "La manipulación de DataFrames en pandas es una parte fundamental del análisis de datos. Permite realizar diversas operaciones para seleccionar, filtrar, transformar y combinar datos. A continuación, se presenta una explicación detallada de algunas operaciones comunes de manipulación de DataFrames en pandas, junto con ejemplos de código:\n",
    "\n",
    "1. **Selección de columnas:**\n",
    "\n",
    "Para seleccionar una o varias columnas de un `DataFrame`, puedes utilizar la sintaxis de corchetes `[]` o el método `loc[]`. Ambos métodos permiten seleccionar columnas por su nombre.\n",
    "\n",
    "Ejemplo:"
   ]
  },
  {
   "cell_type": "code",
   "execution_count": null,
   "metadata": {},
   "outputs": [],
   "source": [
    "import pandas as pd\n",
    "\n",
    "# Selección de una columna utilizando corchetes\n",
    "columna1 = df['nombre_columna1']\n",
    "\n",
    "# Selección de múltiples columnas utilizando corchetes\n",
    "columnas = df[['nombre_columna1', 'nombre_columna2']]\n",
    "\n",
    "# Selección de una columna utilizando el método loc[]\n",
    "columna1 = df.loc[:, 'nombre_columna1']"
   ]
  },
  {
   "attachments": {},
   "cell_type": "markdown",
   "metadata": {},
   "source": [
    "2. **Filtrado de filas:**\n",
    "\n",
    "Para filtrar filas en función de ciertas condiciones, puedes utilizar operadores lógicos y la sintaxis de corchetes `[]`. También puedes utilizar el método `loc[]` para realizar filtros más complejos.\n",
    "\n",
    "Ejemplo:"
   ]
  },
  {
   "cell_type": "code",
   "execution_count": null,
   "metadata": {},
   "outputs": [],
   "source": [
    "import pandas as pd\n",
    "\n",
    "# Filtrado utilizando una condición\n",
    "df_filtrado = df[df['nombre_columna'] > 10]\n",
    "\n",
    "# Filtrado utilizando múltiples condiciones\n",
    "df_filtrado = df[(df['nombre_columna1'] > 10) & (df['nombre_columna2'] < 5)]\n",
    "\n",
    "# Filtrado utilizando el método loc[]\n",
    "df_filtrado = df.loc[df['nombre_columna'] > 10, ['nombre_columna1', 'nombre_columna2']]"
   ]
  },
  {
   "attachments": {},
   "cell_type": "markdown",
   "metadata": {},
   "source": [
    "3. **Agregación de datos:**\n",
    "\n",
    "Para realizar operaciones de agregación en un DataFrame, como sumas, promedios o conteos, puedes utilizar el método `groupby()` junto con una función de agregación.\n",
    "\n",
    "Ejemplo:"
   ]
  },
  {
   "cell_type": "code",
   "execution_count": null,
   "metadata": {},
   "outputs": [],
   "source": [
    "import pandas as pd\n",
    "\n",
    "# Agrupación y suma de valores por categoría\n",
    "df_agregado = df.groupby('categoria')['valor'].sum()\n",
    "\n",
    "# Agrupación y promedio de valores por categoría\n",
    "df_agregado = df.groupby('categoria')['valor'].mean()\n",
    "\n",
    "# Agrupación y conteo de valores por categoría\n",
    "df_agregado = df.groupby('categoria').size()"
   ]
  },
  {
   "attachments": {},
   "cell_type": "markdown",
   "metadata": {},
   "source": [
    "4. **Ordenamiento de datos:**\n",
    "\n",
    "Para ordenar un DataFrame en función de una columna o varias columnas, puedes utilizar el método `sort_values()`. Puedes especificar el orden ascendente o descendente utilizando el parámetro `ascending`.\n",
    "\n",
    "Ejemplo:"
   ]
  },
  {
   "cell_type": "code",
   "execution_count": null,
   "metadata": {},
   "outputs": [],
   "source": [
    "import pandas as pd\n",
    "\n",
    "# Ordenamiento ascendente por una columna\n",
    "df_ordenado = df.sort_values('nombre_columna')\n",
    "\n",
    "# Ordenamiento descendente por una columna\n",
    "df_ordenado = df.sort_values('nombre_columna', ascending=False)\n",
    "\n",
    "# Ordenamiento por múltiples columnas\n",
    "df_ordenado = df.sort_values(['nombre_columna1', 'nombre_columna2'])"
   ]
  },
  {
   "attachments": {},
   "cell_type": "markdown",
   "metadata": {},
   "source": [
    "5. **Combinación de DataFrames:**\n",
    "\n",
    "Para combinar dos o más DataFrames en función de una columna o índice común, puedes utilizar el método `merge()`.\n",
    "\n",
    "Ejemplo:"
   ]
  },
  {
   "cell_type": "code",
   "execution_count": null,
   "metadata": {},
   "outputs": [],
   "source": [
    "import pandas as pd\n",
    "\n",
    "# Combinación de DataFrames por una columna común\n",
    "df_combinado = pd.merge(df1, df2, on='columna_comun')\n",
    "\n",
    "# Combinación de DataFrames por múltiples columnas comunes\n",
    "df_combinado = pd.merge(df1, df2, on=['columna_comun1', 'columna_comun2'])"
   ]
  },
  {
   "attachments": {},
   "cell_type": "markdown",
   "metadata": {},
   "source": [
    "## **Seleccionar columnas**"
   ]
  },
  {
   "cell_type": "code",
   "execution_count": 1,
   "metadata": {},
   "outputs": [
    {
     "name": "stdout",
     "output_type": "stream",
     "text": [
      "0     Juan\n",
      "1    María\n",
      "2    Pedro\n",
      "Name: Nombre, dtype: object\n",
      "   Edad     Ciudad\n",
      "0    25     Madrid\n",
      "1    30  Barcelona\n",
      "2    35   Valencia\n"
     ]
    }
   ],
   "source": [
    "import pandas as pd\n",
    "\n",
    "# Creación del DataFrame\n",
    "data = {'Nombre': ['Juan', 'María', 'Pedro'],\n",
    "        'Edad': [25, 30, 35],\n",
    "        'Ciudad': ['Madrid', 'Barcelona', 'Valencia']}\n",
    "df = pd.DataFrame(data)\n",
    "\n",
    "# Seleccionar una columna por nombre\n",
    "columna_nombre = df['Nombre']\n",
    "print(columna_nombre)\n",
    "\n",
    "# Seleccionar múltiples columnas por nombre\n",
    "columnas_edad_ciudad = df[['Edad', 'Ciudad']]\n",
    "print(columnas_edad_ciudad)"
   ]
  },
  {
   "attachments": {},
   "cell_type": "markdown",
   "metadata": {},
   "source": [
    "El código creará un DataFrame con tres columnas: '`Nombre`', '`Edad`' y '`Ciudad`'. Luego, se seleccionará la columna '`Nombre`' utilizando `df['Nombre']` y se almacenará en la variable `columna_nombre`. La impresión de `columna_nombre` mostrará los valores de esa columna:"
   ]
  },
  {
   "attachments": {},
   "cell_type": "markdown",
   "metadata": {},
   "source": [
    "```\n",
    "0     Juan\n",
    "1    María\n",
    "2    Pedro\n",
    "Name: Nombre, dtype: object\n",
    "```"
   ]
  },
  {
   "attachments": {},
   "cell_type": "markdown",
   "metadata": {},
   "source": [
    "Además, se seleccionarán las columnas '`Edad`' y '`Ciudad`' utilizando `df[['Edad', 'Ciudad']]` y se almacenarán en la variable `columnas_edad_ciudad`. La impresión de `columnas_edad_ciudad` mostrará las dos columnas seleccionadas:"
   ]
  },
  {
   "attachments": {},
   "cell_type": "markdown",
   "metadata": {},
   "source": [
    "```\n",
    "   Edad     Ciudad\n",
    "0    25     Madrid\n",
    "1    30  Barcelona\n",
    "2    35   Valencia\n",
    "```"
   ]
  },
  {
   "attachments": {},
   "cell_type": "markdown",
   "metadata": {},
   "source": [
    "Puedes modificar el código y los nombres de las columnas según tus necesidades para seleccionar las columnas deseadas de tu DataFrame."
   ]
  },
  {
   "attachments": {},
   "cell_type": "markdown",
   "metadata": {},
   "source": [
    "## **Seleccionar filas por valor**"
   ]
  },
  {
   "attachments": {},
   "cell_type": "markdown",
   "metadata": {},
   "source": [
    "Por supuesto, aquí tienes un ejemplo de cómo seleccionar filas por valor en un DataFrame. Además, crearé el DataFrame para que puedas probarlo:"
   ]
  },
  {
   "cell_type": "code",
   "execution_count": 2,
   "metadata": {},
   "outputs": [
    {
     "name": "stdout",
     "output_type": "stream",
     "text": [
      "  Nombre  Edad  Ciudad\n",
      "0   Juan    25  Madrid\n",
      "3    Ana    28  Madrid\n",
      "  Nombre  Edad    Ciudad\n",
      "2  Pedro    35  Valencia\n"
     ]
    }
   ],
   "source": [
    "import pandas as pd\n",
    "\n",
    "# Creación del DataFrame\n",
    "data = {'Nombre': ['Juan', 'María', 'Pedro', 'Ana'],\n",
    "        'Edad': [25, 30, 35, 28],\n",
    "        'Ciudad': ['Madrid', 'Barcelona', 'Valencia', 'Madrid']}\n",
    "df = pd.DataFrame(data)\n",
    "\n",
    "# Seleccionar filas donde el valor de la columna 'Ciudad' sea 'Madrid'\n",
    "filas_madrid = df[df['Ciudad'] == 'Madrid']\n",
    "print(filas_madrid)\n",
    "\n",
    "# Seleccionar filas donde el valor de la columna 'Edad' sea mayor que 30\n",
    "filas_edad_mayor_30 = df[df['Edad'] > 30]\n",
    "print(filas_edad_mayor_30)"
   ]
  },
  {
   "attachments": {},
   "cell_type": "markdown",
   "metadata": {},
   "source": [
    "En este ejemplo, el DataFrame tiene tres columnas: '`Nombre`', '`Edad`' y '`Ciudad`', y cuatro filas de datos. Luego, se utilizan condiciones para seleccionar filas específicas:\n",
    "\n",
    "* Para seleccionar filas donde el valor de la columna '`Ciudad`' sea '`Madrid`', utilizamos `df[df['Ciudad'] == 'Madrid']`. Esto creará un nuevo DataFrame llamado `filas_madrid` que contiene solo las filas donde el valor de la columna '`Ciudad`' sea 'Madrid'. La impresión de `filas_madrid` mostrará las filas seleccionadas:"
   ]
  },
  {
   "attachments": {},
   "cell_type": "markdown",
   "metadata": {},
   "source": [
    "```\n",
    "  Nombre  Edad  Ciudad\n",
    "0   Juan    25  Madrid\n",
    "3    Ana    28  Madrid\n",
    "```"
   ]
  },
  {
   "attachments": {},
   "cell_type": "markdown",
   "metadata": {},
   "source": [
    "* Para seleccionar filas donde el valor de la columna '`Edad`' sea mayor que `30`, utilizamos `df[df['Edad'] > 30]`. Esto creará un nuevo DataFrame llamado `filas_edad_mayor_30` que contiene solo las filas donde el valor de la columna '`Edad`' sea mayor que `30`. La impresión de `filas_edad_mayor_30` mostrará las filas seleccionadas:"
   ]
  },
  {
   "attachments": {},
   "cell_type": "markdown",
   "metadata": {},
   "source": [
    "```\n",
    "  Nombre  Edad    Ciudad\n",
    "2  Pedro    35  Valencia\n",
    "```"
   ]
  },
  {
   "attachments": {},
   "cell_type": "markdown",
   "metadata": {},
   "source": [
    "Puedes ajustar las condiciones y los nombres de columna según tus necesidades para seleccionar las filas deseadas en tu DataFrame."
   ]
  },
  {
   "attachments": {},
   "cell_type": "markdown",
   "metadata": {},
   "source": [
    "## **Seleccionar filas por índice**"
   ]
  },
  {
   "cell_type": "code",
   "execution_count": 3,
   "metadata": {},
   "outputs": [
    {
     "name": "stdout",
     "output_type": "stream",
     "text": [
      "  Nombre  Edad     Ciudad\n",
      "A   Juan    25     Madrid\n",
      "B  María    30  Barcelona\n",
      "C  Pedro    35   Valencia\n",
      "D    Ana    28    Sevilla\n",
      "Nombre      Juan\n",
      "Edad          25\n",
      "Ciudad    Madrid\n",
      "Name: A, dtype: object\n",
      "  Nombre  Edad     Ciudad\n",
      "B  María    30  Barcelona\n",
      "C  Pedro    35   Valencia\n"
     ]
    }
   ],
   "source": [
    "import pandas as pd\n",
    "\n",
    "# Creación del DataFrame\n",
    "data = {'Nombre': ['Juan', 'María', 'Pedro', 'Ana'],\n",
    "        'Edad': [25, 30, 35, 28],\n",
    "        'Ciudad': ['Madrid', 'Barcelona', 'Valencia', 'Sevilla']}\n",
    "df = pd.DataFrame(data, index=['A', 'B', 'C', 'D'])\n",
    "print(df)\n",
    "\n",
    "# Seleccionar una fila por índice\n",
    "fila_a = df.loc['A']\n",
    "print(fila_a)\n",
    "\n",
    "# Seleccionar varias filas por índices\n",
    "filas_bc = df.loc[['B', 'C']]\n",
    "print(filas_bc)"
   ]
  },
  {
   "attachments": {},
   "cell_type": "markdown",
   "metadata": {},
   "source": [
    "En este ejemplo, el DataFrame tiene tres columnas: '`Nombre`', '`Edad`' y '`Ciudad`', y cuatro filas de datos con índices '`A`', '`B`', '`C`' y '`D`'. Luego, se utilizan los índices para seleccionar filas específicas:\n",
    "\n",
    "* Para seleccionar una fila por índice, utilizamos `df.loc['A']` donde '`A`' es el índice de la fila que deseamos seleccionar. Esto devuelve una Serie que contiene los valores de la fila correspondiente. La impresión de `fila_a` mostrará la fila seleccionada:"
   ]
  },
  {
   "attachments": {},
   "cell_type": "markdown",
   "metadata": {},
   "source": [
    "```\n",
    "Nombre       Juan\n",
    "Edad           25\n",
    "Ciudad    Madrid\n",
    "Name: A, dtype: object\n",
    "```"
   ]
  },
  {
   "attachments": {},
   "cell_type": "markdown",
   "metadata": {},
   "source": [
    "* Para seleccionar varias filas por índices, utilizamos `df.loc[['B', 'C']]` donde `['B', 'C']` son los índices de las filas que deseamos seleccionar. Esto devuelve un nuevo DataFrame que contiene las filas seleccionadas. La impresión de `filas_bc` mostrará las filas seleccionadas:"
   ]
  },
  {
   "attachments": {},
   "cell_type": "markdown",
   "metadata": {},
   "source": [
    "```\n",
    "  Nombre  Edad     Ciudad\n",
    "B  María    30  Barcelona\n",
    "C  Pedro    35   Valencia\n",
    "```"
   ]
  },
  {
   "attachments": {},
   "cell_type": "markdown",
   "metadata": {},
   "source": [
    "Puedes ajustar los índices y los nombres de columna según tus necesidades para seleccionar las filas deseadas en tu DataFrame."
   ]
  },
  {
   "attachments": {},
   "cell_type": "markdown",
   "metadata": {},
   "source": [
    "## **Cambiar tipos de columnas**"
   ]
  },
  {
   "cell_type": "code",
   "execution_count": 4,
   "metadata": {},
   "outputs": [
    {
     "name": "stdout",
     "output_type": "stream",
     "text": [
      "  Nombre  Edad     Ciudad\n",
      "0   Juan    25     Madrid\n",
      "1  María    30  Barcelona\n",
      "2  Pedro    35   Valencia\n",
      "3    Ana    28    Sevilla\n",
      "Nombre    object\n",
      "Edad       int64\n",
      "Ciudad    object\n",
      "dtype: object\n",
      "Nombre     object\n",
      "Edad      float64\n",
      "Ciudad     object\n",
      "dtype: object\n",
      "Nombre    category\n",
      "Edad       float64\n",
      "Ciudad      object\n",
      "dtype: object\n"
     ]
    }
   ],
   "source": [
    "import pandas as pd\n",
    "\n",
    "# Creación del DataFrame\n",
    "data = {'Nombre': ['Juan', 'María', 'Pedro', 'Ana'],\n",
    "        'Edad': [25, 30, 35, 28],\n",
    "        'Ciudad': ['Madrid', 'Barcelona', 'Valencia', 'Sevilla']}\n",
    "df = pd.DataFrame(data)\n",
    "print(df)\n",
    "print(df.dtypes)\n",
    "\n",
    "# Cambiar el tipo de columna 'Edad' a float\n",
    "df['Edad'] = df['Edad'].astype(float)\n",
    "print(df.dtypes)\n",
    "\n",
    "# Cambiar el tipo de columna 'Nombre' a categoría\n",
    "df['Nombre'] = df['Nombre'].astype('category')\n",
    "print(df.dtypes)"
   ]
  },
  {
   "attachments": {},
   "cell_type": "markdown",
   "metadata": {},
   "source": [
    "En este ejemplo, el DataFrame tiene tres columnas: '`Nombre`', '`Edad`' y '`Ciudad`'. El tipo de datos de cada columna se muestra usando `df.dtypes`.\n",
    "\n",
    "* Para cambiar el tipo de columna '`Edad`' a `float`, utilizamos `df['Edad'] = df['Edad'].astype(float)`. Esto convertirá los valores de la columna '`Edad`' en números de punto flotante.\n",
    "\n",
    "* Para cambiar el tipo de columna '`Nombre`' a categoría, utilizamos `df['Nombre'] = df['Nombre'].astype('category')`. Esto convertirá los valores de la columna '`Nombre`' en categorías, lo que puede ser útil para columnas con un número limitado de valores únicos.\n",
    "\n",
    "Después de cada cambio de tipo de columna, podemos verificar los nuevos tipos de datos utilizando `df.dtypes`.\n",
    "\n",
    "La salida del código será la siguiente:"
   ]
  },
  {
   "attachments": {},
   "cell_type": "markdown",
   "metadata": {},
   "source": [
    "```\n",
    "  Nombre  Edad     Ciudad\n",
    "0   Juan    25     Madrid\n",
    "1  María    30  Barcelona\n",
    "2  Pedro    35   Valencia\n",
    "3    Ana    28    Sevilla\n",
    "Nombre    object\n",
    "Edad       int64\n",
    "Ciudad    object\n",
    "dtype: object\n",
    "\n",
    "Nombre     object\n",
    "Edad      float64\n",
    "Ciudad     object\n",
    "dtype: object\n",
    "\n",
    "Nombre    category\n",
    "Edad       float64\n",
    "Ciudad      object\n",
    "dtype: object\n",
    "```"
   ]
  },
  {
   "attachments": {},
   "cell_type": "markdown",
   "metadata": {},
   "source": [
    "Puedes ajustar los nombres de columna y los tipos de datos según tus necesidades en tu DataFrame. Recuerda que algunos cambios de tipo de columna pueden requerir que los datos sean coherentes con el nuevo tipo."
   ]
  },
  {
   "attachments": {},
   "cell_type": "markdown",
   "metadata": {},
   "source": [
    "## **Concatenar dataframes**"
   ]
  },
  {
   "cell_type": "code",
   "execution_count": 5,
   "metadata": {},
   "outputs": [
    {
     "name": "stdout",
     "output_type": "stream",
     "text": [
      "Concatenación por filas:\n",
      "   A   B\n",
      "0  1   4\n",
      "1  2   5\n",
      "2  3   6\n",
      "0  7  10\n",
      "1  8  11\n",
      "2  9  12\n",
      "\n",
      "Concatenación por columnas:\n",
      "   A  B  A   B\n",
      "0  1  4  7  10\n",
      "1  2  5  8  11\n",
      "2  3  6  9  12\n"
     ]
    }
   ],
   "source": [
    "import pandas as pd\n",
    "\n",
    "# Creación de los DataFrames\n",
    "df1 = pd.DataFrame({'A': [1, 2, 3],\n",
    "                    'B': [4, 5, 6]})\n",
    "df2 = pd.DataFrame({'A': [7, 8, 9],\n",
    "                    'B': [10, 11, 12]})\n",
    "\n",
    "# Concatenación por filas (eje 0)\n",
    "df_concat_rows = pd.concat([df1, df2])\n",
    "print(\"Concatenación por filas:\")\n",
    "print(df_concat_rows)\n",
    "\n",
    "# Concatenación por columnas (eje 1)\n",
    "df_concat_cols = pd.concat([df1, df2], axis=1)\n",
    "print(\"\\nConcatenación por columnas:\")\n",
    "print(df_concat_cols)"
   ]
  },
  {
   "attachments": {},
   "cell_type": "markdown",
   "metadata": {},
   "source": [
    "En este ejemplo, creamos dos DataFrames, `df1` y `df2`, con columnas '`A`' y '`B`'. Luego utilizamos la función `pd.concat()` para concatenarlos.\n",
    "\n",
    "* Para concatenar por filas, es decir, unir los DataFrames uno debajo del otro, usamos `pd.concat([df1, df2])`. Por defecto, la concatenación se realiza a lo largo del eje 0, que corresponde a las filas. El resultado se guarda en `df_concat_rows`.\n",
    "\n",
    "* Para concatenar por columnas, es decir, unir los DataFrames lado a lado, usamos `pd.concat([df1, df2], axis=1)`. Especificamos `axis=1` para indicar que queremos concatenar a lo largo del eje `1`, que corresponde a las columnas. El resultado se guarda en `df_concat_cols`.\n",
    "\n",
    "La salida del código será la siguiente:"
   ]
  },
  {
   "attachments": {},
   "cell_type": "markdown",
   "metadata": {},
   "source": [
    "```\n",
    "Concatenación por filas:\n",
    "   A   B\n",
    "0  1   4\n",
    "1  2   5\n",
    "2  3   6\n",
    "0  7  10\n",
    "1  8  11\n",
    "2  9  12\n",
    "\n",
    "Concatenación por columnas:\n",
    "   A  B  A   B\n",
    "0  1  4  7  10\n",
    "1  2  5  8  11\n",
    "2  3  6  9  12\n",
    "```"
   ]
  },
  {
   "attachments": {},
   "cell_type": "markdown",
   "metadata": {},
   "source": [
    "Puedes ajustar los nombres de columna y los datos según tus necesidades en tus DataFrames. Además, ten en cuenta que la concatenación puede realizarse en función de los índices existentes o se pueden generar nuevos índices."
   ]
  },
  {
   "attachments": {},
   "cell_type": "markdown",
   "metadata": {},
   "source": [
    "## **Agregar, eliminar, editar filas y columnas**"
   ]
  },
  {
   "cell_type": "code",
   "execution_count": 6,
   "metadata": {},
   "outputs": [
    {
     "name": "stdout",
     "output_type": "stream",
     "text": [
      "DataFrame original:\n",
      "  Nombre  Edad  Ciudad\n",
      "0   Juan    25  México\n",
      "1  María    30  Madrid\n",
      "2  Pedro    35    Lima\n",
      "\n",
      "DataFrame con una nueva columna:\n",
      "  Nombre  Edad  Ciudad Género\n",
      "0   Juan    25  México      M\n",
      "1  María    30  Madrid      F\n",
      "2  Pedro    35    Lima      M\n",
      "\n",
      "DataFrame sin la columna 'Ciudad':\n",
      "  Nombre  Edad Género\n",
      "0   Juan    25      M\n",
      "1  María    30      F\n",
      "2  Pedro    35      M\n",
      "\n",
      "DataFrame con una nueva fila:\n",
      "  Nombre  Edad Género\n",
      "0   Juan    25      M\n",
      "1  María    30      F\n",
      "2  Pedro    35      M\n",
      "3  Luisa    28      F\n",
      "\n",
      "DataFrame con el valor de la celda editado:\n",
      "  Nombre  Edad Género\n",
      "0   Juan    25      M\n",
      "1  María    30      F\n",
      "2  Pedro    36      M\n",
      "3  Luisa    28      F\n"
     ]
    },
    {
     "name": "stderr",
     "output_type": "stream",
     "text": [
      "/tmp/ipykernel_655/1854361497.py:23: FutureWarning: The frame.append method is deprecated and will be removed from pandas in a future version. Use pandas.concat instead.\n",
      "  df = df.append(nueva_fila, ignore_index=True)\n"
     ]
    }
   ],
   "source": [
    "import pandas as pd\n",
    "\n",
    "# Creación del DataFrame\n",
    "data = {'Nombre': ['Juan', 'María', 'Pedro'],\n",
    "        'Edad': [25, 30, 35],\n",
    "        'Ciudad': ['México', 'Madrid', 'Lima']}\n",
    "df = pd.DataFrame(data)\n",
    "print(\"DataFrame original:\")\n",
    "print(df)\n",
    "\n",
    "# Agregar una nueva columna\n",
    "df['Género'] = ['M', 'F', 'M']\n",
    "print(\"\\nDataFrame con una nueva columna:\")\n",
    "print(df)\n",
    "\n",
    "# Eliminar una columna\n",
    "df = df.drop('Ciudad', axis=1)\n",
    "print(\"\\nDataFrame sin la columna 'Ciudad':\")\n",
    "print(df)\n",
    "\n",
    "# Agregar una nueva fila\n",
    "nueva_fila = {'Nombre': 'Luisa', 'Edad': 28, 'Género': 'F'}\n",
    "df = df.append(nueva_fila, ignore_index=True)\n",
    "print(\"\\nDataFrame con una nueva fila:\")\n",
    "print(df)\n",
    "\n",
    "# Editar el valor de una celda\n",
    "df.at[2, 'Edad'] = 36\n",
    "print(\"\\nDataFrame con el valor de la celda editado:\")\n",
    "print(df)"
   ]
  },
  {
   "attachments": {},
   "cell_type": "markdown",
   "metadata": {},
   "source": [
    "En este ejemplo, creamos un DataFrame `df` con tres columnas: '`Nombre`', '`Edad`' y '`Ciudad`'. Luego, realizamos las siguientes operaciones:\n",
    "\n",
    "* **Agregar una nueva columna:** Usamos la sintaxis `df['Nueva Columna'] = [...]` para agregar una nueva columna al DataFrame. En este caso, agregamos la columna '`Género`' con valores '`M`', '`F`' y '`M`' respectivamente para cada fila.\n",
    "\n",
    "* **Eliminar una columna:** Utilizamos el método `drop()` para eliminar una columna del `DataFrame`. Especificamos el nombre de la columna y `axis=1` para indicar que queremos eliminar una columna en lugar de una fila.\n",
    "\n",
    "* **Agregar una nueva fila:** Creamos un diccionario `nueva_fila` con los valores de las columnas para la nueva fila. Luego, utilizamos el método `append()` para agregar la nueva fila al DataFrame. Es importante establecer `ignore_index=True` para que se generen nuevos índices para las filas.\n",
    "\n",
    "* **Editar el valor de una celda:** Usamos el método `at[]` para acceder a una celda específica del DataFrame y modificar su valor. Especificamos el índice de la fila y el nombre de la columna para acceder a la celda deseada.\n",
    "\n",
    "La salida del código será la siguiente:"
   ]
  },
  {
   "attachments": {},
   "cell_type": "markdown",
   "metadata": {},
   "source": [
    "```\n",
    "DataFrame original:\n",
    "  Nombre  Edad   Ciudad\n",
    "0   Juan    25   México\n",
    "1  María    30   Madrid\n",
    "2  Pedro    35     Lima\n",
    "\n",
    "DataFrame con una nueva columna:\n",
    "  Nombre  Edad   Ciudad Género\n",
    "0   Juan    25   México      M\n",
    "1  María    30   Madrid      F\n",
    "2  Pedro    35     Lima      M\n",
    "\n",
    "DataFrame sin la columna 'Ciudad':\n",
    "  Nombre  Edad Género\n",
    "0   Juan    25      M\n",
    "1  María    30      F\n",
    "2  Pedro    35      M\n",
    "\n",
    "DataFrame con una nueva fila:\n",
    "  Nombre  Edad Género\n",
    "0   Juan    25      M\n",
    "1  María    30      F\n",
    "2  Pedro    35      M\n",
    "3  Luisa    28      F\n",
    "\n",
    "DataFrame con el valor de la celda editado:\n",
    "  Nombre  Edad Género\n",
    "0   Juan    25      M\n",
    "1  María    30      F\n",
    "2  Pedro    36      M\n",
    "3  Luisa    28      F\n",
    "```"
   ]
  },
  {
   "attachments": {},
   "cell_type": "markdown",
   "metadata": {},
   "source": [
    "## **Funciones matemáticas en Pandas**"
   ]
  },
  {
   "attachments": {},
   "cell_type": "markdown",
   "metadata": {},
   "source": [
    "En pandas, puedes aplicar varias funciones matemáticas a los datos de un DataFrame. Estas funciones te permiten realizar cálculos estadísticos y operaciones matemáticas en columnas o filas específicas. Aquí tienes una explicación detallada con ejemplos:"
   ]
  },
  {
   "cell_type": "code",
   "execution_count": 7,
   "metadata": {},
   "outputs": [
    {
     "name": "stdout",
     "output_type": "stream",
     "text": [
      "DataFrame original:\n",
      "  Nombre  Edad  Altura\n",
      "0   Juan    25     170\n",
      "1  María    30     165\n",
      "2  Pedro    35     180\n",
      "3  Luisa    28     160\n",
      "\n",
      "Suma de la columna 'Edad': 118\n",
      "Promedio de la columna 'Altura': 168.75\n",
      "Mínimo de la columna 'Edad': 25\n",
      "Máximo de la columna 'Altura': 180\n",
      "\n",
      "DataFrame con nuevas columnas:\n",
      "  Nombre  Edad  Altura  Altura_metros  Edad_doble\n",
      "0   Juan    25     170           1.70          50\n",
      "1  María    30     165           1.65          60\n",
      "2  Pedro    35     180           1.80          70\n",
      "3  Luisa    28     160           1.60          56\n",
      "\n",
      "DataFrame con una nueva columna calculada:\n",
      "  Nombre  Edad  Altura  Altura_metros  Edad_doble  Diferencia_edad_altura\n",
      "0   Juan    25     170           1.70          50                    -145\n",
      "1  María    30     165           1.65          60                    -135\n",
      "2  Pedro    35     180           1.80          70                    -145\n",
      "3  Luisa    28     160           1.60          56                    -132\n"
     ]
    }
   ],
   "source": [
    "import pandas as pd\n",
    "\n",
    "# Creación del DataFrame\n",
    "data = {'Nombre': ['Juan', 'María', 'Pedro', 'Luisa'],\n",
    "        'Edad': [25, 30, 35, 28],\n",
    "        'Altura': [170, 165, 180, 160]}\n",
    "df = pd.DataFrame(data)\n",
    "print(\"DataFrame original:\")\n",
    "print(df)\n",
    "\n",
    "# Funciones estadísticas básicas\n",
    "print(\"\\nSuma de la columna 'Edad':\", df['Edad'].sum())\n",
    "print(\"Promedio de la columna 'Altura':\", df['Altura'].mean())\n",
    "print(\"Mínimo de la columna 'Edad':\", df['Edad'].min())\n",
    "print(\"Máximo de la columna 'Altura':\", df['Altura'].max())\n",
    "\n",
    "# Funciones matemáticas\n",
    "df['Altura_metros'] = df['Altura'] / 100\n",
    "df['Edad_doble'] = df['Edad'] * 2\n",
    "print(\"\\nDataFrame con nuevas columnas:\")\n",
    "print(df)\n",
    "\n",
    "# Operaciones entre columnas\n",
    "df['Diferencia_edad_altura'] = df['Edad'] - df['Altura']\n",
    "print(\"\\nDataFrame con una nueva columna calculada:\")\n",
    "print(df)"
   ]
  },
  {
   "attachments": {},
   "cell_type": "markdown",
   "metadata": {},
   "source": [
    "En este ejemplo, creamos un DataFrame `df` con tres columnas: '`Nombre`', '`Edad`' y '`Altura`'. Luego, aplicamos las siguientes operaciones:\n",
    "\n",
    "* **Funciones estadísticas básicas:** Utilizamos las funciones `sum()`, `mean()`, `min()` y `max()` para realizar cálculos estadísticos en las columnas del DataFrame. Por ejemplo, calculamos la suma de la columna '`Edad`' usando `df['Edad'].sum()` y el promedio de la columna '`Altura`' usando `df['Altura'].mean()`.\n",
    "\n",
    "* **Funciones matemáticas:** Podemos realizar operaciones matemáticas en las columnas del DataFrame. En este caso, dividimos la columna '`Altura`' por 100 y asignamos el resultado a una nueva columna '`Altura_metros`' usando `df['Altura'] / 100`. También multiplicamos la columna '`Edad`' por 2 y asignamos el resultado a una nueva columna '`Edad_doble`' usando `df['Edad'] * 2`.\n",
    "\n",
    "* **Operaciones entre columnas:** Podemos realizar operaciones aritméticas entre columnas y asignar el resultado a una nueva columna. En este ejemplo, restamos la columna '`Altura`' de la columna '`Edad`' y asignamos el resultado a una nueva columna '`Diferencia_edad_altura`' usando `df['Edad'] - df['Altura']`.\n",
    "\n",
    "La salida del código será la siguiente:"
   ]
  },
  {
   "attachments": {},
   "cell_type": "markdown",
   "metadata": {},
   "source": [
    "```\n",
    "DataFrame original:\n",
    "  Nombre  Edad  Altura\n",
    "0   Juan    25     170\n",
    "1  María    30     165\n",
    "2  Pedro    35     180\n",
    "3  Luisa    28     160\n",
    "\n",
    "Suma de la columna 'Edad': 118\n",
    "Promedio de la columna 'Altura': 168.75\n",
    "Mínimo de la columna 'Edad': 25\n",
    "Máximo de la columna 'Altura': 180\n",
    "\n",
    "DataFrame con nuevas columnas:\n",
    "  Nombre  Edad  Altura  Altura_metros  Edad_doble\n",
    "0   Juan    25     170           1.70          50\n",
    "1  María    30     165           1.65          60\n",
    "2  Pedro    35     180           1.80          70\n",
    "3  Luisa    28     160           1.60          56\n",
    "\n",
    "DataFrame con una nueva columna calculada:\n",
    "  Nombre  Edad  Altura  Altura_metros  Edad_doble  Diferencia_edad_altura\n",
    "0   Juan    25     170           1.70          50                    -145\n",
    "1  María    30     165           1.65          60                    -135\n",
    "2  Pedro    35     180           1.80          70                    -145\n",
    "3  Luisa    28     160           1.60          56                    -132\n",
    "```"
   ]
  },
  {
   "attachments": {},
   "cell_type": "markdown",
   "metadata": {},
   "source": [
    "En resumen, las funciones matemáticas en pandas te permiten realizar cálculos estadísticos, operaciones matemáticas y operaciones entre columnas en un DataFrame de manera eficiente. Estas funciones son útiles para el análisis y procesamiento de datos en proyectos de ciencia de datos."
   ]
  },
  {
   "attachments": {},
   "cell_type": "markdown",
   "metadata": {},
   "source": [
    "## **Operadores en Pandas**"
   ]
  },
  {
   "attachments": {},
   "cell_type": "markdown",
   "metadata": {},
   "source": [
    "En pandas, puedes utilizar una variedad de operadores para realizar diferentes manipulaciones en los DataFrames. Estos operadores te permiten realizar tareas como filtrar datos, realizar cálculos, combinar DataFrames y más. Aquí tienes una explicación detallada con ejemplos:"
   ]
  },
  {
   "cell_type": "code",
   "execution_count": 8,
   "metadata": {},
   "outputs": [
    {
     "name": "stdout",
     "output_type": "stream",
     "text": [
      "DataFrame original:\n",
      "  Nombre  Edad  Altura\n",
      "0   Juan    25     170\n",
      "1  María    30     165\n",
      "2  Pedro    35     180\n",
      "3  Luisa    28     160\n",
      "\n",
      "Operador de igualdad:\n",
      "0    False\n",
      "1     True\n",
      "2    False\n",
      "3    False\n",
      "Name: Edad, dtype: bool\n",
      "\n",
      "Operador de mayor que:\n",
      "0     True\n",
      "1    False\n",
      "2     True\n",
      "3    False\n",
      "Name: Altura, dtype: bool\n",
      "\n",
      "Operador de menor o igual que:\n",
      "0     True\n",
      "1    False\n",
      "2    False\n",
      "3     True\n",
      "Name: Edad, dtype: bool\n",
      "\n",
      "Operador de combinación de condiciones:\n",
      "0    False\n",
      "1     True\n",
      "2    False\n",
      "3     True\n",
      "dtype: bool\n",
      "\n",
      "Operador de negación:\n",
      "0     True\n",
      "1    False\n",
      "2     True\n",
      "3     True\n",
      "Name: Edad, dtype: bool\n",
      "\n",
      "Operador de selección de columnas:\n",
      "  Nombre  Edad\n",
      "0   Juan    25\n",
      "1  María    30\n",
      "2  Pedro    35\n",
      "3  Luisa    28\n",
      "\n",
      "DataFrame con nueva columna:\n",
      "  Nombre  Edad  Altura  Altura_cm\n",
      "0   Juan    25     170       1.70\n",
      "1  María    30     165       1.65\n",
      "2  Pedro    35     180       1.80\n",
      "3  Luisa    28     160       1.60\n"
     ]
    }
   ],
   "source": [
    "import pandas as pd\n",
    "\n",
    "# Creación del DataFrame\n",
    "data = {'Nombre': ['Juan', 'María', 'Pedro', 'Luisa'],\n",
    "        'Edad': [25, 30, 35, 28],\n",
    "        'Altura': [170, 165, 180, 160]}\n",
    "df = pd.DataFrame(data)\n",
    "print(\"DataFrame original:\")\n",
    "print(df)\n",
    "\n",
    "# Operador de igualdad\n",
    "igualdad = df['Edad'] == 30\n",
    "print(\"\\nOperador de igualdad:\")\n",
    "print(igualdad)\n",
    "\n",
    "# Operador de mayor que\n",
    "mayor_que = df['Altura'] > 165\n",
    "print(\"\\nOperador de mayor que:\")\n",
    "print(mayor_que)\n",
    "\n",
    "# Operador de menor o igual que\n",
    "menor_igual_que = df['Edad'] <= 28\n",
    "print(\"\\nOperador de menor o igual que:\")\n",
    "print(menor_igual_que)\n",
    "\n",
    "# Operador de combinación de condiciones\n",
    "condicion = (df['Edad'] > 25) & (df['Altura'] < 180)\n",
    "print(\"\\nOperador de combinación de condiciones:\")\n",
    "print(condicion)\n",
    "\n",
    "# Operador de negación\n",
    "negacion = ~(df['Edad'] == 30)\n",
    "print(\"\\nOperador de negación:\")\n",
    "print(negacion)\n",
    "\n",
    "# Operador de selección de columnas\n",
    "columnas = df[['Nombre', 'Edad']]\n",
    "print(\"\\nOperador de selección de columnas:\")\n",
    "print(columnas)\n",
    "\n",
    "# Operador de asignación\n",
    "df['Altura_cm'] = df['Altura'] / 100\n",
    "print(\"\\nDataFrame con nueva columna:\")\n",
    "print(df)"
   ]
  },
  {
   "attachments": {},
   "cell_type": "markdown",
   "metadata": {},
   "source": [
    "En este ejemplo, creamos un DataFrame `df` con tres columnas: '`Nombre`', '`Edad`' y '`Altura`'. A continuación, aplicamos los siguientes operadores:\n",
    "\n",
    "* **Operador de igualdad:** Utilizamos el operador `==` para verificar si los valores de la columna '`Edad`' son iguales a `30`. Esto devuelve una serie de valores booleanos que indican si la condición se cumple o no.\n",
    "\n",
    "* **Operador de mayor que:** Utilizamos el operador `>` para verificar si los valores de la columna '`Altura`' son mayores que `165`. Esto también devuelve una serie de valores booleanos.\n",
    "\n",
    "* **Operador de menor o igual que:** Utilizamos el operador `<=` para verificar si los valores de la columna '`Edad`' son menores o iguales a `28`. Al igual que los ejemplos anteriores, esto devuelve una serie de valores booleanos.\n",
    "\n",
    "* **Operador de combinación de condiciones:** Utilizamos los operadores `>` y `<` junto con el operador `&` para combinar dos condiciones. En este caso, verificamos si los valores de la columna '`Edad`' son mayores a `25` y los valores de la columna '`Altura`' son menores a `180`.\n",
    "\n",
    "* **Operador de negación:** Utilizamos el operador `~` para negar una condición. En este ejemplo, negamos la condición de que los valores de la columna '`Edad`' sean iguales a `30`.\n",
    "\n",
    "* **Operador de selección de columnas:** Utilizamos el operador `[]` para seleccionar columnas específicas del DataFrame. En este caso, seleccionamos las columnas '`Nombre`' y '`Edad`'.\n",
    "\n",
    "* **Operador de asignación:** Utilizamos el operador `=` para asignar nuevos valores a una columna existente o crear una nueva columna. En este ejemplo, dividimos los valores de la columna '`Altura`' por `100` y los asignamos a una nueva columna llamada '`Altura_cm`'.\n",
    "\n",
    "Recuerda que estos son solo algunos ejemplos de operadores disponibles en pandas. Hay muchos más operadores y funciones que puedes utilizar para manipular y analizar tus datos en DataFrames."
   ]
  },
  {
   "attachments": {},
   "cell_type": "markdown",
   "metadata": {},
   "source": [
    "| **Inicio** | **atrás 1** | **Siguiente 3** |\n",
    "|----------- |-------------- |---------------|\n",
    "| [🏠](../../../README.md) | [⏪](./1.INTRODUCCION_A_NUMPY.ipynb)| [⏩](./3.VISUALIZACION_EN_PYTHON_(MATPLOTLIB).ipynb)|"
   ]
  }
 ],
 "metadata": {
  "kernelspec": {
   "display_name": "base",
   "language": "python",
   "name": "python3"
  },
  "language_info": {
   "codemirror_mode": {
    "name": "ipython",
    "version": 3
   },
   "file_extension": ".py",
   "mimetype": "text/x-python",
   "name": "python",
   "nbconvert_exporter": "python",
   "pygments_lexer": "ipython3",
   "version": "3.9.12"
  },
  "orig_nbformat": 4
 },
 "nbformat": 4,
 "nbformat_minor": 2
}
