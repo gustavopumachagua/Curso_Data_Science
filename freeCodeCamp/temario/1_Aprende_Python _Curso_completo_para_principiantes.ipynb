{
 "cells": [
  {
   "cell_type": "markdown",
   "metadata": {},
   "source": [
    "| **Inicio** | **Siguiente 2** |\n",
    "|----------- |---------------|\n",
    "| [🏠](../../README.md) | [⏩](./2_Python_para_ciencia_de_datos.ipynb)|"
   ]
  },
  {
   "cell_type": "markdown",
   "metadata": {},
   "source": [
    "# **1. Aprende Python: Curso completo para principiantes**"
   ]
  },
  {
   "cell_type": "markdown",
   "metadata": {},
   "source": [
    "## **Ajustes y \"Hello World\"**"
   ]
  },
  {
   "cell_type": "code",
   "execution_count": 1,
   "metadata": {},
   "outputs": [
    {
     "name": "stdout",
     "output_type": "stream",
     "text": [
      "Hello World\n"
     ]
    }
   ],
   "source": [
    "print(\"Hello World\")"
   ]
  },
  {
   "cell_type": "markdown",
   "metadata": {},
   "source": [
    "## **Dibujar una forma**"
   ]
  },
  {
   "cell_type": "code",
   "execution_count": 2,
   "metadata": {},
   "outputs": [
    {
     "name": "stdout",
     "output_type": "stream",
     "text": [
      "    /|\n",
      "   / |\n",
      "  /  |\n",
      " /   |\n",
      "/____|\n"
     ]
    }
   ],
   "source": [
    "print(\"    /|\")\n",
    "print(\"   / |\")\n",
    "print(\"  /  |\")\n",
    "print(\" /   |\")\n",
    "print(\"/____|\")"
   ]
  },
  {
   "cell_type": "markdown",
   "metadata": {},
   "source": [
    "## **Variables y Tipos de datos**"
   ]
  },
  {
   "cell_type": "code",
   "execution_count": 10,
   "metadata": {},
   "outputs": [
    {
     "name": "stdout",
     "output_type": "stream",
     "text": [
      "There once was a man named john, \n",
      "he was 35.5 years old. \n",
      "but didn't like being 35.5.\n",
      "There once was a man named Michael, \n",
      "he was 35.5 years old. \n",
      "but didn't like being 35.5.\n"
     ]
    }
   ],
   "source": [
    "character_name = \"john\"\n",
    "character_age = 35.5\n",
    "is_male = False\n",
    "\n",
    "print(\"There once was a man named \" + character_name + \", \")\n",
    "print(\"he was \" + str(character_age) + \" years old. \")\n",
    "print(\"but didn't like being \" + str(character_age) + \".\")\n",
    "\n",
    "character_name = \"Michael\"\n",
    "print(\"There once was a man named \" + character_name + \", \")\n",
    "print(\"he was \" + str(character_age) + \" years old. \")\n",
    "print(\"but didn't like being \" + str(character_age) + \".\")\n"
   ]
  },
  {
   "cell_type": "markdown",
   "metadata": {},
   "source": [
    "## **Trabajando con strings**"
   ]
  },
  {
   "cell_type": "code",
   "execution_count": 11,
   "metadata": {},
   "outputs": [
    {
     "name": "stdout",
     "output_type": "stream",
     "text": [
      "Giraffe\n",
      "Academy\n"
     ]
    }
   ],
   "source": [
    "print(\"Giraffe\\nAcademy\")"
   ]
  },
  {
   "cell_type": "code",
   "execution_count": 12,
   "metadata": {},
   "outputs": [
    {
     "name": "stdout",
     "output_type": "stream",
     "text": [
      "Giraffe\"Academy\n"
     ]
    }
   ],
   "source": [
    "print(\"Giraffe\\\"Academy\")"
   ]
  },
  {
   "cell_type": "code",
   "execution_count": 13,
   "metadata": {},
   "outputs": [
    {
     "name": "stdout",
     "output_type": "stream",
     "text": [
      "Giraffe Academy is cool\n"
     ]
    }
   ],
   "source": [
    "phrase = \"Giraffe Academy\"\n",
    "print(phrase + \" is cool\")"
   ]
  },
  {
   "cell_type": "code",
   "execution_count": 16,
   "metadata": {},
   "outputs": [
    {
     "name": "stdout",
     "output_type": "stream",
     "text": [
      "giraffe academy\n",
      "GIRAFFE ACADEMY\n",
      "False\n",
      "True\n",
      "15\n",
      "G\n",
      "8\n",
      "Elephant Academy\n"
     ]
    }
   ],
   "source": [
    "phrase = \"Giraffe Academy\"\n",
    "print(phrase.lower())\n",
    "print(phrase.upper())\n",
    "print(phrase.isupper())\n",
    "print(phrase.upper().isupper())\n",
    "print(len(phrase))\n",
    "print(phrase[0])\n",
    "print(phrase.index(\"Acade\"))\n",
    "print(phrase.replace(\"Giraffe\", \"Elephant\"))"
   ]
  },
  {
   "cell_type": "markdown",
   "metadata": {},
   "source": [
    "## **Trabajar con números**"
   ]
  },
  {
   "cell_type": "code",
   "execution_count": 17,
   "metadata": {},
   "outputs": [
    {
     "name": "stdout",
     "output_type": "stream",
     "text": [
      "27\n",
      "1\n"
     ]
    }
   ],
   "source": [
    "print(3 * (4 + 5))\n",
    "print(10 % 3)"
   ]
  },
  {
   "cell_type": "code",
   "execution_count": 18,
   "metadata": {},
   "outputs": [
    {
     "name": "stdout",
     "output_type": "stream",
     "text": [
      "-5\n",
      "-5 my favorite number\n",
      "5\n"
     ]
    }
   ],
   "source": [
    "my_num = -5\n",
    "\n",
    "print(my_num)\n",
    "print(str(my_num) + \" my favorite number\")\n",
    "print(abs(my_num))"
   ]
  },
  {
   "cell_type": "code",
   "execution_count": 20,
   "metadata": {},
   "outputs": [
    {
     "name": "stdout",
     "output_type": "stream",
     "text": [
      "9\n",
      "6\n",
      "4\n",
      "3\n",
      "4\n"
     ]
    }
   ],
   "source": [
    "print(pow(3, 2))\n",
    "print(max(4, 6))\n",
    "print(min(4, 6))\n",
    "print(round(3.2))\n",
    "print(round(3.7))"
   ]
  },
  {
   "cell_type": "code",
   "execution_count": 21,
   "metadata": {},
   "outputs": [
    {
     "name": "stdout",
     "output_type": "stream",
     "text": [
      "3\n",
      "4\n",
      "6.0\n"
     ]
    }
   ],
   "source": [
    "from math import *\n",
    "\n",
    "print(floor(3.7))\n",
    "print(ceil(3.7))\n",
    "print(sqrt(36))"
   ]
  },
  {
   "cell_type": "markdown",
   "metadata": {},
   "source": [
    "## **Conseguir inputs de usuarios**"
   ]
  },
  {
   "cell_type": "code",
   "execution_count": 22,
   "metadata": {},
   "outputs": [
    {
     "name": "stdout",
     "output_type": "stream",
     "text": [
      "Hello gustavo! Your are 25\n"
     ]
    }
   ],
   "source": [
    "name = input(\"Enter your name: \")\n",
    "age = input(\"Enter your age: \")\n",
    "\n",
    "print(\"Hello \" + name + \"! Your are \" + age)"
   ]
  },
  {
   "cell_type": "markdown",
   "metadata": {},
   "source": [
    "## **Crear una calculadora básica**"
   ]
  },
  {
   "cell_type": "code",
   "execution_count": 23,
   "metadata": {},
   "outputs": [
    {
     "name": "stdout",
     "output_type": "stream",
     "text": [
      "14.0\n"
     ]
    }
   ],
   "source": [
    "num1 = input(\"Enter a number: \")\n",
    "num2 = input(\"Enter a number: \")\n",
    "\n",
    "result = float(num1) + float(num2)\n",
    "\n",
    "print(result)"
   ]
  },
  {
   "cell_type": "markdown",
   "metadata": {},
   "source": [
    "## **Juego Mad Libs**"
   ]
  },
  {
   "cell_type": "code",
   "execution_count": 24,
   "metadata": {},
   "outputs": [
    {
     "name": "stdout",
     "output_type": "stream",
     "text": [
      "Roses are rojo\n",
      "television are blue\n",
      "I love tongo\n"
     ]
    }
   ],
   "source": [
    "color = input(\"Enter a color: \")\n",
    "plural_noun = input(\"Enter a Plural Noun: \")\n",
    "celebrity = input(\"Enter a celebrity: \")\n",
    "\n",
    "print(\"Roses are \" + color)\n",
    "print(plural_noun + \" are blue\")\n",
    "print(\"I love \" + celebrity)"
   ]
  },
  {
   "cell_type": "markdown",
   "metadata": {},
   "source": [
    "## **Listas**"
   ]
  },
  {
   "cell_type": "code",
   "execution_count": 25,
   "metadata": {},
   "outputs": [
    {
     "name": "stdout",
     "output_type": "stream",
     "text": [
      "['Kevin', 'Karen', 'Jim', 'Oscar', 'Toby']\n",
      "Kevin\n",
      "Toby\n",
      "['Karen', 'Jim', 'Oscar', 'Toby']\n",
      "['Karen', 'Jim']\n"
     ]
    }
   ],
   "source": [
    "friends = [\"Kevin\", \"Karen\", \"Jim\", \"Oscar\", \"Toby\"]\n",
    "\n",
    "print(friends)\n",
    "print(friends[0])\n",
    "print(friends[-1])\n",
    "print(friends[1:])\n",
    "print(friends[1:3])"
   ]
  },
  {
   "cell_type": "code",
   "execution_count": 26,
   "metadata": {},
   "outputs": [
    {
     "name": "stdout",
     "output_type": "stream",
     "text": [
      "['Kevin', 'Mike', 'Jim', 'Oscar', 'Toby']\n",
      "Mike\n"
     ]
    }
   ],
   "source": [
    "friends = [\"Kevin\", \"Karen\", \"Jim\", \"Oscar\", \"Toby\"]\n",
    "friends[1] = \"Mike\"\n",
    "\n",
    "print(friends)\n",
    "print(friends[1])"
   ]
  },
  {
   "cell_type": "markdown",
   "metadata": {},
   "source": [
    "## **Funciones de listas**"
   ]
  },
  {
   "cell_type": "code",
   "execution_count": 27,
   "metadata": {},
   "outputs": [
    {
     "name": "stdout",
     "output_type": "stream",
     "text": [
      "['Kevin', 'Karen', 'Jim', 'Oscar', 'Toby', 4, 8, 15, 16, 23, 42]\n"
     ]
    }
   ],
   "source": [
    "lucky_numbers = [4, 8, 15, 16, 23, 42]\n",
    "friends = [\"Kevin\", \"Karen\", \"Jim\", \"Oscar\", \"Toby\"]\n",
    "friends.extend(lucky_numbers)\n",
    "\n",
    "print(friends)"
   ]
  },
  {
   "cell_type": "code",
   "execution_count": 28,
   "metadata": {},
   "outputs": [
    {
     "name": "stdout",
     "output_type": "stream",
     "text": [
      "['Kevin', 'Karen', 'Jim', 'Oscar', 'Toby', 'Creed']\n",
      "['Kevin', 'Kelly', 'Karen', 'Jim', 'Oscar', 'Toby', 'Creed']\n",
      "['Kevin', 'Kelly', 'Karen', 'Oscar', 'Toby', 'Creed']\n",
      "[]\n"
     ]
    }
   ],
   "source": [
    "lucky_numbers = [4, 8, 15, 16, 23, 42]\n",
    "friends = [\"Kevin\", \"Karen\", \"Jim\", \"Oscar\", \"Toby\"]\n",
    "friends.append(\"Creed\")\n",
    "print(friends)\n",
    "\n",
    "friends.insert(1, \"Kelly\")\n",
    "print(friends)\n",
    "\n",
    "friends.remove(\"Jim\")\n",
    "print(friends)\n",
    "\n",
    "friends.clear()\n",
    "print(friends)"
   ]
  },
  {
   "cell_type": "code",
   "execution_count": 29,
   "metadata": {},
   "outputs": [
    {
     "name": "stdout",
     "output_type": "stream",
     "text": [
      "['Kevin', 'Karen', 'Jim', 'Jim', 'Oscar']\n",
      "0\n",
      "2\n",
      "['Jim', 'Jim', 'Karen', 'Kevin', 'Oscar']\n",
      "[4, 8, 15, 16, 23, 42]\n",
      "[42, 23, 16, 15, 8, 4]\n",
      "['Jim', 'Jim', 'Karen', 'Kevin', 'Oscar']\n"
     ]
    }
   ],
   "source": [
    "lucky_numbers = [42, 8, 15, 16, 23, 4]\n",
    "friends = [\"Kevin\", \"Karen\", \"Jim\", \"Jim\", \"Oscar\", \"Toby\"]\n",
    "friends.pop()\n",
    "\n",
    "print(friends)\n",
    "print(friends.index(\"Kevin\"))\n",
    "print(friends.count(\"Jim\"))\n",
    "\n",
    "friends.sort()\n",
    "print(friends)\n",
    "\n",
    "lucky_numbers.sort()\n",
    "print(lucky_numbers)\n",
    "\n",
    "lucky_numbers.reverse()\n",
    "print(lucky_numbers)\n",
    "\n",
    "friends2 = friends.copy()\n",
    "print(friends2)"
   ]
  },
  {
   "cell_type": "markdown",
   "metadata": {},
   "source": [
    "## **Tuplas**"
   ]
  },
  {
   "cell_type": "code",
   "execution_count": 30,
   "metadata": {},
   "outputs": [
    {
     "name": "stdout",
     "output_type": "stream",
     "text": [
      "4\n",
      "5\n"
     ]
    }
   ],
   "source": [
    "coordinates = (4, 5)\n",
    "\n",
    "print(coordinates[0])\n",
    "print(coordinates[1])"
   ]
  },
  {
   "cell_type": "code",
   "execution_count": 31,
   "metadata": {},
   "outputs": [
    {
     "name": "stdout",
     "output_type": "stream",
     "text": [
      "10\n"
     ]
    }
   ],
   "source": [
    "coordinates = [4, 5]\n",
    "coordinates[1] = 10\n",
    "\n",
    "print(coordinates[1])"
   ]
  },
  {
   "cell_type": "code",
   "execution_count": 32,
   "metadata": {},
   "outputs": [
    {
     "name": "stdout",
     "output_type": "stream",
     "text": [
      "(6, 7)\n"
     ]
    }
   ],
   "source": [
    "coordinates = [(4, 5), (6, 7), (80, 34)]\n",
    "\n",
    "print(coordinates[1])"
   ]
  },
  {
   "cell_type": "markdown",
   "metadata": {},
   "source": [
    "## **Funciones**"
   ]
  },
  {
   "cell_type": "code",
   "execution_count": 34,
   "metadata": {},
   "outputs": [
    {
     "name": "stdout",
     "output_type": "stream",
     "text": [
      "Top\n",
      "Hello User\n",
      "Bottom\n"
     ]
    }
   ],
   "source": [
    "def say_hi():\n",
    "  print(\"Hello User\")\n",
    "\n",
    "print(\"Top\")\n",
    "say_hi()\n",
    "print(\"Bottom\")"
   ]
  },
  {
   "cell_type": "code",
   "execution_count": 37,
   "metadata": {},
   "outputs": [
    {
     "name": "stdout",
     "output_type": "stream",
     "text": [
      "Hello Mike, you are 35\n",
      "Hello Steve, you are 70\n"
     ]
    }
   ],
   "source": [
    "def say_hi(name, age):\n",
    "  print(\"Hello \" + name + \", you are \" + age)\n",
    "\n",
    "say_hi(\"Mike\", \"35\")\n",
    "say_hi(\"Steve\", \"70\")"
   ]
  },
  {
   "cell_type": "code",
   "execution_count": 38,
   "metadata": {},
   "outputs": [
    {
     "name": "stdout",
     "output_type": "stream",
     "text": [
      "Hello Mike, you are 35\n",
      "Hello Steve, you are 70\n"
     ]
    }
   ],
   "source": [
    "def say_hi(name, age):\n",
    "  print(\"Hello \" + name + \", you are \" + str(age))\n",
    "\n",
    "say_hi(\"Mike\", 35)\n",
    "say_hi(\"Steve\", 70)"
   ]
  },
  {
   "cell_type": "markdown",
   "metadata": {},
   "source": [
    "## **Declaración Return**"
   ]
  },
  {
   "cell_type": "code",
   "execution_count": 39,
   "metadata": {},
   "outputs": [
    {
     "data": {
      "text/plain": [
       "27"
      ]
     },
     "execution_count": 39,
     "metadata": {},
     "output_type": "execute_result"
    }
   ],
   "source": [
    "def cube(num):\n",
    "  return num*num*num\n",
    "\n",
    "cube(3)"
   ]
  },
  {
   "cell_type": "code",
   "execution_count": 40,
   "metadata": {},
   "outputs": [
    {
     "data": {
      "text/plain": [
       "64"
      ]
     },
     "execution_count": 40,
     "metadata": {},
     "output_type": "execute_result"
    }
   ],
   "source": [
    "def cube(num):\n",
    "  return num*num*num\n",
    "\n",
    "result = cube(4)\n",
    "(result)"
   ]
  },
  {
   "cell_type": "markdown",
   "metadata": {},
   "source": [
    "## **Declaración If**"
   ]
  },
  {
   "cell_type": "code",
   "execution_count": 41,
   "metadata": {},
   "outputs": [
    {
     "name": "stdout",
     "output_type": "stream",
     "text": [
      "You are a male\n"
     ]
    }
   ],
   "source": [
    "is_male = True\n",
    "\n",
    "if is_male:\n",
    "  print(\"You are a male\")"
   ]
  },
  {
   "cell_type": "code",
   "execution_count": 42,
   "metadata": {},
   "outputs": [
    {
     "name": "stdout",
     "output_type": "stream",
     "text": [
      "You are not a male\n"
     ]
    }
   ],
   "source": [
    "is_male = False\n",
    "\n",
    "if is_male:\n",
    "  print(\"You are a male\")\n",
    "else:\n",
    "  print(\"You are not a male\")"
   ]
  },
  {
   "cell_type": "code",
   "execution_count": 43,
   "metadata": {},
   "outputs": [
    {
     "name": "stdout",
     "output_type": "stream",
     "text": [
      "You are a male or tall or both\n"
     ]
    }
   ],
   "source": [
    "is_male = True\n",
    "is_tall = True\n",
    "\n",
    "if is_male or is_tall:\n",
    "  print(\"You are a male or tall or both\")\n",
    "else:\n",
    "  print(\"You neither male nor tall\")"
   ]
  },
  {
   "cell_type": "code",
   "execution_count": 44,
   "metadata": {},
   "outputs": [
    {
     "name": "stdout",
     "output_type": "stream",
     "text": [
      "You are either not male or not tall or both\n"
     ]
    }
   ],
   "source": [
    "is_male = False\n",
    "is_tall = False\n",
    "\n",
    "if is_male and is_tall:\n",
    "  print(\"You are a tall male\")\n",
    "else:\n",
    "  print(\"You are either not male or not tall or both\")"
   ]
  },
  {
   "cell_type": "code",
   "execution_count": 45,
   "metadata": {},
   "outputs": [
    {
     "name": "stdout",
     "output_type": "stream",
     "text": [
      "You are a short male\n"
     ]
    }
   ],
   "source": [
    "is_male = True\n",
    "is_tall = False\n",
    "\n",
    "if is_male and is_tall:\n",
    "  print(\"You are a tall male\")\n",
    "elif is_male and not(is_tall):\n",
    "  print(\"You are a short male\")\n",
    "elif not(is_male) and is_tall:\n",
    "  print(\"You are not a male but are tall\")\n",
    "else:\n",
    "  print(\"You are either not male or not tall or both\")"
   ]
  },
  {
   "cell_type": "markdown",
   "metadata": {},
   "source": [
    "## **Declaración If y Comparaciones**"
   ]
  },
  {
   "cell_type": "code",
   "execution_count": 46,
   "metadata": {},
   "outputs": [
    {
     "data": {
      "text/plain": [
       "5"
      ]
     },
     "execution_count": 46,
     "metadata": {},
     "output_type": "execute_result"
    }
   ],
   "source": [
    "def max_num(num1, num2, num3):\n",
    "  if num1 >= num2 and num1 >= num3:\n",
    "    return num1\n",
    "  elif num2 >= num1 and num2 >= num3:\n",
    "    return num2\n",
    "  else:\n",
    "    return num3\n",
    "max_num(3, 4, 5)"
   ]
  },
  {
   "cell_type": "markdown",
   "metadata": {},
   "source": [
    "## **Crear una calculadora mejor**"
   ]
  },
  {
   "cell_type": "code",
   "execution_count": 47,
   "metadata": {},
   "outputs": [
    {
     "name": "stdout",
     "output_type": "stream",
     "text": [
      "28.0\n"
     ]
    }
   ],
   "source": [
    "num1 = float(input(\"Enter first number: \"))\n",
    "op = input(\"Enter operator: \")\n",
    "num2 = float(input(\"Enter second number: \"))\n",
    "\n",
    "if op == \"+\":\n",
    "  print(num1 + num2)\n",
    "elif op == \"-\":\n",
    "  print(num1 - num2)\n",
    "elif op == \"/\":\n",
    "  print(num1 / num2)\n",
    "elif op == \"*\":\n",
    "  print(num1 * num2)\n",
    "else:\n",
    "  print(\"Invalid operator\")"
   ]
  },
  {
   "cell_type": "markdown",
   "metadata": {},
   "source": [
    "## **Diccionarios**"
   ]
  },
  {
   "cell_type": "code",
   "execution_count": 48,
   "metadata": {},
   "outputs": [
    {
     "name": "stdout",
     "output_type": "stream",
     "text": [
      "November\n"
     ]
    }
   ],
   "source": [
    "monthConversions = {\n",
    "  \"Jan\" : \"January\",\n",
    "  \"Feb\" : \"February\",\n",
    "  \"Mar\" : \"March\",\n",
    "  \"Apr\" : \"April\",\n",
    "  \"May\" : \"May\",\n",
    "  \"Jun\" : \"June\",\n",
    "  \"Jul\" : \"July\",\n",
    "  \"Aug\" : \"August\",\n",
    "  \"Sep\" : \"September\",\n",
    "  \"Oct\" : \"October\",\n",
    "  \"Nov\" : \"November\",\n",
    "  \"Dec\" : \"December\"\n",
    "}\n",
    "\n",
    "print(monthConversions[\"Nov\"])"
   ]
  },
  {
   "cell_type": "code",
   "execution_count": 49,
   "metadata": {},
   "outputs": [
    {
     "name": "stdout",
     "output_type": "stream",
     "text": [
      "Not a valid key\n"
     ]
    }
   ],
   "source": [
    "print(monthConversions.get(\"Luv\", \"Not a valid key\"))"
   ]
  },
  {
   "cell_type": "markdown",
   "metadata": {},
   "source": [
    "## **Repetición While**"
   ]
  },
  {
   "cell_type": "code",
   "execution_count": 50,
   "metadata": {},
   "outputs": [
    {
     "name": "stdout",
     "output_type": "stream",
     "text": [
      "1\n",
      "2\n",
      "3\n",
      "4\n",
      "5\n",
      "6\n",
      "7\n",
      "8\n",
      "9\n",
      "10\n",
      "Done with loop\n"
     ]
    }
   ],
   "source": [
    "i = 1\n",
    "while i <= 10:\n",
    "  print(i)\n",
    "  i += 1\n",
    "print(\"Done with loop\")"
   ]
  },
  {
   "cell_type": "markdown",
   "metadata": {},
   "source": [
    "## **Crear un juego de adivinanzas**"
   ]
  },
  {
   "cell_type": "code",
   "execution_count": 51,
   "metadata": {},
   "outputs": [
    {
     "name": "stdout",
     "output_type": "stream",
     "text": [
      "You win!\n"
     ]
    }
   ],
   "source": [
    "secret_word = \"giraffe\"\n",
    "guess = \"\"\n",
    "\n",
    "while guess != secret_word:\n",
    "  guess = input(\"Enter guess: \")\n",
    "print(\"You win!\")"
   ]
  },
  {
   "cell_type": "code",
   "execution_count": 54,
   "metadata": {},
   "outputs": [
    {
     "name": "stdout",
     "output_type": "stream",
     "text": [
      "Out of Guesses, YOU LOSER!\n"
     ]
    }
   ],
   "source": [
    "secret_word = \"giraffe\"\n",
    "guess = \"\"\n",
    "guess_count = 0\n",
    "guess_limit = 3\n",
    "out_of_guesses = False\n",
    "\n",
    "while guess != secret_word and not(out_of_guesses):\n",
    "  if guess_count < guess_limit:\n",
    "    guess = input(\"Enter guess: \")\n",
    "    guess_count += 1\n",
    "  else:\n",
    "    out_of_guesses = True\n",
    "if out_of_guesses:\n",
    "  print(\"Out of Guesses, YOU LOSER!\")\n",
    "else:\n",
    "  print(\"You win!\")"
   ]
  },
  {
   "cell_type": "markdown",
   "metadata": {},
   "source": [
    "## **Repetición For**"
   ]
  },
  {
   "cell_type": "code",
   "execution_count": 55,
   "metadata": {},
   "outputs": [
    {
     "name": "stdout",
     "output_type": "stream",
     "text": [
      "G\n",
      "i\n",
      "r\n",
      "a\n",
      "f\n",
      "f\n",
      "e\n",
      " \n",
      "A\n",
      "c\n",
      "a\n",
      "d\n",
      "e\n",
      "m\n",
      "y\n"
     ]
    }
   ],
   "source": [
    "for letter in \"Giraffe Academy\":\n",
    "  print(letter)"
   ]
  },
  {
   "cell_type": "code",
   "execution_count": 56,
   "metadata": {},
   "outputs": [
    {
     "name": "stdout",
     "output_type": "stream",
     "text": [
      "Jim\n",
      "Karen\n",
      "Kevin\n"
     ]
    }
   ],
   "source": [
    "friends = [\"Jim\", \"Karen\", \"Kevin\"]\n",
    "for name in friends:\n",
    "  print(name)"
   ]
  },
  {
   "cell_type": "code",
   "execution_count": 58,
   "metadata": {},
   "outputs": [
    {
     "name": "stdout",
     "output_type": "stream",
     "text": [
      "3\n",
      "4\n",
      "5\n",
      "6\n",
      "7\n",
      "8\n",
      "9\n"
     ]
    }
   ],
   "source": [
    "for index in range(3, 10):\n",
    "  print(index)"
   ]
  },
  {
   "cell_type": "code",
   "execution_count": 59,
   "metadata": {},
   "outputs": [
    {
     "name": "stdout",
     "output_type": "stream",
     "text": [
      "Jim\n",
      "Karen\n",
      "Kevin\n"
     ]
    }
   ],
   "source": [
    "friends = [\"Jim\", \"Karen\", \"Kevin\"]\n",
    "for index in range(len(friends)):\n",
    "  print(friends[index])"
   ]
  },
  {
   "cell_type": "code",
   "execution_count": 61,
   "metadata": {},
   "outputs": [
    {
     "name": "stdout",
     "output_type": "stream",
     "text": [
      "first Interation\n",
      "Not first\n",
      "Not first\n",
      "Not first\n",
      "Not first\n"
     ]
    }
   ],
   "source": [
    "for index in range(5):\n",
    "  if index == 0:\n",
    "    print(\"first Interation\")\n",
    "  else:\n",
    "    print(\"Not first\")"
   ]
  },
  {
   "cell_type": "markdown",
   "metadata": {},
   "source": [
    "## **Función exponencial**"
   ]
  },
  {
   "cell_type": "code",
   "execution_count": 62,
   "metadata": {},
   "outputs": [
    {
     "name": "stdout",
     "output_type": "stream",
     "text": [
      "81\n"
     ]
    }
   ],
   "source": [
    "def raise_to_power(base_num, pow_num):\n",
    "  result = 1\n",
    "  for index in range(pow_num):\n",
    "    result = result * base_num\n",
    "  return result\n",
    "print(raise_to_power(3, 4))"
   ]
  },
  {
   "cell_type": "markdown",
   "metadata": {},
   "source": [
    "## **Lista 2D y repeticiones anidadas**"
   ]
  },
  {
   "cell_type": "code",
   "execution_count": 63,
   "metadata": {},
   "outputs": [
    {
     "name": "stdout",
     "output_type": "stream",
     "text": [
      "8\n"
     ]
    }
   ],
   "source": [
    "number_grid = [\n",
    "  [1, 2, 3],\n",
    "  [4, 5, 6],\n",
    "  [7, 8, 9],\n",
    "  [0]\n",
    "]\n",
    "\n",
    "print(number_grid[2][1])"
   ]
  },
  {
   "cell_type": "code",
   "execution_count": 64,
   "metadata": {},
   "outputs": [
    {
     "name": "stdout",
     "output_type": "stream",
     "text": [
      "1\n",
      "2\n",
      "3\n",
      "4\n",
      "5\n",
      "6\n",
      "7\n",
      "8\n",
      "9\n",
      "0\n"
     ]
    }
   ],
   "source": [
    "number_grid = [\n",
    "  [1, 2, 3],\n",
    "  [4, 5, 6],\n",
    "  [7, 8, 9],\n",
    "  [0]\n",
    "]\n",
    "\n",
    "for row in number_grid:\n",
    "  for col in row:\n",
    "    print(col)"
   ]
  },
  {
   "cell_type": "markdown",
   "metadata": {},
   "source": [
    "## **Construir un traductor**"
   ]
  },
  {
   "cell_type": "code",
   "execution_count": 67,
   "metadata": {},
   "outputs": [
    {
     "name": "stdout",
     "output_type": "stream",
     "text": [
      "Gn\n"
     ]
    }
   ],
   "source": [
    "def translate(phrase):\n",
    "  translation = \"\"\n",
    "  for letter in phrase:\n",
    "    if letter.lower() in \"aeiou\":\n",
    "      if letter.isupper():\n",
    "        translation = translation + \"G\"\n",
    "      else:\n",
    "        translation = translation + \"g\"\n",
    "    else:\n",
    "      translation = translation + letter\n",
    "  return translation\n",
    "print(translate(input(\"Enter a phrase: \")))"
   ]
  },
  {
   "cell_type": "markdown",
   "metadata": {},
   "source": [
    "## **Comentarios**"
   ]
  },
  {
   "cell_type": "code",
   "execution_count": 68,
   "metadata": {},
   "outputs": [
    {
     "data": {
      "text/plain": [
       "'\\neso es\\ncomentario de\\nvarias lineas\\n'"
      ]
     },
     "execution_count": 68,
     "metadata": {},
     "output_type": "execute_result"
    }
   ],
   "source": [
    "# This program is cool\n",
    "'''\n",
    "eso es\n",
    "comentario de\n",
    "varias lineas\n",
    "'''\n",
    "# print(\"Comments are fun\")"
   ]
  },
  {
   "cell_type": "markdown",
   "metadata": {},
   "source": [
    "## **Try / Except**"
   ]
  },
  {
   "cell_type": "code",
   "execution_count": 69,
   "metadata": {},
   "outputs": [
    {
     "name": "stdout",
     "output_type": "stream",
     "text": [
      "Invalid Input\n"
     ]
    }
   ],
   "source": [
    "try:\n",
    "  number = int(input(\"Enter a number: \"))\n",
    "  print(number)\n",
    "except:\n",
    "  print(\"Invalid Input\")"
   ]
  },
  {
   "cell_type": "code",
   "execution_count": 73,
   "metadata": {},
   "outputs": [
    {
     "name": "stdout",
     "output_type": "stream",
     "text": [
      "division by zero\n"
     ]
    }
   ],
   "source": [
    "try:\n",
    "  answer = 10/0\n",
    "  number = int(input(\"Enter a number: \"))\n",
    "  print(number)\n",
    "except ZeroDivisionError as err:\n",
    "  print(err)\n",
    "except ValueError:\n",
    "  print(\"invalid input\")"
   ]
  },
  {
   "cell_type": "markdown",
   "metadata": {},
   "source": [
    "## **Leer archivos**"
   ]
  },
  {
   "cell_type": "code",
   "execution_count": 74,
   "metadata": {},
   "outputs": [
    {
     "name": "stdout",
     "output_type": "stream",
     "text": [
      "True\n"
     ]
    }
   ],
   "source": [
    "employee_file = open(\"../data/employees.txt\", \"r+\")\n",
    "print(employee_file.readable())\n",
    "employee_file.close()"
   ]
  },
  {
   "cell_type": "code",
   "execution_count": 75,
   "metadata": {},
   "outputs": [
    {
     "name": "stdout",
     "output_type": "stream",
     "text": [
      "Jim - Salesman\n",
      "Dwight - Salesman\n",
      "Pam - Receptionist\n",
      "Michael - Manager\n",
      "Oscar - Accountant\n"
     ]
    }
   ],
   "source": [
    "employee_file = open(\"../data/employees.txt\", \"r+\")\n",
    "print(employee_file.read())\n",
    "employee_file.close()"
   ]
  },
  {
   "cell_type": "code",
   "execution_count": 76,
   "metadata": {},
   "outputs": [
    {
     "name": "stdout",
     "output_type": "stream",
     "text": [
      "Jim - Salesman\n",
      "\n"
     ]
    }
   ],
   "source": [
    "employee_file = open(\"../data/employees.txt\", \"r+\")\n",
    "print(employee_file.readline())\n",
    "employee_file.close()"
   ]
  },
  {
   "cell_type": "code",
   "execution_count": 77,
   "metadata": {},
   "outputs": [
    {
     "name": "stdout",
     "output_type": "stream",
     "text": [
      "['Jim - Salesman\\n', 'Dwight - Salesman\\n', 'Pam - Receptionist\\n', 'Michael - Manager\\n', 'Oscar - Accountant']\n"
     ]
    }
   ],
   "source": [
    "employee_file = open(\"../data/employees.txt\", \"r+\")\n",
    "print(employee_file.readlines())\n",
    "employee_file.close()"
   ]
  },
  {
   "cell_type": "code",
   "execution_count": 78,
   "metadata": {},
   "outputs": [
    {
     "name": "stdout",
     "output_type": "stream",
     "text": [
      "Dwight - Salesman\n",
      "\n"
     ]
    }
   ],
   "source": [
    "employee_file = open(\"../data/employees.txt\", \"r+\")\n",
    "print(employee_file.readlines()[1])\n",
    "employee_file.close()"
   ]
  },
  {
   "cell_type": "code",
   "execution_count": 79,
   "metadata": {},
   "outputs": [
    {
     "name": "stdout",
     "output_type": "stream",
     "text": [
      "Jim - Salesman\n",
      "\n",
      "Dwight - Salesman\n",
      "\n",
      "Pam - Receptionist\n",
      "\n",
      "Michael - Manager\n",
      "\n",
      "Oscar - Accountant\n"
     ]
    }
   ],
   "source": [
    "employee_file = open(\"../data/employees.txt\", \"r+\")\n",
    "for employee in employee_file.readlines():\n",
    "  print(employee)\n",
    "employee_file.close()"
   ]
  },
  {
   "cell_type": "markdown",
   "metadata": {},
   "source": [
    "## **Editar archivos**"
   ]
  },
  {
   "cell_type": "code",
   "execution_count": 80,
   "metadata": {},
   "outputs": [],
   "source": [
    "employee_file = open(\"../data/employees.txt\", \"a\")\n",
    "employee_file.write(\"Toby - Human Resources\")\n",
    "employee_file.close()"
   ]
  },
  {
   "cell_type": "code",
   "execution_count": 81,
   "metadata": {},
   "outputs": [],
   "source": [
    "employee_file = open(\"../data/employees.txt\", \"a\")\n",
    "employee_file.write(\"\\nKelly - Customer Service\")\n",
    "employee_file.close()"
   ]
  },
  {
   "cell_type": "code",
   "execution_count": 82,
   "metadata": {},
   "outputs": [],
   "source": [
    "employee_file = open(\"../data/employees1.txt\", \"w\")\n",
    "employee_file.write(\"\\nKelly - Customer Service\")\n",
    "employee_file.close()"
   ]
  },
  {
   "cell_type": "markdown",
   "metadata": {},
   "source": [
    "## **Módulos y semillas**"
   ]
  },
  {
   "cell_type": "code",
   "execution_count": 1,
   "metadata": {},
   "outputs": [],
   "source": [
    "import sys\n",
    "sys.path.append(\"../module/\")"
   ]
  },
  {
   "cell_type": "markdown",
   "metadata": {},
   "source": [
    "## **Clases y objetos**"
   ]
  },
  {
   "cell_type": "markdown",
   "metadata": {},
   "source": [
    "## **Crear un test de opciones múltiples**"
   ]
  },
  {
   "cell_type": "code",
   "execution_count": 3,
   "metadata": {},
   "outputs": [
    {
     "name": "stdout",
     "output_type": "stream",
     "text": [
      "You got 1/3 Corret\n"
     ]
    }
   ],
   "source": [
    "from Question import Question\n",
    "\n",
    "question_prompts = [\n",
    "    \"What color are apples?\\n(a) Red/Green\\n(b) Purple\\n(c) Orange\\n\\n\",\n",
    "    \"What color are Bananas?\\n(a) Teal\\n(b) Magenta\\n(c) Yellow\\n\\n\",\n",
    "    \"What color are strawberries?\\n(a) Yellow\\n(b) Red\\n(c) Blue\\n\\n\"\n",
    "]\n",
    "\n",
    "questions = [\n",
    "    Question(question_prompts[0], \"a\"),\n",
    "    Question(question_prompts[1], \"c\"),\n",
    "    Question(question_prompts[2], \"b\"),\n",
    "]\n",
    "\n",
    "\n",
    "def run_test(questions):\n",
    "    score = 0\n",
    "    for question in questions:\n",
    "        answer = input(question.prompt)\n",
    "        if answer == question.answer:\n",
    "            score += 1\n",
    "    print(\"You got \" + str(score) + \"/\" + str(len(questions)) + \" Corret\")\n",
    "\n",
    "\n",
    "run_test(questions)"
   ]
  },
  {
   "cell_type": "markdown",
   "metadata": {},
   "source": [
    "## **Funciones de los objetos**"
   ]
  },
  {
   "cell_type": "code",
   "execution_count": 4,
   "metadata": {},
   "outputs": [
    {
     "name": "stdout",
     "output_type": "stream",
     "text": [
      "False\n",
      "Jim\n",
      "2.5\n"
     ]
    }
   ],
   "source": [
    "from Student import Student\n",
    "\n",
    "student1 = Student(\"Jim\", \"Business\", 3.1, False)\n",
    "student2 = Student(\"Pam\", \"Art\", 2.5, True)\n",
    "\n",
    "print(student1.on_honor_roll())\n",
    "print(student1.name)\n",
    "print(student2.gpa)"
   ]
  },
  {
   "cell_type": "markdown",
   "metadata": {},
   "source": [
    "## **Inheritance**"
   ]
  },
  {
   "cell_type": "code",
   "execution_count": 5,
   "metadata": {},
   "outputs": [
    {
     "name": "stdout",
     "output_type": "stream",
     "text": [
      "The chef makes a chicken\n",
      "The chef makes bbq ribs\n",
      "The chef makes a chicken\n",
      "The chef makes orange chicken\n"
     ]
    }
   ],
   "source": [
    "from Chef import Chef\n",
    "from ChineseChef import ChineseChef\n",
    "\n",
    "myChef = Chef()\n",
    "myChef.make_chicken()\n",
    "myChef.make_special_dish()\n",
    "\n",
    "myChineseChef = ChineseChef()\n",
    "myChineseChef.make_chicken()\n",
    "myChineseChef.make_special_dish()"
   ]
  },
  {
   "cell_type": "markdown",
   "metadata": {},
   "source": [
    "## **Interpretador Python**"
   ]
  },
  {
   "cell_type": "code",
   "execution_count": 6,
   "metadata": {},
   "outputs": [
    {
     "name": "stdout",
     "output_type": "stream",
     "text": [
      "3\n"
     ]
    }
   ],
   "source": [
    "import useful_tools as useful_tools\n",
    "\n",
    "print(useful_tools.roll_dice(10))"
   ]
  },
  {
   "cell_type": "markdown",
   "metadata": {},
   "source": [
    "| **Inicio** | **Siguiente 2** |\n",
    "|----------- |---------------|\n",
    "| [🏠](../../README.md) | [⏩](./2_Python_para_ciencia_de_datos.ipynb)|"
   ]
  }
 ],
 "metadata": {
  "kernelspec": {
   "display_name": "base",
   "language": "python",
   "name": "python3"
  },
  "language_info": {
   "codemirror_mode": {
    "name": "ipython",
    "version": 3
   },
   "file_extension": ".py",
   "mimetype": "text/x-python",
   "name": "python",
   "nbconvert_exporter": "python",
   "pygments_lexer": "ipython3",
   "version": "3.9.12"
  },
  "orig_nbformat": 4
 },
 "nbformat": 4,
 "nbformat_minor": 2
}
