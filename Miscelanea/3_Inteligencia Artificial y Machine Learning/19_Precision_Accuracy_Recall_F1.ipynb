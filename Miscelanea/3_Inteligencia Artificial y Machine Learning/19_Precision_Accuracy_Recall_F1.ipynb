{
 "cells": [
  {
   "cell_type": "markdown",
   "metadata": {},
   "source": [
    "| **Inicio** | **atrás 18** | **Siguiente 20** |\n",
    "|----------- |-------------- |---------------|\n",
    "| [🏠](../../README.md) | [⏪](./18_Propagacion_de_Afinidad.ipynb)| [⏩](./20_Silueta_y_Davies_Bouldin.ipynb)|"
   ]
  },
  {
   "cell_type": "markdown",
   "metadata": {},
   "source": [
    "# **19. Métricas para Clasificadores de Machine Learning ➤ Matriz de Confusión Precision Accuracy Recall F1**"
   ]
  },
  {
   "cell_type": "markdown",
   "metadata": {},
   "source": [
    "## **Introducción**"
   ]
  },
  {
   "cell_type": "markdown",
   "metadata": {},
   "source": [
    "Las métricas de evaluación son herramientas esenciales para medir el rendimiento de los clasificadores de Machine Learning. Entre las métricas más comunes se encuentran la matriz de confusión, precisión, exactitud, recall y F1-score. A continuación, te proporcionaré una explicación detallada de cada una con ejemplos y gráficas ilustrativas.\n",
    "\n",
    "**1. Matriz de Confusión:**\n",
    "\n",
    "La matriz de confusión es una tabla que describe el rendimiento de un modelo de clasificación en términos de los resultados de clasificación verdaderos y falsos. La matriz se divide en cuatro celdas:\n",
    "\n",
    "- Verdaderos Positivos (VP): Casos en los que el modelo predijo correctamente la clase positiva.\n",
    "- Falsos Positivos (FP): Casos en los que el modelo predijo incorrectamente la clase positiva cuando la verdadera clase es negativa.\n",
    "- Verdaderos Negativos (VN): Casos en los que el modelo predijo correctamente la clase negativa.\n",
    "- Falsos Negativos (FN): Casos en los que el modelo predijo incorrectamente la clase negativa cuando la verdadera clase es positiva.\n",
    "\n",
    "**2. Precisión:**\n",
    "\n",
    "La precisión es la proporción de instancias correctamente clasificadas como positivas entre todas las instancias clasificadas como positivas por el modelo.\n",
    "\n",
    "$\\text{Precisión} = \\frac{VP}{VP + FP}$\n",
    "\n",
    "**3. Exactitud (Accuracy):**\n",
    "\n",
    "La exactitud es la proporción de instancias correctamente clasificadas entre todas las instancias totales.\n",
    "\n",
    "$\\text{Exactitud} = \\frac{VP + VN}{VP + VN + FP + FN}$\n",
    "\n",
    "**4. Recall (Sensibilidad o Tasa de Verdaderos Positivos):**\n",
    "\n",
    "El recall es la proporción de instancias correctamente clasificadas como positivas entre todas las instancias verdaderamente positivas.\n",
    "\n",
    "$\\text{Recall} = \\frac{VP}{VP + FN}$\n",
    "\n",
    "**5. F1-Score:**\n",
    "\n",
    "El F1-score es la media armónica entre precisión y recall, proporcionando una medida única que combina ambos aspectos.\n",
    "\n",
    "$F1 = 2 \\times \\frac{\\text{Precisión} \\times \\text{Recall}}{\\text{Precisión} + \\text{Recall}}$\n",
    "\n",
    "A continuación, se presenta un ejemplo de cómo calcular estas métricas usando Scikit-learn:"
   ]
  },
  {
   "cell_type": "code",
   "execution_count": 1,
   "metadata": {},
   "outputs": [
    {
     "name": "stdout",
     "output_type": "stream",
     "text": [
      "Matriz de Confusión:\n",
      "[[10  0  0]\n",
      " [ 0  9  0]\n",
      " [ 0  0 11]]\n",
      "Precisión: 1.00\n",
      "Exactitud: 1.00\n",
      "Recall: 1.00\n",
      "F1-Score: 1.00\n"
     ]
    }
   ],
   "source": [
    "from sklearn.metrics import confusion_matrix, precision_score, accuracy_score, recall_score, f1_score\n",
    "from sklearn.datasets import load_iris\n",
    "from sklearn.model_selection import train_test_split\n",
    "from sklearn.linear_model import LogisticRegression\n",
    "\n",
    "# Cargar el conjunto de datos (por ejemplo, Iris)\n",
    "iris = load_iris()\n",
    "X = iris.data\n",
    "y = iris.target\n",
    "\n",
    "# Dividir el conjunto de datos en entrenamiento y prueba\n",
    "X_train, X_test, y_train, y_test = train_test_split(X, y, test_size=0.2, random_state=42)\n",
    "\n",
    "# Crear un modelo (por ejemplo, Regresión Logística)\n",
    "model = LogisticRegression()\n",
    "\n",
    "# Entrenar el modelo\n",
    "model.fit(X_train, y_train)\n",
    "\n",
    "# Realizar predicciones en el conjunto de prueba\n",
    "y_pred = model.predict(X_test)\n",
    "\n",
    "# Calcular la matriz de confusión\n",
    "conf_matrix = confusion_matrix(y_test, y_pred)\n",
    "\n",
    "# Calcular las métricas\n",
    "precision = precision_score(y_test, y_pred, average='macro')\n",
    "accuracy = accuracy_score(y_test, y_pred)\n",
    "recall = recall_score(y_test, y_pred, average='macro')\n",
    "f1 = f1_score(y_test, y_pred, average='macro')\n",
    "\n",
    "print(\"Matriz de Confusión:\")\n",
    "print(conf_matrix)\n",
    "print(f\"Precisión: {precision:.2f}\")\n",
    "print(f\"Exactitud: {accuracy:.2f}\")\n",
    "print(f\"Recall: {recall:.2f}\")\n",
    "print(f\"F1-Score: {f1:.2f}\")"
   ]
  },
  {
   "cell_type": "markdown",
   "metadata": {},
   "source": [
    "Es importante evaluar todas estas métricas para tener una comprensión completa del rendimiento del modelo en diferentes aspectos. Una métrica única no siempre es suficiente para evaluar correctamente un clasificador, ya que diferentes métricas pueden enfocarse en aspectos distintos del rendimiento."
   ]
  },
  {
   "cell_type": "markdown",
   "metadata": {},
   "source": [
    "## **Matriz de confusión**"
   ]
  },
  {
   "cell_type": "markdown",
   "metadata": {},
   "source": [
    "La matriz de confusión es una herramienta fundamental en la evaluación de algoritmos de clasificación en Machine Learning. Proporciona una representación visual de la calidad de las predicciones realizadas por un modelo clasificador al compararlas con las etiquetas reales. Esta matriz permite analizar el rendimiento del modelo y calcular diversas métricas de evaluación.\n",
    "\n",
    "La matriz de confusión se organiza en una tabla con cuatro celdas, que representan los diferentes resultados de clasificación. Aquí están los componentes clave de la matriz de confusión:\n",
    "\n",
    "- **Verdaderos Positivos (VP):** Representa los casos en los que el modelo clasificó correctamente una instancia como positiva cuando realmente es positiva.\n",
    "\n",
    "- **Falsos Positivos (FP):** Indica los casos en los que el modelo clasificó incorrectamente una instancia como positiva cuando en realidad es negativa.\n",
    "\n",
    "- **Verdaderos Negativos (VN):** Refleja los casos en los que el modelo clasificó correctamente una instancia como negativa cuando realmente es negativa.\n",
    "\n",
    "- **Falsos Negativos (FN):** Indica los casos en los que el modelo clasificó incorrectamente una instancia como negativa cuando en realidad es positiva.\n",
    "\n",
    "La matriz de confusión se ve de la siguiente manera:\n",
    "\n",
    "```\n",
    "                  Predicción\n",
    "                 -----------------\n",
    "                 |  VP |  FP |\n",
    "  Etiqueta Real  |-----|-----|\n",
    "                 |  FN |  VN |\n",
    "                 -----------------\n",
    "```\n",
    "\n",
    "Aquí tienes un ejemplo de cómo crear una matriz de confusión utilizando Python y graficarla:"
   ]
  },
  {
   "cell_type": "code",
   "execution_count": 2,
   "metadata": {},
   "outputs": [
    {
     "name": "stdout",
     "output_type": "stream",
     "text": [
      "Matriz de Confusión:\n",
      "[[10  0  0]\n",
      " [ 0  9  0]\n",
      " [ 0  0 11]]\n"
     ]
    },
    {
     "data": {
      "image/png": "[encoded data removed]",
      "text/plain": [
       "<Figure size 640x480 with 2 Axes>"
      ]
     },
     "metadata": {},
     "output_type": "display_data"
    }
   ],
   "source": [
    "import numpy as np\n",
    "import matplotlib.pyplot as plt\n",
    "from sklearn.metrics import confusion_matrix\n",
    "from sklearn.datasets import load_iris\n",
    "from sklearn.model_selection import train_test_split\n",
    "from sklearn.linear_model import LogisticRegression\n",
    "\n",
    "# Cargar el conjunto de datos (por ejemplo, Iris)\n",
    "iris = load_iris()\n",
    "X = iris.data\n",
    "y = iris.target\n",
    "\n",
    "# Dividir el conjunto de datos en entrenamiento y prueba\n",
    "X_train, X_test, y_train, y_test = train_test_split(X, y, test_size=0.2, random_state=42)\n",
    "\n",
    "# Crear un modelo (por ejemplo, Regresión Logística)\n",
    "model = LogisticRegression()\n",
    "\n",
    "# Entrenar el modelo\n",
    "model.fit(X_train, y_train)\n",
    "\n",
    "# Realizar predicciones en el conjunto de prueba\n",
    "y_pred = model.predict(X_test)\n",
    "\n",
    "# Calcular la matriz de confusión\n",
    "conf_matrix = confusion_matrix(y_test, y_pred)\n",
    "\n",
    "# Imprimir la matriz de confusión\n",
    "print(\"Matriz de Confusión:\")\n",
    "print(conf_matrix)\n",
    "\n",
    "# Graficar la matriz de confusión\n",
    "plt.imshow(conf_matrix, interpolation='nearest', cmap=plt.cm.Blues)\n",
    "plt.title(\"Matriz de Confusión\")\n",
    "plt.colorbar()\n",
    "classes = [\"Setosa\", \"Versicolor\", \"Virginica\"]\n",
    "tick_marks = np.arange(len(classes))\n",
    "plt.xticks(tick_marks, classes)\n",
    "plt.yticks(tick_marks, classes)\n",
    "plt.xlabel(\"Predicción\")\n",
    "plt.ylabel(\"Etiqueta Real\")\n",
    "plt.show()"
   ]
  },
  {
   "cell_type": "markdown",
   "metadata": {},
   "source": [
    "Esta matriz te permite ver dónde el modelo está acertando y equivocándose en las predicciones, lo que es fundamental para analizar su rendimiento y ajustar parámetros en función de los resultados."
   ]
  },
  {
   "cell_type": "markdown",
   "metadata": {},
   "source": [
    "## **Accuracy**"
   ]
  },
  {
   "cell_type": "markdown",
   "metadata": {},
   "source": [
    "El Accuracy, o precisión en español, es una métrica comúnmente utilizada para evaluar el rendimiento de modelos de clasificación en Machine Learning. Representa la proporción de predicciones correctas realizadas por el modelo en relación con el total de predicciones. En otras palabras, el Accuracy mide la fracción de instancias que fueron clasificadas correctamente en comparación con el total de instancias.\n",
    "\n",
    "La fórmula para calcular el Accuracy es:\n",
    "\n",
    "$\\text{Accuracy} = \\frac{\\text{Número de Predicciones Correctas}}{\\text{Total de Predicciones}}$\n",
    "\n",
    "Aquí tienes un ejemplo de cómo calcular el Accuracy utilizando Python y visualizarlo en una gráfica:"
   ]
  },
  {
   "cell_type": "code",
   "execution_count": 3,
   "metadata": {},
   "outputs": [
    {
     "name": "stdout",
     "output_type": "stream",
     "text": [
      "Accuracy: 1.0\n"
     ]
    },
    {
     "data": {
      "image/png": "[encoded data removed]",
      "text/plain": [
       "<Figure size 640x480 with 1 Axes>"
      ]
     },
     "metadata": {},
     "output_type": "display_data"
    }
   ],
   "source": [
    "import numpy as np\n",
    "import matplotlib.pyplot as plt\n",
    "from sklearn.metrics import accuracy_score\n",
    "from sklearn.datasets import load_iris\n",
    "from sklearn.model_selection import train_test_split\n",
    "from sklearn.linear_model import LogisticRegression\n",
    "\n",
    "# Cargar el conjunto de datos (por ejemplo, Iris)\n",
    "iris = load_iris()\n",
    "X = iris.data\n",
    "y = iris.target\n",
    "\n",
    "# Dividir el conjunto de datos en entrenamiento y prueba\n",
    "X_train, X_test, y_train, y_test = train_test_split(X, y, test_size=0.2, random_state=42)\n",
    "\n",
    "# Crear un modelo (por ejemplo, Regresión Logística)\n",
    "model = LogisticRegression()\n",
    "\n",
    "# Entrenar el modelo\n",
    "model.fit(X_train, y_train)\n",
    "\n",
    "# Realizar predicciones en el conjunto de prueba\n",
    "y_pred = model.predict(X_test)\n",
    "\n",
    "# Calcular el Accuracy\n",
    "accuracy = accuracy_score(y_test, y_pred)\n",
    "\n",
    "# Imprimir el Accuracy\n",
    "print(\"Accuracy:\", accuracy)\n",
    "\n",
    "# Graficar el Accuracy\n",
    "plt.bar([\"Accuracy\"], [accuracy], color='blue')\n",
    "plt.ylim(0, 1)\n",
    "plt.ylabel(\"Score\")\n",
    "plt.title(\"Accuracy\")\n",
    "plt.show()"
   ]
  },
  {
   "cell_type": "markdown",
   "metadata": {},
   "source": [
    "En esta gráfica, el valor del Accuracy se representa como una barra azul en el rango de 0 a 1. Un valor de 1 indicaría que el modelo clasificó todas las instancias correctamente, mientras que un valor más bajo indica que el modelo cometió errores en sus predicciones.\n",
    "\n",
    "El Accuracy es una métrica útil para evaluar modelos de clasificación cuando las clases están balanceadas. Sin embargo, puede ser engañosa en situaciones de desequilibrio de clases, ya que un modelo que siempre predice la clase mayoritaria puede tener un alto Accuracy incluso si no es efectivo en realidad. Por lo tanto, es importante considerar otras métricas en combinación con el Accuracy para obtener una evaluación más completa del rendimiento del modelo."
   ]
  },
  {
   "cell_type": "markdown",
   "metadata": {},
   "source": [
    "## **Precision y Recall**"
   ]
  },
  {
   "cell_type": "markdown",
   "metadata": {},
   "source": [
    "La Precision y el Recall son dos métricas utilizadas en la evaluación de modelos de clasificación, especialmente cuando se trata de clases desequilibradas. Ambas métricas brindan información sobre cómo el modelo está realizando predicciones en cada clase individualmente.\n",
    "\n",
    "1. **Precision (Precisión)**:\n",
    "\n",
    "La Precision se refiere a la proporción de instancias clasificadas como positivas por el modelo que realmente son positivas. En otras palabras, mide cuán precisas son las predicciones positivas del modelo.\n",
    "\n",
    "La fórmula para calcular la Precision es:\n",
    "\n",
    "$\\text{Precision} = \\frac{\\text{Verdaderos Positivos}}{\\text{Verdaderos Positivos} + \\text{Falsos Positivos}}$\n",
    "\n",
    "Donde:\n",
    "\n",
    "- Verdaderos Positivos (TP) son los casos en los que el modelo predijo correctamente una instancia como positiva.\n",
    "- Falsos Positivos (FP) son los casos en los que el modelo predijo incorrectamente una instancia como positiva cuando en realidad era negativa.\n",
    "\n",
    "2. **Recall (Sensibilidad o Tasa de Verdaderos Positivos)**:\n",
    "\n",
    "El Recall se refiere a la proporción de instancias positivas que fueron correctamente detectadas por el modelo. En otras palabras, mide la capacidad del modelo para capturar todas las instancias positivas.\n",
    "\n",
    "La fórmula para calcular el Recall es:\n",
    "\n",
    "$\\text{Recall} = \\frac{\\text{Verdaderos Positivos}}{\\text{Verdaderos Positivos} + \\text{Falsos Negativos}}$\n",
    "\n",
    "Donde:\n",
    "\n",
    "- Verdaderos Positivos (TP) son los casos en los que el modelo predijo correctamente una instancia como positiva.\n",
    "- Falsos Negativos (FN) son los casos en los que el modelo predijo incorrectamente una instancia como negativa cuando en realidad era positiva.\n",
    "\n",
    "A continuación, un ejemplo de cómo calcular y visualizar la Precision y el Recall en Python:"
   ]
  },
  {
   "cell_type": "code",
   "execution_count": 4,
   "metadata": {},
   "outputs": [
    {
     "name": "stdout",
     "output_type": "stream",
     "text": [
      "Precision: 1.0\n",
      "Recall: 1.0\n"
     ]
    },
    {
     "data": {
      "image/png": "[encoded data removed]",
      "text/plain": [
       "<Figure size 640x480 with 1 Axes>"
      ]
     },
     "metadata": {},
     "output_type": "display_data"
    }
   ],
   "source": [
    "import numpy as np\n",
    "import matplotlib.pyplot as plt\n",
    "from sklearn.metrics import precision_score, recall_score\n",
    "from sklearn.datasets import load_iris\n",
    "from sklearn.model_selection import train_test_split\n",
    "from sklearn.linear_model import LogisticRegression\n",
    "\n",
    "# Cargar el conjunto de datos (por ejemplo, Iris)\n",
    "iris = load_iris()\n",
    "X = iris.data\n",
    "y = iris.target\n",
    "\n",
    "# Dividir el conjunto de datos en entrenamiento y prueba\n",
    "X_train, X_test, y_train, y_test = train_test_split(X, y, test_size=0.2, random_state=42)\n",
    "\n",
    "# Crear un modelo (por ejemplo, Regresión Logística)\n",
    "model = LogisticRegression()\n",
    "\n",
    "# Entrenar el modelo\n",
    "model.fit(X_train, y_train)\n",
    "\n",
    "# Realizar predicciones en el conjunto de prueba\n",
    "y_pred = model.predict(X_test)\n",
    "\n",
    "# Calcular Precision y Recall\n",
    "precision = precision_score(y_test, y_pred, average='macro')\n",
    "recall = recall_score(y_test, y_pred, average='macro')\n",
    "\n",
    "# Imprimir Precision y Recall\n",
    "print(\"Precision:\", precision)\n",
    "print(\"Recall:\", recall)\n",
    "\n",
    "# Graficar Precision y Recall\n",
    "plt.bar([\"Precision\", \"Recall\"], [precision, recall], color=['blue', 'green'])\n",
    "plt.ylim(0, 1)\n",
    "plt.ylabel(\"Score\")\n",
    "plt.title(\"Precision and Recall\")\n",
    "plt.show()"
   ]
  },
  {
   "cell_type": "markdown",
   "metadata": {},
   "source": [
    "En la gráfica resultante, la barra azul representa la Precision y la barra verde representa el Recall. Estas métricas pueden ayudarte a entender cómo el modelo está funcionando en términos de predicciones precisas y la capacidad de detectar positivos correctamente, respectivamente."
   ]
  },
  {
   "cell_type": "markdown",
   "metadata": {},
   "source": [
    "## **F1 score**"
   ]
  },
  {
   "cell_type": "markdown",
   "metadata": {},
   "source": [
    "La F1-score es una métrica que combina la Precision y el Recall en un solo valor para evaluar el rendimiento de un modelo de clasificación. Esta métrica es especialmente útil cuando se trata de clases desequilibradas, ya que proporciona un equilibrio entre la precisión y la capacidad del modelo para capturar instancias positivas.\n",
    "\n",
    "La F1-score se calcula utilizando la siguiente fórmula:\n",
    "\n",
    "$\\text{F1-score} = \\frac{2 \\times \\text{Precision} \\times \\text{Recall}}{\\text{Precision} + \\text{Recall}}$\n",
    "\n",
    "La F1-score es la media armónica de la Precision y el Recall, lo que significa que penaliza más fuertemente los valores bajos en comparación con la media aritmética, lo que hace que sea una métrica adecuada para casos en los que el desequilibrio de clases es un problema.\n",
    "\n",
    "A continuación, se presenta un ejemplo de cómo calcular y visualizar la F1-score en Python:"
   ]
  },
  {
   "cell_type": "code",
   "execution_count": 5,
   "metadata": {},
   "outputs": [
    {
     "name": "stdout",
     "output_type": "stream",
     "text": [
      "F1-score: 1.0\n"
     ]
    },
    {
     "data": {
      "image/png": "[encoded data removed]",
      "text/plain": [
       "<Figure size 640x480 with 1 Axes>"
      ]
     },
     "metadata": {},
     "output_type": "display_data"
    }
   ],
   "source": [
    "import numpy as np\n",
    "import matplotlib.pyplot as plt\n",
    "from sklearn.metrics import f1_score\n",
    "from sklearn.datasets import load_iris\n",
    "from sklearn.model_selection import train_test_split\n",
    "from sklearn.linear_model import LogisticRegression\n",
    "\n",
    "# Cargar el conjunto de datos (por ejemplo, Iris)\n",
    "iris = load_iris()\n",
    "X = iris.data\n",
    "y = iris.target\n",
    "\n",
    "# Dividir el conjunto de datos en entrenamiento y prueba\n",
    "X_train, X_test, y_train, y_test = train_test_split(X, y, test_size=0.2, random_state=42)\n",
    "\n",
    "# Crear un modelo (por ejemplo, Regresión Logística)\n",
    "model = LogisticRegression()\n",
    "\n",
    "# Entrenar el modelo\n",
    "model.fit(X_train, y_train)\n",
    "\n",
    "# Realizar predicciones en el conjunto de prueba\n",
    "y_pred = model.predict(X_test)\n",
    "\n",
    "# Calcular F1-score\n",
    "f1 = f1_score(y_test, y_pred, average='macro')\n",
    "\n",
    "# Imprimir F1-score\n",
    "print(\"F1-score:\", f1)\n",
    "\n",
    "# Graficar F1-score\n",
    "plt.bar([\"F1-score\"], [f1], color='purple')\n",
    "plt.ylim(0, 1)\n",
    "plt.ylabel(\"Score\")\n",
    "plt.title(\"F1-score\")\n",
    "plt.show()"
   ]
  },
  {
   "cell_type": "markdown",
   "metadata": {},
   "source": [
    "En la gráfica resultante, la barra morada representa la F1-score. La F1-score proporciona una métrica única para evaluar tanto la precisión como la capacidad de capturar instancias positivas del modelo en un solo valor."
   ]
  },
  {
   "cell_type": "markdown",
   "metadata": {},
   "source": [
    "## **Métricas con Scikit-Learn**"
   ]
  },
  {
   "cell_type": "markdown",
   "metadata": {},
   "source": [
    "Scikit-Learn, una de las bibliotecas más populares de Python para Machine Learning, proporciona varias funciones y clases para calcular métricas de evaluación de modelos de clasificación. A continuación, te mostraré cómo utilizar Scikit-Learn para calcular y visualizar las métricas de matriz de confusión, precisión, recall y F1-score.\n",
    "\n",
    "Primero, asegúrate de tener Scikit-Learn instalado. Si no lo tienes instalado, puedes hacerlo con el siguiente comando:\n",
    "\n",
    "```bash\n",
    "pip install scikit-learn\n",
    "```\n",
    "\n",
    "Ahora, aquí tienes un ejemplo de cómo calcular y visualizar estas métricas usando Scikit-Learn:"
   ]
  },
  {
   "cell_type": "code",
   "execution_count": 6,
   "metadata": {},
   "outputs": [
    {
     "name": "stdout",
     "output_type": "stream",
     "text": [
      "Matriz de Confusión:\n",
      "[[10  0  0]\n",
      " [ 0  9  0]\n",
      " [ 0  0 11]]\n",
      "Precisión: 1.0\n",
      "Recall: 1.0\n",
      "F1-score: 1.0\n"
     ]
    },
    {
     "data": {
      "image/png": "[encoded data removed]",
      "text/plain": [
       "<Figure size 1200x400 with 2 Axes>"
      ]
     },
     "metadata": {},
     "output_type": "display_data"
    }
   ],
   "source": [
    "import numpy as np\n",
    "import matplotlib.pyplot as plt\n",
    "from sklearn.metrics import confusion_matrix, precision_score, recall_score, f1_score\n",
    "from sklearn.datasets import load_iris\n",
    "from sklearn.model_selection import train_test_split\n",
    "from sklearn.linear_model import LogisticRegression\n",
    "\n",
    "# Cargar el conjunto de datos (por ejemplo, Iris)\n",
    "iris = load_iris()\n",
    "X = iris.data\n",
    "y = iris.target\n",
    "\n",
    "# Dividir el conjunto de datos en entrenamiento y prueba\n",
    "X_train, X_test, y_train, y_test = train_test_split(X, y, test_size=0.2, random_state=42)\n",
    "\n",
    "# Crear un modelo (por ejemplo, Regresión Logística)\n",
    "model = LogisticRegression()\n",
    "\n",
    "# Entrenar el modelo\n",
    "model.fit(X_train, y_train)\n",
    "\n",
    "# Realizar predicciones en el conjunto de prueba\n",
    "y_pred = model.predict(X_test)\n",
    "\n",
    "# Calcular matriz de confusión\n",
    "conf_matrix = confusion_matrix(y_test, y_pred)\n",
    "\n",
    "# Calcular precisión\n",
    "precision = precision_score(y_test, y_pred, average='macro')\n",
    "\n",
    "# Calcular recall\n",
    "recall = recall_score(y_test, y_pred, average='macro')\n",
    "\n",
    "# Calcular F1-score\n",
    "f1 = f1_score(y_test, y_pred, average='macro')\n",
    "\n",
    "# Imprimir métricas\n",
    "print(\"Matriz de Confusión:\")\n",
    "print(conf_matrix)\n",
    "print(\"Precisión:\", precision)\n",
    "print(\"Recall:\", recall)\n",
    "print(\"F1-score:\", f1)\n",
    "\n",
    "# Graficar métricas\n",
    "fig, axes = plt.subplots(1, 2, figsize=(12, 4))\n",
    "axes[0].imshow(conf_matrix, cmap='Blues', interpolation='nearest')\n",
    "axes[0].set_title(\"Matriz de Confusión\")\n",
    "axes[1].bar([\"Precisión\", \"Recall\", \"F1-score\"], [precision, recall, f1], color=['green', 'blue', 'purple'])\n",
    "axes[1].set_ylim(0, 1)\n",
    "axes[1].set_title(\"Métricas\")\n",
    "plt.tight_layout()\n",
    "plt.show()"
   ]
  },
  {
   "cell_type": "markdown",
   "metadata": {},
   "source": [
    "Este ejemplo ilustra cómo utilizar las funciones de Scikit-Learn para calcular y visualizar la matriz de confusión, precisión, recall y F1-score de un modelo de clasificación. Las gráficas y los valores de las métricas proporcionan una visión completa del rendimiento del modelo en términos de clasificación y captura de instancias positivas."
   ]
  },
  {
   "cell_type": "markdown",
   "metadata": {},
   "source": [
    "## **Clasificadores hipotéticos**"
   ]
  },
  {
   "cell_type": "markdown",
   "metadata": {},
   "source": [
    "Los \"Clasificadores Hipotéticos\" no son un término estándar en el campo de Machine Learning y la clasificación. Sin embargo, parece que te estás refiriendo a clasificadores que se construyen con hipótesis o suposiciones específicas sobre los datos y su relación con las clases.\n",
    "\n",
    "En el contexto de Machine Learning y clasificación, un clasificador es un algoritmo que toma características (atributos) de una instancia y asigna una etiqueta de clase a esa instancia en función de las características observadas. Los clasificadores se entrenan en conjuntos de datos etiquetados (datos de entrenamiento) para aprender a realizar estas asignaciones.\n",
    "\n",
    "Los clasificadores pueden ser basados en varios algoritmos, como árboles de decisión, regresión logística, máquinas de soporte vectorial (SVM), k-vecinos más cercanos (KNN), entre otros. Cada uno de estos algoritmos puede tener suposiciones o hipótesis subyacentes sobre la distribución de los datos y cómo las características se relacionan con las clases.\n",
    "\n",
    "Por ejemplo, un clasificador de regresión logística asume que los datos se pueden separar utilizando una función logística y busca encontrar los parámetros óptimos para esta función. Un clasificador KNN asume que instancias similares tienden a tener la misma etiqueta de clase.\n",
    "\n",
    "Si te refieres a algún tipo específico de clasificador o tienes más contexto sobre lo que significa \"Clasificadores Hipotéticos\" en tu contexto, estaré encantado de proporcionar más información."
   ]
  },
  {
   "cell_type": "markdown",
   "metadata": {},
   "source": [
    "| **Inicio** | **atrás 18** | **Siguiente 20** |\n",
    "|----------- |-------------- |---------------|\n",
    "| [🏠](../../README.md) | [⏪](./18_Propagacion_de_Afinidad.ipynb)| [⏩](./20_Silueta_y_Davies_Bouldin.ipynb)|"
   ]
  }
 ],
 "metadata": {
  "kernelspec": {
   "display_name": "base",
   "language": "python",
   "name": "python3"
  },
  "language_info": {
   "codemirror_mode": {
    "name": "ipython",
    "version": 3
   },
   "file_extension": ".py",
   "mimetype": "text/x-python",
   "name": "python",
   "nbconvert_exporter": "python",
   "pygments_lexer": "ipython3",
   "version": "3.9.12"
  },
  "orig_nbformat": 4
 },
 "nbformat": 4,
 "nbformat_minor": 2
}
