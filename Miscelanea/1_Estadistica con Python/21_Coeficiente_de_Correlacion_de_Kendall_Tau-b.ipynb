{
 "cells": [
  {
   "cell_type": "markdown",
   "metadata": {},
   "source": [
    "| **Inicio** | **atrás 20** | **Siguiente 22** |\n",
    "|----------- |-------------- |---------------|\n",
    "| [🏠](../../README.md) | [⏪](./20_Medidas_de_Centralidad.ipynb)| [⏩](./22_%20Series_de_Tiempo.ipynb)|"
   ]
  },
  {
   "cell_type": "markdown",
   "metadata": {},
   "source": [
    "# **21. Analiza datos asociados a Rankings con el Coeficiente de Correlación de Kendall Tau-b**"
   ]
  },
  {
   "cell_type": "markdown",
   "metadata": {},
   "source": [
    "## **Introducción**"
   ]
  },
  {
   "cell_type": "markdown",
   "metadata": {},
   "source": [
    "El coeficiente de correlación de Kendall Tau-b es una medida estadística que se utiliza para evaluar la relación entre dos conjuntos de datos ordinales o rankings. Este coeficiente mide la concordancia o la discordancia en el ordenamiento de los datos entre dos variables. A continuación, te proporcionaré una explicación detallada junto con ejemplos y gráficos para ilustrar cómo utilizar el coeficiente de correlación de Kendall Tau-b para analizar datos asociados a rankings utilizando Python.\n",
    "\n",
    "**Cálculo del Coeficiente de Correlación de Kendall Tau-b:**\n",
    "\n",
    "El coeficiente de correlación de Kendall Tau-b se calcula utilizando la fórmula:\n",
    "\n",
    "$tau_b = \\frac{n_c - n_d}{\\sqrt{(n_t - n_1)(n_t - n_2)}}$\n",
    "\n",
    "- $n_c$: Número de pares concordantes.\n",
    "\n",
    "- $n_d$: Número de pares discordantes.\n",
    "\n",
    "- $n_t$: Número total de pares de observaciones.\n",
    "\n",
    "- $n_1$: Número de observaciones con el mismo valor en la primera variable.\n",
    "\n",
    "- $n_2$: Número de observaciones con el mismo valor en la segunda variable.\n",
    "\n",
    "**Ejemplo:**\n",
    "\n",
    "Supongamos que tenemos dos conjuntos de datos que representan las preferencias de música y de deportes de un grupo de personas."
   ]
  },
  {
   "cell_type": "code",
   "execution_count": 1,
   "metadata": {},
   "outputs": [
    {
     "name": "stdout",
     "output_type": "stream",
     "text": [
      "Coeficiente de Correlación de Kendall Tau-b: 0.0\n",
      "Valor p: 1.0\n"
     ]
    }
   ],
   "source": [
    "import pandas as pd\n",
    "from scipy.stats import kendalltau\n",
    "\n",
    "# Crear un DataFrame de ejemplo\n",
    "data = {\n",
    "    'Persona': ['Ana', 'Juan', 'María', 'Carlos', 'Luis', 'Laura'],\n",
    "    'Preferencia_Musica': [1, 3, 2, 3, 1, 2],  # 1: Pop, 2: Rock, 3: Reggaeton\n",
    "    'Preferencia_Deporte': [3, 2, 1, 2, 1, 3]  # 1: Fútbol, 2: Baloncesto, 3: Natación\n",
    "}\n",
    "\n",
    "df = pd.DataFrame(data)\n",
    "\n",
    "# Calcular el coeficiente de correlación de Kendall Tau-b\n",
    "correlation, p_value = kendalltau(df['Preferencia_Musica'], df['Preferencia_Deporte'])\n",
    "\n",
    "print(\"Coeficiente de Correlación de Kendall Tau-b:\", correlation)\n",
    "print(\"Valor p:\", p_value)"
   ]
  },
  {
   "cell_type": "markdown",
   "metadata": {},
   "source": [
    "**Interpretación del Coeficiente de Correlación:**\n",
    "\n",
    "El coeficiente de correlación de Kendall Tau-b varía entre -1 y 1.\n",
    "- Si es positivo, indica una concordancia en el ordenamiento de las variables.\n",
    "- Si es negativo, indica una discordancia en el ordenamiento de las variables.\n",
    "- Si es cercano a 0, indica una relación débil entre las variables.\n",
    "\n",
    "**Gráfico de Dispensión:**\n",
    "\n",
    "Podemos visualizar la relación entre las preferencias de música y deportes utilizando un gráfico de dispersión."
   ]
  },
  {
   "cell_type": "code",
   "execution_count": 2,
   "metadata": {},
   "outputs": [
    {
     "data": {
      "image/png": "[encoded data removed]",
      "text/plain": [
       "<Figure size 640x480 with 1 Axes>"
      ]
     },
     "metadata": {},
     "output_type": "display_data"
    }
   ],
   "source": [
    "import matplotlib.pyplot as plt\n",
    "\n",
    "plt.scatter(df['Preferencia_Musica'], df['Preferencia_Deporte'], color='blue')\n",
    "plt.xlabel('Preferencia de Música')\n",
    "plt.ylabel('Preferencia de Deporte')\n",
    "plt.title('Relación entre Preferencias de Música y Deporte')\n",
    "plt.xticks([1, 2, 3], ['Pop', 'Rock', 'Reggaeton'])\n",
    "plt.yticks([1, 2, 3], ['Fútbol', 'Baloncesto', 'Natación'])\n",
    "plt.show()"
   ]
  },
  {
   "cell_type": "markdown",
   "metadata": {},
   "source": [
    "**Interpretación del Gráfico:**\n",
    "\n",
    "En el gráfico de dispersión, cada punto representa una persona. La posición en el eje x indica su preferencia de música, y la posición en el eje y indica su preferencia de deporte. Los puntos que tienden a estar en línea diagonal sugieren una relación entre las preferencias de música y deportes.\n",
    "\n",
    "**Conclusiones:**\n",
    "\n",
    "- El coeficiente de correlación de Kendall Tau-b es útil para medir la relación entre dos conjuntos de datos ordinales o rankings.\n",
    "- El valor del coeficiente y su interpretación indican la concordancia o discordancia en el ordenamiento de los datos.\n",
    "- El gráfico de dispersión ayuda a visualizar la relación entre las variables ordinales.\n",
    "\n",
    "En resumen, el coeficiente de correlación de Kendall Tau-b y el gráfico de dispersión son herramientas efectivas para analizar la relación entre rankings en datos asociados."
   ]
  },
  {
   "cell_type": "markdown",
   "metadata": {},
   "source": [
    "## **Correlación de Kendall**"
   ]
  },
  {
   "cell_type": "markdown",
   "metadata": {},
   "source": [
    "La correlación de Kendall es una medida estadística utilizada para evaluar la relación entre dos conjuntos de datos ordinales o rankings. Esta medida mide la concordancia o discordancia en el ordenamiento de los datos entre dos variables. La correlación de Kendall cuantifica hasta qué punto las observaciones de ambas variables coinciden en su orden relativo. A continuación, te proporcionaré una explicación detallada junto con ejemplos y gráficos para ilustrar cómo utilizar la correlación de Kendall utilizando Python.\n",
    "\n",
    "**Cálculo de la Correlación de Kendall:**\n",
    "\n",
    "La correlación de Kendall se calcula utilizando la fórmula:\n",
    "\n",
    "$\\tau = \\frac{n_c - n_d}{\\sqrt{(n_t - n_1)(n_t - n_2)}}$\n",
    "\n",
    "- $n_c$: Número de pares concordantes.\n",
    "\n",
    "- $n_d$: Número de pares discordantes.\n",
    "\n",
    "- $n_t$: Número total de pares de observaciones.\n",
    "\n",
    "- $n_1$: Número de observaciones con el mismo valor en la primera variable.\n",
    "\n",
    "- $n_2$: Número de observaciones con el mismo valor en la segunda variable.\n",
    "\n",
    "**Ejemplo:**\n",
    "\n",
    "Supongamos que tenemos dos conjuntos de datos que representan las preferencias de música y de deportes de un grupo de personas."
   ]
  },
  {
   "cell_type": "code",
   "execution_count": 3,
   "metadata": {},
   "outputs": [
    {
     "name": "stdout",
     "output_type": "stream",
     "text": [
      "Correlación de Kendall: 0.0\n",
      "Valor p: 1.0\n"
     ]
    }
   ],
   "source": [
    "import pandas as pd\n",
    "from scipy.stats import kendalltau\n",
    "\n",
    "# Crear un DataFrame de ejemplo\n",
    "data = {\n",
    "    'Persona': ['Ana', 'Juan', 'María', 'Carlos', 'Luis', 'Laura'],\n",
    "    'Preferencia_Musica': [1, 3, 2, 3, 1, 2],  # 1: Pop, 2: Rock, 3: Reggaeton\n",
    "    'Preferencia_Deporte': [3, 2, 1, 2, 1, 3]  # 1: Fútbol, 2: Baloncesto, 3: Natación\n",
    "}\n",
    "\n",
    "df = pd.DataFrame(data)\n",
    "\n",
    "# Calcular la correlación de Kendall\n",
    "correlation, p_value = kendalltau(df['Preferencia_Musica'], df['Preferencia_Deporte'])\n",
    "\n",
    "print(\"Correlación de Kendall:\", correlation)\n",
    "print(\"Valor p:\", p_value)"
   ]
  },
  {
   "cell_type": "markdown",
   "metadata": {},
   "source": [
    "**Interpretación de la Correlación de Kendall:**\n",
    "\n",
    "- El valor de la correlación de Kendall $\\tau$ varía entre -1 y 1.\n",
    "\n",
    "- $\\tau = 1$: Indica una concordancia perfecta en el ordenamiento de las variables.\n",
    "\n",
    "- $\\tau = -1$: Indica una discordancia perfecta en el ordenamiento de las variables.\n",
    "\n",
    "- $\\tau = 0$: Indica que no hay relación en el ordenamiento de las variables.\n",
    "\n",
    "**Gráfico de Dispensión:**\n",
    "\n",
    "Podemos visualizar la relación entre las preferencias de música y deportes utilizando un gráfico de dispersión."
   ]
  },
  {
   "cell_type": "code",
   "execution_count": 4,
   "metadata": {},
   "outputs": [
    {
     "data": {
      "image/png": "[encoded data removed]",
      "text/plain": [
       "<Figure size 640x480 with 1 Axes>"
      ]
     },
     "metadata": {},
     "output_type": "display_data"
    }
   ],
   "source": [
    "import matplotlib.pyplot as plt\n",
    "\n",
    "plt.scatter(df['Preferencia_Musica'], df['Preferencia_Deporte'], color='blue')\n",
    "plt.xlabel('Preferencia de Música')\n",
    "plt.ylabel('Preferencia de Deporte')\n",
    "plt.title('Relación entre Preferencias de Música y Deporte')\n",
    "plt.xticks([1, 2, 3], ['Pop', 'Rock', 'Reggaeton'])\n",
    "plt.yticks([1, 2, 3], ['Fútbol', 'Baloncesto', 'Natación'])\n",
    "plt.show()"
   ]
  },
  {
   "cell_type": "markdown",
   "metadata": {},
   "source": [
    "**Interpretación del Gráfico:**\n",
    "\n",
    "En el gráfico de dispersión, cada punto representa una persona. La posición en el eje x indica su preferencia de música, y la posición en el eje y indica su preferencia de deporte. Los puntos que tienden a estar en línea diagonal sugieren una relación entre las preferencias de música y deportes.\n",
    "\n",
    "**Conclusiones:**\n",
    "\n",
    "- La correlación de Kendall es útil para medir la relación entre dos conjuntos de datos ordinales o rankings.\n",
    "- El valor de la correlación y su interpretación indican la concordancia o discordancia en el ordenamiento de los datos.\n",
    "- El gráfico de dispersión ayuda a visualizar la relación entre las variables ordinales.\n",
    "\n",
    "En resumen, la correlación de Kendall y el gráfico de dispersión son herramientas efectivas para analizar la relación entre rankings en datos ordinales."
   ]
  },
  {
   "cell_type": "markdown",
   "metadata": {},
   "source": [
    "## **Contexto de Ejemplo**"
   ]
  },
  {
   "cell_type": "markdown",
   "metadata": {},
   "source": [
    "Imaginemos un escenario en el que estamos llevando a cabo una encuesta para evaluar la relación entre las preferencias de géneros musicales y las preferencias de géneros cinematográficos en un grupo de personas. Queremos entender si existe una concordancia en las preferencias entre estas dos categorías. Utilizaremos la correlación de Kendall para analizar si las preferencias de géneros musicales y cinematográficos están relacionadas.\n",
    "\n",
    "**Contexto del Ejemplo:**\n",
    "\n",
    "Supongamos que hemos encuestado a un grupo de 10 personas y les hemos pedido que clasifiquen sus preferencias de géneros musicales y cinematográficos en una escala del 1 al 5, donde 1 indica la preferencia más alta y 5 la preferencia más baja.\n",
    "\n",
    "```plaintext\n",
    "Persona | Música | Cine\n",
    "------------------------\n",
    "Ana     |   1    |  2\n",
    "Juan    |   3    |  4\n",
    "María   |   2    |  2\n",
    "Carlos  |   3    |  3\n",
    "Luis    |   1    |  1\n",
    "Laura   |   2    |  4\n",
    "Pedro   |   4    |  5\n",
    "Sofía   |   5    |  3\n",
    "Miguel  |   2    |  4\n",
    "Lucía   |   3    |  5\n",
    "```\n",
    "\n",
    "**Cálculo de la Correlación de Kendall:**\n",
    "\n",
    "Vamos a calcular la correlación de Kendall entre las preferencias de géneros musicales y cinematográficos utilizando Python."
   ]
  },
  {
   "cell_type": "code",
   "execution_count": 5,
   "metadata": {},
   "outputs": [
    {
     "name": "stdout",
     "output_type": "stream",
     "text": [
      "Correlación de Kendall: 0.49354811679282456\n",
      "Valor p: 0.07125456433883683\n"
     ]
    }
   ],
   "source": [
    "import pandas as pd\n",
    "from scipy.stats import kendalltau\n",
    "\n",
    "# Crear un DataFrame con los datos de ejemplo\n",
    "data = {\n",
    "    'Persona': ['Ana', 'Juan', 'María', 'Carlos', 'Luis', 'Laura', 'Pedro', 'Sofía', 'Miguel', 'Lucía'],\n",
    "    'Preferencia_Musica': [1, 3, 2, 3, 1, 2, 4, 5, 2, 3],\n",
    "    'Preferencia_Cine': [2, 4, 2, 3, 1, 4, 5, 3, 4, 5]\n",
    "}\n",
    "\n",
    "df = pd.DataFrame(data)\n",
    "\n",
    "# Calcular la correlación de Kendall\n",
    "correlation, p_value = kendalltau(df['Preferencia_Musica'], df['Preferencia_Cine'])\n",
    "\n",
    "print(\"Correlación de Kendall:\", correlation)\n",
    "print(\"Valor p:\", p_value)"
   ]
  },
  {
   "cell_type": "markdown",
   "metadata": {},
   "source": [
    "**Interpretación de Resultados:**\n",
    "\n",
    "En este ejemplo, imaginemos que el valor de la correlación de Kendall $\\tau$ calculado es aproximadamente 0.6. Esto indica que hay una concordancia moderada entre las preferencias de géneros musicales y cinematográficos en este grupo de personas. Un valor positivo cercano a 1 sugiere que las personas que prefieren ciertos géneros musicales también tienden a preferir ciertos géneros cinematográficos.\n",
    "\n",
    "**Gráfico de Dispensión:**\n",
    "\n",
    "Podemos visualizar la relación entre las preferencias de géneros musicales y cinematográficos utilizando un gráfico de dispersión."
   ]
  },
  {
   "cell_type": "code",
   "execution_count": 6,
   "metadata": {},
   "outputs": [
    {
     "data": {
      "image/png": "[encoded data removed]",
      "text/plain": [
       "<Figure size 640x480 with 1 Axes>"
      ]
     },
     "metadata": {},
     "output_type": "display_data"
    }
   ],
   "source": [
    "import matplotlib.pyplot as plt\n",
    "\n",
    "plt.scatter(df['Preferencia_Musica'], df['Preferencia_Cine'], color='blue')\n",
    "plt.xlabel('Preferencia de Música')\n",
    "plt.ylabel('Preferencia de Cine')\n",
    "plt.title('Relación entre Preferencias de Música y Cine')\n",
    "plt.xticks([1, 2, 3, 4, 5])\n",
    "plt.yticks([1, 2, 3, 4, 5])\n",
    "plt.show()"
   ]
  },
  {
   "cell_type": "markdown",
   "metadata": {},
   "source": [
    "**Interpretación del Gráfico:**\n",
    "\n",
    "En el gráfico de dispersión, cada punto representa una persona. La posición en el eje x indica su preferencia de música, y la posición en el eje y indica su preferencia de cine. Los puntos que tienden a estar en línea diagonal sugieren una relación entre las preferencias de música y cine.\n",
    "\n",
    "**Conclusiones:**\n",
    "\n",
    "En este contexto, utilizamos la correlación de Kendall para analizar la relación entre las preferencias de géneros musicales y cinematográficos en un grupo de personas. La correlación de Kendall y el gráfico de dispersión nos permitieron comprender la naturaleza de esta relación en términos de concordancia en el ordenamiento de las preferencias. Estas herramientas son útiles para explorar relaciones en datos ordinales y rankings."
   ]
  },
  {
   "cell_type": "markdown",
   "metadata": {},
   "source": [
    "## **Ranking y Relación de orden**"
   ]
  },
  {
   "cell_type": "markdown",
   "metadata": {},
   "source": [
    "El concepto de ranking y relación de orden está relacionado con la forma en que se pueden ordenar y comparar elementos en un conjunto. Un ranking es una asignación de números o etiquetas a elementos de un conjunto, indicando su posición o importancia relativa. La relación de orden se refiere a cómo se comparan los elementos en términos de su posición en el ranking.\n",
    "\n",
    "**Ranking:**\n",
    "\n",
    "Un ranking es una asignación de valores o etiquetas a elementos de un conjunto, de modo que se indique su posición o jerarquía relativa. Los rankings son comunes en diversas áreas, como deportes (clasificación de equipos), encuestas (orden de preferencias) y competencias (evaluación de participantes).\n",
    "\n",
    "Por ejemplo, en una competencia de atletismo, los corredores se ordenan según sus tiempos en una carrera, lo que resulta en un ranking que indica quién cruzó la línea de meta primero, segundo, tercero, y así sucesivamente.\n",
    "\n",
    "**Relación de Orden:**\n",
    "\n",
    "La relación de orden es una relación binaria que establece cómo se comparan dos elementos en un conjunto. Puede haber tres tipos principales de relaciones de orden: total, parcial y estricta.\n",
    "\n",
    "1. **Relación de Orden Total:** En una relación de orden total, todos los elementos del conjunto son comparables entre sí. Esto significa que para cualquier par de elementos, uno es mayor que el otro, o son iguales. Por ejemplo, en los números reales, $(3)$ y $(7)$ son comparables ya que $(3 < 7)$.\n",
    "\n",
    "2. **Relación de Orden Parcial:** En una relación de orden parcial, solo algunos elementos son comparables entre sí, mientras que otros pueden no serlo. Por ejemplo, en un conjunto de películas, si consideramos la relación \"es mejor que\", algunas películas pueden ser comparables en términos de preferencia, pero otras pueden no tener una relación clara.\n",
    "\n",
    "3. **Relación de Orden Estricta:** Es una relación de orden que es irreflexiva, transitiva y asimétrica. Significa que ningún elemento es igual a sí mismo, si $(a)$ es mayor que $(b)$, y $(b)$ es mayor que $(c)$, entonces $(a)$ es mayor que $(c)$, y no hay dos elementos que sean mutuamente mayores entre sí.\n",
    "\n",
    "**Ejemplo:**\n",
    "\n",
    "Supongamos que tenemos un conjunto de películas y queremos establecer un ranking basado en la preferencia de un grupo de personas. A continuación se muestra un conjunto de películas junto con su ranking:\n",
    "\n",
    "```plaintext\n",
    "Ranking | Película\n",
    "-------------------\n",
    "   1    | Avengers: Endgame\n",
    "   2    | La La Land\n",
    "   3    | Inception\n",
    "   4    | The Shawshank Redemption\n",
    "   5    | Titanic\n",
    "```\n",
    "\n",
    "En este caso, hemos asignado un número a cada película para indicar su posición en el ranking. La relación de orden aquí es total, ya que todas las películas tienen una posición definida en el ranking y son comparables entre sí.\n",
    "\n",
    "**Relación de Orden y Correlación:**\n",
    "\n",
    "La correlación de Kendall y la correlación de Spearman son medidas que capturan la relación de orden entre dos conjuntos de datos ordinales o rankings. Estas medidas cuantifican la concordancia o discordancia en el ordenamiento de los datos entre las dos variables, lo que proporciona una forma de evaluar la relación de orden en un contexto más estadístico."
   ]
  },
  {
   "cell_type": "markdown",
   "metadata": {},
   "source": [
    "## **Empates dentro de un ranking**"
   ]
  },
  {
   "cell_type": "markdown",
   "metadata": {},
   "source": [
    "Un empate en un ranking ocurre cuando dos o más elementos tienen el mismo valor o posición en la jerarquía. En otras palabras, los elementos empate comparten la misma clasificación o posición en el ranking, lo que implica que no hay un claro orden de preferencia entre ellos. Los empates son comunes en situaciones en las que los elementos son muy similares en términos de la característica que se está evaluando.\n",
    "\n",
    "Cuando se manejan empates en un ranking, es importante considerar cómo afectarán las medidas de relación y correlación. Las medidas de relación de orden, como la correlación de Kendall y la correlación de Spearman, tratan con empates de manera diferente y pueden dar lugar a diferentes interpretaciones.\n",
    "\n",
    "**Cómo manejar empates en la correlación de Kendall y Spearman:**\n",
    "\n",
    "- **Correlación de Kendall:** En la correlación de Kendall, los empates se manejan asignando el mismo promedio a todos los pares que están empatados. Esto significa que si dos elementos están empatados en un ranking, se les asignará el mismo promedio de las clasificaciones que habrían tenido si no hubiera empate.\n",
    "\n",
    "- **Correlación de Spearman:** En la correlación de Spearman, los empates también se tratan considerando el promedio de las clasificaciones. Sin embargo, la fórmula de cálculo de la correlación de Spearman tiene en cuenta los empates de manera más directa que la correlación de Kendall.\n",
    "\n",
    "**Ejemplo de Empates:**\n",
    "\n",
    "Supongamos que estamos realizando una encuesta de preferencias de géneros musicales y los participantes clasificaron tres géneros musicales: Pop, Rock y Jazz. A continuación se muestra un ejemplo de un ranking con empates:\n",
    "\n",
    "```plaintext\n",
    "Ranking | Participante | Preferencia Musical\n",
    "-------------------------------------------\n",
    "   1    |      Ana     |         Pop\n",
    "   2    |     Juan     |         Rock\n",
    "   3    |     María    |         Jazz\n",
    "   3    |    Carlos    |         Jazz\n",
    "   5    |     Luis     |         Pop\n",
    "```\n",
    "\n",
    "En este ejemplo, los participantes María y Carlos tienen una preferencia empatada por el género musical Jazz. Esto significa que ambos comparten la tercera posición en el ranking. Cuando calculamos la correlación de Kendall o la correlación de Spearman, los empates se tendrán en cuenta para determinar cómo se relacionan los rankings entre sí.\n",
    "\n",
    "**Importancia de Manejar Empates:**\n",
    "\n",
    "El manejo adecuado de empates es crucial para obtener resultados precisos al analizar la relación entre rankings. Las medidas de correlación pueden proporcionar información valiosa sobre la concordancia entre los ordenamientos, pero es fundamental comprender cómo se manejan los empates en estas medidas para interpretar correctamente los resultados. En algunos casos, los empates pueden indicar áreas de ambigüedad o falta de diferenciación en las preferencias de los individuos, lo que también es importante para el análisis y la toma de decisiones."
   ]
  },
  {
   "cell_type": "markdown",
   "metadata": {},
   "source": [
    "## **Pares concordantes y discordantes**"
   ]
  },
  {
   "cell_type": "markdown",
   "metadata": {},
   "source": [
    "Los pares concordantes y discordantes son conceptos utilizados en el contexto de las medidas de correlación que evalúan la relación entre dos conjuntos de datos ordinales o rankings. Estas medidas, como la correlación de Kendall y la correlación de Spearman, cuantifican la concordancia o discordancia entre el ordenamiento de los datos en ambas variables. Los pares concordantes y discordantes son esenciales para calcular estas medidas y comprender la relación entre los rankings.\n",
    "\n",
    "**Pares Concordantes:**\n",
    "\n",
    "Dos pares de elementos se consideran concordantes si el ordenamiento de las dos variables es consistente. En otras palabras, si en un par de observaciones ($x_i$, $y_i$)  y ($x_j$, $y_j$), $x_i$ es mayor que $x_j$ y $y_i$ es mayor que $y_j$, o si $x_i$ es menor que $x_j$ y $y_i$ es menor que $y_j$, entonces se trata de un par concordante.\n",
    "\n",
    "**Pares Discordantes:**\n",
    "\n",
    "Dos pares de elementos se consideran discordantes si el ordenamiento de las dos variables es inconsistente. En otras palabras, si en un par de observaciones ($x_i$, $y_i$) y ($x_j$, $y_j$), $x_i$ es mayor que $x_j$ pero $y_i$ es menor que $y_j$, o si $x_i$ es menor que $x_j$ pero $y_i$ es mayor que $y_j$, entonces se trata de un par discordante.\n",
    "\n",
    "**Importancia de Pares Concordantes y Discordantes:**\n",
    "\n",
    "Los pares concordantes y discordantes son fundamentales para calcular la correlación de Kendall y la correlación de Spearman. Estas medidas se basan en la proporción de pares concordantes y discordantes en los rankings. Una mayor proporción de pares concordantes indica una mayor concordancia entre los rankings, mientras que una mayor proporción de pares discordantes indica una mayor discordancia.\n",
    "\n",
    "**Ejemplo:**\n",
    "\n",
    "Supongamos que tenemos dos conjuntos de rankings de películas: uno basado en las calificaciones de los críticos y otro basado en las calificaciones del público. A continuación se muestra un ejemplo simplificado de estos rankings:\n",
    "\n",
    "```plaintext\n",
    "Críticos   | Público\n",
    "--------------------\n",
    "   A       |    B\n",
    "   B       |    A\n",
    "   C       |    C\n",
    "   D       |    D\n",
    "   E       |    F\n",
    "   F       |    E\n",
    "```\n",
    "\n",
    "En este ejemplo, tenemos los siguientes pares:\n",
    "\n",
    "- Concordantes: $(A, B)$, $(C, C)$, $(D, D)$, $(E, F)$, $(F, E)$\n",
    "\n",
    "- Discordantes: $(B, A)$\n",
    "\n",
    "Si calculamos la correlación de Kendall o la correlación de Spearman para estos rankings, la proporción de pares concordantes y discordantes se tendrá en cuenta para determinar la relación entre los rankings.\n",
    "\n",
    "**Conclusión:**\n",
    "\n",
    "Los pares concordantes y discordantes son esenciales para las medidas de correlación que evalúan la relación entre rankings. Estos pares ayudan a cuantificar la concordancia o discordancia en el ordenamiento de los datos, lo que proporciona una forma estadística de entender cómo se relacionan los rankings entre sí."
   ]
  },
  {
   "cell_type": "markdown",
   "metadata": {},
   "source": [
    "## **Fórmula**"
   ]
  },
  {
   "cell_type": "markdown",
   "metadata": {},
   "source": [
    "La fórmula para calcular el coeficiente de correlación de Kendall $\\tau$ se basa en los pares concordantes y discordantes en los rankings de dos variables. Este coeficiente mide la concordancia entre los rankings ordinales y puede variar entre -1 y 1, donde:\n",
    "\n",
    "- $\\tau = 1$ indica una concordancia perfecta entre los rankings.\n",
    "\n",
    "- $\\tau = -1$ indica una discordancia perfecta entre los rankings.\n",
    "\n",
    "- $\\tau = 0$ indica que no hay una relación clara entre los rankings.\n",
    "\n",
    "La fórmula general para el coeficiente de correlación de Kendall es:\n",
    "\n",
    "$\\tau = \\frac{{\\text{Número de pares concordantes} - \\text{Número de pares discordantes}}}{{\\text{Número total de pares}}}$\n",
    "\n",
    "Donde:\n",
    "\n",
    "- El \"Número de pares concordantes\" es la cantidad de pares de elementos en los que el ordenamiento de ambas variables es consistente.\n",
    "- El \"Número de pares discordantes\" es la cantidad de pares de elementos en los que el ordenamiento de ambas variables es inconsistente.\n",
    "- El \"Número total de pares\" es la cantidad total de pares de elementos en los rankings.\n",
    "\n",
    "Esta fórmula captura la relación de orden entre los rankings y proporciona una medida cuantitativa de su concordancia.\n",
    "\n",
    "**Ejemplo:**\n",
    "\n",
    "Supongamos que tenemos dos conjuntos de rankings de películas y queremos calcular el coeficiente de correlación de Kendall entre ellos. A continuación, se muestran los pares concordantes y discordantes para un ejemplo simplificado:\n",
    "\n",
    "- Concordantes: $(A, B)$, $(C, C)$, $(D, D)$, $(E, F)$, $(F, E)$\n",
    "\n",
    "- Discordantes: $(B, A)$\n",
    "\n",
    "Si aplicamos la fórmula:\n",
    "\n",
    "$\\tau = \\frac{{\\text{Número de pares concordantes} - \\text{Número de pares discordantes}}}{{\\text{Número total de pares}}}$\n",
    "\n",
    "$= \\frac{{5 - 1}}{{5 \\cdot (5-1)/2}} = \\frac{4}{10} = 0.4$\n",
    "\n",
    "\n",
    "En este ejemplo, el coeficiente de correlación de Kendall $\\tau$ es 0.4, lo que indica una concordancia moderada entre los rankings.\n",
    "\n",
    "**Nota:** Calcular el coeficiente de correlación de Kendall puede ser un proceso laborioso para conjuntos de datos grandes. En la práctica, es común utilizar bibliotecas de análisis de datos como SciPy en Python para calcularlo de manera eficiente."
   ]
  },
  {
   "cell_type": "markdown",
   "metadata": {},
   "source": [
    "## **Kendall Tau-b con Python**"
   ]
  },
  {
   "cell_type": "markdown",
   "metadata": {},
   "source": [
    "La correlación de Kendall Tau-b, también conocida como coeficiente de concordancia de Kendall Tau-b, es una medida estadística utilizada para evaluar la concordancia o similitud entre dos conjuntos de rankings o variables ordinales. Esta medida es una versión mejorada del coeficiente de correlación de Kendall Tau-a y aborda algunas de sus limitaciones al manejar empates y desacuerdos entre los rankings.\n",
    "\n",
    "La biblioteca `scipy` en Python proporciona una función para calcular el coeficiente de Kendall Tau-b. Aquí te presento una explicación detallada con un ejemplo y las respectivas gráficas.\n",
    "\n",
    "**Paso 1: Importar las bibliotecas necesarias:**"
   ]
  },
  {
   "cell_type": "code",
   "execution_count": 7,
   "metadata": {},
   "outputs": [],
   "source": [
    "import numpy as np\n",
    "from scipy.stats import kendalltau\n",
    "import matplotlib.pyplot as plt"
   ]
  },
  {
   "cell_type": "markdown",
   "metadata": {},
   "source": [
    "**Paso 2: Crear los conjuntos de datos:**\n",
    "\n",
    "Supongamos que tenemos dos conjuntos de rankings de películas por parte de dos grupos de personas diferentes. A continuación se muestra un ejemplo simplificado:"
   ]
  },
  {
   "cell_type": "code",
   "execution_count": 8,
   "metadata": {},
   "outputs": [],
   "source": [
    "\n",
    "group1_rankings = [1, 3, 2, 4, 5]\n",
    "group2_rankings = [2, 3, 1, 4, 5]"
   ]
  },
  {
   "cell_type": "markdown",
   "metadata": {},
   "source": [
    "**Paso 3: Calcular el coeficiente de Kendall Tau-b:**"
   ]
  },
  {
   "cell_type": "code",
   "execution_count": 9,
   "metadata": {},
   "outputs": [
    {
     "name": "stdout",
     "output_type": "stream",
     "text": [
      "Coeficiente de Kendall Tau-b: 0.7999999999999999\n"
     ]
    }
   ],
   "source": [
    "tau, _ = kendalltau(group1_rankings, group2_rankings)\n",
    "print(\"Coeficiente de Kendall Tau-b:\", tau)"
   ]
  },
  {
   "cell_type": "markdown",
   "metadata": {},
   "source": [
    "**Paso 4: Visualizar los rankings:**"
   ]
  },
  {
   "cell_type": "code",
   "execution_count": 10,
   "metadata": {},
   "outputs": [
    {
     "data": {
      "image/png": "[encoded data removed]",
      "text/plain": [
       "<Figure size 1000x400 with 2 Axes>"
      ]
     },
     "metadata": {},
     "output_type": "display_data"
    }
   ],
   "source": [
    "plt.figure(figsize=(10, 4))\n",
    "\n",
    "plt.subplot(1, 2, 1)\n",
    "plt.scatter(group1_rankings, group2_rankings, color='b')\n",
    "plt.xlabel('Rankings del Grupo 1')\n",
    "plt.ylabel('Rankings del Grupo 2')\n",
    "plt.title('Relación entre Rankings')\n",
    "\n",
    "plt.subplot(1, 2, 2)\n",
    "plt.bar(group1_rankings, group2_rankings, color='g')\n",
    "plt.xlabel('Rankings del Grupo 1')\n",
    "plt.ylabel('Rankings del Grupo 2')\n",
    "plt.title('Relación entre Rankings (Barra)')\n",
    "\n",
    "plt.tight_layout()\n",
    "plt.show()"
   ]
  },
  {
   "cell_type": "markdown",
   "metadata": {},
   "source": [
    "**Explicación:**\n",
    "\n",
    "- En el paso 2, hemos creado dos conjuntos de datos (`group1_rankings` y `group2_rankings`) que representan los rankings de dos grupos diferentes de personas.\n",
    "- En el paso 3, hemos calculado el coeficiente de Kendall Tau-b utilizando la función `kendalltau` de `scipy.stats`. El resultado es un valor que varía entre -1 y 1, donde un valor más cercano a 1 indica mayor concordancia entre los rankings.\n",
    "- En el paso 4, hemos utilizado la biblioteca `matplotlib` para visualizar los rankings en un gráfico de dispersión y un gráfico de barras. Esto nos permite observar la relación entre los rankings de los dos grupos.\n",
    "\n",
    "La salida del código mostrará el coeficiente de Kendall Tau-b y generará gráficas que representan la relación entre los rankings de los dos grupos. Estas gráficas te ayudarán a visualizar la concordancia o discordancia entre los rankings y a comprender la relación entre las variables ordinales."
   ]
  },
  {
   "cell_type": "markdown",
   "metadata": {},
   "source": [
    "| **Inicio** | **atrás 20** | **Siguiente 22** |\n",
    "|----------- |-------------- |---------------|\n",
    "| [🏠](../../README.md) | [⏪](./20_Medidas_de_Centralidad.ipynb)| [⏩](./22_%20Series_de_Tiempo.ipynb)|"
   ]
  }
 ],
 "metadata": {
  "kernelspec": {
   "display_name": "base",
   "language": "python",
   "name": "python3"
  },
  "language_info": {
   "codemirror_mode": {
    "name": "ipython",
    "version": 3
   },
   "file_extension": ".py",
   "mimetype": "text/x-python",
   "name": "python",
   "nbconvert_exporter": "python",
   "pygments_lexer": "ipython3",
   "version": "3.9.12"
  },
  "orig_nbformat": 4
 },
 "nbformat": 4,
 "nbformat_minor": 2
}
