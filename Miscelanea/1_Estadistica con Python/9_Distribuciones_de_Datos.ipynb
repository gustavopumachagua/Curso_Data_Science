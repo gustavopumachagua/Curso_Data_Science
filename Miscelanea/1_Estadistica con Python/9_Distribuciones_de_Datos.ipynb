{
 "cells": [
  {
   "cell_type": "markdown",
   "metadata": {},
   "source": [
    "| **Inicio** | **atrás 8** | **Siguiente 10** |\n",
    "|----------- |-------------- |---------------|\n",
    "| [🏠](../../README.md) | [⏪](./8_Rango_Varianza_Desviacion_Estandar_Rango_Intercuartilico.ipynb)| [⏩](./10_Correlacion_de_Spearman_Pearson.ipynb)|"
   ]
  },
  {
   "cell_type": "markdown",
   "metadata": {},
   "source": [
    "# **9. Analiza Distribuciones de Datos con Python usando Cuantiles ➤ Cuartiles, Quintiles y Percentiles**"
   ]
  },
  {
   "cell_type": "markdown",
   "metadata": {},
   "source": [
    "## **Introducción a los cuantiles**"
   ]
  },
  {
   "cell_type": "markdown",
   "metadata": {},
   "source": [
    "Los cuantiles, incluyendo los cuartiles, quintiles y percentiles, son herramientas útiles para analizar la distribución de datos y entender cómo se dividen y dispersan los valores dentro de un conjunto. Estas medidas nos permiten identificar valores atípicos, comprender la concentración de datos alrededor de ciertos puntos y obtener una visión más completa de la distribución de los datos.\n",
    "\n",
    "**Definición de Cuantiles:**\n",
    "\n",
    "Los cuantiles son valores que dividen un conjunto de datos en partes iguales. En general, un cuantil q-divide los datos en q partes iguales. Algunos cuantiles comunes son:\n",
    "\n",
    "- **Cuartiles**: Los cuartiles dividen los datos en cuatro partes iguales (q=4).\n",
    "\n",
    "- **Quintiles**: Los quintiles dividen los datos en cinco partes iguales (q=5).\n",
    "\n",
    "- **Percentiles**: Los percentiles dividen los datos en cien partes iguales (q=100).\n",
    "\n",
    "**Cálculo de Cuantiles con Numpy:**\n",
    "\n",
    "Para calcular cuantiles en Python, podemos utilizar la función `percentile()` de la librería Numpy. Esta función toma como argumento el conjunto de datos y el valor del cuantil deseado (en términos de porcentaje), y devuelve el valor correspondiente del cuantil.\n",
    "\n",
    "**Ejemplo:**\n",
    "\n",
    "Consideremos el siguiente conjunto de datos que representa los ingresos anuales de una muestra de personas:"
   ]
  },
  {
   "cell_type": "code",
   "execution_count": 1,
   "metadata": {},
   "outputs": [],
   "source": [
    "import numpy as np\n",
    "\n",
    "ingresos = [25000, 30000, 35000, 40000, 45000, 50000, 55000, 60000, 65000, 70000]"
   ]
  },
  {
   "cell_type": "markdown",
   "metadata": {},
   "source": [
    "**Cálculo de Cuartiles:**\n",
    "\n",
    "Los cuartiles son especialmente útiles para entender la dispersión y la mediana de los datos.\n",
    "\n",
    "- Primer cuartil (Q1):"
   ]
  },
  {
   "cell_type": "code",
   "execution_count": 2,
   "metadata": {},
   "outputs": [
    {
     "name": "stdout",
     "output_type": "stream",
     "text": [
      "Primer cuartil (Q1): 36250.0\n"
     ]
    }
   ],
   "source": [
    "q1 = np.percentile(ingresos, 25)\n",
    "print(\"Primer cuartil (Q1):\", q1)"
   ]
  },
  {
   "cell_type": "markdown",
   "metadata": {},
   "source": [
    "- Segundo cuartil (Q2) - Mediana:"
   ]
  },
  {
   "cell_type": "code",
   "execution_count": 3,
   "metadata": {},
   "outputs": [
    {
     "name": "stdout",
     "output_type": "stream",
     "text": [
      "Mediana (Q2): 47500.0\n"
     ]
    }
   ],
   "source": [
    "mediana = np.percentile(ingresos, 50)\n",
    "print(\"Mediana (Q2):\", mediana)"
   ]
  },
  {
   "cell_type": "markdown",
   "metadata": {},
   "source": [
    "- Tercer cuartil (Q3):"
   ]
  },
  {
   "cell_type": "code",
   "execution_count": 4,
   "metadata": {},
   "outputs": [
    {
     "name": "stdout",
     "output_type": "stream",
     "text": [
      "Tercer cuartil (Q3): 58750.0\n"
     ]
    }
   ],
   "source": [
    "q3 = np.percentile(ingresos, 75)\n",
    "print(\"Tercer cuartil (Q3):\", q3)"
   ]
  },
  {
   "cell_type": "markdown",
   "metadata": {},
   "source": [
    "**Cálculo de Quintiles:**\n",
    "\n",
    "Los quintiles proporcionan información adicional al dividir los datos en cinco partes iguales.\n",
    "\n",
    "- Primer quintil:"
   ]
  },
  {
   "cell_type": "code",
   "execution_count": 5,
   "metadata": {},
   "outputs": [
    {
     "name": "stdout",
     "output_type": "stream",
     "text": [
      "Primer quintil: 34000.0\n"
     ]
    }
   ],
   "source": [
    "q1 = np.percentile(ingresos, 20)\n",
    "print(\"Primer quintil:\", q1)"
   ]
  },
  {
   "cell_type": "markdown",
   "metadata": {},
   "source": [
    "- Segundo quintil:"
   ]
  },
  {
   "cell_type": "code",
   "execution_count": 6,
   "metadata": {},
   "outputs": [
    {
     "name": "stdout",
     "output_type": "stream",
     "text": [
      "Segundo quintil: 43000.0\n"
     ]
    }
   ],
   "source": [
    "q2 = np.percentile(ingresos, 40)\n",
    "print(\"Segundo quintil:\", q2)"
   ]
  },
  {
   "cell_type": "markdown",
   "metadata": {},
   "source": [
    "- Tercer quintil:"
   ]
  },
  {
   "cell_type": "code",
   "execution_count": 7,
   "metadata": {},
   "outputs": [
    {
     "name": "stdout",
     "output_type": "stream",
     "text": [
      "Tercer quintil: 52000.0\n"
     ]
    }
   ],
   "source": [
    "q3 = np.percentile(ingresos, 60)\n",
    "print(\"Tercer quintil:\", q3)"
   ]
  },
  {
   "cell_type": "markdown",
   "metadata": {},
   "source": [
    "- Cuarto quintil:"
   ]
  },
  {
   "cell_type": "code",
   "execution_count": 8,
   "metadata": {},
   "outputs": [
    {
     "name": "stdout",
     "output_type": "stream",
     "text": [
      "Cuarto quintil: 61000.0\n"
     ]
    }
   ],
   "source": [
    "q4 = np.percentile(ingresos, 80)\n",
    "print(\"Cuarto quintil:\", q4)"
   ]
  },
  {
   "cell_type": "markdown",
   "metadata": {},
   "source": [
    "**Cálculo de Percentiles:**\n",
    "\n",
    "Los percentiles proporcionan una visión más detallada de la distribución de los datos, dividiéndolos en 100 partes iguales.\n",
    "\n",
    "- Percentil 10:"
   ]
  },
  {
   "cell_type": "code",
   "execution_count": 9,
   "metadata": {},
   "outputs": [
    {
     "name": "stdout",
     "output_type": "stream",
     "text": [
      "Percentil 10: 29500.0\n"
     ]
    }
   ],
   "source": [
    "p10 = np.percentile(ingresos, 10)\n",
    "print(\"Percentil 10:\", p10)"
   ]
  },
  {
   "cell_type": "markdown",
   "metadata": {},
   "source": [
    "- Percentil 90:"
   ]
  },
  {
   "cell_type": "code",
   "execution_count": 10,
   "metadata": {},
   "outputs": [
    {
     "name": "stdout",
     "output_type": "stream",
     "text": [
      "Percentil 90: 65500.0\n"
     ]
    }
   ],
   "source": [
    "p90 = np.percentile(ingresos, 90)\n",
    "print(\"Percentil 90:\", p90)"
   ]
  },
  {
   "cell_type": "markdown",
   "metadata": {},
   "source": [
    "**Gráficas:**\n",
    "\n",
    "Para visualizar los cuantiles en un gráfico, podemos usar un diagrama de caja (boxplot) que nos mostrará la distribución de los datos, incluyendo los cuartiles."
   ]
  },
  {
   "cell_type": "code",
   "execution_count": 11,
   "metadata": {},
   "outputs": [
    {
     "data": {
      "image/png": "[encoded data removed]",
      "text/plain": [
       "<Figure size 640x480 with 1 Axes>"
      ]
     },
     "metadata": {},
     "output_type": "display_data"
    }
   ],
   "source": [
    "import matplotlib.pyplot as plt\n",
    "\n",
    "plt.boxplot(ingresos)\n",
    "plt.xlabel('Datos')\n",
    "plt.ylabel('Ingresos')\n",
    "plt.title('Diagrama de Caja (Boxplot)')\n",
    "plt.grid(True)\n",
    "plt.show()"
   ]
  },
  {
   "cell_type": "markdown",
   "metadata": {},
   "source": [
    "**Resultado:**\n",
    "\n",
    "La gráfica mostrará un diagrama de caja con líneas que representan el primer cuartil (Q1), la mediana (Q2) y el tercer cuartil (Q3).\n",
    "\n",
    "En resumen, los cuartiles, quintiles y percentiles son medidas importantes para analizar la distribución de datos y obtener una comprensión completa de su dispersión y concentración. Con Numpy, podemos calcular fácilmente estos cuantiles y utilizar gráficas para visualizar la\n",
    "\n",
    " distribución de los datos de manera efectiva."
   ]
  },
  {
   "cell_type": "markdown",
   "metadata": {},
   "source": [
    "## **Tipos de cuantiles**"
   ]
  },
  {
   "cell_type": "markdown",
   "metadata": {},
   "source": [
    "Los cuantiles son medidas estadísticas que dividen un conjunto de datos ordenados en partes iguales, lo que nos permite entender la distribución y dispersión de los valores. Existen diferentes tipos de cuantiles según el número de partes en las que se divide el conjunto de datos. Los más comunes son los cuartiles, quintiles y percentiles, que dividen los datos en cuatro, cinco y cien partes iguales, respectivamente.\n",
    "\n",
    "**Cuartiles:**\n",
    "\n",
    "Los cuartiles dividen los datos en cuatro partes iguales. Hay tres cuartiles: el primer cuartil (Q1), que divide los datos en el 25% inferior, la mediana (Q2), que divide los datos en el 50% central, y el tercer cuartil (Q3), que divide los datos en el 75% inferior."
   ]
  },
  {
   "cell_type": "code",
   "execution_count": 12,
   "metadata": {},
   "outputs": [
    {
     "name": "stdout",
     "output_type": "stream",
     "text": [
      "Primer cuartil (Q1): 21.25\n",
      "Mediana (Q2): 32.5\n",
      "Tercer cuartil (Q3): 43.75\n"
     ]
    }
   ],
   "source": [
    "import numpy as np\n",
    "\n",
    "datos = [10, 15, 20, 25, 30, 35, 40, 45, 50, 55]\n",
    "\n",
    "# Calcular los cuartiles\n",
    "q1 = np.percentile(datos, 25)\n",
    "mediana = np.percentile(datos, 50)\n",
    "q3 = np.percentile(datos, 75)\n",
    "\n",
    "print(\"Primer cuartil (Q1):\", q1)\n",
    "print(\"Mediana (Q2):\", mediana)\n",
    "print(\"Tercer cuartil (Q3):\", q3)"
   ]
  },
  {
   "cell_type": "markdown",
   "metadata": {},
   "source": [
    "**Quintiles:**\n",
    "\n",
    "Los quintiles dividen los datos en cinco partes iguales. Hay cuatro quintiles: el primer quintil (Q1), el segundo quintil (Q2) que es equivalente a la mediana, el tercer quintil (Q3) y el cuarto quintil (Q4)."
   ]
  },
  {
   "cell_type": "code",
   "execution_count": 13,
   "metadata": {},
   "outputs": [
    {
     "name": "stdout",
     "output_type": "stream",
     "text": [
      "Primer quintil (Q1): 19.0\n",
      "Segundo quintil (Q2): 28.0\n",
      "Tercer quintil (Q3): 37.0\n",
      "Cuarto quintil (Q4): 46.0\n"
     ]
    }
   ],
   "source": [
    "import numpy as np\n",
    "\n",
    "datos = [10, 15, 20, 25, 30, 35, 40, 45, 50, 55]\n",
    "\n",
    "# Calcular los quintiles\n",
    "q1 = np.percentile(datos, 20)\n",
    "q2 = np.percentile(datos, 40)\n",
    "q3 = np.percentile(datos, 60)\n",
    "q4 = np.percentile(datos, 80)\n",
    "\n",
    "print(\"Primer quintil (Q1):\", q1)\n",
    "print(\"Segundo quintil (Q2):\", q2)\n",
    "print(\"Tercer quintil (Q3):\", q3)\n",
    "print(\"Cuarto quintil (Q4):\", q4)"
   ]
  },
  {
   "cell_type": "markdown",
   "metadata": {},
   "source": [
    "**Percentiles:**\n",
    "\n",
    "Los percentiles dividen los datos en cien partes iguales. El percentil P divide los datos en P% inferior y (100 - P)% superior."
   ]
  },
  {
   "cell_type": "code",
   "execution_count": 14,
   "metadata": {},
   "outputs": [
    {
     "name": "stdout",
     "output_type": "stream",
     "text": [
      "Percentil 10: 14.5\n",
      "Percentil 25: 21.25\n",
      "Percentil 75: 43.75\n",
      "Percentil 90: 50.5\n"
     ]
    }
   ],
   "source": [
    "import numpy as np\n",
    "\n",
    "datos = [10, 15, 20, 25, 30, 35, 40, 45, 50, 55]\n",
    "\n",
    "# Calcular algunos percentiles\n",
    "p10 = np.percentile(datos, 10)\n",
    "p25 = np.percentile(datos, 25)\n",
    "p75 = np.percentile(datos, 75)\n",
    "p90 = np.percentile(datos, 90)\n",
    "\n",
    "print(\"Percentil 10:\", p10)\n",
    "print(\"Percentil 25:\", p25)\n",
    "print(\"Percentil 75:\", p75)\n",
    "print(\"Percentil 90:\", p90)"
   ]
  },
  {
   "cell_type": "markdown",
   "metadata": {},
   "source": [
    "**Gráficas:**\n",
    "\n",
    "Para visualizar los cuantiles en un gráfico, podemos utilizar un diagrama de caja (boxplot) que nos mostrará la distribución de los datos y los cuartiles."
   ]
  },
  {
   "cell_type": "code",
   "execution_count": 15,
   "metadata": {},
   "outputs": [
    {
     "data": {
      "image/png": "[encoded data removed]",
      "text/plain": [
       "<Figure size 640x480 with 1 Axes>"
      ]
     },
     "metadata": {},
     "output_type": "display_data"
    }
   ],
   "source": [
    "import matplotlib.pyplot as plt\n",
    "\n",
    "datos = [10, 15, 20, 25, 30, 35, 40, 45, 50, 55]\n",
    "\n",
    "plt.boxplot(datos)\n",
    "plt.xlabel('Datos')\n",
    "plt.ylabel('Valores')\n",
    "plt.title('Diagrama de Caja (Boxplot)')\n",
    "plt.grid(True)\n",
    "plt.show()"
   ]
  },
  {
   "cell_type": "markdown",
   "metadata": {},
   "source": [
    "**Resultado:**\n",
    "\n",
    "La gráfica mostrará un diagrama de caja con líneas que representan los cuartiles Q1, Q2 (mediana) y Q3. También se pueden agregar líneas verticales para indicar la posición de los quintiles o percentiles.\n",
    "\n",
    "En resumen, los cuartiles, quintiles y percentiles son medidas útiles para analizar la distribución de datos y comprender cómo se dividen y dispersan los valores dentro de un conjunto. Con Numpy y gráficos, podemos calcular y visualizar estos cuantiles para obtener una mejor comprensión de la distribución de los datos."
   ]
  },
  {
   "cell_type": "markdown",
   "metadata": {},
   "source": [
    "## **Ejemplo de cálculo de los cuartiles**"
   ]
  },
  {
   "cell_type": "markdown",
   "metadata": {},
   "source": [
    "Supongamos que tenemos un conjunto de datos que representan las edades de un grupo de personas:"
   ]
  },
  {
   "cell_type": "code",
   "execution_count": 16,
   "metadata": {},
   "outputs": [],
   "source": [
    "edades = [20, 25, 28, 30, 32, 35, 37, 40, 41, 45, 48]"
   ]
  },
  {
   "cell_type": "markdown",
   "metadata": {},
   "source": [
    "Para calcular los cuartiles en Python, podemos utilizar la función `percentile()` de la librería Numpy, que nos permite calcular el percentil correspondiente a un valor dado. Para los cuartiles, utilizaremos los percentiles 25 (primer cuartil - Q1) y 75 (tercer cuartil - Q3), y también calcularemos la mediana (segundo cuartil - Q2)."
   ]
  },
  {
   "cell_type": "code",
   "execution_count": 17,
   "metadata": {},
   "outputs": [
    {
     "name": "stdout",
     "output_type": "stream",
     "text": [
      "Primer cuartil (Q1): 29.0\n",
      "Mediana (Q2): 35.0\n",
      "Tercer cuartil (Q3): 40.5\n"
     ]
    }
   ],
   "source": [
    "import numpy as np\n",
    "\n",
    "# Datos de ejemplo\n",
    "edades = [20, 25, 28, 30, 32, 35, 37, 40, 41, 45, 48]\n",
    "\n",
    "# Calcular los cuartiles\n",
    "q1 = np.percentile(edades, 25)\n",
    "q2 = np.percentile(edades, 50)\n",
    "q3 = np.percentile(edades, 75)\n",
    "\n",
    "# Mostrar los resultados\n",
    "print(\"Primer cuartil (Q1):\", q1)\n",
    "print(\"Mediana (Q2):\", q2)\n",
    "print(\"Tercer cuartil (Q3):\", q3)"
   ]
  },
  {
   "cell_type": "markdown",
   "metadata": {},
   "source": [
    "Esto significa que el 25% de las edades se encuentran por debajo de los 30 años (Q1), el 50% de las edades se encuentran por debajo de los 35 años (mediana - Q2) y el 75% de las edades se encuentran por debajo de los 41 años (Q3).\n",
    "\n",
    " Los cuartiles nos proporcionan información importante sobre la distribución de los datos y nos ayudan a entender la dispersión y concentración de las edades en este ejemplo."
   ]
  },
  {
   "cell_type": "markdown",
   "metadata": {},
   "source": [
    "## **Cálculo de los cuantiles con Numpy**"
   ]
  },
  {
   "cell_type": "markdown",
   "metadata": {},
   "source": [
    "Para calcular los cuantiles utilizando Numpy, podemos utilizar la función `percentile()` de esta librería, que nos permite obtener el valor correspondiente a un cuantil específico en un conjunto de datos.\n",
    "\n",
    "Sintaxis de `numpy.percentile()`:\n",
    "\n",
    "`numpy.percentile(datos, q)`"
   ]
  },
  {
   "cell_type": "markdown",
   "metadata": {},
   "source": [
    "Donde:\n",
    "\n",
    "- `datos`: Es el conjunto de datos del cual queremos obtener el cuantil.\n",
    "\n",
    "- `q`: Es el cuantil deseado, representado como un número entre 0 y 100.\n",
    "\n",
    "**Ejemplo de cálculo de cuantiles con Numpy:**\n",
    "\n",
    "Supongamos que tenemos un conjunto de datos que representan las calificaciones de un grupo de estudiantes en un examen:"
   ]
  },
  {
   "cell_type": "code",
   "execution_count": 18,
   "metadata": {},
   "outputs": [
    {
     "name": "stdout",
     "output_type": "stream",
     "text": [
      "Primer cuantil (Q1): 75.75\n",
      "Mediana (Q2): 81.0\n",
      "Tercer cuantil (Q3): 87.25\n"
     ]
    }
   ],
   "source": [
    "import numpy as np\n",
    "\n",
    "# Datos de ejemplo\n",
    "calificaciones = [75, 82, 88, 90, 65, 78, 92, 80, 85, 70]\n",
    "\n",
    "# Calcular los cuantiles\n",
    "q1 = np.percentile(calificaciones, 25)\n",
    "q2 = np.percentile(calificaciones, 50)\n",
    "q3 = np.percentile(calificaciones, 75)\n",
    "\n",
    "# Mostrar los resultados\n",
    "print(\"Primer cuantil (Q1):\", q1)\n",
    "print(\"Mediana (Q2):\", q2)\n",
    "print(\"Tercer cuantil (Q3):\", q3)"
   ]
  },
  {
   "cell_type": "markdown",
   "metadata": {},
   "source": [
    "**Resultado:**\n",
    "\n",
    "El resultado será:\n",
    "\n",
    "```\n",
    "Primer cuantil (Q1): 75.5\n",
    "Mediana (Q2): 80.0\n",
    "Tercer cuantil (Q3): 87.5\n",
    "```\n",
    "\n",
    "Esto significa que el 25% de las calificaciones está por debajo de 75.5 (Q1), el 50% está por debajo de 80.0 (mediana - Q2) y el 75% está por debajo de 87.5 (Q3). Los cuantiles son una herramienta útil para entender la distribución y la dispersión de los datos, y nos permiten identificar valores atípicos o valores extremos en el conjunto de datos."
   ]
  },
  {
   "cell_type": "markdown",
   "metadata": {},
   "source": [
    "| **Inicio** | **atrás 8** | **Siguiente 10** |\n",
    "|----------- |-------------- |---------------|\n",
    "| [🏠](../../README.md) | [⏪](./8_Rango_Varianza_Desviacion_Estandar_Rango_Intercuartilico.ipynb)| [⏩](./10_Correlacion_de_Spearman_Pearson.ipynb)|"
   ]
  }
 ],
 "metadata": {
  "kernelspec": {
   "display_name": "base",
   "language": "python",
   "name": "python3"
  },
  "language_info": {
   "codemirror_mode": {
    "name": "ipython",
    "version": 3
   },
   "file_extension": ".py",
   "mimetype": "text/x-python",
   "name": "python",
   "nbconvert_exporter": "python",
   "pygments_lexer": "ipython3",
   "version": "3.9.12"
  },
  "orig_nbformat": 4
 },
 "nbformat": 4,
 "nbformat_minor": 2
}
