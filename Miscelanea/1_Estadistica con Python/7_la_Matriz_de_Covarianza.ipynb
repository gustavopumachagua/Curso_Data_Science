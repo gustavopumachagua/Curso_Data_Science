{
 "cells": [
  {
   "cell_type": "markdown",
   "metadata": {},
   "source": [
    "| **Inicio** | **atrás 6** | **Siguiente 8** |\n",
    "|----------- |-------------- |---------------|\n",
    "| [🏠](../../README.md) | [⏪](./6_Distribucion_Normal_Estandar.ipynb)| [⏩](./8_Rango_Varianza_Desviacion_Estandar_Rango_Intercuartilico.ipynb)|"
   ]
  },
  {
   "cell_type": "markdown",
   "metadata": {},
   "source": [
    "# **7. Qué es y cómo Analizar Datos con la Matriz de Covarianza: Un caso práctico con Python**"
   ]
  },
  {
   "cell_type": "markdown",
   "metadata": {},
   "source": [
    "## **Introducción**"
   ]
  },
  {
   "cell_type": "markdown",
   "metadata": {},
   "source": [
    "La matriz de covarianza es una herramienta importante en estadística que permite analizar la relación entre múltiples variables en un conjunto de datos. Proporciona información sobre cómo las variables se relacionan entre sí y si su variación está asociada. En esta explicación, te mostraré qué es la matriz de covarianza, cómo interpretarla y cómo analizar datos con ejemplos prácticos utilizando Python y la biblioteca NumPy.\n",
    "\n",
    "**¿Qué es la Matriz de Covarianza?**\n",
    "\n",
    "La matriz de covarianza es una matriz cuadrada que muestra las covarianzas entre pares de variables en un conjunto de datos multivariado. La covarianza es una medida que indica cómo dos variables varían juntas: si tienden a aumentar o disminuir simultáneamente. Una covarianza positiva sugiere que las variables tienden a aumentar juntas, mientras que una covarianza negativa indica que tienden a cambiar en direcciones opuestas. Una covarianza cercana a cero sugiere que las variables están poco relacionadas.\n",
    "\n",
    "La matriz de covarianza es simétrica, ya que la covarianza entre las variables $i$ y $j$ es igual a la covarianza entre las variables $j$ e $i$.\n",
    "\n",
    "**Cálculo de la Matriz de Covarianza**\n",
    "\n",
    "Para un conjunto de datos con $n$ observaciones y $p$ variables, la matriz de covarianza se puede calcular mediante la siguiente fórmula:\n",
    "\n",
    "```\n",
    "Cov(X) = (1 / (n-1)) * (X - X̄)ᵀ * (X - X̄)\n",
    "```\n",
    "\n",
    "donde:\n",
    "\n",
    "- `Cov(X)` es la matriz de covarianza.\n",
    "\n",
    "- `n` es el número de observaciones.\n",
    "\n",
    "- `X` es una matriz de tamaño n x p que contiene las $p$ variables en cada fila.\n",
    "\n",
    "- `X̄` es un vector de tamaño 1 x p que contiene las medias de las $p$ variables.\n",
    "\n",
    "**Interpretación de la Matriz de Covarianza**\n",
    "\n",
    "La diagonal principal de la matriz de covarianza contiene las varianzas de cada variable (covarianza de una variable consigo misma), mientras que las entradas fuera de la diagonal principal contienen las covarianzas entre las variables.\n",
    "\n",
    "Una covarianza positiva mayor que cero indica una relación directa entre las variables, es decir, cuando una variable aumenta, la otra también tiende a aumentar. Una covarianza negativa menor que cero indica una relación inversa, es decir, cuando una variable aumenta, la otra tiende a disminuir. Una covarianza cercana a cero indica una relación débil o prácticamente nula entre las variables.\n",
    "\n",
    "**Análisis de Datos con la Matriz de Covarianza en Python**\n",
    "\n",
    "A continuación, te mostraré cómo realizar un análisis de datos utilizando la matriz de covarianza en Python con un ejemplo práctico:"
   ]
  },
  {
   "cell_type": "code",
   "execution_count": 1,
   "metadata": {},
   "outputs": [
    {
     "name": "stdout",
     "output_type": "stream",
     "text": [
      "Matriz de Covarianza:\n",
      "[[9. 9. 9.]\n",
      " [9. 9. 9.]\n",
      " [9. 9. 9.]]\n"
     ]
    }
   ],
   "source": [
    "import numpy as np\n",
    "\n",
    "# Datos de ejemplo: tres variables\n",
    "x = np.array([[2, 3, 4],\n",
    "              [5, 6, 7],\n",
    "              [8, 9, 10]])\n",
    "\n",
    "# Calcular la matriz de covarianza\n",
    "cov_matrix = np.cov(x, rowvar=False)\n",
    "\n",
    "# Mostrar la matriz de covarianza\n",
    "print(\"Matriz de Covarianza:\")\n",
    "print(cov_matrix)"
   ]
  },
  {
   "cell_type": "markdown",
   "metadata": {},
   "source": [
    "**Resultado:**\n",
    "\n",
    "El código imprimirá la matriz de covarianza para los datos de ejemplo.\n",
    "\n",
    "**Interpretación del Resultado:**\n",
    "\n",
    "En este ejemplo, hemos calculado la matriz de covarianza para tres variables. La matriz de covarianza resultante es una matriz 3x3, ya que tenemos tres variables en el conjunto de datos.\n",
    "\n",
    "La diagonal principal de la matriz de covarianza contiene las varianzas de cada variable, mientras que las entradas fuera de la diagonal principal contienen las covarianzas entre las variables. Por ejemplo, la entrada en la fila 1, columna 2 representa la covarianza entre la variable 1 y la variable 2.\n",
    "\n",
    "Es importante tener en cuenta que la matriz de covarianza solo proporciona información sobre las relaciones lineales entre las variables. Si las relaciones son no lineales, la matriz de covarianza puede no capturar adecuadamente la relación entre las variables.\n",
    "\n",
    "La matriz de covarianza es una herramienta útil en el análisis de datos para entender la relación y la variabilidad entre múltiples variables. Al interpretar la matriz de covarianza, podemos identificar si las variables están relacionadas positiva o negativamente y cuánto varían juntas.\n",
    "\n",
    "Espero que esta explicación y el ejemplo te ayuden a comprender la matriz de covarianza y cómo realizar un análisis de datos con esta herramienta en Python. La matriz de covarianza es un componente fundamental en el análisis estadístico multivariado y es ampliamente utilizada en diversos campos como la econometría, la ciencia de datos y el aprendizaje automático."
   ]
  },
  {
   "cell_type": "markdown",
   "metadata": {},
   "source": [
    "## **Varianza y Desviación Estándar**"
   ]
  },
  {
   "cell_type": "markdown",
   "metadata": {},
   "source": [
    "La varianza y la desviación estándar son dos conceptos fundamentales en estadística que nos permiten medir la dispersión o variabilidad de un conjunto de datos. Ambas medidas cuantifican la distancia promedio entre cada valor y la media del conjunto de datos.\n",
    "\n",
    "**Varianza:**\n",
    "\n",
    "La varianza es una medida que representa la dispersión de los datos con respecto a la media. Matemáticamente, se define como el promedio de los cuadrados de las diferencias entre cada valor y la media.\n",
    "\n",
    "La fórmula para calcular la varianza de una muestra con n datos es:\n",
    "\n",
    "```\n",
    "Varianza = Σ (xi - x̄)² / (n - 1)\n",
    "```\n",
    "\n",
    "donde:\n",
    "\n",
    "- `xi` es cada valor individual en el conjunto de datos.\n",
    "\n",
    "- `x̄` es la media aritmética de los datos.\n",
    "\n",
    "- `Σ` representa la suma de los valores.\n",
    "\n",
    "**Desviación Estándar:**\n",
    "\n",
    "La desviación estándar es una medida de dispersión similar a la varianza, pero se expresa en las mismas unidades que los datos originales. Es simplemente la raíz cuadrada de la varianza y se utiliza ampliamente porque es más fácil de interpretar que la varianza en términos prácticos.\n",
    "\n",
    "La fórmula para calcular la desviación estándar de una muestra con $n$ datos es:\n",
    "\n",
    "```\n",
    "Desviación Estándar = √(Σ (xi - x̄)² / (n - 1))\n",
    "```\n",
    "\n",
    "**Interpretación:**\n",
    "\n",
    "La varianza y la desviación estándar nos dan una idea de cuán dispersos o agrupados están los datos en torno a la media. Si la varianza o la desviación estándar son pequeñas, significa que los datos están agrupados cerca de la media, mientras que si son grandes, significa que los datos están más dispersos.\n",
    "\n",
    "**Ejemplo:**\n",
    "\n",
    "Supongamos que tenemos el siguiente conjunto de datos: [5, 6, 8, 9, 10]\n",
    "\n",
    "**Paso 1: Calcular la media**\n",
    "\n",
    "```\n",
    "Media (x̄) = (5 + 6 + 8 + 9 + 10) / 5 = 7.6\n",
    "```\n",
    "\n",
    "**Paso 2: Calcular la varianza**\n",
    "\n",
    "```\n",
    "Varianza = ((5 - 7.6)² + (6 - 7.6)² + (8 - 7.6)² + (9 - 7.6)² + (10 - 7.6)²) / (5 - 1)\n",
    "         = (6.76 + 1.96 + 0.36 + 1.96 + 6.76) / 4\n",
    "         = 4.71\n",
    "```\n",
    "\n",
    "**Paso 3: Calcular la desviación estándar**\n",
    "\n",
    "```\n",
    "Desviación Estándar = √4.71 = 2.17\n",
    "```\n",
    "\n",
    "**Interpretación del Resultado:**\n",
    "\n",
    "La media de los datos es 7.6. La varianza es 4.71 y la desviación estándar es aproximadamente 2.17. Esto significa que los datos están dispersos alrededor de la media, con valores que se encuentran a una distancia promedio de aproximadamente 2.17 unidades de la media.\n",
    "\n",
    "**Gráfica:**\n",
    "\n",
    "Para visualizar cómo se distribuyen los datos alrededor de la media, podemos usar un gráfico de dispersión."
   ]
  },
  {
   "cell_type": "code",
   "execution_count": 2,
   "metadata": {},
   "outputs": [
    {
     "data": {
      "image/png": "[encoded data removed]",
      "text/plain": [
       "<Figure size 640x480 with 1 Axes>"
      ]
     },
     "metadata": {},
     "output_type": "display_data"
    }
   ],
   "source": [
    "import matplotlib.pyplot as plt\n",
    "\n",
    "data = [5, 6, 8, 9, 10]\n",
    "mean = sum(data) / len(data)\n",
    "variance = sum((xi - mean) ** 2 for xi in data) / (len(data) - 1)\n",
    "std_deviation = variance ** 0.5\n",
    "\n",
    "plt.scatter(data, [mean] * len(data), color='red', label='Media')\n",
    "plt.scatter(data, [xi - std_deviation for xi in data], color='blue', label='Desviación Estándar')\n",
    "plt.scatter(data, [xi + std_deviation for xi in data], color='blue')\n",
    "plt.scatter(mean, mean, color='red', marker='x', s=100)\n",
    "plt.xlabel('Datos')\n",
    "plt.ylabel('Valores')\n",
    "plt.title('Gráfico de Dispersión')\n",
    "plt.legend()\n",
    "plt.grid(True)\n",
    "plt.show()"
   ]
  },
  {
   "cell_type": "markdown",
   "metadata": {},
   "source": [
    "**Resultado:**\n",
    "\n",
    "El código generará un gráfico de dispersión que muestra los datos (puntos azules) y la media (punto rojo). Los puntos azules representan los valores con una desviación estándar hacia arriba o hacia abajo desde la media.\n",
    "\n",
    "Espero que esta explicación y el ejemplo te hayan ayudado a comprender qué es la varianza y la desviación estándar y cómo calcularlas e interpretarlas en el contexto de un conjunto de datos. Estas medidas son fundamentales para analizar la dispersión y la variabilidad de los datos, lo que proporciona información valiosa en diversas áreas como la ciencia de datos, la investigación científica y el análisis estadístico."
   ]
  },
  {
   "cell_type": "markdown",
   "metadata": {},
   "source": [
    "## **Datos a analizar**"
   ]
  },
  {
   "cell_type": "markdown",
   "metadata": {},
   "source": [
    "Perfecto, para poder analizar la varianza y la desviación estándar, necesitamos un conjunto de datos numéricos. Tomemos el siguiente conjunto de datos como ejemplo:"
   ]
  },
  {
   "cell_type": "code",
   "execution_count": 3,
   "metadata": {},
   "outputs": [],
   "source": [
    "data = [10, 15, 20, 25, 30]"
   ]
  },
  {
   "cell_type": "markdown",
   "metadata": {},
   "source": [
    "Usaremos Python y la biblioteca NumPy para calcular la varianza y la desviación estándar de estos datos. A continuación, te mostraré cómo hacerlo:"
   ]
  },
  {
   "cell_type": "code",
   "execution_count": 4,
   "metadata": {},
   "outputs": [
    {
     "name": "stdout",
     "output_type": "stream",
     "text": [
      "Datos: [10, 15, 20, 25, 30]\n",
      "Media: 20.0\n",
      "Varianza: 62.5\n",
      "Desviación Estándar: 7.905694150420948\n"
     ]
    }
   ],
   "source": [
    "import numpy as np\n",
    "\n",
    "# Datos a analizar\n",
    "data = [10, 15, 20, 25, 30]\n",
    "\n",
    "# Calcular la media\n",
    "mean = np.mean(data)\n",
    "\n",
    "# Calcular la varianza\n",
    "variance = np.var(data, ddof=1)  # ddof=1 para calcular la varianza de una muestra\n",
    "\n",
    "# Calcular la desviación estándar\n",
    "std_deviation = np.std(data, ddof=1)  # ddof=1 para calcular la desviación estándar de una muestra\n",
    "\n",
    "# Mostrar los resultados\n",
    "print(\"Datos:\", data)\n",
    "print(\"Media:\", mean)\n",
    "print(\"Varianza:\", variance)\n",
    "print(\"Desviación Estándar:\", std_deviation)"
   ]
  },
  {
   "cell_type": "markdown",
   "metadata": {},
   "source": [
    "**Interpretación del Resultado:**\n",
    "\n",
    "En este ejemplo, hemos calculado la media, la varianza y la desviación estándar para el conjunto de datos [10, 15, 20, 25, 30].\n",
    "\n",
    "* La media es 20.0, que es el valor promedio de los datos.\n",
    "\n",
    "* La varianza es 62.5, lo que indica la dispersión de los datos alrededor de la media.\n",
    "\n",
    "* La desviación estándar es aproximadamente 7.91, que es la raíz cuadrada de la varianza. Nos indica cuánto se desvían los datos de la media en promedio.\n",
    "\n",
    "Estos valores son útiles para comprender la distribución y la variabilidad de los datos. Una varianza más grande indica que los datos están más dispersos, mientras que una desviación estándar más grande indica que los datos están más alejados de la media.\n",
    "\n",
    "Espero que este ejemplo te haya sido útil para comprender cómo calcular y analizar la varianza y la desviación estándar de un conjunto de datos utilizando Python y la biblioteca NumPy. Si tienes otro conjunto de datos que deseas analizar, no dudes en proporcionármelo, y estaré encantado de ayudarte a realizar el análisis."
   ]
  },
  {
   "cell_type": "markdown",
   "metadata": {},
   "source": [
    "## **Varianza y Desviación Estándar con Pandas**"
   ]
  },
  {
   "cell_type": "markdown",
   "metadata": {},
   "source": [
    "Para calcular la varianza y la desviación estándar utilizando la biblioteca Pandas, primero necesitamos importar Pandas y convertir nuestros datos en una estructura de datos de Pandas, como una Serie o un DataFrame. Luego, podemos utilizar las funciones integradas de Pandas para realizar los cálculos.\n",
    "\n",
    "A continuación, te mostraré cómo calcular la varianza y la desviación estándar utilizando Pandas con un ejemplo:"
   ]
  },
  {
   "cell_type": "code",
   "execution_count": 5,
   "metadata": {},
   "outputs": [
    {
     "name": "stdout",
     "output_type": "stream",
     "text": [
      "Datos: [10, 15, 20, 25, 30]\n",
      "Media: 20.0\n",
      "Varianza: 62.5\n",
      "Desviación Estándar: 7.905694150420948\n"
     ]
    }
   ],
   "source": [
    "import pandas as pd\n",
    "\n",
    "# Datos a analizar\n",
    "data = [10, 15, 20, 25, 30]\n",
    "\n",
    "# Convertir la lista de datos en una Serie de Pandas\n",
    "serie_data = pd.Series(data)\n",
    "\n",
    "# Calcular la media\n",
    "mean = serie_data.mean()\n",
    "\n",
    "# Calcular la varianza\n",
    "variance = serie_data.var(ddof=1)  # ddof=1 para calcular la varianza de una muestra\n",
    "\n",
    "# Calcular la desviación estándar\n",
    "std_deviation = serie_data.std(ddof=1)  # ddof=1 para calcular la desviación estándar de una muestra\n",
    "\n",
    "# Mostrar los resultados\n",
    "print(\"Datos:\", serie_data.tolist())\n",
    "print(\"Media:\", mean)\n",
    "print(\"Varianza:\", variance)\n",
    "print(\"Desviación Estándar:\", std_deviation)"
   ]
  },
  {
   "cell_type": "markdown",
   "metadata": {},
   "source": [
    "**Interpretación del Resultado:**\n",
    "\n",
    "Los resultados son los mismos que los obtenidos utilizando NumPy. La función `pd.Series` de Pandas se utiliza para convertir la lista de datos en una Serie, que es una estructura unidimensional de Pandas. Luego, podemos usar los métodos `mean()`, `var()` y `std()` en la Serie para calcular la media, la varianza y la desviación estándar, respectivamente. El argumento `ddof=1` se utiliza para calcular estas estadísticas para una muestra en lugar de una población completa.\n",
    "\n",
    "Pandas es una biblioteca poderosa y versátil para el análisis de datos en Python. Con Pandas, podemos trabajar con conjuntos de datos más complejos que contienen múltiples variables y realizar análisis estadísticos de manera eficiente.\n",
    "\n",
    "Espero que este ejemplo te haya sido útil para comprender cómo calcular la varianza y la desviación estándar utilizando Pandas. Si tienes otros conjuntos de datos que desees analizar o alguna otra pregunta relacionada con Pandas o análisis de datos, no dudes en consultarme. Estoy aquí para ayudarte."
   ]
  },
  {
   "cell_type": "markdown",
   "metadata": {},
   "source": [
    "## **Visualización de Desviación Estándar**"
   ]
  },
  {
   "cell_type": "markdown",
   "metadata": {},
   "source": [
    "La visualización de la desviación estándar es una forma útil de comprender la dispersión de los datos alrededor de la media en un conjunto de datos. Representar la desviación estándar gráficamente nos ayuda a identificar qué tan dispersos están los datos y cuánto se alejan en promedio de la media.\n",
    "\n",
    "**Gráfica de Desviación Estándar:**\n",
    "\n",
    "Una forma común de visualizar la desviación estándar es mediante la construcción de un gráfico de barras o un gráfico de dispersión que muestra los datos junto con la media y las líneas que representan la desviación estándar.\n",
    "\n",
    "**Ejemplo:**\n",
    "\n",
    "Supongamos que tenemos un conjunto de datos de altura de personas en centímetros. Aquí hay un ejemplo de datos ficticios:"
   ]
  },
  {
   "cell_type": "code",
   "execution_count": 6,
   "metadata": {},
   "outputs": [
    {
     "data": {
      "image/png": "[encoded data removed]",
      "text/plain": [
       "<Figure size 800x600 with 1 Axes>"
      ]
     },
     "metadata": {},
     "output_type": "display_data"
    }
   ],
   "source": [
    "import numpy as np\n",
    "import matplotlib.pyplot as plt\n",
    "\n",
    "# Datos de ejemplo de altura en centímetros\n",
    "altura = [160, 170, 155, 180, 168, 172, 165, 185, 160, 175]\n",
    "\n",
    "# Calcular la media y la desviación estándar\n",
    "media = np.mean(altura)\n",
    "desviacion_estandar = np.std(altura, ddof=1)  # ddof=1 para calcular la desviación estándar de una muestra\n",
    "\n",
    "# Crear la gráfica\n",
    "plt.figure(figsize=(8, 6))\n",
    "plt.scatter(range(len(altura)), altura, color='blue', label='Altura')\n",
    "plt.axhline(media, color='red', linestyle='dashed', linewidth=2, label='Media')\n",
    "plt.axhline(media + desviacion_estandar, color='green', linestyle='dotted', linewidth=2, label='Desviación Estándar')\n",
    "plt.axhline(media - desviacion_estandar, color='green', linestyle='dotted', linewidth=2)\n",
    "plt.xlabel('Índice del dato')\n",
    "plt.ylabel('Altura (cm)')\n",
    "plt.title('Gráfica de Desviación Estándar')\n",
    "plt.legend()\n",
    "plt.grid(True)\n",
    "plt.show()"
   ]
  },
  {
   "cell_type": "markdown",
   "metadata": {},
   "source": [
    "**Resultado:**\n",
    "\n",
    "La gráfica mostrará los datos de altura junto con la línea roja que representa la media y las líneas verdes punteadas que representan una desviación estándar por encima y por debajo de la media.\n",
    "\n",
    "**Interpretación del Resultado:**\n",
    "\n",
    "En la gráfica, cada punto azul representa una altura individual. La línea roja representa la media de las alturas, que es el punto central alrededor del cual se distribuyen los datos. Las líneas verdes punteadas representan una desviación estándar por encima y por debajo de la media. Esto indica el rango en el cual se encuentran la mayoría de los datos.\n",
    "\n",
    "Si los puntos azules están más dispersos y alejados de la línea roja, la desviación estándar será mayor, lo que indica una mayor variabilidad en las alturas. Por el contrario, si los puntos están más agrupados alrededor de la línea roja, la desviación estándar será menor, lo que indica una menor variabilidad.\n",
    "\n",
    "La visualización de la desviación estándar nos proporciona una comprensión visual de la dispersión y variabilidad de los datos, lo que puede ser útil en el análisis de datos y en la toma de decisiones en diversos campos, como la ciencia de datos, la investigación y la estadística.\n",
    "\n",
    "Espero que este ejemplo te haya sido útil para entender cómo visualizar la desviación estándar en un conjunto de datos utilizando Python y la biblioteca Matplotlib. Si tienes más preguntas o necesitas más ejemplos, no dudes en preguntar. Estoy aquí para ayudarte."
   ]
  },
  {
   "cell_type": "markdown",
   "metadata": {},
   "source": [
    "## **Covarianza**"
   ]
  },
  {
   "cell_type": "markdown",
   "metadata": {},
   "source": [
    "La covarianza es una medida estadística que cuantifica la relación entre dos variables. Nos ayuda a entender cómo varían conjuntamente dos variables y si tienden a aumentar o disminuir en conjunto. La covarianza es una medida de la dirección de la relación (positiva o negativa) y de la magnitud de la relación (cuánto cambian juntas).\n",
    "\n",
    "**Fórmula de Covarianza:**\n",
    "\n",
    "Para un conjunto de datos con dos variables $X$ e $Y$, la fórmula para calcular la covarianza muestral es:\n",
    "\n",
    "\n",
    "$cov(X, Y) = Σ ((xi - x̄) * (yi - ȳ)) / (n - 1)$\n",
    "\n",
    "\n",
    "donde:\n",
    "\n",
    "* $xi$ y $yi$ son los valores individuales de las variables $X$ e $Y$, respectivamente.\n",
    "\n",
    "* $x̄$ y $ȳ$ son las medias de las variables $X$ e $Y$, respectivamente.\n",
    "\n",
    "* $Σ$ representa la suma de todos los valores.\n",
    "\n",
    "* $n$ es el número de datos en el conjunto.\n",
    "\n",
    "**Interpretación de la Covarianza:**\n",
    "\n",
    "* Si $cov(X, Y) > 0$, significa que cuando los valores de $X$ aumentan, los valores de $Y$ tienden a aumentar también. Esto indica una relación positiva entre $X$ e $Y$.\n",
    "\n",
    "* Si $cov(X, Y) < 0$, significa que cuando los valores de $X$ aumentan, los valores de $Y$ tienden a disminuir. Esto indica una relación negativa entre $X$ e $Y$.\n",
    "\n",
    "* Si $cov(X, Y) ≈ 0$, significa que no hay una relación lineal clara entre $X$ e $Y$.\n",
    "\n",
    "**Ejemplo:**\n",
    "\n",
    "Supongamos que tenemos dos variables $X$ e $Y$ y los siguientes datos:\n"
   ]
  },
  {
   "cell_type": "markdown",
   "metadata": {},
   "source": [
    "```\n",
    "X = [1, 2, 3, 4, 5]\n",
    "Y = [2, 3, 4, 5, 6]\n",
    "```"
   ]
  },
  {
   "cell_type": "markdown",
   "metadata": {},
   "source": [
    "**Paso 1: Calcular las medias de X e Y**"
   ]
  },
  {
   "cell_type": "markdown",
   "metadata": {},
   "source": [
    "```\n",
    "x̄ = (1 + 2 + 3 + 4 + 5) / 5 = 3\n",
    "ȳ = (2 + 3 + 4 + 5 + 6) / 5 = 4\n",
    "```"
   ]
  },
  {
   "cell_type": "markdown",
   "metadata": {},
   "source": [
    "**Paso 2: Calcular la covarianza**"
   ]
  },
  {
   "cell_type": "markdown",
   "metadata": {},
   "source": [
    "```\n",
    "cov(X, Y) = ((1 - 3) * (2 - 4) + (2 - 3) * (3 - 4) + (3 - 3) * (4 - 4) + (4 - 3) * (5 - 4) + (5 - 3) * (6 - 4)) / 4\n",
    "          = (-2 * -2 + -1 * -1 + 0 * 0 + 1 * 1 + 2 * 2) / 4\n",
    "          = (4 + 1 + 0 + 1 + 4) / 4\n",
    "          = 2.5\n",
    "```"
   ]
  },
  {
   "cell_type": "markdown",
   "metadata": {},
   "source": [
    "**Interpretación del Resultado:**\n",
    "\n",
    "La covarianza entre $X$ e $Y$ es 2.5. Dado que la covarianza es positiva, esto indica que cuando los valores de $X$ aumentan, los valores de $Y$ también tienden a aumentar. Hay una relación positiva entre $X$ e $Y$.\n",
    "\n",
    "**Gráfica:**\n",
    "\n",
    "Podemos visualizar la relación entre $X$ e $Y$ mediante un gráfico de dispersión."
   ]
  },
  {
   "cell_type": "code",
   "execution_count": 10,
   "metadata": {},
   "outputs": [
    {
     "data": {
      "image/png": "[encoded data removed]",
      "text/plain": [
       "<Figure size 640x480 with 1 Axes>"
      ]
     },
     "metadata": {},
     "output_type": "display_data"
    }
   ],
   "source": [
    "import matplotlib.pyplot as plt\n",
    "\n",
    "X = [1, 2, 3, 4, 5]\n",
    "Y = [2, 3, 4, 5, 6]\n",
    "\n",
    "plt.scatter(X, Y, color='blue')\n",
    "plt.xlabel('Variable X')\n",
    "plt.ylabel('Variable Y')\n",
    "plt.title('Gráfico de Dispersión')\n",
    "plt.grid(True)\n",
    "plt.show()"
   ]
  },
  {
   "cell_type": "markdown",
   "metadata": {},
   "source": [
    "**Resultado:**\n",
    "\n",
    "La gráfica mostrará un conjunto de puntos dispersos en un patrón lineal creciente, lo que respalda la interpretación de la covarianza positiva entre $X$ e $Y$.\n",
    "\n",
    "Es importante tener en cuenta que la covarianza solo mide la relación lineal entre dos variables y no proporciona información sobre la fuerza de la relación o si la relación es causal. Para evaluar la fuerza de la relación, es mejor utilizar el coeficiente de correlación.\n",
    "\n",
    "La covarianza es una herramienta útil para comprender cómo dos variables se comportan juntas y si están relacionadas de alguna manera. Su interpretación puede ayudarnos a tomar decisiones en análisis de datos y a comprender mejor los datos en diversos campos como la ciencia de datos, la economía y la investigación científica."
   ]
  },
  {
   "cell_type": "markdown",
   "metadata": {},
   "source": [
    "## **Matriz de Covarianza**"
   ]
  },
  {
   "cell_type": "markdown",
   "metadata": {},
   "source": [
    "La matriz de covarianza es una matriz que contiene las covarianzas entre todas las posibles combinaciones de variables en un conjunto de datos multivariados. Es una herramienta importante en estadística y análisis de datos para comprender cómo se relacionan y varían conjuntamente múltiples variables.\n",
    "\n",
    "**Cálculo de la Matriz de Covarianza:**\n",
    "\n",
    "Dado un conjunto de datos con $n$ variables y $m$ observaciones, la matriz de covarianza $C$ es una matriz $n x n$ cuyos elementos $C[i][j]$ representan la covarianza entre las variables $i$ y $j$. La fórmula para calcular la covarianza entre dos variables $X$ e $Y$ es:\n",
    "\n",
    "$cov(X, Y) = Σ ((xi - x̄) * (yi - ȳ)) / (m - 1)$\n",
    "\n",
    "\n",
    "donde:\n",
    "\n",
    "- $xi$ y $yi$ son los valores individuales de las variables $X$ e $Y$, respectivamente.\n",
    "\n",
    "- $x̄$ y $ȳ$ son las medias de las variables $X$ e $Y$, respectivamente.\n",
    "\n",
    "- $Σ$ representa la suma de todos los valores.\n",
    "\n",
    "- $m$ es el número de observaciones en el conjunto de datos.\n",
    "\n",
    "**Interpretación de la Matriz de Covarianza:**\n",
    "\n",
    "- Los elementos diagonales de la matriz de covarianza ($C[i][i]$) representan la varianza de la variable $i$.\n",
    "\n",
    "- Los elementos no diagonales ($C[i][j]$ donde $i ≠ j$) representan la covarianza entre las variables $i$ y $j$.\n",
    "\n",
    "Una matriz de covarianza bien estructurada tiene valores diagonales positivos que representan la varianza de cada variable, mientras que los valores fuera de la diagonal representan las relaciones de covarianza entre pares de variables.\n",
    "\n",
    "**Ejemplo:**\n",
    "\n",
    "Supongamos que tenemos un conjunto de datos con tres variables: $X$, $Y$ y $Z$, y cinco observaciones en cada variable. Aquí están los datos ficticios:"
   ]
  },
  {
   "cell_type": "code",
   "execution_count": 11,
   "metadata": {},
   "outputs": [
    {
     "name": "stdout",
     "output_type": "stream",
     "text": [
      "Matriz de Covarianza:\n",
      "[[ 2.5  2.5 -2.5]\n",
      " [ 2.5  2.5 -2.5]\n",
      " [-2.5 -2.5  2.5]]\n"
     ]
    }
   ],
   "source": [
    "import numpy as np\n",
    "\n",
    "# Datos de ejemplo\n",
    "X = [1, 2, 3, 4, 5]\n",
    "Y = [2, 3, 4, 5, 6]\n",
    "Z = [5, 4, 3, 2, 1]\n",
    "\n",
    "# Crear una matriz de datos\n",
    "data = np.array([X, Y, Z])\n",
    "\n",
    "# Calcular la matriz de covarianza\n",
    "covariance_matrix = np.cov(data)\n",
    "\n",
    "print(\"Matriz de Covarianza:\")\n",
    "print(covariance_matrix)"
   ]
  },
  {
   "cell_type": "markdown",
   "metadata": {},
   "source": [
    "**Resultado:**\n",
    "\n",
    "La matriz de covarianza para este conjunto de datos será una matriz $3x3$, ya que tenemos tres variables ($X$, $Y$ y $Z$).\n",
    "\n",
    "```\n",
    "Matriz de Covarianza:\n",
    "[[2.5  2.5 -2.5]\n",
    " [2.5  2.5 -2.5]\n",
    " [-2.5 -2.5  2.5]]\n",
    "```\n",
    "\n",
    "**Interpretación del Resultado:**\n",
    "\n",
    "- El elemento $cov(X, X) = 2.5$ representa la varianza de la variable $X$.\n",
    "\n",
    "- El elemento $cov(Y, Y) = 2.5$ representa la varianza de la variable $Y$.\n",
    "\n",
    "- El elemento $cov(Z, Z) = 2.5$ representa la varianza de la variable $Z$.\n",
    "\n",
    "- Los elementos $cov(X, Y) = 2.5$, $cov(X, Z) = -2.5$ y $cov(Y, Z) = -2.5$ representan las covarianzas entre pares de variables.\n",
    "\n",
    "**Gráfica de la Matriz de Covarianza:**\n",
    "\n",
    "Podemos visualizar la matriz de covarianza en forma de una matriz de calor para ver la estructura de covarianza entre las variables."
   ]
  },
  {
   "cell_type": "code",
   "execution_count": 12,
   "metadata": {},
   "outputs": [
    {
     "data": {
      "image/png": "[encoded data removed]",
      "text/plain": [
       "<Figure size 600x600 with 2 Axes>"
      ]
     },
     "metadata": {},
     "output_type": "display_data"
    }
   ],
   "source": [
    "import seaborn as sns\n",
    "import matplotlib.pyplot as plt\n",
    "\n",
    "# Crear una matriz de etiquetas para los ejes\n",
    "labels = ['X', 'Y', 'Z']\n",
    "\n",
    "# Crear la gráfica de matriz de calor\n",
    "plt.figure(figsize=(6, 6))\n",
    "sns.heatmap(covariance_matrix, annot=True, cmap='coolwarm', xticklabels=labels, yticklabels=labels)\n",
    "plt.title('Matriz de Covarianza')\n",
    "plt.show()"
   ]
  },
  {
   "cell_type": "markdown",
   "metadata": {},
   "source": [
    "**Resultado:**\n",
    "\n",
    "La gráfica mostrará una matriz de calor que representa la estructura de la matriz de covarianza.\n",
    "\n",
    "En esta gráfica de matriz de calor, los elementos de la diagonal serán más brillantes, ya que representan las varianzas de las variables. Los elementos fuera de la diagonal serán más oscuros, representando las covarianzas entre pares de variables.\n",
    "\n",
    "La matriz de covarianza es una herramienta valiosa en análisis de datos y estadística multivariada, ya que nos proporciona información sobre las relaciones y la variabilidad conjunta entre múltiples variables. Es útil para identificar patrones, dependencias y relaciones entre diferentes variables en un conjunto de datos."
   ]
  },
  {
   "cell_type": "markdown",
   "metadata": {},
   "source": [
    "## **Interpretación Visual de la Covarianza**"
   ]
  },
  {
   "cell_type": "markdown",
   "metadata": {},
   "source": [
    "La interpretación visual de la covarianza puede realizarse a través de un gráfico de dispersión y una gráfica de matriz de calor. Estas visualizaciones nos ayudarán a entender cómo se relacionan dos variables y la estructura general de la matriz de covarianza entre múltiples variables.\n",
    "\n",
    "**Gráfico de Dispersión:**\n",
    "\n",
    "El gráfico de dispersión es útil para visualizar la relación entre dos variables. Si la covarianza entre las variables es positiva, los puntos en el gráfico de dispersión tienden a formar una nube inclinada hacia arriba, lo que indica que cuando una variable aumenta, la otra también tiende a aumentar. Por otro lado, si la covarianza es negativa, los puntos tienden a formar una nube inclinada hacia abajo, lo que indica que cuando una variable aumenta, la otra tiende a disminuir.\n",
    "\n",
    "**Ejemplo de Gráfico de Dispersión:**\n",
    "\n",
    "Supongamos que tenemos dos variables $X$ e $Y$ con los siguientes datos:"
   ]
  },
  {
   "cell_type": "code",
   "execution_count": 13,
   "metadata": {},
   "outputs": [
    {
     "data": {
      "image/png": "[encoded data removed]",
      "text/plain": [
       "<Figure size 640x480 with 1 Axes>"
      ]
     },
     "metadata": {},
     "output_type": "display_data"
    }
   ],
   "source": [
    "import matplotlib.pyplot as plt\n",
    "\n",
    "X = [1, 2, 3, 4, 5]\n",
    "Y = [2, 3, 4, 5, 6]\n",
    "\n",
    "plt.scatter(X, Y, color='blue')\n",
    "plt.xlabel('Variable X')\n",
    "plt.ylabel('Variable Y')\n",
    "plt.title('Gráfico de Dispersión')\n",
    "plt.grid(True)\n",
    "plt.show()"
   ]
  },
  {
   "cell_type": "markdown",
   "metadata": {},
   "source": [
    "**Resultado:**\n",
    "\n",
    "La gráfica mostrará un conjunto de puntos dispersos en un patrón lineal creciente, lo que respalda la interpretación de la covarianza positiva entre $X$ e $Y$.\n",
    "\n",
    "**Gráfica de Matriz de Calor:**\n",
    "\n",
    "La gráfica de matriz de calor es útil para visualizar la matriz de covarianza entre múltiples variables. Los elementos de la diagonal de la matriz de calor representan las varianzas de las variables, mientras que los elementos fuera de la diagonal representan las covarianzas entre pares de variables.\n",
    "\n",
    "**Ejemplo de Gráfica de Matriz de Calor:**\n",
    "\n",
    "Utilizaremos los mismos datos de los ejemplos anteriores:"
   ]
  },
  {
   "cell_type": "code",
   "execution_count": 14,
   "metadata": {},
   "outputs": [
    {
     "data": {
      "image/png": "[encoded data removed]",
      "text/plain": [
       "<Figure size 600x600 with 2 Axes>"
      ]
     },
     "metadata": {},
     "output_type": "display_data"
    }
   ],
   "source": [
    "import numpy as np\n",
    "import seaborn as sns\n",
    "import matplotlib.pyplot as plt\n",
    "\n",
    "# Datos de ejemplo\n",
    "X = [1, 2, 3, 4, 5]\n",
    "Y = [2, 3, 4, 5, 6]\n",
    "\n",
    "# Crear una matriz de datos\n",
    "data = np.array([X, Y])\n",
    "\n",
    "# Calcular la matriz de covarianza\n",
    "covariance_matrix = np.cov(data)\n",
    "\n",
    "# Crear una matriz de etiquetas para los ejes\n",
    "labels = ['X', 'Y']\n",
    "\n",
    "# Crear la gráfica de matriz de calor\n",
    "plt.figure(figsize=(6, 6))\n",
    "sns.heatmap(covariance_matrix, annot=True, cmap='coolwarm', xticklabels=labels, yticklabels=labels)\n",
    "plt.title('Matriz de Covarianza')\n",
    "plt.show()"
   ]
  },
  {
   "cell_type": "markdown",
   "metadata": {},
   "source": [
    "**Resultado:**\n",
    "\n",
    "La gráfica de matriz de calor mostrará una matriz de 2x2 que representa la matriz de covarianza entre las variables $X$ e $Y$.\n",
    "\n",
    "En esta gráfica, los elementos de la diagonal serán más brillantes, ya que representan las varianzas de las variables. Los elementos fuera de la diagonal serán más oscuros, representando las covarianzas entre pares de variables.\n",
    "\n",
    "La interpretación visual de la covarianza a través del gráfico de dispersión y la gráfica de matriz de calor nos ayuda a entender la relación entre variables y cómo varían conjuntamente. Estas visualizaciones son especialmente útiles cuando trabajamos con conjuntos de datos multivariados para identificar patrones y relaciones entre diferentes variables."
   ]
  },
  {
   "cell_type": "markdown",
   "metadata": {},
   "source": [
    "| **Inicio** | **atrás 6** | **Siguiente 8** |\n",
    "|----------- |-------------- |---------------|\n",
    "| [🏠](../../README.md) | [⏪](./6_Distribucion_Normal_Estandar.ipynb)| [⏩](./8_Rango_Varianza_Desviacion_Estandar_Rango_Intercuartilico.ipynb)|"
   ]
  }
 ],
 "metadata": {
  "kernelspec": {
   "display_name": "base",
   "language": "python",
   "name": "python3"
  },
  "language_info": {
   "codemirror_mode": {
    "name": "ipython",
    "version": 3
   },
   "file_extension": ".py",
   "mimetype": "text/x-python",
   "name": "python",
   "nbconvert_exporter": "python",
   "pygments_lexer": "ipython3",
   "version": "3.9.12"
  },
  "orig_nbformat": 4
 },
 "nbformat": 4,
 "nbformat_minor": 2
}
