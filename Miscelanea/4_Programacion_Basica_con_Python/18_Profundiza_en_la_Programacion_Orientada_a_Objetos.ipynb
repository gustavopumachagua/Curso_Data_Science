{
 "cells": [
  {
   "cell_type": "markdown",
   "metadata": {},
   "source": [
    "| **Inicio** | **atrás 17** |\n",
    "|----------- |-------------- |\n",
    "| [🏠](../../README.md) | [⏪](./17_Encapsulamiento_de_Objetos.ipynb)|"
   ]
  },
  {
   "cell_type": "markdown",
   "metadata": {},
   "source": [
    "# **18. Profundiza en la Programación Orientada a Objetos usando Atributos de Clase con Python - POO | OOP**"
   ]
  },
  {
   "cell_type": "markdown",
   "metadata": {},
   "source": [
    "## **Introducción a los Atributos de Clase**"
   ]
  },
  {
   "cell_type": "markdown",
   "metadata": {},
   "source": [
    "**Atributos de Clase en Programación Orientada a Objetos (POO) con Python**\n",
    "\n",
    "Los atributos de clase son atributos que pertenecen a la clase en sí, en lugar de pertenecer a las instancias individuales de la clase. Estos atributos son compartidos por todas las instancias de la clase y pueden ser accedidos y modificados tanto a través de la clase como a través de las instancias. Los atributos de clase son útiles para almacenar información que es común a todas las instancias de la clase.\n",
    "\n",
    "**Definición de Atributos de Clase:**\n",
    "\n",
    "Los atributos de clase se definen dentro de la clase, pero fuera de cualquier método. Se acceden utilizando el nombre de la clase, seguido del nombre del atributo. Pueden ser inicializados en la declaración o en el método especial `__init__`, y se definen usando la sintaxis `nombre_atributo = valor`.\n",
    "\n",
    "**Ejemplo de Atributos de Clase en Python:**"
   ]
  },
  {
   "cell_type": "code",
   "execution_count": 1,
   "metadata": {},
   "outputs": [
    {
     "name": "stdout",
     "output_type": "stream",
     "text": [
      "Valor de pi: 3.14159\n",
      "Radio de circulo1: 5\n",
      "Radio de circulo2: 8\n",
      "Área de circulo1: 78.53975\n"
     ]
    }
   ],
   "source": [
    "class Circulo:\n",
    "    # Atributo de clase para almacenar el valor de pi\n",
    "    pi = 3.14159\n",
    "\n",
    "    def __init__(self, radio):\n",
    "        self.radio = radio\n",
    "\n",
    "    def calcular_area(self):\n",
    "        return self.pi * self.radio ** 2\n",
    "\n",
    "# Creación de instancias de la clase Circulo\n",
    "circulo1 = Circulo(5)\n",
    "circulo2 = Circulo(8)\n",
    "\n",
    "# Acceso a atributos de clase y de instancia\n",
    "print(\"Valor de pi:\", Circulo.pi)  # Salida: 3.14159\n",
    "print(\"Radio de circulo1:\", circulo1.radio)  # Salida: 5\n",
    "print(\"Radio de circulo2:\", circulo2.radio)  # Salida: 8\n",
    "\n",
    "# Uso del atributo de clase en un método\n",
    "area_circulo1 = circulo1.calcular_area()\n",
    "print(\"Área de circulo1:\", area_circulo1)  # Salida: 78.53975"
   ]
  },
  {
   "cell_type": "markdown",
   "metadata": {},
   "source": [
    "En este ejemplo, el atributo de clase `pi` se utiliza para almacenar el valor de pi que es común a todas las instancias de la clase `Circulo`. Los atributos de instancia `radio` se definen en el método `__init__` y son específicos de cada instancia. El método `calcular_area` utiliza el atributo de clase `pi` para calcular el área del círculo.\n",
    "\n",
    "**Ventajas de los Atributos de Clase:**\n",
    "\n",
    "1. **Compartir Información Común:** Los atributos de clase permiten compartir información común entre todas las instancias de la clase, evitando duplicación innecesaria de datos.\n",
    "\n",
    "2. **Cambios Globales:** Si necesitas cambiar un valor que afecta a todas las instancias de la clase, solo necesitas modificar el atributo de clase en un lugar.\n",
    "\n",
    "3. **Clasificación y Organización:** Los atributos de clase pueden usarse para clasificar y organizar datos y comportamientos relacionados.\n",
    "\n",
    "**Consideraciones:**\n",
    "\n",
    "- Los atributos de clase son compartidos por todas las instancias, por lo que los cambios en ellos afectarán a todas las instancias.\n",
    "- Si se modifica un atributo de clase en una instancia específica, se creará una nueva instancia de ese atributo específico para esa instancia, enmascarando el atributo de clase para esa instancia.\n",
    "\n",
    "**En resumen,** los atributos de clase en Python son una forma de almacenar información común a todas las instancias de una clase. Son útiles para compartir valores constantes, configuraciones o información global entre las instancias. Los atributos de clase ofrecen organización y eficiencia en la programación orientada a objetos."
   ]
  },
  {
   "cell_type": "markdown",
   "metadata": {},
   "source": [
    "| **Inicio** | **atrás 17** |\n",
    "|----------- |-------------- |\n",
    "| [🏠](../../README.md) | [⏪](./17_Encapsulamiento_de_Objetos.ipynb)|"
   ]
  }
 ],
 "metadata": {
  "kernelspec": {
   "display_name": "base",
   "language": "python",
   "name": "python3"
  },
  "language_info": {
   "codemirror_mode": {
    "name": "ipython",
    "version": 3
   },
   "file_extension": ".py",
   "mimetype": "text/x-python",
   "name": "python",
   "nbconvert_exporter": "python",
   "pygments_lexer": "ipython3",
   "version": "3.9.12"
  },
  "orig_nbformat": 4
 },
 "nbformat": 4,
 "nbformat_minor": 2
}
