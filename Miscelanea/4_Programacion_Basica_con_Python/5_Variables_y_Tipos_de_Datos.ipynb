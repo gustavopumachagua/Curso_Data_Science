{
 "cells": [
  {
   "cell_type": "markdown",
   "metadata": {},
   "source": [
    "| **Inicio** | **atrás 4** | **Siguiente 6** |\n",
    "|----------- |-------------- |---------------|\n",
    "| [🏠](../../README.md) | [⏪](./4_Recursividad_con_Python.ipynb)| [⏩](./6_Condicionales_IF_y_Expresiones.ipynb)|"
   ]
  },
  {
   "cell_type": "markdown",
   "metadata": {},
   "source": [
    "# **5. Fundamentos de la Programación con Python: Variables y Tipos de Datos en Python**"
   ]
  },
  {
   "cell_type": "markdown",
   "metadata": {},
   "source": [
    "## **Introducción a las variables y sus tipos de datos**"
   ]
  },
  {
   "cell_type": "markdown",
   "metadata": {},
   "source": [
    "**Fundamentos de la Programación con Python: Variables y Tipos de Datos**\n",
    "\n",
    "En programación, las variables son contenedores que almacenan valores en la memoria para su uso posterior. Los tipos de datos definen el tipo de valor que puede almacenar una variable. Python es un lenguaje de tipado dinámico, lo que significa que no es necesario declarar explícitamente el tipo de una variable; Python lo determina automáticamente según el valor asignado.\n",
    "\n",
    "**Variables en Python:**\n",
    "\n",
    "Para crear una variable en Python, simplemente elige un nombre para la variable y usa el signo igual (`=`) para asignarle un valor."
   ]
  },
  {
   "cell_type": "code",
   "execution_count": 1,
   "metadata": {},
   "outputs": [],
   "source": [
    "nombre = \"Alice\"\n",
    "edad = 30\n",
    "altura = 1.75"
   ]
  },
  {
   "cell_type": "markdown",
   "metadata": {},
   "source": [
    "**Tipos de Datos en Python:**\n",
    "\n",
    "Python tiene varios tipos de datos incorporados para manejar diferentes tipos de valores. Algunos de los tipos de datos más comunes incluyen:\n",
    "\n",
    "1. **Enteros (`int`):** Números enteros sin parte decimal."
   ]
  },
  {
   "cell_type": "code",
   "execution_count": 2,
   "metadata": {},
   "outputs": [],
   "source": [
    "edad = 25"
   ]
  },
  {
   "cell_type": "markdown",
   "metadata": {},
   "source": [
    "2. **Números de Punto Flotante (`float`):** Números con parte decimal."
   ]
  },
  {
   "cell_type": "code",
   "execution_count": 3,
   "metadata": {},
   "outputs": [],
   "source": [
    "altura = 1.80"
   ]
  },
  {
   "cell_type": "markdown",
   "metadata": {},
   "source": [
    "3. **Cadenas (`str`):** Secuencias de caracteres, como texto."
   ]
  },
  {
   "cell_type": "code",
   "execution_count": 4,
   "metadata": {},
   "outputs": [],
   "source": [
    "nombre = \"John\""
   ]
  },
  {
   "cell_type": "markdown",
   "metadata": {},
   "source": [
    "4. **Booleanos (`bool`):** Valores `True` o `False` que representan la lógica booleana."
   ]
  },
  {
   "cell_type": "code",
   "execution_count": 5,
   "metadata": {},
   "outputs": [],
   "source": [
    "es_mayor_de_edad = True"
   ]
  },
  {
   "cell_type": "markdown",
   "metadata": {},
   "source": [
    "5. **Listas (`list`):** Secuencias ordenadas de elementos."
   ]
  },
  {
   "cell_type": "code",
   "execution_count": 6,
   "metadata": {},
   "outputs": [],
   "source": [
    "numeros = [1, 2, 3, 4, 5]"
   ]
  },
  {
   "cell_type": "markdown",
   "metadata": {},
   "source": [
    "6. **Tuplas (`tuple`):** Secuencias ordenadas e inmutables de elementos."
   ]
  },
  {
   "cell_type": "code",
   "execution_count": 7,
   "metadata": {},
   "outputs": [],
   "source": [
    "coordenadas = (10, 20)"
   ]
  },
  {
   "cell_type": "markdown",
   "metadata": {},
   "source": [
    "7. **Diccionarios (`dict`):** Colecciones de pares clave-valor."
   ]
  },
  {
   "cell_type": "code",
   "execution_count": 8,
   "metadata": {},
   "outputs": [],
   "source": [
    "persona = {\"nombre\": \"Alice\", \"edad\": 30}"
   ]
  },
  {
   "cell_type": "markdown",
   "metadata": {},
   "source": [
    "**Función `type()`:**\n",
    "\n",
    "Puedes utilizar la función `type()` para conocer el tipo de datos de una variable."
   ]
  },
  {
   "cell_type": "code",
   "execution_count": 9,
   "metadata": {},
   "outputs": [
    {
     "name": "stdout",
     "output_type": "stream",
     "text": [
      "<class 'int'>\n"
     ]
    }
   ],
   "source": [
    "numero = 42\n",
    "tipo = type(numero)\n",
    "print(tipo)  # Salida: <class 'int'>"
   ]
  },
  {
   "cell_type": "markdown",
   "metadata": {},
   "source": [
    "**Cambio de Tipos de Datos:**\n",
    "\n",
    "A veces, necesitas convertir un tipo de dato en otro. Puedes usar las funciones `int()`, `float()`, `str()`, entre otras, para hacerlo."
   ]
  },
  {
   "cell_type": "code",
   "execution_count": 10,
   "metadata": {},
   "outputs": [],
   "source": [
    "numero_str = \"42\"\n",
    "numero_int = int(numero_str)"
   ]
  },
  {
   "cell_type": "markdown",
   "metadata": {},
   "source": [
    "**Resumen:**\n",
    "\n",
    "Las variables y los tipos de datos son fundamentales en la programación Python. Las variables almacenan valores en la memoria y los tipos de datos definen qué tipo de valor puede contener una variable. Python es de tipado dinámico, lo que significa que el tipo de una variable se infiere automáticamente según el valor asignado. Entender cómo trabajar con variables y tipos de datos es esencial para construir programas efectivos y flexibles."
   ]
  },
  {
   "cell_type": "markdown",
   "metadata": {},
   "source": [
    "## **Introducción a los tipos de datos numéricos**"
   ]
  },
  {
   "cell_type": "markdown",
   "metadata": {},
   "source": [
    "**Introducción a los Tipos de Datos Numéricos en Python: Explicación Detallada con Ejemplos**\n",
    "\n",
    "Python ofrece varios tipos de datos numéricos para trabajar con números en diferentes contextos. Estos tipos de datos numéricos son esenciales para realizar cálculos matemáticos y operaciones aritméticas en tus programas. Aquí tienes una explicación detallada junto con ejemplos de los tipos de datos numéricos en Python:\n",
    "\n",
    "**1. Enteros (`int`):**\n",
    "\n",
    "Los números enteros son valores numéricos sin parte decimal. Pueden ser positivos, negativos o cero."
   ]
  },
  {
   "cell_type": "code",
   "execution_count": 11,
   "metadata": {},
   "outputs": [],
   "source": [
    "numero_entero = 42\n",
    "otro_numero_entero = -15"
   ]
  },
  {
   "cell_type": "markdown",
   "metadata": {},
   "source": [
    "**2. Números de Punto Flotante (`float`):**\n",
    "\n",
    "Los números de punto flotante son números que pueden tener una parte decimal. Se utilizan para representar números reales."
   ]
  },
  {
   "cell_type": "code",
   "execution_count": 12,
   "metadata": {},
   "outputs": [],
   "source": [
    "numero_flotante = 3.14\n",
    "otro_numero_flotante = -0.5"
   ]
  },
  {
   "cell_type": "markdown",
   "metadata": {},
   "source": [
    "**Operaciones Aritméticas:**\n",
    "\n",
    "Python permite realizar operaciones aritméticas básicas con estos tipos de datos numéricos. Algunas de las operaciones comunes son:\n",
    "\n",
    "- Suma: `+`\n",
    "- Resta: `-`\n",
    "- Multiplicación: `*`\n",
    "- División: `/`\n",
    "- Potencia: `**`\n",
    "- Módulo (Resto): `%`"
   ]
  },
  {
   "cell_type": "code",
   "execution_count": 13,
   "metadata": {},
   "outputs": [
    {
     "name": "stdout",
     "output_type": "stream",
     "text": [
      "13\n",
      "7\n",
      "30\n",
      "3.3333333333333335\n",
      "1000\n",
      "1\n"
     ]
    }
   ],
   "source": [
    "a = 10\n",
    "b = 3\n",
    "\n",
    "suma = a + b\n",
    "resta = a - b\n",
    "multiplicacion = a * b\n",
    "division = a / b\n",
    "potencia = a ** b\n",
    "resto = a % b\n",
    "\n",
    "print(suma)           # Salida: 13\n",
    "print(resta)          # Salida: 7\n",
    "print(multiplicacion) # Salida: 30\n",
    "print(division)       # Salida: 3.3333333333333335\n",
    "print(potencia)       # Salida: 1000\n",
    "print(resto)          # Salida: 1"
   ]
  },
  {
   "cell_type": "markdown",
   "metadata": {},
   "source": [
    "**Conversión de Tipos:**\n",
    "\n",
    "Puedes convertir un número entero en un número de punto flotante y viceversa utilizando las funciones `int()` y `float()`."
   ]
  },
  {
   "cell_type": "code",
   "execution_count": 14,
   "metadata": {},
   "outputs": [],
   "source": [
    "entero_convertido = float(42)\n",
    "flotante_convertido = int(3.14)"
   ]
  },
  {
   "cell_type": "markdown",
   "metadata": {},
   "source": [
    "**Operaciones Avanzadas:**\n",
    "\n",
    "Python también ofrece una amplia variedad de funciones matemáticas avanzadas a través del módulo `math`."
   ]
  },
  {
   "cell_type": "code",
   "execution_count": 15,
   "metadata": {},
   "outputs": [],
   "source": [
    "import math\n",
    "\n",
    "raiz_cuadrada = math.sqrt(16)\n",
    "seno = math.sin(math.pi / 2)"
   ]
  },
  {
   "cell_type": "markdown",
   "metadata": {},
   "source": [
    "**Resumen:**\n",
    "\n",
    "Los tipos de datos numéricos en Python, como enteros y números de punto flotante, son fundamentales para realizar cálculos matemáticos y operaciones aritméticas. Puedes realizar operaciones simples y avanzadas utilizando operadores y funciones matemáticas. Comprender y trabajar con estos tipos de datos es esencial para la mayoría de las aplicaciones de programación y análisis numérico."
   ]
  },
  {
   "cell_type": "markdown",
   "metadata": {},
   "source": [
    "## **Orden de precedencia de los operadores**"
   ]
  },
  {
   "cell_type": "markdown",
   "metadata": {},
   "source": [
    "**Orden de Precedencia de los Operadores en Python: Explicación Detallada con Ejemplos**\n",
    "\n",
    "Cuando se utilizan varios operadores en una expresión, Python sigue un orden de precedencia para determinar el orden en que se evalúan. Esto es importante para asegurarse de que las operaciones se realicen en el orden correcto y produzcan resultados esperados. Aquí tienes una explicación detallada del orden de precedencia de los operadores en Python, junto con ejemplos:\n",
    "\n",
    " 1. Paréntesis ():\n",
    "\n",
    "Los paréntesis tienen la mayor precedencia. Cualquier expresión dentro de paréntesis se evalúa primero.\n",
    "\n",
    " 2. Potenciación `**`:\n",
    "\n",
    "La potenciación (elevar a una potencia) tiene la segunda mayor precedencia.\n",
    "\n",
    " 3. Multiplicación *, División /, División Entera //, Módulo %:\n",
    "\n",
    "Estos operadores tienen la tercera mayor precedencia y se evalúan de izquierda a derecha.\n",
    "\n",
    "4. Suma +, Resta -:\n",
    "\n",
    "La suma y la resta tienen la cuarta mayor precedencia y también se evalúan de izquierda a derecha.\n",
    "\n",
    "**Ejemplos:**"
   ]
  },
  {
   "cell_type": "code",
   "execution_count": 16,
   "metadata": {},
   "outputs": [
    {
     "name": "stdout",
     "output_type": "stream",
     "text": [
      "16\n",
      "36\n",
      "8.0\n",
      "5\n",
      "4\n",
      "32\n",
      "10\n",
      "8.0\n"
     ]
    }
   ],
   "source": [
    "resultado = 10 + 2 * 3  # Multiplicación se evalúa primero\n",
    "print(resultado)  # Salida: 16\n",
    "\n",
    "resultado = (10 + 2) * 3  # Paréntesis se evalúan primero\n",
    "print(resultado)  # Salida: 36\n",
    "\n",
    "resultado = 10 / 2 + 3  # División se evalúa primero, luego suma\n",
    "print(resultado)  # Salida: 8.0\n",
    "\n",
    "resultado = 10 // 3 + 2  # División entera se evalúa primero, luego suma\n",
    "print(resultado)  # Salida: 5\n",
    "\n",
    "resultado = 10 % 4 + 2  # Módulo se evalúa primero, luego suma\n",
    "print(resultado)  # Salida: 4\n",
    "\n",
    "resultado = 2 ** 3 * 4  # Potenciación se evalúa primero, luego multiplicación\n",
    "print(resultado)  # Salida: 32\n",
    "\n",
    "resultado = 2 * 3 + 4  # Multiplicación se evalúa primero, luego suma\n",
    "print(resultado)  # Salida: 10\n",
    "\n",
    "resultado = 10 - 4 / 2  # División se evalúa primero, luego resta\n",
    "print(resultado)  # Salida: 8.0"
   ]
  },
  {
   "cell_type": "markdown",
   "metadata": {},
   "source": [
    "**Nota Importante:**\n",
    "\n",
    "Siempre puedes usar paréntesis para forzar un orden de evaluación diferente al predeterminado por la precedencia de operadores. Esto te permite controlar el orden de evaluación de manera explícita.\n",
    "\n",
    "**Resumen:**\n",
    "\n",
    "El orden de precedencia de los operadores en Python asegura que las expresiones se evalúen de acuerdo con reglas matemáticas establecidas. Comprender el orden de precedencia es esencial para evitar errores y producir resultados correctos en tus programas. Siempre puedes usar paréntesis para cambiar el orden de evaluación cuando sea necesario."
   ]
  },
  {
   "cell_type": "markdown",
   "metadata": {},
   "source": [
    "## **Introducción a los tipos de datos str (texto)**"
   ]
  },
  {
   "cell_type": "markdown",
   "metadata": {},
   "source": [
    "**Introducción a los Tipos de Datos `str` (Texto) en Python: Explicación Detallada con Ejemplos**\n",
    "\n",
    "El tipo de datos `str` en Python se utiliza para representar texto y cadenas de caracteres. Puedes crear cadenas utilizando comillas simples (`'`) o comillas dobles (`\"`). Las cadenas son inmutables, lo que significa que no puedes modificar caracteres individuales una vez que se han creado.\n",
    "\n",
    "**Creación de Cadenas:**"
   ]
  },
  {
   "cell_type": "code",
   "execution_count": 17,
   "metadata": {},
   "outputs": [],
   "source": [
    "nombre = \"Alice\"\n",
    "mensaje = 'Hola, ¿cómo estás?'"
   ]
  },
  {
   "cell_type": "markdown",
   "metadata": {},
   "source": [
    "**Operaciones Básicas con Cadenas:**\n",
    "\n",
    "1. **Concatenación:**\n",
    "\n",
    "Puedes concatenar (unir) dos o más cadenas utilizando el operador `+`."
   ]
  },
  {
   "cell_type": "code",
   "execution_count": 18,
   "metadata": {},
   "outputs": [
    {
     "name": "stdout",
     "output_type": "stream",
     "text": [
      "Hola, Alice\n"
     ]
    }
   ],
   "source": [
    "saludo = \"Hola, \"\n",
    "nombre = \"Alice\"\n",
    "mensaje = saludo + nombre\n",
    "print(mensaje)  # Salida: \"Hola, Alice\""
   ]
  },
  {
   "cell_type": "markdown",
   "metadata": {},
   "source": [
    "2. **Repetición:**\n",
    "\n",
    "Puedes repetir una cadena utilizando el operador `*`."
   ]
  },
  {
   "cell_type": "code",
   "execution_count": 19,
   "metadata": {},
   "outputs": [
    {
     "name": "stdout",
     "output_type": "stream",
     "text": [
      "¡Hola! ¡Hola! ¡Hola! \n"
     ]
    }
   ],
   "source": [
    "repite = \"¡Hola! \" * 3\n",
    "print(repite)  # Salida: \"¡Hola! ¡Hola! ¡Hola! \""
   ]
  },
  {
   "cell_type": "markdown",
   "metadata": {},
   "source": [
    "**Índices y Segmentación:**\n",
    "\n",
    "Puedes acceder a caracteres individuales en una cadena utilizando índices. Los índices comienzan desde 0 para el primer carácter y van en orden creciente. También puedes usar segmentación para obtener subcadenas."
   ]
  },
  {
   "cell_type": "code",
   "execution_count": 20,
   "metadata": {},
   "outputs": [],
   "source": [
    "mensaje = \"Hola, mundo\"\n",
    "primer_caracter = mensaje[0]  # Primer carácter: \"H\"\n",
    "subcadena = mensaje[6:10]  # Subcadena: \"mund\""
   ]
  },
  {
   "cell_type": "markdown",
   "metadata": {},
   "source": [
    "**Métodos de Cadena:**\n",
    "\n",
    "Python proporciona muchos métodos útiles para trabajar con cadenas:"
   ]
  },
  {
   "cell_type": "code",
   "execution_count": 21,
   "metadata": {},
   "outputs": [],
   "source": [
    "cadena = \"Hola, mundo\"\n",
    "\n",
    "# Longitud de la cadena\n",
    "longitud = len(cadena)\n",
    "\n",
    "# Convertir a mayúsculas y minúsculas\n",
    "mayusculas = cadena.upper()\n",
    "minusculas = cadena.lower()\n",
    "\n",
    "# Reemplazar texto\n",
    "nueva_cadena = cadena.replace(\"Hola\", \"Saludos\")\n",
    "\n",
    "# Dividir en una lista de palabras\n",
    "palabras = cadena.split(\", \")\n",
    "\n",
    "# Encontrar índice de una subcadena\n",
    "indice = cadena.index(\"mundo\")"
   ]
  },
  {
   "cell_type": "markdown",
   "metadata": {},
   "source": [
    "**Cadenas con Comillas:**\n",
    "\n",
    "Si una cadena contiene comillas, puedes usar comillas simples dentro de comillas dobles y viceversa."
   ]
  },
  {
   "cell_type": "code",
   "execution_count": 22,
   "metadata": {},
   "outputs": [],
   "source": [
    "mensaje1 = \"Ella dijo: 'Hola'\"\n",
    "mensaje2 = 'Mi nombre es \"Alice\"'"
   ]
  },
  {
   "cell_type": "markdown",
   "metadata": {},
   "source": [
    "**Formato de Cadenas:**\n",
    "\n",
    "Puedes usar f-strings para formatear cadenas con valores de variables."
   ]
  },
  {
   "cell_type": "code",
   "execution_count": 23,
   "metadata": {},
   "outputs": [],
   "source": [
    "nombre = \"Alice\"\n",
    "edad = 30\n",
    "saludo = f\"Hola, me llamo {nombre} y tengo {edad} años\""
   ]
  },
  {
   "cell_type": "markdown",
   "metadata": {},
   "source": [
    "**Escape de Caracteres:**\n",
    "\n",
    "Algunos caracteres, como comillas y caracteres de escape, necesitan ser escapados con la barra invertida (`\\`) para que se puedan incluir en una cadena."
   ]
  },
  {
   "cell_type": "code",
   "execution_count": 24,
   "metadata": {},
   "outputs": [],
   "source": [
    "cadena_con_barra = \"Este es un caracter de escape: \\\\\"\n",
    "cadena_con_comillas = \"Ella dijo: \\\"Hola\\\"\""
   ]
  },
  {
   "cell_type": "markdown",
   "metadata": {},
   "source": [
    "**Resumen:**\n",
    "\n",
    "El tipo de datos `str` en Python es esencial para trabajar con texto y cadenas de caracteres. Puedes crear, manipular y formatear cadenas utilizando una variedad de operadores y métodos. Comprender cómo trabajar con cadenas es fundamental para tareas como el procesamiento de texto, la generación de mensajes y la manipulación de datos en programas Python."
   ]
  },
  {
   "cell_type": "markdown",
   "metadata": {},
   "source": [
    "## **Introducción a los tipos de datos booleanos: True y False**"
   ]
  },
  {
   "cell_type": "markdown",
   "metadata": {},
   "source": [
    "**Introducción a los Tipos de Datos Booleanos: `True` y `False` en Python**\n",
    "\n",
    "Los tipos de datos booleanos en Python, representados por `True` y `False`, son fundamentales para la lógica y las decisiones en la programación. Estos valores son utilizados para evaluar condiciones y controlar el flujo del programa. Aquí tienes una explicación detallada con ejemplos de los tipos de datos booleanos en Python:\n",
    "\n",
    "**Creación de Valores Booleanos:**\n",
    "\n",
    "En Python, los valores booleanos se escriben como `True` y `False`. Ten en cuenta que son sensibles a mayúsculas y minúsculas, lo que significa que `True` y `true` no son equivalentes."
   ]
  },
  {
   "cell_type": "code",
   "execution_count": 25,
   "metadata": {},
   "outputs": [],
   "source": [
    "es_verdadero = True\n",
    "es_falso = False"
   ]
  },
  {
   "cell_type": "markdown",
   "metadata": {},
   "source": [
    "**Operadores de Comparación:**\n",
    "\n",
    "Los operadores de comparación se utilizan para comparar dos valores y producir un resultado booleano. Algunos ejemplos de operadores de comparación son:\n",
    "\n",
    "- Igual (`==`)\n",
    "- No Igual (`!=`)\n",
    "- Mayor que (`>`)\n",
    "- Menor que (`<`)\n",
    "- Mayor o Igual que (`>=`)\n",
    "- Menor o Igual que (`<=`)"
   ]
  },
  {
   "cell_type": "code",
   "execution_count": 26,
   "metadata": {},
   "outputs": [],
   "source": [
    "x = 10\n",
    "y = 5\n",
    "\n",
    "igual = x == y\n",
    "no_igual = x != y\n",
    "mayor_que = x > y\n",
    "menor_que = x < y\n",
    "mayor_o_igual = x >= y\n",
    "menor_o_igual = x <= y"
   ]
  },
  {
   "cell_type": "markdown",
   "metadata": {},
   "source": [
    "**Operadores Lógicos:**\n",
    "\n",
    "Los operadores lógicos permiten combinar expresiones booleanas. Los operadores lógicos más comunes son:\n",
    "\n",
    "- Y (`and`)\n",
    "- O (`or`)\n",
    "- No (`not`)"
   ]
  },
  {
   "cell_type": "code",
   "execution_count": 27,
   "metadata": {},
   "outputs": [],
   "source": [
    "a = True\n",
    "b = False\n",
    "\n",
    "y = a and b  # Falso porque ambos deben ser verdaderos\n",
    "o = a or b   # Verdadero porque al menos uno es verdadero\n",
    "no_a = not a  # Falso porque se niega un valor verdadero"
   ]
  },
  {
   "cell_type": "markdown",
   "metadata": {},
   "source": [
    "**Uso en Estructuras Condicionales:**\n",
    "\n",
    "Los valores booleanos son fundamentales para las estructuras condicionales. Estas estructuras, como el `if`, permiten tomar decisiones en función de si una condición es verdadera o falsa."
   ]
  },
  {
   "cell_type": "code",
   "execution_count": 28,
   "metadata": {},
   "outputs": [
    {
     "name": "stdout",
     "output_type": "stream",
     "text": [
      "No hace tanto calor\n"
     ]
    }
   ],
   "source": [
    "temperatura = 25\n",
    "\n",
    "if temperatura > 30:\n",
    "    print(\"Hace calor\")\n",
    "else:\n",
    "    print(\"No hace tanto calor\")"
   ]
  },
  {
   "cell_type": "markdown",
   "metadata": {},
   "source": [
    "**Resumen:**\n",
    "\n",
    "Los tipos de datos booleanos `True` y `False` son esenciales para la lógica y las decisiones en Python. Se utilizan para evaluar condiciones, controlar el flujo del programa y tomar decisiones basadas en valores verdaderos o falsos. Los operadores de comparación y lógicos permiten trabajar con estos valores booleanos y construir estructuras condicionales más complejas. Comprender cómo funcionan los valores booleanos es esencial para desarrollar programas que tomen decisiones y respondan a diferentes situaciones."
   ]
  },
  {
   "cell_type": "markdown",
   "metadata": {},
   "source": [
    "| **Inicio** | **atrás 4** | **Siguiente 6** |\n",
    "|----------- |-------------- |---------------|\n",
    "| [🏠](../../README.md) | [⏪](./4_Recursividad_con_Python.ipynb)| [⏩](./6_Condicionales_IF_y_Expresiones.ipynb)|"
   ]
  }
 ],
 "metadata": {
  "kernelspec": {
   "display_name": "base",
   "language": "python",
   "name": "python3"
  },
  "language_info": {
   "codemirror_mode": {
    "name": "ipython",
    "version": 3
   },
   "file_extension": ".py",
   "mimetype": "text/x-python",
   "name": "python",
   "nbconvert_exporter": "python",
   "pygments_lexer": "ipython3",
   "version": "3.9.12"
  },
  "orig_nbformat": 4
 },
 "nbformat": 4,
 "nbformat_minor": 2
}
