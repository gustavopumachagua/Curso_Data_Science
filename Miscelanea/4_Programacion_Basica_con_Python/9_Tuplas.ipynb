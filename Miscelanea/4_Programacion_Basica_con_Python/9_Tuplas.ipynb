{
 "cells": [
  {
   "cell_type": "markdown",
   "metadata": {},
   "source": [
    "| **Inicio** | **atrás 8** | **Siguiente 10** |\n",
    "|----------- |-------------- |---------------|\n",
    "| [🏠](../../README.md) | [⏪](./8_Conjuntos.ipynb)| [⏩](./10_Ciclos_While_&_For.ipynb)|"
   ]
  },
  {
   "cell_type": "markdown",
   "metadata": {},
   "source": [
    "# **9. Por qué y cómo utilizar Tuplas en Python**"
   ]
  },
  {
   "cell_type": "markdown",
   "metadata": {},
   "source": [
    "## **Introducción a las tuplas**"
   ]
  },
  {
   "cell_type": "markdown",
   "metadata": {},
   "source": [
    "**Tuplas en Python: Uso y Explicación Detallada**\n",
    "\n",
    "Las tuplas son una estructura de datos en Python que almacena una colección ordenada e inmutable de elementos. Aunque pueden parecer similares a las listas, las tuplas tienen características únicas y se utilizan en situaciones específicas. Aquí tienes una explicación detallada sobre por qué y cómo utilizar tuplas en Python, junto con ejemplos:\n",
    "\n",
    "**Por qué utilizar Tuplas:**\n",
    "\n",
    "1. **Inmutabilidad:** Una vez que se crea una tupla, no se pueden modificar sus elementos. Esto puede ser útil para garantizar que los datos no cambien accidentalmente.\n",
    "\n",
    "2. **Uso como Clave en Diccionarios:** Las tuplas son hashables, lo que significa que se pueden utilizar como claves en diccionarios, a diferencia de las listas.\n",
    "\n",
    "3. **Eficiencia:** Las tuplas son más ligeras en términos de memoria y procesamiento que las listas, lo que las hace útiles cuando solo necesitas almacenar elementos y no planeas modificarlos.\n",
    "\n",
    "**Creación de Tuplas:**\n",
    "\n",
    "Las tuplas se crean utilizando paréntesis `()` y los elementos se separan por comas."
   ]
  },
  {
   "cell_type": "code",
   "execution_count": 1,
   "metadata": {},
   "outputs": [],
   "source": [
    "tupla_numeros = (1, 2, 3, 4, 5)\n",
    "tupla_colores = (\"rojo\", \"verde\", \"azul\")"
   ]
  },
  {
   "cell_type": "markdown",
   "metadata": {},
   "source": [
    "**Acceso a Elementos en Tuplas:**\n",
    "\n",
    "Puedes acceder a elementos individuales de una tupla utilizando índices."
   ]
  },
  {
   "cell_type": "code",
   "execution_count": 2,
   "metadata": {},
   "outputs": [],
   "source": [
    "tupla_colores = (\"rojo\", \"verde\", \"azul\")\n",
    "primer_color = tupla_colores[0]  # Acceder al primer color (\"rojo\")"
   ]
  },
  {
   "cell_type": "markdown",
   "metadata": {},
   "source": [
    "**Desempaquetado de Tuplas:**\n",
    "\n",
    "Puedes desempaquetar los elementos de una tupla en variables individuales."
   ]
  },
  {
   "cell_type": "code",
   "execution_count": 3,
   "metadata": {},
   "outputs": [],
   "source": [
    "punto = (3, 5)\n",
    "x, y = punto  # x = 3, y = 5"
   ]
  },
  {
   "cell_type": "markdown",
   "metadata": {},
   "source": [
    "**Uso Práctico: Tuplas como Claves en Diccionarios:**\n",
    "\n",
    "Las tuplas se pueden usar como claves en diccionarios, mientras que las listas no pueden."
   ]
  },
  {
   "cell_type": "code",
   "execution_count": 4,
   "metadata": {},
   "outputs": [],
   "source": [
    "diccionario = {(\"Alice\", 25): \"Estudiante\", (\"Bob\", 30): \"Profesor\"}"
   ]
  },
  {
   "cell_type": "markdown",
   "metadata": {},
   "source": [
    "**Resumen:**\n",
    "\n",
    "Las tuplas en Python son una estructura de datos que almacena elementos en una colección ordenada e inmutable. Son útiles cuando necesitas almacenar datos que no cambiarán, como coordenadas, nombres y edades, y deseas garantizar la integridad de los datos. Las tuplas son especialmente útiles como claves en diccionarios y en situaciones donde la eficiencia y la inmutabilidad son importantes. Aunque son similares a las listas, sus diferencias y ventajas hacen que las tuplas sean una herramienta valiosa en la programación."
   ]
  },
  {
   "cell_type": "markdown",
   "metadata": {},
   "source": [
    "## **Creación de tuplas**"
   ]
  },
  {
   "cell_type": "markdown",
   "metadata": {},
   "source": [
    "**Creación de Tuplas en Python: Explicación Detallada con Ejemplos**\n",
    "\n",
    "Las tuplas son una estructura de datos en Python que almacena una colección ordenada e inmutable de elementos. Puedes crear tuplas de varias maneras y utilizarlas para almacenar datos que no necesitas modificar. Aquí tienes una explicación detallada de cómo crear tuplas en Python, junto con ejemplos:\n",
    "\n",
    "**Creación Básica de Tuplas:**\n",
    "\n",
    "Puedes crear tuplas utilizando paréntesis `()` y separando los elementos por comas."
   ]
  },
  {
   "cell_type": "code",
   "execution_count": 5,
   "metadata": {},
   "outputs": [],
   "source": [
    "# Creación de una tupla de números\n",
    "tupla_numeros = (1, 2, 3, 4, 5)\n",
    "\n",
    "# Creación de una tupla de colores\n",
    "tupla_colores = (\"rojo\", \"verde\", \"azul\")"
   ]
  },
  {
   "cell_type": "markdown",
   "metadata": {},
   "source": [
    "**Creación sin Paréntesis:**\n",
    "\n",
    "También puedes crear tuplas sin utilizar paréntesis. Si separas los elementos por comas, Python reconocerá automáticamente que estás creando una tupla."
   ]
  },
  {
   "cell_type": "code",
   "execution_count": 6,
   "metadata": {},
   "outputs": [],
   "source": [
    "punto = 3, 5  # Crea una tupla (3, 5)"
   ]
  },
  {
   "cell_type": "markdown",
   "metadata": {},
   "source": [
    "**Tupla de un Solo Elemento:**\n",
    "\n",
    "Para crear una tupla con un solo elemento, debes agregar una coma después del elemento."
   ]
  },
  {
   "cell_type": "code",
   "execution_count": 7,
   "metadata": {},
   "outputs": [],
   "source": [
    "tupla_individual = (\"soltero\",)"
   ]
  },
  {
   "cell_type": "markdown",
   "metadata": {},
   "source": [
    "**Constructor de Tuplas:**\n",
    "\n",
    "Puedes utilizar el constructor `tuple()` para crear una tupla a partir de otra secuencia, como una lista o una cadena."
   ]
  },
  {
   "cell_type": "code",
   "execution_count": 8,
   "metadata": {},
   "outputs": [],
   "source": [
    "lista = [10, 20, 30]\n",
    "tupla_desde_lista = tuple(lista)"
   ]
  },
  {
   "cell_type": "markdown",
   "metadata": {},
   "source": [
    "**Desempaquetado de Tuplas:**\n",
    "\n",
    "Puedes asignar los elementos de una tupla a variables individuales a través del desempaquetado."
   ]
  },
  {
   "cell_type": "code",
   "execution_count": 9,
   "metadata": {},
   "outputs": [],
   "source": [
    "punto = (3, 5)\n",
    "x, y = punto  # x = 3, y = 5"
   ]
  },
  {
   "cell_type": "markdown",
   "metadata": {},
   "source": [
    "**Uso Práctico: Tuplas en Ciclos For:**\n",
    "\n",
    "Las tuplas son útiles en ciclos `for` para iterar a través de elementos que contienen pares de datos."
   ]
  },
  {
   "cell_type": "code",
   "execution_count": 10,
   "metadata": {},
   "outputs": [
    {
     "name": "stdout",
     "output_type": "stream",
     "text": [
      "x: 1 y: 2\n",
      "x: 3 y: 4\n",
      "x: 5 y: 6\n"
     ]
    }
   ],
   "source": [
    "coordenadas = [(1, 2), (3, 4), (5, 6)]\n",
    "for x, y in coordenadas:\n",
    "    print(\"x:\", x, \"y:\", y)"
   ]
  },
  {
   "cell_type": "markdown",
   "metadata": {},
   "source": [
    "**Resumen:**\n",
    "\n",
    "Crear tuplas en Python es bastante sencillo. Utilizas paréntesis `()` para agrupar elementos en una colección ordenada e inmutable. Puedes crear tuplas directamente con valores, desempaquetar tuplas en variables individuales o convertir otras secuencias en tuplas. Las tuplas son útiles para almacenar datos que no cambiarán y para iterar a través de pares de datos en ciclos `for`. Su inmutabilidad y características únicas las hacen una estructura de datos valiosa en diversas situaciones."
   ]
  },
  {
   "cell_type": "markdown",
   "metadata": {},
   "source": [
    "## **Conversión de tuplas a listas**"
   ]
  },
  {
   "cell_type": "markdown",
   "metadata": {},
   "source": [
    "**Conversión de Tuplas a Listas en Python: Explicación Detallada con Ejemplos**\n",
    "\n",
    "En Python, puedes convertir tuplas en listas y viceversa utilizando funciones incorporadas. Esta conversión puede ser útil cuando necesitas modificar o manipular los elementos de una colección. Aquí tienes una explicación detallada de cómo convertir tuplas a listas en Python, junto con ejemplos:\n",
    "\n",
    "**1. Utilizando la Función `list()`:**\n",
    "\n",
    "La forma más común de convertir una tupla en una lista es utilizando la función `list()`."
   ]
  },
  {
   "cell_type": "code",
   "execution_count": 11,
   "metadata": {},
   "outputs": [
    {
     "name": "stdout",
     "output_type": "stream",
     "text": [
      "[1, 2, 3, 4, 5]\n"
     ]
    }
   ],
   "source": [
    "tupla_numeros = (1, 2, 3, 4, 5)\n",
    "lista_numeros = list(tupla_numeros)\n",
    "print(lista_numeros)  # Salida: [1, 2, 3, 4, 5]"
   ]
  },
  {
   "cell_type": "markdown",
   "metadata": {},
   "source": [
    "**2. Conversión de Elementos Modificables:**\n",
    "\n",
    "Una vez que has convertido una tupla en una lista, puedes modificar los elementos si lo deseas. Esto es una ventaja sobre las tuplas, que son inmutables."
   ]
  },
  {
   "cell_type": "code",
   "execution_count": 12,
   "metadata": {},
   "outputs": [
    {
     "name": "stdout",
     "output_type": "stream",
     "text": [
      "['rojo', 'amarillo', 'azul']\n"
     ]
    }
   ],
   "source": [
    "tupla_colores = (\"rojo\", \"verde\", \"azul\")\n",
    "lista_colores = list(tupla_colores)\n",
    "lista_colores[1] = \"amarillo\"\n",
    "print(lista_colores)  # Salida: [\"rojo\", \"amarillo\", \"azul\"]"
   ]
  },
  {
   "cell_type": "markdown",
   "metadata": {},
   "source": [
    "**3. Uso en Ciclos y Operaciones de Lista:**\n",
    "\n",
    "Después de convertir una tupla en una lista, puedes aprovechar todas las operaciones y métodos disponibles para las listas en Python."
   ]
  },
  {
   "cell_type": "code",
   "execution_count": 13,
   "metadata": {},
   "outputs": [
    {
     "name": "stdout",
     "output_type": "stream",
     "text": [
      "Suma: 3\n",
      "Suma: 7\n",
      "Suma: 11\n"
     ]
    }
   ],
   "source": [
    "tupla_pares = ((1, 2), (3, 4), (5, 6))\n",
    "lista_pares = list(tupla_pares)\n",
    "\n",
    "for par in lista_pares:\n",
    "    suma = sum(par)\n",
    "    print(\"Suma:\", suma)\n",
    "\n",
    "longitud = len(lista_pares)"
   ]
  },
  {
   "cell_type": "markdown",
   "metadata": {},
   "source": [
    "**4. Conversión de una Lista a una Tupla:**\n",
    "\n",
    "De manera similar, también puedes convertir una lista en una tupla utilizando la función `tuple()`."
   ]
  },
  {
   "cell_type": "code",
   "execution_count": 14,
   "metadata": {},
   "outputs": [
    {
     "name": "stdout",
     "output_type": "stream",
     "text": [
      "('a', 'b', 'c')\n"
     ]
    }
   ],
   "source": [
    "lista_letras = [\"a\", \"b\", \"c\"]\n",
    "tupla_letras = tuple(lista_letras)\n",
    "print(tupla_letras)  # Salida: (\"a\", \"b\", \"c\")"
   ]
  },
  {
   "cell_type": "markdown",
   "metadata": {},
   "source": [
    "**Resumen:**\n",
    "\n",
    "La conversión de tuplas a listas en Python es un proceso simple y útil que te permite modificar y manipular elementos que de otro modo serían inmutables. Utiliza la función `list()` para realizar esta conversión, y luego puedes aprovechar todas las operaciones y métodos disponibles para las listas en Python. Esta conversión es especialmente útil cuando necesitas trabajar con elementos modificables y aprovechar las características de las listas en tu programación."
   ]
  },
  {
   "cell_type": "markdown",
   "metadata": {},
   "source": [
    "## **Conversión de listas a tuplas**"
   ]
  },
  {
   "cell_type": "markdown",
   "metadata": {},
   "source": [
    "**Conversión de Listas a Tuplas en Python: Explicación Detallada con Ejemplos**\n",
    "\n",
    "En Python, puedes convertir listas en tuplas utilizando funciones incorporadas. Esta conversión puede ser útil cuando deseas garantizar que los datos sean inmutables o cuando necesitas utilizar las propiedades específicas de las tuplas. Aquí tienes una explicación detallada de cómo convertir listas a tuplas en Python, junto con ejemplos:\n",
    "\n",
    "**1. Utilizando la Función `tuple()`:**\n",
    "\n",
    "La forma más común de convertir una lista en una tupla es utilizando la función `tuple()`."
   ]
  },
  {
   "cell_type": "code",
   "execution_count": 15,
   "metadata": {},
   "outputs": [
    {
     "name": "stdout",
     "output_type": "stream",
     "text": [
      "(1, 2, 3, 4, 5)\n"
     ]
    }
   ],
   "source": [
    "lista_numeros = [1, 2, 3, 4, 5]\n",
    "tupla_numeros = tuple(lista_numeros)\n",
    "print(tupla_numeros)  # Salida: (1, 2, 3, 4, 5)"
   ]
  },
  {
   "cell_type": "markdown",
   "metadata": {},
   "source": [
    "**2. Propiedades de Inmutabilidad:**\n",
    "\n",
    "Una vez que has convertido una lista en una tupla, los elementos se vuelven inmutables. Esto significa que no podrás modificar los elementos individualmente como lo harías con una lista."
   ]
  },
  {
   "cell_type": "code",
   "execution_count": 16,
   "metadata": {},
   "outputs": [],
   "source": [
    "lista_colores = [\"rojo\", \"verde\", \"azul\"]\n",
    "tupla_colores = tuple(lista_colores)\n",
    "# tupla_colores[1] = \"amarillo\"  # Generará un error, las tuplas son inmutables"
   ]
  },
  {
   "cell_type": "markdown",
   "metadata": {},
   "source": [
    "**3. Uso en Búsquedas y Algoritmos:**\n",
    "\n",
    "Las tuplas son útiles cuando deseas garantizar que los datos no cambien accidentalmente. Puedes utilizar tuplas para crear estructuras de datos que no deberían modificarse durante la ejecución del programa."
   ]
  },
  {
   "cell_type": "code",
   "execution_count": 17,
   "metadata": {},
   "outputs": [],
   "source": [
    "puntos = [(1, 2), (3, 4), (5, 6)]\n",
    "busqueda = (3, 4) in puntos"
   ]
  },
  {
   "cell_type": "markdown",
   "metadata": {},
   "source": [
    "**4. Conversión de una Tupla a una Lista:**\n",
    "\n",
    "De manera similar, también puedes convertir una tupla en una lista utilizando la función `list()`."
   ]
  },
  {
   "cell_type": "code",
   "execution_count": 18,
   "metadata": {},
   "outputs": [
    {
     "name": "stdout",
     "output_type": "stream",
     "text": [
      "['a', 'b', 'c']\n"
     ]
    }
   ],
   "source": [
    "tupla_letras = (\"a\", \"b\", \"c\")\n",
    "lista_letras = list(tupla_letras)\n",
    "print(lista_letras)  # Salida: [\"a\", \"b\", \"c\"]"
   ]
  },
  {
   "cell_type": "markdown",
   "metadata": {},
   "source": [
    "**Resumen:**\n",
    "\n",
    "La conversión de listas a tuplas en Python es un proceso sencillo que te permite convertir estructuras de datos modificables en estructuras inmutables. Utiliza la función `tuple()` para realizar esta conversión. Las tuplas son útiles cuando deseas garantizar que los datos no cambien accidentalmente y cuando necesitas crear estructuras de datos que no deberían modificarse durante la ejecución del programa. Recuerda que, una vez que los datos están en una tupla, no podrás modificarlos individualmente como lo harías con una lista."
   ]
  },
  {
   "cell_type": "markdown",
   "metadata": {},
   "source": [
    "## **Conversión de listas o tuplas a conjuntos**"
   ]
  },
  {
   "cell_type": "markdown",
   "metadata": {},
   "source": [
    "**Conversión de Listas o Tuplas a Conjuntos en Python: Explicación Detallada con Ejemplos**\n",
    "\n",
    "En Python, puedes convertir listas o tuplas en conjuntos utilizando funciones incorporadas. Esta conversión puede ser útil cuando deseas eliminar duplicados y garantizar que los elementos sean únicos en una colección. Aquí tienes una explicación detallada de cómo convertir listas o tuplas a conjuntos en Python, junto con ejemplos:\n",
    "\n",
    "**1. Utilizando la Función `set()`:**\n",
    "\n",
    "La forma más común de convertir listas o tuplas en conjuntos es utilizando la función `set()`."
   ]
  },
  {
   "cell_type": "code",
   "execution_count": 19,
   "metadata": {},
   "outputs": [
    {
     "name": "stdout",
     "output_type": "stream",
     "text": [
      "{1, 2, 3, 4, 5}\n"
     ]
    }
   ],
   "source": [
    "lista_numeros = [1, 2, 2, 3, 3, 4, 5]\n",
    "conjunto_numeros = set(lista_numeros)\n",
    "print(conjunto_numeros)  # Salida: {1, 2, 3, 4, 5}"
   ]
  },
  {
   "cell_type": "code",
   "execution_count": 20,
   "metadata": {},
   "outputs": [
    {
     "name": "stdout",
     "output_type": "stream",
     "text": [
      "{'verde', 'rojo', 'azul'}\n"
     ]
    }
   ],
   "source": [
    "tupla_colores = (\"rojo\", \"verde\", \"verde\", \"azul\")\n",
    "conjunto_colores = set(tupla_colores)\n",
    "print(conjunto_colores)  # Salida: {\"rojo\", \"verde\", \"azul\"}"
   ]
  },
  {
   "cell_type": "markdown",
   "metadata": {},
   "source": [
    "**2. Eliminación de Duplicados:**\n",
    "\n",
    "Una de las principales ventajas de convertir listas o tuplas en conjuntos es la eliminación automática de elementos duplicados. Los conjuntos solo almacenan elementos únicos.\n",
    "\n",
    "**3. Búsqueda Eficiente:**\n",
    "\n",
    "Los conjuntos en Python tienen una búsqueda eficiente. Si necesitas verificar la existencia de un elemento en una colección, los conjuntos son útiles debido a su rápida búsqueda.\n",
    "\n",
    "**4. Conversión de Conjuntos a Listas o Tuplas:**\n",
    "\n",
    "También puedes convertir conjuntos en listas o tuplas utilizando las funciones `list()` o `tuple()`."
   ]
  },
  {
   "cell_type": "code",
   "execution_count": 21,
   "metadata": {},
   "outputs": [],
   "source": [
    "conjunto_letras = {\"a\", \"b\", \"c\"}\n",
    "lista_letras = list(conjunto_letras)\n",
    "tupla_letras = tuple(conjunto_letras)"
   ]
  },
  {
   "cell_type": "markdown",
   "metadata": {},
   "source": [
    "**5. Ordenamiento de Elementos:**\n",
    "\n",
    "Es importante recordar que los conjuntos no garantizan un orden específico de los elementos. Si necesitas mantener el orden original de los elementos, debes usar listas o tuplas en su lugar.\n",
    "\n",
    "**Resumen:**\n",
    "\n",
    "La conversión de listas o tuplas a conjuntos en Python es un proceso sencillo que te permite eliminar duplicados y garantizar que los elementos sean únicos en una colección. Utiliza la función `set()` para realizar esta conversión. Los conjuntos son útiles cuando necesitas verificar la existencia de elementos y realizar operaciones de conjunto eficientes, como búsqueda y eliminación de duplicados. Ten en cuenta que los conjuntos no mantienen un orden específico, por lo que si el orden es importante, es mejor usar listas o tuplas."
   ]
  },
  {
   "cell_type": "markdown",
   "metadata": {},
   "source": [
    "## **Diferencias entre tuplas, conjuntos y conjuntos**"
   ]
  },
  {
   "cell_type": "markdown",
   "metadata": {},
   "source": [
    "**Diferencias entre Tuplas, Listas y Conjuntos en Python: Explicación Detallada con Ejemplos**\n",
    "\n",
    "En Python, las tuplas, las listas y los conjuntos son tres tipos diferentes de estructuras de datos que se utilizan para almacenar colecciones de elementos. Cada uno tiene características únicas que los hacen adecuados para diferentes situaciones. Aquí tienes una explicación detallada de las diferencias entre tuplas, listas y conjuntos, junto con ejemplos:\n",
    "\n",
    "**1. Tuplas:**\n",
    "\n",
    "- **Inmutabilidad:** Las tuplas son inmutables, lo que significa que no puedes modificar sus elementos después de crearlas.\n",
    "\n",
    "- **Sintaxis:** Se crean utilizando paréntesis `()` y los elementos se separan por comas.\n",
    "\n",
    "- **Ejemplo:**"
   ]
  },
  {
   "cell_type": "code",
   "execution_count": 22,
   "metadata": {},
   "outputs": [],
   "source": [
    "tupla_colores = (\"rojo\", \"verde\", \"azul\")"
   ]
  },
  {
   "cell_type": "markdown",
   "metadata": {},
   "source": [
    "**2. Listas:**\n",
    "\n",
    "- **Mutabilidad:** Las listas son mutables, lo que significa que puedes modificar, agregar y eliminar elementos.\n",
    "\n",
    "- **Sintaxis:** Se crean utilizando corchetes `[]` y los elementos se separan por comas.\n",
    "\n",
    "- **Ejemplo:**"
   ]
  },
  {
   "cell_type": "code",
   "execution_count": 23,
   "metadata": {},
   "outputs": [],
   "source": [
    "lista_numeros = [1, 2, 3, 4, 5]"
   ]
  },
  {
   "cell_type": "markdown",
   "metadata": {},
   "source": [
    "**3. Conjuntos:**\n",
    "\n",
    "- **Elementos Únicos:** Los conjuntos almacenan elementos únicos y eliminan automáticamente duplicados.\n",
    "\n",
    "- **No Ordenados:** Los conjuntos no mantienen un orden específico de los elementos.\n",
    "\n",
    "- **Búsqueda Eficiente:** La búsqueda de elementos en conjuntos es más eficiente que en listas y tuplas.\n",
    "\n",
    "- **Sintaxis:** Se crean utilizando llaves `{}` o la función `set()`.\n",
    "\n",
    "- **Ejemplo:**"
   ]
  },
  {
   "cell_type": "code",
   "execution_count": 24,
   "metadata": {},
   "outputs": [],
   "source": [
    "conjunto_colores = {\"rojo\", \"verde\", \"azul\"}"
   ]
  },
  {
   "cell_type": "markdown",
   "metadata": {},
   "source": [
    "**Comparación de Uso:**\n",
    "\n",
    "- Utiliza **tuplas** cuando necesitas almacenar elementos inmutables en un orden específico, como coordenadas o datos que no cambiarán.\n",
    "\n",
    "- Utiliza **listas** cuando necesitas almacenar elementos modificables en un orden específico y deseas realizar operaciones de lista, como agregar o eliminar elementos.\n",
    "\n",
    "- Utiliza **conjuntos** cuando necesitas almacenar elementos únicos, deseas eliminar duplicados y realizar búsquedas eficientes.\n",
    "\n",
    "**Ejemplo de Diferencias:**"
   ]
  },
  {
   "cell_type": "code",
   "execution_count": 25,
   "metadata": {},
   "outputs": [
    {
     "name": "stdout",
     "output_type": "stream",
     "text": [
      "4\n",
      "4\n",
      "3\n"
     ]
    }
   ],
   "source": [
    "colores_tupla = (\"rojo\", \"verde\", \"azul\", \"rojo\")  # Duplicados permitidos\n",
    "colores_lista = [\"rojo\", \"verde\", \"azul\", \"rojo\"]  # Duplicados permitidos\n",
    "colores_conjunto = {\"rojo\", \"verde\", \"azul\", \"rojo\"}  # Duplicados eliminados\n",
    "\n",
    "print(len(colores_tupla))  # Salida: 4\n",
    "print(len(colores_lista))  # Salida: 4\n",
    "print(len(colores_conjunto))  # Salida: 3"
   ]
  },
  {
   "cell_type": "markdown",
   "metadata": {},
   "source": [
    "**Resumen:**\n",
    "\n",
    "Las tuplas, las listas y los conjuntos son estructuras de datos en Python con características y propósitos diferentes. Las tuplas son inmutables, las listas son mutables y los conjuntos almacenan elementos únicos y son eficientes en búsquedas. La elección entre ellas depende de tus necesidades y de si deseas inmutabilidad, modificabilidad, eliminación de duplicados o eficiencia en la búsqueda."
   ]
  },
  {
   "cell_type": "markdown",
   "metadata": {},
   "source": [
    "| **Inicio** | **atrás 8** | **Siguiente 10** |\n",
    "|----------- |-------------- |---------------|\n",
    "| [🏠](../../README.md) | [⏪](./8_Conjuntos.ipynb)| [⏩](./10_Ciclos_While_&_For.ipynb)|"
   ]
  }
 ],
 "metadata": {
  "kernelspec": {
   "display_name": "base",
   "language": "python",
   "name": "python3"
  },
  "language_info": {
   "codemirror_mode": {
    "name": "ipython",
    "version": 3
   },
   "file_extension": ".py",
   "mimetype": "text/x-python",
   "name": "python",
   "nbconvert_exporter": "python",
   "pygments_lexer": "ipython3",
   "version": "3.9.12"
  },
  "orig_nbformat": 4
 },
 "nbformat": 4,
 "nbformat_minor": 2
}
