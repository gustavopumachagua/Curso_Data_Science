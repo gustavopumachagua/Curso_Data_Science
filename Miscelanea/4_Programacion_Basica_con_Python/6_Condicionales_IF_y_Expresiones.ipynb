{
 "cells": [
  {
   "cell_type": "markdown",
   "metadata": {},
   "source": [
    "| **Inicio** | **atrás 5** | **Siguiente 7** |\n",
    "|----------- |-------------- |---------------|\n",
    "| [🏠](../../README.md) | [⏪](./5_Variables_y_Tipos_de_Datos.ipynb)| [⏩](./7_Listas.ipynb)|"
   ]
  },
  {
   "cell_type": "markdown",
   "metadata": {},
   "source": [
    "# **6. Fundamentos de la Programación con Python: Condicionales IF y Expresiones y Operadores Booleanos**"
   ]
  },
  {
   "cell_type": "markdown",
   "metadata": {},
   "source": [
    "## **Introducción a la estructura condicional IF**"
   ]
  },
  {
   "cell_type": "markdown",
   "metadata": {},
   "source": [
    "**Fundamentos de la Programación con Python: Condicionales IF y Expresiones y Operadores Booleanos**\n",
    "\n",
    "Los condicionales `if` y los operadores booleanos son fundamentales en la programación ya que permiten controlar el flujo de ejecución de un programa en función de ciertas condiciones. Aquí tienes una explicación detallada junto con ejemplos de cómo funcionan los condicionales `if` y cómo utilizar expresiones y operadores booleanos en Python:\n",
    "\n",
    "**Condicionales `if`:**\n",
    "\n",
    "La estructura básica de un condicional `if` en Python es la siguiente:\n",
    "\n",
    "```\n",
    "if condicion:\n",
    "    # Código a ejecutar si la condición es verdadera\n",
    "else:\n",
    "    # Código a ejecutar si la condición es falsa\n",
    "```\n",
    "\n",
    "**Ejemplo:**"
   ]
  },
  {
   "cell_type": "code",
   "execution_count": 1,
   "metadata": {},
   "outputs": [
    {
     "name": "stdout",
     "output_type": "stream",
     "text": [
      "Eres mayor de edad\n"
     ]
    }
   ],
   "source": [
    "edad = 18\n",
    "\n",
    "if edad >= 18:\n",
    "    print(\"Eres mayor de edad\")\n",
    "else:\n",
    "    print(\"Eres menor de edad\")"
   ]
  },
  {
   "cell_type": "markdown",
   "metadata": {},
   "source": [
    "**Operadores Booleanos:**\n",
    "\n",
    "Los operadores booleanos son utilizados para evaluar expresiones y devolver valores booleanos (`True` o `False`). Algunos operadores booleanos comunes son:\n",
    "\n",
    "- Igual (`==`)\n",
    "- No igual (`!=`)\n",
    "- Mayor que (`>`)\n",
    "- Menor que (`<`)\n",
    "- Mayor o igual que (`>=`)\n",
    "- Menor o igual que (`<=`)\n",
    "- Y (`and`)\n",
    "- O (`or`)\n",
    "- No (`not`)\n",
    "\n",
    "**Ejemplos:**"
   ]
  },
  {
   "cell_type": "code",
   "execution_count": 2,
   "metadata": {},
   "outputs": [],
   "source": [
    "x = 5\n",
    "y = 10\n",
    "\n",
    "igual = x == y  # Falso\n",
    "no_igual = x != y  # Verdadero\n",
    "mayor_que = x > y  # Falso\n",
    "menor_que = x < y  # Verdadero\n",
    "mayor_o_igual = x >= y  # Falso\n",
    "menor_o_igual = x <= y  # Verdadero\n",
    "\n",
    "a = True\n",
    "b = False\n",
    "\n",
    "y = a and b  # Falso\n",
    "o = a or b   # Verdadero\n",
    "no_a = not a  # Falso"
   ]
  },
  {
   "cell_type": "markdown",
   "metadata": {},
   "source": [
    "**Operadores de Comparación Encadenados:**\n",
    "\n",
    "Puedes encadenar operadores de comparación para evaluar múltiples condiciones en una expresión."
   ]
  },
  {
   "cell_type": "code",
   "execution_count": 3,
   "metadata": {},
   "outputs": [
    {
     "name": "stdout",
     "output_type": "stream",
     "text": [
      "El número está entre 10 y 20\n"
     ]
    }
   ],
   "source": [
    "numero = 15\n",
    "\n",
    "if 10 < numero < 20:\n",
    "    print(\"El número está entre 10 y 20\")"
   ]
  },
  {
   "cell_type": "markdown",
   "metadata": {},
   "source": [
    "**Expresiones Ternarias:**\n",
    "\n",
    "Python permite expresiones ternarias que son una forma concisa de escribir condicionales `if` en una sola línea."
   ]
  },
  {
   "cell_type": "code",
   "execution_count": 4,
   "metadata": {},
   "outputs": [
    {
     "name": "stdout",
     "output_type": "stream",
     "text": [
      "Mayor de edad\n"
     ]
    }
   ],
   "source": [
    "edad = 18\n",
    "estatus = \"Mayor de edad\" if edad >= 18 else \"Menor de edad\"\n",
    "print(estatus)"
   ]
  },
  {
   "cell_type": "markdown",
   "metadata": {},
   "source": [
    "**Resumen:**\n",
    "\n",
    "Los condicionales `if` y los operadores booleanos son fundamentales para tomar decisiones en la programación. Permiten que tu programa ejecute diferentes bloques de código según las condiciones definidas. Los operadores booleanos son utilizados para evaluar expresiones y devolver valores booleanos. Comprender cómo funcionan los condicionales y los operadores booleanos es esencial para crear programas que puedan reaccionar de manera adecuada según las diferentes situaciones."
   ]
  },
  {
   "cell_type": "markdown",
   "metadata": {},
   "source": [
    "## **Contexto del ejemplo de uso del IF**"
   ]
  },
  {
   "cell_type": "markdown",
   "metadata": {},
   "source": [
    "**Ejemplo de Uso del Condicional `if` en Python: Explicación Detallada**\n",
    "\n",
    "Supongamos que estamos construyendo un programa para verificar si un usuario tiene acceso a ciertos recursos en un sistema. Utilizaremos un condicional `if` para determinar si el usuario tiene la edad suficiente para acceder al contenido restringido. Aquí tienes una explicación detallada del ejemplo:\n",
    "\n",
    "**Escenario:**\n",
    "\n",
    "Vamos a construir un programa simple que preguntará al usuario su edad y luego verificará si es mayor o igual a 18 años. Si la edad cumple con este requisito, el programa le otorgará acceso a contenido restringido; de lo contrario, mostrará un mensaje de que el usuario no tiene acceso.\n",
    "\n",
    "**Código del Ejemplo:**"
   ]
  },
  {
   "cell_type": "code",
   "execution_count": 5,
   "metadata": {},
   "outputs": [
    {
     "name": "stdout",
     "output_type": "stream",
     "text": [
      "¡Bienvenido! Tienes acceso al contenido restringido.\n"
     ]
    }
   ],
   "source": [
    "# Solicitar la edad del usuario\n",
    "edad_str = input(\"Por favor, ingresa tu edad: \")\n",
    "edad = int(edad_str)  # Convertir la entrada a un número entero\n",
    "\n",
    "# Verificar si el usuario tiene acceso\n",
    "if edad >= 18:\n",
    "    print(\"¡Bienvenido! Tienes acceso al contenido restringido.\")\n",
    "else:\n",
    "    print(\"Lo siento, no tienes acceso al contenido restringido.\")"
   ]
  },
  {
   "cell_type": "markdown",
   "metadata": {},
   "source": [
    "**Explicación:**\n",
    "\n",
    "1. El programa comienza solicitando al usuario su edad utilizando la función `input()`. La entrada del usuario se almacena en la variable `edad_str`.\n",
    "\n",
    "2. Luego, convertimos la entrada a un número entero utilizando la función `int()` y almacenamos el resultado en la variable `edad`.\n",
    "\n",
    "3. Después, utilizamos un condicional `if` para verificar si la edad es mayor o igual a 18. Si la condición se cumple (`True`), el programa ejecuta el bloque de código indentado debajo del `if`. En este caso, muestra un mensaje de bienvenida y le otorga acceso al contenido restringido.\n",
    "\n",
    "4. Si la condición no se cumple (`False`), el programa ejecuta el bloque de código indentado debajo del `else`. En este caso, muestra un mensaje que indica que el usuario no tiene acceso al contenido restringido.\n",
    "\n",
    "**Ejecución del Ejemplo:**\n",
    "\n",
    "- Si el usuario ingresa una edad mayor o igual a 18:\n",
    "  ```\n",
    "  Por favor, ingresa tu edad: 25\n",
    "  ¡Bienvenido! Tienes acceso al contenido restringido.\n",
    "  ```\n",
    "\n",
    "- Si el usuario ingresa una edad menor a 18:\n",
    "  ```\n",
    "  Por favor, ingresa tu edad: 15\n",
    "  Lo siento, no tienes acceso al contenido restringido.\n",
    "  ```\n",
    "\n",
    "**Resumen:**\n",
    "\n",
    "Este ejemplo ilustra cómo utilizar un condicional `if` para tomar decisiones en un programa Python. Dependiendo de la condición evaluada, el programa realiza diferentes acciones. Los condicionales son útiles cuando necesitas que tu programa reaccione de manera diferente según las circunstancias, como en este caso donde verificamos si un usuario tiene acceso basado en su edad."
   ]
  },
  {
   "cell_type": "markdown",
   "metadata": {},
   "source": [
    "## **Operador booleano \"and\" o \"y”**"
   ]
  },
  {
   "cell_type": "markdown",
   "metadata": {},
   "source": [
    "**Operador Booleano \"and\" (Y) en Python: Explicación Detallada con Ejemplos**\n",
    "\n",
    "El operador booleano \"and\" (también conocido como \"y\") es uno de los operadores lógicos en Python. Se utiliza para combinar dos expresiones booleanas y devuelve `True` si ambas expresiones son verdaderas. En caso contrario, devuelve `False`. Aquí tienes una explicación detallada del operador \"and\" con ejemplos:\n",
    "\n",
    "**Sintaxis:**\n",
    "\n",
    "```\n",
    "expresion1 and expresion2\n",
    "```\n",
    "\n",
    "**Funcionamiento:**\n",
    "\n",
    "El operador \"and\" evalúa dos expresiones booleanas. Si ambas expresiones son verdaderas, el resultado es `True`. Si al menos una de las expresiones es falsa, el resultado es `False`.\n",
    "\n",
    "**Ejemplos:**"
   ]
  },
  {
   "cell_type": "code",
   "execution_count": 6,
   "metadata": {},
   "outputs": [
    {
     "name": "stdout",
     "output_type": "stream",
     "text": [
      "True\n",
      "True\n",
      "True\n",
      "False\n"
     ]
    }
   ],
   "source": [
    "# Ejemplo 1\n",
    "a = True\n",
    "b = True\n",
    "resultado = a and b\n",
    "print(resultado)  # Salida: True\n",
    "\n",
    "# Ejemplo 2\n",
    "x = 5\n",
    "resultado = (x > 3) and (x < 10)\n",
    "print(resultado)  # Salida: True\n",
    "\n",
    "# Ejemplo 3\n",
    "edad = 25\n",
    "es_mayor_de_edad = edad >= 18\n",
    "tiene_permiso = True\n",
    "puede_entrar = es_mayor_de_edad and tiene_permiso\n",
    "print(puede_entrar)  # Salida: True\n",
    "\n",
    "# Ejemplo 4\n",
    "tiene_licencia = False\n",
    "tiene_auto = True\n",
    "puede_conducir = tiene_licencia and tiene_auto\n",
    "print(puede_conducir)  # Salida: False"
   ]
  },
  {
   "cell_type": "markdown",
   "metadata": {},
   "source": [
    "**Explicación:**\n",
    "\n",
    "1. En el primer ejemplo, ambas expresiones `a` y `b` son verdaderas (`True`), por lo que el resultado de `a and b` es `True`.\n",
    "\n",
    "2. En el segundo ejemplo, la expresión `(x > 3)` es verdadera y `(x < 10)` también es verdadera. Por lo tanto, el resultado de `(x > 3) and (x < 10)` es `True`.\n",
    "\n",
    "3. En el tercer ejemplo, `es_mayor_de_edad` es verdadero (`True`) y `tiene_permiso` también es verdadero (`True`). Como ambas expresiones son verdaderas, `puede_entrar` es `True`.\n",
    "\n",
    "4. En el cuarto ejemplo, `tiene_licencia` es falso (`False`), y aunque `tiene_auto` es verdadero (`True`), la expresión `(tiene_licencia and tiene_auto)` es `False`, ya que al menos una de las expresiones es falsa.\n",
    "\n",
    "**Uso Común:**\n",
    "\n",
    "El operador \"and\" se utiliza comúnmente en expresiones condicionales para verificar múltiples condiciones antes de tomar una decisión."
   ]
  },
  {
   "cell_type": "code",
   "execution_count": 7,
   "metadata": {},
   "outputs": [
    {
     "name": "stdout",
     "output_type": "stream",
     "text": [
      "Condiciones ideales\n"
     ]
    }
   ],
   "source": [
    "temperatura = 25\n",
    "humedad = 60\n",
    "\n",
    "if temperatura > 20 and humedad < 70:\n",
    "    print(\"Condiciones ideales\")\n",
    "else:\n",
    "    print(\"Condiciones no ideales\")"
   ]
  },
  {
   "cell_type": "markdown",
   "metadata": {},
   "source": [
    "**Resumen:**\n",
    "\n",
    "El operador \"and\" en Python se utiliza para combinar dos expresiones booleanas y devuelve `True` si ambas expresiones son verdaderas. Es útil para realizar comprobaciones que requieren que varias condiciones sean verdaderas al mismo tiempo. En caso contrario, el resultado será `False`."
   ]
  },
  {
   "cell_type": "markdown",
   "metadata": {},
   "source": [
    "## **Operador booleano \"or\" o \"o”**"
   ]
  },
  {
   "cell_type": "markdown",
   "metadata": {},
   "source": [
    "**Operador Booleano \"or\" (O) en Python: Explicación Detallada con Ejemplos**\n",
    "\n",
    "El operador booleano \"or\" (también conocido como \"o\") es otro de los operadores lógicos en Python. Se utiliza para combinar dos expresiones booleanas y devuelve `True` si al menos una de las expresiones es verdadera. Devuelve `False` solo si ambas expresiones son falsas. Aquí tienes una explicación detallada del operador \"or\" con ejemplos:\n",
    "\n",
    "**Sintaxis:**\n",
    "\n",
    "```\n",
    "expresion1 or expresion2\n",
    "```\n",
    "\n",
    "**Funcionamiento:**\n",
    "\n",
    "El operador \"or\" evalúa dos expresiones booleanas. Si al menos una de las expresiones es verdadera, el resultado es `True`. Solo si ambas expresiones son falsas, el resultado es `False`.\n",
    "\n",
    "**Ejemplos:**"
   ]
  },
  {
   "cell_type": "code",
   "execution_count": 8,
   "metadata": {},
   "outputs": [
    {
     "name": "stdout",
     "output_type": "stream",
     "text": [
      "True\n",
      "True\n",
      "True\n",
      "True\n"
     ]
    }
   ],
   "source": [
    "# Ejemplo 1\n",
    "a = True\n",
    "b = False\n",
    "resultado = a or b\n",
    "print(resultado)  # Salida: True\n",
    "\n",
    "# Ejemplo 2\n",
    "x = 5\n",
    "resultado = (x > 3) or (x < 4)\n",
    "print(resultado)  # Salida: True\n",
    "\n",
    "# Ejemplo 3\n",
    "tiene_licencia = True\n",
    "tiene_auto = False\n",
    "puede_conducir = tiene_licencia or tiene_auto\n",
    "print(puede_conducir)  # Salida: True\n",
    "\n",
    "# Ejemplo 4\n",
    "es_verano = False\n",
    "esta_lloviendo = True\n",
    "puede_ir_a_playa = es_verano or esta_lloviendo\n",
    "print(puede_ir_a_playa)  # Salida: True"
   ]
  },
  {
   "cell_type": "markdown",
   "metadata": {},
   "source": [
    "**Explicación:**\n",
    "\n",
    "1. En el primer ejemplo, al menos una de las expresiones `a` y `b` es verdadera (`True`), por lo que el resultado de `a or b` es `True`.\n",
    "\n",
    "2. En el segundo ejemplo, aunque la expresión `(x > 3)` es verdadera, la expresión `(x < 4)` es falsa. Como al menos una de las expresiones es verdadera, el resultado de `(x > 3) or (x < 4)` es `True`.\n",
    "\n",
    "3. En el tercer ejemplo, `tiene_licencia` es verdadero (`True`), y aunque `tiene_auto` es falso (`False`), la expresión `(tiene_licencia or tiene_auto)` es `True`, ya que al menos una de las expresiones es verdadera.\n",
    "\n",
    "4. En el cuarto ejemplo, ninguna de las expresiones `es_verano` y `esta_lloviendo` es verdadera (`True`), pero el resultado de `es_verano or esta_lloviendo` es `True`, ya que al menos una de las expresiones es verdadera.\n",
    "\n",
    "**Uso Común:**\n",
    "\n",
    "El operador \"or\" se utiliza en expresiones condicionales para verificar si al menos una de varias condiciones es verdadera."
   ]
  },
  {
   "cell_type": "code",
   "execution_count": 9,
   "metadata": {},
   "outputs": [
    {
     "name": "stdout",
     "output_type": "stream",
     "text": [
      "Puede ingresar al concierto\n"
     ]
    }
   ],
   "source": [
    "edad = 15\n",
    "tiene_permiso = True\n",
    "\n",
    "if edad >= 18 or tiene_permiso:\n",
    "    print(\"Puede ingresar al concierto\")\n",
    "else:\n",
    "    print(\"No tiene acceso al concierto\")"
   ]
  },
  {
   "cell_type": "markdown",
   "metadata": {},
   "source": [
    "**Resumen:**\n",
    "\n",
    "El operador \"or\" en Python se utiliza para combinar dos expresiones booleanas y devuelve `True` si al menos una de las expresiones es verdadera. Es útil para realizar comprobaciones donde solo se necesita que una de las condiciones sea verdadera para que la expresión completa sea verdadera. Si ambas expresiones son falsas, el resultado será `False`."
   ]
  },
  {
   "cell_type": "markdown",
   "metadata": {},
   "source": [
    "## **Operador booleano \"not”**"
   ]
  },
  {
   "cell_type": "markdown",
   "metadata": {},
   "source": [
    "**Operador Booleano \"not\" en Python: Explicación Detallada con Ejemplos**\n",
    "\n",
    "El operador booleano \"not\" es otro de los operadores lógicos en Python. Se utiliza para invertir el valor de una expresión booleana, es decir, si la expresión es verdadera, el resultado será `False`, y si la expresión es falsa, el resultado será `True`. Aquí tienes una explicación detallada del operador \"not\" con ejemplos:\n",
    "\n",
    "**Sintaxis:**\n",
    "\n",
    "```\n",
    "not expresion\n",
    "```\n",
    "\n",
    "**Funcionamiento:**\n",
    "\n",
    "El operador \"not\" se aplica a una sola expresión booleana. Si la expresión es verdadera, el resultado es `False`. Si la expresión es falsa, el resultado es `True`.\n",
    "\n",
    "**Ejemplos:**"
   ]
  },
  {
   "cell_type": "code",
   "execution_count": 10,
   "metadata": {},
   "outputs": [
    {
     "name": "stdout",
     "output_type": "stream",
     "text": [
      "False\n",
      "False\n",
      "False\n",
      "True\n"
     ]
    }
   ],
   "source": [
    "# Ejemplo 1\n",
    "a = True\n",
    "resultado = not a\n",
    "print(resultado)  # Salida: False\n",
    "\n",
    "# Ejemplo 2\n",
    "x = 5\n",
    "resultado = not (x > 3)\n",
    "print(resultado)  # Salida: False\n",
    "\n",
    "# Ejemplo 3\n",
    "es_verano = True\n",
    "puede_ir_a_playa = not es_verano\n",
    "print(puede_ir_a_playa)  # Salida: False\n",
    "\n",
    "# Ejemplo 4\n",
    "tiene_permiso = False\n",
    "puede_ingresar = not tiene_permiso\n",
    "print(puede_ingresar)  # Salida: True"
   ]
  },
  {
   "cell_type": "markdown",
   "metadata": {},
   "source": [
    "**Explicación:**\n",
    "\n",
    "1. En el primer ejemplo, la expresión `a` es verdadera (`True`), pero al aplicar el operador \"not\", el resultado de `not a` es `False`.\n",
    "\n",
    "2. En el segundo ejemplo, la expresión `(x > 3)` es verdadera, pero al aplicar el operador \"not\", el resultado de `not (x > 3)` es `False`.\n",
    "\n",
    "3. En el tercer ejemplo, `es_verano` es verdadero (`True`), pero al aplicar el operador \"not\", el resultado de `not es_verano` es `False`.\n",
    "\n",
    "4. En el cuarto ejemplo, `tiene_permiso` es falso (`False`), y al aplicar el operador \"not\", el resultado de `not tiene_permiso` es `True`.\n",
    "\n",
    "**Uso Común:**\n",
    "\n",
    "El operador \"not\" se utiliza para negar una expresión booleana y cambiar su valor. Es útil cuando necesitas verificar si una condición no es verdadera."
   ]
  },
  {
   "cell_type": "code",
   "execution_count": 11,
   "metadata": {},
   "outputs": [
    {
     "name": "stdout",
     "output_type": "stream",
     "text": [
      "No es jueves\n"
     ]
    }
   ],
   "source": [
    "es_jueves = False\n",
    "\n",
    "if not es_jueves:\n",
    "    print(\"No es jueves\")\n",
    "else:\n",
    "    print(\"Es jueves\")"
   ]
  },
  {
   "cell_type": "markdown",
   "metadata": {},
   "source": [
    "**Resumen:**\n",
    "\n",
    "El operador booleano \"not\" en Python se utiliza para invertir el valor de una expresión booleana. Si la expresión es verdadera, se convierte en `False`, y si la expresión es falsa, se convierte en `True`. El operador \"not\" es útil para cambiar el sentido de una condición en expresiones condicionales y lógicas."
   ]
  },
  {
   "cell_type": "markdown",
   "metadata": {},
   "source": [
    "| **Inicio** | **atrás 5** | **Siguiente 7** |\n",
    "|----------- |-------------- |---------------|\n",
    "| [🏠](../../README.md) | [⏪](./5_Variables_y_Tipos_de_Datos.ipynb)| [⏩](./7_Listas.ipynb)|"
   ]
  }
 ],
 "metadata": {
  "kernelspec": {
   "display_name": "base",
   "language": "python",
   "name": "python3"
  },
  "language_info": {
   "codemirror_mode": {
    "name": "ipython",
    "version": 3
   },
   "file_extension": ".py",
   "mimetype": "text/x-python",
   "name": "python",
   "nbconvert_exporter": "python",
   "pygments_lexer": "ipython3",
   "version": "3.9.12"
  },
  "orig_nbformat": 4
 },
 "nbformat": 4,
 "nbformat_minor": 2
}
