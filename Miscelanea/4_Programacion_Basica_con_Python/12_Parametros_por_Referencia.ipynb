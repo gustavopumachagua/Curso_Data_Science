{
 "cells": [
  {
   "cell_type": "markdown",
   "metadata": {},
   "source": [
    "| **Inicio** | **atrás 11** | **Siguiente 13** |\n",
    "|----------- |-------------- |---------------|\n",
    "| [🏠](../../README.md) | [⏪](./11_Funciones_en_Python.ipynb)| [⏩](./13_Scope.ipynb)|"
   ]
  },
  {
   "cell_type": "markdown",
   "metadata": {},
   "source": [
    "# **12. Qué son y qué diferencias hay entre los Parámetros por Referencia y Valor en Funciones de Python**"
   ]
  },
  {
   "cell_type": "markdown",
   "metadata": {},
   "source": [
    "## **Introducción al tipo de paso de parámetros**"
   ]
  },
  {
   "cell_type": "markdown",
   "metadata": {},
   "source": [
    "**Parámetros por Referencia y Valor en Funciones de Python: Explicación Detallada con Ejemplos**\n",
    "\n",
    "En Python, cuando pasas argumentos a una función, estos pueden ser pasados por referencia o por valor. Estos dos enfoques tienen diferencias clave en cómo se manejan los datos y cómo se afectan dentro y fuera de la función. A continuación, te proporciono una explicación detallada sobre los parámetros por referencia y por valor, junto con ejemplos para ilustrar las diferencias:\n",
    "\n",
    "**Parámetros por Valor:**\n",
    "\n",
    "Cuando pasas un argumento a una función por valor, se crea una copia independiente del valor en la memoria. Esto significa que cualquier cambio realizado dentro de la función no afectará al valor original fuera de la función.\n",
    "\n",
    "**Ejemplo de Parámetros por Valor:**"
   ]
  },
  {
   "cell_type": "code",
   "execution_count": 1,
   "metadata": {},
   "outputs": [
    {
     "name": "stdout",
     "output_type": "stream",
     "text": [
      "10\n"
     ]
    }
   ],
   "source": [
    "def modificar_valor(valor):\n",
    "    valor = valor * 2\n",
    "\n",
    "numero = 10\n",
    "modificar_valor(numero)\n",
    "print(numero)  # Salida: 10"
   ]
  },
  {
   "cell_type": "markdown",
   "metadata": {},
   "source": [
    "En este ejemplo, pasamos el valor `10` a la función `modificar_valor`. Dentro de la función, multiplicamos el valor por `2`. Sin embargo, este cambio no afecta a la variable `numero` fuera de la función, ya que se pasó por valor.\n",
    "\n",
    "**Parámetros por Referencia:**\n",
    "\n",
    "Cuando pasas un argumento a una función por referencia, estás pasando una referencia a la ubicación de memoria donde se almacena el valor. Esto significa que cualquier cambio realizado dentro de la función afectará al valor original fuera de la función.\n",
    "\n",
    "**Ejemplo de Parámetros por Referencia:**"
   ]
  },
  {
   "cell_type": "code",
   "execution_count": 2,
   "metadata": {},
   "outputs": [
    {
     "name": "stdout",
     "output_type": "stream",
     "text": [
      "[1, 2, 3, 4]\n"
     ]
    }
   ],
   "source": [
    "def modificar_lista(lista):\n",
    "    lista.append(4)\n",
    "\n",
    "mi_lista = [1, 2, 3]\n",
    "modificar_lista(mi_lista)\n",
    "print(mi_lista)  # Salida: [1, 2, 3, 4]"
   ]
  },
  {
   "cell_type": "markdown",
   "metadata": {},
   "source": [
    "En este ejemplo, pasamos una lista a la función `modificar_lista`. Dentro de la función, añadimos el valor `4` a la lista. Debido a que se pasó la lista por referencia, el cambio se refleja en la variable `mi_lista` fuera de la función.\n",
    "\n",
    "**Diferencias Clave:**\n",
    "\n",
    "- **Parámetros por Valor:** Se crea una copia independiente del valor dentro de la función. Los cambios dentro de la función no afectan al valor original fuera de ella.\n",
    "\n",
    "- **Parámetros por Referencia:** Se pasa una referencia a la ubicación de memoria donde se almacena el valor. Los cambios dentro de la función afectan al valor original fuera de ella.\n",
    "\n",
    "**Resumen:**\n",
    "\n",
    "Las diferencias entre los parámetros por valor y por referencia en Python radican en cómo se manejan y afectan los datos dentro y fuera de las funciones. Los parámetros por valor crean copias independientes de los valores, mientras que los parámetros por referencia pasan referencias a las ubicaciones de memoria. Es fundamental entender estas diferencias para evitar comportamientos inesperados al trabajar con funciones en Python."
   ]
  },
  {
   "cell_type": "markdown",
   "metadata": {},
   "source": [
    "## **Ejemplo práctico de los dos tipos de paso de parámetros**"
   ]
  },
  {
   "cell_type": "markdown",
   "metadata": {},
   "source": [
    "**Ejemplo Práctico de Parámetros por Valor y por Referencia en Python: Explicación Detallada**\n",
    "\n",
    "En este ejemplo, vamos a crear una función que modifica una lista y un entero utilizando ambos tipos de paso de parámetros: por valor y por referencia. Esto nos ayudará a comprender las diferencias entre los dos enfoques. A continuación, te proporciono una explicación detallada junto con el código de ejemplo:\n",
    "\n",
    "**Paso 1: Definir la Función para Modificar una Lista y un Entero:**\n",
    "\n",
    "Primero, definiremos una función llamada `modificar_datos` que tomará dos parámetros: una lista y un entero. Dentro de la función, modificaremos la lista añadiendo un elemento y multiplicaremos el entero por 2."
   ]
  },
  {
   "cell_type": "code",
   "execution_count": 3,
   "metadata": {},
   "outputs": [],
   "source": [
    "def modificar_datos(lista, entero):\n",
    "    lista.append(4)\n",
    "    entero = entero * 2"
   ]
  },
  {
   "cell_type": "markdown",
   "metadata": {},
   "source": [
    "**Paso 2: Crear una Lista y un Entero:**\n",
    "\n",
    "A continuación, crearemos una lista llamada `mi_lista` con algunos elementos y un entero llamado `mi_entero` con un valor específico."
   ]
  },
  {
   "cell_type": "code",
   "execution_count": 4,
   "metadata": {},
   "outputs": [],
   "source": [
    "mi_lista = [1, 2, 3]\n",
    "mi_entero = 5"
   ]
  },
  {
   "cell_type": "markdown",
   "metadata": {},
   "source": [
    "**Paso 3: Llamar a la Función con Ambos Tipos de Parámetros:**\n",
    "\n",
    "Llamaremos a la función `modificar_datos` dos veces: una vez pasando la lista y el entero por valor y otra vez pasándolos por referencia."
   ]
  },
  {
   "cell_type": "code",
   "execution_count": 5,
   "metadata": {},
   "outputs": [],
   "source": [
    "modificar_datos(mi_lista[:], mi_entero)\n",
    "modificar_datos(mi_lista, mi_entero)"
   ]
  },
  {
   "cell_type": "markdown",
   "metadata": {},
   "source": [
    "**Paso 4: Imprimir los Resultados:**\n",
    "\n",
    "Finalmente, imprimiremos los valores de `mi_lista` y `mi_entero` después de llamar a la función en ambos enfoques de parámetros."
   ]
  },
  {
   "cell_type": "code",
   "execution_count": 6,
   "metadata": {},
   "outputs": [
    {
     "name": "stdout",
     "output_type": "stream",
     "text": [
      "Lista después de paso por valor: [1, 2, 3, 4]\n",
      "Entero después de paso por valor: 5\n",
      "Lista después de paso por referencia: [1, 2, 3, 4, 4]\n",
      "Entero después de paso por referencia: 5\n"
     ]
    }
   ],
   "source": [
    "print(\"Lista después de paso por valor:\", mi_lista)   # Salida: [1, 2, 3]\n",
    "print(\"Entero después de paso por valor:\", mi_entero)  # Salida: 5\n",
    "\n",
    "modificar_datos(mi_lista, mi_entero)\n",
    "\n",
    "print(\"Lista después de paso por referencia:\", mi_lista)   # Salida: [1, 2, 3, 4]\n",
    "print(\"Entero después de paso por referencia:\", mi_entero)  # Salida: 10"
   ]
  },
  {
   "cell_type": "markdown",
   "metadata": {},
   "source": [
    "**Explicación Detallada:**\n",
    "\n",
    "En el primer llamado a la función `modificar_datos`, pasamos la lista por valor utilizando la notación de rebanada `mi_lista[:]`. Esto crea una copia de la lista que se pasa a la función, por lo que cualquier modificación dentro de la función no afectará a `mi_lista`.\n",
    "\n",
    "En el segundo llamado a la función, pasamos tanto la lista como el entero por referencia. Esto significa que las modificaciones realizadas dentro de la función afectarán a `mi_lista` y `mi_entero` fuera de la función.\n",
    "\n",
    "**Resumen:**\n",
    "\n",
    "Este ejemplo ilustra las diferencias entre los parámetros por valor y por referencia en Python. Al pasar una lista por valor, se crea una copia independiente, mientras que al pasarla por referencia, se pasa una referencia a la ubicación de memoria. Al pasar un entero, que es un tipo inmutable, no importa si es por valor o por referencia, ya que cualquier modificación dentro de la función no afectará el valor original fuera de ella. Es importante entender estos conceptos para evitar comportamientos inesperados al trabajar con funciones en Python."
   ]
  },
  {
   "cell_type": "markdown",
   "metadata": {},
   "source": [
    "| **Inicio** | **atrás 11** | **Siguiente 13** |\n",
    "|----------- |-------------- |---------------|\n",
    "| [🏠](../../README.md) | [⏪](./11_Funciones_en_Python.ipynb)| [⏩](./13_Scope.ipynb)|"
   ]
  }
 ],
 "metadata": {
  "kernelspec": {
   "display_name": "base",
   "language": "python",
   "name": "python3"
  },
  "language_info": {
   "codemirror_mode": {
    "name": "ipython",
    "version": 3
   },
   "file_extension": ".py",
   "mimetype": "text/x-python",
   "name": "python",
   "nbconvert_exporter": "python",
   "pygments_lexer": "ipython3",
   "version": "3.9.12"
  },
  "orig_nbformat": 4
 },
 "nbformat": 4,
 "nbformat_minor": 2
}
