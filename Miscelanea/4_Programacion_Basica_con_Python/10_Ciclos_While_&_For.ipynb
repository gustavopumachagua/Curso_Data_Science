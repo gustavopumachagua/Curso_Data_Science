{
 "cells": [
  {
   "cell_type": "markdown",
   "metadata": {},
   "source": [
    "| **Inicio** | **atrás 9** | **Siguiente 11** |\n",
    "|----------- |-------------- |---------------|\n",
    "| [🏠](../../README.md) | [⏪](./9_Tuplas.ipynb)| [⏩](./11_Funciones_en_Python.ipynb)|"
   ]
  },
  {
   "cell_type": "markdown",
   "metadata": {},
   "source": [
    "# **10. Ciclos While & For: Similitudes y Diferencias entre las Estructuras Cíclicas de Python**"
   ]
  },
  {
   "cell_type": "markdown",
   "metadata": {},
   "source": [
    "## **Introducción a los ciclos**"
   ]
  },
  {
   "cell_type": "markdown",
   "metadata": {},
   "source": [
    "**Ciclos While y For en Python: Similitudes y Diferencias con Ejemplos**\n",
    "\n",
    "En Python, los ciclos `while` y `for` son estructuras cíclicas que permiten ejecutar un bloque de código repetidamente. Sin embargo, tienen diferencias en su funcionamiento y casos de uso. Aquí tienes una explicación detallada de las similitudes y diferencias entre los ciclos `while` y `for`, junto con ejemplos:\n",
    "\n",
    "**Ciclo While:**\n",
    "\n",
    "El ciclo `while` se repite mientras una condición sea verdadera. Se evalúa la condición antes de cada iteración."
   ]
  },
  {
   "cell_type": "code",
   "execution_count": 1,
   "metadata": {},
   "outputs": [
    {
     "name": "stdout",
     "output_type": "stream",
     "text": [
      "Contador: 0\n",
      "Contador: 1\n",
      "Contador: 2\n",
      "Contador: 3\n",
      "Contador: 4\n"
     ]
    }
   ],
   "source": [
    "contador = 0\n",
    "while contador < 5:\n",
    "    print(\"Contador:\", contador)\n",
    "    contador += 1"
   ]
  },
  {
   "cell_type": "markdown",
   "metadata": {},
   "source": [
    "**Ciclo For:**\n",
    "\n",
    "El ciclo `for` itera sobre una secuencia (como una lista, tupla o rango) y ejecuta el bloque de código para cada elemento en la secuencia."
   ]
  },
  {
   "cell_type": "code",
   "execution_count": 2,
   "metadata": {},
   "outputs": [
    {
     "name": "stdout",
     "output_type": "stream",
     "text": [
      "Fruta: manzana\n",
      "Fruta: banana\n",
      "Fruta: naranja\n"
     ]
    }
   ],
   "source": [
    "frutas = [\"manzana\", \"banana\", \"naranja\"]\n",
    "for fruta in frutas:\n",
    "    print(\"Fruta:\", fruta)"
   ]
  },
  {
   "cell_type": "markdown",
   "metadata": {},
   "source": [
    "**Similitudes:**\n",
    "\n",
    "1. **Repetición:** Ambos ciclos permiten repetir un bloque de código varias veces.\n",
    "\n",
    "2. **Control de Flujo:** Ambos ciclos permiten controlar el flujo del programa según una condición o secuencia.\n",
    "\n",
    "**Diferencias:**\n",
    "\n",
    "1. **Condición vs. Secuencia:** El ciclo `while` se basa en una condición booleana que se evalúa antes de cada iteración. El ciclo `for` itera sobre una secuencia predefinida.\n",
    "\n",
    "2. **Predefinición de Iteraciones:** En el ciclo `for`, sabes cuántas iteraciones habrá según la longitud de la secuencia. En el ciclo `while`, las iteraciones continúan hasta que la condición sea falsa, lo que puede variar.\n",
    "\n",
    "3. **Facilidad de Uso:** El ciclo `for` suele ser más fácil de usar cuando se trata de iterar sobre secuencias, ya que la lógica de control está incorporada en la estructura del ciclo.\n",
    "\n",
    "**Ejemplo de Diferencias:**"
   ]
  },
  {
   "cell_type": "code",
   "execution_count": 3,
   "metadata": {},
   "outputs": [
    {
     "name": "stdout",
     "output_type": "stream",
     "text": [
      "0\n",
      "2\n",
      "4\n",
      "6\n",
      "8\n",
      "10\n",
      "P\n",
      "y\n",
      "t\n",
      "h\n",
      "o\n",
      "n\n"
     ]
    }
   ],
   "source": [
    "# Ciclo While: Imprimir números pares hasta 10\n",
    "numero = 0\n",
    "while numero <= 10:\n",
    "    if numero % 2 == 0:\n",
    "        print(numero)\n",
    "    numero += 1\n",
    "\n",
    "# Ciclo For: Imprimir letras de una palabra\n",
    "palabra = \"Python\"\n",
    "for letra in palabra:\n",
    "    print(letra)"
   ]
  },
  {
   "cell_type": "markdown",
   "metadata": {},
   "source": [
    "**Resumen:**\n",
    "\n",
    "Tanto los ciclos `while` como los ciclos `for` son útiles para repetir bloques de código, pero difieren en cómo se controla la repetición y en qué situaciones son más apropiados. El ciclo `while` se basa en una condición booleana, mientras que el ciclo `for` se basa en la iteración sobre una secuencia. Elige el ciclo adecuado según el contexto y las necesidades específicas de tu programa."
   ]
  },
  {
   "cell_type": "markdown",
   "metadata": {},
   "source": [
    "## **Introducción al Ciclo While**"
   ]
  },
  {
   "cell_type": "markdown",
   "metadata": {},
   "source": [
    "**Introducción al Ciclo While en Python: Explicación Detallada con Ejemplos**\n",
    "\n",
    "El ciclo `while` en Python es una estructura cíclica que permite ejecutar un bloque de código repetidamente mientras una condición sea verdadera. Es útil cuando no se conoce de antemano cuántas veces se debe repetir el bloque y se basa en la evaluación de una condición booleana. Aquí tienes una explicación detallada del ciclo `while` con ejemplos:\n",
    "\n",
    "**Sintaxis:**\n",
    "\n",
    "La sintaxis básica del ciclo `while` es la siguiente:\n",
    "\n",
    "\n",
    "```python\n",
    "while condicion:\n",
    "    # Bloque de código a repetir mientras la condición sea verdadera\n",
    "```"
   ]
  },
  {
   "cell_type": "markdown",
   "metadata": {},
   "source": [
    "**Ejemplo: Imprimiendo Números Pares hasta 10**\n",
    "\n",
    "En este ejemplo, utilizaremos un ciclo `while` para imprimir números pares hasta llegar a 10."
   ]
  },
  {
   "cell_type": "code",
   "execution_count": 4,
   "metadata": {},
   "outputs": [
    {
     "name": "stdout",
     "output_type": "stream",
     "text": [
      "0\n",
      "2\n",
      "4\n",
      "6\n",
      "8\n",
      "10\n"
     ]
    }
   ],
   "source": [
    "numero = 0  # Inicializamos el contador en 0\n",
    "\n",
    "while numero <= 10:  # La condición verifica si el número es menor o igual a 10\n",
    "    if numero % 2 == 0:  # Verificamos si el número es par\n",
    "        print(numero)     # Imprimimos el número par\n",
    "    numero += 1          # Incrementamos el contador en 1 en cada iteración"
   ]
  },
  {
   "cell_type": "markdown",
   "metadata": {},
   "source": [
    "En cada iteración del ciclo, se verifica si la condición (`numero <= 10`) es verdadera. Si es verdadera, se ejecuta el bloque de código dentro del ciclo, que incluye una comprobación adicional para imprimir solo números pares. Después de cada iteración, incrementamos el contador `numero` en 1.\n",
    "\n",
    "**Ejemplo: Adivina el Número**\n",
    "\n",
    "En este ejemplo, utilizaremos un ciclo `while` para crear un juego donde el usuario debe adivinar un número secreto."
   ]
  },
  {
   "cell_type": "code",
   "execution_count": 5,
   "metadata": {},
   "outputs": [
    {
     "name": "stdout",
     "output_type": "stream",
     "text": [
      "Demasiado bajo. Intenta de nuevo.\n",
      "¡Adivinaste en 2 intentos!\n"
     ]
    }
   ],
   "source": [
    "numero_secreto = 42\n",
    "intentos = 0\n",
    "\n",
    "while True:  # Ciclo se ejecuta infinitamente hasta que se rompa explícitamente\n",
    "    adivinanza = int(input(\"Adivina el número secreto: \"))\n",
    "    intentos += 1\n",
    "\n",
    "    if adivinanza == numero_secreto:\n",
    "        print(\"¡Adivinaste en\", intentos, \"intentos!\")\n",
    "        break  # Rompe el ciclo\n",
    "    elif adivinanza < numero_secreto:\n",
    "        print(\"Demasiado bajo. Intenta de nuevo.\")\n",
    "    else:\n",
    "        print(\"Demasiado alto. Intenta de nuevo.\")"
   ]
  },
  {
   "cell_type": "markdown",
   "metadata": {},
   "source": [
    "En este ejemplo, el ciclo `while` se ejecuta infinitamente hasta que se use la instrucción `break` para romperlo. El usuario ingresa un número y se verifica si coincide con el número secreto. Si el número es el correcto, se imprime el mensaje y se rompe el ciclo. Si no, se proporciona una pista al usuario sobre si el número es demasiado alto o bajo.\n",
    "\n",
    "**Resumen:**\n",
    "\n",
    "El ciclo `while` en Python permite repetir un bloque de código mientras una condición sea verdadera. Se utiliza cuando no se conoce de antemano cuántas veces se debe repetir el bloque. Ten en cuenta que si la condición nunca se vuelve falsa, el ciclo se ejecutará infinitamente, por lo que debes asegurarte de tener una forma de romperlo, como el uso de la instrucción `break`."
   ]
  },
  {
   "cell_type": "markdown",
   "metadata": {},
   "source": [
    "## **Ejemplo de captura de contraseñas con While**"
   ]
  },
  {
   "cell_type": "markdown",
   "metadata": {},
   "source": [
    "**Captura de Contraseñas con Ciclo While en Python: Ejemplo con Explicación Detallada**\n",
    "\n",
    "En este ejemplo, crearemos un programa en Python que solicita al usuario ingresar una contraseña y luego verifica si coincide con una contraseña predefinida. Utilizaremos un ciclo `while` para permitir al usuario ingresar la contraseña varias veces hasta que ingrese la contraseña correcta. Aquí tienes el ejemplo con una explicación detallada:"
   ]
  },
  {
   "cell_type": "code",
   "execution_count": 6,
   "metadata": {},
   "outputs": [
    {
     "name": "stdout",
     "output_type": "stream",
     "text": [
      "Contraseña correcta. Acceso concedido.\n"
     ]
    }
   ],
   "source": [
    "# Contraseña predefinida\n",
    "contrasena_correcta = \"secreto123\"\n",
    "\n",
    "# Solicitar al usuario ingresar una contraseña\n",
    "while True:  # Ciclo se ejecuta infinitamente hasta que se rompa explícitamente\n",
    "    contrasena_ingresada = input(\"Ingresa la contraseña: \")\n",
    "\n",
    "    if contrasena_ingresada == contrasena_correcta:\n",
    "        print(\"Contraseña correcta. Acceso concedido.\")\n",
    "        break  # Rompe el ciclo si la contraseña es correcta\n",
    "    else:\n",
    "        print(\"Contraseña incorrecta. Intenta de nuevo.\")"
   ]
  },
  {
   "cell_type": "markdown",
   "metadata": {},
   "source": [
    "**Explicación Detallada:**\n",
    "\n",
    "1. Definimos la contraseña correcta en una variable llamada `contrasena_correcta`.\n",
    "\n",
    "2. Utilizamos un ciclo `while True` para crear un ciclo infinito que se ejecuta hasta que se rompa explícitamente con la instrucción `break`.\n",
    "\n",
    "3. Dentro del ciclo, solicitamos al usuario que ingrese una contraseña utilizando la función `input()` y almacenamos la entrada en la variable `contrasena_ingresada`.\n",
    "\n",
    "4. Comparamos la contraseña ingresada con la contraseña correcta utilizando una estructura condicional `if`.\n",
    "\n",
    "5. Si la contraseña ingresada coincide con la contraseña correcta, imprimimos un mensaje de \"Contraseña correcta\" y utilizamos `break` para salir del ciclo.\n",
    "\n",
    "6. Si la contraseña ingresada no coincide, imprimimos un mensaje de \"Contraseña incorrecta\" y el ciclo continúa pidiendo al usuario que ingrese la contraseña nuevamente.\n",
    "\n",
    "**Resultado:**\n",
    "\n",
    "El programa seguirá pidiendo al usuario que ingrese la contraseña hasta que ingrese la contraseña correcta. Una vez que se ingresa la contraseña correcta, se imprimirá el mensaje \"Contraseña correcta. Acceso concedido.\" y el ciclo se romperá.\n",
    "\n",
    "**Nota:**\n",
    "\n",
    "Este ejemplo es una simplificación para demostrar cómo se puede utilizar un ciclo `while` para capturar contraseñas. En la práctica, se deben considerar aspectos de seguridad más avanzados, como no mostrar la contraseña en pantalla y manejar correctamente las entradas del usuario."
   ]
  },
  {
   "cell_type": "markdown",
   "metadata": {},
   "source": [
    "## **Introducción al Ciclo For**"
   ]
  },
  {
   "cell_type": "markdown",
   "metadata": {},
   "source": [
    "**Introducción al Ciclo For en Python: Explicación Detallada con Ejemplos**\n",
    "\n",
    "El ciclo `for` en Python es una estructura cíclica que permite iterar sobre una secuencia de elementos, como una lista, tupla o rango. A diferencia del ciclo `while`, el ciclo `for` se basa en la iteración sobre una secuencia predefinida, lo que lo hace especialmente útil para recorrer colecciones de datos. Aquí tienes una explicación detallada del ciclo `for` con ejemplos:\n",
    "\n",
    "**Sintaxis:**\n",
    "\n",
    "La sintaxis básica del ciclo `for` es la siguiente:\n",
    "\n",
    "```python\n",
    "for elemento in secuencia:\n",
    "    # Bloque de código a repetir para cada elemento en la secuencia\n",
    "```\n",
    "\n",
    "**Ejemplo: Imprimiendo Números de 1 a 5**\n",
    "\n",
    "En este ejemplo, utilizaremos un ciclo `for` para imprimir los números del 1 al 5."
   ]
  },
  {
   "cell_type": "code",
   "execution_count": 7,
   "metadata": {},
   "outputs": [
    {
     "name": "stdout",
     "output_type": "stream",
     "text": [
      "1\n",
      "2\n",
      "3\n",
      "4\n",
      "5\n"
     ]
    }
   ],
   "source": [
    "for numero in range(1, 6):  # Itera sobre los números del 1 al 5\n",
    "    print(numero)"
   ]
  },
  {
   "cell_type": "markdown",
   "metadata": {},
   "source": [
    "**Ejemplo: Recorriendo una Lista de Nombres**\n",
    "\n",
    "En este ejemplo, utilizaremos un ciclo `for` para recorrer una lista de nombres e imprimir cada nombre."
   ]
  },
  {
   "cell_type": "code",
   "execution_count": 8,
   "metadata": {},
   "outputs": [
    {
     "name": "stdout",
     "output_type": "stream",
     "text": [
      "Hola, Alice\n",
      "Hola, Bob\n",
      "Hola, Charlie\n",
      "Hola, David\n"
     ]
    }
   ],
   "source": [
    "nombres = [\"Alice\", \"Bob\", \"Charlie\", \"David\"]\n",
    "for nombre in nombres:\n",
    "    print(\"Hola,\", nombre)"
   ]
  },
  {
   "cell_type": "markdown",
   "metadata": {},
   "source": [
    "**Ejemplo: Sumando Números en una Lista**\n",
    "\n",
    "En este ejemplo, utilizaremos un ciclo `for` para sumar los números en una lista."
   ]
  },
  {
   "cell_type": "code",
   "execution_count": 9,
   "metadata": {},
   "outputs": [
    {
     "name": "stdout",
     "output_type": "stream",
     "text": [
      "La suma de los números es: 30\n"
     ]
    }
   ],
   "source": [
    "numeros = [2, 4, 6, 8, 10]\n",
    "suma = 0\n",
    "\n",
    "for numero in numeros:\n",
    "    suma += numero\n",
    "\n",
    "print(\"La suma de los números es:\", suma)"
   ]
  },
  {
   "cell_type": "markdown",
   "metadata": {},
   "source": [
    "**Ejemplo: Iterando sobre una Tupla de Coordenadas**\n",
    "\n",
    "En este ejemplo, utilizaremos un ciclo `for` para iterar sobre una tupla de coordenadas e imprimir cada par de coordenadas."
   ]
  },
  {
   "cell_type": "code",
   "execution_count": 10,
   "metadata": {},
   "outputs": [
    {
     "name": "stdout",
     "output_type": "stream",
     "text": [
      "Coordenadas: 1 2\n",
      "Coordenadas: 3 4\n",
      "Coordenadas: 5 6\n"
     ]
    }
   ],
   "source": [
    "coordenadas = [(1, 2), (3, 4), (5, 6)]\n",
    "\n",
    "for x, y in coordenadas:\n",
    "    print(\"Coordenadas:\", x, y)"
   ]
  },
  {
   "cell_type": "markdown",
   "metadata": {},
   "source": [
    "**Resumen:**\n",
    "\n",
    "El ciclo `for` en Python es una herramienta poderosa para iterar sobre secuencias de elementos como listas, tuplas o rangos. Cada elemento de la secuencia se asigna a una variable definida en la declaración del ciclo. El ciclo `for` es especialmente útil cuando se necesita recorrer colecciones de datos y realizar operaciones para cada elemento. Su sintaxis clara y su facilidad de uso lo convierten en una estructura fundamental en la programación en Python."
   ]
  },
  {
   "cell_type": "markdown",
   "metadata": {},
   "source": [
    "| **Inicio** | **atrás 9** | **Siguiente 11** |\n",
    "|----------- |-------------- |---------------|\n",
    "| [🏠](../../README.md) | [⏪](./9_Tuplas.ipynb)| [⏩](./11_Funciones_en_Python.ipynb)|"
   ]
  }
 ],
 "metadata": {
  "kernelspec": {
   "display_name": "base",
   "language": "python",
   "name": "python3"
  },
  "language_info": {
   "codemirror_mode": {
    "name": "ipython",
    "version": 3
   },
   "file_extension": ".py",
   "mimetype": "text/x-python",
   "name": "python",
   "nbconvert_exporter": "python",
   "pygments_lexer": "ipython3",
   "version": "3.9.12"
  },
  "orig_nbformat": 4
 },
 "nbformat": 4,
 "nbformat_minor": 2
}
