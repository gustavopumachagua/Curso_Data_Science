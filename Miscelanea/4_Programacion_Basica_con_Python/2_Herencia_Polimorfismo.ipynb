{
 "cells": [
  {
   "cell_type": "markdown",
   "metadata": {},
   "source": [
    "| **Inicio** | **atrás 1** | **Siguiente 3** |\n",
    "|----------- |-------------- |---------------|\n",
    "| [🏠](../../README.md) | [⏪](./1_Programacion_Orientada_a_Objetos.ipynb)| [⏩](./3_Iterativa_y_Recursiva.ipynb)|"
   ]
  },
  {
   "cell_type": "markdown",
   "metadata": {},
   "source": [
    "# **2. Herencia, Polimorfismo y Sobrecarga de Métodos con Python: Programación Orientada a Objetos | POO**"
   ]
  },
  {
   "cell_type": "markdown",
   "metadata": {},
   "source": [
    "## **Introducción**"
   ]
  },
  {
   "cell_type": "markdown",
   "metadata": {},
   "source": [
    "Por supuesto, con gusto te proporcionaré una explicación detallada de los conceptos de herencia, polimorfismo y sobrecarga de métodos en el contexto de la Programación Orientada a Objetos (POO) en Python, junto con ejemplos ilustrativos.\n",
    "\n",
    "**1. Herencia:**\n",
    "\n",
    "La herencia es un concepto clave en la POO que permite crear nuevas clases basadas en clases ya existentes. La nueva clase hereda los atributos y métodos de la clase base (o clase padre) y puede agregar nuevos atributos y métodos o modificar los ya existentes.\n",
    "\n",
    "**Ejemplo de Herencia:**"
   ]
  },
  {
   "cell_type": "code",
   "execution_count": 1,
   "metadata": {},
   "outputs": [
    {
     "name": "stdout",
     "output_type": "stream",
     "text": [
      "Guau!\n",
      "Miau!\n"
     ]
    }
   ],
   "source": [
    "class Animal:\n",
    "    def __init__(self, nombre):\n",
    "        self.nombre = nombre\n",
    "\n",
    "    def hacer_sonido(self):\n",
    "        pass\n",
    "\n",
    "class Perro(Animal):\n",
    "    def hacer_sonido(self):\n",
    "        return \"Guau!\"\n",
    "\n",
    "class Gato(Animal):\n",
    "    def hacer_sonido(self):\n",
    "        return \"Miau!\"\n",
    "\n",
    "perro = Perro(\"Fido\")\n",
    "gato = Gato(\"Pelusa\")\n",
    "\n",
    "print(perro.hacer_sonido())  # Salida: Guau!\n",
    "print(gato.hacer_sonido())   # Salida: Miau!"
   ]
  },
  {
   "cell_type": "markdown",
   "metadata": {},
   "source": [
    "En este ejemplo, la clase `Perro` y la clase `Gato` heredan de la clase base `Animal`. Cada clase hijo tiene su propio método `hacer_sonido`, lo que demuestra la capacidad de modificar el comportamiento heredado.\n",
    "\n",
    "**2. Polimorfismo:**\n",
    "\n",
    "El polimorfismo se refiere a la capacidad de objetos de diferentes clases para responder al mismo método, proporcionando una interfaz común para realizar una operación. Esto permite tratar diferentes clases de manera uniforme.\n",
    "\n",
    "**Ejemplo de Polimorfismo:**"
   ]
  },
  {
   "cell_type": "code",
   "execution_count": 2,
   "metadata": {},
   "outputs": [
    {
     "name": "stdout",
     "output_type": "stream",
     "text": [
      "Guau!\n",
      "Miau!\n"
     ]
    }
   ],
   "source": [
    "animales = [Perro(\"Fido\"), Gato(\"Pelusa\")]\n",
    "\n",
    "for animal in animales:\n",
    "    print(animal.hacer_sonido())"
   ]
  },
  {
   "cell_type": "markdown",
   "metadata": {},
   "source": [
    "En este ejemplo, el polimorfismo se muestra al iterar sobre una lista de objetos de diferentes clases (`Perro` y `Gato`) y llamando al método `hacer_sonido()` en cada uno de ellos.\n",
    "\n",
    "**3. Sobrecarga de Métodos:**\n",
    "\n",
    "La sobrecarga de métodos se refiere a definir múltiples métodos con el mismo nombre en una clase o en clases relacionadas (como clases derivadas o clases que implementan una interfaz). Los métodos sobrecargados deben tener diferente cantidad o tipo de parámetros.\n",
    "\n",
    "**Ejemplo de Sobrecarga de Métodos:**"
   ]
  },
  {
   "cell_type": "code",
   "execution_count": 4,
   "metadata": {},
   "outputs": [
    {
     "name": "stdout",
     "output_type": "stream",
     "text": [
      "5\n",
      "9\n"
     ]
    }
   ],
   "source": [
    "class Matematicas:\n",
    "    def sumar(self, a, b, c=None):\n",
    "        if c is None:\n",
    "            return a + b\n",
    "        else:\n",
    "            return a + b + c\n",
    "\n",
    "mat = Matematicas()\n",
    "print(mat.sumar(2, 3))      # Salida: 5\n",
    "print(mat.sumar(2, 3, 4))   # Salida: 9"
   ]
  },
  {
   "cell_type": "markdown",
   "metadata": {},
   "source": [
    "En este ejemplo, el segundo método `sumar` ha sobrescrito al primero debido a que tienen el mismo nombre y Python no admite la verdadera sobrecarga de métodos como en otros lenguajes.\n",
    "\n",
    "En resumen, la herencia permite la creación de clases basadas en otras clases, el polimorfismo permite tratar objetos de diferentes clases de manera uniforme y la sobrecarga de métodos permite definir diferentes versiones de un método con el mismo nombre. Estos conceptos son fundamentales en la POO y en la programación en general para crear código modular, reutilizable y eficiente."
   ]
  },
  {
   "cell_type": "markdown",
   "metadata": {},
   "source": [
    "## **Introducción a la Herencia**"
   ]
  },
  {
   "cell_type": "markdown",
   "metadata": {},
   "source": [
    "**Introducción a la Herencia en Python**\n",
    "\n",
    "La herencia es un concepto fundamental en la programación orientada a objetos (POO) que permite la creación de nuevas clases basadas en clases ya existentes. La clase que se utiliza como base se llama \"clase padre\" o \"clase base\", y la clase nueva que hereda sus características se llama \"clase hija\" o \"clase derivada\". La herencia permite la reutilización de código y la creación de jerarquías de clases para modelar relaciones más específicas.\n",
    "\n",
    "**Ventajas de la Herencia:**\n",
    "\n",
    "1. **Reutilización de Código:** La clase hija hereda atributos y métodos de la clase padre, lo que evita duplicar código y promueve la modularidad.\n",
    "2. **Extensión:** Se pueden agregar nuevos atributos y métodos a la clase hija para adaptarla a necesidades específicas.\n",
    "3. **Jerarquía:** Permite modelar relaciones más complejas entre clases, creando una jerarquía de clases que refleje la relación entre los objetos en el mundo real.\n",
    "\n",
    "**Ejemplo de Herencia en Python:**\n",
    "\n",
    "Supongamos que queremos modelar diferentes tipos de vehículos. Empezaremos con una clase base `Vehiculo` y luego crearemos clases derivadas como `Automovil` y `Motocicleta`."
   ]
  },
  {
   "cell_type": "code",
   "execution_count": 5,
   "metadata": {},
   "outputs": [
    {
     "name": "stdout",
     "output_type": "stream",
     "text": [
      "Automóvil: Toyota Corolla, Puertas: 4\n",
      "Motocicleta: Honda CBR, Tipo: Deportiva\n"
     ]
    }
   ],
   "source": [
    "class Vehiculo:\n",
    "    def __init__(self, marca, modelo):\n",
    "        self.marca = marca\n",
    "        self.modelo = modelo\n",
    "\n",
    "    def obtener_info(self):\n",
    "        return f\"{self.marca} {self.modelo}\"\n",
    "\n",
    "class Automovil(Vehiculo):\n",
    "    def __init__(self, marca, modelo, puertas):\n",
    "        super().__init__(marca, modelo)\n",
    "        self.puertas = puertas\n",
    "\n",
    "    def obtener_info(self):\n",
    "        return f\"Automóvil: {super().obtener_info()}, Puertas: {self.puertas}\"\n",
    "\n",
    "class Motocicleta(Vehiculo):\n",
    "    def __init__(self, marca, modelo, tipo):\n",
    "        super().__init__(marca, modelo)\n",
    "        self.tipo = tipo\n",
    "\n",
    "    def obtener_info(self):\n",
    "        return f\"Motocicleta: {super().obtener_info()}, Tipo: {self.tipo}\"\n",
    "\n",
    "auto = Automovil(\"Toyota\", \"Corolla\", 4)\n",
    "moto = Motocicleta(\"Honda\", \"CBR\", \"Deportiva\")\n",
    "\n",
    "print(auto.obtener_info())  # Salida: Automóvil: Toyota Corolla, Puertas: 4\n",
    "print(moto.obtener_info())  # Salida: Motocicleta: Honda CBR, Tipo: Deportiva"
   ]
  },
  {
   "cell_type": "markdown",
   "metadata": {},
   "source": [
    "En este ejemplo, `Automovil` y `Motocicleta` heredan de la clase base `Vehiculo`. Cada clase derivada agrega atributos y modifica el método `obtener_info()`, pero también puede acceder a los métodos y atributos de la clase base utilizando la función `super()`.\n",
    "\n",
    "**Resumen:**\n",
    "\n",
    "La herencia es una técnica poderosa para crear nuevas clases basadas en clases existentes, promoviendo la reutilización de código y la organización de las clases en una jerarquía. En Python, se utiliza la función `super()` para acceder a métodos y atributos de la clase base desde la clase hija."
   ]
  },
  {
   "cell_type": "markdown",
   "metadata": {},
   "source": [
    "## **Implementación de la clase Padre: Producto**"
   ]
  },
  {
   "cell_type": "markdown",
   "metadata": {},
   "source": [
    "Por supuesto, te guiaré a través de la implementación de una clase padre llamada `Producto` en Python, con una explicación detallada y ejemplos.\n",
    "\n",
    "**Definición de la Clase Padre: Producto**\n",
    "\n",
    "Imaginemos que queremos modelar diferentes tipos de productos, como electrónicos, alimentos, etc. Empezaremos con una clase base `Producto` que contendrá atributos comunes a todos los tipos de productos.\n",
    "\n",
    "**Paso 1: Definir la Clase Padre:**"
   ]
  },
  {
   "cell_type": "code",
   "execution_count": 6,
   "metadata": {},
   "outputs": [],
   "source": [
    "class Producto:\n",
    "    def __init__(self, nombre, precio):\n",
    "        self.nombre = nombre\n",
    "        self.precio = precio\n",
    "\n",
    "    def detalles(self):\n",
    "        return f\"{self.nombre} - ${self.precio:.2f}\""
   ]
  },
  {
   "cell_type": "markdown",
   "metadata": {},
   "source": [
    "En este ejemplo, hemos definido la clase `Producto` con un constructor `__init__` que inicializa los atributos `nombre` y `precio`. Además, hemos definido el método `detalles` que devuelve una cadena que contiene los detalles del producto.\n",
    "\n",
    "**Ejemplo de Uso de la Clase Padre:**"
   ]
  },
  {
   "cell_type": "code",
   "execution_count": 7,
   "metadata": {},
   "outputs": [
    {
     "name": "stdout",
     "output_type": "stream",
     "text": [
      "Teléfono - $599.99\n",
      "Chocolate - $2.99\n"
     ]
    }
   ],
   "source": [
    "producto1 = Producto(\"Teléfono\", 599.99)\n",
    "producto2 = Producto(\"Chocolate\", 2.99)\n",
    "\n",
    "print(producto1.detalles())  # Salida: Teléfono - $599.99\n",
    "print(producto2.detalles())  # Salida: Chocolate - $2.99"
   ]
  },
  {
   "cell_type": "markdown",
   "metadata": {},
   "source": [
    "En este ejemplo, hemos creado dos objetos de la clase `Producto` y llamado al método `detalles` en cada uno de ellos para obtener la información de los productos.\n",
    "\n",
    "**Resumen:**\n",
    "\n",
    "La clase `Producto` actúa como una clase base o clase padre. Contiene atributos y métodos comunes que son compartidos por todas las clases que heredan de ella. Esta estructura permite una implementación modular y jerárquica en la que otras clases pueden heredar atributos y métodos de la clase `Producto` y, al mismo tiempo, agregar atributos y métodos específicos según sus necesidades."
   ]
  },
  {
   "cell_type": "markdown",
   "metadata": {},
   "source": [
    "## **Justificación de clases Hijas**"
   ]
  },
  {
   "cell_type": "markdown",
   "metadata": {},
   "source": [
    "Por supuesto, estaré encantado de proporcionarte una explicación detallada sobre la justificación de las clases hijas en Python, junto con ejemplos ilustrativos.\n",
    "\n",
    "**Justificación de Clases Hijas (Subclases) en Python**\n",
    "\n",
    "Las clases hijas, también conocidas como subclases o clases derivadas, son clases que heredan atributos y métodos de una clase padre o clase base. La justificación principal para crear clases hijas es permitir la reutilización de código y establecer relaciones más especializadas entre las clases. Las clases hijas pueden extender la funcionalidad de la clase padre, agregar nuevos atributos y métodos, o modificar los ya existentes según las necesidades específicas.\n",
    "\n",
    "**Ventajas de las Clases Hijas:**\n",
    "\n",
    "1. **Reutilización de Código:** Las clases hijas heredan atributos y métodos de la clase padre, lo que evita duplicar código y promueve la modularidad y la eficiencia.\n",
    "2. **Especialización:** Las clases hijas pueden agregar atributos y métodos específicos para satisfacer requisitos únicos.\n",
    "3. **Jerarquía de Clases:** Permite crear una jerarquía de clases que refleje relaciones de \"es un\" más específicas.\n",
    "\n",
    "**Ejemplo de Justificación de Clases Hijas:**\n",
    "\n",
    "Supongamos que estamos modelando una tienda en línea y tenemos diferentes tipos de productos: electrónicos y alimentos. Comenzaremos con una clase base `Producto` y luego crearemos clases hijas para cada tipo de producto.\n",
    "\n",
    "**Clase Base - Producto:**"
   ]
  },
  {
   "cell_type": "code",
   "execution_count": 8,
   "metadata": {},
   "outputs": [],
   "source": [
    "class Producto:\n",
    "    def __init__(self, nombre, precio):\n",
    "        self.nombre = nombre\n",
    "        self.precio = precio\n",
    "\n",
    "    def detalles(self):\n",
    "        return f\"{self.nombre} - ${self.precio:.2f}\""
   ]
  },
  {
   "cell_type": "markdown",
   "metadata": {},
   "source": [
    "**Clase Hija - Electronico:**"
   ]
  },
  {
   "cell_type": "code",
   "execution_count": 9,
   "metadata": {},
   "outputs": [],
   "source": [
    "class Electronico(Producto):\n",
    "    def __init__(self, nombre, precio, marca):\n",
    "        super().__init__(nombre, precio)\n",
    "        self.marca = marca\n",
    "\n",
    "    def detalles(self):\n",
    "        return f\"{self.nombre} ({self.marca}) - ${self.precio:.2f}\""
   ]
  },
  {
   "cell_type": "markdown",
   "metadata": {},
   "source": [
    "**Clase Hija - Alimento:**"
   ]
  },
  {
   "cell_type": "code",
   "execution_count": 10,
   "metadata": {},
   "outputs": [],
   "source": [
    "class Alimento(Producto):\n",
    "    def __init__(self, nombre, precio, caducidad):\n",
    "        super().__init__(nombre, precio)\n",
    "        self.caducidad = caducidad\n",
    "\n",
    "    def detalles(self):\n",
    "        return f\"{self.nombre} (Caducidad: {self.caducidad}) - ${self.precio:.2f}\""
   ]
  },
  {
   "cell_type": "markdown",
   "metadata": {},
   "source": [
    "**Ejemplo de Uso de Clases Hijas:**"
   ]
  },
  {
   "cell_type": "code",
   "execution_count": 11,
   "metadata": {},
   "outputs": [
    {
     "name": "stdout",
     "output_type": "stream",
     "text": [
      "Teléfono (Samsung) - $599.99\n",
      "Chocolate (Caducidad: 2023-12-31) - $2.99\n"
     ]
    }
   ],
   "source": [
    "electronico = Electronico(\"Teléfono\", 599.99, \"Samsung\")\n",
    "alimento = Alimento(\"Chocolate\", 2.99, \"2023-12-31\")\n",
    "\n",
    "print(electronico.detalles())  # Salida: Teléfono (Samsung) - $599.99\n",
    "print(alimento.detalles())     # Salida: Chocolate (Caducidad: 2023-12-31) - $2.99"
   ]
  },
  {
   "cell_type": "markdown",
   "metadata": {},
   "source": [
    "En este ejemplo, hemos justificado las clases hijas `Electronico` y `Alimento` al extender la funcionalidad de la clase base `Producto` y agregar atributos específicos. Cada clase hija también ha modificado el método `detalles` para proporcionar información específica.\n",
    "\n",
    "**Resumen:**\n",
    "\n",
    "Las clases hijas en Python permiten extender y especializar clases base existentes, promoviendo la reutilización de código y la organización de las clases en una jerarquía. Cada clase hija puede agregar atributos y métodos específicos, al tiempo que hereda atributos y métodos de la clase padre. Esto proporciona un enfoque modular y estructurado para la construcción de programas orientados a objetos."
   ]
  },
  {
   "cell_type": "markdown",
   "metadata": {},
   "source": [
    "## **Implementación de una clase Hija: Perecedero**"
   ]
  },
  {
   "cell_type": "markdown",
   "metadata": {},
   "source": [
    "Por supuesto, te guiaré a través de la implementación de una clase hija llamada `Perecedero` en Python, con una explicación detallada y ejemplos.\n",
    "\n",
    "**Implementación de la Clase Hija: Perecedero**\n",
    "\n",
    "Supongamos que queremos modelar productos perecederos en una tienda en línea. Crearemos una clase hija `Perecedero` que heredará de la clase base `Producto`, pero también tendrá un atributo adicional para la fecha de caducidad.\n",
    "\n",
    "**Paso 1: Definir la Clase Hija `Perecedero`:**"
   ]
  },
  {
   "cell_type": "code",
   "execution_count": 12,
   "metadata": {},
   "outputs": [],
   "source": [
    "class Producto:\n",
    "    def __init__(self, nombre, precio):\n",
    "        self.nombre = nombre\n",
    "        self.precio = precio\n",
    "\n",
    "    def detalles(self):\n",
    "        return f\"{self.nombre} - ${self.precio:.2f}\"\n",
    "\n",
    "class Perecedero(Producto):\n",
    "    def __init__(self, nombre, precio, caducidad):\n",
    "        super().__init__(nombre, precio)\n",
    "        self.caducidad = caducidad\n",
    "\n",
    "    def detalles(self):\n",
    "        return f\"{self.nombre} (Caducidad: {self.caducidad}) - ${self.precio:.2f}\""
   ]
  },
  {
   "cell_type": "markdown",
   "metadata": {},
   "source": [
    "En este ejemplo, hemos definido una clase `Producto` como clase base con un constructor y el método `detalles`. Luego, hemos definido la clase hija `Perecedero`, que hereda de `Producto` y agrega el atributo `caducidad`.\n",
    "\n",
    "**Paso 2: Uso de la Clase Hija `Perecedero`:**"
   ]
  },
  {
   "cell_type": "code",
   "execution_count": 13,
   "metadata": {},
   "outputs": [
    {
     "name": "stdout",
     "output_type": "stream",
     "text": [
      "Teléfono - $599.99\n",
      "Leche (Caducidad: 2023-08-31) - $2.99\n"
     ]
    }
   ],
   "source": [
    "producto = Producto(\"Teléfono\", 599.99)\n",
    "perecedero = Perecedero(\"Leche\", 2.99, \"2023-08-31\")\n",
    "\n",
    "print(producto.detalles())   # Salida: Teléfono - $599.99\n",
    "print(perecedero.detalles())  # Salida: Leche (Caducidad: 2023-08-31) - $2.99"
   ]
  },
  {
   "cell_type": "markdown",
   "metadata": {},
   "source": [
    "En este ejemplo, hemos creado objetos de ambas clases `Producto` y `Perecedero` y llamado al método `detalles()` en cada uno para obtener información sobre los productos.\n",
    "\n",
    "**Resumen:**\n",
    "\n",
    "La clase hija `Perecedero` es un ejemplo de cómo podemos extender y especializar una clase base (`Producto`). Al heredar de la clase base, `Perecedero` obtiene sus atributos y métodos, y luego agrega su propio atributo `caducidad`. Esto demuestra cómo las clases hijas pueden heredar y personalizar la funcionalidad de una clase base para satisfacer necesidades específicas."
   ]
  },
  {
   "cell_type": "markdown",
   "metadata": {},
   "source": [
    "## **Implementación de otra clase Hija: Electrónico**"
   ]
  },
  {
   "cell_type": "markdown",
   "metadata": {},
   "source": [
    "Por supuesto, estaré encantado de guiarte a través de la implementación de otra clase hija llamada `Electrónico` en Python, con una explicación detallada y ejemplos.\n",
    "\n",
    "**Implementación de la Clase Hija: Electrónico**\n",
    "\n",
    "Siguiendo el ejemplo anterior, continuaremos modelando productos electrónicos en una tienda en línea. Crearemos una clase hija `Electrónico` que heredará de la clase base `Producto` pero también tendrá un atributo adicional para la marca.\n",
    "\n",
    "**Paso 1: Definir la Clase Hija `Electrónico`:**"
   ]
  },
  {
   "cell_type": "code",
   "execution_count": 14,
   "metadata": {},
   "outputs": [],
   "source": [
    "class Producto:\n",
    "    def __init__(self, nombre, precio):\n",
    "        self.nombre = nombre\n",
    "        self.precio = precio\n",
    "\n",
    "    def detalles(self):\n",
    "        return f\"{self.nombre} - ${self.precio:.2f}\"\n",
    "\n",
    "class Electrónico(Producto):\n",
    "    def __init__(self, nombre, precio, marca):\n",
    "        super().__init__(nombre, precio)\n",
    "        self.marca = marca\n",
    "\n",
    "    def detalles(self):\n",
    "        return f\"{self.nombre} (Marca: {self.marca}) - ${self.precio:.2f}\""
   ]
  },
  {
   "cell_type": "markdown",
   "metadata": {},
   "source": [
    "En este ejemplo, hemos definido la clase hija `Electrónico`, que hereda de la clase base `Producto`. Hemos agregado un atributo adicional `marca` a la clase hija.\n",
    "\n",
    "**Paso 2: Uso de la Clase Hija `Electrónico`:**"
   ]
  },
  {
   "cell_type": "code",
   "execution_count": 15,
   "metadata": {},
   "outputs": [
    {
     "name": "stdout",
     "output_type": "stream",
     "text": [
      "Teléfono - $599.99\n",
      "Laptop (Marca: Dell) - $999.99\n"
     ]
    }
   ],
   "source": [
    "producto = Producto(\"Teléfono\", 599.99)\n",
    "electrónico = Electrónico(\"Laptop\", 999.99, \"Dell\")\n",
    "\n",
    "print(producto.detalles())    # Salida: Teléfono - $599.99\n",
    "print(electrónico.detalles())  # Salida: Laptop (Marca: Dell) - $999.99"
   ]
  },
  {
   "cell_type": "markdown",
   "metadata": {},
   "source": [
    "En este ejemplo, hemos creado objetos de ambas clases `Producto` y `Electrónico` y llamado al método `detalles()` en cada uno para obtener información sobre los productos.\n",
    "\n",
    "**Resumen:**\n",
    "\n",
    "La clase hija `Electrónico` es otro ejemplo de cómo podemos extender y especializar una clase base (`Producto`). Al heredar de la clase base, `Electrónico` obtiene sus atributos y métodos, y luego agrega su propio atributo `marca`. Esto demuestra cómo las clases hijas pueden heredar y personalizar la funcionalidad de una clase base para satisfacer necesidades específicas. En este caso, hemos modelado productos electrónicos con detalles adicionales de marca."
   ]
  },
  {
   "cell_type": "markdown",
   "metadata": {},
   "source": [
    "## **Sobrecarga de métodos para especialización de clases hijas**"
   ]
  },
  {
   "cell_type": "markdown",
   "metadata": {},
   "source": [
    "Por supuesto, te explicaré la sobrecarga de métodos en el contexto de especialización de clases hijas en Python, junto con ejemplos para ilustrar el concepto.\n",
    "\n",
    "**Sobrecarga de Métodos para Especialización de Clases Hijas**\n",
    "\n",
    "La sobrecarga de métodos es una técnica en la programación orientada a objetos que permite que una clase hija reemplace o extienda métodos heredados de su clase padre. Esto permite la personalización y especialización del comportamiento de la clase hija en función de sus necesidades específicas.\n",
    "\n",
    "**Ejemplo de Sobrecarga de Métodos en Clases Hijas:**\n",
    "\n",
    "Supongamos que estamos modelando diferentes tipos de vehículos en una aplicación. Crearemos una clase base `Vehiculo` y luego especializaremos esta clase con clases hijas como `Automovil` y `Motocicleta`.\n",
    "\n",
    "**Clase Base - Vehiculo:**"
   ]
  },
  {
   "cell_type": "code",
   "execution_count": 16,
   "metadata": {},
   "outputs": [],
   "source": [
    "class Vehiculo:\n",
    "    def __init__(self, marca, modelo):\n",
    "        self.marca = marca\n",
    "        self.modelo = modelo\n",
    "\n",
    "    def presentacion(self):\n",
    "        return f\"Soy un vehículo de marca {self.marca}, modelo {self.modelo}\""
   ]
  },
  {
   "cell_type": "markdown",
   "metadata": {},
   "source": [
    "**Clase Hija - Automovil:**"
   ]
  },
  {
   "cell_type": "code",
   "execution_count": 17,
   "metadata": {},
   "outputs": [],
   "source": [
    "class Automovil(Vehiculo):\n",
    "    def __init__(self, marca, modelo, puertas):\n",
    "        super().__init__(marca, modelo)\n",
    "        self.puertas = puertas\n",
    "\n",
    "    def presentacion(self):\n",
    "        return f\"Soy un automóvil de marca {self.marca}, modelo {self.modelo}, con {self.puertas} puertas\""
   ]
  },
  {
   "cell_type": "markdown",
   "metadata": {},
   "source": [
    "**Clase Hija - Motocicleta:**"
   ]
  },
  {
   "cell_type": "code",
   "execution_count": 18,
   "metadata": {},
   "outputs": [],
   "source": [
    "class Motocicleta(Vehiculo):\n",
    "    def __init__(self, marca, modelo, tipo):\n",
    "        super().__init__(marca, modelo)\n",
    "        self.tipo = tipo\n",
    "\n",
    "    def presentacion(self):\n",
    "        return f\"Soy una motocicleta de marca {self.marca}, modelo {self.modelo}, tipo {self.tipo}\""
   ]
  },
  {
   "cell_type": "markdown",
   "metadata": {},
   "source": [
    "**Ejemplo de Uso de Sobrecarga de Métodos:**"
   ]
  },
  {
   "cell_type": "code",
   "execution_count": 19,
   "metadata": {},
   "outputs": [
    {
     "name": "stdout",
     "output_type": "stream",
     "text": [
      "Soy un vehículo de marca Desconocida, modelo Desconocido\n",
      "Soy un automóvil de marca Toyota, modelo Corolla, con 4 puertas\n",
      "Soy una motocicleta de marca Honda, modelo CBR, tipo Deportiva\n"
     ]
    }
   ],
   "source": [
    "vehiculo_generico = Vehiculo(\"Desconocida\", \"Desconocido\")\n",
    "automovil = Automovil(\"Toyota\", \"Corolla\", 4)\n",
    "motocicleta = Motocicleta(\"Honda\", \"CBR\", \"Deportiva\")\n",
    "\n",
    "print(vehiculo_generico.presentacion())  # Salida: Soy un vehículo de marca Desconocida, modelo Desconocido\n",
    "print(automovil.presentacion())          # Salida: Soy un automóvil de marca Toyota, modelo Corolla, con 4 puertas\n",
    "print(motocicleta.presentacion())        # Salida: Soy una motocicleta de marca Honda, modelo CBR, tipo Deportiva"
   ]
  },
  {
   "cell_type": "markdown",
   "metadata": {},
   "source": [
    "En este ejemplo, hemos demostrado cómo la sobrecarga de métodos permite que las clases hijas especialicen el comportamiento de los métodos heredados de la clase base. Cada clase hija ha sobrecargado el método `presentacion()` para proporcionar información específica según su tipo de vehículo.\n",
    "\n",
    "**Resumen:**\n",
    "\n",
    "La sobrecarga de métodos en clases hijas permite que las clases especialicen y personalicen el comportamiento heredado de la clase base. Esto es esencial para adaptar y modelar con precisión diferentes tipos de objetos en una jerarquía de clases."
   ]
  },
  {
   "cell_type": "markdown",
   "metadata": {},
   "source": [
    "## **Polimorfismo**"
   ]
  },
  {
   "cell_type": "markdown",
   "metadata": {},
   "source": [
    "**Polimorfismo en Python: Explicación Detallada con Ejemplos**\n",
    "\n",
    "El polimorfismo es un concepto clave en la programación orientada a objetos (POO) que se refiere a la capacidad de objetos de diferentes clases para responder al mismo método, proporcionando una interfaz común para realizar una operación. Esto permite tratar diferentes clases de manera uniforme y modular, lo que facilita la reutilización de código y la construcción de sistemas más flexibles.\n",
    "\n",
    "En Python, el polimorfismo se logra a través de la sobrecarga de métodos y la herencia, lo que permite que distintas clases implementen el mismo método de manera específica para su contexto. El polimorfismo promueve la flexibilidad en el diseño de software y la creación de código más mantenible.\n",
    "\n",
    "**Ejemplo de Polimorfismo en Python:**\n",
    "\n",
    "Supongamos que estamos modelando diferentes formas geométricas (círculo, cuadrado y triángulo) en un programa. Cada forma geométrica debe calcular su área, pero cada una tiene una fórmula diferente. Usaremos polimorfismo para tratar todas las formas geométricas de manera uniforme.\n",
    "\n",
    "**Definición de Clases:**"
   ]
  },
  {
   "cell_type": "code",
   "execution_count": 20,
   "metadata": {},
   "outputs": [],
   "source": [
    "import math\n",
    "\n",
    "class FormaGeometrica:\n",
    "    def calcular_area(self):\n",
    "        pass\n",
    "\n",
    "class Circulo(FormaGeometrica):\n",
    "    def __init__(self, radio):\n",
    "        self.radio = radio\n",
    "\n",
    "    def calcular_area(self):\n",
    "        return math.pi * self.radio ** 2\n",
    "\n",
    "class Cuadrado(FormaGeometrica):\n",
    "    def __init__(self, lado):\n",
    "        self.lado = lado\n",
    "\n",
    "    def calcular_area(self):\n",
    "        return self.lado ** 2\n",
    "\n",
    "class Triangulo(FormaGeometrica):\n",
    "    def __init__(self, base, altura):\n",
    "        self.base = base\n",
    "        self.altura = altura\n",
    "\n",
    "    def calcular_area(self):\n",
    "        return 0.5 * self.base * self.altura"
   ]
  },
  {
   "cell_type": "markdown",
   "metadata": {},
   "source": [
    "**Uso del Polimorfismo:**"
   ]
  },
  {
   "cell_type": "code",
   "execution_count": 21,
   "metadata": {},
   "outputs": [
    {
     "name": "stdout",
     "output_type": "stream",
     "text": [
      "Área de la forma: 78.54\n",
      "Área de la forma: 16.00\n",
      "Área de la forma: 9.00\n"
     ]
    }
   ],
   "source": [
    "formas = [Circulo(5), Cuadrado(4), Triangulo(3, 6)]\n",
    "\n",
    "for forma in formas:\n",
    "    print(f\"Área de la forma: {forma.calcular_area():.2f}\")"
   ]
  },
  {
   "cell_type": "markdown",
   "metadata": {},
   "source": [
    "En este ejemplo, hemos definido una clase base `FormaGeometrica` con un método `calcular_area()`. Luego, hemos creado tres clases hijas `Circulo`, `Cuadrado` y `Triangulo`, cada una con su propia implementación del método `calcular_area()`. Finalmente, hemos creado una lista de formas y utilizado un bucle para calcular y mostrar el área de cada forma. Esto demuestra cómo el polimorfismo nos permite tratar objetos de diferentes clases de manera uniforme.\n",
    "\n",
    "**Resumen:**\n",
    "\n",
    "El polimorfismo en Python permite que diferentes clases implementen el mismo método de manera específica para su contexto, lo que facilita el tratamiento uniforme de objetos de diferentes clases. Esto promueve la reutilización de código, la modularidad y la flexibilidad en el diseño de sistemas."
   ]
  },
  {
   "cell_type": "markdown",
   "metadata": {},
   "source": [
    "| **Inicio** | **atrás 1** | **Siguiente 3** |\n",
    "|----------- |-------------- |---------------|\n",
    "| [🏠](../../README.md) | [⏪](./1_Programacion_Orientada_a_Objetos.ipynb)| [⏩](./3_Iterativa_y_Recursiva.ipynb)|"
   ]
  }
 ],
 "metadata": {
  "kernelspec": {
   "display_name": "base",
   "language": "python",
   "name": "python3"
  },
  "language_info": {
   "codemirror_mode": {
    "name": "ipython",
    "version": 3
   },
   "file_extension": ".py",
   "mimetype": "text/x-python",
   "name": "python",
   "nbconvert_exporter": "python",
   "pygments_lexer": "ipython3",
   "version": "3.9.12"
  },
  "orig_nbformat": 4
 },
 "nbformat": 4,
 "nbformat_minor": 2
}
