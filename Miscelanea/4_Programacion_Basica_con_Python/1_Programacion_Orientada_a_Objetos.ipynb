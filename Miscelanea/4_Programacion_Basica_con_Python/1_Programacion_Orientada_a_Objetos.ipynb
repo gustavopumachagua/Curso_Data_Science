{
 "cells": [
  {
   "cell_type": "markdown",
   "metadata": {},
   "source": [
    "| **Inicio** | **Siguiente 2** |\n",
    "|----------- |-------------- |\n",
    "| [🏠](../../README.md) | [⏩](./2_Herencia_Polimorfismo.ipynb)|"
   ]
  },
  {
   "cell_type": "markdown",
   "metadata": {},
   "source": [
    "# **1. Programación Orientada a Objetos con Python: Clases y Objetos | POO | OOP**"
   ]
  },
  {
   "cell_type": "markdown",
   "metadata": {},
   "source": [
    "## **Introducción a la Programación Orientada a Objetos**"
   ]
  },
  {
   "cell_type": "markdown",
   "metadata": {},
   "source": [
    "La Programación Orientada a Objetos (POO) es un paradigma de programación que se basa en la organización del código en \"objetos\", que son instancias de clases. Una clase es una plantilla que define la estructura y el comportamiento de un objeto, y un objeto es una instancia concreta de esa clase. Python es un lenguaje que soporta completamente la POO y facilita su implementación.\n",
    "\n",
    "**Conceptos Clave:**\n",
    "\n",
    "1. **Clase:** Una clase es un plano o plantilla para crear objetos. Define propiedades (atributos) y comportamientos (métodos) que los objetos de esa clase compartirán. En Python, se define una clase usando la palabra clave `class`.\n",
    "\n",
    "2. **Objeto:** Un objeto es una instancia concreta de una clase. Contiene valores reales para los atributos definidos en la clase y puede ejecutar los métodos definidos en ella.\n",
    "\n",
    "3. **Atributo:** Un atributo es una propiedad o característica que describe el estado de un objeto. Puede ser cualquier tipo de dato (números, cadenas, listas, etc.).\n",
    "\n",
    "4. **Método:** Un método es una función definida dentro de una clase que define el comportamiento que los objetos de esa clase pueden llevar a cabo.\n",
    "\n",
    "**Ejemplo: Definición de una Clase en Python:**"
   ]
  },
  {
   "cell_type": "code",
   "execution_count": 1,
   "metadata": {},
   "outputs": [],
   "source": [
    "class Persona:\n",
    "    def __init__(self, nombre, edad):\n",
    "        self.nombre = nombre\n",
    "        self.edad = edad\n",
    "    def saludar(self):\n",
    "        print(f\"Hola, soy {self.nombre} y tengo {self.edad} años.\")"
   ]
  },
  {
   "cell_type": "markdown",
   "metadata": {},
   "source": [
    "En este ejemplo, hemos definido una clase llamada `Persona` con dos atributos (`nombre` y `edad`) y un método (`saludar`).\n",
    "\n",
    "**Creación de Objetos:**"
   ]
  },
  {
   "cell_type": "code",
   "execution_count": 2,
   "metadata": {},
   "outputs": [
    {
     "name": "stdout",
     "output_type": "stream",
     "text": [
      "Hola, soy Juan y tengo 30 años.\n",
      "Hola, soy María y tengo 25 años.\n"
     ]
    }
   ],
   "source": [
    "persona1 = Persona(\"Juan\", 30)\n",
    "persona2 = Persona(\"María\", 25)\n",
    "\n",
    "persona1.saludar()  # Salida: Hola, soy Juan y tengo 30 años.\n",
    "persona2.saludar()  # Salida: Hola, soy María y tengo 25 años."
   ]
  },
  {
   "cell_type": "markdown",
   "metadata": {},
   "source": [
    "**Herencia:**\n",
    "\n",
    "La herencia permite crear una nueva clase que hereda atributos y métodos de una clase existente. Esto fomenta la reutilización de código y la organización jerárquica de clases."
   ]
  },
  {
   "cell_type": "code",
   "execution_count": 3,
   "metadata": {},
   "outputs": [],
   "source": [
    "class Estudiante(Persona):\n",
    "    def __init__(self, nombre, edad, curso):\n",
    "        super().__init__(nombre, edad)\n",
    "        self.curso = curso\n",
    "    def mostrar_curso(self):\n",
    "        print(f\"Soy {self.nombre} y estoy en el curso {self.curso}.\")"
   ]
  },
  {
   "cell_type": "markdown",
   "metadata": {},
   "source": [
    "En este ejemplo, la clase `Estudiante` hereda de la clase `Persona` y agrega un nuevo atributo `curso` y un nuevo método `mostrar_curso`.\n",
    "\n",
    "**Polimorfismo:**\n",
    "\n",
    "El polimorfismo permite que diferentes clases compartan el mismo nombre de método, pero implementen su propia versión del mismo."
   ]
  },
  {
   "cell_type": "code",
   "execution_count": 4,
   "metadata": {},
   "outputs": [
    {
     "name": "stdout",
     "output_type": "stream",
     "text": [
      "Hola, soy Carlos y tengo 28 años.\n",
      "Hola, soy Ana y tengo 22 años.\n"
     ]
    }
   ],
   "source": [
    "def mostrar_detalles(entidad):\n",
    "    entidad.saludar()\n",
    "\n",
    "persona = Persona(\"Carlos\", 28)\n",
    "estudiante = Estudiante(\"Ana\", 22, \"Matemáticas\")\n",
    "\n",
    "mostrar_detalles(persona)     # Llama al método saludar de Persona\n",
    "mostrar_detalles(estudiante)  # Llama al método saludar de Estudiante"
   ]
  },
  {
   "cell_type": "markdown",
   "metadata": {},
   "source": [
    "La Programación Orientada a Objetos en Python ofrece una forma estructurada y modular de escribir código, lo que puede llevar a un diseño más legible y mantenible. Este es solo un vistazo básico; la POO puede volverse mucho más compleja y poderosa a medida que se exploran conceptos avanzados como la encapsulación, el polimorfismo, las clases abstractas, etc."
   ]
  },
  {
   "cell_type": "markdown",
   "metadata": {},
   "source": [
    "## **Definición de la primera clase**"
   ]
  },
  {
   "cell_type": "markdown",
   "metadata": {},
   "source": [
    "Por supuesto, vamos a explorar la definición de la primera clase en Python en detalle, paso a paso, junto con ejemplos.\n",
    "\n",
    "**Paso 1: Definir la Clase**\n",
    "\n",
    "En Python, para definir una clase, utilizamos la palabra clave `class`, seguida del nombre de la clase en CamelCase (la primera letra en mayúscula). Dentro de la clase, podemos definir atributos y métodos.\n",
    "\n",
    "**Ejemplo: Definición básica de una clase Persona:**"
   ]
  },
  {
   "cell_type": "code",
   "execution_count": 5,
   "metadata": {},
   "outputs": [],
   "source": [
    "class Persona:\n",
    "    pass"
   ]
  },
  {
   "cell_type": "markdown",
   "metadata": {},
   "source": [
    "En este ejemplo, hemos definido una clase llamada `Persona` utilizando la palabra clave `class`. La instrucción `pass` se utiliza para indicar que la clase está vacía por ahora y no contiene ningún atributo ni método.\n",
    "\n",
    "**Paso 2: Agregar Atributos**\n",
    "\n",
    "Los atributos son las propiedades que describen el estado de un objeto. Se definen en el método especial `__init__` de la clase, que se llama cuando se crea un objeto.\n",
    "\n",
    "**Ejemplo: Agregar atributos `nombre` y `edad` a la clase Persona:**"
   ]
  },
  {
   "cell_type": "code",
   "execution_count": 6,
   "metadata": {},
   "outputs": [],
   "source": [
    "class Persona:\n",
    "    def __init__(self, nombre, edad):\n",
    "        self.nombre = nombre\n",
    "        self.edad = edad"
   ]
  },
  {
   "cell_type": "markdown",
   "metadata": {},
   "source": [
    "En este ejemplo, hemos definido el método `__init__` con los parámetros `nombre` y `edad`. Dentro de este método, utilizamos `self.nombre` y `self.edad` para asignar los valores de los atributos.\n",
    "\n",
    "**Paso 3: Agregar Métodos**\n",
    "\n",
    "Los métodos son funciones definidas dentro de la clase que permiten que los objetos realicen acciones o tareas específicas.\n",
    "\n",
    "**Ejemplo: Agregar el método `saludar` a la clase Persona:**"
   ]
  },
  {
   "cell_type": "code",
   "execution_count": 7,
   "metadata": {},
   "outputs": [],
   "source": [
    "class Persona:\n",
    "    def __init__(self, nombre, edad):\n",
    "        self.nombre = nombre\n",
    "        self.edad = edad\n",
    "    def saludar(self):\n",
    "        print(f\"Hola, soy {self.nombre} y tengo {self.edad} años.\")"
   ]
  },
  {
   "cell_type": "markdown",
   "metadata": {},
   "source": [
    "En este ejemplo, hemos agregado el método `saludar` que utiliza los atributos `nombre` y `edad` para imprimir un mensaje de saludo.\n",
    "\n",
    "**Paso 4: Crear Objetos**\n",
    "\n",
    "Una vez que hemos definido la clase, podemos crear objetos (instancias) de esa clase. Para esto, llamamos al nombre de la clase seguido de paréntesis.\n",
    "\n",
    "**Ejemplo: Crear objetos de la clase Persona:**"
   ]
  },
  {
   "cell_type": "code",
   "execution_count": 8,
   "metadata": {},
   "outputs": [],
   "source": [
    "persona1 = Persona(\"Juan\", 30)\n",
    "persona2 = Persona(\"María\", 25)"
   ]
  },
  {
   "cell_type": "markdown",
   "metadata": {},
   "source": [
    "En este ejemplo, hemos creado dos objetos de la clase `Persona` con diferentes valores para los atributos `nombre` y `edad`.\n",
    "\n",
    "**Paso 5: Llamar Métodos en Objetos**\n",
    "\n",
    "Una vez que tenemos objetos, podemos llamar a los métodos definidos en la clase utilizando la sintaxis `objeto.metodo()`.\n",
    "\n",
    "**Ejemplo: Llamar al método `saludar` en objetos de la clase Persona:**"
   ]
  },
  {
   "cell_type": "code",
   "execution_count": 9,
   "metadata": {},
   "outputs": [
    {
     "name": "stdout",
     "output_type": "stream",
     "text": [
      "Hola, soy Juan y tengo 30 años.\n",
      "Hola, soy María y tengo 25 años.\n"
     ]
    }
   ],
   "source": [
    "persona1.saludar()  # Salida: Hola, soy Juan y tengo 30 años.\n",
    "persona2.saludar()  # Salida: Hola, soy María y tengo 25 años."
   ]
  },
  {
   "cell_type": "markdown",
   "metadata": {},
   "source": [
    "En resumen, hemos definido una clase `Persona` con atributos y métodos, creado objetos de esa clase y llamado a los métodos en esos objetos. Esta es una introducción básica a la programación orientada a objetos en Python."
   ]
  },
  {
   "cell_type": "markdown",
   "metadata": {},
   "source": [
    "## **Definición del constructor**"
   ]
  },
  {
   "cell_type": "markdown",
   "metadata": {},
   "source": [
    "**Constructor en Python:**\n",
    "\n",
    "El constructor en Python es un método especial dentro de una clase que se llama automáticamente cuando se crea un nuevo objeto de esa clase. Su nombre es `__init__`, y se utiliza para inicializar los atributos de la instancia recién creada. El constructor recibe `self` como su primer parámetro, que hace referencia a la instancia que se está creando, y luego puede recibir otros parámetros que se utilizarán para inicializar los atributos.\n",
    "\n",
    "**Ejemplo de Constructor:**"
   ]
  },
  {
   "cell_type": "code",
   "execution_count": 10,
   "metadata": {},
   "outputs": [],
   "source": [
    "class Persona:\n",
    "    def __init__(self, nombre, edad):\n",
    "        self.nombre = nombre\n",
    "        self.edad = edad\n",
    "\n",
    "persona1 = Persona(\"Juan\", 30)\n",
    "persona2 = Persona(\"María\", 25)"
   ]
  },
  {
   "cell_type": "markdown",
   "metadata": {},
   "source": [
    "En este ejemplo, hemos definido la clase `Persona` con un constructor `__init__`. Cuando creamos objetos `persona1` y `persona2`, el constructor se llama automáticamente y asigna los valores proporcionados a los atributos `nombre` y `edad` de cada objeto.\n",
    "\n",
    "**Cómo funciona el Constructor:**\n",
    "\n",
    "1. Cuando se crea un nuevo objeto de una clase, Python busca el método `__init__` en esa clase.\n",
    "2. El constructor se llama automáticamente y se pasa `self` (la instancia que se está creando) como primer argumento, junto con otros argumentos que hayamos proporcionado al crear el objeto.\n",
    "3. Dentro del constructor, podemos usar `self` para asignar los valores de los atributos utilizando la notación `self.atributo = valor`.\n",
    "\n",
    "**Uso de Self:**\n",
    "\n",
    "`self` es una referencia a la instancia que se está creando. Permite acceder y modificar los atributos de esa instancia. Es una convención usar `self` como el primer parámetro en todos los métodos de instancia de una clase.\n",
    "\n",
    "**Ejemplo de Uso de Self:**"
   ]
  },
  {
   "cell_type": "code",
   "execution_count": 11,
   "metadata": {},
   "outputs": [
    {
     "name": "stdout",
     "output_type": "stream",
     "text": [
      "Hola, soy Juan y tengo 30 años.\n"
     ]
    }
   ],
   "source": [
    "class Persona:\n",
    "    def __init__(self, nombre, edad):\n",
    "        self.nombre = nombre\n",
    "        self.edad = edad\n",
    "    def saludar(self):\n",
    "        print(f\"Hola, soy {self.nombre} y tengo {self.edad} años.\")\n",
    "\n",
    "persona1 = Persona(\"Juan\", 30)\n",
    "persona1.saludar()  # Salida: Hola, soy Juan y tengo 30 años."
   ]
  },
  {
   "cell_type": "markdown",
   "metadata": {},
   "source": [
    "En este ejemplo, `self.nombre` y `self.edad` hacen referencia a los atributos específicos de la instancia `persona1`.\n",
    "\n",
    "En resumen, el constructor `__init__` es una parte fundamental de la programación orientada a objetos en Python. Se utiliza para inicializar los atributos de una instancia cuando se crea un objeto."
   ]
  },
  {
   "cell_type": "markdown",
   "metadata": {},
   "source": [
    "## **Comportamientos/Métodos**"
   ]
  },
  {
   "cell_type": "markdown",
   "metadata": {},
   "source": [
    "Por supuesto, te explicaré en detalle qué son los comportamientos (métodos) en Python en el contexto de la programación orientada a objetos, junto con ejemplos.\n",
    "\n",
    "**Comportamientos (Métodos) en Python:**\n",
    "\n",
    "Los comportamientos, también conocidos como métodos, son funciones definidas dentro de una clase que definen las acciones o tareas que los objetos de esa clase pueden llevar a cabo. Los métodos representan el comportamiento de los objetos y se utilizan para realizar operaciones y manipulaciones en los datos contenidos en los atributos.\n",
    "\n",
    "**Ejemplo de Método:**"
   ]
  },
  {
   "cell_type": "code",
   "execution_count": 12,
   "metadata": {},
   "outputs": [
    {
     "name": "stdout",
     "output_type": "stream",
     "text": [
      "Hola, soy Juan y tengo 30 años.\n"
     ]
    }
   ],
   "source": [
    "class Persona:\n",
    "    def __init__(self, nombre, edad):\n",
    "        self.nombre = nombre\n",
    "        self.edad = edad\n",
    "\n",
    "    def saludar(self):\n",
    "        print(f\"Hola, soy {self.nombre} y tengo {self.edad} años.\")\n",
    "\n",
    "persona1 = Persona(\"Juan\", 30)\n",
    "persona1.saludar()  # Salida: Hola, soy Juan y tengo 30 años."
   ]
  },
  {
   "cell_type": "markdown",
   "metadata": {},
   "source": [
    "En este ejemplo, hemos definido un método llamado `saludar` en la clase `Persona`. El método `saludar` utiliza los atributos `nombre` y `edad` de la instancia para imprimir un mensaje de saludo.\n",
    "\n",
    "**Cómo Funcionan los Métodos:**\n",
    "\n",
    "1. Los métodos se definen dentro de la clase, al igual que las funciones normales, pero se accede a ellos a través de objetos creados a partir de esa clase.\n",
    "2. El primer parámetro de un método es siempre `self`, que hace referencia a la instancia en la que se llama el método. A través de `self`, se puede acceder a los atributos y otros métodos de la instancia.\n",
    "3. Los métodos se llaman utilizando la sintaxis `objeto.metodo()`.\n",
    "\n",
    "**Métodos con Parámetros:**\n",
    "\n",
    "Los métodos pueden aceptar otros parámetros además de `self`. Esto permite que los métodos realicen operaciones más específicas o tomen valores externos.\n",
    "\n",
    "**Ejemplo de Método con Parámetros:**"
   ]
  },
  {
   "cell_type": "code",
   "execution_count": 13,
   "metadata": {},
   "outputs": [
    {
     "name": "stdout",
     "output_type": "stream",
     "text": [
      "8\n"
     ]
    }
   ],
   "source": [
    "class Calculadora:\n",
    "    def sumar(self, a, b):\n",
    "        return a + b\n",
    "\n",
    "calc = Calculadora()\n",
    "resultado = calc.sumar(5, 3)\n",
    "print(resultado)  # Salida: 8"
   ]
  },
  {
   "cell_type": "markdown",
   "metadata": {},
   "source": [
    "En este ejemplo, el método `sumar` acepta dos parámetros `a` y `b`, realiza la suma y devuelve el resultado.\n",
    "\n",
    "**Métodos que Modifican Atributos:**\n",
    "\n",
    "Los métodos pueden modificar los valores de los atributos de un objeto utilizando `self`.\n",
    "\n",
    "**Ejemplo de Método que Modifica Atributos:**"
   ]
  },
  {
   "cell_type": "code",
   "execution_count": 14,
   "metadata": {},
   "outputs": [
    {
     "name": "stdout",
     "output_type": "stream",
     "text": [
      "1000\n",
      "1500\n",
      "300\n"
     ]
    }
   ],
   "source": [
    "class CuentaBancaria:\n",
    "    def __init__(self, saldo):\n",
    "        self.saldo = saldo\n",
    "\n",
    "    def depositar(self, cantidad):\n",
    "        self.saldo += cantidad\n",
    "\n",
    "    def retirar(self, cantidad):\n",
    "        if self.saldo >= cantidad:\n",
    "            self.saldo -= cantidad\n",
    "        else:\n",
    "            print(\"Saldo insuficiente\")\n",
    "\n",
    "cuenta = CuentaBancaria(1000)\n",
    "print(cuenta.saldo)  # Salida: 1000\n",
    "cuenta.depositar(500)\n",
    "print(cuenta.saldo)  # Salida: 1500\n",
    "cuenta.retirar(1200)\n",
    "print(cuenta.saldo)  # Salida: 300"
   ]
  },
  {
   "cell_type": "markdown",
   "metadata": {},
   "source": [
    "En este ejemplo, los métodos `depositar` y `retirar` modifican el atributo `saldo` de la instancia de la clase `CuentaBancaria`.\n",
    "\n",
    "En resumen, los métodos son el componente clave para definir el comportamiento de las clases en la programación orientada a objetos. Permiten que los objetos realicen acciones y operaciones específicas, manipulando sus atributos y colaborando con otros métodos."
   ]
  },
  {
   "cell_type": "markdown",
   "metadata": {},
   "source": [
    "## **Sobrecarga de métodos de la clase Object: _str__, __eq__, __lt_ y __gt__**"
   ]
  },
  {
   "cell_type": "markdown",
   "metadata": {},
   "source": [
    "La sobrecarga de métodos en Python permite definir comportamientos personalizados para ciertas operaciones y funciones predefinidas, como la conversión a cadena (`__str__`), la comparación de igualdad (`__eq__`), la comparación de menor que (`__lt__`) y la comparación de mayor que (`__gt__`). Estos métodos permiten que las instancias de una clase se comporten de manera más natural en contextos específicos.\n",
    "\n",
    "**1. `__str__` - Conversión a Cadena:**\n",
    "\n",
    "El método `__str__` se utiliza para proporcionar una representación legible de una instancia en forma de cadena. Este método se llama cuando se utiliza la función `str()` o cuando se imprime una instancia directamente.\n",
    "\n",
    "**Ejemplo de `__str__`:**"
   ]
  },
  {
   "cell_type": "code",
   "execution_count": 15,
   "metadata": {},
   "outputs": [
    {
     "name": "stdout",
     "output_type": "stream",
     "text": [
      "Juan, 30 años\n",
      "Juan, 30 años\n"
     ]
    }
   ],
   "source": [
    "class Persona:\n",
    "    def __init__(self, nombre, edad):\n",
    "        self.nombre = nombre\n",
    "        self.edad = edad\n",
    "\n",
    "    def __str__(self):\n",
    "        return f\"{self.nombre}, {self.edad} años\"\n",
    "\n",
    "persona = Persona(\"Juan\", 30)\n",
    "print(str(persona))  # Salida: Juan, 30 años\n",
    "print(persona)       # Salida: Juan, 30 años"
   ]
  },
  {
   "cell_type": "markdown",
   "metadata": {},
   "source": [
    "**2. `__eq__` - Comparación de Igualdad:**\n",
    "\n",
    "El método `__eq__` permite definir la comparación de igualdad entre dos instancias. Se llama cuando se utiliza el operador de igualdad (`==`).\n",
    "\n",
    "**Ejemplo de `__eq__`:**"
   ]
  },
  {
   "cell_type": "code",
   "execution_count": 16,
   "metadata": {},
   "outputs": [
    {
     "name": "stdout",
     "output_type": "stream",
     "text": [
      "True\n",
      "False\n"
     ]
    }
   ],
   "source": [
    "class Punto:\n",
    "    def __init__(self, x, y):\n",
    "        self.x = x\n",
    "        self.y = y\n",
    "\n",
    "    def __eq__(self, other):\n",
    "        return self.x == other.x and self.y == other.y\n",
    "\n",
    "punto1 = Punto(1, 2)\n",
    "punto2 = Punto(1, 2)\n",
    "punto3 = Punto(3, 4)\n",
    "\n",
    "print(punto1 == punto2)  # Salida: True\n",
    "print(punto1 == punto3)  # Salida: False"
   ]
  },
  {
   "cell_type": "markdown",
   "metadata": {},
   "source": [
    "**3. `__lt__` - Comparación de Menor Que:**\n",
    "\n",
    "El método `__lt__` se utiliza para definir la comparación de menor que entre dos instancias. Se llama cuando se utiliza el operador de menor que (`<`).\n",
    "\n",
    "**Ejemplo de `__lt__`:**"
   ]
  },
  {
   "cell_type": "code",
   "execution_count": 17,
   "metadata": {},
   "outputs": [
    {
     "name": "stdout",
     "output_type": "stream",
     "text": [
      "True\n",
      "False\n"
     ]
    }
   ],
   "source": [
    "class Producto:\n",
    "    def __init__(self, nombre, precio):\n",
    "        self.nombre = nombre\n",
    "        self.precio = precio\n",
    "\n",
    "    def __lt__(self, other):\n",
    "        return self.precio < other.precio\n",
    "\n",
    "producto1 = Producto(\"Camiseta\", 20)\n",
    "producto2 = Producto(\"Zapatos\", 50)\n",
    "producto3 = Producto(\"Pantalones\", 30)\n",
    "\n",
    "print(producto1 < producto2)  # Salida: True\n",
    "print(producto2 < producto3)  # Salida: False"
   ]
  },
  {
   "cell_type": "markdown",
   "metadata": {},
   "source": [
    "**4. `__gt__` - Comparación de Mayor Que:**\n",
    "\n",
    "El método `__gt__` se utiliza para definir la comparación de mayor que entre dos instancias. Se llama cuando se utiliza el operador de mayor que (`>`).\n",
    "\n",
    "**Ejemplo de `__gt__`:**"
   ]
  },
  {
   "cell_type": "code",
   "execution_count": 18,
   "metadata": {},
   "outputs": [
    {
     "name": "stdout",
     "output_type": "stream",
     "text": [
      "True\n",
      "False\n"
     ]
    }
   ],
   "source": [
    "class Estudiante:\n",
    "    def __init__(self, nombre, promedio):\n",
    "        self.nombre = nombre\n",
    "        self.promedio = promedio\n",
    "\n",
    "    def __gt__(self, other):\n",
    "        return self.promedio > other.promedio\n",
    "\n",
    "estudiante1 = Estudiante(\"Ana\", 85)\n",
    "estudiante2 = Estudiante(\"Carlos\", 70)\n",
    "estudiante3 = Estudiante(\"María\", 95)\n",
    "\n",
    "print(estudiante1 > estudiante2)  # Salida: True\n",
    "print(estudiante2 > estudiante3)  # Salida: False"
   ]
  },
  {
   "cell_type": "markdown",
   "metadata": {},
   "source": [
    "En resumen, la sobrecarga de métodos en Python permite personalizar el comportamiento de las instancias en operaciones y funciones predefinidas. Esto hace que las clases sean más intuitivas y versátiles al interactuar con otras partes del código."
   ]
  },
  {
   "cell_type": "markdown",
   "metadata": {},
   "source": [
    "| **Inicio** | **Siguiente 2** |\n",
    "|----------- |-------------- |\n",
    "| [🏠](../../README.md) | [⏩](./2_Herencia_Polimorfismo.ipynb)|"
   ]
  }
 ],
 "metadata": {
  "kernelspec": {
   "display_name": "base",
   "language": "python",
   "name": "python3"
  },
  "language_info": {
   "codemirror_mode": {
    "name": "ipython",
    "version": 3
   },
   "file_extension": ".py",
   "mimetype": "text/x-python",
   "name": "python",
   "nbconvert_exporter": "python",
   "pygments_lexer": "ipython3",
   "version": "3.9.12"
  },
  "orig_nbformat": 4
 },
 "nbformat": 4,
 "nbformat_minor": 2
}
