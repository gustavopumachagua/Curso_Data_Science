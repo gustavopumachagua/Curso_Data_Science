{
 "cells": [
  {
   "cell_type": "markdown",
   "metadata": {},
   "source": [
    "| **Inicio** | **atrás 6** | **Siguiente 8** |\n",
    "|----------- |-------------- |---------------|\n",
    "| [🏠](../../README.md) | [⏪](./6_Condicionales_IF_y_Expresiones.ipynb)| [⏩](./8_Conjuntos.ipynb)|"
   ]
  },
  {
   "cell_type": "markdown",
   "metadata": {},
   "source": [
    "# **7. Listas: una Estructura de Datos fundamental en Python**"
   ]
  },
  {
   "cell_type": "markdown",
   "metadata": {},
   "source": [
    "## **Introducción a las listas**"
   ]
  },
  {
   "cell_type": "markdown",
   "metadata": {},
   "source": [
    "**Listas en Python: Una Estructura de Datos Fundamental**\n",
    "\n",
    "Las listas son una estructura de datos fundamental en Python. Representan una colección ordenada y mutable de elementos. Cada elemento en una lista puede ser de cualquier tipo, incluyendo otros tipos de datos y hasta otras listas. Las listas son muy versátiles y se utilizan ampliamente para almacenar y manipular conjuntos de datos. Aquí tienes una explicación detallada junto con ejemplos de cómo funcionan las listas en Python:\n",
    "\n",
    "**Creación de Listas:**\n",
    "\n",
    "Las listas se crean utilizando corchetes `[]`, y los elementos se separan por comas."
   ]
  },
  {
   "cell_type": "code",
   "execution_count": 1,
   "metadata": {},
   "outputs": [],
   "source": [
    "numeros = [1, 2, 3, 4, 5]\n",
    "nombres = [\"Alice\", \"Bob\", \"Charlie\"]\n",
    "mezclada = [1, \"Hola\", True, 3.14]"
   ]
  },
  {
   "cell_type": "markdown",
   "metadata": {},
   "source": [
    "**Acceso a Elementos de una Lista:**\n",
    "\n",
    "Puedes acceder a elementos individuales de una lista utilizando índices. Los índices en Python comienzan desde 0 para el primer elemento y se incrementan en 1 para cada elemento subsiguiente."
   ]
  },
  {
   "cell_type": "code",
   "execution_count": 2,
   "metadata": {},
   "outputs": [
    {
     "name": "stdout",
     "output_type": "stream",
     "text": [
      "manzana\n",
      "banana\n"
     ]
    }
   ],
   "source": [
    "frutas = [\"manzana\", \"banana\", \"naranja\"]\n",
    "print(frutas[0])  # Salida: \"manzana\"\n",
    "print(frutas[1])  # Salida: \"banana\""
   ]
  },
  {
   "cell_type": "markdown",
   "metadata": {},
   "source": [
    "**Modificación de Elementos en una Lista:**\n",
    "\n",
    "Las listas son mutables, lo que significa que puedes cambiar sus elementos después de haber sido creados."
   ]
  },
  {
   "cell_type": "code",
   "execution_count": 3,
   "metadata": {},
   "outputs": [
    {
     "name": "stdout",
     "output_type": "stream",
     "text": [
      "['rojo', 'amarillo', 'azul']\n"
     ]
    }
   ],
   "source": [
    "colores = [\"rojo\", \"verde\", \"azul\"]\n",
    "colores[1] = \"amarillo\"\n",
    "print(colores)  # Salida: [\"rojo\", \"amarillo\", \"azul\"]"
   ]
  },
  {
   "cell_type": "markdown",
   "metadata": {},
   "source": [
    "**Métodos de Lista:**\n",
    "\n",
    "Python proporciona una variedad de métodos útiles para trabajar con listas. Algunos ejemplos incluyen:"
   ]
  },
  {
   "cell_type": "code",
   "execution_count": 4,
   "metadata": {},
   "outputs": [],
   "source": [
    "numeros = [2, 4, 6, 8, 10]\n",
    "\n",
    "# Agregar elementos\n",
    "numeros.append(12)\n",
    "numeros.insert(3, 7)\n",
    "\n",
    "# Eliminar elementos\n",
    "numeros.remove(4)\n",
    "numeros.pop(2)\n",
    "\n",
    "# Ordenar la lista\n",
    "numeros.sort()\n",
    "\n",
    "# Obtener la longitud de la lista\n",
    "longitud = len(numeros)"
   ]
  },
  {
   "cell_type": "markdown",
   "metadata": {},
   "source": [
    "**Operaciones con Listas:**\n",
    "\n",
    "Puedes realizar operaciones como concatenación y repetición con listas."
   ]
  },
  {
   "cell_type": "code",
   "execution_count": 5,
   "metadata": {},
   "outputs": [],
   "source": [
    "lista1 = [1, 2, 3]\n",
    "lista2 = [4, 5, 6]\n",
    "\n",
    "concatenada = lista1 + lista2  # Concatenación\n",
    "repetida = lista1 * 3  # Repetición"
   ]
  },
  {
   "cell_type": "markdown",
   "metadata": {},
   "source": [
    "**Iteración a través de una Lista:**\n",
    "\n",
    "Puedes utilizar bucles `for` para recorrer los elementos de una lista."
   ]
  },
  {
   "cell_type": "code",
   "execution_count": 6,
   "metadata": {},
   "outputs": [
    {
     "name": "stdout",
     "output_type": "stream",
     "text": [
      "Alice\n",
      "Bob\n",
      "Charlie\n"
     ]
    }
   ],
   "source": [
    "nombres = [\"Alice\", \"Bob\", \"Charlie\"]\n",
    "for nombre in nombres:\n",
    "    print(nombre)"
   ]
  },
  {
   "cell_type": "markdown",
   "metadata": {},
   "source": [
    "**Resumen:**\n",
    "\n",
    "Las listas son una estructura de datos fundamental en Python que permite almacenar y manipular conjuntos de elementos de manera ordenada y mutable. Son versátiles y se utilizan ampliamente en la programación. Puedes crear, acceder, modificar y operar con listas utilizando una variedad de métodos y operaciones. Las listas son una parte esencial de la programación y te permitirán trabajar con colecciones de datos de manera efectiva."
   ]
  },
  {
   "cell_type": "markdown",
   "metadata": {},
   "source": [
    "## **Operaciones básicas sobre las listas**"
   ]
  },
  {
   "cell_type": "markdown",
   "metadata": {},
   "source": [
    "**Operaciones Básicas sobre Listas en Python**\n",
    "\n",
    "Las listas en Python admiten una variedad de operaciones básicas que te permiten manipular y trabajar con los elementos dentro de ellas. Aquí tienes una explicación detallada de algunas de las operaciones básicas más comunes sobre listas:\n",
    "\n",
    "**1. Agregar Elementos:**\n",
    "\n",
    "- `append(elemento)`: Agrega un elemento al final de la lista.\n",
    "- `insert(indice, elemento)`: Inserta un elemento en un índice específico de la lista.\n",
    "\n",
    "**Ejemplo:**"
   ]
  },
  {
   "cell_type": "code",
   "execution_count": 7,
   "metadata": {},
   "outputs": [],
   "source": [
    "frutas = [\"manzana\", \"banana\"]\n",
    "frutas.append(\"naranja\")  # Agregar al final\n",
    "frutas.insert(1, \"uva\")    # Insertar en el índice 1"
   ]
  },
  {
   "cell_type": "markdown",
   "metadata": {},
   "source": [
    "**2. Eliminar Elementos:**\n",
    "\n",
    "- `remove(elemento)`: Elimina la primera aparición del elemento especificado.\n",
    "- `pop(indice)`: Elimina y devuelve el elemento en el índice dado.\n",
    "\n",
    "**Ejemplo:**"
   ]
  },
  {
   "cell_type": "code",
   "execution_count": 8,
   "metadata": {},
   "outputs": [],
   "source": [
    "colores = [\"rojo\", \"verde\", \"azul\"]\n",
    "colores.remove(\"verde\")\n",
    "elemento_eliminado = colores.pop(0)"
   ]
  },
  {
   "cell_type": "markdown",
   "metadata": {},
   "source": [
    "**3. Ordenar y Revertir:**\n",
    "\n",
    "- `sort()`: Ordena la lista en orden ascendente.\n",
    "- `reverse()`: Invierte el orden de los elementos en la lista.\n",
    "\n",
    "**Ejemplo:**"
   ]
  },
  {
   "cell_type": "code",
   "execution_count": 9,
   "metadata": {},
   "outputs": [],
   "source": [
    "numeros = [5, 2, 8, 1, 3]\n",
    "numeros.sort()     # Ordenar en orden ascendente\n",
    "numeros.reverse()  # Invertir el orden"
   ]
  },
  {
   "cell_type": "markdown",
   "metadata": {},
   "source": [
    "**4. Concatenación y Repetición:**\n",
    "\n",
    "- `+`: Concatena dos listas.\n",
    "- `*`: Repite una lista un número específico de veces.\n",
    "\n",
    "**Ejemplo:**"
   ]
  },
  {
   "cell_type": "code",
   "execution_count": 10,
   "metadata": {},
   "outputs": [],
   "source": [
    "lista1 = [1, 2, 3]\n",
    "lista2 = [4, 5, 6]\n",
    "concatenada = lista1 + lista2\n",
    "repetida = lista1 * 3"
   ]
  },
  {
   "cell_type": "markdown",
   "metadata": {},
   "source": [
    "**5. Obtener Longitud:**\n",
    "\n",
    "- `len(lista)`: Devuelve el número de elementos en la lista.\n",
    "\n",
    "**Ejemplo:**"
   ]
  },
  {
   "cell_type": "code",
   "execution_count": 11,
   "metadata": {},
   "outputs": [],
   "source": [
    "numeros = [1, 2, 3, 4, 5]\n",
    "longitud = len(numeros)  # Devuelve 5"
   ]
  },
  {
   "cell_type": "markdown",
   "metadata": {},
   "source": [
    "**6. Búsqueda de Elementos:**\n",
    "\n",
    "- `elemento in lista`: Verifica si un elemento está presente en la lista.\n",
    "\n",
    "**Ejemplo:**"
   ]
  },
  {
   "cell_type": "code",
   "execution_count": 12,
   "metadata": {},
   "outputs": [
    {
     "name": "stdout",
     "output_type": "stream",
     "text": [
      "Bob está en la lista\n"
     ]
    }
   ],
   "source": [
    "nombres = [\"Alice\", \"Bob\", \"Charlie\"]\n",
    "if \"Bob\" in nombres:\n",
    "    print(\"Bob está en la lista\")"
   ]
  },
  {
   "cell_type": "markdown",
   "metadata": {},
   "source": [
    "**Resumen:**\n",
    "\n",
    "Las listas en Python ofrecen una variedad de operaciones básicas que te permiten agregar, eliminar, ordenar, revertir, concatenar, repetir y más. Estas operaciones son esenciales para manipular y trabajar con conjuntos de datos de manera efectiva. Conocer estas operaciones te ayudará a aprovechar al máximo las capacidades de las listas en tus programas."
   ]
  },
  {
   "cell_type": "markdown",
   "metadata": {},
   "source": [
    "## **Lista de listas**"
   ]
  },
  {
   "cell_type": "markdown",
   "metadata": {},
   "source": [
    "**Listas de Listas en Python: Explorando Estructuras Anidadas**\n",
    "\n",
    "Las listas de listas, también conocidas como listas anidadas, son una forma poderosa de crear estructuras de datos más complejas en Python. Permiten almacenar listas dentro de otras listas, lo que brinda una mayor flexibilidad para representar datos jerárquicos o estructuras multidimensionales. Aquí tienes una explicación detallada junto con ejemplos de cómo funcionan las listas de listas en Python:\n",
    "\n",
    "**Creación de Listas de Listas:**\n",
    "\n",
    "Puedes crear una lista de listas agregando listas individuales como elementos de una lista principal."
   ]
  },
  {
   "cell_type": "code",
   "execution_count": 13,
   "metadata": {},
   "outputs": [],
   "source": [
    "matriz = [[1, 2, 3], [4, 5, 6], [7, 8, 9]]"
   ]
  },
  {
   "cell_type": "markdown",
   "metadata": {},
   "source": [
    "En este ejemplo, hemos creado una matriz 3x3 utilizando una lista de listas.\n",
    "\n",
    "**Acceso a Elementos en Listas de Listas:**\n",
    "\n",
    "Puedes acceder a elementos individuales dentro de listas de listas utilizando índices múltiples."
   ]
  },
  {
   "cell_type": "code",
   "execution_count": 14,
   "metadata": {},
   "outputs": [],
   "source": [
    "matriz = [[1, 2, 3], [4, 5, 6], [7, 8, 9]]\n",
    "elemento = matriz[1][2]  # Acceso al elemento en la segunda lista y tercer elemento"
   ]
  },
  {
   "cell_type": "markdown",
   "metadata": {},
   "source": [
    "**Modificación de Elementos en Listas de Listas:**\n",
    "\n",
    "Dado que las listas son mutables, puedes modificar elementos individuales en listas de listas."
   ]
  },
  {
   "cell_type": "code",
   "execution_count": 15,
   "metadata": {},
   "outputs": [],
   "source": [
    "matriz = [[1, 2, 3], [4, 5, 6], [7, 8, 9]]\n",
    "matriz[0][1] = 10  # Cambiar el segundo elemento de la primera lista"
   ]
  },
  {
   "cell_type": "markdown",
   "metadata": {},
   "source": [
    "**Iteración a través de Listas de Listas:**\n",
    "\n",
    "Puedes utilizar bucles anidados para iterar a través de elementos en listas de listas."
   ]
  },
  {
   "cell_type": "code",
   "execution_count": 16,
   "metadata": {},
   "outputs": [
    {
     "name": "stdout",
     "output_type": "stream",
     "text": [
      "1\n",
      "2\n",
      "3\n",
      "4\n",
      "5\n",
      "6\n",
      "7\n",
      "8\n",
      "9\n"
     ]
    }
   ],
   "source": [
    "matriz = [[1, 2, 3], [4, 5, 6], [7, 8, 9]]\n",
    "for fila in matriz:\n",
    "    for elemento in fila:\n",
    "        print(elemento)"
   ]
  },
  {
   "cell_type": "markdown",
   "metadata": {},
   "source": [
    "**Operaciones en Listas de Listas:**\n",
    "\n",
    "Puedes realizar operaciones como concatenación y repetición con listas de listas."
   ]
  },
  {
   "cell_type": "code",
   "execution_count": 17,
   "metadata": {},
   "outputs": [],
   "source": [
    "lista1 = [1, 2, 3]\n",
    "lista2 = [4, 5, 6]\n",
    "lista_anidada = [lista1, lista2]"
   ]
  },
  {
   "cell_type": "markdown",
   "metadata": {},
   "source": [
    "**Aplicaciones Prácticas:**\n",
    "\n",
    "Las listas de listas son útiles para representar estructuras de datos complejas, como tablas, matrices, gráficos y más. Son esenciales en tareas como procesamiento de imágenes, modelado de datos multidimensionales y manipulación de datos tabulares.\n",
    "\n",
    "**Ejemplo Práctico: Matriz de Calificaciones**\n",
    "\n",
    "Imaginemos que tenemos una matriz de calificaciones de estudiantes en diferentes asignaturas:"
   ]
  },
  {
   "cell_type": "code",
   "execution_count": 18,
   "metadata": {},
   "outputs": [],
   "source": [
    "calificaciones = [\n",
    "    [85, 90, 78],\n",
    "    [92, 88, 76],\n",
    "    [78, 85, 90]\n",
    "]"
   ]
  },
  {
   "cell_type": "markdown",
   "metadata": {},
   "source": [
    "Podemos calcular el promedio de calificaciones para cada estudiante:"
   ]
  },
  {
   "cell_type": "code",
   "execution_count": 19,
   "metadata": {},
   "outputs": [
    {
     "name": "stdout",
     "output_type": "stream",
     "text": [
      "Promedio: 84.33333333333333\n",
      "Promedio: 85.33333333333333\n",
      "Promedio: 84.33333333333333\n"
     ]
    }
   ],
   "source": [
    "for estudiante in calificaciones:\n",
    "    suma = sum(estudiante)\n",
    "    promedio = suma / len(estudiante)\n",
    "    print(\"Promedio:\", promedio)"
   ]
  },
  {
   "cell_type": "markdown",
   "metadata": {},
   "source": [
    "**Resumen:**\n",
    "\n",
    "Las listas de listas en Python permiten crear estructuras de datos más complejas y anidadas. Son útiles para representar datos jerárquicos o multidimensionales. Puedes acceder, modificar e iterar a través de elementos en listas de listas utilizando bucles anidados y operaciones de indexación. Estas estructuras son esenciales en la programación cuando necesitas manipular datos con niveles de anidación y complejidad."
   ]
  },
  {
   "cell_type": "markdown",
   "metadata": {},
   "source": [
    "| **Inicio** | **atrás 6** | **Siguiente 8** |\n",
    "|----------- |-------------- |---------------|\n",
    "| [🏠](../../README.md) | [⏪](./6_Condicionales_IF_y_Expresiones.ipynb)| [⏩](./8_Conjuntos.ipynb)|"
   ]
  }
 ],
 "metadata": {
  "kernelspec": {
   "display_name": "base",
   "language": "python",
   "name": "python3"
  },
  "language_info": {
   "codemirror_mode": {
    "name": "ipython",
    "version": 3
   },
   "file_extension": ".py",
   "mimetype": "text/x-python",
   "name": "python",
   "nbconvert_exporter": "python",
   "pygments_lexer": "ipython3",
   "version": "3.9.12"
  },
  "orig_nbformat": 4
 },
 "nbformat": 4,
 "nbformat_minor": 2
}
