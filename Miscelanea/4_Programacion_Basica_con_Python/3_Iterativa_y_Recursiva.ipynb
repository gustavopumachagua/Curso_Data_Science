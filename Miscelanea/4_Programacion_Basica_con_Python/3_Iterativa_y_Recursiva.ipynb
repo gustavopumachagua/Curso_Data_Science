{
 "cells": [
  {
   "cell_type": "markdown",
   "metadata": {},
   "source": [
    "| **Inicio** | **atrás 2** | **Siguiente 4** |\n",
    "|----------- |-------------- |---------------|\n",
    "| [🏠](../../README.md) | [⏪](./2_Herencia_Polimorfismo.ipynb)| [⏩](./4_Recursividad_con_Python.ipynb)|"
   ]
  },
  {
   "cell_type": "markdown",
   "metadata": {},
   "source": [
    "# **3. Búsqueda Binaria con Python: Programación Iterativa y Recursiva**"
   ]
  },
  {
   "cell_type": "markdown",
   "metadata": {},
   "source": [
    "## **Introducción a la búsqueda binaria**"
   ]
  },
  {
   "cell_type": "markdown",
   "metadata": {},
   "source": [
    "**Búsqueda Binaria en Python: Explicación Detallada con Ejemplos**\n",
    "\n",
    "La búsqueda binaria es un algoritmo eficiente para buscar un elemento en una lista ordenada. En lugar de buscar elemento por elemento, la búsqueda binaria divide repetidamente la lista en dos mitades y compara el elemento buscado con el elemento en el medio. Luego, se descarta una mitad de la lista en función de la comparación y se repite el proceso en la mitad restante. Esto se repite hasta que se encuentre el elemento deseado o se determine que no está presente en la lista.\n",
    "\n",
    "La búsqueda binaria es especialmente útil para listas grandes y ordenadas, ya que reduce drásticamente el número de comparaciones necesarias en comparación con una búsqueda lineal.\n",
    "\n",
    "**Búsqueda Binaria Iterativa en Python:**"
   ]
  },
  {
   "cell_type": "code",
   "execution_count": 1,
   "metadata": {},
   "outputs": [
    {
     "name": "stdout",
     "output_type": "stream",
     "text": [
      "El elemento 7 se encuentra en el índice 3\n"
     ]
    }
   ],
   "source": [
    "def busqueda_binaria_iterativa(lista, objetivo):\n",
    "    izquierda, derecha = 0, len(lista) - 1\n",
    "\n",
    "    while izquierda <= derecha:\n",
    "        medio = (izquierda + derecha) // 2\n",
    "        elemento_medio = lista[medio]\n",
    "\n",
    "        if elemento_medio == objetivo:\n",
    "            return medio\n",
    "        elif elemento_medio < objetivo:\n",
    "            izquierda = medio + 1\n",
    "        else:\n",
    "            derecha = medio - 1\n",
    "\n",
    "    return -1  # Elemento no encontrado\n",
    "\n",
    "# Ejemplo de uso\n",
    "lista = [1, 3, 5, 7, 9, 11, 13, 15]\n",
    "objetivo = 7\n",
    "\n",
    "indice = busqueda_binaria_iterativa(lista, objetivo)\n",
    "if indice != -1:\n",
    "    print(f\"El elemento {objetivo} se encuentra en el índice {indice}\")\n",
    "else:\n",
    "    print(\"El elemento no fue encontrado\")"
   ]
  },
  {
   "cell_type": "markdown",
   "metadata": {},
   "source": [
    "**Búsqueda Binaria Recursiva en Python:**"
   ]
  },
  {
   "cell_type": "code",
   "execution_count": 2,
   "metadata": {},
   "outputs": [
    {
     "name": "stdout",
     "output_type": "stream",
     "text": [
      "El elemento 7 se encuentra en el índice 3\n"
     ]
    }
   ],
   "source": [
    "def busqueda_binaria_recursiva(lista, objetivo, izquierda, derecha):\n",
    "    if izquierda > derecha:\n",
    "        return -1  # Elemento no encontrado\n",
    "\n",
    "    medio = (izquierda + derecha) // 2\n",
    "    elemento_medio = lista[medio]\n",
    "\n",
    "    if elemento_medio == objetivo:\n",
    "        return medio\n",
    "    elif elemento_medio < objetivo:\n",
    "        return busqueda_binaria_recursiva(lista, objetivo, medio + 1, derecha)\n",
    "    else:\n",
    "        return busqueda_binaria_recursiva(lista, objetivo, izquierda, medio - 1)\n",
    "\n",
    "# Ejemplo de uso\n",
    "lista = [1, 3, 5, 7, 9, 11, 13, 15]\n",
    "objetivo = 7\n",
    "\n",
    "indice = busqueda_binaria_recursiva(lista, objetivo, 0, len(lista) - 1)\n",
    "if indice != -1:\n",
    "    print(f\"El elemento {objetivo} se encuentra en el índice {indice}\")\n",
    "else:\n",
    "    print(\"El elemento no fue encontrado\")"
   ]
  },
  {
   "cell_type": "markdown",
   "metadata": {},
   "source": [
    "**Resumen:**\n",
    "\n",
    "La búsqueda binaria es un algoritmo eficiente para buscar elementos en listas ordenadas. Puede realizarse de manera iterativa o recursiva. La búsqueda binaria reduce el número de comparaciones necesarias en comparación con una búsqueda lineal, lo que la hace especialmente útil para listas grandes y ordenadas."
   ]
  },
  {
   "cell_type": "markdown",
   "metadata": {},
   "source": [
    "## **Explicación del algoritmo base**"
   ]
  },
  {
   "cell_type": "markdown",
   "metadata": {},
   "source": [
    "Entendido, parece que deseas una explicación detallada del algoritmo de búsqueda binaria en Python, uno de los algoritmos más eficientes para buscar un elemento en una lista ordenada. Aquí tienes una explicación completa junto con ejemplos:\n",
    "\n",
    "**Búsqueda Binaria en Python: Explicación Detallada con Ejemplos**\n",
    "\n",
    "La búsqueda binaria es un algoritmo de búsqueda que se utiliza para encontrar un elemento específico en una lista ordenada. En lugar de buscar elemento por elemento, la búsqueda binaria divide repetidamente la lista en dos mitades y compara el elemento buscado con el elemento en el medio. Dependiendo de la comparación, se descarta una mitad de la lista, lo que reduce drásticamente la cantidad de elementos en los que buscar. Este proceso se repite hasta que se encuentra el elemento deseado o hasta que la lista se reduce a un tamaño en el que se puede determinar que el elemento no está presente.\n",
    "\n",
    "**Paso a paso de la Búsqueda Binaria:**\n",
    "\n",
    "1. Selecciona el elemento en el medio de la lista.\n",
    "2. Compara el elemento en el medio con el elemento buscado.\n",
    "3. Si el elemento es igual al buscado, se ha encontrado y se devuelve su posición.\n",
    "4. Si el elemento es menor que el buscado, se descarta la mitad izquierda de la lista y se repite el proceso en la mitad derecha.\n",
    "5. Si el elemento es mayor que el buscado, se descarta la mitad derecha de la lista y se repite el proceso en la mitad izquierda.\n",
    "6. El proceso se repite hasta que se encuentre el elemento buscado o hasta que el intervalo de búsqueda se reduzca a cero.\n",
    "\n",
    "**Implementación de la Búsqueda Binaria en Python:**"
   ]
  },
  {
   "cell_type": "code",
   "execution_count": 3,
   "metadata": {},
   "outputs": [
    {
     "name": "stdout",
     "output_type": "stream",
     "text": [
      "El elemento 7 se encuentra en el índice 3\n"
     ]
    }
   ],
   "source": [
    "def busqueda_binaria(lista, objetivo):\n",
    "    izquierda, derecha = 0, len(lista) - 1\n",
    "\n",
    "    while izquierda <= derecha:\n",
    "        medio = (izquierda + derecha) // 2\n",
    "        elemento_medio = lista[medio]\n",
    "\n",
    "        if elemento_medio == objetivo:\n",
    "            return medio\n",
    "        elif elemento_medio < objetivo:\n",
    "            izquierda = medio + 1\n",
    "        else:\n",
    "            derecha = medio - 1\n",
    "\n",
    "    return -1  # Elemento no encontrado\n",
    "\n",
    "# Ejemplo de uso\n",
    "lista = [1, 3, 5, 7, 9, 11, 13, 15]\n",
    "objetivo = 7\n",
    "\n",
    "indice = busqueda_binaria(lista, objetivo)\n",
    "if indice != -1:\n",
    "    print(f\"El elemento {objetivo} se encuentra en el índice {indice}\")\n",
    "else:\n",
    "    print(\"El elemento no fue encontrado\")"
   ]
  },
  {
   "cell_type": "markdown",
   "metadata": {},
   "source": [
    "**Ventajas de la Búsqueda Binaria:**\n",
    "\n",
    "- Eficiencia: La búsqueda binaria es mucho más rápida en listas grandes en comparación con la búsqueda lineal.\n",
    "- Complejidad: La búsqueda binaria tiene una complejidad de tiempo de O(log n), lo que significa que su rendimiento mejora a medida que aumenta el tamaño de la lista.\n",
    "\n",
    "**Limitaciones de la Búsqueda Binaria:**\n",
    "\n",
    "- Requisito de Lista Ordenada: La búsqueda binaria solo funciona en listas ordenadas.\n",
    "\n",
    "**Resumen:**\n",
    "\n",
    "La búsqueda binaria es un algoritmo eficiente para buscar elementos en listas ordenadas. Divide repetidamente la lista en mitades y compara el elemento buscado con el elemento en el medio. Esto reduce drásticamente la cantidad de comparaciones necesarias para encontrar el elemento deseado."
   ]
  },
  {
   "cell_type": "markdown",
   "metadata": {},
   "source": [
    "## **Implementación del algoritmo iterativo**"
   ]
  },
  {
   "cell_type": "markdown",
   "metadata": {},
   "source": [
    "Por supuesto, aquí tienes una implementación detallada del algoritmo de búsqueda binaria de manera iterativa en Python, junto con una explicación y ejemplos:\n",
    "\n",
    "**Búsqueda Binaria Iterativa en Python: Explicación y Ejemplo**\n",
    "\n",
    "La búsqueda binaria iterativa divide repetidamente la lista en dos mitades y ajusta los límites de búsqueda en función de la comparación del valor medio con el valor buscado. El proceso se repite hasta que se encuentre el valor deseado o hasta que el intervalo de búsqueda se reduzca a cero.\n",
    "\n",
    "**Implementación del Algoritmo Iterativo:**"
   ]
  },
  {
   "cell_type": "code",
   "execution_count": 4,
   "metadata": {},
   "outputs": [
    {
     "name": "stdout",
     "output_type": "stream",
     "text": [
      "El elemento 7 se encuentra en el índice 3\n"
     ]
    }
   ],
   "source": [
    "def busqueda_binaria_iterativa(lista, objetivo):\n",
    "    izquierda, derecha = 0, len(lista) - 1\n",
    "\n",
    "    while izquierda <= derecha:\n",
    "        medio = (izquierda + derecha) // 2\n",
    "        elemento_medio = lista[medio]\n",
    "\n",
    "        if elemento_medio == objetivo:\n",
    "            return medio  # Se encontró el elemento en el índice 'medio'\n",
    "        elif elemento_medio < objetivo:\n",
    "            izquierda = medio + 1  # Descartar la mitad izquierda\n",
    "        else:\n",
    "            derecha = medio - 1  # Descartar la mitad derecha\n",
    "\n",
    "    return -1  # Elemento no encontrado\n",
    "\n",
    "# Ejemplo de uso\n",
    "lista = [1, 3, 5, 7, 9, 11, 13, 15]\n",
    "objetivo = 7\n",
    "\n",
    "indice = busqueda_binaria_iterativa(lista, objetivo)\n",
    "if indice != -1:\n",
    "    print(f\"El elemento {objetivo} se encuentra en el índice {indice}\")\n",
    "else:\n",
    "    print(\"El elemento no fue encontrado\")"
   ]
  },
  {
   "cell_type": "markdown",
   "metadata": {},
   "source": [
    "**Explicación Paso a Paso:**\n",
    "\n",
    "1. Inicializa dos índices, `izquierda` y `derecha`, que representan el rango de búsqueda inicial (toda la lista).\n",
    "2. En cada iteración, calcula el índice del elemento medio entre `izquierda` y `derecha`.\n",
    "3. Compara el elemento medio con el valor buscado (`objetivo`).\n",
    "4. Si el elemento medio es igual al `objetivo`, se ha encontrado y se devuelve su índice.\n",
    "5. Si el elemento medio es menor que el `objetivo`, se descarta la mitad izquierda de la lista y se ajusta `izquierda` al siguiente elemento.\n",
    "6. Si el elemento medio es mayor que el `objetivo`, se descarta la mitad derecha de la lista y se ajusta `derecha` al elemento anterior.\n",
    "7. Repite los pasos 2-6 hasta que `izquierda` sea mayor que `derecha`, lo que significa que el intervalo de búsqueda se ha reducido a cero y el elemento no se ha encontrado.\n",
    "\n",
    "**Resultado del Ejemplo:**\n",
    "\n",
    "En el ejemplo proporcionado, el elemento 7 se encuentra en la lista en el índice 3, ya que 7 es igual al valor en ese índice. Por lo tanto, el programa imprimirá:\n",
    "\n",
    "```\n",
    "El elemento 7 se encuentra en el índice 3\n",
    "```\n",
    "\n",
    "**Resumen:**\n",
    "\n",
    "La búsqueda binaria iterativa divide el intervalo de búsqueda por la mitad en cada iteración, ajustando los límites izquierdo y derecho según la comparación del elemento medio con el valor buscado. Esto reduce drásticamente la cantidad de comparaciones necesarias para encontrar un elemento en una lista ordenada."
   ]
  },
  {
   "cell_type": "markdown",
   "metadata": {},
   "source": [
    "## **Implementación del algoritmo recursivo**"
   ]
  },
  {
   "cell_type": "markdown",
   "metadata": {},
   "source": [
    "Por supuesto, aquí tienes una implementación detallada del algoritmo de búsqueda binaria de manera recursiva en Python, junto con una explicación y ejemplos:\n",
    "\n",
    "**Búsqueda Binaria Recursiva en Python: Explicación y Ejemplo**\n",
    "\n",
    "La búsqueda binaria recursiva es similar a la versión iterativa, pero en lugar de usar un bucle, se utiliza la recursión para dividir y buscar en las mitades de la lista.\n",
    "\n",
    "**Implementación del Algoritmo Recursivo:**"
   ]
  },
  {
   "cell_type": "code",
   "execution_count": 5,
   "metadata": {},
   "outputs": [
    {
     "name": "stdout",
     "output_type": "stream",
     "text": [
      "El elemento 7 se encuentra en el índice 3\n"
     ]
    }
   ],
   "source": [
    "def busqueda_binaria_recursiva(lista, objetivo, izquierda, derecha):\n",
    "    if izquierda > derecha:\n",
    "        return -1  # Elemento no encontrado\n",
    "\n",
    "    medio = (izquierda + derecha) // 2\n",
    "    elemento_medio = lista[medio]\n",
    "\n",
    "    if elemento_medio == objetivo:\n",
    "        return medio  # Se encontró el elemento en el índice 'medio'\n",
    "    elif elemento_medio < objetivo:\n",
    "        return busqueda_binaria_recursiva(lista, objetivo, medio + 1, derecha)  # Buscar en la mitad derecha\n",
    "    else:\n",
    "        return busqueda_binaria_recursiva(lista, objetivo, izquierda, medio - 1)  # Buscar en la mitad izquierda\n",
    "\n",
    "# Ejemplo de uso\n",
    "lista = [1, 3, 5, 7, 9, 11, 13, 15]\n",
    "objetivo = 7\n",
    "\n",
    "indice = busqueda_binaria_recursiva(lista, objetivo, 0, len(lista) - 1)\n",
    "if indice != -1:\n",
    "    print(f\"El elemento {objetivo} se encuentra en el índice {indice}\")\n",
    "else:\n",
    "    print(\"El elemento no fue encontrado\")"
   ]
  },
  {
   "cell_type": "markdown",
   "metadata": {},
   "source": [
    "**Explicación Paso a Paso:**\n",
    "\n",
    "1. La función `busqueda_binaria_recursiva` toma cuatro argumentos: `lista`, `objetivo`, `izquierda` y `derecha`, que representan el rango de búsqueda actual.\n",
    "2. Compara `izquierda` con `derecha`. Si `izquierda` es mayor que `derecha`, el intervalo de búsqueda se ha reducido a cero y el elemento no se ha encontrado. En este caso, la función devuelve -1.\n",
    "3. Calcula el índice del elemento medio entre `izquierda` y `derecha`.\n",
    "4. Compara el elemento medio con el valor buscado (`objetivo`).\n",
    "5. Si el elemento medio es igual al `objetivo`, se ha encontrado y se devuelve su índice.\n",
    "6. Si el elemento medio es menor que el `objetivo`, se llama recursivamente a la función en la mitad derecha de la lista.\n",
    "7. Si el elemento medio es mayor que el `objetivo`, se llama recursivamente a la función en la mitad izquierda de la lista.\n",
    "\n",
    "**Resultado del Ejemplo:**\n",
    "\n",
    "En el ejemplo proporcionado, el elemento 7 se encuentra en la lista en el índice 3, ya que 7 es igual al valor en ese índice. Por lo tanto, el programa imprimirá:\n",
    "\n",
    "```\n",
    "El elemento 7 se encuentra en el índice 3\n",
    "```\n",
    "\n",
    "**Resumen:**\n",
    "\n",
    "La búsqueda binaria recursiva divide el intervalo de búsqueda por la mitad en cada llamada recursiva, ajustando los límites izquierdo y derecho según la comparación del elemento medio con el valor buscado. Esto reduce drásticamente la cantidad de comparaciones necesarias para encontrar un elemento en una lista ordenada."
   ]
  },
  {
   "cell_type": "markdown",
   "metadata": {},
   "source": [
    "| **Inicio** | **atrás 2** | **Siguiente 4** |\n",
    "|----------- |-------------- |---------------|\n",
    "| [🏠](../../README.md) | [⏪](./2_Herencia_Polimorfismo.ipynb)| [⏩](./4_Recursividad_con_Python.ipynb)|"
   ]
  }
 ],
 "metadata": {
  "kernelspec": {
   "display_name": "base",
   "language": "python",
   "name": "python3"
  },
  "language_info": {
   "codemirror_mode": {
    "name": "ipython",
    "version": 3
   },
   "file_extension": ".py",
   "mimetype": "text/x-python",
   "name": "python",
   "nbconvert_exporter": "python",
   "pygments_lexer": "ipython3",
   "version": "3.9.12"
  },
  "orig_nbformat": 4
 },
 "nbformat": 4,
 "nbformat_minor": 2
}
