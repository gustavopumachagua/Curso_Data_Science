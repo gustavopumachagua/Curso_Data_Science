{
 "cells": [
  {
   "cell_type": "markdown",
   "metadata": {},
   "source": [
    "| **Inicio** | **atrás 7** | **Siguiente 9** |\n",
    "|----------- |-------------- |---------------|\n",
    "| [🏠](../../README.md) | [⏪](./7_Listas.ipynb)| [⏩](./9_Tuplas.ipynb)|"
   ]
  },
  {
   "cell_type": "markdown",
   "metadata": {},
   "source": [
    "# **8. Por qué y cómo utilizar Conjuntos / Sets en Python**"
   ]
  },
  {
   "cell_type": "markdown",
   "metadata": {},
   "source": [
    "## **Introducción a los conjuntos**"
   ]
  },
  {
   "cell_type": "markdown",
   "metadata": {},
   "source": [
    "**Conjuntos (Sets) en Python: Uso y Explicación Detallada**\n",
    "\n",
    "Los conjuntos, o sets en inglés, son una estructura de datos en Python que almacena elementos únicos en una colección desordenada. Los conjuntos son útiles cuando necesitas almacenar elementos sin duplicados y no te importa el orden en el que se almacenan. Aquí tienes una explicación detallada sobre por qué y cómo utilizar conjuntos en Python, junto con ejemplos:\n",
    "\n",
    "**Por qué utilizar Conjuntos:**\n",
    "\n",
    "1. **Eliminación de Duplicados:** Los conjuntos garantizan que no haya elementos duplicados. Si necesitas almacenar una colección de elementos únicos, los conjuntos son ideales para evitar repeticiones.\n",
    "\n",
    "2. **Búsqueda Eficiente:** La verificación de pertenencia (si un elemento está en un conjunto) es muy eficiente en los conjuntos, lo que los hace útiles para buscar rápidamente elementos.\n",
    "\n",
    "3. **Operaciones de Conjuntos:** Los conjuntos en Python admiten operaciones matemáticas de conjuntos como unión, intersección y diferencia.\n",
    "\n",
    "**Creación de Conjuntos:**\n",
    "\n",
    "Puedes crear conjuntos utilizando llaves `{}` o la función `set()`."
   ]
  },
  {
   "cell_type": "code",
   "execution_count": 1,
   "metadata": {},
   "outputs": [],
   "source": [
    "frutas = {\"manzana\", \"banana\", \"naranja\"}\n",
    "numeros = set([1, 2, 3, 4, 5])"
   ]
  },
  {
   "cell_type": "markdown",
   "metadata": {},
   "source": [
    "**Operaciones con Conjuntos:**\n",
    "\n",
    "Los conjuntos en Python admiten una variedad de operaciones:"
   ]
  },
  {
   "cell_type": "code",
   "execution_count": 2,
   "metadata": {},
   "outputs": [
    {
     "name": "stdout",
     "output_type": "stream",
     "text": [
      "True\n",
      "False\n"
     ]
    }
   ],
   "source": [
    "A = {1, 2, 3, 4}\n",
    "B = {3, 4, 5, 6}\n",
    "\n",
    "# Unión\n",
    "union = A | B\n",
    "\n",
    "# Intersección\n",
    "interseccion = A & B\n",
    "\n",
    "# Diferencia\n",
    "diferencia = A - B\n",
    "\n",
    "# Comprobación de pertenencia\n",
    "print(3 in A)  # Salida: True\n",
    "print(7 in B)  # Salida: False"
   ]
  },
  {
   "cell_type": "markdown",
   "metadata": {},
   "source": [
    "**Agregando y Eliminando Elementos:**\n",
    "\n",
    "Puedes agregar elementos utilizando el método `add()` y eliminar elementos usando `remove()` o `discard()`."
   ]
  },
  {
   "cell_type": "code",
   "execution_count": 3,
   "metadata": {},
   "outputs": [],
   "source": [
    "colores = {\"rojo\", \"verde\"}\n",
    "colores.add(\"azul\")\n",
    "\n",
    "colores.remove(\"rojo\")\n",
    "colores.discard(\"verde\")"
   ]
  },
  {
   "cell_type": "markdown",
   "metadata": {},
   "source": [
    "**Iteración en Conjuntos:**\n",
    "\n",
    "Puedes utilizar bucles `for` para iterar a través de los elementos en un conjunto."
   ]
  },
  {
   "cell_type": "code",
   "execution_count": 4,
   "metadata": {},
   "outputs": [
    {
     "name": "stdout",
     "output_type": "stream",
     "text": [
      "i\n",
      "u\n",
      "a\n",
      "e\n",
      "o\n"
     ]
    }
   ],
   "source": [
    "vocales = {\"a\", \"e\", \"i\", \"o\", \"u\"}\n",
    "for vocal in vocales:\n",
    "    print(vocal)"
   ]
  },
  {
   "cell_type": "markdown",
   "metadata": {},
   "source": [
    "**Uso Práctico: Eliminación de Duplicados**\n",
    "\n",
    "Los conjuntos son útiles para eliminar duplicados de una lista:"
   ]
  },
  {
   "cell_type": "code",
   "execution_count": 5,
   "metadata": {},
   "outputs": [],
   "source": [
    "nombres = [\"Alice\", \"Bob\", \"Alice\", \"Charlie\"]\n",
    "nombres_unicos = set(nombres)"
   ]
  },
  {
   "cell_type": "markdown",
   "metadata": {},
   "source": [
    "**Resumen:**\n",
    "\n",
    "Los conjuntos en Python son una estructura de datos que almacena elementos únicos en una colección desordenada. Son útiles para eliminar duplicados, realizar operaciones de conjuntos y buscar elementos eficientemente. Los conjuntos son ideales cuando el orden no importa y necesitas garantizar la unicidad de elementos. Su eficiencia en operaciones de búsqueda y eliminación de duplicados los hace valiosos en diversas aplicaciones."
   ]
  },
  {
   "cell_type": "markdown",
   "metadata": {},
   "source": [
    "## **Operaciones básicas sobre los conjuntos**"
   ]
  },
  {
   "cell_type": "markdown",
   "metadata": {},
   "source": [
    "**Operaciones Básicas sobre Conjuntos en Python: Explorando sus Funciones y Uso**\n",
    "\n",
    "Los conjuntos en Python admiten una variedad de operaciones básicas que te permiten realizar tareas como agregar, eliminar y manipular elementos únicos en una colección. Aquí tienes una explicación detallada de algunas de las operaciones básicas más comunes sobre conjuntos, junto con ejemplos:\n",
    "\n",
    "**1. Creación de Conjuntos:**\n",
    "\n",
    "Puedes crear conjuntos utilizando llaves `{}` o la función `set()`."
   ]
  },
  {
   "cell_type": "code",
   "execution_count": 6,
   "metadata": {},
   "outputs": [],
   "source": [
    "frutas = {\"manzana\", \"banana\", \"naranja\"}\n",
    "numeros = set([1, 2, 3, 4, 5])"
   ]
  },
  {
   "cell_type": "markdown",
   "metadata": {},
   "source": [
    "**2. Agregar Elementos:**\n",
    "\n",
    "Puedes agregar elementos a un conjunto utilizando el método `add()`."
   ]
  },
  {
   "cell_type": "code",
   "execution_count": 7,
   "metadata": {},
   "outputs": [],
   "source": [
    "colores = {\"rojo\", \"verde\"}\n",
    "colores.add(\"azul\")"
   ]
  },
  {
   "cell_type": "markdown",
   "metadata": {},
   "source": [
    "**3. Eliminar Elementos:**\n",
    "\n",
    "Puedes eliminar elementos de un conjunto utilizando los métodos `remove()` o `discard()`."
   ]
  },
  {
   "cell_type": "code",
   "execution_count": 8,
   "metadata": {},
   "outputs": [],
   "source": [
    "colores.remove(\"rojo\")\n",
    "colores.discard(\"verde\")"
   ]
  },
  {
   "cell_type": "markdown",
   "metadata": {},
   "source": [
    "**4. Comprobación de Pertenencia:**\n",
    "\n",
    "Puedes verificar si un elemento está presente en un conjunto utilizando el operador `in`."
   ]
  },
  {
   "cell_type": "code",
   "execution_count": 9,
   "metadata": {},
   "outputs": [
    {
     "name": "stdout",
     "output_type": "stream",
     "text": [
      "True\n",
      "False\n"
     ]
    }
   ],
   "source": [
    "vocales = {\"a\", \"e\", \"i\", \"o\", \"u\"}\n",
    "print(\"a\" in vocales)  # Salida: True\n",
    "print(\"x\" in vocales)  # Salida: False"
   ]
  },
  {
   "cell_type": "markdown",
   "metadata": {},
   "source": [
    "**5. Iteración en Conjuntos:**\n",
    "\n",
    "Puedes utilizar bucles `for` para iterar a través de los elementos en un conjunto."
   ]
  },
  {
   "cell_type": "code",
   "execution_count": null,
   "metadata": {},
   "outputs": [],
   "source": [
    "frutas = {\"manzana\", \"banana\", \"naranja\"}\n",
    "for fruta in frutas:\n",
    "    print(fruta)"
   ]
  },
  {
   "cell_type": "markdown",
   "metadata": {},
   "source": [
    "**6. Longitud de un Conjunto:**\n",
    "\n",
    "Puedes obtener la cantidad de elementos en un conjunto utilizando la función `len()`."
   ]
  },
  {
   "cell_type": "code",
   "execution_count": 10,
   "metadata": {},
   "outputs": [],
   "source": [
    "numeros = {1, 2, 3, 4, 5}\n",
    "cantidad = len(numeros)  # Cantidad: 5"
   ]
  },
  {
   "cell_type": "markdown",
   "metadata": {},
   "source": [
    "**7. Operaciones de Conjuntos:**\n",
    "\n",
    "Los conjuntos admiten operaciones de conjuntos como unión, intersección y diferencia."
   ]
  },
  {
   "cell_type": "code",
   "execution_count": 11,
   "metadata": {},
   "outputs": [],
   "source": [
    "A = {1, 2, 3, 4}\n",
    "B = {3, 4, 5, 6}\n",
    "\n",
    "# Unión\n",
    "union = A | B\n",
    "\n",
    "# Intersección\n",
    "interseccion = A & B\n",
    "\n",
    "# Diferencia\n",
    "diferencia = A - B"
   ]
  },
  {
   "cell_type": "markdown",
   "metadata": {},
   "source": [
    "**8. Conversión a Lista:**\n",
    "\n",
    "Puedes convertir un conjunto en una lista utilizando la función `list()`."
   ]
  },
  {
   "cell_type": "code",
   "execution_count": 12,
   "metadata": {},
   "outputs": [],
   "source": [
    "colores = {\"rojo\", \"verde\", \"azul\"}\n",
    "lista_colores = list(colores)"
   ]
  },
  {
   "cell_type": "markdown",
   "metadata": {},
   "source": [
    "**Resumen:**\n",
    "\n",
    "Las operaciones básicas sobre conjuntos en Python te permiten agregar, eliminar, verificar pertenencia, iterar y realizar operaciones de conjuntos en colecciones únicas de elementos. Los conjuntos son especialmente útiles cuando necesitas almacenar elementos sin duplicados y realizar operaciones de conjuntos eficientes como unión, intersección y diferencia. Su simplicidad y eficiencia los convierten en una herramienta valiosa en la programación."
   ]
  },
  {
   "cell_type": "markdown",
   "metadata": {},
   "source": [
    "| **Inicio** | **atrás 7** | **Siguiente 9** |\n",
    "|----------- |-------------- |---------------|\n",
    "| [🏠](../../README.md) | [⏪](./7_Listas.ipynb)| [⏩](./9_Tuplas.ipynb)|"
   ]
  }
 ],
 "metadata": {
  "kernelspec": {
   "display_name": "base",
   "language": "python",
   "name": "python3"
  },
  "language_info": {
   "codemirror_mode": {
    "name": "ipython",
    "version": 3
   },
   "file_extension": ".py",
   "mimetype": "text/x-python",
   "name": "python",
   "nbconvert_exporter": "python",
   "pygments_lexer": "ipython3",
   "version": "3.9.12"
  },
  "orig_nbformat": 4
 },
 "nbformat": 4,
 "nbformat_minor": 2
}
