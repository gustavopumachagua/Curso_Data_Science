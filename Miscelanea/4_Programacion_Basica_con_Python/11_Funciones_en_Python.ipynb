{
 "cells": [
  {
   "cell_type": "markdown",
   "metadata": {},
   "source": [
    "| **Inicio** | **atrás 10** | **Siguiente 12** |\n",
    "|----------- |-------------- |---------------|\n",
    "| [🏠](../../README.md) | [⏪](./10_Ciclos_While_&_For.ipynb)| [⏩](./12_Parametros_por_Referencia.ipynb)|"
   ]
  },
  {
   "cell_type": "markdown",
   "metadata": {},
   "source": [
    "# **11. Para qué y cómo crear Funciones en Python**"
   ]
  },
  {
   "cell_type": "markdown",
   "metadata": {},
   "source": [
    "## **Introducción a las funciones**"
   ]
  },
  {
   "cell_type": "markdown",
   "metadata": {},
   "source": [
    "**Creación de Funciones en Python: Explicación Detallada con Ejemplos**\n",
    "\n",
    "Las funciones en Python son bloques de código que se pueden definir una vez y luego reutilizar en diferentes partes de un programa. Son esenciales para organizar el código, hacerlo más legible, modular y mantenerlo eficiente. Aquí tienes una explicación detallada de por qué y cómo crear funciones en Python, junto con ejemplos:\n",
    "\n",
    "**Por qué crear Funciones:**\n",
    "\n",
    "1. **Reusabilidad:** Una función permite definir una tarea una vez y reutilizarla en múltiples lugares, evitando la duplicación de código.\n",
    "\n",
    "2. **Legibilidad:** Al dividir el código en funciones, puedes hacer que sea más fácil de entender y mantener.\n",
    "\n",
    "3. **Modularidad:** Las funciones dividen el programa en módulos más pequeños y manejables, lo que facilita la colaboración y el desarrollo por partes.\n",
    "\n",
    "4. **Depuración Eficiente:** Si un error ocurre en una función, solo necesitas buscar en esa función en lugar de todo el código.\n",
    "\n",
    "**Sintaxis para Crear una Función:**\n",
    "\n",
    "La sintaxis básica para definir una función en Python es la siguiente:\n",
    "\n",
    "```python\n",
    "def nombre_de_funcion(parametros):\n",
    "    # Bloque de código de la función\n",
    "    return resultado\n",
    "```\n",
    "\n",
    "**Ejemplo: Función para Sumar Dos Números**"
   ]
  },
  {
   "cell_type": "code",
   "execution_count": 1,
   "metadata": {},
   "outputs": [],
   "source": [
    "def sumar(a, b):\n",
    "    resultado = a + b\n",
    "    return resultado"
   ]
  },
  {
   "cell_type": "markdown",
   "metadata": {},
   "source": [
    "**Cómo Llamar a una Función:**\n",
    "\n",
    "Después de definir una función, puedes llamarla utilizando su nombre y proporcionando los argumentos requeridos:"
   ]
  },
  {
   "cell_type": "code",
   "execution_count": 2,
   "metadata": {},
   "outputs": [
    {
     "name": "stdout",
     "output_type": "stream",
     "text": [
      "8\n"
     ]
    }
   ],
   "source": [
    "resultado_suma = sumar(3, 5)\n",
    "print(resultado_suma)  # Salida: 8"
   ]
  },
  {
   "cell_type": "markdown",
   "metadata": {},
   "source": [
    "**Funciones con y sin Retorno:**\n",
    "\n",
    "Las funciones pueden o no devolver un valor. Si no se especifica un valor de retorno, la función devuelve `None` por defecto.\n",
    "\n",
    "**Ejemplo: Función que Imprime un Mensaje**"
   ]
  },
  {
   "cell_type": "code",
   "execution_count": 3,
   "metadata": {},
   "outputs": [],
   "source": [
    "def saludar(nombre):\n",
    "    print(\"¡Hola,\", nombre, \"!\")"
   ]
  },
  {
   "cell_type": "markdown",
   "metadata": {},
   "source": [
    "**Ejemplo: Función que Calcula el Factorial**"
   ]
  },
  {
   "cell_type": "code",
   "execution_count": 4,
   "metadata": {},
   "outputs": [],
   "source": [
    "def factorial(n):\n",
    "    if n == 0 or n == 1:\n",
    "        return 1\n",
    "    else:\n",
    "        return n * factorial(n - 1)"
   ]
  },
  {
   "cell_type": "markdown",
   "metadata": {},
   "source": [
    "**Argumentos por Defecto:**\n",
    "\n",
    "Puedes asignar valores predeterminados a los parámetros de una función. Estos valores se utilizan si no se proporcionan argumentos durante la llamada a la función.\n",
    "\n",
    "**Ejemplo: Función con Argumento por Defecto**"
   ]
  },
  {
   "cell_type": "code",
   "execution_count": 5,
   "metadata": {},
   "outputs": [],
   "source": [
    "def saludar(nombre=\"Invitado\"):\n",
    "    print(\"¡Hola,\", nombre, \"!\")"
   ]
  },
  {
   "cell_type": "markdown",
   "metadata": {},
   "source": [
    "**Resumen:**\n",
    "\n",
    "Las funciones en Python son esenciales para organizar, reutilizar y mantener el código. Se definen usando la sintaxis `def`, se llaman proporcionando argumentos y pueden tener o no un valor de retorno. Pueden tomar argumentos por defecto y ayudan a modularizar y mejorar la legibilidad del código. Utiliza funciones para dividir tareas en bloques más pequeños y fáciles de gestionar, lo que facilita el desarrollo y el mantenimiento del programa."
   ]
  },
  {
   "cell_type": "markdown",
   "metadata": {},
   "source": [
    "## **Ejemplo de función para sumar números**"
   ]
  },
  {
   "cell_type": "markdown",
   "metadata": {},
   "source": [
    "**Ejemplo de Función para Sumar Números en Python: Explicación Detallada**\n",
    "\n",
    "En este ejemplo, crearemos una función llamada `sumar` que tomará dos números como argumentos y devolverá su suma. A continuación, te proporciono una explicación detallada del proceso, junto con el código de ejemplo:\n",
    "\n",
    "**Paso 1: Definir la Función:**\n",
    "\n",
    "Primero, definiremos la función `sumar` utilizando la sintaxis `def`, seguida del nombre de la función y los parámetros entre paréntesis."
   ]
  },
  {
   "cell_type": "code",
   "execution_count": 6,
   "metadata": {},
   "outputs": [],
   "source": [
    "def sumar(a, b):\n",
    "    resultado = a + b\n",
    "    return resultado"
   ]
  },
  {
   "cell_type": "markdown",
   "metadata": {},
   "source": [
    "En este caso, la función `sumar` toma dos parámetros `a` y `b` que representan los números que queremos sumar.\n",
    "\n",
    "**Paso 2: Calcular la Suma:**\n",
    "\n",
    "Dentro del cuerpo de la función, calculamos la suma de los dos números `a` y `b` y la almacenamos en una variable llamada `resultado`.\n",
    "\n",
    "**Paso 3: Retornar el Resultado:**\n",
    "\n",
    "Luego, utilizamos la palabra clave `return` para devolver el valor de la variable `resultado` como resultado de la función.\n",
    "\n",
    "**Ejemplo de Llamada a la Función:**\n",
    "\n",
    "Después de definir la función `sumar`, podemos llamarla proporcionando dos números como argumentos."
   ]
  },
  {
   "cell_type": "code",
   "execution_count": 7,
   "metadata": {},
   "outputs": [
    {
     "name": "stdout",
     "output_type": "stream",
     "text": [
      "8\n"
     ]
    }
   ],
   "source": [
    "resultado_suma = sumar(3, 5)\n",
    "print(resultado_suma)  # Salida: 8"
   ]
  },
  {
   "cell_type": "markdown",
   "metadata": {},
   "source": [
    "En este caso, estamos sumando los números 3 y 5 utilizando la función `sumar` y almacenando el resultado en la variable `resultado_suma`. Luego, imprimimos el resultado, que es 8.\n",
    "\n",
    "**Resumen:**\n",
    "\n",
    "Este ejemplo demuestra cómo crear y utilizar una función en Python para sumar dos números. Definimos la función `sumar`, que toma dos parámetros y devuelve la suma de esos números. Luego, llamamos a la función proporcionando los números 3 y 5 como argumentos y mostramos el resultado. Las funciones son útiles para encapsular tareas específicas y reutilizar código de manera eficiente."
   ]
  },
  {
   "cell_type": "markdown",
   "metadata": {},
   "source": [
    "## **Funciones con múltiples parámetros de entrada**"
   ]
  },
  {
   "cell_type": "markdown",
   "metadata": {},
   "source": [
    "**Funciones con Múltiples Parámetros de Entrada en Python: Explicación Detallada con Ejemplos**\n",
    "\n",
    "En Python, las funciones pueden tener múltiples parámetros de entrada, lo que permite pasar más de un valor cuando se llama a la función. Esto es especialmente útil cuando una función necesita trabajar con varios datos o realizar operaciones que involucran varios valores. Aquí tienes una explicación detallada junto con ejemplos de cómo trabajar con funciones que tienen múltiples parámetros de entrada:\n",
    "\n",
    "**Sintaxis para Definir Funciones con Múltiples Parámetros:**\n",
    "\n",
    "La sintaxis básica para definir una función con múltiples parámetros es la siguiente:\n",
    "\n",
    "```python\n",
    "def nombre_de_funcion(parametro1, parametro2, ...):\n",
    "    # Bloque de código de la función\n",
    "    return resultado\n",
    "```\n",
    "\n",
    "**Ejemplo: Función para Calcular el Promedio de Tres Números**\n",
    "\n",
    "En este ejemplo, crearemos una función llamada `calcular_promedio` que tomará tres números como argumentos y devolverá su promedio."
   ]
  },
  {
   "cell_type": "code",
   "execution_count": 8,
   "metadata": {},
   "outputs": [],
   "source": [
    "def calcular_promedio(a, b, c):\n",
    "    suma = a + b + c\n",
    "    promedio = suma / 3\n",
    "    return promedio"
   ]
  },
  {
   "cell_type": "markdown",
   "metadata": {},
   "source": [
    "**Ejemplo de Llamada a la Función con Múltiples Parámetros:**\n",
    "\n",
    "Después de definir la función `calcular_promedio`, podemos llamarla proporcionando tres números como argumentos."
   ]
  },
  {
   "cell_type": "code",
   "execution_count": 9,
   "metadata": {},
   "outputs": [
    {
     "name": "stdout",
     "output_type": "stream",
     "text": [
      "El promedio es: 7.0\n"
     ]
    }
   ],
   "source": [
    "promedio_resultante = calcular_promedio(4, 7, 10)\n",
    "print(\"El promedio es:\", promedio_resultante)"
   ]
  },
  {
   "cell_type": "markdown",
   "metadata": {},
   "source": [
    "En este caso, la función `calcular_promedio` toma tres parámetros `a`, `b` y `c`, que representan los números que queremos promediar. Luego, sumamos los tres números, calculamos el promedio y lo retornamos. La llamada a la función con los valores 4, 7 y 10 nos dará un promedio de 7.\n",
    "\n",
    "**Ejemplo: Función con Parámetros por Defecto**\n",
    "\n",
    "Puedes asignar valores predeterminados a algunos de los parámetros de la función. Esto permite que la función sea llamada sin proporcionar todos los argumentos."
   ]
  },
  {
   "cell_type": "code",
   "execution_count": 10,
   "metadata": {},
   "outputs": [],
   "source": [
    "def saludar(nombre, mensaje=\"¡Hola!\"):\n",
    "    print(mensaje, nombre)"
   ]
  },
  {
   "cell_type": "markdown",
   "metadata": {},
   "source": [
    "**Ejemplo de Llamada a la Función con Parámetro por Defecto:**"
   ]
  },
  {
   "cell_type": "code",
   "execution_count": 11,
   "metadata": {},
   "outputs": [
    {
     "name": "stdout",
     "output_type": "stream",
     "text": [
      "¡Hola! Alice\n",
      "¡Hola, qué tal! Bob\n"
     ]
    }
   ],
   "source": [
    "saludar(\"Alice\")  # Salida: ¡Hola! Alice\n",
    "saludar(\"Bob\", \"¡Hola, qué tal!\")  # Salida: ¡Hola, qué tal! Bob"
   ]
  },
  {
   "cell_type": "markdown",
   "metadata": {},
   "source": [
    "**Resumen:**\n",
    "\n",
    "Las funciones en Python pueden tener múltiples parámetros de entrada, lo que permite trabajar con varios valores al mismo tiempo. Puedes definir parámetros por defecto para permitir llamadas de función más flexibles. La clave es mantener la coherencia entre el número y el orden de los argumentos en las llamadas a la función y en la definición de la función. Las funciones con múltiples parámetros son esenciales para manipular y procesar datos de manera más eficiente y organizada."
   ]
  },
  {
   "cell_type": "markdown",
   "metadata": {},
   "source": [
    "## **Ejemplo de función para imprimir credenciales**"
   ]
  },
  {
   "cell_type": "markdown",
   "metadata": {},
   "source": [
    "**Ejemplo de Función para Imprimir Credenciales en Python: Explicación Detallada**\n",
    "\n",
    "En este ejemplo, crearemos una función llamada `imprimir_credenciales` que tomará dos parámetros: el nombre de usuario y la contraseña. La función imprimirá las credenciales en un formato legible. A continuación, te proporciono una explicación detallada del proceso, junto con el código de ejemplo:\n",
    "\n",
    "**Paso 1: Definir la Función:**\n",
    "\n",
    "Primero, definiremos la función `imprimir_credenciales` utilizando la sintaxis `def`, seguida del nombre de la función y los parámetros entre paréntesis."
   ]
  },
  {
   "cell_type": "code",
   "execution_count": 12,
   "metadata": {},
   "outputs": [],
   "source": [
    "def imprimir_credenciales(usuario, contrasena):\n",
    "    print(\"Credenciales:\")\n",
    "    print(\"Usuario:\", usuario)\n",
    "    print(\"Contraseña:\", contrasena)"
   ]
  },
  {
   "cell_type": "markdown",
   "metadata": {},
   "source": [
    "En este caso, la función `imprimir_credenciales` toma dos parámetros `usuario` y `contrasena`, que representan los datos que queremos imprimir.\n",
    "\n",
    "**Paso 2: Imprimir las Credenciales:**\n",
    "\n",
    "Dentro del cuerpo de la función, utilizamos las funciones `print()` para imprimir las credenciales en un formato legible. Utilizamos los valores de los parámetros `usuario` y `contrasena` en las impresiones correspondientes.\n",
    "\n",
    "**Ejemplo de Llamada a la Función:**\n",
    "\n",
    "Después de definir la función `imprimir_credenciales`, podemos llamarla proporcionando un nombre de usuario y una contraseña como argumentos."
   ]
  },
  {
   "cell_type": "code",
   "execution_count": 13,
   "metadata": {},
   "outputs": [
    {
     "name": "stdout",
     "output_type": "stream",
     "text": [
      "Credenciales:\n",
      "Usuario: usuario123\n",
      "Contraseña: secreto456\n"
     ]
    }
   ],
   "source": [
    "imprimir_credenciales(\"usuario123\", \"secreto456\")"
   ]
  },
  {
   "cell_type": "markdown",
   "metadata": {},
   "source": [
    "En este caso, estamos llamando a la función `imprimir_credenciales` con los valores `\"usuario123\"` y `\"secreto456\"` como argumentos. La función imprimirá las credenciales en el formato especificado.\n",
    "\n",
    "**Resultado de Ejecución:**\n",
    "\n",
    "```\n",
    "Credenciales:\n",
    "Usuario: usuario123\n",
    "Contraseña: secreto456\n",
    "```\n",
    "\n",
    "**Resumen:**\n",
    "\n",
    "Este ejemplo demuestra cómo crear y utilizar una función en Python para imprimir credenciales. Definimos la función `imprimir_credenciales`, que toma dos parámetros y los imprime en un formato legible. Luego, llamamos a la función con valores específicos para el usuario y la contraseña. Las funciones son útiles para encapsular tareas específicas, como la impresión de datos, y reutilizar el código de manera eficiente."
   ]
  },
  {
   "cell_type": "markdown",
   "metadata": {},
   "source": [
    "## **Parámetros con valores por defecto**"
   ]
  },
  {
   "cell_type": "markdown",
   "metadata": {},
   "source": [
    "**Parámetros con Valores por Defecto en Python: Explicación Detallada con Ejemplos**\n",
    "\n",
    "En Python, puedes asignar valores predeterminados a los parámetros de una función. Esto permite que la función sea llamada sin proporcionar todos los argumentos, y los valores predeterminados se utilizarán en su lugar. Aquí tienes una explicación detallada junto con ejemplos de cómo trabajar con parámetros con valores por defecto:\n",
    "\n",
    "**Sintaxis para Parámetros con Valores por Defecto:**\n",
    "\n",
    "La sintaxis básica para definir una función con parámetros con valores por defecto es la siguiente:\n",
    "\n",
    "```python\n",
    "def nombre_de_funcion(parametro1=valor_predeterminado1, parametro2=valor_predeterminado2, ...):\n",
    "    # Bloque de código de la función\n",
    "    return resultado\n",
    "```\n",
    "\n",
    "**Ejemplo: Función que Saluda con Mensaje por Defecto**\n",
    "\n",
    "En este ejemplo, crearemos una función llamada `saludar` que tomará un parámetro `nombre` y un parámetro `mensaje`. El parámetro `mensaje` tendrá un valor por defecto de \"¡Hola!\"."
   ]
  },
  {
   "cell_type": "code",
   "execution_count": 14,
   "metadata": {},
   "outputs": [],
   "source": [
    "def saludar(nombre, mensaje=\"¡Hola!\"):\n",
    "    print(mensaje, nombre)"
   ]
  },
  {
   "cell_type": "markdown",
   "metadata": {},
   "source": [
    "**Ejemplo de Llamadas a la Función con Parámetros por Defecto:**"
   ]
  },
  {
   "cell_type": "code",
   "execution_count": 15,
   "metadata": {},
   "outputs": [
    {
     "name": "stdout",
     "output_type": "stream",
     "text": [
      "¡Hola! Alice\n",
      "¡Hola de nuevo! Bob\n"
     ]
    }
   ],
   "source": [
    "saludar(\"Alice\")  # Salida: ¡Hola! Alice\n",
    "saludar(\"Bob\", \"¡Hola de nuevo!\")  # Salida: ¡Hola de nuevo! Bob"
   ]
  },
  {
   "cell_type": "markdown",
   "metadata": {},
   "source": [
    "En el primer caso, solo proporcionamos el argumento `nombre`, y como no se proporciona un valor para `mensaje`, se utiliza el valor por defecto \"¡Hola!\".\n",
    "\n",
    "En el segundo caso, proporcionamos tanto el argumento `nombre` como el argumento `mensaje`, y el valor del parámetro `mensaje` se reemplaza por \"¡Hola de nuevo!\".\n",
    "\n",
    "**Resumen:**\n",
    "\n",
    "Los parámetros con valores por defecto en Python permiten hacer llamadas a funciones más flexibles, ya que no siempre es necesario proporcionar todos los argumentos. Los valores predeterminados se utilizan si no se proporcionan valores específicos durante la llamada a la función. Esto es especialmente útil cuando una función tiene argumentos opcionales o valores predeterminados que son comunes en la mayoría de las llamadas. Asegúrate de tener coherencia entre los parámetros en la definición de la función y los argumentos en las llamadas a la función."
   ]
  },
  {
   "cell_type": "markdown",
   "metadata": {},
   "source": [
    "## **(Des)orden de los parámetros de las funciones**"
   ]
  },
  {
   "cell_type": "markdown",
   "metadata": {},
   "source": [
    "**(Des)orden de los Parámetros de las Funciones en Python: Explicación Detallada con Ejemplos**\n",
    "\n",
    "En Python, el orden de los parámetros en las funciones es importante, ya que determina cómo se deben pasar los argumentos cuando se llama a la función. Cambiar el orden de los argumentos en la llamada a una función puede dar lugar a resultados inesperados o errores. Aquí tienes una explicación detallada sobre el orden de los parámetros y cómo evitar errores, junto con ejemplos:\n",
    "\n",
    "**Orden de los Parámetros:**\n",
    "\n",
    "El orden de los parámetros en la llamada a una función debe coincidir con el orden en que fueron definidos en la función. Cada argumento debe coincidir con su parámetro correspondiente.\n",
    "\n",
    "**Ejemplo: Función con Parámetros**"
   ]
  },
  {
   "cell_type": "code",
   "execution_count": 16,
   "metadata": {},
   "outputs": [],
   "source": [
    "def saludar(nombre, edad):\n",
    "    print(\"Hola,\", nombre, \". Tienes\", edad, \"años.\")"
   ]
  },
  {
   "cell_type": "markdown",
   "metadata": {},
   "source": [
    "**Ejemplo de Llamada Correcta:**"
   ]
  },
  {
   "cell_type": "code",
   "execution_count": 17,
   "metadata": {},
   "outputs": [
    {
     "name": "stdout",
     "output_type": "stream",
     "text": [
      "Hola, Alice . Tienes 30 años.\n"
     ]
    }
   ],
   "source": [
    "saludar(\"Alice\", 30)  # Salida: Hola, Alice. Tienes 30 años."
   ]
  },
  {
   "cell_type": "markdown",
   "metadata": {},
   "source": [
    "En esta llamada a la función, proporcionamos `\"Alice\"` como el primer argumento, que coincide con el primer parámetro `nombre`, y proporcionamos `30` como el segundo argumento, que coincide con el segundo parámetro `edad`.\n",
    "\n",
    "**Ejemplo de Llamada Incorrecta:**"
   ]
  },
  {
   "cell_type": "code",
   "execution_count": 18,
   "metadata": {},
   "outputs": [
    {
     "name": "stdout",
     "output_type": "stream",
     "text": [
      "Hola, 30 . Tienes Alice años.\n"
     ]
    }
   ],
   "source": [
    "saludar(30, \"Alice\")  # Error: La edad debe ser un número, no un nombre."
   ]
  },
  {
   "cell_type": "markdown",
   "metadata": {},
   "source": [
    "En esta llamada a la función, intercambiamos el orden de los argumentos. Proporcionamos `30` como el primer argumento, que debería coincidir con `nombre`, y `\"Alice\"` como el segundo argumento, que debería coincidir con `edad`. Esto causa un error porque la edad debería ser un número y no un nombre.\n",
    "\n",
    "**Orden de los Argumentos en Funciones con Valores por Defecto:**\n",
    "\n",
    "Si una función tiene parámetros con valores por defecto, puedes omitir argumentos durante la llamada. Sin embargo, si deseas proporcionar un argumento para un parámetro que no sea el primero, debes usar su nombre para evitar confusiones.\n",
    "\n",
    "**Ejemplo: Función con Parámetro por Defecto**"
   ]
  },
  {
   "cell_type": "code",
   "execution_count": 19,
   "metadata": {},
   "outputs": [],
   "source": [
    "def saludar(nombre, mensaje=\"¡Hola!\"):\n",
    "    print(mensaje, nombre)"
   ]
  },
  {
   "cell_type": "markdown",
   "metadata": {},
   "source": [
    "**Ejemplo de Llamada con Parámetro por Defecto:**"
   ]
  },
  {
   "cell_type": "code",
   "execution_count": 20,
   "metadata": {},
   "outputs": [
    {
     "name": "stdout",
     "output_type": "stream",
     "text": [
      "¡Hola! Alice\n"
     ]
    }
   ],
   "source": [
    "saludar(\"Alice\")  # Salida: ¡Hola! Alice"
   ]
  },
  {
   "cell_type": "markdown",
   "metadata": {},
   "source": [
    "**Ejemplo de Llamada con Cambio de Orden y Parámetro por Defecto:**"
   ]
  },
  {
   "cell_type": "code",
   "execution_count": 21,
   "metadata": {},
   "outputs": [
    {
     "name": "stdout",
     "output_type": "stream",
     "text": [
      "¡Hola de nuevo! Bob\n"
     ]
    }
   ],
   "source": [
    "saludar(mensaje=\"¡Hola de nuevo!\", nombre=\"Bob\")  # Salida: ¡Hola de nuevo! Bob"
   ]
  },
  {
   "cell_type": "markdown",
   "metadata": {},
   "source": [
    "En esta llamada a la función, hemos proporcionado el argumento `\"¡Hola de nuevo!\"` para el parámetro `mensaje` utilizando su nombre. Esto nos permite cambiar el orden de los argumentos y mantener el significado correcto.\n",
    "\n",
    "**Resumen:**\n",
    "\n",
    "El orden de los parámetros en las funciones es crucial para garantizar que los argumentos se pasen correctamente y que los resultados sean los esperados. Si una función tiene parámetros con valores por defecto, puedes cambiar el orden de los argumentos utilizando sus nombres. Mantén el orden correcto y asegúrate de que los argumentos coincidan con los parámetros correspondientes para evitar errores y resultados inesperados."
   ]
  },
  {
   "cell_type": "markdown",
   "metadata": {},
   "source": [
    "## **Ejemplo de función clave poblacional**"
   ]
  },
  {
   "cell_type": "markdown",
   "metadata": {},
   "source": [
    "**Función de Clave Poblacional en Python: Ejemplo y Explicación Detallada**\n",
    "\n",
    "En este ejemplo, crearemos una función llamada `calcular_clave_poblacional` que tomará dos parámetros: el número total de habitantes en una ciudad y la tasa de crecimiento anual. La función calculará y devolverá la población estimada después de un cierto número de años. A continuación, proporciono una explicación detallada del proceso, junto con el código de ejemplo:\n",
    "\n",
    "**Paso 1: Definir la Función:**\n",
    "\n",
    "Primero, definiremos la función `calcular_clave_poblacional` utilizando la sintaxis `def`, seguida del nombre de la función y los parámetros entre paréntesis."
   ]
  },
  {
   "cell_type": "code",
   "execution_count": 22,
   "metadata": {},
   "outputs": [],
   "source": [
    "def calcular_clave_poblacional(poblacion_actual, tasa_crecimiento, anios):\n",
    "    poblacion_futura = poblacion_actual * (1 + tasa_crecimiento/100)**anios\n",
    "    return poblacion_futura"
   ]
  },
  {
   "cell_type": "markdown",
   "metadata": {},
   "source": [
    "En este caso, la función `calcular_clave_poblacional` toma tres parámetros: `poblacion_actual`, `tasa_crecimiento` y `anios`.\n",
    "\n",
    "**Paso 2: Calcular la Población Futura:**\n",
    "\n",
    "Dentro del cuerpo de la función, calculamos la población futura utilizando la fórmula del interés compuesto: `poblacion_actual * (1 + tasa_crecimiento/100)**anios`.\n",
    "\n",
    "**Paso 3: Retornar el Resultado:**\n",
    "\n",
    "Luego, utilizamos la palabra clave `return` para devolver el valor de `poblacion_futura` como resultado de la función.\n",
    "\n",
    "**Ejemplo de Llamada a la Función:**\n",
    "\n",
    "Después de definir la función `calcular_clave_poblacional`, podemos llamarla proporcionando la población actual, la tasa de crecimiento y el número de años."
   ]
  },
  {
   "cell_type": "code",
   "execution_count": 23,
   "metadata": {},
   "outputs": [
    {
     "name": "stdout",
     "output_type": "stream",
     "text": [
      "La población estimada después de 5 años es: 110408.08032000001\n"
     ]
    }
   ],
   "source": [
    "poblacion_estimada = calcular_clave_poblacional(100000, 2, 5)\n",
    "print(\"La población estimada después de 5 años es:\", poblacion_estimada)"
   ]
  },
  {
   "cell_type": "markdown",
   "metadata": {},
   "source": [
    "En este caso, estamos calculando la población estimada después de 5 años con una población actual de 100,000 habitantes y una tasa de crecimiento del 2% anual.\n",
    "\n",
    "**Resultado de Ejecución:**\n",
    "\n",
    "```\n",
    "La población estimada después de 5 años es: 110408.08032\n",
    "```\n",
    "\n",
    "**Resumen:**\n",
    "\n",
    "Este ejemplo demuestra cómo crear y utilizar una función en Python para calcular una población estimada utilizando una tasa de crecimiento. Definimos la función `calcular_clave_poblacional`, que toma tres parámetros y calcula la población futura utilizando la fórmula del interés compuesto. Luego, llamamos a la función con valores específicos para la población actual, la tasa de crecimiento y el número de años, y mostramos el resultado estimado. Las funciones son útiles para encapsular operaciones específicas y reutilizar el código de manera eficiente."
   ]
  },
  {
   "cell_type": "markdown",
   "metadata": {},
   "source": [
    "| **Inicio** | **atrás 10** | **Siguiente 12** |\n",
    "|----------- |-------------- |---------------|\n",
    "| [🏠](../../README.md) | [⏪](./10_Ciclos_While_&_For.ipynb)| [⏩](./12_Parametros_por_Referencia.ipynb)|"
   ]
  }
 ],
 "metadata": {
  "kernelspec": {
   "display_name": "base",
   "language": "python",
   "name": "python3"
  },
  "language_info": {
   "codemirror_mode": {
    "name": "ipython",
    "version": 3
   },
   "file_extension": ".py",
   "mimetype": "text/x-python",
   "name": "python",
   "nbconvert_exporter": "python",
   "pygments_lexer": "ipython3",
   "version": "3.9.12"
  },
  "orig_nbformat": 4
 },
 "nbformat": 4,
 "nbformat_minor": 2
}
