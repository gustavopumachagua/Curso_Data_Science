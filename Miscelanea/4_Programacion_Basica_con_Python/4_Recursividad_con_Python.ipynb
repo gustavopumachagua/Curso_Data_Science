{
 "cells": [
  {
   "cell_type": "markdown",
   "metadata": {},
   "source": [
    "| **Inicio** | **atrás 3** | **Siguiente 5** |\n",
    "|----------- |-------------- |---------------|\n",
    "| [🏠](../../README.md) | [⏪](./3_Iterativa_y_Recursiva.ipynb)| [⏩](./5_Variables_y_Tipos_de_Datos.ipynb)|"
   ]
  },
  {
   "cell_type": "markdown",
   "metadata": {},
   "source": [
    "# **4. Recursividad con Python: Ventajas y Desventajas**"
   ]
  },
  {
   "cell_type": "markdown",
   "metadata": {},
   "source": [
    "## **Introducción a la Recursividad**"
   ]
  },
  {
   "cell_type": "markdown",
   "metadata": {},
   "source": [
    "**Recursividad en Python: Explicación Detallada con Ejemplos**\n",
    "\n",
    "La recursividad es un concepto en programación en el cual una función se llama a sí misma para resolver un problema. Es una técnica poderosa que se utiliza para dividir problemas complejos en problemas más pequeños y manejables. En Python, puedes crear funciones recursivas que llaman a sí mismas para realizar tareas repetitivas.\n",
    "\n",
    "**Ejemplo Simple de Recursividad: Factorial**\n",
    "\n",
    "Un ejemplo clásico de recursividad es el cálculo del factorial de un número. El factorial de un número entero positivo ($n$) se calcula como ($n! = n \\cdot (n-1) \\cdot (n-2) \\cdot \\ldots \\cdot 1$)."
   ]
  },
  {
   "cell_type": "code",
   "execution_count": 1,
   "metadata": {},
   "outputs": [
    {
     "name": "stdout",
     "output_type": "stream",
     "text": [
      "120\n"
     ]
    }
   ],
   "source": [
    "def factorial(n):\n",
    "    if n == 0 or n == 1:\n",
    "        return 1\n",
    "    else:\n",
    "        return n * factorial(n - 1)\n",
    "\n",
    "resultado = factorial(5)  # Calcula el factorial de 5\n",
    "print(resultado)  # Salida: 120"
   ]
  },
  {
   "cell_type": "markdown",
   "metadata": {},
   "source": [
    "**Ventajas de la Recursividad:**\n",
    "\n",
    "1. **Elegancia y Claridad:** La recursividad puede llevar a una representación más clara y concisa de problemas complejos. Puede hacer que el código sea más fácil de entender.\n",
    "\n",
    "2. **División de Problemas:** Permite dividir un problema grande en problemas más pequeños y manejables. Cada llamada recursiva resuelve un subproblema, y la solución global se construye a partir de las soluciones de los subproblemas.\n",
    "\n",
    "3. **Utilidad en Problemas Matemáticos:** Muchos problemas matemáticos y algoritmos se pueden describir y resolver de manera natural con recursividad, como la búsqueda en árboles y la manipulación de listas.\n",
    "\n",
    "**Desventajas de la Recursividad:**\n",
    "\n",
    "1. **Consumo de Memoria:** Cada llamada recursiva crea una nueva instancia de la función en la pila de llamadas. Esto puede llevar a un alto consumo de memoria si la recursión es profunda.\n",
    "\n",
    "2. **Rendimiento:** En algunos casos, la recursión puede ser menos eficiente en términos de rendimiento en comparación con enfoques iterativos. Cada llamada recursiva implica un cierto costo en términos de tiempo y recursos.\n",
    "\n",
    "**Consideraciones Importantes:**\n",
    "\n",
    "1. **Caso Base:** Toda función recursiva debe tener un caso base que detenga las llamadas recursivas. Sin un caso base, la recursión continuaría indefinidamente y causaría un desbordamiento de pila (stack overflow).\n",
    "\n",
    "2. **Eficiencia:** En algunos casos, la recursividad puede ser menos eficiente que los enfoques iterativos debido a la sobrecarga de llamadas y el uso de memoria.\n",
    "\n",
    "**Ejemplo de Recursividad en Búsqueda Binaria:**\n",
    "\n",
    "La búsqueda binaria que discutimos anteriormente es un ejemplo de cómo la recursividad puede ayudar a resolver problemas de manera eficiente. La función se llama a sí misma en lugar de usar un bucle, dividiendo la búsqueda en mitades en cada llamada recursiva.\n",
    "\n",
    "**Resumen:**\n",
    "\n",
    "La recursividad es una técnica poderosa en programación que se basa en que una función se llame a sí misma para resolver problemas. Tiene ventajas en términos de claridad y división de problemas, pero también puede llevar a un alto consumo de memoria y tener un rendimiento subóptimo en algunos casos. Es importante usarla con cuidado y comprender las consideraciones involucradas."
   ]
  },
  {
   "cell_type": "markdown",
   "metadata": {},
   "source": [
    "## **Caso base y caso recursivo**"
   ]
  },
  {
   "cell_type": "markdown",
   "metadata": {},
   "source": [
    "**Caso Base y Caso Recursivo en Python: Explicación Detallada con Ejemplos**\n",
    "\n",
    "En la programación recursiva, un algoritmo se divide en dos partes fundamentales: el caso base y el caso recursivo. Estas dos partes trabajan juntas para resolver un problema dividiéndolo en instancias más pequeñas y manejables.\n",
    "\n",
    "**Caso Base:**\n",
    "\n",
    "El caso base es el punto de terminación de la recursión. Es una condición que se verifica para detener las llamadas recursivas y evitar que la recursión continúe indefinidamente. El caso base generalmente resuelve el problema de manera directa para instancias pequeñas y específicas.\n",
    "\n",
    "**Caso Recursivo:**\n",
    "\n",
    "El caso recursivo es donde ocurren las llamadas recursivas. En esta parte, el problema se descompone en subproblemas más pequeños y manejables. La función se llama a sí misma con instancias más pequeñas del problema hasta que se alcance el caso base.\n",
    "\n",
    "**Ejemplo de Factorial:**\n",
    "\n",
    "Vamos a usar el cálculo del factorial de un número como ejemplo para entender el caso base y el caso recursivo."
   ]
  },
  {
   "cell_type": "code",
   "execution_count": 2,
   "metadata": {},
   "outputs": [
    {
     "name": "stdout",
     "output_type": "stream",
     "text": [
      "120\n"
     ]
    }
   ],
   "source": [
    "def factorial(n):\n",
    "    if n == 0 or n == 1:  # Caso base\n",
    "        return 1\n",
    "    else:  # Caso recursivo\n",
    "        return n * factorial(n - 1)\n",
    "\n",
    "resultado = factorial(5)  # Calcula el factorial de 5\n",
    "print(resultado)  # Salida: 120"
   ]
  },
  {
   "cell_type": "markdown",
   "metadata": {},
   "source": [
    "- **Caso Base:** Cuando `n` es 0 o 1, el caso base se activa y la función devuelve 1. Esto detiene la recursión y resuelve directamente el problema para los valores más pequeños.\n",
    "\n",
    "- **Caso Recursivo:** Cuando `n` es mayor que 1, la función se llama a sí misma con `n - 1`, lo que significa que se resuelve un subproblema más pequeño. La multiplicación por `n` ocurre durante el retorno de las llamadas recursivas, lo que crea una cascada de multiplicaciones cuando las llamadas recursivas se desenrollan al regresar.\n",
    "\n",
    "**Ejemplo de Suma de Números Naturales:**\n",
    "\n",
    "Otro ejemplo es la suma de los primeros `n` números naturales."
   ]
  },
  {
   "cell_type": "code",
   "execution_count": 3,
   "metadata": {},
   "outputs": [
    {
     "name": "stdout",
     "output_type": "stream",
     "text": [
      "15\n"
     ]
    }
   ],
   "source": [
    "def suma_naturales(n):\n",
    "    if n == 1:  # Caso base\n",
    "        return 1\n",
    "    else:  # Caso recursivo\n",
    "        return n + suma_naturales(n - 1)\n",
    "\n",
    "total = suma_naturales(5)  # Suma de los primeros 5 números naturales\n",
    "print(total)  # Salida: 15"
   ]
  },
  {
   "cell_type": "markdown",
   "metadata": {},
   "source": [
    "- **Caso Base:** Cuando `n` es 1, el caso base se activa y la función devuelve 1.\n",
    "\n",
    "- **Caso Recursivo:** Cuando `n` es mayor que 1, la función se llama a sí misma con `n - 1`, lo que suma el número actual `n` con la suma de los números naturales hasta `n - 1`.\n",
    "\n",
    "**Resumen:**\n",
    "\n",
    "El caso base y el caso recursivo son componentes esenciales en programación recursiva. El caso base proporciona la terminación para la recursión, mientras que el caso recursivo divide el problema en instancias más pequeñas. Ambos trabajan en conjunto para resolver problemas de manera recursiva y eficiente."
   ]
  },
  {
   "cell_type": "markdown",
   "metadata": {},
   "source": [
    "## **Ejemplo básico: impresión de números**"
   ]
  },
  {
   "cell_type": "markdown",
   "metadata": {},
   "source": [
    "Por supuesto, aquí tienes un ejemplo básico de cómo imprimir números en Python, junto con una explicación detallada:\n",
    "\n",
    "**Impresión de Números en Python: Explicación y Ejemplo**\n",
    "\n",
    "En Python, puedes imprimir números utilizando la función `print()`. Los números pueden ser enteros (integers) o números de punto flotante (floats). Aquí hay un ejemplo básico:"
   ]
  },
  {
   "cell_type": "code",
   "execution_count": 4,
   "metadata": {},
   "outputs": [
    {
     "name": "stdout",
     "output_type": "stream",
     "text": [
      "42\n",
      "3.14\n"
     ]
    }
   ],
   "source": [
    "# Imprimiendo un número entero\n",
    "numero_entero = 42\n",
    "print(numero_entero)\n",
    "\n",
    "# Imprimiendo un número de punto flotante\n",
    "numero_flotante = 3.14\n",
    "print(numero_flotante)"
   ]
  },
  {
   "cell_type": "markdown",
   "metadata": {},
   "source": [
    "**Explicación:**\n",
    "\n",
    "1. **Imprimiendo un Número Entero:** En este ejemplo, se define una variable `numero_entero` y se le asigna el valor `42`, que es un número entero. Luego, se utiliza la función `print()` para imprimir el valor de `numero_entero` en la consola.\n",
    "\n",
    "2. **Imprimiendo un Número de Punto Flotante:** Similarmente, se define una variable `numero_flotante` y se le asigna el valor `3.14`, que es un número de punto flotante. Luego, se utiliza la función `print()` para imprimir el valor de `numero_flotante` en la consola.\n",
    "\n",
    "**Salida:**\n",
    "\n",
    "```\n",
    "42\n",
    "3.14\n",
    "```\n",
    "\n",
    "**Impresión con Formateo:**\n",
    "\n",
    "Puedes formatear la salida para imprimir números con cierto formato, como controlar el número de decimales en números de punto flotante:"
   ]
  },
  {
   "cell_type": "code",
   "execution_count": 5,
   "metadata": {},
   "outputs": [
    {
     "name": "stdout",
     "output_type": "stream",
     "text": [
      "Número Pi: 3.14\n"
     ]
    }
   ],
   "source": [
    "# Imprimiendo un número de punto flotante con formato de dos decimales\n",
    "numero_pi = 3.14159265\n",
    "print(f\"Número Pi: {numero_pi:.2f}\")"
   ]
  },
  {
   "cell_type": "markdown",
   "metadata": {},
   "source": [
    "**Explicación:**\n",
    "\n",
    "En este ejemplo, la f-string `f\"Número Pi: {numero_pi:.2f}\"` se utiliza para formatear la salida. La parte `{numero_pi:.2f}` significa que se imprimirá el valor de `numero_pi` con dos decimales después del punto.\n",
    "\n",
    "**Salida:**\n",
    "\n",
    "```\n",
    "Número Pi: 3.14\n",
    "```\n",
    "\n",
    "**Resumen:**\n",
    "\n",
    "En Python, puedes imprimir números utilizando la función `print()`. Puedes imprimir tanto números enteros como números de punto flotante. Además, puedes formatear la salida para imprimir números con cierto formato utilizando f-strings y especificadores de formato. La impresión de números es una operación básica pero esencial en la programación para mostrar resultados y datos en la consola."
   ]
  },
  {
   "cell_type": "markdown",
   "metadata": {},
   "source": [
    "## **Ejemplo del factorial**"
   ]
  },
  {
   "cell_type": "markdown",
   "metadata": {},
   "source": [
    "**Factorial en Python: Explicación Detallada con Ejemplo**\n",
    "\n",
    "El factorial de un número entero positivo ($n$) se define como el producto de todos los números enteros positivos desde 1 hasta ($n$). Se denota como ($n!$). Por ejemplo, ($5! = 5 \\cdot 4 \\cdot 3 \\cdot 2 \\cdot 1 = 120$).\n",
    "\n",
    "Aquí tienes un ejemplo de cómo calcular el factorial de un número en Python:"
   ]
  },
  {
   "cell_type": "code",
   "execution_count": 6,
   "metadata": {},
   "outputs": [
    {
     "name": "stdout",
     "output_type": "stream",
     "text": [
      "El factorial de 5 es 120\n"
     ]
    }
   ],
   "source": [
    "def factorial(n):\n",
    "    if n == 0 or n == 1:\n",
    "        return 1\n",
    "    else:\n",
    "        return n * factorial(n - 1)\n",
    "\n",
    "numero = 5\n",
    "resultado = factorial(numero)\n",
    "print(f\"El factorial de {numero} es {resultado}\")"
   ]
  },
  {
   "cell_type": "markdown",
   "metadata": {},
   "source": [
    "**Explicación:**\n",
    "\n",
    "1. **Definición de la Función Factorial:** La función `factorial` toma un argumento `n` que representa el número para el cual se calculará el factorial.\n",
    "\n",
    "2. **Caso Base:** En la primera línea de la función, verificamos si `n` es igual a 0 o 1. Si es así, se retorna 1, ya que el factorial de 0 y 1 es 1. Esto es el caso base, donde la recursión se detiene.\n",
    "\n",
    "3. **Caso Recursivo:** Si `n` es mayor que 1, entonces la función `factorial` se llama a sí misma con el argumento `n - 1`, lo que implica resolver el factorial de un número más pequeño. En cada llamada recursiva, el valor de `n` se multiplica por el resultado de la llamada recursiva para obtener el factorial completo.\n",
    "\n",
    "4. **Cálculo del Factorial:** El factorial del número se calcula multiplicando el valor actual de `n` por el resultado de la llamada recursiva `factorial(n - 1)`.\n",
    "\n",
    "5. **Resultado:** El resultado se imprime utilizando una f-string para mostrar el número original y su factorial calculado.\n",
    "\n",
    "**Resultado del Ejemplo:**\n",
    "\n",
    "Si ejecutas el código con `numero = 5`, obtendrás la siguiente salida:\n",
    "\n",
    "```\n",
    "El factorial de 5 es 120\n",
    "```\n",
    "\n",
    "**Resumen:**\n",
    "\n",
    "El cálculo del factorial es un problema clásico que se puede resolver utilizando la recursión. La función `factorial` calcula el factorial de un número `n` mediante llamadas recursivas y el uso de un caso base. La recursión permite dividir el problema en subproblemas más pequeños y resolverlos de manera eficiente."
   ]
  },
  {
   "cell_type": "markdown",
   "metadata": {},
   "source": [
    "## **Implicaciones de la recursividad**"
   ]
  },
  {
   "cell_type": "markdown",
   "metadata": {},
   "source": [
    "**Implicaciones de la Recursividad en Python: Explicación Detallada con Ejemplos**\n",
    "\n",
    "La recursividad es una técnica poderosa en programación que permite resolver problemas dividiéndolos en problemas más pequeños y manejables. Sin embargo, también puede tener algunas implicaciones que deben ser comprendidas y consideradas al usarla en Python.\n",
    "\n",
    "**1. Eficiencia y Consumo de Memoria:**\n",
    "\n",
    "Las llamadas recursivas pueden llevar a un alto consumo de memoria. Cada llamada recursiva agrega una nueva instancia de la función a la pila de llamadas. Si hay muchas llamadas recursivas, la pila puede llenarse y causar un desbordamiento de pila (stack overflow).\n",
    "\n",
    "**Ejemplo: Suma de Números Naturales**"
   ]
  },
  {
   "cell_type": "code",
   "execution_count": 7,
   "metadata": {},
   "outputs": [],
   "source": [
    "def suma_naturales(n):\n",
    "    if n == 1:\n",
    "        return 1\n",
    "    else:\n",
    "        return n + suma_naturales(n - 1)\n",
    "\n",
    "resultado = suma_naturales(1000)  # Causaría un desbordamiento de pila"
   ]
  },
  {
   "cell_type": "markdown",
   "metadata": {},
   "source": [
    "**2. Rendimiento:**\n",
    "\n",
    "En algunos casos, la recursión puede ser menos eficiente en términos de rendimiento en comparación con enfoques iterativos. Cada llamada recursiva implica un cierto costo en términos de tiempo y recursos. Es posible que en algunas situaciones una solución iterativa sea más rápida.\n",
    "\n",
    "**3. Complejidad:**\n",
    "\n",
    "Algunos problemas pueden ser difíciles de entender con recursión, y en algunos casos, podría ser más claro y simple utilizar un enfoque iterativo.\n",
    "\n",
    "**4. Profundidad de Recursión:**\n",
    "\n",
    "Python tiene un límite en la profundidad de recursión debido a limitaciones en la pila de llamadas. Si la recursión es demasiado profunda, podría alcanzar este límite y provocar un desbordamiento de pila.\n",
    "\n",
    "**5. Caso Base Correcto:**\n",
    "\n",
    "Es esencial establecer un caso base correcto para evitar que la recursión continúe indefinidamente.\n",
    "\n",
    "A pesar de estas implicaciones, la recursividad sigue siendo una técnica valiosa cuando se utiliza de manera adecuada. Puede conducir a un código más claro y conciso y puede resolver problemas de manera elegante.\n",
    "\n",
    "**Ejemplo: Fibonacci Recursivo**\n",
    "\n",
    "Un ejemplo común es la secuencia de Fibonacci, donde cada número es la suma de los dos anteriores."
   ]
  },
  {
   "cell_type": "code",
   "execution_count": 8,
   "metadata": {},
   "outputs": [],
   "source": [
    "def fibonacci(n):\n",
    "    if n <= 0:\n",
    "        return 0\n",
    "    elif n == 1:\n",
    "        return 1\n",
    "    else:\n",
    "        return fibonacci(n - 1) + fibonacci(n - 2)\n",
    "\n",
    "resultado = fibonacci(10)  # Calcula el décimo número de Fibonacci"
   ]
  },
  {
   "cell_type": "markdown",
   "metadata": {},
   "source": [
    "**Resumen:**\n",
    "\n",
    "La recursividad es una técnica poderosa pero debe usarse con precaución debido a sus implicaciones en términos de eficiencia, rendimiento y complejidad. Es importante entender cuándo usarla y cómo manejar sus implicaciones para escribir código recursivo eficiente y confiable en Python."
   ]
  },
  {
   "cell_type": "markdown",
   "metadata": {},
   "source": [
    "## **Comparación en tiempo de funciones iterativas y recursivas**"
   ]
  },
  {
   "cell_type": "markdown",
   "metadata": {},
   "source": [
    "**Comparación de Funciones Iterativas y Recursivas en Python: Explicación Detallada con Ejemplos**\n",
    "\n",
    "Cuando se trata de resolver problemas en programación, puedes enfrentarte a la elección entre implementar una solución iterativa o recursiva. Ambos enfoques tienen sus ventajas y desventajas, y uno de los aspectos a considerar es el rendimiento en términos de tiempo. Aquí tienes una comparación detallada con ejemplos de funciones iterativas y recursivas en Python:\n",
    "\n",
    "**Función Iterativa: Cálculo de Factorial**"
   ]
  },
  {
   "cell_type": "code",
   "execution_count": 9,
   "metadata": {},
   "outputs": [
    {
     "name": "stdout",
     "output_type": "stream",
     "text": [
      "Factorial iterativo de 5: 120\n"
     ]
    }
   ],
   "source": [
    "def factorial_iterativo(n):\n",
    "    resultado = 1\n",
    "    for i in range(1, n + 1):\n",
    "        resultado *= i\n",
    "    return resultado\n",
    "\n",
    "numero = 5\n",
    "resultado_iterativo = factorial_iterativo(numero)\n",
    "print(f\"Factorial iterativo de {numero}: {resultado_iterativo}\")"
   ]
  },
  {
   "cell_type": "markdown",
   "metadata": {},
   "source": [
    "**Función Recursiva: Cálculo de Factorial**"
   ]
  },
  {
   "cell_type": "code",
   "execution_count": 10,
   "metadata": {},
   "outputs": [
    {
     "name": "stdout",
     "output_type": "stream",
     "text": [
      "Factorial recursivo de 5: 120\n"
     ]
    }
   ],
   "source": [
    "def factorial_recursivo(n):\n",
    "    if n == 0 or n == 1:\n",
    "        return 1\n",
    "    else:\n",
    "        return n * factorial_recursivo(n - 1)\n",
    "\n",
    "numero = 5\n",
    "resultado_recursivo = factorial_recursivo(numero)\n",
    "print(f\"Factorial recursivo de {numero}: {resultado_recursivo}\")"
   ]
  },
  {
   "cell_type": "markdown",
   "metadata": {},
   "source": [
    "**Comparación y Explicación:**\n",
    "\n",
    "En este ejemplo, comparamos dos implementaciones diferentes para calcular el factorial de un número: una función iterativa y una función recursiva. Aquí están las consideraciones clave:\n",
    "\n",
    "**Eficiencia y Rendimiento:**\n",
    "\n",
    "- La función iterativa (`factorial_iterativo`) utiliza un bucle `for` para multiplicar los números en el rango de 1 a `n`, lo que se hace en una sola pasada. Esto resulta en un rendimiento eficiente y lineal.\n",
    "\n",
    "- La función recursiva (`factorial_recursivo`) realiza llamadas recursivas y multiplica los valores en cada llamada. Cada llamada genera una nueva llamada en la pila de llamadas. Esto puede llevar a un mayor consumo de memoria y un rendimiento más lento debido a la sobrecarga de llamadas.\n",
    "\n",
    "**Complejidad:**\n",
    "\n",
    "- La función iterativa tiene una complejidad de tiempo de O(n), ya que debe iterar a través de todos los números desde 1 hasta `n`.\n",
    "\n",
    "- La función recursiva tiene una complejidad de tiempo de O(n) debido a la cantidad de llamadas recursivas necesarias. Cada llamada resuelve un subproblema más pequeño, pero en total hay aproximadamente `n` llamadas.\n",
    "\n",
    "**Resumen:**\n",
    "\n",
    "Las funciones iterativas generalmente tienden a ser más eficientes en términos de tiempo y tienen un menor consumo de memoria en comparación con las funciones recursivas. Sin embargo, la recursividad puede ser más clara y elegante en algunos casos y puede conducir a un código más compacto. Es importante evaluar las necesidades específicas del problema y elegir el enfoque que sea más apropiado para la situación."
   ]
  },
  {
   "cell_type": "markdown",
   "metadata": {},
   "source": [
    "| **Inicio** | **atrás 3** | **Siguiente 5** |\n",
    "|----------- |-------------- |---------------|\n",
    "| [🏠](../../README.md) | [⏪](./3_Iterativa_y_Recursiva.ipynb)| [⏩](./5_Variables_y_Tipos_de_Datos.ipynb)|"
   ]
  }
 ],
 "metadata": {
  "kernelspec": {
   "display_name": "base",
   "language": "python",
   "name": "python3"
  },
  "language_info": {
   "codemirror_mode": {
    "name": "ipython",
    "version": 3
   },
   "file_extension": ".py",
   "mimetype": "text/x-python",
   "name": "python",
   "nbconvert_exporter": "python",
   "pygments_lexer": "ipython3",
   "version": "3.9.12"
  },
  "orig_nbformat": 4
 },
 "nbformat": 4,
 "nbformat_minor": 2
}
