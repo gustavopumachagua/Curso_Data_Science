{
 "cells": [
  {
   "cell_type": "markdown",
   "metadata": {},
   "source": [
    "| **Inicio** | **atrás 13** | **Siguiente 15** |\n",
    "|----------- |-------------- |---------------|\n",
    "| [🏠](../../README.md) | [⏪](./13_Scope.ipynb)| [⏩](./15_Diccionarios_en_Python.ipynb)|"
   ]
  },
  {
   "cell_type": "markdown",
   "metadata": {},
   "source": [
    "# **14. Funciones Lambda o Anónimas con Python**"
   ]
  },
  {
   "cell_type": "markdown",
   "metadata": {},
   "source": [
    "## **Introducción a las funciones Lambda**"
   ]
  },
  {
   "cell_type": "markdown",
   "metadata": {},
   "source": [
    "**Funciones Lambda (Anónimas) en Python: Explicación Detallada con Ejemplos**\n",
    "\n",
    "Las funciones lambda, también conocidas como funciones anónimas, son pequeñas funciones que pueden definirse en una sola línea de código. A diferencia de las funciones regulares definidas con `def`, las funciones lambda se crean utilizando la palabra clave `lambda`. Son útiles cuando necesitas una función simple y temporal en un lugar específico. Aquí tienes una explicación detallada junto con ejemplos para entender las funciones lambda en Python:\n",
    "\n",
    "**Sintaxis de una Función Lambda:**\n",
    "\n",
    "La sintaxis básica para una función lambda es:\n",
    "\n",
    "```python\n",
    "lambda argumentos: expresión\n",
    "```\n",
    "\n",
    "**Características Clave:**\n",
    "\n",
    "- No necesitas darle un nombre a una función lambda, ya que son anónimas.\n",
    "- Pueden tomar cualquier número de argumentos, pero solo pueden tener una expresión.\n",
    "\n",
    "**Ejemplo 1: Función Lambda Simple:**"
   ]
  },
  {
   "cell_type": "code",
   "execution_count": 1,
   "metadata": {},
   "outputs": [
    {
     "name": "stdout",
     "output_type": "stream",
     "text": [
      "5\n"
     ]
    }
   ],
   "source": [
    "suma = lambda a, b: a + b\n",
    "print(suma(2, 3))  # Salida: 5"
   ]
  },
  {
   "cell_type": "markdown",
   "metadata": {},
   "source": [
    "En este ejemplo, hemos creado una función lambda llamada `suma` que toma dos argumentos `a` y `b` y devuelve su suma. Luego, llamamos a esta función lambda y obtenemos el resultado `5`.\n",
    "\n",
    "**Ejemplo 2: Uso en una Función de Orden Superior:**\n",
    "\n",
    "Las funciones lambda son comúnmente utilizadas en funciones de orden superior como `map()`, `filter()` y `sorted()`. Aquí hay un ejemplo con `map()`:"
   ]
  },
  {
   "cell_type": "code",
   "execution_count": 2,
   "metadata": {},
   "outputs": [
    {
     "name": "stdout",
     "output_type": "stream",
     "text": [
      "[1, 4, 9, 16, 25]\n"
     ]
    }
   ],
   "source": [
    "numeros = [1, 2, 3, 4, 5]\n",
    "cuadrados = list(map(lambda x: x**2, numeros))\n",
    "print(cuadrados)  # Salida: [1, 4, 9, 16, 25]"
   ]
  },
  {
   "cell_type": "markdown",
   "metadata": {},
   "source": [
    "En este ejemplo, usamos una función lambda para calcular el cuadrado de cada número en la lista `numeros` utilizando la función `map()`.\n",
    "\n",
    "**Ejemplo 3: Ordenamiento de una Lista de Tuplas:**\n",
    "\n",
    "Las funciones lambda también son útiles para personalizar el ordenamiento de objetos más complejos, como tuplas. En este caso, proporcionamos una función lambda como argumento a la función `sorted()` para ordenar una lista de tuplas por un elemento específico."
   ]
  },
  {
   "cell_type": "code",
   "execution_count": 3,
   "metadata": {},
   "outputs": [
    {
     "name": "stdout",
     "output_type": "stream",
     "text": [
      "[('Carol', 22), ('Alice', 25), ('Bob', 30)]\n"
     ]
    }
   ],
   "source": [
    "personas = [(\"Alice\", 25), (\"Bob\", 30), (\"Carol\", 22)]\n",
    "ordenado_por_edad = sorted(personas, key=lambda x: x[1])\n",
    "print(ordenado_por_edad)\n",
    "# Salida: [('Carol', 22), ('Alice', 25), ('Bob', 30)]"
   ]
  },
  {
   "cell_type": "markdown",
   "metadata": {},
   "source": [
    "Aquí, usamos una función lambda para especificar que queremos ordenar la lista de tuplas por el segundo elemento de cada tupla, que es la edad.\n",
    "\n",
    "**Ventajas de las Funciones Lambda:**\n",
    "\n",
    "- Convenientes para operaciones simples y cortas.\n",
    "- Útiles en funciones de orden superior para personalizar el comportamiento.\n",
    "- No es necesario darles un nombre, lo que puede reducir la complejidad del código.\n",
    "\n",
    "**Limitaciones de las Funciones Lambda:**\n",
    "\n",
    "- No pueden realizar múltiples expresiones o declaraciones.\n",
    "- Pueden dificultar la legibilidad si son demasiado complejas.\n",
    "\n",
    "**Resumen:**\n",
    "\n",
    "Las funciones lambda en Python son funciones anónimas de una sola línea creadas con la palabra clave `lambda`. Son útiles para operaciones simples y se utilizan comúnmente en funciones de orden superior y en situaciones donde se requiere una función temporal. Sin embargo, para tareas más complejas, es preferible utilizar funciones regulares con nombres significativos para mejorar la legibilidad del código."
   ]
  },
  {
   "cell_type": "markdown",
   "metadata": {},
   "source": [
    "## **Ejemplos básicos de funciones lambda**"
   ]
  },
  {
   "cell_type": "markdown",
   "metadata": {},
   "source": [
    "**Ejemplos Básicos de Funciones Lambda en Python: Explicación Detallada**\n",
    "\n",
    "Aquí tienes algunos ejemplos básicos de funciones lambda en Python junto con explicaciones detalladas para cada uno:\n",
    "\n",
    "**Ejemplo 1: Función Lambda para Sumar Dos Números:**"
   ]
  },
  {
   "cell_type": "code",
   "execution_count": 4,
   "metadata": {},
   "outputs": [
    {
     "name": "stdout",
     "output_type": "stream",
     "text": [
      "5\n"
     ]
    }
   ],
   "source": [
    "suma = lambda a, b: a + b\n",
    "resultado = suma(2, 3)\n",
    "print(resultado)  # Salida: 5"
   ]
  },
  {
   "cell_type": "markdown",
   "metadata": {},
   "source": [
    "En este ejemplo, hemos creado una función lambda llamada `suma` que toma dos argumentos `a` y `b` y devuelve su suma. Luego, llamamos a esta función lambda con los argumentos `2` y `3`, y obtenemos el resultado `5`.\n",
    "\n",
    "**Ejemplo 2: Función Lambda para Calcular el Cuadrado de un Número:**"
   ]
  },
  {
   "cell_type": "code",
   "execution_count": 5,
   "metadata": {},
   "outputs": [
    {
     "name": "stdout",
     "output_type": "stream",
     "text": [
      "16\n"
     ]
    }
   ],
   "source": [
    "cuadrado = lambda x: x**2\n",
    "resultado = cuadrado(4)\n",
    "print(resultado)  # Salida: 16"
   ]
  },
  {
   "cell_type": "markdown",
   "metadata": {},
   "source": [
    "En este ejemplo, creamos una función lambda llamada `cuadrado` que toma un argumento `x` y devuelve el cuadrado de ese número. Luego, llamamos a esta función lambda con el argumento `4` y obtenemos el resultado `16`.\n",
    "\n",
    "**Ejemplo 3: Uso de Función Lambda con `map()`:**"
   ]
  },
  {
   "cell_type": "code",
   "execution_count": 6,
   "metadata": {},
   "outputs": [
    {
     "name": "stdout",
     "output_type": "stream",
     "text": [
      "[1, 4, 9, 16, 25]\n"
     ]
    }
   ],
   "source": [
    "numeros = [1, 2, 3, 4, 5]\n",
    "cuadrados = list(map(lambda x: x**2, numeros))\n",
    "print(cuadrados)  # Salida: [1, 4, 9, 16, 25]"
   ]
  },
  {
   "cell_type": "markdown",
   "metadata": {},
   "source": [
    "En este ejemplo, usamos la función `map()` junto con una función lambda para calcular el cuadrado de cada número en la lista `numeros`. La función lambda se aplica a cada elemento de la lista, y luego convertimos el resultado en una lista usando `list()`.\n",
    "\n",
    "**Ejemplo 4: Uso de Función Lambda en Ordenamiento Personalizado:**"
   ]
  },
  {
   "cell_type": "code",
   "execution_count": 7,
   "metadata": {},
   "outputs": [
    {
     "name": "stdout",
     "output_type": "stream",
     "text": [
      "[('Carol', 22), ('Alice', 25), ('Bob', 30)]\n"
     ]
    }
   ],
   "source": [
    "personas = [(\"Alice\", 25), (\"Bob\", 30), (\"Carol\", 22)]\n",
    "ordenado_por_edad = sorted(personas, key=lambda x: x[1])\n",
    "print(ordenado_por_edad)\n",
    "# Salida: [('Carol', 22), ('Alice', 25), ('Bob', 30)]"
   ]
  },
  {
   "cell_type": "markdown",
   "metadata": {},
   "source": [
    "En este ejemplo, usamos la función `sorted()` junto con una función lambda como argumento `key` para ordenar la lista de tuplas `personas` por el segundo elemento de cada tupla (la edad).\n",
    "\n",
    "**Resumen:**\n",
    "\n",
    "Estos ejemplos ilustran diferentes usos de funciones lambda en Python. Las funciones lambda son útiles para definir funciones simples y temporales que se utilizan en lugares específicos, como argumentos de otras funciones. Son especialmente útiles en operaciones como mapeo, filtrado y ordenamiento personalizado, donde se necesita una función rápida y sencilla para realizar una operación específica. Sin embargo, para tareas más complejas, es preferible utilizar funciones regulares con nombres significativos para mejorar la legibilidad del código."
   ]
  },
  {
   "cell_type": "markdown",
   "metadata": {},
   "source": [
    "## **Ordenamiento de listas por criterio utilizando lambdas**"
   ]
  },
  {
   "cell_type": "markdown",
   "metadata": {},
   "source": [
    "**Ordenamiento de Listas por Criterio Utilizando Lambdas en Python: Explicación Detallada con Ejemplos**\n",
    "\n",
    "Ordenar listas por criterios específicos es una tarea común en la programación. Las funciones lambda son útiles para personalizar el ordenamiento de listas y ordenar elementos según criterios particulares. A continuación, te proporciono una explicación detallada junto con ejemplos sobre cómo utilizar funciones lambda para ordenar listas en Python:\n",
    "\n",
    "**Ordenamiento Básico:**\n",
    "\n",
    "Python proporciona la función `sorted()` para ordenar listas. Puedes usar la función `sorted()` con una función lambda como argumento `key` para especificar cómo deseas ordenar los elementos.\n",
    "\n",
    "**Ejemplo 1: Ordenamiento Ascendente de Números:**"
   ]
  },
  {
   "cell_type": "code",
   "execution_count": 8,
   "metadata": {},
   "outputs": [
    {
     "name": "stdout",
     "output_type": "stream",
     "text": [
      "[1, 2, 5, 5, 9]\n"
     ]
    }
   ],
   "source": [
    "numeros = [5, 2, 9, 1, 5]\n",
    "orden_ascendente = sorted(numeros)\n",
    "print(orden_ascendente)  # Salida: [1, 2, 5, 5, 9]"
   ]
  },
  {
   "cell_type": "markdown",
   "metadata": {},
   "source": [
    "En este ejemplo, la función `sorted()` ordena la lista `numeros` en orden ascendente por defecto.\n",
    "\n",
    "**Ordenamiento Personalizado con Lambdas:**\n",
    "\n",
    "Puedes usar una función lambda como argumento `key` para personalizar el ordenamiento según criterios específicos.\n",
    "\n",
    "**Ejemplo 2: Ordenamiento por Longitud de Palabras:**"
   ]
  },
  {
   "cell_type": "code",
   "execution_count": 9,
   "metadata": {},
   "outputs": [
    {
     "name": "stdout",
     "output_type": "stream",
     "text": [
      "['uva', 'kiwi', 'banana', 'manzana']\n"
     ]
    }
   ],
   "source": [
    "palabras = [\"manzana\", \"banana\", \"kiwi\", \"uva\"]\n",
    "orden_por_longitud = sorted(palabras, key=lambda palabra: len(palabra))\n",
    "print(orden_por_longitud)\n",
    "# Salida: ['kiwi', 'uva', 'banana', 'manzana']"
   ]
  },
  {
   "cell_type": "markdown",
   "metadata": {},
   "source": [
    "En este ejemplo, la función lambda `lambda palabra: len(palabra)` devuelve la longitud de cada palabra. La lista `palabras` se ordena en función de esta longitud, resultando en un orden por longitud ascendente.\n",
    "\n",
    "**Ejemplo 3: Ordenamiento por Elemento en Tuplas:**"
   ]
  },
  {
   "cell_type": "code",
   "execution_count": 10,
   "metadata": {},
   "outputs": [
    {
     "name": "stdout",
     "output_type": "stream",
     "text": [
      "[('Carol', 22), ('Alice', 25), ('Bob', 30)]\n"
     ]
    }
   ],
   "source": [
    "personas = [(\"Alice\", 25), (\"Bob\", 30), (\"Carol\", 22)]\n",
    "ordenado_por_edad = sorted(personas, key=lambda x: x[1])\n",
    "print(ordenado_por_edad)\n",
    "# Salida: [('Carol', 22), ('Alice', 25), ('Bob', 30)]"
   ]
  },
  {
   "cell_type": "markdown",
   "metadata": {},
   "source": [
    "En este ejemplo, la función lambda `lambda x: x[1]` selecciona el segundo elemento de cada tupla (la edad). La lista de tuplas `personas` se ordena en función de estas edades.\n",
    "\n",
    "**Ordenamiento Descendente:**\n",
    "\n",
    "Para ordenar en orden descendente, puedes usar el argumento `reverse=True` en la función `sorted()`.\n",
    "\n",
    "**Ejemplo 4: Ordenamiento Descendente de Números:**"
   ]
  },
  {
   "cell_type": "code",
   "execution_count": 11,
   "metadata": {},
   "outputs": [
    {
     "name": "stdout",
     "output_type": "stream",
     "text": [
      "[9, 5, 5, 2, 1]\n"
     ]
    }
   ],
   "source": [
    "numeros = [5, 2, 9, 1, 5]\n",
    "orden_descendente = sorted(numeros, reverse=True)\n",
    "print(orden_descendente)  # Salida: [9, 5, 5, 2, 1]"
   ]
  },
  {
   "cell_type": "markdown",
   "metadata": {},
   "source": [
    "En este ejemplo, la lista `numeros` se ordena en orden descendente utilizando el argumento `reverse=True`.\n",
    "\n",
    "**Resumen:**\n",
    "\n",
    "Las funciones lambda son útiles para personalizar el ordenamiento de listas en Python. Puedes usar una función lambda como argumento `key` en la función `sorted()` para especificar criterios de ordenamiento personalizados. Esto te permite ordenar listas según elementos específicos, como valores numéricos, longitud de cadenas o elementos en tuplas. Las funciones lambda proporcionan flexibilidad en el ordenamiento de datos y te permiten adaptar el ordenamiento a tus necesidades específicas."
   ]
  },
  {
   "cell_type": "markdown",
   "metadata": {},
   "source": [
    "| **Inicio** | **atrás 13** | **Siguiente 15** |\n",
    "|----------- |-------------- |---------------|\n",
    "| [🏠](../../README.md) | [⏪](./13_Scope.ipynb)| [⏩](./15_Diccionarios_en_Python.ipynb)|"
   ]
  }
 ],
 "metadata": {
  "kernelspec": {
   "display_name": "base",
   "language": "python",
   "name": "python3"
  },
  "language_info": {
   "codemirror_mode": {
    "name": "ipython",
    "version": 3
   },
   "file_extension": ".py",
   "mimetype": "text/x-python",
   "name": "python",
   "nbconvert_exporter": "python",
   "pygments_lexer": "ipython3",
   "version": "3.9.12"
  },
  "orig_nbformat": 4
 },
 "nbformat": 4,
 "nbformat_minor": 2
}
