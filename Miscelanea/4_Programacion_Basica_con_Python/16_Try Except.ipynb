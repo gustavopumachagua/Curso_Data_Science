{
 "cells": [
  {
   "cell_type": "markdown",
   "metadata": {},
   "source": [
    "| **Inicio** | **atrás 15** | **Siguiente 17** |\n",
    "|----------- |-------------- |---------------|\n",
    "| [🏠](../../README.md) | [⏪](./15_Diccionarios_en_Python.ipynb)| [⏩](./17_Encapsulamiento_de_Objetos.ipynb)|"
   ]
  },
  {
   "cell_type": "markdown",
   "metadata": {},
   "source": [
    "# **16. Try Except: Manejo de Excepciones ó Errores con Python**"
   ]
  },
  {
   "cell_type": "markdown",
   "metadata": {},
   "source": [
    "## **Introducción a las excepciones**"
   ]
  },
  {
   "cell_type": "markdown",
   "metadata": {},
   "source": [
    "**Try Except: Manejo de Excepciones o Errores en Python - Explicación Detallada con Ejemplos**\n",
    "\n",
    "En Python, las excepciones son errores que pueden ocurrir durante la ejecución de un programa. El manejo de excepciones mediante bloques `try` y `except` te permite controlar el flujo del programa cuando ocurren errores, evitando que el programa se bloquee abruptamente. Aquí tienes una explicación detallada junto con ejemplos sobre cómo utilizar `try` y `except` para manejar excepciones en Python:\n",
    "\n",
    "**Estructura del Bloque Try Except:**\n",
    "\n",
    "La estructura básica del manejo de excepciones con `try` y `except` es la siguiente:\n",
    "\n",
    "```python\n",
    "try:\n",
    "    # Código que podría causar una excepción\n",
    "except TipoDeExcepcion:\n",
    "    # Código a ejecutar si ocurre la excepción\n",
    "```\n",
    "\n",
    "**Ejemplo 1: Manejo de Excepción de División por Cero:**"
   ]
  },
  {
   "cell_type": "code",
   "execution_count": 1,
   "metadata": {},
   "outputs": [
    {
     "name": "stdout",
     "output_type": "stream",
     "text": [
      "Error: División por cero\n"
     ]
    }
   ],
   "source": [
    "try:\n",
    "    resultado = 10 / 0  # Esto causa una excepción de división por cero\n",
    "except ZeroDivisionError:\n",
    "    print(\"Error: División por cero\")"
   ]
  },
  {
   "cell_type": "markdown",
   "metadata": {},
   "source": [
    "En este ejemplo, el código dentro del bloque `try` intenta realizar una división por cero, lo que generará una excepción `ZeroDivisionError`. El bloque `except` captura esa excepción y muestra un mensaje de error.\n",
    "\n",
    "**Ejemplo 2: Manejo de Excepción de Conversión de Tipo:**"
   ]
  },
  {
   "cell_type": "code",
   "execution_count": 2,
   "metadata": {},
   "outputs": [
    {
     "name": "stdout",
     "output_type": "stream",
     "text": [
      "Error: No se pudo convertir a entero\n"
     ]
    }
   ],
   "source": [
    "try:\n",
    "    numero = int(\"abc\")  # Esto causa una excepción de conversión de tipo\n",
    "except ValueError:\n",
    "    print(\"Error: No se pudo convertir a entero\")"
   ]
  },
  {
   "cell_type": "markdown",
   "metadata": {},
   "source": [
    "En este ejemplo, el código dentro del bloque `try` intenta convertir la cadena \"abc\" a un entero, lo que generará una excepción `ValueError`. El bloque `except` captura esa excepción y muestra un mensaje de error.\n",
    "\n",
    "**Bloque `else` (opcional):**\n",
    "\n",
    "Puedes utilizar un bloque `else` después de todos los bloques `except` para ejecutar un código cuando no ocurre ninguna excepción.\n",
    "\n",
    "**Ejemplo 3: Uso del Bloque `else`:**"
   ]
  },
  {
   "cell_type": "code",
   "execution_count": 3,
   "metadata": {},
   "outputs": [
    {
     "name": "stdout",
     "output_type": "stream",
     "text": [
      "El resultado es: 5.0\n"
     ]
    }
   ],
   "source": [
    "try:\n",
    "    resultado = 10 / 2\n",
    "except ZeroDivisionError:\n",
    "    print(\"Error: División por cero\")\n",
    "else:\n",
    "    print(\"El resultado es:\", resultado)"
   ]
  },
  {
   "cell_type": "markdown",
   "metadata": {},
   "source": [
    "En este ejemplo, como no ocurre ninguna excepción, el código dentro del bloque `else` se ejecuta y muestra el resultado de la división.\n",
    "\n",
    "**Bloque `finally` (opcional):**\n",
    "\n",
    "Puedes utilizar un bloque `finally` después de los bloques `try` y `except` para ejecutar un código sin importar si ocurre o no una excepción.\n",
    "\n",
    "**Ejemplo 4: Uso del Bloque `finally`:**"
   ]
  },
  {
   "cell_type": "code",
   "execution_count": 6,
   "metadata": {},
   "outputs": [
    {
     "name": "stdout",
     "output_type": "stream",
     "text": [
      "Error: El archivo no existe\n"
     ]
    }
   ],
   "source": [
    "archivo = None  # Inicializar la variable fuera del bloque try\n",
    "\n",
    "try:\n",
    "    archivo = open(\"archivo.txt\", \"r\")\n",
    "    contenido = archivo.read()\n",
    "except FileNotFoundError:\n",
    "    print(\"Error: El archivo no existe\")\n",
    "finally:\n",
    "    if archivo is not None:\n",
    "        archivo.close()  # Cerrar el archivo si está abierto"
   ]
  },
  {
   "cell_type": "markdown",
   "metadata": {},
   "source": [
    "En este ejemplo, el bloque `finally` asegura que el archivo se cierre correctamente, independientemente de si ocurre una excepción o no.\n",
    "\n",
    "**Manejo Múltiple de Excepciones:**\n",
    "\n",
    "Puedes manejar múltiples tipos de excepciones utilizando varios bloques `except`.\n",
    "\n",
    "**Ejemplo 5: Manejo Múltiple de Excepciones:**"
   ]
  },
  {
   "cell_type": "code",
   "execution_count": 5,
   "metadata": {},
   "outputs": [
    {
     "name": "stdout",
     "output_type": "stream",
     "text": [
      "Error: No se pudo convertir a entero\n"
     ]
    }
   ],
   "source": [
    "try:\n",
    "    numero = int(\"abc\")\n",
    "    resultado = 10 / 0\n",
    "except ValueError:\n",
    "    print(\"Error: No se pudo convertir a entero\")\n",
    "except ZeroDivisionError:\n",
    "    print(\"Error: División por cero\")"
   ]
  },
  {
   "cell_type": "markdown",
   "metadata": {},
   "source": [
    "En este ejemplo, si ocurre una excepción de conversión de tipo, se ejecutará el primer bloque `except`. Si ocurre una excepción de división por cero, se ejecutará el segundo bloque `except`.\n",
    "\n",
    "**Resumen:**\n",
    "\n",
    "El manejo de excepciones con `try` y `except` en Python te permite controlar cómo tu programa reacciona ante situaciones de error. Puedes utilizar bloques `else` y `finally` para controlar el flujo del programa aún más. El manejo adecuado de excepciones es una práctica esencial para escribir programas más robustos y evitar que se bloqueen ante situaciones inesperadas."
   ]
  },
  {
   "cell_type": "markdown",
   "metadata": {},
   "source": [
    "## **Error división por cero**"
   ]
  },
  {
   "cell_type": "markdown",
   "metadata": {},
   "source": [
    "**Error de División por Cero en Python: Explicación Detallada con Ejemplo**\n",
    "\n",
    "El error de división por cero es una excepción que ocurre cuando intentamos dividir un número entre cero. En Python, esto genera una excepción llamada `ZeroDivisionError`. Aquí tienes una explicación detallada junto con un ejemplo sobre cómo ocurre este error y cómo manejarlo:\n",
    "\n",
    "**Ejemplo del Error de División por Cero:**\n",
    "\n",
    "```python\n",
    "resultado = 10 / 0\n",
    "```\n",
    "\n",
    "Cuando intentamos ejecutar este código, obtendremos el siguiente error:\n",
    "\n",
    "```\n",
    "ZeroDivisionError: division by zero\n",
    "```\n",
    "\n",
    "Este error ocurre porque no es matemáticamente posible dividir un número entre cero. Python detecta esta operación inválida y lanza una excepción para informarnos del error.\n",
    "\n",
    "**Manejo del Error de División por Cero:**\n",
    "\n",
    "Podemos utilizar un bloque `try` y `except` para manejar el error de división por cero y evitar que el programa se bloquee.\n",
    "\n",
    "**Ejemplo de Manejo del Error de División por Cero:**"
   ]
  },
  {
   "cell_type": "code",
   "execution_count": 7,
   "metadata": {},
   "outputs": [
    {
     "name": "stdout",
     "output_type": "stream",
     "text": [
      "Error: División por cero\n"
     ]
    }
   ],
   "source": [
    "try:\n",
    "    resultado = 10 / 0\n",
    "except ZeroDivisionError:\n",
    "    print(\"Error: División por cero\")"
   ]
  },
  {
   "cell_type": "markdown",
   "metadata": {},
   "source": [
    "En este ejemplo, hemos envuelto la operación de división en un bloque `try`. Si ocurre la excepción `ZeroDivisionError`, el bloque `except` se ejecutará y mostrará un mensaje de error. Esto evita que el programa se detenga abruptamente debido al error de división por cero.\n",
    "\n",
    "**Manejo de División por Cero con Valores de Usuario:**\n",
    "\n",
    "También es posible manejar el error de división por cero cuando los valores son proporcionados por el usuario, para evitar que el programa falle.\n",
    "\n",
    "**Ejemplo de Manejo de División por Cero con Valores de Usuario:**"
   ]
  },
  {
   "cell_type": "code",
   "execution_count": 8,
   "metadata": {},
   "outputs": [
    {
     "name": "stdout",
     "output_type": "stream",
     "text": [
      "El resultado es: 0.35714285714285715\n"
     ]
    }
   ],
   "source": [
    "try:\n",
    "    numerador = float(input(\"Ingrese el numerador: \"))\n",
    "    denominador = float(input(\"Ingrese el denominador: \"))\n",
    "    resultado = numerador / denominador\n",
    "except ZeroDivisionError:\n",
    "    print(\"Error: División por cero\")\n",
    "except ValueError:\n",
    "    print(\"Error: Ingreso no válido\")\n",
    "else:\n",
    "    print(\"El resultado es:\", resultado)"
   ]
  },
  {
   "cell_type": "markdown",
   "metadata": {},
   "source": [
    "En este ejemplo, el programa solicita al usuario ingresar un numerador y un denominador. Luego, intenta realizar la división y maneja tanto la excepción de división por cero como la excepción de valores no válidos. Si no ocurre ninguna excepción, muestra el resultado de la división.\n",
    "\n",
    "**Resumen:**\n",
    "\n",
    "El error de división por cero en Python ocurre cuando intentamos dividir un número entre cero. Es importante manejar este error utilizando bloques `try` y `except` para evitar que el programa se bloquee. Al manejar este tipo de errores de manera adecuada, podemos escribir programas más robustos y amigables con el usuario."
   ]
  },
  {
   "cell_type": "markdown",
   "metadata": {},
   "source": [
    "## **Error de conversión**"
   ]
  },
  {
   "cell_type": "markdown",
   "metadata": {},
   "source": [
    "**Error de Conversión en Python: Explicación Detallada con Ejemplo**\n",
    "\n",
    "Un error de conversión en Python ocurre cuando intentamos convertir un valor de un tipo de dato a otro, pero la conversión no es posible debido a la incompatibilidad de tipos. Esto genera una excepción llamada `ValueError`. Aquí tienes una explicación detallada junto con un ejemplo sobre cómo ocurre este error y cómo manejarlo:\n",
    "\n",
    "**Ejemplo del Error de Conversión:**"
   ]
  },
  {
   "cell_type": "code",
   "execution_count": 9,
   "metadata": {},
   "outputs": [
    {
     "ename": "ValueError",
     "evalue": "invalid literal for int() with base 10: 'abc'",
     "output_type": "error",
     "traceback": [
      "\u001b[0;31m---------------------------------------------------------------------------\u001b[0m",
      "\u001b[0;31mValueError\u001b[0m                                Traceback (most recent call last)",
      "Cell \u001b[0;32mIn[9], line 1\u001b[0m\n\u001b[0;32m----> 1\u001b[0m numero_entero \u001b[39m=\u001b[39m \u001b[39mint\u001b[39;49m(\u001b[39m\"\u001b[39;49m\u001b[39mabc\u001b[39;49m\u001b[39m\"\u001b[39;49m)\n",
      "\u001b[0;31mValueError\u001b[0m: invalid literal for int() with base 10: 'abc'"
     ]
    }
   ],
   "source": [
    "numero_entero = int(\"abc\")"
   ]
  },
  {
   "cell_type": "markdown",
   "metadata": {},
   "source": [
    "Cuando intentamos ejecutar este código, obtendremos el siguiente error:"
   ]
  },
  {
   "cell_type": "code",
   "execution_count": 10,
   "metadata": {},
   "outputs": [
    {
     "ename": "SyntaxError",
     "evalue": "invalid syntax (1363889481.py, line 1)",
     "output_type": "error",
     "traceback": [
      "\u001b[0;36m  Cell \u001b[0;32mIn[10], line 1\u001b[0;36m\u001b[0m\n\u001b[0;31m    ValueError: invalid literal for int() with base 10: 'abc'\u001b[0m\n\u001b[0m                        ^\u001b[0m\n\u001b[0;31mSyntaxError\u001b[0m\u001b[0;31m:\u001b[0m invalid syntax\n"
     ]
    }
   ],
   "source": [
    "ValueError: invalid literal for int() with base 10: 'abc'"
   ]
  },
  {
   "cell_type": "markdown",
   "metadata": {},
   "source": [
    "Este error ocurre porque estamos intentando convertir la cadena `\"abc\"` a un número entero utilizando la función `int()`, pero la cadena no puede ser interpretada como un número válido.\n",
    "\n",
    "**Manejo del Error de Conversión:**\n",
    "\n",
    "Podemos utilizar un bloque `try` y `except` para manejar el error de conversión y evitar que el programa se bloquee.\n",
    "\n",
    "**Ejemplo de Manejo del Error de Conversión:**"
   ]
  },
  {
   "cell_type": "code",
   "execution_count": 11,
   "metadata": {},
   "outputs": [
    {
     "name": "stdout",
     "output_type": "stream",
     "text": [
      "Error: No se pudo convertir a entero\n"
     ]
    }
   ],
   "source": [
    "try:\n",
    "    numero_entero = int(\"abc\")\n",
    "except ValueError:\n",
    "    print(\"Error: No se pudo convertir a entero\")"
   ]
  },
  {
   "cell_type": "markdown",
   "metadata": {},
   "source": [
    "En este ejemplo, hemos envuelto la conversión en un bloque `try`. Si ocurre la excepción `ValueError`, el bloque `except` se ejecutará y mostrará un mensaje de error. Esto evita que el programa se detenga abruptamente debido al error de conversión.\n",
    "\n",
    "**Manejo de Conversión con Valores de Usuario:**\n",
    "\n",
    "También es posible manejar el error de conversión cuando los valores son proporcionados por el usuario, para evitar que el programa falle.\n",
    "\n",
    "**Ejemplo de Manejo de Conversión con Valores de Usuario:**"
   ]
  },
  {
   "cell_type": "code",
   "execution_count": 12,
   "metadata": {},
   "outputs": [
    {
     "name": "stdout",
     "output_type": "stream",
     "text": [
      "El número ingresado es: 14.0\n"
     ]
    }
   ],
   "source": [
    "try:\n",
    "    numero = float(input(\"Ingrese un número: \"))\n",
    "except ValueError:\n",
    "    print(\"Error: Valor no válido\")\n",
    "else:\n",
    "    print(\"El número ingresado es:\", numero)"
   ]
  },
  {
   "cell_type": "markdown",
   "metadata": {},
   "source": [
    "En este ejemplo, el programa solicita al usuario ingresar un número. Luego, intenta convertir la entrada en un número de punto flotante. Si el usuario ingresa un valor no numérico, se captura la excepción `ValueError` y se muestra un mensaje de error. Si el usuario ingresa un valor válido, se muestra el número ingresado.\n",
    "\n",
    "**Resumen:**\n",
    "\n",
    "Los errores de conversión en Python ocurren cuando intentamos convertir un valor de un tipo a otro, pero la conversión no es posible. El manejo de este tipo de errores utilizando bloques `try` y `except` es una buena práctica para evitar que el programa se bloquee y para brindar una experiencia más amigable al usuario."
   ]
  },
  {
   "cell_type": "markdown",
   "metadata": {},
   "source": [
    "## **Explicación del bloque try except**"
   ]
  },
  {
   "cell_type": "markdown",
   "metadata": {},
   "source": [
    "**Bloque Try Except en Python: Explicación Detallada con Ejemplos**\n",
    "\n",
    "El bloque `try` y `except` en Python es una construcción que permite manejar excepciones o errores que puedan ocurrir durante la ejecución de un programa. Te permite capturar y controlar estas excepciones para que el programa no se bloquee abruptamente en caso de que ocurra un error. Aquí tienes una explicación detallada junto con ejemplos sobre cómo utilizar el bloque `try` y `except` en Python:\n",
    "\n",
    "**Estructura Básica del Bloque Try Except:**\n",
    "\n",
    "La estructura básica del bloque `try` y `except` es la siguiente:\n",
    "\n",
    "```python\n",
    "try:\n",
    "    # Código que podría generar una excepción\n",
    "except TipoDeExcepcion:\n",
    "    # Código a ejecutar si ocurre la excepción\n",
    "```\n",
    "\n",
    "**Ejemplo 1: Manejo de Excepción de División por Cero:**"
   ]
  },
  {
   "cell_type": "code",
   "execution_count": 13,
   "metadata": {},
   "outputs": [
    {
     "name": "stdout",
     "output_type": "stream",
     "text": [
      "Error: División por cero\n"
     ]
    }
   ],
   "source": [
    "try:\n",
    "    resultado = 10 / 0  # Esto causa una excepción de división por cero\n",
    "except ZeroDivisionError:\n",
    "    print(\"Error: División por cero\")"
   ]
  },
  {
   "cell_type": "markdown",
   "metadata": {},
   "source": [
    "En este ejemplo, el código dentro del bloque `try` intenta realizar una división por cero, lo que generará una excepción `ZeroDivisionError`. El bloque `except` captura esa excepción y muestra un mensaje de error.\n",
    "\n",
    "**Ejemplo 2: Manejo de Excepción de Conversión de Tipo:**"
   ]
  },
  {
   "cell_type": "code",
   "execution_count": 14,
   "metadata": {},
   "outputs": [
    {
     "name": "stdout",
     "output_type": "stream",
     "text": [
      "Error: No se pudo convertir a entero\n"
     ]
    }
   ],
   "source": [
    "try:\n",
    "    numero = int(\"abc\")  # Esto causa una excepción de conversión de tipo\n",
    "except ValueError:\n",
    "    print(\"Error: No se pudo convertir a entero\")"
   ]
  },
  {
   "cell_type": "markdown",
   "metadata": {},
   "source": [
    "En este ejemplo, el código dentro del bloque `try` intenta convertir la cadena `\"abc\"` a un entero, lo que generará una excepción `ValueError`. El bloque `except` captura esa excepción y muestra un mensaje de error.\n",
    "\n",
    "**Manejo de Múltiples Excepciones:**\n",
    "\n",
    "Puedes manejar múltiples tipos de excepciones utilizando varios bloques `except`.\n",
    "\n",
    "**Ejemplo 3: Manejo de Múltiples Excepciones:**"
   ]
  },
  {
   "cell_type": "code",
   "execution_count": 15,
   "metadata": {},
   "outputs": [
    {
     "name": "stdout",
     "output_type": "stream",
     "text": [
      "Error: División por cero\n"
     ]
    }
   ],
   "source": [
    "try:\n",
    "    resultado = 10 / 0\n",
    "    numero = int(\"abc\")\n",
    "except ZeroDivisionError:\n",
    "    print(\"Error: División por cero\")\n",
    "except ValueError:\n",
    "    print(\"Error: No se pudo convertir a entero\")"
   ]
  },
  {
   "cell_type": "markdown",
   "metadata": {},
   "source": [
    "En este ejemplo, el programa intenta dividir por cero y convertir `\"abc\"` a un entero. Los bloques `except` correspondientes capturan las excepciones adecuadas para cada operación.\n",
    "\n",
    "**Bloque Else (Opcional):**\n",
    "\n",
    "Puedes utilizar un bloque `else` después de todos los bloques `except` para ejecutar un código cuando no ocurre ninguna excepción.\n",
    "\n",
    "**Ejemplo 4: Uso del Bloque Else:**"
   ]
  },
  {
   "cell_type": "code",
   "execution_count": 16,
   "metadata": {},
   "outputs": [
    {
     "name": "stdout",
     "output_type": "stream",
     "text": [
      "El resultado es: 5.0\n"
     ]
    }
   ],
   "source": [
    "try:\n",
    "    resultado = 10 / 2\n",
    "except ZeroDivisionError:\n",
    "    print(\"Error: División por cero\")\n",
    "else:\n",
    "    print(\"El resultado es:\", resultado)"
   ]
  },
  {
   "cell_type": "markdown",
   "metadata": {},
   "source": [
    "En este ejemplo, como no ocurre ninguna excepción, el código dentro del bloque `else` se ejecuta y muestra el resultado de la división.\n",
    "\n",
    "**Bloque Finally (Opcional):**\n",
    "\n",
    "Puedes utilizar un bloque `finally` después de los bloques `try` y `except` para ejecutar un código sin importar si ocurre o no una excepción.\n",
    "\n",
    "**Ejemplo 5: Uso del Bloque Finally:**"
   ]
  },
  {
   "cell_type": "code",
   "execution_count": 18,
   "metadata": {},
   "outputs": [
    {
     "name": "stdout",
     "output_type": "stream",
     "text": [
      "Error: El archivo no existe\n"
     ]
    }
   ],
   "source": [
    "archivo = None  # Inicializar la variable archivo fuera del bloque try\n",
    "\n",
    "try:\n",
    "    archivo = open(\"archivo.txt\", \"r\")\n",
    "    contenido = archivo.read()\n",
    "except FileNotFoundError:\n",
    "    print(\"Error: El archivo no existe\")\n",
    "finally:\n",
    "    if archivo is not None:\n",
    "        archivo.close()  # Cerrar el archivo si se abrió correctamente"
   ]
  },
  {
   "cell_type": "markdown",
   "metadata": {},
   "source": [
    "En este ejemplo, el bloque `finally` asegura que el archivo se cierre correctamente, independientemente de si ocurre una excepción o no.\n",
    "\n",
    "**Resumen:**\n",
    "\n",
    "El bloque `try` y `except` en Python es una herramienta poderosa para manejar excepciones y evitar que los programas se bloqueen debido a errores. Los bloques `else` y `finally` ofrecen formas adicionales de controlar el flujo del programa y asegurarse de que los recursos se manejen correctamente. Utilizar el manejo de excepciones es esencial para escribir programas robustos y amigables con el usuario."
   ]
  },
  {
   "cell_type": "markdown",
   "metadata": {},
   "source": [
    "## **Cómo y por qué lanzar excepciones**"
   ]
  },
  {
   "cell_type": "markdown",
   "metadata": {},
   "source": [
    "Lanzar excepciones en Python es una forma de notificar y manejar situaciones excepcionales o errores en tu código. Puedes lanzar una excepción cuando ocurre una condición inesperada que requiere una atención especial. Esto permite que el flujo del programa se desvíe de manera controlada hacia un bloque de manejo de excepciones utilizando `try` y `except`. Aquí tienes una explicación detallada sobre cómo y por qué lanzar excepciones, junto con ejemplos:\n",
    "\n",
    "**Cómo Lanzar Excepciones:**\n",
    "\n",
    "Para lanzar una excepción en Python, puedes utilizar la instrucción `raise` seguida por el tipo de excepción que deseas lanzar. Puedes lanzar excepciones predefinidas como `ValueError`, `TypeError`, `NameError`, entre otras, o incluso puedes crear tus propias clases de excepción personalizadas.\n",
    "\n",
    "**Ejemplo 1: Lanzar una Excepción Predefinida:**"
   ]
  },
  {
   "cell_type": "code",
   "execution_count": 19,
   "metadata": {},
   "outputs": [
    {
     "name": "stdout",
     "output_type": "stream",
     "text": [
      "Error: División por cero no permitida\n"
     ]
    }
   ],
   "source": [
    "def dividir(a, b):\n",
    "    if b == 0:\n",
    "        raise ZeroDivisionError(\"División por cero no permitida\")\n",
    "    return a / b\n",
    "\n",
    "try:\n",
    "    resultado = dividir(10, 0)\n",
    "except ZeroDivisionError as e:\n",
    "    print(\"Error:\", e)"
   ]
  },
  {
   "cell_type": "markdown",
   "metadata": {},
   "source": [
    "En este ejemplo, la función `dividir()` lanza una excepción de `ZeroDivisionError` si el divisor (`b`) es cero. Luego, en el bloque `try` y `except`, capturamos la excepción y mostramos un mensaje de error.\n",
    "\n",
    "**Ejemplo 2: Lanzar una Excepción Personalizada:**"
   ]
  },
  {
   "cell_type": "code",
   "execution_count": 20,
   "metadata": {},
   "outputs": [
    {
     "name": "stdout",
     "output_type": "stream",
     "text": [
      "Error: Eres menor de edad\n"
     ]
    }
   ],
   "source": [
    "class MiExcepcion(Exception):\n",
    "    def __init__(self, mensaje):\n",
    "        self.mensaje = mensaje\n",
    "\n",
    "def verificar_edad(edad):\n",
    "    if edad < 18:\n",
    "        raise MiExcepcion(\"Eres menor de edad\")\n",
    "\n",
    "try:\n",
    "    verificar_edad(15)\n",
    "except MiExcepcion as e:\n",
    "    print(\"Error:\", e.mensaje)"
   ]
  },
  {
   "cell_type": "markdown",
   "metadata": {},
   "source": [
    "En este ejemplo, creamos una clase de excepción personalizada llamada `MiExcepcion`. La función `verificar_edad()` lanza una instancia de esta excepción si la edad es menor de 18. Luego, en el bloque `try` y `except`, capturamos la excepción y mostramos el mensaje personalizado.\n",
    "\n",
    "**Por qué Lanzar Excepciones:**\n",
    "\n",
    "1. **Comunicar Errores:** Lanzar excepciones es una forma efectiva de comunicar errores y problemas en tu código a otros desarrolladores o a ti mismo en el futuro.\n",
    "\n",
    "2. **Evitar Comportamiento Inesperado:** Lanzar excepciones cuando ocurren condiciones inesperadas ayuda a evitar resultados incorrectos o comportamientos no deseados en tu programa.\n",
    "\n",
    "3. **Facilitar el Manejo de Errores:** Lanzar excepciones permite encapsular el manejo de errores en bloques `try` y `except`, lo que ayuda a mantener el flujo del programa controlado y evitar bloqueos.\n",
    "\n",
    "4. **Documentación y Depuración:** Las excepciones proporcionan una forma clara de documentar y depurar los problemas en el código, lo que facilita la identificación y resolución de errores.\n",
    "\n",
    "En resumen, lanzar excepciones en Python te permite notificar y manejar situaciones excepcionales en tu código. Esto mejora la legibilidad, la mantenibilidad y la robustez de tus programas al proporcionar un mecanismo para tratar errores de manera controlada."
   ]
  },
  {
   "cell_type": "markdown",
   "metadata": {},
   "source": [
    "## **¿Qué se puede hacer si no sucede ninguna excepción?**"
   ]
  },
  {
   "cell_type": "markdown",
   "metadata": {},
   "source": [
    "Si no ocurre ninguna excepción en un bloque `try` en Python, el flujo del programa simplemente sigue adelante y se ejecuta el código que está fuera del bloque `try` y `except`. Esto es útil cuando deseas manejar casos normales y excepcionales de manera separada. Aquí tienes algunos escenarios comunes sobre qué hacer si no sucede ninguna excepción:\n",
    "\n",
    "**Ejemplo 1: Usar el Bloque Else:**\n",
    "\n",
    "Puedes usar un bloque `else` después de los bloques `except` para ejecutar un código cuando no ocurre ninguna excepción en el bloque `try`. Esto es útil para manejar casos normales y excepcionales de manera diferenciada."
   ]
  },
  {
   "cell_type": "code",
   "execution_count": 21,
   "metadata": {},
   "outputs": [
    {
     "name": "stdout",
     "output_type": "stream",
     "text": [
      "El resultado es: 5.0\n"
     ]
    }
   ],
   "source": [
    "try:\n",
    "    resultado = 10 / 2\n",
    "except ZeroDivisionError:\n",
    "    print(\"Error: División por cero\")\n",
    "else:\n",
    "    print(\"El resultado es:\", resultado)"
   ]
  },
  {
   "cell_type": "markdown",
   "metadata": {},
   "source": [
    "En este ejemplo, el bloque `else` se ejecutará si no se produce una excepción `ZeroDivisionError`. Imprimirá el resultado de la división exitosa.\n",
    "\n",
    "**Ejemplo 2: Realizar Acciones Adicionales:**\n",
    "\n",
    "Si no ocurre una excepción, puedes realizar acciones adicionales en función del resultado exitoso de la operación dentro del bloque `try`."
   ]
  },
  {
   "cell_type": "code",
   "execution_count": 22,
   "metadata": {},
   "outputs": [
    {
     "name": "stdout",
     "output_type": "stream",
     "text": [
      "Error: El archivo no existe\n"
     ]
    }
   ],
   "source": [
    "try:\n",
    "    archivo = open(\"datos.txt\", \"r\")\n",
    "    contenido = archivo.read()\n",
    "except FileNotFoundError:\n",
    "    print(\"Error: El archivo no existe\")\n",
    "else:\n",
    "    archivo.close()\n",
    "    print(\"Contenido del archivo:\", contenido)"
   ]
  },
  {
   "cell_type": "markdown",
   "metadata": {},
   "source": [
    "En este ejemplo, si la apertura del archivo tiene éxito, se realiza la lectura y se cierra el archivo. Luego, se muestra el contenido del archivo.\n",
    "\n",
    "**Ejemplo 3: Continuar con la Ejecución Normal:**\n",
    "\n",
    "Si no ocurre una excepción, simplemente puedes continuar con la ejecución normal del programa sin ninguna acción adicional."
   ]
  },
  {
   "cell_type": "code",
   "execution_count": 23,
   "metadata": {},
   "outputs": [
    {
     "name": "stdout",
     "output_type": "stream",
     "text": [
      "La ejecución continúa normalmente\n"
     ]
    }
   ],
   "source": [
    "try:\n",
    "    resultado = 10 / 2\n",
    "except ZeroDivisionError:\n",
    "    print(\"Error: División por cero\")\n",
    "# Sin bloque else ni acciones adicionales\n",
    "print(\"La ejecución continúa normalmente\")"
   ]
  },
  {
   "cell_type": "markdown",
   "metadata": {},
   "source": [
    "En este ejemplo, si no ocurre una excepción, el programa simplemente continuará con la ejecución normal después del bloque `try` sin realizar ninguna acción adicional.\n",
    "\n",
    "En resumen, cuando no ocurre ninguna excepción en un bloque `try`, puedes aprovechar el bloque `else` para realizar acciones relacionadas con el éxito de la operación o simplemente continuar con la ejecución normal del programa. El bloque `else` es una forma útil de manejar casos donde no hay errores y quieres realizar acciones adicionales en función de ese escenario."
   ]
  },
  {
   "cell_type": "markdown",
   "metadata": {},
   "source": [
    "| **Inicio** | **atrás 15** | **Siguiente 17** |\n",
    "|----------- |-------------- |---------------|\n",
    "| [🏠](../../README.md) | [⏪](./15_Diccionarios_en_Python.ipynb)| [⏩](./17_Encapsulamiento_de_Objetos.ipynb)|"
   ]
  }
 ],
 "metadata": {
  "kernelspec": {
   "display_name": "base",
   "language": "python",
   "name": "python3"
  },
  "language_info": {
   "codemirror_mode": {
    "name": "ipython",
    "version": 3
   },
   "file_extension": ".py",
   "mimetype": "text/x-python",
   "name": "python",
   "nbconvert_exporter": "python",
   "pygments_lexer": "ipython3",
   "version": "3.9.12"
  },
  "orig_nbformat": 4
 },
 "nbformat": 4,
 "nbformat_minor": 2
}
