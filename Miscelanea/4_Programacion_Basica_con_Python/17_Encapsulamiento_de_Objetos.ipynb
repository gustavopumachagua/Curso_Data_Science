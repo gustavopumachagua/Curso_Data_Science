{
 "cells": [
  {
   "cell_type": "markdown",
   "metadata": {},
   "source": [
    "| **Inicio** | **atrás 16** | **Siguiente 18** |\n",
    "|----------- |-------------- |---------------|\n",
    "| [🏠](../../README.md) | [⏪](./16_Try%20Except.ipynb)| [⏩](./18_Profundiza_en_la_Programacion_Orientada_a_Objetos.ipynb)|"
   ]
  },
  {
   "cell_type": "markdown",
   "metadata": {},
   "source": [
    "# **17. Encapsulamiento de Objetos - Atributos públicos y privados - Programación Orientada a Objetos Python**"
   ]
  },
  {
   "cell_type": "markdown",
   "metadata": {},
   "source": [
    "## **Introducción al encapsulamiento**"
   ]
  },
  {
   "cell_type": "markdown",
   "metadata": {},
   "source": [
    "**Encapsulamiento de Objetos en Python: Atributos Públicos y Privados**\n",
    "\n",
    "El encapsulamiento es uno de los conceptos fundamentales de la Programación Orientada a Objetos (POO). Se refiere a la práctica de ocultar los detalles internos de un objeto y proporcionar una interfaz controlada para acceder y manipular los datos y comportamientos de dicho objeto. En Python, se implementa el encapsulamiento utilizando atributos públicos y privados.\n",
    "\n",
    "**Atributos Públicos y Privados:**\n",
    "\n",
    "- **Atributos Públicos:** Son atributos que pueden ser accedidos y modificados directamente desde fuera de la clase. No hay restricciones en su acceso. Se definen usando la sintaxis `self.nombre_atributo = valor`.\n",
    "\n",
    "- **Atributos Privados:** Son atributos que están destinados a ser accesibles solo desde dentro de la clase. Se definen usando la sintaxis `self.__nombre_atributo = valor`. Python cambia el nombre del atributo agregando un prefijo de `_nombre_clase` para hacerlo más difícil de acceder desde fuera de la clase, pero aún es posible acceder a ellos.\n",
    "\n",
    "**Beneficios del Encapsulamiento:**\n",
    "\n",
    "- **Ocultamiento de Detalles Internos:** Los atributos internos de una clase pueden ocultarse, lo que permite cambiar la implementación interna sin afectar el código que utiliza la clase.\n",
    "\n",
    "- **Control de Acceso:** El encapsulamiento permite controlar quién y cómo accede y modifica los atributos de la clase, evitando cambios accidentales o incorrectos.\n",
    "\n",
    "- **Modularidad:** Se fomenta la creación de clases que interactúan a través de interfaces claras, lo que mejora la estructura y la modularidad del código.\n",
    "\n",
    "**Ejemplo de Encapsulamiento en Python:**"
   ]
  },
  {
   "cell_type": "code",
   "execution_count": 1,
   "metadata": {},
   "outputs": [
    {
     "name": "stdout",
     "output_type": "stream",
     "text": [
      "25\n",
      "Alice\n",
      "Alicia\n"
     ]
    }
   ],
   "source": [
    "class Persona:\n",
    "    def __init__(self, nombre, edad):\n",
    "        self.__nombre = nombre   # Atributo privado\n",
    "        self.edad = edad         # Atributo público\n",
    "\n",
    "    def get_nombre(self):\n",
    "        return self.__nombre\n",
    "\n",
    "    def set_nombre(self, nuevo_nombre):\n",
    "        if len(nuevo_nombre) > 3:\n",
    "            self.__nombre = nuevo_nombre\n",
    "\n",
    "# Creación de un objeto de la clase Persona\n",
    "persona = Persona(\"Alice\", 25)\n",
    "\n",
    "# Acceso a atributo público\n",
    "print(persona.edad)  # Salida: 25\n",
    "\n",
    "# Acceso a atributo privado usando método\n",
    "print(persona.get_nombre())  # Salida: Alice\n",
    "\n",
    "# Intento de acceso directo a atributo privado (genera error)\n",
    "# print(persona.__nombre)\n",
    "\n",
    "# Modificación de atributo privado usando método\n",
    "persona.set_nombre(\"Alicia\")\n",
    "\n",
    "# Intento de modificar atributo privado directamente (no recomendado)\n",
    "persona.__nombre = \"Eve\"\n",
    "\n",
    "# Acceso nuevamente al atributo privado usando método\n",
    "print(persona.get_nombre())  # Salida: Alicia"
   ]
  },
  {
   "cell_type": "markdown",
   "metadata": {},
   "source": [
    "En este ejemplo, la clase `Persona` tiene un atributo privado `__nombre` y un atributo público `edad`. Se proporcionan métodos `get_nombre()` y `set_nombre()` para acceder y modificar el atributo privado. Aunque se intenta acceder y modificar el atributo privado directamente, el encapsulamiento ayuda a controlar el acceso y modificación correctos de los atributos.\n",
    "\n",
    "**Resumen:**\n",
    "\n",
    "El encapsulamiento en Python permite ocultar los detalles internos de una clase y controlar el acceso a sus atributos. Los atributos públicos pueden ser accedidos directamente, mientras que los atributos privados están destinados a ser accedidos a través de métodos de acceso y modificación. El encapsulamiento mejora la seguridad, la modularidad y el control en la programación orientada a objetos."
   ]
  },
  {
   "cell_type": "markdown",
   "metadata": {},
   "source": [
    "## **Atributos públicos y privados**"
   ]
  },
  {
   "cell_type": "markdown",
   "metadata": {},
   "source": [
    "Los atributos públicos y privados son conceptos importantes en la Programación Orientada a Objetos (POO) que se refieren a cómo se accede y modifica la información dentro de una clase en un lenguaje de programación. Aquí tienes una explicación detallada sobre atributos públicos y privados, junto con ejemplos en Python:\n",
    "\n",
    "**Atributos Públicos:**\n",
    "\n",
    "- Los atributos públicos son aquellos que pueden ser accedidos y modificados directamente desde fuera de la clase.\n",
    "- Se definen sin un prefijo especial y pueden ser accedidos utilizando la instancia del objeto.\n",
    "- No hay restricciones en su acceso, lo que significa que se pueden modificar o leer libremente desde cualquier lugar.\n",
    "- Pueden ser útiles para atributos que deberían ser accesibles desde múltiples partes del programa.\n",
    "\n",
    "**Ejemplo de Atributo Público:**"
   ]
  },
  {
   "cell_type": "code",
   "execution_count": 2,
   "metadata": {},
   "outputs": [
    {
     "name": "stdout",
     "output_type": "stream",
     "text": [
      "Alice\n",
      "Alicia\n"
     ]
    }
   ],
   "source": [
    "class Persona:\n",
    "    def __init__(self, nombre):\n",
    "        self.nombre = nombre  # Atributo público\n",
    "\n",
    "# Creación de un objeto de la clase Persona\n",
    "persona = Persona(\"Alice\")\n",
    "\n",
    "# Acceso y modificación del atributo público\n",
    "print(persona.nombre)  # Salida: Alice\n",
    "persona.nombre = \"Alicia\"\n",
    "print(persona.nombre)  # Salida: Alicia"
   ]
  },
  {
   "cell_type": "markdown",
   "metadata": {},
   "source": [
    "**Atributos Privados:**\n",
    "\n",
    "- Los atributos privados son aquellos que están destinados a ser accedidos y modificados solo desde dentro de la clase.\n",
    "- Se definen utilizando un prefijo de doble guión bajo (`__`) antes del nombre del atributo.\n",
    "- Python cambia el nombre del atributo agregando un prefijo de `_nombre_clase`, lo que dificulta su acceso desde fuera de la clase, pero aún es posible acceder a ellos.\n",
    "- El acceso y la modificación de los atributos privados generalmente se hacen a través de métodos especiales llamados \"métodos de acceso\" y \"métodos de modificación\".\n",
    "\n",
    "**Ejemplo de Atributo Privado:**"
   ]
  },
  {
   "cell_type": "code",
   "execution_count": 3,
   "metadata": {},
   "outputs": [
    {
     "name": "stdout",
     "output_type": "stream",
     "text": [
      "Alice\n",
      "Alicia\n"
     ]
    }
   ],
   "source": [
    "class Persona:\n",
    "    def __init__(self, nombre):\n",
    "        self.__nombre = nombre  # Atributo privado\n",
    "\n",
    "    def obtener_nombre(self):\n",
    "        return self.__nombre\n",
    "\n",
    "    def establecer_nombre(self, nuevo_nombre):\n",
    "        self.__nombre = nuevo_nombre\n",
    "\n",
    "# Creación de un objeto de la clase Persona\n",
    "persona = Persona(\"Alice\")\n",
    "\n",
    "# Intento de acceso directo a atributo privado (genera error)\n",
    "# print(persona.__nombre)\n",
    "\n",
    "# Acceso y modificación del atributo privado a través de métodos\n",
    "print(persona.obtener_nombre())  # Salida: Alice\n",
    "persona.establecer_nombre(\"Alicia\")\n",
    "print(persona.obtener_nombre())  # Salida: Alicia"
   ]
  },
  {
   "cell_type": "markdown",
   "metadata": {},
   "source": [
    "**Consideraciones:**\n",
    "- En Python, el uso de atributos privados es más una convención que una restricción fuerte. Aunque se puede acceder a atributos privados, se recomienda seguir la convención de acceso a través de métodos de acceso y modificación para garantizar un encapsulamiento más sólido y evitar efectos secundarios no deseados.\n",
    "\n",
    "**Resumen:**\n",
    "Los atributos públicos son accesibles desde cualquier lugar, mientras que los atributos privados están destinados a ser accedidos y modificados solo desde dentro de la clase. El uso adecuado de atributos privados y métodos de acceso/modificación contribuye al encapsulamiento y la organización en la POO."
   ]
  },
  {
   "cell_type": "markdown",
   "metadata": {},
   "source": [
    "## **Cómo acceder a atributos privados**"
   ]
  },
  {
   "cell_type": "markdown",
   "metadata": {},
   "source": [
    "En Python, los atributos privados pueden ser accedidos a través de métodos de acceso y modificación definidos dentro de la clase. Aunque los atributos privados tienen un prefijo de doble guión bajo (`__`) que cambia su nombre para dificultar su acceso desde fuera de la clase, todavía es posible acceder a ellos usando métodos especiales. Aquí tienes cómo acceder a atributos privados mediante métodos de acceso:\n",
    "\n",
    "**Ejemplo:**"
   ]
  },
  {
   "cell_type": "code",
   "execution_count": 4,
   "metadata": {},
   "outputs": [
    {
     "name": "stdout",
     "output_type": "stream",
     "text": [
      "Alice\n",
      "Alicia\n"
     ]
    }
   ],
   "source": [
    "class Persona:\n",
    "    def __init__(self, nombre):\n",
    "        self.__nombre = nombre  # Atributo privado\n",
    "\n",
    "    def obtener_nombre(self):\n",
    "        return self.__nombre\n",
    "\n",
    "    def establecer_nombre(self, nuevo_nombre):\n",
    "        self.__nombre = nuevo_nombre\n",
    "\n",
    "# Creación de un objeto de la clase Persona\n",
    "persona = Persona(\"Alice\")\n",
    "\n",
    "# Acceso y modificación del atributo privado a través de métodos\n",
    "print(persona.obtener_nombre())  # Salida: Alice\n",
    "persona.establecer_nombre(\"Alicia\")\n",
    "print(persona.obtener_nombre())  # Salida: Alicia"
   ]
  },
  {
   "cell_type": "markdown",
   "metadata": {},
   "source": [
    "En este ejemplo, la clase `Persona` tiene un atributo privado `__nombre`. Se han definido métodos `obtener_nombre()` y `establecer_nombre()` para acceder y modificar el atributo privado. Esto proporciona un nivel de encapsulamiento, ya que los detalles internos del atributo privado se manejan a través de métodos de la clase.\n",
    "\n",
    "**Recuerda:**\n",
    "- Aunque técnicamente es posible acceder a atributos privados directamente desde fuera de la clase, es una buena práctica utilizar métodos de acceso para mantener la encapsulación y reducir la posibilidad de efectos secundarios no deseados.\n",
    "- Python cambia el nombre del atributo privado al agregar un prefijo de `_nombre_clase` para dificultar el acceso directo, pero aún puedes acceder a ellos usando el nuevo nombre.\n",
    "\n",
    "En resumen, para acceder a atributos privados en Python, se recomienda utilizar métodos de acceso y modificación definidos en la clase. Esto mejora el encapsulamiento y la organización de tu código."
   ]
  },
  {
   "cell_type": "markdown",
   "metadata": {},
   "source": [
    "## **Métodos de dominio para encapsulamiento**"
   ]
  },
  {
   "cell_type": "markdown",
   "metadata": {},
   "source": [
    "Los métodos de dominio son métodos especiales que se utilizan para acceder y modificar atributos privados en una clase en Python. Estos métodos proporcionan una forma controlada de interactuar con los atributos privados, manteniendo el encapsulamiento y la seguridad en el código. Los métodos de dominio incluyen:\n",
    "\n",
    "1. **Método Getter (Método de Acceso):** Este método se utiliza para obtener el valor de un atributo privado. Suele tener un nombre que comienza con \"get_\" seguido del nombre del atributo.\n",
    "\n",
    "2. **Método Setter (Método de Modificación):** Este método se utiliza para establecer un nuevo valor en un atributo privado. Suele tener un nombre que comienza con \"set_\" seguido del nombre del atributo.\n",
    "\n",
    "3. **Método Deleter (Método de Eliminación):** Este método se utiliza para eliminar un atributo privado de la instancia. Suele tener un nombre que comienza con \"del_\" seguido del nombre del atributo.\n",
    "\n",
    "Aquí tienes un ejemplo que demuestra el uso de métodos de dominio:"
   ]
  },
  {
   "cell_type": "code",
   "execution_count": 5,
   "metadata": {},
   "outputs": [
    {
     "name": "stdout",
     "output_type": "stream",
     "text": [
      "Alice\n",
      "Alicia\n",
      "30\n",
      "25\n"
     ]
    }
   ],
   "source": [
    "class Persona:\n",
    "    def __init__(self, nombre, edad):\n",
    "        self.__nombre = nombre\n",
    "        self.__edad = edad\n",
    "\n",
    "    # Getter para obtener el nombre\n",
    "    def get_nombre(self):\n",
    "        return self.__nombre\n",
    "\n",
    "    # Setter para modificar el nombre\n",
    "    def set_nombre(self, nuevo_nombre):\n",
    "        if len(nuevo_nombre) > 3:\n",
    "            self.__nombre = nuevo_nombre\n",
    "        else:\n",
    "            print(\"El nombre debe tener más de 3 caracteres.\")\n",
    "\n",
    "    # Getter para obtener la edad\n",
    "    def get_edad(self):\n",
    "        return self.__edad\n",
    "\n",
    "    # Setter para modificar la edad\n",
    "    def set_edad(self, nueva_edad):\n",
    "        if nueva_edad >= 0:\n",
    "            self.__edad = nueva_edad\n",
    "        else:\n",
    "            print(\"La edad no puede ser negativa.\")\n",
    "\n",
    "# Creación de un objeto de la clase Persona\n",
    "persona = Persona(\"Alice\", 30)\n",
    "\n",
    "# Acceso y modificación usando métodos de dominio\n",
    "print(persona.get_nombre())  # Salida: Alice\n",
    "persona.set_nombre(\"Alicia\")\n",
    "print(persona.get_nombre())  # Salida: Alicia\n",
    "\n",
    "print(persona.get_edad())    # Salida: 30\n",
    "persona.set_edad(25)\n",
    "print(persona.get_edad())    # Salida: 25"
   ]
  },
  {
   "cell_type": "markdown",
   "metadata": {},
   "source": [
    "En este ejemplo, los métodos `get_nombre()`, `set_nombre()`, `get_edad()`, y `set_edad()` son los métodos de dominio que permiten acceder y modificar los atributos privados `__nombre` y `__edad`. Estos métodos proporcionan un nivel de control y encapsulamiento sobre el acceso a los atributos privados.\n",
    "\n",
    "Recuerda que el uso de métodos de dominio es una buena práctica para interactuar con atributos privados, ya que mantiene el encapsulamiento y permite agregar validaciones o lógica adicional a la manipulación de datos."
   ]
  },
  {
   "cell_type": "markdown",
   "metadata": {},
   "source": [
    "| **Inicio** | **atrás 16** | **Siguiente 18** |\n",
    "|----------- |-------------- |---------------|\n",
    "| [🏠](../../README.md) | [⏪](./16_Try%20Except.ipynb)| [⏩](./18_Profundiza_en_la_Programacion_Orientada_a_Objetos.ipynb)|"
   ]
  }
 ],
 "metadata": {
  "kernelspec": {
   "display_name": "base",
   "language": "python",
   "name": "python3"
  },
  "language_info": {
   "codemirror_mode": {
    "name": "ipython",
    "version": 3
   },
   "file_extension": ".py",
   "mimetype": "text/x-python",
   "name": "python",
   "nbconvert_exporter": "python",
   "pygments_lexer": "ipython3",
   "version": "3.9.12"
  },
  "orig_nbformat": 4
 },
 "nbformat": 4,
 "nbformat_minor": 2
}
