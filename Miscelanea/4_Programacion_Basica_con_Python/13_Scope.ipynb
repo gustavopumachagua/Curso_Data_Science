{
 "cells": [
  {
   "cell_type": "markdown",
   "metadata": {},
   "source": [
    "| **Inicio** | **atrás 12** | **Siguiente 14** |\n",
    "|----------- |-------------- |---------------|\n",
    "| [🏠](../../README.md) | [⏪](./12_Parametros_por_Referencia.ipynb)| [⏩](./14_Funciones_Lambda.ipynb)|"
   ]
  },
  {
   "cell_type": "markdown",
   "metadata": {},
   "source": [
    "# **13. Alcance (o Scope) de Variables en Python**"
   ]
  },
  {
   "cell_type": "markdown",
   "metadata": {},
   "source": [
    "## **Introducción al alcance de variables**"
   ]
  },
  {
   "cell_type": "markdown",
   "metadata": {},
   "source": [
    "**Alcance (o Scope) de Variables en Python: Explicación Detallada con Ejemplos**\n",
    "\n",
    "El alcance, también conocido como ámbito o scope, se refiere a la parte del programa donde una variable es visible y puede ser accedida. En Python, el alcance de una variable está determinado por dónde se declara. Comprender el alcance es esencial para evitar errores y escribir código claro y organizado. Aquí tienes una explicación detallada junto con ejemplos para entender el alcance de las variables en Python:\n",
    "\n",
    "**Tipos de Alcance:**\n",
    "\n",
    "Python tiene dos tipos principales de alcance:\n",
    "\n",
    "1. **Alcance Global (Global Scope):** Las variables declaradas fuera de todas las funciones tienen un alcance global. Son visibles y accesibles en todo el programa.\n",
    "\n",
    "2. **Alcance Local (Local Scope):** Las variables declaradas dentro de una función tienen un alcance local. Son visibles y accesibles solo dentro de la función en la que se declararon.\n",
    "\n",
    "**Ejemplo: Alcance Global y Local:**"
   ]
  },
  {
   "cell_type": "code",
   "execution_count": 1,
   "metadata": {},
   "outputs": [
    {
     "name": "stdout",
     "output_type": "stream",
     "text": [
      "¡Hola, Alice!\n",
      "Alice\n"
     ]
    }
   ],
   "source": [
    "# Variable global\n",
    "nombre = \"Alice\"\n",
    "\n",
    "def saludar():\n",
    "    # Variable local\n",
    "    mensaje = \"¡Hola, \" + nombre + \"!\"\n",
    "    print(mensaje)\n",
    "\n",
    "saludar()\n",
    "print(nombre)  # Accesible porque es global\n",
    "# print(mensaje)  # Generaría un error, mensaje no está en el alcance global"
   ]
  },
  {
   "cell_type": "markdown",
   "metadata": {},
   "source": [
    "En este ejemplo, `nombre` es una variable global, lo que significa que se puede acceder tanto dentro como fuera de la función. `mensaje` es una variable local que solo está en el alcance de la función `saludar()` y no se puede acceder fuera de ella.\n",
    "\n",
    "**Alcance Anidado:**\n",
    "\n",
    "Si hay una función dentro de otra función, las variables en el alcance exterior también son visibles en el alcance interior.\n",
    "\n",
    "**Ejemplo: Alcance Anidado:**"
   ]
  },
  {
   "cell_type": "code",
   "execution_count": 2,
   "metadata": {},
   "outputs": [
    {
     "name": "stdout",
     "output_type": "stream",
     "text": [
      "15\n"
     ]
    }
   ],
   "source": [
    "def exterior():\n",
    "    x = 10\n",
    "\n",
    "    def interior():\n",
    "        y = 5\n",
    "        resultado = x + y  # x es del alcance exterior\n",
    "        print(resultado)\n",
    "\n",
    "    interior()\n",
    "\n",
    "exterior()\n",
    "# print(y)  # Generaría un error, y no está en el alcance global"
   ]
  },
  {
   "cell_type": "markdown",
   "metadata": {},
   "source": [
    "En este ejemplo, la función `interior()` puede acceder a la variable `x` del alcance exterior (`exterior()`), pero la variable `y` del alcance interior no es accesible fuera de `interior()`.\n",
    "\n",
    "**Palabra Clave `global`:**\n",
    "\n",
    "Si deseas modificar una variable global desde una función, debes usar la palabra clave `global` para indicar que estás haciendo referencia a la variable global y no creando una variable local con el mismo nombre.\n",
    "\n",
    "**Ejemplo: Modificar Variable Global:**"
   ]
  },
  {
   "cell_type": "code",
   "execution_count": 3,
   "metadata": {},
   "outputs": [
    {
     "name": "stdout",
     "output_type": "stream",
     "text": [
      "1\n"
     ]
    }
   ],
   "source": [
    "contador = 0\n",
    "\n",
    "def incrementar_contador():\n",
    "    global contador  # Indicar que estamos usando la variable global\n",
    "    contador += 1\n",
    "\n",
    "incrementar_contador()\n",
    "print(contador)  # Salida: 1"
   ]
  },
  {
   "cell_type": "markdown",
   "metadata": {},
   "source": [
    "**Resumen:**\n",
    "\n",
    "El alcance de variables en Python se refiere a dónde una variable es visible y accesible. Las variables globales son visibles en todo el programa, mientras que las variables locales solo son visibles dentro de la función en la que se declararon. Comprender el alcance es fundamental para evitar errores y escribir un código claro y mantenible."
   ]
  },
  {
   "cell_type": "markdown",
   "metadata": {},
   "source": [
    "## **Ejemplo práctico del alcance de variables**"
   ]
  },
  {
   "cell_type": "markdown",
   "metadata": {},
   "source": [
    "**Ejemplo Práctico del Alcance de Variables en Python: Explicación Detallada**\n",
    "\n",
    "En este ejemplo práctico, crearemos una función que demuestre el alcance de variables globales y locales en Python. Utilizaremos tanto variables globales como locales para ilustrar cómo funcionan y cómo pueden afectar al programa. A continuación, proporciono una explicación detallada junto con el código de ejemplo:\n",
    "\n",
    "**Paso 1: Crear una Variable Global:**\n",
    "\n",
    "Primero, crearemos una variable global llamada `global_var` y le asignaremos un valor."
   ]
  },
  {
   "cell_type": "code",
   "execution_count": 4,
   "metadata": {},
   "outputs": [],
   "source": [
    "global_var = 100"
   ]
  },
  {
   "cell_type": "markdown",
   "metadata": {},
   "source": [
    "**Paso 2: Definir una Función con Variables Locales:**\n",
    "\n",
    "Luego, definiremos una función llamada `mi_funcion` que tendrá una variable local llamada `local_var`."
   ]
  },
  {
   "cell_type": "code",
   "execution_count": 5,
   "metadata": {},
   "outputs": [],
   "source": [
    "def mi_funcion():\n",
    "    local_var = 50\n",
    "    print(\"Variable local dentro de la función:\", local_var)\n",
    "    print(\"Variable global dentro de la función:\", global_var)"
   ]
  },
  {
   "cell_type": "markdown",
   "metadata": {},
   "source": [
    "**Paso 3: Llamar a la Función:**\n",
    "\n",
    "Llamaremos a la función `mi_funcion` para observar cómo se accede a las variables locales y globales."
   ]
  },
  {
   "cell_type": "code",
   "execution_count": 6,
   "metadata": {},
   "outputs": [
    {
     "name": "stdout",
     "output_type": "stream",
     "text": [
      "Variable local dentro de la función: 50\n",
      "Variable global dentro de la función: 100\n"
     ]
    }
   ],
   "source": [
    "mi_funcion()"
   ]
  },
  {
   "cell_type": "markdown",
   "metadata": {},
   "source": [
    "**Paso 4: Acceder a Variables Globales Fuera de la Función:**\n",
    "\n",
    "Intentaremos acceder a las variables globales tanto dentro como fuera de la función."
   ]
  },
  {
   "cell_type": "code",
   "execution_count": 7,
   "metadata": {},
   "outputs": [
    {
     "name": "stdout",
     "output_type": "stream",
     "text": [
      "Variable global fuera de la función: 100\n"
     ]
    }
   ],
   "source": [
    "print(\"Variable global fuera de la función:\", global_var)\n",
    "# print(\"Variable local fuera de la función:\", local_var)  # Generaría un error"
   ]
  },
  {
   "cell_type": "markdown",
   "metadata": {},
   "source": [
    "**Explicación Detallada:**\n",
    "\n",
    "En este ejemplo, creamos una variable global `global_var` con un valor de `100`. Luego, definimos la función `mi_funcion` con una variable local `local_var` que tiene un valor de `50`. Dentro de la función, podemos acceder tanto a la variable local como a la variable global. Sin embargo, fuera de la función, solo podemos acceder a la variable global.\n",
    "\n",
    "Cuando llamamos a la función `mi_funcion`, se imprime el valor de la variable local y global dentro de la función. Luego, intentamos imprimir la variable global fuera de la función y observamos que esto es posible.\n",
    "\n",
    "**Resumen:**\n",
    "\n",
    "El ejemplo práctico ilustra cómo las variables globales y locales tienen diferentes alcances. Las variables globales son accesibles tanto dentro como fuera de las funciones, mientras que las variables locales solo son accesibles dentro de la función en la que se declararon. Comprender estas diferencias es fundamental para evitar errores y escribir un código claro y organizado."
   ]
  },
  {
   "cell_type": "markdown",
   "metadata": {},
   "source": [
    "| **Inicio** | **atrás 12** | **Siguiente 14** |\n",
    "|----------- |-------------- |---------------|\n",
    "| [🏠](../../README.md) | [⏪](./12_Parametros_por_Referencia.ipynb)| [⏩](./14_Funciones_Lambda.ipynb)|"
   ]
  }
 ],
 "metadata": {
  "kernelspec": {
   "display_name": "base",
   "language": "python",
   "name": "python3"
  },
  "language_info": {
   "codemirror_mode": {
    "name": "ipython",
    "version": 3
   },
   "file_extension": ".py",
   "mimetype": "text/x-python",
   "name": "python",
   "nbconvert_exporter": "python",
   "pygments_lexer": "ipython3",
   "version": "3.9.12"
  },
  "orig_nbformat": 4
 },
 "nbformat": 4,
 "nbformat_minor": 2
}
