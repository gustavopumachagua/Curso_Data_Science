{
 "cells": [
  {
   "cell_type": "markdown",
   "metadata": {},
   "source": [
    "| **Inicio** | **atrás 14** | **Siguiente 16** |\n",
    "|----------- |-------------- |---------------|\n",
    "| [🏠](../../README.md) | [⏪](./14_Funciones_Lambda.ipynb)| [⏩](./16_Try%20Except.ipynb)|"
   ]
  },
  {
   "cell_type": "markdown",
   "metadata": {},
   "source": [
    "# **15. Diccionarios en Python: Una estructura de datos nativa ultra EFICIENTE**"
   ]
  },
  {
   "cell_type": "markdown",
   "metadata": {},
   "source": [
    "## **Introducción a los Diccionarios**"
   ]
  },
  {
   "cell_type": "markdown",
   "metadata": {},
   "source": [
    "**Diccionarios en Python: Una Estructura de Datos Nativa Ultra Eficiente - Explicación Detallada con Ejemplos**\n",
    "\n",
    "Los diccionarios en Python son una estructura de datos muy eficiente y versátil que te permite almacenar y organizar pares clave-valor. Cada clave se asocia con un valor y puedes acceder a los valores utilizando sus claves en lugar de índices numéricos. Los diccionarios son muy útiles para representar datos en forma de asociaciones, como bases de datos miniaturas. Aquí tienes una explicación detallada junto con ejemplos para comprender los diccionarios en Python:\n",
    "\n",
    "**Creación de un Diccionario:**\n",
    "\n",
    "Puedes crear un diccionario utilizando llaves `{}` y especificando pares clave-valor separados por comas.\n",
    "\n",
    "**Ejemplo 1: Creación de un Diccionario de Personas:**"
   ]
  },
  {
   "cell_type": "code",
   "execution_count": 1,
   "metadata": {},
   "outputs": [],
   "source": [
    "persona = {\n",
    "    \"nombre\": \"Alice\",\n",
    "    \"edad\": 30,\n",
    "    \"profesion\": \"ingeniera\"\n",
    "}"
   ]
  },
  {
   "cell_type": "markdown",
   "metadata": {},
   "source": [
    "En este ejemplo, hemos creado un diccionario que representa información sobre una persona con claves como \"nombre\", \"edad\" y \"profesion\".\n",
    "\n",
    "**Acceso y Modificación de Valores:**\n",
    "\n",
    "Puedes acceder a los valores de un diccionario utilizando las claves.\n",
    "\n",
    "**Ejemplo 2: Acceso a Valores en un Diccionario:**"
   ]
  },
  {
   "cell_type": "code",
   "execution_count": 2,
   "metadata": {},
   "outputs": [
    {
     "name": "stdout",
     "output_type": "stream",
     "text": [
      "Alice\n",
      "30\n"
     ]
    }
   ],
   "source": [
    "print(persona[\"nombre\"])  # Salida: \"Alice\"\n",
    "print(persona[\"edad\"])    # Salida: 30"
   ]
  },
  {
   "cell_type": "markdown",
   "metadata": {},
   "source": [
    "También puedes modificar los valores asociados a una clave.\n",
    "\n",
    "**Ejemplo 3: Modificación de Valores en un Diccionario:**"
   ]
  },
  {
   "cell_type": "code",
   "execution_count": 3,
   "metadata": {},
   "outputs": [
    {
     "name": "stdout",
     "output_type": "stream",
     "text": [
      "31\n"
     ]
    }
   ],
   "source": [
    "persona[\"edad\"] = 31\n",
    "print(persona[\"edad\"])  # Salida: 31"
   ]
  },
  {
   "cell_type": "markdown",
   "metadata": {},
   "source": [
    "**Agregar y Eliminar Elementos:**\n",
    "\n",
    "Puedes agregar nuevos pares clave-valor al diccionario o eliminarlos utilizando las funciones `dict[key] = value` y `del dict[key]`, respectivamente.\n",
    "\n",
    "**Ejemplo 4: Agregar y Eliminar Elementos de un Diccionario:**"
   ]
  },
  {
   "cell_type": "code",
   "execution_count": 4,
   "metadata": {},
   "outputs": [
    {
     "name": "stdout",
     "output_type": "stream",
     "text": [
      "{'nombre': 'Alice', 'edad': 31, 'profesion': 'ingeniera', 'ciudad': 'Nueva York'}\n",
      "{'nombre': 'Alice', 'edad': 31, 'ciudad': 'Nueva York'}\n"
     ]
    }
   ],
   "source": [
    "persona[\"ciudad\"] = \"Nueva York\"  # Agregar un nuevo par clave-valor\n",
    "print(persona)  # Ahora incluye la clave \"ciudad\"\n",
    "\n",
    "del persona[\"profesion\"]  # Eliminar la clave \"profesion\"\n",
    "print(persona)  # La clave \"profesion\" ya no está en el diccionario"
   ]
  },
  {
   "cell_type": "markdown",
   "metadata": {},
   "source": [
    "**Recorrido de Diccionarios:**\n",
    "\n",
    "Puedes recorrer un diccionario utilizando bucles `for`.\n",
    "\n",
    "**Ejemplo 5: Recorrido de Claves y Valores en un Diccionario:**"
   ]
  },
  {
   "cell_type": "code",
   "execution_count": 5,
   "metadata": {},
   "outputs": [
    {
     "name": "stdout",
     "output_type": "stream",
     "text": [
      "nombre : Alice\n",
      "edad : 31\n",
      "ciudad : Nueva York\n"
     ]
    }
   ],
   "source": [
    "for clave in persona:\n",
    "    valor = persona[clave]\n",
    "    print(clave, \":\", valor)"
   ]
  },
  {
   "cell_type": "markdown",
   "metadata": {},
   "source": [
    "También puedes usar el método `.items()` para recorrer claves y valores simultáneamente.\n",
    "\n",
    "**Ejemplo 6: Recorrido de Claves y Valores con `.items()`:**"
   ]
  },
  {
   "cell_type": "code",
   "execution_count": 6,
   "metadata": {},
   "outputs": [
    {
     "name": "stdout",
     "output_type": "stream",
     "text": [
      "nombre : Alice\n",
      "edad : 31\n",
      "ciudad : Nueva York\n"
     ]
    }
   ],
   "source": [
    "for clave, valor in persona.items():\n",
    "    print(clave, \":\", valor)"
   ]
  },
  {
   "cell_type": "markdown",
   "metadata": {},
   "source": [
    "**Métodos Útiles de Diccionario:**\n",
    "\n",
    "- `.keys()`: Devuelve una lista de todas las claves en el diccionario.\n",
    "- `.values()`: Devuelve una lista de todos los valores en el diccionario.\n",
    "- `.items()`: Devuelve una lista de tuplas clave-valor.\n",
    "\n",
    "**Ejemplo 7: Uso de Métodos de Diccionario:**"
   ]
  },
  {
   "cell_type": "code",
   "execution_count": 7,
   "metadata": {},
   "outputs": [
    {
     "name": "stdout",
     "output_type": "stream",
     "text": [
      "dict_keys(['nombre', 'edad', 'ciudad'])\n",
      "dict_values(['Alice', 31, 'Nueva York'])\n",
      "dict_items([('nombre', 'Alice'), ('edad', 31), ('ciudad', 'Nueva York')])\n"
     ]
    }
   ],
   "source": [
    "claves = persona.keys()\n",
    "print(claves)  # Salida: dict_keys(['nombre', 'edad', 'ciudad'])\n",
    "\n",
    "valores = persona.values()\n",
    "print(valores)  # Salida: dict_values(['Alice', 31, 'Nueva York'])\n",
    "\n",
    "items = persona.items()\n",
    "print(items)  # Salida: dict_items([('nombre', 'Alice'), ('edad', 31), ('ciudad', 'Nueva York')])"
   ]
  },
  {
   "cell_type": "markdown",
   "metadata": {},
   "source": [
    "**Resumen:**\n",
    "\n",
    "Los diccionarios en Python son una estructura de datos poderosa que permite almacenar datos en pares clave-valor. Son eficientes para buscar y actualizar valores usando sus claves únicas. Los diccionarios son ideales para representar datos estructurados y proporcionan una forma flexible de organizar y manipular información."
   ]
  },
  {
   "cell_type": "markdown",
   "metadata": {},
   "source": [
    "## **Explicación de llaves y valores**"
   ]
  },
  {
   "cell_type": "markdown",
   "metadata": {},
   "source": [
    "**Claves y Valores en Diccionarios de Python: Explicación Detallada con Ejemplos**\n",
    "\n",
    "Los diccionarios en Python están compuestos por pares clave-valor, donde cada clave se asocia con un valor específico. Las claves son únicas en un diccionario y se utilizan para acceder a los valores asociados. Los valores, por otro lado, son los datos almacenados en el diccionario y pueden ser de cualquier tipo, incluidos números, cadenas, listas u otros diccionarios. Aquí tienes una explicación detallada junto con ejemplos sobre claves y valores en diccionarios de Python:\n",
    "\n",
    "**Trabajo con Claves:**\n",
    "\n",
    "Las claves en un diccionario deben ser únicas y generalmente son cadenas o números. Las claves son utilizadas para acceder a los valores correspondientes en el diccionario.\n",
    "\n",
    "**Ejemplo 1: Creación de un Diccionario con Claves y Valores:**"
   ]
  },
  {
   "cell_type": "code",
   "execution_count": 8,
   "metadata": {},
   "outputs": [],
   "source": [
    "persona = {\n",
    "    \"nombre\": \"Alice\",\n",
    "    \"edad\": 30,\n",
    "    \"profesion\": \"ingeniera\"\n",
    "}"
   ]
  },
  {
   "cell_type": "markdown",
   "metadata": {},
   "source": [
    "En este ejemplo, \"nombre\", \"edad\" y \"profesion\" son claves en el diccionario `persona`.\n",
    "\n",
    "**Ejemplo 2: Acceso a Valores Utilizando Claves:**"
   ]
  },
  {
   "cell_type": "code",
   "execution_count": 9,
   "metadata": {},
   "outputs": [
    {
     "name": "stdout",
     "output_type": "stream",
     "text": [
      "Alice\n"
     ]
    }
   ],
   "source": [
    "nombre = persona[\"nombre\"]\n",
    "print(nombre)  # Salida: \"Alice\""
   ]
  },
  {
   "cell_type": "markdown",
   "metadata": {},
   "source": [
    "En este ejemplo, usamos la clave \"nombre\" para acceder al valor correspondiente en el diccionario.\n",
    "\n",
    "**Trabajo con Valores:**\n",
    "\n",
    "Los valores en un diccionario pueden ser de cualquier tipo, incluyendo números, cadenas, listas, tuplas, conjuntos, diccionarios, etc.\n",
    "\n",
    "**Ejemplo 3: Diccionario con Valores de Diferentes Tipos:**"
   ]
  },
  {
   "cell_type": "code",
   "execution_count": 10,
   "metadata": {},
   "outputs": [],
   "source": [
    "informacion = {\n",
    "    \"nombre\": \"John\",\n",
    "    \"edad\": 25,\n",
    "    \"puntuaciones\": [90, 85, 95],\n",
    "    \"activo\": True\n",
    "}"
   ]
  },
  {
   "cell_type": "markdown",
   "metadata": {},
   "source": [
    "En este ejemplo, el valor de \"nombre\" es una cadena, \"edad\" es un número, \"puntuaciones\" es una lista y \"activo\" es un valor booleano.\n",
    "\n",
    "**Ejemplo 4: Acceso a Valores con Tipos Diferentes:**"
   ]
  },
  {
   "cell_type": "code",
   "execution_count": 11,
   "metadata": {},
   "outputs": [
    {
     "name": "stdout",
     "output_type": "stream",
     "text": [
      "[90, 85, 95]\n"
     ]
    }
   ],
   "source": [
    "puntuaciones = informacion[\"puntuaciones\"]\n",
    "print(puntuaciones)  # Salida: [90, 85, 95]"
   ]
  },
  {
   "cell_type": "markdown",
   "metadata": {},
   "source": [
    "En este ejemplo, usamos la clave \"puntuaciones\" para acceder a la lista de valores.\n",
    "\n",
    "**Iteración a Través de Claves y Valores:**\n",
    "\n",
    "Puedes iterar a través de las claves y los valores de un diccionario utilizando bucles `for`.\n",
    "\n",
    "**Ejemplo 5: Iteración a Través de Claves y Valores:**"
   ]
  },
  {
   "cell_type": "code",
   "execution_count": 12,
   "metadata": {},
   "outputs": [
    {
     "name": "stdout",
     "output_type": "stream",
     "text": [
      "nombre : John\n",
      "edad : 25\n",
      "puntuaciones : [90, 85, 95]\n",
      "activo : True\n"
     ]
    }
   ],
   "source": [
    "for clave in informacion:\n",
    "    valor = informacion[clave]\n",
    "    print(clave, \":\", valor)"
   ]
  },
  {
   "cell_type": "markdown",
   "metadata": {},
   "source": [
    "También puedes usar el método `.items()` para iterar a través de claves y valores juntos.\n",
    "\n",
    "**Ejemplo 6: Iteración a Través de Claves y Valores con `.items()`:**"
   ]
  },
  {
   "cell_type": "code",
   "execution_count": 13,
   "metadata": {},
   "outputs": [
    {
     "name": "stdout",
     "output_type": "stream",
     "text": [
      "nombre : John\n",
      "edad : 25\n",
      "puntuaciones : [90, 85, 95]\n",
      "activo : True\n"
     ]
    }
   ],
   "source": [
    "for clave, valor in informacion.items():\n",
    "    print(clave, \":\", valor)"
   ]
  },
  {
   "cell_type": "markdown",
   "metadata": {},
   "source": [
    "**Resumen:**\n",
    "\n",
    "En resumen, los diccionarios en Python utilizan pares clave-valor para almacenar y organizar datos. Las claves son únicas y se utilizan para acceder a los valores correspondientes. Los valores pueden ser de cualquier tipo y contienen la información que deseas almacenar. Saber cómo trabajar con claves y valores es fundamental para aprovechar al máximo la eficiencia y la versatilidad de los diccionarios en Python."
   ]
  },
  {
   "cell_type": "markdown",
   "metadata": {},
   "source": [
    "## **Creación de diccionarios y métodos básicos**"
   ]
  },
  {
   "cell_type": "markdown",
   "metadata": {},
   "source": [
    "**Creación de Diccionarios y Métodos Básicos en Python: Explicación Detallada con Ejemplos**\n",
    "\n",
    "Los diccionarios en Python son una estructura de datos muy útil para almacenar y acceder a datos utilizando pares clave-valor. Aquí te proporciono una explicación detallada junto con ejemplos sobre cómo crear diccionarios y los métodos básicos disponibles para trabajar con ellos:\n",
    "\n",
    "**Creación de Diccionarios:**\n",
    "\n",
    "Puedes crear diccionarios utilizando llaves `{}` y especificando pares clave-valor separados por comas.\n",
    "\n",
    "**Ejemplo 1: Creación de un Diccionario de Persona:**"
   ]
  },
  {
   "cell_type": "code",
   "execution_count": 14,
   "metadata": {},
   "outputs": [],
   "source": [
    "persona = {\n",
    "    \"nombre\": \"Alice\",\n",
    "    \"edad\": 30,\n",
    "    \"profesion\": \"ingeniera\"\n",
    "}"
   ]
  },
  {
   "cell_type": "markdown",
   "metadata": {},
   "source": [
    "En este ejemplo, hemos creado un diccionario llamado `persona` con tres pares clave-valor.\n",
    "\n",
    "**Acceso a Valores:**\n",
    "\n",
    "Puedes acceder a los valores en un diccionario utilizando las claves.\n",
    "\n",
    "**Ejemplo 2: Acceso a Valores en un Diccionario:**"
   ]
  },
  {
   "cell_type": "code",
   "execution_count": 15,
   "metadata": {},
   "outputs": [
    {
     "name": "stdout",
     "output_type": "stream",
     "text": [
      "Alice\n"
     ]
    }
   ],
   "source": [
    "nombre = persona[\"nombre\"]\n",
    "print(nombre)  # Salida: \"Alice\""
   ]
  },
  {
   "cell_type": "markdown",
   "metadata": {},
   "source": [
    "En este ejemplo, accedemos al valor correspondiente a la clave \"nombre\" en el diccionario `persona`.\n",
    "\n",
    "**Método `keys()`:**\n",
    "\n",
    "El método `keys()` devuelve una vista de las claves presentes en el diccionario.\n",
    "\n",
    "**Ejemplo 3: Uso del Método `keys()`:**"
   ]
  },
  {
   "cell_type": "code",
   "execution_count": 16,
   "metadata": {},
   "outputs": [
    {
     "name": "stdout",
     "output_type": "stream",
     "text": [
      "dict_keys(['nombre', 'edad', 'profesion'])\n"
     ]
    }
   ],
   "source": [
    "claves = persona.keys()\n",
    "print(claves)  # Salida: dict_keys(['nombre', 'edad', 'profesion'])"
   ]
  },
  {
   "cell_type": "markdown",
   "metadata": {},
   "source": [
    "**Método `values()`:**\n",
    "\n",
    "El método `values()` devuelve una vista de los valores presentes en el diccionario.\n",
    "\n",
    "**Ejemplo 4: Uso del Método `values()`:**"
   ]
  },
  {
   "cell_type": "code",
   "execution_count": 17,
   "metadata": {},
   "outputs": [
    {
     "name": "stdout",
     "output_type": "stream",
     "text": [
      "dict_values(['Alice', 30, 'ingeniera'])\n"
     ]
    }
   ],
   "source": [
    "valores = persona.values()\n",
    "print(valores)  # Salida: dict_values(['Alice', 30, 'ingeniera'])"
   ]
  },
  {
   "cell_type": "markdown",
   "metadata": {},
   "source": [
    "**Método `items()`:**\n",
    "\n",
    "El método `items()` devuelve una vista de los pares clave-valor presentes en el diccionario como tuplas.\n",
    "\n",
    "**Ejemplo 5: Uso del Método `items()`:**"
   ]
  },
  {
   "cell_type": "code",
   "execution_count": 18,
   "metadata": {},
   "outputs": [
    {
     "name": "stdout",
     "output_type": "stream",
     "text": [
      "dict_items([('nombre', 'Alice'), ('edad', 30), ('profesion', 'ingeniera')])\n"
     ]
    }
   ],
   "source": [
    "items = persona.items()\n",
    "print(items)  # Salida: dict_items([('nombre', 'Alice'), ('edad', 30), ('profesion', 'ingeniera')])"
   ]
  },
  {
   "cell_type": "markdown",
   "metadata": {},
   "source": [
    "**Agregar y Modificar Valores:**\n",
    "\n",
    "Puedes agregar nuevos pares clave-valor al diccionario o modificar los valores existentes utilizando la sintaxis `dict[clave] = valor`.\n",
    "\n",
    "**Ejemplo 6: Agregar y Modificar Valores en un Diccionario:**"
   ]
  },
  {
   "cell_type": "code",
   "execution_count": 19,
   "metadata": {},
   "outputs": [
    {
     "name": "stdout",
     "output_type": "stream",
     "text": [
      "{'nombre': 'Alice', 'edad': 30, 'profesion': 'ingeniera', 'ciudad': 'Nueva York'}\n",
      "{'nombre': 'Alice', 'edad': 31, 'profesion': 'ingeniera', 'ciudad': 'Nueva York'}\n"
     ]
    }
   ],
   "source": [
    "persona[\"ciudad\"] = \"Nueva York\"  # Agregar un nuevo par clave-valor\n",
    "print(persona)\n",
    "\n",
    "persona[\"edad\"] = 31  # Modificar el valor asociado a la clave \"edad\"\n",
    "print(persona)"
   ]
  },
  {
   "cell_type": "markdown",
   "metadata": {},
   "source": [
    "**Eliminar Valores:**\n",
    "\n",
    "Puedes eliminar un par clave-valor utilizando la palabra clave del.\n",
    "\n",
    "**Ejemplo 7: Eliminar un Valor en un Diccionario:**"
   ]
  },
  {
   "cell_type": "code",
   "execution_count": 20,
   "metadata": {},
   "outputs": [
    {
     "name": "stdout",
     "output_type": "stream",
     "text": [
      "{'nombre': 'Alice', 'edad': 31, 'ciudad': 'Nueva York'}\n"
     ]
    }
   ],
   "source": [
    "del persona[\"profesion\"]\n",
    "print(persona)"
   ]
  },
  {
   "cell_type": "markdown",
   "metadata": {},
   "source": [
    "**Resumen:**\n",
    "\n",
    "Los diccionarios en Python son útiles para almacenar datos en pares clave-valor. Puedes crear diccionarios, acceder a sus valores utilizando claves, y utilizar métodos como `keys()`, `values()` y `items()` para obtener vistas de las claves y valores. También puedes agregar, modificar y eliminar pares clave-valor en un diccionario. Estos conceptos básicos son fundamentales para trabajar eficazmente con diccionarios en Python."
   ]
  },
  {
   "cell_type": "markdown",
   "metadata": {},
   "source": [
    "## **Ejemplo de conteo de palabras con diccionarios**"
   ]
  },
  {
   "cell_type": "markdown",
   "metadata": {},
   "source": [
    "**Conteo de Palabras con Diccionarios en Python: Explicación Detallada con Ejemplo**\n",
    "\n",
    "Contar la frecuencia de palabras en un texto es una tarea común en procesamiento de lenguaje natural y análisis de datos. Los diccionarios son una estructura de datos útil para llevar a cabo esta tarea, ya que puedes utilizar las palabras como claves y sus frecuencias como valores. A continuación, te proporciono una explicación detallada junto con un ejemplo sobre cómo contar palabras utilizando diccionarios en Python:\n",
    "\n",
    "**Ejemplo: Conteo de Palabras en un Texto**\n",
    "\n",
    "Supongamos que tenemos el siguiente texto:\n",
    "\n",
    "```python\n",
    "texto = \"Hola mundo, hola Python. Python es un lenguaje de programación poderoso y versátil.\"\n",
    "```\n",
    "\n",
    "Queremos contar la frecuencia de cada palabra en este texto.\n",
    "\n",
    "**Pasos para el Conteo de Palabras:**\n",
    "\n",
    "1. Separa el texto en palabras.\n",
    "2. Crea un diccionario para almacenar la frecuencia de cada palabra.\n",
    "3. Recorre cada palabra y actualiza su frecuencia en el diccionario.\n",
    "\n",
    "**Implementación:**"
   ]
  },
  {
   "cell_type": "code",
   "execution_count": 21,
   "metadata": {},
   "outputs": [
    {
     "name": "stdout",
     "output_type": "stream",
     "text": [
      "hola: 2\n",
      "mundo,: 1\n",
      "python.: 1\n",
      "python: 1\n",
      "es: 1\n",
      "un: 1\n",
      "lenguaje: 1\n",
      "de: 1\n",
      "programación: 1\n",
      "poderoso: 1\n",
      "y: 1\n",
      "versátil.: 1\n"
     ]
    }
   ],
   "source": [
    "texto = \"Hola mundo, hola Python. Python es un lenguaje de programación poderoso y versátil.\"\n",
    "\n",
    "# Paso 1: Separar el texto en palabras\n",
    "palabras = texto.split()\n",
    "\n",
    "# Paso 2: Crear un diccionario vacío para almacenar la frecuencia de palabras\n",
    "frecuencia_palabras = {}\n",
    "\n",
    "# Paso 3: Recorrer las palabras y actualizar su frecuencia en el diccionario\n",
    "for palabra in palabras:\n",
    "    # Convertir la palabra a minúsculas para que el conteo sea insensible a mayúsculas\n",
    "    palabra = palabra.lower()\n",
    "    \n",
    "    # Si la palabra ya está en el diccionario, incrementar su frecuencia\n",
    "    if palabra in frecuencia_palabras:\n",
    "        frecuencia_palabras[palabra] += 1\n",
    "    else:\n",
    "        # Si la palabra no está en el diccionario, agregarla con frecuencia 1\n",
    "        frecuencia_palabras[palabra] = 1\n",
    "\n",
    "# Mostrar el resultado del conteo\n",
    "for palabra, frecuencia in frecuencia_palabras.items():\n",
    "    print(f\"{palabra}: {frecuencia}\")"
   ]
  },
  {
   "cell_type": "markdown",
   "metadata": {},
   "source": [
    "**Resultado:**\n",
    "\n",
    "```\n",
    "hola: 2\n",
    "mundo,: 1\n",
    "python.: 1\n",
    "python: 2\n",
    "es: 1\n",
    "un: 1\n",
    "lenguaje: 1\n",
    "de: 1\n",
    "programación: 1\n",
    "poderoso: 1\n",
    "y: 1\n",
    "versátil.: 1\n",
    "```\n",
    "\n",
    "**Resumen:**\n",
    "\n",
    "En este ejemplo, hemos utilizado un diccionario para contar la frecuencia de palabras en un texto. Al separar el texto en palabras y recorrerlas, hemos actualizado el diccionario con la frecuencia de cada palabra. Este es un ejemplo básico de cómo los diccionarios en Python pueden ser utilizados para tareas de análisis y procesamiento de texto, como el conteo de palabras."
   ]
  },
  {
   "cell_type": "markdown",
   "metadata": {},
   "source": [
    "## **Convertir diccionario a lista para ordenar valores**"
   ]
  },
  {
   "cell_type": "markdown",
   "metadata": {},
   "source": [
    "**Convertir un Diccionario a una Lista para Ordenar Valores en Python: Explicación Detallada con Ejemplo**\n",
    "\n",
    "A veces es útil convertir un diccionario a una lista para ordenar sus valores. Esto se hace para poder aplicar operaciones de ordenamiento a los valores y obtener una lista ordenada. Aquí tienes una explicación detallada junto con un ejemplo sobre cómo convertir un diccionario a una lista y luego ordenar sus valores en Python:\n",
    "\n",
    "**Ejemplo: Ordenamiento de Valores de un Diccionario**\n",
    "\n",
    "Supongamos que tenemos un diccionario que almacena nombres de personas y sus edades:\n",
    "\n"
   ]
  },
  {
   "cell_type": "code",
   "execution_count": 1,
   "metadata": {},
   "outputs": [],
   "source": [
    "edades = {\n",
    "    \"Alice\": 30,\n",
    "    \"Bob\": 25,\n",
    "    \"Carol\": 28,\n",
    "    \"David\": 22\n",
    "}"
   ]
  },
  {
   "cell_type": "markdown",
   "metadata": {},
   "source": [
    "Queremos ordenar los nombres de las personas por sus edades en orden ascendente.\n",
    "\n",
    "**Pasos para el Ordenamiento:**\n",
    "\n",
    "* Convertir el diccionario a una lista de tuplas.\n",
    "* Ordenar la lista de tuplas por los valores (edades).\n",
    "* Extraer los nombres ordenados de la lista de tuplas.\n",
    "\n",
    "**Implementación:**"
   ]
  },
  {
   "cell_type": "code",
   "execution_count": 2,
   "metadata": {},
   "outputs": [
    {
     "name": "stdout",
     "output_type": "stream",
     "text": [
      "['David', 'Bob', 'Carol', 'Alice']\n"
     ]
    }
   ],
   "source": [
    "edades = {\n",
    "    \"Alice\": 30,\n",
    "    \"Bob\": 25,\n",
    "    \"Carol\": 28,\n",
    "    \"David\": 22\n",
    "}\n",
    "\n",
    "# Paso 1: Convertir el diccionario a una lista de tuplas (nombre, edad)\n",
    "lista_edades = list(edades.items())\n",
    "\n",
    "# Paso 2: Ordenar la lista de tuplas por los valores (edades)\n",
    "lista_edades_ordenada = sorted(lista_edades, key=lambda x: x[1])\n",
    "\n",
    "# Paso 3: Extraer los nombres ordenados de la lista de tuplas\n",
    "nombres_ordenados = [nombre for nombre, _ in lista_edades_ordenada]\n",
    "\n",
    "# Mostrar el resultado\n",
    "print(nombres_ordenados)"
   ]
  },
  {
   "cell_type": "markdown",
   "metadata": {},
   "source": [
    "**Resultado:**\n",
    "\n",
    "```\n",
    "['David', 'Bob', 'Carol', 'Alice']\n",
    "```\n",
    "\n",
    "**Resumen:**\n",
    "\n",
    "En este ejemplo, hemos convertido un diccionario a una lista de tuplas para poder ordenar los valores (edades) utilizando la función `sorted()`. Después de ordenar la lista de tuplas, hemos extraído los nombres ordenados de la lista resultante. Este enfoque nos permite ordenar los valores de un diccionario y obtener una lista ordenada basada en esos valores."
   ]
  },
  {
   "cell_type": "markdown",
   "metadata": {},
   "source": [
    "| **Inicio** | **atrás 14** | **Siguiente 16** |\n",
    "|----------- |-------------- |---------------|\n",
    "| [🏠](../../README.md) | [⏪](./14_Funciones_Lambda.ipynb)| [⏩](./16_Try%20Except.ipynb)|"
   ]
  }
 ],
 "metadata": {
  "kernelspec": {
   "display_name": "base",
   "language": "python",
   "name": "python3"
  },
  "language_info": {
   "codemirror_mode": {
    "name": "ipython",
    "version": 3
   },
   "file_extension": ".py",
   "mimetype": "text/x-python",
   "name": "python",
   "nbconvert_exporter": "python",
   "pygments_lexer": "ipython3",
   "version": "3.9.12"
  },
  "orig_nbformat": 4
 },
 "nbformat": 4,
 "nbformat_minor": 2
}
