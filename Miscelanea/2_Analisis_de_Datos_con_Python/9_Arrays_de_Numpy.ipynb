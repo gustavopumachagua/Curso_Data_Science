{
 "cells": [
  {
   "cell_type": "markdown",
   "metadata": {},
   "source": [
    "| **Inicio** | **atrás 8** | **Siguiente 10** |\n",
    "|----------- |-------------- |---------------|\n",
    "| [🏠](../../README.md) | [⏪](./8_Procesamiento_de_Datos_Numpy.ipynb)| [⏩](./10_arreglos_en_numpy.ipynb)|"
   ]
  },
  {
   "cell_type": "markdown",
   "metadata": {},
   "source": [
    "# **9. Arrays de Numpy: Búsqueda y Filtrado de Datos con Python**"
   ]
  },
  {
   "cell_type": "markdown",
   "metadata": {},
   "source": [
    "## **Introducción a las búsquedas y filtros en Numpy**"
   ]
  },
  {
   "cell_type": "markdown",
   "metadata": {},
   "source": [
    "En NumPy, las búsquedas y filtros te permiten extraer información específica de un array o realizar búsquedas condicionales en los datos. Aquí te proporcionaré una introducción detallada a las operaciones de búsqueda y filtrado en NumPy, junto con ejemplos.\n",
    "\n",
    "**Búsqueda en un Array:**\n",
    "\n",
    "NumPy proporciona varias funciones para buscar elementos en un array, como `np.where`, que te permite encontrar las posiciones donde se cumple una condición dada."
   ]
  },
  {
   "cell_type": "code",
   "execution_count": 1,
   "metadata": {},
   "outputs": [
    {
     "name": "stdout",
     "output_type": "stream",
     "text": [
      "Posiciones donde arr > 30: (array([3, 4]),)\n"
     ]
    }
   ],
   "source": [
    "import numpy as np\n",
    "\n",
    "arr = np.array([10, 20, 30, 40, 50])\n",
    "\n",
    "# Encontrar las posiciones donde los elementos son mayores que 30\n",
    "indices = np.where(arr > 30)\n",
    "print(\"Posiciones donde arr > 30:\", indices)  # Output: (array([3, 4]),)"
   ]
  },
  {
   "cell_type": "markdown",
   "metadata": {},
   "source": [
    "En este ejemplo, `np.where` devuelve una tupla que contiene un array con las posiciones donde la condición se cumple.\n",
    "\n",
    "**Filtrado de Datos:**\n",
    "\n",
    "Puedes filtrar un array utilizando una condición y obtener solo los elementos que cumplen con esa condición."
   ]
  },
  {
   "cell_type": "code",
   "execution_count": 2,
   "metadata": {},
   "outputs": [
    {
     "name": "stdout",
     "output_type": "stream",
     "text": [
      "Elementos mayores que 30: [40 50]\n"
     ]
    }
   ],
   "source": [
    "# Filtrar elementos mayores que 30\n",
    "filtered_arr = arr[arr > 30]\n",
    "print(\"Elementos mayores que 30:\", filtered_arr)  # Output: [40, 50]"
   ]
  },
  {
   "cell_type": "markdown",
   "metadata": {},
   "source": [
    "**Filtros en Arrays Multidimensionales:**\n",
    "\n",
    "Las operaciones de búsqueda y filtrado también son aplicables a arrays multidimensionales."
   ]
  },
  {
   "cell_type": "code",
   "execution_count": 3,
   "metadata": {},
   "outputs": [
    {
     "name": "stdout",
     "output_type": "stream",
     "text": [
      "Posiciones donde matrix > 5: (array([1, 2, 2, 2]), array([2, 0, 1, 2]))\n",
      "Elementos mayores que 5: [6 7 8 9]\n"
     ]
    }
   ],
   "source": [
    "matrix = np.array([[1, 2, 3], [4, 5, 6], [7, 8, 9]])\n",
    "\n",
    "# Encontrar las posiciones donde los elementos son mayores que 5\n",
    "indices_matrix = np.where(matrix > 5)\n",
    "print(\"Posiciones donde matrix > 5:\", indices_matrix)  # Output: (array([1, 2, 2]), array([2, 0, 1]))\n",
    "\n",
    "# Filtrar elementos mayores que 5\n",
    "filtered_matrix = matrix[matrix > 5]\n",
    "print(\"Elementos mayores que 5:\", filtered_matrix)  # Output: [6, 7, 8, 9]"
   ]
  },
  {
   "cell_type": "markdown",
   "metadata": {},
   "source": [
    "**Máscara Booleana:**\n",
    "\n",
    "Una técnica común en NumPy es usar una máscara booleana para filtrar elementos."
   ]
  },
  {
   "cell_type": "code",
   "execution_count": 4,
   "metadata": {},
   "outputs": [
    {
     "name": "stdout",
     "output_type": "stream",
     "text": [
      "Elementos filtrados por máscara: [6 7 8 9]\n"
     ]
    }
   ],
   "source": [
    "# Crear una máscara booleana\n",
    "mask = matrix > 5\n",
    "\n",
    "# Usar la máscara para filtrar\n",
    "filtered_by_mask = matrix[mask]\n",
    "print(\"Elementos filtrados por máscara:\", filtered_by_mask)  # Output: [6, 7, 8, 9]"
   ]
  },
  {
   "cell_type": "markdown",
   "metadata": {},
   "source": [
    "La máscara booleana crea un array de valores booleanos que indica qué elementos cumplen la condición.\n",
    "\n",
    "En resumen, NumPy proporciona poderosas herramientas para realizar búsquedas y filtros en arrays de manera eficiente. Estas operaciones son esenciales para manipular y analizar datos de manera efectiva en el análisis numérico y científico."
   ]
  },
  {
   "cell_type": "markdown",
   "metadata": {},
   "source": [
    "## **Búsquedas con Where**"
   ]
  },
  {
   "cell_type": "markdown",
   "metadata": {},
   "source": [
    "La función `np.where` en NumPy es una herramienta útil para realizar búsquedas condicionales en arrays y encontrar las posiciones donde se cumple una determinada condición. Esta función puede utilizarse tanto en arrays unidimensionales como en arrays multidimensionales. A continuación, te proporcionaré una explicación detallada junto con ejemplos de cómo usar `np.where`.\n",
    "\n",
    "**Búsqueda con `np.where` en un Array Unidimensional:**\n",
    "\n",
    "Supongamos que tenemos un array de temperaturas y queremos encontrar las posiciones donde la temperatura es mayor que 25 grados Celsius."
   ]
  },
  {
   "cell_type": "code",
   "execution_count": 5,
   "metadata": {},
   "outputs": [
    {
     "name": "stdout",
     "output_type": "stream",
     "text": [
      "Posiciones donde temperaturas > 25: (array([2, 4, 5]),)\n"
     ]
    }
   ],
   "source": [
    "import numpy as np\n",
    "\n",
    "temperaturas = np.array([22, 24, 27, 20, 30, 28, 25, 23])\n",
    "\n",
    "# Encontrar las posiciones donde las temperaturas son mayores que 25\n",
    "posiciones = np.where(temperaturas > 25)\n",
    "print(\"Posiciones donde temperaturas > 25:\", posiciones)  # Output: (array([2, 4, 5]),)"
   ]
  },
  {
   "cell_type": "markdown",
   "metadata": {},
   "source": [
    "En este ejemplo, `np.where` devuelve una tupla que contiene un array de índices donde se cumple la condición (temperaturas mayores que 25).\n",
    "\n",
    "**Filtrado con `np.where` en un Array Unidimensional:**\n",
    "\n",
    "Podemos usar los resultados de `np.where` para filtrar los valores que cumplan con la condición."
   ]
  },
  {
   "cell_type": "code",
   "execution_count": 6,
   "metadata": {},
   "outputs": [
    {
     "name": "stdout",
     "output_type": "stream",
     "text": [
      "Temperaturas mayores que 25: [27 30 28]\n"
     ]
    }
   ],
   "source": [
    "temperaturas_filtradas = temperaturas[np.where(temperaturas > 25)]\n",
    "print(\"Temperaturas mayores que 25:\", temperaturas_filtradas)  # Output: [27, 30, 28]"
   ]
  },
  {
   "cell_type": "markdown",
   "metadata": {},
   "source": [
    "**Búsqueda con `np.where` en un Array Multidimensional:**\n",
    "\n",
    "Ahora, supongamos que tenemos una matriz de puntuaciones y queremos encontrar las posiciones donde las puntuaciones son mayores que 80."
   ]
  },
  {
   "cell_type": "code",
   "execution_count": 7,
   "metadata": {},
   "outputs": [
    {
     "name": "stdout",
     "output_type": "stream",
     "text": [
      "Posiciones donde puntuaciones > 80:\n",
      "Fila: 0, Columna: 0\n",
      "Fila: 0, Columna: 2\n",
      "Fila: 1, Columna: 1\n",
      "Fila: 1, Columna: 2\n",
      "Fila: 2, Columna: 0\n",
      "Fila: 2, Columna: 2\n"
     ]
    }
   ],
   "source": [
    "puntuaciones = np.array([[85, 75, 90],\n",
    "                         [70, 88, 92],\n",
    "                         [82, 78, 95]])\n",
    "\n",
    "# Encontrar las posiciones donde las puntuaciones son mayores que 80\n",
    "filas, columnas = np.where(puntuaciones > 80)\n",
    "print(\"Posiciones donde puntuaciones > 80:\")\n",
    "for fila, columna in zip(filas, columnas):\n",
    "    print(f\"Fila: {fila}, Columna: {columna}\")"
   ]
  },
  {
   "cell_type": "markdown",
   "metadata": {},
   "source": [
    "En este ejemplo, `np.where` devuelve dos arrays, uno con las posiciones de fila y otro con las posiciones de columna donde se cumple la condición (puntuaciones mayores que 80).\n",
    "\n",
    "En resumen, `np.where` es una función poderosa en NumPy que te permite buscar y filtrar elementos en arrays basados en condiciones específicas. Puedes usarla para encontrar las posiciones donde se cumple una condición y luego realizar operaciones adicionales utilizando esas posiciones, como filtrar los valores que cumplen con la condición."
   ]
  },
  {
   "cell_type": "markdown",
   "metadata": {},
   "source": [
    "## **Filtrado de elementos**"
   ]
  },
  {
   "cell_type": "markdown",
   "metadata": {},
   "source": [
    "El filtrado de elementos en NumPy se refiere a la acción de seleccionar y extraer elementos específicos de un array en función de ciertas condiciones. Esta operación es esencial para trabajar con datos y realizar análisis más específicos y precisos. En NumPy, el filtrado se realiza utilizando operadores de comparación y máscaras booleanas. Aquí tienes una explicación detallada junto con ejemplos para comprender mejor el concepto de filtrado de elementos.\n",
    "\n",
    "**Filtrado de Elementos con Operadores de Comparación:**\n",
    "\n",
    "Los operadores de comparación, como `<`, `>`, `<=`, `>=`, `==` y `!=`, se utilizan para comparar elementos en un array con un valor o con elementos en otro array del mismo tamaño. El resultado de estas comparaciones es una máscara booleana que tiene `True` en las posiciones donde se cumple la condición y `False` en las posiciones donde no se cumple."
   ]
  },
  {
   "cell_type": "code",
   "execution_count": 8,
   "metadata": {},
   "outputs": [
    {
     "name": "stdout",
     "output_type": "stream",
     "text": [
      "Máscara booleana: [False False False  True  True]\n"
     ]
    }
   ],
   "source": [
    "import numpy as np\n",
    "\n",
    "arr = np.array([10, 20, 30, 40, 50])\n",
    "\n",
    "# Crear una máscara booleana para elementos mayores que 30\n",
    "mask = arr > 30\n",
    "print(\"Máscara booleana:\", mask)  # Output: [False False False  True  True]"
   ]
  },
  {
   "cell_type": "markdown",
   "metadata": {},
   "source": [
    "**Filtrado de Elementos Utilizando Máscaras Booleanas:**\n",
    "\n",
    "Una vez que tienes una máscara booleana, puedes utilizarla para filtrar los elementos del array original que cumplan con la condición."
   ]
  },
  {
   "cell_type": "code",
   "execution_count": 9,
   "metadata": {},
   "outputs": [
    {
     "name": "stdout",
     "output_type": "stream",
     "text": [
      "Elementos filtrados: [40 50]\n"
     ]
    }
   ],
   "source": [
    "filtered_arr = arr[mask]\n",
    "print(\"Elementos filtrados:\", filtered_arr)  # Output: [40 50]"
   ]
  },
  {
   "cell_type": "markdown",
   "metadata": {},
   "source": [
    "**Filtrado de Elementos con Múltiples Condiciones:**\n",
    "\n",
    "Puedes combinar máscaras booleanas utilizando operadores lógicos como `&` (AND) y `|` (OR) para realizar filtrados más complejos."
   ]
  },
  {
   "cell_type": "code",
   "execution_count": 10,
   "metadata": {},
   "outputs": [
    {
     "name": "stdout",
     "output_type": "stream",
     "text": [
      "Elementos filtrados por múltiples condiciones: [30 40]\n"
     ]
    }
   ],
   "source": [
    "mask_multiple = (arr > 20) & (arr < 50)\n",
    "filtered_arr_multiple = arr[mask_multiple]\n",
    "print(\"Elementos filtrados por múltiples condiciones:\", filtered_arr_multiple)  # Output: [30 40]"
   ]
  },
  {
   "cell_type": "markdown",
   "metadata": {},
   "source": [
    "**Filtrado de Elementos en Arrays Multidimensionales:**\n",
    "\n",
    "El filtrado de elementos también se puede aplicar en arrays multidimensionales utilizando máscaras booleanas en todas las dimensiones."
   ]
  },
  {
   "cell_type": "code",
   "execution_count": 11,
   "metadata": {},
   "outputs": [
    {
     "name": "stdout",
     "output_type": "stream",
     "text": [
      "Elementos filtrados en matriz: [5 6 7 8 9]\n"
     ]
    }
   ],
   "source": [
    "matrix = np.array([[1, 2, 3],\n",
    "                   [4, 5, 6],\n",
    "                   [7, 8, 9]])\n",
    "\n",
    "mask_matrix = matrix > 4\n",
    "filtered_matrix = matrix[mask_matrix]\n",
    "print(\"Elementos filtrados en matriz:\", filtered_matrix)  # Output: [5 6 7 8 9]"
   ]
  },
  {
   "cell_type": "markdown",
   "metadata": {},
   "source": [
    "En resumen, el filtrado de elementos en NumPy te permite seleccionar y extraer los datos que cumplen con ciertas condiciones, lo que es esencial para analizar y trabajar con conjuntos de datos específicos. Las máscaras booleanas son una herramienta fundamental en este proceso, permitiéndote crear una lógica de selección flexible para tus datos."
   ]
  },
  {
   "cell_type": "markdown",
   "metadata": {},
   "source": [
    "## **Ejemplo de filtrado con vectores Pesos, Alturas y Países**"
   ]
  },
  {
   "cell_type": "markdown",
   "metadata": {},
   "source": [
    "Claro, aquí tienes un ejemplo de cómo realizar filtrado utilizando vectores de pesos, alturas y países. En este ejemplo, filtraremos personas que cumplan con ciertas condiciones de peso y altura y luego mostraremos información sobre esas personas y sus países correspondientes.\n",
    "\n",
    "Supongamos que tienes tres arrays: `pesos` (pesos en kilogramos), `alturas` (alturas en metros) y `paises` (países de origen)."
   ]
  },
  {
   "cell_type": "code",
   "execution_count": 12,
   "metadata": {},
   "outputs": [
    {
     "name": "stdout",
     "output_type": "stream",
     "text": [
      "Persona 1: Peso 80 kg, Altura 1.85 m, País Canada\n",
      "Persona 2: Peso 75 kg, Altura 1.72 m, País Canada\n"
     ]
    }
   ],
   "source": [
    "import numpy as np\n",
    "\n",
    "# Vectores de datos\n",
    "pesos = np.array([70, 65, 80, 55, 90, 75, 68, 58])\n",
    "alturas = np.array([1.75, 1.60, 1.85, 1.70, 1.90, 1.72, 1.68, 1.62])\n",
    "paises = np.array(['USA', 'Mexico', 'Canada', 'Mexico', 'USA', 'Canada', 'USA', 'Mexico'])\n",
    "\n",
    "# Definir condiciones de filtrado\n",
    "condicion_peso = (pesos > 70) & (pesos <= 80)\n",
    "condicion_altura = alturas >= 1.70\n",
    "\n",
    "# Aplicar condiciones de filtrado\n",
    "personas_filtradas = (condicion_peso & condicion_altura)\n",
    "\n",
    "# Filtrar datos\n",
    "pesos_filtrados = pesos[personas_filtradas]\n",
    "alturas_filtradas = alturas[personas_filtradas]\n",
    "paises_filtrados = paises[personas_filtradas]\n",
    "\n",
    "# Mostrar información sobre personas filtradas\n",
    "for i in range(len(pesos_filtrados)):\n",
    "    print(f\"Persona {i+1}: Peso {pesos_filtrados[i]} kg, Altura {alturas_filtradas[i]} m, País {paises_filtrados[i]}\")"
   ]
  },
  {
   "cell_type": "markdown",
   "metadata": {},
   "source": [
    "En este ejemplo, estamos filtrando personas que tienen un peso entre 70 y 80 kg y una altura mayor o igual a 1.70 metros. Luego, estamos extrayendo información sobre las personas que cumplen con estas condiciones y mostrando su peso, altura y país de origen.\n",
    "\n",
    "Recuerda que este es solo un ejemplo y puedes ajustar las condiciones de filtrado según tus necesidades. El filtrado de datos es una herramienta poderosa para extraer información relevante de grandes conjuntos de datos y realizar análisis más específicos."
   ]
  },
  {
   "cell_type": "markdown",
   "metadata": {},
   "source": [
    "## **Filtrando información con operadores booleanos \"and\" y \"or”**"
   ]
  },
  {
   "cell_type": "markdown",
   "metadata": {},
   "source": [
    "Por supuesto, estaré encantado de proporcionarte una explicación detallada junto con ejemplos sobre cómo filtrar información utilizando los operadores booleanos \"and\" y \"or\" en NumPy.\n",
    "\n",
    "**Operador Booleano \"and\" en Filtrado:**\n",
    "\n",
    "El operador booleano \"and\" se utiliza para combinar dos o más condiciones, y devuelve `True` si todas las condiciones son verdaderas. En el contexto de filtrado en NumPy, esto significa que un elemento solo será incluido si cumple con todas las condiciones especificadas.\n",
    "\n",
    "Supongamos que tienes un array de edades y un array de alturas, y quieres filtrar las personas que tienen más de 25 años y miden más de 1.70 metros."
   ]
  },
  {
   "cell_type": "code",
   "execution_count": 13,
   "metadata": {},
   "outputs": [
    {
     "name": "stdout",
     "output_type": "stream",
     "text": [
      "Persona 1: Edad 30 años, Altura 1.75 m\n",
      "Persona 2: Edad 28 años, Altura 1.85 m\n",
      "Persona 3: Edad 40 años, Altura 1.78 m\n",
      "Persona 4: Edad 27 años, Altura 1.9 m\n"
     ]
    }
   ],
   "source": [
    "import numpy as np\n",
    "\n",
    "edades = np.array([30, 22, 28, 40, 18, 32, 27])\n",
    "alturas = np.array([1.75, 1.68, 1.85, 1.78, 1.72, 1.60, 1.90])\n",
    "\n",
    "# Definir condiciones de filtrado\n",
    "condicion_edad = edades > 25\n",
    "condicion_altura = alturas > 1.70\n",
    "\n",
    "# Aplicar condiciones de filtrado utilizando el operador \"and\"\n",
    "personas_filtradas = condicion_edad & condicion_altura\n",
    "\n",
    "# Filtrar datos\n",
    "edades_filtradas = edades[personas_filtradas]\n",
    "alturas_filtradas = alturas[personas_filtradas]\n",
    "\n",
    "# Mostrar información sobre personas filtradas\n",
    "for i in range(len(edades_filtradas)):\n",
    "    print(f\"Persona {i+1}: Edad {edades_filtradas[i]} años, Altura {alturas_filtradas[i]} m\")"
   ]
  },
  {
   "cell_type": "markdown",
   "metadata": {},
   "source": [
    "**Operador Booleano \"or\" en Filtrado:**\n",
    "\n",
    "El operador booleano \"or\" se utiliza para combinar dos o más condiciones, y devuelve `True` si al menos una de las condiciones es verdadera. En el contexto de filtrado en NumPy, esto significa que un elemento será incluido si cumple con al menos una de las condiciones especificadas.\n",
    "\n",
    "Supongamos que quieres filtrar las personas que tienen más de 30 años o miden más de 1.75 metros."
   ]
  },
  {
   "cell_type": "code",
   "execution_count": 14,
   "metadata": {},
   "outputs": [
    {
     "name": "stdout",
     "output_type": "stream",
     "text": [
      "Persona 1: Edad 28 años, Altura 1.85 m\n",
      "Persona 2: Edad 40 años, Altura 1.78 m\n",
      "Persona 3: Edad 32 años, Altura 1.6 m\n",
      "Persona 4: Edad 27 años, Altura 1.9 m\n"
     ]
    }
   ],
   "source": [
    "# Definir condiciones de filtrado utilizando el operador \"or\"\n",
    "condicion_edad = edades > 30\n",
    "condicion_altura = alturas > 1.75\n",
    "\n",
    "# Aplicar condiciones de filtrado utilizando el operador \"or\"\n",
    "personas_filtradas = condicion_edad | condicion_altura\n",
    "\n",
    "# Filtrar datos\n",
    "edades_filtradas = edades[personas_filtradas]\n",
    "alturas_filtradas = alturas[personas_filtradas]\n",
    "\n",
    "# Mostrar información sobre personas filtradas\n",
    "for i in range(len(edades_filtradas)):\n",
    "    print(f\"Persona {i+1}: Edad {edades_filtradas[i]} años, Altura {alturas_filtradas[i]} m\")"
   ]
  },
  {
   "cell_type": "markdown",
   "metadata": {},
   "source": [
    "En resumen, los operadores booleanos \"and\" y \"or\" son herramientas poderosas para combinar condiciones y realizar filtrados específicos en arrays de NumPy. Puedes utilizarlos para seleccionar elementos que cumplan con ciertas condiciones en función de tus necesidades de análisis de datos."
   ]
  },
  {
   "cell_type": "markdown",
   "metadata": {},
   "source": [
    "| **Inicio** | **atrás 8** | **Siguiente 10** |\n",
    "|----------- |-------------- |---------------|\n",
    "| [🏠](../../README.md) | [⏪](./8_Procesamiento_de_Datos_Numpy.ipynb)| [⏩](./10_arreglos_en_numpy.ipynb)|"
   ]
  }
 ],
 "metadata": {
  "kernelspec": {
   "display_name": "base",
   "language": "python",
   "name": "python3"
  },
  "language_info": {
   "codemirror_mode": {
    "name": "ipython",
    "version": 3
   },
   "file_extension": ".py",
   "mimetype": "text/x-python",
   "name": "python",
   "nbconvert_exporter": "python",
   "pygments_lexer": "ipython3",
   "version": "3.9.12"
  },
  "orig_nbformat": 4
 },
 "nbformat": 4,
 "nbformat_minor": 2
}
