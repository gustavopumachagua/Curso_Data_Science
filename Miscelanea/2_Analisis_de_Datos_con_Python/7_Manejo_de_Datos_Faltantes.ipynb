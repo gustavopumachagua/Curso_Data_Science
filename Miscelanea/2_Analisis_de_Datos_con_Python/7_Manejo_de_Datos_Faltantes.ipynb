{
 "cells": [
  {
   "cell_type": "markdown",
   "metadata": {},
   "source": [
    "| **Inicio** | **atrás 6** | **Siguiente 8** |\n",
    "|----------- |-------------- |---------------|\n",
    "| [🏠](../../README.md) | [⏪](./6_Visualizacion_de_Datos.ipynb)| [⏩](./8_Procesamiento_de_Datos_Numpy.ipynb)|"
   ]
  },
  {
   "cell_type": "markdown",
   "metadata": {},
   "source": [
    "# **7. Imputación (o Manejo de Datos Faltantes) con Python**"
   ]
  },
  {
   "cell_type": "markdown",
   "metadata": {},
   "source": [
    "## **Problemática de los valores faltantes**"
   ]
  },
  {
   "cell_type": "markdown",
   "metadata": {},
   "source": [
    "La problemática de los valores faltantes, también conocidos como valores nulos o valores ausentes, es una situación común en el análisis de datos donde algunos elementos de un conjunto de datos no tienen un valor válido o están ausentes. Estos valores faltantes pueden ser el resultado de diversos factores, como errores en la recopilación de datos, fallos en la medición, información incompleta o simplemente la falta de disponibilidad de datos en ciertas observaciones. La presencia de valores faltantes puede tener un impacto significativo en el análisis de datos, ya que puede llevar a interpretaciones erróneas o a resultados inexactos si no se manejan adecuadamente. A continuación, te proporcionaré una explicación detallada junto con un ejemplo de la problemática de los valores faltantes.\n",
    "\n",
    "**Ejemplo: Registro de Temperaturas Diarias**\n",
    "\n",
    "Supongamos que tienes un conjunto de datos que registra las temperaturas diarias durante un mes. Sin embargo, algunos días no se registraron temperaturas debido a problemas técnicos con los sensores. Esta es una situación típica que puede resultar en valores faltantes en tus datos.\n",
    "\n",
    "**Impacto de los Valores Faltantes:**\n",
    "\n",
    "1. **Análisis Incorrecto:** Si no se manejan adecuadamente, los valores faltantes pueden llevar a un análisis incorrecto o sesgado. Por ejemplo, calcular el promedio de temperaturas sin manejar los valores faltantes resultaría en un promedio incorrecto.\n",
    "\n",
    "2. **Perdida de Información:** Si decides eliminar todas las filas con valores faltantes, puedes perder información valiosa de otras columnas relacionadas.\n",
    "\n",
    "3. **Modelado Incorrecto:** Si estás construyendo modelos predictivos o analizando tendencias, los valores faltantes pueden llevar a modelos incorrectos o sesgados.\n",
    "\n",
    "**Cómo Manejar Valores Faltantes:**\n",
    "\n",
    "1. **Eliminar Valores Faltantes:** Si la cantidad de valores faltantes es pequeña en comparación con el tamaño total de tus datos, podrías optar por eliminar esas filas o columnas. Sin embargo, esto solo es aconsejable si la pérdida de datos no es significativa.\n",
    "\n",
    "2. **Imputación:** La imputación implica estimar valores para los datos faltantes en función de los datos disponibles. Puedes usar técnicas como reemplazar los valores faltantes con la media, la mediana o valores calculados de manera más avanzada.\n",
    "\n",
    "3. **Métodos de Modelado:** Algunos modelos pueden manejar automáticamente los valores faltantes. Por ejemplo, los árboles de decisión pueden hacer divisiones basadas en los valores disponibles.\n",
    "\n",
    "**Ejemplo de Código en Python:**"
   ]
  },
  {
   "cell_type": "code",
   "execution_count": 1,
   "metadata": {},
   "outputs": [
    {
     "name": "stdout",
     "output_type": "stream",
     "text": [
      "         dias  temperaturas\n",
      "0  2023-08-01         32.50\n",
      "1  2023-08-02         31.25\n",
      "2  2023-08-03         30.00\n"
     ]
    }
   ],
   "source": [
    "import pandas as pd\n",
    "import numpy as np\n",
    "\n",
    "# Crear un DataFrame con valores faltantes\n",
    "data = {'dias': ['2023-08-01', '2023-08-02', '2023-08-03'],\n",
    "        'temperaturas': [32.5, np.nan, 30.0]}\n",
    "df = pd.DataFrame(data)\n",
    "\n",
    "# Manejar los valores faltantes calculando la mediana\n",
    "mediana_temperaturas = df['temperaturas'].median()\n",
    "df['temperaturas'].fillna(mediana_temperaturas, inplace=True)\n",
    "\n",
    "print(df)"
   ]
  },
  {
   "cell_type": "markdown",
   "metadata": {},
   "source": [
    "En este ejemplo, se calcula la mediana de las temperaturas y se utiliza para llenar el valor faltante en el DataFrame.\n",
    "\n",
    "Recuerda que manejar los valores faltantes de manera adecuada es esencial para obtener resultados precisos en tu análisis. La estrategia a seguir dependerá del contexto y de la cantidad de valores faltantes en tus datos."
   ]
  },
  {
   "cell_type": "markdown",
   "metadata": {},
   "source": [
    "## **Archivo con valores faltantes**"
   ]
  },
  {
   "cell_type": "markdown",
   "metadata": {},
   "source": [
    "Manejar archivos con valores faltantes es una parte esencial del análisis de datos. Cuando trabajas con conjuntos de datos reales, es muy común encontrarse con valores nulos o faltantes en los datos. En Python, la biblioteca Pandas proporciona herramientas poderosas para cargar, limpiar y manejar datos con valores faltantes. Aquí te proporcionaré una explicación detallada junto con un ejemplo de cómo manejar un archivo CSV con valores faltantes utilizando Pandas.\n",
    "\n",
    "**Paso 1: Importar la Biblioteca Pandas**\n",
    "\n",
    "Comenzamos importando la biblioteca Pandas para poder utilizar sus funciones y métodos para manejar los valores faltantes.\n"
   ]
  },
  {
   "cell_type": "code",
   "execution_count": 2,
   "metadata": {},
   "outputs": [],
   "source": [
    "import pandas as pd"
   ]
  },
  {
   "cell_type": "markdown",
   "metadata": {},
   "source": [
    "**Paso 2: Cargar el Archivo CSV con Valores Faltantes**\n",
    "\n",
    "Supongamos que tienes un archivo CSV llamado \"datos.csv\" con información sobre ventas mensuales que contiene algunos valores faltantes. Puedes cargar el archivo utilizando la función `pd.read_csv()` de Pandas."
   ]
  },
  {
   "cell_type": "code",
   "execution_count": null,
   "metadata": {},
   "outputs": [],
   "source": [
    "# Cargar el archivo CSV\n",
    "archivo_csv = 'datos.csv'\n",
    "df = pd.read_csv(archivo_csv)"
   ]
  },
  {
   "cell_type": "markdown",
   "metadata": {},
   "source": [
    "**Paso 3: Identificar Valores Faltantes**\n",
    "\n",
    "Después de cargar el archivo, puedes usar el método `isna()` para identificar los valores faltantes en el DataFrame."
   ]
  },
  {
   "cell_type": "code",
   "execution_count": null,
   "metadata": {},
   "outputs": [],
   "source": [
    "# Identificar valores faltantes\n",
    "valores_faltantes = df.isna().sum()\n",
    "print(valores_faltantes)"
   ]
  },
  {
   "cell_type": "markdown",
   "metadata": {},
   "source": [
    "**Paso 4: Manejar Valores Faltantes**\n",
    "\n",
    "Pandas ofrece varias formas de manejar valores faltantes:\n",
    "\n",
    "- Eliminar filas o columnas con valores faltantes utilizando el método `dropna()`.\n",
    "- Llenar los valores faltantes con un valor específico utilizando el método `fillna()`.\n",
    "- Imputar valores faltantes basados en estrategias como la media, mediana o valores interpolados.\n",
    "\n",
    "A continuación, te muestro cómo llenar los valores faltantes con la media en una columna específica:"
   ]
  },
  {
   "cell_type": "code",
   "execution_count": null,
   "metadata": {},
   "outputs": [],
   "source": [
    "# Llenar valores faltantes con la media de la columna 'ventas'\n",
    "media_ventas = df['ventas'].mean()\n",
    "df['ventas'].fillna(media_ventas, inplace=True)"
   ]
  },
  {
   "cell_type": "markdown",
   "metadata": {},
   "source": [
    "**Paso 5: Guardar los Datos Limpios en un Nuevo Archivo**\n",
    "\n",
    "Después de manejar los valores faltantes, puedes guardar los datos limpios en un nuevo archivo utilizando el método `to_csv()`."
   ]
  },
  {
   "cell_type": "code",
   "execution_count": null,
   "metadata": {},
   "outputs": [],
   "source": [
    "# Guardar los datos limpios en un nuevo archivo CSV\n",
    "archivo_csv_limpios = 'datos_limpios.csv'\n",
    "df.to_csv(archivo_csv_limpios, index=False)"
   ]
  },
  {
   "cell_type": "markdown",
   "metadata": {},
   "source": [
    "**Ejemplo Completo:**"
   ]
  },
  {
   "cell_type": "code",
   "execution_count": null,
   "metadata": {},
   "outputs": [],
   "source": [
    "import pandas as pd\n",
    "\n",
    "# Cargar el archivo CSV\n",
    "archivo_csv = 'datos.csv'\n",
    "df = pd.read_csv(archivo_csv)\n",
    "\n",
    "# Identificar valores faltantes\n",
    "valores_faltantes = df.isna().sum()\n",
    "print(\"Valores faltantes por columna:\")\n",
    "print(valores_faltantes)\n",
    "\n",
    "# Llenar valores faltantes con la media de la columna 'ventas'\n",
    "media_ventas = df['ventas'].mean()\n",
    "df['ventas'].fillna(media_ventas, inplace=True)\n",
    "\n",
    "# Guardar los datos limpios en un nuevo archivo CSV\n",
    "archivo_csv_limpios = 'datos_limpios.csv'\n",
    "df.to_csv(archivo_csv_limpios, index=False)\n",
    "\n",
    "print(\"Datos limpios guardados en:\", archivo_csv_limpios)"
   ]
  },
  {
   "cell_type": "markdown",
   "metadata": {},
   "source": [
    "Manejar valores faltantes es una habilidad clave en el análisis de datos. Recuerda que las estrategias de manejo de valores faltantes pueden variar según el contexto y los objetivos del análisis."
   ]
  },
  {
   "cell_type": "markdown",
   "metadata": {},
   "source": [
    "## **Valores nulos NaN**"
   ]
  },
  {
   "cell_type": "markdown",
   "metadata": {},
   "source": [
    "¡Correcto! Los valores nulos en Pandas se representan comúnmente como \"NaN\", que significa \"Not a Number\". Estos valores NaN se utilizan para indicar la ausencia de un valor válido en una celda o una observación en un conjunto de datos. Cuando trabajas con archivos CSV u otros formatos de datos, los valores faltantes a menudo se codifican como NaN.\n",
    "\n",
    "Pandas proporciona métodos específicos para manejar valores nulos NaN en tus datos. Aquí hay un ejemplo de cómo lidiar con valores NaN en un DataFrame utilizando Pandas:\n",
    "\n",
    "**Ejemplo: Manejo de Valores NaN en un DataFrame**\n",
    "\n",
    "Supongamos que tienes un DataFrame llamado `df` con algunos valores NaN en una columna llamada \"ventas\". Aquí te muestro cómo puedes manejar esos valores NaN utilizando Pandas:"
   ]
  },
  {
   "cell_type": "code",
   "execution_count": 3,
   "metadata": {},
   "outputs": [
    {
     "name": "stdout",
     "output_type": "stream",
     "text": [
      "Valores nulos en el DataFrame:\n",
      "     mes  ventas\n",
      "0  False   False\n",
      "1  False    True\n",
      "2  False   False\n",
      "3  False   False\n",
      "4  False    True\n",
      "DataFrame después de llenar valores NaN:\n",
      "       mes  ventas\n",
      "0    Enero  1000.0\n",
      "1  Febrero     0.0\n",
      "2    Marzo  1500.0\n",
      "3    Abril  1200.0\n",
      "4     Mayo     0.0\n"
     ]
    }
   ],
   "source": [
    "import pandas as pd\n",
    "import numpy as np\n",
    "\n",
    "# Crear un DataFrame con valores NaN\n",
    "data = {'mes': ['Enero', 'Febrero', 'Marzo', 'Abril', 'Mayo'],\n",
    "        'ventas': [1000, np.nan, 1500, 1200, np.nan]}\n",
    "df = pd.DataFrame(data)\n",
    "\n",
    "# Identificar valores NaN\n",
    "valores_nulos = df.isna()\n",
    "print(\"Valores nulos en el DataFrame:\")\n",
    "print(valores_nulos)\n",
    "\n",
    "# Llenar valores NaN con cero\n",
    "df['ventas'].fillna(0, inplace=True)\n",
    "\n",
    "# Mostrar el DataFrame modificado\n",
    "print(\"DataFrame después de llenar valores NaN:\")\n",
    "print(df)"
   ]
  },
  {
   "cell_type": "markdown",
   "metadata": {},
   "source": [
    "En este ejemplo, primero se crea un DataFrame con algunos valores NaN en la columna \"ventas\". Luego, se utilizan los métodos `isna()` para identificar los valores NaN y `fillna()` para llenarlos con cero. Esto es solo un ejemplo básico; hay varias formas de manejar valores NaN según tus necesidades y el contexto de tus datos.\n",
    "\n",
    "Recuerda que el manejo de valores nulos es crucial para asegurarte de que tus análisis sean precisos y significativos. Pandas ofrece varias herramientas y métodos para tratar con valores NaN de manera efectiva en tus conjuntos de datos."
   ]
  },
  {
   "cell_type": "markdown",
   "metadata": {},
   "source": [
    "## **Cómo quitar registros con valores faltantes**"
   ]
  },
  {
   "cell_type": "markdown",
   "metadata": {},
   "source": [
    "Puedes eliminar registros (filas) que contengan valores faltantes en Pandas utilizando el método `dropna()`. Este método elimina cualquier fila que tenga al menos un valor nulo (NaN) en cualquiera de sus columnas. Aquí te proporciono un ejemplo de cómo puedes quitar registros con valores faltantes de un DataFrame en Pandas:\n",
    "\n",
    "**Ejemplo: Eliminar Registros con Valores Faltantes**\n",
    "\n",
    "Supongamos que tienes un DataFrame llamado `df` con algunos valores nulos en diferentes columnas. Aquí te muestro cómo puedes eliminar las filas que contienen valores nulos:"
   ]
  },
  {
   "cell_type": "code",
   "execution_count": 4,
   "metadata": {},
   "outputs": [
    {
     "name": "stdout",
     "output_type": "stream",
     "text": [
      "DataFrame sin registros con valores faltantes:\n",
      "     mes  ventas  gastos\n",
      "0  Enero  1000.0   800.0\n",
      "4   Mayo  1200.0  1000.0\n"
     ]
    }
   ],
   "source": [
    "import pandas as pd\n",
    "import numpy as np\n",
    "\n",
    "# Crear un DataFrame con valores faltantes\n",
    "data = {'mes': ['Enero', 'Febrero', 'Marzo', 'Abril', 'Mayo'],\n",
    "        'ventas': [1000, np.nan, 1500, np.nan, 1200],\n",
    "        'gastos': [800, 900, np.nan, 1100, 1000]}\n",
    "df = pd.DataFrame(data)\n",
    "\n",
    "# Eliminar registros con valores faltantes\n",
    "df_sin_faltantes = df.dropna()\n",
    "\n",
    "# Mostrar el DataFrame sin registros con valores faltantes\n",
    "print(\"DataFrame sin registros con valores faltantes:\")\n",
    "print(df_sin_faltantes)"
   ]
  },
  {
   "cell_type": "markdown",
   "metadata": {},
   "source": [
    "En este ejemplo, el método `dropna()` se aplica al DataFrame `df`, y se crea un nuevo DataFrame `df_sin_faltantes` que contiene solo las filas sin valores faltantes. El resultado será un DataFrame que excluye las filas que contienen al menos un valor nulo.\n",
    "\n",
    "Recuerda que al eliminar registros con valores faltantes, estás eliminando información del conjunto de datos, por lo que debes considerar si esta es la mejor estrategia para tu análisis. La eliminación de registros puede ser útil cuando los valores faltantes son pocos en comparación con el tamaño total del conjunto de datos y no afectan significativamente tus resultados."
   ]
  },
  {
   "cell_type": "markdown",
   "metadata": {},
   "source": [
    "## **Cómo reemplazar valores faltantes con valores por defecto**"
   ]
  },
  {
   "cell_type": "markdown",
   "metadata": {},
   "source": [
    "Puedes reemplazar los valores faltantes en Pandas con valores por defecto utilizando el método `fillna()`. Este método te permite especificar el valor que deseas usar para reemplazar los valores nulos (NaN) en el DataFrame. A continuación, te proporciono un ejemplo de cómo puedes reemplazar valores faltantes con valores por defecto en un DataFrame en Pandas:\n",
    "\n",
    "**Ejemplo: Reemplazar Valores Faltantes con Valores por Defecto**\n",
    "\n",
    "Supongamos que tienes un DataFrame llamado `df` con algunas columnas que contienen valores nulos. Aquí te muestro cómo puedes reemplazar los valores nulos con valores por defecto:"
   ]
  },
  {
   "cell_type": "code",
   "execution_count": 5,
   "metadata": {},
   "outputs": [
    {
     "name": "stdout",
     "output_type": "stream",
     "text": [
      "DataFrame con valores faltantes reemplazados:\n",
      "       mes  ventas  gastos\n",
      "0    Enero  1000.0   800.0\n",
      "1  Febrero     0.0   900.0\n",
      "2    Marzo  1500.0     0.0\n",
      "3    Abril     0.0  1100.0\n",
      "4     Mayo  1200.0  1000.0\n"
     ]
    }
   ],
   "source": [
    "import pandas as pd\n",
    "import numpy as np\n",
    "\n",
    "# Crear un DataFrame con valores faltantes\n",
    "data = {'mes': ['Enero', 'Febrero', 'Marzo', 'Abril', 'Mayo'],\n",
    "        'ventas': [1000, np.nan, 1500, np.nan, 1200],\n",
    "        'gastos': [800, 900, np.nan, 1100, 1000]}\n",
    "df = pd.DataFrame(data)\n",
    "\n",
    "# Reemplazar valores faltantes con valores por defecto\n",
    "valor_por_defecto_ventas = 0\n",
    "valor_por_defecto_gastos = 0\n",
    "df['ventas'].fillna(valor_por_defecto_ventas, inplace=True)\n",
    "df['gastos'].fillna(valor_por_defecto_gastos, inplace=True)\n",
    "\n",
    "# Mostrar el DataFrame con valores faltantes reemplazados\n",
    "print(\"DataFrame con valores faltantes reemplazados:\")\n",
    "print(df)"
   ]
  },
  {
   "cell_type": "markdown",
   "metadata": {},
   "source": [
    "En este ejemplo, se utiliza el método `fillna()` para reemplazar los valores faltantes en las columnas \"ventas\" y \"gastos\" con los valores por defecto especificados.\n",
    "\n",
    "Recuerda que elegir valores por defecto adecuados es importante, ya que estos valores reemplazarán los valores faltantes en tus análisis. La elección del valor por defecto dependerá del contexto de tus datos y de cómo quieras manejar los valores faltantes en tus análisis."
   ]
  },
  {
   "cell_type": "markdown",
   "metadata": {},
   "source": [
    "## **Cómo reemplazar valores faltantes con el promedio, mediana y/o moda**"
   ]
  },
  {
   "cell_type": "markdown",
   "metadata": {},
   "source": [
    "Puedes reemplazar valores faltantes en Pandas con medidas estadísticas como el promedio, la mediana y la moda utilizando el método `fillna()`. Estas medidas te permiten llenar los valores faltantes con estimaciones basadas en los valores disponibles en tus datos. A continuación, te proporciono ejemplos de cómo reemplazar valores faltantes con el promedio, la mediana y la moda en un DataFrame en Pandas:\n",
    "\n",
    "**Ejemplo: Reemplazar Valores Faltantes con el Promedio, Mediana y Moda**\n",
    "\n",
    "Supongamos que tienes un DataFrame llamado `df` con algunas columnas que contienen valores nulos. Aquí te muestro cómo puedes reemplazar los valores nulos con el promedio, la mediana y la moda de cada columna:"
   ]
  },
  {
   "cell_type": "code",
   "execution_count": 6,
   "metadata": {},
   "outputs": [
    {
     "name": "stdout",
     "output_type": "stream",
     "text": [
      "DataFrame con valores faltantes reemplazados:\n",
      "       mes       ventas  gastos\n",
      "0    Enero  1000.000000   800.0\n",
      "1  Febrero  1233.333333   900.0\n",
      "2    Marzo  1500.000000   950.0\n",
      "3    Abril  1233.333333  1100.0\n",
      "4     Mayo  1200.000000  1000.0\n"
     ]
    }
   ],
   "source": [
    "import pandas as pd\n",
    "import numpy as np\n",
    "\n",
    "# Crear un DataFrame con valores faltantes\n",
    "data = {'mes': ['Enero', 'Febrero', 'Marzo', 'Abril', 'Mayo'],\n",
    "        'ventas': [1000, np.nan, 1500, np.nan, 1200],\n",
    "        'gastos': [800, 900, np.nan, 1100, 1000]}\n",
    "df = pd.DataFrame(data)\n",
    "\n",
    "# Reemplazar valores faltantes con el promedio de la columna 'ventas'\n",
    "promedio_ventas = df['ventas'].mean()\n",
    "df['ventas'].fillna(promedio_ventas, inplace=True)\n",
    "\n",
    "# Reemplazar valores faltantes con la mediana de la columna 'gastos'\n",
    "mediana_gastos = df['gastos'].median()\n",
    "df['gastos'].fillna(mediana_gastos, inplace=True)\n",
    "\n",
    "# Reemplazar valores faltantes con la moda de la columna 'mes'\n",
    "moda_mes = df['mes'].mode()[0]\n",
    "df['mes'].fillna(moda_mes, inplace=True)\n",
    "\n",
    "# Mostrar el DataFrame con valores faltantes reemplazados\n",
    "print(\"DataFrame con valores faltantes reemplazados:\")\n",
    "print(df)"
   ]
  },
  {
   "cell_type": "markdown",
   "metadata": {},
   "source": [
    "En este ejemplo:\n",
    "\n",
    "- Se reemplazan los valores faltantes en la columna \"ventas\" con el promedio de esa columna.\n",
    "- Se reemplazan los valores faltantes en la columna \"gastos\" con la mediana de esa columna.\n",
    "- Se reemplazan los valores faltantes en la columna \"mes\" con la moda de esa columna.\n",
    "\n",
    "Recuerda que el reemplazo de valores faltantes con medidas estadísticas es una estrategia común para llenar los vacíos en tus datos. Sin embargo, debes considerar si estas medidas son adecuadas para tu conjunto de datos y si reflejan fielmente la realidad de los valores faltantes."
   ]
  },
  {
   "cell_type": "markdown",
   "metadata": {},
   "source": [
    "| **Inicio** | **atrás 6** | **Siguiente 8** |\n",
    "|----------- |-------------- |---------------|\n",
    "| [🏠](../../README.md) | [⏪](./6_Visualizacion_de_Datos.ipynb)| [⏩](./8_Procesamiento_de_Datos_Numpy.ipynb)|"
   ]
  }
 ],
 "metadata": {
  "kernelspec": {
   "display_name": "base",
   "language": "python",
   "name": "python3"
  },
  "language_info": {
   "codemirror_mode": {
    "name": "ipython",
    "version": 3
   },
   "file_extension": ".py",
   "mimetype": "text/x-python",
   "name": "python",
   "nbconvert_exporter": "python",
   "pygments_lexer": "ipython3",
   "version": "3.9.12"
  },
  "orig_nbformat": 4
 },
 "nbformat": 4,
 "nbformat_minor": 2
}
