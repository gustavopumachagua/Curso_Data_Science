{
 "cells": [
  {
   "cell_type": "markdown",
   "metadata": {},
   "source": [
    "| **Inicio** | **atrás 2** | **Siguiente 4** |\n",
    "|----------- |-------------- |---------------|\n",
    "| [🏠](../../README.md) | [⏪](./2_Series_de_Pandas.ipynb)| [⏩](./4_%20datos_de_Excel_CSV.ipynb)|"
   ]
  },
  {
   "cell_type": "markdown",
   "metadata": {},
   "source": [
    "# **3. Maneja y Analiza Datos con DataFrames de Pandas y Python**"
   ]
  },
  {
   "cell_type": "markdown",
   "metadata": {},
   "source": [
    "## **Introducción a los DataFrames**"
   ]
  },
  {
   "cell_type": "markdown",
   "metadata": {},
   "source": [
    "Un DataFrame es una estructura de datos bidimensional en Pandas que se asemeja a una tabla en una base de datos o una hoja de cálculo en Excel. Los DataFrames son extremadamente útiles para el análisis y la manipulación de datos tabulares. Te proporcionaré una explicación detallada junto con ejemplos y posibles gráficos para ilustrar sus conceptos.\n",
    "\n",
    "**Características Clave de los DataFrames:**\n",
    "\n",
    "1. **Bidimensionalidad:** Los DataFrames tienen filas y columnas, lo que los hace ideales para representar datos tabulares.\n",
    "\n",
    "2. **Heterogeneidad:** Las columnas en un DataFrame pueden contener diferentes tipos de datos (números, cadenas, fechas, etc.).\n",
    "\n",
    "3. **Etiquetas de Filas y Columnas:** Los DataFrames tienen etiquetas de filas (índices) y etiquetas de columnas. Estas etiquetas permiten un acceso eficiente a los datos.\n",
    "\n",
    "4. **Manipulación de Datos:** Los DataFrames ofrecen numerosos métodos para filtrar, ordenar, agrupar, pivotar y transformar datos.\n",
    "\n",
    "**Creación de DataFrames:**\n",
    "\n",
    "Puedes crear un DataFrame en Pandas a partir de una variedad de fuentes, como listas, diccionarios, archivos CSV, bases de datos y más."
   ]
  },
  {
   "cell_type": "code",
   "execution_count": 1,
   "metadata": {},
   "outputs": [
    {
     "name": "stdout",
     "output_type": "stream",
     "text": [
      "   Nombre  Edad     Ciudad\n",
      "0     Ana    25     Madrid\n",
      "1  Carlos    30  Barcelona\n",
      "2   Elena    28   Valencia\n",
      "3   Diego    22    Sevilla\n"
     ]
    }
   ],
   "source": [
    "import pandas as pd\n",
    "\n",
    "# Crear un DataFrame a partir de un diccionario\n",
    "data = {\n",
    "    'Nombre': ['Ana', 'Carlos', 'Elena', 'Diego'],\n",
    "    'Edad': [25, 30, 28, 22],\n",
    "    'Ciudad': ['Madrid', 'Barcelona', 'Valencia', 'Sevilla']\n",
    "}\n",
    "\n",
    "df = pd.DataFrame(data)\n",
    "print(df)"
   ]
  },
  {
   "cell_type": "markdown",
   "metadata": {},
   "source": [
    "**Acceso a Datos en DataFrames:**\n",
    "\n",
    "Puedes acceder a los datos en un DataFrame utilizando etiquetas de columnas y filas. Utiliza el método `loc[]` para acceder a datos mediante etiquetas, y `iloc[]` para acceder a datos mediante índices numéricos."
   ]
  },
  {
   "cell_type": "code",
   "execution_count": 2,
   "metadata": {},
   "outputs": [],
   "source": [
    "# Acceso a una columna por etiqueta\n",
    "edades = df['Edad']\n",
    "\n",
    "# Acceso a una fila por etiqueta\n",
    "fila_carlos = df.loc[1]\n",
    "\n",
    "# Acceso a un valor específico por etiquetas de fila y columna\n",
    "edad_ana = df.loc[0, 'Edad']"
   ]
  },
  {
   "cell_type": "markdown",
   "metadata": {},
   "source": [
    "**Operaciones en DataFrames:**\n",
    "\n",
    "Los DataFrames ofrecen una amplia variedad de operaciones para manipular datos, incluyendo filtrado, ordenamiento, agregación y más. Aquí tienes un ejemplo de ordenamiento y filtrado:"
   ]
  },
  {
   "cell_type": "code",
   "execution_count": 3,
   "metadata": {},
   "outputs": [],
   "source": [
    "# Ordenar el DataFrame por edad de forma descendente\n",
    "df_ordenado = df.sort_values(by='Edad', ascending=False)\n",
    "\n",
    "# Filtrar el DataFrame para obtener personas mayores de 25 años\n",
    "df_mayores = df[df['Edad'] > 25]"
   ]
  },
  {
   "cell_type": "markdown",
   "metadata": {},
   "source": [
    "**Visualización de Datos en DataFrames:**\n",
    "\n",
    "Los DataFrames pueden integrarse con librerías de visualización como `matplotlib` para crear gráficos."
   ]
  },
  {
   "cell_type": "code",
   "execution_count": 4,
   "metadata": {},
   "outputs": [
    {
     "data": {
      "image/png": "[encoded data removed]",
      "text/plain": [
       "<Figure size 640x480 with 1 Axes>"
      ]
     },
     "metadata": {},
     "output_type": "display_data"
    }
   ],
   "source": [
    "import matplotlib.pyplot as plt\n",
    "\n",
    "# Crear un gráfico de barras para mostrar las edades\n",
    "df.plot(x='Nombre', y='Edad', kind='bar')\n",
    "plt.title('Edades de Personas')\n",
    "plt.xlabel('Nombre')\n",
    "plt.ylabel('Edad')\n",
    "plt.show()"
   ]
  },
  {
   "cell_type": "markdown",
   "metadata": {},
   "source": [
    "Este código generará un gráfico de barras que muestra las edades de las personas en el DataFrame.\n",
    "\n",
    "**Resumen:**\n",
    "\n",
    "Los DataFrames son una estructura esencial en Pandas para trabajar con datos tabulares. Puedes crearlos desde diversas fuentes, acceder a sus datos, realizar operaciones y visualizar información de manera efectiva. Son una herramienta poderosa en el análisis y la manipulación de datos, lo que los convierte en una opción preferida para muchas tareas de procesamiento de datos."
   ]
  },
  {
   "cell_type": "markdown",
   "metadata": {},
   "source": [
    "## **Atributos básicos**"
   ]
  },
  {
   "cell_type": "markdown",
   "metadata": {},
   "source": [
    "Los DataFrames en Pandas son estructuras de datos bidimensionales que contienen filas y columnas, similares a tablas en bases de datos o hojas de cálculo en Excel. Los DataFrames tienen una variedad de atributos que proporcionan información sobre la estructura y los datos en el DataFrame. Aquí están algunos de los atributos básicos más comunes en los DataFrames:\n",
    "\n",
    "1. **`shape`:**\n",
    "\n",
    " Devuelve una tupla que representa el número de filas y columnas en el DataFrame."
   ]
  },
  {
   "cell_type": "code",
   "execution_count": 14,
   "metadata": {},
   "outputs": [
    {
     "name": "stdout",
     "output_type": "stream",
     "text": [
      "(4, 3)\n"
     ]
    }
   ],
   "source": [
    "import pandas as pd\n",
    "\n",
    "data = {\n",
    "    'Nombre': ['Ana', 'Carlos', 'Elena', 'Diego'],\n",
    "    'Edad': [25, 30, 28, 22],\n",
    "    'Ciudad': ['Madrid', 'Barcelona', 'Valencia', 'Sevilla']\n",
    "}\n",
    "\n",
    "df = pd.DataFrame(data)\n",
    "shape = df.shape  # (4, 3) - 4 filas y 3 columnas\n",
    "print(shape)"
   ]
  },
  {
   "cell_type": "markdown",
   "metadata": {},
   "source": [
    "2. **`columns`:**\n",
    "\n",
    " Devuelve una lista con los nombres de las columnas en el DataFrame."
   ]
  },
  {
   "cell_type": "code",
   "execution_count": 15,
   "metadata": {},
   "outputs": [
    {
     "name": "stdout",
     "output_type": "stream",
     "text": [
      "Index(['Nombre', 'Edad', 'Ciudad'], dtype='object')\n"
     ]
    }
   ],
   "source": [
    "columnas = df.columns  # ['Nombre', 'Edad', 'Ciudad']\n",
    "print(columnas)"
   ]
  },
  {
   "cell_type": "markdown",
   "metadata": {},
   "source": [
    "3. **`index`:**\n",
    "\n",
    " Devuelve los índices de las filas en el DataFrame."
   ]
  },
  {
   "cell_type": "code",
   "execution_count": 16,
   "metadata": {},
   "outputs": [
    {
     "name": "stdout",
     "output_type": "stream",
     "text": [
      "RangeIndex(start=0, stop=4, step=1)\n"
     ]
    }
   ],
   "source": [
    "indices = df.index  # Rango de índices numéricos por defecto\n",
    "print(indices)"
   ]
  },
  {
   "cell_type": "markdown",
   "metadata": {},
   "source": [
    "4. **`dtypes`:**\n",
    "\n",
    " Devuelve los tipos de datos de cada columna en el DataFrame."
   ]
  },
  {
   "cell_type": "code",
   "execution_count": 17,
   "metadata": {},
   "outputs": [
    {
     "name": "stdout",
     "output_type": "stream",
     "text": [
      "Nombre    object\n",
      "Edad       int64\n",
      "Ciudad    object\n",
      "dtype: object\n"
     ]
    }
   ],
   "source": [
    "tipos_de_datos = df.dtypes\n",
    "print(tipos_de_datos)"
   ]
  },
  {
   "cell_type": "markdown",
   "metadata": {},
   "source": [
    "5. **`info()`:**\n",
    "\n",
    " Proporciona información concisa sobre el DataFrame, incluyendo el número de valores no nulos y los tipos de datos."
   ]
  },
  {
   "cell_type": "code",
   "execution_count": 18,
   "metadata": {},
   "outputs": [
    {
     "name": "stdout",
     "output_type": "stream",
     "text": [
      "<class 'pandas.core.frame.DataFrame'>\n",
      "RangeIndex: 4 entries, 0 to 3\n",
      "Data columns (total 3 columns):\n",
      " #   Column  Non-Null Count  Dtype \n",
      "---  ------  --------------  ----- \n",
      " 0   Nombre  4 non-null      object\n",
      " 1   Edad    4 non-null      int64 \n",
      " 2   Ciudad  4 non-null      object\n",
      "dtypes: int64(1), object(2)\n",
      "memory usage: 224.0+ bytes\n",
      "None\n"
     ]
    }
   ],
   "source": [
    "informacion = df.info()\n",
    "print(informacion)"
   ]
  },
  {
   "cell_type": "markdown",
   "metadata": {},
   "source": [
    "6. **`describe()`:**\n",
    "\n",
    " Calcula estadísticas descriptivas para columnas numéricas en el DataFrame."
   ]
  },
  {
   "cell_type": "code",
   "execution_count": 19,
   "metadata": {},
   "outputs": [
    {
     "name": "stdout",
     "output_type": "stream",
     "text": [
      "        Edad\n",
      "count   4.00\n",
      "mean   26.25\n",
      "std     3.50\n",
      "min    22.00\n",
      "25%    24.25\n",
      "50%    26.50\n",
      "75%    28.50\n",
      "max    30.00\n"
     ]
    }
   ],
   "source": [
    "descripcion = df.describe()\n",
    "print(descripcion)"
   ]
  },
  {
   "cell_type": "markdown",
   "metadata": {},
   "source": [
    "7. **`head()` y `tail()`:**\n",
    "\n",
    " Muestra las primeras o últimas filas del DataFrame."
   ]
  },
  {
   "cell_type": "code",
   "execution_count": 20,
   "metadata": {},
   "outputs": [
    {
     "name": "stdout",
     "output_type": "stream",
     "text": [
      "   Nombre  Edad     Ciudad\n",
      "0     Ana    25     Madrid\n",
      "1  Carlos    30  Barcelona\n",
      "2   Elena    28   Valencia\n",
      "3   Diego    22    Sevilla\n",
      "   Nombre  Edad     Ciudad\n",
      "0     Ana    25     Madrid\n",
      "1  Carlos    30  Barcelona\n",
      "2   Elena    28   Valencia\n",
      "3   Diego    22    Sevilla\n"
     ]
    }
   ],
   "source": [
    "primeras_filas = df.head()\n",
    "print(primeras_filas)\n",
    "ultimas_filas = df.tail()\n",
    "print(ultimas_filas)"
   ]
  },
  {
   "cell_type": "markdown",
   "metadata": {},
   "source": [
    "8. **`values`:**\n",
    "\n",
    " Devuelve los valores del DataFrame como un array NumPy."
   ]
  },
  {
   "cell_type": "code",
   "execution_count": 21,
   "metadata": {},
   "outputs": [
    {
     "name": "stdout",
     "output_type": "stream",
     "text": [
      "[['Ana' 25 'Madrid']\n",
      " ['Carlos' 30 'Barcelona']\n",
      " ['Elena' 28 'Valencia']\n",
      " ['Diego' 22 'Sevilla']]\n"
     ]
    }
   ],
   "source": [
    "valores = df.values\n",
    "print(valores)"
   ]
  },
  {
   "cell_type": "markdown",
   "metadata": {},
   "source": [
    "9. **`size`:**\n",
    "\n",
    " Devuelve el número total de elementos en el DataFrame (filas x columnas)."
   ]
  },
  {
   "cell_type": "code",
   "execution_count": 22,
   "metadata": {},
   "outputs": [
    {
     "name": "stdout",
     "output_type": "stream",
     "text": [
      "12\n"
     ]
    }
   ],
   "source": [
    "tamaño = df.size\n",
    "print(tamaño)"
   ]
  },
  {
   "cell_type": "markdown",
   "metadata": {},
   "source": [
    "Estos son algunos de los atributos básicos que te ayudarán a obtener información sobre la estructura y los datos en un DataFrame de Pandas. Puedes utilizarlos para entender mejor tus datos, realizar análisis exploratorios y tomar decisiones informadas sobre cómo manipular y procesar tu conjunto de datos."
   ]
  },
  {
   "cell_type": "markdown",
   "metadata": {},
   "source": [
    "## **Acceso a los valores**"
   ]
  },
  {
   "cell_type": "markdown",
   "metadata": {},
   "source": [
    "Acceder a los valores en los DataFrames de Pandas es una operación esencial para manipular y analizar datos. Los DataFrames tienen etiquetas de filas y columnas que se pueden utilizar para acceder a datos específicos. Aquí te explico cómo acceder a los valores en los DataFrames de diferentes formas:\n",
    "\n",
    "**Acceso por Etiqueta de Columna:**\n",
    "\n",
    "Puedes acceder a los valores en una columna utilizando la etiqueta de la columna como si fuera una clave de diccionario."
   ]
  },
  {
   "cell_type": "code",
   "execution_count": 28,
   "metadata": {},
   "outputs": [
    {
     "name": "stdout",
     "output_type": "stream",
     "text": [
      "0       Ana\n",
      "1    Carlos\n",
      "2     Elena\n",
      "3     Diego\n",
      "Name: Nombre, dtype: object\n",
      "0    25\n",
      "1    30\n",
      "2    28\n",
      "3    22\n",
      "Name: Edad, dtype: int64\n"
     ]
    }
   ],
   "source": [
    "import pandas as pd\n",
    "\n",
    "data = {\n",
    "    'Nombre': ['Ana', 'Carlos', 'Elena', 'Diego'],\n",
    "    'Edad': [25, 30, 28, 22],\n",
    "    'Ciudad': ['Madrid', 'Barcelona', 'Valencia', 'Sevilla']\n",
    "}\n",
    "\n",
    "df = pd.DataFrame(data)\n",
    "\n",
    "nombres = df['Nombre']  # Acceso a la columna 'Nombre'\n",
    "print(nombres)\n",
    "edades = df['Edad']\n",
    "print(edades) # Acceso a la columna 'Edad'"
   ]
  },
  {
   "cell_type": "markdown",
   "metadata": {},
   "source": [
    "**Acceso por Etiqueta de Fila (Índice):**\n",
    "\n",
    "Puedes acceder a los valores en una fila utilizando la etiqueta de la fila (índice) con el método `.loc[]`."
   ]
  },
  {
   "cell_type": "code",
   "execution_count": 29,
   "metadata": {},
   "outputs": [
    {
     "name": "stdout",
     "output_type": "stream",
     "text": [
      "Nombre       Ana\n",
      "Edad          25\n",
      "Ciudad    Madrid\n",
      "Name: 0, dtype: object\n",
      "Nombre       Carlos\n",
      "Edad             30\n",
      "Ciudad    Barcelona\n",
      "Name: 1, dtype: object\n"
     ]
    }
   ],
   "source": [
    "fila_1 = df.loc[0]  # Acceso a la primera fila\n",
    "print(fila_1)\n",
    "fila_2 = df.loc[1]  # Acceso a la segunda fila\n",
    "print(fila_2)"
   ]
  },
  {
   "cell_type": "markdown",
   "metadata": {},
   "source": [
    "**Acceso a un Valor Específico:**\n",
    "\n",
    "Puedes acceder a un valor específico utilizando tanto etiquetas de fila como de columna con `.loc[]`."
   ]
  },
  {
   "cell_type": "code",
   "execution_count": 30,
   "metadata": {},
   "outputs": [
    {
     "name": "stdout",
     "output_type": "stream",
     "text": [
      "25\n"
     ]
    }
   ],
   "source": [
    "edad_ana = df.loc[0, 'Edad']  # Edad de Ana (fila 0, columna 'Edad')\n",
    "print(edad_ana)"
   ]
  },
  {
   "cell_type": "markdown",
   "metadata": {},
   "source": [
    "**Acceso por Índice Numérico:**\n",
    "\n",
    "Si los índices son numéricos, puedes acceder a las filas por índice numérico utilizando `.iloc[]`."
   ]
  },
  {
   "cell_type": "code",
   "execution_count": 31,
   "metadata": {},
   "outputs": [
    {
     "name": "stdout",
     "output_type": "stream",
     "text": [
      "Nombre       Ana\n",
      "Edad          25\n",
      "Ciudad    Madrid\n",
      "Name: 0, dtype: object\n"
     ]
    }
   ],
   "source": [
    "fila_1 = df.iloc[0]  # Acceso a la primera\n",
    "print(fila_1)"
   ]
  },
  {
   "cell_type": "markdown",
   "metadata": {},
   "source": [
    "**Filtrar Filas basado en Condiciones:**\n",
    "\n",
    "Puedes filtrar filas que cumplan ciertas condiciones booleanas."
   ]
  },
  {
   "cell_type": "code",
   "execution_count": 32,
   "metadata": {},
   "outputs": [
    {
     "name": "stdout",
     "output_type": "stream",
     "text": [
      "   Nombre  Edad     Ciudad\n",
      "1  Carlos    30  Barcelona\n",
      "2   Elena    28   Valencia\n"
     ]
    }
   ],
   "source": [
    "mayores_de_25 = df[df['Edad'] > 25]  # Filtrar personas mayores de 25 años\n",
    "print(mayores_de_25)"
   ]
  },
  {
   "cell_type": "markdown",
   "metadata": {},
   "source": [
    "Estos métodos de acceso te permiten recuperar datos específicos de los DataFrames en función de tus necesidades. Puedes utilizarlos para realizar cálculos, análisis y manipulaciones en tus datos. Recuerda que Pandas ofrece una amplia gama de funcionalidades de acceso y manipulación de datos, lo que te permite realizar operaciones complejas de manera efectiva."
   ]
  },
  {
   "cell_type": "markdown",
   "metadata": {},
   "source": [
    "## **Métodos básicos comunes**"
   ]
  },
  {
   "cell_type": "markdown",
   "metadata": {},
   "source": [
    "Los DataFrames en Pandas ofrecen una amplia gama de métodos que te permiten manipular y analizar los datos de manera eficiente. Estos métodos te ayudan a realizar operaciones comunes como filtrado, agregación, ordenamiento y más. A continuación, te proporciono una explicación detallada de algunos métodos básicos comunes en los DataFrames, junto con ejemplos:\n",
    "\n",
    "**Métodos Básicos Comunes en los DataFrames:**\n",
    "\n",
    "1. **`head()` y `tail()`:**\n",
    "\n",
    " Devuelven las primeras o últimas n filas del DataFrame."
   ]
  },
  {
   "cell_type": "code",
   "execution_count": 34,
   "metadata": {},
   "outputs": [
    {
     "name": "stdout",
     "output_type": "stream",
     "text": [
      "   Nombre  Edad     Ciudad\n",
      "0     Ana    25     Madrid\n",
      "1  Carlos    30  Barcelona\n",
      "2   Elena    28   Valencia\n",
      "  Nombre  Edad   Ciudad\n",
      "3  Diego    22  Sevilla\n",
      "4  Laura    29   Bilbao\n"
     ]
    }
   ],
   "source": [
    "import pandas as pd\n",
    "\n",
    "data = {\n",
    "    'Nombre': ['Ana', 'Carlos', 'Elena', 'Diego', 'Laura'],\n",
    "    'Edad': [25, 30, 28, 22, 29],\n",
    "    'Ciudad': ['Madrid', 'Barcelona', 'Valencia', 'Sevilla', 'Bilbao']\n",
    "}\n",
    "\n",
    "df = pd.DataFrame(data)\n",
    "\n",
    "primeras_filas = df.head(3)  # Primeras 3 filas\n",
    "print(primeras_filas)\n",
    "ultimas_filas = df.tail(2)   # Últimas 2 filas\n",
    "print(ultimas_filas)"
   ]
  },
  {
   "cell_type": "markdown",
   "metadata": {},
   "source": [
    "2. **`info()`:**\n",
    "\n",
    " Proporciona información concisa sobre el DataFrame, incluyendo el número de valores no nulos y los tipos de datos."
   ]
  },
  {
   "cell_type": "code",
   "execution_count": 35,
   "metadata": {},
   "outputs": [
    {
     "name": "stdout",
     "output_type": "stream",
     "text": [
      "<class 'pandas.core.frame.DataFrame'>\n",
      "RangeIndex: 5 entries, 0 to 4\n",
      "Data columns (total 3 columns):\n",
      " #   Column  Non-Null Count  Dtype \n",
      "---  ------  --------------  ----- \n",
      " 0   Nombre  5 non-null      object\n",
      " 1   Edad    5 non-null      int64 \n",
      " 2   Ciudad  5 non-null      object\n",
      "dtypes: int64(1), object(2)\n",
      "memory usage: 248.0+ bytes\n",
      "None\n"
     ]
    }
   ],
   "source": [
    "informacion = df.info()\n",
    "print(informacion)"
   ]
  },
  {
   "cell_type": "markdown",
   "metadata": {},
   "source": [
    "3. **`describe()`:**\n",
    "\n",
    " Calcula estadísticas descriptivas para las columnas numéricas en el DataFrame."
   ]
  },
  {
   "cell_type": "code",
   "execution_count": 36,
   "metadata": {},
   "outputs": [
    {
     "name": "stdout",
     "output_type": "stream",
     "text": [
      "            Edad\n",
      "count   5.000000\n",
      "mean   26.800000\n",
      "std     3.271085\n",
      "min    22.000000\n",
      "25%    25.000000\n",
      "50%    28.000000\n",
      "75%    29.000000\n",
      "max    30.000000\n"
     ]
    }
   ],
   "source": [
    "descripcion = df.describe()\n",
    "print(descripcion)"
   ]
  },
  {
   "cell_type": "markdown",
   "metadata": {},
   "source": [
    "4. **`sort_values()`:**\n",
    "\n",
    " Ordena el DataFrame por una o varias columnas."
   ]
  },
  {
   "cell_type": "code",
   "execution_count": 37,
   "metadata": {},
   "outputs": [
    {
     "name": "stdout",
     "output_type": "stream",
     "text": [
      "   Nombre  Edad     Ciudad\n",
      "1  Carlos    30  Barcelona\n",
      "4   Laura    29     Bilbao\n",
      "2   Elena    28   Valencia\n",
      "0     Ana    25     Madrid\n",
      "3   Diego    22    Sevilla\n"
     ]
    }
   ],
   "source": [
    "df_ordenado = df.sort_values(by='Edad', ascending=False)  # Orden descendente por edad\n",
    "print(df_ordenado)"
   ]
  },
  {
   "cell_type": "markdown",
   "metadata": {},
   "source": [
    "5. **`groupby()`:**\n",
    "\n",
    " Agrupa los datos basados en una o varias columnas y permite aplicar agregaciones."
   ]
  },
  {
   "cell_type": "code",
   "execution_count": 38,
   "metadata": {},
   "outputs": [
    {
     "name": "stdout",
     "output_type": "stream",
     "text": [
      "Ciudad\n",
      "Barcelona    30.0\n",
      "Bilbao       29.0\n",
      "Madrid       25.0\n",
      "Sevilla      22.0\n",
      "Valencia     28.0\n",
      "Name: Edad, dtype: float64\n"
     ]
    }
   ],
   "source": [
    "grupo_ciudad = df.groupby('Ciudad')['Edad'].mean()  # Media de edad por ciudad\n",
    "print(grupo_ciudad)"
   ]
  },
  {
   "cell_type": "markdown",
   "metadata": {},
   "source": [
    "6. **`pivot_table()`:**\n",
    "\n",
    " Crea una tabla dinámica a partir de los datos en el DataFrame."
   ]
  },
  {
   "cell_type": "code",
   "execution_count": 39,
   "metadata": {},
   "outputs": [
    {
     "name": "stdout",
     "output_type": "stream",
     "text": [
      "           Edad\n",
      "Ciudad         \n",
      "Barcelona    30\n",
      "Bilbao       29\n",
      "Madrid       25\n",
      "Sevilla      22\n",
      "Valencia     28\n"
     ]
    }
   ],
   "source": [
    "tabla_pivot = df.pivot_table(values='Edad', index='Ciudad', aggfunc='mean')\n",
    "print(tabla_pivot)"
   ]
  },
  {
   "cell_type": "markdown",
   "metadata": {},
   "source": [
    "7. **`unique()` y `value_counts()`:**\n",
    "\n",
    " `unique()` devuelve los valores únicos en una columna, y `value_counts()` cuenta la frecuencia de cada valor único."
   ]
  },
  {
   "cell_type": "code",
   "execution_count": 40,
   "metadata": {},
   "outputs": [
    {
     "name": "stdout",
     "output_type": "stream",
     "text": [
      "['Madrid' 'Barcelona' 'Valencia' 'Sevilla' 'Bilbao']\n",
      "Ciudad\n",
      "Madrid       1\n",
      "Barcelona    1\n",
      "Valencia     1\n",
      "Sevilla      1\n",
      "Bilbao       1\n",
      "Name: count, dtype: int64\n"
     ]
    }
   ],
   "source": [
    "valores_unicos_ciudad = df['Ciudad'].unique()\n",
    "print(valores_unicos_ciudad)\n",
    "conteo_ciudad = df['Ciudad'].value_counts()\n",
    "print(conteo_ciudad)"
   ]
  },
  {
   "cell_type": "markdown",
   "metadata": {},
   "source": [
    "8. **`isnull()` y `notnull()`:**\n",
    "\n",
    " Devuelven una máscara booleana para valores nulos y no nulos, respectivamente."
   ]
  },
  {
   "cell_type": "code",
   "execution_count": 41,
   "metadata": {},
   "outputs": [
    {
     "name": "stdout",
     "output_type": "stream",
     "text": [
      "   Nombre   Edad  Ciudad\n",
      "0   False  False   False\n",
      "1   False  False   False\n",
      "2   False  False   False\n",
      "3   False  False   False\n",
      "4   False  False   False\n",
      "   Nombre  Edad  Ciudad\n",
      "0    True  True    True\n",
      "1    True  True    True\n",
      "2    True  True    True\n",
      "3    True  True    True\n",
      "4    True  True    True\n"
     ]
    }
   ],
   "source": [
    "valores_nulos = df.isnull()\n",
    "print(valores_nulos)\n",
    "valores_no_nulos = df.notnull()\n",
    "print(valores_no_nulos)"
   ]
  },
  {
   "cell_type": "markdown",
   "metadata": {},
   "source": [
    "9. **`dropna()`:**\n",
    "\n",
    " Elimina filas con valores nulos del DataFrame."
   ]
  },
  {
   "cell_type": "code",
   "execution_count": 42,
   "metadata": {},
   "outputs": [
    {
     "name": "stdout",
     "output_type": "stream",
     "text": [
      "   Nombre  Edad     Ciudad\n",
      "0     Ana    25     Madrid\n",
      "1  Carlos    30  Barcelona\n",
      "2   Elena    28   Valencia\n",
      "3   Diego    22    Sevilla\n",
      "4   Laura    29     Bilbao\n"
     ]
    }
   ],
   "source": [
    "f_sin_nulos = df.dropna()\n",
    "print(f_sin_nulos)"
   ]
  },
  {
   "cell_type": "markdown",
   "metadata": {},
   "source": [
    "Estos métodos te proporcionan herramientas esenciales para explorar, analizar y manipular los datos en tus DataFrames. A medida que te familiarices con estos métodos, podrás realizar operaciones más complejas y detalladas en tus conjuntos de datos."
   ]
  },
  {
   "cell_type": "markdown",
   "metadata": {},
   "source": [
    "## **Agregar y borrar renglones y columnas**"
   ]
  },
  {
   "cell_type": "markdown",
   "metadata": {},
   "source": [
    "Agregar y borrar filas y columnas en los DataFrames es una parte fundamental de la manipulación de datos en Pandas. Aquí te explico cómo agregar y eliminar renglones y columnas en los DataFrames:\n",
    "\n",
    "**Agregar Renglones (Filas):**\n",
    "\n",
    "Para agregar renglones a un DataFrame, puedes utilizar el método `append()` o crear un nuevo DataFrame y luego concatenarlos."
   ]
  },
  {
   "cell_type": "code",
   "execution_count": 44,
   "metadata": {},
   "outputs": [],
   "source": [
    "import pandas as pd\n",
    "\n",
    "data = {\n",
    "    'Nombre': ['Ana', 'Carlos'],\n",
    "    'Edad': [25, 30],\n",
    "    'Ciudad': ['Madrid', 'Barcelona']\n",
    "}\n",
    "\n",
    "df = pd.DataFrame(data)\n",
    "\n",
    "nuevo_renglon = {'Nombre': 'Elena', 'Edad': 28, 'Ciudad': 'Valencia'}\n",
    "nuevo_df = pd.DataFrame([nuevo_renglon])\n",
    "df = pd.concat([df, nuevo_df], ignore_index=True)"
   ]
  },
  {
   "cell_type": "markdown",
   "metadata": {},
   "source": [
    "**Agregar Columnas:**\n",
    "\n",
    "Agregar columnas a un DataFrame es tan simple como asignar una nueva serie con el mismo número de filas que el DataFrame."
   ]
  },
  {
   "cell_type": "code",
   "execution_count": 46,
   "metadata": {},
   "outputs": [
    {
     "name": "stdout",
     "output_type": "stream",
     "text": [
      "   Nombre  Edad     Ciudad Genero\n",
      "0     Ana    25     Madrid      F\n",
      "1  Carlos    30  Barcelona      M\n",
      "2   Elena    28   Valencia      F\n"
     ]
    }
   ],
   "source": [
    "df['Genero'] = ['F', 'M', 'F']  # Agregar una columna 'Genero'\n",
    "print(df)"
   ]
  },
  {
   "cell_type": "markdown",
   "metadata": {},
   "source": [
    "**Borrar Renglones (Filas):**\n",
    "\n",
    "Para eliminar renglones, puedes utilizar el método `drop()` especificando el índice o etiqueta del renglón que deseas eliminar."
   ]
  },
  {
   "cell_type": "code",
   "execution_count": 47,
   "metadata": {},
   "outputs": [
    {
     "name": "stdout",
     "output_type": "stream",
     "text": [
      "  Nombre  Edad    Ciudad Genero\n",
      "0    Ana    25    Madrid      F\n",
      "2  Elena    28  Valencia      F\n"
     ]
    }
   ],
   "source": [
    "df = df.drop(1)  # Eliminar el renglón con índice 1\n",
    "print(df)"
   ]
  },
  {
   "cell_type": "markdown",
   "metadata": {},
   "source": [
    "**Borrar Columnas:**\n",
    "\n",
    "Para eliminar columnas, puedes utilizar el método `drop()` especificando el nombre de la columna y el argumento `axis=1`."
   ]
  },
  {
   "cell_type": "code",
   "execution_count": 48,
   "metadata": {},
   "outputs": [
    {
     "name": "stdout",
     "output_type": "stream",
     "text": [
      "  Nombre  Edad    Ciudad\n",
      "0    Ana    25    Madrid\n",
      "2  Elena    28  Valencia\n"
     ]
    }
   ],
   "source": [
    "df = df.drop('Genero', axis=1)  # Eliminar la columna 'Genero'\n",
    "print(df)"
   ]
  },
  {
   "cell_type": "markdown",
   "metadata": {},
   "source": [
    "Es importante tener en cuenta que los métodos `drop()` no modifican el DataFrame original, sino que crean una nueva instancia del DataFrame con las modificaciones aplicadas. Si deseas realizar cambios permanentes, debes asignar el resultado a la variable original.\n",
    "\n",
    "Recuerda que antes de borrar cualquier fila o columna, debes considerar cuidadosamente su impacto en tus datos y en el análisis que planeas realizar. Siempre es una buena práctica hacer una copia de seguridad o trabajar con copias temporales cuando estés realizando modificaciones en tus DataFrames."
   ]
  },
  {
   "cell_type": "markdown",
   "metadata": {},
   "source": [
    "## **Estadística descriptiva**"
   ]
  },
  {
   "cell_type": "markdown",
   "metadata": {},
   "source": [
    "La estadística descriptiva es una parte esencial del análisis de datos y permite resumir y comprender las características principales de un conjunto de datos. En los DataFrames de Pandas, puedes calcular estadísticas descriptivas para todas las columnas numéricas utilizando el método `describe()`. Aquí tienes una explicación detallada:\n",
    "\n",
    "**Método `describe()` en los DataFrames:**\n",
    "\n",
    "El método `describe()` genera estadísticas descriptivas para columnas numéricas en un DataFrame. Estas estadísticas incluyen el conteo, la media, la desviación estándar, el valor mínimo, los percentiles y el valor máximo."
   ]
  },
  {
   "cell_type": "code",
   "execution_count": 49,
   "metadata": {},
   "outputs": [
    {
     "name": "stdout",
     "output_type": "stream",
     "text": [
      "            Edad      Altura\n",
      "count  10.000000   10.000000\n",
      "mean   27.400000  169.700000\n",
      "std     3.204164    6.617317\n",
      "min    22.000000  160.000000\n",
      "25%    25.250000  165.500000\n",
      "50%    27.500000  169.000000\n",
      "75%    29.750000  174.250000\n",
      "max    32.000000  180.000000\n"
     ]
    }
   ],
   "source": [
    "import pandas as pd\n",
    "\n",
    "data = {\n",
    "    'Edad': [25, 30, 28, 22, 29, 32, 27, 31, 26, 24],\n",
    "    'Altura': [165, 178, 170, 160, 172, 180, 168, 175, 167, 162]\n",
    "}\n",
    "\n",
    "df = pd.DataFrame(data)\n",
    "\n",
    "descripcion = df.describe()\n",
    "print(descripcion)"
   ]
  },
  {
   "cell_type": "markdown",
   "metadata": {},
   "source": [
    "La salida proporciona información sobre el conteo de datos, la media, la desviación estándar, los percentiles y los valores mínimo y máximo para cada columna numérica en el DataFrame.\n",
    "\n",
    "Si deseas calcular estadísticas para una columna específica, también puedes aplicar funciones individuales como `mean()`, `median()`, `std()`, etc.:"
   ]
  },
  {
   "cell_type": "code",
   "execution_count": 50,
   "metadata": {},
   "outputs": [
    {
     "name": "stdout",
     "output_type": "stream",
     "text": [
      "Media de Edad: 27.4\n",
      "Mediana de Altura: 169.0\n"
     ]
    }
   ],
   "source": [
    "media_edad = df['Edad'].mean()\n",
    "mediana_altura = df['Altura'].median()\n",
    "\n",
    "print(\"Media de Edad:\", media_edad)\n",
    "print(\"Mediana de Altura:\", mediana_altura)"
   ]
  },
  {
   "cell_type": "markdown",
   "metadata": {},
   "source": [
    "Estas estadísticas descriptivas te ayudan a comprender rápidamente la distribución y las propiedades de tus datos numéricos en un DataFrame. Puedes utilizar estas estadísticas para obtener una idea general de tus datos y para tomar decisiones informadas en el análisis y la toma de decisiones."
   ]
  },
  {
   "cell_type": "markdown",
   "metadata": {},
   "source": [
    "| **Inicio** | **atrás 2** | **Siguiente 4** |\n",
    "|----------- |-------------- |---------------|\n",
    "| [🏠](../../README.md) | [⏪](./2_Series_de_Pandas.ipynb)| [⏩](./4_%20datos_de_Excel_CSV.ipynb)|"
   ]
  }
 ],
 "metadata": {
  "kernelspec": {
   "display_name": "base",
   "language": "python",
   "name": "python3"
  },
  "language_info": {
   "codemirror_mode": {
    "name": "ipython",
    "version": 3
   },
   "file_extension": ".py",
   "mimetype": "text/x-python",
   "name": "python",
   "nbconvert_exporter": "python",
   "pygments_lexer": "ipython3",
   "version": "3.9.12"
  },
  "orig_nbformat": 4
 },
 "nbformat": 4,
 "nbformat_minor": 2
}
