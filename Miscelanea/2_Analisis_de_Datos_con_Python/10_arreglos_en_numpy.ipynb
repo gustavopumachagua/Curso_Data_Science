{
 "cells": [
  {
   "cell_type": "markdown",
   "metadata": {},
   "source": [
    "| **Inicio** | **atrás 9** | **Siguiente 11** |\n",
    "|----------- |-------------- |---------------|\n",
    "| [🏠](../../README.md) | [⏪](./9_Arrays_de_Numpy.ipynb)| [⏩](./11_Numpy_Union_y_Separacion_de_Arrays.ipynb)|"
   ]
  },
  {
   "cell_type": "markdown",
   "metadata": {},
   "source": [
    "# **10. Numpy: Agregación y Ejes de Arrays (arreglos) para Procesar Datos con Python**"
   ]
  },
  {
   "cell_type": "markdown",
   "metadata": {},
   "source": [
    "## **Introducción a los Ejes y Funciones de Agregación**"
   ]
  },
  {
   "cell_type": "markdown",
   "metadata": {},
   "source": [
    "Los ejes y las funciones de agregación son conceptos fundamentales en NumPy que te permiten realizar operaciones en arrays multidimensionales y obtener resultados resumidos. Vamos a explorar en detalle qué son los ejes, cómo funcionan y cómo utilizar las funciones de agregación en NumPy, utilizando ejemplos para ilustrar cada concepto.\n",
    "\n",
    "**Ejes en Arrays Multidimensionales:**\n",
    "\n",
    "En NumPy, los ejes son las dimensiones a lo largo de las cuales se realizan operaciones. En un array bidimensional, el primer eje suele representar las filas y el segundo eje las columnas. En arrays tridimensionales y superiores, los ejes adicionales representan dimensiones adicionales.\n",
    "\n",
    "**Funciones de Agregación en NumPy:**\n",
    "\n",
    "Las funciones de agregación son operaciones que toman un conjunto de valores y generan un único valor resumido basado en esos valores. Algunos ejemplos son la suma, el promedio, el máximo y el mínimo.\n",
    "\n",
    "**Ejemplos de Uso de Ejes y Funciones de Agregación:**"
   ]
  },
  {
   "cell_type": "code",
   "execution_count": 1,
   "metadata": {},
   "outputs": [
    {
     "name": "stdout",
     "output_type": "stream",
     "text": [
      "Suma total: 45\n",
      "Suma por filas: [12 15 18]\n",
      "Suma por columnas: [ 6 15 24]\n",
      "Máximo valor: 9\n",
      "Mínimo por filas: [1 2 3]\n",
      "Promedio por columnas: [2. 5. 8.]\n",
      "Producto acumulado por filas:\n",
      " [[  1   2   3]\n",
      " [  4  10  18]\n",
      " [ 28  80 162]]\n"
     ]
    }
   ],
   "source": [
    "import numpy as np\n",
    "\n",
    "# Crear una matriz de ejemplo\n",
    "matriz = np.array([[1, 2, 3],\n",
    "                   [4, 5, 6],\n",
    "                   [7, 8, 9]])\n",
    "\n",
    "# Suma de todos los elementos en la matriz\n",
    "suma_total = np.sum(matriz)\n",
    "print(\"Suma total:\", suma_total)  # Output: 45\n",
    "\n",
    "# Suma de elementos a lo largo del primer eje (filas)\n",
    "suma_filas = np.sum(matriz, axis=0)\n",
    "print(\"Suma por filas:\", suma_filas)  # Output: [12 15 18]\n",
    "\n",
    "# Suma de elementos a lo largo del segundo eje (columnas)\n",
    "suma_columnas = np.sum(matriz, axis=1)\n",
    "print(\"Suma por columnas:\", suma_columnas)  # Output: [ 6 15 24]\n",
    "\n",
    "# Valor máximo en la matriz\n",
    "maximo_valor = np.max(matriz)\n",
    "print(\"Máximo valor:\", maximo_valor)  # Output: 9\n",
    "\n",
    "# Valor mínimo por filas\n",
    "minimo_filas = np.min(matriz, axis=0)\n",
    "print(\"Mínimo por filas:\", minimo_filas)  # Output: [1 2 3]\n",
    "\n",
    "# Promedio por columnas\n",
    "promedio_columnas = np.mean(matriz, axis=1)\n",
    "print(\"Promedio por columnas:\", promedio_columnas)  # Output: [2. 5. 8.]\n",
    "\n",
    "# Producto acumulado por filas\n",
    "producto_acumulado_filas = np.cumprod(matriz, axis=0)\n",
    "print(\"Producto acumulado por filas:\\n\", producto_acumulado_filas)\n",
    "# Output: [[ 1  2  3]\n",
    "#          [ 4 10 18]\n",
    "#          [28 80 162]]"
   ]
  },
  {
   "cell_type": "markdown",
   "metadata": {},
   "source": [
    "En estos ejemplos, estamos utilizando funciones de agregación como `np.sum`, `np.max`, `np.min`, `np.mean` y `np.cumprod` junto con el parámetro `axis` para especificar a lo largo de qué eje se deben realizar las operaciones. El parámetro `axis` permite controlar cómo se agrupan los datos para calcular el resultado deseado.\n",
    "\n",
    "En resumen, comprender cómo trabajar con ejes y funciones de agregación en NumPy es esencial para analizar datos multidimensionales de manera efectiva y resumirlos en formas útiles. Estas herramientas son útiles tanto para cálculos básicos como para análisis más avanzados de datos."
   ]
  },
  {
   "cell_type": "markdown",
   "metadata": {},
   "source": [
    "## **Función de agregación: min, max, argmin, argmax, sum y mean**"
   ]
  },
  {
   "cell_type": "markdown",
   "metadata": {},
   "source": [
    "Por supuesto, estaré encantado de proporcionarte una explicación detallada sobre las funciones de agregación `min`, `max`, `argmin`, `argmax`, `sum` y `mean` en NumPy, junto con ejemplos para ilustrar cada una de estas funciones.\n",
    "\n",
    "**Función `min` y `max`:**\n",
    "\n",
    "Estas funciones devuelven el valor mínimo y máximo de un array, respectivamente."
   ]
  },
  {
   "cell_type": "code",
   "execution_count": 2,
   "metadata": {},
   "outputs": [
    {
     "name": "stdout",
     "output_type": "stream",
     "text": [
      "Valor mínimo: 1\n",
      "Valor máximo: 9\n"
     ]
    }
   ],
   "source": [
    "import numpy as np\n",
    "\n",
    "arr = np.array([3, 8, 1, 5, 9, 2])\n",
    "\n",
    "min_value = np.min(arr)\n",
    "max_value = np.max(arr)\n",
    "\n",
    "print(\"Valor mínimo:\", min_value)  # Output: 1\n",
    "print(\"Valor máximo:\", max_value)  # Output: 9"
   ]
  },
  {
   "cell_type": "markdown",
   "metadata": {},
   "source": [
    "**Función `argmin` y `argmax`:**\n",
    "\n",
    "Estas funciones devuelven el índice del valor mínimo y máximo en un array, respectivamente."
   ]
  },
  {
   "cell_type": "code",
   "execution_count": 3,
   "metadata": {},
   "outputs": [
    {
     "name": "stdout",
     "output_type": "stream",
     "text": [
      "Índice del valor mínimo: 2\n",
      "Índice del valor máximo: 4\n"
     ]
    }
   ],
   "source": [
    "\n",
    "arr = np.array([3, 8, 1, 5, 9, 2])\n",
    "\n",
    "argmin_index = np.argmin(arr)\n",
    "argmax_index = np.argmax(arr)\n",
    "\n",
    "print(\"Índice del valor mínimo:\", argmin_index)  # Output: 2 (índice del valor 1)\n",
    "print(\"Índice del valor máximo:\", argmax_index)  # Output: 4 (índice del valor 9)"
   ]
  },
  {
   "cell_type": "markdown",
   "metadata": {},
   "source": [
    "**Función `sum`:**\n",
    "\n",
    "La función `sum` calcula la suma de los elementos en un array."
   ]
  },
  {
   "cell_type": "code",
   "execution_count": 4,
   "metadata": {},
   "outputs": [
    {
     "name": "stdout",
     "output_type": "stream",
     "text": [
      "Suma de elementos: 28\n"
     ]
    }
   ],
   "source": [
    "\n",
    "arr = np.array([3, 8, 1, 5, 9, 2])\n",
    "\n",
    "sum_result = np.sum(arr)\n",
    "\n",
    "print(\"Suma de elementos:\", sum_result)  # Output: 28"
   ]
  },
  {
   "cell_type": "markdown",
   "metadata": {},
   "source": [
    "**Función `mean`:**\n",
    "\n",
    "La función `mean` calcula el promedio de los elementos en un array."
   ]
  },
  {
   "cell_type": "code",
   "execution_count": 5,
   "metadata": {},
   "outputs": [
    {
     "name": "stdout",
     "output_type": "stream",
     "text": [
      "Promedio de elementos: 4.666666666666667\n"
     ]
    }
   ],
   "source": [
    "arr = np.array([3, 8, 1, 5, 9, 2])\n",
    "\n",
    "mean_result = np.mean(arr)\n",
    "\n",
    "print(\"Promedio de elementos:\", mean_result)  # Output: 4.666666666666667"
   ]
  },
  {
   "cell_type": "markdown",
   "metadata": {},
   "source": [
    "Estas funciones de agregación son herramientas esenciales en NumPy para realizar cálculos resumidos en arrays. Son útiles para obtener información estadística sobre los datos y para realizar operaciones de agregación en conjuntos de datos más grandes. Recuerda que puedes usar el argumento `axis` para calcular estas funciones a lo largo de ejes específicos en arrays multidimensionales."
   ]
  },
  {
   "cell_type": "markdown",
   "metadata": {},
   "source": [
    "## **Función de agregación por Eje (Axis)**"
   ]
  },
  {
   "cell_type": "markdown",
   "metadata": {},
   "source": [
    "Por supuesto, estaré encantado de proporcionarte una explicación detallada sobre cómo utilizar la función de agregación por eje (axis) en NumPy, junto con ejemplos para ilustrar su funcionamiento.\n",
    "\n",
    "**Funciones de Agregación por Eje en NumPy:**\n",
    "\n",
    "En NumPy, muchas funciones de agregación (como `sum`, `min`, `max`, `mean`, etc.) pueden calcular sus resultados a lo largo de un eje específico en arrays multidimensionales. Esto es especialmente útil cuando trabajas con datos en forma de matrices, donde cada eje tiene su propia interpretación (por ejemplo, filas y columnas).\n",
    "\n",
    "**Ejemplos de Funciones de Agregación por Eje:**"
   ]
  },
  {
   "cell_type": "code",
   "execution_count": 7,
   "metadata": {},
   "outputs": [
    {
     "name": "stdout",
     "output_type": "stream",
     "text": [
      "Suma por filas: [12 15 18]\n",
      "Suma por columnas: [ 6 15 24]\n",
      "Mínimo por filas: [1 2 3]\n",
      "Máximo por columnas: [3 6 9]\n",
      "Promedio por columnas: [4. 5. 6.]\n",
      "Producto acumulado por filas:\n",
      " [[  1   2   6]\n",
      " [  4  20 120]\n",
      " [  7  56 504]]\n"
     ]
    }
   ],
   "source": [
    "import numpy as np\n",
    "\n",
    "# Crear una matriz de ejemplo\n",
    "matriz = np.array([[1, 2, 3],\n",
    "                   [4, 5, 6],\n",
    "                   [7, 8, 9]])\n",
    "\n",
    "# Suma de elementos a lo largo del primer eje (filas)\n",
    "suma_filas = np.sum(matriz, axis=0)\n",
    "print(\"Suma por filas:\", suma_filas)  # Output: [12 15 18]\n",
    "\n",
    "# Suma de elementos a lo largo del segundo eje (columnas)\n",
    "suma_columnas = np.sum(matriz, axis=1)\n",
    "print(\"Suma por columnas:\", suma_columnas)  # Output: [ 6 15 24]\n",
    "\n",
    "# Valor mínimo por filas\n",
    "minimo_filas = np.min(matriz, axis=0)\n",
    "print(\"Mínimo por filas:\", minimo_filas)  # Output: [1 2 3]\n",
    "\n",
    "# Valor máximo por columnas\n",
    "maximo_columnas = np.max(matriz, axis=1)\n",
    "print(\"Máximo por columnas:\", maximo_columnas)  # Output: [3 6 9]\n",
    "\n",
    "# Promedio por columnas\n",
    "promedio_columnas = np.mean(matriz, axis=0)\n",
    "print(\"Promedio por columnas:\", promedio_columnas)  # Output: [4. 5. 6.]\n",
    "\n",
    "# Producto acumulado por filas\n",
    "producto_acumulado_filas = np.cumprod(matriz, axis=1)\n",
    "print(\"Producto acumulado por filas:\\n\", producto_acumulado_filas)\n",
    "# Output: [[  1   2   6]\n",
    "#          [  4  20 120]\n",
    "#          [  7  56 504]]"
   ]
  },
  {
   "cell_type": "markdown",
   "metadata": {},
   "source": [
    "En estos ejemplos, estamos utilizando varias funciones de agregación (`np.sum`, `np.min`, `np.max`, `np.mean`, `np.cumprod`) junto con el argumento `axis` para especificar a lo largo de qué eje deben realizarse las operaciones. El valor `axis` permite controlar cómo se agrupan los datos para calcular el resultado deseado.\n",
    "\n",
    "Recuerda que el uso correcto del argumento `axis` es esencial para obtener los resultados esperados al realizar funciones de agregación en arrays multidimensionales."
   ]
  },
  {
   "cell_type": "markdown",
   "metadata": {},
   "source": [
    "| **Inicio** | **atrás 9** | **Siguiente 11** |\n",
    "|----------- |-------------- |---------------|\n",
    "| [🏠](../../README.md) | [⏪](./9_Arrays_de_Numpy.ipynb)| [⏩](./11_Numpy_Union_y_Separacion_de_Arrays.ipynb)|"
   ]
  }
 ],
 "metadata": {
  "kernelspec": {
   "display_name": "base",
   "language": "python",
   "name": "python3"
  },
  "language_info": {
   "codemirror_mode": {
    "name": "ipython",
    "version": 3
   },
   "file_extension": ".py",
   "mimetype": "text/x-python",
   "name": "python",
   "nbconvert_exporter": "python",
   "pygments_lexer": "ipython3",
   "version": "3.9.12"
  },
  "orig_nbformat": 4
 },
 "nbformat": 4,
 "nbformat_minor": 2
}
