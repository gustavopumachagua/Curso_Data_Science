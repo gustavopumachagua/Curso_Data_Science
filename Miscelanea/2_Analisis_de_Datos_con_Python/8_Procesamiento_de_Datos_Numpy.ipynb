{
 "cells": [
  {
   "cell_type": "markdown",
   "metadata": {},
   "source": [
    "| **Inicio** | **atrás 7** | **Siguiente 9** |\n",
    "|----------- |-------------- |---------------|\n",
    "| [🏠](../../README.md) | [⏪](./7_Manejo_de_Datos_Faltantes.ipynb)| [⏩](./9_Arrays_de_Numpy.ipynb)|"
   ]
  },
  {
   "cell_type": "markdown",
   "metadata": {},
   "source": [
    "# **8. Procesamiento de Datos con Numpy en Python: Operaciones vectoriales con Arrays ó Arreglos**"
   ]
  },
  {
   "cell_type": "markdown",
   "metadata": {},
   "source": [
    "## **Introducción a los Arreglos de Numpy**"
   ]
  },
  {
   "cell_type": "markdown",
   "metadata": {},
   "source": [
    "Los arreglos (arrays) de NumPy son una estructura fundamental en la biblioteca NumPy de Python, diseñada para manejar eficientemente datos numéricos y realizar operaciones matemáticas en ellos. Los arreglos de NumPy son similares a las listas de Python, pero tienen muchas ventajas adicionales, como operaciones vectorizadas y mejor rendimiento en cálculos numéricos. Aquí tienes una explicación detallada junto con ejemplos sobre los arreglos de NumPy.\n",
    "\n",
    "**Instalación y Importación de NumPy:**\n",
    "\n",
    "Antes de comenzar, asegúrate de tener NumPy instalado. Si no lo tienes instalado, puedes instalarlo usando el siguiente comando:\n",
    "\n",
    "```\n",
    "pip install numpy\n",
    "```\n",
    "\n",
    "Luego, puedes importar NumPy en tu código:"
   ]
  },
  {
   "cell_type": "code",
   "execution_count": 1,
   "metadata": {},
   "outputs": [],
   "source": [
    "import numpy as np"
   ]
  },
  {
   "cell_type": "markdown",
   "metadata": {},
   "source": [
    "**Creación de Arreglos:**\n",
    "\n",
    "Puedes crear arreglos de NumPy utilizando varias funciones. Algunas de las formas más comunes son:\n",
    "\n",
    "1. **Desde una Lista o Tupla:**"
   ]
  },
  {
   "cell_type": "code",
   "execution_count": 2,
   "metadata": {},
   "outputs": [
    {
     "name": "stdout",
     "output_type": "stream",
     "text": [
      "[1 2 3 4 5]\n"
     ]
    }
   ],
   "source": [
    "lista = [1, 2, 3, 4, 5]\n",
    "arreglo = np.array(lista)\n",
    "print(arreglo)"
   ]
  },
  {
   "cell_type": "markdown",
   "metadata": {},
   "source": [
    "2. **Arreglo de Ceros o Unos:**"
   ]
  },
  {
   "cell_type": "code",
   "execution_count": 3,
   "metadata": {},
   "outputs": [
    {
     "name": "stdout",
     "output_type": "stream",
     "text": [
      "[0. 0. 0. 0. 0.]\n",
      "[1. 1. 1.]\n"
     ]
    }
   ],
   "source": [
    "arreglo_ceros = np.zeros(5)\n",
    "arreglo_unos = np.ones(3)\n",
    "print(arreglo_ceros)\n",
    "print(arreglo_unos)"
   ]
  },
  {
   "cell_type": "markdown",
   "metadata": {},
   "source": [
    "3. **Arreglo Secuencial:**"
   ]
  },
  {
   "cell_type": "code",
   "execution_count": 4,
   "metadata": {},
   "outputs": [
    {
     "name": "stdout",
     "output_type": "stream",
     "text": [
      "[0 2 4 6 8]\n"
     ]
    }
   ],
   "source": [
    "arreglo_secuencial = np.arange(0, 10, 2)  # Del 0 al 9, saltando de 2 en 2\n",
    "print(arreglo_secuencial)"
   ]
  },
  {
   "cell_type": "markdown",
   "metadata": {},
   "source": [
    "4. **Arreglo Espaciado Linealmente:**"
   ]
  },
  {
   "cell_type": "code",
   "execution_count": 5,
   "metadata": {},
   "outputs": [
    {
     "name": "stdout",
     "output_type": "stream",
     "text": [
      "[0.   0.25 0.5  0.75 1.  ]\n"
     ]
    }
   ],
   "source": [
    "arreglo_espaciado = np.linspace(0, 1, 5)  # Espaciado lineal entre 0 y 1 en 5 valores\n",
    "print(arreglo_espaciado)"
   ]
  },
  {
   "cell_type": "markdown",
   "metadata": {},
   "source": [
    "**Operaciones con Arreglos:**\n",
    "\n",
    "Una de las características clave de los arreglos de NumPy son las operaciones vectorizadas, que permiten realizar operaciones en cada elemento del arreglo sin necesidad de bucles explícitos."
   ]
  },
  {
   "cell_type": "code",
   "execution_count": 6,
   "metadata": {},
   "outputs": [
    {
     "name": "stdout",
     "output_type": "stream",
     "text": [
      "Suma: [5 7 9]\n",
      "Producto: [ 4 10 18]\n",
      "Promedio: 2.0\n"
     ]
    }
   ],
   "source": [
    "a = np.array([1, 2, 3])\n",
    "b = np.array([4, 5, 6])\n",
    "\n",
    "suma = a + b\n",
    "producto = a * b\n",
    "promedio = np.mean(a)\n",
    "\n",
    "print(\"Suma:\", suma)\n",
    "print(\"Producto:\", producto)\n",
    "print(\"Promedio:\", promedio)"
   ]
  },
  {
   "cell_type": "markdown",
   "metadata": {},
   "source": [
    "**Indexación y Rebanado:**\n",
    "\n",
    "Puedes acceder a elementos individuales en un arreglo utilizando la indexación. Los índices en Python comienzan desde 0."
   ]
  },
  {
   "cell_type": "code",
   "execution_count": 7,
   "metadata": {},
   "outputs": [
    {
     "name": "stdout",
     "output_type": "stream",
     "text": [
      "30\n"
     ]
    }
   ],
   "source": [
    "arreglo = np.array([10, 20, 30, 40, 50])\n",
    "print(arreglo[2])  # Acceder al tercer elemento (índice 2)"
   ]
  },
  {
   "cell_type": "markdown",
   "metadata": {},
   "source": [
    "También puedes utilizar la rebanada para acceder a porciones de un arreglo."
   ]
  },
  {
   "cell_type": "code",
   "execution_count": 8,
   "metadata": {},
   "outputs": [
    {
     "name": "stdout",
     "output_type": "stream",
     "text": [
      "[20 30 40]\n"
     ]
    }
   ],
   "source": [
    "print(arreglo[1:4])  # Elementos del índice 1 al 3"
   ]
  },
  {
   "cell_type": "markdown",
   "metadata": {},
   "source": [
    "**Forma y Dimensiones:**\n",
    "\n",
    "Un arreglo de NumPy tiene una propiedad \"shape\" que muestra sus dimensiones."
   ]
  },
  {
   "cell_type": "code",
   "execution_count": 9,
   "metadata": {},
   "outputs": [
    {
     "name": "stdout",
     "output_type": "stream",
     "text": [
      "(2, 3)\n"
     ]
    }
   ],
   "source": [
    "matriz = np.array([[1, 2, 3], [4, 5, 6]])\n",
    "print(matriz.shape)  # Muestra (2, 3), que significa 2 filas y 3 columnas"
   ]
  },
  {
   "cell_type": "markdown",
   "metadata": {},
   "source": [
    "Estos son solo conceptos básicos sobre arreglos de NumPy. NumPy ofrece una amplia gama de funcionalidades para manipular, operar y analizar datos numéricos de manera eficiente. Los arreglos de NumPy son ampliamente utilizados en análisis de datos, machine learning y muchas otras aplicaciones numéricas en Python debido a su eficiencia y versatilidad."
   ]
  },
  {
   "cell_type": "markdown",
   "metadata": {},
   "source": [
    "## **Creación de Arreglos**"
   ]
  },
  {
   "cell_type": "markdown",
   "metadata": {},
   "source": [
    "La creación de arreglos en NumPy es una parte fundamental de trabajar con esta biblioteca. Los arreglos NumPy son utilizados para almacenar datos numéricos de manera eficiente y realizar operaciones matemáticas en ellos. Aquí te mostraré diferentes formas de crear arreglos en NumPy con ejemplos detallados:\n",
    "\n",
    "**1. Desde Listas o Tuplas:**\n",
    "\n",
    "Puedes crear un arreglo NumPy directamente desde una lista o tupla de Python."
   ]
  },
  {
   "cell_type": "code",
   "execution_count": 10,
   "metadata": {},
   "outputs": [
    {
     "name": "stdout",
     "output_type": "stream",
     "text": [
      "[1 2 3 4 5]\n"
     ]
    }
   ],
   "source": [
    "import numpy as np\n",
    "\n",
    "lista = [1, 2, 3, 4, 5]\n",
    "arreglo = np.array(lista)\n",
    "print(arreglo)"
   ]
  },
  {
   "cell_type": "markdown",
   "metadata": {},
   "source": [
    "**2. Arreglos de Ceros o Unos:**\n",
    "\n",
    "Puedes crear arreglos de ceros o unos con tamaños específicos utilizando las funciones `np.zeros()` y `np.ones()`."
   ]
  },
  {
   "cell_type": "code",
   "execution_count": 11,
   "metadata": {},
   "outputs": [
    {
     "name": "stdout",
     "output_type": "stream",
     "text": [
      "[0. 0. 0. 0. 0.]\n",
      "[1. 1. 1.]\n"
     ]
    }
   ],
   "source": [
    "arreglo_ceros = np.zeros(5)\n",
    "arreglo_unos = np.ones(3)\n",
    "print(arreglo_ceros)\n",
    "print(arreglo_unos)"
   ]
  },
  {
   "cell_type": "markdown",
   "metadata": {},
   "source": [
    "**3. Arreglos Secuenciales:**\n",
    "\n",
    "La función `np.arange()` permite crear un arreglo con valores secuenciales."
   ]
  },
  {
   "cell_type": "code",
   "execution_count": 12,
   "metadata": {},
   "outputs": [
    {
     "name": "stdout",
     "output_type": "stream",
     "text": [
      "[0 2 4 6 8]\n"
     ]
    }
   ],
   "source": [
    "arreglo_secuencial = np.arange(0, 10, 2)  # Del 0 al 9, saltando de 2 en 2\n",
    "print(arreglo_secuencial)"
   ]
  },
  {
   "cell_type": "markdown",
   "metadata": {},
   "source": [
    "**4. Arreglos Espaciados Linealmente:**\n",
    "\n",
    "La función `np.linspace()` crea un arreglo con valores espaciados linealmente entre un rango."
   ]
  },
  {
   "cell_type": "code",
   "execution_count": 13,
   "metadata": {},
   "outputs": [
    {
     "name": "stdout",
     "output_type": "stream",
     "text": [
      "[0.   0.25 0.5  0.75 1.  ]\n"
     ]
    }
   ],
   "source": [
    "arreglo_espaciado = np.linspace(0, 1, 5)  # Espaciado lineal entre 0 y 1 en 5 valores\n",
    "print(arreglo_espaciado)"
   ]
  },
  {
   "cell_type": "markdown",
   "metadata": {},
   "source": [
    "**5. Matrices Identidad:**\n",
    "\n",
    "La función `np.eye()` permite crear matrices identidad (matrices cuadradas con unos en la diagonal principal y ceros en el resto)."
   ]
  },
  {
   "cell_type": "code",
   "execution_count": 14,
   "metadata": {},
   "outputs": [
    {
     "name": "stdout",
     "output_type": "stream",
     "text": [
      "[[1. 0. 0.]\n",
      " [0. 1. 0.]\n",
      " [0. 0. 1.]]\n"
     ]
    }
   ],
   "source": [
    "matriz_identidad = np.eye(3)  # Matriz identidad de tamaño 3x3\n",
    "print(matriz_identidad)"
   ]
  },
  {
   "cell_type": "markdown",
   "metadata": {},
   "source": [
    "**6. Arreglos Aleatorios:**\n",
    "\n",
    "Puedes generar arreglos con valores aleatorios utilizando `np.random`."
   ]
  },
  {
   "cell_type": "code",
   "execution_count": 15,
   "metadata": {},
   "outputs": [
    {
     "name": "stdout",
     "output_type": "stream",
     "text": [
      "[0.96590824 0.11322262 0.26953857 0.25138728]\n"
     ]
    }
   ],
   "source": [
    "arreglo_aleatorio = np.random.rand(4)  # Arreglo de 4 valores aleatorios entre 0 y 1\n",
    "print(arreglo_aleatorio)"
   ]
  },
  {
   "cell_type": "markdown",
   "metadata": {},
   "source": [
    "**7. Arreglos Personalizados:**\n",
    "\n",
    "Puedes crear arreglos personalizados utilizando una función de mapeo."
   ]
  },
  {
   "cell_type": "code",
   "execution_count": 16,
   "metadata": {},
   "outputs": [
    {
     "name": "stdout",
     "output_type": "stream",
     "text": [
      "[ 0.  1.  4.  9. 16.]\n"
     ]
    }
   ],
   "source": [
    "funcion_personalizada = lambda x: x**2\n",
    "arreglo_personalizado = np.fromfunction(funcion_personalizada, (5,))\n",
    "print(arreglo_personalizado)"
   ]
  },
  {
   "cell_type": "markdown",
   "metadata": {},
   "source": [
    "Estos son solo algunos ejemplos de las muchas formas en que puedes crear arreglos en NumPy. Cada función tiene sus propias particularidades y opciones para personalizar la creación del arreglo. Los arreglos NumPy son fundamentales en el análisis numérico y científico en Python debido a su eficiencia y versatilidad en operaciones matemáticas y manipulación de datos."
   ]
  },
  {
   "cell_type": "markdown",
   "metadata": {},
   "source": [
    "## **Tipos de datos de Arrays y la implicación del tamaño del dato**"
   ]
  },
  {
   "cell_type": "markdown",
   "metadata": {},
   "source": [
    "En NumPy, una de las bibliotecas más utilizadas en Python para el cálculo científico y computacional, los arrays son la estructura de datos principal para almacenar y manipular datos. Los tipos de datos en los arrays de NumPy son importantes ya que afectan la forma en que los datos se almacenan en memoria y cómo se realizan las operaciones en esos datos.\n",
    "\n",
    "NumPy ofrece varios tipos de datos predefinidos, y el tamaño del dato tiene implicaciones significativas en términos de consumo de memoria, precisión numérica y rendimiento. Vamos a explorar los tipos de datos más comunes y cómo el tamaño del dato puede influir en el uso de la memoria y las operaciones.\n",
    "\n",
    "Los tipos de datos más utilizados en NumPy son:\n",
    "\n",
    "1. **int**:\n",
    "\n",
    " Representa números enteros. Puede tener diferentes tamaños, como `int8`, `int16`, `int32`, y `int64`, que indican la cantidad de bits utilizados para representar el número. Un `int8` utiliza 8 bits (1 byte), mientras que un `int64` utiliza 64 bits (8 bytes).\n",
    "\n",
    "2. **float**:\n",
    "\n",
    " Representa números de punto flotante (números reales). Al igual que con los enteros, puedes encontrar diferentes tamaños como `float16`, `float32`, y `float64`, que indican la cantidad de bits utilizados para la representación. Por ejemplo, un `float32` utiliza 32 bits (4 bytes) para representar el número.\n",
    "\n",
    "3. **complex**:\n",
    "\n",
    " Representa números complejos con parte real e imaginaria. Los tamaños son similares a los de los tipos `float` (por ejemplo, `complex64` y `complex128`).\n",
    "\n",
    "Vamos a ver un ejemplo práctico utilizando diferentes tipos de datos y analizando su impacto en el consumo de memoria:"
   ]
  },
  {
   "cell_type": "code",
   "execution_count": 1,
   "metadata": {},
   "outputs": [
    {
     "name": "stdout",
     "output_type": "stream",
     "text": [
      "Tamaño de arr_int32: 12 bytes\n",
      "Tamaño de arr_float32: 12 bytes\n",
      "Tamaño de arr_complex64: 16 bytes\n"
     ]
    }
   ],
   "source": [
    "import numpy as np\n",
    "\n",
    "# Crear arrays de diferentes tipos de datos\n",
    "arr_int32 = np.array([1, 2, 3], dtype=np.int32)\n",
    "arr_float32 = np.array([1.0, 2.0, 3.0], dtype=np.float32)\n",
    "arr_complex64 = np.array([1 + 2j, 3 + 4j], dtype=np.complex64)\n",
    "\n",
    "# Obtener el tamaño en bytes de cada array\n",
    "print(\"Tamaño de arr_int32:\", arr_int32.nbytes, \"bytes\")\n",
    "print(\"Tamaño de arr_float32:\", arr_float32.nbytes, \"bytes\")\n",
    "print(\"Tamaño de arr_complex64:\", arr_complex64.nbytes, \"bytes\")"
   ]
  },
  {
   "cell_type": "markdown",
   "metadata": {},
   "source": [
    "En este ejemplo, estamos creando arrays con diferentes tipos de datos y analizando su tamaño en bytes utilizando el atributo `nbytes`. Observarás que el tamaño del dato afecta directamente el consumo de memoria. Los números enteros de 32 bits (`int32`) consumen más memoria que los números enteros de 8 bits (`int8`), y lo mismo ocurre con los tipos `float` y `complex`.\n",
    "\n",
    "En resumen, la elección del tipo de dato adecuado en NumPy es importante para optimizar el uso de memoria y la precisión numérica en tus cálculos. Debes considerar el rango de valores que necesitas representar y el equilibrio entre precisión y consumo de memoria."
   ]
  },
  {
   "cell_type": "markdown",
   "metadata": {},
   "source": [
    "## **Share (figura) de los arreglos**"
   ]
  },
  {
   "cell_type": "markdown",
   "metadata": {},
   "source": [
    "En NumPy, el término \"shape\" se refiere a las dimensiones y tamaños de un array. El shape de un array especifica la cantidad de elementos a lo largo de cada dimensión. En otras palabras, es una tupla de números enteros que describe el tamaño de cada eje en un array multidimensional.\n",
    "\n",
    "Para entender mejor qué es el shape de un array en NumPy, consideremos algunos ejemplos:"
   ]
  },
  {
   "cell_type": "code",
   "execution_count": 2,
   "metadata": {},
   "outputs": [
    {
     "name": "stdout",
     "output_type": "stream",
     "text": [
      "Shape de arr1: (5,)\n",
      "Shape de arr2: (2, 3)\n",
      "Shape de arr3: (2, 2, 2)\n"
     ]
    }
   ],
   "source": [
    "import numpy as np\n",
    "\n",
    "# Crear un array unidimensional (vector)\n",
    "arr1 = np.array([1, 2, 3, 4, 5])\n",
    "print(\"Shape de arr1:\", arr1.shape)  # Output: (5,)\n",
    "\n",
    "# Crear un array bidimensional (matriz)\n",
    "arr2 = np.array([[1, 2, 3], [4, 5, 6]])\n",
    "print(\"Shape de arr2:\", arr2.shape)  # Output: (2, 3)\n",
    "\n",
    "# Crear un array tridimensional\n",
    "arr3 = np.array([[[1, 2], [3, 4]], [[5, 6], [7, 8]]])\n",
    "print(\"Shape de arr3:\", arr3.shape)  # Output: (2, 2, 2)"
   ]
  },
  {
   "cell_type": "markdown",
   "metadata": {},
   "source": [
    "En estos ejemplos, el shape de `arr1` es `(5,)`, lo que significa que es un array unidimensional con 5 elementos a lo largo del primer eje. El shape de `arr2` es `(2, 3)`, lo que indica que es una matriz con 2 filas y 3 columnas. El shape de `arr3` es `(2, 2, 2)`, lo que indica que es un array tridimensional con 2 elementos a lo largo de cada uno de los tres ejes.\n",
    "\n",
    "Es importante tener en cuenta que el shape de un array está relacionado con su estructura y organización en memoria. El shape determina la cantidad de elementos en cada dimensión, y esa información es crucial para realizar operaciones matriciales, broadcasting y otras manipulaciones de arrays.\n",
    "\n",
    "Puedes modificar el shape de un array utilizando el método `reshape` de NumPy. Esto te permite cambiar la organización de los elementos sin cambiar los datos subyacentes:"
   ]
  },
  {
   "cell_type": "code",
   "execution_count": 3,
   "metadata": {},
   "outputs": [
    {
     "name": "stdout",
     "output_type": "stream",
     "text": [
      "Shape de reshaped_arr: (2, 3)\n"
     ]
    }
   ],
   "source": [
    "# Crear un array unidimensional\n",
    "arr = np.array([1, 2, 3, 4, 5, 6])\n",
    "\n",
    "# Cambiar el shape a una matriz de 2x3\n",
    "reshaped_arr = arr.reshape(2, 3)\n",
    "print(\"Shape de reshaped_arr:\", reshaped_arr.shape)  # Output: (2, 3)"
   ]
  },
  {
   "cell_type": "markdown",
   "metadata": {},
   "source": [
    "En este ejemplo, estamos reorganizando el array unidimensional `arr` en una matriz de 2 filas y 3 columnas utilizando el método `reshape`.\n",
    "\n",
    "En resumen, el shape de un array en NumPy describe su estructura y tamaño en términos de dimensiones. Entender el shape es fundamental para trabajar eficientemente con arrays multidimensionales y realizar cálculos matriciales y operaciones de broadcasting de manera efectiva."
   ]
  },
  {
   "cell_type": "markdown",
   "metadata": {},
   "source": [
    "## **Métodos y operaciones básicas sobre Arreglos**"
   ]
  },
  {
   "cell_type": "markdown",
   "metadata": {},
   "source": [
    "En NumPy, los métodos y operaciones básicas sobre arrays son esenciales para realizar manipulaciones y cálculos en los datos de manera eficiente. Vamos a explorar algunas de las operaciones y métodos más comunes que puedes realizar con arrays en NumPy.\n",
    "\n",
    "**Creación de Arrays:**\n",
    "\n",
    "Puedes crear arrays en NumPy de varias formas, incluyendo listas de Python y funciones dedicadas de creación de arrays, como `np.zeros`, `np.ones`, y `np.arange`."
   ]
  },
  {
   "cell_type": "code",
   "execution_count": 4,
   "metadata": {},
   "outputs": [],
   "source": [
    "import numpy as np\n",
    "\n",
    "# Crear un array a partir de una lista\n",
    "arr1 = np.array([1, 2, 3, 4, 5])\n",
    "\n",
    "# Crear un array de ceros\n",
    "arr_zeros = np.zeros((2, 3))  # Matriz de 2x3 con elementos 0\n",
    "\n",
    "# Crear un array de unos\n",
    "arr_ones = np.ones((3, 3))  # Matriz de 3x3 con elementos 1\n",
    "\n",
    "# Crear un array de valores en un rango\n",
    "arr_range = np.arange(0, 10, 2)  # Array con valores 0, 2, 4, 6, 8"
   ]
  },
  {
   "cell_type": "markdown",
   "metadata": {},
   "source": [
    "**Operaciones Aritméticas:**\n",
    "\n",
    "NumPy permite realizar operaciones aritméticas de manera eficiente elemento a elemento en arrays."
   ]
  },
  {
   "cell_type": "code",
   "execution_count": 5,
   "metadata": {},
   "outputs": [],
   "source": [
    "arr_a = np.array([1, 2, 3])\n",
    "arr_b = np.array([4, 5, 6])\n",
    "\n",
    "# Suma\n",
    "sum_result = arr_a + arr_b  # [5, 7, 9]\n",
    "\n",
    "# Resta\n",
    "sub_result = arr_b - arr_a  # [3, 3, 3]\n",
    "\n",
    "# Multiplicación\n",
    "mul_result = arr_a * arr_b  # [4, 10, 18]\n",
    "\n",
    "# División\n",
    "div_result = arr_b / arr_a  # [4.0, 2.5, 2.0]"
   ]
  },
  {
   "cell_type": "markdown",
   "metadata": {},
   "source": [
    "**Funciones Universales (ufuncs):**\n",
    "\n",
    "NumPy proporciona funciones universales (ufuncs) que aplican operaciones matemáticas a todos los elementos de un array."
   ]
  },
  {
   "cell_type": "code",
   "execution_count": 6,
   "metadata": {},
   "outputs": [],
   "source": [
    "arr = np.array([1, 2, 3, 4])\n",
    "\n",
    "# Funciones ufuncs\n",
    "sqrt_arr = np.sqrt(arr)  # Raíz cuadrada\n",
    "exp_arr = np.exp(arr)  # Exponencial\n",
    "sin_arr = np.sin(arr)  # Seno\n",
    "cos_arr = np.cos(arr)  # Coseno"
   ]
  },
  {
   "cell_type": "markdown",
   "metadata": {},
   "source": [
    "**Indexación y Rebanado (Slicing):**\n",
    "\n",
    "Puedes acceder y manipular elementos específicos de un array utilizando indexación y rebanado."
   ]
  },
  {
   "cell_type": "code",
   "execution_count": 7,
   "metadata": {},
   "outputs": [],
   "source": [
    "arr = np.array([10, 20, 30, 40, 50])\n",
    "\n",
    "# Acceso a elementos individuales\n",
    "element = arr[2]  # 30\n",
    "\n",
    "# Rebanado (slicing)\n",
    "slice_arr = arr[1:4]  # [20, 30, 40]"
   ]
  },
  {
   "cell_type": "markdown",
   "metadata": {},
   "source": [
    "**Operaciones de Agregación:**\n",
    "\n",
    "NumPy permite realizar operaciones de agregación, como calcular la suma, promedio, mínimo y máximo de un array."
   ]
  },
  {
   "cell_type": "code",
   "execution_count": 8,
   "metadata": {},
   "outputs": [],
   "source": [
    "arr = np.array([10, 20, 30, 40, 50])\n",
    "\n",
    "# Suma\n",
    "sum_arr = np.sum(arr)  # 150\n",
    "\n",
    "# Promedio\n",
    "mean_arr = np.mean(arr)  # 30.0\n",
    "\n",
    "# Mínimo\n",
    "min_arr = np.min(arr)  # 10\n",
    "\n",
    "# Máximo\n",
    "max_arr = np.max(arr)  # 50"
   ]
  },
  {
   "cell_type": "markdown",
   "metadata": {},
   "source": [
    "Estos son solo algunos ejemplos de las operaciones y métodos básicos que puedes realizar con arrays en NumPy. La biblioteca proporciona muchas más funcionalidades avanzadas para trabajar con datos numéricos, lo que la convierte en una herramienta poderosa para el análisis y cálculo científico."
   ]
  },
  {
   "cell_type": "markdown",
   "metadata": {},
   "source": [
    "## **Ejemplo básico de Operaciones Vectoriales: Índice de Masa Corporal**"
   ]
  },
  {
   "cell_type": "markdown",
   "metadata": {},
   "source": [
    "Claro, aquí tienes un ejemplo básico de cómo realizar operaciones vectoriales para calcular el Índice de Masa Corporal (IMC) utilizando NumPy. El IMC es una medida comúnmente utilizada para evaluar si una persona tiene un peso saludable en relación con su altura.\n",
    "\n",
    "Supongamos que tenemos dos arrays de NumPy: uno que contiene las alturas en metros y otro que contiene los pesos en kilogramos de varias personas. Queremos calcular el IMC para cada persona utilizando operaciones vectoriales."
   ]
  },
  {
   "cell_type": "code",
   "execution_count": 9,
   "metadata": {},
   "outputs": [
    {
     "name": "stdout",
     "output_type": "stream",
     "text": [
      "Alturas: [1.65 1.75 1.8  1.6  1.7 ]\n",
      "Pesos: [60 70 85 50 65]\n",
      "IMC: [22.03856749 22.85714286 26.2345679  19.53125    22.49134948]\n"
     ]
    }
   ],
   "source": [
    "import numpy as np\n",
    "\n",
    "# Alturas en metros\n",
    "alturas = np.array([1.65, 1.75, 1.80, 1.60, 1.70])\n",
    "\n",
    "# Pesos en kilogramos\n",
    "pesos = np.array([60, 70, 85, 50, 65])\n",
    "\n",
    "# Calcular el IMC (peso / altura^2)\n",
    "imc = pesos / (alturas ** 2)\n",
    "\n",
    "print(\"Alturas:\", alturas)\n",
    "print(\"Pesos:\", pesos)\n",
    "print(\"IMC:\", imc)"
   ]
  },
  {
   "cell_type": "markdown",
   "metadata": {},
   "source": [
    "En este ejemplo, estamos utilizando operaciones vectoriales para calcular el IMC para cada persona en función de sus alturas y pesos. La operación `alturas ** 2` calcula el cuadrado de cada altura, y luego dividimos los pesos entre estos valores para obtener el IMC correspondiente. El resultado es un nuevo array `imc` que contiene los valores calculados del IMC para cada persona.\n",
    "\n",
    "Este es solo un ejemplo simple de cómo realizar operaciones vectoriales en NumPy para realizar cálculos más complejos. Las operaciones vectoriales permiten realizar cálculos eficientes en grandes conjuntos de datos y son una de las razones por las que NumPy es tan ampliamente utilizado en el análisis numérico y científico."
   ]
  },
  {
   "cell_type": "markdown",
   "metadata": {},
   "source": [
    "| **Inicio** | **atrás 7** | **Siguiente 9** |\n",
    "|----------- |-------------- |---------------|\n",
    "| [🏠](../../README.md) | [⏪](./7_Manejo_de_Datos_Faltantes.ipynb)| [⏩](./9_Arrays_de_Numpy.ipynb)|"
   ]
  }
 ],
 "metadata": {
  "kernelspec": {
   "display_name": "base",
   "language": "python",
   "name": "python3"
  },
  "language_info": {
   "codemirror_mode": {
    "name": "ipython",
    "version": 3
   },
   "file_extension": ".py",
   "mimetype": "text/x-python",
   "name": "python",
   "nbconvert_exporter": "python",
   "pygments_lexer": "ipython3",
   "version": "3.9.12"
  },
  "orig_nbformat": 4
 },
 "nbformat": 4,
 "nbformat_minor": 2
}
