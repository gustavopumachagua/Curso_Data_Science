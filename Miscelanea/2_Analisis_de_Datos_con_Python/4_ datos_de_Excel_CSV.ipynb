{
 "cells": [
  {
   "cell_type": "markdown",
   "metadata": {},
   "source": [
    "| **Inicio** | **atrás 3** | **Siguiente 5** |\n",
    "|----------- |-------------- |---------------|\n",
    "| [🏠](../../README.md) | [⏪](./3_DataFrames_de_Pandas.ipynb)| [⏩](./5_Filtra_Datos_en_DataFrames.ipynb)|"
   ]
  },
  {
   "cell_type": "markdown",
   "metadata": {},
   "source": [
    "# **4. Cargar datos de Excel y CSV a DataFrames de Pandas con Python**"
   ]
  },
  {
   "cell_type": "markdown",
   "metadata": {},
   "source": [
    "## **Introducción a cómo cargar archivos con Pandas.**"
   ]
  },
  {
   "cell_type": "markdown",
   "metadata": {},
   "source": [
    "Cargar archivos es uno de los pasos fundamentales en el análisis de datos con Pandas. Pandas proporciona diversas funciones para cargar diferentes tipos de archivos, como CSV, Excel, SQL, JSON, entre otros. A continuación, te mostraré cómo cargar un archivo CSV como ejemplo:\n",
    "\n",
    "**Cargar un Archivo CSV con Pandas:**\n",
    "\n",
    "Supongamos que tienes un archivo CSV llamado \"datos.csv\" con la siguiente estructura:\n",
    "\n",
    "```\n",
    "Nombre,Edad,Ciudad\n",
    "Ana,25,Madrid\n",
    "Carlos,30,Barcelona\n",
    "Elena,28,Valencia\n",
    "Diego,22,Sevilla\n",
    "```\n",
    "\n",
    "Para cargar este archivo en un DataFrame, puedes usar la función `pd.read_csv()`:"
   ]
  },
  {
   "cell_type": "code",
   "execution_count": 1,
   "metadata": {},
   "outputs": [
    {
     "name": "stdout",
     "output_type": "stream",
     "text": [
      "   Nombre  Edad     Ciudad\n",
      "0     Ana    25     Madrid\n",
      "1  Carlos    30  Barcelona\n",
      "2   Elena    28   Valencia\n",
      "3   Diego    22    Sevilla\n"
     ]
    }
   ],
   "source": [
    "import pandas as pd\n",
    "\n",
    "data = {\n",
    "    'Nombre': ['Ana', 'Carlos', 'Elena', 'Diego'],\n",
    "    'Edad': [25, 30, 28, 22],\n",
    "    'Ciudad': ['Madrid', 'Barcelona', 'Valencia', 'Sevilla']\n",
    "}\n",
    "\n",
    "df = pd.DataFrame(data)\n",
    "\n",
    "print(df)"
   ]
  },
  {
   "cell_type": "markdown",
   "metadata": {},
   "source": [
    "Este código leerá el archivo \"datos.csv\" y lo almacenará en un DataFrame llamado `df`. El resultado impreso mostrará el contenido del DataFrame.\n",
    "\n",
    "**Opciones Comunes al Cargar Archivos CSV:**\n",
    "\n",
    "- `sep` o `delimiter`: Define el delimitador utilizado en el archivo CSV (por defecto es `,`).\n",
    "- `header`: Indica la fila que contiene los nombres de las columnas (por defecto es `0`).\n",
    "- `index_col`: Especifica la columna que se usará como índice del DataFrame.\n",
    "- `usecols`: Lista de columnas que se deben cargar del archivo.\n",
    "- `dtype`: Especifica los tipos de datos de las columnas."
   ]
  },
  {
   "cell_type": "markdown",
   "metadata": {},
   "source": [
    "`df = pd.read_csv('datos.csv', delimiter=';', header=None, index_col=0, usecols=[0, 2], dtype={'Edad': int})`"
   ]
  },
  {
   "cell_type": "markdown",
   "metadata": {},
   "source": [
    "Recuerda que las opciones pueden variar dependiendo del tipo de archivo que estés cargando. Pandas proporciona funciones similares para cargar otros tipos de archivos como Excel, JSON y más. Al cargar archivos, es importante verificar las opciones disponibles en la documentación de Pandas para asegurarte de que los datos se carguen correctamente en el DataFrame."
   ]
  },
  {
   "cell_type": "markdown",
   "metadata": {},
   "source": [
    "## **Explicación del contexto de los datos y archivos a cargar.**"
   ]
  },
  {
   "cell_type": "markdown",
   "metadata": {},
   "source": [
    "Por supuesto, aquí tienes una explicación más detallada del contexto de los datos y los archivos a cargar:\n",
    "\n",
    "**Contexto de los Datos:**\n",
    "\n",
    "En este escenario hipotético, estamos trabajando con un conjunto de datos que contiene información sobre personas. Cada fila en el conjunto de datos representa a una persona individual y contiene detalles como su nombre, edad y ciudad de residencia. Estos datos pueden provenir de una variedad de fuentes, como encuestas, registros de usuarios, sistemas de gestión de clientes, entre otros. El objetivo es analizar y comprender mejor las características demográficas de estas personas.\n",
    "\n",
    "**Archivos a Cargar:**\n",
    "\n",
    "En este contexto, vamos a cargar un archivo en formato CSV (Comma-Separated Values), que es un formato de archivo ampliamente utilizado para almacenar datos tabulares. Cada línea del archivo contiene información para una persona y los valores están separados por comas (u otro delimitador especificado). Este tipo de archivo es fácilmente legible tanto por humanos como por máquinas, lo que lo hace adecuado para almacenar y compartir datos tabulares.\n",
    "\n",
    "**Estructura del Archivo CSV:**\n",
    "\n",
    "El archivo CSV que vamos a cargar tiene la siguiente estructura:\n",
    "\n",
    "```\n",
    "Nombre,Edad,Ciudad\n",
    "Ana,25,Madrid\n",
    "Carlos,30,Barcelona\n",
    "Elena,28,Valencia\n",
    "Diego,22,Sevilla\n",
    "```\n",
    "\n",
    "- La primera línea del archivo contiene encabezados de columna: 'Nombre', 'Edad' y 'Ciudad'.\n",
    "- Las siguientes líneas contienen los datos reales para cada persona, con cada columna separada por comas.\n",
    "\n",
    "**Objetivo de Cargar los Datos:**\n",
    "\n",
    "El objetivo principal de cargar estos datos en un DataFrame utilizando Pandas es permitirnos realizar análisis y manipulación de datos de manera eficiente. Una vez que los datos están en un DataFrame, podemos llevar a cabo diversas tareas:\n",
    "\n",
    "- Calcular estadísticas descriptivas, como la edad promedio de las personas.\n",
    "- Filtrar y seleccionar subconjuntos de datos basados en ciertos criterios.\n",
    "- Realizar agrupaciones para entender mejor las distribuciones en las ciudades.\n",
    "- Crear visualizaciones para presentar los resultados de manera comprensible.\n",
    "\n",
    "En resumen, estamos cargando un archivo CSV que contiene datos sobre personas en un DataFrame de Pandas. El objetivo es analizar y obtener información valiosa de estos datos para tomar decisiones informadas o realizar investigaciones más profundas."
   ]
  },
  {
   "cell_type": "markdown",
   "metadata": {},
   "source": [
    "## **Ejemplos de cómo cargar archivos CSV.**"
   ]
  },
  {
   "cell_type": "markdown",
   "metadata": {},
   "source": [
    "**Ejemplo 1: Cargar Archivo CSV con Encabezados:**\n",
    "\n",
    "Supongamos que tenemos un archivo CSV llamado \"data.csv\" con los siguientes datos:\n",
    "\n",
    "```\n",
    "Nombre,Edad,Ciudad\n",
    "Ana,25,Madrid\n",
    "Carlos,30,Barcelona\n",
    "Elena,28,Valencia\n",
    "Diego,22,Sevilla\n",
    "```"
   ]
  },
  {
   "cell_type": "code",
   "execution_count": null,
   "metadata": {},
   "outputs": [],
   "source": [
    "import pandas as pd\n",
    "\n",
    "# Cargar el archivo CSV con encabezados\n",
    "df = pd.read_csv('data.csv')\n",
    "\n",
    "print(df)"
   ]
  },
  {
   "cell_type": "markdown",
   "metadata": {},
   "source": [
    "**Ejemplo 2: Cargar Archivo CSV sin Encabezados:**\n",
    "\n",
    "Supongamos que tenemos un archivo CSV llamado \"data_sin_encabezados.csv\" con los mismos datos, pero sin encabezados:\n",
    "\n",
    "```\n",
    "Ana,25,Madrid\n",
    "Carlos,30,Barcelona\n",
    "Elena,28,Valencia\n",
    "Diego,22,Sevilla\n",
    "```"
   ]
  },
  {
   "cell_type": "code",
   "execution_count": null,
   "metadata": {},
   "outputs": [],
   "source": [
    "import pandas as pd\n",
    "\n",
    "# Cargar el archivo CSV sin encabezados y proporcionar nombres de columnas\n",
    "columnas = ['Nombre', 'Edad', 'Ciudad']\n",
    "df = pd.read_csv('data_sin_encabezados.csv', names=columnas)\n",
    "\n",
    "print(df)"
   ]
  },
  {
   "cell_type": "markdown",
   "metadata": {},
   "source": [
    "**Ejemplo 3: Especificar Delimitador Personalizado:**\n",
    "\n",
    "Supongamos que tenemos un archivo CSV llamado \"data_delimiter.csv\" donde el delimitador es un punto y coma en lugar de una coma:\n",
    "\n",
    "```\n",
    "Nombre;Edad;Ciudad\n",
    "Ana;25;Madrid\n",
    "Carlos;30;Barcelona\n",
    "Elena;28;Valencia\n",
    "Diego;22;Sevilla\n",
    "```"
   ]
  },
  {
   "cell_type": "code",
   "execution_count": null,
   "metadata": {},
   "outputs": [],
   "source": [
    "import pandas as pd\n",
    "\n",
    "# Cargar el archivo CSV con un delimitador personalizado\n",
    "df = pd.read_csv('data_delimiter.csv', delimiter=';')\n",
    "\n",
    "print(df)"
   ]
  },
  {
   "cell_type": "markdown",
   "metadata": {},
   "source": [
    "**Ejemplo 4: Especificar Índice Personalizado:**\n",
    "\n",
    "Supongamos que tenemos un archivo CSV llamado \"data_con_indice.csv\" y queremos usar la columna 'Nombre' como índice:\n",
    "\n",
    "```\n",
    "Nombre,Edad,Ciudad\n",
    "Ana,25,Madrid\n",
    "Carlos,30,Barcelona\n",
    "Elena,28,Valencia\n",
    "Diego,22,Sevilla\n",
    "```"
   ]
  },
  {
   "cell_type": "code",
   "execution_count": null,
   "metadata": {},
   "outputs": [],
   "source": [
    "import pandas as pd\n",
    "\n",
    "# Cargar el archivo CSV con el índice personalizado\n",
    "df = pd.read_csv('data_con_indice.csv', index_col='Nombre')\n",
    "\n",
    "print(df)"
   ]
  },
  {
   "cell_type": "markdown",
   "metadata": {},
   "source": [
    "Estos son solo algunos ejemplos de cómo cargar archivos CSV utilizando Pandas. Las opciones y parámetros pueden variar dependiendo de tus necesidades específicas y la estructura de tus datos."
   ]
  },
  {
   "cell_type": "markdown",
   "metadata": {},
   "source": [
    "## **Ejemplo de cómo cargar archivos de Excel.**"
   ]
  },
  {
   "cell_type": "markdown",
   "metadata": {},
   "source": [
    "**Ejemplo: Cargar Archivo de Excel:**\n",
    "\n",
    "Supongamos que tenemos un archivo de Excel llamado \"data.xlsx\" con los siguientes datos en una hoja llamada \"Hoja1\":\n",
    "\n",
    "```\n",
    "|   | Nombre  | Edad | Ciudad    |\n",
    "|---|---------|------|-----------|\n",
    "| 0 | Ana     | 25   | Madrid    |\n",
    "| 1 | Carlos  | 30   | Barcelona |\n",
    "| 2 | Elena   | 28   | Valencia  |\n",
    "| 3 | Diego   | 22   | Sevilla   |\n",
    "```"
   ]
  },
  {
   "cell_type": "code",
   "execution_count": null,
   "metadata": {},
   "outputs": [],
   "source": [
    "import pandas as pd\n",
    "\n",
    "# Cargar el archivo de Excel\n",
    "df = pd.read_excel('data.xlsx', sheet_name='Hoja1')\n",
    "\n",
    "print(df)"
   ]
  },
  {
   "cell_type": "markdown",
   "metadata": {},
   "source": [
    "En este ejemplo, utilizamos la función `pd.read_excel()` para cargar el archivo de Excel \"data.xlsx\". Especificamos el nombre de la hoja \"Hoja1\" desde la cual queremos cargar los datos. Pandas crea un DataFrame a partir de los datos en la hoja especificada.\n",
    "\n",
    "Recuerda que puedes adaptar los nombres de archivo y hoja de acuerdo a tus propios archivos de Excel y necesidades. Además, Pandas proporciona varias opciones para ajustar cómo se cargan los datos de Excel, como seleccionar rangos de celdas específicos, manejar encabezados, etc. Puedes consultar la documentación de Pandas para obtener más detalles sobre estas opciones."
   ]
  },
  {
   "cell_type": "markdown",
   "metadata": {},
   "source": [
    "| **Inicio** | **atrás 3** | **Siguiente 5** |\n",
    "|----------- |-------------- |---------------|\n",
    "| [🏠](../../README.md) | [⏪](./3_DataFrames_de_Pandas.ipynb)| [⏩](./5_Filtra_Datos_en_DataFrames.ipynb)|"
   ]
  }
 ],
 "metadata": {
  "kernelspec": {
   "display_name": "base",
   "language": "python",
   "name": "python3"
  },
  "language_info": {
   "codemirror_mode": {
    "name": "ipython",
    "version": 3
   },
   "file_extension": ".py",
   "mimetype": "text/x-python",
   "name": "python",
   "nbconvert_exporter": "python",
   "pygments_lexer": "ipython3",
   "version": "3.9.12"
  },
  "orig_nbformat": 4
 },
 "nbformat": 4,
 "nbformat_minor": 2
}
