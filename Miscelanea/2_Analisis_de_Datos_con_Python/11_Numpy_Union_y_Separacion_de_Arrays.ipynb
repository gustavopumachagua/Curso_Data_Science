{
 "cells": [
  {
   "cell_type": "markdown",
   "metadata": {},
   "source": [
    "| **Inicio** | **atrás 10** | **Siguiente 12** |\n",
    "|----------- |-------------- |---------------|\n",
    "| [🏠](../../README.md) | [⏪](./10_arreglos_en_numpy.ipynb)| [⏩](./12_Funciones_Universales.ipynb)|"
   ]
  },
  {
   "cell_type": "markdown",
   "metadata": {},
   "source": [
    "# **11. Numpy: Unión y Separación de Arrays (arreglos) para Procesar Datos con Python**"
   ]
  },
  {
   "cell_type": "markdown",
   "metadata": {},
   "source": [
    "## **Introducción a la Unión y Separación de Arrays**"
   ]
  },
  {
   "cell_type": "markdown",
   "metadata": {},
   "source": [
    "Con gusto te proporcionaré una explicación detallada sobre cómo unir y separar arrays en NumPy, junto con ejemplos para ilustrar cada uno de estos conceptos.\n",
    "\n",
    "**Unión de Arrays en NumPy:**\n",
    "\n",
    "Unir arrays en NumPy se refiere a combinar dos o más arrays en uno solo. Existen varias formas de realizar la unión, dependiendo de si estamos trabajando con arrays unidimensionales o multidimensionales.\n",
    "\n",
    "**Unión de Arrays Unidimensionales:**\n",
    "\n",
    "Para unir arrays unidimensionales, podemos usar la función `np.concatenate`, que toma una secuencia de arrays como argumento y los concatena a lo largo de un eje especificado (por defecto, es el primer eje)."
   ]
  },
  {
   "cell_type": "code",
   "execution_count": 1,
   "metadata": {},
   "outputs": [
    {
     "name": "stdout",
     "output_type": "stream",
     "text": [
      "Unión de arrays: [1 2 3 4 5 6]\n"
     ]
    }
   ],
   "source": [
    "import numpy as np\n",
    "\n",
    "arr1 = np.array([1, 2, 3])\n",
    "arr2 = np.array([4, 5, 6])\n",
    "\n",
    "# Unir arrays unidimensionales\n",
    "resultado = np.concatenate((arr1, arr2))\n",
    "print(\"Unión de arrays:\", resultado)  # Output: [1 2 3 4 5 6]"
   ]
  },
  {
   "cell_type": "markdown",
   "metadata": {},
   "source": [
    "**Unión de Arrays Multidimensionales:**\n",
    "\n",
    "Para unir arrays multidimensionales, nuevamente usamos `np.concatenate`, pero esta vez especificamos el eje a lo largo del cual queremos unir los arrays."
   ]
  },
  {
   "cell_type": "code",
   "execution_count": 2,
   "metadata": {},
   "outputs": [
    {
     "name": "stdout",
     "output_type": "stream",
     "text": [
      "Unión de matrices:\n",
      " [[1 2]\n",
      " [3 4]\n",
      " [5 6]]\n"
     ]
    }
   ],
   "source": [
    "matriz1 = np.array([[1, 2],\n",
    "                    [3, 4]])\n",
    "matriz2 = np.array([[5, 6]])\n",
    "\n",
    "# Unir matrices a lo largo del primer eje (filas)\n",
    "resultado_matriz = np.concatenate((matriz1, matriz2))\n",
    "print(\"Unión de matrices:\\n\", resultado_matriz)\n",
    "# Output:\n",
    "# [[1 2]\n",
    "#  [3 4]\n",
    "#  [5 6]]"
   ]
  },
  {
   "cell_type": "markdown",
   "metadata": {},
   "source": [
    "**Separación de Arrays en NumPy:**\n",
    "\n",
    "La separación de arrays se refiere a dividir un array en varios arrays más pequeños. NumPy proporciona la función `np.split` para lograr esto. Esta función acepta el array que deseas dividir y una lista de índices o secciones donde deseas realizar las divisiones.\n",
    "\n",
    "**Separación de Arrays Unidimensionales:**"
   ]
  },
  {
   "cell_type": "code",
   "execution_count": 3,
   "metadata": {},
   "outputs": [
    {
     "name": "stdout",
     "output_type": "stream",
     "text": [
      "Partes separadas: [array([1, 2, 3]), array([4, 5, 6]), array([7, 8, 9])]\n"
     ]
    }
   ],
   "source": [
    "arr = np.array([1, 2, 3, 4, 5, 6, 7, 8, 9])\n",
    "\n",
    "# Separar array en tres partes\n",
    "partes = np.split(arr, 3)\n",
    "print(\"Partes separadas:\", partes)  # Output: [array([1, 2, 3]), array([4, 5, 6]), array([7, 8, 9])]"
   ]
  },
  {
   "cell_type": "markdown",
   "metadata": {},
   "source": [
    "**Separación de Arrays Multidimensionales:**"
   ]
  },
  {
   "cell_type": "code",
   "execution_count": 4,
   "metadata": {},
   "outputs": [
    {
     "name": "stdout",
     "output_type": "stream",
     "text": [
      "Partes separadas:\n",
      " [array([[1, 2, 3]]), array([[4, 5, 6]]), array([[7, 8, 9]])]\n"
     ]
    }
   ],
   "source": [
    "matriz = np.array([[1, 2, 3],\n",
    "                   [4, 5, 6],\n",
    "                   [7, 8, 9]])\n",
    "\n",
    "# Separar matriz en tres partes a lo largo del primer eje (filas)\n",
    "partes_matriz = np.split(matriz, 3)\n",
    "print(\"Partes separadas:\\n\", partes_matriz)\n",
    "# Output:\n",
    "# [array([[1, 2, 3]]), array([[4, 5, 6]]), array([[7, 8, 9]])]"
   ]
  },
  {
   "cell_type": "markdown",
   "metadata": {},
   "source": [
    "En resumen, unir y separar arrays en NumPy te permite manipular y organizar datos de manera efectiva. Puedes utilizar estas operaciones para combinar o dividir arrays según tus necesidades de análisis de datos."
   ]
  },
  {
   "cell_type": "markdown",
   "metadata": {},
   "source": [
    "## **Apilar arrays con Stack**"
   ]
  },
  {
   "cell_type": "markdown",
   "metadata": {},
   "source": [
    "Apilar arrays con la función `np.stack` en NumPy te permite combinar varios arrays en un solo array multidimensional a lo largo de un nuevo eje. Esta función es útil cuando necesitas combinar múltiples conjuntos de datos en un formato más amplio y estructurado. Aquí tienes una explicación detallada junto con ejemplos para comprender cómo funciona el apilamiento de arrays con `np.stack`.\n",
    "\n",
    "**Función `np.stack` para Apilar Arrays:**\n",
    "\n",
    "La función `np.stack` toma una secuencia de arrays y un argumento `axis` que especifica el nuevo eje a lo largo del cual se apilarán los arrays. Esta función crea un nuevo array multidimensional al apilar los arrays a lo largo del eje especificado.\n",
    "\n",
    "**Ejemplo de Apilamiento de Arrays:**\n",
    "\n",
    "Supongamos que tienes dos arrays unidimensionales y quieres apilarlos a lo largo de un nuevo eje para crear un array bidimensional."
   ]
  },
  {
   "cell_type": "code",
   "execution_count": 5,
   "metadata": {},
   "outputs": [
    {
     "name": "stdout",
     "output_type": "stream",
     "text": [
      "Arrays apilados:\n",
      " [[1 2 3]\n",
      " [4 5 6]]\n"
     ]
    }
   ],
   "source": [
    "import numpy as np\n",
    "\n",
    "arr1 = np.array([1, 2, 3])\n",
    "arr2 = np.array([4, 5, 6])\n",
    "\n",
    "# Apilar arrays unidimensionales a lo largo de un nuevo eje (eje 0)\n",
    "apilado = np.stack((arr1, arr2), axis=0)\n",
    "print(\"Arrays apilados:\\n\", apilado)\n",
    "# Output:\n",
    "# [[1 2 3]\n",
    "#  [4 5 6]]"
   ]
  },
  {
   "cell_type": "markdown",
   "metadata": {},
   "source": [
    "En este ejemplo, hemos creado dos arrays unidimensionales `arr1` y `arr2`. Luego, utilizamos la función `np.stack` para apilar estos arrays a lo largo del nuevo eje 0 (filas) para obtener un array bidimensional.\n",
    "\n",
    "**Ejemplo de Apilamiento de Arrays Multidimensionales:**\n",
    "\n",
    "Supongamos que tienes dos matrices y deseas apilarlas a lo largo de un nuevo eje."
   ]
  },
  {
   "cell_type": "code",
   "execution_count": 6,
   "metadata": {},
   "outputs": [
    {
     "name": "stdout",
     "output_type": "stream",
     "text": [
      "Matrices apiladas:\n",
      " [[[1 2]\n",
      "  [3 4]]\n",
      "\n",
      " [[5 6]\n",
      "  [7 8]]]\n"
     ]
    }
   ],
   "source": [
    "matriz1 = np.array([[1, 2],\n",
    "                    [3, 4]])\n",
    "matriz2 = np.array([[5, 6],\n",
    "                    [7, 8]])\n",
    "\n",
    "# Apilar matrices a lo largo de un nuevo eje (eje 0)\n",
    "apilado_matrices = np.stack((matriz1, matriz2), axis=0)\n",
    "print(\"Matrices apiladas:\\n\", apilado_matrices)\n",
    "# Output:\n",
    "# [[[1 2]\n",
    "#   [3 4]]\n",
    "#\n",
    "#  [[5 6]\n",
    "#   [7 8]]]"
   ]
  },
  {
   "cell_type": "markdown",
   "metadata": {},
   "source": [
    "En este caso, hemos apilado las matrices `matriz1` y `matriz2` a lo largo del nuevo eje 0 (filas), creando un nuevo array tridimensional.\n",
    "\n",
    "En resumen, la función `np.stack` en NumPy te permite combinar arrays en un solo array multidimensional a lo largo de un nuevo eje especificado. Esto es útil para organizar conjuntos de datos relacionados en una estructura más grande y manejable."
   ]
  },
  {
   "cell_type": "markdown",
   "metadata": {},
   "source": [
    "## **Separar arrays con Split**"
   ]
  },
  {
   "cell_type": "markdown",
   "metadata": {},
   "source": [
    "Por supuesto, con gusto te proporcionaré una explicación detallada sobre cómo separar arrays con la función `np.split` en NumPy, junto con ejemplos para ilustrar su funcionamiento.\n",
    "\n",
    "**Función `np.split` para Separar Arrays:**\n",
    "\n",
    "La función `np.split` en NumPy se utiliza para dividir un array en múltiples subarrays a lo largo de un eje específico. Puedes proporcionar una lista de índices o secciones donde deseas realizar las divisiones.\n",
    "\n",
    "**Ejemplo de Separación de Arrays Unidimensionales:**\n",
    "\n",
    "Supongamos que tienes un array unidimensional y deseas dividirlo en tres partes."
   ]
  },
  {
   "cell_type": "code",
   "execution_count": 14,
   "metadata": {},
   "outputs": [
    {
     "name": "stdout",
     "output_type": "stream",
     "text": [
      "Partes separadas: [array([1, 2, 3]), array([4, 5, 6]), array([7, 8, 9])]\n"
     ]
    }
   ],
   "source": [
    "import numpy as np\n",
    "\n",
    "arr = np.array([1, 2, 3, 4, 5, 6, 7, 8, 9])\n",
    "\n",
    "# Separar array en tres partes\n",
    "partes = np.split(arr, 3)\n",
    "print(\"Partes separadas:\", partes)\n",
    "# Output: [array([1, 2, 3]), array([4, 5, 6]), array([7, 8, 9])]"
   ]
  },
  {
   "cell_type": "markdown",
   "metadata": {},
   "source": [
    "En este ejemplo, hemos utilizado la función `np.split` para dividir el array `arr` en tres partes de igual tamaño.\n",
    "\n",
    "**Ejemplo de Separación de Arrays Multidimensionales:**\n",
    "\n",
    "Supongamos que tienes una matriz y deseas separarla en dos submatrices a lo largo del primer eje (filas)."
   ]
  },
  {
   "cell_type": "code",
   "execution_count": 12,
   "metadata": {},
   "outputs": [
    {
     "name": "stdout",
     "output_type": "stream",
     "text": [
      "Partes separadas:\n",
      " [array([[1, 2, 3],\n",
      "       [4, 5, 6]]), array([[7, 8, 9]])]\n"
     ]
    }
   ],
   "source": [
    "import numpy as np\n",
    "\n",
    "matriz = np.array([[1, 2, 3],\n",
    "                   [4, 5, 6],\n",
    "                   [7, 8, 9]])\n",
    "\n",
    "# Dividir matriz en dos partes a lo largo del primer eje (filas)\n",
    "partes_matriz = np.array_split(matriz, 2, axis=0)\n",
    "print(\"Partes separadas:\\n\", partes_matriz)\n"
   ]
  },
  {
   "cell_type": "markdown",
   "metadata": {},
   "source": [
    "En este ejemplo, hemos utilizado la función `np.split` para separar la matriz `matriz` en dos submatrices a lo largo del primer eje (filas).\n",
    "\n",
    "**Ejemplo de Separación de Arrays con Índices Específicos:**\n",
    "\n",
    "Puedes proporcionar una lista de índices en los cuales deseas realizar las divisiones utilizando el argumento `indices_or_sections`."
   ]
  },
  {
   "cell_type": "code",
   "execution_count": 15,
   "metadata": {},
   "outputs": [
    {
     "name": "stdout",
     "output_type": "stream",
     "text": [
      "Partes separadas por índices: [array([1, 2]), array([3, 4, 5]), array([6, 7, 8, 9])]\n"
     ]
    }
   ],
   "source": [
    "arr = np.array([1, 2, 3, 4, 5, 6, 7, 8, 9])\n",
    "\n",
    "# Separar array en índices 2 y 5\n",
    "partes_indices = np.split(arr, [2, 5])\n",
    "print(\"Partes separadas por índices:\", partes_indices)\n",
    "# Output: [array([1, 2]), array([3, 4, 5]), array([6, 7, 8, 9])]"
   ]
  },
  {
   "cell_type": "markdown",
   "metadata": {},
   "source": [
    "En este ejemplo, hemos utilizado la función `np.split` para dividir el array `arr` en tres partes en los índices 2 y 5.\n",
    "\n",
    "En resumen, la función `np.split` en NumPy te permite dividir arrays en subarrays según los índices o secciones que especifiques. Esta función es útil para segmentar y organizar datos en conjuntos más manejables."
   ]
  },
  {
   "cell_type": "markdown",
   "metadata": {},
   "source": [
    "| **Inicio** | **atrás 10** | **Siguiente 12** |\n",
    "|----------- |-------------- |---------------|\n",
    "| [🏠](../../README.md) | [⏪](./10_arreglos_en_numpy.ipynb)| [⏩](./12_Funciones_Universales.ipynb)|"
   ]
  }
 ],
 "metadata": {
  "kernelspec": {
   "display_name": "base",
   "language": "python",
   "name": "python3"
  },
  "language_info": {
   "codemirror_mode": {
    "name": "ipython",
    "version": 3
   },
   "file_extension": ".py",
   "mimetype": "text/x-python",
   "name": "python",
   "nbconvert_exporter": "python",
   "pygments_lexer": "ipython3",
   "version": "3.9.12"
  },
  "orig_nbformat": 4
 },
 "nbformat": 4,
 "nbformat_minor": 2
}
