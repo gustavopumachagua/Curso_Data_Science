{
 "cells": [
  {
   "cell_type": "markdown",
   "metadata": {},
   "source": [
    "| **Inicio** | **atrás 11** | **Siguiente 13** |\n",
    "|----------- |-------------- |---------------|\n",
    "| [🏠](../../README.md) | [⏪](./11_Numpy_Union_y_Separacion_de_Arrays.ipynb)| [⏩](./13_Escalamiento_Normalizacion_y_Estandarizacion.ipynb)|"
   ]
  },
  {
   "cell_type": "markdown",
   "metadata": {},
   "source": [
    "# **12. Acelera el procesamiento de datos con Funciones Universales (UFuncs) de Numpy en Python**"
   ]
  },
  {
   "cell_type": "markdown",
   "metadata": {},
   "source": [
    "## **Introducción a las funciones universales.**"
   ]
  },
  {
   "cell_type": "markdown",
   "metadata": {},
   "source": [
    "¡Por supuesto! Estaré encantado de explicarte las funciones universales (ufuncs) en NumPy de manera detallada, junto con ejemplos para ilustrar su funcionamiento.\n",
    "\n",
    "**Funciones Universales (ufuncs) en NumPy:**\n",
    "\n",
    "Las funciones universales (ufuncs) en NumPy son operaciones matemáticas y funciones que se aplican a elementos de arrays de manera eficiente, elemento por elemento. Estas funciones son extremadamente útiles porque permiten realizar operaciones en arrays completos sin la necesidad de bucles explícitos, lo que mejora significativamente la velocidad y eficiencia del cálculo en comparación con métodos tradicionales.\n",
    "\n",
    "**Ejemplos de Funciones Universales en NumPy:**\n",
    "\n",
    "NumPy proporciona una amplia gama de funciones universales para realizar operaciones matemáticas y estadísticas en arrays. Algunos ejemplos comunes incluyen funciones para operaciones aritméticas, trigonométricas, exponenciales, logarítmicas y más."
   ]
  },
  {
   "cell_type": "code",
   "execution_count": 1,
   "metadata": {},
   "outputs": [
    {
     "name": "stdout",
     "output_type": "stream",
     "text": [
      "Suma: [11 12 13 14 15]\n",
      "Resta: [-1  0  1  2  3]\n",
      "Producto: [ 3  6  9 12 15]\n",
      "División: [0.5 1.  1.5 2.  2.5]\n",
      "Seno: [ 0.84147098  0.90929743  0.14112001 -0.7568025  -0.95892427]\n",
      "Coseno: [ 0.54030231 -0.41614684 -0.9899925  -0.65364362  0.28366219]\n",
      "Exponencial: [  2.71828183   7.3890561   20.08553692  54.59815003 148.4131591 ]\n",
      "Logaritmo: [0.         0.69314718 1.09861229 1.38629436 1.60943791]\n"
     ]
    }
   ],
   "source": [
    "import numpy as np\n",
    "\n",
    "# Crear un array de ejemplo\n",
    "arr = np.array([1, 2, 3, 4, 5])\n",
    "\n",
    "# Funciones aritméticas\n",
    "suma = np.add(arr, 10)  # Sumar 10 a cada elemento\n",
    "resta = np.subtract(arr, 2)  # Restar 2 a cada elemento\n",
    "producto = np.multiply(arr, 3)  # Multiplicar cada elemento por 3\n",
    "division = np.divide(arr, 2)  # Dividir cada elemento por 2\n",
    "\n",
    "# Funciones trigonométricas\n",
    "seno = np.sin(arr)  # Calcular el seno de cada elemento\n",
    "coseno = np.cos(arr)  # Calcular el coseno de cada elemento\n",
    "\n",
    "# Funciones exponenciales y logarítmicas\n",
    "exponencial = np.exp(arr)  # Calcular la exponencial de cada elemento\n",
    "logaritmo = np.log(arr)  # Calcular el logaritmo natural de cada elemento\n",
    "\n",
    "print(\"Suma:\", suma)\n",
    "print(\"Resta:\", resta)\n",
    "print(\"Producto:\", producto)\n",
    "print(\"División:\", division)\n",
    "print(\"Seno:\", seno)\n",
    "print(\"Coseno:\", coseno)\n",
    "print(\"Exponencial:\", exponencial)\n",
    "print(\"Logaritmo:\", logaritmo)"
   ]
  },
  {
   "cell_type": "markdown",
   "metadata": {},
   "source": [
    "En este ejemplo, estamos utilizando diversas funciones universales de NumPy para realizar operaciones en el array `arr`. Cada función se aplica elemento por elemento, lo que resulta en un nuevo array con los resultados de las operaciones.\n",
    "\n",
    "Las funciones universales en NumPy son una parte esencial del procesamiento eficiente de datos y cálculos numéricos. Te permiten realizar operaciones complejas en arrays sin necesidad de escribir bucles explícitos, lo que mejora significativamente el rendimiento y la legibilidad del código."
   ]
  },
  {
   "cell_type": "markdown",
   "metadata": {},
   "source": [
    "## **Funciones universales básicas: add, subtract, divide, multiple, power y absolute**"
   ]
  },
  {
   "cell_type": "markdown",
   "metadata": {},
   "source": [
    "¡Por supuesto! Te proporcionaré una explicación detallada de las funciones universales básicas en NumPy: `add`, `subtract`, `divide`, `multiply`, `power` y `absolute`. Además, te mostraré ejemplos para ilustrar cómo funcionan cada una de estas funciones.\n",
    "\n",
    "**Funciones Universales Básicas en NumPy:**\n",
    "\n",
    "Las funciones universales básicas en NumPy son operaciones matemáticas que se aplican elemento por elemento a los arrays de manera eficiente. Estas funciones permiten realizar cálculos rápidos en arrays completos sin la necesidad de bucles explícitos. Aquí están las funciones que mencionaste:\n",
    "\n",
    "1. **`add` (Suma):**\n",
    "\n",
    "   Esta función realiza la suma elemento por elemento entre dos arrays.\n",
    "\n",
    "2. **`subtract` (Resta):**\n",
    "\n",
    "   Realiza la resta elemento por elemento entre dos arrays.\n",
    "\n",
    "3. **`divide` (División):**\n",
    "\n",
    "   Realiza la división elemento por elemento entre dos arrays.\n",
    "\n",
    "4. **`multiply` (Multiplicación):**\n",
    "\n",
    "   Realiza la multiplicación elemento por elemento entre dos arrays.\n",
    "\n",
    "5. **`power` (Potencia):**\n",
    "\n",
    "   Calcula la potencia de cada elemento en el primer array elevado a la potencia correspondiente en el segundo array.\n",
    "\n",
    "6. **`absolute` (Valor absoluto):**\n",
    "\n",
    "   Calcula el valor absoluto de cada elemento en el array.\n",
    "\n",
    "**Ejemplos de Funciones Universales Básicas en NumPy:**"
   ]
  },
  {
   "cell_type": "code",
   "execution_count": 2,
   "metadata": {},
   "outputs": [
    {
     "name": "stdout",
     "output_type": "stream",
     "text": [
      "Suma: [ 3  5  7  9 11]\n",
      "Resta: [-1 -1 -1 -1 -1]\n",
      "División: [0.5        0.66666667 0.75       0.8        0.83333333]\n",
      "Multiplicación: [ 2  6 12 20 30]\n",
      "Potencia: [    1     8    81  1024 15625]\n",
      "Valor absoluto: [1 2 3 4 5]\n"
     ]
    }
   ],
   "source": [
    "import numpy as np\n",
    "\n",
    "# Crear arrays de ejemplo\n",
    "arr1 = np.array([1, 2, 3, 4, 5])\n",
    "arr2 = np.array([2, 3, 4, 5, 6])\n",
    "\n",
    "# Función add (suma)\n",
    "suma_resultado = np.add(arr1, arr2)\n",
    "print(\"Suma:\", suma_resultado)\n",
    "\n",
    "# Función subtract (resta)\n",
    "resta_resultado = np.subtract(arr1, arr2)\n",
    "print(\"Resta:\", resta_resultado)\n",
    "\n",
    "# Función divide (división)\n",
    "division_resultado = np.divide(arr1, arr2)\n",
    "print(\"División:\", division_resultado)\n",
    "\n",
    "# Función multiply (multiplicación)\n",
    "multiplicacion_resultado = np.multiply(arr1, arr2)\n",
    "print(\"Multiplicación:\", multiplicacion_resultado)\n",
    "\n",
    "# Función power (potencia)\n",
    "potencia_resultado = np.power(arr1, arr2)\n",
    "print(\"Potencia:\", potencia_resultado)\n",
    "\n",
    "# Función absolute (valor absoluto)\n",
    "abs_resultado = np.absolute([-1, -2, 3, -4, 5])\n",
    "print(\"Valor absoluto:\", abs_resultado)"
   ]
  },
  {
   "cell_type": "markdown",
   "metadata": {},
   "source": [
    "En este ejemplo, hemos utilizado cada una de las funciones universales básicas en NumPy con arrays de ejemplo. Cada función realiza la operación correspondiente elemento por elemento y devuelve un nuevo array con los resultados.\n",
    "\n",
    "Estas funciones universales básicas son útiles para realizar operaciones matemáticas y cálculos numéricos de manera eficiente en arrays. Te permiten realizar cálculos numéricos complejos sin la necesidad de bucles explícitos, lo que mejora el rendimiento y la legibilidad del código."
   ]
  },
  {
   "cell_type": "markdown",
   "metadata": {},
   "source": [
    "## **Ejemplo de función universal para el cálculo del índice de la masa corporal**"
   ]
  },
  {
   "cell_type": "markdown",
   "metadata": {},
   "source": [
    "Por supuesto, aquí tienes un ejemplo detallado de cómo usar funciones universales en NumPy para calcular el Índice de Masa Corporal (IMC). El IMC es una medida que relaciona el peso y la altura de una persona para estimar si su peso es saludable o no. La fórmula para calcular el IMC es:\n",
    "\n",
    "$\\text{IMC} = \\frac{\\text{Peso (kg)}}{\\text{Altura (m)}^2}$\n",
    "\n",
    "**Ejemplo de Cálculo del IMC con Funciones Universales en NumPy:**"
   ]
  },
  {
   "cell_type": "code",
   "execution_count": 3,
   "metadata": {},
   "outputs": [
    {
     "name": "stdout",
     "output_type": "stream",
     "text": [
      "Peso: [65 70 80 60 75]\n",
      "Altura: [1.75 1.8  1.7  1.65 1.7 ]\n",
      "IMC: [21.2244898  21.60493827 27.6816609  22.03856749 25.95155709]\n"
     ]
    }
   ],
   "source": [
    "import numpy as np\n",
    "\n",
    "# Crear arrays de ejemplo para peso (en kg) y altura (en m)\n",
    "peso = np.array([65, 70, 80, 60, 75])\n",
    "altura = np.array([1.75, 1.80, 1.70, 1.65, 1.70])\n",
    "\n",
    "# Calcular el IMC usando la función universal divide y power\n",
    "imc = np.divide(peso, np.power(altura, 2))\n",
    "\n",
    "print(\"Peso:\", peso)\n",
    "print(\"Altura:\", altura)\n",
    "print(\"IMC:\", imc)"
   ]
  },
  {
   "cell_type": "markdown",
   "metadata": {},
   "source": [
    "**Explicación:**\n",
    "\n",
    "1. Importamos la librería NumPy como `np`.\n",
    "2. Creamos dos arrays de ejemplo: `peso` y `altura`, que representan el peso en kilogramos y la altura en metros, respectivamente, de cinco personas.\n",
    "3. Usamos la función `np.power(altura, 2)` para elevar cada elemento del array `altura` al cuadrado (calculando la altura al cuadrado).\n",
    "4. Luego, usamos la función `np.divide(peso, altura_al_cuadrado)` para dividir cada elemento del array `peso` entre el valor correspondiente del array `altura_al_cuadrado`, lo que calcula el IMC para cada persona.\n",
    "5. Finalmente, imprimimos los arrays `peso`, `altura` e `imc` para mostrar los resultados.\n",
    "\n",
    "El resultado será un array `imc` que contiene los valores del IMC calculados para cada persona en el ejemplo.\n",
    "\n",
    "Este ejemplo demuestra cómo utilizar las funciones universales `np.divide` (división) y `np.power` (potencia) para calcular el IMC de manera eficiente en NumPy. Estas funciones universales simplifican el proceso de cálculo al realizar operaciones matemáticas elemento por elemento sin necesidad de bucles explícitos."
   ]
  },
  {
   "cell_type": "markdown",
   "metadata": {},
   "source": [
    "## **Comparación de tiempos de ejecución entre arrays con ufuncs y listas tradicionales.**"
   ]
  },
  {
   "cell_type": "markdown",
   "metadata": {},
   "source": [
    "Por supuesto, te explicaré cómo comparar los tiempos de ejecución entre el uso de funciones universales en arrays de NumPy y el uso de listas tradicionales en Python. Esto ilustrará cómo las ufuncs en NumPy pueden ser mucho más eficientes para realizar operaciones en comparación con bucles tradicionales en listas.\n",
    "\n",
    "**Comparación de Tiempos de Ejecución: Funciones Universales vs. Bucles en Listas**\n",
    "\n",
    "Vamos a comparar el tiempo de ejecución de la suma de elementos en un array usando una función universal en NumPy y el tiempo de ejecución de la suma de elementos en una lista usando un bucle en Python.\n",
    "\n",
    "**Usando Funciones Universales en NumPy:**"
   ]
  },
  {
   "cell_type": "code",
   "execution_count": 4,
   "metadata": {},
   "outputs": [
    {
     "name": "stdout",
     "output_type": "stream",
     "text": [
      "Suma usando ufunc en NumPy: 49507426\n",
      "Tiempo de ejecución: 0.004816293716430664 segundos\n"
     ]
    }
   ],
   "source": [
    "import numpy as np\n",
    "import time\n",
    "\n",
    "# Crear un array grande\n",
    "arr_np = np.random.randint(0, 100, size=int(1e6))\n",
    "\n",
    "# Calcular el tiempo inicial\n",
    "start_time = time.time()\n",
    "\n",
    "# Sumar elementos usando función universal\n",
    "suma_np = np.sum(arr_np)\n",
    "\n",
    "# Calcular el tiempo final\n",
    "end_time = time.time()\n",
    "\n",
    "print(\"Suma usando ufunc en NumPy:\", suma_np)\n",
    "print(\"Tiempo de ejecución:\", end_time - start_time, \"segundos\")"
   ]
  },
  {
   "cell_type": "markdown",
   "metadata": {},
   "source": [
    "**Usando Bucle en Listas Tradicionales:**"
   ]
  },
  {
   "cell_type": "code",
   "execution_count": 5,
   "metadata": {},
   "outputs": [
    {
     "name": "stdout",
     "output_type": "stream",
     "text": [
      "Suma usando bucle en lista: 499999500000\n",
      "Tiempo de ejecución: 0.3908843994140625 segundos\n"
     ]
    }
   ],
   "source": [
    "import time\n",
    "\n",
    "# Crear una lista grande\n",
    "lista_py = list(range(int(1e6)))\n",
    "\n",
    "# Calcular el tiempo inicial\n",
    "start_time = time.time()\n",
    "\n",
    "# Sumar elementos usando un bucle\n",
    "suma_py = 0\n",
    "for num in lista_py:\n",
    "    suma_py += num\n",
    "\n",
    "# Calcular el tiempo final\n",
    "end_time = time.time()\n",
    "\n",
    "print(\"Suma usando bucle en lista:\", suma_py)\n",
    "print(\"Tiempo de ejecución:\", end_time - start_time, \"segundos\")"
   ]
  },
  {
   "cell_type": "markdown",
   "metadata": {},
   "source": [
    "**Explicación:**\n",
    "\n",
    "- En ambos ejemplos, primero creamos una gran cantidad de datos, ya sea como un array en NumPy o una lista en Python.\n",
    "- Luego, calculamos el tiempo inicial antes de realizar la operación de suma.\n",
    "- Realizamos la operación de suma usando la función universal `np.sum` en el caso de NumPy y un bucle en el caso de la lista.\n",
    "- Finalmente, calculamos el tiempo final después de la operación de suma y mostramos el resultado junto con el tiempo de ejecución.\n",
    "\n",
    "**Resultado:**\n",
    "\n",
    "Observarás que el tiempo de ejecución usando funciones universales en NumPy es significativamente más corto en comparación con el bucle tradicional en listas. NumPy está altamente optimizado para realizar operaciones en arrays, lo que resulta en un rendimiento mucho mejor en comparación con bucles explícitos en Python.\n",
    "\n",
    "Esta comparación demuestra cómo las funciones universales en NumPy pueden mejorar drásticamente el rendimiento en comparación con el uso de bucles tradicionales en listas cuando se trata de realizar operaciones matemáticas en grandes conjuntos de datos."
   ]
  },
  {
   "cell_type": "markdown",
   "metadata": {},
   "source": [
    "| **Inicio** | **atrás 11** | **Siguiente 13** |\n",
    "|----------- |-------------- |---------------|\n",
    "| [🏠](../../README.md) | [⏪](./11_Numpy_Union_y_Separacion_de_Arrays.ipynb)| [⏩](./13_Escalamiento_Normalizacion_y_Estandarizacion.ipynb)|"
   ]
  }
 ],
 "metadata": {
  "kernelspec": {
   "display_name": "base",
   "language": "python",
   "name": "python3"
  },
  "language_info": {
   "codemirror_mode": {
    "name": "ipython",
    "version": 3
   },
   "file_extension": ".py",
   "mimetype": "text/x-python",
   "name": "python",
   "nbconvert_exporter": "python",
   "pygments_lexer": "ipython3",
   "version": "3.9.12"
  },
  "orig_nbformat": 4
 },
 "nbformat": 4,
 "nbformat_minor": 2
}
