{
 "cells": [
  {
   "attachments": {},
   "cell_type": "markdown",
   "metadata": {},
   "source": [
    "| **Inicio** | **Siguiente 2** |\n",
    "|-----------  |---------------|\n",
    "| [🏠](../../README.md) | [⏩](./2.Ejercicios_Python.ipynb)|"
   ]
  },
  {
   "attachments": {},
   "cell_type": "markdown",
   "metadata": {},
   "source": [
    "# **1. Ejercicios de Python Basico**"
   ]
  },
  {
   "attachments": {},
   "cell_type": "markdown",
   "metadata": {},
   "source": [
    " 1. **Calcula el promedio de una lista de números.**"
   ]
  },
  {
   "cell_type": "code",
   "execution_count": 2,
   "metadata": {},
   "outputs": [
    {
     "name": "stdout",
     "output_type": "stream",
     "text": [
      "El promedio es: 3.0\n"
     ]
    }
   ],
   "source": [
    "def calcular_promedio(lista):\n",
    "  suma = sum(lista)\n",
    "  promedio = suma /len(lista)\n",
    "  return promedio\n",
    "\n",
    "numeros = [1, 2, 3, 4, 5]\n",
    "resultado = calcular_promedio(numeros)\n",
    "print(\"El promedio es:\", resultado)"
   ]
  },
  {
   "attachments": {},
   "cell_type": "markdown",
   "metadata": {},
   "source": [
    "2. **Encuentra el número máximo en una lista de números.**"
   ]
  },
  {
   "cell_type": "code",
   "execution_count": 3,
   "metadata": {},
   "outputs": [
    {
     "name": "stdout",
     "output_type": "stream",
     "text": [
      "el numero maximo es: 7\n"
     ]
    }
   ],
   "source": [
    "def encontrar_maximo(lista):\n",
    "  maximo = max(lista)\n",
    "  return maximo\n",
    "\n",
    "numeros = [1, 5, 2, 7, 3]\n",
    "resultado = encontrar_maximo(numeros)\n",
    "print(\"el numero maximo es:\", resultado)"
   ]
  },
  {
   "attachments": {},
   "cell_type": "markdown",
   "metadata": {},
   "source": [
    "3. **Calcula la suma de los elementos pares de una lista de números.**"
   ]
  },
  {
   "cell_type": "code",
   "execution_count": 4,
   "metadata": {},
   "outputs": [
    {
     "name": "stdout",
     "output_type": "stream",
     "text": [
      "La suma de los elementos pares es: 6\n"
     ]
    }
   ],
   "source": [
    "def calcular_suma_pares(lista):\n",
    "  suma = sum([num for num in lista if num % 2 == 0])\n",
    "  return suma\n",
    "\n",
    "numeros = [1, 2, 3, 4, 5]\n",
    "resultado = calcular_suma_pares(numeros)\n",
    "print(\"La suma de los elementos pares es:\", resultado)"
   ]
  },
  {
   "attachments": {},
   "cell_type": "markdown",
   "metadata": {},
   "source": [
    "4. **Cuenta la cantidad de veces que aparece un elemento en una lista.**"
   ]
  },
  {
   "cell_type": "code",
   "execution_count": 5,
   "metadata": {},
   "outputs": [
    {
     "name": "stdout",
     "output_type": "stream",
     "text": [
      "El elemento 2 aparece 3 veces\n"
     ]
    }
   ],
   "source": [
    "def contar_elemento(lista, elemento):\n",
    "  cantidad = lista.count(elemento)\n",
    "  return cantidad\n",
    "\n",
    "numeros = [1, 2, 3, 2, 4, 2, 5]\n",
    "elemento = 2\n",
    "resultado = contar_elemento(numeros, elemento)\n",
    "print(\"El elemento\", elemento, \"aparece\", resultado, \"veces\")"
   ]
  },
  {
   "attachments": {},
   "cell_type": "markdown",
   "metadata": {},
   "source": [
    "5. **Dada una lista de números, encuentra los dos números más grandes.**"
   ]
  },
  {
   "cell_type": "code",
   "execution_count": 6,
   "metadata": {},
   "outputs": [
    {
     "name": "stdout",
     "output_type": "stream",
     "text": [
      "Los dos numeros mas grandes son: [5, 7]\n"
     ]
    }
   ],
   "source": [
    "def encontrar_dos_maximos(lista):\n",
    "  lista.sort()\n",
    "  maximos = lista[-2:]\n",
    "  return maximos\n",
    "\n",
    "numeros = [1, 5, 2, 7, 3]\n",
    "resultado = encontrar_dos_maximos(numeros)\n",
    "print(\"Los dos numeros mas grandes son:\", resultado)"
   ]
  },
  {
   "attachments": {},
   "cell_type": "markdown",
   "metadata": {},
   "source": [
    "6. **Calcula el factorial de un número.**"
   ]
  },
  {
   "cell_type": "code",
   "execution_count": 7,
   "metadata": {},
   "outputs": [
    {
     "name": "stdout",
     "output_type": "stream",
     "text": [
      "El factorial de 5 es: 120\n"
     ]
    }
   ],
   "source": [
    "def calcular_factorial(numero):\n",
    "  factorial = 1\n",
    "  for i in range(1, numero +1):\n",
    "    factorial *= i\n",
    "  return factorial\n",
    "\n",
    "numero = 5\n",
    "resultado = calcular_factorial(numero)\n",
    "print(\"El factorial de\", numero, \"es:\", resultado)"
   ]
  },
  {
   "attachments": {},
   "cell_type": "markdown",
   "metadata": {},
   "source": [
    "7. **Comprueba si una cadena de texto es un palíndromo.**"
   ]
  },
  {
   "cell_type": "code",
   "execution_count": 8,
   "metadata": {},
   "outputs": [
    {
     "name": "stdout",
     "output_type": "stream",
     "text": [
      "La cadena es un palindromo\n"
     ]
    }
   ],
   "source": [
    "def es_palindromo(cadena):\n",
    "  cadena = cadena.lower().replace(\" \", \"\")\n",
    "  inversa = cadena[::-1]\n",
    "  return cadena == inversa\n",
    "\n",
    "texto = \"Anita lava la tina\"\n",
    "resultado = es_palindromo(texto)\n",
    "if resultado:\n",
    "  print(\"La cadena es un palindromo\")\n",
    "else:\n",
    "  print(\"La cadena no es un palindromo\")"
   ]
  },
  {
   "attachments": {},
   "cell_type": "markdown",
   "metadata": {},
   "source": [
    "8. **Dada una lista de palabras, cuenta la cantidad de veces que aparece cada palabra.**"
   ]
  },
  {
   "cell_type": "code",
   "execution_count": 9,
   "metadata": {},
   "outputs": [
    {
     "name": "stdout",
     "output_type": "stream",
     "text": [
      "La palabra hola aparece 3 veces\n",
      "La palabra adios aparece 2 veces\n"
     ]
    }
   ],
   "source": [
    "def contar_palabras(lista):\n",
    "  contador = {}\n",
    "  for palabra in lista:\n",
    "    if palabra in contador:\n",
    "      contador[palabra] += 1\n",
    "    else:\n",
    "      contador[palabra] = 1\n",
    "  return contador\n",
    "\n",
    "palabras = [\"hola\", \"adios\", \"hola\", \"hola\", \"adios\"]\n",
    "resultado = contar_palabras(palabras)\n",
    "for palabra, cantidad in resultado.items():\n",
    "  print(\"La palabra\", palabra, \"aparece\", cantidad, \"veces\")"
   ]
  },
  {
   "attachments": {},
   "cell_type": "markdown",
   "metadata": {},
   "source": [
    "9. **Dada una lista de números, encuentra el número más frecuente.**"
   ]
  },
  {
   "cell_type": "code",
   "execution_count": 10,
   "metadata": {},
   "outputs": [
    {
     "name": "stdout",
     "output_type": "stream",
     "text": [
      "El numero mas frecuente es: 2\n"
     ]
    }
   ],
   "source": [
    "def encontrar_numero_mas_frecuente(lista):\n",
    "  contador = {}\n",
    "  for numero in lista:\n",
    "    if numero in contador:\n",
    "      contador[numero] +=1\n",
    "    else:\n",
    "      contador[numero] = 1\n",
    "  numero_mas_frecuente = max(contador, key=contador.get)\n",
    "  return numero_mas_frecuente\n",
    "\n",
    "numeros = [1, 2, 3, 2, 4, 2, 5, 2]\n",
    "resultado = encontrar_numero_mas_frecuente(numeros)\n",
    "print(\"El numero mas frecuente es:\", resultado)"
   ]
  },
  {
   "attachments": {},
   "cell_type": "markdown",
   "metadata": {},
   "source": [
    "10. **Calcula el área de un círculo dado su radio.**"
   ]
  },
  {
   "cell_type": "code",
   "execution_count": 11,
   "metadata": {},
   "outputs": [
    {
     "name": "stdout",
     "output_type": "stream",
     "text": [
      "El area del circulo es: 19.634954084936208\n"
     ]
    }
   ],
   "source": [
    "import math\n",
    "\n",
    "def calcular_area_circulo(radio):\n",
    "  area = math.pi * radio**2\n",
    "  return area\n",
    "\n",
    "radio = 2.5\n",
    "resultado = calcular_area_circulo(radio)\n",
    "print(\"El area del circulo es:\", resultado)"
   ]
  },
  {
   "attachments": {},
   "cell_type": "markdown",
   "metadata": {},
   "source": [
    "11. **Dada una cadena de texto, cuenta la cantidad de vocales que contiene.**"
   ]
  },
  {
   "cell_type": "code",
   "execution_count": 12,
   "metadata": {},
   "outputs": [
    {
     "name": "stdout",
     "output_type": "stream",
     "text": [
      "El texto tiene 6 vocales\n"
     ]
    }
   ],
   "source": [
    "def contar_vocales(cadena):\n",
    "  vocales = \"aeiou\"\n",
    "  cantidad = 0\n",
    "  for letra in cadena.lower():\n",
    "    if letra in vocales:\n",
    "      cantidad += 1\n",
    "  return cantidad\n",
    "\n",
    "texto = \"Hola, como estas?\"\n",
    "resultado = contar_vocales(texto)\n",
    "print(\"El texto tiene\", resultado, \"vocales\")"
   ]
  },
  {
   "attachments": {},
   "cell_type": "markdown",
   "metadata": {},
   "source": [
    "12. **Dada una lista de números, calcula la mediana.**"
   ]
  },
  {
   "cell_type": "code",
   "execution_count": 13,
   "metadata": {},
   "outputs": [
    {
     "name": "stdout",
     "output_type": "stream",
     "text": [
      "La mediana es: 3\n"
     ]
    }
   ],
   "source": [
    "def calcular_mediana(lista):\n",
    "  lista.sort()\n",
    "  n = len(lista)\n",
    "  if n % 2 == 0:\n",
    "    mediana = (lista[n//2-1] + lista[n//2]) / 2\n",
    "  else:\n",
    "    mediana = lista[n//2]\n",
    "  return mediana\n",
    "\n",
    "numeros = [1, 5, 2, 7, 3]\n",
    "resultado = calcular_mediana(numeros)\n",
    "print(\"La mediana es:\", resultado)"
   ]
  },
  {
   "attachments": {},
   "cell_type": "markdown",
   "metadata": {},
   "source": [
    "13. **Comprueba si un número es primo.**"
   ]
  },
  {
   "cell_type": "code",
   "execution_count": 14,
   "metadata": {},
   "outputs": [
    {
     "name": "stdout",
     "output_type": "stream",
     "text": [
      "El numero es primo\n"
     ]
    }
   ],
   "source": [
    "def es_primo(numero):\n",
    "  if numero < 2:\n",
    "    return False\n",
    "  for i in range(2, int(numero**0.5) + 1):\n",
    "    if numero % i == 0:\n",
    "      return False\n",
    "  return True\n",
    "\n",
    "numero = 17\n",
    "resultado = es_primo(numero)\n",
    "if resultado:\n",
    "  print(\"El numero es primo\")\n",
    "else:\n",
    "  print(\"El numero no es primo\")"
   ]
  },
  {
   "attachments": {},
   "cell_type": "markdown",
   "metadata": {},
   "source": [
    "14. **Dada una lista de números, encuentra el producto de sus elementos**"
   ]
  },
  {
   "cell_type": "code",
   "execution_count": 15,
   "metadata": {},
   "outputs": [
    {
     "name": "stdout",
     "output_type": "stream",
     "text": [
      "El producto de los elementos es: 120\n"
     ]
    }
   ],
   "source": [
    "def calcular_producto(lista):\n",
    "  producto = 1\n",
    "  for numero in lista:\n",
    "    producto *= numero\n",
    "  return producto\n",
    "\n",
    "numeros = [1, 2, 3, 4, 5]\n",
    "resultado = calcular_producto(numeros)\n",
    "print(\"El producto de los elementos es:\", resultado)"
   ]
  },
  {
   "attachments": {},
   "cell_type": "markdown",
   "metadata": {},
   "source": [
    "15. **Dada una lista de números, calcula la desviación estándar.**"
   ]
  },
  {
   "cell_type": "code",
   "execution_count": 16,
   "metadata": {},
   "outputs": [
    {
     "name": "stdout",
     "output_type": "stream",
     "text": [
      "La desviacion estandar es: 2.4083189157584592\n"
     ]
    }
   ],
   "source": [
    "import statistics\n",
    "\n",
    "def calcular_desviacion_estandar(lista):\n",
    "  desviacion = statistics.stdev(lista)\n",
    "  return desviacion\n",
    "\n",
    "numeros = [1, 5, 2, 7, 3]\n",
    "resultado = calcular_desviacion_estandar(numeros)\n",
    "print(\"La desviacion estandar es:\", resultado)"
   ]
  },
  {
   "attachments": {},
   "cell_type": "markdown",
   "metadata": {},
   "source": [
    "16. **Dado un número entero, determina si es par o impar.**"
   ]
  },
  {
   "cell_type": "code",
   "execution_count": 17,
   "metadata": {},
   "outputs": [
    {
     "name": "stdout",
     "output_type": "stream",
     "text": [
      "El numero es impar\n"
     ]
    }
   ],
   "source": [
    "def es_par(numero):\n",
    "  if numero % 2 == 0:\n",
    "    return True\n",
    "  else:\n",
    "    return False\n",
    "\n",
    "numero = 7\n",
    "if es_par(numero):\n",
    "  print(\"El numero es par\")\n",
    "else:\n",
    "  print(\"El numero es impar\")"
   ]
  },
  {
   "attachments": {},
   "cell_type": "markdown",
   "metadata": {},
   "source": [
    "17. **Dada una lista de números, encuentra el segundo número más pequeño.**"
   ]
  },
  {
   "cell_type": "code",
   "execution_count": 18,
   "metadata": {},
   "outputs": [
    {
     "name": "stdout",
     "output_type": "stream",
     "text": [
      "El segundo numero mas pequeño es: 2\n"
     ]
    }
   ],
   "source": [
    "def encontrar_segundo_minimo(lista):\n",
    "  minimo = min(lista)\n",
    "  lista.remove(minimo)\n",
    "  segundo_minimo = min(lista)\n",
    "  return segundo_minimo\n",
    "\n",
    "numeros = [5, 2, 7, 3, 1]\n",
    "resultado = encontrar_segundo_minimo(numeros)\n",
    "print(\"El segundo numero mas pequeño es:\", resultado)"
   ]
  },
  {
   "attachments": {},
   "cell_type": "markdown",
   "metadata": {},
   "source": [
    "18. **Dada una lista de números, encuentra el número más cercano a un valor objetivo.**"
   ]
  },
  {
   "cell_type": "code",
   "execution_count": 20,
   "metadata": {},
   "outputs": [
    {
     "name": "stdout",
     "output_type": "stream",
     "text": [
      "El numero mas cercano a 4 es: 5\n"
     ]
    }
   ],
   "source": [
    "def encontrar_numero_cercano(lista, objetivo):\n",
    "  diferencia_minima = float('inf')\n",
    "  numero_cercano = None\n",
    "  for numero in lista:\n",
    "    diferencia = abs(numero - objetivo)\n",
    "    if diferencia < diferencia_minima:\n",
    "      diferencia_minima = diferencia\n",
    "      numero_cercano = numero\n",
    "  return numero_cercano\n",
    "\n",
    "numeros = [1, 5, 2, 7, 3]\n",
    "objetivo = 4\n",
    "resultado = encontrar_numero_cercano(numeros, objetivo)\n",
    "print(\"El numero mas cercano a\", objetivo, \"es:\", resultado)"
   ]
  },
  {
   "attachments": {},
   "cell_type": "markdown",
   "metadata": {},
   "source": [
    "19. **Dada una lista de palabras, encuentra la palabra más larga.**"
   ]
  },
  {
   "cell_type": "code",
   "execution_count": 21,
   "metadata": {},
   "outputs": [
    {
     "name": "stdout",
     "output_type": "stream",
     "text": [
      "La palabra mas larga es: buenos dias\n"
     ]
    }
   ],
   "source": [
    "def encontrar_palabra_mas_larga(lista):\n",
    "  palabra_mas_larga = max(lista, key=len)\n",
    "  return palabra_mas_larga\n",
    "\n",
    "palabras = [\"hola\", \"adios\", \"buenos dias\"]\n",
    "resultado = encontrar_palabra_mas_larga(palabras)\n",
    "print(\"La palabra mas larga es:\", resultado)"
   ]
  },
  {
   "attachments": {},
   "cell_type": "markdown",
   "metadata": {},
   "source": [
    "20. **Dada una cadena de texto, cuenta la cantidad de palabras que empiezan con una vocal.**"
   ]
  },
  {
   "cell_type": "code",
   "execution_count": 22,
   "metadata": {},
   "outputs": [
    {
     "name": "stdout",
     "output_type": "stream",
     "text": [
      "El texto tiene 1 palabras que empiezan con una vocal\n"
     ]
    }
   ],
   "source": [
    "def contar_palabras_vocales(cadena):\n",
    "  vocales = 'aeiou'\n",
    "  contador = 0\n",
    "  palabras = cadena.split()\n",
    "  for palabra in palabras:\n",
    "    if palabra[0].lower() in vocales:\n",
    "      contador += 1\n",
    "  return contador\n",
    "\n",
    "texto = \"Hola, como estas?\"\n",
    "resultado = contar_palabras_vocales(texto)\n",
    "print(\"El texto tiene\", resultado, \"palabras que empiezan con una vocal\")"
   ]
  },
  {
   "attachments": {},
   "cell_type": "markdown",
   "metadata": {},
   "source": [
    "| **Inicio** | **Siguiente 2** |\n",
    "|-----------  |---------------|\n",
    "| [🏠](../../README.md) | [⏩](./2.Ejercicios_Python.ipynb)|"
   ]
  }
 ],
 "metadata": {
  "kernelspec": {
   "display_name": "base",
   "language": "python",
   "name": "python3"
  },
  "language_info": {
   "codemirror_mode": {
    "name": "ipython",
    "version": 3
   },
   "file_extension": ".py",
   "mimetype": "text/x-python",
   "name": "python",
   "nbconvert_exporter": "python",
   "pygments_lexer": "ipython3",
   "version": "3.9.12"
  },
  "orig_nbformat": 4
 },
 "nbformat": 4,
 "nbformat_minor": 2
}
