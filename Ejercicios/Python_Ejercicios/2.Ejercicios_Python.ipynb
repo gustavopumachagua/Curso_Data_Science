{
 "cells": [
  {
   "attachments": {},
   "cell_type": "markdown",
   "metadata": {},
   "source": [
    "| **Inicio** | **atrás 1** | **Siguiente 3** |\n",
    "|----------- |-------------- |---------------|\n",
    "| [🏠](../../README.md) | [⏪](./1.Ejercicios_Python.ipynb)| [⏩](./3.Ejercicios_Python.ipynb)|"
   ]
  },
  {
   "attachments": {},
   "cell_type": "markdown",
   "metadata": {},
   "source": [
    "# **2. Ejercicios de Python Intermedio**"
   ]
  },
  {
   "attachments": {},
   "cell_type": "markdown",
   "metadata": {},
   "source": [
    "1. **Calcula la suma de los números pares de una lista de enteros.**"
   ]
  },
  {
   "cell_type": "code",
   "execution_count": 2,
   "metadata": {},
   "outputs": [
    {
     "name": "stdout",
     "output_type": "stream",
     "text": [
      "La suma de los numeros pares es: 30\n"
     ]
    }
   ],
   "source": [
    "def sumar_pares(lista):\n",
    "  suma = 0\n",
    "  for num in lista:\n",
    "    if num % 2 == 0:\n",
    "      suma += num\n",
    "  return suma\n",
    "\n",
    "mi_lista = [1, 2, 3, 4, 5, 6, 7, 8, 9, 10]\n",
    "resultado = sumar_pares(mi_lista)\n",
    "print(\"La suma de los numeros pares es:\", resultado)"
   ]
  },
  {
   "attachments": {},
   "cell_type": "markdown",
   "metadata": {},
   "source": [
    "2. **Dada una lista de palabras, encuentra la palabra más larga**"
   ]
  },
  {
   "cell_type": "code",
   "execution_count": 3,
   "metadata": {},
   "outputs": [
    {
     "name": "stdout",
     "output_type": "stream",
     "text": [
      "La palabra mas larga es: manzana\n"
     ]
    }
   ],
   "source": [
    "def palabra_mas_larga(lista_palabras):\n",
    "  palabra_mas_larga = \"\"\n",
    "  for palabra in lista_palabras:\n",
    "    if len(palabra) > len(palabra_mas_larga):\n",
    "      palabra_mas_larga = palabra\n",
    "  return palabra_mas_larga\n",
    "\n",
    "mi_lista = [\"manzana\", \"pera\", \"platano\", \"kiwi\", \"naranja\"]\n",
    "resultado = palabra_mas_larga(mi_lista)\n",
    "print(\"La palabra mas larga es:\", resultado)"
   ]
  },
  {
   "attachments": {},
   "cell_type": "markdown",
   "metadata": {},
   "source": [
    "3. **Implementa una función que calcule la mediana de una lista de números.**"
   ]
  },
  {
   "cell_type": "code",
   "execution_count": 4,
   "metadata": {},
   "outputs": [
    {
     "name": "stdout",
     "output_type": "stream",
     "text": [
      "La mediana es: 6\n"
     ]
    }
   ],
   "source": [
    "def mediana(lista):\n",
    "  lista_ordenada = sorted(lista)\n",
    "  n = len(lista_ordenada)\n",
    "  if n % 2 == 0:\n",
    "    mediana = (lista_ordenada[n//2-1] + lista_ordenada[n//2]) / 2\n",
    "  else:\n",
    "    mediana = lista_ordenada[n//2]\n",
    "  return mediana\n",
    "\n",
    "mi_lista = [2, 4, 6, 8, 10]\n",
    "resultado = mediana(mi_lista)\n",
    "print(\"La mediana es:\", resultado)"
   ]
  },
  {
   "attachments": {},
   "cell_type": "markdown",
   "metadata": {},
   "source": [
    "4. **Crea una función que determine si una cadena es un palíndromo (se lee igual de izquierda a derecha que de derecha a izquierda).**"
   ]
  },
  {
   "cell_type": "code",
   "execution_count": 5,
   "metadata": {},
   "outputs": [
    {
     "name": "stdout",
     "output_type": "stream",
     "text": [
      "El texto es un palindromo\n"
     ]
    }
   ],
   "source": [
    "def es_palindromo(cadena):\n",
    "  cadena = cadena.lower().replace(\" \",\"\")\n",
    "  return cadena == cadena[::-1]\n",
    "\n",
    "texto = \"Anita lava la tina\"\n",
    "resultado = es_palindromo(texto)\n",
    "if resultado:\n",
    "  print(\"El texto es un palindromo\")\n",
    "else:\n",
    "  print(\"El texto no es un palindromo\")"
   ]
  },
  {
   "attachments": {},
   "cell_type": "markdown",
   "metadata": {},
   "source": [
    "5. **Implementa una función que calcule el factorial de un número.**"
   ]
  },
  {
   "cell_type": "code",
   "execution_count": 6,
   "metadata": {},
   "outputs": [
    {
     "name": "stdout",
     "output_type": "stream",
     "text": [
      "El factorial de 5 es: 120\n"
     ]
    }
   ],
   "source": [
    "def factorial(n):\n",
    "  if n == 0:\n",
    "    return 1\n",
    "  else:\n",
    "    return n * factorial(n-1)\n",
    "\n",
    "numero = 5\n",
    "resultado = factorial(numero)\n",
    "print(\"El factorial de\", numero, \"es:\", resultado)"
   ]
  },
  {
   "attachments": {},
   "cell_type": "markdown",
   "metadata": {},
   "source": [
    "6. **Dada una lista de números, encuentra los dos números que sumen un valor objetivo.**"
   ]
  },
  {
   "cell_type": "code",
   "execution_count": 7,
   "metadata": {},
   "outputs": [
    {
     "name": "stdout",
     "output_type": "stream",
     "text": [
      "Se encontro una pareja de numeros que suman el objetivo: [4, 8]\n"
     ]
    }
   ],
   "source": [
    "def encuentra_suma_objetivo(lista, objetivo):\n",
    "  numeros = {}\n",
    "  for num in lista:\n",
    "    complemento = objetivo - num\n",
    "    if complemento in numeros:\n",
    "      return [complemento, num]\n",
    "    numeros[num] = True\n",
    "  return None\n",
    "\n",
    "mi_lista = [2, 4, 6, 8, 10]\n",
    "objetivo = 12\n",
    "resultado = encuentra_suma_objetivo(mi_lista, objetivo)\n",
    "if resultado:\n",
    "  print(\"Se encontro una pareja de numeros que suman el objetivo:\", resultado)\n",
    "else:\n",
    "  print(\"No se encontro ninguna pareja de numeros que sumen el objetivo\")"
   ]
  },
  {
   "attachments": {},
   "cell_type": "markdown",
   "metadata": {},
   "source": [
    "7. **Crea una función que calcule el promedio de una columna específica en un dataframe.**"
   ]
  },
  {
   "cell_type": "code",
   "execution_count": 9,
   "metadata": {},
   "outputs": [
    {
     "name": "stdout",
     "output_type": "stream",
     "text": [
      "El promedio de la columna Edad es: 29.5\n"
     ]
    }
   ],
   "source": [
    "import pandas as pd\n",
    "\n",
    "def promedio_columna_csv(df, columna):\n",
    "  total = df[columna].sum()\n",
    "  count = df[columna].count()\n",
    "  return total / count\n",
    "\n",
    "data = {'Nombre': ['Juan', 'Maria', 'Carlos', 'Luis'],\n",
    "        'Edad' : [25, 30, 28, 35],\n",
    "        'Altura' : [170, 165, 180, 175]\n",
    "        }\n",
    "\n",
    "df = pd.DataFrame(data)\n",
    "columna = 'Edad'\n",
    "promedio = promedio_columna_csv(df, columna)\n",
    "\n",
    "print(\"El promedio de la columna\", columna, \"es:\", promedio)"
   ]
  },
  {
   "attachments": {},
   "cell_type": "markdown",
   "metadata": {},
   "source": [
    "8. **Implementa una función que calcule el coeficiente de correlación entre dos listas de números.**"
   ]
  },
  {
   "cell_type": "code",
   "execution_count": 10,
   "metadata": {},
   "outputs": [
    {
     "name": "stdout",
     "output_type": "stream",
     "text": [
      "El coeficiente de correlacion es: 0.9999999999999999\n"
     ]
    }
   ],
   "source": [
    "import numpy as np\n",
    "\n",
    "def coeficiente_correlacion(lista1, lista2):\n",
    "  matriz_correlacion = np.corrcoef(lista1, lista2)\n",
    "  coeficiente = matriz_correlacion[0, 1]\n",
    "  return coeficiente\n",
    "\n",
    "lista1 = [1, 2, 3, 4, 5]\n",
    "lista2 = [6, 7, 8, 9, 10]\n",
    "resultado = coeficiente_correlacion(lista1, lista2)\n",
    "print(\"El coeficiente de correlacion es:\", resultado)"
   ]
  },
  {
   "attachments": {},
   "cell_type": "markdown",
   "metadata": {},
   "source": [
    "9. **Implementa una función que calcule la suma acumulada de una lista de números.**"
   ]
  },
  {
   "cell_type": "code",
   "execution_count": 11,
   "metadata": {},
   "outputs": [
    {
     "name": "stdout",
     "output_type": "stream",
     "text": [
      "La lista acumulada es: [1, 3, 6, 10, 15]\n"
     ]
    }
   ],
   "source": [
    "def suma_acumulada(lista):\n",
    "  suma = 0\n",
    "  acumulada = []\n",
    "  for num in lista:\n",
    "    suma += num\n",
    "    acumulada.append(suma)\n",
    "  return acumulada\n",
    "\n",
    "mi_lista = [1, 2, 3, 4, 5]\n",
    "resultado = suma_acumulada(mi_lista)\n",
    "print(\"La lista acumulada es:\", resultado)"
   ]
  },
  {
   "attachments": {},
   "cell_type": "markdown",
   "metadata": {},
   "source": [
    "10. **Dada una cadena de texto, cuenta la frecuencia de cada palabra.**"
   ]
  },
  {
   "cell_type": "code",
   "execution_count": 12,
   "metadata": {},
   "outputs": [
    {
     "name": "stdout",
     "output_type": "stream",
     "text": [
      "Frecuencia de palabras:\n",
      "hola: 3\n",
      "mundo: 3\n"
     ]
    }
   ],
   "source": [
    "from collections import Counter\n",
    "\n",
    "def contar_frecuencia_palabras(cadena):\n",
    "    palabras = cadena.lower().split()\n",
    "    frecuencia = Counter(palabras)\n",
    "    return frecuencia\n",
    "\n",
    "# Ejemplo de uso\n",
    "texto = \"Hola Hola hola mundo mundo mundo\"\n",
    "resultado = contar_frecuencia_palabras(texto)\n",
    "print(\"Frecuencia de palabras:\")\n",
    "for palabra, frecuencia in resultado.items():\n",
    "    print(palabra + \":\", frecuencia)"
   ]
  },
  {
   "attachments": {},
   "cell_type": "markdown",
   "metadata": {},
   "source": [
    "11. **Crea una función que calcule el producto punto de dos vectores.**"
   ]
  },
  {
   "cell_type": "code",
   "execution_count": 1,
   "metadata": {},
   "outputs": [
    {
     "name": "stdout",
     "output_type": "stream",
     "text": [
      "El producto punto es: 32\n"
     ]
    }
   ],
   "source": [
    "def producto_punto(vector1, vector2):\n",
    "    resultado = 0\n",
    "    for i in range(len(vector1)):\n",
    "        resultado += vector1[i] * vector2[i]\n",
    "    return resultado\n",
    "\n",
    "# Ejemplo de uso\n",
    "v1 = [1, 2, 3]\n",
    "v2 = [4, 5, 6]\n",
    "resultado = producto_punto(v1, v2)\n",
    "print(\"El producto punto es:\", resultado)"
   ]
  },
  {
   "cell_type": "markdown",
   "metadata": {},
   "source": [
    "12. **Implementa una función que calcule el número de días entre dos fechas.**"
   ]
  },
  {
   "cell_type": "code",
   "execution_count": 2,
   "metadata": {},
   "outputs": [
    {
     "name": "stdout",
     "output_type": "stream",
     "text": [
      "La diferencia en días entre 2023-01-01 y 2023-01-10 es: 9\n"
     ]
    }
   ],
   "source": [
    "from datetime import datetime\n",
    "\n",
    "def dias_entre_fechas(fecha1, fecha2):\n",
    "    fecha1 = datetime.strptime(fecha1, '%Y-%m-%d')\n",
    "    fecha2 = datetime.strptime(fecha2, '%Y-%m-%d')\n",
    "    diferencia = fecha2 - fecha1\n",
    "    return diferencia.days\n",
    "\n",
    "# Ejemplo de uso\n",
    "fecha_inicio = \"2023-01-01\"\n",
    "fecha_fin = \"2023-01-10\"\n",
    "resultado = dias_entre_fechas(fecha_inicio, fecha_fin)\n",
    "print(\"La diferencia en días entre\", fecha_inicio, \"y\", fecha_fin, \"es:\", resultado)"
   ]
  },
  {
   "cell_type": "markdown",
   "metadata": {},
   "source": [
    "13. **Dada una lista de diccionarios, encuentra los diccionarios que contienen un determinado valor para una clave específica.**"
   ]
  },
  {
   "cell_type": "code",
   "execution_count": 1,
   "metadata": {},
   "outputs": [
    {
     "name": "stdout",
     "output_type": "stream",
     "text": [
      "Resultados:\n",
      "{'nombre': 'Juan', 'edad': 25}\n",
      "{'nombre': 'Carlos', 'edad': 25}\n"
     ]
    }
   ],
   "source": [
    "def buscar_diccionarios(lista_diccionarios, clave, valor):\n",
    "    resultados = []\n",
    "    for diccionario in lista_diccionarios:\n",
    "        if clave in diccionario and diccionario[clave] == valor:\n",
    "            resultados.append(diccionario)\n",
    "    return resultados\n",
    "\n",
    "# Ejemplo de uso\n",
    "mi_lista = [\n",
    "    {\"nombre\": \"Juan\", \"edad\": 25},\n",
    "    {\"nombre\": \"María\", \"edad\": 30},\n",
    "    {\"nombre\": \"Carlos\", \"edad\": 25},\n",
    "    {\"nombre\": \"Luis\", \"edad\": 35}\n",
    "]\n",
    "clave_busqueda = \"edad\"\n",
    "valor_busqueda = 25\n",
    "resultados = buscar_diccionarios(mi_lista, clave_busqueda, valor_busqueda)\n",
    "\n",
    "print(\"Resultados:\")\n",
    "for resultado in resultados:\n",
    "    print(resultado)"
   ]
  },
  {
   "cell_type": "markdown",
   "metadata": {},
   "source": [
    "14. **Crea una función que calcule el porcentaje de valores nulos en un DataFrame.**"
   ]
  },
  {
   "cell_type": "code",
   "execution_count": 2,
   "metadata": {},
   "outputs": [
    {
     "name": "stdout",
     "output_type": "stream",
     "text": [
      "El porcentaje de valores nulos en el DataFrame es: 25.0 %\n"
     ]
    }
   ],
   "source": [
    "import pandas as pd\n",
    "\n",
    "def porcentaje_nulos(dataframe):\n",
    "    nulos = dataframe.isnull().sum().sum()\n",
    "    total = dataframe.size\n",
    "    porcentaje = (nulos / total) * 100\n",
    "    return porcentaje\n",
    "\n",
    "# Ejemplo de uso\n",
    "data = {'A': [1, 2, None, 4],\n",
    "        'B': [5, None, 7, 8],\n",
    "        'C': [None, 10, 11, 12]}\n",
    "df = pd.DataFrame(data)\n",
    "\n",
    "resultado = porcentaje_nulos(df)\n",
    "print(\"El porcentaje de valores nulos en el DataFrame es:\", resultado, \"%\")"
   ]
  },
  {
   "cell_type": "markdown",
   "metadata": {},
   "source": [
    "15. **Implementa una función que genere una serie de Fibonacci hasta un número dado.**"
   ]
  },
  {
   "cell_type": "code",
   "execution_count": 3,
   "metadata": {},
   "outputs": [
    {
     "name": "stdout",
     "output_type": "stream",
     "text": [
      "Serie de Fibonacci hasta 100 :\n",
      "[0, 1, 1, 2, 3, 5, 8, 13, 21, 34, 55, 89]\n"
     ]
    }
   ],
   "source": [
    "def fibonacci(n):\n",
    "    serie = [0, 1]\n",
    "    while serie[-1] < n:\n",
    "        serie.append(serie[-1] + serie[-2])\n",
    "    return serie[:-1]\n",
    "\n",
    "# Ejemplo de uso\n",
    "numero_limite = 100\n",
    "resultado = fibonacci(numero_limite)\n",
    "print(\"Serie de Fibonacci hasta\", numero_limite, \":\")\n",
    "print(resultado)"
   ]
  },
  {
   "cell_type": "markdown",
   "metadata": {},
   "source": [
    "16. **Dado un número entero, determina si es un número primo.**"
   ]
  },
  {
   "cell_type": "code",
   "execution_count": 4,
   "metadata": {},
   "outputs": [
    {
     "name": "stdout",
     "output_type": "stream",
     "text": [
      "17 es un número primo\n"
     ]
    }
   ],
   "source": [
    "def es_primo(numero):\n",
    "    if numero < 2:\n",
    "        return False\n",
    "    for i in range(2, int(numero ** 0.5) + 1):\n",
    "        if numero % i == 0:\n",
    "            return False\n",
    "    return True\n",
    "\n",
    "# Ejemplo de uso\n",
    "numero = 17\n",
    "resultado = es_primo(numero)\n",
    "if resultado:\n",
    "    print(numero, \"es un número primo\")\n",
    "else:\n",
    "    print(numero, \"no es un número primo\")"
   ]
  },
  {
   "cell_type": "markdown",
   "metadata": {},
   "source": [
    "17. **Crea una función que elimine los valores duplicados de una lista.**"
   ]
  },
  {
   "cell_type": "code",
   "execution_count": 5,
   "metadata": {},
   "outputs": [
    {
     "name": "stdout",
     "output_type": "stream",
     "text": [
      "Lista sin duplicados:\n",
      "[1, 2, 3, 4, 5, 6]\n"
     ]
    }
   ],
   "source": [
    "def eliminar_duplicados(lista):\n",
    "    return list(set(lista))\n",
    "\n",
    "# Ejemplo de uso\n",
    "mi_lista = [1, 2, 3, 3, 4, 5, 5, 6]\n",
    "resultado = eliminar_duplicados(mi_lista)\n",
    "print(\"Lista sin duplicados:\")\n",
    "print(resultado)"
   ]
  },
  {
   "cell_type": "markdown",
   "metadata": {},
   "source": [
    "18. **Implementa una función que calcule el área de un círculo dado su radio.**"
   ]
  },
  {
   "cell_type": "code",
   "execution_count": 6,
   "metadata": {},
   "outputs": [
    {
     "name": "stdout",
     "output_type": "stream",
     "text": [
      "El área del círculo con radio 5 es: 78.53981633974483\n"
     ]
    }
   ],
   "source": [
    "import math\n",
    "\n",
    "def calcular_area_circulo(radio):\n",
    "    area = math.pi * radio**2\n",
    "    return area\n",
    "\n",
    "# Ejemplo de uso\n",
    "radio = 5\n",
    "resultado = calcular_area_circulo(radio)\n",
    "print(\"El área del círculo con radio\", radio, \"es:\", resultado)"
   ]
  },
  {
   "cell_type": "markdown",
   "metadata": {},
   "source": [
    "19. **Dado un texto, encuentra la palabra más frecuente y su frecuencia.**"
   ]
  },
  {
   "cell_type": "code",
   "execution_count": 7,
   "metadata": {},
   "outputs": [
    {
     "name": "stdout",
     "output_type": "stream",
     "text": [
      "La palabra más frecuente es: la\n",
      "Su frecuencia es: 2\n"
     ]
    }
   ],
   "source": [
    "from collections import Counter\n",
    "\n",
    "def palabra_mas_frecuente(texto):\n",
    "    palabras = texto.lower().split()\n",
    "    frecuencia = Counter(palabras)\n",
    "    palabra_mas_frecuente = frecuencia.most_common(1)[0][0]\n",
    "    frecuencia_palabra_mas_frecuente = frecuencia.most_common(1)[0][1]\n",
    "    return palabra_mas_frecuente, frecuencia_palabra_mas_frecuente\n",
    "\n",
    "# Ejemplo de uso\n",
    "texto = \"La casa es grande y la casa es azul\"\n",
    "palabra, frecuencia = palabra_mas_frecuente(texto)\n",
    "print(\"La palabra más frecuente es:\", palabra)\n",
    "print(\"Su frecuencia es:\", frecuencia)"
   ]
  },
  {
   "cell_type": "markdown",
   "metadata": {},
   "source": [
    "20. **Crea una función que elimine los valores duplicados de una lista.**"
   ]
  },
  {
   "cell_type": "code",
   "execution_count": 8,
   "metadata": {},
   "outputs": [
    {
     "name": "stdout",
     "output_type": "stream",
     "text": [
      "Lista sin duplicados:\n",
      "[1, 2, 3, 4, 5, 6]\n"
     ]
    }
   ],
   "source": [
    "def eliminar_duplicados(lista):\n",
    "    lista_sin_duplicados = list(set(lista))\n",
    "    return lista_sin_duplicados\n",
    "\n",
    "# Ejemplo de uso\n",
    "mi_lista = [1, 2, 3, 3, 4, 5, 5, 6]\n",
    "resultado = eliminar_duplicados(mi_lista)\n",
    "print(\"Lista sin duplicados:\")\n",
    "print(resultado)"
   ]
  },
  {
   "attachments": {},
   "cell_type": "markdown",
   "metadata": {},
   "source": [
    "| **Inicio** | **atrás 1** | **Siguiente 3** |\n",
    "|----------- |-------------- |---------------|\n",
    "| [🏠](../../README.md) | [⏪](./1.Ejercicios_Python.ipynb)| [⏩](./3.Ejercicios_Python.ipynb)|"
   ]
  }
 ],
 "metadata": {
  "kernelspec": {
   "display_name": "base",
   "language": "python",
   "name": "python3"
  },
  "language_info": {
   "codemirror_mode": {
    "name": "ipython",
    "version": 3
   },
   "file_extension": ".py",
   "mimetype": "text/x-python",
   "name": "python",
   "nbconvert_exporter": "python",
   "pygments_lexer": "ipython3",
   "version": "3.9.12"
  },
  "orig_nbformat": 4
 },
 "nbformat": 4,
 "nbformat_minor": 2
}
