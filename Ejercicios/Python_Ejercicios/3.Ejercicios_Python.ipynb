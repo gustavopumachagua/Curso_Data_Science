{
 "cells": [
  {
   "attachments": {},
   "cell_type": "markdown",
   "metadata": {},
   "source": [
    "| **Inicio** | **atrás 2** |\n",
    "|----------- |-------------- |\n",
    "| [🏠](../../README.md) | [⏪](./2.Ejercicios_Python.ipynb)|"
   ]
  },
  {
   "cell_type": "markdown",
   "metadata": {},
   "source": [
    "# **3. Ejercicios de Python Avanzado**"
   ]
  },
  {
   "cell_type": "markdown",
   "metadata": {},
   "source": [
    "1. **Dado un conjunto de datos en forma de lista, encuentra el valor máximo sin utilizar la función max().**"
   ]
  },
  {
   "cell_type": "code",
   "execution_count": 1,
   "metadata": {},
   "outputs": [
    {
     "name": "stdout",
     "output_type": "stream",
     "text": [
      "El valor máximo es: 10\n"
     ]
    }
   ],
   "source": [
    "def encontrar_maximo(datos):\n",
    "    maximo = datos[0]\n",
    "    for num in datos:\n",
    "        if num > maximo:\n",
    "            maximo = num\n",
    "    return maximo\n",
    "\n",
    "datos = [5, 8, 2, 10, 3]\n",
    "maximo = encontrar_maximo(datos)\n",
    "print(\"El valor máximo es:\", maximo)"
   ]
  },
  {
   "cell_type": "markdown",
   "metadata": {},
   "source": [
    "2. **Dado un conjunto de datos en forma de lista, calcula la suma de todos los elementos utilizando la recursión.**"
   ]
  },
  {
   "cell_type": "code",
   "execution_count": 2,
   "metadata": {},
   "outputs": [
    {
     "name": "stdout",
     "output_type": "stream",
     "text": [
      "La suma total es: 15\n"
     ]
    }
   ],
   "source": [
    "def suma_recursiva(datos):\n",
    "    if len(datos) == 0:\n",
    "        return 0\n",
    "    else:\n",
    "        return datos[0] + suma_recursiva(datos[1:])\n",
    "\n",
    "datos = [1, 2, 3, 4, 5]\n",
    "suma_total = suma_recursiva(datos)\n",
    "print(\"La suma total es:\", suma_total)"
   ]
  },
  {
   "cell_type": "markdown",
   "metadata": {},
   "source": [
    "3. **Dada una cadena de texto, cuenta el número de palabras y devuelve un diccionario con cada palabra y su frecuencia.**"
   ]
  },
  {
   "cell_type": "code",
   "execution_count": 3,
   "metadata": {},
   "outputs": [
    {
     "name": "stdout",
     "output_type": "stream",
     "text": [
      "Frecuencia de palabras: {'Este': 2, 'es': 1, 'un': 1, 'ejemplo': 1, 'de': 1, 'texto.': 1, 'texto': 1, 'tiene': 1, 'varias': 1, 'palabras.': 1}\n"
     ]
    }
   ],
   "source": [
    "def contar_palabras(texto):\n",
    "    palabras = texto.split()\n",
    "    frecuencia = {}\n",
    "    for palabra in palabras:\n",
    "        if palabra in frecuencia:\n",
    "            frecuencia[palabra] += 1\n",
    "        else:\n",
    "            frecuencia[palabra] = 1\n",
    "    return frecuencia\n",
    "\n",
    "texto = \"Este es un ejemplo de texto. Este texto tiene varias palabras.\"\n",
    "resultado = contar_palabras(texto)\n",
    "print(\"Frecuencia de palabras:\", resultado)"
   ]
  },
  {
   "cell_type": "markdown",
   "metadata": {},
   "source": [
    "4. **Dado un DataFrame con información de ventas, calcula la suma de las ventas por categoría.**"
   ]
  },
  {
   "cell_type": "code",
   "execution_count": 4,
   "metadata": {},
   "outputs": [
    {
     "name": "stdout",
     "output_type": "stream",
     "text": [
      "Categoría\n",
      "A    500\n",
      "B    500\n",
      "Name: Ventas, dtype: int64\n"
     ]
    }
   ],
   "source": [
    "import pandas as pd\n",
    "\n",
    "data = {'Categoría': ['A', 'B', 'A', 'B', 'A'],\n",
    "        'Ventas': [100, 200, 150, 300, 250]}\n",
    "df = pd.DataFrame(data)\n",
    "\n",
    "ventas_por_categoria = df.groupby('Categoría')['Ventas'].sum()\n",
    "print(ventas_por_categoria)"
   ]
  },
  {
   "cell_type": "markdown",
   "metadata": {},
   "source": [
    "5. **Dado un Dataframe con información de ventas, lee el archivo y calcula el promedio de ventas por año.**"
   ]
  },
  {
   "cell_type": "code",
   "execution_count": 5,
   "metadata": {},
   "outputs": [
    {
     "name": "stdout",
     "output_type": "stream",
     "text": [
      "Año\n",
      "2020    150.0\n",
      "2021    225.0\n",
      "Name: Ventas, dtype: float64\n"
     ]
    }
   ],
   "source": [
    "import pandas as pd\n",
    "\n",
    "data = {'Fecha': ['2020-01-01', '2020-02-01', '2021-01-01', '2021-02-01'],\n",
    "        'Ventas': [100, 200, 150, 300]}\n",
    "df = pd.DataFrame(data)\n",
    "\n",
    "df['Fecha'] = pd.to_datetime(df['Fecha'])\n",
    "df['Año'] = df['Fecha'].dt.year\n",
    "\n",
    "promedio_ventas_por_año = df.groupby('Año')['Ventas'].mean()\n",
    "print(promedio_ventas_por_año)"
   ]
  },
  {
   "cell_type": "markdown",
   "metadata": {},
   "source": [
    "6. **Dado un conjunto de datos en forma de lista, encuentra los tres valores únicos más grandes.**"
   ]
  },
  {
   "cell_type": "code",
   "execution_count": 6,
   "metadata": {},
   "outputs": [
    {
     "name": "stdout",
     "output_type": "stream",
     "text": [
      "Los tres valores únicos más grandes son: [10, 8, 5]\n"
     ]
    }
   ],
   "source": [
    "def encontrar_tres_maximos(datos):\n",
    "    unicos = set(datos)\n",
    "    maximos = sorted(unicos, reverse=True)[:3]\n",
    "    return maximos\n",
    "\n",
    "datos = [5, 8, 2, 10, 3, 5, 10, 8, 2]\n",
    "tres_maximos = encontrar_tres_maximos(datos)\n",
    "print(\"Los tres valores únicos más grandes son:\", tres_maximos)"
   ]
  },
  {
   "cell_type": "markdown",
   "metadata": {},
   "source": [
    "7. **Dado un conjunto de datos en forma de lista, encuentra la mediana sin utilizar la función median().**"
   ]
  },
  {
   "cell_type": "code",
   "execution_count": 7,
   "metadata": {},
   "outputs": [
    {
     "name": "stdout",
     "output_type": "stream",
     "text": [
      "La mediana es: 3\n"
     ]
    }
   ],
   "source": [
    "def encontrar_mediana(datos):\n",
    "    datos_ordenados = sorted(datos)\n",
    "    n = len(datos_ordenados)\n",
    "    if n % 2 == 0:\n",
    "        mediana = (datos_ordenados[n//2 - 1] + datos_ordenados[n//2]) / 2\n",
    "    else:\n",
    "        mediana = datos_ordenados[n//2]\n",
    "    return mediana\n",
    "\n",
    "datos = [1, 3, 2, 5, 4]\n",
    "mediana = encontrar_mediana(datos)\n",
    "print(\"La mediana es:\", mediana)"
   ]
  },
  {
   "cell_type": "markdown",
   "metadata": {},
   "source": [
    "8. **Dado un DataFrame con información de ventas, calcula el porcentaje de ventas por categoría en relación al total.**"
   ]
  },
  {
   "cell_type": "code",
   "execution_count": 8,
   "metadata": {},
   "outputs": [
    {
     "name": "stdout",
     "output_type": "stream",
     "text": [
      "Categoría\n",
      "A    50.0\n",
      "B    50.0\n",
      "Name: Ventas, dtype: float64\n"
     ]
    }
   ],
   "source": [
    "import pandas as pd\n",
    "\n",
    "data = {'Categoría': ['A', 'B', 'A', 'B', 'A'],\n",
    "        'Ventas': [100, 200, 150, 300, 250]}\n",
    "df = pd.DataFrame(data)\n",
    "\n",
    "ventas_totales = df['Ventas'].sum()\n",
    "porcentaje_ventas = df.groupby('Categoría')['Ventas'].sum() / ventas_totales * 100\n",
    "print(porcentaje_ventas)"
   ]
  },
  {
   "cell_type": "markdown",
   "metadata": {},
   "source": [
    "9. **Dado un Dataframe con información de ventas, lee el archivo y encuentra el mes con mayor cantidad de ventas.**"
   ]
  },
  {
   "cell_type": "code",
   "execution_count": 9,
   "metadata": {},
   "outputs": [
    {
     "name": "stdout",
     "output_type": "stream",
     "text": [
      "El mes con mayor cantidad de ventas es: 4\n"
     ]
    }
   ],
   "source": [
    "import pandas as pd\n",
    "\n",
    "data = {'Fecha': ['2022-01-01', '2022-02-01', '2022-03-01', '2022-04-01'],\n",
    "        'Ventas': [100, 200, 150, 300]}\n",
    "df = pd.DataFrame(data)\n",
    "\n",
    "df['Fecha'] = pd.to_datetime(df['Fecha'])\n",
    "df['Mes'] = df['Fecha'].dt.month\n",
    "\n",
    "mes_con_mas_ventas = df.groupby('Mes')['Ventas'].sum().idxmax()\n",
    "print(\"El mes con mayor cantidad de ventas es:\", mes_con_mas_ventas)"
   ]
  },
  {
   "cell_type": "markdown",
   "metadata": {},
   "source": [
    "10 . **Dado un conjunto de datos en forma de lista, encuentra el segundo valor más pequeño.**"
   ]
  },
  {
   "cell_type": "code",
   "execution_count": 10,
   "metadata": {},
   "outputs": [
    {
     "name": "stdout",
     "output_type": "stream",
     "text": [
      "El segundo valor más pequeño es: 3\n"
     ]
    }
   ],
   "source": [
    "def encontrar_segundo_minimo(datos):\n",
    "    minimo = min(datos)\n",
    "    segundo_minimo = float('inf')\n",
    "    for num in datos:\n",
    "        if num > minimo and num < segundo_minimo:\n",
    "            segundo_minimo = num\n",
    "    return segundo_minimo\n",
    "\n",
    "datos = [5, 8, 2, 10, 3]\n",
    "segundo_minimo = encontrar_segundo_minimo(datos)\n",
    "print(\"El segundo valor más pequeño es:\", segundo_minimo)"
   ]
  },
  {
   "cell_type": "markdown",
   "metadata": {},
   "source": [
    "11. **Dado un DataFrame con información de ventas, calcula el número de ventas por mes y categoría en forma de tabla pivotante.**"
   ]
  },
  {
   "cell_type": "code",
   "execution_count": 11,
   "metadata": {},
   "outputs": [
    {
     "name": "stdout",
     "output_type": "stream",
     "text": [
      "Mes          1    2\n",
      "Categoría          \n",
      "A          100  150\n",
      "B          200  300\n"
     ]
    }
   ],
   "source": [
    "import pandas as pd\n",
    "\n",
    "data = {'Fecha': ['2022-01-01', '2022-01-01', '2022-02-01', '2022-02-01'],\n",
    "        'Categoría': ['A', 'B', 'A', 'B'],\n",
    "        'Ventas': [100, 200, 150, 300]}\n",
    "df = pd.DataFrame(data)\n",
    "\n",
    "df['Fecha'] = pd.to_datetime(df['Fecha'])\n",
    "df['Mes'] = df['Fecha'].dt.month\n",
    "\n",
    "tabla_pivotante = pd.pivot_table(df, values='Ventas', index='Categoría', columns='Mes', aggfunc='sum')\n",
    "print(tabla_pivotante)"
   ]
  },
  {
   "cell_type": "markdown",
   "metadata": {},
   "source": [
    "12. **Dado un conjunto de datos en forma de lista, elimina los valores duplicados y ordena los elementos restantes de manera descendente.**"
   ]
  },
  {
   "cell_type": "code",
   "execution_count": 13,
   "metadata": {},
   "outputs": [
    {
     "name": "stdout",
     "output_type": "stream",
     "text": [
      "Datos únicos ordenados en forma descendente: [10, 8, 5, 3, 2]\n"
     ]
    }
   ],
   "source": [
    "def eliminar_duplicados_ordenar_descendente(datos):\n",
    "    datos_unicos = list(set(datos))\n",
    "    datos_unicos.sort(reverse=True)\n",
    "    return datos_unicos\n",
    "\n",
    "datos = [5, 8, 2, 10, 3, 5, 10, 8, 2]\n",
    "datos_ordenados = eliminar_duplicados_ordenar_descendente(datos)\n",
    "print(\"Datos únicos ordenados en forma descendente:\", datos_ordenados)"
   ]
  },
  {
   "cell_type": "markdown",
   "metadata": {},
   "source": [
    "13. **Dado un DataFrame con información de ventas, calcula el promedio de ventas por mes y categoría.**"
   ]
  },
  {
   "cell_type": "code",
   "execution_count": 14,
   "metadata": {},
   "outputs": [
    {
     "name": "stdout",
     "output_type": "stream",
     "text": [
      "Categoría  Mes\n",
      "A          1      100.0\n",
      "           2      150.0\n",
      "B          1      200.0\n",
      "           2      300.0\n",
      "Name: Ventas, dtype: float64\n"
     ]
    }
   ],
   "source": [
    "import pandas as pd\n",
    "\n",
    "data = {'Fecha': ['2022-01-01', '2022-01-01', '2022-02-01', '2022-02-01'],\n",
    "        'Categoría': ['A', 'B', 'A', 'B'],\n",
    "        'Ventas': [100, 200, 150, 300]}\n",
    "df = pd.DataFrame(data)\n",
    "\n",
    "df['Fecha'] = pd.to_datetime(df['Fecha'])\n",
    "df['Mes'] = df['Fecha'].dt.month\n",
    "\n",
    "promedio_ventas = df.groupby(['Categoría', 'Mes'])['Ventas'].mean()\n",
    "print(promedio_ventas)"
   ]
  },
  {
   "cell_type": "markdown",
   "metadata": {},
   "source": [
    "14. **Dado un Dataframe con información de ventas, lee el archivo y encuentra el producto más vendido.**"
   ]
  },
  {
   "cell_type": "code",
   "execution_count": 15,
   "metadata": {},
   "outputs": [
    {
     "name": "stdout",
     "output_type": "stream",
     "text": [
      "El producto más vendido es: A\n"
     ]
    }
   ],
   "source": [
    "import pandas as pd\n",
    "\n",
    "data = {'Producto': ['A', 'B', 'A', 'B', 'A', 'C', 'C', 'B'],\n",
    "        'Ventas': [100, 200, 150, 300, 250, 50, 100, 200]}\n",
    "df = pd.DataFrame(data)\n",
    "\n",
    "producto_mas_vendido = df['Producto'].value_counts().idxmax()\n",
    "print(\"El producto más vendido es:\", producto_mas_vendido)"
   ]
  },
  {
   "cell_type": "markdown",
   "metadata": {},
   "source": [
    "15. **Dado un conjunto de datos en forma de lista, encuentra los elementos que se repiten más de una vez.**"
   ]
  },
  {
   "cell_type": "code",
   "execution_count": 16,
   "metadata": {},
   "outputs": [
    {
     "name": "stdout",
     "output_type": "stream",
     "text": [
      "Elementos repetidos: [5, 10, 8, 2]\n"
     ]
    }
   ],
   "source": [
    "def encontrar_elementos_repetidos(datos):\n",
    "    frecuencia = {}\n",
    "    elementos_repetidos = []\n",
    "    for num in datos:\n",
    "        if num in frecuencia:\n",
    "            frecuencia[num] += 1\n",
    "            if frecuencia[num] == 2:\n",
    "                elementos_repetidos.append(num)\n",
    "        else:\n",
    "            frecuencia[num] = 1\n",
    "    return elementos_repetidos\n",
    "\n",
    "datos = [5, 8, 2, 10, 3, 5, 10, 8, 2]\n",
    "elementos_repetidos = encontrar_elementos_repetidos(datos)\n",
    "print(\"Elementos repetidos:\", elementos_repetidos)"
   ]
  },
  {
   "cell_type": "markdown",
   "metadata": {},
   "source": [
    "16. **Dado un DataFrame con información de ventas, calcula el total de ventas por mes y año en forma de tabla pivotante.**"
   ]
  },
  {
   "cell_type": "code",
   "execution_count": 17,
   "metadata": {},
   "outputs": [
    {
     "name": "stdout",
     "output_type": "stream",
     "text": [
      "Mes     1    2\n",
      "Año           \n",
      "2022  100  200\n",
      "2023  150  300\n"
     ]
    }
   ],
   "source": [
    "import pandas as pd\n",
    "\n",
    "data = {'Fecha': ['2022-01-01', '2022-02-01', '2023-01-01', '2023-02-01'],\n",
    "        'Ventas': [100, 200, 150, 300]}\n",
    "df = pd.DataFrame(data)\n",
    "\n",
    "df['Fecha'] = pd.to_datetime(df['Fecha'])\n",
    "df['Año'] = df['Fecha'].dt.year\n",
    "df['Mes'] = df['Fecha'].dt.month\n",
    "\n",
    "tabla_pivotante = pd.pivot_table(df, values='Ventas', index='Año', columns='Mes', aggfunc='sum')\n",
    "print(tabla_pivotante)"
   ]
  },
  {
   "cell_type": "markdown",
   "metadata": {},
   "source": [
    "17. **Dado un conjunto de datos en forma de lista, encuentra los números que son divisibles por 3 y 5.**"
   ]
  },
  {
   "cell_type": "code",
   "execution_count": 18,
   "metadata": {},
   "outputs": [
    {
     "name": "stdout",
     "output_type": "stream",
     "text": [
      "Números divisibles por 3 y 5: [15, 30]\n"
     ]
    }
   ],
   "source": [
    "def encontrar_divisibles(datos):\n",
    "    divisibles = []\n",
    "    for num in datos:\n",
    "        if num % 3 == 0 and num % 5 == 0:\n",
    "            divisibles.append(num)\n",
    "    return divisibles\n",
    "\n",
    "datos = [3, 5, 10, 15, 20, 25, 30]\n",
    "numeros_divisibles = encontrar_divisibles(datos)\n",
    "print(\"Números divisibles por 3 y 5:\", numeros_divisibles)"
   ]
  },
  {
   "cell_type": "markdown",
   "metadata": {},
   "source": [
    "18. **Dado un DataFrame con información de ventas, calcula el porcentaje de crecimiento de ventas respecto al mes anterior para cada categoría.**"
   ]
  },
  {
   "cell_type": "code",
   "execution_count": 19,
   "metadata": {},
   "outputs": [
    {
     "name": "stdout",
     "output_type": "stream",
     "text": [
      "       Fecha Categoría  Ventas  Mes  Ventas Anterior  Crecimiento\n",
      "0 2022-01-01         A     100    1              NaN          NaN\n",
      "1 2022-02-01         A     200    2            100.0        100.0\n",
      "2 2022-03-01         B     150    3              NaN          NaN\n",
      "3 2022-04-01         B     300    4            150.0        100.0\n"
     ]
    }
   ],
   "source": [
    "import pandas as pd\n",
    "\n",
    "data = {'Fecha': ['2022-01-01', '2022-02-01', '2022-03-01', '2022-04-01'],\n",
    "        'Categoría': ['A', 'A', 'B', 'B'],\n",
    "        'Ventas': [100, 200, 150, 300]}\n",
    "df = pd.DataFrame(data)\n",
    "\n",
    "df['Fecha'] = pd.to_datetime(df['Fecha'])\n",
    "df['Mes'] = df['Fecha'].dt.month\n",
    "\n",
    "df['Ventas Anterior'] = df.groupby('Categoría')['Ventas'].shift(1)\n",
    "df['Crecimiento'] = (df['Ventas'] - df['Ventas Anterior']) / df['Ventas Anterior'] * 100\n",
    "\n",
    "print(df)"
   ]
  },
  {
   "cell_type": "markdown",
   "metadata": {},
   "source": [
    "19. **Dado un Dataframe con información de ventas, lee el archivo y encuentra el promedio de ventas por día de la semana.**"
   ]
  },
  {
   "cell_type": "code",
   "execution_count": 20,
   "metadata": {},
   "outputs": [
    {
     "name": "stdout",
     "output_type": "stream",
     "text": [
      "Día de la Semana\n",
      "0    150.0\n",
      "1    300.0\n",
      "2    250.0\n",
      "5    100.0\n",
      "6    200.0\n",
      "Name: Ventas, dtype: float64\n"
     ]
    }
   ],
   "source": [
    "import pandas as pd\n",
    "\n",
    "data = {'Fecha': ['2022-01-01', '2022-01-02', '2022-01-03', '2022-01-04', '2022-01-05'],\n",
    "        'Ventas': [100, 200, 150, 300, 250]}\n",
    "df = pd.DataFrame(data)\n",
    "\n",
    "df['Fecha'] = pd.to_datetime(df['Fecha'])\n",
    "df['Día de la Semana'] = df['Fecha'].dt.dayofweek\n",
    "\n",
    "promedio_ventas_por_dia = df.groupby('Día de la Semana')['Ventas'].mean()\n",
    "print(promedio_ventas_por_dia)"
   ]
  },
  {
   "cell_type": "markdown",
   "metadata": {},
   "source": [
    "20. **Dado un conjunto de datos en forma de lista, encuentra la suma de los elementos en posiciones pares.**"
   ]
  },
  {
   "cell_type": "code",
   "execution_count": 21,
   "metadata": {},
   "outputs": [
    {
     "name": "stdout",
     "output_type": "stream",
     "text": [
      "La suma de los elementos en posiciones pares es: 25\n"
     ]
    }
   ],
   "source": [
    "def suma_posiciones_pares(datos):\n",
    "    suma = 0\n",
    "    for i in range(len(datos)):\n",
    "        if i % 2 == 0:\n",
    "            suma += datos[i]\n",
    "    return suma\n",
    "\n",
    "datos = [1, 2, 3, 4, 5, 6, 7, 8, 9, 10]\n",
    "suma_pares = suma_posiciones_pares(datos)\n",
    "print(\"La suma de los elementos en posiciones pares es:\", suma_pares)"
   ]
  },
  {
   "cell_type": "markdown",
   "metadata": {},
   "source": [
    "| **Inicio** | **atrás 2** |\n",
    "|----------- |-------------- |\n",
    "| [🏠](../../README.md) | [⏪](./2.Ejercicios_Python.ipynb)|"
   ]
  }
 ],
 "metadata": {
  "kernelspec": {
   "display_name": "base",
   "language": "python",
   "name": "python3"
  },
  "language_info": {
   "codemirror_mode": {
    "name": "ipython",
    "version": 3
   },
   "file_extension": ".py",
   "mimetype": "text/x-python",
   "name": "python",
   "nbconvert_exporter": "python",
   "pygments_lexer": "ipython3",
   "version": "3.9.12"
  },
  "orig_nbformat": 4
 },
 "nbformat": 4,
 "nbformat_minor": 2
}
