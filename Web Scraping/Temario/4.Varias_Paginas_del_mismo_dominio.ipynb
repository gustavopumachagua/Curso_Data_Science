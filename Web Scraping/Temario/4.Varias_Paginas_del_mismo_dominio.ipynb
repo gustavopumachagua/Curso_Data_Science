{
 "cells": [
  {
   "attachments": {},
   "cell_type": "markdown",
   "metadata": {},
   "source": [
    "| **Inicio** | **atrás 3** | **Siguiente 5** |\n",
    "|----------- |-------------- |---------------|\n",
    "| [🏠](../../README.md) | [⏪](./3.Una_sola_pagina_estatica.ipynb)| [⏩](./5.Paginas_Dinamicas.ipynb)|"
   ]
  },
  {
   "attachments": {},
   "cell_type": "markdown",
   "metadata": {},
   "source": [
    "# **4. Varias Paginas del mismo dominio**"
   ]
  },
  {
   "attachments": {},
   "cell_type": "markdown",
   "metadata": {},
   "source": [
    "## **Introducción: Scraping Vertical y Horizontal**"
   ]
  },
  {
   "attachments": {},
   "cell_type": "markdown",
   "metadata": {},
   "source": [
    "El scraping vertical y horizontal se refiere a dos enfoques diferentes para el proceso de extracción de datos mediante web scraping. El scraping vertical se centra en extraer datos de una sola página web, mientras que el scraping horizontal implica la extracción de datos de múltiples páginas web enlazadas. A continuación, te explicaré cómo ejecutar Scrapy sin la terminal en entornos como Jupyter Notebook, Google Colab o similares, utilizando ejemplos tanto de scraping vertical como horizontal.\n",
    "\n",
    "* **Scraping Vertical:**\n",
    "\n",
    "1. **Crear un nuevo proyecto Scrapy y un spider:**\n",
    "\n",
    "Sigue los pasos mencionados anteriormente para crear un nuevo proyecto `Scrapy` y un `spider` dentro de ese proyecto.\n",
    "\n",
    "2. **Definir el spider para el scraping vertical:**\n",
    "\n",
    "Dentro del `spider`, define el punto de inicio (URL inicial) y el método `parse()` para extraer los datos deseados de una sola página."
   ]
  },
  {
   "cell_type": "code",
   "execution_count": 2,
   "metadata": {},
   "outputs": [],
   "source": [
    "import scrapy\n",
    "from scrapy.crawler import CrawlerProcess\n",
    "from scrapy.spiders import Spider\n",
    "from scrapy.http import Request"
   ]
  },
  {
   "cell_type": "code",
   "execution_count": 3,
   "metadata": {},
   "outputs": [],
   "source": [
    "class VerticalSpider(scrapy.Spider):\n",
    "    name = 'vertical_spider'\n",
    "    start_urls = ['https://naruto-official.com/es']\n",
    "\n",
    "    def parse(self, response):\n",
    "        # Lógica de extracción de datos de una sola página\n",
    "        # ..."
   ]
  },
  {
   "attachments": {},
   "cell_type": "markdown",
   "metadata": {},
   "source": [
    "3. **Ejecutar el scraping vertical:**\n",
    "\n",
    "Utiliza el módulo `CrawlerProcess` de `Scrapy` para ejecutar el `scraping` vertical en tu entorno."
   ]
  },
  {
   "cell_type": "code",
   "execution_count": 4,
   "metadata": {},
   "outputs": [
    {
     "name": "stderr",
     "output_type": "stream",
     "text": [
      "2023-06-16 20:12:14 [scrapy.utils.log] INFO: Scrapy 2.6.1 started (bot: scrapybot)\n",
      "2023-06-16 20:12:14 [scrapy.utils.log] INFO: Versions: lxml 4.8.0.0, libxml2 2.9.12, cssselect 1.2.0, parsel 1.6.0, w3lib 1.21.0, Twisted 22.2.0, Python 3.9.12 (main, Apr  5 2022, 06:56:58) - [GCC 7.5.0], pyOpenSSL 21.0.0 (OpenSSL 1.1.1n  15 Mar 2022), cryptography 3.4.8, Platform Linux-5.15.90.1-microsoft-standard-WSL2-x86_64-with-glibc2.31\n",
      "2023-06-16 20:12:14 [scrapy.crawler] INFO: Overridden settings:\n",
      "{}\n",
      "2023-06-16 20:12:14 [scrapy.utils.log] DEBUG: Using reactor: twisted.internet.epollreactor.EPollReactor\n",
      "2023-06-16 20:12:14 [scrapy.extensions.telnet] INFO: Telnet Password: 452b2b666a90b919\n",
      "2023-06-16 20:12:14 [scrapy.middleware] INFO: Enabled extensions:\n",
      "['scrapy.extensions.corestats.CoreStats',\n",
      " 'scrapy.extensions.telnet.TelnetConsole',\n",
      " 'scrapy.extensions.memusage.MemoryUsage',\n",
      " 'scrapy.extensions.logstats.LogStats']\n",
      "2023-06-16 20:12:15 [scrapy.middleware] INFO: Enabled downloader middlewares:\n",
      "['scrapy.downloadermiddlewares.httpauth.HttpAuthMiddleware',\n",
      " 'scrapy.downloadermiddlewares.downloadtimeout.DownloadTimeoutMiddleware',\n",
      " 'scrapy.downloadermiddlewares.defaultheaders.DefaultHeadersMiddleware',\n",
      " 'scrapy.downloadermiddlewares.useragent.UserAgentMiddleware',\n",
      " 'scrapy.downloadermiddlewares.retry.RetryMiddleware',\n",
      " 'scrapy.downloadermiddlewares.redirect.MetaRefreshMiddleware',\n",
      " 'scrapy.downloadermiddlewares.httpcompression.HttpCompressionMiddleware',\n",
      " 'scrapy.downloadermiddlewares.redirect.RedirectMiddleware',\n",
      " 'scrapy.downloadermiddlewares.cookies.CookiesMiddleware',\n",
      " 'scrapy.downloadermiddlewares.httpproxy.HttpProxyMiddleware',\n",
      " 'scrapy.downloadermiddlewares.stats.DownloaderStats']\n",
      "2023-06-16 20:12:15 [scrapy.middleware] INFO: Enabled spider middlewares:\n",
      "['scrapy.spidermiddlewares.httperror.HttpErrorMiddleware',\n",
      " 'scrapy.spidermiddlewares.offsite.OffsiteMiddleware',\n",
      " 'scrapy.spidermiddlewares.referer.RefererMiddleware',\n",
      " 'scrapy.spidermiddlewares.urllength.UrlLengthMiddleware',\n",
      " 'scrapy.spidermiddlewares.depth.DepthMiddleware']\n",
      "2023-06-16 20:12:15 [scrapy.middleware] INFO: Enabled item pipelines:\n",
      "[]\n",
      "2023-06-16 20:12:15 [scrapy.core.engine] INFO: Spider opened\n",
      "2023-06-16 20:12:16 [scrapy.extensions.logstats] INFO: Crawled 0 pages (at 0 pages/min), scraped 0 items (at 0 items/min)\n",
      "2023-06-16 20:12:16 [scrapy.extensions.telnet] INFO: Telnet console listening on 127.0.0.1:6023\n",
      "2023-06-16 20:12:17 [scrapy.core.engine] DEBUG: Crawled (200) <GET https://naruto-official.com/es> (referer: None)\n",
      "2023-06-16 20:12:17 [scrapy.core.scraper] ERROR: Spider error processing <GET https://naruto-official.com/es> (referer: None)\n",
      "Traceback (most recent call last):\n",
      "  File \"/home/puma/anaconda3/lib/python3.9/site-packages/twisted/internet/defer.py\", line 857, in _runCallbacks\n",
      "    current.result = callback(  # type: ignore[misc]\n",
      "  File \"/home/puma/anaconda3/lib/python3.9/site-packages/scrapy/spiders/__init__.py\", line 67, in _parse\n",
      "    return self.parse(response, **kwargs)\n",
      "  File \"/home/puma/anaconda3/lib/python3.9/site-packages/scrapy/spiders/__init__.py\", line 70, in parse\n",
      "    raise NotImplementedError(f'{self.__class__.__name__}.parse callback is not defined')\n",
      "NotImplementedError: VerticalSpider.parse callback is not defined\n",
      "2023-06-16 20:12:17 [scrapy.core.engine] INFO: Closing spider (finished)\n",
      "2023-06-16 20:12:17 [scrapy.statscollectors] INFO: Dumping Scrapy stats:\n",
      "{'downloader/request_bytes': 225,\n",
      " 'downloader/request_count': 1,\n",
      " 'downloader/request_method_count/GET': 1,\n",
      " 'downloader/response_bytes': 14784,\n",
      " 'downloader/response_count': 1,\n",
      " 'downloader/response_status_count/200': 1,\n",
      " 'elapsed_time_seconds': 1.287444,\n",
      " 'finish_reason': 'finished',\n",
      " 'finish_time': datetime.datetime(2023, 6, 17, 1, 12, 17, 955599),\n",
      " 'httpcompression/response_bytes': 104333,\n",
      " 'httpcompression/response_count': 1,\n",
      " 'log_count/DEBUG': 2,\n",
      " 'log_count/ERROR': 1,\n",
      " 'log_count/INFO': 10,\n",
      " 'memusage/max': 226881536,\n",
      " 'memusage/startup': 226881536,\n",
      " 'response_received_count': 1,\n",
      " 'scheduler/dequeued': 1,\n",
      " 'scheduler/dequeued/memory': 1,\n",
      " 'scheduler/enqueued': 1,\n",
      " 'scheduler/enqueued/memory': 1,\n",
      " 'spider_exceptions/NotImplementedError': 1,\n",
      " 'start_time': datetime.datetime(2023, 6, 17, 1, 12, 16, 668155)}\n",
      "2023-06-16 20:12:17 [scrapy.core.engine] INFO: Spider closed (finished)\n"
     ]
    }
   ],
   "source": [
    "from scrapy.crawler import CrawlerProcess\n",
    "\n",
    "process = CrawlerProcess()\n",
    "process.crawl(VerticalSpider)\n",
    "process.start()"
   ]
  },
  {
   "attachments": {},
   "cell_type": "markdown",
   "metadata": {},
   "source": [
    "Scrapy realizará las solicitudes a la URL especificada, analizará la respuesta y ejecutará el método `parse()` para extraer los datos de la página.\n",
    "\n",
    "* **Scraping Horizontal:**\n",
    "\n",
    "1. **Crear un nuevo proyecto Scrapy y un spider:**\n",
    "\n",
    "Al igual que en el scraping vertical, crea un nuevo proyecto Scrapy y un spider dentro de ese proyecto.\n",
    "\n",
    "2. **Definir el spider para el scraping horizontal:**\n",
    "\n",
    "En este caso, el spider debe estar configurado para seguir los enlaces y extraer datos de múltiples páginas enlazadas."
   ]
  },
  {
   "cell_type": "code",
   "execution_count": 6,
   "metadata": {},
   "outputs": [],
   "source": [
    "import scrapy\n",
    "from scrapy.crawler import CrawlerProcess\n",
    "from scrapy.spiders import Spider, Rule\n",
    "from scrapy.linkextractors import LinkExtractor"
   ]
  },
  {
   "cell_type": "code",
   "execution_count": 7,
   "metadata": {},
   "outputs": [],
   "source": [
    "class HorizontalSpider(scrapy.Spider):\n",
    "    name = 'horizontal_spider'\n",
    "    start_urls = ['https://naruto-official.com/es']\n",
    "    allowed_domains = ['naruto-official.com']\n",
    "    rules = [Rule(LinkExtractor(), callback='parse_page', follow=True)]\n",
    "\n",
    "    def parse_page(self, response):\n",
    "        # Lógica de extracción de datos de cada página\n",
    "        # ..."
   ]
  },
  {
   "attachments": {},
   "cell_type": "markdown",
   "metadata": {},
   "source": [
    "El spider utiliza el `LinkExtractor` para encontrar enlaces en las páginas y la regla `Rule` para seguir esos enlaces y ejecutar el método `parse_page()` para extraer los datos de cada página.\n",
    "\n",
    "3. **Ejecutar el scraping horizontal:**\n",
    "\n",
    "Al igual que en el scraping vertical, utiliza el módulo `CrawlerProcess` de Scrapy para ejecutar el scraping horizontal."
   ]
  },
  {
   "cell_type": "code",
   "execution_count": null,
   "metadata": {},
   "outputs": [],
   "source": [
    "from scrapy.crawler import CrawlerProcess\n",
    "\n",
    "process = CrawlerProcess()\n",
    "process.crawl(HorizontalSpider)\n",
    "process.start()"
   ]
  },
  {
   "attachments": {},
   "cell_type": "markdown",
   "metadata": {},
   "source": [
    "Scrapy realizará las solicitudes a la URL inicial, seguirá los enlaces, analizará las respuestas y ejecutará el método `parse_page()` para extraer los datos de cada página enlazada.\n",
    "\n",
    "Al ejecutar el código, Scrapy ejecutará el scraping vertical o horizontal según el spider que hayas configurado. Recuerda personalizar la lógica dentro de los métodos `parse()` o `parse_page()` según tus necesidades de extracción de datos.\n",
    "\n",
    "Estos ejemplos te permitirán ejecutar Scrapy sin la terminal en entornos como Jupyter Notebook, Google Colab o similares, y realizar scraping vertical o horizontal según tus requerimientos. Asegúrate de tener en cuenta las limitaciones y consideraciones de recursos y tiempo de ejecución de tu entorno específico."
   ]
  },
  {
   "attachments": {},
   "cell_type": "markdown",
   "metadata": {},
   "source": [
    "## **Web Scraping Vertical (Extracción de TRIPADVISOR con Scrapy PT. 1)**"
   ]
  },
  {
   "attachments": {},
   "cell_type": "markdown",
   "metadata": {},
   "source": [
    "Para ejecutar Scrapy sin utilizar la terminal y trabajar con Jupyter Notebook, Google Colab u otro entorno similar, puedes utilizar la biblioteca scrapydo. A continuación, te explicaré los pasos para extraer datos verticales de `TripAdvisor` utilizando Scrapy en un entorno sin terminal:\n",
    "\n",
    "1. **Instalar las bibliotecas necesarias:**\n",
    "\n",
    "Asegúrate de tener instaladas las bibliotecas `scrapy` y `scrapydo`. Puedes instalarlas ejecutando el siguiente comando en una celda de código:"
   ]
  },
  {
   "attachments": {},
   "cell_type": "markdown",
   "metadata": {},
   "source": [
    "`!pip install scrapy scrapydo`"
   ]
  },
  {
   "attachments": {},
   "cell_type": "markdown",
   "metadata": {},
   "source": [
    "2. **Importar las bibliotecas y configurar scrapydo:**\n",
    "\n",
    "En la primera celda de código, importa las bibliotecas necesarias y configura scrapydo para trabajar con Jupyter Notebook o Google Colab:"
   ]
  },
  {
   "cell_type": "code",
   "execution_count": null,
   "metadata": {},
   "outputs": [
    {
     "name": "stderr",
     "output_type": "stream",
     "text": [
      "Exception in thread CrochetReactor:\n",
      "Traceback (most recent call last):\n",
      "  File \"/home/puma/anaconda3/lib/python3.9/threading.py\", line 973, in _bootstrap_inner\n",
      "    self.run()\n",
      "  File \"/home/puma/anaconda3/lib/python3.9/threading.py\", line 910, in run\n",
      "    self._target(*self._args, **self._kwargs)\n",
      "  File \"/home/puma/anaconda3/lib/python3.9/site-packages/crochet/_eventloop.py\", line 372, in <lambda>\n",
      "    target=lambda: self._reactor.run(installSignalHandlers=False),\n",
      "  File \"/home/puma/anaconda3/lib/python3.9/site-packages/twisted/internet/base.py\", line 1314, in run\n"
     ]
    },
    {
     "name": "stderr",
     "output_type": "stream",
     "text": [
      "    self.startRunning(installSignalHandlers=installSignalHandlers)\n",
      "  File \"/home/puma/anaconda3/lib/python3.9/site-packages/twisted/internet/base.py\", line 1296, in startRunning\n",
      "    ReactorBase.startRunning(cast(ReactorBase, self))\n",
      "  File \"/home/puma/anaconda3/lib/python3.9/site-packages/twisted/internet/base.py\", line 840, in startRunning\n",
      "    raise error.ReactorNotRestartable()\n",
      "twisted.internet.error.ReactorNotRestartable\n"
     ]
    }
   ],
   "source": [
    "import scrapy\n",
    "import scrapydo\n",
    "\n",
    "scrapydo.setup()"
   ]
  },
  {
   "attachments": {},
   "cell_type": "markdown",
   "metadata": {},
   "source": [
    "3. **Definir el spider de Scrapy:**\n",
    "\n",
    "Crea una clase que herede de `scrapy.Spider` y defina la lógica de extracción de datos dentro del método `parse()`:"
   ]
  },
  {
   "cell_type": "code",
   "execution_count": 11,
   "metadata": {},
   "outputs": [],
   "source": [
    "class TripAdvisorSpider(scrapy.Spider):\n",
    "    name = 'tripadvisor_spider'\n",
    "    start_urls = ['https://www.tripadvisor.com/Attractions-g294073-Activities-Quito_Pichincha_Province.html']\n",
    "\n",
    "    def parse(self, response):\n",
    "        # Lógica de extracción de datos de la página\n",
    "        # ..."
   ]
  },
  {
   "attachments": {},
   "cell_type": "markdown",
   "metadata": {},
   "source": [
    "Asegúrate de reemplazar la URL en `start_urls` con la página de `TripAdvisor` que deseas extraer.\n",
    "\n",
    "4. **Ejecutar el spider:**\n",
    "\n",
    "En la siguiente celda de código, utiliza `scrapydo.run_spider()` para ejecutar el spider de Scrapy y obtener los resultados:"
   ]
  },
  {
   "cell_type": "code",
   "execution_count": null,
   "metadata": {},
   "outputs": [],
   "source": [
    "scrapydo.run_spider(TripAdvisorSpider)"
   ]
  },
  {
   "attachments": {},
   "cell_type": "markdown",
   "metadata": {},
   "source": [
    "Esto ejecutará el spider y comenzará la extracción de datos de `TripAdvisor`.\n",
    "\n",
    "5. **Procesar los resultados:**\n",
    "\n",
    "Después de ejecutar el spider, puedes acceder a los datos extraídos dentro del método `parse()` y procesarlos según tus necesidades. Puedes imprimirlos en la salida, guardarlos en un archivo CSV o JSON, o realizar cualquier otra operación deseada.\n",
    "\n",
    "Con estos pasos, podrás ejecutar Scrapy en un entorno como Jupyter Notebook o Google Colab sin utilizar la terminal y extraer datos verticales de TripAdvisor. Recuerda personalizar la lógica de extracción de datos dentro del método `parse()` para adaptarla a tus necesidades específicas."
   ]
  },
  {
   "attachments": {},
   "cell_type": "markdown",
   "metadata": {},
   "source": [
    "## **Scrapy Map Compose (Extracción de TRIPADVISOR con Scrapy PT.2)**"
   ]
  },
  {
   "attachments": {},
   "cell_type": "markdown",
   "metadata": {},
   "source": [
    "Para ejecutar Scrapy sin utilizar la terminal y trabajar con Jupyter Notebook, Google Colab u otro entorno similar, y realizar una extracción de datos de TripAdvisor utilizando Scrapy Map Compose, puedes seguir los siguientes pasos:\n",
    "\n",
    "1. **Instalar las bibliotecas necesarias:**\n",
    "\n",
    "Asegúrate de tener instaladas las bibliotecas `scrapy`, `scrapydo` y `scrapy-map-compose`. Puedes instalarlas ejecutando el siguiente comando en una celda de código:"
   ]
  },
  {
   "attachments": {},
   "cell_type": "markdown",
   "metadata": {},
   "source": [
    "`!pip install scrapy scrapydo scrapy-map-compose`"
   ]
  },
  {
   "attachments": {},
   "cell_type": "markdown",
   "metadata": {},
   "source": [
    "2. **Importar las bibliotecas y configurar scrapydo:**\n",
    "\n",
    "En la primera celda de código, importa las bibliotecas necesarias y configura scrapydo para trabajar con Jupyter Notebook o Google Colab:"
   ]
  },
  {
   "cell_type": "code",
   "execution_count": null,
   "metadata": {},
   "outputs": [],
   "source": [
    "import scrapy\n",
    "import scrapydo\n",
    "from scrapy_map_compose import MapCompose\n",
    "\n",
    "scrapydo.setup()"
   ]
  },
  {
   "attachments": {},
   "cell_type": "markdown",
   "metadata": {},
   "source": [
    "3. **Definir el spider de Scrapy:**\n",
    "\n",
    "Crea una clase que herede de `scrapy.Spider` y defina la lógica de extracción de datos dentro del método `parse()` utilizando `Scrapy Map Compose`:"
   ]
  },
  {
   "cell_type": "code",
   "execution_count": 14,
   "metadata": {},
   "outputs": [],
   "source": [
    "class TripAdvisorSpider(scrapy.Spider):\n",
    "    name = 'tripadvisor_spider'\n",
    "    start_urls = ['https://www.tripadvisor.com/Attractions-g294073-Activities-Quito_Pichincha_Province.html']\n",
    "\n",
    "    def parse(self, response):\n",
    "        # Extracción de datos utilizando Scrapy Map Compose\n",
    "        titles = response.css('h3.title::text').getall()\n",
    "        descriptions = response.css('div.description::text').getall()\n",
    "\n",
    "        yield {\n",
    "            'title': MapCompose(str.strip)(titles),\n",
    "            'description': MapCompose(str.strip)(descriptions)\n",
    "        }"
   ]
  },
  {
   "attachments": {},
   "cell_type": "markdown",
   "metadata": {},
   "source": [
    "Asegúrate de reemplazar la URL en `start_urls` con la página de `TripAdvisor` que deseas extraer.\n",
    "\n",
    "4. **Ejecutar el spider:**\n",
    "\n",
    "En la siguiente celda de código, utiliza `scrapydo.run_spider()` para ejecutar el spider de Scrapy y obtener los resultados:"
   ]
  },
  {
   "cell_type": "code",
   "execution_count": null,
   "metadata": {},
   "outputs": [],
   "source": [
    "scrapydo.run_spider(TripAdvisorSpider)"
   ]
  },
  {
   "attachments": {},
   "cell_type": "markdown",
   "metadata": {},
   "source": [
    "Esto ejecutará el spider y comenzará la extracción de datos de `TripAdvisor` utilizando `Scrapy Map Compose`.\n",
    "\n",
    "5. **Procesar los resultados:**\n",
    "\n",
    "Después de ejecutar el spider, puedes acceder a los datos extraídos dentro del método `parse()` y procesarlos según tus necesidades. En este ejemplo, se utiliza `MapCompose(str.strip)` para aplicar una función de limpieza a los títulos y descripciones extraídas. Puedes modificar esta lógica de procesamiento según tus necesidades.\n",
    "\n",
    "Con estos pasos, podrás ejecutar Scrapy en un entorno como Jupyter Notebook o Google Colab sin utilizar la terminal y realizar una extracción de datos de TripAdvisor utilizando Scrapy Map Compose. Recuerda personalizar la lógica de extracción de datos dentro del método `parse()` y el procesamiento de resultados según tus necesidades específicas."
   ]
  },
  {
   "attachments": {},
   "cell_type": "markdown",
   "metadata": {},
   "source": [
    "## **Web Scraping Horizontal y Vertical (Extracción de MERCADO LIBRE con Scrapy)**"
   ]
  },
  {
   "attachments": {},
   "cell_type": "markdown",
   "metadata": {},
   "source": [
    "El web scraping horizontal y vertical se refiere a dos enfoques diferentes para extraer datos de un sitio web utilizando Scrapy. En el web scraping horizontal, se recopilan datos de varias páginas dentro de un mismo sitio web, mientras que en el web scraping vertical se recopilan datos de diferentes sitios web que comparten una estructura similar. A continuación, te daré una explicación detallada de cada uno de ellos junto con ejemplos utilizando Scrapy para extraer datos de Mercado Libre.\n",
    "\n",
    "* **Web Scraping Horizontal:**\n",
    "\n",
    "El web scraping horizontal implica extraer datos de varias páginas dentro de un mismo sitio web. Por ejemplo, si deseas obtener información de varios productos en Mercado Libre, puedes recorrer las diferentes páginas de resultados de búsqueda y extraer los detalles de cada producto. Aquí tienes un ejemplo de cómo hacerlo con Scrapy:\n",
    "\n",
    "1. **Definir el spider de Scrapy:**\n",
    "\n",
    "Crea una clase que herede de `scrapy.Spider` y defina la lógica de extracción de datos dentro del método `parse()`:"
   ]
  },
  {
   "cell_type": "code",
   "execution_count": 16,
   "metadata": {},
   "outputs": [],
   "source": [
    "class MercadoLibreSpider(scrapy.Spider):\n",
    "    name = 'mercado_libre_spider'\n",
    "    start_urls = ['https://www.mercadolibre.com']\n",
    "\n",
    "    def parse(self, response):\n",
    "        # Extraer datos de la página actual\n",
    "        # ...\n",
    "\n",
    "        # Seguir a la siguiente página\n",
    "        next_page_url = response.css('a.next-page-link::attr(href)').get()\n",
    "        if next_page_url:\n",
    "            yield response.follow(next_page_url, callback=self.parse)"
   ]
  },
  {
   "attachments": {},
   "cell_type": "markdown",
   "metadata": {},
   "source": [
    "En este ejemplo, se define un spider llamado `MercadoLibreSpider` con una URL inicial de Mercado Libre. En el método `parse()`, se extraen los datos de la página actual y se busca el enlace hacia la siguiente página de resultados. Si se encuentra un enlace, se utiliza `response.follow()` para seguirlo y llamar nuevamente al método `parse()` para extraer datos de la siguiente página.\n",
    "\n",
    "2. **Definir la lógica de extracción de datos:**\n",
    "\n",
    "Dentro del método `parse()`, puedes utilizar selectores `CSS` o `XPath` para extraer los datos deseados de la página actual:"
   ]
  },
  {
   "cell_type": "code",
   "execution_count": 17,
   "metadata": {},
   "outputs": [],
   "source": [
    "def parse(self, response):\n",
    "    # Extraer datos de la página actual\n",
    "    product_titles = response.css('.product-title::text').getall()\n",
    "    product_prices = response.css('.product-price::text').getall()\n",
    "\n",
    "    for title, price in zip(product_titles, product_prices):\n",
    "        yield {\n",
    "            'title': title,\n",
    "            'price': price\n",
    "        }\n",
    "\n",
    "    # Seguir a la siguiente página\n",
    "    next_page_url = response.css('a.next-page-link::attr(href)').get()\n",
    "    if next_page_url:\n",
    "        yield response.follow(next_page_url, callback=self.parse)"
   ]
  },
  {
   "attachments": {},
   "cell_type": "markdown",
   "metadata": {},
   "source": [
    "En este ejemplo, se utilizan selectores CSS para extraer los títulos y precios de los productos en la página actual. Luego, se itera sobre los datos extraídos y se genera un diccionario con los campos deseados. `Mediante yield`, los datos se envían a la salida del spider. Luego, se busca el enlace hacia la siguiente página de resultados y se sigue el enlace utilizando `response.follow()` para continuar extrayendo datos de las páginas subsiguientes.\n",
    "\n",
    "3. **Ejecutar el spider:**\n",
    "\n",
    "Para ejecutar el spider, puedes utilizar el siguiente código:"
   ]
  },
  {
   "cell_type": "code",
   "execution_count": null,
   "metadata": {},
   "outputs": [],
   "source": [
    "scrapy.cmdline.execute(['scrapy', 'crawl', 'mercado_libre_spider', '-o', 'output.csv'])"
   ]
  },
  {
   "attachments": {},
   "cell_type": "markdown",
   "metadata": {},
   "source": [
    "Este comando ejecutará el spider `MercadoLibreSpider` y guardará los datos extraídos en un archivo CSV llamado `output.csv`.\n",
    "\n",
    "Con estos pasos, podrás realizar web scraping horizontal en Mercado Libre utilizando Scrapy. El spider recorrerá las diferentes páginas de resultados de búsqueda y extraerá los detalles de los productos en cada página.\n",
    "\n",
    "* **Web Scraping Vertical:**\n",
    "\n",
    "El web scraping vertical implica extraer datos de diferentes sitios web que comparten una estructura similar. Por ejemplo, si deseas obtener información de productos de diferentes categorías en Mercado Libre, puedes extraer datos de páginas de categorías específicas. Aquí tienes un ejemplo de cómo hacerlo con Scrapy:\n",
    "\n",
    "1. **Definir el spider de Scrapy:**\n",
    "\n",
    "Crea una clase que herede de `scrapy.Spider` y defina la lógica de extracción de datos dentro del método `parse()`:"
   ]
  },
  {
   "cell_type": "code",
   "execution_count": 19,
   "metadata": {},
   "outputs": [],
   "source": [
    "class MercadoLibreSpider(scrapy.Spider):\n",
    "    name = 'mercado_libre_spider'\n",
    "    start_urls = [\n",
    "        'https://www.mercadolibre.com/categorias/celulares',\n",
    "        'https://www.mercadolibre.com/categorias/laptops',\n",
    "        'https://www.mercadolibre.com/categorias/televisores'\n",
    "    ]\n",
    "\n",
    "    def parse(self, response):\n",
    "        # Extraer datos de la página actual\n",
    "        # ..."
   ]
  },
  {
   "attachments": {},
   "cell_type": "markdown",
   "metadata": {},
   "source": [
    "En este ejemplo, se define un spider llamado `MercadoLibreSpider` con URLs iniciales de diferentes categorías en Mercado Libre. En el método `parse()`, se realizará la extracción de datos de cada página.\n",
    "\n",
    "2. **Definir la lógica de extracción de datos:**\n",
    "\n",
    "Dentro del método `parse()`, puedes utilizar selectores CSS o XPath para extraer los datos deseados de la página actual:"
   ]
  },
  {
   "cell_type": "code",
   "execution_count": 20,
   "metadata": {},
   "outputs": [],
   "source": [
    "def parse(self, response):\n",
    "    # Extraer datos de la página actual\n",
    "    product_titles = response.css('.product-title::text').getall()\n",
    "    product_prices = response.css('.product-price::text').getall()\n",
    "\n",
    "    for title, price in zip(product_titles, product_prices):\n",
    "        yield {\n",
    "            'category': response.url.split('/')[-1],\n",
    "            'title': title,\n",
    "            'price': price\n",
    "        }"
   ]
  },
  {
   "attachments": {},
   "cell_type": "markdown",
   "metadata": {},
   "source": [
    "En este ejemplo, se utilizan selectores CSS para extraer los títulos y precios de los productos en la página actual. Además, se incluye el campo \"`category`\" que indica la categoría actual basándose en la URL. Mediante `yield`, los datos se envían a la salida del `spider`.\n",
    "\n",
    "3. **Ejecutar el spider:**\n",
    "\n",
    "Para ejecutar el spider, puedes utilizar el siguiente código:"
   ]
  },
  {
   "cell_type": "code",
   "execution_count": null,
   "metadata": {},
   "outputs": [],
   "source": [
    "scrapy.cmdline.execute(['scrapy', 'crawl', 'mercado_libre_spider', '-o', 'output.csv'])"
   ]
  },
  {
   "attachments": {},
   "cell_type": "markdown",
   "metadata": {},
   "source": [
    "Este comando ejecutará el spider `MercadoLibreSpider` y guardará los datos extraídos en un archivo CSV llamado output.csv.\n",
    "\n",
    "Con estos pasos, podrás realizar web scraping vertical en Mercado Libre utilizando Scrapy. El spider extraerá datos de diferentes categorías y guardará los resultados en un archivo CSV."
   ]
  },
  {
   "attachments": {},
   "cell_type": "markdown",
   "metadata": {},
   "source": [
    "## **Varios tipos de Items y 2 dimensiones horizontales (Extracción de IGN)**"
   ]
  },
  {
   "attachments": {},
   "cell_type": "markdown",
   "metadata": {},
   "source": [
    "Para extraer información de una página web utilizando Scrapy, puedes definir diferentes tipos de elementos llamados \"`items`\" que representan los datos que deseas extraer. Cada item puede tener diferentes campos para almacenar información específica. En el caso de la extracción de `IGN`, podríamos definir dos tipos de items para representar los artículos y los comentarios de los usuarios. A continuación, te mostraré cómo puedes hacerlo con ejemplos:\n",
    "\n",
    "1. **Definir los Items:**\n",
    "\n",
    "Primero, debes definir los items en el archivo `items.py`. Aquí está un ejemplo de cómo podrían ser los items para los artículos y los comentarios:"
   ]
  },
  {
   "cell_type": "code",
   "execution_count": 21,
   "metadata": {},
   "outputs": [],
   "source": [
    "import scrapy\n",
    "\n",
    "class ArticleItem(scrapy.Item):\n",
    "    title = scrapy.Field()\n",
    "    author = scrapy.Field()\n",
    "    content = scrapy.Field()\n",
    "\n",
    "class CommentItem(scrapy.Item):\n",
    "    username = scrapy.Field()\n",
    "    comment = scrapy.Field()\n",
    "    likes = scrapy.Field()"
   ]
  },
  {
   "attachments": {},
   "cell_type": "markdown",
   "metadata": {},
   "source": [
    "En este ejemplo, hemos definido dos items: `ArticleItem` y `CommentItem`. Cada item tiene diferentes campos que corresponden a los datos que queremos extraer, como el título del artículo, el autor, el contenido, el nombre de usuario del comentario, el texto del comentario y la cantidad de likes.\n",
    "\n",
    "2. **Configurar el Spider:**\n",
    "\n",
    "A continuación, debes configurar el spider en el archivo `spiders.py` para realizar la extracción de datos. Aquí hay un ejemplo básico de cómo podría ser el spider para extraer artículos y comentarios de `IGN`:"
   ]
  },
  {
   "cell_type": "code",
   "execution_count": null,
   "metadata": {},
   "outputs": [],
   "source": [
    "import scrapy\n",
    "from scrapy.linkextractors import LinkExtractor\n",
    "from scrapy.spiders import CrawlSpider, Rule\n",
    "from myproject.items import ArticleItem, CommentItem\n",
    "\n",
    "class IGNSpider(CrawlSpider):\n",
    "    name = 'ign_spider'\n",
    "    allowed_domains = ['ign.com']\n",
    "    start_urls = ['https://www.ign.com/articles']\n",
    "\n",
    "    rules = (\n",
    "        Rule(LinkExtractor(allow=r'/article/'), callback='parse_article', follow=True),\n",
    "        Rule(LinkExtractor(allow=r'/comments/'), callback='parse_comment', follow=True),\n",
    "    )\n",
    "\n",
    "    def parse_article(self, response):\n",
    "        article = ArticleItem()\n",
    "        article['title'] = response.css('h1.article-title::text').get()\n",
    "        article['author'] = response.css('.author-name::text').get()\n",
    "        article['content'] = response.css('.article-content > p::text').getall()\n",
    "        yield article\n",
    "\n",
    "    def parse_comment(self, response):\n",
    "        comments = response.css('.comment')\n",
    "        for comment in comments:\n",
    "            item = CommentItem()\n",
    "            item['username'] = comment.css('.username::text').get()\n",
    "            item['comment'] = comment.css('.comment-body::text').get()\n",
    "            item['likes'] = comment.css('.comment-likes::text').get()\n",
    "            yield item"
   ]
  },
  {
   "attachments": {},
   "cell_type": "markdown",
   "metadata": {},
   "source": [
    "En este ejemplo, hemos configurado un spider llamado `IGNSpider` que sigue dos reglas. La primera regla busca enlaces que coincidan con `/article/` y llama a la función `parse_article()` para extraer los datos del artículo. La segunda regla busca enlaces que coincidan con `/comments/` y llama a la función `parse_comment()` para extraer los datos de los comentarios.\n",
    "\n",
    "En las funciones `parse_article()` y `parse_comment()`, utilizamos selectores CSS para extraer los datos específicos que nos interesan y los asignamos a los campos correspondientes en los items.\n",
    "\n",
    "3. **Ejecutar el Spider:**\n",
    "\n",
    "Para ejecutar el spider y extraer los datos, puedes usar el siguiente comando en la terminal:"
   ]
  },
  {
   "cell_type": "code",
   "execution_count": null,
   "metadata": {},
   "outputs": [],
   "source": [
    "scrapy crawl ign_spider -o output.json"
   ]
  },
  {
   "attachments": {},
   "cell_type": "markdown",
   "metadata": {},
   "source": [
    "Esto ejecutará el spider `ign_spider` y guardará los datos extraídos en un archivo `JSON` llamado `output.json`.\n",
    "\n",
    "También puedes ejecutar el spider directamente en Jupyter Notebook o Google Colab utilizando el siguiente código:"
   ]
  },
  {
   "cell_type": "code",
   "execution_count": null,
   "metadata": {},
   "outputs": [],
   "source": [
    "from scrapy.crawler import CrawlerProcess\n",
    "from scrapy.utils.project import get_project_settings\n",
    "\n",
    "process = CrawlerProcess(get_project_settings())\n",
    "process.crawl('ign_spider')\n",
    "process.start()"
   ]
  },
  {
   "attachments": {},
   "cell_type": "markdown",
   "metadata": {},
   "source": [
    "Esto ejecutará el spider y mostrará los datos extraídos en la salida de la celda.\n",
    "\n",
    "Con este enfoque, puedes extraer los artículos y los comentarios de IGN utilizando Scrapy. Asegúrate de ajustar los selectores CSS y las reglas del spider según la estructura específica del sitio web que estás raspando."
   ]
  },
  {
   "attachments": {},
   "cell_type": "markdown",
   "metadata": {},
   "source": [
    "## **2 niveles de profundidad (Extracción de TRIP ADVISOR con Scrapy PT.3)**"
   ]
  },
  {
   "attachments": {},
   "cell_type": "markdown",
   "metadata": {},
   "source": [
    "Para extraer información de varias páginas web con niveles de profundidad utilizando Scrapy, puedes configurar reglas de extracción que te permitan seguir enlaces en diferentes niveles. En el caso de la extracción de datos de `TripAdvisor`, puedes definir un spider que extraiga información de las páginas de hoteles y, a su vez, siga los enlaces a las páginas de comentarios de cada hotel para extraer información adicional. A continuación, te mostraré cómo hacerlo con ejemplos:\n",
    "\n",
    "1. **Configurar el Spider:**\n",
    "\n",
    "En el archivo `spiders.py`, puedes definir el spider para extraer información de los hoteles y comentarios de `TripAdvisor`. Aquí hay un ejemplo básico:"
   ]
  },
  {
   "cell_type": "code",
   "execution_count": null,
   "metadata": {},
   "outputs": [],
   "source": [
    "import scrapy\n",
    "from scrapy.linkextractors import LinkExtractor\n",
    "from scrapy.spiders import CrawlSpider, Rule\n",
    "from myproject.items import HotelItem, CommentItem\n",
    "\n",
    "class TripAdvisorSpider(CrawlSpider):\n",
    "    name = 'tripadvisor_spider'\n",
    "    allowed_domains = ['tripadvisor.com']\n",
    "    start_urls = ['https://www.tripadvisor.com/Hotels']\n",
    "\n",
    "    rules = (\n",
    "        Rule(LinkExtractor(allow=r'/Hotel_Review-'), callback='parse_hotel', follow=True),\n",
    "        Rule(LinkExtractor(allow=r'/ShowUserReviews-'), callback='parse_comment', follow=True),\n",
    "    )\n",
    "\n",
    "    def parse_hotel(self, response):\n",
    "        hotel = HotelItem()\n",
    "        hotel['name'] = response.css('.listing_title::text').get()\n",
    "        hotel['address'] = response.css('.address .street-address::text').get()\n",
    "        # Otros campos del hotel\n",
    "\n",
    "        yield hotel\n",
    "\n",
    "    def parse_comment(self, response):\n",
    "        comment = CommentItem()\n",
    "        comment['username'] = response.css('.info_text .username span::text').get()\n",
    "        comment['comment'] = response.css('.review-container .partial_entry::text').get()\n",
    "        # Otros campos del comentario\n",
    "\n",
    "        yield comment"
   ]
  },
  {
   "attachments": {},
   "cell_type": "markdown",
   "metadata": {},
   "source": [
    "En este ejemplo, hemos definido un spider llamado `TripAdvisorSpider`. Hemos configurado dos reglas: una para los enlaces que coinciden con `/Hotel_Review-`, que llamará a la función `parse_hotel()` para extraer los datos del hotel, y otra para los enlaces que coinciden con `/ShowUserReviews-`, que llamará a la función `parse_comment()` para extraer los datos de los comentarios.\n",
    "\n",
    "En las funciones `parse_hotel()` y `parse_comment()`, utilizamos selectores CSS para extraer los datos específicos que nos interesan y los asignamos a los campos correspondientes en los `items HotelItem` y `CommentItem`.\n",
    "\n",
    "2. **Ejecutar el Spider:**\n",
    "\n",
    "Para ejecutar el spider y extraer los datos, puedes usar el siguiente comando en la terminal:"
   ]
  },
  {
   "cell_type": "code",
   "execution_count": null,
   "metadata": {},
   "outputs": [],
   "source": [
    "scrapy crawl tripadvisor_spider -o output.json"
   ]
  },
  {
   "attachments": {},
   "cell_type": "markdown",
   "metadata": {},
   "source": [
    "Esto ejecutará el spider `tripadvisor_spider` y guardará los datos extraídos en un archivo `JSON` llamado `output.json`.\n",
    "\n",
    "También puedes ejecutar el spider directamente en Jupyter Notebook o Google Colab utilizando el siguiente código:"
   ]
  },
  {
   "cell_type": "code",
   "execution_count": null,
   "metadata": {},
   "outputs": [],
   "source": [
    "from scrapy.crawler import CrawlerProcess\n",
    "from scrapy.utils.project import get_project_settings\n",
    "\n",
    "process = CrawlerProcess(get_project_settings())\n",
    "process.crawl('tripadvisor_spider')\n",
    "process.start()"
   ]
  },
  {
   "attachments": {},
   "cell_type": "markdown",
   "metadata": {},
   "source": [
    "Esto ejecutará el spider y mostrará los datos extraídos en la salida de la celda.\n",
    "\n",
    "Con este enfoque, puedes extraer información de los hoteles y comentarios de `TripAdvisor`, siguiendo enlaces a diferentes niveles de profundidad. Asegúrate de ajustar los selectores CSS y las reglas del spider según la estructura específica del sitio web de `TripAdvisor`."
   ]
  },
  {
   "attachments": {},
   "cell_type": "markdown",
   "metadata": {},
   "source": [
    "## **Scrapy Link Extractor (Extracción de FARMACIA CRUZ VERDE)**"
   ]
  },
  {
   "attachments": {},
   "cell_type": "markdown",
   "metadata": {},
   "source": [
    "Para realizar la extracción de datos de un sitio web como Farmacia Cruz Verde utilizando Scrapy y el módulo `LinkExtractor`, puedes seguir los siguientes pasos:\n",
    "\n",
    "1. **Configurar el Spider:**\n",
    "\n",
    "En el archivo `spiders.py`, define el spider para realizar la extracción de datos. Aquí tienes un ejemplo básico:"
   ]
  },
  {
   "cell_type": "code",
   "execution_count": 24,
   "metadata": {},
   "outputs": [],
   "source": [
    "import scrapy\n",
    "from scrapy.linkextractors import LinkExtractor\n",
    "from scrapy.spiders import CrawlSpider, Rule\n",
    "\n",
    "class CruzVerdeSpider(CrawlSpider):\n",
    "    name = 'cruzverde_spider'\n",
    "    allowed_domains = ['cruzverde.cl']\n",
    "    start_urls = ['https://www.cruzverde.cl/']\n",
    "\n",
    "    rules = (\n",
    "        Rule(LinkExtractor(allow=r'/producto/'), callback='parse_product'),\n",
    "    )\n",
    "\n",
    "    def parse_product(self, response):\n",
    "        # Extraer datos del producto\n",
    "        product = {}\n",
    "        product['title'] = response.css('h1::text').get()\n",
    "        product['price'] = response.css('.price::text').get()\n",
    "        # Otros campos del producto\n",
    "\n",
    "        yield product"
   ]
  },
  {
   "attachments": {},
   "cell_type": "markdown",
   "metadata": {},
   "source": [
    "En este ejemplo, hemos definido un spider llamado `CruzVerdeSpider`. Hemos configurado una regla utilizando LinkExtractor que coincide con los enlaces que contienen `/producto/`, y se llamará a la función `parse_product()` para extraer los datos del producto.\n",
    "\n",
    "Dentro de la función `parse_product()`, utilizamos selectores CSS para extraer los datos específicos que nos interesan, como el título del producto y el precio, y los asignamos a un diccionario `product`. Finalmente, utilizamos `yield` para enviar el diccionario product como resultado de la extracción.\n",
    "\n",
    "2. **Ejecutar el Spider:**\n",
    "\n",
    "Para ejecutar el spider y extraer los datos, puedes utilizar el siguiente comando en la terminal:"
   ]
  },
  {
   "cell_type": "code",
   "execution_count": null,
   "metadata": {},
   "outputs": [],
   "source": [
    "scrapy crawl cruzverde_spider -o output.json"
   ]
  },
  {
   "attachments": {},
   "cell_type": "markdown",
   "metadata": {},
   "source": [
    "Esto ejecutará el spider `cruzverde_spider` y guardará los datos extraídos en un archivo `JSON` llamado `output.json`.\n",
    "\n",
    "También puedes ejecutar el spider directamente en Jupyter Notebook o Google Colab utilizando el siguiente código:"
   ]
  },
  {
   "cell_type": "code",
   "execution_count": null,
   "metadata": {},
   "outputs": [],
   "source": [
    "from scrapy.crawler import CrawlerProcess\n",
    "from scrapy.utils.project import get_project_settings\n",
    "\n",
    "process = CrawlerProcess(get_project_settings())\n",
    "process.crawl('cruzverde_spider')\n",
    "process.start()"
   ]
  },
  {
   "attachments": {},
   "cell_type": "markdown",
   "metadata": {},
   "source": [
    "Esto ejecutará el spider y mostrará los datos extraídos en la salida de la celda.\n",
    "\n",
    "Con esto, puedes utilizar el módulo `LinkExtractor` de Scrapy para realizar la extracción de datos del sitio web de Farmacia Cruz Verde siguiendo los enlaces que cumplen con ciertas reglas. Asegúrate de ajustar los selectores CSS y las reglas del spider según la estructura específica del sitio web de Farmacia Cruz Verde."
   ]
  },
  {
   "attachments": {},
   "cell_type": "markdown",
   "metadata": {},
   "source": [
    "## **Múltiples URLs Semilla (Extracción de URBANIA PT. 1)**"
   ]
  },
  {
   "attachments": {},
   "cell_type": "markdown",
   "metadata": {},
   "source": [
    "Para realizar la extracción de datos de múltiples URLs semilla utilizando Scrapy para el sitio web Urbania, puedes seguir estos pasos:\n",
    "\n",
    "1. **Configurar el Spider:**\n",
    "\n",
    "En el archivo `spiders.py`, define el spider para realizar la extracción de datos. Aquí tienes un ejemplo básico:"
   ]
  },
  {
   "cell_type": "code",
   "execution_count": 26,
   "metadata": {},
   "outputs": [],
   "source": [
    "import scrapy\n",
    "from scrapy.spiders import CrawlSpider, Rule\n",
    "from scrapy.linkextractors import LinkExtractor\n",
    "\n",
    "class UrbaniaSpider(CrawlSpider):\n",
    "    name = 'urbania_spider'\n",
    "    allowed_domains = ['urbania.pe']\n",
    "    start_urls = [\n",
    "        'https://urbania.pe/buscar/proyectos',\n",
    "        'https://urbania.pe/buscar/propiedades-en-venta'\n",
    "    ]\n",
    "\n",
    "    rules = (\n",
    "        Rule(LinkExtractor(allow=r'/proyecto/'), callback='parse_project'),\n",
    "        Rule(LinkExtractor(allow=r'/inmueble/'), callback='parse_property'),\n",
    "    )\n",
    "\n",
    "    def parse_project(self, response):\n",
    "        # Extraer datos del proyecto\n",
    "        project = {}\n",
    "        project['title'] = response.css('h1::text').get()\n",
    "        project['location'] = response.css('.location::text').get()\n",
    "        # Otros campos del proyecto\n",
    "\n",
    "        yield project\n",
    "\n",
    "    def parse_property(self, response):\n",
    "        # Extraer datos de la propiedad\n",
    "        property = {}\n",
    "        property['title'] = response.css('h1::text').get()\n",
    "        property['price'] = response.css('.price::text').get()\n",
    "        # Otros campos de la propiedad\n",
    "\n",
    "        yield property"
   ]
  },
  {
   "attachments": {},
   "cell_type": "markdown",
   "metadata": {},
   "source": [
    "En este ejemplo, hemos definido un spider llamado `UrbaniaSpider`. Hemos configurado dos URLs semilla en la lista `start_urls`, que son las páginas de búsqueda de proyectos y propiedades en venta en el sitio web de Urbania.\n",
    "\n",
    "Hemos definido dos reglas utilizando `LinkExtractor`. La primera regla coincide con los enlaces que contienen `/proyecto/` y llamará a la función `parse_project()` para extraer los datos del proyecto. La segunda regla coincide con los enlaces que contienen `/inmueble/` y llamará a la función `parse_property()` para extraer los datos de la propiedad.\n",
    "\n",
    "Dentro de las funciones `parse_project()` y `parse_property()`, utilizamos selectores CSS para extraer los datos específicos que nos interesan, como el título, la ubicación y el precio, y los asignamos a diccionarios (`project` y `property`). Finalmente, utilizamos yield para enviar los diccionarios como resultados de la extracción.\n",
    "\n",
    "2. **Ejecutar el Spider:**\n",
    "\n",
    "Para ejecutar el spider y extraer los datos, puedes utilizar el siguiente comando en la terminal:"
   ]
  },
  {
   "cell_type": "code",
   "execution_count": null,
   "metadata": {},
   "outputs": [],
   "source": [
    "scrapy crawl urbania_spider -o output.json"
   ]
  },
  {
   "attachments": {},
   "cell_type": "markdown",
   "metadata": {},
   "source": [
    "Esto ejecutará el spider `urbania_spider` y guardará los datos extraídos en un archivo `JSON` llamado `output.json`.\n",
    "\n",
    "También puedes ejecutar el spider directamente en Jupyter Notebook o Google Colab utilizando el siguiente código:"
   ]
  },
  {
   "cell_type": "code",
   "execution_count": null,
   "metadata": {},
   "outputs": [],
   "source": [
    "from scrapy.crawler import CrawlerProcess\n",
    "from scrapy.utils.project import get_project_settings\n",
    "\n",
    "process = CrawlerProcess(get_project_settings())\n",
    "process.crawl('urbania_spider')\n",
    "process.start()"
   ]
  },
  {
   "attachments": {},
   "cell_type": "markdown",
   "metadata": {},
   "source": [
    "Esto ejecutará el spider y mostrará los datos extraídos en la salida de la celda.\n",
    "\n",
    "Con esto, puedes utilizar múltiples URLs semilla en Scrapy para realizar la extracción de datos del sitio web de Urbania, siguiendo las reglas definidas en el spider. Asegúrate de ajustar los selectores CSS y las reglas según la estructura específica del sitio web de Urbania."
   ]
  },
  {
   "attachments": {},
   "cell_type": "markdown",
   "metadata": {},
   "source": [
    "## **Web Scraping en la Nube con CRAWLERA (Extracción de URBANIA PT. 2)**"
   ]
  },
  {
   "attachments": {},
   "cell_type": "markdown",
   "metadata": {},
   "source": [
    "Crawlera es un servicio de proxy web desarrollado por Scrapinghub que se utiliza para realizar web scraping de manera eficiente y sin bloqueos. Proporciona una infraestructura escalable de IPs y proxies para evitar la detección y bloqueo por parte de los sitios web objetivo.\n",
    "\n",
    "Para utilizar Crawlera en tu proyecto de extracción de datos de Urbania, sigue estos pasos:\n",
    "\n",
    "1. **Configurar la API de Crawlera:**\n",
    "\n",
    "Antes de comenzar, necesitarás una cuenta en Crawlera y obtener tu clave de API. Puedes crear una cuenta en el sitio web de Crawlera (https://www.crawlera.com/).\n",
    "\n",
    "2. **Instalar y configurar el middleware de Crawlera:**\n",
    "\n",
    "En tu proyecto Scrapy, instala el paquete `scrapy-crawlera` utilizando el siguiente comando:"
   ]
  },
  {
   "attachments": {},
   "cell_type": "markdown",
   "metadata": {},
   "source": [
    "`pip install scrapy-crawlera`"
   ]
  },
  {
   "attachments": {},
   "cell_type": "markdown",
   "metadata": {},
   "source": [
    "Una vez instalado, agrega el `middleware` de Crawlera a tu configuración de Scrapy. Abre el archivo `settings.py` y agrega la siguiente línea:"
   ]
  },
  {
   "cell_type": "code",
   "execution_count": 28,
   "metadata": {},
   "outputs": [],
   "source": [
    "DOWNLOADER_MIDDLEWARES = {\n",
    "    'scrapy_crawlera.CrawleraMiddleware': 610\n",
    "}"
   ]
  },
  {
   "attachments": {},
   "cell_type": "markdown",
   "metadata": {},
   "source": [
    "Además, configura la variable `CRAWLERA_APIKEY` con tu clave de `API` de `Crawlera`:"
   ]
  },
  {
   "cell_type": "code",
   "execution_count": 29,
   "metadata": {},
   "outputs": [],
   "source": [
    "CRAWLERA_APIKEY = 'tu_clave_de_api'"
   ]
  },
  {
   "attachments": {},
   "cell_type": "markdown",
   "metadata": {},
   "source": [
    "3. **Utilizar Crawlera en tu spider:**\n",
    "\n",
    "Ahora, puedes utilizar Crawlera en tu spider para realizar las solicitudes HTTP a Urbania a través de Crawlera. Para ello, simplemente incluye el siguiente encabezado en tus solicitudes:"
   ]
  },
  {
   "cell_type": "code",
   "execution_count": null,
   "metadata": {},
   "outputs": [],
   "source": [
    "request.headers['X-Crawlera-Use-HTTPS'] = '1'\n",
    "request.headers['X-Crawlera-Cookies'] = 'disable'"
   ]
  },
  {
   "attachments": {},
   "cell_type": "markdown",
   "metadata": {},
   "source": [
    "Aquí tienes un ejemplo de cómo se vería el spider de Urbania modificado para utilizar `Crawlera`:"
   ]
  },
  {
   "cell_type": "code",
   "execution_count": 31,
   "metadata": {},
   "outputs": [],
   "source": [
    "import scrapy\n",
    "from scrapy.spiders import CrawlSpider, Rule\n",
    "from scrapy.linkextractors import LinkExtractor\n",
    "\n",
    "class UrbaniaSpider(CrawlSpider):\n",
    "    name = 'urbania_spider'\n",
    "    allowed_domains = ['urbania.pe']\n",
    "    start_urls = ['https://urbania.pe/buscar/proyectos']\n",
    "\n",
    "    rules = (\n",
    "        Rule(LinkExtractor(allow=r'/proyecto/'), callback='parse_project'),\n",
    "    )\n",
    "\n",
    "    def start_requests(self):\n",
    "        for url in self.start_urls:\n",
    "            yield scrapy.Request(url, headers={\n",
    "                'X-Crawlera-Use-HTTPS': '1',\n",
    "                'X-Crawlera-Cookies': 'disable'\n",
    "            })\n",
    "\n",
    "    def parse_project(self, response):\n",
    "        # Lógica para extraer los datos del proyecto"
   ]
  },
  {
   "attachments": {},
   "cell_type": "markdown",
   "metadata": {},
   "source": [
    "En este ejemplo, hemos agregado el encabezado necesario en el método `start_requests()` para que todas las solicitudes utilizan `Crawlera`. Además, hemos eliminado la segunda regla y la función `parse_property` para simplificar el ejemplo.\n",
    "\n",
    "4. **Ejecutar el spider con Crawlera:**\n",
    "\n",
    "Para ejecutar el spider y realizar la extracción de datos utilizando Crawlera, simplemente ejecuta el comando habitual de Scrapy:"
   ]
  },
  {
   "cell_type": "code",
   "execution_count": null,
   "metadata": {},
   "outputs": [],
   "source": [
    "scrapy crawl urbania_spider -o output.json"
   ]
  },
  {
   "attachments": {},
   "cell_type": "markdown",
   "metadata": {},
   "source": [
    "Esto enviará todas las solicitudes a través de Crawlera y te permitirá extraer los datos de Urbania sin preocuparte por el bloqueo o la detección.\n",
    "\n",
    "Con estos pasos, has configurado y utilizado Crawlera en tu proyecto de extracción de datos de Urbania. Crawlera manejará la rotación de IP, evitará los bloqueos y te proporcionará una infraestructura escalable para realizar el web scraping de manera efectiva y confiable."
   ]
  },
  {
   "attachments": {},
   "cell_type": "markdown",
   "metadata": {},
   "source": [
    "## **Scrapy bajo el Microscopio (Primer Requerimiento, Delay, CSVs y Concurrencia)**"
   ]
  },
  {
   "attachments": {},
   "cell_type": "markdown",
   "metadata": {},
   "source": [
    "Scrapy es un framework de web scraping poderoso y flexible que permite extraer datos de manera eficiente de sitios web. En esta explicación detallada, abordaremos los siguientes aspectos importantes de Scrapy: primer requerimiento, delay, CSVs y concurrencia.\n",
    "\n",
    "1. **Primer requerimiento:**\n",
    "\n",
    "Cuando realizas solicitudes web con Scrapy, es importante enviar un \"`primer requerimiento`\" a la página objetivo antes de comenzar la extracción de datos. Esto se hace para establecer una conexión inicial con el servidor y asegurarse de que estás autorizado para acceder al sitio web.\n",
    "\n",
    "Aquí tienes un ejemplo de cómo enviar un primer requerimiento en Scrapy:"
   ]
  },
  {
   "cell_type": "code",
   "execution_count": null,
   "metadata": {},
   "outputs": [],
   "source": [
    "import scrapy\n",
    "\n",
    "class MySpider(scrapy.Spider):\n",
    "    name = 'my_spider'\n",
    "    start_urls = ['https://www.example.com']\n",
    "\n",
    "    def start_requests(self):\n",
    "        for url in self.start_urls:\n",
    "            yield scrapy.Request(url, callback=self.parse)\n",
    "\n",
    "    def parse(self, response):\n",
    "        # Lógica para extraer los datos de la respuesta"
   ]
  },
  {
   "attachments": {},
   "cell_type": "markdown",
   "metadata": {},
   "source": [
    "En este ejemplo, el método `start_requests()` se utiliza para enviar el primer requerimiento a la URL de inicio especificada. Luego, el método `parse()` se encarga de extraer los datos de la respuesta.\n",
    "\n",
    "2. **Delay:**\n",
    "\n",
    "El delay (retraso) se refiere a la pausa entre las solicitudes realizadas por Scrapy. Es una práctica recomendada incluir un retraso entre las solicitudes para evitar sobrecargar los servidores y reducir las posibilidades de ser bloqueado.\n",
    "\n",
    "Puedes agregar un retraso entre las solicitudes utilizando el atributo `download_delay` en la configuración de Scrapy. Aquí tienes un ejemplo:"
   ]
  },
  {
   "cell_type": "code",
   "execution_count": null,
   "metadata": {},
   "outputs": [],
   "source": [
    "import scrapy\n",
    "\n",
    "class MySpider(scrapy.Spider):\n",
    "    name = 'my_spider'\n",
    "    start_urls = ['https://www.example.com']\n",
    "    download_delay = 1  # Retraso de 1 segundo\n",
    "\n",
    "    def parse(self, response):\n",
    "        # Lógica para extraer los datos de la respuesta"
   ]
  },
  {
   "attachments": {},
   "cell_type": "markdown",
   "metadata": {},
   "source": [
    "En este ejemplo, hemos configurado un retraso de 1 segundo utilizando download_delay. Esto significa que Scrapy esperará 1 segundo antes de enviar la siguiente solicitud.\n",
    "\n",
    "3. **CSVs:**\n",
    "\n",
    "Scrapy permite guardar los datos extraídos en varios formatos, incluido el formato CSV. Puedes guardar los datos en un archivo CSV utilizando el siguiente comando:"
   ]
  },
  {
   "cell_type": "code",
   "execution_count": null,
   "metadata": {},
   "outputs": [],
   "source": [
    "scrapy crawl my_spider -o output.csv -t csv"
   ]
  },
  {
   "attachments": {},
   "cell_type": "markdown",
   "metadata": {},
   "source": [
    "En este ejemplo, estamos ejecutando el spider `my_spider` y guardando los datos extraídos en un archivo llamado `output.csv` en formato `CSV`.\n",
    "\n",
    "4. **Concurrencia:**\n",
    "\n",
    "Scrapy es capaz de manejar la concurrencia y realizar múltiples solicitudes simultáneamente para acelerar el proceso de extracción de datos. La concurrencia en Scrapy se logra mediante el uso de hilos o procesos.\n",
    "\n",
    "Puedes controlar la concurrencia en Scrapy a través de la configuración `CONCURRENT_REQUESTS` en el archivo `settings.py`. Aquí tienes un ejemplo:"
   ]
  },
  {
   "cell_type": "code",
   "execution_count": null,
   "metadata": {},
   "outputs": [],
   "source": [
    "# settings.py\n",
    "CONCURRENT_REQUESTS = 10"
   ]
  },
  {
   "attachments": {},
   "cell_type": "markdown",
   "metadata": {},
   "source": [
    "En este ejemplo, hemos configurado `CONCURRENT_REQUESTS` en `10`, lo que significa que Scrapy realizará hasta 10 solicitudes simultáneamente.\n",
    "\n",
    "Ten en cuenta que debes ser cuidadoso al configurar la concurrencia, ya que un valor demasiado alto puede sobrecargar el servidor y provocar bloqueos o rechazo de solicitudes.\n",
    "\n",
    "Estos son algunos aspectos importantes de Scrapy que puedes considerar al realizar web scraping. Recuerda que es importante ser ético y respetar los términos de servicio de los sitios web que estás raspando, además de ajustar la configuración de Scrapy según sea necesario para evitar sobrecargar los servidores y respetar los límites establecidos por los sitios web objetivo."
   ]
  },
  {
   "attachments": {},
   "cell_type": "markdown",
   "metadata": {},
   "source": [
    "| **Inicio** | **atrás 3** | **Siguiente 5** |\n",
    "|----------- |-------------- |---------------|\n",
    "| [🏠](../../README.md) | [⏪](./3.Una_sola_pagina_estatica.ipynb)| [⏩](./5.Paginas_Dinamicas.ipynb)|"
   ]
  }
 ],
 "metadata": {
  "kernelspec": {
   "display_name": "base",
   "language": "python",
   "name": "python3"
  },
  "language_info": {
   "codemirror_mode": {
    "name": "ipython",
    "version": 3
   },
   "file_extension": ".py",
   "mimetype": "text/x-python",
   "name": "python",
   "nbconvert_exporter": "python",
   "pygments_lexer": "ipython3",
   "version": "3.9.12"
  },
  "orig_nbformat": 4
 },
 "nbformat": 4,
 "nbformat_minor": 2
}
