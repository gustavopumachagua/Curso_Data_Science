{
 "cells": [
  {
   "attachments": {},
   "cell_type": "markdown",
   "metadata": {},
   "source": [
    "| **Inicio** | **atrás 7** | **Siguiente 9** |\n",
    "|----------- |-------------- |---------------|\n",
    "| [🏠](../../README.md) | [⏪](./7.Autenticaci%C3%B3n_y_Captchas.ipynb)| [⏩](./9.Automatizacion_almacenamiento_y_actualizacion_de_datos.ipynb)|"
   ]
  },
  {
   "attachments": {},
   "cell_type": "markdown",
   "metadata": {},
   "source": [
    "# **8. Evitando Problemas: Éticas**"
   ]
  },
  {
   "attachments": {},
   "cell_type": "markdown",
   "metadata": {},
   "source": [
    "## **Web Scraping responsable**"
   ]
  },
  {
   "attachments": {},
   "cell_type": "markdown",
   "metadata": {},
   "source": [
    "El web scraping responsable es una práctica ética y responsable que implica recopilar datos de sitios web de manera ética y respetando los términos de servicio del sitio objetivo. Consiste en seguir pautas y principios para garantizar que el proceso de extracción de datos no cause ningún daño al sitio web, a los usuarios ni viole la privacidad o los derechos de autor.\n",
    "\n",
    "A continuación, se presentan algunos principios clave del web scraping responsable:\n",
    "\n",
    "1. **Cumplir los términos de servicio:** Antes de realizar cualquier actividad de web scraping, es fundamental leer y comprender los términos de servicio del sitio web objetivo. Algunos sitios web pueden prohibir o restringir el web scraping en sus políticas, por lo que es importante respetar estas restricciones y solicitar permiso cuando sea necesario.\n",
    "\n",
    "2. **Limitar la frecuencia y la carga:** Es importante evitar sobrecargar el servidor del sitio web objetivo al realizar solicitudes excesivas o frecuentes. Se debe respetar cualquier límite de velocidad o restricción de acceso establecido por el sitio web. Utilizar retrasos apropiados entre solicitudes (por ejemplo, utilizando la función `time.sleep()` en Python) para no abrumar el servidor con una gran cantidad de solicitudes en poco tiempo.\n",
    "\n",
    "3. **No dañar ni interferir con el sitio web:** El web scraping responsable implica no causar daños al sitio web objetivo. Esto significa evitar cualquier acción que pueda afectar negativamente el rendimiento del sitio, como realizar solicitudes masivas o enviar solicitudes que requieran una cantidad excesiva de recursos del servidor.\n",
    "\n",
    "4. **Respetar la privacidad y los derechos de autor:** Durante el web scraping, es fundamental respetar la privacidad de los usuarios y los derechos de autor de los datos recopilados. No se deben recopilar datos personales sensibles sin el consentimiento adecuado y se deben respetar los derechos de autor y atribuir correctamente cualquier contenido utilizado.\n",
    "\n",
    "5. **Obtener datos públicos y accesibles:** El web scraping responsable se enfoca en recopilar datos que sean públicos y accesibles para todos los usuarios. No se deben violar restricciones de acceso o intentar acceder a áreas restringidas sin autorización.\n",
    "\n",
    "A continuación, se muestra un ejemplo de código Python que ilustra el uso responsable del web scraping utilizando la biblioteca requests:"
   ]
  },
  {
   "cell_type": "code",
   "execution_count": null,
   "metadata": {},
   "outputs": [],
   "source": [
    "import requests\n",
    "\n",
    "# Establecer el encabezado del agente de usuario para simular una solicitud de navegador\n",
    "headers = {'User-Agent': 'Mozilla/5.0 (Windows NT 10.0; Win64; x64) AppleWebKit/537.36 (KHTML, like Gecko) Chrome/58.0.3029.110 Safari/537.3'}\n",
    "\n",
    "# Realizar una solicitud HTTP a la página web\n",
    "response = requests.get('http://www.example.com', headers=headers)\n",
    "\n",
    "# Verificar el código de respuesta para asegurarse de que la solicitud sea exitosa\n",
    "if response.status_code == 200:\n",
    "    # Procesar la respuesta y extraer los datos necesarios\n",
    "    data = response.text\n",
    "    # Realizar más operaciones de extracción de datos aquí\n",
    "    ..."
   ]
  },
  {
   "attachments": {},
   "cell_type": "markdown",
   "metadata": {},
   "source": [
    "En este ejemplo, se establece un encabezado de \"`User-Agent`\" para simular una solicitud de navegador y evitar ser identificado como un bot. Además, se verifica el código de respuesta para asegurarse de que la solicitud haya sido exitosa antes de procesar los datos. Estos pasos ayudan a mostrar un comportamiento responsable al realizar el web scraping.\n",
    "\n",
    "Es importante tener en cuenta que el web scraping responsable no solo se trata de seguir buenas prácticas técnicas, sino también de respetar la ética, la privacidad y los derechos de los sitios web y los usuarios. Se recomienda siempre tener en cuenta los términos de servicio y las políticas del sitio web objetivo, y obtener el consentimiento adecuado cuando sea necesario."
   ]
  },
  {
   "attachments": {},
   "cell_type": "markdown",
   "metadata": {},
   "source": [
    "## **¿Cómo evitar que me baneen?**"
   ]
  },
  {
   "attachments": {},
   "cell_type": "markdown",
   "metadata": {},
   "source": [
    "Evitar ser baneado al realizar web scraping es crucial para mantener un comportamiento responsable y ético. Aquí hay algunas prácticas recomendadas que puedes seguir para minimizar el riesgo de ser bloqueado o baneado por los sitios web:\n",
    "\n",
    "1. **Leer y respetar los términos de servicio:** Antes de realizar cualquier web scraping, es importante leer y comprender los términos de servicio del sitio web objetivo. Algunos sitios web pueden prohibir o restringir el web scraping en sus políticas, por lo que es fundamental respetar estas restricciones. Si un sitio web tiene una API oficial disponible, considera utilizarla en lugar de realizar scraping directo.\n",
    "\n",
    "2. **Utilizar encabezados y agentes de usuario adecuados:** Al enviar solicitudes HTTP a través de tu código de web scraping, asegúrate de utilizar encabezados y agentes de usuario adecuados. Esto ayudará a simular el comportamiento de un navegador y evitará que el sitio web te identifique como un bot. Puedes utilizar la biblioteca `requests` en Python para configurar encabezados personalizados, como el User-Agent."
   ]
  },
  {
   "cell_type": "code",
   "execution_count": null,
   "metadata": {},
   "outputs": [],
   "source": [
    "import requests\n",
    "\n",
    "headers = {\n",
    "    'User-Agent': 'Mozilla/5.0 (Windows NT 10.0; Win64; x64) AppleWebKit/537.36 (KHTML, like Gecko) Chrome/58.0.3029.110 Safari/537.3',\n",
    "}\n",
    "\n",
    "response = requests.get('http://www.example.com', headers=headers)"
   ]
  },
  {
   "attachments": {},
   "cell_type": "markdown",
   "metadata": {},
   "source": [
    "3. **Limitar la velocidad y la frecuencia de las solicitudes:** Evita enviar una gran cantidad de solicitudes en un corto período de tiempo. Respeta cualquier límite de velocidad o restricción de acceso establecido por el sitio web. Puedes agregar retrasos entre las solicitudes utilizando la función `time.sleep()` en Python para evitar sobrecargar el servidor."
   ]
  },
  {
   "cell_type": "code",
   "execution_count": null,
   "metadata": {},
   "outputs": [],
   "source": [
    "import time\n",
    "\n",
    "# Esperar 1 segundo entre cada solicitud\n",
    "time.sleep(1)"
   ]
  },
  {
   "attachments": {},
   "cell_type": "markdown",
   "metadata": {},
   "source": [
    "4. **Evitar el rastreo masivo o agresivo:** No realices rastreos masivos o agresivos que puedan sobrecargar el servidor del sitio web objetivo. Asegúrate de ajustar tu código de web scraping para obtener solo los datos necesarios y no descargar contenido innecesario.\n",
    "\n",
    "5. **Seguir el archivo robots.txt:** El archivo robots.txt es una forma en que los sitios web indican qué partes de su sitio son accesibles para los rastreadores y qué partes no. Antes de realizar web scraping en un sitio web, verifica si tienen un archivo robots.txt y respétalo. No accedas a áreas restringidas o que no estén permitidas para los rastreadores.\n",
    "\n",
    "6. **Utilizar proxies o servicios de rotación de IP:** Si planeas realizar web scraping a gran escala, considera utilizar proxies o servicios de rotación de IP para evitar ser detectado y bloqueado. Esto te permite cambiar tu dirección IP y evitar que el sitio web identifique tus solicitudes como provenientes de una sola fuente.\n",
    "\n",
    "7. **Manejar los errores y reintentos adecuadamente:** Es posible que encuentres errores o respuestas incorrectas al realizar web scraping. Asegúrate de manejar estos errores adecuadamente en tu código y considera implementar mecanismos de reintentos en caso de fallos temporales.\n",
    "\n",
    "Siguiendo estas mejores prácticas, puedes reducir el riesgo de ser bloqueado o baneado al realizar web scraping. Sin embargo, es importante tener en cuenta que cada sitio web tiene sus propias políticas y restricciones, por lo que es fundamental adaptar tu enfoque a cada caso específico y monitorear cualquier cambio en los términos de servicio del sitio web objetivo."
   ]
  },
  {
   "attachments": {},
   "cell_type": "markdown",
   "metadata": {},
   "source": [
    "## **User Agents y VPNs**"
   ]
  },
  {
   "attachments": {},
   "cell_type": "markdown",
   "metadata": {},
   "source": [
    "1. **User Agents:**\n",
    "\n",
    "En el contexto del web scraping, un User Agent es una cadena de texto que se envía junto con las solicitudes HTTP para identificar el tipo de navegador o cliente que realiza la solicitud. Los User Agents permiten al servidor web adaptar su respuesta en función del cliente que realiza la solicitud. Los sitios web a menudo utilizan User Agents para distinguir entre solicitudes realizadas por humanos y aquellas realizadas por bots o scripts de web scraping.\n",
    "\n",
    "Los User Agents generalmente contienen información sobre el navegador, el sistema operativo y otros detalles relevantes. Algunos ejemplos de User Agents pueden ser:\n",
    "\n",
    "* **User-Agent:** Mozilla/5.0 (Windows NT 10.0; Win64; x64) AppleWebKit/537.36 (KHTML, like Gecko) Chrome/58.0.3029.110 Safari/537.3\n",
    "* **User-Agent:** Mozilla/5.0 (Macintosh; Intel Mac OS X 10_15_6) AppleWebKit/537.36 (KHTML, like Gecko) Chrome/85.0.4183.102 Safari/537.36\n",
    "\n",
    "Al realizar web scraping, es común utilizar User Agents para simular el comportamiento de un navegador y evitar ser identificado como un bot. Puedes configurar el User Agent en tus solicitudes HTTP para que coincida con el User Agent de un navegador específico. Esto puede ayudar a evitar bloqueos o restricciones basadas en User Agents sospechosos.\n",
    "\n",
    "Aquí tienes un ejemplo de cómo establecer el User Agent utilizando la biblioteca `requests` en Python:"
   ]
  },
  {
   "cell_type": "code",
   "execution_count": null,
   "metadata": {},
   "outputs": [],
   "source": [
    "import requests\n",
    "\n",
    "headers = {\n",
    "    'User-Agent': 'Mozilla/5.0 (Windows NT 10.0; Win64; x64) AppleWebKit/537.36 (KHTML, like Gecko) Chrome/58.0.3029.110 Safari/537.3',\n",
    "}\n",
    "\n",
    "response = requests.get('http://www.example.com', headers=headers)"
   ]
  },
  {
   "attachments": {},
   "cell_type": "markdown",
   "metadata": {},
   "source": [
    "2. **VPNs:**\n",
    "\n",
    "Una VPN (Virtual Private Network) es una tecnología que crea una conexión segura y cifrada entre tu dispositivo y un servidor remoto a través de una red pública, como Internet. Al conectarte a través de una VPN, tu tráfico de Internet se enruta a través del servidor remoto, ocultando tu dirección IP real y proporcionándote una dirección IP virtual.\n",
    "\n",
    "Las VPN se utilizan por varias razones, como el anonimato en línea, la seguridad y la privacidad. En el contexto del web scraping, las VPN pueden ser útiles para evitar ser detectado o bloqueado al realizar solicitudes a un sitio web. Al cambiar tu dirección IP mediante una VPN, puedes evitar que el sitio web identifique tus solicitudes como provenientes de una sola fuente.\n",
    "\n",
    "Algunos servicios de VPN populares incluyen NordVPN, ExpressVPN y CyberGhost. Estos servicios te permiten seleccionar un servidor en una ubicación específica y enrutar tu tráfico a través de ese servidor para ocultar tu dirección IP real.\n",
    "\n",
    "Es importante tener en cuenta que aunque una VPN puede proporcionar cierto nivel de anonimato y ocultar tu dirección IP, no garantiza un anonimato completo. Algunos sitios web pueden detectar el uso de VPN y tomar medidas para bloquear el acceso desde esas direcciones IP.\n",
    "\n",
    "En resumen, los User Agents se utilizan para simular el comportamiento de un navegador y evitar ser identificado como un bot al realizar web scraping. Las VPN, por otro lado, te permiten cambiar tu dirección IP y ocultar tu identidad en línea, lo que puede ayudar a evitar ser detectado o bloqueado al acceder a sitios web. Ambas técnicas son útiles para garantizar una experiencia de web scraping más segura y evitar restricciones."
   ]
  },
  {
   "attachments": {},
   "cell_type": "markdown",
   "metadata": {},
   "source": [
    "## **Rotación de User Agents con Scrapy**"
   ]
  },
  {
   "attachments": {},
   "cell_type": "markdown",
   "metadata": {},
   "source": [
    "En Scrapy, la rotación de User Agents se puede lograr utilizando el middleware `RandomUserAgentMiddleware`, que selecciona aleatoriamente un User Agent de una lista predefinida en cada solicitud. Esto ayuda a simular diferentes navegadores y evita que el servidor detecte un patrón constante en los User Agents.\n",
    "\n",
    "Aquí tienes un ejemplo de cómo habilitar la rotación de User Agents en Scrapy:\n",
    "\n",
    "1. Primero, asegúrate de tener instalada la biblioteca `scrapy-user-agents`:"
   ]
  },
  {
   "attachments": {},
   "cell_type": "markdown",
   "metadata": {},
   "source": [
    "`pip install scrapy-user-agents`"
   ]
  },
  {
   "attachments": {},
   "cell_type": "markdown",
   "metadata": {},
   "source": [
    "2. Luego, en tu proyecto de Scrapy, agrega el middleware `RandomUserAgentMiddleware` en el archivo `settings.py`:"
   ]
  },
  {
   "cell_type": "code",
   "execution_count": null,
   "metadata": {},
   "outputs": [],
   "source": [
    "DOWNLOADER_MIDDLEWARES = {\n",
    "    'scrapy.downloadermiddlewares.useragent.UserAgentMiddleware': None,\n",
    "    'scrapy_user_agents.middlewares.RandomUserAgentMiddleware': 400,\n",
    "}"
   ]
  },
  {
   "attachments": {},
   "cell_type": "markdown",
   "metadata": {},
   "source": [
    "3. Ahora, cada vez que realices una solicitud en tu spider, Scrapy seleccionará aleatoriamente un User Agent de la lista predefinida y lo incluirá en la solicitud.\n",
    "\n",
    "Aquí tienes un ejemplo completo de cómo usar la rotación de User Agents en Scrapy:"
   ]
  },
  {
   "cell_type": "code",
   "execution_count": null,
   "metadata": {},
   "outputs": [],
   "source": [
    "import scrapy\n",
    "from scrapy_user_agents.middlewares import RandomUserAgentMiddleware\n",
    "\n",
    "class MySpider(scrapy.Spider):\n",
    "    name = 'my_spider'\n",
    "    start_urls = ['http://www.example.com']\n",
    "\n",
    "    custom_settings = {\n",
    "        'DOWNLOADER_MIDDLEWARES': {\n",
    "            'scrapy.downloadermiddlewares.useragent.UserAgentMiddleware': None,\n",
    "            'scrapy_user_agents.middlewares.RandomUserAgentMiddleware': 400,\n",
    "        }\n",
    "    }\n",
    "\n",
    "    def parse(self, response):\n",
    "        # Procesar la respuesta de la solicitud\n",
    "        pass"
   ]
  },
  {
   "attachments": {},
   "cell_type": "markdown",
   "metadata": {},
   "source": [
    "Con esta configuración, cada vez que `MySpider` realice una solicitud, Scrapy seleccionará aleatoriamente un User Agent de la lista predefinida y lo incluirá en la solicitud. Esto ayuda a evitar la detección de patrones y mejora la capacidad de web scraping responsable.\n",
    "\n",
    "Recuerda que también puedes personalizar la lista de User Agents que se utilizarán en la rotación. Para ello, puedes modificar la configuración `USER_AGENT_LIST` en el archivo `settings.py`. Por ejemplo:"
   ]
  },
  {
   "cell_type": "code",
   "execution_count": null,
   "metadata": {},
   "outputs": [],
   "source": [
    "USER_AGENT_LIST = [\n",
    "    'Mozilla/5.0 (Windows NT 10.0; Win64; x64) AppleWebKit/537.36 (KHTML, like Gecko) Chrome/58.0.3029.110 Safari/537.3',\n",
    "    'Mozilla/5.0 (Macintosh; Intel Mac OS X 10_15_6) AppleWebKit/537.36 (KHTML, like Gecko) Chrome/85.0.4183.102 Safari/537.36',\n",
    "    # Agregar más User Agents aquí\n",
    "]"
   ]
  },
  {
   "attachments": {},
   "cell_type": "markdown",
   "metadata": {},
   "source": [
    "En resumen, la rotación de User Agents en Scrapy se logra utilizando el middleware `RandomUserAgentMiddleware`, que selecciona aleatoriamente un User Agent de una lista predefinida en cada solicitud. Esto ayuda a simular diferentes navegadores y evitar ser detectado como un bot en web scraping."
   ]
  },
  {
   "attachments": {},
   "cell_type": "markdown",
   "metadata": {},
   "source": [
    "| **Inicio** | **atrás 7** | **Siguiente 9** |\n",
    "|----------- |-------------- |---------------|\n",
    "| [🏠](../../README.md) | [⏪](./7.Autenticaci%C3%B3n_y_Captchas.ipynb)| [⏩](./9.Automatizacion_almacenamiento_y_actualizacion_de_datos.ipynb)|"
   ]
  }
 ],
 "metadata": {
  "kernelspec": {
   "display_name": "base",
   "language": "python",
   "name": "python3"
  },
  "language_info": {
   "name": "python",
   "version": "3.9.12"
  },
  "orig_nbformat": 4
 },
 "nbformat": 4,
 "nbformat_minor": 2
}
