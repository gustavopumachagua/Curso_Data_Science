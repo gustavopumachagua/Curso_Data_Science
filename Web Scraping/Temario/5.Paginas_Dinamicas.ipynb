{
 "cells": [
  {
   "attachments": {},
   "cell_type": "markdown",
   "metadata": {},
   "source": [
    "| **Inicio** | **atrás 4** | **Siguiente 6** |\n",
    "|----------- |-------------- |---------------|\n",
    "| [🏠](../../README.md) | [⏪](./4.Varias_Paginas_del_mismo_dominio.ipynb)| [⏩](./6.Web_Scraping_de_APIs_iFrames_y_Scripts.ipynb)|"
   ]
  },
  {
   "attachments": {},
   "cell_type": "markdown",
   "metadata": {},
   "source": [
    "# **5. Paginas Dinámicas**"
   ]
  },
  {
   "attachments": {},
   "cell_type": "markdown",
   "metadata": {},
   "source": [
    "## **Introducción: SELENIUM**"
   ]
  },
  {
   "attachments": {},
   "cell_type": "markdown",
   "metadata": {},
   "source": [
    "Selenium es un conjunto de herramientas de código abierto diseñadas para automatizar pruebas y tareas en aplicaciones web. Es una de las herramientas más populares y ampliamente utilizadas para realizar pruebas automatizadas en aplicaciones web, así como para realizar tareas de web scraping.\n",
    "\n",
    "Selenium proporciona una interfaz de programación de aplicaciones (API) que permite a los desarrolladores interactuar con navegadores web de manera automatizada. Esto significa que puedes controlar un navegador web real, como Chrome, Firefox o Safari, y simular interacciones humanas como hacer clic en botones, llenar formularios, navegar por páginas y extraer información.\n",
    "\n",
    "A continuación, te mostraré una explicación detallada de Selenium con ejemplos:\n",
    "\n",
    "1. **Instalación:**\n",
    "\n",
    "Primero, necesitarás instalar Selenium en tu entorno de desarrollo. Puedes instalarlo utilizando pip, el gestor de paquetes de Python. Ejecuta el siguiente comando en tu terminal:"
   ]
  },
  {
   "attachments": {},
   "cell_type": "markdown",
   "metadata": {},
   "source": [
    "`pip install selenium`"
   ]
  },
  {
   "attachments": {},
   "cell_type": "markdown",
   "metadata": {},
   "source": [
    "También necesitarás descargar los controladores de navegador correspondientes a los navegadores que deseas controlar con Selenium. Por ejemplo, si quieres controlar Chrome, necesitarás descargar el controlador de Chrome (ChromeDriver). Asegúrate de descargar la versión compatible con tu versión del navegador.\n",
    "\n",
    "2. **Configuración inicial:**\n",
    "\n",
    "Antes de comenzar a usar Selenium, debes importar los módulos necesarios y configurar el controlador del navegador. Aquí tienes un ejemplo utilizando Chrome:"
   ]
  },
  {
   "cell_type": "code",
   "execution_count": null,
   "metadata": {},
   "outputs": [],
   "source": [
    "from selenium import webdriver\n",
    "\n",
    "# Configurar el controlador de Chrome\n",
    "driver = webdriver.Chrome('/ruta/al/chromedriver')"
   ]
  },
  {
   "attachments": {},
   "cell_type": "markdown",
   "metadata": {},
   "source": [
    "En este ejemplo, importamos el módulo `webdriver` de Selenium y luego configuramos el controlador de Chrome especificando la ubicación del archivo del controlador (`chromedriver`).\n",
    "\n",
    "3. **Interacción con el navegador:**\n",
    "\n",
    "Una vez que hayas configurado el controlador del navegador, puedes interactuar con el navegador y realizar acciones automatizadas. Aquí tienes algunos ejemplos de interacciones comunes:"
   ]
  },
  {
   "cell_type": "code",
   "execution_count": null,
   "metadata": {},
   "outputs": [],
   "source": [
    "# Abrir una página web\n",
    "driver.get('https://www.example.com')\n",
    "\n",
    "# Hacer clic en un elemento\n",
    "element = driver.find_element_by_id('my_button')\n",
    "element.click()\n",
    "\n",
    "# Llenar un formulario\n",
    "input_field = driver.find_element_by_name('username')\n",
    "input_field.send_keys('mi_usuario')\n",
    "\n",
    "# Obtener el contenido de un elemento\n",
    "heading = driver.find_element_by_tag_name('h1')\n",
    "print(heading.text)\n",
    "\n",
    "# Capturar una captura de pantalla\n",
    "driver.save_screenshot('screenshot.png')"
   ]
  },
  {
   "attachments": {},
   "cell_type": "markdown",
   "metadata": {},
   "source": [
    "En estos ejemplos, estamos abriendo una página web, haciendo clic en un botón, llenando un formulario, obteniendo el contenido de un elemento y capturando una captura de pantalla.\n",
    "\n",
    "4. **Web scraping con Selenium:**\n",
    "\n",
    "Selenium también se puede utilizar para realizar web scraping, es decir, extraer información de páginas web. Puedes buscar elementos utilizando selectores CSS o XPath y extraer su contenido."
   ]
  },
  {
   "cell_type": "code",
   "execution_count": null,
   "metadata": {},
   "outputs": [],
   "source": [
    "# Extraer el texto de todos los enlaces en una página\n",
    "links = driver.find_elements_by_css_selector('a')\n",
    "for link in links:\n",
    "    print(link.text)"
   ]
  },
  {
   "attachments": {},
   "cell_type": "markdown",
   "metadata": {},
   "source": [
    "En este ejemplo, estamos buscando todos los elementos `<a>` en una página y extrayendo su texto.\n",
    "\n",
    "5. **Cierre del navegador:**\n",
    "\n",
    "Una vez que hayas terminado de interactuar con el navegador, es importante cerrarlo adecuadamente para liberar recursos."
   ]
  },
  {
   "cell_type": "code",
   "execution_count": null,
   "metadata": {},
   "outputs": [],
   "source": [
    "# Cerrar el navegador\n",
    "driver.quit()"
   ]
  },
  {
   "attachments": {},
   "cell_type": "markdown",
   "metadata": {},
   "source": [
    "Esto cerrará el navegador y liberará cualquier recurso utilizado por Selenium.\n",
    "\n",
    "Selenium ofrece una amplia gama de funcionalidades y opciones de configuración para adaptarse a tus necesidades específicas. Puedes explorar la documentación oficial de Selenium para obtener más información sobre todas las capacidades que ofrece.\n",
    "\n",
    "Es importante tener en cuenta que Selenium es una herramienta poderosa pero también puede ser lenta debido a la interacción con el navegador real. Si estás realizando web scraping en grandes volúmenes de datos, es posible que desees considerar otras opciones más eficientes, como el uso de bibliotecas de web scraping basadas en solicitudes HTTP.\n",
    "\n",
    "Recuerda siempre ser respetuoso y ético al utilizar Selenium y asegúrate de cumplir con los términos de servicio de los sitios web que estás automatizando o raspando."
   ]
  },
  {
   "attachments": {},
   "cell_type": "markdown",
   "metadata": {},
   "source": [
    "## **Carga de Datos por clicks (Extracción de OLX)**"
   ]
  },
  {
   "attachments": {},
   "cell_type": "markdown",
   "metadata": {},
   "source": [
    "Para extraer datos de OLX utilizando Selenium, a menudo es necesario interactuar con la página web haciendo clic en elementos para cargar más datos. A continuación, te proporcionaré una explicación detallada de cómo realizar esta tarea con ejemplos.\n",
    "\n",
    "1. **Configuración inicial:**\n",
    "\n",
    "Antes de comenzar, asegúrate de tener Selenium instalado y configurado correctamente en tu entorno de desarrollo, como se mencionó anteriormente en la respuesta anterior.\n",
    "\n",
    "2. **Importar módulos y configurar el controlador del navegador:**\n",
    "\n",
    "En primer lugar, importa los módulos necesarios de Selenium y configura el controlador del navegador. Asegúrate de tener el controlador correspondiente a tu navegador instalado y configurado."
   ]
  },
  {
   "cell_type": "code",
   "execution_count": null,
   "metadata": {},
   "outputs": [],
   "source": [
    "from selenium import webdriver\n",
    "\n",
    "# Configurar el controlador de Chrome\n",
    "driver = webdriver.Chrome('/ruta/al/chromedriver')"
   ]
  },
  {
   "attachments": {},
   "cell_type": "markdown",
   "metadata": {},
   "source": [
    "3. **Abrir la página web de OLX:**\n",
    "\n",
    "Utiliza el método `get()` para abrir la página principal de OLX."
   ]
  },
  {
   "cell_type": "code",
   "execution_count": null,
   "metadata": {},
   "outputs": [],
   "source": [
    "# Abrir la página principal de OLX\n",
    "driver.get('https://www.olx.com')"
   ]
  },
  {
   "attachments": {},
   "cell_type": "markdown",
   "metadata": {},
   "source": [
    "4. **Interacción con la página web:**\n",
    "\n",
    "Ahora, necesitaremos interactuar con la página web haciendo clic en los elementos correspondientes para cargar más datos. Puedes encontrar los selectores CSS o XPath adecuados inspeccionando los elementos en la página web."
   ]
  },
  {
   "cell_type": "code",
   "execution_count": null,
   "metadata": {},
   "outputs": [],
   "source": [
    "# Hacer clic en el botón \"Cargar más resultados\" hasta que no haya más resultados disponibles\n",
    "while True:\n",
    "    try:\n",
    "        # Buscar y hacer clic en el botón \"Cargar más resultados\"\n",
    "        load_more_button = driver.find_element_by_css_selector('.ver-mas-btn')\n",
    "        load_more_button.click()\n",
    "        time.sleep(2)  # Esperar unos segundos para que se carguen los nuevos resultados\n",
    "    except NoSuchElementException:\n",
    "        # No se encuentra el botón, no hay más resultados para cargar\n",
    "        break"
   ]
  },
  {
   "attachments": {},
   "cell_type": "markdown",
   "metadata": {},
   "source": [
    "En este ejemplo, estamos buscando el botón \"`Cargar más resultados`\" utilizando un selector CSS y haciendo clic en él. Luego, esperamos unos segundos para que se carguen los nuevos resultados antes de continuar con el siguiente clic. Esto se realiza en un bucle infinito hasta que no haya más resultados disponibles.\n",
    "\n",
    "5. **Extraer datos:**\n",
    "\n",
    "Una vez que hayas cargado todos los datos necesarios, puedes extraer la información deseada utilizando los selectores adecuados y los métodos de Selenium."
   ]
  },
  {
   "cell_type": "code",
   "execution_count": null,
   "metadata": {},
   "outputs": [],
   "source": [
    "# Extraer información de los anuncios\n",
    "ads = driver.find_elements_by_css_selector('.ad-list-item')\n",
    "for ad in ads:\n",
    "    title = ad.find_element_by_css_selector('.title').text\n",
    "    price = ad.find_element_by_css_selector('.price').text\n",
    "    location = ad.find_element_by_css_selector('.location').text\n",
    "    print(f'Título: {title}, Precio: {price}, Ubicación: {location}')"
   ]
  },
  {
   "attachments": {},
   "cell_type": "markdown",
   "metadata": {},
   "source": [
    "En este ejemplo, estamos extrayendo información de cada anuncio en la página web, como el título, el precio y la ubicación.\n",
    "\n",
    "6. **Cierre del navegador:**\n",
    "\n",
    "Al finalizar la extracción de datos, asegúrate de cerrar correctamente el navegador para liberar recursos."
   ]
  },
  {
   "cell_type": "code",
   "execution_count": null,
   "metadata": {},
   "outputs": [],
   "source": [
    "# Cerrar el navegador\n",
    "driver.quit()"
   ]
  },
  {
   "attachments": {},
   "cell_type": "markdown",
   "metadata": {},
   "source": [
    "Esto es solo un ejemplo básico para cargar datos por clics en OLX utilizando Selenium. Puedes personalizar y expandir este código según tus necesidades específicas, como realizar búsquedas específicas, aplicar filtros adicionales, etc.\n",
    "\n",
    "Recuerda siempre ser respetuoso y ético al utilizar Selenium y asegúrate de cumplir con los términos de servicio del sitio web que estás raspando."
   ]
  },
  {
   "attachments": {},
   "cell_type": "markdown",
   "metadata": {},
   "source": [
    "## **Web Scraping Dinámico Horizontal y Vertical (Extracción de MERCADO LIBRE)**"
   ]
  },
  {
   "attachments": {},
   "cell_type": "markdown",
   "metadata": {},
   "source": [
    "El web scraping dinámico se utiliza cuando una página web utiliza tecnologías como JavaScript para cargar y mostrar datos de forma dinámica. En este caso, utilizaremos Selenium para interactuar con la página web de Mercado Libre y extraer datos tanto en sentido horizontal como vertical. A continuación, te proporcionaré una explicación detallada con ejemplos de cómo realizar esta tarea.\n",
    "\n",
    "1. **Configuración inicial:**\n",
    "\n",
    "Antes de comenzar, asegúrate de tener Selenium instalado y configurado correctamente en tu entorno de desarrollo, como se mencionó anteriormente en la respuesta anterior.\n",
    "\n",
    "2. **Importar módulos y configurar el controlador del navegador:**\n",
    "\n",
    "En primer lugar, importa los módulos necesarios de Selenium y configura el controlador del navegador. Asegúrate de tener el controlador correspondiente a tu navegador instalado y configurado."
   ]
  },
  {
   "cell_type": "code",
   "execution_count": null,
   "metadata": {},
   "outputs": [],
   "source": [
    "from selenium import webdriver\n",
    "\n",
    "# Configurar el controlador de Chrome\n",
    "driver = webdriver.Chrome('/ruta/al/chromedriver')"
   ]
  },
  {
   "attachments": {},
   "cell_type": "markdown",
   "metadata": {},
   "source": [
    "3. **Abrir la página web de Mercado Libre:**\n",
    "\n",
    "Utiliza el método `get()` para abrir la página principal de Mercado Libre."
   ]
  },
  {
   "cell_type": "code",
   "execution_count": null,
   "metadata": {},
   "outputs": [],
   "source": [
    "# Abrir la página principal de Mercado Libre\n",
    "driver.get('https://www.mercadolibre.com')"
   ]
  },
  {
   "attachments": {},
   "cell_type": "markdown",
   "metadata": {},
   "source": [
    "4. **Interacción con la página web:**\n",
    "\n",
    "Ahora, necesitaremos interactuar con la página web de Mercado Libre para cargar y mostrar más datos. Utilizaremos el método `execute_script()` para ejecutar código JavaScript y realizar acciones como hacer clic en botones, desplazarse hacia abajo, etc."
   ]
  },
  {
   "cell_type": "code",
   "execution_count": null,
   "metadata": {},
   "outputs": [],
   "source": [
    "import time\n",
    "\n",
    "# Hacer clic en el botón \"Aceptar\" de las cookies\n",
    "accept_button = driver.find_element_by_xpath(\"//button[contains(text(), 'Aceptar')]\")\n",
    "accept_button.click()\n",
    "\n",
    "# Desplazarse hacia abajo para cargar más resultados\n",
    "for _ in range(5):\n",
    "    driver.execute_script(\"window.scrollTo(0, document.body.scrollHeight);\")\n",
    "    time.sleep(2)  # Esperar unos segundos para que se carguen los nuevos resultados"
   ]
  },
  {
   "attachments": {},
   "cell_type": "markdown",
   "metadata": {},
   "source": [
    "En este ejemplo, estamos haciendo clic en el botón \"`Aceptar`\" de las cookies utilizando un selector `XPath` y luego nos desplazamos hacia abajo en la página web para cargar más resultados. Repetimos este proceso cinco veces, esperando unos segundos después de cada desplazamiento para permitir que se carguen los nuevos resultados.\n",
    "\n",
    "5. **Extraer datos:**\n",
    "\n",
    "Una vez que hayas cargado todos los datos necesarios, puedes extraer la información deseada utilizando los selectores adecuados y los métodos de Selenium."
   ]
  },
  {
   "cell_type": "code",
   "execution_count": null,
   "metadata": {},
   "outputs": [],
   "source": [
    "# Extraer información de los productos\n",
    "products = driver.find_elements_by_css_selector('.ui-search-layout__item')\n",
    "for product in products:\n",
    "    title = product.find_element_by_css_selector('.ui-search-item__title').text\n",
    "    price = product.find_element_by_css_selector('.ui-search-price__second-line span:last-child').text\n",
    "    location = product.find_element_by_css_selector('.ui-search-item__location').text\n",
    "    print(f'Título: {title}, Precio: {price}, Ubicación: {location}')"
   ]
  },
  {
   "attachments": {},
   "cell_type": "markdown",
   "metadata": {},
   "source": [
    "En este ejemplo, estamos extrayendo información de cada producto en la página web de Mercado Libre, como el título, el precio y la ubicación.\n",
    "\n",
    "6. **Cierre del navegador:**\n",
    "\n",
    "Al finalizar la extracción de datos, asegúrate de cerrar correctamente el navegador para liberar los recursos."
   ]
  },
  {
   "cell_type": "code",
   "execution_count": null,
   "metadata": {},
   "outputs": [],
   "source": [
    "# Cerrar el navegador\n",
    "driver.quit()"
   ]
  },
  {
   "attachments": {},
   "cell_type": "markdown",
   "metadata": {},
   "source": [
    "Con estos pasos, puedes realizar web scraping dinámico tanto en sentido horizontal como vertical en la página web de Mercado Libre utilizando Selenium. Recuerda que es importante ser respetuoso y ético al realizar web scraping y cumplir con los términos de servicio del sitio web.\n",
    "\n",
    "Ten en cuenta que la estructura y los selectores utilizados en el ejemplo pueden variar dependiendo de la versión y el diseño de la página web de Mercado Libre en el momento de tu consulta. Asegúrate de inspeccionar los elementos de la página y ajustar los selectores según sea necesario.\n",
    "\n",
    "Espero que esta explicación te sea útil para realizar web scraping en Mercado Libre utilizando Selenium"
   ]
  },
  {
   "attachments": {},
   "cell_type": "markdown",
   "metadata": {},
   "source": [
    "## **Scrolling y Manejo de Tabs (Extracción de GOOGLE PLACES)**"
   ]
  },
  {
   "attachments": {},
   "cell_type": "markdown",
   "metadata": {},
   "source": [
    "En este ejemplo, utilizaremos Selenium para extraer información de la página de Google Places. Veremos cómo hacer scrolling para cargar más resultados y cómo manejar las pestañas del navegador para obtener información detallada sobre cada lugar. A continuación, te proporcionaré una explicación detallada con ejemplos de cómo realizar esta tarea.\n",
    "\n",
    "1. **Configuración inicial:**\n",
    "\n",
    "Asegúrate de tener Selenium instalado y configurado correctamente en tu entorno de desarrollo, como se mencionó anteriormente en respuestas anteriores. También necesitarás el controlador del navegador correspondiente.\n",
    "\n",
    "2. **Importar módulos y configurar el controlador del navegador:**\n",
    "\n",
    "Importa los módulos necesarios de Selenium y configura el controlador del navegador."
   ]
  },
  {
   "cell_type": "code",
   "execution_count": null,
   "metadata": {},
   "outputs": [],
   "source": [
    "from selenium import webdriver\n",
    "from selenium.webdriver.common.keys import Keys\n",
    "\n",
    "# Configurar el controlador de Chrome\n",
    "driver = webdriver.Chrome('/ruta/al/chromedriver')"
   ]
  },
  {
   "attachments": {},
   "cell_type": "markdown",
   "metadata": {},
   "source": [
    "3. **Abrir la página de Google Places:**\n",
    "\n",
    "Utiliza el método `get()` para abrir la página de Google Places."
   ]
  },
  {
   "cell_type": "code",
   "execution_count": null,
   "metadata": {},
   "outputs": [],
   "source": [
    "# Abrir la página de Google Places\n",
    "driver.get('https://www.google.com/maps')"
   ]
  },
  {
   "attachments": {},
   "cell_type": "markdown",
   "metadata": {},
   "source": [
    "4. **Buscar lugares:**\n",
    "\n",
    "Introduce la consulta de búsqueda en el campo de búsqueda y presiona la tecla \"`Enter`\" para obtener resultados."
   ]
  },
  {
   "cell_type": "code",
   "execution_count": null,
   "metadata": {},
   "outputs": [],
   "source": [
    "# Buscar lugares en la ubicación deseada\n",
    "search_box = driver.find_element_by_xpath(\"//input[@autofocus='autofocus']\")\n",
    "search_box.send_keys('restaurantes en Ciudad de México')\n",
    "search_box.send_keys(Keys.ENTER)"
   ]
  },
  {
   "attachments": {},
   "cell_type": "markdown",
   "metadata": {},
   "source": [
    "5. **Hacer scrolling para cargar más resultados:**\n",
    "\n",
    "Dado que los resultados en Google Places se cargan dinámicamente a medida que haces scrolling, necesitamos hacer scrolling para obtener más resultados."
   ]
  },
  {
   "cell_type": "code",
   "execution_count": null,
   "metadata": {},
   "outputs": [],
   "source": [
    "import time\n",
    "\n",
    "# Hacer scrolling para cargar más resultados\n",
    "SCROLL_PAUSE_TIME = 2\n",
    "\n",
    "while True:\n",
    "    # Scroll hasta el final de la página\n",
    "    driver.execute_script(\"window.scrollTo(0, document.body.scrollHeight);\")\n",
    "\n",
    "    # Esperar a que se carguen los nuevos resultados\n",
    "    time.sleep(SCROLL_PAUSE_TIME)\n",
    "\n",
    "    # Verificar si se han cargado todos los resultados\n",
    "    load_more_button = driver.find_element_by_xpath(\"//button[contains(@aria-label, 'Más resultados')]\")\n",
    "    if load_more_button:\n",
    "        load_more_button.click()\n",
    "    else:\n",
    "        break"
   ]
  },
  {
   "attachments": {},
   "cell_type": "markdown",
   "metadata": {},
   "source": [
    "En este ejemplo, hacemos scrolling en la página para cargar más resultados. Utilizamos un bucle `while` para seguir haciendo scrolling hasta que no haya más botón \"`Más resultados`\" para cargar.\n",
    "\n",
    "6. **Obtener información detallada de cada lugar:**\n",
    "\n",
    "Una vez que hemos cargado todos los resultados, podemos hacer clic en cada lugar para obtener información detallada."
   ]
  },
  {
   "cell_type": "code",
   "execution_count": null,
   "metadata": {},
   "outputs": [],
   "source": [
    "# Obtener información detallada de cada lugar\n",
    "places = driver.find_elements_by_css_selector('.section-result')\n",
    "for place in places:\n",
    "    place.click()\n",
    "    time.sleep(2)  # Esperar a que se cargue la información detallada\n",
    "\n",
    "    # Extraer información detallada del lugar\n",
    "    name = driver.find_element_by_css_selector('.section-hero-header-title-title').text\n",
    "    address = driver.find_element_by_css_selector('.section-info-text span').text\n",
    "    rating = driver.find_element_by_css_selector('.section-star-display').text\n",
    "\n",
    "    print(f'Nombre: {name}, Dirección: {address}, Calificación: {rating}')\n",
    "\n",
    "    # Cerrar la pestaña actual y volver a la página de resultados\n",
    "    driver.close()\n",
    "    driver.switch_to.window(driver.window_handles[0])"
   ]
  },
  {
   "attachments": {},
   "cell_type": "markdown",
   "metadata": {},
   "source": [
    "En este ejemplo, utilizamos el selector CSS \"`.section-result`\" para obtener una lista de todos los lugares en los resultados. Luego, hacemos clic en cada lugar para abrir una nueva pestaña con información detallada. Extraemos la información deseada, como el nombre, la dirección y la calificación del lugar, y luego cerramos la pestaña y volvemos a la página de resultados.\n",
    "\n",
    "7. **Cerrar el navegador:**\n",
    "\n",
    "No olvides cerrar el navegador al finalizar."
   ]
  },
  {
   "cell_type": "code",
   "execution_count": null,
   "metadata": {},
   "outputs": [],
   "source": [
    "# Cerrar el navegador\n",
    "driver.quit()"
   ]
  },
  {
   "attachments": {},
   "cell_type": "markdown",
   "metadata": {},
   "source": [
    "Con estos pasos, puedes utilizar Selenium para realizar scrolling y manejar las pestañas del navegador al extraer información de Google Places. Recuerda que es importante ser respetuoso y ético al realizar web scraping y cumplir con los términos de servicio del sitio web.\n",
    "\n",
    "Espero que esta explicación detallada te sea útil para realizar web scraping dinámico en Google Places utilizando Selenium."
   ]
  },
  {
   "attachments": {},
   "cell_type": "markdown",
   "metadata": {},
   "source": [
    "## **Formularios y Login (Extracción de TWITTER)**"
   ]
  },
  {
   "attachments": {},
   "cell_type": "markdown",
   "metadata": {},
   "source": [
    "En este ejemplo, utilizaremos Selenium para extraer información de Twitter, lo que incluye iniciar sesión en la plataforma. Veremos cómo interactuar con formularios y realizar un proceso de login para acceder a los datos requeridos. A continuación, te proporcionaré una explicación detallada con ejemplos de cómo realizar esta tarea.\n",
    "\n",
    "1. **Configuración inicial:**\n",
    "\n",
    "Asegúrate de tener Selenium instalado y configurado correctamente en tu entorno de desarrollo, como se mencionó anteriormente en respuestas anteriores. También necesitarás el controlador del navegador correspondiente.\n",
    "\n",
    "2. **Importar módulos y configurar el controlador del navegador:**\n",
    "\n",
    "Importa los módulos necesarios de Selenium y configura el controlador del navegador."
   ]
  },
  {
   "cell_type": "code",
   "execution_count": null,
   "metadata": {},
   "outputs": [],
   "source": [
    "from selenium import webdriver\n",
    "from selenium.webdriver.common.keys import Keys\n",
    "\n",
    "# Configurar el controlador de Chrome\n",
    "driver = webdriver.Chrome('/ruta/al/chromedriver')"
   ]
  },
  {
   "attachments": {},
   "cell_type": "markdown",
   "metadata": {},
   "source": [
    "3. **Abrir la página de Twitter:**\n",
    "\n",
    "Utiliza el método `get()` para abrir la página de Twitter."
   ]
  },
  {
   "cell_type": "code",
   "execution_count": null,
   "metadata": {},
   "outputs": [],
   "source": [
    "# Abrir la página de Twitter\n",
    "driver.get('https://www.twitter.com')"
   ]
  },
  {
   "attachments": {},
   "cell_type": "markdown",
   "metadata": {},
   "source": [
    "4. **Interactuar con el formulario de login:**\n",
    "\n",
    "Localiza los elementos del formulario de login y completa los campos requeridos."
   ]
  },
  {
   "cell_type": "code",
   "execution_count": null,
   "metadata": {},
   "outputs": [],
   "source": [
    "# Introducir credenciales de acceso\n",
    "username_field = driver.find_element_by_name('session[username_or_email]')\n",
    "password_field = driver.find_element_by_name('session[password]')\n",
    "\n",
    "username_field.send_keys('nombre_de_usuario')\n",
    "password_field.send_keys('contraseña')"
   ]
  },
  {
   "attachments": {},
   "cell_type": "markdown",
   "metadata": {},
   "source": [
    "5. **Enviar el formulario de login:**\n",
    "\n",
    "Utiliza el método `submit()` o `send_keys(Keys.RETURN)` para enviar el formulario y realizar el login."
   ]
  },
  {
   "cell_type": "code",
   "execution_count": null,
   "metadata": {},
   "outputs": [],
   "source": [
    "# Enviar formulario de login\n",
    "password_field.send_keys(Keys.RETURN)"
   ]
  },
  {
   "attachments": {},
   "cell_type": "markdown",
   "metadata": {},
   "source": [
    "6. **Esperar a que la página cargue y extraer información:**\n",
    "\n",
    "Una vez que hayas iniciado sesión, puedes esperar a que la página cargue completamente y luego extraer la información que necesites."
   ]
  },
  {
   "cell_type": "code",
   "execution_count": null,
   "metadata": {},
   "outputs": [],
   "source": [
    "import time\n",
    "\n",
    "# Esperar a que la página cargue completamente\n",
    "time.sleep(5)\n",
    "\n",
    "# Extraer información deseada\n",
    "tweets = driver.find_elements_by_css_selector('.tweet-text')\n",
    "for tweet in tweets:\n",
    "    print(tweet.text)"
   ]
  },
  {
   "attachments": {},
   "cell_type": "markdown",
   "metadata": {},
   "source": [
    "En este ejemplo, esperamos 5 segundos para asegurarnos de que la página se haya cargado completamente. Luego, utilizamos un selector CSS para encontrar todos los elementos que contienen los tweets y los imprimimos en la consola.\n",
    "\n",
    "7. **Cerrar el navegador:**\n",
    "\n",
    "No olvides cerrar el navegador al finalizar."
   ]
  },
  {
   "cell_type": "code",
   "execution_count": null,
   "metadata": {},
   "outputs": [],
   "source": [
    "# Cerrar el navegador\n",
    "driver.quit()"
   ]
  },
  {
   "attachments": {},
   "cell_type": "markdown",
   "metadata": {},
   "source": [
    "Con estos pasos, puedes utilizar Selenium para interactuar con formularios y realizar el login en Twitter para extraer información deseada. Recuerda que es importante ser respetuoso y ético al realizar web scraping y cumplir con los términos de servicio del sitio web.\n",
    "\n",
    "Espero que esta explicación detallada te sea útil para realizar web scraping en Twitter utilizando Selenium."
   ]
  },
  {
   "attachments": {},
   "cell_type": "markdown",
   "metadata": {},
   "source": [
    "## **Detectando carga dinámica (¿Cuándo utilizar Selenium?)**"
   ]
  },
  {
   "attachments": {},
   "cell_type": "markdown",
   "metadata": {},
   "source": [
    "Selenium es una herramienta poderosa para automatizar interacciones en un navegador web. Una de las principales ventajas de Selenium es su capacidad para interactuar con contenido dinámico en páginas web. En esta explicación detallada, veremos cuándo es apropiado utilizar Selenium para detectar carga dinámica y cómo hacerlo.\n",
    "\n",
    "1. **Qué es la carga dinámica:**\n",
    "\n",
    "La carga dinámica se refiere a la actualización y modificación del contenido de una página web después de que se haya cargado inicialmente. Esto puede incluir elementos como actualizaciones en tiempo real, carga de datos adicionales mediante la interacción del usuario, cambios en la estructura de la página, etc.\n",
    "\n",
    "2. **Cuándo utilizar Selenium:**\n",
    "\n",
    "Selenium es especialmente útil cuando la carga dinámica se produce a través de la interacción del usuario con la página web. Por ejemplo, cuando es necesario hacer clic en un botón para cargar más contenido, desplazarse hacia abajo para revelar más elementos o interactuar con formularios para realizar búsquedas o filtrar resultados.\n",
    "\n",
    "Si la carga dinámica se produce mediante llamadas AJAX, actualizaciones en tiempo real o manipulaciones del DOM sin la necesidad de interactuar directamente con la página, puede ser más adecuado utilizar otras herramientas como BeautifulSoup o Scrapy.\n",
    "\n",
    "3. **Ejemplo de detección de carga dinámica con Selenium:**\n",
    "\n",
    "Supongamos que queremos extraer información de una página web que carga más contenido al hacer clic en un botón \"`Cargar más`\". Utilizaremos Selenium para detectar esta carga dinámica y extraer toda la información."
   ]
  },
  {
   "cell_type": "code",
   "execution_count": null,
   "metadata": {},
   "outputs": [],
   "source": [
    "from selenium import webdriver\n",
    "from selenium.webdriver.common.by import By\n",
    "from selenium.webdriver.support.ui import WebDriverWait\n",
    "from selenium.webdriver.support import expected_conditions as EC\n",
    "\n",
    "# Configurar el controlador de Chrome\n",
    "driver = webdriver.Chrome('/ruta/al/chromedriver')\n",
    "\n",
    "# Abrir la página web\n",
    "driver.get('https://www.example.com')\n",
    "\n",
    "# Esperar a que aparezca el botón \"Cargar más\"\n",
    "button = WebDriverWait(driver, 10).until(EC.presence_of_element_located((By.ID, 'load-more-button')))\n",
    "\n",
    "# Hacer clic en el botón \"Cargar más\" varias veces para cargar todo el contenido\n",
    "while button.is_displayed():\n",
    "    button.click()\n",
    "    button = WebDriverWait(driver, 10).until(EC.presence_of_element_located((By.ID, 'load-more-button')))\n",
    "\n",
    "# Extraer la información deseada\n",
    "data = driver.find_elements_by_css_selector('.data-element')\n",
    "for element in data:\n",
    "    print(element.text)\n",
    "\n",
    "# Cerrar el navegador\n",
    "driver.quit()"
   ]
  },
  {
   "attachments": {},
   "cell_type": "markdown",
   "metadata": {},
   "source": [
    "En este ejemplo, utilizamos Selenium para abrir la página web y esperar a que aparezca el botón \"`Cargar más`\". Luego, hacemos clic en el botón repetidamente hasta que ya no esté visible, lo que indica que se ha cargado todo el contenido. Después, extraemos la información deseada utilizando un selector CSS.\n",
    "\n",
    "Es importante tener en cuenta que Selenium puede ser más lento que otras herramientas de web scraping cuando se trata de grandes cantidades de datos o páginas complejas. Sin embargo, es extremadamente útil para casos en los que se requiere interactuar con la página para cargar contenido dinámico.\n",
    "\n",
    "4. **Consideraciones adicionales:**\n",
    "\n",
    "Al utilizar Selenium para detectar carga dinámica, es importante tener en cuenta las siguientes consideraciones:\n",
    "\n",
    "* Asegúrate de que el controlador del navegador esté configurado correctamente y sea compatible con la versión del navegador que estás utilizando.\n",
    "* Utiliza las esperas explícitas de Selenium, como `WebDriverWait`, para esperar a que los elementos deseados estén presentes antes de interactuar con ellos.\n",
    "* Ten en cuenta el rendimiento y la eficiencia al hacer múltiples clics para cargar contenido adicional. En algunos casos, puede ser más eficiente cargar todo el contenido desde la API o utilizar técnicas de desplazamiento suave en lugar de hacer clic repetidamente.\n",
    "* Considera utilizar técnicas de extracción de datos más específicas, como localizar elementos por su atributo data o utilizar selectores CSS avanzados, para obtener solo la información necesaria y evitar recorrer elementos innecesarios.\n",
    "\n",
    "Con esta explicación detallada y el ejemplo proporcionado, deberías tener una comprensión sólida de cuándo utilizar Selenium para detectar carga dinámica y cómo hacerlo. Recuerda que es importante utilizar herramientas de web scraping de manera ética y respetar los términos de servicio del sitio web que estás extrayendo."
   ]
  },
  {
   "attachments": {},
   "cell_type": "markdown",
   "metadata": {},
   "source": [
    "| **Inicio** | **atrás 4** | **Siguiente 6** |\n",
    "|----------- |-------------- |---------------|\n",
    "| [🏠](../../README.md) | [⏪](./4.Varias_Paginas_del_mismo_dominio.ipynb)| [⏩](./6.Web_Scraping_de_APIs_iFrames_y_Scripts.ipynb)|"
   ]
  }
 ],
 "metadata": {
  "kernelspec": {
   "display_name": "base",
   "language": "python",
   "name": "python3"
  },
  "language_info": {
   "name": "python",
   "version": "3.9.12"
  },
  "orig_nbformat": 4
 },
 "nbformat": 4,
 "nbformat_minor": 2
}
