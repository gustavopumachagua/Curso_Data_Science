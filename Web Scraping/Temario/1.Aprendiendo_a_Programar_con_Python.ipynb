{
 "cells": [
  {
   "attachments": {},
   "cell_type": "markdown",
   "metadata": {},
   "source": [
    "\n",
    "| **Inicio** | **Siguiente 2** |\n",
    "|----------- |-------------- |\n",
    "| [🏠](../../README.md) | [⏩](./2.Introduccion_al_Web_Scraping.ipynb)|"
   ]
  },
  {
   "attachments": {},
   "cell_type": "markdown",
   "metadata": {},
   "source": [
    "## **1. Aprendiendo a Programar con Python**"
   ]
  },
  {
   "attachments": {},
   "cell_type": "markdown",
   "metadata": {},
   "source": [
    "## **Variables**"
   ]
  },
  {
   "attachments": {},
   "cell_type": "markdown",
   "metadata": {},
   "source": [
    "En Python, las variables son utilizadas para almacenar y manipular datos. Puedes pensar en ellas como contenedores que guardan valores, como números, cadenas de texto o cualquier otro tipo de información que desees utilizar en tu programa. Las variables permiten que los datos sean almacenados temporalmente en la memoria de la computadora y se puedan modificar o acceder a ellos fácilmente.\n",
    "\n",
    "En Python, no necesitas declarar explícitamente el tipo de una variable antes de usarla. El tipo de la variable es inferido automáticamente por el valor que le asignas. Esto hace que Python sea un lenguaje de programación dinámicamente tipado.\n",
    "\n",
    "Aquí tienes un ejemplo sencillo de cómo declarar una variable en Python:"
   ]
  },
  {
   "cell_type": "code",
   "execution_count": 1,
   "metadata": {},
   "outputs": [],
   "source": [
    "mensaje = \"Hola, mundo!\""
   ]
  },
  {
   "attachments": {},
   "cell_type": "markdown",
   "metadata": {},
   "source": [
    "En este caso, hemos creado una variable llamada \"`mensaje`\" y le hemos asignado el valor de la cadena de texto \"`Hola, mundo!`\". Python automáticamente reconoce que la variable \"`mensaje`\" es de tipo cadena de texto (`str`).\n",
    "\n",
    "Las variables también pueden almacenar números. Por ejemplo:"
   ]
  },
  {
   "cell_type": "code",
   "execution_count": 2,
   "metadata": {},
   "outputs": [],
   "source": [
    "edad = 25"
   ]
  },
  {
   "attachments": {},
   "cell_type": "markdown",
   "metadata": {},
   "source": [
    "Aquí hemos creado una variable llamada \"`edad`\" y le hemos asignado el valor numérico `25`. Python infiere que \"`edad`\" es de tipo entero (`int`).\n",
    "\n",
    "Las variables pueden ser utilizadas en operaciones matemáticas y en la manipulación de datos. Por ejemplo:"
   ]
  },
  {
   "cell_type": "code",
   "execution_count": 3,
   "metadata": {},
   "outputs": [
    {
     "name": "stdout",
     "output_type": "stream",
     "text": [
      "15\n",
      "5\n",
      "50\n",
      "2.0\n"
     ]
    }
   ],
   "source": [
    "a = 10\n",
    "b = 5\n",
    "\n",
    "suma = a + b\n",
    "resta = a - b\n",
    "multiplicacion = a * b\n",
    "division = a / b\n",
    "\n",
    "print(suma)           # Resultado: 15\n",
    "print(resta)          # Resultado: 5\n",
    "print(multiplicacion)  # Resultado: 50\n",
    "print(division)       # Resultado: 2.0"
   ]
  },
  {
   "attachments": {},
   "cell_type": "markdown",
   "metadata": {},
   "source": [
    "En este ejemplo, hemos creado las variables \"`a`\" y \"`b`\" y les hemos asignado los valores `10` y `5` respectivamente. Luego, utilizamos esas variables para realizar operaciones matemáticas y almacenamos los resultados en otras variables. Finalmente, imprimimos los valores resultantes.\n",
    "\n",
    "Además de los tipos de datos básicos (cadenas de texto, enteros, números de punto flotante, etc.), Python también permite crear variables de tipos más complejos, como listas, diccionarios, conjuntos, entre otros."
   ]
  },
  {
   "cell_type": "code",
   "execution_count": 4,
   "metadata": {},
   "outputs": [],
   "source": [
    "frutas = [\"manzana\", \"banana\", \"naranja\"]\n",
    "puntajes = {\"Juan\": 95, \"María\": 80, \"Pedro\": 70}\n",
    "conjunto = {1, 2, 3, 4, 5}"
   ]
  },
  {
   "attachments": {},
   "cell_type": "markdown",
   "metadata": {},
   "source": [
    "En este caso, hemos creado una variable \"`frutas`\" que es una lista que contiene cadenas de texto, una variable \"`puntajes`\" que es un diccionario que relaciona nombres con puntajes, y una variable \"conjunto\" que es un conjunto de números enteros.\n",
    "\n",
    "En resumen, las variables en Python son contenedores que te permiten almacenar y manipular datos en tu programa. Pueden contener diferentes tipos de datos y se pueden utilizar en operaciones matemáticas, manipulación de datos y muchos otros aspectos de la programación en Python."
   ]
  },
  {
   "attachments": {},
   "cell_type": "markdown",
   "metadata": {},
   "source": [
    "## **Tipos de Datos**"
   ]
  },
  {
   "attachments": {},
   "cell_type": "markdown",
   "metadata": {},
   "source": [
    "En Python, existen varios tipos de datos que se utilizan para almacenar diferentes tipos de información. A continuación, te proporcionaré una explicación detallada de los tipos de datos más comunes en Python, junto con ejemplos:\n",
    "\n",
    "* **Enteros (int):** Representan números enteros sin decimales. Pueden ser positivos o negativos. Por ejemplo:"
   ]
  },
  {
   "cell_type": "code",
   "execution_count": 5,
   "metadata": {},
   "outputs": [],
   "source": [
    "edad = 25\n",
    "contador = -10"
   ]
  },
  {
   "attachments": {},
   "cell_type": "markdown",
   "metadata": {},
   "source": [
    "* **Números de punto flotante (float):** Representan números reales con decimales. Por ejemplo:"
   ]
  },
  {
   "cell_type": "code",
   "execution_count": 6,
   "metadata": {},
   "outputs": [],
   "source": [
    "pi = 3.14159\n",
    "precio = 19.99"
   ]
  },
  {
   "attachments": {},
   "cell_type": "markdown",
   "metadata": {},
   "source": [
    "* **Cadenas de texto (str):** Representan una secuencia de caracteres, como palabras o frases. Se pueden crear utilizando comillas simples (`''`) o comillas dobles (`\"\"`). Por ejemplo:"
   ]
  },
  {
   "cell_type": "code",
   "execution_count": 7,
   "metadata": {},
   "outputs": [],
   "source": [
    "nombre = \"Juan\"\n",
    "mensaje = 'Hola, ¿cómo estás?'"
   ]
  },
  {
   "attachments": {},
   "cell_type": "markdown",
   "metadata": {},
   "source": [
    "* **Booleanos (bool):** Representan valores de verdad, es decir, verdadero (`True`) o falso (`False`). Son utilizados en expresiones lógicas y de control de flujo. Por ejemplo:"
   ]
  },
  {
   "cell_type": "code",
   "execution_count": 8,
   "metadata": {},
   "outputs": [],
   "source": [
    "activo = True\n",
    "finalizado = False"
   ]
  },
  {
   "attachments": {},
   "cell_type": "markdown",
   "metadata": {},
   "source": [
    "* **Listas (list):** Representan una colección ordenada y modificable de elementos. Pueden contener diferentes tipos de datos y se definen entre corchetes (`[]`), separando los elementos por comas. Por ejemplo:"
   ]
  },
  {
   "cell_type": "code",
   "execution_count": 9,
   "metadata": {},
   "outputs": [],
   "source": [
    "numeros = [1, 2, 3, 4, 5]\n",
    "frutas = [\"manzana\", \"banana\", \"naranja\"]"
   ]
  },
  {
   "attachments": {},
   "cell_type": "markdown",
   "metadata": {},
   "source": [
    "* **Tuplas (tuple):** Son similares a las listas, pero a diferencia de ellas, las tuplas son inmutables, es decir, no se pueden modificar una vez creadas. Se definen entre paréntesis (`()`) y los elementos se separan por comas. Por ejemplo:"
   ]
  },
  {
   "cell_type": "code",
   "execution_count": 10,
   "metadata": {},
   "outputs": [],
   "source": [
    "coordenadas = (3.14, 2.71)\n",
    "meses = (\"enero\", \"febrero\", \"marzo\")"
   ]
  },
  {
   "attachments": {},
   "cell_type": "markdown",
   "metadata": {},
   "source": [
    "* **Diccionarios (dict):** Representan una colección de pares clave-valor, donde cada valor está asociado a una clave única. Los diccionarios se definen entre llaves (`{}`), separando las claves y los valores por dos puntos (`:`) y separando los pares clave-valor por comas. Por ejemplo:"
   ]
  },
  {
   "cell_type": "code",
   "execution_count": 11,
   "metadata": {},
   "outputs": [],
   "source": [
    "persona = {\"nombre\": \"Juan\", \"edad\": 25, \"ciudad\": \"México\"}\n",
    "puntajes = {\"Juan\": 95, \"María\": 80, \"Pedro\": 70}"
   ]
  },
  {
   "attachments": {},
   "cell_type": "markdown",
   "metadata": {},
   "source": [
    "* **Conjuntos (set):** Representan una colección desordenada y sin elementos duplicados. Los conjuntos se definen entre llaves (`{}`), separando los elementos por comas. Por ejemplo:"
   ]
  },
  {
   "cell_type": "code",
   "execution_count": 12,
   "metadata": {},
   "outputs": [],
   "source": [
    "numeros = {1, 2, 3, 4, 5}\n",
    "letras = {\"a\", \"b\", \"c\"}"
   ]
  },
  {
   "attachments": {},
   "cell_type": "markdown",
   "metadata": {},
   "source": [
    "Estos son algunos de los tipos de datos más comunes en Python. Cada tipo de dato tiene sus propias propiedades y métodos asociados que te permiten realizar diferentes operaciones y manipulaciones en tus programas."
   ]
  },
  {
   "attachments": {},
   "cell_type": "markdown",
   "metadata": {},
   "source": [
    "## **Operaciones entre Variables**"
   ]
  },
  {
   "attachments": {},
   "cell_type": "markdown",
   "metadata": {},
   "source": [
    "Las operaciones entre variables en Python te permiten manipular y combinar los valores almacenados en diferentes variables. Puedes realizar operaciones aritméticas, concatenaciones de cadenas, comparaciones y más. A continuación, te proporcionaré una explicación detallada con ejemplos de las operaciones más comunes entre variables en Python:\n",
    "\n",
    "1. **Operaciones aritméticas:**\n",
    "\n",
    "* **Suma (+):** Se utiliza para sumar dos valores."
   ]
  },
  {
   "cell_type": "code",
   "execution_count": 13,
   "metadata": {},
   "outputs": [
    {
     "name": "stdout",
     "output_type": "stream",
     "text": [
      "8\n"
     ]
    }
   ],
   "source": [
    "a = 5\n",
    "b = 3\n",
    "suma = a + b\n",
    "print(suma)  # Resultado: 8"
   ]
  },
  {
   "attachments": {},
   "cell_type": "markdown",
   "metadata": {},
   "source": [
    "* **Resta (-):** Se utiliza para restar un valor de otro."
   ]
  },
  {
   "cell_type": "code",
   "execution_count": 14,
   "metadata": {},
   "outputs": [
    {
     "name": "stdout",
     "output_type": "stream",
     "text": [
      "2\n"
     ]
    }
   ],
   "source": [
    "a = 5\n",
    "b = 3\n",
    "resta = a - b\n",
    "print(resta)  # Resultado: 2"
   ]
  },
  {
   "attachments": {},
   "cell_type": "markdown",
   "metadata": {},
   "source": [
    "* **Multiplicación (*):** Se utiliza para multiplicar dos valores."
   ]
  },
  {
   "cell_type": "code",
   "execution_count": 15,
   "metadata": {},
   "outputs": [
    {
     "name": "stdout",
     "output_type": "stream",
     "text": [
      "15\n"
     ]
    }
   ],
   "source": [
    "a = 5\n",
    "b = 3\n",
    "multiplicacion = a * b\n",
    "print(multiplicacion)  # Resultado: 15"
   ]
  },
  {
   "attachments": {},
   "cell_type": "markdown",
   "metadata": {},
   "source": [
    "* **División (/):** Se utiliza para dividir un valor entre otro. El resultado es un número de punto flotante."
   ]
  },
  {
   "cell_type": "code",
   "execution_count": 16,
   "metadata": {},
   "outputs": [
    {
     "name": "stdout",
     "output_type": "stream",
     "text": [
      "1.6666666666666667\n"
     ]
    }
   ],
   "source": [
    "a = 5\n",
    "b = 3\n",
    "division = a / b\n",
    "print(division)  # Resultado: 1.6666666666666667"
   ]
  },
  {
   "attachments": {},
   "cell_type": "markdown",
   "metadata": {},
   "source": [
    "* **División entera (//):** Se utiliza para dividir un valor entre otro y obtener la parte entera del cociente."
   ]
  },
  {
   "cell_type": "code",
   "execution_count": 17,
   "metadata": {},
   "outputs": [
    {
     "name": "stdout",
     "output_type": "stream",
     "text": [
      "1\n"
     ]
    }
   ],
   "source": [
    "a = 5\n",
    "b = 3\n",
    "division_entera = a // b\n",
    "print(division_entera)  # Resultado: 1"
   ]
  },
  {
   "attachments": {},
   "cell_type": "markdown",
   "metadata": {},
   "source": [
    "* **Módulo (%):** Se utiliza para obtener el residuo de la división entre dos valores."
   ]
  },
  {
   "cell_type": "code",
   "execution_count": 18,
   "metadata": {},
   "outputs": [
    {
     "name": "stdout",
     "output_type": "stream",
     "text": [
      "2\n"
     ]
    }
   ],
   "source": [
    "a = 5\n",
    "b = 3\n",
    "modulo = a % b\n",
    "print(modulo)  # Resultado: 2"
   ]
  },
  {
   "attachments": {},
   "cell_type": "markdown",
   "metadata": {},
   "source": [
    "* `Potenciación (**):` Se utiliza para elevar un valor a la potencia de otro."
   ]
  },
  {
   "cell_type": "code",
   "execution_count": 19,
   "metadata": {},
   "outputs": [
    {
     "name": "stdout",
     "output_type": "stream",
     "text": [
      "8\n"
     ]
    }
   ],
   "source": [
    "a = 2\n",
    "b = 3\n",
    "potencia = a ** b\n",
    "print(potencia)  # Resultado: 8"
   ]
  },
  {
   "attachments": {},
   "cell_type": "markdown",
   "metadata": {},
   "source": [
    "2. **Concatenación de cadenas:**\n",
    "\n",
    "* Se utiliza el operador `+` para concatenar dos o más cadenas."
   ]
  },
  {
   "cell_type": "code",
   "execution_count": 20,
   "metadata": {},
   "outputs": [
    {
     "name": "stdout",
     "output_type": "stream",
     "text": [
      "Juan Pérez\n"
     ]
    }
   ],
   "source": [
    "nombre = \"Juan\"\n",
    "apellido = \"Pérez\"\n",
    "nombre_completo = nombre + \" \" + apellido\n",
    "print(nombre_completo)  # Resultado: \"Juan Pérez\""
   ]
  },
  {
   "attachments": {},
   "cell_type": "markdown",
   "metadata": {},
   "source": [
    "3. **Operaciones de comparación:**\n",
    "\n",
    "* **Igualdad (==):** Compara si dos valores son iguales."
   ]
  },
  {
   "cell_type": "code",
   "execution_count": 21,
   "metadata": {},
   "outputs": [
    {
     "name": "stdout",
     "output_type": "stream",
     "text": [
      "False\n"
     ]
    }
   ],
   "source": [
    "a = 5\n",
    "b = 3\n",
    "es_igual = a == b\n",
    "print(es_igual)  # Resultado: False"
   ]
  },
  {
   "attachments": {},
   "cell_type": "markdown",
   "metadata": {},
   "source": [
    "* **Desigualdad (!=):** Compara si dos valores son diferentes."
   ]
  },
  {
   "cell_type": "code",
   "execution_count": 22,
   "metadata": {},
   "outputs": [
    {
     "name": "stdout",
     "output_type": "stream",
     "text": [
      "True\n"
     ]
    }
   ],
   "source": [
    "a = 5\n",
    "b = 3\n",
    "es_diferente = a != b\n",
    "print(es_diferente)  # Resultado: True"
   ]
  },
  {
   "attachments": {},
   "cell_type": "markdown",
   "metadata": {},
   "source": [
    "* Mayor que (`>`), menor que (`<`), mayor o igual que (`>=`), menor o igual que (`<=`): Comparan si un valor es mayor, menor, mayor o igual, o menor o igual que otro valor, respectivamente."
   ]
  },
  {
   "cell_type": "code",
   "execution_count": 23,
   "metadata": {},
   "outputs": [
    {
     "name": "stdout",
     "output_type": "stream",
     "text": [
      "True\n",
      "True\n"
     ]
    }
   ],
   "source": [
    "a = 5\n",
    "b = 3\n",
    "es_mayor = a > b\n",
    "es_menor_o_igual = b <= a\n",
    "print(es_mayor)          # Resultado: True\n",
    "print(es_menor_o_igual)  # Resultado: True"
   ]
  },
  {
   "attachments": {},
   "cell_type": "markdown",
   "metadata": {},
   "source": [
    "4. **Operaciones lógicas:**\n",
    "\n",
    "* **Y lógico (and):** Devuelve `True` si ambos valores son `True`."
   ]
  },
  {
   "cell_type": "code",
   "execution_count": 24,
   "metadata": {},
   "outputs": [
    {
     "name": "stdout",
     "output_type": "stream",
     "text": [
      "False\n"
     ]
    }
   ],
   "source": [
    "a = True\n",
    "b = False\n",
    "resultado = a and b\n",
    "print(resultado)  # Resultado: False"
   ]
  },
  {
   "attachments": {},
   "cell_type": "markdown",
   "metadata": {},
   "source": [
    "* **O lógico (or):** Devuelve `True` si al menos uno de los valores es `True`."
   ]
  },
  {
   "cell_type": "code",
   "execution_count": 25,
   "metadata": {},
   "outputs": [
    {
     "name": "stdout",
     "output_type": "stream",
     "text": [
      "True\n"
     ]
    }
   ],
   "source": [
    "a = True\n",
    "b = False\n",
    "resultado = a or b\n",
    "print(resultado)  # Resultado: True"
   ]
  },
  {
   "attachments": {},
   "cell_type": "markdown",
   "metadata": {},
   "source": [
    "* **Negación lógica (not):** Invierte el valor de verdad de una expresión."
   ]
  },
  {
   "cell_type": "code",
   "execution_count": 26,
   "metadata": {},
   "outputs": [
    {
     "name": "stdout",
     "output_type": "stream",
     "text": [
      "False\n"
     ]
    }
   ],
   "source": [
    "a = True\n",
    "resultado = not a\n",
    "print(resultado)  # Resultado: False"
   ]
  },
  {
   "attachments": {},
   "cell_type": "markdown",
   "metadata": {},
   "source": [
    "Estos son solo algunos ejemplos de las operaciones entre variables que puedes realizar en Python. Con estas operaciones, puedes manipular y combinar datos de diferentes maneras para crear programas más complejos y realizar cálculos y comparaciones de manera eficiente."
   ]
  },
  {
   "attachments": {},
   "cell_type": "markdown",
   "metadata": {},
   "source": [
    "## **Salidas por Pantalla**"
   ]
  },
  {
   "attachments": {},
   "cell_type": "markdown",
   "metadata": {},
   "source": [
    "Las salidas por pantalla en Python se utilizan para mostrar información, resultados o mensajes al usuario en la consola o terminal. Esto es útil para comunicar el estado del programa, imprimir resultados de cálculos o solicitar interacciones al usuario. Python proporciona la función `print()` como una forma sencilla de realizar salidas por pantalla. A continuación, te proporcionaré una explicación detallada con ejemplos de las salidas por pantalla en Python:\n",
    "\n",
    "1. **Mostrar mensajes de texto:**\n",
    "\n",
    "Puedes utilizar la función `print()` para mostrar mensajes de texto en la consola. Los mensajes pueden ser cadenas de texto entre comillas simples (`''`) o comillas dobles (`\"\"`)."
   ]
  },
  {
   "cell_type": "code",
   "execution_count": 27,
   "metadata": {},
   "outputs": [
    {
     "name": "stdout",
     "output_type": "stream",
     "text": [
      "Hola, mundo!\n"
     ]
    }
   ],
   "source": [
    "print(\"Hola, mundo!\")  # Muestra el mensaje \"Hola, mundo!\""
   ]
  },
  {
   "attachments": {},
   "cell_type": "markdown",
   "metadata": {},
   "source": [
    "2. **Mostrar el valor de variables:**\n",
    "\n",
    "Puedes mostrar el valor de una variable utilizando la función `print()`. Esto es útil para depurar y verificar los valores almacenados en las variables."
   ]
  },
  {
   "cell_type": "code",
   "execution_count": 28,
   "metadata": {},
   "outputs": [
    {
     "name": "stdout",
     "output_type": "stream",
     "text": [
      "Juan\n",
      "25\n"
     ]
    }
   ],
   "source": [
    "nombre = \"Juan\"\n",
    "edad = 25\n",
    "print(nombre)  # Muestra el valor de la variable \"nombre\" (\"Juan\")\n",
    "print(edad)    # Muestra el valor de la variable \"edad\" (25)"
   ]
  },
  {
   "attachments": {},
   "cell_type": "markdown",
   "metadata": {},
   "source": [
    "3. **Concatenar mensajes y variables:**\n",
    "\n",
    "Puedes concatenar mensajes de texto y variables utilizando el operador de concatenación (`+`). Esto te permite combinar información en una única salida por pantalla."
   ]
  },
  {
   "cell_type": "code",
   "execution_count": 29,
   "metadata": {},
   "outputs": [
    {
     "name": "stdout",
     "output_type": "stream",
     "text": [
      "Mi nombre es Juan y tengo 25 años.\n"
     ]
    }
   ],
   "source": [
    "nombre = \"Juan\"\n",
    "edad = 25\n",
    "print(\"Mi nombre es \" + nombre + \" y tengo \" + str(edad) + \" años.\")  # Muestra el mensaje completo"
   ]
  },
  {
   "attachments": {},
   "cell_type": "markdown",
   "metadata": {},
   "source": [
    "4. **Formatear la salida:**\n",
    "\n",
    "Python proporciona varias formas de formatear la salida para mejorar su legibilidad y estructura. Una de las opciones es utilizando la función `format()` o el operador `%`."
   ]
  },
  {
   "cell_type": "code",
   "execution_count": 30,
   "metadata": {},
   "outputs": [
    {
     "name": "stdout",
     "output_type": "stream",
     "text": [
      "Mi nombre es Juan y tengo 25 años.\n",
      "Mi nombre es Juan y tengo 25 años.\n"
     ]
    }
   ],
   "source": [
    "nombre = \"Juan\"\n",
    "edad = 25\n",
    "print(\"Mi nombre es {} y tengo {} años.\".format(nombre, edad))  # Formateo con la función format()\n",
    "print(\"Mi nombre es %s y tengo %d años.\" % (nombre, edad))      # Formateo con el operador %"
   ]
  },
  {
   "attachments": {},
   "cell_type": "markdown",
   "metadata": {},
   "source": [
    "5. **Imprimir múltiples valores:**\n",
    "\n",
    "Puedes imprimir múltiples valores separados por comas en una única llamada a la función `print()`. Los valores se mostrarán en la consola separados por espacios."
   ]
  },
  {
   "cell_type": "code",
   "execution_count": 31,
   "metadata": {},
   "outputs": [
    {
     "name": "stdout",
     "output_type": "stream",
     "text": [
      "10 + 5 = 15\n"
     ]
    }
   ],
   "source": [
    "a = 10\n",
    "b = 5\n",
    "suma = a + b\n",
    "print(a, \"+\", b, \"=\", suma)  # Muestra \"10 + 5 = 15\""
   ]
  },
  {
   "attachments": {},
   "cell_type": "markdown",
   "metadata": {},
   "source": [
    "6. **Controlar el formato de impresión:**\n",
    "\n",
    "Puedes controlar el formato de impresión utilizando opciones específicas. Por ejemplo, puedes especificar el número de decimales a mostrar para números de punto flotante."
   ]
  },
  {
   "cell_type": "code",
   "execution_count": 32,
   "metadata": {},
   "outputs": [
    {
     "name": "stdout",
     "output_type": "stream",
     "text": [
      "El valor de pi es: 3.14\n"
     ]
    }
   ],
   "source": [
    "pi = 3.14159265\n",
    "print(\"El valor de pi es: {:.2f}\".format(pi))  # Muestra \"El valor de pi es: 3.14\""
   ]
  },
  {
   "attachments": {},
   "cell_type": "markdown",
   "metadata": {},
   "source": [
    "Estos son solo algunos ejemplos de cómo realizar salidas por pantalla en Python. Puedes combinar estas técnicas para mostrar información relevante de manera clara y comprensible para el usuario o para fines de depuración. La función `print()` es una herramienta fundamental para interactuar con el usuario y visualizar los resultados de tu programa."
   ]
  },
  {
   "attachments": {},
   "cell_type": "markdown",
   "metadata": {},
   "source": [
    "## **Librerías**"
   ]
  },
  {
   "attachments": {},
   "cell_type": "markdown",
   "metadata": {},
   "source": [
    "Las bibliotecas o librerías en Python son conjuntos de módulos y funciones predefinidas que ofrecen una amplia gama de funcionalidades adicionales y facilitan el desarrollo de aplicaciones. Estas bibliotecas contienen código escrito por otros programadores y se distribuyen junto con el lenguaje Python. Proporcionan una forma eficiente y conveniente de reutilizar código existente y evitar tener que escribir todo desde cero. A continuación, te proporcionaré una explicación detallada con ejemplos de las bibliotecas en Python:\n",
    "\n",
    "1. **Importar una biblioteca:**\n",
    "\n",
    "Para utilizar una biblioteca en Python, primero debes importarla en tu programa. Esto se hace utilizando la palabra clave `import` seguida del nombre de la biblioteca. Por ejemplo, para importar la biblioteca `math`, que proporciona funciones matemáticas, puedes hacer lo siguiente:"
   ]
  },
  {
   "cell_type": "code",
   "execution_count": 33,
   "metadata": {},
   "outputs": [],
   "source": [
    "import math"
   ]
  },
  {
   "attachments": {},
   "cell_type": "markdown",
   "metadata": {},
   "source": [
    "2. **Utilizar funciones de una biblioteca:**\n",
    "\n",
    "Una vez que hayas importado una biblioteca, puedes utilizar las funciones y métodos que proporciona. Para acceder a una función en particular, debes especificar el nombre de la biblioteca, seguido de un punto y el nombre de la función. Por ejemplo, la biblioteca `math` proporciona la función `sqrt()` para calcular la raíz cuadrada de un número:"
   ]
  },
  {
   "cell_type": "code",
   "execution_count": 34,
   "metadata": {},
   "outputs": [
    {
     "name": "stdout",
     "output_type": "stream",
     "text": [
      "5.0\n"
     ]
    }
   ],
   "source": [
    "import math\n",
    "\n",
    "x = 25\n",
    "raiz_cuadrada = math.sqrt(x)\n",
    "print(raiz_cuadrada)  # Resultado: 5.0"
   ]
  },
  {
   "attachments": {},
   "cell_type": "markdown",
   "metadata": {},
   "source": [
    "3. **Alias para las bibliotecas:**\n",
    "\n",
    "Puedes asignar un alias o nombre corto a una biblioteca importada utilizando la palabra clave `as`. Esto es útil cuando el nombre de la biblioteca es largo o se utiliza con frecuencia en el programa. Por ejemplo:"
   ]
  },
  {
   "cell_type": "code",
   "execution_count": 35,
   "metadata": {},
   "outputs": [
    {
     "name": "stdout",
     "output_type": "stream",
     "text": [
      "5.0\n"
     ]
    }
   ],
   "source": [
    "import math as m\n",
    "\n",
    "x = 25\n",
    "raiz_cuadrada = m.sqrt(x)\n",
    "print(raiz_cuadrada)  # Resultado: 5.0"
   ]
  },
  {
   "attachments": {},
   "cell_type": "markdown",
   "metadata": {},
   "source": [
    "4. **Importar funciones específicas de una biblioteca:**\n",
    "\n",
    "En lugar de importar toda la biblioteca, puedes importar funciones o clases específicas. Esto se hace utilizando la palabra clave `from`, seguida del nombre de la biblioteca, la palabra clave `import` y el nombre de la función o clase. Por ejemplo, para importar solo la función `sin()` de la biblioteca `math`, puedes hacer lo siguiente:"
   ]
  },
  {
   "cell_type": "code",
   "execution_count": 36,
   "metadata": {},
   "outputs": [
    {
     "name": "stdout",
     "output_type": "stream",
     "text": [
      "0.479425538604203\n"
     ]
    }
   ],
   "source": [
    "from math import sin\n",
    "\n",
    "angulo = 0.5\n",
    "seno = sin(angulo)\n",
    "print(seno)  # Resultado: 0.479425538604203"
   ]
  },
  {
   "attachments": {},
   "cell_type": "markdown",
   "metadata": {},
   "source": [
    "5. **Bibliotecas populares:**\n",
    "\n",
    "Python tiene una amplia variedad de bibliotecas populares que abarcan diversas áreas, como ciencia de datos, desarrollo web, procesamiento de imágenes, aprendizaje automático y más. Algunas bibliotecas populares incluyen:\n",
    "\n",
    "* **NumPy:** Biblioteca para trabajar con matrices y realizar cálculos numéricos eficientes."
   ]
  },
  {
   "cell_type": "code",
   "execution_count": 37,
   "metadata": {},
   "outputs": [
    {
     "name": "stdout",
     "output_type": "stream",
     "text": [
      "[[1 2 3]\n",
      " [4 5 6]]\n"
     ]
    }
   ],
   "source": [
    "import numpy as np\n",
    "\n",
    "matriz = np.array([[1, 2, 3], [4, 5, 6]])\n",
    "print(matriz)  # Resultado: [[1 2 3], [4 5 6]]"
   ]
  },
  {
   "attachments": {},
   "cell_type": "markdown",
   "metadata": {},
   "source": [
    "* **Pandas:** Biblioteca para el análisis y manipulación de datos estructurados."
   ]
  },
  {
   "cell_type": "code",
   "execution_count": 38,
   "metadata": {},
   "outputs": [
    {
     "name": "stdout",
     "output_type": "stream",
     "text": [
      "   Nombre  Edad\n",
      "0    Juan    25\n",
      "1   María    30\n",
      "2  Carlos    35\n"
     ]
    }
   ],
   "source": [
    "import pandas as pd\n",
    "\n",
    "datos = {'Nombre': ['Juan', 'María', 'Carlos'], 'Edad': [25, 30, 35]}\n",
    "df = pd.DataFrame(datos)\n",
    "print(df)"
   ]
  },
  {
   "attachments": {},
   "cell_type": "markdown",
   "metadata": {},
   "source": [
    "* **Flask:** Biblioteca para construir aplicaciones web."
   ]
  },
  {
   "cell_type": "code",
   "execution_count": 39,
   "metadata": {},
   "outputs": [
    {
     "name": "stdout",
     "output_type": "stream",
     "text": [
      " * Serving Flask app \"__main__\" (lazy loading)\n",
      " * Environment: production\n",
      "\u001b[31m   WARNING: This is a development server. Do not use it in a production deployment.\u001b[0m\n",
      "\u001b[2m   Use a production WSGI server instead.\u001b[0m\n",
      " * Debug mode: off\n"
     ]
    },
    {
     "name": "stderr",
     "output_type": "stream",
     "text": [
      " * Running on http://127.0.0.1:5000/ (Press CTRL+C to quit)\n",
      "127.0.0.1 - - [16/Jun/2023 12:22:23] \"GET / HTTP/1.1\" 200 -\n",
      "127.0.0.1 - - [16/Jun/2023 12:22:25] \"GET /favicon.ico HTTP/1.1\" 404 -\n"
     ]
    }
   ],
   "source": [
    "from flask import Flask\n",
    "\n",
    "app = Flask(__name__)\n",
    "\n",
    "@app.route('/')\n",
    "def hello():\n",
    "    return '¡Hola, mundo!'\n",
    "\n",
    "if __name__ == '__main__':\n",
    "    app.run()"
   ]
  },
  {
   "attachments": {},
   "cell_type": "markdown",
   "metadata": {},
   "source": [
    "* **TensorFlow:** Biblioteca para el aprendizaje automático y la construcción de redes neuronales."
   ]
  },
  {
   "cell_type": "code",
   "execution_count": 40,
   "metadata": {},
   "outputs": [
    {
     "name": "stderr",
     "output_type": "stream",
     "text": [
      "2023-06-16 12:23:24.840753: I tensorflow/tsl/cuda/cudart_stub.cc:28] Could not find cuda drivers on your machine, GPU will not be used.\n",
      "2023-06-16 12:23:29.402644: I tensorflow/tsl/cuda/cudart_stub.cc:28] Could not find cuda drivers on your machine, GPU will not be used.\n",
      "2023-06-16 12:23:47.929706: W tensorflow/compiler/tf2tensorrt/utils/py_utils.cc:38] TF-TRT Warning: Could not find TensorRT\n"
     ]
    }
   ],
   "source": [
    "import tensorflow as tf\n",
    "\n",
    "mnist = tf.keras.datasets.mnist\n",
    "\n",
    "(x_train, y_train), (x_test, y_test) = mnist.load_data()"
   ]
  },
  {
   "attachments": {},
   "cell_type": "markdown",
   "metadata": {},
   "source": [
    "Estos son solo algunos ejemplos de las bibliotecas disponibles en Python. Las bibliotecas te permiten aprovechar la experiencia y el conocimiento de otros programadores, ahorrando tiempo y esfuerzo al desarrollar tus aplicaciones. Puedes explorar y utilizar bibliotecas específicas según tus necesidades y el tipo de proyecto que estés desarrollando."
   ]
  },
  {
   "attachments": {},
   "cell_type": "markdown",
   "metadata": {},
   "source": [
    "## **Pedirle datos al Usuario**"
   ]
  },
  {
   "attachments": {},
   "cell_type": "markdown",
   "metadata": {},
   "source": [
    "Para solicitar datos al usuario en Python, puedes utilizar la función `input()`. Esta función espera a que el usuario ingrese una entrada desde el teclado y devuelve el valor ingresado como una cadena de texto. A continuación, te proporcionaré una explicación detallada con ejemplos de cómo solicitar datos al usuario en Python:\n",
    "\n",
    "1. **Solicitar un valor:**\n",
    "\n",
    "Puedes utilizar la función `input()` para solicitar al usuario que ingrese un valor. El valor ingresado se almacena en una variable que puedes utilizar posteriormente en tu programa. Asegúrate de proporcionar un mensaje claro y descriptivo para indicar al usuario qué tipo de entrada se espera."
   ]
  },
  {
   "cell_type": "code",
   "execution_count": 41,
   "metadata": {},
   "outputs": [
    {
     "name": "stdout",
     "output_type": "stream",
     "text": [
      "Hola, gustavo!\n"
     ]
    }
   ],
   "source": [
    "nombre = input(\"Ingrese su nombre: \")\n",
    "print(\"Hola, \" + nombre + \"!\")  # Saluda al usuario por su nombre"
   ]
  },
  {
   "attachments": {},
   "cell_type": "markdown",
   "metadata": {},
   "source": [
    "2. **Convertir la entrada a otros tipos de datos:**\n",
    "\n",
    "Por defecto, la función `input()` devuelve una cadena de texto. Si necesitas trabajar con un tipo de dato diferente, como un entero o un número de punto flotante, debes convertir la entrada utilizando las funciones `int()` o `float()`."
   ]
  },
  {
   "cell_type": "code",
   "execution_count": 42,
   "metadata": {},
   "outputs": [
    {
     "name": "stdout",
     "output_type": "stream",
     "text": [
      "En su próximo cumpleaños, usted tendrá 31 años.\n"
     ]
    }
   ],
   "source": [
    "edad = int(input(\"Ingrese su edad: \"))\n",
    "proximo_cumple = edad + 1\n",
    "print(\"En su próximo cumpleaños, usted tendrá \" + str(proximo_cumple) + \" años.\")"
   ]
  },
  {
   "attachments": {},
   "cell_type": "markdown",
   "metadata": {},
   "source": [
    "3. **Validar la entrada del usuario:**\n",
    "\n",
    "Es importante validar la entrada del usuario para garantizar que cumpla con ciertas condiciones. Puedes utilizar estructuras de control, como bucles `while`, para solicitar la entrada nuevamente si no cumple con los criterios establecidos."
   ]
  },
  {
   "cell_type": "code",
   "execution_count": 43,
   "metadata": {},
   "outputs": [
    {
     "name": "stdout",
     "output_type": "stream",
     "text": [
      "El número ingresado es: 5\n"
     ]
    }
   ],
   "source": [
    "numero = int(input(\"Ingrese un número entre 1 y 10: \"))\n",
    "while numero < 1 or numero > 10:\n",
    "    print(\"El número ingresado no está dentro del rango permitido.\")\n",
    "    numero = int(input(\"Ingrese un número entre 1 y 10: \"))\n",
    "print(\"El número ingresado es: \" + str(numero))"
   ]
  },
  {
   "attachments": {},
   "cell_type": "markdown",
   "metadata": {},
   "source": [
    "4. **Manejar excepciones:**\n",
    "\n",
    "Ten en cuenta que la función `input()` siempre devuelve una cadena de texto. Si esperas que el usuario ingrese un tipo de dato específico, como un entero, y se ingresa un valor no válido, se producirá una excepción `ValueError`. Puedes utilizar un bloque `try-except` para manejar estas excepciones y proporcionar mensajes de error adecuados al usuario."
   ]
  },
  {
   "cell_type": "code",
   "execution_count": 44,
   "metadata": {},
   "outputs": [
    {
     "name": "stdout",
     "output_type": "stream",
     "text": [
      "Su edad es: 30\n"
     ]
    }
   ],
   "source": [
    "try:\n",
    "    edad = int(input(\"Ingrese su edad: \"))\n",
    "    print(\"Su edad es: \" + str(edad))\n",
    "except ValueError:\n",
    "    print(\"Error: La entrada no es un número entero válido.\")"
   ]
  },
  {
   "attachments": {},
   "cell_type": "markdown",
   "metadata": {},
   "source": [
    "Recuerda que al solicitar datos al usuario, es importante tener en cuenta posibles entradas incorrectas y manejarlas de manera adecuada. Validar la entrada y proporcionar mensajes de error claros ayudará a mejorar la experiencia del usuario y la robustez de tu programa."
   ]
  },
  {
   "attachments": {},
   "cell_type": "markdown",
   "metadata": {},
   "source": [
    "## **Operadores Lógicos y Condicionales**"
   ]
  },
  {
   "attachments": {},
   "cell_type": "markdown",
   "metadata": {},
   "source": [
    "Los operadores lógicos y condicionales en Python se utilizan para evaluar condiciones y tomar decisiones en función de los resultados. Estos operadores permiten comparar valores, combinar condiciones y controlar el flujo de ejecución en un programa. A continuación, te proporcionaré una explicación detallada con ejemplos de los operadores lógicos y condicionales en Python:\n",
    "\n",
    "1. **Operadores de comparación:**\n",
    "\n",
    "Los operadores de comparación se utilizan para comparar dos valores y devuelven un valor booleano (`True` o `False`) que indica si la comparación es verdadera o falsa. Los operadores de comparación incluyen:\n",
    "\n",
    "* **Igual a (==):** Comprueba si dos valores son iguales."
   ]
  },
  {
   "cell_type": "code",
   "execution_count": 45,
   "metadata": {},
   "outputs": [
    {
     "name": "stdout",
     "output_type": "stream",
     "text": [
      "False\n"
     ]
    }
   ],
   "source": [
    "a = 5\n",
    "b = 3\n",
    "print(a == b)  # Resultado: False"
   ]
  },
  {
   "attachments": {},
   "cell_type": "markdown",
   "metadata": {},
   "source": [
    "* **Diferente de (!=):** Comprueba si dos valores son diferentes."
   ]
  },
  {
   "cell_type": "code",
   "execution_count": 46,
   "metadata": {},
   "outputs": [
    {
     "name": "stdout",
     "output_type": "stream",
     "text": [
      "True\n"
     ]
    }
   ],
   "source": [
    "a = 5\n",
    "b = 3\n",
    "print(a != b)  # Resultado: True"
   ]
  },
  {
   "attachments": {},
   "cell_type": "markdown",
   "metadata": {},
   "source": [
    "* **Mayor que (>):** Comprueba si un valor es mayor que otro."
   ]
  },
  {
   "cell_type": "code",
   "execution_count": 47,
   "metadata": {},
   "outputs": [
    {
     "name": "stdout",
     "output_type": "stream",
     "text": [
      "True\n"
     ]
    }
   ],
   "source": [
    "a = 5\n",
    "b = 3\n",
    "print(a > b)  # Resultado: True"
   ]
  },
  {
   "attachments": {},
   "cell_type": "markdown",
   "metadata": {},
   "source": [
    "* **Menor que (<):** Comprueba si un valor es menor que otro."
   ]
  },
  {
   "cell_type": "code",
   "execution_count": 48,
   "metadata": {},
   "outputs": [
    {
     "name": "stdout",
     "output_type": "stream",
     "text": [
      "False\n"
     ]
    }
   ],
   "source": [
    "a = 5\n",
    "b = 3\n",
    "print(a < b)  # Resultado: False"
   ]
  },
  {
   "attachments": {},
   "cell_type": "markdown",
   "metadata": {},
   "source": [
    "* **Mayor o igual que (>=):** Comprueba si un valor es mayor o igual que otro."
   ]
  },
  {
   "cell_type": "code",
   "execution_count": 49,
   "metadata": {},
   "outputs": [
    {
     "name": "stdout",
     "output_type": "stream",
     "text": [
      "True\n"
     ]
    }
   ],
   "source": [
    "a = 5\n",
    "b = 3\n",
    "print(a >= b)  # Resultado: True"
   ]
  },
  {
   "attachments": {},
   "cell_type": "markdown",
   "metadata": {},
   "source": [
    "* **Menor o igual que (<=):** Comprueba si un valor es menor o igual que otro."
   ]
  },
  {
   "cell_type": "code",
   "execution_count": 50,
   "metadata": {},
   "outputs": [
    {
     "name": "stdout",
     "output_type": "stream",
     "text": [
      "False\n"
     ]
    }
   ],
   "source": [
    "a = 5\n",
    "b = 3\n",
    "print(a <= b)  # Resultado: False"
   ]
  },
  {
   "attachments": {},
   "cell_type": "markdown",
   "metadata": {},
   "source": [
    "2. **Operadores lógicos:**\n",
    "\n",
    "Los operadores lógicos se utilizan para combinar condiciones y evaluar múltiples expresiones. Los operadores lógicos incluyen:\n",
    "\n",
    "* **Y lógico (and):** Devuelve `True` si ambas condiciones son verdaderas."
   ]
  },
  {
   "cell_type": "code",
   "execution_count": 51,
   "metadata": {},
   "outputs": [
    {
     "name": "stdout",
     "output_type": "stream",
     "text": [
      "True\n"
     ]
    }
   ],
   "source": [
    "a = 5\n",
    "b = 3\n",
    "c = 7\n",
    "resultado = (a > b) and (c > b)\n",
    "print(resultado)  # Resultado: True"
   ]
  },
  {
   "attachments": {},
   "cell_type": "markdown",
   "metadata": {},
   "source": [
    "* **O lógico (or):** Devuelve `True` si al menos una de las condiciones es verdadera."
   ]
  },
  {
   "cell_type": "code",
   "execution_count": 52,
   "metadata": {},
   "outputs": [
    {
     "name": "stdout",
     "output_type": "stream",
     "text": [
      "True\n"
     ]
    }
   ],
   "source": [
    "a = 5\n",
    "b = 3\n",
    "c = 7\n",
    "resultado = (a > b) or (c < b)\n",
    "print(resultado)  # Resultado: True"
   ]
  },
  {
   "attachments": {},
   "cell_type": "markdown",
   "metadata": {},
   "source": [
    "* **Negación lógica (not):** Invierte el valor de verdad de una expresión."
   ]
  },
  {
   "cell_type": "code",
   "execution_count": 53,
   "metadata": {},
   "outputs": [
    {
     "name": "stdout",
     "output_type": "stream",
     "text": [
      "False\n"
     ]
    }
   ],
   "source": [
    "a = 5\n",
    "b = 3\n",
    "resultado = not (a > b)\n",
    "print(resultado)  # Resultado: False"
   ]
  },
  {
   "attachments": {},
   "cell_type": "markdown",
   "metadata": {},
   "source": [
    "3. **Estructuras condicionales:**\n",
    "\n",
    "Las estructuras condicionales se utilizan para controlar el flujo de ejecución en función de una condición. En Python, la estructura condicional más común es el `if`, que permite ejecutar un bloque de código si la condición es verdadera. También se pueden utilizar las cláusulas `else` y `elif` (abreviatura de \"`else if`\") para manejar múltiples condiciones."
   ]
  },
  {
   "cell_type": "code",
   "execution_count": 54,
   "metadata": {},
   "outputs": [
    {
     "name": "stdout",
     "output_type": "stream",
     "text": [
      "Eres mayor de edad.\n"
     ]
    }
   ],
   "source": [
    "edad = 20\n",
    "if edad >= 18:\n",
    "    print(\"Eres mayor de edad.\")\n",
    "else:\n",
    "    print(\"Eres menor de edad.\")"
   ]
  },
  {
   "attachments": {},
   "cell_type": "markdown",
   "metadata": {},
   "source": [
    "* La cláusula `elif` se utiliza para agregar condiciones adicionales:"
   ]
  },
  {
   "cell_type": "code",
   "execution_count": 55,
   "metadata": {},
   "outputs": [
    {
     "name": "stdout",
     "output_type": "stream",
     "text": [
      "Aprobado con B\n"
     ]
    }
   ],
   "source": [
    "nota = 80\n",
    "if nota >= 90:\n",
    "    print(\"Aprobado con A\")\n",
    "elif nota >= 80:\n",
    "    print(\"Aprobado con B\")\n",
    "elif nota >= 70:\n",
    "    print(\"Aprobado con C\")\n",
    "else:\n",
    "    print(\"Reprobado\")"
   ]
  },
  {
   "attachments": {},
   "cell_type": "markdown",
   "metadata": {},
   "source": [
    "4. **Operador de asignación condicional:**\n",
    "\n",
    "Python también tiene un operador de asignación condicional, conocido como el operador ternario `if-else`. Permite asignar un valor a una variable en función de una condición."
   ]
  },
  {
   "cell_type": "code",
   "execution_count": 56,
   "metadata": {},
   "outputs": [
    {
     "name": "stdout",
     "output_type": "stream",
     "text": [
      "Mayor de edad\n"
     ]
    }
   ],
   "source": [
    "edad = 20\n",
    "estado = \"Mayor de edad\" if edad >= 18 else \"Menor de edad\"\n",
    "print(estado)"
   ]
  },
  {
   "attachments": {},
   "cell_type": "markdown",
   "metadata": {},
   "source": [
    "Los operadores lógicos y condicionales en Python son herramientas poderosas para evaluar condiciones y controlar el flujo de ejecución en un programa. Son fundamentales para implementar lógica y toma de decisiones en tus programas."
   ]
  },
  {
   "attachments": {},
   "cell_type": "markdown",
   "metadata": {},
   "source": [
    "## **Prueba de Python**"
   ]
  },
  {
   "attachments": {},
   "cell_type": "markdown",
   "metadata": {},
   "source": [
    "Si te refieres a las pruebas de software en Python, existe una práctica común conocida como \"`Pruebas Unitarias`\" o \"`Testing`\". Las pruebas unitarias se utilizan para verificar el funcionamiento correcto de partes específicas de un programa o funciones individuales. A continuación, te proporcionaré una explicación detallada sobre las pruebas unitarias en Python con ejemplos:\n",
    "\n",
    "Las pruebas unitarias en Python se realizan utilizando un marco de pruebas llamado `unittest`. Este marco proporciona una serie de funciones y clases que facilitan la escritura y ejecución de pruebas.\n",
    "\n",
    "1. **Importar el módulo unittest:**\n",
    "\n",
    "Para comenzar, debes importar el módulo `unittest` en tu archivo de Python:"
   ]
  },
  {
   "cell_type": "code",
   "execution_count": 57,
   "metadata": {},
   "outputs": [],
   "source": [
    "import unittest"
   ]
  },
  {
   "attachments": {},
   "cell_type": "markdown",
   "metadata": {},
   "source": [
    "2. **Definir una clase de prueba:**\n",
    "\n",
    "Luego, debes definir una clase de prueba que herede de la clase `unittest.TestCase`. Cada método dentro de esta clase de prueba representa una prueba individual."
   ]
  },
  {
   "cell_type": "code",
   "execution_count": 58,
   "metadata": {},
   "outputs": [],
   "source": [
    "class MiPrueba(unittest.TestCase):\n",
    "    def test_suma(self):\n",
    "        # Aquí se escribe la prueba para la función de suma\n",
    "        pass\n",
    "\n",
    "    def test_resta(self):\n",
    "        # Aquí se escribe la prueba para la función de resta\n",
    "        pass"
   ]
  },
  {
   "attachments": {},
   "cell_type": "markdown",
   "metadata": {},
   "source": [
    "3. **Escribir pruebas:**\n",
    "\n",
    "Dentro de cada método de prueba, debes escribir las afirmaciones (`assertions`) para verificar el comportamiento esperado de la función o código que estás probando. Las afirmaciones son declaraciones que especifican las condiciones que se deben cumplir. Si una afirmación falla, se genera una excepción y la prueba se considera fallida. Por ejemplo, si tienes una función llamada `suma` que suma dos números, puedes escribir una prueba para ella de la siguiente manera:"
   ]
  },
  {
   "cell_type": "code",
   "execution_count": 59,
   "metadata": {},
   "outputs": [],
   "source": [
    "def test_suma(self):\n",
    "    resultado = suma(2, 3)\n",
    "    self.assertEqual(resultado, 5, \"La suma no es correcta\")"
   ]
  },
  {
   "attachments": {},
   "cell_type": "markdown",
   "metadata": {},
   "source": [
    "4. **Ejecutar las pruebas:**\n",
    "\n",
    "Para ejecutar las pruebas, puedes utilizar el siguiente código en la parte inferior de tu archivo:"
   ]
  },
  {
   "attachments": {},
   "cell_type": "markdown",
   "metadata": {},
   "source": [
    "```\n",
    "if __name__ == '__main__':\n",
    "    unittest.main()\n",
    "```"
   ]
  },
  {
   "attachments": {},
   "cell_type": "markdown",
   "metadata": {},
   "source": [
    "Al ejecutar el archivo de Python, el marco de pruebas `unittest` ejecutará todas las pruebas definidas en la clase de prueba y mostrará los resultados en la consola.\n",
    "\n",
    "5. **Resultados de la prueba:**\n",
    "\n",
    "Cuando se ejecutan las pruebas, cada prueba se informa como éxito o fracaso. Si todas las pruebas pasan sin errores, se mostrará un informe indicando que todas las pruebas se ejecutaron correctamente. De lo contrario, se mostrarán detalles sobre las pruebas que fallaron.\n",
    "\n",
    "Las pruebas unitarias en Python son una práctica importante para garantizar la calidad del código. Ayudan a identificar errores y problemas potenciales antes de que el código se implemente en producción. Además, las pruebas unitarias facilitan la refactorización del código, ya que proporcionan una forma de verificar que los cambios no introduzcan regresiones.\n",
    "\n",
    "Espero que esta explicación te haya ayudado a comprender las pruebas unitarias en Python."
   ]
  },
  {
   "attachments": {},
   "cell_type": "markdown",
   "metadata": {},
   "source": [
    "## **Lazos**"
   ]
  },
  {
   "attachments": {},
   "cell_type": "markdown",
   "metadata": {},
   "source": [
    "En Python, los lazos (también conocidos como bucles) son estructuras de control que permiten repetir un bloque de código varias veces. Los lazos son útiles cuando se necesita realizar una tarea repetitiva sin tener que escribir el mismo código una y otra vez. Hay dos tipos principales de lazos en Python: el bucle `for` y el bucle `while`. A continuación, te proporcionaré una explicación detallada con ejemplos de ambos tipos de lazos:\n",
    "\n",
    "1. **Bucle for:**\n",
    "\n",
    "El bucle `for` se utiliza para iterar sobre una secuencia de elementos, como una lista, una cadena de texto o un rango de números. En cada iteración, el bucle toma un elemento de la secuencia y ejecuta un bloque de código correspondiente. Aquí tienes un ejemplo de un bucle `for`:"
   ]
  },
  {
   "cell_type": "code",
   "execution_count": 61,
   "metadata": {},
   "outputs": [
    {
     "name": "stdout",
     "output_type": "stream",
     "text": [
      "1\n",
      "2\n",
      "3\n",
      "4\n",
      "5\n"
     ]
    }
   ],
   "source": [
    "numeros = [1, 2, 3, 4, 5]\n",
    "for numero in numeros:\n",
    "    print(numero)"
   ]
  },
  {
   "attachments": {},
   "cell_type": "markdown",
   "metadata": {},
   "source": [
    "En este ejemplo, el bucle `for` recorre la lista numeros y en cada iteración asigna el valor actual a la variable numero. Luego, se imprime el valor de numero."
   ]
  },
  {
   "attachments": {},
   "cell_type": "markdown",
   "metadata": {},
   "source": [
    "Además de las listas, también se pueden utilizar otros tipos de secuencias, como cadenas de texto o rangos:"
   ]
  },
  {
   "cell_type": "code",
   "execution_count": 62,
   "metadata": {},
   "outputs": [
    {
     "name": "stdout",
     "output_type": "stream",
     "text": [
      "H\n",
      "o\n",
      "l\n",
      "a\n"
     ]
    }
   ],
   "source": [
    "texto = \"Hola\"\n",
    "for letra in texto:\n",
    "    print(letra)"
   ]
  },
  {
   "cell_type": "code",
   "execution_count": 63,
   "metadata": {},
   "outputs": [
    {
     "name": "stdout",
     "output_type": "stream",
     "text": [
      "1\n",
      "2\n",
      "3\n",
      "4\n",
      "5\n"
     ]
    }
   ],
   "source": [
    "for i in range(1, 6):\n",
    "    print(i)"
   ]
  },
  {
   "attachments": {},
   "cell_type": "markdown",
   "metadata": {},
   "source": [
    "2. **Bucle while:**\n",
    "\n",
    "El bucle `while` se utiliza cuando se necesita repetir un bloque de código mientras se cumpla una condición específica. La condición se verifica antes de cada iteración, y si es verdadera, el bloque de código se ejecuta. El bucle continuará repitiéndose mientras la condición siga siendo verdadera. Aquí tienes un ejemplo de un bucle `while`:"
   ]
  },
  {
   "cell_type": "code",
   "execution_count": 64,
   "metadata": {},
   "outputs": [
    {
     "name": "stdout",
     "output_type": "stream",
     "text": [
      "0\n",
      "1\n",
      "2\n",
      "3\n",
      "4\n"
     ]
    }
   ],
   "source": [
    "contador = 0\n",
    "while contador < 5:\n",
    "    print(contador)\n",
    "    contador += 1"
   ]
  },
  {
   "attachments": {},
   "cell_type": "markdown",
   "metadata": {},
   "source": [
    "En este ejemplo, el bucle `while` se ejecutará mientras contador sea menor que `5`. En cada iteración, se imprimirá el valor actual de contador y luego se incrementará en `1`."
   ]
  },
  {
   "attachments": {},
   "cell_type": "markdown",
   "metadata": {},
   "source": [
    "Es importante tener cuidado al utilizar bucles `while` para evitar caer en bucles infinitos. Asegúrate de que la condición se modifique adecuadamente dentro del bucle para que eventualmente se vuelva falsa y se salga del bucle.\n",
    "\n",
    "Los lazos en Python son herramientas poderosas que permiten automatizar tareas repetitivas y procesar secuencias de elementos de manera eficiente. Los bucles `for` son especialmente útiles cuando se trabaja con listas, cadenas de texto o rangos, mientras que los bucles `while` son útiles cuando se necesita repetir un bloque de código basado en una condición específica. Utiliza los lazos adecuados según tus necesidades y asegúrate de que las condiciones y las modificaciones de variables estén correctamente implementadas para evitar errores y bucles infinitos."
   ]
  },
  {
   "attachments": {},
   "cell_type": "markdown",
   "metadata": {},
   "source": [
    "## **Colecciones PT 1 (Listas, Cadenas, Tuplas)**"
   ]
  },
  {
   "attachments": {},
   "cell_type": "markdown",
   "metadata": {},
   "source": [
    " Las colecciones en Python son estructuras de datos que permiten almacenar y organizar múltiples valores en una sola variable. Las tres colecciones más comunes en Python son las listas, las cadenas de texto y las tuplas. A continuación, te proporcionaré una explicación detallada con ejemplos de cada una de estas colecciones:\n",
    "\n",
    "1. **Listas:**\n",
    "\n",
    "Las listas son colecciones ordenadas y modificables de elementos en Python. Puedes almacenar diferentes tipos de elementos en una lista, como números, cadenas de texto e incluso otras listas. Las listas se definen utilizando corchetes `[]` y separando los elementos por comas. Aquí tienes un ejemplo de una lista:"
   ]
  },
  {
   "cell_type": "code",
   "execution_count": 65,
   "metadata": {},
   "outputs": [],
   "source": [
    "numeros = [1, 2, 3, 4, 5]"
   ]
  },
  {
   "attachments": {},
   "cell_type": "markdown",
   "metadata": {},
   "source": [
    "Puedes acceder a los elementos de una lista utilizando índices, donde el primer elemento tiene un índice de `0`. También puedes modificar los elementos de una lista asignándoles nuevos valores. A continuación, se muestran algunos ejemplos de operaciones comunes con listas:\n",
    "\n",
    "* **Acceder a elementos de una lista:**"
   ]
  },
  {
   "cell_type": "code",
   "execution_count": 66,
   "metadata": {},
   "outputs": [
    {
     "name": "stdout",
     "output_type": "stream",
     "text": [
      "1\n",
      "3\n"
     ]
    }
   ],
   "source": [
    "numeros = [1, 2, 3, 4, 5]\n",
    "print(numeros[0])  # Resultado: 1\n",
    "print(numeros[2])  # Resultado: 3"
   ]
  },
  {
   "attachments": {},
   "cell_type": "markdown",
   "metadata": {},
   "source": [
    "* **Modificar elementos de una lista:**"
   ]
  },
  {
   "cell_type": "code",
   "execution_count": 67,
   "metadata": {},
   "outputs": [
    {
     "name": "stdout",
     "output_type": "stream",
     "text": [
      "[10, 2, 3, 4, 5]\n"
     ]
    }
   ],
   "source": [
    "numeros = [1, 2, 3, 4, 5]\n",
    "numeros[0] = 10\n",
    "print(numeros)  # Resultado: [10, 2, 3, 4, 5]"
   ]
  },
  {
   "attachments": {},
   "cell_type": "markdown",
   "metadata": {},
   "source": [
    "* **Agregar elementos a una lista:**"
   ]
  },
  {
   "cell_type": "code",
   "execution_count": 68,
   "metadata": {},
   "outputs": [
    {
     "name": "stdout",
     "output_type": "stream",
     "text": [
      "[1, 2, 3, 4, 5, 6]\n"
     ]
    }
   ],
   "source": [
    "numeros = [1, 2, 3, 4, 5]\n",
    "numeros.append(6)\n",
    "print(numeros)  # Resultado: [1, 2, 3, 4, 5, 6]"
   ]
  },
  {
   "attachments": {},
   "cell_type": "markdown",
   "metadata": {},
   "source": [
    "* **Obtener la longitud de una lista:**"
   ]
  },
  {
   "cell_type": "code",
   "execution_count": 69,
   "metadata": {},
   "outputs": [
    {
     "name": "stdout",
     "output_type": "stream",
     "text": [
      "5\n"
     ]
    }
   ],
   "source": [
    "numeros = [1, 2, 3, 4, 5]\n",
    "print(len(numeros))  # Resultado: 5"
   ]
  },
  {
   "attachments": {},
   "cell_type": "markdown",
   "metadata": {},
   "source": [
    "2. **Cadenas de texto:**\n",
    "\n",
    "Las cadenas de texto son secuencias inmutables de caracteres en Python. Se definen utilizando comillas simples `' '` o comillas dobles `\" \"`. Puedes acceder a los caracteres individuales de una cadena utilizando índices y realizar varias operaciones útiles en ellas. A continuación, se muestran algunos ejemplos de operaciones comunes con cadenas de texto:\n",
    "\n",
    "* **Acceder a caracteres de una cadena:**"
   ]
  },
  {
   "cell_type": "code",
   "execution_count": 70,
   "metadata": {},
   "outputs": [
    {
     "name": "stdout",
     "output_type": "stream",
     "text": [
      "H\n",
      " \n"
     ]
    }
   ],
   "source": [
    "texto = \"Hola, mundo\"\n",
    "print(texto[0])  # Resultado: 'H'\n",
    "print(texto[5])  # Resultado: ','"
   ]
  },
  {
   "attachments": {},
   "cell_type": "markdown",
   "metadata": {},
   "source": [
    "* **Concatenar cadenas:**"
   ]
  },
  {
   "cell_type": "code",
   "execution_count": 71,
   "metadata": {},
   "outputs": [
    {
     "name": "stdout",
     "output_type": "stream",
     "text": [
      "Hola Juan\n"
     ]
    }
   ],
   "source": [
    "saludo = \"Hola\"\n",
    "nombre = \"Juan\"\n",
    "mensaje = saludo + \" \" + nombre\n",
    "print(mensaje)  # Resultado: \"Hola Juan\""
   ]
  },
  {
   "attachments": {},
   "cell_type": "markdown",
   "metadata": {},
   "source": [
    "* **Obtener la longitud de una cadena:**"
   ]
  },
  {
   "cell_type": "code",
   "execution_count": 72,
   "metadata": {},
   "outputs": [
    {
     "name": "stdout",
     "output_type": "stream",
     "text": [
      "11\n"
     ]
    }
   ],
   "source": [
    "texto = \"Hola, mundo\"\n",
    "print(len(texto))  # Resultado: 11"
   ]
  },
  {
   "attachments": {},
   "cell_type": "markdown",
   "metadata": {},
   "source": [
    "3. **Tuplas:**\n",
    "\n",
    "Las tuplas son colecciones ordenadas e inmutables de elementos en Python. Son similares a las listas, pero a diferencia de las listas, las tuplas no se pueden modificar después de su creación. Se definen utilizando paréntesis `()` y separando los elementos por comas. A continuación, se muestra un ejemplo de una tupla:"
   ]
  },
  {
   "cell_type": "code",
   "execution_count": 73,
   "metadata": {},
   "outputs": [],
   "source": [
    "coordenadas = (10, 20)"
   ]
  },
  {
   "attachments": {},
   "cell_type": "markdown",
   "metadata": {},
   "source": [
    "Puedes acceder a los elementos de una tupla utilizando índices, al igual que en las listas. Sin embargo, no puedes modificar los elementos de una tupla después de su creación. A continuación, se muestra un ejemplo de acceso a elementos de una tupla:"
   ]
  },
  {
   "cell_type": "code",
   "execution_count": 74,
   "metadata": {},
   "outputs": [
    {
     "name": "stdout",
     "output_type": "stream",
     "text": [
      "10\n",
      "20\n"
     ]
    }
   ],
   "source": [
    "coordenadas = (10, 20)\n",
    "print(coordenadas[0])  # Resultado: 10\n",
    "print(coordenadas[1])  # Resultado: 20"
   ]
  },
  {
   "attachments": {},
   "cell_type": "markdown",
   "metadata": {},
   "source": [
    "Aunque no puedes modificar directamente los elementos de una tupla, puedes realizar operaciones como concatenación de tuplas o desempaquetado de tuplas.\n",
    "\n",
    "Las listas, cadenas de texto y tuplas son colecciones fundamentales en Python que te permiten almacenar y manipular datos de diferentes maneras. Es importante tener en cuenta las diferencias entre ellas, como la mutabilidad y las operaciones específicas disponibles para cada tipo de colección."
   ]
  },
  {
   "attachments": {},
   "cell_type": "markdown",
   "metadata": {},
   "source": [
    "## **Colecciones PT 2 (Conjuntos, Diccionarios)**"
   ]
  },
  {
   "attachments": {},
   "cell_type": "markdown",
   "metadata": {},
   "source": [
    "En Python, hay dos colecciones adicionales: los conjuntos y los diccionarios. A continuación, te proporcionaré una explicación detallada con ejemplos de cada una de estas colecciones:\n",
    "\n",
    "4. **Conjuntos:**\n",
    "\n",
    "Los conjuntos en Python son colecciones desordenadas y no indexadas de elementos únicos. Esto significa que no puede haber elementos duplicados en un conjunto y no se garantiza un orden específico para los elementos. Se definen utilizando llaves `{}` o la función `set()`. Aquí tienes un ejemplo de un conjunto:"
   ]
  },
  {
   "cell_type": "code",
   "execution_count": 75,
   "metadata": {},
   "outputs": [],
   "source": [
    "frutas = {\"manzana\", \"plátano\", \"naranja\"}"
   ]
  },
  {
   "attachments": {},
   "cell_type": "markdown",
   "metadata": {},
   "source": [
    "Puedes realizar varias operaciones útiles con conjuntos, como agregar elementos, eliminar elementos, verificar la pertenencia de un elemento y realizar operaciones de conjuntos como la unión, la intersección y la diferencia. A continuación, se muestran algunos ejemplos de operaciones comunes con conjuntos:\n",
    "\n",
    "* **Agregar elementos a un conjunto:**"
   ]
  },
  {
   "cell_type": "code",
   "execution_count": 76,
   "metadata": {},
   "outputs": [
    {
     "name": "stdout",
     "output_type": "stream",
     "text": [
      "{'plátano', 'kiwi', 'manzana', 'naranja'}\n"
     ]
    }
   ],
   "source": [
    "frutas = {\"manzana\", \"plátano\", \"naranja\"}\n",
    "frutas.add(\"kiwi\")\n",
    "print(frutas)  # Resultado: {\"manzana\", \"plátano\", \"naranja\", \"kiwi\"}"
   ]
  },
  {
   "attachments": {},
   "cell_type": "markdown",
   "metadata": {},
   "source": [
    "* **Eliminar elementos de un conjunto:**"
   ]
  },
  {
   "cell_type": "code",
   "execution_count": 77,
   "metadata": {},
   "outputs": [
    {
     "name": "stdout",
     "output_type": "stream",
     "text": [
      "{'manzana', 'naranja'}\n"
     ]
    }
   ],
   "source": [
    "frutas = {\"manzana\", \"plátano\", \"naranja\"}\n",
    "frutas.remove(\"plátano\")\n",
    "print(frutas)  # Resultado: {\"manzana\", \"naranja\"}"
   ]
  },
  {
   "attachments": {},
   "cell_type": "markdown",
   "metadata": {},
   "source": [
    "* **Verificar la pertenencia de un elemento en un conjunto:**"
   ]
  },
  {
   "cell_type": "code",
   "execution_count": 78,
   "metadata": {},
   "outputs": [
    {
     "name": "stdout",
     "output_type": "stream",
     "text": [
      "True\n",
      "False\n"
     ]
    }
   ],
   "source": [
    "frutas = {\"manzana\", \"plátano\", \"naranja\"}\n",
    "print(\"manzana\" in frutas)  # Resultado: True\n",
    "print(\"kiwi\" in frutas)  # Resultado: False"
   ]
  },
  {
   "attachments": {},
   "cell_type": "markdown",
   "metadata": {},
   "source": [
    "* **Operaciones de conjuntos:**"
   ]
  },
  {
   "cell_type": "code",
   "execution_count": 79,
   "metadata": {},
   "outputs": [
    {
     "name": "stdout",
     "output_type": "stream",
     "text": [
      "{1, 2, 3, 4, 5}\n",
      "{3}\n",
      "{1, 2}\n"
     ]
    }
   ],
   "source": [
    "conjunto1 = {1, 2, 3}\n",
    "conjunto2 = {3, 4, 5}\n",
    "\n",
    "union = conjunto1.union(conjunto2)\n",
    "print(union)  # Resultado: {1, 2, 3, 4, 5}\n",
    "\n",
    "interseccion = conjunto1.intersection(conjunto2)\n",
    "print(interseccion)  # Resultado: {3}\n",
    "\n",
    "diferencia = conjunto1.difference(conjunto2)\n",
    "print(diferencia)  # Resultado: {1, 2}"
   ]
  },
  {
   "attachments": {},
   "cell_type": "markdown",
   "metadata": {},
   "source": [
    "5. **Diccionarios:**\n",
    "\n",
    "Los diccionarios en Python son colecciones de pares `clave-valor`, donde cada valor está asociado a una clave única. Los diccionarios son útiles para almacenar y recuperar información relacionada entre sí. Se definen utilizando llaves `{}` y separando cada par `clave-valor` con dos puntos `:` Aquí tienes un ejemplo de un diccionario:"
   ]
  },
  {
   "cell_type": "code",
   "execution_count": 80,
   "metadata": {},
   "outputs": [],
   "source": [
    "estudiante = {\"nombre\": \"Juan\", \"edad\": 25, \"carrera\": \"Informática\"}"
   ]
  },
  {
   "attachments": {},
   "cell_type": "markdown",
   "metadata": {},
   "source": [
    "Puedes acceder a los valores de un diccionario utilizando sus claves y realizar varias operaciones útiles, como agregar nuevos pares `clave-valor`, modificar valores existentes y eliminar pares `clave-valor`. A continuación, se muestran algunos ejemplos de operaciones comunes con diccionarios:\n",
    "\n",
    "* **Acceder a valores de un diccionario:**"
   ]
  },
  {
   "cell_type": "code",
   "execution_count": 81,
   "metadata": {},
   "outputs": [
    {
     "name": "stdout",
     "output_type": "stream",
     "text": [
      "Juan\n",
      "25\n"
     ]
    }
   ],
   "source": [
    "estudiante = {\"nombre\": \"Juan\", \"edad\": 25, \"carrera\": \"Informática\"}\n",
    "print(estudiante[\"nombre\"])  # Resultado: \"Juan\"\n",
    "print(estudiante[\"edad\"])  # Resultado: 25"
   ]
  },
  {
   "attachments": {},
   "cell_type": "markdown",
   "metadata": {},
   "source": [
    "* **Agregar nuevos pares clave-valor a un diccionario:**"
   ]
  },
  {
   "cell_type": "code",
   "execution_count": 82,
   "metadata": {},
   "outputs": [
    {
     "name": "stdout",
     "output_type": "stream",
     "text": [
      "{'nombre': 'Juan', 'edad': 25, 'carrera': 'Informática'}\n"
     ]
    }
   ],
   "source": [
    "estudiante = {\"nombre\": \"Juan\", \"edad\": 25}\n",
    "estudiante[\"carrera\"] = \"Informática\"\n",
    "print(estudiante)  # Resultado: {\"nombre\": \"Juan\", \"edad\": 25, \"carrera\": \"Informática\"}"
   ]
  },
  {
   "attachments": {},
   "cell_type": "markdown",
   "metadata": {},
   "source": [
    "* **Modificar valores existentes en un diccionario:**"
   ]
  },
  {
   "cell_type": "code",
   "execution_count": 83,
   "metadata": {},
   "outputs": [
    {
     "name": "stdout",
     "output_type": "stream",
     "text": [
      "{'nombre': 'Juan', 'edad': 26, 'carrera': 'Informática'}\n"
     ]
    }
   ],
   "source": [
    "estudiante = {\"nombre\": \"Juan\", \"edad\": 25, \"carrera\": \"Informática\"}\n",
    "estudiante[\"edad\"] = 26\n",
    "print(estudiante)  # Resultado: {\"nombre\": \"Juan\", \"edad\": 26, \"carrera\": \"Informática\"}"
   ]
  },
  {
   "attachments": {},
   "cell_type": "markdown",
   "metadata": {},
   "source": [
    "* **Eliminar pares clave-valor de un diccionario:**"
   ]
  },
  {
   "cell_type": "code",
   "execution_count": 84,
   "metadata": {},
   "outputs": [
    {
     "name": "stdout",
     "output_type": "stream",
     "text": [
      "{'nombre': 'Juan', 'carrera': 'Informática'}\n"
     ]
    }
   ],
   "source": [
    "estudiante = {\"nombre\": \"Juan\", \"edad\": 25, \"carrera\": \"Informática\"}\n",
    "del estudiante[\"edad\"]\n",
    "print(estudiante)  # Resultado: {\"nombre\": \"Juan\", \"carrera\": \"Informática\"}"
   ]
  },
  {
   "attachments": {},
   "cell_type": "markdown",
   "metadata": {},
   "source": [
    "Los conjuntos y los diccionarios ofrecen una funcionalidad adicional para trabajar con colecciones de datos en Python. Los conjuntos son útiles cuando se necesita almacenar elementos únicos y realizar operaciones de conjuntos, mientras que los diccionarios son ideales para almacenar información relacionada a través de claves y valores. Utiliza la colección adecuada según tus necesidades específicas en tu programa."
   ]
  },
  {
   "attachments": {},
   "cell_type": "markdown",
   "metadata": {},
   "source": [
    "## **Funciones**"
   ]
  },
  {
   "attachments": {},
   "cell_type": "markdown",
   "metadata": {},
   "source": [
    "En Python, las funciones son bloques de código reutilizables que realizan una tarea específica. Las funciones permiten estructurar y organizar el código, evitando la repetición y facilitando su mantenimiento. Puedes definir tus propias funciones en Python utilizando la palabra clave `def`. A continuación, te proporcionaré una explicación detallada de las funciones con ejemplos:\n",
    "\n",
    "1. **Sintaxis de una función:**\n",
    "\n",
    "La sintaxis básica de una función en Python es la siguiente:"
   ]
  },
  {
   "cell_type": "code",
   "execution_count": 85,
   "metadata": {},
   "outputs": [],
   "source": [
    "def nombre_de_funcion(parametros):\n",
    "    # Cuerpo de la función\n",
    "    # Realizar tareas aquí\n",
    "    return resultado"
   ]
  },
  {
   "attachments": {},
   "cell_type": "markdown",
   "metadata": {},
   "source": [
    "* **def:** Palabra clave que indica el inicio de la definición de una función.\n",
    "* **nombre_de_funcion:** Nombre que elijas para tu función.\n",
    "* **parametros:** Los parámetros son valores que se pueden pasar a la función para que los utilice durante su ejecución. Puedes tener cero o más parámetros separados por comas.\n",
    "* **return:** Palabra clave opcional que indica el valor que devuelve la función. Si no se especifica, la función devuelve `None`.\n",
    "\n",
    "2. **Ejemplo de una función:**\n",
    "\n",
    "Aquí tienes un ejemplo de una función simple que suma dos números y devuelve el resultado:"
   ]
  },
  {
   "cell_type": "code",
   "execution_count": 86,
   "metadata": {},
   "outputs": [
    {
     "name": "stdout",
     "output_type": "stream",
     "text": [
      "5\n"
     ]
    }
   ],
   "source": [
    "def sumar(a, b):\n",
    "    resultado = a + b\n",
    "    return resultado\n",
    "\n",
    "# Llamada a la función\n",
    "resultado_suma = sumar(2, 3)\n",
    "print(resultado_suma)  # Resultado: 5"
   ]
  },
  {
   "attachments": {},
   "cell_type": "markdown",
   "metadata": {},
   "source": [
    "En este ejemplo, definimos una función llamada `sumar` que toma dos parámetros `a` y `b`. Dentro de la función, realizamos la operación de suma y devolvemos el resultado utilizando la palabra clave `return`. Luego, llamamos a la función pasando los valores `2` y `3` y almacenamos el resultado en la variable `resultado_suma`. Finalmente, imprimimos el resultado.\n",
    "\n",
    "3. **Parámetros de función:**\n",
    "\n",
    "Las funciones pueden tener diferentes tipos de parámetros:\n",
    "\n",
    "* **Parámetros posicionales:** Son los parámetros que se pasan en el orden en que se definen en la función.\n",
    "* **Parámetros con valor predeterminado:** Son parámetros que tienen un valor asignado por defecto en caso de que no se les pase un valor específico.\n",
    "* **Parámetros de palabras clave:** Son parámetros que se pasan utilizando su nombre y un valor específico, lo que permite cambiar el orden de los argumentos.\n",
    "\n",
    "A continuación, se muestra un ejemplo de una función con diferentes tipos de parámetros:"
   ]
  },
  {
   "cell_type": "code",
   "execution_count": 87,
   "metadata": {},
   "outputs": [
    {
     "name": "stdout",
     "output_type": "stream",
     "text": [
      "Hola Juan\n",
      "Hola, ¿cómo estás? María\n"
     ]
    }
   ],
   "source": [
    "def saludar(nombre, mensaje=\"Hola\"):\n",
    "    print(mensaje, nombre)\n",
    "\n",
    "# Llamada a la función con argumentos posicionales\n",
    "saludar(\"Juan\")  # Resultado: \"Hola Juan\"\n",
    "\n",
    "# Llamada a la función con argumentos de palabras clave\n",
    "saludar(mensaje=\"Hola, ¿cómo estás?\", nombre=\"María\")  # Resultado: \"Hola, ¿cómo estás? María\""
   ]
  },
  {
   "attachments": {},
   "cell_type": "markdown",
   "metadata": {},
   "source": [
    "En este ejemplo, la función `saludar` tiene dos parámetros: `nombre` y `mensaje` con un valor predeterminado. Si no se proporciona un valor para mensaje, se utiliza el valor predeterminado \"`Hola`\". Puedes llamar a la función con argumentos posicionales o utilizando palabras clave para especificar los valores de los parámetros.\n",
    "\n",
    "4. **Funciones sin retorno:**\n",
    "\n",
    "Algunas funciones no necesitan devolver un valor. Pueden realizar tareas sin generar una salida específica. En tales casos, puedes omitir la instrucción `return` o usar `return None`. Aquí tienes un ejemplo:"
   ]
  },
  {
   "cell_type": "code",
   "execution_count": 88,
   "metadata": {},
   "outputs": [
    {
     "name": "stdout",
     "output_type": "stream",
     "text": [
      "¡Hola, Ana !\n"
     ]
    }
   ],
   "source": [
    "def imprimir_saludo(nombre):\n",
    "    print(\"¡Hola,\", nombre, \"!\")\n",
    "    # No hay instrucción return\n",
    "\n",
    "imprimir_saludo(\"Ana\")  # Resultado: ¡Hola, Ana !"
   ]
  },
  {
   "attachments": {},
   "cell_type": "markdown",
   "metadata": {},
   "source": [
    "En este caso, la función `imprimir_saludo` simplemente imprime un saludo utilizando el valor del parámetro nombre, pero no devuelve ningún valor específico.\n",
    "\n",
    "Las funciones en Python te permiten encapsular bloques de código y reutilizarlos fácilmente en diferentes partes de tu programa. Puedes definir tus propias funciones para realizar tareas específicas y luego llamarlas con diferentes argumentos según sea necesario. Esto mejora la legibilidad, la modularidad y la eficiencia de tu código."
   ]
  },
  {
   "attachments": {},
   "cell_type": "markdown",
   "metadata": {},
   "source": [
    "## **Manejo de Archivos**"
   ]
  },
  {
   "attachments": {},
   "cell_type": "markdown",
   "metadata": {},
   "source": [
    "El manejo de archivos en Python te permite trabajar con archivos en tu sistema de archivos, como leer información de un archivo, escribir datos en un archivo o realizar operaciones de manipulación de archivos. Python proporciona funciones y métodos incorporados para facilitar estas operaciones. A continuación, te proporcionaré una explicación detallada sobre el manejo de archivos en Python con ejemplos:\n",
    "\n",
    "1. **Abrir un archivo:**\n",
    "\n",
    "Para trabajar con un archivo, primero debes abrirlo. Puedes usar la función `open()` para abrir un archivo en modo de lectura, escritura o ambos. A continuación, se muestra un ejemplo de cómo abrir un archivo en modo de lectura:"
   ]
  },
  {
   "cell_type": "code",
   "execution_count": 89,
   "metadata": {},
   "outputs": [],
   "source": [
    "archivo = open(\"./archivo.txt\", \"r\")"
   ]
  },
  {
   "attachments": {},
   "cell_type": "markdown",
   "metadata": {},
   "source": [
    "En este ejemplo, estamos abriendo el archivo llamado \"`archivo.txt`\" en modo de lectura (\"`r`\"). El archivo debe estar presente en el mismo directorio que el archivo de Python, o puedes proporcionar una ruta de acceso completa al archivo.\n",
    "\n",
    "2. **Leer contenido de un archivo:**\n",
    "\n",
    "Una vez que has abierto un archivo en modo de lectura, puedes leer su contenido utilizando el método `read()` o `readlines()`. El método `read()` devuelve una cadena que contiene todo el contenido del archivo, mientras que el método `readlines()` devuelve una lista donde cada elemento es una línea del archivo. Aquí tienes un ejemplo:"
   ]
  },
  {
   "cell_type": "code",
   "execution_count": 90,
   "metadata": {},
   "outputs": [
    {
     "name": "stdout",
     "output_type": "stream",
     "text": [
      "HOLA\n",
      "PYTHON\n"
     ]
    }
   ],
   "source": [
    "archivo = open(\"./archivo.txt\", \"r\")\n",
    "contenido = archivo.read()\n",
    "print(contenido)\n",
    "archivo.close()"
   ]
  },
  {
   "attachments": {},
   "cell_type": "markdown",
   "metadata": {},
   "source": [
    "En este ejemplo, leemos todo el contenido del archivo y lo almacenamos en la variable contenido. Luego, imprimimos el contenido y cerramos el archivo utilizando el método `close()` para liberar los recursos.\n",
    "\n",
    "3. **Escribir en un archivo:**\n",
    "\n",
    "Para escribir en un archivo, debes abrirlo en modo de escritura (\"`w`\"). Puedes utilizar el método `write()` para escribir datos en el archivo. Si el archivo no existe, se creará automáticamente. A continuación, se muestra un ejemplo de cómo escribir en un archivo:"
   ]
  },
  {
   "cell_type": "code",
   "execution_count": 91,
   "metadata": {},
   "outputs": [],
   "source": [
    "archivo = open(\"./archivo.txt\", \"w\")\n",
    "archivo.write(\"Hola, mundo!\")\n",
    "archivo.close()"
   ]
  },
  {
   "attachments": {},
   "cell_type": "markdown",
   "metadata": {},
   "source": [
    "En este ejemplo, abrimos el archivo en modo de escritura y escribimos la cadena \"`Hola, mundo!`\" en el archivo. Luego, cerramos el archivo.\n",
    "\n",
    "4. **Agregar contenido a un archivo:**\n",
    "\n",
    "Si deseas agregar contenido a un archivo existente en lugar de sobrescribirlo, puedes abrir el archivo en modo de agregado (\"`a`\"). El método `write()` agregará el contenido al final del archivo. Aquí tienes un ejemplo:"
   ]
  },
  {
   "cell_type": "code",
   "execution_count": 92,
   "metadata": {},
   "outputs": [],
   "source": [
    "archivo = open(\"./archivo.txt\", \"a\")\n",
    "archivo.write(\"¡Este es un nuevo mensaje!\")\n",
    "archivo.close()"
   ]
  },
  {
   "attachments": {},
   "cell_type": "markdown",
   "metadata": {},
   "source": [
    "En este ejemplo, abrimos el archivo en modo de agregado y escribimos el mensaje al final del archivo.\n",
    "\n",
    "5. **Cerrar un archivo:**\n",
    "\n",
    "Después de terminar de trabajar con un archivo, debes cerrarlo utilizando el método `close()`. Esto asegura que los recursos asociados con el archivo se liberen adecuadamente. Aquí tienes un ejemplo:"
   ]
  },
  {
   "cell_type": "code",
   "execution_count": 93,
   "metadata": {},
   "outputs": [
    {
     "name": "stdout",
     "output_type": "stream",
     "text": [
      "Hola, mundo!¡Este es un nuevo mensaje!\n"
     ]
    }
   ],
   "source": [
    "archivo = open(\"./archivo.txt\", \"r\")\n",
    "contenido = archivo.read()\n",
    "print(contenido)\n",
    "archivo.close()"
   ]
  },
  {
   "attachments": {},
   "cell_type": "markdown",
   "metadata": {},
   "source": [
    "En este ejemplo, cerramos el archivo después de leer su contenido.\n",
    "\n",
    "Es importante cerrar correctamente los archivos después de trabajar con ellos para evitar problemas de recursos y garantizar la integridad de los datos. Sin embargo, una forma más segura y recomendada de trabajar con archivos es utilizando el bloque `with`. El bloque `with` se encarga automáticamente de cerrar el archivo una vez que se haya terminado de trabajar con él. Aquí tienes un ejemplo:"
   ]
  },
  {
   "cell_type": "code",
   "execution_count": 94,
   "metadata": {},
   "outputs": [
    {
     "name": "stdout",
     "output_type": "stream",
     "text": [
      "Hola, mundo!¡Este es un nuevo mensaje!\n"
     ]
    }
   ],
   "source": [
    "with open(\"./archivo.txt\", \"r\") as archivo:\n",
    "    contenido = archivo.read()\n",
    "    print(contenido)"
   ]
  },
  {
   "attachments": {},
   "cell_type": "markdown",
   "metadata": {},
   "source": [
    "En este ejemplo, el archivo se cierra automáticamente al finalizar el bloque `with`, sin necesidad de utilizar `archivo.close()`.\n",
    "\n",
    "El manejo de archivos en Python te permite realizar diversas operaciones, como leer, escribir y agregar contenido a archivos. Asegúrate de manejar correctamente los archivos abiertos y cerrarlos adecuadamente para mantener un código limpio y evitar posibles problemas."
   ]
  },
  {
   "attachments": {},
   "cell_type": "markdown",
   "metadata": {},
   "source": [
    "## **Manejo de Errores**"
   ]
  },
  {
   "attachments": {},
   "cell_type": "markdown",
   "metadata": {},
   "source": [
    "El manejo de errores en Python te permite controlar y responder a situaciones excepcionales que pueden ocurrir durante la ejecución de un programa. Python proporciona un mecanismo de manejo de excepciones para capturar y manejar errores de manera controlada. A continuación, te proporcionaré una explicación detallada sobre el manejo de errores en Python con ejemplos:\n",
    "\n",
    "1. **Bloques try-except:**\n",
    "\n",
    "Puedes utilizar bloques `try-except` para capturar y manejar excepciones en Python. El bloque `try` se utiliza para encerrar el código que puede generar una excepción, y el bloque `except` se utiliza para especificar cómo manejar esa excepción. Aquí tienes un ejemplo básico:"
   ]
  },
  {
   "cell_type": "code",
   "execution_count": 95,
   "metadata": {},
   "outputs": [
    {
     "name": "stdout",
     "output_type": "stream",
     "text": [
      "Ha ocurrido un error\n"
     ]
    }
   ],
   "source": [
    "try:\n",
    "    # Código que puede generar una excepción\n",
    "    resultado = 10 / 0  # División por cero\n",
    "except:\n",
    "    # Manejo de la excepción\n",
    "    print(\"Ha ocurrido un error\")"
   ]
  },
  {
   "attachments": {},
   "cell_type": "markdown",
   "metadata": {},
   "source": [
    "En este ejemplo, el bloque `try` contiene una operación de división por cero que generará una excepción `ZeroDivisionError`. El bloque `except` captura esa excepción y ejecuta el código de manejo de la excepción, en este caso, simplemente imprime un mensaje de error.\n",
    "\n",
    "2. **Tipos de excepciones:**\n",
    "\n",
    "Puedes especificar el tipo de excepción que deseas capturar en el bloque `except`. De esta manera, puedes manejar diferentes tipos de errores de manera específica. Por ejemplo:"
   ]
  },
  {
   "cell_type": "code",
   "execution_count": 96,
   "metadata": {},
   "outputs": [
    {
     "name": "stdout",
     "output_type": "stream",
     "text": [
      "Error: División por cero\n"
     ]
    }
   ],
   "source": [
    "try:\n",
    "    resultado = 10 / 0\n",
    "except ZeroDivisionError:\n",
    "    print(\"Error: División por cero\")\n",
    "except TypeError:\n",
    "    print(\"Error: Tipo de dato incorrecto\")"
   ]
  },
  {
   "attachments": {},
   "cell_type": "markdown",
   "metadata": {},
   "source": [
    "En este ejemplo, tenemos dos bloques `except` para manejar diferentes tipos de excepciones. Si se genera una excepción `ZeroDivisionError`, se ejecutará el primer bloque `except` y se imprimirá un mensaje específico. Si se genera una excepción `TypeError`, se ejecutará el segundo bloque `except` y se imprimirá otro mensaje.\n",
    "\n",
    "3. **Bloque else:**\n",
    "\n",
    "Puedes utilizar el bloque else en conjunto con el bloque `try-except` para especificar un código a ejecutar si no se produce ninguna excepción. Por ejemplo:"
   ]
  },
  {
   "cell_type": "code",
   "execution_count": 97,
   "metadata": {},
   "outputs": [
    {
     "name": "stdout",
     "output_type": "stream",
     "text": [
      "El resultado es: 2.0\n"
     ]
    }
   ],
   "source": [
    "try:\n",
    "    resultado = 10 / 5\n",
    "except ZeroDivisionError:\n",
    "    print(\"Error: División por cero\")\n",
    "else:\n",
    "    print(\"El resultado es:\", resultado)"
   ]
  },
  {
   "attachments": {},
   "cell_type": "markdown",
   "metadata": {},
   "source": [
    "En este ejemplo, si no se genera ninguna excepción durante la ejecución del bloque `try`, se ejecutará el bloque `else` y se imprimirá el resultado.\n",
    "\n",
    "4. **Bloque finally:**\n",
    "\n",
    "El bloque `finally` se utiliza para especificar un código que se ejecutará siempre, independientemente de si se produce una excepción o no. Esto es útil para realizar acciones de limpieza o liberación de recursos. Por ejemplo:"
   ]
  },
  {
   "cell_type": "code",
   "execution_count": 99,
   "metadata": {},
   "outputs": [],
   "source": [
    "try:\n",
    "    archivo = open(\"./archivo.txt\", \"r\")\n",
    "    # Código que trabaja con el archivo\n",
    "except FileNotFoundError:\n",
    "    print(\"Error: Archivo no encontrado\")\n",
    "finally:\n",
    "    archivo.close()"
   ]
  },
  {
   "attachments": {},
   "cell_type": "markdown",
   "metadata": {},
   "source": [
    "En este ejemplo, el bloque `finally` asegura que el archivo se cierre correctamente, incluso si se produce una excepción durante la lectura del archivo.\n",
    "\n",
    "5. **Lanzar excepciones:**\n",
    "\n",
    "También puedes lanzar excepciones manualmente utilizando la palabra clave `raise`. Esto te permite generar tus propias excepciones personalizadas en situaciones específicas. Por ejemplo:"
   ]
  },
  {
   "cell_type": "code",
   "execution_count": 100,
   "metadata": {},
   "outputs": [
    {
     "name": "stdout",
     "output_type": "stream",
     "text": [
      "Error: División por cero no permitida\n"
     ]
    }
   ],
   "source": [
    "def dividir(a, b):\n",
    "    if b == 0:\n",
    "        raise ValueError(\"Error: División por cero no permitida\")\n",
    "    return a / b\n",
    "\n",
    "try:\n",
    "    resultado = dividir(10, 0)\n",
    "except ValueError as e:\n",
    "    print(e)"
   ]
  },
  {
   "attachments": {},
   "cell_type": "markdown",
   "metadata": {},
   "source": [
    "En este ejemplo, la función dividir verifica si el divisor es cero y, si es así, lanza una excepción `ValueError` con un mensaje personalizado. Luego, capturamos la excepción en el bloque `except` y mostramos el mensaje de error.\n",
    "\n",
    "El manejo de errores en Python te permite controlar y responder de manera adecuada a las excepciones que pueden ocurrir durante la ejecución de tu programa. Puedes capturar excepciones específicas, ejecutar código adicional en caso de éxito o error, y realizar acciones de limpieza utilizando los bloques `try-except`, `else` y `finally`. Esto te ayuda a evitar que tu programa se bloquee y a proporcionar mensajes de error significativos para facilitar el diagnóstico y la resolución de problemas."
   ]
  },
  {
   "attachments": {},
   "cell_type": "markdown",
   "metadata": {},
   "source": [
    "## **Clases y Objetos (POO)**"
   ]
  },
  {
   "attachments": {},
   "cell_type": "markdown",
   "metadata": {},
   "source": [
    "La programación orientada a objetos (`POO`) es un paradigma de programación que se basa en el concepto de \"`clases`\" y \"`objetos`\". En Python, puedes crear clases para definir objetos con atributos y métodos específicos. A continuación, te proporcionaré una explicación detallada sobre las clases y objetos en Python, junto con ejemplos:\n",
    "\n",
    "1. **Clases:**\n",
    "\n",
    "Una clase es una plantilla o un plano para crear objetos. Define las características y el comportamiento que tendrán los objetos que se crearán a partir de ella. En Python, puedes definir una clase utilizando la palabra clave `class`. Aquí tienes un ejemplo básico de una clase `Persona`:"
   ]
  },
  {
   "cell_type": "code",
   "execution_count": 101,
   "metadata": {},
   "outputs": [],
   "source": [
    "class Persona:\n",
    "    def __init__(self, nombre, edad):\n",
    "        self.nombre = nombre\n",
    "        self.edad = edad\n",
    "\n",
    "    def saludar(self):\n",
    "        print(f\"Hola, soy {self.nombre} y tengo {self.edad} años.\")"
   ]
  },
  {
   "attachments": {},
   "cell_type": "markdown",
   "metadata": {},
   "source": [
    "En este ejemplo, la clase `Persona` tiene dos atributos: `nombre` y `edad`. También tiene un método llamado `saludar()` que imprime un saludo utilizando los atributos de la clase.\n",
    "\n",
    "2. **Objetos:**\n",
    "\n",
    "Un objeto es una instancia de una clase. Cuando creas un objeto, estás creando una copia de la clase con valores específicos para sus atributos. Puedes crear un objeto utilizando el nombre de la clase seguido de paréntesis. Aquí tienes un ejemplo de creación de objetos a partir de la clase `Persona`:"
   ]
  },
  {
   "cell_type": "code",
   "execution_count": 102,
   "metadata": {},
   "outputs": [
    {
     "name": "stdout",
     "output_type": "stream",
     "text": [
      "Hola, soy Juan y tengo 25 años.\n",
      "Hola, soy María y tengo 30 años.\n"
     ]
    }
   ],
   "source": [
    "persona1 = Persona(\"Juan\", 25)\n",
    "persona2 = Persona(\"María\", 30)\n",
    "\n",
    "persona1.saludar()  # Resultado: Hola, soy Juan y tengo 25 años.\n",
    "persona2.saludar()  # Resultado: Hola, soy María y tengo 30 años."
   ]
  },
  {
   "attachments": {},
   "cell_type": "markdown",
   "metadata": {},
   "source": [
    "En este ejemplo, creamos dos objetos `persona1` y `persona2` utilizando la clase `Persona`. Cada objeto tiene sus propios valores para los atributos `nombre` y `edad`. Luego, llamamos al método `saludar()` en cada objeto para mostrar su saludo personalizado.\n",
    "\n",
    "3. **Atributos y métodos:**\n",
    "\n",
    "Los atributos son variables que pertenecen a una clase u objeto, mientras que los métodos son funciones definidas en una clase que pueden ser invocadas en los objetos de esa clase. Los atributos almacenan información y los métodos definen el comportamiento. Aquí tienes un ejemplo adicional:"
   ]
  },
  {
   "cell_type": "code",
   "execution_count": 103,
   "metadata": {},
   "outputs": [
    {
     "name": "stdout",
     "output_type": "stream",
     "text": [
      "Max\n",
      "3\n",
      "¡Guau!\n",
      "Canino\n"
     ]
    }
   ],
   "source": [
    "class Perro:\n",
    "    especie = \"Canino\"\n",
    "\n",
    "    def __init__(self, nombre, edad):\n",
    "        self.nombre = nombre\n",
    "        self.edad = edad\n",
    "\n",
    "    def ladrar(self):\n",
    "        print(\"¡Guau!\")\n",
    "\n",
    "perro1 = Perro(\"Max\", 3)\n",
    "print(perro1.nombre)  # Resultado: Max\n",
    "print(perro1.edad)    # Resultado: 3\n",
    "perro1.ladrar()       # Resultado: ¡Guau!\n",
    "print(perro1.especie) # Resultado: Canino"
   ]
  },
  {
   "attachments": {},
   "cell_type": "markdown",
   "metadata": {},
   "source": [
    "En este ejemplo, la clase `Perro` tiene un atributo especie que es compartido por todos los objetos de la clase. También tiene un método `ladrar()` que imprime un ladrido. Al crear un objeto `perro1`, podemos acceder a sus atributos (`nombre`, `edad`) y llamar a su método `ladrar()`.\n",
    "\n",
    "4. **Herencia:**\n",
    "\n",
    "Python también admite el concepto de herencia, que te permite crear nuevas clases basadas en clases existentes. La clase nueva hereda los atributos y métodos de la clase padre y puede agregar su propia funcionalidad adicional o modificar el comportamiento existente. Aquí tienes un ejemplo:"
   ]
  },
  {
   "cell_type": "code",
   "execution_count": 104,
   "metadata": {},
   "outputs": [
    {
     "name": "stdout",
     "output_type": "stream",
     "text": [
      "Hola, soy Ana y tengo 20 años.\n",
      "Ana está estudiando en el grado 10º.\n"
     ]
    }
   ],
   "source": [
    "class Estudiante(Persona):\n",
    "    def __init__(self, nombre, edad, grado):\n",
    "        super().__init__(nombre, edad)\n",
    "        self.grado = grado\n",
    "\n",
    "    def estudiar(self):\n",
    "        print(f\"{self.nombre} está estudiando en el grado {self.grado}.\")\n",
    "\n",
    "estudiante1 = Estudiante(\"Ana\", 20, \"10º\")\n",
    "estudiante1.saludar()  # Resultado: Hola, soy Ana y tengo 20 años.\n",
    "estudiante1.estudiar() # Resultado: Ana está estudiando en el grado 10º."
   ]
  },
  {
   "attachments": {},
   "cell_type": "markdown",
   "metadata": {},
   "source": [
    "En este ejemplo, la clase Estudiante hereda de la clase `Persona`. El método` __init__()` de la clase hija utiliza el método `__init__()` de la clase `padre` utilizando `super()` para inicializar los atributos heredados. Además, la clase hija tiene su propio atributo grado y método `estudiar()`.\n",
    "\n",
    "La programación orientada a objetos te permite organizar tu código de manera más estructurada y modular, al modelar conceptos del mundo real utilizando clases y objetos. Puedes definir atributos para almacenar datos y métodos para realizar acciones específicas. Además, la herencia te permite reutilizar y extender la funcionalidad de las clases existentes."
   ]
  },
  {
   "attachments": {},
   "cell_type": "markdown",
   "metadata": {},
   "source": [
    "\n",
    "| **Inicio** | **Siguiente 2** |\n",
    "|----------- |-------------- |\n",
    "| [🏠](../../README.md) | [⏩](./2.Introduccion_al_Web_Scraping.ipynb)|"
   ]
  }
 ],
 "metadata": {
  "kernelspec": {
   "display_name": "base",
   "language": "python",
   "name": "python3"
  },
  "language_info": {
   "codemirror_mode": {
    "name": "ipython",
    "version": 3
   },
   "file_extension": ".py",
   "mimetype": "text/x-python",
   "name": "python",
   "nbconvert_exporter": "python",
   "pygments_lexer": "ipython3",
   "version": "3.9.12"
  },
  "orig_nbformat": 4
 },
 "nbformat": 4,
 "nbformat_minor": 2
}
