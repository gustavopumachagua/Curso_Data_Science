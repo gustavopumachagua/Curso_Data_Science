{
 "cells": [
  {
   "attachments": {},
   "cell_type": "markdown",
   "metadata": {},
   "source": [
    "| **Inicio** | **atrás 5** | **Siguiente 7** |\n",
    "|----------- |-------------- |---------------|\n",
    "| [🏠](../../README.md) | [⏪](./5.Paginas_Dinamicas.ipynb)| [⏩](./7.Autenticaci%C3%B3n_y_Captchas.ipynb)|"
   ]
  },
  {
   "attachments": {},
   "cell_type": "markdown",
   "metadata": {},
   "source": [
    "# **6. Web Scraping de APIs, iFrames y Scripts**"
   ]
  },
  {
   "attachments": {},
   "cell_type": "markdown",
   "metadata": {},
   "source": [
    "## **Introducción**"
   ]
  },
  {
   "attachments": {},
   "cell_type": "markdown",
   "metadata": {},
   "source": [
    "Web Scraping es una técnica utilizada para extraer datos de sitios web de manera automatizada. Sin embargo, existen casos especiales en los que el contenido que se desea extraer no está directamente disponible en el HTML de la página. En estas situaciones, es necesario abordar técnicas específicas para realizar el scraping. A continuación, se explica cada una de estas técnicas:\n",
    "\n",
    "1. **Web Scraping de APIs:**\n",
    "\n",
    "Muchas aplicaciones y sitios web ofrecen una API (Interfaz de Programación de Aplicaciones) que permite el intercambio de datos de manera estructurada. Estas APIs suelen proporcionar acceso a datos en tiempo real o información específica. Para realizar Web Scraping de APIs, es necesario realizar solicitudes HTTP a través de la API y analizar las respuestas para extraer los datos deseados. Algunas APIs requieren autenticación, como la inclusión de una clave de API en la solicitud.\n",
    "\n",
    "Ejemplo de Web Scraping de una API con Python utilizando la biblioteca `requests`:"
   ]
  },
  {
   "cell_type": "code",
   "execution_count": null,
   "metadata": {},
   "outputs": [],
   "source": [
    "import requests\n",
    "\n",
    "url = 'https://api.example.com/data'\n",
    "response = requests.get(url)\n",
    "\n",
    "if response.status_code == 200:\n",
    "    data = response.json()\n",
    "    # Procesar y extraer los datos necesarios de 'data'\n",
    "    print(data)"
   ]
  },
  {
   "attachments": {},
   "cell_type": "markdown",
   "metadata": {},
   "source": [
    "En este ejemplo, se realiza una solicitud `GET` a la URL de la API, y si la respuesta es exitosa (código de estado `200`), se procesa la respuesta en formato `JSON` y se extraen los datos necesarios.\n",
    "\n",
    "2. **Web Scraping de iFrames:**\n",
    "\n",
    "Los iFrames son elementos HTML que permiten incrustar contenido de otros sitios web dentro de una página. En ocasiones, los datos que se desean extraer están contenidos dentro de un iFrame en lugar del propio HTML principal de la página. Para extraer datos de iFrames, se debe acceder y analizar el contenido del iFrame por separado.\n",
    "\n",
    "Ejemplo de Web Scraping de un iFrame con Selenium en Python:"
   ]
  },
  {
   "cell_type": "code",
   "execution_count": null,
   "metadata": {},
   "outputs": [],
   "source": [
    "from selenium import webdriver\n",
    "\n",
    "driver = webdriver.Chrome('/ruta/al/chromedriver')\n",
    "driver.get('https://www.example.com')\n",
    "\n",
    "# Cambiar al contexto del iFrame\n",
    "driver.switch_to.frame('iframe_id')\n",
    "\n",
    "# Extraer los datos del iFrame\n",
    "data = driver.find_element_by_css_selector('.data-element').text\n",
    "print(data)\n",
    "\n",
    "# Cambiar de nuevo al contexto principal\n",
    "driver.switch_to.default_content()\n",
    "\n",
    "# Continuar con el resto del scraping\n",
    "# ...\n",
    "\n",
    "driver.quit()"
   ]
  },
  {
   "attachments": {},
   "cell_type": "markdown",
   "metadata": {},
   "source": [
    "En este ejemplo, se utiliza Selenium para abrir la página web y luego se cambia al contexto del iFrame utilizando el método `switch_to.frame()`. Una vez dentro del iFrame, se puede utilizar Selenium para extraer los datos deseados. Después de extraer los datos del iFrame, se puede cambiar al contexto principal utilizando `switch_to.default_content()` para continuar con el resto del scraping.\n",
    "\n",
    "3. **Web Scraping de Scripts:**\n",
    "\n",
    "A veces, los datos en una página web se generan dinámicamente mediante scripts JavaScript que se ejecutan después de que se ha cargado el HTML inicial. Estos scripts pueden realizar solicitudes adicionales a servidores o manipular el contenido de la página. Para extraer datos generados por scripts, es necesario ejecutar el JavaScript y luego analizar el contenido resultante.\n",
    "\n",
    "Ejemplo de Web Scraping de contenido generado por JavaScript con Selenium en Python:"
   ]
  },
  {
   "cell_type": "code",
   "execution_count": null,
   "metadata": {},
   "outputs": [],
   "source": [
    "from selenium import webdriver\n",
    "\n",
    "driver = webdriver.Chrome('/ruta/al/chromedriver')\n",
    "driver.get('https://www.example.com')\n",
    "\n",
    "# Ejecutar el JavaScript en la página\n",
    "driver.execute_script(\"window.scrollTo(0, document.body.scrollHeight);\")\n",
    "\n",
    "# Extraer los datos generados por el JavaScript\n",
    "data = driver.find_element_by_css_selector('.data-element').text\n",
    "print(data)\n",
    "\n",
    "# Continuar con el resto del scraping\n",
    "# ...\n",
    "\n",
    "driver.quit()"
   ]
  },
  {
   "attachments": {},
   "cell_type": "markdown",
   "metadata": {},
   "source": [
    "En este ejemplo, se utiliza Selenium para abrir la página web y luego se ejecuta el JavaScript utilizando el método `execute_script()`. Después de ejecutar el JavaScript, se puede utilizar Selenium para extraer los datos generados por el JavaScript.\n",
    "\n",
    "Estas técnicas, Web Scraping de APIs, iFrames y Scripts, son útiles cuando los datos que se desean extraer no están directamente disponibles en el HTML de la página. Cada técnica requiere un enfoque diferente para acceder y extraer los datos deseados. Es importante tener en cuenta que el scraping de sitios web debe realizarse de manera ética y cumpliendo los términos de servicio del sitio web objetivo."
   ]
  },
  {
   "attachments": {},
   "cell_type": "markdown",
   "metadata": {},
   "source": [
    "## **¿Qué es una API?**"
   ]
  },
  {
   "attachments": {},
   "cell_type": "markdown",
   "metadata": {},
   "source": [
    "Una API (Application Programming Interface) es un conjunto de reglas y protocolos que permite la comunicación entre diferentes aplicaciones de software. Es una interfaz que define cómo los componentes de software deben interactuar entre sí, especificando los métodos, formatos de datos y convenciones que se deben seguir.\n",
    "\n",
    "Las API permiten que las aplicaciones se conecten y compartan datos o funcionalidades de manera estandarizada y segura. Proporcionan una capa de abstracción que oculta los detalles internos de implementación de una aplicación, permitiendo que otras aplicaciones interactúen con ella de manera controlada.\n",
    "\n",
    "Existen diferentes tipos de APIs, pero en este contexto nos centraremos en las API web, que se basan en protocolos HTTP para la comunicación. Las API web permiten que las aplicaciones cliente realicen solicitudes a un servidor y obtengan una respuesta en un formato específico, generalmente JSON o XML.\n",
    "\n",
    "Aquí tienes un ejemplo sencillo para ilustrar el funcionamiento de una API:\n",
    "\n",
    "Supongamos que deseas desarrollar una aplicación que muestre información meteorológica actualizada. En lugar de recopilar los datos meteorológicos directamente desde su fuente, puedes utilizar una API meteorológica para obtener los datos de forma más conveniente.\n",
    "\n",
    "1. **Registrarse y obtener una clave de API:**\n",
    "\n",
    "Primero, deberás registrarte en el servicio de la API meteorológica y obtener una clave de API única. Esta clave se utilizará para autenticar tus solicitudes a la API y garantizar que solo las personas autorizadas puedan acceder a los datos.\n",
    "\n",
    "2. **Realizar una solicitud a la API:**\n",
    "\n",
    "Utilizando la clave de API, puedes realizar solicitudes a la API para obtener información meteorológica. Por ejemplo, puedes realizar una solicitud HTTP GET a la siguiente URL:"
   ]
  },
  {
   "attachments": {},
   "cell_type": "markdown",
   "metadata": {},
   "source": [
    "`GET https://api.weather.com/forecast?key=YOUR_API_KEY&location=NewYork`"
   ]
  },
  {
   "attachments": {},
   "cell_type": "markdown",
   "metadata": {},
   "source": [
    "En esta solicitud, se incluye la clave de API y la ubicación para la que se desea obtener el pronóstico del tiempo (en este caso, Nueva York). La API responderá con los datos meteorológicos en un formato específico, como JSON.\n",
    "\n",
    "3. **Procesar la respuesta de la API:**\n",
    "\n",
    "Una vez que recibas la respuesta de la API, puedes procesar los datos en tu aplicación. Por ejemplo, puedes extraer la temperatura actual, la descripción del clima y otros detalles relevantes para mostrarlos en tu interfaz de usuario.\n",
    "\n",
    "4. **Actualizar los datos periódicamente:**\n",
    "\n",
    "Puedes configurar tu aplicación para realizar solicitudes a la API periódicamente y mantener actualizados los datos meteorológicos en tiempo real.\n",
    "\n",
    "Las APIs no solo se utilizan para obtener datos, sino también para realizar operaciones específicas en una aplicación. Por ejemplo, una API de pago en línea permite a los comerciantes procesar transacciones de forma segura, mientras que una API de redes sociales permite a las aplicaciones publicar contenido en plataformas sociales.\n",
    "\n",
    "En resumen, una API es una interfaz que permite la comunicación entre aplicaciones. Facilita la integración de diferentes sistemas y el intercambio de datos y funcionalidades. Al utilizar una API, puedes aprovechar servicios externos sin tener que implementar todo desde cero, lo que acelera el desarrollo de aplicaciones y mejora la interoperabilidad."
   ]
  },
  {
   "attachments": {},
   "cell_type": "markdown",
   "metadata": {},
   "source": [
    "![API](../imagenes%20Web%20Scraping/API-REST.png \"API\")"
   ]
  },
  {
   "attachments": {},
   "cell_type": "markdown",
   "metadata": {},
   "source": [
    "## **¿Qué es una JSON?**"
   ]
  },
  {
   "attachments": {},
   "cell_type": "markdown",
   "metadata": {},
   "source": [
    "JSON (JavaScript Object Notation) es un formato ligero y legible por humanos para el intercambio de datos. Se utiliza ampliamente en aplicaciones web y servicios web para transmitir datos entre un servidor y un cliente. JSON se basa en la sintaxis de los objetos en JavaScript, pero es un formato independiente de lenguaje y se puede utilizar con varios lenguajes de programación.\n",
    "\n",
    "Una estructura JSON se compone de pares de clave-valor, donde la clave es una cadena de texto y el valor puede ser de varios tipos de datos, como cadenas de texto, números, booleanos, listas, objetos anidados o valores nulos. Estos pares de clave-valor se agrupan entre llaves `{}` para formar un objeto JSON. Veamos un ejemplo:"
   ]
  },
  {
   "attachments": {},
   "cell_type": "markdown",
   "metadata": {},
   "source": [
    "```\n",
    "{\n",
    "  \"nombre\": \"Juan\",\n",
    "  \"edad\": 30,\n",
    "  \"ciudad\": \"Barcelona\",\n",
    "  \"intereses\": [\"programación\", \"viajes\", \"música\"],\n",
    "  \"activo\": true,\n",
    "  \"direccion\": {\n",
    "    \"calle\": \"Calle Mayor\",\n",
    "    \"numero\": 123,\n",
    "    \"codigo_postal\": \"08001\"\n",
    "  },\n",
    "  \"trabajo\": null\n",
    "}\n",
    "```"
   ]
  },
  {
   "attachments": {},
   "cell_type": "markdown",
   "metadata": {},
   "source": [
    "En este ejemplo, tenemos un objeto `JSON` que representa información sobre una persona. Cada clave está seguida por dos puntos (`:`), y luego se proporciona el valor correspondiente. Los valores de cadena de texto se deben incluir entre comillas dobles, mientras que los valores numéricos, booleanos y nulos no necesitan comillas.\n",
    "\n",
    "Las listas se representan utilizando corchetes `[]` y los elementos de la lista están separados por comas. En el ejemplo, la clave \"`intereses`\" tiene una lista de tres elementos.\n",
    "\n",
    "Los objetos anidados se pueden incluir como valores de otras claves, como el caso de la clave \"`direccion`\" que contiene otro objeto JSON con detalles de la dirección.\n",
    "\n",
    "JSON proporciona una forma estructurada y fácil de transmitir datos entre diferentes sistemas. Es ampliamente utilizado en servicios web y APIs, ya que se puede serializar y deserializar fácilmente en objetos en lenguajes de programación como JavaScript, Python, Java, entre otros. Además, su legibilidad humana facilita la depuración y comprensión de los datos transmitidos.\n",
    "\n",
    "En resumen, JSON es un formato de intercambio de datos estructurado y legible por humanos que se utiliza ampliamente en aplicaciones web y servicios web. Permite representar datos complejos utilizando una sintaxis sencilla basada en pares de clave-valor."
   ]
  },
  {
   "attachments": {},
   "cell_type": "markdown",
   "metadata": {},
   "source": [
    "## **¿Qué es una RESTful API?**"
   ]
  },
  {
   "attachments": {},
   "cell_type": "markdown",
   "metadata": {},
   "source": [
    "Una RESTful API (Application Programming Interface) es una interfaz de programación de aplicaciones que sigue los principios y estándares del estilo arquitectónico REST (Representational State Transfer). REST es un enfoque utilizado para diseñar sistemas distribuidos en la web, donde los recursos se identifican mediante URLs (Uniform Resource Locators) y se accede a ellos a través de métodos HTTP estándar, como GET, POST, PUT y DELETE.\n",
    "\n",
    "Una RESTful API permite a los desarrolladores interactuar con una aplicación o servicio web mediante solicitudes y respuestas HTTP. Estas solicitudes se realizan a través de URLs específicas que representan los recursos y se pueden utilizar para realizar operaciones como leer, crear, actualizar o eliminar datos.\n",
    "\n",
    "A continuación, se presentan los principales conceptos y características de una RESTful API:\n",
    "\n",
    "1. **Recursos:** Los recursos son las entidades que se pueden acceder a través de la API. Cada recurso tiene una URL única que lo identifica. Por ejemplo, en una API de redes sociales, los recursos pueden ser usuarios, publicaciones, comentarios, etc.\n",
    "\n",
    "2. **Métodos HTTP:** Los métodos HTTP se utilizan para indicar la acción que se realizará en un recurso. Los principales métodos utilizados en una RESTful API son:\n",
    "\n",
    "* **GET:** Se utiliza para obtener información de un recurso. Por ejemplo, obtener los detalles de un usuario mediante una solicitud `GET` a la URL `/users/1`.\n",
    "\n",
    "* **POST:** Se utiliza para crear un nuevo recurso. Por ejemplo, crear una nueva publicación mediante una solicitud `POST` a la URL `/posts`.\n",
    "\n",
    "* **PUT:** Se utiliza para actualizar un recurso existente. Por ejemplo, actualizar los datos de un usuario mediante una solicitud `PUT` a la URL `/users/1`.\n",
    "\n",
    "* **DELETE:** Se utiliza para eliminar un recurso. Por ejemplo, eliminar un comentario mediante una solicitud `DELETE` a la URL `/comments/1`.\n",
    "\n",
    "3. **Formato de datos:** Los datos transmitidos a través de una RESTful API se suelen intercambiar en formatos comunes como JSON (JavaScript Object Notation) o XML (eXtensible Markup Language). JSON es el formato más utilizado debido a su simplicidad y legibilidad.\n",
    "\n",
    "4. **Estado de la aplicación:** Una API RESTful es stateless, lo que significa que cada solicitud debe contener toda la información necesaria para entender y procesar la solicitud. No se mantiene información sobre el estado de la aplicación en el servidor entre solicitudes.\n",
    "\n",
    "5. **Códigos de estado HTTP:** Las respuestas de una API RESTful incluyen códigos de estado HTTP para indicar el resultado de la solicitud. Algunos códigos de estado comunes son:\n",
    "\n",
    "* **200 OK:** La solicitud se ha procesado correctamente.\n",
    "\n",
    "* **201 Created:** Se ha creado un nuevo recurso.\n",
    "\n",
    "* **400 Bad Request:** La solicitud contiene datos incorrectos o mal formados.\n",
    "\n",
    "* **404 Not Found:** El recurso solicitado no existe.\n",
    "\n",
    "* **500 Internal Server Error:** Se produjo un error interno en el servidor.\n",
    "\n",
    "A continuación se muestra un ejemplo de cómo se vería una solicitud `GET` a una API RESTful utilizando la URL `/users/1` para obtener los detalles de un usuario:"
   ]
  },
  {
   "attachments": {},
   "cell_type": "markdown",
   "metadata": {},
   "source": [
    "```\n",
    "GET /users/1 HTTP/1.1\n",
    "Host: api.example.com\n",
    "```"
   ]
  },
  {
   "attachments": {},
   "cell_type": "markdown",
   "metadata": {},
   "source": [
    "La respuesta correspondiente podría ser:"
   ]
  },
  {
   "attachments": {},
   "cell_type": "markdown",
   "metadata": {},
   "source": [
    "```\n",
    "HTTP/1.1 200 OK\n",
    "Content-Type: application/json\n",
    "\n",
    "{\n",
    "  \"id\": 1,\n",
    "  \"name\": \"John Doe\",\n",
    "  \"email\": \"john.doe@example.com\"\n",
    "}\n",
    "```"
   ]
  },
  {
   "attachments": {},
   "cell_type": "markdown",
   "metadata": {},
   "source": [
    "En resumen, una RESTful API es una interfaz de programación de aplicaciones que sigue los principios REST y permite a los desarrolladores interactuar con una aplicación o servicio web mediante solicitudes y respuestas HTTP. Proporciona una forma estándar y eficiente de acceder y manipular recursos utilizando métodos HTTP y formatos de datos como JSON."
   ]
  },
  {
   "attachments": {},
   "cell_type": "markdown",
   "metadata": {},
   "source": [
    "## **Extracción de datos de APIs**"
   ]
  },
  {
   "attachments": {},
   "cell_type": "markdown",
   "metadata": {},
   "source": [
    "La extracción de datos de APIs (Application Programming Interfaces) con Python es un proceso mediante el cual se obtienen datos de servicios web a través de solicitudes HTTP y se procesan para su posterior uso o análisis. Python proporciona varias bibliotecas que simplifican la interacción con APIs y facilitan la extracción de datos.\n",
    "\n",
    "A continuación, te proporcionaré una explicación detallada del proceso de extracción de datos de APIs utilizando Python, junto con ejemplos de código:\n",
    "\n",
    "* **Paso 1:** Importar las bibliotecas necesarias"
   ]
  },
  {
   "cell_type": "code",
   "execution_count": 1,
   "metadata": {},
   "outputs": [],
   "source": [
    "import requests\n",
    "import json"
   ]
  },
  {
   "attachments": {},
   "cell_type": "markdown",
   "metadata": {},
   "source": [
    "En este ejemplo, importamos las bibliotecas `requests` para realizar las solicitudes HTTP y json para trabajar con los datos en formato JSON.\n",
    "\n",
    "* **Paso 2:** Hacer una solicitud a la API"
   ]
  },
  {
   "cell_type": "code",
   "execution_count": null,
   "metadata": {},
   "outputs": [],
   "source": [
    "url = 'https://api.example.com/data'\n",
    "response = requests.get(url)"
   ]
  },
  {
   "attachments": {},
   "cell_type": "markdown",
   "metadata": {},
   "source": [
    "Definimos la URL de la API que deseamos consultar y utilizamos el método `get` de la biblioteca `requests` para hacer la solicitud HTTP. El resultado de la solicitud se almacena en la variable `response`.\n",
    "\n",
    "* **Paso 3:** Procesar la respuesta de la API"
   ]
  },
  {
   "cell_type": "code",
   "execution_count": null,
   "metadata": {},
   "outputs": [],
   "source": [
    "if response.status_code == 200:\n",
    "    data = response.json()\n",
    "    # Procesar los datos obtenidos\n",
    "else:\n",
    "    print('Error en la solicitud:', response.status_code)"
   ]
  },
  {
   "attachments": {},
   "cell_type": "markdown",
   "metadata": {},
   "source": [
    "Verificamos si la solicitud fue exitosa mediante el código de estado HTTP. Si es `200 (OK)`, utilizamos el método `json()` para obtener los datos en formato JSON y los almacenamos en la variable data. A partir de aquí, podemos procesar los datos de acuerdo a nuestras necesidades. Si la solicitud no fue exitosa, se muestra un mensaje de error con el código de estado.\n",
    "\n",
    "* **Paso 4:** Trabajar con los datos obtenidos"
   ]
  },
  {
   "cell_type": "code",
   "execution_count": null,
   "metadata": {},
   "outputs": [],
   "source": [
    "for item in data['results']:\n",
    "    print(item['name'])"
   ]
  },
  {
   "attachments": {},
   "cell_type": "markdown",
   "metadata": {},
   "source": [
    "En este ejemplo, asumimos que los datos obtenidos están en formato JSON y contienen una lista de resultados. Recorremos la lista e imprimimos el nombre de cada elemento.\n",
    "\n",
    "Este es solo un ejemplo básico de cómo se puede extraer y procesar datos de una API utilizando Python. Dependiendo de la API específica, es posible que necesites proporcionar parámetros adicionales en la solicitud, como claves de autenticación, filtros o paginación.\n",
    "\n",
    "Es importante leer la documentación de la API que deseas utilizar para comprender cómo hacer las solicitudes adecuadas y cómo procesar los datos devueltos.\n",
    "\n",
    "Recuerda que algunas APIs pueden requerir autenticación mediante tokens o claves de API. En esos casos, tendrás que incluir esos datos en la solicitud para acceder a la API.\n",
    "\n",
    "Espero que esta explicación te haya ayudado a comprender cómo realizar la extracción de datos de APIs con Python. ¡No dudes en hacer más preguntas si tienes alguna duda adicional!"
   ]
  },
  {
   "attachments": {},
   "cell_type": "markdown",
   "metadata": {},
   "source": [
    "## **Web Scraping y Pandas**"
   ]
  },
  {
   "attachments": {},
   "cell_type": "markdown",
   "metadata": {},
   "source": [
    "El web scraping es el proceso de extracción de datos de páginas web de forma automatizada. Una vez que los datos se extraen, es común utilizar bibliotecas de Python como Pandas para realizar el procesamiento y análisis de los datos obtenidos.\n",
    "\n",
    "Pandas es una biblioteca de Python ampliamente utilizada para el análisis de datos. Proporciona estructuras de datos y herramientas de manipulación de datos eficientes y flexibles. A continuación, te proporcionaré una explicación detallada de cómo combinar el web scraping con Pandas utilizando ejemplos.\n",
    "\n",
    "* **Paso 1:** Realizar el web scraping\n",
    "\n",
    "Antes de usar Pandas, necesitas extraer los datos de la página web deseada. Esto se puede hacer utilizando bibliotecas como `BeautifulSoup` o `Scrapy`. Estas bibliotecas te permiten analizar la estructura HTML de la página y extraer los datos necesarios. Aquí hay un ejemplo utilizando `BeautifulSoup`:"
   ]
  },
  {
   "cell_type": "code",
   "execution_count": null,
   "metadata": {},
   "outputs": [],
   "source": [
    "import requests\n",
    "from bs4 import BeautifulSoup\n",
    "\n",
    "# Realizar la solicitud HTTP\n",
    "url = 'https://www.example.com'\n",
    "response = requests.get(url)\n",
    "\n",
    "# Analizar el HTML\n",
    "soup = BeautifulSoup(response.text, 'html.parser')\n",
    "\n",
    "# Encontrar los elementos deseados\n",
    "data = []\n",
    "items = soup.find_all('div', class_='item')\n",
    "for item in items:\n",
    "    title = item.find('h2').text\n",
    "    price = item.find('span', class_='price').text\n",
    "    data.append({'Title': title, 'Price': price})"
   ]
  },
  {
   "attachments": {},
   "cell_type": "markdown",
   "metadata": {},
   "source": [
    "En este ejemplo, se realiza una solicitud HTTP a la URL deseada y se analiza el HTML utilizando `BeautifulSoup`. Luego, se encuentran los elementos deseados (en este caso, títulos y precios) y se almacenan en una lista de diccionarios llamada data.\n",
    "\n",
    "* **Paso 2: Crear un DataFrame de Pandas**\n",
    "\n",
    "Una vez que tienes los datos extraídos, puedes crear un `DataFrame` de `Pandas` para facilitar su manipulación y análisis. Un `DataFrame` es una estructura de datos tabular similar a una tabla de una base de datos o una hoja de cálculo de Excel. Aquí está el ejemplo de cómo crear un `DataFrame` utilizando los datos extraídos anteriormente:"
   ]
  },
  {
   "cell_type": "code",
   "execution_count": null,
   "metadata": {},
   "outputs": [],
   "source": [
    "import pandas as pd\n",
    "\n",
    "df = pd.DataFrame(data)\n",
    "print(df)"
   ]
  },
  {
   "attachments": {},
   "cell_type": "markdown",
   "metadata": {},
   "source": [
    "El código anterior crea un DataFrame a partir de la lista de diccionarios data. Luego, se imprime el DataFrame, lo que mostrará los datos en una tabla con columnas '`Title`' y '`Price`'.\n",
    "\n",
    "* **Paso 3:**  Manipular y analizar los datos con Pandas\n",
    "\n",
    "Una vez que tienes el `DataFrame`, puedes utilizar las diversas funciones y métodos de Pandas para manipular y analizar los datos según tus necesidades. Por ejemplo, puedes realizar operaciones de filtrado, ordenamiento, cálculo de estadísticas y visualización de los datos. Aquí hay algunos ejemplos:"
   ]
  },
  {
   "cell_type": "code",
   "execution_count": null,
   "metadata": {},
   "outputs": [],
   "source": [
    "# Filtrar por precio\n",
    "filtered_df = df[df['Price'] > 10]\n",
    "\n",
    "# Ordenar por título\n",
    "sorted_df = df.sort_values('Title')\n",
    "\n",
    "# Calcular estadísticas\n",
    "mean_price = df['Price'].mean()\n",
    "\n",
    "# Visualizar los datos\n",
    "df.plot.bar(x='Title', y='Price')"
   ]
  },
  {
   "attachments": {},
   "cell_type": "markdown",
   "metadata": {},
   "source": [
    "Estos son solo ejemplos básicos de cómo manipular y analizar datos utilizando Pandas. La biblioteca ofrece una amplia gama de funcionalidades que te permiten realizar tareas más complejas y sofisticadas con tus datos extraídos.\n",
    "\n",
    "Es importante destacar que, antes de utilizar Pandas, debes asegurarte de tener los datos extraídos en una estructura adecuada, como una lista de diccionarios o una lista de listas, para poder crear el `DataFrame` correctamente.\n",
    "\n",
    "Espero que esta explicación te haya sido útil para comprender cómo combinar el web scraping con Pandas para el procesamiento y análisis de datos. Recuerda que el web scraping debe realizarse de manera ética y respetando los términos de servicio de los sitios web que estás raspando."
   ]
  },
  {
   "attachments": {},
   "cell_type": "markdown",
   "metadata": {},
   "source": [
    "## **Extracción de datos de iframes (W3SCHOOLS)**"
   ]
  },
  {
   "attachments": {},
   "cell_type": "markdown",
   "metadata": {},
   "source": [
    "La extracción de datos de iframes puede resultar un poco más complicada que extraer datos de elementos HTML regulares, ya que los iframes son ventanas incrustadas dentro de una página web. Sin embargo, con las herramientas adecuadas como `Selenium`, es posible realizar esta tarea. A continuación, te proporcionaré una explicación detallada con ejemplos de cómo extraer datos de iframes en la página web de W3Schools utilizando Python y `Selenium`.\n",
    "\n",
    "* **Paso 1:** Configuración del entorno\n",
    "\n",
    "Para comenzar, debes asegurarte de tener instaladas las siguientes herramientas:\n",
    "\n",
    "1. **Python:** El lenguaje de programación que utilizaremos.\n",
    "2. **Selenium:** Una biblioteca de Python que nos permite automatizar navegadores web.\n",
    "\n",
    "Un controlador de navegador: Dependiendo del navegador que desees utilizar, necesitarás descargar el controlador correspondiente. Para este ejemplo, utilizaremos Chrome y el controlador \"ChromeDriver\".\n",
    "Además, asegúrate de tener el archivo HTML de la página web de W3Schools en tu directorio de trabajo.\n",
    "\n",
    "* **Paso 2:** Importar las bibliotecas necesarias\n",
    "\n",
    "Importa las bibliotecas de `Selenium` y las herramientas necesarias:"
   ]
  },
  {
   "cell_type": "code",
   "execution_count": null,
   "metadata": {},
   "outputs": [],
   "source": [
    "from selenium import webdriver\n",
    "from selenium.webdriver.common.by import By\n",
    "from selenium.webdriver.support.ui import WebDriverWait\n",
    "from selenium.webdriver.support import expected_conditions as EC"
   ]
  },
  {
   "attachments": {},
   "cell_type": "markdown",
   "metadata": {},
   "source": [
    "* **Paso 3:** Configurar y abrir el navegador\n",
    "\n",
    "Configura el controlador del navegador y abre el navegador:"
   ]
  },
  {
   "cell_type": "code",
   "execution_count": null,
   "metadata": {},
   "outputs": [],
   "source": [
    "# Configurar el controlador del navegador\n",
    "driver = webdriver.Chrome('ruta_al_chromedriver')\n",
    "\n",
    "# Abrir el navegador y navegar a la página web\n",
    "driver.get('ruta_al_archivo_html')"
   ]
  },
  {
   "attachments": {},
   "cell_type": "markdown",
   "metadata": {},
   "source": [
    "Asegúrate de reemplazar '`ruta_al_chromedriver`' con la ubicación real del controlador de Chrome y '`ruta_al_archivo_html`' con la ubicación real del archivo HTML de W3Schools.\n",
    "\n",
    "* **Paso 4:** Cambiar al iframe\n",
    "\n",
    "Dado que los iframes son ventanas incrustadas, debemos cambiar al iframe correcto antes de extraer los datos. Para hacerlo, utiliza el método `switch_to.frame()` de Selenium:"
   ]
  },
  {
   "cell_type": "code",
   "execution_count": null,
   "metadata": {},
   "outputs": [],
   "source": [
    "# Cambiar al iframe\n",
    "iframe = WebDriverWait(driver, 10).until(EC.presence_of_element_located((By.ID, 'myframe')))\n",
    "driver.switch_to.frame(iframe)"
   ]
  },
  {
   "attachments": {},
   "cell_type": "markdown",
   "metadata": {},
   "source": [
    "En este ejemplo, el iframe tiene el atributo ID establecido en '`myframe`'. Puedes ajustar esto según el atributo específico que tenga el iframe que deseas seleccionar.\n",
    "\n",
    "* **Paso 5:** Extraer los datos\n",
    "\n",
    "Una vez que estás dentro del iframe, puedes utilizar las herramientas habituales de Selenium para extraer los datos deseados. Por ejemplo, para extraer el título de la página dentro del iframe, puedes utilizar el siguiente código:"
   ]
  },
  {
   "cell_type": "code",
   "execution_count": null,
   "metadata": {},
   "outputs": [],
   "source": [
    "# Extraer el título de la página dentro del iframe\n",
    "title = WebDriverWait(driver, 10).until(EC.presence_of_element_located((By.TAG_NAME, 'h1')))\n",
    "print(title.text)"
   ]
  },
  {
   "attachments": {},
   "cell_type": "markdown",
   "metadata": {},
   "source": [
    "En este ejemplo, estamos buscando un elemento `<h1>` dentro del iframe y extrayendo su texto utilizando el atributo text.\n",
    "\n",
    "* **Paso 6:** Volver al contexto principal\n",
    "\n",
    "Después de extraer los datos del iframe, es posible que desees volver al contexto principal de la página. Puedes hacerlo utilizando el método `switch_to.default_content()` de Selenium:"
   ]
  },
  {
   "cell_type": "code",
   "execution_count": null,
   "metadata": {},
   "outputs": [],
   "source": [
    "# Volver al contexto principal\n",
    "driver.switch_to.default_content()"
   ]
  },
  {
   "attachments": {},
   "cell_type": "markdown",
   "metadata": {},
   "source": [
    "Esto te permitirá interactuar con otros elementos fuera del iframe, si es necesario.\n",
    "\n",
    "* **Paso 7:** Cerrar el navegador\n",
    "\n",
    "Finalmente, no olvides cerrar el navegador cuando hayas terminado de extraer los datos:"
   ]
  },
  {
   "cell_type": "code",
   "execution_count": null,
   "metadata": {},
   "outputs": [],
   "source": [
    "# Cerrar el navegador\n",
    "driver.quit()"
   ]
  },
  {
   "attachments": {},
   "cell_type": "markdown",
   "metadata": {},
   "source": [
    "Con esto, has completado la extracción de datos de un iframe en la página web de W3Schools utilizando Selenium.\n",
    "\n",
    "Recuerda que al utilizar web scraping con Selenium, debes asegurarte de cumplir con los términos de servicio del sitio web y no realizar solicitudes excesivas o abusivas que puedan afectar su rendimiento."
   ]
  },
  {
   "attachments": {},
   "cell_type": "markdown",
   "metadata": {},
   "source": [
    "## **Extracción de Datos de Tag Script (EJEMPLO 1 - GOB.PE)**"
   ]
  },
  {
   "attachments": {},
   "cell_type": "markdown",
   "metadata": {},
   "source": [
    "La extracción de datos de la etiqueta `<script>` puede ser útil cuando los datos se generan dinámicamente mediante JavaScript y se insertan en el código fuente de la página. En este ejemplo, explicaré cómo extraer datos de la etiqueta `<script>` en el sitio web del gobierno de Perú (gob.pe) utilizando Python y la biblioteca `BeautifulSoup`.\n",
    "\n",
    "* **Paso 1:** Configuración del entorno\n",
    "\n",
    "Asegúrate de tener instaladas las siguientes herramientas:\n",
    "\n",
    "1. **Python:** El lenguaje de programación que utilizaremos.\n",
    "2. **BeautifulSoup:** Una biblioteca de Python para analizar y extraer datos de HTML y XML.\n",
    "\n",
    "* **Paso 2:** Importar las bibliotecas necesarias\n",
    "\n",
    "Importa la biblioteca `requests` para realizar la solicitud HTTP al sitio web, y la biblioteca `BeautifulSoup` para analizar el HTML de la página:"
   ]
  },
  {
   "cell_type": "code",
   "execution_count": 3,
   "metadata": {},
   "outputs": [],
   "source": [
    "import requests\n",
    "from bs4 import BeautifulSoup"
   ]
  },
  {
   "attachments": {},
   "cell_type": "markdown",
   "metadata": {},
   "source": [
    "* **Paso 3:** Realizar la solicitud HTTP y analizar el HTML\n",
    "\n",
    "Realiza una solicitud HTTP al sitio web y analiza el HTML de la página utilizando `BeautifulSoup`:"
   ]
  },
  {
   "cell_type": "code",
   "execution_count": 4,
   "metadata": {},
   "outputs": [],
   "source": [
    "# Realizar la solicitud HTTP\n",
    "url = 'https://www.gob.pe/'\n",
    "response = requests.get(url)\n",
    "\n",
    "# Analizar el HTML de la página\n",
    "soup = BeautifulSoup(response.text, 'html.parser')"
   ]
  },
  {
   "attachments": {},
   "cell_type": "markdown",
   "metadata": {},
   "source": [
    "En este ejemplo, estamos realizando una solicitud `GET` al sitio web del gobierno de Perú y obteniendo la respuesta. Luego, pasamos el contenido HTML de la respuesta a `BeautifulSoup` para que lo analice.\n",
    "\n",
    "* **Paso 4:** Encontrar la etiqueta `<script>`\n",
    "\n",
    "Una vez que tenemos el objeto `soup`, podemos buscar la etiqueta `<script>` en el HTML. Utilizaremos el método `find_all()` para encontrar todas las etiquetas `<script>`:"
   ]
  },
  {
   "cell_type": "code",
   "execution_count": 5,
   "metadata": {},
   "outputs": [],
   "source": [
    "# Encontrar la etiqueta <script>\n",
    "script_tags = soup.find_all('script')"
   ]
  },
  {
   "attachments": {},
   "cell_type": "markdown",
   "metadata": {},
   "source": [
    "Esto devolverá una lista de todas las etiquetas `<script>` presentes en el HTML de la página.\n",
    "\n",
    "* **Paso 5:** Extraer los datos de la etiqueta `<script>`\n",
    "\n",
    "Ahora que tenemos las etiquetas `<script>`, podemos extraer los datos que nos interesan. Dependiendo del contenido de la etiqueta `<script>`, deberás analizar su contenido y extraer los datos relevantes. Aquí hay un ejemplo simple para extraer el contenido de una etiqueta `<script>` específica:"
   ]
  },
  {
   "cell_type": "code",
   "execution_count": 6,
   "metadata": {},
   "outputs": [],
   "source": [
    "# Extraer el contenido de la etiqueta <script> específica\n",
    "script_content = script_tags[0].string"
   ]
  },
  {
   "attachments": {},
   "cell_type": "markdown",
   "metadata": {},
   "source": [
    "En este ejemplo, estamos extrayendo el contenido de la primera etiqueta `<script>` en la lista `script_tags` utilizando el atributo `string`. Puedes ajustar esto según la etiqueta `<script>` específica que desees extraer.\n",
    "\n",
    "* **Paso 6:** Procesar los datos extraídos\n",
    "\n",
    "Una vez que hayas extraído el contenido de la etiqueta `<script>`, puedes procesarlo según tus necesidades. Por ejemplo, puedes utilizar expresiones regulares o técnicas de manipulación de cadenas para extraer datos específicos de ese contenido.\n",
    "\n",
    "* **Paso 7:** Cerrar el navegador\n",
    "\n",
    "Recuerda cerrar el navegador utilizando el método `quit()` de Selenium:"
   ]
  },
  {
   "cell_type": "code",
   "execution_count": null,
   "metadata": {},
   "outputs": [],
   "source": [
    "# Cerrar el navegador\n",
    "driver.quit()"
   ]
  },
  {
   "attachments": {},
   "cell_type": "markdown",
   "metadata": {},
   "source": [
    "Con esto, has completado la extracción de datos de la etiqueta `<script>` en el sitio web del gobierno de Perú utilizando `BeautifulSoup`.\n",
    "\n",
    "Recuerda que al utilizar web scraping, debes asegurarte de cumplir con los términos de servicio del sitio web y no realizar solicitudes excesivas o abusivas que puedan afectar su rendimiento."
   ]
  },
  {
   "attachments": {},
   "cell_type": "markdown",
   "metadata": {},
   "source": [
    "## **Extracción de Datos de Tag Script (EJEMPLO 2 - FootDistrict)**"
   ]
  },
  {
   "attachments": {},
   "cell_type": "markdown",
   "metadata": {},
   "source": [
    "Por favor, ten en cuenta que el web scraping de sitios web puede ser una actividad sensible y debe realizarse de manera ética y respetando los términos de servicio del sitio web objetivo. Además, los sitios web pueden tener medidas de seguridad o políticas que prohíben el scraping de sus datos. Asegúrate de obtener el permiso adecuado antes de realizar cualquier extracción de datos.\n",
    "\n",
    "Dicho esto, a continuación te proporcionaré una explicación general sobre cómo extraer datos de la etiqueta `<script>` en un sitio web utilizando Python y `BeautifulSoup`. Sin embargo, ten en cuenta que no puedo acceder a sitios web específicos en tiempo real debido a las limitaciones de mi entorno. Por lo tanto, no puedo proporcionarte un ejemplo detallado del sitio web FootDistrict. Pero te explicaré el enfoque general.\n",
    "\n",
    "* **Paso 1:** Configurar el entorno\n",
    "\n",
    "Asegúrate de tener instaladas las siguientes herramientas:\n",
    "\n",
    "1. **Python:** El lenguaje de programación que utilizaremos.\n",
    "2. **BeautifulSoup:** Una biblioteca de Python para analizar y extraer datos de HTML y XML.\n",
    "\n",
    "* **Paso 2:** Importar las bibliotecas necesarias\n",
    "\n",
    "Importa la biblioteca `requests` para realizar la solicitud HTTP al sitio web, y la biblioteca `BeautifulSoup` para analizar el HTML de la página:"
   ]
  },
  {
   "cell_type": "code",
   "execution_count": 8,
   "metadata": {},
   "outputs": [],
   "source": [
    "import requests\n",
    "from bs4 import BeautifulSoup"
   ]
  },
  {
   "attachments": {},
   "cell_type": "markdown",
   "metadata": {},
   "source": [
    "* **Paso 3:** Realizar la solicitud HTTP y analizar el HTML\n",
    "\n",
    "Realiza una solicitud HTTP al sitio web y analiza el HTML de la página utilizando BeautifulSoup:"
   ]
  },
  {
   "cell_type": "code",
   "execution_count": 9,
   "metadata": {},
   "outputs": [],
   "source": [
    "# Realizar la solicitud HTTP\n",
    "url = 'https://www.footdistrict.com/'\n",
    "response = requests.get(url)\n",
    "\n",
    "# Analizar el HTML de la página\n",
    "soup = BeautifulSoup(response.text, 'html.parser')"
   ]
  },
  {
   "attachments": {},
   "cell_type": "markdown",
   "metadata": {},
   "source": [
    "* **Paso 4:** Encontrar la etiqueta `<script>`\n",
    "\n",
    "Una vez que tenemos el objeto `soup`, podemos buscar la etiqueta `<script>` en el HTML. Utilizaremos el método `find_all()` para encontrar todas las etiquetas `<script>`:"
   ]
  },
  {
   "cell_type": "code",
   "execution_count": 10,
   "metadata": {},
   "outputs": [],
   "source": [
    "# Encontrar la etiqueta <script>\n",
    "script_tags = soup.find_all('script')"
   ]
  },
  {
   "attachments": {},
   "cell_type": "markdown",
   "metadata": {},
   "source": [
    "Esto devolverá una lista de todas las etiquetas `<script>` presentes en el HTML de la página.\n",
    "\n",
    "* **Paso 5:** Extraer los datos de la etiqueta `<script>`\n",
    "\n",
    "Ahora que tenemos las etiquetas `<script>`, podemos extraer los datos que nos interesan. Dependiendo del contenido de la etiqueta `<script>`, deberás analizar su contenido y extraer los datos relevantes. Aquí hay un ejemplo simple para extraer el contenido de una etiqueta `<script>` específica:"
   ]
  },
  {
   "cell_type": "code",
   "execution_count": 11,
   "metadata": {},
   "outputs": [],
   "source": [
    "# Extraer el contenido de la etiqueta <script> específica\n",
    "script_content = script_tags[0].string"
   ]
  },
  {
   "attachments": {},
   "cell_type": "markdown",
   "metadata": {},
   "source": [
    "En este ejemplo, estamos extrayendo el contenido de la primera etiqueta `<script>` en la lista `script_tags` utilizando el atributo string. Puedes ajustar esto según la etiqueta `<script>` específica que desees extraer.\n",
    "\n",
    "* **Paso 6:** Procesar los datos extraídos\n",
    "\n",
    "Una vez que hayas extraído el contenido de la etiqueta `<script>`, puedes procesarlo según tus necesidades. Puedes utilizar expresiones regulares, técnicas de manipulación de cadenas u otras bibliotecas (como json) para extraer datos específicos de ese contenido.\n",
    "\n",
    "Recuerda que al utilizar web scraping, debes asegurarte de cumplir con los términos de servicio del sitio web y no realizar solicitudes excesivas o abusivas que puedan afectar su rendimiento.\n",
    "\n",
    "Espero que esta explicación general te haya sido útil para comprender cómo extraer datos de la etiqueta `<script>` en un sitio web utilizando Python y `BeautifulSoup`. Recuerda adaptar el código y los pasos según el sitio web específico que estés utilizando."
   ]
  },
  {
   "attachments": {},
   "cell_type": "markdown",
   "metadata": {},
   "source": [
    "| **Inicio** | **atrás 5** | **Siguiente 7** |\n",
    "|----------- |-------------- |---------------|\n",
    "| [🏠](../../README.md) | [⏪](./5.Paginas_Dinamicas.ipynb)| [⏩](./7.Autenticaci%C3%B3n_y_Captchas.ipynb)|"
   ]
  }
 ],
 "metadata": {
  "kernelspec": {
   "display_name": "base",
   "language": "python",
   "name": "python3"
  },
  "language_info": {
   "codemirror_mode": {
    "name": "ipython",
    "version": 3
   },
   "file_extension": ".py",
   "mimetype": "text/x-python",
   "name": "python",
   "nbconvert_exporter": "python",
   "pygments_lexer": "ipython3",
   "version": "3.9.12"
  },
  "orig_nbformat": 4
 },
 "nbformat": 4,
 "nbformat_minor": 2
}
