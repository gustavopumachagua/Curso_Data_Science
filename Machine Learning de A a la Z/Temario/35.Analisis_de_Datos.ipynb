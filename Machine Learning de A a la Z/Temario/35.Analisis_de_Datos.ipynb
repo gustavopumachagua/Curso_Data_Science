{
 "cells": [
  {
   "attachments": {},
   "cell_type": "markdown",
   "metadata": {},
   "source": [
    "| **Inicio** | **atrás 34** | **Siguiente 36** |\n",
    "|----------- |-------------- |---------------|\n",
    "| [🏠](../../README.md) | [⏪](./34.Modelos_de_Regresion.ipynb)| [⏩](./36.Visualizar_Datos.ipynb)|"
   ]
  },
  {
   "attachments": {},
   "cell_type": "markdown",
   "metadata": {},
   "source": [
    "# **35. Mejora tu Análisis de Datos con Medidas de Centralidad para Datos Categóricos**"
   ]
  },
  {
   "attachments": {},
   "cell_type": "markdown",
   "metadata": {},
   "source": [
    "## **Introducción**"
   ]
  },
  {
   "attachments": {},
   "cell_type": "markdown",
   "metadata": {},
   "source": [
    "El análisis de datos con medidas de centralidad para datos categóricos implica calcular medidas como la moda y la frecuencia relativa para describir la distribución de un conjunto de datos categóricos. Aquí hay algunos ejemplos con códigos y gráficos en Python:\n",
    "\n",
    "* Ejemplo 1: Moda\n",
    "\n",
    "Supongamos que tenemos una lista de frutas:"
   ]
  },
  {
   "cell_type": "code",
   "execution_count": 1,
   "metadata": {},
   "outputs": [],
   "source": [
    "frutas = ['manzana', 'naranja', 'plátano', 'manzana', 'manzana', 'naranja', 'uva', 'naranja']\n"
   ]
  },
  {
   "attachments": {},
   "cell_type": "markdown",
   "metadata": {},
   "source": [
    "Para encontrar la moda, podemos usar la función ```mode()``` del paquete ```statistics```:"
   ]
  },
  {
   "cell_type": "code",
   "execution_count": 2,
   "metadata": {},
   "outputs": [
    {
     "name": "stdout",
     "output_type": "stream",
     "text": [
      "manzana\n"
     ]
    }
   ],
   "source": [
    "import statistics\n",
    "moda = statistics.mode(frutas)\n",
    "print(moda)\n"
   ]
  },
  {
   "attachments": {},
   "cell_type": "markdown",
   "metadata": {},
   "source": [
    "La moda es \"manzana\", que es la fruta más común en la lista.\n",
    "\n",
    "* Ejemplo 2: Frecuencia Relativa\n",
    "\n",
    "Supongamos que tenemos una lista de géneros de películas:"
   ]
  },
  {
   "cell_type": "code",
   "execution_count": 3,
   "metadata": {},
   "outputs": [],
   "source": [
    "generos = ['acción', 'drama', 'comedia', 'comedia', 'terror', 'drama', 'drama', 'comedia', 'acción', 'terror']\n"
   ]
  },
  {
   "attachments": {},
   "cell_type": "markdown",
   "metadata": {},
   "source": [
    "Para encontrar la frecuencia relativa de cada género, podemos usar el paquete ```collections``` para contar las ocurrencias de cada género y luego dividir por el número total de elementos:"
   ]
  },
  {
   "cell_type": "code",
   "execution_count": 4,
   "metadata": {},
   "outputs": [
    {
     "name": "stdout",
     "output_type": "stream",
     "text": [
      "{'acción': 0.2, 'drama': 0.3, 'comedia': 0.3, 'terror': 0.2}\n"
     ]
    }
   ],
   "source": [
    "from collections import Counter\n",
    "frecuencias = Counter(generos)\n",
    "total = sum(frecuencias.values())\n",
    "frec_relativa = {k: v / total for k, v in frecuencias.items()}\n",
    "print(frec_relativa)\n"
   ]
  },
  {
   "attachments": {},
   "cell_type": "markdown",
   "metadata": {},
   "source": [
    "La frecuencia relativa de \"acción\" es 0.2, lo que significa que el 20% de las películas en la lista son de acción. De manera similar, la frecuencia relativa de \"drama\" es 0.3, lo que significa que el 30% de las películas en la lista son de drama.\n",
    "\n",
    "Para visualizar estas frecuencias relativas, podemos usar un gráfico de barras:"
   ]
  },
  {
   "cell_type": "code",
   "execution_count": 5,
   "metadata": {},
   "outputs": [
    {
     "data": {
      "image/png": "[encoded data removed]",
      "text/plain": [
       "<Figure size 432x288 with 1 Axes>"
      ]
     },
     "metadata": {
      "needs_background": "light"
     },
     "output_type": "display_data"
    }
   ],
   "source": [
    "import matplotlib.pyplot as plt\n",
    "plt.bar(frec_relativa.keys(), frec_relativa.values())\n",
    "plt.title('Frecuencia Relativa de Géneros de Películas')\n",
    "plt.xlabel('Género')\n",
    "plt.ylabel('Frecuencia Relativa')\n",
    "plt.show()\n"
   ]
  },
  {
   "attachments": {},
   "cell_type": "markdown",
   "metadata": {},
   "source": [
    "En este gráfico, podemos ver que los géneros \"drama\" y \"comedia\" son los más comunes en la lista, cada uno con una frecuencia relativa del 30%."
   ]
  },
  {
   "attachments": {},
   "cell_type": "markdown",
   "metadata": {},
   "source": [
    "## **Categóricos Nominales y Ordinales**"
   ]
  },
  {
   "attachments": {},
   "cell_type": "markdown",
   "metadata": {},
   "source": [
    "Los datos categóricos se dividen en dos tipos: nominales y ordinales.\n",
    "\n",
    "Los datos categóricos nominales son aquellos en los que no hay un orden específico entre las categorías, como el color de los ojos o la marca de un automóvil. Por otro lado, los datos categóricos ordinales son aquellos en los que hay un orden específico entre las categorías, como las calificaciones escolares o las tallas de ropa.\n",
    "\n",
    "Aquí hay un ejemplo de cada tipo de datos categóricos en Python:\n",
    "\n",
    "* Ejemplo 1: Datos Categóricos Nominales\n",
    "\n",
    "Supongamos que tenemos una lista de colores de ojos de un grupo de personas:"
   ]
  },
  {
   "cell_type": "code",
   "execution_count": 6,
   "metadata": {},
   "outputs": [],
   "source": [
    "colores_ojos = ['marrón', 'azul', 'verde', 'verde', 'marrón', 'azul', 'marrón', 'marrón']\n"
   ]
  },
  {
   "attachments": {},
   "cell_type": "markdown",
   "metadata": {},
   "source": [
    "Para visualizar estos datos categóricos nominales, podemos usar un gráfico de barras:"
   ]
  },
  {
   "cell_type": "code",
   "execution_count": 7,
   "metadata": {},
   "outputs": [
    {
     "data": {
      "image/png": "[encoded data removed]",
      "text/plain": [
       "<Figure size 432x288 with 1 Axes>"
      ]
     },
     "metadata": {
      "needs_background": "light"
     },
     "output_type": "display_data"
    }
   ],
   "source": [
    "from collections import Counter\n",
    "import matplotlib.pyplot as plt\n",
    "\n",
    "frecuencias = Counter(colores_ojos)\n",
    "plt.bar(frecuencias.keys(), frecuencias.values())\n",
    "plt.title('Frecuencia de Colores de Ojos')\n",
    "plt.xlabel('Color de Ojos')\n",
    "plt.ylabel('Frecuencia')\n",
    "plt.show()\n"
   ]
  },
  {
   "attachments": {},
   "cell_type": "markdown",
   "metadata": {},
   "source": [
    "En este gráfico, podemos ver la frecuencia de cada color de ojos en la lista de personas. No hay un orden específico entre los colores de ojos, por lo que estos datos categóricos son nominales.\n",
    "\n",
    "* Ejemplo 2: Datos Categóricos Ordinales\n",
    "\n",
    "Supongamos que tenemos una lista de calificaciones escolares de un estudiante:"
   ]
  },
  {
   "cell_type": "code",
   "execution_count": 8,
   "metadata": {},
   "outputs": [],
   "source": [
    "calificaciones = ['A', 'B', 'C', 'B', 'A', 'C', 'B', 'B', 'A', 'B']\n"
   ]
  },
  {
   "attachments": {},
   "cell_type": "markdown",
   "metadata": {},
   "source": [
    "Para visualizar estos datos categóricos ordinales, podemos usar un gráfico de barras:"
   ]
  },
  {
   "cell_type": "code",
   "execution_count": 9,
   "metadata": {},
   "outputs": [
    {
     "data": {
      "image/png": "[encoded data removed]",
      "text/plain": [
       "<Figure size 432x288 with 1 Axes>"
      ]
     },
     "metadata": {
      "needs_background": "light"
     },
     "output_type": "display_data"
    }
   ],
   "source": [
    "from collections import Counter\n",
    "import matplotlib.pyplot as plt\n",
    "\n",
    "frecuencias = Counter(calificaciones)\n",
    "orden_calificaciones = ['A', 'B', 'C']\n",
    "frecuencias_ordenadas = [frecuencias[c] for c in orden_calificaciones]\n",
    "\n",
    "plt.bar(orden_calificaciones, frecuencias_ordenadas)\n",
    "plt.title('Frecuencia de Calificaciones')\n",
    "plt.xlabel('Calificación')\n",
    "plt.ylabel('Frecuencia')\n",
    "plt.show()\n"
   ]
  },
  {
   "attachments": {},
   "cell_type": "markdown",
   "metadata": {},
   "source": [
    "En este gráfico, podemos ver la frecuencia de cada calificación en la lista del estudiante. Hay un orden específico entre las calificaciones, por lo que estos datos categóricos son ordinales. En este caso, la calificación más común es \"B\", seguida de \"A\" y luego \"C\"."
   ]
  },
  {
   "attachments": {},
   "cell_type": "markdown",
   "metadata": {},
   "source": [
    "## **Medidas para Nominales**"
   ]
  },
  {
   "attachments": {},
   "cell_type": "markdown",
   "metadata": {},
   "source": [
    "Las medidas para datos nominales son utilizadas para resumir y describir datos categóricos nominales. Una de las medidas más comunes es la frecuencia, que es simplemente el número de veces que aparece cada categoría en los datos.\n",
    "\n",
    "Aquí hay un ejemplo de cómo calcular y visualizar la frecuencia de los datos categóricos nominales en Python:"
   ]
  },
  {
   "cell_type": "code",
   "execution_count": 10,
   "metadata": {},
   "outputs": [
    {
     "data": {
      "image/png": "[encoded data removed]",
      "text/plain": [
       "<Figure size 432x288 with 1 Axes>"
      ]
     },
     "metadata": {
      "needs_background": "light"
     },
     "output_type": "display_data"
    }
   ],
   "source": [
    "from collections import Counter\n",
    "import matplotlib.pyplot as plt\n",
    "\n",
    "# Datos de ejemplo\n",
    "colores_ojos = ['marrón', 'azul', 'verde', 'verde', 'marrón', 'azul', 'marrón', 'marrón']\n",
    "\n",
    "# Calcular la frecuencia de cada categoría\n",
    "frecuencias = Counter(colores_ojos)\n",
    "\n",
    "# Visualizar los resultados en un gráfico de barras\n",
    "plt.bar(frecuencias.keys(), frecuencias.values())\n",
    "plt.title('Frecuencia de Colores de Ojos')\n",
    "plt.xlabel('Color de Ojos')\n",
    "plt.ylabel('Frecuencia')\n",
    "plt.show()\n"
   ]
  },
  {
   "attachments": {},
   "cell_type": "markdown",
   "metadata": {},
   "source": [
    "En este ejemplo, primero importamos la función ```Counter``` de la biblioteca collections de Python para calcular la frecuencia de cada categoría en los datos. Luego, usamos ```plt.bar()``` de la biblioteca matplotlib para crear un gráfico de barras que muestra la frecuencia de cada categoría."
   ]
  },
  {
   "attachments": {},
   "cell_type": "markdown",
   "metadata": {},
   "source": [
    "## **Medidas para Ordinales**"
   ]
  },
  {
   "attachments": {},
   "cell_type": "markdown",
   "metadata": {},
   "source": [
    "Las medidas para datos ordinales son utilizadas para resumir y describir datos categóricos ordinales. Una de las medidas más comunes es la mediana, que es el valor que divide la distribución en dos partes iguales: la mitad de las observaciones son mayores o iguales a la mediana, y la otra mitad son menores o iguales.\n",
    "\n",
    "Aquí hay un ejemplo de cómo calcular y visualizar la mediana de los datos categóricos ordinales en Python:"
   ]
  },
  {
   "cell_type": "code",
   "execution_count": 12,
   "metadata": {},
   "outputs": [
    {
     "data": {
      "image/png": "[encoded data removed]",
      "text/plain": [
       "<Figure size 432x288 with 1 Axes>"
      ]
     },
     "metadata": {
      "needs_background": "light"
     },
     "output_type": "display_data"
    }
   ],
   "source": [
    "from statistics import median\n",
    "from collections import Counter\n",
    "import matplotlib.pyplot as plt\n",
    "\n",
    "# Datos de ejemplo\n",
    "calificaciones = ['A', 'B', 'C', 'B', 'A', 'C', 'B', 'B', 'A', 'B']\n",
    "\n",
    "# Calcular la mediana\n",
    "mediana = median([ord(c) for c in calificaciones])  # convertir las calificaciones a códigos ASCII para calcular la mediana\n",
    "\n",
    "# Visualizar los resultados en un gráfico de barras\n",
    "frecuencias = Counter(calificaciones)\n",
    "orden_calificaciones = ['A', 'B', 'C']\n",
    "frecuencias_ordenadas = [frecuencias[c] for c in orden_calificaciones]\n",
    "\n",
    "plt.bar(orden_calificaciones, frecuencias_ordenadas)\n",
    "plt.axhline(y=frecuencias[chr(round(mediana))], color='r', linestyle='--', label='Mediana')\n",
    "plt.title('Frecuencia de Calificaciones')\n",
    "plt.xlabel('Calificación')\n",
    "plt.ylabel('Frecuencia')\n",
    "plt.legend()\n",
    "plt.show()\n"
   ]
  },
  {
   "attachments": {},
   "cell_type": "markdown",
   "metadata": {},
   "source": [
    "En este ejemplo, primero importamos la función ```median``` de la biblioteca ```statistics``` de Python para calcular la mediana de las calificaciones. Sin embargo, dado que las calificaciones son datos categóricos, necesitamos convertirlos a códigos ASCII antes de calcular la mediana. Luego, usamos ```plt.bar()``` de la biblioteca matplotlib para crear un gráfico de barras que muestra la frecuencia de cada calificación y agregamos una línea punteada roja en la mediana calculada. "
   ]
  },
  {
   "attachments": {},
   "cell_type": "markdown",
   "metadata": {},
   "source": [
    "En este gráfico, podemos ver que la mediana es la letra \"B\", que es la calificación más común en los datos de ejemplo. La frecuencia de cada calificación se muestra en el eje y, y la línea punteada roja indica la mediana."
   ]
  },
  {
   "attachments": {},
   "cell_type": "markdown",
   "metadata": {},
   "source": [
    "## **Centralidad en Categóricos con Python**"
   ]
  },
  {
   "attachments": {},
   "cell_type": "markdown",
   "metadata": {},
   "source": [
    "En el análisis de datos categóricos, una forma de medir la centralidad es mediante el cálculo de la moda. La moda es el valor más común en un conjunto de datos y puede ser calculada usando la función ```mode()``` del módulo ```statistics```.\n",
    "\n",
    "Aquí hay un ejemplo de cómo calcular y visualizar la moda de un conjunto de datos categóricos:"
   ]
  },
  {
   "cell_type": "code",
   "execution_count": 13,
   "metadata": {},
   "outputs": [
    {
     "data": {
      "image/png": "[encoded data removed]",
      "text/plain": [
       "<Figure size 432x288 with 1 Axes>"
      ]
     },
     "metadata": {
      "needs_background": "light"
     },
     "output_type": "display_data"
    }
   ],
   "source": [
    "from statistics import mode\n",
    "import matplotlib.pyplot as plt\n",
    "\n",
    "# Datos de ejemplo\n",
    "nombres = ['Ana', 'Juan', 'Luis', 'Ana', 'Carlos', 'Luis', 'Ana', 'Pedro', 'Juan']\n",
    "\n",
    "# Calcular la moda\n",
    "moda = mode(nombres)\n",
    "\n",
    "# Visualizar los resultados en un gráfico de barras\n",
    "frecuencias = {nombre: nombres.count(nombre) for nombre in set(nombres)}\n",
    "nombres_ordenados = sorted(frecuencias.keys())\n",
    "frecuencias_ordenadas = [frecuencias[nombre] for nombre in nombres_ordenados]\n",
    "\n",
    "plt.bar(nombres_ordenados, frecuencias_ordenadas)\n",
    "plt.axhline(y=frecuencias[moda], color='r', linestyle='--', label='Moda')\n",
    "plt.title('Frecuencia de Nombres')\n",
    "plt.xlabel('Nombre')\n",
    "plt.ylabel('Frecuencia')\n",
    "plt.legend()\n",
    "plt.show()\n"
   ]
  },
  {
   "attachments": {},
   "cell_type": "markdown",
   "metadata": {},
   "source": [
    "En este ejemplo, tenemos una lista de nombres y queremos calcular la moda y visualizar la frecuencia de cada nombre en un gráfico de barras. Primero, usamos la función ```mode()``` para calcular la moda de la lista de nombres. Luego, usamos un diccionario de Python para contar la frecuencia de cada nombre en la lista. Finalmente, ordenamos los nombres alfabéticamente y trazamos un gráfico de barras con la frecuencia de cada nombre. También agregamos una línea punteada roja en la altura de la moda usando la función ```axhline()``` para visualizar la centralidad. El resultado es un gráfico de barras con una línea punteada roja que representa la moda de la lista de nombres."
   ]
  },
  {
   "attachments": {},
   "cell_type": "markdown",
   "metadata": {},
   "source": [
    "| **Inicio** | **atrás 34** | **Siguiente 36** |\n",
    "|----------- |-------------- |---------------|\n",
    "| [🏠](../../README.md) | [⏪](./34.Modelos_de_Regresion.ipynb)| [⏩](./36.Visualizar_Datos.ipynb)|"
   ]
  }
 ],
 "metadata": {
  "kernelspec": {
   "display_name": "base",
   "language": "python",
   "name": "python3"
  },
  "language_info": {
   "codemirror_mode": {
    "name": "ipython",
    "version": 3
   },
   "file_extension": ".py",
   "mimetype": "text/x-python",
   "name": "python",
   "nbconvert_exporter": "python",
   "pygments_lexer": "ipython3",
   "version": "3.9.12"
  },
  "orig_nbformat": 4
 },
 "nbformat": 4,
 "nbformat_minor": 2
}
