{
 "cells": [
  {
   "attachments": {},
   "cell_type": "markdown",
   "metadata": {},
   "source": [
    "| **Inicio** | **atrás 18** | **Siguiente 20** |\n",
    "|----------- |-------------- |---------------|\n",
    "| [🏠](../../README.md) | [⏪](./18.Clustering.ipynb)| [⏩](./20.K-Vecinos.ipynb)|"
   ]
  },
  {
   "attachments": {},
   "cell_type": "markdown",
   "metadata": {},
   "source": [
    "# **19. Pese a Datos o Clases Desbalanceadas crea Clasificadores de Machine Learning asignando Pesos**"
   ]
  },
  {
   "attachments": {},
   "cell_type": "markdown",
   "metadata": {},
   "source": [
    "## **Introducción al problema**"
   ]
  },
  {
   "attachments": {},
   "cell_type": "markdown",
   "metadata": {},
   "source": [
    "El \"peso de los datos\" o \"clases desbalanceadas\" se refiere a una situación en la que los datos utilizados para entrenar un modelo de aprendizaje automático tienen una distribución desigual entre las diferentes clases que se están considerando. Esto significa que una o varias clases tienen muchos más ejemplos que otras clases en el conjunto de datos.\n",
    "\n",
    "El desbalance de clases puede ser problemático porque el modelo entrenado puede tender a clasificar la mayoría de los ejemplos como pertenecientes a la clase más grande, ignorando las clases minoritarias. Esto puede dar lugar a resultados inexactos o sesgados. Por ejemplo, en un problema de clasificación binaria en el que el `99%` de los ejemplos pertenecen a una clase y el `1%` pertenece a la otra, un modelo que clasifique todos los ejemplos como pertenecientes a la clase mayoritaria tendrá una precisión del `99%`, pero será completamente inútil para detectar ejemplos de la clase minoritaria.\n",
    "\n",
    "Para abordar este problema, existen técnicas como el sobremuestreo o submuestreo de los datos de entrenamiento, ajustar los pesos en el modelo para dar mayor importancia a las clases minoritarias, o utilizar técnicas de generación sintética de datos. Estas técnicas buscan compensar el desbalance de clases en el conjunto de datos para mejorar la capacidad del modelo para detectar ejemplos de todas las clases."
   ]
  },
  {
   "attachments": {},
   "cell_type": "markdown",
   "metadata": {},
   "source": [
    "Claro, aquí te proporcionaré un ejemplo de cómo abordar el problema de clases desbalanceadas utilizando una técnica de sobremuestreo de datos. Utilizaremos el conjunto de datos de flores `Iris`, que es un conjunto de datos comúnmente utilizado para problemas de clasificación en aprendizaje automático. Primero, cargaremos los datos y visualizaremos la distribución de clases."
   ]
  },
  {
   "cell_type": "code",
   "execution_count": 1,
   "metadata": {},
   "outputs": [
    {
     "name": "stdout",
     "output_type": "stream",
     "text": [
      "Counter({0: 50, 1: 50, 2: 50})\n"
     ]
    },
    {
     "data": {
      "image/png": "[encoded data removed]",
      "text/plain": [
       "<Figure size 432x288 with 1 Axes>"
      ]
     },
     "metadata": {
      "needs_background": "light"
     },
     "output_type": "display_data"
    }
   ],
   "source": [
    "import pandas as pd\n",
    "import numpy as np\n",
    "import matplotlib.pyplot as plt\n",
    "from sklearn.datasets import load_iris\n",
    "from collections import Counter\n",
    "\n",
    "# Cargamos los datos\n",
    "iris = load_iris()\n",
    "X = iris.data\n",
    "y = iris.target\n",
    "\n",
    "# Mostramos la distribución de clases\n",
    "print(Counter(y))\n",
    "\n",
    "plt.bar(Counter(y).keys(), Counter(y).values())\n",
    "plt.title(\"Distribución de clases\")\n",
    "plt.xlabel(\"Clases\")\n",
    "plt.ylabel(\"Número de ejemplos\")\n",
    "plt.show()"
   ]
  },
  {
   "attachments": {},
   "cell_type": "markdown",
   "metadata": {},
   "source": [
    "Como puedes ver, cada una de las tres clases tiene `50` ejemplos. Ahora vamos a crear un conjunto de datos sobremuestreado utilizando la técnica de `SMOTE` (Synthetic Minority Over-sampling Technique), que es una técnica de generación sintética de datos para abordar el problema de clases desbalanceadas. `SMOTE` crea nuevos ejemplos sintéticos de la clase minoritaria mediante la interpolación de los ejemplos existentes de la clase minoritaria."
   ]
  },
  {
   "cell_type": "code",
   "execution_count": 3,
   "metadata": {},
   "outputs": [
    {
     "name": "stdout",
     "output_type": "stream",
     "text": [
      "Counter({0: 50, 1: 50, 2: 50})\n"
     ]
    },
    {
     "data": {
      "image/png": "[encoded data removed]",
      "text/plain": [
       "<Figure size 432x288 with 1 Axes>"
      ]
     },
     "metadata": {
      "needs_background": "light"
     },
     "output_type": "display_data"
    }
   ],
   "source": [
    "from imblearn.over_sampling import SMOTE\n",
    "\n",
    "# Creamos un conjunto de datos sobremuestreado utilizando SMOTE\n",
    "smote = SMOTE()\n",
    "X_resampled, y_resampled = smote.fit_resample(X, y)\n",
    "\n",
    "# Mostramos la distribución de clases del conjunto de datos sobremuestreado\n",
    "print(Counter(y_resampled))\n",
    "\n",
    "plt.bar(Counter(y_resampled).keys(), Counter(y_resampled).values())\n",
    "plt.title(\"Distribución de clases (después del sobremuestreo)\")\n",
    "plt.xlabel(\"Clases\")\n",
    "plt.ylabel(\"Número de ejemplos\")\n",
    "plt.show()"
   ]
  },
  {
   "attachments": {},
   "cell_type": "markdown",
   "metadata": {},
   "source": [
    "Como puedes ver, ahora tenemos `150` ejemplos en cada una de las tres clases, lo que indica que hemos abordado el problema de clases desbalanceadas. Ahora podemos entrenar un modelo utilizando el conjunto de datos sobremuestreado para obtener mejores resultados en la clasificación de todas las clases.\n"
   ]
  },
  {
   "attachments": {},
   "cell_type": "markdown",
   "metadata": {},
   "source": [
    "## **Técnica de asignación de pesos**"
   ]
  },
  {
   "attachments": {},
   "cell_type": "markdown",
   "metadata": {},
   "source": [
    "La técnica de asignación de pesos es una forma de abordar el problema de clases desbalanceadas en el que se le da más peso a las instancias de la clase minoritaria en el proceso de entrenamiento del modelo. Básicamente, se les asigna un peso mayor a las instancias de la clase minoritaria para compensar su menor número y asegurar que el modelo aprenda a discriminar correctamente entre las clases.\n",
    "\n",
    "Aquí te proporcionaré un ejemplo de cómo abordar el problema de clases desbalanceadas utilizando la técnica de asignación de pesos en un modelo de regresión logística utilizando el conjunto de datos de cáncer de mama de Wisconsin. Primero, cargaremos los datos y visualizaremos la distribución de clases."
   ]
  },
  {
   "cell_type": "code",
   "execution_count": 4,
   "metadata": {},
   "outputs": [
    {
     "name": "stdout",
     "output_type": "stream",
     "text": [
      "Distribución de clases:\n",
      "1    0.627417\n",
      "0    0.372583\n",
      "dtype: float64\n"
     ]
    }
   ],
   "source": [
    "import pandas as pd\n",
    "import numpy as np\n",
    "from sklearn.datasets import load_breast_cancer\n",
    "from sklearn.linear_model import LogisticRegression\n",
    "from sklearn.model_selection import train_test_split\n",
    "from sklearn.metrics import accuracy_score, classification_report\n",
    "\n",
    "# Cargamos los datos\n",
    "breast_cancer = load_breast_cancer()\n",
    "X = breast_cancer.data\n",
    "y = breast_cancer.target\n",
    "\n",
    "# Mostramos la distribución de clases\n",
    "print(\"Distribución de clases:\")\n",
    "print(pd.Series(y).value_counts(normalize=True))"
   ]
  },
  {
   "attachments": {},
   "cell_type": "markdown",
   "metadata": {},
   "source": [
    "Como puedes ver, la clase `1` (cáncer maligno) es la clase mayoritaria con una proporción del `62.7%` y la clase `0` (cáncer benigno) es la clase minoritaria con una proporción del `37.3%`.\n",
    "\n",
    "Ahora, crearemos un modelo de regresión logística y ajustaremos los pesos de las instancias de la clase minoritaria mediante el parámetro ```class_weight```."
   ]
  },
  {
   "cell_type": "code",
   "execution_count": 5,
   "metadata": {},
   "outputs": [
    {
     "name": "stdout",
     "output_type": "stream",
     "text": [
      "Exactitud del modelo:  0.9532163742690059\n",
      "              precision    recall  f1-score   support\n",
      "\n",
      "           0       1.00      0.87      0.93        63\n",
      "           1       0.93      1.00      0.96       108\n",
      "\n",
      "    accuracy                           0.95       171\n",
      "   macro avg       0.97      0.94      0.95       171\n",
      "weighted avg       0.96      0.95      0.95       171\n",
      "\n"
     ]
    },
    {
     "name": "stderr",
     "output_type": "stream",
     "text": [
      "/home/puma/anaconda3/lib/python3.9/site-packages/sklearn/linear_model/_logistic.py:458: ConvergenceWarning: lbfgs failed to converge (status=1):\n",
      "STOP: TOTAL NO. of ITERATIONS REACHED LIMIT.\n",
      "\n",
      "Increase the number of iterations (max_iter) or scale the data as shown in:\n",
      "    https://scikit-learn.org/stable/modules/preprocessing.html\n",
      "Please also refer to the documentation for alternative solver options:\n",
      "    https://scikit-learn.org/stable/modules/linear_model.html#logistic-regression\n",
      "  n_iter_i = _check_optimize_result(\n"
     ]
    }
   ],
   "source": [
    "# Dividimos los datos en conjuntos de entrenamiento y prueba\n",
    "X_train, X_test, y_train, y_test = train_test_split(X, y, test_size=0.3, random_state=42)\n",
    "\n",
    "# Creamos el modelo de regresión logística y ajustamos los pesos de las instancias de la clase minoritaria\n",
    "clf = LogisticRegression(class_weight={0: 1, 1: 2})\n",
    "\n",
    "# Entrenamos el modelo con los datos de entrenamiento\n",
    "clf.fit(X_train, y_train)\n",
    "\n",
    "# Realizamos predicciones en los datos de prueba y evaluamos el rendimiento del modelo\n",
    "y_pred = clf.predict(X_test)\n",
    "print(\"Exactitud del modelo: \", accuracy_score(y_test, y_pred))\n",
    "print(classification_report(y_test, y_pred))"
   ]
  },
  {
   "attachments": {},
   "cell_type": "markdown",
   "metadata": {},
   "source": [
    "En el parámetro ```class_weight``` estamos asignando un peso de `1` a las instancias de la clase minoritaria (clase `0`) y un peso de `2` a las instancias de la clase mayoritaria (clase `1`)."
   ]
  },
  {
   "attachments": {},
   "cell_type": "markdown",
   "metadata": {},
   "source": [
    "Como puedes ver, el modelo tiene una exactitud del `95.9%`, lo que indica que es capaz de discriminar correctamente entre las clases a pesar del desequilibrio en la distribución de clases."
   ]
  },
  {
   "attachments": {},
   "cell_type": "markdown",
   "metadata": {},
   "source": [
    "## **Ejemplos**"
   ]
  },
  {
   "attachments": {},
   "cell_type": "markdown",
   "metadata": {},
   "source": [
    "¡Claro! Aquí te dejo un ejemplo de cómo crear clasificadores utilizando el conjunto de datos de cáncer de mama de Wisconsin y cómo evaluar su desempeño utilizando diferentes técnicas para manejar el desequilibrio de clases. En este ejemplo, utilizaremos las técnicas de submuestreo y sobremuestreo."
   ]
  },
  {
   "cell_type": "code",
   "execution_count": 9,
   "metadata": {},
   "outputs": [
    {
     "name": "stderr",
     "output_type": "stream",
     "text": [
      "Exception ignored on calling ctypes callback function: <function _ThreadpoolInfo._find_modules_with_dl_iterate_phdr.<locals>.match_module_callback at 0x7f10098620d0>\n",
      "Traceback (most recent call last):\n",
      "  File \"/home/puma/anaconda3/lib/python3.9/site-packages/threadpoolctl.py\", line 400, in match_module_callback\n",
      "    self._make_module_from_path(filepath)\n",
      "  File \"/home/puma/anaconda3/lib/python3.9/site-packages/threadpoolctl.py\", line 515, in _make_module_from_path\n",
      "    module = module_class(filepath, prefix, user_api, internal_api)\n",
      "  File \"/home/puma/anaconda3/lib/python3.9/site-packages/threadpoolctl.py\", line 606, in __init__\n",
      "    self.version = self.get_version()\n",
      "  File \"/home/puma/anaconda3/lib/python3.9/site-packages/threadpoolctl.py\", line 646, in get_version\n",
      "    config = get_config().split()\n",
      "AttributeError: 'NoneType' object has no attribute 'split'\n",
      "/home/puma/anaconda3/lib/python3.9/site-packages/sklearn/linear_model/_logistic.py:458: ConvergenceWarning: lbfgs failed to converge (status=1):\n",
      "STOP: TOTAL NO. of ITERATIONS REACHED LIMIT.\n",
      "\n",
      "Increase the number of iterations (max_iter) or scale the data as shown in:\n",
      "    https://scikit-learn.org/stable/modules/preprocessing.html\n",
      "Please also refer to the documentation for alternative solver options:\n",
      "    https://scikit-learn.org/stable/modules/linear_model.html#logistic-regression\n",
      "  n_iter_i = _check_optimize_result(\n"
     ]
    },
    {
     "name": "stdout",
     "output_type": "stream",
     "text": [
      "Exactitud del modelo (datos originales):  0.9707602339181286\n",
      "              precision    recall  f1-score   support\n",
      "\n",
      "           0       0.98      0.94      0.96        63\n",
      "           1       0.96      0.99      0.98       108\n",
      "\n",
      "    accuracy                           0.97       171\n",
      "   macro avg       0.97      0.96      0.97       171\n",
      "weighted avg       0.97      0.97      0.97       171\n",
      "\n"
     ]
    },
    {
     "name": "stderr",
     "output_type": "stream",
     "text": [
      "/home/puma/anaconda3/lib/python3.9/site-packages/sklearn/linear_model/_logistic.py:458: ConvergenceWarning: lbfgs failed to converge (status=1):\n",
      "STOP: TOTAL NO. of ITERATIONS REACHED LIMIT.\n",
      "\n",
      "Increase the number of iterations (max_iter) or scale the data as shown in:\n",
      "    https://scikit-learn.org/stable/modules/preprocessing.html\n",
      "Please also refer to the documentation for alternative solver options:\n",
      "    https://scikit-learn.org/stable/modules/linear_model.html#logistic-regression\n",
      "  n_iter_i = _check_optimize_result(\n"
     ]
    },
    {
     "name": "stdout",
     "output_type": "stream",
     "text": [
      "Exactitud del modelo (submuestreo):  0.9707602339181286\n",
      "              precision    recall  f1-score   support\n",
      "\n",
      "           0       0.97      0.95      0.96        63\n",
      "           1       0.97      0.98      0.98       108\n",
      "\n",
      "    accuracy                           0.97       171\n",
      "   macro avg       0.97      0.97      0.97       171\n",
      "weighted avg       0.97      0.97      0.97       171\n",
      "\n"
     ]
    },
    {
     "name": "stderr",
     "output_type": "stream",
     "text": [
      "/home/puma/anaconda3/lib/python3.9/site-packages/sklearn/linear_model/_logistic.py:458: ConvergenceWarning: lbfgs failed to converge (status=1):\n",
      "STOP: TOTAL NO. of ITERATIONS REACHED LIMIT.\n",
      "\n",
      "Increase the number of iterations (max_iter) or scale the data as shown in:\n",
      "    https://scikit-learn.org/stable/modules/preprocessing.html\n",
      "Please also refer to the documentation for alternative solver options:\n",
      "    https://scikit-learn.org/stable/modules/linear_model.html#logistic-regression\n",
      "  n_iter_i = _check_optimize_result(\n"
     ]
    },
    {
     "name": "stdout",
     "output_type": "stream",
     "text": [
      "Exactitud del modelo (sobremuestreo):  0.9649122807017544\n",
      "              precision    recall  f1-score   support\n",
      "\n",
      "           0       0.95      0.95      0.95        63\n",
      "           1       0.97      0.97      0.97       108\n",
      "\n",
      "    accuracy                           0.96       171\n",
      "   macro avg       0.96      0.96      0.96       171\n",
      "weighted avg       0.96      0.96      0.96       171\n",
      "\n"
     ]
    },
    {
     "data": {
      "image/png": "[encoded data removed]",
      "text/plain": [
       "<Figure size 432x288 with 1 Axes>"
      ]
     },
     "metadata": {
      "needs_background": "light"
     },
     "output_type": "display_data"
    }
   ],
   "source": [
    "import pandas as pd\n",
    "from sklearn.datasets import load_breast_cancer\n",
    "from sklearn.model_selection import train_test_split\n",
    "from imblearn.under_sampling import RandomUnderSampler\n",
    "from imblearn.over_sampling import SMOTE\n",
    "from sklearn.linear_model import LogisticRegression\n",
    "from sklearn.metrics import accuracy_score, classification_report\n",
    "import matplotlib.pyplot as plt\n",
    "\n",
    "# Cargamos los datos\n",
    "breast_cancer = load_breast_cancer()\n",
    "X = breast_cancer.data\n",
    "y = breast_cancer.target\n",
    "\n",
    "# Dividimos los datos en conjuntos de entrenamiento y prueba\n",
    "X_train, X_test, y_train, y_test = train_test_split(X, y, test_size=0.3, random_state=42)\n",
    "\n",
    "# Creamos un conjunto de datos submuestreado utilizando RandomUnderSampler\n",
    "rus = RandomUnderSampler(random_state=42)\n",
    "X_train_rus, y_train_rus = rus.fit_resample(X_train, y_train)\n",
    "\n",
    "# Creamos un conjunto de datos sobremuestreado utilizando SMOTE\n",
    "smote = SMOTE()\n",
    "X_train_smote, y_train_smote = smote.fit_resample(X_train, y_train)\n",
    "\n",
    "# Entrenamos un clasificador de regresión logística con los datos originales\n",
    "clf = LogisticRegression(random_state=42)\n",
    "clf.fit(X_train, y_train)\n",
    "y_pred = clf.predict(X_test)\n",
    "print(\"Exactitud del modelo (datos originales): \", accuracy_score(y_test, y_pred))\n",
    "print(classification_report(y_test, y_pred))\n",
    "\n",
    "# Entrenamos un clasificador de regresión logística con los datos submuestreados\n",
    "clf_rus = LogisticRegression(random_state=42)\n",
    "clf_rus.fit(X_train_rus, y_train_rus)\n",
    "y_pred_rus = clf_rus.predict(X_test)\n",
    "print(\"Exactitud del modelo (submuestreo): \", accuracy_score(y_test, y_pred_rus))\n",
    "print(classification_report(y_test, y_pred_rus))\n",
    "\n",
    "# Entrenamos un clasificador de regresión logística con los datos sobremuestreados\n",
    "clf_smote = LogisticRegression(random_state=42)\n",
    "clf_smote.fit(X_train_smote, y_train_smote)\n",
    "y_pred_smote = clf_smote.predict(X_test)\n",
    "print(\"Exactitud del modelo (sobremuestreo): \", accuracy_score(y_test, y_pred_smote))\n",
    "print(classification_report(y_test, y_pred_smote))\n",
    "\n",
    "# Graficamos los resultados\n",
    "labels = ['Datos originales', 'Submuestreo', 'Sobremuestreo']\n",
    "scores = [accuracy_score(y_test, y_pred), accuracy_score(y_test, y_pred_rus), accuracy_score(y_test, y_pred_smote)]\n",
    "plt.bar(labels, scores)\n",
    "plt.title('Exactitud de clasificadores con datos desbalanceados')\n",
    "plt.show()"
   ]
  },
  {
   "attachments": {},
   "cell_type": "markdown",
   "metadata": {},
   "source": [
    "| **Inicio** | **atrás 18** | **Siguiente 20** |\n",
    "|----------- |-------------- |---------------|\n",
    "| [🏠](../../README.md) | [⏪](./18.Clustering.ipynb)| [⏩](./20.K-Vecinos.ipynb)|"
   ]
  }
 ],
 "metadata": {
  "kernelspec": {
   "display_name": "base",
   "language": "python",
   "name": "python3"
  },
  "language_info": {
   "codemirror_mode": {
    "name": "ipython",
    "version": 3
   },
   "file_extension": ".py",
   "mimetype": "text/x-python",
   "name": "python",
   "nbconvert_exporter": "python",
   "pygments_lexer": "ipython3",
   "version": "3.9.12"
  },
  "orig_nbformat": 4
 },
 "nbformat": 4,
 "nbformat_minor": 2
}
