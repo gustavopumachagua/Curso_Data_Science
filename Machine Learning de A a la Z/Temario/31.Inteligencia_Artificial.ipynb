{
 "cells": [
  {
   "attachments": {},
   "cell_type": "markdown",
   "metadata": {},
   "source": [
    "| **Inicio** | **atrás 30** | **Siguiente 32** |\n",
    "|----------- |-------------- |---------------|\n",
    "| [🏠](../../README.md) | [⏪](./30.Metricas_para_Clasificadores.ipynb)| [⏩](./32.Regresion.ipynb)|"
   ]
  },
  {
   "attachments": {},
   "cell_type": "markdown",
   "metadata": {},
   "source": [
    "# **31. Diferencias y Similitudes entre la Inteligencia Artificial y el Machine Learning**"
   ]
  },
  {
   "attachments": {},
   "cell_type": "markdown",
   "metadata": {},
   "source": [
    "## **Introducción**"
   ]
  },
  {
   "attachments": {},
   "cell_type": "markdown",
   "metadata": {},
   "source": [
    "La Inteligencia Artificial (IA) y el Machine Learning (ML) son dos términos relacionados pero distintos. Ambos se utilizan en el campo de la tecnología para mejorar los procesos de toma de decisiones y la automatización de tareas, pero tienen diferencias clave.\n",
    "\n",
    "La Inteligencia Artificial es un campo más amplio que incluye el Machine Learning. La IA se refiere a la capacidad de las máquinas para realizar tareas que requieren inteligencia humana, como el reconocimiento de voz y el aprendizaje automático. El Machine Learning, por otro lado, es un subconjunto de la IA que se centra en la capacidad de las máquinas para aprender automáticamente a partir de datos.\n",
    "\n",
    "En resumen, el Machine Learning es una técnica que se utiliza dentro del campo de la Inteligencia Artificial para crear sistemas que puedan aprender y mejorar de forma autónoma. En cambio, la Inteligencia Artificial es una disciplina más amplia que busca crear sistemas que puedan simular y mejorar la inteligencia humana en diversos campos.\n",
    "\n",
    "Aquí hay algunas similitudes y diferencias entre la Inteligencia Artificial y el Machine Learning:\n",
    "\n",
    "Similitudes:\n",
    "\n",
    "* Ambos utilizan algoritmos para procesar datos y mejorar la toma de decisiones.\n",
    "* Ambos pueden ser utilizados en una amplia gama de aplicaciones, desde el procesamiento de imágenes hasta la automatización de tareas de rutina.\n",
    "* Ambos tienen el potencial de mejorar la eficiencia y reducir los costos en una variedad de industrias.\n",
    "\n",
    "Diferencias:\n",
    "\n",
    "* La Inteligencia Artificial se enfoca en replicar la inteligencia humana, mientras que el Machine Learning se enfoca en aprender automáticamente a partir de datos.\n",
    "* La IA busca crear sistemas más complejos que puedan realizar tareas que requieren inteligencia humana, mientras que el ML se enfoca en la capacidad de las máquinas para mejorar su rendimiento en tareas específicas a través del aprendizaje automático.\n",
    "* La IA se utiliza en áreas como el procesamiento del lenguaje natural y la toma de decisiones, mientras que el ML se utiliza en áreas como la detección de fraudes y la predicción de demanda de productos.\n",
    "\n",
    "En resumen, el Machine Learning es una técnica específica utilizada dentro del campo más amplio de la Inteligencia Artificial para mejorar el rendimiento en tareas específicas a través del aprendizaje automático."
   ]
  },
  {
   "attachments": {},
   "cell_type": "markdown",
   "metadata": {},
   "source": [
    "![tecnicas](../imagenes%20Machine_Learning/tecnicas.webp \"tecnicas\")"
   ]
  },
  {
   "attachments": {},
   "cell_type": "markdown",
   "metadata": {},
   "source": [
    "## **Relación entre IA y ML**"
   ]
  },
  {
   "attachments": {},
   "cell_type": "markdown",
   "metadata": {},
   "source": [
    "La relación entre la Inteligencia Artificial (IA) y el Machine Learning (ML) es estrecha, ya que el ML es una técnica específica utilizada dentro del campo más amplio de la IA.\n",
    "\n",
    "La IA se refiere a la capacidad de las máquinas para realizar tareas que requieren inteligencia humana, como el procesamiento del lenguaje natural, la toma de decisiones, la visión por computadora, entre otras. El ML es un enfoque dentro de la IA que se enfoca en el aprendizaje automático a partir de los datos, para mejorar la precisión y el rendimiento en tareas específicas.\n",
    "\n",
    "En otras palabras, el ML es una técnica que utiliza algoritmos para permitir que las máquinas aprendan a partir de los datos, mientras que la IA es un campo más amplio que incluye el ML y otras técnicas, como el razonamiento lógico y la representación del conocimiento.\n",
    "\n",
    "El ML es una parte fundamental de la IA, ya que es una de las técnicas más efectivas para lograr que las máquinas aprendan y realicen tareas específicas. Los algoritmos de ML se utilizan en una amplia variedad de aplicaciones de IA, como el reconocimiento de voz, el procesamiento de imágenes y la detección de fraude, entre otros.\n",
    "\n",
    "En resumen, el ML es una técnica de IA que permite que las máquinas aprendan a partir de los datos, lo que mejora el rendimiento en tareas específicas. El ML es una parte fundamental de la IA y se utiliza en una amplia variedad de aplicaciones para mejorar la eficiencia y la precisión de los sistemas automatizados."
   ]
  },
  {
   "attachments": {},
   "cell_type": "markdown",
   "metadata": {},
   "source": [
    "## **Inteligencia Artificial**"
   ]
  },
  {
   "attachments": {},
   "cell_type": "markdown",
   "metadata": {},
   "source": [
    "La Inteligencia Artificial (IA) se refiere a la capacidad de las máquinas para realizar tareas que requieren inteligencia humana, como el razonamiento, el aprendizaje, la percepción, la toma de decisiones y la comprensión del lenguaje natural. En otras palabras, la IA es la habilidad de una máquina para simular el pensamiento humano y llevar a cabo tareas que normalmente requerirían la intervención humana.\n",
    "\n",
    "La IA se divide en varias áreas de estudio, incluyendo el aprendizaje automático, el procesamiento del lenguaje natural, la visión por computadora, la robótica, la toma de decisiones, entre otras. Cada una de estas áreas se enfoca en un conjunto específico de problemas y utiliza diferentes técnicas y herramientas para resolverlos.\n",
    "\n",
    "La IA se ha convertido en una herramienta fundamental en muchos campos, incluyendo la medicina, la ingeniería, la ciencia, la industria del entretenimiento y muchos más. Por ejemplo, los sistemas de recomendación de películas y música utilizan técnicas de IA para aprender de las preferencias del usuario y recomendar contenido relevante. Los robots industriales utilizan técnicas de IA para realizar tareas repetitivas y peligrosas en las líneas de producción. En medicina, los sistemas de diagnóstico asistidos por computadora utilizan técnicas de IA para analizar imágenes médicas y ayudar a los médicos en el diagnóstico y tratamiento de enfermedades.\n",
    "\n",
    "En resumen, la IA es un campo de estudio que busca dotar a las máquinas de capacidades de inteligencia humana para realizar tareas de manera autónoma y mejorar la eficiencia y precisión en una amplia variedad de aplicaciones."
   ]
  },
  {
   "attachments": {},
   "cell_type": "markdown",
   "metadata": {},
   "source": [
    "## **Aprendizaje de Máquina**"
   ]
  },
  {
   "attachments": {},
   "cell_type": "markdown",
   "metadata": {},
   "source": [
    "El Aprendizaje de Máquina (Machine Learning o ML) es una rama de la Inteligencia Artificial (IA) que se enfoca en el desarrollo de algoritmos y modelos estadísticos que permiten a las máquinas aprender de los datos de manera automática, sin ser explícitamente programadas para realizar una tarea específica.\n",
    "\n",
    "En otras palabras, el ML se basa en el análisis de grandes conjuntos de datos para descubrir patrones y relaciones que permitan predecir o clasificar nuevos datos. Esto se logra a través de la aplicación de algoritmos de aprendizaje automático que pueden identificar patrones en los datos y usarlos para hacer predicciones o tomar decisiones.\n",
    "\n",
    "El aprendizaje automático se divide en tres categorías principales: el aprendizaje supervisado, el aprendizaje no supervisado y el aprendizaje por refuerzo. El aprendizaje supervisado se utiliza para entrenar al modelo a partir de datos etiquetados, es decir, datos en los que se conoce la respuesta correcta. El aprendizaje no supervisado se utiliza para encontrar patrones y relaciones en datos no etiquetados, es decir, datos en los que no se conoce la respuesta correcta. El aprendizaje por refuerzo se utiliza para entrenar a un modelo a partir de una serie de decisiones tomadas en un ambiente específico.\n",
    "\n",
    "El ML se utiliza en una amplia variedad de aplicaciones, como la predicción del tiempo, el reconocimiento de voz, la detección de fraudes, la clasificación de imágenes y la recomendación de productos, entre otros. A medida que los datos se vuelven más complejos y abundantes, el ML se ha vuelto cada vez más importante en la toma de decisiones y la automatización de procesos en muchos campos."
   ]
  },
  {
   "attachments": {},
   "cell_type": "markdown",
   "metadata": {},
   "source": [
    "# **¿Qué técnica de Machine Learning debes utilizar? Supervisado vs NO Supervisado**"
   ]
  },
  {
   "attachments": {},
   "cell_type": "markdown",
   "metadata": {},
   "source": [
    "## **Introducción**"
   ]
  },
  {
   "attachments": {},
   "cell_type": "markdown",
   "metadata": {},
   "source": [
    "La elección de la técnica de Machine Learning (ML) a utilizar depende en gran medida de la naturaleza de los datos y del objetivo de la tarea que se quiere realizar. A grandes rasgos, existen dos categorías principales de técnicas de ML: el aprendizaje supervisado y el aprendizaje no supervisado.\n",
    "\n",
    "El aprendizaje supervisado se utiliza cuando se tienen datos etiquetados, es decir, cuando se conoce la respuesta correcta para cada ejemplo de entrenamiento. El objetivo de este tipo de aprendizaje es construir un modelo capaz de generalizar los patrones encontrados en los datos de entrenamiento para hacer predicciones precisas sobre nuevos datos.\n",
    "\n",
    "Por otro lado, el aprendizaje no supervisado se utiliza cuando los datos no están etiquetados, es decir, cuando no se conoce la respuesta correcta. El objetivo de este tipo de aprendizaje es encontrar patrones y estructuras ocultas en los datos para agrupar o segmentar los datos en función de sus similitudes o diferencias.\n",
    "\n",
    "En general, el aprendizaje supervisado se utiliza para problemas de clasificación y regresión, mientras que el aprendizaje no supervisado se utiliza para problemas de clustering y reducción de dimensionalidad.\n",
    "\n",
    "En resumen, la elección entre el aprendizaje supervisado y no supervisado depende del tipo de datos y del objetivo de la tarea. Si se tienen datos etiquetados y se quiere hacer predicciones precisas sobre nuevos datos, se debe utilizar el aprendizaje supervisado. Si se quiere encontrar patrones y estructuras ocultas en los datos sin conocer la respuesta correcta, se debe utilizar el aprendizaje no supervisado."
   ]
  },
  {
   "attachments": {},
   "cell_type": "markdown",
   "metadata": {},
   "source": [
    "## **2. Características y Observaciones**"
   ]
  },
  {
   "attachments": {},
   "cell_type": "markdown",
   "metadata": {},
   "source": [
    "La elección de la técnica de Machine Learning (ML) adecuada dependerá de las características de los datos y del objetivo de la tarea que se quiere realizar. Aquí hay algunas características y observaciones a tener en cuenta:\n",
    "\n",
    "* Datos etiquetados: Si se tienen datos etiquetados, se debe utilizar el aprendizaje supervisado. Esto significa que los datos ya tienen la respuesta correcta, y el objetivo es crear un modelo que pueda predecir con precisión la respuesta para nuevos datos.\n",
    "\n",
    "* Datos no etiquetados: Si los datos no están etiquetados, se debe utilizar el aprendizaje no supervisado. Esto significa que el objetivo es encontrar patrones y estructuras en los datos sin conocer la respuesta correcta.\n",
    "\n",
    "* Problemas de clasificación: Si el objetivo es clasificar los datos en diferentes categorías, se debe utilizar el aprendizaje supervisado. Esto es común en tareas como el reconocimiento de imágenes o el diagnóstico médico.\n",
    "\n",
    "* Problemas de regresión: Si el objetivo es predecir una variable numérica continua, como el precio de una casa, se debe utilizar el aprendizaje supervisado.\n",
    "\n",
    "* Clustering: Si el objetivo es agrupar los datos en función de sus similitudes, se debe utilizar el aprendizaje no supervisado. Esto es común en tareas como la segmentación de clientes o la identificación de anomalías en los datos.\n",
    "\n",
    "* Reducción de dimensionalidad: Si el objetivo es reducir la cantidad de variables en un conjunto de datos, se debe utilizar el aprendizaje no supervisado. Esto puede ser útil para visualizar los datos o para reducir el costo computacional de un modelo.\n",
    "\n",
    "* Overfitting: El overfitting es un problema común en el aprendizaje supervisado. Ocurre cuando el modelo es demasiado complejo y se ajusta demasiado a los datos de entrenamiento, lo que puede llevar a una baja generalización en los nuevos datos. Por lo tanto, es importante tener un conjunto de datos de prueba separado para evaluar la capacidad de generalización del modelo.\n",
    "\n",
    "* Underfitting: El underfitting es otro problema común en el aprendizaje supervisado. Ocurre cuando el modelo es demasiado simple y no es capaz de capturar los patrones importantes en los datos. En este caso, es necesario utilizar un modelo más complejo o agregar más características al conjunto de datos.\n",
    "\n",
    "En general, la elección de la técnica de ML adecuada dependerá del problema específico que se quiera resolver y de las características de los datos."
   ]
  },
  {
   "attachments": {},
   "cell_type": "markdown",
   "metadata": {},
   "source": [
    "## **Aprendizaje de Máquina Supervisado**"
   ]
  },
  {
   "attachments": {},
   "cell_type": "markdown",
   "metadata": {},
   "source": [
    "El aprendizaje de máquina supervisado es una técnica de Machine Learning en la que se utiliza un conjunto de datos de entrenamiento etiquetados para aprender una función que pueda predecir las etiquetas de nuevos datos. En el aprendizaje supervisado, se proporcionan a la máquina tanto las características como las etiquetas de los datos de entrenamiento, lo que permite a la máquina aprender a predecir las etiquetas de los nuevos datos.\n",
    "\n",
    "Un ejemplo de aprendizaje de máquina supervisado es la clasificación de imágenes en dos clases: perros y gatos. En este ejemplo, se proporciona a la máquina un conjunto de imágenes etiquetadas como perros o gatos, y la máquina aprende a clasificar nuevas imágenes como perros o gatos.\n",
    "\n",
    "A continuación, se muestra un ejemplo de cómo implementar el aprendizaje de máquina supervisado en Python utilizando la biblioteca scikit-learn para clasificar flores iris en tres clases diferentes."
   ]
  },
  {
   "cell_type": "code",
   "execution_count": 1,
   "metadata": {},
   "outputs": [
    {
     "name": "stdout",
     "output_type": "stream",
     "text": [
      "Accuracy: 0.9333333333333333\n"
     ]
    }
   ],
   "source": [
    "from sklearn.datasets import load_iris\n",
    "from sklearn.model_selection import train_test_split\n",
    "from sklearn.tree import DecisionTreeClassifier\n",
    "from sklearn.metrics import accuracy_score\n",
    "\n",
    "# Cargamos el conjunto de datos de iris\n",
    "iris = load_iris()\n",
    "\n",
    "# Dividimos los datos en conjuntos de entrenamiento y prueba\n",
    "X_train, X_test, y_train, y_test = train_test_split(iris.data, iris.target, test_size=0.3)\n",
    "\n",
    "# Creamos un clasificador de árbol de decisión\n",
    "clf = DecisionTreeClassifier()\n",
    "\n",
    "# Entrenamos el clasificador con los datos de entrenamiento\n",
    "clf.fit(X_train, y_train)\n",
    "\n",
    "# Realizamos predicciones en los datos de prueba\n",
    "y_pred = clf.predict(X_test)\n",
    "\n",
    "# Evaluamos la precisión del modelo\n",
    "accuracy = accuracy_score(y_test, y_pred)\n",
    "print('Accuracy:', accuracy)\n"
   ]
  },
  {
   "attachments": {},
   "cell_type": "markdown",
   "metadata": {},
   "source": [
    "En este ejemplo, cargamos el conjunto de datos de iris y lo dividimos en conjuntos de entrenamiento y prueba. Luego, creamos un clasificador de árbol de decisión y lo entrenamos con los datos de entrenamiento. Finalmente, hacemos predicciones en los datos de prueba y evaluamos la precisión del modelo utilizando la métrica de precisión."
   ]
  },
  {
   "attachments": {},
   "cell_type": "markdown",
   "metadata": {},
   "source": [
    "## **Aprendizaje de Máquina NO Supervisado**"
   ]
  },
  {
   "attachments": {},
   "cell_type": "markdown",
   "metadata": {},
   "source": [
    "El aprendizaje de máquina no supervisado es una técnica de Machine Learning en la que se utiliza un conjunto de datos no etiquetados para aprender patrones o estructuras en los datos. A diferencia del aprendizaje supervisado, en el que se proporcionan las etiquetas de los datos de entrenamiento, en el aprendizaje no supervisado no se proporcionan etiquetas.\n",
    "\n",
    "Un ejemplo de aprendizaje de máquina no supervisado es la agrupación de datos en diferentes grupos o clusters. En este ejemplo, se proporciona a la máquina un conjunto de datos no etiquetados, y la máquina aprende a agrupar los datos en diferentes clusters.\n",
    "\n",
    "A continuación, se muestra un ejemplo de cómo implementar el aprendizaje de máquina no supervisado en Python utilizando la biblioteca scikit-learn para agrupar datos de iris en diferentes clusters."
   ]
  },
  {
   "cell_type": "code",
   "execution_count": 2,
   "metadata": {},
   "outputs": [
    {
     "name": "stderr",
     "output_type": "stream",
     "text": [
      "/home/puma/anaconda3/lib/python3.9/site-packages/sklearn/cluster/_kmeans.py:870: FutureWarning: The default value of `n_init` will change from 10 to 'auto' in 1.4. Set the value of `n_init` explicitly to suppress the warning\n",
      "  warnings.warn(\n",
      "Exception ignored on calling ctypes callback function: <function _ThreadpoolInfo._find_modules_with_dl_iterate_phdr.<locals>.match_module_callback at 0x7f5b16a548b0>\n",
      "Traceback (most recent call last):\n",
      "  File \"/home/puma/anaconda3/lib/python3.9/site-packages/threadpoolctl.py\", line 400, in match_module_callback\n",
      "    self._make_module_from_path(filepath)\n",
      "  File \"/home/puma/anaconda3/lib/python3.9/site-packages/threadpoolctl.py\", line 515, in _make_module_from_path\n",
      "    module = module_class(filepath, prefix, user_api, internal_api)\n",
      "  File \"/home/puma/anaconda3/lib/python3.9/site-packages/threadpoolctl.py\", line 606, in __init__\n",
      "    self.version = self.get_version()\n",
      "  File \"/home/puma/anaconda3/lib/python3.9/site-packages/threadpoolctl.py\", line 646, in get_version\n",
      "    config = get_config().split()\n",
      "AttributeError: 'NoneType' object has no attribute 'split'\n",
      "Exception ignored on calling ctypes callback function: <function _ThreadpoolInfo._find_modules_with_dl_iterate_phdr.<locals>.match_module_callback at 0x7f5b16a548b0>\n",
      "Traceback (most recent call last):\n",
      "  File \"/home/puma/anaconda3/lib/python3.9/site-packages/threadpoolctl.py\", line 400, in match_module_callback\n",
      "    self._make_module_from_path(filepath)\n",
      "  File \"/home/puma/anaconda3/lib/python3.9/site-packages/threadpoolctl.py\", line 515, in _make_module_from_path\n",
      "    module = module_class(filepath, prefix, user_api, internal_api)\n",
      "  File \"/home/puma/anaconda3/lib/python3.9/site-packages/threadpoolctl.py\", line 606, in __init__\n",
      "    self.version = self.get_version()\n",
      "  File \"/home/puma/anaconda3/lib/python3.9/site-packages/threadpoolctl.py\", line 646, in get_version\n",
      "    config = get_config().split()\n",
      "AttributeError: 'NoneType' object has no attribute 'split'\n",
      "Exception ignored on calling ctypes callback function: <function _ThreadpoolInfo._find_modules_with_dl_iterate_phdr.<locals>.match_module_callback at 0x7f5b16a548b0>\n",
      "Traceback (most recent call last):\n",
      "  File \"/home/puma/anaconda3/lib/python3.9/site-packages/threadpoolctl.py\", line 400, in match_module_callback\n",
      "    self._make_module_from_path(filepath)\n",
      "  File \"/home/puma/anaconda3/lib/python3.9/site-packages/threadpoolctl.py\", line 515, in _make_module_from_path\n",
      "    module = module_class(filepath, prefix, user_api, internal_api)\n",
      "  File \"/home/puma/anaconda3/lib/python3.9/site-packages/threadpoolctl.py\", line 606, in __init__\n",
      "    self.version = self.get_version()\n",
      "  File \"/home/puma/anaconda3/lib/python3.9/site-packages/threadpoolctl.py\", line 646, in get_version\n",
      "    config = get_config().split()\n",
      "AttributeError: 'NoneType' object has no attribute 'split'\n",
      "Exception ignored on calling ctypes callback function: <function _ThreadpoolInfo._find_modules_with_dl_iterate_phdr.<locals>.match_module_callback at 0x7f5b16a548b0>\n",
      "Traceback (most recent call last):\n",
      "  File \"/home/puma/anaconda3/lib/python3.9/site-packages/threadpoolctl.py\", line 400, in match_module_callback\n",
      "    self._make_module_from_path(filepath)\n",
      "  File \"/home/puma/anaconda3/lib/python3.9/site-packages/threadpoolctl.py\", line 515, in _make_module_from_path\n",
      "    module = module_class(filepath, prefix, user_api, internal_api)\n",
      "  File \"/home/puma/anaconda3/lib/python3.9/site-packages/threadpoolctl.py\", line 606, in __init__\n",
      "    self.version = self.get_version()\n",
      "  File \"/home/puma/anaconda3/lib/python3.9/site-packages/threadpoolctl.py\", line 646, in get_version\n",
      "    config = get_config().split()\n",
      "AttributeError: 'NoneType' object has no attribute 'split'\n",
      "Exception ignored on calling ctypes callback function: <function _ThreadpoolInfo._find_modules_with_dl_iterate_phdr.<locals>.match_module_callback at 0x7f5b16a78430>\n",
      "Traceback (most recent call last):\n",
      "  File \"/home/puma/anaconda3/lib/python3.9/site-packages/threadpoolctl.py\", line 400, in match_module_callback\n",
      "    self._make_module_from_path(filepath)\n",
      "  File \"/home/puma/anaconda3/lib/python3.9/site-packages/threadpoolctl.py\", line 515, in _make_module_from_path\n",
      "    module = module_class(filepath, prefix, user_api, internal_api)\n",
      "  File \"/home/puma/anaconda3/lib/python3.9/site-packages/threadpoolctl.py\", line 606, in __init__\n",
      "    self.version = self.get_version()\n",
      "  File \"/home/puma/anaconda3/lib/python3.9/site-packages/threadpoolctl.py\", line 646, in get_version\n",
      "    config = get_config().split()\n",
      "AttributeError: 'NoneType' object has no attribute 'split'\n",
      "Exception ignored on calling ctypes callback function: <function _ThreadpoolInfo._find_modules_with_dl_iterate_phdr.<locals>.match_module_callback at 0x7f5b16a548b0>\n",
      "Traceback (most recent call last):\n",
      "  File \"/home/puma/anaconda3/lib/python3.9/site-packages/threadpoolctl.py\", line 400, in match_module_callback\n",
      "    self._make_module_from_path(filepath)\n",
      "  File \"/home/puma/anaconda3/lib/python3.9/site-packages/threadpoolctl.py\", line 515, in _make_module_from_path\n",
      "    module = module_class(filepath, prefix, user_api, internal_api)\n",
      "  File \"/home/puma/anaconda3/lib/python3.9/site-packages/threadpoolctl.py\", line 606, in __init__\n",
      "    self.version = self.get_version()\n",
      "  File \"/home/puma/anaconda3/lib/python3.9/site-packages/threadpoolctl.py\", line 646, in get_version\n",
      "    config = get_config().split()\n",
      "AttributeError: 'NoneType' object has no attribute 'split'\n",
      "Exception ignored on calling ctypes callback function: <function _ThreadpoolInfo._find_modules_with_dl_iterate_phdr.<locals>.match_module_callback at 0x7f5b16a548b0>\n",
      "Traceback (most recent call last):\n",
      "  File \"/home/puma/anaconda3/lib/python3.9/site-packages/threadpoolctl.py\", line 400, in match_module_callback\n",
      "    self._make_module_from_path(filepath)\n",
      "  File \"/home/puma/anaconda3/lib/python3.9/site-packages/threadpoolctl.py\", line 515, in _make_module_from_path\n",
      "    module = module_class(filepath, prefix, user_api, internal_api)\n",
      "  File \"/home/puma/anaconda3/lib/python3.9/site-packages/threadpoolctl.py\", line 606, in __init__\n",
      "    self.version = self.get_version()\n",
      "  File \"/home/puma/anaconda3/lib/python3.9/site-packages/threadpoolctl.py\", line 646, in get_version\n",
      "    config = get_config().split()\n",
      "AttributeError: 'NoneType' object has no attribute 'split'\n",
      "Exception ignored on calling ctypes callback function: <function _ThreadpoolInfo._find_modules_with_dl_iterate_phdr.<locals>.match_module_callback at 0x7f5b16a548b0>\n",
      "Traceback (most recent call last):\n",
      "  File \"/home/puma/anaconda3/lib/python3.9/site-packages/threadpoolctl.py\", line 400, in match_module_callback\n",
      "    self._make_module_from_path(filepath)\n",
      "  File \"/home/puma/anaconda3/lib/python3.9/site-packages/threadpoolctl.py\", line 515, in _make_module_from_path\n",
      "    module = module_class(filepath, prefix, user_api, internal_api)\n",
      "  File \"/home/puma/anaconda3/lib/python3.9/site-packages/threadpoolctl.py\", line 606, in __init__\n",
      "    self.version = self.get_version()\n",
      "  File \"/home/puma/anaconda3/lib/python3.9/site-packages/threadpoolctl.py\", line 646, in get_version\n",
      "    config = get_config().split()\n",
      "AttributeError: 'NoneType' object has no attribute 'split'\n",
      "Exception ignored on calling ctypes callback function: <function _ThreadpoolInfo._find_modules_with_dl_iterate_phdr.<locals>.match_module_callback at 0x7f5b16a788b0>\n",
      "Traceback (most recent call last):\n",
      "  File \"/home/puma/anaconda3/lib/python3.9/site-packages/threadpoolctl.py\", line 400, in match_module_callback\n",
      "    self._make_module_from_path(filepath)\n",
      "  File \"/home/puma/anaconda3/lib/python3.9/site-packages/threadpoolctl.py\", line 515, in _make_module_from_path\n",
      "    module = module_class(filepath, prefix, user_api, internal_api)\n",
      "  File \"/home/puma/anaconda3/lib/python3.9/site-packages/threadpoolctl.py\", line 606, in __init__\n",
      "    self.version = self.get_version()\n",
      "  File \"/home/puma/anaconda3/lib/python3.9/site-packages/threadpoolctl.py\", line 646, in get_version\n",
      "    config = get_config().split()\n",
      "AttributeError: 'NoneType' object has no attribute 'split'\n",
      "Exception ignored on calling ctypes callback function: <function _ThreadpoolInfo._find_modules_with_dl_iterate_phdr.<locals>.match_module_callback at 0x7f5b16a548b0>\n",
      "Traceback (most recent call last):\n",
      "  File \"/home/puma/anaconda3/lib/python3.9/site-packages/threadpoolctl.py\", line 400, in match_module_callback\n",
      "    self._make_module_from_path(filepath)\n",
      "  File \"/home/puma/anaconda3/lib/python3.9/site-packages/threadpoolctl.py\", line 515, in _make_module_from_path\n",
      "    module = module_class(filepath, prefix, user_api, internal_api)\n",
      "  File \"/home/puma/anaconda3/lib/python3.9/site-packages/threadpoolctl.py\", line 606, in __init__\n",
      "    self.version = self.get_version()\n",
      "  File \"/home/puma/anaconda3/lib/python3.9/site-packages/threadpoolctl.py\", line 646, in get_version\n",
      "    config = get_config().split()\n",
      "AttributeError: 'NoneType' object has no attribute 'split'\n",
      "Exception ignored on calling ctypes callback function: <function _ThreadpoolInfo._find_modules_with_dl_iterate_phdr.<locals>.match_module_callback at 0x7f5b16a78af0>\n",
      "Traceback (most recent call last):\n",
      "  File \"/home/puma/anaconda3/lib/python3.9/site-packages/threadpoolctl.py\", line 400, in match_module_callback\n",
      "    self._make_module_from_path(filepath)\n",
      "  File \"/home/puma/anaconda3/lib/python3.9/site-packages/threadpoolctl.py\", line 515, in _make_module_from_path\n",
      "    module = module_class(filepath, prefix, user_api, internal_api)\n",
      "  File \"/home/puma/anaconda3/lib/python3.9/site-packages/threadpoolctl.py\", line 606, in __init__\n",
      "    self.version = self.get_version()\n",
      "  File \"/home/puma/anaconda3/lib/python3.9/site-packages/threadpoolctl.py\", line 646, in get_version\n",
      "    config = get_config().split()\n",
      "AttributeError: 'NoneType' object has no attribute 'split'\n"
     ]
    },
    {
     "data": {
      "image/png": "[encoded data removed]",
      "text/plain": [
       "<Figure size 432x288 with 1 Axes>"
      ]
     },
     "metadata": {
      "needs_background": "light"
     },
     "output_type": "display_data"
    }
   ],
   "source": [
    "from sklearn.datasets import load_iris\n",
    "from sklearn.cluster import KMeans\n",
    "import matplotlib.pyplot as plt\n",
    "\n",
    "# Cargamos el conjunto de datos de iris\n",
    "iris = load_iris()\n",
    "\n",
    "# Creamos un modelo de agrupación de KMeans con 3 clusters\n",
    "kmeans = KMeans(n_clusters=3)\n",
    "\n",
    "# Entrenamos el modelo con los datos de iris\n",
    "kmeans.fit(iris.data)\n",
    "\n",
    "# Obtenemos las etiquetas de los clusters\n",
    "labels = kmeans.labels_\n",
    "\n",
    "# Graficamos los datos agrupados por clusters\n",
    "plt.scatter(iris.data[:, 0], iris.data[:, 1], c=labels)\n",
    "plt.xlabel('Longitud del sépalo')\n",
    "plt.ylabel('Ancho del sépalo')\n",
    "plt.show()\n"
   ]
  },
  {
   "attachments": {},
   "cell_type": "markdown",
   "metadata": {},
   "source": [
    "En este ejemplo, cargamos el conjunto de datos de iris y creamos un modelo de agrupación de KMeans con 3 clusters. Luego, entrenamos el modelo con los datos de iris y obtenemos las etiquetas de los clusters. Finalmente, graficamos los datos agrupados por clusters utilizando la longitud y el ancho del sépalo como características."
   ]
  },
  {
   "attachments": {},
   "cell_type": "markdown",
   "metadata": {},
   "source": [
    "| **Inicio** | **atrás 30** | **Siguiente 32** |\n",
    "|----------- |-------------- |---------------|\n",
    "| [🏠](../../README.md) | [⏪](./30.Metricas_para_Clasificadores.ipynb)| [⏩](./32.Regresion.ipynb)|"
   ]
  }
 ],
 "metadata": {
  "kernelspec": {
   "display_name": "base",
   "language": "python",
   "name": "python3"
  },
  "language_info": {
   "codemirror_mode": {
    "name": "ipython",
    "version": 3
   },
   "file_extension": ".py",
   "mimetype": "text/x-python",
   "name": "python",
   "nbconvert_exporter": "python",
   "pygments_lexer": "ipython3",
   "version": "3.9.12"
  },
  "orig_nbformat": 4
 },
 "nbformat": 4,
 "nbformat_minor": 2
}
