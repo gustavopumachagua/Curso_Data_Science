{
 "cells": [
  {
   "attachments": {},
   "cell_type": "markdown",
   "metadata": {},
   "source": [
    "| **Inicio** | **atrás 26** | **Siguiente 28** |\n",
    "|----------- |-------------- |---------------|\n",
    "| [🏠](../../README.md) | [⏪](./26.Matriz_Covarianza.ipynb)| [⏩](./28.K-Vecinos(KNN).ipynb)|"
   ]
  },
  {
   "attachments": {},
   "cell_type": "markdown",
   "metadata": {},
   "source": [
    "# **27. 3 Razones para Discretizar Datos Numéricos y Cómo Discretizar con Pandas de Python**"
   ]
  },
  {
   "attachments": {},
   "cell_type": "markdown",
   "metadata": {},
   "source": [
    "La discretización de datos numéricos se refiere a la transformación de datos continuos en datos discretos, es decir, la creación de categorías o intervalos en los datos. Hay varias razones por las cuales se puede querer discretizar datos numéricos:\n",
    "\n",
    "**1. Reducción de ruido:** La discretización puede ayudar a reducir el ruido en los datos, especialmente cuando se tienen datos continuos que varían ligeramente.\n",
    "\n",
    "**2. Mejora del rendimiento del modelo:** Algunos algoritmos de aprendizaje automático, como los árboles de decisión, funcionan mejor con datos discretos que con datos continuos.\n",
    "\n",
    "**3. Simplificación de los datos:** La discretización puede ayudar a simplificar los datos, lo que puede facilitar su análisis e interpretación.\n",
    "\n",
    "A continuación se muestra un ejemplo de cómo discretizar datos numéricos utilizando la librería Pandas de Python.\n",
    "\n",
    "Supongamos que tenemos los siguientes datos numéricos:"
   ]
  },
  {
   "cell_type": "code",
   "execution_count": 1,
   "metadata": {},
   "outputs": [],
   "source": [
    "import pandas as pd\n",
    "import numpy as np\n",
    "\n",
    "# Datos de ejemplo\n",
    "datos = np.array([10, 15, 20, 25, 30, 35, 40])"
   ]
  },
  {
   "cell_type": "code",
   "execution_count": 2,
   "metadata": {},
   "outputs": [
    {
     "name": "stdout",
     "output_type": "stream",
     "text": [
      "['bajo', 'bajo', 'medio', 'medio', 'medio', 'alto', 'alto']\n",
      "Categories (3, object): ['bajo' < 'medio' < 'alto']\n"
     ]
    }
   ],
   "source": [
    "# Discretizar datos\n",
    "categorias = pd.cut(datos, bins=[0, 15, 30, 45], labels=['bajo', 'medio', 'alto'])\n",
    "\n",
    "print(categorias)"
   ]
  },
  {
   "cell_type": "code",
   "execution_count": 3,
   "metadata": {},
   "outputs": [
    {
     "name": "stdout",
     "output_type": "stream",
     "text": [
      "bajo     2\n",
      "medio    3\n",
      "alto     2\n",
      "dtype: int64\n"
     ]
    }
   ],
   "source": [
    "# Contar frecuencia de categorías\n",
    "frecuencia = categorias.value_counts()\n",
    "\n",
    "print(frecuencia)"
   ]
  },
  {
   "attachments": {},
   "cell_type": "markdown",
   "metadata": {},
   "source": [
    "## **Qué es la discretización**"
   ]
  },
  {
   "attachments": {},
   "cell_type": "markdown",
   "metadata": {},
   "source": [
    "La discretización es el proceso de convertir variables continuas en variables discretas mediante la definición de intervalos. Esto puede ser útil para reducir la complejidad de los datos o para hacer que los datos sean más fáciles de manejar en algunos algoritmos de aprendizaje automático.\n",
    "\n",
    "A continuación se muestra un ejemplo de cómo discretizar una variable continua utilizando la biblioteca scikit-learn de Python:"
   ]
  },
  {
   "cell_type": "code",
   "execution_count": 6,
   "metadata": {},
   "outputs": [
    {
     "name": "stdout",
     "output_type": "stream",
     "text": [
      "[[0.]\n",
      " [0.]\n",
      " [1.]\n",
      " [1.]\n",
      " [2.]\n",
      " [2.]]\n"
     ]
    }
   ],
   "source": [
    "from sklearn.preprocessing import KBinsDiscretizer\n",
    "import numpy as np\n",
    "\n",
    "# Datos de ejemplo\n",
    "datos = np.array([[0], [1], [2], [3], [4], [5]])\n",
    "\n",
    "# Discretizar en 3 categorías\n",
    "discretizador = KBinsDiscretizer(n_bins=3, encode='ordinal', strategy='uniform')\n",
    "datos_discretos = discretizador.fit_transform(datos)\n",
    "\n",
    "print(datos_discretos)"
   ]
  },
  {
   "attachments": {},
   "cell_type": "markdown",
   "metadata": {},
   "source": [
    "En este ejemplo, utilizamos la clase ```KBinsDiscretizer``` de scikit-learn para discretizar los datos en 3 categorías. La opción ```n_bins=3``` especifica el número de categorías en las que se dividirán los datos, y la opción encode='ordinal' especifica que los valores discretos se codificarán como enteros consecutivos comenzando por 0. La opción ```strategy='uniform'``` especifica que los intervalos se dividirán de manera uniforme."
   ]
  },
  {
   "attachments": {},
   "cell_type": "markdown",
   "metadata": {},
   "source": [
    "## **Discretización con contenedores iguales**"
   ]
  },
  {
   "attachments": {},
   "cell_type": "markdown",
   "metadata": {},
   "source": [
    "La discretización con contenedores iguales, también conocida como discretización uniforme, es una técnica de discretización que divide el rango de los datos en un número fijo de intervalos de igual ancho. Esta técnica es útil para crear una versión simplificada de una variable continua, y puede ser utilizada en el preprocesamiento de datos para aplicar ciertos algoritmos de aprendizaje automático.\n",
    "\n",
    "A continuación se muestra un ejemplo de cómo discretizar una variable continua utilizando la técnica de contenedores iguales con la biblioteca pandas de Python:"
   ]
  },
  {
   "cell_type": "code",
   "execution_count": 7,
   "metadata": {},
   "outputs": [
    {
     "name": "stdout",
     "output_type": "stream",
     "text": [
      "0     Bajo\n",
      "1     Bajo\n",
      "2     Bajo\n",
      "3     Bajo\n",
      "4     Bajo\n",
      "5    Medio\n",
      "6    Medio\n",
      "7    Medio\n",
      "8     Alto\n",
      "9     Alto\n",
      "dtype: category\n",
      "Categories (3, object): ['Bajo' < 'Medio' < 'Alto']\n"
     ]
    }
   ],
   "source": [
    "import pandas as pd\n",
    "\n",
    "# Datos de ejemplo\n",
    "datos = pd.Series([2, 3, 5, 7, 10, 15, 20, 25, 30, 40])\n",
    "\n",
    "# Discretizar en 3 categorías con contenedores iguales\n",
    "datos_discretos = pd.cut(datos, bins=3, labels=['Bajo', 'Medio', 'Alto'])\n",
    "\n",
    "print(datos_discretos)"
   ]
  },
  {
   "attachments": {},
   "cell_type": "markdown",
   "metadata": {},
   "source": [
    "En este ejemplo, utilizamos la función cut de pandas para discretizar los datos en 3 categorías. La opción bins=3 especifica el número de categorías en las que se dividirán los datos, y la opción ```labels=['Bajo', 'Medio', 'Alto']``` especifica los nombres que se asignarán a cada categoría."
   ]
  },
  {
   "attachments": {},
   "cell_type": "markdown",
   "metadata": {},
   "source": [
    "## **Discretización con contenedores desiguales**"
   ]
  },
  {
   "attachments": {},
   "cell_type": "markdown",
   "metadata": {},
   "source": [
    "La discretización con contenedores desiguales, también conocida como discretización no uniforme, es una técnica de discretización que divide el rango de los datos en intervalos de diferentes tamaños. Esta técnica es útil para manejar variables continuas que tienen una distribución desigual o sesgada.\n",
    "\n",
    "A continuación se muestra un ejemplo de cómo discretizar una variable continua utilizando la técnica de contenedores desiguales con la biblioteca pandas de Python:"
   ]
  },
  {
   "cell_type": "code",
   "execution_count": 8,
   "metadata": {},
   "outputs": [
    {
     "name": "stdout",
     "output_type": "stream",
     "text": [
      "0     Bajo\n",
      "1     Bajo\n",
      "2     Bajo\n",
      "3     Bajo\n",
      "4     Bajo\n",
      "5    Medio\n",
      "6    Medio\n",
      "7     Alto\n",
      "8     Alto\n",
      "9     Alto\n",
      "dtype: category\n",
      "Categories (3, object): ['Bajo' < 'Medio' < 'Alto']\n"
     ]
    }
   ],
   "source": [
    "import pandas as pd\n",
    "\n",
    "# Datos de ejemplo\n",
    "datos = pd.Series([2, 3, 5, 7, 10, 15, 20, 25, 30, 40])\n",
    "\n",
    "# Discretizar en 3 categorías con contenedores desiguales\n",
    "datos_discretos = pd.cut(datos, bins=[0, 10, 20, 40], labels=['Bajo', 'Medio', 'Alto'])\n",
    "\n",
    "print(datos_discretos)"
   ]
  },
  {
   "attachments": {},
   "cell_type": "markdown",
   "metadata": {},
   "source": [
    "En este ejemplo, utilizamos la función cut de pandas para discretizar los datos en 3 categorías. La opción ```bins=[0, 10, 20, 40]``` especifica los límites de los intervalos de discretización, y la opción ```labels=['Bajo', 'Medio', 'Alto']``` especifica los nombres que se asignarán a cada categoría."
   ]
  },
  {
   "attachments": {},
   "cell_type": "markdown",
   "metadata": {},
   "source": [
    "| **Inicio** | **atrás 26** | **Siguiente 28** |\n",
    "|----------- |-------------- |---------------|\n",
    "| [🏠](../../README.md) | [⏪](./26.Matriz_Covarianza.ipynb)| [⏩](./28.K-Vecinos(KNN).ipynb)|"
   ]
  }
 ],
 "metadata": {
  "kernelspec": {
   "display_name": "base",
   "language": "python",
   "name": "python3"
  },
  "language_info": {
   "codemirror_mode": {
    "name": "ipython",
    "version": 3
   },
   "file_extension": ".py",
   "mimetype": "text/x-python",
   "name": "python",
   "nbconvert_exporter": "python",
   "pygments_lexer": "ipython3",
   "version": "3.9.12"
  },
  "orig_nbformat": 4
 },
 "nbformat": 4,
 "nbformat_minor": 2
}
