{
 "cells": [
  {
   "attachments": {},
   "cell_type": "markdown",
   "metadata": {},
   "source": [
    "| **Inicio** | **atrás 16** | **Siguiente 18** |\n",
    "|----------- |-------------- |---------------|\n",
    "| [🏠](../../README.md) | [⏪](./16.Hiperparametros.ipynb)| [⏩](./18.Clustering.ipynb)|"
   ]
  },
  {
   "attachments": {},
   "cell_type": "markdown",
   "metadata": {},
   "source": [
    "# **17. Bagging en Machine learning: Conjuntos de Clasificadores o Regresores con Python**"
   ]
  },
  {
   "attachments": {},
   "cell_type": "markdown",
   "metadata": {},
   "source": [
    "## **Introducción**"
   ]
  },
  {
   "attachments": {},
   "cell_type": "markdown",
   "metadata": {},
   "source": [
    "El Bagging (Bootstrap Aggregating) es una técnica de ensamble en Machine Learning que consiste en entrenar múltiples clasificadores o regresores utilizando muestras `bootstrap` aleatorias del conjunto de datos original, y luego combinar sus predicciones mediante votación o promedio para obtener una predicción final.\n",
    "\n",
    "En términos más simples, `Bagging` crea múltiples modelos de aprendizaje automático y los combina para obtener una predicción más precisa y estable. Cada modelo es entrenado en un conjunto de datos diferente que se obtiene al muestrear el conjunto de datos original con reemplazo. Al utilizar muestras `bootstrap` aleatorias, `Bagging` puede reducir la varianza de los modelos individuales y mejorar la precisión de la predicción final.\n",
    "\n",
    "En Python, se puede implementar `Bagging` utilizando la clase ```BaggingClassifier``` o ```BaggingRegressor``` de la biblioteca `scikit-learn`. Estas clases permiten crear un conjunto de clasificadores o regresores y definir sus parámetros, como el número de modelos y la proporción de datos de entrenamiento a utilizar en cada modelo. Luego, se puede utilizar el método ```fit``` para entrenar el conjunto y ```predict``` para hacer predicciones en nuevos datos."
   ]
  },
  {
   "attachments": {},
   "cell_type": "markdown",
   "metadata": {},
   "source": [
    "![Bagging](../imagenes%20Machine_Learning/Bagging.png \"Bagging\")"
   ]
  },
  {
   "attachments": {},
   "cell_type": "markdown",
   "metadata": {},
   "source": [
    "## **Datos para modelos**"
   ]
  },
  {
   "attachments": {},
   "cell_type": "markdown",
   "metadata": {},
   "source": [
    "Bagging se puede aplicar a varios tipos de modelos de clasificación o regresión en Machine Learning. Algunos ejemplos incluyen:\n",
    "\n",
    "* **Árboles de decisión:** los árboles de decisión son modelos de aprendizaje automático que se utilizan tanto para la clasificación como para la regresión. Bagging con árboles de decisión puede mejorar la precisión de la predicción y reducir el sobreajuste.\n",
    "\n",
    "* **Bosques aleatorios:** los bosques aleatorios son conjuntos de árboles de decisión que se combinan mediante votación o promedio. Bagging se utiliza a menudo en la construcción de bosques aleatorios para mejorar la precisión y reducir la varianza.\n",
    "\n",
    "* **Regresión logística:** la regresión logística es un modelo de clasificación binaria que utiliza una función logística para estimar la probabilidad de pertenencia a una clase. Bagging con regresión logística puede mejorar la precisión de la clasificación y reducir el sesgo.\n",
    "\n",
    "* **Redes neuronales:** las redes neuronales son modelos de aprendizaje profundo que se utilizan para la clasificación y la regresión. Bagging con redes neuronales puede mejorar la precisión de la predicción y reducir la varianza.\n",
    "\n",
    "* **Máquinas de vectores de soporte (SVM):** las SVM son modelos de aprendizaje supervisado que se utilizan tanto para la clasificación como para la regresión. Bagging con SVM puede mejorar la precisión y la estabilidad de la predicción.\n",
    "\n",
    "En resumen, Bagging se puede aplicar a una amplia gama de modelos de clasificación y regresión en Machine Learning. El tipo de modelo que se utiliza dependerá del problema específico y de la naturaleza de los datos disponibles."
   ]
  },
  {
   "attachments": {},
   "cell_type": "markdown",
   "metadata": {},
   "source": [
    "## **Muestras para modelos**"
   ]
  },
  {
   "attachments": {},
   "cell_type": "markdown",
   "metadata": {},
   "source": [
    "En el contexto de Bagging, las muestras se refieren a subconjuntos aleatorios del conjunto de datos original utilizados para entrenar cada uno de los clasificadores o regresores en el conjunto Bagging.\n",
    "\n",
    "La forma en que se seleccionan las muestras para cada clasificador o regresor depende del método de remuestreo que se utilice. Dos métodos comunes son:\n",
    "\n",
    "* **Muestreo con reemplazo:** este método implica seleccionar aleatoriamente una muestra del conjunto de datos original con reemplazo (es decir, las mismas muestras pueden seleccionarse varias veces) para formar cada uno de los subconjuntos utilizados para entrenar cada clasificador o regresor en el conjunto Bagging. Este método es comúnmente utilizado en Bagging.\n",
    "\n",
    "* **Muestreo sin reemplazo:** este método implica seleccionar aleatoriamente una muestra del conjunto de datos original sin reemplazo (es decir, cada muestra solo puede seleccionarse una vez) para formar cada uno de los subconjuntos utilizados para entrenar cada clasificador o regresor en el conjunto Bagging. Este método es menos común en Bagging pero puede ser utilizado en otros enfoques de conjunto, como Pasting.\n",
    "\n",
    "En general, el tamaño de las muestras utilizadas para entrenar cada clasificador o regresor en el conjunto Bagging se establece en función del tamaño del conjunto de datos original y de la cantidad de clasificadores o regresores en el conjunto. Una regla general común es utilizar aproximadamente el `50-70%` del conjunto de datos original para cada subconjunto en el conjunto Bagging.\n",
    "\n",
    "En resumen, las muestras utilizadas en Bagging se refieren a subconjuntos aleatorios del conjunto de datos original utilizados para entrenar cada clasificador o regresor en el conjunto. El tamaño de las muestras y el método de remuestreo utilizado dependen del problema específico y del enfoque de conjunto utilizado."
   ]
  },
  {
   "attachments": {},
   "cell_type": "markdown",
   "metadata": {},
   "source": [
    "## **Escalamiento de los datos**"
   ]
  },
  {
   "attachments": {},
   "cell_type": "markdown",
   "metadata": {},
   "source": [
    "El escalamiento de datos es un preprocesamiento comúnmente utilizado en Bagging y otros enfoques de aprendizaje automático para mejorar la precisión y la estabilidad de los modelos. El escalamiento de datos se refiere a la transformación de las características (o variables) de los datos para que se encuentren en una escala común.\n",
    "\n",
    "El escalamiento de datos es importante en Bagging porque cada clasificador o regresor en el conjunto se entrena con una muestra aleatoria del conjunto de datos original, lo que significa que cada clasificador o regresor puede ver diferentes valores de las características. El escalamiento de datos puede ayudar a reducir la varianza entre los clasificadores o regresores en el conjunto Bagging al garantizar que las características se encuentren en la misma escala para cada clasificador o regresor.\n",
    "\n",
    "Algunos métodos comunes de escalamiento de datos incluyen:\n",
    "\n",
    "* **Escalamiento min-max:** este método escala las características de los datos para que se encuentren dentro de un rango específico (por ejemplo, entre 0 y 1 o entre -1 y 1). El método funciona restando el valor mínimo de cada característica y dividiendo por el rango de la característica.\n",
    "\n",
    "* **Normalización:** este método escala las características de los datos para que tengan una media de cero y una desviación estándar de uno. El método funciona restando la media de cada característica y dividiendo por la desviación estándar de la característica.\n",
    "\n",
    "* **Escalamiento de unidad:** este método escala las características de los datos para que tengan una norma euclidiana de uno. El método funciona dividiendo cada característica por la norma euclidiana de todas las características.\n",
    "\n",
    "En resumen, el escalamiento de datos es un preprocesamiento comúnmente utilizado en Bagging para mejorar la precisión y la estabilidad de los modelos. Los métodos comunes de escalamiento de datos incluyen el escalamiento `min-max`, la normalización y el escalamiento de unidad. La elección del método de escalamiento de datos depende del tipo de datos y del problema específico."
   ]
  },
  {
   "attachments": {},
   "cell_type": "markdown",
   "metadata": {},
   "source": [
    "## **Visualización de los datos**"
   ]
  },
  {
   "cell_type": "code",
   "execution_count": 3,
   "metadata": {},
   "outputs": [],
   "source": [
    "import pandas as pd\n",
    "import numpy as np\n",
    "from sklearn.datasets import load_iris\n",
    "from sklearn.model_selection import train_test_split\n",
    "from sklearn.ensemble import BaggingClassifier\n",
    "from sklearn.tree import DecisionTreeClassifier\n",
    "import matplotlib.pyplot as plt\n",
    "\n",
    "iris = load_iris()\n",
    "X = pd.DataFrame(iris.data, columns=iris.feature_names)\n",
    "y = pd.Series(iris.target)\n"
   ]
  },
  {
   "attachments": {},
   "cell_type": "markdown",
   "metadata": {},
   "source": [
    "A continuación, dividimos los datos en conjuntos de entrenamiento y prueba:"
   ]
  },
  {
   "cell_type": "code",
   "execution_count": 4,
   "metadata": {},
   "outputs": [],
   "source": [
    "X_train, X_test, y_train, y_test = train_test_split(X, y, test_size=0.2, random_state=42)\n"
   ]
  },
  {
   "attachments": {},
   "cell_type": "markdown",
   "metadata": {},
   "source": [
    "Luego, creamos un clasificador de árbol de decisión y lo combinamos con Bagging:"
   ]
  },
  {
   "cell_type": "code",
   "execution_count": 5,
   "metadata": {},
   "outputs": [],
   "source": [
    "tree = DecisionTreeClassifier()\n",
    "bagging = BaggingClassifier(tree, n_estimators=100, max_samples=0.5, max_features=0.5)\n"
   ]
  },
  {
   "attachments": {},
   "cell_type": "markdown",
   "metadata": {},
   "source": [
    "En este caso, estamos creando un clasificador de árbol de decisión y aplicando Bagging con 100 estimadores (clasificadores) en el conjunto Bagging. Además, estamos configurando los parámetros ```max_samples``` y ```max_features``` para que cada clasificador solo vea una muestra aleatoria del 50% y una selección aleatoria del 50% de las características en cada entrenamiento.\n",
    "\n",
    "Entrenamos el modelo en los datos de entrenamiento:"
   ]
  },
  {
   "cell_type": "code",
   "execution_count": 6,
   "metadata": {},
   "outputs": [
    {
     "data": {
      "text/html": [
       "<style>#sk-container-id-1 {color: black;background-color: white;}#sk-container-id-1 pre{padding: 0;}#sk-container-id-1 div.sk-toggleable {background-color: white;}#sk-container-id-1 label.sk-toggleable__label {cursor: pointer;display: block;width: 100%;margin-bottom: 0;padding: 0.3em;box-sizing: border-box;text-align: center;}#sk-container-id-1 label.sk-toggleable__label-arrow:before {content: \"▸\";float: left;margin-right: 0.25em;color: #696969;}#sk-container-id-1 label.sk-toggleable__label-arrow:hover:before {color: black;}#sk-container-id-1 div.sk-estimator:hover label.sk-toggleable__label-arrow:before {color: black;}#sk-container-id-1 div.sk-toggleable__content {max-height: 0;max-width: 0;overflow: hidden;text-align: left;background-color: #f0f8ff;}#sk-container-id-1 div.sk-toggleable__content pre {margin: 0.2em;color: black;border-radius: 0.25em;background-color: #f0f8ff;}#sk-container-id-1 input.sk-toggleable__control:checked~div.sk-toggleable__content {max-height: 200px;max-width: 100%;overflow: auto;}#sk-container-id-1 input.sk-toggleable__control:checked~label.sk-toggleable__label-arrow:before {content: \"▾\";}#sk-container-id-1 div.sk-estimator input.sk-toggleable__control:checked~label.sk-toggleable__label {background-color: #d4ebff;}#sk-container-id-1 div.sk-label input.sk-toggleable__control:checked~label.sk-toggleable__label {background-color: #d4ebff;}#sk-container-id-1 input.sk-hidden--visually {border: 0;clip: rect(1px 1px 1px 1px);clip: rect(1px, 1px, 1px, 1px);height: 1px;margin: -1px;overflow: hidden;padding: 0;position: absolute;width: 1px;}#sk-container-id-1 div.sk-estimator {font-family: monospace;background-color: #f0f8ff;border: 1px dotted black;border-radius: 0.25em;box-sizing: border-box;margin-bottom: 0.5em;}#sk-container-id-1 div.sk-estimator:hover {background-color: #d4ebff;}#sk-container-id-1 div.sk-parallel-item::after {content: \"\";width: 100%;border-bottom: 1px solid gray;flex-grow: 1;}#sk-container-id-1 div.sk-label:hover label.sk-toggleable__label {background-color: #d4ebff;}#sk-container-id-1 div.sk-serial::before {content: \"\";position: absolute;border-left: 1px solid gray;box-sizing: border-box;top: 0;bottom: 0;left: 50%;z-index: 0;}#sk-container-id-1 div.sk-serial {display: flex;flex-direction: column;align-items: center;background-color: white;padding-right: 0.2em;padding-left: 0.2em;position: relative;}#sk-container-id-1 div.sk-item {position: relative;z-index: 1;}#sk-container-id-1 div.sk-parallel {display: flex;align-items: stretch;justify-content: center;background-color: white;position: relative;}#sk-container-id-1 div.sk-item::before, #sk-container-id-1 div.sk-parallel-item::before {content: \"\";position: absolute;border-left: 1px solid gray;box-sizing: border-box;top: 0;bottom: 0;left: 50%;z-index: -1;}#sk-container-id-1 div.sk-parallel-item {display: flex;flex-direction: column;z-index: 1;position: relative;background-color: white;}#sk-container-id-1 div.sk-parallel-item:first-child::after {align-self: flex-end;width: 50%;}#sk-container-id-1 div.sk-parallel-item:last-child::after {align-self: flex-start;width: 50%;}#sk-container-id-1 div.sk-parallel-item:only-child::after {width: 0;}#sk-container-id-1 div.sk-dashed-wrapped {border: 1px dashed gray;margin: 0 0.4em 0.5em 0.4em;box-sizing: border-box;padding-bottom: 0.4em;background-color: white;}#sk-container-id-1 div.sk-label label {font-family: monospace;font-weight: bold;display: inline-block;line-height: 1.2em;}#sk-container-id-1 div.sk-label-container {text-align: center;}#sk-container-id-1 div.sk-container {/* jupyter's `normalize.less` sets `[hidden] { display: none; }` but bootstrap.min.css set `[hidden] { display: none !important; }` so we also need the `!important` here to be able to override the default hidden behavior on the sphinx rendered scikit-learn.org. See: https://github.com/scikit-learn/scikit-learn/issues/21755 */display: inline-block !important;position: relative;}#sk-container-id-1 div.sk-text-repr-fallback {display: none;}</style><div id=\"sk-container-id-1\" class=\"sk-top-container\"><div class=\"sk-text-repr-fallback\"><pre>BaggingClassifier(estimator=DecisionTreeClassifier(), max_features=0.5,\n",
       "                  max_samples=0.5, n_estimators=100)</pre><b>In a Jupyter environment, please rerun this cell to show the HTML representation or trust the notebook. <br />On GitHub, the HTML representation is unable to render, please try loading this page with nbviewer.org.</b></div><div class=\"sk-container\" hidden><div class=\"sk-item sk-dashed-wrapped\"><div class=\"sk-label-container\"><div class=\"sk-label sk-toggleable\"><input class=\"sk-toggleable__control sk-hidden--visually\" id=\"sk-estimator-id-1\" type=\"checkbox\" ><label for=\"sk-estimator-id-1\" class=\"sk-toggleable__label sk-toggleable__label-arrow\">BaggingClassifier</label><div class=\"sk-toggleable__content\"><pre>BaggingClassifier(estimator=DecisionTreeClassifier(), max_features=0.5,\n",
       "                  max_samples=0.5, n_estimators=100)</pre></div></div></div><div class=\"sk-parallel\"><div class=\"sk-parallel-item\"><div class=\"sk-item\"><div class=\"sk-label-container\"><div class=\"sk-label sk-toggleable\"><input class=\"sk-toggleable__control sk-hidden--visually\" id=\"sk-estimator-id-2\" type=\"checkbox\" ><label for=\"sk-estimator-id-2\" class=\"sk-toggleable__label sk-toggleable__label-arrow\">estimator: DecisionTreeClassifier</label><div class=\"sk-toggleable__content\"><pre>DecisionTreeClassifier()</pre></div></div></div><div class=\"sk-serial\"><div class=\"sk-item\"><div class=\"sk-estimator sk-toggleable\"><input class=\"sk-toggleable__control sk-hidden--visually\" id=\"sk-estimator-id-3\" type=\"checkbox\" ><label for=\"sk-estimator-id-3\" class=\"sk-toggleable__label sk-toggleable__label-arrow\">DecisionTreeClassifier</label><div class=\"sk-toggleable__content\"><pre>DecisionTreeClassifier()</pre></div></div></div></div></div></div></div></div></div></div>"
      ],
      "text/plain": [
       "BaggingClassifier(estimator=DecisionTreeClassifier(), max_features=0.5,\n",
       "                  max_samples=0.5, n_estimators=100)"
      ]
     },
     "execution_count": 6,
     "metadata": {},
     "output_type": "execute_result"
    }
   ],
   "source": [
    "bagging.fit(X_train, y_train)\n"
   ]
  },
  {
   "attachments": {},
   "cell_type": "markdown",
   "metadata": {},
   "source": [
    "Finalmente, podemos evaluar el modelo en los datos de prueba y mostrar la precisión del modelo:"
   ]
  },
  {
   "cell_type": "code",
   "execution_count": 7,
   "metadata": {},
   "outputs": [
    {
     "name": "stdout",
     "output_type": "stream",
     "text": [
      "Precisión del modelo: 1.000\n"
     ]
    }
   ],
   "source": [
    "score = bagging.score(X_test, y_test)\n",
    "print(f\"Precisión del modelo: {score:.3f}\")\n"
   ]
  },
  {
   "attachments": {},
   "cell_type": "markdown",
   "metadata": {},
   "source": [
    "Podemos también graficar la importancia de cada característica según el modelo entrenado:"
   ]
  },
  {
   "cell_type": "code",
   "execution_count": 10,
   "metadata": {},
   "outputs": [
    {
     "data": {
      "image/png": "[encoded data removed]",
      "text/plain": [
       "<Figure size 432x288 with 1 Axes>"
      ]
     },
     "metadata": {
      "needs_background": "light"
     },
     "output_type": "display_data"
    }
   ],
   "source": [
    "importance = np.mean([tree.feature_importances_ for tree in bagging.estimators_], axis=0)\n",
    "feature_names = iris.feature_names\n",
    "sorted_idx = importance.argsort()[::-1]\n",
    "plt.bar([feature_names[i] for i in sorted_idx], [importance[i] for i in sorted_idx])\n",
    "plt.title(\"Importancia de las características en el modelo Bagging\")\n",
    "plt.xlabel(\"Característica\")\n",
    "plt.ylabel(\"Importancia\")\n",
    "plt.xticks(rotation=45)\n",
    "plt.show()\n"
   ]
  },
  {
   "attachments": {},
   "cell_type": "markdown",
   "metadata": {},
   "source": [
    "## **Explicación breve de KNN**"
   ]
  },
  {
   "attachments": {},
   "cell_type": "markdown",
   "metadata": {},
   "source": [
    "`KNN` (K-Nearest Neighbors) es un algoritmo de aprendizaje automático utilizado para la clasificación y la regresión. La idea básica detrás de `KNN` es que los objetos similares tienden a estar en la misma zona en el espacio de características."
   ]
  },
  {
   "attachments": {},
   "cell_type": "markdown",
   "metadata": {},
   "source": [
    "![KNN](../imagenes%20Machine_Learning/KNN.webp \"KNN\")"
   ]
  },
  {
   "cell_type": "code",
   "execution_count": 12,
   "metadata": {},
   "outputs": [
    {
     "data": {
      "image/png": "[encoded data removed]",
      "text/plain": [
       "<Figure size 432x288 with 1 Axes>"
      ]
     },
     "metadata": {
      "needs_background": "light"
     },
     "output_type": "display_data"
    }
   ],
   "source": [
    "import numpy as np\n",
    "import matplotlib.pyplot as plt\n",
    "from matplotlib.colors import ListedColormap\n",
    "from sklearn import datasets\n",
    "from sklearn.neighbors import KNeighborsClassifier\n",
    "\n",
    "# Cargamos el dataset Iris\n",
    "iris = datasets.load_iris()\n",
    "X = iris.data[:, :2]  # Tomamos las dos primeras características para visualizar\n",
    "y = iris.target\n",
    "\n",
    "# Entrenamos un modelo KNN con k=3\n",
    "knn = KNeighborsClassifier(n_neighbors=3)\n",
    "knn.fit(X, y)\n",
    "\n",
    "# Visualizamos los resultados\n",
    "cmap_light = ListedColormap(['#FFAAAA', '#AAFFAA', '#AAAAFF'])\n",
    "cmap_bold = ListedColormap(['#FF0000', '#00FF00', '#0000FF'])\n",
    "\n",
    "# Creamos una malla de puntos que cubra todo el espacio de características\n",
    "h = .02  # tamaño de paso en la malla\n",
    "x_min, x_max = X[:, 0].min() - 1, X[:, 0].max() + 1\n",
    "y_min, y_max = X[:, 1].min() - 1, X[:, 1].max() + 1\n",
    "xx, yy = np.meshgrid(np.arange(x_min, x_max, h), np.arange(y_min, y_max, h))\n",
    "\n",
    "# Clasificamos cada punto de la malla\n",
    "Z = knn.predict(np.c_[xx.ravel(), yy.ravel()])\n",
    "\n",
    "# Ponemos el resultado en una trama de color\n",
    "Z = Z.reshape(xx.shape)\n",
    "plt.figure()\n",
    "plt.pcolormesh(xx, yy, Z, cmap=cmap_light)\n",
    "\n",
    "# Graficamos los puntos de entrenamiento\n",
    "plt.scatter(X[:, 0], X[:, 1], c=y, cmap=cmap_bold, edgecolor='k', s=20)\n",
    "plt.xlim(xx.min(), xx.max())\n",
    "plt.ylim(yy.min(), yy.max())\n",
    "plt.title(\"KNN (k=3) - Clasificación de Iris\")\n",
    "plt.xlabel(iris.feature_names[0])\n",
    "plt.ylabel(iris.feature_names[1])\n",
    "plt.show()\n"
   ]
  },
  {
   "attachments": {},
   "cell_type": "markdown",
   "metadata": {},
   "source": [
    "## **Metamodelos Bagging**"
   ]
  },
  {
   "attachments": {},
   "cell_type": "markdown",
   "metadata": {},
   "source": [
    "Los metamodelos Bagging son un tipo de modelo de ensamblado que utilizan el método de Bagging para combinar múltiples modelos de aprendizaje automático. El objetivo de este enfoque es mejorar la precisión y la estabilidad del modelo mediante la combinación de varios modelos independientes.\n",
    "\n",
    "Un ejemplo de metamodelo Bagging es el `Random Forest`, que es un conjunto de árboles de decisión construidos a partir de subconjuntos aleatorios del conjunto de datos original. Cada árbol en el `Random Forest` se entrena de manera independiente y luego se combina para producir una predicción final.\n",
    "\n",
    "A continuación se muestra un ejemplo de cómo implementar un metamodelo Bagging utilizando `Random Forest` en Python:"
   ]
  },
  {
   "cell_type": "code",
   "execution_count": 14,
   "metadata": {},
   "outputs": [
    {
     "name": "stdout",
     "output_type": "stream",
     "text": [
      "Precisión del modelo: 94.50%\n"
     ]
    }
   ],
   "source": [
    "from sklearn.ensemble import RandomForestClassifier\n",
    "from sklearn.datasets import make_classification\n",
    "from sklearn.model_selection import train_test_split\n",
    "from sklearn.metrics import accuracy_score\n",
    "\n",
    "# generar un conjunto de datos sintético\n",
    "X, y = make_classification(n_samples=1000, n_features=10, n_informative=5, n_classes=2, random_state=42)\n",
    "\n",
    "# dividir el conjunto de datos en entrenamiento y prueba\n",
    "X_train, X_test, y_train, y_test = train_test_split(X, y, test_size=0.2, random_state=42)\n",
    "\n",
    "# construir el modelo Bagging utilizando Random Forest\n",
    "bagging = RandomForestClassifier(n_estimators=10, random_state=42)\n",
    "\n",
    "# ajustar el modelo a los datos de entrenamiento\n",
    "bagging.fit(X_train, y_train)\n",
    "\n",
    "# hacer predicciones en el conjunto de datos de prueba\n",
    "y_pred = bagging.predict(X_test)\n",
    "\n",
    "# evaluar la precisión del modelo\n",
    "accuracy = accuracy_score(y_test, y_pred)\n",
    "print(\"Precisión del modelo: {:.2f}%\".format(accuracy * 100))\n"
   ]
  },
  {
   "attachments": {},
   "cell_type": "markdown",
   "metadata": {},
   "source": [
    "El código anterior genera un conjunto de datos sintético y lo divide en conjuntos de entrenamiento y prueba. Luego, se construye un modelo Bagging utilizando `Random Forest` con 10 árboles de decisión. El modelo se ajusta a los datos de entrenamiento y se utilizan para hacer predicciones en el conjunto de datos de prueba. Finalmente, se evalúa la precisión del modelo utilizando la métrica de precisión y se muestra en pantalla.\n",
    "\n",
    "También podemos visualizar la importancia de las características en el modelo utilizando un gráfico de barras. El código para hacerlo sería el siguiente:"
   ]
  },
  {
   "cell_type": "code",
   "execution_count": 15,
   "metadata": {},
   "outputs": [
    {
     "data": {
      "image/png": "[encoded data removed]",
      "text/plain": [
       "<Figure size 432x288 with 1 Axes>"
      ]
     },
     "metadata": {
      "needs_background": "light"
     },
     "output_type": "display_data"
    }
   ],
   "source": [
    "import matplotlib.pyplot as plt\n",
    "import numpy as np\n",
    "\n",
    "# obtener la importancia de las características del modelo\n",
    "importance = bagging.feature_importances_\n",
    "\n",
    "# obtener los nombres de las características\n",
    "feature_names = ['Feature {}'.format(i) for i in range(X.shape[1])]\n",
    "\n",
    "# ordenar las características por importancia\n",
    "sorted_idx = importance.argsort()[::-1]\n",
    "\n",
    "# crear un gráfico de barras para mostrar la importancia de las características\n",
    "plt.bar(range(X.shape[1]), importance[sorted_idx])\n",
    "plt.xticks(range(X.shape[1]), np.array(feature_names)[sorted_idx], rotation=90)\n",
    "plt.title(\"Importancia de las características en el modelo Bagging\")\n",
    "plt.xlabel(\"Característica\")\n",
    "plt.ylabel(\"Importancia\")\n",
    "plt.show()\n"
   ]
  },
  {
   "attachments": {},
   "cell_type": "markdown",
   "metadata": {},
   "source": [
    "El código anterior utiliza la función ```feature_importances_``` para obtener la importancia de las características del modelo Bagging. Luego, se ordenan las características por importancia y se crea un gráfico de barras para mostrar la importancia de cada característica. La salida sería un gráfico que muestra la importancia de cada característica en el modelo, ordenadas de mayor a menor importancia"
   ]
  },
  {
   "attachments": {},
   "cell_type": "markdown",
   "metadata": {},
   "source": [
    "| **Inicio** | **atrás 16** | **Siguiente 18** |\n",
    "|----------- |-------------- |---------------|\n",
    "| [🏠](../../README.md) | [⏪](./16.Hiperparametros.ipynb)| [⏩](./18.Clustering.ipynb)|"
   ]
  }
 ],
 "metadata": {
  "kernelspec": {
   "display_name": "base",
   "language": "python",
   "name": "python3"
  },
  "language_info": {
   "codemirror_mode": {
    "name": "ipython",
    "version": 3
   },
   "file_extension": ".py",
   "mimetype": "text/x-python",
   "name": "python",
   "nbconvert_exporter": "python",
   "pygments_lexer": "ipython3",
   "version": "3.9.12"
  },
  "orig_nbformat": 4
 },
 "nbformat": 4,
 "nbformat_minor": 2
}
