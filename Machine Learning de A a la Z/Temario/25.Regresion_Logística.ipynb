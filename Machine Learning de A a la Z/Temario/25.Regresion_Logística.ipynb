{
 "cells": [
  {
   "attachments": {},
   "cell_type": "markdown",
   "metadata": {},
   "source": [
    "| **Inicio** | **atrás 24** | **Siguiente 26** |\n",
    "|----------- |-------------- |---------------|\n",
    "| [🏠](../../README.md) | [⏪](./24.Impureza_Gini.ipynb)| [⏩](./26.Matriz_Covarianza.ipynb)|"
   ]
  },
  {
   "attachments": {},
   "cell_type": "markdown",
   "metadata": {},
   "source": [
    "# **25. Regresión Logística**"
   ]
  },
  {
   "attachments": {},
   "cell_type": "markdown",
   "metadata": {},
   "source": [
    "## **Introducción**"
   ]
  },
  {
   "attachments": {},
   "cell_type": "markdown",
   "metadata": {},
   "source": [
    "![regresion logistica](../imagenes%20Machine_Learning/logis.jpg \"regresion logistica\")"
   ]
  },
  {
   "attachments": {},
   "cell_type": "markdown",
   "metadata": {},
   "source": [
    "La Regresión Logística es un algoritmo de aprendizaje supervisado utilizado para problemas de clasificación binaria, donde el objetivo es predecir la probabilidad de que una instancia pertenezca a una de dos clases posibles. La regresión logística se basa en la función sigmoidea para calcular la probabilidad de una instancia que pertenezca a la clase positiva.\n",
    "\n",
    "Aquí hay un ejemplo de Regresión Logística con código y gráfica:\n",
    "\n",
    "Supongamos que tenemos un conjunto de datos que contiene la edad de una persona y si esa persona compró o no un determinado producto. Queremos usar la regresión logística para predecir si una persona comprará o no el producto basándonos en su edad.\n",
    "\n",
    "Primero, importamos las bibliotecas necesarias y cargamos los datos:"
   ]
  },
  {
   "cell_type": "code",
   "execution_count": 1,
   "metadata": {},
   "outputs": [],
   "source": [
    "import numpy as np\n",
    "import pandas as pd\n",
    "import matplotlib.pyplot as plt\n",
    "from sklearn.linear_model import LogisticRegression\n",
    "\n",
    "# Cargamos los datos\n",
    "data = pd.DataFrame({\n",
    "    'edad': [20, 25, 30, 35, 40, 45, 50, 55, 60, 65],\n",
    "    'compró': [0, 0, 0, 0, 1, 1, 1, 1, 1, 1]\n",
    "})\n"
   ]
  },
  {
   "attachments": {},
   "cell_type": "markdown",
   "metadata": {},
   "source": [
    "Ahora, graficamos los datos para ver si hay una relación entre la edad y si una persona compró o no el producto:"
   ]
  },
  {
   "cell_type": "code",
   "execution_count": 2,
   "metadata": {},
   "outputs": [
    {
     "data": {
      "image/png": "[encoded data removed]",
      "text/plain": [
       "<Figure size 432x288 with 1 Axes>"
      ]
     },
     "metadata": {
      "needs_background": "light"
     },
     "output_type": "display_data"
    }
   ],
   "source": [
    "# Graficamos los datos\n",
    "plt.scatter(data['edad'], data['compró'])\n",
    "plt.xlabel('Edad')\n",
    "plt.ylabel('Compró')\n",
    "plt.show()\n"
   ]
  },
  {
   "attachments": {},
   "cell_type": "markdown",
   "metadata": {},
   "source": [
    "La gráfica muestra que las personas mayores son más propensas a comprar el producto que las personas más jóvenes.\n",
    "\n",
    "Ahora, ajustamos un modelo de regresión logística a los datos y trazamos la función sigmoidea resultante:"
   ]
  },
  {
   "cell_type": "code",
   "execution_count": 3,
   "metadata": {},
   "outputs": [
    {
     "data": {
      "image/png": "[encoded data removed]",
      "text/plain": [
       "<Figure size 432x288 with 1 Axes>"
      ]
     },
     "metadata": {
      "needs_background": "light"
     },
     "output_type": "display_data"
    }
   ],
   "source": [
    "# Creamos una instancia del modelo de regresión logística\n",
    "lr_model = LogisticRegression()\n",
    "\n",
    "# Entrenamos el modelo en nuestros datos\n",
    "lr_model.fit(data[['edad']], data['compró'])\n",
    "\n",
    "# Graficamos los datos y la función sigmoidea resultante\n",
    "plt.scatter(data['edad'], data['compró'])\n",
    "plt.plot(data['edad'], lr_model.predict_proba(data[['edad']])[:, 1], color='red')\n",
    "plt.xlabel('Edad')\n",
    "plt.ylabel('Compró')\n",
    "plt.show()\n"
   ]
  },
  {
   "attachments": {},
   "cell_type": "markdown",
   "metadata": {},
   "source": [
    "La gráfica muestra la función sigmoidea resultante de ajustar la regresión logística a los datos. La línea roja representa la probabilidad estimada de que una persona compre el producto en función de su edad.\n",
    "\n",
    "Con este modelo, podemos hacer predicciones sobre si una persona comprará o no el producto en función de su edad. Por ejemplo, si queremos predecir si una persona de 45 años comprará el producto, podemos hacer lo siguiente:"
   ]
  },
  {
   "cell_type": "code",
   "execution_count": 4,
   "metadata": {},
   "outputs": [
    {
     "name": "stdout",
     "output_type": "stream",
     "text": [
      "La probabilidad de que una persona de 45 años compre el producto es 1.00\n"
     ]
    },
    {
     "name": "stderr",
     "output_type": "stream",
     "text": [
      "/home/puma/anaconda3/lib/python3.9/site-packages/sklearn/base.py:439: UserWarning: X does not have valid feature names, but LogisticRegression was fitted with feature names\n",
      "  warnings.warn(\n"
     ]
    }
   ],
   "source": [
    "# Predecimos la probabilidad de que una persona de 45 años compre el producto\n",
    "edad_nueva = 45\n",
    "probabilidad = lr_model.predict_proba([[edad_nueva]])[0][1]\n",
    "\n",
    "print(f\"La probabilidad de que una persona de {edad_nueva} años compre el producto es {probabilidad:.2f}\")\n"
   ]
  },
  {
   "attachments": {},
   "cell_type": "markdown",
   "metadata": {},
   "source": [
    "## **Contexto**"
   ]
  },
  {
   "attachments": {},
   "cell_type": "markdown",
   "metadata": {},
   "source": [
    "La regresión logística es una técnica de modelado estadístico que se utiliza para analizar relaciones entre una variable dependiente binaria (0/1, sí/no, verdadero/falso) y un conjunto de variables predictoras continuas o categóricas. Se utiliza comúnmente en problemas de clasificación en los que se intenta predecir si una observación pertenece a una categoría determinada en función de sus características.\n",
    "\n",
    "Un ejemplo común de uso de regresión logística es la detección de spam en el correo electrónico. Aquí, la variable dependiente sería si el correo electrónico es spam o no (1 si es spam, 0 si no lo es), y las variables predictoras podrían incluir características como el remitente, la línea de asunto, el contenido del mensaje, etc.\n",
    "\n",
    "Otro ejemplo es el análisis de crédito, donde la variable dependiente podría ser si un cliente es un buen pagador o no (1 si es un buen pagador, 0 si no lo es), y las variables predictoras podrían incluir el historial crediticio del cliente, su ingreso, su empleo, etc.\n",
    "\n",
    "En resumen, la regresión logística se utiliza en una amplia gama de aplicaciones en las que se busca predecir la probabilidad de pertenecer a una clase determinada en función de las características del objeto de estudio."
   ]
  },
  {
   "attachments": {},
   "cell_type": "markdown",
   "metadata": {},
   "source": [
    "## **Función logística estándar**"
   ]
  },
  {
   "attachments": {},
   "cell_type": "markdown",
   "metadata": {},
   "source": [
    "La función logística estándar es una función matemática que se utiliza en la regresión logística para modelar la probabilidad de que un evento ocurra. Su fórmula es:\n",
    "​\n",
    " $$\n",
    "\\sigma(x) = \\frac{1}{1+e^{-x}}\n",
    "$$\n",
    "\n",
    "\n",
    "Donde $x$ es una variable de entrada. Esta función tiene un rango de salida entre 0 y 1, lo que la hace adecuada para modelar probabilidades.\n",
    "\n",
    "A continuación, se presenta un ejemplo de cómo graficar la función logística estándar utilizando Python y la biblioteca Matplotlib:"
   ]
  },
  {
   "cell_type": "code",
   "execution_count": 5,
   "metadata": {},
   "outputs": [
    {
     "data": {
      "image/png": "[encoded data removed]",
      "text/plain": [
       "<Figure size 432x288 with 1 Axes>"
      ]
     },
     "metadata": {
      "needs_background": "light"
     },
     "output_type": "display_data"
    }
   ],
   "source": [
    "import numpy as np\n",
    "import matplotlib.pyplot as plt\n",
    "\n",
    "# Definir la función logística estándar\n",
    "def logistic_function(x):\n",
    "    return 1 / (1 + np.exp(-x))\n",
    "\n",
    "# Crear valores de x en un rango de -10 a 10\n",
    "x = np.linspace(-10, 10, 1000)\n",
    "\n",
    "# Calcular los valores de la función logística estándar para cada valor de x\n",
    "y = logistic_function(x)\n",
    "\n",
    "# Graficar la función logística estándar\n",
    "plt.plot(x, y)\n",
    "plt.title(\"Función Logística Estándar\")\n",
    "plt.xlabel(\"x\")\n",
    "plt.ylabel(\"f(x)\")\n",
    "plt.show()\n"
   ]
  },
  {
   "attachments": {},
   "cell_type": "markdown",
   "metadata": {},
   "source": [
    "La gráfica muestra que la función logística estándar tiene una forma en \"S\", donde la salida se acerca a 0 cuando $x$ tiende a $-\\infty$ y la salida se acerca a 1 cuando $x$ tiende a $\\infty$. La función también es diferenciable en cualquier punto, lo que es útil para la optimización de parámetros en la regresión logística."
   ]
  },
  {
   "attachments": {},
   "cell_type": "markdown",
   "metadata": {},
   "source": [
    "## **Máxima verosimilitud**"
   ]
  },
  {
   "attachments": {},
   "cell_type": "markdown",
   "metadata": {},
   "source": [
    "La máxima verosimilitud es una técnica utilizada en la regresión logística para estimar los parámetros del modelo. La idea detrás de la máxima verosimilitud es encontrar los valores de los parámetros que maximizan la probabilidad de observar los datos que tenemos.\n"
   ]
  },
  {
   "cell_type": "code",
   "execution_count": 6,
   "metadata": {},
   "outputs": [
    {
     "name": "stderr",
     "output_type": "stream",
     "text": [
      "/home/puma/anaconda3/lib/python3.9/site-packages/statsmodels/discrete/discrete_model.py:1819: RuntimeWarning: overflow encountered in exp\n",
      "  return 1/(1+np.exp(-X))\n",
      "/home/puma/anaconda3/lib/python3.9/site-packages/statsmodels/base/model.py:604: ConvergenceWarning: Maximum Likelihood optimization failed to converge. Check mle_retvals\n",
      "  warnings.warn(\"Maximum Likelihood optimization failed to \"\n",
      "/home/puma/anaconda3/lib/python3.9/site-packages/statsmodels/discrete/discrete_model.py:1819: RuntimeWarning: overflow encountered in exp\n",
      "  return 1/(1+np.exp(-X))\n"
     ]
    },
    {
     "name": "stdout",
     "output_type": "stream",
     "text": [
      "Warning: Maximum number of iterations has been exceeded.\n",
      "         Current function value: 0.000000\n",
      "         Iterations: 35\n",
      "                           Logit Regression Results                           \n",
      "==============================================================================\n",
      "Dep. Variable:                      y   No. Observations:                  100\n",
      "Model:                          Logit   Df Residuals:                       98\n",
      "Method:                           MLE   Df Model:                            1\n",
      "Date:                Tue, 28 Mar 2023   Pseudo R-squ.:                   1.000\n",
      "Time:                        12:06:20   Log-Likelihood:            -3.0627e-08\n",
      "converged:                      False   LL-Null:                       -68.994\n",
      "Covariance Type:            nonrobust   LLR p-value:                 7.329e-32\n",
      "==============================================================================\n",
      "                 coef    std err          z      P>|z|      [0.025      0.975]\n",
      "------------------------------------------------------------------------------\n",
      "const          8.1062   6267.036      0.001      0.999   -1.23e+04    1.23e+04\n",
      "x1          1933.7842   6.14e+05      0.003      0.997    -1.2e+06    1.21e+06\n",
      "==============================================================================\n",
      "\n",
      "Complete Separation: The results show that there iscomplete separation.\n",
      "In this case the Maximum Likelihood Estimator does not exist and the parameters\n",
      "are not identified.\n"
     ]
    },
    {
     "data": {
      "image/png": "[encoded data removed]",
      "text/plain": [
       "<Figure size 432x288 with 1 Axes>"
      ]
     },
     "metadata": {
      "needs_background": "light"
     },
     "output_type": "display_data"
    }
   ],
   "source": [
    "import numpy as np\n",
    "import pandas as pd\n",
    "import matplotlib.pyplot as plt\n",
    "import statsmodels.api as sm\n",
    "\n",
    "# Generar datos de ejemplo\n",
    "np.random.seed(42)\n",
    "n = 100\n",
    "x = np.random.normal(size=n)\n",
    "y = (x > 0).astype(int)\n",
    "\n",
    "# Ajustar un modelo de regresión logística\n",
    "x = sm.add_constant(x) # añadir columna de unos para el intercepto\n",
    "model = sm.Logit(y, x).fit()\n",
    "\n",
    "# Imprimir los resultados del modelo\n",
    "print(model.summary())\n",
    "\n",
    "# Graficar los datos y la curva ajustada por el modelo\n",
    "plt.scatter(x[:, 1], y)\n",
    "x_plot = np.linspace(-3, 3, 100)\n",
    "x_plot = sm.add_constant(x_plot)\n",
    "y_plot = model.predict(x_plot)\n",
    "plt.plot(x_plot[:, 1], y_plot, color='red')\n",
    "plt.xlabel('X')\n",
    "plt.ylabel('Y')\n",
    "plt.show()\n"
   ]
  },
  {
   "attachments": {},
   "cell_type": "markdown",
   "metadata": {},
   "source": [
    "Este código genera datos de ejemplo de una variable predictora ```x``` y una variable de respuesta binaria ```y```. A continuación, se ajusta un modelo de regresión logística a los datos utilizando el método Logit de ```statsmodels```. Se imprime un resumen de los resultados del modelo utilizando el método ```summary```, que muestra información como los coeficientes de la regresión y el valor de la devianza. Finalmente, se grafican los datos y la curva ajustada por el modelo utilizando la función ```scatter``` y ```plot```, respectivamente."
   ]
  },
  {
   "attachments": {},
   "cell_type": "markdown",
   "metadata": {},
   "source": [
    "## **Creación del modelo con Scikit-Learn**"
   ]
  },
  {
   "attachments": {},
   "cell_type": "markdown",
   "metadata": {},
   "source": [
    "Primero, cargamos las librerías necesarias y los datos que vamos a utilizar. Para este ejemplo, utilizaremos el conjunto de datos \"Iris\", que es un conjunto de datos clásico en el aprendizaje automático."
   ]
  },
  {
   "cell_type": "code",
   "execution_count": 7,
   "metadata": {},
   "outputs": [],
   "source": [
    "import numpy as np\n",
    "import pandas as pd\n",
    "import seaborn as sns\n",
    "import matplotlib.pyplot as plt\n",
    "from sklearn.datasets import load_iris\n",
    "from sklearn.linear_model import LogisticRegression\n",
    "from sklearn.model_selection import train_test_split\n",
    "from sklearn.metrics import classification_report, confusion_matrix\n",
    "\n",
    "# Cargamos los datos\n",
    "iris = load_iris()\n",
    "X = iris.data\n",
    "y = iris.target\n"
   ]
  },
  {
   "attachments": {},
   "cell_type": "markdown",
   "metadata": {},
   "source": [
    "A continuación, dividimos los datos en un conjunto de entrenamiento y un conjunto de prueba:"
   ]
  },
  {
   "cell_type": "code",
   "execution_count": 8,
   "metadata": {},
   "outputs": [],
   "source": [
    "# Dividimos los datos en un conjunto de entrenamiento y un conjunto de prueba\n",
    "X_train, X_test, y_train, y_test = train_test_split(X, y, test_size=0.3, random_state=42)\n"
   ]
  },
  {
   "attachments": {},
   "cell_type": "markdown",
   "metadata": {},
   "source": [
    "A continuación, creamos el modelo de regresión logística y lo ajustamos a los datos de entrenamiento:"
   ]
  },
  {
   "cell_type": "code",
   "execution_count": 9,
   "metadata": {},
   "outputs": [
    {
     "data": {
      "text/html": [
       "<style>#sk-container-id-1 {color: black;background-color: white;}#sk-container-id-1 pre{padding: 0;}#sk-container-id-1 div.sk-toggleable {background-color: white;}#sk-container-id-1 label.sk-toggleable__label {cursor: pointer;display: block;width: 100%;margin-bottom: 0;padding: 0.3em;box-sizing: border-box;text-align: center;}#sk-container-id-1 label.sk-toggleable__label-arrow:before {content: \"▸\";float: left;margin-right: 0.25em;color: #696969;}#sk-container-id-1 label.sk-toggleable__label-arrow:hover:before {color: black;}#sk-container-id-1 div.sk-estimator:hover label.sk-toggleable__label-arrow:before {color: black;}#sk-container-id-1 div.sk-toggleable__content {max-height: 0;max-width: 0;overflow: hidden;text-align: left;background-color: #f0f8ff;}#sk-container-id-1 div.sk-toggleable__content pre {margin: 0.2em;color: black;border-radius: 0.25em;background-color: #f0f8ff;}#sk-container-id-1 input.sk-toggleable__control:checked~div.sk-toggleable__content {max-height: 200px;max-width: 100%;overflow: auto;}#sk-container-id-1 input.sk-toggleable__control:checked~label.sk-toggleable__label-arrow:before {content: \"▾\";}#sk-container-id-1 div.sk-estimator input.sk-toggleable__control:checked~label.sk-toggleable__label {background-color: #d4ebff;}#sk-container-id-1 div.sk-label input.sk-toggleable__control:checked~label.sk-toggleable__label {background-color: #d4ebff;}#sk-container-id-1 input.sk-hidden--visually {border: 0;clip: rect(1px 1px 1px 1px);clip: rect(1px, 1px, 1px, 1px);height: 1px;margin: -1px;overflow: hidden;padding: 0;position: absolute;width: 1px;}#sk-container-id-1 div.sk-estimator {font-family: monospace;background-color: #f0f8ff;border: 1px dotted black;border-radius: 0.25em;box-sizing: border-box;margin-bottom: 0.5em;}#sk-container-id-1 div.sk-estimator:hover {background-color: #d4ebff;}#sk-container-id-1 div.sk-parallel-item::after {content: \"\";width: 100%;border-bottom: 1px solid gray;flex-grow: 1;}#sk-container-id-1 div.sk-label:hover label.sk-toggleable__label {background-color: #d4ebff;}#sk-container-id-1 div.sk-serial::before {content: \"\";position: absolute;border-left: 1px solid gray;box-sizing: border-box;top: 0;bottom: 0;left: 50%;z-index: 0;}#sk-container-id-1 div.sk-serial {display: flex;flex-direction: column;align-items: center;background-color: white;padding-right: 0.2em;padding-left: 0.2em;position: relative;}#sk-container-id-1 div.sk-item {position: relative;z-index: 1;}#sk-container-id-1 div.sk-parallel {display: flex;align-items: stretch;justify-content: center;background-color: white;position: relative;}#sk-container-id-1 div.sk-item::before, #sk-container-id-1 div.sk-parallel-item::before {content: \"\";position: absolute;border-left: 1px solid gray;box-sizing: border-box;top: 0;bottom: 0;left: 50%;z-index: -1;}#sk-container-id-1 div.sk-parallel-item {display: flex;flex-direction: column;z-index: 1;position: relative;background-color: white;}#sk-container-id-1 div.sk-parallel-item:first-child::after {align-self: flex-end;width: 50%;}#sk-container-id-1 div.sk-parallel-item:last-child::after {align-self: flex-start;width: 50%;}#sk-container-id-1 div.sk-parallel-item:only-child::after {width: 0;}#sk-container-id-1 div.sk-dashed-wrapped {border: 1px dashed gray;margin: 0 0.4em 0.5em 0.4em;box-sizing: border-box;padding-bottom: 0.4em;background-color: white;}#sk-container-id-1 div.sk-label label {font-family: monospace;font-weight: bold;display: inline-block;line-height: 1.2em;}#sk-container-id-1 div.sk-label-container {text-align: center;}#sk-container-id-1 div.sk-container {/* jupyter's `normalize.less` sets `[hidden] { display: none; }` but bootstrap.min.css set `[hidden] { display: none !important; }` so we also need the `!important` here to be able to override the default hidden behavior on the sphinx rendered scikit-learn.org. See: https://github.com/scikit-learn/scikit-learn/issues/21755 */display: inline-block !important;position: relative;}#sk-container-id-1 div.sk-text-repr-fallback {display: none;}</style><div id=\"sk-container-id-1\" class=\"sk-top-container\"><div class=\"sk-text-repr-fallback\"><pre>LogisticRegression()</pre><b>In a Jupyter environment, please rerun this cell to show the HTML representation or trust the notebook. <br />On GitHub, the HTML representation is unable to render, please try loading this page with nbviewer.org.</b></div><div class=\"sk-container\" hidden><div class=\"sk-item\"><div class=\"sk-estimator sk-toggleable\"><input class=\"sk-toggleable__control sk-hidden--visually\" id=\"sk-estimator-id-1\" type=\"checkbox\" checked><label for=\"sk-estimator-id-1\" class=\"sk-toggleable__label sk-toggleable__label-arrow\">LogisticRegression</label><div class=\"sk-toggleable__content\"><pre>LogisticRegression()</pre></div></div></div></div></div>"
      ],
      "text/plain": [
       "LogisticRegression()"
      ]
     },
     "execution_count": 9,
     "metadata": {},
     "output_type": "execute_result"
    }
   ],
   "source": [
    "# Creamos el modelo de regresión logística y lo ajustamos a los datos de entrenamiento\n",
    "lr = LogisticRegression()\n",
    "lr.fit(X_train, y_train)\n"
   ]
  },
  {
   "attachments": {},
   "cell_type": "markdown",
   "metadata": {},
   "source": [
    "Una vez que hemos ajustado el modelo, podemos utilizarlo para hacer predicciones sobre los datos de prueba y evaluar su precisión utilizando una matriz de confusión y un informe de clasificación:"
   ]
  },
  {
   "cell_type": "code",
   "execution_count": 10,
   "metadata": {},
   "outputs": [
    {
     "name": "stdout",
     "output_type": "stream",
     "text": [
      "[[19  0  0]\n",
      " [ 0 13  0]\n",
      " [ 0  0 13]]\n",
      "              precision    recall  f1-score   support\n",
      "\n",
      "           0       1.00      1.00      1.00        19\n",
      "           1       1.00      1.00      1.00        13\n",
      "           2       1.00      1.00      1.00        13\n",
      "\n",
      "    accuracy                           1.00        45\n",
      "   macro avg       1.00      1.00      1.00        45\n",
      "weighted avg       1.00      1.00      1.00        45\n",
      "\n"
     ]
    }
   ],
   "source": [
    "# Hacemos predicciones sobre los datos de prueba y evaluamos el modelo\n",
    "y_pred = lr.predict(X_test)\n",
    "\n",
    "print(confusion_matrix(y_test, y_pred))\n",
    "print(classification_report(y_test, y_pred))\n"
   ]
  },
  {
   "attachments": {},
   "cell_type": "markdown",
   "metadata": {},
   "source": [
    "Finalmente, podemos visualizar los resultados utilizando un gráfico de dispersión:"
   ]
  },
  {
   "cell_type": "code",
   "execution_count": 11,
   "metadata": {},
   "outputs": [
    {
     "data": {
      "image/png": "[encoded data removed]",
      "text/plain": [
       "<Figure size 432x288 with 1 Axes>"
      ]
     },
     "metadata": {
      "needs_background": "light"
     },
     "output_type": "display_data"
    }
   ],
   "source": [
    "# Visualizamos los resultados utilizando un gráfico de dispersión\n",
    "sns.scatterplot(x=X[:,0], y=X[:,1], hue=iris.target_names[y])\n",
    "plt.xlabel('Longitud del sépalo')\n",
    "plt.ylabel('Anchura del sépalo')\n",
    "plt.show()\n"
   ]
  },
  {
   "attachments": {},
   "cell_type": "markdown",
   "metadata": {},
   "source": [
    "## **Suposiciones**"
   ]
  },
  {
   "attachments": {},
   "cell_type": "markdown",
   "metadata": {},
   "source": [
    "La Regresión Logística tiene algunas suposiciones que deben cumplirse para que el modelo sea válido y las predicciones sean precisas. Estas suposiciones son:\n",
    "\n",
    "**1. Linealidad:** La relación entre la variable independiente y la logit transformada de la variable dependiente debe ser lineal.\n",
    "\n",
    "**2. Independencia:** Las observaciones deben ser independientes entre sí.\n",
    "\n",
    "**3. Homogeneidad de la varianza:** La varianza de los errores debe ser constante en todas las observaciones.\n",
    "\n",
    "**4. Ausencia de valores atípicos:** No debe haber valores atípicos en los datos.\n",
    "\n",
    "Un ejemplo de cómo comprobar estas suposiciones es a través de un gráfico de residuos estandarizados. Si los residuos están distribuidos aleatoriamente alrededor de cero y la varianza es constante, se cumple la suposición de linealidad e independencia. Si la varianza de los residuos no es constante, puede haber un problema de heterocedasticidad. Si hay valores atípicos, los residuos estandarizados serán mayores que 3 o menores que -3.\n",
    "\n",
    "A continuación, se presenta un ejemplo de cómo comprobar la suposición de linealidad e independencia a través de un gráfico de residuos estandarizados con el conjunto de datos del ejemplo anterior:"
   ]
  },
  {
   "cell_type": "code",
   "execution_count": 12,
   "metadata": {},
   "outputs": [
    {
     "data": {
      "image/png": "[encoded data removed]",
      "text/plain": [
       "<Figure size 432x288 with 1 Axes>"
      ]
     },
     "metadata": {
      "needs_background": "light"
     },
     "output_type": "display_data"
    }
   ],
   "source": [
    "import matplotlib.pyplot as plt\n",
    "from sklearn.linear_model import LogisticRegression\n",
    "from sklearn.datasets import make_classification\n",
    "from sklearn.model_selection import train_test_split\n",
    "\n",
    "# Crear datos de ejemplo\n",
    "X, y = make_classification(n_samples=1000, n_features=4, random_state=42)\n",
    "\n",
    "# Dividir los datos en conjunto de entrenamiento y conjunto de prueba\n",
    "X_train, X_test, y_train, y_test = train_test_split(X, y, test_size=0.2, random_state=42)\n",
    "\n",
    "# Crear modelo de regresión logística\n",
    "model = LogisticRegression()\n",
    "\n",
    "# Ajustar el modelo a los datos de entrenamiento\n",
    "model.fit(X_train, y_train)\n",
    "\n",
    "# Predecir el conjunto de prueba\n",
    "y_pred = model.predict(X_test)\n",
    "\n",
    "# Calcular los residuos estandarizados\n",
    "residuos = y_test - y_pred\n",
    "residuos_estandarizados = (residuos - np.mean(residuos)) / np.std(residuos)\n",
    "\n",
    "# Graficar los residuos estandarizados\n",
    "plt.scatter(y_pred, residuos_estandarizados)\n",
    "plt.axhline(y=0, color='r', linestyle='-')\n",
    "plt.xlabel('Predicciones')\n",
    "plt.ylabel('Residuos estandarizados')\n",
    "plt.title('Gráfico de residuos estandarizados')\n",
    "plt.show()\n"
   ]
  },
  {
   "attachments": {},
   "cell_type": "markdown",
   "metadata": {},
   "source": [
    "Este código genera un gráfico de residuos estandarizados que muestra que los residuos están distribuidos aleatoriamente alrededor de cero, lo que sugiere que se cumple la suposición de linealidad e independencia.\n",
    "\n",
    "Es importante comprobar estas suposiciones antes de utilizar la Regresión Logística para predecir datos nuevos, ya que las predicciones pueden ser imprecisas si estas suposiciones no se cumplen."
   ]
  },
  {
   "attachments": {},
   "cell_type": "markdown",
   "metadata": {},
   "source": [
    "| **Inicio** | **atrás 24** | **Siguiente 26** |\n",
    "|----------- |-------------- |---------------|\n",
    "| [🏠](../../README.md) | [⏪](./24.Impureza_Gini.ipynb)| [⏩](./26.Matriz_Covarianza.ipynb)|"
   ]
  }
 ],
 "metadata": {
  "kernelspec": {
   "display_name": "base",
   "language": "python",
   "name": "python3"
  },
  "language_info": {
   "codemirror_mode": {
    "name": "ipython",
    "version": 3
   },
   "file_extension": ".py",
   "mimetype": "text/x-python",
   "name": "python",
   "nbconvert_exporter": "python",
   "pygments_lexer": "ipython3",
   "version": "3.9.12"
  },
  "orig_nbformat": 4
 },
 "nbformat": 4,
 "nbformat_minor": 2
}
