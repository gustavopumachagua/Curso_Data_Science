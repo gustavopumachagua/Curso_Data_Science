{
 "cells": [
  {
   "attachments": {},
   "cell_type": "markdown",
   "metadata": {},
   "source": [
    "| **Inicio** | **atrás 23** | **Siguiente 25** |\n",
    "|----------- |-------------- |---------------|\n",
    "| [🏠](../../README.md) | [⏪](./23.K-means.ipynb)| [⏩](./25.Regresion_Log%C3%ADstica.ipynb)|"
   ]
  },
  {
   "attachments": {},
   "cell_type": "markdown",
   "metadata": {},
   "source": [
    "# **24. Impureza Gini**"
   ]
  },
  {
   "attachments": {},
   "cell_type": "markdown",
   "metadata": {},
   "source": [
    "## **Introducción**"
   ]
  },
  {
   "attachments": {},
   "cell_type": "markdown",
   "metadata": {},
   "source": [
    "La Impureza Gini es una medida utilizada en el árbol de decisiones para evaluar la calidad de una división en un conjunto de datos. Se calcula como la suma de la probabilidad de que un elemento pertenezca a una clase incorrecta, ponderada por la probabilidad de esa clase en el conjunto de datos.\n",
    "\n",
    "Matemáticamente, la Impureza Gini se define como:\n",
    "\n",
    "$Gini = 1 - ∑(i=1 to C) [p(i)^2]$\n",
    "\n",
    "**Donde:**\n",
    "\n",
    "* ```C``` es el número de clases\n",
    "* ```p(i)``` es la proporción de la clase `i` en el conjunto de datos\n",
    "\n",
    "Esta fórmula se utiliza para calcular la impureza de Gini en el contexto del árbol de decisión en Machine Learning. La impureza de Gini mide la probabilidad de que una muestra sea clasificada incorrectamente si se clasifica al azar según la distribución de las clases en el conjunto de datos. Cuanto más pequeña sea la impureza de Gini, más homogéneo será el conjunto de datos."
   ]
  },
  {
   "attachments": {},
   "cell_type": "markdown",
   "metadata": {},
   "source": [
    "La Impureza Gini es una medida utilizada en Machine Learning para evaluar la calidad de una división en un conjunto de datos en el contexto de árboles de decisión.\n",
    "\n",
    "En términos generales, la Impureza Gini mide qué tan homogéneo o impuro es un conjunto de datos. Una impureza de Gini baja indica que los elementos en un grupo son muy similares en términos de la variable objetivo que se está prediciendo. Por lo tanto, se espera que un modelo de árbol de decisión use una división que resulte en una impureza de Gini más baja.\n",
    "\n",
    "Por ejemplo, supongamos que queremos predecir si un cliente compra o no un producto en función de su edad y salario. Tenemos un conjunto de datos que contiene información de 500 clientes. La tabla a continuación muestra la distribución de las clases de compra y no compra para diferentes valores de edad y salario:\n",
    "\n",
    "```\n",
    "Edad\tSalario\t       Compra\t    No Compra\n",
    "20\t  20,000\t 20\t        10\n",
    "20\t  30,000\t 40\t        10\n",
    "30\t  20,000\t 10\t        40\n",
    "30\t  30,000\t 30\t        20\n",
    "```\n",
    "\n",
    "Para decidir cuál es la mejor variable para hacer la primera división en el árbol de decisión, podemos calcular la impureza de Gini para cada variable. Supongamos que usamos la variable de edad como la primera variable de división. Podemos calcular la impureza de Gini para cada rama:\n",
    "\n",
    "* Para la rama donde la edad es igual o menor a 20:\n",
    "\n",
    "$Gini = 1 - [(20/30)^2 + (10/30)^2] = 0.444$\n",
    "\n",
    "* Para la rama donde la edad es mayor a 20:\n",
    "\n",
    "$Gini = 1 - [(50/470)^2 + (420/470)^2] = 0.165$\n",
    "\n",
    "En este caso, la impureza de Gini es menor para la rama donde la edad es mayor a 20, por lo que se consideraría una mejor división inicial para el árbol de decisión. De esta manera, se continuaría dividiendo el conjunto de datos en ramas más pequeñas hasta obtener hojas puras o casi puras."
   ]
  },
  {
   "attachments": {},
   "cell_type": "markdown",
   "metadata": {},
   "source": [
    "## **Interpretación de la Impureza Gini**"
   ]
  },
  {
   "attachments": {},
   "cell_type": "markdown",
   "metadata": {},
   "source": [
    "Para interpretar la Impureza Gini en un ejemplo con un dataframe, primero necesitamos entender que la Impureza Gini es una medida utilizada en Machine Learning para evaluar la calidad de una división en un conjunto de datos en el contexto de árboles de decisión.\n",
    "\n",
    "Supongamos que tenemos un conjunto de datos con una variable objetivo `\"Target\"` que tiene dos clases, `\"A\"` y `\"B\"`. Podemos calcular la Impureza Gini de la variable `\"Target\"` utilizando la siguiente fórmula:\n",
    "\n",
    "$Gini = 1 - (p(A)^2 + p(B)^2)$\n",
    "\n",
    "**Donde:** ```p(A)``` es la proporción de la clase `\"A\"` en el conjunto de datos y ```p(B)``` es la proporción de la clase `\"B\"` en el conjunto de datos.\n",
    "\n",
    "Por ejemplo, consideremos el siguiente dataframe con la variable `\"Target\"`:"
   ]
  },
  {
   "cell_type": "code",
   "execution_count": 1,
   "metadata": {},
   "outputs": [],
   "source": [
    "import pandas as pd\n",
    "\n",
    "data = {'Feature': ['A', 'A', 'B', 'B', 'B', 'B', 'A', 'B', 'A', 'B'],\n",
    "        'Target': ['A', 'A', 'A', 'B', 'B', 'B', 'A', 'B', 'A', 'A']}\n",
    "df = pd.DataFrame(data)"
   ]
  },
  {
   "attachments": {},
   "cell_type": "markdown",
   "metadata": {},
   "source": [
    "La distribución de las clases `\"A\"` y `\"B\"` en la variable `\"Target\"` es la siguiente:"
   ]
  },
  {
   "attachments": {},
   "cell_type": "markdown",
   "metadata": {},
   "source": [
    "```\n",
    "Class A: 4/10 = 0.4\n",
    "Class B: 6/10 = 0.6\n",
    "\n",
    "```"
   ]
  },
  {
   "attachments": {},
   "cell_type": "markdown",
   "metadata": {},
   "source": [
    "Podemos calcular la Impureza Gini de la variable `\"Target\"` utilizando la fórmula anterior:"
   ]
  },
  {
   "attachments": {},
   "cell_type": "markdown",
   "metadata": {},
   "source": [
    "\n",
    "$Gini = 1 - (0.4^2 + 0.6^2) = 0.48$"
   ]
  },
  {
   "attachments": {},
   "cell_type": "markdown",
   "metadata": {},
   "source": [
    "La Impureza Gini es de 0.48, lo que indica que el conjunto de datos es moderadamente impuro. Es decir, hay una probabilidad moderada de que una muestra sea clasificada incorrectamente si se clasifica al azar según la distribución de las clases en el conjunto de datos.\n",
    "\n",
    "En resumen, la Impureza Gini es una medida importante en Machine Learning para evaluar la calidad de una división en un conjunto de datos. Una impureza de Gini baja indica que los elementos en un grupo son muy similares en términos de la variable objetivo que se está prediciendo."
   ]
  },
  {
   "attachments": {},
   "cell_type": "markdown",
   "metadata": {},
   "source": [
    "La Impureza Gini es una medida de la homogeneidad o impureza de un conjunto de datos utilizado en Machine Learning. Puede ser utilizada en el contexto de árboles de decisión para evaluar la calidad de una división en un conjunto de datos.\n",
    "\n",
    "Supongamos que tenemos un conjunto de datos con una variable objetivo binaria ```y``` y dos variables predictoras ```x1``` y ```x2```, y queremos evaluar la impureza de Gini para decidir qué variable usar como primera división en un árbol de decisión. Podemos calcular la impureza de Gini para cada variable de la siguiente manera:"
   ]
  },
  {
   "cell_type": "code",
   "execution_count": 4,
   "metadata": {},
   "outputs": [
    {
     "name": "stdout",
     "output_type": "stream",
     "text": [
      "Gini impurity of x1: 0.533\n",
      "Gini impurity of x2: 0.500\n"
     ]
    }
   ],
   "source": [
    "import pandas as pd\n",
    "\n",
    "data = pd.DataFrame({\n",
    "    'x1': [1, 1, 1, 0, 0, 0, 1, 1],\n",
    "    'x2': [0, 0, 1, 1, 1, 0, 1, 0],\n",
    "    'y': [0, 0, 0, 0, 1, 1, 1, 1]\n",
    "})\n",
    "\n",
    "def gini_impurity(data, feature_col, target_col):\n",
    "    gini = 0.0\n",
    "    values = data[feature_col].unique()\n",
    "    for value in values:\n",
    "        subset = data[data[feature_col] == value]\n",
    "        proportion = len(subset) / float(len(data))\n",
    "        gini += proportion * sum(map(lambda x: (len(subset[subset[target_col] == x]) / float(len(subset)))**2, subset[target_col].unique()))\n",
    "    return gini\n",
    "\n",
    "gini_x1 = gini_impurity(data, 'x1', 'y')\n",
    "gini_x2 = gini_impurity(data, 'x2', 'y')\n",
    "\n",
    "print(f\"Gini impurity of x1: {gini_x1:.3f}\")\n",
    "print(f\"Gini impurity of x2: {gini_x2:.3f}\")"
   ]
  },
  {
   "attachments": {},
   "cell_type": "markdown",
   "metadata": {},
   "source": [
    "En este ejemplo, el conjunto de datos tiene 8 filas y 3 columnas, donde ```x1``` y ```x2``` son variables predictoras binarias y ```y``` es la variable objetivo binaria. La función ```gini_impurity``` calcula la impureza de Gini para una variable dada utilizando la fórmula matemática. La salida del código es:"
   ]
  },
  {
   "attachments": {},
   "cell_type": "markdown",
   "metadata": {},
   "source": [
    "```\n",
    "Gini impurity of x1: 0.533\n",
    "Gini impurity of x2: 0.500\n",
    "\n",
    "```"
   ]
  },
  {
   "attachments": {},
   "cell_type": "markdown",
   "metadata": {},
   "source": [
    "Ambas variables tienen la misma impureza de Gini, por lo que podríamos elegir cualquiera de ellas como la primera variable de división en el árbol de decisión."
   ]
  },
  {
   "attachments": {},
   "cell_type": "markdown",
   "metadata": {},
   "source": [
    "## **Impureza Gini paso a paso**"
   ]
  },
  {
   "attachments": {},
   "cell_type": "markdown",
   "metadata": {},
   "source": [
    "Supongamos que tienes un conjunto de datos que contiene información sobre el género y la edad de un grupo de personas, y también si tienen o no un préstamo pendiente. Quieres evaluar la impureza Gini de la variable \"género\" para decidir si es una buena variable para usar en un modelo de aprendizaje automático.\n",
    "\n",
    "Aquí está el conjunto de datos de ejemplo:"
   ]
  },
  {
   "cell_type": "code",
   "execution_count": 5,
   "metadata": {},
   "outputs": [],
   "source": [
    "import pandas as pd\n",
    "\n",
    "data = pd.DataFrame({\n",
    "    'Gender': ['M', 'F', 'M', 'M', 'F', 'F', 'M', 'F', 'M', 'M', 'F', 'F'],\n",
    "    'Age': [28, 33, 21, 45, 19, 39, 31, 27, 22, 48, 25, 36],\n",
    "    'Loan': [0, 1, 0, 1, 1, 0, 1, 1, 0, 1, 0, 1]\n",
    "})"
   ]
  },
  {
   "attachments": {},
   "cell_type": "markdown",
   "metadata": {},
   "source": [
    "Primero, calcula la proporción de muestras que pertenecen a cada género:"
   ]
  },
  {
   "cell_type": "code",
   "execution_count": 6,
   "metadata": {},
   "outputs": [],
   "source": [
    "gender_counts = data['Gender'].value_counts()\n",
    "total_count = len(data)\n",
    "\n",
    "male_proportion = gender_counts['M'] / total_count\n",
    "female_proportion = gender_counts['F'] / total_count"
   ]
  },
  {
   "attachments": {},
   "cell_type": "markdown",
   "metadata": {},
   "source": [
    "Luego, para cada género, calcula la proporción de muestras que tienen un préstamo pendiente:"
   ]
  },
  {
   "cell_type": "code",
   "execution_count": 7,
   "metadata": {},
   "outputs": [],
   "source": [
    "male_loan_counts = data[data['Gender'] == 'M']['Loan'].value_counts()\n",
    "male_loan_proportion = male_loan_counts[1] / sum(male_loan_counts)\n",
    "\n",
    "female_loan_counts = data[data['Gender'] == 'F']['Loan'].value_counts()\n",
    "female_loan_proportion = female_loan_counts[1] / sum(female_loan_counts)"
   ]
  },
  {
   "attachments": {},
   "cell_type": "markdown",
   "metadata": {},
   "source": [
    "Finalmente, calcula la impureza Gini para la variable \"género\" utilizando la fórmula:"
   ]
  },
  {
   "cell_type": "code",
   "execution_count": 9,
   "metadata": {},
   "outputs": [
    {
     "name": "stdout",
     "output_type": "stream",
     "text": [
      "Gini impurity of Gender: 0.027777777777777762\n"
     ]
    }
   ],
   "source": [
    "gini_gender = 1 - male_proportion**2 - female_proportion**2 - male_loan_proportion * (1 - male_loan_proportion) - female_loan_proportion * (1 - female_loan_proportion)\n",
    "\n",
    "print(\"Gini impurity of Gender:\", gini_gender)"
   ]
  },
  {
   "cell_type": "code",
   "execution_count": 10,
   "metadata": {},
   "outputs": [
    {
     "name": "stdout",
     "output_type": "stream",
     "text": [
      "   x1  x2  y\n",
      "0   1   0  0\n",
      "1   1   0  0\n",
      "2   1   1  0\n",
      "3   0   1  0\n",
      "4   0   1  1\n",
      "5   0   0  1\n",
      "6   1   1  1\n",
      "7   1   0  1\n"
     ]
    }
   ],
   "source": [
    "import pandas as pd\n",
    "\n",
    "data = pd.DataFrame({\n",
    "    'x1': [1, 1, 1, 0, 0, 0, 1, 1],\n",
    "    'x2': [0, 0, 1, 1, 1, 0, 1, 0],\n",
    "    'y': [0, 0, 0, 0, 1, 1, 1, 1]\n",
    "})\n",
    "\n",
    "print(data)"
   ]
  },
  {
   "attachments": {},
   "cell_type": "markdown",
   "metadata": {},
   "source": [
    "En este conjunto de datos, las variables ```x1``` y ```x2``` son las características o atributos, y la variable y es la variable objetivo o target.\n",
    "\n",
    "A continuación, definimos una función ```gini_impurity``` que calcula la impureza Gini de una característica o atributo específico, dadas las columnas correspondientes del dataframe:"
   ]
  },
  {
   "cell_type": "code",
   "execution_count": 13,
   "metadata": {},
   "outputs": [],
   "source": [
    "def gini_impurity(data, feature_col, target_col):\n",
    "    gini = 0.0\n",
    "    values = data[feature_col].unique()\n",
    "    for value in values:\n",
    "        subset = data[data[feature_col] == value]\n",
    "        proportion = len(subset) / float(len(data))\n",
    "        gini += proportion * sum(map(lambda x: (len(subset[subset[target_col] == x]) / float(len(subset)))**2, subset[target_col].unique()))\n",
    "    return gini"
   ]
  },
  {
   "attachments": {},
   "cell_type": "markdown",
   "metadata": {},
   "source": [
    "Luego, llamamos a la función ```gini_impurity``` para calcular la impureza Gini de las características ```x1``` y ```x2```:"
   ]
  },
  {
   "cell_type": "code",
   "execution_count": 14,
   "metadata": {},
   "outputs": [
    {
     "name": "stdout",
     "output_type": "stream",
     "text": [
      "Gini impurity of x1: 0.533\n",
      "Gini impurity of x2: 0.500\n"
     ]
    }
   ],
   "source": [
    "gini_x1 = gini_impurity(data, 'x1', 'y')\n",
    "gini_x2 = gini_impurity(data, 'x2', 'y')\n",
    "\n",
    "print(f\"Gini impurity of x1: {gini_x1:.3f}\")\n",
    "print(f\"Gini impurity of x2: {gini_x2:.3f}\")"
   ]
  },
  {
   "attachments": {},
   "cell_type": "markdown",
   "metadata": {},
   "source": [
    "| **Inicio** | **atrás 23** | **Siguiente 25** |\n",
    "|----------- |-------------- |---------------|\n",
    "| [🏠](../../README.md) | [⏪](./23.K-means.ipynb)| [⏩](./25.Regresion_Log%C3%ADstica.ipynb)|"
   ]
  }
 ],
 "metadata": {
  "kernelspec": {
   "display_name": "base",
   "language": "python",
   "name": "python3"
  },
  "language_info": {
   "codemirror_mode": {
    "name": "ipython",
    "version": 3
   },
   "file_extension": ".py",
   "mimetype": "text/x-python",
   "name": "python",
   "nbconvert_exporter": "python",
   "pygments_lexer": "ipython3",
   "version": "3.9.12"
  },
  "orig_nbformat": 4
 },
 "nbformat": 4,
 "nbformat_minor": 2
}
