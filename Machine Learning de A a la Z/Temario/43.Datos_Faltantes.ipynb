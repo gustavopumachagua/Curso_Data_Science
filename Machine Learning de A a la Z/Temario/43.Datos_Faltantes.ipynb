{
 "cells": [
  {
   "attachments": {},
   "cell_type": "markdown",
   "metadata": {},
   "source": [
    "| **Inicio** | **atrás 42** | **Siguiente 44** |\n",
    "|----------- |-------------- |---------------|\n",
    "| [🏠](../../README.md) | [⏪](./42.Regresion_Lineal.ipynb)| [⏩](./44.Affinity_Propagation.ipynb)|"
   ]
  },
  {
   "attachments": {},
   "cell_type": "markdown",
   "metadata": {},
   "source": [
    "# **43. Imputación (o Manejo de Datos Faltantes)**"
   ]
  },
  {
   "attachments": {},
   "cell_type": "markdown",
   "metadata": {},
   "source": [
    "La imputación, o manejo de datos faltantes, es el proceso de rellenar los valores faltantes en un conjunto de datos con valores estimados. Esto se hace con el objetivo de poder utilizar los datos para realizar análisis y modelado.\n",
    "\n",
    "En Python, existen diversas herramientas y librerías para llevar a cabo la imputación de datos faltantes. Por ejemplo, una de las librerías más comunes para este propósito es Pandas. En Pandas, se pueden utilizar funciones como ```fillna()``` para rellenar los valores faltantes en un dataframe con un valor específico, o interpolate() para realizar una interpolación lineal entre los valores existentes.\n",
    "\n",
    "También existen otras librerías en Python que se enfocan en la imputación de datos faltantes, como por ejemplo fancyimpute, que implementa varios algoritmos de imputación, incluyendo K-Nearest Neighbors, Matriz Factorización y SVD. Además, Scikit-Learn, otra popular librería de Python para aprendizaje de máquina, también cuenta con una variedad de métodos de imputación de datos faltantes en su módulo de preprocesamiento de datos.\n",
    "\n",
    "Es importante destacar que la imputación de datos faltantes debe hacerse con precaución, ya que el uso de valores estimados puede introducir sesgos en los datos y afectar los resultados de análisis posteriores. Por lo tanto, es importante evaluar cuidadosamente el conjunto de datos y elegir el método de imputación más adecuado para el tipo de datos y el análisis que se pretende realizar."
   ]
  },
  {
   "attachments": {},
   "cell_type": "markdown",
   "metadata": {},
   "source": [
    "## **Problemática de los valores faltantes**"
   ]
  },
  {
   "attachments": {},
   "cell_type": "markdown",
   "metadata": {},
   "source": [
    "La problemática de los valores faltantes en los conjuntos de datos radica en que la ausencia de datos puede tener un impacto significativo en el análisis o modelado que se pretende realizar.\n",
    "\n",
    "* En primer lugar, la presencia de valores faltantes puede reducir la cantidad de datos disponibles para el análisis, lo que puede afectar la precisión de los resultados. Además, la ausencia de datos puede crear sesgos en los resultados, especialmente si los datos faltantes no se manejan adecuadamente.\n",
    "\n",
    "* En segundo lugar, los valores faltantes también pueden introducir errores en los análisis y modelos, especialmente si se ignoran o se rellenan de manera incorrecta. Si se ignoran los valores faltantes, puede resultar en una pérdida de información importante y si se rellenan de manera incorrecta, se puede introducir sesgos o errores en los análisis o modelos.\n",
    "\n",
    "Por lo tanto, es importante tener en cuenta la presencia de valores faltantes en los conjuntos de datos y manejarlos de manera adecuada utilizando técnicas de imputación o eliminación, para minimizar su impacto en los análisis y modelos que se pretenden realizar."
   ]
  },
  {
   "attachments": {},
   "cell_type": "markdown",
   "metadata": {},
   "source": [
    "## **Archivo con valores faltantes**"
   ]
  },
  {
   "cell_type": "code",
   "execution_count": 1,
   "metadata": {},
   "outputs": [
    {
     "name": "stdout",
     "output_type": "stream",
     "text": [
      "  Nombre  Edad  Profesión  Ingreso\n",
      "0   Juan  30.0  Ingeniero  40000.0\n",
      "1  María   NaN    Doctora  50000.0\n",
      "2  Pedro  28.0       None  30000.0\n",
      "3    Ana  35.0    Abogada      NaN\n",
      "4  Luisa   NaN       None  45000.0\n"
     ]
    }
   ],
   "source": [
    "import pandas as pd\n",
    "\n",
    "data = {\n",
    "    'Nombre': ['Juan', 'María', 'Pedro', 'Ana', 'Luisa'],\n",
    "    'Edad': [30, None, 28, 35, None],\n",
    "    'Profesión': ['Ingeniero', 'Doctora', None, 'Abogada', None],\n",
    "    'Ingreso': [40000, 50000, 30000, None, 45000]\n",
    "}\n",
    "\n",
    "df = pd.DataFrame(data)\n",
    "print(df)\n"
   ]
  },
  {
   "attachments": {},
   "cell_type": "markdown",
   "metadata": {},
   "source": [
    "En este ejemplo, se crea un dataframe con cuatro columnas (Nombre, Edad, Profesión, Ingreso) y cinco filas de datos. Podemos ver que hay valores faltantes representados por el valor ```None```, que es una forma común de representar valores faltantes en Pandas. María no tiene una edad especificada, Pedro no tiene una profesión especificada, Ana no tiene un ingreso especificado y Luisa no tiene tanto su edad como su profesión especificada.\n",
    "\n",
    "Es importante mencionar que Pandas también puede utilizar otros valores para representar valores faltantes, como ```NaN (Not a Number)``` o ```NaT (Not a Time)```. En cualquier caso, los valores faltantes deben ser manejados adecuadamente para poder realizar un análisis correcto."
   ]
  },
  {
   "attachments": {},
   "cell_type": "markdown",
   "metadata": {},
   "source": [
    "## **Valores nulos NaN**"
   ]
  },
  {
   "attachments": {},
   "cell_type": "markdown",
   "metadata": {},
   "source": [
    "Los valores nulos NaN (Not a Number) son un tipo de valor faltante que se utiliza en pandas para representar valores numéricos faltantes en un dataframe. Estos valores pueden surgir por diversas razones, como por ejemplo cuando se realizan operaciones aritméticas en datos faltantes o cuando se leen datos de una fuente que no tiene valores completos.\n",
    "\n",
    "Aquí te presento un ejemplo de un dataframe en Python con valores nulos NaN utilizando la librería Pandas:"
   ]
  },
  {
   "cell_type": "code",
   "execution_count": 2,
   "metadata": {},
   "outputs": [
    {
     "name": "stdout",
     "output_type": "stream",
     "text": [
      "  Nombre  Edad  Profesión  Ingreso\n",
      "0   Juan  30.0  Ingeniero  40000.0\n",
      "1  María   NaN    Doctora  50000.0\n",
      "2  Pedro  28.0        NaN  30000.0\n",
      "3    Ana  35.0    Abogada      NaN\n",
      "4  Luisa   NaN        NaN  45000.0\n"
     ]
    }
   ],
   "source": [
    "import pandas as pd\n",
    "import numpy as np\n",
    "\n",
    "data = {\n",
    "    'Nombre': ['Juan', 'María', 'Pedro', 'Ana', 'Luisa'],\n",
    "    'Edad': [30, np.nan, 28, 35, np.nan],\n",
    "    'Profesión': ['Ingeniero', 'Doctora', np.nan, 'Abogada', np.nan],\n",
    "    'Ingreso': [40000, 50000, 30000, np.nan, 45000]\n",
    "}\n",
    "\n",
    "df = pd.DataFrame(data)\n",
    "print(df)\n"
   ]
  },
  {
   "attachments": {},
   "cell_type": "markdown",
   "metadata": {},
   "source": [
    "En este ejemplo, se crea un dataframe con cuatro columnas (Nombre, Edad, Profesión, Ingreso) y cinco filas de datos. Podemos ver que hay valores nulos representados por el valor ```np.nan```, que es la forma común de representar valores nulos en Pandas. María y Luisa no tienen una edad especificada, Pedro y Luisa no tienen una profesión especificada y Ana no tiene un ingreso especificado.\n",
    "\n",
    "Es importante mencionar que en algunos casos, los valores nulos pueden ser eliminados del dataframe utilizando la función ```dropna()```. Sin embargo, es importante evaluar cuidadosamente la naturaleza de los datos faltantes y decidir si la eliminación es apropiada o si es necesario rellenarlos utilizando alguna técnica de imputación."
   ]
  },
  {
   "attachments": {},
   "cell_type": "markdown",
   "metadata": {},
   "source": [
    "## **Cómo quitar registros con valores faltantes**"
   ]
  },
  {
   "attachments": {},
   "cell_type": "markdown",
   "metadata": {},
   "source": [
    "En Pandas, se puede eliminar los registros que contienen valores faltantes utilizando la función ```dropna()```. Esta función elimina cualquier fila que contenga al menos un valor faltante en cualquiera de sus columnas.\n",
    "\n",
    "Aquí te presento un ejemplo de cómo quitar registros con valores faltantes de un dataframe:"
   ]
  },
  {
   "cell_type": "code",
   "execution_count": 4,
   "metadata": {},
   "outputs": [
    {
     "name": "stdout",
     "output_type": "stream",
     "text": [
      "  Nombre  Edad  Profesión  Ingreso\n",
      "0   Juan  30.0  Ingeniero  40000.0\n",
      "1  María   NaN    Doctora  50000.0\n",
      "2  Pedro  28.0        NaN  30000.0\n",
      "3    Ana  35.0    Abogada      NaN\n",
      "4  Luisa   NaN        NaN  45000.0\n"
     ]
    }
   ],
   "source": [
    "import pandas as pd\n",
    "import numpy as np\n",
    "\n",
    "data = {\n",
    "    'Nombre': ['Juan', 'María', 'Pedro', 'Ana', 'Luisa'],\n",
    "    'Edad': [30, np.nan, 28, 35, np.nan],\n",
    "    'Profesión': ['Ingeniero', 'Doctora', np.nan, 'Abogada', np.nan],\n",
    "    'Ingreso': [40000, 50000, 30000, np.nan, 45000]\n",
    "}\n",
    "\n",
    "df = pd.DataFrame(data)\n",
    "print(df)\n",
    "\n"
   ]
  },
  {
   "cell_type": "code",
   "execution_count": 5,
   "metadata": {},
   "outputs": [
    {
     "name": "stdout",
     "output_type": "stream",
     "text": [
      "  Nombre  Edad  Profesión  Ingreso\n",
      "0   Juan  30.0  Ingeniero  40000.0\n"
     ]
    }
   ],
   "source": [
    "# Eliminar registros con valores faltantes\n",
    "df = df.dropna()\n",
    "print(df)\n"
   ]
  },
  {
   "attachments": {},
   "cell_type": "markdown",
   "metadata": {},
   "source": [
    "En este ejemplo, primero se crea un dataframe con cuatro columnas (Nombre, Edad, Profesión, Ingreso) y cinco filas de datos. Luego, se utiliza la función ```dropna()``` para eliminar los registros que contienen valores faltantes. El resultado muestra que se eliminaron las filas correspondientes a María, Pedro y Ana, que contenían valores faltantes en al menos una de sus columnas.\n",
    "\n",
    "Es importante tener en cuenta que la eliminación de valores faltantes puede reducir el tamaño del dataframe y en algunos casos, puede llevar a una pérdida significativa de datos. Por lo tanto, es recomendable evaluar cuidadosamente la naturaleza de los datos faltantes y decidir si la eliminación es apropiada o si es necesario rellenarlos utilizando alguna técnica de imputación."
   ]
  },
  {
   "attachments": {},
   "cell_type": "markdown",
   "metadata": {},
   "source": [
    "## **Cómo reemplazar valores faltantes con valores por defecto**"
   ]
  },
  {
   "attachments": {},
   "cell_type": "markdown",
   "metadata": {},
   "source": [
    "En Pandas, se puede reemplazar valores faltantes con valores por defecto utilizando la función ```fillna()```. Esta función permite rellenar los valores faltantes con un valor específico que se proporciona como argumento.\n",
    "\n",
    "Aquí te presento un ejemplo de cómo reemplazar valores faltantes con valores por defecto en un dataframe:"
   ]
  },
  {
   "cell_type": "code",
   "execution_count": 6,
   "metadata": {},
   "outputs": [
    {
     "name": "stdout",
     "output_type": "stream",
     "text": [
      "  Nombre  Edad  Profesión  Ingreso\n",
      "0   Juan  30.0  Ingeniero  40000.0\n",
      "1  María   NaN    Doctora  50000.0\n",
      "2  Pedro  28.0        NaN  30000.0\n",
      "3    Ana  35.0    Abogada      NaN\n",
      "4  Luisa   NaN        NaN  45000.0\n"
     ]
    }
   ],
   "source": [
    "import pandas as pd\n",
    "import numpy as np\n",
    "\n",
    "data = {\n",
    "    'Nombre': ['Juan', 'María', 'Pedro', 'Ana', 'Luisa'],\n",
    "    'Edad': [30, np.nan, 28, 35, np.nan],\n",
    "    'Profesión': ['Ingeniero', 'Doctora', np.nan, 'Abogada', np.nan],\n",
    "    'Ingreso': [40000, 50000, 30000, np.nan, 45000]\n",
    "}\n",
    "\n",
    "df = pd.DataFrame(data)\n",
    "print(df)"
   ]
  },
  {
   "cell_type": "code",
   "execution_count": 7,
   "metadata": {},
   "outputs": [
    {
     "name": "stdout",
     "output_type": "stream",
     "text": [
      "  Nombre  Edad        Profesión  Ingreso\n",
      "0   Juan  30.0        Ingeniero  40000.0\n",
      "1  María   0.0          Doctora  50000.0\n",
      "2  Pedro  28.0  No especificado  30000.0\n",
      "3    Ana  35.0          Abogada      0.0\n",
      "4  Luisa   0.0  No especificado  45000.0\n"
     ]
    }
   ],
   "source": [
    "# Rellenar valores faltantes con un valor por defecto\n",
    "df = df.fillna({'Edad': 0, 'Profesión': 'No especificado', 'Ingreso': 0})\n",
    "print(df)"
   ]
  },
  {
   "attachments": {},
   "cell_type": "markdown",
   "metadata": {},
   "source": [
    "En este ejemplo, primero se crea un dataframe con cuatro columnas (Nombre, Edad, Profesión, Ingreso) y cinco filas de datos. Luego, se utiliza la función ```fillna()``` para rellenar los valores faltantes en las columnas Edad, Profesión e Ingreso con valores por defecto (0 en el caso de Edad e Ingreso, y 'No especificado' en el caso de Profesión).\n",
    "\n",
    "El resultado muestra que los valores faltantes en las columnas Edad, Profesión e Ingreso se han reemplazado por los valores por defecto que se especificaron en la función ```fillna()```.\n",
    "\n",
    "Es importante tener en cuenta que el reemplazo de valores faltantes con valores por defecto puede ser una opción válida en algunos casos, pero no siempre es la mejor solución, especialmente si la columna en cuestión es una variable importante en el análisis. En algunos casos, puede ser más apropiado utilizar técnicas de imputación más avanzadas, como la imputación por media o la imputación por modelo, para rellenar los valores faltantes."
   ]
  },
  {
   "attachments": {},
   "cell_type": "markdown",
   "metadata": {},
   "source": [
    "## **Cómo reemplazar valores faltantes con el promedio, mediana y/o moda**"
   ]
  },
  {
   "attachments": {},
   "cell_type": "markdown",
   "metadata": {},
   "source": [
    "En Pandas, se puede reemplazar valores faltantes con el promedio, mediana o moda utilizando la función ```fillna()```. Esta función permite rellenar los valores faltantes con un valor específico que se puede calcular a partir de los valores no faltantes en la columna correspondiente.\n",
    "\n",
    "Aquí te presento ejemplos de cómo reemplazar valores faltantes con el promedio, mediana y/o moda en un dataframe:\n",
    "\n",
    "Rellenar con el promedio"
   ]
  },
  {
   "cell_type": "code",
   "execution_count": 8,
   "metadata": {},
   "outputs": [
    {
     "name": "stdout",
     "output_type": "stream",
     "text": [
      "  Nombre  Edad  Profesión  Ingreso\n",
      "0   Juan  30.0  Ingeniero  40000.0\n",
      "1  María   NaN    Doctora  50000.0\n",
      "2  Pedro  28.0        NaN  30000.0\n",
      "3    Ana  35.0    Abogada      NaN\n",
      "4  Luisa   NaN        NaN  45000.0\n",
      "  Nombre  Edad  Profesión  Ingreso\n",
      "0   Juan  30.0  Ingeniero  40000.0\n",
      "1  María   NaN    Doctora  50000.0\n",
      "2  Pedro  28.0        NaN  30000.0\n",
      "3    Ana  35.0    Abogada  41250.0\n",
      "4  Luisa   NaN        NaN  45000.0\n"
     ]
    }
   ],
   "source": [
    "import pandas as pd\n",
    "import numpy as np\n",
    "\n",
    "data = {\n",
    "    'Nombre': ['Juan', 'María', 'Pedro', 'Ana', 'Luisa'],\n",
    "    'Edad': [30, np.nan, 28, 35, np.nan],\n",
    "    'Profesión': ['Ingeniero', 'Doctora', np.nan, 'Abogada', np.nan],\n",
    "    'Ingreso': [40000, 50000, 30000, np.nan, 45000]\n",
    "}\n",
    "\n",
    "df = pd.DataFrame(data)\n",
    "print(df)\n",
    "\n",
    "# Rellenar valores faltantes en la columna Ingreso con el promedio\n",
    "promedio = df['Ingreso'].mean()\n",
    "df['Ingreso'] = df['Ingreso'].fillna(promedio)\n",
    "print(df)\n"
   ]
  },
  {
   "attachments": {},
   "cell_type": "markdown",
   "metadata": {},
   "source": [
    "En este ejemplo, primero se crea un dataframe con cuatro columnas (Nombre, Edad, Profesión, Ingreso) y cinco filas de datos. Luego, se utiliza la función ```mean()``` de Pandas para calcular el promedio de la columna Ingreso y se utiliza la función ```fillna()``` para rellenar los valores faltantes en la columna Ingreso con el promedio.\n",
    "\n",
    "Rellenar con la mediana"
   ]
  },
  {
   "cell_type": "code",
   "execution_count": 9,
   "metadata": {},
   "outputs": [
    {
     "name": "stdout",
     "output_type": "stream",
     "text": [
      "  Nombre  Edad  Profesión  Ingreso\n",
      "0   Juan  30.0  Ingeniero  40000.0\n",
      "1  María   NaN    Doctora  50000.0\n",
      "2  Pedro  28.0        NaN  30000.0\n",
      "3    Ana  35.0    Abogada      NaN\n",
      "4  Luisa   NaN        NaN  45000.0\n",
      "  Nombre  Edad  Profesión  Ingreso\n",
      "0   Juan  30.0  Ingeniero  40000.0\n",
      "1  María  30.0    Doctora  50000.0\n",
      "2  Pedro  28.0        NaN  30000.0\n",
      "3    Ana  35.0    Abogada      NaN\n",
      "4  Luisa  30.0        NaN  45000.0\n"
     ]
    }
   ],
   "source": [
    "import pandas as pd\n",
    "import numpy as np\n",
    "\n",
    "data = {\n",
    "    'Nombre': ['Juan', 'María', 'Pedro', 'Ana', 'Luisa'],\n",
    "    'Edad': [30, np.nan, 28, 35, np.nan],\n",
    "    'Profesión': ['Ingeniero', 'Doctora', np.nan, 'Abogada', np.nan],\n",
    "    'Ingreso': [40000, 50000, 30000, np.nan, 45000]\n",
    "}\n",
    "\n",
    "df = pd.DataFrame(data)\n",
    "print(df)\n",
    "\n",
    "# Rellenar valores faltantes en la columna Edad con la mediana\n",
    "mediana = df['Edad'].median()\n",
    "df['Edad'] = df['Edad'].fillna(mediana)\n",
    "print(df)\n"
   ]
  },
  {
   "attachments": {},
   "cell_type": "markdown",
   "metadata": {},
   "source": [
    "En este ejemplo, se utiliza la función ```median()``` de Pandas para calcular la mediana de la columna Edad y se utiliza la función ```fillna()``` para rellenar los valores faltantes en la columna Edad con la mediana.\n",
    "\n",
    "Rellenar con la moda"
   ]
  },
  {
   "cell_type": "code",
   "execution_count": 10,
   "metadata": {},
   "outputs": [
    {
     "name": "stdout",
     "output_type": "stream",
     "text": [
      "  Nombre  Edad  Profesión  Ingreso  Género\n",
      "0   Juan  30.0  Ingeniero  40000.0  Hombre\n",
      "1  María   NaN    Doctora  50000.0   Mujer\n",
      "2  Pedro  28.0        NaN  30000.0  Hombre\n",
      "3    Ana  35.0    Abogada      NaN   Mujer\n",
      "4  Luisa   NaN        NaN  45000.0   Mujer\n",
      "  Nombre  Edad  Profesión  Ingreso  Género\n",
      "0   Juan  30.0  Ingeniero  40000.0  Hombre\n",
      "1  María   NaN    Doctora  50000.0   Mujer\n",
      "2  Pedro  28.0    Abogada  30000.0  Hombre\n",
      "3    Ana  35.0    Abogada      NaN   Mujer\n",
      "4  Luisa   NaN    Abogada  45000.0   Mujer\n"
     ]
    }
   ],
   "source": [
    "import pandas as pd\n",
    "import numpy as np\n",
    "\n",
    "data = {\n",
    "    'Nombre': ['Juan', 'María', 'Pedro', 'Ana', 'Luisa'],\n",
    "    'Edad': [30, np.nan, 28, 35, np.nan],\n",
    "    'Profesión': ['Ingeniero', 'Doctora', np.nan, 'Abogada', np.nan],\n",
    "    'Ingreso': [40000, 50000, 30000, np.nan, 45000],\n",
    "    'Género': ['Hombre', 'Mujer', 'Hombre', 'Mujer', 'Mujer']\n",
    "}\n",
    "\n",
    "df = pd.DataFrame(data)\n",
    "print(df)\n",
    "\n",
    "# Rellenar valores faltantes en la columna Profesión con la moda\n",
    "moda = df['Profesión'].mode()[0]\n",
    "df['Profesión'] = df['Profesión'].fillna(moda)\n",
    "print(df)\n"
   ]
  },
  {
   "attachments": {},
   "cell_type": "markdown",
   "metadata": {},
   "source": [
    "En este ejemplo, se utiliza la función ```mode()``` de Pandas para calcular la moda de la columna Profesión y se utiliza la función ```fillna()``` para rellenar los valores faltantes en la columna Profesión con la moda. Se debe tener en cuenta que la función ```mode()``` puede devolver varios valores si hay varios valores que aparecen con la misma frecuencia, por lo que es necesario seleccionar uno de los valores devueltos, por ejemplo, con el índice ```[0]```."
   ]
  },
  {
   "attachments": {},
   "cell_type": "markdown",
   "metadata": {},
   "source": [
    "| **Inicio** | **atrás 42** | **Siguiente 44** |\n",
    "|----------- |-------------- |---------------|\n",
    "| [🏠](../../README.md) | [⏪](./42.Regresion_Lineal.ipynb)| [⏩](./44.Affinity_Propagation.ipynb)|"
   ]
  }
 ],
 "metadata": {
  "kernelspec": {
   "display_name": "base",
   "language": "python",
   "name": "python3"
  },
  "language_info": {
   "codemirror_mode": {
    "name": "ipython",
    "version": 3
   },
   "file_extension": ".py",
   "mimetype": "text/x-python",
   "name": "python",
   "nbconvert_exporter": "python",
   "pygments_lexer": "ipython3",
   "version": "3.9.12"
  },
  "orig_nbformat": 4
 },
 "nbformat": 4,
 "nbformat_minor": 2
}
