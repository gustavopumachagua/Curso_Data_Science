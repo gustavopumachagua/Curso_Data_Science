{
 "cells": [
  {
   "attachments": {},
   "cell_type": "markdown",
   "metadata": {},
   "source": [
    "| **Inicio** | **atrás 32** | **Siguiente 34** |\n",
    "|----------- |-------------- |---------------|\n",
    "| [🏠](../../README.md) | [⏪](./32.Regresion.ipynb)| [⏩](./34.Modelos_de_Regresion.ipynb)|"
   ]
  },
  {
   "attachments": {},
   "cell_type": "markdown",
   "metadata": {},
   "source": [
    "# **33. Potencializa la utilidad de tus datos con BootStrapping usando Python**"
   ]
  },
  {
   "attachments": {},
   "cell_type": "markdown",
   "metadata": {},
   "source": [
    "## **Introducción**"
   ]
  },
  {
   "attachments": {},
   "cell_type": "markdown",
   "metadata": {},
   "source": [
    "Bootstrap es una técnica de remuestreo (re-sampling) utilizada en estadística para estimar la distribución de un estadístico de interés. En términos simples, se trata de una técnica para construir distribuciones de muestreo a partir de un único conjunto de datos.\n",
    "\n",
    "La técnica de Bootstrap se basa en generar múltiples muestras aleatorias (con reemplazo) a partir del conjunto de datos original y, a partir de estas muestras, construir una distribución de muestreo del estadístico de interés. Este enfoque es útil cuando no se dispone de un gran número de datos y se desea obtener una estimación de la variabilidad de un estadístico sin tener que hacer suposiciones fuertes sobre la distribución subyacente.\n",
    "\n",
    "A continuación, se presenta un ejemplo de cómo se puede aplicar la técnica de Bootstrap en Python para estimar el intervalo de confianza de la media de un conjunto de datos.\n",
    "\n",
    "Supongamos que tenemos los siguientes datos:"
   ]
  },
  {
   "cell_type": "code",
   "execution_count": 2,
   "metadata": {},
   "outputs": [],
   "source": [
    "import numpy as np\n",
    "\n",
    "data = np.array([12, 15, 18, 20, 22, 24, 26, 28, 30])"
   ]
  },
  {
   "attachments": {},
   "cell_type": "markdown",
   "metadata": {},
   "source": [
    "Queremos estimar el intervalo de confianza del 95% para la media de estos datos utilizando Bootstrap. Para ello, podemos seguir los siguientes pasos:\n",
    "\n",
    "1. Generar múltiples muestras aleatorias (con reemplazo) a partir de los datos originales. El número de muestras que se deben generar depende del tamaño del conjunto de datos original y de la precisión deseada en la estimación del intervalo de confianza. En este ejemplo, generamos 10,000 muestras.\n"
   ]
  },
  {
   "cell_type": "code",
   "execution_count": 3,
   "metadata": {},
   "outputs": [],
   "source": [
    "n_samples = 10000\n",
    "samples = np.random.choice(data, size=(n_samples, len(data)), replace=True)"
   ]
  },
  {
   "attachments": {},
   "cell_type": "markdown",
   "metadata": {},
   "source": [
    "2. Calcular la media de cada una de las muestras generadas."
   ]
  },
  {
   "cell_type": "code",
   "execution_count": 4,
   "metadata": {},
   "outputs": [],
   "source": [
    "means = np.mean(samples, axis=1)"
   ]
  },
  {
   "attachments": {},
   "cell_type": "markdown",
   "metadata": {},
   "source": [
    "3. Calcular los percentiles 2.5 y 97.5 de la distribución de las medias."
   ]
  },
  {
   "cell_type": "code",
   "execution_count": 5,
   "metadata": {},
   "outputs": [],
   "source": [
    "lower, upper = np.percentile(means, [2.5, 97.5])"
   ]
  },
  {
   "attachments": {},
   "cell_type": "markdown",
   "metadata": {},
   "source": [
    "4. El intervalo de confianza del 95% para la media de los datos originales es [lower, upper]."
   ]
  },
  {
   "cell_type": "code",
   "execution_count": 6,
   "metadata": {},
   "outputs": [
    {
     "name": "stdout",
     "output_type": "stream",
     "text": [
      "Intervalo de confianza del 95% para la media: [17.88888888888889, 25.22222222222222]\n"
     ]
    }
   ],
   "source": [
    "print(f\"Intervalo de confianza del 95% para la media: [{lower}, {upper}]\")"
   ]
  },
  {
   "cell_type": "code",
   "execution_count": 7,
   "metadata": {},
   "outputs": [
    {
     "data": {
      "image/png": "[encoded data removed]",
      "text/plain": [
       "<Figure size 432x288 with 1 Axes>"
      ]
     },
     "metadata": {
      "needs_background": "light"
     },
     "output_type": "display_data"
    }
   ],
   "source": [
    "import matplotlib.pyplot as plt\n",
    "\n",
    "plt.hist(means, bins=30)\n",
    "plt.axvline(lower, color='r', linestyle='--')\n",
    "plt.axvline(upper, color='r', linestyle='--')\n",
    "plt.xlabel('Media')\n",
    "plt.ylabel('Frecuencia')\n",
    "plt.show()"
   ]
  },
  {
   "attachments": {},
   "cell_type": "markdown",
   "metadata": {},
   "source": [
    "## **Origen del término BootStrap**"
   ]
  },
  {
   "attachments": {},
   "cell_type": "markdown",
   "metadata": {},
   "source": [
    "El término \"bootstrap\" en inglés hace referencia a las tiras de cuero que se colocan en la parte posterior de las botas para ayudar a los usuarios a calzarse.\n",
    "\n",
    "El uso metafórico del término \"bootstrap\" se refiere a la idea de levantarse a sí mismo por los cordones de la bota, es decir, de lograr algo a partir de recursos limitados y sin ayuda externa.\n",
    "\n",
    "En el contexto del análisis estadístico, el método bootstrap utiliza una muestra aleatoria de datos para estimar la distribución de probabilidad de una estadística de interés. En este sentido, se \"levanta\" la información de la muestra para inferir sobre la población subyacente, utilizando únicamente los datos disponibles. Por esta razón, el término \"bootstrapping\" se refiere a la idea de \"levantarse a sí mismo por las botas\", utilizando los datos disponibles para inferir sobre el conjunto completo de datos."
   ]
  },
  {
   "attachments": {},
   "cell_type": "markdown",
   "metadata": {},
   "source": [
    "## **Para qué sirve**"
   ]
  },
  {
   "attachments": {},
   "cell_type": "markdown",
   "metadata": {},
   "source": [
    "El método Bootstrap es una técnica estadística que se utiliza para estimar la distribución de una estadística de interés mediante la generación de muestras aleatorias con reemplazo a partir de una muestra original. Esta técnica es útil cuando no se conoce la distribución teórica de la estadística de interés o cuando se tiene una muestra pequeña y se desea obtener una mejor aproximación de la distribución poblacional.\n",
    "\n",
    "En general, el método Bootstrap se utiliza para:\n",
    "\n",
    "* Estimar la precisión de una estadística muestral, como la media o la desviación estándar.\n",
    "* Estimar intervalos de confianza para una estadística muestral.\n",
    "* Evaluar la validez de un modelo estadístico, como la regresión lineal o la regresión logística.\n",
    "\n",
    "En resumen, Bootstrap es una herramienta útil para realizar inferencias estadísticas y obtener información sobre la precisión y validez de los modelos estadísticos."
   ]
  },
  {
   "attachments": {},
   "cell_type": "markdown",
   "metadata": {},
   "source": [
    "## **Contexto y datos de ejemplo**"
   ]
  },
  {
   "attachments": {},
   "cell_type": "markdown",
   "metadata": {},
   "source": [
    "Supongamos que trabajas en una empresa de e-commerce y quieres mejorar las recomendaciones de productos a tus clientes. Para esto, has recolectado información sobre las compras realizadas por los clientes en los últimos meses, incluyendo el producto comprado y el tipo de cliente (nuevo o antiguo). Quieres aplicar un análisis de asociación para identificar patrones de compra frecuentes entre los productos y los tipos de clientes."
   ]
  },
  {
   "cell_type": "code",
   "execution_count": 8,
   "metadata": {},
   "outputs": [
    {
     "data": {
      "image/png": "[encoded data removed]",
      "text/plain": [
       "<Figure size 432x288 with 1 Axes>"
      ]
     },
     "metadata": {
      "needs_background": "light"
     },
     "output_type": "display_data"
    }
   ],
   "source": [
    "import pandas as pd\n",
    "import matplotlib.pyplot as plt\n",
    "\n",
    "# Crear el dataframe\n",
    "data = {'Cliente': ['Nuevo', 'Antiguo', 'Nuevo', 'Nuevo', 'Antiguo', 'Antiguo', 'Nuevo', 'Antiguo', 'Nuevo', 'Antiguo'],\n",
    "        'Producto': ['A', 'C', 'B', 'A', 'B', 'C', 'C', 'A', 'B', 'A']}\n",
    "df = pd.DataFrame(data)\n",
    "\n",
    "# Calcular la frecuencia de cada producto\n",
    "freq = df['Producto'].value_counts()\n",
    "\n",
    "# Crear el gráfico de barras\n",
    "plt.bar(freq.index, freq.values)\n",
    "plt.title('Frecuencia de compra de productos')\n",
    "plt.xlabel('Producto')\n",
    "plt.ylabel('Frecuencia')\n",
    "plt.show()"
   ]
  },
  {
   "attachments": {},
   "cell_type": "markdown",
   "metadata": {},
   "source": [
    "## **Cómo funciona Bootstrap**"
   ]
  },
  {
   "attachments": {},
   "cell_type": "markdown",
   "metadata": {},
   "source": [
    "Bootstrap es una técnica de muestreo utilizada para estimar la distribución de una estadística de interés de una muestra de datos. Su objetivo es proporcionar una medida de la variabilidad de la estadística de interés.\n",
    "\n",
    "El proceso de Bootstrap es el siguiente:\n",
    "\n",
    "* Se toma una muestra aleatoria con reemplazo de los datos originales de tamaño n.\n",
    "* Se calcula la estadística de interés a partir de la muestra obtenida en el paso 1.\n",
    "* Se repiten los pasos 1 y 2 B veces (generalmente B ≥ 1000), obteniendo así B estadísticas de interés diferentes.\n",
    "* Se utiliza la distribución empírica de las B estadísticas obtenidas para estimar la distribución de la estadística de interés.\n",
    "\n",
    "A continuación se muestra un ejemplo de cómo aplicar Bootstrap para estimar el error estándar de la media muestral de una muestra de datos.\n",
    "\n",
    "Primero, se generan datos aleatorios a partir de una distribución normal:"
   ]
  },
  {
   "cell_type": "code",
   "execution_count": 14,
   "metadata": {},
   "outputs": [],
   "source": [
    "import numpy as np\n",
    "from scipy import stats\n",
    "\n",
    "np.random.seed(123)\n",
    "data = np.random.normal(loc=10, scale=2, size=100)"
   ]
  },
  {
   "attachments": {},
   "cell_type": "markdown",
   "metadata": {},
   "source": [
    "Luego, se define una función que calcule la media muestral a partir de una muestra dada:"
   ]
  },
  {
   "cell_type": "code",
   "execution_count": 15,
   "metadata": {},
   "outputs": [],
   "source": [
    "def sample_mean(data):\n",
    "    return np.mean(data)"
   ]
  },
  {
   "attachments": {},
   "cell_type": "markdown",
   "metadata": {},
   "source": [
    "A continuación, se aplica Bootstrap para obtener una estimación del error estándar de la media muestral:"
   ]
  },
  {
   "cell_type": "code",
   "execution_count": 16,
   "metadata": {},
   "outputs": [
    {
     "name": "stdout",
     "output_type": "stream",
     "text": [
      "Error estándar Bootstrap: 0.23\n"
     ]
    }
   ],
   "source": [
    "B = 1000  # número de muestras Bootstrap\n",
    "n = len(data)  # tamaño de la muestra original\n",
    "\n",
    "# Se generan muestras Bootstrap\n",
    "bootstrap_means = np.zeros(B)\n",
    "for i in range(B):\n",
    "    sample = np.random.choice(data, size=n, replace=True)\n",
    "    bootstrap_means[i] = sample_mean(sample)\n",
    "\n",
    "# Se calcula el error estándar Bootstrap\n",
    "se_bootstrap = np.std(bootstrap_means, ddof=1)\n",
    "\n",
    "print(f\"Error estándar Bootstrap: {se_bootstrap:.2f}\")"
   ]
  },
  {
   "attachments": {},
   "cell_type": "markdown",
   "metadata": {},
   "source": [
    "Finalmente, se compara la estimación del error estándar obtenida mediante Bootstrap con el valor teórico:"
   ]
  },
  {
   "cell_type": "code",
   "execution_count": 17,
   "metadata": {},
   "outputs": [
    {
     "name": "stdout",
     "output_type": "stream",
     "text": [
      "Error estándar teórico: 0.20\n"
     ]
    }
   ],
   "source": [
    "se_theoretical = 2 / np.sqrt(n)\n",
    "print(f\"Error estándar teórico: {se_theoretical:.2f}\")"
   ]
  },
  {
   "attachments": {},
   "cell_type": "markdown",
   "metadata": {},
   "source": [
    "Para visualizar los resultados, se puede graficar el histograma de las medias muestrales Bootstrap y la distribución teórica de la media muestral:"
   ]
  },
  {
   "cell_type": "code",
   "execution_count": 18,
   "metadata": {},
   "outputs": [
    {
     "data": {
      "image/png": "[encoded data removed]",
      "text/plain": [
       "<Figure size 432x288 with 1 Axes>"
      ]
     },
     "metadata": {
      "needs_background": "light"
     },
     "output_type": "display_data"
    }
   ],
   "source": [
    "import matplotlib.pyplot as plt\n",
    "\n",
    "plt.hist(bootstrap_means, bins=20, density=True, alpha=0.5)\n",
    "plt.axvline(np.mean(data), color=\"red\", linestyle=\"--\", label=\"Media muestral\")\n",
    "plt.axvline(np.mean(bootstrap_means), color=\"blue\", linestyle=\"--\", label=\"Media Bootstrap\")\n",
    "x = np.linspace(8, 12, 100)\n",
    "plt.plot(x, stats.norm(loc=np.mean(data), scale=se_theoretical).pdf(x), color=\"red\", label=\"Distribución teórica\")\n",
    "plt.plot(x, stats.norm(loc=np.mean(bootstrap_means), scale=se_bootstrap).pdf(x), color=\"blue\", label=\"Distribución Bootstrap\")\n",
    "plt.legend()\n",
    "plt.show()"
   ]
  },
  {
   "attachments": {},
   "cell_type": "markdown",
   "metadata": {},
   "source": [
    "## **Intervalo de Confianza**"
   ]
  },
  {
   "attachments": {},
   "cell_type": "markdown",
   "metadata": {},
   "source": [
    "El intervalo de confianza es un rango de valores que se utiliza para estimar un parámetro poblacional desconocido. Se calcula a partir de una muestra aleatoria y se utiliza para estimar el rango probable en el que se encuentra el verdadero valor del parámetro.\n",
    "\n",
    "Un ejemplo común es el cálculo del intervalo de confianza para la media poblacional. Asumimos que tenemos una muestra de datos y queremos estimar el valor de la media poblacional y su intervalo de confianza.\n",
    "\n",
    "Aquí hay un ejemplo de cómo calcular y graficar un intervalo de confianza para la media poblacional utilizando Python y la biblioteca NumPy:"
   ]
  },
  {
   "cell_type": "code",
   "execution_count": 19,
   "metadata": {},
   "outputs": [
    {
     "data": {
      "image/png": "[encoded data removed]",
      "text/plain": [
       "<Figure size 432x288 with 1 Axes>"
      ]
     },
     "metadata": {
      "needs_background": "light"
     },
     "output_type": "display_data"
    }
   ],
   "source": [
    "import numpy as np\n",
    "import matplotlib.pyplot as plt\n",
    "from scipy.stats import norm\n",
    "\n",
    "# Generar datos aleatorios con media 10 y desviación estándar 2\n",
    "np.random.seed(42)\n",
    "data = np.random.normal(loc=10, scale=2, size=100)\n",
    "\n",
    "# Calcular la media y la desviación estándar de la muestra\n",
    "sample_mean = np.mean(data)\n",
    "sample_std = np.std(data, ddof=1)\n",
    "\n",
    "# Definir el nivel de confianza deseado y calcular el valor crítico de Z\n",
    "confidence_level = 0.95\n",
    "z_critical = norm.ppf(q=(1 + confidence_level) / 2)\n",
    "\n",
    "# Calcular el intervalo de confianza\n",
    "margin_of_error = z_critical * (sample_std / np.sqrt(len(data)))\n",
    "confidence_interval = (sample_mean - margin_of_error, sample_mean + margin_of_error)\n",
    "\n",
    "# Graficar el histograma de los datos y el intervalo de confianza\n",
    "plt.hist(data, bins=10, density=True, alpha=0.5, color=\"gray\", label=\"Datos\")\n",
    "x = np.linspace(6, 14, 100)\n",
    "plt.plot(x, norm.pdf(x, loc=sample_mean, scale=sample_std), color=\"black\", label=\"Distribución muestral\")\n",
    "plt.axvline(confidence_interval[0], color=\"blue\", linestyle=\"--\", label=\"Intervalo de confianza\")\n",
    "plt.axvline(confidence_interval[1], color=\"blue\", linestyle=\"--\")\n",
    "plt.legend()\n",
    "plt.show()"
   ]
  },
  {
   "attachments": {},
   "cell_type": "markdown",
   "metadata": {},
   "source": [
    "En este ejemplo, generamos una muestra aleatoria de 100 valores con una media de 10 y una desviación estándar de 2. Luego, calculamos la media y la desviación estándar de la muestra. A continuación, definimos el nivel de confianza deseado (95%) y calculamos el valor crítico de Z para ese nivel de confianza. Utilizando estos valores, podemos calcular el intervalo de confianza para la media poblacional.\n",
    "\n",
    "En la gráfica, el histograma de los datos muestra la distribución de la muestra, y la línea negra representa la distribución teórica de la media muestral. El intervalo de confianza se muestra como dos líneas punteadas azules verticales.\n",
    "\n",
    "El intervalo de confianza nos da una idea de la precisión con la que estamos estimando el parámetro poblacional desconocido. En este ejemplo, el intervalo de confianza es de aproximadamente 9.0 a 10.8, lo que significa que podemos estar 95% seguros de que la verdadera media poblacional se encuentra dentro de ese rango."
   ]
  },
  {
   "attachments": {},
   "cell_type": "markdown",
   "metadata": {},
   "source": [
    "## **Bootstrap con python: paso a paso**"
   ]
  },
  {
   "cell_type": "code",
   "execution_count": 20,
   "metadata": {},
   "outputs": [],
   "source": [
    "import numpy as np\n",
    "import matplotlib.pyplot as plt"
   ]
  },
  {
   "attachments": {},
   "cell_type": "markdown",
   "metadata": {},
   "source": [
    "A continuación, generaremos una muestra aleatoria con una distribución normal con media 10 y desviación estándar 2:"
   ]
  },
  {
   "cell_type": "code",
   "execution_count": 21,
   "metadata": {},
   "outputs": [],
   "source": [
    "np.random.seed(123)\n",
    "data = np.random.normal(loc=10, scale=2, size=100)"
   ]
  },
  {
   "attachments": {},
   "cell_type": "markdown",
   "metadata": {},
   "source": [
    "A continuación, crearemos una función que realice el bootstrap y devuelva la media de la muestra bootstrap:"
   ]
  },
  {
   "cell_type": "code",
   "execution_count": 22,
   "metadata": {},
   "outputs": [],
   "source": [
    "def bootstrap_mean(data, n_bootstrap, sample_size):\n",
    "    bootstrap_means = []\n",
    "    for i in range(n_bootstrap):\n",
    "        sample = np.random.choice(data, size=sample_size, replace=True)\n",
    "        bootstrap_means.append(np.mean(sample))\n",
    "    return bootstrap_means"
   ]
  },
  {
   "attachments": {},
   "cell_type": "markdown",
   "metadata": {},
   "source": [
    "La función toma tres argumentos: los datos, el número de muestras bootstrap a generar y el tamaño de muestra para cada muestra bootstrap. La función devuelve una lista que contiene las medias de la muestra bootstrap.\n",
    "\n",
    "Ahora vamos a generar 1000 muestras bootstrap con un tamaño de muestra de 30:"
   ]
  },
  {
   "cell_type": "code",
   "execution_count": 23,
   "metadata": {},
   "outputs": [],
   "source": [
    "bootstrap_means = bootstrap_mean(data, n_bootstrap=1000, sample_size=30)"
   ]
  },
  {
   "attachments": {},
   "cell_type": "markdown",
   "metadata": {},
   "source": [
    "A continuación, calcularemos el error estándar de la media teórica y la media bootstrap:"
   ]
  },
  {
   "cell_type": "code",
   "execution_count": 24,
   "metadata": {},
   "outputs": [],
   "source": [
    "se_theoretical = np.std(data, ddof=1) / np.sqrt(len(data))\n",
    "se_bootstrap = np.std(bootstrap_means, ddof=1)"
   ]
  },
  {
   "attachments": {},
   "cell_type": "markdown",
   "metadata": {},
   "source": [
    "Finalmente, podemos visualizar las distribuciones teóricas y bootstrap de las medias y trazar una línea vertical en la media teórica y media bootstrap:"
   ]
  },
  {
   "cell_type": "code",
   "execution_count": 25,
   "metadata": {},
   "outputs": [
    {
     "data": {
      "image/png": "[encoded data removed]",
      "text/plain": [
       "<Figure size 432x288 with 1 Axes>"
      ]
     },
     "metadata": {
      "needs_background": "light"
     },
     "output_type": "display_data"
    }
   ],
   "source": [
    "plt.hist(bootstrap_means, bins=30, color=\"blue\", alpha=0.5, label=\"Bootstrap\")\n",
    "plt.axvline(np.mean(data), color=\"red\", linestyle=\"--\", label=\"Media teórica\")\n",
    "plt.axvline(np.mean(bootstrap_means), color=\"blue\", linestyle=\"--\", label=\"Media Bootstrap\")\n",
    "x = np.linspace(8, 12, 100)\n",
    "plt.plot(x, stats.norm(loc=np.mean(data), scale=se_theoretical).pdf(x), color=\"red\", label=\"Distribución teórica\")\n",
    "plt.plot(x, stats.norm(loc=np.mean(bootstrap_means), scale=se_bootstrap).pdf(x), color=\"blue\", label=\"Distribución Bootstrap\")\n",
    "plt.legend()\n",
    "plt.show()"
   ]
  },
  {
   "attachments": {},
   "cell_type": "markdown",
   "metadata": {},
   "source": [
    "| **Inicio** | **atrás 32** | **Siguiente 34** |\n",
    "|----------- |-------------- |---------------|\n",
    "| [🏠](../../README.md) | [⏪](./32.Regresion.ipynb)| [⏩](./34.Modelos_de_Regresion.ipynb)|"
   ]
  }
 ],
 "metadata": {
  "kernelspec": {
   "display_name": "base",
   "language": "python",
   "name": "python3"
  },
  "language_info": {
   "codemirror_mode": {
    "name": "ipython",
    "version": 3
   },
   "file_extension": ".py",
   "mimetype": "text/x-python",
   "name": "python",
   "nbconvert_exporter": "python",
   "pygments_lexer": "ipython3",
   "version": "3.9.12"
  },
  "orig_nbformat": 4
 },
 "nbformat": 4,
 "nbformat_minor": 2
}
