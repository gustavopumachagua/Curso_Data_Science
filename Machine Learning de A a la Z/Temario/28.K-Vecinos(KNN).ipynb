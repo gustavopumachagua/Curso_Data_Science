{
 "cells": [
  {
   "attachments": {},
   "cell_type": "markdown",
   "metadata": {},
   "source": [
    "| **Inicio** | **atrás 27** | **Siguiente 29** |\n",
    "|----------- |-------------- |---------------|\n",
    "| [🏠](../../README.md) | [⏪](./27.Discretizar_Datos_Numericos.ipynb)| [⏩](./29.Analisis_Componentes_Principales.ipynb)|"
   ]
  },
  {
   "attachments": {},
   "cell_type": "markdown",
   "metadata": {},
   "source": [
    "# **28. Descubre cómo manejar Datos ó Valores Faltantes Imputando con K-Vecinos más cercanos (KNN)**"
   ]
  },
  {
   "attachments": {},
   "cell_type": "markdown",
   "metadata": {},
   "source": [
    "## **Qué es la Imputación de valores faltantes**"
   ]
  },
  {
   "attachments": {},
   "cell_type": "markdown",
   "metadata": {},
   "source": [
    "La imputación de valores faltantes es una técnica de preprocesamiento de datos que consiste en reemplazar los valores faltantes en un conjunto de datos por valores estimados. Esta técnica es útil cuando el conjunto de datos tiene valores faltantes que pueden afectar el rendimiento de los algoritmos de aprendizaje automático.\n",
    "\n",
    "A continuación se muestra un ejemplo de cómo imputar valores faltantes en una columna de un conjunto de datos con la biblioteca pandas de Python:"
   ]
  },
  {
   "cell_type": "code",
   "execution_count": 1,
   "metadata": {},
   "outputs": [
    {
     "name": "stdout",
     "output_type": "stream",
     "text": [
      "     A      B      C\n",
      "0  1.0   6.00  11.00\n",
      "1  2.0   8.25  12.00\n",
      "2  3.0   8.00  13.00\n",
      "3  4.0   9.00  12.75\n",
      "4  5.0  10.00  15.00\n"
     ]
    }
   ],
   "source": [
    "import pandas as pd\n",
    "import numpy as np\n",
    "\n",
    "# Datos de ejemplo con valores faltantes\n",
    "datos = pd.DataFrame({'A': [1, 2, np.nan, 4, 5], 'B': [6, np.nan, 8, 9, 10], 'C': [11, 12, 13, np.nan, 15]})\n",
    "\n",
    "# Imputar valores faltantes con la media de la columna\n",
    "datos_imputados = datos.fillna(datos.mean())\n",
    "\n",
    "print(datos_imputados)\n"
   ]
  },
  {
   "attachments": {},
   "cell_type": "markdown",
   "metadata": {},
   "source": [
    "En este ejemplo, utilizamos la función ```fillna``` de pandas para imputar los valores faltantes en la columna A del conjunto de datos. La función ```mean()``` se utiliza para calcular la media de la columna y reemplazar los valores faltantes por este valor estimado."
   ]
  },
  {
   "attachments": {},
   "cell_type": "markdown",
   "metadata": {},
   "source": [
    "## **KNN para imputación con scikit-learn**"
   ]
  },
  {
   "attachments": {},
   "cell_type": "markdown",
   "metadata": {},
   "source": [
    "KNN (k-nearest neighbors) es un algoritmo de aprendizaje automático utilizado para imputar valores faltantes en un conjunto de datos. La idea detrás de este algoritmo es utilizar los valores de las observaciones más cercanas para imputar los valores faltantes.\n",
    "\n",
    "A continuación se muestra un ejemplo de cómo utilizar KNN para imputar valores faltantes en un conjunto de datos con la biblioteca scikit-learn de Python:"
   ]
  },
  {
   "cell_type": "code",
   "execution_count": 2,
   "metadata": {},
   "outputs": [
    {
     "name": "stdout",
     "output_type": "stream",
     "text": [
      "[[ 1.  6. 11.]\n",
      " [ 2.  7. 12.]\n",
      " [ 3.  8. 13.]\n",
      " [ 4.  9. 14.]\n",
      " [ 5. 10. 15.]]\n"
     ]
    }
   ],
   "source": [
    "import pandas as pd\n",
    "from sklearn.impute import KNNImputer\n",
    "\n",
    "# Datos de ejemplo con valores faltantes\n",
    "datos = pd.DataFrame({'A': [1, 2, None, 4, 5], 'B': [6, None, 8, 9, 10], 'C': [11, 12, 13, None, 15]})\n",
    "\n",
    "# Imputar valores faltantes con KNN\n",
    "imputer = KNNImputer(n_neighbors=2)\n",
    "datos_imputados = imputer.fit_transform(datos)\n",
    "\n",
    "print(datos_imputados)\n"
   ]
  },
  {
   "cell_type": "code",
   "execution_count": 3,
   "metadata": {},
   "outputs": [
    {
     "data": {
      "image/png": "[encoded data removed]",
      "text/plain": [
       "<Figure size 432x288 with 1 Axes>"
      ]
     },
     "metadata": {
      "needs_background": "light"
     },
     "output_type": "display_data"
    }
   ],
   "source": [
    "import matplotlib.pyplot as plt\n",
    "\n",
    "# Gráfica de los datos originales\n",
    "plt.scatter(datos['A'], datos['B'], color='blue')\n",
    "plt.scatter(datos['A'], datos['C'], color='red')\n",
    "\n",
    "# Gráfica de los datos imputados\n",
    "plt.scatter(datos_imputados[:, 0], datos_imputados[:, 1], color='green')\n",
    "plt.scatter(datos_imputados[:, 0], datos_imputados[:, 2], color='orange')\n",
    "\n",
    "plt.legend(['B', 'C', 'B imputado', 'C imputado'])\n",
    "plt.show()\n"
   ]
  },
  {
   "attachments": {},
   "cell_type": "markdown",
   "metadata": {},
   "source": [
    "## **Not a Number (NaN) para indicar valores faltantes**"
   ]
  },
  {
   "attachments": {},
   "cell_type": "markdown",
   "metadata": {},
   "source": [
    "En Python, los valores faltantes se representan comúnmente con \"Not a Number\" (NaN) utilizando la biblioteca NumPy. A continuación, se presenta un ejemplo de cómo crear un conjunto de datos con valores faltantes y visualizarlo utilizando un gráfico de dispersión:"
   ]
  },
  {
   "cell_type": "code",
   "execution_count": 4,
   "metadata": {},
   "outputs": [
    {
     "data": {
      "image/png": "[encoded data removed]",
      "text/plain": [
       "<Figure size 432x288 with 1 Axes>"
      ]
     },
     "metadata": {
      "needs_background": "light"
     },
     "output_type": "display_data"
    }
   ],
   "source": [
    "import numpy as np\n",
    "import matplotlib.pyplot as plt\n",
    "\n",
    "# Crear datos de ejemplo con valores faltantes\n",
    "x = np.array([1, 2, 3, np.nan, 5])\n",
    "y = np.array([6, np.nan, 8, 9, 10])\n",
    "\n",
    "# Graficar los datos\n",
    "plt.scatter(x, y)\n",
    "\n",
    "plt.xlabel('X')\n",
    "plt.ylabel('Y')\n",
    "plt.title('Datos con valores faltantes')\n",
    "plt.show()\n"
   ]
  },
  {
   "attachments": {},
   "cell_type": "markdown",
   "metadata": {},
   "source": [
    "## **Uso de KNN Imputer**"
   ]
  },
  {
   "attachments": {},
   "cell_type": "markdown",
   "metadata": {},
   "source": [
    "A continuación se presenta un ejemplo de cómo usar el algoritmo de imputación KNN (K-Nearest Neighbors) de la biblioteca scikit-learn en Python para rellenar valores faltantes en un conjunto de datos:"
   ]
  },
  {
   "cell_type": "code",
   "execution_count": 5,
   "metadata": {},
   "outputs": [
    {
     "name": "stdout",
     "output_type": "stream",
     "text": [
      "[[ 1.   2.   6. ]\n",
      " [ 3.   4.   5. ]\n",
      " [ 5.5  6.   7. ]\n",
      " [ 8.   9.  10. ]]\n"
     ]
    }
   ],
   "source": [
    "import numpy as np\n",
    "from sklearn.impute import KNNImputer\n",
    "\n",
    "# Crear datos de ejemplo con valores faltantes\n",
    "X = np.array([[1, 2, np.nan], [3, np.nan, 5], [np.nan, 6, 7], [8, 9, 10]])\n",
    "\n",
    "# Imputar valores faltantes con KNN\n",
    "imputer = KNNImputer(n_neighbors=2)\n",
    "X_imputed = imputer.fit_transform(X)\n",
    "\n",
    "# Imprimir los datos imputados\n",
    "print(X_imputed)\n"
   ]
  },
  {
   "cell_type": "code",
   "execution_count": 6,
   "metadata": {},
   "outputs": [
    {
     "data": {
      "image/png": "[encoded data removed]",
      "text/plain": [
       "<Figure size 432x288 with 1 Axes>"
      ]
     },
     "metadata": {
      "needs_background": "light"
     },
     "output_type": "display_data"
    }
   ],
   "source": [
    "import matplotlib.pyplot as plt\n",
    "\n",
    "# Graficar los datos imputados\n",
    "plt.scatter(X_imputed[:, 0], X_imputed[:, 1])\n",
    "\n",
    "plt.xlabel('X')\n",
    "plt.ylabel('Y')\n",
    "plt.title('Datos imputados con KNN')\n",
    "plt.show()\n"
   ]
  },
  {
   "attachments": {},
   "cell_type": "markdown",
   "metadata": {},
   "source": [
    "## **Comparación de técnicas de imputación**"
   ]
  },
  {
   "cell_type": "code",
   "execution_count": 10,
   "metadata": {},
   "outputs": [
    {
     "data": {
      "image/png": "[encoded data removed]",
      "text/plain": [
       "<Figure size 432x288 with 1 Axes>"
      ]
     },
     "metadata": {
      "needs_background": "light"
     },
     "output_type": "display_data"
    }
   ],
   "source": [
    "import numpy as np\n",
    "import pandas as pd\n",
    "import matplotlib.pyplot as plt\n",
    "from sklearn.impute import KNNImputer, SimpleImputer\n",
    "from sklearn.preprocessing import StandardScaler\n",
    "from sklearn.decomposition import PCA\n",
    "from sklearn.datasets import load_iris\n",
    "from sklearn.model_selection import cross_val_score\n",
    "from sklearn.linear_model import LogisticRegression\n",
    "\n",
    "# Cargar el conjunto de datos de ejemplo\n",
    "iris = load_iris()\n",
    "X = iris.data\n",
    "y = iris.target\n",
    "\n",
    "# Introducir valores faltantes de forma aleatoria\n",
    "rng = np.random.RandomState(0)\n",
    "missing_mask = rng.binomial(1, 0.25, size=X.shape).astype(bool)\n",
    "X[missing_mask] = np.nan\n",
    "\n",
    "# Crear una lista de imputadores\n",
    "imputers = [\n",
    "    (\"mean\", SimpleImputer(strategy=\"mean\")),\n",
    "    (\"median\", SimpleImputer(strategy=\"median\")),\n",
    "    (\"knn\", KNNImputer(n_neighbors=5))\n",
    "]\n",
    "\n",
    "# Crear un diccionario para almacenar los resultados\n",
    "results = {}\n",
    "\n",
    "# Iterar sobre cada imputador y calcular el score\n",
    "for name, imputer in imputers:\n",
    "    pipe = Pipeline([\n",
    "        ('imputer', imputer),\n",
    "        ('scaler', StandardScaler()),\n",
    "        ('pca', PCA(n_components=2)),\n",
    "    ])\n",
    "    X_imputed = pipe.fit_transform(X)\n",
    "    score = np.mean(cross_val_score(LogisticRegression(), X_imputed, y, scoring=\"accuracy\", cv=5))\n",
    "    results[name] = score\n",
    "\n",
    "# Crear un gráfico de barras para comparar los resultados\n",
    "plt.bar(range(len(results)), list(results.values()), align='center')\n",
    "plt.xticks(range(len(results)), list(results.keys()))\n",
    "plt.xlabel('Imputador')\n",
    "plt.ylabel('Exactitud')\n",
    "plt.title('Comparación de técnicas de imputación')\n",
    "plt.show()\n"
   ]
  },
  {
   "attachments": {},
   "cell_type": "markdown",
   "metadata": {},
   "source": [
    "| **Inicio** | **atrás 27** | **Siguiente 29** |\n",
    "|----------- |-------------- |---------------|\n",
    "| [🏠](../../README.md) | [⏪](./27.Discretizar_Datos_Numericos.ipynb)| [⏩](./29.Analisis_Componentes_Principales.ipynb)|"
   ]
  }
 ],
 "metadata": {
  "kernelspec": {
   "display_name": "base",
   "language": "python",
   "name": "python3"
  },
  "language_info": {
   "codemirror_mode": {
    "name": "ipython",
    "version": 3
   },
   "file_extension": ".py",
   "mimetype": "text/x-python",
   "name": "python",
   "nbconvert_exporter": "python",
   "pygments_lexer": "ipython3",
   "version": "3.9.12"
  },
  "orig_nbformat": 4
 },
 "nbformat": 4,
 "nbformat_minor": 2
}
