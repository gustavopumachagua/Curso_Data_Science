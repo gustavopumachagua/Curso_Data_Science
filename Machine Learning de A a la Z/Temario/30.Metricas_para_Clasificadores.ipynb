{
 "cells": [
  {
   "attachments": {},
   "cell_type": "markdown",
   "metadata": {},
   "source": [
    "| **Inicio** | **atrás 29** | **Siguiente 31** |\n",
    "|----------- |-------------- |---------------|\n",
    "| [🏠](../../README.md) | [⏪](./29.Analisis_Componentes_Principales.ipynb)| [⏩](./31.Inteligencia_Artificial.ipynb)|"
   ]
  },
  {
   "attachments": {},
   "cell_type": "markdown",
   "metadata": {},
   "source": [
    "# **30. Métricas para Clasificadores de Machine Learning ➤ Matriz de Confusión Precision Accuracy Recall F1**"
   ]
  },
  {
   "attachments": {},
   "cell_type": "markdown",
   "metadata": {},
   "source": [
    "## **Introducción**"
   ]
  },
  {
   "attachments": {},
   "cell_type": "markdown",
   "metadata": {},
   "source": [
    "La matriz de confusión es una herramienta comúnmente utilizada en el aprendizaje automático para evaluar el rendimiento de un modelo de clasificación. Esta matriz muestra la relación entre las etiquetas verdaderas y las etiquetas predichas por el modelo.\n",
    "\n",
    "En una matriz de confusión, las filas representan las etiquetas verdaderas y las columnas representan las etiquetas predichas. En el caso de un problema de clasificación binaria, la matriz tendrá dos filas y dos columnas, como se muestra a continuación:\n",
    "\n",
    "```\n",
    "                      Etiqueta predicha: 0\t   Etiqueta predicha: 1\n",
    "Etiqueta real: 0\t    Verdadero negativo\t     Falso positivo\n",
    "Etiqueta real: 1\t    Falso negativo\t     Verdadero positivo\n",
    "```\n",
    "\n",
    "Un verdadero positivo (TP) ocurre cuando el modelo predice correctamente una muestra positiva, mientras que un verdadero negativo (TN) ocurre cuando el modelo predice correctamente una muestra negativa. Un falso positivo (FP) ocurre cuando el modelo predice incorrectamente una muestra negativa como positiva, mientras que un falso negativo (FN) ocurre cuando el modelo predice incorrectamente una muestra positiva como negativa.\n",
    "\n",
    "A partir de la matriz de confusión, se pueden calcular diversas métricas para evaluar el rendimiento del modelo de clasificación, como la precisión, la exactitud, la recuperación y la puntuación F1:\n",
    "\n",
    "* La precisión (precision) es la proporción de verdaderos positivos sobre el número total de predicciones positivas del modelo (TP / (TP + FP)). Esta métrica mide la proporción de predicciones positivas del modelo que son realmente positivas.\n",
    "\n",
    "* La exactitud (accuracy) es la proporción de predicciones correctas (TP + TN) sobre el número total de predicciones del modelo (TP + TN + FP + FN). Esta métrica mide la proporción de predicciones correctas del modelo en general.\n",
    "\n",
    "* La recuperación (recall) es la proporción de verdaderos positivos sobre el número total de muestras positivas del conjunto de datos (TP / (TP + FN)). Esta métrica mide la proporción de muestras positivas que son correctamente identificadas por el modelo.\n",
    "\n",
    "* La puntuación F1 (F1-score) es la media armónica de la precisión y la recuperación (2 * precision * recall / (precision + recall)). Esta métrica proporciona una medida única de la precisión y la recuperación del modelo.\n",
    "\n",
    "En resumen, la matriz de confusión y las métricas derivadas de ella son herramientas valiosas para evaluar el rendimiento de un modelo de clasificación y comprender mejor cómo se están realizando las predicciones en términos de verdaderos positivos, verdaderos negativos, falsos positivos y falsos negativos."
   ]
  },
  {
   "attachments": {},
   "cell_type": "markdown",
   "metadata": {},
   "source": [
    "## **Matriz de confusión**"
   ]
  },
  {
   "attachments": {},
   "cell_type": "markdown",
   "metadata": {},
   "source": [
    "La matriz de confusión es una herramienta comúnmente utilizada en el aprendizaje automático para evaluar el rendimiento de un modelo de clasificación. A continuación se muestra un ejemplo de cómo se puede crear una matriz de confusión en Python utilizando la biblioteca Scikit-Learn:\n",
    "\n",
    "Supongamos que tenemos un conjunto de datos de clasificación binaria y hemos entrenado un modelo de clasificación. Podemos utilizar la función confusion_matrix() de Scikit-Learn para generar una matriz de confusión a partir de las etiquetas verdaderas y predichas del modelo:"
   ]
  },
  {
   "cell_type": "code",
   "execution_count": 1,
   "metadata": {},
   "outputs": [
    {
     "name": "stdout",
     "output_type": "stream",
     "text": [
      "[[1 1]\n",
      " [1 3]]\n"
     ]
    }
   ],
   "source": [
    "from sklearn.metrics import confusion_matrix\n",
    "\n",
    "# Ejemplo de etiquetas verdaderas y predichas\n",
    "y_true = [1, 0, 1, 1, 0, 1]\n",
    "y_pred = [0, 0, 1, 1, 1, 1]\n",
    "\n",
    "# Crear la matriz de confusión\n",
    "cm = confusion_matrix(y_true, y_pred)\n",
    "\n",
    "# Imprimir la matriz de confusión\n",
    "print(cm)\n"
   ]
  },
  {
   "attachments": {},
   "cell_type": "markdown",
   "metadata": {},
   "source": [
    "En esta matriz de confusión, la etiqueta 0 se representa en la fila 1 y la etiqueta 1 en la fila 2. La columna 1 representa las etiquetas predichas como 0 y la columna 2 representa las etiquetas predichas como 1. En este ejemplo, hay un verdadero negativo (TN) en la posición (1,1), un falso negativo (FN) en la posición (2,1), un falso positivo (FP) en la posición (1,2) y tres verdaderos positivos (TP) en la posición (2,2).\n",
    "\n",
    "Para visualizar la matriz de confusión de forma más clara, podemos utilizar la biblioteca Matplotlib para crear un gráfico de barras:"
   ]
  },
  {
   "cell_type": "code",
   "execution_count": 2,
   "metadata": {},
   "outputs": [
    {
     "data": {
      "image/png": "[encoded data removed]",
      "text/plain": [
       "<Figure size 432x288 with 2 Axes>"
      ]
     },
     "metadata": {
      "needs_background": "light"
     },
     "output_type": "display_data"
    }
   ],
   "source": [
    "import matplotlib.pyplot as plt\n",
    "import numpy as np\n",
    "\n",
    "# Crear una función para mostrar la matriz de confusión\n",
    "def plot_confusion_matrix(cm, classes):\n",
    "    plt.imshow(cm, interpolation='nearest', cmap=plt.cm.Blues)\n",
    "    plt.title('Matriz de Confusión')\n",
    "    plt.colorbar()\n",
    "    tick_marks = np.arange(len(classes))\n",
    "    plt.xticks(tick_marks, classes, rotation=0)\n",
    "    plt.yticks(tick_marks, classes)\n",
    "    \n",
    "    # Añadir etiquetas a cada celda\n",
    "    thresh = cm.max() / 2.\n",
    "    for i, j in np.ndindex(cm.shape):\n",
    "        plt.text(j, i, format(cm[i, j], 'd'),\n",
    "                 horizontalalignment=\"center\",\n",
    "                 color=\"white\" if cm[i, j] > thresh else \"black\")\n",
    "    \n",
    "    plt.ylabel('Etiqueta Real')\n",
    "    plt.xlabel('Etiqueta Predicha')\n",
    "    plt.tight_layout()\n",
    "\n",
    "# Etiquetas de las clases\n",
    "class_names = ['0', '1']\n",
    "\n",
    "# Graficar la matriz de confusión\n",
    "plt.figure()\n",
    "plot_confusion_matrix(cm, classes=class_names)\n",
    "plt.show()\n"
   ]
  },
  {
   "attachments": {},
   "cell_type": "markdown",
   "metadata": {},
   "source": [
    "## **Accuracy**"
   ]
  },
  {
   "attachments": {},
   "cell_type": "markdown",
   "metadata": {},
   "source": [
    "La exactitud (accuracy) es una métrica comúnmente utilizada para evaluar el rendimiento de un modelo de clasificación en el aprendizaje automático. La exactitud mide la proporción de predicciones correctas que hizo el modelo sobre el total de predicciones. A continuación se muestra un ejemplo de cómo calcular la exactitud en Python utilizando la biblioteca Scikit-Learn:\n",
    "\n",
    "Supongamos que tenemos un conjunto de datos de clasificación binaria y hemos entrenado un modelo de clasificación. Podemos utilizar la función accuracy_score() de Scikit-Learn para calcular la exactitud a partir de las etiquetas verdaderas y predichas del modelo:"
   ]
  },
  {
   "cell_type": "code",
   "execution_count": 3,
   "metadata": {},
   "outputs": [
    {
     "name": "stdout",
     "output_type": "stream",
     "text": [
      "Exactitud: 0.6666666666666666\n"
     ]
    }
   ],
   "source": [
    "from sklearn.metrics import accuracy_score\n",
    "\n",
    "# Ejemplo de etiquetas verdaderas y predichas\n",
    "y_true = [1, 0, 1, 1, 0, 1]\n",
    "y_pred = [0, 0, 1, 1, 1, 1]\n",
    "\n",
    "# Calcular la exactitud\n",
    "acc = accuracy_score(y_true, y_pred)\n",
    "\n",
    "# Imprimir la exactitud\n",
    "print(\"Exactitud:\", acc)\n"
   ]
  },
  {
   "attachments": {},
   "cell_type": "markdown",
   "metadata": {},
   "source": [
    "En este ejemplo, el modelo hizo cuatro predicciones correctas y dos predicciones incorrectas, lo que resulta en una exactitud de 0.67 (o aproximadamente el 67%).\n",
    "\n",
    "Para visualizar la exactitud de forma más clara, podemos utilizar la biblioteca Matplotlib para crear un gráfico de barras:"
   ]
  },
  {
   "cell_type": "code",
   "execution_count": 4,
   "metadata": {},
   "outputs": [
    {
     "data": {
      "image/png": "[encoded data removed]",
      "text/plain": [
       "<Figure size 432x288 with 1 Axes>"
      ]
     },
     "metadata": {
      "needs_background": "light"
     },
     "output_type": "display_data"
    }
   ],
   "source": [
    "import matplotlib.pyplot as plt\n",
    "\n",
    "# Etiquetas de las clases\n",
    "class_names = ['0', '1']\n",
    "\n",
    "# Crear una función para mostrar la exactitud\n",
    "def plot_accuracy(acc, classes):\n",
    "    plt.bar(classes, acc)\n",
    "    plt.title('Exactitud')\n",
    "    plt.ylabel('Exactitud')\n",
    "    plt.xlabel('Clase')\n",
    "    plt.ylim([0, 1])\n",
    "\n",
    "    # Añadir etiquetas a cada barra\n",
    "    for i, v in enumerate(acc):\n",
    "        plt.text(i, v+0.02, str(round(v,2)),\n",
    "                 horizontalalignment='center')\n",
    "\n",
    "    plt.show()\n",
    "\n",
    "# Calcular la exactitud por clase\n",
    "acc_class = [0.5, 0.75]\n",
    "\n",
    "# Graficar la exactitud\n",
    "plt.figure()\n",
    "plot_accuracy(acc_class, classes=class_names)\n",
    "plt.show()\n"
   ]
  },
  {
   "attachments": {},
   "cell_type": "markdown",
   "metadata": {},
   "source": [
    "En esta gráfica, cada barra representa la exactitud para cada una de las dos clases. La altura de cada barra representa la exactitud de esa clase, y el valor numérico encima de cada barra representa la exactitud redondeada a dos decimales. En este ejemplo, la exactitud para la clase 0 es 0.5 y la exactitud para la clase 1 es 0.75."
   ]
  },
  {
   "attachments": {},
   "cell_type": "markdown",
   "metadata": {},
   "source": [
    "## **Precision y Recall**"
   ]
  },
  {
   "attachments": {},
   "cell_type": "markdown",
   "metadata": {},
   "source": [
    "La precisión y el recall son métricas comúnmente utilizadas para evaluar el rendimiento de un modelo de clasificación en el aprendizaje automático. La precisión mide la proporción de predicciones positivas que son correctas, mientras que el recall mide la proporción de instancias positivas que se identificaron correctamente. A continuación se muestra un ejemplo de cómo calcular la precisión y el recall en Python utilizando la biblioteca Scikit-Learn:\n",
    "\n",
    "Supongamos que tenemos un conjunto de datos de clasificación binaria y hemos entrenado un modelo de clasificación. Podemos utilizar la función precision_score() y recall_score() de Scikit-Learn para calcular la precisión y el recall a partir de las etiquetas verdaderas y predichas del modelo:"
   ]
  },
  {
   "cell_type": "code",
   "execution_count": 5,
   "metadata": {},
   "outputs": [
    {
     "name": "stdout",
     "output_type": "stream",
     "text": [
      "Precisión: 0.75\n",
      "Recall: 0.75\n"
     ]
    }
   ],
   "source": [
    "from sklearn.metrics import precision_score, recall_score\n",
    "\n",
    "# Ejemplo de etiquetas verdaderas y predichas\n",
    "y_true = [1, 0, 1, 1, 0, 1]\n",
    "y_pred = [0, 0, 1, 1, 1, 1]\n",
    "\n",
    "# Calcular la precisión y el recall\n",
    "precision = precision_score(y_true, y_pred)\n",
    "recall = recall_score(y_true, y_pred)\n",
    "\n",
    "# Imprimir la precisión y el recall\n",
    "print(\"Precisión:\", precision)\n",
    "print(\"Recall:\", recall)\n"
   ]
  },
  {
   "attachments": {},
   "cell_type": "markdown",
   "metadata": {},
   "source": [
    "En este ejemplo, el modelo hizo tres predicciones positivas, dos de las cuales son correctas, lo que resulta en una precisión y un recall de 0.75 (o aproximadamente el 75%).\n",
    "\n",
    "Para visualizar la precisión y el recall de forma más clara, podemos utilizar la biblioteca Matplotlib para crear un gráfico de barras:"
   ]
  },
  {
   "cell_type": "code",
   "execution_count": 6,
   "metadata": {},
   "outputs": [
    {
     "data": {
      "image/png": "[encoded data removed]",
      "text/plain": [
       "<Figure size 432x288 with 1 Axes>"
      ]
     },
     "metadata": {
      "needs_background": "light"
     },
     "output_type": "display_data"
    }
   ],
   "source": [
    "import matplotlib.pyplot as plt\n",
    "\n",
    "# Etiquetas de las clases\n",
    "class_names = ['0', '1']\n",
    "\n",
    "# Crear una función para mostrar la precisión y el recall\n",
    "def plot_pr(prec, rec, classes):\n",
    "    plt.bar(classes, prec, alpha=0.5, color='blue', label='Precision')\n",
    "    plt.bar(classes, rec, alpha=0.5, color='red', label='Recall')\n",
    "    plt.title('Precisión y Recall')\n",
    "    plt.ylabel('Valor')\n",
    "    plt.xlabel('Clase')\n",
    "    plt.ylim([0, 1])\n",
    "    plt.legend(loc='best')\n",
    "\n",
    "    # Añadir etiquetas a cada barra\n",
    "    for i, v in enumerate(prec):\n",
    "        plt.text(i, v+0.02, str(round(v,2)),\n",
    "                 horizontalalignment='center')\n",
    "    for i, v in enumerate(rec):\n",
    "        plt.text(i, v+0.02, str(round(v,2)),\n",
    "                 horizontalalignment='center')\n",
    "\n",
    "    plt.show()\n",
    "\n",
    "# Calcular la precisión y el recall por clase\n",
    "prec_class = [0.5, 1.0]\n",
    "rec_class = [1.0, 0.5]\n",
    "\n",
    "# Graficar la precisión y el recall\n",
    "plt.figure()\n",
    "plot_pr(prec_class, rec_class, classes=class_names)\n",
    "plt.show()\n"
   ]
  },
  {
   "attachments": {},
   "cell_type": "markdown",
   "metadata": {},
   "source": [
    "## **F1 score**"
   ]
  },
  {
   "attachments": {},
   "cell_type": "markdown",
   "metadata": {},
   "source": [
    "El F1 score es una medida que combina la precisión y el recall de un modelo de clasificación en una sola métrica. Se calcula como la media armónica de la precisión y el recall, y proporciona una evaluación más equilibrada del rendimiento del modelo en comparación con la precisión o el recall por sí solos.\n",
    "\n",
    "En Python, podemos utilizar la biblioteca Scikit-Learn para calcular el F1 score utilizando la función f1_score() a partir de las etiquetas verdaderas y predichas del modelo:"
   ]
  },
  {
   "cell_type": "code",
   "execution_count": 7,
   "metadata": {},
   "outputs": [
    {
     "name": "stdout",
     "output_type": "stream",
     "text": [
      "F1 score: 0.75\n"
     ]
    }
   ],
   "source": [
    "from sklearn.metrics import f1_score\n",
    "\n",
    "# Ejemplo de etiquetas verdaderas y predichas\n",
    "y_true = [1, 0, 1, 1, 0, 1]\n",
    "y_pred = [0, 0, 1, 1, 1, 1]\n",
    "\n",
    "# Calcular el F1 score\n",
    "f1 = f1_score(y_true, y_pred)\n",
    "\n",
    "# Imprimir el F1 score\n",
    "print(\"F1 score:\", f1)\n"
   ]
  },
  {
   "attachments": {},
   "cell_type": "markdown",
   "metadata": {},
   "source": [
    "En este ejemplo, el modelo tiene una precisión y un recall de 0.75, lo que resulta en un F1 score de 0.75 (o aproximadamente el 75%).\n",
    "\n",
    "Para visualizar el F1 score de forma más clara, podemos utilizar la biblioteca Matplotlib para crear un gráfico de barras:"
   ]
  },
  {
   "cell_type": "code",
   "execution_count": 8,
   "metadata": {},
   "outputs": [
    {
     "data": {
      "image/png": "[encoded data removed]",
      "text/plain": [
       "<Figure size 432x288 with 1 Axes>"
      ]
     },
     "metadata": {
      "needs_background": "light"
     },
     "output_type": "display_data"
    }
   ],
   "source": [
    "import matplotlib.pyplot as plt\n",
    "\n",
    "# Etiquetas de las clases\n",
    "class_names = ['0', '1']\n",
    "\n",
    "# Crear una función para mostrar el F1 score\n",
    "def plot_f1(f1, classes):\n",
    "    plt.bar(classes, f1, alpha=0.5, color='green', label='F1 score')\n",
    "    plt.title('F1 score')\n",
    "    plt.ylabel('Valor')\n",
    "    plt.xlabel('Clase')\n",
    "    plt.ylim([0, 1])\n",
    "    plt.legend(loc='best')\n",
    "\n",
    "    # Añadir etiquetas a cada barra\n",
    "    for i, v in enumerate(f1):\n",
    "        plt.text(i, v+0.02, str(round(v,2)),\n",
    "                 horizontalalignment='center')\n",
    "\n",
    "    plt.show()\n",
    "\n",
    "# Calcular el F1 score por clase\n",
    "f1_class = [0.67, 0.8]\n",
    "\n",
    "# Graficar el F1 score\n",
    "plt.figure()\n",
    "plot_f1(f1_class, classes=class_names)\n",
    "plt.show()\n"
   ]
  },
  {
   "attachments": {},
   "cell_type": "markdown",
   "metadata": {},
   "source": [
    "## **Métricas con Scikit-Learn**"
   ]
  },
  {
   "attachments": {},
   "cell_type": "markdown",
   "metadata": {},
   "source": [
    "Scikit-Learn es una de las bibliotecas más utilizadas para la implementación de algoritmos de aprendizaje automático en Python. Esta biblioteca también proporciona una amplia variedad de métricas de evaluación de modelos, que se pueden utilizar para evaluar el rendimiento de un modelo de clasificación o regresión.\n",
    "\n",
    "A continuación, se muestra un ejemplo de cómo utilizar Scikit-Learn para calcular y visualizar varias métricas de evaluación de modelos en un problema de clasificación binaria."
   ]
  },
  {
   "cell_type": "code",
   "execution_count": 9,
   "metadata": {},
   "outputs": [
    {
     "name": "stdout",
     "output_type": "stream",
     "text": [
      "Matriz de confusión:\n",
      "[[77 13]\n",
      " [15 95]]\n",
      "Precisión: 0.8796296296296297\n",
      "Recall: 0.8636363636363636\n",
      "F1 score: 0.8715596330275229\n",
      "Área bajo la curva ROC: 0.9211111111111112\n"
     ]
    },
    {
     "data": {
      "image/png": "[encoded data removed]",
      "text/plain": [
       "<Figure size 432x288 with 1 Axes>"
      ]
     },
     "metadata": {
      "needs_background": "light"
     },
     "output_type": "display_data"
    }
   ],
   "source": [
    "from sklearn.datasets import make_classification\n",
    "from sklearn.model_selection import train_test_split\n",
    "from sklearn.linear_model import LogisticRegression\n",
    "from sklearn.metrics import confusion_matrix, accuracy_score, precision_score, recall_score, f1_score, roc_curve, roc_auc_score\n",
    "import matplotlib.pyplot as plt\n",
    "\n",
    "# Generar un conjunto de datos de clasificación binaria de ejemplo\n",
    "X, y = make_classification(n_samples=1000, n_classes=2, random_state=1)\n",
    "\n",
    "# Dividir el conjunto de datos en conjuntos de entrenamiento y prueba\n",
    "X_train, X_test, y_train, y_test = train_test_split(X, y, test_size=0.2, random_state=1)\n",
    "\n",
    "# Entrenar un modelo de regresión logística\n",
    "model = LogisticRegression()\n",
    "model.fit(X_train, y_train)\n",
    "\n",
    "# Hacer predicciones en el conjunto de prueba\n",
    "y_pred = model.predict(X_test)\n",
    "\n",
    "# Calcular y mostrar la matriz de confusión\n",
    "cm = confusion_matrix(y_test, y_pred)\n",
    "print(\"Matriz de confusión:\")\n",
    "print(cm)\n",
    "\n",
    "# Calcular y mostrar la precisión, el recall y el F1 score\n",
    "acc = accuracy_score(y_test, y_pred)\n",
    "prec = precision_score(y_test, y_pred)\n",
    "rec = recall_score(y_test, y_pred)\n",
    "f1 = f1_score(y_test, y_pred)\n",
    "print(\"Precisión:\", prec)\n",
    "print(\"Recall:\", rec)\n",
    "print(\"F1 score:\", f1)\n",
    "\n",
    "# Calcular y mostrar el área bajo la curva ROC\n",
    "probs = model.predict_proba(X_test)[:,1]\n",
    "auc = roc_auc_score(y_test, probs)\n",
    "print(\"Área bajo la curva ROC:\", auc)\n",
    "\n",
    "# Graficar la curva ROC\n",
    "fpr, tpr, thresholds = roc_curve(y_test, probs)\n",
    "plt.plot(fpr, tpr, label='ROC curve (AUC = %0.2f)' % auc)\n",
    "plt.plot([0, 1], [0, 1], 'k--')\n",
    "plt.xlim([0.0, 1.0])\n",
    "plt.ylim([0.0, 1.05])\n",
    "plt.xlabel('Tasa de falsos positivos')\n",
    "plt.ylabel('Tasa de verdaderos positivos')\n",
    "plt.title('Curva ROC')\n",
    "plt.legend(loc=\"lower right\")\n",
    "plt.show()\n"
   ]
  },
  {
   "attachments": {},
   "cell_type": "markdown",
   "metadata": {},
   "source": [
    "En este ejemplo, se utiliza el conjunto de datos make_classification() de Scikit-Learn para generar un conjunto de datos de clasificación binaria de ejemplo. A continuación, se divide el conjunto de datos en conjuntos de entrenamiento y prueba y se entrena un modelo de regresión logística utilizando el conjunto de entrenamiento.\n",
    "\n",
    "Se hacen predicciones en el conjunto de prueba y se calcula una variedad de métricas de evaluación de modelos, incluyendo la matriz de confusión, la precisión, el recall, el F1 score y el área bajo la curva ROC. La curva ROC también se grafica utilizando la función roc_curve() y la biblioteca Matplotlib.\n",
    "\n",
    "La salida del código incluye la matriz de confusión, las métricas de evaluación"
   ]
  },
  {
   "attachments": {},
   "cell_type": "markdown",
   "metadata": {},
   "source": [
    "## **Clasificadores hipotéticos**"
   ]
  },
  {
   "attachments": {},
   "cell_type": "markdown",
   "metadata": {},
   "source": [
    "Los clasificadores hipotéticos son modelos de clasificación que se basan en supuestos o hipótesis acerca de la distribución de los datos de entrenamiento. Estos clasificadores pueden ser muy simples y no tener en cuenta todas las características de los datos, pero a menudo son útiles para establecer un punto de referencia para comparar el rendimiento de modelos más complejos.\n",
    "\n",
    "A continuación se presenta un ejemplo de dos clasificadores hipotéticos simples: el clasificador de línea recta y el clasificador de frontera de decisión cuadrática. Ambos se implementan en Python utilizando la biblioteca Scikit-Learn y se ilustran con gráficos.\n",
    "\n",
    "Para empezar, se importan las bibliotecas necesarias y se genera un conjunto de datos sintético."
   ]
  },
  {
   "cell_type": "code",
   "execution_count": 10,
   "metadata": {},
   "outputs": [],
   "source": [
    "import numpy as np\n",
    "import matplotlib.pyplot as plt\n",
    "from sklearn.datasets import make_classification\n",
    "\n",
    "X, y = make_classification(n_features=2, n_redundant=0, n_informative=2,\n",
    "                           n_clusters_per_class=1, random_state=42)\n"
   ]
  },
  {
   "attachments": {},
   "cell_type": "markdown",
   "metadata": {},
   "source": [
    "A continuación, se muestra el conjunto de datos generado con una gráfica de dispersión."
   ]
  },
  {
   "cell_type": "code",
   "execution_count": 11,
   "metadata": {},
   "outputs": [
    {
     "data": {
      "image/png": "[encoded data removed]",
      "text/plain": [
       "<Figure size 432x288 with 1 Axes>"
      ]
     },
     "metadata": {
      "needs_background": "light"
     },
     "output_type": "display_data"
    }
   ],
   "source": [
    "plt.scatter(X[:, 0], X[:, 1], c=y, cmap='viridis')\n",
    "plt.xlabel('Feature 1')\n",
    "plt.ylabel('Feature 2')\n",
    "plt.show()\n"
   ]
  },
  {
   "attachments": {},
   "cell_type": "markdown",
   "metadata": {},
   "source": [
    "El siguiente paso es entrenar los clasificadores hipotéticos y mostrar las regiones de decisión que generan en la gráfica. Primero se entrena el clasificador de línea recta."
   ]
  },
  {
   "cell_type": "code",
   "execution_count": 12,
   "metadata": {},
   "outputs": [
    {
     "data": {
      "text/html": [
       "<style>#sk-container-id-1 {color: black;background-color: white;}#sk-container-id-1 pre{padding: 0;}#sk-container-id-1 div.sk-toggleable {background-color: white;}#sk-container-id-1 label.sk-toggleable__label {cursor: pointer;display: block;width: 100%;margin-bottom: 0;padding: 0.3em;box-sizing: border-box;text-align: center;}#sk-container-id-1 label.sk-toggleable__label-arrow:before {content: \"▸\";float: left;margin-right: 0.25em;color: #696969;}#sk-container-id-1 label.sk-toggleable__label-arrow:hover:before {color: black;}#sk-container-id-1 div.sk-estimator:hover label.sk-toggleable__label-arrow:before {color: black;}#sk-container-id-1 div.sk-toggleable__content {max-height: 0;max-width: 0;overflow: hidden;text-align: left;background-color: #f0f8ff;}#sk-container-id-1 div.sk-toggleable__content pre {margin: 0.2em;color: black;border-radius: 0.25em;background-color: #f0f8ff;}#sk-container-id-1 input.sk-toggleable__control:checked~div.sk-toggleable__content {max-height: 200px;max-width: 100%;overflow: auto;}#sk-container-id-1 input.sk-toggleable__control:checked~label.sk-toggleable__label-arrow:before {content: \"▾\";}#sk-container-id-1 div.sk-estimator input.sk-toggleable__control:checked~label.sk-toggleable__label {background-color: #d4ebff;}#sk-container-id-1 div.sk-label input.sk-toggleable__control:checked~label.sk-toggleable__label {background-color: #d4ebff;}#sk-container-id-1 input.sk-hidden--visually {border: 0;clip: rect(1px 1px 1px 1px);clip: rect(1px, 1px, 1px, 1px);height: 1px;margin: -1px;overflow: hidden;padding: 0;position: absolute;width: 1px;}#sk-container-id-1 div.sk-estimator {font-family: monospace;background-color: #f0f8ff;border: 1px dotted black;border-radius: 0.25em;box-sizing: border-box;margin-bottom: 0.5em;}#sk-container-id-1 div.sk-estimator:hover {background-color: #d4ebff;}#sk-container-id-1 div.sk-parallel-item::after {content: \"\";width: 100%;border-bottom: 1px solid gray;flex-grow: 1;}#sk-container-id-1 div.sk-label:hover label.sk-toggleable__label {background-color: #d4ebff;}#sk-container-id-1 div.sk-serial::before {content: \"\";position: absolute;border-left: 1px solid gray;box-sizing: border-box;top: 0;bottom: 0;left: 50%;z-index: 0;}#sk-container-id-1 div.sk-serial {display: flex;flex-direction: column;align-items: center;background-color: white;padding-right: 0.2em;padding-left: 0.2em;position: relative;}#sk-container-id-1 div.sk-item {position: relative;z-index: 1;}#sk-container-id-1 div.sk-parallel {display: flex;align-items: stretch;justify-content: center;background-color: white;position: relative;}#sk-container-id-1 div.sk-item::before, #sk-container-id-1 div.sk-parallel-item::before {content: \"\";position: absolute;border-left: 1px solid gray;box-sizing: border-box;top: 0;bottom: 0;left: 50%;z-index: -1;}#sk-container-id-1 div.sk-parallel-item {display: flex;flex-direction: column;z-index: 1;position: relative;background-color: white;}#sk-container-id-1 div.sk-parallel-item:first-child::after {align-self: flex-end;width: 50%;}#sk-container-id-1 div.sk-parallel-item:last-child::after {align-self: flex-start;width: 50%;}#sk-container-id-1 div.sk-parallel-item:only-child::after {width: 0;}#sk-container-id-1 div.sk-dashed-wrapped {border: 1px dashed gray;margin: 0 0.4em 0.5em 0.4em;box-sizing: border-box;padding-bottom: 0.4em;background-color: white;}#sk-container-id-1 div.sk-label label {font-family: monospace;font-weight: bold;display: inline-block;line-height: 1.2em;}#sk-container-id-1 div.sk-label-container {text-align: center;}#sk-container-id-1 div.sk-container {/* jupyter's `normalize.less` sets `[hidden] { display: none; }` but bootstrap.min.css set `[hidden] { display: none !important; }` so we also need the `!important` here to be able to override the default hidden behavior on the sphinx rendered scikit-learn.org. See: https://github.com/scikit-learn/scikit-learn/issues/21755 */display: inline-block !important;position: relative;}#sk-container-id-1 div.sk-text-repr-fallback {display: none;}</style><div id=\"sk-container-id-1\" class=\"sk-top-container\"><div class=\"sk-text-repr-fallback\"><pre>LogisticRegression(random_state=42)</pre><b>In a Jupyter environment, please rerun this cell to show the HTML representation or trust the notebook. <br />On GitHub, the HTML representation is unable to render, please try loading this page with nbviewer.org.</b></div><div class=\"sk-container\" hidden><div class=\"sk-item\"><div class=\"sk-estimator sk-toggleable\"><input class=\"sk-toggleable__control sk-hidden--visually\" id=\"sk-estimator-id-1\" type=\"checkbox\" checked><label for=\"sk-estimator-id-1\" class=\"sk-toggleable__label sk-toggleable__label-arrow\">LogisticRegression</label><div class=\"sk-toggleable__content\"><pre>LogisticRegression(random_state=42)</pre></div></div></div></div></div>"
      ],
      "text/plain": [
       "LogisticRegression(random_state=42)"
      ]
     },
     "execution_count": 12,
     "metadata": {},
     "output_type": "execute_result"
    }
   ],
   "source": [
    "from sklearn.linear_model import LogisticRegression\n",
    "\n",
    "clf_lr = LogisticRegression(random_state=42)\n",
    "clf_lr.fit(X, y)\n"
   ]
  },
  {
   "attachments": {},
   "cell_type": "markdown",
   "metadata": {},
   "source": [
    "Luego se entrena el clasificador de frontera de decisión cuadrática."
   ]
  },
  {
   "cell_type": "code",
   "execution_count": 13,
   "metadata": {},
   "outputs": [
    {
     "data": {
      "text/html": [
       "<style>#sk-container-id-2 {color: black;background-color: white;}#sk-container-id-2 pre{padding: 0;}#sk-container-id-2 div.sk-toggleable {background-color: white;}#sk-container-id-2 label.sk-toggleable__label {cursor: pointer;display: block;width: 100%;margin-bottom: 0;padding: 0.3em;box-sizing: border-box;text-align: center;}#sk-container-id-2 label.sk-toggleable__label-arrow:before {content: \"▸\";float: left;margin-right: 0.25em;color: #696969;}#sk-container-id-2 label.sk-toggleable__label-arrow:hover:before {color: black;}#sk-container-id-2 div.sk-estimator:hover label.sk-toggleable__label-arrow:before {color: black;}#sk-container-id-2 div.sk-toggleable__content {max-height: 0;max-width: 0;overflow: hidden;text-align: left;background-color: #f0f8ff;}#sk-container-id-2 div.sk-toggleable__content pre {margin: 0.2em;color: black;border-radius: 0.25em;background-color: #f0f8ff;}#sk-container-id-2 input.sk-toggleable__control:checked~div.sk-toggleable__content {max-height: 200px;max-width: 100%;overflow: auto;}#sk-container-id-2 input.sk-toggleable__control:checked~label.sk-toggleable__label-arrow:before {content: \"▾\";}#sk-container-id-2 div.sk-estimator input.sk-toggleable__control:checked~label.sk-toggleable__label {background-color: #d4ebff;}#sk-container-id-2 div.sk-label input.sk-toggleable__control:checked~label.sk-toggleable__label {background-color: #d4ebff;}#sk-container-id-2 input.sk-hidden--visually {border: 0;clip: rect(1px 1px 1px 1px);clip: rect(1px, 1px, 1px, 1px);height: 1px;margin: -1px;overflow: hidden;padding: 0;position: absolute;width: 1px;}#sk-container-id-2 div.sk-estimator {font-family: monospace;background-color: #f0f8ff;border: 1px dotted black;border-radius: 0.25em;box-sizing: border-box;margin-bottom: 0.5em;}#sk-container-id-2 div.sk-estimator:hover {background-color: #d4ebff;}#sk-container-id-2 div.sk-parallel-item::after {content: \"\";width: 100%;border-bottom: 1px solid gray;flex-grow: 1;}#sk-container-id-2 div.sk-label:hover label.sk-toggleable__label {background-color: #d4ebff;}#sk-container-id-2 div.sk-serial::before {content: \"\";position: absolute;border-left: 1px solid gray;box-sizing: border-box;top: 0;bottom: 0;left: 50%;z-index: 0;}#sk-container-id-2 div.sk-serial {display: flex;flex-direction: column;align-items: center;background-color: white;padding-right: 0.2em;padding-left: 0.2em;position: relative;}#sk-container-id-2 div.sk-item {position: relative;z-index: 1;}#sk-container-id-2 div.sk-parallel {display: flex;align-items: stretch;justify-content: center;background-color: white;position: relative;}#sk-container-id-2 div.sk-item::before, #sk-container-id-2 div.sk-parallel-item::before {content: \"\";position: absolute;border-left: 1px solid gray;box-sizing: border-box;top: 0;bottom: 0;left: 50%;z-index: -1;}#sk-container-id-2 div.sk-parallel-item {display: flex;flex-direction: column;z-index: 1;position: relative;background-color: white;}#sk-container-id-2 div.sk-parallel-item:first-child::after {align-self: flex-end;width: 50%;}#sk-container-id-2 div.sk-parallel-item:last-child::after {align-self: flex-start;width: 50%;}#sk-container-id-2 div.sk-parallel-item:only-child::after {width: 0;}#sk-container-id-2 div.sk-dashed-wrapped {border: 1px dashed gray;margin: 0 0.4em 0.5em 0.4em;box-sizing: border-box;padding-bottom: 0.4em;background-color: white;}#sk-container-id-2 div.sk-label label {font-family: monospace;font-weight: bold;display: inline-block;line-height: 1.2em;}#sk-container-id-2 div.sk-label-container {text-align: center;}#sk-container-id-2 div.sk-container {/* jupyter's `normalize.less` sets `[hidden] { display: none; }` but bootstrap.min.css set `[hidden] { display: none !important; }` so we also need the `!important` here to be able to override the default hidden behavior on the sphinx rendered scikit-learn.org. See: https://github.com/scikit-learn/scikit-learn/issues/21755 */display: inline-block !important;position: relative;}#sk-container-id-2 div.sk-text-repr-fallback {display: none;}</style><div id=\"sk-container-id-2\" class=\"sk-top-container\"><div class=\"sk-text-repr-fallback\"><pre>QuadraticDiscriminantAnalysis()</pre><b>In a Jupyter environment, please rerun this cell to show the HTML representation or trust the notebook. <br />On GitHub, the HTML representation is unable to render, please try loading this page with nbviewer.org.</b></div><div class=\"sk-container\" hidden><div class=\"sk-item\"><div class=\"sk-estimator sk-toggleable\"><input class=\"sk-toggleable__control sk-hidden--visually\" id=\"sk-estimator-id-2\" type=\"checkbox\" checked><label for=\"sk-estimator-id-2\" class=\"sk-toggleable__label sk-toggleable__label-arrow\">QuadraticDiscriminantAnalysis</label><div class=\"sk-toggleable__content\"><pre>QuadraticDiscriminantAnalysis()</pre></div></div></div></div></div>"
      ],
      "text/plain": [
       "QuadraticDiscriminantAnalysis()"
      ]
     },
     "execution_count": 13,
     "metadata": {},
     "output_type": "execute_result"
    }
   ],
   "source": [
    "from sklearn.discriminant_analysis import QuadraticDiscriminantAnalysis\n",
    "\n",
    "clf_qda = QuadraticDiscriminantAnalysis()\n",
    "clf_qda.fit(X, y)\n"
   ]
  },
  {
   "attachments": {},
   "cell_type": "markdown",
   "metadata": {},
   "source": [
    "A continuación, se define una función para mostrar las regiones de decisión generadas por los clasificadores."
   ]
  },
  {
   "cell_type": "code",
   "execution_count": 14,
   "metadata": {},
   "outputs": [],
   "source": [
    "def plot_decision_regions(clf, X, y, cmap='viridis'):\n",
    "    x_min, x_max = X[:, 0].min() - .5, X[:, 0].max() + .5\n",
    "    y_min, y_max = X[:, 1].min() - .5, X[:, 1].max() + .5\n",
    "    xx, yy = np.meshgrid(np.arange(x_min, x_max, 0.02),\n",
    "                         np.arange(y_min, y_max, 0.02))\n",
    "    Z = clf.predict(np.c_[xx.ravel(), yy.ravel()])\n",
    "    Z = Z.reshape(xx.shape)\n",
    "    plt.contourf(xx, yy, Z, cmap=cmap, alpha=.8)\n",
    "    plt.scatter(X[:, 0], X[:, 1], c=y, cmap=cmap)\n",
    "    plt.xlim(xx.min(), xx.max())\n",
    "    plt.ylim(yy.min(), yy.max())\n",
    "    plt.xlabel('Feature 1')\n",
    "    plt.ylabel('Feature 2')\n",
    "    plt.show()\n"
   ]
  },
  {
   "attachments": {},
   "cell_type": "markdown",
   "metadata": {},
   "source": [
    "Finalmente, se muestran las regiones de decisión generadas por los dos clasificadores hipotéticos."
   ]
  },
  {
   "cell_type": "code",
   "execution_count": 15,
   "metadata": {},
   "outputs": [
    {
     "data": {
      "image/png": "[encoded data removed]",
      "text/plain": [
       "<Figure size 432x288 with 1 Axes>"
      ]
     },
     "metadata": {
      "needs_background": "light"
     },
     "output_type": "display_data"
    },
    {
     "data": {
      "image/png": "[encoded data removed]",
      "text/plain": [
       "<Figure size 432x288 with 1 Axes>"
      ]
     },
     "metadata": {
      "needs_background": "light"
     },
     "output_type": "display_data"
    }
   ],
   "source": [
    "plot_decision_regions(clf_lr, X, y)\n",
    "plot_decision_regions(clf_qda, X, y)\n"
   ]
  },
  {
   "attachments": {},
   "cell_type": "markdown",
   "metadata": {},
   "source": [
    "| **Inicio** | **atrás 29** | **Siguiente 31** |\n",
    "|----------- |-------------- |---------------|\n",
    "| [🏠](../../README.md) | [⏪](./29.Analisis_Componentes_Principales.ipynb)| [⏩](./31.Inteligencia_Artificial.ipynb)|"
   ]
  }
 ],
 "metadata": {
  "kernelspec": {
   "display_name": "base",
   "language": "python",
   "name": "python3"
  },
  "language_info": {
   "codemirror_mode": {
    "name": "ipython",
    "version": 3
   },
   "file_extension": ".py",
   "mimetype": "text/x-python",
   "name": "python",
   "nbconvert_exporter": "python",
   "pygments_lexer": "ipython3",
   "version": "3.9.12"
  },
  "orig_nbformat": 4
 },
 "nbformat": 4,
 "nbformat_minor": 2
}
