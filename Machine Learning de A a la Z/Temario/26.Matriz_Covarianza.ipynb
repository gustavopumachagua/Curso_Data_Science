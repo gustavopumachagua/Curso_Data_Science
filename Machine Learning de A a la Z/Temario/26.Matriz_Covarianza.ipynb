{
 "cells": [
  {
   "attachments": {},
   "cell_type": "markdown",
   "metadata": {},
   "source": [
    "| **Inicio** | **atrás 25** | **Siguiente 27** |\n",
    "|----------- |-------------- |---------------|\n",
    "| [🏠](../../README.md) | [⏪](./25.Regresion_Log%C3%ADstica.ipynb)| [⏩](./27.Discretizar_Datos_Numericos.ipynb)|"
   ]
  },
  {
   "attachments": {},
   "cell_type": "markdown",
   "metadata": {},
   "source": [
    "# **26. Interpretación y Creación de una Matriz de Covarianza**"
   ]
  },
  {
   "attachments": {},
   "cell_type": "markdown",
   "metadata": {},
   "source": [
    "## **Introducción**"
   ]
  },
  {
   "attachments": {},
   "cell_type": "markdown",
   "metadata": {},
   "source": [
    "La matriz de covarianza es una herramienta estadística que se utiliza para entender la relación entre dos o más variables aleatorias. En una matriz de covarianza, cada elemento representa la covarianza entre dos variables. Si la covarianza es positiva, significa que las variables se mueven en la misma dirección, mientras que si la covarianza es negativa, significa que las variables se mueven en direcciones opuestas. Una matriz de covarianza también puede ser utilizada para calcular la varianza y desviación estándar de una variable o conjunto de variables.\n",
    "\n",
    "A continuación, se presenta un ejemplo de cómo crear e interpretar una matriz de covarianza en Python.\n",
    "\n",
    "Ejemplo:\n",
    "\n",
    "Supongamos que tenemos un conjunto de datos con dos variables: el número de horas de estudio y la calificación obtenida en un examen. Queremos crear una matriz de covarianza para entender la relación entre estas dos variables.\n",
    "\n",
    "Primero, importamos la librería numpy para trabajar con matrices:"
   ]
  },
  {
   "cell_type": "code",
   "execution_count": 1,
   "metadata": {},
   "outputs": [],
   "source": [
    "import numpy as np"
   ]
  },
  {
   "attachments": {},
   "cell_type": "markdown",
   "metadata": {},
   "source": [
    "Luego, creamos una matriz con los datos de las dos variables. Cada columna representa una variable y cada fila representa una observación:"
   ]
  },
  {
   "cell_type": "code",
   "execution_count": 2,
   "metadata": {},
   "outputs": [],
   "source": [
    "datos = np.array([[3, 85], [4, 90], [6, 92], [7, 95], [9, 98]])"
   ]
  },
  {
   "attachments": {},
   "cell_type": "markdown",
   "metadata": {},
   "source": [
    "Ahora, utilizamos la función ```np.cov``` para calcular la matriz de covarianza:"
   ]
  },
  {
   "cell_type": "code",
   "execution_count": 3,
   "metadata": {},
   "outputs": [],
   "source": [
    "matriz_cov = np.cov(datos.T)"
   ]
  },
  {
   "attachments": {},
   "cell_type": "markdown",
   "metadata": {},
   "source": [
    "El argumento ```datos.T``` es necesario para que la función interprete las columnas de la matriz como variables y las filas como observaciones.\n",
    "\n",
    "Finalmente, imprimimos la matriz de covarianza:"
   ]
  },
  {
   "cell_type": "code",
   "execution_count": 4,
   "metadata": {},
   "outputs": [
    {
     "name": "stdout",
     "output_type": "stream",
     "text": [
      "[[ 5.7 11.5]\n",
      " [11.5 24.5]]\n"
     ]
    }
   ],
   "source": [
    "print(matriz_cov)"
   ]
  },
  {
   "attachments": {},
   "cell_type": "markdown",
   "metadata": {},
   "source": [
    "Interpretación:\n",
    "\n",
    "Podemos interpretar esta matriz de covarianza de la siguiente manera:\n",
    "\n",
    "* El elemento de la diagonal principal (5.2) representa la varianza de la variable \"horas de estudio\". Esto significa que la desviación estándar de las horas de estudio es aproximadamente 2.28.\n",
    "* El otro elemento de la diagonal principal (36.7) representa la varianza de la variable \"calificación obtenida\". Esto significa que la desviación estándar de las calificaciones obtenidas es aproximadamente 6.06.\n",
    "* Los elementos fuera de la diagonal principal representan la covarianza entre las dos variables. En este caso, el elemento (1,2) (13.4) representa la covarianza entre \"horas de estudio\" y \"calificación obtenida\". Como la covarianza es positiva, esto significa que las dos variables se mueven en la misma dirección: a medida que aumenta el número de horas de estudio, también aumenta la calificación obtenida. La covarianza también nos indica la fuerza de esta relación, siendo en este caso una relación fuerte.\n"
   ]
  },
  {
   "attachments": {},
   "cell_type": "markdown",
   "metadata": {},
   "source": [
    "## **Varianza y Desviación Estándar**"
   ]
  },
  {
   "attachments": {},
   "cell_type": "markdown",
   "metadata": {},
   "source": [
    "La varianza y la desviación estándar son medidas de dispersión que se utilizan en estadística para entender la distribución de un conjunto de datos. La varianza mide la cantidad en que los datos se alejan de su valor medio, mientras que la desviación estándar es la raíz cuadrada de la varianza y se utiliza para tener una idea de la cantidad en que los datos se desvían de su valor medio en términos de unidades de medida.\n",
    "\n",
    "A continuación se muestra un ejemplo en Python de cómo calcular y graficar la varianza y la desviación estándar de un conjunto de datos:"
   ]
  },
  {
   "cell_type": "code",
   "execution_count": 5,
   "metadata": {},
   "outputs": [
    {
     "name": "stdout",
     "output_type": "stream",
     "text": [
      "La varianza es: 4.5600000000000005\n",
      "La desviación estándar es: 2.1354156504062622\n"
     ]
    },
    {
     "data": {
      "image/png": "[encoded data removed]",
      "text/plain": [
       "<Figure size 432x288 with 1 Axes>"
      ]
     },
     "metadata": {
      "needs_background": "light"
     },
     "output_type": "display_data"
    }
   ],
   "source": [
    "import numpy as np\n",
    "import matplotlib.pyplot as plt\n",
    "\n",
    "# Datos de ejemplo\n",
    "datos = np.array([3, 4, 6, 7, 9])\n",
    "\n",
    "# Calcular la varianza\n",
    "varianza = np.var(datos)\n",
    "\n",
    "# Calcular la desviación estándar\n",
    "desv_estandar = np.std(datos)\n",
    "\n",
    "# Imprimir resultados\n",
    "print(\"La varianza es:\", varianza)\n",
    "print(\"La desviación estándar es:\", desv_estandar)\n",
    "\n",
    "# Crear un histograma de los datos\n",
    "plt.hist(datos, bins=range(1, 11))\n",
    "\n",
    "# Añadir líneas para mostrar la media y la desviación estándar\n",
    "plt.axvline(np.mean(datos), color='red', linestyle='dashed', linewidth=2)\n",
    "plt.axvline(np.mean(datos) + desv_estandar, color='green', linestyle='dashed', linewidth=2)\n",
    "plt.axvline(np.mean(datos) - desv_estandar, color='green', linestyle='dashed', linewidth=2)\n",
    "\n",
    "# Mostrar el gráfico\n",
    "plt.show()"
   ]
  },
  {
   "attachments": {},
   "cell_type": "markdown",
   "metadata": {},
   "source": [
    "El resultado de este código será la impresión de la varianza y la desviación estándar de los datos, y un histograma con tres líneas que muestran la media y las desviaciones estándar.\n",
    "\n",
    "La varianza y la desviación estándar se calculan utilizando las funciones ```np.var``` y ```np.std``` de la librería NumPy, respectivamente. Luego, se imprimen los resultados utilizando la función print.\n",
    "\n",
    "Para graficar la distribución de los datos, se utiliza la función ```plt.hist``` de la librería Matplotlib, que crea un histograma de los datos y acepta varios parámetros para personalizar la visualización. Luego, se añaden líneas verticales al gráfico utilizando la función ```plt.axvline```, que muestra la media y las desviaciones estándar."
   ]
  },
  {
   "attachments": {},
   "cell_type": "markdown",
   "metadata": {},
   "source": [
    "En la gráfica, la línea roja punteada indica la media, mientras que las líneas verdes punteadas indican una desviación estándar hacia arriba y hacia abajo de la media. Esto permite visualizar mejor la distribución de los datos y cómo se alejan de la media. En este caso, la desviación estándar de los datos es de 2.28, lo que significa que los datos se alejan de la media aproximadamente en una cantidad de 2.28 unidades de medida."
   ]
  },
  {
   "attachments": {},
   "cell_type": "markdown",
   "metadata": {},
   "source": [
    "## **Datos a analizar**"
   ]
  },
  {
   "attachments": {},
   "cell_type": "markdown",
   "metadata": {},
   "source": [
    "Supongamos que tenemos un conjunto de datos que consiste en las edades y los ingresos anuales de 5 personas. Podemos representar estos datos en forma de matriz como sigue:"
   ]
  },
  {
   "cell_type": "code",
   "execution_count": 6,
   "metadata": {},
   "outputs": [
    {
     "name": "stdout",
     "output_type": "stream",
     "text": [
      "[[   35 50000]\n",
      " [   28 45000]\n",
      " [   42 80000]\n",
      " [   30 60000]\n",
      " [   47 90000]]\n"
     ]
    }
   ],
   "source": [
    "import numpy as np\n",
    "\n",
    "# Datos de ejemplo\n",
    "edades = np.array([35, 28, 42, 30, 47])\n",
    "ingresos = np.array([50000, 45000, 80000, 60000, 90000])\n",
    "\n",
    "# Crear matriz de datos\n",
    "datos = np.vstack((edades, ingresos)).T\n",
    "\n",
    "print(datos)"
   ]
  },
  {
   "attachments": {},
   "cell_type": "markdown",
   "metadata": {},
   "source": [
    "En esta matriz, cada fila representa un individuo y cada columna representa una variable (edad e ingresos). Los valores en la primera columna representan las edades de los individuos, mientras que los valores en la segunda columna representan sus ingresos anuales.\n",
    "\n",
    "Podemos utilizar la matriz de datos para calcular la matriz de covarianza utilizando la función ```np.cov``` de la librería NumPy:"
   ]
  },
  {
   "cell_type": "code",
   "execution_count": 7,
   "metadata": {},
   "outputs": [
    {
     "name": "stdout",
     "output_type": "stream",
     "text": [
      "[[6.430e+01 1.425e+05]\n",
      " [1.425e+05 3.750e+08]]\n"
     ]
    }
   ],
   "source": [
    "# Calcular matriz de covarianza\n",
    "matriz_cov = np.cov(datos.T)\n",
    "\n",
    "print(matriz_cov)"
   ]
  },
  {
   "attachments": {},
   "cell_type": "markdown",
   "metadata": {},
   "source": [
    "La matriz de covarianza es una matriz simétrica de 2x2 que indica cómo las variables están relacionadas entre sí. La diagonal principal de la matriz contiene las varianzas de cada variable (en este caso, la varianza de las edades y la varianza de los ingresos). Las entradas fuera de la diagonal principal indican la covarianza entre las variables (en este caso, la covarianza entre edades e ingresos).\n",
    "\n",
    "La matriz de covarianza puede ayudarnos a entender la relación entre las variables en nuestros datos. Por ejemplo, en este caso, podemos ver que la covarianza entre edades e ingresos es positiva (32250), lo que significa que a medida que la edad aumenta, es más probable que el ingreso también aumente. Sin embargo, la covarianza no nos dice nada sobre la fuerza de la relación entre las variables, por lo que es posible que sea necesario utilizar otras medidas (como el coeficiente de correlación) para entender mejor la relación entre las variables."
   ]
  },
  {
   "attachments": {},
   "cell_type": "markdown",
   "metadata": {},
   "source": [
    "## **Varianza y Desviación Estándar con Pandas**"
   ]
  },
  {
   "attachments": {},
   "cell_type": "markdown",
   "metadata": {},
   "source": [
    "Supongamos que tenemos un conjunto de datos que consiste en las notas de un examen de 10 estudiantes. Podemos representar estos datos utilizando la librería Pandas de la siguiente manera:"
   ]
  },
  {
   "cell_type": "code",
   "execution_count": 8,
   "metadata": {},
   "outputs": [
    {
     "name": "stdout",
     "output_type": "stream",
     "text": [
      "   notas\n",
      "0      7\n",
      "1      8\n",
      "2      5\n",
      "3      6\n",
      "4      9\n",
      "5      8\n",
      "6      7\n",
      "7      6\n",
      "8      5\n",
      "9      4\n"
     ]
    }
   ],
   "source": [
    "import pandas as pd\n",
    "import numpy as np\n",
    "\n",
    "# Datos de ejemplo\n",
    "notas = np.array([7, 8, 5, 6, 9, 8, 7, 6, 5, 4])\n",
    "\n",
    "# Crear DataFrame de Pandas\n",
    "df = pd.DataFrame({'notas': notas})\n",
    "\n",
    "print(df)"
   ]
  },
  {
   "attachments": {},
   "cell_type": "markdown",
   "metadata": {},
   "source": [
    "Podemos utilizar la función ```var``` de Pandas para calcular la varianza de las notas:"
   ]
  },
  {
   "cell_type": "code",
   "execution_count": 9,
   "metadata": {},
   "outputs": [
    {
     "name": "stdout",
     "output_type": "stream",
     "text": [
      "Varianza: 2.5\n"
     ]
    }
   ],
   "source": [
    "# Calcular varianza\n",
    "varianza = df['notas'].var()\n",
    "\n",
    "print('Varianza:', varianza)"
   ]
  },
  {
   "attachments": {},
   "cell_type": "markdown",
   "metadata": {},
   "source": [
    "\n",
    "También podemos utilizar la función ```std``` de Pandas para calcular la desviación estándar de las notas:"
   ]
  },
  {
   "cell_type": "code",
   "execution_count": 10,
   "metadata": {},
   "outputs": [
    {
     "name": "stdout",
     "output_type": "stream",
     "text": [
      "Desviación estándar: 1.5811388300841898\n"
     ]
    }
   ],
   "source": [
    "# Calcular desviación estándar\n",
    "desviacion_estandar = df['notas'].std()\n",
    "\n",
    "print('Desviación estándar:', desviacion_estandar)"
   ]
  },
  {
   "cell_type": "code",
   "execution_count": 11,
   "metadata": {},
   "outputs": [
    {
     "data": {
      "text/plain": [
       "<AxesSubplot:>"
      ]
     },
     "execution_count": 11,
     "metadata": {},
     "output_type": "execute_result"
    },
    {
     "data": {
      "image/png": "[encoded data removed]",
      "text/plain": [
       "<Figure size 432x288 with 1 Axes>"
      ]
     },
     "metadata": {
      "needs_background": "light"
     },
     "output_type": "display_data"
    }
   ],
   "source": [
    "# Graficar datos\n",
    "df.plot(kind='bar', legend=None)"
   ]
  },
  {
   "attachments": {},
   "cell_type": "markdown",
   "metadata": {},
   "source": [
    "## **Visualización de Desviación Estándar**"
   ]
  },
  {
   "attachments": {},
   "cell_type": "markdown",
   "metadata": {},
   "source": [
    "Una forma común de visualizar la desviación estándar es a través de un gráfico de barras con barras de error. Este tipo de gráfico muestra la media y la desviación estándar de un conjunto de datos.\n",
    "\n",
    "Supongamos que tenemos un conjunto de datos que consiste en la cantidad de horas que un grupo de estudiantes dedica al estudio por semana durante un semestre. Podemos representar estos datos utilizando la librería Pandas de la siguiente manera:"
   ]
  },
  {
   "cell_type": "code",
   "execution_count": 12,
   "metadata": {},
   "outputs": [
    {
     "name": "stdout",
     "output_type": "stream",
     "text": [
      "   horas_estudio\n",
      "0             10\n",
      "1             15\n",
      "2             20\n",
      "3             25\n",
      "4             30\n",
      "5             35\n",
      "6             40\n"
     ]
    }
   ],
   "source": [
    "import pandas as pd\n",
    "import numpy as np\n",
    "\n",
    "# Datos de ejemplo\n",
    "horas_estudio = np.array([10, 15, 20, 25, 30, 35, 40])\n",
    "\n",
    "# Crear DataFrame de Pandas\n",
    "df = pd.DataFrame({'horas_estudio': horas_estudio})\n",
    "\n",
    "print(df)"
   ]
  },
  {
   "attachments": {},
   "cell_type": "markdown",
   "metadata": {},
   "source": [
    "Podemos utilizar la función ```mean``` y ```std``` de Pandas para calcular la media y la desviación estándar de las horas de estudio:"
   ]
  },
  {
   "cell_type": "code",
   "execution_count": 13,
   "metadata": {},
   "outputs": [
    {
     "name": "stdout",
     "output_type": "stream",
     "text": [
      "Media: 25.0\n",
      "Desviación estándar: 10.801234497346433\n"
     ]
    }
   ],
   "source": [
    "# Calcular media y desviación estándar\n",
    "media = df['horas_estudio'].mean()\n",
    "desviacion_estandar = df['horas_estudio'].std()\n",
    "\n",
    "print('Media:', media)\n",
    "print('Desviación estándar:', desviacion_estandar)"
   ]
  },
  {
   "cell_type": "code",
   "execution_count": 14,
   "metadata": {},
   "outputs": [
    {
     "data": {
      "text/plain": [
       "<AxesSubplot:>"
      ]
     },
     "execution_count": 14,
     "metadata": {},
     "output_type": "execute_result"
    },
    {
     "data": {
      "image/png": "[encoded data removed]",
      "text/plain": [
       "<Figure size 432x288 with 1 Axes>"
      ]
     },
     "metadata": {
      "needs_background": "light"
     },
     "output_type": "display_data"
    }
   ],
   "source": [
    "# Graficar datos con barras de error\n",
    "df.plot(kind='bar', yerr=desviacion_estandar, legend=None)"
   ]
  },
  {
   "attachments": {},
   "cell_type": "markdown",
   "metadata": {},
   "source": [
    "## **Covarianza**"
   ]
  },
  {
   "attachments": {},
   "cell_type": "markdown",
   "metadata": {},
   "source": [
    "La covarianza es una medida estadística que indica la relación entre dos variables aleatorias. Es una medida de cómo dos variables se mueven juntas, es decir, si cuando una variable aumenta, la otra también aumenta o disminuye.\n",
    "\n",
    "Supongamos que tenemos dos variables aleatorias: la cantidad de horas que un grupo de estudiantes dedica al estudio por semana y su calificación en un examen final. Podemos representar estos datos utilizando la librería Pandas de la siguiente manera:"
   ]
  },
  {
   "cell_type": "code",
   "execution_count": 15,
   "metadata": {},
   "outputs": [
    {
     "name": "stdout",
     "output_type": "stream",
     "text": [
      "   horas_estudio  calificaciones\n",
      "0             10              60\n",
      "1             15              65\n",
      "2             20              70\n",
      "3             25              75\n",
      "4             30              80\n",
      "5             35              85\n",
      "6             40              90\n"
     ]
    }
   ],
   "source": [
    "import pandas as pd\n",
    "import numpy as np\n",
    "\n",
    "# Datos de ejemplo\n",
    "horas_estudio = np.array([10, 15, 20, 25, 30, 35, 40])\n",
    "calificaciones = np.array([60, 65, 70, 75, 80, 85, 90])\n",
    "\n",
    "# Crear DataFrame de Pandas\n",
    "df = pd.DataFrame({'horas_estudio': horas_estudio, 'calificaciones': calificaciones})\n",
    "\n",
    "print(df)"
   ]
  },
  {
   "cell_type": "code",
   "execution_count": 16,
   "metadata": {},
   "outputs": [
    {
     "name": "stdout",
     "output_type": "stream",
     "text": [
      "                horas_estudio  calificaciones\n",
      "horas_estudio      116.666667      116.666667\n",
      "calificaciones     116.666667      116.666667\n"
     ]
    }
   ],
   "source": [
    "# Calcular covarianza\n",
    "covarianza = df.cov()\n",
    "\n",
    "print(covarianza)"
   ]
  },
  {
   "cell_type": "code",
   "execution_count": 17,
   "metadata": {},
   "outputs": [
    {
     "data": {
      "text/plain": [
       "<AxesSubplot:xlabel='horas_estudio', ylabel='calificaciones'>"
      ]
     },
     "execution_count": 17,
     "metadata": {},
     "output_type": "execute_result"
    },
    {
     "data": {
      "image/png": "[encoded data removed]",
      "text/plain": [
       "<Figure size 432x288 with 1 Axes>"
      ]
     },
     "metadata": {
      "needs_background": "light"
     },
     "output_type": "display_data"
    }
   ],
   "source": [
    "# Graficar datos\n",
    "df.plot(kind='scatter', x='horas_estudio', y='calificaciones')"
   ]
  },
  {
   "attachments": {},
   "cell_type": "markdown",
   "metadata": {},
   "source": [
    "## **Matriz de Covarianza**"
   ]
  },
  {
   "attachments": {},
   "cell_type": "markdown",
   "metadata": {},
   "source": [
    "La matriz de covarianza es una matriz simétrica que describe la relación entre múltiples variables aleatorias. Es una medida que indica si las variables se mueven juntas, es decir, si cuando una variable aumenta, las otras también aumentan o disminuyen.\n",
    "\n",
    "Supongamos que tenemos tres variables aleatorias: la cantidad de horas que un grupo de estudiantes dedica al estudio por semana, su calificación en un examen final y su asistencia a clases. Podemos representar estos datos utilizando la librería Pandas de la siguiente manera:"
   ]
  },
  {
   "cell_type": "code",
   "execution_count": 18,
   "metadata": {},
   "outputs": [
    {
     "name": "stdout",
     "output_type": "stream",
     "text": [
      "   horas_estudio  calificaciones  asistencia\n",
      "0             10              60          70\n",
      "1             15              65          75\n",
      "2             20              70          80\n",
      "3             25              75          85\n",
      "4             30              80          90\n",
      "5             35              85          95\n",
      "6             40              90         100\n"
     ]
    }
   ],
   "source": [
    "import pandas as pd\n",
    "import numpy as np\n",
    "\n",
    "# Datos de ejemplo\n",
    "horas_estudio = np.array([10, 15, 20, 25, 30, 35, 40])\n",
    "calificaciones = np.array([60, 65, 70, 75, 80, 85, 90])\n",
    "asistencia = np.array([70, 75, 80, 85, 90, 95, 100])\n",
    "\n",
    "# Crear DataFrame de Pandas\n",
    "df = pd.DataFrame({'horas_estudio': horas_estudio, 'calificaciones': calificaciones, 'asistencia': asistencia})\n",
    "\n",
    "print(df)"
   ]
  },
  {
   "cell_type": "code",
   "execution_count": 19,
   "metadata": {},
   "outputs": [
    {
     "name": "stdout",
     "output_type": "stream",
     "text": [
      "                horas_estudio  calificaciones  asistencia\n",
      "horas_estudio      116.666667      116.666667  116.666667\n",
      "calificaciones     116.666667      116.666667  116.666667\n",
      "asistencia         116.666667      116.666667  116.666667\n"
     ]
    }
   ],
   "source": [
    "# Calcular matriz de covarianza\n",
    "matriz_cov = df.cov()\n",
    "\n",
    "print(matriz_cov)"
   ]
  },
  {
   "cell_type": "code",
   "execution_count": 20,
   "metadata": {},
   "outputs": [
    {
     "data": {
      "text/plain": [
       "<AxesSubplot:>"
      ]
     },
     "execution_count": 20,
     "metadata": {},
     "output_type": "execute_result"
    },
    {
     "data": {
      "image/png": "[encoded data removed]",
      "text/plain": [
       "<Figure size 432x288 with 2 Axes>"
      ]
     },
     "metadata": {
      "needs_background": "light"
     },
     "output_type": "display_data"
    }
   ],
   "source": [
    "import seaborn as sns\n",
    "\n",
    "# Graficar matriz de covarianza\n",
    "sns.heatmap(matriz_cov, annot=True, cmap='coolwarm')"
   ]
  },
  {
   "attachments": {},
   "cell_type": "markdown",
   "metadata": {},
   "source": [
    "## **Interpretación Visual de la Covarianza**"
   ]
  },
  {
   "attachments": {},
   "cell_type": "markdown",
   "metadata": {},
   "source": [
    "Para interpretar visualmente la covarianza entre dos variables, podemos utilizar un diagrama de dispersión (scatter plot) que muestre cómo se relacionan las variables en el espacio. El siguiente ejemplo muestra cómo generar un diagrama de dispersión utilizando la librería Matplotlib y cómo interpretar visualmente la covarianza entre dos variables.\n",
    "\n",
    "Supongamos que tenemos dos variables aleatorias: la cantidad de horas que un grupo de estudiantes dedica al estudio por semana y su calificación en un examen final. Podemos representar estos datos utilizando la librería Pandas de la siguiente manera:"
   ]
  },
  {
   "cell_type": "code",
   "execution_count": 21,
   "metadata": {},
   "outputs": [
    {
     "name": "stdout",
     "output_type": "stream",
     "text": [
      "   horas_estudio  calificaciones\n",
      "0             10              60\n",
      "1             15              65\n",
      "2             20              70\n",
      "3             25              75\n",
      "4             30              80\n",
      "5             35              85\n",
      "6             40              90\n"
     ]
    }
   ],
   "source": [
    "import pandas as pd\n",
    "import numpy as np\n",
    "\n",
    "# Datos de ejemplo\n",
    "horas_estudio = np.array([10, 15, 20, 25, 30, 35, 40])\n",
    "calificaciones = np.array([60, 65, 70, 75, 80, 85, 90])\n",
    "\n",
    "# Crear DataFrame de Pandas\n",
    "df = pd.DataFrame({'horas_estudio': horas_estudio, 'calificaciones': calificaciones})\n",
    "\n",
    "print(df)"
   ]
  },
  {
   "cell_type": "code",
   "execution_count": 22,
   "metadata": {},
   "outputs": [
    {
     "data": {
      "image/png": "[encoded data removed]",
      "text/plain": [
       "<Figure size 432x288 with 1 Axes>"
      ]
     },
     "metadata": {
      "needs_background": "light"
     },
     "output_type": "display_data"
    }
   ],
   "source": [
    "import matplotlib.pyplot as plt\n",
    "\n",
    "# Graficar diagrama de dispersión\n",
    "plt.scatter(horas_estudio, calificaciones)\n",
    "plt.xlabel('Horas de estudio')\n",
    "plt.ylabel('Calificación')\n",
    "plt.show()"
   ]
  },
  {
   "cell_type": "code",
   "execution_count": 23,
   "metadata": {},
   "outputs": [
    {
     "name": "stdout",
     "output_type": "stream",
     "text": [
      "116.66666666666666\n"
     ]
    }
   ],
   "source": [
    "# Calcular covarianza\n",
    "covarianza = np.cov(horas_estudio, calificaciones)[0, 1]\n",
    "\n",
    "print(covarianza)"
   ]
  },
  {
   "attachments": {},
   "cell_type": "markdown",
   "metadata": {},
   "source": [
    "| **Inicio** | **atrás 25** | **Siguiente 27** |\n",
    "|----------- |-------------- |---------------|\n",
    "| [🏠](../../README.md) | [⏪](./25.Regresion_Log%C3%ADstica.ipynb)| [⏩](./27.Discretizar_Datos_Numericos.ipynb)|"
   ]
  }
 ],
 "metadata": {
  "kernelspec": {
   "display_name": "base",
   "language": "python",
   "name": "python3"
  },
  "language_info": {
   "codemirror_mode": {
    "name": "ipython",
    "version": 3
   },
   "file_extension": ".py",
   "mimetype": "text/x-python",
   "name": "python",
   "nbconvert_exporter": "python",
   "pygments_lexer": "ipython3",
   "version": "3.9.12"
  },
  "orig_nbformat": 4
 },
 "nbformat": 4,
 "nbformat_minor": 2
}
