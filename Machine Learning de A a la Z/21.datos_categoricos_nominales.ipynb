{
 "cells": [
  {
   "attachments": {},
   "cell_type": "markdown",
   "metadata": {},
   "source": [
    "# **Codifica datos categóricos nominales para Machine Learning**"
   ]
  },
  {
   "attachments": {},
   "cell_type": "markdown",
   "metadata": {},
   "source": [
    "![tipos de datos](../img/tipos-de-variables.webp \"tipos de datos\")"
   ]
  },
  {
   "attachments": {},
   "cell_type": "markdown",
   "metadata": {},
   "source": [
    "![tipos de datos](../img/categorical_data.jpg \"tipos de datos\")"
   ]
  },
  {
   "attachments": {},
   "cell_type": "markdown",
   "metadata": {},
   "source": [
    "Los datos categóricos nominales son aquellos que no tienen un orden o jerarquía natural, y se pueden clasificar en distintas categorías de manera arbitraria. Por ejemplo, el color de ojos o el tipo de animal son datos categóricos nominales.\n",
    "\n",
    "Aquí hay un ejemplo de cómo trabajar con datos categóricos nominales en Python utilizando la biblioteca Pandas:"
   ]
  },
  {
   "cell_type": "code",
   "execution_count": 3,
   "metadata": {},
   "outputs": [
    {
     "name": "stdout",
     "output_type": "stream",
     "text": [
      "   edad  peso  animal_gato  animal_perro  animal_ratón\n",
      "0     3   4.2            1             0             0\n",
      "1     5   6.3            0             1             0\n",
      "2     2   7.1            0             1             0\n",
      "3     1   0.9            0             0             1\n",
      "4     4   3.5            1             0             0\n"
     ]
    }
   ],
   "source": [
    "import pandas as pd\n",
    "\n",
    "# Crear un conjunto de datos de ejemplo\n",
    "df = pd.DataFrame({'animal': ['gato', 'perro', 'perro', 'ratón', 'gato'],\n",
    "                   'edad': [3, 5, 2, 1, 4],\n",
    "                   'peso': [4.2, 6.3, 7.1, 0.9, 3.5]})\n",
    "\n",
    "# Convertir la columna 'animal' a una variable categórica nominal\n",
    "df['animal'] = pd.Categorical(df['animal'], categories=['gato', 'perro', 'ratón'])\n",
    "\n",
    "# Codificar la variable categórica nominal como variables dummy\n",
    "dummy_df = pd.get_dummies(df['animal'], prefix='animal')\n",
    "df = pd.concat([df, dummy_df], axis=1)\n",
    "df.drop('animal', axis=1, inplace=True)\n",
    "\n",
    "# Mostrar el conjunto de datos resultante\n",
    "print(df)\n"
   ]
  },
  {
   "attachments": {},
   "cell_type": "markdown",
   "metadata": {},
   "source": [
    "Este código crea un conjunto de datos de ejemplo con tres variables: 'animal', 'edad' y 'peso'. La columna 'animal' es una variable categórica nominal que puede tomar los valores 'gato', 'perro' o 'ratón'. Luego, se convierte la columna 'animal' a una variable categórica nominal utilizando la función ```pd.Categorical```, que especifica las categorías permitidas. A continuación, se codifica la variable categórica nominal como variables dummy utilizando la función ```pd.get_dummies```, que crea una columna para cada categoría con valores binarios que indican si la muestra pertenece a esa categoría o no. Finalmente, se concatenan las variables dummy con el conjunto de datos original y se elimina la columna original 'animal'.\n",
    "\n",
    "El resultado es un conjunto de datos con dos variables dummy ('animal_gato' y 'animal_perro') que indican si la muestra pertenece a esa categoría o no, y dos variables numéricas ('edad' y 'peso') que se pueden utilizar en un modelo de aprendizaje automático."
   ]
  },
  {
   "attachments": {},
   "cell_type": "markdown",
   "metadata": {},
   "source": [
    "## **1. Problemática de las categorías**"
   ]
  },
  {
   "attachments": {},
   "cell_type": "markdown",
   "metadata": {},
   "source": [
    "Para ilustrar la problemática de las categorías, podemos crear un conjunto de datos de ejemplo y aplicar un modelo de clasificación. Luego, podemos comparar los resultados de clasificación utilizando diferentes categorizaciones.\n",
    "\n",
    "Aquí está el código en Python para crear los datos de ejemplo y aplicar un modelo de clasificación:"
   ]
  },
  {
   "cell_type": "code",
   "execution_count": 1,
   "metadata": {},
   "outputs": [
    {
     "name": "stdout",
     "output_type": "stream",
     "text": [
      "Precisión del modelo en datos de prueba: 0.67\n"
     ]
    }
   ],
   "source": [
    "import numpy as np\n",
    "from sklearn.datasets import make_classification\n",
    "from sklearn.linear_model import LogisticRegression\n",
    "from sklearn.metrics import accuracy_score\n",
    "\n",
    "# Crear datos de ejemplo\n",
    "np.random.seed(42)\n",
    "X, y = make_classification(n_samples=1000, n_features=5, n_classes=3, n_informative=3, n_redundant=1)\n",
    "\n",
    "# Dividir los datos en entrenamiento y prueba\n",
    "n_train = 800\n",
    "X_train, y_train = X[:n_train], y[:n_train]\n",
    "X_test, y_test = X[n_train:], y[n_train:]\n",
    "\n",
    "# Entrenar un modelo de clasificación\n",
    "clf = LogisticRegression(multi_class='auto', solver='lbfgs')\n",
    "clf.fit(X_train, y_train)\n",
    "\n",
    "# Evaluar la precisión del modelo en los datos de prueba\n",
    "y_pred = clf.predict(X_test)\n",
    "acc = accuracy_score(y_test, y_pred)\n",
    "print(f'Precisión del modelo en datos de prueba: {acc:.2f}')\n"
   ]
  },
  {
   "attachments": {},
   "cell_type": "markdown",
   "metadata": {},
   "source": [
    "Este código crea un conjunto de datos de clasificación de ejemplo con 1000 muestras, 5 características, 3 clases y 3 características informativas. Luego, divide los datos en un conjunto de entrenamiento de 800 muestras y un conjunto de prueba de 200 muestras, y entrena un modelo de regresión logística para clasificar los datos.\n",
    "\n",
    "A continuación, podemos comparar los resultados de clasificación utilizando diferentes categorizaciones. Por ejemplo, podemos considerar las categorías \"Bajo\", \"Medio\" y \"Alto\" para la variable objetivo, y aplicar diferentes estrategias de categorización, como el punto de corte de la media, los cuartiles, etc.\n",
    "\n",
    "Aquí está el código en Python para aplicar diferentes categorizaciones y evaluar la precisión del modelo:"
   ]
  },
  {
   "cell_type": "code",
   "execution_count": 2,
   "metadata": {},
   "outputs": [
    {
     "name": "stdout",
     "output_type": "stream",
     "text": [
      "Precisión del modelo en datos de prueba con categorización de la media: 0.58\n",
      "Precisión del modelo en datos de prueba con categorización del cuartil 1: 0.37\n",
      "Precisión del modelo en datos de prueba con categorización del cuartil 3: 0.67\n"
     ]
    }
   ],
   "source": [
    "# Categorizar los datos utilizando diferentes estrategias\n",
    "y_mean = np.where(y_test >= np.mean(y_train), 2, np.where(y_test >= np.median(y_train), 1, 0))\n",
    "y_q1 = np.where(y_test >= np.percentile(y_train, 25), 2, np.where(y_test >= np.percentile(y_train, 50), 1, 0))\n",
    "y_q3 = np.where(y_test >= np.percentile(y_train, 75), 2, np.where(y_test >= np.percentile(y_train, 50), 1, 0))\n",
    "\n",
    "# Evaluar la precisión del modelo en los datos de prueba con diferentes categorizaciones\n",
    "acc_mean = accuracy_score(y_mean, y_pred)\n",
    "acc_q1 = accuracy_score(y_q1, y_pred)\n",
    "acc_q3 = accuracy_score(y_q3, y_pred)\n",
    "print(f'Precisión del modelo en datos de prueba con categorización de la media: {acc_mean:.2f}')\n",
    "print(f'Precisión del modelo en datos de prueba con categorización del cuartil 1: {acc_q1:.2f}')\n",
    "print(f'Precisión del modelo en datos de prueba con categorización del cuartil 3: {acc_q3:.2f}')\n"
   ]
  },
  {
   "attachments": {},
   "cell_type": "markdown",
   "metadata": {},
   "source": [
    "## **2. Datos categóricos y Contexto**"
   ]
  },
  {
   "attachments": {},
   "cell_type": "markdown",
   "metadata": {},
   "source": [
    "Los datos categóricos pueden ser influenciados por el contexto en el que se recopilan. Por ejemplo, la percepción de un color puede variar según el contexto en el que se presente. Aquí hay un ejemplo de cómo trabajar con datos categóricos y contexto en Python utilizando la biblioteca Pandas:"
   ]
  },
  {
   "cell_type": "code",
   "execution_count": 4,
   "metadata": {},
   "outputs": [
    {
     "name": "stdout",
     "output_type": "stream",
     "text": [
      "Tabla de contingencia:\n",
      "contexto  día nublado  día soleado\n",
      "color                             \n",
      "rojo                2            0\n",
      "verde               2            0\n",
      "azul                0            2\n",
      "\n",
      "Proporciones:\n",
      "contexto  día nublado  día soleado\n",
      "color                             \n",
      "rojo              0.5          0.0\n",
      "verde             0.5          0.0\n",
      "azul              0.0          1.0\n"
     ]
    }
   ],
   "source": [
    "import pandas as pd\n",
    "\n",
    "# Crear un conjunto de datos de ejemplo\n",
    "df = pd.DataFrame({'color': ['azul', 'verde', 'rojo', 'verde', 'azul', 'rojo'],\n",
    "                   'contexto': ['día soleado', 'día nublado', 'día nublado', 'día nublado', 'día soleado', 'día nublado']})\n",
    "\n",
    "# Convertir la columna 'color' a una variable categórica nominal\n",
    "df['color'] = pd.Categorical(df['color'], categories=['rojo', 'verde', 'azul'])\n",
    "\n",
    "# Crear una tabla de contingencia que muestre la frecuencia de cada color en cada contexto\n",
    "tabla_contingencia = pd.crosstab(df['color'], df['contexto'])\n",
    "\n",
    "# Calcular las proporciones de cada color en cada contexto\n",
    "proporciones = tabla_contingencia.div(tabla_contingencia.sum(axis=0), axis=1)\n",
    "\n",
    "# Mostrar la tabla de contingencia y las proporciones resultantes\n",
    "print('Tabla de contingencia:')\n",
    "print(tabla_contingencia)\n",
    "print('\\nProporciones:')\n",
    "print(proporciones)\n"
   ]
  },
  {
   "attachments": {},
   "cell_type": "markdown",
   "metadata": {},
   "source": [
    "Este código crea un conjunto de datos de ejemplo con dos variables: 'color' y 'contexto'. La columna 'color' es una variable categórica que puede tomar los valores 'rojo', 'verde' o 'azul', y la columna 'contexto' describe el contexto en el que se presenta cada muestra. Luego, se convierte la columna 'color' a una variable categórica nominal utilizando la función ```pd.Categorical```, que especifica las categorías permitidas. A continuación, se crea una tabla de contingencia que muestra la frecuencia de cada color en cada contexto utilizando la función ```pd.crosstab```. Finalmente, se calculan las proporciones de cada color en cada contexto dividiendo cada valor en la tabla de contingencia por el total de la columna correspondiente utilizando el método ```.div()```.\n",
    "\n",
    "El resultado es una tabla de contingencia que muestra la frecuencia de cada color en cada contexto y un conjunto de proporciones que muestran cómo varía la distribución de colores según el contexto. Estos resultados pueden ayudar a comprender cómo el contexto puede influir en la percepción de un color y cómo se pueden ajustar los análisis en consecuencia."
   ]
  },
  {
   "attachments": {},
   "cell_type": "markdown",
   "metadata": {},
   "source": [
    "## **3. Conversión de object a category**"
   ]
  },
  {
   "attachments": {},
   "cell_type": "markdown",
   "metadata": {},
   "source": [
    "En Pandas, a menudo se almacenan variables categóricas como objetos. Sin embargo, es más eficiente en términos de memoria y velocidad de procesamiento almacenarlas como variables categóricas. Aquí hay un ejemplo de cómo convertir una columna de objeto a una columna de categoría en Pandas:"
   ]
  },
  {
   "cell_type": "code",
   "execution_count": 5,
   "metadata": {},
   "outputs": [
    {
     "name": "stdout",
     "output_type": "stream",
     "text": [
      "<class 'pandas.core.frame.DataFrame'>\n",
      "RangeIndex: 6 entries, 0 to 5\n",
      "Data columns (total 1 columns):\n",
      " #   Column  Non-Null Count  Dtype   \n",
      "---  ------  --------------  -----   \n",
      " 0   color   6 non-null      category\n",
      "dtypes: category(1)\n",
      "memory usage: 266.0 bytes\n",
      "None\n"
     ]
    }
   ],
   "source": [
    "import pandas as pd\n",
    "\n",
    "# Crear un DataFrame de ejemplo\n",
    "df = pd.DataFrame({'color': ['azul', 'verde', 'rojo', 'verde', 'azul', 'rojo']})\n",
    "\n",
    "# Convertir la columna 'color' de objeto a categoría\n",
    "df['color'] = df['color'].astype('category')\n",
    "\n",
    "# Mostrar la información del DataFrame\n",
    "print(df.info())\n"
   ]
  },
  {
   "attachments": {},
   "cell_type": "markdown",
   "metadata": {},
   "source": [
    "En este ejemplo, se crea un DataFrame de ejemplo con una columna 'color' que contiene valores de tipo objeto. Para convertir esta columna en una variable categórica, se utiliza el método ```astype``` y se especifica el tipo de datos \"category\". Después de la conversión, se muestra la información del DataFrame utilizando el método ```info()```, que muestra el tipo de datos de cada columna.\n",
    "\n",
    "Aquí, se puede observar que la columna 'color' ahora se ha convertido en una variable categórica, lo que se indica mediante el tipo de datos \"category\". Además, el uso de memoria del DataFrame se ha reducido significativamente a solo 278.0 bytes."
   ]
  },
  {
   "attachments": {},
   "cell_type": "markdown",
   "metadata": {},
   "source": [
    "## **4. Qué no hacer con datos categóricos**"
   ]
  },
  {
   "attachments": {},
   "cell_type": "markdown",
   "metadata": {},
   "source": [
    "Es importante tener en cuenta ciertos errores comunes que deben evitarse al trabajar con datos categóricos. Aquí hay un ejemplo de lo que no se debe hacer con datos categóricos utilizando la biblioteca Pandas:"
   ]
  },
  {
   "cell_type": "code",
   "execution_count": 7,
   "metadata": {},
   "outputs": [
    {
     "name": "stdout",
     "output_type": "stream",
     "text": [
      "Tabla de contingencia:\n",
      "animal  gato  perro\n",
      "color              \n",
      "azul     1.0    1.0\n",
      "rojo     NaN    2.0\n",
      "verde    1.0    1.0\n",
      "\n",
      "Tabla de contingencia normalizada:\n",
      "animal  gato  perro\n",
      "color              \n",
      "azul     0.5    0.5\n",
      "rojo     NaN    1.0\n",
      "verde    0.5    0.5\n"
     ]
    }
   ],
   "source": [
    "import pandas as pd\n",
    "\n",
    "# Crear un DataFrame de ejemplo\n",
    "df = pd.DataFrame({'color': ['azul', 'verde', 'rojo', 'verde', 'azul', 'rojo'],\n",
    "                   'animal': ['perro', 'gato', 'perro', 'perro', 'gato', 'perro']})\n",
    "\n",
    "# Crear una tabla de contingencia utilizando groupby\n",
    "tabla_contingencia = df.groupby(['color', 'animal']).size().unstack()\n",
    "\n",
    "# Normalizar la tabla de contingencia\n",
    "tabla_contingencia_normalizada = tabla_contingencia.div(tabla_contingencia.sum(axis=1), axis=0)\n",
    "\n",
    "# Mostrar la tabla de contingencia y la tabla de contingencia normalizada\n",
    "print('Tabla de contingencia:')\n",
    "print(tabla_contingencia)\n",
    "print('\\nTabla de contingencia normalizada:')\n",
    "print(tabla_contingencia_normalizada)\n"
   ]
  },
  {
   "attachments": {},
   "cell_type": "markdown",
   "metadata": {},
   "source": [
    "En este ejemplo, se crea un DataFrame de ejemplo con dos variables categóricas: 'color' y 'animal'. Luego, se crea una tabla de contingencia utilizando el método ```groupby``` de Pandas. Sin embargo, este método no es adecuado para crear tablas de contingencia ya que no muestra los valores faltantes y puede dar lugar a resultados incorrectos. A continuación, se normaliza la tabla de contingencia dividiendo cada fila por la suma de los valores de la fila. Esta normalización también es incorrecta, ya que no tiene en cuenta los valores faltantes en la tabla de contingencia."
   ]
  },
  {
   "attachments": {},
   "cell_type": "markdown",
   "metadata": {},
   "source": [
    "## **5. Codificación One-Hot**"
   ]
  },
  {
   "attachments": {},
   "cell_type": "markdown",
   "metadata": {},
   "source": [
    "La Codificación One-Hot es una técnica utilizada en el análisis de datos para convertir variables categóricas en variables numéricas que puedan ser utilizadas por algoritmos de aprendizaje automático. La idea básica detrás de la codificación One-Hot es crear una columna separada para cada valor único en una variable categórica y asignar un valor binario (0 o 1) a cada columna según si ese valor único está presente o no en cada fila de datos.\n",
    "\n",
    "Aquí te dejo un ejemplo de cómo implementar la codificación One-Hot en Python utilizando la biblioteca Pandas:"
   ]
  },
  {
   "cell_type": "code",
   "execution_count": 9,
   "metadata": {},
   "outputs": [
    {
     "name": "stdout",
     "output_type": "stream",
     "text": [
      "      Color  Amarillo  Azul  Rojo  Verde\n",
      "0      Rojo         0     0     1      0\n",
      "1      Azul         0     1     0      0\n",
      "2     Verde         0     0     0      1\n",
      "3      Rojo         0     0     1      0\n",
      "4  Amarillo         1     0     0      0\n"
     ]
    }
   ],
   "source": [
    "import pandas as pd\n",
    "\n",
    "# Crear un dataframe de ejemplo\n",
    "df = pd.DataFrame({'Color': ['Rojo', 'Azul', 'Verde', 'Rojo', 'Amarillo']})\n",
    "\n",
    "# Utilizar la función \"get_dummies\" de Pandas para codificar la columna \"Color\"\n",
    "encoded = pd.get_dummies(df['Color'])\n",
    "\n",
    "# Unir las columnas codificadas al dataframe original\n",
    "df = pd.concat([df, encoded], axis=1)\n",
    "\n",
    "# Imprimir el dataframe resultante\n",
    "print(df)\n"
   ]
  },
  {
   "attachments": {},
   "cell_type": "markdown",
   "metadata": {},
   "source": [
    "En este ejemplo, se crea un dataframe con una columna llamada \"Color\" que contiene cinco valores categóricos diferentes. Se utiliza la función ```get_dummies``` de Pandas para transformar esta columna en variables dummy codificadas en formato One-Hot. Luego, se unen estas columnas codificadas al dataframe original mediante la función ```concat```. Como se puede ver en el resultado, cada valor único de la columna \"Color\" se convierte en una columna propia en el dataframe codificado, donde el valor 1 indica que la fila pertenece a esa categoría y 0 indica que no."
   ]
  }
 ],
 "metadata": {
  "kernelspec": {
   "display_name": "base",
   "language": "python",
   "name": "python3"
  },
  "language_info": {
   "codemirror_mode": {
    "name": "ipython",
    "version": 3
   },
   "file_extension": ".py",
   "mimetype": "text/x-python",
   "name": "python",
   "nbconvert_exporter": "python",
   "pygments_lexer": "ipython3",
   "version": "3.9.12"
  },
  "orig_nbformat": 4
 },
 "nbformat": 4,
 "nbformat_minor": 2
}
