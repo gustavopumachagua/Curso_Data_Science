{
 "cells": [
  {
   "attachments": {},
   "cell_type": "markdown",
   "metadata": {},
   "source": [
    "| **Inicio** | **atrás 3** | **Siguiente 5** |\n",
    "|----------- |-------------- |---------------|\n",
    "| [🏠](../../README.md) | [⏪](./3.Algebra_Lineal.ipynb)| [⏩](./5.Resumen.ipynb)|"
   ]
  },
  {
   "attachments": {},
   "cell_type": "markdown",
   "metadata": {},
   "source": [
    "# **4. Estadísticas**"
   ]
  },
  {
   "attachments": {},
   "cell_type": "markdown",
   "metadata": {},
   "source": [
    "## **Medidas de Tendencia central y dispersión**"
   ]
  },
  {
   "attachments": {},
   "cell_type": "markdown",
   "metadata": {},
   "source": [
    "En estadística, las medidas de tendencia central y dispersión son herramientas esenciales para analizar conjuntos de datos y obtener información valiosa acerca de su distribución. En Python, existen múltiples librerías que permiten calcular estas medidas de manera sencilla.\n",
    "\n",
    "1. **Medidas de tendencia central**\n",
    "\n",
    "Las medidas de tendencia central son valores que representan la ubicación central de los datos. Las medidas de tendencia central más comunes son la media, la mediana y la moda.\n",
    "\n",
    "* **Media**\n",
    "\n",
    "La media es el promedio aritmético de los valores en un conjunto de datos. Se calcula sumando todos los valores y dividiendo el resultado entre el número de elementos en el conjunto."
   ]
  },
  {
   "cell_type": "code",
   "execution_count": 1,
   "metadata": {},
   "outputs": [
    {
     "name": "stdout",
     "output_type": "stream",
     "text": [
      "Media: 8.0\n"
     ]
    }
   ],
   "source": [
    "import numpy as np\n",
    "\n",
    "# Conjunto de datos\n",
    "datos = [4, 6, 8, 10, 12]\n",
    "\n",
    "# Media\n",
    "media = np.mean(datos)\n",
    "\n",
    "print(\"Media:\", media)"
   ]
  },
  {
   "attachments": {},
   "cell_type": "markdown",
   "metadata": {},
   "source": [
    "* **Mediana**\n",
    "\n",
    "La mediana es el valor que divide el conjunto de datos en dos partes iguales, es decir, el `50%` de los valores son mayores o iguales a la mediana y el `50%` restante son menores o iguales a la mediana. Para calcular la mediana, es necesario ordenar los datos de manera ascendente o descendente y elegir el valor que ocupa la posición central."
   ]
  },
  {
   "cell_type": "code",
   "execution_count": 2,
   "metadata": {},
   "outputs": [
    {
     "name": "stdout",
     "output_type": "stream",
     "text": [
      "Mediana: 8.0\n"
     ]
    }
   ],
   "source": [
    "# Conjunto de datos\n",
    "datos = [4, 6, 8, 10, 12]\n",
    "\n",
    "# Mediana\n",
    "mediana = np.median(datos)\n",
    "\n",
    "print(\"Mediana:\", mediana)"
   ]
  },
  {
   "attachments": {},
   "cell_type": "markdown",
   "metadata": {},
   "source": [
    "* **Moda**\n",
    "\n",
    "La moda es el valor que aparece con mayor frecuencia en un conjunto de datos. Si no hay un valor que se repita más que los demás, se dice que el conjunto de datos no tiene moda."
   ]
  },
  {
   "cell_type": "code",
   "execution_count": 1,
   "metadata": {},
   "outputs": [
    {
     "name": "stdout",
     "output_type": "stream",
     "text": [
      "Moda: 8\n"
     ]
    }
   ],
   "source": [
    "# Conjunto de datos\n",
    "datos = [4, 6, 8, 10, 12, 8]\n",
    "\n",
    "# Moda\n",
    "from statistics import mode\n",
    "\n",
    "moda = mode(datos)\n",
    "\n",
    "print(\"Moda:\", moda)"
   ]
  },
  {
   "attachments": {},
   "cell_type": "markdown",
   "metadata": {},
   "source": [
    "2.  **Medidas de dispersión**\n",
    "\n",
    "Las medidas de dispersión indican la variabilidad o dispersión de los datos. Las medidas de dispersión más comunes son el rango, la varianza y la desviación estándar.\n",
    "\n",
    "* **Rango**\n",
    "\n",
    "El rango es la diferencia entre el valor máximo y el valor mínimo en un conjunto de datos."
   ]
  },
  {
   "cell_type": "code",
   "execution_count": 3,
   "metadata": {},
   "outputs": [
    {
     "name": "stdout",
     "output_type": "stream",
     "text": [
      "Rango: 8\n"
     ]
    }
   ],
   "source": [
    "import numpy as np\n",
    "\n",
    "# Conjunto de datos\n",
    "datos = [4, 6, 8, 10, 12]\n",
    "\n",
    "# Rango\n",
    "rango = np.max(datos) - np.min(datos)\n",
    "\n",
    "print(\"Rango:\", rango)"
   ]
  },
  {
   "attachments": {},
   "cell_type": "markdown",
   "metadata": {},
   "source": [
    "* **Varianza**\n",
    "\n",
    "La varianza es una medida de la dispersión de los datos con respecto a su media. Se calcula como la media aritmética de las diferencias al cuadrado entre cada valor y la media."
   ]
  },
  {
   "cell_type": "code",
   "execution_count": 4,
   "metadata": {},
   "outputs": [
    {
     "name": "stdout",
     "output_type": "stream",
     "text": [
      "Varianza: 8.0\n"
     ]
    }
   ],
   "source": [
    "# Conjunto de datos\n",
    "datos = [4, 6, 8, 10, 12]\n",
    "\n",
    "# Varianza\n",
    "varianza = np.var(datos)\n",
    "\n",
    "print(\"Varianza:\", varianza)"
   ]
  },
  {
   "attachments": {},
   "cell_type": "markdown",
   "metadata": {},
   "source": [
    "* **Desviación estándar**\n",
    "\n",
    "La desviación estándar es la raíz cuadrada de la varianza y se utiliza para describir la dispersión"
   ]
  },
  {
   "cell_type": "code",
   "execution_count": 5,
   "metadata": {},
   "outputs": [
    {
     "name": "stdout",
     "output_type": "stream",
     "text": [
      "Desviación estándar: 2.8284271247461903\n"
     ]
    }
   ],
   "source": [
    "# Conjunto de datos\n",
    "datos = [4, 6, 8, 10, 12]\n",
    "\n",
    "# Desviación estándar\n",
    "desviacion = np.std(datos)\n",
    "\n",
    "print(\"Desviación estándar:\", desviacion)"
   ]
  },
  {
   "attachments": {},
   "cell_type": "markdown",
   "metadata": {},
   "source": [
    "En resumen, en Python se pueden utilizar diversas librerías, como `numpy` y `statistics`, para calcular medidas de tendencia central y dispersión en un conjunto de datos. Las medidas de tendencia central incluyen la media, la mediana y la moda, mientras que las medidas de dispersión incluyen el rango, la varianza y la desviación estándar. Estas medidas son muy útiles para entender la distribución de los datos y tomar decisiones informadas a partir de ellos."
   ]
  },
  {
   "attachments": {},
   "cell_type": "markdown",
   "metadata": {},
   "source": [
    "## **Promedios**"
   ]
  },
  {
   "attachments": {},
   "cell_type": "markdown",
   "metadata": {},
   "source": [
    "Los promedios son medidas de tendencia central que permiten resumir un conjunto de datos en un solo valor que representa un `\"valor típico\"` o `\"representativo\"` del conjunto. En Python, se pueden calcular diferentes tipos de promedios, como la media, la mediana y la moda.\n",
    "\n",
    "* **Media**\n",
    "\n",
    "La media es el promedio aritmético de los datos y se calcula sumando todos los valores y dividiendo por el número total de valores. En Python, se puede calcular fácilmente la media de un conjunto de datos utilizando la función `mean()` de la librería `NumPy`."
   ]
  },
  {
   "cell_type": "code",
   "execution_count": 6,
   "metadata": {},
   "outputs": [
    {
     "name": "stdout",
     "output_type": "stream",
     "text": [
      "Media: 8.0\n"
     ]
    }
   ],
   "source": [
    "import numpy as np\n",
    "\n",
    "# Conjunto de datos\n",
    "datos = [4, 6, 8, 10, 12]\n",
    "\n",
    "# Media\n",
    "media = np.mean(datos)\n",
    "\n",
    "print(\"Media:\", media)"
   ]
  },
  {
   "attachments": {},
   "cell_type": "markdown",
   "metadata": {},
   "source": [
    "* **Mediana**\n",
    "\n",
    "La mediana es el valor central en un conjunto de datos ordenados. En otras palabras, la mitad de los valores son iguales o menores que la mediana, y la otra mitad son iguales o mayores. En Python, se puede calcular la mediana de un conjunto de datos utilizando la función `median()` de la librería `NumPy`."
   ]
  },
  {
   "cell_type": "code",
   "execution_count": 7,
   "metadata": {},
   "outputs": [
    {
     "name": "stdout",
     "output_type": "stream",
     "text": [
      "Mediana: 8.0\n"
     ]
    }
   ],
   "source": [
    "import numpy as np\n",
    "\n",
    "# Conjunto de datos\n",
    "datos = [4, 6, 8, 10, 12]\n",
    "\n",
    "# Mediana\n",
    "mediana = np.median(datos)\n",
    "\n",
    "print(\"Mediana:\", mediana)"
   ]
  },
  {
   "attachments": {},
   "cell_type": "markdown",
   "metadata": {},
   "source": [
    "En este ejemplo, la mediana es igual a la media ya que el conjunto de datos es simétrico.\n",
    "\n",
    "* **Moda**\n",
    "\n",
    "La moda es el valor que aparece con mayor frecuencia en un conjunto de datos. En Python, se puede calcular la moda de un conjunto de datos utilizando la función `mode()` de la librería `statistics`."
   ]
  },
  {
   "cell_type": "code",
   "execution_count": 8,
   "metadata": {},
   "outputs": [
    {
     "name": "stdout",
     "output_type": "stream",
     "text": [
      "Moda: 8\n"
     ]
    }
   ],
   "source": [
    "import statistics\n",
    "\n",
    "# Conjunto de datos\n",
    "datos = [4, 6, 8, 10, 12, 8]\n",
    "\n",
    "# Moda\n",
    "moda = statistics.mode(datos)\n",
    "\n",
    "print(\"Moda:\", moda)"
   ]
  },
  {
   "attachments": {},
   "cell_type": "markdown",
   "metadata": {},
   "source": [
    "En este ejemplo, la moda es igual a `8` ya que es el valor que aparece con mayor frecuencia en el conjunto de datos.\n",
    "\n",
    "En resumen, en Python se pueden calcular diferentes tipos de promedios, como la media, la mediana y la moda, utilizando funciones de librerías como `NumPy` y `statistics`. Estas medidas permiten resumir un conjunto de datos en un solo valor representativo, lo que es útil para entender la distribución de los datos y tomar decisiones informadas a partir de ellos."
   ]
  },
  {
   "attachments": {},
   "cell_type": "markdown",
   "metadata": {},
   "source": [
    "## **Varianza**"
   ]
  },
  {
   "attachments": {},
   "cell_type": "markdown",
   "metadata": {},
   "source": [
    "La varianza es una medida de dispersión que indica qué tan alejados están los valores de un conjunto de datos con respecto a su media. Una varianza alta indica que los valores están muy dispersos, mientras que una varianza baja indica que los valores están más agrupados en torno a la media.\n",
    "\n",
    "En Python, se puede calcular la varianza utilizando la función `var()` de la librería `NumPy`. La fórmula para calcular la varianza es:"
   ]
  },
  {
   "attachments": {},
   "cell_type": "markdown",
   "metadata": {},
   "source": [
    "$varianza = sum((x - media)**2) / (n - 1)$"
   ]
  },
  {
   "attachments": {},
   "cell_type": "markdown",
   "metadata": {},
   "source": [
    "donde `x` es cada valor del conjunto de datos, media es la `media` del conjunto de datos, y `n` es el número total de valores.\n",
    "\n",
    "A continuación se presenta un ejemplo de cómo calcular la varianza en Python:"
   ]
  },
  {
   "cell_type": "code",
   "execution_count": 9,
   "metadata": {},
   "outputs": [
    {
     "name": "stdout",
     "output_type": "stream",
     "text": [
      "Varianza: 10.0\n"
     ]
    }
   ],
   "source": [
    "import numpy as np\n",
    "\n",
    "# Conjunto de datos\n",
    "datos = [4, 6, 8, 10, 12]\n",
    "\n",
    "# Media\n",
    "media = np.mean(datos)\n",
    "\n",
    "# Varianza\n",
    "varianza = np.var(datos, ddof=1)  # ddof=1 para utilizar n-1 en el denominador\n",
    "\n",
    "print(\"Varianza:\", varianza)"
   ]
  },
  {
   "attachments": {},
   "cell_type": "markdown",
   "metadata": {},
   "source": [
    "En este ejemplo, la varianza es igual a `8.0`, lo que indica que los valores están bastante dispersos con respecto a la media (que es igual a 8.0).\n",
    "\n",
    "También es importante mencionar que la varianza puede ser afectada por valores atípicos (outliers) en el conjunto de datos, lo que puede resultar en una medida de dispersión no muy representativa. Para mitigar este problema, se puede utilizar la desviación estándar, que es simplemente la raíz cuadrada de la varianza, y que proporciona una medida de dispersión más robusta.\n",
    "\n",
    "En Python, se puede calcular la desviación estándar utilizando la función `std()` de la librería `NumPy`. La fórmula para calcular la desviación estándar es:"
   ]
  },
  {
   "attachments": {},
   "cell_type": "markdown",
   "metadata": {},
   "source": [
    "$desv_estandar = sqrt(sum((x - media)**2) / (n - 1))$"
   ]
  },
  {
   "attachments": {},
   "cell_type": "markdown",
   "metadata": {},
   "source": [
    "A continuación se presenta un ejemplo de cómo calcular la desviación estándar en Python:"
   ]
  },
  {
   "cell_type": "code",
   "execution_count": 10,
   "metadata": {},
   "outputs": [
    {
     "name": "stdout",
     "output_type": "stream",
     "text": [
      "Desviación estándar: 3.1622776601683795\n"
     ]
    }
   ],
   "source": [
    "import numpy as np\n",
    "\n",
    "# Conjunto de datos\n",
    "datos = [4, 6, 8, 10, 12]\n",
    "\n",
    "# Media\n",
    "media = np.mean(datos)\n",
    "\n",
    "# Desviación estándar\n",
    "desv_estandar = np.std(datos, ddof=1)  # ddof=1 para utilizar n-1 en el denominador\n",
    "\n",
    "print(\"Desviación estándar:\", desv_estandar)"
   ]
  },
  {
   "attachments": {},
   "cell_type": "markdown",
   "metadata": {},
   "source": [
    "En este ejemplo, la desviación estándar es igual a `2.8284`, lo que indica que los valores están bastante dispersos con respecto a la media."
   ]
  },
  {
   "attachments": {},
   "cell_type": "markdown",
   "metadata": {},
   "source": [
    "## **Tablas de frecuencias**"
   ]
  },
  {
   "attachments": {},
   "cell_type": "markdown",
   "metadata": {},
   "source": [
    "Las tablas de frecuencias son una forma de resumir y visualizar la distribución de un conjunto de datos en términos de la cantidad de veces que aparece cada valor en el conjunto. En Python, se pueden crear tablas de frecuencias utilizando la librería `pandas`.\n",
    "\n",
    "Para crear una tabla de frecuencias, se debe seguir los siguientes pasos:\n",
    "\n",
    "* Crear una serie o un arreglo de pandas con los datos.\n",
    "* Utilizar la función `value_counts()` para contar la frecuencia de cada valor.\n",
    "* Opcionalmente, se puede ordenar los valores por frecuencia o por valor utilizando la función `sort_index()` o `sort_values()`.\n",
    "\n",
    "A continuación, se presenta un ejemplo de cómo crear una tabla de frecuencias en Python utilizando la librería pandas:"
   ]
  },
  {
   "cell_type": "code",
   "execution_count": 11,
   "metadata": {},
   "outputs": [
    {
     "name": "stdout",
     "output_type": "stream",
     "text": [
      "4     2\n",
      "6     2\n",
      "8     3\n",
      "10    2\n",
      "12    1\n",
      "dtype: int64\n"
     ]
    }
   ],
   "source": [
    "import pandas as pd\n",
    "\n",
    "# Conjunto de datos\n",
    "datos = [4, 6, 8, 10, 12, 8, 6, 4, 10, 8]\n",
    "\n",
    "# Crear una serie de pandas con los datos\n",
    "serie_datos = pd.Series(datos)\n",
    "\n",
    "# Crear la tabla de frecuencias\n",
    "tabla_frecuencias = serie_datos.value_counts().sort_index()\n",
    "\n",
    "print(tabla_frecuencias)"
   ]
  },
  {
   "attachments": {},
   "cell_type": "markdown",
   "metadata": {},
   "source": [
    "En este ejemplo, se crea una serie de `pandas` con los datos `[4, 6, 8, 10, 12, 8, 6, 4, 10, 8]`. Luego, se utiliza la función `value_counts()` para contar la frecuencia de cada valor en la serie y se ordenan los valores utilizando la función `sort_index()`. La tabla de frecuencias resultante muestra que el valor `4` aparece dos veces, el valor `6` aparece dos veces, el valor `8` aparece tres veces, el valor `10` aparece dos veces, y el valor `12` aparece una vez.\n",
    "\n",
    "También es posible crear tablas de frecuencias acumuladas, que muestran la frecuencia acumulada de cada valor en el conjunto de datos. En Python, se puede crear una tabla de frecuencias acumuladas utilizando la función `cumsum()` de `pandas`. A continuación, se presenta un ejemplo de cómo crear una tabla de frecuencias acumuladas en Python:"
   ]
  },
  {
   "cell_type": "code",
   "execution_count": 12,
   "metadata": {},
   "outputs": [
    {
     "name": "stdout",
     "output_type": "stream",
     "text": [
      "4      2\n",
      "6      4\n",
      "8      7\n",
      "10     9\n",
      "12    10\n",
      "dtype: int64\n"
     ]
    }
   ],
   "source": [
    "import pandas as pd\n",
    "\n",
    "# Conjunto de datos\n",
    "datos = [4, 6, 8, 10, 12, 8, 6, 4, 10, 8]\n",
    "\n",
    "# Crear una serie de pandas con los datos\n",
    "serie_datos = pd.Series(datos)\n",
    "\n",
    "# Crear la tabla de frecuencias\n",
    "tabla_frecuencias = serie_datos.value_counts().sort_index()\n",
    "\n",
    "# Crear la tabla de frecuencias acumuladas\n",
    "tabla_frecuencias_acum = tabla_frecuencias.cumsum()\n",
    "\n",
    "print(tabla_frecuencias_acum)"
   ]
  },
  {
   "attachments": {},
   "cell_type": "markdown",
   "metadata": {},
   "source": [
    "En este ejemplo, se crea primero la tabla de frecuencias como en el ejemplo anterior. Luego, se utiliza la función `cumsum()` para crear la tabla de frecuencias acumuladas. La tabla de frecuencias acumuladas resultante muestra la frecuencia acumulada de cada valor en el conjunto de datos."
   ]
  },
  {
   "attachments": {},
   "cell_type": "markdown",
   "metadata": {},
   "source": [
    "## **Probabilidades**"
   ]
  },
  {
   "attachments": {},
   "cell_type": "markdown",
   "metadata": {},
   "source": [
    "La probabilidad es una medida numérica que cuantifica la posibilidad de que un evento ocurra. En estadística, la probabilidad se utiliza para modelar y analizar fenómenos aleatorios.\n",
    "\n",
    "En Python, existen varias librerías para trabajar con probabilidades, tales como `NumPy`, `SciPy`, `Pandas` y `Scikit-Learn`. A continuación, se presentan algunos conceptos y ejemplos básicos de cómo trabajar con probabilidades en Python:\n",
    "\n",
    "* **Definir un espacio muestral:**\n",
    "\n",
    " El espacio muestral es el conjunto de todos los posibles resultados de un experimento aleatorio. En Python, se puede representar un espacio muestral utilizando una lista o un arreglo de `NumPy`."
   ]
  },
  {
   "cell_type": "code",
   "execution_count": 13,
   "metadata": {},
   "outputs": [],
   "source": [
    "import numpy as np\n",
    "\n",
    "# Definir un espacio muestral\n",
    "espacio_muestral = np.array([1, 2, 3, 4, 5, 6])"
   ]
  },
  {
   "attachments": {},
   "cell_type": "markdown",
   "metadata": {},
   "source": [
    "* **Definir una distribución de probabilidad:**\n",
    "\n",
    " Una distribución de probabilidad es una función que asigna a cada resultado de un experimento aleatorio una probabilidad. En Python, se pueden definir distribuciones de probabilidad utilizando las funciones de distribución de probabilidad de la librería `SciPy`."
   ]
  },
  {
   "cell_type": "code",
   "execution_count": 14,
   "metadata": {},
   "outputs": [],
   "source": [
    "from scipy.stats import norm\n",
    "\n",
    "# Definir una distribución normal\n",
    "distribucion_normal = norm(loc=0, scale=1)"
   ]
  },
  {
   "attachments": {},
   "cell_type": "markdown",
   "metadata": {},
   "source": [
    "* **Calcular la probabilidad de un evento:**\n",
    "\n",
    " La probabilidad de un evento es la suma de las probabilidades de todos los resultados que satisfacen el evento. En Python, se puede calcular la probabilidad de un evento utilizando las funciones de la librería `SciPy`."
   ]
  },
  {
   "cell_type": "code",
   "execution_count": 15,
   "metadata": {},
   "outputs": [
    {
     "name": "stdout",
     "output_type": "stream",
     "text": [
      "La probabilidad de que X > 1 es: 0.15865525393145707\n"
     ]
    }
   ],
   "source": [
    "from scipy.stats import norm\n",
    "\n",
    "# Definir una distribución normal\n",
    "distribucion_normal = norm(loc=0, scale=1)\n",
    "\n",
    "# Calcular la probabilidad de que X > 1\n",
    "probabilidad = 1 - distribucion_normal.cdf(1)\n",
    "\n",
    "print(\"La probabilidad de que X > 1 es:\", probabilidad)"
   ]
  },
  {
   "attachments": {},
   "cell_type": "markdown",
   "metadata": {},
   "source": [
    "En este ejemplo, se define una distribución normal con media `0` y desviación estándar `1` utilizando la función `norm()`. Luego, se calcula la probabilidad de que una variable aleatoria `X` de esta distribución sea mayor que `1` utilizando la función `cdf()` (función de distribución acumulada). La probabilidad resultante se imprime por pantalla.\n",
    "\n",
    "* **Simular eventos aleatorios:**\n",
    "\n",
    " La simulación de eventos aleatorios es una herramienta importante en estadística para evaluar la incertidumbre y la variabilidad de un fenómeno aleatorio. En Python, se pueden simular eventos aleatorios utilizando las funciones de generación de números aleatorios de la librería `NumPy`."
   ]
  },
  {
   "cell_type": "code",
   "execution_count": 16,
   "metadata": {},
   "outputs": [
    {
     "name": "stdout",
     "output_type": "stream",
     "text": [
      "Números aleatorios generados: [0.91531465 0.31878028 0.08701824 0.20474422 0.27126248 0.81190506\n",
      " 0.05972631 0.99685071 0.42881643 0.39299751]\n"
     ]
    }
   ],
   "source": [
    "import numpy as np\n",
    "\n",
    "# Generar 10 números aleatorios entre 0 y 1\n",
    "numeros_aleatorios = np.random.rand(10)\n",
    "\n",
    "print(\"Números aleatorios generados:\", numeros_aleatorios)"
   ]
  },
  {
   "attachments": {},
   "cell_type": "markdown",
   "metadata": {},
   "source": [
    "En este ejemplo, se generan 10 números aleatorios entre 0 y 1 utilizando la función `rand()` de `NumPy`. Los números aleatorios resultantes se imprimen por pantalla.\n",
    "\n",
    "En resumen, Python cuenta con diversas herramientas para trabajar con probabilidades y estadística, lo que permite modelar y analizar fenómenos aleatorios de manera eficiente y flexible."
   ]
  },
  {
   "attachments": {},
   "cell_type": "markdown",
   "metadata": {},
   "source": [
    "## **Probabilidad condicional**"
   ]
  },
  {
   "attachments": {},
   "cell_type": "markdown",
   "metadata": {},
   "source": [
    "La probabilidad condicional es la probabilidad de que un evento ocurra dado que otro evento ha ocurrido. En otras palabras, es la probabilidad de un evento `A` dado que se sabe que un evento `B` ha ocurrido. La probabilidad condicional se denota como `P(A|B)` y se lee como `\"la probabilidad de A dado B\"`.\n",
    "\n",
    "En Python, se puede calcular la probabilidad condicional utilizando la regla de `Bayes` o utilizando la definición de probabilidad condicional.\n",
    "\n",
    "* **Regla de Bayes:**\n",
    "\n",
    " La regla de Bayes es una fórmula que permite calcular la probabilidad condicional utilizando la probabilidad de los eventos y la probabilidad de que un evento ocurra dado que otro evento ha ocurrido. En Python, se puede calcular la probabilidad condicional utilizando la fórmula de Bayes y las funciones de la librería `SciPy`."
   ]
  },
  {
   "cell_type": "code",
   "execution_count": 17,
   "metadata": {},
   "outputs": [
    {
     "name": "stdout",
     "output_type": "stream",
     "text": [
      "La probabilidad de que X > 1 dado que Y > 0 es: 1.0\n"
     ]
    }
   ],
   "source": [
    "from scipy.stats import norm\n",
    "\n",
    "# Definir distribuciones normales\n",
    "distribucion_normal1 = norm(loc=0, scale=1)\n",
    "distribucion_normal2 = norm(loc=1, scale=1)\n",
    "\n",
    "# Calcular la probabilidad de que X > 1 dado que Y > 0\n",
    "probabilidad_y_positivo = 1 - distribucion_normal2.cdf(0)\n",
    "probabilidad_x_positivo_y_positivo = distribucion_normal1.cdf(1)\n",
    "probabilidad_y_positivo_dado_x_positivo = probabilidad_x_positivo_y_positivo / probabilidad_y_positivo\n",
    "\n",
    "print(\"La probabilidad de que X > 1 dado que Y > 0 es:\", probabilidad_y_positivo_dado_x_positivo)"
   ]
  },
  {
   "attachments": {},
   "cell_type": "markdown",
   "metadata": {},
   "source": [
    "En este ejemplo, se definen dos distribuciones normales utilizando la función `norm()`. Luego, se calcula la probabilidad de que `Y` sea mayor que `0` utilizando la función `cdf()`. A continuación, se calcula la probabilidad de que `X` sea mayor que `1` dado que `Y` es mayor que `0` utilizando la fórmula de Bayes.\n",
    "\n",
    "* **Definición de probabilidad condicional:**\n",
    "\n",
    " La probabilidad condicional también se puede calcular utilizando la definición de probabilidad condicional. En Python, se puede calcular la probabilidad condicional utilizando las funciones de la librería `NumPy`."
   ]
  },
  {
   "cell_type": "code",
   "execution_count": 18,
   "metadata": {},
   "outputs": [
    {
     "name": "stdout",
     "output_type": "stream",
     "text": [
      "La probabilidad de que X > 1 dado que Y > 0 es: 0.141\n"
     ]
    }
   ],
   "source": [
    "import numpy as np\n",
    "\n",
    "# Generar dos variables aleatorias X e Y\n",
    "x = np.random.normal(0, 1, 1000)\n",
    "y = np.random.normal(1, 1, 1000)\n",
    "\n",
    "# Calcular la probabilidad de que X > 1 dado que Y > 0\n",
    "muestra = (y > 0) & (x > 1)\n",
    "probabilidad_y_positivo_dado_x_positivo = np.mean(muestra)\n",
    "\n",
    "print(\"La probabilidad de que X > 1 dado que Y > 0 es:\", probabilidad_y_positivo_dado_x_positivo)"
   ]
  },
  {
   "attachments": {},
   "cell_type": "markdown",
   "metadata": {},
   "source": [
    "En este ejemplo, se generan dos variables aleatorias `X` e `Y` utilizando la función `normal()` de `NumPy`. Luego, se calcula la probabilidad de que `X` sea mayor que `1` dado que `Y` es mayor que `0` utilizando la definición de probabilidad condicional y la función `mean()` de `NumPy`.\n",
    "\n",
    "En resumen, la probabilidad condicional es una herramienta importante en estadística para modelar y analizar eventos aleatorios condicionados a la ocurrencia de otro evento. En Python, se pueden calcular la probabilidad condicional utilizando la regla de Bayes o la definición de probabilidad condicional y las funciones de las librerias."
   ]
  },
  {
   "attachments": {},
   "cell_type": "markdown",
   "metadata": {},
   "source": [
    "## **Teorema de Bayes**"
   ]
  },
  {
   "attachments": {},
   "cell_type": "markdown",
   "metadata": {},
   "source": [
    "El Teorema de Bayes es una herramienta fundamental en el campo de la estadística que nos permite actualizar la probabilidad de un evento a medida que se reciben nuevos datos o información. En Python, podemos utilizar diversas librerías para aplicar este teorema, como `NumPy` o `SciPy`.\n",
    "\n",
    "La fórmula del Teorema de Bayes es la siguiente:\n",
    "\n",
    "$P(A|B) = P(B|A) * P(A) / P(B)$\n",
    "\n",
    "**Donde:**\n",
    "\n",
    "* $P(A|B)$ es la probabilidad de que `A` ocurra dado que ha ocurrido `B`.\n",
    "\n",
    "* $P(B|A)$ es la probabilidad de que `B` ocurra dado que ha ocurrido `A`.\n",
    "\n",
    "* $P(A)$ es la probabilidad de que `A` ocurra.\n",
    "\n",
    "* $P(B)$ es la probabilidad de que `B` ocurra.\n",
    "\n",
    "Para entender mejor el Teorema de Bayes, veamos un ejemplo práctico:\n",
    "\n",
    "Supongamos que en una ciudad se ha detectado una enfermedad que afecta al `1%` de la población. Además, se sabe que la prueba utilizada para detectar esta enfermedad tiene una tasa de falsos positivos del `5%`, es decir, que un `5%` de las personas que no tienen la enfermedad obtienen un resultado positivo en la prueba. También se sabe que la tasa de falsos negativos de la prueba es del `10%`, es decir, que un `10%` de las personas que tienen la enfermedad obtienen un resultado negativo en la prueba.\n",
    "\n",
    "Ahora, si una persona ha dado positivo en la prueba, ¿cuál es la probabilidad de que realmente tenga la enfermedad?\n",
    "\n",
    "Para aplicar el Teorema de Bayes, podemos utilizar las siguientes probabilidades:\n",
    "\n",
    "* $P(enfermedad) = 0.01$\n",
    "\n",
    "* $P(positivo | enfermedad) = 0.9$ (ya que la tasa de falsos negativos es del `10%`)\n",
    "\n",
    "* $P(positivo | no enfermedad) = 0.05$ (ya que la tasa de falsos positivos es del `5%`)\n",
    "\n",
    "Entonces, podemos calcular la probabilidad de que la persona tenga la enfermedad dado que ha dado positivo en la prueba utilizando la fórmula del Teorema de Bayes:\n",
    "\n",
    "$P(enfermedad | positivo) = P(positivo | enfermedad) * P(enfermedad) / P(positivo)$\n",
    "\n",
    "$P(enfermedad | positivo) = 0.9 * 0.01 / P(positivo)$\n",
    "\n",
    "Ahora, necesitamos calcular la probabilidad de que la persona haya dado positivo en la prueba, independientemente de si tiene o no la enfermedad. Podemos hacer esto utilizando la Regla de la Probabilidad Total:\n",
    "\n",
    "$P(positivo) = P(positivo | enfermedad) * P(enfermedad) + P(positivo | no enfermedad) * P(no enfermedad)$\n",
    "\n",
    "$P(positivo) = 0.9 * 0.01 + 0.05 * 0.99$\n",
    "\n",
    "$P(positivo) = 0.0585$\n",
    "\n",
    "Por lo tanto, podemos calcular la probabilidad de que la persona tenga la enfermedad dado que ha dado positivo en la prueba:\n",
    "\n",
    "$P(enfermedad | positivo) = 0.9 * 0.01 / 0.0585$\n",
    "\n",
    "$P(enfermedad | positivo) = 0.154$\n",
    "\n",
    "Es decir, la probabilidad de que la persona realmente tenga la enfermedad dado que ha dado positivo en la prueba es del `15.4%`."
   ]
  },
  {
   "attachments": {},
   "cell_type": "markdown",
   "metadata": {},
   "source": [
    "## **Probabilidad total**"
   ]
  },
  {
   "attachments": {},
   "cell_type": "markdown",
   "metadata": {},
   "source": [
    "La Regla de la Probabilidad Total es una herramienta utilizada en estadística para calcular la probabilidad de un evento a partir de información de eventos relacionados. En Python, podemos utilizar diversas librerías para aplicar esta regla, como `NumPy` o `SciPy`.\n",
    "\n",
    "La Regla de la Probabilidad Total establece que si tenemos dos o más eventos `A1`, `A2`, ..., `An` que son mutuamente excluyentes y exhaustivos, es decir, que uno y solo uno de ellos debe suceder, entonces la probabilidad de un evento `B` puede ser calculada sumando las probabilidades de `B` condicionado a cada uno de los eventos `Ai`, multiplicadas por la probabilidad de cada evento `Ai`. Es decir:\n",
    "\n",
    "$P(B) = Σ P(B|Ai) * P(Ai)$ para `i=1` a `n`\n",
    "\n",
    "**donde:**\n",
    "\n",
    "* $P(B)$ es la probabilidad de que ocurra el evento `B`.\n",
    "\n",
    "* $P(Ai)$ es la probabilidad de que ocurra el evento `Ai`.\n",
    "\n",
    "* $P(B|Ai)$ es la probabilidad de que ocurra el evento `B` dado que ha ocurrido el evento `Ai`.\n",
    "\n",
    "Veamos un ejemplo práctico:\n",
    "\n",
    "Supongamos que una tienda de ropa vende tres tipos de camisas: rojas, verdes y azules. El `40%` de las camisas vendidas son rojas, el `30%` son verdes y el `30%` son azules. Además, se sabe que el `10%` de las camisas rojas están en oferta, el `20%` de las camisas verdes están en oferta y el `15%` de las camisas azules están en oferta.\n",
    "\n",
    "Si un cliente compra una camisa en la tienda, ¿cuál es la probabilidad de que esté en oferta?\n",
    "\n",
    "Para aplicar la Regla de la Probabilidad Total, podemos utilizar las siguientes probabilidades:\n",
    "\n",
    "$P(roja) = 0.4\n",
    "\n",
    "$P(verde) = 0.3\n",
    "\n",
    "$P(azul) = 0.3$\n",
    "\n",
    "$P(oferta | roja) = 0.1$\n",
    "\n",
    "$P(oferta | verde) = 0.2$\n",
    "\n",
    "$P(oferta | azul) = 0.15$\n",
    "\n",
    "Entonces, podemos calcular la probabilidad de que una camisa esté en oferta utilizando la Regla de la Probabilidad Total:\n",
    "\n",
    "$P(oferta) = P(oferta | roja) * P(roja) + P(oferta | verde) * P(verde) + P(oferta | azul) * P(azul)$\n",
    "\n",
    "$P(oferta) = 0.1 * 0.4 + 0.2 * 0.3 + 0.15 * 0.3$\n",
    "\n",
    "$P(oferta) = 0.105$\n",
    "\n",
    "Por lo tanto, la probabilidad de que una camisa esté en oferta es del `10.5%`.\n",
    "\n",
    "En Python, podemos calcular esta probabilidad utilizando las siguientes líneas de código:"
   ]
  },
  {
   "cell_type": "code",
   "execution_count": 1,
   "metadata": {},
   "outputs": [
    {
     "name": "stdout",
     "output_type": "stream",
     "text": [
      "La probabilidad de que una camisa esté en oferta es: 0.14500000000000002\n"
     ]
    }
   ],
   "source": [
    "P_roja = 0.4\n",
    "P_verde = 0.3\n",
    "P_azul = 0.3\n",
    "\n",
    "P_oferta_dado_roja = 0.1\n",
    "P_oferta_dado_verde = 0.2\n",
    "P_oferta_dado_azul = 0.15\n",
    "\n",
    "P_oferta = P_oferta_dado_roja * P_roja + P_oferta_dado_verde * P_verde + P_oferta_dado_azul * P_azul\n",
    "\n",
    "print(\"La probabilidad de que una camisa esté en oferta es:\", P_oferta)"
   ]
  },
  {
   "attachments": {},
   "cell_type": "markdown",
   "metadata": {},
   "source": [
    "## **Distribución Normal**"
   ]
  },
  {
   "attachments": {},
   "cell_type": "markdown",
   "metadata": {},
   "source": [
    "La distribución normal es una distribución de probabilidad continua que es muy común en estadística debido a su capacidad para describir muchos fenómenos naturales, como la altura de las personas, el peso de los objetos y el tiempo que tardan en completarse ciertas tareas. En Python, podemos utilizar la librería `SciPy` para trabajar con la distribución normal.\n",
    "\n",
    "La distribución normal tiene una forma de campana y es simétrica en torno a su media. La media `(mu)` determina el punto donde se encuentra el centro de la campana, mientras que la desviación estándar `(sigma)` determina qué tan extendida es la campana. La probabilidad de que un valor se encuentre dentro de cierto rango en una distribución normal puede ser calculada utilizando la función de densidad de probabilidad `(PDF)` o la función de distribución acumulada `(CDF)`.\n",
    "\n",
    "En Python, podemos generar una muestra aleatoria de una distribución normal utilizando la función `numpy.random.normal()` de la librería `NumPy`. Por ejemplo, para generar una muestra aleatoria de tamaño `100` con una media de `0` y una desviación estándar de `1`, podemos escribir lo siguiente:"
   ]
  },
  {
   "cell_type": "code",
   "execution_count": 2,
   "metadata": {},
   "outputs": [
    {
     "name": "stdout",
     "output_type": "stream",
     "text": [
      "[-2.78499259e-02  6.86758560e-01 -5.28589446e-01 -1.21155773e+00\n",
      " -2.01690635e-01  3.72853893e-01 -2.76735848e-01 -1.14368839e+00\n",
      " -1.31857677e+00 -1.73496776e-01 -5.72207352e-01 -1.07712351e+00\n",
      " -2.65010573e+00 -2.62916074e+00 -6.19783011e-01  2.38227949e-01\n",
      " -4.27442960e-01 -1.09099905e+00 -5.02699402e-01 -1.24189162e+00\n",
      "  2.48885508e+00  8.44725850e-02  1.25531182e+00  3.81460786e-01\n",
      " -6.15587622e-01  2.14790131e+00  9.52744631e-01  9.44394012e-01\n",
      " -2.82669816e-01 -8.41776206e-01  9.18913762e-01 -1.38258538e-01\n",
      " -6.08374613e-01  3.44811156e-01  5.47971231e-01 -2.17209119e-01\n",
      "  1.06414078e+00  2.03357942e+00  3.99683393e-01 -4.49179150e-01\n",
      "  8.31983075e-01 -1.14325972e+00  1.28385821e+00 -2.83963778e-02\n",
      " -1.18616846e+00  1.45995896e+00  1.42476849e+00  1.59684113e+00\n",
      "  7.16121820e-01  1.09330021e+00 -1.80243818e-03 -1.10192108e-01\n",
      " -2.03561966e+00  2.33667945e+00 -1.61802884e+00 -6.97007611e-01\n",
      "  5.67445165e-01  7.44176867e-01 -1.65911341e-01 -1.65599720e+00\n",
      " -2.07164855e-01 -2.59440552e+00 -2.16959923e-01 -1.51282406e+00\n",
      " -3.21706457e-01 -3.97523017e-01 -3.81903199e-01 -1.18922077e+00\n",
      " -8.52329412e-01  2.75677707e-01 -9.58808088e-01  1.97252760e-01\n",
      " -1.09628946e+00 -7.95009919e-02 -4.11977490e-01 -2.63337861e-01\n",
      "  1.05084400e+00  5.25867827e-01  7.00568561e-01  2.06845757e+00\n",
      "  4.09086172e-01 -5.13424147e-01 -7.85537834e-01 -3.32551447e-01\n",
      "  1.09760797e+00 -3.34163565e-01  8.93161200e-01  1.58646647e+00\n",
      "  1.08664485e+00  1.94545456e+00 -2.50115466e+00 -4.42172086e-01\n",
      "  4.73159598e-01  4.97938951e-01 -7.10367835e-03 -1.56242945e+00\n",
      " -1.14662873e+00 -8.62862268e-01 -5.83110244e-02 -1.41360509e+00]\n"
     ]
    }
   ],
   "source": [
    "import numpy as np\n",
    "\n",
    "muestra = np.random.normal(0, 1, 100)\n",
    "print(muestra)"
   ]
  },
  {
   "attachments": {},
   "cell_type": "markdown",
   "metadata": {},
   "source": [
    "Esto generará una lista de `100` números aleatorios que siguen una distribución normal con media `0` y desviación estándar `1`.\n",
    "\n",
    "También podemos utilizar la función de densidad de probabilidad `(PDF)` y la función de distribución acumulada `(CDF)` para calcular probabilidades en una distribución normal. En Python, podemos utilizar las funciones `scipy.stats.norm.pdf()` y `scipy.stats.norm.cdf()` de la librería `SciPy`, respectivamente.\n",
    "\n",
    "Por ejemplo, para calcular la probabilidad de que un valor aleatorio de una distribución normal con media `0` y desviación estándar `1` se encuentre entre `-1` y `1`, podemos escribir lo siguiente:"
   ]
  },
  {
   "cell_type": "code",
   "execution_count": 3,
   "metadata": {},
   "outputs": [
    {
     "name": "stdout",
     "output_type": "stream",
     "text": [
      "0.6826894921370859\n"
     ]
    }
   ],
   "source": [
    "from scipy.stats import norm\n",
    "\n",
    "probabilidad = norm.cdf(1) - norm.cdf(-1)\n",
    "print(probabilidad)"
   ]
  },
  {
   "attachments": {},
   "cell_type": "markdown",
   "metadata": {},
   "source": [
    "Esto imprimirá la probabilidad de que un valor aleatorio de la distribución normal se encuentre entre `-1` y `1`. La salida será:\n",
    "\n",
    "`0.682689492137`"
   ]
  },
  {
   "attachments": {},
   "cell_type": "markdown",
   "metadata": {},
   "source": [
    "Esto significa que hay un `68.3%` de probabilidad de que un valor aleatorio de la distribución normal se encuentre entre `-1` y `1` desviaciones estándar de la media.\n",
    "\n",
    "También podemos utilizar la función de densidad de probabilidad `(PDF)` para calcular la densidad de probabilidad en un punto específico de la distribución normal. Por ejemplo, para calcular la densidad de probabilidad en `x=0` en una distribución normal con media `0` y desviación estándar `1`, podemos escribir lo siguiente:\n",
    "\n"
   ]
  },
  {
   "cell_type": "code",
   "execution_count": 4,
   "metadata": {},
   "outputs": [
    {
     "name": "stdout",
     "output_type": "stream",
     "text": [
      "0.3989422804014327\n"
     ]
    }
   ],
   "source": [
    "from scipy.stats import norm\n",
    "\n",
    "densidad = norm.pdf(0)\n",
    "print(densidad)"
   ]
  },
  {
   "attachments": {},
   "cell_type": "markdown",
   "metadata": {},
   "source": [
    "Esto imprimirá la densidad de probabilidad en el punto `x=0` de la distribución normal. La salida será:\n",
    "\n",
    "`0.398942280401`"
   ]
  },
  {
   "attachments": {},
   "cell_type": "markdown",
   "metadata": {},
   "source": [
    "## **Estadísticos muestrales TLC**"
   ]
  },
  {
   "attachments": {},
   "cell_type": "markdown",
   "metadata": {},
   "source": [
    "El Teorema del Límite Central `(TLC)` es un resultado importante en estadística que establece que, para cualquier población con una media finita `(mu)` y una desviación estándar finita `(sigma)`, la distribución de la media muestral se aproximará a una distribución normal a medida que el tamaño muestral aumenta. En otras palabras, esto significa que si tomamos muestras aleatorias de una población y calculamos las medias de esas muestras, la distribución de esas medias será una distribución normal.\n",
    "\n",
    "En Python, podemos utilizar el `TLC` para hacer inferencias sobre una población desconocida utilizando una muestra aleatoria de esa población. Por ejemplo, si queremos estimar la media de una población, podemos tomar una muestra aleatoria de esa población y calcular la media muestral. Dado que la distribución de la media muestral se aproxima a una distribución normal, podemos utilizar la distribución normal para calcular intervalos de confianza y realizar pruebas de hipótesis.\n",
    "\n",
    "En Python, podemos utilizar la librería `NumPy` para generar muestras aleatorias de una población y calcular estadísticos muestrales como la media y la desviación estándar. Por ejemplo, para generar una muestra aleatoria de tamaño `1000` de una población con media `0` y desviación estándar `1`, podemos escribir lo siguiente:"
   ]
  },
  {
   "cell_type": "code",
   "execution_count": 7,
   "metadata": {},
   "outputs": [
    {
     "name": "stdout",
     "output_type": "stream",
     "text": [
      "[-0.8160827  -0.47689513 -1.29272641 -0.46213432 -1.7667101  -0.76971813\n",
      " -0.44931068 -0.41486142  1.17567293 -0.20437424  0.79990894  0.59646347\n",
      "  1.04202189 -0.45925527  2.13145576 -0.87746549 -0.66492062 -0.85829881\n",
      "  0.43412278  0.71942562  0.94347714  2.78250477  0.96259579 -1.29914443\n",
      " -0.04946851 -1.23873016 -0.10398239  0.28296325  0.33821635  0.81720171\n",
      "  0.47442673  0.31258909  0.34096603  0.41436544  0.75806263 -1.04475237\n",
      "  0.61092583  0.09863773 -0.69756316 -0.4224592   1.63968009  1.5730033\n",
      " -0.73883108  0.43418128 -1.11584257 -2.20509196  0.92873187  1.52066195\n",
      " -0.65380278 -0.29500747 -1.02783808 -0.47727999 -1.22544636  1.20035419\n",
      " -1.55631536  2.01915382  0.31133179  0.02322644 -2.21787102  0.55724903\n",
      " -0.22919307 -0.78181381  0.27089675  0.54821961  0.37625937  1.1689861\n",
      " -1.44505353  0.2411782   0.39484746  0.8833146  -0.14842075  0.42340176\n",
      " -0.91773914 -2.0515454  -0.96087126 -1.12496432  0.56211773 -0.65305419\n",
      " -1.20200234  1.04812746 -0.6907243   1.68408545 -0.07113741 -0.41588749\n",
      "  0.15610137  0.54718365  0.52417561  2.01509527 -0.00976387 -1.14119295\n",
      "  1.31131985 -0.38059085  1.06342296 -0.18802918  0.26681368  0.42845803\n",
      " -0.34327311 -1.6216648  -1.57973089  0.77067288  1.86122527 -0.65684412\n",
      "  0.64707298  0.61192016  0.28826891  0.43349239 -0.24824213  0.56024816\n",
      " -0.1823593   0.55577558  1.22372467 -0.64613168 -0.73603802  0.04313743\n",
      "  0.56372001  1.0125159   1.10026382 -0.84569231  1.48189651  0.21225787\n",
      "  0.18346329 -1.13324575  0.86834542  0.21005403  0.05786265  0.50894243\n",
      "  0.53690061  0.77045797  1.58942384 -0.68028285 -0.21893033 -0.4656382\n",
      " -0.41674311  0.0772798  -0.36083764  0.5758183  -0.59885269  0.23503649\n",
      " -0.68439006 -0.40831311 -0.34656709 -0.93493377 -0.20801656  0.25594204\n",
      "  1.00214966  0.08145044 -0.10708582  2.072196   -0.83075408  0.62118136\n",
      " -0.16593823  0.24782188 -1.31360025 -1.31471018 -1.56912623  0.92093876\n",
      " -0.64067748  1.01620647  0.11362195  0.61694447 -0.37018219 -0.90831295\n",
      "  0.67720089 -1.16661448  3.06178327 -0.34601725  0.82956256 -1.76067662\n",
      "  0.01366765 -0.57809492 -0.75051172 -1.23136968 -1.03730311  0.84681063\n",
      " -0.67550821 -0.38731655 -1.04659566  0.34942245  0.33346482 -0.25287692\n",
      " -1.00911724 -1.43648504 -0.41738547 -0.76835165  0.59870521  1.87073113\n",
      "  0.63640511 -0.09679289 -0.89574458 -0.89835351 -0.42395614  0.24815616\n",
      " -0.23459733 -1.66284304 -0.37496915  0.44777939  0.13642067  0.2193627\n",
      "  0.39672324 -0.46747295  0.30243323  0.32214752 -0.4788554  -1.34630845\n",
      "  1.62999166  1.49301394  0.48920572  0.92139595  0.77501961 -0.33595045\n",
      "  0.62854434 -0.45479671 -0.83967223 -1.27944754 -1.56954246  0.29843947\n",
      " -0.32908606 -0.37025293 -0.1812842  -0.98305263  0.81018113  0.81070086\n",
      " -0.67826414  0.4151536   1.11375728  1.04833041 -0.25783437  0.16925315\n",
      " -1.01288183  1.339195   -1.28550389 -0.85869677  0.80927404  0.77711758\n",
      " -0.68427092 -1.14636989 -1.22177837 -1.14959584  1.1673503   1.09845988\n",
      "  0.11761349 -1.9702781   1.88635165 -0.58815344  0.82283562 -1.05238553\n",
      " -0.02279499 -0.24871777 -1.22236552 -2.00532314 -0.99136046 -0.80006347\n",
      " -0.69296291  0.13873968 -0.06992335 -0.65666944 -1.17162618  0.15330936\n",
      " -0.38345199 -0.29523143  0.31693213  0.49602792  2.42326428  1.84617561\n",
      " -1.44366685 -0.33680881  1.84650199  1.31696157 -0.84277765 -0.24508539\n",
      "  0.75303548  2.14108028 -1.21271481 -0.22243954 -0.18225967  1.83694043\n",
      " -0.60357114  0.34360009  0.60536788  0.02533498 -0.61530637  1.02785951\n",
      " -2.04915    -0.19280528  0.79441787 -0.30720792 -0.44038821 -0.37893704\n",
      "  0.26547463  0.42926261 -0.79949137  2.06758234  0.75271072  0.61695215\n",
      "  0.95283868  0.02004636  0.24614728  2.43153153 -0.01613741  1.36610805\n",
      "  0.15876086  1.11419715  0.76967461 -0.62562963 -1.32245233 -0.14166035\n",
      "  0.12043805  0.26606471  0.51448856 -0.19606668 -0.72852618 -1.4226832\n",
      " -0.18592274 -0.49476158  0.49635274  0.21762752  0.8633648  -0.84647812\n",
      " -0.70639217 -0.04508142 -0.39840907 -0.40827223  0.63953253  0.56352467\n",
      "  0.83943627  0.48051501  0.68750242  0.31206078  0.70596447  2.03971525\n",
      " -1.05196149  0.79278118  0.31884148  0.32652568  1.90159827  0.92829645\n",
      " -2.35249165 -0.81764296  0.37122566 -0.75800677  1.0052663   0.88474465\n",
      "  0.01131799 -0.3590365  -0.67955062  0.41032442 -0.24400426  0.64751972\n",
      "  0.38534172  0.96103097 -0.58811669 -1.08919869  1.28415854  1.0171389\n",
      " -0.34482981 -0.17884037  0.22737422  0.47965108 -0.89245246  1.53778409\n",
      "  0.06729762  1.30735036  0.0876461  -0.63781283 -0.21030162  0.931829\n",
      " -0.13870069  1.3997634   1.60793322  0.20172592  0.74889047  0.67141133\n",
      " -0.57053704 -0.09469657  0.14771316 -0.79107906  1.06727525 -0.76248997\n",
      " -0.42179089 -0.81982169  0.55346939 -0.30124035 -1.16592914  0.28516068\n",
      " -1.82853696  0.05937494 -0.08118991  2.53126411  0.9469967   0.48210356\n",
      " -3.07067165  0.56381962 -0.97590684  1.37892184  1.75268727  1.11723608\n",
      "  0.16831819  0.04502228  1.4851829  -0.66308892 -0.4982972  -0.06454047\n",
      "  1.01710687  0.72715968 -1.86767537 -0.39056071 -0.19784656  2.34514095\n",
      "  1.02871766 -0.60810456  1.24444206  0.6622497  -0.23763132  0.02137199\n",
      "  0.82261777  0.38105577 -0.51741191  0.22751689  0.22864662 -0.19801071\n",
      "  0.42709167 -0.7313625  -0.20385932  1.66260289 -1.89270569 -0.86818376\n",
      " -0.45118664  1.26541191  1.63126465 -0.08711551  0.1672888  -0.45419951\n",
      " -1.32084195 -0.06761589  0.42865729 -1.3828489   0.28518899 -1.41957008\n",
      "  0.54009916  0.55568041  0.22507231 -0.60419906 -0.9819667   0.5030017\n",
      " -0.61336148  0.72503865  1.69294251  1.26846287 -0.2106294   1.34139905\n",
      "  1.01133089  0.17572415  0.78813973  1.46900926 -1.12949205 -0.49002542\n",
      " -0.02644731 -0.09429598 -0.28078315 -0.3054021   0.73336354  0.14164164\n",
      " -0.98504622 -1.12750579  0.61707429  0.08257526 -0.47008029 -0.9918568\n",
      "  1.72144376  1.01823494  1.66748384  0.19937685  0.57856828 -1.06694136\n",
      " -1.13826146 -0.27938264  0.18236223  0.9275107  -1.27698694  0.20937557\n",
      " -0.09637475  1.12381147  0.14922326  1.28651565 -0.92288219 -1.30569148\n",
      " -0.44885221 -0.27901406 -0.15911419 -0.53870614 -0.59069406  0.96934598\n",
      " -0.91798335  0.78663418  0.90218108  1.41239042 -0.36883474 -1.85912021\n",
      " -0.63225336  0.31836155 -0.56009752  0.81739634 -0.66772224  0.84770237\n",
      "  0.72587559 -1.2490403   0.13743016 -0.07783743  0.78594832  0.19548513\n",
      "  0.78654142 -0.83066109  0.64624531  0.15142765 -0.49874783 -0.83297309\n",
      " -0.96971344 -0.34567308 -0.77208587 -1.51908102  0.88506073 -0.35244614\n",
      "  1.62979927 -0.77326738  1.37280476 -0.84959132  1.02025766 -0.28534027\n",
      "  0.58909914 -0.60327501  1.01833005  0.57405055  1.8942019   1.74440311\n",
      "  1.20575421  1.23556483  2.11233621  0.65294992  2.54251729  0.44220042\n",
      "  1.66382934  0.38383854  1.5516694  -1.10165834 -0.58990791  0.97878889\n",
      "  0.09492206  0.14199639  0.57127736  0.09762934  0.6029407   0.49662847\n",
      " -0.78854786 -0.06167695 -0.84074522  1.16629893 -2.02794497  1.34889562\n",
      "  0.44078144  0.48538503 -0.81057372  0.71496109 -1.64581303  0.96974245\n",
      "  0.15783615 -1.69730692 -0.63072145 -0.62990802  0.10977537  0.61562771\n",
      " -1.72532979 -0.18021047  0.49615143 -0.16495729 -1.26906005  0.69509272\n",
      " -1.08148906  0.15593009  0.96680183 -1.33635898 -0.64480506  1.29221052\n",
      "  0.83522938  0.54638206 -0.40055664  1.61995967  0.42742613  0.39276443\n",
      " -0.08744735  0.5720106  -0.52845119 -0.8522548   0.96733737 -1.69613629\n",
      " -0.70384163 -0.13986314 -0.53918873  0.47427219  1.6372598  -0.18861079\n",
      " -0.25429177 -2.43294437 -0.28315671 -0.2828667   0.50569023 -1.74135006\n",
      "  0.84865895  0.61163085 -0.60822393 -0.80324555 -0.51802657  1.42731955\n",
      " -0.91794209  0.75350334  0.13419054  0.11225702  1.44069271 -0.34471071\n",
      " -0.54383559  0.91795523  0.15018647  1.00259397 -0.27294698 -0.10763117\n",
      " -0.60827106 -0.18284811 -1.64562265 -0.50858664  0.29455628 -1.44282039\n",
      "  0.00832302  0.64532975 -1.14674001  0.22046748  0.38564976 -1.88891466\n",
      " -0.17077875 -0.64296801  0.2271077  -0.67670432 -0.16051593 -0.18116211\n",
      " -0.68726282  0.13908692 -0.56886264 -0.80723109 -1.86967099 -0.22359465\n",
      " -0.49370442 -0.41134453  0.52829226 -0.45062219 -0.07649689 -1.23027928\n",
      "  0.35207798  0.39210343 -2.24480404 -0.37261882  0.91178991 -0.41166397\n",
      " -0.36423759 -1.30381587  1.558609    0.30232278 -0.6492232   0.52327079\n",
      " -0.02867187 -0.42158031 -0.49891865  1.52237812  0.04612921  0.71505382\n",
      "  0.48650185  1.61785609  0.29714115  0.66455868 -0.82206053 -0.21411976\n",
      "  0.64197428 -0.40192641 -2.50394704 -0.10726354 -0.14453242  1.94615464\n",
      " -0.33104614  0.25630548  0.81086469 -0.06866275  0.96904186 -2.25540764\n",
      "  0.144943    0.67014883 -0.59736216  1.86346982 -0.66501498 -0.04503884\n",
      "  0.45384433  0.49518897  0.24550567  1.71312638 -1.33450018  1.25033707\n",
      " -0.99054096  0.40859859 -1.48634508  1.40056023  0.13399041 -0.60069272\n",
      " -0.15594813 -1.13455508 -1.75412215  0.26829623  0.7947131   2.04267214\n",
      "  0.74005041 -0.38966504  0.72938793 -0.31527941  0.11392108  0.66205974\n",
      " -0.47637784  0.38079957 -1.95414049 -0.60379731 -0.80970654  0.12787085\n",
      " -0.70214908  0.9974686   1.78386985  0.3109696  -1.25699854  0.52483099\n",
      "  1.07649312  1.07908432  1.71444207 -0.6592336   0.99408694 -0.10672539\n",
      "  0.4692926   1.76608632  0.73008112  1.65950623  0.62096507 -0.91721428\n",
      " -0.35247266  0.47782823 -0.74906823  1.33675588 -0.23912101 -0.90981981\n",
      "  0.20606311  0.24012726 -1.19020761  1.65762498  0.22383186 -0.31230952\n",
      "  0.98634579 -2.35203501  1.73686618  0.47994801 -1.6587364  -0.27023028\n",
      " -0.44219229  0.96599869  0.92804418 -0.50247288 -0.14630817  0.9394765\n",
      " -1.15840283 -1.03322732 -0.7090887  -0.95632691  0.70718301  1.52106308\n",
      "  0.60923644 -0.05555999  1.39976391  0.20381919 -1.53173894 -0.62327802\n",
      "  0.4808385  -1.01412506  1.02971323 -0.92869058  0.82356444  0.16263279\n",
      "  0.2562084  -0.87971998  0.99069124  0.54298744 -1.63106827  0.35467273\n",
      "  0.41055742  0.63594664  0.87932182  0.28541976  0.19789634  0.66406367\n",
      "  1.10397087 -0.52716974 -1.25239061  0.97917404  0.62654483  0.71243586\n",
      " -0.04569806  0.05259249 -0.27574228 -0.10358704 -0.13853952 -0.69950281\n",
      "  1.00690441  1.11883916  0.76325475 -0.58188416  0.10139922 -0.49172229\n",
      " -0.12416079 -0.06881969 -0.00605801 -0.08127783 -0.52854349  1.2744776\n",
      "  1.49419026 -0.42077444  0.21077861 -0.50932722 -0.5560528   0.35842449\n",
      "  0.61987955 -2.0520255  -1.24800952  0.81838645  0.21532455 -1.41684569\n",
      " -0.39675234 -0.08084292 -1.2504783   0.62084558 -1.09671605 -0.09574967\n",
      "  0.18955227  0.31627803 -0.14647906  0.45844387  0.70267914 -0.26357187\n",
      " -0.4362116   0.23875631  0.4963783   1.40058916 -0.24980443 -0.03580964\n",
      " -0.43846102 -0.24842292 -0.28353416 -0.7379342   0.507118   -1.4421756\n",
      "  0.51889193 -0.10592891 -0.1154867   0.66317463  0.80731489 -0.640445\n",
      "  0.08192391 -1.18371895  0.81629211 -1.32536117  0.6901397  -0.36264415\n",
      "  0.20709086  0.38174539 -0.06174253  1.13095984  1.09800863 -0.13801817\n",
      " -0.12987618 -0.83072799 -0.92826819 -0.23796313  0.49146077 -0.63659365\n",
      "  0.61542352 -0.17163817 -0.09091559  0.6603094   0.76576374 -0.07745375\n",
      " -0.59968204 -1.01451104  0.68572124 -0.17257876 -0.01750361  0.53426828\n",
      "  1.60759684  0.65922873 -1.10665568 -0.77431829 -1.43658236 -1.36700977\n",
      "  0.47551268  0.01965991 -0.21775385  0.36430198 -1.27434484  0.41286465\n",
      "  1.32347944  0.73707948 -0.73637962  0.96047112  0.52755047  0.75775912\n",
      " -0.60641193 -0.68781775  0.09229776  1.24224775  0.18492004  0.93734877\n",
      "  0.12166496 -0.51549144 -0.54143248 -0.39592977  0.647415    0.22056004\n",
      " -1.82810847 -1.36809694  0.14539976 -1.14458431  0.03379929 -0.30265635\n",
      " -0.59331063  1.11222995  1.28762001 -1.49790431  1.42427324 -1.14380481\n",
      "  0.20368483 -1.13514899  0.6531175   0.40696828  0.87913424 -1.02617362\n",
      " -0.90614088  1.77693873  0.88147767 -0.79766959 -0.39067733 -0.21943379\n",
      " -0.76069917 -0.60820808  1.04690395  0.05062074 -2.32850427  1.59331489\n",
      "  0.15275226  0.35970338 -1.41496571 -0.51578462  1.7365033   0.22303705\n",
      " -0.88468885  1.13753285  0.39899845  0.06001293 -1.08269427 -1.95715456\n",
      "  0.32509789  0.61697045 -0.76479426 -0.20370124 -0.12129048  0.03889503\n",
      " -1.53841323  2.07807534 -0.6679914  -0.08098493  1.89396439 -0.52438757\n",
      "  0.04734836 -1.16373632  1.24703589  0.41003409 -1.17659765  1.25988672\n",
      "  0.70643915 -0.46766794 -2.10316744  0.62672754  1.81306957  0.81321035\n",
      " -0.5615986   0.04475379 -1.46407664 -1.79268226  0.8418377   0.71633263\n",
      " -0.32396956 -1.03770217 -0.62520249  1.34149252]\n"
     ]
    }
   ],
   "source": [
    "import numpy as np\n",
    "\n",
    "muestra = np.random.normal(0, 1, 1000)\n",
    "print(muestra)"
   ]
  },
  {
   "attachments": {},
   "cell_type": "markdown",
   "metadata": {},
   "source": [
    "Esto generará una lista de `1000` números aleatorios que siguen una distribución normal con media `0` y desviación estándar `1`.\n",
    "\n",
    "A continuación, podemos calcular la media y la desviación estándar de esta muestra utilizando las funciones `numpy.mean()` y `numpy.std()`, respectivamente:"
   ]
  },
  {
   "cell_type": "code",
   "execution_count": 8,
   "metadata": {},
   "outputs": [
    {
     "name": "stdout",
     "output_type": "stream",
     "text": [
      "0.9322928682804769\n"
     ]
    }
   ],
   "source": [
    "media = np.mean(muestra)\n",
    "desviacion_estandar = np.std(muestra)\n",
    "print(desviacion_estandar)"
   ]
  },
  {
   "attachments": {},
   "cell_type": "markdown",
   "metadata": {},
   "source": [
    "También podemos utilizar el `TLC` para calcular intervalos de confianza y realizar pruebas de hipótesis. Por ejemplo, para calcular un intervalo de confianza del `95%` para la media de una población con media desconocida y desviación estándar conocida, podemos utilizar la distribución normal estándar y la fórmula:"
   ]
  },
  {
   "attachments": {},
   "cell_type": "markdown",
   "metadata": {},
   "source": [
    "$intervalo de confianza = media muestral +/- (valor crítico)*(desviación estándar/sqrt(n))$"
   ]
  },
  {
   "attachments": {},
   "cell_type": "markdown",
   "metadata": {},
   "source": [
    "Donde el valor crítico es el valor de la distribución normal estándar que corresponde al nivel de confianza deseado. En este caso, el valor crítico es `1.96` para un nivel de confianza del `95%`. Entonces, para calcular el intervalo de confianza, podemos escribir lo siguiente:"
   ]
  },
  {
   "cell_type": "code",
   "execution_count": 9,
   "metadata": {},
   "outputs": [
    {
     "name": "stdout",
     "output_type": "stream",
     "text": [
      "Intervalo de confianza del 95% para la media de la población: -0.02399654143529474 - 0.09156955624734736\n"
     ]
    }
   ],
   "source": [
    "from scipy.stats import norm\n",
    "\n",
    "n = 1000\n",
    "nivel_confianza = 0.95\n",
    "valor_critico = norm.ppf((1 + nivel_confianza) / 2)\n",
    "\n",
    "intervalo_superior = media + (valor_critico * (desviacion_estandar / np.sqrt(n)))\n",
    "intervalo_inferior = media - (valor_critico * (desviacion_estandar / np.sqrt(n)))\n",
    "\n",
    "print(\"Intervalo de confianza del 95% para la media de la población:\", intervalo_inferior, \"-\", intervalo_superior)"
   ]
  },
  {
   "attachments": {},
   "cell_type": "markdown",
   "metadata": {},
   "source": [
    "## **Calculo de estadísticos muestrales**"
   ]
  },
  {
   "attachments": {},
   "cell_type": "markdown",
   "metadata": {},
   "source": [
    "El cálculo de estadísticos muestrales es una parte importante del análisis estadístico que nos permite resumir y entender las propiedades de una muestra de datos. Los estadísticos muestrales son valores numéricos calculados a partir de una muestra de datos que se utilizan para hacer inferencias sobre la población subyacente de la cual se extrajo la muestra.\n",
    "\n",
    "En Python, podemos utilizar la librería `NumPy` para calcular estadísticos muestrales como la media, la mediana, la moda, la varianza y la desviación estándar. A continuación se muestran algunos ejemplos de cómo calcular estos estadísticos muestrales en Python.\n",
    "\n",
    "* **Media:**\n",
    "\n",
    "La media muestral es simplemente la suma de los valores en la muestra dividida por el tamaño de la muestra. Podemos calcular la media en Python utilizando la función `numpy.mean()`. Por ejemplo, para calcular la media de una muestra de `100` valores aleatorios de una distribución normal con media `0` y desviación estándar `1`, podemos escribir lo siguiente:"
   ]
  },
  {
   "cell_type": "code",
   "execution_count": 10,
   "metadata": {},
   "outputs": [
    {
     "name": "stdout",
     "output_type": "stream",
     "text": [
      "La media de la muestra es: 0.17810315935506946\n"
     ]
    }
   ],
   "source": [
    "import numpy as np\n",
    "\n",
    "muestra = np.random.normal(0, 1, 100)\n",
    "media = np.mean(muestra)\n",
    "print(\"La media de la muestra es:\", media)"
   ]
  },
  {
   "attachments": {},
   "cell_type": "markdown",
   "metadata": {},
   "source": [
    "* **Mediana:**\n",
    "\n",
    "La mediana es el valor medio en una muestra ordenada. Podemos calcular la mediana en Python utilizando la función `numpy.median()`. Por ejemplo, para calcular la mediana de una muestra de `100` valores aleatorios de una distribución normal con media `0` y desviación estándar `1`, podemos escribir lo siguiente:"
   ]
  },
  {
   "cell_type": "code",
   "execution_count": 11,
   "metadata": {},
   "outputs": [
    {
     "name": "stdout",
     "output_type": "stream",
     "text": [
      "La mediana de la muestra es: -0.12391524821406771\n"
     ]
    }
   ],
   "source": [
    "import numpy as np\n",
    "\n",
    "muestra = np.random.normal(0, 1, 100)\n",
    "mediana = np.median(muestra)\n",
    "print(\"La mediana de la muestra es:\", mediana)"
   ]
  },
  {
   "attachments": {},
   "cell_type": "markdown",
   "metadata": {},
   "source": [
    "* **Moda:**\n",
    "\n",
    "La moda es el valor más común en una muestra. Podemos calcular la moda en Python utilizando la función `scipy.stats.mode()`. Por ejemplo, para calcular la moda de una muestra de `100` valores aleatorios de una distribución normal con media `0` y desviación estándar `1`, podemos escribir lo siguiente:"
   ]
  },
  {
   "cell_type": "code",
   "execution_count": 12,
   "metadata": {},
   "outputs": [
    {
     "name": "stdout",
     "output_type": "stream",
     "text": [
      "La moda de la muestra es: [-2.9288559]\n"
     ]
    }
   ],
   "source": [
    "import numpy as np\n",
    "from scipy.stats import mode\n",
    "\n",
    "muestra = np.random.normal(0, 1, 100)\n",
    "moda = mode(muestra)\n",
    "print(\"La moda de la muestra es:\", moda.mode)"
   ]
  },
  {
   "attachments": {},
   "cell_type": "markdown",
   "metadata": {},
   "source": [
    "* **Varianza y desviación estándar:**\n",
    "\n",
    "La varianza es una medida de la dispersión de los valores en una muestra, mientras que la desviación estándar es simplemente la raíz cuadrada de la varianza. Podemos calcular la varianza y la desviación estándar en Python utilizando las funciones `numpy.var()` y `numpy.std()`, respectivamente. Por ejemplo, para calcular la varianza y la desviación estándar de una muestra de `100` valores aleatorios de una distribución normal con media `0` y desviación estándar `1`, podemos escribir lo siguiente:"
   ]
  },
  {
   "cell_type": "code",
   "execution_count": 13,
   "metadata": {},
   "outputs": [
    {
     "name": "stdout",
     "output_type": "stream",
     "text": [
      "La varianza de la muestra es: 0.9503731954650145\n",
      "La desviación estándar de la muestra es: 0.9748708609169804\n"
     ]
    }
   ],
   "source": [
    "import numpy as np\n",
    "\n",
    "muestra = np.random.normal(0, 1, 100)\n",
    "varianza = np.var(muestra)\n",
    "desviacion_estandar = np.std(muestra)\n",
    "print(\"La varianza de la muestra es:\", varianza)\n",
    "print(\"La desviación estándar de la muestra es:\", desviacion_estandar)"
   ]
  },
  {
   "attachments": {},
   "cell_type": "markdown",
   "metadata": {},
   "source": [
    "## **Prueba de Hipótesis**"
   ]
  },
  {
   "attachments": {},
   "cell_type": "markdown",
   "metadata": {},
   "source": [
    "La prueba de hipótesis es una técnica estadística que se utiliza para determinar si una afirmación sobre una población es verdadera o no, basándose en la evidencia proporcionada por una muestra de datos. El proceso consiste en plantear dos hipótesis: una hipótesis nula `(H0)` y una hipótesis alternativa `(H1)`. La hipótesis nula es una afirmación que se supone que es verdadera hasta que se demuestre lo contrario, mientras que la hipótesis alternativa es una afirmación que se desea demostrar. Luego, se recolecta una muestra de datos y se utiliza esta muestra para evaluar la probabilidad de que la hipótesis nula sea verdadera.\n",
    "\n",
    "En Python, podemos utilizar la librería `scipy.stats` para realizar pruebas de hipótesis. A continuación, se muestra un ejemplo de cómo realizar una prueba de hipótesis para la media de una población.\n",
    "\n",
    "Supongamos que se tiene una muestra de `50` observaciones de una población normal con una media desconocida. Queremos probar si la media de la población es igual a `5`. Para hacerlo, planteamos las siguientes hipótesis:\n",
    "\n",
    "* `H0:` la media de la población es igual a 5.\n",
    "\n",
    "* `H1:` la media de la población es diferente de 5.\n",
    "\n",
    "Podemos utilizar una prueba `t` de una muestra para evaluar estas hipótesis. Para hacerlo, podemos utilizar la función `scipy.stats.ttest_1samp()` de la siguiente manera:"
   ]
  },
  {
   "cell_type": "code",
   "execution_count": 14,
   "metadata": {},
   "outputs": [
    {
     "name": "stdout",
     "output_type": "stream",
     "text": [
      "Estadístico de prueba: -1.119695424054004\n",
      "Valor p: 0.26830213250661944\n"
     ]
    }
   ],
   "source": [
    "import numpy as np\n",
    "from scipy.stats import ttest_1samp\n",
    "\n",
    "# Definimos nuestra muestra\n",
    "muestra = np.random.normal(4.8, 1, 50)\n",
    "\n",
    "# Realizamos la prueba de hipótesis\n",
    "resultado_prueba = ttest_1samp(muestra, 5)\n",
    "\n",
    "# Imprimimos el resultado de la prueba\n",
    "print(\"Estadístico de prueba:\", resultado_prueba.statistic)\n",
    "print(\"Valor p:\", resultado_prueba.pvalue)"
   ]
  },
  {
   "attachments": {},
   "cell_type": "markdown",
   "metadata": {},
   "source": [
    "En este ejemplo, la función `ttest_1samp()` toma dos argumentos: la muestra de datos y el valor de la hipótesis nula (en este caso, 5). La función devuelve dos valores: el estadístico de prueba y el valor `p`. El estadístico de prueba se utiliza para calcular el valor `p`, que es la probabilidad de obtener una muestra como la que se observó si la hipótesis nula fuera verdadera. Si el valor `p` es menor que un nivel de significancia predefinido (por ejemplo, `0.05`), entonces se rechaza la hipótesis nula y se acepta la hipótesis alternativa.\n",
    "\n",
    "En este ejemplo, el valor `p` es mayor que `0.05`, lo que significa que no hay suficiente evidencia para rechazar la hipótesis nula de que la media de la población es igual a `5`. Por lo tanto, podemos concluir que no hay suficiente evidencia para afirmar que la media de la población es diferente de `5`."
   ]
  },
  {
   "attachments": {},
   "cell_type": "markdown",
   "metadata": {},
   "source": [
    "## **Hipótesis nula**"
   ]
  },
  {
   "attachments": {},
   "cell_type": "markdown",
   "metadata": {},
   "source": [
    "En estadística, la hipótesis nula `(H0)` es una afirmación que se supone que es verdadera hasta que se demuestre lo contrario. Es la hipótesis que se contrasta con la hipótesis alternativa `(H1)` en una prueba de hipótesis. En general, se utiliza la hipótesis nula para establecer un punto de partida, y la hipótesis alternativa para afirmar lo que se desea demostrar.\n",
    "\n",
    "Por ejemplo, supongamos que se desea evaluar si un nuevo tratamiento para reducir la presión arterial es efectivo. La hipótesis nula en este caso podría ser que el nuevo tratamiento no tiene ningún efecto en la reducción de la presión arterial, mientras que la hipótesis alternativa podría ser que el nuevo tratamiento es efectivo para reducir la presión arterial.\n",
    "\n",
    "En Python, podemos utilizar la librería `scipy.stats` para realizar pruebas de hipótesis y evaluar la hipótesis nula. A continuación, se muestra un ejemplo de cómo evaluar la hipótesis nula para una prueba de hipótesis de dos muestras.\n",
    "\n",
    "Supongamos que se tienen dos muestras de datos de dos poblaciones diferentes, y se desea evaluar si las medias de estas dos poblaciones son iguales. La hipótesis nula en este caso es que las medias de las dos poblaciones son iguales, mientras que la hipótesis alternativa es que las medias son diferentes. Podemos utilizar la prueba `t` de dos muestras para evaluar estas hipótesis. Para hacerlo, podemos utilizar la función `scipy.stats.ttest_ind()` de la siguiente manera:"
   ]
  },
  {
   "cell_type": "code",
   "execution_count": 15,
   "metadata": {},
   "outputs": [
    {
     "name": "stdout",
     "output_type": "stream",
     "text": [
      "Estadístico de prueba: 2.3676200978734525\n",
      "Valor p: 0.019866877383392916\n"
     ]
    }
   ],
   "source": [
    "import numpy as np\n",
    "from scipy.stats import ttest_ind\n",
    "\n",
    "# Definimos nuestras dos muestras\n",
    "muestra1 = np.random.normal(5, 1, 50)\n",
    "muestra2 = np.random.normal(4.5, 1, 50)\n",
    "\n",
    "# Realizamos la prueba de hipótesis\n",
    "resultado_prueba = ttest_ind(muestra1, muestra2)\n",
    "\n",
    "# Imprimimos el resultado de la prueba\n",
    "print(\"Estadístico de prueba:\", resultado_prueba.statistic)\n",
    "print(\"Valor p:\", resultado_prueba.pvalue)"
   ]
  },
  {
   "attachments": {},
   "cell_type": "markdown",
   "metadata": {},
   "source": [
    "En este ejemplo, la función `ttest_ind()` toma dos argumentos: las dos muestras de datos que se desean comparar. La función devuelve dos valores: el estadístico de prueba y el valor `p`. Si el valor `p` es menor que un nivel de significancia predefinido (por ejemplo, 0.05), entonces se rechaza la hipótesis nula y se acepta la hipótesis alternativa.\n",
    "\n",
    "En este ejemplo, si el valor `p` es mayor que `0.05`, entonces no hay suficiente evidencia para rechazar la hipótesis nula de que las medias de las dos poblaciones son iguales. Por lo tanto, podemos concluir que no hay suficiente evidencia para afirmar que las medias son diferentes. La hipótesis nula es la afirmación que se mantiene en este caso."
   ]
  },
  {
   "attachments": {},
   "cell_type": "markdown",
   "metadata": {},
   "source": [
    "## **Prueba de hipótesis**"
   ]
  },
  {
   "attachments": {},
   "cell_type": "markdown",
   "metadata": {},
   "source": [
    "En estadística, la prueba de hipótesis es un proceso mediante el cual se evalúa la evidencia a favor o en contra de una afirmación (hipótesis) sobre un parámetro poblacional utilizando los datos de una muestra. El objetivo de una prueba de hipótesis es determinar si los datos proporcionan suficiente evidencia para rechazar la hipótesis nula `(H0)` en favor de una hipótesis alternativa `(H1)`.\n",
    "\n",
    "En Python, podemos utilizar la librería `scipy.stats` para realizar pruebas de hipótesis. A continuación, se muestra un ejemplo de cómo realizar una prueba de hipótesis de una muestra utilizando la prueba `t`.\n",
    "\n",
    "Supongamos que se tiene una muestra de datos de una población y se desea evaluar si la media de esta población es igual a un valor específico. La hipótesis nula en este caso es que la media de la población es igual al valor específico, mientras que la hipótesis alternativa es que la media es diferente. Podemos utilizar la prueba `t` para evaluar estas hipótesis. Para hacerlo, podemos utilizar la función `scipy.stats.ttest_1samp()` de la siguiente manera:"
   ]
  },
  {
   "cell_type": "code",
   "execution_count": 16,
   "metadata": {},
   "outputs": [
    {
     "name": "stdout",
     "output_type": "stream",
     "text": [
      "Estadístico de prueba: 6.945813914266085\n",
      "Valor p: 4.0080313563549304e-10\n"
     ]
    }
   ],
   "source": [
    "import numpy as np\n",
    "from scipy.stats import ttest_1samp\n",
    "\n",
    "# Definimos nuestra muestra de datos\n",
    "muestra = np.random.normal(10, 2, 100)\n",
    "\n",
    "# Realizamos la prueba de hipótesis\n",
    "resultado_prueba = ttest_1samp(muestra, 9)\n",
    "\n",
    "# Imprimimos el resultado de la prueba\n",
    "print(\"Estadístico de prueba:\", resultado_prueba.statistic)\n",
    "print(\"Valor p:\", resultado_prueba.pvalue)"
   ]
  },
  {
   "attachments": {},
   "cell_type": "markdown",
   "metadata": {},
   "source": [
    "En este ejemplo, la función `ttest_1samp()` toma dos argumentos: la muestra de datos y el valor de la hipótesis nula. La función devuelve dos valores: el estadístico de prueba y el valor `p`. Si el valor `p` es menor que un nivel de significancia predefinido (por ejemplo, 0.05), entonces se rechaza la hipótesis nula y se acepta la hipótesis alternativa.\n",
    "\n",
    "En este ejemplo, si el valor `p` es menor que `0.05`, entonces hay suficiente evidencia para rechazar la hipótesis nula de que la media de la población es igual a `9`. Por lo tanto, podemos concluir que la media de la población es diferente de `9`. La hipótesis alternativa es la afirmación que se acepta en este caso.\n",
    "\n",
    "Es importante tener en cuenta que el nivel de significancia es un umbral predefinido que se utiliza para determinar cuándo se debe rechazar la hipótesis nula. Este umbral generalmente se establece en `0.05`, lo que significa que si el valor `p` es menor que `0.05`, se rechaza la hipótesis nula. Sin embargo, el nivel de significancia también puede ser ajustado para aumentar o disminuir la probabilidad de cometer un error de tipo `I` (rechazar la hipótesis nula cuando es verdadera) o un error de tipo `II` (aceptar la hipótesis nula cuando es falsa)."
   ]
  },
  {
   "attachments": {},
   "cell_type": "markdown",
   "metadata": {},
   "source": [
    "| **Inicio** | **atrás 3** | **Siguiente 5** |\n",
    "|----------- |-------------- |---------------|\n",
    "| [🏠](../../README.md) | [⏪](./3.Algebra_Lineal.ipynb)| [⏩](./5.Resumen.ipynb)|"
   ]
  }
 ],
 "metadata": {
  "kernelspec": {
   "display_name": "base",
   "language": "python",
   "name": "python3"
  },
  "language_info": {
   "codemirror_mode": {
    "name": "ipython",
    "version": 3
   },
   "file_extension": ".py",
   "mimetype": "text/x-python",
   "name": "python",
   "nbconvert_exporter": "python",
   "pygments_lexer": "ipython3",
   "version": "3.9.12"
  },
  "orig_nbformat": 4
 },
 "nbformat": 4,
 "nbformat_minor": 2
}
