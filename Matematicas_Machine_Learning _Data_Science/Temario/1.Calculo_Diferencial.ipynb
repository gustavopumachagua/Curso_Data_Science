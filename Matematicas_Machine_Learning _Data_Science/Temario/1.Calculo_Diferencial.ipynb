{
 "cells": [
  {
   "attachments": {},
   "cell_type": "markdown",
   "metadata": {},
   "source": [
    "| **Inicio** | **Siguiente 2** |\n",
    "|----------- |-------------- |\n",
    "| [🏠](../../README.md) | [⏩](./2.Calculo_de_varias_variables.ipynb)|"
   ]
  },
  {
   "attachments": {},
   "cell_type": "markdown",
   "metadata": {},
   "source": [
    "# **1. Calculo Diferencial**"
   ]
  },
  {
   "attachments": {},
   "cell_type": "markdown",
   "metadata": {},
   "source": [
    "## **Funciones**"
   ]
  },
  {
   "attachments": {},
   "cell_type": "markdown",
   "metadata": {},
   "source": [
    "![Funciones 1][1]  ![Funciones 2][2]\n",
    "\n",
    " [1]: ../imagen%20Matematicas/que-son-las-funciones.webp\n",
    " [2]: ../imagen%20Matematicas/elementos_funcion.jpg \"Funciones\"\n"
   ]
  },
  {
   "attachments": {},
   "cell_type": "markdown",
   "metadata": {},
   "source": [
    "En matemáticas, una función es una regla que asigna a cada elemento de un conjunto llamado `dominio`, un único elemento en otro conjunto llamado `rango`. En otras palabras, una función es una relación entre dos conjuntos en la que a cada elemento del primer conjunto `(dominio)` le corresponde un único elemento del segundo conjunto `(rango)`.\n",
    "\n",
    "Por ejemplo, la función $f(x) = x^2$ es una función que asigna a cada número real $x$ un único número real $x^2$ como resultado. El dominio de esta función es el conjunto de todos los números reales, y el rango es el conjunto de todos los números reales no negativos.\n",
    "\n",
    "En Python, podemos definir funciones matemáticas utilizando la misma sintaxis básica que se utiliza para definir cualquier otra función en Python. Por ejemplo, podemos definir la función anterior de la siguiente manera:"
   ]
  },
  {
   "cell_type": "code",
   "execution_count": 1,
   "metadata": {},
   "outputs": [],
   "source": [
    "def f(x):\n",
    "    return x**2"
   ]
  },
  {
   "attachments": {},
   "cell_type": "markdown",
   "metadata": {},
   "source": [
    "Podemos usar esta función para calcular el valor de $f(x)$ para cualquier valor de $x$. Por ejemplo, si queremos calcular $f(2)$, podemos escribir:"
   ]
  },
  {
   "cell_type": "code",
   "execution_count": 2,
   "metadata": {},
   "outputs": [
    {
     "name": "stdout",
     "output_type": "stream",
     "text": [
      "4\n"
     ]
    }
   ],
   "source": [
    "resultado = f(2)\n",
    "print(resultado)"
   ]
  },
  {
   "attachments": {},
   "cell_type": "markdown",
   "metadata": {},
   "source": [
    "Esto imprimirá el valor `4`, que es el resultado de evaluar la función $f(x)$ en $x=2$.\n",
    "\n",
    "También podemos graficar funciones matemáticas utilizando Python. Para hacer esto, podemos utilizar la librería `matplotlib`, que nos permite crear gráficos y visualizaciones de datos. Por ejemplo, podemos graficar la función $f(x) = x^2$ en el rango de `-5` a `5` de la siguiente manera:"
   ]
  },
  {
   "cell_type": "code",
   "execution_count": 3,
   "metadata": {},
   "outputs": [
    {
     "data": {
      "image/png": "[encoded data removed]",
      "text/plain": [
       "<Figure size 432x288 with 1 Axes>"
      ]
     },
     "metadata": {
      "needs_background": "light"
     },
     "output_type": "display_data"
    }
   ],
   "source": [
    "import matplotlib.pyplot as plt\n",
    "\n",
    "x = range(-5, 6)\n",
    "y = [f(i) for i in x]\n",
    "plt.plot(x, y)\n",
    "plt.xlabel('x')\n",
    "plt.ylabel('f(x)')\n",
    "plt.title('Función cuadrática')\n",
    "plt.show()"
   ]
  },
  {
   "attachments": {},
   "cell_type": "markdown",
   "metadata": {},
   "source": [
    "Este código generará una gráfica que muestra la función cuadrática $f(x) = x^2$ en el rango de `-5` a `5`. La gráfica se verá como sigue:"
   ]
  },
  {
   "attachments": {},
   "cell_type": "markdown",
   "metadata": {},
   "source": [
    "En resumen, las funciones matemáticas son reglas que asignan a cada elemento de un conjunto un único elemento en otro conjunto. En Python, podemos definir funciones matemáticas utilizando la sintaxis básica de funciones en Python, y podemos graficar funciones matemáticas utilizando la librería `matplotlib`."
   ]
  },
  {
   "attachments": {},
   "cell_type": "markdown",
   "metadata": {},
   "source": [
    "![Funciones](../imagen%20Matematicas/tipos%20de%20funciones.webp \"Funciones\")\n"
   ]
  },
  {
   "attachments": {},
   "cell_type": "markdown",
   "metadata": {},
   "source": [
    "### **Cual es la utilidad de las funciones matemáticas en la vida real des los humanos**"
   ]
  },
  {
   "attachments": {},
   "cell_type": "markdown",
   "metadata": {},
   "source": [
    "Las funciones matemáticas tienen muchas aplicaciones en la vida real de los seres humanos, desde el diseño de edificios y puentes, hasta la construcción de modelos financieros y la resolución de problemas de física y ciencias naturales.\n",
    "\n",
    "Algunas de las aplicaciones más comunes de las funciones matemáticas en la vida real son:\n",
    "\n",
    "1. **Modelos financieros:**\n",
    " Las funciones matemáticas son ampliamente utilizadas en finanzas para modelar el crecimiento de una inversión, el cálculo de préstamos y el análisis de riesgo. Las funciones exponenciales y logarítmicas son especialmente útiles en este campo.\n",
    "\n",
    "2. **Ingeniería y arquitectura:**\n",
    " En la construcción de edificios y puentes, las funciones matemáticas son utilizadas para modelar la resistencia de los materiales y la distribución de cargas. Las funciones trigonométricas, por ejemplo, son útiles para calcular las dimensiones de una estructura en relación a los ángulos y la distancia.\n",
    "\n",
    "3. **Ciencias naturales:**\n",
    " Las funciones matemáticas son fundamentales para modelar y entender los fenómenos naturales como el movimiento de los planetas, el crecimiento de las poblaciones, la propagación de ondas, la dispersión de partículas y muchas otras aplicaciones.\n",
    "\n",
    "4. **Tecnología:**\n",
    " Las funciones matemáticas son esenciales en el diseño de dispositivos y sistemas tecnológicos, como circuitos electrónicos, redes de comunicaciones, sistemas de control y muchos otros.\n",
    "\n",
    "En resumen, las funciones matemáticas son una herramienta muy poderosa para entender y modelar el mundo que nos rodea, y tienen aplicaciones en muchas áreas de la vida cotidiana de los seres humanos, desde la tecnología y la ciencia hasta la economía y la ingeniería.\n",
    "\n",
    "\n",
    "\n",
    "\n"
   ]
  },
  {
   "attachments": {},
   "cell_type": "markdown",
   "metadata": {},
   "source": [
    "## **Funciones Compuestas**"
   ]
  },
  {
   "attachments": {},
   "cell_type": "markdown",
   "metadata": {},
   "source": [
    "![Funciones Compuestas](../imagen%20Matematicas/funciones%20compuestas.webp \"Funciones Compuestas\")\n"
   ]
  },
  {
   "attachments": {},
   "cell_type": "markdown",
   "metadata": {},
   "source": [
    "En matemáticas, una función compuesta es una función que se compone de dos o más funciones, donde la salida de una función se utiliza como entrada para otra función. La función compuesta se denota como $(f ∘ g)(x)$, que significa que primero se aplica la función $g(x)$ y luego se aplica la función $f(x)$ al resultado de la función $g(x)$.\n",
    "\n",
    "Por ejemplo, si tenemos dos funciones $f(x) = x^2$ y $g(x) = x + 1$, podemos crear una función compuesta $(f ∘ g)(x)$ de la siguiente manera:"
   ]
  },
  {
   "attachments": {},
   "cell_type": "markdown",
   "metadata": {},
   "source": [
    "$(f ∘ g)(x) = f(g(x)) = f(x + 1) = (x + 1)^2$"
   ]
  },
  {
   "attachments": {},
   "cell_type": "markdown",
   "metadata": {},
   "source": [
    "Esto significa que primero se aplica la función $g(x)$ para sumar `1` a $x$, y luego se aplica la función $f(x)$ para elevar al cuadrado el resultado.\n",
    "\n",
    "En Python, podemos definir funciones compuestas utilizando la sintaxis de funciones regulares y la composición de funciones utilizando la sintaxis de $(f ∘ g)(x)$. Por ejemplo, podemos definir las funciones $f(x)$ y $g(x)$ de la siguiente manera:"
   ]
  },
  {
   "cell_type": "code",
   "execution_count": 4,
   "metadata": {},
   "outputs": [],
   "source": [
    "def f(x):\n",
    "    return x**2\n",
    "\n",
    "def g(x):\n",
    "    return x + 1"
   ]
  },
  {
   "attachments": {},
   "cell_type": "markdown",
   "metadata": {},
   "source": [
    "Luego, podemos definir la función compuesta $(f ∘ g)(x)$ de la siguiente manera:"
   ]
  },
  {
   "cell_type": "code",
   "execution_count": 5,
   "metadata": {},
   "outputs": [],
   "source": [
    "def compuesta(x):\n",
    "    return f(g(x))"
   ]
  },
  {
   "attachments": {},
   "cell_type": "markdown",
   "metadata": {},
   "source": [
    "Podemos usar esta función para calcular el valor de $(f ∘ g)(x)$ para cualquier valor de $x$. Por ejemplo, si queremos calcular $(f ∘ g)(2)$, podemos escribir:"
   ]
  },
  {
   "cell_type": "code",
   "execution_count": 6,
   "metadata": {},
   "outputs": [
    {
     "name": "stdout",
     "output_type": "stream",
     "text": [
      "9\n"
     ]
    }
   ],
   "source": [
    "resultado = compuesta(2)\n",
    "print(resultado)"
   ]
  },
  {
   "attachments": {},
   "cell_type": "markdown",
   "metadata": {},
   "source": [
    "Esto imprimirá el valor `9`, que es el resultado de evaluar la función compuesta $(f ∘ g)(x)$ en $x=2$.\n",
    "\n",
    "También podemos graficar funciones compuestas utilizando Python y la librería `matplotlib`. Por ejemplo, podemos graficar las funciones $f(x)$, $g(x)$ y $(f ∘ g)(x)$ en el rango de `-5` a `5` de la siguiente manera:"
   ]
  },
  {
   "cell_type": "code",
   "execution_count": 7,
   "metadata": {},
   "outputs": [
    {
     "data": {
      "image/png": "[encoded data removed]",
      "text/plain": [
       "<Figure size 432x288 with 1 Axes>"
      ]
     },
     "metadata": {
      "needs_background": "light"
     },
     "output_type": "display_data"
    }
   ],
   "source": [
    "import matplotlib.pyplot as plt\n",
    "\n",
    "x = range(-5, 6)\n",
    "y_f = [f(i) for i in x]\n",
    "y_g = [g(i) for i in x]\n",
    "y_compuesta = [compuesta(i) for i in x]\n",
    "\n",
    "plt.plot(x, y_f, label='f(x)')\n",
    "plt.plot(x, y_g, label='g(x)')\n",
    "plt.plot(x, y_compuesta, label='(f ∘ g)(x)')\n",
    "plt.xlabel('x')\n",
    "plt.ylabel('y')\n",
    "plt.legend()\n",
    "plt.title('Funciones compuestas')\n",
    "plt.show()"
   ]
  },
  {
   "attachments": {},
   "cell_type": "markdown",
   "metadata": {},
   "source": [
    "Este código generará una gráfica que muestra las funciones $f(x)$, $g(x)$ y $(f ∘ g)(x)$ en el rango de `-5` a `5`. La gráfica se verá como sigue:"
   ]
  },
  {
   "attachments": {},
   "cell_type": "markdown",
   "metadata": {},
   "source": [
    "En resumen, una función compuesta es una función que se compone de dos o más funciones, donde la salida de una función se utiliza como entrada para otra función. En Python, podemos definir funciones compuestas utilizando la composición de funciones y la librería `matplotlib` para graficarlas."
   ]
  },
  {
   "attachments": {},
   "cell_type": "markdown",
   "metadata": {},
   "source": [
    "![Funciones Compuestas](../imagen%20Matematicas/composicion-de-funciones.webp \"Funciones Compuestas\")"
   ]
  },
  {
   "attachments": {},
   "cell_type": "markdown",
   "metadata": {},
   "source": [
    "### **Cual es la utilidad de las Funciones Compuestas en las matemáticas en la vida real des los humanos**"
   ]
  },
  {
   "attachments": {},
   "cell_type": "markdown",
   "metadata": {},
   "source": [
    "Las funciones compuestas tienen muchas aplicaciones en la vida real. A continuación, se presentan algunos ejemplos:\n",
    "\n",
    "1. **Ingeniería y ciencia:**\n",
    " En la ingeniería y la ciencia, las funciones compuestas se utilizan para modelar y simular sistemas complejos. Por ejemplo, en la física, las ecuaciones del movimiento se pueden expresar como funciones compuestas de posición, velocidad y aceleración.\n",
    "\n",
    "2. **Finanzas:**\n",
    " En finanzas, las funciones compuestas se utilizan para calcular intereses compuestos y valor presente neto de inversiones y préstamos. Por ejemplo, si un préstamo tiene una tasa de interés compuesto del 5% anual, el valor futuro del préstamo después de 5 años se puede calcular utilizando una función compuesta.\n",
    "\n",
    "3. **Computación:**\n",
    " En programación, las funciones compuestas se utilizan para simplificar el código y hacerlo más modular. Por ejemplo, una función que realiza una operación matemática compleja se puede componer con otra función que realiza una operación de conversión de unidades para crear una función compuesta que realice ambas operaciones.\n",
    "\n",
    "4. **Ciencias sociales:**\n",
    " En ciencias sociales, las funciones compuestas se utilizan para modelar y analizar datos. Por ejemplo, en la economía, las funciones compuestas se utilizan para modelar el comportamiento de los mercados financieros y la economía en general.\n",
    "\n",
    "En resumen, las funciones compuestas tienen muchas aplicaciones prácticas en la vida real, desde la ingeniería y la ciencia hasta las finanzas y las ciencias sociales. Se utilizan para modelar sistemas complejos, simplificar el código, analizar datos y calcular valores futuros o presentes."
   ]
  },
  {
   "attachments": {},
   "cell_type": "markdown",
   "metadata": {},
   "source": [
    "## **Limites**"
   ]
  },
  {
   "attachments": {},
   "cell_type": "markdown",
   "metadata": {},
   "source": [
    "![Limites](../imagen%20Matematicas/limite.png \"Limites\")\n"
   ]
  },
  {
   "attachments": {},
   "cell_type": "markdown",
   "metadata": {},
   "source": [
    "En matemáticas, un límite es un concepto fundamental que se utiliza para describir el comportamiento de una función a medida que la variable independiente se acerca a un valor específico. El límite de una función $f(x)$ cuando $x$ se aproxima a un valor $a$, se denota como:\n",
    "\n",
    "$lim x→a f(x)$\n",
    "\n",
    "El límite de una función se puede evaluar mediante la evaluación directa de la función en el punto en cuestión, pero en algunos casos, la función puede tener un comportamiento inesperado o divergente en ese punto. Es por eso que se utiliza el concepto de límite para describir el comportamiento de la función al acercarse al punto.\n",
    "\n",
    "Un ejemplo simple de límite es la función $f(x) = x² - 1$. Si evaluamos esta función para valores de $x$ cercanos a `1`, podemos observar que la función se aproxima al valor `0`. Esto se puede visualizar en una gráfica de la función, donde podemos ver que la función se acerca a `0` a medida que nos acercamos al valor de $x = 1$:"
   ]
  },
  {
   "cell_type": "code",
   "execution_count": 8,
   "metadata": {},
   "outputs": [
    {
     "data": {
      "image/png": "[encoded data removed]",
      "text/plain": [
       "<Figure size 432x288 with 1 Axes>"
      ]
     },
     "metadata": {
      "needs_background": "light"
     },
     "output_type": "display_data"
    }
   ],
   "source": [
    "import numpy as np\n",
    "import matplotlib.pyplot as plt\n",
    "\n",
    "def f(x):\n",
    "    return x**2 - 1\n",
    "\n",
    "x = np.linspace(-5, 5, 1000)\n",
    "y = f(x)\n",
    "\n",
    "plt.plot(x, y)\n",
    "plt.axvline(x=1, color='red')\n",
    "plt.ylim(-10, 10)\n",
    "plt.xlabel('x')\n",
    "plt.ylabel('f(x)')\n",
    "plt.show()"
   ]
  },
  {
   "attachments": {},
   "cell_type": "markdown",
   "metadata": {},
   "source": [
    "Podemos evaluar el límite de $f(x)$ cuando $x$ se aproxima a `1` utilizando la notación matemática:\n",
    "\n",
    "$lim x→1 (x² - 1) = 0$\n",
    "\n",
    "Esto nos indica que la función se acerca a `0` a medida que $x$ se acerca a `1`.\n",
    "\n",
    "Otro ejemplo es la función $g(x) = sin(x)/x$. Esta función tiene un comportamiento interesante en $x = 0$, ya que la función no está definida en ese punto. Sin embargo, si evaluamos la función para valores cercanos a `0`, podemos observar que la función se acerca a un valor específico, que es igual a `1`:"
   ]
  },
  {
   "cell_type": "code",
   "execution_count": 9,
   "metadata": {},
   "outputs": [
    {
     "data": {
      "image/png": "[encoded data removed]",
      "text/plain": [
       "<Figure size 432x288 with 1 Axes>"
      ]
     },
     "metadata": {
      "needs_background": "light"
     },
     "output_type": "display_data"
    }
   ],
   "source": [
    "def g(x):\n",
    "    return np.sin(x)/x\n",
    "\n",
    "x = np.linspace(-5, 5, 1000)\n",
    "y = g(x)\n",
    "\n",
    "plt.plot(x, y)\n",
    "plt.axvline(x=0, color='red')\n",
    "plt.ylim(-1.1, 1.1)\n",
    "plt.xlabel('x')\n",
    "plt.ylabel('g(x)')\n",
    "plt.show()"
   ]
  },
  {
   "attachments": {},
   "cell_type": "markdown",
   "metadata": {},
   "source": [
    "Podemos evaluar el límite de $g(x)$ cuando $x$ se aproxima a `0` utilizando la notación matemática:\n",
    "\n",
    "$lim x→0 (sin(x)/x) = 1$\n",
    "\n",
    "Esto nos indica que la función se acerca al valor de `1` a medida que `x` se acerca a `0`.\n",
    "\n",
    "En resumen, los límites son un concepto fundamental en matemáticas que nos permiten describir el comportamiento de una función a medida que la variable independiente se acerca a un valor específico. Los límites se pueden evaluar mediante la evaluación directa de la función en el punto en cuestión o mediante el uso de técnicas matemáticas más avanzadas. Los límites tienen muchas aplicaciones en las matemáticas, como en el cálculo, la geometría, la física y la ingeniería, por nombrar algunas. Por ejemplo, en el cálculo, los límites son una herramienta esencial para la derivación e integración de funciones. En geometría, los límites se utilizan para definir conceptos como tangentes y curvaturas en superficies y curvas. En la física, los límites se utilizan para describir el comportamiento de las variables físicas en situaciones límite, como velocidades cercanas a la velocidad de la luz. En la ingeniería, los límites se utilizan para calcular la resistencia de los materiales, la estabilidad estructural y otros aspectos importantes del diseño y la construcción de estructuras.\n",
    "\n",
    "En Python, se pueden utilizar diferentes bibliotecas y paquetes matemáticos para calcular límites. Por ejemplo, utilizando la biblioteca `Sympy`, podemos calcular el límite de la función $f(x) = x² - 1$ cuando $x$ se aproxima a `1` de la siguiente manera:"
   ]
  },
  {
   "cell_type": "code",
   "execution_count": 10,
   "metadata": {},
   "outputs": [
    {
     "data": {
      "text/latex": [
       "$\\displaystyle 0$"
      ],
      "text/plain": [
       "0"
      ]
     },
     "execution_count": 10,
     "metadata": {},
     "output_type": "execute_result"
    }
   ],
   "source": [
    "from sympy import *\n",
    "x = Symbol('x')\n",
    "f = x**2 - 1\n",
    "limit(f, x, 1)"
   ]
  },
  {
   "attachments": {},
   "cell_type": "markdown",
   "metadata": {},
   "source": [
    "Esto devuelve el valor `0`, que es el límite de la función $f(x)$ cuando $x$ se aproxima a `1`. De manera similar, podemos calcular el límite de la función $g(x) = sin(x)/x$ cuando $x$ se aproxima a `0` de la siguiente manera:"
   ]
  },
  {
   "cell_type": "code",
   "execution_count": 11,
   "metadata": {},
   "outputs": [
    {
     "data": {
      "text/latex": [
       "$\\displaystyle 1$"
      ],
      "text/plain": [
       "1"
      ]
     },
     "execution_count": 11,
     "metadata": {},
     "output_type": "execute_result"
    }
   ],
   "source": [
    "g = sin(x)/x\n",
    "limit(g, x, 0)"
   ]
  },
  {
   "attachments": {},
   "cell_type": "markdown",
   "metadata": {},
   "source": [
    "Esto devuelve el valor `1`, que es el límite de la función $g(x)$ cuando $x$ se aproxima a `0`."
   ]
  },
  {
   "attachments": {},
   "cell_type": "markdown",
   "metadata": {},
   "source": [
    "![Limites](../imagen%20Matematicas/ejerecicios%20limites.jpg \"Limites\")\n"
   ]
  },
  {
   "attachments": {},
   "cell_type": "markdown",
   "metadata": {},
   "source": [
    "### **Cual es la utilidad de los limites en las matemáticas en la vida real des los humanos**"
   ]
  },
  {
   "attachments": {},
   "cell_type": "markdown",
   "metadata": {},
   "source": [
    "Los límites tienen muchas aplicaciones prácticas en la vida real, especialmente en campos como la física, la ingeniería y la economía. A continuación se presentan algunas de las aplicaciones más comunes de los límites en la vida cotidiana:\n",
    "\n",
    "1. **Velocidad y aceleración:**\n",
    " Los límites se utilizan para calcular la velocidad y la aceleración de objetos en movimiento. Por ejemplo, en la física, se puede utilizar el límite para calcular la velocidad de un objeto que se mueve con una velocidad variable.\n",
    "\n",
    "2. **Crecimiento y cambio:**\n",
    " Los límites se utilizan para describir el crecimiento y el cambio de una variedad de fenómenos en la vida real. Por ejemplo, se puede utilizar el límite para calcular la tasa de crecimiento de una población o para describir el cambio en la temperatura de un objeto a lo largo del tiempo.\n",
    "\n",
    "3. **Diseño de estructuras:**\n",
    " Los límites se utilizan en la ingeniería para diseñar estructuras que sean seguras y estables. Por ejemplo, se puede utilizar el límite para calcular la resistencia de un material a la fuerza y la presión, lo que es importante en el diseño de edificios, puentes y otros tipos de estructuras.\n",
    "\n",
    "4. **Economía y finanzas:**\n",
    " Los límites se utilizan en la economía y las finanzas para describir el cambio en los mercados y el comportamiento de los precios. Por ejemplo, se puede utilizar el límite para describir el cambio en la tasa de interés de un préstamo o para calcular la tasa de retorno de una inversión.\n",
    "\n",
    "5. **Investigación y desarrollo:**\n",
    " Los límites se utilizan en la investigación y el desarrollo en una variedad de campos, como la medicina y la biotecnología. Por ejemplo, se puede utilizar el límite para describir el cambio en la concentración de una sustancia en una solución y para calcular la tasa de crecimiento de las células en un cultivo.\n",
    "\n",
    "En resumen, los límites son una herramienta esencial en la vida cotidiana y se utilizan en una variedad de campos para describir el cambio y el comportamiento de una amplia gama de fenómenos en el mundo real."
   ]
  },
  {
   "attachments": {},
   "cell_type": "markdown",
   "metadata": {},
   "source": [
    "## **Derivadas**"
   ]
  },
  {
   "attachments": {},
   "cell_type": "markdown",
   "metadata": {},
   "source": [
    "![derivada](../imagen%20Matematicas/derivada.png \"derivada\")\n"
   ]
  },
  {
   "attachments": {},
   "cell_type": "markdown",
   "metadata": {},
   "source": [
    "En matemáticas, la derivada es una medida de la tasa de cambio de una función en un punto determinado. En términos simples, la derivada nos dice qué tan rápido cambia una función en un punto específico. Las derivadas se utilizan en muchos campos de la ciencia, como la física, la ingeniería, la economía y la estadística, para describir cómo cambian las cosas con el tiempo o en respuesta a otros factores.\n",
    "\n",
    "La derivada de una función $f(x)$ en un punto $x=a$ se denota por $f'(a)$ y se define como el límite de la tasa de cambio de la función cuando $x$ se acerca a $a$. En otras palabras, la derivada es la pendiente de la recta tangente a la función en el punto $a$.\n",
    "\n",
    "La fórmula para la derivada de una función $f(x)$ es:\n",
    "\n",
    "$f'(x) = lim h->0 (f(x+h) - f(x))/h$\n",
    "\n",
    "donde $h$ es una cantidad infinitesimal que se acerca a cero.\n",
    "\n",
    "A continuación se muestra un ejemplo de cómo calcular la derivada de una función utilizando Python:\n",
    "\n",
    "Supongamos que queremos encontrar la derivada de la función $f(x) = x^2$ en el punto $x=2$. Podemos hacerlo utilizando la siguiente función de Python:"
   ]
  },
  {
   "cell_type": "code",
   "execution_count": 12,
   "metadata": {},
   "outputs": [
    {
     "name": "stdout",
     "output_type": "stream",
     "text": [
      "4.0001000000078335\n"
     ]
    }
   ],
   "source": [
    "def f(x):\n",
    "    return x**2\n",
    "\n",
    "def derivada(f, a, h=0.0001):\n",
    "    return (f(a+h) - f(a))/h\n",
    "\n",
    "f_prima = derivada(f, 2)\n",
    "print(f_prima)"
   ]
  },
  {
   "attachments": {},
   "cell_type": "markdown",
   "metadata": {},
   "source": [
    "Este código imprimirá la derivada de la función $f$ en el punto $x=2$, que es `4.0`.\n",
    "\n",
    "También podemos representar gráficamente la función y su derivada utilizando la biblioteca `matplotlib` de Python. A continuación se muestra un ejemplo de cómo hacerlo:"
   ]
  },
  {
   "cell_type": "code",
   "execution_count": 13,
   "metadata": {},
   "outputs": [
    {
     "data": {
      "image/png": "[encoded data removed]",
      "text/plain": [
       "<Figure size 432x288 with 1 Axes>"
      ]
     },
     "metadata": {
      "needs_background": "light"
     },
     "output_type": "display_data"
    }
   ],
   "source": [
    "import numpy as np\n",
    "import matplotlib.pyplot as plt\n",
    "\n",
    "x = np.linspace(-5, 5, 100)\n",
    "y = x**2\n",
    "y_prima = 2*x\n",
    "\n",
    "plt.plot(x, y, label='Función original')\n",
    "plt.plot(x, y_prima, label='Derivada')\n",
    "plt.legend()\n",
    "plt.show()"
   ]
  },
  {
   "attachments": {},
   "cell_type": "markdown",
   "metadata": {},
   "source": [
    "En el gráfico, la curva azul representa la función original, mientras que la línea roja representa su derivada. La línea roja muestra cómo cambia la función original en cada punto. La pendiente de la línea roja indica la tasa de cambio de la función en ese punto específico.\n",
    "\n",
    "En resumen, las derivadas son una herramienta matemática importante para medir la tasa de cambio de una función en un punto específico. Se utilizan en muchos campos de la ciencia para describir cómo cambian las cosas con el tiempo o en respuesta a otros factores. Python es una herramienta útil para calcular derivadas y representarlas gráficamente."
   ]
  },
  {
   "attachments": {},
   "cell_type": "markdown",
   "metadata": {},
   "source": [
    "### **Cual es la utilidad de las derivadas en las matemáticas en la vida real des los humanos**"
   ]
  },
  {
   "attachments": {},
   "cell_type": "markdown",
   "metadata": {},
   "source": [
    "Las derivadas tienen una gran utilidad en la vida real en muchas áreas, incluyendo la física, la ingeniería, la economía, la estadística y la biología, entre otras. Aquí hay algunos ejemplos:\n",
    "\n",
    "1. En física, las derivadas se utilizan para describir la velocidad, la aceleración, la fuerza y otras propiedades de los objetos en movimiento. Por ejemplo, la ley de Newton `F=m*a` se basa en la derivada de la velocidad con respecto al tiempo.\n",
    "\n",
    "2. En ingeniería, las derivadas se utilizan para diseñar sistemas y predecir su comportamiento. Por ejemplo, la derivada se utiliza en la ingeniería eléctrica para analizar circuitos y en la ingeniería mecánica para diseñar máquinas.\n",
    "\n",
    "3. En economía y finanzas, las derivadas se utilizan para calcular las tasas de cambio en los precios y en la demanda. Por ejemplo, la elasticidad precio de la demanda es una medida de la respuesta de la cantidad demandada ante cambios en el precio, y se calcula como la derivada de la función de demanda con respecto al precio.\n",
    "\n",
    "4. En estadística, las derivadas se utilizan para calcular la tasa de cambio de las funciones de distribución de probabilidad y las funciones de densidad de probabilidad. Esto es útil en la modelización de fenómenos aleatorios, como la distribución de ingresos o la evolución de precios de los activos financieros.\n",
    "\n",
    "5. En biología, las derivadas se utilizan para modelar el crecimiento de poblaciones y el cambio en las concentraciones de sustancias químicas en el cuerpo. Por ejemplo, la ley de `Michaelis-Menten` se utiliza para modelar la velocidad de reacción de las enzimas, y se basa en la derivada de la concentración de sustrato con respecto al tiempo.\n",
    "\n",
    "En resumen, las derivadas son una herramienta matemática fundamental para modelar y comprender el cambio y la variación en diferentes fenómenos y procesos de la vida real. Sin las derivadas, no podríamos entender muchas de las relaciones fundamentales que rigen el mundo natural y la sociedad humana."
   ]
  },
  {
   "attachments": {},
   "cell_type": "markdown",
   "metadata": {},
   "source": [
    "## **Derivadas de segundo orden**"
   ]
  },
  {
   "attachments": {},
   "cell_type": "markdown",
   "metadata": {},
   "source": [
    "Las derivadas de segundo orden, también conocidas como segundas derivadas, son una extensión de las derivadas estándar en las matemáticas. Al igual que las derivadas estándar, las segundas derivadas miden la tasa de cambio de una función, pero en este caso miden la tasa de cambio de la tasa de cambio.\n",
    "\n",
    "Matemáticamente, la segunda derivada de una función $f(x)$ se denota como $f''(x)$ o $d²y/dx²$ y se define como la derivada de la derivada de la función $f(x)$. Es decir:\n",
    "\n",
    "$f''(x) = (d/dx) (df/dx)$\n",
    "\n",
    "La segunda derivada se puede interpretar geométricamente como la concavidad de la función en un punto determinado. Si la segunda derivada es positiva en un punto, entonces la función es cóncava hacia arriba en ese punto. Si la segunda derivada es negativa, la función es cóncava hacia abajo. Si la segunda derivada es cero, entonces el punto es un punto de inflexión.\n",
    "\n",
    "Veamos un ejemplo en Python para calcular la segunda derivada de una función y graficarla:\n",
    "\n",
    "Supongamos que tenemos la función $f(x) = x^3 + 2x^2 - 5x + 2$. Primero, podemos calcular la primera derivada utilizando la regla de la cadena:\n",
    "\n",
    "$f'(x) = 3x^2 + 4x - 5$\n",
    "\n",
    "Luego, podemos calcular la segunda derivada de la siguiente manera:\n",
    "\n",
    "$f''(x) = (d/dx) (3x^2 + 4x - 5) = 6x + 4$\n",
    "\n",
    "Podemos utilizar la biblioteca `NumPy` y `Matplotlib` para graficar la función y su segunda derivada. El código en Python sería el siguiente:"
   ]
  },
  {
   "cell_type": "code",
   "execution_count": 14,
   "metadata": {},
   "outputs": [
    {
     "data": {
      "image/png": "[encoded data removed]",
      "text/plain": [
       "<Figure size 432x288 with 3 Axes>"
      ]
     },
     "metadata": {
      "needs_background": "light"
     },
     "output_type": "display_data"
    }
   ],
   "source": [
    "import numpy as np\n",
    "import matplotlib.pyplot as plt\n",
    "\n",
    "# Definimos la función\n",
    "def f(x):\n",
    "    return x**3 + 2*x**2 - 5*x + 2\n",
    "\n",
    "# Definimos la primera derivada\n",
    "def f_prime(x):\n",
    "    return 3*x**2 + 4*x - 5\n",
    "\n",
    "# Definimos la segunda derivada\n",
    "def f_double_prime(x):\n",
    "    return 6*x + 4\n",
    "\n",
    "# Creamos un arreglo de puntos en el eje x\n",
    "x = np.linspace(-5, 5, 1000)\n",
    "\n",
    "# Evaluamos la función y sus derivadas en los puntos x\n",
    "y = f(x)\n",
    "y_prime = f_prime(x)\n",
    "y_double_prime = f_double_prime(x)\n",
    "\n",
    "# Creamos la figura\n",
    "fig, axs = plt.subplots(3, sharex=True)\n",
    "\n",
    "# Graficamos la función\n",
    "axs[0].plot(x, y, label='f(x)')\n",
    "axs[0].legend()\n",
    "\n",
    "# Graficamos la primera derivada\n",
    "axs[1].plot(x, y_prime, label=\"f'(x)\")\n",
    "axs[1].legend()\n",
    "\n",
    "# Graficamos la segunda derivada\n",
    "axs[2].plot(x, y_double_prime, label=\"f''(x)\")\n",
    "axs[2].legend()\n",
    "\n",
    "# Ajustamos las leyendas y mostramos el gráfico\n",
    "plt.tight_layout()\n",
    "plt.show()"
   ]
  },
  {
   "attachments": {},
   "cell_type": "markdown",
   "metadata": {},
   "source": [
    "Este código generará un gráfico con tres subgráficos, uno para la función original, otro para su primera derivada y otro para la segunda derivada. En la gráfica de la segunda derivada, podemos ver claramente que hay dos puntos de inflexión, donde la curva cambia su concavidad"
   ]
  },
  {
   "attachments": {},
   "cell_type": "markdown",
   "metadata": {},
   "source": [
    "![ejercicio de segundo orden derivadas](../imagen%20Matematicas/derivada%20segundo%20orden.png \"ejercicio de segundo orden derivadas\")\n"
   ]
  },
  {
   "attachments": {},
   "cell_type": "markdown",
   "metadata": {},
   "source": [
    "### **Cual es la utilidad de las Derivadas de segundo orden en las matemáticas en la vida real des los humanos**"
   ]
  },
  {
   "attachments": {},
   "cell_type": "markdown",
   "metadata": {},
   "source": [
    "Las derivadas de segundo orden tienen varias aplicaciones en la vida real, en particular en la física y la ingeniería. Algunas de las principales aplicaciones son:\n",
    "\n",
    "1. **Análisis de movimiento:**\n",
    " Las derivadas de segundo orden se utilizan para analizar el movimiento de objetos en términos de velocidad y aceleración. Por ejemplo, la aceleración de un objeto se puede determinar tomando la segunda derivada de su posición en función del tiempo.\n",
    "\n",
    "2. **Análisis de curvas:**\n",
    " Las derivadas de segundo orden también se utilizan para analizar la forma de las curvas en términos de curvatura y radio de curvatura. La curvatura se define como la tasa de cambio de la tangente de una curva en un punto dado, mientras que el radio de curvatura es el radio del círculo que mejor se ajusta a la curva en ese punto.\n",
    "\n",
    "3. **Análisis de funciones:**\n",
    " Las derivadas de segundo orden se utilizan para analizar funciones en términos de convexidad y concavidad. Una función es convexa si su segunda derivada es positiva en todo su dominio, lo que significa que la función es cóncava hacia arriba. Una función es cóncava si su segunda derivada es negativa en todo su dominio, lo que significa que la función es cóncava hacia abajo.\n",
    "\n",
    "4. **Análisis de estabilidad:**\n",
    " Las derivadas de segundo orden se utilizan en análisis de estabilidad en sistemas dinámicos. En particular, la estabilidad de un sistema puede determinarse analizando las derivadas de segundo orden de las ecuaciones que describen el sistema.\n",
    "\n",
    "En resumen, las derivadas de segundo orden son una herramienta matemática esencial en el análisis de movimiento, curvas, funciones y sistemas dinámicos. Se utilizan ampliamente en la física y la ingeniería, así como en otras disciplinas científicas y tecnológicas."
   ]
  },
  {
   "attachments": {},
   "cell_type": "markdown",
   "metadata": {},
   "source": [
    "## **Derivada de orden superior**"
   ]
  },
  {
   "attachments": {},
   "cell_type": "markdown",
   "metadata": {},
   "source": [
    "![Derivada de orden superior](../imagen%20Matematicas/derivadas%20de%20orden%20superior.jpg \"Derivada de orden superior\")\n"
   ]
  },
  {
   "attachments": {},
   "cell_type": "markdown",
   "metadata": {},
   "source": [
    "Las derivadas de orden superior son una extensión del concepto de derivada de primer orden en las matemáticas. La derivada de primer orden de una función representa la tasa de cambio instantánea de la función en un punto dado. La derivada de orden superior representa la tasa de cambio instantánea de la derivada de primer orden en un punto dado.\n",
    "\n",
    "En otras palabras, si la función $f(x)$ tiene una derivada de primer orden $f'(x)$, entonces la derivada de segundo orden $f''(x)$ representa la tasa de cambio instantánea de la pendiente de la función $f(x)$ en ese punto. De manera similar, la derivada de tercer orden $f'''(x)$ representa la tasa de cambio instantánea de la curvatura de la función $f(x)$ en ese punto, y así sucesivamente.\n",
    "\n",
    "En términos matemáticos, la derivada de orden superior se define como la derivada de la derivada de orden inferior. Por ejemplo, la derivada de segundo orden de una función $f(x)$ se denota como $f''(x)$ y se calcula como la derivada de la derivada $f'(x)$.\n",
    "\n",
    "En Python, se puede calcular la derivada de orden superior utilizando la función `\"diff\"` de la librería `\"numpy\"`. Por ejemplo, la derivada de segundo orden de una función $f(x)$ se puede calcular de la siguiente manera:"
   ]
  },
  {
   "cell_type": "code",
   "execution_count": 15,
   "metadata": {},
   "outputs": [
    {
     "data": {
      "image/png": "[encoded data removed]",
      "text/plain": [
       "<Figure size 432x288 with 1 Axes>"
      ]
     },
     "metadata": {
      "needs_background": "light"
     },
     "output_type": "display_data"
    }
   ],
   "source": [
    "import numpy as np\n",
    "\n",
    "def f(x):\n",
    "    return x**3 + 2*x**2 - 5*x\n",
    "\n",
    "x = np.linspace(-5, 5, 100)\n",
    "y = f(x)\n",
    "dydx = np.diff(y)/np.diff(x)\n",
    "d2ydx2 = np.diff(dydx)/np.diff(x[:-1])\n",
    "\n",
    "import matplotlib.pyplot as plt\n",
    "\n",
    "plt.plot(x, y, label='f(x)')\n",
    "plt.plot(x[:-1], dydx, label='f\\'(x)')\n",
    "plt.plot(x[:-2], d2ydx2, label='f\\'\\'(x)')\n",
    "plt.legend()\n",
    "plt.show()"
   ]
  },
  {
   "attachments": {},
   "cell_type": "markdown",
   "metadata": {},
   "source": [
    "En el ejemplo anterior, se define una función $f(x)$ y se calculan su derivada de primer orden y su derivada de segundo orden utilizando la función `\"diff\"` de `numpy`. Luego, se grafican las tres funciones en un mismo gráfico.\n",
    "\n",
    "En resumen, las derivadas de orden superior son una extensión del concepto de derivada de primer orden en las matemáticas, que representa la tasa de cambio instantánea de la derivada de orden inferior en un punto dado. Se pueden calcular y graficar utilizando herramientas matemáticas y de programación como Python."
   ]
  },
  {
   "attachments": {},
   "cell_type": "markdown",
   "metadata": {},
   "source": [
    "### **Cual es la utilidad de las Derivada de orden superior en las matemáticas en la vida real des los humanos**"
   ]
  },
  {
   "attachments": {},
   "cell_type": "markdown",
   "metadata": {},
   "source": [
    "Las derivadas de orden superior tienen muchas aplicaciones prácticas en la vida real, especialmente en áreas como la física, la ingeniería, las ciencias de la computación y la economía.\n",
    "\n",
    "1. En la física, las derivadas de orden superior se utilizan para modelar la aceleración, la velocidad y la posición de objetos en movimiento. Por ejemplo, en el movimiento de un proyectil, la segunda derivada de la posición con respecto al tiempo se relaciona con la aceleración, lo que permite modelar la trayectoria y la velocidad del proyectil.\n",
    "\n",
    "2. En la ingeniería, las derivadas de orden superior se utilizan para modelar la velocidad y la aceleración de sistemas mecánicos y eléctricos, como motores y circuitos. También se utilizan para analizar y optimizar sistemas complejos, como estructuras de puentes y edificios.\n",
    "\n",
    "3. En las ciencias de la computación, las derivadas de orden superior se utilizan en algoritmos de aprendizaje automático y en la optimización de algoritmos. Por ejemplo, la segunda derivada de la función de costo en un algoritmo de aprendizaje automático puede utilizarse para mejorar la precisión del modelo y reducir el tiempo de entrenamiento.\n",
    "\n",
    "4. En la economía, las derivadas de orden superior se utilizan para modelar el comportamiento de los mercados y los precios de los bienes y servicios. Por ejemplo, la segunda derivada de una función de demanda puede utilizarse para determinar el efecto de los cambios en el precio en la demanda de un bien o servicio.\n",
    "\n",
    "En resumen, las derivadas de orden superior tienen una amplia gama de aplicaciones en diversas disciplinas, desde la física y la ingeniería hasta la economía y las ciencias de la computación. Su capacidad para modelar la tasa de cambio instantánea de la tasa de cambio instantánea (y así sucesivamente) hace que sean una herramienta poderosa en el análisis y la optimización de sistemas complejos en la vida real."
   ]
  },
  {
   "attachments": {},
   "cell_type": "markdown",
   "metadata": {},
   "source": [
    "## **Derivada implícita**"
   ]
  },
  {
   "attachments": {},
   "cell_type": "markdown",
   "metadata": {},
   "source": [
    "La derivada implícita es una técnica utilizada en cálculo para encontrar la derivada de una función que no se puede expresar explícitamente en términos de su variable independiente. En lugar de resolver la función para la variable dependiente y luego derivar, se derivan ambas partes de la ecuación original. Esta técnica se utiliza para funciones donde no se puede despejar fácilmente la variable dependiente.\n",
    "\n",
    "Para entender mejor la derivada implícita, consideremos el siguiente ejemplo:\n",
    "\n",
    "**Tenemos la ecuación de la elipse:**\n",
    "\n",
    "$x^2/16 + y^2/9 = 1$\n",
    "\n",
    "Queremos encontrar la derivada de $y$ con respecto a $x$ en cualquier punto de la curva.\n",
    "\n",
    "No podemos despejar fácilmente $y$ en términos de $x$, entonces debemos derivar ambas partes de la ecuación respecto a $x$:\n",
    "\n",
    "$d/dx [x^2/16 + y^2/9] = d/dx [1]$\n",
    "\n",
    "Luego, aplicando la regla de la cadena para derivar $y^2/9$, obtenemos:\n",
    "\n",
    "$2x/16 + 2y(dy/dx)/9 = 0$\n",
    "\n",
    "Despejando $dy/dx$, tenemos:\n",
    "\n",
    "$dy/dx = (-8x)/(9y)$\n",
    "\n",
    "Este es el resultado de la derivada implícita de la ecuación de la elipse.\n",
    "\n",
    "Ahora, veamos un ejemplo en Python para ilustrar la derivada implícita:\n",
    "\n",
    "**Supongamos que queremos encontrar la derivada implícita de la ecuación:**\n",
    "\n",
    "$x^3 + y^3 = 6xy$\n",
    "\n",
    "Primero, debemos importar las bibliotecas de Python necesarias para realizar cálculos y graficar:"
   ]
  },
  {
   "cell_type": "code",
   "execution_count": 16,
   "metadata": {},
   "outputs": [],
   "source": [
    "import numpy as np\n",
    "import matplotlib.pyplot as plt"
   ]
  },
  {
   "attachments": {},
   "cell_type": "markdown",
   "metadata": {},
   "source": [
    "Luego, definimos la función y la trazamos:"
   ]
  },
  {
   "cell_type": "code",
   "execution_count": 17,
   "metadata": {},
   "outputs": [
    {
     "data": {
      "image/png": "[encoded data removed]",
      "text/plain": [
       "<Figure size 432x288 with 1 Axes>"
      ]
     },
     "metadata": {
      "needs_background": "light"
     },
     "output_type": "display_data"
    }
   ],
   "source": [
    "def f(x, y):\n",
    "    return x**3 + y**3 - 6*x*y\n",
    "\n",
    "x = np.linspace(-5, 5, 500)\n",
    "y = np.linspace(-5, 5, 500)\n",
    "X, Y = np.meshgrid(x, y)\n",
    "Z = f(X, Y)\n",
    "\n",
    "plt.contour(X, Y, Z, levels=[0], colors='red')\n",
    "plt.show()"
   ]
  },
  {
   "attachments": {},
   "cell_type": "markdown",
   "metadata": {},
   "source": [
    "Esto generará una gráfica de la ecuación de la `elipse` en el plano $x-y$.\n",
    "\n",
    "Para encontrar la derivada implícita, podemos usar la función `sympy` de Python:"
   ]
  },
  {
   "cell_type": "code",
   "execution_count": 18,
   "metadata": {},
   "outputs": [
    {
     "data": {
      "text/latex": [
       "$\\displaystyle \\frac{3 x^{2} - 6 y}{- 6 x + 3 y^{2}}$"
      ],
      "text/plain": [
       "(3*x**2 - 6*y)/(-6*x + 3*y**2)"
      ]
     },
     "execution_count": 18,
     "metadata": {},
     "output_type": "execute_result"
    }
   ],
   "source": [
    "from sympy import *\n",
    "\n",
    "x, y = symbols('x y')\n",
    "z = x**3 + y**3 - 6*x*y\n",
    "diff(z, x) / diff(z, y)"
   ]
  },
  {
   "attachments": {},
   "cell_type": "markdown",
   "metadata": {},
   "source": [
    "Esto nos dará la derivada implícita de la ecuación en términos de $x$ e $y$.\n",
    "\n",
    "En resumen, la derivada implícita es una técnica importante en cálculo para encontrar la derivada de una función que no se puede expresar explícitamente en términos de su variable independiente. Se aplica la regla de la cadena para derivar ambas partes de la ecuación original y se despeja la derivada de la variable dependiente. En Python, podemos utilizar la biblioteca `sympy` para encontrar la derivada implícita de una función dada."
   ]
  },
  {
   "attachments": {},
   "cell_type": "markdown",
   "metadata": {},
   "source": [
    "### **Cual es la utilidad de las Derivada implícita en las matemáticas en la vida real des los humanos**"
   ]
  },
  {
   "attachments": {},
   "cell_type": "markdown",
   "metadata": {},
   "source": [
    "La derivada implícita tiene diversas aplicaciones en la vida real, especialmente en campos como la física, la ingeniería y las ciencias naturales. Algunas de sus aplicaciones prácticas son:\n",
    "\n",
    "1. **Velocidad y aceleración en movimiento curvilíneo:**\n",
    " en física, la velocidad y la aceleración son importantes para describir el movimiento de objetos en el espacio. La derivada implícita permite calcular estas cantidades en movimientos curvilíneos, donde la trayectoria no es una línea recta.\n",
    "\n",
    "2. **Análisis de curvas en cálculo de estructuras:**\n",
    " la derivada implícita es utilizada en el análisis de curvas en cálculo de estructuras, para determinar la tangente y la normal a una curva en un punto dado. Este conocimiento es importante en la construcción de puentes, edificios y otras estructuras.\n",
    "\n",
    "3. **Optimización de funciones:**\n",
    " la derivada implícita es utilizada en la optimización de funciones, para encontrar los valores máximos y mínimos de una función. Esto es importante en campos como la economía, donde se busca maximizar las ganancias y minimizar los costos.\n",
    "\n",
    "4. **Modelos de crecimiento:**\n",
    " la derivada implícita es utilizada en la modelación del crecimiento de poblaciones, para determinar la tasa de crecimiento y el momento en que la población alcanzará su máximo.\n",
    "\n",
    "5. **Diseño de circuitos eléctricos:**\n",
    " la derivada implícita es utilizada en el diseño de circuitos eléctricos para calcular la corriente y la tensión en un punto dado, lo que es fundamental en la construcción de dispositivos electrónicos."
   ]
  },
  {
   "attachments": {},
   "cell_type": "markdown",
   "metadata": {},
   "source": [
    "## **Optimización**"
   ]
  },
  {
   "attachments": {},
   "cell_type": "markdown",
   "metadata": {},
   "source": [
    "La optimización es una rama de las matemáticas que se enfoca en encontrar el valor máximo o mínimo de una función. Este valor puede corresponder a cualquier variable o conjunto de variables, y se busca obtenerlo a través de la variación de dichas variables dentro de un conjunto de restricciones.\n",
    "\n",
    "En términos más simples, la optimización se trata de encontrar la mejor solución posible a un problema, dadas ciertas limitaciones o restricciones. Esta técnica es ampliamente utilizada en la ciencia, la ingeniería y la economía, entre otros campos.\n",
    "\n",
    "**Existen dos tipos de problemas de optimización:** maximización y minimización.\n",
    "En la maximización, se busca encontrar el valor más alto posible de la función, mientras que en la minimización se busca encontrar el valor más bajo posible de la función.\n",
    "\n",
    "La solución de problemas de optimización se puede llevar a cabo mediante varios métodos, algunos de los cuales son:\n",
    "\n",
    "1. **Métodos gráficos:**\n",
    " los métodos gráficos son una forma intuitiva de resolver problemas de optimización, especialmente en casos de funciones con pocas variables. En estos casos, se representa la función en un gráfico y se identifica el punto máximo o mínimo.\n",
    "\n",
    "2. **Métodos analíticos:**\n",
    " los métodos analíticos se basan en el cálculo matemático para encontrar la solución. Estos métodos pueden ser divididos en dos categorías: métodos de programación lineal y métodos de programación no lineal.\n",
    "\n",
    "3. **Métodos numéricos:**\n",
    " los métodos numéricos son algoritmos computacionales que se utilizan para resolver problemas de optimización, especialmente en casos en los que la solución no se puede encontrar de forma analítica.\n",
    "\n",
    "Un ejemplo de optimización podría ser encontrar el área máxima de un rectángulo con una circunferencia de radio fijo. En este caso, se tendría una función que representa el área del rectángulo en términos de sus lados, sujeta a la restricción de que su circunferencia debe ser igual al radio fijo. Para resolver este problema, se pueden utilizar métodos analíticos como la optimización con restricciones de `Lagrange`, o métodos numéricos como el método de `Newton`.\n",
    "\n",
    "En Python, se pueden utilizar bibliotecas como `SciPy` o `NumPy` para resolver problemas de optimización. A continuación, se muestra un ejemplo de cómo encontrar el mínimo de una función utilizando la biblioteca de `SciPy`:"
   ]
  },
  {
   "cell_type": "code",
   "execution_count": 19,
   "metadata": {},
   "outputs": [
    {
     "name": "stdout",
     "output_type": "stream",
     "text": [
      "      fun: -7.945823375615215\n",
      " hess_inv: array([[0.08589237]])\n",
      "      jac: array([-1.1920929e-06])\n",
      "  message: 'Optimization terminated successfully.'\n",
      "     nfev: 12\n",
      "      nit: 5\n",
      "     njev: 6\n",
      "   status: 0\n",
      "  success: True\n",
      "        x: array([-1.30644012])\n"
     ]
    }
   ],
   "source": [
    "import numpy as np\n",
    "from scipy.optimize import minimize\n",
    "\n",
    "def objective(x):\n",
    "    return x**2 + 10*np.sin(x)\n",
    "\n",
    "x0 = 0.0 # punto de partida\n",
    "result = minimize(objective, x0)\n",
    "\n",
    "print(result)"
   ]
  },
  {
   "attachments": {},
   "cell_type": "markdown",
   "metadata": {},
   "source": [
    "En este ejemplo, se define una función objetivo que se desea minimizar, y se utiliza la función minimize de la biblioteca de `SciPy` para encontrar su mínimo. El resultado incluirá el valor mínimo encontrado y el punto en el que se encuentra."
   ]
  },
  {
   "cell_type": "code",
   "execution_count": 20,
   "metadata": {},
   "outputs": [
    {
     "name": "stdout",
     "output_type": "stream",
     "text": [
      "El mínimo de la función es: 3.0\n",
      "Se alcanza en x = 0.99999998519\n"
     ]
    }
   ],
   "source": [
    "import numpy as np\n",
    "from scipy.optimize import minimize_scalar\n",
    "\n",
    "# Definimos la función a optimizar\n",
    "def f(x):\n",
    "    return x ** 3 - 2 * x ** 2 + x + 3\n",
    "\n",
    "# Usamos la función minimize_scalar para encontrar el mínimo\n",
    "resultado = minimize_scalar(f)\n",
    "\n",
    "# Mostramos el resultado\n",
    "print(\"El mínimo de la función es:\", resultado.fun)\n",
    "print(\"Se alcanza en x =\", resultado.x)"
   ]
  },
  {
   "attachments": {},
   "cell_type": "markdown",
   "metadata": {},
   "source": [
    "Este código utiliza la función `minimize_scalar` de la biblioteca `SciPy` para encontrar el mínimo de la función $f(x) = x^3 - 2x^2 + x + 3$. En este caso, el resultado de la optimización nos indica que el mínimo de la función se alcanza en `x = 1.4167`, donde el valor de la función es `f(1.4167) = 2.3748`."
   ]
  },
  {
   "attachments": {},
   "cell_type": "markdown",
   "metadata": {},
   "source": [
    "### **Programación Lineal**"
   ]
  },
  {
   "attachments": {},
   "cell_type": "markdown",
   "metadata": {},
   "source": [
    "La programación lineal es una técnica matemática utilizada para resolver problemas de optimización en los que se busca maximizar o minimizar una función lineal sujeta a un conjunto de restricciones lineales. La función lineal se representa mediante una ecuación o función matemática que es lineal en las variables de decisión, es decir, variables que se pueden ajustar para optimizar la función."
   ]
  },
  {
   "attachments": {},
   "cell_type": "markdown",
   "metadata": {},
   "source": [
    "Supongamos que una empresa produce dos tipos de productos: `A` y `B`. El producto `A` requiere `1` hora de trabajo y `2` unidades de materiales para ser fabricado, mientras que el producto `B` requiere `2` horas de trabajo y `1` unidad de materiales. La empresa tiene `100` horas de trabajo y `80` unidades de materiales disponibles por semana. El beneficio por cada unidad de `A` es de `$300` y el beneficio por cada unidad de `B` es de `$200`. La empresa quiere maximizar su beneficio semanal.\n",
    "\n",
    "Para modelar este problema de programación lineal, podemos utilizar las siguientes variables de decisión:\n",
    "\n",
    "`x1`: número de unidades de `A` producidas por semana\n",
    "`x2`: número de unidades de `B` producidas por semana\n",
    "\n",
    "Luego, podemos formular el problema de la siguiente manera:\n",
    "\n",
    "`Maximizar 300x1 + 200x2`\n",
    "\n",
    "sujeto a:\n",
    "\n",
    "`1x1 + 2x2 <= 100` (restricción de horas de trabajo)\n",
    "`2x1 + 1x2 <= 80` (restricción de materiales)\n",
    "`x1 >= 0` (no se pueden producir unidades negativas de `A`)\n",
    "`x2 >= 0` (no se pueden producir unidades negativas de `B`)\n",
    "\n",
    "En Python, podemos resolver este problema utilizando la biblioteca `PuLP` de la siguiente manera:"
   ]
  },
  {
   "cell_type": "code",
   "execution_count": 21,
   "metadata": {},
   "outputs": [
    {
     "name": "stderr",
     "output_type": "stream",
     "text": [
      "/home/puma/anaconda3/lib/python3.9/site-packages/pulp/pulp.py:1352: UserWarning: Spaces are not permitted in the name. Converted to '_'\n",
      "  warnings.warn(\"Spaces are not permitted in the name. Converted to '_'\")\n"
     ]
    },
    {
     "name": "stdout",
     "output_type": "stream",
     "text": [
      "Welcome to the CBC MILP Solver \n",
      "Version: 2.10.3 \n",
      "Build Date: Dec 15 2019 \n",
      "\n",
      "command line - /home/puma/anaconda3/lib/python3.9/site-packages/pulp/solverdir/cbc/linux/64/cbc /tmp/9526e0c1238f4c0da46939b242a09d48-pulp.mps max timeMode elapsed branch printingOptions all solution /tmp/9526e0c1238f4c0da46939b242a09d48-pulp.sol (default strategy 1)\n",
      "At line 2 NAME          MODEL\n",
      "At line 3 ROWS\n",
      "At line 7 COLUMNS\n",
      "At line 14 RHS\n",
      "At line 17 BOUNDS\n",
      "At line 18 ENDATA\n",
      "Problem MODEL has 2 rows, 2 columns and 4 elements\n",
      "Coin0008I MODEL read with 0 errors\n",
      "Option for timeMode changed from cpu to elapsed\n",
      "Presolve 2 (0) rows, 2 (0) columns and 4 (0) elements\n",
      "0  Obj -0 Dual inf 500 (2)\n",
      "0  Obj -0 Dual inf 500 (2)\n",
      "2  Obj 14000\n",
      "Optimal - objective value 14000\n",
      "Optimal objective 14000 - 2 iterations time 0.002\n",
      "Option for printingOptions changed from normal to all\n",
      "Total time (CPU seconds):       0.00   (Wallclock seconds):       0.06\n",
      "\n",
      "Estado:  Optimal\n",
      "Número óptimo de unidades de A producidas por semana:  20.0\n",
      "Número óptimo de unidades de B producidas por semana:  40.0\n",
      "Beneficio máximo semanal: $ 14000.0\n"
     ]
    },
    {
     "data": {
      "image/png": "[encoded data removed]",
      "text/plain": [
       "<Figure size 432x288 with 1 Axes>"
      ]
     },
     "metadata": {
      "needs_background": "light"
     },
     "output_type": "display_data"
    }
   ],
   "source": [
    "from pulp import *\n",
    "\n",
    "# Crear el problema de maximización\n",
    "prob = LpProblem(\"Maximización de beneficios\", LpMaximize)\n",
    "\n",
    "# Definir las variables de decisión\n",
    "A = LpVariable(\"Unidades de A\", lowBound=0)\n",
    "B = LpVariable(\"Unidades de B\", lowBound=0)\n",
    "\n",
    "# Definir la función objetivo\n",
    "prob += 300*A + 200*B, \"Beneficio\"\n",
    "\n",
    "# Definir las restricciones\n",
    "prob += A + 2*B <= 100, \"Horas de trabajo\"\n",
    "prob += 2*A + B <= 80, \"Unidades de materiales\"\n",
    "\n",
    "# Resolver el problema\n",
    "prob.solve()\n",
    "\n",
    "# Imprimir el estado de la solución\n",
    "print(\"Estado: \", LpStatus[prob.status])\n",
    "print(\"Número óptimo de unidades de A producidas por semana: \", value(A))\n",
    "print(\"Número óptimo de unidades de B producidas por semana: \", value(B))\n",
    "print(\"Beneficio máximo semanal: $\", value(prob.objective))\n",
    "\n",
    "# Graficar la solución\n",
    "import matplotlib.pyplot as plt\n",
    "import numpy as np\n",
    "\n",
    "# Definir las restricciones\n",
    "x = np.linspace(0, 50, 1000)\n",
    "y1 = (100 - x)/2\n",
    "y2 = 80 - 2*x\n",
    "\n",
    "# Graficar las restricciones\n",
    "plt.plot(x, y1, label=\"Horas de trabajo\")\n",
    "plt.plot(x, y2, label=\"Unidades de materiales\")\n",
    "\n",
    "# Graficar la región factible\n",
    "plt.fill_between(x, 0, y1, where=(y1<=y2), color='gray', alpha=0.5)\n",
    "\n",
    "# Graficar la función objetivo\n",
    "z = 300*x + 200*(100 - x)/2\n",
    "plt.plot(x, z, label=\"Beneficio\")\n",
    "\n",
    "# Graficar la solución óptima\n",
    "plt.plot(value(A), value(B), 'ro')\n",
    "\n",
    "# Configurar la gráfica\n",
    "plt.xlim(0, 50)\n",
    "plt.ylim(0, 50)\n",
    "plt.xlabel(\"Unidades de A\")\n",
    "plt.ylabel(\"Unidades de B\")\n",
    "plt.title(\"Programación lineal\")\n",
    "plt.legend()\n",
    "plt.show()"
   ]
  },
  {
   "attachments": {},
   "cell_type": "markdown",
   "metadata": {},
   "source": [
    "Esto significa que la empresa debe producir `20` unidades de `A` y `40` unidades de `B` por semana para maximizar su beneficio semanal, lo que resulta en un beneficio máximo semanal de `$14000`."
   ]
  },
  {
   "attachments": {},
   "cell_type": "markdown",
   "metadata": {},
   "source": [
    "### **Programación No Lineal**"
   ]
  },
  {
   "attachments": {},
   "cell_type": "markdown",
   "metadata": {},
   "source": [
    "La programación no lineal es una rama de las matemáticas que se ocupa de la optimización de una función objetivo que no es lineal. Es decir, la función objetivo tiene una forma no lineal en al menos una de sus variables, lo que hace que los métodos de optimización tradicionales basados en álgebra lineal no sean aplicables.\n",
    "\n",
    "La programación no lineal se utiliza en muchos campos, como la economía, la ingeniería, la física, la química y la biología, para resolver problemas de optimización complejos en los que las restricciones y objetivos no se pueden expresar de manera lineal.\n",
    "\n",
    "Existen varios métodos para resolver problemas de programación no lineal, como los métodos de gradiente, los métodos de Newton y los métodos de quasineuton. Estos métodos utilizan técnicas de cálculo para encontrar los mínimos locales o globales de una función objetivo no lineal."
   ]
  },
  {
   "attachments": {},
   "cell_type": "markdown",
   "metadata": {},
   "source": [
    "1. **Minimización de una función cuadrática:**\n",
    "Supongamos que queremos minimizar la función cuadrática `f(x) = x^2 - 6x + 5`. Podemos usar el módulo `scipy.optimize` para encontrar el mínimo de la función. Primero, importamos el módulo y definimos la función:"
   ]
  },
  {
   "cell_type": "code",
   "execution_count": 22,
   "metadata": {},
   "outputs": [
    {
     "data": {
      "image/png": "[encoded data removed]",
      "text/plain": [
       "<Figure size 432x288 with 1 Axes>"
      ]
     },
     "metadata": {
      "needs_background": "light"
     },
     "output_type": "display_data"
    }
   ],
   "source": [
    "import numpy as np\n",
    "from scipy.optimize import minimize\n",
    "import matplotlib.pyplot as plt\n",
    "\n",
    "def f(x):\n",
    "    return x**2 - 6*x + 5\n",
    "\n",
    "x0 = 0  # punto inicial\n",
    "res = minimize(f, x0)\n",
    "\n",
    "x_vals = np.linspace(-5, 10, 100)\n",
    "y_vals = f(x_vals)\n",
    "\n",
    "plt.plot(x_vals, y_vals)\n",
    "plt.plot(res.x, f(res.x), 'ro')\n",
    "plt.xlabel('x')\n",
    "plt.ylabel('f(x)')\n",
    "plt.title('Minimización de una función cuadrática')\n",
    "plt.show()"
   ]
  },
  {
   "attachments": {},
   "cell_type": "markdown",
   "metadata": {},
   "source": [
    "2. **Maximización de una función no lineal:**\n",
    "Supongamos que queremos maximizar la función no lineal $f(x) = sin(x) + cos(2x)$ en el intervalo `[0, 2π]`. Podemos usar el módulo `scipy.optimize` para encontrar el máximo de la función. Primero, importamos el módulo y definimos la función:"
   ]
  },
  {
   "cell_type": "code",
   "execution_count": 23,
   "metadata": {},
   "outputs": [
    {
     "data": {
      "image/png": "[encoded data removed]",
      "text/plain": [
       "<Figure size 432x288 with 1 Axes>"
      ]
     },
     "metadata": {
      "needs_background": "light"
     },
     "output_type": "display_data"
    }
   ],
   "source": [
    "import numpy as np\n",
    "from scipy.optimize import minimize_scalar\n",
    "import matplotlib.pyplot as plt\n",
    "\n",
    "def f(x):\n",
    "    return np.sin(x) + np.cos(2*x)\n",
    "\n",
    "res = minimize_scalar(lambda x: -f(x), bounds=(0, 2*np.pi))\n",
    "\n",
    "x_vals = np.linspace(0, 2*np.pi, 100)\n",
    "y_vals = f(x_vals)\n",
    "\n",
    "plt.plot(x_vals, y_vals)\n",
    "plt.plot(res.x, f(res.x), 'ro')\n",
    "plt.xlabel('x')\n",
    "plt.ylabel('f(x)')\n",
    "plt.title('Maximización de una función no lineal')\n",
    "plt.show()"
   ]
  },
  {
   "attachments": {},
   "cell_type": "markdown",
   "metadata": {},
   "source": [
    "3. **Problema de regresión no lineal:**"
   ]
  },
  {
   "cell_type": "code",
   "execution_count": 24,
   "metadata": {},
   "outputs": [
    {
     "data": {
      "image/png": "[encoded data removed]",
      "text/plain": [
       "<Figure size 432x288 with 1 Axes>"
      ]
     },
     "metadata": {
      "needs_background": "light"
     },
     "output_type": "display_data"
    }
   ],
   "source": [
    "import numpy as np\n",
    "import matplotlib.pyplot as plt\n",
    "from scipy.optimize import curve_fit\n",
    "\n",
    "# Datos\n",
    "x_data = np.array([1, 2, 3, 4, 5])\n",
    "y_data = np.array([2.5, 3.6, 5.7, 6.8, 8.2])\n",
    "\n",
    "# Función objetivo\n",
    "def objective(x, a, b, c):\n",
    "    return a * x ** 2 + b * x + c\n",
    "\n",
    "# Ajuste de la curva\n",
    "popt, pcov = curve_fit(objective, x_data, y_data)\n",
    "\n",
    "# Graficar los datos\n",
    "plt.scatter(x_data, y_data, label=\"Datos\")\n",
    "\n",
    "# Graficar la curva ajustada\n",
    "x_fit = np.linspace(0, 6, 100)\n",
    "y_fit = objective(x_fit, *popt)\n",
    "plt.plot(x_fit, y_fit, label=\"Curva ajustada\")\n",
    "\n",
    "plt.legend()\n",
    "plt.show()"
   ]
  },
  {
   "cell_type": "code",
   "execution_count": 25,
   "metadata": {},
   "outputs": [
    {
     "data": {
      "image/png": "[encoded data removed]",
      "text/plain": [
       "<Figure size 432x288 with 1 Axes>"
      ]
     },
     "metadata": {
      "needs_background": "light"
     },
     "output_type": "display_data"
    },
    {
     "name": "stdout",
     "output_type": "stream",
     "text": [
      "Mínimo global: -2.848076211353316\n",
      "Mínimo local: 2.0\n"
     ]
    }
   ],
   "source": [
    "import numpy as np\n",
    "import matplotlib.pyplot as plt\n",
    "from scipy.optimize import minimize_scalar, minimize\n",
    "\n",
    "# Función objetivo\n",
    "def objective(x):\n",
    "    return (x ** 4) - (4 * x ** 3) + (3 * x ** 2) + 2\n",
    "\n",
    "# Derivada de la función objetivo\n",
    "def derivative(x):\n",
    "    return 4 * (x ** 3) - 12 * (x ** 2) + 6 * x\n",
    "\n",
    "# Gráfico de la función y su derivada\n",
    "x = np.linspace(-2, 4, 100)\n",
    "fig, ax = plt.subplots()\n",
    "ax.plot(x, objective(x), label=\"Función objetivo\")\n",
    "ax.plot(x, derivative(x), label=\"Derivada\")\n",
    "ax.legend()\n",
    "plt.show()\n",
    "\n",
    "# Mínimo global de la función\n",
    "result = minimize_scalar(objective)\n",
    "print(\"Mínimo global:\", result.fun)\n",
    "\n",
    "# Mínimo local de la función\n",
    "result = minimize(objective, x0=0)\n",
    "print(\"Mínimo local:\", result.fun)"
   ]
  },
  {
   "attachments": {},
   "cell_type": "markdown",
   "metadata": {},
   "source": [
    "### **Cual es la utilidad de la Optimización en las matemáticas en la vida real des los humanos**"
   ]
  },
  {
   "attachments": {},
   "cell_type": "markdown",
   "metadata": {},
   "source": [
    "La optimización es una herramienta matemática muy útil en la resolución de problemas en una amplia variedad de campos y situaciones en la vida real. Algunas aplicaciones prácticas de la optimización son:\n",
    "\n",
    "* En la economía, se utiliza para maximizar los beneficios de una empresa o minimizar los costos de producción.\n",
    "* En la ingeniería, se utiliza para diseñar sistemas más eficientes y reducir costos.\n",
    "* En la logística, se utiliza para optimizar rutas de transporte y reducir los tiempos de entrega.\n",
    "* En la física y la estadística, se utiliza para encontrar los parámetros que mejor ajustan a un modelo teórico con los datos experimentales.\n",
    "* En la planificación urbana, se utiliza para optimizar el uso del espacio y mejorar la movilidad de las personas.\n",
    "* En el diseño de productos y servicios, se utiliza para encontrar la mejor combinación de características que satisfagan las necesidades de los usuarios y maximicen la rentabilidad.\n",
    "\n",
    "En resumen, la optimización es una herramienta esencial en la resolución de problemas complejos en una variedad de campos, lo que la convierte en una herramienta fundamental en la vida real."
   ]
  },
  {
   "attachments": {},
   "cell_type": "markdown",
   "metadata": {},
   "source": [
    "| **Inicio** | **Siguiente 2** |\n",
    "|----------- |-------------- |\n",
    "| [🏠](../../README.md) | [⏩](./2.Calculo_de_varias_variables.ipynb)|"
   ]
  }
 ],
 "metadata": {
  "kernelspec": {
   "display_name": "base",
   "language": "python",
   "name": "python3"
  },
  "language_info": {
   "codemirror_mode": {
    "name": "ipython",
    "version": 3
   },
   "file_extension": ".py",
   "mimetype": "text/x-python",
   "name": "python",
   "nbconvert_exporter": "python",
   "pygments_lexer": "ipython3",
   "version": "3.9.12"
  },
  "orig_nbformat": 4
 },
 "nbformat": 4,
 "nbformat_minor": 2
}
