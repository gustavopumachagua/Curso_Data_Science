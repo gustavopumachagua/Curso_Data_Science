{
 "cells": [
  {
   "attachments": {},
   "cell_type": "markdown",
   "metadata": {},
   "source": [
    "| **Inicio** | **atrás 2** | **Siguiente 4** |\n",
    "|----------- |-------------- |---------------|\n",
    "| [🏠](../../../README.md) | [⏪](./2.LA_MUESTRA_ALEATORIA.ipynb)| [⏩](./4.PRUEBAS_DE_HIPOTESIS.ipynb)|"
   ]
  },
  {
   "attachments": {},
   "cell_type": "markdown",
   "metadata": {},
   "source": [
    "# **3. ESTIMACIÓN DE PARÁMETROS POBLACIONALES**"
   ]
  },
  {
   "attachments": {},
   "cell_type": "markdown",
   "metadata": {},
   "source": [
    "## **Estadístico, estimador, estimación**"
   ]
  },
  {
   "attachments": {},
   "cell_type": "markdown",
   "metadata": {},
   "source": [
    "En estadística, los conceptos de estadístico, estimador y estimación están estrechamente relacionados y son fundamentales para realizar inferencias sobre una población a partir de una muestra de datos. A continuación, te proporcionaré una explicación detallada de cada uno de estos conceptos, junto con un ejemplo de código en Python y una gráfica correspondiente.\n",
    "\n",
    "* **Estadístico:**\n",
    "\n",
    "Un estadístico es una función de los datos muestrales que se utiliza para resumir o describir una característica de interés en la muestra. Los estadísticos pueden ser valores numéricos calculados a partir de la muestra, como la media, la mediana, la desviación estándar, etc. Estos resúmenes muestrales proporcionan información descriptiva sobre los datos y se utilizan como estimadores para hacer inferencias sobre la población.\n",
    "\n",
    "Ejemplo de código en Python para calcular algunos estadísticos de una muestra:"
   ]
  },
  {
   "cell_type": "code",
   "execution_count": 1,
   "metadata": {},
   "outputs": [
    {
     "name": "stdout",
     "output_type": "stream",
     "text": [
      "Media: 3.0\n",
      "Mediana: 3.0\n",
      "Desviación estándar: 1.4142135623730951\n"
     ]
    }
   ],
   "source": [
    "import numpy as np\n",
    "\n",
    "# Muestra de datos\n",
    "muestra = np.array([1, 2, 3, 4, 5])\n",
    "\n",
    "# Estadísticos\n",
    "media = np.mean(muestra)\n",
    "mediana = np.median(muestra)\n",
    "desviacion_estandar = np.std(muestra)\n",
    "\n",
    "print(\"Media:\", media)\n",
    "print(\"Mediana:\", mediana)\n",
    "print(\"Desviación estándar:\", desviacion_estandar)"
   ]
  },
  {
   "attachments": {},
   "cell_type": "markdown",
   "metadata": {},
   "source": [
    "En este ejemplo, calculamos la media, la mediana y la desviación estándar de una muestra de datos. Estos son ejemplos de estadísticos que nos ayudan a resumir y describir las características de interés en la muestra.\n",
    "\n",
    "* **Estimador:**\n",
    "\n",
    "Un estimador es una función de los datos muestrales que se utiliza para inferir o estimar un parámetro desconocido de la población. Los estimadores se basan en los estadísticos y se utilizan para obtener una estimación del valor del parámetro de interés. Un estimador puede ser una fórmula matemática o un procedimiento estadístico que utiliza la información muestral para proporcionar una aproximación del valor real del parámetro.\n",
    "\n",
    "Ejemplo de código en Python para calcular un estimador de la media poblacional:"
   ]
  },
  {
   "cell_type": "code",
   "execution_count": 2,
   "metadata": {},
   "outputs": [
    {
     "name": "stdout",
     "output_type": "stream",
     "text": [
      "Estimador de la media: 3.0\n"
     ]
    }
   ],
   "source": [
    "import numpy as np\n",
    "\n",
    "# Muestra de datos\n",
    "muestra = np.array([1, 2, 3, 4, 5])\n",
    "\n",
    "# Estimador de la media\n",
    "estimador_media = np.mean(muestra)\n",
    "\n",
    "print(\"Estimador de la media:\", estimador_media)"
   ]
  },
  {
   "attachments": {},
   "cell_type": "markdown",
   "metadata": {},
   "source": [
    "En este ejemplo, utilizamos la media muestral como estimador de la media poblacional. El estimador de la media se calcula utilizando los datos de la muestra y proporciona una estimación del valor promedio de la población.\n",
    "\n",
    "* **Estimación:**\n",
    "\n",
    "La estimación se refiere al proceso de utilizar un estimador para obtener un valor numérico que estime el valor real de un parámetro desconocido de la población. La estimación se basa en la información muestral y se utiliza para hacer inferencias sobre la población más amplia.\n",
    "\n",
    "Ejemplo de código en Python para realizar una estimación del intervalo de confianza para la media poblacional:"
   ]
  },
  {
   "cell_type": "code",
   "execution_count": 3,
   "metadata": {},
   "outputs": [
    {
     "name": "stdout",
     "output_type": "stream",
     "text": [
      "Estimación de la media poblacional: 3.0\n",
      "Intervalo de confianza del 95%: (1.244021933829831, 4.755978066170169)\n"
     ]
    }
   ],
   "source": [
    "import numpy as np\n",
    "from scipy.stats import t\n",
    "\n",
    "# Muestra de datos\n",
    "muestra = np.array([1, 2, 3, 4, 5])\n",
    "\n",
    "# Estimador de la media\n",
    "estimador_media = np.mean(muestra)\n",
    "\n",
    "# Intervalo de confianza del 95% para la media\n",
    "n = len(muestra)\n",
    "grados_libertad = n - 1\n",
    "error_estandar = np.std(muestra) / np.sqrt(n)\n",
    "intervalo_confianza = t.interval(0.95, df=grados_libertad, loc=estimador_media, scale=error_estandar)\n",
    "\n",
    "print(\"Estimación de la media poblacional:\", estimador_media)\n",
    "print(\"Intervalo de confianza del 95%:\", intervalo_confianza)"
   ]
  },
  {
   "attachments": {},
   "cell_type": "markdown",
   "metadata": {},
   "source": [
    "En este ejemplo, utilizamos la media muestral como estimador de la media poblacional y calculamos un intervalo de confianza del 95% para la media. El intervalo de confianza nos proporciona un rango de valores dentro del cual se espera que esté el verdadero valor de la media poblacional con un nivel de confianza del 95%.\n",
    "\n",
    "Espero que esta explicación detallada junto con los ejemplos de código y las gráficas te hayan sido útiles para comprender los conceptos de estadístico, estimador y estimación. Estos conceptos son fundamentales en la inferencia estadística y se utilizan para realizar conclusiones sobre una población a partir de una muestra de datos."
   ]
  },
  {
   "attachments": {},
   "cell_type": "markdown",
   "metadata": {},
   "source": [
    "## **Métodos para la obtención de estimadores**"
   ]
  },
  {
   "attachments": {},
   "cell_type": "markdown",
   "metadata": {},
   "source": [
    "Existen varios métodos para obtener estimadores en estadística. A continuación, te proporcionaré una explicación detallada de algunos de los métodos más comunes junto con ejemplos de código en Python y gráficas correspondientes.\n",
    "\n",
    "* **Método de los momentos:**\n",
    "\n",
    "El método de los momentos es un enfoque para obtener estimadores al igualar los momentos teóricos de una distribución con los momentos muestrales correspondientes. Este método se basa en la idea de que los momentos de una distribución poblacional se pueden estimar a partir de los momentos muestrales y se utiliza para obtener estimaciones de los parámetros de la distribución.\n",
    "\n",
    "Ejemplo de código en Python utilizando el método de los momentos para estimar los parámetros de una distribución normal:"
   ]
  },
  {
   "cell_type": "code",
   "execution_count": 4,
   "metadata": {},
   "outputs": [
    {
     "name": "stdout",
     "output_type": "stream",
     "text": [
      "Estimación de la media (método de los momentos): 3.3600000000000003\n",
      "Estimación de la desviación estándar (método de los momentos): 1.5383107618423528\n"
     ]
    }
   ],
   "source": [
    "import numpy as np\n",
    "from scipy.stats import norm\n",
    "\n",
    "# Muestra de datos\n",
    "data = np.array([1.2, 2.3, 3.5, 4.1, 5.7])\n",
    "\n",
    "# Estimación de los parámetros utilizando el método de los momentos\n",
    "mu_momento = np.mean(data)\n",
    "sigma_momento = np.std(data)\n",
    "\n",
    "print(\"Estimación de la media (método de los momentos):\", mu_momento)\n",
    "print(\"Estimación de la desviación estándar (método de los momentos):\", sigma_momento)"
   ]
  },
  {
   "attachments": {},
   "cell_type": "markdown",
   "metadata": {},
   "source": [
    "En este ejemplo, utilizamos el método de los momentos para estimar los parámetros de una distribución normal a partir de una muestra de datos. Estimamos la media (primer momento) y la desviación estándar (segundo momento) de la distribución normal utilizando los momentos muestrales correspondientes.\n",
    "\n",
    "* **Método de la máxima verosimilitud:**\n",
    "\n",
    "El método de la máxima verosimilitud (MV) es un enfoque ampliamente utilizado para obtener estimadores al maximizar la función de verosimilitud de los datos observados con respecto a los parámetros del modelo. La idea es encontrar los valores de los parámetros que maximicen la probabilidad de observar los datos dada la distribución asumida.\n",
    "\n",
    "Ejemplo de código en Python utilizando el método de la máxima verosimilitud para estimar los parámetros de una distribución normal:"
   ]
  },
  {
   "cell_type": "code",
   "execution_count": 5,
   "metadata": {},
   "outputs": [
    {
     "name": "stdout",
     "output_type": "stream",
     "text": [
      "Estimación de la media (método de la máxima verosimilitud): 3.3600000000000003\n",
      "Estimación de la desviación estándar (método de la máxima verosimilitud): 1.5383107618423528\n"
     ]
    }
   ],
   "source": [
    "import numpy as np\n",
    "from scipy.stats import norm\n",
    "\n",
    "# Muestra de datos\n",
    "data = np.array([1.2, 2.3, 3.5, 4.1, 5.7])\n",
    "\n",
    "# Estimación de los parámetros utilizando el método de la máxima verosimilitud\n",
    "mu_mv, sigma_mv = norm.fit(data)\n",
    "\n",
    "print(\"Estimación de la media (método de la máxima verosimilitud):\", mu_mv)\n",
    "print(\"Estimación de la desviación estándar (método de la máxima verosimilitud):\", sigma_mv)"
   ]
  },
  {
   "attachments": {},
   "cell_type": "markdown",
   "metadata": {},
   "source": [
    "En este ejemplo, utilizamos el método de la máxima verosimilitud para estimar los parámetros de una distribución normal a partir de una muestra de datos. La función `norm.fit()` de SciPy ajusta una distribución normal a los datos y devuelve los parámetros estimados de la distribución.\n",
    "\n",
    "* **Método de los cuantiles:**\n",
    "\n",
    "El método de los cuantiles es un enfoque no paramétrico para obtener estimadores que se basa en los cuantiles de la distribución empírica de los datos muestrales. Los cuantiles son valores que dividen a los datos ordenados en partes iguales, y se utilizan para estimar puntos específicos de la distribución subyacente.\n",
    "\n",
    "Ejemplo de código en Python utilizando el método de los cuantiles para estimar la mediana de una muestra de datos:"
   ]
  },
  {
   "cell_type": "code",
   "execution_count": 6,
   "metadata": {},
   "outputs": [
    {
     "name": "stdout",
     "output_type": "stream",
     "text": [
      "Estimación de la mediana (método de los cuantiles): 3.5\n"
     ]
    }
   ],
   "source": [
    "import numpy as np\n",
    "\n",
    "# Muestra de datos\n",
    "data = np.array([1.2, 2.3, 3.5, 4.1, 5.7])\n",
    "\n",
    "# Estimación de la mediana utilizando el método de los cuantiles\n",
    "mediana = np.median(data)\n",
    "\n",
    "print(\"Estimación de la mediana (método de los cuantiles):\", mediana)"
   ]
  },
  {
   "attachments": {},
   "cell_type": "markdown",
   "metadata": {},
   "source": [
    "En este ejemplo, utilizamos el método de los cuantiles para estimar la mediana de una muestra de datos. La mediana es el cuantil que divide a los datos ordenados en dos partes iguales, por lo que proporciona una estimación robusta de la posición central de la distribución.\n",
    "\n",
    "Estos son solo algunos ejemplos de métodos para la obtención de estimadores en estadística. La elección del método adecuado depende del problema y de las suposiciones subyacentes. Es importante considerar las propiedades y limitaciones de cada método al seleccionar un estimador apropiado."
   ]
  },
  {
   "attachments": {},
   "cell_type": "markdown",
   "metadata": {},
   "source": [
    "## **Propiedades de los estimadores**"
   ]
  },
  {
   "attachments": {},
   "cell_type": "markdown",
   "metadata": {},
   "source": [
    "Las propiedades de los estimadores son características deseables que se buscan en los estimadores utilizados en inferencia estadística. Estas propiedades nos permiten evaluar la calidad de un estimador y su capacidad para proporcionar estimaciones precisas y confiables de los parámetros de interés. A continuación, te proporcionaré una explicación detallada de algunas de las propiedades más importantes de los estimadores, junto con ejemplos en código Python y gráficas correspondientes.\n",
    "\n",
    "* **Sesgo:**\n",
    "\n",
    "El sesgo de un estimador se refiere a la tendencia sistemática del estimador a sobreestimar o subestimar el valor verdadero del parámetro. Un estimador se considera insesgado si su valor esperado es igual al valor verdadero del parámetro. Un estimador sesgado tiende a alejarse sistemáticamente del valor verdadero.\n",
    "\n",
    "Ejemplo de código en Python para calcular el sesgo de un estimador:"
   ]
  },
  {
   "cell_type": "code",
   "execution_count": 7,
   "metadata": {},
   "outputs": [
    {
     "name": "stdout",
     "output_type": "stream",
     "text": [
      "Sesgo: 0.059808015534485115\n"
     ]
    }
   ],
   "source": [
    "import numpy as np\n",
    "\n",
    "# Generar una muestra de datos\n",
    "np.random.seed(0)\n",
    "muestra = np.random.normal(loc=2, scale=1, size=100)\n",
    "\n",
    "# Estimar la media poblacional\n",
    "media_estimada = np.mean(muestra)\n",
    "\n",
    "# Calcular el sesgo\n",
    "sesgo = media_estimada - 2  # Valor verdadero del parámetro\n",
    "\n",
    "print(\"Sesgo:\", sesgo)"
   ]
  },
  {
   "attachments": {},
   "cell_type": "markdown",
   "metadata": {},
   "source": [
    "En este ejemplo, generamos una muestra de datos de una distribución normal con media `2` y desviación estándar `1`. Luego, estimamos la media poblacional utilizando la media muestral y calculamos el sesgo comparando la estimación con el valor verdadero del parámetro (`2` en este caso).\n",
    "\n",
    "* **Consistencia:**\n",
    "\n",
    "La consistencia se refiere a la propiedad de un estimador de converger al valor verdadero del parámetro a medida que el tamaño de la muestra tiende a infinito. Un estimador consistente produce estimaciones más precisas a medida que aumenta el tamaño de la muestra.\n",
    "\n",
    "Ejemplo de código en Python para verificar la consistencia de un estimador:"
   ]
  },
  {
   "cell_type": "code",
   "execution_count": 1,
   "metadata": {},
   "outputs": [
    {
     "data": {
      "image/png": "[encoded data removed]",
      "text/plain": [
       "<Figure size 640x480 with 1 Axes>"
      ]
     },
     "metadata": {},
     "output_type": "display_data"
    }
   ],
   "source": [
    "import numpy as np\n",
    "import matplotlib.pyplot as plt\n",
    "\n",
    "# Generar una muestra de datos\n",
    "np.random.seed(0)\n",
    "muestra = np.random.normal(loc=2, scale=1, size=100)\n",
    "\n",
    "# Estimar la media poblacional para diferentes tamaños de muestra\n",
    "tamanos_muestra = np.arange(10, 1000, 10)\n",
    "medias_estimadas = [np.mean(muestra[:n]) for n in tamanos_muestra]\n",
    "\n",
    "# Graficar las estimaciones en función del tamaño de muestra\n",
    "plt.plot(tamanos_muestra, medias_estimadas, label='Media estimada')\n",
    "plt.axhline(y=2, color='r', linestyle='--', label='Valor verdadero')\n",
    "\n",
    "# Añadir cuadrícula\n",
    "plt.grid(True, linestyle='--', alpha=0.7)\n",
    "\n",
    "# Añadir etiquetas y título\n",
    "plt.xlabel('Tamaño de muestra')\n",
    "plt.ylabel('Media estimada')\n",
    "plt.title('Estimación de la Media Poblacional')\n",
    "\n",
    "# Añadir leyenda\n",
    "plt.legend()\n",
    "\n",
    "# Mostrar el gráfico\n",
    "plt.show()"
   ]
  },
  {
   "attachments": {},
   "cell_type": "markdown",
   "metadata": {},
   "source": [
    "En este ejemplo, generamos una muestra de datos de una distribución normal con media `2` y desviación estándar `1`. Luego, estimamos la media poblacional para diferentes tamaños de muestra y graficamos las estimaciones en función del tamaño de muestra. Observamos que a medida que aumenta el tamaño de la muestra, las estimaciones de la media se acercan cada vez más al valor verdadero del parámetro (línea roja punteada), lo cual indica la consistencia del estimador.\n",
    "\n",
    "* **Eficiencia:**\n",
    "\n",
    "La eficiencia se refiere a la capacidad de un estimador de proporcionar estimaciones precisas y con menor variabilidad. Un estimador eficiente tiene una varianza más pequeña en comparación con otros estimadores no sesgados.\n",
    "\n",
    "Ejemplo de código en Python para comparar la eficiencia de dos estimadores:"
   ]
  },
  {
   "cell_type": "code",
   "execution_count": 9,
   "metadata": {},
   "outputs": [
    {
     "name": "stdout",
     "output_type": "stream",
     "text": [
      "Varianza del estimador 1: 0.010158266192149313\n",
      "Varianza del estimador 2: 0.04934802200544679\n"
     ]
    }
   ],
   "source": [
    "import numpy as np\n",
    "\n",
    "# Generar una muestra de datos\n",
    "np.random.seed(0)\n",
    "muestra = np.random.normal(loc=2, scale=1, size=100)\n",
    "\n",
    "# Estimar la media poblacional con dos estimadores\n",
    "media_estimada_1 = np.mean(muestra)\n",
    "media_estimada_2 = np.median(muestra)\n",
    "\n",
    "# Calcular las varianzas de los estimadores\n",
    "varianza_1 = np.var(muestra) / len(muestra)\n",
    "varianza_2 = np.pi**2 / (2 * len(muestra))\n",
    "\n",
    "print(\"Varianza del estimador 1:\", varianza_1)\n",
    "print(\"Varianza del estimador 2:\", varianza_2)"
   ]
  },
  {
   "attachments": {},
   "cell_type": "markdown",
   "metadata": {},
   "source": [
    "En este ejemplo, generamos una muestra de datos de una distribución normal con media `2` y desviación estándar `1`. Luego, estimamos la media poblacional utilizando dos estimadores diferentes: la media muestral y la mediana muestral. Calculamos las varianzas de los estimadores y comparamos su eficiencia. En este caso, la varianza del estimador de la media muestral (estimador 1) es menor que la varianza del estimador de la mediana muestral (estimador 2), lo cual indica que el estimador de la media muestral es más eficiente.\n",
    "\n",
    "Estas son solo algunas de las propiedades importantes que se buscan en los estimadores. Es importante evaluar las propiedades específicas de los estimadores en función del problema y las suposiciones subyacentes. Además, es posible que se requieran métodos más avanzados para evaluar propiedades como la eficiencia, como el uso de información adicional o la comparación con estimadores óptimos teóricos."
   ]
  },
  {
   "attachments": {},
   "cell_type": "markdown",
   "metadata": {},
   "source": [
    "## **Intervalos de confianza**"
   ]
  },
  {
   "attachments": {},
   "cell_type": "markdown",
   "metadata": {},
   "source": [
    "Los intervalos de confianza son un concepto importante en estadística que nos permite estimar un rango plausible de valores para un parámetro poblacional desconocido, basado en una muestra de datos. Estos intervalos nos brindan una medida de la incertidumbre asociada a la estimación del parámetro y se expresan con un nivel de confianza, que representa la probabilidad de que el intervalo capture el valor verdadero del parámetro.\n",
    "\n",
    "A continuación, te proporcionaré una explicación detallada de cómo construir intervalos de confianza junto con ejemplos en código Python y gráficas correspondientes.\n",
    "\n",
    "Supongamos que queremos estimar el parámetro poblacional θ y construir un intervalo de confianza para su valor. A continuación, se describen los pasos generales para construir un intervalo de confianza:\n",
    "\n",
    "1. **Selección del nivel de confianza:**\n",
    "\n",
    "El nivel de confianza se elige antes de realizar el análisis y representa la probabilidad de que el intervalo de confianza capture el valor verdadero del parámetro. Un nivel de confianza comúnmente utilizado es el 95%, lo que implica que hay un 95% de probabilidad de que el intervalo contenga al verdadero valor del parámetro.\n",
    "\n",
    "2. **Selección de la distribución de referencia:**\n",
    "\n",
    "La selección de la distribución de referencia depende del tamaño de la muestra y de las suposiciones sobre la distribución de los datos. Para muestras grandes, se utiliza la distribución normal estándar (`z`), mientras que para muestras pequeñas o cuando no se conoce la desviación estándar poblacional, se utiliza la distribución t de Student.\n",
    "\n",
    "3. **Cálculo del estimador y su error estándar:**\n",
    "\n",
    "Se calcula un estimador del parámetro de interés utilizando la muestra de datos y se estima su error estándar. El error estándar es una medida de la variabilidad de la estimación del parámetro.\n",
    "\n",
    "4. **Construcción del intervalo de confianza:**\n",
    "\n",
    "Utilizando la distribución de referencia seleccionada y el nivel de confianza elegido, se determinan los valores críticos correspondientes. Estos valores críticos definen los límites del intervalo de confianza. El intervalo se construye alrededor del estimador, teniendo en cuenta el error estándar.\n",
    "\n",
    "Ejemplo de código en Python para construir un intervalo de confianza para la media poblacional:"
   ]
  },
  {
   "cell_type": "code",
   "execution_count": 10,
   "metadata": {},
   "outputs": [
    {
     "name": "stdout",
     "output_type": "stream",
     "text": [
      "Intervalo de confianza: (1.8598223120253592, 2.259793719043611)\n"
     ]
    }
   ],
   "source": [
    "import numpy as np\n",
    "from scipy.stats import t\n",
    "\n",
    "# Muestra de datos\n",
    "np.random.seed(0)\n",
    "muestra = np.random.normal(loc=2, scale=1, size=100)\n",
    "\n",
    "# Parámetros\n",
    "nivel_confianza = 0.95  # 95% de nivel de confianza\n",
    "grados_libertad = len(muestra) - 1\n",
    "\n",
    "# Estimaciones\n",
    "media_estimada = np.mean(muestra)\n",
    "error_estandar = np.std(muestra) / np.sqrt(len(muestra))\n",
    "\n",
    "# Valores críticos\n",
    "valor_critico = t.ppf((1 + nivel_confianza) / 2, df=grados_libertad)\n",
    "\n",
    "# Intervalo de confianza\n",
    "intervalo_confianza = (media_estimada - valor_critico * error_estandar,\n",
    "                      media_estimada + valor_critico * error_estandar)\n",
    "\n",
    "print(\"Intervalo de confianza:\", intervalo_confianza)"
   ]
  },
  {
   "attachments": {},
   "cell_type": "markdown",
   "metadata": {},
   "source": [
    "En este ejemplo, generamos una muestra de datos de una distribución normal con media 2 y desviación estándar 1. Luego, calculamos la media muestral y el error estándar. Utilizando la distribución t de Student y el nivel de confianza del 95%, determinamos el valor crítico correspondiente. Finalmente, construimos el intervalo de confianza para la media poblacional.\n",
    "\n",
    "Es importante destacar que los intervalos de confianza proporcionan una estimación del rango plausible de valores para el parámetro poblacional, pero no indican la probabilidad de que el verdadero valor del parámetro esté dentro del intervalo. El verdadero valor del parámetro puede o no encontrarse dentro del intervalo estimado."
   ]
  },
  {
   "attachments": {},
   "cell_type": "markdown",
   "metadata": {},
   "source": [
    "| **Inicio** | **atrás 2** | **Siguiente 4** |\n",
    "|----------- |-------------- |---------------|\n",
    "| [🏠](../../../README.md) | [⏪](./2.LA_MUESTRA_ALEATORIA.ipynb)| [⏩](./4.PRUEBAS_DE_HIPOTESIS.ipynb)|"
   ]
  }
 ],
 "metadata": {
  "kernelspec": {
   "display_name": "base",
   "language": "python",
   "name": "python3"
  },
  "language_info": {
   "codemirror_mode": {
    "name": "ipython",
    "version": 3
   },
   "file_extension": ".py",
   "mimetype": "text/x-python",
   "name": "python",
   "nbconvert_exporter": "python",
   "pygments_lexer": "ipython3",
   "version": "3.9.12"
  },
  "orig_nbformat": 4
 },
 "nbformat": 4,
 "nbformat_minor": 2
}
