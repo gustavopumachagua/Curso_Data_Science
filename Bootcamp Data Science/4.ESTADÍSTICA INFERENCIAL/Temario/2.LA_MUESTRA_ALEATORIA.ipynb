{
 "cells": [
  {
   "attachments": {},
   "cell_type": "markdown",
   "metadata": {},
   "source": [
    "| **Inicio** | **atrás 1** | **Siguiente 3** |\n",
    "|----------- |-------------- |---------------|\n",
    "| [🏠](../../../README.md) | [⏪](./1.DISTRIBUCIONES_MULTIVARIANTES.ipynb)| [⏩](./3.ESTIMACION_DE_PARAMETROS_POBLACIONALES.ipynb)|"
   ]
  },
  {
   "attachments": {},
   "cell_type": "markdown",
   "metadata": {},
   "source": [
    "# **2. LA MUESTRA ALEATORIA**"
   ]
  },
  {
   "attachments": {},
   "cell_type": "markdown",
   "metadata": {},
   "source": [
    "## **Universo, población y muestra**"
   ]
  },
  {
   "attachments": {},
   "cell_type": "markdown",
   "metadata": {},
   "source": [
    "En el contexto de la estadística, es importante entender los conceptos de universo, población y muestra, especialmente al hablar de muestras aleatorias. A continuación, te proporcionaré una explicación detallada de cada uno de estos conceptos, junto con un ejemplo de código en Python y una gráfica correspondiente.\n",
    "\n",
    "* **Universo o población:**\n",
    "\n",
    "El universo o población se refiere al conjunto completo de elementos o individuos que se desea estudiar o analizar. Por ejemplo, si estamos interesados en estudiar la altura de todos los adultos en un país, el universo sería el conjunto de todas las alturas de los adultos en ese país. Sin embargo, en la mayoría de los casos, estudiar o analizar toda la población es impracticable o costoso, por lo que se recurre a la selección de muestras.\n",
    "\n",
    "* **Muestra:**\n",
    "\n",
    "Una muestra es un subconjunto representativo extraído de la población. Seleccionar una muestra adecuada es fundamental para obtener conclusiones válidas y generalizables sobre la población. La muestra debe ser representativa, lo que significa que debe reflejar las características y la variabilidad de la población de manera imparcial.\n",
    "\n",
    "Ejemplo de código en Python para seleccionar una muestra aleatoria de una población:"
   ]
  },
  {
   "cell_type": "code",
   "execution_count": 1,
   "metadata": {},
   "outputs": [],
   "source": [
    "import numpy as np\n",
    "\n",
    "# Población de alturas de adultos\n",
    "poblacion = np.random.normal(170, 5, 10000)\n",
    "\n",
    "# Tamaño de la muestra\n",
    "tam_muestra = 1000\n",
    "\n",
    "# Selección de una muestra aleatoria de la población\n",
    "muestra = np.random.choice(poblacion, size=tam_muestra, replace=False)"
   ]
  },
  {
   "attachments": {},
   "cell_type": "markdown",
   "metadata": {},
   "source": [
    "En este ejemplo, generamos una población ficticia de alturas de adultos, utilizando una distribución normal con una media de 170 cm y una desviación estándar de 5 cm. Luego, seleccionamos una muestra aleatoria de tamaño 1000 de esta población utilizando la función `np.random.choice()`. La muestra se selecciona sin reemplazo (`replace=False`), lo que significa que cada elemento se selecciona una vez y no se repite.\n",
    "\n",
    "* **Gráfica de muestra aleatoria:**\n",
    "\n",
    "Para visualizar la muestra aleatoria y su relación con la población, podemos crear un histograma que represente las distribuciones de ambas."
   ]
  },
  {
   "cell_type": "code",
   "execution_count": 2,
   "metadata": {},
   "outputs": [
    {
     "data": {
      "image/png": "[encoded data removed]",
      "text/plain": [
       "<Figure size 432x288 with 1 Axes>"
      ]
     },
     "metadata": {
      "needs_background": "light"
     },
     "output_type": "display_data"
    }
   ],
   "source": [
    "import matplotlib.pyplot as plt\n",
    "\n",
    "# Histograma de la población\n",
    "plt.hist(poblacion, bins=30, alpha=0.5, color='blue', label='Población')\n",
    "\n",
    "# Histograma de la muestra\n",
    "plt.hist(muestra, bins=30, alpha=0.5, color='green', label='Muestra')\n",
    "\n",
    "plt.title('Distribución de la Población y la Muestra')\n",
    "plt.xlabel('Altura')\n",
    "plt.ylabel('Frecuencia')\n",
    "plt.legend()\n",
    "plt.show()"
   ]
  },
  {
   "attachments": {},
   "cell_type": "markdown",
   "metadata": {},
   "source": [
    "En este código, generamos dos histogramas: uno para la población y otro para la muestra. La población se muestra en azul y la muestra en verde. Al visualizar ambos histogramas, podemos comparar las distribuciones y evaluar cómo la muestra se aproxima a la población.\n",
    "\n",
    "Es importante tener en cuenta que, para que una muestra sea representativa, debe seleccionarse de manera aleatoria y sin sesgo. La muestra aleatoria garantiza que cada elemento de la población tenga la misma probabilidad de ser seleccionado, lo que ayuda a minimizar el sesgo y obtener estimaciones más precisas y confiables.\n",
    "\n",
    "Espero que esta explicación detallada junto con el ejemplo de código y la gráfica te haya sido útil para comprender los conceptos de universo, población y muestra en el contexto de una muestra aleatoria. Estos conceptos son fundamentales en la estadística y son utilizados para realizar inferencias y generalizaciones sobre una población más grande a partir de datos muestrales."
   ]
  },
  {
   "attachments": {},
   "cell_type": "markdown",
   "metadata": {},
   "source": [
    "![Universo, población y muestra](../img/Universo%2C%20poblaci%C3%B3n%20y%20muestra.JPG \"Universo, población y muestra\")"
   ]
  },
  {
   "attachments": {},
   "cell_type": "markdown",
   "metadata": {},
   "source": [
    "## **Muestreo aleatorio**"
   ]
  },
  {
   "attachments": {},
   "cell_type": "markdown",
   "metadata": {},
   "source": [
    "El muestreo aleatorio es un método utilizado en estadística para seleccionar una muestra de una población de manera aleatoria y sin sesgo. El objetivo del muestreo aleatorio es obtener una muestra representativa de la población, de modo que los resultados obtenidos a partir de la muestra puedan generalizarse de manera confiable a toda la población.\n",
    "\n",
    "A continuación, te proporcionaré una explicación detallada del muestreo aleatorio, junto con un ejemplo de código en Python y una gráfica correspondiente.\n",
    "\n",
    "Explicación del muestreo aleatorio:\n",
    "\n",
    "El muestreo aleatorio se basa en los siguientes principios:\n",
    "\n",
    "1. **Selección aleatoria:**\n",
    "\n",
    " Cada individuo de la población tiene la misma probabilidad de ser seleccionado en la muestra. Esto se logra utilizando técnicas como el muestreo aleatorio simple, donde se asigna un número aleatorio a cada individuo y se selecciona la muestra en función de esos números.\n",
    "\n",
    "2. **Ausencia de sesgo:**\n",
    "\n",
    " No debe haber ninguna influencia o preferencia en la selección de los individuos de la muestra. Esto garantiza que la muestra sea representativa y que los resultados obtenidos sean imparciales.\n",
    "\n",
    "Ejemplo de código en Python para realizar un muestreo aleatorio:"
   ]
  },
  {
   "cell_type": "code",
   "execution_count": 3,
   "metadata": {},
   "outputs": [
    {
     "data": {
      "image/png": "[encoded data removed]",
      "text/plain": [
       "<Figure size 432x288 with 1 Axes>"
      ]
     },
     "metadata": {
      "needs_background": "light"
     },
     "output_type": "display_data"
    }
   ],
   "source": [
    "import numpy as np\n",
    "import matplotlib.pyplot as plt\n",
    "\n",
    "# Población de datos ficticios\n",
    "poblacion = np.random.normal(50, 10, 1000)\n",
    "\n",
    "# Tamaño de la muestra\n",
    "tam_muestra = 100\n",
    "\n",
    "# Muestreo aleatorio simple\n",
    "muestra = np.random.choice(poblacion, size=tam_muestra, replace=False)\n",
    "\n",
    "# Histograma de la población y la muestra\n",
    "plt.hist(poblacion, bins=30, alpha=0.5, color='blue', label='Población')\n",
    "plt.hist(muestra, bins=30, alpha=0.5, color='green', label='Muestra')\n",
    "plt.title('Muestreo Aleatorio')\n",
    "plt.xlabel('Valores')\n",
    "plt.ylabel('Frecuencia')\n",
    "plt.legend()\n",
    "plt.show()"
   ]
  },
  {
   "attachments": {},
   "cell_type": "markdown",
   "metadata": {},
   "source": [
    "En este ejemplo, generamos una población ficticia de datos utilizando una distribución normal con media `50` y desviación estándar `10`. Luego, utilizamos la función `np.random.choice()` para realizar un muestreo aleatorio simple y seleccionar una muestra de tamaño `100` de esta población. La muestra se selecciona sin reemplazo (`replace=False`), lo que garantiza que no se seleccionen duplicados.\n",
    "\n",
    "Además, representamos un histograma que muestra tanto la población completa como la muestra seleccionada. Esto nos permite comparar las distribuciones y evaluar qué tan bien la muestra representa la población.\n",
    "\n",
    "El muestreo aleatorio es una técnica fundamental en la estadística y se utiliza ampliamente en la recolección y análisis de datos. Al seleccionar una muestra aleatoria, se minimiza el sesgo y se obtienen estimaciones más precisas y confiables de los parámetros de interés en la población.\n",
    "\n",
    "Espero que esta explicación detallada junto con el ejemplo de código y la gráfica te haya sido útil para comprender el concepto de muestreo aleatorio. Este enfoque es esencial para obtener resultados válidos y representativos a partir de una muestra seleccionada de manera aleatoria y sin sesgo."
   ]
  },
  {
   "attachments": {},
   "cell_type": "markdown",
   "metadata": {},
   "source": [
    "## **Función de verosimilitud de la muestra**"
   ]
  },
  {
   "attachments": {},
   "cell_type": "markdown",
   "metadata": {},
   "source": [
    "La función de verosimilitud de la muestra es un concepto importante en estadística que se utiliza para determinar la probabilidad de observar los datos de una muestra particular, asumiendo un modelo estadístico específico y estimando los parámetros desconocidos de dicho modelo. Proporciona una medida de qué tan bien los parámetros del modelo se ajustan a los datos observados.\n",
    "\n",
    "A continuación, te proporcionaré una explicación detallada de la función de verosimilitud de la muestra, junto con un ejemplo de código en Python y una gráfica correspondiente.\n",
    "\n",
    "**Explicación de la función de verosimilitud de la muestra:**\n",
    "\n",
    "La función de verosimilitud se define como la función de probabilidad condicional de los datos observados, considerando los parámetros del modelo como variables. En otras palabras, la función de verosimilitud mide la probabilidad de observar los datos dados los parámetros del modelo.\n",
    "\n",
    "Supongamos que tenemos una muestra de datos observados $X = {x1, x2, ..., xn}$, y queremos estimar los parámetros $θ$ de un modelo estadístico específico. \n",
    "\n",
    "La función de verosimilitud se denota como $L(θ | X)$ y se define como:\n",
    "\n",
    "$L(θ | X) = P(X | θ)$\n",
    "\n",
    "Donde $θ$ es el vector de parámetros del modelo y $P(X | θ)$ es la función de densidad de probabilidad (o función de masa de probabilidad en el caso discreto) del modelo evaluada en los datos observados $X$.\n",
    "\n",
    "El objetivo es encontrar los valores de los parámetros $θ$ que maximicen la función de verosimilitud. Esto se conoce como el estimador de máxima verosimilitud ($EMV$). En resumen, la función de verosimilitud proporciona una medida de qué tan bien los parámetros del modelo se ajustan a los datos observados.\n",
    "\n",
    "Ejemplo de código en Python para calcular la función de verosimilitud:"
   ]
  },
  {
   "cell_type": "code",
   "execution_count": 4,
   "metadata": {},
   "outputs": [
    {
     "name": "stdout",
     "output_type": "stream",
     "text": [
      "Función de Verosimilitud: 9.629278169003348e-05\n"
     ]
    }
   ],
   "source": [
    "import numpy as np\n",
    "from scipy.stats import norm\n",
    "\n",
    "# Datos observados\n",
    "data = np.array([1.2, 2.3, 3.5, 4.1, 5.7])\n",
    "\n",
    "# Estimación de parámetros usando la distribución normal\n",
    "mu = np.mean(data)\n",
    "sigma = np.std(data)\n",
    "\n",
    "# Cálculo de la función de verosimilitud\n",
    "likelihood = np.prod(norm.pdf(data, loc=mu, scale=sigma))\n",
    "\n",
    "print(\"Función de Verosimilitud:\", likelihood)"
   ]
  },
  {
   "attachments": {},
   "cell_type": "markdown",
   "metadata": {},
   "source": [
    "En este ejemplo, consideramos una muestra de datos observados data. Suponemos que los datos siguen una distribución normal, y utilizamos la función `norm.pdf()` de SciPy para calcular la función de densidad de probabilidad de la distribución normal evaluada en los datos observados. Luego, calculamos la función de verosimilitud multiplicando las probabilidades individuales de los datos observados.\n",
    "\n",
    "Es importante tener en cuenta que en situaciones reales, la función de verosimilitud generalmente se maximiza utilizando técnicas de optimización numérica para obtener los valores óptimos de los parámetros del modelo.\n",
    "\n",
    "La función de verosimilitud de la muestra es fundamental en la estimación de parámetros y en la inferencia estadística. Proporciona una forma de cuantificar qué tan bien los parámetros del modelo se ajustan a los datos observados y es utilizada en diversas técnicas estadísticas, como el estimador de máxima verosimilitud y las pruebas de hipótesis.\n",
    "\n",
    "Espero que esta explicación detallada junto con el ejemplo de código te haya ayudado a comprender el concepto de la función de verosimilitud de la muestra."
   ]
  },
  {
   "attachments": {},
   "cell_type": "markdown",
   "metadata": {},
   "source": [
    "| **Inicio** | **atrás 1** | **Siguiente 3** |\n",
    "|----------- |-------------- |---------------|\n",
    "| [🏠](../../../README.md) | [⏪](./1.DISTRIBUCIONES_MULTIVARIANTES.ipynb)| [⏩](./3.ESTIMACION_DE_PARAMETROS_POBLACIONALES.ipynb)|"
   ]
  }
 ],
 "metadata": {
  "kernelspec": {
   "display_name": "base",
   "language": "python",
   "name": "python3"
  },
  "language_info": {
   "codemirror_mode": {
    "name": "ipython",
    "version": 3
   },
   "file_extension": ".py",
   "mimetype": "text/x-python",
   "name": "python",
   "nbconvert_exporter": "python",
   "pygments_lexer": "ipython3",
   "version": "3.9.12"
  },
  "orig_nbformat": 4
 },
 "nbformat": 4,
 "nbformat_minor": 2
}
