{
 "cells": [
  {
   "attachments": {},
   "cell_type": "markdown",
   "metadata": {},
   "source": [
    "| **Inicio** | **Siguiente 2** |\n",
    "|----------- |---------------|\n",
    "| [🏠](../../../README.md) | [⏩](./2.VARIABLES_ALEATORIAS.ipynb)|"
   ]
  },
  {
   "attachments": {},
   "cell_type": "markdown",
   "metadata": {},
   "source": [
    "# **1. PROBABILIDAD**"
   ]
  },
  {
   "attachments": {},
   "cell_type": "markdown",
   "metadata": {},
   "source": [
    "## **Espacio muestral, eventos, operaciones de conjuntos, diagramas de Venn**"
   ]
  },
  {
   "attachments": {},
   "cell_type": "markdown",
   "metadata": {},
   "source": [
    "![diagrama de venn](../img/diagrama%20de%20venn.jpg \"diagrama de venn\")"
   ]
  },
  {
   "attachments": {},
   "cell_type": "markdown",
   "metadata": {},
   "source": [
    "El espacio muestral, los eventos, las operaciones de conjuntos y los diagramas de Venn son conceptos fundamentales en la teoría de la probabilidad y la teoría de conjuntos. A continuación, te proporcionaré una explicación detallada de cada uno de ellos, junto con ejemplos de código Python y gráficas utilizando la biblioteca Matplotlib.\n",
    "\n",
    "* **Espacio Muestral:**\n",
    "\n",
    "El espacio muestral representa el conjunto de todos los posibles resultados de un experimento o evento. Puede ser finito o infinito, dependiendo del contexto. En Python, podemos representar un espacio muestral utilizando una lista o un conjunto. Aquí hay un ejemplo:"
   ]
  },
  {
   "cell_type": "code",
   "execution_count": 1,
   "metadata": {},
   "outputs": [],
   "source": [
    "espacio_muestral = ['cara', 'sello']"
   ]
  },
  {
   "attachments": {},
   "cell_type": "markdown",
   "metadata": {},
   "source": [
    "En este caso, el espacio muestral representa el resultado de lanzar una moneda, donde los posibles resultados son \"`cara`\" y \"`sello`\".\n",
    "\n",
    "* **Eventos:**\n",
    "\n",
    "Un evento es un subconjunto del espacio muestral, es decir, representa uno o más resultados posibles del experimento. Los eventos pueden ser simples (contienen un solo resultado) o compuestos (contienen múltiples resultados). En Python, podemos representar eventos utilizando conjuntos. Aquí hay un ejemplo:"
   ]
  },
  {
   "cell_type": "code",
   "execution_count": 2,
   "metadata": {},
   "outputs": [],
   "source": [
    "espacio_muestral = {'cara', 'sello'}\n",
    "evento_cara = {'cara'}\n",
    "evento_sello = {'sello'}"
   ]
  },
  {
   "attachments": {},
   "cell_type": "markdown",
   "metadata": {},
   "source": [
    "En este caso, `evento_cara` representa el evento de obtener \"`cara`\" al lanzar una moneda, mientras que `evento_sello` representa el evento de obtener \"`sello`\".\n",
    "\n",
    "* **Operaciones de Conjuntos:**\n",
    "\n",
    "Las operaciones de conjuntos nos permiten combinar, intersecar y complementar eventos. En Python, podemos realizar estas operaciones utilizando métodos y operadores disponibles para conjuntos. Aquí hay algunos ejemplos:"
   ]
  },
  {
   "cell_type": "code",
   "execution_count": 3,
   "metadata": {},
   "outputs": [
    {
     "name": "stdout",
     "output_type": "stream",
     "text": [
      "{'sello', 'cara'}\n",
      "set()\n",
      "{'sello'}\n"
     ]
    }
   ],
   "source": [
    "espacio_muestral = {'cara', 'sello'}\n",
    "evento_cara = {'cara'}\n",
    "evento_sello = {'sello'}\n",
    "\n",
    "# Unión de eventos\n",
    "union_eventos = evento_cara.union(evento_sello)\n",
    "print(union_eventos)  # Imprime: {'cara', 'sello'}\n",
    "\n",
    "# Intersección de eventos\n",
    "interseccion_eventos = evento_cara.intersection(evento_sello)\n",
    "print(interseccion_eventos)  # Imprime: set()\n",
    "\n",
    "# Complemento de un evento\n",
    "complemento_evento_cara = espacio_muestral.difference(evento_cara)\n",
    "print(complemento_evento_cara)  # Imprime: {'sello'}"
   ]
  },
  {
   "attachments": {},
   "cell_type": "markdown",
   "metadata": {},
   "source": [
    "En este ejemplo, se muestra cómo realizar la unión, intersección y diferencia de eventos utilizando los métodos `union()`, `intersection()` y `difference()` respectivamente. Los resultados se imprimen.\n",
    "\n",
    "* **Diagramas de Venn:**\n",
    "\n",
    "Los diagramas de Venn son representaciones gráficas que muestran la relación entre conjuntos y eventos. En Python, podemos crear diagramas de Venn utilizando la biblioteca `matplotlib_venn`. Aquí hay un ejemplo:"
   ]
  },
  {
   "cell_type": "code",
   "execution_count": 5,
   "metadata": {},
   "outputs": [
    {
     "data": {
      "image/png": "[encoded data removed]",
      "text/plain": [
       "<Figure size 432x288 with 1 Axes>"
      ]
     },
     "metadata": {},
     "output_type": "display_data"
    }
   ],
   "source": [
    "from matplotlib_venn import venn2\n",
    "import matplotlib.pyplot as plt\n",
    "\n",
    "evento_cara = {'cara'}\n",
    "evento_sello = {'sello'}\n",
    "\n",
    "# Crear el diagrama de Venn\n",
    "venn2([evento_cara, evento_sello], set_labels=('Cara', 'Sello'))\n",
    "\n",
    "# Mostrar el diagrama\n",
    "plt.show()"
   ]
  },
  {
   "attachments": {},
   "cell_type": "markdown",
   "metadata": {},
   "source": [
    "En este ejemplo, importamos la función `venn2` de la biblioteca `matplotlib_venn` y `plt` de matplotlib. Luego, creamos los eventos `evento_cara` y `evento_sello`. Finalmente, utilizamos `venn2()` para crear el diagrama de Venn con los eventos y `set_labels` para etiquetar los conjuntos. Usando `plt.show()`, mostramos el diagrama de Venn.\n",
    "\n",
    "En resumen, el espacio muestral representa todos los posibles resultados, los eventos son subconjuntos del espacio muestral, las operaciones de conjuntos nos permiten combinar y comparar eventos, y los diagramas de Venn son gráficas que representan visualmente estas relaciones. Python y la biblioteca Matplotlib nos permiten trabajar con estos conceptos y crear representaciones visuales efectivas."
   ]
  },
  {
   "attachments": {},
   "cell_type": "markdown",
   "metadata": {},
   "source": [
    "## **Probabilidad frecuentista**"
   ]
  },
  {
   "attachments": {},
   "cell_type": "markdown",
   "metadata": {},
   "source": [
    "La probabilidad frecuentista es una interpretación de la probabilidad basada en la frecuencia relativa de un evento en un gran número de repeticiones de un experimento. Se basa en la idea de que la probabilidad de un evento es el límite de la proporción de veces que ocurre ese evento en un número infinito de repeticiones del experimento. A continuación, te proporcionaré una explicación detallada con un ejemplo en código Python y una gráfica.\n",
    "\n",
    "Supongamos que queremos calcular la probabilidad de obtener \"`cara`\" al lanzar una moneda. Para hacerlo, podemos realizar un experimento donde lanzamos la moneda un gran número de veces y contamos la frecuencia relativa de obtener \"`cara`\". Aquí está el código Python para simular este experimento y calcular la probabilidad frecuentista:"
   ]
  },
  {
   "cell_type": "code",
   "execution_count": 6,
   "metadata": {},
   "outputs": [
    {
     "name": "stdout",
     "output_type": "stream",
     "text": [
      "Probabilidad frecuentista de obtener cara: 0.505\n"
     ]
    },
    {
     "data": {
      "image/png": "[encoded data removed]",
      "text/plain": [
       "<Figure size 432x288 with 1 Axes>"
      ]
     },
     "metadata": {
      "needs_background": "light"
     },
     "output_type": "display_data"
    }
   ],
   "source": [
    "import random\n",
    "import matplotlib.pyplot as plt\n",
    "\n",
    "# Parámetros del experimento\n",
    "num_lanzamientos = 1000  # Número de lanzamientos de la moneda\n",
    "\n",
    "# Realizar el experimento\n",
    "resultados = []\n",
    "for _ in range(num_lanzamientos):\n",
    "    resultado = random.choice(['cara', 'sello'])\n",
    "    resultados.append(resultado)\n",
    "\n",
    "# Calcular la frecuencia relativa de \"cara\"\n",
    "frecuencia_cara = resultados.count('cara') / num_lanzamientos\n",
    "\n",
    "# Imprimir la probabilidad frecuentista de \"cara\"\n",
    "print(\"Probabilidad frecuentista de obtener cara:\", frecuencia_cara)\n",
    "\n",
    "# Graficar los resultados\n",
    "etiquetas = ['cara', 'sello']\n",
    "frecuencias = [resultados.count(etiqueta) / num_lanzamientos for etiqueta in etiquetas]\n",
    "\n",
    "plt.bar(etiquetas, frecuencias)\n",
    "plt.xlabel('Resultado')\n",
    "plt.ylabel('Frecuencia relativa')\n",
    "plt.title('Experimento de lanzamiento de moneda')\n",
    "plt.show()"
   ]
  },
  {
   "attachments": {},
   "cell_type": "markdown",
   "metadata": {},
   "source": [
    "En este código, importamos el módulo `random` para simular los lanzamientos de la moneda y el módulo `matplotlib.pyplot` para graficar los resultados. Definimos el número de lanzamientos en la variable `num_lanzamientos`. Luego, realizamos el experimento donde lanzamos la moneda `num_lanzamientos` veces y almacenamos los resultados en la lista resultados. Calculamos la frecuencia relativa de obtener \"`cara`\" dividiendo el número de veces que aparece \"`cara`\" en resultados entre `num_lanzamientos`. Finalmente, imprimimos la probabilidad frecuentista de obtener \"`cara`\" y graficamos las frecuencias relativas.\n",
    "\n",
    "La gráfica resultante mostrará las frecuencias relativas de obtener \"`cara`\" y \"`sello`\" en el experimento. Cuanto más se acerque la frecuencia relativa de \"`cara`\" a `0.5`, mayor será la probabilidad frecuentista de obtener \"`cara`\" al lanzar la moneda.\n",
    "\n",
    "La probabilidad frecuentista es una forma intuitiva de calcular la probabilidad basada en la frecuencia observada en experimentos repetidos. A medida que el número de repeticiones aumenta, se espera que la frecuencia relativa se aproxime a la probabilidad real del evento. Sin embargo, es importante tener en cuenta que la probabilidad frecuentista está sujeta a variabilidad debido a la naturaleza aleatoria de los experimentos."
   ]
  },
  {
   "attachments": {},
   "cell_type": "markdown",
   "metadata": {},
   "source": [
    "## **Probabilidad axiomática**"
   ]
  },
  {
   "attachments": {},
   "cell_type": "markdown",
   "metadata": {},
   "source": [
    "![Probabilidad axiomática](../img/Probabilidad%20axiom%C3%A1tica.webp \"Probabilidad axiomática\")"
   ]
  },
  {
   "attachments": {},
   "cell_type": "markdown",
   "metadata": {},
   "source": [
    "La probabilidad axiomática es una interpretación matemática de la probabilidad que se basa en una serie de axiomas o reglas que definen las propiedades fundamentales de la probabilidad. Estos axiomas permiten establecer un marco teórico sólido para el cálculo de probabilidades. A continuación, te proporcionaré una explicación detallada de la probabilidad axiomática con un ejemplo en código Python y una gráfica.\n",
    "\n",
    "En la probabilidad axiomática, se establecen tres axiomas básicos:\n",
    "\n",
    "* **Axioma 1:** La probabilidad de un evento es un número real no negativo:\n",
    "\n",
    "La probabilidad de un evento $A$ se denota como $P(A)$ y cumple con la propiedad de ser un número real no negativo. Es decir, $P(A) >= 0$ para cualquier evento $A$.\n",
    "\n",
    "* **Axioma 2:** La probabilidad del espacio muestral es 1:\n",
    "\n",
    "La probabilidad del espacio muestral completo (que contiene todos los posibles resultados) es igual a 1. Es decir, $P(Espacio Muestral) = 1$.\n",
    "\n",
    "* **Axioma 3:** La probabilidad de la unión de eventos disjuntos es igual a la suma de las probabilidades individuales:\n",
    "\n",
    "Si $A$ y $B$ son eventos mutuamente excluyentes (disjuntos), es decir, no pueden ocurrir simultáneamente, entonces la probabilidad de la unión de $A$ y $B$ es igual a la suma de las probabilidades de $A$ y $B$. Es decir, si $A$ y $B$ son disjuntos, entonces $P(A unión B) = P(A) + P(B)$.\n",
    "\n",
    "A continuación, se muestra un ejemplo en código Python que ilustra la probabilidad axiomática:"
   ]
  },
  {
   "cell_type": "code",
   "execution_count": 7,
   "metadata": {},
   "outputs": [
    {
     "data": {
      "image/png": "[encoded data removed]",
      "text/plain": [
       "<Figure size 432x288 with 1 Axes>"
      ]
     },
     "metadata": {
      "needs_background": "light"
     },
     "output_type": "display_data"
    }
   ],
   "source": [
    "import matplotlib.pyplot as plt\n",
    "\n",
    "# Espacio muestral\n",
    "espacio_muestral = ['cara', 'sello']\n",
    "\n",
    "# Asignar probabilidades\n",
    "probabilidad_cara = 0.6\n",
    "probabilidad_sello = 0.4\n",
    "\n",
    "# Verificar que las probabilidades sean no negativas\n",
    "assert probabilidad_cara >= 0\n",
    "assert probabilidad_sello >= 0\n",
    "\n",
    "# Verificar que la suma de las probabilidades sea igual a 1\n",
    "assert probabilidad_cara + probabilidad_sello == 1\n",
    "\n",
    "# Graficar las probabilidades\n",
    "etiquetas = ['cara', 'sello']\n",
    "probabilidades = [probabilidad_cara, probabilidad_sello]\n",
    "\n",
    "plt.bar(etiquetas, probabilidades)\n",
    "plt.xlabel('Resultado')\n",
    "plt.ylabel('Probabilidad')\n",
    "plt.title('Probabilidad axiomática')\n",
    "plt.show()"
   ]
  },
  {
   "attachments": {},
   "cell_type": "markdown",
   "metadata": {},
   "source": [
    "En este ejemplo, se define el espacio muestral como `['cara', 'sello']`. Luego, se asignan probabilidades a los eventos '`cara`' y '`sello`' como `0.6` y `0.4`, respectivamente. Se verifica que las probabilidades sean no negativas y que la suma de las probabilidades sea igual a 1. Finalmente, se grafican las probabilidades utilizando una gráfica de barras.\n",
    "\n",
    "La gráfica resultante muestra las probabilidades asignadas a los eventos '`cara`' y '`sello`'. En este caso, se está utilizando una asignación subjetiva de probabilidades, donde se asigna una mayor probabilidad a '`cara`' que a '`sello`'. Sin embargo, en la probabilidad axiomática, las probabilidades pueden ser asignadas de diferentes maneras siempre y cuando cumplan con los axiomas establecidos.\n",
    "\n",
    "La probabilidad axiomática proporciona un marco matemático riguroso para el cálculo de probabilidades y establece las reglas básicas que deben cumplir las probabilidades. Esto permite realizar cálculos precisos y consistentes en el ámbito de la probabilidad."
   ]
  },
  {
   "attachments": {},
   "cell_type": "markdown",
   "metadata": {},
   "source": [
    "## **Teorema de Bayes y demás teoremas sencillos de probabilidad**"
   ]
  },
  {
   "attachments": {},
   "cell_type": "markdown",
   "metadata": {},
   "source": [
    "![teorema de bayes](../img/teorema%20de%20bayes.png \"teorema de bayes\")"
   ]
  },
  {
   "attachments": {},
   "cell_type": "markdown",
   "metadata": {},
   "source": [
    "El Teorema de Bayes es uno de los teoremas fundamentales en la teoría de la probabilidad que nos permite actualizar nuestras creencias sobre un evento a la luz de nueva evidencia. Junto con el Teorema de la Probabilidad Total y el Teorema de la Ley de los Grandes Números, forman los pilares básicos del cálculo de probabilidades. A continuación, te proporcionaré una explicación detallada de estos teoremas, ejemplos en código Python y gráficas para ilustrar su aplicación.\n",
    "\n",
    "* **Teorema de Bayes:**\n",
    "\n",
    "El Teorema de Bayes establece la relación entre la probabilidad condicional de un evento dado una nueva evidencia y la probabilidad de la evidencia dado el evento. Se formula de la siguiente manera:\n",
    "\n",
    "$P(A|B) = (P(B|A) * P(A)) / P(B)$\n",
    "\n",
    "**Donde:**\n",
    "\n",
    "$P(A|B)$ es la probabilidad de $A$ dado $B$.\n",
    "\n",
    "$P(B|A)$ es la probabilidad de $B$ dado $A$.\n",
    "\n",
    "$P(A)$ es la probabilidad de $A$.\n",
    "\n",
    "$P(B)$ es la probabilidad de $B$.\n",
    "\n",
    "El Teorema de Bayes es útil para actualizar nuestras creencias sobre un evento después de haber obtenido nueva evidencia.\n",
    "\n",
    "Aquí hay un ejemplo en código Python que ilustra el Teorema de Bayes:"
   ]
  },
  {
   "cell_type": "code",
   "execution_count": 8,
   "metadata": {},
   "outputs": [
    {
     "name": "stdout",
     "output_type": "stream",
     "text": [
      "Probabilidad de A dado B: 0.8\n"
     ]
    }
   ],
   "source": [
    "# Probabilidades iniciales\n",
    "p_a = 0.6  # Probabilidad inicial de A\n",
    "p_b_given_a = 0.8  # Probabilidad de B dado A\n",
    "p_b_given_not_a = 0.3  # Probabilidad de B dado no A\n",
    "\n",
    "# Calculamos la probabilidad de B\n",
    "p_b = (p_b_given_a * p_a) + (p_b_given_not_a * (1 - p_a))\n",
    "\n",
    "# Calculamos la probabilidad de A dado B\n",
    "p_a_given_b = (p_b_given_a * p_a) / p_b\n",
    "\n",
    "print(\"Probabilidad de A dado B:\", p_a_given_b)"
   ]
  },
  {
   "attachments": {},
   "cell_type": "markdown",
   "metadata": {},
   "source": [
    "En este ejemplo, tenemos una probabilidad inicial de `A` (`p_a`), la probabilidad de `B` dado `A` (`p_b_given_a`) y la probabilidad de `B` dado no `A` (`p_b_given_not_a`). Calculamos la probabilidad de `B` sumando la probabilidad de `B` dado `A` multiplicada por la probabilidad de `A` y la probabilidad de `B` dado no `A` multiplicada por la probabilidad de no `A`. Luego, calculamos la probabilidad de `A` dado `B` aplicando el Teorema de Bayes.\n",
    "\n",
    "* **Teorema de la Probabilidad Total:**\n",
    "\n",
    "El Teorema de la Probabilidad Total nos permite calcular la probabilidad de un evento mediante la suma de las probabilidades condicionales del evento dado diferentes casos o condiciones. Se formula de la siguiente manera:\n",
    "\n",
    "$P(A) = P(A|B1) * P(B1) + P(A|B2) * P(B2) + ... + P(A|Bn) * P(Bn)$\n",
    "\n",
    "**Donde:**\n",
    "\n",
    "$P(A)$ es la probabilidad de $A$.\n",
    "\n",
    "$P(A|Bi)$ es la probabilidad de $A$ dado $Bi$.\n",
    "\n",
    "$P(Bi)$ es la probabilidad de $Bi$.\n",
    "\n",
    "Este teorema es útil cuando se desea calcular la probabilidad de un evento considerando diferentes condiciones o casos posibles.\n",
    "\n",
    "Aquí hay un ejemplo en código Python que ilustra el Teorema de la Probabilidad Total:"
   ]
  },
  {
   "attachments": {},
   "cell_type": "markdown",
   "metadata": {},
   "source": [
    "![Teorema de la Probabilidad Total](../img/FormulaTeoremaTotal.png \"Teorema de la Probabilidad Total\")"
   ]
  },
  {
   "cell_type": "code",
   "execution_count": 9,
   "metadata": {},
   "outputs": [
    {
     "name": "stdout",
     "output_type": "stream",
     "text": [
      "Probabilidad de A: 0.48\n"
     ]
    }
   ],
   "source": [
    "# Probabilidades condicionales\n",
    "p_a_given_b1 = 0.3  # Probabilidad de A dado B1\n",
    "p_a_given_b2 = 0.6  # Probabilidad de A dado B2\n",
    "p_b1 = 0.4  # Probabilidad de B1\n",
    "p_b2 = 0.6  # Probabilidad de B2\n",
    "\n",
    "# Calculamos la probabilidad de A\n",
    "p_a = p_a_given_b1 * p_b1 + p_a_given_b2 * p_b2\n",
    "\n",
    "print(\"Probabilidad de A:\", p_a)"
   ]
  },
  {
   "attachments": {},
   "cell_type": "markdown",
   "metadata": {},
   "source": [
    "En este ejemplo, tenemos las probabilidades condicionales de `A` dado `B1` (`p_a_given_b1`) y `A` dado `B2` (`p_a_given_b2`), así como las probabilidades de `B1` (`p_b1`) y `B2` (`p_b2`). Calculamos la probabilidad de `A` utilizando el Teorema de la Probabilidad Total, sumando la probabilidad de `A` dado `B1` multiplicada por la probabilidad de `B1` y la probabilidad de `A` dado `B2` multiplicada por la probabilidad de `B2`.\n",
    "\n",
    "* **Ley de los Grandes Números:**\n",
    "\n",
    "La Ley de los Grandes Números establece que, a medida que aumenta el número de repeticiones de un experimento aleatorio, la media de los resultados tiende a acercarse a la probabilidad esperada del evento. En otras palabras, a largo plazo, los resultados observados se aproximan a las probabilidades teóricas.\n",
    "\n",
    "Aquí hay un ejemplo en código Python que ilustra la Ley de los Grandes Números:"
   ]
  },
  {
   "cell_type": "code",
   "execution_count": 10,
   "metadata": {},
   "outputs": [
    {
     "data": {
      "image/png": "[encoded data removed]",
      "text/plain": [
       "<Figure size 432x288 with 1 Axes>"
      ]
     },
     "metadata": {
      "needs_background": "light"
     },
     "output_type": "display_data"
    }
   ],
   "source": [
    "import random\n",
    "import matplotlib.pyplot as plt\n",
    "\n",
    "# Parámetros del experimento\n",
    "num_experimentos = 1000  # Número de experimentos aleatorios\n",
    "num_lanzamientos = 100  # Número de lanzamientos de una moneda en cada experimento\n",
    "\n",
    "# Realizar los experimentos\n",
    "medias = []\n",
    "for _ in range(num_experimentos):\n",
    "    resultados = [random.choice(['cara', 'sello']) for _ in range(num_lanzamientos)]\n",
    "    frecuencia_cara = resultados.count('cara') / num_lanzamientos\n",
    "    medias.append(frecuencia_cara)\n",
    "\n",
    "# Graficar las medias\n",
    "plt.plot(range(num_experimentos), medias)\n",
    "plt.axhline(y=0.5, color='r', linestyle='--', label='Probabilidad esperada')\n",
    "plt.xlabel('Número de experimento')\n",
    "plt.ylabel('Media de frecuencia de cara')\n",
    "plt.title('Ley de los Grandes Números')\n",
    "plt.legend()\n",
    "plt.show()"
   ]
  },
  {
   "attachments": {},
   "cell_type": "markdown",
   "metadata": {},
   "source": [
    "En este ejemplo, realizamos un gran número de experimentos aleatorios (`num_experimentos`) donde lanzamos una moneda un cierto número de veces (`num_lanzamientos`). En cada experimento, contamos la frecuencia de \"`cara`\" y calculamos la media de estas frecuencias. Luego, graficamos las medias a medida que aumenta el número de experimentos.\n",
    "\n",
    "La línea horizontal roja en la gráfica representa la probabilidad esperada de obtener \"`cara`\" (`0.5`). A medida que aumenta el número de experimentos, las medias de frecuencia de \"`cara`\" se acercan cada vez más a la probabilidad esperada, lo que ilustra la Ley de los Grandes Números.\n",
    "\n",
    "Estos teoremas son fundamentales en la teoría de la probabilidad y nos permiten comprender y calcular las probabilidades de manera rigurosa. Python, junto con las bibliotecas como numpy y matplotlib, nos brinda herramientas para aplicar estos teoremas y realizar cálculos y visualizaciones de manera eficiente."
   ]
  },
  {
   "attachments": {},
   "cell_type": "markdown",
   "metadata": {},
   "source": [
    "| **Inicio** | **Siguiente 2** |\n",
    "|----------- |---------------|\n",
    "| [🏠](../../../README.md) | [⏩](./2.VARIABLES_ALEATORIAS.ipynb)|"
   ]
  }
 ],
 "metadata": {
  "kernelspec": {
   "display_name": "base",
   "language": "python",
   "name": "python3"
  },
  "language_info": {
   "codemirror_mode": {
    "name": "ipython",
    "version": 3
   },
   "file_extension": ".py",
   "mimetype": "text/x-python",
   "name": "python",
   "nbconvert_exporter": "python",
   "pygments_lexer": "ipython3",
   "version": "3.9.12"
  },
  "orig_nbformat": 4
 },
 "nbformat": 4,
 "nbformat_minor": 2
}
