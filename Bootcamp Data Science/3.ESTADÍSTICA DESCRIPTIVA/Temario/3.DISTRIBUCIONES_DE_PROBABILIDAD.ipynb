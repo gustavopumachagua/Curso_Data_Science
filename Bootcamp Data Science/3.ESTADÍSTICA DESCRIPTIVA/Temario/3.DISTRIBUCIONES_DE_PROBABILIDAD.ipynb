{
 "cells": [
  {
   "attachments": {},
   "cell_type": "markdown",
   "metadata": {},
   "source": [
    "| **Inicio** | **atrás 2** | **Siguiente 4** |\n",
    "|----------- |-------------- |---------------|\n",
    "| [🏠](../../../README.md) | [⏪](./2.VARIABLES_ALEATORIAS.ipynb)| [⏩](./4.VISUALIZACION_DE_DATOS.ipynb)|"
   ]
  },
  {
   "attachments": {},
   "cell_type": "markdown",
   "metadata": {},
   "source": [
    "# **3. DISTRIBUCIONES DE PROBABILIDAD**"
   ]
  },
  {
   "attachments": {},
   "cell_type": "markdown",
   "metadata": {},
   "source": [
    "## **Distribuciones de probabilidad discretas**"
   ]
  },
  {
   "attachments": {},
   "cell_type": "markdown",
   "metadata": {},
   "source": [
    "Las distribuciones de probabilidad discretas son aquellas en las que la variable aleatoria toma valores aislados o discretos, es decir, valores específicos dentro de un conjunto finito o numerable. Cada valor tiene asociada una probabilidad de ocurrencia.\n",
    "\n",
    "Aquí hay algunas distribuciones de probabilidad discretas comunes y ejemplos de cómo trabajar con ellas en Python utilizando las bibliotecas NumPy y Matplotlib:\n",
    "\n",
    "* **Distribución de probabilidad uniforme discreta:**\n",
    "\n",
    "En esta distribución, todos los valores tienen la misma probabilidad de ocurrencia. Es útil cuando todos los resultados son igualmente probables."
   ]
  },
  {
   "cell_type": "code",
   "execution_count": 1,
   "metadata": {},
   "outputs": [
    {
     "data": {
      "image/png": "[encoded data removed]",
      "text/plain": [
       "<Figure size 432x288 with 1 Axes>"
      ]
     },
     "metadata": {
      "needs_background": "light"
     },
     "output_type": "display_data"
    }
   ],
   "source": [
    "import numpy as np\n",
    "import matplotlib.pyplot as plt\n",
    "\n",
    "# Distribución uniforme discreta\n",
    "valores = np.array([1, 2, 3, 4, 5, 6])\n",
    "probabilidades = np.array([1/6, 1/6, 1/6, 1/6, 1/6, 1/6])\n",
    "\n",
    "# Graficar la distribución\n",
    "plt.bar(valores, probabilidades)\n",
    "plt.xlabel('Valor')\n",
    "plt.ylabel('Probabilidad')\n",
    "plt.title('Distribución uniforme discreta')\n",
    "plt.show()"
   ]
  },
  {
   "attachments": {},
   "cell_type": "markdown",
   "metadata": {},
   "source": [
    "En este ejemplo, definimos los posibles valores de la variable aleatoria y sus respectivas probabilidades. Graficamos la distribución utilizando el método `bar()` de Matplotlib, donde cada valor se representa en el eje `x` y su probabilidad en el eje `y`. En este caso, todos los valores tienen una probabilidad igual de `1/6`.\n",
    "\n",
    "* **Distribución de probabilidad binomial:**\n",
    "\n",
    "La distribución binomial se utiliza para modelar el número de éxitos en una serie de ensayos independientes con dos posibles resultados: éxito o fracaso. Se caracteriza por dos parámetros: el número de ensayos (`n`) y la probabilidad de éxito en cada ensayo (`p`)."
   ]
  },
  {
   "cell_type": "code",
   "execution_count": 2,
   "metadata": {},
   "outputs": [
    {
     "data": {
      "image/png": "[encoded data removed]",
      "text/plain": [
       "<Figure size 432x288 with 1 Axes>"
      ]
     },
     "metadata": {
      "needs_background": "light"
     },
     "output_type": "display_data"
    }
   ],
   "source": [
    "import numpy as np\n",
    "import matplotlib.pyplot as plt\n",
    "from scipy.stats import binom\n",
    "\n",
    "# Distribución binomial\n",
    "n = 10  # Número de ensayos\n",
    "p = 0.5  # Probabilidad de éxito\n",
    "\n",
    "# Generar los posibles valores\n",
    "valores = np.arange(0, n+1)\n",
    "probabilidades = binom.pmf(valores, n, p)\n",
    "\n",
    "# Graficar la distribución\n",
    "plt.bar(valores, probabilidades)\n",
    "plt.xlabel('Número de éxitos')\n",
    "plt.ylabel('Probabilidad')\n",
    "plt.title('Distribución binomial')\n",
    "plt.show()"
   ]
  },
  {
   "attachments": {},
   "cell_type": "markdown",
   "metadata": {},
   "source": [
    "En este ejemplo, utilizamos la función `binom.pmf()` de la biblioteca SciPy para calcular las probabilidades de los posibles valores en una distribución binomial con 10 ensayos y una probabilidad de éxito de 0.5. Luego, graficamos la distribución utilizando el método `bar()`. La distribución binomial muestra la probabilidad de obtener diferentes números de éxitos en los ensayos.\n",
    "\n",
    "Estos son solo dos ejemplos de distribuciones de probabilidad discretas. Python ofrece una amplia gama de bibliotecas y funciones para trabajar con otras distribuciones, como la distribución de Poisson, la distribución geométrica, la distribución hipergeométrica, entre otras. Puedes explorar estas distribuciones y sus características para comprender mejor cómo se distribuyen los eventos discretos y sus respectivas probabilidades."
   ]
  },
  {
   "attachments": {},
   "cell_type": "markdown",
   "metadata": {},
   "source": [
    "![Distribuciones de probabilidad discretas](../img/Distribuciones%20de%20probabilidad%20discretas.jpg \"Distribuciones de probabilidad discretas\")"
   ]
  },
  {
   "attachments": {},
   "cell_type": "markdown",
   "metadata": {},
   "source": [
    "## **Distribución Uniforme Discreta**"
   ]
  },
  {
   "attachments": {},
   "cell_type": "markdown",
   "metadata": {},
   "source": [
    "La distribución uniforme discreta es una distribución de probabilidad en la que todos los valores posibles tienen la misma probabilidad de ocurrencia. Se utiliza cuando todos los resultados son igualmente probables.\n",
    "\n",
    "En Python, puedes trabajar con la distribución uniforme discreta utilizando la biblioteca NumPy y la función `numpy.random.randint()`. A continuación se muestra un ejemplo de cómo generar una muestra aleatoria de una distribución uniforme discreta y graficar la distribución utilizando Matplotlib:"
   ]
  },
  {
   "cell_type": "code",
   "execution_count": 3,
   "metadata": {},
   "outputs": [
    {
     "data": {
      "image/png": "[encoded data removed]",
      "text/plain": [
       "<Figure size 432x288 with 1 Axes>"
      ]
     },
     "metadata": {
      "needs_background": "light"
     },
     "output_type": "display_data"
    }
   ],
   "source": [
    "import numpy as np\n",
    "import matplotlib.pyplot as plt\n",
    "\n",
    "# Parámetros de la distribución uniforme discreta\n",
    "valores = np.arange(1, 7)  # Valores posibles: 1, 2, 3, 4, 5, 6\n",
    "probabilidad = 1 / len(valores)  # Probabilidad de cada valor\n",
    "\n",
    "# Generar una muestra aleatoria de la distribución\n",
    "muestra = np.random.choice(valores, size=1000, replace=True)\n",
    "\n",
    "# Calcular las frecuencias de cada valor en la muestra\n",
    "frecuencias = np.bincount(muestra)[1:]\n",
    "\n",
    "# Graficar la distribución uniforme discreta\n",
    "plt.bar(valores, frecuencias / len(muestra))\n",
    "plt.xlabel('Valor')\n",
    "plt.ylabel('Probabilidad')\n",
    "plt.title('Distribución uniforme discreta')\n",
    "plt.show()"
   ]
  },
  {
   "attachments": {},
   "cell_type": "markdown",
   "metadata": {},
   "source": [
    "En este ejemplo, definimos los valores posibles de la distribución uniforme discreta utilizando `np.arange()`, que genera una secuencia de números del 1 al 6. Calculamos la probabilidad de cada valor dividiendo 1 entre el número total de valores.\n",
    "\n",
    "Luego, generamos una muestra aleatoria de la distribución utilizando `np.random.choice()`. Especificamos el tamaño de la muestra (en este caso, 1000) y permitimos el reemplazo (replace=True), lo que significa que un mismo valor puede aparecer varias veces en la muestra.\n",
    "\n",
    "A continuación, utilizamos `np.bincount()` para contar las frecuencias de cada valor en la muestra. La función `bincount()` devuelve un arreglo con las frecuencias, donde el índice del arreglo corresponde al valor.\n",
    "\n",
    "Finalmente, graficamos la distribución utilizando `plt.bar()`, donde los valores se representan en el eje `x` y las probabilidades se representan en el eje `y`. Dividimos las frecuencias entre el tamaño de la muestra para obtener las probabilidades relativas.\n",
    "\n",
    "El resultado es un gráfico de barras que muestra la distribución uniforme discreta, donde cada valor tiene la misma probabilidad de ocurrencia. En este caso, se espera que todas las barras tengan una altura similar debido a la igual probabilidad asignada a cada valor."
   ]
  },
  {
   "attachments": {},
   "cell_type": "markdown",
   "metadata": {},
   "source": [
    "![Distribución Uniforme Discreta](../img/Distribuci%C3%B3n%20Uniforme%20Discreta.jpg \"Distribución Uniforme Discreta\")"
   ]
  },
  {
   "attachments": {},
   "cell_type": "markdown",
   "metadata": {},
   "source": [
    "## **Distribución de Bernoulli**"
   ]
  },
  {
   "attachments": {},
   "cell_type": "markdown",
   "metadata": {},
   "source": [
    "La distribución de Bernoulli es una distribución de probabilidad discreta que modela un experimento aleatorio con dos posibles resultados: éxito o fracaso. Se utiliza para describir situaciones en las que un evento ocurre con una probabilidad constante `p` de éxito y una probabilidad de (`1-p`) de fracaso.\n",
    "\n",
    "En Python, puedes trabajar con la distribución de Bernoulli utilizando la biblioteca NumPy y la función `numpy.random.binomial()`. A continuación se muestra un ejemplo de cómo generar una muestra aleatoria de una distribución de Bernoulli y graficar la distribución utilizando Matplotlib:"
   ]
  },
  {
   "cell_type": "code",
   "execution_count": 4,
   "metadata": {},
   "outputs": [
    {
     "data": {
      "image/png": "[encoded data removed]",
      "text/plain": [
       "<Figure size 432x288 with 1 Axes>"
      ]
     },
     "metadata": {
      "needs_background": "light"
     },
     "output_type": "display_data"
    }
   ],
   "source": [
    "import numpy as np\n",
    "import matplotlib.pyplot as plt\n",
    "\n",
    "# Parámetro de la distribución de Bernoulli\n",
    "p = 0.3  # Probabilidad de éxito\n",
    "\n",
    "# Generar una muestra aleatoria de la distribución\n",
    "muestra = np.random.binomial(n=1, p=p, size=1000)\n",
    "\n",
    "# Calcular las frecuencias de éxito y fracaso en la muestra\n",
    "frecuencia_exito = np.sum(muestra == 1)\n",
    "frecuencia_fracaso = np.sum(muestra == 0)\n",
    "\n",
    "# Graficar la distribución de Bernoulli\n",
    "plt.bar(['Éxito', 'Fracaso'], [frecuencia_exito, frecuencia_fracaso])\n",
    "plt.xlabel('Resultado')\n",
    "plt.ylabel('Frecuencia')\n",
    "plt.title('Distribución de Bernoulli')\n",
    "plt.show()"
   ]
  },
  {
   "attachments": {},
   "cell_type": "markdown",
   "metadata": {},
   "source": [
    "En este ejemplo, especificamos el parámetro `p` que representa la probabilidad de éxito en la distribución de Bernoulli. Generamos una muestra aleatoria utilizando `np.random.binomial()`, donde especificamos el tamaño de la muestra (`size=1000`), el número de ensayos (`n=1`) y la probabilidad de éxito (`p`).\n",
    "\n",
    "Luego, calculamos las frecuencias de éxito y fracaso en la muestra contando el número de ocurrencias de cada resultado utilizando `np.sum()` y la comparación `muestra == 1` y `muestra == 0`.\n",
    "\n",
    "Finalmente, graficamos la distribución utilizando `plt.bar()`, donde el eje `x` muestra los resultados posibles ('`Éxito`' y '`Fracaso`') y el eje `y` muestra las frecuencias correspondientes. El gráfico de barras muestra la distribución de Bernoulli, donde la altura de la barra de éxito representa la frecuencia de éxito y la altura de la barra de fracaso representa la frecuencia de fracaso.\n",
    "\n",
    "La distribución de Bernoulli es un caso especial de la distribución binomial con un solo ensayo. Es útil para modelar eventos binarios y entender la probabilidad de ocurrencia de un resultado en particular."
   ]
  },
  {
   "attachments": {},
   "cell_type": "markdown",
   "metadata": {},
   "source": [
    "## **Distribución Binomial**"
   ]
  },
  {
   "attachments": {},
   "cell_type": "markdown",
   "metadata": {},
   "source": [
    "La distribución binomial es una distribución de probabilidad discreta que describe el número de éxitos en un número fijo de ensayos independientes, donde cada ensayo tiene dos posibles resultados: éxito o fracaso. Esta distribución se caracteriza por dos parámetros: el número de ensayos (`n`) y la probabilidad de éxito en cada ensayo (`p`).\n",
    "\n",
    "En Python, puedes trabajar con la distribución binomial utilizando la biblioteca NumPy y la función `numpy.random.binomial()`. A continuación se muestra un ejemplo de cómo generar una muestra aleatoria de una distribución binomial y graficar la distribución utilizando Matplotlib:"
   ]
  },
  {
   "cell_type": "code",
   "execution_count": 5,
   "metadata": {},
   "outputs": [
    {
     "data": {
      "image/png": "[encoded data removed]",
      "text/plain": [
       "<Figure size 432x288 with 1 Axes>"
      ]
     },
     "metadata": {
      "needs_background": "light"
     },
     "output_type": "display_data"
    }
   ],
   "source": [
    "import numpy as np\n",
    "import matplotlib.pyplot as plt\n",
    "\n",
    "# Parámetros de la distribución binomial\n",
    "n = 10  # Número de ensayos\n",
    "p = 0.5  # Probabilidad de éxito\n",
    "\n",
    "# Generar una muestra aleatoria de la distribución\n",
    "muestra = np.random.binomial(n=n, p=p, size=1000)\n",
    "\n",
    "# Calcular las frecuencias de cada número de éxitos en la muestra\n",
    "frecuencias = np.bincount(muestra)\n",
    "\n",
    "# Graficar la distribución binomial\n",
    "plt.bar(range(len(frecuencias)), frecuencias / len(muestra))\n",
    "plt.xlabel('Número de éxitos')\n",
    "plt.ylabel('Probabilidad')\n",
    "plt.title('Distribución binomial')\n",
    "plt.show()"
   ]
  },
  {
   "attachments": {},
   "cell_type": "markdown",
   "metadata": {},
   "source": [
    "En este ejemplo, especificamos los parámetros de la distribución binomial: el número de ensayos (`n`) y la probabilidad de éxito en cada ensayo (`p`). Luego, generamos una muestra aleatoria utilizando `np.random.binomial()`, donde especificamos el tamaño de la muestra (`size=1000`), el número de ensayos (`n`) y la probabilidad de éxito (`p`).\n",
    "\n",
    "Después de obtener la muestra, utilizamos `np.bincount()` para contar las frecuencias de cada número de éxitos en la muestra. La función `bincount()` devuelve un arreglo con las frecuencias, donde el índice del arreglo corresponde al número de éxitos.\n",
    "\n",
    "Finalmente, graficamos la distribución binomial utilizando `plt.bar()`, donde el eje `x` muestra los números de éxitos posibles y el eje `y` muestra las probabilidades correspondientes. Dividimos las frecuencias entre el tamaño de la muestra para obtener las probabilidades relativas.\n",
    "\n",
    "El resultado es un gráfico de barras que muestra la distribución binomial, donde cada barra representa la probabilidad de obtener un determinado número de éxitos en los ensayos. La forma de la distribución binomial puede variar según los valores de los parámetros `n` y `p`, y se aproxima a una distribución normal cuando el número de ensayos es grande."
   ]
  },
  {
   "attachments": {},
   "cell_type": "markdown",
   "metadata": {},
   "source": [
    "## **Distribución de Poisson**"
   ]
  },
  {
   "attachments": {},
   "cell_type": "markdown",
   "metadata": {},
   "source": [
    "La distribución de Poisson es una distribución de probabilidad discreta que se utiliza para modelar eventos raros que ocurren de manera aleatoria en un intervalo de tiempo o espacio fijo. Se caracteriza por un único parámetro lambda (`λ`), que representa la tasa media de ocurrencia de esos eventos raros.\n",
    "\n",
    "En Python, puedes trabajar con la distribución de Poisson utilizando la biblioteca NumPy y la función `numpy.random.poisson()`. A continuación se muestra un ejemplo de cómo generar una muestra aleatoria de una distribución de Poisson y graficar la distribución utilizando Matplotlib:"
   ]
  },
  {
   "cell_type": "code",
   "execution_count": 6,
   "metadata": {},
   "outputs": [
    {
     "data": {
      "image/png": "[encoded data removed]",
      "text/plain": [
       "<Figure size 432x288 with 1 Axes>"
      ]
     },
     "metadata": {
      "needs_background": "light"
     },
     "output_type": "display_data"
    }
   ],
   "source": [
    "import numpy as np\n",
    "import matplotlib.pyplot as plt\n",
    "\n",
    "# Parámetro de la distribución de Poisson\n",
    "lambda_val = 3  # Tasa media de ocurrencia\n",
    "\n",
    "# Generar una muestra aleatoria de la distribución\n",
    "muestra = np.random.poisson(lam=lambda_val, size=1000)\n",
    "\n",
    "# Calcular las frecuencias de cada número de ocurrencias en la muestra\n",
    "frecuencias = np.bincount(muestra)\n",
    "\n",
    "# Graficar la distribución de Poisson\n",
    "plt.bar(range(len(frecuencias)), frecuencias / len(muestra))\n",
    "plt.xlabel('Número de ocurrencias')\n",
    "plt.ylabel('Probabilidad')\n",
    "plt.title('Distribución de Poisson')\n",
    "plt.show()"
   ]
  },
  {
   "attachments": {},
   "cell_type": "markdown",
   "metadata": {},
   "source": [
    "En este ejemplo, especificamos el parámetro lambda (`λ`) de la distribución de Poisson, que representa la tasa media de ocurrencia de los eventos raros. Luego, generamos una muestra aleatoria utilizando `np.random.poisson()`, donde especificamos el tamaño de la muestra (`size=1000`) y el valor de lambda (`lam=lambda_val`).\n",
    "\n",
    "Después de obtener la muestra, utilizamos `np.bincount()` para contar las frecuencias de cada número de ocurrencias en la muestra. La función `bincount()` devuelve un arreglo con las frecuencias, donde el índice del arreglo corresponde al número de ocurrencias.\n",
    "\n",
    "Finalmente, graficamos la distribución de Poisson utilizando `plt.bar()`, donde el eje `x` muestra los números de ocurrencias posibles y el eje `y` muestra las probabilidades correspondientes. Dividimos las frecuencias entre el tamaño de la muestra para obtener las probabilidades relativas.\n",
    "\n",
    "El resultado es un gráfico de barras que muestra la distribución de Poisson, donde cada barra representa la probabilidad de tener un determinado número de ocurrencias de eventos raros en el intervalo de tiempo o espacio. La forma de la distribución de Poisson es sesgada hacia la derecha y su media es igual al parámetro lambda (`λ`)."
   ]
  },
  {
   "attachments": {},
   "cell_type": "markdown",
   "metadata": {},
   "source": [
    "## **Distribuciones de probabilidad continuas**"
   ]
  },
  {
   "attachments": {},
   "cell_type": "markdown",
   "metadata": {},
   "source": [
    "Las distribuciones de probabilidad continuas son aquellas en las que la variable aleatoria puede tomar valores en un rango continuo de números reales. A diferencia de las distribuciones de probabilidad discretas, en las que los valores posibles son aislados, las distribuciones continuas asignan probabilidades a intervalos de valores.\n",
    "\n",
    "Aquí tienes algunas distribuciones de probabilidad continuas comunes y ejemplos de cómo trabajar con ellas en Python utilizando las bibliotecas NumPy y Matplotlib:\n",
    "\n",
    "* **Distribución de probabilidad uniforme continua:**\n",
    "\n",
    "En esta distribución, todos los valores dentro de un intervalo tienen la misma probabilidad de ocurrencia. Es útil cuando todos los resultados dentro del intervalo son igualmente probables."
   ]
  },
  {
   "cell_type": "code",
   "execution_count": 7,
   "metadata": {},
   "outputs": [
    {
     "data": {
      "image/png": "[encoded data removed]",
      "text/plain": [
       "<Figure size 432x288 with 1 Axes>"
      ]
     },
     "metadata": {
      "needs_background": "light"
     },
     "output_type": "display_data"
    }
   ],
   "source": [
    "import numpy as np\n",
    "import matplotlib.pyplot as plt\n",
    "from scipy.stats import uniform\n",
    "\n",
    "# Distribución uniforme continua\n",
    "a = 0  # Valor mínimo del intervalo\n",
    "b = 10  # Valor máximo del intervalo\n",
    "\n",
    "# Generar una muestra aleatoria de la distribución\n",
    "muestra = np.random.uniform(a, b, size=1000)\n",
    "\n",
    "# Graficar la distribución\n",
    "plt.hist(muestra, bins=20, density=True)\n",
    "plt.xlabel('Valor')\n",
    "plt.ylabel('Densidad de probabilidad')\n",
    "plt.title('Distribución uniforme continua')\n",
    "plt.show()"
   ]
  },
  {
   "attachments": {},
   "cell_type": "markdown",
   "metadata": {},
   "source": [
    "En este ejemplo, utilizamos `np.random.uniform()` para generar una muestra aleatoria de la distribución uniforme continua en el intervalo `[0, 10]`. Graficamos la distribución utilizando `plt.hist()`, donde los valores se agrupan en `bins` (contenedores) y se muestra la densidad de probabilidad en el eje `y`.\n",
    "\n",
    "* **Distribución de probabilidad normal (o gaussiana):**\n",
    "\n",
    "La distribución normal es una de las distribuciones más importantes y utilizadas en estadística. Tiene una forma de campana y está completamente determinada por su media (`μ`) y desviación estándar (`σ`)."
   ]
  },
  {
   "cell_type": "code",
   "execution_count": 8,
   "metadata": {},
   "outputs": [
    {
     "data": {
      "image/png": "[encoded data removed]",
      "text/plain": [
       "<Figure size 432x288 with 1 Axes>"
      ]
     },
     "metadata": {
      "needs_background": "light"
     },
     "output_type": "display_data"
    }
   ],
   "source": [
    "import numpy as np\n",
    "import matplotlib.pyplot as plt\n",
    "from scipy.stats import norm\n",
    "\n",
    "# Distribución normal\n",
    "media = 0\n",
    "desviacion_estandar = 1\n",
    "\n",
    "# Generar una muestra aleatoria de la distribución\n",
    "muestra = np.random.normal(loc=media, scale=desviacion_estandar, size=1000)\n",
    "\n",
    "# Graficar la distribución\n",
    "plt.hist(muestra, bins=30, density=True)\n",
    "plt.xlabel('Valor')\n",
    "plt.ylabel('Densidad de probabilidad')\n",
    "plt.title('Distribución normal')\n",
    "plt.show()"
   ]
  },
  {
   "attachments": {},
   "cell_type": "markdown",
   "metadata": {},
   "source": [
    "En este ejemplo, utilizamos `np.random.normal()` para generar una muestra aleatoria de la distribución normal con media `0` y desviación estándar `1`. Graficamos la distribución utilizando `plt.hist()`, donde los valores se agrupan en `bins` y se muestra la densidad de probabilidad en el eje `y`.\n",
    "\n",
    "Estos son solo dos ejemplos de distribuciones de probabilidad continuas. Python proporciona una amplia gama de bibliotecas y funciones para trabajar con otras distribuciones continuas, como la distribución exponencial, la distribución de `Cauchy`, la distribución de `chi-cuadrado`, entre otras. Puedes explorar estas distribuciones y sus características para comprender mejor cómo se distribuyen los eventos continuos y sus respectivas probabilidades."
   ]
  },
  {
   "attachments": {},
   "cell_type": "markdown",
   "metadata": {},
   "source": [
    "## **Distribución uniforme**"
   ]
  },
  {
   "attachments": {},
   "cell_type": "markdown",
   "metadata": {},
   "source": [
    "La distribución uniforme es una distribución de probabilidad en la que todos los valores posibles dentro de un rango tienen la misma probabilidad de ocurrencia. Se caracteriza por una densidad de probabilidad constante en ese rango.\n",
    "\n",
    "En Python, puedes trabajar con la distribución uniforme utilizando la biblioteca NumPy y la función `numpy.random.uniform()`. A continuación se muestra un ejemplo de cómo generar una muestra aleatoria de una distribución uniforme y graficar la distribución utilizando Matplotlib:"
   ]
  },
  {
   "cell_type": "code",
   "execution_count": 9,
   "metadata": {},
   "outputs": [
    {
     "data": {
      "image/png": "[encoded data removed]",
      "text/plain": [
       "<Figure size 432x288 with 1 Axes>"
      ]
     },
     "metadata": {
      "needs_background": "light"
     },
     "output_type": "display_data"
    }
   ],
   "source": [
    "import numpy as np\n",
    "import matplotlib.pyplot as plt\n",
    "\n",
    "# Parámetros de la distribución uniforme\n",
    "a = 0  # Valor mínimo del rango\n",
    "b = 10  # Valor máximo del rango\n",
    "\n",
    "# Generar una muestra aleatoria de la distribución\n",
    "muestra = np.random.uniform(a, b, size=1000)\n",
    "\n",
    "# Graficar la distribución uniforme\n",
    "plt.hist(muestra, bins=20, density=True)\n",
    "plt.xlabel('Valor')\n",
    "plt.ylabel('Densidad de probabilidad')\n",
    "plt.title('Distribución uniforme')\n",
    "plt.show()"
   ]
  },
  {
   "attachments": {},
   "cell_type": "markdown",
   "metadata": {},
   "source": [
    "En este ejemplo, especificamos los parámetros de la distribución uniforme: el valor mínimo del rango (`a`) y el valor máximo del rango (`b`). Utilizamos `np.random.uniform()` para generar una muestra aleatoria de la distribución uniforme en ese rango. El parámetro size indica el tamaño de la muestra.\n",
    "\n",
    "Luego, utilizamos `plt.hist()` para graficar la distribución. El argumento `bins` indica el número de contenedores (`bins`) en los que se agruparán los valores, y `density=True` indica que se muestra la densidad de probabilidad en el eje `y` en lugar de las frecuencias absolutas.\n",
    "\n",
    "El resultado es un histograma que muestra la distribución uniforme, donde todos los valores dentro del rango `[a, b]` tienen la misma probabilidad de ocurrencia. La forma del histograma es plana, ya que todos los valores tienen la misma densidad de probabilidad.\n",
    "\n",
    "La distribución uniforme es comúnmente utilizada en situaciones en las que no hay razón para favorecer ningún valor dentro de un rango, como en algunos experimentos, muestreos aleatorios o generación de números aleatorios."
   ]
  },
  {
   "attachments": {},
   "cell_type": "markdown",
   "metadata": {},
   "source": [
    "## **Distribución exponencial**"
   ]
  },
  {
   "attachments": {},
   "cell_type": "markdown",
   "metadata": {},
   "source": [
    "La distribución exponencial es una distribución de probabilidad continua que modela el tiempo entre eventos en un proceso de Poisson, donde los eventos ocurren de manera independiente y a una tasa constante. Esta distribución se utiliza comúnmente para modelar el tiempo de espera antes de que ocurra un evento.\n",
    "\n",
    "En Python, puedes trabajar con la distribución exponencial utilizando la biblioteca NumPy y la función `numpy.random.exponential()`. A continuación se muestra un ejemplo de cómo generar una muestra aleatoria de una distribución exponencial y graficar la distribución utilizando Matplotlib:"
   ]
  },
  {
   "cell_type": "code",
   "execution_count": 10,
   "metadata": {},
   "outputs": [
    {
     "data": {
      "image/png": "[encoded data removed]",
      "text/plain": [
       "<Figure size 432x288 with 1 Axes>"
      ]
     },
     "metadata": {
      "needs_background": "light"
     },
     "output_type": "display_data"
    }
   ],
   "source": [
    "import numpy as np\n",
    "import matplotlib.pyplot as plt\n",
    "\n",
    "# Parámetro de la distribución exponencial\n",
    "lambd = 0.5  # Tasa de ocurrencia\n",
    "\n",
    "# Generar una muestra aleatoria de la distribución\n",
    "muestra = np.random.exponential(scale=1/lambd, size=1000)\n",
    "\n",
    "# Graficar la distribución exponencial\n",
    "plt.hist(muestra, bins=30, density=True)\n",
    "plt.xlabel('Valor')\n",
    "plt.ylabel('Densidad de probabilidad')\n",
    "plt.title('Distribución exponencial')\n",
    "plt.show()"
   ]
  },
  {
   "attachments": {},
   "cell_type": "markdown",
   "metadata": {},
   "source": [
    "En este ejemplo, especificamos el parámetro lambda (`λ`) de la distribución exponencial, que representa la tasa de ocurrencia de eventos por unidad de tiempo. Utilizamos `np.random.exponential()` para generar una muestra aleatoria de la distribución exponencial, donde el parámetro scale se calcula como el inverso de lambda (`1/λ`).\n",
    "\n",
    "Luego, utilizamos `plt.hist()` para graficar la distribución. El argumento `bins` indica el número de contenedores (`bins`) en los que se agruparán los valores, y `density=True` indica que se muestra la densidad de probabilidad en el eje `y` en lugar de las frecuencias absolutas.\n",
    "\n",
    "El resultado es un histograma que muestra la distribución exponencial, donde los valores más cercanos a cero tienen una densidad de probabilidad más alta y la densidad disminuye a medida que los valores aumentan. La forma de la distribución es asimétrica hacia la derecha.\n",
    "\n",
    "La distribución exponencial es útil para modelar eventos que ocurren de forma independiente en el tiempo, como el tiempo entre fallos en un sistema, el tiempo de espera en una cola o el tiempo de vida de ciertos productos."
   ]
  },
  {
   "attachments": {},
   "cell_type": "markdown",
   "metadata": {},
   "source": [
    "## **Distribución normal**"
   ]
  },
  {
   "attachments": {},
   "cell_type": "markdown",
   "metadata": {},
   "source": [
    "![Distribución normal](../img/Distribuci%C3%B3n%20normal.png \"Distribución normal\")"
   ]
  },
  {
   "attachments": {},
   "cell_type": "markdown",
   "metadata": {},
   "source": [
    "La distribución normal, también conocida como distribución de Gauss o campana de Gauss, es una de las distribuciones de probabilidad más importantes y ampliamente utilizadas en estadística. Se caracteriza por tener una forma de campana simétrica alrededor de su media y una dispersión determinada por su desviación estándar.\n",
    "\n",
    "En Python, puedes trabajar con la distribución normal utilizando la biblioteca NumPy y la función `numpy.random.normal()`. A continuación se muestra un ejemplo de cómo generar una muestra aleatoria de una distribución normal y graficar la distribución utilizando Matplotlib:"
   ]
  },
  {
   "cell_type": "code",
   "execution_count": 11,
   "metadata": {},
   "outputs": [
    {
     "data": {
      "image/png": "[encoded data removed]",
      "text/plain": [
       "<Figure size 432x288 with 1 Axes>"
      ]
     },
     "metadata": {
      "needs_background": "light"
     },
     "output_type": "display_data"
    }
   ],
   "source": [
    "import numpy as np\n",
    "import matplotlib.pyplot as plt\n",
    "\n",
    "# Parámetros de la distribución normal\n",
    "media = 0  # Media\n",
    "desviacion_estandar = 1  # Desviación estándar\n",
    "\n",
    "# Generar una muestra aleatoria de la distribución\n",
    "muestra = np.random.normal(loc=media, scale=desviacion_estandar, size=1000)\n",
    "\n",
    "# Graficar la distribución normal\n",
    "plt.hist(muestra, bins=30, density=True)\n",
    "plt.xlabel('Valor')\n",
    "plt.ylabel('Densidad de probabilidad')\n",
    "plt.title('Distribución normal')\n",
    "plt.show()"
   ]
  },
  {
   "attachments": {},
   "cell_type": "markdown",
   "metadata": {},
   "source": [
    "En este ejemplo, especificamos los parámetros de la distribución normal: la media (`loc`) y la desviación estándar (`scale`). Utilizamos `np.random.normal()` para generar una muestra aleatoria de la distribución normal con los parámetros dados. El parámetro size indica el tamaño de la muestra.\n",
    "\n",
    "Luego, utilizamos `plt.hist()` para graficar la distribución. El argumento `bins` indica el número de contenedores (`bins`) en los que se agruparán los valores, y `density=True` indica que se muestra la densidad de probabilidad en el eje `y` en lugar de las frecuencias absolutas.\n",
    "\n",
    "El resultado es un histograma que muestra la distribución normal, donde los valores están agrupados alrededor de la media y la densidad de probabilidad es más alta en el centro de la campana y disminuye a medida que nos alejamos de la media en ambas direcciones. La forma de la distribución es simétrica y su media y desviación estándar determinan la ubicación y la dispersión de la campana, respectivamente.\n",
    "\n",
    "La distribución normal es ampliamente utilizada debido a su relación con muchos fenómenos naturales y su comportamiento bien conocido en estadística. Se aplica en una variedad de campos, como ciencias físicas, ciencias sociales, ingeniería y finanzas."
   ]
  },
  {
   "attachments": {},
   "cell_type": "markdown",
   "metadata": {},
   "source": [
    "## **Distribución Chi-cuadrado**"
   ]
  },
  {
   "attachments": {},
   "cell_type": "markdown",
   "metadata": {},
   "source": [
    "La distribución chi-cuadrado es una distribución de probabilidad continua que surge en el contexto de la inferencia estadística y se utiliza en diversos análisis, como pruebas de bondad de ajuste y pruebas de independencia. Esta distribución se caracteriza por ser asimétrica y solo toma valores no negativos.\n",
    "\n",
    "En Python, puedes trabajar con la distribución chi-cuadrado utilizando la biblioteca NumPy y la función `numpy.random.chisquare()`. A continuación se muestra un ejemplo de cómo generar una muestra aleatoria de una distribución chi-cuadrado y graficar la distribución utilizando Matplotlib:"
   ]
  },
  {
   "cell_type": "code",
   "execution_count": 12,
   "metadata": {},
   "outputs": [
    {
     "data": {
      "image/png": "[encoded data removed]",
      "text/plain": [
       "<Figure size 432x288 with 1 Axes>"
      ]
     },
     "metadata": {
      "needs_background": "light"
     },
     "output_type": "display_data"
    }
   ],
   "source": [
    "import numpy as np\n",
    "import matplotlib.pyplot as plt\n",
    "\n",
    "# Grados de libertad de la distribución chi-cuadrado\n",
    "grados_libertad = 5\n",
    "\n",
    "# Generar una muestra aleatoria de la distribución\n",
    "muestra = np.random.chisquare(df=grados_libertad, size=1000)\n",
    "\n",
    "# Graficar la distribución chi-cuadrado\n",
    "plt.hist(muestra, bins=30, density=True)\n",
    "plt.xlabel('Valor')\n",
    "plt.ylabel('Densidad de probabilidad')\n",
    "plt.title('Distribución chi-cuadrado')\n",
    "plt.show()"
   ]
  },
  {
   "attachments": {},
   "cell_type": "markdown",
   "metadata": {},
   "source": [
    "En este ejemplo, especificamos los grados de libertad (`df`) de la distribución chi-cuadrado. Los grados de libertad representan el número de sumandos independientes que conforman la distribución. Utilizamos `np.random.chisquare()` para generar una muestra aleatoria de la distribución chi-cuadrado con los grados de libertad dados. El parámetro size indica el tamaño de la muestra.\n",
    "\n",
    "Luego, utilizamos `plt.hist()` para graficar la distribución. El argumento `bins` indica el número de contenedores (`bins`) en los que se agruparán los valores, y `density=True` indica que se muestra la densidad de probabilidad en el eje `y` en lugar de las frecuencias absolutas.\n",
    "\n",
    "El resultado es un histograma que muestra la distribución chi-cuadrado, donde los valores están agrupados hacia la derecha y la densidad de probabilidad es más alta en valores mayores de la variable. La forma de la distribución es asimétrica y su apariencia depende de los grados de libertad.\n",
    "\n",
    "La distribución chi-cuadrado se utiliza en diversos análisis estadísticos, como pruebas de bondad de ajuste para comparar la distribución observada con una distribución teórica, y pruebas de independencia para evaluar la relación entre variables categóricas. La elección adecuada de los grados de libertad es fundamental para aplicar correctamente esta distribución en el contexto del análisis estadístico."
   ]
  },
  {
   "attachments": {},
   "cell_type": "markdown",
   "metadata": {},
   "source": [
    "## **Distribución t-Student**"
   ]
  },
  {
   "attachments": {},
   "cell_type": "markdown",
   "metadata": {},
   "source": [
    "La distribución t de Student, o simplemente distribución t, es una distribución de probabilidad utilizada en estadística para estimar la incertidumbre asociada a una muestra pequeña. Es especialmente útil cuando los datos no siguen una distribución normal y el tamaño de la muestra es limitado.\n",
    "\n",
    "La distribución t surge cuando se realiza una prueba de hipótesis o un intervalo de confianza sobre la media de una población, y se desconoce la desviación estándar de la población. A diferencia de la distribución normal, la distribución t tiene colas más gruesas, lo que significa que hay más probabilidad en los extremos y menos en el centro.\n",
    "\n",
    "En Python, puedes trabajar con la distribución t utilizando la biblioteca SciPy y la función `scipy.stats.t`. A continuación se muestra un ejemplo de cómo generar una muestra aleatoria de una distribución t y graficar la distribución utilizando Matplotlib:"
   ]
  },
  {
   "cell_type": "code",
   "execution_count": 13,
   "metadata": {},
   "outputs": [
    {
     "data": {
      "image/png": "[encoded data removed]",
      "text/plain": [
       "<Figure size 432x288 with 1 Axes>"
      ]
     },
     "metadata": {
      "needs_background": "light"
     },
     "output_type": "display_data"
    }
   ],
   "source": [
    "import numpy as np\n",
    "import matplotlib.pyplot as plt\n",
    "from scipy.stats import t\n",
    "\n",
    "# Grados de libertad de la distribución t\n",
    "grados_libertad = 10\n",
    "\n",
    "# Generar una muestra aleatoria de la distribución\n",
    "muestra = np.random.standard_t(df=grados_libertad, size=1000)\n",
    "\n",
    "# Valores para el eje x\n",
    "x = np.linspace(t.ppf(0.001, df=grados_libertad), t.ppf(0.999, df=grados_libertad), 100)\n",
    "\n",
    "# Graficar la distribución t\n",
    "plt.plot(x, t.pdf(x, df=grados_libertad), label='Distribución t')\n",
    "plt.xlabel('Valor')\n",
    "plt.ylabel('Densidad de probabilidad')\n",
    "plt.title('Distribución t')\n",
    "plt.legend()\n",
    "plt.show()"
   ]
  },
  {
   "attachments": {},
   "cell_type": "markdown",
   "metadata": {},
   "source": [
    "En este ejemplo, especificamos los grados de libertad (`df`) de la distribución t. Los grados de libertad determinan la forma de la distribución t y afectan el ancho de las colas. Utilizamos `np.random.standard_t()` para generar una muestra aleatoria de la distribución t con los grados de libertad dados. El parámetro size indica el tamaño de la muestra.\n",
    "\n",
    "Luego, utilizamos `t.ppf()` para obtener los valores correspondientes en el eje `x`. La función `ppf()` devuelve el percentil asociado a un valor de probabilidad acumulada. Utilizamos estos valores para crear un arreglo `x` que representará el rango de valores de la distribución t.\n",
    "\n",
    "A continuación, utilizamos `t.pdf()` para calcular la densidad de probabilidad en cada punto de `x`, utilizando los grados de libertad especificados. Finalmente, graficamos la distribución t utilizando `plt.plot()`, donde el eje `x` representa los valores y el eje `y` representa la densidad de probabilidad.\n",
    "\n",
    "El resultado es una gráfica de la distribución t, que muestra la forma característica con colas más gruesas en comparación con la distribución normal. La forma de la distribución t depende de los grados de libertad, donde a medida que el número de grados de libertad aumenta, la distribución t se aproxima a una distribución normal estándar.\n",
    "\n",
    "La distribución t es útil para realizar inferencias sobre la media de una población cuando el tamaño de la muestra es pequeño y la desviación estándar poblacional es desconocida."
   ]
  },
  {
   "attachments": {},
   "cell_type": "markdown",
   "metadata": {},
   "source": [
    "## **Distribución F**"
   ]
  },
  {
   "attachments": {},
   "cell_type": "markdown",
   "metadata": {},
   "source": [
    "La distribución F, también conocida como distribución F de Fisher-Snedecor, es una distribución de probabilidad continua que se utiliza en estadística para realizar pruebas de hipótesis y análisis de varianza (ANOVA). Se utiliza principalmente para comparar la variabilidad entre dos o más grupos o tratamientos.\n",
    "\n",
    "La distribución F tiene dos parámetros de grado de libertad, uno para el numerador (grados de libertad del numerador) y otro para el denominador (grados de libertad del denominador). Los grados de libertad del numerador están asociados con la variabilidad entre grupos, mientras que los grados de libertad del denominador están asociados con la variabilidad dentro de los grupos.\n",
    "\n",
    "En Python, puedes trabajar con la distribución F utilizando la biblioteca SciPy y la función `scipy.stats.f`. A continuación se muestra un ejemplo de cómo generar una muestra aleatoria de una distribución F y graficar la distribución utilizando Matplotlib:"
   ]
  },
  {
   "cell_type": "code",
   "execution_count": 14,
   "metadata": {},
   "outputs": [
    {
     "data": {
      "image/png": "[encoded data removed]",
      "text/plain": [
       "<Figure size 432x288 with 1 Axes>"
      ]
     },
     "metadata": {
      "needs_background": "light"
     },
     "output_type": "display_data"
    }
   ],
   "source": [
    "import numpy as np\n",
    "import matplotlib.pyplot as plt\n",
    "from scipy.stats import f\n",
    "\n",
    "# Grados de libertad del numerador y del denominador de la distribución F\n",
    "dfn = 5  # Grados de libertad del numerador\n",
    "dfd = 10  # Grados de libertad del denominador\n",
    "\n",
    "# Generar una muestra aleatoria de la distribución\n",
    "muestra = np.random.f(dfn, dfd, size=1000)\n",
    "\n",
    "# Valores para el eje x\n",
    "x = np.linspace(f.ppf(0.001, dfn, dfd), f.ppf(0.999, dfn, dfd), 100)\n",
    "\n",
    "# Graficar la distribución F\n",
    "plt.plot(x, f.pdf(x, dfn, dfd), label='Distribución F')\n",
    "plt.xlabel('Valor')\n",
    "plt.ylabel('Densidad de probabilidad')\n",
    "plt.title('Distribución F')\n",
    "plt.legend()\n",
    "plt.show()"
   ]
  },
  {
   "attachments": {},
   "cell_type": "markdown",
   "metadata": {},
   "source": [
    "En este ejemplo, especificamos los grados de libertad del numerador (`dfn`) y del denominador (`dfd`) de la distribución F. Utilizamos `np.random.f()` para generar una muestra aleatoria de la distribución F con los grados de libertad dados. El parámetro size indica el tamaño de la muestra.\n",
    "\n",
    "Luego, utilizamos `f.ppf()` para obtener los valores correspondientes en el eje `x`. La función `ppf()` devuelve el percentil asociado a un valor de probabilidad acumulada. Utilizamos estos valores para crear un arreglo `x` que representará el rango de valores de la distribución F.\n",
    "\n",
    "A continuación, utilizamos `f.pdf()` para calcular la densidad de probabilidad en cada punto de `x`, utilizando los grados de libertad especificados. Finalmente, graficamos la distribución F utilizando `plt.plot()`, donde el eje `x` representa los valores y el eje `y` representa la densidad de probabilidad.\n",
    "\n",
    "El resultado es una gráfica de la distribución F, que muestra la forma característica de la distribución con colas largas y asimétricas. La forma de la distribución F depende de los grados de libertad del numerador y del denominador.\n",
    "\n",
    "La distribución F se utiliza en pruebas de hipótesis para comparar las varianzas de dos o más grupos, como en el análisis de varianza (ANOVA). También se utiliza en modelos de regresión, como el análisis de regresión lineal múltiple."
   ]
  },
  {
   "attachments": {},
   "cell_type": "markdown",
   "metadata": {},
   "source": [
    "![Distribución F](../img/Distribuci%C3%B3n%20F.png \"Distribución F\")"
   ]
  },
  {
   "attachments": {},
   "cell_type": "markdown",
   "metadata": {},
   "source": [
    "| **Inicio** | **atrás 2** | **Siguiente 4** |\n",
    "|----------- |-------------- |---------------|\n",
    "| [🏠](../../../README.md) | [⏪](./2.VARIABLES_ALEATORIAS.ipynb)| [⏩](./4.VISUALIZACION_DE_DATOS.ipynb)|"
   ]
  }
 ],
 "metadata": {
  "kernelspec": {
   "display_name": "base",
   "language": "python",
   "name": "python3"
  },
  "language_info": {
   "codemirror_mode": {
    "name": "ipython",
    "version": 3
   },
   "file_extension": ".py",
   "mimetype": "text/x-python",
   "name": "python",
   "nbconvert_exporter": "python",
   "pygments_lexer": "ipython3",
   "version": "3.9.12"
  },
  "orig_nbformat": 4
 },
 "nbformat": 4,
 "nbformat_minor": 2
}
