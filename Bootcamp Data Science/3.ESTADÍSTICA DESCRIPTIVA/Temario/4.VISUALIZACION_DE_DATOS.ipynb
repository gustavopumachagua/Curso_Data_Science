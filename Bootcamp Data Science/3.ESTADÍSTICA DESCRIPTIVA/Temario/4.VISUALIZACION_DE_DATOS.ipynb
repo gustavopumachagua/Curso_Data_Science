{
 "cells": [
  {
   "attachments": {},
   "cell_type": "markdown",
   "metadata": {},
   "source": [
    "| **Inicio** | **atrás 3** |\n",
    "|----------- |-------------- |\n",
    "| [🏠](../../../README.md) | [⏪](./3.DISTRIBUCIONES_DE_PROBABILIDAD.ipynb)|"
   ]
  },
  {
   "attachments": {},
   "cell_type": "markdown",
   "metadata": {},
   "source": [
    "# **4. VISUALIZACIÓN DE DATOS**"
   ]
  },
  {
   "attachments": {},
   "cell_type": "markdown",
   "metadata": {},
   "source": [
    "## **Tabla de datos**"
   ]
  },
  {
   "attachments": {},
   "cell_type": "markdown",
   "metadata": {},
   "source": [
    "Una tabla de datos es una estructura organizada que se utiliza para almacenar y presentar información de manera estructurada. Es una forma eficiente de organizar y manipular grandes conjuntos de datos en filas y columnas.\n",
    "\n",
    "En Python, una de las formas más comunes de trabajar con tablas de datos es utilizando la biblioteca Pandas, que proporciona la clase `DataFrame`. Un `DataFrame` es una estructura de datos bidimensional que permite almacenar datos de diferentes tipos en columnas etiquetadas.\n",
    "\n",
    "A continuación, te mostraré cómo crear y trabajar con una tabla de datos utilizando Pandas:"
   ]
  },
  {
   "cell_type": "code",
   "execution_count": 1,
   "metadata": {},
   "outputs": [
    {
     "name": "stdout",
     "output_type": "stream",
     "text": [
      "  Nombre  Edad     Ciudad\n",
      "0    Ana    25     Madrid\n",
      "1   Juan    30  Barcelona\n",
      "2  María    35   Valencia\n",
      "3  Pedro    28    Sevilla\n"
     ]
    }
   ],
   "source": [
    "import pandas as pd\n",
    "\n",
    "# Crear un DataFrame\n",
    "data = {'Nombre': ['Ana', 'Juan', 'María', 'Pedro'],\n",
    "        'Edad': [25, 30, 35, 28],\n",
    "        'Ciudad': ['Madrid', 'Barcelona', 'Valencia', 'Sevilla']}\n",
    "\n",
    "df = pd.DataFrame(data)\n",
    "\n",
    "# Imprimir el DataFrame\n",
    "print(df)"
   ]
  },
  {
   "attachments": {},
   "cell_type": "markdown",
   "metadata": {},
   "source": [
    "En este ejemplo, creamos un diccionario data que contiene los datos que queremos almacenar en nuestra tabla. Las claves del diccionario representan los nombres de las columnas, y los valores del diccionario son las listas de valores correspondientes a cada columna.\n",
    "\n",
    "Luego, utilizamos `pd.DataFrame()` para crear el DataFrame a partir del diccionario data. Pandas asignará automáticamente los nombres de las columnas y los valores a sus respectivas posiciones en la tabla de datos.\n",
    "\n",
    "Finalmente, imprimimos el DataFrame utilizando `print(df)`, lo que nos dará como resultado una tabla con las columnas \"`Nombre`\", \"`Edad`\" y \"`Ciudad`\", y sus respectivos valores.\n",
    "\n",
    "Pandas también proporciona una variedad de funcionalidades para trabajar con tablas de datos, como filtrar filas, seleccionar columnas, realizar operaciones matemáticas, fusionar y combinar tablas, entre otras. También puedes realizar visualizaciones gráficas utilizando bibliotecas como Matplotlib o Seaborn para representar los datos de la tabla en forma de gráficas.\n",
    "\n",
    "En resumen, una tabla de datos es una estructura organizada que nos permite almacenar y manipular información de manera estructurada. En Python, Pandas es una biblioteca ampliamente utilizada para trabajar con tablas de datos y ofrece una amplia gama de funcionalidades para el análisis y la manipulación de datos tabulares."
   ]
  },
  {
   "attachments": {},
   "cell_type": "markdown",
   "metadata": {},
   "source": [
    "## **Medidas de tendencia central: media, moda, mediana, cuartiles**"
   ]
  },
  {
   "attachments": {},
   "cell_type": "markdown",
   "metadata": {},
   "source": [
    "Las medidas de tendencia central son herramientas estadísticas utilizadas para resumir y describir un conjunto de datos. Estas medidas proporcionan una idea de dónde se concentran los valores en relación con un punto central. Las principales medidas de tendencia central son la media, la moda, la mediana y los cuartiles. A continuación, te proporcionaré una explicación detallada de cada una de ellas, junto con ejemplos de código en Python y gráficas.\n",
    "\n",
    "* **Media:**\n",
    "\n",
    "La media es la medida de tendencia central más comúnmente utilizada. Se calcula sumando todos los valores en el conjunto de datos y dividiéndolos por la cantidad total de valores. La fórmula para calcular la media es la siguiente:"
   ]
  },
  {
   "attachments": {},
   "cell_type": "markdown",
   "metadata": {},
   "source": [
    "`media = sum(valores) / cantidad_de_valores`"
   ]
  },
  {
   "attachments": {},
   "cell_type": "markdown",
   "metadata": {},
   "source": [
    "Aquí tienes un ejemplo de código Python para calcular la media:"
   ]
  },
  {
   "cell_type": "code",
   "execution_count": 3,
   "metadata": {},
   "outputs": [
    {
     "name": "stdout",
     "output_type": "stream",
     "text": [
      "Media: 5.0\n"
     ]
    }
   ],
   "source": [
    "valores = [5, 7, 8, 3, 2, 6, 9, 5, 1, 4]\n",
    "media = sum(valores) / len(valores)\n",
    "print(\"Media:\", media)"
   ]
  },
  {
   "attachments": {},
   "cell_type": "markdown",
   "metadata": {},
   "source": [
    "* **Moda:**\n",
    "\n",
    "La moda es el valor que aparece con mayor frecuencia en un conjunto de datos. Un conjunto de datos puede tener una moda única (unimodal) o múltiples modas (multimodal). Si todos los valores ocurren con la misma frecuencia, el conjunto de datos se considera amodal y no tiene una moda clara. Para calcular la moda en Python, puedes utilizar la función `mode()` del módulo `statistics`.\n",
    "\n",
    "Aquí tienes un ejemplo de código Python para calcular la moda:"
   ]
  },
  {
   "cell_type": "code",
   "execution_count": 4,
   "metadata": {},
   "outputs": [
    {
     "name": "stdout",
     "output_type": "stream",
     "text": [
      "Moda: 5\n"
     ]
    }
   ],
   "source": [
    "import statistics\n",
    "\n",
    "valores = [5, 7, 8, 3, 2, 6, 9, 5, 1, 4]\n",
    "moda = statistics.mode(valores)\n",
    "print(\"Moda:\", moda)"
   ]
  },
  {
   "attachments": {},
   "cell_type": "markdown",
   "metadata": {},
   "source": [
    "* **Mediana:**\n",
    "\n",
    "La mediana es el valor que se encuentra en el medio de un conjunto de datos ordenados de forma ascendente o descendente. Para calcular la mediana, es necesario ordenar el conjunto de datos y encontrar el valor del medio. Si el conjunto de datos tiene un número par de valores, se toma el promedio de los dos valores del medio. En Python, puedes utilizar la función `median()` del módulo statistics para calcular la mediana.\n",
    "\n",
    "Aquí tienes un ejemplo de código Python para calcular la mediana:"
   ]
  },
  {
   "cell_type": "code",
   "execution_count": 5,
   "metadata": {},
   "outputs": [
    {
     "name": "stdout",
     "output_type": "stream",
     "text": [
      "Mediana: 5.0\n"
     ]
    }
   ],
   "source": [
    "import statistics\n",
    "\n",
    "valores = [5, 7, 8, 3, 2, 6, 9, 5, 1, 4]\n",
    "mediana = statistics.median(valores)\n",
    "print(\"Mediana:\", mediana)"
   ]
  },
  {
   "attachments": {},
   "cell_type": "markdown",
   "metadata": {},
   "source": [
    "* **Cuartiles:**\n",
    "\n",
    "Los cuartiles son valores que dividen un conjunto de datos ordenados en cuatro partes iguales. El primer cuartil (`Q1`) representa el valor por debajo del cual se encuentra el 25% de los datos. El segundo cuartil (`Q2`) es la mediana y separa el 50% de los datos. El tercer cuartil (`Q3`) divide el 75% de los datos y se encuentra por debajo del 25% superior. Para calcular los cuartiles en Python, puedes utilizar la función `quantile()` del módulo numpy.\n",
    "\n",
    "Aquí tienes un ejemplo de código Python para calcular los cuartiles:"
   ]
  },
  {
   "cell_type": "code",
   "execution_count": 7,
   "metadata": {},
   "outputs": [
    {
     "name": "stdout",
     "output_type": "stream",
     "text": [
      "Primer cuartil (Q1): 3.25\n",
      "Mediana: 5.0\n",
      "Tercer cuartil (Q3): 6.75\n"
     ]
    }
   ],
   "source": [
    "import numpy as np\n",
    "\n",
    "valores = [5, 7, 8, 3, 2, 6, 9, 5, 1, 4]\n",
    "cuartiles = np.percentile(valores, [25, 50, 75])\n",
    "Q1, mediana, Q3 = cuartiles\n",
    "print(\"Primer cuartil (Q1):\", Q1)\n",
    "print(\"Mediana:\", mediana)\n",
    "print(\"Tercer cuartil (Q3):\", Q3)"
   ]
  },
  {
   "attachments": {},
   "cell_type": "markdown",
   "metadata": {},
   "source": [
    "Ahora, vamos a graficar un diagrama de caja (`boxplot`) que nos permitirá visualizar los cuartiles y otros estadísticos importantes:"
   ]
  },
  {
   "cell_type": "code",
   "execution_count": 8,
   "metadata": {},
   "outputs": [
    {
     "data": {
      "image/png": "[encoded data removed]",
      "text/plain": [
       "<Figure size 432x288 with 1 Axes>"
      ]
     },
     "metadata": {
      "needs_background": "light"
     },
     "output_type": "display_data"
    }
   ],
   "source": [
    "import matplotlib.pyplot as plt\n",
    "\n",
    "plt.boxplot(valores)\n",
    "plt.title(\"Diagrama de Caja\")\n",
    "plt.xlabel(\"Datos\")\n",
    "plt.ylabel(\"Valores\")\n",
    "plt.show()"
   ]
  },
  {
   "attachments": {},
   "cell_type": "markdown",
   "metadata": {},
   "source": [
    "Este código generará una gráfica con un diagrama de caja que mostrará los cuartiles (`Q1`, `mediana` y `Q3`), así como los valores atípicos si existen.\n",
    "\n",
    "Recuerda que para ejecutar estos ejemplos de código, necesitarás tener instaladas las bibliotecas `statistics`, numpy y matplotlib en tu entorno de Python.\n",
    "\n",
    "Espero que esta explicación detallada junto con los ejemplos de código y las gráficas te hayan sido útiles para comprender las medidas de tendencia central: media, moda, mediana y cuartiles. Estas medidas son herramientas útiles para resumir y analizar conjuntos de datos."
   ]
  },
  {
   "attachments": {},
   "cell_type": "markdown",
   "metadata": {},
   "source": [
    "## **Medidas de dispersión: rango, varianza, desviación estándar**"
   ]
  },
  {
   "attachments": {},
   "cell_type": "markdown",
   "metadata": {},
   "source": [
    "Las medidas de dispersión son herramientas estadísticas que nos permiten evaluar la variabilidad o dispersión de un conjunto de datos. Las principales medidas de dispersión son el rango, la varianza y la desviación estándar. A continuación, te proporcionaré una explicación detallada de cada una de ellas, junto con ejemplos de código en Python y gráficas.\n",
    "\n",
    "* **Rango:**\n",
    "\n",
    "El rango es la diferencia entre el valor máximo y el valor mínimo en un conjunto de datos. Proporciona una idea de la amplitud total de los datos. Cuanto mayor sea el rango, mayor será la dispersión de los datos. Para calcular el rango en Python, puedes utilizar las funciones `min()` y `max()`.\n",
    "\n",
    "Aquí tienes un ejemplo de código Python para calcular el rango:"
   ]
  },
  {
   "cell_type": "code",
   "execution_count": 9,
   "metadata": {},
   "outputs": [
    {
     "name": "stdout",
     "output_type": "stream",
     "text": [
      "Rango: 8\n"
     ]
    }
   ],
   "source": [
    "valores = [5, 7, 8, 3, 2, 6, 9, 5, 1, 4]\n",
    "rango = max(valores) - min(valores)\n",
    "print(\"Rango:\", rango)"
   ]
  },
  {
   "attachments": {},
   "cell_type": "markdown",
   "metadata": {},
   "source": [
    "* **Varianza:**\n",
    "\n",
    "La varianza es una medida de dispersión que indica cuánto se alejan los valores individuales de la media. Se calcula tomando la media de los cuadrados de las diferencias entre cada valor y la media. Una varianza alta indica una mayor dispersión de los datos. Para calcular la varianza en Python, puedes utilizar la función `variance()` del módulo `statistics`.\n",
    "\n",
    "Aquí tienes un ejemplo de código Python para calcular la varianza:"
   ]
  },
  {
   "cell_type": "code",
   "execution_count": 10,
   "metadata": {},
   "outputs": [
    {
     "name": "stdout",
     "output_type": "stream",
     "text": [
      "Varianza: 6.666666666666667\n"
     ]
    }
   ],
   "source": [
    "import statistics\n",
    "\n",
    "valores = [5, 7, 8, 3, 2, 6, 9, 5, 1, 4]\n",
    "varianza = statistics.variance(valores)\n",
    "print(\"Varianza:\", varianza)"
   ]
  },
  {
   "attachments": {},
   "cell_type": "markdown",
   "metadata": {},
   "source": [
    "* **Desviación estándar:**\n",
    "\n",
    "La desviación estándar es la raíz cuadrada de la varianza. Representa la dispersión promedio de los datos con respecto a la media. Una desviación estándar alta indica una mayor dispersión de los datos. Para calcular la desviación estándar en Python, puedes utilizar la función `stdev()` del módulo `statistics`.\n",
    "\n",
    "Aquí tienes un ejemplo de código Python para calcular la desviación estándar:"
   ]
  },
  {
   "cell_type": "code",
   "execution_count": 11,
   "metadata": {},
   "outputs": [
    {
     "name": "stdout",
     "output_type": "stream",
     "text": [
      "Desviación estándar: 2.581988897471611\n"
     ]
    }
   ],
   "source": [
    "import statistics\n",
    "\n",
    "valores = [5, 7, 8, 3, 2, 6, 9, 5, 1, 4]\n",
    "desviacion_estandar = statistics.stdev(valores)\n",
    "print(\"Desviación estándar:\", desviacion_estandar)"
   ]
  },
  {
   "attachments": {},
   "cell_type": "markdown",
   "metadata": {},
   "source": [
    "Ahora, vamos a graficar un histograma que nos permitirá visualizar la distribución de los datos:"
   ]
  },
  {
   "cell_type": "code",
   "execution_count": 12,
   "metadata": {},
   "outputs": [
    {
     "data": {
      "image/png": "[encoded data removed]",
      "text/plain": [
       "<Figure size 432x288 with 1 Axes>"
      ]
     },
     "metadata": {
      "needs_background": "light"
     },
     "output_type": "display_data"
    }
   ],
   "source": [
    "import matplotlib.pyplot as plt\n",
    "\n",
    "plt.hist(valores, bins=5)\n",
    "plt.title(\"Histograma\")\n",
    "plt.xlabel(\"Valores\")\n",
    "plt.ylabel(\"Frecuencia\")\n",
    "plt.show()"
   ]
  },
  {
   "attachments": {},
   "cell_type": "markdown",
   "metadata": {},
   "source": [
    "Este código generará una gráfica con un histograma que muestra la frecuencia de los valores en el conjunto de datos.\n",
    "\n",
    "Recuerda que para ejecutar estos ejemplos de código, necesitarás tener instalada la biblioteca `statistics` y `matplotlib` en tu entorno de Python.\n",
    "\n",
    "Espero que esta explicación detallada junto con los ejemplos de código y las gráficas te hayan sido útiles para comprender las medidas de dispersión: rango, varianza y desviación estándar.\n",
    "\n",
    " Estas medidas nosayudan a comprender la dispersión de los datos y a evaluar la variabilidad de un conjunto de datos."
   ]
  },
  {
   "attachments": {},
   "cell_type": "markdown",
   "metadata": {},
   "source": [
    "## **Tabla de frecuencias**"
   ]
  },
  {
   "attachments": {},
   "cell_type": "markdown",
   "metadata": {},
   "source": [
    "Una tabla de frecuencias es una herramienta estadística que resume la distribución de frecuencias de un conjunto de datos. Esta tabla muestra la cantidad de veces que ocurre cada valor en un conjunto de datos, lo que proporciona una visión clara de la distribución de los datos. A continuación, te proporcionaré una explicación detallada de cómo crear una tabla de frecuencias en Python, junto con un ejemplo de código y una gráfica.\n",
    "\n",
    "Para crear una tabla de frecuencias en Python, puedes seguir los siguientes pasos:\n",
    "\n",
    "1. Organiza los datos en orden ascendente o descendente.\n",
    "2. Crea una lista de valores únicos presentes en el conjunto de datos.\n",
    "3. Para cada valor único, cuenta la cantidad de veces que aparece en el conjunto de datos.\n",
    "4. Crea una tabla que muestre cada valor único junto con su frecuencia.\n",
    "\n",
    "Aquí tienes un ejemplo de código Python para crear una tabla de frecuencias:"
   ]
  },
  {
   "cell_type": "code",
   "execution_count": 13,
   "metadata": {},
   "outputs": [
    {
     "name": "stdout",
     "output_type": "stream",
     "text": [
      "   Valor  Frecuencia\n",
      "0      1           1\n",
      "1      2           1\n",
      "2      3           1\n",
      "3      4           1\n",
      "4      5           2\n",
      "5      6           1\n",
      "6      7           1\n",
      "7      8           1\n",
      "8      9           1\n"
     ]
    }
   ],
   "source": [
    "import pandas as pd\n",
    "\n",
    "valores = [5, 7, 8, 3, 2, 6, 9, 5, 1, 4]\n",
    "\n",
    "# Paso 1: Ordenar los datos\n",
    "valores_ordenados = sorted(valores)\n",
    "\n",
    "# Paso 2: Obtener valores únicos\n",
    "valores_unicos = list(set(valores_ordenados))\n",
    "\n",
    "# Paso 3 y 4: Calcular la frecuencia para cada valor único\n",
    "frecuencias = []\n",
    "for valor in valores_unicos:\n",
    "    frecuencia = valores_ordenados.count(valor)\n",
    "    frecuencias.append(frecuencia)\n",
    "\n",
    "# Crear la tabla de frecuencias utilizando un DataFrame de pandas\n",
    "tabla_frecuencias = pd.DataFrame({'Valor': valores_unicos, 'Frecuencia': frecuencias})\n",
    "\n",
    "print(tabla_frecuencias)"
   ]
  },
  {
   "attachments": {},
   "cell_type": "markdown",
   "metadata": {},
   "source": [
    "Este código generará una tabla de frecuencias que muestra cada valor único y la cantidad de veces que aparece en el conjunto de datos.\n",
    "\n",
    "Además de la tabla de frecuencias, también puedes visualizar la distribución de los datos utilizando un diagrama de barras. Aquí tienes un ejemplo de código para crear un diagrama de barras a partir de la tabla de frecuencias utilizando la biblioteca matplotlib:"
   ]
  },
  {
   "cell_type": "code",
   "execution_count": 14,
   "metadata": {},
   "outputs": [
    {
     "data": {
      "image/png": "[encoded data removed]",
      "text/plain": [
       "<Figure size 432x288 with 1 Axes>"
      ]
     },
     "metadata": {
      "needs_background": "light"
     },
     "output_type": "display_data"
    }
   ],
   "source": [
    "import matplotlib.pyplot as plt\n",
    "\n",
    "plt.bar(tabla_frecuencias['Valor'], tabla_frecuencias['Frecuencia'])\n",
    "plt.title(\"Diagrama de Barras - Tabla de Frecuencias\")\n",
    "plt.xlabel(\"Valor\")\n",
    "plt.ylabel(\"Frecuencia\")\n",
    "plt.show()"
   ]
  },
  {
   "attachments": {},
   "cell_type": "markdown",
   "metadata": {},
   "source": [
    "Este código generará un diagrama de barras que muestra la frecuencia de cada valor en el conjunto de datos.\n",
    "\n",
    "Recuerda que para ejecutar estos ejemplos de código, necesitarás tener instaladas las bibliotecas pandas y matplotlib en tu entorno de Python.\n",
    "\n",
    "Espero que esta explicación detallada junto con el ejemplo de código y la gráfica te hayan sido útiles para comprender cómo crear una tabla de frecuencias en Python. La tabla de frecuencias es una herramienta útil para resumir y visualizar la distribución de frecuencias en un conjunto de datos."
   ]
  },
  {
   "attachments": {},
   "cell_type": "markdown",
   "metadata": {},
   "source": [
    "## **Gráfico de barras, proporciones, líneas**"
   ]
  },
  {
   "attachments": {},
   "cell_type": "markdown",
   "metadata": {},
   "source": [
    "Los gráficos de barras, proporciones y líneas son diferentes tipos de visualizaciones que se utilizan en estadísticas y análisis de datos para representar información de manera clara y efectiva. A continuación, te proporcionaré una explicación detallada de cada uno de ellos, junto con ejemplos de código en Python y gráficas correspondientes.\n",
    "\n",
    "* **Gráfico de barras:**\n",
    "\n",
    "El gráfico de barras es una representación visual que muestra la comparación entre diferentes categorías o valores. Consiste en barras rectangulares de longitud proporcional a la magnitud o frecuencia de los datos que representan. Es especialmente útil para mostrar datos categóricos y comparar la frecuencia o el valor de diferentes categorías. En Python, puedes utilizar la biblioteca matplotlib para crear gráficos de barras.\n",
    "\n",
    "Aquí tienes un ejemplo de código Python para crear un gráfico de barras:"
   ]
  },
  {
   "cell_type": "code",
   "execution_count": 15,
   "metadata": {},
   "outputs": [
    {
     "data": {
      "image/png": "[encoded data removed]",
      "text/plain": [
       "<Figure size 432x288 with 1 Axes>"
      ]
     },
     "metadata": {
      "needs_background": "light"
     },
     "output_type": "display_data"
    }
   ],
   "source": [
    "import matplotlib.pyplot as plt\n",
    "\n",
    "categorias = ['A', 'B', 'C', 'D']\n",
    "valores = [20, 35, 15, 25]\n",
    "\n",
    "plt.bar(categorias, valores)\n",
    "plt.title(\"Gráfico de Barras\")\n",
    "plt.xlabel(\"Categorías\")\n",
    "plt.ylabel(\"Valores\")\n",
    "plt.show()"
   ]
  },
  {
   "attachments": {},
   "cell_type": "markdown",
   "metadata": {},
   "source": [
    "Este código generará un gráfico de barras que muestra los valores para cada categoría.\n",
    "\n",
    "* **Gráfico de proporciones:**\n",
    "\n",
    "El gráfico de proporciones, también conocido como gráfico de torta o de pastel, es una visualización circular que muestra la distribución proporcional de diferentes categorías. Cada categoría se representa como una porción de un círculo y la medida angular de cada porción es proporcional a su valor o frecuencia relativa. En Python, puedes utilizar la biblioteca matplotlib para crear gráficos de proporciones.\n",
    "\n",
    "Aquí tienes un ejemplo de código Python para crear un gráfico de proporciones:"
   ]
  },
  {
   "cell_type": "code",
   "execution_count": 16,
   "metadata": {},
   "outputs": [
    {
     "data": {
      "image/png": "[encoded data removed]",
      "text/plain": [
       "<Figure size 432x288 with 1 Axes>"
      ]
     },
     "metadata": {},
     "output_type": "display_data"
    }
   ],
   "source": [
    "import matplotlib.pyplot as plt\n",
    "\n",
    "categorias = ['A', 'B', 'C', 'D']\n",
    "valores = [20, 35, 15, 25]\n",
    "\n",
    "plt.pie(valores, labels=categorias, autopct='%1.1f%%')\n",
    "plt.title(\"Gráfico de Proporciones\")\n",
    "plt.show()"
   ]
  },
  {
   "attachments": {},
   "cell_type": "markdown",
   "metadata": {},
   "source": [
    "Este código generará un gráfico de proporciones que muestra la distribución proporcional de los valores en cada categoría.\n",
    "\n",
    "* **Gráfico de líneas:**\n",
    "\n",
    "El gráfico de líneas es una representación visual que muestra la evolución o tendencia de una variable a lo largo del tiempo o de otra variable independiente. Consiste en puntos conectados por líneas rectas para mostrar la relación o el cambio en los valores a lo largo de un eje temporal o un eje independiente. Es especialmente útil para representar series de tiempo y mostrar cambios en variables a lo largo del tiempo. En Python, puedes utilizar la biblioteca matplotlib para crear gráficos de líneas.\n",
    "\n",
    "Aquí tienes un ejemplo de código Python para crear un gráfico de líneas:"
   ]
  },
  {
   "cell_type": "code",
   "execution_count": 17,
   "metadata": {},
   "outputs": [
    {
     "data": {
      "image/png": "[encoded data removed]",
      "text/plain": [
       "<Figure size 432x288 with 1 Axes>"
      ]
     },
     "metadata": {
      "needs_background": "light"
     },
     "output_type": "display_data"
    }
   ],
   "source": [
    "import matplotlib.pyplot as plt\n",
    "\n",
    "tiempo = [1, 2, 3, 4, 5, 6, 7]\n",
    "valores = [10, 15, 13, 20, 18, 25, 22]\n",
    "\n",
    "plt.plot(tiempo, valores)\n",
    "plt.title(\"Gráfico de Líneas\")\n",
    "plt.xlabel(\"Tiempo\")\n",
    "plt.ylabel(\"Valores\")\n",
    "plt.show()"
   ]
  },
  {
   "attachments": {},
   "cell_type": "markdown",
   "metadata": {},
   "source": [
    "Este código generará un gráfico de líneas que muestra la evolución de los valores a lo largo del tiempo.\n",
    "\n",
    "Espero que esta explicación detallada junto con los ejemplos de código y las gráficas te hayan sido útiles para comprender los gráficos de barras, proporciones y líneas. Estas visualizaciones son herramientas poderosas para representar información de manera clara y efectiva en el análisis de datos y la presentación de resultados."
   ]
  },
  {
   "attachments": {},
   "cell_type": "markdown",
   "metadata": {},
   "source": [
    "## **Gráfico de dispersión, histograma**"
   ]
  },
  {
   "attachments": {},
   "cell_type": "markdown",
   "metadata": {},
   "source": [
    "* **Gráfico de dispersión:**\n",
    "\n",
    "El gráfico de dispersión es una herramienta visual utilizada para representar la relación entre dos variables continuas. Cada punto en el gráfico representa una observación y su posición en el espacio está determinada por los valores de las dos variables. Este tipo de gráfico es útil para identificar patrones, tendencias o correlaciones entre las variables. En Python, puedes utilizar la biblioteca matplotlib para crear gráficos de dispersión.\n",
    "\n",
    "Aquí tienes un ejemplo de código Python para crear un gráfico de dispersión:"
   ]
  },
  {
   "cell_type": "code",
   "execution_count": 18,
   "metadata": {},
   "outputs": [
    {
     "data": {
      "image/png": "[encoded data removed]",
      "text/plain": [
       "<Figure size 432x288 with 1 Axes>"
      ]
     },
     "metadata": {
      "needs_background": "light"
     },
     "output_type": "display_data"
    }
   ],
   "source": [
    "import matplotlib.pyplot as plt\n",
    "\n",
    "x = [1, 2, 3, 4, 5]\n",
    "y = [2, 4, 6, 8, 10]\n",
    "\n",
    "plt.scatter(x, y)\n",
    "plt.title(\"Gráfico de Dispersión\")\n",
    "plt.xlabel(\"Variable X\")\n",
    "plt.ylabel(\"Variable Y\")\n",
    "plt.show()"
   ]
  },
  {
   "attachments": {},
   "cell_type": "markdown",
   "metadata": {},
   "source": [
    "Este código generará un gráfico de dispersión que muestra la relación entre las variables `X` e `Y`.\n",
    "\n",
    "* **Histograma:**\n",
    "\n",
    "El histograma es una visualización utilizada para representar la distribución de frecuencia de una variable continua. El eje horizontal del histograma representa los rangos o intervalos de valores, mientras que el eje vertical muestra la frecuencia o la cantidad de observaciones que caen dentro de cada intervalo. Este tipo de gráfico es útil para identificar la forma de la distribución y la concentración de valores en diferentes rangos. En Python, puedes utilizar la biblioteca matplotlib para crear histogramas.\n",
    "\n",
    "Aquí tienes un ejemplo de código Python para crear un histograma:"
   ]
  },
  {
   "cell_type": "code",
   "execution_count": 19,
   "metadata": {},
   "outputs": [
    {
     "data": {
      "image/png": "[encoded data removed]",
      "text/plain": [
       "<Figure size 432x288 with 1 Axes>"
      ]
     },
     "metadata": {
      "needs_background": "light"
     },
     "output_type": "display_data"
    }
   ],
   "source": [
    "import matplotlib.pyplot as plt\n",
    "\n",
    "valores = [5, 7, 8, 3, 2, 6, 9, 5, 1, 4]\n",
    "\n",
    "plt.hist(valores, bins=5)\n",
    "plt.title(\"Histograma\")\n",
    "plt.xlabel(\"Valores\")\n",
    "plt.ylabel(\"Frecuencia\")\n",
    "plt.show()"
   ]
  },
  {
   "attachments": {},
   "cell_type": "markdown",
   "metadata": {},
   "source": [
    "Este código generará un histograma que muestra la distribución de frecuencia de los valores.\n",
    "\n",
    "Recuerda que para ejecutar estos ejemplos de código, necesitarás tener instalada la biblioteca matplotlib en tu entorno de Python.\n",
    "\n",
    "Espero que esta explicación detallada junto con los ejemplos de código y las gráficas te hayan sido útiles para comprender el gráfico de dispersión y el histograma. Estas visualizaciones son herramientas útiles para analizar la relación entre variables y la distribución de frecuencia de los datos."
   ]
  },
  {
   "attachments": {},
   "cell_type": "markdown",
   "metadata": {},
   "source": [
    "## **Gráfico de cajas**"
   ]
  },
  {
   "attachments": {},
   "cell_type": "markdown",
   "metadata": {},
   "source": [
    "El gráfico de cajas, también conocido como diagrama de caja o boxplot, es una visualización que proporciona información sobre la distribución de un conjunto de datos. El gráfico de cajas muestra la mediana, los cuartiles (`Q1` y `Q3`), el rango intercuartílico y los posibles valores atípicos.\n",
    "\n",
    "A continuación, te proporcionaré una explicación detallada sobre el gráfico de cajas, junto con un ejemplo de código en Python y una gráfica correspondiente.\n",
    "\n",
    "El gráfico de cajas se construye a partir de los siguientes elementos:\n",
    "\n",
    "* **Mediana (línea central):**\n",
    "\n",
    "La mediana es el valor que divide a los datos en dos partes iguales. En el gráfico de cajas, se representa como una línea horizontal en el centro de la caja.\n",
    "\n",
    "* **Caja:**\n",
    "\n",
    "La caja representa el rango intercuartílico, es decir, la diferencia entre el tercer cuartil (`Q3`) y el primer cuartil (`Q1`). Contiene el 50% de los datos y se extiende desde el `Q1` hasta el `Q3`. La altura de la caja muestra la variabilidad de los datos en esa parte de la distribución.\n",
    "\n",
    "* **Bigotes:**\n",
    "\n",
    "Los bigotes se extienden desde la caja y muestran el rango de valores que no se consideran valores atípicos. Se calculan utilizando una medida de dispersión, como 1.5 veces el rango intercuartílico. Los puntos que quedan fuera de los bigotes se consideran valores atípicos y se muestran individualmente.\n",
    "\n",
    "Aquí tienes un ejemplo de código Python para crear un gráfico de cajas:"
   ]
  },
  {
   "cell_type": "code",
   "execution_count": 20,
   "metadata": {},
   "outputs": [
    {
     "data": {
      "image/png": "[encoded data removed]",
      "text/plain": [
       "<Figure size 432x288 with 1 Axes>"
      ]
     },
     "metadata": {
      "needs_background": "light"
     },
     "output_type": "display_data"
    }
   ],
   "source": [
    "import matplotlib.pyplot as plt\n",
    "\n",
    "valores = [5, 7, 8, 3, 2, 6, 9, 5, 1, 4, 15]\n",
    "\n",
    "plt.boxplot(valores)\n",
    "plt.title(\"Gráfico de Cajas\")\n",
    "plt.ylabel(\"Valores\")\n",
    "plt.show()"
   ]
  },
  {
   "attachments": {},
   "cell_type": "markdown",
   "metadata": {},
   "source": [
    "Este código generará un gráfico de cajas que muestra la distribución de los valores. La caja representa el rango intercuartílico, la línea en el centro de la caja representa la mediana y los posibles valores atípicos se muestran como puntos individuales fuera de los bigotes.\n",
    "\n",
    "El gráfico de cajas es especialmente útil para comparar distribuciones y detectar valores atípicos en un conjunto de datos.\n",
    "\n",
    "Recuerda que para ejecutar este ejemplo de código, necesitarás tener instalada la biblioteca matplotlib en tu entorno de Python.\n",
    "\n",
    "Espero que esta explicación detallada junto con el ejemplo de código y la gráfica te haya sido útil para comprender el gráfico de cajas. Esta visualización proporciona información valiosa sobre la distribución de los datos y ayuda a identificar valores atípicos."
   ]
  },
  {
   "attachments": {},
   "cell_type": "markdown",
   "metadata": {},
   "source": [
    "| **Inicio** | **atrás 3** |\n",
    "|----------- |-------------- |\n",
    "| [🏠](../../../README.md) | [⏪](./3.DISTRIBUCIONES_DE_PROBABILIDAD.ipynb)|"
   ]
  }
 ],
 "metadata": {
  "kernelspec": {
   "display_name": "base",
   "language": "python",
   "name": "python3"
  },
  "language_info": {
   "codemirror_mode": {
    "name": "ipython",
    "version": 3
   },
   "file_extension": ".py",
   "mimetype": "text/x-python",
   "name": "python",
   "nbconvert_exporter": "python",
   "pygments_lexer": "ipython3",
   "version": "3.9.12"
  },
  "orig_nbformat": 4
 },
 "nbformat": 4,
 "nbformat_minor": 2
}
