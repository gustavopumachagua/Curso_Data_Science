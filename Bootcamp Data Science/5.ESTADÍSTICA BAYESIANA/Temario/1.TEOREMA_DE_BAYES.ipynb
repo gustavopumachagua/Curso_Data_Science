{
 "cells": [
  {
   "attachments": {},
   "cell_type": "markdown",
   "metadata": {},
   "source": [
    "| **Inicio** | **Siguiente 2** |\n",
    "|----------- |-------------- |\n",
    "| [🏠](../../../README.md) | [⏩](./2.ESTIMACION_BAYESIANA.ipynb)|"
   ]
  },
  {
   "attachments": {},
   "cell_type": "markdown",
   "metadata": {},
   "source": [
    "# **1. TEOREMA DE BAYES**"
   ]
  },
  {
   "attachments": {},
   "cell_type": "markdown",
   "metadata": {},
   "source": [
    "## **Teorema de Bayes**"
   ]
  },
  {
   "attachments": {},
   "cell_type": "markdown",
   "metadata": {},
   "source": [
    "El Teorema de Bayes es un resultado fundamental en la teoría de la probabilidad que nos permite actualizar nuestras creencias o conocimientos sobre un evento a partir de la evidencia o información disponible. Es una herramienta poderosa para realizar inferencias y tomar decisiones basadas en la probabilidad condicional.\n",
    "\n",
    "El teorema establece la relación entre la probabilidad condicional de un evento `A` dado un evento `B` y la probabilidad condicional de `B` dado `A`. Formalmente, el Teorema de Bayes se expresa de la siguiente manera:\n",
    "\n",
    "$P(A|B) = (P(B|A) * P(A)) / P(B)$\n",
    "\n",
    "**Donde:**\n",
    "\n",
    "* $P(A|B)$ es la probabilidad condicional de $A$ dado $B$.\n",
    "\n",
    "* $P(B|A)$ es la probabilidad condicional de $B$ dado $A$.\n",
    "\n",
    "* $P(A)$ y $P(B)$ son las probabilidades marginales de $A$ y $B$, respectivamente.\n",
    "\n",
    "El Teorema de Bayes es especialmente útil cuando queremos actualizar nuestras creencias sobre una hipótesis o evento $A$ a partir de una nueva evidencia $B$. La probabilidad $P(A|B)$ se conoce como la probabilidad posterior, es decir, la probabilidad de que $A$ sea verdadero dado que $B$ es verdadero. La probabilidad $P(A)$ se conoce como la probabilidad previa, que es nuestra creencia inicial en la veracidad de $A$ antes de tener en cuenta la evidencia $B$. La probabilidad $P(B|A)$ es la probabilidad de observar la evidencia $B$ dado que la hipótesis $A$ es verdadera. Y finalmente, la probabilidad $P(B)$ es la probabilidad marginal de observar la evidencia $B$, independientemente de la hipótesis $A$.\n",
    "\n",
    "A continuación, te proporcionaré un ejemplo de código en Python que ilustra el Teorema de Bayes:"
   ]
  },
  {
   "cell_type": "code",
   "execution_count": 1,
   "metadata": {},
   "outputs": [
    {
     "name": "stdout",
     "output_type": "stream",
     "text": [
      "Probabilidad posterior de A dado B: 0.4615384615384615\n"
     ]
    }
   ],
   "source": [
    "# Probabilidades previas\n",
    "p_A = 0.3  # Probabilidad previa de A\n",
    "p_B_given_A = 0.8  # Probabilidad de observar B dado que A es verdadero\n",
    "p_B_given_not_A = 0.4  # Probabilidad de observar B dado que A es falso\n",
    "\n",
    "# Probabilidad marginal de observar B\n",
    "p_B = (p_B_given_A * p_A) + (p_B_given_not_A * (1 - p_A))\n",
    "\n",
    "# Probabilidad posterior de A dado B\n",
    "p_A_given_B = (p_B_given_A * p_A) / p_B\n",
    "\n",
    "print(\"Probabilidad posterior de A dado B:\", p_A_given_B)"
   ]
  },
  {
   "attachments": {},
   "cell_type": "markdown",
   "metadata": {},
   "source": [
    "En este ejemplo, consideramos un evento $A$ y una evidencia $B$. Se asumen probabilidades previas para $A$ (0.3) y las probabilidades condicionales de observar $B$ dado que $A$ es verdadero (0.8) y dado que $A$ es falso (0.4). Calculamos la probabilidad marginal de observar $B$ utilizando la ley de probabilidad total y luego aplicamos el Teorema de Bayes para obtener la probabilidad posterior de $A$ dado $B$.\n",
    "\n",
    "Es importante destacar que el Teorema de Bayes es una herramienta clave en inferencia estadística y en la toma de decisiones basada en datos. Permite actualizar nuestras creencias a medida que se recopila nueva información y es fundamental en áreas como el aprendizaje automático, la inteligencia artificial, la estadística bayesiana y muchas otras disciplinas."
   ]
  },
  {
   "attachments": {},
   "cell_type": "markdown",
   "metadata": {},
   "source": [
    "![Teorema de Bayes](../img/Teorema%20de%20Bayes.png \"Teorema de Bayes\")"
   ]
  },
  {
   "attachments": {},
   "cell_type": "markdown",
   "metadata": {},
   "source": [
    "## **Ley de probabilidad total**"
   ]
  },
  {
   "attachments": {},
   "cell_type": "markdown",
   "metadata": {},
   "source": [
    "La Ley de Probabilidad Total es un concepto fundamental en teoría de la probabilidad que nos permite calcular la probabilidad de un evento utilizando la información de eventos condicionales relacionados. Esta ley establece que la probabilidad de un evento $A$ se puede obtener considerando todos los posibles escenarios o casos en los que $A$ puede ocurrir, y teniendo en cuenta la probabilidad condicional de $A$ dado cada uno de estos casos.\n",
    "\n",
    "La Ley de Probabilidad Total se puede expresar matemáticamente de la siguiente manera:\n",
    "\n",
    "$P(A) = Σ[P(A|B_i) * P(B_i)]$\n",
    "\n",
    "Donde:\n",
    "\n",
    "* $P(A)$ es la probabilidad del evento $A$.\n",
    "* $P(A|B_i)$ es la probabilidad condicional de $A$ dado el evento $B_i$.\n",
    "* $P(B_i)$ es la probabilidad del evento $B_i$.\n",
    "\n",
    "La ley establece que la probabilidad de $A$ se obtiene sumando la probabilidad de $A$ dado cada posible evento $B_i$, ponderada por la probabilidad de que ocurra $B_i$.\n",
    "\n",
    "A continuación, se presenta un ejemplo de código en Python que ilustra la Ley de Probabilidad Total:"
   ]
  },
  {
   "cell_type": "code",
   "execution_count": 2,
   "metadata": {},
   "outputs": [
    {
     "name": "stdout",
     "output_type": "stream",
     "text": [
      "Probabilidad de A: 0.54\n"
     ]
    }
   ],
   "source": [
    "# Probabilidades condicionales\n",
    "p_A_given_B1 = 0.4  # Probabilidad de A dado B1\n",
    "p_A_given_B2 = 0.6  # Probabilidad de A dado B2\n",
    "\n",
    "# Probabilidades de los eventos B1 y B2\n",
    "p_B1 = 0.3  # Probabilidad de B1\n",
    "p_B2 = 0.7  # Probabilidad de B2\n",
    "\n",
    "# Probabilidad de A utilizando la Ley de Probabilidad Total\n",
    "p_A = (p_A_given_B1 * p_B1) + (p_A_given_B2 * p_B2)\n",
    "\n",
    "print(\"Probabilidad de A:\", p_A)"
   ]
  },
  {
   "attachments": {},
   "cell_type": "markdown",
   "metadata": {},
   "source": [
    "En este ejemplo, consideramos un evento $A$ y dos eventos condicionales $B1$ y $B2$. Se asumen las probabilidades condicionales de $A$ dado $B1$ (0.4) y $A$ dado $B2$ (0.6), así como las probabilidades de los eventos $B1$ (0.3) y $B2$ (0.7). Utilizando la Ley de Probabilidad Total, sumamos la probabilidad de $A$ dado cada evento $B$ ponderada por la probabilidad de que ocurra ese evento $B$. Esto nos da la probabilidad de $A$.\n",
    "\n",
    "La Ley de Probabilidad Total es especialmente útil cuando queremos calcular la probabilidad de un evento y tenemos información sobre eventos condicionales relacionados. Nos permite combinar la información de los eventos condicionales para obtener la probabilidad deseada. Es una herramienta fundamental en la teoría de la probabilidad y se utiliza en diversos contextos, como la estadística, la teoría de la información y la inteligencia artificial."
   ]
  },
  {
   "attachments": {},
   "cell_type": "markdown",
   "metadata": {},
   "source": [
    "![Ley de probabilidad total](../img/Ley%20de%20probabilidad%20total.jpg \"Ley de probabilidad total\")"
   ]
  },
  {
   "attachments": {},
   "cell_type": "markdown",
   "metadata": {},
   "source": [
    "## **Bayes diacrónico**"
   ]
  },
  {
   "attachments": {},
   "cell_type": "markdown",
   "metadata": {},
   "source": [
    "El término \"Bayes diacrónico\" se refiere a la aplicación del Teorema de Bayes en un contexto de actualización de creencias a medida que se obtiene nueva información a lo largo del tiempo. En otras palabras, se utiliza para actualizar las probabilidades posteriores a medida que se recopilan datos adicionales.\n",
    "\n",
    "El enfoque de Bayes diacrónico es especialmente útil en problemas de estimación y predicción secuenciales, donde se recopilan observaciones en diferentes momentos y se desea ajustar continuamente las creencias o estimaciones iniciales en función de los nuevos datos. Permite una actualización iterativa de las probabilidades a medida que se adquiere más información.\n",
    "\n",
    "El proceso de Bayes diacrónico sigue los siguientes pasos:\n",
    "\n",
    "1. **Establecer las probabilidades previas:** Inicialmente, se asignan probabilidades previas a las hipótesis o parámetros que se desean estimar. Estas probabilidades reflejan las creencias iniciales o el conocimiento previo antes de tener en cuenta cualquier dato.\n",
    "\n",
    "2. **Recopilar datos:** A medida que se obtienen nuevos datos, se utiliza el Teorema de Bayes para actualizar las probabilidades posteriores. Esto implica combinar las probabilidades previas con la verosimilitud de los datos observados, utilizando el enfoque bayesiano.\n",
    "\n",
    "3. **Actualizar las probabilidades posteriores:** Utilizando el Teorema de Bayes, se actualizan las probabilidades posteriores en función de los datos observados y las probabilidades previas. Las nuevas probabilidades posteriores se convierten en las probabilidades previas para la siguiente iteración.\n",
    "\n",
    "4. **Repetir los pasos 2 y 3:** Se repiten los pasos de recopilación de datos y actualización de las probabilidades posteriores a medida que se obtienen más datos. Esto permite una actualización continua y secuencial de las creencias a medida que se adquiere más información.\n",
    "\n",
    "Aquí tienes un ejemplo de código en Python que ilustra el enfoque de Bayes diacrónico utilizando una distribución Beta como prior y la actualización secuencial de las probabilidades posteriores a medida que se observan nuevos datos:"
   ]
  },
  {
   "cell_type": "code",
   "execution_count": 4,
   "metadata": {},
   "outputs": [
    {
     "data": {
      "image/png": "[encoded data removed]",
      "text/plain": [
       "<Figure size 432x288 with 1 Axes>"
      ]
     },
     "metadata": {
      "needs_background": "light"
     },
     "output_type": "display_data"
    }
   ],
   "source": [
    "import numpy as np\n",
    "import matplotlib.pyplot as plt\n",
    "from scipy.stats import beta\n",
    "\n",
    "# Parámetros iniciales de la distribución Beta\n",
    "alpha = 1  # Parámetro alfa inicial\n",
    "beta_param = 1  # Parámetro beta inicial\n",
    "\n",
    "# Generar datos observados\n",
    "data = [1, 0, 1, 1, 0]\n",
    "\n",
    "# Actualizar las probabilidades posteriores de forma secuencial\n",
    "posterior_probs = []\n",
    "for d in data:\n",
    "    # Actualizar parámetros de la distribución Beta\n",
    "    alpha += d\n",
    "    beta_param += 1 - d\n",
    "    \n",
    "    # Calcular la distribución posterior\n",
    "    posterior = beta(alpha, beta_param)\n",
    "    \n",
    "    # Obtener la probabilidad posterior media\n",
    "    posterior_mean = posterior.mean()\n",
    "    \n",
    "    # Agregar la probabilidad posterior media a la lista\n",
    "    posterior_probs.append(posterior_mean)\n",
    "\n",
    "# Graficar las probabilidades posteriores a lo largo del tiempo\n",
    "plt.plot(range(len(data)), posterior_probs)\n",
    "plt.xlabel('Número de observaciones')\n",
    "plt.ylabel('Probabilidad posterior media')\n",
    "plt.title('Actualización de las probabilidades posteriores')\n",
    "plt.show()"
   ]
  },
  {
   "attachments": {},
   "cell_type": "markdown",
   "metadata": {},
   "source": [
    "En este ejemplo, se asume una distribución Beta como prior inicial con parámetros `alfa = 1` y `beta = 1`. Luego, se generan datos observados, representados por una lista de 1 y 0. A medida que se recopilan los datos, se actualizan los parámetros de la distribución Beta utilizando el Teorema de Bayes. Se calcula la distribución posterior y se obtiene la probabilidad posterior media en cada iteración. Finalmente, se grafican las probabilidades posteriores a lo largo del tiempo para visualizar la actualización secuencial.\n",
    "\n",
    "El enfoque de Bayes diacrónico es muy útil en aplicaciones donde se deben realizar estimaciones y predicciones en tiempo real o a medida que se recopilan los datos. Permite una actualización continua de las creencias y proporciona una herramienta poderosa para el razonamiento probabilístico en contextos secuenciales."
   ]
  },
  {
   "attachments": {},
   "cell_type": "markdown",
   "metadata": {},
   "source": [
    "## **Distribuciones y funciones de masa**"
   ]
  },
  {
   "attachments": {},
   "cell_type": "markdown",
   "metadata": {},
   "source": [
    "Las distribuciones de masa y las funciones de masa son conceptos utilizados en el campo de la estadística y la probabilidad para describir la probabilidad de ocurrencia de eventos discretos. Estas distribuciones se aplican cuando se trabaja con variables aleatorias discretas, es decir, variables que pueden tomar un conjunto finito o numerable de valores.\n",
    "\n",
    "Una función de masa de probabilidad (PMF, por sus siglas en inglés) es una función que asigna una probabilidad a cada posible valor de una variable aleatoria discreta. La función de masa de probabilidad representa la distribución de probabilidad de la variable aleatoria y se define para cada valor posible de la variable.\n",
    "\n",
    "Veamos algunos ejemplos de distribuciones de masa y sus funciones de masa en Python:\n",
    "\n",
    "1. **Distribución de Bernoulli:**\n",
    "\n",
    "La distribución de Bernoulli modela el resultado de un experimento que tiene solo dos resultados posibles, generalmente etiquetados como éxito y fracaso. La función de masa de probabilidad asigna una probabilidad p al valor de éxito y (`1-p`) al valor de fracaso. En Python, podemos generar la distribución de Bernoulli y graficar su función de masa de la siguiente manera:"
   ]
  },
  {
   "cell_type": "code",
   "execution_count": 5,
   "metadata": {},
   "outputs": [
    {
     "data": {
      "image/png": "[encoded data removed]",
      "text/plain": [
       "<Figure size 432x288 with 1 Axes>"
      ]
     },
     "metadata": {
      "needs_background": "light"
     },
     "output_type": "display_data"
    }
   ],
   "source": [
    "import numpy as np\n",
    "import matplotlib.pyplot as plt\n",
    "from scipy.stats import bernoulli\n",
    "\n",
    "p = 0.6  # Probabilidad de éxito\n",
    "\n",
    "# Generar una distribución de Bernoulli\n",
    "dist_bernoulli = bernoulli(p)\n",
    "\n",
    "# Calcular la función de masa de probabilidad para los valores 0 y 1\n",
    "pmf_values = [dist_bernoulli.pmf(0), dist_bernoulli.pmf(1)]\n",
    "\n",
    "# Graficar la función de masa de probabilidad\n",
    "plt.bar([0, 1], pmf_values)\n",
    "plt.xticks([0, 1], ['Fracaso', 'Éxito'])\n",
    "plt.xlabel('Valores')\n",
    "plt.ylabel('Probabilidad')\n",
    "plt.title('Distribución de Bernoulli')\n",
    "plt.show()"
   ]
  },
  {
   "attachments": {},
   "cell_type": "markdown",
   "metadata": {},
   "source": [
    "2. **Distribución binomial:**\n",
    "\n",
    "La distribución binomial modela el número de éxitos en una secuencia de ensayos de Bernoulli independientes y del mismo tamaño. Se caracteriza por dos parámetros: el número de ensayos (`n`) y la probabilidad de éxito en cada ensayo (`p`). La función de masa de probabilidad asigna una probabilidad a cada número de éxitos posibles. En Python, podemos generar la distribución binomial y graficar su función de masa de la siguiente manera:"
   ]
  },
  {
   "cell_type": "code",
   "execution_count": 6,
   "metadata": {},
   "outputs": [
    {
     "data": {
      "image/png": "[encoded data removed]",
      "text/plain": [
       "<Figure size 432x288 with 1 Axes>"
      ]
     },
     "metadata": {
      "needs_background": "light"
     },
     "output_type": "display_data"
    }
   ],
   "source": [
    "import numpy as np\n",
    "import matplotlib.pyplot as plt\n",
    "from scipy.stats import binom\n",
    "\n",
    "n = 10  # Número de ensayos\n",
    "p = 0.5  # Probabilidad de éxito\n",
    "\n",
    "# Generar una distribución binomial\n",
    "dist_binomial = binom(n, p)\n",
    "\n",
    "# Calcular la función de masa de probabilidad para los valores del 0 al n\n",
    "x = np.arange(0, n+1)\n",
    "pmf_values = dist_binomial.pmf(x)\n",
    "\n",
    "# Graficar la función de masa de probabilidad\n",
    "plt.bar(x, pmf_values)\n",
    "plt.xlabel('Número de éxitos')\n",
    "plt.ylabel('Probabilidad')\n",
    "plt.title('Distribución Binomial')\n",
    "plt.show()"
   ]
  },
  {
   "attachments": {},
   "cell_type": "markdown",
   "metadata": {},
   "source": [
    "Estos ejemplos ilustran cómo trabajar con distribuciones de masa y funciones de masa en Python. Puedes ajustar los parámetros y realizar cálculos de probabilidad específicos para cada distribución. Además, las gráficas de las funciones de masa de probabilidad ayudan a visualizar la distribución y comprender la probabilidad asociada a cada valor discreto de la variable aleatoria."
   ]
  },
  {
   "attachments": {},
   "cell_type": "markdown",
   "metadata": {},
   "source": [
    "| **Inicio** | **Siguiente 2** |\n",
    "|----------- |-------------- |\n",
    "| [🏠](../../../README.md) | [⏩](./2.ESTIMACION_BAYESIANA.ipynb)|"
   ]
  }
 ],
 "metadata": {
  "kernelspec": {
   "display_name": "base",
   "language": "python",
   "name": "python3"
  },
  "language_info": {
   "codemirror_mode": {
    "name": "ipython",
    "version": 3
   },
   "file_extension": ".py",
   "mimetype": "text/x-python",
   "name": "python",
   "nbconvert_exporter": "python",
   "pygments_lexer": "ipython3",
   "version": "3.9.12"
  },
  "orig_nbformat": 4
 },
 "nbformat": 4,
 "nbformat_minor": 2
}
