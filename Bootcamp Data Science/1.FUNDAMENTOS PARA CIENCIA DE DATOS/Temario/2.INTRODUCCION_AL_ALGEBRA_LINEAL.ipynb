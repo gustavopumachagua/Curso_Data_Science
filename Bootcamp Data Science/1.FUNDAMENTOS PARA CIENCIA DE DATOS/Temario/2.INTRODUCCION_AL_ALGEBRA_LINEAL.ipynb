{
 "cells": [
  {
   "attachments": {},
   "cell_type": "markdown",
   "metadata": {},
   "source": [
    "| **Inicio** | **atrás 1** | **Siguiente 3** |\n",
    "|----------- |-------------- |---------------|\n",
    "| [🏠](../../../README.md) | [⏪](./1.INTRODUCCION_AL_ANALISIS_DE_DATOS.ipynb)| [⏩](./3.INTRODUCCION_A_LA_ESTADISTICA_DESCRIPTIVA_Y_MACHINE_LEARNING.ipynb)|"
   ]
  },
  {
   "attachments": {},
   "cell_type": "markdown",
   "metadata": {},
   "source": [
    "# **2. INTRODUCCIÓN AL ÁLGEBRA LINEAL**"
   ]
  },
  {
   "attachments": {},
   "cell_type": "markdown",
   "metadata": {},
   "source": [
    "El álgebra lineal es una rama de las matemáticas que se ocupa del estudio de los espacios vectoriales y las transformaciones lineales. Es una herramienta fundamental en muchos campos, como la física, la informática, la ingeniería y la ciencia de datos. A continuación, se proporciona una explicación detallada del álgebra lineal, junto con ejemplos para ilustrar los conceptos clave:\n",
    "\n",
    "1. **Vectores:** Un vector es una entidad matemática que representa una magnitud y una dirección en el espacio. En álgebra lineal, los vectores se representan como matrices de una sola columna o como listas de números. Por ejemplo, el vector $v = [2, 3, -1]$ representa un vector en un espacio tridimensional con componentes $x = 2$, $y = 3$ y $z = -1$.\n",
    "\n",
    "2. **Espacios vectoriales:** Un espacio vectorial es un conjunto de vectores que cumple ciertas propiedades. Los espacios vectoriales pueden tener una o varias dimensiones y se denotan como $R^n$, donde $n$ representa la dimensión. Por ejemplo, $R^2$ es un espacio vectorial bidimensional que contiene todos los vectores con dos componentes $(x, y)$.\n",
    "\n",
    "3. **Operaciones vectoriales:** En álgebra lineal, se pueden realizar varias operaciones con vectores, como la suma, la resta, la multiplicación por un escalar y el producto punto. La suma de dos vectores se realiza componente a componente, y la multiplicación por un escalar implica multiplicar cada componente del vector por ese escalar. Por ejemplo, dados los vectores $u = [1, 2, 3]$ y $v = [4, 5, 6]$, la suma $u + v$ sería $[1+4, 2+5, 3+6] = [5, 7, 9]$. La multiplicación por un escalar, como $2u$, sería $[2*1, 2*2, 2*3] = [2, 4, 6]$.\n",
    "\n",
    "4. **Matrices:** Una matriz es una tabla rectangular de números dispuestos en filas y columnas. Se utilizan para representar transformaciones lineales y realizar operaciones algebraicas. Por ejemplo, una matriz $A = [[1, 2], [3, 4]]$ representa una matriz de $2x2$ con los elementos distribuidos en filas y columnas.\n",
    "\n",
    "5. **Operaciones matriciales:** En álgebra lineal, se pueden realizar diversas operaciones con matrices, como la suma, la resta, la multiplicación y la transposición. La suma y la resta de matrices se realizan componente a componente, y la multiplicación de matrices implica la combinación lineal de las filas y columnas correspondientes. Por ejemplo, dadas las matrices $A = [[1, 2], [3, 4]]$ y $B = [[5, 6], [7, 8]]$, la multiplicación $AB$ se calcularía como:\n",
    "\n",
    "$AB = [[(1*5)+(2*7), (1*6)+(2*8)], [(3*5)+(4*7), (3*6)+(4*8)]]\n",
    "= [[19, 22], [43, 50]]$\n",
    "\n",
    "6. **Transformaciones lineales:** Las transformaciones lineales son funciones que mapean vectores de un espacio vectorial a otro. Estas transformaciones preservan la estructura lineal, lo que implica que conservan las operaciones de suma y multiplicación por un escalar. Un ejemplo común de una transformación lineal es la rotación en el plano.\n",
    "\n",
    "El álgebra lineal ofrece una base teórica sólida para comprender y resolver problemas que involucran sistemas de ecuaciones, optimización, análisis de datos multidimensionales y muchas otras aplicaciones prácticas. Es fundamental en la ciencia de datos, donde se utilizan técnicas como la regresión lineal, el análisis de componentes principales (PCA) y el aprendizaje automático para realizar análisis y modelado de datos complejos."
   ]
  },
  {
   "attachments": {},
   "cell_type": "markdown",
   "metadata": {},
   "source": [
    "## **Vectores, matrices, arreglos, independencia lineal, sistemas de ecuaciones lineales**"
   ]
  },
  {
   "attachments": {},
   "cell_type": "markdown",
   "metadata": {},
   "source": [
    "![Vectores](../img/Elementos-de-un-vector.png \"Vectores\")"
   ]
  },
  {
   "attachments": {},
   "cell_type": "markdown",
   "metadata": {},
   "source": [
    "1. **Vectores:**\n",
    "\n",
    "En matemáticas, un vector es una entidad que tiene magnitud y dirección. En Python, podemos representar vectores utilizando listas o arreglos de la biblioteca NumPy.\n",
    "\n",
    "Ejemplo de código Python para crear y graficar un vector:"
   ]
  },
  {
   "cell_type": "code",
   "execution_count": 1,
   "metadata": {},
   "outputs": [
    {
     "data": {
      "image/png": "[encoded data removed]",
      "text/plain": [
       "<Figure size 432x288 with 1 Axes>"
      ]
     },
     "metadata": {
      "needs_background": "light"
     },
     "output_type": "display_data"
    }
   ],
   "source": [
    "import numpy as np\n",
    "import matplotlib.pyplot as plt\n",
    "\n",
    "# Crear un vector\n",
    "v = np.array([2, 3])\n",
    "\n",
    "# Graficar el vector\n",
    "plt.quiver(0, 0, v[0], v[1], angles='xy', scale_units='xy', scale=1)\n",
    "plt.xlim(-1, 3)\n",
    "plt.ylim(-1, 4)\n",
    "plt.xlabel('Eje x')\n",
    "plt.ylabel('Eje y')\n",
    "plt.grid()\n",
    "plt.show()"
   ]
  },
  {
   "attachments": {},
   "cell_type": "markdown",
   "metadata": {},
   "source": [
    "La gráfica resultante mostrará un vector que comienza en el origen (0, 0) y se extiende hasta el punto (2, 3).\n",
    "\n",
    "2. **Matrices:**\n",
    "\n",
    "Una matriz es una estructura bidimensional de números organizados en filas y columnas. En Python, podemos utilizar la biblioteca NumPy para trabajar con matrices.\n",
    "\n",
    "Ejemplo de código Python para crear y graficar una matriz:"
   ]
  },
  {
   "cell_type": "code",
   "execution_count": 5,
   "metadata": {},
   "outputs": [
    {
     "data": {
      "image/png": "[encoded data removed]",
      "text/plain": [
       "<Figure size 432x288 with 1 Axes>"
      ]
     },
     "metadata": {
      "needs_background": "light"
     },
     "output_type": "display_data"
    }
   ],
   "source": [
    "import numpy as np\n",
    "import matplotlib.pyplot as plt\n",
    "\n",
    "# Crear una matriz\n",
    "A = np.array([[1, 2], [3, 4]])\n",
    "\n",
    "# Extraer las columnas de la matriz\n",
    "column_1 = A[:, 0]\n",
    "column_2 = A[:, 1]\n",
    "\n",
    "# Crear una figura y un conjunto de ejes\n",
    "fig, ax = plt.subplots()\n",
    "\n",
    "# Configurar los límites de los ejes\n",
    "ax.set_xlim(-1, np.max(A) + 1)\n",
    "ax.set_ylim(-1, np.max(A) + 1)\n",
    "\n",
    "# Graficar las columnas de la matriz como vectores\n",
    "ax.quiver(0, 0, column_1[0], column_1[1], angles='xy', scale_units='xy', scale=1, color='r', label='Columna 1')\n",
    "ax.quiver(0, 0, column_2[0], column_2[1], angles='xy', scale_units='xy', scale=1, color='b', label='Columna 2')\n",
    "\n",
    "# Agregar una leyenda\n",
    "ax.legend()\n",
    "\n",
    "# Agregar etiquetas a los ejes\n",
    "ax.set_xlabel('Eje x')\n",
    "ax.set_ylabel('Eje y')\n",
    "\n",
    "# Mostrar la cuadrícula\n",
    "ax.grid(True)\n",
    "\n",
    "# Mostrar la figura\n",
    "plt.show()"
   ]
  },
  {
   "attachments": {},
   "cell_type": "markdown",
   "metadata": {},
   "source": [
    "La gráfica resultante mostrará dos vectores que representan las columnas de la matriz A.\n",
    "\n",
    "3. **Arreglos:**\n",
    "\n",
    "En Python, un arreglo es una estructura unidimensional que contiene una secuencia de elementos del mismo tipo de datos. En el contexto del álgebra lineal, un arreglo se puede utilizar para representar un vector.\n",
    "\n",
    "Ejemplo de código Python para crear y graficar un arreglo:"
   ]
  },
  {
   "cell_type": "code",
   "execution_count": 6,
   "metadata": {},
   "outputs": [
    {
     "data": {
      "image/png": "[encoded data removed]",
      "text/plain": [
       "<Figure size 432x288 with 1 Axes>"
      ]
     },
     "metadata": {
      "needs_background": "light"
     },
     "output_type": "display_data"
    }
   ],
   "source": [
    "import numpy as np\n",
    "import matplotlib.pyplot as plt\n",
    "\n",
    "# Crear un arreglo\n",
    "x = np.array([1, 2, 3, 4])\n",
    "\n",
    "# Graficar el arreglo como un vector\n",
    "plt.quiver(0, 0, x[0], x[1], angles='xy', scale_units='xy', scale=1)\n",
    "plt.xlim(-1, 5)\n",
    "plt.ylim(-1, 5)\n",
    "plt.xlabel('Eje x')\n",
    "plt.ylabel('Eje y')\n",
    "plt.grid()\n",
    "plt.show()"
   ]
  },
  {
   "attachments": {},
   "cell_type": "markdown",
   "metadata": {},
   "source": [
    "La gráfica resultante mostrará un vector que comienza en el origen (0, 0) y se extiende hasta el punto (1, 2).\n",
    "\n",
    "4. **Independencia lineal:**\n",
    "\n",
    "En álgebra lineal, un conjunto de vectores se considera linealmente independiente si ninguno de ellos puede ser representado como una combinación lineal de los demás vectores. Es decir, no existe una combinación de coeficientes no nulos que iguale a cero.\n",
    "\n",
    "Ejemplo de código Python para comprobar la independencia lineal:"
   ]
  },
  {
   "cell_type": "code",
   "execution_count": 8,
   "metadata": {},
   "outputs": [
    {
     "name": "stdout",
     "output_type": "stream",
     "text": [
      "Los vectores no son linealmente independientes.\n"
     ]
    }
   ],
   "source": [
    "import numpy as np\n",
    "\n",
    "# Definir tres vectores\n",
    "v1 = np.array([1, 0])\n",
    "v2 = np.array([0, 1])\n",
    "v3 = np.array([2, 3])\n",
    "\n",
    "# Verificar si los vectores son linealmente independientes\n",
    "matrix = np.vstack((v1, v2, v3))\n",
    "rank = np.linalg.matrix_rank(matrix)\n",
    "num_vectors = matrix.shape[0]\n",
    "\n",
    "if rank == num_vectors:\n",
    "    print(\"Los vectores son linealmente independientes.\")\n",
    "else:\n",
    "    print(\"Los vectores no son linealmente independientes.\")"
   ]
  },
  {
   "attachments": {},
   "cell_type": "markdown",
   "metadata": {},
   "source": [
    "En este caso, los vectores `v1` y `v2` son linealmente independientes, mientras que `v3` es linealmente dependiente de los otros dos.\n",
    "\n",
    "5. **Sistemas de ecuaciones lineales:**\n",
    "\n",
    "Un sistema de ecuaciones lineales es un conjunto de ecuaciones lineales que se deben resolver simultáneamente. Cada ecuación representa una restricción y las soluciones del sistema son los valores que satisfacen todas las ecuaciones.\n",
    "\n",
    "Ejemplo de código Python para resolver un sistema de ecuaciones lineales:"
   ]
  },
  {
   "cell_type": "code",
   "execution_count": 9,
   "metadata": {},
   "outputs": [
    {
     "name": "stdout",
     "output_type": "stream",
     "text": [
      "Solución del sistema de ecuaciones: [1.6 1.6]\n"
     ]
    }
   ],
   "source": [
    "import numpy as np\n",
    "\n",
    "# Definir el sistema de ecuaciones\n",
    "A = np.array([[2, 3], [1, -1]])\n",
    "b = np.array([8, 0])\n",
    "\n",
    "# Resolver el sistema de ecuaciones\n",
    "x = np.linalg.solve(A, b)\n",
    "print(\"Solución del sistema de ecuaciones:\", x)"
   ]
  },
  {
   "attachments": {},
   "cell_type": "markdown",
   "metadata": {},
   "source": [
    "La solución del sistema de ecuaciones será un vector que satisface todas las ecuaciones simultáneamente.\n",
    "\n",
    "Espero que estos ejemplos te ayuden a comprender mejor los conceptos de vectores, matrices, arreglos, independencia lineal y sistemas de ecuaciones lineales."
   ]
  },
  {
   "attachments": {},
   "cell_type": "markdown",
   "metadata": {},
   "source": [
    "## **Rango, traza, traspuesta, inversa de una matriz**"
   ]
  },
  {
   "attachments": {},
   "cell_type": "markdown",
   "metadata": {},
   "source": [
    "1. **Rango de una matriz:** El rango de una matriz se refiere al número máximo de columnas (o filas) linealmente independientes que contiene. Es una medida de la dimensionalidad del espacio de columnas (o filas) de la matriz. Se puede calcular utilizando el método `np.linalg.matrix_rank` en Python.\n",
    "Aquí tienes un ejemplo de cómo calcular el rango de una matriz y graficar su espacio de columnas en Python:"
   ]
  },
  {
   "cell_type": "code",
   "execution_count": 11,
   "metadata": {},
   "outputs": [
    {
     "name": "stdout",
     "output_type": "stream",
     "text": [
      "El rango de la matriz A es: 2\n"
     ]
    },
    {
     "data": {
      "image/png": "[encoded data removed]",
      "text/plain": [
       "<Figure size 432x288 with 1 Axes>"
      ]
     },
     "metadata": {
      "needs_background": "light"
     },
     "output_type": "display_data"
    }
   ],
   "source": [
    "import numpy as np\n",
    "import matplotlib.pyplot as plt\n",
    "\n",
    "# Definir una matriz\n",
    "A = np.array([[1, 2], [3, 4]])\n",
    "\n",
    "# Calcular el rango de la matriz\n",
    "rank = np.linalg.matrix_rank(A)\n",
    "print(\"El rango de la matriz A es:\", rank)\n",
    "\n",
    "# Obtener los vectores columna de la matriz\n",
    "v1 = A[:, 0]\n",
    "v2 = A[:, 1]\n",
    "\n",
    "# Graficar los vectores columna de la matriz como vectores\n",
    "plt.quiver(0, 0, v1[0], v1[1], angles='xy', scale_units='xy', scale=1, color='r')\n",
    "plt.quiver(0, 0, v2[0], v2[1], angles='xy', scale_units='xy', scale=1, color='b')\n",
    "\n",
    "plt.xlim(-1, 5)\n",
    "plt.ylim(-1, 5)\n",
    "plt.xlabel('Eje x')\n",
    "plt.ylabel('Eje y')\n",
    "plt.grid()\n",
    "plt.show()"
   ]
  },
  {
   "attachments": {},
   "cell_type": "markdown",
   "metadata": {},
   "source": [
    "En este ejemplo, se define una matriz A de tamaño 2x2. Se utiliza la función `np.linalg.matrix_rank` para calcular su rango, y se muestra el resultado. Luego, se grafican los vectores columna de la matriz como vectores en el plano `xy`.\n",
    "\n",
    "2. **Traza de una matriz:** La traza de una matriz se refiere a la suma de los elementos en la diagonal principal de la matriz. Se puede calcular utilizando el método `np.trace` en Python.\n",
    "\n",
    "Aquí tienes un ejemplo de cómo calcular la traza de una matriz en Python:"
   ]
  },
  {
   "cell_type": "code",
   "execution_count": 12,
   "metadata": {},
   "outputs": [
    {
     "name": "stdout",
     "output_type": "stream",
     "text": [
      "La traza de la matriz A es: 5\n"
     ]
    }
   ],
   "source": [
    "import numpy as np\n",
    "\n",
    "# Definir una matriz\n",
    "A = np.array([[1, 2], [3, 4]])\n",
    "\n",
    "# Calcular la traza de la matriz\n",
    "trace = np.trace(A)\n",
    "print(\"La traza de la matriz A es:\", trace)"
   ]
  },
  {
   "attachments": {},
   "cell_type": "markdown",
   "metadata": {},
   "source": [
    "En este ejemplo, se define una matriz `A` de tamaño `2x2`. Se utiliza la función `np.trace` para calcular su traza, y se muestra el resultado.\n",
    "\n",
    "3. **Traspuesta de una matriz:** La traspuesta de una matriz se obtiene al intercambiar sus filas por columnas. Es decir, los elementos de la fila `i` se convierten en los elementos de la columna `i` en la matriz traspuesta. Se puede calcular utilizando el atributo `.T` en una matriz `NumPy`.\n",
    "\n",
    "Aquí tienes un ejemplo de cómo obtener la traspuesta de una matriz en Python:"
   ]
  },
  {
   "cell_type": "code",
   "execution_count": 13,
   "metadata": {},
   "outputs": [
    {
     "name": "stdout",
     "output_type": "stream",
     "text": [
      "La traspuesta de la matriz A es:\n",
      "[[1 3]\n",
      " [2 4]]\n"
     ]
    }
   ],
   "source": [
    "import numpy as np\n",
    "\n",
    "# Definir una matriz\n",
    "A = np.array([[1, 2], [3, 4]])\n",
    "\n",
    "# Obtener la traspuesta de la matriz\n",
    "A_traspuesta = A.T\n",
    "print(\"La traspuesta de la matriz A es:\")\n",
    "print(A_traspuesta)"
   ]
  },
  {
   "attachments": {},
   "cell_type": "markdown",
   "metadata": {},
   "source": [
    "En este ejemplo, se define una matriz `A` de tamaño `2x2`. Se utiliza el atributo `.T` para obtener su traspuesta, y se muestra el resultado.\n",
    "\n",
    "4. **Inversa de una matriz:** La inversa de una matriz cuadrada `A` se denota como $A^{-1}$ y es aquella matriz que, al multiplicarla por la matriz original, produce la matriz identidad. La matriz inversa solo existe para matrices cuadradas no singulares, es decir, aquellas cuyo determinante es diferente de cero. Se puede calcular utilizando la función `np.linalg.inv` en Python.\n",
    "\n",
    "Aquí tienes un ejemplo de cómo calcular la inversa de una matriz en Python:"
   ]
  },
  {
   "cell_type": "code",
   "execution_count": 14,
   "metadata": {},
   "outputs": [
    {
     "name": "stdout",
     "output_type": "stream",
     "text": [
      "La inversa de la matriz A es:\n",
      "[[-2.   1. ]\n",
      " [ 1.5 -0.5]]\n"
     ]
    }
   ],
   "source": [
    "import numpy as np\n",
    "\n",
    "# Definir una matriz cuadrada no singular\n",
    "A = np.array([[1, 2], [3, 4]])\n",
    "\n",
    "# Calcular la inversa de la matriz\n",
    "A_inversa = np.linalg.inv(A)\n",
    "print(\"La inversa de la matriz A es:\")\n",
    "print(A_inversa)"
   ]
  },
  {
   "attachments": {},
   "cell_type": "markdown",
   "metadata": {},
   "source": [
    "En este ejemplo, se define una matriz cuadrada no singular `A` de tamaño `2x2`. Se utiliza la función `np.linalg.inv` para calcular su inversa, y se muestra el resultado.\n",
    "\n",
    "Espero que esta explicación detallada junto con los ejemplos en código Python te haya sido útil. Si tienes más preguntas, no dudes en hacerlas."
   ]
  },
  {
   "attachments": {},
   "cell_type": "markdown",
   "metadata": {},
   "source": [
    "## **Determinante**"
   ]
  },
  {
   "attachments": {},
   "cell_type": "markdown",
   "metadata": {},
   "source": [
    "El determinante es una propiedad de las matrices cuadradas que proporciona información importante sobre la matriz. El determinante se calcula para una matriz cuadrada y puede ser utilizado para determinar si la matriz tiene inversa, si los vectores son linealmente independientes y para resolver sistemas de ecuaciones lineales.\n",
    "\n",
    "En Python, puedes calcular el determinante de una matriz utilizando la función `numpy.linalg.det()` del módulo NumPy. A continuación, te mostraré un ejemplo de cómo calcular el determinante de una matriz y cómo graficarla."
   ]
  },
  {
   "cell_type": "code",
   "execution_count": 16,
   "metadata": {},
   "outputs": [
    {
     "name": "stdout",
     "output_type": "stream",
     "text": [
      "El determinante de la matriz A es: 5.000000000000001\n"
     ]
    },
    {
     "data": {
      "image/png": "[encoded data removed]",
      "text/plain": [
       "<Figure size 432x288 with 1 Axes>"
      ]
     },
     "metadata": {
      "needs_background": "light"
     },
     "output_type": "display_data"
    }
   ],
   "source": [
    "import numpy as np\n",
    "import matplotlib.pyplot as plt\n",
    "\n",
    "# Definir una matriz\n",
    "A = np.array([[2, 1], [1, 3]])\n",
    "\n",
    "# Calcular el determinante de la matriz\n",
    "det = np.linalg.det(A)\n",
    "print(\"El determinante de la matriz A es:\", det)\n",
    "\n",
    "# Graficar los vectores columna de la matriz como vectores\n",
    "plt.quiver([0, 0], [0, 0], A[:, 0], A[:, 1], angles='xy', scale_units='xy', scale=1)\n",
    "plt.xlim(-1, 4)\n",
    "plt.ylim(-1, 4)\n",
    "plt.xlabel('Eje x')\n",
    "plt.ylabel('Eje y')\n",
    "plt.grid()\n",
    "plt.show()"
   ]
  },
  {
   "attachments": {},
   "cell_type": "markdown",
   "metadata": {},
   "source": [
    "En este ejemplo, hemos definido una matriz `A` de tamaño `2x2`. Luego, utilizamos la función `np.linalg.det(A)` para calcular el determinante de la matriz `A` y lo almacenamos en la variable `det`. Finalmente, imprimimos el valor del determinante.\n",
    "\n",
    "Además, utilizamos la función `plt.quiver()` para graficar los vectores columna de la matriz `A` como flechas en el plano. Esto nos permite visualizar cómo se distribuyen los vectores en el espacio. Ajustamos los límites de los ejes (`xlim` y `ylim`) para una mejor visualización y agregamos etiquetas y una cuadrícula al gráfico.\n",
    "\n",
    "El determinante puede tener diferentes valores y significados dependiendo de su valor:\n",
    "\n",
    "* Si el determinante es cero (`det = 0`), la matriz es singular y no tiene inversa. Los vectores columna de la matriz son linealmente dependientes, lo que significa que uno o más vectores se pueden expresar como una combinación lineal de los otros vectores.\n",
    "\n",
    "* Si el determinante es diferente de cero (`det != 0`), la matriz es no singular y tiene inversa. Los vectores columna de la matriz son linealmente independientes y pueden formar una base del espacio en el que residen.\n",
    "\n",
    "El determinante también puede proporcionar información sobre la escala de transformación de la matriz en el espacio. Si el determinante es negativo, la matriz invierte la orientación de las áreas en el espacio, mientras que si es positivo, mantiene la orientación.\n",
    "\n",
    "La representación gráfica de los vectores columna de la matriz nos ayuda a visualizar la dirección y magnitud de los vectores en el plano. Esto puede ser útil para comprender la relación entre los vectores y la forma general de la matriz."
   ]
  },
  {
   "attachments": {},
   "cell_type": "markdown",
   "metadata": {},
   "source": [
    "## **Matriz identidad, simétrica, triangular**"
   ]
  },
  {
   "attachments": {},
   "cell_type": "markdown",
   "metadata": {},
   "source": [
    "* **Matriz identidad:** Una matriz identidad es una matriz cuadrada en la que todos los elementos de la diagonal principal son iguales a 1, y los demás elementos son iguales a 0. La matriz identidad se denota comúnmente como \"$I$\" o \"$I_n$\", donde \"$n$\" representa la dimensión de la matriz."
   ]
  },
  {
   "cell_type": "code",
   "execution_count": 17,
   "metadata": {},
   "outputs": [
    {
     "name": "stdout",
     "output_type": "stream",
     "text": [
      "Matriz identidad 3x3:\n",
      "[[1. 0. 0.]\n",
      " [0. 1. 0.]\n",
      " [0. 0. 1.]]\n"
     ]
    }
   ],
   "source": [
    "import numpy as np\n",
    "\n",
    "# Crear una matriz identidad de dimensión 3x3\n",
    "I = np.eye(3)\n",
    "print(\"Matriz identidad 3x3:\")\n",
    "print(I)"
   ]
  },
  {
   "attachments": {},
   "cell_type": "markdown",
   "metadata": {},
   "source": [
    "La matriz identidad es especial porque tiene la propiedad de que, cuando se multiplica por cualquier otra matriz, el resultado es la misma matriz. Por ejemplo, si multiplicamos una matriz \"$A$\" por la matriz identidad \"$I$\", el resultado será la matriz \"$A$\" sin cambios.\n",
    "\n",
    "* **Matriz simétrica:** Una matriz simétrica es una matriz cuadrada en la que los elementos son simétricos con respecto a la diagonal principal. Esto significa que el elemento en la fila \"$i$\" y la columna \"$j$\" es igual al elemento en la fila \"$j$\" y la columna \"$i$\"."
   ]
  },
  {
   "cell_type": "code",
   "execution_count": 18,
   "metadata": {},
   "outputs": [
    {
     "name": "stdout",
     "output_type": "stream",
     "text": [
      "Matriz simétrica 3x3:\n",
      "[[1 2 3]\n",
      " [2 4 5]\n",
      " [3 5 6]]\n"
     ]
    }
   ],
   "source": [
    "import numpy as np\n",
    "\n",
    "# Crear una matriz simétrica de dimensión 3x3\n",
    "A = np.array([[1, 2, 3], [2, 4, 5], [3, 5, 6]])\n",
    "print(\"Matriz simétrica 3x3:\")\n",
    "print(A)"
   ]
  },
  {
   "attachments": {},
   "cell_type": "markdown",
   "metadata": {},
   "source": [
    "La propiedad clave de una matriz simétrica es que la matriz original es igual a su traspuesta.\n",
    "\n",
    "* **Matriz triangular:** Una matriz triangular es una matriz cuadrada en la que todos los elementos por encima o por debajo de la diagonal principal son iguales a cero. Dependiendo de su posición con respecto a la diagonal principal, puede ser una matriz triangular superior o una matriz triangular inferior."
   ]
  },
  {
   "cell_type": "code",
   "execution_count": 19,
   "metadata": {},
   "outputs": [
    {
     "name": "stdout",
     "output_type": "stream",
     "text": [
      "Matriz triangular superior 3x3:\n",
      "[[1 2 3]\n",
      " [0 4 5]\n",
      " [0 0 6]]\n",
      "Matriz triangular inferior 3x3:\n",
      "[[1 0 0]\n",
      " [2 4 0]\n",
      " [3 5 6]]\n"
     ]
    }
   ],
   "source": [
    "import numpy as np\n",
    "\n",
    "# Crear una matriz triangular superior de dimensión 3x3\n",
    "U = np.array([[1, 2, 3], [0, 4, 5], [0, 0, 6]])\n",
    "print(\"Matriz triangular superior 3x3:\")\n",
    "print(U)\n",
    "\n",
    "# Crear una matriz triangular inferior de dimensión 3x3\n",
    "L = np.array([[1, 0, 0], [2, 4, 0], [3, 5, 6]])\n",
    "print(\"Matriz triangular inferior 3x3:\")\n",
    "print(L)"
   ]
  },
  {
   "attachments": {},
   "cell_type": "markdown",
   "metadata": {},
   "source": [
    "En una matriz triangular superior, todos los elementos por debajo de la diagonal principal son cero, mientras que en una matriz triangular inferior, todos los elementos por encima de la diagonal principal son cero. Las matrices triangulares tienen propiedades especiales que las hacen útiles en algunos cálculos matemáticos y algoritmos."
   ]
  },
  {
   "attachments": {},
   "cell_type": "markdown",
   "metadata": {},
   "source": [
    "## **Autovalores, autovectores**"
   ]
  },
  {
   "attachments": {},
   "cell_type": "markdown",
   "metadata": {},
   "source": [
    "Los autovalores y autovectores son conceptos importantes en el álgebra lineal que están asociados a las transformaciones lineales y las matrices. Los autovalores y autovectores nos permiten entender las propiedades de una matriz y cómo se comporta en ciertas operaciones.\n",
    "\n",
    "* **Autovalores:** Los autovalores, también conocidos como valores propios, son los valores escalares que representan las características especiales de una matriz. Para calcular los autovalores de una matriz, se resuelve la ecuación característica:\n",
    "\n",
    "$det(A - λI) = 0$\n",
    "\n",
    "Donde $A$ es la matriz, $λ$ es el autovalor y $I$ es la matriz identidad del mismo tamaño que $A$.\n",
    "\n",
    "* **Autovectores:** Los autovectores, también conocidos como vectores propios, son los vectores no nulos que están asociados a los autovalores correspondientes. Los autovectores son utilizados para representar las direcciones en las cuales la matriz $A$ solo escala el vector sin cambiar su dirección. Para encontrar los autovectores correspondientes a los autovalores, se resuelve el sistema de ecuaciones:\n",
    "\n",
    "$(A - λI)x = 0$\n",
    "\n",
    "Donde $A$ es la matriz, $λ$ es el autovalor y $x$ es el autovector.\n",
    "\n",
    "Veamos un ejemplo de cómo calcular los autovalores y autovectores utilizando Python:"
   ]
  },
  {
   "cell_type": "code",
   "execution_count": 20,
   "metadata": {},
   "outputs": [
    {
     "name": "stdout",
     "output_type": "stream",
     "text": [
      "Autovalores:\n",
      "1.381966011250105\n",
      "3.618033988749895\n",
      "\n",
      "Autovectores:\n",
      "Autovector 1 : [-0.85065081  0.52573111]\n",
      "Autovector 2 : [-0.52573111 -0.85065081]\n"
     ]
    }
   ],
   "source": [
    "import numpy as np\n",
    "\n",
    "# Definir una matriz\n",
    "A = np.array([[2, 1], [1, 3]])\n",
    "\n",
    "# Calcular los autovalores y autovectores\n",
    "autovalores, autovectores = np.linalg.eig(A)\n",
    "\n",
    "print(\"Autovalores:\")\n",
    "for autovalor in autovalores:\n",
    "    print(autovalor)\n",
    "\n",
    "print(\"\\nAutovectores:\")\n",
    "for i in range(len(autovectores)):\n",
    "    print(\"Autovector\", i+1, \":\", autovectores[:, i])"
   ]
  },
  {
   "attachments": {},
   "cell_type": "markdown",
   "metadata": {},
   "source": [
    "En este ejemplo, la matriz $A$ tiene dos `autovalores`: 1.381966011250105 y 3.618033988749895. Cada autovalor está asociado a un `autovector` correspondiente. Los autovectores representan las direcciones en las que la matriz $A$ solo escala el vector sin cambiar su dirección."
   ]
  },
  {
   "attachments": {},
   "cell_type": "markdown",
   "metadata": {},
   "source": [
    "| **Inicio** | **atrás 1** | **Siguiente 3** |\n",
    "|----------- |-------------- |---------------|\n",
    "| [🏠](../../../README.md) | [⏪](./1.INTRODUCCION_AL_ANALISIS_DE_DATOS.ipynb)| [⏩](./3.INTRODUCCION_A_LA_ESTADISTICA_DESCRIPTIVA_Y_MACHINE_LEARNING.ipynb)|"
   ]
  }
 ],
 "metadata": {
  "kernelspec": {
   "display_name": "base",
   "language": "python",
   "name": "python3"
  },
  "language_info": {
   "codemirror_mode": {
    "name": "ipython",
    "version": 3
   },
   "file_extension": ".py",
   "mimetype": "text/x-python",
   "name": "python",
   "nbconvert_exporter": "python",
   "pygments_lexer": "ipython3",
   "version": "3.9.12"
  },
  "orig_nbformat": 4
 },
 "nbformat": 4,
 "nbformat_minor": 2
}
