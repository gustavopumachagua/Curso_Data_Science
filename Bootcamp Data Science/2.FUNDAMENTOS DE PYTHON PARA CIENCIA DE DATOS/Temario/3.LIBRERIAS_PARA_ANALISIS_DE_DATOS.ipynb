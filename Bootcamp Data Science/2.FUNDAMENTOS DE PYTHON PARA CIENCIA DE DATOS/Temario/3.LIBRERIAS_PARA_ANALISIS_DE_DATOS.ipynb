{
 "cells": [
  {
   "attachments": {},
   "cell_type": "markdown",
   "metadata": {},
   "source": [
    "| **Inicio** | **atrás 2** |\n",
    "|----------- |-------------- |\n",
    "| [🏠](../../../README.md) | [⏪](./2.BUCLES_Y_FUNCIONES.ipynb)|"
   ]
  },
  {
   "attachments": {},
   "cell_type": "markdown",
   "metadata": {},
   "source": [
    "# **3. LIBRERÍAS PARA ANÁLISIS DE DATOS**"
   ]
  },
  {
   "attachments": {},
   "cell_type": "markdown",
   "metadata": {},
   "source": [
    "## **Numpy: atributos y métodos**"
   ]
  },
  {
   "attachments": {},
   "cell_type": "markdown",
   "metadata": {},
   "source": [
    "`NumPy` es una biblioteca de Python ampliamente utilizada para realizar cálculos numéricos y trabajar con matrices y arreglos multidimensionales de manera eficiente. Proporciona una amplia gama de funciones y operaciones matemáticas que son útiles en el ámbito científico y de análisis de datos. A continuación, te proporcionaré una explicación detallada sobre `NumPy`, sus atributos y métodos, junto con ejemplos:\n",
    "\n",
    "* **Instalación de NumPy:**\n",
    "\n",
    "Antes de comenzar, asegúrate de tener `NumPy` instalado en tu entorno. Puedes instalarlo utilizando el siguiente comando en tu terminal:"
   ]
  },
  {
   "attachments": {},
   "cell_type": "markdown",
   "metadata": {},
   "source": [
    "`pip install numpy`"
   ]
  },
  {
   "attachments": {},
   "cell_type": "markdown",
   "metadata": {},
   "source": [
    "* **Importar NumPy:**\n",
    "\n",
    "Para utilizar `NumPy` en tu programa, debes importar la biblioteca utilizando la siguiente declaración:"
   ]
  },
  {
   "cell_type": "code",
   "execution_count": 1,
   "metadata": {},
   "outputs": [],
   "source": [
    "import numpy as np"
   ]
  },
  {
   "attachments": {},
   "cell_type": "markdown",
   "metadata": {},
   "source": [
    "La convención más común es importar `NumPy` utilizando el alias `np`, lo cual facilita la referencia a sus atributos y métodos.\n",
    "\n",
    "* **Atributos de NumPy:**\n",
    "\n",
    "* **ndarray:** El objeto principal de `NumPy` es el `ndarray`, que representa un arreglo multidimensional de elementos del mismo tipo. Tiene varios atributos útiles, como `ndim` (número de dimensiones), `shape` (forma del arreglo), `size` (número total de elementos) y `dtype` (tipo de datos). Aquí tienes un ejemplo:"
   ]
  },
  {
   "cell_type": "code",
   "execution_count": 2,
   "metadata": {},
   "outputs": [
    {
     "name": "stdout",
     "output_type": "stream",
     "text": [
      "1\n",
      "(5,)\n",
      "5\n",
      "int64\n"
     ]
    }
   ],
   "source": [
    "import numpy as np\n",
    "\n",
    "arr = np.array([1, 2, 3, 4, 5])\n",
    "print(arr.ndim)      # Imprime: 1\n",
    "print(arr.shape)     # Imprime: (5,)\n",
    "print(arr.size)      # Imprime: 5\n",
    "print(arr.dtype)     # Imprime: int64"
   ]
  },
  {
   "attachments": {},
   "cell_type": "markdown",
   "metadata": {},
   "source": [
    "En este ejemplo, se crea un arreglo unidimensional `arr` y se imprimen sus atributos.\n",
    "\n",
    "* **Métodos de NumPy:**\n",
    "\n",
    "`NumPy` ofrece una amplia gama de métodos y funciones para realizar operaciones matemáticas y manipular arreglos. A continuación, se presentan algunos ejemplos de los métodos más utilizados:\n",
    "\n",
    "* **reshape():** Cambia la forma de un arreglo sin cambiar sus elementos. Por ejemplo:"
   ]
  },
  {
   "cell_type": "code",
   "execution_count": 3,
   "metadata": {},
   "outputs": [
    {
     "name": "stdout",
     "output_type": "stream",
     "text": [
      "[[1 2 3]\n",
      " [4 5 6]]\n"
     ]
    }
   ],
   "source": [
    "import numpy as np\n",
    "\n",
    "arr = np.array([1, 2, 3, 4, 5, 6])\n",
    "reshaped_arr = arr.reshape(2, 3)\n",
    "print(reshaped_arr)"
   ]
  },
  {
   "attachments": {},
   "cell_type": "markdown",
   "metadata": {},
   "source": [
    "En este ejemplo, se cambia la forma del arreglo `arr` a una matriz de 2 filas y 3 columnas utilizando el método `reshape()`. El resultado se asigna a `reshaped_arr` y se imprime.\n",
    "\n",
    "* **sum():** Calcula la suma de los elementos del arreglo. Por ejemplo:"
   ]
  },
  {
   "cell_type": "code",
   "execution_count": 4,
   "metadata": {},
   "outputs": [
    {
     "name": "stdout",
     "output_type": "stream",
     "text": [
      "15\n"
     ]
    }
   ],
   "source": [
    "import numpy as np\n",
    "\n",
    "arr = np.array([1, 2, 3, 4, 5])\n",
    "sum_result = arr.sum()\n",
    "print(sum_result)  # Imprime: 15"
   ]
  },
  {
   "attachments": {},
   "cell_type": "markdown",
   "metadata": {},
   "source": [
    "En este ejemplo, se calcula la suma de los elementos del arreglo `arr` utilizando el método `sum()` y se imprime el resultado.\n",
    "\n",
    "* **mean():** Calcula el valor medio de los elementos del arreglo. Por ejemplo:"
   ]
  },
  {
   "cell_type": "code",
   "execution_count": 5,
   "metadata": {},
   "outputs": [
    {
     "name": "stdout",
     "output_type": "stream",
     "text": [
      "3.0\n"
     ]
    }
   ],
   "source": [
    "import numpy as np\n",
    "\n",
    "arr = np.array([1, 2, 3, 4, 5])\n",
    "mean_result = arr.mean()\n",
    "print(mean_result)  # Imprime: 3.0"
   ]
  },
  {
   "attachments": {},
   "cell_type": "markdown",
   "metadata": {},
   "source": [
    "En este ejemplo, se calcula el valor medio de los elementos del arreglo `arr` utilizando el método `mean()` y se imprime el resultado.\n",
    "\n",
    "* **max(), min():** Encuentran el valor máximo y mínimo en el arreglo, respectivamente. Por ejemplo:"
   ]
  },
  {
   "cell_type": "code",
   "execution_count": 6,
   "metadata": {},
   "outputs": [
    {
     "name": "stdout",
     "output_type": "stream",
     "text": [
      "5\n",
      "1\n"
     ]
    }
   ],
   "source": [
    "import numpy as np\n",
    "\n",
    "arr = np.array([1, 2, 3, 4, 5])\n",
    "max_value = arr.max()\n",
    "min_value = arr.min()\n",
    "print(max_value)  # Imprime: 5\n",
    "print(min_value)  # Imprime: 1"
   ]
  },
  {
   "attachments": {},
   "cell_type": "markdown",
   "metadata": {},
   "source": [
    "En este ejemplo, se utiliza el método `max()` para encontrar el valor máximo en el arreglo `arr` y el método `min()` para encontrar el valor mínimo. Los resultados se imprimen.\n",
    "\n",
    "Estos son solo algunos ejemplos de los muchos atributos y métodos disponibles en `NumPy`. La biblioteca también proporciona operaciones matemáticas avanzadas, operaciones de álgebra lineal, generación de números aleatorios y mucho más.\n",
    "\n",
    "En resumen, `NumPy` es una biblioteca de Python ampliamente utilizada para realizar cálculos numéricos y trabajar con matrices y arreglos multidimensionales de manera eficiente. Sus atributos, como `ndim`, `shape`, `size` y `dtype`, proporcionan información sobre los arreglos, mientras que sus métodos, como `reshape()`, `sum()`, `mean()`, `max()` y `min()`, permiten realizar operaciones matemáticas y manipulaciones en los arreglos."
   ]
  },
  {
   "attachments": {},
   "cell_type": "markdown",
   "metadata": {},
   "source": [
    "## **Pandas: Series y DataFrames**"
   ]
  },
  {
   "attachments": {},
   "cell_type": "markdown",
   "metadata": {},
   "source": [
    "`Pandas` es una biblioteca de Python muy popular y poderosa utilizada para el análisis y la manipulación de datos. Proporciona estructuras de datos de alto rendimiento, como `Series` y `DataFrames`, que permiten trabajar con datos de manera eficiente y flexible. A continuación, te proporcionaré una explicación detallada sobre Pandas, las Series y los DataFrames, junto con ejemplos:\n",
    "\n",
    "* **Instalación de Pandas:**\n",
    "\n",
    "Antes de comenzar, asegúrate de tener Pandas instalado en tu entorno. Puedes instalarlo utilizando el siguiente comando en tu terminal:"
   ]
  },
  {
   "attachments": {},
   "cell_type": "markdown",
   "metadata": {},
   "source": [
    "`pip install pandas`"
   ]
  },
  {
   "attachments": {},
   "cell_type": "markdown",
   "metadata": {},
   "source": [
    "* **Importar Pandas:**\n",
    "\n",
    "Para utilizar Pandas en tu programa, debes importar la biblioteca utilizando la siguiente declaración:"
   ]
  },
  {
   "cell_type": "code",
   "execution_count": 7,
   "metadata": {},
   "outputs": [],
   "source": [
    "import pandas as pd"
   ]
  },
  {
   "attachments": {},
   "cell_type": "markdown",
   "metadata": {},
   "source": [
    "La convención más común es importar `Pandas` utilizando el alias `pd`, lo cual facilita la referencia a sus atributos y métodos.\n",
    "\n",
    "* **Series en Pandas:**\n",
    "\n",
    "Una Serie en Pandas es una estructura de datos unidimensional etiquetada y homogénea. Puede contener datos de diferentes tipos, como enteros, cadenas, números de punto flotante, etc. Puedes crear una Serie utilizando la clase `Series` de Pandas. A continuación, se muestra un ejemplo:"
   ]
  },
  {
   "cell_type": "code",
   "execution_count": 8,
   "metadata": {},
   "outputs": [
    {
     "name": "stdout",
     "output_type": "stream",
     "text": [
      "0    10\n",
      "1    20\n",
      "2    30\n",
      "3    40\n",
      "4    50\n",
      "dtype: int64\n"
     ]
    }
   ],
   "source": [
    "import pandas as pd\n",
    "\n",
    "# Crear una Serie a partir de una lista\n",
    "data = [10, 20, 30, 40, 50]\n",
    "serie = pd.Series(data)\n",
    "print(serie)"
   ]
  },
  {
   "attachments": {},
   "cell_type": "markdown",
   "metadata": {},
   "source": [
    "En este ejemplo, se crea una `Serie` serie a partir de una lista `data`. La Serie resultante contiene los elementos de la lista y se imprime.\n",
    "\n",
    "Las Series en Pandas tienen etiquetas o índices que identifican cada elemento de la Serie. Por defecto, los índices son números enteros incrementales, pero también puedes especificar etiquetas personalizadas.\n",
    "\n",
    "* **DataFrames en Pandas:**\n",
    "\n",
    "Un DataFrame en Pandas es una estructura de datos bidimensional etiquetada y heterogénea. Es similar a una tabla en una base de datos o una hoja de cálculo de Excel. Puedes crear un DataFrame utilizando la clase `DataFrame` de Pandas. A continuación, se muestra un ejemplo:"
   ]
  },
  {
   "cell_type": "code",
   "execution_count": 9,
   "metadata": {},
   "outputs": [
    {
     "name": "stdout",
     "output_type": "stream",
     "text": [
      "  Nombre  Edad     Ciudad\n",
      "0   Juan    25     Madrid\n",
      "1  María    30  Barcelona\n",
      "2  Pedro    35   Valencia\n"
     ]
    }
   ],
   "source": [
    "import pandas as pd\n",
    "\n",
    "# Crear un DataFrame a partir de un diccionario\n",
    "data = {\n",
    "    'Nombre': ['Juan', 'María', 'Pedro'],\n",
    "    'Edad': [25, 30, 35],\n",
    "    'Ciudad': ['Madrid', 'Barcelona', 'Valencia']\n",
    "}\n",
    "df = pd.DataFrame(data)\n",
    "print(df)"
   ]
  },
  {
   "attachments": {},
   "cell_type": "markdown",
   "metadata": {},
   "source": [
    "En este ejemplo, se crea un DataFrame `df` a partir de un diccionario `data`. El diccionario contiene las columnas del DataFrame y sus respectivos valores. El DataFrame resultante se imprime.\n",
    "\n",
    "Los DataFrames en Pandas son muy flexibles y proporcionan numerosos métodos y funciones para realizar operaciones de manipulación, filtrado, agregación y análisis de datos.\n",
    "\n",
    "* **Acceso a datos en Series y DataFrames:**\n",
    "\n",
    "Tanto las Series como los DataFrames en Pandas permiten acceder y manipular los datos de diferentes formas. Algunos ejemplos comunes incluyen:\n",
    "\n",
    "* **Acceso a columnas en un DataFrame:**"
   ]
  },
  {
   "cell_type": "code",
   "execution_count": 10,
   "metadata": {},
   "outputs": [
    {
     "name": "stdout",
     "output_type": "stream",
     "text": [
      "0     Juan\n",
      "1    María\n",
      "2    Pedro\n",
      "Name: Nombre, dtype: object\n",
      "  Nombre  Edad\n",
      "0   Juan    25\n",
      "1  María    30\n",
      "2  Pedro    35\n"
     ]
    }
   ],
   "source": [
    "import pandas as pd\n",
    "\n",
    "data = {\n",
    "    'Nombre': ['Juan', 'María', 'Pedro'],\n",
    "    'Edad': [25, 30, 35],\n",
    "    'Ciudad': ['Madrid', 'Barcelona', 'Valencia']\n",
    "}\n",
    "df = pd.DataFrame(data)\n",
    "\n",
    "# Acceso a una columna\n",
    "print(df['Nombre'])\n",
    "\n",
    "# Acceso a múltiples columnas\n",
    "print(df[['Nombre', 'Edad']])"
   ]
  },
  {
   "attachments": {},
   "cell_type": "markdown",
   "metadata": {},
   "source": [
    "* **Acceso a filas en un DataFrame:**"
   ]
  },
  {
   "cell_type": "code",
   "execution_count": 11,
   "metadata": {},
   "outputs": [
    {
     "name": "stdout",
     "output_type": "stream",
     "text": [
      "Nombre      Juan\n",
      "Edad          25\n",
      "Ciudad    Madrid\n",
      "Name: 0, dtype: object\n",
      "  Nombre  Edad    Ciudad\n",
      "0   Juan    25    Madrid\n",
      "2  Pedro    35  Valencia\n",
      "  Nombre  Edad    Ciudad\n",
      "2  Pedro    35  Valencia\n"
     ]
    }
   ],
   "source": [
    "import pandas as pd\n",
    "\n",
    "data = {\n",
    "    'Nombre': ['Juan', 'María', 'Pedro'],\n",
    "    'Edad': [25, 30, 35],\n",
    "    'Ciudad': ['Madrid', 'Barcelona', 'Valencia']\n",
    "}\n",
    "df = pd.DataFrame(data)\n",
    "\n",
    "# Acceso a una fila por índice\n",
    "print(df.loc[0])\n",
    "\n",
    "# Acceso a múltiples filas por índices\n",
    "print(df.loc[[0, 2]])\n",
    "\n",
    "# Acceso a filas mediante una condición\n",
    "print(df[df['Edad'] > 30])"
   ]
  },
  {
   "attachments": {},
   "cell_type": "markdown",
   "metadata": {},
   "source": [
    "* **Acceso a elementos en una Serie:**"
   ]
  },
  {
   "cell_type": "code",
   "execution_count": 12,
   "metadata": {},
   "outputs": [
    {
     "name": "stdout",
     "output_type": "stream",
     "text": [
      "30\n"
     ]
    }
   ],
   "source": [
    "import pandas as pd\n",
    "\n",
    "data = [10, 20, 30, 40, 50]\n",
    "serie = pd.Series(data)\n",
    "\n",
    "# Acceso a un elemento por índice\n",
    "print(serie[2])"
   ]
  },
  {
   "attachments": {},
   "cell_type": "markdown",
   "metadata": {},
   "source": [
    "En resumen, Pandas es una biblioteca de Python ampliamente utilizada para el análisis y la manipulación de datos. Las Series son estructuras de datos unidimensionales, mientras que los DataFrames son estructuras de datos bidimensionales. Ambas ofrecen una amplia gama de funcionalidades para acceder, manipular y analizar datos de manera eficiente. Los ejemplos mencionados anteriormente son solo una introducción básica a las Series y los DataFrames en Pandas, y existen muchas más características y operaciones avanzadas disponibles."
   ]
  },
  {
   "attachments": {},
   "cell_type": "markdown",
   "metadata": {},
   "source": [
    "## **Matplotlib, Seaborn**"
   ]
  },
  {
   "attachments": {},
   "cell_type": "markdown",
   "metadata": {},
   "source": [
    "Matplotlib y Seaborn son bibliotecas de visualización de datos en Python que te permiten crear gráficos y visualizaciones de alta calidad de manera fácil y efectiva. A continuación, te proporcionaré una explicación detallada sobre Matplotlib y Seaborn, junto con ejemplos:\n",
    "\n",
    "* **Matplotlib:**\n",
    "\n",
    "Matplotlib es una biblioteca muy popular para la visualización de datos en Python. Proporciona una amplia gama de funciones y estilos para crear una variedad de gráficos, como gráficos de líneas, gráficos de barras, histogramas, diagramas de dispersión, gráficos de áreas y muchos más.\n",
    "\n",
    "A continuación, se muestra un ejemplo básico de cómo crear un gráfico de línea utilizando Matplotlib:"
   ]
  },
  {
   "cell_type": "code",
   "execution_count": 13,
   "metadata": {},
   "outputs": [
    {
     "data": {
      "image/png": "[encoded data removed]",
      "text/plain": [
       "<Figure size 432x288 with 1 Axes>"
      ]
     },
     "metadata": {
      "needs_background": "light"
     },
     "output_type": "display_data"
    }
   ],
   "source": [
    "import matplotlib.pyplot as plt\n",
    "\n",
    "# Datos de ejemplo\n",
    "x = [1, 2, 3, 4, 5]\n",
    "y = [2, 4, 6, 8, 10]\n",
    "\n",
    "# Crear el gráfico de línea\n",
    "plt.plot(x, y)\n",
    "\n",
    "# Agregar etiquetas y título\n",
    "plt.xlabel('Eje X')\n",
    "plt.ylabel('Eje Y')\n",
    "plt.title('Gráfico de Línea')\n",
    "\n",
    "# Mostrar el gráfico\n",
    "plt.show()"
   ]
  },
  {
   "attachments": {},
   "cell_type": "markdown",
   "metadata": {},
   "source": [
    "En este ejemplo, importamos `matplotlib.pyplot` como `plt`. Luego, creamos una lista `x` que representa los valores en el eje `x` y una lista y que representa los valores en el eje `y`. Luego, utilizamos `plt.plot(x, y)` para crear el gráfico de línea y `plt.xlabel()`, `plt.ylabel()` y `plt.title()` para agregar etiquetas y un título. Finalmente, usamos `plt.show()` para mostrar el gráfico.\n",
    "\n",
    "Matplotlib ofrece una amplia gama de opciones de personalización, como cambiar los colores, estilos de línea, agregar leyendas, ajustar los ejes y mucho más. Puedes explorar la documentación oficial de Matplotlib para obtener más información sobre sus capacidades.\n",
    "\n",
    "* **Seaborn:**\n",
    "\n",
    "Seaborn es otra biblioteca de visualización de datos en Python que se basa en Matplotlib y proporciona una interfaz de alto nivel para crear gráficos atractivos y estadísticas visuales. Seaborn simplifica la creación de gráficos complejos y ofrece estilos predeterminados atractivos.\n",
    "\n",
    "A continuación, se muestra un ejemplo de cómo crear un gráfico de barras utilizando Seaborn:"
   ]
  },
  {
   "cell_type": "code",
   "execution_count": 14,
   "metadata": {},
   "outputs": [
    {
     "data": {
      "image/png": "[encoded data removed]",
      "text/plain": [
       "<Figure size 432x288 with 1 Axes>"
      ]
     },
     "metadata": {
      "needs_background": "light"
     },
     "output_type": "display_data"
    }
   ],
   "source": [
    "import seaborn as sns\n",
    "\n",
    "# Datos de ejemplo\n",
    "x = ['A', 'B', 'C', 'D']\n",
    "y = [10, 20, 15, 30]\n",
    "\n",
    "# Crear el gráfico de barras\n",
    "sns.barplot(x=x, y=y)\n",
    "\n",
    "# Agregar etiquetas y título\n",
    "plt.xlabel('Eje X')\n",
    "plt.ylabel('Eje Y')\n",
    "plt.title('Gráfico de Barras')\n",
    "\n",
    "# Mostrar el gráfico\n",
    "plt.show()"
   ]
  },
  {
   "attachments": {},
   "cell_type": "markdown",
   "metadata": {},
   "source": [
    "En este ejemplo, importamos `seaborn` como `sns`. Luego, creamos una lista `x` que representa las categorías en el eje `x` y una lista `y` que representa los valores en el eje `y`. Luego, utilizamos `sns.barplot(x=x, y=y)` para crear el gráfico de barras. También utilizamos las funciones `plt.xlabel()`, `plt.ylabel()` y `plt.title()` de Matplotlib para agregar etiquetas y un título. Finalmente, usamos `plt.show()` para mostrar el gráfico.\n",
    "\n",
    "Seaborn ofrece una amplia gama de gráficos y funciones de visualización, incluidos gráficos de barras, gráficos de caja y bigotes, gráficos de dispersión, gráficos de violín, mapas de calor y más. También puedes personalizar los gráficos utilizando los parámetros y estilos proporcionados por Seaborn.\n",
    "\n",
    "En resumen, Matplotlib y Seaborn son bibliotecas populares de visualización de datos en Python. Matplotlib proporciona una amplia gama de gráficos y opciones de personalización, mientras que Seaborn simplifica la creación de gráficos complejos y ofrece estilos atractivos. Ambas bibliotecas son complementarias y se utilizan ampliamente en el análisis y la presentación de datos. Puedes explorar más ejemplos y funciones en la documentación oficial de Matplotlib y Seaborn para ampliar tus habilidades de visualización de datos."
   ]
  },
  {
   "attachments": {},
   "cell_type": "markdown",
   "metadata": {},
   "source": [
    "| **Inicio** | **atrás 2** |\n",
    "|----------- |-------------- |\n",
    "| [🏠](../../../README.md) | [⏪](./2.BUCLES_Y_FUNCIONES.ipynb)|"
   ]
  }
 ],
 "metadata": {
  "kernelspec": {
   "display_name": "base",
   "language": "python",
   "name": "python3"
  },
  "language_info": {
   "codemirror_mode": {
    "name": "ipython",
    "version": 3
   },
   "file_extension": ".py",
   "mimetype": "text/x-python",
   "name": "python",
   "nbconvert_exporter": "python",
   "pygments_lexer": "ipython3",
   "version": "3.9.12"
  },
  "orig_nbformat": 4
 },
 "nbformat": 4,
 "nbformat_minor": 2
}
