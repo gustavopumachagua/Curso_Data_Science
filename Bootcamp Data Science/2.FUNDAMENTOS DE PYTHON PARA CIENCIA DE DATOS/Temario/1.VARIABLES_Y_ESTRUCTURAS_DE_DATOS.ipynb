{
 "cells": [
  {
   "attachments": {},
   "cell_type": "markdown",
   "metadata": {},
   "source": [
    "| **Inicio** | **Siguiente 2** |\n",
    "|----------- |-------------- |\n",
    "| [🏠](../../../README.md) | [⏩](./2.BUCLES_Y_FUNCIONES.ipynb)|"
   ]
  },
  {
   "attachments": {},
   "cell_type": "markdown",
   "metadata": {},
   "source": [
    "# **1. VARIABLES Y ESTRUCTURAS DE DATOS**"
   ]
  },
  {
   "attachments": {},
   "cell_type": "markdown",
   "metadata": {},
   "source": [
    "## **Tipado dinámico**"
   ]
  },
  {
   "attachments": {},
   "cell_type": "markdown",
   "metadata": {},
   "source": [
    "El tipado dinámico en Python se refiere a la capacidad del lenguaje de inferir y manejar automáticamente los tipos de datos de las variables durante la ejecución del programa. En lugar de requerir declaraciones de tipos explícitas, como ocurre en lenguajes de tipado estático, Python permite asignar valores a las variables sin especificar su tipo de antemano.\n",
    "\n",
    "Veamos algunos ejemplos para comprender mejor el concepto:"
   ]
  },
  {
   "cell_type": "code",
   "execution_count": 1,
   "metadata": {},
   "outputs": [
    {
     "name": "stdout",
     "output_type": "stream",
     "text": [
      "5\n",
      "<class 'int'>\n",
      "Hola, mundo!\n",
      "<class 'str'>\n"
     ]
    }
   ],
   "source": [
    "# Asignación de un entero a una variable\n",
    "x = 5\n",
    "print(x)  # Output: 5\n",
    "print(type(x))  # Output: <class 'int'>\n",
    "\n",
    "# Reasignación de una cadena a la misma variable\n",
    "x = \"Hola, mundo!\"\n",
    "print(x)  # Output: Hola, mundo!\n",
    "print(type(x))  # Output: <class 'str'>"
   ]
  },
  {
   "attachments": {},
   "cell_type": "markdown",
   "metadata": {},
   "source": [
    "En este caso, inicialmente asignamos el valor entero `5` a la variable `x`. Python determina automáticamente que `x` es de tipo entero (`int`). Luego, reasignamos la cadena de texto \"`Hola, mundo!`\" a la misma variable `x`, y Python ajusta el tipo de `x` a cadena (`str`).\n",
    "\n",
    "Una ventaja del tipado dinámico es que permite una mayor flexibilidad al manipular datos. Por ejemplo:"
   ]
  },
  {
   "cell_type": "code",
   "execution_count": 2,
   "metadata": {},
   "outputs": [
    {
     "name": "stdout",
     "output_type": "stream",
     "text": [
      "8\n",
      "53\n"
     ]
    }
   ],
   "source": [
    "x = 5\n",
    "y = \"3\"\n",
    "\n",
    "# Suma de enteros\n",
    "print(x + int(y))  # Output: 8\n",
    "\n",
    "# Concatenación de cadenas\n",
    "print(str(x) + y)  # Output: 53"
   ]
  },
  {
   "attachments": {},
   "cell_type": "markdown",
   "metadata": {},
   "source": [
    "En este caso, convertimos la cadena \"`3`\" en un entero utilizando la función `int()` para realizar una suma con `x`. Luego, convertimos `x` en una cadena utilizando la función `str()` para concatenarlo con `y`. Python permite estas operaciones flexibles gracias al tipado dinámico.\n",
    "\n",
    "Es importante tener en cuenta que el tipado dinámico puede conducir a errores si no se maneja correctamente. Por ejemplo:"
   ]
  },
  {
   "cell_type": "code",
   "execution_count": 3,
   "metadata": {},
   "outputs": [
    {
     "ename": "TypeError",
     "evalue": "unsupported operand type(s) for +: 'int' and 'str'",
     "output_type": "error",
     "traceback": [
      "\u001b[0;31m---------------------------------------------------------------------------\u001b[0m",
      "\u001b[0;31mTypeError\u001b[0m                                 Traceback (most recent call last)",
      "\u001b[1;32m/home/puma/personalprojects/project_data/Curso_Data_Science/Bootcamp Data Science/2.FUNDAMENTOS DE PYTHON PARA CIENCIA DE DATOS/Temario/1.VARIABLES_Y_ESTRUCTURAS_DE_DATOS.ipynb Celda 9\u001b[0m in \u001b[0;36m<cell line: 4>\u001b[0;34m()\u001b[0m\n\u001b[1;32m      <a href='vscode-notebook-cell://wsl%2Bubuntu/home/puma/personalprojects/project_data/Curso_Data_Science/Bootcamp%20Data%20Science/2.FUNDAMENTOS%20DE%20PYTHON%20PARA%20CIENCIA%20DE%20DATOS/Temario/1.VARIABLES_Y_ESTRUCTURAS_DE_DATOS.ipynb#X12sdnNjb2RlLXJlbW90ZQ%3D%3D?line=0'>1</a>\u001b[0m x \u001b[39m=\u001b[39m \u001b[39m5\u001b[39m\n\u001b[1;32m      <a href='vscode-notebook-cell://wsl%2Bubuntu/home/puma/personalprojects/project_data/Curso_Data_Science/Bootcamp%20Data%20Science/2.FUNDAMENTOS%20DE%20PYTHON%20PARA%20CIENCIA%20DE%20DATOS/Temario/1.VARIABLES_Y_ESTRUCTURAS_DE_DATOS.ipynb#X12sdnNjb2RlLXJlbW90ZQ%3D%3D?line=1'>2</a>\u001b[0m y \u001b[39m=\u001b[39m \u001b[39m\"\u001b[39m\u001b[39m3\u001b[39m\u001b[39m\"\u001b[39m\n\u001b[0;32m----> <a href='vscode-notebook-cell://wsl%2Bubuntu/home/puma/personalprojects/project_data/Curso_Data_Science/Bootcamp%20Data%20Science/2.FUNDAMENTOS%20DE%20PYTHON%20PARA%20CIENCIA%20DE%20DATOS/Temario/1.VARIABLES_Y_ESTRUCTURAS_DE_DATOS.ipynb#X12sdnNjb2RlLXJlbW90ZQ%3D%3D?line=3'>4</a>\u001b[0m \u001b[39mprint\u001b[39m(x \u001b[39m+\u001b[39;49m y)\n",
      "\u001b[0;31mTypeError\u001b[0m: unsupported operand type(s) for +: 'int' and 'str'"
     ]
    }
   ],
   "source": [
    "x = 5\n",
    "y = \"3\"\n",
    "\n",
    "print(x + y)  # Error: TypeError: unsupported operand type(s) for +: 'int' and 'str'"
   ]
  },
  {
   "attachments": {},
   "cell_type": "markdown",
   "metadata": {},
   "source": [
    "En este caso, Python genera un error de tipo (`TypeError`) porque intentamos sumar un entero y una cadena, lo cual no está permitido en el contexto de la operación de suma. Esto resalta la importancia de asegurarse de que los tipos de datos sean compatibles en las operaciones que se realizan.\n",
    "\n",
    "En resumen, el tipado dinámico en Python es una característica que permite asignar valores a variables sin declarar explícitamente su tipo, ya que el lenguaje infiere y ajusta los tipos automáticamente. Esto brinda flexibilidad en la manipulación de datos, pero también requiere precaución para evitar errores de tipo."
   ]
  },
  {
   "attachments": {},
   "cell_type": "markdown",
   "metadata": {},
   "source": [
    "## **Variables y tipos de datos**"
   ]
  },
  {
   "attachments": {},
   "cell_type": "markdown",
   "metadata": {},
   "source": [
    "En Python, una variable es un nombre que se utiliza para almacenar y hacer referencia a un valor en la memoria. Las variables son fundamentales para almacenar y manipular datos en un programa. Cada variable tiene un nombre único que se utiliza para acceder a su valor y un tipo de datos que define qué tipo de valor puede contener. Python es un lenguaje de programación de tipado dinámico, lo que significa que no es necesario declarar el tipo de una variable explícitamente antes de utilizarla.\n",
    "\n",
    "**Tipos de datos en Python:**\n",
    "\n",
    "* **Enteros (int):** Representan números enteros sin parte decimal. Pueden ser positivos o negativos. Ejemplos:"
   ]
  },
  {
   "cell_type": "code",
   "execution_count": 4,
   "metadata": {},
   "outputs": [],
   "source": [
    "edad = 25\n",
    "cantidad_productos = -10"
   ]
  },
  {
   "attachments": {},
   "cell_type": "markdown",
   "metadata": {},
   "source": [
    "* **Flotantes (float):** Representan números con parte decimal. Ejemplos:"
   ]
  },
  {
   "cell_type": "code",
   "execution_count": 5,
   "metadata": {},
   "outputs": [],
   "source": [
    "precio = 9.99\n",
    "pi = 3.14159"
   ]
  },
  {
   "attachments": {},
   "cell_type": "markdown",
   "metadata": {},
   "source": [
    "* **Cadenas de caracteres (str):** Representan secuencias de caracteres encerradas entre comillas simples o dobles. Ejemplos:"
   ]
  },
  {
   "cell_type": "code",
   "execution_count": 6,
   "metadata": {},
   "outputs": [],
   "source": [
    "nombre = \"Juan\"\n",
    "mensaje = 'Hola, mundo!'"
   ]
  },
  {
   "attachments": {},
   "cell_type": "markdown",
   "metadata": {},
   "source": [
    "* **Booleanos (bool):** Representan valores de verdad, pueden ser `True` (verdadero) o `False` (falso). Son útiles para evaluaciones condicionales. Ejemplos:"
   ]
  },
  {
   "cell_type": "code",
   "execution_count": 7,
   "metadata": {},
   "outputs": [],
   "source": [
    "activo = True\n",
    "validado = False"
   ]
  },
  {
   "attachments": {},
   "cell_type": "markdown",
   "metadata": {},
   "source": [
    "* **Listas (list):** Representan una colección ordenada y mutable de elementos. Los elementos pueden ser de diferentes tipos de datos. Se definen utilizando corchetes `[]`. Ejemplos:"
   ]
  },
  {
   "cell_type": "code",
   "execution_count": 8,
   "metadata": {},
   "outputs": [],
   "source": [
    "numeros = [1, 2, 3, 4, 5]\n",
    "nombres = [\"Juan\", \"María\", \"Pedro\"]"
   ]
  },
  {
   "attachments": {},
   "cell_type": "markdown",
   "metadata": {},
   "source": [
    "* **Tuplas (tuple):** Representan una colección ordenada e inmutable de elementos. Los elementos pueden ser de diferentes tipos de datos. Se definen utilizando paréntesis `()`. Ejemplos:"
   ]
  },
  {
   "cell_type": "code",
   "execution_count": 9,
   "metadata": {},
   "outputs": [],
   "source": [
    "coordenadas = (10, 20)\n",
    "datos_personales = (\"Juan\", 25, \"México\")"
   ]
  },
  {
   "attachments": {},
   "cell_type": "markdown",
   "metadata": {},
   "source": [
    "* **Diccionarios (dict):** Representan una colección de pares clave-valor, donde cada valor se asocia a una clave única. Los elementos pueden ser de diferentes tipos de datos. Se definen utilizando llaves `{}`. Ejemplos:"
   ]
  },
  {
   "cell_type": "code",
   "execution_count": 10,
   "metadata": {},
   "outputs": [],
   "source": [
    "estudiante = {\"nombre\": \"Juan\", \"edad\": 20, \"promedio\": 8.5}\n",
    "direccion = {\"calle\": \"Principal\", \"ciudad\": \"Ciudad de México\"}"
   ]
  },
  {
   "attachments": {},
   "cell_type": "markdown",
   "metadata": {},
   "source": [
    "Estos son solo algunos ejemplos de los tipos de datos básicos en Python. También existen otros tipos de datos más avanzados y estructuras de datos complejas.\n",
    "\n",
    "Para asignar un valor a una variable en Python, se utiliza el operador de asignación `=`. Por ejemplo:"
   ]
  },
  {
   "cell_type": "code",
   "execution_count": 11,
   "metadata": {},
   "outputs": [],
   "source": [
    "nombre = \"Juan\"\n",
    "edad = 25\n",
    "precio = 9.99"
   ]
  },
  {
   "attachments": {},
   "cell_type": "markdown",
   "metadata": {},
   "source": [
    "En este caso, la variable nombre se asigna con el valor \"`Juan`\", la variable edad con el valor `25`, y la variable precio con el valor `9.99`.\n",
    "\n",
    "Es importante recordar que en Python las variables son dinámicamente tipadas, lo que significa que pueden cambiar de tipo durante la ejecución del programa. Por ejemplo:"
   ]
  },
  {
   "cell_type": "code",
   "execution_count": 12,
   "metadata": {},
   "outputs": [
    {
     "name": "stdout",
     "output_type": "stream",
     "text": [
      "5\n",
      "Hola, mundo!\n"
     ]
    }
   ],
   "source": [
    "x = 5\n",
    "print(x)  # Output: 5\n",
    "\n",
    "x = \"Hola, mundo!\"\n",
    "print(x)  # Output: Hola, mundo!"
   ]
  },
  {
   "attachments": {},
   "cell_type": "markdown",
   "metadata": {},
   "source": [
    "En este caso, inicialmente asignamos un entero a `x` y luego lo reasignamos con una cadena de caracteres. Python ajusta automáticamente el tipo de `x` según el valor asignado.\n",
    "\n",
    "En resumen, las variables en Python son nombres que se utilizan para almacenar y referenciar valores en la memoria. Cada variable tiene un tipo de datos asociado que define qué tipo de valor puede contener. Los tipos de datos comunes en Python incluyen enteros, flotantes, cadenas de caracteres, booleanos, listas, tuplas y diccionarios. Las variables en Python son de tipado dinámico, lo que significa que no es necesario declarar el tipo de una variable explícitamente antes de utilizarla."
   ]
  },
  {
   "attachments": {},
   "cell_type": "markdown",
   "metadata": {},
   "source": [
    "## **Tratamiento de Strings**"
   ]
  },
  {
   "attachments": {},
   "cell_type": "markdown",
   "metadata": {},
   "source": [
    "El tratamiento de strings (cadenas de caracteres) en Python es una parte fundamental de la manipulación y procesamiento de texto. Python proporciona una variedad de operaciones y métodos incorporados para trabajar con strings. Aquí tienes una explicación detallada con ejemplos de algunas de las operaciones y funciones más comunes para el tratamiento de strings en Python:\n",
    "\n",
    "* **Creación de strings:**\n",
    "\n",
    "Puedes crear strings en Python utilizando comillas simples (`''`), comillas dobles (`\"\"`) o triple comillas (`\"\"\"`). Aquí tienes ejemplos:"
   ]
  },
  {
   "cell_type": "code",
   "execution_count": 13,
   "metadata": {},
   "outputs": [],
   "source": [
    "nombre = 'Juan'\n",
    "mensaje = \"Hola, ¿cómo estás?\"\n",
    "parrafo = \"\"\"Este es un párrafo\n",
    "que abarca varias líneas.\"\"\""
   ]
  },
  {
   "attachments": {},
   "cell_type": "markdown",
   "metadata": {},
   "source": [
    "* **Concatenación de strings:**\n",
    "\n",
    "La concatenación de strings es la operación de unir dos o más strings en uno solo. Puedes usar el operador de suma (`+`) o simplemente colocar los strings uno al lado del otro. Ejemplos:"
   ]
  },
  {
   "cell_type": "code",
   "execution_count": 14,
   "metadata": {},
   "outputs": [
    {
     "name": "stdout",
     "output_type": "stream",
     "text": [
      "Juan Pérez\n",
      "Hola, Juan!\n"
     ]
    }
   ],
   "source": [
    "nombre_completo = nombre + ' Pérez'\n",
    "saludo = 'Hola, ' + nombre + '!'\n",
    "\n",
    "print(nombre_completo)  # Output: Juan Pérez\n",
    "print(saludo)  # Output: Hola, Juan!"
   ]
  },
  {
   "attachments": {},
   "cell_type": "markdown",
   "metadata": {},
   "source": [
    "* **Indexación de strings:**\n",
    "\n",
    "Puedes acceder a caracteres individuales de un string utilizando su índice. Los índices en Python comienzan desde 0. Ejemplos:"
   ]
  },
  {
   "cell_type": "code",
   "execution_count": 15,
   "metadata": {},
   "outputs": [
    {
     "name": "stdout",
     "output_type": "stream",
     "text": [
      "H\n",
      "u\n"
     ]
    }
   ],
   "source": [
    "mensaje = \"Hola, mundo!\"\n",
    "\n",
    "print(mensaje[0])  # Output: H\n",
    "print(mensaje[7])  # Output: m"
   ]
  },
  {
   "attachments": {},
   "cell_type": "markdown",
   "metadata": {},
   "source": [
    "* **Rebanado de strings (slicing):**\n",
    "\n",
    "El rebanado de strings permite obtener una parte específica de un string utilizando rangos de índices. Puedes especificar un inicio, un final y un paso. Ejemplos:"
   ]
  },
  {
   "cell_type": "code",
   "execution_count": 16,
   "metadata": {},
   "outputs": [
    {
     "name": "stdout",
     "output_type": "stream",
     "text": [
      "Hola\n",
      "undo!\n",
      "Hl,mno\n"
     ]
    }
   ],
   "source": [
    "mensaje = \"Hola, mundo!\"\n",
    "\n",
    "print(mensaje[0:4])  # Output: Hola\n",
    "print(mensaje[7:])  # Output: mundo!\n",
    "print(mensaje[::2])  # Output: Hl,md!"
   ]
  },
  {
   "attachments": {},
   "cell_type": "markdown",
   "metadata": {},
   "source": [
    "* **Métodos de strings:**\n",
    "\n",
    "Python proporciona una variedad de métodos incorporados para manipular y transformar strings. Aquí hay algunos ejemplos:"
   ]
  },
  {
   "cell_type": "code",
   "execution_count": 17,
   "metadata": {},
   "outputs": [
    {
     "name": "stdout",
     "output_type": "stream",
     "text": [
      "HOLA, MUNDO!\n",
      "hola, mundo!\n",
      "Hola, amigos!\n",
      "['Hola', ' mundo!']\n",
      "True\n",
      "True\n"
     ]
    }
   ],
   "source": [
    "mensaje = \"Hola, mundo!\"\n",
    "\n",
    "print(mensaje.upper())  # Output: HOLA, MUNDO!\n",
    "print(mensaje.lower())  # Output: hola, mundo!\n",
    "print(mensaje.replace(\"mundo\", \"amigos\"))  # Output: Hola, amigos!\n",
    "print(mensaje.split(\",\"))  # Output: ['Hola', ' mundo!']\n",
    "print(mensaje.startswith(\"Hola\"))  # Output: True\n",
    "print(mensaje.endswith(\"!\"))  # Output: True"
   ]
  },
  {
   "attachments": {},
   "cell_type": "markdown",
   "metadata": {},
   "source": [
    "* **Formato de strings:**\n",
    "\n",
    "Puedes formatear strings utilizando el método `format()` o `f-strings` (a partir de Python 3.6). Estas técnicas te permiten insertar valores variables en un string de manera más fácil y legible. Ejemplos:"
   ]
  },
  {
   "cell_type": "code",
   "execution_count": 18,
   "metadata": {},
   "outputs": [
    {
     "name": "stdout",
     "output_type": "stream",
     "text": [
      "Hola, mi nombre es Juan y tengo 25 años.\n",
      "Hola, mi nombre es Juan y tengo 25 años.\n"
     ]
    }
   ],
   "source": [
    "nombre = \"Juan\"\n",
    "edad = 25\n",
    "\n",
    "saludo = \"Hola, mi nombre es {} y tengo {} años.\".format(nombre, edad)\n",
    "saludo_fstring = f\"Hola, mi nombre es {nombre} y tengo {edad} años.\"\n",
    "\n",
    "print(saludo)  # Output: Hola, mi nombre es Juan y tengo 25 años.\n",
    "print(saludo_fstring)  # Output: Hola, mi nombre es Juan y tengo 25 años."
   ]
  },
  {
   "attachments": {},
   "cell_type": "markdown",
   "metadata": {},
   "source": [
    "* **Búsqueda de subcadenas:**\n",
    "\n",
    "Puedes buscar subcadenas dentro de un string utilizando el método `find()`, que devuelve la posición de la primera aparición de la subcadena. Si no se encuentra, devuelve -1. Ejemplos:"
   ]
  },
  {
   "cell_type": "code",
   "execution_count": 19,
   "metadata": {},
   "outputs": [
    {
     "name": "stdout",
     "output_type": "stream",
     "text": [
      "6\n",
      "-1\n"
     ]
    }
   ],
   "source": [
    "mensaje = \"Hola, mundo!\"\n",
    "\n",
    "print(mensaje.find(\"mundo\"))  # Output: 7\n",
    "print(mensaje.find(\"amigos\"))  # Output: -1"
   ]
  },
  {
   "attachments": {},
   "cell_type": "markdown",
   "metadata": {},
   "source": [
    "* **Eliminación de espacios en blanco:**\n",
    "\n",
    "Puedes eliminar espacios en blanco al inicio y al final de un string utilizando los métodos `strip()`, `lstrip()` y `rstrip()`. Ejemplos:"
   ]
  },
  {
   "cell_type": "code",
   "execution_count": 20,
   "metadata": {},
   "outputs": [
    {
     "name": "stdout",
     "output_type": "stream",
     "text": [
      "Hola, mundo!\n",
      "Hola, mundo!   \n",
      "   Hola, mundo!\n"
     ]
    }
   ],
   "source": [
    "mensaje = \"   Hola, mundo!   \"\n",
    "\n",
    "print(mensaje.strip())  # Output: \"Hola, mundo!\"\n",
    "print(mensaje.lstrip())  # Output: \"Hola, mundo!   \"\n",
    "print(mensaje.rstrip())  # Output: \"   Hola, mundo!\""
   ]
  },
  {
   "attachments": {},
   "cell_type": "markdown",
   "metadata": {},
   "source": [
    "* **Formato de números:**\n",
    "\n",
    "Puedes formatear números dentro de strings utilizando el método `format()` con especificadores de formato. Ejemplos:"
   ]
  },
  {
   "cell_type": "code",
   "execution_count": 21,
   "metadata": {},
   "outputs": [
    {
     "name": "stdout",
     "output_type": "stream",
     "text": [
      "El precio es: $9.99\n",
      "Cantidad: 3\n"
     ]
    }
   ],
   "source": [
    "precio = 9.99\n",
    "cantidad = 3\n",
    "\n",
    "print(\"El precio es: ${:.2f}\".format(precio))  # Output: El precio es: $9.99\n",
    "print(\"Cantidad: {:d}\".format(cantidad))  # Output: Cantidad: 3"
   ]
  },
  {
   "attachments": {},
   "cell_type": "markdown",
   "metadata": {},
   "source": [
    "* **Verificación de caracteres:**\n",
    "\n",
    "Puedes verificar si un string contiene solo caracteres alfabéticos, dígitos, espacios en blanco, etc., utilizando los métodos `isalpha()`, `isdigit()`, `isspace()`, entre otros. Ejemplos:"
   ]
  },
  {
   "cell_type": "code",
   "execution_count": 22,
   "metadata": {},
   "outputs": [
    {
     "name": "stdout",
     "output_type": "stream",
     "text": [
      "False\n",
      "False\n",
      "True\n"
     ]
    }
   ],
   "source": [
    "cadena = \"abc123\"\n",
    "espacios = \"   \"\n",
    "\n",
    "print(cadena.isalpha())  # Output: False\n",
    "print(cadena.isdigit())  # Output: False\n",
    "print(espacios.isspace())  # Output: True"
   ]
  },
  {
   "attachments": {},
   "cell_type": "markdown",
   "metadata": {},
   "source": [
    "* **Longitud de un string:**\n",
    "\n",
    "Puedes obtener la longitud de un string utilizando la función `len()`. Ejemplo:"
   ]
  },
  {
   "cell_type": "code",
   "execution_count": 23,
   "metadata": {},
   "outputs": [
    {
     "name": "stdout",
     "output_type": "stream",
     "text": [
      "12\n"
     ]
    }
   ],
   "source": [
    "mensaje = \"Hola, mundo!\"\n",
    "\n",
    "print(len(mensaje))  # Output: 12"
   ]
  },
  {
   "attachments": {},
   "cell_type": "markdown",
   "metadata": {},
   "source": [
    "* **Reemplazo de caracteres:**\n",
    "\n",
    "Puedes reemplazar caracteres específicos en un string utilizando el método `replace()`. Ejemplo:"
   ]
  },
  {
   "cell_type": "code",
   "execution_count": 24,
   "metadata": {},
   "outputs": [
    {
     "name": "stdout",
     "output_type": "stream",
     "text": [
      "Hola, amigos!\n"
     ]
    }
   ],
   "source": [
    "mensaje = \"Hola, mundo!\"\n",
    "\n",
    "nuevo_mensaje = mensaje.replace(\"mundo\", \"amigos\")\n",
    "\n",
    "print(nuevo_mensaje)  # Output: Hola, amigos!"
   ]
  },
  {
   "attachments": {},
   "cell_type": "markdown",
   "metadata": {},
   "source": [
    "* **Conteo de ocurrencias de una subcadena:**\n",
    "\n",
    "Puedes contar el número de ocurrencias de una subcadena dentro de un string utilizando el método `count()`. Ejemplo:"
   ]
  },
  {
   "cell_type": "code",
   "execution_count": 25,
   "metadata": {},
   "outputs": [
    {
     "name": "stdout",
     "output_type": "stream",
     "text": [
      "2\n"
     ]
    }
   ],
   "source": [
    "mensaje = \"Hola, mundo!\"\n",
    "\n",
    "ocurrencias = mensaje.count(\"o\")\n",
    "\n",
    "print(ocurrencias)  # Output: 2"
   ]
  },
  {
   "attachments": {},
   "cell_type": "markdown",
   "metadata": {},
   "source": [
    "Estas son solo algunas de las opciones disponibles para el tratamiento de strings en Python. Recuerda que la manipulación de strings es una parte esencial de la programación y hay muchas más funciones y métodos disponibles según tus necesidades específicas."
   ]
  },
  {
   "attachments": {},
   "cell_type": "markdown",
   "metadata": {},
   "source": [
    "## **Listas, tuplas, diccionarios y conjuntos**"
   ]
  },
  {
   "attachments": {},
   "cell_type": "markdown",
   "metadata": {},
   "source": [
    "* **Listas (list):**\n",
    "\n",
    "Las listas son una estructura de datos en Python que permiten almacenar y manipular una colección ordenada y mutable de elementos. Los elementos en una lista pueden ser de diferentes tipos de datos, como enteros, flotantes, strings, u otros objetos. Las listas se definen utilizando corchetes `[]` y los elementos se separan por comas. Ejemplos:"
   ]
  },
  {
   "cell_type": "code",
   "execution_count": 26,
   "metadata": {},
   "outputs": [],
   "source": [
    "numeros = [1, 2, 3, 4, 5]\n",
    "nombres = [\"Juan\", \"María\", \"Pedro\"]\n",
    "mixto = [10, \"Hola\", 3.14, True]"
   ]
  },
  {
   "attachments": {},
   "cell_type": "markdown",
   "metadata": {},
   "source": [
    "Puedes acceder a los elementos de una lista utilizando la indexación, empezando desde 0. También puedes modificar los elementos de una lista y agregar nuevos elementos utilizando métodos como `append()`, `insert()`, `extend()`, entre otros."
   ]
  },
  {
   "cell_type": "code",
   "execution_count": 27,
   "metadata": {},
   "outputs": [
    {
     "name": "stdout",
     "output_type": "stream",
     "text": [
      "1\n",
      "[1, 2, 10, 4, 5]\n",
      "[1, 2, 10, 4, 5, 6]\n"
     ]
    }
   ],
   "source": [
    "numeros = [1, 2, 3, 4, 5]\n",
    "\n",
    "print(numeros[0])  # Output: 1\n",
    "\n",
    "numeros[2] = 10\n",
    "print(numeros)  # Output: [1, 2, 10, 4, 5]\n",
    "\n",
    "numeros.append(6)\n",
    "print(numeros)  # Output: [1, 2, 10, 4, 5, 6]"
   ]
  },
  {
   "attachments": {},
   "cell_type": "markdown",
   "metadata": {},
   "source": [
    "* **Tuplas (tuple):**\n",
    "\n",
    "Las tuplas son similares a las listas, pero son una estructura de datos inmutable, lo que significa que no se pueden modificar después de su creación. Se definen utilizando paréntesis `()`, aunque en la práctica, la coma es lo que define una tupla. Ejemplos:"
   ]
  },
  {
   "cell_type": "code",
   "execution_count": 28,
   "metadata": {},
   "outputs": [],
   "source": [
    "coordenadas = (10, 20)\n",
    "datos_personales = (\"Juan\", 25, \"México\")"
   ]
  },
  {
   "attachments": {},
   "cell_type": "markdown",
   "metadata": {},
   "source": [
    "Aunque no se pueden modificar directamente, puedes acceder a los elementos de una tupla utilizando la indexación y realizar operaciones como la concatenación de tuplas."
   ]
  },
  {
   "cell_type": "code",
   "execution_count": 29,
   "metadata": {},
   "outputs": [
    {
     "name": "stdout",
     "output_type": "stream",
     "text": [
      "10\n",
      "(10, 20, 30, 40)\n"
     ]
    }
   ],
   "source": [
    "coordenadas = (10, 20)\n",
    "\n",
    "print(coordenadas[0])  # Output: 10\n",
    "\n",
    "concatenacion = coordenadas + (30, 40)\n",
    "print(concatenacion)  # Output: (10, 20, 30, 40)"
   ]
  },
  {
   "attachments": {},
   "cell_type": "markdown",
   "metadata": {},
   "source": [
    "* **Diccionarios (dict):**\n",
    "\n",
    "Los diccionarios son una estructura de datos en Python que permiten almacenar y acceder a pares clave-valor. Cada valor se asocia a una clave única que se utiliza para acceder a ese valor. Los diccionarios son desordenados y se definen utilizando llaves `{}`. Ejemplos:"
   ]
  },
  {
   "cell_type": "code",
   "execution_count": 30,
   "metadata": {},
   "outputs": [],
   "source": [
    "estudiante = {\"nombre\": \"Juan\", \"edad\": 20, \"promedio\": 8.5}\n",
    "direccion = {\"calle\": \"Principal\", \"ciudad\": \"Ciudad de México\"}"
   ]
  },
  {
   "attachments": {},
   "cell_type": "markdown",
   "metadata": {},
   "source": [
    "Puedes acceder a los valores de un diccionario utilizando la clave correspondiente y modificar o agregar nuevos pares clave-valor."
   ]
  },
  {
   "cell_type": "code",
   "execution_count": 31,
   "metadata": {},
   "outputs": [
    {
     "name": "stdout",
     "output_type": "stream",
     "text": [
      "Juan\n",
      "{'nombre': 'Juan', 'edad': 20, 'promedio': 9.0, 'carrera': 'Informática'}\n"
     ]
    }
   ],
   "source": [
    "estudiante = {\"nombre\": \"Juan\", \"edad\": 20, \"promedio\": 8.5}\n",
    "\n",
    "print(estudiante[\"nombre\"])  # Output: Juan\n",
    "\n",
    "estudiante[\"promedio\"] = 9.0\n",
    "estudiante[\"carrera\"] = \"Informática\"\n",
    "print(estudiante)  # Output: {\"nombre\": \"Juan\", \"edad\": 20, \"promedio\": 9.0, \"carrera\": \"Informática\"}"
   ]
  },
  {
   "attachments": {},
   "cell_type": "markdown",
   "metadata": {},
   "source": [
    "* **Conjuntos (set):**\n",
    "\n",
    "Los conjuntos son una estructura de datos en Python que representa una colección desordenada y sin elementos duplicados. Los conjuntos se definen utilizando llaves `{}` o la función `set()`. Ejemplos:"
   ]
  },
  {
   "cell_type": "code",
   "execution_count": 32,
   "metadata": {},
   "outputs": [],
   "source": [
    "numeros = {1, 2, 3, 4, 5}\n",
    "vocales = set([\"a\", \"e\", \"i\", \"o\", \"u\"])"
   ]
  },
  {
   "attachments": {},
   "cell_type": "markdown",
   "metadata": {},
   "source": [
    "Puedes realizar operaciones con conjuntos, como la unión, la intersección y la diferencia, además de agregar y eliminar elementos."
   ]
  },
  {
   "cell_type": "code",
   "execution_count": 33,
   "metadata": {},
   "outputs": [
    {
     "name": "stdout",
     "output_type": "stream",
     "text": [
      "{1, 2, 3, 4, 5, 6}\n",
      "{1, 2, 4, 5, 6}\n"
     ]
    }
   ],
   "source": [
    "numeros = {1, 2, 3, 4, 5}\n",
    "\n",
    "numeros.add(6)\n",
    "print(numeros)  # Output: {1, 2, 3, 4, 5, 6}\n",
    "\n",
    "numeros.remove(3)\n",
    "print(numeros)  # Output: {1, 2, 4, 5, 6}"
   ]
  },
  {
   "attachments": {},
   "cell_type": "markdown",
   "metadata": {},
   "source": [
    "Estas son las principales características y usos de las listas, tuplas, diccionarios y conjuntos en Python. Cada estructura de datos tiene sus propias ventajas y se utiliza en diferentes escenarios según las necesidades específicas de tu programa."
   ]
  },
  {
   "attachments": {},
   "cell_type": "markdown",
   "metadata": {},
   "source": [
    "## **Condicionales**"
   ]
  },
  {
   "attachments": {},
   "cell_type": "markdown",
   "metadata": {},
   "source": [
    "Los condicionales en Python son estructuras de control que permiten tomar decisiones en función de una condición. Estas decisiones se basan en la evaluación de una expresión o una serie de expresiones lógicas. En Python, los condicionales se implementan utilizando la instrucción `if`, que se puede combinar con `else` y `elif` (abreviatura de \"`else if`\") para crear estructuras más complejas. Aquí tienes una explicación detallada de los condicionales en Python con ejemplos:\n",
    "\n",
    "* **Estructura básica de if:**\n",
    "\n",
    "La estructura básica de un condicional `if` en Python es la siguiente:"
   ]
  },
  {
   "attachments": {},
   "cell_type": "markdown",
   "metadata": {},
   "source": [
    "```\n",
    "if condicion:\n",
    "    # Bloque de código si la condición es verdadera\n",
    "```"
   ]
  },
  {
   "attachments": {},
   "cell_type": "markdown",
   "metadata": {},
   "source": [
    "La condición es una expresión que se evalúa como verdadera (`True`) o falsa (`False`). Si la condición es verdadera, el bloque de código dentro del `if` se ejecutará. Ejemplo:"
   ]
  },
  {
   "cell_type": "code",
   "execution_count": 35,
   "metadata": {},
   "outputs": [
    {
     "name": "stdout",
     "output_type": "stream",
     "text": [
      "Eres mayor de edad\n"
     ]
    }
   ],
   "source": [
    "edad = 25\n",
    "\n",
    "if edad >= 18:\n",
    "    print(\"Eres mayor de edad\")"
   ]
  },
  {
   "attachments": {},
   "cell_type": "markdown",
   "metadata": {},
   "source": [
    "En este ejemplo, si la variable edad es mayor o igual a `18`, se imprimirá \"`Eres mayor de edad`\".\n",
    "\n",
    "* **Estructura if-else:**\n",
    "\n",
    "Puedes utilizar la estructura `if-else` para ejecutar diferentes bloques de código dependiendo del resultado de la condición. El bloque de código dentro del `else` se ejecuta cuando la condición del `if` es falsa. Ejemplo:"
   ]
  },
  {
   "cell_type": "code",
   "execution_count": 36,
   "metadata": {},
   "outputs": [
    {
     "name": "stdout",
     "output_type": "stream",
     "text": [
      "Eres menor de edad\n"
     ]
    }
   ],
   "source": [
    "edad = 15\n",
    "\n",
    "if edad >= 18:\n",
    "    print(\"Eres mayor de edad\")\n",
    "else:\n",
    "    print(\"Eres menor de edad\")"
   ]
  },
  {
   "attachments": {},
   "cell_type": "markdown",
   "metadata": {},
   "source": [
    "En este ejemplo, si la variable `edad` es mayor o igual a `18`, se imprimirá \"`Eres mayor de edad`\". De lo contrario, se imprimirá \"`Eres menor de edad`\".\n",
    "\n",
    "* **Estructura if-elif-else:**\n",
    "\n",
    "Puedes utilizar la estructura `if-elif-else` cuando tienes múltiples condiciones para evaluar. `elif` te permite evaluar condiciones adicionales después del `if` inicial. El bloque de código dentro del primer `elif` cuya condición sea verdadera se ejecutará y, si ninguna de las condiciones es verdadera, se ejecutará el bloque de código dentro del `else`. Ejemplo:"
   ]
  },
  {
   "cell_type": "code",
   "execution_count": 37,
   "metadata": {},
   "outputs": [
    {
     "name": "stdout",
     "output_type": "stream",
     "text": [
      "Bueno\n"
     ]
    }
   ],
   "source": [
    "puntaje = 85\n",
    "\n",
    "if puntaje >= 90:\n",
    "    print(\"Excelente\")\n",
    "elif puntaje >= 80:\n",
    "    print(\"Bueno\")\n",
    "elif puntaje >= 70:\n",
    "    print(\"Regular\")\n",
    "else:\n",
    "    print(\"Debe mejorar\")"
   ]
  },
  {
   "attachments": {},
   "cell_type": "markdown",
   "metadata": {},
   "source": [
    "En este ejemplo, se evalúan varias condiciones para determinar la calificación de un puntaje. Dependiendo del valor de puntaje, se imprimirá \"`Excelente`\", \"`Bueno`\", \"`Regular`\" o \"`Debe mejorar`\".\n",
    "\n",
    "* **Operadores de comparación:**\n",
    "\n",
    "Dentro de las condiciones de los condicionales, puedes utilizar operadores de comparación para evaluar expresiones lógicas. Algunos operadores comunes incluyen:\n",
    "\n",
    "* **== (igual):** verifica si dos valores son iguales.\n",
    "* **!= (no igual):** verifica si dos valores son diferentes.\n",
    "* **< (menor que):** verifica si un valor es menor que otro.\n",
    "* **> (mayor que):** verifica si un valor es mayor que otro.\n",
    "* **<= (menor o igual que):** verifica si un valor es menor o igual que otro.\n",
    "* **>= (mayor o igual que):** verifica si un valor es mayor o igual que otro."
   ]
  },
  {
   "cell_type": "code",
   "execution_count": 38,
   "metadata": {},
   "outputs": [
    {
     "name": "stdout",
     "output_type": "stream",
     "text": [
      "El número es positivo\n"
     ]
    }
   ],
   "source": [
    "numero = 10\n",
    "\n",
    "if numero == 0:\n",
    "    print(\"El número es cero\")\n",
    "elif numero > 0:\n",
    "    print(\"El número es positivo\")\n",
    "else:\n",
    "    print(\"El número es negativo\")"
   ]
  },
  {
   "attachments": {},
   "cell_type": "markdown",
   "metadata": {},
   "source": [
    "En este ejemplo, se utiliza el operador de igualdad (`==`) y los operadores de comparación (`>`, `<`, `>=`, `<=`) para evaluar la condición.\n",
    "\n",
    "Estos son los conceptos básicos de los condicionales en Python. Te permiten controlar el flujo de ejecución de tu programa y tomar decisiones basadas en condiciones lógicas. Puedes combinar múltiples condicionales utilizando `elif` y `else` para crear estructuras más complejas."
   ]
  },
  {
   "attachments": {},
   "cell_type": "markdown",
   "metadata": {},
   "source": [
    "## **Sentencias IF, ELIF, ELSE**"
   ]
  },
  {
   "attachments": {},
   "cell_type": "markdown",
   "metadata": {},
   "source": [
    "Las sentencias `if`, `elif` y `else` en Python son utilizadas para crear estructuras condicionales más complejas. Estas sentencias te permiten ejecutar diferentes bloques de código según el resultado de una o varias condiciones. Aquí tienes una explicación detallada con ejemplos:\n",
    "\n",
    "* **Sentencia if:**\n",
    "\n",
    "La sentencia `if` se utiliza para evaluar una condición y ejecutar un bloque de código si la condición es verdadera. La estructura básica es la siguiente:"
   ]
  },
  {
   "attachments": {},
   "cell_type": "markdown",
   "metadata": {},
   "source": [
    "```\n",
    "if condicion:\n",
    "    # Bloque de código si la condición es verdadera\n",
    "```"
   ]
  },
  {
   "attachments": {},
   "cell_type": "markdown",
   "metadata": {},
   "source": [
    "Por ejemplo:"
   ]
  },
  {
   "cell_type": "code",
   "execution_count": 39,
   "metadata": {},
   "outputs": [
    {
     "name": "stdout",
     "output_type": "stream",
     "text": [
      "Eres mayor de edad\n"
     ]
    }
   ],
   "source": [
    "edad = 18\n",
    "\n",
    "if edad >= 18:\n",
    "    print(\"Eres mayor de edad\")"
   ]
  },
  {
   "attachments": {},
   "cell_type": "markdown",
   "metadata": {},
   "source": [
    "En este ejemplo, si la variable edad es mayor o igual a `18`, se imprimirá \"`Eres mayor de edad`\".\n",
    "\n",
    "* **Sentencia elif:**\n",
    "\n",
    "La sentencia `elif` (abreviatura de \"`else if`\") se utiliza para evaluar una nueva condición si la condición anterior no se cumple. Puedes utilizar múltiples sentencias `elif` para evaluar varias condiciones. La estructura básica es la siguiente:"
   ]
  },
  {
   "attachments": {},
   "cell_type": "markdown",
   "metadata": {},
   "source": [
    "```\n",
    "if condicion1:\n",
    "    # Bloque de código si la condición1 es verdadera\n",
    "elif condicion2:\n",
    "    # Bloque de código si la condicion2 es verdadera\n",
    "elif condicion3:\n",
    "    # Bloque de código si la condicion3 es verdadera\n",
    "else:\n",
    "    # Bloque de código si ninguna de las condiciones anteriores es verdadera\n",
    "```"
   ]
  },
  {
   "attachments": {},
   "cell_type": "markdown",
   "metadata": {},
   "source": [
    "Por ejemplo:"
   ]
  },
  {
   "cell_type": "code",
   "execution_count": 40,
   "metadata": {},
   "outputs": [
    {
     "name": "stdout",
     "output_type": "stream",
     "text": [
      "Bueno\n"
     ]
    }
   ],
   "source": [
    "puntaje = 85\n",
    "\n",
    "if puntaje >= 90:\n",
    "    print(\"Excelente\")\n",
    "elif puntaje >= 80:\n",
    "    print(\"Bueno\")\n",
    "elif puntaje >= 70:\n",
    "    print(\"Regular\")\n",
    "else:\n",
    "    print(\"Debe mejorar\")"
   ]
  },
  {
   "attachments": {},
   "cell_type": "markdown",
   "metadata": {},
   "source": [
    "En este ejemplo, se evalúan varias condiciones para determinar una calificación basada en el puntaje. Dependiendo del valor de puntaje, se imprimirá \"`Excelente`\", \"`Bueno`\", \"`Regular`\" o \"`Debe mejorar`\".\n",
    "\n",
    "* **Sentencia else:**\n",
    "\n",
    "La sentencia `else` se utiliza para ejecutar un bloque de código si ninguna de las condiciones anteriores es verdadera. Solo se puede utilizar una vez y siempre debe ir al final de una estructura condicional. La estructura básica es la siguiente:"
   ]
  },
  {
   "attachments": {},
   "cell_type": "markdown",
   "metadata": {},
   "source": [
    "```\n",
    "if condicion1:\n",
    "    # Bloque de código si la condicion1 es verdadera\n",
    "elif condicion2:\n",
    "    # Bloque de código si la condicion2 es verdadera\n",
    "else:\n",
    "    # Bloque de código si ninguna de las condiciones anteriores es verdadera\n",
    "```"
   ]
  },
  {
   "attachments": {},
   "cell_type": "markdown",
   "metadata": {},
   "source": [
    "Por ejemplo:"
   ]
  },
  {
   "cell_type": "code",
   "execution_count": 41,
   "metadata": {},
   "outputs": [
    {
     "name": "stdout",
     "output_type": "stream",
     "text": [
      "El número es par\n"
     ]
    }
   ],
   "source": [
    "numero = 10\n",
    "\n",
    "if numero % 2 == 0:\n",
    "    print(\"El número es par\")\n",
    "else:\n",
    "    print(\"El número es impar\")"
   ]
  },
  {
   "attachments": {},
   "cell_type": "markdown",
   "metadata": {},
   "source": [
    "En este ejemplo, se verifica si el número es divisible por 2 utilizando el operador módulo (%). Si el resto es igual a 0, se imprime \"`El número es par`\". De lo contrario, se imprime \"`El número es impar`\".\n",
    "\n",
    "Estas sentencias (if, elif, else) te permiten controlar el flujo de ejecución de tu programa y tomar decisiones basadas en condiciones lógicas. Puedes combinar múltiples condiciones para crear estructuras condicionales más complejas y ejecutar diferentes bloques de código según los resultados de las condiciones evaluadas."
   ]
  },
  {
   "attachments": {},
   "cell_type": "markdown",
   "metadata": {},
   "source": [
    "| **Inicio** | **Siguiente 2** |\n",
    "|----------- |-------------- |\n",
    "| [🏠](../../../README.md) | [⏩](./2.BUCLES_Y_FUNCIONES.ipynb)|"
   ]
  }
 ],
 "metadata": {
  "kernelspec": {
   "display_name": "base",
   "language": "python",
   "name": "python3"
  },
  "language_info": {
   "codemirror_mode": {
    "name": "ipython",
    "version": 3
   },
   "file_extension": ".py",
   "mimetype": "text/x-python",
   "name": "python",
   "nbconvert_exporter": "python",
   "pygments_lexer": "ipython3",
   "version": "3.9.12"
  },
  "orig_nbformat": 4
 },
 "nbformat": 4,
 "nbformat_minor": 2
}
