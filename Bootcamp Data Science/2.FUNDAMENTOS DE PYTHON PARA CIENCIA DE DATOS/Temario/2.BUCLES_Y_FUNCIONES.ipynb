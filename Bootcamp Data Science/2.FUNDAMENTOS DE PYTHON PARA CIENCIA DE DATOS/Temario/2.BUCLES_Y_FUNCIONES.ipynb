{
 "cells": [
  {
   "attachments": {},
   "cell_type": "markdown",
   "metadata": {},
   "source": [
    "| **Inicio** | **atrás 1** | **Siguiente 3** |\n",
    "|----------- |-------------- |---------------|\n",
    "| [🏠](../../../README.md) | [⏪](./1.VARIABLES_Y_ESTRUCTURAS_DE_DATOS.ipynb)| [⏩](./3.LIBRERIAS_PARA_ANALISIS_DE_DATOS.ipynb)|"
   ]
  },
  {
   "attachments": {},
   "cell_type": "markdown",
   "metadata": {},
   "source": [
    "# **2. BUCLES Y FUNCIONES**"
   ]
  },
  {
   "attachments": {},
   "cell_type": "markdown",
   "metadata": {},
   "source": [
    "## **Bucles en Python**"
   ]
  },
  {
   "attachments": {},
   "cell_type": "markdown",
   "metadata": {},
   "source": [
    "En Python, los bucles son estructuras de control que permiten repetir la ejecución de un bloque de código múltiples veces. Los bucles son útiles cuando deseas realizar una tarea repetitiva sin tener que escribir el mismo código una y otra vez. Python tiene dos tipos principales de bucles: el bucle `while` y el bucle `for`. A continuación, te proporciono una explicación detallada de cada uno junto con ejemplos:\n",
    "\n",
    "* **Bucle while:**\n",
    "\n",
    "El bucle `while` se repite mientras una condición sea verdadera. La estructura básica es la siguiente:"
   ]
  },
  {
   "attachments": {},
   "cell_type": "markdown",
   "metadata": {},
   "source": [
    "```\n",
    "while condicion:\n",
    "    # Bloque de código a repetir\n",
    "```"
   ]
  },
  {
   "attachments": {},
   "cell_type": "markdown",
   "metadata": {},
   "source": [
    "El bloque de código dentro del bucle se ejecuta repetidamente mientras la condición sea verdadera. Es importante asegurarse de que la condición se pueda cambiar dentro del bucle para evitar que se convierta en un bucle infinito. Ejemplo:"
   ]
  },
  {
   "cell_type": "code",
   "execution_count": 1,
   "metadata": {},
   "outputs": [
    {
     "name": "stdout",
     "output_type": "stream",
     "text": [
      "0\n",
      "1\n",
      "2\n",
      "3\n",
      "4\n"
     ]
    }
   ],
   "source": [
    "contador = 0\n",
    "\n",
    "while contador < 5:\n",
    "    print(contador)\n",
    "    contador += 1"
   ]
  },
  {
   "attachments": {},
   "cell_type": "markdown",
   "metadata": {},
   "source": [
    "En este ejemplo, el bucle `while` se repite mientras el valor de contador sea menor que `5`. En cada iteración, se imprime el valor de contador y luego se incrementa en `1`. El bucle se detiene cuando contador alcanza el valor de `5`.\n",
    "\n",
    "* **Bucle for:**\n",
    "\n",
    "El bucle `for` se utiliza para iterar sobre una secuencia de elementos, como una lista, una `tupla`, una cadena de caracteres, etc. La estructura básica es la siguiente:"
   ]
  },
  {
   "attachments": {},
   "cell_type": "markdown",
   "metadata": {},
   "source": [
    "```\n",
    "for elemento in secuencia:\n",
    "    # Bloque de código a repetir\n",
    "```"
   ]
  },
  {
   "attachments": {},
   "cell_type": "markdown",
   "metadata": {},
   "source": [
    "En cada iteración, el elemento toma el valor del siguiente elemento en la secuencia y el bloque de código se ejecuta. Ejemplo:"
   ]
  },
  {
   "cell_type": "code",
   "execution_count": 2,
   "metadata": {},
   "outputs": [
    {
     "name": "stdout",
     "output_type": "stream",
     "text": [
      "1\n",
      "2\n",
      "3\n",
      "4\n",
      "5\n"
     ]
    }
   ],
   "source": [
    "numeros = [1, 2, 3, 4, 5]\n",
    "\n",
    "for numero in numeros:\n",
    "    print(numero)"
   ]
  },
  {
   "attachments": {},
   "cell_type": "markdown",
   "metadata": {},
   "source": [
    "En este ejemplo, el bucle `for` itera sobre la lista numeros y en cada iteración imprime el valor del elemento actual. El bucle se repite hasta que se hayan recorrido todos los elementos de la lista.\n",
    "\n",
    "Además, puedes combinar el bucle `for` con la función `range()` para generar una secuencia de números en un rango determinado. Ejemplo:"
   ]
  },
  {
   "cell_type": "code",
   "execution_count": 3,
   "metadata": {},
   "outputs": [
    {
     "name": "stdout",
     "output_type": "stream",
     "text": [
      "1\n",
      "2\n",
      "3\n",
      "4\n",
      "5\n"
     ]
    }
   ],
   "source": [
    "for i in range(1, 6):\n",
    "    print(i)"
   ]
  },
  {
   "attachments": {},
   "cell_type": "markdown",
   "metadata": {},
   "source": [
    "En este ejemplo, el bucle `for` itera sobre la secuencia generada por `range(1, 6)`, que incluye los números del `1` al `5`. En cada iteración, se imprime el valor actual de `i`.\n",
    "\n",
    "* **Control de bucles: break y continue:**\n",
    "\n",
    "Dentro de los bucles, puedes utilizar las sentencias `break` y `continue` para controlar el flujo de ejecución.\n",
    "\n",
    "* `break` se utiliza para salir del bucle de manera prematura, sin completar todas las iteraciones restantes."
   ]
  },
  {
   "cell_type": "code",
   "execution_count": 4,
   "metadata": {},
   "outputs": [
    {
     "name": "stdout",
     "output_type": "stream",
     "text": [
      "0\n",
      "1\n",
      "2\n",
      "3\n",
      "4\n"
     ]
    }
   ],
   "source": [
    "i = 0\n",
    "\n",
    "while True:\n",
    "    print(i)\n",
    "    i += 1\n",
    "    if i == 5:\n",
    "        break"
   ]
  },
  {
   "attachments": {},
   "cell_type": "markdown",
   "metadata": {},
   "source": [
    "En este ejemplo, el bucle `while` se ejecuta indefinidamente hasta que se alcanza el valor de `i` igual a `5`. En ese punto, se utiliza la sentencia `break` para salir del bucle.\n",
    "\n",
    "* `continue` se utiliza para omitir el resto del bloque de código en una iteración específica y pasar a la siguiente iteración."
   ]
  },
  {
   "cell_type": "code",
   "execution_count": 5,
   "metadata": {},
   "outputs": [
    {
     "name": "stdout",
     "output_type": "stream",
     "text": [
      "1\n",
      "2\n",
      "4\n",
      "5\n"
     ]
    }
   ],
   "source": [
    "for i in range(1, 6):\n",
    "    if i == 3:\n",
    "        continue\n",
    "    print(i)"
   ]
  },
  {
   "attachments": {},
   "cell_type": "markdown",
   "metadata": {},
   "source": [
    "En este ejemplo, cuando `i` es igual a `3`, se utiliza la sentencia continue para omitir la impresión de ese valor y pasar a la siguiente iteración.\n",
    "\n",
    "Estas son las principales características y usos de los bucles en Python. Los bucles te permiten ejecutar un bloque de código repetidamente y automatizar tareas que requieren repetición. Puedes utilizar el bucle `while` cuando la condición de repetición dependa de una condición lógica, y el bucle `for` cuando necesites iterar sobre una secuencia de elementos."
   ]
  },
  {
   "attachments": {},
   "cell_type": "markdown",
   "metadata": {},
   "source": [
    "## **FOR, WHILE**"
   ]
  },
  {
   "attachments": {},
   "cell_type": "markdown",
   "metadata": {},
   "source": [
    "* **Bucle for:**\n",
    "\n",
    "El bucle `for` en Python se utiliza para iterar sobre una secuencia de elementos. Puedes utilizarlo para recorrer listas, tuplas, cadenas de caracteres u otras estructuras de datos iterables. La estructura básica del bucle `for` es la siguiente:"
   ]
  },
  {
   "attachments": {},
   "cell_type": "markdown",
   "metadata": {},
   "source": [
    "```\n",
    "for elemento in secuencia:\n",
    "    # Bloque de código a repetir\n",
    "```"
   ]
  },
  {
   "attachments": {},
   "cell_type": "markdown",
   "metadata": {},
   "source": [
    "En cada iteración del bucle, `elemento` toma el valor del siguiente elemento en la secuencia y el bloque de código se ejecuta. Aquí tienes un ejemplo:"
   ]
  },
  {
   "cell_type": "code",
   "execution_count": 6,
   "metadata": {},
   "outputs": [
    {
     "name": "stdout",
     "output_type": "stream",
     "text": [
      "manzana\n",
      "naranja\n",
      "plátano\n"
     ]
    }
   ],
   "source": [
    "frutas = [\"manzana\", \"naranja\", \"plátano\"]\n",
    "\n",
    "for fruta in frutas:\n",
    "    print(fruta)"
   ]
  },
  {
   "attachments": {},
   "cell_type": "markdown",
   "metadata": {},
   "source": [
    "En este ejemplo, el bucle `for` itera sobre la lista `frutas`. En cada iteración, fruta toma el valor de un elemento de la lista y se imprime. El bucle se repite hasta que se hayan recorrido todos los elementos de la lista.\n",
    "\n",
    "También puedes combinar el bucle `for` con la función `range()` para generar una secuencia de números en un rango determinado. Aquí tienes un ejemplo:"
   ]
  },
  {
   "cell_type": "code",
   "execution_count": 7,
   "metadata": {},
   "outputs": [
    {
     "name": "stdout",
     "output_type": "stream",
     "text": [
      "1\n",
      "2\n",
      "3\n",
      "4\n",
      "5\n"
     ]
    }
   ],
   "source": [
    "for i in range(1, 6):\n",
    "    print(i)"
   ]
  },
  {
   "attachments": {},
   "cell_type": "markdown",
   "metadata": {},
   "source": [
    "En este ejemplo, el bucle `for` itera sobre la secuencia generada por `range(1, 6)`, que incluye los números del `1` al `5`. En cada iteración, se imprime el valor actual de `i`.\n",
    "\n",
    "* **Bucle while:**\n",
    "\n",
    "El bucle `while` en Python se repite mientras una condición sea verdadera. La estructura básica del bucle `while` es la siguiente:"
   ]
  },
  {
   "attachments": {},
   "cell_type": "markdown",
   "metadata": {},
   "source": [
    "```\n",
    "while condicion:\n",
    "    # Bloque de código a repetir\n",
    "```"
   ]
  },
  {
   "attachments": {},
   "cell_type": "markdown",
   "metadata": {},
   "source": [
    "El bloque de código dentro del bucle se ejecuta repetidamente mientras la condición sea verdadera. Es importante asegurarse de que la condición pueda cambiar dentro del bucle para evitar un bucle infinito. Aquí tienes un ejemplo:"
   ]
  },
  {
   "cell_type": "code",
   "execution_count": 8,
   "metadata": {},
   "outputs": [
    {
     "name": "stdout",
     "output_type": "stream",
     "text": [
      "0\n",
      "1\n",
      "2\n",
      "3\n",
      "4\n"
     ]
    }
   ],
   "source": [
    "contador = 0\n",
    "\n",
    "while contador < 5:\n",
    "    print(contador)\n",
    "    contador += 1"
   ]
  },
  {
   "attachments": {},
   "cell_type": "markdown",
   "metadata": {},
   "source": [
    "En este ejemplo, el bucle `while` se repite mientras el valor de contador sea menor que `5`. En cada iteración, se imprime el valor actual de contador y se incrementa en `1`. El bucle se detiene cuando contador alcanza el valor de `5`.\n",
    "\n",
    "Dentro de los bucles `for` y `while`, puedes utilizar las sentencias `break` y `continue` para controlar el flujo de ejecución:\n",
    "\n",
    "* `break` se utiliza para salir del bucle de manera prematura, sin completar todas las iteraciones restantes. Aquí tienes un ejemplo:"
   ]
  },
  {
   "cell_type": "code",
   "execution_count": 9,
   "metadata": {},
   "outputs": [
    {
     "name": "stdout",
     "output_type": "stream",
     "text": [
      "1\n",
      "2\n"
     ]
    }
   ],
   "source": [
    "for i in range(1, 6):\n",
    "    if i == 3:\n",
    "        break\n",
    "    print(i)"
   ]
  },
  {
   "attachments": {},
   "cell_type": "markdown",
   "metadata": {},
   "source": [
    "En este ejemplo, cuando `i` es igual a `3`, se utiliza la sentencia `break` para salir del bucle `for`.\n",
    "\n",
    "* `continue` se utiliza para omitir el resto del bloque de código en una iteración específica y pasar a la siguiente iteración. Aquí tienes un ejemplo:"
   ]
  },
  {
   "cell_type": "code",
   "execution_count": 10,
   "metadata": {},
   "outputs": [
    {
     "name": "stdout",
     "output_type": "stream",
     "text": [
      "1\n",
      "2\n",
      "4\n",
      "5\n"
     ]
    }
   ],
   "source": [
    "for i in range(1, 6):\n",
    "    if i == 3:\n",
    "        continue\n",
    "    print(i)"
   ]
  },
  {
   "attachments": {},
   "cell_type": "markdown",
   "metadata": {},
   "source": [
    "En este ejemplo, cuando `i` es igual a `3`, se utiliza la sentencia `continue` para omitir la impresión de ese valor y pasar a la siguiente iteración.\n",
    "\n",
    "Estos son los bucles `for` y `while` en Python. Ambos te permiten ejecutar un bloque de código repetidamente y automatizar tareas que requieren repetición. Elige el tipo de bucle adecuado según tus necesidades y la estructura de datos que desees iterar."
   ]
  },
  {
   "attachments": {},
   "cell_type": "markdown",
   "metadata": {},
   "source": [
    "## **Definición y tipos de funciones**"
   ]
  },
  {
   "attachments": {},
   "cell_type": "markdown",
   "metadata": {},
   "source": [
    "En Python, una función es un bloque de código reutilizable que realiza una tarea específica. Las funciones ayudan a organizar y modularizar el código al dividirlo en partes más pequeñas y manejables. Puedes definir tus propias funciones en Python utilizando la palabra clave `def`. A continuación, te proporciono una explicación detallada sobre la definición y los tipos de funciones en Python, junto con ejemplos:\n",
    "\n",
    "* **Definición de una función:**\n",
    "\n",
    "Para definir una función en Python, se utiliza la siguiente estructura:"
   ]
  },
  {
   "attachments": {},
   "cell_type": "markdown",
   "metadata": {},
   "source": [
    "```\n",
    "def nombre_de_la_funcion(parametros):\n",
    "    # Bloque de código de la función\n",
    "    # Puede incluir instrucciones y/o retornar valores\n",
    "```"
   ]
  },
  {
   "attachments": {},
   "cell_type": "markdown",
   "metadata": {},
   "source": [
    "* `nombre_de_la_funcion` es el nombre que le asignas a la función, y se utiliza para llamarla desde otras partes del programa.\n",
    "\n",
    "* `parametros` son los valores de entrada que la función puede recibir. Pueden ser opcionales y pueden haber varios separados por comas.\n",
    "\n",
    "Aquí tienes un ejemplo de una función sencilla que suma dos números:"
   ]
  },
  {
   "cell_type": "code",
   "execution_count": 11,
   "metadata": {},
   "outputs": [],
   "source": [
    "def suma(a, b):\n",
    "    resultado = a + b\n",
    "    return resultado"
   ]
  },
  {
   "attachments": {},
   "cell_type": "markdown",
   "metadata": {},
   "source": [
    "En este ejemplo, la función `suma` recibe dos parámetros (`a` y `b`). Dentro de la función, se realiza la operación de suma y se guarda el resultado en la variable resultado. Luego, se utiliza la palabra clave `return` para devolver el valor resultante.\n",
    "\n",
    "* **Tipos de funciones:**\n",
    "\n",
    "En Python, existen dos tipos principales de funciones: funciones con retorno y funciones sin retorno.\n",
    "\n",
    "* **Funciones con retorno:**\n",
    "\n",
    "Estas funciones realizan una tarea y devuelven un valor como resultado. Puedes utilizar la palabra clave `return` para especificar qué valor quieres que la función devuelva. Aquí tienes un ejemplo:"
   ]
  },
  {
   "cell_type": "code",
   "execution_count": 12,
   "metadata": {},
   "outputs": [
    {
     "name": "stdout",
     "output_type": "stream",
     "text": [
      "7\n"
     ]
    }
   ],
   "source": [
    "def suma(a, b):\n",
    "    resultado = a + b\n",
    "    return resultado\n",
    "\n",
    "resultado_suma = suma(3, 4)\n",
    "print(resultado_suma)  # Imprime: 7"
   ]
  },
  {
   "attachments": {},
   "cell_type": "markdown",
   "metadata": {},
   "source": [
    "En este ejemplo, la función `suma` devuelve el resultado de la suma de `a` y `b`. Luego, se guarda el valor devuelto en la variable `resultado_suma` y se imprime.\n",
    "\n",
    "* **Funciones sin retorno:**\n",
    "\n",
    "Estas funciones realizan una tarea, pero no devuelven ningún valor explícito utilizando la palabra clave `return`. En su lugar, pueden realizar acciones o modificar variables dentro de la función. Aquí tienes un ejemplo:"
   ]
  },
  {
   "cell_type": "code",
   "execution_count": 13,
   "metadata": {},
   "outputs": [
    {
     "name": "stdout",
     "output_type": "stream",
     "text": [
      "¡Hola, Juan!\n"
     ]
    }
   ],
   "source": [
    "def imprimir_saludo(nombre):\n",
    "    print(\"¡Hola, \" + nombre + \"!\")\n",
    "\n",
    "imprimir_saludo(\"Juan\")  # Imprime: ¡Hola, Juan!"
   ]
  },
  {
   "attachments": {},
   "cell_type": "markdown",
   "metadata": {},
   "source": [
    "En este ejemplo, la función `imprimir_saludo` recibe un nombre como parámetro y muestra un saludo en la consola utilizando la función `print()`. La función no tiene una instrucción `return`, ya que no devuelve ningún valor.\n",
    "\n",
    "Es importante mencionar que las funciones también pueden tener argumentos opcionales con valores predeterminados, lo que permite llamar a la función con menos argumentos si así se desea.\n",
    "\n",
    "Las funciones son una herramienta fundamental en la programación de Python, ya que promueven la reutilización de código, la modularidad y la claridad del programa. Puedes definir tus propias funciones para realizar tareas específicas y utilizarlas en diferentes partes de tu programa."
   ]
  },
  {
   "attachments": {},
   "cell_type": "markdown",
   "metadata": {},
   "source": [
    "## **Funciones Lambda**"
   ]
  },
  {
   "attachments": {},
   "cell_type": "markdown",
   "metadata": {},
   "source": [
    "En Python, las funciones `lambda`, también conocidas como funciones anónimas, son funciones pequeñas y concisas que se definen sin un nombre. A diferencia de las funciones regulares definidas con la palabra clave `def`, las funciones `lambda` se crean utilizando la palabra clave `lambda`. A continuación, te proporciono una explicación detallada sobre las funciones `lambda` en Python, junto con ejemplos:\n",
    "\n",
    "* **Sintaxis de una función lambda:**\n",
    "\n",
    "La sintaxis básica de una función `lambda` es la siguiente:"
   ]
  },
  {
   "attachments": {},
   "cell_type": "markdown",
   "metadata": {},
   "source": [
    "`lambda argumentos: expresion`"
   ]
  },
  {
   "attachments": {},
   "cell_type": "markdown",
   "metadata": {},
   "source": [
    "* `lambda` es la palabra clave utilizada para indicar que estás creando una función lambda.\n",
    "* `argumentos` son los parámetros de entrada de la función lambda.\n",
    "* `expresion` es el código que se ejecuta y devuelve el resultado de la función.\n",
    "\n",
    "**Características de las funciones lambda:**\n",
    "\n",
    "Las funciones lambda tienen algunas características importantes:\n",
    "\n",
    "* **Son funciones anónimas:** No se les asigna un nombre como lo harías con una función regular.\n",
    "* **Son funciones de una sola expresión:** Solo pueden contener una expresión, no múltiples declaraciones o líneas de código.\n",
    "* **Son funciones de una sola línea:** La expresión se evalúa y devuelve automáticamente.\n",
    "\n",
    "* **Uso de las funciones lambda:**\n",
    "\n",
    "Las funciones lambda se utilizan principalmente en situaciones en las que necesitas una función pequeña y simple que se pueda pasar como argumento a otra función o utilizar en una expresión.\n",
    "\n",
    "Aquí tienes un ejemplo que muestra cómo se crea y utiliza una función lambda:"
   ]
  },
  {
   "cell_type": "code",
   "execution_count": 14,
   "metadata": {},
   "outputs": [
    {
     "name": "stdout",
     "output_type": "stream",
     "text": [
      "7\n"
     ]
    }
   ],
   "source": [
    "# Función lambda que suma dos números\n",
    "sumar = lambda a, b: a + b\n",
    "\n",
    "# Uso de la función lambda\n",
    "resultado = sumar(3, 4)\n",
    "print(resultado)  # Imprime: 7"
   ]
  },
  {
   "attachments": {},
   "cell_type": "markdown",
   "metadata": {},
   "source": [
    "En este ejemplo, se define una función lambda llamada `sumar` que toma dos argumentos (`a` y `b`) y devuelve la suma de ellos. Luego, la función lambda se utiliza para sumar los números 3 y 4 y se guarda el resultado en la variable `resultado`. Finalmente, se imprime el resultado.\n",
    "\n",
    "* **Ventajas de las funciones lambda:**\n",
    "\n",
    "Las funciones lambda ofrecen algunas ventajas en comparación con las funciones regulares definidas con `def`:\n",
    "\n",
    "* **Concisión:** Las funciones lambda son más concisas y pueden expresar lógica simple en una sola línea de código.\n",
    "* **Legibilidad:** Debido a su brevedad, las funciones lambda pueden mejorar la legibilidad del código en ciertos casos.\n",
    "* **Flexibilidad:** Las funciones lambda se pueden utilizar en combinación con otras funciones, como `map()`, `filter()`, `reduce()`, para realizar operaciones en colecciones de datos.\n",
    "\n",
    "Sin embargo, es importante tener en cuenta que las funciones lambda tienen limitaciones y no son adecuadas para todas las situaciones. Si necesitas realizar tareas más complejas o definir funciones reutilizables, es recomendable utilizar funciones regulares definidas con `def`.\n",
    "\n",
    "En resumen, las funciones lambda son funciones anónimas y concisas en Python. Se utilizan para crear funciones pequeñas y expresivas en una sola línea de código. Las funciones lambda son útiles cuando necesitas funciones simples y rápidas para realizar tareas específicas."
   ]
  },
  {
   "attachments": {},
   "cell_type": "markdown",
   "metadata": {},
   "source": [
    "## **Funciones map y filter**"
   ]
  },
  {
   "attachments": {},
   "cell_type": "markdown",
   "metadata": {},
   "source": [
    "Las funciones `map()` y `filter()` son funciones integradas de Python que se utilizan comúnmente para aplicar transformaciones y filtros a colecciones de datos, como listas, tuplas o conjuntos. A continuación, te proporciono una explicación detallada de cada una de estas funciones, junto con ejemplos:\n",
    "\n",
    "* **Función map():**\n",
    "\n",
    "La función `map()` se utiliza para aplicar una función a cada elemento de una colección y devuelve un nuevo iterable con los resultados. La sintaxis de la función `map()` es la siguiente:"
   ]
  },
  {
   "attachments": {},
   "cell_type": "markdown",
   "metadata": {},
   "source": [
    "`map(funcion, iterable)`"
   ]
  },
  {
   "attachments": {},
   "cell_type": "markdown",
   "metadata": {},
   "source": [
    "* `funcion` es la función que se aplicará a cada elemento del iterable.\n",
    "* `iterable` es la colección de datos sobre la cual se aplicará la función.\n",
    "\n",
    "Aquí tienes un ejemplo que muestra cómo se utiliza la función `map()`:"
   ]
  },
  {
   "cell_type": "code",
   "execution_count": 15,
   "metadata": {},
   "outputs": [
    {
     "name": "stdout",
     "output_type": "stream",
     "text": [
      "[1, 4, 9, 16, 25]\n"
     ]
    }
   ],
   "source": [
    "# Función para elevar al cuadrado\n",
    "def cuadrado(numero):\n",
    "    return numero ** 2\n",
    "\n",
    "# Utilización de la función map()\n",
    "numeros = [1, 2, 3, 4, 5]\n",
    "resultados = map(cuadrado, numeros)\n",
    "print(list(resultados))  # Imprime: [1, 4, 9, 16, 25]"
   ]
  },
  {
   "attachments": {},
   "cell_type": "markdown",
   "metadata": {},
   "source": [
    "En este ejemplo, se define una función llamada `cuadrado()` que toma un número y devuelve su cuadrado. Luego, se utiliza la función `map()` para aplicar la función `cuadrado()` a cada elemento de la lista numeros. El resultado se almacena en la variable resultados y se convierte a una lista utilizando la función `list()` para imprimirlo.\n",
    "\n",
    "Es importante tener en cuenta que la función `map()` devuelve un objeto iterable. En el ejemplo, se convierte a una lista para ver los resultados. También se puede utilizar directamente en un bucle `for` para iterar sobre los elementos.\n",
    "\n",
    "* **Función filter():**\n",
    "\n",
    "La función `filter()` se utiliza para filtrar elementos de una colección basándose en una condición dada por una función. La sintaxis de la función `filter()` es la siguiente:"
   ]
  },
  {
   "attachments": {},
   "cell_type": "markdown",
   "metadata": {},
   "source": [
    "`filter(funcion, iterable)`"
   ]
  },
  {
   "attachments": {},
   "cell_type": "markdown",
   "metadata": {},
   "source": [
    "* `funcion` es la función que define la condición de filtrado.\n",
    "* `iterable` es la colección de datos que se desea filtrar.\n",
    "\n",
    "Aquí tienes un ejemplo que muestra cómo se utiliza la función `filter()`:"
   ]
  },
  {
   "cell_type": "code",
   "execution_count": 16,
   "metadata": {},
   "outputs": [
    {
     "name": "stdout",
     "output_type": "stream",
     "text": [
      "[2, 4, 6]\n"
     ]
    }
   ],
   "source": [
    "# Función para filtrar números pares\n",
    "def es_par(numero):\n",
    "    return numero % 2 == 0\n",
    "\n",
    "# Utilización de la función filter()\n",
    "numeros = [1, 2, 3, 4, 5, 6]\n",
    "pares = filter(es_par, numeros)\n",
    "print(list(pares))  # Imprime: [2, 4, 6]"
   ]
  },
  {
   "attachments": {},
   "cell_type": "markdown",
   "metadata": {},
   "source": [
    "En este ejemplo, se define una función llamada `es_par()` que verifica si un número es par. Luego, se utiliza la función `filter()` para aplicar la función `es_par()` a cada elemento de la lista numeros y filtrar solo los números pares. El resultado se almacena en la variable pares y se convierte a una lista para imprimirlo.\n",
    "\n",
    "Similar a la función `map()`, la función `filter()` devuelve un objeto iterable que se puede convertir a una lista o utilizar directamente en un bucle `for`.\n",
    "\n",
    "En resumen, las funciones `map()` y `filter()` son útiles para manipular y filtrar datos en colecciones. `map()` se utiliza para aplicar una función a cada elemento y obtener un nuevo iterable con los resultados, mientras que `filter()` se utiliza para filtrar elementos basados en una condición dada por una función. Estas funciones son herramientas poderosas para procesar datos de manera eficiente y expresiva en Python."
   ]
  },
  {
   "attachments": {},
   "cell_type": "markdown",
   "metadata": {},
   "source": [
    "| **Inicio** | **atrás 1** | **Siguiente 3** |\n",
    "|----------- |-------------- |---------------|\n",
    "| [🏠](../../../README.md) | [⏪](./1.VARIABLES_Y_ESTRUCTURAS_DE_DATOS.ipynb)| [⏩](./3.LIBRERIAS_PARA_ANALISIS_DE_DATOS.ipynb)|"
   ]
  }
 ],
 "metadata": {
  "kernelspec": {
   "display_name": "base",
   "language": "python",
   "name": "python3"
  },
  "language_info": {
   "codemirror_mode": {
    "name": "ipython",
    "version": 3
   },
   "file_extension": ".py",
   "mimetype": "text/x-python",
   "name": "python",
   "nbconvert_exporter": "python",
   "pygments_lexer": "ipython3",
   "version": "3.9.12"
  },
  "orig_nbformat": 4
 },
 "nbformat": 4,
 "nbformat_minor": 2
}
