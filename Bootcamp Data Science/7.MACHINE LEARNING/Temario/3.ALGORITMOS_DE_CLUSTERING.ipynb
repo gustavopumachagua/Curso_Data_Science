{
 "cells": [
  {
   "attachments": {},
   "cell_type": "markdown",
   "metadata": {},
   "source": [
    "| **Inicio** | **atrás 2** | **Siguiente 4** |\n",
    "|----------- |-------------- |---------------|\n",
    "| [🏠](../../../README.md) | [⏪](./2.ALGORITMOS_DE_CLASIFICACION.ipynb)| [⏩](./4.METODOS_AVANZADOS_PARA_MACHINE_LEARNING.ipynb)|"
   ]
  },
  {
   "attachments": {},
   "cell_type": "markdown",
   "metadata": {},
   "source": [
    "# **3. ALGORITMOS DE CLUSTERING**"
   ]
  },
  {
   "attachments": {},
   "cell_type": "markdown",
   "metadata": {},
   "source": [
    "## **Métricas para evaluar el rendimiento de los algoritmos de agrupamiento**"
   ]
  },
  {
   "attachments": {},
   "cell_type": "markdown",
   "metadata": {},
   "source": [
    "Las métricas para evaluar el rendimiento de los algoritmos de agrupamiento se utilizan para medir qué tan bien el algoritmo ha agrupado los datos y cómo se compara con la estructura de agrupamiento real (si está disponible). A continuación, se presentan algunas métricas comunes utilizadas para evaluar el rendimiento de los algoritmos de agrupamiento, junto con ejemplos de código Python y gráficas.\n",
    "\n",
    "* **Índice de Silueta:**\n",
    "\n",
    "El índice de silueta es una métrica que cuantifica qué tan bien están separados los grupos y qué tan similares son los objetos dentro de un grupo en comparación con otros grupos. El valor de la silueta varía de -1 a 1, donde un valor más cercano a 1 indica una buena separación entre los grupos y una cohesión adecuada dentro de cada grupo."
   ]
  },
  {
   "cell_type": "code",
   "execution_count": 1,
   "metadata": {},
   "outputs": [
    {
     "name": "stderr",
     "output_type": "stream",
     "text": [
      "/home/puma/anaconda3/lib/python3.9/site-packages/sklearn/cluster/_kmeans.py:870: FutureWarning: The default value of `n_init` will change from 10 to 'auto' in 1.4. Set the value of `n_init` explicitly to suppress the warning\n",
      "  warnings.warn(\n",
      "/home/puma/anaconda3/lib/python3.9/site-packages/sklearn/cluster/_kmeans.py:870: FutureWarning: The default value of `n_init` will change from 10 to 'auto' in 1.4. Set the value of `n_init` explicitly to suppress the warning\n",
      "  warnings.warn(\n",
      "/home/puma/anaconda3/lib/python3.9/site-packages/sklearn/cluster/_kmeans.py:870: FutureWarning: The default value of `n_init` will change from 10 to 'auto' in 1.4. Set the value of `n_init` explicitly to suppress the warning\n",
      "  warnings.warn(\n",
      "/home/puma/anaconda3/lib/python3.9/site-packages/sklearn/cluster/_kmeans.py:870: FutureWarning: The default value of `n_init` will change from 10 to 'auto' in 1.4. Set the value of `n_init` explicitly to suppress the warning\n",
      "  warnings.warn(\n",
      "/home/puma/anaconda3/lib/python3.9/site-packages/sklearn/cluster/_kmeans.py:870: FutureWarning: The default value of `n_init` will change from 10 to 'auto' in 1.4. Set the value of `n_init` explicitly to suppress the warning\n",
      "  warnings.warn(\n",
      "/home/puma/anaconda3/lib/python3.9/site-packages/sklearn/cluster/_kmeans.py:870: FutureWarning: The default value of `n_init` will change from 10 to 'auto' in 1.4. Set the value of `n_init` explicitly to suppress the warning\n",
      "  warnings.warn(\n"
     ]
    },
    {
     "data": {
      "image/png": "[encoded data removed]",
      "text/plain": [
       "<Figure size 432x288 with 1 Axes>"
      ]
     },
     "metadata": {
      "needs_background": "light"
     },
     "output_type": "display_data"
    }
   ],
   "source": [
    "from sklearn.cluster import KMeans\n",
    "from sklearn.metrics import silhouette_score\n",
    "import matplotlib.pyplot as plt\n",
    "\n",
    "# Generar datos de ejemplo\n",
    "X = [[2, 4], [3, 3], [3, 8], [4, 6], [6, 8], [7, 6], [8, 2], [8, 4], [9, 3], [10, 6]]\n",
    "\n",
    "# Aplicar el algoritmo de agrupamiento K-means con diferentes valores de k\n",
    "silhouette_scores = []\n",
    "k_values = range(2, 8)\n",
    "for k in k_values:\n",
    "    kmeans = KMeans(n_clusters=k, random_state=42)\n",
    "    kmeans.fit(X)\n",
    "    labels = kmeans.labels_\n",
    "    score = silhouette_score(X, labels)\n",
    "    silhouette_scores.append(score)\n",
    "\n",
    "# Visualizar los resultados\n",
    "plt.plot(k_values, silhouette_scores, marker='o')\n",
    "plt.xlabel('Número de clusters (k)')\n",
    "plt.ylabel('Índice de silueta')\n",
    "plt.title('Evaluación del número óptimo de clusters')\n",
    "plt.show()"
   ]
  },
  {
   "attachments": {},
   "cell_type": "markdown",
   "metadata": {},
   "source": [
    "En el ejemplo anterior, se utiliza el algoritmo de agrupamiento K-means para agrupar los datos de ejemplo en diferentes valores de k. Se calcula el índice de silueta para cada valor de k utilizando `silhouette_score`. Luego, se grafican los valores del índice de silueta en función del número de clusters k. El objetivo es encontrar el valor de k que maximice el índice de silueta, lo cual indica una mejor separación y cohesión de los grupos.\n",
    "\n",
    "* **Coeficiente de Rand ajustado (ARI):**\n",
    "\n",
    "El coeficiente de Rand ajustado es una métrica que mide la similitud entre los agrupamientos obtenidos y los agrupamientos reales (etiquetas de clase conocidas). El valor del coeficiente de Rand ajustado varía de -1 a 1, donde 1 indica una coincidencia perfecta entre los agrupamientos y 0 indica una similitud aleatoria."
   ]
  },
  {
   "cell_type": "code",
   "execution_count": 2,
   "metadata": {},
   "outputs": [
    {
     "name": "stderr",
     "output_type": "stream",
     "text": [
      "/home/puma/anaconda3/lib/python3.9/site-packages/sklearn/cluster/_kmeans.py:870: FutureWarning: The default value of `n_init` will change from 10 to 'auto' in 1.4. Set the value of `n_init` explicitly to suppress the warning\n",
      "  warnings.warn(\n"
     ]
    },
    {
     "name": "stdout",
     "output_type": "stream",
     "text": [
      "Coeficiente de Rand ajustado: 0.6298472385428907\n"
     ]
    }
   ],
   "source": [
    "from sklearn.cluster import KMeans\n",
    "from sklearn.metrics import adjusted_rand_score\n",
    "\n",
    "# Generar datos de ejemplo y etiquetas reales\n",
    "X = [[2, 4], [3, 3], [3, 8], [4, 6], [6, 8], [7, 6], [8, 2], [8, 4], [9, 3], [10, 6]]\n",
    "labels_true = [0, 0, 1, 1, 1, 1, 2, 2, 2, 2]\n",
    "\n",
    "# Aplicar el algoritmo de agrupamiento K-means\n",
    "kmeans = KMeans(n_clusters=3, random_state=42)\n",
    "kmeans.fit(X)\n",
    "labels_pred = kmeans.labels_\n",
    "\n",
    "# Calcular el coeficiente de Rand ajustado\n",
    "ari = adjusted_rand_score(labels_true, labels_pred)\n",
    "print(f\"Coeficiente de Rand ajustado: {ari}\")"
   ]
  },
  {
   "attachments": {},
   "cell_type": "markdown",
   "metadata": {},
   "source": [
    "En este ejemplo, se utiliza el algoritmo de agrupamiento K-means para agrupar los datos de ejemplo. Se comparan los agrupamientos obtenidos con las etiquetas reales utilizando `adjusted_rand_score` para calcular el coeficiente de Rand ajustado. Un valor cercano a 1 indica una buena coincidencia entre los agrupamientos y las etiquetas reales.\n",
    "\n",
    "Estas son solo algunas de las métricas comunes utilizadas para evaluar el rendimiento de los algoritmos de agrupamiento. La elección de la métrica adecuada depende del problema y de los datos específicos. Es importante considerar múltiples métricas y no basarse únicamente en una para tener una evaluación más completa del rendimiento del algoritmo de agrupamiento."
   ]
  },
  {
   "attachments": {},
   "cell_type": "markdown",
   "metadata": {},
   "source": [
    "## **Reducción de dimensionalidad con PCA**"
   ]
  },
  {
   "attachments": {},
   "cell_type": "markdown",
   "metadata": {},
   "source": [
    "La Reducción de dimensionalidad con PCA (Análisis de Componentes Principales, por sus siglas en inglés) es una técnica utilizada para reducir la dimensionalidad de un conjunto de datos conservando la mayor cantidad posible de información. PCA transforma un conjunto de variables correlacionadas en un conjunto de variables no correlacionadas llamadas componentes principales.\n",
    "\n",
    "Aquí tienes una explicación detallada junto con un ejemplo de código Python y gráficas:\n",
    "\n",
    "* **Importar bibliotecas necesarias:**"
   ]
  },
  {
   "cell_type": "code",
   "execution_count": 3,
   "metadata": {},
   "outputs": [],
   "source": [
    "import numpy as np\n",
    "import matplotlib.pyplot as plt\n",
    "from sklearn.decomposition import PCA"
   ]
  },
  {
   "attachments": {},
   "cell_type": "markdown",
   "metadata": {},
   "source": [
    "* **Generar datos de ejemplo:**"
   ]
  },
  {
   "cell_type": "code",
   "execution_count": 4,
   "metadata": {},
   "outputs": [],
   "source": [
    "np.random.seed(42)\n",
    "# Crear una matriz de características con dos variables\n",
    "X = np.random.rand(100, 2) * 10\n",
    "# Agregar correlación entre las variables\n",
    "X[:, 1] = X[:, 0] + np.random.rand(100) * 3"
   ]
  },
  {
   "attachments": {},
   "cell_type": "markdown",
   "metadata": {},
   "source": [
    "* **Aplicar PCA:**"
   ]
  },
  {
   "cell_type": "code",
   "execution_count": 5,
   "metadata": {},
   "outputs": [],
   "source": [
    "# Crear una instancia de PCA\n",
    "pca = PCA(n_components=2)\n",
    "# Ajustar PCA a los datos\n",
    "pca.fit(X)\n",
    "# Obtener los componentes principales\n",
    "components = pca.components_\n",
    "# Obtener las varianzas explicadas por cada componente principal\n",
    "explained_variance = pca.explained_variance_"
   ]
  },
  {
   "attachments": {},
   "cell_type": "markdown",
   "metadata": {},
   "source": [
    "* **Visualizar los datos y los componentes principales:**"
   ]
  },
  {
   "cell_type": "code",
   "execution_count": 6,
   "metadata": {},
   "outputs": [
    {
     "data": {
      "image/png": "[encoded data removed]",
      "text/plain": [
       "<Figure size 432x288 with 1 Axes>"
      ]
     },
     "metadata": {
      "needs_background": "light"
     },
     "output_type": "display_data"
    }
   ],
   "source": [
    "# Graficar los datos originales\n",
    "plt.scatter(X[:, 0], X[:, 1], alpha=0.8)\n",
    "plt.xlabel('Variable 1')\n",
    "plt.ylabel('Variable 2')\n",
    "\n",
    "# Graficar los componentes principales\n",
    "for i, (comp, var) in enumerate(zip(components, explained_variance)):\n",
    "    plt.arrow(pca.mean_[0], pca.mean_[1], comp[0] * var, comp[1] * var,\n",
    "              head_width=0.2, head_length=0.2, linewidth=2, color='red')\n",
    "    plt.text(pca.mean_[0] + comp[0] * var + 0.5, pca.mean_[1] + comp[1] * var + 0.5,\n",
    "             f'PC{i+1}', color='red')\n",
    "\n",
    "plt.title('Datos originales y Componentes principales')\n",
    "plt.grid(True)\n",
    "plt.show()"
   ]
  },
  {
   "attachments": {},
   "cell_type": "markdown",
   "metadata": {},
   "source": [
    "En el ejemplo anterior, se generan datos de ejemplo con dos variables correlacionadas. Luego, se aplica PCA utilizando la biblioteca scikit-learn. Los componentes principales y las varianzas explicadas se obtienen utilizando los atributos `components_` y `explained_variance_`, respectivamente. Finalmente, se grafican los datos originales y los componentes principales.\n",
    "\n",
    "El gráfico muestra los datos originales y los componentes principales como flechas rojas. La longitud de las flechas indica la varianza explicada por cada componente principal. Los componentes principales apuntan en la dirección de máxima variabilidad de los datos, y la varianza explicada por cada componente indica cuánta información se conserva al proyectar los datos en ese componente.\n",
    "\n",
    "La reducción de dimensionalidad con PCA se utiliza para simplificar la representación de datos y eliminar la correlación entre variables. Al seleccionar un número menor de componentes principales, es posible reducir la dimensionalidad del conjunto de datos mientras se conserva la mayor cantidad posible de información relevante. Esto puede ser útil para visualizar datos de alta dimensionalidad, reducir el costo computacional de algoritmos de aprendizaje automático o eliminar características redundantes."
   ]
  },
  {
   "attachments": {},
   "cell_type": "markdown",
   "metadata": {},
   "source": [
    "![Reducción de dimensionalidad con PCA](../img/Reducci%C3%B3n%20de%20dimensionalidad%20con%20PCA.png \"Reducción de dimensionalidad con PCA\")"
   ]
  },
  {
   "attachments": {},
   "cell_type": "markdown",
   "metadata": {},
   "source": [
    "## **Algoritmo KMEANS**"
   ]
  },
  {
   "attachments": {},
   "cell_type": "markdown",
   "metadata": {},
   "source": [
    "El algoritmo K-means es un algoritmo de agrupamiento o clustering que divide un conjunto de datos en `K` grupos o clusters de manera no supervisada. El objetivo del algoritmo es encontrar `K` centroides que representen los grupos de manera óptima.\n",
    "\n",
    "Aquí tienes una explicación detallada junto con un ejemplo de código Python y gráficas:\n",
    "\n",
    "* **Importar bibliotecas necesarias:**"
   ]
  },
  {
   "cell_type": "code",
   "execution_count": 7,
   "metadata": {},
   "outputs": [],
   "source": [
    "import numpy as np\n",
    "import matplotlib.pyplot as plt\n",
    "from sklearn.cluster import KMeans"
   ]
  },
  {
   "attachments": {},
   "cell_type": "markdown",
   "metadata": {},
   "source": [
    "* **Generar datos de ejemplo:**"
   ]
  },
  {
   "cell_type": "code",
   "execution_count": 8,
   "metadata": {},
   "outputs": [],
   "source": [
    "np.random.seed(42)\n",
    "# Crear dos grupos de datos con distribución normal\n",
    "X1 = np.random.randn(100, 2) + np.array([5, 5])\n",
    "X2 = np.random.randn(100, 2) + np.array([-5, -5])\n",
    "# Combinar los grupos en un solo conjunto de datos\n",
    "X = np.concatenate((X1, X2))"
   ]
  },
  {
   "attachments": {},
   "cell_type": "markdown",
   "metadata": {},
   "source": [
    "* **Aplicar el algoritmo K-means:**"
   ]
  },
  {
   "cell_type": "code",
   "execution_count": 9,
   "metadata": {},
   "outputs": [
    {
     "name": "stderr",
     "output_type": "stream",
     "text": [
      "/home/puma/anaconda3/lib/python3.9/site-packages/sklearn/cluster/_kmeans.py:870: FutureWarning: The default value of `n_init` will change from 10 to 'auto' in 1.4. Set the value of `n_init` explicitly to suppress the warning\n",
      "  warnings.warn(\n"
     ]
    }
   ],
   "source": [
    "# Crear una instancia de KMeans con el número de clusters deseado\n",
    "kmeans = KMeans(n_clusters=2)\n",
    "# Ajustar KMeans a los datos\n",
    "kmeans.fit(X)\n",
    "# Obtener las etiquetas de cluster asignadas a cada punto de datos\n",
    "labels = kmeans.labels_\n",
    "# Obtener los centroides de cada cluster\n",
    "centroids = kmeans.cluster_centers_"
   ]
  },
  {
   "attachments": {},
   "cell_type": "markdown",
   "metadata": {},
   "source": [
    "* **Visualizar los datos y los centroides:**"
   ]
  },
  {
   "cell_type": "code",
   "execution_count": 10,
   "metadata": {},
   "outputs": [
    {
     "data": {
      "image/png": "[encoded data removed]",
      "text/plain": [
       "<Figure size 432x288 with 1 Axes>"
      ]
     },
     "metadata": {
      "needs_background": "light"
     },
     "output_type": "display_data"
    }
   ],
   "source": [
    "# Asignar colores a cada etiqueta de cluster\n",
    "colors = ['red' if label == 0 else 'blue' for label in labels]\n",
    "\n",
    "# Graficar los datos con colores según su cluster asignado\n",
    "plt.scatter(X[:, 0], X[:, 1], c=colors, alpha=0.8)\n",
    "# Graficar los centroides de cada cluster\n",
    "plt.scatter(centroids[:, 0], centroids[:, 1], c='black', marker='x', s=100)\n",
    "\n",
    "plt.xlabel('Variable 1')\n",
    "plt.ylabel('Variable 2')\n",
    "plt.title('Clustering con K-means')\n",
    "plt.grid(True)\n",
    "plt.show()"
   ]
  },
  {
   "attachments": {},
   "cell_type": "markdown",
   "metadata": {},
   "source": [
    "En el ejemplo anterior, se generan datos de ejemplo con dos grupos de datos con distribución normal. Luego, se aplica el algoritmo K-means utilizando la biblioteca scikit-learn. Se especifica el número de clusters deseado (`n_clusters=2`) y se ajusta el modelo a los datos. Las etiquetas de cluster asignadas a cada punto de datos se obtienen utilizando el atributo `labels_`, y los centroides de cada cluster se obtienen utilizando el atributo `cluster_centers_`.\n",
    "\n",
    "El gráfico muestra los datos originales y los centroides de cada cluster. Los puntos de datos se agrupan según su cluster asignado y se les asigna un color correspondiente. Los centroides se representan como cruces negras. El objetivo del algoritmo K-means es minimizar la distancia entre los puntos de datos y el centroide de su cluster asignado.\n",
    "\n",
    "El algoritmo K-means es ampliamente utilizado en el campo del aprendizaje automático y análisis de datos para agrupar datos no etiquetados en grupos homogéneos. Es un algoritmo rápido y eficiente, pero depende de la elección del número de clusters (K) y puede converger a óptimos locales dependiendo de la inicialización de los centroides."
   ]
  },
  {
   "attachments": {},
   "cell_type": "markdown",
   "metadata": {},
   "source": [
    "![Algoritmo KMEANS](../img/Algoritmo%20KMEANS.png \"Algoritmo KMEANS\")"
   ]
  },
  {
   "attachments": {},
   "cell_type": "markdown",
   "metadata": {},
   "source": [
    "## **Algoritmo Jerárquico**"
   ]
  },
  {
   "attachments": {},
   "cell_type": "markdown",
   "metadata": {},
   "source": [
    "El algoritmo jerárquico es un algoritmo de agrupamiento o clustering que organiza los datos en una estructura jerárquica de forma similar a un árbol. Este enfoque no requiere especificar el número de clusters de antemano y puede ser utilizado para visualizar la estructura de los datos a diferentes niveles de granularidad.\n",
    "\n",
    "Aquí tienes una explicación detallada junto con un ejemplo de código Python y gráficas:\n",
    "\n",
    "* **Importar bibliotecas necesarias:**"
   ]
  },
  {
   "cell_type": "code",
   "execution_count": 11,
   "metadata": {},
   "outputs": [],
   "source": [
    "import numpy as np\n",
    "import matplotlib.pyplot as plt\n",
    "from scipy.cluster.hierarchy import dendrogram, linkage"
   ]
  },
  {
   "attachments": {},
   "cell_type": "markdown",
   "metadata": {},
   "source": [
    "* **Generar datos de ejemplo:**"
   ]
  },
  {
   "cell_type": "code",
   "execution_count": 12,
   "metadata": {},
   "outputs": [],
   "source": [
    "np.random.seed(42)\n",
    "# Crear dos grupos de datos con distribución normal\n",
    "X1 = np.random.randn(100, 2) + np.array([5, 5])\n",
    "X2 = np.random.randn(100, 2) + np.array([-5, -5])\n",
    "# Combinar los grupos en un solo conjunto de datos\n",
    "X = np.concatenate((X1, X2))"
   ]
  },
  {
   "attachments": {},
   "cell_type": "markdown",
   "metadata": {},
   "source": [
    "* **Aplicar el algoritmo jerárquico:**"
   ]
  },
  {
   "cell_type": "code",
   "execution_count": 13,
   "metadata": {},
   "outputs": [
    {
     "data": {
      "image/png": "[encoded data removed]",
      "text/plain": [
       "<Figure size 720x432 with 1 Axes>"
      ]
     },
     "metadata": {
      "needs_background": "light"
     },
     "output_type": "display_data"
    }
   ],
   "source": [
    "# Calcular la matriz de enlace utilizando el método de enlace completo\n",
    "Z = linkage(X, method='complete')\n",
    "\n",
    "# Graficar el dendrograma\n",
    "plt.figure(figsize=(10, 6))\n",
    "dendrogram(Z)\n",
    "plt.xlabel('Índices de datos')\n",
    "plt.ylabel('Distancia')\n",
    "plt.title('Dendrograma jerárquico')\n",
    "plt.show()"
   ]
  },
  {
   "attachments": {},
   "cell_type": "markdown",
   "metadata": {},
   "source": [
    "En el ejemplo anterior, se generan datos de ejemplo con dos grupos de datos con distribución normal. Luego, se aplica el algoritmo jerárquico utilizando la función linkage de la biblioteca `scipy.cluster.hierarchy`. El método de enlace completo (`method='complete'`) se utiliza para calcular la matriz de enlace, que representa las distancias entre los puntos de datos y los clusters en cada paso del algoritmo.\n",
    "\n",
    "El dendrograma resultante muestra la estructura jerárquica de los datos. En el eje `x` se encuentran los índices de los datos y en el eje `y` se representa la distancia. La altura de cada fusión en el dendrograma indica la distancia entre los clusters que se están fusionando. La línea horizontal más larga sin ninguna fusión indica el número de clusters.\n",
    "\n",
    "A partir del dendrograma, se puede elegir el número de clusters deseado cortando el dendrograma en una altura específica. Esta altura determinará el nivel de granularidad de los clusters. Por ejemplo, si se corta el dendrograma a una altura determinada, se obtendrán los clusters correspondientes a ese nivel.\n",
    "\n",
    "El algoritmo jerárquico es útil cuando no se conoce el número óptimo de clusters de antemano o cuando se desea explorar la estructura de los datos a diferentes niveles de detalle. Sin embargo, puede ser computacionalmente más costoso que otros algoritmos de clustering, especialmente cuando se trabaja con grandes conjuntos de datos.\n",
    "\n",
    "Es importante mencionar que existen diferentes métodos de enlace (por ejemplo, enlace simple, enlace completo, enlace promedio) que se pueden utilizar en el algoritmo jerárquico. Cada método puede dar lugar a estructuras de clusters diferentes, por lo que es recomendable experimentar con diferentes métodos para obtener los resultados deseados."
   ]
  },
  {
   "attachments": {},
   "cell_type": "markdown",
   "metadata": {},
   "source": [
    "## **Algoritmo DBSCAN**"
   ]
  },
  {
   "attachments": {},
   "cell_type": "markdown",
   "metadata": {},
   "source": [
    "El algoritmo DBSCAN (Density-Based Spatial Clustering of Applications with Noise) es un algoritmo de agrupamiento o clustering que se basa en la densidad de los puntos de datos en el espacio para descubrir grupos de puntos cercanos. A diferencia de otros algoritmos de clustering, DBSCAN puede encontrar clusters de cualquier forma y es robusto a ruido y valores atípicos.\n",
    "\n",
    "Aquí tienes una explicación detallada junto con un ejemplo de código Python y gráficas:\n",
    "\n",
    "* **Importar bibliotecas necesarias:**"
   ]
  },
  {
   "cell_type": "code",
   "execution_count": 14,
   "metadata": {},
   "outputs": [],
   "source": [
    "import numpy as np\n",
    "import matplotlib.pyplot as plt\n",
    "from sklearn.cluster import DBSCAN"
   ]
  },
  {
   "attachments": {},
   "cell_type": "markdown",
   "metadata": {},
   "source": [
    "* **Generar datos de ejemplo:**"
   ]
  },
  {
   "cell_type": "code",
   "execution_count": 15,
   "metadata": {},
   "outputs": [],
   "source": [
    "np.random.seed(42)\n",
    "# Crear tres grupos de datos con distribución normal\n",
    "X1 = np.random.randn(100, 2) + np.array([5, 5])\n",
    "X2 = np.random.randn(100, 2) + np.array([-5, -5])\n",
    "X3 = np.random.randn(50, 2) + np.array([0, 0])\n",
    "# Combinar los grupos en un solo conjunto de datos\n",
    "X = np.concatenate((X1, X2, X3))"
   ]
  },
  {
   "attachments": {},
   "cell_type": "markdown",
   "metadata": {},
   "source": [
    "* **Aplicar el algoritmo DBSCAN:**"
   ]
  },
  {
   "cell_type": "code",
   "execution_count": 16,
   "metadata": {},
   "outputs": [],
   "source": [
    "# Crear el objeto DBSCAN y especificar los parámetros\n",
    "dbscan = DBSCAN(eps=0.5, min_samples=5)\n",
    "\n",
    "# Aplicar el algoritmo DBSCAN al conjunto de datos\n",
    "labels = dbscan.fit_predict(X)"
   ]
  },
  {
   "attachments": {},
   "cell_type": "markdown",
   "metadata": {},
   "source": [
    "En el ejemplo anterior, se generan datos de ejemplo con tres grupos de datos con distribución normal y se combinan en un solo conjunto de datos. Luego, se aplica el algoritmo `DBSCAN` utilizando la clase `DBSCAN` de la biblioteca `sklearn.cluster`. Se especifican dos parámetros importantes: `eps` y `min_samples`. `eps` define la distancia máxima entre dos puntos para que se consideren vecinos y `min_samples` define el número mínimo de puntos vecinos requeridos para formar un cluster. Estos parámetros deben ser ajustados según las características de los datos.\n",
    "\n",
    "Después de aplicar el algoritmo `DBSCAN`, se obtienen las etiquetas de cluster asignadas a cada punto de datos. Los puntos asignados a un mismo cluster tienen la misma etiqueta, mientras que los puntos considerados como ruido o outliers se les asigna la etiqueta -1.\n",
    "\n",
    "* **Visualizar los resultados:**"
   ]
  },
  {
   "cell_type": "code",
   "execution_count": 18,
   "metadata": {},
   "outputs": [
    {
     "name": "stderr",
     "output_type": "stream",
     "text": [
      "*c* argument looks like a single numeric RGB or RGBA sequence, which should be avoided as value-mapping will have precedence in case its length matches with *x* & *y*.  Please use the *color* keyword-argument or provide a 2D array with a single row if you intend to specify the same RGB or RGBA value for all points.\n",
      "*c* argument looks like a single numeric RGB or RGBA sequence, which should be avoided as value-mapping will have precedence in case its length matches with *x* & *y*.  Please use the *color* keyword-argument or provide a 2D array with a single row if you intend to specify the same RGB or RGBA value for all points.\n",
      "*c* argument looks like a single numeric RGB or RGBA sequence, which should be avoided as value-mapping will have precedence in case its length matches with *x* & *y*.  Please use the *color* keyword-argument or provide a 2D array with a single row if you intend to specify the same RGB or RGBA value for all points.\n",
      "*c* argument looks like a single numeric RGB or RGBA sequence, which should be avoided as value-mapping will have precedence in case its length matches with *x* & *y*.  Please use the *color* keyword-argument or provide a 2D array with a single row if you intend to specify the same RGB or RGBA value for all points.\n",
      "*c* argument looks like a single numeric RGB or RGBA sequence, which should be avoided as value-mapping will have precedence in case its length matches with *x* & *y*.  Please use the *color* keyword-argument or provide a 2D array with a single row if you intend to specify the same RGB or RGBA value for all points.\n"
     ]
    },
    {
     "data": {
      "image/png": "[encoded data removed]",
      "text/plain": [
       "<Figure size 432x288 with 1 Axes>"
      ]
     },
     "metadata": {
      "needs_background": "light"
     },
     "output_type": "display_data"
    }
   ],
   "source": [
    "# Obtener la cantidad de clusters encontrados (excluyendo los puntos de ruido)\n",
    "n_clusters = len(set(labels)) - (1 if -1 in labels else 0)\n",
    "\n",
    "# Create a colormap for visualizing the clusters\n",
    "colormap = plt.cm.get_cmap('viridis', n_clusters)\n",
    "\n",
    "# Plot the data points with colors based on their cluster labels\n",
    "for label in set(labels):\n",
    "    if label == -1:\n",
    "        # Noise points in black color\n",
    "        color = 'k'\n",
    "    else:\n",
    "        # Assign a color from the colormap based on the cluster label\n",
    "        color = colormap(label)\n",
    "    # Filter the data points by their cluster label\n",
    "    mask = labels == label\n",
    "    plt.scatter(X[mask, 0], X[mask, 1], c=color, label=label)\n",
    "\n",
    "plt.xlabel('X')\n",
    "plt.ylabel('Y')\n",
    "plt.title('DBSCAN Clustering')\n",
    "plt.legend()\n",
    "plt.show()"
   ]
  },
  {
   "attachments": {},
   "cell_type": "markdown",
   "metadata": {},
   "source": [
    "En el código anterior, se obtiene la cantidad de clusters encontrados (excluyendo los puntos de ruido) y se crea una matriz de colores para visualizar los clusters. Luego, se grafican los puntos de datos asignando colores según sus etiquetas de cluster. Los puntos de ruido se representan en color negro.\n",
    "\n",
    "El algoritmo DBSCAN es particularmente útil cuando se trabaja con conjuntos de datos donde los clusters tienen diferentes densidades o formas irregulares. El algoritmo puede encontrar clusters de cualquier forma y es robusto a la presencia de ruido y valores atípicos. Sin embargo, la elección adecuada de los parámetros `eps` y `min_samples` es importante y puede requerir ajustes y experimentación para obtener resultados óptimos."
   ]
  },
  {
   "attachments": {},
   "cell_type": "markdown",
   "metadata": {},
   "source": [
    "| **Inicio** | **atrás 2** | **Siguiente 4** |\n",
    "|----------- |-------------- |---------------|\n",
    "| [🏠](../../../README.md) | [⏪](./2.ALGORITMOS_DE_CLASIFICACION.ipynb)| [⏩](./4.METODOS_AVANZADOS_PARA_MACHINE_LEARNING.ipynb)|"
   ]
  }
 ],
 "metadata": {
  "kernelspec": {
   "display_name": "base",
   "language": "python",
   "name": "python3"
  },
  "language_info": {
   "codemirror_mode": {
    "name": "ipython",
    "version": 3
   },
   "file_extension": ".py",
   "mimetype": "text/x-python",
   "name": "python",
   "nbconvert_exporter": "python",
   "pygments_lexer": "ipython3",
   "version": "3.9.12"
  },
  "orig_nbformat": 4
 },
 "nbformat": 4,
 "nbformat_minor": 2
}
