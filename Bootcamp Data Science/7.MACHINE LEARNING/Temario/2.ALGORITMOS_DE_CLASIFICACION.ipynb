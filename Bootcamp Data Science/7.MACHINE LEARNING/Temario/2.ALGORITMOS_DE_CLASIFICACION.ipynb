{
 "cells": [
  {
   "attachments": {},
   "cell_type": "markdown",
   "metadata": {},
   "source": [
    "| **Inicio** | **atrás 1** | **Siguiente 3** |\n",
    "|----------- |-------------- |---------------|\n",
    "| [🏠](../../../README.md) | [⏪](./1.ALGORITMOS_DE_REGRESION.ipynb)| [⏩](./3.ALGORITMOS_DE_CLUSTERING.ipynb)|"
   ]
  },
  {
   "attachments": {},
   "cell_type": "markdown",
   "metadata": {},
   "source": [
    "# **2. ALGORITMOS DE CLASIFICACIÓN**"
   ]
  },
  {
   "attachments": {},
   "cell_type": "markdown",
   "metadata": {},
   "source": [
    "## **Métricas para evaluar modelos de Clasificación**"
   ]
  },
  {
   "attachments": {},
   "cell_type": "markdown",
   "metadata": {},
   "source": [
    "Existen diversas métricas que se utilizan para evaluar modelos de clasificación. A continuación, te proporcionaré una explicación detallada de algunas de las métricas más comunes, junto con ejemplos de código en Python y gráficas para ilustrar su uso.\n",
    "\n",
    "1. ***Matriz de confusión:**\n",
    "\n",
    "La matriz de confusión es una tabla que muestra la cantidad de clasificaciones correctas e incorrectas realizadas por un modelo de clasificación. Permite visualizar el rendimiento del modelo en términos de verdaderos positivos (`TP`), falsos positivos (`FP`), verdaderos negativos (`TN`) y falsos negativos (`FN`). A partir de esta matriz, se pueden calcular otras métricas."
   ]
  },
  {
   "cell_type": "code",
   "execution_count": 2,
   "metadata": {},
   "outputs": [
    {
     "data": {
      "image/png": "[encoded data removed]",
      "text/plain": [
       "<Figure size 432x288 with 2 Axes>"
      ]
     },
     "metadata": {
      "needs_background": "light"
     },
     "output_type": "display_data"
    }
   ],
   "source": [
    "from sklearn.metrics import confusion_matrix\n",
    "import seaborn as sns\n",
    "import matplotlib.pyplot as plt\n",
    "\n",
    "# Datos de ejemplo\n",
    "y_true = [1, 0, 0, 1, 1, 0, 1, 0]\n",
    "y_pred = [1, 1, 0, 1, 0, 0, 1, 0]\n",
    "\n",
    "# Calcular matriz de confusión\n",
    "cm = confusion_matrix(y_true, y_pred)\n",
    "\n",
    "# Visualizar matriz de confusión\n",
    "sns.heatmap(cm, annot=True, cmap=\"Blues\")\n",
    "plt.xlabel('Predicted')\n",
    "plt.ylabel('Actual')\n",
    "plt.title('Matriz de confusión')\n",
    "plt.show()"
   ]
  },
  {
   "attachments": {},
   "cell_type": "markdown",
   "metadata": {},
   "source": [
    "La matriz de confusión muestra el número de muestras clasificadas correctamente e incorrectamente para cada clase. En el ejemplo, se muestra una matriz de confusión binaria, donde la clase positiva es representada por 1 y la clase negativa por 0.\n",
    "\n",
    "2. **Precisión (Accuracy):**\n",
    "\n",
    "La precisión es una métrica que mide la proporción de muestras clasificadas correctamente sobre el total de muestras."
   ]
  },
  {
   "cell_type": "code",
   "execution_count": 3,
   "metadata": {},
   "outputs": [
    {
     "name": "stdout",
     "output_type": "stream",
     "text": [
      "Precisión: 0.75\n"
     ]
    }
   ],
   "source": [
    "from sklearn.metrics import accuracy_score\n",
    "\n",
    "# Calcular precisión\n",
    "accuracy = accuracy_score(y_true, y_pred)\n",
    "print(\"Precisión:\", accuracy)"
   ]
  },
  {
   "attachments": {},
   "cell_type": "markdown",
   "metadata": {},
   "source": [
    "3. **Precisión por clase:**\n",
    "\n",
    "La precisión por clase proporciona la precisión para cada clase por separado. Es útil cuando las clases están desequilibradas."
   ]
  },
  {
   "cell_type": "code",
   "execution_count": 4,
   "metadata": {},
   "outputs": [
    {
     "name": "stdout",
     "output_type": "stream",
     "text": [
      "Precisión por clase: [0.75 0.75]\n"
     ]
    }
   ],
   "source": [
    "from sklearn.metrics import precision_score\n",
    "\n",
    "# Calcular precisión por clase\n",
    "precision = precision_score(y_true, y_pred, average=None)\n",
    "print(\"Precisión por clase:\", precision)"
   ]
  },
  {
   "attachments": {},
   "cell_type": "markdown",
   "metadata": {},
   "source": [
    "4. **Recall (Sensibilidad o Tasa de verdaderos positivos):**\n",
    "\n",
    "El recall mide la proporción de verdaderos positivos clasificados correctamente sobre el total de verdaderos positivos.\n"
   ]
  },
  {
   "cell_type": "code",
   "execution_count": 5,
   "metadata": {},
   "outputs": [
    {
     "name": "stdout",
     "output_type": "stream",
     "text": [
      "Recall: 0.75\n"
     ]
    }
   ],
   "source": [
    "from sklearn.metrics import recall_score\n",
    "\n",
    "# Calcular recall\n",
    "recall = recall_score(y_true, y_pred)\n",
    "print(\"Recall:\", recall)"
   ]
  },
  {
   "attachments": {},
   "cell_type": "markdown",
   "metadata": {},
   "source": [
    "5. **F1-Score:**\n",
    "\n",
    "El F1-Score es la media armónica de la precisión y el recall. Es una métrica útil cuando hay un desequilibrio entre las clases."
   ]
  },
  {
   "cell_type": "code",
   "execution_count": 6,
   "metadata": {},
   "outputs": [
    {
     "name": "stdout",
     "output_type": "stream",
     "text": [
      "F1-Score: 0.75\n"
     ]
    }
   ],
   "source": [
    "from sklearn.metrics import f1_score\n",
    "\n",
    "# Calcular F1-Score\n",
    "f1 = f1_score(y_true, y_pred)\n",
    "print(\"F1-Score:\", f1)"
   ]
  },
  {
   "attachments": {},
   "cell_type": "markdown",
   "metadata": {},
   "source": [
    "Estas son solo algunas de las métricas más comunes utilizadas para evaluar modelos de clasificación. La elección de las métricas depende del problema en cuestión y del equilibrio deseado entre la precisión y el recall. Es importante tener en cuenta que cada métrica tiene sus ventajas y limitaciones, y es recomendable utilizar varias métricas para obtener una evaluación más completa del modelo de clasificación."
   ]
  },
  {
   "attachments": {},
   "cell_type": "markdown",
   "metadata": {},
   "source": [
    "## **Regresión Logística**"
   ]
  },
  {
   "attachments": {},
   "cell_type": "markdown",
   "metadata": {},
   "source": [
    "La Regresión Logística es un algoritmo de aprendizaje supervisado utilizado para resolver problemas de clasificación binaria, es decir, cuando queremos predecir la pertenencia a una de dos clases posibles. A pesar de su nombre, la Regresión Logística se utiliza para clasificar y no para realizar regresión.\n",
    "\n",
    "La Regresión Logística utiliza una función logística, también conocida como sigmoide, para modelar la relación entre las variables independientes y la probabilidad de pertenecer a una clase específica. La función logística tiene la siguiente forma:\n",
    "\n",
    "$f(x) = 1 / (1 + e^(-x))$\n",
    "\n",
    "En esta función, $x$ es una combinación lineal de las variables independientes ponderadas por los coeficientes del modelo. El objetivo de la Regresión Logística es encontrar los mejores coeficientes que maximicen la verosimilitud de los datos observados.\n",
    "\n",
    "A continuación, se muestra un ejemplo de cómo implementar la Regresión Logística en Python utilizando la biblioteca Scikit-learn:"
   ]
  },
  {
   "cell_type": "code",
   "execution_count": 7,
   "metadata": {},
   "outputs": [
    {
     "data": {
      "image/png": "[encoded data removed]",
      "text/plain": [
       "<Figure size 432x288 with 1 Axes>"
      ]
     },
     "metadata": {
      "needs_background": "light"
     },
     "output_type": "display_data"
    }
   ],
   "source": [
    "import numpy as np\n",
    "import matplotlib.pyplot as plt\n",
    "from sklearn.linear_model import LogisticRegression\n",
    "\n",
    "# Datos de ejemplo\n",
    "X = np.array([[1.2, 0.5], [2.4, 1.0], [1.8, 1.2], [3.0, 0.8]])\n",
    "y = np.array([0, 0, 1, 1])\n",
    "\n",
    "# Crear el modelo de Regresión Logística\n",
    "logreg = LogisticRegression()\n",
    "\n",
    "# Entrenar el modelo\n",
    "logreg.fit(X, y)\n",
    "\n",
    "# Realizar predicciones\n",
    "y_pred = logreg.predict(X)\n",
    "\n",
    "# Graficar los datos y las predicciones\n",
    "plt.scatter(X[:, 0], X[:, 1], c=y, cmap='bwr', edgecolor='k')\n",
    "plt.xlabel('Variable X1')\n",
    "plt.ylabel('Variable X2')\n",
    "\n",
    "# Crear una malla para graficar las regiones de decisión\n",
    "x_min, x_max = X[:, 0].min() - 0.5, X[:, 0].max() + 0.5\n",
    "y_min, y_max = X[:, 1].min() - 0.5, X[:, 1].max() + 0.5\n",
    "xx, yy = np.meshgrid(np.arange(x_min, x_max, 0.01), np.arange(y_min, y_max, 0.01))\n",
    "Z = logreg.predict(np.c_[xx.ravel(), yy.ravel()])\n",
    "Z = Z.reshape(xx.shape)\n",
    "plt.contourf(xx, yy, Z, alpha=0.5, cmap='bwr')\n",
    "\n",
    "plt.title('Regresión Logística')\n",
    "plt.show()"
   ]
  },
  {
   "attachments": {},
   "cell_type": "markdown",
   "metadata": {},
   "source": [
    "En este ejemplo, se tienen dos variables independientes (`X1` y `X2`) y una variable dependiente binaria (0 o 1). Se crea un modelo de Regresión Logística utilizando la clase `LogisticRegression` de Scikit-learn. El modelo se entrena con los datos de entrada `X` y las etiquetas `y`. Luego, se utilizan las variables `X` para realizar predicciones y se grafican los datos junto con las regiones de decisión generadas por el modelo.\n",
    "\n",
    "La gráfica muestra los puntos de datos en función de las variables `X1` y `X2`, y las regiones de decisión se muestran en colores diferentes para las dos clases. La Regresión Logística busca encontrar una línea que separe las dos clases de manera óptima en función de las probabilidades estimadas.\n",
    "\n",
    "Es importante tener en cuenta que este es un ejemplo simplificado y la Regresión Logística puede manejar conjuntos de datos más complejos con múltiples variables independientes. Además, se pueden aplicar técnicas como regularización y validación cruzada para mejorar el rendimiento del modelo."
   ]
  },
  {
   "attachments": {},
   "cell_type": "markdown",
   "metadata": {},
   "source": [
    "![Regresión Logística](../img/Regresi%C3%B3n%20Log%C3%ADstica.png \"Regresión Logística\")"
   ]
  },
  {
   "attachments": {},
   "cell_type": "markdown",
   "metadata": {},
   "source": [
    "## **Clasificación con KNN**"
   ]
  },
  {
   "attachments": {},
   "cell_type": "markdown",
   "metadata": {},
   "source": [
    "La clasificación con KNN (K-Nearest Neighbors) es un algoritmo de aprendizaje supervisado utilizado para la clasificación de datos. El objetivo es asignar una etiqueta de clase a un nuevo punto de datos basado en las etiquetas de clase de los puntos de datos vecinos más cercanos en el conjunto de entrenamiento. El algoritmo se basa en la suposición de que los puntos de datos similares tienden a tener etiquetas de clase similares.\n",
    "\n",
    "A continuación, se presenta una explicación detallada del algoritmo KNN junto con un ejemplo en código Python y gráficas.\n",
    "\n",
    "* **Paso 1:** Importar las bibliotecas necesarias y generar los datos de ejemplo."
   ]
  },
  {
   "cell_type": "code",
   "execution_count": 1,
   "metadata": {},
   "outputs": [],
   "source": [
    "import numpy as np\n",
    "import matplotlib.pyplot as plt\n",
    "from sklearn.datasets import make_classification\n",
    "from sklearn.model_selection import train_test_split\n",
    "from sklearn.neighbors import KNeighborsClassifier\n",
    "from sklearn.metrics import accuracy_score\n",
    "\n",
    "# Generar datos de ejemplo\n",
    "X, y = make_classification(n_samples=100, n_features=2, n_informative=2, n_redundant=0, n_classes=2, random_state=1)\n",
    "\n",
    "# Dividir los datos en conjuntos de entrenamiento y prueba\n",
    "X_train, X_test, y_train, y_test = train_test_split(X, y, test_size=0.2, random_state=1)"
   ]
  },
  {
   "attachments": {},
   "cell_type": "markdown",
   "metadata": {},
   "source": [
    "* **Paso 2:** Crear y entrenar el modelo KNN."
   ]
  },
  {
   "cell_type": "code",
   "execution_count": 2,
   "metadata": {},
   "outputs": [
    {
     "data": {
      "text/html": [
       "<style>#sk-container-id-1 {color: black;background-color: white;}#sk-container-id-1 pre{padding: 0;}#sk-container-id-1 div.sk-toggleable {background-color: white;}#sk-container-id-1 label.sk-toggleable__label {cursor: pointer;display: block;width: 100%;margin-bottom: 0;padding: 0.3em;box-sizing: border-box;text-align: center;}#sk-container-id-1 label.sk-toggleable__label-arrow:before {content: \"▸\";float: left;margin-right: 0.25em;color: #696969;}#sk-container-id-1 label.sk-toggleable__label-arrow:hover:before {color: black;}#sk-container-id-1 div.sk-estimator:hover label.sk-toggleable__label-arrow:before {color: black;}#sk-container-id-1 div.sk-toggleable__content {max-height: 0;max-width: 0;overflow: hidden;text-align: left;background-color: #f0f8ff;}#sk-container-id-1 div.sk-toggleable__content pre {margin: 0.2em;color: black;border-radius: 0.25em;background-color: #f0f8ff;}#sk-container-id-1 input.sk-toggleable__control:checked~div.sk-toggleable__content {max-height: 200px;max-width: 100%;overflow: auto;}#sk-container-id-1 input.sk-toggleable__control:checked~label.sk-toggleable__label-arrow:before {content: \"▾\";}#sk-container-id-1 div.sk-estimator input.sk-toggleable__control:checked~label.sk-toggleable__label {background-color: #d4ebff;}#sk-container-id-1 div.sk-label input.sk-toggleable__control:checked~label.sk-toggleable__label {background-color: #d4ebff;}#sk-container-id-1 input.sk-hidden--visually {border: 0;clip: rect(1px 1px 1px 1px);clip: rect(1px, 1px, 1px, 1px);height: 1px;margin: -1px;overflow: hidden;padding: 0;position: absolute;width: 1px;}#sk-container-id-1 div.sk-estimator {font-family: monospace;background-color: #f0f8ff;border: 1px dotted black;border-radius: 0.25em;box-sizing: border-box;margin-bottom: 0.5em;}#sk-container-id-1 div.sk-estimator:hover {background-color: #d4ebff;}#sk-container-id-1 div.sk-parallel-item::after {content: \"\";width: 100%;border-bottom: 1px solid gray;flex-grow: 1;}#sk-container-id-1 div.sk-label:hover label.sk-toggleable__label {background-color: #d4ebff;}#sk-container-id-1 div.sk-serial::before {content: \"\";position: absolute;border-left: 1px solid gray;box-sizing: border-box;top: 0;bottom: 0;left: 50%;z-index: 0;}#sk-container-id-1 div.sk-serial {display: flex;flex-direction: column;align-items: center;background-color: white;padding-right: 0.2em;padding-left: 0.2em;position: relative;}#sk-container-id-1 div.sk-item {position: relative;z-index: 1;}#sk-container-id-1 div.sk-parallel {display: flex;align-items: stretch;justify-content: center;background-color: white;position: relative;}#sk-container-id-1 div.sk-item::before, #sk-container-id-1 div.sk-parallel-item::before {content: \"\";position: absolute;border-left: 1px solid gray;box-sizing: border-box;top: 0;bottom: 0;left: 50%;z-index: -1;}#sk-container-id-1 div.sk-parallel-item {display: flex;flex-direction: column;z-index: 1;position: relative;background-color: white;}#sk-container-id-1 div.sk-parallel-item:first-child::after {align-self: flex-end;width: 50%;}#sk-container-id-1 div.sk-parallel-item:last-child::after {align-self: flex-start;width: 50%;}#sk-container-id-1 div.sk-parallel-item:only-child::after {width: 0;}#sk-container-id-1 div.sk-dashed-wrapped {border: 1px dashed gray;margin: 0 0.4em 0.5em 0.4em;box-sizing: border-box;padding-bottom: 0.4em;background-color: white;}#sk-container-id-1 div.sk-label label {font-family: monospace;font-weight: bold;display: inline-block;line-height: 1.2em;}#sk-container-id-1 div.sk-label-container {text-align: center;}#sk-container-id-1 div.sk-container {/* jupyter's `normalize.less` sets `[hidden] { display: none; }` but bootstrap.min.css set `[hidden] { display: none !important; }` so we also need the `!important` here to be able to override the default hidden behavior on the sphinx rendered scikit-learn.org. See: https://github.com/scikit-learn/scikit-learn/issues/21755 */display: inline-block !important;position: relative;}#sk-container-id-1 div.sk-text-repr-fallback {display: none;}</style><div id=\"sk-container-id-1\" class=\"sk-top-container\"><div class=\"sk-text-repr-fallback\"><pre>KNeighborsClassifier(n_neighbors=3)</pre><b>In a Jupyter environment, please rerun this cell to show the HTML representation or trust the notebook. <br />On GitHub, the HTML representation is unable to render, please try loading this page with nbviewer.org.</b></div><div class=\"sk-container\" hidden><div class=\"sk-item\"><div class=\"sk-estimator sk-toggleable\"><input class=\"sk-toggleable__control sk-hidden--visually\" id=\"sk-estimator-id-1\" type=\"checkbox\" checked><label for=\"sk-estimator-id-1\" class=\"sk-toggleable__label sk-toggleable__label-arrow\">KNeighborsClassifier</label><div class=\"sk-toggleable__content\"><pre>KNeighborsClassifier(n_neighbors=3)</pre></div></div></div></div></div>"
      ],
      "text/plain": [
       "KNeighborsClassifier(n_neighbors=3)"
      ]
     },
     "execution_count": 2,
     "metadata": {},
     "output_type": "execute_result"
    }
   ],
   "source": [
    "# Crear el clasificador KNN\n",
    "knn = KNeighborsClassifier(n_neighbors=3)\n",
    "\n",
    "# Entrenar el modelo\n",
    "knn.fit(X_train, y_train)"
   ]
  },
  {
   "attachments": {},
   "cell_type": "markdown",
   "metadata": {},
   "source": [
    "* **Paso 3:** Realizar predicciones y evaluar el rendimiento del modelo."
   ]
  },
  {
   "cell_type": "code",
   "execution_count": 3,
   "metadata": {},
   "outputs": [
    {
     "name": "stdout",
     "output_type": "stream",
     "text": [
      "Precisión del modelo: 1.0\n"
     ]
    }
   ],
   "source": [
    "# Realizar predicciones en el conjunto de prueba\n",
    "y_pred = knn.predict(X_test)\n",
    "\n",
    "# Calcular la precisión del modelo\n",
    "accuracy = accuracy_score(y_test, y_pred)\n",
    "print(\"Precisión del modelo:\", accuracy)"
   ]
  },
  {
   "attachments": {},
   "cell_type": "markdown",
   "metadata": {},
   "source": [
    "* **Paso 4:** Visualizar los datos y las regiones de clasificación."
   ]
  },
  {
   "cell_type": "code",
   "execution_count": 4,
   "metadata": {},
   "outputs": [
    {
     "data": {
      "image/png": "[encoded data removed]",
      "text/plain": [
       "<Figure size 432x288 with 1 Axes>"
      ]
     },
     "metadata": {
      "needs_background": "light"
     },
     "output_type": "display_data"
    }
   ],
   "source": [
    "# Crear una malla de puntos para visualizar las regiones de clasificación\n",
    "h = 0.02  # Paso de la malla\n",
    "x_min, x_max = X[:, 0].min() - 1, X[:, 0].max() + 1\n",
    "y_min, y_max = X[:, 1].min() - 1, X[:, 1].max() + 1\n",
    "xx, yy = np.meshgrid(np.arange(x_min, x_max, h), np.arange(y_min, y_max, h))\n",
    "\n",
    "# Realizar predicciones en la malla de puntos\n",
    "Z = knn.predict(np.c_[xx.ravel(), yy.ravel()])\n",
    "Z = Z.reshape(xx.shape)\n",
    "\n",
    "# Graficar los datos y las regiones de clasificación\n",
    "plt.figure()\n",
    "plt.contourf(xx, yy, Z, cmap=plt.cm.RdYlBu, alpha=0.8)\n",
    "plt.scatter(X[:, 0], X[:, 1], c=y, cmap=plt.cm.RdYlBu, edgecolors='k')\n",
    "plt.xlabel('Feature 1')\n",
    "plt.ylabel('Feature 2')\n",
    "plt.title('Clasificación con KNN')\n",
    "plt.show()"
   ]
  },
  {
   "attachments": {},
   "cell_type": "markdown",
   "metadata": {},
   "source": [
    "En el ejemplo anterior, se importan las bibliotecas necesarias y se generan datos de ejemplo utilizando la función `make_classification` de scikit-learn. Luego, se dividen los datos en conjuntos de entrenamiento y prueba utilizando `train_test_split`.\n",
    "\n",
    "Se crea un objeto de clasificador KNN con `KNeighborsClassifier` y se entrena el modelo utilizando el conjunto de entrenamiento.\n",
    "\n",
    "Después de entrenar el modelo, se realizan predicciones en el conjunto de prueba y se calcula la precisión del modelo utilizando `accuracy_score`.\n",
    "\n",
    "Finalmente, se crea una malla de puntos para visualizar las regiones de clasificación y se grafican los datos de entrenamiento junto con las regiones de clasificación resultantes.\n",
    "\n",
    "Este es un ejemplo básico de clasificación con KNN en Python. El algoritmo KNN es flexible y puede ajustarse mediante la selección adecuada del número de vecinos (`n_neighbors`) y otras configuraciones."
   ]
  },
  {
   "attachments": {},
   "cell_type": "markdown",
   "metadata": {},
   "source": [
    "## **Clasificación con Vectores de Soporte**"
   ]
  },
  {
   "attachments": {},
   "cell_type": "markdown",
   "metadata": {},
   "source": [
    "La clasificación con Vectores de Soporte (SVM, por sus siglas en inglés: Support Vector Machines) es un algoritmo de aprendizaje supervisado utilizado para la clasificación de datos. El objetivo es encontrar un hiperplano en un espacio de alta dimensión que pueda separar claramente las diferentes clases de datos. Los vectores de soporte son los puntos de datos más cercanos al hiperplano y desempeñan un papel crucial en la definición del mismo.\n",
    "\n",
    "A continuación, se presenta una explicación detallada del algoritmo SVM junto con un ejemplo en código Python y gráficas.\n",
    "\n",
    "* **Paso 1:** Importar las bibliotecas necesarias y generar los datos de ejemplo."
   ]
  },
  {
   "cell_type": "code",
   "execution_count": 5,
   "metadata": {},
   "outputs": [],
   "source": [
    "import numpy as np\n",
    "import matplotlib.pyplot as plt\n",
    "from sklearn.datasets import make_classification\n",
    "from sklearn.model_selection import train_test_split\n",
    "from sklearn.svm import SVC\n",
    "from sklearn.metrics import accuracy_score\n",
    "\n",
    "# Generar datos de ejemplo\n",
    "X, y = make_classification(n_samples=100, n_features=2, n_informative=2, n_redundant=0, n_classes=2, random_state=1)\n",
    "\n",
    "# Dividir los datos en conjuntos de entrenamiento y prueba\n",
    "X_train, X_test, y_train, y_test = train_test_split(X, y, test_size=0.2, random_state=1)"
   ]
  },
  {
   "attachments": {},
   "cell_type": "markdown",
   "metadata": {},
   "source": [
    "* **Paso 2:** Crear y entrenar el modelo SVM."
   ]
  },
  {
   "cell_type": "code",
   "execution_count": 6,
   "metadata": {},
   "outputs": [
    {
     "data": {
      "text/html": [
       "<style>#sk-container-id-2 {color: black;background-color: white;}#sk-container-id-2 pre{padding: 0;}#sk-container-id-2 div.sk-toggleable {background-color: white;}#sk-container-id-2 label.sk-toggleable__label {cursor: pointer;display: block;width: 100%;margin-bottom: 0;padding: 0.3em;box-sizing: border-box;text-align: center;}#sk-container-id-2 label.sk-toggleable__label-arrow:before {content: \"▸\";float: left;margin-right: 0.25em;color: #696969;}#sk-container-id-2 label.sk-toggleable__label-arrow:hover:before {color: black;}#sk-container-id-2 div.sk-estimator:hover label.sk-toggleable__label-arrow:before {color: black;}#sk-container-id-2 div.sk-toggleable__content {max-height: 0;max-width: 0;overflow: hidden;text-align: left;background-color: #f0f8ff;}#sk-container-id-2 div.sk-toggleable__content pre {margin: 0.2em;color: black;border-radius: 0.25em;background-color: #f0f8ff;}#sk-container-id-2 input.sk-toggleable__control:checked~div.sk-toggleable__content {max-height: 200px;max-width: 100%;overflow: auto;}#sk-container-id-2 input.sk-toggleable__control:checked~label.sk-toggleable__label-arrow:before {content: \"▾\";}#sk-container-id-2 div.sk-estimator input.sk-toggleable__control:checked~label.sk-toggleable__label {background-color: #d4ebff;}#sk-container-id-2 div.sk-label input.sk-toggleable__control:checked~label.sk-toggleable__label {background-color: #d4ebff;}#sk-container-id-2 input.sk-hidden--visually {border: 0;clip: rect(1px 1px 1px 1px);clip: rect(1px, 1px, 1px, 1px);height: 1px;margin: -1px;overflow: hidden;padding: 0;position: absolute;width: 1px;}#sk-container-id-2 div.sk-estimator {font-family: monospace;background-color: #f0f8ff;border: 1px dotted black;border-radius: 0.25em;box-sizing: border-box;margin-bottom: 0.5em;}#sk-container-id-2 div.sk-estimator:hover {background-color: #d4ebff;}#sk-container-id-2 div.sk-parallel-item::after {content: \"\";width: 100%;border-bottom: 1px solid gray;flex-grow: 1;}#sk-container-id-2 div.sk-label:hover label.sk-toggleable__label {background-color: #d4ebff;}#sk-container-id-2 div.sk-serial::before {content: \"\";position: absolute;border-left: 1px solid gray;box-sizing: border-box;top: 0;bottom: 0;left: 50%;z-index: 0;}#sk-container-id-2 div.sk-serial {display: flex;flex-direction: column;align-items: center;background-color: white;padding-right: 0.2em;padding-left: 0.2em;position: relative;}#sk-container-id-2 div.sk-item {position: relative;z-index: 1;}#sk-container-id-2 div.sk-parallel {display: flex;align-items: stretch;justify-content: center;background-color: white;position: relative;}#sk-container-id-2 div.sk-item::before, #sk-container-id-2 div.sk-parallel-item::before {content: \"\";position: absolute;border-left: 1px solid gray;box-sizing: border-box;top: 0;bottom: 0;left: 50%;z-index: -1;}#sk-container-id-2 div.sk-parallel-item {display: flex;flex-direction: column;z-index: 1;position: relative;background-color: white;}#sk-container-id-2 div.sk-parallel-item:first-child::after {align-self: flex-end;width: 50%;}#sk-container-id-2 div.sk-parallel-item:last-child::after {align-self: flex-start;width: 50%;}#sk-container-id-2 div.sk-parallel-item:only-child::after {width: 0;}#sk-container-id-2 div.sk-dashed-wrapped {border: 1px dashed gray;margin: 0 0.4em 0.5em 0.4em;box-sizing: border-box;padding-bottom: 0.4em;background-color: white;}#sk-container-id-2 div.sk-label label {font-family: monospace;font-weight: bold;display: inline-block;line-height: 1.2em;}#sk-container-id-2 div.sk-label-container {text-align: center;}#sk-container-id-2 div.sk-container {/* jupyter's `normalize.less` sets `[hidden] { display: none; }` but bootstrap.min.css set `[hidden] { display: none !important; }` so we also need the `!important` here to be able to override the default hidden behavior on the sphinx rendered scikit-learn.org. See: https://github.com/scikit-learn/scikit-learn/issues/21755 */display: inline-block !important;position: relative;}#sk-container-id-2 div.sk-text-repr-fallback {display: none;}</style><div id=\"sk-container-id-2\" class=\"sk-top-container\"><div class=\"sk-text-repr-fallback\"><pre>SVC(kernel=&#x27;linear&#x27;)</pre><b>In a Jupyter environment, please rerun this cell to show the HTML representation or trust the notebook. <br />On GitHub, the HTML representation is unable to render, please try loading this page with nbviewer.org.</b></div><div class=\"sk-container\" hidden><div class=\"sk-item\"><div class=\"sk-estimator sk-toggleable\"><input class=\"sk-toggleable__control sk-hidden--visually\" id=\"sk-estimator-id-2\" type=\"checkbox\" checked><label for=\"sk-estimator-id-2\" class=\"sk-toggleable__label sk-toggleable__label-arrow\">SVC</label><div class=\"sk-toggleable__content\"><pre>SVC(kernel=&#x27;linear&#x27;)</pre></div></div></div></div></div>"
      ],
      "text/plain": [
       "SVC(kernel='linear')"
      ]
     },
     "execution_count": 6,
     "metadata": {},
     "output_type": "execute_result"
    }
   ],
   "source": [
    "# Crear el clasificador SVM\n",
    "svm = SVC(kernel='linear')\n",
    "\n",
    "# Entrenar el modelo\n",
    "svm.fit(X_train, y_train)"
   ]
  },
  {
   "attachments": {},
   "cell_type": "markdown",
   "metadata": {},
   "source": [
    "* **Paso 3:** Realizar predicciones y evaluar el rendimiento del modelo."
   ]
  },
  {
   "cell_type": "code",
   "execution_count": 7,
   "metadata": {},
   "outputs": [
    {
     "name": "stdout",
     "output_type": "stream",
     "text": [
      "Precisión del modelo: 1.0\n"
     ]
    }
   ],
   "source": [
    "# Realizar predicciones en el conjunto de prueba\n",
    "y_pred = svm.predict(X_test)\n",
    "\n",
    "# Calcular la precisión del modelo\n",
    "accuracy = accuracy_score(y_test, y_pred)\n",
    "print(\"Precisión del modelo:\", accuracy)"
   ]
  },
  {
   "attachments": {},
   "cell_type": "markdown",
   "metadata": {},
   "source": [
    "* **Paso 4:** Visualizar los datos y el hiperplano de separación."
   ]
  },
  {
   "cell_type": "code",
   "execution_count": 8,
   "metadata": {},
   "outputs": [
    {
     "data": {
      "image/png": "[encoded data removed]",
      "text/plain": [
       "<Figure size 432x288 with 1 Axes>"
      ]
     },
     "metadata": {
      "needs_background": "light"
     },
     "output_type": "display_data"
    }
   ],
   "source": [
    "# Obtener los vectores de soporte\n",
    "support_vectors = svm.support_vectors_\n",
    "\n",
    "# Graficar los datos y los vectores de soporte\n",
    "plt.scatter(X[:, 0], X[:, 1], c=y, cmap=plt.cm.RdYlBu, edgecolors='k')\n",
    "plt.scatter(support_vectors[:, 0], support_vectors[:, 1], facecolors='none', edgecolors='k', s=100)\n",
    "plt.xlabel('Feature 1')\n",
    "plt.ylabel('Feature 2')\n",
    "plt.title('Clasificación con SVM')\n",
    "plt.show()"
   ]
  },
  {
   "attachments": {},
   "cell_type": "markdown",
   "metadata": {},
   "source": [
    "En el ejemplo anterior, se importan las bibliotecas necesarias y se generan datos de ejemplo utilizando la función `make_classification` de scikit-learn. Luego, se dividen los datos en conjuntos de entrenamiento y prueba utilizando `train_test_split`.\n",
    "\n",
    "Se crea un objeto de clasificador SVM con SVC y se entrena el modelo utilizando el conjunto de entrenamiento. Es importante seleccionar el kernel adecuado según las características de los datos. En este ejemplo, se utiliza el kernel lineal.\n",
    "\n",
    "Después de entrenar el modelo, se realizan predicciones en el conjunto de prueba y se calcula la precisión del modelo utilizando `accuracy_score`.\n",
    "\n",
    "Finalmente, se visualizan los datos de entrenamiento y se muestran los vectores de soporte, que son los puntos de datos más cercanos al hiperplano de separación.\n",
    "\n",
    "Este es un ejemplo básico de clasificación con SVM en Python. El algoritmo SVM es poderoso y puede ser utilizado para problemas de clasificación binaria y multiclase, y se puede ajustar mediante la selección del kernel y la configuración de los parámetros apropiados."
   ]
  },
  {
   "attachments": {},
   "cell_type": "markdown",
   "metadata": {},
   "source": [
    "![Clasificación con Vectores de Soporte](../img/Clasificaci%C3%B3n%20con%20Vectores%20de%20Soporte.png \"Clasificación con Vectores de Soporte\")"
   ]
  },
  {
   "attachments": {},
   "cell_type": "markdown",
   "metadata": {},
   "source": [
    "## **Clasificación con Árboles de Decisión**"
   ]
  },
  {
   "attachments": {},
   "cell_type": "markdown",
   "metadata": {},
   "source": [
    "La clasificación con árboles de decisión es un algoritmo de aprendizaje supervisado utilizado para la clasificación de datos. Se basa en la construcción de un árbol que toma decisiones basadas en características específicas de los datos. Cada nodo interno del árbol representa una característica, cada rama representa una regla de decisión y cada hoja representa una clase o etiqueta.\n",
    "\n",
    "A continuación, se presenta una explicación detallada del algoritmo de clasificación con árboles de decisión junto con un ejemplo en código Python y gráficas.\n",
    "\n",
    "* **Paso 1:** Importar las bibliotecas necesarias y generar los datos de ejemplo."
   ]
  },
  {
   "cell_type": "code",
   "execution_count": 9,
   "metadata": {},
   "outputs": [],
   "source": [
    "import numpy as np\n",
    "import matplotlib.pyplot as plt\n",
    "from sklearn.datasets import make_classification\n",
    "from sklearn.model_selection import train_test_split\n",
    "from sklearn.tree import DecisionTreeClassifier\n",
    "from sklearn.metrics import accuracy_score\n",
    "\n",
    "# Generar datos de ejemplo\n",
    "X, y = make_classification(n_samples=100, n_features=2, n_informative=2, n_redundant=0, n_classes=2, random_state=1)\n",
    "\n",
    "# Dividir los datos en conjuntos de entrenamiento y prueba\n",
    "X_train, X_test, y_train, y_test = train_test_split(X, y, test_size=0.2, random_state=1)"
   ]
  },
  {
   "attachments": {},
   "cell_type": "markdown",
   "metadata": {},
   "source": [
    "* **Paso 2:** Crear y entrenar el modelo de árbol de decisión."
   ]
  },
  {
   "cell_type": "code",
   "execution_count": 10,
   "metadata": {},
   "outputs": [
    {
     "data": {
      "text/html": [
       "<style>#sk-container-id-3 {color: black;background-color: white;}#sk-container-id-3 pre{padding: 0;}#sk-container-id-3 div.sk-toggleable {background-color: white;}#sk-container-id-3 label.sk-toggleable__label {cursor: pointer;display: block;width: 100%;margin-bottom: 0;padding: 0.3em;box-sizing: border-box;text-align: center;}#sk-container-id-3 label.sk-toggleable__label-arrow:before {content: \"▸\";float: left;margin-right: 0.25em;color: #696969;}#sk-container-id-3 label.sk-toggleable__label-arrow:hover:before {color: black;}#sk-container-id-3 div.sk-estimator:hover label.sk-toggleable__label-arrow:before {color: black;}#sk-container-id-3 div.sk-toggleable__content {max-height: 0;max-width: 0;overflow: hidden;text-align: left;background-color: #f0f8ff;}#sk-container-id-3 div.sk-toggleable__content pre {margin: 0.2em;color: black;border-radius: 0.25em;background-color: #f0f8ff;}#sk-container-id-3 input.sk-toggleable__control:checked~div.sk-toggleable__content {max-height: 200px;max-width: 100%;overflow: auto;}#sk-container-id-3 input.sk-toggleable__control:checked~label.sk-toggleable__label-arrow:before {content: \"▾\";}#sk-container-id-3 div.sk-estimator input.sk-toggleable__control:checked~label.sk-toggleable__label {background-color: #d4ebff;}#sk-container-id-3 div.sk-label input.sk-toggleable__control:checked~label.sk-toggleable__label {background-color: #d4ebff;}#sk-container-id-3 input.sk-hidden--visually {border: 0;clip: rect(1px 1px 1px 1px);clip: rect(1px, 1px, 1px, 1px);height: 1px;margin: -1px;overflow: hidden;padding: 0;position: absolute;width: 1px;}#sk-container-id-3 div.sk-estimator {font-family: monospace;background-color: #f0f8ff;border: 1px dotted black;border-radius: 0.25em;box-sizing: border-box;margin-bottom: 0.5em;}#sk-container-id-3 div.sk-estimator:hover {background-color: #d4ebff;}#sk-container-id-3 div.sk-parallel-item::after {content: \"\";width: 100%;border-bottom: 1px solid gray;flex-grow: 1;}#sk-container-id-3 div.sk-label:hover label.sk-toggleable__label {background-color: #d4ebff;}#sk-container-id-3 div.sk-serial::before {content: \"\";position: absolute;border-left: 1px solid gray;box-sizing: border-box;top: 0;bottom: 0;left: 50%;z-index: 0;}#sk-container-id-3 div.sk-serial {display: flex;flex-direction: column;align-items: center;background-color: white;padding-right: 0.2em;padding-left: 0.2em;position: relative;}#sk-container-id-3 div.sk-item {position: relative;z-index: 1;}#sk-container-id-3 div.sk-parallel {display: flex;align-items: stretch;justify-content: center;background-color: white;position: relative;}#sk-container-id-3 div.sk-item::before, #sk-container-id-3 div.sk-parallel-item::before {content: \"\";position: absolute;border-left: 1px solid gray;box-sizing: border-box;top: 0;bottom: 0;left: 50%;z-index: -1;}#sk-container-id-3 div.sk-parallel-item {display: flex;flex-direction: column;z-index: 1;position: relative;background-color: white;}#sk-container-id-3 div.sk-parallel-item:first-child::after {align-self: flex-end;width: 50%;}#sk-container-id-3 div.sk-parallel-item:last-child::after {align-self: flex-start;width: 50%;}#sk-container-id-3 div.sk-parallel-item:only-child::after {width: 0;}#sk-container-id-3 div.sk-dashed-wrapped {border: 1px dashed gray;margin: 0 0.4em 0.5em 0.4em;box-sizing: border-box;padding-bottom: 0.4em;background-color: white;}#sk-container-id-3 div.sk-label label {font-family: monospace;font-weight: bold;display: inline-block;line-height: 1.2em;}#sk-container-id-3 div.sk-label-container {text-align: center;}#sk-container-id-3 div.sk-container {/* jupyter's `normalize.less` sets `[hidden] { display: none; }` but bootstrap.min.css set `[hidden] { display: none !important; }` so we also need the `!important` here to be able to override the default hidden behavior on the sphinx rendered scikit-learn.org. See: https://github.com/scikit-learn/scikit-learn/issues/21755 */display: inline-block !important;position: relative;}#sk-container-id-3 div.sk-text-repr-fallback {display: none;}</style><div id=\"sk-container-id-3\" class=\"sk-top-container\"><div class=\"sk-text-repr-fallback\"><pre>DecisionTreeClassifier()</pre><b>In a Jupyter environment, please rerun this cell to show the HTML representation or trust the notebook. <br />On GitHub, the HTML representation is unable to render, please try loading this page with nbviewer.org.</b></div><div class=\"sk-container\" hidden><div class=\"sk-item\"><div class=\"sk-estimator sk-toggleable\"><input class=\"sk-toggleable__control sk-hidden--visually\" id=\"sk-estimator-id-3\" type=\"checkbox\" checked><label for=\"sk-estimator-id-3\" class=\"sk-toggleable__label sk-toggleable__label-arrow\">DecisionTreeClassifier</label><div class=\"sk-toggleable__content\"><pre>DecisionTreeClassifier()</pre></div></div></div></div></div>"
      ],
      "text/plain": [
       "DecisionTreeClassifier()"
      ]
     },
     "execution_count": 10,
     "metadata": {},
     "output_type": "execute_result"
    }
   ],
   "source": [
    "# Crear el clasificador de árbol de decisión\n",
    "tree = DecisionTreeClassifier()\n",
    "\n",
    "# Entrenar el modelo\n",
    "tree.fit(X_train, y_train)"
   ]
  },
  {
   "attachments": {},
   "cell_type": "markdown",
   "metadata": {},
   "source": [
    "* **Paso 3:** Realizar predicciones y evaluar el rendimiento del modelo."
   ]
  },
  {
   "cell_type": "code",
   "execution_count": 11,
   "metadata": {},
   "outputs": [
    {
     "name": "stdout",
     "output_type": "stream",
     "text": [
      "Precisión del modelo: 0.95\n"
     ]
    }
   ],
   "source": [
    "# Realizar predicciones en el conjunto de prueba\n",
    "y_pred = tree.predict(X_test)\n",
    "\n",
    "# Calcular la precisión del modelo\n",
    "accuracy = accuracy_score(y_test, y_pred)\n",
    "print(\"Precisión del modelo:\", accuracy)"
   ]
  },
  {
   "attachments": {},
   "cell_type": "markdown",
   "metadata": {},
   "source": [
    "* **Paso 4:** Visualizar el árbol de decisión."
   ]
  },
  {
   "cell_type": "code",
   "execution_count": 12,
   "metadata": {},
   "outputs": [
    {
     "data": {
      "image/png": "[encoded data removed]",
      "text/plain": [
       "<Figure size 720x432 with 1 Axes>"
      ]
     },
     "metadata": {
      "needs_background": "light"
     },
     "output_type": "display_data"
    }
   ],
   "source": [
    "# Importar la biblioteca para visualizar árboles de decisión\n",
    "from sklearn.tree import plot_tree\n",
    "\n",
    "# Visualizar el árbol de decisión\n",
    "plt.figure(figsize=(10, 6))\n",
    "plot_tree(tree, feature_names=['Feature 1', 'Feature 2'], class_names=['Class 0', 'Class 1'], filled=True)\n",
    "plt.title('Clasificación con Árbol de Decisión')\n",
    "plt.show()"
   ]
  },
  {
   "attachments": {},
   "cell_type": "markdown",
   "metadata": {},
   "source": [
    "En el ejemplo anterior, se importan las bibliotecas necesarias y se generan datos de ejemplo utilizando la función `make_classification` de scikit-learn. Luego, se dividen los datos en conjuntos de entrenamiento y prueba utilizando `train_test_split`.\n",
    "\n",
    "Se crea un objeto de clasificador de árbol de decisión con `DecisionTreeClassifier` y se entrena el modelo utilizando el conjunto de entrenamiento.\n",
    "\n",
    "Después de entrenar el modelo, se realizan predicciones en el conjunto de prueba y se calcula la precisión del modelo utilizando `accuracy_score`.\n",
    "\n",
    "Finalmente, se visualiza el árbol de decisión utilizando la función `plot_tree` de scikit-learn, que muestra las características utilizadas en las divisiones y las etiquetas de clase en cada nodo.\n",
    "\n",
    "Este es un ejemplo básico de clasificación con árboles de decisión en Python. Los árboles de decisión son algoritmos intuitivos y pueden manejar tanto características numéricas como categóricas. Además, permiten interpretar el modelo y comprender las reglas de decisión utilizadas para la clasificación."
   ]
  },
  {
   "attachments": {},
   "cell_type": "markdown",
   "metadata": {},
   "source": [
    "## **Función GINI y Entropía**"
   ]
  },
  {
   "attachments": {},
   "cell_type": "markdown",
   "metadata": {},
   "source": [
    "La función Gini y la entropía son dos medidas utilizadas en algoritmos de aprendizaje automático para evaluar la impureza de un conjunto de datos en el contexto de los árboles de decisión. Ambas medidas se utilizan para tomar decisiones sobre cómo dividir los datos en los nodos del árbol con el objetivo de maximizar la pureza y la calidad de la clasificación. A continuación, se explica cada una de estas medidas en detalle junto con ejemplos en código Python y gráficas.\n",
    "\n",
    "* **Función Gini:**\n",
    "\n",
    "La función Gini mide la impureza de un conjunto de datos dividiéndolo en clases. Se calcula la probabilidad de que un elemento seleccionado aleatoriamente del conjunto de datos esté etiquetado incorrectamente si se etiqueta aleatoriamente según la distribución de etiquetas en el subconjunto. La fórmula de la función Gini es la siguiente:\n",
    "\n",
    "$Gini = 1 - Σ (p_i)^2$\n",
    "\n",
    "**Donde:**\n",
    "\n",
    "* $p_i$ es la proporción de la clase $i$ en el subconjunto.\n",
    "\n",
    "* **Entropía:**\n",
    "\n",
    "La entropía mide la impureza o incertidumbre de un conjunto de datos. Se calcula la suma de la probabilidad de cada clase multiplicada por el logaritmo de esa probabilidad. Cuanto mayor sea la entropía, mayor será la impureza y la incertidumbre en el conjunto de datos. La fórmula de la entropía es la siguiente:\n",
    "\n",
    "$Entropía = - Σ (p_i * log2(p_i))$\n",
    "\n",
    "**Donde:**\n",
    "\n",
    "* $p_i$ es la proporción de la clase $i$ en el subconjunto.\n",
    "\n",
    "A continuación, se presenta un ejemplo en código Python que muestra cómo calcular la función Gini y la entropía utilizando la biblioteca scikit-learn."
   ]
  },
  {
   "cell_type": "code",
   "execution_count": 13,
   "metadata": {},
   "outputs": [
    {
     "name": "stdout",
     "output_type": "stream",
     "text": [
      "Precisión del modelo: 1.0\n",
      "Función Gini: 0.6666666666666667\n",
      "Entropía: 1.584962500721156\n"
     ]
    }
   ],
   "source": [
    "import numpy as np\n",
    "from sklearn.metrics import accuracy_score\n",
    "from sklearn.datasets import load_iris\n",
    "from sklearn.tree import DecisionTreeClassifier\n",
    "\n",
    "# Cargar el conjunto de datos Iris\n",
    "iris = load_iris()\n",
    "X = iris.data\n",
    "y = iris.target\n",
    "\n",
    "# Crear el clasificador de árbol de decisión\n",
    "clf = DecisionTreeClassifier()\n",
    "\n",
    "# Entrenar el modelo\n",
    "clf.fit(X, y)\n",
    "\n",
    "# Realizar predicciones\n",
    "y_pred = clf.predict(X)\n",
    "\n",
    "# Calcular la precisión del modelo\n",
    "accuracy = accuracy_score(y, y_pred)\n",
    "print(\"Precisión del modelo:\", accuracy)\n",
    "\n",
    "# Calcular la función Gini\n",
    "gini = 1 - np.sum((np.bincount(y) / len(y))**2)\n",
    "print(\"Función Gini:\", gini)\n",
    "\n",
    "# Calcular la entropía\n",
    "probs = np.bincount(y) / len(y)\n",
    "entropy = -np.sum(probs * np.log2(probs))\n",
    "print(\"Entropía:\", entropy)"
   ]
  },
  {
   "attachments": {},
   "cell_type": "markdown",
   "metadata": {},
   "source": [
    "En el ejemplo anterior, se utiliza el conjunto de datos `Iris` de scikit-learn. Se crea un clasificador de árbol de decisión y se entrena utilizando las características `X` y las etiquetas `y` del conjunto de datos.\n",
    "\n",
    "Se realizan predicciones utilizando el conjunto de datos de entrenamiento y se calcula la precisión del modelo utilizando `accuracy_score`.\n",
    "\n",
    "Luego, se calcula la función Gini utilizando la fórmula mencionada y se muestra el resultado. Además, se calcula la entropía utilizando la fórmula mencionada y se muestra el resultado.\n",
    "\n",
    "Es importante tener en cuenta que estos cálculos se realizan en el contexto de los árboles de decisión para evaluar la calidad de las divisiones de nodos y la pureza de los subconjuntos resultantes."
   ]
  },
  {
   "attachments": {},
   "cell_type": "markdown",
   "metadata": {},
   "source": [
    "## **Clasificación con Random Forest**"
   ]
  },
  {
   "attachments": {},
   "cell_type": "markdown",
   "metadata": {},
   "source": [
    "La clasificación con Random Forest es un algoritmo de aprendizaje automático que combina múltiples árboles de decisión para realizar predicciones más precisas. Random Forest es una técnica de ensamblaje que utiliza el concepto de \"`bagging`\" (ensacado) para crear una colección de árboles de decisión y combinar sus resultados.\n",
    "\n",
    "A continuación, se proporciona una explicación detallada del algoritmo Random Forest junto con un ejemplo de código Python y gráficas.\n",
    "\n",
    "* **Algoritmo Random Forest:**\n",
    "\n",
    "El algoritmo Random Forest se basa en el concepto de ensacado (`bagging`) y utiliza una combinación de múltiples árboles de decisión para realizar la clasificación. El proceso general del algoritmo es el siguiente:\n",
    "\n",
    "a. Seleccionar aleatoriamente una muestra del conjunto de datos de entrenamiento.\n",
    "\n",
    "b. Construir un árbol de decisión utilizando la muestra seleccionada en el paso anterior.\n",
    "\n",
    "c. Repetir los pasos `a` y `b` varias veces para construir múltiples árboles de decisión.\n",
    "\n",
    "d. Realizar la clasificación combinando las predicciones de todos los árboles (por mayoría de votos en clasificación) para obtener el resultado final.\n",
    "\n",
    "La idea principal detrás de Random Forest es que cada árbol en el conjunto tiene una ligera variación en la forma en que se construye, lo que lleva a una diversidad en las predicciones. Esta diversidad ayuda a reducir el sobreajuste y mejora la precisión general del modelo.\n",
    "\n",
    "**Ejemplo:**\n",
    "\n",
    "A continuación se muestra un ejemplo de código Python que utiliza la biblioteca scikit-learn para entrenar y utilizar un clasificador Random Forest en un conjunto de datos de clasificación."
   ]
  },
  {
   "cell_type": "code",
   "execution_count": 14,
   "metadata": {},
   "outputs": [
    {
     "name": "stdout",
     "output_type": "stream",
     "text": [
      "Precisión del modelo: 1.0\n"
     ]
    },
    {
     "data": {
      "image/png": "[encoded data removed]",
      "text/plain": [
       "<Figure size 576x432 with 2 Axes>"
      ]
     },
     "metadata": {
      "needs_background": "light"
     },
     "output_type": "display_data"
    }
   ],
   "source": [
    "from sklearn.ensemble import RandomForestClassifier\n",
    "from sklearn.datasets import load_iris\n",
    "from sklearn.model_selection import train_test_split\n",
    "from sklearn.metrics import accuracy_score, confusion_matrix\n",
    "import seaborn as sns\n",
    "import matplotlib.pyplot as plt\n",
    "\n",
    "# Cargar el conjunto de datos Iris\n",
    "iris = load_iris()\n",
    "X = iris.data\n",
    "y = iris.target\n",
    "\n",
    "# Dividir el conjunto de datos en entrenamiento y prueba\n",
    "X_train, X_test, y_train, y_test = train_test_split(X, y, test_size=0.2, random_state=42)\n",
    "\n",
    "# Crear el clasificador Random Forest\n",
    "rf = RandomForestClassifier(n_estimators=100, random_state=42)\n",
    "\n",
    "# Entrenar el modelo\n",
    "rf.fit(X_train, y_train)\n",
    "\n",
    "# Realizar predicciones en el conjunto de prueba\n",
    "y_pred = rf.predict(X_test)\n",
    "\n",
    "# Calcular la precisión del modelo\n",
    "accuracy = accuracy_score(y_test, y_pred)\n",
    "print(\"Precisión del modelo:\", accuracy)\n",
    "\n",
    "# Crear una matriz de confusión\n",
    "cm = confusion_matrix(y_test, y_pred)\n",
    "\n",
    "# Visualizar la matriz de confusión\n",
    "plt.figure(figsize=(8, 6))\n",
    "sns.heatmap(cm, annot=True, cmap=\"Blues\")\n",
    "plt.xlabel('Predicted')\n",
    "plt.ylabel('Actual')\n",
    "plt.title('Matriz de confusión')\n",
    "plt.show()"
   ]
  },
  {
   "attachments": {},
   "cell_type": "markdown",
   "metadata": {},
   "source": [
    "En el ejemplo anterior, se utiliza el conjunto de datos `Iris` de scikit-learn. El conjunto de datos se divide en conjuntos de entrenamiento y prueba utilizando `train_test_split`.\n",
    "\n",
    "Se crea un clasificador Random Forest utilizando `RandomForestClassifier` de scikit-learn y se especifica el número de árboles mediante el parámetro `n_estimators`.\n",
    "\n",
    "El modelo se entrena utilizando el conjunto de entrenamiento utilizando el método `fit`. Luego, se realizan predicciones en el conjunto de prueba utilizando el método `predict`.\n",
    "\n",
    "Se calcula la precisión del modelo utilizando la función `accuracy_score` y se crea una matriz de confusión utilizando `confusion_matrix`. Finalmente, se visualiza la matriz de confusión utilizando heatmap de la biblioteca seaborn.\n",
    "\n",
    "**Interpretación de las gráficas:**\n",
    "\n",
    "La matriz de confusión es una representación visual de los resultados del modelo de clasificación. En el eje `x` se muestran las clases predichas por el modelo, mientras que en el eje `y` se muestran las clases reales. Los valores en las celdas de la matriz indican la cantidad de muestras clasificadas correctamente o incorrectamente.\n",
    "\n",
    "La visualización de la matriz de confusión ayuda a evaluar la calidad del modelo de clasificación. Un modelo con una alta precisión tendrá una matriz de confusión con valores altos en la diagonal principal y valores bajos fuera de la diagonal.\n",
    "\n",
    "Espero que esta explicación y el ejemplo de código te ayuden a comprender mejor el algoritmo Random Forest en la clasificación."
   ]
  },
  {
   "attachments": {},
   "cell_type": "markdown",
   "metadata": {},
   "source": [
    "![Clasificación con Random Forest](../img/Clasificaci%C3%B3n%20con%20Random%20Forest.png \"Clasificación con Random Forest\")"
   ]
  },
  {
   "attachments": {},
   "cell_type": "markdown",
   "metadata": {},
   "source": [
    "## **Clasificación con XGBOOST**"
   ]
  },
  {
   "attachments": {},
   "cell_type": "markdown",
   "metadata": {},
   "source": [
    "La clasificación con XGBoost (Extreme Gradient Boosting) es un algoritmo de aprendizaje automático que se basa en el método de impulso de gradientes para realizar predicciones precisas en problemas de clasificación. XGBoost es conocido por su capacidad para manejar conjuntos de datos grandes, su eficiencia computacional y su capacidad para manejar una variedad de tipos de variables.\n",
    "\n",
    "A continuación, se proporciona una explicación detallada del algoritmo XGBoost junto con un ejemplo de código Python y gráficas.\n",
    "\n",
    "* **Algoritmo XGBoost:**\n",
    "\n",
    "XGBoost es un algoritmo de impulso de gradientes que combina múltiples árboles de decisión débiles para formar un modelo fuerte. El proceso general del algoritmo es el siguiente:\n",
    "\n",
    "a. Inicializar el modelo con un valor constante, generalmente la media de las etiquetas de clasificación.\n",
    "\n",
    "b. Construir un árbol de decisión débil que se ajuste a los residuos (diferencia entre las etiquetas reales y las predicciones actuales del modelo).\n",
    "\n",
    "c. Ajustar el modelo agregando el árbol de decisión débil al modelo existente con un factor de aprendizaje (learning rate) para reducir el impacto de cada árbol.\n",
    "\n",
    "d. Repetir los pasos `b` y `c` hasta que se alcance el número deseado de árboles o hasta que se logre la precisión deseada.\n",
    "\n",
    "e. Realizar la clasificación combinando las predicciones de todos los árboles mediante una función de suma ponderada.\n",
    "\n",
    "La idea principal detrás de XGBoost es corregir los errores del modelo anterior mediante la construcción de árboles adicionales que se centren en los residuos. Esto permite mejorar la precisión del modelo en cada iteración.\n",
    "\n",
    "**Ejemplo:**\n",
    "\n",
    "A continuación se muestra un ejemplo de código Python que utiliza la biblioteca XGBoost para entrenar y utilizar un clasificador XGBoost en un conjunto de datos de clasificación."
   ]
  },
  {
   "cell_type": "code",
   "execution_count": 15,
   "metadata": {},
   "outputs": [
    {
     "name": "stdout",
     "output_type": "stream",
     "text": [
      "Precisión del modelo: 1.0\n"
     ]
    },
    {
     "data": {
      "image/png": "[encoded data removed]",
      "text/plain": [
       "<Figure size 576x432 with 2 Axes>"
      ]
     },
     "metadata": {
      "needs_background": "light"
     },
     "output_type": "display_data"
    }
   ],
   "source": [
    "import xgboost as xgb\n",
    "from sklearn.datasets import load_iris\n",
    "from sklearn.model_selection import train_test_split\n",
    "from sklearn.metrics import accuracy_score, confusion_matrix\n",
    "import seaborn as sns\n",
    "import matplotlib.pyplot as plt\n",
    "\n",
    "# Cargar el conjunto de datos Iris\n",
    "iris = load_iris()\n",
    "X = iris.data\n",
    "y = iris.target\n",
    "\n",
    "# Dividir el conjunto de datos en entrenamiento y prueba\n",
    "X_train, X_test, y_train, y_test = train_test_split(X, y, test_size=0.2, random_state=42)\n",
    "\n",
    "# Crear el clasificador XGBoost\n",
    "xgb_clf = xgb.XGBClassifier()\n",
    "\n",
    "# Entrenar el modelo\n",
    "xgb_clf.fit(X_train, y_train)\n",
    "\n",
    "# Realizar predicciones en el conjunto de prueba\n",
    "y_pred = xgb_clf.predict(X_test)\n",
    "\n",
    "# Calcular la precisión del modelo\n",
    "accuracy = accuracy_score(y_test, y_pred)\n",
    "print(\"Precisión del modelo:\", accuracy)\n",
    "\n",
    "# Crear una matriz de confusión\n",
    "cm = confusion_matrix(y_test, y_pred)\n",
    "\n",
    "# Visualizar la matriz de confusión\n",
    "plt.figure(figsize=(8, 6))\n",
    "sns.heatmap(cm, annot=True, cmap=\"Blues\")\n",
    "plt.xlabel('Predicted')\n",
    "plt.ylabel('Actual')\n",
    "plt.title('Matriz de confusión')\n",
    "plt.show()"
   ]
  },
  {
   "attachments": {},
   "cell_type": "markdown",
   "metadata": {},
   "source": [
    "En el ejemplo anterior, se utiliza el conjunto de datos `Iris` de scikit-learn. El conjunto de datos se divide en un conjunto de entrenamiento y un conjunto de prueba utilizando la función `train_test_split`. Luego, se crea un clasificador XGBoost utilizando `xgb.XGBClassifier` y se entrena el modelo con el conjunto de entrenamiento utilizando el método `fit`. A continuación, se realizan predicciones en el conjunto de prueba utilizando el método `predict`.\n",
    "\n",
    "Se calcula la precisión del modelo utilizando la función `accuracy_score` y se crea una matriz de confusión utilizando `confusion_matrix`. Finalmente, se visualiza la matriz de confusión utilizando `heatmap` de la biblioteca seaborn.\n",
    "\n",
    "* **Interpretación de las gráficas:**\n",
    "\n",
    "La matriz de confusión es una representación visual de los resultados del modelo de clasificación. En el eje `x` se muestran las clases predichas por el modelo, mientras que en el eje `y` se muestran las clases reales. Los valores en las celdas de la matriz indican la cantidad de muestras clasificadas correctamente o incorrectamente.\n",
    "\n",
    "La visualización de la matriz de confusión ayuda a evaluar la calidad del modelo de clasificación. Un modelo con una alta precisión tendrá una matriz de confusión con valores altos en la diagonal principal y valores bajos fuera de la diagonal.\n",
    "\n",
    "Espero que esta explicación y el ejemplo de código te ayuden a comprender mejor el algoritmo XGBoost en la clasificación."
   ]
  },
  {
   "attachments": {},
   "cell_type": "markdown",
   "metadata": {},
   "source": [
    "![Clasificación](../img/Clasificaci%C3%B3n.png \"Clasificación\")"
   ]
  },
  {
   "attachments": {},
   "cell_type": "markdown",
   "metadata": {},
   "source": [
    "| **Inicio** | **atrás 1** | **Siguiente 3** |\n",
    "|----------- |-------------- |---------------|\n",
    "| [🏠](../../../README.md) | [⏪](./1.ALGORITMOS_DE_REGRESION.ipynb)| [⏩](./3.ALGORITMOS_DE_CLUSTERING.ipynb)|"
   ]
  }
 ],
 "metadata": {
  "kernelspec": {
   "display_name": "base",
   "language": "python",
   "name": "python3"
  },
  "language_info": {
   "codemirror_mode": {
    "name": "ipython",
    "version": 3
   },
   "file_extension": ".py",
   "mimetype": "text/x-python",
   "name": "python",
   "nbconvert_exporter": "python",
   "pygments_lexer": "ipython3",
   "version": "3.9.12"
  },
  "orig_nbformat": 4
 },
 "nbformat": 4,
 "nbformat_minor": 2
}
