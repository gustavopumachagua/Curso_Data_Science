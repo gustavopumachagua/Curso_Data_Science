{
 "cells": [
  {
   "attachments": {},
   "cell_type": "markdown",
   "metadata": {},
   "source": [
    "| **Inicio** | **atrás 2** | **Siguiente 4** |\n",
    "|----------- |-------------- |---------------|\n",
    "| [🏠](../../../README.md) | [⏪](./2.TRATAMIENTO_DE_OUTLIERS.ipynb)| [⏩](./4.BALANCE_DE_DATOS.ipynb)|"
   ]
  },
  {
   "attachments": {},
   "cell_type": "markdown",
   "metadata": {},
   "source": [
    "# **3. SELECCIÓN DE CARACTERÍSTICAS**"
   ]
  },
  {
   "attachments": {},
   "cell_type": "markdown",
   "metadata": {},
   "source": [
    "## **Codificación de variables categóricas: one-hot vs dummy**"
   ]
  },
  {
   "attachments": {},
   "cell_type": "markdown",
   "metadata": {},
   "source": [
    "La codificación de variables categóricas es un proceso esencial en el análisis de datos cuando se trabaja con variables categóricas en algoritmos de aprendizaje automático. Dos enfoques comunes para codificar variables categóricas son el \"`one-hot encoding`\" (codificación one-hot) y el \"`dummy encoding`\" (codificación dummy). Ambos métodos convierten las variables categóricas en representaciones numéricas adecuadas para su uso en modelos de aprendizaje automático.\n",
    "\n",
    "La codificación one-hot implica crear columnas binarias separadas para cada categoría en una variable categórica. Cada columna binaria indica la presencia o ausencia de una categoría en una observación determinada. Por ejemplo, si tenemos una variable categórica \"`Color`\" con tres categorías: \"`Rojo`\", \"`Verde`\" y \"`Azul`\", el codificado one-hot generaría tres columnas binarias: \"`Color_Rojo`\", \"`Color_Verde`\" y \"`Color_Azul`\". Para cada observación, se establecerá el valor 1 en la columna correspondiente a la categoría presente y 0 en las columnas de las categorías ausentes.\n",
    "\n",
    "Por otro lado, la codificación `dummy` también convierte las variables categóricas en columnas numéricas, pero utiliza una estrategia ligeramente diferente. En lugar de crear una columna binaria para cada categoría, la codificación `dummy` crea una columna menos que la cantidad total de categorías. La categoría omitida se considera el valor de referencia. Por ejemplo, utilizando la misma variable categórica \"`Color`\" con tres categorías, el codificado `dummy` generaría dos columnas: \"`Color_Verde`\" y \"`Color_Azul`\". En estas columnas, se utilizará el valor 1 para indicar la presencia de la categoría correspondiente y 0 para indicar su ausencia. La categoría de referencia (\"`Rojo`\" en este caso) se puede inferir cuando todas las columnas son 0.\n",
    "\n",
    "A continuación, se muestra un ejemplo de cómo realizar la codificación one-hot y dummy en Python utilizando las bibliotecas pandas y scikit-learn:"
   ]
  },
  {
   "cell_type": "code",
   "execution_count": 1,
   "metadata": {},
   "outputs": [
    {
     "name": "stdout",
     "output_type": "stream",
     "text": [
      "Codificación one-hot:\n",
      "   Color_Azul  Color_Rojo  Color_Verde\n",
      "0         0.0         1.0          0.0\n",
      "1         0.0         0.0          1.0\n",
      "2         1.0         0.0          0.0\n",
      "3         0.0         0.0          1.0\n",
      "4         0.0         1.0          0.0\n",
      "\n",
      "Codificación dummy:\n",
      "   Rojo  Verde\n",
      "0     1      0\n",
      "1     0      1\n",
      "2     0      0\n",
      "3     0      1\n",
      "4     1      0\n"
     ]
    },
    {
     "name": "stderr",
     "output_type": "stream",
     "text": [
      "/home/puma/anaconda3/lib/python3.9/site-packages/sklearn/preprocessing/_encoders.py:868: FutureWarning: `sparse` was renamed to `sparse_output` in version 1.2 and will be removed in 1.4. `sparse_output` is ignored unless you leave `sparse` to its default value.\n",
      "  warnings.warn(\n"
     ]
    }
   ],
   "source": [
    "import pandas as pd\n",
    "from sklearn.preprocessing import OneHotEncoder\n",
    "\n",
    "# Crear un DataFrame de ejemplo\n",
    "data = {'Color': ['Rojo', 'Verde', 'Azul', 'Verde', 'Rojo']}\n",
    "df = pd.DataFrame(data)\n",
    "\n",
    "# Codificación one-hot\n",
    "one_hot_encoder = OneHotEncoder(sparse=False)\n",
    "one_hot_encoded = one_hot_encoder.fit_transform(df[['Color']])\n",
    "one_hot_df = pd.DataFrame(one_hot_encoded, columns=one_hot_encoder.get_feature_names_out(['Color']))\n",
    "print(\"Codificación one-hot:\")\n",
    "print(one_hot_df)\n",
    "\n",
    "# Codificación dummy\n",
    "dummy_df = pd.get_dummies(df['Color'], drop_first=True)\n",
    "print(\"\\nCodificación dummy:\")\n",
    "print(dummy_df)"
   ]
  },
  {
   "attachments": {},
   "cell_type": "markdown",
   "metadata": {},
   "source": [
    "En ambos casos, podemos observar cómo se crean las columnas codificadas correspondientes a las categorías de la variable \"`Color`\".\n",
    "\n",
    "Es importante tener en cuenta que la elección entre la codificación `one-hot` y la codificación `dummy` depende del contexto y los requisitos del análisis. Si no se desea asumir un orden o relación ordinal entre las categorías, la codificación one-hot puede ser más apropiada. Por otro lado, si se desea tener una categoría de referencia y se asume un orden o relación ordinal, la codificación dummy puede ser más adecuada. Además, se debe considerar el impacto en la dimensionalidad de los datos, ya que la codificación one-hot puede generar más columnas y aumentar la complejidad del modelo."
   ]
  },
  {
   "attachments": {},
   "cell_type": "markdown",
   "metadata": {},
   "source": [
    "![one-hot](../img/one-hot.png \"one-hot\")"
   ]
  },
  {
   "attachments": {},
   "cell_type": "markdown",
   "metadata": {},
   "source": [
    "![dummy encoding](../img/dummy%20encoding.png \"dummy encoding\")"
   ]
  },
  {
   "attachments": {},
   "cell_type": "markdown",
   "metadata": {},
   "source": [
    "## **Métodos para selección de variables**"
   ]
  },
  {
   "attachments": {},
   "cell_type": "markdown",
   "metadata": {},
   "source": [
    "Los métodos para la selección de variables son técnicas utilizadas en el análisis de datos y el aprendizaje automático para identificar las características más relevantes o informativas en un conjunto de datos. Estas técnicas son útiles para reducir la dimensionalidad de los datos, mejorar la precisión de los modelos y facilitar la interpretación de los resultados. Algunos de los métodos más comunes para la selección de variables son:\n",
    "\n",
    "* **Selección basada en filtros:** Este enfoque evalúa las variables de forma independiente y selecciona aquellas que tienen una relación estadística significativa con la variable objetivo. Se utilizan métodos como la correlación, las pruebas estadísticas (como la prueba t o ANOVA) o medidas de importancia, como la ganancia de información o el coeficiente de correlación de Pearson. A continuación, se muestra un ejemplo de cómo calcular la correlación entre las variables y la variable objetivo en Python:"
   ]
  },
  {
   "cell_type": "code",
   "execution_count": 1,
   "metadata": {},
   "outputs": [
    {
     "data": {
      "text/plain": [
       "<AxesSubplot:>"
      ]
     },
     "execution_count": 1,
     "metadata": {},
     "output_type": "execute_result"
    },
    {
     "data": {
      "image/png": "[encoded data removed]",
      "text/plain": [
       "<Figure size 432x288 with 2 Axes>"
      ]
     },
     "metadata": {
      "needs_background": "light"
     },
     "output_type": "display_data"
    }
   ],
   "source": [
    "import pandas as pd\n",
    "import seaborn as sns\n",
    "\n",
    "# Cargar el conjunto de datos de ejemplo\n",
    "data = sns.load_dataset('iris')\n",
    "\n",
    "# Calcular la matriz de correlación\n",
    "correlation_matrix = data.corr()\n",
    "\n",
    "# Visualizar la matriz de correlación\n",
    "sns.heatmap(correlation_matrix, annot=True, cmap='coolwarm')"
   ]
  },
  {
   "attachments": {},
   "cell_type": "markdown",
   "metadata": {},
   "source": [
    "* **Selección basada en envoltorios:** En este enfoque, se utilizan algoritmos de aprendizaje automático para evaluar diferentes combinaciones de variables y determinar cuál conjunto de variables proporciona el mejor rendimiento del modelo. Esto implica entrenar y evaluar el modelo con diferentes conjuntos de características y seleccionar aquel que tenga el mejor desempeño. Un ejemplo común de selección basada en envoltorios es el algoritmo de eliminación recursiva de características (Recursive Feature Elimination, RFE). A continuación, se muestra un ejemplo de cómo aplicar RFE utilizando la biblioteca scikit-learn en Python:"
   ]
  },
  {
   "cell_type": "code",
   "execution_count": 5,
   "metadata": {},
   "outputs": [
    {
     "name": "stdout",
     "output_type": "stream",
     "text": [
      "Variables seleccionadas:\n",
      "Index(['sepal_width', 'petal_length', 'petal_width'], dtype='object')\n"
     ]
    }
   ],
   "source": [
    "from sklearn.feature_selection import RFE\n",
    "from sklearn.linear_model import LogisticRegression\n",
    "from sklearn.preprocessing import StandardScaler\n",
    "\n",
    "# Crear el clasificador\n",
    "model = LogisticRegression(max_iter=1000)\n",
    "\n",
    "# Crear el objeto RFE\n",
    "rfe = RFE(estimator=model, n_features_to_select=3)\n",
    "\n",
    "# Ajustar el modelo RFE a los datos\n",
    "X = data.drop('species', axis=1)\n",
    "y = data['species']\n",
    "rfe.fit(X, y)\n",
    "\n",
    "# Obtener las variables seleccionadas\n",
    "selected_features = X.columns[rfe.support_]\n",
    "print(\"Variables seleccionadas:\")\n",
    "print(selected_features)"
   ]
  },
  {
   "attachments": {},
   "cell_type": "markdown",
   "metadata": {},
   "source": [
    "* **Selección basada en incrustaciones (embeddings):** Este enfoque implica entrenar un modelo de aprendizaje automático y utilizar las características aprendidas o los pesos asignados a las características como una medida de importancia. Algunos ejemplos de métodos basados en incrustaciones son los modelos de regresión con regularización L1 (como la regresión LASSO) y los árboles de decisión (que proporcionan una medida de importancia de las características). A continuación, se muestra un ejemplo de cómo utilizar la regresión LASSO para seleccionar variables en Python:"
   ]
  },
  {
   "cell_type": "code",
   "execution_count": 6,
   "metadata": {},
   "outputs": [
    {
     "name": "stdout",
     "output_type": "stream",
     "text": [
      "Variables seleccionadas:\n",
      "Index(['petal_length'], dtype='object')\n"
     ]
    }
   ],
   "source": [
    "from sklearn.linear_model import Lasso\n",
    "\n",
    "# Codificación one-hot\n",
    "encoded_data = pd.get_dummies(data, columns=['species'])\n",
    "\n",
    "# Crear el clasificador LASSO\n",
    "lasso = Lasso(alpha=0.1)\n",
    "\n",
    "# Ajustar el modelo LASSO a los datos\n",
    "X = encoded_data.drop('species_setosa', axis=1)  # Eliminamos una columna para evitar la multicolinealidad\n",
    "y = encoded_data['species_setosa']\n",
    "lasso.fit(X, y)\n",
    "\n",
    "# Obtener las variables seleccionadas\n",
    "selected_features = X.columns[lasso.coef_ != 0]\n",
    "print(\"Variables seleccionadas:\")\n",
    "print(selected_features)"
   ]
  },
  {
   "attachments": {},
   "cell_type": "markdown",
   "metadata": {},
   "source": [
    "Estos son solo algunos ejemplos de métodos para la selección de variables. Es importante tener en cuenta que la elección del método dependerá del problema específico y del contexto de análisis de datos. Además, es recomendable evaluar y comparar diferentes métodos para determinar cuál es el más adecuado para el conjunto de datos y los objetivos del análisis."
   ]
  },
  {
   "attachments": {},
   "cell_type": "markdown",
   "metadata": {},
   "source": [
    "## **Varianza**"
   ]
  },
  {
   "attachments": {},
   "cell_type": "markdown",
   "metadata": {},
   "source": [
    "La varianza es una medida estadística que indica la dispersión de los valores de una variable. En el contexto de la selección de características, la varianza se utiliza como criterio para evaluar la importancia de una característica en relación con la variable objetivo.\n",
    "\n",
    "Cuando trabajamos con conjuntos de datos, es común encontrarnos con características que tienen una varianza muy baja, lo que significa que sus valores apenas varían entre las instancias del conjunto de datos. Estas características con baja varianza pueden no contener información relevante para la tarea de modelado y predicción, y pueden ser eliminadas para simplificar el modelo y mejorar su rendimiento.\n",
    "\n",
    "A continuación, te mostraré un ejemplo de cómo calcular la varianza de las características y cómo utilizarla en la selección de características utilizando el conjunto de datos de flores `iris` (`iris dataset`) de la biblioteca scikit-learn en Python:"
   ]
  },
  {
   "cell_type": "code",
   "execution_count": 7,
   "metadata": {},
   "outputs": [
    {
     "name": "stdout",
     "output_type": "stream",
     "text": [
      "Características seleccionadas:\n",
      "['sepal length (cm)', 'petal length (cm)', 'petal width (cm)']\n"
     ]
    }
   ],
   "source": [
    "from sklearn.datasets import load_iris\n",
    "from sklearn.feature_selection import VarianceThreshold\n",
    "\n",
    "# Cargar el conjunto de datos\n",
    "iris = load_iris()\n",
    "X = iris.data\n",
    "y = iris.target\n",
    "\n",
    "# Calcular la varianza de las características\n",
    "selector = VarianceThreshold(threshold=0.2)\n",
    "X_high_variance = selector.fit_transform(X)\n",
    "\n",
    "# Obtener las características seleccionadas\n",
    "selected_features = [iris.feature_names[i] for i in selector.get_support(indices=True)]\n",
    "print(\"Características seleccionadas:\")\n",
    "print(selected_features)"
   ]
  },
  {
   "attachments": {},
   "cell_type": "markdown",
   "metadata": {},
   "source": [
    "En este ejemplo, utilizamos la clase `VarianceThreshold` de scikit-learn para calcular la varianza de las características. El parámetro `threshold` se utiliza para especificar un umbral mínimo de varianza. Las características con una varianza por debajo de este umbral se consideran de baja varianza y se eliminan.\n",
    "\n",
    "En el caso del ejemplo, hemos establecido un umbral de 0.2, lo que significa que las características con una varianza menor a 0.2 serán eliminadas. Luego, utilizamos el método `fit_transform()` para ajustar el selector a los datos y transformar el conjunto de datos original `X` en `X_high_variance`, que contiene solo las características seleccionadas.\n",
    "\n",
    "Finalmente, utilizamos el método `get_support()` para obtener una máscara booleana de las características seleccionadas y usamos esta máscara para obtener los nombres de las características seleccionadas del conjunto de datos original.\n",
    "\n",
    "Recuerda que el valor del umbral de varianza puede variar según tus necesidades y el conjunto de datos específico que estés utilizando. Es importante evaluar el efecto de la selección de características en el rendimiento del modelo y ajustar el umbral en consecuencia."
   ]
  },
  {
   "attachments": {},
   "cell_type": "markdown",
   "metadata": {},
   "source": [
    "## **Prueba de hipótesis**"
   ]
  },
  {
   "attachments": {},
   "cell_type": "markdown",
   "metadata": {},
   "source": [
    "La prueba de hipótesis es una técnica estadística utilizada para tomar decisiones sobre afirmaciones o suposiciones acerca de una población basándose en evidencia muestral. Consiste en formular dos hipótesis: la hipótesis nula (`H0`) y la hipótesis alternativa (`H1`). La hipótesis nula establece que no hay efecto o diferencia entre las variables, mientras que la hipótesis alternativa plantea que existe un efecto o diferencia significativa.\n",
    "\n",
    "El proceso de prueba de hipótesis implica los siguientes pasos:\n",
    "\n",
    "1. **Establecer las hipótesis:**\n",
    "\n",
    "* **Hipótesis nula (H0):** Afirma que no hay efecto o diferencia entre las variables.\n",
    "* **Hipótesis alternativa (H1):** Afirma que hay un efecto o diferencia significativa.\n",
    "\n",
    "2. **Definir el nivel de significancia (alfa):**\n",
    "\n",
    "* El nivel de significancia (alfa) es la probabilidad máxima aceptada de cometer un error tipo `I`, es decir, rechazar la hipótesis nula cuando es verdadera. Es común utilizar un nivel de significancia de 0.05 (5%).\n",
    "\n",
    "3. **Recolectar y analizar los datos:**\n",
    "\n",
    "Se recopilan los datos relevantes y se realiza el análisis estadístico adecuado para comparar los resultados muestrales con las hipótesis establecidas.\n",
    "\n",
    "4. **Calcular el estadístico de prueba:**\n",
    "\n",
    "Se calcula una medida estadística utilizando los datos muestrales, que nos ayudará a tomar una decisión sobre las hipótesis.\n",
    "\n",
    "5. **Tomar una decisión:**\n",
    "\n",
    "* Se compara el valor calculado del estadístico de prueba con un valor crítico o se utiliza un enfoque de `p-value` (valor p) para determinar si se rechaza o no la hipótesis nula.\n",
    "* Si el valor calculado del estadístico de prueba es menor que el valor crítico o el valor `p` es menor que el nivel de significancia (alfa), se rechaza la hipótesis nula y se acepta la hipótesis alternativa.\n",
    "* Si el valor calculado del estadístico de prueba es mayor que el valor crítico o el valor `p` es mayor que el nivel de significancia (alfa), no se rechaza la hipótesis nula y se concluye que no hay suficiente evidencia para respaldar la hipótesis alternativa.\n",
    "\n",
    "A continuación, te mostraré un ejemplo de cómo realizar una prueba de hipótesis en Python utilizando la biblioteca scipy.stats:"
   ]
  },
  {
   "cell_type": "code",
   "execution_count": 8,
   "metadata": {},
   "outputs": [
    {
     "name": "stdout",
     "output_type": "stream",
     "text": [
      "Estadístico de prueba: -7.0414273690132765\n",
      "Valor p: 3.059820094513985e-11\n",
      "Se rechaza la hipótesis nula\n"
     ]
    }
   ],
   "source": [
    "import numpy as np\n",
    "from scipy import stats\n",
    "\n",
    "# Generar dos muestras de datos\n",
    "np.random.seed(0)\n",
    "sample1 = np.random.normal(loc=10, scale=2, size=100)\n",
    "sample2 = np.random.normal(loc=12, scale=2, size=100)\n",
    "\n",
    "# Realizar una prueba t de dos muestras\n",
    "t_statistic, p_value = stats.ttest_ind(sample1, sample2)\n",
    "\n",
    "# Imprimir los resultados\n",
    "print(\"Estadístico de prueba:\", t_statistic)\n",
    "print(\"Valor p:\", p_value)\n",
    "\n",
    "# Tomar una decisión\n",
    "alpha = 0.05\n",
    "if p_value < alpha:\n",
    "    print(\"Se rechaza la hipótesis nula\")\n",
    "else:\n",
    "    print(\"No se rechaza la hipótesis nula\")"
   ]
  },
  {
   "attachments": {},
   "cell_type": "markdown",
   "metadata": {},
   "source": [
    "En este ejemplo, generamos dos muestras de datos: `sample1` y `sample2`. Luego, utilizamos la función `ttest_ind()` de la biblioteca scipy.stats para realizar una prueba `t` de dos muestras. Esta prueba compara las medias de las dos muestras y devuelve el estadístico de prueba y el valor `p`.\n",
    "\n",
    "El valor `p` representa la probabilidad de obtener el estadístico de prueba observado (o uno más extremo) bajo la suposición de que la hipótesis nula es verdadera. Si el valor `p` es menor que el nivel de significancia (alfa), se rechaza la hipótesis nula y se concluye que hay evidencia suficiente para respaldar la hipótesis alternativa.\n",
    "\n",
    "En el ejemplo, utilizamos un nivel de significancia de 0.05 (5%). Si el valor `p` es menor que 0.05, imprimimos \"Se rechaza la hipótesis nula\"; de lo contrario, imprimimos \"No se rechaza la hipótesis nula\".\n",
    "\n",
    "Es importante tener en cuenta que la elección del tipo de prueba de hipótesis y el análisis adecuado depende del tipo de datos y del objetivo de la prueba. En este ejemplo, utilizamos una prueba `t` de dos muestras, pero existen otros tipos de pruebas de hipótesis para diferentes situaciones."
   ]
  },
  {
   "attachments": {},
   "cell_type": "markdown",
   "metadata": {},
   "source": [
    "## **Basados en la importancia**"
   ]
  },
  {
   "attachments": {},
   "cell_type": "markdown",
   "metadata": {},
   "source": [
    "Los métodos basados en la importancia son técnicas utilizadas en la selección de características para evaluar y clasificar la importancia de cada variable en un conjunto de datos. Estos métodos proporcionan una medida de la relevancia o contribución de cada característica para predecir la variable objetivo.\n",
    "\n",
    "Existen diferentes enfoques para calcular la importancia de las características, y uno de los métodos más comunes es el algoritmo de `Random Forest`. El `Random Forest` es un algoritmo de aprendizaje supervisado que construye múltiples árboles de decisión y combina sus resultados para realizar predicciones más precisas. La importancia de una característica se calcula midiendo cuánto mejora la precisión de las predicciones al considerar esa característica en particular.\n",
    "\n",
    "A continuación, te mostraré un ejemplo de cómo utilizar `Random Forest` para calcular la importancia de las características en Python utilizando la biblioteca scikit-learn:"
   ]
  },
  {
   "cell_type": "code",
   "execution_count": 3,
   "metadata": {},
   "outputs": [
    {
     "data": {
      "image/png": "[encoded data removed]",
      "text/plain": [
       "<Figure size 1000x600 with 1 Axes>"
      ]
     },
     "metadata": {},
     "output_type": "display_data"
    }
   ],
   "source": [
    "import numpy as np\n",
    "import pandas as pd\n",
    "from sklearn.ensemble import RandomForestClassifier\n",
    "import matplotlib.pyplot as plt\n",
    "\n",
    "# Crear un diccionario con datos de ejemplo\n",
    "data_dict = {\n",
    "    'feature1': np.random.rand(100),\n",
    "    'feature2': np.random.rand(100),\n",
    "    'feature3': np.random.rand(100),\n",
    "    'columna_objetivo': np.random.randint(0, 2, 100)\n",
    "}\n",
    "\n",
    "# Crear el DataFrame\n",
    "data = pd.DataFrame(data_dict)\n",
    "\n",
    "# Preparar los datos dividiendo las características (X) y la variable objetivo (y)\n",
    "X = data.drop('columna_objetivo', axis=1)\n",
    "y = data['columna_objetivo']\n",
    "\n",
    "# Crear el clasificador Random Forest\n",
    "clf = RandomForestClassifier()\n",
    "\n",
    "# Ajustar el modelo a los datos\n",
    "clf.fit(X, y)\n",
    "\n",
    "# Obtener la importancia de las características\n",
    "importance = clf.feature_importances_\n",
    "\n",
    "# Obtener los nombres de las características\n",
    "feature_names = X.columns\n",
    "\n",
    "# Ordenar las características por importancia descendente\n",
    "indices = np.argsort(importance)[::-1]\n",
    "sorted_feature_names = feature_names[indices]\n",
    "\n",
    "# Personalizar la gráfica de barras\n",
    "plt.figure(figsize=(10, 6))\n",
    "bars = plt.bar(range(len(importance)), importance[indices], color='skyblue')\n",
    "\n",
    "# Añadir etiquetas y título\n",
    "plt.xticks(range(len(importance)), sorted_feature_names, rotation=90)\n",
    "plt.xlabel(\"Características\")\n",
    "plt.ylabel(\"Importancia\")\n",
    "plt.title(\"Importancia de las características\")\n",
    "\n",
    "# Añadir anotaciones con los valores de importancia en cada barra\n",
    "for bar, val in zip(bars, importance[indices]):\n",
    "    plt.text(bar.get_x() + bar.get_width() / 2 - 0.15, bar.get_height() + 0.01, f'{val:.2f}', ha='center', va='bottom', color='black')\n",
    "\n",
    "# Añadir cuadrícula\n",
    "plt.grid(axis='y', linestyle='--', alpha=0.7)\n",
    "\n",
    "# Mostrar la gráfica\n",
    "plt.show()"
   ]
  },
  {
   "attachments": {},
   "cell_type": "markdown",
   "metadata": {},
   "source": [
    "En el gráfico de barras, las características se muestran en el eje `x`, mientras que la importancia se muestra en el eje `y`. Las barras representan la importancia relativa de cada característica, y están ordenadas de mayor a menor importancia. Esto te permite identificar rápidamente las características más importantes en tu conjunto de datos.\n",
    "\n",
    "Recuerda reemplazar '`columna_objetivo`' por el nombre correcto de la columna objetivo en tu conjunto de datos. Además, asegúrate de tener los datos cargados adecuadamente en tu DataFrame y que estés utilizando un clasificador adecuado para tu problema."
   ]
  },
  {
   "attachments": {},
   "cell_type": "markdown",
   "metadata": {},
   "source": [
    "## **División de datos en entrenamiento y pruebas**"
   ]
  },
  {
   "attachments": {},
   "cell_type": "markdown",
   "metadata": {},
   "source": [
    "La división de datos en entrenamiento y pruebas es una técnica común en el aprendizaje automático (machine learning) para evaluar el rendimiento de un modelo. Consiste en dividir el conjunto de datos en dos partes: una parte se utiliza para entrenar el modelo y la otra parte se utiliza para probar el rendimiento del modelo entrenado.\n",
    "\n",
    "La división de datos en entrenamiento y pruebas es importante para evaluar cómo se desempeñará el modelo en datos nuevos, no vistos durante el entrenamiento. Esto ayuda a detectar si el modelo ha aprendido correctamente o si está sobreajustado a los datos de entrenamiento.\n",
    "\n",
    "Aquí tienes un ejemplo de cómo dividir los datos en entrenamiento y pruebas utilizando Python y scikit-learn:"
   ]
  },
  {
   "cell_type": "code",
   "execution_count": 15,
   "metadata": {},
   "outputs": [
    {
     "name": "stdout",
     "output_type": "stream",
     "text": [
      "Forma del conjunto de entrenamiento:\n",
      "(120, 4) (120,)\n",
      "Forma del conjunto de pruebas:\n",
      "(30, 4) (30,)\n"
     ]
    }
   ],
   "source": [
    "from sklearn.datasets import load_iris\n",
    "from sklearn.model_selection import train_test_split\n",
    "\n",
    "# Cargar los datos de iris\n",
    "iris = load_iris()\n",
    "\n",
    "# Crear un DataFrame con las características\n",
    "X = pd.DataFrame(iris.data, columns=iris.feature_names)\n",
    "\n",
    "# Crear una Serie con la variable objetivo\n",
    "y = pd.Series(iris.target, name='target')\n",
    "\n",
    "# Dividir los datos en entrenamiento y pruebas\n",
    "X_train, X_test, y_train, y_test = train_test_split(X, y, test_size=0.2, random_state=42)\n",
    "\n",
    "# Imprimir la forma de los conjuntos de entrenamiento y pruebas\n",
    "print(\"Forma del conjunto de entrenamiento:\")\n",
    "print(X_train.shape, y_train.shape)\n",
    "print(\"Forma del conjunto de pruebas:\")\n",
    "print(X_test.shape, y_test.shape)"
   ]
  },
  {
   "attachments": {},
   "cell_type": "markdown",
   "metadata": {},
   "source": [
    "1. **from sklearn.datasets import load_iris:** Importa la función `load_iris` del módulo `sklearn.datasets`. Esta función se utiliza para cargar el conjunto de datos de Iris, que es un conjunto de datos clásico utilizado en la clasificación de flores Iris.\n",
    "\n",
    "2. **from sklearn.model_selection import train_test_split:** Importa la función `train_test_split` del módulo `sklearn.model_selection`. Esta función se utiliza para dividir los datos en conjuntos de entrenamiento y prueba.\n",
    "\n",
    "3. **iris = load_iris():** Carga el conjunto de datos de Iris utilizando la función `load_iris()`. El conjunto de datos de Iris contiene información sobre las características de las flores Iris y la especie a la que pertenecen.\n",
    "\n",
    "4. **X = pd.DataFrame(iris.data, columns=iris.feature_names):** Crea un DataFrame `X` con las características de las flores Iris. `iris.data` contiene las características y `iris.feature_names` contiene los nombres de las características.\n",
    "\n",
    "5. **y = pd.Series(iris.target, name='target'):** Crea una Serie y con la variable objetivo o etiquetas de las flores Iris. `iris.target` contiene las etiquetas de especies de las flores.\n",
    "\n",
    "6. **X_train, X_test, y_train, y_test = train_test_split(X, y, test_size=0.2, random_state=42):** Divide los datos en conjuntos de entrenamiento y prueba utilizando la función `train_test_split`. `X` y `y` son los datos a dividir, test_size=0.2 indica que el 20% de los datos se utilizarán como conjunto de prueba, y `random_state=42` establece una semilla para garantizar la reproducibilidad de la división.\n",
    "\n",
    "7. **print(\"Forma del conjunto de entrenamiento:\") y print(X_train.shape, y_train.shape):** Imprime la forma del conjunto de entrenamiento, que es el número de muestras y características en `X_train` y el número de etiquetas en `y_train`.\n",
    "\n",
    "8. **print(\"Forma del conjunto de pruebas:\") y print(X_test.shape, y_test.shape):** Imprime la forma del conjunto de prueba, que es el número de muestras y características en `X_test` y el número de etiquetas `en y_test`.\n",
    "\n",
    "En resumen, este código carga el conjunto de datos de Iris, lo divide en conjuntos de entrenamiento y prueba, y muestra la forma de cada conjunto."
   ]
  },
  {
   "attachments": {},
   "cell_type": "markdown",
   "metadata": {},
   "source": [
    "| **Inicio** | **atrás 2** | **Siguiente 4** |\n",
    "|----------- |-------------- |---------------|\n",
    "| [🏠](../../../README.md) | [⏪](./2.TRATAMIENTO_DE_OUTLIERS.ipynb)| [⏩](./4.BALANCE_DE_DATOS.ipynb)|"
   ]
  }
 ],
 "metadata": {
  "kernelspec": {
   "display_name": "base",
   "language": "python",
   "name": "python3"
  },
  "language_info": {
   "codemirror_mode": {
    "name": "ipython",
    "version": 3
   },
   "file_extension": ".py",
   "mimetype": "text/x-python",
   "name": "python",
   "nbconvert_exporter": "python",
   "pygments_lexer": "ipython3",
   "version": "3.9.12"
  },
  "orig_nbformat": 4
 },
 "nbformat": 4,
 "nbformat_minor": 2
}
