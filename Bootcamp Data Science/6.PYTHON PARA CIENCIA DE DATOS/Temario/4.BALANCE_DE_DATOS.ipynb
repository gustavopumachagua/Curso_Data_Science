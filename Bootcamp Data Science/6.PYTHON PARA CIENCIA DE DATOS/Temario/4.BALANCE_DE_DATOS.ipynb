{
 "cells": [
  {
   "attachments": {},
   "cell_type": "markdown",
   "metadata": {},
   "source": [
    "| **Inicio** | **atrás 3** |\n",
    "|----------- |-------------- |\n",
    "| [🏠](../../../README.md) | [⏪](./3.SELECCION_DE_CARACTERISTICAS.ipynb)|"
   ]
  },
  {
   "attachments": {},
   "cell_type": "markdown",
   "metadata": {},
   "source": [
    "# **4. BALANCE DE DATOS**"
   ]
  },
  {
   "attachments": {},
   "cell_type": "markdown",
   "metadata": {},
   "source": [
    "## **Métodos para Balance de datos**"
   ]
  },
  {
   "attachments": {},
   "cell_type": "markdown",
   "metadata": {},
   "source": [
    "1. **Undersampling (Submuestreo):**\n",
    "\n",
    "El submuestreo reduce la cantidad de instancias en la clase mayoritaria para igualarla a la cantidad de instancias en la clase minoritaria. Esto se logra seleccionando aleatoriamente un subconjunto de instancias de la clase mayoritaria. El objetivo es equilibrar las proporciones de las clases en el conjunto de datos.\n",
    "\n",
    "Ejemplo de código Python utilizando la biblioteca `imbalanced-learn`:"
   ]
  },
  {
   "cell_type": "code",
   "execution_count": 8,
   "metadata": {},
   "outputs": [
    {
     "data": {
      "image/png": "[encoded data removed]",
      "text/plain": [
       "<Figure size 720x288 with 2 Axes>"
      ]
     },
     "metadata": {
      "needs_background": "light"
     },
     "output_type": "display_data"
    },
    {
     "name": "stdout",
     "output_type": "stream",
     "text": [
      "    sepal_length  sepal_width  petal_length  petal_width  target\n",
      "0            4.9          3.1           1.5          0.1       0\n",
      "1            4.8          3.4           1.6          0.2       0\n",
      "2            5.1          3.5           1.4          0.2       0\n",
      "3            4.8          3.0           1.4          0.1       0\n",
      "4            5.4          3.9           1.7          0.4       0\n",
      "5            4.4          2.9           1.4          0.2       0\n",
      "6            5.8          4.0           1.2          0.2       1\n",
      "7            5.7          4.4           1.5          0.4       1\n",
      "8            5.4          3.9           1.3          0.4       1\n",
      "9            5.1          3.5           1.4          0.3       1\n",
      "10           5.7          3.8           1.7          0.3       1\n",
      "11           5.1          3.8           1.5          0.3       1\n"
     ]
    }
   ],
   "source": [
    "import numpy as np\n",
    "import pandas as pd\n",
    "from imblearn.under_sampling import RandomUnderSampler\n",
    "import matplotlib.pyplot as plt\n",
    "\n",
    "# Datos de ejemplo\n",
    "data = {\n",
    "    'sepal_length': [5.1, 4.9, 4.7, 4.6, 5.0, 5.4, 4.6, 5.0, 4.4, 4.9, 5.4, 4.8, 4.8, 4.3, 5.8, 5.7, 5.4, 5.1, 5.7, 5.1],\n",
    "    'sepal_width': [3.5, 3.0, 3.2, 3.1, 3.6, 3.9, 3.4, 3.4, 2.9, 3.1, 3.7, 3.4, 3.0, 3.0, 4.0, 4.4, 3.9, 3.5, 3.8, 3.8],\n",
    "    'petal_length': [1.4, 1.4, 1.3, 1.5, 1.4, 1.7, 1.4, 1.5, 1.4, 1.5, 1.5, 1.6, 1.4, 1.1, 1.2, 1.5, 1.3, 1.4, 1.7, 1.5],\n",
    "    'petal_width': [0.2, 0.2, 0.2, 0.2, 0.2, 0.4, 0.3, 0.2, 0.2, 0.1, 0.2, 0.2, 0.1, 0.1, 0.2, 0.4, 0.4, 0.3, 0.3, 0.3],\n",
    "    'target': [0, 0, 0, 0, 0, 0, 0, 0, 0, 0, 0, 0, 0, 0, 1, 1, 1, 1, 1, 1]\n",
    "}\n",
    "\n",
    "# Crear DataFrame\n",
    "df = pd.DataFrame(data)\n",
    "\n",
    "# Aplicar submuestreo\n",
    "undersampler = RandomUnderSampler(random_state=42)\n",
    "X_resampled, y_resampled = undersampler.fit_resample(df.drop('target', axis=1), df['target'])\n",
    "\n",
    "# Crear DataFrame a partir de los datos submuestreados\n",
    "df_resampled = pd.DataFrame(X_resampled, columns=df.columns[:-1])\n",
    "df_resampled['target'] = y_resampled\n",
    "\n",
    "# Contar las clases en los datos originales y submuestreados\n",
    "original_counts = df['target'].value_counts().to_dict()\n",
    "resampled_counts = df_resampled['target'].value_counts().to_dict()\n",
    "\n",
    "# Crear gráfico de barras para comparar las clases antes y después del submuestreo\n",
    "fig, axs = plt.subplots(1, 2, figsize=(10, 4))\n",
    "\n",
    "axs[0].bar(original_counts.keys(), original_counts.values())\n",
    "axs[0].set_xticks(list(original_counts.keys()))\n",
    "axs[0].set_xlabel('Clase')\n",
    "axs[0].set_ylabel('Cantidad')\n",
    "axs[0].set_title('Datos originales')\n",
    "\n",
    "axs[1].bar(resampled_counts.keys(), resampled_counts.values())\n",
    "axs[1].set_xticks(list(resampled_counts.keys()))\n",
    "axs[1].set_xlabel('Clase')\n",
    "axs[1].set_ylabel('Cantidad')\n",
    "axs[1].set_title('Datos submuestreados')\n",
    "\n",
    "plt.tight_layout()\n",
    "plt.show()\n",
    "\n",
    "# Mostrar el DataFrame submuestreado\n",
    "print(df_resampled)"
   ]
  },
  {
   "attachments": {},
   "cell_type": "markdown",
   "metadata": {},
   "source": [
    "2. **Oversampling (Sobremuestreo):**\n",
    "\n",
    "El sobremuestreo aumenta la cantidad de instancias en la clase minoritaria para igualarla a la cantidad de instancias en la clase mayoritaria. Esto se logra replicando o generando nuevas instancias de la clase minoritaria. El objetivo es aumentar la representación de la clase minoritaria en el conjunto de datos.\n",
    "\n",
    "Ejemplo de código Python utilizando la biblioteca `imbalanced-learn`:"
   ]
  },
  {
   "cell_type": "code",
   "execution_count": 9,
   "metadata": {},
   "outputs": [
    {
     "data": {
      "image/png": "[encoded data removed]",
      "text/plain": [
       "<Figure size 720x288 with 2 Axes>"
      ]
     },
     "metadata": {
      "needs_background": "light"
     },
     "output_type": "display_data"
    },
    {
     "name": "stdout",
     "output_type": "stream",
     "text": [
      "    sepal_length  sepal_width  petal_length  petal_width  target\n",
      "0            5.1          3.5           1.4          0.2       0\n",
      "1            4.9          3.0           1.4          0.2       0\n",
      "2            4.7          3.2           1.3          0.2       0\n",
      "3            4.6          3.1           1.5          0.2       0\n",
      "4            5.0          3.6           1.4          0.2       0\n",
      "5            5.4          3.9           1.7          0.4       0\n",
      "6            4.6          3.4           1.4          0.3       0\n",
      "7            5.0          3.4           1.5          0.2       0\n",
      "8            4.4          2.9           1.4          0.2       0\n",
      "9            4.9          3.1           1.5          0.1       0\n",
      "10           5.4          3.7           1.5          0.2       0\n",
      "11           4.8          3.4           1.6          0.2       0\n",
      "12           4.8          3.0           1.4          0.1       0\n",
      "13           4.3          3.0           1.1          0.1       0\n",
      "14           5.8          4.0           1.2          0.2       1\n",
      "15           5.7          4.4           1.5          0.4       1\n",
      "16           5.4          3.9           1.3          0.4       1\n",
      "17           5.1          3.5           1.4          0.3       1\n",
      "18           5.7          3.8           1.7          0.3       1\n",
      "19           5.1          3.8           1.5          0.3       1\n",
      "20           5.1          3.5           1.4          0.3       1\n",
      "21           5.7          3.8           1.7          0.3       1\n",
      "22           5.4          3.9           1.3          0.4       1\n",
      "23           5.7          3.8           1.7          0.3       1\n",
      "24           5.7          3.8           1.7          0.3       1\n",
      "25           5.7          4.4           1.5          0.4       1\n",
      "26           5.4          3.9           1.3          0.4       1\n",
      "27           5.4          3.9           1.3          0.4       1\n"
     ]
    }
   ],
   "source": [
    "import numpy as np\n",
    "import pandas as pd\n",
    "from imblearn.over_sampling import RandomOverSampler\n",
    "import matplotlib.pyplot as plt\n",
    "\n",
    "# Datos de ejemplo\n",
    "data = {\n",
    "    'sepal_length': [5.1, 4.9, 4.7, 4.6, 5.0, 5.4, 4.6, 5.0, 4.4, 4.9, 5.4, 4.8, 4.8, 4.3, 5.8, 5.7, 5.4, 5.1, 5.7, 5.1],\n",
    "    'sepal_width': [3.5, 3.0, 3.2, 3.1, 3.6, 3.9, 3.4, 3.4, 2.9, 3.1, 3.7, 3.4, 3.0, 3.0, 4.0, 4.4, 3.9, 3.5, 3.8, 3.8],\n",
    "    'petal_length': [1.4, 1.4, 1.3, 1.5, 1.4, 1.7, 1.4, 1.5, 1.4, 1.5, 1.5, 1.6, 1.4, 1.1, 1.2, 1.5, 1.3, 1.4, 1.7, 1.5],\n",
    "    'petal_width': [0.2, 0.2, 0.2, 0.2, 0.2, 0.4, 0.3, 0.2, 0.2, 0.1, 0.2, 0.2, 0.1, 0.1, 0.2, 0.4, 0.4, 0.3, 0.3, 0.3],\n",
    "    'target': [0, 0, 0, 0, 0, 0, 0, 0, 0, 0, 0, 0, 0, 0, 1, 1, 1, 1, 1, 1]\n",
    "}\n",
    "\n",
    "# Crear DataFrame\n",
    "df = pd.DataFrame(data)\n",
    "\n",
    "# Aplicar sobremuestreo\n",
    "oversampler = RandomOverSampler(random_state=42)\n",
    "X_resampled, y_resampled = oversampler.fit_resample(df.drop('target', axis=1), df['target'])\n",
    "\n",
    "# Crear DataFrame a partir de los datos sobremuestreados\n",
    "df_resampled = pd.DataFrame(X_resampled, columns=df.columns[:-1])\n",
    "df_resampled['target'] = y_resampled\n",
    "\n",
    "# Contar las clases en los datos originales y sobremuestreados\n",
    "original_counts = df['target'].value_counts().to_dict()\n",
    "resampled_counts = df_resampled['target'].value_counts().to_dict()\n",
    "\n",
    "# Crear gráfico de barras para comparar las clases antes y después del sobremuestreo\n",
    "fig, axs = plt.subplots(1, 2, figsize=(10, 4))\n",
    "\n",
    "axs[0].bar(original_counts.keys(), original_counts.values())\n",
    "axs[0].set_xticks(list(original_counts.keys()))\n",
    "axs[0].set_xlabel('Clase')\n",
    "axs[0].set_ylabel('Cantidad')\n",
    "axs[0].set_title('Datos originales')\n",
    "\n",
    "axs[1].bar(resampled_counts.keys(), resampled_counts.values())\n",
    "axs[1].set_xticks(list(resampled_counts.keys()))\n",
    "axs[1].set_xlabel('Clase')\n",
    "axs[1].set_ylabel('Cantidad')\n",
    "axs[1].set_title('Datos sobremuestreados')\n",
    "\n",
    "plt.tight_layout()\n",
    "plt.show()\n",
    "\n",
    "# Mostrar el DataFrame sobremuestreado\n",
    "print(df_resampled)"
   ]
  },
  {
   "attachments": {},
   "cell_type": "markdown",
   "metadata": {},
   "source": [
    "3. **Synthetic Minority Over-sampling Technique (SMOTE):**\n",
    "\n",
    "SMOTE es un método popular de sobremuestreo que genera nuevas instancias sintéticas de la clase minoritaria mediante interpolación. Crea instancias sintéticas entre las instancias existentes de la clase minoritaria y las instancias de sus vecinos más cercanos. Esto ayuda a evitar el sobreajuste al replicar exactamente las instancias existentes.\n",
    "\n",
    "Ejemplo de código Python utilizando la biblioteca `imbalanced-learn`:"
   ]
  },
  {
   "cell_type": "code",
   "execution_count": 7,
   "metadata": {},
   "outputs": [
    {
     "data": {
      "image/png": "[encoded data removed]",
      "text/plain": [
       "<Figure size 720x288 with 2 Axes>"
      ]
     },
     "metadata": {
      "needs_background": "light"
     },
     "output_type": "display_data"
    },
    {
     "name": "stdout",
     "output_type": "stream",
     "text": [
      "    sepal_length  sepal_width  petal_length  petal_width  target\n",
      "0       5.100000     3.500000      1.400000     0.200000       0\n",
      "1       4.900000     3.000000      1.400000     0.200000       0\n",
      "2       4.700000     3.200000      1.300000     0.200000       0\n",
      "3       4.600000     3.100000      1.500000     0.200000       0\n",
      "4       5.000000     3.600000      1.400000     0.200000       0\n",
      "5       5.400000     3.900000      1.700000     0.400000       0\n",
      "6       4.600000     3.400000      1.400000     0.300000       0\n",
      "7       5.000000     3.400000      1.500000     0.200000       0\n",
      "8       4.400000     2.900000      1.400000     0.200000       0\n",
      "9       4.900000     3.100000      1.500000     0.100000       0\n",
      "10      5.400000     3.700000      1.500000     0.200000       0\n",
      "11      4.800000     3.400000      1.600000     0.200000       0\n",
      "12      4.800000     3.000000      1.400000     0.100000       0\n",
      "13      4.300000     3.000000      1.100000     0.100000       0\n",
      "14      5.800000     4.000000      1.200000     0.200000       1\n",
      "15      5.700000     4.400000      1.500000     0.400000       1\n",
      "16      5.400000     3.900000      1.300000     0.400000       1\n",
      "17      5.100000     3.500000      1.400000     0.300000       1\n",
      "18      5.700000     3.800000      1.700000     0.300000       1\n",
      "19      5.100000     3.800000      1.500000     0.300000       1\n",
      "20      5.653194     4.321991      1.468796     0.400000       1\n",
      "21      5.193597     3.640395      1.415599     0.315599       1\n",
      "22      5.140659     3.811617      1.482575     0.294192       1\n",
      "23      5.659853     4.333088      1.473235     0.400000       1\n",
      "24      5.219665     3.839888      1.420223     0.339888       1\n",
      "25      5.700000     3.975156      1.641615     0.329193       1\n",
      "26      5.114409     3.804117      1.493825     0.297942       1\n",
      "27      5.409027     3.896991      1.312036     0.396991       1\n"
     ]
    }
   ],
   "source": [
    "import numpy as np\n",
    "import pandas as pd\n",
    "from imblearn.over_sampling import SMOTE\n",
    "import matplotlib.pyplot as plt\n",
    "\n",
    "# Datos de ejemplo\n",
    "data = {\n",
    "    'sepal_length': [5.1, 4.9, 4.7, 4.6, 5.0, 5.4, 4.6, 5.0, 4.4, 4.9, 5.4, 4.8, 4.8, 4.3, 5.8, 5.7, 5.4, 5.1, 5.7, 5.1],\n",
    "    'sepal_width': [3.5, 3.0, 3.2, 3.1, 3.6, 3.9, 3.4, 3.4, 2.9, 3.1, 3.7, 3.4, 3.0, 3.0, 4.0, 4.4, 3.9, 3.5, 3.8, 3.8],\n",
    "    'petal_length': [1.4, 1.4, 1.3, 1.5, 1.4, 1.7, 1.4, 1.5, 1.4, 1.5, 1.5, 1.6, 1.4, 1.1, 1.2, 1.5, 1.3, 1.4, 1.7, 1.5],\n",
    "    'petal_width': [0.2, 0.2, 0.2, 0.2, 0.2, 0.4, 0.3, 0.2, 0.2, 0.1, 0.2, 0.2, 0.1, 0.1, 0.2, 0.4, 0.4, 0.3, 0.3, 0.3],\n",
    "    'target': [0, 0, 0, 0, 0, 0, 0, 0, 0, 0, 0, 0, 0, 0, 1, 1, 1, 1, 1, 1]\n",
    "}\n",
    "\n",
    "# Crear DataFrame\n",
    "df = pd.DataFrame(data)\n",
    "\n",
    "# Aplicar SMOTE\n",
    "smote = SMOTE(random_state=42)\n",
    "X_resampled, y_resampled = smote.fit_resample(df.drop('target', axis=1), df['target'])\n",
    "\n",
    "# Crear DataFrame a partir de los datos sobremuestreados\n",
    "df_resampled = pd.DataFrame(X_resampled, columns=df.columns[:-1])\n",
    "df_resampled['target'] = y_resampled\n",
    "\n",
    "# Contar las clases en los datos originales y sobremuestreados\n",
    "original_counts = df['target'].value_counts().to_dict()\n",
    "resampled_counts = df_resampled['target'].value_counts().to_dict()\n",
    "\n",
    "# Crear gráfico de barras para comparar las clases antes y después del sobremuestreo\n",
    "fig, axs = plt.subplots(1, 2, figsize=(10, 4))\n",
    "\n",
    "axs[0].bar(original_counts.keys(), original_counts.values())\n",
    "axs[0].set_xticks(list(original_counts.keys()))\n",
    "axs[0].set_xlabel('Clase')\n",
    "axs[0].set_ylabel('Cantidad')\n",
    "axs[0].set_title('Datos originales')\n",
    "\n",
    "axs[1].bar(resampled_counts.keys(), resampled_counts.values())\n",
    "axs[1].set_xticks(list(resampled_counts.keys()))\n",
    "axs[1].set_xlabel('Clase')\n",
    "axs[1].set_ylabel('Cantidad')\n",
    "axs[1].set_title('Datos sobremuestreados')\n",
    "\n",
    "plt.tight_layout()\n",
    "plt.show()\n",
    "\n",
    "# Mostrar el DataFrame sobremuestreado\n",
    "print(df_resampled)"
   ]
  },
  {
   "attachments": {},
   "cell_type": "markdown",
   "metadata": {},
   "source": [
    "Estos métodos de balanceo ayudan a abordar el problema de clasificación desequilibrada al ajustar las proporciones de las clases en el conjunto de datos, lo que puede mejorar el rendimiento de los modelos de aprendizaje automático al tener una representación más equilibrada de las clases."
   ]
  },
  {
   "attachments": {},
   "cell_type": "markdown",
   "metadata": {},
   "source": [
    "![Balance de datos](../img/Balance%20de%20datos.png \"Balance de datos\")"
   ]
  },
  {
   "attachments": {},
   "cell_type": "markdown",
   "metadata": {},
   "source": [
    "## **Subsampling**"
   ]
  },
  {
   "attachments": {},
   "cell_type": "markdown",
   "metadata": {},
   "source": [
    "El Subsampling es una técnica utilizada en el contexto de balanceo de datos desequilibrados, donde se reduce la cantidad de instancias de la clase mayoritaria (clase dominante) para igualarla a la cantidad de instancias de la clase minoritaria (clase minoritaria). Esta técnica se aplica cuando se tienen datos desequilibrados y se desea reducir el sesgo hacia la clase dominante.\n",
    "\n",
    "El Subsampling puede ser realizado mediante diferentes métodos, como el submuestreo aleatorio (`Random Under-sampling`), donde se seleccionan aleatoriamente un subconjunto de instancias de la clase dominante para igualar el número de instancias de la clase minoritaria.\n",
    "\n",
    "A continuación, te mostraré un ejemplo de cómo aplicar el submuestreo aleatorio utilizando la biblioteca `imbalanced-learn` en Python:"
   ]
  },
  {
   "cell_type": "code",
   "execution_count": 6,
   "metadata": {},
   "outputs": [
    {
     "data": {
      "image/png": "[encoded data removed]",
      "text/plain": [
       "<Figure size 720x288 with 2 Axes>"
      ]
     },
     "metadata": {
      "needs_background": "light"
     },
     "output_type": "display_data"
    }
   ],
   "source": [
    "import numpy as np\n",
    "import pandas as pd\n",
    "from imblearn.under_sampling import RandomUnderSampler\n",
    "import matplotlib.pyplot as plt\n",
    "\n",
    "\n",
    "# Crear datos de ejemplo\n",
    "data = {\n",
    "    'columna_1': [1, 2, 3, 4, 5],\n",
    "    'columna_2': ['A', 'B', 'C', 'D', 'E'],\n",
    "    'columna_objetivo': [0, 0, 1, 1, 1]\n",
    "}\n",
    "\n",
    "# Crear DataFrame\n",
    "df = pd.DataFrame(data)\n",
    "\n",
    "# Preparar los datos dividiendo las características (X) y la variable objetivo (y)\n",
    "X = df.drop('columna_objetivo', axis=1)  # Reemplaza 'columna_objetivo' por el nombre correcto de la columna objetivo\n",
    "y = df['columna_objetivo']  # Reemplaza 'columna_objetivo' por el nombre correcto de la columna objetivo\n",
    "\n",
    "# Aplicar submuestreo aleatorio\n",
    "undersampler = RandomUnderSampler(random_state=42)\n",
    "X_resampled, y_resampled = undersampler.fit_resample(X, y)\n",
    "\n",
    "# Contar las clases en los datos originales y submuestreados\n",
    "unique, counts = np.unique(y, return_counts=True)\n",
    "original_counts = dict(zip(unique, counts))\n",
    "\n",
    "unique_resampled, counts_resampled = np.unique(y_resampled, return_counts=True)\n",
    "resampled_counts = dict(zip(unique_resampled, counts_resampled))\n",
    "\n",
    "# Crear gráfico de barras para comparar las clases antes y después del submuestreo\n",
    "fig, axs = plt.subplots(1, 2, figsize=(10, 4))\n",
    "\n",
    "axs[0].bar(original_counts.keys(), original_counts.values())\n",
    "axs[0].set_xticks(list(original_counts.keys()))\n",
    "axs[0].set_xlabel('Clase')\n",
    "axs[0].set_ylabel('Cantidad')\n",
    "axs[0].set_title('Datos originales')\n",
    "\n",
    "axs[1].bar(resampled_counts.keys(), resampled_counts.values())\n",
    "axs[1].set_xticks(list(resampled_counts.keys()))\n",
    "axs[1].set_xlabel('Clase')\n",
    "axs[1].set_ylabel('Cantidad')\n",
    "axs[1].set_title('Datos submuestreados')\n",
    "\n",
    "plt.tight_layout()\n",
    "plt.show()"
   ]
  },
  {
   "attachments": {},
   "cell_type": "markdown",
   "metadata": {},
   "source": [
    "En este ejemplo, se carga un conjunto de datos desequilibrado en un DataFrame de Pandas. Luego, se aplica el submuestreo aleatorio utilizando `RandomUnderSampler` de la biblioteca `imbalanced-learn`. A continuación, se cuentan las instancias por clase en los datos originales y en los datos submuestreados, y se muestra un gráfico de barras comparando las clases antes y después del submuestreo.\n",
    "\n",
    "Espero que esto te ayude a comprender el concepto de Subsampling y cómo aplicarlo en Python utilizando el submuestreo aleatorio."
   ]
  },
  {
   "attachments": {},
   "cell_type": "markdown",
   "metadata": {},
   "source": [
    "## **Oversampling, SMOTE**"
   ]
  },
  {
   "attachments": {},
   "cell_type": "markdown",
   "metadata": {},
   "source": [
    "El sobremuestreo (oversampling) es una técnica utilizada para abordar el desequilibrio de clases en conjuntos de datos, donde una clase minoritaria tiene menos ejemplos en comparación con la clase mayoritaria. El objetivo del sobremuestreo es generar ejemplos sintéticos de la clase minoritaria para equilibrar las proporciones de las clases en el conjunto de datos.\n",
    "\n",
    "Una técnica popular de sobremuestreo es SMOTE (Synthetic Minority Over-sampling Technique), que crea ejemplos sintéticos interpolando características de ejemplos de la clase minoritaria cercanos. SMOTE selecciona aleatoriamente un ejemplo de la clase minoritaria y encuentra sus vecinos más cercanos. Luego, genera nuevos ejemplos al tomar combinaciones lineales de las características de ese ejemplo y sus vecinos. Este proceso se repite para generar la cantidad deseada de ejemplos sintéticos.\n",
    "\n",
    "Aquí tienes un ejemplo de código en Python utilizando la biblioteca `imbalanced-learn` para aplicar SMOTE y visualizar el efecto del sobremuestreo:"
   ]
  },
  {
   "cell_type": "code",
   "execution_count": 10,
   "metadata": {},
   "outputs": [
    {
     "data": {
      "image/png": "[encoded data removed]",
      "text/plain": [
       "<Figure size 432x288 with 1 Axes>"
      ]
     },
     "metadata": {
      "needs_background": "light"
     },
     "output_type": "display_data"
    },
    {
     "data": {
      "image/png": "[encoded data removed]",
      "text/plain": [
       "<Figure size 432x288 with 1 Axes>"
      ]
     },
     "metadata": {
      "needs_background": "light"
     },
     "output_type": "display_data"
    },
    {
     "name": "stdout",
     "output_type": "stream",
     "text": [
      "    sepal_length  sepal_width  petal_length  petal_width  target\n",
      "0       5.100000     3.500000      1.400000     0.200000       0\n",
      "1       4.900000     3.000000      1.400000     0.200000       0\n",
      "2       4.700000     3.200000      1.300000     0.200000       0\n",
      "3       4.600000     3.100000      1.500000     0.200000       0\n",
      "4       5.000000     3.600000      1.400000     0.200000       0\n",
      "5       5.400000     3.900000      1.700000     0.400000       0\n",
      "6       4.600000     3.400000      1.400000     0.300000       0\n",
      "7       5.000000     3.400000      1.500000     0.200000       0\n",
      "8       4.400000     2.900000      1.400000     0.200000       0\n",
      "9       4.900000     3.100000      1.500000     0.100000       0\n",
      "10      5.400000     3.700000      1.500000     0.200000       0\n",
      "11      4.800000     3.400000      1.600000     0.200000       0\n",
      "12      4.800000     3.000000      1.400000     0.100000       0\n",
      "13      4.300000     3.000000      1.100000     0.100000       0\n",
      "14      5.800000     4.000000      1.200000     0.200000       1\n",
      "15      5.700000     4.400000      1.500000     0.400000       1\n",
      "16      5.400000     3.900000      1.300000     0.400000       1\n",
      "17      5.100000     3.500000      1.400000     0.300000       1\n",
      "18      5.700000     3.800000      1.700000     0.300000       1\n",
      "19      5.100000     3.800000      1.500000     0.300000       1\n",
      "20      5.653194     4.321991      1.468796     0.400000       1\n",
      "21      5.193597     3.640395      1.415599     0.315599       1\n",
      "22      5.140659     3.811617      1.482575     0.294192       1\n",
      "23      5.659853     4.333088      1.473235     0.400000       1\n",
      "24      5.219665     3.839888      1.420223     0.339888       1\n",
      "25      5.700000     3.975156      1.641615     0.329193       1\n",
      "26      5.114409     3.804117      1.493825     0.297942       1\n",
      "27      5.409027     3.896991      1.312036     0.396991       1\n"
     ]
    }
   ],
   "source": [
    "import numpy as np\n",
    "import pandas as pd\n",
    "from imblearn.over_sampling import SMOTE\n",
    "import matplotlib.pyplot as plt\n",
    "\n",
    "# Datos de ejemplo\n",
    "data = {\n",
    "    'sepal_length': [5.1, 4.9, 4.7, 4.6, 5.0, 5.4, 4.6, 5.0, 4.4, 4.9, 5.4, 4.8, 4.8, 4.3, 5.8, 5.7, 5.4, 5.1, 5.7, 5.1],\n",
    "    'sepal_width': [3.5, 3.0, 3.2, 3.1, 3.6, 3.9, 3.4, 3.4, 2.9, 3.1, 3.7, 3.4, 3.0, 3.0, 4.0, 4.4, 3.9, 3.5, 3.8, 3.8],\n",
    "    'petal_length': [1.4, 1.4, 1.3, 1.5, 1.4, 1.7, 1.4, 1.5, 1.4, 1.5, 1.5, 1.6, 1.4, 1.1, 1.2, 1.5, 1.3, 1.4, 1.7, 1.5],\n",
    "    'petal_width': [0.2, 0.2, 0.2, 0.2, 0.2, 0.4, 0.3, 0.2, 0.2, 0.1, 0.2, 0.2, 0.1, 0.1, 0.2, 0.4, 0.4, 0.3, 0.3, 0.3],\n",
    "    'target': [0, 0, 0, 0, 0, 0, 0, 0, 0, 0, 0, 0, 0, 0, 1, 1, 1, 1, 1, 1]\n",
    "}\n",
    "\n",
    "# Crear DataFrame\n",
    "df = pd.DataFrame(data)\n",
    "\n",
    "# Contar las clases en los datos originales\n",
    "original_counts = df['target'].value_counts().to_dict()\n",
    "\n",
    "# Crear gráfico de barras para las clases originales\n",
    "plt.bar(original_counts.keys(), original_counts.values())\n",
    "plt.xlabel('Clase')\n",
    "plt.ylabel('Cantidad')\n",
    "plt.title('Datos originales')\n",
    "plt.show()\n",
    "\n",
    "# Aplicar SMOTE\n",
    "smote = SMOTE(random_state=42)\n",
    "X_resampled, y_resampled = smote.fit_resample(df.drop('target', axis=1), df['target'])\n",
    "\n",
    "# Crear DataFrame a partir de los datos sobremuestreados\n",
    "df_resampled = pd.DataFrame(X_resampled, columns=df.columns[:-1])\n",
    "df_resampled['target'] = y_resampled\n",
    "\n",
    "# Contar las clases en los datos sobremuestreados\n",
    "resampled_counts = df_resampled['target'].value_counts().to_dict()\n",
    "\n",
    "# Crear gráfico de barras para las clases sobremuestreadas\n",
    "plt.bar(resampled_counts.keys(), resampled_counts.values())\n",
    "plt.xlabel('Clase')\n",
    "plt.ylabel('Cantidad')\n",
    "plt.title('Datos sobremuestreados')\n",
    "plt.show()\n",
    "\n",
    "# Mostrar el DataFrame sobremuestreado\n",
    "print(df_resampled)"
   ]
  },
  {
   "attachments": {},
   "cell_type": "markdown",
   "metadata": {},
   "source": [
    "En este ejemplo, los datos originales contienen una clase minoritaria (target = 1) con solo 6 ejemplos, mientras que la clase mayoritaria (target = 0) tiene 14 ejemplos. Después de aplicar SMOTE, se generan ejemplos sintéticos para la clase minoritaria, lo que resulta en un conjunto de datos equilibrado con 14 ejemplos para cada clase. Los gráficos de barras muestran la distribución de las clases antes y después del sobremuestreo. El DataFrame sobremuestreado se imprime en la consola."
   ]
  },
  {
   "attachments": {},
   "cell_type": "markdown",
   "metadata": {},
   "source": [
    "![Oversampling, SMOTE](../img/Oversampling%2C%20SMOTE.png \"Oversampling, SMOTE\")"
   ]
  },
  {
   "attachments": {},
   "cell_type": "markdown",
   "metadata": {},
   "source": [
    "## **Escalamiento y normalización**"
   ]
  },
  {
   "attachments": {},
   "cell_type": "markdown",
   "metadata": {},
   "source": [
    "El escalamiento y la normalización son técnicas utilizadas para ajustar los valores de las características de un conjunto de datos. Estas técnicas son especialmente útiles en algoritmos de aprendizaje automático que se basan en cálculos numéricos, como la regresión lineal, el algoritmo k-means o las redes neuronales.\n",
    "\n",
    "El escalamiento se refiere a la transformación de los valores de las características para que se ajusten a un rango específico. La normalización se refiere a la transformación de los valores de las características para que tengan una distribución normal o gaussiana.\n",
    "\n",
    "Aquí tienes un ejemplo de código en Python utilizando la biblioteca scikit-learn para aplicar el escalamiento y la normalización a un conjunto de datos y visualizar el efecto en las características:"
   ]
  },
  {
   "cell_type": "code",
   "execution_count": 11,
   "metadata": {},
   "outputs": [
    {
     "data": {
      "image/png": "[encoded data removed]",
      "text/plain": [
       "<Figure size 432x288 with 1 Axes>"
      ]
     },
     "metadata": {
      "needs_background": "light"
     },
     "output_type": "display_data"
    },
    {
     "data": {
      "image/png": "[encoded data removed]",
      "text/plain": [
       "<Figure size 432x288 with 1 Axes>"
      ]
     },
     "metadata": {
      "needs_background": "light"
     },
     "output_type": "display_data"
    },
    {
     "name": "stdout",
     "output_type": "stream",
     "text": [
      "Escalamiento Min-Max:\n",
      "   feature1  feature2\n",
      "0      0.00  0.000000\n",
      "1      0.25  0.000900\n",
      "2      0.50  0.009901\n",
      "3      0.75  0.099910\n",
      "4      1.00  1.000000\n",
      "Normalización Z-score:\n",
      "   feature1  feature2\n",
      "0 -1.414214 -0.568533\n",
      "1 -0.707107 -0.566229\n",
      "2  0.000000 -0.543193\n",
      "3  0.707107 -0.312831\n",
      "4  1.414214  1.990787\n"
     ]
    }
   ],
   "source": [
    "import numpy as np\n",
    "import pandas as pd\n",
    "from sklearn.preprocessing import MinMaxScaler, StandardScaler\n",
    "import matplotlib.pyplot as plt\n",
    "\n",
    "# Datos de ejemplo\n",
    "data = {\n",
    "    'feature1': [10, 20, 30, 40, 50],\n",
    "    'feature2': [0.001, 0.01, 0.1, 1, 10],\n",
    "}\n",
    "\n",
    "# Crear DataFrame\n",
    "df = pd.DataFrame(data)\n",
    "\n",
    "# Escalamiento Min-Max\n",
    "scaler = MinMaxScaler()\n",
    "df_scaled_minmax = scaler.fit_transform(df)\n",
    "\n",
    "# Crear gráfico de dispersión antes del escalamiento\n",
    "plt.scatter(df['feature1'], df['feature2'], label='Antes del escalamiento')\n",
    "plt.xlabel('Feature 1')\n",
    "plt.ylabel('Feature 2')\n",
    "\n",
    "# Crear gráfico de dispersión después del escalamiento Min-Max\n",
    "plt.scatter(df_scaled_minmax[:, 0], df_scaled_minmax[:, 1], label='Después del escalamiento Min-Max')\n",
    "plt.legend()\n",
    "plt.title('Escalamiento Min-Max')\n",
    "plt.show()\n",
    "\n",
    "# Normalización Z-score\n",
    "scaler = StandardScaler()\n",
    "df_scaled_zscore = scaler.fit_transform(df)\n",
    "\n",
    "# Crear gráfico de dispersión antes de la normalización\n",
    "plt.scatter(df['feature1'], df['feature2'], label='Antes de la normalización')\n",
    "plt.xlabel('Feature 1')\n",
    "plt.ylabel('Feature 2')\n",
    "\n",
    "# Crear gráfico de dispersión después de la normalización Z-score\n",
    "plt.scatter(df_scaled_zscore[:, 0], df_scaled_zscore[:, 1], label='Después de la normalización Z-score')\n",
    "plt.legend()\n",
    "plt.title('Normalización Z-score')\n",
    "plt.show()\n",
    "\n",
    "# Mostrar los DataFrames escalados y normalizados\n",
    "df_scaled_minmax = pd.DataFrame(df_scaled_minmax, columns=df.columns)\n",
    "df_scaled_zscore = pd.DataFrame(df_scaled_zscore, columns=df.columns)\n",
    "print(\"Escalamiento Min-Max:\")\n",
    "print(df_scaled_minmax)\n",
    "print(\"Normalización Z-score:\")\n",
    "print(df_scaled_zscore)"
   ]
  },
  {
   "attachments": {},
   "cell_type": "markdown",
   "metadata": {},
   "source": [
    "En este ejemplo, tenemos un conjunto de datos con dos características: feature1 y feature2. Aplicamos dos técnicas de transformación: el escalamiento Min-Max y la normalización Z-score.\n",
    "\n",
    "El escalamiento Min-Max ajusta los valores de las características al rango [0, 1]. En el gráfico de dispersión antes del escalamiento, los puntos están dispersos a lo largo de diferentes escalas. Después del escalamiento Min-Max, los valores se ajustan al rango [0, 1], lo que hace que los puntos estén más cerca unos de otros y se vean más compactos.\n",
    "\n",
    "La normalización Z-score ajusta los valores de las características para tener una media de 0 y una desviación estándar de 1. En el gráfico de dispersión antes de la normalización, los puntos están dispersos y no siguen una distribución específica. Después de la normalización Z-score, los valores se transforman para tener una distribución más cercana a la normal, con una media de 0 y una desviación estándar de 1.\n",
    "\n",
    "Los DataFrames resultantes de los escalamientos y normalizaciones se imprimen en la consola."
   ]
  },
  {
   "attachments": {},
   "cell_type": "markdown",
   "metadata": {},
   "source": [
    "## **Validación Cruzada**"
   ]
  },
  {
   "attachments": {},
   "cell_type": "markdown",
   "metadata": {},
   "source": [
    "La validación cruzada es una técnica utilizada para evaluar el rendimiento de un modelo de aprendizaje automático y estimar su capacidad para generalizar a datos no vistos. Consiste en dividir el conjunto de datos en subconjuntos de entrenamiento y prueba de manera repetida, lo que permite obtener múltiples medidas de rendimiento y reducir la dependencia de una sola división de datos.\n",
    "\n",
    "Aquí tienes un ejemplo de código en Python utilizando la biblioteca scikit-learn para realizar la validación cruzada en un modelo de regresión:"
   ]
  },
  {
   "cell_type": "code",
   "execution_count": 13,
   "metadata": {},
   "outputs": [
    {
     "name": "stdout",
     "output_type": "stream",
     "text": [
      "Error cuadrático medio para cada división:\n",
      "[0.48485857 0.62249739 0.64621047 0.5431996  0.49468484]\n",
      "Error cuadrático medio promedio:  0.5582901717686795\n",
      "Desviación estándar del error cuadrático medio:  0.06560199778304107\n"
     ]
    }
   ],
   "source": [
    "import numpy as np\n",
    "import pandas as pd\n",
    "from sklearn.model_selection import cross_val_score\n",
    "from sklearn.linear_model import LinearRegression\n",
    "from sklearn.datasets import fetch_california_housing\n",
    "\n",
    "# Cargar los datos de viviendas de California\n",
    "california_housing = fetch_california_housing()\n",
    "X = california_housing.data\n",
    "y = california_housing.target\n",
    "\n",
    "# Crear un modelo de regresión lineal\n",
    "model = LinearRegression()\n",
    "\n",
    "# Realizar la validación cruzada con 5 divisiones\n",
    "scores = cross_val_score(model, X, y, cv=5, scoring='neg_mean_squared_error')\n",
    "\n",
    "# Convertir los puntajes en valores positivos\n",
    "mse_scores = -scores\n",
    "\n",
    "# Imprimir los puntajes de error cuadrático medio\n",
    "print(\"Error cuadrático medio para cada división:\")\n",
    "print(mse_scores)\n",
    "\n",
    "# Imprimir el error cuadrático medio promedio y la desviación estándar\n",
    "print(\"Error cuadrático medio promedio: \", np.mean(mse_scores))\n",
    "print(\"Desviación estándar del error cuadrático medio: \", np.std(mse_scores))"
   ]
  },
  {
   "attachments": {},
   "cell_type": "markdown",
   "metadata": {},
   "source": [
    "Finalmente, se imprimen los puntajes de error cuadrático medio para cada división, así como el error cuadrático medio promedio y la desviación estándar de los puntajes.\n",
    "\n",
    "La validación cruzada proporciona una estimación más robusta y confiable del rendimiento del modelo, ya que utiliza múltiples divisiones de los datos para evaluar su capacidad de generalización. Esto es especialmente útil cuando se tienen conjuntos de datos pequeños o cuando se desea obtener una estimación más precisa del rendimiento del modelo."
   ]
  },
  {
   "attachments": {},
   "cell_type": "markdown",
   "metadata": {},
   "source": [
    "![Validación Cruzada](../img/Validaci%C3%B3n%20Cruzada.jpg \"Validación Cruzada\")"
   ]
  },
  {
   "attachments": {},
   "cell_type": "markdown",
   "metadata": {},
   "source": [
    "| **Inicio** | **atrás 3** |\n",
    "|----------- |-------------- |\n",
    "| [🏠](../../../README.md) | [⏪](./3.SELECCION_DE_CARACTERISTICAS.ipynb)|"
   ]
  }
 ],
 "metadata": {
  "kernelspec": {
   "display_name": "base",
   "language": "python",
   "name": "python3"
  },
  "language_info": {
   "codemirror_mode": {
    "name": "ipython",
    "version": 3
   },
   "file_extension": ".py",
   "mimetype": "text/x-python",
   "name": "python",
   "nbconvert_exporter": "python",
   "pygments_lexer": "ipython3",
   "version": "3.9.12"
  },
  "orig_nbformat": 4
 },
 "nbformat": 4,
 "nbformat_minor": 2
}
