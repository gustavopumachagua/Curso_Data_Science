{
 "cells": [
  {
   "attachments": {},
   "cell_type": "markdown",
   "metadata": {},
   "source": [
    "| **Inicio** | **atrás 1** | **Siguiente 3** |\n",
    "|----------- |-------------- |---------------|\n",
    "| [🏠](../../../README.md) | [⏪](./1.REGRESION_LINEAL.ipynb)| [⏩](./3.ANALISIS_DISCRIMINANTE.ipynb)|"
   ]
  },
  {
   "attachments": {},
   "cell_type": "markdown",
   "metadata": {},
   "source": [
    "# **2. REGRESIÓN LOGÍSTICA**"
   ]
  },
  {
   "attachments": {},
   "cell_type": "markdown",
   "metadata": {},
   "source": [
    "## **Formulación a partir del Modelo Lineal Generalizado**"
   ]
  },
  {
   "attachments": {},
   "cell_type": "markdown",
   "metadata": {},
   "source": [
    "La formulación a partir del Modelo Lineal Generalizado (MLG) es una extensión del modelo lineal clásico que permite modelar y analizar diferentes tipos de variables de respuesta, incluyendo variables binarias, conteos y variables continuas. El MLG se basa en la idea de que la variable de respuesta depende de una combinación lineal de las variables predictoras, a través de una función de enlace y una función de varianza.\n",
    "\n",
    "La formulación general del MLG se puede expresar de la siguiente manera:\n",
    "\n",
    "1. **Variables de respuesta:** La variable de respuesta se denota como `Y` y puede pertenecer a diferentes tipos, como binaria (0 o 1), conteo o continua.\n",
    "\n",
    "2. **Predictoras:** Las variables predictoras, también conocidas como variables independientes o covariables, se denotan como `X` y pueden ser múltiples. Estas variables se consideran linealmente relacionadas con la variable de respuesta.\n",
    "\n",
    "3. **Función de enlace:** La función de enlace se utiliza para relacionar la combinación lineal de las variables predictoras con el valor esperado de la variable de respuesta. Ejemplos de funciones de enlace comunes incluyen la función `logit` para variables binarias, la función logarítmica para variables de conteo y la función identidad para variables continuas.\n",
    "\n",
    "4. **Función de varianza:** La función de varianza describe cómo varía la varianza de la variable de respuesta en función de los valores de las variables predictoras. Dependiendo del tipo de variable de respuesta, se pueden utilizar diferentes funciones de varianza, como la función de varianza constante para variables continuas o la función de varianza dependiente de la media para variables de conteo.\n",
    "\n",
    "A continuación, se muestra un ejemplo de implementación en Python utilizando el módulo `statsmodels`:"
   ]
  },
  {
   "cell_type": "code",
   "execution_count": 1,
   "metadata": {},
   "outputs": [
    {
     "name": "stdout",
     "output_type": "stream",
     "text": [
      "                 Generalized Linear Model Regression Results                  \n",
      "==============================================================================\n",
      "Dep. Variable:                      y   No. Observations:                    3\n",
      "Model:                            GLM   Df Residuals:                        1\n",
      "Model Family:                Binomial   Df Model:                            1\n",
      "Link Function:                  Logit   Scale:                          1.0000\n",
      "Method:                          IRLS   Log-Likelihood:                -1.9095\n",
      "Date:                Sat, 01 Jul 2023   Deviance:                       3.8191\n",
      "Time:                        11:48:31   Pearson chi2:                     3.00\n",
      "No. Iterations:                     4   Pseudo R-squ. (CS):         -2.220e-16\n",
      "Covariance Type:            nonrobust                                         \n",
      "==============================================================================\n",
      "                 coef    std err          z      P>|z|      [0.025      0.975]\n",
      "------------------------------------------------------------------------------\n",
      "const         -0.4621      1.931     -0.239      0.811      -4.247       3.323\n",
      "x1             0.2310      1.315      0.176      0.861      -2.346       2.808\n",
      "x2            -0.2310      0.645     -0.358      0.720      -1.496       1.034\n",
      "==============================================================================\n"
     ]
    },
    {
     "name": "stderr",
     "output_type": "stream",
     "text": [
      "/home/puma/anaconda3/lib/python3.9/site-packages/statsmodels/regression/_tools.py:121: RuntimeWarning: divide by zero encountered in double_scalars\n",
      "  scale = np.dot(wresid, wresid) / df_resid\n"
     ]
    }
   ],
   "source": [
    "import numpy as np\n",
    "import statsmodels.api as sm\n",
    "\n",
    "# Datos de ejemplo\n",
    "X = np.array([[1, 2],\n",
    "              [3, 4],\n",
    "              [5, 6]])\n",
    "Y = np.array([0, 1, 0])\n",
    "\n",
    "# Agregar una constante a la matriz X para el término de intercepción\n",
    "X = sm.add_constant(X)\n",
    "\n",
    "# Crear el modelo lineal generalizado\n",
    "model = sm.GLM(Y, X, family=sm.families.Binomial())\n",
    "\n",
    "# Ajustar el modelo a los datos\n",
    "results = model.fit()\n",
    "\n",
    "# Imprimir los resultados\n",
    "print(results.summary())"
   ]
  },
  {
   "attachments": {},
   "cell_type": "markdown",
   "metadata": {},
   "source": [
    "En este ejemplo, se ajusta un modelo lineal generalizado utilizando la familia binomial, que es apropiada para variables de respuesta binarias. Se utilizan dos variables predictoras y se agrega una constante a la matriz `X` para el término de intercepción. Luego, se ajusta el modelo a los datos y se imprimen los resultados resumidos.\n",
    "\n",
    "Es importante destacar que el `MLG` ofrece una forma flexible de modelar diferentes tipos de variables de respuesta y permite realizar inferencias y realizar pruebas de hipótesis sobre los coeficientes del modelo. La elección de la familia y las funciones de enlace y varianza dependen del tipo de variable de respuesta y de las suposiciones del problema específico."
   ]
  },
  {
   "attachments": {},
   "cell_type": "markdown",
   "metadata": {},
   "source": [
    "## **Estimación de parámetros**"
   ]
  },
  {
   "attachments": {},
   "cell_type": "markdown",
   "metadata": {},
   "source": [
    "La estimación de parámetros es un proceso fundamental en el análisis estadístico y consiste en determinar los valores más adecuados para los parámetros de un modelo estadístico a partir de los datos observados. Los parámetros representan las características desconocidas de la población subyacente que se desea modelar o analizar.\n",
    "\n",
    "Existen diferentes métodos para estimar los parámetros, y uno de los más utilizados es el método de máxima verosimilitud. Este método busca encontrar los valores de los parámetros que maximizan la probabilidad de observar los datos dados los valores de los parámetros. En otras palabras, busca encontrar los valores de los parámetros que hacen que los datos observados sean los más probables bajo el modelo propuesto.\n",
    "\n",
    "A continuación, se presenta un ejemplo de estimación de parámetros utilizando el método de máxima verosimilitud en Python:"
   ]
  },
  {
   "cell_type": "code",
   "execution_count": 2,
   "metadata": {},
   "outputs": [
    {
     "data": {
      "image/png": "[encoded data removed]",
      "text/plain": [
       "<Figure size 432x288 with 1 Axes>"
      ]
     },
     "metadata": {
      "needs_background": "light"
     },
     "output_type": "display_data"
    },
    {
     "name": "stdout",
     "output_type": "stream",
     "text": [
      "Parámetros estimados:\n",
      "Media (mu): 4.46\n",
      "Desviación estándar (sigma): 1.6475436261295178\n"
     ]
    }
   ],
   "source": [
    "import numpy as np\n",
    "import matplotlib.pyplot as plt\n",
    "from scipy.stats import norm\n",
    "\n",
    "# Datos de ejemplo\n",
    "data = np.array([2.1, 3.5, 4.2, 5.7, 6.8])\n",
    "\n",
    "# Estimar parámetros utilizando la distribución normal\n",
    "mu_est, sigma_est = norm.fit(data)\n",
    "\n",
    "# Graficar el histograma de los datos\n",
    "plt.hist(data, bins='auto', density=True, alpha=0.7, rwidth=0.85, label='Datos')\n",
    "\n",
    "# Graficar la distribución ajustada\n",
    "x = np.linspace(min(data), max(data), 100)\n",
    "y = norm.pdf(x, mu_est, sigma_est)\n",
    "plt.plot(x, y, 'r-', label='Distribución ajustada')\n",
    "\n",
    "plt.xlabel('Valores')\n",
    "plt.ylabel('Densidad')\n",
    "plt.title('Estimación de parámetros')\n",
    "plt.legend()\n",
    "plt.show()\n",
    "\n",
    "print('Parámetros estimados:')\n",
    "print('Media (mu):', mu_est)\n",
    "print('Desviación estándar (sigma):', sigma_est)"
   ]
  },
  {
   "attachments": {},
   "cell_type": "markdown",
   "metadata": {},
   "source": [
    "En este ejemplo, se tienen datos de muestra almacenados en el arreglo `data`. Se utiliza la distribución normal para modelar los datos y se estima la media y la desviación estándar utilizando el método de máxima verosimilitud. Luego, se grafican los datos observados en forma de histograma y se superpone la distribución normal ajustada. Por último, se imprimen los valores estimados de los parámetros.\n",
    "\n",
    "Es importante destacar que la estimación de parámetros depende del modelo estadístico y de las suposiciones subyacentes. Otros métodos de estimación, como los estimadores de momentos o los estimadores de mínimos cuadrados, también se utilizan en diferentes contextos según las propiedades del modelo y los datos disponibles. La elección del método de estimación adecuado requiere un análisis cuidadoso y la comprensión de las propiedades del modelo y los datos."
   ]
  },
  {
   "attachments": {},
   "cell_type": "markdown",
   "metadata": {},
   "source": [
    "![Estimación de parámetros](../img/Estimaci%C3%B3n%20de%20par%C3%A1metros.jpg \"Estimación de parámetros\")"
   ]
  },
  {
   "attachments": {},
   "cell_type": "markdown",
   "metadata": {},
   "source": [
    "## **Pruebas de hipótesis**"
   ]
  },
  {
   "attachments": {},
   "cell_type": "markdown",
   "metadata": {},
   "source": [
    "Las pruebas de hipótesis son herramientas estadísticas que nos permiten tomar decisiones objetivas sobre afirmaciones o suposiciones acerca de una población o un fenómeno en particular. Estas pruebas se basan en la recolección de datos y en la comparación de los resultados observados con una hipótesis nula y una hipótesis alternativa.\n",
    "\n",
    "El proceso de realizar una prueba de hipótesis generalmente implica los siguientes pasos:\n",
    "\n",
    "1. **Formulación de las hipótesis:**\n",
    "\n",
    "* **Hipótesis nula (H0):** Es la afirmación o suposición inicial que se quiere poner a prueba. Se representa como `H0`.\n",
    "* **Hipótesis alternativa (H1 o Ha):** Es la afirmación contraria a la hipótesis nula. Representa una posible explicación o conclusión diferente a la hipótesis nula.\n",
    "\n",
    "2. **Selección del nivel de significancia (α):**\n",
    "\n",
    "* El nivel de significancia es la probabilidad de cometer un error de tipo `I`, es decir, rechazar incorrectamente la hipótesis nula cuando es verdadera. Generalmente se elige un nivel de significancia de 0.05 (5%), pero puede variar según el contexto.\n",
    "\n",
    "3. **Recolección de datos y cálculo de estadísticos de prueba:**\n",
    "\n",
    "* Se recolectan los datos necesarios y se calcula un estadístico de prueba apropiado según el tipo de prueba de hipótesis que se esté realizando. El estadístico de prueba puede ser una media, una proporción, una diferencia de medias, etc., y se utiliza para tomar una decisión sobre la hipótesis nula.\n",
    "\n",
    "4. **Cálculo del valor p:**\n",
    "\n",
    "El valor `p` es la probabilidad de obtener un resultado igual o más extremo que el observado, asumiendo que la hipótesis nula es verdadera. Se calcula utilizando el estadístico de prueba y la distribución de probabilidad correspondiente.\n",
    "\n",
    "5. **Toma de decisión:**\n",
    "\n",
    "Se compara el valor `p` con el nivel de significancia establecido. Si el valor `p` es menor que el nivel de significancia, se rechaza la hipótesis nula y se acepta la hipótesis alternativa. Si el valor `p` es mayor que el nivel de significancia, no se rechaza la hipótesis nula.\n",
    "\n",
    "A continuación, se presenta un ejemplo de una prueba de hipótesis para la media utilizando la prueba t de Student en Python:"
   ]
  },
  {
   "cell_type": "code",
   "execution_count": 3,
   "metadata": {},
   "outputs": [
    {
     "data": {
      "image/png": "[encoded data removed]",
      "text/plain": [
       "<Figure size 432x288 with 1 Axes>"
      ]
     },
     "metadata": {
      "needs_background": "light"
     },
     "output_type": "display_data"
    },
    {
     "name": "stdout",
     "output_type": "stream",
     "text": [
      "Se rechaza la hipótesis nula.\n"
     ]
    }
   ],
   "source": [
    "import numpy as np\n",
    "from scipy import stats\n",
    "import matplotlib.pyplot as plt\n",
    "\n",
    "# Datos de ejemplo\n",
    "data = np.array([25, 28, 31, 27, 30, 26, 29, 28, 32, 27])\n",
    "\n",
    "# Prueba de hipótesis para la media\n",
    "null_mean = 30  # Hipótesis nula: la media es igual a 30\n",
    "alpha = 0.05  # Nivel de significancia\n",
    "\n",
    "t_stat, p_value = stats.ttest_1samp(data, null_mean)\n",
    "\n",
    "# Graficar la distribución t y la región de rechazo\n",
    "x = np.linspace(-5, 5, 100)\n",
    "y = stats.t.pdf(x, len(data) - 1)\n",
    "plt.plot(x, y, 'b-', label='Distribución t')\n",
    "\n",
    "critical_value = stats.t.ppf(1 - alpha, len(data) - 1)\n",
    "plt.fill_between(x, y, where=(x >= critical_value), color='red', alpha=0.3, label='Región de rechazo')\n",
    "\n",
    "plt.xlabel('Valor t')\n",
    "plt.ylabel('Densidad')\n",
    "plt.title('Prueba de hipótesis para la media')\n",
    "plt.legend()\n",
    "plt.show()\n",
    "\n",
    "if p_value < alpha:\n",
    "    print(\"Se rechaza la hipótesis nula.\")\n",
    "else:\n",
    "    print(\"No se rechaza la hipótesis nula.\")"
   ]
  },
  {
   "attachments": {},
   "cell_type": "markdown",
   "metadata": {},
   "source": [
    "En este ejemplo, se tienen datos de muestra almacenados en el arreglo `data`. Se realiza una prueba de hipótesis para determinar si la media de la población es igual a 30. Se utiliza la prueba t de Student y se calcula el valor `t` y el valor `p`. Luego, se grafica la distribución `t` y se resalta la región de rechazo correspondiente al nivel de significancia establecido. Por último, se toma la decisión de rechazar o no la hipótesis nula basándose en el valor `p`.\n",
    "\n",
    "Es importante recordar que las pruebas de hipótesis tienen limitaciones y que los resultados obtenidos no garantizan la veracidad absoluta de una afirmación. Sin embargo, proporcionan un marco estadístico para tomar decisiones basadas en evidencia empírica y ayudan a evaluar la plausibilidad de una hipótesis dada la información disponible."
   ]
  },
  {
   "attachments": {},
   "cell_type": "markdown",
   "metadata": {},
   "source": [
    "## **Diagnósticos**"
   ]
  },
  {
   "attachments": {},
   "cell_type": "markdown",
   "metadata": {},
   "source": [
    "El diagnóstico en el contexto de los modelos estadísticos se refiere a la evaluación de la calidad y adecuación del modelo a los datos observados. Consiste en examinar los residuos del modelo y realizar diferentes pruebas y gráficas para detectar posibles problemas o violaciones de los supuestos del modelo. El objetivo del diagnóstico es evaluar si el modelo es apropiado para describir los datos y si los resultados obtenidos son confiables.\n",
    "\n",
    "A continuación, se describen algunos métodos comunes de diagnóstico y se proporciona un ejemplo de código en Python para realizar el diagnóstico de un modelo lineal:\n",
    "\n",
    "1. **Análisis de residuos:**\n",
    "\n",
    "Los residuos son las diferencias entre los valores observados y los valores predichos por el modelo. Se examinan los residuos para verificar si siguen una distribución normal, si están homogéneamente dispersos y si no presentan patrones sistemáticos.\n"
   ]
  },
  {
   "cell_type": "code",
   "execution_count": 4,
   "metadata": {},
   "outputs": [
    {
     "data": {
      "image/png": "[encoded data removed]",
      "text/plain": [
       "<Figure size 432x288 with 1 Axes>"
      ]
     },
     "metadata": {
      "needs_background": "light"
     },
     "output_type": "display_data"
    }
   ],
   "source": [
    "import numpy as np\n",
    "import matplotlib.pyplot as plt\n",
    "\n",
    "# Datos de ejemplo\n",
    "x = np.array([1, 2, 3, 4, 5])\n",
    "y = np.array([2, 4, 6, 8, 10])\n",
    "\n",
    "# Ajuste del modelo lineal\n",
    "coefficients = np.polyfit(x, y, 1)\n",
    "y_pred = np.polyval(coefficients, x)\n",
    "\n",
    "# Cálculo de los residuos\n",
    "residuals = y - y_pred\n",
    "\n",
    "# Gráfico de los residuos\n",
    "plt.scatter(x, residuals)\n",
    "plt.axhline(0, color='red', linestyle='--')\n",
    "plt.xlabel('x')\n",
    "plt.ylabel('Residuos')\n",
    "plt.title('Gráfico de residuos')\n",
    "plt.show()"
   ]
  },
  {
   "attachments": {},
   "cell_type": "markdown",
   "metadata": {},
   "source": [
    "En este ejemplo, se ajusta un modelo lineal a los datos `x` e `y`. Luego, se calculan los residuos como la diferencia entre los valores observados `y` y los valores predichos `y_pred`. Se grafican los residuos en función de `x` y se traza una línea horizontal en cero para verificar si los residuos están centrados alrededor de cero y si no presentan un patrón sistemático.\n",
    "\n",
    "2. **Pruebas de normalidad de los residuos:**\n",
    "\n",
    "Se realizan pruebas estadísticas para verificar si los residuos siguen una distribución normal. Algunas pruebas comunes incluyen la prueba de normalidad de Shapiro-Wilk y la prueba de Kolmogorov-Smirnov."
   ]
  },
  {
   "cell_type": "code",
   "execution_count": 5,
   "metadata": {},
   "outputs": [
    {
     "name": "stdout",
     "output_type": "stream",
     "text": [
      "Los residuos no siguen una distribución normal.\n"
     ]
    }
   ],
   "source": [
    "from scipy import stats\n",
    "\n",
    "# Prueba de normalidad de Shapiro-Wilk\n",
    "_, p_value = stats.shapiro(residuals)\n",
    "\n",
    "if p_value < 0.05:\n",
    "    print(\"Los residuos no siguen una distribución normal.\")\n",
    "else:\n",
    "    print(\"Los residuos siguen una distribución normal.\")"
   ]
  },
  {
   "attachments": {},
   "cell_type": "markdown",
   "metadata": {},
   "source": [
    "En este ejemplo, se utiliza la prueba de normalidad de `Shapiro-Wilk` para evaluar si los residuos siguen una distribución normal. Se calcula el valor `p` y se compara con un nivel de significancia predefinido (por ejemplo, 0.05) para determinar si los residuos son normalmente distribuidos.\n",
    "\n",
    "Estos son solo ejemplos básicos de diagnósticos para modelos estadísticos. En la práctica, existen muchos otros métodos y gráficas disponibles para evaluar la calidad y el rendimiento de los modelos, como la gráfica de influencia, la detección de valores atípicos, la prueba de homogeneidad de varianzas, entre otros. La elección de los métodos de diagnóstico depende del tipo de modelo y los supuestos asociados a él."
   ]
  },
  {
   "attachments": {},
   "cell_type": "markdown",
   "metadata": {},
   "source": [
    "## **Curvas ROC**"
   ]
  },
  {
   "attachments": {},
   "cell_type": "markdown",
   "metadata": {},
   "source": [
    "La curva ROC (Receiver Operating Characteristic) es una herramienta utilizada en la evaluación de modelos de clasificación binaria. Representa la relación entre la tasa de verdaderos positivos (Sensibilidad) y la tasa de falsos positivos (1 - Especificidad) para diferentes umbrales de clasificación. La curva ROC permite visualizar y comparar el rendimiento de diferentes modelos y seleccionar el umbral óptimo para la clasificación.\n",
    "\n",
    "A continuación, se proporciona un ejemplo de cómo calcular y graficar la curva `ROC` en Python utilizando la biblioteca `scikit-learn`:"
   ]
  },
  {
   "cell_type": "code",
   "execution_count": 6,
   "metadata": {},
   "outputs": [
    {
     "data": {
      "image/png": "[encoded data removed]",
      "text/plain": [
       "<Figure size 432x288 with 1 Axes>"
      ]
     },
     "metadata": {
      "needs_background": "light"
     },
     "output_type": "display_data"
    }
   ],
   "source": [
    "import numpy as np\n",
    "import matplotlib.pyplot as plt\n",
    "from sklearn.datasets import make_classification\n",
    "from sklearn.model_selection import train_test_split\n",
    "from sklearn.linear_model import LogisticRegression\n",
    "from sklearn.metrics import roc_curve, roc_auc_score\n",
    "\n",
    "# Generar datos de ejemplo\n",
    "X, y = make_classification(n_samples=1000, n_features=10, random_state=42)\n",
    "\n",
    "# Dividir los datos en conjuntos de entrenamiento y prueba\n",
    "X_train, X_test, y_train, y_test = train_test_split(X, y, test_size=0.2, random_state=42)\n",
    "\n",
    "# Ajustar un modelo de regresión logística\n",
    "model = LogisticRegression()\n",
    "model.fit(X_train, y_train)\n",
    "\n",
    "# Obtener las probabilidades de clasificación para los datos de prueba\n",
    "probs = model.predict_proba(X_test)[:, 1]\n",
    "\n",
    "# Calcular la tasa de verdaderos positivos y la tasa de falsos positivos\n",
    "fpr, tpr, thresholds = roc_curve(y_test, probs)\n",
    "\n",
    "# Calcular el área bajo la curva ROC (AUC)\n",
    "auc = roc_auc_score(y_test, probs)\n",
    "\n",
    "# Graficar la curva ROC\n",
    "plt.plot(fpr, tpr, label='Curva ROC (AUC = {:.2f})'.format(auc))\n",
    "plt.plot([0, 1], [0, 1], '--', color='gray', label='Clasificador aleatorio')\n",
    "plt.xlabel('Tasa de falsos positivos')\n",
    "plt.ylabel('Tasa de verdaderos positivos')\n",
    "plt.title('Curva ROC')\n",
    "plt.legend()\n",
    "plt.show()"
   ]
  },
  {
   "attachments": {},
   "cell_type": "markdown",
   "metadata": {},
   "source": [
    "En este ejemplo, se generan datos de clasificación binaria utilizando `make_classification` de scikit-learn. Luego, se ajusta un modelo de regresión logística y se obtienen las probabilidades de clasificación para los datos de prueba. A partir de estas probabilidades, se calculan la tasa de verdaderos positivos (sensibilidad), la tasa de falsos positivos (1 - especificidad) y los umbrales correspondientes utilizando `roc_curve`. Además, se calcula el área bajo la curva ROC (AUC) utilizando `roc_auc_score`. Finalmente, se grafica la curva ROC y se muestra el valor del AUC en la leyenda del gráfico.\n",
    "\n",
    "La curva ROC es útil para evaluar y comparar diferentes modelos de clasificación, ya que proporciona información sobre el equilibrio entre la tasa de verdaderos positivos y la tasa de falsos positivos en diferentes puntos de corte. Un modelo con una curva ROC que se acerque al rincón superior izquierdo del gráfico se considera mejor, ya que indica una alta tasa de verdaderos positivos y una baja tasa de falsos positivos para la clasificación. El AUC también es un indicador de la calidad del modelo, donde un valor de 1.0 representa un modelo perfecto y un valor de 0.5 indica un clasificador aleatorio."
   ]
  },
  {
   "attachments": {},
   "cell_type": "markdown",
   "metadata": {},
   "source": [
    "![Curvas ROC](../img/Curvas%20ROC.png \"Curvas ROC\")"
   ]
  },
  {
   "attachments": {},
   "cell_type": "markdown",
   "metadata": {},
   "source": [
    "| **Inicio** | **atrás 1** | **Siguiente 3** |\n",
    "|----------- |-------------- |---------------|\n",
    "| [🏠](../../../README.md) | [⏪](./1.REGRESION_LINEAL.ipynb)| [⏩](./3.ANALISIS_DISCRIMINANTE.ipynb)|"
   ]
  }
 ],
 "metadata": {
  "kernelspec": {
   "display_name": "base",
   "language": "python",
   "name": "python3"
  },
  "language_info": {
   "codemirror_mode": {
    "name": "ipython",
    "version": 3
   },
   "file_extension": ".py",
   "mimetype": "text/x-python",
   "name": "python",
   "nbconvert_exporter": "python",
   "pygments_lexer": "ipython3",
   "version": "3.9.12"
  },
  "orig_nbformat": 4
 },
 "nbformat": 4,
 "nbformat_minor": 2
}
