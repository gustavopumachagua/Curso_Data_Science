{
 "cells": [
  {
   "attachments": {},
   "cell_type": "markdown",
   "metadata": {},
   "source": [
    "| **Inicio** | **atrás 6** | **Siguiente 8** |\n",
    "|----------- |-------------- |---------------|\n",
    "| [🏠](../../README.md) | [⏪](./6.Prueba_de_hipotesis.ipynb)| [⏩](./8.Distribuciones_de_Datos.ipynb)|"
   ]
  },
  {
   "attachments": {},
   "cell_type": "markdown",
   "metadata": {},
   "source": [
    "# **7. Rango, Varianza, Desviación Estándar y Rango Intercuartílico: Medidas de Dispersión**"
   ]
  },
  {
   "attachments": {},
   "cell_type": "markdown",
   "metadata": {},
   "source": [
    "## **Introducción a la medidas de dispersión**"
   ]
  },
  {
   "attachments": {},
   "cell_type": "markdown",
   "metadata": {},
   "source": [
    "Las medidas de dispersión son estadísticas que se utilizan para medir la variabilidad o dispersión de un conjunto de datos. Mientras que las medidas de tendencia central (como la media o la mediana) nos dicen dónde se concentran los datos, las medidas de dispersión nos indican cuánto se alejan los datos de ese valor central.\n",
    "\n",
    "Las medidas de dispersión más comunes son el rango, la desviación estándar y la varianza. El rango es la diferencia entre el valor máximo y el valor mínimo de un conjunto de datos, mientras que la desviación estándar y la varianza miden la dispersión de los datos con respecto a la media.\n",
    "\n",
    "La desviación estándar se define como la raíz cuadrada de la varianza. La varianza se define como la media de los cuadrados de las desviaciones de los datos con respecto a su media.\n",
    "\n",
    "En resumen, las medidas de dispersión nos ayudan a entender cómo se distribuyen los datos alrededor de su valor central."
   ]
  },
  {
   "attachments": {},
   "cell_type": "markdown",
   "metadata": {},
   "source": [
    "## **Rango**"
   ]
  },
  {
   "attachments": {},
   "cell_type": "markdown",
   "metadata": {},
   "source": [
    "El rango es una medida de dispersión que indica la diferencia entre el valor máximo y el valor mínimo de un conjunto de datos. Se puede calcular fácilmente en Python utilizando las funciones `max()` y `min()`.\n",
    "\n",
    "Aquí hay un ejemplo de cómo calcular el rango de una lista de números en Python:"
   ]
  },
  {
   "cell_type": "code",
   "execution_count": 1,
   "metadata": {},
   "outputs": [
    {
     "name": "stdout",
     "output_type": "stream",
     "text": [
      "El rango de los datos es: 8\n"
     ]
    }
   ],
   "source": [
    "datos = [3, 4, 1, 9, 5, 2, 7, 8, 6]\n",
    "rango = max(datos) - min(datos)\n",
    "print(\"El rango de los datos es:\", rango)"
   ]
  },
  {
   "attachments": {},
   "cell_type": "markdown",
   "metadata": {},
   "source": [
    "## **Varianza**"
   ]
  },
  {
   "attachments": {},
   "cell_type": "markdown",
   "metadata": {},
   "source": [
    "La varianza es una medida de dispersión que describe qué tan lejos se extienden los valores de un conjunto de datos en relación a su media. Matemáticamente, se define como la media de los cuadrados de las desviaciones de cada valor respecto a la media.\n",
    "\n",
    "La fórmula para calcular la varianza es:\n",
    "\n",
    "\n",
    "$Varianza = Σ(xi - μ)² / (n - 1)$\n",
    "\n",
    "Donde:\n",
    "\n",
    "* Σ(xi - μ)² es la suma de los cuadrados de las desviaciones de cada valor respecto a la media\n",
    "* n es el tamaño de la muestra\n",
    "* μ es la media de la muestra\n",
    "\n",
    "En Python, podemos calcular la varianza utilizando la función var() de la librería NumPy:"
   ]
  },
  {
   "cell_type": "code",
   "execution_count": 2,
   "metadata": {},
   "outputs": [
    {
     "name": "stdout",
     "output_type": "stream",
     "text": [
      "5.0\n"
     ]
    }
   ],
   "source": [
    "import numpy as np\n",
    "\n",
    "data = [2, 4, 5, 6, 8]\n",
    "variance = np.var(data, ddof=1)\n",
    "print(variance)"
   ]
  },
  {
   "attachments": {},
   "cell_type": "markdown",
   "metadata": {},
   "source": [
    "En este ejemplo, la variable data contiene un conjunto de datos y la función `var()` de NumPy calcula la varianza. El argumento `ddof=1` indica que se debe usar el denominador `n-1` en lugar de `n` en la fórmula de la varianza para ajustar el cálculo a una muestra.\n",
    "\n",
    "También podemos representar gráficamente la varianza mediante un diagrama de caja, el cual muestra la distribución de los datos, su mediana, y los percentiles `25` y `75`. La varianza se puede visualizar como la distancia entre el percentil `75` y el percentil `25`. Un diagrama de caja puede ser generado utilizando la función `boxplot()` de `Matplotlib`:"
   ]
  },
  {
   "cell_type": "code",
   "execution_count": 3,
   "metadata": {},
   "outputs": [
    {
     "data": {
      "image/png": "[encoded data removed]",
      "text/plain": [
       "<Figure size 432x288 with 1 Axes>"
      ]
     },
     "metadata": {
      "needs_background": "light"
     },
     "output_type": "display_data"
    }
   ],
   "source": [
    "import matplotlib.pyplot as plt\n",
    "\n",
    "data = [2, 4, 5, 6, 8]\n",
    "plt.boxplot(data)\n",
    "plt.title('Diagrama de caja de la varianza')\n",
    "plt.ylabel('Valor')\n",
    "plt.show()"
   ]
  },
  {
   "attachments": {},
   "cell_type": "markdown",
   "metadata": {},
   "source": [
    "## **Desviación estándar**"
   ]
  },
  {
   "attachments": {},
   "cell_type": "markdown",
   "metadata": {},
   "source": [
    "La desviación estándar es una medida de dispersión que indica cuánto se alejan los valores de una variable de su media. Se calcula como la raíz cuadrada de la varianza. La desviación estándar es útil porque se expresa en las mismas unidades que la variable original y puede interpretarse como una medida de dispersión típica.\n",
    "\n",
    "Aquí hay un ejemplo de cómo calcular la desviación estándar en Python usando la biblioteca NumPy:"
   ]
  },
  {
   "cell_type": "code",
   "execution_count": 4,
   "metadata": {},
   "outputs": [
    {
     "name": "stdout",
     "output_type": "stream",
     "text": [
      "La desviación estándar es: 1.4142135623730951\n"
     ]
    }
   ],
   "source": [
    "import numpy as np\n",
    "\n",
    "# Crear un arreglo de ejemplo\n",
    "data = np.array([1, 2, 3, 4, 5])\n",
    "\n",
    "# Calcular la desviación estándar\n",
    "std_dev = np.std(data)\n",
    "\n",
    "print(\"La desviación estándar es:\", std_dev)"
   ]
  },
  {
   "attachments": {},
   "cell_type": "markdown",
   "metadata": {},
   "source": [
    "También podemos graficar la distribución de los datos junto con la desviación estándar como una banda alrededor de la media utilizando la biblioteca Matplotlib:"
   ]
  },
  {
   "cell_type": "code",
   "execution_count": 5,
   "metadata": {},
   "outputs": [
    {
     "data": {
      "image/png": "[encoded data removed]",
      "text/plain": [
       "<Figure size 432x288 with 1 Axes>"
      ]
     },
     "metadata": {
      "needs_background": "light"
     },
     "output_type": "display_data"
    }
   ],
   "source": [
    "import matplotlib.pyplot as plt\n",
    "\n",
    "# Crear un arreglo de ejemplo\n",
    "data = np.array([1, 2, 3, 4, 5])\n",
    "\n",
    "# Calcular la media y la desviación estándar\n",
    "mean = np.mean(data)\n",
    "std_dev = np.std(data)\n",
    "\n",
    "# Crear la gráfica\n",
    "fig, ax = plt.subplots()\n",
    "\n",
    "# Dibujar los datos\n",
    "ax.hist(data)\n",
    "\n",
    "# Dibujar la media como una línea vertical\n",
    "ax.axvline(mean, color='k', linestyle='dashed', linewidth=1)\n",
    "\n",
    "# Dibujar la desviación estándar como una banda alrededor de la media\n",
    "ax.fill_betweenx([0, ax.get_ylim()[1]], mean - std_dev, mean + std_dev, alpha=0.2)\n",
    "\n",
    "# Agregar etiquetas\n",
    "ax.set_xlabel('Valor')\n",
    "ax.set_ylabel('Frecuencia')\n",
    "ax.set_title('Distribución de los datos')\n",
    "\n",
    "plt.show()"
   ]
  },
  {
   "attachments": {},
   "cell_type": "markdown",
   "metadata": {},
   "source": [
    "## **Rango intercuartílico**"
   ]
  },
  {
   "attachments": {},
   "cell_type": "markdown",
   "metadata": {},
   "source": [
    "El rango intercuartílico (`IQR`, por sus siglas en inglés) es otra medida de dispersión que se basa en la división de los datos en cuartiles. Es la diferencia entre el tercer cuartil (`Q3`) y el primer cuartil (`Q1`), es decir:\n",
    "\n",
    "$IQR = Q3 - Q1$\n",
    "\n",
    "Es útil para identificar la dispersión de los datos alrededor de la mediana, ya que se considera menos sensible a los valores atípicos que el rango.\n",
    "\n",
    "Aquí hay un ejemplo de cómo calcular y graficar el `IQR` en Python:"
   ]
  },
  {
   "cell_type": "code",
   "execution_count": 6,
   "metadata": {},
   "outputs": [
    {
     "data": {
      "image/png": "[encoded data removed]",
      "text/plain": [
       "<Figure size 432x288 with 1 Axes>"
      ]
     },
     "metadata": {
      "needs_background": "light"
     },
     "output_type": "display_data"
    }
   ],
   "source": [
    "import numpy as np\n",
    "import matplotlib.pyplot as plt\n",
    "\n",
    "# generar datos aleatorios\n",
    "data = np.random.normal(0, 1, 100)\n",
    "\n",
    "# calcular cuartiles\n",
    "q1, q3 = np.percentile(data, [25, 75])\n",
    "\n",
    "# calcular IQR\n",
    "iqr = q3 - q1\n",
    "\n",
    "# graficar el boxplot\n",
    "plt.boxplot(data)\n",
    "\n",
    "# agregar el valor del IQR al gráfico\n",
    "plt.text(1.1, q3, 'Q3', va='center')\n",
    "plt.text(1.1, q1, 'Q1', va='center')\n",
    "plt.text(1.2, (q1+q3)/2, f'IQR = {iqr:.2f}', va='center')\n",
    "plt.ylim([-4, 4])\n",
    "plt.show()"
   ]
  },
  {
   "attachments": {},
   "cell_type": "markdown",
   "metadata": {},
   "source": [
    "En este ejemplo, se generan `100` datos aleatorios de una distribución normal estándar. Luego, se calculan los cuartiles utilizando la función `percentile` de `NumPy`. A partir de los cuartiles, se calcula el `IQR`. Luego, se grafica un `boxplot` de los datos y se agregan las etiquetas para los cuartiles y el valor del `IQR` en el gráfico. La salida será una gráfica de un `boxplot` con la etiqueta del `IQR`."
   ]
  },
  {
   "attachments": {},
   "cell_type": "markdown",
   "metadata": {},
   "source": [
    "## **Medidas de dispersión con Numpy**"
   ]
  },
  {
   "cell_type": "code",
   "execution_count": 7,
   "metadata": {},
   "outputs": [
    {
     "name": "stdout",
     "output_type": "stream",
     "text": [
      "Rango: 9\n"
     ]
    }
   ],
   "source": [
    "# Rango\n",
    "\n",
    "import numpy as np\n",
    "\n",
    "# Creamos un arreglo de ejemplo\n",
    "datos = np.array([7, 10, 3, 5, 12, 8, 4])\n",
    "\n",
    "# Calculamos el rango\n",
    "rango = np.max(datos) - np.min(datos)\n",
    "\n",
    "print(\"Rango:\", rango)"
   ]
  },
  {
   "cell_type": "code",
   "execution_count": 8,
   "metadata": {},
   "outputs": [
    {
     "name": "stdout",
     "output_type": "stream",
     "text": [
      "Varianza: 9.142857142857142\n",
      "Desviación estándar: 3.0237157840738176\n"
     ]
    },
    {
     "data": {
      "image/png": "[encoded data removed]",
      "text/plain": [
       "<Figure size 432x288 with 1 Axes>"
      ]
     },
     "metadata": {
      "needs_background": "light"
     },
     "output_type": "display_data"
    }
   ],
   "source": [
    "# Varianza y desviación estándar\n",
    "\n",
    "import numpy as np\n",
    "import matplotlib.pyplot as plt\n",
    "\n",
    "# Creamos un arreglo de ejemplo\n",
    "datos = np.array([7, 10, 3, 5, 12, 8, 4])\n",
    "\n",
    "# Calculamos la varianza y desviación estándar\n",
    "varianza = np.var(datos)\n",
    "desviacion_estandar = np.std(datos)\n",
    "\n",
    "print(\"Varianza:\", varianza)\n",
    "print(\"Desviación estándar:\", desviacion_estandar)\n",
    "\n",
    "# Creamos un histograma de los datos\n",
    "plt.hist(datos)\n",
    "\n",
    "# Agregamos una línea vertical en la media\n",
    "plt.axvline(np.mean(datos), color='r', linestyle='dashed', linewidth=1)\n",
    "\n",
    "# Agregamos líneas verticales en la media ± desviación estándar\n",
    "plt.axvline(np.mean(datos) - desviacion_estandar, color='g', linestyle='dashed', linewidth=1)\n",
    "plt.axvline(np.mean(datos) + desviacion_estandar, color='g', linestyle='dashed', linewidth=1)\n",
    "\n",
    "plt.show()"
   ]
  },
  {
   "cell_type": "code",
   "execution_count": 9,
   "metadata": {},
   "outputs": [
    {
     "name": "stdout",
     "output_type": "stream",
     "text": [
      "Rango intercuartílico: 4.5\n"
     ]
    }
   ],
   "source": [
    "# Rango intercuartílico\n",
    "\n",
    "import numpy as np\n",
    "\n",
    "# Creamos un arreglo de ejemplo\n",
    "datos = np.array([7, 10, 3, 5, 12, 8, 4])\n",
    "\n",
    "# Calculamos el rango intercuartílico\n",
    "q3, q1 = np.percentile(datos, [75 ,25])\n",
    "rango_intercuartilico = q3 - q1\n",
    "\n",
    "print(\"Rango intercuartílico:\", rango_intercuartilico)"
   ]
  },
  {
   "attachments": {},
   "cell_type": "markdown",
   "metadata": {},
   "source": [
    "| **Inicio** | **atrás 6** | **Siguiente 8** |\n",
    "|----------- |-------------- |---------------|\n",
    "| [🏠](../../README.md) | [⏪](./6.Prueba_de_hipotesis.ipynb)| [⏩](./8.Distribuciones_de_Datos.ipynb)|"
   ]
  }
 ],
 "metadata": {
  "kernelspec": {
   "display_name": "base",
   "language": "python",
   "name": "python3"
  },
  "language_info": {
   "codemirror_mode": {
    "name": "ipython",
    "version": 3
   },
   "file_extension": ".py",
   "mimetype": "text/x-python",
   "name": "python",
   "nbconvert_exporter": "python",
   "pygments_lexer": "ipython3",
   "version": "3.9.12"
  },
  "orig_nbformat": 4
 },
 "nbformat": 4,
 "nbformat_minor": 2
}
