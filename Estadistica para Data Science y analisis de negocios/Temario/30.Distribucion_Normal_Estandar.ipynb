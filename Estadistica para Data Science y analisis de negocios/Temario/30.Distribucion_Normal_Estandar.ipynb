{
 "cells": [
  {
   "attachments": {},
   "cell_type": "markdown",
   "metadata": {},
   "source": [
    "| **Inicio** | **atrás 29** |\n",
    "|----------- |-------------- |\n",
    "| [🏠](../../README.md) | [⏪](./29.Distribucion_Normal.ipynb)|"
   ]
  },
  {
   "attachments": {},
   "cell_type": "markdown",
   "metadata": {},
   "source": [
    "# **30. De dónde vienen las Puntuaciones Z y la Distribución Normal Estándar**"
   ]
  },
  {
   "attachments": {},
   "cell_type": "markdown",
   "metadata": {},
   "source": [
    "## **1. Introducción**"
   ]
  },
  {
   "attachments": {},
   "cell_type": "markdown",
   "metadata": {},
   "source": [
    "Las puntuaciones Z y la distribución normal estándar están estrechamente relacionadas y son herramientas importantes en la estadística inferencial. Las puntuaciones Z son un tipo de transformación de datos que se utiliza para estandarizar una variable aleatoria con cualquier distribución. Por otro lado, la distribución normal estándar es una distribución normal con media cero y desviación estándar uno.\n",
    "\n",
    "Para obtener la puntuación Z de un valor específico, primero debemos restar la media de la distribución de los datos y luego dividir por la desviación estándar. Esto nos dará una medida de cuántas desviaciones estándar se encuentra el valor de interés de la media de la distribución.\n",
    "\n",
    "La distribución normal estándar se utiliza con frecuencia en la estadística inferencial porque permite la estandarización de diferentes distribuciones, lo que simplifica los cálculos y la interpretación de los resultados. Además, muchas pruebas estadísticas se basan en la distribución normal, lo que hace que la distribución normal estándar sea un modelo fundamental en la estadística.\n",
    "\n",
    "Es importante destacar que cualquier variable aleatoria con cualquier distribución se puede estandarizar utilizando la fórmula de la puntuación Z, pero solo las variables aleatorias que siguen una distribución normal estándar tienen una distribución específica con propiedades bien conocidas."
   ]
  },
  {
   "attachments": {},
   "cell_type": "markdown",
   "metadata": {},
   "source": [
    "## **2. Distribución Normal**"
   ]
  },
  {
   "attachments": {},
   "cell_type": "markdown",
   "metadata": {},
   "source": [
    "La distribución normal es una distribución de probabilidad continua que se utiliza comúnmente en estadística para describir datos que tienen una distribución simétrica alrededor de la media. Tiene una forma de campana y se caracteriza por dos parámetros: la media ($\\mu$) y la desviación estándar ($\\sigma$).\n",
    "\n",
    "En Python, la distribución normal se puede generar utilizando la función ```numpy.random.normal()``` de la librería NumPy. La función toma como argumentos la media, la desviación estándar y el tamaño de la muestra. A continuación se muestra un ejemplo de cómo generar y graficar una muestra de datos con distribución normal:"
   ]
  },
  {
   "cell_type": "code",
   "execution_count": 1,
   "metadata": {},
   "outputs": [
    {
     "data": {
      "image/png": "[encoded data removed]",
      "text/plain": [
       "<Figure size 432x288 with 1 Axes>"
      ]
     },
     "metadata": {
      "needs_background": "light"
     },
     "output_type": "display_data"
    }
   ],
   "source": [
    "import numpy as np\n",
    "import matplotlib.pyplot as plt\n",
    "\n",
    "# Generar una muestra de datos con distribución normal\n",
    "mu = 0  # media\n",
    "sigma = 1  # desviación estándar\n",
    "size = 10000  # tamaño de la muestra\n",
    "data = np.random.normal(mu, sigma, size)\n",
    "\n",
    "# Graficar el histograma de la muestra\n",
    "plt.hist(data, bins=50, density=True, alpha=0.6, color='b')\n",
    "\n",
    "# Graficar la curva de la distribución normal teórica\n",
    "x = np.linspace(mu - 4*sigma, mu + 4*sigma, 100)\n",
    "y = 1/(sigma * np.sqrt(2 * np.pi)) * np.exp( - (x - mu)**2 / (2 * sigma**2) )\n",
    "plt.plot(x, y, 'r--', linewidth=2)\n",
    "\n",
    "plt.show()\n"
   ]
  },
  {
   "attachments": {},
   "cell_type": "markdown",
   "metadata": {},
   "source": [
    "En este ejemplo, se generó una muestra de 10000 datos con una media de cero y una desviación estándar de uno. Luego se graficó el histograma de la muestra y la curva de la distribución normal teórica utilizando la fórmula matemática de la distribución normal estándar. El resultado es una gráfica que muestra la distribución normal de la muestra de datos generada"
   ]
  },
  {
   "attachments": {},
   "cell_type": "markdown",
   "metadata": {},
   "source": [
    "La curva roja representa la distribución normal teórica, mientras que el histograma azul representa la distribución empírica de la muestra generada. La curva teórica es simétrica alrededor de la media (cero) y tiene una desviación estándar de uno, lo que indica que la mayoría de los datos de la muestra se encuentran dentro del rango de $\\pm$3 desviaciones estándar alrededor de la media. Esta propiedad se puede utilizar para calcular las puntuaciones $Z$ y realizar pruebas de hipótesis estadísticas basadas en la distribución normal."
   ]
  },
  {
   "attachments": {},
   "cell_type": "markdown",
   "metadata": {},
   "source": [
    "## **3. Ejemplo con 2 muestras**"
   ]
  },
  {
   "attachments": {},
   "cell_type": "markdown",
   "metadata": {},
   "source": [
    "Supongamos que queremos comparar la altura promedio de hombres y mujeres. Tenemos dos muestras independientes, una con 100 hombres y otra con 100 mujeres, y queremos ver si hay una diferencia significativa entre las alturas promedio de ambas muestras.\n",
    "\n",
    "Primero, cargamos las librerías necesarias y generamos datos de altura aleatorios para cada muestra:"
   ]
  },
  {
   "cell_type": "code",
   "execution_count": 2,
   "metadata": {},
   "outputs": [],
   "source": [
    "import numpy as np\n",
    "import scipy.stats as stats\n",
    "\n",
    "# Generar datos aleatorios\n",
    "np.random.seed(123)  # Para reproducibilidad\n",
    "altura_hombres = np.random.normal(loc=175, scale=7, size=100)\n",
    "altura_mujeres = np.random.normal(loc=162, scale=6, size=100)\n"
   ]
  },
  {
   "attachments": {},
   "cell_type": "markdown",
   "metadata": {},
   "source": [
    "Luego, podemos calcular la media, la desviación estándar y el tamaño de cada muestra:"
   ]
  },
  {
   "cell_type": "code",
   "execution_count": 3,
   "metadata": {},
   "outputs": [],
   "source": [
    "# Calcular estadísticas descriptivas\n",
    "media_hombres = np.mean(altura_hombres)\n",
    "media_mujeres = np.mean(altura_mujeres)\n",
    "std_hombres = np.std(altura_hombres, ddof=1)\n",
    "std_mujeres = np.std(altura_mujeres, ddof=1)\n",
    "n_hombres = len(altura_hombres)\n",
    "n_mujeres = len(altura_mujeres)\n"
   ]
  },
  {
   "attachments": {},
   "cell_type": "markdown",
   "metadata": {},
   "source": [
    "Podemos graficar la distribución de alturas para cada muestra usando un histograma:"
   ]
  },
  {
   "cell_type": "code",
   "execution_count": 4,
   "metadata": {},
   "outputs": [
    {
     "data": {
      "image/png": "[encoded data removed]",
      "text/plain": [
       "<Figure size 432x288 with 1 Axes>"
      ]
     },
     "metadata": {
      "needs_background": "light"
     },
     "output_type": "display_data"
    }
   ],
   "source": [
    "import matplotlib.pyplot as plt\n",
    "\n",
    "# Graficar histogramas\n",
    "plt.hist(altura_hombres, bins=15, alpha=0.5, label='Hombres')\n",
    "plt.hist(altura_mujeres, bins=15, alpha=0.5, label='Mujeres')\n",
    "plt.axvline(x=media_hombres, color='blue', linestyle='--', label='Media hombres')\n",
    "plt.axvline(x=media_mujeres, color='orange', linestyle='--', label='Media mujeres')\n",
    "plt.legend()\n",
    "plt.show()\n"
   ]
  },
  {
   "attachments": {},
   "cell_type": "markdown",
   "metadata": {},
   "source": [
    "Esto debería producir una gráfica con dos histogramas superpuestos, uno para la altura de los hombres y otro para la altura de las mujeres, y dos líneas verticales punteadas que representan la altura promedio de cada muestra.\n",
    "\n",
    "Para hacer una comparación formal de las dos muestras, podemos realizar una prueba t de dos muestras. En este caso, asumimos que las dos muestras son independientes y que tienen varianzas iguales (aunque podemos usar una corrección de Welch si no se cumple esta última suposición). Usando la función ```ttest_ind``` de la librería ```scipy.stats```, podemos calcular el valor p de la prueba t:"
   ]
  },
  {
   "cell_type": "code",
   "execution_count": 5,
   "metadata": {},
   "outputs": [
    {
     "name": "stdout",
     "output_type": "stream",
     "text": [
      "Valor t: 13.50\n",
      "Valor p: 0.0000\n"
     ]
    }
   ],
   "source": [
    "# Prueba t de dos muestras\n",
    "t, p = stats.ttest_ind(altura_hombres, altura_mujeres)\n",
    "print('Valor t: {:.2f}'.format(t))\n",
    "print('Valor p: {:.4f}'.format(p))\n"
   ]
  },
  {
   "attachments": {},
   "cell_type": "markdown",
   "metadata": {},
   "source": [
    "## **4. Distribución Normal Estándar**"
   ]
  },
  {
   "attachments": {},
   "cell_type": "markdown",
   "metadata": {},
   "source": [
    "La distribución normal estándar es una distribución normal con una media de cero y una desviación estándar de uno. Esta distribución se utiliza comúnmente en la estadística para estandarizar los datos y hacerlos comparables.\n",
    "\n",
    "En Python, se puede generar una distribución normal estándar utilizando la librería ```numpy``` y la función ```random.normal()``` especificando una media de cero y una desviación estándar de uno:"
   ]
  },
  {
   "cell_type": "code",
   "execution_count": 6,
   "metadata": {},
   "outputs": [
    {
     "data": {
      "image/png": "[encoded data removed]",
      "text/plain": [
       "<Figure size 432x288 with 1 Axes>"
      ]
     },
     "metadata": {
      "needs_background": "light"
     },
     "output_type": "display_data"
    }
   ],
   "source": [
    "import numpy as np\n",
    "import matplotlib.pyplot as plt\n",
    "\n",
    "# Generar datos de la distribución normal estándar\n",
    "data = np.random.normal(0, 1, 10000)\n",
    "\n",
    "# Crear un histograma de los datos generados\n",
    "plt.hist(data, bins=50)\n",
    "plt.title(\"Distribución Normal Estándar\")\n",
    "plt.xlabel(\"Valores\")\n",
    "plt.ylabel(\"Frecuencia\")\n",
    "plt.show()\n"
   ]
  },
  {
   "attachments": {},
   "cell_type": "markdown",
   "metadata": {},
   "source": [
    "## **5. Estandarización de las muestras**"
   ]
  },
  {
   "attachments": {},
   "cell_type": "markdown",
   "metadata": {},
   "source": [
    "La estandarización de una muestra es un proceso mediante el cual se transforma la distribución de los datos de la muestra en una distribución normal estándar, es decir, una distribución normal con media cero y desviación estándar igual a uno. Esto se logra restando la media de la muestra a cada uno de los valores de la muestra y luego dividiendo el resultado entre la desviación estándar de la muestra.\n",
    "\n",
    "A continuación se presenta un ejemplo con código y gráfica para ilustrar la estandarización de una muestra:"
   ]
  },
  {
   "cell_type": "code",
   "execution_count": 7,
   "metadata": {},
   "outputs": [
    {
     "data": {
      "image/png": "[encoded data removed]",
      "text/plain": [
       "<Figure size 720x288 with 2 Axes>"
      ]
     },
     "metadata": {
      "needs_background": "light"
     },
     "output_type": "display_data"
    }
   ],
   "source": [
    "import numpy as np\n",
    "import matplotlib.pyplot as plt\n",
    "\n",
    "# Generar una muestra de datos con media 10 y desviación estándar 3\n",
    "np.random.seed(1)\n",
    "muestra = np.random.normal(loc=10, scale=3, size=100)\n",
    "\n",
    "# Calcular la media y desviación estándar de la muestra\n",
    "media = np.mean(muestra)\n",
    "desviacion = np.std(muestra)\n",
    "\n",
    "# Estandarizar la muestra\n",
    "estandarizada = (muestra - media) / desviacion\n",
    "\n",
    "# Graficar la distribución original y la estandarizada\n",
    "fig, axs = plt.subplots(1, 2, figsize=(10, 4))\n",
    "axs[0].hist(muestra, bins=20)\n",
    "axs[0].set_title('Distribución Original')\n",
    "axs[1].hist(estandarizada, bins=20)\n",
    "axs[1].set_title('Distribución Estandarizada')\n",
    "plt.show()\n"
   ]
  },
  {
   "attachments": {},
   "cell_type": "markdown",
   "metadata": {},
   "source": [
    "## **6. Valores o Puntuaciones Z**"
   ]
  },
  {
   "attachments": {},
   "cell_type": "markdown",
   "metadata": {},
   "source": [
    "Los valores o puntuaciones Z representan el número de desviaciones estándar que una observación está por encima o por debajo de la media de una distribución. Es decir, cuantifican la distancia de una observación respecto a la media en términos de la desviación estándar de la distribución. La estandarización de las muestras es útil para comparar observaciones de diferentes distribuciones, ya que permite expresarlas en una misma escala.\n",
    "\n",
    "La fórmula para calcular el valor Z de una observación $x$ es:\n",
    "\n",
    "​\n",
    " Z = (x - μ) / σ\n",
    "\n",
    "Donde $\\mu$ es la media de la distribución y $\\sigma$ es la desviación estándar.\n",
    "\n",
    "A continuación se muestra un ejemplo de cómo calcular los valores Z y graficar su distribución:"
   ]
  },
  {
   "cell_type": "code",
   "execution_count": 8,
   "metadata": {},
   "outputs": [
    {
     "data": {
      "image/png": "[encoded data removed]",
      "text/plain": [
       "<Figure size 432x288 with 1 Axes>"
      ]
     },
     "metadata": {
      "needs_background": "light"
     },
     "output_type": "display_data"
    }
   ],
   "source": [
    "import numpy as np\n",
    "import matplotlib.pyplot as plt\n",
    "\n",
    "# Generar una muestra aleatoria de una distribución normal\n",
    "np.random.seed(1)\n",
    "mu = 50\n",
    "sigma = 10\n",
    "sample = np.random.normal(mu, sigma, size=100)\n",
    "\n",
    "# Calcular los valores Z de la muestra\n",
    "z_scores = (sample - mu) / sigma\n",
    "\n",
    "# Graficar la distribución de los valores Z\n",
    "fig, ax = plt.subplots()\n",
    "ax.hist(z_scores, bins=10, alpha=0.5)\n",
    "ax.set_xlabel('Valores Z')\n",
    "ax.set_ylabel('Frecuencia')\n",
    "ax.set_title('Distribución de los valores Z')\n",
    "plt.show()\n"
   ]
  },
  {
   "attachments": {},
   "cell_type": "markdown",
   "metadata": {},
   "source": [
    "## **7. Propiedades**"
   ]
  },
  {
   "attachments": {},
   "cell_type": "markdown",
   "metadata": {},
   "source": [
    "Las principales propiedades de los valores o puntuaciones Z son:\n",
    "\n",
    "* Media igual a cero: la media de los valores Z siempre será cero.\n",
    "* Desviación estándar igual a uno: la desviación estándar de los valores Z siempre será uno.\n",
    "* Distribución normal estándar: los valores Z se distribuyen normalmente alrededor de cero con una desviación estándar de uno.\n",
    "* La transformación Z es lineal: si se aplican las mismas transformaciones lineales a la variable original y a los valores Z, los valores Z seguirán siendo los mismos. Esto permite comparar directamente valores entre diferentes distribuciones."
   ]
  },
  {
   "attachments": {},
   "cell_type": "markdown",
   "metadata": {},
   "source": [
    "## **8. Distribución Normal Estándar y Probabilidad**"
   ]
  },
  {
   "attachments": {},
   "cell_type": "markdown",
   "metadata": {},
   "source": [
    "La distribución normal estándar es una distribución normal con media cero y desviación estándar uno. Se utiliza con frecuencia para estandarizar una variable normal y convertirla en una variable normal estándar. La probabilidad asociada con una puntuación Z determinada en la distribución normal estándar se puede obtener utilizando una tabla de valores Z o una función de distribución acumulativa.\n",
    "\n",
    "A continuación se presenta un ejemplo de cómo calcular la probabilidad asociada con una puntuación Z utilizando la función de distribución acumulativa de la distribución normal estándar en Python:"
   ]
  },
  {
   "cell_type": "code",
   "execution_count": 9,
   "metadata": {},
   "outputs": [
    {
     "name": "stdout",
     "output_type": "stream",
     "text": [
      "La probabilidad asociada con una puntuación Z de 1.5 es: 0.9331927987311419\n"
     ]
    }
   ],
   "source": [
    "import scipy.stats as st\n",
    "\n",
    "# Calcular la probabilidad asociada con una puntuación Z de 1.5\n",
    "z_score = 1.5\n",
    "prob = st.norm.cdf(z_score)\n",
    "\n",
    "print(\"La probabilidad asociada con una puntuación Z de 1.5 es:\", prob)\n"
   ]
  },
  {
   "attachments": {},
   "cell_type": "markdown",
   "metadata": {},
   "source": [
    "Esto significa que la probabilidad de obtener una puntuación Z de 1.5 o menor en la distribución normal estándar es del 93.32%.\n",
    "\n",
    "A continuación, se muestra cómo graficar la distribución normal estándar y sombrear la probabilidad asociada con una puntuación Z específica:"
   ]
  },
  {
   "cell_type": "code",
   "execution_count": 10,
   "metadata": {},
   "outputs": [
    {
     "data": {
      "image/png": "[encoded data removed]",
      "text/plain": [
       "<Figure size 432x288 with 1 Axes>"
      ]
     },
     "metadata": {
      "needs_background": "light"
     },
     "output_type": "display_data"
    }
   ],
   "source": [
    "import numpy as np\n",
    "import matplotlib.pyplot as plt\n",
    "\n",
    "# Crear un array de valores Z desde -3 hasta 3\n",
    "z_values = np.linspace(-3, 3, 1000)\n",
    "\n",
    "# Calcular la densidad de probabilidad para los valores Z\n",
    "pdf = st.norm.pdf(z_values, loc=0, scale=1)\n",
    "\n",
    "# Calcular la probabilidad asociada con una puntuación Z de 1.5\n",
    "z_score = 1.5\n",
    "prob = st.norm.cdf(z_score)\n",
    "\n",
    "# Graficar la densidad de probabilidad de la distribución normal estándar\n",
    "plt.plot(z_values, pdf, color='black')\n",
    "\n",
    "# Sombrear la probabilidad asociada con una puntuación Z de 1.5\n",
    "plt.fill_between(z_values[z_values<=z_score], pdf[z_values<=z_score], color='red')\n",
    "\n",
    "# Agregar etiquetas y título\n",
    "plt.xlabel('Valores Z')\n",
    "plt.ylabel('Densidad de probabilidad')\n",
    "plt.title('Distribución normal estándar')\n",
    "\n",
    "plt.show()\n"
   ]
  },
  {
   "attachments": {},
   "cell_type": "markdown",
   "metadata": {},
   "source": [
    "## **9. Probabilidades con Python**"
   ]
  },
  {
   "cell_type": "code",
   "execution_count": 11,
   "metadata": {},
   "outputs": [
    {
     "name": "stdout",
     "output_type": "stream",
     "text": [
      "La probabilidad de que Z sea menor a 1.5 es: 0.9332\n"
     ]
    },
    {
     "data": {
      "image/png": "[encoded data removed]",
      "text/plain": [
       "<Figure size 432x288 with 1 Axes>"
      ]
     },
     "metadata": {
      "needs_background": "light"
     },
     "output_type": "display_data"
    }
   ],
   "source": [
    "import numpy as np\n",
    "from scipy.stats import norm\n",
    "import matplotlib.pyplot as plt\n",
    "\n",
    "# Definir la media y la desviación estándar de la distribución normal estándar\n",
    "mu = 0\n",
    "sigma = 1\n",
    "\n",
    "# Calcular la probabilidad de que Z sea menor a 1.5\n",
    "prob = norm.cdf(1.5, mu, sigma)\n",
    "\n",
    "# Imprimir la probabilidad\n",
    "print(f\"La probabilidad de que Z sea menor a 1.5 es: {prob:.4f}\")\n",
    "\n",
    "# Graficar la densidad de probabilidad y la región debajo de la curva\n",
    "x = np.linspace(mu - 3*sigma, mu + 3*sigma, 100)\n",
    "plt.plot(x, norm.pdf(x, mu, sigma), label=\"Densidad de probabilidad\")\n",
    "plt.fill_between(x, norm.pdf(x, mu, sigma), where=x<1.5, alpha=0.5, label=\"Probabilidad buscada\")\n",
    "plt.legend()\n",
    "plt.show()\n"
   ]
  },
  {
   "attachments": {},
   "cell_type": "markdown",
   "metadata": {},
   "source": [
    "| **Inicio** | **atrás 29** |\n",
    "|----------- |-------------- |\n",
    "| [🏠](../../README.md) | [⏪](./29.Distribucion_Normal.ipynb)|"
   ]
  }
 ],
 "metadata": {
  "kernelspec": {
   "display_name": "base",
   "language": "python",
   "name": "python3"
  },
  "language_info": {
   "codemirror_mode": {
    "name": "ipython",
    "version": 3
   },
   "file_extension": ".py",
   "mimetype": "text/x-python",
   "name": "python",
   "nbconvert_exporter": "python",
   "pygments_lexer": "ipython3",
   "version": "3.9.12"
  },
  "orig_nbformat": 4
 },
 "nbformat": 4,
 "nbformat_minor": 2
}
