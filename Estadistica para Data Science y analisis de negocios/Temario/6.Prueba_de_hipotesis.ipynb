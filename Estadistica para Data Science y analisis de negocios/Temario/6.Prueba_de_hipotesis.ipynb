{
 "cells": [
  {
   "attachments": {},
   "cell_type": "markdown",
   "metadata": {},
   "source": [
    "| **Inicio** | **atrás 5** | **Siguiente 7** |\n",
    "|----------- |-------------- |---------------|\n",
    "| [🏠](../../README.md) | [⏪](./5.Intervalos_de_confianza.ipynb)| [⏩](./7.Medidas_de_Dispersion.ipynb)|"
   ]
  },
  {
   "attachments": {},
   "cell_type": "markdown",
   "metadata": {},
   "source": [
    "# **6. Prueba de hipótesis**"
   ]
  },
  {
   "attachments": {},
   "cell_type": "markdown",
   "metadata": {},
   "source": [
    "## **Hipótesis nula vs alternativa**"
   ]
  },
  {
   "attachments": {},
   "cell_type": "markdown",
   "metadata": {},
   "source": [
    "En estadística, la prueba de hipótesis es un procedimiento para tomar una decisión sobre si una afirmación acerca de una población es verdadera o no, basándose en la información contenida en una muestra aleatoria de esa población. Las hipótesis nula y alternativa son componentes clave en este proceso.\n",
    "\n",
    "* La hipótesis nula `(H0)` es la afirmación que se asume verdadera a menos que se disponga de suficiente evidencia empírica para rechazarla. Es una afirmación sobre los parámetros poblacionales, como la media, la proporción, la desviación estándar, entre otros. En general, la hipótesis nula se plantea como una afirmación de igualdad entre un valor poblacional y un valor específico o entre dos valores poblacionales.\n",
    "\n",
    "* La hipótesis alternativa `(H1)` es la afirmación que se asume verdadera si la evidencia empírica es suficiente para rechazar la hipótesis nula. Es una afirmación que se contrapone a la hipótesis nula y se puede plantear como una afirmación de desigualdad, superioridad, inferioridad o cualquier otra relación entre los parámetros poblacionales.\n",
    "\n",
    "El objetivo de la prueba de hipótesis es evaluar si la evidencia empírica proporciona suficiente información para rechazar la hipótesis nula en favor de la hipótesis alternativa. Para tomar una decisión se utilizan estadísticos de prueba que se comparan con valores críticos obtenidos a partir de una distribución de probabilidad. Si el valor del estadístico de prueba es mayor que el valor crítico, se rechaza la hipótesis nula y se acepta la hipótesis alternativa. Si el valor del estadístico de prueba es menor que el valor crítico, se acepta la hipótesis nula.\n",
    "\n",
    "A continuación, se presenta un ejemplo en Python de cómo plantear y realizar una prueba de hipótesis con las hipótesis nula y alternativa.\n",
    "\n",
    "Supongamos que queremos evaluar si el promedio de una muestra de calificaciones de matemáticas de un grupo de estudiantes es igual a `75`. Nuestras hipótesis nula y alternativa serían las siguientes:\n",
    "\n",
    "* **Hipótesis nula (H0):** El promedio de la muestra es igual a `75`.\n",
    "* **Hipótesis alternativa (H1):** El promedio de la muestra es diferente de `75`.\n",
    "\n",
    "Primero, importamos las librerías necesarias y generamos una muestra de calificaciones:"
   ]
  },
  {
   "cell_type": "code",
   "execution_count": 1,
   "metadata": {},
   "outputs": [
    {
     "name": "stdout",
     "output_type": "stream",
     "text": [
      "T-stat: -4.75469594350529, P-valor: 3.8191352626793134e-06\n",
      "Intervalo de confianza: (-1.6875638642684774, -0.8170405535075893)\n"
     ]
    },
    {
     "data": {
      "image/png": "[encoded data removed]",
      "text/plain": [
       "<Figure size 576x432 with 1 Axes>"
      ]
     },
     "metadata": {
      "needs_background": "light"
     },
     "output_type": "display_data"
    }
   ],
   "source": [
    "import pandas as pd\n",
    "import numpy as np\n",
    "import matplotlib.pyplot as plt\n",
    "from scipy import stats\n",
    "\n",
    "# Crear DataFrame con datos aleatorios\n",
    "np.random.seed(42)\n",
    "grupo1 = np.random.normal(loc=5, scale=2, size=100)\n",
    "grupo2 = np.random.normal(loc=6, scale=2, size=100)\n",
    "datos = pd.DataFrame({'Grupo1': grupo1, 'Grupo2': grupo2})\n",
    "\n",
    "# Realizar prueba de hipótesis\n",
    "alpha = 0.05\n",
    "t_stat, p_valor = stats.ttest_ind(datos['Grupo1'], datos['Grupo2'])\n",
    "print(f\"T-stat: {t_stat}, P-valor: {p_valor}\")\n",
    "\n",
    "# Calcular intervalo de confianza\n",
    "confianza = 0.95\n",
    "grados_libertad = len(datos['Grupo1']) + len(datos['Grupo2']) - 2\n",
    "media_diff = datos['Grupo1'].mean() - datos['Grupo2'].mean()\n",
    "std_error = np.sqrt(datos['Grupo1'].std()**2/len(datos['Grupo1']) + datos['Grupo2'].std()**2/len(datos['Grupo2']))\n",
    "margen_error = stats.t.ppf(confianza, grados_libertad) * std_error\n",
    "intervalo_confianza = (media_diff - margen_error, media_diff + margen_error)\n",
    "print(f\"Intervalo de confianza: {intervalo_confianza}\")\n",
    "\n",
    "# Graficar los datos\n",
    "plt.figure(figsize=(8,6))\n",
    "plt.hist(datos['Grupo1'], alpha=0.5, label='Grupo 1')\n",
    "plt.hist(datos['Grupo2'], alpha=0.5, label='Grupo 2')\n",
    "plt.axvline(x=datos['Grupo1'].mean(), color='blue', linestyle='--', linewidth=2)\n",
    "plt.axvline(x=datos['Grupo2'].mean(), color='orange', linestyle='--', linewidth=2)\n",
    "plt.xlabel('Valores')\n",
    "plt.ylabel('Frecuencia')\n",
    "plt.legend()\n",
    "plt.show()"
   ]
  },
  {
   "attachments": {},
   "cell_type": "markdown",
   "metadata": {},
   "source": [
    "Este código genera un DataFrame con dos grupos de datos, realiza una prueba de hipótesis de dos colas para determinar si las medias de los grupos son significativamente diferentes, y luego calcula e imprime un intervalo de confianza del `95%` para la diferencia de medias. Finalmente, se grafican los datos con una superposición de las medias de los grupos y se agrega un histograma para cada grupo."
   ]
  },
  {
   "attachments": {},
   "cell_type": "markdown",
   "metadata": {},
   "source": [
    "## **Estableciendo la región de rechazo y el nivel de significación**"
   ]
  },
  {
   "attachments": {},
   "cell_type": "markdown",
   "metadata": {},
   "source": [
    "Establecer la región de rechazo y el nivel de significación son dos conceptos fundamentales en estadística inferencial. Estos se utilizan en las pruebas de hipótesis para decidir si se debe rechazar o no una hipótesis nula.\n",
    "\n",
    "La región de rechazo es un rango de valores en el que si cae el estadístico de prueba, se rechaza la hipótesis nula. Por otro lado, el nivel de significación es la probabilidad máxima que estamos dispuestos a aceptar de cometer un error de tipo I, es decir, de rechazar la hipótesis nula cuando en realidad es verdadera. Comúnmente se denota con $\\alpha$, y se establece antes de realizar la prueba de hipótesis.\n",
    "\n",
    "Para entender mejor cómo establecer la región de rechazo y el nivel de significación, vamos a utilizar el ejemplo anterior en el que se compararon dos grupos de datos. En este caso, vamos a establecer un nivel de significación de `0.05`."
   ]
  },
  {
   "cell_type": "code",
   "execution_count": 3,
   "metadata": {},
   "outputs": [
    {
     "name": "stdout",
     "output_type": "stream",
     "text": [
      "T-stat: -4.75469594350529, P-valor: 3.8191352626793134e-06\n",
      "Intervalo de confianza: (-1.6875638642684774, -0.8170405535075893)\n",
      "T-critico: 1.9720174778338955\n"
     ]
    },
    {
     "data": {
      "image/png": "[encoded data removed]",
      "text/plain": [
       "<Figure size 576x432 with 1 Axes>"
      ]
     },
     "metadata": {
      "needs_background": "light"
     },
     "output_type": "display_data"
    }
   ],
   "source": [
    "import pandas as pd\n",
    "import numpy as np\n",
    "import matplotlib.pyplot as plt\n",
    "from scipy import stats\n",
    "\n",
    "# Crear DataFrame con datos aleatorios\n",
    "np.random.seed(42)\n",
    "grupo1 = np.random.normal(loc=5, scale=2, size=100)\n",
    "grupo2 = np.random.normal(loc=6, scale=2, size=100)\n",
    "datos = pd.DataFrame({'Grupo1': grupo1, 'Grupo2': grupo2})\n",
    "\n",
    "# Establecer nivel de significación\n",
    "alpha = 0.05\n",
    "\n",
    "# Realizar prueba de hipótesis\n",
    "t_stat, p_valor = stats.ttest_ind(datos['Grupo1'], datos['Grupo2'])\n",
    "print(f\"T-stat: {t_stat}, P-valor: {p_valor}\")\n",
    "\n",
    "# Calcular intervalo de confianza\n",
    "confianza = 0.95\n",
    "grados_libertad = len(datos['Grupo1']) + len(datos['Grupo2']) - 2\n",
    "media_diff = datos['Grupo1'].mean() - datos['Grupo2'].mean()\n",
    "std_error = np.sqrt(datos['Grupo1'].std()**2/len(datos['Grupo1']) + datos['Grupo2'].std()**2/len(datos['Grupo2']))\n",
    "margen_error = stats.t.ppf(confianza, grados_libertad) * std_error\n",
    "intervalo_confianza = (media_diff - margen_error, media_diff + margen_error)\n",
    "print(f\"Intervalo de confianza: {intervalo_confianza}\")\n",
    "\n",
    "# Establecer región de rechazo\n",
    "t_critico = stats.t.ppf(1 - alpha/2, grados_libertad)\n",
    "print(f\"T-critico: {t_critico}\")\n",
    "\n",
    "# Graficar los datos\n",
    "plt.figure(figsize=(8,6))\n",
    "plt.hist(datos['Grupo1'], alpha=0.5, label='Grupo 1')\n",
    "plt.hist(datos['Grupo2'], alpha=0.5, label='Grupo 2')\n",
    "plt.axvline(x=datos['Grupo1'].mean(), color='blue', linestyle='--', linewidth=2)\n",
    "plt.axvline(x=datos['Grupo2'].mean(), color='orange', linestyle='--', linewidth=2)\n",
    "plt.axvline(x=datos['Grupo1'].mean() + t_critico*datos['Grupo1'].std()/np.sqrt(len(datos['Grupo1'])), color='blue', linestyle='-', linewidth=2)\n",
    "plt.axvline(x=datos['Grupo1'].mean() - t_critico*datos['Grupo1'].std()/np.sqrt(len(datos['Grupo1'])), color='blue', linestyle='-', linewidth=2)\n",
    "plt.legend()\n",
    "plt.show()"
   ]
  },
  {
   "attachments": {},
   "cell_type": "markdown",
   "metadata": {},
   "source": [
    "Este código crea dos grupos de datos aleatorios con distribuciones normales, realiza una prueba de hipótesis para comprobar si las medias de los grupos son estadísticamente diferentes, calcula un intervalo de confianza para la diferencia de medias, establece la región de rechazo y el nivel de significación y finalmente grafica los datos junto con los intervalos de confianza y región de rechazo."
   ]
  },
  {
   "attachments": {},
   "cell_type": "markdown",
   "metadata": {},
   "source": [
    "## **Región de rechazo y nivel de significación**"
   ]
  },
  {
   "attachments": {},
   "cell_type": "markdown",
   "metadata": {},
   "source": [
    "En estadística, la región de rechazo y el nivel de significación son herramientas utilizadas para tomar decisiones sobre las hipótesis nula y alternativa en una prueba de hipótesis.\n",
    "\n",
    "La región de rechazo es la parte del espacio muestral en la que la hipótesis nula se rechaza. Esta región se define mediante un valor crítico que se calcula en función del nivel de significación y los grados de libertad de la distribución. En una prueba de hipótesis de dos colas, la región de rechazo se divide en dos partes iguales, una en cada cola de la distribución.\n",
    "\n",
    "El nivel de significación, por otro lado, es la probabilidad de cometer un error de tipo I al rechazar la hipótesis nula. Se suele establecer antes de realizar la prueba de hipótesis y se representa por el símbolo `α` `(alfa)`. Un nivel de significación comúnmente utilizado es `α=0.05`, lo que significa que hay un `5%` de probabilidad de rechazar la hipótesis nula cuando en realidad es verdadera.\n",
    "\n",
    "En Python, podemos establecer la región de rechazo y el nivel de significación utilizando la función `ppf` de la librería `scipy.stats`. Por ejemplo, en una prueba de hipótesis de dos medias con muestras independientes, podemos establecer la región de rechazo y el nivel de significación de la siguiente manera:"
   ]
  },
  {
   "cell_type": "code",
   "execution_count": 4,
   "metadata": {},
   "outputs": [],
   "source": [
    "# Establecer nivel de significación\n",
    "alpha = 0.05\n",
    "\n",
    "# Establecer región de rechazo\n",
    "t_critico = stats.t.ppf(1 - alpha/2, grados_libertad)"
   ]
  },
  {
   "attachments": {},
   "cell_type": "markdown",
   "metadata": {},
   "source": [
    "En este ejemplo, `alpha` se establece en `0.05` y `t_critico` se calcula utilizando la función `ppf` de la distribución `t` de `Student` con `1 - alpha/2` como argumento. El valor resultante es el valor crítico de la distribución `t` de `Student` para el nivel de significación y los grados de libertad especificados.\n",
    "\n",
    "Una vez establecida la región de rechazo, podemos graficarla junto con las distribuciones de las muestras y las medias de cada grupo para visualizar mejor la prueba de hipótesis:"
   ]
  },
  {
   "cell_type": "code",
   "execution_count": 5,
   "metadata": {},
   "outputs": [
    {
     "data": {
      "text/plain": [
       "<matplotlib.lines.Line2D at 0x7f59bc09bcd0>"
      ]
     },
     "execution_count": 5,
     "metadata": {},
     "output_type": "execute_result"
    },
    {
     "data": {
      "image/png": "[encoded data removed]",
      "text/plain": [
       "<Figure size 432x288 with 1 Axes>"
      ]
     },
     "metadata": {
      "needs_background": "light"
     },
     "output_type": "display_data"
    }
   ],
   "source": [
    "plt.axvline(x=datos['Grupo1'].mean() + t_critico*datos['Grupo1'].std()/np.sqrt(len(datos['Grupo1'])), color='blue', linestyle='-', linewidth=2)\n",
    "plt.axvline(x=datos['Grupo1'].mean() - t_critico*datos['Grupo1'].std()/np.sqrt(len(datos['Grupo1'])), color='blue', linestyle='-', linewidth=2)"
   ]
  },
  {
   "attachments": {},
   "cell_type": "markdown",
   "metadata": {},
   "source": [
    "En este ejemplo, se grafica la región de rechazo para el grupo `1` como dos líneas verticales en la gráfica del histograma. La posición de estas líneas se calcula como la media del grupo `1` más y menos el valor crítico multiplicado por la desviación estándar del grupo `1` dividida por la raíz cuadrada del tamaño de la muestra."
   ]
  },
  {
   "attachments": {},
   "cell_type": "markdown",
   "metadata": {},
   "source": [
    "La región de rechazo y el nivel de significación son conceptos clave en la realización de pruebas de hipótesis en estadística.\n",
    "\n",
    "* La región de rechazo es una región en la distribución de probabilidad que indica los valores de la estadística de prueba que llevarían a rechazar la hipótesis nula. En otras palabras, si el valor de la estadística de prueba cae dentro de la región de rechazo, se concluye que la hipótesis nula es improbable y se rechaza.\n",
    "\n",
    "* El nivel de significación es la probabilidad máxima de cometer un error de tipo I, es decir, rechazar la hipótesis nula cuando en realidad es verdadera. Se denota por `α` y generalmente se establece en `0.05` o `0.01`.\n",
    "\n",
    "* La elección de la región de rechazo y el nivel de significación dependerá de cada prueba de hipótesis en particular. Por ejemplo, en una prueba de hipótesis de dos colas, la región de rechazo se encuentra en ambas colas de la distribución, mientras que en una prueba de hipótesis de una cola, la región de rechazo se encuentra en una sola cola.\n",
    "\n",
    "En Python, podemos establecer la región de rechazo y el nivel de significación utilizando la función `ppf()` de la librería `SciPy.stats`. La región de rechazo se calcula como el percentil correspondiente a `α/2` o `1-α/2`, dependiendo de si se trata de una prueba de dos colas o de una cola. Luego, podemos graficar la distribución de probabilidad junto con la región de rechazo utilizando la función `axvline()` de la librería `Matplotlib`.\n",
    "\n",
    "A continuación se muestra un ejemplo de cómo establecer la región de rechazo y el nivel de significación en una prueba de hipótesis de dos medias con muestras independientes en Python:"
   ]
  },
  {
   "cell_type": "code",
   "execution_count": 6,
   "metadata": {},
   "outputs": [
    {
     "data": {
      "image/png": "[encoded data removed]",
      "text/plain": [
       "<Figure size 576x432 with 1 Axes>"
      ]
     },
     "metadata": {
      "needs_background": "light"
     },
     "output_type": "display_data"
    }
   ],
   "source": [
    "import pandas as pd\n",
    "import numpy as np\n",
    "import matplotlib.pyplot as plt\n",
    "from scipy import stats\n",
    "\n",
    "# Crear DataFrame con datos aleatorios\n",
    "np.random.seed(42)\n",
    "grupo1 = np.random.normal(loc=5, scale=2, size=100)\n",
    "grupo2 = np.random.normal(loc=6, scale=2, size=100)\n",
    "datos = pd.DataFrame({'Grupo1': grupo1, 'Grupo2': grupo2})\n",
    "\n",
    "# Establecer nivel de significación\n",
    "alpha = 0.05\n",
    "\n",
    "# Realizar prueba de hipótesis\n",
    "t_stat, p_valor = stats.ttest_ind(datos['Grupo1'], datos['Grupo2'])\n",
    "\n",
    "# Establecer región de rechazo\n",
    "grados_libertad = len(datos['Grupo1']) + len(datos['Grupo2']) - 2\n",
    "t_critico = stats.t.ppf(1 - alpha/2, grados_libertad)\n",
    "\n",
    "# Graficar los datos y la región de rechazo\n",
    "plt.figure(figsize=(8,6))\n",
    "plt.hist(datos['Grupo1'], alpha=0.5, label='Grupo 1')\n",
    "plt.hist(datos['Grupo2'], alpha=0.5, label='Grupo 2')\n",
    "plt.axvline(x=datos['Grupo1'].mean() + t_critico*datos['Grupo1'].std()/np.sqrt(len(datos['Grupo1'])), color='blue', linestyle='-', linewidth=2)\n",
    "plt.axvline(x=datos['Grupo1'].mean() - t_critico*datos['Grupo1'].std()/np.sqrt(len(datos['Grupo1'])), color='blue', linestyle='-', linewidth=2)\n",
    "\n",
    "plt.legend()\n",
    "plt.title('Histograma de los grupos')\n",
    "plt.xlabel('Valor')\n",
    "plt.ylabel('Frecuencia')\n",
    "plt.show()"
   ]
  },
  {
   "attachments": {},
   "cell_type": "markdown",
   "metadata": {},
   "source": [
    "Aquí se grafica la región de rechazo, que está formada por los valores extremos a la derecha e izquierda del intervalo de confianza. Se utiliza la fórmula $t_critico * std_error / sqrt(n)$, donde `t_critico` es el valor crítico de `t` obtenido con el nivel de significación elegido, `std_error` es el error estándar calculado previamente, y `n` es el tamaño de la muestra."
   ]
  },
  {
   "attachments": {},
   "cell_type": "markdown",
   "metadata": {},
   "source": [
    "## **Error tipo I vs Error tipo II**"
   ]
  },
  {
   "attachments": {},
   "cell_type": "markdown",
   "metadata": {},
   "source": [
    "En estadística, se habla de dos tipos de errores al realizar una prueba de hipótesis: el error `tipo I` y el error `tipo II`.\n",
    "\n",
    "* El error `tipo I` ocurre cuando se rechaza la hipótesis nula cuando es verdadera. Esto significa que se concluye que hay una diferencia significativa entre dos grupos cuando en realidad no la hay. Este error se representa mediante el símbolo $\\alpha$ y se conoce como el nivel de significación. Por ejemplo, si se establece un nivel de significación del `5%`, significa que hay un `5%` de probabilidad de cometer un error `tipo I`.\n",
    "\n",
    "* El error `tipo II` ocurre cuando se acepta la hipótesis nula cuando es falsa. Esto significa que se concluye que no hay una diferencia significativa entre dos grupos cuando en realidad sí la hay. Este error se representa mediante el símbolo $\\beta$ y está relacionado con el poder de la prueba, que es la probabilidad de rechazar la hipótesis nula cuando es falsa. Cuanto mayor sea el poder de la prueba, menor será la probabilidad de cometer un error `tipo II`.\n",
    "\n",
    "A continuación, se presenta un ejemplo en código Python para ilustrar ambos errores en el contexto de una prueba de hipótesis para dos medias con muestras independientes.\n",
    "\n",
    "Supongamos que se quiere comparar la altura promedio de dos poblaciones (hombres y mujeres) y se toman muestras aleatorias de cada una. Se plantean las siguientes hipótesis:\n",
    "\n",
    "* **Hipótesis nula ($H_0$):** la altura promedio de hombres y mujeres es igual.\n",
    "* **Hipótesis alternativa ($H_1$):** la altura promedio de hombres y mujeres es diferente.\n",
    "\n",
    "Primero, se generan los datos y se realiza la prueba de hipótesis:"
   ]
  },
  {
   "cell_type": "code",
   "execution_count": 9,
   "metadata": {},
   "outputs": [],
   "source": [
    "import numpy as np\n",
    "\n",
    "np.random.seed(42)\n",
    "hombres = np.random.normal(loc=175, scale=10, size=100)\n",
    "mujeres = np.random.normal(loc=165, scale=8, size=100)"
   ]
  },
  {
   "cell_type": "code",
   "execution_count": 10,
   "metadata": {},
   "outputs": [
    {
     "data": {
      "text/plain": [
       "<matplotlib.lines.Line2D at 0x7f59870bd070>"
      ]
     },
     "execution_count": 10,
     "metadata": {},
     "output_type": "execute_result"
    },
    {
     "data": {
      "image/png": "[encoded data removed]",
      "text/plain": [
       "<Figure size 576x432 with 1 Axes>"
      ]
     },
     "metadata": {
      "needs_background": "light"
     },
     "output_type": "display_data"
    }
   ],
   "source": [
    "import matplotlib.pyplot as plt\n",
    "\n",
    "plt.figure(figsize=(8,6))\n",
    "plt.hist(hombres, alpha=0.5, label='Hombres')\n",
    "plt.hist(mujeres, alpha=0.5, label='Mujeres')\n",
    "plt.axvline(x=np.mean(hombres), color='blue', linestyle='--', linewidth=2)\n",
    "plt.axvline(x=np.mean(mujeres), color='orange', linestyle='--', linewidth=2)"
   ]
  },
  {
   "attachments": {},
   "cell_type": "markdown",
   "metadata": {},
   "source": [
    "Podemos observar que las dos distribuciones se superponen, pero la distribución de los hombres parece estar ligeramente desplazada hacia la derecha.\n",
    "\n",
    "A continuación, podemos realizar una prueba `t` para determinar si hay una diferencia significativa entre las dos poblaciones:"
   ]
  },
  {
   "cell_type": "code",
   "execution_count": 12,
   "metadata": {},
   "outputs": [
    {
     "name": "stdout",
     "output_type": "stream",
     "text": [
      "7.405005498999365\n",
      "3.686012461275603e-12\n"
     ]
    }
   ],
   "source": [
    "from scipy import stats\n",
    "\n",
    "alpha = 0.05\n",
    "\n",
    "t_stat, p_valor = stats.ttest_ind(hombres, mujeres)\n",
    "print(t_stat)\n",
    "print(p_valor)"
   ]
  },
  {
   "attachments": {},
   "cell_type": "markdown",
   "metadata": {},
   "source": [
    "El valor de `p` es menor que `alpha`, por lo que podemos rechazar la hipótesis nula y concluir que hay una diferencia significativa entre las estaturas promedio de los hombres y las mujeres."
   ]
  },
  {
   "attachments": {},
   "cell_type": "markdown",
   "metadata": {},
   "source": [
    "| **Inicio** | **atrás 5** | **Siguiente 7** |\n",
    "|----------- |-------------- |---------------|\n",
    "| [🏠](../../README.md) | [⏪](./5.Intervalos_de_confianza.ipynb)| [⏩](./7.Medidas_de_Dispersion.ipynb)|"
   ]
  }
 ],
 "metadata": {
  "kernelspec": {
   "display_name": "base",
   "language": "python",
   "name": "python3"
  },
  "language_info": {
   "codemirror_mode": {
    "name": "ipython",
    "version": 3
   },
   "file_extension": ".py",
   "mimetype": "text/x-python",
   "name": "python",
   "nbconvert_exporter": "python",
   "pygments_lexer": "ipython3",
   "version": "3.9.12"
  },
  "orig_nbformat": 4
 },
 "nbformat": 4,
 "nbformat_minor": 2
}
