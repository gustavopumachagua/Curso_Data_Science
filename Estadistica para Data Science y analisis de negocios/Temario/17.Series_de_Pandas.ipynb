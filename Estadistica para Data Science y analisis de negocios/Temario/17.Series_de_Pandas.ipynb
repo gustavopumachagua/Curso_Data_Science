{
 "cells": [
  {
   "attachments": {},
   "cell_type": "markdown",
   "metadata": {},
   "source": [
    "| **Inicio** | **atrás 16** | **Siguiente 18** |\n",
    "|----------- |-------------- |---------------|\n",
    "| [🏠](../../README.md) | [⏪](./16.Filtrado_de_Datos.ipynb)| [⏩](./18.Relaciones_Estadisticas.ipynb)|"
   ]
  },
  {
   "attachments": {},
   "cell_type": "markdown",
   "metadata": {},
   "source": [
    "# **17. Series de Pandas**"
   ]
  },
  {
   "attachments": {},
   "cell_type": "markdown",
   "metadata": {},
   "source": [
    "## **Introducción a las Series**"
   ]
  },
  {
   "attachments": {},
   "cell_type": "markdown",
   "metadata": {},
   "source": [
    "Las Series de Pandas son estructuras de datos unidimensionales que pueden contener cualquier tipo de datos, incluyendo números, cadenas de texto y objetos. Las Series son parte de la librería de Pandas en Python, y se utilizan comúnmente para trabajar con datos tabulares y en análisis de datos.\n",
    "\n",
    "Un ejemplo de una Serie de Pandas podría ser una lista de temperaturas diarias registradas en una estación meteorológica. Supongamos que tenemos la siguiente lista de temperaturas:"
   ]
  },
  {
   "cell_type": "code",
   "execution_count": 2,
   "metadata": {},
   "outputs": [
    {
     "data": {
      "text/plain": [
       "0    25\n",
       "1    27\n",
       "2    26\n",
       "3    23\n",
       "4    24\n",
       "5    28\n",
       "6    29\n",
       "dtype: int64"
      ]
     },
     "execution_count": 2,
     "metadata": {},
     "output_type": "execute_result"
    }
   ],
   "source": [
    "temperaturas = [25, 27, 26, 23, 24, 28, 29]\n",
    "import pandas as pd\n",
    "\n",
    "serie_temperaturas = pd.Series(temperaturas)\n",
    "serie_temperaturas"
   ]
  },
  {
   "attachments": {},
   "cell_type": "markdown",
   "metadata": {},
   "source": [
    "## **Creación y manipulación de Series**"
   ]
  },
  {
   "cell_type": "code",
   "execution_count": 8,
   "metadata": {},
   "outputs": [],
   "source": [
    "import pandas as pd\n"
   ]
  },
  {
   "attachments": {},
   "cell_type": "markdown",
   "metadata": {},
   "source": [
    "A continuación, podemos crear una Serie utilizando la función ```pd.Series()```. Podemos pasar una lista o un diccionario como argumento:"
   ]
  },
  {
   "cell_type": "code",
   "execution_count": 9,
   "metadata": {},
   "outputs": [
    {
     "name": "stdout",
     "output_type": "stream",
     "text": [
      "0    10\n",
      "1    20\n",
      "2    30\n",
      "3    40\n",
      "4    50\n",
      "dtype: int64\n",
      "a    10\n",
      "b    20\n",
      "c    30\n",
      "d    40\n",
      "e    50\n",
      "dtype: int64\n"
     ]
    }
   ],
   "source": [
    "# Crear una Serie a partir de una lista\n",
    "lista = [10, 20, 30, 40, 50]\n",
    "serie_lista = pd.Series(lista)\n",
    "print(serie_lista)\n",
    "\n",
    "# Crear una Serie a partir de un diccionario\n",
    "diccionario = {'a': 10, 'b': 20, 'c': 30, 'd': 40, 'e': 50}\n",
    "serie_diccionario = pd.Series(diccionario)\n",
    "print(serie_diccionario)\n"
   ]
  },
  {
   "attachments": {},
   "cell_type": "markdown",
   "metadata": {},
   "source": [
    "Podemos acceder a los elementos de una Serie utilizando la notación de corchetes ```[]``` y el índice correspondiente:"
   ]
  },
  {
   "cell_type": "code",
   "execution_count": 10,
   "metadata": {},
   "outputs": [
    {
     "name": "stdout",
     "output_type": "stream",
     "text": [
      "10\n",
      "30\n"
     ]
    }
   ],
   "source": [
    "print(serie_lista[0])  # Imprime 10\n",
    "print(serie_diccionario['c'])  # Imprime 30\n"
   ]
  },
  {
   "attachments": {},
   "cell_type": "markdown",
   "metadata": {},
   "source": [
    "También podemos realizar operaciones aritméticas con las Series:"
   ]
  },
  {
   "cell_type": "code",
   "execution_count": 11,
   "metadata": {},
   "outputs": [
    {
     "name": "stdout",
     "output_type": "stream",
     "text": [
      "0   NaN\n",
      "1   NaN\n",
      "2   NaN\n",
      "3   NaN\n",
      "4   NaN\n",
      "a   NaN\n",
      "b   NaN\n",
      "c   NaN\n",
      "d   NaN\n",
      "e   NaN\n",
      "dtype: float64\n"
     ]
    }
   ],
   "source": [
    "serie_suma = serie_lista + serie_diccionario\n",
    "print(serie_suma)\n"
   ]
  },
  {
   "attachments": {},
   "cell_type": "markdown",
   "metadata": {},
   "source": [
    "Podemos utilizar diferentes funciones de agregación para calcular estadísticas de una Serie:"
   ]
  },
  {
   "cell_type": "code",
   "execution_count": 12,
   "metadata": {},
   "outputs": [
    {
     "name": "stdout",
     "output_type": "stream",
     "text": [
      "30.0\n",
      "50\n"
     ]
    }
   ],
   "source": [
    "print(serie_lista.mean())  # Imprime el promedio de la Serie\n",
    "print(serie_diccionario.max())  # Imprime el valor máximo de la Serie\n"
   ]
  },
  {
   "attachments": {},
   "cell_type": "markdown",
   "metadata": {},
   "source": [
    "Además, podemos aplicar funciones a los elementos de una Serie utilizando la función ```apply()```:"
   ]
  },
  {
   "cell_type": "code",
   "execution_count": 13,
   "metadata": {},
   "outputs": [
    {
     "name": "stdout",
     "output_type": "stream",
     "text": [
      "0     100\n",
      "1     400\n",
      "2     900\n",
      "3    1600\n",
      "4    2500\n",
      "dtype: int64\n"
     ]
    }
   ],
   "source": [
    "serie_cuadrado = serie_lista.apply(lambda x: x**2)\n",
    "print(serie_cuadrado)\n"
   ]
  },
  {
   "attachments": {},
   "cell_type": "markdown",
   "metadata": {},
   "source": [
    "## **Atributos de las Series y acceso a sus valores**"
   ]
  },
  {
   "attachments": {},
   "cell_type": "markdown",
   "metadata": {},
   "source": [
    "Las Series de Pandas tienen varios atributos útiles que nos permiten obtener información sobre la estructura y los datos de la Serie. Algunos de los atributos más comunes son los siguientes:\n",
    "\n",
    "* values: devuelve los valores de la Serie en forma de un arreglo NumPy.\n",
    "* index: devuelve los índices de la Serie en forma de un objeto Index de Pandas.\n",
    "* dtype: devuelve el tipo de datos de la Serie.\n",
    "* name: devuelve el nombre de la Serie."
   ]
  },
  {
   "cell_type": "code",
   "execution_count": 14,
   "metadata": {},
   "outputs": [
    {
     "name": "stdout",
     "output_type": "stream",
     "text": [
      "[10 20 30 40 50]\n",
      "RangeIndex(start=0, stop=5, step=1)\n",
      "int64\n",
      "mis_datos\n"
     ]
    }
   ],
   "source": [
    "import pandas as pd\n",
    "\n",
    "# Crear una Serie\n",
    "datos = [10, 20, 30, 40, 50]\n",
    "serie = pd.Series(datos, name='mis_datos')\n",
    "\n",
    "# Obtener los valores de la Serie\n",
    "print(serie.values)  # Imprime [10 20 30 40 50]\n",
    "\n",
    "# Obtener los índices de la Serie\n",
    "print(serie.index)  # Imprime RangeIndex(start=0, stop=5, step=1)\n",
    "\n",
    "# Obtener el tipo de datos de la Serie\n",
    "print(serie.dtype)  # Imprime int64\n",
    "\n",
    "# Obtener el nombre de la Serie\n",
    "print(serie.name)  # Imprime mis_datos\n"
   ]
  },
  {
   "attachments": {},
   "cell_type": "markdown",
   "metadata": {},
   "source": [
    "Para acceder a los valores de una Serie, podemos utilizar la notación de corchetes ```[]``` y el índice correspondiente. También podemos utilizar el método ```loc[]``` para acceder a los valores utilizando los nombres de los índices y el método ```iloc[]``` para acceder a los valores utilizando los índices numéricos. Veamos algunos ejemplos:"
   ]
  },
  {
   "cell_type": "code",
   "execution_count": 15,
   "metadata": {},
   "outputs": [
    {
     "name": "stdout",
     "output_type": "stream",
     "text": [
      "30\n",
      "30\n",
      "b    20\n",
      "d    40\n",
      "dtype: int64\n"
     ]
    }
   ],
   "source": [
    "import pandas as pd\n",
    "\n",
    "# Crear una Serie\n",
    "datos = [10, 20, 30, 40, 50]\n",
    "indices = ['a', 'b', 'c', 'd', 'e']\n",
    "serie = pd.Series(datos, index=indices)\n",
    "\n",
    "# Acceder al valor correspondiente al índice 'c'\n",
    "print(serie['c'])  # Imprime 30\n",
    "\n",
    "# Acceder al valor correspondiente al índice numérico 2\n",
    "print(serie.iloc[2])  # Imprime 30\n",
    "\n",
    "# Acceder a los valores correspondientes a los índices 'b' y 'd'\n",
    "print(serie.loc[['b', 'd']])  # Imprime b    20, d    40, dtype: int64\n"
   ]
  },
  {
   "attachments": {},
   "cell_type": "markdown",
   "metadata": {},
   "source": [
    "## **Métodos básicos comunes**"
   ]
  },
  {
   "attachments": {},
   "cell_type": "markdown",
   "metadata": {},
   "source": [
    "Las Series de Pandas tienen muchos métodos que pueden ser útiles para el análisis de datos. A continuación, se muestran algunos de los métodos más comunes:\n",
    "\n",
    "* ```head(n)```: devuelve los primeros n elementos de la Serie.\n",
    "* ```tail(n)```: devuelve los últimos n elementos de la Serie.\n",
    "* ```describe()```: devuelve estadísticas descriptivas de la Serie, como la media, la desviación estándar, el valor mínimo, el valor máximo, etc.\n",
    "* ```value_counts()```: cuenta la frecuencia de cada valor único en la Serie.\n",
    "* ```sort_values()```: ordena la Serie por valor.\n",
    "* ```sort_index()```: ordena la Serie por índice.\n",
    "* ```dropna()```: elimina los valores nulos de la Serie.\n",
    "* ```fillna(valor)```: rellena los valores nulos de la Serie con un valor específico.\n",
    "* ```astype(tipo)```: convierte los valores de la Serie a un tipo de datos específico.\n",
    "* ```apply(funcion)```: aplica una función a cada elemento de la Serie.\n",
    "* ```map(diccionario)```: reemplaza los valores de la Serie utilizando un diccionario.\n",
    "* ```unique()```: devuelve los valores únicos de la Serie.\n",
    "\n",
    "Veamos algunos ejemplos de estos métodos:"
   ]
  },
  {
   "cell_type": "code",
   "execution_count": 18,
   "metadata": {},
   "outputs": [
    {
     "name": "stdout",
     "output_type": "stream",
     "text": [
      "0    10.0\n",
      "1    20.0\n",
      "2    30.0\n",
      "dtype: float64\n",
      "count     8.00000\n",
      "mean     26.25000\n",
      "std      14.07886\n",
      "min      10.00000\n",
      "25%      17.50000\n",
      "50%      25.00000\n",
      "75%      32.50000\n",
      "max      50.00000\n",
      "dtype: float64\n",
      "10.0    2\n",
      "20.0    2\n",
      "30.0    2\n",
      "40.0    1\n",
      "50.0    1\n",
      "dtype: int64\n",
      "0    10.0\n",
      "7    10.0\n",
      "1    20.0\n",
      "6    20.0\n",
      "2    30.0\n",
      "5    30.0\n",
      "3    40.0\n",
      "4    50.0\n",
      "8     NaN\n",
      "dtype: float64\n",
      "0    10.0\n",
      "1    20.0\n",
      "2    30.0\n",
      "3    40.0\n",
      "4    50.0\n",
      "5    30.0\n",
      "6    20.0\n",
      "7    10.0\n",
      "dtype: float64\n",
      "0    10.0\n",
      "1    20.0\n",
      "2    30.0\n",
      "3    40.0\n",
      "4    50.0\n",
      "5    30.0\n",
      "6    20.0\n",
      "7    10.0\n",
      "8     0.0\n",
      "dtype: float64\n",
      "0     100.0\n",
      "1     400.0\n",
      "2     900.0\n",
      "3    1600.0\n",
      "4    2500.0\n",
      "5     900.0\n",
      "6     400.0\n",
      "7     100.0\n",
      "8       NaN\n",
      "dtype: float64\n",
      "0      A\n",
      "1      B\n",
      "2      C\n",
      "3      D\n",
      "4      E\n",
      "5      C\n",
      "6      B\n",
      "7      A\n",
      "8    NaN\n",
      "dtype: object\n"
     ]
    }
   ],
   "source": [
    "import pandas as pd\n",
    "\n",
    "# Crear una Serie\n",
    "datos = [10, 20, 30, 40, 50, 30, 20, 10, None]\n",
    "serie = pd.Series(datos)\n",
    "\n",
    "# Obtener los primeros 3 elementos de la Serie\n",
    "print(serie.head(3))  # Imprime 0    10.0, 1    20.0, 2    30.0, dtype: float64\n",
    "\n",
    "# Obtener las estadísticas descriptivas de la Serie\n",
    "print(serie.describe())  # Imprime count     8.000000, mean     27.500000, std      15.055453, ...\n",
    "\n",
    "# Contar la frecuencia de cada valor único en la Serie\n",
    "print(serie.value_counts())  # Imprime 30.0    2, 20.0    2, 50.0    1, ...\n",
    "\n",
    "# Ordenar la Serie por valor\n",
    "print(serie.sort_values())  # Imprime 7    10.0, 0    20.0, 6    20.0, 2    30.0, ...\n",
    "\n",
    "# Eliminar los valores nulos de la Serie\n",
    "print(serie.dropna())  # Imprime 0    10.0, 1    20.0, 2    30.0, 3    40.0, 4    50.0, ...\n",
    "\n",
    "# Rellenar los valores nulos de la Serie con el valor 0\n",
    "print(serie.fillna(0))  # Imprime 0    10.0, 1    20.0, 2    30.0, 3    40.0, 4    50.0, ...\n",
    "\n",
    "# Aplicar la función lambda x: x**2 a cada elemento de la Serie\n",
    "print(serie.apply(lambda x: x**2))  # Imprime 0     100.0, 1     400.0, 2     900.0, ...\n",
    "\n",
    "# Reemplazar los valores de la Serie utilizando un diccionario\n",
    "diccionario = {10: 'A', 20: 'B', 30: 'C', 40: 'D', 50: 'E'}\n",
    "print(serie.map(diccionario))  # Imprime 0    A, 1    B, 2    C, 3    D, 4    E, 5    C, 6    B, 7    A, 8    NaN, dtype: object\n"
   ]
  },
  {
   "attachments": {},
   "cell_type": "markdown",
   "metadata": {},
   "source": [
    "## **Operaciones vectoriales aritméticas**"
   ]
  },
  {
   "cell_type": "code",
   "execution_count": 19,
   "metadata": {},
   "outputs": [
    {
     "name": "stdout",
     "output_type": "stream",
     "text": [
      "0    15\n",
      "1    30\n",
      "2    45\n",
      "3    60\n",
      "dtype: int64\n",
      "0     5\n",
      "1    10\n",
      "2    15\n",
      "3    20\n",
      "dtype: int64\n",
      "0     50\n",
      "1    200\n",
      "2    450\n",
      "3    800\n",
      "dtype: int64\n",
      "0    2.0\n",
      "1    2.0\n",
      "2    2.0\n",
      "3    2.0\n",
      "dtype: float64\n"
     ]
    }
   ],
   "source": [
    "import pandas as pd\n",
    "\n",
    "# Crear dos Series\n",
    "serie1 = pd.Series([10, 20, 30, 40])\n",
    "serie2 = pd.Series([5, 10, 15, 20])\n",
    "\n",
    "# Sumar las dos Series\n",
    "print(serie1 + serie2)  # Imprime 0    15, 1    30, 2    45, 3    60, dtype: int64\n",
    "\n",
    "# Restar las dos Series\n",
    "print(serie1 - serie2)  # Imprime 0     5, 1    10, 2    15, 3    20, dtype: int64\n",
    "\n",
    "# Multiplicar las dos Series\n",
    "print(serie1 * serie2)  # Imprime 0     50, 1    200, 2    450, 3    800, dtype: int64\n",
    "\n",
    "# Dividir las dos Series\n",
    "print(serie1 / serie2)  # Imprime 0    2.000000, 1    2.000000, 2    2.000000, 3    2.000000, dtype: float64\n"
   ]
  },
  {
   "attachments": {},
   "cell_type": "markdown",
   "metadata": {},
   "source": [
    "## **Funciones de estadística y de agregación básicas**"
   ]
  },
  {
   "cell_type": "code",
   "execution_count": 20,
   "metadata": {},
   "outputs": [
    {
     "name": "stdout",
     "output_type": "stream",
     "text": [
      "30.0\n",
      "30.0\n",
      "15.811388300841896\n",
      "10\n",
      "50\n",
      "0     10\n",
      "1     30\n",
      "2     60\n",
      "3    100\n",
      "4    150\n",
      "dtype: int64\n"
     ]
    }
   ],
   "source": [
    "import pandas as pd\n",
    "\n",
    "# Crear una Serie con valores enteros\n",
    "serie = pd.Series([10, 20, 30, 40, 50])\n",
    "\n",
    "# Obtener la media de la Serie\n",
    "media = serie.mean()\n",
    "print(media)  # Imprime 30.0\n",
    "\n",
    "# Obtener la mediana de la Serie\n",
    "mediana = serie.median()\n",
    "print(mediana)  # Imprime 30.0\n",
    "\n",
    "# Obtener la desviación estándar de la Serie\n",
    "desv_est = serie.std()\n",
    "print(desv_est)  # Imprime 15.811388300841896\n",
    "\n",
    "# Obtener el valor mínimo de la Serie\n",
    "minimo = serie.min()\n",
    "print(minimo)  # Imprime 10\n",
    "\n",
    "# Obtener el valor máximo de la Serie\n",
    "maximo = serie.max()\n",
    "print(maximo)  # Imprime 50\n",
    "\n",
    "# Obtener la suma acumulada de la Serie\n",
    "suma_acum = serie.cumsum()\n",
    "print(suma_acum)  # Imprime 0    10, 1    30, 2    60, 3    100, 4    150, dtype: int64\n"
   ]
  },
  {
   "attachments": {},
   "cell_type": "markdown",
   "metadata": {},
   "source": [
    "| **Inicio** | **atrás 16** | **Siguiente 18** |\n",
    "|----------- |-------------- |---------------|\n",
    "| [🏠](../../README.md) | [⏪](./16.Filtrado_de_Datos.ipynb)| [⏩](./18.Relaciones_Estadisticas.ipynb)|"
   ]
  }
 ],
 "metadata": {
  "kernelspec": {
   "display_name": "base",
   "language": "python",
   "name": "python3"
  },
  "language_info": {
   "codemirror_mode": {
    "name": "ipython",
    "version": 3
   },
   "file_extension": ".py",
   "mimetype": "text/x-python",
   "name": "python",
   "nbconvert_exporter": "python",
   "pygments_lexer": "ipython3",
   "version": "3.9.12"
  },
  "orig_nbformat": 4
 },
 "nbformat": 4,
 "nbformat_minor": 2
}
