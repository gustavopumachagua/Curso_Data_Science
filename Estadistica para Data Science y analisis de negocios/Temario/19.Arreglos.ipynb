{
 "cells": [
  {
   "attachments": {},
   "cell_type": "markdown",
   "metadata": {},
   "source": [
    "| **Inicio** | **atrás 18** | **Siguiente 20** |\n",
    "|----------- |-------------- |---------------|\n",
    "| [🏠](../../README.md) | [⏪](./18.Relaciones_Estadisticas.ipynb)| [⏩](./20.Busqueda_y_Filtrado.ipynb)|"
   ]
  },
  {
   "attachments": {},
   "cell_type": "markdown",
   "metadata": {},
   "source": [
    "# **19. Operaciones vectoriales con Arrays ó Arreglos**"
   ]
  },
  {
   "attachments": {},
   "cell_type": "markdown",
   "metadata": {},
   "source": [
    "## **Introducción a los Arreglos de Numpy**"
   ]
  },
  {
   "attachments": {},
   "cell_type": "markdown",
   "metadata": {},
   "source": [
    "Los arreglos de NumPy son estructuras de datos multidimensionales que se utilizan para almacenar y manipular datos numéricos de manera eficiente en Python. Son una parte fundamental de la biblioteca NumPy, que es una biblioteca popular para computación científica en Python.\n",
    "\n",
    "Aquí hay un ejemplo de cómo crear un arreglo de NumPy y realizar algunas operaciones básicas en él:"
   ]
  },
  {
   "cell_type": "code",
   "execution_count": 1,
   "metadata": {},
   "outputs": [
    {
     "name": "stdout",
     "output_type": "stream",
     "text": [
      "[0 1 2 3 4]\n"
     ]
    }
   ],
   "source": [
    "import numpy as np\n",
    "\n",
    "# Crear un arreglo de 1 dimensión con valores del 0 al 4\n",
    "a = np.array([0, 1, 2, 3, 4])\n",
    "\n",
    "# Crear un arreglo de 2 dimensiones con forma (2,3) con valores aleatorios\n",
    "b = np.random.rand(2,3)\n",
    "\n",
    "# Crear un arreglo de 3 dimensiones con forma (2,3,4) con valores cero\n",
    "c = np.zeros((2,3,4))\n",
    "\n",
    "# Imprimir los arreglos\n",
    "print(a)"
   ]
  },
  {
   "cell_type": "code",
   "execution_count": 2,
   "metadata": {},
   "outputs": [
    {
     "name": "stdout",
     "output_type": "stream",
     "text": [
      "[[0.61630422 0.43016035 0.46675002]\n",
      " [0.68480835 0.89346682 0.14386338]]\n"
     ]
    }
   ],
   "source": [
    "print(b)"
   ]
  },
  {
   "cell_type": "code",
   "execution_count": 3,
   "metadata": {},
   "outputs": [
    {
     "name": "stdout",
     "output_type": "stream",
     "text": [
      "[[[0. 0. 0. 0.]\n",
      "  [0. 0. 0. 0.]\n",
      "  [0. 0. 0. 0.]]\n",
      "\n",
      " [[0. 0. 0. 0.]\n",
      "  [0. 0. 0. 0.]\n",
      "  [0. 0. 0. 0.]]]\n"
     ]
    }
   ],
   "source": [
    "print(c)"
   ]
  },
  {
   "cell_type": "code",
   "execution_count": 4,
   "metadata": {},
   "outputs": [
    {
     "name": "stdout",
     "output_type": "stream",
     "text": [
      "3\n"
     ]
    }
   ],
   "source": [
    "# Acceder a un elemento del arreglo de 1 dimensión\n",
    "print(a[3])"
   ]
  },
  {
   "cell_type": "code",
   "execution_count": 5,
   "metadata": {},
   "outputs": [
    {
     "name": "stdout",
     "output_type": "stream",
     "text": [
      "0.14386337604270927\n"
     ]
    }
   ],
   "source": [
    "# Acceder a un elemento del arreglo de 2 dimensiones\n",
    "print(b[1,2])"
   ]
  },
  {
   "cell_type": "code",
   "execution_count": 6,
   "metadata": {},
   "outputs": [
    {
     "name": "stdout",
     "output_type": "stream",
     "text": [
      "0.0\n"
     ]
    }
   ],
   "source": [
    "# Acceder a un elemento del arreglo de 3 dimensiones\n",
    "print(c[1,2,3])"
   ]
  },
  {
   "cell_type": "code",
   "execution_count": 7,
   "metadata": {},
   "outputs": [
    {
     "name": "stdout",
     "output_type": "stream",
     "text": [
      "[ 0  1 10  3  4]\n"
     ]
    }
   ],
   "source": [
    "# Cambiar un elemento del arreglo de 1 dimensión\n",
    "a[2] = 10\n",
    "\n",
    "# Cambiar un elemento del arreglo de 2 dimensiones\n",
    "b[0,1] = 5\n",
    "\n",
    "# Cambiar un elemento del arreglo de 3 dimensiones\n",
    "c[1,2,3] = 7\n",
    "\n",
    "# Imprimir los arreglos actualizados\n",
    "print(a)"
   ]
  },
  {
   "cell_type": "code",
   "execution_count": 8,
   "metadata": {},
   "outputs": [
    {
     "name": "stdout",
     "output_type": "stream",
     "text": [
      "[[0.61630422 5.         0.46675002]\n",
      " [0.68480835 0.89346682 0.14386338]]\n"
     ]
    }
   ],
   "source": [
    "print(b)"
   ]
  },
  {
   "cell_type": "code",
   "execution_count": 9,
   "metadata": {},
   "outputs": [
    {
     "name": "stdout",
     "output_type": "stream",
     "text": [
      "[[[0. 0. 0. 0.]\n",
      "  [0. 0. 0. 0.]\n",
      "  [0. 0. 0. 0.]]\n",
      "\n",
      " [[0. 0. 0. 0.]\n",
      "  [0. 0. 0. 0.]\n",
      "  [0. 0. 0. 7.]]]\n"
     ]
    }
   ],
   "source": [
    "print(c)"
   ]
  },
  {
   "cell_type": "code",
   "execution_count": 10,
   "metadata": {},
   "outputs": [
    {
     "name": "stdout",
     "output_type": "stream",
     "text": [
      "[ 0  2 20  6  8]\n"
     ]
    }
   ],
   "source": [
    "# Realizar una operación matemática en todos los elementos del arreglo de 1 dimensión\n",
    "d = 2*a\n",
    "print(d)"
   ]
  },
  {
   "cell_type": "code",
   "execution_count": 11,
   "metadata": {},
   "outputs": [
    {
     "name": "stdout",
     "output_type": "stream",
     "text": [
      "[[3.79830888e-01 2.50000000e+01 2.17855577e-01]\n",
      " [4.68962477e-01 7.98282953e-01 2.06966710e-02]]\n"
     ]
    }
   ],
   "source": [
    "# Realizar una operación matemática en todos los elementos del arreglo de 2 dimensiones\n",
    "e = b**2\n",
    "print(e)"
   ]
  },
  {
   "cell_type": "code",
   "execution_count": 12,
   "metadata": {},
   "outputs": [
    {
     "name": "stdout",
     "output_type": "stream",
     "text": [
      "[[[ 3.  3.  3.  3.]\n",
      "  [ 3.  3.  3.  3.]\n",
      "  [ 3.  3.  3.  3.]]\n",
      "\n",
      " [[ 3.  3.  3.  3.]\n",
      "  [ 3.  3.  3.  3.]\n",
      "  [ 3.  3.  3. 10.]]]\n"
     ]
    }
   ],
   "source": [
    "# Realizar una operación matemática en todos los elementos del arreglo de 3 dimensiones\n",
    "f = c + 3\n",
    "print(f)"
   ]
  },
  {
   "attachments": {},
   "cell_type": "markdown",
   "metadata": {},
   "source": [
    "## **Creación de Arreglos**"
   ]
  },
  {
   "cell_type": "code",
   "execution_count": 4,
   "metadata": {},
   "outputs": [
    {
     "name": "stdout",
     "output_type": "stream",
     "text": [
      "[1 2 3 4]\n",
      "[[1 2]\n",
      " [3 4]\n",
      " [5 6]]\n",
      "[1 2 3]\n"
     ]
    }
   ],
   "source": [
    "# Crear un arreglo a partir de una lista o tupla:\n",
    "\n",
    "import numpy as np\n",
    "\n",
    "# crear un arreglo unidimensional a partir de una lista\n",
    "a = np.array([1, 2, 3, 4])\n",
    "print(a)\n",
    "\n",
    "# crear un arreglo bidimensional a partir de una lista de listas\n",
    "b = np.array([[1, 2], [3, 4], [5, 6]])\n",
    "print(b)\n",
    "\n",
    "# crear un arreglo a partir de una tupla\n",
    "c = np.array((1, 2, 3))\n",
    "print(c)"
   ]
  },
  {
   "cell_type": "code",
   "execution_count": 5,
   "metadata": {},
   "outputs": [
    {
     "name": "stdout",
     "output_type": "stream",
     "text": [
      "[[0. 0. 0.]\n",
      " [0. 0. 0.]\n",
      " [0. 0. 0.]]\n",
      "[[1. 1.]\n",
      " [1. 1.]]\n"
     ]
    }
   ],
   "source": [
    "# Crear un arreglo de ceros o unos:\n",
    "\n",
    "import numpy as np\n",
    "\n",
    "# crear un arreglo de ceros de tamaño (3,3)\n",
    "a = np.zeros((3,3))\n",
    "print(a)\n",
    "\n",
    "# crear un arreglo de unos de tamaño (2,2)\n",
    "b = np.ones((2,2))\n",
    "print(b)"
   ]
  },
  {
   "cell_type": "code",
   "execution_count": 6,
   "metadata": {},
   "outputs": [
    {
     "name": "stdout",
     "output_type": "stream",
     "text": [
      "[[0.66669813 0.5564334  0.64461222]\n",
      " [0.06796009 0.17627882 0.42192931]]\n",
      "[[1 8 3]\n",
      " [6 0 1]\n",
      " [5 4 2]]\n"
     ]
    }
   ],
   "source": [
    "# Crear un arreglo con valores aleatorios:\n",
    "\n",
    "import numpy as np\n",
    "\n",
    "# crear un arreglo de valores aleatorios de tamaño (2,3)\n",
    "a = np.random.rand(2,3)\n",
    "print(a)\n",
    "\n",
    "# crear un arreglo de valores aleatorios enteros de tamaño (3,3)\n",
    "b = np.random.randint(10, size=(3,3))\n",
    "print(b)"
   ]
  },
  {
   "cell_type": "code",
   "execution_count": 7,
   "metadata": {},
   "outputs": [
    {
     "name": "stdout",
     "output_type": "stream",
     "text": [
      "[0.   0.25 0.5  0.75 1.  ]\n",
      "[1 3 5 7 9]\n"
     ]
    }
   ],
   "source": [
    "# Crear un arreglo con valores espaciados uniformemente:\n",
    "\n",
    "import numpy as np\n",
    "\n",
    "# crear un arreglo de valores espaciados uniformemente entre 0 y 1\n",
    "a = np.linspace(0, 1, 5)\n",
    "print(a)\n",
    "\n",
    "# crear un arreglo de valores espaciados uniformemente entre 1 y 10 con un salto de 2\n",
    "b = np.arange(1, 10, 2)\n",
    "print(b)"
   ]
  },
  {
   "attachments": {},
   "cell_type": "markdown",
   "metadata": {},
   "source": [
    "## **Tipos de datos de Arrays y la implicación del tamaño del dato**"
   ]
  },
  {
   "attachments": {},
   "cell_type": "markdown",
   "metadata": {},
   "source": [
    "Los tipos de datos en los arreglos de NumPy son importantes porque determinan la cantidad de memoria que se utiliza para almacenar los elementos del arreglo y la precisión de los valores que se pueden representar. Aquí hay un ejemplo de cómo los tipos de datos y el tamaño del dato pueden afectar el tamaño de la memoria utilizada por el arreglo:"
   ]
  },
  {
   "cell_type": "code",
   "execution_count": 8,
   "metadata": {},
   "outputs": [
    {
     "name": "stdout",
     "output_type": "stream",
     "text": [
      "[1 2 3]\n",
      "int8\n",
      "1\n",
      "3\n",
      "[1 2 3]\n",
      "int32\n",
      "4\n",
      "12\n",
      "[1. 2. 3.]\n",
      "float64\n",
      "8\n",
      "24\n"
     ]
    }
   ],
   "source": [
    "import numpy as np\n",
    "\n",
    "# Crear un arreglo de 1 dimensión con valores enteros de 8 bits\n",
    "a = np.array([1, 2, 3], dtype=np.int8)\n",
    "print(a)\n",
    "print(a.dtype)\n",
    "print(a.itemsize)\n",
    "print(a.nbytes)\n",
    "\n",
    "# Crear un arreglo de 1 dimensión con valores enteros de 32 bits\n",
    "b = np.array([1, 2, 3], dtype=np.int32)\n",
    "print(b)\n",
    "print(b.dtype)\n",
    "print(b.itemsize)\n",
    "print(b.nbytes)\n",
    "\n",
    "# Crear un arreglo de 1 dimensión con valores de punto flotante de 64 bits\n",
    "c = np.array([1.0, 2.0, 3.0], dtype=np.float64)\n",
    "print(c)\n",
    "print(c.dtype)\n",
    "print(c.itemsize)\n",
    "print(c.nbytes)"
   ]
  },
  {
   "attachments": {},
   "cell_type": "markdown",
   "metadata": {},
   "source": [
    "## **Share (figura) de los arreglos**"
   ]
  },
  {
   "attachments": {},
   "cell_type": "markdown",
   "metadata": {},
   "source": [
    "Para compartir o copiar arreglos en NumPy, es importante tener en cuenta que, por defecto, NumPy no realiza copias de los arreglos a menos que sea necesario. Esto significa que si se modifica un arreglo, también se modificarán todos los arreglos que comparten los mismos datos. Aquí hay un ejemplo de cómo compartir arreglos en NumPy:"
   ]
  },
  {
   "cell_type": "code",
   "execution_count": 9,
   "metadata": {},
   "outputs": [
    {
     "name": "stdout",
     "output_type": "stream",
     "text": [
      "Arreglo original a:\n",
      "[[1 2 3]\n",
      " [4 5 6]]\n",
      "Vista del arreglo original b:\n",
      "[[1 2 3]\n",
      " [4 5 6]]\n",
      "Copia del arreglo original c:\n",
      "[[1 2 3]\n",
      " [4 5 6]]\n",
      "Arreglo original a modificado:\n",
      "[[100   2   3]\n",
      " [  4   5   6]]\n",
      "Vista del arreglo original b modificado:\n",
      "[[100   2   3]\n",
      " [  4   5   6]]\n",
      "Copia del arreglo original c no modificado:\n",
      "[[1 2 3]\n",
      " [4 5 6]]\n"
     ]
    }
   ],
   "source": [
    "import numpy as np\n",
    "\n",
    "# Crear un arreglo de 2 dimensiones\n",
    "a = np.array([[1, 2, 3], [4, 5, 6]])\n",
    "\n",
    "# Crear una vista del arreglo original\n",
    "b = a.view()\n",
    "\n",
    "# Crear una copia del arreglo original\n",
    "c = a.copy()\n",
    "\n",
    "# Imprimir los arreglos originales y sus copias\n",
    "print(\"Arreglo original a:\")\n",
    "print(a)\n",
    "print(\"Vista del arreglo original b:\")\n",
    "print(b)\n",
    "print(\"Copia del arreglo original c:\")\n",
    "print(c)\n",
    "\n",
    "# Modificar un valor del arreglo original\n",
    "a[0, 0] = 100\n",
    "\n",
    "# Imprimir los arreglos modificados\n",
    "print(\"Arreglo original a modificado:\")\n",
    "print(a)\n",
    "print(\"Vista del arreglo original b modificado:\")\n",
    "print(b)\n",
    "print(\"Copia del arreglo original c no modificado:\")\n",
    "print(c)"
   ]
  },
  {
   "attachments": {},
   "cell_type": "markdown",
   "metadata": {},
   "source": [
    "## **Métodos y operaciones básicas sobre Arreglos**"
   ]
  },
  {
   "cell_type": "code",
   "execution_count": 10,
   "metadata": {},
   "outputs": [
    {
     "name": "stdout",
     "output_type": "stream",
     "text": [
      "Arreglo original:\n",
      "[1 2 3 4 5]\n",
      "Suma de los elementos del arreglo:\n",
      "15\n",
      "Valor mínimo del arreglo:\n",
      "1\n",
      "Valor máximo del arreglo:\n",
      "5\n",
      "Media del arreglo:\n",
      "3.0\n",
      "Desviación estándar del arreglo:\n",
      "1.4142135623730951\n",
      "Arreglo después de añadir 2 a cada elemento:\n",
      "[3 4 5 6 7]\n",
      "Arreglo después de multiplicar cada elemento por 3:\n",
      "[ 3  6  9 12 15]\n",
      "Arreglo después de elevar cada elemento al cuadrado:\n",
      "[ 1  4  9 16 25]\n"
     ]
    }
   ],
   "source": [
    "import numpy as np\n",
    "\n",
    "# Crear un arreglo de 1 dimensión con valores enteros\n",
    "a = np.array([1, 2, 3, 4, 5])\n",
    "\n",
    "# Imprimir el arreglo original\n",
    "print(\"Arreglo original:\")\n",
    "print(a)\n",
    "\n",
    "# Sumar todos los elementos del arreglo\n",
    "print(\"Suma de los elementos del arreglo:\")\n",
    "print(np.sum(a))\n",
    "\n",
    "# Obtener el valor mínimo del arreglo\n",
    "print(\"Valor mínimo del arreglo:\")\n",
    "print(np.min(a))\n",
    "\n",
    "# Obtener el valor máximo del arreglo\n",
    "print(\"Valor máximo del arreglo:\")\n",
    "print(np.max(a))\n",
    "\n",
    "# Calcular la media del arreglo\n",
    "print(\"Media del arreglo:\")\n",
    "print(np.mean(a))\n",
    "\n",
    "# Calcular la desviación estándar del arreglo\n",
    "print(\"Desviación estándar del arreglo:\")\n",
    "print(np.std(a))\n",
    "\n",
    "# Añadir un valor a cada elemento del arreglo\n",
    "print(\"Arreglo después de añadir 2 a cada elemento:\")\n",
    "print(a + 2)\n",
    "\n",
    "# Multiplicar cada elemento del arreglo por un valor\n",
    "print(\"Arreglo después de multiplicar cada elemento por 3:\")\n",
    "print(a * 3)\n",
    "\n",
    "# Elevar cada elemento del arreglo a una potencia\n",
    "print(\"Arreglo después de elevar cada elemento al cuadrado:\")\n",
    "print(np.power(a, 2))"
   ]
  },
  {
   "attachments": {},
   "cell_type": "markdown",
   "metadata": {},
   "source": [
    "## **Ejemplo básico de Operaciones Vectoriales**"
   ]
  },
  {
   "cell_type": "code",
   "execution_count": 11,
   "metadata": {},
   "outputs": [
    {
     "name": "stdout",
     "output_type": "stream",
     "text": [
      "Suma de los dos arreglos:\n",
      "[5 7 9]\n",
      "Resta de los dos arreglos:\n",
      "[-3 -3 -3]\n",
      "Multiplicación de los dos arreglos:\n",
      "[ 4 10 18]\n",
      "División de los dos arreglos:\n",
      "[0.25 0.4  0.5 ]\n",
      "Producto punto de los dos arreglos:\n",
      "32\n",
      "Producto cruz de los dos arreglos:\n",
      "[-3  6 -3]\n"
     ]
    }
   ],
   "source": [
    "import numpy as np\n",
    "\n",
    "# Crear dos arreglos de 1 dimensión con valores enteros\n",
    "a = np.array([1, 2, 3])\n",
    "b = np.array([4, 5, 6])\n",
    "\n",
    "# Sumar los dos arreglos\n",
    "print(\"Suma de los dos arreglos:\")\n",
    "print(a + b)\n",
    "\n",
    "# Restar los dos arreglos\n",
    "print(\"Resta de los dos arreglos:\")\n",
    "print(a - b)\n",
    "\n",
    "# Multiplicar los dos arreglos elemento a elemento\n",
    "print(\"Multiplicación de los dos arreglos:\")\n",
    "print(a * b)\n",
    "\n",
    "# Dividir los dos arreglos elemento a elemento\n",
    "print(\"División de los dos arreglos:\")\n",
    "print(a / b)\n",
    "\n",
    "# Calcular el producto punto de los dos arreglos\n",
    "print(\"Producto punto de los dos arreglos:\")\n",
    "print(np.dot(a, b))\n",
    "\n",
    "# Calcular el producto cruz de los dos arreglos\n",
    "print(\"Producto cruz de los dos arreglos:\")\n",
    "print(np.cross(a, b))"
   ]
  },
  {
   "attachments": {},
   "cell_type": "markdown",
   "metadata": {},
   "source": [
    "| **Inicio** | **atrás 18** | **Siguiente 20** |\n",
    "|----------- |-------------- |---------------|\n",
    "| [🏠](../../README.md) | [⏪](./18.Relaciones_Estadisticas.ipynb)| [⏩](./20.Busqueda_y_Filtrado.ipynb)|"
   ]
  }
 ],
 "metadata": {
  "kernelspec": {
   "display_name": "base",
   "language": "python",
   "name": "python3"
  },
  "language_info": {
   "codemirror_mode": {
    "name": "ipython",
    "version": 3
   },
   "file_extension": ".py",
   "mimetype": "text/x-python",
   "name": "python",
   "nbconvert_exporter": "python",
   "pygments_lexer": "ipython3",
   "version": "3.9.12"
  },
  "orig_nbformat": 4
 },
 "nbformat": 4,
 "nbformat_minor": 2
}
