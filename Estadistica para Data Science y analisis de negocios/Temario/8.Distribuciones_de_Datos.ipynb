{
 "cells": [
  {
   "attachments": {},
   "cell_type": "markdown",
   "metadata": {},
   "source": [
    "| **Inicio** | **atrás 7** | **Siguiente 9** |\n",
    "|----------- |-------------- |---------------|\n",
    "| [🏠](../../README.md) | [⏪](./7.Medidas_de_Dispersion.ipynb)| [⏩](./9.Tendencia_Central.ipynb)|"
   ]
  },
  {
   "attachments": {},
   "cell_type": "markdown",
   "metadata": {},
   "source": [
    "# **8. Analiza Distribuciones de Datos con Python usando Cuantiles ➤ Cuartiles, Quintiles y Percentiles**"
   ]
  },
  {
   "attachments": {},
   "cell_type": "markdown",
   "metadata": {},
   "source": [
    "## **Introducción a los cuantiles**"
   ]
  },
  {
   "attachments": {},
   "cell_type": "markdown",
   "metadata": {},
   "source": [
    "Los cuantiles son medidas estadísticas que dividen una distribución de datos ordenados en partes iguales. Por ejemplo, el cuantil `0.5` (también conocido como la mediana) divide los datos en dos partes iguales, donde el `50%` de los datos están por encima y el otro `50%` están por debajo de este valor.\n",
    "\n",
    "Los cuantiles se utilizan a menudo para resumir la distribución de los datos y para comparar diferentes conjuntos de datos. Además de la mediana (cuantil `0.5`), otros cuantiles comunes incluyen el primer cuartil (`Q1`), que es el cuantil `0.25` y el tercer cuartil (`Q3`), que es el cuantil `0.75`.\n",
    "\n",
    "Los cuantiles también se pueden usar para detectar valores atípicos (`outliers`) en los datos. Por ejemplo, un valor que se encuentra muy por encima del tercer cuartil puede ser considerado un valor atípico y se puede investigar más a fondo para determinar si es una observación válida o un error.\n",
    "\n",
    "En resumen, los cuantiles son medidas útiles para describir y analizar la distribución de los datos.\n",
    "\n",
    "Ejemplo:\n",
    "\n",
    "Supongamos que tenemos los siguientes datos:\n",
    "\n",
    "`datos = [3, 7, 2, 8, 4, 5, 10, 1, 6, 9]`\n",
    "\n",
    "Para calcular los cuantiles usando Numpy en Python, podemos usar la función `np.percentile()` y especificar el porcentaje de los cuantiles que queremos calcular. Por ejemplo, para calcular el primer `cuartil (Q1)`, segundo `cuartil (Q2)` y tercer `cuartil (Q3)`, podemos usar el siguiente código:"
   ]
  },
  {
   "cell_type": "code",
   "execution_count": 1,
   "metadata": {},
   "outputs": [
    {
     "name": "stdout",
     "output_type": "stream",
     "text": [
      "Primer cuartil (Q1): 3.25\n",
      "Segundo cuartil (Q2): 5.5\n",
      "Tercer cuartil (Q3): 7.75\n"
     ]
    }
   ],
   "source": [
    "import numpy as np\n",
    "\n",
    "datos = [3, 7, 2, 8, 4, 5, 10, 1, 6, 9]\n",
    "\n",
    "Q1 = np.percentile(datos, 25)\n",
    "Q2 = np.percentile(datos, 50)\n",
    "Q3 = np.percentile(datos, 75)\n",
    "\n",
    "print(\"Primer cuartil (Q1):\", Q1)\n",
    "print(\"Segundo cuartil (Q2):\", Q2)\n",
    "print(\"Tercer cuartil (Q3):\", Q3)"
   ]
  },
  {
   "attachments": {},
   "cell_type": "markdown",
   "metadata": {},
   "source": [
    "También podemos usar la función `np.quantile()` para calcular los cuantiles, especificando la fracción en lugar del porcentaje. Por ejemplo, para calcular el primer decil (`D1`), podemos usar el siguiente código:"
   ]
  },
  {
   "cell_type": "code",
   "execution_count": 2,
   "metadata": {},
   "outputs": [
    {
     "name": "stdout",
     "output_type": "stream",
     "text": [
      "Primer decil (D1): 1.9\n"
     ]
    }
   ],
   "source": [
    "D1 = np.quantile(datos, 0.1)\n",
    "print(\"Primer decil (D1):\", D1)"
   ]
  },
  {
   "attachments": {},
   "cell_type": "markdown",
   "metadata": {},
   "source": [
    "## **Tipos de cuantiles**"
   ]
  },
  {
   "attachments": {},
   "cell_type": "markdown",
   "metadata": {},
   "source": [
    "Existen varios tipos de cuantiles, entre ellos:\n",
    "\n",
    "* Cuartiles: dividen la distribución en cuatro partes iguales (Q1, Q2 o mediana, Q3).\n",
    "* Deciles: dividen la distribución en diez partes iguales (D1, D2, ..., D9).\n",
    "* Percentiles: dividen la distribución en cien partes iguales (P1, P2, ..., P99).\n",
    "\n",
    "En general, los cuantiles se utilizan para entender la distribución de los datos y encontrar valores atípicos o extremos."
   ]
  },
  {
   "cell_type": "code",
   "execution_count": 3,
   "metadata": {},
   "outputs": [
    {
     "data": {
      "image/png": "[encoded data removed]",
      "text/plain": [
       "<Figure size 432x288 with 1 Axes>"
      ]
     },
     "metadata": {
      "needs_background": "light"
     },
     "output_type": "display_data"
    }
   ],
   "source": [
    "import numpy as np\n",
    "import matplotlib.pyplot as plt\n",
    "\n",
    "# Generar una muestra aleatoria de 100 valores de una distribución normal estándar\n",
    "np.random.seed(42)\n",
    "muestras = np.random.randn(100)\n",
    "\n",
    "# Calcular los cuantiles 0.25, 0.5 y 0.75\n",
    "q25, q50, q75 = np.percentile(muestras, [25, 50, 75])\n",
    "\n",
    "# Graficar un histograma de las muestras junto con líneas verticales que indican los cuantiles\n",
    "plt.hist(muestras, bins=10, alpha=0.5)\n",
    "plt.axvline(q25, color='r', linestyle='--', label='Cuantil 25')\n",
    "plt.axvline(q50, color='g', linestyle='--', label='Cuantil 50')\n",
    "plt.axvline(q75, color='b', linestyle='--', label='Cuantil 75')\n",
    "plt.legend()\n",
    "plt.show()"
   ]
  },
  {
   "attachments": {},
   "cell_type": "markdown",
   "metadata": {},
   "source": [
    "En este ejemplo, utilizamos la función `np.percentile` de NumPy para calcular los cuantiles `0.25`, `0.5` y `0.75` de la muestra. Luego, graficamos un histograma de las muestras junto con líneas verticales que indican la ubicación de cada cuantil en la distribución.\n",
    "\n",
    "La gráfica resultante muestra que el cuantil `25` (o primer cuartil) se encuentra en `-0.67`, el cuantil `50` (o segundo cuartil, también conocido como mediana) se encuentra en `0.08` y el cuantil `75` (o tercer cuartil) se encuentra en `0.73`. Estos cuantiles dividen la muestra en cuatro partes iguales, cada una conteniendo el `25%` de los valores."
   ]
  },
  {
   "attachments": {},
   "cell_type": "markdown",
   "metadata": {},
   "source": [
    "## **Ejemplo de cálculo de los cuartiles**"
   ]
  },
  {
   "cell_type": "code",
   "execution_count": 4,
   "metadata": {},
   "outputs": [],
   "source": [
    "import numpy as np\n",
    "\n",
    "data = np.array([20, 25, 30, 35, 40, 45, 50, 55, 60, 65])"
   ]
  },
  {
   "attachments": {},
   "cell_type": "markdown",
   "metadata": {},
   "source": [
    "Para calcular los cuartiles de esta muestra, podemos utilizar la función `np.percentile()` de Numpy. Por ejemplo, para calcular el primer cuartil (`Q1`), podemos hacer lo siguiente:"
   ]
  },
  {
   "cell_type": "code",
   "execution_count": 5,
   "metadata": {},
   "outputs": [
    {
     "name": "stdout",
     "output_type": "stream",
     "text": [
      "Primer cuartil (Q1): 31.25\n"
     ]
    }
   ],
   "source": [
    "Q1 = np.percentile(data, 25)\n",
    "print(\"Primer cuartil (Q1):\", Q1)"
   ]
  },
  {
   "attachments": {},
   "cell_type": "markdown",
   "metadata": {},
   "source": [
    "De manera similar, para calcular el segundo cuartil (`Q2`), que corresponde a la mediana, podemos utilizar la función `np.median()`:"
   ]
  },
  {
   "cell_type": "code",
   "execution_count": 6,
   "metadata": {},
   "outputs": [
    {
     "name": "stdout",
     "output_type": "stream",
     "text": [
      "Segundo cuartil (Q2): 42.5\n"
     ]
    }
   ],
   "source": [
    "Q2 = np.median(data)\n",
    "print(\"Segundo cuartil (Q2):\", Q2)"
   ]
  },
  {
   "attachments": {},
   "cell_type": "markdown",
   "metadata": {},
   "source": [
    "Finalmente, para calcular el tercer cuartil (`Q3`), podemos hacer lo siguiente:"
   ]
  },
  {
   "cell_type": "code",
   "execution_count": 7,
   "metadata": {},
   "outputs": [
    {
     "name": "stdout",
     "output_type": "stream",
     "text": [
      "Tercer cuartil (Q3): 53.75\n"
     ]
    }
   ],
   "source": [
    "Q3 = np.percentile(data, 75)\n",
    "print(\"Tercer cuartil (Q3):\", Q3)"
   ]
  },
  {
   "attachments": {},
   "cell_type": "markdown",
   "metadata": {},
   "source": [
    "Podemos visualizar estos cuartiles en un diagrama de caja (boxplot) utilizando la librería Seaborn:"
   ]
  },
  {
   "cell_type": "code",
   "execution_count": 8,
   "metadata": {},
   "outputs": [
    {
     "data": {
      "text/plain": [
       "<AxesSubplot:>"
      ]
     },
     "execution_count": 8,
     "metadata": {},
     "output_type": "execute_result"
    },
    {
     "data": {
      "image/png": "[encoded data removed]",
      "text/plain": [
       "<Figure size 432x288 with 1 Axes>"
      ]
     },
     "metadata": {
      "needs_background": "light"
     },
     "output_type": "display_data"
    }
   ],
   "source": [
    "import seaborn as sns\n",
    "\n",
    "sns.boxplot(x=data)"
   ]
  },
  {
   "attachments": {},
   "cell_type": "markdown",
   "metadata": {},
   "source": [
    "En el diagrama, la línea central representa la mediana (segundo cuartil, `Q2`), la caja abarca desde el primer cuartil (`Q1`) hasta el tercer cuartil (`Q3`), y las líneas (`bigotes`) se extienden hasta los valores más extremos dentro del rango del `1.5` veces el rango intercuartílico. Los puntos que quedan por fuera de los bigotes se consideran valores atípicos."
   ]
  },
  {
   "attachments": {},
   "cell_type": "markdown",
   "metadata": {},
   "source": [
    "## **Cálculo de los cuantiles con Numpy**"
   ]
  },
  {
   "cell_type": "code",
   "execution_count": 9,
   "metadata": {},
   "outputs": [
    {
     "name": "stdout",
     "output_type": "stream",
     "text": [
      "Primer cuartil (Q1): -0.6228097714716364\n",
      "Mediana (Q2): 0.04830328730310449\n",
      "Tercer cuartil (Q3): 0.6760140563586218\n"
     ]
    },
    {
     "data": {
      "image/png": "[encoded data removed]",
      "text/plain": [
       "<Figure size 432x288 with 1 Axes>"
      ]
     },
     "metadata": {
      "needs_background": "light"
     },
     "output_type": "display_data"
    }
   ],
   "source": [
    "import numpy as np\n",
    "\n",
    "# Crear una muestra de datos aleatorios\n",
    "data = np.random.normal(0, 1, 1000)\n",
    "\n",
    "# Calcular el percentil 25 (primer cuartil)\n",
    "q1 = np.percentile(data, 25)\n",
    "\n",
    "# Calcular el percentil 50 (mediana)\n",
    "mediana = np.percentile(data, 50)\n",
    "\n",
    "# Calcular el percentil 75 (tercer cuartil)\n",
    "q3 = np.percentile(data, 75)\n",
    "\n",
    "# Imprimir los resultados\n",
    "print(\"Primer cuartil (Q1):\", q1)\n",
    "print(\"Mediana (Q2):\", mediana)\n",
    "print(\"Tercer cuartil (Q3):\", q3)\n",
    "\n",
    "# Crear un boxplot de la muestra de datos\n",
    "import matplotlib.pyplot as plt\n",
    "plt.boxplot(data)\n",
    "plt.show()"
   ]
  },
  {
   "attachments": {},
   "cell_type": "markdown",
   "metadata": {},
   "source": [
    "En este ejemplo, se crea una muestra de datos aleatorios con una distribución normal estándar. Luego, se utiliza la función `np.percentile()` de Numpy para calcular el primer cuartil (percentil 25), la mediana (percentil 50) y el tercer cuartil (percentil 75). Estos valores se imprimen en la consola para su visualización.\n",
    "\n",
    "Finalmente, se utiliza Matplotlib para crear un boxplot de la muestra de datos. El boxplot muestra la distribución de los datos y los cuartiles calculados se representan como líneas horizontales en el gráfico."
   ]
  },
  {
   "attachments": {},
   "cell_type": "markdown",
   "metadata": {},
   "source": [
    "| **Inicio** | **atrás 7** | **Siguiente 9** |\n",
    "|----------- |-------------- |---------------|\n",
    "| [🏠](../../README.md) | [⏪](./7.Medidas_de_Dispersion.ipynb)| [⏩](./9.Tendencia_Central.ipynb)|"
   ]
  }
 ],
 "metadata": {
  "kernelspec": {
   "display_name": "base",
   "language": "python",
   "name": "python3"
  },
  "language_info": {
   "codemirror_mode": {
    "name": "ipython",
    "version": 3
   },
   "file_extension": ".py",
   "mimetype": "text/x-python",
   "name": "python",
   "nbconvert_exporter": "python",
   "pygments_lexer": "ipython3",
   "version": "3.9.12"
  },
  "orig_nbformat": 4
 },
 "nbformat": 4,
 "nbformat_minor": 2
}
