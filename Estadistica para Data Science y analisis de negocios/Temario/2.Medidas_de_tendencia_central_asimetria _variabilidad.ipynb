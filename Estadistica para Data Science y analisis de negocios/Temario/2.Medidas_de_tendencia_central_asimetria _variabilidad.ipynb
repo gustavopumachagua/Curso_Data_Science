{
 "cells": [
  {
   "attachments": {},
   "cell_type": "markdown",
   "metadata": {},
   "source": [
    "| **Inicio** | **atrás 1** | **Siguiente 3** |\n",
    "|----------- |-------------- |---------------|\n",
    "| [🏠](../../README.md) | [⏪](./1.Fundamentos_de_estad%C3%ADsticas_descriptiva.ipynb)| [⏩](./3.Distribuciones.ipynb)|"
   ]
  },
  {
   "attachments": {},
   "cell_type": "markdown",
   "metadata": {},
   "source": [
    "# **2. Medidas de tendencia central, asimetría y variabilidad**"
   ]
  },
  {
   "attachments": {},
   "cell_type": "markdown",
   "metadata": {},
   "source": [
    "## **Principales medidas de tendencia central: media, mediana y moda**"
   ]
  },
  {
   "attachments": {},
   "cell_type": "markdown",
   "metadata": {},
   "source": [
    "Las medidas de tendencia central son un conjunto de técnicas estadísticas que se utilizan para resumir y describir un conjunto de datos. Estas medidas se utilizan para identificar el valor `\"central\"` o `\"típico\"` en un conjunto de datos. Las tres medidas de tendencia central más comunes son la media, la mediana y la moda.\n",
    "\n",
    "* La media es el promedio aritmético de un conjunto de datos. Se calcula sumando todos los valores en el conjunto y dividiendo esa suma por el número total de valores en el conjunto.\n",
    "\n",
    "* La mediana es el valor que se encuentra en el medio de un conjunto de datos ordenado. Para encontrar la mediana, se ordenan los datos y se encuentra el valor que está en la mitad. Si el número de valores en el conjunto es par, se toma la media de los dos valores del medio.\n",
    "\n",
    "* La moda es el valor que ocurre con mayor frecuencia en un conjunto de datos. En otras palabras, la moda es el valor que tiene la mayor frecuencia de aparición en el conjunto.\n",
    "\n",
    "A continuación, mostraremos cómo calcular estas medidas de tendencia central en Python:"
   ]
  },
  {
   "cell_type": "code",
   "execution_count": 1,
   "metadata": {},
   "outputs": [
    {
     "name": "stdout",
     "output_type": "stream",
     "text": [
      "Media: 4.2\n",
      "Mediana: 4.5\n",
      "Moda: 6\n"
     ]
    }
   ],
   "source": [
    "import statistics\n",
    "\n",
    "datos = [1, 2, 2, 3, 4, 5, 6, 6, 6, 7]\n",
    "\n",
    "# Media\n",
    "media = statistics.mean(datos)\n",
    "print(\"Media:\", media)\n",
    "\n",
    "# Mediana\n",
    "mediana = statistics.median(datos)\n",
    "print(\"Mediana:\", mediana)\n",
    "\n",
    "# Moda\n",
    "moda = statistics.mode(datos)\n",
    "print(\"Moda:\", moda)"
   ]
  },
  {
   "attachments": {},
   "cell_type": "markdown",
   "metadata": {},
   "source": [
    "En este ejemplo, tenemos un conjunto de datos `datos` que contiene valores numéricos. Utilizamos la biblioteca `statistics` de Python para calcular la media, mediana y moda del conjunto de datos."
   ]
  },
  {
   "attachments": {},
   "cell_type": "markdown",
   "metadata": {},
   "source": [
    "Además de calcular estas medidas de tendencia central, también podemos graficar los datos para visualizar mejor la distribución de los mismos. Por ejemplo, podemos graficar un histograma para mostrar la distribución de frecuencias de los datos:"
   ]
  },
  {
   "cell_type": "code",
   "execution_count": 2,
   "metadata": {},
   "outputs": [
    {
     "data": {
      "image/png": "[encoded data removed]",
      "text/plain": [
       "<Figure size 432x288 with 1 Axes>"
      ]
     },
     "metadata": {
      "needs_background": "light"
     },
     "output_type": "display_data"
    }
   ],
   "source": [
    "import matplotlib.pyplot as plt\n",
    "\n",
    "datos = [1, 2, 2, 3, 4, 5, 6, 6, 6, 7]\n",
    "\n",
    "plt.hist(datos, bins=range(min(datos), max(datos) + 2, 1))\n",
    "plt.xlabel('Valor')\n",
    "plt.ylabel('Frecuencia')\n",
    "plt.title('Histograma de datos')\n",
    "plt.show()"
   ]
  },
  {
   "attachments": {},
   "cell_type": "markdown",
   "metadata": {},
   "source": [
    "En este caso, utilizamos la biblioteca `matplotlib` para graficar un histograma de los datos. El histograma muestra la distribución de frecuencias de los datos, donde el eje `x` representa los valores en el conjunto de datos y el eje `y` representa la frecuencia de aparición de cada valor. En este ejemplo, podemos ver que la mayoría de los datos se encuentran en el rango de `4` a `6`."
   ]
  },
  {
   "attachments": {},
   "cell_type": "markdown",
   "metadata": {},
   "source": [
    "## **Midiendo el sesgo**"
   ]
  },
  {
   "attachments": {},
   "cell_type": "markdown",
   "metadata": {},
   "source": [
    "En estadística, el sesgo se refiere a la tendencia de una distribución de datos de desviarse de una distribución simétrica. En otras palabras, indica si la distribución de datos está sesgada hacia la izquierda o hacia la derecha en relación con la media.\n",
    "\n",
    "Una distribución sesgada a la derecha tiene una cola larga hacia la derecha y la media es mayor que la mediana. Por otro lado, una distribución sesgada a la izquierda tiene una cola larga hacia la izquierda y la media es menor que la mediana.\n",
    "\n",
    "Para medir el sesgo, se puede utilizar una medida de asimetría, como el coeficiente de asimetría de Pearson o el coeficiente de asimetría de Fisher.\n",
    "\n",
    "* El coeficiente de asimetría de `Pearson` se define como:\n",
    "\n",
    "\n",
    "$3 * (media - mediana) / desviacion_estandar$\n",
    "\n",
    "donde `media` es la media de los datos, `mediana` es la mediana de los datos y `desviacion_estandar` es la desviación estándar de los datos.\n",
    "\n",
    "* El coeficiente de asimetría de `Fisher` se define como:\n",
    "\n",
    "$$\n",
    "\\frac{\\sum_{i=1}^{n}(x_i - \\bar{x})^3/n}{s^3} = \\frac{\\sum_{i=1}^{n}(x_i - \\bar{x})^3/n}{\\left[\\sum_{i=1}^{n}(x_i - \\bar{x})^2/n\\right]^{3/2}}\n",
    "$$\n",
    "\n",
    "\n",
    "donde $x_i$ es el $i$-ésimo valor en la muestra, $\\bar{x}$ es la media muestral y $s$ es la desviación estándar muestral.\n",
    "\n",
    "En Python, se pueden utilizar las funciones `skew()` de la biblioteca `scipy.stats` para calcular el coeficiente de asimetría de `Pearson` y `skewness()` de la biblioteca `pingouin` para calcular el coeficiente de asimetría de `Fisher`.\n",
    "\n",
    "Aquí hay un ejemplo de cómo calcular el coeficiente de asimetría de `Pearson` y `Fisher` utilizando Python:"
   ]
  },
  {
   "cell_type": "code",
   "execution_count": 12,
   "metadata": {},
   "outputs": [
    {
     "name": "stdout",
     "output_type": "stream",
     "text": [
      "Coeficiente de asimetría de Pearson: 0.0\n"
     ]
    }
   ],
   "source": [
    "import numpy as np\n",
    "\n",
    "data = np.array([1, 2, 3, 4, 5, 6, 7, 8, 9, 10]) # Ejemplo de datos\n",
    "\n",
    "media = np.mean(data) # Cálculo de la media\n",
    "mediana = np.median(data) # Cálculo de la mediana\n",
    "desv_est = np.std(data, ddof=1) # Cálculo de la desviación estándar (usando ddof=1 para obtener la estimación no sesgada)\n",
    "\n",
    "coef_asim = 3 * (media - mediana) / desv_est # Cálculo del coeficiente de asimetría\n",
    "\n",
    "print(\"Coeficiente de asimetría de Pearson:\", coef_asim)"
   ]
  },
  {
   "attachments": {},
   "cell_type": "markdown",
   "metadata": {},
   "source": [
    "Como se puede observar, el coeficiente de asimetría de Pearson es cero, lo que indica que la distribución es simétrica."
   ]
  },
  {
   "cell_type": "code",
   "execution_count": 13,
   "metadata": {},
   "outputs": [
    {
     "name": "stdout",
     "output_type": "stream",
     "text": [
      "Coeficiente de asimetría de Pearson: 0.0\n"
     ]
    }
   ],
   "source": [
    "from scipy.stats import skew\n",
    "\n",
    "data = [1, 2, 3, 4, 5, 6, 7, 8, 9, 10]\n",
    "\n",
    "skewness = skew(data)\n",
    "\n",
    "print(\"Coeficiente de asimetría de Pearson:\", skewness)"
   ]
  },
  {
   "attachments": {},
   "cell_type": "markdown",
   "metadata": {},
   "source": [
    "Como se puede observar, el coeficiente de asimetría de Pearson es cero, lo que indica que la distribución es simétrica."
   ]
  },
  {
   "cell_type": "code",
   "execution_count": 15,
   "metadata": {},
   "outputs": [
    {
     "name": "stdout",
     "output_type": "stream",
     "text": [
      "Coeficiente de asimetría de Fisher: 0.0\n"
     ]
    }
   ],
   "source": [
    "import numpy as np\n",
    "\n",
    "datos = np.array([1, 2, 3, 4, 5, 6, 7, 8, 9, 10])\n",
    "media = np.mean(datos)\n",
    "desv_std = np.std(datos)\n",
    "n = len(datos)\n",
    "\n",
    "coef_fisher = np.sum((datos - media) ** 3 / n) / (desv_std ** 3)\n",
    "\n",
    "print('Coeficiente de asimetría de Fisher:', coef_fisher)"
   ]
  },
  {
   "attachments": {},
   "cell_type": "markdown",
   "metadata": {},
   "source": [
    "Como se puede observar, el coeficiente de asimetría de Fisher es cero, lo que indica que la distribución es simétrica."
   ]
  },
  {
   "attachments": {},
   "cell_type": "markdown",
   "metadata": {},
   "source": [
    "## **Midiendo la dispersión de los datos: calcular la varianza**"
   ]
  },
  {
   "attachments": {},
   "cell_type": "markdown",
   "metadata": {},
   "source": [
    "En estadística, la varianza es una medida de dispersión que indica cuán alejados están los datos de su valor esperado o media. Es una medida de cuánto se extienden los datos en relación con su valor central. En general, una varianza grande indica que los datos están más alejados de la media, mientras que una varianza pequeña indica que los datos están más cercanos a la media.\n",
    "\n",
    "La fórmula de la varianza se puede escribir como:\n",
    "\n",
    "$\n",
    "Var(X) = \\frac{1}{n-1} \\sum_{i=1}^{n} (x_i - \\bar{x})^2\n",
    "$\n",
    "\n",
    "donde $x_i$ es el $i$-ésimo valor en la muestra, $\\bar{x}$ es la media de la muestra y $n$ es el tamaño de la muestra.\n",
    "\n",
    "En Python, podemos calcular la varianza usando la biblioteca `NumPy` de la siguiente manera:"
   ]
  },
  {
   "cell_type": "code",
   "execution_count": 16,
   "metadata": {},
   "outputs": [
    {
     "name": "stdout",
     "output_type": "stream",
     "text": [
      "Varianza: 9.166666666666666\n"
     ]
    }
   ],
   "source": [
    "import numpy as np\n",
    "\n",
    "datos = np.array([1, 2, 3, 4, 5, 6, 7, 8, 9, 10])\n",
    "\n",
    "varianza = np.var(datos, ddof=1)\n",
    "\n",
    "print('Varianza:', varianza)"
   ]
  },
  {
   "attachments": {},
   "cell_type": "markdown",
   "metadata": {},
   "source": [
    "En este ejemplo, se ha creado una matriz de datos y se ha calculado la varianza utilizando la función `np.var()`. El argumento `ddof` es igual a `1`, lo que indica que se debe utilizar la fórmula de la varianza con la corrección de `Bessel`."
   ]
  },
  {
   "attachments": {},
   "cell_type": "markdown",
   "metadata": {},
   "source": [
    "También se puede representar gráficamente la varianza usando un diagrama de caja. El diagrama de caja muestra la distribución de los datos mediante un rectángulo con líneas verticales en los extremos, conocido como la caja, y dos líneas verticales en los lados, conocidas como los bigotes. El rectángulo se extiende desde el primer cuartil hasta el tercer cuartil, y la línea dentro del rectángulo es la mediana. Los bigotes se extienden hasta los valores mínimo y máximo, pero no incluyen los valores atípicos."
   ]
  },
  {
   "cell_type": "code",
   "execution_count": 17,
   "metadata": {},
   "outputs": [
    {
     "data": {
      "image/png": "[encoded data removed]",
      "text/plain": [
       "<Figure size 432x288 with 1 Axes>"
      ]
     },
     "metadata": {
      "needs_background": "light"
     },
     "output_type": "display_data"
    }
   ],
   "source": [
    "import matplotlib.pyplot as plt\n",
    "import numpy as np\n",
    "\n",
    "datos = np.array([1, 2, 3, 4, 5, 6, 7, 8, 9, 10])\n",
    "\n",
    "plt.boxplot(datos)\n",
    "plt.title('Diagrama de caja')\n",
    "plt.ylabel('Valores')\n",
    "plt.show()"
   ]
  },
  {
   "attachments": {},
   "cell_type": "markdown",
   "metadata": {},
   "source": [
    "En este ejemplo, podemos observar que la varianza es grande ya que los valores están más alejados de la media."
   ]
  },
  {
   "attachments": {},
   "cell_type": "markdown",
   "metadata": {},
   "source": [
    "## **Desviación estándar y coeficiente de variación**"
   ]
  },
  {
   "attachments": {},
   "cell_type": "markdown",
   "metadata": {},
   "source": [
    "La desviación estándar y el coeficiente de variación son medidas de dispersión utilizadas en estadísticas para medir cuánto se alejan los datos de la media.\n",
    "\n",
    "La desviación estándar se calcula como la raíz cuadrada de la varianza y se expresa en las mismas unidades que los datos originales. El coeficiente de variación es la desviación estándar dividida por la media y se expresa como un porcentaje, lo que lo hace útil para comparar la dispersión entre diferentes conjuntos de datos que tienen diferentes unidades.\n",
    "\n",
    "Para calcular la desviación estándar y el coeficiente de variación en Python, podemos utilizar las funciones `std` y `mean` de `NumPy`, respectivamente.\n",
    "\n",
    "A continuación, se muestra un ejemplo de cómo calcular la desviación estándar y el coeficiente de variación de una muestra de datos:"
   ]
  },
  {
   "cell_type": "code",
   "execution_count": 18,
   "metadata": {},
   "outputs": [
    {
     "name": "stdout",
     "output_type": "stream",
     "text": [
      "Media: 5.5\n",
      "Desviación estándar: 2.8722813232690143\n",
      "Coeficiente de variación: 52.22329678670935\n"
     ]
    }
   ],
   "source": [
    "import numpy as np\n",
    "\n",
    "datos = [1, 2, 3, 4, 5, 6, 7, 8, 9, 10]\n",
    "\n",
    "media = np.mean(datos)\n",
    "desv_estandar = np.std(datos)\n",
    "coef_variacion = desv_estandar / media * 100\n",
    "\n",
    "print('Media:', media)\n",
    "print('Desviación estándar:', desv_estandar)\n",
    "print('Coeficiente de variación:', coef_variacion)"
   ]
  },
  {
   "attachments": {},
   "cell_type": "markdown",
   "metadata": {},
   "source": [
    "Para visualizar la desviación estándar en un gráfico, podemos utilizar la función `errorbar` de `Matplotlib`, que nos permite trazar una línea que representa la media y barras de error que indican la desviación estándar:"
   ]
  },
  {
   "cell_type": "code",
   "execution_count": 19,
   "metadata": {},
   "outputs": [
    {
     "data": {
      "image/png": "[encoded data removed]",
      "text/plain": [
       "<Figure size 432x288 with 1 Axes>"
      ]
     },
     "metadata": {
      "needs_background": "light"
     },
     "output_type": "display_data"
    }
   ],
   "source": [
    "import matplotlib.pyplot as plt\n",
    "\n",
    "plt.errorbar(x=range(len(datos)), y=datos, yerr=desv_estandar, fmt='o')\n",
    "plt.axhline(media, color='red', linestyle='--')\n",
    "plt.title('Ejemplo de gráfico con desviación estándar')\n",
    "plt.xlabel('Índice de datos')\n",
    "plt.ylabel('Valores')\n",
    "plt.show()"
   ]
  },
  {
   "attachments": {},
   "cell_type": "markdown",
   "metadata": {},
   "source": [
    "En resumen, la desviación estándar y el coeficiente de variación son medidas útiles para medir la dispersión de los datos en relación a su media, lo que nos permite entender mejor cómo están distribuidos los datos."
   ]
  },
  {
   "attachments": {},
   "cell_type": "markdown",
   "metadata": {},
   "source": [
    "## **Calculando y comprendiendo la covarianza**"
   ]
  },
  {
   "attachments": {},
   "cell_type": "markdown",
   "metadata": {},
   "source": [
    "La covarianza es una medida de la relación lineal entre dos variables. Indica cómo varían juntas dos variables en relación a sus medias. Si la covarianza es positiva, las dos variables tienden a aumentar o disminuir juntas. Si la covarianza es negativa, una variable tiende a aumentar mientras que la otra tiende a disminuir. Si la covarianza es cero, no hay relación lineal entre las variables.\n",
    "\n",
    "La fórmula para la covarianza entre dos variables aleatorias $X$ e $Y$ se puede escribir como:\n",
    "\n",
    "Cov(X,Y) = E[(X - E[X])(Y - E[Y])]\n",
    "\n",
    "donde $E[X]$ y $E[Y]$ son los valores esperados de $X$ e $Y$, respectivamente. La covarianza mide la relación lineal entre dos variables aleatorias. Si $Cov(X,Y) > 0$, significa que cuando una variable aumenta, la otra variable también tiende a aumentar. Si $Cov(X,Y) < 0$, significa que cuando una variable aumenta, la otra variable tiende a disminuir. Si $Cov(X,Y) = 0$, significa que no hay relación lineal entre las dos variables.\n",
    "\n",
    "En el caso de tener una muestra de datos, la fórmula para la covarianza se puede estimar como:\n",
    "\n",
    "$Cov(X,Y) = 1/(n-1) * Σ[(xᵢ - x̄)(yᵢ - ȳ)]$\n",
    "\n",
    "donde $xᵢ$ e $yᵢ$ son los valores de la muestra para $X$ e $Y$, respectivamente, $x̄$ y $ȳ$ son las medias de la muestra para $X$ e $Y$, y $n$ es el tamaño de la muestra."
   ]
  },
  {
   "cell_type": "code",
   "execution_count": 20,
   "metadata": {},
   "outputs": [
    {
     "name": "stdout",
     "output_type": "stream",
     "text": [
      "Covarianza entre X y Y: 3.75\n"
     ]
    }
   ],
   "source": [
    "import numpy as np\n",
    "\n",
    "# Datos de muestra\n",
    "x = np.array([1, 2, 3, 4, 5])\n",
    "y = np.array([2, 4, 5, 7, 8])\n",
    "\n",
    "# Cálculo de la covarianza\n",
    "cov_xy = np.cov(x, y)[0][1]\n",
    "\n",
    "print(\"Covarianza entre X y Y:\", cov_xy)"
   ]
  },
  {
   "attachments": {},
   "cell_type": "markdown",
   "metadata": {},
   "source": [
    "En este ejemplo, tenemos dos variables `X` e `Y`, y los datos de muestra son almacenados en las matrices `x` e `y`. La covarianza se calcula utilizando la función `cov` de `NumPy`, que devuelve una matriz de covarianza. El elemento [0][1] de esta matriz es la covarianza entre `X` e `Y`.\n",
    "\n",
    "También podemos representar la covarianza en un diagrama de dispersión. Un diagrama de dispersión es una forma de visualizar la relación entre dos variables. Cada punto en el gráfico representa una observación de ambas variables. Aquí hay un ejemplo de cómo trazar un diagrama de dispersión en Python:"
   ]
  },
  {
   "cell_type": "code",
   "execution_count": 21,
   "metadata": {},
   "outputs": [
    {
     "data": {
      "image/png": "[encoded data removed]",
      "text/plain": [
       "<Figure size 432x288 with 1 Axes>"
      ]
     },
     "metadata": {
      "needs_background": "light"
     },
     "output_type": "display_data"
    }
   ],
   "source": [
    "import matplotlib.pyplot as plt\n",
    "\n",
    "# Datos de muestra\n",
    "x = np.array([1, 2, 3, 4, 5])\n",
    "y = np.array([2, 4, 5, 7, 8])\n",
    "\n",
    "# Diagrama de dispersión\n",
    "plt.scatter(x, y)\n",
    "plt.xlabel('X')\n",
    "plt.ylabel('Y')\n",
    "plt.title('Diagrama de dispersión X vs Y')\n",
    "plt.show()"
   ]
  },
  {
   "attachments": {},
   "cell_type": "markdown",
   "metadata": {},
   "source": [
    "En este ejemplo, trazamos un diagrama de dispersión utilizando la función `scatter` de `Matplotlib`. Los datos de muestra se representan en los ejes `X` e `Y`, y cada punto representa una observación de ambas variables. Podemos observar visualmente la relación entre las dos variables y la dirección de la relación. Si los puntos se agrupan en una línea recta diagonal, hay una relación lineal positiva entre las dos variables. Si los puntos se agrupan en una línea recta diagonal pero con una pendiente negativa, hay una relación lineal negativa entre las dos variables."
   ]
  },
  {
   "attachments": {},
   "cell_type": "markdown",
   "metadata": {},
   "source": [
    "En Python, podemos calcular la covarianza entre dos variables usando la función `cov` de `NumPy`. Por ejemplo, si tenemos dos variables $X$ e $Y$ definidas como:"
   ]
  },
  {
   "cell_type": "code",
   "execution_count": 22,
   "metadata": {},
   "outputs": [],
   "source": [
    "import numpy as np\n",
    "\n",
    "X = np.array([1, 2, 3, 4, 5])\n",
    "Y = np.array([2, 4, 6, 8, 10])"
   ]
  },
  {
   "attachments": {},
   "cell_type": "markdown",
   "metadata": {},
   "source": [
    "Podemos calcular la covarianza entre las dos variables como:"
   ]
  },
  {
   "cell_type": "code",
   "execution_count": 23,
   "metadata": {},
   "outputs": [
    {
     "name": "stdout",
     "output_type": "stream",
     "text": [
      "Covariance: 5.0\n"
     ]
    }
   ],
   "source": [
    "covariance = np.cov(X, Y)[0,1]\n",
    "print('Covariance:', covariance)"
   ]
  },
  {
   "attachments": {},
   "cell_type": "markdown",
   "metadata": {},
   "source": [
    "Esto imprimirá la covarianza entre $X$ e $Y$. Si la covarianza es positiva, significa que las dos variables están relacionadas de manera positiva. Si es negativa, significa que están relacionadas de manera negativa. Si es cero, significa que no hay relación lineal entre las dos variables."
   ]
  },
  {
   "attachments": {},
   "cell_type": "markdown",
   "metadata": {},
   "source": [
    "## **Coeficiente de correlación**"
   ]
  },
  {
   "attachments": {},
   "cell_type": "markdown",
   "metadata": {},
   "source": [
    "En estadística, el coeficiente de correlación se utiliza para medir la fuerza y la dirección de la relación lineal entre dos variables cuantitativas. El coeficiente de correlación varía entre `-1` y `1`. Un valor de `-1` indica una correlación negativa perfecta, un valor de `0` indica la ausencia de correlación y un valor de `1` indica una correlación positiva perfecta.\n",
    "\n",
    "El coeficiente de correlación se calcula mediante la fórmula:\n",
    "\n",
    "$r = \\frac{\\sum_{i=1}^n (x_i - \\bar{x})(y_i - \\bar{y})}{\\sqrt{\\sum_{i=1}^n (x_i - \\bar{x})^2} \\sqrt{\\sum_{i=1}^n (y_i - \\bar{y})^2}}$\n",
    "\n",
    "donde $x_i$ y $y_i$ son los valores de las dos variables, $\\bar{x}$ y $\\bar{y}$ son las medias de las dos variables, y $n$ es el tamaño de la muestra.\n",
    "\n",
    "En Python, se puede calcular el coeficiente de correlación utilizando la función $corrcoef()$ de la biblioteca `NumPy`. Por ejemplo, si tenemos dos listas de valores `x` y `y`, podemos calcular el coeficiente de correlación de la siguiente manera:"
   ]
  },
  {
   "cell_type": "code",
   "execution_count": 24,
   "metadata": {},
   "outputs": [
    {
     "name": "stdout",
     "output_type": "stream",
     "text": [
      "Coeficiente de correlación: 0.9999999999999999\n"
     ]
    }
   ],
   "source": [
    "import numpy as np\n",
    "\n",
    "x = [1, 2, 3, 4, 5]\n",
    "y = [2, 4, 6, 8, 10]\n",
    "\n",
    "corr_matrix = np.corrcoef(x, y)\n",
    "corr = corr_matrix[0, 1]\n",
    "\n",
    "print(\"Coeficiente de correlación:\", corr)"
   ]
  },
  {
   "attachments": {},
   "cell_type": "markdown",
   "metadata": {},
   "source": [
    "En este ejemplo, el coeficiente de correlación será `1`, ya que `x` y `y` están perfectamente correlacionados positivamente.\n",
    "\n",
    "También se puede visualizar la correlación utilizando un diagrama de dispersión. Por ejemplo, para los mismos valores `x` y `y` que en el ejemplo anterior, podemos crear un diagrama de dispersión utilizando la biblioteca `Matplotlib` de la siguiente manera:"
   ]
  },
  {
   "cell_type": "code",
   "execution_count": 25,
   "metadata": {},
   "outputs": [
    {
     "data": {
      "image/png": "[encoded data removed]",
      "text/plain": [
       "<Figure size 432x288 with 1 Axes>"
      ]
     },
     "metadata": {
      "needs_background": "light"
     },
     "output_type": "display_data"
    }
   ],
   "source": [
    "import matplotlib.pyplot as plt\n",
    "\n",
    "plt.scatter(x, y)\n",
    "plt.show()"
   ]
  },
  {
   "attachments": {},
   "cell_type": "markdown",
   "metadata": {},
   "source": [
    "Este código generará un diagrama de dispersión con `x` en el eje `x` y `y` en el eje `y`. En este caso, la nube de puntos estará perfectamente alineada en una línea recta, lo que indica una correlación positiva perfecta.\n",
    "\n",
    "En resumen, el coeficiente de correlación es una medida útil para determinar la relación lineal entre dos variables cuantitativas. Puede ser calculado y visualizado utilizando herramientas en Python como `NumPy` y `Matplotlib`."
   ]
  },
  {
   "attachments": {},
   "cell_type": "markdown",
   "metadata": {},
   "source": [
    "| **Inicio** | **atrás 1** | **Siguiente 3** |\n",
    "|----------- |-------------- |---------------|\n",
    "| [🏠](../../README.md) | [⏪](./1.Fundamentos_de_estad%C3%ADsticas_descriptiva.ipynb)| [⏩](./3.Distribuciones.ipynb)|"
   ]
  }
 ],
 "metadata": {
  "kernelspec": {
   "display_name": "base",
   "language": "python",
   "name": "python3"
  },
  "language_info": {
   "codemirror_mode": {
    "name": "ipython",
    "version": 3
   },
   "file_extension": ".py",
   "mimetype": "text/x-python",
   "name": "python",
   "nbconvert_exporter": "python",
   "pygments_lexer": "ipython3",
   "version": "3.9.12"
  },
  "orig_nbformat": 4
 },
 "nbformat": 4,
 "nbformat_minor": 2
}
