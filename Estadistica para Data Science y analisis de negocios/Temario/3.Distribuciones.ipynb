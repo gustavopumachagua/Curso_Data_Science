{
 "cells": [
  {
   "attachments": {},
   "cell_type": "markdown",
   "metadata": {},
   "source": [
    "| **Inicio** | **atrás 2** | **Siguiente 4** |\n",
    "|----------- |-------------- |---------------|\n",
    "| [🏠](../../README.md) | [⏪](./2.Medidas_de_tendencia_central_asimetria%20_variabilidad.ipynb)| [⏩](./4.Estimadores_estimados.ipynb)|"
   ]
  },
  {
   "attachments": {},
   "cell_type": "markdown",
   "metadata": {},
   "source": [
    "# **3. Distribuciones**"
   ]
  },
  {
   "attachments": {},
   "cell_type": "markdown",
   "metadata": {},
   "source": [
    "## **Qué es una distribución**"
   ]
  },
  {
   "attachments": {},
   "cell_type": "markdown",
   "metadata": {},
   "source": [
    "En estadística, una distribución es una función matemática que describe la probabilidad de ocurrencia de cada valor posible en una variable aleatoria. En otras palabras, una distribución representa cómo se distribuyen los valores de una variable.\n",
    "\n",
    "Existen muchos tipos de distribuciones, cada una con propiedades y características específicas. Algunas de las distribuciones más comunes son la distribución normal, la distribución binomial, la distribución de Poisson, la distribución de chi-cuadrado y la distribución t de Student.\n",
    "\n",
    "La distribución normal es una de las distribuciones más importantes en estadística, también conocida como la distribución de Gauss o campana de Gauss. Esta distribución es simétrica y tiene una forma de campana. Se utiliza para describir muchos fenómenos naturales y se aplica en diferentes áreas, como la física, la ingeniería, la economía y la psicología.\n",
    "\n",
    "En Python, podemos generar muestras de diferentes distribuciones utilizando bibliotecas como `NumPy` o `SciPy`. Por ejemplo, para generar una muestra de una distribución normal con media `0` y desviación estándar `1`, podemos usar el siguiente código:"
   ]
  },
  {
   "cell_type": "code",
   "execution_count": 1,
   "metadata": {},
   "outputs": [],
   "source": [
    "import numpy as np\n",
    "\n",
    "mu, sigma = 0, 1 # media y desviación estándar\n",
    "muestra = np.random.normal(mu, sigma, 1000) # generar 1000 valores aleatorios\n"
   ]
  },
  {
   "attachments": {},
   "cell_type": "markdown",
   "metadata": {},
   "source": [
    "Podemos visualizar la distribución de la muestra utilizando un histograma:"
   ]
  },
  {
   "cell_type": "code",
   "execution_count": 2,
   "metadata": {},
   "outputs": [
    {
     "data": {
      "image/png": "[encoded data removed]",
      "text/plain": [
       "<Figure size 432x288 with 1 Axes>"
      ]
     },
     "metadata": {
      "needs_background": "light"
     },
     "output_type": "display_data"
    }
   ],
   "source": [
    "import matplotlib.pyplot as plt\n",
    "\n",
    "plt.hist(muestra, bins=30)\n",
    "plt.show()\n"
   ]
  },
  {
   "attachments": {},
   "cell_type": "markdown",
   "metadata": {},
   "source": [
    "Esto producirá una gráfica de histograma de la distribución normal generada. La gráfica tendrá una forma de campana simétrica, centrada en la media `0` y con una dispersión determinada por la desviación estándar `1`.\n",
    "\n",
    "En resumen, una distribución es una función matemática que describe la probabilidad de ocurrencia de cada valor posible en una variable aleatoria. Las distribuciones se utilizan en estadística para describir y analizar datos, y existen muchos tipos diferentes de distribuciones, cada una con propiedades y características específicas. En Python, podemos generar muestras de diferentes distribuciones y visualizarlas utilizando bibliotecas como `NumPy` y `Matplotlib`."
   ]
  },
  {
   "attachments": {},
   "cell_type": "markdown",
   "metadata": {},
   "source": [
    "## **La distribución Normal**"
   ]
  },
  {
   "attachments": {},
   "cell_type": "markdown",
   "metadata": {},
   "source": [
    "La distribución normal, también conocida como distribución de Gauss, es una de las distribuciones más importantes y comunes en estadística y matemáticas. Es una distribución continua de probabilidad que describe la variabilidad de una variable aleatoria continua. Se caracteriza por tener una forma de campana y es simétrica alrededor de su media.\n",
    "\n",
    "La distribución normal está completamente definida por dos parámetros: su media $\\mu$ y su desviación estándar $\\sigma$. Su función de densidad de probabilidad se puede expresar como:\n",
    "\n",
    "$$f(x) = \\frac{1}{\\sigma\\sqrt{2\\pi}} e^{-\\frac{(x-\\mu)^2}{2\\sigma^2}}$$\n",
    "\n",
    "donde $x$ es la variable aleatoria, $\\mu$ es la media y $\\sigma$ es la desviación estándar.\n",
    "\n",
    "En Python, podemos generar una distribución normal utilizando la función `random.normal` del paquete `numpy`. Por ejemplo, para generar `1000` valores aleatorios de una distribución normal con media `0` y desviación estándar `1`, podemos hacer lo siguiente:"
   ]
  },
  {
   "cell_type": "code",
   "execution_count": 3,
   "metadata": {},
   "outputs": [],
   "source": [
    "import numpy as np\n",
    "\n",
    "mu = 0\n",
    "sigma = 1\n",
    "n = 1000\n",
    "\n",
    "data = np.random.normal(mu, sigma, n)\n"
   ]
  },
  {
   "attachments": {},
   "cell_type": "markdown",
   "metadata": {},
   "source": [
    "Podemos graficar la distribución utilizando un histograma para mostrar la frecuencia de cada valor en el conjunto de datos, y superponer la función de densidad de probabilidad de la distribución normal."
   ]
  },
  {
   "cell_type": "code",
   "execution_count": 4,
   "metadata": {},
   "outputs": [
    {
     "data": {
      "image/png": "[encoded data removed]",
      "text/plain": [
       "<Figure size 432x288 with 1 Axes>"
      ]
     },
     "metadata": {
      "needs_background": "light"
     },
     "output_type": "display_data"
    }
   ],
   "source": [
    "import matplotlib.pyplot as plt\n",
    "\n",
    "plt.hist(data, bins=30, density=True, alpha=0.6)\n",
    "\n",
    "xmin, xmax = plt.xlim()\n",
    "x = np.linspace(xmin, xmax, 100)\n",
    "p = 1/(sigma*np.sqrt(2*np.pi)) * np.exp(-(x-mu)**2 / (2*sigma**2))\n",
    "plt.plot(x, p, 'k', linewidth=2)\n",
    "\n",
    "plt.show()\n"
   ]
  },
  {
   "attachments": {},
   "cell_type": "markdown",
   "metadata": {},
   "source": [
    "La distribución normal es importante en estadística debido a que muchos procesos naturales, como la altura y el peso humano, la longitud de ciertas partes del cuerpo y los errores de medición, siguen aproximadamente esta distribución. Además, es utilizada en la inferencia estadística, ya que permite calcular intervalos de confianza y realizar pruebas de hipótesis."
   ]
  },
  {
   "attachments": {},
   "cell_type": "markdown",
   "metadata": {},
   "source": [
    "## **La distribución Normal estándar**"
   ]
  },
  {
   "attachments": {},
   "cell_type": "markdown",
   "metadata": {},
   "source": [
    "La distribución Normal Estándar es una distribución normal con una media de cero y una desviación estándar de uno. Se utiliza con frecuencia como modelo para muchas distribuciones naturales y, debido a su simetría, facilita los cálculos de probabilidad y la comparación entre diferentes conjuntos de datos.\n",
    "\n",
    "La función de densidad de probabilidad de la distribución Normal Estándar se puede expresar como:\n",
    "\n",
    "$$f(x)=\\frac{1}{\\sqrt{2\\pi}}e^{-\\frac{x^2}{2}}$$\n",
    "\n",
    "donde $x$ es la variable aleatoria.\n",
    "\n",
    "En Python, la distribución Normal Estándar se puede generar utilizando la función `randn` del paquete `numpy`. A continuación, se muestra un ejemplo de cómo generar datos aleatorios de la distribución Normal Estándar y graficar su histograma:"
   ]
  },
  {
   "cell_type": "code",
   "execution_count": 5,
   "metadata": {},
   "outputs": [
    {
     "data": {
      "image/png": "[encoded data removed]",
      "text/plain": [
       "<Figure size 432x288 with 1 Axes>"
      ]
     },
     "metadata": {
      "needs_background": "light"
     },
     "output_type": "display_data"
    }
   ],
   "source": [
    "import numpy as np\n",
    "import matplotlib.pyplot as plt\n",
    "\n",
    "# Generar 1000 datos aleatorios de la distribución Normal Estándar\n",
    "datos = np.random.randn(1000)\n",
    "\n",
    "# Graficar histograma\n",
    "plt.hist(datos, bins=30)\n",
    "plt.title('Histograma de la distribución Normal Estándar')\n",
    "plt.xlabel('Valor')\n",
    "plt.ylabel('Frecuencia')\n",
    "plt.show()\n"
   ]
  },
  {
   "attachments": {},
   "cell_type": "markdown",
   "metadata": {},
   "source": [
    "El histograma resultante debería mostrar una distribución simétrica alrededor de cero y una forma de campana característica de la distribución Normal."
   ]
  },
  {
   "attachments": {},
   "cell_type": "markdown",
   "metadata": {},
   "source": [
    "## **Comprendiendo el teorema de límite central**"
   ]
  },
  {
   "attachments": {},
   "cell_type": "markdown",
   "metadata": {},
   "source": [
    "El teorema del límite central establece que la suma de un gran número de variables aleatorias independientes e idénticamente distribuidas `(iid)` se aproxima a una distribución normal, independientemente de la distribución original, siempre y cuando el número de variables aleatorias sea suficientemente grande.\n",
    "\n",
    "Este teorema es de gran importancia en la estadística, ya que permite inferir conclusiones sobre una población a partir de una muestra, siempre y cuando se cumplan ciertas condiciones.\n",
    "\n",
    "Por ejemplo, supongamos que queremos conocer la altura promedio de los estudiantes de una universidad. Si tomamos una muestra aleatoria de `30` estudiantes y calculamos su altura promedio, podemos aplicar el teorema del límite central para afirmar que la distribución de las medias muestrales se aproximará a una distribución normal, siempre y cuando las alturas de los estudiantes sean independientes y estén distribuidas de manera similar.\n",
    "\n",
    "En Python, podemos simular este proceso generando una muestra aleatoria de una distribución arbitraria (por ejemplo, una distribución exponencial) y calculando la media de la muestra repetidamente. Luego podemos graficar el histograma de las medias muestrales para ver si se aproximan a una distribución normal.\n",
    "\n",
    "Aquí hay un ejemplo de código que genera una muestra aleatoria de una distribución exponencial, calcula la media de la muestra para `1000` iteraciones y grafica el histograma de las medias muestrales:"
   ]
  },
  {
   "cell_type": "code",
   "execution_count": 6,
   "metadata": {},
   "outputs": [
    {
     "data": {
      "image/png": "[encoded data removed]",
      "text/plain": [
       "<Figure size 432x288 with 1 Axes>"
      ]
     },
     "metadata": {
      "needs_background": "light"
     },
     "output_type": "display_data"
    }
   ],
   "source": [
    "import numpy as np\n",
    "import matplotlib.pyplot as plt\n",
    "\n",
    "# Generar una muestra aleatoria de una distribución exponencial\n",
    "mu = 2\n",
    "sample_size = 30\n",
    "data = np.random.exponential(scale=mu, size=sample_size)\n",
    "\n",
    "# Calcular la media de la muestra repetidamente\n",
    "n_iter = 1000\n",
    "means = np.zeros(n_iter)\n",
    "for i in range(n_iter):\n",
    "    sample = np.random.choice(data, size=sample_size, replace=True)\n",
    "    means[i] = np.mean(sample)\n",
    "\n",
    "# Graficar el histograma de las medias muestrales\n",
    "plt.hist(means, bins=30, density=True, alpha=0.5)\n",
    "plt.xlabel('Media muestral')\n",
    "plt.ylabel('Densidad')\n",
    "plt.title('Distribución de la media muestral')\n",
    "plt.show()\n"
   ]
  },
  {
   "attachments": {},
   "cell_type": "markdown",
   "metadata": {},
   "source": [
    "La salida de este código sería un histograma de las medias muestrales que se aproxima a una distribución normal."
   ]
  },
  {
   "attachments": {},
   "cell_type": "markdown",
   "metadata": {},
   "source": [
    "## **El teorema de límite central**"
   ]
  },
  {
   "attachments": {},
   "cell_type": "markdown",
   "metadata": {},
   "source": [
    "El teorema del límite central es uno de los conceptos más importantes en estadística. Básicamente, establece que, a medida que el tamaño de la muestra se vuelve más grande, la distribución de la media muestral se acerca a una distribución normal, independientemente de la forma de la distribución original.\n",
    "\n",
    "En otras palabras, si tomamos muestras aleatorias suficientemente grandes de una población, la distribución de las medias de esas muestras se aproximará a una distribución normal, incluso si la distribución de la población original no es normal.\n",
    "\n",
    "Este teorema es importante porque permite que se realicen inferencias estadísticas basadas en la media muestral. Además, el teorema del límite central también se aplica a la distribución de proporciones muestrales y otras estadísticas muestrales.\n",
    "\n",
    "Para ilustrar el teorema del límite central, podemos generar varias muestras aleatorias de diferentes tamaños de una distribución que no es normal, como la distribución exponencial. Luego, podemos calcular la media de cada muestra y graficar la distribución de esas medias. A medida que aumenta el tamaño de la muestra, la distribución de las medias muestrales se acerca a una distribución normal.\n",
    "\n",
    "Veamos un ejemplo en código Python:"
   ]
  },
  {
   "cell_type": "code",
   "execution_count": 7,
   "metadata": {},
   "outputs": [
    {
     "data": {
      "image/png": "[encoded data removed]",
      "text/plain": [
       "<Figure size 432x288 with 1 Axes>"
      ]
     },
     "metadata": {
      "needs_background": "light"
     },
     "output_type": "display_data"
    }
   ],
   "source": [
    "import numpy as np\n",
    "import matplotlib.pyplot as plt\n",
    "\n",
    "# Generar datos de una distribución exponencial\n",
    "datos = np.random.exponential(scale=2, size=10000)\n",
    "\n",
    "# Función para calcular la media muestral\n",
    "def media_muestral(datos, n):\n",
    "    indices = np.random.randint(0, len(datos), size=n)\n",
    "    return np.mean(datos[indices])\n",
    "\n",
    "# Calcular la media de 1000 muestras de diferentes tamaños\n",
    "medias = [media_muestral(datos, n) for n in range(1, 1001)]\n",
    "\n",
    "# Graficar la distribución de las medias muestrales\n",
    "plt.hist(medias, bins=30, density=True)\n",
    "\n",
    "# Graficar la distribución normal\n",
    "media = np.mean(datos)\n",
    "desv_est = np.std(datos, ddof=1) / np.sqrt(len(datos))\n",
    "x = np.linspace(media - 5*desv_est, media + 5*desv_est, 100)\n",
    "y = (1/(desv_est*np.sqrt(2*np.pi))) * np.exp(-(x-media)**2/(2*desv_est**2))\n",
    "plt.plot(x, y)\n",
    "\n",
    "plt.show()\n"
   ]
  },
  {
   "attachments": {},
   "cell_type": "markdown",
   "metadata": {},
   "source": [
    "En este ejemplo, generamos `10,000` datos de una distribución exponencial con un parámetro de escala de `2`. Luego, definimos una función para calcular la media de una muestra aleatoria de tamaño $n$. A continuación, generamos `1,000` medias muestrales de diferentes tamaños y graficamos la distribución de esas medias. Finalmente, graficamos la distribución normal que se aproxima a medida que aumenta el tamaño de la muestra.\n",
    "\n",
    "Podemos ver cómo la distribución de las medias muestrales se acerca a una distribución normal a medida que aumenta el tamaño de la muestra, lo que demuestra el teorema del límite central."
   ]
  },
  {
   "attachments": {},
   "cell_type": "markdown",
   "metadata": {},
   "source": [
    "## **Error estándar**"
   ]
  },
  {
   "attachments": {},
   "cell_type": "markdown",
   "metadata": {},
   "source": [
    "El error estándar es una medida de la variabilidad de una estadística muestral y representa cuánto puede diferir la estadística muestral de la estadística poblacional. Se calcula dividiendo la desviación estándar de la muestra entre la raíz cuadrada del tamaño de la muestra. En otras palabras, el error estándar muestra cuánta variación se espera entre las estadísticas muestrales si se tomaran muchas muestras repetidas de la misma población.\n",
    "\n",
    "En términos de fórmula, el error estándar se puede expresar como:\n",
    "\n",
    "`SE = s / sqrt(n)`\n",
    "\n",
    "donde $s$ es la desviación estándar de la muestra y $n$ es el tamaño de la muestra.\n",
    "\n",
    "Veamos un ejemplo en código Python para calcular el error estándar. Supongamos que tenemos una muestra de `100` valores generados aleatoriamente a partir de una distribución normal con media `50` y desviación estándar `10`.\n",
    "\n"
   ]
  },
  {
   "cell_type": "code",
   "execution_count": 8,
   "metadata": {},
   "outputs": [
    {
     "name": "stdout",
     "output_type": "stream",
     "text": [
      "Desviación estándar de la muestra: 10.485310493367635\n",
      "Error estándar de la muestra: 1.0485310493367634\n"
     ]
    }
   ],
   "source": [
    "import numpy as np\n",
    "\n",
    "# generar una muestra de 100 valores a partir de una distribución normal\n",
    "mu = 50\n",
    "sigma = 10\n",
    "sample = np.random.normal(mu, sigma, 100)\n",
    "\n",
    "# calcular la desviación estándar de la muestra\n",
    "s = np.std(sample)\n",
    "\n",
    "# calcular el error estándar\n",
    "n = len(sample)\n",
    "se = s / np.sqrt(n)\n",
    "\n",
    "print(\"Desviación estándar de la muestra:\", s)\n",
    "print(\"Error estándar de la muestra:\", se)\n"
   ]
  },
  {
   "attachments": {},
   "cell_type": "markdown",
   "metadata": {},
   "source": [
    "Este código generará dos resultados: la desviación estándar de la muestra y el error estándar de la muestra. La desviación estándar de la muestra se calcula a partir de la muestra utilizando la función `np.std()`, mientras que el error estándar se calcula a partir de la desviación estándar y el tamaño de la muestra utilizando la fórmula anterior."
   ]
  },
  {
   "attachments": {},
   "cell_type": "markdown",
   "metadata": {},
   "source": [
    "| **Inicio** | **atrás 2** | **Siguiente 4** |\n",
    "|----------- |-------------- |---------------|\n",
    "| [🏠](../../README.md) | [⏪](./2.Medidas_de_tendencia_central_asimetria%20_variabilidad.ipynb)| [⏩](./4.Estimadores_estimados.ipynb)|"
   ]
  }
 ],
 "metadata": {
  "kernelspec": {
   "display_name": "base",
   "language": "python",
   "name": "python3"
  },
  "language_info": {
   "codemirror_mode": {
    "name": "ipython",
    "version": 3
   },
   "file_extension": ".py",
   "mimetype": "text/x-python",
   "name": "python",
   "nbconvert_exporter": "python",
   "pygments_lexer": "ipython3",
   "version": "3.9.12"
  },
  "orig_nbformat": 4
 },
 "nbformat": 4,
 "nbformat_minor": 2
}
