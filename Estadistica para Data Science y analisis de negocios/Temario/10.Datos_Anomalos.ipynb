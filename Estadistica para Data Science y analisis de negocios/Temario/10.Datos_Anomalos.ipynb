{
 "cells": [
  {
   "attachments": {},
   "cell_type": "markdown",
   "metadata": {},
   "source": [
    "| **Inicio** | **atrás 9** | **Siguiente 11** |\n",
    "|----------- |-------------- |---------------|\n",
    "| [🏠](../../README.md) | [⏪](./9.Tendencia_Central.ipynb)| [⏩](./11.Histogramas.ipynb)|"
   ]
  },
  {
   "attachments": {},
   "cell_type": "markdown",
   "metadata": {},
   "source": [
    "# **10. Datos Anómalos (outliers) y Diagramas de Caja (BoxPlots) con la Prueba de Tukey en Python**"
   ]
  },
  {
   "attachments": {},
   "cell_type": "markdown",
   "metadata": {},
   "source": [
    "## **Qué son los datos anómalos**"
   ]
  },
  {
   "attachments": {},
   "cell_type": "markdown",
   "metadata": {},
   "source": [
    "Los datos anómalos (también conocidos como valores atípicos o outliers en inglés) son puntos o valores que se alejan significativamente del patrón general de un conjunto de datos. Estos valores pueden ser resultado de errores de medición, errores de registro, o incluso ser datos genuinos pero extremadamente raros o inusuales. Los datos anómalos pueden afectar negativamente a la interpretación y análisis de los datos, por lo que es importante identificarlos y manejarlos adecuadamente."
   ]
  },
  {
   "attachments": {},
   "cell_type": "markdown",
   "metadata": {},
   "source": [
    "## **Creación de diagramas de caja**"
   ]
  },
  {
   "attachments": {},
   "cell_type": "markdown",
   "metadata": {},
   "source": [
    "La creación de diagramas de caja es una forma visual de representar la distribución de un conjunto de datos, mostrando la mediana, los cuartiles y los valores atípicos. En un diagrama de caja, una caja rectangular representa el rango intercuartílico (IQR), que se extiende desde el primer cuartil (Q1) hasta el tercer cuartil (Q3). La línea dentro de la caja representa la mediana. Los valores atípicos se muestran como puntos más allá de los extremos de los bigotes, que se extienden desde la caja hasta los valores más alejados que no se consideran atípicos.\n",
    "\n",
    "Aquí hay un ejemplo de código en Python que utiliza la biblioteca Seaborn para crear un diagrama de caja de un conjunto de datos aleatorio:"
   ]
  },
  {
   "cell_type": "code",
   "execution_count": 2,
   "metadata": {},
   "outputs": [
    {
     "data": {
      "image/png": "[encoded data removed]",
      "text/plain": [
       "<Figure size 432x288 with 1 Axes>"
      ]
     },
     "metadata": {
      "needs_background": "light"
     },
     "output_type": "display_data"
    }
   ],
   "source": [
    "import numpy as np\n",
    "import seaborn as sns\n",
    "import matplotlib.pyplot as plt\n",
    "\n",
    "# Generar datos aleatorios\n",
    "datos = np.random.normal(loc=50, scale=10, size=1000)\n",
    "\n",
    "# Crear un diagrama de caja con Seaborn\n",
    "sns.boxplot(x=datos)\n",
    "\n",
    "# Mostrar la gráfica\n",
    "plt.show()"
   ]
  },
  {
   "attachments": {},
   "cell_type": "markdown",
   "metadata": {},
   "source": [
    "Este código generará un diagrama de caja con los datos aleatorios generados. La caja representa el rango intercuartílico, la línea en el centro de la caja representa la mediana y los puntos fuera de los bigotes representan valores atípicos. "
   ]
  },
  {
   "attachments": {},
   "cell_type": "markdown",
   "metadata": {},
   "source": [
    "## **Boxplot mostrando datos anómalos**"
   ]
  },
  {
   "attachments": {},
   "cell_type": "markdown",
   "metadata": {},
   "source": [
    "El boxplot es una herramienta visual muy útil para representar gráficamente la distribución y los valores atípicos de un conjunto de datos. En un boxplot, el diagrama se divide en cuartiles, siendo la línea central la mediana. El rango intercuartílico (IQR) es la distancia entre el primer cuartil (Q1) y el tercer cuartil (Q3). Cualquier valor que esté a una distancia mayor que 1,5 veces el IQR desde el borde del cuartil se considera un valor atípico y se muestra como un punto individual.\n",
    "\n",
    "Aquí hay un ejemplo de código que muestra cómo crear un boxplot con datos anómalos utilizando la biblioteca Seaborn en Python:"
   ]
  },
  {
   "cell_type": "code",
   "execution_count": 3,
   "metadata": {},
   "outputs": [
    {
     "data": {
      "image/png": "[encoded data removed]",
      "text/plain": [
       "<Figure size 432x288 with 1 Axes>"
      ]
     },
     "metadata": {
      "needs_background": "light"
     },
     "output_type": "display_data"
    }
   ],
   "source": [
    "import numpy as np\n",
    "import seaborn as sns\n",
    "import matplotlib.pyplot as plt\n",
    "\n",
    "# Generar datos aleatorios con valores anómalos\n",
    "datos = np.concatenate([np.random.normal(20, 5, 100), np.random.normal(70, 5, 10)])\n",
    "\n",
    "# Crear el boxplot\n",
    "sns.boxplot(x=datos)\n",
    "\n",
    "# Mostrar la gráfica\n",
    "plt.show()"
   ]
  },
  {
   "attachments": {},
   "cell_type": "markdown",
   "metadata": {},
   "source": [
    "En este ejemplo, generamos un conjunto de datos con 100 valores aleatorios de una distribución normal con una media de 20 y una desviación estándar de 5, y luego agregamos 10 valores anómalos generados aleatoriamente de una distribución normal con una media de 70 y una desviación estándar de 5. Luego creamos el boxplot utilizando Seaborn y mostramos la gráfica. El resultado es un diagrama de caja con los cuartiles, la mediana y los valores atípicos resaltados en puntos individuales."
   ]
  },
  {
   "attachments": {},
   "cell_type": "markdown",
   "metadata": {},
   "source": [
    "## **Regla empírica 68-95-99.7**"
   ]
  },
  {
   "attachments": {},
   "cell_type": "markdown",
   "metadata": {},
   "source": [
    "La regla empírica, también conocida como la regla de los tres sigmas, establece que en una distribución de datos con forma de campana (distribución normal), aproximadamente el 68% de los datos se encuentran dentro de una desviación estándar de la media, el 95% de los datos se encuentran dentro de dos desviaciones estándar de la media y el 99.7% de los datos se encuentran dentro de tres desviaciones estándar de la media.\n",
    "\n",
    "A continuación, se muestra un ejemplo de código en Python para visualizar la regla empírica utilizando una distribución normal generada aleatoriamente:"
   ]
  },
  {
   "cell_type": "code",
   "execution_count": 4,
   "metadata": {},
   "outputs": [
    {
     "data": {
      "image/png": "[encoded data removed]",
      "text/plain": [
       "<Figure size 432x288 with 1 Axes>"
      ]
     },
     "metadata": {
      "needs_background": "light"
     },
     "output_type": "display_data"
    }
   ],
   "source": [
    "import numpy as np\n",
    "import matplotlib.pyplot as plt\n",
    "\n",
    "# Generar datos aleatorios con distribución normal\n",
    "datos = np.random.normal(loc=50, scale=10, size=10000)\n",
    "\n",
    "# Calcular la media y desviación estándar\n",
    "media = np.mean(datos)\n",
    "std_dev = np.std(datos)\n",
    "\n",
    "# Calcular los límites de la regla empírica\n",
    "limite1 = media - std_dev\n",
    "limite2 = media + std_dev\n",
    "limite3 = media + 2*std_dev\n",
    "limite4 = media - 2*std_dev\n",
    "limite5 = media + 3*std_dev\n",
    "limite6 = media - 3*std_dev\n",
    "\n",
    "# Graficar los datos y los límites\n",
    "plt.hist(datos, bins=50, alpha=0.5)\n",
    "plt.axvline(limite1, color='gray', linestyle='dashed', linewidth=2)\n",
    "plt.axvline(limite2, color='gray', linestyle='dashed', linewidth=2)\n",
    "plt.axvline(limite3, color='gray', linestyle='dashed', linewidth=2)\n",
    "plt.axvline(limite4, color='gray', linestyle='dashed', linewidth=2)\n",
    "plt.axvline(limite5, color='gray', linestyle='dashed', linewidth=2)\n",
    "plt.axvline(limite6, color='gray', linestyle='dashed', linewidth=2)\n",
    "\n",
    "# Agregar leyendas\n",
    "plt.legend(['1 Desv. Estándar', '2 Desv. Estándar', '3 Desv. Estándar'])\n",
    "\n",
    "# Mostrar la gráfica\n",
    "plt.show()"
   ]
  },
  {
   "attachments": {},
   "cell_type": "markdown",
   "metadata": {},
   "source": [
    "## **Prueba de Tukey para detectar datos anómalos**"
   ]
  },
  {
   "attachments": {},
   "cell_type": "markdown",
   "metadata": {},
   "source": [
    "La prueba de Tukey, también conocida como el rango intercuartil (IQR), es una técnica estadística utilizada para detectar valores atípicos en un conjunto de datos. Esta prueba compara la distancia entre el primer cuartil (Q1) y el tercer cuartil (Q3) con la longitud de los bigotes en un diagrama de caja. Si algún punto de datos cae por fuera de estos bigotes, se considera como un valor atípico.\n",
    "\n",
    "Aquí hay un ejemplo de cómo realizar la prueba de Tukey en Python:"
   ]
  },
  {
   "cell_type": "code",
   "execution_count": 5,
   "metadata": {},
   "outputs": [
    {
     "name": "stdout",
     "output_type": "stream",
     "text": [
      "No se encontraron valores anómalos.\n"
     ]
    },
    {
     "data": {
      "image/png": "[encoded data removed]",
      "text/plain": [
       "<Figure size 432x288 with 1 Axes>"
      ]
     },
     "metadata": {
      "needs_background": "light"
     },
     "output_type": "display_data"
    }
   ],
   "source": [
    "import numpy as np\n",
    "import matplotlib.pyplot as plt\n",
    "from scipy.stats import iqr\n",
    "\n",
    "# Generar datos aleatorios\n",
    "datos = np.concatenate([np.random.normal(loc=20, scale=5, size=100),\n",
    "                        np.random.normal(loc=40, scale=5, size=100),\n",
    "                        np.random.normal(loc=60, scale=5, size=100)])\n",
    "\n",
    "# Calcular los cuartiles y el IQR\n",
    "q1 = np.percentile(datos, 25)\n",
    "q3 = np.percentile(datos, 75)\n",
    "iqr = iqr(datos)\n",
    "\n",
    "# Calcular los límites para detectar valores atípicos\n",
    "lim_inf = q1 - 1.5 * iqr\n",
    "lim_sup = q3 + 1.5 * iqr\n",
    "\n",
    "# Encontrar valores atípicos\n",
    "outliers = datos[(datos < lim_inf) | (datos > lim_sup)]\n",
    "\n",
    "# Graficar el diagrama de caja\n",
    "plt.boxplot(datos)\n",
    "\n",
    "# Agregar una línea roja para mostrar los límites de los bigotes\n",
    "plt.axhline(y=lim_inf, color='red', linestyle='dashed')\n",
    "plt.axhline(y=lim_sup, color='red', linestyle='dashed')\n",
    "\n",
    "# Mostrar los valores atípicos\n",
    "if len(outliers) > 0:\n",
    "    print(\"Los siguientes valores son anómalos: \")\n",
    "    print(outliers)\n",
    "else:\n",
    "    print(\"No se encontraron valores anómalos.\")\n",
    "\n",
    "# Mostrar la gráfica\n",
    "plt.show()"
   ]
  },
  {
   "attachments": {},
   "cell_type": "markdown",
   "metadata": {},
   "source": [
    "En este ejemplo, se generan datos aleatorios de tres distribuciones normales diferentes y se combinan en un conjunto de datos más grande. Luego se calculan los cuartiles y el rango intercuartil (IQR) del conjunto de datos completo. Se utilizan los límites inferior y superior para determinar si hay valores atípicos en el conjunto de datos. Si algún punto de datos cae por fuera de estos límites, se considera como un valor atípico. En este caso, se muestra una línea roja en el diagrama de caja para mostrar los límites de los bigotes y se imprimen los valores atípicos. Si no se encuentra ningún valor atípico, se muestra un mensaje indicando que no se encontraron valores atípicos."
   ]
  },
  {
   "attachments": {},
   "cell_type": "markdown",
   "metadata": {},
   "source": [
    "| **Inicio** | **atrás 9** | **Siguiente 11** |\n",
    "|----------- |-------------- |---------------|\n",
    "| [🏠](../../README.md) | [⏪](./9.Tendencia_Central.ipynb)| [⏩](./11.Histogramas.ipynb)|"
   ]
  }
 ],
 "metadata": {
  "kernelspec": {
   "display_name": "base",
   "language": "python",
   "name": "python3"
  },
  "language_info": {
   "codemirror_mode": {
    "name": "ipython",
    "version": 3
   },
   "file_extension": ".py",
   "mimetype": "text/x-python",
   "name": "python",
   "nbconvert_exporter": "python",
   "pygments_lexer": "ipython3",
   "version": "3.9.12"
  },
  "orig_nbformat": 4
 },
 "nbformat": 4,
 "nbformat_minor": 2
}
