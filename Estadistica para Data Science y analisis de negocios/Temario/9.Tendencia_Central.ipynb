{
 "cells": [
  {
   "attachments": {},
   "cell_type": "markdown",
   "metadata": {},
   "source": [
    "| **Inicio** | **atrás 8** | **Siguiente 10** |\n",
    "|----------- |-------------- |---------------|\n",
    "| [🏠](../../README.md) | [⏪](./8.Distribuciones_de_Datos.ipynb)| [⏩](./10.Datos_Anomalos.ipynb)|"
   ]
  },
  {
   "attachments": {},
   "cell_type": "markdown",
   "metadata": {},
   "source": [
    "# **9. Las 3 Medidas de Tendencia Central más Utilizadas: Promedio (o Media), Mediana y Moda**"
   ]
  },
  {
   "attachments": {},
   "cell_type": "markdown",
   "metadata": {},
   "source": [
    "## **Introducción a la medidas de tendencia central**"
   ]
  },
  {
   "attachments": {},
   "cell_type": "markdown",
   "metadata": {},
   "source": [
    "Las medidas de tendencia central son medidas que indican el valor central o el punto medio de una distribución de datos. Algunas de las medidas más comunes son la media, la mediana y la moda.\n",
    "\n",
    "La media es la suma de los valores dividida por el número de elementos. Es una medida sensible a los valores extremos.\n",
    "\n",
    "La mediana es el valor que separa la mitad superior de la mitad inferior de una distribución de datos, es decir, el valor central cuando los datos están ordenados de menor a mayor. Es una medida más robusta que la media, ya que no se ve afectada por los valores extremos.\n",
    "\n",
    "La moda es el valor que aparece con más frecuencia en una distribución de datos. Puede haber más de una moda o ninguna. Es una medida útil para distribuciones discretas.\n",
    "\n",
    "A continuación se presenta un ejemplo de cómo calcular estas medidas utilizando Python:"
   ]
  },
  {
   "cell_type": "code",
   "execution_count": 1,
   "metadata": {},
   "outputs": [
    {
     "name": "stdout",
     "output_type": "stream",
     "text": [
      "Media:  9.961820783092207\n",
      "Mediana:  10.144689833959884\n",
      "Moda:  7.384194621128843\n"
     ]
    }
   ],
   "source": [
    "import numpy as np\n",
    "import statistics as stats\n",
    "\n",
    "# Creamos un array de datos aleatorios\n",
    "data = np.random.normal(loc=10, scale=2, size=100)\n",
    "\n",
    "# Calculamos la media\n",
    "mean = np.mean(data)\n",
    "\n",
    "# Calculamos la mediana\n",
    "median = np.median(data)\n",
    "\n",
    "# Calculamos la moda\n",
    "mode = stats.mode(data)\n",
    "\n",
    "# Imprimimos los resultados\n",
    "print(\"Media: \", mean)\n",
    "print(\"Mediana: \", median)\n",
    "print(\"Moda: \", mode)"
   ]
  },
  {
   "attachments": {},
   "cell_type": "markdown",
   "metadata": {},
   "source": [
    "## **Promedio o media aritmética**"
   ]
  },
  {
   "attachments": {},
   "cell_type": "markdown",
   "metadata": {},
   "source": [
    "La media aritmética es una medida de tendencia central que se obtiene a partir de la suma de los valores de un conjunto de datos y su posterior división entre el número de observaciones. Esta medida es muy utilizada en estadística, ya que proporciona una idea del valor \"típico\" o \"promedio\" de un conjunto de datos.\n",
    "\n",
    "En Python, se puede calcular la media aritmética utilizando la librería NumPy con la función `mean()`. Aquí te muestro un ejemplo:"
   ]
  },
  {
   "cell_type": "code",
   "execution_count": 2,
   "metadata": {},
   "outputs": [
    {
     "name": "stdout",
     "output_type": "stream",
     "text": [
      "La media aritmética es: 52.5\n"
     ]
    }
   ],
   "source": [
    "import numpy as np\n",
    "\n",
    "# Creamos un conjunto de datos aleatorios\n",
    "datos = np.random.randint(0, 100, size=20)\n",
    "\n",
    "# Calculamos la media aritmética\n",
    "media = np.mean(datos)\n",
    "\n",
    "# Imprimimos la media aritmética\n",
    "print(\"La media aritmética es:\", media)"
   ]
  },
  {
   "attachments": {},
   "cell_type": "markdown",
   "metadata": {},
   "source": [
    "En este ejemplo, hemos creado un conjunto de datos aleatorios con la función `randint()` de NumPy, que devuelve un array con números enteros aleatorios entre 0 y 100, con una longitud de 20 elementos. Después, hemos calculado la media aritmética de estos datos utilizando la función `mean()` de NumPy. Finalmente, hemos impreso el valor de la media aritmética utilizando la función ```print()```.\n",
    "\n",
    "En cuanto a la visualización, se puede representar la media aritmética en un gráfico de barras como una línea horizontal que se ubica en el valor de la media. A continuación, te muestro un ejemplo:"
   ]
  },
  {
   "cell_type": "code",
   "execution_count": 3,
   "metadata": {},
   "outputs": [
    {
     "data": {
      "image/png": "[encoded data removed]",
      "text/plain": [
       "<Figure size 432x288 with 1 Axes>"
      ]
     },
     "metadata": {
      "needs_background": "light"
     },
     "output_type": "display_data"
    }
   ],
   "source": [
    "import matplotlib.pyplot as plt\n",
    "\n",
    "# Creamos un conjunto de datos aleatorios\n",
    "datos = np.random.randint(0, 100, size=20)\n",
    "\n",
    "# Calculamos la media aritmética\n",
    "media = np.mean(datos)\n",
    "\n",
    "# Creamos un gráfico de barras con los datos\n",
    "plt.bar(range(len(datos)), datos)\n",
    "\n",
    "# Añadimos la línea de la media aritmética\n",
    "plt.axhline(y=media, color='r', linestyle='-')\n",
    "\n",
    "# Mostramos el gráfico\n",
    "plt.show()"
   ]
  },
  {
   "attachments": {},
   "cell_type": "markdown",
   "metadata": {},
   "source": [
    "En este ejemplo, hemos creado un gráfico de barras con los datos aleatorios generados previamente y luego hemos agregado una línea horizontal roja que representa el valor de la media aritmética. La función `axhline()` de Matplotlib se utiliza para agregar una línea horizontal en el gráfico y se especifica la posición en el eje y con el argumento y. Finalmente, utilizamos la función `show()` para mostrar el gráfico."
   ]
  },
  {
   "attachments": {},
   "cell_type": "markdown",
   "metadata": {},
   "source": [
    "## **Mediana**"
   ]
  },
  {
   "attachments": {},
   "cell_type": "markdown",
   "metadata": {},
   "source": [
    "La mediana es otra medida de tendencia central que indica el valor que se encuentra en el centro de un conjunto de datos ordenados de menor a mayor. Si el conjunto de datos tiene una cantidad impar de elementos, la mediana es el valor que se encuentra exactamente en el centro. Si el conjunto de datos tiene una cantidad par de elementos, la mediana es el promedio de los dos valores que se encuentran en el centro.\n",
    "\n",
    "Aquí hay un ejemplo de cómo calcular la mediana en Python utilizando la librería NumPy:"
   ]
  },
  {
   "cell_type": "code",
   "execution_count": 4,
   "metadata": {},
   "outputs": [
    {
     "name": "stdout",
     "output_type": "stream",
     "text": [
      "Mediana: 0.16621524321779857\n"
     ]
    }
   ],
   "source": [
    "import numpy as np\n",
    "\n",
    "# Creamos un conjunto de datos aleatorios\n",
    "data = np.random.normal(0, 1, 100)\n",
    "\n",
    "# Calculamos la mediana\n",
    "mediana = np.median(data)\n",
    "\n",
    "# Imprimimos el resultado\n",
    "print(\"Mediana:\", mediana)"
   ]
  },
  {
   "attachments": {},
   "cell_type": "markdown",
   "metadata": {},
   "source": [
    "En este ejemplo, creamos un conjunto de datos aleatorios utilizando la función `np.random.normal()` de NumPy, que genera números aleatorios con una distribución normal con media 0 y desviación estándar 1. Luego, utilizamos la función `np.median()` de NumPy para calcular la mediana de este conjunto de datos. Finalmente, imprimimos el resultado utilizando la función `print()`."
   ]
  },
  {
   "attachments": {},
   "cell_type": "markdown",
   "metadata": {},
   "source": [
    "## **Moda**"
   ]
  },
  {
   "attachments": {},
   "cell_type": "markdown",
   "metadata": {},
   "source": [
    "La moda es el valor que ocurre con mayor frecuencia en un conjunto de datos. Puede haber más de una moda o ninguna moda en un conjunto de datos.\n",
    "\n",
    "Aquí hay un ejemplo de cómo calcular la moda en Python:"
   ]
  },
  {
   "cell_type": "code",
   "execution_count": 5,
   "metadata": {},
   "outputs": [
    {
     "name": "stdout",
     "output_type": "stream",
     "text": [
      "4\n"
     ]
    }
   ],
   "source": [
    "import statistics\n",
    "\n",
    "data = [1, 2, 2, 3, 4, 4, 4, 5, 5]\n",
    "mode = statistics.mode(data)\n",
    "print(mode)"
   ]
  },
  {
   "attachments": {},
   "cell_type": "markdown",
   "metadata": {},
   "source": [
    "En este ejemplo, tenemos un conjunto de datos `[1, 2, 2, 3, 4, 4, 4, 5, 5]`. Podemos ver que el número 4 ocurre con mayor frecuencia en el conjunto de datos. Usando la función `mode` de la biblioteca `statistics` de Python, podemos calcular la moda del conjunto de datos, que es 4.\n",
    "\n",
    "También podemos graficar la moda en un histograma para visualizar mejor su frecuencia. Aquí hay un ejemplo de cómo graficar la moda en Python utilizando la biblioteca matplotlib:"
   ]
  },
  {
   "cell_type": "code",
   "execution_count": 6,
   "metadata": {},
   "outputs": [
    {
     "data": {
      "image/png": "[encoded data removed]",
      "text/plain": [
       "<Figure size 432x288 with 1 Axes>"
      ]
     },
     "metadata": {
      "needs_background": "light"
     },
     "output_type": "display_data"
    }
   ],
   "source": [
    "import matplotlib.pyplot as plt\n",
    "\n",
    "data = [1, 2, 2, 3, 4, 4, 4, 5, 5]\n",
    "mode = statistics.mode(data)\n",
    "\n",
    "plt.hist(data, bins=[1,2,3,4,5,6])\n",
    "plt.axvline(x=mode, color='red', linestyle='dashed', linewidth=2)\n",
    "plt.show()"
   ]
  },
  {
   "attachments": {},
   "cell_type": "markdown",
   "metadata": {},
   "source": [
    "En este ejemplo, utilizamos la función `hist` de `matplotlib` para graficar el histograma del conjunto de datos. Luego, utilizamos la función `axvline` para graficar una línea vertical en la posición de la moda en el histograma. La línea vertical se traza en rojo y punteada para que se destaque en el histograma. La salida de este código será un histograma que muestra la frecuencia de los valores en el conjunto de datos, así como una línea vertical que indica la moda en el conjunto de datos."
   ]
  },
  {
   "attachments": {},
   "cell_type": "markdown",
   "metadata": {},
   "source": [
    "## **Medidas de tendencia central con Python**"
   ]
  },
  {
   "attachments": {},
   "cell_type": "markdown",
   "metadata": {},
   "source": [
    "Las medidas de tendencia central son estadísticas que se utilizan para resumir un conjunto de datos en un solo valor que representa la \"tendencia\" del conjunto de datos. Estas medidas incluyen la media, la mediana y la moda.\n",
    "\n",
    "La media aritmética es la medida de tendencia central más común y se define como la suma de todos los valores dividida por el número total de valores. La mediana es el valor medio en un conjunto de datos ordenados, mientras que la moda es el valor que aparece con mayor frecuencia.\n",
    "\n",
    "A continuación se muestra un ejemplo de cómo calcular y graficar estas medidas de tendencia central utilizando Python y la biblioteca NumPy:"
   ]
  },
  {
   "cell_type": "code",
   "execution_count": 9,
   "metadata": {},
   "outputs": [
    {
     "data": {
      "image/png": "[encoded data removed]",
      "text/plain": [
       "<Figure size 432x288 with 1 Axes>"
      ]
     },
     "metadata": {
      "needs_background": "light"
     },
     "output_type": "display_data"
    }
   ],
   "source": [
    "import numpy as np\n",
    "import matplotlib.pyplot as plt\n",
    "from scipy import stats\n",
    "\n",
    "# Generar datos aleatorios\n",
    "datos = np.random.normal(loc=50, scale=10, size=1000)\n",
    "\n",
    "# Calcular la media\n",
    "media = np.mean(datos)\n",
    "\n",
    "# Calcular la mediana\n",
    "mediana = np.median(datos)\n",
    "\n",
    "# Calcular la moda\n",
    "moda = stats.mode(datos)[0][0]\n",
    "\n",
    "# Graficar los datos\n",
    "plt.hist(datos, bins=30, alpha=0.5)\n",
    "\n",
    "# Agregar la media, mediana y moda a la gráfica\n",
    "plt.axvline(media, color='red', linestyle='dashed', linewidth=2)\n",
    "plt.axvline(mediana, color='green', linestyle='dashed', linewidth=2)\n",
    "plt.axvline(moda, color='orange', linestyle='dashed', linewidth=2)\n",
    "\n",
    "# Mostrar la gráfica\n",
    "plt.show()"
   ]
  },
  {
   "attachments": {},
   "cell_type": "markdown",
   "metadata": {},
   "source": [
    "## **Distribución de datos y Medidas de tendencia central**"
   ]
  },
  {
   "attachments": {},
   "cell_type": "markdown",
   "metadata": {},
   "source": [
    "La distribución de datos y las medidas de tendencia central son conceptos fundamentales en estadística. La distribución de datos describe cómo se distribuyen los datos en un conjunto y las medidas de tendencia central son valores que representan la ubicación central de un conjunto de datos. Estas medidas incluyen la media, la mediana y la moda.\n",
    "\n",
    "A continuación se muestra un ejemplo de cómo se pueden graficar la distribución de datos y las medidas de tendencia central utilizando Python y la biblioteca Matplotlib:"
   ]
  },
  {
   "cell_type": "code",
   "execution_count": 11,
   "metadata": {},
   "outputs": [
    {
     "data": {
      "image/png": "[encoded data removed]",
      "text/plain": [
       "<Figure size 432x288 with 1 Axes>"
      ]
     },
     "metadata": {
      "needs_background": "light"
     },
     "output_type": "display_data"
    }
   ],
   "source": [
    "import numpy as np\n",
    "import matplotlib.pyplot as plt\n",
    "\n",
    "# Generar datos aleatorios\n",
    "datos = np.random.normal(loc=50, scale=10, size=1000)\n",
    "\n",
    "# Calcular la media\n",
    "media = np.mean(datos)\n",
    "\n",
    "# Calcular la mediana\n",
    "mediana = np.median(datos)\n",
    "\n",
    "# Calcular la moda\n",
    "moda = np.argmax(np.bincount(datos.astype(int)))\n",
    "\n",
    "# Graficar los datos\n",
    "plt.hist(datos, bins=30, alpha=0.5)\n",
    "\n",
    "# Agregar la media, mediana y moda a la gráfica\n",
    "plt.axvline(media, color='red', linestyle='dashed', linewidth=2)\n",
    "plt.axvline(mediana, color='green', linestyle='dashed', linewidth=2)\n",
    "plt.axvline(moda, color='orange', linestyle='dashed', linewidth=2)\n",
    "\n",
    "# Agregar leyendas\n",
    "plt.legend(['Media={:.2f}'.format(media), 'Mediana={:.2f}'.format(mediana), 'Moda={:.2f}'.format(moda)])\n",
    "\n",
    "# Mostrar la gráfica\n",
    "plt.show()"
   ]
  },
  {
   "attachments": {},
   "cell_type": "markdown",
   "metadata": {},
   "source": [
    "Este código generará una distribución normal de datos aleatorios con una media de 50 y una desviación estándar de 10. Luego, se calculará la media, mediana y moda de los datos y se agregarán a la gráfica con líneas verticales de colores rojo, verde y naranja, respectivamente. Además, se agregará una leyenda para identificar cada medida de tendencia central en la gráfica.\n",
    "\n",
    "La gráfica resultante debería mostrar claramente cómo se distribuyen los datos y dónde se encuentran las medidas de tendencia central en relación con los datos."
   ]
  },
  {
   "attachments": {},
   "cell_type": "markdown",
   "metadata": {},
   "source": [
    "| **Inicio** | **atrás 8** | **Siguiente 10** |\n",
    "|----------- |-------------- |---------------|\n",
    "| [🏠](../../README.md) | [⏪](./8.Distribuciones_de_Datos.ipynb)| [⏩](./10.Datos_Anomalos.ipynb)|"
   ]
  }
 ],
 "metadata": {
  "kernelspec": {
   "display_name": "base",
   "language": "python",
   "name": "python3"
  },
  "language_info": {
   "codemirror_mode": {
    "name": "ipython",
    "version": 3
   },
   "file_extension": ".py",
   "mimetype": "text/x-python",
   "name": "python",
   "nbconvert_exporter": "python",
   "pygments_lexer": "ipython3",
   "version": "3.9.12"
  },
  "orig_nbformat": 4
 },
 "nbformat": 4,
 "nbformat_minor": 2
}
