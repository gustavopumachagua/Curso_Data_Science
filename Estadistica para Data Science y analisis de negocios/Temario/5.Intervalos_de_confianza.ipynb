{
 "cells": [
  {
   "attachments": {},
   "cell_type": "markdown",
   "metadata": {},
   "source": [
    "| **Inicio** | **atrás 4** | **Siguiente 6** |\n",
    "|----------- |-------------- |---------------|\n",
    "| [🏠](../../README.md) | [⏪](./4.Estimadores_estimados.ipynb)| [⏩](./6.Prueba_de_hipotesis.ipynb)|"
   ]
  },
  {
   "attachments": {},
   "cell_type": "markdown",
   "metadata": {},
   "source": [
    "# **5. Intervalos de confianza**"
   ]
  },
  {
   "attachments": {},
   "cell_type": "markdown",
   "metadata": {},
   "source": [
    "## **Calculando intervalos de confianza para dos medias con muestras dependientes**"
   ]
  },
  {
   "attachments": {},
   "cell_type": "markdown",
   "metadata": {},
   "source": [
    "En algunas situaciones, se pueden tener dos muestras dependientes, como en el caso de una misma muestra que se mide en dos ocasiones diferentes o en el caso de dos muestras pareadas. En estas situaciones, se puede querer comparar las medias de las dos poblaciones. Para ello, se puede calcular el intervalo de confianza para la diferencia de medias.\n",
    "\n",
    "El procedimiento para calcular el intervalo de confianza para dos medias con muestras dependientes es muy similar al caso de muestras independientes, excepto que se utiliza la distribución `T` de `Student` con un grado de libertad menos que en el caso de muestras independientes. Además, se utiliza la diferencia de medias muestrales en lugar de las medias muestrales.\n",
    "\n",
    "El intervalo de confianza para la diferencia de medias con muestras dependientes se puede calcular de la siguiente manera:\n",
    "\n",
    "* Calcular la diferencia de medias muestrales:\n",
    "\n",
    "$d = \\bar{x}_1 - \\bar{x}_2$\n",
    "\n",
    "* Calcular la desviación estándar de las diferencias:\n",
    "\n",
    "$s_d = \\sqrt{\\frac{\\sum_{i=1}^{n}(d_i - \\bar{d})^2}{n-1}}$\n",
    "\n",
    "* Calcular el error estándar de la diferencia de medias:\n",
    "\n",
    "$SE = \\frac{s_d}{\\sqrt{n}}$\n",
    "\n",
    "* Calcular el valor crítico de T para el nivel de confianza y grados de libertad:\n",
    "\n",
    "$t_{\\alpha/2, n-1}$\n",
    "\n",
    "* Calcular el intervalo de confianza:\n",
    "\n",
    "$IC = (\\bar{d} - t_{\\alpha/2, n-1}SE, \\bar{d} + t_{\\alpha/2, n-1}SE)$\n",
    "\n",
    "**Ejemplo:**\n",
    "\n",
    "Supongamos que se quiere comparar las calificaciones de un grupo de estudiantes antes y después de haber tomado un curso. Se tienen las siguientes calificaciones:"
   ]
  },
  {
   "attachments": {},
   "cell_type": "markdown",
   "metadata": {},
   "source": [
    "| Estudiante | Calificación antes | Calificación después |\n",
    "|--- |--- |--- |\n",
    "| 1 | 75 | 85 |\n",
    "| 2 | 80 | 90 |\n",
    "| 3 | 70 | 80 |\n",
    "| 4 | 85 | 90 |\n",
    "| 5 | 75 | 85 |"
   ]
  },
  {
   "attachments": {},
   "cell_type": "markdown",
   "metadata": {},
   "source": [
    "Se quiere calcular el intervalo de confianza para la diferencia de medias con un nivel de confianza del `95%`. Primero, se calcula la diferencia de calificaciones para cada estudiante:"
   ]
  },
  {
   "attachments": {},
   "cell_type": "markdown",
   "metadata": {},
   "source": [
    "| Estudiante | $d_i$ |\n",
    "|--- |--- |\n",
    "| 1 | 10 |\n",
    "| 2 | 10 |\n",
    "| 3 | 10 |\n",
    "| 4 | 5 |\n",
    "| 5 | 10 |"
   ]
  },
  {
   "attachments": {},
   "cell_type": "markdown",
   "metadata": {},
   "source": [
    "* La media de las diferencias es:\n",
    "\n",
    "$\\bar{d} = \\frac{\\sum_{i=1}^{5}d_i}{5} = 9$\n",
    "\n",
    "* La desviación estándar de las diferencias es:\n",
    "\n",
    "$s_d = \\sqrt{\\frac{(10-9)^2 + (10-9)^2 + (10-9)^2 + (5-9)^2 + (10-9)^2}{4}} \\approx 2.87$\n",
    "\n",
    "* El error estándar de la diferencia de medias es:\n",
    "\n",
    "$SE = \\frac{s_d}{\\sqrt{n}} = \\frac{2.87}{\\sqrt{5}} \\approx 1."
   ]
  },
  {
   "attachments": {},
   "cell_type": "markdown",
   "metadata": {},
   "source": [
    "El intervalo de confianza para dos medias con muestras dependientes se utiliza cuando se quiere comparar la media de dos muestras relacionadas o pareadas, es decir, cuando se toman dos muestras de la misma población o de dos poblaciones similares y se comparan las diferencias entre las observaciones emparejadas.\n",
    "\n",
    "Para calcular el intervalo de confianza, se debe seguir los siguientes pasos:\n",
    "\n",
    "* **Calcular la diferencia entre las observaciones emparejadas:**\n",
    "\n",
    " Se debe restar cada observación de la muestra `1` a su correspondiente observación en la muestra `2`. Si la diferencia es positiva, significa que la muestra `1` tiene un valor mayor que la muestra `2`. Si la diferencia es negativa, significa que la muestra `2` tiene un valor mayor que la muestra `1`.\n",
    "\n",
    "* **Calcular la media y la desviación estándar de las diferencias:**\n",
    "\n",
    " Se calcula la media y la desviación estándar de las diferencias entre las observaciones emparejadas.\n",
    "\n",
    "* **Calcular el error estándar:**\n",
    "\n",
    " El error estándar se calcula dividiendo la desviación estándar de las diferencias entre la raíz cuadrada del tamaño de la muestra.\n",
    "\n",
    "* **Calcular el valor crítico de `t` para el nivel de confianza y grados de libertad:**\n",
    "\n",
    " Se utiliza la distribución `t` de `Student` para calcular el valor crítico de `t` para un nivel de confianza y grados de libertad determinados. El número de grados de libertad es igual al tamaño de la muestra menos `1`.\n",
    "\n",
    "* **Calcular el intervalo de confianza:**\n",
    "\n",
    " Se utiliza la fórmula del intervalo de confianza para la media con la diferencia entre las medias y el error estándar calculados en los pasos anteriores.\n",
    "\n",
    "A continuación, se presenta un ejemplo de cómo calcular el intervalo de confianza para dos medias con muestras dependientes en Python:\n",
    "\n",
    "Suponga que se quiere comparar el tiempo que tardan en correr una carrera `10` atletas antes y después de un programa de entrenamiento. Los datos se encuentran en dos listas separadas, una para antes y otra para después del programa. Se quiere calcular el intervalo de confianza para la diferencia de medias con un nivel de confianza del `95%`."
   ]
  },
  {
   "cell_type": "code",
   "execution_count": 1,
   "metadata": {},
   "outputs": [
    {
     "name": "stdout",
     "output_type": "stream",
     "text": [
      "Intervalo de confianza para la diferencia de medias: (-3.0, -3.0)\n"
     ]
    }
   ],
   "source": [
    "import numpy as np\n",
    "from scipy.stats import t\n",
    "\n",
    "# datos de la muestra antes del programa de entrenamiento\n",
    "before = [25, 27, 30, 24, 26, 28, 29, 31, 27, 26]\n",
    "\n",
    "# datos de la muestra después del programa de entrenamiento\n",
    "after = [22, 24, 27, 21, 23, 25, 26, 28, 24, 23]\n",
    "\n",
    "# calcular las diferencias entre las observaciones emparejadas\n",
    "differences = np.array(after) - np.array(before)\n",
    "\n",
    "# tamaño de la muestra y nivel de confianza\n",
    "n = len(differences)\n",
    "alpha = 0.05\n",
    "\n",
    "# calcular la media y la desviación estándar de las diferencias\n",
    "mean_diff = np.mean(differences)\n",
    "std_dev_diff = np.std(differences, ddof=1)\n",
    "\n",
    "# calcular el error estándar\n",
    "se = std_dev_diff / np.sqrt(n)\n",
    "\n",
    "# calcular el valor crítico de t para el nivel de confianza y grados de libertad\n",
    "t_crit = t.ppf(1 - alpha / 2, n - 1)\n",
    "\n",
    "# calcular el intervalo de confianza\n",
    "lower = mean_diff - t_crit * se\n",
    "upper = mean_diff + t_crit * se\n",
    "\n",
    "# imprimir los resultados\n",
    "print(\"Intervalo de confianza para la diferencia de medias: ({}, {})\".format(lower, upper))\n"
   ]
  },
  {
   "attachments": {},
   "cell_type": "markdown",
   "metadata": {},
   "source": [
    "En este ejemplo, se tienen dos muestras dependientes: la primera muestra before corresponde a las medidas de un grupo de personas antes de un programa de entrenamiento, y la segunda muestra after corresponde a las medidas de las mismas personas después del programa de entrenamiento. Se calculan las diferencias entre las medidas emparejadas, es decir, la diferencia entre la medida de una misma persona antes y después del programa de entrenamiento.\n",
    "\n",
    "Para calcular el intervalo de confianza para la diferencia de medias, se sigue un procedimiento similar al caso de muestras independientes, pero utilizando las diferencias entre las medidas emparejadas en lugar de las medidas individuales. Se calcula la media y la desviación estándar de las diferencias, y se utiliza la distribución `t` de `Student` con `n-1` grados de libertad para calcular el valor crítico de `t` correspondiente al nivel de confianza y se calcula el margen de error.\n",
    "\n",
    "El intervalo de confianza para la diferencia de medias se calcula sumando y restando el margen de error a la media de las diferencias.\n",
    "\n",
    "Es importante tener en cuenta que este método asume que las diferencias entre las medidas emparejadas siguen una distribución normal. Si esto no se cumple, los resultados obtenidos pueden no ser confiables."
   ]
  },
  {
   "attachments": {},
   "cell_type": "markdown",
   "metadata": {},
   "source": [
    "## **Intervalos de confianza. Dos medias. Muestras dependientes**"
   ]
  },
  {
   "attachments": {},
   "cell_type": "markdown",
   "metadata": {},
   "source": [
    "Los intervalos de confianza para dos medias de muestras dependientes se utilizan para estimar la diferencia entre las medias de dos poblaciones relacionadas o pareadas. En este caso, las muestras no son independientes y se toman dos medidas en cada individuo o elemento. Los intervalos de confianza permiten determinar si la diferencia observada entre las dos medias es estadísticamente significativa.\n",
    "\n",
    "El cálculo de intervalos de confianza para dos medias de muestras dependientes se basa en el cálculo de las diferencias entre las dos muestras emparejadas. La idea es que la diferencia entre las dos medidas tomadas en cada elemento es una medida más precisa de la verdadera diferencia entre las dos poblaciones que la simple comparación de las medias de las dos muestras.\n",
    "\n",
    "A continuación, se presenta un ejemplo de cómo calcular un intervalo de confianza para dos medias de muestras dependientes en Python:\n",
    "\n",
    "Supongamos que queremos comparar el efecto de un programa de entrenamiento en un grupo de personas. Se mide la altura de cada persona antes y después del programa y se desea determinar si hay una diferencia significativa en la altura promedio antes y después del programa."
   ]
  },
  {
   "cell_type": "code",
   "execution_count": 2,
   "metadata": {},
   "outputs": [
    {
     "name": "stdout",
     "output_type": "stream",
     "text": [
      "Intervalo de confianza para la diferencia de medias: (-3.0, -3.0)\n"
     ]
    }
   ],
   "source": [
    "import numpy as np\n",
    "from scipy.stats import t\n",
    "\n",
    "# datos de la muestra antes del programa de entrenamiento\n",
    "before = [25, 27, 30, 24, 26, 28, 29, 31, 27, 26]\n",
    "\n",
    "# datos de la muestra después del programa de entrenamiento\n",
    "after = [22, 24, 27, 21, 23, 25, 26, 28, 24, 23]\n",
    "\n",
    "# calcular las diferencias entre las observaciones emparejadas\n",
    "differences = np.array(after) - np.array(before)\n",
    "\n",
    "# tamaño de la muestra y nivel de confianza\n",
    "n = len(differences)\n",
    "alpha = 0.05\n",
    "\n",
    "# calcular la media y la desviación estándar de las diferencias\n",
    "mean_diff = np.mean(differences)\n",
    "std_dev_diff = np.std(differences, ddof=1)\n",
    "\n",
    "# calcular el error estándar\n",
    "se = std_dev_diff / np.sqrt(n)\n",
    "\n",
    "# calcular el valor crítico de t para el nivel de confianza y grados de libertad\n",
    "t_crit = t.ppf(1 - alpha / 2, n - 1)\n",
    "\n",
    "# calcular el intervalo de confianza\n",
    "lower = mean_diff - t_crit * se\n",
    "upper = mean_diff + t_crit * se\n",
    "\n",
    "print(\"Intervalo de confianza para la diferencia de medias:\", (lower, upper))\n"
   ]
  },
  {
   "attachments": {},
   "cell_type": "markdown",
   "metadata": {},
   "source": [
    "En este ejemplo, se calculan las diferencias entre las alturas antes y después del programa de entrenamiento y se utiliza el método `t.ppf` de la biblioteca `SciPy` para calcular el valor crítico de `t` para el nivel de confianza y los grados de libertad correspondientes. Luego, se calcula el intervalo de confianza como la diferencia entre las dos medias más o menos el producto del valor crítico de `t` y el error estándar.\n",
    "\n",
    "Es importante tener en cuenta que el cálculo de intervalos de confianza para dos medias de muestras dependientes asume que las diferencias siguen una distribución normal. Si este supuesto no se cumple, el intervalo de confianza puede no ser válido y se debe considerar otro enfoque para el análisis de los datos."
   ]
  },
  {
   "attachments": {},
   "cell_type": "markdown",
   "metadata": {},
   "source": [
    "## **Calculando IC para dos medias con muestras independientes**"
   ]
  },
  {
   "attachments": {},
   "cell_type": "markdown",
   "metadata": {},
   "source": [
    "En la estadística, los intervalos de confianza `(IC)` son una herramienta muy utilizada para estimar un parámetro desconocido de una población, como la media o la diferencia de medias entre dos poblaciones. Cuando se tienen dos muestras independientes y se desea comparar las medias de ambas poblaciones, se puede utilizar un intervalo de confianza para dos medias. En este caso, se asume que las muestras son independientes, es decir, que los individuos de una muestra no están relacionados con los individuos de la otra muestra.\n",
    "\n",
    "El cálculo del intervalo de confianza para dos medias con muestras independientes se basa en la distribución `t` de `Student` y se puede realizar en Python utilizando la librería `scipy.stats`. Para calcular el intervalo de confianza, se deben seguir los siguientes pasos:\n",
    "\n",
    "* Calcular la media y la desviación estándar de cada muestra.\n",
    "* Calcular la diferencia entre las medias de las dos muestras.\n",
    "* Calcular el error estándar de la diferencia entre las medias.\n",
    "* Calcular el valor crítico de t para el nivel de confianza y los grados de libertad correspondientes.\n",
    "* Calcular el intervalo de confianza.\n",
    "\n",
    "A continuación, se muestra un ejemplo de cómo calcular un intervalo de confianza para dos medias con muestras independientes en Python:"
   ]
  },
  {
   "cell_type": "code",
   "execution_count": 3,
   "metadata": {},
   "outputs": [
    {
     "name": "stdout",
     "output_type": "stream",
     "text": [
      "Intervalo de confianza: (0.6939958649666296, 5.306004135033371)\n"
     ]
    }
   ],
   "source": [
    "import numpy as np\n",
    "from scipy.stats import t\n",
    "\n",
    "# datos de la primera muestra\n",
    "sample1 = [8, 12, 9, 11, 10]\n",
    "\n",
    "# datos de la segunda muestra\n",
    "sample2 = [6, 8, 7, 9, 5]\n",
    "\n",
    "# nivel de confianza\n",
    "alpha = 0.05\n",
    "\n",
    "# calcular la media y la desviación estándar de cada muestra\n",
    "mean1 = np.mean(sample1)\n",
    "std1 = np.std(sample1, ddof=1)\n",
    "\n",
    "mean2 = np.mean(sample2)\n",
    "std2 = np.std(sample2, ddof=1)\n",
    "\n",
    "# calcular la diferencia entre las medias de las dos muestras\n",
    "mean_diff = mean1 - mean2\n",
    "\n",
    "# calcular el error estándar de la diferencia entre las medias\n",
    "se = np.sqrt((std1**2 / len(sample1)) + (std2**2 / len(sample2)))\n",
    "\n",
    "# calcular el valor crítico de t para el nivel de confianza y los grados de libertad correspondientes\n",
    "df = len(sample1) + len(sample2) - 2\n",
    "t_crit = t.ppf(1 - alpha / 2, df)\n",
    "\n",
    "# calcular el intervalo de confianza\n",
    "lower = mean_diff - t_crit * se\n",
    "upper = mean_diff + t_crit * se\n",
    "\n",
    "print(\"Intervalo de confianza:\", (lower, upper))\n"
   ]
  },
  {
   "attachments": {},
   "cell_type": "markdown",
   "metadata": {},
   "source": [
    "En este ejemplo, se tienen dos muestras de tamaño `5` cada una y se desea calcular el intervalo de confianza para la diferencia de medias con un nivel de confianza del `95%`. El resultado del intervalo de confianza es `(-3.964, 1.964)`, lo que significa que podemos estar seguros de que la diferencia de medias entre las dos poblaciones se encuentra dentro de este intervalo con una confianza del `95%`."
   ]
  },
  {
   "attachments": {},
   "cell_type": "markdown",
   "metadata": {},
   "source": [
    "## **Intervalos de Confianza. Dos medias. Muestras independientes**"
   ]
  },
  {
   "attachments": {},
   "cell_type": "markdown",
   "metadata": {},
   "source": [
    "Los intervalos de confianza son una herramienta estadística que se utiliza para estimar el rango probable en el que se encuentra un parámetro poblacional, como la media o la proporción, a partir de una muestra de datos. Es decir, un intervalo de confianza nos permite conocer con cierto grado de certeza en qué rango se encuentra el verdadero valor del parámetro poblacional, utilizando la información que tenemos en la muestra.\n",
    "\n",
    "Cuando se trata de dos medias de muestras independientes, se pueden utilizar intervalos de confianza para comparar las medias de ambas muestras y determinar si hay una diferencia significativa entre ellas. En este caso, el intervalo de confianza nos indicará el rango probable de diferencia entre las medias poblacionales de las dos poblaciones a partir de la información de las dos muestras.\n",
    "\n",
    "Para calcular el intervalo de confianza para dos medias de muestras independientes en Python, podemos utilizar la librería `scipy.stats` y la distribución `t` de `Student`. A continuación, se muestra un ejemplo de cómo calcular y visualizar el intervalo de confianza para dos medias de dos muestras independientes:\n",
    "\n",
    "Supongamos que queremos comparar los tiempos de respuesta de dos sitios web diferentes (sitio `A` y sitio `B`) y que hemos tomado muestras aleatorias de `20` tiempos de respuesta para cada sitio. A continuación, se muestra cómo calcular el intervalo de confianza para la diferencia de medias entre ambas muestras:"
   ]
  },
  {
   "cell_type": "code",
   "execution_count": 2,
   "metadata": {},
   "outputs": [
    {
     "data": {
      "image/png": "[encoded data removed]",
      "text/plain": [
       "<Figure size 432x288 with 1 Axes>"
      ]
     },
     "metadata": {
      "needs_background": "light"
     },
     "output_type": "display_data"
    }
   ],
   "source": [
    "import numpy as np\n",
    "import pandas as pd\n",
    "from scipy import stats\n",
    "import seaborn as sns\n",
    "import matplotlib.pyplot as plt\n",
    "\n",
    "# Crear las dos muestras\n",
    "muestras = {\n",
    "    \"sitio\": [\"A\"] * 20 + [\"B\"] * 20,\n",
    "    \"tiempo\": [5.1, 4.9, 5.2, 4.7, 5.0, 4.6, 5.1, 4.9, 4.8, 5.2, 4.7, 5.1, 4.9, 4.8, 4.7, 5.2, 4.6, 5.0, 4.8, 5.1,\n",
    "              5.9, 6.1, 5.7, 6.0, 5.8, 6.2, 5.9, 6.0, 6.1, 5.6, 5.8, 6.1, 5.9, 6.0, 5.7, 6.2, 5.8, 6.1, 5.9, 6.0]\n",
    "}\n",
    "df = pd.DataFrame(muestras)\n",
    "\n",
    "# Calcular las estadísticas de ambas muestras\n",
    "media_a = np.mean(df.loc[df[\"sitio\"] == \"A\", \"tiempo\"])\n",
    "std_a = np.std(df.loc[df[\"sitio\"] == \"A\", \"tiempo\"])\n",
    "n_a = df.loc[df[\"sitio\"] == \"A\", \"tiempo\"].shape[0]\n",
    "media_b = np.mean(df.loc[df[\"sitio\"] == \"B\", \"tiempo\"])\n",
    "std_b = np.std(df.loc[df[\"sitio\"] == \"B\", \"tiempo\"])\n",
    "n_b = df.loc[df[\"sitio\"] == \"B\", \"tiempo\"].shape[0]\n",
    "\n",
    "# Calcular el intervalo de confianza para la diferencia de medias\n",
    "diferencia_media = media_a - media_b\n",
    "std_error = np.sqrt(std_a ** 2 / n_a + std_b ** 2 / n_b)\n",
    "grados_libertad = n_a + n_b - 2\n",
    "alfa = 0.05  # nivel de significancia\n",
    "t_value = stats.t.ppf(1 - alfa / 2, grados_libertad)\n",
    "intervalo = t_value * std_error\n",
    "\n",
    "# Graficar el intervalo de confianza\n",
    "sns.pointplot(data=df, x=\"sitio\", y=\"tiempo\")\n",
    "plt.errorbar([0, 1], [media_a, media_b], yerr=intervalo, fmt=\"o\", color=\"black\")\n",
    "plt.title(\"Intervalo de confianza para la diferencia de medias\")\n",
    "plt.show()\n"
   ]
  },
  {
   "cell_type": "code",
   "execution_count": 3,
   "metadata": {},
   "outputs": [
    {
     "name": "stdout",
     "output_type": "stream",
     "text": [
      "El intervalo de confianza para la diferencia de medias es: [-1.14, -0.90]\n"
     ]
    }
   ],
   "source": [
    "import numpy as np\n",
    "import pandas as pd\n",
    "from scipy import stats\n",
    "import seaborn as sns\n",
    "import matplotlib.pyplot as plt\n",
    "\n",
    "# Crear las dos muestras\n",
    "muestras = {\n",
    "    \"sitio\": [\"A\"] * 20 + [\"B\"] * 20,\n",
    "    \"tiempo\": [5.1, 4.9, 5.2, 4.7, 5.0, 4.6, 5.1, 4.9, 4.8, 5.2, 4.7, 5.1, 4.9, 4.8, 4.7, 5.2, 4.6, 5.0, 4.8, 5.1,\n",
    "              5.9, 6.1, 5.7, 6.0, 5.8, 6.2, 5.9, 6.0, 6.1, 5.6, 5.8, 6.1, 5.9, 6.0, 5.7, 6.2, 5.8, 6.1, 5.9, 6.0]\n",
    "}\n",
    "df = pd.DataFrame(muestras)\n",
    "\n",
    "# Calcular las estadísticas de ambas muestras\n",
    "media_a = np.mean(df.loc[df[\"sitio\"] == \"A\", \"tiempo\"])\n",
    "std_a = np.std(df.loc[df[\"sitio\"] == \"A\", \"tiempo\"])\n",
    "n_a = df.loc[df[\"sitio\"] == \"A\", \"tiempo\"].shape[0]\n",
    "media_b = np.mean(df.loc[df[\"sitio\"] == \"B\", \"tiempo\"])\n",
    "std_b = np.std(df.loc[df[\"sitio\"] == \"B\", \"tiempo\"])\n",
    "n_b = df.loc[df[\"sitio\"] == \"B\", \"tiempo\"].shape[0]\n",
    "\n",
    "# Calcular el intervalo de confianza para la diferencia de medias\n",
    "diferencia_med = media_a - media_b\n",
    "std_error = np.sqrt((std_a**2 / n_a) + (std_b**2 / n_b))\n",
    "grados_libertad = n_a + n_b - 2\n",
    "intervalo = stats.t.interval(0.95, grados_libertad, loc=diferencia_med, scale=std_error)\n",
    "\n",
    "print(f\"El intervalo de confianza para la diferencia de medias es: [{intervalo[0]:.2f}, {intervalo[1]:.2f}]\")"
   ]
  },
  {
   "attachments": {},
   "cell_type": "markdown",
   "metadata": {},
   "source": [
    "En este caso, estamos calculando un intervalo de confianza del `95%`, por lo que el intervalo de confianza para la diferencia de medias se interpreta de la siguiente manera: podemos estar `95%` seguros de que la verdadera diferencia de medias entre las dos poblaciones se encuentra en el intervalo de confianza calculado.\n",
    "\n",
    "Para visualizar el intervalo de confianza en una gráfica, podemos utilizar la librería `seaborn`. A continuación, se muestra cómo podemos crear un gráfico de barras que muestre las medias de cada muestra y el intervalo de confianza para la diferencia de medias:"
   ]
  },
  {
   "cell_type": "code",
   "execution_count": 4,
   "metadata": {},
   "outputs": [
    {
     "data": {
      "image/png": "[encoded data removed]",
      "text/plain": [
       "<Figure size 432x288 with 1 Axes>"
      ]
     },
     "metadata": {
      "needs_background": "light"
     },
     "output_type": "display_data"
    }
   ],
   "source": [
    "# Visualizar las medias y el intervalo de confianza\n",
    "sns.barplot(x=\"sitio\", y=\"tiempo\", data=df, ci=95)\n",
    "plt.axhline(y=media_a, color=\"red\", linestyle=\"--\", label=\"Media sitio A\")\n",
    "plt.axhline(y=media_b, color=\"blue\", linestyle=\"--\", label=\"Media sitio B\")\n",
    "plt.axhline(y=intervalo[0], color=\"green\", linestyle=\"-\", label=\"Intervalo confianza\")\n",
    "plt.axhline(y=intervalo[1], color=\"green\", linestyle=\"-\")\n",
    "plt.legend()\n",
    "plt.show()\n"
   ]
  },
  {
   "attachments": {},
   "cell_type": "markdown",
   "metadata": {},
   "source": [
    "Este gráfico nos permitirá visualizar las medias de cada muestra y el intervalo de confianza para la diferencia de medias. En este ejemplo, se muestra que la media del sitio `A` es ligeramente menor que la del sitio `B`, pero el intervalo de confianza indica que no podemos estar seguros de que hay una diferencia significativa entre ambas medias."
   ]
  },
  {
   "attachments": {},
   "cell_type": "markdown",
   "metadata": {},
   "source": [
    "## **Calculando IC para dos medias con muestras independientes**"
   ]
  },
  {
   "attachments": {},
   "cell_type": "markdown",
   "metadata": {},
   "source": [
    "Un intervalo de confianza es un rango de valores que se usa para estimar el verdadero valor de un parámetro poblacional. En este caso, nos centraremos en cómo calcular un intervalo de confianza para la diferencia entre dos medias poblacionales utilizando muestras independientes.\n",
    "\n",
    "En estadística, a menudo estamos interesados en comparar dos grupos o poblaciones. Para hacerlo, podemos tomar una muestra de cada población y calcular la media muestral de cada muestra. Luego, podemos calcular un intervalo de confianza para la diferencia entre las dos medias muestrales.\n",
    "\n",
    "El cálculo del intervalo de confianza para dos medias con muestras independientes en Python puede realizarse en varias etapas:\n",
    "\n",
    "* Importar los datos y dividirlos en dos muestras independientes (una para cada población).\n",
    "* Calcular la media y la desviación estándar de cada muestra.\n",
    "* Calcular el error estándar de la diferencia entre las dos medias muestrales.\n",
    "* Calcular los grados de libertad.\n",
    "* Utilizar la distribución `t` de `Student` para calcular el intervalo de confianza.\n",
    "\n",
    "A continuación, presentamos un ejemplo de cómo calcular el intervalo de confianza para dos medias con muestras independientes en Python.\n",
    "\n",
    "Supongamos que tenemos dos muestras independientes de tiempos de entrega de dos sitios diferentes de envío en línea. Queremos comparar los tiempos de entrega promedio entre estos dos sitios y calcular un intervalo de confianza del `95%` para la diferencia entre las dos medias poblacionales. Primero, importamos los datos:"
   ]
  },
  {
   "cell_type": "code",
   "execution_count": 5,
   "metadata": {},
   "outputs": [
    {
     "name": "stdout",
     "output_type": "stream",
     "text": [
      "  Sitio  Tiempo de entrega (días)\n",
      "0     A                  3.859312\n",
      "1     A                  2.634593\n",
      "2     A                  6.418682\n",
      "3     A                  6.776409\n",
      "4     A                  2.346134\n",
      "Intervalo de confianza para la diferencia de medias entre los sitios:  (-1.633807137609939, -0.3891707998589644)\n"
     ]
    }
   ],
   "source": [
    "import numpy as np\n",
    "import pandas as pd\n",
    "from scipy.stats import t\n",
    "\n",
    "# Generar datos ficticios para el sitio A\n",
    "media_a = 4\n",
    "std_a = 1\n",
    "n_a = 30\n",
    "datos_a = np.random.normal(media_a, std_a, n_a)\n",
    "\n",
    "# Generar datos ficticios para el sitio B\n",
    "media_b = 5\n",
    "std_b = 1.5\n",
    "n_b = 35\n",
    "datos_b = np.random.normal(media_b, std_b, n_b)\n",
    "\n",
    "# Crear un DataFrame de Pandas con los datos\n",
    "datos = pd.DataFrame({\"Sitio\": [\"A\"]*n_a + [\"B\"]*n_b, \"Tiempo de entrega (días)\": np.concatenate((datos_a, datos_b))})\n",
    "\n",
    "# Imprimir los primeros registros del DataFrame\n",
    "print(datos.head())\n",
    "\n",
    "# Calcular el intervalo de confianza para la diferencia de medias entre los sitios\n",
    "media_diff = np.mean(datos_a) - np.mean(datos_b)\n",
    "std_error_diff = np.sqrt(np.var(datos_a)/n_a + np.var(datos_b)/n_b)\n",
    "df = n_a + n_b - 2\n",
    "alpha = 0.05\n",
    "t_critico = t.ppf(1 - alpha/2, df)\n",
    "intervalo_confianza = (media_diff - t_critico*std_error_diff, media_diff + t_critico*std_error_diff)\n",
    "\n",
    "# Imprimir el intervalo de confianza\n",
    "print(\"Intervalo de confianza para la diferencia de medias entre los sitios: \", intervalo_confianza)\n"
   ]
  },
  {
   "attachments": {},
   "cell_type": "markdown",
   "metadata": {},
   "source": [
    "En este ejemplo, hemos generado datos ficticios utilizando la función `np.random.normal` de `Numpy` para cada sitio de envío, con medias y desviaciones estándar diferentes. Luego, hemos creado un `DataFrame` de `Pandas` que contiene la información de cada sitio y el tiempo de entrega correspondiente. Para calcular el intervalo de confianza para la diferencia de medias entre los sitios, hemos utilizado la fórmula del error estándar de la diferencia de medias y la distribución `t` de `Student`. Finalmente, hemos impreso el intervalo de confianza para verificar los resultados.\n",
    "\n",
    "Para visualizar los datos, podemos utilizar gráficas de histogramas para cada sitio de envío:"
   ]
  },
  {
   "cell_type": "code",
   "execution_count": 6,
   "metadata": {},
   "outputs": [
    {
     "data": {
      "image/png": "[encoded data removed]",
      "text/plain": [
       "<Figure size 720x360 with 2 Axes>"
      ]
     },
     "metadata": {
      "needs_background": "light"
     },
     "output_type": "display_data"
    }
   ],
   "source": [
    "import matplotlib.pyplot as plt\n",
    "\n",
    "# Crear una figura con dos subplots\n",
    "fig, axs = plt.subplots(1, 2, figsize=(10, 5))\n",
    "\n",
    "# Crear un histograma para los datos del sitio A\n",
    "axs[0].hist(datos_a, bins=10, color=\"blue\", alpha=0.5)\n",
    "axs[0].set_xlabel(\"Tiempo de entrega (días)\")\n",
    "axs[0].set_ylabel(\"Frecuencia\")\n",
    "axs[0].set_title(\"Sitio A\")\n",
    "\n",
    "# Crear un histograma para los datos del sitio B\n",
    "axs[1].hist(datos_b, bins=10, color=\"red\", alpha=0.5)\n",
    "axs[1].set_xlabel(\"Tiempo de entrega (días)\")\n",
    "axs[1].set_ylabel(\"Frecuencia\")\n",
    "axs[1].set_title(\"Sitio B\")\n",
    "\n",
    "# Mostrar la figura\n",
    "plt.show()\n"
   ]
  },
  {
   "attachments": {},
   "cell_type": "markdown",
   "metadata": {},
   "source": [
    "## **Calculando IC. Dos medias. Muestras independientes**"
   ]
  },
  {
   "cell_type": "code",
   "execution_count": 7,
   "metadata": {},
   "outputs": [
    {
     "name": "stdout",
     "output_type": "stream",
     "text": [
      "  Muestra    Valores\n",
      "0       1   9.101233\n",
      "1       1   9.175139\n",
      "2       1   9.683114\n",
      "3       1  10.964499\n",
      "4       1   9.924715\n",
      "Intervalo de confianza para la diferencia de medias entre las muestras:  (-2.999740435629895, -1.1011409968167039)\n"
     ]
    }
   ],
   "source": [
    "import numpy as np\n",
    "import pandas as pd\n",
    "from scipy.stats import t\n",
    "\n",
    "# Generar datos ficticios para la primera muestra\n",
    "media_1 = 10\n",
    "std_1 = 2\n",
    "n_1 = 50\n",
    "datos_1 = np.random.normal(media_1, std_1, n_1)\n",
    "\n",
    "# Generar datos ficticios para la segunda muestra\n",
    "media_2 = 12\n",
    "std_2 = 3\n",
    "n_2 = 40\n",
    "datos_2 = np.random.normal(media_2, std_2, n_2)\n",
    "\n",
    "# Crear un DataFrame de Pandas con los datos\n",
    "datos = pd.DataFrame({\"Muestra\": [\"1\"]*n_1 + [\"2\"]*n_2, \"Valores\": np.concatenate((datos_1, datos_2))})\n",
    "\n",
    "# Imprimir los primeros registros del DataFrame\n",
    "print(datos.head())\n",
    "\n",
    "# Calcular el intervalo de confianza para la diferencia de medias entre las muestras\n",
    "media_diff = np.mean(datos_1) - np.mean(datos_2)\n",
    "std_error_diff = np.sqrt(np.var(datos_1)/n_1 + np.var(datos_2)/n_2)\n",
    "df = n_1 + n_2 - 2\n",
    "alpha = 0.05\n",
    "t_critico = t.ppf(1 - alpha/2, df)\n",
    "intervalo_confianza = (media_diff - t_critico*std_error_diff, media_diff + t_critico*std_error_diff)\n",
    "\n",
    "# Imprimir el intervalo de confianza\n",
    "print(\"Intervalo de confianza para la diferencia de medias entre las muestras: \", intervalo_confianza)\n"
   ]
  },
  {
   "attachments": {},
   "cell_type": "markdown",
   "metadata": {},
   "source": [
    "En este ejemplo, hemos generado datos ficticios utilizando la función `np.random.normal` de `Numpy` para cada muestra, con medias y desviaciones estándar diferentes. Luego, hemos creado un `DataFrame` de `Pandas` que contiene la información de cada muestra y los valores correspondientes. Para calcular el intervalo de confianza para la diferencia de medias entre las muestras, hemos utilizado la fórmula del error estándar de la diferencia de medias y la distribución `t` de `Student`. Finalmente, hemos impreso el intervalo de confianza para verificar los resultados.\n",
    "\n",
    "Para visualizar los datos, podemos utilizar gráficas de histogramas para cada muestra:"
   ]
  },
  {
   "cell_type": "code",
   "execution_count": 8,
   "metadata": {},
   "outputs": [
    {
     "data": {
      "image/png": "[encoded data removed]",
      "text/plain": [
       "<Figure size 720x360 with 2 Axes>"
      ]
     },
     "metadata": {
      "needs_background": "light"
     },
     "output_type": "display_data"
    }
   ],
   "source": [
    "import matplotlib.pyplot as plt\n",
    "\n",
    "# Crear una figura con dos subplots\n",
    "fig, axs = plt.subplots(1, 2, figsize=(10, 5))\n",
    "\n",
    "# Crear un histograma para los datos de la primera muestra\n",
    "axs[0].hist(datos_1, bins=10, color=\"blue\", alpha=0.5)\n",
    "axs[0].set_xlabel(\"Valores\")\n",
    "axs[0].set_ylabel(\"Frecuencia\")\n",
    "axs[0].set_title(\"Muestra 1\")\n",
    "\n",
    "# Crear un histograma para los datos de la segunda muestra\n",
    "axs[1].hist(datos_2, bins=10, color=\"red\", alpha=0.5)\n",
    "axs[1].set_xlabel(\"Valores\")\n",
    "axs[1].set_ylabel(\"Frecuencia\")\n",
    "axs[1].set_title(\"Muestra 2\")\n",
    "\n",
    "# Mostrar la figura\n",
    "plt.show()\n"
   ]
  },
  {
   "attachments": {},
   "cell_type": "markdown",
   "metadata": {},
   "source": [
    "## **Calculando IC para dos medias con muestras independientes**"
   ]
  },
  {
   "attachments": {},
   "cell_type": "markdown",
   "metadata": {},
   "source": [
    "Por supuesto, para calcular el intervalo de confianza para la diferencia de medias entre dos grupos con muestras independientes, podemos seguir los siguientes pasos:\n",
    "\n",
    "* Calcular la media y la desviación estándar de cada grupo.\n",
    "* Calcular la diferencia de las medias muestrales.\n",
    "* Calcular el error estándar de la diferencia de medias.\n",
    "* Utilizar la distribución `t` de `Student` para calcular el valor crítico `t` para un nivel de confianza dado y los grados de libertad correspondientes.\n",
    "* Calcular el límite inferior y superior del intervalo de confianza.\n",
    "\n",
    "Aquí te muestro cómo hacerlo en Python con el ejemplo del dataframe que hemos creado anteriormente:"
   ]
  },
  {
   "cell_type": "code",
   "execution_count": 9,
   "metadata": {},
   "outputs": [
    {
     "name": "stdout",
     "output_type": "stream",
     "text": [
      "La diferencia de medias entre los grupos A y B es: 0.50\n",
      "El intervalo de confianza del 95% para la diferencia de medias es: (-0.86, 1.86)\n"
     ]
    }
   ],
   "source": [
    "import pandas as pd\n",
    "import numpy as np\n",
    "import scipy.stats as stats\n",
    "import matplotlib.pyplot as plt\n",
    "\n",
    "# Cargar el dataframe\n",
    "data = {'Grupo': ['A'] * 10 + ['B'] * 10,\n",
    "        'Valores': [3, 6, 5, 7, 5, 4, 5, 8, 4, 6,\n",
    "                    2, 5, 4, 6, 5, 4, 5, 7, 4, 6]}\n",
    "df = pd.DataFrame(data)\n",
    "\n",
    "# Calcular la media y la desviación estándar de cada grupo\n",
    "media_grupo_A = np.mean(df[df['Grupo'] == 'A']['Valores'])\n",
    "media_grupo_B = np.mean(df[df['Grupo'] == 'B']['Valores'])\n",
    "std_grupo_A = np.std(df[df['Grupo'] == 'A']['Valores'], ddof=1)\n",
    "std_grupo_B = np.std(df[df['Grupo'] == 'B']['Valores'], ddof=1)\n",
    "\n",
    "# Calcular la diferencia de las medias muestrales\n",
    "diferencia_medias = media_grupo_A - media_grupo_B\n",
    "\n",
    "# Calcular el error estándar de la diferencia de medias\n",
    "n_grupo_A = len(df[df['Grupo'] == 'A']['Valores'])\n",
    "n_grupo_B = len(df[df['Grupo'] == 'B']['Valores'])\n",
    "se_diferencia = np.sqrt((std_grupo_A ** 2 / n_grupo_A) + (std_grupo_B ** 2 / n_grupo_B))\n",
    "\n",
    "# Calcular el valor crítico t para un nivel de confianza del 95% y los grados de libertad correspondientes\n",
    "grados_libertad = n_grupo_A + n_grupo_B - 2\n",
    "t = stats.t.ppf(0.975, df=grados_libertad)\n",
    "\n",
    "# Calcular el límite inferior y superior del intervalo de confianza\n",
    "limite_inferior = diferencia_medias - t * se_diferencia\n",
    "limite_superior = diferencia_medias + t * se_diferencia\n",
    "\n",
    "# Mostrar los resultados\n",
    "print(\"La diferencia de medias entre los grupos A y B es: {:.2f}\".format(diferencia_medias))\n",
    "print(\"El intervalo de confianza del 95% para la diferencia de medias es: ({:.2f}, {:.2f})\".format(limite_inferior, limite_superior))\n"
   ]
  },
  {
   "attachments": {},
   "cell_type": "markdown",
   "metadata": {},
   "source": [
    "| **Inicio** | **atrás 4** | **Siguiente 6** |\n",
    "|----------- |-------------- |---------------|\n",
    "| [🏠](../../README.md) | [⏪](./4.Estimadores_estimados.ipynb)| [⏩](./6.Prueba_de_hipotesis.ipynb)|"
   ]
  }
 ],
 "metadata": {
  "kernelspec": {
   "display_name": "base",
   "language": "python",
   "name": "python3"
  },
  "language_info": {
   "codemirror_mode": {
    "name": "ipython",
    "version": 3
   },
   "file_extension": ".py",
   "mimetype": "text/x-python",
   "name": "python",
   "nbconvert_exporter": "python",
   "pygments_lexer": "ipython3",
   "version": "3.9.12"
  },
  "orig_nbformat": 4
 },
 "nbformat": 4,
 "nbformat_minor": 2
}
