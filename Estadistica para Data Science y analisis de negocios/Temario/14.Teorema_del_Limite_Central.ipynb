{
 "cells": [
  {
   "attachments": {},
   "cell_type": "markdown",
   "metadata": {},
   "source": [
    "| **Inicio** | **atrás 13** | **Siguiente 15** |\n",
    "|----------- |-------------- |---------------|\n",
    "| [🏠](../../README.md) | [⏪](./13.Tecnicas_de_Muestreo.ipynb)| [⏩](./15.Visualizaci%C3%B3n_de_Datos.ipynb)|"
   ]
  },
  {
   "attachments": {},
   "cell_type": "markdown",
   "metadata": {},
   "source": [
    "# **14. Domina el Teorema del Límite Central**"
   ]
  },
  {
   "attachments": {},
   "cell_type": "markdown",
   "metadata": {},
   "source": [
    "## **Introducción**"
   ]
  },
  {
   "attachments": {},
   "cell_type": "markdown",
   "metadata": {},
   "source": [
    "El Teorema del Límite Central (TLC) es un resultado fundamental en la teoría de la probabilidad y estadística que establece que, bajo ciertas condiciones, la suma de variables aleatorias independientes y con distribuciones similares se aproxima a una distribución normal.\n",
    "\n",
    "En términos simples, esto significa que si se toma una muestra suficientemente grande de una población (cada muestra con la misma cantidad de elementos), la media de las muestras se aproxima a una distribución normal independientemente de la distribución original de la población. En otras palabras, aunque la población original no tenga una distribución normal, las medias muestrales sí la tendrán.\n",
    "\n",
    "El TLC es importante porque permite hacer inferencias estadísticas sobre las medias poblacionales a partir de muestras pequeñas, lo que es mucho más práctico y menos costoso que medir la población completa.\n",
    "\n",
    "Algunas de las condiciones necesarias para que se cumpla el TLC son:\n",
    "\n",
    "* Las variables aleatorias deben ser independientes.\n",
    "* Las variables aleatorias deben tener una distribución similar.\n",
    "* El tamaño de la muestra debe ser suficientemente grande.\n",
    "\n",
    "Es importante destacar que el TLC es un resultado teórico y que se debe tener precaución al aplicarlo en la práctica. Además, existen otras condiciones y restricciones que pueden afectar la aplicación del TLC en situaciones específicas."
   ]
  },
  {
   "attachments": {},
   "cell_type": "markdown",
   "metadata": {},
   "source": [
    "## **Teorema del Límite Central**"
   ]
  },
  {
   "cell_type": "code",
   "execution_count": 1,
   "metadata": {},
   "outputs": [
    {
     "data": {
      "image/png": "[encoded data removed]",
      "text/plain": [
       "<Figure size 432x288 with 1 Axes>"
      ]
     },
     "metadata": {
      "needs_background": "light"
     },
     "output_type": "display_data"
    }
   ],
   "source": [
    "import numpy as np\n",
    "import matplotlib.pyplot as plt\n",
    "\n",
    "# Crear la población\n",
    "poblacion = np.random.exponential(scale=1/0.5, size=100000)\n",
    "\n",
    "# Tamaño de la muestra\n",
    "n = 30\n",
    "\n",
    "# Generar 1000 muestras y calcular las medias\n",
    "medias = []\n",
    "for i in range(1000):\n",
    "    muestra = np.random.choice(poblacion, size=n, replace=False)\n",
    "    media = np.mean(muestra)\n",
    "    medias.append(media)\n",
    "\n",
    "# Graficar la distribución de las medias muestrales\n",
    "plt.hist(medias, bins=20, alpha=0.5, label='Medias muestrales')\n",
    "plt.legend(loc='upper right')\n",
    "plt.show()"
   ]
  },
  {
   "attachments": {},
   "cell_type": "markdown",
   "metadata": {},
   "source": [
    "En este ejemplo, se utiliza la función `numpy.random.exponential()` para crear una población con una distribución exponencial con parámetro lambda igual a 0.5. Luego, se generan 1000 muestras de tamaño n (en este caso, n = 30), se calculan las medias muestrales y se almacenan en una lista. Finalmente, se grafica la distribución de las medias muestrales utilizando un histograma.\n",
    "\n",
    "Se puede observar que la distribución de las medias muestrales se aproxima a una distribución normal, lo que indica que se puede utilizar la media de las muestras para hacer inferencias estadísticas sobre la media poblacional. Además, se puede utilizar la media y desviación estándar de las medias muestrales para calcular intervalos de confianza y hacer pruebas de hipótesis sobre la media poblacional."
   ]
  },
  {
   "attachments": {},
   "cell_type": "markdown",
   "metadata": {},
   "source": [
    "## **Explicación del Teorema**"
   ]
  },
  {
   "attachments": {},
   "cell_type": "markdown",
   "metadata": {},
   "source": [
    "El Teorema del Límite Central establece que, bajo ciertas condiciones, la suma de variables aleatorias independientes y con distribuciones similares se aproxima a una distribución normal. Esto significa que si se toma una muestra suficientemente grande de una población, la media de las muestras se aproxima a una distribución normal independientemente de la distribución original de la población.\n",
    "\n",
    "El teorema es importante porque permite hacer inferencias estadísticas sobre las medias poblacionales a partir de muestras pequeñas. Es decir, aunque no se conozca la distribución de la población, se puede hacer una estimación de la media poblacional a partir de la media de las muestras y utilizarla para hacer inferencias sobre la población completa.\n",
    "\n",
    "Para que se cumpla el Teorema del Límite Central, es necesario que se cumplan algunas condiciones:\n",
    "\n",
    "* Las variables aleatorias deben ser independientes: esto significa que el resultado de una variable aleatoria no afecta el resultado de las demás variables aleatorias.\n",
    "* Las variables aleatorias deben tener una distribución similar: esto significa que las variables aleatorias deben tener una distribución similar en términos de forma y parámetros. Por ejemplo, si se está trabajando con muestras de una población con una distribución normal, todas las muestras deben tener una distribución normal con la misma media y desviación estándar.\n",
    "* El tamaño de la muestra debe ser suficientemente grande: para que se cumpla el teorema, el tamaño de la muestra debe ser suficientemente grande. En general, se considera que una muestra es suficientemente grande si tiene al menos 30 observaciones.\n",
    "\n",
    "Es importante destacar que el Teorema del Límite Central es un resultado teórico y que se debe tener precaución al aplicarlo en la práctica. Además, existen otras condiciones y restricciones que pueden afectar la aplicación del teorema en situaciones específicas. Por lo tanto, es necesario evaluar cuidadosamente si se cumplen las condiciones necesarias antes de aplicar el teorema."
   ]
  },
  {
   "attachments": {},
   "cell_type": "markdown",
   "metadata": {},
   "source": [
    "## **Distribución Muestral de la Media**"
   ]
  },
  {
   "attachments": {},
   "cell_type": "markdown",
   "metadata": {},
   "source": [
    "La distribución muestral de la media es una distribución teórica que representa todas las posibles medias muestrales de una población. Esta distribución es importante porque permite hacer inferencias estadísticas sobre la media poblacional a partir de la media de las muestras.\n",
    "\n",
    "El siguiente es un ejemplo de cómo calcular y graficar la distribución muestral de la media en Python:\n",
    "\n",
    "Supongamos que se quiere conocer la estatura media de una población. Se toma una muestra de 50 personas al azar y se mide su estatura. Se repite este proceso varias veces (por ejemplo, 1000 veces) y se registra la media de cada muestra. La distribución de estas medias muestrales se llama la distribución muestral de la media.\n",
    "\n",
    "En Python, se puede generar esta distribución usando la librería NumPy y graficarla usando la librería Matplotlib. El siguiente es el código correspondiente:"
   ]
  },
  {
   "cell_type": "code",
   "execution_count": 2,
   "metadata": {},
   "outputs": [
    {
     "data": {
      "image/png": "[encoded data removed]",
      "text/plain": [
       "<Figure size 432x288 with 1 Axes>"
      ]
     },
     "metadata": {
      "needs_background": "light"
     },
     "output_type": "display_data"
    }
   ],
   "source": [
    "import numpy as np\n",
    "import matplotlib.pyplot as plt\n",
    "\n",
    "# Generar una población con distribución normal\n",
    "poblacion = np.random.normal(loc=170, scale=10, size=100000)\n",
    "\n",
    "# Tomar 50 muestras de la población\n",
    "n = 50\n",
    "muestras = np.random.choice(poblacion, size=(1000, n), replace=False)\n",
    "\n",
    "# Calcular la media de cada muestra\n",
    "medias = muestras.mean(axis=1)\n",
    "\n",
    "# Graficar la distribución muestral de la media\n",
    "plt.hist(medias, bins=30)\n",
    "plt.xlabel('Media muestral')\n",
    "plt.ylabel('Frecuencia')\n",
    "plt.title('Distribución muestral de la media')\n",
    "plt.show()"
   ]
  },
  {
   "attachments": {},
   "cell_type": "markdown",
   "metadata": {},
   "source": [
    "En este ejemplo, se genera una población de 100000 personas con una distribución normal con media 170 y desviación estándar 10. Luego, se toman 1000 muestras de 50 personas al azar de la población y se calcula la media de cada muestra. Finalmente, se grafica la distribución muestral de la media usando un histograma con 30 barras.\n",
    "\n",
    "La figura resultante muestra que la distribución muestral de la media se aproxima a una distribución normal, como predice el Teorema del Límite Central. Además, la media de la distribución muestral de la media se acerca a la media de la población original (170 en este caso). Esto significa que la media muestral es un estimador insesgado de la media poblacional y que se puede utilizar para hacer inferencias sobre la población completa."
   ]
  },
  {
   "attachments": {},
   "cell_type": "markdown",
   "metadata": {},
   "source": [
    "## **Importancia del Teorema**"
   ]
  },
  {
   "attachments": {},
   "cell_type": "markdown",
   "metadata": {},
   "source": [
    "El Teorema del Límite Central es uno de los teoremas fundamentales de la estadística y tiene una gran importancia en la inferencia estadística y en la toma de decisiones basadas en datos.\n",
    "\n",
    "La importancia del Teorema del Límite Central radica en que permite hacer inferencias sobre la media poblacional a partir de la media de las muestras. En otras palabras, si se toman varias muestras aleatorias de una población y se calcula la media de cada una de ellas, el teorema del límite central establece que la distribución de estas medias muestrales se aproximará a una distribución normal independientemente de la distribución de la población original, siempre y cuando el tamaño de las muestras sea suficientemente grande.\n",
    "\n",
    "Este resultado es importante porque significa que, en muchos casos, no es necesario conocer la distribución de la población original para hacer inferencias sobre la media poblacional. En cambio, basta con conocer la distribución muestral de la media, que se puede calcular a partir de las muestras disponibles.\n",
    "\n",
    "Además, el Teorema del Límite Central es la base de muchos otros resultados estadísticos, como el intervalo de confianza para la media poblacional, la prueba de hipótesis sobre la media poblacional y la regresión lineal, entre otros.\n",
    "\n",
    "En resumen, el Teorema del Límite Central es fundamental para la inferencia estadística y para la toma de decisiones basadas en datos, ya que permite hacer inferencias sobre la media poblacional a partir de la media de las muestras, independientemente de la distribución de la población original."
   ]
  },
  {
   "attachments": {},
   "cell_type": "markdown",
   "metadata": {},
   "source": [
    "## **Ilustración del Teorema con Python**"
   ]
  },
  {
   "cell_type": "code",
   "execution_count": 3,
   "metadata": {},
   "outputs": [
    {
     "data": {
      "image/png": "[encoded data removed]",
      "text/plain": [
       "<Figure size 432x288 with 1 Axes>"
      ]
     },
     "metadata": {
      "needs_background": "light"
     },
     "output_type": "display_data"
    }
   ],
   "source": [
    "import numpy as np\n",
    "import matplotlib.pyplot as plt\n",
    "\n",
    "# Generamos una muestra aleatoria de una distribución exponencial\n",
    "mu = 2\n",
    "sample_size = 30\n",
    "sample = np.random.exponential(scale=mu, size=sample_size)\n",
    "\n",
    "# Calculamos la media de la muestra\n",
    "sample_mean = np.mean(sample)\n",
    "\n",
    "# Repetimos este proceso muchas veces\n",
    "num_samples = 10000\n",
    "sample_means = []\n",
    "for i in range(num_samples):\n",
    "    sample = np.random.exponential(scale=mu, size=sample_size)\n",
    "    sample_mean = np.mean(sample)\n",
    "    sample_means.append(sample_mean)\n",
    "\n",
    "# Graficamos la distribución de las medias muestrales\n",
    "plt.hist(sample_means, bins=50, density=True, alpha=0.5, label='Medias muestrales')\n",
    "\n",
    "# Graficamos una distribución normal teórica con la misma media y desviación estándar\n",
    "normal_mean = mu\n",
    "normal_std = mu / np.sqrt(sample_size)\n",
    "x = np.linspace(0, 10, 100)\n",
    "y = 1 / (normal_std * np.sqrt(2 * np.pi)) * np.exp(-0.5 * ((x - normal_mean) / normal_std) ** 2)\n",
    "plt.plot(x, y, color='red', label='Distribución normal teórica')\n",
    "\n",
    "plt.legend()\n",
    "plt.show()"
   ]
  },
  {
   "attachments": {},
   "cell_type": "markdown",
   "metadata": {},
   "source": [
    "| **Inicio** | **atrás 13** | **Siguiente 15** |\n",
    "|----------- |-------------- |---------------|\n",
    "| [🏠](../../README.md) | [⏪](./13.Tecnicas_de_Muestreo.ipynb)| [⏩](./15.Visualizaci%C3%B3n_de_Datos.ipynb)|"
   ]
  }
 ],
 "metadata": {
  "kernelspec": {
   "display_name": "base",
   "language": "python",
   "name": "python3"
  },
  "language_info": {
   "codemirror_mode": {
    "name": "ipython",
    "version": 3
   },
   "file_extension": ".py",
   "mimetype": "text/x-python",
   "name": "python",
   "nbconvert_exporter": "python",
   "pygments_lexer": "ipython3",
   "version": "3.9.12"
  },
  "orig_nbformat": 4
 },
 "nbformat": 4,
 "nbformat_minor": 2
}
