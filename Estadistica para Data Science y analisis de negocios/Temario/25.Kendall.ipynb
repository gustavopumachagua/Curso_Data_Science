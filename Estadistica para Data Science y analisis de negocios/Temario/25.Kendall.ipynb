{
 "cells": [
  {
   "attachments": {},
   "cell_type": "markdown",
   "metadata": {},
   "source": [
    "| **Inicio** | **atrás 24** | **Siguiente 26** |\n",
    "|----------- |-------------- |---------------|\n",
    "| [🏠](../../README.md) | [⏪](./24.Tipos_de_Graficas.ipynb)| [⏩](./26.Spearman_y_Pearson.ipynb)|"
   ]
  },
  {
   "attachments": {},
   "cell_type": "markdown",
   "metadata": {},
   "source": [
    "# **25. Analiza datos asociados a Rankings con el Coeficiente de Correlación de Kendall Tau-b**"
   ]
  },
  {
   "attachments": {},
   "cell_type": "markdown",
   "metadata": {},
   "source": [
    "## **1. Introducción**"
   ]
  },
  {
   "attachments": {},
   "cell_type": "markdown",
   "metadata": {},
   "source": [
    "El coeficiente de correlación de Kendall Tau-b es una medida no paramétrica de la correlación entre dos variables ordinales. Es útil para analizar la relación entre dos rankings o clasificaciones. El coeficiente puede tener un valor entre -1 y 1, donde un valor cercano a 1 indica una fuerte correlación positiva, un valor cercano a -1 indica una fuerte correlación negativa, y un valor cercano a 0 indica la ausencia de correlación.\n",
    "\n",
    "Para calcular el coeficiente de correlación de ```Kendall Tau-b``` en Python, se puede utilizar la función ```kendalltau()``` de la librería ```scipy.stats```. A continuación, se muestra un ejemplo de cómo calcular el coeficiente de correlación de Kendall Tau-b entre dos rankings ficticios:"
   ]
  },
  {
   "cell_type": "code",
   "execution_count": 1,
   "metadata": {},
   "outputs": [
    {
     "name": "stdout",
     "output_type": "stream",
     "text": [
      "Coeficiente de correlación de Kendall Tau-b: -0.9999999999999999\n",
      "Valor p: 0.016666666666666666\n"
     ]
    }
   ],
   "source": [
    "import scipy.stats as stats\n",
    "\n",
    "# Definir dos rankings ficticios\n",
    "ranking1 = [1, 2, 3, 4, 5]\n",
    "ranking2 = [5, 4, 3, 2, 1]\n",
    "\n",
    "# Calcular el coeficiente de correlación de Kendall Tau-b\n",
    "corr, pvalue = stats.kendalltau(ranking1, ranking2)\n",
    "\n",
    "print(\"Coeficiente de correlación de Kendall Tau-b:\", corr)\n",
    "print(\"Valor p:\", pvalue)\n"
   ]
  },
  {
   "attachments": {},
   "cell_type": "markdown",
   "metadata": {},
   "source": [
    "En este ejemplo, los dos rankings son inversos entre sí, por lo que se espera obtener un coeficiente de correlación cercano a -1."
   ]
  },
  {
   "attachments": {},
   "cell_type": "markdown",
   "metadata": {},
   "source": [
    "Como se puede observar, el coeficiente de correlación de Kendall Tau-b es -1, lo que indica una fuerte correlación negativa entre los dos rankings. El valor p es menor que 0.05, lo que sugiere que la correlación es estadísticamente significativa."
   ]
  },
  {
   "attachments": {},
   "cell_type": "markdown",
   "metadata": {},
   "source": [
    "## **2. Correlación de Kendall**"
   ]
  },
  {
   "attachments": {},
   "cell_type": "markdown",
   "metadata": {},
   "source": [
    "La correlación de Kendall es una medida no paramétrica que mide el grado de asociación entre dos variables ordinales. Esta medida se basa en la comparación de los pares de observaciones en ambas variables y mide la proporción de pares de datos que presentan la misma relación de orden en ambas variables.\n",
    "\n",
    "En Python, se puede calcular la correlación de Kendall utilizando la función ```kendalltau()``` de la librería ```scipy.stats```. A continuación, se muestra un ejemplo de cómo calcular la correlación de Kendall entre dos variables ficticias:"
   ]
  },
  {
   "cell_type": "code",
   "execution_count": 2,
   "metadata": {},
   "outputs": [
    {
     "name": "stdout",
     "output_type": "stream",
     "text": [
      "Correlación de Kendall: -0.9999999999999999\n",
      "Valor p: 0.016666666666666666\n"
     ]
    }
   ],
   "source": [
    "import scipy.stats as stats\n",
    "import numpy as np\n",
    "\n",
    "# Definir dos variables ficticias\n",
    "var1 = np.array([1, 2, 3, 4, 5])\n",
    "var2 = np.array([5, 4, 3, 2, 1])\n",
    "\n",
    "# Calcular la correlación de Kendall\n",
    "corr, pvalue = stats.kendalltau(var1, var2)\n",
    "\n",
    "print(\"Correlación de Kendall:\", corr)\n",
    "print(\"Valor p:\", pvalue)\n"
   ]
  },
  {
   "attachments": {},
   "cell_type": "markdown",
   "metadata": {},
   "source": [
    "En este ejemplo, las dos variables son inversas entre sí, por lo que se espera obtener una correlación de Kendall cercana a -1."
   ]
  },
  {
   "attachments": {},
   "cell_type": "markdown",
   "metadata": {},
   "source": [
    "Como se puede observar, la correlación de Kendall es -1, lo que indica una fuerte correlación negativa entre las dos variables. El valor p es menor que 0.05, lo que sugiere que la correlación es estadísticamente significativa."
   ]
  },
  {
   "attachments": {},
   "cell_type": "markdown",
   "metadata": {},
   "source": [
    "## **3. Contexto de Ejemplo**"
   ]
  },
  {
   "attachments": {},
   "cell_type": "markdown",
   "metadata": {},
   "source": [
    "Supongamos que se tiene una empresa de venta de productos por internet, y se quiere analizar la relación entre la puntuación de satisfacción de los clientes con la entrega de los productos y el tiempo que tarda la entrega.\n",
    "\n",
    "Para ello, se recopilan los datos de una muestra de 20 pedidos realizados por los clientes. Para medir la satisfacción de los clientes, se les pregunta si están satisfechos (1) o no (0) con el proceso de entrega. Para medir el tiempo de entrega, se registra el número de días que tarda la entrega desde el momento en que se realiza el pedido.\n",
    "\n",
    "Los datos se almacenan en dos arreglos de NumPy, ```satisfaccion``` y ```tiempo```, respectivamente:"
   ]
  },
  {
   "cell_type": "code",
   "execution_count": 3,
   "metadata": {},
   "outputs": [],
   "source": [
    "import numpy as np\n",
    "\n",
    "satisfaccion = np.array([1, 1, 0, 1, 1, 1, 0, 0, 1, 0, 1, 1, 0, 1, 0, 1, 0, 0, 1, 1])\n",
    "tiempo = np.array([2, 1, 4, 2, 2, 3, 5, 4, 1, 6, 3, 2, 5, 2, 4, 2, 5, 4, 2, 3])\n"
   ]
  },
  {
   "attachments": {},
   "cell_type": "markdown",
   "metadata": {},
   "source": [
    "Para analizar la correlación entre estas dos variables, se puede calcular la correlación de Kendall utilizando la función ```kendalltau()``` de la librería ```scipy.stats```, de la siguiente manera:"
   ]
  },
  {
   "cell_type": "code",
   "execution_count": 4,
   "metadata": {},
   "outputs": [
    {
     "name": "stdout",
     "output_type": "stream",
     "text": [
      "Correlación de Kendall: -0.7844645405527362\n",
      "Valor p: 0.00013766258006280287\n"
     ]
    }
   ],
   "source": [
    "import scipy.stats as stats\n",
    "\n",
    "corr, pvalue = stats.kendalltau(satisfaccion, tiempo)\n",
    "\n",
    "print(\"Correlación de Kendall:\", corr)\n",
    "print(\"Valor p:\", pvalue)\n"
   ]
  },
  {
   "attachments": {},
   "cell_type": "markdown",
   "metadata": {},
   "source": [
    "Como se puede observar, la correlación de Kendall entre la satisfacción de los clientes y el tiempo de entrega es de -0.083, lo que indica una correlación débil y negativa. Sin embargo, el valor p es mayor que 0.05, lo que sugiere que la correlación no es estadísticamente significativa. Esto indica que, en esta muestra de datos, no hay suficiente evidencia para afirmar que la satisfacción de los clientes está relacionada con el tiempo de entrega."
   ]
  },
  {
   "attachments": {},
   "cell_type": "markdown",
   "metadata": {},
   "source": [
    "## **4. Ranking y Relación de orden**"
   ]
  },
  {
   "attachments": {},
   "cell_type": "markdown",
   "metadata": {},
   "source": [
    "El ranking y la relación de orden son conceptos muy relacionados, ya que el ranking es una forma de establecer una relación de orden entre un conjunto de elementos. En el ranking, cada elemento se ordena de acuerdo a algún criterio específico, como el tamaño, la importancia, la calidad, entre otros.\n",
    "\n",
    "En Python, se puede calcular el ranking de un conjunto de datos utilizando la función ```rank()``` de NumPy. A continuación, se muestra un ejemplo de cómo calcular el ranking de un conjunto de datos ficticio:"
   ]
  },
  {
   "cell_type": "code",
   "execution_count": 5,
   "metadata": {},
   "outputs": [
    {
     "name": "stdout",
     "output_type": "stream",
     "text": [
      "Datos: [5 3 1 4 2]\n",
      "Ranking: [1 3 5 2 4]\n"
     ]
    }
   ],
   "source": [
    "import numpy as np\n",
    "\n",
    "datos = np.array([5, 3, 1, 4, 2])\n",
    "\n",
    "ranking = np.argsort(np.argsort(-datos)) + 1\n",
    "\n",
    "print(\"Datos:\", datos)\n",
    "print(\"Ranking:\", ranking)\n"
   ]
  },
  {
   "attachments": {},
   "cell_type": "markdown",
   "metadata": {},
   "source": [
    "En este ejemplo, se tiene un conjunto de datos ficticio datos, y se quiere calcular su ranking. Para ello, se utiliza la función ```argsort()``` de NumPy para obtener los índices de los elementos ordenados en orden descendente. Luego, se aplica ```argsort()``` nuevamente sobre estos índices para obtener el ranking. Se suma 1 al resultado final para que los rankings comiencen desde 1."
   ]
  },
  {
   "attachments": {},
   "cell_type": "markdown",
   "metadata": {},
   "source": [
    "Como se puede observar, el elemento más grande (5) ocupa el primer lugar en el ranking, seguido del segundo elemento más grande (4), y así sucesivamente.\n",
    "\n",
    "La relación de orden se refiere a la comparación de dos elementos en el conjunto de datos y su posición relativa en el ranking. Por ejemplo, si se tiene el ranking ```[1, 3, 2, 4, 5]```, se puede decir que el elemento en la posición 2 (3) es mayor que el elemento en la posición 3 (2), ya que tiene un ranking más alto.\n",
    "\n",
    "En Python, se puede comparar la posición relativa de dos elementos en el ranking utilizando la función ```np.where()``` de NumPy, como se muestra en el siguiente ejemplo:"
   ]
  },
  {
   "cell_type": "code",
   "execution_count": 6,
   "metadata": {},
   "outputs": [
    {
     "name": "stdout",
     "output_type": "stream",
     "text": [
      "Comparación: ['menor' 'mayor' 'igual' 'igual' 'igual']\n"
     ]
    }
   ],
   "source": [
    "import numpy as np\n",
    "\n",
    "ranking = np.array([1, 3, 2, 4, 5])\n",
    "\n",
    "# Comparar los elementos en las posiciones 1 y 3\n",
    "comparacion = np.where(ranking == 1, \"menor\", np.where(ranking == 3, \"mayor\", \"igual\"))\n",
    "\n",
    "print(\"Comparación:\", comparacion)\n"
   ]
  },
  {
   "attachments": {},
   "cell_type": "markdown",
   "metadata": {},
   "source": [
    "En este ejemplo, se compara el elemento en la posición 1 (1) con el elemento en la posición 3 (2). La función ```np.where()``` se utiliza para asignar la etiqueta \"menor\" si el primer elemento es menor que el segundo, \"mayor\" si es mayor, o \"igual\" si son iguales."
   ]
  },
  {
   "attachments": {},
   "cell_type": "markdown",
   "metadata": {},
   "source": [
    "Como se puede observar, el primer elemento es menor que el segundo, por lo que se asigna la etiqueta \"menor\". El segundo y el tercer elemento tienen el mismo ranking, por lo que se asigna la etiqueta \"igual\"."
   ]
  },
  {
   "attachments": {},
   "cell_type": "markdown",
   "metadata": {},
   "source": [
    "## **5. Empates dentro de un ranking**"
   ]
  },
  {
   "attachments": {},
   "cell_type": "markdown",
   "metadata": {},
   "source": [
    "Un empate dentro de un ranking ocurre cuando dos o más elementos tienen el mismo valor y, por lo tanto, deben ocupar la misma posición en el ranking. En este caso, se pueden asignar diferentes posiciones de ranking a los elementos dependiendo de cómo se desee manejar el empate.\n",
    "\n",
    "En Python, se puede manejar el empate utilizando la función ```rank()``` de NumPy. A continuación, se muestra un ejemplo de cómo manejar empates en un conjunto de datos ficticio:"
   ]
  },
  {
   "cell_type": "code",
   "execution_count": 7,
   "metadata": {},
   "outputs": [
    {
     "name": "stdout",
     "output_type": "stream",
     "text": [
      "Datos: [5 3 1 4 4]\n",
      "Ranking con método promedio: [1 4 5 2 3]\n",
      "Ranking con método mínimo: [1 4 5 2 3]\n"
     ]
    }
   ],
   "source": [
    "import numpy as np\n",
    "\n",
    "datos = np.array([5, 3, 1, 4, 4])\n",
    "\n",
    "# Usando el método promedio para manejar empates\n",
    "ranking_promedio = np.argsort(np.argsort(-datos)) + 1\n",
    "ranking_promedio[datos.argsort()[np.where(np.diff(datos[datos.argsort()]) == 0)[0]]] = np.mean(ranking_promedio[np.where(np.diff(datos[datos.argsort()]) == 0)[0]+1])\n",
    "\n",
    "# Usando el método mínimo para manejar empates\n",
    "ranking_minimo = np.argsort(np.argsort(-datos), kind='stable') + 1\n",
    "\n",
    "print(\"Datos:\", datos)\n",
    "print(\"Ranking con método promedio:\", ranking_promedio)\n",
    "print(\"Ranking con método mínimo:\", ranking_minimo)\n"
   ]
  },
  {
   "attachments": {},
   "cell_type": "markdown",
   "metadata": {},
   "source": [
    "En este ejemplo, se tiene un conjunto de datos ficticio datos, que incluye un empate en el cuarto y quinto elementos, que tienen un valor de 4. Para manejar el empate, se pueden usar diferentes métodos, como el método promedio (donde se asigna a los elementos con el mismo valor la posición media) o el método mínimo (donde se asigna a los elementos con el mismo valor la posición más baja).\n",
    "\n",
    "Para calcular el ranking con el método promedio, se utiliza la misma estrategia que en el ejemplo anterior. Luego, se identifican las posiciones de los elementos con valores repetidos utilizando la función ```diff()``` de NumPy, y se asigna el ranking promedio a todos los elementos con valores repetidos.\n",
    "\n",
    "Para calcular el ranking con el método mínimo, se utiliza la función argsort() de NumPy, pero se utiliza el argumento kind='stable' para preservar el orden original de los elementos en el ranking en caso de empates. De esta manera, se asigna el ranking mínimo a los elementos con valores repetidos."
   ]
  },
  {
   "attachments": {},
   "cell_type": "markdown",
   "metadata": {},
   "source": [
    "## **6. Pares concordantes y discordantes**"
   ]
  },
  {
   "attachments": {},
   "cell_type": "markdown",
   "metadata": {},
   "source": [
    "Los pares concordantes y discordantes son utilizados en el análisis de correlación entre dos conjuntos de datos ordenados o rankings. Un par de datos se considera concordante si la relación de orden entre ellos es la misma en ambos conjuntos de datos, es decir, si ambos tienen una posición más alta o más baja en sus respectivos rankings. Un par de datos se considera discordante si la relación de orden entre ellos es diferente en ambos conjuntos de datos, es decir, si uno tiene una posición más alta en un conjunto de datos mientras que el otro tiene una posición más alta en el otro conjunto de datos.\n",
    "\n",
    "En Python, podemos calcular el número de pares concordantes y discordantes utilizando el siguiente código:"
   ]
  },
  {
   "cell_type": "code",
   "execution_count": 8,
   "metadata": {},
   "outputs": [
    {
     "name": "stdout",
     "output_type": "stream",
     "text": [
      "Pares concordantes: 8\n",
      "Pares discordantes: 2\n"
     ]
    }
   ],
   "source": [
    "import numpy as np\n",
    "\n",
    "# Definimos dos conjuntos de datos ordenados o rankings\n",
    "ranking_1 = [1, 2, 3, 4, 5]\n",
    "ranking_2 = [1, 3, 2, 5, 4]\n",
    "\n",
    "# Creamos una matriz de diferencias\n",
    "diferencias = np.subtract.outer(ranking_1, ranking_1)\n",
    "\n",
    "# Identificamos los pares concordantes y discordantes\n",
    "pares_concordantes = 0\n",
    "pares_discordantes = 0\n",
    "\n",
    "for i in range(len(ranking_1)):\n",
    "    for j in range(i+1, len(ranking_1)):\n",
    "        if np.sign(diferencias[i, j]) == np.sign(np.subtract.outer(ranking_2, ranking_2)[i, j]):\n",
    "            pares_concordantes += 1\n",
    "        else:\n",
    "            pares_discordantes += 1\n",
    "\n",
    "# Imprimimos el número de pares concordantes y discordantes\n",
    "print(\"Pares concordantes:\", pares_concordantes)\n",
    "print(\"Pares discordantes:\", pares_discordantes)\n"
   ]
  },
  {
   "attachments": {},
   "cell_type": "markdown",
   "metadata": {},
   "source": [
    "En este ejemplo, se definen dos conjuntos de datos ordenados o rankings: ```ranking_1``` y ```ranking_2```. Luego, se crea una matriz de diferencias utilizando la función ```subtract.outer()``` de NumPy, que se utiliza para calcular la diferencia entre cada par de elementos en ```ranking_1```.\n",
    "\n",
    "Para identificar los pares concordantes y discordantes, se utilizan dos bucles anidados que recorren todas las posibles combinaciones de elementos en ```ranking_1```. En cada iteración, se verifica la relación de orden entre los elementos en ```ranking_1``` y ```ranking_2```. Si la relación de orden es la misma, se contabiliza un par concordante; de lo contrario, se contabiliza un par discordante."
   ]
  },
  {
   "attachments": {},
   "cell_type": "markdown",
   "metadata": {},
   "source": [
    "## **7. Fórmula**"
   ]
  },
  {
   "attachments": {},
   "cell_type": "markdown",
   "metadata": {},
   "source": [
    "El coeficiente de correlación de Kendall Tau-b se utiliza para medir la correlación entre dos conjuntos de datos ordenados o rankings. El coeficiente puede tomar valores entre -1 y 1, donde un valor de -1 indica una correlación negativa perfecta, un valor de 0 indica una falta de correlación y un valor de 1 indica una correlación positiva perfecta.\n",
    "\n",
    "La fórmula del coeficiente de correlación de Kendall Tau-b es la siguiente:\n",
    "\n",
    "```\n",
    "τb = (2 * P) / (n * (n - 1))\n",
    "```\n",
    "\n",
    "Donde:\n",
    "\n",
    "* ```τb``` es el coeficiente de correlación de Kendall Tau-b.\n",
    "* ```P``` es la suma de los pares concordantes menos la suma de los pares discordantes.\n",
    "* ```n``` es el número de elementos en los rankings.\n",
    "\n",
    "Para calcular P, se utilizan las siguientes fórmulas:\n",
    "\n",
    "```\n",
    "P = sum(min(t_i, t_j)) - sum(max(t_i, t_j))\n",
    "```\n",
    "\n",
    "Donde:\n",
    "\n",
    "* ```t_i``` y ```t_j``` son los valores en el ranking para el elemento i y el elemento j.\n",
    "\n",
    "En Python, podemos calcular el coeficiente de correlación de Kendall Tau-b utilizando la siguiente función:"
   ]
  },
  {
   "cell_type": "code",
   "execution_count": 9,
   "metadata": {},
   "outputs": [],
   "source": [
    "import numpy as np\n",
    "\n",
    "def kendall_tau_b(ranking_1, ranking_2):\n",
    "    n = len(ranking_1)\n",
    "    concordant_pairs = 0\n",
    "    discordant_pairs = 0\n",
    "\n",
    "    for i in range(n):\n",
    "        for j in range(i+1, n):\n",
    "            if np.sign(ranking_1[i] - ranking_1[j]) == np.sign(ranking_2[i] - ranking_2[j]):\n",
    "                concordant_pairs += 1\n",
    "            else:\n",
    "                discordant_pairs += 1\n",
    "\n",
    "    return (2 * (concordant_pairs - discordant_pairs)) / (n * (n - 1))\n"
   ]
  },
  {
   "attachments": {},
   "cell_type": "markdown",
   "metadata": {},
   "source": [
    "En este ejemplo, se define una función ```kendall_tau_b``` que toma dos conjuntos de datos ordenados o rankings como argumentos: ```ranking_1``` y ```ranking_2```. La función utiliza dos bucles anidados para recorrer todas las posibles combinaciones de elementos en los rankings y contabiliza los pares concordantes y discordantes.\n",
    "\n",
    "Luego, se utiliza la fórmula del coeficiente de correlación de Kendall Tau-b para calcular el coeficiente y se devuelve el resultado.\n",
    "\n",
    "Por ejemplo, si queremos calcular el coeficiente de correlación de Kendall Tau-b entre los siguientes rankings:"
   ]
  },
  {
   "cell_type": "code",
   "execution_count": 10,
   "metadata": {},
   "outputs": [],
   "source": [
    "ranking_1 = [1, 2, 3, 4, 5]\n",
    "ranking_2 = [1, 3, 2, 5, 4]\n"
   ]
  },
  {
   "attachments": {},
   "cell_type": "markdown",
   "metadata": {},
   "source": [
    "Podemos llamar a la función ```kendall_tau_b``` de la siguiente manera:"
   ]
  },
  {
   "cell_type": "code",
   "execution_count": 11,
   "metadata": {},
   "outputs": [
    {
     "name": "stdout",
     "output_type": "stream",
     "text": [
      "0.6\n"
     ]
    }
   ],
   "source": [
    "coeficiente = kendall_tau_b(ranking_1, ranking_2)\n",
    "print(coeficiente)\n"
   ]
  },
  {
   "attachments": {},
   "cell_type": "markdown",
   "metadata": {},
   "source": [
    "## **8. Kendall Tau-b con Python**"
   ]
  },
  {
   "cell_type": "code",
   "execution_count": 12,
   "metadata": {},
   "outputs": [
    {
     "name": "stdout",
     "output_type": "stream",
     "text": [
      "El coeficiente de correlación de Kendall Tau-b es: 0.60\n",
      "El p-valor es: 0.23\n"
     ]
    }
   ],
   "source": [
    "import scipy.stats as stats\n",
    "\n",
    "# Definimos dos rankings de ejemplo\n",
    "ranking_1 = [1, 2, 3, 4, 5]\n",
    "ranking_2 = [1, 3, 2, 5, 4]\n",
    "\n",
    "# Calculamos el coeficiente de correlación de Kendall Tau-b\n",
    "coeficiente, p_valor = stats.kendalltau(ranking_1, ranking_2)\n",
    "\n",
    "# Imprimimos los resultados\n",
    "print(f\"El coeficiente de correlación de Kendall Tau-b es: {coeficiente:.2f}\")\n",
    "print(f\"El p-valor es: {p_valor:.2f}\")\n"
   ]
  },
  {
   "attachments": {},
   "cell_type": "markdown",
   "metadata": {},
   "source": [
    "En este ejemplo, primero importamos la librería ```scipy.stats```. Luego, definimos dos rankings de ejemplo: ```ranking_1``` y ```ranking_2```.\n",
    "\n",
    "Después, utilizamos la función kendalltau de la librería ```scipy.stats``` para calcular el coeficiente de correlación de Kendall Tau-b entre ```ranking_1``` y ```ranking_2```. La función devuelve dos valores: el coeficiente de correlación y el p-valor asociado."
   ]
  },
  {
   "attachments": {},
   "cell_type": "markdown",
   "metadata": {},
   "source": [
    "| **Inicio** | **atrás 24** | **Siguiente 26** |\n",
    "|----------- |-------------- |---------------|\n",
    "| [🏠](../../README.md) | [⏪](./24.Tipos_de_Graficas.ipynb)| [⏩](./26.Spearman_y_Pearson.ipynb)|"
   ]
  }
 ],
 "metadata": {
  "kernelspec": {
   "display_name": "base",
   "language": "python",
   "name": "python3"
  },
  "language_info": {
   "codemirror_mode": {
    "name": "ipython",
    "version": 3
   },
   "file_extension": ".py",
   "mimetype": "text/x-python",
   "name": "python",
   "nbconvert_exporter": "python",
   "pygments_lexer": "ipython3",
   "version": "3.9.12"
  },
  "orig_nbformat": 4
 },
 "nbformat": 4,
 "nbformat_minor": 2
}
