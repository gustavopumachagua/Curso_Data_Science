{
 "cells": [
  {
   "attachments": {},
   "cell_type": "markdown",
   "metadata": {},
   "source": [
    "| **Inicio** | **Siguiente 2** |\n",
    "|----------- |-------------- |\n",
    "| [🏠](../../README.md) | [⏩](./2.Medidas_de_tendencia_central_asimetria%20_variabilidad.ipynb)|"
   ]
  },
  {
   "attachments": {},
   "cell_type": "markdown",
   "metadata": {},
   "source": [
    "# **1. Fundamentos de estadísticas descriptiva**"
   ]
  },
  {
   "attachments": {},
   "cell_type": "markdown",
   "metadata": {},
   "source": [
    "## **Población vs muestra**"
   ]
  },
  {
   "attachments": {},
   "cell_type": "markdown",
   "metadata": {},
   "source": [
    "![Población vs muestra](../imagenes%20Estadisticas/poblacion.png \"Población vs muestra\")"
   ]
  },
  {
   "attachments": {},
   "cell_type": "markdown",
   "metadata": {},
   "source": [
    "En estadística, la población se refiere al conjunto total de individuos, objetos, eventos o medidas que comparten una característica común y son objeto de estudio. Por otro lado, una muestra es un subconjunto de la población que se utiliza para hacer inferencias sobre la población en su conjunto.\n",
    "\n",
    "Para ilustrar esto, supongamos que queremos estudiar la altura promedio de todos los estudiantes de una escuela. La población sería todos los estudiantes de la escuela, mientras que una muestra sería un subconjunto de estudiantes seleccionados al azar.\n",
    "\n",
    "En Python, podemos generar una población de alturas utilizando la biblioteca `NumPy` y el método `random.normal()` para generar números aleatorios de una distribución normal:"
   ]
  },
  {
   "cell_type": "code",
   "execution_count": 1,
   "metadata": {},
   "outputs": [],
   "source": [
    "import numpy as np\n",
    "\n",
    "poblacion = np.random.normal(loc=170, scale=10, size=10000)\n"
   ]
  },
  {
   "attachments": {},
   "cell_type": "markdown",
   "metadata": {},
   "source": [
    "En este ejemplo, hemos generado una población de `10,000` alturas con una media de `170 cm` y una desviación estándar de `10 cm`.\n",
    "\n",
    "A continuación, podemos seleccionar una muestra al azar utilizando el método `random.choice()` de `NumPy`:"
   ]
  },
  {
   "cell_type": "code",
   "execution_count": 2,
   "metadata": {},
   "outputs": [],
   "source": [
    "muestra = np.random.choice(poblacion, size=1000)\n"
   ]
  },
  {
   "attachments": {},
   "cell_type": "markdown",
   "metadata": {},
   "source": [
    "En este caso, hemos seleccionado una muestra de `1,000` alturas al azar de la población.\n",
    "\n",
    "Podemos representar visualmente la distribución de alturas de la población y la muestra utilizando un histograma:"
   ]
  },
  {
   "cell_type": "code",
   "execution_count": 3,
   "metadata": {},
   "outputs": [
    {
     "data": {
      "image/png": "[encoded data removed]",
      "text/plain": [
       "<Figure size 432x288 with 1 Axes>"
      ]
     },
     "metadata": {
      "needs_background": "light"
     },
     "output_type": "display_data"
    }
   ],
   "source": [
    "import matplotlib.pyplot as plt\n",
    "\n",
    "plt.hist(poblacion, bins=50, alpha=0.5, label='Población')\n",
    "plt.hist(muestra, bins=50, alpha=0.5, label='Muestra')\n",
    "plt.legend(loc='upper right')\n",
    "plt.show()\n"
   ]
  },
  {
   "attachments": {},
   "cell_type": "markdown",
   "metadata": {},
   "source": [
    "Esta gráfica muestra la distribución de alturas en la población y en la muestra seleccionada al azar. Podemos ver que la muestra es una representación aproximada de la población en términos de la distribución de alturas.\n",
    "\n",
    "En resumen, la población se refiere al conjunto completo de individuos, objetos o medidas de interés en una investigación, mientras que una muestra es un subconjunto de la población que se utiliza para hacer inferencias sobre la población en su conjunto. En Python, podemos generar una población de datos y seleccionar una muestra al azar utilizando las bibliotecas `NumPy` y representar visualmente la distribución de ambas usando gráficas."
   ]
  },
  {
   "attachments": {},
   "cell_type": "markdown",
   "metadata": {},
   "source": [
    "## **Tipos de datos**"
   ]
  },
  {
   "attachments": {},
   "cell_type": "markdown",
   "metadata": {},
   "source": [
    "En estadística, existen diferentes tipos de datos que se utilizan para representar diferentes tipos de información. Los principales tipos de datos son: nominal, ordinal, de intervalo y de razón.\n",
    "\n",
    "**1. Datos Nominales:**\n",
    "\n",
    " Son aquellos que se utilizan para representar categorías o grupos de objetos que no tienen un orden específico. Por ejemplo, el color de los ojos, la marca de un coche o el género de una persona. En Python, podemos representar datos nominales utilizando variables categóricas:\n"
   ]
  },
  {
   "cell_type": "code",
   "execution_count": 4,
   "metadata": {},
   "outputs": [
    {
     "name": "stdout",
     "output_type": "stream",
     "text": [
      "   color\n",
      "0   azul\n",
      "1  verde\n",
      "2   rojo\n",
      "3   azul\n",
      "4   rojo\n"
     ]
    }
   ],
   "source": [
    "import pandas as pd\n",
    "\n",
    "datos = {'color': ['azul', 'verde', 'rojo', 'azul', 'rojo']}\n",
    "df = pd.DataFrame(datos)\n",
    "\n",
    "print(df)\n"
   ]
  },
  {
   "attachments": {},
   "cell_type": "markdown",
   "metadata": {},
   "source": [
    "En este ejemplo, hemos creado un conjunto de datos con una variable categórica llamada `\"color\"`, que representa los colores de los objetos.\n",
    "\n",
    "**2. Datos Ordinales:**\n",
    "\n",
    " Son aquellos que se utilizan para representar categorías o grupos de objetos que tienen un orden específico. Por ejemplo, la calificación de un producto en una escala de `1` a `5` o la clasificación de una persona según su nivel de educación. En Python, podemos representar datos ordinales utilizando variables categóricas con un orden predefinido:"
   ]
  },
  {
   "cell_type": "code",
   "execution_count": 5,
   "metadata": {},
   "outputs": [
    {
     "name": "stdout",
     "output_type": "stream",
     "text": [
      "           calificacion\n",
      "producto1             4\n",
      "producto2             2\n",
      "producto3             5\n",
      "producto4             3\n",
      "producto5             1\n"
     ]
    }
   ],
   "source": [
    "import pandas as pd\n",
    "\n",
    "datos = {'calificacion': [4, 2, 5, 3, 1]}\n",
    "df = pd.DataFrame(datos, columns=['calificacion'], index=['producto1', 'producto2', 'producto3', 'producto4', 'producto5'])\n",
    "\n",
    "print(df)\n"
   ]
  },
  {
   "attachments": {},
   "cell_type": "markdown",
   "metadata": {},
   "source": [
    "En este ejemplo, hemos creado un conjunto de datos con una variable categórica llamada `\"calificacion\"`, que representa la calificación de diferentes productos en una escala de `1` a `5`.\n",
    "\n",
    "**3. Datos de Intervalo:**\n",
    "\n",
    " Son aquellos que se utilizan para representar mediciones o valores numéricos en una escala que tiene un cero arbitrario. Por ejemplo, la temperatura en grados Celsius o la hora del día. En Python, podemos representar datos de intervalo utilizando variables numéricas:"
   ]
  },
  {
   "cell_type": "code",
   "execution_count": 7,
   "metadata": {},
   "outputs": [
    {
     "name": "stdout",
     "output_type": "stream",
     "text": [
      "[23.45971956 16.86757393 17.52439407 12.83133274 17.57682391 17.28423231\n",
      " 15.9146422  19.41240009 18.20879181 17.85015479 15.79782842 17.37327925\n",
      " 12.46157393 21.75169785 23.8986403  23.95462905 22.57811582 17.61447992\n",
      " 23.5335031  15.23241375 24.12959781 12.72464769 26.43874926 25.15205152\n",
      " 21.02321447 17.0027922  18.9923665  24.54958483 18.1904511  18.56955232\n",
      " 22.4191752  22.32653749 23.5768811  16.92660744 20.8126273  22.87425745\n",
      " 23.01958496 19.40279158 26.05305531 12.76907633 22.67177951 21.57885072\n",
      " 15.56680656 20.80837057 18.67156513 18.38691653 19.68057012 23.00313738\n",
      " 18.20747901 13.58530039 21.69126217 25.97413374 22.27546655 22.85819472\n",
      " 15.63932201 17.17823314 25.14863009 16.07507847 27.78942839 20.17416748\n",
      " 19.78442431  7.99505623 10.91612774 21.37507841 21.57691898  7.30123049\n",
      " 21.84114073 12.27913329 19.82552324 23.35221487 16.17526838 26.24455953\n",
      " 20.69662496 14.14288426 11.52488833  8.72693033 17.80876522 23.69600702\n",
      " 22.16922958  8.8717994  23.41344508 18.57273878 16.22606123 16.71582749\n",
      " 16.91952925 25.51992146 22.2636228  23.65116145 17.90955097 23.59738094\n",
      " 15.60570388 17.99058182 24.28451228 22.73244729 23.76096786 27.43327625\n",
      " 18.17961102 27.47865159 20.95164011 26.69527888]\n"
     ]
    }
   ],
   "source": [
    "import numpy as np\n",
    "\n",
    "datos = np.random.normal(loc=20, scale=5, size=100)\n",
    "print(datos)"
   ]
  },
  {
   "attachments": {},
   "cell_type": "markdown",
   "metadata": {},
   "source": [
    "En este ejemplo, hemos generado un conjunto de datos con una distribución normal con media `20` y desviación estándar `5`, que representa valores numéricos en una escala de intervalo.\n",
    "\n",
    "**4. Datos de Razón:**\n",
    "\n",
    " Son aquellos que se utilizan para representar mediciones o valores numéricos en una escala que tiene un cero absoluto. Por ejemplo, la altura de una persona o el peso de un objeto. En Python, podemos representar datos de razón utilizando variables numéricas con un cero absoluto:"
   ]
  },
  {
   "cell_type": "code",
   "execution_count": 8,
   "metadata": {},
   "outputs": [
    {
     "name": "stdout",
     "output_type": "stream",
     "text": [
      "[51.61945319 79.11252086 82.77830283  2.13443669 41.26662191 84.06170844\n",
      " 97.24490809 70.19134593 45.0181191  26.00547354 73.5991989  48.089087\n",
      " 35.13705752 47.86766899 44.34242004 75.18435537 45.63897168 12.60589526\n",
      "  9.4800663   3.35392123 67.7807738   1.57742918 48.24549029  3.14214063\n",
      " 30.85925479 30.90268252 31.64405797 61.345986   33.01572976 80.69840879\n",
      " 97.11240687 18.67736436  5.05436478 69.86837664 57.88280431 11.67504769\n",
      " 35.86597247 21.55692954 61.49815242 26.56850956 25.17074237 41.62266477\n",
      " 83.09282833 41.75339917 36.41603261 55.04187636 72.86087121 42.09044503\n",
      " 74.88115031 69.04641453 83.87699664 40.59945198  2.99813501 90.25859552\n",
      " 14.47573756 36.29415882 74.94995553  7.58926095 42.55347673 54.82802248\n",
      " 11.79437964 62.67142401 39.31767419 12.02008775 26.79250515  2.16649803\n",
      " 11.07474194 86.99302641  8.36107788 24.91031192 84.40346185  1.08050519\n",
      " 90.37421464 75.31872448 28.94372616 62.70277614  9.17793399 91.10561247\n",
      " 83.50654174 58.69569696 59.02401589 81.87354461 73.8488038  76.97568126\n",
      " 72.10196754  6.79241854 25.68676565 17.74892976 37.4340513  28.348346\n",
      " 32.66487413 45.93222756 65.4148028  58.6873103  63.4917979  35.8615596\n",
      "  6.5790599  86.92889999 42.92792229 98.95460467]\n"
     ]
    }
   ],
   "source": [
    "import numpy as np\n",
    "\n",
    "datos = np.random.uniform(low=0, high=100, size=100)\n",
    "print(datos)"
   ]
  },
  {
   "attachments": {},
   "cell_type": "markdown",
   "metadata": {},
   "source": [
    "En este ejemplo, hemos generado un conjunto de datos con una distribución uniforme entre `0` y `100`, que representa valores numéricos en una escala de razón.\n",
    "\n",
    "En resumen, los principales tipos de datos en estadística son `nominales`, `ordinales`, de `intervalo` y de `razón`. En Python, podemos representar cada uno de estos tipos de datos utilizando variables categóricas o numéricas y generar conjuntos de datos aleatorios para cada tipo utilizando las bibliotecas `NumPy` y `Pandas`."
   ]
  },
  {
   "attachments": {},
   "cell_type": "markdown",
   "metadata": {},
   "source": [
    "![Tipos de datos](../imagenes%20Estadisticas/Tipos-de-variables-estadi%CC%81sticas.png \"Tipos de datos\")\n"
   ]
  },
  {
   "attachments": {},
   "cell_type": "markdown",
   "metadata": {},
   "source": [
    "## **Niveles de medición**"
   ]
  },
  {
   "attachments": {},
   "cell_type": "markdown",
   "metadata": {},
   "source": [
    "En estadística, los niveles de medición se refieren a la escala de medida utilizada para representar los datos. Los cuatro niveles de medición son: nominal, ordinal, de intervalo y de razón.\n",
    "\n",
    "**1. Nivel de Medición Nominal:**\n",
    "\n",
    " Se utiliza para representar categorías o grupos de objetos que no tienen un orden específico. Ejemplos de datos nominales incluyen el género de una persona, el color de los ojos o el tipo de coche. En Python, podemos representar datos nominales utilizando variables categóricas:"
   ]
  },
  {
   "cell_type": "code",
   "execution_count": 9,
   "metadata": {},
   "outputs": [
    {
     "name": "stdout",
     "output_type": "stream",
     "text": [
      "   color\n",
      "0   azul\n",
      "1  verde\n",
      "2   rojo\n",
      "3   azul\n",
      "4   rojo\n"
     ]
    }
   ],
   "source": [
    "import pandas as pd\n",
    "\n",
    "datos = {'color': ['azul', 'verde', 'rojo', 'azul', 'rojo']}\n",
    "df = pd.DataFrame(datos)\n",
    "\n",
    "print(df)\n"
   ]
  },
  {
   "attachments": {},
   "cell_type": "markdown",
   "metadata": {},
   "source": [
    "**2. Nivel de Medición Ordinal:**\n",
    "\n",
    " Se utiliza para representar categorías o grupos de objetos que tienen un orden específico. Ejemplos de datos ordinales incluyen la calificación de un producto en una escala de `1` a `5` o la clasificación de una persona según su nivel de educación. En Python, podemos representar datos ordinales utilizando variables categóricas con un orden predefinido:"
   ]
  },
  {
   "cell_type": "code",
   "execution_count": 10,
   "metadata": {},
   "outputs": [
    {
     "name": "stdout",
     "output_type": "stream",
     "text": [
      "           calificacion\n",
      "producto1             4\n",
      "producto2             2\n",
      "producto3             5\n",
      "producto4             3\n",
      "producto5             1\n"
     ]
    }
   ],
   "source": [
    "import pandas as pd\n",
    "\n",
    "datos = {'calificacion': [4, 2, 5, 3, 1]}\n",
    "df = pd.DataFrame(datos, columns=['calificacion'], index=['producto1', 'producto2', 'producto3', 'producto4', 'producto5'])\n",
    "\n",
    "print(df)\n"
   ]
  },
  {
   "attachments": {},
   "cell_type": "markdown",
   "metadata": {},
   "source": [
    "**3. Nivel de Medición de Intervalo:**\n",
    "\n",
    " Se utiliza para representar mediciones o valores numéricos en una escala que tiene un cero arbitrario. Ejemplos de datos de intervalo incluyen la temperatura en grados Celsius o la hora del día. En Python, podemos representar datos de intervalo utilizando variables numéricas:"
   ]
  },
  {
   "cell_type": "code",
   "execution_count": 11,
   "metadata": {},
   "outputs": [
    {
     "name": "stdout",
     "output_type": "stream",
     "text": [
      "[11.34240699 10.89939977 19.99848804 17.32512214 17.19658385 22.39480289\n",
      " 22.33876042 22.07002038 17.47138074 19.89701296 24.06511369 21.11464824\n",
      "  7.75160593  7.46550829 16.56010747 18.25488725 19.55353751 19.62399525\n",
      " 20.77330121 23.40053268 17.52524295 27.24405738 16.80751863 10.95118308\n",
      " 15.83684029 15.95951147 22.73348317 28.29297526 17.33854335 18.22793349\n",
      " 21.63372876 29.49500643 20.30711608 19.32273523 18.82041249 21.35253344\n",
      " 26.55690889 24.0345864  20.4065974  14.62494949 20.6276245  20.58567671\n",
      " 11.37907395 20.3608395  24.38780182 17.77022491 22.43913081 28.07165616\n",
      " 13.7046536  21.65859398 13.00285208 25.38115472 28.28090987 18.01517789\n",
      " 19.16578081 17.43906644 22.1904316  22.07744193 21.15981212 24.34916894\n",
      " 21.61457021 31.30603829 25.31923988 23.38241129 13.08196446 15.28732442\n",
      " 16.67904643 16.59245914 11.68338829 19.57208971 21.19381846 14.7992836\n",
      "  9.37732413 14.2534882  22.00941194 26.04493261 27.66621935 11.44521069\n",
      " 22.03591293 15.15305311 14.18664374 14.66316662 15.90742537 23.64093266\n",
      " 14.21868427 13.63704167 17.8224218  20.34228357 19.94494366 19.55911049\n",
      "  8.25435877 24.36576418 22.35007198 13.50745503 17.99309883 14.50167639\n",
      " 12.3671211  23.99724666 22.936754   20.00134778]\n"
     ]
    }
   ],
   "source": [
    "import numpy as np\n",
    "\n",
    "datos = np.random.normal(loc=20, scale=5, size=100)\n",
    "print(datos)"
   ]
  },
  {
   "attachments": {},
   "cell_type": "markdown",
   "metadata": {},
   "source": [
    "**4. Nivel de Medición de Razón:**\n",
    "\n",
    " Se utiliza para representar mediciones o valores numéricos en una escala que tiene un cero absoluto. Ejemplos de datos de razón incluyen la altura de una persona o el peso de un objeto. En Python, podemos representar datos de razón utilizando variables numéricas con un cero absoluto:"
   ]
  },
  {
   "cell_type": "code",
   "execution_count": 12,
   "metadata": {},
   "outputs": [
    {
     "name": "stdout",
     "output_type": "stream",
     "text": [
      "[94.42182568 50.59641364 51.56263906  7.71982554 85.36328219 37.88311123\n",
      " 70.69929384 67.99075869 46.04797087 62.6526536  68.70949047 54.88615693\n",
      "  8.53691013 96.0229179  53.26199423  4.6027392  34.24633821 35.22823171\n",
      " 28.40580526 96.81612486 64.55296833 16.77346646 98.30369764 29.16697821\n",
      " 95.4950051  63.7983475  75.25922378 86.8488686  84.6283159  97.0482683\n",
      " 27.26782772 48.02408243  6.89046019 25.08618867  6.06656227  6.51527729\n",
      " 98.39797433 70.6040091  78.2049896   7.13960324 50.70009381 13.87153415\n",
      " 64.62797087 99.21431827 23.78523214  5.69084892 76.33567775 51.90019673\n",
      " 63.47419435 59.54286335 89.82368819  9.61036361 16.60267877 80.84281602\n",
      " 95.94693238 70.09135647 16.05344417 86.50214514 66.09896485 73.41494078\n",
      " 91.01007094 55.11771593  3.19356144 67.30655087 50.2577581  21.81050451\n",
      " 55.29783127 21.59301719 27.02135104 22.73216237 58.05789634 43.95538788\n",
      " 61.36554751 73.92453305 66.74501552 44.18514058 94.76726733 89.90664229\n",
      " 91.53009011 13.6109146  77.01534233 70.45450599 93.2140035  86.84629955\n",
      " 17.75300395 96.22469153 42.61468232 96.39076744 16.19932618 72.22099432\n",
      " 64.26794491 52.75638403 12.99435196 31.17510514 75.8003791  68.87489757\n",
      " 43.21733772 90.88854557 67.96894083 63.08898661]\n"
     ]
    }
   ],
   "source": [
    "import numpy as np\n",
    "\n",
    "datos = np.random.uniform(low=0, high=100, size=100)\n",
    "print(datos)"
   ]
  },
  {
   "attachments": {},
   "cell_type": "markdown",
   "metadata": {},
   "source": [
    "Además, podemos representar los niveles de medición en una gráfica de barras, donde el eje `X` representa las diferentes categorías o valores, y el eje `Y` representa la frecuencia o cantidad de observaciones para cada categoría o valor. A continuación, se muestra un ejemplo de gráfica de barras para datos nominales:"
   ]
  },
  {
   "cell_type": "code",
   "execution_count": 14,
   "metadata": {},
   "outputs": [
    {
     "data": {
      "image/png": "[encoded data removed]",
      "text/plain": [
       "<Figure size 432x288 with 1 Axes>"
      ]
     },
     "metadata": {
      "needs_background": "light"
     },
     "output_type": "display_data"
    }
   ],
   "source": [
    "import matplotlib.pyplot as plt\n",
    "from collections import Counter\n",
    "\n",
    "datos = ['rojo', 'azul', 'verde', 'amarillo', 'rojo', 'rojo', 'verde', 'azul', 'azul', 'verde']\n",
    "\n",
    "frecuencias = dict(Counter(datos))\n",
    "nombres = list(frecuencias.keys())\n",
    "valores = list(frecuencias.values())\n",
    "\n",
    "plt.bar(nombres, valores)\n",
    "plt.show()\n"
   ]
  },
  {
   "attachments": {},
   "cell_type": "markdown",
   "metadata": {},
   "source": [
    "En este ejemplo, hemos creado una gráfica de barras para representar la frecuencia de diferentes colores. La frecuencia de cada color se representa en el eje `Y`, mientras que el color se representa en el eje `X`."
   ]
  },
  {
   "attachments": {},
   "cell_type": "markdown",
   "metadata": {},
   "source": [
    "## **Variables categóricas. Técnicas de visualización para variables categóricas**"
   ]
  },
  {
   "attachments": {},
   "cell_type": "markdown",
   "metadata": {},
   "source": [
    "Las variables categóricas son aquellas que toman valores de un conjunto limitado y definido de categorías o grupos. Estas categorías pueden ser nominales o ordinales. Las variables categóricas nominales no tienen un orden específico entre las categorías, mientras que las ordinales sí tienen un orden lógico.\n",
    "\n",
    "En la estadística descriptiva, las variables categóricas se analizan con frecuencia absoluta y relativa, que permiten conocer la frecuencia con que aparece cada categoría en la muestra y en qué proporción.\n",
    "\n",
    "A continuación se presentan algunas técnicas de visualización que se pueden utilizar para analizar variables categóricas:\n",
    "\n",
    "**1. Gráficos de barras:**\n",
    "\n",
    "Los gráficos de barras son una herramienta útil para representar variables categóricas nominales y ordinales. En este tipo de gráficos, la altura de cada barra representa la frecuencia de cada categoría.\n",
    "\n",
    "A continuación se presenta un ejemplo de código en Python para generar un gráfico de barras con la variable categórica `datos`:"
   ]
  },
  {
   "cell_type": "code",
   "execution_count": 15,
   "metadata": {},
   "outputs": [
    {
     "data": {
      "image/png": "[encoded data removed]",
      "text/plain": [
       "<Figure size 432x288 with 1 Axes>"
      ]
     },
     "metadata": {
      "needs_background": "light"
     },
     "output_type": "display_data"
    }
   ],
   "source": [
    "import matplotlib.pyplot as plt\n",
    "from collections import Counter\n",
    "\n",
    "datos = ['rojo', 'azul', 'verde', 'amarillo', 'rojo', 'rojo', 'verde', 'azul', 'azul', 'verde']\n",
    "\n",
    "frecuencias = dict(Counter(datos))\n",
    "nombres = list(frecuencias.keys())\n",
    "valores = list(frecuencias.values())\n",
    "\n",
    "plt.bar(nombres, valores)\n",
    "plt.show()\n"
   ]
  },
  {
   "attachments": {},
   "cell_type": "markdown",
   "metadata": {},
   "source": [
    "**2. Gráficos circulares o de torta:**\n",
    "\n",
    "Los gráficos circulares son una forma visual de representar la proporción de cada categoría dentro de un conjunto de datos. En este tipo de gráficos, cada sector representa una categoría y el tamaño del sector representa la proporción de esa categoría en el conjunto de datos.\n",
    "\n",
    "A continuación se presenta un ejemplo de código en Python para generar un gráfico circular con la variable categórica `datos`:"
   ]
  },
  {
   "cell_type": "code",
   "execution_count": 16,
   "metadata": {},
   "outputs": [
    {
     "data": {
      "image/png": "[encoded data removed]",
      "text/plain": [
       "<Figure size 432x288 with 1 Axes>"
      ]
     },
     "metadata": {},
     "output_type": "display_data"
    }
   ],
   "source": [
    "import matplotlib.pyplot as plt\n",
    "from collections import Counter\n",
    "\n",
    "datos = ['rojo', 'azul', 'verde', 'amarillo', 'rojo', 'rojo', 'verde', 'azul', 'azul', 'verde']\n",
    "\n",
    "frecuencias = dict(Counter(datos))\n",
    "nombres = list(frecuencias.keys())\n",
    "valores = list(frecuencias.values())\n",
    "\n",
    "plt.pie(valores, labels=nombres)\n",
    "plt.show()\n"
   ]
  },
  {
   "attachments": {},
   "cell_type": "markdown",
   "metadata": {},
   "source": [
    "**3. Gráficos de frecuencia acumulada:**\n",
    "\n",
    "Los gráficos de frecuencia acumulada son una forma de visualizar la distribución de frecuencia de una variable categórica. En este tipo de gráficos, la línea representa la frecuencia acumulada de cada categoría.\n",
    "\n",
    "A continuación se presenta un ejemplo de código en Python para generar un gráfico de frecuencia acumulada con la variable categórica `datos`:"
   ]
  },
  {
   "cell_type": "code",
   "execution_count": 19,
   "metadata": {},
   "outputs": [
    {
     "data": {
      "image/png": "[encoded data removed]",
      "text/plain": [
       "<Figure size 432x288 with 1 Axes>"
      ]
     },
     "metadata": {
      "needs_background": "light"
     },
     "output_type": "display_data"
    }
   ],
   "source": [
    "import matplotlib.pyplot as plt\n",
    "from collections import Counter\n",
    "\n",
    "datos = ['rojo', 'azul', 'verde', 'amarillo', 'rojo', 'rojo', 'verde', 'azul', 'azul', 'verde']\n",
    "\n",
    "frecuencias = dict(Counter(datos))\n",
    "nombres = list(frecuencias.keys())\n",
    "valores = list(frecuencias.values())\n",
    "\n",
    "frecuencias_acum = []\n",
    "acum = 0\n",
    "for i in valores:\n",
    "    acum += i\n",
    "    frecuencias_acum.append(acum)\n",
    "\n",
    "plt.bar(nombres, valores)\n",
    "plt.title('Frecuencia de datos categóricos')\n",
    "plt.xlabel('Categorías')\n",
    "plt.ylabel('Frecuencia')\n",
    "plt.show()\n",
    "\n"
   ]
  },
  {
   "cell_type": "code",
   "execution_count": 20,
   "metadata": {},
   "outputs": [
    {
     "data": {
      "image/png": "[encoded data removed]",
      "text/plain": [
       "<Figure size 432x288 with 1 Axes>"
      ]
     },
     "metadata": {
      "needs_background": "light"
     },
     "output_type": "display_data"
    }
   ],
   "source": [
    "import pandas as pd\n",
    "import matplotlib.pyplot as plt\n",
    "\n",
    "# Crear los datos\n",
    "datos = ['rojo', 'azul', 'verde', 'amarillo', 'rojo', 'rojo', 'verde', 'azul', 'azul', 'verde']\n",
    "\n",
    "# Crear la tabla de frecuencias con la función value_counts de Pandas\n",
    "tabla_frecuencias = pd.Series(datos).value_counts()\n",
    "\n",
    "# Graficar la tabla de frecuencias\n",
    "plt.bar(tabla_frecuencias.index, tabla_frecuencias.values)\n",
    "plt.show()\n"
   ]
  },
  {
   "attachments": {},
   "cell_type": "markdown",
   "metadata": {},
   "source": [
    "En este ejemplo, primero creamos una lista de datos datos que contiene los valores de la variable categórica. Luego, utilizamos la función `value_counts()` de Pandas para crear la tabla de frecuencias `tabla_frecuencias`. Finalmente, graficamos la tabla de frecuencias con la función `bar()` de `Matplotlib`. La variable categórica se representa en el eje `x` y la frecuencia en el eje `y`."
   ]
  },
  {
   "attachments": {},
   "cell_type": "markdown",
   "metadata": {},
   "source": [
    "## **Variables numéricas. Usar una tabla de distribución de frecuencia**"
   ]
  },
  {
   "attachments": {},
   "cell_type": "markdown",
   "metadata": {},
   "source": [
    "Las variables numéricas son aquellas que contienen valores numéricos y pueden ser medidas y analizadas en términos de estadísticas descriptivas, como la media, la mediana, la moda, la varianza y la desviación estándar. Estas variables se pueden dividir en dos tipos: variables continuas y variables discretas.\n",
    "\n",
    "* Las variables continuas pueden tomar cualquier valor dentro de un rango determinado, como la edad, la altura o el peso. Las variables discretas, por otro lado, solo pueden tomar valores enteros específicos, como el número de hijos o el número de estudiantes en una clase.\n",
    "\n",
    "* Para analizar una variable numérica, una herramienta útil es la tabla de distribución de frecuencia. Esta tabla muestra la frecuencia de cada valor de la variable y se utiliza para resumir grandes conjuntos de datos numéricos. La tabla de distribución de frecuencia se divide en varias columnas, que incluyen los valores de la variable, la frecuencia absoluta (número de veces que aparece cada valor en el conjunto de datos), la frecuencia relativa (proporción de cada valor en relación con el número total de observaciones), y la frecuencia acumulada (suma acumulada de las frecuencias relativas).\n",
    "\n",
    "A continuación se muestra un ejemplo de cómo crear una tabla de distribución de frecuencia para una variable numérica en Python:"
   ]
  },
  {
   "cell_type": "code",
   "execution_count": 21,
   "metadata": {},
   "outputs": [
    {
     "name": "stdout",
     "output_type": "stream",
     "text": [
      "    Edad  Frecuencia  Frecuencia relativa  Frecuencia acumulada\n",
      "0     18           1                 0.02                  0.02\n",
      "1     19           4                 0.08                  0.10\n",
      "2     21           1                 0.02                  0.12\n",
      "3     22           2                 0.04                  0.16\n",
      "4     24           3                 0.06                  0.22\n",
      "5     25           1                 0.02                  0.24\n",
      "6     26           1                 0.02                  0.26\n",
      "7     28           1                 0.02                  0.28\n",
      "8     29           2                 0.04                  0.32\n",
      "9     30           1                 0.02                  0.34\n",
      "10    32           2                 0.04                  0.38\n",
      "11    34           1                 0.02                  0.40\n",
      "12    35           1                 0.02                  0.42\n",
      "13    36           2                 0.04                  0.46\n",
      "14    38           1                 0.02                  0.48\n",
      "15    39           1                 0.02                  0.50\n",
      "16    40           1                 0.02                  0.52\n",
      "17    42           2                 0.04                  0.56\n",
      "18    45           3                 0.06                  0.62\n",
      "19    46           3                 0.06                  0.68\n",
      "20    47           1                 0.02                  0.70\n",
      "21    49           2                 0.04                  0.74\n",
      "22    50           2                 0.04                  0.78\n",
      "23    52           2                 0.04                  0.82\n",
      "24    53           3                 0.06                  0.88\n",
      "25    54           1                 0.02                  0.90\n",
      "26    56           2                 0.04                  0.94\n",
      "27    57           1                 0.02                  0.96\n",
      "28    59           2                 0.04                  1.00\n"
     ]
    }
   ],
   "source": [
    "import pandas as pd\n",
    "import numpy as np\n",
    "\n",
    "# Creamos un conjunto de datos aleatorio de edades\n",
    "edades = np.random.randint(18, 60, size=50)\n",
    "\n",
    "# Creamos una tabla de frecuencia\n",
    "tabla_frecuencia = pd.DataFrame({\"Edad\": edades})\n",
    "tabla_frecuencia = tabla_frecuencia.groupby(\"Edad\").size().reset_index(name=\"Frecuencia\")\n",
    "\n",
    "# Agregamos las columnas de frecuencia relativa y frecuencia acumulada\n",
    "tabla_frecuencia[\"Frecuencia relativa\"] = tabla_frecuencia[\"Frecuencia\"] / len(edades)\n",
    "tabla_frecuencia[\"Frecuencia acumulada\"] = tabla_frecuencia[\"Frecuencia relativa\"].cumsum()\n",
    "\n",
    "# Imprimimos la tabla de frecuencia\n",
    "print(tabla_frecuencia)\n"
   ]
  },
  {
   "attachments": {},
   "cell_type": "markdown",
   "metadata": {},
   "source": [
    "Este código creará una tabla de distribución de frecuencia para un conjunto de datos de edades aleatorias. La tabla mostrará cada valor de edad y su frecuencia correspondiente, así como la frecuencia relativa y acumulada.\n",
    "\n",
    "Además de la tabla de distribución de frecuencia, también se pueden usar gráficos para visualizar la distribución de una variable numérica. Algunos de los gráficos más comunes son el histograma, el diagrama de cajas y bigotes y el diagrama de densidad. Estos gráficos proporcionan información útil sobre la forma, la dispersión y la concentración de los datos."
   ]
  },
  {
   "attachments": {},
   "cell_type": "markdown",
   "metadata": {},
   "source": [
    "![Frecuencia](../imagenes%20Estadisticas/frecuencias-datos-agrupados.webp \"Frecuencia\")\n"
   ]
  },
  {
   "attachments": {},
   "cell_type": "markdown",
   "metadata": {},
   "source": [
    "## **Gráfica de histograma**"
   ]
  },
  {
   "attachments": {},
   "cell_type": "markdown",
   "metadata": {},
   "source": [
    "El histograma es una herramienta gráfica que permite visualizar la distribución de frecuencia de una variable numérica continua. Se divide en intervalos o `\"bins\"` y se cuenta la frecuencia de los datos que caen dentro de cada intervalo. De esta forma, se puede observar la forma de la distribución, si es simétrica o asimétrica, si tiene valores atípicos, si está sesgada hacia algún lado, entre otras características.\n",
    "\n",
    "En Python, se puede utilizar la librería `Matplotlib` para crear histogramas. A continuación, se muestra un ejemplo de cómo crear un histograma utilizando los datos de la altura de un grupo de personas:\n",
    "\n"
   ]
  },
  {
   "cell_type": "code",
   "execution_count": 22,
   "metadata": {},
   "outputs": [
    {
     "data": {
      "image/png": "[encoded data removed]",
      "text/plain": [
       "<Figure size 432x288 with 1 Axes>"
      ]
     },
     "metadata": {
      "needs_background": "light"
     },
     "output_type": "display_data"
    }
   ],
   "source": [
    "import matplotlib.pyplot as plt\n",
    "\n",
    "# Datos de altura en centímetros\n",
    "altura = [175, 160, 182, 168, 185, 190, 180, 172, 165, 178, 185, 175, 165, 170, 180, 195, 175, 168, 172, 180]\n",
    "\n",
    "# Crear histograma con 5 bins\n",
    "plt.hist(altura, bins=5)\n",
    "\n",
    "# Etiquetas de los ejes\n",
    "plt.xlabel('Altura (cm)')\n",
    "plt.ylabel('Frecuencia')\n",
    "\n",
    "# Título del gráfico\n",
    "plt.title('Histograma de altura')\n",
    "\n",
    "# Mostrar gráfico\n",
    "plt.show()\n"
   ]
  },
  {
   "attachments": {},
   "cell_type": "markdown",
   "metadata": {},
   "source": [
    "En este ejemplo, se crea un histograma de la variable numérica continua `\"altura\"` con `5` intervalos o `bins`. La función `plt.hist()` se encarga de crear el histograma, y se le pasa como argumento la variable `\"altura\"` y el número de `bins` a utilizar. También se agregan etiquetas a los ejes `y` un título al gráfico utilizando las funciones `plt.xlabel()`, `plt.ylabel()` y `plt.title()`, respectivamente.\n",
    "\n",
    "El resultado es un gráfico que muestra la distribución de frecuencia de los datos de altura. En este caso, se observa que la mayoría de las personas tienen una altura entre `165` y `180` centímetros, y que hay algunas personas más altas y más bajas que el resto del grupo.\n",
    "\n",
    "En resumen, el histograma es una herramienta útil para visualizar la distribución de frecuencia de una variable numérica continua, y se puede crear fácilmente en Python utilizando la librería `Matplotlib`."
   ]
  },
  {
   "attachments": {},
   "cell_type": "markdown",
   "metadata": {},
   "source": [
    "## **Tablas cruzadas y diagramas de dispersión**"
   ]
  },
  {
   "attachments": {},
   "cell_type": "markdown",
   "metadata": {},
   "source": [
    "Las tablas cruzadas y los diagramas de dispersión son herramientas comunes en la estadística descriptiva para explorar la relación entre dos variables.\n",
    "\n",
    "Las tablas cruzadas, también conocidas como tablas de contingencia, son una forma de resumir la información de dos variables categóricas. La tabla muestra las frecuencias de los datos en cada combinación de categorías de las dos variables. Por lo tanto, una tabla cruzada puede ser muy útil para identificar patrones y tendencias en los datos.\n",
    "\n",
    "Por ejemplo, supongamos que estamos analizando la relación entre la educación y el empleo en una población. Podríamos tener dos variables categóricas: nivel de educación (bachillerato, licenciatura, maestría, doctorado) y estado de empleo (trabajando, desempleado, jubilado). Una tabla cruzada de estas variables podría mostrar el número de personas en cada nivel de educación que están trabajando, desempleadas o jubiladas.\n",
    "\n",
    "Un diagrama de dispersión, por otro lado, es una herramienta utilizada para explorar la relación entre dos variables numéricas. En un diagrama de dispersión, cada punto en el gráfico representa una observación de ambas variables. El eje `x` representa una variable y el eje `y` representa la otra variable. El patrón general de los puntos puede proporcionar información sobre la fuerza y la dirección de la relación entre las dos variables.\n",
    "\n",
    "Por ejemplo, supongamos que estamos analizando la relación entre el salario y la experiencia laboral en una población. Podríamos tener dos variables numéricas: salario (en dólares) y años de experiencia. Un diagrama de dispersión de estas variables podría mostrar cada observación como un punto en el gráfico, con el salario en el eje `y` y los años de experiencia en el eje `x`. Un patrón general de puntos que muestra una relación positiva fuerte podría indicar que el salario aumenta a medida que aumenta la experiencia laboral.\n",
    "\n",
    "A continuación, se muestra un ejemplo de cómo crear una tabla cruzada y un diagrama de dispersión en Python utilizando los datos de ejemplo del salario y la experiencia laboral mencionados anteriormente."
   ]
  },
  {
   "cell_type": "code",
   "execution_count": 23,
   "metadata": {},
   "outputs": [
    {
     "name": "stdout",
     "output_type": "stream",
     "text": [
      "salario      (0, 50000]  (50000, 100000]  (100000, 150000]\n",
      "experiencia                                               \n",
      "1                     1                0                 0\n",
      "2                     0                1                 0\n",
      "4                     0                1                 0\n",
      "6                     0                1                 0\n",
      "8                     0                1                 0\n",
      "10                    0                1                 0\n",
      "12                    0                0                 1\n",
      "14                    0                0                 1\n",
      "16                    0                0                 1\n",
      "18                    0                0                 1\n"
     ]
    },
    {
     "data": {
      "image/png": "[encoded data removed]",
      "text/plain": [
       "<Figure size 432x288 with 1 Axes>"
      ]
     },
     "metadata": {
      "needs_background": "light"
     },
     "output_type": "display_data"
    }
   ],
   "source": [
    "import pandas as pd\n",
    "import matplotlib.pyplot as plt\n",
    "\n",
    "# Crear un DataFrame con los datos\n",
    "datos = pd.DataFrame({\n",
    "    'salario': [45000, 60000, 75000, 80000, 90000, 100000, 110000, 120000, 130000, 140000],\n",
    "    'experiencia': [1, 2, 4, 6, 8, 10, 12, 14, 16, 18]\n",
    "})\n",
    "\n",
    "# Crear una tabla cruzada de la experiencia y el salario\n",
    "tabla_cruzada = pd.crosstab(index=datos['experiencia'], columns=pd.cut(datos['salario'], bins=[0, 50000, 100000, 150000]))\n",
    "\n",
    "# Mostrar la tabla cruzada\n",
    "print(tabla_cruzada)\n",
    "\n",
    "# Crear un diagrama de dispersión de la experiencia y el salario\n",
    "plt.scatter(x=datos['experiencia'], y=datos['salario'])\n",
    "plt.xlabel('Experiencia (años)')\n",
    "plt.ylabel('Salario ($)')\n",
    "plt.show()\n"
   ]
  },
  {
   "attachments": {},
   "cell_type": "markdown",
   "metadata": {},
   "source": [
    "En este ejemplo, la tabla cruzada muestra el número de personas con diferentes años de experiencia y salarios en cada una de las tres categorías de salarios."
   ]
  },
  {
   "attachments": {},
   "cell_type": "markdown",
   "metadata": {},
   "source": [
    "| **Inicio** | **Siguiente 2** |\n",
    "|----------- |-------------- |\n",
    "| [🏠](../../README.md) | [⏩](./2.Medidas_de_tendencia_central_asimetria%20_variabilidad.ipynb)|"
   ]
  }
 ],
 "metadata": {
  "kernelspec": {
   "display_name": "base",
   "language": "python",
   "name": "python3"
  },
  "language_info": {
   "codemirror_mode": {
    "name": "ipython",
    "version": 3
   },
   "file_extension": ".py",
   "mimetype": "text/x-python",
   "name": "python",
   "nbconvert_exporter": "python",
   "pygments_lexer": "ipython3",
   "version": "3.9.12"
  },
  "orig_nbformat": 4
 },
 "nbformat": 4,
 "nbformat_minor": 2
}
