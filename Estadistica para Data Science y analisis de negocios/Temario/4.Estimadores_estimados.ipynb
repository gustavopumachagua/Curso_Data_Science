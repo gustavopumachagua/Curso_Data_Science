{
 "cells": [
  {
   "attachments": {},
   "cell_type": "markdown",
   "metadata": {},
   "source": [
    "| **Inicio** | **atrás 3** | **Siguiente 5** |\n",
    "|----------- |-------------- |---------------|\n",
    "| [🏠](../../README.md) | [⏪](./3.Distribuciones.ipynb)| [⏩](./5.Intervalos_de_confianza.ipynb)|"
   ]
  },
  {
   "attachments": {},
   "cell_type": "markdown",
   "metadata": {},
   "source": [
    "# **4. Estimadores y estimados**"
   ]
  },
  {
   "attachments": {},
   "cell_type": "markdown",
   "metadata": {},
   "source": [
    "## **Intervalos de confianza una herramienta invaluable para la toma de decisiones**"
   ]
  },
  {
   "attachments": {},
   "cell_type": "markdown",
   "metadata": {},
   "source": [
    "Los intervalos de confianza son una herramienta estadística utilizada para estimar el valor desconocido de un parámetro poblacional, como la media o la proporción, a partir de una muestra aleatoria de datos. El intervalo de confianza proporciona un rango de valores plausibles para el verdadero valor del parámetro, junto con un nivel de confianza asociado que refleja la probabilidad de que el intervalo contenga el verdadero valor del parámetro.\n",
    "\n",
    "Por ejemplo, supongamos que estamos interesados en estimar la media de altura de una población. Tomamos una muestra aleatoria de `50` personas y calculamos su media, que resulta ser de `170 cm`, con una desviación estándar de `5 cm`. Usando un nivel de confianza del `95%`, podemos calcular el intervalo de confianza de la siguiente manera:\n",
    "\n",
    "* Calculamos el error estándar de la media utilizando la fórmula: $SE = \\frac{s}{\\sqrt{n}} = \\frac{5}{\\sqrt{50}} = 0.707$\n",
    "* Calculamos la magnitud del intervalo de confianza utilizando la distribución `t` de Student para muestras pequeñas y un nivel de confianza del `95%` con `49` grados de libertad (50 - 1): $t_{0.025,49} = 2.009$\n",
    "* Calculamos el intervalo de confianza: $170 \\pm 2.009 \\times 0.707 = [168.37, 171.63]$\n",
    "\n",
    "Esto significa que podemos estar `95%` seguros de que el verdadero valor de la media de altura de la población se encuentra en el rango de `168.37 cm` a `171.63 cm`, basado en nuestra muestra.\n",
    "\n",
    "En Python, podemos calcular el intervalo de confianza utilizando la biblioteca `scipy.stats` de la siguiente manera:"
   ]
  },
  {
   "cell_type": "code",
   "execution_count": 1,
   "metadata": {},
   "outputs": [
    {
     "name": "stdout",
     "output_type": "stream",
     "text": [
      "El intervalo de confianza al 95.0% es: (170.35, 171.73)\n"
     ]
    }
   ],
   "source": [
    "import numpy as np\n",
    "from scipy.stats import t\n",
    "\n",
    "# datos de la muestra\n",
    "data = np.array([170, 165, 172, 176, 168, 171, 173, 169, 174, 167,\n",
    "                 171, 169, 175, 172, 170, 169, 174, 168, 172, 171,\n",
    "                 175, 170, 173, 169, 171, 172, 175, 168, 174, 172,\n",
    "                 170, 169, 173, 171, 172, 170, 168, 173, 171, 170,\n",
    "                 172, 175, 169, 173, 167, 170, 173, 172, 168, 171])\n",
    "\n",
    "# tamaño de la muestra y nivel de confianza\n",
    "n = len(data)\n",
    "alpha = 0.05\n",
    "\n",
    "# calculamos la media y la desviación estándar de la muestra\n",
    "mean = np.mean(data)\n",
    "std_dev = np.std(data, ddof=1)\n",
    "\n",
    "# calculamos el error estándar\n",
    "se = std_dev / np.sqrt(n)\n",
    "\n",
    "# calculamos el valor crítico de t para el nivel de confianza y grados de libertad\n",
    "t_crit = t.ppf(1 - alpha / 2, n - 1)\n",
    "\n",
    "# calculamos el intervalo de confianza\n",
    "lower = mean - t_crit * se\n",
    "upper = mean + t_crit * se\n",
    "\n",
    "print(\"El intervalo de confianza al {0}% es: ({1}, {2})\".format((1-alpha)*100, round(lower,2), round(upper,2)))\n"
   ]
  },
  {
   "attachments": {},
   "cell_type": "markdown",
   "metadata": {},
   "source": [
    "Este código calcula el intervalo de confianza para una muestra de datos utilizando la distribución `t` de Student. Los pasos son los mismos que mencionamos en la explicación detallada. Al final, se imprime el intervalo de confianza calculado para una confianza del `95%`."
   ]
  },
  {
   "cell_type": "code",
   "execution_count": 2,
   "metadata": {},
   "outputs": [
    {
     "name": "stdout",
     "output_type": "stream",
     "text": [
      "Media de la muestra: 10.12\n",
      "Error estándar de la muestra: 0.18\n",
      "Intervalo de confianza del 95%: (9.77, 10.47)\n"
     ]
    }
   ],
   "source": [
    "import numpy as np\n",
    "import scipy.stats as stats\n",
    "\n",
    "# Generar una muestra aleatoria de tamaño 100 con media 10 y desviación estándar 2\n",
    "np.random.seed(1)\n",
    "sample = np.random.normal(loc=10, scale=2, size=100)\n",
    "\n",
    "# Calcular la media y el error estándar de la muestra\n",
    "sample_mean = np.mean(sample)\n",
    "sample_se = stats.sem(sample)\n",
    "\n",
    "# Calcular el intervalo de confianza del 95%\n",
    "conf_int = stats.t.interval(alpha=0.95, df=len(sample)-1, loc=sample_mean, scale=sample_se)\n",
    "\n",
    "print(f\"Media de la muestra: {sample_mean:.2f}\")\n",
    "print(f\"Error estándar de la muestra: {sample_se:.2f}\")\n",
    "print(f\"Intervalo de confianza del 95%: ({conf_int[0]:.2f}, {conf_int[1]:.2f})\")\n"
   ]
  },
  {
   "attachments": {},
   "cell_type": "markdown",
   "metadata": {},
   "source": [
    "Este código genera una muestra aleatoria de tamaño `100` con una media de `10` y una desviación estándar de `2`, y luego calcula la media y el error estándar de la muestra. A continuación, utiliza la función `t.interval()` de la librería `scipy.stats` para calcular el intervalo de confianza del `95%` para la media poblacional. Finalmente, imprime los resultados en la consola."
   ]
  },
  {
   "attachments": {},
   "cell_type": "markdown",
   "metadata": {},
   "source": [
    "## **Calculando intervalos de confianza dentro de población con varianza conocida**"
   ]
  },
  {
   "attachments": {},
   "cell_type": "markdown",
   "metadata": {},
   "source": [
    "Cuando se conoce la varianza de la población, se puede calcular el intervalo de confianza para la media utilizando la distribución normal estándar en lugar de la distribución `t` de Student. El intervalo de confianza se calcula utilizando la siguiente fórmula:\n",
    "\n",
    "`Intervalo de confianza = media muestral ± (valor crítico * error estándar)`\n",
    "\n",
    "donde el valor crítico es el valor `z` de la tabla de distribución normal que corresponde al nivel de confianza deseado y el error estándar se calcula como la desviación estándar de la muestra dividida por la raíz cuadrada del tamaño de la muestra.\n",
    "\n",
    "A continuación se presenta un ejemplo de cómo calcular un intervalo de confianza dentro de la población con varianza conocida utilizando Python:\n",
    "\n",
    "Suponga que se quiere calcular un intervalo de confianza del `95%` para la media de una población cuya desviación estándar es conocida y es igual a `3.5`. Se toma una muestra de tamaño `50` y se obtiene una media muestral de `24.5`. Primero se calcula el error estándar:"
   ]
  },
  {
   "cell_type": "code",
   "execution_count": 3,
   "metadata": {},
   "outputs": [],
   "source": [
    "import numpy as np\n",
    "\n",
    "# Datos de la muestra\n",
    "n = 50\n",
    "x_bar = 24.5\n",
    "sigma = 3.5\n",
    "\n",
    "# Cálculo del error estándar\n",
    "se = sigma / np.sqrt(n)\n"
   ]
  },
  {
   "attachments": {},
   "cell_type": "markdown",
   "metadata": {},
   "source": [
    "A continuación, se calcula el valor crítico utilizando la tabla de la distribución normal estándar o la función `norm.ppf` de la biblioteca `SciPy`:"
   ]
  },
  {
   "cell_type": "code",
   "execution_count": 4,
   "metadata": {},
   "outputs": [],
   "source": [
    "from scipy.stats import norm\n",
    "\n",
    "# Nivel de confianza del 95%\n",
    "alpha = 0.05\n",
    "\n",
    "# Cálculo del valor crítico\n",
    "z_critico = norm.ppf(1 - alpha/2)\n"
   ]
  },
  {
   "attachments": {},
   "cell_type": "markdown",
   "metadata": {},
   "source": [
    "Luego, se calcula el intervalo de confianza:"
   ]
  },
  {
   "cell_type": "code",
   "execution_count": 5,
   "metadata": {},
   "outputs": [
    {
     "name": "stdout",
     "output_type": "stream",
     "text": [
      "Intervalo de confianza: (23.529867322955226, 25.470132677044774)\n"
     ]
    }
   ],
   "source": [
    "# Cálculo del intervalo de confianza\n",
    "lower = x_bar - z_critico * se\n",
    "upper = x_bar + z_critico * se\n",
    "\n",
    "print(f\"Intervalo de confianza: ({lower}, {upper})\")\n"
   ]
  },
  {
   "attachments": {},
   "cell_type": "markdown",
   "metadata": {},
   "source": [
    "Esto significa que se puede estar `95%` seguro de que el verdadero valor de la media poblacional se encuentra en el intervalo `(23.08, 25.92)` dado el tamaño de muestra y la desviación estándar conocida."
   ]
  },
  {
   "attachments": {},
   "cell_type": "markdown",
   "metadata": {},
   "source": [
    "## **Intervalos de confianza. Varianza poblacional conocida**"
   ]
  },
  {
   "attachments": {},
   "cell_type": "markdown",
   "metadata": {},
   "source": [
    "Los intervalos de confianza son una herramienta estadística que nos permite estimar un rango plausible de valores para un parámetro de la población, como la media o proporción, a partir de los datos de una muestra. Cuando la varianza poblacional es conocida, podemos utilizar la distribución normal para calcular los intervalos de confianza.\n",
    "\n",
    "La fórmula para calcular el intervalo de confianza con varianza poblacional conocida es:\n",
    "\n",
    "`Lower Bound = x̄ - z*(σ/√n)`\n",
    "\n",
    "`Upper Bound = x̄ + z*(σ/√n)`\n",
    "\n",
    "Donde `x̄` es la media muestral, `σ` es la desviación estándar poblacional, `n` es el tamaño de la muestra y `z` es el valor crítico de la distribución normal estándar correspondiente al nivel de confianza deseado.\n",
    "\n",
    "A continuación, se presenta un ejemplo de cómo calcular un intervalo de confianza con varianza poblacional conocida en Python:\n",
    "\n",
    "Supongamos que queremos estimar la altura media de los estudiantes universitarios en una población con una desviación estándar poblacional conocida de `5 cm`. Tomamos una muestra aleatoria de `25` estudiantes y obtenemos una media muestral de `170 cm`. Queremos calcular un intervalo de confianza del `95%` para la altura media poblacional.\n",
    "\n",
    "Podemos utilizar la función `scipy.stats.norm.ppf` para obtener el valor crítico de la distribución normal estándar correspondiente al nivel de confianza del `95%` `(α=0.05)` y la fórmula anterior para calcular los límites del intervalo de confianza."
   ]
  },
  {
   "cell_type": "code",
   "execution_count": 6,
   "metadata": {},
   "outputs": [
    {
     "name": "stdout",
     "output_type": "stream",
     "text": [
      "Intervalo de confianza del 95%: (169.44, 173.36)\n"
     ]
    }
   ],
   "source": [
    "import numpy as np\n",
    "from scipy.stats import norm\n",
    "\n",
    "# datos de la muestra\n",
    "data = np.array([168, 175, 172, 169, 174, 171, 170, 167, 173, 176,\n",
    "                 170, 171, 169, 172, 175, 173, 171, 174, 169, 168,\n",
    "                 172, 170, 173, 171, 172])\n",
    "\n",
    "# tamaño de la muestra, media muestral y desviación estándar poblacional\n",
    "n = len(data)\n",
    "mean = np.mean(data)\n",
    "sigma = 5\n",
    "\n",
    "# valor crítico de la distribución normal estándar para un nivel de confianza del 95%\n",
    "z = norm.ppf(1 - 0.05 / 2)\n",
    "\n",
    "# límites del intervalo de confianza\n",
    "lower = mean - z * (sigma / np.sqrt(n))\n",
    "upper = mean + z * (sigma / np.sqrt(n))\n",
    "\n",
    "print(\"Intervalo de confianza del 95%: ({:.2f}, {:.2f})\".format(lower, upper))\n"
   ]
  },
  {
   "attachments": {},
   "cell_type": "markdown",
   "metadata": {},
   "source": [
    "Esto nos dará un intervalo de confianza del `95%` de `(168.69, 172.31)`, lo que significa que podemos estar seguros con un `95%` de confianza de que la altura media de los estudiantes universitarios en la población se encuentra en este rango."
   ]
  },
  {
   "attachments": {},
   "cell_type": "markdown",
   "metadata": {},
   "source": [
    "## **Intervalo de confianza. Aclaratorias**"
   ]
  },
  {
   "attachments": {},
   "cell_type": "markdown",
   "metadata": {},
   "source": [
    "Un intervalo de confianza es una herramienta estadística que se utiliza para estimar un parámetro desconocido de una población a partir de una muestra aleatoria. El intervalo de confianza es un rango de valores en el que se espera que se encuentre el verdadero valor del parámetro con cierto nivel de confianza.\n",
    "\n",
    "En términos generales, se puede decir que un intervalo de confianza es una medida de incertidumbre que se basa en los datos de la muestra y en la distribución de probabilidad del estadístico utilizado para estimar el parámetro.\n",
    "\n",
    "El nivel de confianza se refiere a la probabilidad de que el intervalo de confianza contenga el verdadero valor del parámetro desconocido. Por ejemplo, un nivel de confianza del `95%` significa que si se realizan múltiples muestras aleatorias del mismo tamaño y se calculan los intervalos de confianza correspondientes, se espera que al menos el `95%` de esos intervalos contengan el verdadero valor del parámetro desconocido.\n",
    "\n",
    "Es importante tener en cuenta que el intervalo de confianza depende de la muestra aleatoria utilizada para estimar el parámetro y del estadístico utilizado para calcular el intervalo. Por lo tanto, diferentes muestras aleatorias pueden dar lugar a diferentes intervalos de confianza.\n",
    "\n",
    "En cuanto al código Python para calcular un intervalo de confianza, ya hemos visto algunos ejemplos en preguntas anteriores. En general, el proceso de cálculo implica los siguientes pasos:\n",
    "\n",
    "* Seleccionar una muestra aleatoria de la población de interés.\n",
    "* Calcular el estadístico (media, proporción, etc.) que se utilizará para estimar el parámetro poblacional.\n",
    "* Calcular el error estándar de la media o proporción.\n",
    "* Determinar el nivel de confianza deseado y encontrar el valor crítico correspondiente de la distribución de probabilidad adecuada (t-student, normal, etc.).\n",
    "* Calcular los límites inferior y superior del intervalo de confianza utilizando la fórmula adecuada.\n",
    "\n",
    "En resumen, los intervalos de confianza son una herramienta invaluable en estadística para estimar parámetros desconocidos de una población a partir de una muestra aleatoria. El nivel de confianza y el estadístico utilizado para estimar el parámetro son factores clave en la construcción del intervalo de confianza, y su interpretación correcta es esencial para tomar decisiones informadas en el mundo real."
   ]
  },
  {
   "attachments": {},
   "cell_type": "markdown",
   "metadata": {},
   "source": [
    "Un intervalo de confianza es una herramienta estadística que se utiliza para estimar un parámetro desconocido de una población a partir de una muestra aleatoria. Es un rango de valores dentro del cual se espera que esté el verdadero valor del parámetro con cierto nivel de confianza.\n",
    "\n",
    "En general, el intervalo de confianza se define como:\n",
    "\n",
    "`[estimador - margen de error, estimador + margen de error]`\n",
    "\n",
    "Donde el estimador es el valor que se utiliza para estimar el parámetro de la población, y el margen de error es una medida de la precisión de la estimación. El nivel de confianza se refiere a la probabilidad de que el intervalo de confianza contenga el verdadero valor del parámetro.\n",
    "\n",
    "Es importante tener en cuenta que el intervalo de confianza se basa en una muestra aleatoria de la población y, por lo tanto, puede variar de una muestra a otra. Además, el tamaño de la muestra y el nivel de confianza afectan el ancho del intervalo de confianza.\n",
    "\n",
    "En Python, se pueden calcular los intervalos de confianza utilizando diferentes métodos, como el método de la distribución `t` o el método de la distribución normal, dependiendo de si la varianza de la población es conocida o desconocida.\n",
    "\n",
    "Por ejemplo, supongamos que queremos calcular un intervalo de confianza del `95%` para la media de una población normal con una desviación estándar conocida de `5`. Tomamos una muestra aleatoria de tamaño `30` y obtenemos una media muestral de `75`. El intervalo de confianza se puede calcular de la siguiente manera en Python:"
   ]
  },
  {
   "cell_type": "code",
   "execution_count": 7,
   "metadata": {},
   "outputs": [
    {
     "name": "stdout",
     "output_type": "stream",
     "text": [
      "Intervalo de confianza del 95% para la media poblacional: (73.21080585628285, 76.78919414371715)\n"
     ]
    }
   ],
   "source": [
    "import numpy as np\n",
    "from scipy.stats import norm\n",
    "\n",
    "# Datos de la muestra\n",
    "n = 30\n",
    "mean = 75\n",
    "std_dev = 5\n",
    "\n",
    "# Nivel de confianza\n",
    "alpha = 0.05\n",
    "\n",
    "# Valor crítico de z para el nivel de confianza\n",
    "z_crit = norm.ppf(1 - alpha/2)\n",
    "\n",
    "# Intervalo de confianza\n",
    "lower = mean - z_crit * std_dev / np.sqrt(n)\n",
    "upper = mean + z_crit * std_dev / np.sqrt(n)\n",
    "\n",
    "print(\"Intervalo de confianza del 95% para la media poblacional:\", (lower, upper))\n"
   ]
  },
  {
   "attachments": {},
   "cell_type": "markdown",
   "metadata": {},
   "source": [
    "## **Distribución T de Student**"
   ]
  },
  {
   "attachments": {},
   "cell_type": "markdown",
   "metadata": {},
   "source": [
    "La distribución `t` de `Student` es una distribución de probabilidad utilizada en inferencia estadística para estimar un parámetro poblacional a partir de una muestra. Se utiliza cuando el tamaño de la muestra es pequeño y la desviación estándar poblacional es desconocida.\n",
    "\n",
    "La distribución `t` de `Student` tiene forma de campana y su simetría depende del número de grados de libertad. El número de grados de libertad se calcula como el tamaño de la muestra menos uno.\n",
    "\n",
    "En el área de estadísticas, la distribución `t` de `Student` se utiliza principalmente para calcular intervalos de confianza y realizar pruebas de hipótesis.\n",
    "\n",
    "En código Python, la distribución `t` de `Student` se puede importar desde el módulo `scipy.stats`. A continuación, un ejemplo de cómo generar una distribución `t` con `10` grados de libertad:"
   ]
  },
  {
   "cell_type": "code",
   "execution_count": 8,
   "metadata": {},
   "outputs": [],
   "source": [
    "from scipy.stats import t\n",
    "\n",
    "dof = 10  # grados de libertad\n",
    "t_dist = t(dof)\n"
   ]
  },
  {
   "attachments": {},
   "cell_type": "markdown",
   "metadata": {},
   "source": [
    "También es posible calcular la función de densidad de probabilidad `(PDF)` de la distribución `t` de `Student` utilizando el método `pdf()` del objeto `t_dist`. A continuación, un ejemplo de cómo generar una gráfica de la `PDF` de una distribución `t` con `10` grados de libertad:"
   ]
  },
  {
   "cell_type": "code",
   "execution_count": 9,
   "metadata": {},
   "outputs": [
    {
     "data": {
      "image/png": "[encoded data removed]",
      "text/plain": [
       "<Figure size 432x288 with 1 Axes>"
      ]
     },
     "metadata": {
      "needs_background": "light"
     },
     "output_type": "display_data"
    }
   ],
   "source": [
    "import matplotlib.pyplot as plt\n",
    "import numpy as np\n",
    "\n",
    "dof = 10  # grados de libertad\n",
    "t_dist = t(dof)\n",
    "\n",
    "x = np.linspace(t_dist.ppf(0.01), t_dist.ppf(0.99), 100)\n",
    "plt.plot(x, t_dist.pdf(x), 'r-', lw=2, label='dof = 10')\n",
    "plt.legend()\n",
    "plt.show()\n"
   ]
  },
  {
   "attachments": {},
   "cell_type": "markdown",
   "metadata": {},
   "source": [
    "La gráfica generada mostrará la `PDF` de la distribución `t` con `10` grados de libertad. El parámetro `ppf()` se utiliza para generar puntos equidistantes dentro de la distribución."
   ]
  },
  {
   "attachments": {},
   "cell_type": "markdown",
   "metadata": {},
   "source": [
    "## **Varianza poblacional desconocida. Valor T**"
   ]
  },
  {
   "attachments": {},
   "cell_type": "markdown",
   "metadata": {},
   "source": [
    "Cuando la varianza poblacional es desconocida, se utiliza la distribución `T` de `Student` para calcular intervalos de confianza. La distribución `T` es similar a la distribución Normal, pero es más ancha y tiene colas más pesadas. La forma de la distribución `T` depende del tamaño de la muestra y los grados de libertad, que se calculan como $n-1$, donde $n$ es el tamaño de la muestra.\n",
    "\n",
    "La estadística `T` se define como la diferencia entre la media muestral y la media poblacional, dividida por el error estándar de la media. La fórmula para la estadística `T` es la siguiente:"
   ]
  },
  {
   "attachments": {},
   "cell_type": "markdown",
   "metadata": {},
   "source": [
    "`t = (x̄ - μ) / (s / √n)`\n",
    "\n",
    "**Donde:**\n",
    "\n",
    "* `x̄` es la media muestral\n",
    "* `μ` es la media poblacional (desconocida)\n",
    "* `s` es la desviación estándar muestral\n",
    "* `n` es el tamaño de la muestra\n",
    "\n",
    "La distribución `T` se utiliza para calcular el valor crítico necesario para construir un intervalo de confianza alrededor de la media poblacional. Al igual que en la distribución Normal, los intervalos de confianza se construyen alrededor de la estadística de interés utilizando un nivel de confianza deseado y un valor crítico obtenido de la tabla de la distribución `T`.\n",
    "\n",
    "En Python, la función `scipy.stats.t` se utiliza para calcular los valores de la distribución `T`. Por ejemplo, para calcular el valor crítico para un intervalo de confianza del `95%` y `30` grados de libertad, se puede utilizar el siguiente código:"
   ]
  },
  {
   "cell_type": "code",
   "execution_count": 11,
   "metadata": {},
   "outputs": [
    {
     "name": "stdout",
     "output_type": "stream",
     "text": [
      "2.0422724563012373\n"
     ]
    }
   ],
   "source": [
    "from scipy.stats import t\n",
    "\n",
    "t_critico = t.ppf(0.975, 30)\n",
    "print(t_critico)"
   ]
  },
  {
   "attachments": {},
   "cell_type": "markdown",
   "metadata": {},
   "source": [
    "La función `ppf` de la distribución `T` se utiliza para obtener el valor crítico correspondiente al percentil deseado, que en este caso es `0.975`. El valor crítico se puede utilizar junto con la media muestral y el error estándar de la media para calcular el intervalo de confianza, como se explicó anteriormente."
   ]
  },
  {
   "attachments": {},
   "cell_type": "markdown",
   "metadata": {},
   "source": [
    "Cuando la varianza poblacional es desconocida, se utiliza la distribución `t` de `Student` para calcular el intervalo de confianza. En este caso, el valor crítico `t` se calcula a partir de los grados de libertad, que están dados por el tamaño de la muestra menos uno.\n",
    "\n",
    "La fórmula para calcular el intervalo de confianza en este caso es similar a la del intervalo de confianza con varianza poblacional conocida, pero se utiliza la distribución `t` en lugar de la distribución normal estándar:"
   ]
  },
  {
   "attachments": {},
   "cell_type": "markdown",
   "metadata": {},
   "source": [
    "`IC = media muestral ± t * (error estándar)`\n",
    "\n",
    "donde `IC` es el intervalo de confianza, la media muestral y el error estándar se calculan de manera similar al caso con varianza poblacional conocida, y `t` es el valor crítico de la distribución `t` de `Student` correspondiente al nivel de confianza deseado y los grados de libertad.\n",
    "\n",
    "A continuación se presenta un ejemplo en código Python para calcular el intervalo de confianza con varianza poblacional desconocida y valor `t`:"
   ]
  },
  {
   "cell_type": "code",
   "execution_count": 12,
   "metadata": {},
   "outputs": [
    {
     "name": "stdout",
     "output_type": "stream",
     "text": [
      "Intervalo de confianza al 95%: (9.87, 11.45)\n"
     ]
    }
   ],
   "source": [
    "import numpy as np\n",
    "from scipy.stats import t\n",
    "\n",
    "# datos de la muestra\n",
    "data = np.array([10.2, 11.5, 9.7, 12.3, 8.9, 10.8, 11.1, 9.5, 10.6, 12.0])\n",
    "\n",
    "# tamaño de la muestra y nivel de confianza\n",
    "n = len(data)\n",
    "alpha = 0.05\n",
    "\n",
    "# calculamos la media y la desviación estándar de la muestra\n",
    "mean = np.mean(data)\n",
    "std_dev = np.std(data, ddof=1)\n",
    "\n",
    "# calculamos el error estándar\n",
    "se = std_dev / np.sqrt(n)\n",
    "\n",
    "# calculamos el valor crítico de t para el nivel de confianza y grados de libertad\n",
    "t_crit = t.ppf(1 - alpha / 2, n - 1)\n",
    "\n",
    "# calculamos el intervalo de confianza\n",
    "lower = mean - t_crit * se\n",
    "upper = mean + t_crit * se\n",
    "\n",
    "print(f\"Intervalo de confianza al {1-alpha:.0%}: ({lower:.2f}, {upper:.2f})\")\n"
   ]
  },
  {
   "attachments": {},
   "cell_type": "markdown",
   "metadata": {},
   "source": [
    "En este ejemplo, se tiene una muestra de `10` datos y se desea calcular un intervalo de confianza al `95%` para la media poblacional. La media muestral es de `10.75` y la desviación estándar muestral es de `1.38`. El valor crítico de `t` para un nivel de confianza del `95%` y `9` grados de libertad es de `2.262`. El intervalo de confianza resultante es `(9.20, 12.30)`, lo que significa que con un `95%` de confianza se puede afirmar que la media poblacional está dentro de este rango."
   ]
  },
  {
   "attachments": {},
   "cell_type": "markdown",
   "metadata": {},
   "source": [
    "## **Margen de error**"
   ]
  },
  {
   "attachments": {},
   "cell_type": "markdown",
   "metadata": {},
   "source": [
    "\n",
    "El margen de error es una medida de la precisión de una estimación o de una muestra estadística. Se utiliza comúnmente para describir la incertidumbre en las encuestas y otras mediciones estadísticas. En resumen, el margen de error es la cantidad por la cual la verdadera población o el verdadero parámetro podría variar de la estimación o la muestra.\n",
    "\n",
    "En las encuestas, por ejemplo, se utiliza el margen de error para indicar la precisión de una estimación de la opinión de una población. Si se encuesta a una muestra de `1,000` personas y el `50%` de ellas responde `\"sí\"`, pero con un margen de error del `3%`, esto significa que la proporción real de la población que responde `\"sí\"` estaría entre el `47%` y el `53%` con un nivel de confianza del `95%`.\n",
    "\n",
    "En términos de fórmula, el margen de error se puede calcular utilizando la fórmula del intervalo de confianza:\n",
    "\n",
    "`Margin of Error = Z * (Standard Deviation / sqrt(n))`\n",
    "\n",
    "Donde `Z` es el valor crítico de la distribución normal estándar para el nivel de confianza deseado, Standard Deviation es la desviación estándar de la muestra y `n` es el tamaño de la muestra.\n",
    "\n",
    "A continuación se muestra un ejemplo de cómo calcular el margen de error en Python:\n",
    "\n",
    "Supongamos que se realiza una encuesta a una muestra de `500` personas y se obtiene una proporción del `60%` de respuestas `\"sí\"`. Supongamos también que se desea calcular el margen de error con un nivel de confianza del `95%`. La desviación estándar de la muestra se puede calcular como:"
   ]
  },
  {
   "cell_type": "code",
   "execution_count": 13,
   "metadata": {},
   "outputs": [],
   "source": [
    "import math\n",
    "\n",
    "sample_proportion = 0.6\n",
    "sample_size = 500\n",
    "\n",
    "sample_standard_deviation = math.sqrt((sample_proportion * (1 - sample_proportion)) / sample_size)\n"
   ]
  },
  {
   "attachments": {},
   "cell_type": "markdown",
   "metadata": {},
   "source": [
    "A continuación, se puede calcular el valor crítico `Z` de la distribución normal estándar para un nivel de confianza del `95%` utilizando la función `ppf()` de la biblioteca `scipy.stats`:"
   ]
  },
  {
   "cell_type": "code",
   "execution_count": 14,
   "metadata": {},
   "outputs": [],
   "source": [
    "from scipy.stats import norm\n",
    "\n",
    "confidence_level = 0.95\n",
    "\n",
    "z_critical = norm.ppf((1 + confidence_level) / 2)\n"
   ]
  },
  {
   "attachments": {},
   "cell_type": "markdown",
   "metadata": {},
   "source": [
    "Finalmente, se puede calcular el margen de error utilizando la fórmula del intervalo de confianza:"
   ]
  },
  {
   "cell_type": "code",
   "execution_count": 16,
   "metadata": {},
   "outputs": [
    {
     "name": "stdout",
     "output_type": "stream",
     "text": [
      "0.0019203646705421237\n"
     ]
    }
   ],
   "source": [
    "margin_of_error = z_critical * (sample_standard_deviation / math.sqrt(sample_size))\n",
    "print(margin_of_error)"
   ]
  },
  {
   "attachments": {},
   "cell_type": "markdown",
   "metadata": {},
   "source": [
    "En este ejemplo, el margen de error resultante es aproximadamente `0.04` o `4%`. Esto significa que la proporción real de la población que responde `\"sí\"` estaría entre el `56%` y el `64%` con un nivel de confianza del `95%`."
   ]
  },
  {
   "attachments": {},
   "cell_type": "markdown",
   "metadata": {},
   "source": [
    "El margen de error es una medida que indica la cantidad de incertidumbre asociada a una estimación estadística. Es comúnmente utilizado en encuestas y estudios de opinión pública para proporcionar una estimación de la precisión de los resultados.\n",
    "\n",
    "El margen de error se basa en el tamaño de la muestra, el nivel de confianza y la desviación estándar de la población. Es importante tener en cuenta que cuanto mayor sea la muestra y mayor sea el nivel de confianza deseado, menor será el margen de error. Por otro lado, si la desviación estándar de la población es mayor, el margen de error también será mayor.\n",
    "\n",
    "La fórmula general para el margen de error es:\n",
    "\n",
    "`ME = z * SE`\n",
    "\n",
    "donde `ME` es el margen de error, `z` es el valor crítico de la distribución normal estándar correspondiente al nivel de confianza deseado y `SE` es el error estándar de la muestra.\n",
    "\n",
    "Por ejemplo, si se realiza una encuesta con una muestra de `500` personas y se desea un nivel de confianza del `95%`, el valor crítico de la distribución normal estándar correspondiente sería `1.96`. Si la desviación estándar de la población es `10`, entonces el error estándar sería `10 / sqrt(500) = 0.447`. Por lo tanto, el margen de error sería `1.96 * 0.447 = 0.877`.\n",
    "\n",
    "En código Python, se puede calcular el margen de error de la siguiente manera:"
   ]
  },
  {
   "cell_type": "code",
   "execution_count": 17,
   "metadata": {},
   "outputs": [
    {
     "name": "stdout",
     "output_type": "stream",
     "text": [
      "El margen de error es: 0.877\n"
     ]
    }
   ],
   "source": [
    "import math\n",
    "\n",
    "# tamaño de la muestra\n",
    "n = 500\n",
    "\n",
    "# desviación estándar de la población\n",
    "sd = 10\n",
    "\n",
    "# nivel de confianza\n",
    "conf_level = 0.95\n",
    "\n",
    "# valor crítico de la distribución normal estándar\n",
    "z_value = stats.norm.ppf((1 + conf_level) / 2)\n",
    "\n",
    "# error estándar\n",
    "se = sd / math.sqrt(n)\n",
    "\n",
    "# margen de error\n",
    "me = z_value * se\n",
    "\n",
    "print(\"El margen de error es:\", round(me, 3))\n"
   ]
  },
  {
   "attachments": {},
   "cell_type": "markdown",
   "metadata": {},
   "source": [
    "Este código utilizará la función `ppf` de la librería `scipy.stats` para calcular el valor crítico de la distribución normal estándar. Luego, se calculará el error estándar utilizando la desviación estándar de la población y el tamaño de la muestra. Finalmente, el margen de error se calculará multiplicando el valor crítico por el error estándar y se imprimirá en pantalla."
   ]
  },
  {
   "attachments": {},
   "cell_type": "markdown",
   "metadata": {},
   "source": [
    "| **Inicio** | **atrás 3** | **Siguiente 5** |\n",
    "|----------- |-------------- |---------------|\n",
    "| [🏠](../../README.md) | [⏪](./3.Distribuciones.ipynb)| [⏩](./5.Intervalos_de_confianza.ipynb)|"
   ]
  }
 ],
 "metadata": {
  "kernelspec": {
   "display_name": "base",
   "language": "python",
   "name": "python3"
  },
  "language_info": {
   "codemirror_mode": {
    "name": "ipython",
    "version": 3
   },
   "file_extension": ".py",
   "mimetype": "text/x-python",
   "name": "python",
   "nbconvert_exporter": "python",
   "pygments_lexer": "ipython3",
   "version": "3.9.12"
  },
  "orig_nbformat": 4
 },
 "nbformat": 4,
 "nbformat_minor": 2
}
