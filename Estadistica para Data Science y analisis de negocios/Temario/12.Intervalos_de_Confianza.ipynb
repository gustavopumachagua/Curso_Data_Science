{
 "cells": [
  {
   "attachments": {},
   "cell_type": "markdown",
   "metadata": {},
   "source": [
    "| **Inicio** | **atrás 11** | **Siguiente 13** |\n",
    "|----------- |-------------- |---------------|\n",
    "| [🏠](../../README.md) | [⏪](./11.Histogramas.ipynb)| [⏩](./13.Tecnicas_de_Muestreo.ipynb)|"
   ]
  },
  {
   "attachments": {},
   "cell_type": "markdown",
   "metadata": {},
   "source": [
    "# **12. Formaliza tus resultados con Intervalos de Confianza: Qué son y cómo calcularlos**"
   ]
  },
  {
   "attachments": {},
   "cell_type": "markdown",
   "metadata": {},
   "source": [
    "## **Introducción**"
   ]
  },
  {
   "attachments": {},
   "cell_type": "markdown",
   "metadata": {},
   "source": [
    "Los intervalos de confianza son un rango de valores alrededor de una estimación de un parámetro poblacional, como la media o la proporción, que se utiliza para proporcionar una medida de la incertidumbre asociada con la estimación. En otras palabras, un intervalo de confianza indica el rango de valores dentro del cual es probable que se encuentre el verdadero valor del parámetro poblacional con cierto nivel de confianza.\n",
    "\n",
    "Por ejemplo, si se desea estimar la media de una población a partir de una muestra de datos, se puede calcular un intervalo de confianza para esta media. Si se utiliza un nivel de confianza del 95%, el intervalo de confianza indicará que es probable que el verdadero valor de la media poblacional se encuentre dentro del rango de valores calculados con un 95% de confianza.\n",
    "\n",
    "Los intervalos de confianza son una herramienta útil en la estadística inferencial, ya que permiten estimar el verdadero valor de un parámetro poblacional a partir de una muestra de datos y proporcionan información sobre la incertidumbre asociada con la estimación."
   ]
  },
  {
   "attachments": {},
   "cell_type": "markdown",
   "metadata": {},
   "source": [
    "## **Definición del Intervalo de Confianza**"
   ]
  },
  {
   "attachments": {},
   "cell_type": "markdown",
   "metadata": {},
   "source": [
    "El intervalo de confianza es un rango de valores que se calcula a partir de una muestra de datos y que tiene una probabilidad determinada de contener el verdadero valor de la población. En otras palabras, el intervalo de confianza nos indica qué tan precisos son nuestros cálculos y cuánta variabilidad hay en los datos.\n",
    "\n",
    "Por ejemplo, si se quiere estimar el promedio de altura de una población, se puede tomar una muestra aleatoria de individuos y calcular la media de esta muestra. Sin embargo, esta media muestral no será necesariamente igual al verdadero valor de la población. Por lo tanto, se puede construir un intervalo de confianza alrededor de la media muestral, que indique la precisión de esta estimación y la probabilidad de contener el verdadero valor de la población.\n",
    "\n",
    "A continuación, se muestra un ejemplo de cómo calcular e interpretar un intervalo de confianza para la media de una distribución normal:"
   ]
  },
  {
   "cell_type": "code",
   "execution_count": 1,
   "metadata": {},
   "outputs": [
    {
     "data": {
      "image/png": "[encoded data removed]",
      "text/plain": [
       "<Figure size 432x288 with 1 Axes>"
      ]
     },
     "metadata": {
      "needs_background": "light"
     },
     "output_type": "display_data"
    }
   ],
   "source": [
    "import numpy as np\n",
    "from scipy import stats\n",
    "import matplotlib.pyplot as plt\n",
    "\n",
    "# Generar datos aleatorios\n",
    "datos = np.random.normal(loc=50, scale=10, size=1000)\n",
    "\n",
    "# Calcular la media y el error estándar de la media\n",
    "media = np.mean(datos)\n",
    "error = stats.sem(datos)\n",
    "\n",
    "# Calcular el intervalo de confianza al 95%\n",
    "intervalo = stats.t.interval(0.95, len(datos)-1, loc=media, scale=error)\n",
    "\n",
    "# Graficar los datos y el intervalo de confianza\n",
    "plt.hist(datos, bins=30, alpha=0.5)\n",
    "plt.axvline(intervalo[0], color='red', linestyle='dashed', linewidth=2)\n",
    "plt.axvline(intervalo[1], color='red', linestyle='dashed', linewidth=2)\n",
    "plt.axvline(media, color='green', linestyle='dashed', linewidth=2)\n",
    "plt.legend(['Intervalo de confianza al 95%', 'Media'])\n",
    "plt.show()\n",
    "\n"
   ]
  },
  {
   "attachments": {},
   "cell_type": "markdown",
   "metadata": {},
   "source": [
    "## **Interpretación del Nivel de Confianza**"
   ]
  },
  {
   "attachments": {},
   "cell_type": "markdown",
   "metadata": {},
   "source": [
    "El nivel de confianza se refiere a la probabilidad de que el intervalo de confianza contenga el verdadero valor del parámetro poblacional. Por ejemplo, si se establece un nivel de confianza del 95%, se espera que el verdadero valor del parámetro se encuentre dentro del intervalo de confianza el 95% del tiempo en que se realiza la prueba.\n",
    "\n",
    "A continuación se muestra un ejemplo de cómo interpretar el nivel de confianza en un intervalo de confianza para la media poblacional.\n",
    "\n",
    "Supongamos que se desea conocer el intervalo de confianza para la media de una población normalmente distribuida con desviación estándar conocida. Se realiza una muestra de tamaño 50 y se obtiene una media muestral de 25 y una desviación estándar poblacional de 5. Se desea calcular un intervalo de confianza al 95%.\n",
    "\n",
    "El código en Python para calcular y graficar el intervalo de confianza es el siguiente:"
   ]
  },
  {
   "cell_type": "code",
   "execution_count": 2,
   "metadata": {},
   "outputs": [
    {
     "data": {
      "image/png": "[encoded data removed]",
      "text/plain": [
       "<Figure size 432x288 with 1 Axes>"
      ]
     },
     "metadata": {
      "needs_background": "light"
     },
     "output_type": "display_data"
    }
   ],
   "source": [
    "import numpy as np\n",
    "import scipy.stats as stats\n",
    "import matplotlib.pyplot as plt\n",
    "\n",
    "# Generar los datos aleatorios\n",
    "datos = np.random.normal(loc=25, scale=5, size=50)\n",
    "\n",
    "# Calcular la media muestral y el error estándar\n",
    "media = np.mean(datos)\n",
    "se = stats.sem(datos)\n",
    "\n",
    "# Calcular el intervalo de confianza\n",
    "ic = stats.norm.interval(0.95, loc=media, scale=se)\n",
    "\n",
    "# Graficar el histograma y el intervalo de confianza\n",
    "plt.hist(datos, bins=10, alpha=0.5)\n",
    "plt.axvline(ic[0], color='red', linestyle='dashed', linewidth=2)\n",
    "plt.axvline(ic[1], color='red', linestyle='dashed', linewidth=2)\n",
    "\n",
    "# Agregar leyendas\n",
    "plt.legend(['Intervalo de confianza al 95%', 'Datos'])\n",
    "\n",
    "# Mostrar la gráfica\n",
    "plt.show()\n",
    "\n"
   ]
  },
  {
   "attachments": {},
   "cell_type": "markdown",
   "metadata": {},
   "source": [
    "## **Fórmula del Intervalo de Confianza**"
   ]
  },
  {
   "attachments": {},
   "cell_type": "markdown",
   "metadata": {},
   "source": [
    "La fórmula general para el intervalo de confianza de una muestra con una distribución normal y una desviación estándar poblacional conocida es:\n",
    "```\n",
    "IC = x̄ ± Z_(α/2) * (σ/√n)\n",
    "```\n",
    "donde:\n",
    "\n",
    "* IC es el intervalo de confianza\n",
    "* $\\bar{x}$ es la media muestral\n",
    "* $Z_{\\alpha/2}$ es el valor crítico de la distribución normal estándar que corresponde al nivel de confianza deseado ($\\alpha$ es el nivel de significancia, por lo que $1-\\alpha$ es el nivel de confianza)\n",
    "* $\\sigma$ es la desviación estándar poblacional\n",
    "* $n$ es el tamaño de la muestra"
   ]
  },
  {
   "attachments": {},
   "cell_type": "markdown",
   "metadata": {},
   "source": [
    "## **Error Estándar de la Media**"
   ]
  },
  {
   "attachments": {},
   "cell_type": "markdown",
   "metadata": {},
   "source": [
    "El Error Estándar de la Media (EE) es una medida de la precisión de la estimación de la media poblacional a partir de una muestra. Se define como la desviación estándar de la distribución muestral de medias.\n",
    "\n",
    "El EE es útil para estimar el rango de valores dentro del cual se espera que se encuentre la media poblacional con cierto nivel de confianza.\n",
    "\n",
    "La fórmula del EE es:\n",
    "```\n",
    "EE = σ / √n\n",
    "```\n",
    "donde σ es la desviación estándar de la población y n es el tamaño de la muestra.\n",
    "\n",
    "A continuación se presenta un ejemplo de cómo calcular y graficar el EE utilizando Python:"
   ]
  },
  {
   "cell_type": "code",
   "execution_count": 3,
   "metadata": {},
   "outputs": [
    {
     "data": {
      "image/png": "[encoded data removed]",
      "text/plain": [
       "<Figure size 432x288 with 1 Axes>"
      ]
     },
     "metadata": {
      "needs_background": "light"
     },
     "output_type": "display_data"
    }
   ],
   "source": [
    "import numpy as np\n",
    "import matplotlib.pyplot as plt\n",
    "\n",
    "# Generar datos aleatorios con una distribución normal\n",
    "datos = np.random.normal(loc=50, scale=10, size=1000)\n",
    "\n",
    "# Calcular el error estándar de la media\n",
    "ee = np.std(datos) / np.sqrt(len(datos))\n",
    "\n",
    "# Graficar los datos y el error estándar\n",
    "plt.hist(datos, bins=30, alpha=0.5)\n",
    "plt.axvline(np.mean(datos), color='red', linestyle='dashed', linewidth=2)\n",
    "plt.axvline(np.mean(datos) - ee, color='green', linestyle='dashed', linewidth=2)\n",
    "plt.axvline(np.mean(datos) + ee, color='green', linestyle='dashed', linewidth=2)\n",
    "\n",
    "# Agregar leyendas\n",
    "plt.legend(['Media', 'EE'])\n",
    "\n",
    "# Mostrar la gráfica\n",
    "plt.show()\n"
   ]
  },
  {
   "attachments": {},
   "cell_type": "markdown",
   "metadata": {},
   "source": [
    "## **Valor Z conforme al Nivel de Confianza**"
   ]
  },
  {
   "attachments": {},
   "cell_type": "markdown",
   "metadata": {},
   "source": [
    "El valor Z es un valor crítico de la distribución normal estándar que se utiliza para calcular intervalos de confianza y probar hipótesis. El valor Z se relaciona con el nivel de confianza deseado y se utiliza para calcular el margen de error en una muestra aleatoria.\n",
    "\n",
    "El valor Z depende del nivel de confianza deseado. Por ejemplo, para un nivel de confianza del 95%, el valor Z es de 1.96. Esto significa que el intervalo de confianza de la media estará dentro de 1.96 errores estándar de la media (SEM) alrededor de la media muestral.\n",
    "\n",
    "El valor Z se puede encontrar en tablas de distribución normal estándar o se puede calcular utilizando funciones estadísticas en lenguajes de programación como Python.\n",
    "\n",
    "A continuación se muestra un ejemplo de código en Python para calcular el valor Z dado un nivel de confianza:"
   ]
  },
  {
   "cell_type": "code",
   "execution_count": 4,
   "metadata": {},
   "outputs": [
    {
     "name": "stdout",
     "output_type": "stream",
     "text": [
      "Valor Z para un nivel de confianza del 95.0%: 1.96\n"
     ]
    }
   ],
   "source": [
    "import scipy.stats as st\n",
    "\n",
    "confianza = 0.95\n",
    "\n",
    "# Calcula el valor Z para el nivel de confianza dado\n",
    "valor_z = st.norm.ppf((1 + confianza) / 2)\n",
    "\n",
    "print(\"Valor Z para un nivel de confianza del {}%: {:.2f}\".format(confianza * 100, valor_z))\n"
   ]
  },
  {
   "attachments": {},
   "cell_type": "markdown",
   "metadata": {},
   "source": [
    "## **Ejemplo de cálculo del Intervalo de Confianza**"
   ]
  },
  {
   "attachments": {},
   "cell_type": "markdown",
   "metadata": {},
   "source": [
    "Supongamos que tenemos un conjunto de datos con una distribución normal y queremos calcular el intervalo de confianza al 95% para la media poblacional. Primero, generamos los datos aleatorios:"
   ]
  },
  {
   "cell_type": "code",
   "execution_count": 5,
   "metadata": {},
   "outputs": [],
   "source": [
    "import numpy as np\n",
    "\n",
    "np.random.seed(123) # para reproducibilidad\n",
    "datos = np.random.normal(loc=10, scale=2, size=100)\n"
   ]
  },
  {
   "attachments": {},
   "cell_type": "markdown",
   "metadata": {},
   "source": [
    "Luego, calculamos la media y el error estándar de la media:"
   ]
  },
  {
   "cell_type": "code",
   "execution_count": 6,
   "metadata": {},
   "outputs": [],
   "source": [
    "media_muestral = np.mean(datos)\n",
    "sem = np.std(datos, ddof=1) / np.sqrt(len(datos))\n"
   ]
  },
  {
   "attachments": {},
   "cell_type": "markdown",
   "metadata": {},
   "source": [
    "El factor de corrección ```ddof=1``` en la función ```std()``` indica que se está calculando la desviación estándar muestral. Luego, podemos calcular el valor crítico z correspondiente al nivel de confianza del 95%:"
   ]
  },
  {
   "cell_type": "code",
   "execution_count": 7,
   "metadata": {},
   "outputs": [],
   "source": [
    "from scipy.stats import norm\n",
    "\n",
    "alpha = 0.05\n",
    "z = norm.ppf(1 - alpha/2)\n"
   ]
  },
  {
   "attachments": {},
   "cell_type": "markdown",
   "metadata": {},
   "source": [
    "Finalmente, podemos calcular el intervalo de confianza como:"
   ]
  },
  {
   "cell_type": "code",
   "execution_count": 8,
   "metadata": {},
   "outputs": [
    {
     "name": "stdout",
     "output_type": "stream",
     "text": [
      "El intervalo de confianza al 95% es: (9.609727974427843, 10.498708319533597)\n"
     ]
    }
   ],
   "source": [
    "intervalo = (media_muestral - z*sem, media_muestral + z*sem)\n",
    "print(f\"El intervalo de confianza al 95% es: {intervalo}\")\n"
   ]
  },
  {
   "cell_type": "code",
   "execution_count": 9,
   "metadata": {},
   "outputs": [
    {
     "data": {
      "image/png": "[encoded data removed]",
      "text/plain": [
       "<Figure size 432x288 with 1 Axes>"
      ]
     },
     "metadata": {
      "needs_background": "light"
     },
     "output_type": "display_data"
    }
   ],
   "source": [
    "import matplotlib.pyplot as plt\n",
    "\n",
    "plt.hist(datos, bins=20, alpha=0.5)\n",
    "plt.axvline(intervalo[0], color='red', linestyle='dashed', linewidth=2)\n",
    "plt.axvline(intervalo[1], color='red', linestyle='dashed', linewidth=2)\n",
    "plt.show()\n"
   ]
  },
  {
   "attachments": {},
   "cell_type": "markdown",
   "metadata": {},
   "source": [
    "## **Intervalo de Confianza con Python**"
   ]
  },
  {
   "attachments": {},
   "cell_type": "markdown",
   "metadata": {},
   "source": [
    "Ya hemos hablado previamente sobre el intervalo de confianza en las preguntas anteriores, pero de manera general se puede decir que el intervalo de confianza es un rango numérico que contiene el valor desconocido del parámetro poblacional con un cierto nivel de confianza.\n",
    "\n",
    "Para entender mejor el intervalo de confianza, aquí hay un ejemplo con código y gráfica.\n",
    "\n",
    "Suponga que tenemos una muestra aleatoria de 1000 observaciones de una distribución normal con una media desconocida pero desviación estándar conocida de 10. Queremos encontrar el intervalo de confianza del 95% para la media poblacional.\n",
    "\n",
    "Primero, importamos las bibliotecas necesarias:"
   ]
  },
  {
   "cell_type": "code",
   "execution_count": 10,
   "metadata": {},
   "outputs": [],
   "source": [
    "import numpy as np\n",
    "import scipy.stats as stats\n",
    "import matplotlib.pyplot as plt\n"
   ]
  },
  {
   "attachments": {},
   "cell_type": "markdown",
   "metadata": {},
   "source": [
    "Luego, generamos datos aleatorios:"
   ]
  },
  {
   "cell_type": "code",
   "execution_count": 11,
   "metadata": {},
   "outputs": [],
   "source": [
    "np.random.seed(1234)\n",
    "datos = np.random.normal(loc=50, scale=10, size=1000)\n"
   ]
  },
  {
   "attachments": {},
   "cell_type": "markdown",
   "metadata": {},
   "source": [
    "A continuación, calculamos el intervalo de confianza:"
   ]
  },
  {
   "cell_type": "code",
   "execution_count": 12,
   "metadata": {},
   "outputs": [],
   "source": [
    "media = np.mean(datos)\n",
    "nivel_confianza = 0.95\n",
    "z_score = stats.norm.ppf((1 + nivel_confianza) / 2)\n",
    "error_estandar = 10 / np.sqrt(1000)\n",
    "intervalo_confianza = (media - z_score * error_estandar, media + z_score * error_estandar)\n"
   ]
  },
  {
   "attachments": {},
   "cell_type": "markdown",
   "metadata": {},
   "source": [
    "Finalmente, imprimimos el resultado y graficamos el histograma y el intervalo de confianza:"
   ]
  },
  {
   "cell_type": "code",
   "execution_count": 13,
   "metadata": {},
   "outputs": [
    {
     "name": "stdout",
     "output_type": "stream",
     "text": [
      "Intervalo de confianza del 95% para la media poblacional: (49.537610789233064, 50.77720085384218)\n"
     ]
    },
    {
     "data": {
      "image/png": "[encoded data removed]",
      "text/plain": [
       "<Figure size 432x288 with 1 Axes>"
      ]
     },
     "metadata": {
      "needs_background": "light"
     },
     "output_type": "display_data"
    }
   ],
   "source": [
    "print(\"Intervalo de confianza del 95% para la media poblacional:\", intervalo_confianza)\n",
    "\n",
    "plt.hist(datos, bins=30, density=True, alpha=0.5)\n",
    "plt.axvline(intervalo_confianza[0], color='red', linestyle='dashed', linewidth=2)\n",
    "plt.axvline(intervalo_confianza[1], color='red', linestyle='dashed', linewidth=2)\n",
    "plt.show()\n"
   ]
  },
  {
   "attachments": {},
   "cell_type": "markdown",
   "metadata": {},
   "source": [
    "## **Graficando el Intervalo de Confianza con Seaborn**"
   ]
  },
  {
   "cell_type": "code",
   "execution_count": 14,
   "metadata": {},
   "outputs": [
    {
     "name": "stderr",
     "output_type": "stream",
     "text": [
      "/home/puma/anaconda3/lib/python3.9/site-packages/seaborn/_decorators.py:36: FutureWarning: Pass the following variables as keyword args: x, y. From version 0.12, the only valid positional argument will be `data`, and passing other arguments without an explicit keyword will result in an error or misinterpretation.\n",
      "  warnings.warn(\n"
     ]
    },
    {
     "data": {
      "text/plain": [
       "<AxesSubplot:ylabel='Count'>"
      ]
     },
     "execution_count": 14,
     "metadata": {},
     "output_type": "execute_result"
    },
    {
     "data": {
      "image/png": "[encoded data removed]",
      "text/plain": [
       "<Figure size 432x288 with 1 Axes>"
      ]
     },
     "metadata": {
      "needs_background": "light"
     },
     "output_type": "display_data"
    }
   ],
   "source": [
    "import seaborn as sns\n",
    "import numpy as np\n",
    "\n",
    "# Generar una muestra aleatoria de datos\n",
    "datos = np.random.normal(loc=50, scale=10, size=100)\n",
    "\n",
    "# Calcular la media y el error estándar\n",
    "media = np.mean(datos)\n",
    "error_estandar = np.std(datos) / np.sqrt(len(datos))\n",
    "\n",
    "# Graficar la distribución de la muestra con el intervalo de confianza\n",
    "sns.histplot(datos, kde=True)\n",
    "sns.lineplot([media - 1.96 * error_estandar, media + 1.96 * error_estandar], [0, 0], color='red', linewidth=2)\n"
   ]
  },
  {
   "attachments": {},
   "cell_type": "markdown",
   "metadata": {},
   "source": [
    "En este ejemplo, se genera una muestra aleatoria de datos normalmente distribuidos y se calcula su media y su error estándar. Luego, se grafica la distribución de la muestra con un histograma y una estimación de densidad de kernel (kde), y se agrega una línea roja que representa el intervalo de confianza del 95% para la media de la población. La línea roja se traza utilizando los límites inferior y superior del intervalo, que se calculan como la media muestral más y menos 1.96 veces el error estándar, respectivamente.\n",
    "\n",
    "Este gráfico permite visualizar la precisión de la estimación de la media de la población a partir de la muestra y cómo esta precisión se ve afectada por el tamaño de la muestra y la varianza de la población."
   ]
  },
  {
   "attachments": {},
   "cell_type": "markdown",
   "metadata": {},
   "source": [
    "| **Inicio** | **atrás 11** | **Siguiente 13** |\n",
    "|----------- |-------------- |---------------|\n",
    "| [🏠](../../README.md) | [⏪](./11.Histogramas.ipynb)| [⏩](./13.Tecnicas_de_Muestreo.ipynb)|"
   ]
  }
 ],
 "metadata": {
  "kernelspec": {
   "display_name": "base",
   "language": "python",
   "name": "python3"
  },
  "language_info": {
   "codemirror_mode": {
    "name": "ipython",
    "version": 3
   },
   "file_extension": ".py",
   "mimetype": "text/x-python",
   "name": "python",
   "nbconvert_exporter": "python",
   "pygments_lexer": "ipython3",
   "version": "3.9.12"
  },
  "orig_nbformat": 4
 },
 "nbformat": 4,
 "nbformat_minor": 2
}
