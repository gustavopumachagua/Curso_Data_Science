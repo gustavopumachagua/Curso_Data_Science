{
 "cells": [
  {
   "attachments": {},
   "cell_type": "markdown",
   "metadata": {},
   "source": [
    "| **Inicio** | **atrás 19** | **Siguiente 21** |\n",
    "|----------- |-------------- |---------------|\n",
    "| [🏠](../../README.md) | [⏪](./19.Arreglos.ipynb)| [⏩](./21.Agregaci%C3%B3n_y_Ejes.ipynb)|"
   ]
  },
  {
   "attachments": {},
   "cell_type": "markdown",
   "metadata": {},
   "source": [
    "# **20. Arrays de Numpy: Búsqueda y Filtrado de Datos**"
   ]
  },
  {
   "attachments": {},
   "cell_type": "markdown",
   "metadata": {},
   "source": [
    "## **Introducción a las búsquedas y filtros en Numpy**"
   ]
  },
  {
   "attachments": {},
   "cell_type": "markdown",
   "metadata": {},
   "source": [
    "NumPy ofrece varias funciones para realizar búsquedas y filtros en arreglos. Estas funciones permiten buscar elementos específicos en un arreglo, filtrar elementos basados en ciertas condiciones y seleccionar subconjuntos de datos. Aquí hay un ejemplo de cómo realizar búsquedas y filtros en NumPy:"
   ]
  },
  {
   "cell_type": "code",
   "execution_count": 1,
   "metadata": {},
   "outputs": [
    {
     "name": "stdout",
     "output_type": "stream",
     "text": [
      "El índice del elemento 5 es:\n",
      "(array([4]),)\n",
      "Elementos mayores que 5 en el arreglo:\n",
      "[ 6  7  8  9 10]\n",
      "Elementos pares en el arreglo:\n",
      "[ 2  4  6  8 10]\n",
      "Arreglo después de aplicar la función cuadrática:\n",
      "[  1   4   9  16  25  36  49  64  81 100]\n"
     ]
    }
   ],
   "source": [
    "import numpy as np\n",
    "\n",
    "# Crear un arreglo de 1 dimensión con valores enteros\n",
    "a = np.array([1, 2, 3, 4, 5, 6, 7, 8, 9, 10])\n",
    "\n",
    "# Buscar el índice de un elemento específico en el arreglo\n",
    "print(\"El índice del elemento 5 es:\")\n",
    "print(np.where(a == 5))\n",
    "\n",
    "# Filtrar elementos mayores que 5 en el arreglo\n",
    "print(\"Elementos mayores que 5 en el arreglo:\")\n",
    "print(a[a > 5])\n",
    "\n",
    "# Seleccionar subconjuntos de datos basados en una condición\n",
    "print(\"Elementos pares en el arreglo:\")\n",
    "print(a[a % 2 == 0])\n",
    "\n",
    "# Aplicar una función a cada elemento del arreglo\n",
    "print(\"Arreglo después de aplicar la función cuadrática:\")\n",
    "print(np.vectorize(lambda x: x**2)(a))"
   ]
  },
  {
   "attachments": {},
   "cell_type": "markdown",
   "metadata": {},
   "source": [
    "## **Búsquedas con Where**"
   ]
  },
  {
   "attachments": {},
   "cell_type": "markdown",
   "metadata": {},
   "source": [
    "La función `where()` de NumPy se utiliza para buscar elementos en un arreglo que cumplan una cierta condición. Aquí hay un ejemplo de cómo utilizar `where()` para realizar una búsqueda en un arreglo de 2 dimensiones:"
   ]
  },
  {
   "cell_type": "code",
   "execution_count": 3,
   "metadata": {},
   "outputs": [
    {
     "name": "stdout",
     "output_type": "stream",
     "text": [
      "Índices de los elementos mayores que 5:\n",
      "(array([1, 2, 2, 2]), array([2, 0, 1, 2]))\n",
      "Valores de los elementos mayores que 5:\n",
      "[6 7 8 9]\n"
     ]
    }
   ],
   "source": [
    "import numpy as np\n",
    "\n",
    "# Crear un arreglo de 2 dimensiones con valores enteros\n",
    "a = np.array([[1, 2, 3], [4, 5, 6], [7, 8, 9]])\n",
    "\n",
    "# Buscar los índices de los elementos que son mayores que 5\n",
    "indices = np.where(a > 5)\n",
    "\n",
    "# Imprimir los índices y los valores correspondientes\n",
    "print(\"Índices de los elementos mayores que 5:\")\n",
    "print(indices)\n",
    "print(\"Valores de los elementos mayores que 5:\")\n",
    "print(a[indices])"
   ]
  },
  {
   "attachments": {},
   "cell_type": "markdown",
   "metadata": {},
   "source": [
    "## **Filtrado de elementos**"
   ]
  },
  {
   "attachments": {},
   "cell_type": "markdown",
   "metadata": {},
   "source": [
    "En NumPy, se pueden filtrar elementos de un arreglo basados en ciertas condiciones utilizando la notación de indexado booleano. Aquí hay un ejemplo de cómo utilizar la notación de indexado booleano para filtrar elementos en un arreglo:"
   ]
  },
  {
   "cell_type": "code",
   "execution_count": 4,
   "metadata": {},
   "outputs": [
    {
     "name": "stdout",
     "output_type": "stream",
     "text": [
      "Elementos mayores que 5 en el arreglo:\n",
      "[ 6  7  8  9 10]\n"
     ]
    }
   ],
   "source": [
    "import numpy as np\n",
    "\n",
    "# Crear un arreglo de 1 dimensión con valores enteros\n",
    "a = np.array([1, 2, 3, 4, 5, 6, 7, 8, 9, 10])\n",
    "\n",
    "# Filtrar los elementos mayores que 5 en el arreglo\n",
    "filtro = a > 5\n",
    "print(\"Elementos mayores que 5 en el arreglo:\")\n",
    "print(a[filtro])"
   ]
  },
  {
   "attachments": {},
   "cell_type": "markdown",
   "metadata": {},
   "source": [
    "## **Ejemplo de filtrado con vectores Pesos, Alturas y Países**"
   ]
  },
  {
   "attachments": {},
   "cell_type": "markdown",
   "metadata": {},
   "source": [
    "Supongamos que tenemos tres arreglos de NumPy pesos, alturas y paises que contienen información sobre el peso, altura y país de una lista de personas. Podemos utilizar la notación de indexado booleano para filtrar las personas de cierto país con una altura mayor a cierto valor."
   ]
  },
  {
   "cell_type": "code",
   "execution_count": 5,
   "metadata": {},
   "outputs": [
    {
     "name": "stdout",
     "output_type": "stream",
     "text": [
      "Personas de Argentina con altura mayor a 1.75 metros:\n",
      "Pesos: [81]\n",
      "Alturas: [1.81]\n",
      "Países: ['Argentina']\n"
     ]
    }
   ],
   "source": [
    "import numpy as np\n",
    "\n",
    "# Arreglos de ejemplo con información sobre peso, altura y país\n",
    "pesos = np.array([70, 80, 65, 75, 72, 68, 90, 83, 79, 81])\n",
    "alturas = np.array([1.75, 1.80, 1.65, 1.70, 1.72, 1.68, 1.90, 1.83, 1.79, 1.81])\n",
    "paises = np.array(['Argentina', 'Brasil', 'Colombia', 'Argentina', 'Argentina', 'Colombia', 'Brasil', 'Brasil', 'Colombia', 'Argentina'])\n",
    "\n",
    "# Filtrar personas de Argentina con altura mayor a 1.75 metros\n",
    "filtro = (paises == 'Argentina') & (alturas > 1.75)\n",
    "print(\"Personas de Argentina con altura mayor a 1.75 metros:\")\n",
    "print(\"Pesos:\", pesos[filtro])\n",
    "print(\"Alturas:\", alturas[filtro])\n",
    "print(\"Países:\", paises[filtro])"
   ]
  },
  {
   "attachments": {},
   "cell_type": "markdown",
   "metadata": {},
   "source": [
    "## **Filtrando información con operadores booleanos \"and\" y \"or\"**"
   ]
  },
  {
   "attachments": {},
   "cell_type": "markdown",
   "metadata": {},
   "source": [
    "En NumPy, se pueden utilizar operadores booleanos `and` y `or` para filtrar información basada en múltiples condiciones. Aquí hay un ejemplo de cómo usar estos operadores para filtrar información de un arreglo:"
   ]
  },
  {
   "cell_type": "code",
   "execution_count": 6,
   "metadata": {},
   "outputs": [
    {
     "name": "stdout",
     "output_type": "stream",
     "text": [
      "Elementos mayores que 5 y menores que 8 en el arreglo:\n",
      "[6 7]\n",
      "Elementos menores que 3 o mayores que 7 en el arreglo:\n",
      "[ 1  2  8  9 10]\n"
     ]
    }
   ],
   "source": [
    "import numpy as np\n",
    "\n",
    "# Crear un arreglo de 1 dimensión con valores enteros\n",
    "a = np.array([1, 2, 3, 4, 5, 6, 7, 8, 9, 10])\n",
    "\n",
    "# Filtrar los elementos mayores que 5 y menores que 8 en el arreglo\n",
    "filtro = (a > 5) & (a < 8)\n",
    "print(\"Elementos mayores que 5 y menores que 8 en el arreglo:\")\n",
    "print(a[filtro])\n",
    "\n",
    "# Filtrar los elementos menores que 3 o mayores que 7 en el arreglo\n",
    "filtro = (a < 3) | (a > 7)\n",
    "print(\"Elementos menores que 3 o mayores que 7 en el arreglo:\")\n",
    "print(a[filtro])"
   ]
  },
  {
   "attachments": {},
   "cell_type": "markdown",
   "metadata": {},
   "source": [
    "| **Inicio** | **atrás 19** | **Siguiente 21** |\n",
    "|----------- |-------------- |---------------|\n",
    "| [🏠](../../README.md) | [⏪](./19.Arreglos.ipynb)| [⏩](./21.Agregaci%C3%B3n_y_Ejes.ipynb)|"
   ]
  }
 ],
 "metadata": {
  "kernelspec": {
   "display_name": "base",
   "language": "python",
   "name": "python3"
  },
  "language_info": {
   "codemirror_mode": {
    "name": "ipython",
    "version": 3
   },
   "file_extension": ".py",
   "mimetype": "text/x-python",
   "name": "python",
   "nbconvert_exporter": "python",
   "pygments_lexer": "ipython3",
   "version": "3.9.12"
  },
  "orig_nbformat": 4
 },
 "nbformat": 4,
 "nbformat_minor": 2
}
