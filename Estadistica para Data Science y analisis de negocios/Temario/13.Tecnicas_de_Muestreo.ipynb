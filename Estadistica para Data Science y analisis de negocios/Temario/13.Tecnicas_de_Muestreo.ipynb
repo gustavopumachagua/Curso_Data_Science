{
 "cells": [
  {
   "attachments": {},
   "cell_type": "markdown",
   "metadata": {},
   "source": [
    "| **Inicio** | **atrás 12** | **Siguiente 14** |\n",
    "|----------- |-------------- |---------------|\n",
    "| [🏠](../../README.md) | [⏪](./12.Intervalos_de_Confianza.ipynb)| [⏩](./14.Teorema_del_Limite_Central.ipynb)|"
   ]
  },
  {
   "attachments": {},
   "cell_type": "markdown",
   "metadata": {},
   "source": [
    "# **13. Las 5 Técnicas de Muestreo que debes conocer**"
   ]
  },
  {
   "attachments": {},
   "cell_type": "markdown",
   "metadata": {},
   "source": [
    "## **Introducción**"
   ]
  },
  {
   "attachments": {},
   "cell_type": "markdown",
   "metadata": {},
   "source": [
    "* Muestreo aleatorio simple: Es la técnica de muestreo más básica y consiste en seleccionar al azar un número determinado de elementos de una población. Cada elemento de la población tiene la misma probabilidad de ser seleccionado.\n",
    "\n",
    "* Muestreo estratificado: En esta técnica, la población se divide en subgrupos homogéneos (estratos) y luego se selecciona una muestra aleatoria simple de cada estrato. Esta técnica se utiliza cuando se desea garantizar que cada subgrupo de la población se represente adecuadamente en la muestra.\n",
    "\n",
    "* Muestreo por conglomerados: En esta técnica, la población se divide en grupos más grandes (conglomerados) y se seleccionan algunos de estos conglomerados al azar para formar la muestra. Luego, se recopila información de todos los elementos dentro de los conglomerados seleccionados. Esta técnica es útil cuando la población es grande y dispersa.\n",
    "\n",
    "* Muestreo sistemático: En esta técnica, se elige un número aleatorio para comenzar y luego se selecciona cada elemento k de la población a partir de ese número. Por ejemplo, si k es 10, se seleccionarían los elementos 10, 20, 30, etc. Esta técnica se utiliza cuando se desea una muestra más fácil de recopilar y cuando la población tiene una estructura lógica.\n",
    "\n",
    "* Muestreo por cuotas: En esta técnica, la muestra se selecciona de tal manera que represente la proporción de la población en función de ciertas características. Por ejemplo, si se desea que la muestra represente la población por edad y género, se seleccionaría una muestra que tenga la misma proporción de hombres y mujeres y que represente a todas las edades en la población. Esta técnica se utiliza cuando no se dispone de información detallada sobre la población o cuando se desea una muestra que sea fácil de seleccionar y recopilar."
   ]
  },
  {
   "attachments": {},
   "cell_type": "markdown",
   "metadata": {},
   "source": [
    "## **Muestreo por Conveniencia**"
   ]
  },
  {
   "attachments": {},
   "cell_type": "markdown",
   "metadata": {},
   "source": [
    "El muestreo por conveniencia es una técnica de muestreo no probabilístico en la que se seleccionan los elementos de la muestra de acuerdo con la conveniencia del investigador o del encuestado. Es decir, se seleccionan aquellos elementos que están disponibles y que son fáciles de conseguir.\n",
    "\n",
    "Este tipo de muestreo no garantiza una representación adecuada de la población, ya que se basa en la disponibilidad y la facilidad de acceso a los elementos. Por lo tanto, no es una técnica recomendable para estudios que requieren una alta precisión y representatividad."
   ]
  },
  {
   "cell_type": "code",
   "execution_count": 1,
   "metadata": {},
   "outputs": [
    {
     "name": "stdout",
     "output_type": "stream",
     "text": [
      "Muestra: [37, 34, 22, 29, 23]\n"
     ]
    },
    {
     "data": {
      "image/png": "[encoded data removed]",
      "text/plain": [
       "<Figure size 432x288 with 1 Axes>"
      ]
     },
     "metadata": {
      "needs_background": "light"
     },
     "output_type": "display_data"
    }
   ],
   "source": [
    "import random\n",
    "import matplotlib.pyplot as plt\n",
    "\n",
    "# Crear una lista de valores de edad\n",
    "edades = [23, 32, 27, 19, 41, 38, 29, 25, 34, 31, 37, 22, 26, 39]\n",
    "\n",
    "# Realizar un muestreo por conveniencia de 5 participantes\n",
    "muestra = random.sample(edades, 5)\n",
    "\n",
    "# Imprimir la muestra\n",
    "print(\"Muestra:\", muestra)\n",
    "\n",
    "# Crear un histograma de las edades\n",
    "plt.hist(edades, bins=10, alpha=0.5, label='Población')\n",
    "plt.hist(muestra, bins=5, alpha=0.5, label='Muestra')\n",
    "plt.legend(loc='upper right')\n",
    "plt.show()\n"
   ]
  },
  {
   "attachments": {},
   "cell_type": "markdown",
   "metadata": {},
   "source": [
    "En este ejemplo, se crea una lista de edades y se realiza un muestreo por conveniencia de 5 participantes utilizando la función ```random.sample()``` de Python. Luego se imprime la muestra y se grafican los resultados utilizando un histograma. La población completa se representa con una distribución de frecuencia de color azul claro, mientras que la muestra se representa con una distribución de frecuencia de color naranja.\n",
    "\n",
    "Es importante tener en cuenta que el muestreo por conveniencia no garantiza una muestra representativa de la población, por lo que los resultados pueden estar sesgados y no ser generalizables a la población completa."
   ]
  },
  {
   "attachments": {},
   "cell_type": "markdown",
   "metadata": {},
   "source": [
    "## **Muestreo Aleatorio Simple**"
   ]
  },
  {
   "attachments": {},
   "cell_type": "markdown",
   "metadata": {},
   "source": [
    "El muestreo aleatorio simple es una técnica de muestreo probabilístico en la que cada elemento de la población tiene la misma probabilidad de ser seleccionado para formar parte de la muestra. Es una técnica comúnmente utilizada en estadística para obtener una muestra representativa de la población.\n",
    "\n",
    "A continuación, te presento un ejemplo de código en Python para realizar un muestreo aleatorio simple y graficar los resultados:"
   ]
  },
  {
   "cell_type": "code",
   "execution_count": 2,
   "metadata": {},
   "outputs": [
    {
     "name": "stdout",
     "output_type": "stream",
     "text": [
      "Muestra: [23, 31, 29, 32, 41]\n"
     ]
    },
    {
     "data": {
      "image/png": "[encoded data removed]",
      "text/plain": [
       "<Figure size 432x288 with 1 Axes>"
      ]
     },
     "metadata": {
      "needs_background": "light"
     },
     "output_type": "display_data"
    }
   ],
   "source": [
    "import random\n",
    "import matplotlib.pyplot as plt\n",
    "\n",
    "# Crear una lista de valores de edad\n",
    "edades = [23, 32, 27, 19, 41, 38, 29, 25, 34, 31, 37, 22, 26, 39]\n",
    "\n",
    "# Realizar un muestreo aleatorio simple de 5 participantes\n",
    "muestra = random.sample(edades, 5)\n",
    "\n",
    "# Imprimir la muestra\n",
    "print(\"Muestra:\", muestra)\n",
    "\n",
    "# Crear un histograma de las edades\n",
    "plt.hist(edades, bins=10, alpha=0.5, label='Población')\n",
    "plt.hist(muestra, bins=5, alpha=0.5, label='Muestra')\n",
    "plt.legend(loc='upper right')\n",
    "plt.show()\n"
   ]
  },
  {
   "attachments": {},
   "cell_type": "markdown",
   "metadata": {},
   "source": [
    "En este ejemplo, se crea una lista de edades y se realiza un muestreo aleatorio simple de 5 participantes utilizando la función ```random.sample()``` de Python. Luego se imprime la muestra y se grafican los resultados utilizando un histograma. La población completa se representa con una distribución de frecuencia de color azul claro, mientras que la muestra se representa con una distribución de frecuencia de color naranja.\n",
    "\n",
    "Es importante destacar que el muestreo aleatorio simple proporciona una muestra representativa de la población, siempre y cuando se seleccione al azar y sin reemplazo, lo que significa que cada elemento de la población tiene la misma probabilidad de ser seleccionado y que solo se selecciona una vez."
   ]
  },
  {
   "attachments": {},
   "cell_type": "markdown",
   "metadata": {},
   "source": [
    "## **Muestreo Sistemático**"
   ]
  },
  {
   "attachments": {},
   "cell_type": "markdown",
   "metadata": {},
   "source": [
    "El muestreo sistemático es una técnica de muestreo probabilístico en la que se selecciona cada k-ésimo elemento de la población para formar parte de la muestra, comenzando por un elemento aleatorio. Es una técnica útil cuando la población está ordenada de alguna manera, por ejemplo, por orden alfabético o por fecha.\n",
    "\n",
    "A continuación, te presento un ejemplo de código en Python para realizar un muestreo sistemático y graficar los resultados:"
   ]
  },
  {
   "cell_type": "code",
   "execution_count": 3,
   "metadata": {},
   "outputs": [
    {
     "name": "stdout",
     "output_type": "stream",
     "text": [
      "Muestra: [32, 19, 38, 25, 31, 22, 39]\n"
     ]
    },
    {
     "data": {
      "image/png": "[encoded data removed]",
      "text/plain": [
       "<Figure size 432x288 with 1 Axes>"
      ]
     },
     "metadata": {
      "needs_background": "light"
     },
     "output_type": "display_data"
    }
   ],
   "source": [
    "import random\n",
    "import matplotlib.pyplot as plt\n",
    "\n",
    "# Crear una lista de valores de edad\n",
    "edades = [23, 32, 27, 19, 41, 38, 29, 25, 34, 31, 37, 22, 26, 39]\n",
    "\n",
    "# Definir el tamaño de la muestra y el intervalo de selección\n",
    "tam_muestra = 5\n",
    "k = len(edades) // tam_muestra\n",
    "\n",
    "# Seleccionar un elemento aleatorio como punto de partida\n",
    "punto_partida = random.randint(0, k-1)\n",
    "\n",
    "# Realizar un muestreo sistemático de 5 participantes\n",
    "muestra = [edades[i] for i in range(punto_partida, len(edades), k)]\n",
    "\n",
    "# Imprimir la muestra\n",
    "print(\"Muestra:\", muestra)\n",
    "\n",
    "# Crear un histograma de las edades\n",
    "plt.hist(edades, bins=10, alpha=0.5, label='Población')\n",
    "plt.hist(muestra, bins=5, alpha=0.5, label='Muestra')\n",
    "plt.legend(loc='upper right')\n",
    "plt.show()\n"
   ]
  },
  {
   "attachments": {},
   "cell_type": "markdown",
   "metadata": {},
   "source": [
    "En este ejemplo, se crea una lista de edades y se define el tamaño de la muestra y el intervalo de selección. Luego se selecciona un elemento aleatorio como punto de partida y se realiza un muestreo sistemático de 5 participantes utilizando un bucle for y una lista de comprensión. Finalmente, se imprime la muestra y se grafican los resultados utilizando un histograma. La población completa se representa con una distribución de frecuencia de color azul claro, mientras que la muestra se representa con una distribución de frecuencia de color naranja.\n",
    "\n",
    "Es importante destacar que el muestreo sistemático puede proporcionar una muestra representativa de la población si se selecciona el intervalo de manera adecuada y si se garantiza que la población esté bien ordenada.\n",
    "\n",
    "\n",
    "\n"
   ]
  },
  {
   "attachments": {},
   "cell_type": "markdown",
   "metadata": {},
   "source": [
    "## **Muestreo por Conglomerados o Clusters**"
   ]
  },
  {
   "attachments": {},
   "cell_type": "markdown",
   "metadata": {},
   "source": [
    "El muestreo por conglomerados o clusters es una técnica de muestreo probabilístico en la que la población se divide en grupos o conglomerados, y luego se seleccionan algunos de estos conglomerados al azar para formar la muestra. Una vez seleccionados los conglomerados, se toman mediciones de todos los elementos dentro de los conglomerados seleccionados. Esta técnica se utiliza comúnmente cuando los elementos de la población están agrupados geográficamente o en algún otro sentido.\n",
    "\n",
    "A continuación, te presento un ejemplo de código en Python para realizar un muestreo por conglomerados y graficar los resultados:"
   ]
  },
  {
   "cell_type": "code",
   "execution_count": 4,
   "metadata": {},
   "outputs": [
    {
     "name": "stdout",
     "output_type": "stream",
     "text": [
      "Muestra: [23, 32, 27, 19, 41, 38, 29, 25, 34, 31, 37, 22, 26, 39, 36, 24, 33, 28, 30]\n"
     ]
    },
    {
     "data": {
      "image/png": "[encoded data removed]",
      "text/plain": [
       "<Figure size 432x288 with 1 Axes>"
      ]
     },
     "metadata": {
      "needs_background": "light"
     },
     "output_type": "display_data"
    }
   ],
   "source": [
    "import random\n",
    "import matplotlib.pyplot as plt\n",
    "\n",
    "# Crear una lista de edades por ciudad\n",
    "ciudades = {'Bogotá': [23, 32, 27, 19, 41, 38, 29, 25, 34, 31], \n",
    "            'Medellín': [37, 22, 26, 39, 36, 24, 33, 28, 30]}\n",
    "\n",
    "# Seleccionar 2 conglomerados al azar\n",
    "conglomerados = random.sample(list(ciudades.keys()), 2)\n",
    "\n",
    "# Tomar mediciones de todos los elementos dentro de los conglomerados seleccionados\n",
    "muestra = []\n",
    "for c in conglomerados:\n",
    "    muestra.extend(ciudades[c])\n",
    "\n",
    "# Imprimir la muestra\n",
    "print(\"Muestra:\", muestra)\n",
    "\n",
    "# Crear un histograma de las edades\n",
    "edades = ciudades['Bogotá'] + ciudades['Medellín']\n",
    "plt.hist(edades, bins=10, alpha=0.5, label='Población')\n",
    "plt.hist(muestra, bins=10, alpha=0.5, label='Muestra')\n",
    "plt.legend(loc='upper right')\n",
    "plt.show()\n"
   ]
  },
  {
   "attachments": {},
   "cell_type": "markdown",
   "metadata": {},
   "source": [
    "En este ejemplo, se crea una lista de edades por ciudad y se seleccionan 2 conglomerados al azar utilizando la función ```random.sample()``` de Python. Luego se toman mediciones de todos los elementos dentro de los conglomerados seleccionados utilizando un bucle for y la función ```extend()``` de Python. Finalmente, se imprime la muestra y se grafican los resultados utilizando un histograma. La población completa se representa con una distribución de frecuencia de color azul claro, mientras que la muestra se representa con una distribución de frecuencia de color naranja.\n",
    "\n",
    "Es importante destacar que el muestreo por conglomerados puede ser útil cuando la población se encuentra agrupada geográficamente o en algún otro sentido, pero se debe tener cuidado en la selección de los conglomerados para asegurar que la muestra sea representativa de la población."
   ]
  },
  {
   "attachments": {},
   "cell_type": "markdown",
   "metadata": {},
   "source": [
    "## **Muestreo con Python**"
   ]
  },
  {
   "cell_type": "code",
   "execution_count": 5,
   "metadata": {},
   "outputs": [
    {
     "name": "stdout",
     "output_type": "stream",
     "text": [
      "Muestra: [21, 27, 39, 35, 24]\n"
     ]
    },
    {
     "data": {
      "image/png": "[encoded data removed]",
      "text/plain": [
       "<Figure size 432x288 with 1 Axes>"
      ]
     },
     "metadata": {
      "needs_background": "light"
     },
     "output_type": "display_data"
    }
   ],
   "source": [
    "import random\n",
    "import matplotlib.pyplot as plt\n",
    "\n",
    "# Crear una lista de edades\n",
    "edades = [19, 21, 23, 24, 26, 27, 29, 31, 32, 33, 35, 37, 38, 39, 41]\n",
    "\n",
    "# Seleccionar una muestra aleatoria de tamaño 5\n",
    "muestra = random.sample(edades, 5)\n",
    "\n",
    "# Imprimir la muestra\n",
    "print(\"Muestra:\", muestra)\n",
    "\n",
    "# Crear un histograma de las edades\n",
    "plt.hist(edades, bins=5, alpha=0.5, label='Población')\n",
    "plt.hist(muestra, bins=5, alpha=0.5, label='Muestra')\n",
    "plt.legend(loc='upper right')\n",
    "plt.show()\n"
   ]
  },
  {
   "attachments": {},
   "cell_type": "markdown",
   "metadata": {},
   "source": [
    "En este ejemplo, se crea una lista de edades y se utiliza la función ```random.sample()``` de Python para seleccionar una muestra aleatoria de tamaño 5. Luego, se imprime la muestra y se grafican los resultados utilizando un histograma. La población completa se representa con una distribución de frecuencia de color azul claro, mientras que la muestra se representa con una distribución de frecuencia de color naranja.\n",
    "\n",
    "Es importante destacar que el muestreo aleatorio simple es una técnica de muestreo probabilístico que asegura que cada elemento de la población tenga la misma probabilidad de ser seleccionado en la muestra. Esto permite obtener una muestra representativa de la población y hacer inferencias estadísticas con mayor precisión."
   ]
  },
  {
   "attachments": {},
   "cell_type": "markdown",
   "metadata": {},
   "source": [
    "## **Método Sample de Pandas**"
   ]
  },
  {
   "cell_type": "code",
   "execution_count": 6,
   "metadata": {},
   "outputs": [
    {
     "name": "stdout",
     "output_type": "stream",
     "text": [
      "Muestra:     edad  altura\n",
      "11    37     192\n",
      "0     19     160\n",
      "2     23     170\n",
      "9     33     187\n",
      "13    39     197\n"
     ]
    },
    {
     "data": {
      "image/png": "[encoded data removed]",
      "text/plain": [
       "<Figure size 432x288 with 1 Axes>"
      ]
     },
     "metadata": {
      "needs_background": "light"
     },
     "output_type": "display_data"
    }
   ],
   "source": [
    "import pandas as pd\n",
    "import matplotlib.pyplot as plt\n",
    "\n",
    "# Crear un DataFrame con edades y alturas\n",
    "data = {'edad': [19, 21, 23, 24, 26, 27, 29, 31, 32, 33, 35, 37, 38, 39, 41],\n",
    "        'altura': [160, 165, 170, 172, 175, 177, 180, 182, 185, 187, 190, 192, 195, 197, 200]}\n",
    "df = pd.DataFrame(data)\n",
    "\n",
    "# Seleccionar una muestra aleatoria de tamaño 5\n",
    "muestra = df.sample(n=5)\n",
    "\n",
    "# Imprimir la muestra\n",
    "print(\"Muestra:\", muestra)\n",
    "\n",
    "# Crear un scatterplot de las edades y alturas\n",
    "plt.scatter(df['edad'], df['altura'], alpha=0.5, label='Población')\n",
    "plt.scatter(muestra['edad'], muestra['altura'], color='orange', alpha=1, label='Muestra')\n",
    "plt.legend(loc='upper left')\n",
    "plt.show()\n"
   ]
  },
  {
   "attachments": {},
   "cell_type": "markdown",
   "metadata": {},
   "source": [
    "En este ejemplo, se crea un DataFrame con edades y alturas. Luego, se utiliza el método ```sample()``` de Pandas para seleccionar una muestra aleatoria de tamaño 5. Se imprime la muestra y se grafican los resultados utilizando un scatterplot. La población completa se representa con puntos de color azul claro, mientras que la muestra se representa con puntos de color naranja.\n",
    "\n",
    "Es importante destacar que el método ```sample()``` de Pandas utiliza el muestreo aleatorio simple para seleccionar la muestra. Por lo tanto, cada fila del DataFrame tiene la misma probabilidad de ser seleccionada en la muestra."
   ]
  },
  {
   "attachments": {},
   "cell_type": "markdown",
   "metadata": {},
   "source": [
    "## **Función Choice de Numpy**"
   ]
  },
  {
   "cell_type": "code",
   "execution_count": 7,
   "metadata": {},
   "outputs": [
    {
     "name": "stdout",
     "output_type": "stream",
     "text": [
      "Muestra: [41 23 32 19 39]\n"
     ]
    },
    {
     "data": {
      "image/png": "[encoded data removed]",
      "text/plain": [
       "<Figure size 432x288 with 1 Axes>"
      ]
     },
     "metadata": {
      "needs_background": "light"
     },
     "output_type": "display_data"
    }
   ],
   "source": [
    "import numpy as np\n",
    "import matplotlib.pyplot as plt\n",
    "\n",
    "# Crear un array de edades\n",
    "edades = np.array([19, 21, 23, 24, 26, 27, 29, 31, 32, 33, 35, 37, 38, 39, 41])\n",
    "\n",
    "# Seleccionar una muestra aleatoria de tamaño 5\n",
    "muestra = np.random.choice(edades, size=5, replace=False)\n",
    "\n",
    "# Imprimir la muestra\n",
    "print(\"Muestra:\", muestra)\n",
    "\n",
    "# Crear un histograma de las edades\n",
    "plt.hist(edades, bins=5, alpha=0.5, label='Población')\n",
    "plt.hist(muestra, bins=5, alpha=0.5, label='Muestra')\n",
    "plt.legend(loc='upper right')\n",
    "plt.show()\n"
   ]
  },
  {
   "attachments": {},
   "cell_type": "markdown",
   "metadata": {},
   "source": [
    "En este ejemplo, se crea un array de edades utilizando la función ```numpy.array()```. Luego, se utiliza la función ```numpy.random.choice()``` para seleccionar una muestra aleatoria de tamaño 5. Se imprime la muestra y se grafican los resultados utilizando un histograma. La población completa se representa con una distribución de frecuencia de color azul claro, mientras que la muestra se representa con una distribución de frecuencia de color naranja.\n",
    "\n",
    "Es importante destacar que la función ```numpy.random.choice()``` permite especificar si se permite la selección repetida de elementos ```(replace=True)``` o si se requiere que cada elemento sea seleccionado solo una vez ```(replace=False)```. En el ejemplo anterior, se especificó ```replace=False``` para seleccionar una muestra sin reemplazo."
   ]
  },
  {
   "attachments": {},
   "cell_type": "markdown",
   "metadata": {},
   "source": [
    "| **Inicio** | **atrás 12** | **Siguiente 14** |\n",
    "|----------- |-------------- |---------------|\n",
    "| [🏠](../../README.md) | [⏪](./12.Intervalos_de_Confianza.ipynb)| [⏩](./14.Teorema_del_Limite_Central.ipynb)|"
   ]
  }
 ],
 "metadata": {
  "kernelspec": {
   "display_name": "base",
   "language": "python",
   "name": "python3"
  },
  "language_info": {
   "codemirror_mode": {
    "name": "ipython",
    "version": 3
   },
   "file_extension": ".py",
   "mimetype": "text/x-python",
   "name": "python",
   "nbconvert_exporter": "python",
   "pygments_lexer": "ipython3",
   "version": "3.9.12"
  },
  "orig_nbformat": 4
 },
 "nbformat": 4,
 "nbformat_minor": 2
}
