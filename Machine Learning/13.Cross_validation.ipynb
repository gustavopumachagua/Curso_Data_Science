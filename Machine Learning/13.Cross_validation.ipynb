{
 "cells": [
  {
   "attachments": {},
   "cell_type": "markdown",
   "metadata": {},
   "source": [
    "# **Cross-validation (o Validación Cruzada)**"
   ]
  },
  {
   "attachments": {},
   "cell_type": "markdown",
   "metadata": {},
   "source": [
    "La validación cruzada, también conocida como cross-validation en inglés, es una técnica utilizada en el aprendizaje automático y la estadística para evaluar el rendimiento de un modelo de manera robusta. La idea principal detrás de la validación cruzada es dividir los datos en varios subconjuntos (también llamados \"pliegues\" o \"folds\"), entrenar y evaluar el modelo en cada subconjunto de forma iterativa y promediar los resultados obtenidos.\n",
    "\n",
    "El proceso de validación cruzada suele seguir los siguientes pasos:\n",
    "\n",
    "* Se divide el conjunto de datos en k subconjuntos disjuntos (pliegues).\n",
    "* Se entrena el modelo k veces, cada vez utilizando k-1 pliegues como datos de entrenamiento y el pliegue restante como datos de validación.\n",
    "* Se evalúa el modelo utilizando los datos de validación en cada iteración y se registra la medida de rendimiento (por ejemplo, precisión, sensibilidad, especificidad, etc.).\n",
    "* Se promedian los resultados obtenidos en las k iteraciones para obtener una medida general de rendimiento del modelo.\n",
    "\n",
    "La validación cruzada es útil porque permite obtener una estimación más fiable del rendimiento de un modelo en datos no vistos, evitando el sobreajuste (overfitting) y la subestimación del rendimiento del modelo. Además, la validación cruzada puede utilizarse para ajustar los hiperparámetros del modelo, es decir, los parámetros que no se aprenden a partir de los datos, como la tasa de aprendizaje, la profundidad del árbol, el número de neuronas, etc.\n"
   ]
  },
  {
   "attachments": {},
   "cell_type": "markdown",
   "metadata": {},
   "source": [
    "## **1. Evaluación tradicional**"
   ]
  },
  {
   "attachments": {},
   "cell_type": "markdown",
   "metadata": {},
   "source": [
    "La evaluación tradicional en machine learning se refiere al proceso de entrenar un modelo en un conjunto de datos de entrenamiento y luego evaluar su rendimiento en un conjunto de datos de prueba separado. Este enfoque se conoce como \"evaluación hold-out\".\n",
    "\n",
    "En la evaluación hold-out, se divide el conjunto de datos en dos partes: un conjunto de entrenamiento y un conjunto de prueba. El modelo se entrena en el conjunto de entrenamiento y luego se evalúa en el conjunto de prueba para medir su capacidad para generalizar a datos nuevos y no vistos.\n",
    "\n",
    "La evaluación tradicional tiene la ventaja de ser simple y fácil de implementar. Sin embargo, presenta algunos problemas, como la posibilidad de sobreajuste al conjunto de entrenamiento y la dependencia de la elección aleatoria de los datos de entrenamiento y prueba.\n",
    "\n",
    "Para superar estos problemas, se han desarrollado técnicas más avanzadas de evaluación, como la validación cruzada y el bootstrap. Estas técnicas permiten una evaluación más precisa y robusta del modelo."
   ]
  },
  {
   "attachments": {},
   "cell_type": "markdown",
   "metadata": {},
   "source": [
    "## **2. Validación cruzada ¿Por qué?**"
   ]
  },
  {
   "attachments": {},
   "cell_type": "markdown",
   "metadata": {},
   "source": [
    "La validación cruzada es una técnica para evaluar el rendimiento de un modelo de machine learning que permite superar algunos de los problemas asociados con la evaluación tradicional. En particular, la validación cruzada se utiliza para abordar dos problemas importantes:\n",
    "\n",
    "* Variabilidad en la selección del conjunto de entrenamiento y prueba: En la evaluación tradicional, la selección aleatoria de los datos de entrenamiento y prueba puede llevar a resultados diferentes cada vez que se ejecuta el modelo. La validación cruzada utiliza múltiples conjuntos de entrenamiento y prueba para reducir la variabilidad en los resultados.\n",
    "\n",
    "* Uso eficiente de los datos: En la evaluación tradicional, una parte de los datos se reserva para la evaluación y no se utiliza para entrenar el modelo. Esto puede ser problemático si el conjunto de datos es pequeño. La validación cruzada utiliza todos los datos para entrenar y evaluar el modelo.\n",
    "\n",
    "La validación cruzada funciona dividiendo los datos en k grupos o \"pliegues\" y entrenando el modelo k veces, cada vez utilizando un grupo diferente como conjunto de prueba y los k-1 grupos restantes como conjunto de entrenamiento. Los resultados se promedian para obtener una estimación más precisa del rendimiento del modelo.\n",
    "\n",
    "En resumen, la validación cruzada es una técnica importante para evaluar el rendimiento de un modelo de manera robusta y precisa, especialmente cuando los conjuntos de datos son pequeños o hay una gran variabilidad en los resultados."
   ]
  },
  {
   "attachments": {},
   "cell_type": "markdown",
   "metadata": {},
   "source": [
    "## **3. Validación cruzada ¿Cómo?**"
   ]
  },
  {
   "attachments": {},
   "cell_type": "markdown",
   "metadata": {},
   "source": [
    "La validación cruzada es una técnica para evaluar el rendimiento de un modelo de machine learning que implica dividir los datos en k grupos o \"pliegues\" y entrenar el modelo k veces, cada vez utilizando un grupo diferente como conjunto de prueba y los k-1 grupos restantes como conjunto de entrenamiento. Los resultados se promedian para obtener una estimación más precisa del rendimiento del modelo.\n",
    "\n",
    "El proceso de validación cruzada se puede dividir en los siguientes pasos:\n",
    "\n",
    "1. Dividir los datos en k pliegues: Los datos se dividen en k grupos aproximadamente iguales. Generalmente, se utilizan valores comunes para k, como 5 o 10.\n",
    "\n",
    "2. Entrenar el modelo k veces: El modelo se entrena k veces, cada vez utilizando un grupo diferente como conjunto de prueba y los k-1 grupos restantes como conjunto de entrenamiento.\n",
    "\n",
    "3. Evaluar el rendimiento del modelo: Después de cada entrenamiento, se evalúa el rendimiento del modelo en el conjunto de prueba. Se registra la métrica de rendimiento, como el error cuadrático medio o la precisión, para cada ejecución del modelo.\n",
    "\n",
    "4. Calcular el rendimiento promedio del modelo: Los resultados se promedian para obtener una estimación más precisa del rendimiento del modelo. Se puede calcular la media y la desviación estándar de las métricas de rendimiento para tener una idea de la precisión del modelo.\n",
    "\n",
    "5. Ajustar el modelo y repetir: Si se encuentra que el modelo no está funcionando bien, se puede ajustar y volver a entrenar el modelo k veces para obtener una mejor estimación del rendimiento.\n",
    "\n",
    "En resumen, la validación cruzada es una técnica importante para evaluar el rendimiento de un modelo de manera robusta y precisa. Al dividir los datos en k pliegues y entrenar el modelo k veces, se obtiene una mejor estimación del rendimiento del modelo que con la evaluación tradicional. La validación cruzada es particularmente útil cuando los conjuntos de datos son pequeños o hay una gran variabilidad en los resultados."
   ]
  },
  {
   "attachments": {},
   "cell_type": "markdown",
   "metadata": {},
   "source": [
    "## **4. Implementación con SkLearn**"
   ]
  },
  {
   "attachments": {},
   "cell_type": "markdown",
   "metadata": {},
   "source": [
    "La implementación de la validación cruzada en SkLearn es bastante sencilla y se puede hacer utilizando la función ```cross_val_score()``` del módulo ```model_selection```. Para ilustrar la implementación, se puede utilizar el conjunto de datos de iris y un modelo de clasificación ```KNeighborsClassifier```.\n",
    "\n",
    "El siguiente es un ejemplo de cómo implementar la validación cruzada con SkLearn y graficar los resultados:"
   ]
  },
  {
   "cell_type": "code",
   "execution_count": 3,
   "metadata": {},
   "outputs": [
    {
     "name": "stdout",
     "output_type": "stream",
     "text": [
      "Precisión: 0.97 (+/- 0.09)\n"
     ]
    },
    {
     "data": {
      "image/png": "[encoded data removed]",
      "text/plain": [
       "<Figure size 432x288 with 1 Axes>"
      ]
     },
     "metadata": {
      "needs_background": "light"
     },
     "output_type": "display_data"
    }
   ],
   "source": [
    "from sklearn.datasets import load_iris\n",
    "from sklearn.neighbors import KNeighborsClassifier\n",
    "from sklearn.model_selection import cross_val_score\n",
    "import matplotlib.pyplot as plt\n",
    "\n",
    "# Cargar el conjunto de datos de iris\n",
    "iris = load_iris()\n",
    "X = iris.data\n",
    "y = iris.target\n",
    "\n",
    "# Crear un modelo de clasificación KNeighborsClassifier\n",
    "model = KNeighborsClassifier(n_neighbors=3)\n",
    "\n",
    "# Aplicar validación cruzada con 10 pliegues\n",
    "scores = cross_val_score(model, X, y, cv=10)\n",
    "\n",
    "# Imprimir los resultados de la validación cruzada\n",
    "print(\"Precisión: %0.2f (+/- %0.2f)\" % (scores.mean(), scores.std() * 2))\n",
    "\n",
    "# Graficar los resultados de la validación cruzada\n",
    "plt.plot(range(1, 11), scores)\n",
    "plt.xlabel('Número de pliegues')\n",
    "plt.ylabel('Precisión')\n",
    "plt.show()\n"
   ]
  },
  {
   "attachments": {},
   "cell_type": "markdown",
   "metadata": {},
   "source": [
    "En este ejemplo, se carga el conjunto de datos de iris, se crea un modelo de clasificación ```KNeighborsClassifier``` y se aplica la validación cruzada con 10 pliegues utilizando la función ```cross_val_score()```. Luego, se imprime la precisión media y la desviación estándar de la validación cruzada.\n",
    "\n",
    "Finalmente, se grafican los resultados de la validación cruzada utilizando la librería Matplotlib, donde se muestra la precisión del modelo para cada uno de los 10 pliegues.\n",
    "\n",
    "La gráfica resultante muestra cómo la precisión del modelo varía según el número de pliegues utilizados en la validación cruzada. En este ejemplo, la precisión promedio es de aproximadamente 0.97, lo que sugiere que el modelo de clasificación es bastante bueno en la clasificación de las muestras de iris."
   ]
  }
 ],
 "metadata": {
  "kernelspec": {
   "display_name": "base",
   "language": "python",
   "name": "python3"
  },
  "language_info": {
   "codemirror_mode": {
    "name": "ipython",
    "version": 3
   },
   "file_extension": ".py",
   "mimetype": "text/x-python",
   "name": "python",
   "nbconvert_exporter": "python",
   "pygments_lexer": "ipython3",
   "version": "3.9.12"
  },
  "orig_nbformat": 4
 },
 "nbformat": 4,
 "nbformat_minor": 2
}
