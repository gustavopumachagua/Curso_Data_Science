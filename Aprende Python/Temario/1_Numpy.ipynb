{
 "cells": [
  {
   "cell_type": "markdown",
   "metadata": {},
   "source": [
    "| **Inicio** | **Siguiente 2** |\n",
    "|----------- |-------------- |\n",
    "| [🏠](../../README.md) | [⏩](./2_Pandas.ipynb)|"
   ]
  },
  {
   "cell_type": "markdown",
   "metadata": {},
   "source": [
    "# **Numpy**"
   ]
  },
  {
   "cell_type": "markdown",
   "metadata": {},
   "source": [
    "Numpy es el paquete fundamental para computación científica en Python y manejo de arrays numéricos multi-dimensionales.\n",
    "\n",
    "`pip install numpy`\n",
    "\n",
    "La forma más común de importar esta librería es usar el alias `np`:\n",
    "\n",
    "`import numpy as np`"
   ]
  },
  {
   "cell_type": "markdown",
   "metadata": {},
   "source": [
    "## **ndarray**"
   ]
  },
  {
   "cell_type": "markdown",
   "metadata": {},
   "source": [
    "En el núcleo de Numpy está el `ndarray`, donde `nd` es por n-dimensional. Un ndarray es un array multidimensional de elementos del mismo tipo.\n",
    "\n",
    "Aquí tenemos una diferencia fundamental con las listas en Python que pueden mantener objetos heterogéneos. Y esta característica propicia que el rendimiento de un ndarray sea bastante mejor que el de una lista convencional.\n",
    "\n",
    "Para crear un array podemos usar:"
   ]
  },
  {
   "cell_type": "code",
   "execution_count": 1,
   "metadata": {},
   "outputs": [
    {
     "data": {
      "text/plain": [
       "array([1, 2, 3, 4, 5])"
      ]
     },
     "execution_count": 1,
     "metadata": {},
     "output_type": "execute_result"
    }
   ],
   "source": [
    "import numpy as np\n",
    "\n",
    "x = np.array([1, 2, 3, 4, 5])\n",
    "x"
   ]
  },
  {
   "cell_type": "code",
   "execution_count": 2,
   "metadata": {},
   "outputs": [
    {
     "data": {
      "text/plain": [
       "numpy.ndarray"
      ]
     },
     "execution_count": 2,
     "metadata": {},
     "output_type": "execute_result"
    }
   ],
   "source": [
    "type(x)"
   ]
  },
  {
   "cell_type": "markdown",
   "metadata": {},
   "source": [
    "Si queremos obtener información sobre el array creado, podemos acceder a distintos atributos del mismo:"
   ]
  },
  {
   "cell_type": "code",
   "execution_count": 3,
   "metadata": {},
   "outputs": [
    {
     "data": {
      "text/plain": [
       "1"
      ]
     },
     "execution_count": 3,
     "metadata": {},
     "output_type": "execute_result"
    }
   ],
   "source": [
    "x.ndim # dimensión"
   ]
  },
  {
   "cell_type": "code",
   "execution_count": 4,
   "metadata": {},
   "outputs": [
    {
     "data": {
      "text/plain": [
       "5"
      ]
     },
     "execution_count": 4,
     "metadata": {},
     "output_type": "execute_result"
    }
   ],
   "source": [
    "x.size # tamaño total del array"
   ]
  },
  {
   "cell_type": "code",
   "execution_count": 5,
   "metadata": {},
   "outputs": [
    {
     "data": {
      "text/plain": [
       "(5,)"
      ]
     },
     "execution_count": 5,
     "metadata": {},
     "output_type": "execute_result"
    }
   ],
   "source": [
    "x.shape # forma"
   ]
  },
  {
   "cell_type": "code",
   "execution_count": 6,
   "metadata": {},
   "outputs": [
    {
     "data": {
      "text/plain": [
       "dtype('int64')"
      ]
     },
     "execution_count": 6,
     "metadata": {},
     "output_type": "execute_result"
    }
   ],
   "source": [
    "x.dtype # tipo de sus elementos"
   ]
  },
  {
   "cell_type": "markdown",
   "metadata": {},
   "source": [
    "## **Datos heterogéneos**"
   ]
  },
  {
   "cell_type": "markdown",
   "metadata": {},
   "source": [
    "Hemos dicho que los ndarray son estructuras de datos que almacenan un único tipo de datos. A pesar de esto, es posible crear un array con los siguientes valore:"
   ]
  },
  {
   "cell_type": "code",
   "execution_count": 7,
   "metadata": {},
   "outputs": [],
   "source": [
    "x = np.array([4, 'Einstein', 1e-7])"
   ]
  },
  {
   "cell_type": "markdown",
   "metadata": {},
   "source": [
    "Aunque, a prioro, puede parecer que estamos mezclando tipos enteros, flotantes y cadenas de texto, lo que realmente se produce (de forma implícita) es una coerción de tipos **Unicode**:"
   ]
  },
  {
   "cell_type": "code",
   "execution_count": 8,
   "metadata": {},
   "outputs": [
    {
     "data": {
      "text/plain": [
       "array(['4', 'Einstein', '1e-07'], dtype='<U32')"
      ]
     },
     "execution_count": 8,
     "metadata": {},
     "output_type": "execute_result"
    }
   ],
   "source": [
    "x"
   ]
  },
  {
   "cell_type": "code",
   "execution_count": 9,
   "metadata": {},
   "outputs": [
    {
     "data": {
      "text/plain": [
       "dtype('<U32')"
      ]
     },
     "execution_count": 9,
     "metadata": {},
     "output_type": "execute_result"
    }
   ],
   "source": [
    "x.dtype"
   ]
  },
  {
   "cell_type": "markdown",
   "metadata": {},
   "source": [
    "## **Tipos de datos**"
   ]
  },
  {
   "cell_type": "markdown",
   "metadata": {},
   "source": [
    "Numpy maneja gran cantidad de tipos de datos. A diferencia de los tipos de datos numéricos en Python que no establecen un tamaño de bytes de almacenamiento, aquí sí hay una diferencia clara.\n",
    "\n",
    "Algunos de los tipos de datos numéricos en Numpy se presentan en la siguiente tabla:"
   ]
  },
  {
   "cell_type": "markdown",
   "metadata": {},
   "source": [
    "| **dtype** | **Descripción** | **Rango** |\n",
    "|--- |--- |--- |\n",
    "| np.int32 | Integer | De -2147483648 a 2147483647 |\n",
    "| np.int64 | Integer | De -9223372036854775808 a 9223372036854775807|\n",
    "|np.uint32|Unsigned integer|De 0 a 4294967295|\n",
    "|np.uint64|Unsigned integer|De 0 a 18446744073709551615|\n",
    "|np.float32|Float|De -3.4028235e+38 a 3.4028235e+38|\n",
    "|np.float64|Float|De -1.7976931348623157e+308 a 1.7976931348623157e+308|"
   ]
  },
  {
   "cell_type": "markdown",
   "metadata": {},
   "source": [
    "> **Truco**\n",
    ">\n",
    "> Numpy entiende por defecto que `int` hace referencia a `np.int64` y que `float` hace referencia a `np.float64`. Estos son alias bastante utilizados.\n"
   ]
  },
  {
   "cell_type": "markdown",
   "metadata": {},
   "source": [
    "Si creamos un array de números enteros, el tipo de datos por defecto será `int64`:"
   ]
  },
  {
   "cell_type": "code",
   "execution_count": 10,
   "metadata": {},
   "outputs": [
    {
     "data": {
      "text/plain": [
       "array([0, 1, 2, 3, 4, 5, 6, 7, 8, 9])"
      ]
     },
     "execution_count": 10,
     "metadata": {},
     "output_type": "execute_result"
    }
   ],
   "source": [
    "a = np.array(range(10))\n",
    "a"
   ]
  },
  {
   "cell_type": "code",
   "execution_count": 11,
   "metadata": {},
   "outputs": [
    {
     "data": {
      "text/plain": [
       "dtype('int64')"
      ]
     },
     "execution_count": 11,
     "metadata": {},
     "output_type": "execute_result"
    }
   ],
   "source": [
    "a.dtype"
   ]
  },
  {
   "cell_type": "markdown",
   "metadata": {},
   "source": [
    "Sin embargo podemos especificar el tipo de datos que nos interese:"
   ]
  },
  {
   "cell_type": "code",
   "execution_count": 12,
   "metadata": {},
   "outputs": [
    {
     "data": {
      "text/plain": [
       "array([0, 1, 2, 3, 4, 5, 6, 7, 8, 9], dtype=int32)"
      ]
     },
     "execution_count": 12,
     "metadata": {},
     "output_type": "execute_result"
    }
   ],
   "source": [
    "b = np.array(range(10), dtype = 'int32') # 'int32' hace referencia a np.int32\n",
    "b"
   ]
  },
  {
   "cell_type": "code",
   "execution_count": 13,
   "metadata": {},
   "outputs": [
    {
     "data": {
      "text/plain": [
       "dtype('int32')"
      ]
     },
     "execution_count": 13,
     "metadata": {},
     "output_type": "execute_result"
    }
   ],
   "source": [
    "b.dtype"
   ]
  },
  {
   "cell_type": "markdown",
   "metadata": {},
   "source": [
    "Lo mismo ocurre con valores flotantes, donde `float64` es el tipo de datos por defecto.\n",
    "\n",
    "Es posible convertir el tipo de datos que almacena un array mediante el método `astype`.\n",
    "\n",
    "Por ejemplo:"
   ]
  },
  {
   "cell_type": "code",
   "execution_count": 14,
   "metadata": {},
   "outputs": [
    {
     "data": {
      "text/plain": [
       "array([0, 1, 2, 3, 4, 5, 6, 7, 8, 9])"
      ]
     },
     "execution_count": 14,
     "metadata": {},
     "output_type": "execute_result"
    }
   ],
   "source": [
    "a"
   ]
  },
  {
   "cell_type": "code",
   "execution_count": 15,
   "metadata": {},
   "outputs": [
    {
     "data": {
      "text/plain": [
       "dtype('float64')"
      ]
     },
     "execution_count": 15,
     "metadata": {},
     "output_type": "execute_result"
    }
   ],
   "source": [
    "c = a.astype(float)\n",
    "c.dtype"
   ]
  },
  {
   "cell_type": "markdown",
   "metadata": {},
   "source": [
    "## **ndarray vs list**"
   ]
  },
  {
   "cell_type": "markdown",
   "metadata": {},
   "source": [
    "Como ya se ha comentado en la intoducción de esta sección, el uso de `ndarray` frente a `list` está justificado por cuestiones de rendimiento. Pero veamos un ejemplo clarificador en el que sumamos 10 millones de valores enteros:"
   ]
  },
  {
   "cell_type": "code",
   "execution_count": 17,
   "metadata": {},
   "outputs": [],
   "source": [
    "array_as_list = list(range(int(10e6)))\n",
    "array_as_ndarray = np.array(array_as_list)"
   ]
  },
  {
   "cell_type": "code",
   "execution_count": 18,
   "metadata": {},
   "outputs": [
    {
     "name": "stdout",
     "output_type": "stream",
     "text": [
      "287 ms ± 26.9 ms per loop (mean ± std. dev. of 7 runs, 1 loop each)\n"
     ]
    }
   ],
   "source": [
    "%timeit sum(array_as_list)"
   ]
  },
  {
   "cell_type": "code",
   "execution_count": 19,
   "metadata": {},
   "outputs": [
    {
     "name": "stdout",
     "output_type": "stream",
     "text": [
      "32.4 ms ± 8.7 ms per loop (mean ± std. dev. of 7 runs, 10 loops each)\n"
     ]
    }
   ],
   "source": [
    "%timeit array_as_ndarray.sum()"
   ]
  },
  {
   "cell_type": "markdown",
   "metadata": {},
   "source": [
    "> **Nota:**\n",
    ">\n",
    "> El cómputo es casi 12 veces más rápido utilizando ndarray frente a listas clásicas.\n"
   ]
  },
  {
   "cell_type": "markdown",
   "metadata": {},
   "source": [
    "En cualquier caso, existe la posibilidad de convertir a lista cualquier ndarray mediante el método `tolist()`:"
   ]
  },
  {
   "cell_type": "code",
   "execution_count": 20,
   "metadata": {},
   "outputs": [
    {
     "data": {
      "text/plain": [
       "array([10, 20, 30])"
      ]
     },
     "execution_count": 20,
     "metadata": {},
     "output_type": "execute_result"
    }
   ],
   "source": [
    "a = np.array([10, 20, 30])\n",
    "a"
   ]
  },
  {
   "cell_type": "code",
   "execution_count": 21,
   "metadata": {},
   "outputs": [
    {
     "data": {
      "text/plain": [
       "[10, 20, 30]"
      ]
     },
     "execution_count": 21,
     "metadata": {},
     "output_type": "execute_result"
    }
   ],
   "source": [
    "b = a.tolist()\n",
    "b"
   ]
  },
  {
   "cell_type": "code",
   "execution_count": 22,
   "metadata": {},
   "outputs": [
    {
     "data": {
      "text/plain": [
       "list"
      ]
     },
     "execution_count": 22,
     "metadata": {},
     "output_type": "execute_result"
    }
   ],
   "source": [
    "type(b)"
   ]
  },
  {
   "cell_type": "markdown",
   "metadata": {},
   "source": [
    "## **Matrices**"
   ]
  },
  {
   "cell_type": "markdown",
   "metadata": {},
   "source": [
    "Una matriz no es más que un array bidimensional. Como ya se ha comentado, Numpy provee `ndarray` que se comporta como un array multidimensional con lo que podríamos crear una matriz sin mayor problema.\n",
    "\n",
    "Veamos un ejemplo en el que tratamos de construir la siguiente matriz:"
   ]
  },
  {
   "cell_type": "markdown",
   "metadata": {},
   "source": [
    "\\begin{equation*}\n",
    "M =\n",
    "\\begin{bmatrix}\n",
    "1 & 2 & 3 \\\\\n",
    "4 & 5 & 6 \\\\\n",
    "7 & 8 & 9 \\\\\n",
    "10 & 11 & 12\n",
    "\\end{bmatrix}\n",
    "\\end{equation*}"
   ]
  },
  {
   "cell_type": "markdown",
   "metadata": {},
   "source": [
    "Nos apoyamos en una lista de listas para la creación de la matriz:"
   ]
  },
  {
   "cell_type": "code",
   "execution_count": 24,
   "metadata": {},
   "outputs": [
    {
     "data": {
      "text/plain": [
       "array([[ 1,  2,  3],\n",
       "       [ 4,  5,  6],\n",
       "       [ 7,  8,  9],\n",
       "       [10, 11, 12]])"
      ]
     },
     "execution_count": 24,
     "metadata": {},
     "output_type": "execute_result"
    }
   ],
   "source": [
    "M = np.array([[1, 2, 3], [4, 5, 6], [7, 8, 9], [10, 11, 12]])\n",
    "M"
   ]
  },
  {
   "cell_type": "code",
   "execution_count": 25,
   "metadata": {},
   "outputs": [
    {
     "data": {
      "text/plain": [
       "2"
      ]
     },
     "execution_count": 25,
     "metadata": {},
     "output_type": "execute_result"
    }
   ],
   "source": [
    "M.ndim # bidimensional"
   ]
  },
  {
   "cell_type": "code",
   "execution_count": 26,
   "metadata": {},
   "outputs": [
    {
     "data": {
      "text/plain": [
       "12"
      ]
     },
     "execution_count": 26,
     "metadata": {},
     "output_type": "execute_result"
    }
   ],
   "source": [
    "M.size"
   ]
  },
  {
   "cell_type": "code",
   "execution_count": 27,
   "metadata": {},
   "outputs": [
    {
     "data": {
      "text/plain": [
       "(4, 3)"
      ]
     },
     "execution_count": 27,
     "metadata": {},
     "output_type": "execute_result"
    }
   ],
   "source": [
    "M.shape # 4 filas x 3 columnas"
   ]
  },
  {
   "cell_type": "code",
   "execution_count": 28,
   "metadata": {},
   "outputs": [
    {
     "data": {
      "text/plain": [
       "dtype('int64')"
      ]
     },
     "execution_count": 28,
     "metadata": {},
     "output_type": "execute_result"
    }
   ],
   "source": [
    "M.dtype"
   ]
  },
  {
   "cell_type": "markdown",
   "metadata": {},
   "source": [
    "> **Ejercicio**"
   ]
  },
  {
   "cell_type": "markdown",
   "metadata": {},
   "source": [
    "Cree los siguientes arrays en Numpy:\n",
    "\n",
    "\\begin{equation*}\n",
    "array1 =\n",
    "\\begin{bmatrix}\n",
    "88 & 23 & 39 & 41\n",
    "\\end{bmatrix}\n",
    "\\end{equation*}\n",
    "\n",
    "\\begin{equation*}\n",
    "array2 =\n",
    "\\begin{bmatrix}\n",
    "76.4 & 21.7 & 38.4 \\\\\n",
    "41.2 & 52.8 & 68.9\n",
    "\\end{bmatrix}\n",
    "\\end{equation*}\n",
    "\n",
    "\\begin{equation*}\n",
    "array3 =\n",
    "\\begin{bmatrix}\n",
    "12 \\\\\n",
    "4 \\\\\n",
    "9 \\\\\n",
    "8\n",
    "\\end{bmatrix}\n",
    "\\end{equation*}"
   ]
  },
  {
   "cell_type": "markdown",
   "metadata": {},
   "source": [
    "Obtenga igualmente las siguientes características de cada uno de ellos: dimensión, tamaño, forma y tipo de sus elementos."
   ]
  },
  {
   "cell_type": "code",
   "execution_count": 29,
   "metadata": {},
   "outputs": [
    {
     "name": "stdout",
     "output_type": "stream",
     "text": [
      "Array1:\n",
      "Dimensión: 1\n",
      "Tamaño: 4\n",
      "Forma: (4,)\n",
      "Tipo de elementos: int64\n",
      "\n",
      "\n",
      "Array2:\n",
      "Dimensión: 2\n",
      "Tamaño: 6\n",
      "Forma: (2, 3)\n",
      "Tipo de elementos: float64\n",
      "\n",
      "\n",
      "Array3:\n",
      "Dimensión: 2\n",
      "Tamaño: 4\n",
      "Forma: (4, 1)\n",
      "Tipo de elementos: int64\n"
     ]
    }
   ],
   "source": [
    "import numpy as np\n",
    "\n",
    "# Crear los arrays\n",
    "array1 = np.array([88, 23, 39, 41])\n",
    "\n",
    "array2 = np.array([[76.4, 21.7, 38.4],\n",
    "                   [41.2, 52.8, 68.9]])\n",
    "\n",
    "array3 = np.array([[12],\n",
    "                   [4],\n",
    "                   [9],\n",
    "                   [8]])\n",
    "\n",
    "# Obtener las características de cada array\n",
    "dim1 = array1.ndim  # Dimensión\n",
    "size1 = array1.size  # Tamaño\n",
    "shape1 = array1.shape  # Forma\n",
    "dtype1 = array1.dtype  # Tipo de elementos\n",
    "\n",
    "dim2 = array2.ndim\n",
    "size2 = array2.size\n",
    "shape2 = array2.shape\n",
    "dtype2 = array2.dtype\n",
    "\n",
    "dim3 = array3.ndim\n",
    "size3 = array3.size\n",
    "shape3 = array3.shape\n",
    "dtype3 = array3.dtype\n",
    "\n",
    "# Imprimir las características de cada array\n",
    "print(\"Array1:\")\n",
    "print(\"Dimensión:\", dim1)\n",
    "print(\"Tamaño:\", size1)\n",
    "print(\"Forma:\", shape1)\n",
    "print(\"Tipo de elementos:\", dtype1)\n",
    "print(\"\\n\")\n",
    "\n",
    "print(\"Array2:\")\n",
    "print(\"Dimensión:\", dim2)\n",
    "print(\"Tamaño:\", size2)\n",
    "print(\"Forma:\", shape2)\n",
    "print(\"Tipo de elementos:\", dtype2)\n",
    "print(\"\\n\")\n",
    "\n",
    "print(\"Array3:\")\n",
    "print(\"Dimensión:\", dim3)\n",
    "print(\"Tamaño:\", size3)\n",
    "print(\"Forma:\", shape3)\n",
    "print(\"Tipo de elementos:\", dtype3)"
   ]
  },
  {
   "cell_type": "markdown",
   "metadata": {},
   "source": [
    "## **Cambiando la forma**"
   ]
  },
  {
   "cell_type": "markdown",
   "metadata": {},
   "source": [
    "Dado un array, podemos cambiar su forma mediante la funcion `np.reshape()`:"
   ]
  },
  {
   "cell_type": "code",
   "execution_count": 30,
   "metadata": {},
   "outputs": [
    {
     "data": {
      "text/plain": [
       "array([[ 1,  2,  3,  4],\n",
       "       [ 5,  6,  7,  8],\n",
       "       [ 9, 10, 11, 12]])"
      ]
     },
     "execution_count": 30,
     "metadata": {},
     "output_type": "execute_result"
    }
   ],
   "source": [
    "a = np.array([1, 2, 3, 4, 5, 6, 7, 8, 9, 10, 11, 12])\n",
    "np.reshape(a, (3, 4)) # 3 x 4"
   ]
  },
  {
   "cell_type": "markdown",
   "metadata": {},
   "source": [
    "Si sólo queremos especificar un número determinado de filas o columnas, podemos dejar la otra dimensión a -1:"
   ]
  },
  {
   "cell_type": "code",
   "execution_count": 31,
   "metadata": {},
   "outputs": [
    {
     "data": {
      "text/plain": [
       "array([[ 1,  2],\n",
       "       [ 3,  4],\n",
       "       [ 5,  6],\n",
       "       [ 7,  8],\n",
       "       [ 9, 10],\n",
       "       [11, 12]])"
      ]
     },
     "execution_count": 31,
     "metadata": {},
     "output_type": "execute_result"
    }
   ],
   "source": [
    "np.reshape(a, (6, -1)) # 6 filas"
   ]
  },
  {
   "cell_type": "code",
   "execution_count": 32,
   "metadata": {},
   "outputs": [
    {
     "data": {
      "text/plain": [
       "array([[ 1,  2,  3],\n",
       "       [ 4,  5,  6],\n",
       "       [ 7,  8,  9],\n",
       "       [10, 11, 12]])"
      ]
     },
     "execution_count": 32,
     "metadata": {},
     "output_type": "execute_result"
    }
   ],
   "source": [
    "np.reshape(a, (-1, 3)) # 3 columnas"
   ]
  },
  {
   "cell_type": "markdown",
   "metadata": {},
   "source": [
    "> **Advertencia**\n",
    ">\n",
    "> En el caso de que no exista posibilidad de cambiar la forma del array por el número de filas y/o columnas especificado, obtendremos un error de tipo `ValueError: cannot reshape array`."
   ]
  },
  {
   "cell_type": "markdown",
   "metadata": {},
   "source": [
    "## **Almacenando arrays**"
   ]
  },
  {
   "cell_type": "markdown",
   "metadata": {},
   "source": [
    "Es posible que nos interese almacenar (de forma persistente) los arrays que hemos ido creando. Para ello Numpy nos provee, al menos, de dos mecanismos:"
   ]
  },
  {
   "cell_type": "markdown",
   "metadata": {},
   "source": [
    "### **Almacenamiento en forma binario propio**"
   ]
  },
  {
   "cell_type": "markdown",
   "metadata": {},
   "source": [
    "Mediante el método `save()` podemos guardar la estructura de datos en `ficheros.npy`. Veamos un ejemplo:"
   ]
  },
  {
   "cell_type": "code",
   "execution_count": 33,
   "metadata": {},
   "outputs": [
    {
     "data": {
      "text/plain": [
       "array([[ 1,  2,  3],\n",
       "       [ 4,  5,  6],\n",
       "       [ 7,  8,  9],\n",
       "       [10, 11, 12]])"
      ]
     },
     "execution_count": 33,
     "metadata": {},
     "output_type": "execute_result"
    }
   ],
   "source": [
    "M"
   ]
  },
  {
   "cell_type": "code",
   "execution_count": 34,
   "metadata": {},
   "outputs": [],
   "source": [
    "np.save('my_matrix', M)"
   ]
  },
  {
   "cell_type": "code",
   "execution_count": 35,
   "metadata": {},
   "outputs": [
    {
     "name": "stdout",
     "output_type": "stream",
     "text": [
      "my_matrix.npy\n"
     ]
    }
   ],
   "source": [
    "!ls my_matrix.npy"
   ]
  },
  {
   "cell_type": "code",
   "execution_count": 36,
   "metadata": {},
   "outputs": [],
   "source": [
    "M_reloaded = np.load('my_matrix.npy')"
   ]
  },
  {
   "cell_type": "code",
   "execution_count": 37,
   "metadata": {},
   "outputs": [
    {
     "data": {
      "text/plain": [
       "array([[ 1,  2,  3],\n",
       "       [ 4,  5,  6],\n",
       "       [ 7,  8,  9],\n",
       "       [10, 11, 12]])"
      ]
     },
     "execution_count": 37,
     "metadata": {},
     "output_type": "execute_result"
    }
   ],
   "source": [
    "M_reloaded"
   ]
  },
  {
   "cell_type": "markdown",
   "metadata": {},
   "source": [
    "### **Almacenamiento en formato de texto plano**"
   ]
  },
  {
   "cell_type": "markdown",
   "metadata": {},
   "source": [
    "Numpy proporciona el metodo `savetxt()` con el que podremos volcar la estructura de datos a un fichero de texto csv. Veamos un ejemplo:"
   ]
  },
  {
   "cell_type": "code",
   "execution_count": 38,
   "metadata": {},
   "outputs": [
    {
     "data": {
      "text/plain": [
       "array([[ 1,  2,  3],\n",
       "       [ 4,  5,  6],\n",
       "       [ 7,  8,  9],\n",
       "       [10, 11, 12]])"
      ]
     },
     "execution_count": 38,
     "metadata": {},
     "output_type": "execute_result"
    }
   ],
   "source": [
    "M"
   ]
  },
  {
   "cell_type": "code",
   "execution_count": 39,
   "metadata": {},
   "outputs": [],
   "source": [
    "np.savetxt('my_matrix.csv', M, fmt='%d')"
   ]
  },
  {
   "cell_type": "code",
   "execution_count": 40,
   "metadata": {},
   "outputs": [
    {
     "name": "stdout",
     "output_type": "stream",
     "text": [
      "1 2 3\n",
      "4 5 6\n",
      "7 8 9\n",
      "10 11 12\n"
     ]
    }
   ],
   "source": [
    "!cat my_matrix.csv"
   ]
  },
  {
   "cell_type": "code",
   "execution_count": 41,
   "metadata": {},
   "outputs": [],
   "source": [
    "M_reloaded = np.loadtxt('my_matrix.csv', dtype = int)"
   ]
  },
  {
   "cell_type": "code",
   "execution_count": 42,
   "metadata": {},
   "outputs": [
    {
     "data": {
      "text/plain": [
       "array([[ 1,  2,  3],\n",
       "       [ 4,  5,  6],\n",
       "       [ 7,  8,  9],\n",
       "       [10, 11, 12]])"
      ]
     },
     "execution_count": 42,
     "metadata": {},
     "output_type": "execute_result"
    }
   ],
   "source": [
    "M_reloaded"
   ]
  },
  {
   "cell_type": "markdown",
   "metadata": {},
   "source": [
    "> **Truco**\n",
    ">\n",
    "> Por defecto el almacenamiento y la carga de arrays en formato texto usa tipos de datos flotantes.\n",
    ">\n",
    "> Es por ello que hemos usado el parámetro `fmt` en el almacenamiento y el parámetro `dtype` en la carga."
   ]
  },
  {
   "cell_type": "markdown",
   "metadata": {},
   "source": [
    "Es posible cargar un array desempaquetando sus valores a través del parámetro `unpack`. En el siguiente ejemplo separamos las columnas en tres variables diferentes:"
   ]
  },
  {
   "cell_type": "code",
   "execution_count": 43,
   "metadata": {},
   "outputs": [
    {
     "data": {
      "text/plain": [
       "array([[ 1,  2,  3],\n",
       "       [ 4,  5,  6],\n",
       "       [ 7,  8,  9],\n",
       "       [10, 11, 12]])"
      ]
     },
     "execution_count": 43,
     "metadata": {},
     "output_type": "execute_result"
    }
   ],
   "source": [
    "M"
   ]
  },
  {
   "cell_type": "code",
   "execution_count": 44,
   "metadata": {},
   "outputs": [],
   "source": [
    "col1, col2, col3 = np.loadtxt('my_matrix.csv', unpack=True, dtype=int)"
   ]
  },
  {
   "cell_type": "code",
   "execution_count": 45,
   "metadata": {},
   "outputs": [
    {
     "data": {
      "text/plain": [
       "array([ 1,  4,  7, 10])"
      ]
     },
     "execution_count": 45,
     "metadata": {},
     "output_type": "execute_result"
    }
   ],
   "source": [
    "col1"
   ]
  },
  {
   "cell_type": "code",
   "execution_count": 46,
   "metadata": {},
   "outputs": [
    {
     "data": {
      "text/plain": [
       "array([ 2,  5,  8, 11])"
      ]
     },
     "execution_count": 46,
     "metadata": {},
     "output_type": "execute_result"
    }
   ],
   "source": [
    "col2"
   ]
  },
  {
   "cell_type": "code",
   "execution_count": 47,
   "metadata": {},
   "outputs": [
    {
     "data": {
      "text/plain": [
       "array([ 3,  6,  9, 12])"
      ]
     },
     "execution_count": 47,
     "metadata": {},
     "output_type": "execute_result"
    }
   ],
   "source": [
    "col3"
   ]
  },
  {
   "cell_type": "markdown",
   "metadata": {},
   "source": [
    "## **Funciones predefinidas para creación de arrays**"
   ]
  },
  {
   "cell_type": "markdown",
   "metadata": {},
   "source": [
    "Numpy ofrece una gran variedad de funciones predefinidas para creación de arrays que nos permiten simplificar el proceso de construcción de este tipo de estructuras de datos."
   ]
  },
  {
   "cell_type": "markdown",
   "metadata": {},
   "source": [
    "### **Valores fijos**"
   ]
  },
  {
   "cell_type": "markdown",
   "metadata": {},
   "source": [
    "A continuación veremos una serie de funciones para crear arrays con valores fijos."
   ]
  },
  {
   "cell_type": "markdown",
   "metadata": {},
   "source": [
    "**CEROS**"
   ]
  },
  {
   "cell_type": "code",
   "execution_count": 48,
   "metadata": {},
   "outputs": [
    {
     "data": {
      "text/plain": [
       "array([[0., 0., 0., 0.],\n",
       "       [0., 0., 0., 0.],\n",
       "       [0., 0., 0., 0.]])"
      ]
     },
     "execution_count": 48,
     "metadata": {},
     "output_type": "execute_result"
    }
   ],
   "source": [
    "np.zeros((3, 4))"
   ]
  },
  {
   "cell_type": "markdown",
   "metadata": {},
   "source": [
    "Por defecto, ésta y otras funciones del estilo, devuelven valores flotantes. Si quisiéramos trabajar con valores enteros basta con usar el parámetro `dtype`:"
   ]
  },
  {
   "cell_type": "code",
   "execution_count": 49,
   "metadata": {},
   "outputs": [
    {
     "data": {
      "text/plain": [
       "array([[0, 0, 0, 0],\n",
       "       [0, 0, 0, 0],\n",
       "       [0, 0, 0, 0]])"
      ]
     },
     "execution_count": 49,
     "metadata": {},
     "output_type": "execute_result"
    }
   ],
   "source": [
    "np.zeros((3, 4), dtype=int)"
   ]
  },
  {
   "cell_type": "markdown",
   "metadata": {},
   "source": [
    "Existe la posibilidad de crear un array de ceros con las mismas dimensiones (y forma) que otro array:"
   ]
  },
  {
   "cell_type": "code",
   "execution_count": 50,
   "metadata": {},
   "outputs": [
    {
     "data": {
      "text/plain": [
       "array([[1, 2, 3],\n",
       "       [4, 5, 6]])"
      ]
     },
     "execution_count": 50,
     "metadata": {},
     "output_type": "execute_result"
    }
   ],
   "source": [
    "M = np.array([[1, 2, 3], [4, 5, 6]])\n",
    "M"
   ]
  },
  {
   "cell_type": "code",
   "execution_count": 51,
   "metadata": {},
   "outputs": [
    {
     "data": {
      "text/plain": [
       "array([[0, 0, 0],\n",
       "       [0, 0, 0]])"
      ]
     },
     "execution_count": 51,
     "metadata": {},
     "output_type": "execute_result"
    }
   ],
   "source": [
    "np.zeros_like(M)"
   ]
  },
  {
   "cell_type": "markdown",
   "metadata": {},
   "source": [
    "Lo cual sería equivalente a pasar la forma del array a la función predefinida de creación de ceros:"
   ]
  },
  {
   "cell_type": "code",
   "execution_count": 52,
   "metadata": {},
   "outputs": [
    {
     "data": {
      "text/plain": [
       "array([[0, 0, 0],\n",
       "       [0, 0, 0]])"
      ]
     },
     "execution_count": 52,
     "metadata": {},
     "output_type": "execute_result"
    }
   ],
   "source": [
    "np.zeros(M.shape, dtype=int)"
   ]
  },
  {
   "cell_type": "markdown",
   "metadata": {},
   "source": [
    "**UNOS**"
   ]
  },
  {
   "cell_type": "code",
   "execution_count": 53,
   "metadata": {},
   "outputs": [
    {
     "data": {
      "text/plain": [
       "array([[1., 1., 1., 1.],\n",
       "       [1., 1., 1., 1.],\n",
       "       [1., 1., 1., 1.]])"
      ]
     },
     "execution_count": 53,
     "metadata": {},
     "output_type": "execute_result"
    }
   ],
   "source": [
    "np.ones((3, 4)) # también existe np.ones_like()"
   ]
  },
  {
   "cell_type": "markdown",
   "metadata": {},
   "source": [
    "**MISMO VALOR**"
   ]
  },
  {
   "cell_type": "code",
   "execution_count": 54,
   "metadata": {},
   "outputs": [
    {
     "data": {
      "text/plain": [
       "array([[7, 7, 7, 7],\n",
       "       [7, 7, 7, 7],\n",
       "       [7, 7, 7, 7]])"
      ]
     },
     "execution_count": 54,
     "metadata": {},
     "output_type": "execute_result"
    }
   ],
   "source": [
    "np.full((3, 4), 7) # También existe np.full_Like()"
   ]
  },
  {
   "cell_type": "markdown",
   "metadata": {},
   "source": [
    "**MATRIZ IDENTIDAD**"
   ]
  },
  {
   "cell_type": "code",
   "execution_count": 55,
   "metadata": {},
   "outputs": [
    {
     "data": {
      "text/plain": [
       "array([[1., 0., 0., 0., 0.],\n",
       "       [0., 1., 0., 0., 0.],\n",
       "       [0., 0., 1., 0., 0.],\n",
       "       [0., 0., 0., 1., 0.],\n",
       "       [0., 0., 0., 0., 1.]])"
      ]
     },
     "execution_count": 55,
     "metadata": {},
     "output_type": "execute_result"
    }
   ],
   "source": [
    "np.eye(5)"
   ]
  },
  {
   "cell_type": "markdown",
   "metadata": {},
   "source": [
    "**MATRIZ DIAGONAL**"
   ]
  },
  {
   "cell_type": "code",
   "execution_count": 56,
   "metadata": {},
   "outputs": [
    {
     "data": {
      "text/plain": [
       "array([[5, 0, 0, 0, 0],\n",
       "       [0, 4, 0, 0, 0],\n",
       "       [0, 0, 3, 0, 0],\n",
       "       [0, 0, 0, 2, 0],\n",
       "       [0, 0, 0, 0, 1]])"
      ]
     },
     "execution_count": 56,
     "metadata": {},
     "output_type": "execute_result"
    }
   ],
   "source": [
    "np.diag([5, 4, 3, 2, 1])"
   ]
  },
  {
   "cell_type": "markdown",
   "metadata": {},
   "source": [
    ">**Ejercicio**"
   ]
  },
  {
   "cell_type": "markdown",
   "metadata": {},
   "source": [
    "Cree la siguiente matriz mediante código Python:\n",
    "\n",
    "\\begin{equation*}\n",
    "diagonal =\n",
    "\\begin{pmatrix}\n",
    "1 & 0 & 0 & \\cdots & 0\\\\\n",
    "0 & 1 & 0 & \\cdots & 0\\\\\n",
    "0 & 0 & 2 & \\cdots & 0\\\\\n",
    "\\vdots & \\vdots & 0 & \\ddots & 0\\\\\n",
    "0 & 0 & 0 & \\cdots & 49\n",
    "\\end{pmatrix}\n",
    "\\end{equation*}"
   ]
  },
  {
   "cell_type": "markdown",
   "metadata": {},
   "source": [
    "Obtenga igualmente las siguientes caracteristicas de cada uno de ellos: dimensión, tamaño, forma y tipo de sus elementos."
   ]
  },
  {
   "cell_type": "code",
   "execution_count": 57,
   "metadata": {},
   "outputs": [
    {
     "name": "stdout",
     "output_type": "stream",
     "text": [
      "Matriz Diagonal:\n",
      "Dimensión: 2\n",
      "Tamaño: 2500\n",
      "Forma: (50, 50)\n",
      "Tipo de elementos: int64\n"
     ]
    }
   ],
   "source": [
    "import numpy as np\n",
    "\n",
    "# Definir la dimensión de la matriz\n",
    "dimension = 50  # Cambia este valor según tus necesidades\n",
    "\n",
    "# Crear la matriz diagonal\n",
    "diagonal = np.diag(np.arange(1, dimension + 1))\n",
    "\n",
    "# Obtener las características de la matriz diagonal\n",
    "dim = diagonal.ndim  # Dimensión\n",
    "size = diagonal.size  # Tamaño\n",
    "shape = diagonal.shape  # Forma\n",
    "dtype = diagonal.dtype  # Tipo de elementos\n",
    "\n",
    "# Imprimir las características de la matriz diagonal\n",
    "print(\"Matriz Diagonal:\")\n",
    "print(\"Dimensión:\", dim)\n",
    "print(\"Tamaño:\", size)\n",
    "print(\"Forma:\", shape)\n",
    "print(\"Tipo de elementos:\", dtype)"
   ]
  },
  {
   "cell_type": "markdown",
   "metadata": {},
   "source": [
    "## **Valores equiespaciados**"
   ]
  },
  {
   "cell_type": "markdown",
   "metadata": {},
   "source": [
    "A continuación veremos una serie de funciones para crear arrays con valores equiespaciados o en intervalos definidos."
   ]
  },
  {
   "cell_type": "markdown",
   "metadata": {},
   "source": [
    "### **Valores Enteros Equiespacidos**"
   ]
  },
  {
   "cell_type": "markdown",
   "metadata": {},
   "source": [
    "La función que usamos para este propósito es `np.arange()` cuyo comportamiento es totalmente análogo a la función built-in `range()`."
   ]
  },
  {
   "cell_type": "markdown",
   "metadata": {},
   "source": [
    "**Especificando Límite superior:**"
   ]
  },
  {
   "cell_type": "code",
   "execution_count": 58,
   "metadata": {},
   "outputs": [
    {
     "data": {
      "text/plain": [
       "array([ 0,  1,  2,  3,  4,  5,  6,  7,  8,  9, 10, 11, 12, 13, 14, 15, 16,\n",
       "       17, 18, 19, 20])"
      ]
     },
     "execution_count": 58,
     "metadata": {},
     "output_type": "execute_result"
    }
   ],
   "source": [
    "np.arange(21)"
   ]
  },
  {
   "cell_type": "markdown",
   "metadata": {},
   "source": [
    "**Especificando límite inferior y superior:**"
   ]
  },
  {
   "cell_type": "code",
   "execution_count": 59,
   "metadata": {},
   "outputs": [
    {
     "data": {
      "text/plain": [
       "array([ 6,  7,  8,  9, 10, 11, 12, 13, 14, 15, 16, 17, 18, 19, 20, 21, 22,\n",
       "       23, 24, 25, 26, 27, 28, 29, 30, 31, 32, 33, 34, 35, 36, 37, 38, 39,\n",
       "       40, 41, 42, 43, 44, 45, 46, 47, 48, 49, 50, 51, 52, 53, 54, 55, 56,\n",
       "       57, 58, 59])"
      ]
     },
     "execution_count": 59,
     "metadata": {},
     "output_type": "execute_result"
    }
   ],
   "source": [
    "np.arange(6, 60)"
   ]
  },
  {
   "cell_type": "markdown",
   "metadata": {},
   "source": [
    "**Especificando límite inferior, superior y paso:**"
   ]
  },
  {
   "cell_type": "code",
   "execution_count": 60,
   "metadata": {},
   "outputs": [
    {
     "data": {
      "text/plain": [
       "array([ 6,  9, 12, 15, 18, 21, 24, 27, 30, 33, 36, 39, 42, 45, 48, 51, 54,\n",
       "       57])"
      ]
     },
     "execution_count": 60,
     "metadata": {},
     "output_type": "execute_result"
    }
   ],
   "source": [
    "np.arange(6, 60, 3)"
   ]
  },
  {
   "cell_type": "markdown",
   "metadata": {},
   "source": [
    "Es posible especificar una paso flotante en función `arange()`:"
   ]
  },
  {
   "cell_type": "code",
   "execution_count": 61,
   "metadata": {},
   "outputs": [
    {
     "data": {
      "text/plain": [
       "array([ 6. ,  6.3,  6.6,  6.9,  7.2,  7.5,  7.8,  8.1,  8.4,  8.7,  9. ,\n",
       "        9.3,  9.6,  9.9, 10.2, 10.5, 10.8, 11.1, 11.4, 11.7, 12. , 12.3,\n",
       "       12.6, 12.9, 13.2, 13.5, 13.8, 14.1, 14.4, 14.7, 15. , 15.3, 15.6,\n",
       "       15.9])"
      ]
     },
     "execution_count": 61,
     "metadata": {},
     "output_type": "execute_result"
    }
   ],
   "source": [
    "np.arange(6, 16, .3)"
   ]
  },
  {
   "cell_type": "markdown",
   "metadata": {},
   "source": [
    "## **Valores Flotantes Equiespacidos**"
   ]
  },
  {
   "cell_type": "markdown",
   "metadata": {},
   "source": [
    "La función que usamos para este propósito es `np.linspace()` cuyo comportamiento es similar a `np.arange()` pero para valores flotantes."
   ]
  },
  {
   "cell_type": "markdown",
   "metadata": {},
   "source": [
    "**Especificando límite inferior y superior:**"
   ]
  },
  {
   "cell_type": "code",
   "execution_count": 62,
   "metadata": {},
   "outputs": [
    {
     "data": {
      "text/plain": [
       "array([ 6.        ,  7.10204082,  8.20408163,  9.30612245, 10.40816327,\n",
       "       11.51020408, 12.6122449 , 13.71428571, 14.81632653, 15.91836735,\n",
       "       17.02040816, 18.12244898, 19.2244898 , 20.32653061, 21.42857143,\n",
       "       22.53061224, 23.63265306, 24.73469388, 25.83673469, 26.93877551,\n",
       "       28.04081633, 29.14285714, 30.24489796, 31.34693878, 32.44897959,\n",
       "       33.55102041, 34.65306122, 35.75510204, 36.85714286, 37.95918367,\n",
       "       39.06122449, 40.16326531, 41.26530612, 42.36734694, 43.46938776,\n",
       "       44.57142857, 45.67346939, 46.7755102 , 47.87755102, 48.97959184,\n",
       "       50.08163265, 51.18367347, 52.28571429, 53.3877551 , 54.48979592,\n",
       "       55.59183673, 56.69387755, 57.79591837, 58.89795918, 60.        ])"
      ]
     },
     "execution_count": 62,
     "metadata": {},
     "output_type": "execute_result"
    }
   ],
   "source": [
    "np.linspace(6, 60) # [6, 60] con 50 valores"
   ]
  },
  {
   "cell_type": "markdown",
   "metadata": {},
   "source": [
    ">**Nota**\n",
    ">\n",
    "> Por defecto `np.linspace()` genera 50 elementos."
   ]
  },
  {
   "cell_type": "markdown",
   "metadata": {},
   "source": [
    "**Especificando límite inferior, superior y total de elementos:**"
   ]
  },
  {
   "cell_type": "code",
   "execution_count": 63,
   "metadata": {},
   "outputs": [
    {
     "data": {
      "text/plain": [
       "array([ 6.        ,  8.84210526, 11.68421053, 14.52631579, 17.36842105,\n",
       "       20.21052632, 23.05263158, 25.89473684, 28.73684211, 31.57894737,\n",
       "       34.42105263, 37.26315789, 40.10526316, 42.94736842, 45.78947368,\n",
       "       48.63157895, 51.47368421, 54.31578947, 57.15789474, 60.        ])"
      ]
     },
     "execution_count": 63,
     "metadata": {},
     "output_type": "execute_result"
    }
   ],
   "source": [
    "np.linspace(6, 60, 20) # [6, 60] con 20 valores"
   ]
  },
  {
   "cell_type": "markdown",
   "metadata": {},
   "source": [
    ">**Importante**\n",
    ">\n",
    "> A diferencia de `np.arange()`, la función `np.linspace()` incluye por defecto el límite superior especificado."
   ]
  },
  {
   "cell_type": "markdown",
   "metadata": {},
   "source": [
    "**Especificando un intervalo abierto [a, b)**"
   ]
  },
  {
   "cell_type": "code",
   "execution_count": 64,
   "metadata": {},
   "outputs": [
    {
     "data": {
      "text/plain": [
       "array([ 6. ,  8.7, 11.4, 14.1, 16.8, 19.5, 22.2, 24.9, 27.6, 30.3, 33. ,\n",
       "       35.7, 38.4, 41.1, 43.8, 46.5, 49.2, 51.9, 54.6, 57.3])"
      ]
     },
     "execution_count": 64,
     "metadata": {},
     "output_type": "execute_result"
    }
   ],
   "source": [
    "np.linspace(6, 60, 20, endpoint=False) # [6, 60) con 20 elementos"
   ]
  },
  {
   "cell_type": "markdown",
   "metadata": {},
   "source": [
    "## **Valores aleatorios**"
   ]
  },
  {
   "cell_type": "markdown",
   "metadata": {},
   "source": [
    "A continuación veremos una serie de funciones para crear arrays con valores aleatorios y distribuciones de probabilidad."
   ]
  },
  {
   "cell_type": "markdown",
   "metadata": {},
   "source": [
    "### **Valores Aleatorios Enteros**"
   ]
  },
  {
   "cell_type": "markdown",
   "metadata": {},
   "source": [
    "**Valores aleatorios enteros en [a, b):**"
   ]
  },
  {
   "cell_type": "code",
   "execution_count": 65,
   "metadata": {},
   "outputs": [
    {
     "data": {
      "text/plain": [
       "17"
      ]
     },
     "execution_count": 65,
     "metadata": {},
     "output_type": "execute_result"
    }
   ],
   "source": [
    "np.random.randint(3, 30) # escalar"
   ]
  },
  {
   "cell_type": "code",
   "execution_count": 67,
   "metadata": {},
   "outputs": [
    {
     "data": {
      "text/plain": [
       "array([ 9,  4,  7, 13,  3, 10, 11,  4, 16])"
      ]
     },
     "execution_count": 67,
     "metadata": {},
     "output_type": "execute_result"
    }
   ],
   "source": [
    "np.random.randint(3, 30, size=9) # vector"
   ]
  },
  {
   "cell_type": "code",
   "execution_count": 66,
   "metadata": {},
   "outputs": [
    {
     "data": {
      "text/plain": [
       "array([[29, 21, 20],\n",
       "       [ 4, 16, 19],\n",
       "       [20, 17,  7]])"
      ]
     },
     "execution_count": 66,
     "metadata": {},
     "output_type": "execute_result"
    }
   ],
   "source": [
    "np.random.randint(3, 30, size=(3, 3)) # matriz"
   ]
  },
  {
   "cell_type": "markdown",
   "metadata": {},
   "source": [
    "### **Valores Aleatorios Flotantes**"
   ]
  },
  {
   "cell_type": "markdown",
   "metadata": {},
   "source": [
    "Por simplicidad, en el resto de ejemplos vamos a obviar la salida escalar y matriz."
   ]
  },
  {
   "cell_type": "markdown",
   "metadata": {},
   "source": [
    "**Valores aleatorios flotantes en [0, 1):**"
   ]
  },
  {
   "cell_type": "code",
   "execution_count": 68,
   "metadata": {},
   "outputs": [
    {
     "data": {
      "text/plain": [
       "array([0.32677021, 0.84139731, 0.89327144, 0.26608469, 0.41387332,\n",
       "       0.57745754, 0.9125807 , 0.84118873, 0.93065424])"
      ]
     },
     "execution_count": 68,
     "metadata": {},
     "output_type": "execute_result"
    }
   ],
   "source": [
    "np.random.random(9)"
   ]
  },
  {
   "cell_type": "markdown",
   "metadata": {},
   "source": [
    "**Valores aleatorios flotantes en [a, b):**"
   ]
  },
  {
   "cell_type": "code",
   "execution_count": 69,
   "metadata": {},
   "outputs": [
    {
     "data": {
      "text/plain": [
       "array([26.59651438, 88.33564037,  1.13382761, 99.41244289, 11.4866012 ,\n",
       "       32.07050286, 91.60102242, 94.47414344,  3.93862885])"
      ]
     },
     "execution_count": 69,
     "metadata": {},
     "output_type": "execute_result"
    }
   ],
   "source": [
    "np.random.uniform(1, 100, size=9)"
   ]
  },
  {
   "cell_type": "markdown",
   "metadata": {},
   "source": [
    "## **Distribuciones de Probabilidad**"
   ]
  },
  {
   "cell_type": "markdown",
   "metadata": {},
   "source": [
    "### **Distribución normal:**"
   ]
  },
  {
   "cell_type": "markdown",
   "metadata": {},
   "source": [
    "Ejemplo en el que generamos un millón de valores usando como parámetros de la distribución $\\mu = 0$,  $\\sigma = 5$"
   ]
  },
  {
   "cell_type": "code",
   "execution_count": 70,
   "metadata": {},
   "outputs": [],
   "source": [
    "dist = np.random.normal(0, 5, size=1_000_000)"
   ]
  },
  {
   "cell_type": "code",
   "execution_count": 71,
   "metadata": {},
   "outputs": [
    {
     "data": {
      "text/plain": [
       "array([-8.7369054 ,  0.60337969,  7.18418155, -1.54669039, -0.49919515,\n",
       "        7.44449941,  0.81261897, 15.70760169,  6.39577447,  2.45633154,\n",
       "       -8.33478549,  1.68803627, -1.31795235, -1.21583338, -1.07561126,\n",
       "       -1.87047308, -3.72908556, -3.54071303,  7.34583537,  2.75434369])"
      ]
     },
     "execution_count": 71,
     "metadata": {},
     "output_type": "execute_result"
    }
   ],
   "source": [
    "dist[:20]"
   ]
  },
  {
   "cell_type": "code",
   "execution_count": 72,
   "metadata": {},
   "outputs": [
    {
     "data": {
      "text/plain": [
       "0.0014856147462323289"
      ]
     },
     "execution_count": 72,
     "metadata": {},
     "output_type": "execute_result"
    }
   ],
   "source": [
    "dist.mean()"
   ]
  },
  {
   "cell_type": "code",
   "execution_count": 73,
   "metadata": {},
   "outputs": [
    {
     "data": {
      "text/plain": [
       "5.000535114922286"
      ]
     },
     "execution_count": 73,
     "metadata": {},
     "output_type": "execute_result"
    }
   ],
   "source": [
    "dist.std()"
   ]
  },
  {
   "cell_type": "markdown",
   "metadata": {},
   "source": [
    "### **Muestra aleatoria:**"
   ]
  },
  {
   "cell_type": "markdown",
   "metadata": {},
   "source": [
    "Ejemplo en el que generamos una muestra aleatoria de un millón de lanzamientos de una moneda:"
   ]
  },
  {
   "cell_type": "code",
   "execution_count": 74,
   "metadata": {},
   "outputs": [
    {
     "data": {
      "text/plain": [
       "array(['tail', 'head', 'head', ..., 'tail', 'head', 'head'], dtype='<U4')"
      ]
     },
     "execution_count": 74,
     "metadata": {},
     "output_type": "execute_result"
    }
   ],
   "source": [
    "coins = np.random.choice(['head', 'tail'], size = 1_000_000)\n",
    "coins"
   ]
  },
  {
   "cell_type": "code",
   "execution_count": 75,
   "metadata": {},
   "outputs": [
    {
     "data": {
      "text/plain": [
       "499386"
      ]
     },
     "execution_count": 75,
     "metadata": {},
     "output_type": "execute_result"
    }
   ],
   "source": [
    "sum(coins == 'head')"
   ]
  },
  {
   "cell_type": "code",
   "execution_count": 76,
   "metadata": {},
   "outputs": [
    {
     "data": {
      "text/plain": [
       "500614"
      ]
     },
     "execution_count": 76,
     "metadata": {},
     "output_type": "execute_result"
    }
   ],
   "source": [
    "sum(coins == 'tail')"
   ]
  },
  {
   "cell_type": "markdown",
   "metadata": {},
   "source": [
    "### **Muestra aleatoria con probabilidades no uniformes:**"
   ]
  },
  {
   "cell_type": "markdown",
   "metadata": {},
   "source": [
    "Ejemplo en el que generamos una muestra aleatoria de un millón de lanzamientos con un dado **trucado**:"
   ]
  },
  {
   "cell_type": "code",
   "execution_count": 78,
   "metadata": {},
   "outputs": [
    {
     "data": {
      "text/plain": [
       "array([3, 5, 1, ..., 4, 3, 1])"
      ]
     },
     "execution_count": 78,
     "metadata": {},
     "output_type": "execute_result"
    }
   ],
   "source": [
    "# La cara del \"1\" tiene un 50% de probabilidades de salir\n",
    "dices = np.random.choice(range(1, 7), size = 1_000_000, p = [.5, .1, .1, .1, .1, .1])\n",
    "dices"
   ]
  },
  {
   "cell_type": "code",
   "execution_count": 79,
   "metadata": {},
   "outputs": [
    {
     "data": {
      "text/plain": [
       "500095"
      ]
     },
     "execution_count": 79,
     "metadata": {},
     "output_type": "execute_result"
    }
   ],
   "source": [
    "sum(dices == 1)"
   ]
  },
  {
   "cell_type": "code",
   "execution_count": 80,
   "metadata": {},
   "outputs": [
    {
     "data": {
      "text/plain": [
       "99969"
      ]
     },
     "execution_count": 80,
     "metadata": {},
     "output_type": "execute_result"
    }
   ],
   "source": [
    "sum(dices == 6)"
   ]
  },
  {
   "cell_type": "markdown",
   "metadata": {},
   "source": [
    "### **Muestra aleatoria sin reemplazo:**"
   ]
  },
  {
   "cell_type": "markdown",
   "metadata": {},
   "source": [
    "Ejemplo en el que seleccionamos 5 principios aleatorios del **Zen de Python** sin reemplazo:"
   ]
  },
  {
   "cell_type": "code",
   "execution_count": 81,
   "metadata": {},
   "outputs": [
    {
     "name": "stdout",
     "output_type": "stream",
     "text": [
      "The Zen of Python, by Tim Peters\n",
      "\n",
      "Beautiful is better than ugly.\n",
      "Explicit is better than implicit.\n",
      "Simple is better than complex.\n",
      "Complex is better than complicated.\n",
      "Flat is better than nested.\n",
      "Sparse is better than dense.\n",
      "Readability counts.\n",
      "Special cases aren't special enough to break the rules.\n",
      "Although practicality beats purity.\n",
      "Errors should never pass silently.\n",
      "Unless explicitly silenced.\n",
      "In the face of ambiguity, refuse the temptation to guess.\n",
      "There should be one-- and preferably only one --obvious way to do it.\n",
      "Although that way may not be obvious at first unless you're Dutch.\n",
      "Now is better than never.\n",
      "Although never is often better than *right* now.\n",
      "If the implementation is hard to explain, it's a bad idea.\n",
      "If the implementation is easy to explain, it may be a good idea.\n",
      "Namespaces are one honking great idea -- let's do more of those!\n"
     ]
    }
   ],
   "source": [
    "import this\n",
    "import codecs\n",
    "\n",
    "zen = codecs.decode(this.s, 'rot-13').splitlines()[3:]"
   ]
  },
  {
   "cell_type": "code",
   "execution_count": 82,
   "metadata": {},
   "outputs": [
    {
     "data": {
      "text/plain": [
       "array(['Although practicality beats purity.',\n",
       "       'Flat is better than nested.',\n",
       "       \"Although that way may not be obvious at first unless you're Dutch.\",\n",
       "       'In the face of ambiguity, refuse the temptation to guess.',\n",
       "       'Now is better than never.'], dtype='<U69')"
      ]
     },
     "execution_count": 82,
     "metadata": {},
     "output_type": "execute_result"
    }
   ],
   "source": [
    "np.random.choice(zen, size=5, replace=False)"
   ]
  },
  {
   "cell_type": "markdown",
   "metadata": {},
   "source": [
    "> **Ejercicio**"
   ]
  },
  {
   "cell_type": "markdown",
   "metadata": {},
   "source": [
    "Cree:\n",
    "\n",
    "* Una matriz de 20 filas y 5 columnas con valores flotantes equiespaciados en el intervalo cerrado [1, 10].\n",
    "\n",
    "* Un array unidimensional con 128 valores aleatorios de una distribución normal $\\mu = 1$,  $\\sigma = 2$.\n",
    "\n",
    "* Un array unidimensional con 15 valores aleatorios de una muestra *1, X, 2* donde la probabilidad de que gane el equipo local es del 50%, la probabilidad de que empaten es del 30% y la probabilidad de que gane el visitante es del 20%."
   ]
  },
  {
   "cell_type": "code",
   "execution_count": 83,
   "metadata": {},
   "outputs": [
    {
     "name": "stdout",
     "output_type": "stream",
     "text": [
      "Matriz:\n",
      "[[8.48419025 2.76534092 2.71202878 1.36547642 5.55132106]\n",
      " [5.85399852 5.5043049  5.70793662 1.64621023 1.40442443]\n",
      " [9.34381838 9.71459152 5.01643344 1.38349213 1.02697236]\n",
      " [9.79939451 3.65412034 1.31646269 7.6610844  1.62278568]\n",
      " [8.71479333 8.77907402 1.07000319 1.98481009 5.20289518]\n",
      " [5.00267671 3.19798972 8.73558588 6.21271048 3.08144707]\n",
      " [6.76272331 2.59102096 2.47157892 6.3828785  7.65800592]\n",
      " [2.15302333 3.79797528 3.45096747 9.2906485  8.20358201]\n",
      " [5.99380252 8.91389596 3.74783466 1.21585797 2.01959788]\n",
      " [5.9089574  6.04920843 7.68815592 7.51380051 5.74534779]\n",
      " [2.80194868 7.90638926 6.20590057 5.950822   8.61979428]\n",
      " [6.1943209  6.92196048 4.27622821 7.26866105 5.61256525]\n",
      " [9.30770595 6.33697256 3.37334755 3.21948369 1.75829783]\n",
      " [7.00415922 2.16321713 7.52399855 1.10971445 2.0027458 ]\n",
      " [7.62222787 2.81761885 5.84509617 7.767408   9.90874533]\n",
      " [6.69012781 6.22293097 6.93342309 2.47132666 7.10435042]\n",
      " [3.84521951 1.58664053 5.46045779 9.95037814 5.69401759]\n",
      " [2.21878247 8.56115812 2.8972984  3.68994038 8.68822196]\n",
      " [2.0460765  6.42671933 2.67506168 5.3759231  7.56770645]\n",
      " [4.92251899 3.73944215 8.00837173 1.57608439 2.65453761]]\n",
      "\n",
      "Array de valores normales:\n",
      "[ 3.09221135  1.01649904  2.58176746  1.16895208  1.2056043   1.5201464\n",
      " -0.78752443  2.26980127 -2.68293189 -0.33654487  1.40630514  2.51196799\n",
      "  1.65292416  0.70423316  0.19095082 -1.01513168  0.34058962 -1.14743612\n",
      "  2.06257889  0.62423055 -0.9499114   3.80802362 -0.5183766   0.33787123\n",
      " -1.68227423  4.2887334  -0.2404764  -1.93904321  2.13620521  0.01581423\n",
      "  0.63611     1.51018354  1.1567741   1.93951536 -0.07570894  1.30188688\n",
      " -1.30496921  0.16972236  6.05011929  1.30398749 -0.38442497 -1.30210345\n",
      "  2.9732764  -1.62106725  1.54477472  0.1700368   4.15911023 -0.2158722\n",
      "  4.34435984  0.23161379  0.55935612 -1.97196551 -0.24035758 -0.83291292\n",
      "  4.13572936  2.15256751 -0.21631235 -2.44172688  0.2306078   1.26440121\n",
      "  1.93079519  2.63688872  1.219918   -0.28031246  2.57294098 -0.33249649\n",
      "  2.61873519  1.86356549  2.21684569  1.28197567 -0.41871358 -0.69994478\n",
      " -2.30934296  1.6881544  -0.37005187  3.74587901  0.58489548  5.65488197\n",
      "  1.56643473  1.20269263 -0.50794568  4.62117193 -1.45824479  0.76649376\n",
      " -0.91816131  0.38697125  1.80254671  3.32651817  2.3482443  -0.44374087\n",
      "  0.6494623   2.24488534  2.17964162  4.4854267  -0.1523616   1.12342707\n",
      "  2.0635808  -0.89482583  0.11699623  1.34014961  3.82452658  2.93169323\n",
      "  0.54651495 -0.41048289  0.78570472 -0.69457748 -0.091606    3.27447835\n",
      "  0.27821855 -1.05997398  2.28619512  2.4098855  -0.22702935  3.0827306\n",
      "  2.3089747  -0.92869871  0.27598608  3.91245161  2.79105395 -0.35528715\n",
      "  3.4326868   1.01379095  3.25252147  1.84495484  1.27827005  1.31596971\n",
      "  1.10010323  2.2553156 ]\n",
      "\n",
      "Array de resultados:\n",
      "['2' '1' '1' '1' 'X' '2' '1' '2' 'X' '2' '1' '1' '1' '2' '1']\n"
     ]
    }
   ],
   "source": [
    "import numpy as np\n",
    "\n",
    "# 1. Crear una matriz de 20 filas y 5 columnas con valores flotantes en [1, 10]\n",
    "matriz = np.random.uniform(1, 10, (20, 5))\n",
    "\n",
    "# 2. Generar un array unidimensional con 128 valores aleatorios de una distribución normal\n",
    "mu = 1\n",
    "sigma = 2\n",
    "valores_normales = np.random.normal(mu, sigma, 128)\n",
    "\n",
    "# 3. Generar un array unidimensional con 15 valores aleatorios basados en la probabilidad dada\n",
    "resultados = np.random.choice([1, 'X', 2], size=15, p=[0.5, 0.3, 0.2])\n",
    "\n",
    "# Imprimir los objetos creados\n",
    "print(\"Matriz:\")\n",
    "print(matriz)\n",
    "\n",
    "print(\"\\nArray de valores normales:\")\n",
    "print(valores_normales)\n",
    "\n",
    "print(\"\\nArray de resultados:\")\n",
    "print(resultados)"
   ]
  },
  {
   "cell_type": "markdown",
   "metadata": {},
   "source": [
    "### **Constantes**"
   ]
  },
  {
   "cell_type": "markdown",
   "metadata": {},
   "source": [
    "Numpy proporciona una serie de constantes predefinidas que facilitan su acceso y reutilización. Veamos algunas de ellas:"
   ]
  },
  {
   "cell_type": "code",
   "execution_count": 84,
   "metadata": {},
   "outputs": [
    {
     "data": {
      "text/plain": [
       "inf"
      ]
     },
     "execution_count": 84,
     "metadata": {},
     "output_type": "execute_result"
    }
   ],
   "source": [
    "import numpy as np\n",
    "\n",
    "np.Inf"
   ]
  },
  {
   "cell_type": "code",
   "execution_count": 85,
   "metadata": {},
   "outputs": [
    {
     "data": {
      "text/plain": [
       "nan"
      ]
     },
     "execution_count": 85,
     "metadata": {},
     "output_type": "execute_result"
    }
   ],
   "source": [
    "np.nan"
   ]
  },
  {
   "cell_type": "code",
   "execution_count": 86,
   "metadata": {},
   "outputs": [
    {
     "data": {
      "text/plain": [
       "2.718281828459045"
      ]
     },
     "execution_count": 86,
     "metadata": {},
     "output_type": "execute_result"
    }
   ],
   "source": [
    "np.e"
   ]
  },
  {
   "cell_type": "code",
   "execution_count": 87,
   "metadata": {},
   "outputs": [
    {
     "data": {
      "text/plain": [
       "3.141592653589793"
      ]
     },
     "execution_count": 87,
     "metadata": {},
     "output_type": "execute_result"
    }
   ],
   "source": [
    "np.pi"
   ]
  },
  {
   "cell_type": "markdown",
   "metadata": {},
   "source": [
    "## **Manipulando elementos**"
   ]
  },
  {
   "cell_type": "markdown",
   "metadata": {},
   "source": [
    "Los arrays multidimensionales de Numpy están indexados por unos ejes que establecen la forma en la que debemos acceder a sus elementos. Véase el siguiente diagrama:"
   ]
  },
  {
   "cell_type": "markdown",
   "metadata": {},
   "source": [
    "![Array](../img/array.png \"Array\")"
   ]
  },
  {
   "cell_type": "markdown",
   "metadata": {},
   "source": [
    "### **Arrays unidimensionales**"
   ]
  },
  {
   "cell_type": "markdown",
   "metadata": {},
   "source": [
    "**Acceso a Arrays Unidimensionales**"
   ]
  },
  {
   "cell_type": "code",
   "execution_count": 89,
   "metadata": {},
   "outputs": [
    {
     "data": {
      "text/plain": [
       "array([10, 11, 12, 13, 14, 15])"
      ]
     },
     "execution_count": 89,
     "metadata": {},
     "output_type": "execute_result"
    }
   ],
   "source": [
    "values = np.array([10, 11, 12, 13, 14, 15])\n",
    "values"
   ]
  },
  {
   "cell_type": "code",
   "execution_count": 90,
   "metadata": {},
   "outputs": [
    {
     "data": {
      "text/plain": [
       "12"
      ]
     },
     "execution_count": 90,
     "metadata": {},
     "output_type": "execute_result"
    }
   ],
   "source": [
    "values[2]"
   ]
  },
  {
   "cell_type": "code",
   "execution_count": 91,
   "metadata": {},
   "outputs": [
    {
     "data": {
      "text/plain": [
       "13"
      ]
     },
     "execution_count": 91,
     "metadata": {},
     "output_type": "execute_result"
    }
   ],
   "source": [
    "values[-3]"
   ]
  },
  {
   "cell_type": "markdown",
   "metadata": {},
   "source": [
    "**Modificación a Arrays Unidimensionales**"
   ]
  },
  {
   "cell_type": "code",
   "execution_count": 92,
   "metadata": {},
   "outputs": [
    {
     "data": {
      "text/plain": [
       "array([10, 11, 12, 13, 14, 15])"
      ]
     },
     "execution_count": 92,
     "metadata": {},
     "output_type": "execute_result"
    }
   ],
   "source": [
    "values"
   ]
  },
  {
   "cell_type": "code",
   "execution_count": 93,
   "metadata": {},
   "outputs": [
    {
     "data": {
      "text/plain": [
       "array([26, 11, 12, 13, 14, 15])"
      ]
     },
     "execution_count": 93,
     "metadata": {},
     "output_type": "execute_result"
    }
   ],
   "source": [
    "values[0] = values[1] + values[5]\n",
    "values"
   ]
  },
  {
   "cell_type": "markdown",
   "metadata": {},
   "source": [
    "**Borrando en Arrays Unidimensionales**"
   ]
  },
  {
   "cell_type": "code",
   "execution_count": 94,
   "metadata": {},
   "outputs": [
    {
     "data": {
      "text/plain": [
       "array([26, 11, 12, 13, 14, 15])"
      ]
     },
     "execution_count": 94,
     "metadata": {},
     "output_type": "execute_result"
    }
   ],
   "source": [
    "values"
   ]
  },
  {
   "cell_type": "code",
   "execution_count": 95,
   "metadata": {},
   "outputs": [
    {
     "data": {
      "text/plain": [
       "array([26, 11, 13, 14, 15])"
      ]
     },
     "execution_count": 95,
     "metadata": {},
     "output_type": "execute_result"
    }
   ],
   "source": [
    "np.delete(values, 2) # índice (como escalar)"
   ]
  },
  {
   "cell_type": "code",
   "execution_count": 96,
   "metadata": {},
   "outputs": [
    {
     "data": {
      "text/plain": [
       "array([26, 11, 15])"
      ]
     },
     "execution_count": 96,
     "metadata": {},
     "output_type": "execute_result"
    }
   ],
   "source": [
    "np.delete(values, (2, 3, 4)) # índices (como tupla)"
   ]
  },
  {
   "cell_type": "markdown",
   "metadata": {},
   "source": [
    "> **Nota**\n",
    ">\n",
    "> La función `np.delete()` no es destructiva. Devuelve una copia modificada del array."
   ]
  },
  {
   "cell_type": "markdown",
   "metadata": {},
   "source": [
    "**Inserción en Arrays Unidimensionales**"
   ]
  },
  {
   "cell_type": "code",
   "execution_count": 97,
   "metadata": {},
   "outputs": [
    {
     "data": {
      "text/plain": [
       "array([26, 11, 12, 13, 14, 15])"
      ]
     },
     "execution_count": 97,
     "metadata": {},
     "output_type": "execute_result"
    }
   ],
   "source": [
    "values"
   ]
  },
  {
   "cell_type": "code",
   "execution_count": 98,
   "metadata": {},
   "outputs": [
    {
     "data": {
      "text/plain": [
       "array([26, 11, 12, 13, 14, 15, 16])"
      ]
     },
     "execution_count": 98,
     "metadata": {},
     "output_type": "execute_result"
    }
   ],
   "source": [
    "np.append(values, 16) # añade elementos al final"
   ]
  },
  {
   "cell_type": "code",
   "execution_count": 99,
   "metadata": {},
   "outputs": [
    {
     "data": {
      "text/plain": [
       "array([ 26, 101,  11,  12,  13,  14,  15])"
      ]
     },
     "execution_count": 99,
     "metadata": {},
     "output_type": "execute_result"
    }
   ],
   "source": [
    "np.insert(values, 1, 101) # añade elementos en una posición"
   ]
  },
  {
   "cell_type": "markdown",
   "metadata": {},
   "source": [
    "Para ambas funciones también es posible añadir varios elementos de una sola vez:"
   ]
  },
  {
   "cell_type": "code",
   "execution_count": 100,
   "metadata": {},
   "outputs": [
    {
     "data": {
      "text/plain": [
       "array([26, 11, 12, 13, 14, 15])"
      ]
     },
     "execution_count": 100,
     "metadata": {},
     "output_type": "execute_result"
    }
   ],
   "source": [
    "values"
   ]
  },
  {
   "cell_type": "code",
   "execution_count": 101,
   "metadata": {},
   "outputs": [
    {
     "data": {
      "text/plain": [
       "array([26, 11, 12, 13, 14, 15, 16, 17, 18])"
      ]
     },
     "execution_count": 101,
     "metadata": {},
     "output_type": "execute_result"
    }
   ],
   "source": [
    "np.append(values, [16, 17, 18])"
   ]
  },
  {
   "cell_type": "markdown",
   "metadata": {},
   "source": [
    "> **Nota**\n",
    ">\n",
    "> La funciones `np.append()` y `np.insert()` no son destructivas. Devuelven una copia modificada del array."
   ]
  },
  {
   "cell_type": "markdown",
   "metadata": {},
   "source": [
    "### **Arrays multidimensionales**"
   ]
  },
  {
   "cell_type": "markdown",
   "metadata": {},
   "source": [
    "Partimos del siguiente array bidimensional (matriz) para ejemplificar las distintas operaciones:"
   ]
  },
  {
   "cell_type": "code",
   "execution_count": 102,
   "metadata": {},
   "outputs": [
    {
     "data": {
      "text/plain": [
       "array([[ 1,  2,  3,  4],\n",
       "       [ 5,  6,  7,  8],\n",
       "       [ 9, 10, 11, 12]])"
      ]
     },
     "execution_count": 102,
     "metadata": {},
     "output_type": "execute_result"
    }
   ],
   "source": [
    "values = np.arange(1, 13).reshape(3, 4)\n",
    "values"
   ]
  },
  {
   "cell_type": "markdown",
   "metadata": {},
   "source": [
    "#### **Acceso a Arrays Multidimensionales**"
   ]
  },
  {
   "cell_type": "code",
   "execution_count": 103,
   "metadata": {},
   "outputs": [
    {
     "data": {
      "text/plain": [
       "array([[ 1,  2,  3,  4],\n",
       "       [ 5,  6,  7,  8],\n",
       "       [ 9, 10, 11, 12]])"
      ]
     },
     "execution_count": 103,
     "metadata": {},
     "output_type": "execute_result"
    }
   ],
   "source": [
    "values"
   ]
  },
  {
   "cell_type": "markdown",
   "metadata": {},
   "source": [
    "**Acceso a elementos individuales:**"
   ]
  },
  {
   "cell_type": "code",
   "execution_count": 104,
   "metadata": {},
   "outputs": [
    {
     "data": {
      "text/plain": [
       "1"
      ]
     },
     "execution_count": 104,
     "metadata": {},
     "output_type": "execute_result"
    }
   ],
   "source": [
    "values[0, 0]"
   ]
  },
  {
   "cell_type": "code",
   "execution_count": 105,
   "metadata": {},
   "outputs": [
    {
     "data": {
      "text/plain": [
       "12"
      ]
     },
     "execution_count": 105,
     "metadata": {},
     "output_type": "execute_result"
    }
   ],
   "source": [
    "values[-1, -1]"
   ]
  },
  {
   "cell_type": "code",
   "execution_count": 106,
   "metadata": {},
   "outputs": [
    {
     "data": {
      "text/plain": [
       "7"
      ]
     },
     "execution_count": 106,
     "metadata": {},
     "output_type": "execute_result"
    }
   ],
   "source": [
    "values[1, 2]"
   ]
  },
  {
   "cell_type": "markdown",
   "metadata": {},
   "source": [
    "**Acceso a múltiples elementos:**"
   ]
  },
  {
   "cell_type": "code",
   "execution_count": 107,
   "metadata": {},
   "outputs": [
    {
     "data": {
      "text/plain": [
       "array([ 2, 11])"
      ]
     },
     "execution_count": 107,
     "metadata": {},
     "output_type": "execute_result"
    }
   ],
   "source": [
    "values[[0, 2], [1, 2]] # Elementos [0, 1] y [2, 2]"
   ]
  },
  {
   "cell_type": "markdown",
   "metadata": {},
   "source": [
    "**Acceso a filas o columnas completas:**"
   ]
  },
  {
   "cell_type": "code",
   "execution_count": 108,
   "metadata": {},
   "outputs": [
    {
     "data": {
      "text/plain": [
       "array([ 9, 10, 11, 12])"
      ]
     },
     "execution_count": 108,
     "metadata": {},
     "output_type": "execute_result"
    }
   ],
   "source": [
    "values[2] # tercera fila"
   ]
  },
  {
   "cell_type": "code",
   "execution_count": 109,
   "metadata": {},
   "outputs": [
    {
     "data": {
      "text/plain": [
       "array([ 2,  6, 10])"
      ]
     },
     "execution_count": 109,
     "metadata": {},
     "output_type": "execute_result"
    }
   ],
   "source": [
    "values[:, 1] # segunda columna"
   ]
  },
  {
   "cell_type": "markdown",
   "metadata": {},
   "source": [
    "**Acceso a zonas parciales del array:**"
   ]
  },
  {
   "cell_type": "code",
   "execution_count": 110,
   "metadata": {},
   "outputs": [
    {
     "data": {
      "text/plain": [
       "array([[1, 2],\n",
       "       [5, 6]])"
      ]
     },
     "execution_count": 110,
     "metadata": {},
     "output_type": "execute_result"
    }
   ],
   "source": [
    "values[0:2, 0:2]"
   ]
  },
  {
   "cell_type": "code",
   "execution_count": 111,
   "metadata": {},
   "outputs": [
    {
     "data": {
      "text/plain": [
       "array([[2, 4],\n",
       "       [6, 8]])"
      ]
     },
     "execution_count": 111,
     "metadata": {},
     "output_type": "execute_result"
    }
   ],
   "source": [
    "values[0:2, [1, 3]]"
   ]
  },
  {
   "cell_type": "markdown",
   "metadata": {},
   "source": [
    "> **Importante**\n",
    ">\n",
    "> Todos estos accesos crean una copia (vista) del array original. Esto significa que, si modificamos un valor en el array copia, se ve reflejado en el origen. Para evitar esta situación podemos usar la función `np.copy()` y desvincular la vista de su fuente."
   ]
  },
  {
   "cell_type": "markdown",
   "metadata": {},
   "source": [
    "**Modificación de Arrays Multidimensionales**"
   ]
  },
  {
   "cell_type": "code",
   "execution_count": 112,
   "metadata": {},
   "outputs": [
    {
     "data": {
      "text/plain": [
       "array([[ 1,  2,  3,  4],\n",
       "       [ 5,  6,  7,  8],\n",
       "       [ 9, 10, 11, 12]])"
      ]
     },
     "execution_count": 112,
     "metadata": {},
     "output_type": "execute_result"
    }
   ],
   "source": [
    "values"
   ]
  },
  {
   "cell_type": "code",
   "execution_count": 114,
   "metadata": {},
   "outputs": [
    {
     "data": {
      "text/plain": [
       "array([[100,   2,  30,   4],\n",
       "       [ 55,  66,  70,  88],\n",
       "       [  9,  10, 110,  12]])"
      ]
     },
     "execution_count": 114,
     "metadata": {},
     "output_type": "execute_result"
    }
   ],
   "source": [
    "values[0, 0] = 100\n",
    "values[1] = [55, 66, 77, 88]\n",
    "values[:, 2] = [30, 70, 110]\n",
    "values"
   ]
  },
  {
   "cell_type": "markdown",
   "metadata": {},
   "source": [
    "**Borrando en Arrays Multidimensionales**"
   ]
  },
  {
   "cell_type": "code",
   "execution_count": 115,
   "metadata": {},
   "outputs": [
    {
     "data": {
      "text/plain": [
       "array([[100,   2,  30,   4],\n",
       "       [ 55,  66,  70,  88],\n",
       "       [  9,  10, 110,  12]])"
      ]
     },
     "execution_count": 115,
     "metadata": {},
     "output_type": "execute_result"
    }
   ],
   "source": [
    "values"
   ]
  },
  {
   "cell_type": "code",
   "execution_count": 116,
   "metadata": {},
   "outputs": [
    {
     "data": {
      "text/plain": [
       "array([[ 55,  66,  70,  88],\n",
       "       [  9,  10, 110,  12]])"
      ]
     },
     "execution_count": 116,
     "metadata": {},
     "output_type": "execute_result"
    }
   ],
   "source": [
    "np.delete(values, 0, axis=0) # Borrando de la primera fila"
   ]
  },
  {
   "cell_type": "code",
   "execution_count": 117,
   "metadata": {},
   "outputs": [
    {
     "data": {
      "text/plain": [
       "array([[100,  30],\n",
       "       [ 55,  70],\n",
       "       [  9, 110]])"
      ]
     },
     "execution_count": 117,
     "metadata": {},
     "output_type": "execute_result"
    }
   ],
   "source": [
    "np.delete(values, (1, 3), axis = 1) # Borrado de la segunda y cuarta columna"
   ]
  },
  {
   "cell_type": "markdown",
   "metadata": {},
   "source": [
    "> **Truco**\n",
    ">\n",
    "> Tener en cuenta que `axis = 0` hace referencia a **filas** y `axis = 1` hace referencia a **columnas** tal y como describe el diagrama del comienzo de la sección."
   ]
  },
  {
   "cell_type": "markdown",
   "metadata": {},
   "source": [
    "### **Inserción en Arrays Multidimensionales**"
   ]
  },
  {
   "cell_type": "markdown",
   "metadata": {},
   "source": [
    "**Añadir elementos al final del array:**"
   ]
  },
  {
   "cell_type": "code",
   "execution_count": 121,
   "metadata": {},
   "outputs": [
    {
     "data": {
      "text/plain": [
       "array([[1, 2],\n",
       "       [3, 4]])"
      ]
     },
     "execution_count": 121,
     "metadata": {},
     "output_type": "execute_result"
    }
   ],
   "source": [
    "import numpy as np\n",
    "\n",
    "values = np.array([[1, 2], [3, 4]])\n",
    "values\n"
   ]
  },
  {
   "cell_type": "code",
   "execution_count": 122,
   "metadata": {},
   "outputs": [
    {
     "data": {
      "text/plain": [
       "array([[1, 2],\n",
       "       [3, 4],\n",
       "       [5, 6]])"
      ]
     },
     "execution_count": 122,
     "metadata": {},
     "output_type": "execute_result"
    }
   ],
   "source": [
    "np.append(values, [[5, 6]], axis=0)"
   ]
  },
  {
   "cell_type": "code",
   "execution_count": 123,
   "metadata": {},
   "outputs": [
    {
     "data": {
      "text/plain": [
       "array([[1, 2, 5],\n",
       "       [3, 4, 6]])"
      ]
     },
     "execution_count": 123,
     "metadata": {},
     "output_type": "execute_result"
    }
   ],
   "source": [
    "np.append(values, [[5], [6]], axis = 1)"
   ]
  },
  {
   "cell_type": "markdown",
   "metadata": {},
   "source": [
    "**Insertar elementos en posiciones arbitarias del array:**"
   ]
  },
  {
   "cell_type": "code",
   "execution_count": 124,
   "metadata": {},
   "outputs": [
    {
     "data": {
      "text/plain": [
       "array([[1, 2],\n",
       "       [3, 4]])"
      ]
     },
     "execution_count": 124,
     "metadata": {},
     "output_type": "execute_result"
    }
   ],
   "source": [
    "values"
   ]
  },
  {
   "cell_type": "code",
   "execution_count": 125,
   "metadata": {},
   "outputs": [
    {
     "data": {
      "text/plain": [
       "array([[0, 0],\n",
       "       [1, 2],\n",
       "       [3, 4]])"
      ]
     },
     "execution_count": 125,
     "metadata": {},
     "output_type": "execute_result"
    }
   ],
   "source": [
    "np.insert(values, 0, [0, 0], axis = 0)"
   ]
  },
  {
   "cell_type": "code",
   "execution_count": 126,
   "metadata": {},
   "outputs": [
    {
     "data": {
      "text/plain": [
       "array([[1, 0, 2],\n",
       "       [3, 0, 4]])"
      ]
     },
     "execution_count": 126,
     "metadata": {},
     "output_type": "execute_result"
    }
   ],
   "source": [
    "np.insert(values, 1, [0, 0], axis = 1)"
   ]
  },
  {
   "cell_type": "markdown",
   "metadata": {},
   "source": [
    "> **Ejercicio**"
   ]
  },
  {
   "cell_type": "markdown",
   "metadata": {},
   "source": [
    "Utilzando las operaciones de modificación, borrado e inserción, convierta la siguiente matriz:\n",
    "\n",
    "\\begin{equation*}\n",
    "\\begin{bmatrix}\n",
    "17 & 12 & 31\\\\\n",
    "49 & 11 & 51\\\\\n",
    "21 & 31 & 62\\\\\n",
    "63 & 75 & 22\n",
    "\\end{bmatrix}\n",
    "\\end{equation*}\n",
    "\n",
    "es esta :\n",
    "\n",
    "\\begin{equation*}\n",
    "\\begin{bmatrix}\n",
    "17 & 12 & 31 & 63\\\\\n",
    "49 & 11 & 51 & 75\\\\\n",
    "21 & 31 & 62 & 22\n",
    "\\end{bmatrix}\n",
    "\\end{equation*}\n",
    "\n",
    "y luego en esta:\n",
    "\n",
    "\\begin{equation*}\n",
    "\\begin{bmatrix}\n",
    "17 & 12 & 31 & 63\\\\\n",
    "49 & 49 & 49 & 63\\\\\n",
    "21 & 31 & 62 & 63\n",
    "\\end{bmatrix}\n",
    "\\end{equation*}"
   ]
  },
  {
   "cell_type": "code",
   "execution_count": 145,
   "metadata": {},
   "outputs": [
    {
     "name": "stdout",
     "output_type": "stream",
     "text": [
      "Matrix:\n",
      "[[17 12 31]\n",
      " [49 11 51]\n",
      " [21 31 62]\n",
      " [63 75 22]]\n",
      "\n",
      "Matrix 2:\n",
      "[[17 12 31 63]\n",
      " [49 11 51 75]\n",
      " [21 31 62 22]]\n",
      "\n",
      "Matrix 3:\n",
      "[[17 12 31 63]\n",
      " [49 49 49 63]\n",
      " [21 31 62 63]]\n"
     ]
    }
   ],
   "source": [
    "import numpy as np\n",
    "\n",
    "matrix = np.array([[17, 12, 31], [49, 11, 51], [21, 31, 62], [63, 75, 22]])\n",
    "\n",
    "print('Matrix:')\n",
    "print(matrix)\n",
    "print()\n",
    "\n",
    "last_row = matrix[-1]\n",
    "matrix2 = np.delete(matrix, -1, axis=0)\n",
    "last_row_as_column = last_row.reshape(3, -1)\n",
    "matrix2 = np.append(matrix2, last_row_as_column, axis=1)\n",
    "\n",
    "print('Matrix 2:')\n",
    "print(matrix2)\n",
    "print()\n",
    "\n",
    "matrix3 = matrix2\n",
    "matrix3[1] = matrix3[1, 0]\n",
    "matrix3[:, -1] = matrix3[0, -1]\n",
    "\n",
    "print('Matrix 3:')\n",
    "print(matrix3)"
   ]
  },
  {
   "cell_type": "markdown",
   "metadata": {},
   "source": [
    "### **Apilando matrices**"
   ]
  },
  {
   "cell_type": "markdown",
   "metadata": {},
   "source": [
    "Hay veces que nos interesa combinar dos matrices (arrays en general). Una de los mecanismos que nos proporciona Numpy es el **apilado**."
   ]
  },
  {
   "cell_type": "markdown",
   "metadata": {},
   "source": [
    "**Apilado Vertical**:"
   ]
  },
  {
   "cell_type": "code",
   "execution_count": 146,
   "metadata": {},
   "outputs": [
    {
     "data": {
      "text/plain": [
       "array([[25, 55],\n",
       "       [55, 17],\n",
       "       [66, 37]])"
      ]
     },
     "execution_count": 146,
     "metadata": {},
     "output_type": "execute_result"
    }
   ],
   "source": [
    "m1 = np.random.randint(1, 100, size = (3, 2))\n",
    "m2 = np.random.randint(1, 100, size = (1, 2))\n",
    "m1"
   ]
  },
  {
   "cell_type": "code",
   "execution_count": 147,
   "metadata": {},
   "outputs": [
    {
     "data": {
      "text/plain": [
       "array([[41, 56]])"
      ]
     },
     "execution_count": 147,
     "metadata": {},
     "output_type": "execute_result"
    }
   ],
   "source": [
    "m2"
   ]
  },
  {
   "cell_type": "code",
   "execution_count": 148,
   "metadata": {},
   "outputs": [
    {
     "data": {
      "text/plain": [
       "array([[25, 55],\n",
       "       [55, 17],\n",
       "       [66, 37],\n",
       "       [41, 56]])"
      ]
     },
     "execution_count": 148,
     "metadata": {},
     "output_type": "execute_result"
    }
   ],
   "source": [
    "np.vstack((m1, m2))"
   ]
  },
  {
   "cell_type": "markdown",
   "metadata": {},
   "source": [
    "**Apilando horizontal:**"
   ]
  },
  {
   "cell_type": "code",
   "execution_count": 149,
   "metadata": {},
   "outputs": [
    {
     "data": {
      "text/plain": [
       "array([[77, 92],\n",
       "       [63, 19],\n",
       "       [55, 78]])"
      ]
     },
     "execution_count": 149,
     "metadata": {},
     "output_type": "execute_result"
    }
   ],
   "source": [
    "m1 = np.random.randint(1, 100, size = (3, 2))\n",
    "m2 = np.random.randint(1, 100, size = (3, 1))\n",
    "m1"
   ]
  },
  {
   "cell_type": "code",
   "execution_count": 150,
   "metadata": {},
   "outputs": [
    {
     "data": {
      "text/plain": [
       "array([[22],\n",
       "       [ 8],\n",
       "       [89]])"
      ]
     },
     "execution_count": 150,
     "metadata": {},
     "output_type": "execute_result"
    }
   ],
   "source": [
    "m2"
   ]
  },
  {
   "cell_type": "code",
   "execution_count": 151,
   "metadata": {},
   "outputs": [
    {
     "data": {
      "text/plain": [
       "array([[77, 92, 22],\n",
       "       [63, 19,  8],\n",
       "       [55, 78, 89]])"
      ]
     },
     "execution_count": 151,
     "metadata": {},
     "output_type": "execute_result"
    }
   ],
   "source": [
    "np.hstack((m1, m2))"
   ]
  },
  {
   "cell_type": "markdown",
   "metadata": {},
   "source": [
    "### **Repitiendo elementos**"
   ]
  },
  {
   "cell_type": "markdown",
   "metadata": {},
   "source": [
    "**Repetición por ejes:**"
   ]
  },
  {
   "cell_type": "markdown",
   "metadata": {},
   "source": [
    "El parámetro de repetición indica el número de veces que repetimos el array completo por cada eje:"
   ]
  },
  {
   "cell_type": "code",
   "execution_count": 153,
   "metadata": {},
   "outputs": [
    {
     "data": {
      "text/plain": [
       "array([[1, 2],\n",
       "       [3, 4],\n",
       "       [5, 6]])"
      ]
     },
     "execution_count": 153,
     "metadata": {},
     "output_type": "execute_result"
    }
   ],
   "source": [
    "import numpy as np\n",
    "\n",
    "values = np.array([[1, 2], [3, 4], [5, 6]])\n",
    "values"
   ]
  },
  {
   "cell_type": "code",
   "execution_count": 154,
   "metadata": {},
   "outputs": [
    {
     "data": {
      "text/plain": [
       "array([[1, 2, 1, 2, 1, 2],\n",
       "       [3, 4, 3, 4, 3, 4],\n",
       "       [5, 6, 5, 6, 5, 6]])"
      ]
     },
     "execution_count": 154,
     "metadata": {},
     "output_type": "execute_result"
    }
   ],
   "source": [
    "np.tile(values, 3) # x3 en columnas"
   ]
  },
  {
   "cell_type": "code",
   "execution_count": 155,
   "metadata": {},
   "outputs": [
    {
     "data": {
      "text/plain": [
       "array([[1, 2, 1, 2, 1, 2],\n",
       "       [3, 4, 3, 4, 3, 4],\n",
       "       [5, 6, 5, 6, 5, 6],\n",
       "       [1, 2, 1, 2, 1, 2],\n",
       "       [3, 4, 3, 4, 3, 4],\n",
       "       [5, 6, 5, 6, 5, 6]])"
      ]
     },
     "execution_count": 155,
     "metadata": {},
     "output_type": "execute_result"
    }
   ],
   "source": [
    "np.tile(values, (2, 3)) # x2 en filas; x3 en columnas"
   ]
  },
  {
   "cell_type": "markdown",
   "metadata": {},
   "source": [
    "### **Repetición por elementos:**"
   ]
  },
  {
   "cell_type": "markdown",
   "metadata": {},
   "source": [
    "El parámetro de repetición indica el número de veces que repetimos cada elemento del array:"
   ]
  },
  {
   "cell_type": "code",
   "execution_count": 163,
   "metadata": {},
   "outputs": [
    {
     "data": {
      "text/plain": [
       "array([[1, 2],\n",
       "       [3, 4],\n",
       "       [5, 6]])"
      ]
     },
     "execution_count": 163,
     "metadata": {},
     "output_type": "execute_result"
    }
   ],
   "source": [
    "import numpy as np\n",
    "\n",
    "values = np.array([[1, 2], [3, 4], [5, 6]])\n",
    "values"
   ]
  },
  {
   "cell_type": "code",
   "execution_count": 157,
   "metadata": {},
   "outputs": [
    {
     "data": {
      "text/plain": [
       "array([1, 1, 2, 2, 3, 3, 4, 4, 5, 5, 6, 6])"
      ]
     },
     "execution_count": 157,
     "metadata": {},
     "output_type": "execute_result"
    }
   ],
   "source": [
    "np.repeat(values, 2)"
   ]
  },
  {
   "cell_type": "code",
   "execution_count": 158,
   "metadata": {},
   "outputs": [
    {
     "data": {
      "text/plain": [
       "array([[1, 2],\n",
       "       [1, 2],\n",
       "       [3, 4],\n",
       "       [3, 4],\n",
       "       [5, 6],\n",
       "       [5, 6]])"
      ]
     },
     "execution_count": 158,
     "metadata": {},
     "output_type": "execute_result"
    }
   ],
   "source": [
    "np.repeat(values, 2, axis = 0) # x2 en filas"
   ]
  },
  {
   "cell_type": "code",
   "execution_count": 160,
   "metadata": {},
   "outputs": [
    {
     "data": {
      "text/plain": [
       "array([[1, 1, 1, 2, 2, 2],\n",
       "       [3, 3, 3, 4, 4, 4],\n",
       "       [5, 5, 5, 6, 6, 6]])"
      ]
     },
     "execution_count": 160,
     "metadata": {},
     "output_type": "execute_result"
    }
   ],
   "source": [
    "np.repeat(values, 3 ,axis = 1) # x3 en columnas"
   ]
  },
  {
   "cell_type": "markdown",
   "metadata": {},
   "source": [
    "### **Acceso por diagonal**"
   ]
  },
  {
   "cell_type": "markdown",
   "metadata": {},
   "source": [
    "Es bastante común acceder a elementos de una matriz (array en general) tomando como referencia su diagonal. Para ello, Numpy nos provee de ciertos mecanismos que veremos a continuación.\n",
    "\n",
    "Para ejemplificarlo, partiremos del siguiente array:"
   ]
  },
  {
   "cell_type": "code",
   "execution_count": 164,
   "metadata": {},
   "outputs": [
    {
     "data": {
      "text/plain": [
       "array([[73, 86, 90, 20],\n",
       "       [96, 55, 15, 48],\n",
       "       [38, 63, 96, 95],\n",
       "       [13, 87, 32, 96]])"
      ]
     },
     "execution_count": 164,
     "metadata": {},
     "output_type": "execute_result"
    }
   ],
   "source": [
    "import numpy as np\n",
    "\n",
    "values = np.array([[73, 86, 90, 20], [96, 55, 15, 48], [38, 63, 96, 95], [13, 87, 32, 96]])\n",
    "values"
   ]
  },
  {
   "cell_type": "markdown",
   "metadata": {},
   "source": [
    "## **Extracción de elementos por Diagonal**"
   ]
  },
  {
   "cell_type": "markdown",
   "metadata": {},
   "source": [
    "La función `np.diag()` permite acceder a los elementos de un array especificando un parámetro `k` que indica la distancia con la diagonal principal:"
   ]
  },
  {
   "cell_type": "markdown",
   "metadata": {},
   "source": [
    "![Array diagonal](../img/arraydiagonal.png \"Array diagonal\")\n"
   ]
  },
  {
   "cell_type": "markdown",
   "metadata": {},
   "source": [
    "Veamos cómo variando el parámetro `k` obtenemos distintos resultados:"
   ]
  },
  {
   "cell_type": "code",
   "execution_count": 165,
   "metadata": {},
   "outputs": [
    {
     "data": {
      "text/plain": [
       "array([73, 55, 96, 96])"
      ]
     },
     "execution_count": 165,
     "metadata": {},
     "output_type": "execute_result"
    }
   ],
   "source": [
    "np.diag(values) # k = 0"
   ]
  },
  {
   "cell_type": "code",
   "execution_count": 167,
   "metadata": {},
   "outputs": [
    {
     "name": "stdout",
     "output_type": "stream",
     "text": [
      "k = 1 [86 15 95]\n",
      "k = 2 [90 48]\n",
      "k = 3 [20]\n"
     ]
    }
   ],
   "source": [
    "for k in range(1, values.shape[0]):\n",
    "  print(f'k = {k}', np.diag(values, k = k))"
   ]
  },
  {
   "cell_type": "code",
   "execution_count": 168,
   "metadata": {},
   "outputs": [
    {
     "name": "stdout",
     "output_type": "stream",
     "text": [
      "k = -1 [96 63 32]\n",
      "k = -2 [38 87]\n",
      "k = -3 [13]\n"
     ]
    }
   ],
   "source": [
    "for k in range(1, values.shape[0]):\n",
    "  print(f'k = {-k}', np.diag(values, k = -k))"
   ]
  },
  {
   "cell_type": "markdown",
   "metadata": {},
   "source": [
    "### **Modificación de Elementos por Diagonal**"
   ]
  },
  {
   "cell_type": "markdown",
   "metadata": {},
   "source": [
    "Numpy también provee un método `np.diag_indices()` que retorna los índices de los elementos de la diagonal principal, con lo que podemos modificar sus valores directamente:"
   ]
  },
  {
   "cell_type": "code",
   "execution_count": 169,
   "metadata": {},
   "outputs": [
    {
     "data": {
      "text/plain": [
       "array([[73, 86, 90, 20],\n",
       "       [96, 55, 15, 48],\n",
       "       [38, 63, 96, 95],\n",
       "       [13, 87, 32, 96]])"
      ]
     },
     "execution_count": 169,
     "metadata": {},
     "output_type": "execute_result"
    }
   ],
   "source": [
    "values"
   ]
  },
  {
   "cell_type": "code",
   "execution_count": 170,
   "metadata": {},
   "outputs": [
    {
     "data": {
      "text/plain": [
       "(array([0, 1, 2, 3]), array([0, 1, 2, 3]))"
      ]
     },
     "execution_count": 170,
     "metadata": {},
     "output_type": "execute_result"
    }
   ],
   "source": [
    "di = np.diag_indices(values.shape[0])\n",
    "di"
   ]
  },
  {
   "cell_type": "code",
   "execution_count": 171,
   "metadata": {},
   "outputs": [
    {
     "data": {
      "text/plain": [
       "array([[ 0, 86, 90, 20],\n",
       "       [96,  0, 15, 48],\n",
       "       [38, 63,  0, 95],\n",
       "       [13, 87, 32,  0]])"
      ]
     },
     "execution_count": 171,
     "metadata": {},
     "output_type": "execute_result"
    }
   ],
   "source": [
    "values[di] = 0\n",
    "values"
   ]
  },
  {
   "cell_type": "markdown",
   "metadata": {},
   "source": [
    "> **Truco**\n",
    ">\n",
    "> Existen igualmente las funciones `np.triu_indices()` y `np.tril_indices()` para obtener los índices de la diagonal superior e inferior de una matriz."
   ]
  },
  {
   "cell_type": "markdown",
   "metadata": {},
   "source": [
    "## **Operaciones sobre arrays**"
   ]
  },
  {
   "cell_type": "markdown",
   "metadata": {},
   "source": [
    "### **Operaciones lógicas**"
   ]
  },
  {
   "cell_type": "markdown",
   "metadata": {},
   "source": [
    "**Indexado Booleano**"
   ]
  },
  {
   "cell_type": "markdown",
   "metadata": {},
   "source": [
    "El indexado booleano es una operación que permite conocer (a nivel de elemento) si un array cumple o no con una determinada condición:"
   ]
  },
  {
   "cell_type": "code",
   "execution_count": 174,
   "metadata": {},
   "outputs": [
    {
     "data": {
      "text/plain": [
       "array([[60, 47, 34, 38],\n",
       "       [43, 63, 37, 68],\n",
       "       [58, 28, 31, 43],\n",
       "       [32, 65, 32, 96]])"
      ]
     },
     "execution_count": 174,
     "metadata": {},
     "output_type": "execute_result"
    }
   ],
   "source": [
    "import numpy as np\n",
    "\n",
    "values = np.array([[60, 47, 34, 38],\n",
    "       [43, 63, 37, 68],\n",
    "       [58, 28, 31, 43],\n",
    "       [32, 65, 32, 96]])\n",
    "values"
   ]
  },
  {
   "cell_type": "code",
   "execution_count": 175,
   "metadata": {},
   "outputs": [
    {
     "data": {
      "text/plain": [
       "array([[ True, False, False, False],\n",
       "       [False,  True, False,  True],\n",
       "       [ True, False, False, False],\n",
       "       [False,  True, False,  True]])"
      ]
     },
     "execution_count": 175,
     "metadata": {},
     "output_type": "execute_result"
    }
   ],
   "source": [
    "values > 50 # indexado booleano"
   ]
  },
  {
   "cell_type": "code",
   "execution_count": 177,
   "metadata": {},
   "outputs": [
    {
     "data": {
      "text/plain": [
       "array([60, 63, 68, 58, 65, 96])"
      ]
     },
     "execution_count": 177,
     "metadata": {},
     "output_type": "execute_result"
    }
   ],
   "source": [
    "values[values > 50] # uso de máscara"
   ]
  },
  {
   "cell_type": "code",
   "execution_count": 178,
   "metadata": {},
   "outputs": [
    {
     "data": {
      "text/plain": [
       "array([[-1, 47, 34, 38],\n",
       "       [43, -1, 37, -1],\n",
       "       [-1, 28, 31, 43],\n",
       "       [32, -1, 32, -1]])"
      ]
     },
     "execution_count": 178,
     "metadata": {},
     "output_type": "execute_result"
    }
   ],
   "source": [
    "values[values > 50] = -1 #modificación de valores\n",
    "values"
   ]
  },
  {
   "cell_type": "markdown",
   "metadata": {},
   "source": [
    "Las condiciones pueden ser más complejas e incorporar operadores lógicos | (or) y & (and):"
   ]
  },
  {
   "cell_type": "code",
   "execution_count": 180,
   "metadata": {},
   "outputs": [
    {
     "data": {
      "text/plain": [
       "array([[60, 47, 34, 38],\n",
       "       [43, 63, 37, 68],\n",
       "       [58, 28, 31, 43],\n",
       "       [32, 65, 32, 96]])"
      ]
     },
     "execution_count": 180,
     "metadata": {},
     "output_type": "execute_result"
    }
   ],
   "source": [
    "import numpy as np\n",
    "\n",
    "values = np.array([[60, 47, 34, 38],\n",
    "       [43, 63, 37, 68],\n",
    "       [58, 28, 31, 43],\n",
    "       [32, 65, 32, 96]])\n",
    "values"
   ]
  },
  {
   "cell_type": "code",
   "execution_count": 181,
   "metadata": {},
   "outputs": [
    {
     "data": {
      "text/plain": [
       "array([[False, False, False, False],\n",
       "       [False, False, False, False],\n",
       "       [False, False, False, False],\n",
       "       [False, False, False,  True]])"
      ]
     },
     "execution_count": 181,
     "metadata": {},
     "output_type": "execute_result"
    }
   ],
   "source": [
    "(values < 25) | (values > 75)"
   ]
  },
  {
   "cell_type": "code",
   "execution_count": 182,
   "metadata": {},
   "outputs": [
    {
     "data": {
      "text/plain": [
       "array([[ True,  True,  True,  True],\n",
       "       [ True,  True,  True,  True],\n",
       "       [ True,  True,  True,  True],\n",
       "       [ True,  True,  True, False]])"
      ]
     },
     "execution_count": 182,
     "metadata": {},
     "output_type": "execute_result"
    }
   ],
   "source": [
    "(values > 25) & (values < 75)"
   ]
  },
  {
   "cell_type": "markdown",
   "metadata": {},
   "source": [
    "> **Consejo**\n",
    ">\n",
    "> El uso de paréntesis es obligatorio si queremos mantener la precedencia y que funcione correctamente."
   ]
  },
  {
   "cell_type": "markdown",
   "metadata": {},
   "source": [
    "> **Ejercicio**"
   ]
  },
  {
   "cell_type": "markdown",
   "metadata": {},
   "source": [
    "Extraiga todos los números impares de la siguiente matriz:\n",
    "\n",
    "\\begin{equation*}\n",
    "values =\n",
    "\\begin{bmatrix}\n",
    "10 & 11 & 12 & 13\\\\\n",
    "14 & 15 & 16 & 17\\\\\n",
    "18 & 19 & 20 & 21\n",
    "\\end{bmatrix}\n",
    "\\end{equation*}"
   ]
  },
  {
   "cell_type": "code",
   "execution_count": 183,
   "metadata": {},
   "outputs": [
    {
     "name": "stdout",
     "output_type": "stream",
     "text": [
      "[11 13 15 17 19 21]\n"
     ]
    }
   ],
   "source": [
    "import numpy as np\n",
    "\n",
    "# Definir la matriz\n",
    "values = np.array([[10, 11, 12, 13],\n",
    "                  [14, 15, 16, 17],\n",
    "                  [18, 19, 20, 21]])\n",
    "\n",
    "# Utilizar NumPy para filtrar los números impares\n",
    "numeros_impares = values[values % 2 != 0]\n",
    "\n",
    "# Imprimir los números impares\n",
    "print(numeros_impares)"
   ]
  },
  {
   "cell_type": "markdown",
   "metadata": {},
   "source": [
    "Si lo que nos interesa es obtener los índices del array que satisfacen una determinada condición, Numpy nos proporciona el método `where()` cuyo comportamiento se ejemplifica a continuación:"
   ]
  },
  {
   "cell_type": "code",
   "execution_count": 185,
   "metadata": {},
   "outputs": [
    {
     "data": {
      "text/plain": [
       "array([[60, 47, 34, 38],\n",
       "       [43, 63, 37, 68],\n",
       "       [58, 28, 31, 43],\n",
       "       [32, 65, 32, 96]])"
      ]
     },
     "execution_count": 185,
     "metadata": {},
     "output_type": "execute_result"
    }
   ],
   "source": [
    "values = np.array([[60, 47, 34, 38],\n",
    "       [43, 63, 37, 68],\n",
    "       [58, 28, 31, 43],\n",
    "       [32, 65, 32, 96]])\n",
    "values"
   ]
  },
  {
   "cell_type": "code",
   "execution_count": 186,
   "metadata": {},
   "outputs": [
    {
     "data": {
      "text/plain": [
       "(array([0, 1, 1, 2, 3, 3]), array([0, 1, 3, 0, 1, 3]))"
      ]
     },
     "execution_count": 186,
     "metadata": {},
     "output_type": "execute_result"
    }
   ],
   "source": [
    "idx = np.where(values > 50)\n",
    "idx"
   ]
  },
  {
   "cell_type": "code",
   "execution_count": 187,
   "metadata": {},
   "outputs": [
    {
     "data": {
      "text/plain": [
       "array([60, 63, 68, 58, 65, 96])"
      ]
     },
     "execution_count": 187,
     "metadata": {},
     "output_type": "execute_result"
    }
   ],
   "source": [
    "values[idx]"
   ]
  },
  {
   "cell_type": "markdown",
   "metadata": {},
   "source": [
    "> **Ejercicio**"
   ]
  },
  {
   "cell_type": "markdown",
   "metadata": {},
   "source": [
    "Pariendo de una matriz de 10 filas y 10 columnas con valores aleatorios en el intervalo [0, 100], realice las operaciones necesarias para obtener una matriz de las mismas dimensiones donde:\n",
    "\n",
    "* Todos los elementos de la diagonal sean 50.\n",
    "* Los elementos mayores que 50 tenga valor 100.\n",
    "* Los elementos menores que 50 tengan valor 0."
   ]
  },
  {
   "cell_type": "code",
   "execution_count": 188,
   "metadata": {},
   "outputs": [
    {
     "name": "stdout",
     "output_type": "stream",
     "text": [
      "[[ 50   0   0 100   0 100   0 100 100 100]\n",
      " [  0  50   0   0 100 100 100   0   0   0]\n",
      " [100   0  50 100   0 100   0   0 100 100]\n",
      " [100 100   0  50   0   0 100 100 100   0]\n",
      " [100 100   0   0  50   0 100   0 100 100]\n",
      " [  0   0   0 100   0  50 100   0 100 100]\n",
      " [  0 100   0   0 100 100  50 100 100 100]\n",
      " [100 100   0 100   0 100   0  50   0 100]\n",
      " [100 100 100   0   0 100   0 100  50   0]\n",
      " [  0 100 100 100 100   0 100 100 100  50]]\n"
     ]
    }
   ],
   "source": [
    "import numpy as np\n",
    "\n",
    "# Crear una matriz aleatoria de 10x10 con valores entre 0 y 100\n",
    "matriz_original = np.random.randint(0, 101, (10, 10))\n",
    "\n",
    "# Establecer todos los elementos de la diagonal en 50\n",
    "np.fill_diagonal(matriz_original, 50)\n",
    "\n",
    "# Reemplazar los valores mayores que 50 por 100\n",
    "matriz_original[matriz_original > 50] = 100\n",
    "\n",
    "# Reemplazar los valores menores que 50 por 0\n",
    "matriz_original[matriz_original < 50] = 0\n",
    "\n",
    "# Imprimir la matriz resultante\n",
    "print(matriz_original)"
   ]
  },
  {
   "cell_type": "markdown",
   "metadata": {},
   "source": [
    "### **Comparando Arrays**"
   ]
  },
  {
   "cell_type": "markdown",
   "metadata": {},
   "source": [
    "Dados dos arrays podemos compararlos usando el operador `==` del mismo modo que con cualquier otro objeto en Python. La cuestión es que el resultado se evalúa a nivel de elemento:"
   ]
  },
  {
   "cell_type": "code",
   "execution_count": 190,
   "metadata": {},
   "outputs": [
    {
     "data": {
      "text/plain": [
       "array([[ True,  True],\n",
       "       [ True,  True]])"
      ]
     },
     "execution_count": 190,
     "metadata": {},
     "output_type": "execute_result"
    }
   ],
   "source": [
    "m1 = np.array([[1, 2], [3, 4]])\n",
    "m3 = np.array([[1, 2], [3, 4]])\n",
    "\n",
    "m1 == m3"
   ]
  },
  {
   "cell_type": "markdown",
   "metadata": {},
   "source": [
    "Si queremos comparar arrays en su totalidad, podemos hacer uso de la siguiente función:"
   ]
  },
  {
   "cell_type": "code",
   "execution_count": 191,
   "metadata": {},
   "outputs": [
    {
     "data": {
      "text/plain": [
       "True"
      ]
     },
     "execution_count": 191,
     "metadata": {},
     "output_type": "execute_result"
    }
   ],
   "source": [
    "np.array_equal(m1, m3)"
   ]
  },
  {
   "cell_type": "markdown",
   "metadata": {},
   "source": [
    "### **Operaciones de conjunto**"
   ]
  },
  {
   "cell_type": "markdown",
   "metadata": {},
   "source": [
    "Al igual que existen operaciones sobre conjuntos en Python, tambien podemos llevarlas a cabo sobre arrays en Numpy."
   ]
  },
  {
   "cell_type": "markdown",
   "metadata": {},
   "source": [
    "**UNIÓN DE ARRAYS**"
   ]
  },
  {
   "cell_type": "markdown",
   "metadata": {},
   "source": [
    "$x \\cup y$"
   ]
  },
  {
   "cell_type": "code",
   "execution_count": 194,
   "metadata": {},
   "outputs": [],
   "source": [
    "x = np.array([9, 4, 11, 3, 14, 5, 13, 12, 7, 14])\n",
    "y = np.array([17, 9, 19, 4, 18, 4, 7, 13, 11, 10])"
   ]
  },
  {
   "cell_type": "code",
   "execution_count": 195,
   "metadata": {},
   "outputs": [
    {
     "data": {
      "text/plain": [
       "array([ 9,  4, 11,  3, 14,  5, 13, 12,  7, 14])"
      ]
     },
     "execution_count": 195,
     "metadata": {},
     "output_type": "execute_result"
    }
   ],
   "source": [
    "x"
   ]
  },
  {
   "cell_type": "code",
   "execution_count": 196,
   "metadata": {},
   "outputs": [
    {
     "data": {
      "text/plain": [
       "array([17,  9, 19,  4, 18,  4,  7, 13, 11, 10])"
      ]
     },
     "execution_count": 196,
     "metadata": {},
     "output_type": "execute_result"
    }
   ],
   "source": [
    "y"
   ]
  },
  {
   "cell_type": "code",
   "execution_count": 197,
   "metadata": {},
   "outputs": [
    {
     "data": {
      "text/plain": [
       "array([ 3,  4,  5,  7,  9, 10, 11, 12, 13, 14, 17, 18, 19])"
      ]
     },
     "execution_count": 197,
     "metadata": {},
     "output_type": "execute_result"
    }
   ],
   "source": [
    "np.union1d(x, y)"
   ]
  },
  {
   "cell_type": "markdown",
   "metadata": {},
   "source": [
    "**INTERSECCIÓN DE ARRAYS**"
   ]
  },
  {
   "cell_type": "markdown",
   "metadata": {},
   "source": [
    "$ x \\cap y$"
   ]
  },
  {
   "cell_type": "code",
   "execution_count": 198,
   "metadata": {},
   "outputs": [
    {
     "data": {
      "text/plain": [
       "array([ 9,  4, 11,  3, 14,  5, 13, 12,  7, 14])"
      ]
     },
     "execution_count": 198,
     "metadata": {},
     "output_type": "execute_result"
    }
   ],
   "source": [
    "x"
   ]
  },
  {
   "cell_type": "code",
   "execution_count": 199,
   "metadata": {},
   "outputs": [
    {
     "data": {
      "text/plain": [
       "array([17,  9, 19,  4, 18,  4,  7, 13, 11, 10])"
      ]
     },
     "execution_count": 199,
     "metadata": {},
     "output_type": "execute_result"
    }
   ],
   "source": [
    "y"
   ]
  },
  {
   "cell_type": "code",
   "execution_count": 200,
   "metadata": {},
   "outputs": [
    {
     "data": {
      "text/plain": [
       "array([ 4,  7,  9, 11, 13])"
      ]
     },
     "execution_count": 200,
     "metadata": {},
     "output_type": "execute_result"
    }
   ],
   "source": [
    "np.intersect1d(x, y)"
   ]
  },
  {
   "cell_type": "markdown",
   "metadata": {},
   "source": [
    "**DIFERENCIA DE ARRAYS**"
   ]
  },
  {
   "cell_type": "markdown",
   "metadata": {},
   "source": [
    "$x \\setminus y$"
   ]
  },
  {
   "cell_type": "code",
   "execution_count": 201,
   "metadata": {},
   "outputs": [
    {
     "data": {
      "text/plain": [
       "array([ 9,  4, 11,  3, 14,  5, 13, 12,  7, 14])"
      ]
     },
     "execution_count": 201,
     "metadata": {},
     "output_type": "execute_result"
    }
   ],
   "source": [
    "x"
   ]
  },
  {
   "cell_type": "code",
   "execution_count": 202,
   "metadata": {},
   "outputs": [
    {
     "data": {
      "text/plain": [
       "array([17,  9, 19,  4, 18,  4,  7, 13, 11, 10])"
      ]
     },
     "execution_count": 202,
     "metadata": {},
     "output_type": "execute_result"
    }
   ],
   "source": [
    "y"
   ]
  },
  {
   "cell_type": "code",
   "execution_count": 203,
   "metadata": {},
   "outputs": [
    {
     "data": {
      "text/plain": [
       "array([ 3,  5, 12, 14])"
      ]
     },
     "execution_count": 203,
     "metadata": {},
     "output_type": "execute_result"
    }
   ],
   "source": [
    "np.setdiff1d(x, y)"
   ]
  },
  {
   "cell_type": "markdown",
   "metadata": {},
   "source": [
    "### **Ordenación de arrays**"
   ]
  },
  {
   "cell_type": "markdown",
   "metadata": {},
   "source": [
    "En términos generales, existen dos formas de ordenar cualquier estructura de datos, una que modifica in-situ los valores (destructiva) y otra que devuelve nuevos valores (no destructiva). En el caso de Numpy también es así."
   ]
  },
  {
   "cell_type": "markdown",
   "metadata": {},
   "source": [
    "**ORDENACIÓN SOBRE ARRAYS UNIDIMENSIONALES**"
   ]
  },
  {
   "cell_type": "code",
   "execution_count": 205,
   "metadata": {},
   "outputs": [
    {
     "data": {
      "text/plain": [
       "array([23, 24, 92, 88, 75, 68, 12, 91, 94, 24,  9, 21, 42,  3, 66])"
      ]
     },
     "execution_count": 205,
     "metadata": {},
     "output_type": "execute_result"
    }
   ],
   "source": [
    "values = np.array([23, 24, 92, 88, 75, 68, 12, 91, 94, 24, 9, 21, 42, 3, 66])\n",
    "values"
   ]
  },
  {
   "cell_type": "code",
   "execution_count": 206,
   "metadata": {},
   "outputs": [
    {
     "data": {
      "text/plain": [
       "array([ 3,  9, 12, 21, 23, 24, 24, 42, 66, 68, 75, 88, 91, 92, 94])"
      ]
     },
     "execution_count": 206,
     "metadata": {},
     "output_type": "execute_result"
    }
   ],
   "source": [
    "np.sort(values) # no destructivo"
   ]
  },
  {
   "cell_type": "code",
   "execution_count": 207,
   "metadata": {},
   "outputs": [],
   "source": [
    "values.sort() # destructivo"
   ]
  },
  {
   "cell_type": "code",
   "execution_count": 208,
   "metadata": {},
   "outputs": [
    {
     "data": {
      "text/plain": [
       "array([ 3,  9, 12, 21, 23, 24, 24, 42, 66, 68, 75, 88, 91, 92, 94])"
      ]
     },
     "execution_count": 208,
     "metadata": {},
     "output_type": "execute_result"
    }
   ],
   "source": [
    "values"
   ]
  },
  {
   "cell_type": "markdown",
   "metadata": {},
   "source": [
    "**ORDENACIÓN SOBRE ARRAYS MULTIDIMENSIONALES**"
   ]
  },
  {
   "cell_type": "code",
   "execution_count": 210,
   "metadata": {},
   "outputs": [
    {
     "data": {
      "text/plain": [
       "array([[52, 23, 90, 46],\n",
       "       [61, 63, 74, 59],\n",
       "       [75,  5, 58, 70],\n",
       "       [21,  7, 80, 52]])"
      ]
     },
     "execution_count": 210,
     "metadata": {},
     "output_type": "execute_result"
    }
   ],
   "source": [
    "values = np.array([[52, 23, 90, 46],\n",
    "       [61, 63, 74, 59],\n",
    "       [75, 5, 58, 70],\n",
    "       [21, 7, 80, 52]])\n",
    "values"
   ]
  },
  {
   "cell_type": "code",
   "execution_count": 211,
   "metadata": {},
   "outputs": [
    {
     "data": {
      "text/plain": [
       "array([[23, 46, 52, 90],\n",
       "       [59, 61, 63, 74],\n",
       "       [ 5, 58, 70, 75],\n",
       "       [ 7, 21, 52, 80]])"
      ]
     },
     "execution_count": 211,
     "metadata": {},
     "output_type": "execute_result"
    }
   ],
   "source": [
    "np.sort(values, axis=1) # equivale a np.sort(values)"
   ]
  },
  {
   "cell_type": "code",
   "execution_count": 212,
   "metadata": {},
   "outputs": [
    {
     "data": {
      "text/plain": [
       "array([[21,  5, 58, 46],\n",
       "       [52,  7, 74, 52],\n",
       "       [61, 23, 80, 59],\n",
       "       [75, 63, 90, 70]])"
      ]
     },
     "execution_count": 212,
     "metadata": {},
     "output_type": "execute_result"
    }
   ],
   "source": [
    "np.sort(values, axis = 0)"
   ]
  },
  {
   "cell_type": "markdown",
   "metadata": {},
   "source": [
    "> **Nota**\n",
    ">\n",
    "> También existe `values.sort(axis = 1)` y `values.sort(axis = 0)` como métodos destructivos de ordenación."
   ]
  },
  {
   "cell_type": "markdown",
   "metadata": {},
   "source": [
    "### **Contando valores**"
   ]
  },
  {
   "cell_type": "markdown",
   "metadata": {},
   "source": [
    "Otra de las herramientas útiles que proporciona Numpy es la posibilidad de contar el número de valores que existen en un array en base a ciertos criterios.\n",
    "\n",
    "Para ejemplificarlo, partiremos de un array unidimensional con valores de una distribución aleatoria uniforme en el intervalo [1, 10]:"
   ]
  },
  {
   "cell_type": "code",
   "execution_count": 213,
   "metadata": {},
   "outputs": [
    {
     "data": {
      "text/plain": [
       "array([ 8,  6, 10, 10,  4,  3,  3,  7,  2,  7,  8,  4,  2,  6, 10, 10,  7,\n",
       "        9,  5,  9,  2,  9,  9,  9,  3,  1,  5,  5,  1,  9,  7,  8,  4,  5,\n",
       "        9,  1,  1,  8,  9,  5,  7,  8,  4,  4,  3,  9,  1,  4,  4,  7,  3,\n",
       "        4,  6,  8,  9, 10,  3,  3,  7,  4, 10,  8,  2,  2,  5,  1,  7,  6,\n",
       "        5,  3,  6,  6,  9,  1,  8,  4,  9,  6,  8,  1, 10,  9,  2,  6,  6,\n",
       "        1,  4,  2,  5,  8, 10,  7,  4,  8,  9,  2,  3,  5,  2,  1,  4,  8,\n",
       "        5,  6,  7,  4, 10,  4,  5,  4,  3,  1,  7,  7, 10,  5,  2,  6,  1,\n",
       "        6,  7,  6,  6, 10,  8,  6,  9, 10,  3,  2,  3,  2,  8,  5, 10,  3,\n",
       "        6,  1,  2, 10,  8,  1,  9,  5,  5,  8,  4, 10,  5,  8,  2,  4,  9,\n",
       "        3,  2,  5,  7,  9,  2,  8,  6,  8,  5,  9,  1,  5,  2,  7,  9,  3,\n",
       "        1,  5,  5,  6,  4,  4,  4,  7,  4,  4,  3,  2,  5,  5,  9,  9,  7,\n",
       "        8,  7,  7,  6,  5,  1,  1, 10,  4,  1,  6,  2,  1,  2,  8,  9,  9,\n",
       "        4,  4,  5, 10,  1,  5, 10,  3,  3,  4,  3, 10,  7,  9,  5,  1,  9,\n",
       "        2,  3,  7,  8,  5,  7,  6,  6, 10,  4,  1,  7,  5, 10,  4,  1,  6,\n",
       "        5,  5,  8,  1,  8,  2,  7,  9,  8,  7, 10,  4, 10,  9,  3,  8,  3,\n",
       "        2,  2, 10,  9,  2,  1,  6,  9,  4, 10,  6,  3,  1,  6,  3,  5, 10,\n",
       "        5,  3,  6,  8,  9,  8,  5,  8,  8,  7,  3,  9,  5,  6,  4, 10,  1,\n",
       "        2,  2,  5,  6,  2,  5,  4,  3,  4,  6,  7, 10,  1,  5,  2,  1,  5,\n",
       "        1,  9,  5,  8,  2,  3,  2,  6,  9,  2,  8,  1,  2,  4,  1,  6,  8,\n",
       "        6, 10,  9, 10,  2,  5,  5,  4,  4,  9,  8,  1,  3,  9,  4,  4,  7,\n",
       "        9,  4,  8,  5,  8,  9,  6,  1,  2,  7, 10,  6,  3,  6,  5,  4,  9,\n",
       "        1,  7,  8,  8,  7,  9, 10,  5,  1,  6,  6,  1,  8,  7,  5,  8, 10,\n",
       "        3, 10,  8, 10,  6,  8,  3,  7,  9,  8,  4,  5,  5,  4,  6,  1,  9,\n",
       "        9, 10,  4,  3,  4,  9,  2,  8,  8,  1,  3,  8,  1,  4,  3, 10,  4,\n",
       "        4,  7, 10, 10,  3,  5,  6,  3,  1,  9,  6,  8,  4,  1,  9,  4,  9,\n",
       "        8,  8,  9,  6,  1,  8, 10,  1,  5,  1,  4,  2,  1,  6,  4,  9,  5,\n",
       "        9,  7,  5,  6,  7,  1, 10,  8,  9,  8,  6,  5, 10,  4,  9,  6, 10,\n",
       "        3,  8,  5,  9,  6,  5,  6,  2,  8, 10,  1,  5,  6,  9,  4,  7,  6,\n",
       "        1, 10, 10,  6,  1,  8,  1,  8,  1,  9,  4, 10,  2,  6,  9,  5,  1,\n",
       "       10,  4,  8,  2,  1,  2,  3,  7,  9,  2,  5,  7,  1,  2,  5,  1,  8,\n",
       "        8,  3,  3, 10,  3,  2,  3, 10,  8,  4,  5,  4,  2,  5,  5,  7,  8,\n",
       "        3, 10,  2,  4,  7,  3,  8,  2, 10,  6,  6,  3,  2,  2,  9,  1,  4,\n",
       "        8,  3,  4,  3,  7,  5,  5,  4,  7,  2,  6,  3,  7, 10,  3,  9,  1,\n",
       "        2,  6,  4,  9,  4, 10,  5, 10,  6,  9,  4,  4,  4,  8,  2, 10,  9,\n",
       "        6,  9, 10,  2,  8,  9,  3,  1,  4,  6,  1,  4,  2, 10,  2,  2,  3,\n",
       "        4,  4,  2,  7,  1,  4,  6,  6,  9,  9,  6,  8,  2,  1, 10,  8, 10,\n",
       "        4,  2,  1,  9, 10,  2,  7,  7,  3,  4,  6,  9,  3,  2,  9,  2,  7,\n",
       "        2,  5,  8,  6,  4, 10,  6,  3,  1, 10,  1,  2,  2,  7,  8, 10,  3,\n",
       "        9,  6,  3,  5,  3,  8,  3,  4,  7,  4,  7,  8,  7,  3,  2,  1,  1,\n",
       "        3,  9,  1,  7,  6,  5,  5,  8,  5,  8,  3,  1,  6, 10,  1,  4,  9,\n",
       "        6, 10,  8,  7,  3, 10,  5,  1,  7,  8,  7,  4,  9, 10,  4,  1,  8,\n",
       "        5, 10, 10,  7,  9,  1,  9,  4, 10,  3,  5,  5,  7,  1,  7,  2,  5,\n",
       "        5,  5,  6,  8,  1, 10,  4,  1,  1,  4,  3,  8,  6,  5,  9,  6,  5,\n",
       "        1, 10,  2,  7,  5,  4,  9,  9,  7,  9,  7,  3,  2,  8,  6,  3,  3,\n",
       "        9,  2,  9,  2,  7,  8,  9,  8,  4,  2,  6,  5,  6,  5,  9,  1,  6,\n",
       "        6,  1,  4,  2,  4,  9,  7,  7,  4,  2, 10,  7,  2,  8,  4,  5,  8,\n",
       "        3,  2,  5,  5,  8, 10, 10,  2,  6,  5,  7,  9,  1, 10,  2,  2,  2,\n",
       "        4,  5,  8,  7,  2,  3,  1,  4,  4,  5,  4,  8,  4,  9,  3,  2,  4,\n",
       "       10, 10,  1,  7,  9, 10,  2, 10, 10,  7,  9,  4,  8,  4,  5,  4,  8,\n",
       "        7,  8,  2,  2,  7,  1,  7,  6,  9,  3,  1,  2,  7,  8,  5,  8,  7,\n",
       "        2,  1, 10,  4,  5,  4,  1,  9,  6,  8, 10,  7,  7,  4,  6,  7,  8,\n",
       "       10,  5,  3,  6,  4,  2,  5,  1,  7,  6,  1,  1,  9,  5,  7,  3,  4,\n",
       "        2,  3,  1,  5,  4,  8,  2,  5,  1,  3,  5,  3,  1, 10, 10,  1,  2,\n",
       "        4,  6,  9,  2, 10,  8,  3, 10,  3,  9,  7,  1,  3, 10,  1, 10,  8,\n",
       "        3,  8,  4,  1,  6,  2,  4,  3,  7,  2,  4,  8,  4,  8,  8,  3,  9,\n",
       "        8,  2,  7,  2,  4, 10,  8,  3,  4, 10,  1,  6,  1,  4,  7,  3,  5,\n",
       "        9,  8,  1,  5,  8,  1,  6,  5,  1,  6,  5,  4,  4,  1,  3,  9,  1,\n",
       "        6,  3, 10,  6,  4,  2,  2, 10,  7,  2,  8,  3,  8,  6,  4,  7,  1,\n",
       "        3,  8,  2,  6,  1,  9,  6,  7, 10,  1,  9,  8,  5,  3])"
      ]
     },
     "execution_count": 213,
     "metadata": {},
     "output_type": "execute_result"
    }
   ],
   "source": [
    "randomized = np.random.randint(1 , 11, size = 1000)\n",
    "randomized"
   ]
  },
  {
   "cell_type": "markdown",
   "metadata": {},
   "source": [
    "**Valores únicos:**"
   ]
  },
  {
   "cell_type": "code",
   "execution_count": 214,
   "metadata": {},
   "outputs": [
    {
     "data": {
      "text/plain": [
       "array([ 1,  2,  3,  4,  5,  6,  7,  8,  9, 10])"
      ]
     },
     "execution_count": 214,
     "metadata": {},
     "output_type": "execute_result"
    }
   ],
   "source": [
    "np.unique(randomized)"
   ]
  },
  {
   "cell_type": "markdown",
   "metadata": {},
   "source": [
    "**Valores únicos (incluyendo frecuencias):**"
   ]
  },
  {
   "cell_type": "code",
   "execution_count": 215,
   "metadata": {},
   "outputs": [
    {
     "data": {
      "text/plain": [
       "(array([ 1,  2,  3,  4,  5,  6,  7,  8,  9, 10]),\n",
       " array([108, 100,  90, 116, 102,  94,  87, 108,  99,  96]))"
      ]
     },
     "execution_count": 215,
     "metadata": {},
     "output_type": "execute_result"
    }
   ],
   "source": [
    "np.unique(randomized, return_counts=True)"
   ]
  },
  {
   "cell_type": "markdown",
   "metadata": {},
   "source": [
    "**Valores distintos de cero:**"
   ]
  },
  {
   "cell_type": "code",
   "execution_count": 216,
   "metadata": {},
   "outputs": [
    {
     "data": {
      "text/plain": [
       "1000"
      ]
     },
     "execution_count": 216,
     "metadata": {},
     "output_type": "execute_result"
    }
   ],
   "source": [
    "np.count_nonzero(randomized)"
   ]
  },
  {
   "cell_type": "markdown",
   "metadata": {},
   "source": [
    "**Valores distintos de cero (incluyendo condición):**"
   ]
  },
  {
   "cell_type": "code",
   "execution_count": 217,
   "metadata": {},
   "outputs": [
    {
     "data": {
      "text/plain": [
       "484"
      ]
     },
     "execution_count": 217,
     "metadata": {},
     "output_type": "execute_result"
    }
   ],
   "source": [
    "np.count_nonzero(randomized > 5)"
   ]
  },
  {
   "cell_type": "markdown",
   "metadata": {},
   "source": [
    "### **Operaciones aritméticas**"
   ]
  },
  {
   "cell_type": "markdown",
   "metadata": {},
   "source": [
    "Una de las grandes ventajas del uso de arrays numéricos en Numpy es la posibilidad de trabajar con ellos como si fueran objetos simples pero sacando partido de la aritmética vectorial. Esto redunda en una mayor eficacia y rapidez de cómputo."
   ]
  },
  {
   "cell_type": "markdown",
   "metadata": {},
   "source": [
    "**OPERACIONES ARITMÉTICAS CON MISMAS DIMENSIONES**"
   ]
  },
  {
   "cell_type": "markdown",
   "metadata": {},
   "source": [
    "Cuando operamos entre arrays de las mismas dimensiones, las operaciones aritméticas se realizan elemento a elemento (ocupando misma posición) y el resultado, obviamente, tiene las mismas dimensiones:"
   ]
  },
  {
   "cell_type": "code",
   "execution_count": 218,
   "metadata": {},
   "outputs": [
    {
     "data": {
      "text/plain": [
       "array([[21, 86, 45],\n",
       "       [31, 36, 78],\n",
       "       [31, 64, 70]])"
      ]
     },
     "execution_count": 218,
     "metadata": {},
     "output_type": "execute_result"
    }
   ],
   "source": [
    "m1 = np.array([[21, 86, 45],\n",
    "       [31, 36, 78],\n",
    "       [31, 64, 70]])\n",
    "m1"
   ]
  },
  {
   "cell_type": "code",
   "execution_count": 219,
   "metadata": {},
   "outputs": [
    {
     "data": {
      "text/plain": [
       "array([[58, 67, 17],\n",
       "       [99, 53,  9],\n",
       "       [92, 42, 75]])"
      ]
     },
     "execution_count": 219,
     "metadata": {},
     "output_type": "execute_result"
    }
   ],
   "source": [
    "m2 = np.array([[58, 67, 17],\n",
    "       [99, 53, 9],\n",
    "       [92, 42, 75]])\n",
    "m2"
   ]
  },
  {
   "cell_type": "code",
   "execution_count": 220,
   "metadata": {},
   "outputs": [
    {
     "data": {
      "text/plain": [
       "array([[ 79, 153,  62],\n",
       "       [130,  89,  87],\n",
       "       [123, 106, 145]])"
      ]
     },
     "execution_count": 220,
     "metadata": {},
     "output_type": "execute_result"
    }
   ],
   "source": [
    "m1 + m2"
   ]
  },
  {
   "cell_type": "code",
   "execution_count": 221,
   "metadata": {},
   "outputs": [
    {
     "data": {
      "text/plain": [
       "array([[-37,  19,  28],\n",
       "       [-68, -17,  69],\n",
       "       [-61,  22,  -5]])"
      ]
     },
     "execution_count": 221,
     "metadata": {},
     "output_type": "execute_result"
    }
   ],
   "source": [
    "m1 - m2"
   ]
  },
  {
   "cell_type": "code",
   "execution_count": 222,
   "metadata": {},
   "outputs": [
    {
     "data": {
      "text/plain": [
       "array([[1218, 5762,  765],\n",
       "       [3069, 1908,  702],\n",
       "       [2852, 2688, 5250]])"
      ]
     },
     "execution_count": 222,
     "metadata": {},
     "output_type": "execute_result"
    }
   ],
   "source": [
    "m1 * m2"
   ]
  },
  {
   "cell_type": "code",
   "execution_count": 223,
   "metadata": {},
   "outputs": [
    {
     "data": {
      "text/plain": [
       "array([[0.36206897, 1.28358209, 2.64705882],\n",
       "       [0.31313131, 0.67924528, 8.66666667],\n",
       "       [0.33695652, 1.52380952, 0.93333333]])"
      ]
     },
     "execution_count": 223,
     "metadata": {},
     "output_type": "execute_result"
    }
   ],
   "source": [
    "m1 / m2 # división flotante"
   ]
  },
  {
   "cell_type": "code",
   "execution_count": 224,
   "metadata": {},
   "outputs": [
    {
     "data": {
      "text/plain": [
       "array([[0, 1, 2],\n",
       "       [0, 0, 8],\n",
       "       [0, 1, 0]])"
      ]
     },
     "execution_count": 224,
     "metadata": {},
     "output_type": "execute_result"
    }
   ],
   "source": [
    "m1 // m2 # división entera"
   ]
  },
  {
   "cell_type": "markdown",
   "metadata": {},
   "source": [
    "### **OPERACIONES ARITMÉTICAS CON DISTINTAS DIMENSIONES**"
   ]
  },
  {
   "cell_type": "markdown",
   "metadata": {},
   "source": [
    "Cuando operamos entre arrays con dimensiones diferentes, siempre y cuando se cumplan ciertas restricciones en tamaños de filas y/o columnas, lo que se produce es un broadcasting (o difusión) de los valores."
   ]
  },
  {
   "cell_type": "markdown",
   "metadata": {},
   "source": [
    "**Suma con array (fila):**"
   ]
  },
  {
   "cell_type": "code",
   "execution_count": 226,
   "metadata": {},
   "outputs": [
    {
     "data": {
      "text/plain": [
       "array([[9, 8, 1],\n",
       "       [7, 6, 7]])"
      ]
     },
     "execution_count": 226,
     "metadata": {},
     "output_type": "execute_result"
    }
   ],
   "source": [
    "m = np.array([[9, 8, 1],\n",
    "       [7, 6, 7]])\n",
    "m"
   ]
  },
  {
   "cell_type": "code",
   "execution_count": 227,
   "metadata": {},
   "outputs": [
    {
     "data": {
      "text/plain": [
       "array([[2, 3, 6]])"
      ]
     },
     "execution_count": 227,
     "metadata": {},
     "output_type": "execute_result"
    }
   ],
   "source": [
    "v = np.array([[2, 3, 6]])\n",
    "v"
   ]
  },
  {
   "cell_type": "code",
   "execution_count": 228,
   "metadata": {},
   "outputs": [
    {
     "data": {
      "text/plain": [
       "array([[11, 11,  7],\n",
       "       [ 9,  9, 13]])"
      ]
     },
     "execution_count": 228,
     "metadata": {},
     "output_type": "execute_result"
    }
   ],
   "source": [
    "m + v # broadcasting"
   ]
  },
  {
   "cell_type": "markdown",
   "metadata": {},
   "source": [
    "**Suma con array (Columna):**"
   ]
  },
  {
   "cell_type": "code",
   "execution_count": 229,
   "metadata": {},
   "outputs": [
    {
     "data": {
      "text/plain": [
       "array([[9, 8, 1],\n",
       "       [7, 6, 7]])"
      ]
     },
     "execution_count": 229,
     "metadata": {},
     "output_type": "execute_result"
    }
   ],
   "source": [
    "m"
   ]
  },
  {
   "cell_type": "code",
   "execution_count": 232,
   "metadata": {},
   "outputs": [
    {
     "data": {
      "text/plain": [
       "array([[1],\n",
       "       [6]])"
      ]
     },
     "execution_count": 232,
     "metadata": {},
     "output_type": "execute_result"
    }
   ],
   "source": [
    "v = np.array([[1], [6]])\n",
    "v"
   ]
  },
  {
   "cell_type": "code",
   "execution_count": 233,
   "metadata": {},
   "outputs": [
    {
     "data": {
      "text/plain": [
       "array([[10,  9,  2],\n",
       "       [13, 12, 13]])"
      ]
     },
     "execution_count": 233,
     "metadata": {},
     "output_type": "execute_result"
    }
   ],
   "source": [
    "m + v # broadcasting"
   ]
  },
  {
   "cell_type": "markdown",
   "metadata": {},
   "source": [
    "> **Advertencia**\n",
    ">\n",
    "> En el caso de que no coincidan dimensiones de filas y/o columnas, Numpy no podrá ejecutar la operación y obtendremos un error `ValueError: operands could not be broadcast together with shapes.`"
   ]
  },
  {
   "cell_type": "markdown",
   "metadata": {},
   "source": [
    "### **OPERACIONES ENTRE ARRAYS Y ESCALARES**"
   ]
  },
  {
   "cell_type": "markdown",
   "metadata": {},
   "source": [
    "Al igual que ocurría en los casos anteriores, si operamos con un array y un escalr, éste último será difundido para abarcar el tamaño del array:"
   ]
  },
  {
   "cell_type": "code",
   "execution_count": 234,
   "metadata": {},
   "outputs": [
    {
     "data": {
      "text/plain": [
       "array([[9, 8, 1],\n",
       "       [7, 6, 7]])"
      ]
     },
     "execution_count": 234,
     "metadata": {},
     "output_type": "execute_result"
    }
   ],
   "source": [
    "m = np.array([[9, 8, 1],\n",
    "              [7, 6, 7]])\n",
    "m"
   ]
  },
  {
   "cell_type": "code",
   "execution_count": 235,
   "metadata": {},
   "outputs": [
    {
     "data": {
      "text/plain": [
       "array([[14, 13,  6],\n",
       "       [12, 11, 12]])"
      ]
     },
     "execution_count": 235,
     "metadata": {},
     "output_type": "execute_result"
    }
   ],
   "source": [
    "m + 5"
   ]
  },
  {
   "cell_type": "code",
   "execution_count": 236,
   "metadata": {},
   "outputs": [
    {
     "data": {
      "text/plain": [
       "array([[ 4,  3, -4],\n",
       "       [ 2,  1,  2]])"
      ]
     },
     "execution_count": 236,
     "metadata": {},
     "output_type": "execute_result"
    }
   ],
   "source": [
    "m - 5"
   ]
  },
  {
   "cell_type": "code",
   "execution_count": 237,
   "metadata": {},
   "outputs": [
    {
     "data": {
      "text/plain": [
       "array([[45, 40,  5],\n",
       "       [35, 30, 35]])"
      ]
     },
     "execution_count": 237,
     "metadata": {},
     "output_type": "execute_result"
    }
   ],
   "source": [
    "m * 5"
   ]
  },
  {
   "cell_type": "code",
   "execution_count": 238,
   "metadata": {},
   "outputs": [
    {
     "data": {
      "text/plain": [
       "array([[1.8, 1.6, 0.2],\n",
       "       [1.4, 1.2, 1.4]])"
      ]
     },
     "execution_count": 238,
     "metadata": {},
     "output_type": "execute_result"
    }
   ],
   "source": [
    "m / 5"
   ]
  },
  {
   "cell_type": "code",
   "execution_count": 239,
   "metadata": {},
   "outputs": [
    {
     "data": {
      "text/plain": [
       "array([[1, 1, 0],\n",
       "       [1, 1, 1]])"
      ]
     },
     "execution_count": 239,
     "metadata": {},
     "output_type": "execute_result"
    }
   ],
   "source": [
    "m // 5"
   ]
  },
  {
   "cell_type": "code",
   "execution_count": 240,
   "metadata": {},
   "outputs": [
    {
     "data": {
      "text/plain": [
       "array([[59049, 32768,     1],\n",
       "       [16807,  7776, 16807]])"
      ]
     },
     "execution_count": 240,
     "metadata": {},
     "output_type": "execute_result"
    }
   ],
   "source": [
    "m ** 5"
   ]
  },
  {
   "cell_type": "markdown",
   "metadata": {},
   "source": [
    "### **Operaciones unarias**"
   ]
  },
  {
   "cell_type": "markdown",
   "metadata": {},
   "source": [
    "Existen multitud de operaciones sobre un único array. A continuación veremos algunas de las más utilizadas en Numpy."
   ]
  },
  {
   "cell_type": "markdown",
   "metadata": {},
   "source": [
    "**Funciones Universales**"
   ]
  },
  {
   "cell_type": "markdown",
   "metadata": {},
   "source": [
    "Las funciones universales ufunc son funciones que operan sobre arrays elemento a elemento. Existen muchas funciones universales definidas en Numpy, parte de ellas operan sobre dos arrays y parte sobre un único array.\n",
    "\n",
    "Un ejemplo de algunas de estas funciones:"
   ]
  },
  {
   "cell_type": "code",
   "execution_count": 241,
   "metadata": {},
   "outputs": [
    {
     "data": {
      "text/plain": [
       "array([[48.32172375, 24.89651106, 77.49724241],\n",
       "       [77.81874191, 22.54051494, 65.11282444],\n",
       "       [ 5.54960482, 59.06720303, 62.52817198]])"
      ]
     },
     "execution_count": 241,
     "metadata": {},
     "output_type": "execute_result"
    }
   ],
   "source": [
    "values = np.array([[48.32172375, 24.89651106, 77.49724241],\n",
    "       [77.81874191, 22.54051494, 65.11282444],\n",
    "       [ 5.54960482, 59.06720303, 62.52817198]])\n",
    "values"
   ]
  },
  {
   "cell_type": "code",
   "execution_count": 242,
   "metadata": {},
   "outputs": [
    {
     "data": {
      "text/plain": [
       "array([[6.95138287, 4.98964037, 8.80325181],\n",
       "       [8.82149318, 4.74768522, 8.06925179],\n",
       "       [2.35575992, 7.68551905, 7.9074757 ]])"
      ]
     },
     "execution_count": 242,
     "metadata": {},
     "output_type": "execute_result"
    }
   ],
   "source": [
    "np.sqrt(values)"
   ]
  },
  {
   "cell_type": "code",
   "execution_count": 243,
   "metadata": {},
   "outputs": [
    {
     "data": {
      "text/plain": [
       "array([[-0.93125201, -0.23403917,  0.86370434],\n",
       "       [ 0.66019205, -0.52214693,  0.75824777],\n",
       "       [-0.66953344,  0.58352078, -0.29903488]])"
      ]
     },
     "execution_count": 243,
     "metadata": {},
     "output_type": "execute_result"
    }
   ],
   "source": [
    "np.sin(values)"
   ]
  },
  {
   "cell_type": "code",
   "execution_count": 244,
   "metadata": {},
   "outputs": [
    {
     "data": {
      "text/plain": [
       "array([[49., 25., 78.],\n",
       "       [78., 23., 66.],\n",
       "       [ 6., 60., 63.]])"
      ]
     },
     "execution_count": 244,
     "metadata": {},
     "output_type": "execute_result"
    }
   ],
   "source": [
    "np.ceil(values)"
   ]
  },
  {
   "cell_type": "code",
   "execution_count": 245,
   "metadata": {},
   "outputs": [
    {
     "data": {
      "text/plain": [
       "array([[48., 24., 77.],\n",
       "       [77., 22., 65.],\n",
       "       [ 5., 59., 62.]])"
      ]
     },
     "execution_count": 245,
     "metadata": {},
     "output_type": "execute_result"
    }
   ],
   "source": [
    "np.floor(values)"
   ]
  },
  {
   "cell_type": "code",
   "execution_count": 246,
   "metadata": {},
   "outputs": [
    {
     "data": {
      "text/plain": [
       "array([[3.87788123, 3.21472768, 4.35024235],\n",
       "       [4.3543823 , 3.11531435, 4.17612153],\n",
       "       [1.71372672, 4.07867583, 4.13561721]])"
      ]
     },
     "execution_count": 246,
     "metadata": {},
     "output_type": "execute_result"
    }
   ],
   "source": [
    "np.log(values)"
   ]
  },
  {
   "cell_type": "markdown",
   "metadata": {},
   "source": [
    "### **REDUCIENDO EL RESULTADO**"
   ]
  },
  {
   "cell_type": "markdown",
   "metadata": {},
   "source": [
    "Numpy nos permite aplicar cualquier función sobre un array reduciendo el resultado por alguno de sus ejes. Esto abre una amplia gama de posibilidades.\n",
    "\n",
    "A modo de ilustración, veremos un par de ejemplos con la suma y el producto:"
   ]
  },
  {
   "cell_type": "code",
   "execution_count": 247,
   "metadata": {},
   "outputs": [
    {
     "data": {
      "text/plain": [
       "array([[8, 2, 7],\n",
       "       [2, 0, 6],\n",
       "       [6, 3, 4]])"
      ]
     },
     "execution_count": 247,
     "metadata": {},
     "output_type": "execute_result"
    }
   ],
   "source": [
    "values = np.array([[8, 2, 7],\n",
    "       [2, 0, 6],\n",
    "       [6, 3, 4]])\n",
    "values"
   ]
  },
  {
   "cell_type": "code",
   "execution_count": 248,
   "metadata": {},
   "outputs": [
    {
     "data": {
      "text/plain": [
       "array([16,  5, 17])"
      ]
     },
     "execution_count": 248,
     "metadata": {},
     "output_type": "execute_result"
    }
   ],
   "source": [
    "np.sum(values, axis = 0) # suma por columnas"
   ]
  },
  {
   "cell_type": "code",
   "execution_count": 249,
   "metadata": {},
   "outputs": [
    {
     "data": {
      "text/plain": [
       "array([17,  8, 13])"
      ]
     },
     "execution_count": 249,
     "metadata": {},
     "output_type": "execute_result"
    }
   ],
   "source": [
    "np.sum(values, axis = 1) # suma por filas"
   ]
  },
  {
   "cell_type": "code",
   "execution_count": 250,
   "metadata": {},
   "outputs": [
    {
     "data": {
      "text/plain": [
       "array([ 96,   0, 168])"
      ]
     },
     "execution_count": 250,
     "metadata": {},
     "output_type": "execute_result"
    }
   ],
   "source": [
    "np.prod(values, axis = 0) # Producto por columnas"
   ]
  },
  {
   "cell_type": "code",
   "execution_count": 251,
   "metadata": {},
   "outputs": [
    {
     "data": {
      "text/plain": [
       "array([112,   0,  72])"
      ]
     },
     "execution_count": 251,
     "metadata": {},
     "output_type": "execute_result"
    }
   ],
   "source": [
    "np.prod(values, axis = 1) # Producto por filas"
   ]
  },
  {
   "cell_type": "markdown",
   "metadata": {},
   "source": [
    "> **Ejercicio**"
   ]
  },
  {
   "cell_type": "markdown",
   "metadata": {},
   "source": [
    "Compruebe que, para $\\theta = 2\\pi$ y $k = 20$ se cumple la siguiente igualdad del producto infinito de Euler:"
   ]
  },
  {
   "cell_type": "markdown",
   "metadata": {},
   "source": [
    "$\\cos(\\frac{\\theta}{2}).\\cos(\\frac{\\theta}{4}).\\cos(\\frac{\\theta}{8})... = \\prod_{i=1}^{k}\\cos(\\frac{\\theta}{2^i}) \\thickapprox \\frac{\\sin(\\theta)}{\\theta}$"
   ]
  },
  {
   "cell_type": "code",
   "execution_count": 252,
   "metadata": {},
   "outputs": [
    {
     "name": "stdout",
     "output_type": "stream",
     "text": [
      "Resultado del producto infinito de Euler: -3.8981718325427036e-17\n",
      "sin(θ)/θ: -3.8981718325193755e-17\n"
     ]
    }
   ],
   "source": [
    "import numpy as np\n",
    "\n",
    "# Valores dados\n",
    "theta = 2 * np.pi  # θ = 2π\n",
    "k = 20\n",
    "\n",
    "# Crear un array con los términos cos(θ/2^i)\n",
    "terminos = np.array([np.cos(theta / 2**i) for i in range(1, k + 1)])\n",
    "\n",
    "# Calcular el producto infinito\n",
    "producto_infinito = np.prod(terminos)\n",
    "\n",
    "# Calcular sin(θ)/θ\n",
    "sin_theta_over_theta = np.sin(theta) / theta\n",
    "\n",
    "# Imprimir el resultado del producto infinito y sin(θ)/θ\n",
    "print(\"Resultado del producto infinito de Euler:\", producto_infinito)\n",
    "print(\"sin(θ)/θ:\", sin_theta_over_theta)"
   ]
  },
  {
   "cell_type": "markdown",
   "metadata": {},
   "source": [
    "**FUNCIONES ESTADÍSTICAS**"
   ]
  },
  {
   "cell_type": "markdown",
   "metadata": {},
   "source": [
    "Numpy proporciona una gran cantidad de funciones estadísticas que pueden ser aplicadas sobre arrays.\n",
    "\n",
    "Veamos algunas de ellas:"
   ]
  },
  {
   "cell_type": "code",
   "execution_count": 253,
   "metadata": {},
   "outputs": [
    {
     "data": {
      "text/plain": [
       "array([-8.7369054 ,  0.60337969,  7.18418155, ..., -1.88915292,\n",
       "       -4.16582484,  0.85310836])"
      ]
     },
     "execution_count": 253,
     "metadata": {},
     "output_type": "execute_result"
    }
   ],
   "source": [
    "dist"
   ]
  },
  {
   "cell_type": "code",
   "execution_count": 254,
   "metadata": {},
   "outputs": [
    {
     "data": {
      "text/plain": [
       "0.0014856147462323289"
      ]
     },
     "execution_count": 254,
     "metadata": {},
     "output_type": "execute_result"
    }
   ],
   "source": [
    "np.mean(dist)"
   ]
  },
  {
   "cell_type": "code",
   "execution_count": 255,
   "metadata": {},
   "outputs": [
    {
     "data": {
      "text/plain": [
       "5.000535114922286"
      ]
     },
     "execution_count": 255,
     "metadata": {},
     "output_type": "execute_result"
    }
   ],
   "source": [
    "np.std(dist)"
   ]
  },
  {
   "cell_type": "code",
   "execution_count": 256,
   "metadata": {},
   "outputs": [
    {
     "data": {
      "text/plain": [
       "0.0007904844656450511"
      ]
     },
     "execution_count": 256,
     "metadata": {},
     "output_type": "execute_result"
    }
   ],
   "source": [
    "np.median(dist)"
   ]
  },
  {
   "cell_type": "markdown",
   "metadata": {},
   "source": [
    "**Máximos y MÍNIMOS**"
   ]
  },
  {
   "cell_type": "markdown",
   "metadata": {},
   "source": [
    "Una de las operaciones más comunes en el manejo de datos es encontrar máximos o mínimos. Para ello, disponemos de las típicas funciones con las ventajas del uso de arrays multidimensionales:"
   ]
  },
  {
   "cell_type": "code",
   "execution_count": 258,
   "metadata": {},
   "outputs": [
    {
     "data": {
      "text/plain": [
       "array([[66, 54, 33, 15, 58],\n",
       "       [55, 46, 39, 16, 38],\n",
       "       [73, 75, 79, 25, 83],\n",
       "       [81, 30, 22, 32,  8],\n",
       "       [92, 25, 82, 10, 90]])"
      ]
     },
     "execution_count": 258,
     "metadata": {},
     "output_type": "execute_result"
    }
   ],
   "source": [
    "values = np.array([[66, 54, 33, 15, 58],\n",
    "       [55, 46, 39, 16, 38],\n",
    "       [73, 75, 79, 25, 83],\n",
    "       [81, 30, 22, 32,  8],\n",
    "       [92, 25, 82, 10, 90]])\n",
    "values"
   ]
  },
  {
   "cell_type": "code",
   "execution_count": 259,
   "metadata": {},
   "outputs": [
    {
     "data": {
      "text/plain": [
       "8"
      ]
     },
     "execution_count": 259,
     "metadata": {},
     "output_type": "execute_result"
    }
   ],
   "source": [
    "np.min(values)"
   ]
  },
  {
   "cell_type": "code",
   "execution_count": 260,
   "metadata": {},
   "outputs": [
    {
     "data": {
      "text/plain": [
       "array([55, 25, 22, 10,  8])"
      ]
     },
     "execution_count": 260,
     "metadata": {},
     "output_type": "execute_result"
    }
   ],
   "source": [
    "np.min(values, axis = 0)"
   ]
  },
  {
   "cell_type": "code",
   "execution_count": 261,
   "metadata": {},
   "outputs": [
    {
     "data": {
      "text/plain": [
       "array([15, 16, 25,  8, 10])"
      ]
     },
     "execution_count": 261,
     "metadata": {},
     "output_type": "execute_result"
    }
   ],
   "source": [
    "np.min(values, axis = 1)"
   ]
  },
  {
   "cell_type": "code",
   "execution_count": 262,
   "metadata": {},
   "outputs": [
    {
     "data": {
      "text/plain": [
       "92"
      ]
     },
     "execution_count": 262,
     "metadata": {},
     "output_type": "execute_result"
    }
   ],
   "source": [
    "np.max(values)"
   ]
  },
  {
   "cell_type": "code",
   "execution_count": 263,
   "metadata": {},
   "outputs": [
    {
     "data": {
      "text/plain": [
       "array([92, 75, 82, 32, 90])"
      ]
     },
     "execution_count": 263,
     "metadata": {},
     "output_type": "execute_result"
    }
   ],
   "source": [
    "np.max(values, axis = 0)"
   ]
  },
  {
   "cell_type": "code",
   "execution_count": 264,
   "metadata": {},
   "outputs": [
    {
     "data": {
      "text/plain": [
       "array([66, 55, 83, 81, 92])"
      ]
     },
     "execution_count": 264,
     "metadata": {},
     "output_type": "execute_result"
    }
   ],
   "source": [
    "np.max(values, axis = 1)"
   ]
  },
  {
   "cell_type": "markdown",
   "metadata": {},
   "source": [
    "Si lo que interesa es obtener los índices de aquellos elementos con valores máximos o mínimos, podemos hacer uso de las funciones `argmax()` y `argmin()` respectivamente.\n",
    "\n",
    "Veamos un ejemplo donde obtenemos los valores máximos por columnas (mediante sus indices):"
   ]
  },
  {
   "cell_type": "code",
   "execution_count": 265,
   "metadata": {},
   "outputs": [
    {
     "data": {
      "text/plain": [
       "array([[66, 54, 33, 15, 58],\n",
       "       [55, 46, 39, 16, 38],\n",
       "       [73, 75, 79, 25, 83],\n",
       "       [81, 30, 22, 32,  8],\n",
       "       [92, 25, 82, 10, 90]])"
      ]
     },
     "execution_count": 265,
     "metadata": {},
     "output_type": "execute_result"
    }
   ],
   "source": [
    "values"
   ]
  },
  {
   "cell_type": "code",
   "execution_count": 267,
   "metadata": {},
   "outputs": [
    {
     "data": {
      "text/plain": [
       "array([4, 2, 4, 3, 4])"
      ]
     },
     "execution_count": 267,
     "metadata": {},
     "output_type": "execute_result"
    }
   ],
   "source": [
    "idx = np.argmax(values, axis = 0)\n",
    "idx"
   ]
  },
  {
   "cell_type": "code",
   "execution_count": 268,
   "metadata": {},
   "outputs": [
    {
     "data": {
      "text/plain": [
       "array([92, 75, 82, 32, 90])"
      ]
     },
     "execution_count": 268,
     "metadata": {},
     "output_type": "execute_result"
    }
   ],
   "source": [
    "values[idx, range(values.shape[1])]"
   ]
  },
  {
   "cell_type": "markdown",
   "metadata": {},
   "source": [
    "### **Vectorizando funciones**"
   ]
  },
  {
   "cell_type": "markdown",
   "metadata": {},
   "source": [
    "Una de las ventajas de trabajar con arrays numéricos en Numpy es sacar provecho de la optimización que se produce a nivel de la propia estructura de datos. En el caso de que queremos implementar una función propia para realizar una determinada acción, sería deseable seguir aprovechando esa característica.\n",
    "\n",
    "Veamos un ejemplo en el que queremos realizar el siguiente cálculo entre dos matrices $A$ y $B$:\n",
    "\n",
    "$\n",
    "A_{ij} \\cdot B_{ij} =\n",
    "\\begin{cases}\n",
    "  A_{ij} + B_{ij}, & \\text{si } A_{ij} > B_{ij} \\\\\n",
    "  A_{ij} - B_{ij}, & \\text{si } A_{ij} < B_{ij} \\\\\n",
    "  0, & \\text{en otro caso}\n",
    "\\end{cases}\n",
    "$\n"
   ]
  },
  {
   "cell_type": "markdown",
   "metadata": {},
   "source": [
    "Esta función, definida en Python, quedaría tal que así:"
   ]
  },
  {
   "cell_type": "code",
   "execution_count": 269,
   "metadata": {},
   "outputs": [],
   "source": [
    "def customf(a, b):\n",
    "  if a > b:\n",
    "    return a + b\n",
    "  elif a < b:\n",
    "    return a - b\n",
    "  else:\n",
    "    return 0"
   ]
  },
  {
   "cell_type": "markdown",
   "metadata": {},
   "source": [
    "Las dos matrices de partida tienen 9M de valores aleatorios entre -100 y 100:"
   ]
  },
  {
   "cell_type": "code",
   "execution_count": 270,
   "metadata": {},
   "outputs": [],
   "source": [
    "A = np.random.randint(-100, 100, size = (3000, 3000))\n",
    "B = np.random.randint(-100, 100, size = (3000, 3000))"
   ]
  },
  {
   "cell_type": "markdown",
   "metadata": {},
   "source": [
    "Una primera aproximación para aplicar esta función a cada elemento de las matrices de entrada sería la siguiente:"
   ]
  },
  {
   "cell_type": "code",
   "execution_count": 272,
   "metadata": {},
   "outputs": [],
   "source": [
    "result = np.zeros_like(A)"
   ]
  },
  {
   "cell_type": "code",
   "execution_count": 273,
   "metadata": {},
   "outputs": [
    {
     "name": "stdout",
     "output_type": "stream",
     "text": [
      "36.1 s ± 4.62 s per loop (mean ± std. dev. of 7 runs, 1 loop each)\n"
     ]
    }
   ],
   "source": [
    "%%timeit\n",
    "for i in range(A.shape[0]):\n",
    "  for j in range(A.shape[1]):\n",
    "    result[i, j] = customf(A[i, j], B[i, j])"
   ]
  },
  {
   "cell_type": "markdown",
   "metadata": {},
   "source": [
    "### **Mejorando rendimiento con funciones vectorizadas**"
   ]
  },
  {
   "cell_type": "markdown",
   "metadata": {},
   "source": [
    "Con un pequeño detalle podemos mejorar el rendimiento de la función que hemos diseñado anteriormente. Se trata de decorarla con `np.vectorize` con lo que estamos otorgándole un comportamiento distinto y enfocado al procesamiento de arrays númericos:"
   ]
  },
  {
   "cell_type": "code",
   "execution_count": 274,
   "metadata": {},
   "outputs": [],
   "source": [
    "@np.vectorize\n",
    "def customf(a, b):\n",
    "  if a > b:\n",
    "    return a + b\n",
    "  elif a < b:\n",
    "    return a - b\n",
    "  else:\n",
    "    return 0"
   ]
  },
  {
   "cell_type": "markdown",
   "metadata": {},
   "source": [
    "Dado que ahora ya se trata de una función vectorizada podemos aplicarla directamente a las matrices de entrada (aprovechamos para medir su tiempo de ejecución):"
   ]
  },
  {
   "cell_type": "code",
   "execution_count": 275,
   "metadata": {},
   "outputs": [
    {
     "name": "stdout",
     "output_type": "stream",
     "text": [
      "17.5 s ± 7.07 s per loop (mean ± std. dev. of 7 runs, 1 loop each)\n"
     ]
    }
   ],
   "source": [
    "%timeit customf(A, B)"
   ]
  },
  {
   "cell_type": "markdown",
   "metadata": {},
   "source": [
    "Hemos obtenido una mejora de `2.32x` con respecto al uso de funciones simples."
   ]
  },
  {
   "cell_type": "markdown",
   "metadata": {},
   "source": [
    "> **Truco**\n",
    ">\n",
    "> La mejora de rendimiento se aprecia más claramente a medida que los tamaños de las matrices (arrays) de entrada son mayores."
   ]
  },
  {
   "cell_type": "markdown",
   "metadata": {},
   "source": [
    "> **Consejo**\n",
    ">\n",
    "> El uso de funciones lambda puede ser útil en vectorización: `np.vectorize(lambda a, b: return a + b)`."
   ]
  },
  {
   "cell_type": "markdown",
   "metadata": {},
   "source": [
    "> **Ejercicio**"
   ]
  },
  {
   "cell_type": "markdown",
   "metadata": {},
   "source": [
    "1. Cree dos matrices cuadrados de 20x20 con valores aleatorios flotantes uniformes en el intervalo [0, 1000)\n",
    "\n",
    "2. Vectorice una función que devuelva la media (elemento a elemento) entre las dos matrices.\n",
    "\n",
    "3. Realice la misma operación que en 2 pero usando suma de matrices y división por escalar.\n",
    "\n",
    "4. Compute los tiempos de ejecución de 2 y 3."
   ]
  },
  {
   "cell_type": "code",
   "execution_count": 276,
   "metadata": {},
   "outputs": [
    {
     "name": "stdout",
     "output_type": "stream",
     "text": [
      "Matriz A:\n",
      "[[548.81350393 715.18936637 602.76337607 544.883183   423.65479934\n",
      "  645.89411307 437.58721126 891.77300078 963.6627605  383.44151883\n",
      "  791.72503808 528.89491975 568.04456109 925.59663829  71.0360582\n",
      "   87.1292997   20.21839744 832.61984555 778.15675095 870.01214825]\n",
      " [978.61834223 799.15856422 461.47936225 780.52917629 118.27442587\n",
      "  639.92102133 143.35328741 944.66891705 521.84832175 414.66193999\n",
      "  264.5556121  774.23368943 456.15033222 568.43394887  18.78980044\n",
      "  617.63549708 612.09572272 616.93399687 943.74807851 681.8202991 ]\n",
      " [359.50790057 437.0319538  697.63119593  60.22547163 666.76671545\n",
      "  670.63786962 210.38256107 128.92629765 315.42835092 363.71077094\n",
      "  570.19677042 438.60151346 988.37383806 102.04481075 208.87675609\n",
      "  161.30951788 653.10832547 253.29160254 466.31077286 244.425592  ]\n",
      " [158.96958365 110.37514116 656.32958947 138.18295135 196.58236168\n",
      "  368.72517066 820.99322985  97.10127579 837.9449075   96.09840789\n",
      "  976.45946501 468.65120165 976.76108819 604.84551975 739.2635794\n",
      "   39.18779225 282.80696258 120.19656121 296.14019752 118.72771895]\n",
      " [317.98317939 414.26299451  64.14749635 692.47211937 566.60145421\n",
      "  265.38949094 523.24805347  93.94051076 575.94649556 929.29619758\n",
      "  318.56895245 667.41037996 131.7978624  716.32720412 289.40609295\n",
      "  183.19136201 586.51293481  20.10754619 828.94002922   4.69547619]\n",
      " [677.8165368  270.00797319 735.19402212 962.18854512 248.75314352\n",
      "  576.15733442 592.04193127 572.25190579 223.08163264 952.74901152\n",
      "  447.12537862 846.40867247 699.47927532 297.43695086 813.7978197\n",
      "  396.50574085 881.10319711 581.27287264 881.73536185 692.53159008]\n",
      " [725.25427982 501.32438193 956.08363472 643.99019923 423.85504856\n",
      "  606.39321413  19.19319831 301.57481667 660.17353749 290.07760721\n",
      "  618.015429   428.76870095 135.47406422 298.28232596 569.9649107\n",
      "  590.87276125 574.32524885 653.20081986 652.10327    431.41843543]\n",
      " [896.54659585 367.56187005 435.86492527 891.92335502 806.19398905\n",
      "  703.88858354 100.22688731 919.48261374 714.24129955 998.84700657\n",
      "  149.44830466 868.12605737 162.49293468 615.55956428 123.81998285\n",
      "  848.00822932 807.31895873 569.10073861 407.18329723  69.16699546]\n",
      " [697.42877314 453.54268268 722.05559947 866.38232593 975.521505\n",
      "  855.80334239  11.71408419 359.97806448 729.99056242 171.62967726\n",
      "  521.0366062   54.33798834 199.9965249   18.52179446 793.69770336\n",
      "  223.92468806 345.3516807  928.08129347 704.41440192  31.83892953]\n",
      " [164.6941565  621.4784015  577.2285886  237.89282137 934.21399792\n",
      "  613.96595597 535.63280302 589.90997635 730.12202952 311.94499548\n",
      "  398.22106222 209.84374898 186.19300588 944.37238998 739.55079505\n",
      "  490.45880862 227.41462797 254.35648177  58.02916032 434.41662556]\n",
      " [311.79588199 696.34348882 377.75183929 179.60367756  24.67872839\n",
      "   67.24963146 679.3927735  453.69684456 536.57921111 896.67129304\n",
      "  990.3389474  216.8969844  663.0782031  263.32237674  20.65099947\n",
      "  758.37865384 320.01715082 383.46389417 588.31711355 831.04845524]\n",
      " [628.98184359 872.65065545 273.54203482 798.04683391 185.63594431\n",
      "  952.79165697 687.48827639 215.50767711 947.37059049 730.85580677\n",
      "  253.9416426  213.31197737 518.20071393  25.66271805 207.47007544\n",
      "  424.68546875 374.16998033 463.57542436 277.62870629 586.78434646]\n",
      " [863.85560592 117.53185596 517.37910715 132.06810635 716.85968119\n",
      "  396.05970281 565.42131186 183.27983621 144.84775934 488.05628065\n",
      "  355.61273785 940.43194525 765.32525381 748.66361985 903.71973975\n",
      "   83.42243544 552.19246992 584.47606896 961.93637855 292.14752679]\n",
      " [240.82877992 100.29394227  16.42962959 929.52931679 669.91654659\n",
      "  785.15291202 281.73010575 586.41016619  63.95526612 485.62759593\n",
      "  977.49513974 876.50524532 338.15895184 961.57015454 231.70162647\n",
      "  949.31882242 941.37770471 799.20258735 630.44793687 874.28796662]\n",
      " [293.02028451 848.94355531 617.87669192  13.23685776 347.23351793\n",
      "  148.14086095 981.82938982 478.37030704 497.3913655  639.4725164\n",
      "  368.58460613 136.90027169 822.11773319 189.8479119  511.31898255\n",
      "  224.31702897  97.84448449 862.19151742 972.91948902 960.83465806]\n",
      " [906.55549922 774.0473327  333.14515203  81.10138999 407.24117141\n",
      "  232.23414217 132.48763476  53.42718179 725.59436421  11.42745863\n",
      "  770.5807485  146.9466454   79.52208259  89.60303424 672.04780735\n",
      "  245.36720985 420.53946668 557.36879132 860.55117383 727.04426271]\n",
      " [270.32790524 131.48279929  55.37432042 301.59863448 262.11814924\n",
      "  456.1405668  683.28133555 695.62544564 283.51884658 379.9269559\n",
      "  181.15096174 788.54551231  56.84807643 696.99724172 778.69539594\n",
      "  777.40756185 259.42256435 373.81313793 587.5996352  272.82190242]\n",
      " [370.85279922 197.05428019 459.85588376  44.61230125 799.79588457\n",
      "   76.95644699 518.83514883 306.81009955 577.54294883 959.43334083\n",
      "  645.57024446  35.36243576 430.40243951 510.01685232 536.1774947\n",
      "  681.3925106  277.59609773 128.86056547 392.67567655 956.4057228 ]\n",
      " [187.13089175 903.98395493 543.80595008 456.91142165 882.04141023\n",
      "  458.60396177 724.16763661 399.0253217  904.0443929  690.02502019\n",
      "  699.62205425 327.72040156 756.77864274 636.06105545 240.02027338\n",
      "  160.53882249 796.39147452 959.16660304 458.13882726 590.98416532]\n",
      " [857.72264419 457.22345335 951.87447683 575.75116204 820.7671207\n",
      "  908.84371841 815.52381877 159.41446345 628.89843906 398.43425862\n",
      "   62.71295202 424.03225189 258.68406689 849.03830843  33.30462655\n",
      "  958.98272186 355.36884847 356.7068904   16.32850268 185.23232524]]\n",
      "\n",
      "Matriz B:\n",
      "[[401.2595008  929.2914173   99.61493022 945.30153348 869.48853055\n",
      "  454.16239691 326.70088177 232.74412928 614.46470648  33.07459148\n",
      "   15.60606445 428.7957225   68.07407397 251.94098825 221.16091535\n",
      "  253.19119372 131.05523122  12.0362229  115.48429714 618.48025951]\n",
      " [974.25621282 990.34500156 409.05409537 162.95442605 638.76175737\n",
      "  490.30534655 989.40977728  65.30420715 783.23443831 288.39849733\n",
      "  241.41862008 662.50457153 246.06318499 665.85911756 517.3085172\n",
      "  424.08898844 554.68780866 287.05151992 706.57470627 414.85686933]\n",
      " [360.54556049 828.65691456 924.96691195  46.00731089 232.62699283\n",
      "  348.51936949 814.96647937 985.49142764 968.97170467 904.94834555\n",
      "  296.55626506 992.01124341 249.42004106 105.90615488 950.95261106\n",
      "  233.42025547 689.76826508  58.35635898 730.70909913 881.72021233]\n",
      " [272.43689547 379.05689608 374.29618332 748.78825754 237.80724254\n",
      "  171.85309905 449.29164869 304.46840738 839.18912226 237.74182602\n",
      "  502.38945749 942.5835997  633.99769774 867.28940546 940.20968935\n",
      "  750.76486189 699.57506022 967.9655666  994.40078965 451.82168267]\n",
      " [ 70.86977818 292.79403144 152.35470569 417.4863748  131.28932847\n",
      "  604.11780402 382.80805916 895.38588429 967.7946718  546.88490167\n",
      "  274.82356987 592.23041876 896.76115822 406.73334584 552.07827669\n",
      "  271.65276761 455.44414945 401.71353538 248.41346508 505.86638383]\n",
      " [310.38082598 373.03486388 524.97044225 750.59502293 333.50746579\n",
      "  924.15876662 862.31854684  48.69029598 253.64252426 446.13551266\n",
      "  104.62788874 348.47598903 740.09752562 680.51448114 622.38442857\n",
      "  710.52840272 204.92368696 341.69811486 676.24248228 879.23476303]\n",
      " [543.67805383 282.69965095  30.23525801 710.33682897   7.88410351\n",
      "  372.67906982 530.53721456 922.11146177  89.49454503 405.94232197\n",
      "   24.31319971 342.61098434 622.23105884 279.06794823 209.74994966\n",
      "  115.70323333 577.14024402 695.2700059  671.9571406  948.86102072]\n",
      " [  2.70321389 647.19665389 600.3922371  588.73960997 962.77031984\n",
      "   16.87167337 696.4824307  813.6786497  509.80719662 333.9648696\n",
      "  790.84016323  97.24292563 442.03563773 519.95237457 693.95641093\n",
      "   90.88573203 227.75950154 410.30156269 623.29467302 886.96078122]\n",
      " [618.82616824 133.46147093 980.58013279 871.78573476 502.72076115\n",
      "  922.3479818  541.38079376 923.30606789 829.8973686  968.28641029\n",
      "  919.78281078  36.03381743 174.77200416 389.1346771  952.1426973\n",
      "  300.02891948 160.46764389 886.30466609 446.39441548 907.87559435]\n",
      " [160.23046632 661.11751151 440.26375283  76.48676903 696.46314465\n",
      "  247.39875554  39.61552258  59.94429825  61.07853707 907.73295749\n",
      "  739.88391783 898.06235721 672.5823113  528.93992903 304.44636435\n",
      "  997.96225133 362.18905894 470.64894921 378.24517492 979.52692934]\n",
      " [174.6583854  327.98800091 680.34866602  63.20761834 607.24937401\n",
      "  477.64650288 283.99997676 238.41328092 514.5127433  367.92758054\n",
      "  456.51989126 337.47738176 970.4936936  133.43943175  96.80395318\n",
      "  343.39172879 591.02690087 659.17647185 397.25674717 999.27799392]\n",
      " [351.89299619 721.40666796 637.58269453 813.05386325 976.22566345\n",
      "  889.79365645 764.56197436 698.24847782 335.49816968 147.68557821\n",
      "   62.63600306 241.9017042  432.28148118 521.99627363 773.08355405\n",
      "  958.74092306 117.32048038 107.00414019 589.69472301 745.39807395]\n",
      " [848.15038035 935.83208022 983.42624226 399.80169222 380.33518353\n",
      "  147.8086767  684.93443868 656.76195844 862.06259585  97.25799479\n",
      "  497.77690783 581.08192967 241.55704004 169.02540613 859.58083642\n",
      "   58.53492224 470.62090392 115.8340013  457.05876133 979.96232634]\n",
      " [423.70635346 857.1249175  117.31556418 271.25207676 403.79274067\n",
      "  399.81214001 671.38347867 344.71812738 713.76686841 639.18689923\n",
      "  399.16114525 431.76012765 614.52769981  70.04219014 822.40673836\n",
      "  653.42116111 726.34246442 536.92300108 110.47711099 405.0356133 ]\n",
      " [405.37358285 321.04299004  29.9503249  737.2542426  109.78445806\n",
      "  606.30813305 703.21749647 634.78632293 959.14225198 103.29815509\n",
      "  867.16715911  29.19023485 534.91685493 404.24361794 524.18386039\n",
      "  365.09987706 190.56691494  19.12289745 518.14981379 842.77686268]\n",
      " [373.21595574 222.86381801  80.53200347  85.31092312 221.39644629\n",
      "  100.01406092 265.03969836  66.14946212  65.60486721 856.27617962\n",
      "  162.12026071 559.68240582 773.45554445 456.40956534 153.36887786\n",
      "  199.59614212 432.98420628 528.23408918 349.44029205 781.47960023]\n",
      " [751.02164886 927.21180737  28.95254903 895.69129121 392.56878846\n",
      "  878.37249538 690.78477616 987.34875707 759.28245172 364.544626\n",
      "  501.06317283 376.38915519 364.91183602 260.90449938 495.97029537\n",
      "  681.73994507 277.34027131 524.37981108 117.38029417 159.84528685]\n",
      " [ 46.80635471 970.73144277   3.86035151 178.57996806 612.86675312\n",
      "   81.36959885 881.8965031  719.62015784 966.38997144 507.63554724\n",
      "  300.40368316 549.5005728  930.8187173  520.76143724 267.20703186\n",
      "  877.39878917 371.91874851   1.38335    247.68502249 318.23350918]\n",
      " [858.77746823 458.50316707 444.58728781 336.1022664  880.67812305\n",
      "  945.02677694 991.89032915 376.74126696 966.14744563 791.87956963\n",
      "  675.68914764 244.88947942 216.45726094 166.04782452 922.75661023\n",
      "  294.07666238 453.09424545 493.95783399 778.17159545 844.23496155]\n",
      " [139.07270115 426.90436021 842.85488784 818.03330576 102.41375845\n",
      "  156.38334887 304.1986916   75.35906908 424.66300284 107.61770515\n",
      "  568.21759367 246.55693981 596.43306535 117.5256429  975.88386842\n",
      "  932.56120386 391.79693856 242.17859413 250.39821285 483.3935352 ]]\n",
      "\n",
      "Resultado (suma de matrices y división por escalar):\n",
      "[[475.03650237 822.24039184 351.18915315 745.09235824 646.57166494\n",
      "  550.02825499 382.14404652 562.25856503 789.06373349 208.25805515\n",
      "  403.66555126 478.84532113 318.05931753 588.76881327 146.09848677\n",
      "  170.16024671  75.63681433 422.32803422 446.82052404 744.24620388]\n",
      " [976.43727753 894.75178289 435.26672881 471.74180117 378.51809162\n",
      "  565.11318394 566.38153235 504.9865621  652.54138003 351.53021866\n",
      "  252.98711609 718.36913048 351.1067586  617.14653321 268.04915882\n",
      "  520.86224276 583.39176569 451.9927584  825.16139239 548.33858422]\n",
      " [360.02673053 632.84443418 811.29905394  53.11639126 449.69685414\n",
      "  509.57861956 512.67452022 557.20886265 642.2000278  634.32955825\n",
      "  433.37651774 715.30637844 618.89693956 103.97548282 579.91468358\n",
      "  197.36488668 671.43829527 155.82398076 598.50993599 563.07290217]\n",
      " [215.70323956 244.71601862 515.31288639 443.48560444 217.19480211\n",
      "  270.28913485 635.14243927 200.78484159 838.56701488 166.92011695\n",
      "  739.42446125 705.61740067 805.37939297 736.0674626  839.73663438\n",
      "  394.97632707 491.1910114  544.08106391 645.27049358 285.27470081]\n",
      " [194.42647879 353.52851298 108.25110102 554.97924708 348.94539134\n",
      "  434.75364748 453.02805631 494.66319752 771.87058368 738.09054962\n",
      "  296.69626116 629.82039936 514.27951031 561.53027498 420.74218482\n",
      "  227.42206481 520.97854213 210.91054078 538.67674715 255.28093001]\n",
      " [494.09868139 321.52141854 630.08223219 856.39178402 291.13030466\n",
      "  750.15805052 727.18023905 310.47110088 238.36207845 699.44226209\n",
      "  275.87663368 597.44233075 719.78840047 488.975716   718.09112413\n",
      "  553.51707178 543.01344204 461.48549375 778.98892207 785.88317655]\n",
      " [634.46616682 392.01201644 493.15944636 677.1635141  215.86957603\n",
      "  489.53614197 274.86520644 611.84313922 374.83404126 348.00996459\n",
      "  321.16431435 385.68984264 378.85256153 288.67513709 389.85743018\n",
      "  353.28799729 575.73274643 674.23541288 662.0302053  690.13972808]\n",
      " [449.62490487 507.37926197 518.12858118 740.33148249 884.48215444\n",
      "  360.38012846 398.35465901 866.58063172 612.02424809 666.40593808\n",
      "  470.14423394 482.6844915  302.2642862  567.75596943 408.88819689\n",
      "  469.44698068 517.53923013 489.70115065 515.23898512 478.06388834]\n",
      " [658.12747069 293.50207681 851.31786613 869.08403034 739.12113307\n",
      "  889.07566209 276.54743897 641.64206618 779.94396551 569.95804378\n",
      "  720.40970849  45.18590288 187.38426453 203.82823578 872.92020033\n",
      "  261.97680377 252.90966229 907.19297978 575.4044087  469.85726194]\n",
      " [162.46231141 641.2979565  508.74617072 157.1897952  815.33857129\n",
      "  430.68235575 287.6241628  324.9271373  395.60028329 609.83897648\n",
      "  569.05249002 553.95305309 429.38765859 736.65615951 521.9985797\n",
      "  744.21052997 294.80184346 362.50271549 218.13716762 706.97177745]\n",
      " [243.22713369 512.16574486 529.05025265 121.40564795 315.9640512\n",
      "  272.44806717 481.69637513 346.05506274 525.5459772  632.29943679\n",
      "  723.42941933 277.18718308 816.78594835 198.38090424  58.72747632\n",
      "  550.88519131 455.52202585 521.32018301 492.78693036 915.16322458]\n",
      " [490.43741989 797.0286617  455.56236467 805.55034858 580.93080388\n",
      "  921.29265671 726.02512537 456.87807747 641.43438008 439.27069249\n",
      "  158.28882283 227.60684078 475.24109756 273.82949584 490.27681475\n",
      "  691.7131959  245.74523036 285.28978228 433.66171465 666.0912102 ]\n",
      " [856.00299314 526.68196809 750.40267471 265.93489928 548.59743236\n",
      "  271.93418975 625.17787527 420.02089733 503.4551776  292.65713772\n",
      "  426.69482284 760.75693746 503.44114692 458.84451299 881.65028808\n",
      "   70.97867884 511.40668692 350.15503513 709.49756994 636.05492657]\n",
      " [332.26756669 478.70942989  66.87259689 600.39069678 536.85464363\n",
      "  592.48252602 476.55679221 465.56414678 388.86106727 562.40724758\n",
      "  688.3281425  654.13268649 476.34332582 515.80617234 527.05418241\n",
      "  801.36999176 833.86008456 668.06279422 370.46252393 639.66178996]\n",
      " [349.19693368 584.99327268 323.91350841 375.24555018 228.508988\n",
      "  377.224497   842.52344314 556.57831499 728.26680874 371.38533574\n",
      "  617.87588262  83.04525327 678.51729406 297.04576492 517.75142147\n",
      "  294.70845302 144.20569972 440.65720744 745.53465141 901.80576037]\n",
      " [639.88572748 498.45557536 206.83857775  83.20615655 314.31880885\n",
      "  166.12410155 198.76366656  59.78832195 395.59961571 433.85181912\n",
      "  466.35050461 353.31452561 426.48881352 273.00629979 412.70834261\n",
      "  222.48167599 426.76183648 542.80144025 604.99573294 754.26193147]\n",
      " [510.67477705 529.34730333  42.16343472 598.64496285 327.34346885\n",
      "  667.25653109 687.03305585 841.48710136 521.40064915 372.23579095\n",
      "  341.10706729 582.46733375 210.87995623 478.95087055 637.33284566\n",
      "  729.57375346 268.38141783 449.0964745  352.48996468 216.33359464]\n",
      " [208.82957697 583.89286148 231.85811763 111.59613466 706.33131884\n",
      "   79.16302292 700.36582596 513.21512869 771.96646013 733.53444404\n",
      "  472.98696381 292.43150428 680.6105784  515.38914478 401.69226328\n",
      "  779.39564989 324.75742312  65.12195773 320.18034952 637.31961599]\n",
      " [522.95417999 681.243561   494.19661894 396.50684402 881.35976664\n",
      "  701.81536935 858.02898288 387.88329433 935.09591926 740.95229491\n",
      "  687.65560095 286.30494049 486.61795184 401.05443998 581.3884418\n",
      "  227.30774243 624.74285998 726.56221851 618.15521136 717.60956344]\n",
      " [498.39767267 442.06390678 897.36468233 696.8922339  461.59043958\n",
      "  532.61353364 559.86125518 117.38676627 526.78072095 253.02598188\n",
      "  315.46527285 335.29459585 427.55856612 483.28197567 504.59424748\n",
      "  945.77196286 373.58289352 299.44274226 133.36335777 334.31293022]]\n",
      "\n",
      "Resultado (función vectorizada):\n",
      "[[475.03650237 822.24039184 351.18915315 745.09235824 646.57166494\n",
      "  550.02825499 382.14404652 562.25856503 789.06373349 208.25805515\n",
      "  403.66555126 478.84532113 318.05931753 588.76881327 146.09848677\n",
      "  170.16024671  75.63681433 422.32803422 446.82052404 744.24620388]\n",
      " [976.43727753 894.75178289 435.26672881 471.74180117 378.51809162\n",
      "  565.11318394 566.38153235 504.9865621  652.54138003 351.53021866\n",
      "  252.98711609 718.36913048 351.1067586  617.14653321 268.04915882\n",
      "  520.86224276 583.39176569 451.9927584  825.16139239 548.33858422]\n",
      " [360.02673053 632.84443418 811.29905394  53.11639126 449.69685414\n",
      "  509.57861956 512.67452022 557.20886265 642.2000278  634.32955825\n",
      "  433.37651774 715.30637844 618.89693956 103.97548282 579.91468358\n",
      "  197.36488668 671.43829527 155.82398076 598.50993599 563.07290217]\n",
      " [215.70323956 244.71601862 515.31288639 443.48560444 217.19480211\n",
      "  270.28913485 635.14243927 200.78484159 838.56701488 166.92011695\n",
      "  739.42446125 705.61740067 805.37939297 736.0674626  839.73663438\n",
      "  394.97632707 491.1910114  544.08106391 645.27049358 285.27470081]\n",
      " [194.42647879 353.52851298 108.25110102 554.97924708 348.94539134\n",
      "  434.75364748 453.02805631 494.66319752 771.87058368 738.09054962\n",
      "  296.69626116 629.82039936 514.27951031 561.53027498 420.74218482\n",
      "  227.42206481 520.97854213 210.91054078 538.67674715 255.28093001]\n",
      " [494.09868139 321.52141854 630.08223219 856.39178402 291.13030466\n",
      "  750.15805052 727.18023905 310.47110088 238.36207845 699.44226209\n",
      "  275.87663368 597.44233075 719.78840047 488.975716   718.09112413\n",
      "  553.51707178 543.01344204 461.48549375 778.98892207 785.88317655]\n",
      " [634.46616682 392.01201644 493.15944636 677.1635141  215.86957603\n",
      "  489.53614197 274.86520644 611.84313922 374.83404126 348.00996459\n",
      "  321.16431435 385.68984264 378.85256153 288.67513709 389.85743018\n",
      "  353.28799729 575.73274643 674.23541288 662.0302053  690.13972808]\n",
      " [449.62490487 507.37926197 518.12858118 740.33148249 884.48215444\n",
      "  360.38012846 398.35465901 866.58063172 612.02424809 666.40593808\n",
      "  470.14423394 482.6844915  302.2642862  567.75596943 408.88819689\n",
      "  469.44698068 517.53923013 489.70115065 515.23898512 478.06388834]\n",
      " [658.12747069 293.50207681 851.31786613 869.08403034 739.12113307\n",
      "  889.07566209 276.54743897 641.64206618 779.94396551 569.95804378\n",
      "  720.40970849  45.18590288 187.38426453 203.82823578 872.92020033\n",
      "  261.97680377 252.90966229 907.19297978 575.4044087  469.85726194]\n",
      " [162.46231141 641.2979565  508.74617072 157.1897952  815.33857129\n",
      "  430.68235575 287.6241628  324.9271373  395.60028329 609.83897648\n",
      "  569.05249002 553.95305309 429.38765859 736.65615951 521.9985797\n",
      "  744.21052997 294.80184346 362.50271549 218.13716762 706.97177745]\n",
      " [243.22713369 512.16574486 529.05025265 121.40564795 315.9640512\n",
      "  272.44806717 481.69637513 346.05506274 525.5459772  632.29943679\n",
      "  723.42941933 277.18718308 816.78594835 198.38090424  58.72747632\n",
      "  550.88519131 455.52202585 521.32018301 492.78693036 915.16322458]\n",
      " [490.43741989 797.0286617  455.56236467 805.55034858 580.93080388\n",
      "  921.29265671 726.02512537 456.87807747 641.43438008 439.27069249\n",
      "  158.28882283 227.60684078 475.24109756 273.82949584 490.27681475\n",
      "  691.7131959  245.74523036 285.28978228 433.66171465 666.0912102 ]\n",
      " [856.00299314 526.68196809 750.40267471 265.93489928 548.59743236\n",
      "  271.93418975 625.17787527 420.02089733 503.4551776  292.65713772\n",
      "  426.69482284 760.75693746 503.44114692 458.84451299 881.65028808\n",
      "   70.97867884 511.40668692 350.15503513 709.49756994 636.05492657]\n",
      " [332.26756669 478.70942989  66.87259689 600.39069678 536.85464363\n",
      "  592.48252602 476.55679221 465.56414678 388.86106727 562.40724758\n",
      "  688.3281425  654.13268649 476.34332582 515.80617234 527.05418241\n",
      "  801.36999176 833.86008456 668.06279422 370.46252393 639.66178996]\n",
      " [349.19693368 584.99327268 323.91350841 375.24555018 228.508988\n",
      "  377.224497   842.52344314 556.57831499 728.26680874 371.38533574\n",
      "  617.87588262  83.04525327 678.51729406 297.04576492 517.75142147\n",
      "  294.70845302 144.20569972 440.65720744 745.53465141 901.80576037]\n",
      " [639.88572748 498.45557536 206.83857775  83.20615655 314.31880885\n",
      "  166.12410155 198.76366656  59.78832195 395.59961571 433.85181912\n",
      "  466.35050461 353.31452561 426.48881352 273.00629979 412.70834261\n",
      "  222.48167599 426.76183648 542.80144025 604.99573294 754.26193147]\n",
      " [510.67477705 529.34730333  42.16343472 598.64496285 327.34346885\n",
      "  667.25653109 687.03305585 841.48710136 521.40064915 372.23579095\n",
      "  341.10706729 582.46733375 210.87995623 478.95087055 637.33284566\n",
      "  729.57375346 268.38141783 449.0964745  352.48996468 216.33359464]\n",
      " [208.82957697 583.89286148 231.85811763 111.59613466 706.33131884\n",
      "   79.16302292 700.36582596 513.21512869 771.96646013 733.53444404\n",
      "  472.98696381 292.43150428 680.6105784  515.38914478 401.69226328\n",
      "  779.39564989 324.75742312  65.12195773 320.18034952 637.31961599]\n",
      " [522.95417999 681.243561   494.19661894 396.50684402 881.35976664\n",
      "  701.81536935 858.02898288 387.88329433 935.09591926 740.95229491\n",
      "  687.65560095 286.30494049 486.61795184 401.05443998 581.3884418\n",
      "  227.30774243 624.74285998 726.56221851 618.15521136 717.60956344]\n",
      " [498.39767267 442.06390678 897.36468233 696.8922339  461.59043958\n",
      "  532.61353364 559.86125518 117.38676627 526.78072095 253.02598188\n",
      "  315.46527285 335.29459585 427.55856612 483.28197567 504.59424748\n",
      "  945.77196286 373.58289352 299.44274226 133.36335777 334.31293022]]\n",
      "\n",
      "¿Los resultados son iguales? True\n",
      "\n",
      "Tiempo de ejecución (suma de matrices y división por escalar): 0.0022242069244384766 segundos\n",
      "Tiempo de ejecución (función vectorizada): 0.0008528232574462891 segundos\n"
     ]
    }
   ],
   "source": [
    "import numpy as np\n",
    "import time\n",
    "\n",
    "# Paso 1: Crear dos matrices aleatorias\n",
    "np.random.seed(0)  # Establecer una semilla para reproducibilidad\n",
    "matriz_A = np.random.uniform(0, 1000, (20, 20))\n",
    "matriz_B = np.random.uniform(0, 1000, (20, 20))\n",
    "\n",
    "# Paso 2: Vectorizar la función para calcular la media\n",
    "def media_entre_matrices(A, B):\n",
    "    return (A + B) / 2\n",
    "\n",
    "# Paso 3: Realizar la operación usando suma de matrices y división por escalar\n",
    "inicio = time.time()\n",
    "resultado_suma = (matriz_A + matriz_B) / 2\n",
    "tiempo_suma = time.time() - inicio\n",
    "\n",
    "# Paso 4: Realizar la operación vectorizada y medir el tiempo\n",
    "inicio = time.time()\n",
    "resultado_vectorizado = media_entre_matrices(matriz_A, matriz_B)\n",
    "tiempo_vectorizado = time.time() - inicio\n",
    "\n",
    "# Comprobación de igualdad\n",
    "igualdad = np.allclose(resultado_suma, resultado_vectorizado)\n",
    "\n",
    "# Imprimir resultados y tiempos de ejecución\n",
    "print(\"Matriz A:\")\n",
    "print(matriz_A)\n",
    "print(\"\\nMatriz B:\")\n",
    "print(matriz_B)\n",
    "print(\"\\nResultado (suma de matrices y división por escalar):\")\n",
    "print(resultado_suma)\n",
    "print(\"\\nResultado (función vectorizada):\")\n",
    "print(resultado_vectorizado)\n",
    "print(\"\\n¿Los resultados son iguales?\", igualdad)\n",
    "print(\"\\nTiempo de ejecución (suma de matrices y división por escalar):\", tiempo_suma, \"segundos\")\n",
    "print(\"Tiempo de ejecución (función vectorizada):\", tiempo_vectorizado, \"segundos\")"
   ]
  },
  {
   "cell_type": "markdown",
   "metadata": {},
   "source": [
    "## **Álgebra lineal**"
   ]
  },
  {
   "cell_type": "markdown",
   "metadata": {},
   "source": [
    "Numpy tiene una sección dedicado al álgebra lineal cuyas funciones pueden resultar muy interesantes según el contexto en el que estemos trabajando."
   ]
  },
  {
   "cell_type": "markdown",
   "metadata": {},
   "source": [
    "### **Producto de matrices**"
   ]
  },
  {
   "cell_type": "markdown",
   "metadata": {},
   "source": [
    "Si bien hemos hablado del producto de arrays elemento a elemento, Numpy nos permite hacer la multiplicación clásica de matrices:"
   ]
  },
  {
   "cell_type": "code",
   "execution_count": 277,
   "metadata": {},
   "outputs": [
    {
     "data": {
      "text/plain": [
       "array([[1, 8, 4],\n",
       "       [8, 7, 1],\n",
       "       [1, 3, 8]])"
      ]
     },
     "execution_count": 277,
     "metadata": {},
     "output_type": "execute_result"
    }
   ],
   "source": [
    "m1 = np.array([[1, 8, 4],\n",
    "       [8, 7, 1],\n",
    "       [1, 3, 8]])\n",
    "m1"
   ]
  },
  {
   "cell_type": "code",
   "execution_count": 278,
   "metadata": {},
   "outputs": [
    {
     "data": {
      "text/plain": [
       "array([[1, 8, 4],\n",
       "       [8, 7, 1],\n",
       "       [1, 3, 8]])"
      ]
     },
     "execution_count": 278,
     "metadata": {},
     "output_type": "execute_result"
    }
   ],
   "source": [
    "m2 = np.array([[1, 5, 7],\n",
    "       [9, 4, 2],\n",
    "       [1, 4, 2]])\n",
    "m1"
   ]
  },
  {
   "cell_type": "code",
   "execution_count": 279,
   "metadata": {},
   "outputs": [
    {
     "data": {
      "text/plain": [
       "array([[77, 53, 31],\n",
       "       [72, 72, 72],\n",
       "       [36, 49, 29]])"
      ]
     },
     "execution_count": 279,
     "metadata": {},
     "output_type": "execute_result"
    }
   ],
   "source": [
    "np.dot(m1, m2)"
   ]
  },
  {
   "cell_type": "markdown",
   "metadata": {},
   "source": [
    "En Python 3.5 se introdujo el operador `@` que permitía implementar el método especial `__matmul__()` de multiplicación de matrices. Numpy lo ha desarrollado y simplifica la multiplicación de matrices de la siguiente manera:"
   ]
  },
  {
   "cell_type": "code",
   "execution_count": 280,
   "metadata": {},
   "outputs": [
    {
     "data": {
      "text/plain": [
       "array([[77, 53, 31],\n",
       "       [72, 72, 72],\n",
       "       [36, 49, 29]])"
      ]
     },
     "execution_count": 280,
     "metadata": {},
     "output_type": "execute_result"
    }
   ],
   "source": [
    "m1 @ m2"
   ]
  },
  {
   "cell_type": "markdown",
   "metadata": {},
   "source": [
    "> **Ejercicio**"
   ]
  },
  {
   "cell_type": "markdown",
   "metadata": {},
   "source": [
    "Compruebe que la matriz\n",
    "\\begin{bmatrix}\n",
    "1 & 2\\\\\n",
    "3 & 5\n",
    "\\end{bmatrix}\n",
    "\n",
    "satisface la ecuación matricial: $X^2 - 6x - I = 0$ donde $I$ es la matriz identidad de orden 2."
   ]
  },
  {
   "cell_type": "code",
   "execution_count": 281,
   "metadata": {},
   "outputs": [
    {
     "name": "stdout",
     "output_type": "stream",
     "text": [
      "La matriz X satisface la ecuación matricial X^2 - 6X - I = 0.\n"
     ]
    }
   ],
   "source": [
    "import numpy as np\n",
    "\n",
    "# Definir la matriz X\n",
    "X = np.array([[1, 2], [3, 5]])\n",
    "\n",
    "# Calcular X^2\n",
    "X_squared = np.dot(X, X)\n",
    "\n",
    "# Calcular 6X\n",
    "six_X = 6 * X\n",
    "\n",
    "# Definir la matriz identidad I\n",
    "I = np.identity(2)\n",
    "\n",
    "# Calcular X^2 - 6X - I\n",
    "resultado = X_squared - six_X - I\n",
    "\n",
    "# Verificar si la matriz resultado es igual a la matriz cero\n",
    "es_cero = np.array_equal(resultado, np.zeros((2, 2)))\n",
    "\n",
    "if es_cero:\n",
    "    print(\"La matriz X satisface la ecuación matricial X^2 - 6X - I = 0.\")\n",
    "else:\n",
    "    print(\"La matriz X no satisface la ecuación matricial X^2 - 6X - I = 0.\")"
   ]
  },
  {
   "cell_type": "markdown",
   "metadata": {},
   "source": [
    "### **Determinante de una matriz**"
   ]
  },
  {
   "cell_type": "markdown",
   "metadata": {},
   "source": [
    "El cálculo del determinante es una operación muy utilizada en álgebra lineal. Lo podemos realizar en Numpy de la siguiente manera:"
   ]
  },
  {
   "cell_type": "code",
   "execution_count": 283,
   "metadata": {},
   "outputs": [
    {
     "data": {
      "text/plain": [
       "array([[4, 1, 6],\n",
       "       [4, 8, 8],\n",
       "       [2, 1, 7]])"
      ]
     },
     "execution_count": 283,
     "metadata": {},
     "output_type": "execute_result"
    }
   ],
   "source": [
    "m = np.array([[4, 1, 6],\n",
    "       [4, 8, 8],\n",
    "       [2, 1, 7]])\n",
    "m"
   ]
  },
  {
   "cell_type": "code",
   "execution_count": 284,
   "metadata": {},
   "outputs": [
    {
     "data": {
      "text/plain": [
       "108.00000000000003"
      ]
     },
     "execution_count": 284,
     "metadata": {},
     "output_type": "execute_result"
    }
   ],
   "source": [
    "np.linalg.det(m)"
   ]
  },
  {
   "cell_type": "markdown",
   "metadata": {},
   "source": [
    "### **Inversa de una matriz**"
   ]
  },
  {
   "cell_type": "markdown",
   "metadata": {},
   "source": [
    "La inversa de una matriz se calcula de la siguiente manera:"
   ]
  },
  {
   "cell_type": "code",
   "execution_count": 285,
   "metadata": {},
   "outputs": [
    {
     "data": {
      "text/plain": [
       "array([[4, 1, 6],\n",
       "       [4, 8, 8],\n",
       "       [2, 1, 7]])"
      ]
     },
     "execution_count": 285,
     "metadata": {},
     "output_type": "execute_result"
    }
   ],
   "source": [
    "m"
   ]
  },
  {
   "cell_type": "code",
   "execution_count": 286,
   "metadata": {},
   "outputs": [
    {
     "data": {
      "text/plain": [
       "array([[ 0.44444444, -0.00925926, -0.37037037],\n",
       "       [-0.11111111,  0.14814815, -0.07407407],\n",
       "       [-0.11111111, -0.01851852,  0.25925926]])"
      ]
     },
     "execution_count": 286,
     "metadata": {},
     "output_type": "execute_result"
    }
   ],
   "source": [
    "m_inv = np.linalg.inv(m)\n",
    "m_inv"
   ]
  },
  {
   "cell_type": "markdown",
   "metadata": {},
   "source": [
    "Una propiedad de la matriz inversa es que si la multiplicamos por la matriz de partida obtenemos la matriz identidad. Veamos que cumple $A . A^{-1} = I$:"
   ]
  },
  {
   "cell_type": "code",
   "execution_count": 287,
   "metadata": {},
   "outputs": [
    {
     "data": {
      "text/plain": [
       "array([[1.00000000e+00, 0.00000000e+00, 0.00000000e+00],\n",
       "       [1.11022302e-16, 1.00000000e+00, 0.00000000e+00],\n",
       "       [1.11022302e-16, 0.00000000e+00, 1.00000000e+00]])"
      ]
     },
     "execution_count": 287,
     "metadata": {},
     "output_type": "execute_result"
    }
   ],
   "source": [
    "np.dot(m, m_inv)"
   ]
  },
  {
   "cell_type": "markdown",
   "metadata": {},
   "source": [
    "### **Traspuesta de una matriz**"
   ]
  },
  {
   "cell_type": "markdown",
   "metadata": {},
   "source": [
    "La traspuesta de una matriz $A$ se denota por: $(A^t)_{ij} = A_{ji}$, $1 \\leq i \\leq n$, $1 \\leq j \\leq m$, pero básicamente consiste en intercambiar filas por columnas.\n",
    "\n",
    "Aún más fácil es computar la traspuesta de una matriz con Numpy:"
   ]
  },
  {
   "cell_type": "code",
   "execution_count": 289,
   "metadata": {},
   "outputs": [
    {
     "data": {
      "text/plain": [
       "array([[1, 2, 3],\n",
       "       [4, 5, 6]])"
      ]
     },
     "execution_count": 289,
     "metadata": {},
     "output_type": "execute_result"
    }
   ],
   "source": [
    "m = np.array([[1, 2, 3],\n",
    "       [4, 5, 6]])\n",
    "m"
   ]
  },
  {
   "cell_type": "code",
   "execution_count": 290,
   "metadata": {},
   "outputs": [
    {
     "data": {
      "text/plain": [
       "array([[1, 4],\n",
       "       [2, 5],\n",
       "       [3, 6]])"
      ]
     },
     "execution_count": 290,
     "metadata": {},
     "output_type": "execute_result"
    }
   ],
   "source": [
    "m.T"
   ]
  },
  {
   "cell_type": "markdown",
   "metadata": {},
   "source": [
    "> **Ejercicio**"
   ]
  },
  {
   "cell_type": "markdown",
   "metadata": {},
   "source": [
    "Dadas las matrices:\n",
    "\n",
    "\n",
    "\\begin{equation*}\n",
    "A =\n",
    "\\begin{bmatrix}\n",
    "1 & -2 & 1\\\\\n",
    "3 & 0 & 1\n",
    "\\end{bmatrix}\n",
    "\\end{equation*}\n",
    "\n",
    "\\begin{equation*}\n",
    "B =\n",
    "\\begin{bmatrix}\n",
    "4 & 0 & -1\\\\\n",
    "-2 & 1 & 0\n",
    "\\end{bmatrix}\n",
    "\\end{equation*}"
   ]
  },
  {
   "cell_type": "markdown",
   "metadata": {},
   "source": [
    "Comprueba que se cumplen las siguientes igualdades:\n",
    "\n",
    "* $(A + B)^t = A^t + B^t$\n",
    "\n",
    "* $(3A)^t = 3A^t$"
   ]
  },
  {
   "cell_type": "code",
   "execution_count": 291,
   "metadata": {},
   "outputs": [
    {
     "name": "stdout",
     "output_type": "stream",
     "text": [
      "(A + B)^t = A^t + B^t se cumple.\n",
      "(3A)^t = 3A^t se cumple.\n"
     ]
    }
   ],
   "source": [
    "import numpy as np\n",
    "\n",
    "# Definir las matrices A y B\n",
    "A = np.array([[1, -2, 1],\n",
    "              [3, 0, 1]])\n",
    "\n",
    "B = np.array([[4, 0, -1],\n",
    "              [-2, 1, 0]])\n",
    "\n",
    "# Calcular la transpuesta de A y B\n",
    "A_transpuesta = np.transpose(A)\n",
    "B_transpuesta = np.transpose(B)\n",
    "\n",
    "# Verificar la igualdad 1: (A + B)^t = A^t + B^t\n",
    "izquierda = np.transpose(A + B)\n",
    "derecha = A_transpuesta + B_transpuesta\n",
    "igualdad1 = np.array_equal(izquierda, derecha)\n",
    "\n",
    "# Verificar la igualdad 2: (3A)^t = 3A^t\n",
    "izquierda = np.transpose(3 * A)\n",
    "derecha = 3 * A_transpuesta\n",
    "igualdad2 = np.array_equal(izquierda, derecha)\n",
    "\n",
    "# Imprimir los resultados\n",
    "if igualdad1:\n",
    "    print(\"(A + B)^t = A^t + B^t se cumple.\")\n",
    "else:\n",
    "    print(\"(A + B)^t = A^t + B^t no se cumple.\")\n",
    "\n",
    "if igualdad2:\n",
    "    print(\"(3A)^t = 3A^t se cumple.\")\n",
    "else:\n",
    "    print(\"(3A)^t = 3A^t no se cumple.\")"
   ]
  },
  {
   "cell_type": "markdown",
   "metadata": {},
   "source": [
    "### **Elevar matriz a potencia**"
   ]
  },
  {
   "cell_type": "markdown",
   "metadata": {},
   "source": [
    "En el mundo del álgebra lineal es muy frecuente recurrir a la exponenciación de matrices a través de su producto clásico. En este sentido, Numpy nos proporciona una función para computarlo:"
   ]
  },
  {
   "cell_type": "code",
   "execution_count": 294,
   "metadata": {},
   "outputs": [
    {
     "data": {
      "text/plain": [
       "array([[4, 1, 6],\n",
       "       [4, 8, 8],\n",
       "       [2, 1, 7]])"
      ]
     },
     "execution_count": 294,
     "metadata": {},
     "output_type": "execute_result"
    }
   ],
   "source": [
    "m = np.array([[4, 1, 6],\n",
    "       [4, 8, 8],\n",
    "       [2, 1, 7]])\n",
    "m"
   ]
  },
  {
   "cell_type": "code",
   "execution_count": 295,
   "metadata": {},
   "outputs": [
    {
     "data": {
      "text/plain": [
       "array([[ 348,  250,  854],\n",
       "       [ 848,  816, 2000],\n",
       "       [ 310,  231,  775]])"
      ]
     },
     "execution_count": 295,
     "metadata": {},
     "output_type": "execute_result"
    }
   ],
   "source": [
    "np.linalg.matrix_power(m, 3) # más eficiente que np.dot(m, np.dot(m, m))"
   ]
  },
  {
   "cell_type": "markdown",
   "metadata": {},
   "source": [
    "> **Ejercicio**"
   ]
  },
  {
   "cell_type": "markdown",
   "metadata": {},
   "source": [
    "Dada la matriz\n",
    "\n",
    "\\begin{equation*}\n",
    "A =\n",
    "\\begin{bmatrix}\n",
    "4 & 5 & -1\\\\\n",
    "-3 & -4 & 1\\\\\n",
    "-3 & -4 & 0\n",
    "\\end{bmatrix}\n",
    "\\end{equation*}"
   ]
  },
  {
   "cell_type": "markdown",
   "metadata": {},
   "source": [
    "Calcule: $A^2, A^3, ....., A^{128}$\n",
    "\n",
    "¿Nota algo especial en los resultados?"
   ]
  },
  {
   "cell_type": "code",
   "execution_count": 296,
   "metadata": {},
   "outputs": [
    {
     "name": "stdout",
     "output_type": "stream",
     "text": [
      "No se observa un patrón especial en los resultados.\n",
      "A^2:\n",
      "[[ 4  5 -1]\n",
      " [-3 -4  1]\n",
      " [-3 -4  0]]\n",
      "A^128:\n",
      "[[ 4  4  1]\n",
      " [-3 -3 -1]\n",
      " [ 0  1 -1]]\n"
     ]
    }
   ],
   "source": [
    "import numpy as np\n",
    "\n",
    "# Definir la matriz A\n",
    "A = np.array([[4, 5, -1],\n",
    "              [-3, -4, 1],\n",
    "              [-3, -4, 0]])\n",
    "\n",
    "# Inicializar una lista para almacenar las potencias sucesivas de A\n",
    "potencias_A = [A]\n",
    "\n",
    "# Calcular las potencias de A desde 2 hasta 128\n",
    "for n in range(2, 129):\n",
    "    A_n = np.dot(potencias_A[-1], A)\n",
    "    potencias_A.append(A_n)\n",
    "\n",
    "# Verificar si hay algún patrón especial en los resultados\n",
    "patron_especial = True\n",
    "for i in range(len(potencias_A) - 1):\n",
    "    if not np.array_equal(potencias_A[i], potencias_A[i + 1]):\n",
    "        patron_especial = False\n",
    "        break\n",
    "\n",
    "# Imprimir los resultados\n",
    "if patron_especial:\n",
    "    print(\"Se observa un patrón especial: A^n es igual para todos los valores de n desde 2 hasta 128.\")\n",
    "else:\n",
    "    print(\"No se observa un patrón especial en los resultados.\")\n",
    "\n",
    "# Imprimir una muestra de los resultados\n",
    "print(\"A^2:\")\n",
    "print(potencias_A[0])\n",
    "print(\"A^128:\")\n",
    "print(potencias_A[-1])"
   ]
  },
  {
   "cell_type": "markdown",
   "metadata": {},
   "source": [
    "### **Sistemas de ecuaciones lineales**"
   ]
  },
  {
   "cell_type": "markdown",
   "metadata": {},
   "source": [
    "Numpy también nos permite resolver sistemas de ecuaciones lineales. Para ello debemos modelar nuestro sistema a través de arrays.\n",
    "\n",
    "Veamos un ejemplo en el que queremos resolver el siguiente sistemas de ecuaciones lineales:"
   ]
  },
  {
   "cell_type": "markdown",
   "metadata": {},
   "source": [
    "\\begin{equation*}\n",
    "\\begin{cases}\n",
    "x_1 + 2x_3 = 1\\\\\n",
    "x_1 - x_2 = -2\\\\\n",
    "x_2 + x_3 = -1\n",
    "\\end{cases}\n",
    "\n",
    "\\Longrightarrow\n",
    "\n",
    "\\begin{bmatrix}\n",
    "1 & 0 & 2 \\\\\n",
    "1 & -1 & 0 \\\\\n",
    "0 & 1 & 1\n",
    "\\end{bmatrix}\n",
    "\n",
    "\\begin{bmatrix}\n",
    "x_1 \\\\\n",
    "x_2 \\\\\n",
    "x_3\n",
    "\\end{bmatrix}\n",
    "=\n",
    "\\begin{bmatrix}\n",
    "1 \\\\\n",
    "-2 \\\\\n",
    "-1\n",
    "\\end{bmatrix}\n",
    "\n",
    "\\Longrightarrow\n",
    "\n",
    "AX = B\n",
    "\n",
    "\\end{equation*}"
   ]
  },
  {
   "cell_type": "markdown",
   "metadata": {},
   "source": [
    "Podemos alamacenar las matrices de coeficientes $A$ y $B$ de la siguiente manera:"
   ]
  },
  {
   "cell_type": "code",
   "execution_count": 297,
   "metadata": {},
   "outputs": [],
   "source": [
    "A = np.array([[1, 0, 2], [1, -1, 0], [0, 1, 1]])\n",
    "B = np.array([1, -2, -1]).reshape(-1, 1)"
   ]
  },
  {
   "cell_type": "code",
   "execution_count": 298,
   "metadata": {},
   "outputs": [
    {
     "data": {
      "text/plain": [
       "array([[ 1,  0,  2],\n",
       "       [ 1, -1,  0],\n",
       "       [ 0,  1,  1]])"
      ]
     },
     "execution_count": 298,
     "metadata": {},
     "output_type": "execute_result"
    }
   ],
   "source": [
    "A"
   ]
  },
  {
   "cell_type": "code",
   "execution_count": 299,
   "metadata": {},
   "outputs": [
    {
     "data": {
      "text/plain": [
       "array([[ 1],\n",
       "       [-2],\n",
       "       [-1]])"
      ]
     },
     "execution_count": 299,
     "metadata": {},
     "output_type": "execute_result"
    }
   ],
   "source": [
    "B"
   ]
  },
  {
   "cell_type": "markdown",
   "metadata": {},
   "source": [
    "La solución al sistema viene dada por la siguiente función:"
   ]
  },
  {
   "cell_type": "code",
   "execution_count": 300,
   "metadata": {},
   "outputs": [
    {
     "data": {
      "text/plain": [
       "array([[-7.],\n",
       "       [-5.],\n",
       "       [ 4.]])"
      ]
     },
     "execution_count": 300,
     "metadata": {},
     "output_type": "execute_result"
    }
   ],
   "source": [
    "np.linalg.solve(A, B)"
   ]
  },
  {
   "cell_type": "markdown",
   "metadata": {},
   "source": [
    "La solución del sistema debe ser la misma que si obtenemos $X = A^{-1}.B$"
   ]
  },
  {
   "cell_type": "code",
   "execution_count": 301,
   "metadata": {},
   "outputs": [
    {
     "data": {
      "text/plain": [
       "array([[-7.],\n",
       "       [-5.],\n",
       "       [ 4.]])"
      ]
     },
     "execution_count": 301,
     "metadata": {},
     "output_type": "execute_result"
    }
   ],
   "source": [
    "np.dot(np.linalg.inv(A), B)"
   ]
  },
  {
   "cell_type": "markdown",
   "metadata": {},
   "source": [
    "> **Ejercicio**"
   ]
  },
  {
   "cell_type": "markdown",
   "metadata": {},
   "source": [
    "Resuelva el siguiente sistema de ecuaciones lineales:\n",
    "\n",
    "\n",
    "\\begin{cases}\n",
    "3x + 4y - z = 8 \\\\\n",
    "5x - 2y + z = 4 \\\\\n",
    "2x - 2y + z = 1\n",
    "\\end{cases}\n"
   ]
  },
  {
   "cell_type": "code",
   "execution_count": 302,
   "metadata": {},
   "outputs": [
    {
     "name": "stdout",
     "output_type": "stream",
     "text": [
      "La solución del sistema de ecuaciones es:\n",
      "x = 1.0\n",
      "y = 1.999999999999999\n",
      "z = 2.9999999999999973\n"
     ]
    }
   ],
   "source": [
    "import numpy as np\n",
    "\n",
    "# Definir la matriz de coeficientes A y el vector de términos constantes B\n",
    "A = np.array([[3, 4, -1],\n",
    "              [5, -2, 1],\n",
    "              [2, -2, 1]])\n",
    "\n",
    "B = np.array([8, 4, 1])\n",
    "\n",
    "# Resolver el sistema de ecuaciones AX = B\n",
    "X = np.linalg.solve(A, B)\n",
    "\n",
    "# Imprimir la solución\n",
    "print(\"La solución del sistema de ecuaciones es:\")\n",
    "print(\"x =\", X[0])\n",
    "print(\"y =\", X[1])\n",
    "print(\"z =\", X[2])"
   ]
  },
  {
   "cell_type": "markdown",
   "metadata": {},
   "source": [
    "| **Inicio** | **Siguiente 2** |\n",
    "|----------- |-------------- |\n",
    "| [🏠](../../README.md) | [⏩](./2_Pandas.ipynb)|"
   ]
  }
 ],
 "metadata": {
  "kernelspec": {
   "display_name": "base",
   "language": "python",
   "name": "python3"
  },
  "language_info": {
   "codemirror_mode": {
    "name": "ipython",
    "version": 3
   },
   "file_extension": ".py",
   "mimetype": "text/x-python",
   "name": "python",
   "nbconvert_exporter": "python",
   "pygments_lexer": "ipython3",
   "version": "3.9.12"
  }
 },
 "nbformat": 4,
 "nbformat_minor": 2
}
