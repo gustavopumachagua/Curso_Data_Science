{
 "cells": [
  {
   "attachments": {},
   "cell_type": "markdown",
   "metadata": {},
   "source": [
    "# **Qué es la Estadística Inferencial: Fundamentos de la Ciencia de Datos**"
   ]
  },
  {
   "attachments": {},
   "cell_type": "markdown",
   "metadata": {},
   "source": [
    "![inferencial](../img/inferencia.png \"inferencial\")"
   ]
  },
  {
   "attachments": {},
   "cell_type": "markdown",
   "metadata": {},
   "source": [
    "## **1. Introducción**"
   ]
  },
  {
   "attachments": {},
   "cell_type": "markdown",
   "metadata": {},
   "source": [
    "La estadística inferencial es la rama de la estadística que se encarga de realizar inferencias sobre una población a partir de una muestra de datos. En otras palabras, permite generalizar las conclusiones obtenidas de un conjunto limitado de datos a toda la población.\n",
    "\n",
    "Por ejemplo, supongamos que queremos estimar la altura promedio de los estudiantes de una universidad. Sería imposible medir la altura de todos los estudiantes, por lo que se puede tomar una muestra aleatoria de ellos y utilizar esa información para hacer una inferencia sobre la altura promedio de todos los estudiantes de la universidad.\n",
    "\n",
    "Para realizar inferencias estadísticas, se utilizan técnicas como la estimación de parámetros y la prueba de hipótesis.\n",
    "\n",
    "A continuación se muestra un ejemplo de cómo realizar una prueba de hipótesis en Python. Supongamos que se tiene una muestra de notas de exámenes y se quiere saber si la media de las notas en la población es igual a 70."
   ]
  },
  {
   "cell_type": "code",
   "execution_count": 1,
   "metadata": {},
   "outputs": [
    {
     "name": "stdout",
     "output_type": "stream",
     "text": [
      "No se puede rechazar la hipótesis de que la media de notas es igual a 70\n"
     ]
    }
   ],
   "source": [
    "import numpy as np\n",
    "from scipy import stats\n",
    "\n",
    "# Datos de muestra\n",
    "notas = np.array([60, 70, 80, 90, 75, 85, 72, 78, 82, 68])\n",
    "\n",
    "# Prueba de hipótesis\n",
    "resultado = stats.ttest_1samp(notas, 70)\n",
    "\n",
    "# Imprimir resultado\n",
    "if resultado.pvalue < 0.05:\n",
    "    print('La media de notas es significativamente diferente de 70')\n",
    "else:\n",
    "    print('No se puede rechazar la hipótesis de que la media de notas es igual a 70')\n"
   ]
  },
  {
   "attachments": {},
   "cell_type": "markdown",
   "metadata": {},
   "source": [
    "En este ejemplo, la hipótesis nula es que la media de notas es igual a 70, y la alternativa es que es diferente de 70. La prueba de hipótesis devuelve un valor de pvalue que indica la probabilidad de obtener una media muestral igual o más extrema que la observada, si la hipótesis nula es cierta. Si este valor es menor que el nivel de significancia elegido (en este caso, 0.05), se rechaza la hipótesis nula y se concluye que la media de notas es significativamente diferente de 70.\n",
    "\n",
    "En cuanto a la representación gráfica de la estadística inferencial, una forma común de hacerlo es mediante intervalos de confianza. Estos intervalos indican el rango de valores en el que se espera que se encuentre el verdadero valor del parámetro con un cierto nivel de confianza.\n",
    "\n",
    "Por ejemplo, si se quiere estimar la media de notas en la población, se puede calcular un intervalo de confianza del 95% para esta media a partir de la muestra de notas. En Python, esto se puede hacer de la siguiente manera:"
   ]
  },
  {
   "cell_type": "code",
   "execution_count": 2,
   "metadata": {},
   "outputs": [
    {
     "data": {
      "text/plain": [
       "<AxesSubplot:>"
      ]
     },
     "execution_count": 2,
     "metadata": {},
     "output_type": "execute_result"
    },
    {
     "data": {
      "image/png": "[encoded data removed]",
      "text/plain": [
       "<Figure size 432x288 with 1 Axes>"
      ]
     },
     "metadata": {
      "needs_background": "light"
     },
     "output_type": "display_data"
    }
   ],
   "source": [
    "import seaborn as sns\n",
    "\n",
    "# Intervalo de confianza del 95% para la media de notas\n",
    "sns.barplot(data=notas, ci=95)\n"
   ]
  },
  {
   "attachments": {},
   "cell_type": "markdown",
   "metadata": {},
   "source": [
    "## **2. Estadística descriptiva e inferencial**"
   ]
  },
  {
   "attachments": {},
   "cell_type": "markdown",
   "metadata": {},
   "source": [
    "La estadística es una disciplina que se divide en dos áreas principales: la estadística descriptiva y la estadística inferencial.\n",
    "\n",
    "La estadística descriptiva se enfoca en resumir y describir las características de un conjunto de datos, mientras que la estadística inferencial se enfoca en hacer inferencias sobre una población a partir de una muestra de datos.\n",
    "\n",
    "A continuación, se presenta un ejemplo de cómo se pueden utilizar ambas áreas de la estadística en Python para analizar un conjunto de datos.\n",
    "\n",
    "Primero, se importan las bibliotecas necesarias:"
   ]
  },
  {
   "cell_type": "code",
   "execution_count": 3,
   "metadata": {},
   "outputs": [],
   "source": [
    "import pandas as pd\n",
    "import numpy as np\n",
    "import matplotlib.pyplot as plt\n",
    "import seaborn as sns\n",
    "df = pd.read_csv('https://raw.githubusercontent.com/mwaskom/seaborn-data/master/tips.csv')\n"
   ]
  },
  {
   "attachments": {},
   "cell_type": "markdown",
   "metadata": {},
   "source": [
    "Este conjunto de datos contiene información sobre el monto de la propina que los clientes dejaron en un restaurante, junto con información sobre la factura total, el género del servidor, el tamaño del grupo, etc.\n",
    "\n",
    "Se puede utilizar la estadística descriptiva para obtener información sobre las características del conjunto de datos, como la media, la mediana, la desviación estándar, etc. Por ejemplo, para obtener un resumen de las variables numéricas, se puede utilizar la función ```describe()```:"
   ]
  },
  {
   "cell_type": "code",
   "execution_count": 4,
   "metadata": {},
   "outputs": [
    {
     "data": {
      "text/html": [
       "<div>\n",
       "<style scoped>\n",
       "    .dataframe tbody tr th:only-of-type {\n",
       "        vertical-align: middle;\n",
       "    }\n",
       "\n",
       "    .dataframe tbody tr th {\n",
       "        vertical-align: top;\n",
       "    }\n",
       "\n",
       "    .dataframe thead th {\n",
       "        text-align: right;\n",
       "    }\n",
       "</style>\n",
       "<table border=\"1\" class=\"dataframe\">\n",
       "  <thead>\n",
       "    <tr style=\"text-align: right;\">\n",
       "      <th></th>\n",
       "      <th>total_bill</th>\n",
       "      <th>tip</th>\n",
       "      <th>size</th>\n",
       "    </tr>\n",
       "  </thead>\n",
       "  <tbody>\n",
       "    <tr>\n",
       "      <th>count</th>\n",
       "      <td>244.000000</td>\n",
       "      <td>244.000000</td>\n",
       "      <td>244.000000</td>\n",
       "    </tr>\n",
       "    <tr>\n",
       "      <th>mean</th>\n",
       "      <td>19.785943</td>\n",
       "      <td>2.998279</td>\n",
       "      <td>2.569672</td>\n",
       "    </tr>\n",
       "    <tr>\n",
       "      <th>std</th>\n",
       "      <td>8.902412</td>\n",
       "      <td>1.383638</td>\n",
       "      <td>0.951100</td>\n",
       "    </tr>\n",
       "    <tr>\n",
       "      <th>min</th>\n",
       "      <td>3.070000</td>\n",
       "      <td>1.000000</td>\n",
       "      <td>1.000000</td>\n",
       "    </tr>\n",
       "    <tr>\n",
       "      <th>25%</th>\n",
       "      <td>13.347500</td>\n",
       "      <td>2.000000</td>\n",
       "      <td>2.000000</td>\n",
       "    </tr>\n",
       "    <tr>\n",
       "      <th>50%</th>\n",
       "      <td>17.795000</td>\n",
       "      <td>2.900000</td>\n",
       "      <td>2.000000</td>\n",
       "    </tr>\n",
       "    <tr>\n",
       "      <th>75%</th>\n",
       "      <td>24.127500</td>\n",
       "      <td>3.562500</td>\n",
       "      <td>3.000000</td>\n",
       "    </tr>\n",
       "    <tr>\n",
       "      <th>max</th>\n",
       "      <td>50.810000</td>\n",
       "      <td>10.000000</td>\n",
       "      <td>6.000000</td>\n",
       "    </tr>\n",
       "  </tbody>\n",
       "</table>\n",
       "</div>"
      ],
      "text/plain": [
       "       total_bill         tip        size\n",
       "count  244.000000  244.000000  244.000000\n",
       "mean    19.785943    2.998279    2.569672\n",
       "std      8.902412    1.383638    0.951100\n",
       "min      3.070000    1.000000    1.000000\n",
       "25%     13.347500    2.000000    2.000000\n",
       "50%     17.795000    2.900000    2.000000\n",
       "75%     24.127500    3.562500    3.000000\n",
       "max     50.810000   10.000000    6.000000"
      ]
     },
     "execution_count": 4,
     "metadata": {},
     "output_type": "execute_result"
    }
   ],
   "source": [
    "df.describe()\n"
   ]
  },
  {
   "cell_type": "code",
   "execution_count": 5,
   "metadata": {},
   "outputs": [
    {
     "data": {
      "image/png": "[encoded data removed]",
      "text/plain": [
       "<Figure size 432x288 with 1 Axes>"
      ]
     },
     "metadata": {
      "needs_background": "light"
     },
     "output_type": "display_data"
    }
   ],
   "source": [
    "sns.histplot(df['total_bill'], kde=False)\n",
    "plt.show()\n"
   ]
  },
  {
   "attachments": {},
   "cell_type": "markdown",
   "metadata": {},
   "source": [
    "Para visualizar las relaciones entre variables numéricas, se pueden utilizar gráficos de dispersión:"
   ]
  },
  {
   "cell_type": "code",
   "execution_count": 6,
   "metadata": {},
   "outputs": [
    {
     "data": {
      "image/png": "[encoded data removed]",
      "text/plain": [
       "<Figure size 432x288 with 1 Axes>"
      ]
     },
     "metadata": {
      "needs_background": "light"
     },
     "output_type": "display_data"
    }
   ],
   "source": [
    "sns.scatterplot(x='total_bill', y='tip', data=df)\n",
    "plt.show()\n"
   ]
  },
  {
   "attachments": {},
   "cell_type": "markdown",
   "metadata": {},
   "source": [
    "Para utilizar la estadística inferencial, se puede realizar una prueba de hipótesis para determinar si hay una relación significativa entre dos variables numéricas. Por ejemplo, se puede realizar una prueba de correlación de Pearson entre el total de la factura y la propina:"
   ]
  },
  {
   "cell_type": "code",
   "execution_count": 7,
   "metadata": {},
   "outputs": [
    {
     "name": "stdout",
     "output_type": "stream",
     "text": [
      "Correlación de Pearson: 0.676, valor p: 0.000\n"
     ]
    }
   ],
   "source": [
    "from scipy.stats import pearsonr\n",
    "\n",
    "r, p = pearsonr(df['total_bill'], df['tip'])\n",
    "print(f'Correlación de Pearson: {r:.3f}, valor p: {p:.3f}')\n"
   ]
  },
  {
   "attachments": {},
   "cell_type": "markdown",
   "metadata": {},
   "source": [
    "Esto devuelve un valor de correlación de Pearson de 0.676 y un valor p muy bajo, lo que sugiere que hay una relación significativa entre el total de la factura y la propina.\n",
    "\n",
    "Para visualizar la matriz de correlaciones entre las variables numéricas, se puede utilizar un mapa de calor:"
   ]
  },
  {
   "cell_type": "code",
   "execution_count": 8,
   "metadata": {},
   "outputs": [
    {
     "data": {
      "image/png": "[encoded data removed]",
      "text/plain": [
       "<Figure size 432x288 with 2 Axes>"
      ]
     },
     "metadata": {
      "needs_background": "light"
     },
     "output_type": "display_data"
    }
   ],
   "source": [
    "corr = df.corr()\n",
    "sns.heatmap(corr, annot=True)\n",
    "plt.show()\n"
   ]
  },
  {
   "attachments": {},
   "cell_type": "markdown",
   "metadata": {},
   "source": [
    "Esto muestra que hay una fuerte correlación positiva entre el total de la factura y la propina, así como una correlación positiva moderada entre el tamaño del grupo y el total de la factura y la propina.\n",
    "\n",
    "En resumen, la estadística descriptiva se puede utilizar para resumir y visualizar las características de un conjunto de datos, mientras que la estadística inferencial se puede utilizar para hacer inferencias sobre una población a partir de una muestra de datos. "
   ]
  },
  {
   "attachments": {},
   "cell_type": "markdown",
   "metadata": {},
   "source": [
    "## **3. Librerías de python para estadística inferencial**"
   ]
  },
  {
   "attachments": {},
   "cell_type": "markdown",
   "metadata": {},
   "source": [
    "Existen varias librerías de Python que se pueden utilizar para realizar análisis de estadística inferencial, algunas de las más comunes son:\n",
    "\n",
    "* NumPy: es una biblioteca para Python que se utiliza para realizar cálculos numéricos y estadísticos. Proporciona funciones para realizar operaciones matemáticas básicas y avanzadas, así como para trabajar con matrices y vectores.\n",
    "\n",
    "* SciPy: es una biblioteca para Python que se utiliza para realizar cálculos científicos y estadísticos. Proporciona funciones para realizar pruebas estadísticas, optimización, interpolación, integración, entre otras.\n",
    "\n",
    "* Pandas: es una biblioteca para Python que se utiliza para la manipulación y análisis de datos. Proporciona funciones para la lectura y escritura de datos, así como para la manipulación y análisis de datos tabulares.\n",
    "\n",
    "* Statsmodels: es una biblioteca para Python que se utiliza para realizar análisis estadísticos. Proporciona funciones para realizar modelos estadísticos, pruebas de hipótesis, análisis de series de tiempo, entre otras.\n",
    "\n",
    "* Scikit-learn: es una biblioteca para Python que se utiliza para realizar aprendizaje automático. Proporciona funciones para realizar modelos de regresión, clasificación, agrupamiento, reducción de dimensionalidad, entre otras.\n",
    "\n",
    "Estas bibliotecas son ampliamente utilizadas y proporcionan muchas funcionalidades que permiten realizar análisis de estadística inferencial en Python de manera eficiente y efectiva."
   ]
  }
 ],
 "metadata": {
  "kernelspec": {
   "display_name": "base",
   "language": "python",
   "name": "python3"
  },
  "language_info": {
   "codemirror_mode": {
    "name": "ipython",
    "version": 3
   },
   "file_extension": ".py",
   "mimetype": "text/x-python",
   "name": "python",
   "nbconvert_exporter": "python",
   "pygments_lexer": "ipython3",
   "version": "3.9.12"
  },
  "orig_nbformat": 4
 },
 "nbformat": 4,
 "nbformat_minor": 2
}
