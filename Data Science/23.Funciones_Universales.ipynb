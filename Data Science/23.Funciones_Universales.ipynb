{
 "cells": [
  {
   "attachments": {},
   "cell_type": "markdown",
   "metadata": {},
   "source": [
    "# **Acelera el procesamiento de datos con Funciones Universales (UFuncs) de Numpy**"
   ]
  },
  {
   "attachments": {},
   "cell_type": "markdown",
   "metadata": {},
   "source": [
    "## **1. Introducción a las funciones universales**"
   ]
  },
  {
   "attachments": {},
   "cell_type": "markdown",
   "metadata": {},
   "source": [
    "Las Funciones Universales (UFuncs) de Numpy son funciones que se aplican a cada elemento de un arreglo de Numpy de forma rápida y eficiente. Estas funciones incluyen operaciones matemáticas básicas, funciones trigonométricas, funciones exponenciales y logarítmicas, entre otras."
   ]
  },
  {
   "cell_type": "code",
   "execution_count": 1,
   "metadata": {},
   "outputs": [
    {
     "name": "stdout",
     "output_type": "stream",
     "text": [
      "[ 1  4  9 16 25]\n",
      "[  2.71828183   7.3890561   20.08553692  54.59815003 148.4131591 ]\n",
      "[ 0.84147098  0.90929743  0.14112001 -0.7568025  -0.95892427]\n"
     ]
    }
   ],
   "source": [
    "import numpy as np\n",
    "\n",
    "# Crear un arreglo de Numpy unidimensional\n",
    "arr = np.array([1, 2, 3, 4, 5])\n",
    "\n",
    "# Aplicar la función cuadrado a cada elemento del arreglo\n",
    "square_arr = np.square(arr)\n",
    "print(square_arr)\n",
    "\n",
    "# Aplicar la función exponencial a cada elemento del arreglo\n",
    "exp_arr = np.exp(arr)\n",
    "print(exp_arr)\n",
    "\n",
    "# Aplicar la función seno a cada elemento del arreglo\n",
    "sin_arr = np.sin(arr)\n",
    "print(sin_arr)\n"
   ]
  },
  {
   "attachments": {},
   "cell_type": "markdown",
   "metadata": {},
   "source": [
    "## **2. Funciones universales básicas: add, subtract, divide, multiple, power y absolute**"
   ]
  },
  {
   "cell_type": "code",
   "execution_count": 2,
   "metadata": {},
   "outputs": [
    {
     "name": "stdout",
     "output_type": "stream",
     "text": [
      "[ 7  9 11 13 15]\n",
      "[5 5 5 5 5]\n",
      "[0.16666667 0.28571429 0.375      0.44444444 0.5       ]\n",
      "[ 6 14 24 36 50]\n",
      "[      1     128    6561  262144 9765625]\n",
      "[1 2 3 4 5]\n"
     ]
    }
   ],
   "source": [
    "import numpy as np\n",
    "\n",
    "# Crear dos arreglos de Numpy unidimensionales\n",
    "arr1 = np.array([1, 2, 3, 4, 5])\n",
    "arr2 = np.array([6, 7, 8, 9, 10])\n",
    "\n",
    "# Sumar los elementos de los dos arreglos\n",
    "sum_arr = np.add(arr1, arr2)\n",
    "print(sum_arr)\n",
    "\n",
    "# Restar los elementos de los dos arreglos\n",
    "sub_arr = np.subtract(arr2, arr1)\n",
    "print(sub_arr)\n",
    "\n",
    "# Dividir los elementos de los dos arreglos\n",
    "div_arr = np.divide(arr1, arr2)\n",
    "print(div_arr)\n",
    "\n",
    "# Multiplicar los elementos de los dos arreglos\n",
    "mul_arr = np.multiply(arr1, arr2)\n",
    "print(mul_arr)\n",
    "\n",
    "# Elevar los elementos de arr1 a los elementos de arr2\n",
    "pow_arr = np.power(arr1, arr2)\n",
    "print(pow_arr)\n",
    "\n",
    "# Obtener el valor absoluto de los elementos de arr1\n",
    "abs_arr = np.absolute(arr1)\n",
    "print(abs_arr)\n"
   ]
  },
  {
   "attachments": {},
   "cell_type": "markdown",
   "metadata": {},
   "source": [
    "## **3. Ejemplo de función universal para el cálculo del índice de la masa corporal**"
   ]
  },
  {
   "cell_type": "code",
   "execution_count": 3,
   "metadata": {},
   "outputs": [
    {
     "name": "stdout",
     "output_type": "stream",
     "text": [
      "[21.60493827 26.12244898 23.03004535]\n"
     ]
    }
   ],
   "source": [
    "import numpy as np\n",
    "\n",
    "# Crear un arreglo de Numpy bidimensional con datos de peso (en kg) y altura (en m)\n",
    "datos = np.array([[70, 1.80],\n",
    "                  [80, 1.75],\n",
    "                  [65, 1.68]])\n",
    "\n",
    "# Obtener los pesos y alturas por separado\n",
    "pesos = datos[:, 0]\n",
    "alturas = datos[:, 1]\n",
    "\n",
    "# Calcular el índice de masa corporal (IMC)\n",
    "imc = np.divide(pesos, np.power(alturas, 2))\n",
    "print(imc)\n"
   ]
  },
  {
   "attachments": {},
   "cell_type": "markdown",
   "metadata": {},
   "source": [
    "## **4. Comparación de tiempos de ejecución entre arrays con ufuncs y listas   tradicionales**"
   ]
  },
  {
   "attachments": {},
   "cell_type": "markdown",
   "metadata": {},
   "source": [
    "Las funciones universales (ufuncs) en Numpy se han optimizado para trabajar con arreglos de manera eficiente, lo que significa que en general son mucho más rápidas que las operaciones equivalentes en listas tradicionales de Python. Esto se debe a que Numpy utiliza código nativo de bajo nivel (C y Fortran) para realizar operaciones en los arreglos, mientras que Python trabaja con objetos de alto nivel.\n",
    "\n",
    "A continuación, se muestra un ejemplo que compara los tiempos de ejecución de una operación simple de suma entre un arreglo de Numpy y una lista de Python:"
   ]
  },
  {
   "cell_type": "code",
   "execution_count": 4,
   "metadata": {},
   "outputs": [
    {
     "name": "stdout",
     "output_type": "stream",
     "text": [
      "Tiempo de ejecución con Numpy: 0.05339670181274414 segundos\n",
      "Tiempo de ejecución con lista de Python: 0.7357568740844727 segundos\n"
     ]
    }
   ],
   "source": [
    "import numpy as np\n",
    "import time\n",
    "\n",
    "# Crear un arreglo de Numpy con 1000000 elementos\n",
    "a = np.random.rand(1000000)\n",
    "\n",
    "# Crear una lista de Python con 1000000 elementos\n",
    "b = list(a)\n",
    "\n",
    "# Medir el tiempo de ejecución de la suma en Numpy\n",
    "start_time = time.time()\n",
    "c = a + a\n",
    "print(\"Tiempo de ejecución con Numpy:\", time.time() - start_time, \"segundos\")\n",
    "\n",
    "# Medir el tiempo de ejecución de la suma en la lista de Python\n",
    "start_time = time.time()\n",
    "d = [i + i for i in b]\n",
    "print(\"Tiempo de ejecución con lista de Python:\", time.time() - start_time, \"segundos\")\n"
   ]
  }
 ],
 "metadata": {
  "kernelspec": {
   "display_name": "base",
   "language": "python",
   "name": "python3"
  },
  "language_info": {
   "codemirror_mode": {
    "name": "ipython",
    "version": 3
   },
   "file_extension": ".py",
   "mimetype": "text/x-python",
   "name": "python",
   "nbconvert_exporter": "python",
   "pygments_lexer": "ipython3",
   "version": "3.9.12"
  },
  "orig_nbformat": 4
 },
 "nbformat": 4,
 "nbformat_minor": 2
}
