{
 "cells": [
  {
   "attachments": {},
   "cell_type": "markdown",
   "metadata": {},
   "source": [
    "# **Numpy: Unión y Separación de Arrays (arreglos) para Procesar Datos**"
   ]
  },
  {
   "attachments": {},
   "cell_type": "markdown",
   "metadata": {},
   "source": [
    "## **1. Introducción a la Unión y Separación de Arrays**"
   ]
  },
  {
   "cell_type": "code",
   "execution_count": 1,
   "metadata": {},
   "outputs": [
    {
     "name": "stdout",
     "output_type": "stream",
     "text": [
      "Unión de los dos arreglos:\n",
      "[1 2 3 4 5 6]\n",
      "Apilamiento de los dos arreglos en una nueva dimensión:\n",
      "[[1 2 3]\n",
      " [4 5 6]]\n",
      "Unión de los dos arreglos a lo largo del segundo eje:\n",
      "[1 2 3 4 5 6]\n",
      "Unión de los dos arreglos a lo largo del primer eje:\n",
      "[[1 2 3]\n",
      " [4 5 6]]\n",
      "Separación del arreglo en tres partes iguales:\n",
      "[array([1, 2, 3]), array([4, 5, 6]), array([7, 8, 9])]\n"
     ]
    }
   ],
   "source": [
    "import numpy as np\n",
    "\n",
    "# Crear dos arreglos de 1 dimensión\n",
    "a = np.array([1, 2, 3])\n",
    "b = np.array([4, 5, 6])\n",
    "\n",
    "# Unir los dos arreglos en uno solo\n",
    "c = np.concatenate((a, b))\n",
    "print(\"Unión de los dos arreglos:\")\n",
    "print(c)\n",
    "\n",
    "# Apilar los dos arreglos en una nueva dimensión\n",
    "d = np.stack((a, b))\n",
    "print(\"Apilamiento de los dos arreglos en una nueva dimensión:\")\n",
    "print(d)\n",
    "\n",
    "# Unir los dos arreglos en uno solo a lo largo del segundo eje\n",
    "e = np.hstack((a, b))\n",
    "print(\"Unión de los dos arreglos a lo largo del segundo eje:\")\n",
    "print(e)\n",
    "\n",
    "# Unir los dos arreglos en uno solo a lo largo del primer eje\n",
    "f = np.vstack((a, b))\n",
    "print(\"Unión de los dos arreglos a lo largo del primer eje:\")\n",
    "print(f)\n",
    "\n",
    "# Separar un arreglo en tres partes iguales\n",
    "g = np.array([1, 2, 3, 4, 5, 6, 7, 8, 9])\n",
    "h = np.split(g, 3)\n",
    "print(\"Separación del arreglo en tres partes iguales:\")\n",
    "print(h)\n"
   ]
  },
  {
   "attachments": {},
   "cell_type": "markdown",
   "metadata": {},
   "source": [
    "## **2. Explicación del contexto del Ejemplo**"
   ]
  },
  {
   "attachments": {},
   "cell_type": "markdown",
   "metadata": {},
   "source": [
    "El siguiente ejemplo es una simulación sencilla de un juego de dados en Python utilizando la biblioteca Numpy. En el juego, se lanzan dos dados y se suman los valores obtenidos en cada lanzamiento. El objetivo es predecir cuál será el resultado de la suma de los dados en cada lanzamiento.\n",
    "\n",
    "En el ejemplo, se crean dos arreglos de Numpy de una dimensión (uno para cada dado) que contienen los valores posibles de cada dado (1 al 6). Luego, se utiliza la función ```random.choice()``` de Numpy para simular el lanzamiento de cada dado en cada turno y se suman los valores obtenidos para obtener la puntuación total.\n",
    "\n",
    "Se realiza un total de 10 lanzamientos y se guarda el resultado de cada lanzamiento en un arreglo de Numpy. Finalmente, se utiliza la función ```where()``` de Numpy para comparar los resultados obtenidos con una predicción y se imprime el número de aciertos. Este ejemplo muestra cómo se pueden utilizar arreglos de Numpy y algunas de sus funciones para realizar simulaciones sencillas y procesar los datos resultantes."
   ]
  },
  {
   "attachments": {},
   "cell_type": "markdown",
   "metadata": {},
   "source": [
    "## **3. Apilar arrays con Stack**"
   ]
  },
  {
   "cell_type": "code",
   "execution_count": 2,
   "metadata": {},
   "outputs": [
    {
     "name": "stdout",
     "output_type": "stream",
     "text": [
      "Apilado horizontal:\n",
      " [1 2 3 4 5 6]\n",
      "Apilado vertical:\n",
      " [[1 2 3]\n",
      " [4 5 6]]\n"
     ]
    }
   ],
   "source": [
    "import numpy as np\n",
    "\n",
    "# Crear dos arreglos de Numpy de una dimensión\n",
    "arr1 = np.array([1, 2, 3])\n",
    "arr2 = np.array([4, 5, 6])\n",
    "\n",
    "# Apilar horizontalmente los dos arreglos\n",
    "hstacked = np.hstack((arr1, arr2))\n",
    "print(\"Apilado horizontal:\\n\", hstacked)\n",
    "\n",
    "# Apilar verticalmente los dos arreglos\n",
    "vstacked = np.vstack((arr1, arr2))\n",
    "print(\"Apilado vertical:\\n\", vstacked)\n"
   ]
  },
  {
   "attachments": {},
   "cell_type": "markdown",
   "metadata": {},
   "source": [
    "## **4. Separar arrays con Split**"
   ]
  },
  {
   "cell_type": "code",
   "execution_count": 3,
   "metadata": {},
   "outputs": [
    {
     "name": "stdout",
     "output_type": "stream",
     "text": [
      "Sub-arreglo 1: [1 2 3]\n",
      "Sub-arreglo 2: [4 5 6]\n"
     ]
    }
   ],
   "source": [
    "import numpy as np\n",
    "\n",
    "# Crear un arreglo de Numpy unidimensional\n",
    "arr = np.array([1, 2, 3, 4, 5, 6])\n",
    "\n",
    "# Separar el arreglo en dos sub-arreglos de igual longitud\n",
    "split_arr = np.split(arr, 2)\n",
    "print(\"Sub-arreglo 1:\", split_arr[0])\n",
    "print(\"Sub-arreglo 2:\", split_arr[1])\n"
   ]
  }
 ],
 "metadata": {
  "kernelspec": {
   "display_name": "base",
   "language": "python",
   "name": "python3"
  },
  "language_info": {
   "codemirror_mode": {
    "name": "ipython",
    "version": 3
   },
   "file_extension": ".py",
   "mimetype": "text/x-python",
   "name": "python",
   "nbconvert_exporter": "python",
   "pygments_lexer": "ipython3",
   "version": "3.9.12"
  },
  "orig_nbformat": 4
 },
 "nbformat": 4,
 "nbformat_minor": 2
}
