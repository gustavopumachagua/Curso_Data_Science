{
 "cells": [
  {
   "attachments": {},
   "cell_type": "markdown",
   "metadata": {},
   "source": [
    "# **Numpy: Agregación y Ejes de Arrays (arreglos) para Procesar Datos**"
   ]
  },
  {
   "attachments": {},
   "cell_type": "markdown",
   "metadata": {},
   "source": [
    "## **1. Introducción a los Ejes y Funciones de Agregación**"
   ]
  },
  {
   "attachments": {},
   "cell_type": "markdown",
   "metadata": {},
   "source": [
    "En NumPy, un eje es una dimensión de un arreglo. Para entender mejor los ejes, es útil pensar en un arreglo multidimensional como una tabla con filas y columnas. Las filas corresponden a la primera dimensión del arreglo y las columnas corresponden a la segunda dimensión. En general, un arreglo multidimensional puede tener cualquier número de dimensiones, y cada dimensión se puede considerar como un eje.\n",
    "\n",
    "Las funciones de agregación en NumPy son funciones que realizan cálculos estadísticos sobre los elementos de un arreglo. Estas funciones se pueden aplicar a lo largo de uno o más ejes del arreglo. Algunas de las funciones de agregación más comunes en NumPy son:\n",
    "\n",
    "* ```np.sum```: devuelve la suma de los elementos del arreglo.\n",
    "* ```np.mean```: devuelve la media de los elementos del arreglo.\n",
    "* ```np.min```: devuelve el valor mínimo del arreglo.\n",
    "* ```np.max```: devuelve el valor máximo del arreglo.\n",
    "* ```np.std```: devuelve la desviación estándar de los elementos del arreglo.\n",
    "* ```np.var```: devuelve la varianza de los elementos del arreglo.\n",
    "\n",
    "A continuación, se presenta un ejemplo de cómo utilizar una función de agregación en un arreglo de NumPy:"
   ]
  },
  {
   "cell_type": "code",
   "execution_count": 1,
   "metadata": {},
   "outputs": [
    {
     "name": "stdout",
     "output_type": "stream",
     "text": [
      "Arreglo original:\n",
      "[[0.73615368 0.62229674 0.45658851 0.58552952]\n",
      " [0.52972521 0.25585434 0.79123348 0.25296694]\n",
      " [0.70564113 0.0075333  0.82004938 0.88069038]]\n",
      "Suma de los elementos de cada fila:\n",
      "[2.40056845 1.82977998 2.41391418]\n",
      "Valor mínimo de cada columna:\n",
      "[0.52972521 0.0075333  0.45658851 0.25296694]\n"
     ]
    }
   ],
   "source": [
    "import numpy as np\n",
    "\n",
    "# Crear un arreglo de 2 dimensiones con valores aleatorios\n",
    "a = np.random.rand(3, 4)\n",
    "print(\"Arreglo original:\")\n",
    "print(a)\n",
    "\n",
    "# Calcular la suma de los elementos de cada fila del arreglo\n",
    "suma_filas = np.sum(a, axis=1)\n",
    "print(\"Suma de los elementos de cada fila:\")\n",
    "print(suma_filas)\n",
    "\n",
    "# Calcular el valor mínimo de cada columna del arreglo\n",
    "min_columnas = np.min(a, axis=0)\n",
    "print(\"Valor mínimo de cada columna:\")\n",
    "print(min_columnas)\n"
   ]
  },
  {
   "attachments": {},
   "cell_type": "markdown",
   "metadata": {},
   "source": [
    "## **2. Función de agregación: min, max, argmin, argmax, sum y mean**"
   ]
  },
  {
   "cell_type": "code",
   "execution_count": 2,
   "metadata": {},
   "outputs": [
    {
     "name": "stdout",
     "output_type": "stream",
     "text": [
      "Arreglo original:\n",
      "[2 5 3 9 1]\n",
      "Valor mínimo del arreglo: 1\n",
      "Índice del valor mínimo del arreglo: 4\n",
      "Suma de los elementos del arreglo: 20\n",
      "Media de los elementos del arreglo: 4.0\n",
      "Arreglo original:\n",
      "[[0.15056601 0.55452929 0.46656311 0.09629299]\n",
      " [0.88617478 0.40753904 0.4517544  0.5772329 ]\n",
      " [0.21478075 0.34922194 0.91469571 0.5980561 ]]\n",
      "Valor máximo de cada columna:\n",
      "[0.88617478 0.55452929 0.91469571 0.5980561 ]\n",
      "Índice del valor máximo de cada fila:\n",
      "[1 0 2]\n"
     ]
    }
   ],
   "source": [
    "import numpy as np\n",
    "\n",
    "# Crear un arreglo de 1 dimensión\n",
    "a = np.array([2, 5, 3, 9, 1])\n",
    "print(\"Arreglo original:\")\n",
    "print(a)\n",
    "\n",
    "# Calcular el valor mínimo del arreglo\n",
    "minimo = np.min(a)\n",
    "print(\"Valor mínimo del arreglo:\", minimo)\n",
    "\n",
    "# Calcular el índice del valor mínimo del arreglo\n",
    "indice_minimo = np.argmin(a)\n",
    "print(\"Índice del valor mínimo del arreglo:\", indice_minimo)\n",
    "\n",
    "# Calcular la suma de los elementos del arreglo\n",
    "suma = np.sum(a)\n",
    "print(\"Suma de los elementos del arreglo:\", suma)\n",
    "\n",
    "# Calcular la media de los elementos del arreglo\n",
    "media = np.mean(a)\n",
    "print(\"Media de los elementos del arreglo:\", media)\n",
    "\n",
    "# Crear un arreglo de 2 dimensiones con valores aleatorios\n",
    "b = np.random.rand(3, 4)\n",
    "print(\"Arreglo original:\")\n",
    "print(b)\n",
    "\n",
    "# Calcular el valor máximo de cada columna del arreglo\n",
    "maximo_columnas = np.max(b, axis=0)\n",
    "print(\"Valor máximo de cada columna:\")\n",
    "print(maximo_columnas)\n",
    "\n",
    "# Calcular el índice del valor máximo de cada fila del arreglo\n",
    "indice_maximo_filas = np.argmax(b, axis=1)\n",
    "print(\"Índice del valor máximo de cada fila:\")\n",
    "print(indice_maximo_filas)\n"
   ]
  },
  {
   "attachments": {},
   "cell_type": "markdown",
   "metadata": {},
   "source": [
    "## **3. Función de agregación por Eje (Axis)**"
   ]
  },
  {
   "cell_type": "code",
   "execution_count": 3,
   "metadata": {},
   "outputs": [
    {
     "name": "stdout",
     "output_type": "stream",
     "text": [
      "Arreglo original:\n",
      "[[7 4 7 4]\n",
      " [4 2 9 2]\n",
      " [3 7 6 6]]\n",
      "Valor máximo de cada fila:\n",
      "[7 9 7]\n",
      "Valor mínimo de cada columna:\n",
      "[3 2 6 2]\n",
      "Suma total de todos los elementos del arreglo: 61\n",
      "Media de cada fila:\n",
      "[5.5  4.25 5.5 ]\n"
     ]
    }
   ],
   "source": [
    "import numpy as np\n",
    "\n",
    "# Crear un arreglo de 2 dimensiones con valores aleatorios\n",
    "a = np.random.randint(1, 10, size=(3, 4))\n",
    "print(\"Arreglo original:\")\n",
    "print(a)\n",
    "\n",
    "# Calcular el valor máximo de cada fila del arreglo\n",
    "maximo_filas = np.max(a, axis=1)\n",
    "print(\"Valor máximo de cada fila:\")\n",
    "print(maximo_filas)\n",
    "\n",
    "# Calcular el valor mínimo de cada columna del arreglo\n",
    "minimo_columnas = np.min(a, axis=0)\n",
    "print(\"Valor mínimo de cada columna:\")\n",
    "print(minimo_columnas)\n",
    "\n",
    "# Calcular la suma de todos los elementos del arreglo\n",
    "suma_total = np.sum(a)\n",
    "print(\"Suma total de todos los elementos del arreglo:\", suma_total)\n",
    "\n",
    "# Calcular la media de cada fila del arreglo\n",
    "media_filas = np.mean(a, axis=1)\n",
    "print(\"Media de cada fila:\")\n",
    "print(media_filas)\n"
   ]
  }
 ],
 "metadata": {
  "kernelspec": {
   "display_name": "base",
   "language": "python",
   "name": "python3"
  },
  "language_info": {
   "codemirror_mode": {
    "name": "ipython",
    "version": 3
   },
   "file_extension": ".py",
   "mimetype": "text/x-python",
   "name": "python",
   "nbconvert_exporter": "python",
   "pygments_lexer": "ipython3",
   "version": "3.9.12"
  },
  "orig_nbformat": 4
 },
 "nbformat": 4,
 "nbformat_minor": 2
}
